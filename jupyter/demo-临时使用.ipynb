{
 "cells": [
  {
   "cell_type": "code",
   "execution_count": null,
   "metadata": {
    "ExecuteTime": {
     "end_time": "2020-09-24T01:25:15.076358Z",
     "start_time": "2020-09-24T01:25:13.200119Z"
    }
   },
   "outputs": [],
   "source": [
    "import mytools\n",
    "import pandas as pd\n",
    "import geopandas as gpd\n",
    "import matplotlib,re"
   ]
  },
  {
   "cell_type": "code",
   "execution_count": null,
   "metadata": {
    "ExecuteTime": {
     "end_time": "2020-09-24T01:28:00.903415Z",
     "start_time": "2020-09-24T01:25:15.085859Z"
    },
    "scrolled": false
   },
   "outputs": [],
   "source": [
    "data = pd.read_excel('G:/1-规划/1其他工作输出/20200921三种途径的mr数据/汇总.xlsx')"
   ]
  },
  {
   "cell_type": "code",
   "execution_count": null,
   "metadata": {
    "ExecuteTime": {
     "end_time": "2020-09-23T02:39:02.977255Z",
     "start_time": "2020-09-23T02:39:02.973754Z"
    }
   },
   "outputs": [],
   "source": [
    "f = mytools.othern.file_name_paths('C:/Users/Administrator/Desktop/区县/')"
   ]
  },
  {
   "cell_type": "code",
   "execution_count": null,
   "metadata": {
    "ExecuteTime": {
     "end_time": "2020-09-23T02:41:13.721857Z",
     "start_time": "2020-09-23T02:41:13.717357Z"
    }
   },
   "outputs": [],
   "source": [
    "f[0].split('/')[-1].split('.')[0]"
   ]
  },
  {
   "cell_type": "code",
   "execution_count": null,
   "metadata": {
    "ExecuteTime": {
     "end_time": "2020-09-23T02:45:48.634767Z",
     "start_time": "2020-09-23T02:41:29.786897Z"
    }
   },
   "outputs": [],
   "source": [
    "data_z = dict()\n",
    "for name in f:\n",
    "    try:\n",
    "        data_t = pd.read_excel(name)\n",
    "    except:\n",
    "        data_t = pd.read_csv(name,encoding='gbk')\n",
    "    data_z[name.split('/')[-1].split('.')[0]]=data_t"
   ]
  },
  {
   "cell_type": "code",
   "execution_count": null,
   "metadata": {
    "ExecuteTime": {
     "end_time": "2020-09-23T02:46:39.011164Z",
     "start_time": "2020-09-23T02:46:39.006163Z"
    }
   },
   "outputs": [],
   "source": [
    "data_z['1月'].columns"
   ]
  },
  {
   "cell_type": "code",
   "execution_count": null,
   "metadata": {
    "ExecuteTime": {
     "end_time": "2020-09-23T02:46:57.298486Z",
     "start_time": "2020-09-23T02:46:57.292985Z"
    }
   },
   "outputs": [],
   "source": [
    "data_z['3月'].columns"
   ]
  },
  {
   "cell_type": "code",
   "execution_count": null,
   "metadata": {
    "ExecuteTime": {
     "end_time": "2020-09-23T02:46:57.396498Z",
     "start_time": "2020-09-23T02:46:57.391998Z"
    }
   },
   "outputs": [],
   "source": [
    "data_z['4月'].columns"
   ]
  },
  {
   "cell_type": "code",
   "execution_count": null,
   "metadata": {
    "ExecuteTime": {
     "end_time": "2020-09-23T02:50:16.380266Z",
     "start_time": "2020-09-23T02:50:15.720682Z"
    }
   },
   "outputs": [],
   "source": [
    "data_z['4月'] = pd.read_csv('C:/Users/Administrator/Desktop/区县/4月.csv',encoding='gbk')"
   ]
  },
  {
   "cell_type": "code",
   "execution_count": null,
   "metadata": {
    "ExecuteTime": {
     "end_time": "2020-09-23T02:46:57.514013Z",
     "start_time": "2020-09-23T02:46:57.509013Z"
    }
   },
   "outputs": [],
   "source": [
    "data_z['5月'].columns"
   ]
  },
  {
   "cell_type": "code",
   "execution_count": null,
   "metadata": {
    "ExecuteTime": {
     "end_time": "2020-09-23T02:46:57.643030Z",
     "start_time": "2020-09-23T02:46:57.638029Z"
    }
   },
   "outputs": [],
   "source": [
    "data_z['6月'].columns"
   ]
  },
  {
   "cell_type": "code",
   "execution_count": null,
   "metadata": {
    "ExecuteTime": {
     "end_time": "2020-09-23T02:46:57.797549Z",
     "start_time": "2020-09-23T02:46:57.791549Z"
    }
   },
   "outputs": [],
   "source": [
    "data_z['7月'].columns"
   ]
  },
  {
   "cell_type": "code",
   "execution_count": null,
   "metadata": {
    "ExecuteTime": {
     "end_time": "2020-09-23T02:46:57.951569Z",
     "start_time": "2020-09-23T02:46:57.946068Z"
    }
   },
   "outputs": [],
   "source": [
    "data_z['8月'].columns"
   ]
  },
  {
   "cell_type": "code",
   "execution_count": null,
   "metadata": {
    "ExecuteTime": {
     "end_time": "2020-09-23T02:53:10.549883Z",
     "start_time": "2020-09-23T02:53:10.505877Z"
    }
   },
   "outputs": [],
   "source": [
    "data = data_z['4月'].loc[data_z['4月']['区县']=='东新']\n",
    "data1 = data.pivot_table(values=['rsrp_sample_count', 'rsrp_weak'],index='区县',aggfunc='sum')\n",
    "data1['fgl'] = 1-data1['rsrp_weak']/data1['rsrp_sample_count']\n",
    "data1"
   ]
  },
  {
   "cell_type": "code",
   "execution_count": null,
   "metadata": {
    "ExecuteTime": {
     "end_time": "2020-09-23T02:55:07.048176Z",
     "start_time": "2020-09-23T02:55:06.985668Z"
    }
   },
   "outputs": [],
   "source": [
    "riqi='4月'\n",
    "data = data_z[riqi].loc[data_z[riqi]['区县']=='东新']\n",
    "data1 = data.pivot_table(values=['rsrp_sample_count', 'rsrp_weak'],index='区县',aggfunc='sum')\n",
    "data1['fgl'] = 1-data1['rsrp_weak']/data1['rsrp_sample_count']\n",
    "data1.to_clipboard()"
   ]
  },
  {
   "cell_type": "code",
   "execution_count": null,
   "metadata": {
    "ExecuteTime": {
     "end_time": "2020-09-23T02:55:19.576267Z",
     "start_time": "2020-09-23T02:55:19.531261Z"
    }
   },
   "outputs": [],
   "source": [
    "riqi='5月'\n",
    "data = data_z[riqi].loc[data_z[riqi]['区县']=='东新']\n",
    "data1 = data.pivot_table(values=['rsrp_sample_count', 'rsrp_weak'],index='区县',aggfunc='sum')\n",
    "data1['fgl'] = 1-data1['rsrp_weak']/data1['rsrp_sample_count']\n",
    "data1.to_clipboard()"
   ]
  },
  {
   "cell_type": "code",
   "execution_count": null,
   "metadata": {
    "ExecuteTime": {
     "end_time": "2020-09-23T02:55:23.321743Z",
     "start_time": "2020-09-23T02:55:23.276737Z"
    }
   },
   "outputs": [],
   "source": [
    "riqi='6月'\n",
    "data = data_z[riqi].loc[data_z[riqi]['区县']=='东新']\n",
    "data1 = data.pivot_table(values=['rsrp_sample_count', 'rsrp_weak'],index='区县',aggfunc='sum')\n",
    "data1['fgl'] = 1-data1['rsrp_weak']/data1['rsrp_sample_count']\n",
    "data1.to_clipboard()"
   ]
  },
  {
   "cell_type": "code",
   "execution_count": null,
   "metadata": {
    "ExecuteTime": {
     "end_time": "2020-09-23T03:33:58.444726Z",
     "start_time": "2020-09-23T03:33:58.396720Z"
    }
   },
   "outputs": [],
   "source": [
    "riqi='7月'\n",
    "data = data_z[riqi].loc[data_z[riqi]['区县']=='东新']\n",
    "data1 = data.pivot_table(values=['rsrp_sample_count', 'rsrp_weak'],index='区县',aggfunc='sum')\n",
    "data1['fgl'] = 1-data1['rsrp_weak']/data1['rsrp_sample_count']\n",
    "data1.to_clipboard()"
   ]
  },
  {
   "cell_type": "code",
   "execution_count": null,
   "metadata": {
    "ExecuteTime": {
     "end_time": "2020-09-23T02:55:31.133235Z",
     "start_time": "2020-09-23T02:55:31.086229Z"
    }
   },
   "outputs": [],
   "source": [
    "riqi='8月'\n",
    "data = data_z[riqi].loc[data_z[riqi]['区县']=='东新']\n",
    "data1 = data.pivot_table(values=['rsrp_sample_count', 'rsrp_weak'],index='区县',aggfunc='sum')\n",
    "data1['fgl'] = 1-data1['rsrp_weak']/data1['rsrp_sample_count']\n",
    "data1.to_clipboard()"
   ]
  },
  {
   "cell_type": "code",
   "execution_count": null,
   "metadata": {
    "ExecuteTime": {
     "end_time": "2020-09-23T03:34:47.284928Z",
     "start_time": "2020-09-23T03:34:47.017394Z"
    }
   },
   "outputs": [],
   "source": [
    "data.to_clipboard()"
   ]
  },
  {
   "cell_type": "code",
   "execution_count": null,
   "metadata": {
    "ExecuteTime": {
     "end_time": "2020-09-24T01:28:21.251499Z",
     "start_time": "2020-09-24T01:28:13.276486Z"
    }
   },
   "outputs": [],
   "source": [
    "congcan = pd.read_csv('G:/1-规划/评估/软采评估/2020年9月/1-基础数据/基站数据库/ltejizhan20200903.csv',encoding='gbk')"
   ]
  },
  {
   "cell_type": "code",
   "execution_count": null,
   "metadata": {
    "ExecuteTime": {
     "end_time": "2020-09-24T01:28:21.477528Z",
     "start_time": "2020-09-24T01:28:21.466526Z"
    }
   },
   "outputs": [],
   "source": [
    "congcan.columns"
   ]
  },
  {
   "cell_type": "code",
   "execution_count": null,
   "metadata": {
    "ExecuteTime": {
     "end_time": "2020-09-24T01:28:21.967590Z",
     "start_time": "2020-09-24T01:28:21.681553Z"
    }
   },
   "outputs": [],
   "source": [
    "congcan_use = congcan.loc[congcan['RRU经度']>0][['小区CGI(*)', 'RRU经度', 'RRU纬度']]"
   ]
  },
  {
   "cell_type": "code",
   "execution_count": null,
   "metadata": {
    "ExecuteTime": {
     "end_time": "2020-09-24T01:28:22.199119Z",
     "start_time": "2020-09-24T01:28:22.196119Z"
    }
   },
   "outputs": [],
   "source": [
    "data = congcan_use.head(12)"
   ]
  },
  {
   "cell_type": "code",
   "execution_count": null,
   "metadata": {
    "ExecuteTime": {
     "end_time": "2020-09-24T01:28:35.752840Z",
     "start_time": "2020-09-24T01:28:35.747840Z"
    }
   },
   "outputs": [],
   "source": [
    "data['方位角'] = 0"
   ]
  },
  {
   "cell_type": "code",
   "execution_count": null,
   "metadata": {
    "ExecuteTime": {
     "end_time": "2020-09-24T01:33:45.411162Z",
     "start_time": "2020-09-24T01:33:45.386659Z"
    }
   },
   "outputs": [],
   "source": [
    "data_buffer = mytools.gisn.add_sectors(data,coords=['RRU经度', 'RRU纬度', 'd_height', '方位角', 'd_radius'],\n",
    "    has_z=False,\n",
    "    sec_col='geometry',\n",
    "    shape_dict={'radius': 100,'beam': 120, 'per_degree': 10})\n"
   ]
  },
  {
   "cell_type": "code",
   "execution_count": null,
   "metadata": {
    "ExecuteTime": {
     "end_time": "2020-09-24T01:33:47.428418Z",
     "start_time": "2020-09-24T01:33:47.423917Z"
    }
   },
   "outputs": [],
   "source": [
    "data_buffer=data_buffer.reset_index()"
   ]
  },
  {
   "cell_type": "code",
   "execution_count": null,
   "metadata": {
    "ExecuteTime": {
     "end_time": "2020-09-24T01:33:47.728456Z",
     "start_time": "2020-09-24T01:33:47.710954Z"
    }
   },
   "outputs": [],
   "source": [
    "data_buffer"
   ]
  },
  {
   "cell_type": "code",
   "execution_count": null,
   "metadata": {},
   "outputs": [],
   "source": [
    "data_buffer.plot()"
   ]
  },
  {
   "cell_type": "code",
   "execution_count": null,
   "metadata": {
    "ExecuteTime": {
     "end_time": "2020-09-24T01:39:46.052457Z",
     "start_time": "2020-09-24T01:39:45.834430Z"
    }
   },
   "outputs": [],
   "source": [
    "data_buffer.head(1).plot(figsize=[12,12],color ='#6495ED')"
   ]
  },
  {
   "cell_type": "code",
   "execution_count": null,
   "metadata": {
    "ExecuteTime": {
     "end_time": "2020-09-24T01:30:45.883865Z",
     "start_time": "2020-09-24T01:30:45.879364Z"
    }
   },
   "outputs": [],
   "source": [
    "data_buffer['geometry'][1]"
   ]
  },
  {
   "cell_type": "code",
   "execution_count": null,
   "metadata": {
    "ExecuteTime": {
     "end_time": "2020-09-24T01:29:27.978472Z",
     "start_time": "2020-09-24T01:29:27.968471Z"
    }
   },
   "outputs": [],
   "source": [
    "data"
   ]
  },
  {
   "cell_type": "code",
   "execution_count": null,
   "metadata": {},
   "outputs": [],
   "source": []
  },
  {
   "cell_type": "code",
   "execution_count": null,
   "metadata": {},
   "outputs": [],
   "source": []
  },
  {
   "cell_type": "code",
   "execution_count": null,
   "metadata": {},
   "outputs": [],
   "source": []
  },
  {
   "cell_type": "code",
   "execution_count": null,
   "metadata": {
    "ExecuteTime": {
     "end_time": "2020-09-23T03:41:52.796961Z",
     "start_time": "2020-09-23T03:41:50.880718Z"
    }
   },
   "outputs": [],
   "source": [
    "congcan_use.to_clipboard()"
   ]
  },
  {
   "cell_type": "code",
   "execution_count": null,
   "metadata": {
    "ExecuteTime": {
     "end_time": "2020-09-22T10:26:24.712859Z",
     "start_time": "2020-09-22T10:26:24.509833Z"
    }
   },
   "outputs": [],
   "source": [
    "res = data.pivot_table(values=['移动总点','移动弱点'],index=['类型','地市'],aggfunc='sum')"
   ]
  },
  {
   "cell_type": "code",
   "execution_count": null,
   "metadata": {
    "ExecuteTime": {
     "end_time": "2020-09-22T10:27:00.269874Z",
     "start_time": "2020-09-22T10:27:00.216867Z"
    }
   },
   "outputs": [],
   "source": [
    "res['fgl'] = 1- res['移动弱点']/res['移动总点']"
   ]
  },
  {
   "cell_type": "code",
   "execution_count": null,
   "metadata": {
    "ExecuteTime": {
     "end_time": "2020-09-22T10:44:58.215756Z",
     "start_time": "2020-09-22T10:44:58.199254Z"
    }
   },
   "outputs": [],
   "source": [
    "res.pivot_table(values=['移动总点','移动弱点'],index='类型',aggfunc='sum')"
   ]
  },
  {
   "cell_type": "code",
   "execution_count": null,
   "metadata": {
    "ExecuteTime": {
     "end_time": "2020-09-22T10:27:54.696285Z",
     "start_time": "2020-09-22T10:27:54.690784Z"
    }
   },
   "outputs": [],
   "source": [
    "res = res.reset_index()"
   ]
  },
  {
   "cell_type": "code",
   "execution_count": null,
   "metadata": {
    "ExecuteTime": {
     "end_time": "2020-09-22T10:28:33.298187Z",
     "start_time": "2020-09-22T10:28:33.287686Z"
    }
   },
   "outputs": [],
   "source": [
    "res.head(1)"
   ]
  },
  {
   "cell_type": "code",
   "execution_count": null,
   "metadata": {
    "ExecuteTime": {
     "end_time": "2020-09-22T10:28:58.023327Z",
     "start_time": "2020-09-22T10:28:58.016826Z"
    }
   },
   "outputs": [],
   "source": [
    "res2 = res.pivot(values='fgl',columns='类型',index='地市')"
   ]
  },
  {
   "cell_type": "code",
   "execution_count": null,
   "metadata": {
    "ExecuteTime": {
     "end_time": "2020-09-22T10:29:42.954532Z",
     "start_time": "2020-09-22T10:29:42.951032Z"
    }
   },
   "outputs": [],
   "source": [
    "res3 = res2.reset_index()"
   ]
  },
  {
   "cell_type": "code",
   "execution_count": null,
   "metadata": {
    "ExecuteTime": {
     "end_time": "2020-09-22T10:43:32.062316Z",
     "start_time": "2020-09-22T10:43:32.027811Z"
    }
   },
   "outputs": [],
   "source": [
    "res3.to_clipboard(index=False)"
   ]
  },
  {
   "cell_type": "code",
   "execution_count": null,
   "metadata": {},
   "outputs": [],
   "source": [
    "data.groupby('').agg({'':'sum','':'sum','':'sum','':'','':'','':'','':'',})"
   ]
  },
  {
   "cell_type": "code",
   "execution_count": null,
   "metadata": {},
   "outputs": [],
   "source": []
  },
  {
   "cell_type": "code",
   "execution_count": null,
   "metadata": {},
   "outputs": [],
   "source": []
  },
  {
   "cell_type": "code",
   "execution_count": null,
   "metadata": {},
   "outputs": [],
   "source": []
  },
  {
   "cell_type": "code",
   "execution_count": null,
   "metadata": {},
   "outputs": [],
   "source": []
  },
  {
   "cell_type": "code",
   "execution_count": null,
   "metadata": {
    "ExecuteTime": {
     "end_time": "2020-09-13T02:05:23.250962Z",
     "start_time": "2020-09-13T02:05:22.486865Z"
    }
   },
   "outputs": [],
   "source": [
    "kongd = pd.read_pickle(f )"
   ]
  },
  {
   "cell_type": "code",
   "execution_count": null,
   "metadata": {
    "ExecuteTime": {
     "end_time": "2020-09-13T02:05:27.572511Z",
     "start_time": "2020-09-13T02:05:27.551508Z"
    }
   },
   "outputs": [],
   "source": [
    "kongd.head(1)"
   ]
  },
  {
   "cell_type": "code",
   "execution_count": null,
   "metadata": {
    "ExecuteTime": {
     "end_time": "2020-09-13T02:06:15.338576Z",
     "start_time": "2020-09-13T02:06:15.291570Z"
    }
   },
   "outputs": [],
   "source": [
    "wen_juli = mytools.gisn.changjing_distance(wen,'区域类型', '工作频段' )"
   ]
  },
  {
   "cell_type": "code",
   "execution_count": null,
   "metadata": {
    "ExecuteTime": {
     "end_time": "2020-09-13T02:07:42.471141Z",
     "start_time": "2020-09-13T02:07:15.068161Z"
    }
   },
   "outputs": [],
   "source": [
    "wen_s = mytools.gisn.add_sectors_df(wen_juli,coords=['lon', 'lat', 'd_height', '方位角', 'distance'],\n",
    "    has_z=False,\n",
    "    sec_col='geometry',\n",
    "    shape_dict={'beam': 120, 'per_degree': 10})"
   ]
  },
  {
   "cell_type": "code",
   "execution_count": null,
   "metadata": {
    "ExecuteTime": {
     "end_time": "2020-09-13T02:07:48.456901Z",
     "start_time": "2020-09-13T02:07:42.619160Z"
    }
   },
   "outputs": [],
   "source": [
    "res = gpd.sjoin(wen_s,kongd)"
   ]
  },
  {
   "cell_type": "code",
   "execution_count": null,
   "metadata": {
    "ExecuteTime": {
     "end_time": "2020-09-13T02:13:59.713044Z",
     "start_time": "2020-09-13T02:13:59.543023Z"
    }
   },
   "outputs": [],
   "source": [
    "res.drop(columns='geometry').to_clipboard()"
   ]
  },
  {
   "cell_type": "code",
   "execution_count": null,
   "metadata": {
    "ExecuteTime": {
     "end_time": "2020-09-13T02:06:03.498073Z",
     "start_time": "2020-09-13T02:06:03.493572Z"
    }
   },
   "outputs": [],
   "source": [
    "wen.columns"
   ]
  },
  {
   "cell_type": "code",
   "execution_count": null,
   "metadata": {
    "ExecuteTime": {
     "end_time": "2020-09-13T01:55:43.519346Z",
     "start_time": "2020-09-13T01:55:43.486341Z"
    }
   },
   "outputs": [],
   "source": [
    "data = pd.read_csv('G:/1-规划/1其他工作输出/20200911四轮十维新建任务清单/1-基础数据/5G反开3d的规划信息.csv',encoding='gbk')"
   ]
  },
  {
   "cell_type": "code",
   "execution_count": null,
   "metadata": {
    "ExecuteTime": {
     "end_time": "2020-09-13T01:56:02.541761Z",
     "start_time": "2020-09-13T01:56:02.469752Z"
    }
   },
   "outputs": [],
   "source": [
    "wen = pd.read_csv('G:/1-规划/1其他工作输出/20200911四轮十维新建任务清单/1-基础数据/2万多问题小区.csv',encoding='gbk')"
   ]
  },
  {
   "cell_type": "code",
   "execution_count": null,
   "metadata": {
    "ExecuteTime": {
     "end_time": "2020-09-13T01:57:02.558382Z",
     "start_time": "2020-09-13T01:57:00.646639Z"
    }
   },
   "outputs": [],
   "source": [
    "data_buffer = mytools.gisn.add_buffer(data,'经度','纬度',50)"
   ]
  },
  {
   "cell_type": "code",
   "execution_count": null,
   "metadata": {
    "ExecuteTime": {
     "end_time": "2020-09-13T01:57:30.187891Z",
     "start_time": "2020-09-13T01:57:29.928358Z"
    }
   },
   "outputs": [],
   "source": [
    "wen_p = mytools.gisn.add_points(wen,'lon','lat')"
   ]
  },
  {
   "cell_type": "code",
   "execution_count": null,
   "metadata": {
    "ExecuteTime": {
     "end_time": "2020-09-13T01:57:52.169682Z",
     "start_time": "2020-09-13T01:57:49.931398Z"
    }
   },
   "outputs": [],
   "source": [
    "res = gpd.sjoin(data_buffer,wen_p)"
   ]
  },
  {
   "cell_type": "code",
   "execution_count": null,
   "metadata": {
    "ExecuteTime": {
     "end_time": "2020-09-13T01:58:26.190002Z",
     "start_time": "2020-09-13T01:58:26.120493Z"
    }
   },
   "outputs": [],
   "source": [
    "res.drop(columns = 'geometry').to_clipboard()"
   ]
  },
  {
   "cell_type": "code",
   "execution_count": null,
   "metadata": {
    "ExecuteTime": {
     "end_time": "2020-09-09T07:31:17.927726Z",
     "start_time": "2020-09-09T07:31:03.205357Z"
    }
   },
   "outputs": [],
   "source": [
    "gongcan = pd.read_csv('g:/1-规划/工参/工参数据/ltejizhan20200807.csv',encoding='gbk')"
   ]
  },
  {
   "cell_type": "code",
   "execution_count": null,
   "metadata": {
    "ExecuteTime": {
     "end_time": "2020-09-09T07:31:18.395786Z",
     "start_time": "2020-09-09T07:31:18.375783Z"
    }
   },
   "outputs": [],
   "source": [
    "gongcan.columns"
   ]
  },
  {
   "cell_type": "code",
   "execution_count": null,
   "metadata": {
    "ExecuteTime": {
     "end_time": "2020-09-09T07:31:18.466795Z",
     "start_time": "2020-09-09T07:31:18.400286Z"
    }
   },
   "outputs": [],
   "source": [
    "gongcan_use = gongcan[['小区CGI(*)','小区中文名','厂家名称']]"
   ]
  },
  {
   "cell_type": "code",
   "execution_count": null,
   "metadata": {
    "ExecuteTime": {
     "end_time": "2020-09-09T07:31:20.443046Z",
     "start_time": "2020-09-09T07:31:19.438918Z"
    }
   },
   "outputs": [],
   "source": [
    "data_use = data.merge(gongcan_use,how='left',on='小区CGI(*)')"
   ]
  },
  {
   "cell_type": "code",
   "execution_count": null,
   "metadata": {
    "ExecuteTime": {
     "end_time": "2020-09-09T07:31:21.310156Z",
     "start_time": "2020-09-09T07:31:21.301155Z"
    }
   },
   "outputs": [],
   "source": [
    "data_use.columns"
   ]
  },
  {
   "cell_type": "code",
   "execution_count": null,
   "metadata": {
    "ExecuteTime": {
     "end_time": "2020-09-09T07:31:22.512309Z",
     "start_time": "2020-09-09T07:31:22.207270Z"
    }
   },
   "outputs": [],
   "source": [
    "data_use = data_use[['小区CGI(*)', '地市', '区县', '厂家名称', '小区中文名','rsrp_sample_count', 'rsrp_weak','fgl_cmcc']]"
   ]
  },
  {
   "cell_type": "code",
   "execution_count": null,
   "metadata": {
    "ExecuteTime": {
     "end_time": "2020-09-09T07:31:22.989369Z",
     "start_time": "2020-09-09T07:31:22.983368Z"
    }
   },
   "outputs": [],
   "source": [
    "data_use.columns = ['cgi', '所属地区', '归属区县', '厂家名称', '小区中文名','总点', '弱点','覆盖率']"
   ]
  },
  {
   "cell_type": "code",
   "execution_count": null,
   "metadata": {
    "ExecuteTime": {
     "end_time": "2020-09-09T07:31:30.557330Z",
     "start_time": "2020-09-09T07:31:23.497434Z"
    }
   },
   "outputs": [],
   "source": [
    "import os\n",
    "\n",
    "for name,data_t in data_use.groupby('所属地区'):\n",
    "    if not os.path.exists('e:/mrjc/'+name):\n",
    "        os.makedirs('e:/mrjc/'+name)\n",
    "    for name2,data_t2 in data_t.groupby('归属区县'):\n",
    "        data_t2.to_csv('e:/mrjc/'+name+'/'+name2+'.csv',encoding='gbk',index=False)\n",
    "        "
   ]
  },
  {
   "cell_type": "code",
   "execution_count": null,
   "metadata": {
    "ExecuteTime": {
     "end_time": "2020-09-09T07:31:36.757618Z",
     "start_time": "2020-09-09T07:31:31.065895Z"
    }
   },
   "outputs": [],
   "source": [
    "data_use.to_csv('e:/mrjc/各地市MR指标.csv',encoding='gbk',index=False)"
   ]
  },
  {
   "cell_type": "code",
   "execution_count": null,
   "metadata": {},
   "outputs": [],
   "source": []
  },
  {
   "cell_type": "code",
   "execution_count": null,
   "metadata": {},
   "outputs": [],
   "source": []
  },
  {
   "cell_type": "code",
   "execution_count": null,
   "metadata": {
    "ExecuteTime": {
     "end_time": "2020-09-09T14:56:30.845633Z",
     "start_time": "2020-09-09T14:56:30.769123Z"
    }
   },
   "outputs": [],
   "source": [
    "data = pd.read_clipboard()"
   ]
  },
  {
   "cell_type": "code",
   "execution_count": null,
   "metadata": {
    "ExecuteTime": {
     "end_time": "2020-09-09T14:56:31.698741Z",
     "start_time": "2020-09-09T14:56:31.678738Z"
    }
   },
   "outputs": [],
   "source": [
    "data.head(1)"
   ]
  },
  {
   "cell_type": "code",
   "execution_count": null,
   "metadata": {
    "ExecuteTime": {
     "end_time": "2020-09-09T14:56:37.146433Z",
     "start_time": "2020-09-09T14:56:36.880899Z"
    }
   },
   "outputs": [],
   "source": [
    "cityv = mytools.gisn.maps('地市区县')"
   ]
  },
  {
   "cell_type": "code",
   "execution_count": null,
   "metadata": {
    "ExecuteTime": {
     "end_time": "2020-09-09T14:56:40.989921Z",
     "start_time": "2020-09-09T14:56:40.986420Z"
    }
   },
   "outputs": [],
   "source": [
    "cityv.columns = ['city1','区县','geometry']"
   ]
  },
  {
   "cell_type": "code",
   "execution_count": null,
   "metadata": {
    "ExecuteTime": {
     "end_time": "2020-09-09T14:56:50.778664Z",
     "start_time": "2020-09-09T14:56:49.384487Z"
    }
   },
   "outputs": [],
   "source": [
    "res = mytools.gisn.points_coverage_merge(data,'经度','纬度',cityv,['city1','区县'])"
   ]
  },
  {
   "cell_type": "code",
   "execution_count": null,
   "metadata": {
    "ExecuteTime": {
     "end_time": "2020-09-09T14:56:53.222474Z",
     "start_time": "2020-09-09T14:56:53.112960Z"
    }
   },
   "outputs": [],
   "source": [
    "res.to_clipboard()"
   ]
  },
  {
   "cell_type": "code",
   "execution_count": null,
   "metadata": {
    "ExecuteTime": {
     "end_time": "2020-09-09T06:15:39.813959Z",
     "start_time": "2020-09-09T06:15:37.818706Z"
    }
   },
   "outputs": [],
   "source": [
    "hb_sx_city1 = pd.read_pickle('G:/1-规划/图层/水域/水域按照地市合并.data')"
   ]
  },
  {
   "cell_type": "code",
   "execution_count": null,
   "metadata": {},
   "outputs": [],
   "source": [
    "hb_sx_city1"
   ]
  },
  {
   "cell_type": "code",
   "execution_count": null,
   "metadata": {
    "ExecuteTime": {
     "end_time": "2020-09-03T10:45:08.438094Z",
     "start_time": "2020-09-03T10:45:08.425593Z"
    }
   },
   "outputs": [],
   "source": [
    "import kml2geojson"
   ]
  },
  {
   "cell_type": "code",
   "execution_count": null,
   "metadata": {},
   "outputs": [],
   "source": [
    "kml2geojson."
   ]
  },
  {
   "cell_type": "code",
   "execution_count": null,
   "metadata": {
    "ExecuteTime": {
     "end_time": "2020-09-02T02:34:01.148490Z",
     "start_time": "2020-09-02T02:34:01.145490Z"
    }
   },
   "outputs": [],
   "source": [
    "f = mytools.othern.file_name_paths('c:/Users/Administrator/Desktop/李祥峰/地市表/')\n",
    "\n",
    "tichu = pd.read_excel('c:/Users/Administrator/Desktop/李祥峰/剔除表.xlsx')\n",
    "\n",
    "for name in f:\n",
    "    data_t = pd.read_csv(name,encoding='gbk')\n",
    "    data_t = data_t.reset_index()\n",
    "    data_t = data_t.rename(columns={'index':'index_use'})\n",
    "    res = data_t.merge(tichu,how='left',on='NCGI',indicator=True)\n",
    "    res = res.drop_duplicates('index_use')\n",
    "    res = res.loc[res['_merge']=='left_only']\n",
    "    res.drop(columns=['index_use','_merge']).to_csv('c:/Users/Administrator/Desktop/李祥峰/结果/'+name.split('/')[-1],index=False)\n",
    "    print(name,f'共计{data_t.shape[0]}行，输出{res.shape[0]}行')"
   ]
  },
  {
   "cell_type": "code",
   "execution_count": null,
   "metadata": {},
   "outputs": [],
   "source": []
  },
  {
   "cell_type": "code",
   "execution_count": null,
   "metadata": {
    "ExecuteTime": {
     "end_time": "2020-08-27T06:58:30.363945Z",
     "start_time": "2020-08-27T06:58:30.359444Z"
    }
   },
   "outputs": [],
   "source": [
    "from shapely.geometry import Polygon,Point,LineString,MultiPolygon"
   ]
  },
  {
   "cell_type": "code",
   "execution_count": null,
   "metadata": {
    "ExecuteTime": {
     "end_time": "2020-08-29T03:22:17.066157Z",
     "start_time": "2020-08-29T03:22:16.952642Z"
    }
   },
   "outputs": [],
   "source": [
    "mx=pd.read_csv('c:/Users/Administrator/Desktop/天线/天线/F天线.txt',encoding='gbk',sep='\\t')\n",
    "\n",
    "a = mx['Pattern'][0]\n",
    "\n",
    "def fc(x):\n",
    "    a = x['Pattern']\n",
    "    b = a.split(' ')\n",
    "    name_o=1\n",
    "    go='第一次开始'\n",
    "    use_list =[]\n",
    "    use_dict =dict()\n",
    "    st=0\n",
    "    id_use = -1\n",
    "    for nu,name in enumerate(b):\n",
    "        if name =='':\n",
    "            go='重新开始'\n",
    "            st = 0\n",
    "        if (str(name_o) =='0') and (str(name) == '360')and (go=='第一次开始'):\n",
    "            st=1\n",
    "        elif (str(name_o) =='0') and (str(name) == '360')and (go=='重新开始'):\n",
    "            st=1\n",
    "            id_use=-1\n",
    "        if st==1:\n",
    "            if nu%2==1:\n",
    "                use_list.append(str(id_use)+'_'+str(name))\n",
    "                id_use = id_use +1\n",
    "        name_o = name\n",
    "    return use_list\n",
    "\n",
    "mx['fw_list']=mx.apply(fc,axis=1)\n",
    "\n",
    "linshi = pd.DataFrame(mx['fw_list'][0])[0].str.split('_',expand=True)\n",
    "\n",
    "linshi.columns=['角度','电平']\n",
    "\n",
    "linshi2 = linshi.T\n",
    "\n",
    "import matplotlib.pyplot as plt\n",
    "\n",
    "data_use = linshi.iloc[1:361]\n",
    "\n",
    "jiaodu = list(data_use['角度'])\n",
    "\n",
    "dianping = list(data_use['电平'])"
   ]
  },
  {
   "cell_type": "code",
   "execution_count": null,
   "metadata": {},
   "outputs": [],
   "source": []
  },
  {
   "cell_type": "code",
   "execution_count": null,
   "metadata": {},
   "outputs": [],
   "source": []
  },
  {
   "cell_type": "code",
   "execution_count": null,
   "metadata": {
    "ExecuteTime": {
     "end_time": "2020-08-29T03:13:43.804481Z",
     "start_time": "2020-08-29T03:13:43.520445Z"
    }
   },
   "outputs": [],
   "source": [
    "#第1步：导出模块\n",
    "import numpy as np\n",
    "import matplotlib.pyplot as plt\n",
    "from matplotlib import font_manager # 中文字体设置第1步，导出模块\n",
    "\n",
    "#导出模块\n",
    "import pandas as pd\n",
    "import numpy as np\n",
    "import matplotlib.pyplot as plt\n",
    "\n",
    "labels=linshi2.columns.values #特征值\n",
    "kinds = list(linshi2.index) #成员变量\n",
    "result = pd.concat([linshi2, linshi2[[labels[0]]]], axis=1) # 由于在雷达图中，\n",
    "centers = np.array(linshi2.iloc[:,:])\n",
    "\n",
    "n = len(labels)\n",
    "angle = np.linspace(0, 2 * np.pi, n, endpoint=False)# 设置雷达图的角度,用于平分切开一个圆面\n",
    "angle = np.concatenate((angle, [angle[0]]))#为了使雷达图一圈封闭起来,需要下面的步骤\n",
    "\n",
    "fig = plt.figure()\n",
    "ax = fig.add_subplot(111, polar=True) # 参数polar, 以极坐标的形式绘制图"
   ]
  },
  {
   "cell_type": "code",
   "execution_count": null,
   "metadata": {
    "ExecuteTime": {
     "end_time": "2020-08-28T11:20:42.053957Z",
     "start_time": "2020-08-28T11:20:41.601899Z"
    }
   },
   "outputs": [],
   "source": [
    "fig = plt.figure(2)                                #新开一个窗口\n",
    "ax1 = fig.add_subplot(111,polar=True)                  #启动一个极坐标子图\n",
    "ax1.set_thetagrids(np.arange(0.0, 360.0, 10.0)) # 用于设置极坐标角度网格线显示\n",
    "ax1.set_theta_zero_location('N') # 用于设置极坐标0°位置,其值可为'N','NW','W','SW','S','SE','E','NE'\n",
    "ax1.set_theta_direction(-1) # 用于设置极坐标的正方向，参数为-1时为顺时针方向；反之。\n",
    "\n",
    "theta=np.arange(0,2*np.pi,0.02)              #角度数列值\n",
    "ax1.plot(jiaodu[1:12],dianping[1:12],lw=2)   #画图，参数：角度，半径，lw线宽\n",
    "# ax1.plot(list(range(0,len(dianping))),dianping,linestyle='--',lw=2)           #画图，参数：角度，半径，linestyle样式，lw线宽\n",
    "plt.show()"
   ]
  },
  {
   "cell_type": "code",
   "execution_count": null,
   "metadata": {
    "ExecuteTime": {
     "end_time": "2020-08-29T03:13:50.719359Z",
     "start_time": "2020-08-29T03:13:50.179290Z"
    }
   },
   "outputs": [],
   "source": [
    "theta = np.arange(0, 2*np.pi, 0.02)\n",
    "phi0 = 2\n",
    "k = 1\n",
    "\n",
    "ax = plt.subplot(111,polar=True)\n",
    "ax.set_thetagrids(np.arange(0.0, 360.0, 10.0)) # 用于设置极坐标角度网格线显示\n",
    "ax.set_theta_zero_location('N') # 用于设置极坐标0°位置,其值可为'N','NW','W','SW','S','SE','E','NE'\n",
    "ax.set_theta_direction(-1) # 用于设置极坐标的正方向，参数为-1时为顺时针方向；反之。\n",
    "\n",
    "plt.plot(theta, np.sqrt(np.square(np.cos(theta))+2*k*np.cos(phi0)*np.cos(theta)+np.square(k)),  color=[1,0 ,0], lw=2)\n",
    "# plt.title(\"k=\"+str(k)+\",phi0=\"+str(phi0), y=-0.15, fontsize=18)\n",
    "# plt.savefig(\"k=\"+str(k)+\" with phi0=\"+str(phi0)+'.png')\n",
    "plt.show()"
   ]
  },
  {
   "cell_type": "code",
   "execution_count": null,
   "metadata": {
    "ExecuteTime": {
     "end_time": "2020-08-28T11:21:13.125902Z",
     "start_time": "2020-08-28T11:21:12.656843Z"
    }
   },
   "outputs": [],
   "source": [
    "import numpy as np\n",
    "import matplotlib.pyplot as plt\n",
    "\n",
    "theta = np.arange(0, 2*np.pi, 0.02)\n",
    "d_lambda = 10\n",
    "\n",
    "ax = plt.subplot(111,polar=True)\n",
    "ax.set_thetagrids(np.arange(0.0, 360.0, 10.0)) # 用于设置极坐标角度网格线显示\n",
    "ax.set_theta_zero_location('N')  # 用于设置极坐标0°位置,其值可为'N','NW','W','SW','S','SE','E','NE'\n",
    "ax.set_theta_direction(-1)  # 用于设置极坐标的正方向，参数为-1时为顺时针方向；反之。\n",
    "plt.plot(theta, np.abs(np.sin(d_lambda*np.pi*np.cos(theta))),  color=[1,0 ,0], lw=2)\n",
    "plt.title(\"d_lambda=\"+str(d_lambda), y=-0.15, fontsize=18)\n",
    "# plt.savefig('d_lambda='+str(d_lambda)+'.png')\n",
    "plt.show()"
   ]
  },
  {
   "cell_type": "code",
   "execution_count": null,
   "metadata": {
    "ExecuteTime": {
     "end_time": "2020-08-27T12:50:28.463103Z",
     "start_time": "2020-08-27T12:50:28.457602Z"
    }
   },
   "outputs": [],
   "source": [
    "aaa = data_use['电平'][:315]"
   ]
  },
  {
   "cell_type": "code",
   "execution_count": null,
   "metadata": {
    "ExecuteTime": {
     "end_time": "2020-08-28T11:22:19.756864Z",
     "start_time": "2020-08-28T11:22:14.960754Z"
    }
   },
   "outputs": [],
   "source": [
    "import numpy as np\n",
    "import matplotlib.pyplot as plt\n",
    "\n",
    "theta = np.arange(0, 2*np.pi, 0.02)\n",
    "phi0 = 1\n",
    "k = 1\n",
    "\n",
    "ax = plt.subplot(111,polar=True)\n",
    "ax.set_thetagrids(np.arange(0.0, 360.0, 10.0)) # 用于设置极坐标角度网格线显示\n",
    "ax.set_theta_zero_location('N') # 用于设置极坐标0°位置,其值可为'N','NW','W','SW','S','SE','E','NE'\n",
    "ax.set_theta_direction(-1) # 用于设置极坐标的正方向，参数为-1时为顺时针方向；反之。\n",
    "plt.plot(theta, np.array(dianping[0:315]),  color=[1,0 ,0], lw=2)\n",
    "# plt.title(\"k=\"+str(k)+\",phi0=\"+str(phi0), y=-0.15, fontsize=18)\n",
    "# plt.savefig(\"k=\"+str(k)+\" with phi0=\"+str(phi0)+'.png')\n",
    "plt.show()"
   ]
  },
  {
   "cell_type": "code",
   "execution_count": null,
   "metadata": {
    "ExecuteTime": {
     "end_time": "2020-09-04T03:44:24.095742Z",
     "start_time": "2020-09-04T03:44:23.648685Z"
    },
    "scrolled": true
   },
   "outputs": [],
   "source": [
    "import numpy as np\n",
    "import matplotlib.pyplot as plt\n",
    "\n",
    "theta = np.arange(0, 2*np.pi, 0.02)\n",
    "r=np.cos(theta)\n",
    "plt.subplot(111,polar=True)\n",
    "plt.plot(theta, np.abs(np.cos(theta)), '--', lw=2)\n",
    "plt.plot(theta, np.abs(np.sin(0.5*np.pi*np.cos(theta))), lw=2)\n",
    "\n",
    "# plt.subplot(122,polar=True)\n",
    "# plt.plot(theta, np.abs(np.sin(0.6*np.pi*np.cos(theta))), '--', lw=2)\n",
    "# plt.plot(theta, np.abs(np.sin(0.51*np.pi*np.cos(theta))), lw=2)\n",
    "# plt.rgrids(np.arange(0.5,2,0.5),angle=45)\n",
    "# plt.thetagrids([0,45,90])\n",
    "plt.show()\n"
   ]
  },
  {
   "cell_type": "code",
   "execution_count": null,
   "metadata": {
    "ExecuteTime": {
     "end_time": "2020-08-28T13:07:06.412667Z",
     "start_time": "2020-08-28T13:07:06.256648Z"
    }
   },
   "outputs": [],
   "source": [
    "plt.subplot(221)"
   ]
  },
  {
   "cell_type": "code",
   "execution_count": null,
   "metadata": {
    "ExecuteTime": {
     "end_time": "2020-08-28T13:07:12.875488Z",
     "start_time": "2020-08-28T13:07:12.695465Z"
    }
   },
   "outputs": [],
   "source": [
    "# equivalent but more general\n",
    "ax1=plt.subplot(2, 2, 1)"
   ]
  },
  {
   "cell_type": "code",
   "execution_count": null,
   "metadata": {
    "ExecuteTime": {
     "end_time": "2020-08-28T13:07:41.642141Z",
     "start_time": "2020-08-28T13:07:41.494122Z"
    }
   },
   "outputs": [],
   "source": [
    "# add a subplot with no frame\n",
    "ax2=plt.subplot(222, frameon=False)"
   ]
  },
  {
   "cell_type": "code",
   "execution_count": null,
   "metadata": {
    "ExecuteTime": {
     "end_time": "2020-08-28T13:09:14.404420Z",
     "start_time": "2020-08-28T13:09:14.146388Z"
    }
   },
   "outputs": [],
   "source": [
    "plt.subplot(111,polar=True)"
   ]
  },
  {
   "cell_type": "code",
   "execution_count": null,
   "metadata": {
    "ExecuteTime": {
     "end_time": "2020-08-28T13:08:32.746130Z",
     "start_time": "2020-08-28T13:08:32.487097Z"
    }
   },
   "outputs": [],
   "source": [
    "# add a polar subplot\n",
    "plt.subplot(111, projection='polar')"
   ]
  },
  {
   "cell_type": "code",
   "execution_count": null,
   "metadata": {
    "ExecuteTime": {
     "end_time": "2020-08-28T13:08:01.111613Z",
     "start_time": "2020-08-28T13:08:00.946092Z"
    }
   },
   "outputs": [],
   "source": [
    "# add a red subplot that shares the x-axis with ax1\n",
    "plt.subplot(224, sharex=ax1, facecolor='red')"
   ]
  },
  {
   "cell_type": "code",
   "execution_count": null,
   "metadata": {
    "ExecuteTime": {
     "end_time": "2020-08-28T13:08:09.454173Z",
     "start_time": "2020-08-28T13:08:09.451672Z"
    }
   },
   "outputs": [],
   "source": [
    "# delete ax2 from the figure\n",
    "plt.delaxes(ax2)"
   ]
  },
  {
   "cell_type": "code",
   "execution_count": null,
   "metadata": {
    "ExecuteTime": {
     "end_time": "2020-08-28T13:12:45.806265Z",
     "start_time": "2020-08-28T13:12:45.802264Z"
    }
   },
   "outputs": [],
   "source": [
    "np.random.seed(19680801)"
   ]
  },
  {
   "cell_type": "code",
   "execution_count": null,
   "metadata": {
    "ExecuteTime": {
     "end_time": "2020-08-28T13:13:28.521689Z",
     "start_time": "2020-08-28T13:13:28.515688Z"
    }
   },
   "outputs": [],
   "source": [
    "np.linspace(0.0, 2 * np.pi, N, endpoint=False)"
   ]
  },
  {
   "cell_type": "code",
   "execution_count": null,
   "metadata": {
    "ExecuteTime": {
     "end_time": "2020-08-28T13:13:45.532849Z",
     "start_time": "2020-08-28T13:13:45.525348Z"
    }
   },
   "outputs": [],
   "source": [
    "np.random.rand(N)"
   ]
  },
  {
   "cell_type": "code",
   "execution_count": null,
   "metadata": {
    "ExecuteTime": {
     "end_time": "2020-08-28T13:14:41.024896Z",
     "start_time": "2020-08-28T13:14:41.019895Z"
    }
   },
   "outputs": [],
   "source": [
    "np.pi / 4 * np.random.rand(N)"
   ]
  },
  {
   "cell_type": "code",
   "execution_count": null,
   "metadata": {
    "ExecuteTime": {
     "end_time": "2020-08-28T13:15:45.599596Z",
     "start_time": "2020-08-28T13:15:45.319560Z"
    }
   },
   "outputs": [],
   "source": [
    "import numpy as np\n",
    "import matplotlib.pyplot as plt\n",
    "\n",
    "\n",
    "# Fixing random state for reproducibility\n",
    "np.random.seed(19680801)\n",
    "\n",
    "# Compute pie slices\n",
    "N = 20\n",
    "theta = np.linspace(0.0, 2 * np.pi, N, endpoint=False)\n",
    "radii = 10 * np.random.rand(N)\n",
    "width = np.pi / 4 * np.random.rand(N)\n",
    "colors = plt.cm.viridis(radii / 10.)\n",
    "\n",
    "ax = plt.subplot(111, projection='polar')\n",
    "ax.bar(theta, radii)\n",
    "\n",
    "plt.show()"
   ]
  },
  {
   "cell_type": "code",
   "execution_count": null,
   "metadata": {
    "ExecuteTime": {
     "end_time": "2020-08-28T13:05:30.561996Z",
     "start_time": "2020-08-28T13:05:29.963420Z"
    },
    "scrolled": true
   },
   "outputs": [],
   "source": [
    "plt.subplot(221)\n",
    "\n",
    "# equivalent but more general\n",
    "ax1=plt.subplot(2, 2, 1)\n",
    "\n",
    "# add a subplot with no frame\n",
    "ax2=plt.subplot(222, frameon=False)\n",
    "\n",
    "# add a polar subplot\n",
    "plt.subplot(223, projection='polar')\n",
    "\n",
    "# add a red subplot that shares the x-axis with ax1\n",
    "plt.subplot(224, sharex=ax1, facecolor='red')\n",
    "\n",
    "# delete ax2 from the figure\n",
    "plt.delaxes(ax2)\n",
    "\n",
    "# add ax2 to the figure again\n",
    "plt.subplot(ax2)"
   ]
  },
  {
   "cell_type": "code",
   "execution_count": null,
   "metadata": {
    "ExecuteTime": {
     "end_time": "2020-08-29T02:31:16.413003Z",
     "start_time": "2020-08-29T02:31:16.404502Z"
    }
   },
   "outputs": [],
   "source": [
    "dianping[:315]"
   ]
  },
  {
   "cell_type": "code",
   "execution_count": null,
   "metadata": {
    "ExecuteTime": {
     "end_time": "2020-08-29T02:46:23.858734Z",
     "start_time": "2020-08-29T02:46:18.328032Z"
    }
   },
   "outputs": [],
   "source": [
    "import numpy as np\n",
    "import matplotlib.pyplot as plt\n",
    "\n",
    "'''\n",
    "    极坐标分为：极径和角度\n",
    "\n",
    "'''\n",
    "r = dianping\n",
    "\n",
    "theta = [i*np.pi/4 for i in range(360)]\n",
    "\n",
    "\n",
    "ax = plt.subplot(111,projection='polar')\n",
    "#projection = 'polar' 指定为极坐标\n",
    "\n",
    "ax.set_thetagrids(np.arange(0.0, 360.0, 10.0)) # 用于设置极坐标角度网格线显示\n",
    "ax.set_theta_zero_location('N') # 用于设置极坐标0°位置,其值可为'N','NW','W','SW','S','SE','E','NE'\n",
    "ax.set_theta_direction(-1) # 用于设置极坐标的正方向，参数为-1时为顺时针方向；反之。\n",
    "\n",
    "ax.plot(theta, r, linewidth=3,color='red')\n",
    "#第一个参数为角度，第二个参数为极径\n",
    "\n",
    "ax.grid(True) #是否有网格\n",
    "\n",
    "plt.show()"
   ]
  },
  {
   "cell_type": "code",
   "execution_count": null,
   "metadata": {
    "ExecuteTime": {
     "end_time": "2020-08-29T02:19:25.613243Z",
     "start_time": "2020-08-29T02:19:25.609243Z"
    }
   },
   "outputs": [],
   "source": [
    "r"
   ]
  },
  {
   "cell_type": "code",
   "execution_count": null,
   "metadata": {
    "ExecuteTime": {
     "end_time": "2020-08-29T02:20:57.693936Z",
     "start_time": "2020-08-29T02:20:57.690936Z"
    }
   },
   "outputs": [],
   "source": [
    "a = [x for x in range(0,9)]"
   ]
  },
  {
   "cell_type": "code",
   "execution_count": null,
   "metadata": {
    "ExecuteTime": {
     "end_time": "2020-08-29T02:45:20.289162Z",
     "start_time": "2020-08-29T02:45:20.285662Z"
    }
   },
   "outputs": [],
   "source": [
    "jiaodu = np.arange(0, 2*3.6, 0.02)"
   ]
  },
  {
   "cell_type": "code",
   "execution_count": null,
   "metadata": {
    "ExecuteTime": {
     "end_time": "2020-08-29T02:33:19.818174Z",
     "start_time": "2020-08-29T02:33:19.521136Z"
    },
    "scrolled": true
   },
   "outputs": [],
   "source": [
    "#!usr/bin/env python\n",
    "import matplotlib.pyplot as plt\n",
    "import numpy as np\n",
    "\n",
    "x = np.arange(-180.0,190.0,10)\n",
    "theta = (np.pi/180.0 )*x    # in radians\n",
    "\n",
    "offset = 2.0\n",
    "\n",
    "R1 = [-0.358,-0.483,-0.479,-0.346,-0.121,0.137,0.358,0.483,0.479,0.346,0.121,\\\n",
    "-0.137,-0.358,-0.483,-0.479,-0.346,-0.121,0.137,0.358,0.483,0.479,0.346,0.121,\\\n",
    "-0.137,-0.358,-0.483,-0.479,-0.346,-0.121,0.137,0.358,0.483,0.479,0.346,0.121,\\\n",
    "-0.137,-0.358]\n",
    "\n",
    "fig1 = plt.figure()\n",
    "ax1 = fig1.add_axes([0.1,0.1,0.8,0.8],polar=True)\n",
    "ax1.set_rmax(1)\n",
    "ax1.plot(theta,R1,lw=2.5)"
   ]
  },
  {
   "cell_type": "code",
   "execution_count": null,
   "metadata": {
    "ExecuteTime": {
     "end_time": "2020-08-29T02:51:29.360528Z",
     "start_time": "2020-08-29T02:51:29.355027Z"
    }
   },
   "outputs": [],
   "source": [
    "np.array([i for i in jingke.values()]).astype(int) #提取英雄的信息"
   ]
  },
  {
   "cell_type": "code",
   "execution_count": null,
   "metadata": {
    "ExecuteTime": {
     "end_time": "2020-08-29T02:51:48.856004Z",
     "start_time": "2020-08-29T02:51:48.846002Z"
    }
   },
   "outputs": [],
   "source": [
    "np.array([j for j in jingke.keys()]) #提取键作为标签"
   ]
  },
  {
   "cell_type": "code",
   "execution_count": null,
   "metadata": {
    "ExecuteTime": {
     "end_time": "2020-08-29T02:57:49.732329Z",
     "start_time": "2020-08-29T02:57:49.726828Z"
    }
   },
   "outputs": [],
   "source": [
    " np.linspace(0, 2*np.pi, 10, endpoint=False)"
   ]
  },
  {
   "cell_type": "code",
   "execution_count": null,
   "metadata": {},
   "outputs": [],
   "source": [
    "theta = np.arange(0, 2*np.pi, 0.02)"
   ]
  },
  {
   "cell_type": "code",
   "execution_count": null,
   "metadata": {},
   "outputs": [],
   "source": []
  },
  {
   "cell_type": "code",
   "execution_count": null,
   "metadata": {
    "ExecuteTime": {
     "end_time": "2020-08-29T03:09:54.819404Z",
     "start_time": "2020-08-29T03:09:54.814903Z"
    }
   },
   "outputs": [],
   "source": [
    "theta = np.arange(0, 2*360, 0.02)"
   ]
  },
  {
   "cell_type": "code",
   "execution_count": null,
   "metadata": {
    "ExecuteTime": {
     "end_time": "2020-08-29T03:10:00.518127Z",
     "start_time": "2020-08-29T03:09:55.287463Z"
    }
   },
   "outputs": [],
   "source": [
    "import numpy as np\n",
    "import matplotlib.pyplot as plt\n",
    "\n",
    "theta = np.arange(0, 2*np.pi, 0.02)\n",
    "phi0 = 1\n",
    "k = 1\n",
    "\n",
    "ax = plt.subplot(111,polar=True)\n",
    "ax.set_thetagrids(np.arange(0.0, 360.0, 10.0)) # 用于设置极坐标角度网格线显示\n",
    "ax.set_theta_zero_location('N') # 用于设置极坐标0°位置,其值可为'N','NW','W','SW','S','SE','E','NE'\n",
    "ax.set_theta_direction(-1) # 用于设置极坐标的正方向，参数为-1时为顺时针方向；反之。\n",
    "\n",
    "plt.plot(theta, np.array(dianping[0:315]),  color=[1,0 ,0], lw=2)\n",
    "# plt.title(\"k=\"+str(k)+\",phi0=\"+str(phi0), y=-0.15, fontsize=18)\n",
    "# plt.savefig(\"k=\"+str(k)+\" with phi0=\"+str(phi0)+'.png')\n",
    "plt.show()"
   ]
  },
  {
   "cell_type": "code",
   "execution_count": null,
   "metadata": {
    "ExecuteTime": {
     "end_time": "2020-08-29T03:24:28.329825Z",
     "start_time": "2020-08-29T03:24:28.321824Z"
    }
   },
   "outputs": [],
   "source": [
    "aa = open('d:/aaa.txt','w')"
   ]
  },
  {
   "cell_type": "code",
   "execution_count": null,
   "metadata": {
    "ExecuteTime": {
     "end_time": "2020-08-29T03:28:04.357757Z",
     "start_time": "2020-08-29T03:28:04.349756Z"
    }
   },
   "outputs": [],
   "source": [
    "def text_save(filename, data):#filename为写入CSV文件的路径，data为要写入数据列表.\n",
    "    file = open(filename,'a')\n",
    "    for i in range(len(data)):\n",
    "        s = str(data[i]).replace('[','').replace(']','')#去除[],这两行按数据不同，可以选择\n",
    "        s = s.replace(\"'\",'').replace(',','') +'\\n'   #去除单引号，逗号，每行末尾追加换行符\n",
    "        file.write(s)\n",
    "    file.close()\n",
    "    print(\"保存文件成功\")"
   ]
  },
  {
   "cell_type": "code",
   "execution_count": null,
   "metadata": {
    "ExecuteTime": {
     "end_time": "2020-08-29T03:28:51.943800Z",
     "start_time": "2020-08-29T03:28:51.927798Z"
    }
   },
   "outputs": [],
   "source": [
    "text_save('d:/aaa.txt',jiaodu)\n",
    "text_save('d:/bbb.txt',dianping)"
   ]
  },
  {
   "cell_type": "code",
   "execution_count": null,
   "metadata": {
    "ExecuteTime": {
     "end_time": "2020-08-29T03:30:52.379593Z",
     "start_time": "2020-08-29T03:30:52.371092Z"
    }
   },
   "outputs": [],
   "source": [
    "len(jiaodu)\n",
    "len(dianping)"
   ]
  },
  {
   "cell_type": "code",
   "execution_count": null,
   "metadata": {
    "ExecuteTime": {
     "end_time": "2020-08-29T03:23:00.206635Z",
     "start_time": "2020-08-29T03:23:00.203135Z"
    }
   },
   "outputs": [],
   "source": [
    "jiaodu2 = [int(x)/180.0*3.141593 for x in jiaodu]"
   ]
  },
  {
   "cell_type": "code",
   "execution_count": null,
   "metadata": {
    "ExecuteTime": {
     "end_time": "2020-08-30T07:16:40.831971Z",
     "start_time": "2020-08-30T07:16:40.220893Z"
    }
   },
   "outputs": [],
   "source": [
    "import numpy as np\n",
    "from matplotlib import pyplot as plt\n",
    "fig=plt.figure(figsize=(10,13))\n",
    "ax=fig.add_subplot(111,polar=True) #设置一个坐标轴为极坐标体系\n",
    "ax.set_thetagrids(np.arange(0.0, 360.0, 10.0)) # 用于设置极坐标角度网格线显示\n",
    "ax.set_theta_zero_location('N') #设置极坐标0°位置\n",
    "ax.set_theta_direction(-1) # 用于设置极坐标的正方向，参数为-1时为顺时针方向；反之。\n",
    "\n",
    "y=np.array([i for i in dianping]).astype(float) #提取英雄的信息\n",
    "x = np.linspace(0, 2*np.pi, 360, endpoint=False) #data1里有几个数据，就把整圆360°分成几份\n",
    "x1 = np.concatenate((x, [x[0]])) #将x的第一个值添加到原来的x组成第一个和最后一个元素一致的新列表，以实现x闭合\n",
    "y1 = np.concatenate((y, [y[0]])) #将y的第一个值添加到原来的y组成第一个和最后一个元素一致的新列表，以实现y闭合\n",
    "\n",
    "#绘制极坐标\n",
    "# ax.set_thetagrids(angles*180/np.pi, label, fontproperties=\"Microsoft Yahei\") #设置网格标签\n",
    "ax.plot(x1,y1,\"o\")\n",
    "\n",
    "# ax.set_rlim(0,100) #设置显示的极径范围\n",
    "ax.fill(x1,y1,facecolor='b', alpha=0.2) #填充颜色\n",
    "ax.set_rlabel_position(15)\n",
    "ax.set_title(\"荆轲\",fontproperties=\"SimHei\",fontsize=16) #设置标题\n",
    "plt.show()"
   ]
  },
  {
   "cell_type": "code",
   "execution_count": null,
   "metadata": {
    "ExecuteTime": {
     "end_time": "2020-08-30T08:28:44.083454Z",
     "start_time": "2020-08-30T08:28:44.076953Z"
    }
   },
   "outputs": [],
   "source": [
    "data = pd.read_clipboard()"
   ]
  },
  {
   "cell_type": "code",
   "execution_count": null,
   "metadata": {
    "ExecuteTime": {
     "end_time": "2020-08-30T09:04:08.061165Z",
     "start_time": "2020-08-30T09:04:08.056664Z"
    }
   },
   "outputs": [],
   "source": [
    "y=np.array([i for i in dianping]).astype(float) #提取英雄的信息\n",
    "x = np.linspace(0, 2*np.pi, 360, endpoint=False) #data1里有几个数据，就把整圆360°分成几份"
   ]
  },
  {
   "cell_type": "code",
   "execution_count": null,
   "metadata": {
    "ExecuteTime": {
     "end_time": "2020-08-30T09:12:01.402772Z",
     "start_time": "2020-08-30T09:12:01.397771Z"
    }
   },
   "outputs": [],
   "source": [
    "xz = [y1*np.cos(x1) for x1,y1 in zip(x,y)]\n",
    "\n",
    "yz = [y1*np.sin(x1) for x1,y1 in zip(x,y)]"
   ]
  },
  {
   "cell_type": "code",
   "execution_count": null,
   "metadata": {
    "ExecuteTime": {
     "end_time": "2020-08-30T09:12:43.187578Z",
     "start_time": "2020-08-30T09:12:42.911043Z"
    }
   },
   "outputs": [],
   "source": [
    "fig=plt.figure(figsize=(10,13))\n",
    "ax=fig.add_subplot(111) #设置一个坐标轴为极坐标体系\n",
    "\n",
    "ax.plot(yz,xz,'o')\n",
    "plt.show()"
   ]
  },
  {
   "cell_type": "code",
   "execution_count": null,
   "metadata": {
    "ExecuteTime": {
     "end_time": "2020-08-30T08:30:26.069905Z",
     "start_time": "2020-08-30T08:30:26.067404Z"
    }
   },
   "outputs": [],
   "source": [
    "import cmath"
   ]
  },
  {
   "cell_type": "code",
   "execution_count": null,
   "metadata": {
    "ExecuteTime": {
     "end_time": "2020-08-30T08:30:39.283583Z",
     "start_time": "2020-08-30T08:30:39.274582Z"
    }
   },
   "outputs": [],
   "source": [
    "cn1 = cmath.rect(2, cmath.pi)\n",
    "cn1.real\n",
    "cn1.imag"
   ]
  },
  {
   "cell_type": "code",
   "execution_count": null,
   "metadata": {
    "ExecuteTime": {
     "end_time": "2020-08-30T07:16:22.791180Z",
     "start_time": "2020-08-30T07:16:21.541521Z"
    }
   },
   "outputs": [],
   "source": [
    "import numpy as np\n",
    "import matplotlib.pyplot as plt\n",
    "from mpl_toolkits.mplot3d import Axes3D"
   ]
  },
  {
   "cell_type": "code",
   "execution_count": null,
   "metadata": {
    "ExecuteTime": {
     "end_time": "2020-08-30T07:18:42.265891Z",
     "start_time": "2020-08-30T07:18:42.256890Z"
    }
   },
   "outputs": [],
   "source": [
    "np.sqrt(X ** 2 + Y ** 2)"
   ]
  },
  {
   "cell_type": "code",
   "execution_count": null,
   "metadata": {
    "ExecuteTime": {
     "end_time": "2020-08-30T07:17:16.922554Z",
     "start_time": "2020-08-30T07:17:16.476997Z"
    }
   },
   "outputs": [],
   "source": [
    "fig = plt.figure()\n",
    "# 创建3d图形的两种方式\n",
    "# ax = Axes3D(fig)\n",
    "ax = fig.add_subplot(111, projection='3d')\n",
    "# X, Y value\n",
    "X = np.arange(-4, 4, 0.25)\n",
    "Y = np.arange(-4, 4, 0.25)\n",
    "X, Y = np.meshgrid(X, Y)    # x-y 平面的网格\n",
    "R = np.sqrt(X ** 2 + Y ** 2)\n",
    "# height value\n",
    "Z = np.sin(R)\n",
    "# rstride:行之间的跨度  cstride:列之间的跨度\n",
    "# rcount:设置间隔个数，默认50个，ccount:列的间隔个数  不能与上面两个参数同时出现\n",
    "#vmax和vmin  颜色的最大值和最小值\n",
    "ax.plot_surface(X, Y, Z, rstride=1, cstride=1, cmap=plt.get_cmap('rainbow'))\n",
    "# zdir : 'z' | 'x' | 'y' 表示把等高线图投射到哪个面\n",
    "# offset : 表示等高线图投射到指定页面的某个刻度\n",
    "# ax.contourf(X,Y,Z,zdir='z',offset=-2)\n",
    "# 设置图像z轴的显示范围，x、y轴设置方式相同\n",
    "ax.set_zlim(-2,2)"
   ]
  },
  {
   "cell_type": "code",
   "execution_count": null,
   "metadata": {
    "ExecuteTime": {
     "end_time": "2020-08-30T07:40:03.022026Z",
     "start_time": "2020-08-30T07:40:02.790497Z"
    },
    "scrolled": true
   },
   "outputs": [],
   "source": [
    "import numpy\n",
    "import matplotlib.pyplot as pyplot\n",
    "\n",
    "ra = [345.389547454166689,31.892236646759279,45.893722479722229,93.955296573703706,160.079453957685217,211.154701609814822,256.486559377222193,307.258751710462889,299.691923545370344,340.364168244814834,335.077343971296386,358.126565808425880]\n",
    "dec = [23.835021447037050,25.218513920000003,27.509148433518519,26.551432991388879,-25.077519630833340,-20.134061982500004,-21.042512836851849,-4.903512838240742,-0.506450475370370,14.280932901944448,19.222101837500002,18.792707990925926]   \n",
    "ra  = [x/180.0*3.141593 for x in ra]\n",
    "fig = pyplot.figure()\n",
    "ax = fig.add_axes([0.1,0.1,0.8,0.8],polar=True)\n",
    "ax.set_ylim(-30,30)\n",
    "ax.set_yticks(numpy.arange(-30,30,10))\n",
    "ax.scatter(ra,dec,c ='r')\n",
    "\n",
    "\n",
    "pyplot.show()  "
   ]
  },
  {
   "cell_type": "code",
   "execution_count": null,
   "metadata": {
    "ExecuteTime": {
     "end_time": "2020-08-30T07:41:53.832598Z",
     "start_time": "2020-08-30T07:41:53.632072Z"
    }
   },
   "outputs": [],
   "source": [
    "import numpy as np\n",
    "import matplotlib.pyplot as plt\n",
    "import mpl_toolkits.mplot3d \n",
    "x,y=np.mgrid[-2:2:20j,-2:2:20j]\n",
    "z=x*np.exp(-x**2-y**2)\n",
    "\n",
    "ax=plt.subplot(111,projection='3d')\n",
    "ax.plot_surface(x1,y1,z,rstride=2,cstride=1,cmap=plt.cm.coolwarm,alpha=0.8)\n",
    "# ax.set_xlabel('x')\n",
    "# ax.set_ylabel('y')\n",
    "# ax.set_zlabel('z')\n",
    "plt.show()"
   ]
  },
  {
   "cell_type": "code",
   "execution_count": null,
   "metadata": {
    "ExecuteTime": {
     "end_time": "2020-08-31T02:09:07.545346Z",
     "start_time": "2020-08-31T02:09:07.530344Z"
    }
   },
   "outputs": [],
   "source": [
    "lonlat_coordinate = []  # 经纬度坐标集\n",
    "def millerToLonLat(x,y):\n",
    "    \"\"\"\n",
    "    将平面坐标系中的x,y转换为经纬度，利用米勒坐标系\n",
    "    :param x: x轴\n",
    "    :param y: y轴\n",
    "    :return:\n",
    "    \"\"\"\n",
    "    L = 6381372 * math.pi*2\n",
    "    W = L\n",
    "    H = L/2\n",
    "    mill = 2.3\n",
    "    lat = ((H/2-y)*2*mill)/(1.25*H)\n",
    "    lat = ((math.atan(math.exp(lat))-0.25*math.pi)*180)/(0.4*math.pi)\n",
    "    lon = (x-W/2)*360/W\n",
    "    # TODO 最终需要确认经纬度保留小数点后几位\n",
    "    lonlat_coordinate.append((round(lon,7),round(lat,7)))\n",
    "    return lonlat_coordinate"
   ]
  },
  {
   "cell_type": "code",
   "execution_count": null,
   "metadata": {
    "ExecuteTime": {
     "end_time": "2020-08-31T04:34:09.771389Z",
     "start_time": "2020-08-31T04:34:09.764888Z"
    }
   },
   "outputs": [],
   "source": [
    "millerToLonLat(0,0)"
   ]
  },
  {
   "cell_type": "code",
   "execution_count": null,
   "metadata": {
    "ExecuteTime": {
     "end_time": "2020-09-08T06:08:46.101008Z",
     "start_time": "2020-09-08T06:08:46.098008Z"
    }
   },
   "outputs": [],
   "source": [
    "import pandas as pd\n",
    "import mytools\n",
    "import geopandas as gpd"
   ]
  },
  {
   "cell_type": "code",
   "execution_count": null,
   "metadata": {
    "ExecuteTime": {
     "end_time": "2020-09-08T06:04:49.278435Z",
     "start_time": "2020-09-08T06:04:49.239430Z"
    }
   },
   "outputs": [],
   "source": [
    "data = pd.read_csv('c:/Users/Administrator/Desktop/任务清单对应的标号-添加城区和农村.csv',encoding='gbk')"
   ]
  },
  {
   "cell_type": "code",
   "execution_count": null,
   "metadata": {
    "ExecuteTime": {
     "end_time": "2020-09-08T06:04:53.240439Z",
     "start_time": "2020-09-08T06:04:53.220936Z"
    }
   },
   "outputs": [],
   "source": [
    "data.head(1)"
   ]
  },
  {
   "cell_type": "code",
   "execution_count": null,
   "metadata": {
    "ExecuteTime": {
     "end_time": "2020-09-08T06:13:23.256702Z",
     "start_time": "2020-09-08T06:13:22.579116Z"
    }
   },
   "outputs": [],
   "source": [
    "mytools.gisn.maps('changjing')"
   ]
  },
  {
   "cell_type": "code",
   "execution_count": null,
   "metadata": {
    "ExecuteTime": {
     "end_time": "2020-09-08T06:16:59.536166Z",
     "start_time": "2020-09-08T06:16:59.268132Z"
    }
   },
   "outputs": [],
   "source": [
    "tu_guihua = gpd.read_file('G:/1-规划/图层/全省区域规划图层20200110/全省区域规划图层20200110.TAB',encoding='gbk')"
   ]
  },
  {
   "cell_type": "code",
   "execution_count": null,
   "metadata": {},
   "outputs": [],
   "source": []
  },
  {
   "cell_type": "code",
   "execution_count": null,
   "metadata": {
    "ExecuteTime": {
     "end_time": "2020-09-08T06:12:56.954862Z",
     "start_time": "2020-09-08T06:12:55.187138Z"
    }
   },
   "outputs": [],
   "source": [
    "res_chengqu = mytools.gisn.points_coverage_merge(data,'lon','lat',tu,['场景'],'无')"
   ]
  },
  {
   "cell_type": "code",
   "execution_count": null,
   "metadata": {
    "ExecuteTime": {
     "end_time": "2020-09-08T06:17:44.733406Z",
     "start_time": "2020-09-08T06:17:42.516624Z"
    }
   },
   "outputs": [],
   "source": [
    "res_nongc = mytools.gisn.points_coverage_merge(data,'lon','lat',tu_guihua,['区域类型'],'农村')"
   ]
  },
  {
   "cell_type": "code",
   "execution_count": null,
   "metadata": {
    "ExecuteTime": {
     "end_time": "2020-09-08T06:18:55.349873Z",
     "start_time": "2020-09-08T06:18:55.216356Z"
    }
   },
   "outputs": [],
   "source": [
    "res_nongc.to_clipboard()"
   ]
  }
 ],
 "metadata": {
  "kernelspec": {
   "display_name": "Python 3",
   "language": "python",
   "name": "python3"
  },
  "language_info": {
   "codemirror_mode": {
    "name": "ipython",
    "version": 3
   },
   "file_extension": ".py",
   "mimetype": "text/x-python",
   "name": "python",
   "nbconvert_exporter": "python",
   "pygments_lexer": "ipython3",
   "version": "3.7.4"
  },
  "toc": {
   "base_numbering": 1,
   "nav_menu": {},
   "number_sections": true,
   "sideBar": true,
   "skip_h1_title": false,
   "title_cell": "Table of Contents",
   "title_sidebar": "Contents",
   "toc_cell": false,
   "toc_position": {},
   "toc_section_display": true,
   "toc_window_display": false
  },
  "varInspector": {
   "cols": {
    "lenName": 16,
    "lenType": 16,
    "lenVar": 40
   },
   "kernels_config": {
    "python": {
     "delete_cmd_postfix": "",
     "delete_cmd_prefix": "del ",
     "library": "var_list.py",
     "varRefreshCmd": "print(var_dic_list())"
    },
    "r": {
     "delete_cmd_postfix": ") ",
     "delete_cmd_prefix": "rm(",
     "library": "var_list.r",
     "varRefreshCmd": "cat(var_dic_list()) "
    }
   },
   "position": {
    "height": "144px",
    "left": "1183px",
    "right": "20px",
    "top": "157px",
    "width": "350px"
   },
   "types_to_exclude": [
    "module",
    "function",
    "builtin_function_or_method",
    "instance",
    "_Feature"
   ],
   "window_display": false
  }
 },
 "nbformat": 4,
 "nbformat_minor": 2
}
