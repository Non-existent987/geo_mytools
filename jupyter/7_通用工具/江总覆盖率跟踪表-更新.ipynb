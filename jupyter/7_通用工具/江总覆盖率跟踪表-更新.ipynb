{
 "cells": [
  {
   "cell_type": "code",
   "execution_count": null,
   "metadata": {
    "ExecuteTime": {
     "end_time": "2020-07-03T06:12:58.122953Z",
     "start_time": "2020-07-03T06:12:56.790784Z"
    }
   },
   "outputs": [],
   "source": [
    "import geopandas as gpd\n",
    "import pandas as pd\n",
    "import mytools"
   ]
  },
  {
   "cell_type": "code",
   "execution_count": null,
   "metadata": {
    "ExecuteTime": {
     "end_time": "2020-07-03T06:12:58.128454Z",
     "start_time": "2020-07-03T06:12:58.124953Z"
    }
   },
   "outputs": [],
   "source": [
    "print('标准的列名如下：请按照标准事先写好列名后，再导入数据\\n CGI , 地市 , 区县 , 厂家 , 移动总采样点 , 移动弱覆盖采样点 , \\\n",
    "联通总采样点 , 联通弱覆盖采样点 , 电信总采样点 , 电信弱覆盖采样点 , 是否核心城区 , 移动覆盖率')"
   ]
  },
  {
   "cell_type": "code",
   "execution_count": null,
   "metadata": {
    "ExecuteTime": {
     "end_time": "2020-07-03T06:12:58.858047Z",
     "start_time": "2020-07-03T06:12:58.130954Z"
    }
   },
   "outputs": [],
   "source": [
    "data = pd.read_csv('g:/1-规划/表格类保存/2020年覆盖问题进展概况/基础表格/覆盖指标统计-20年03月.csv',encoding='gbk')"
   ]
  },
  {
   "cell_type": "code",
   "execution_count": null,
   "metadata": {
    "ExecuteTime": {
     "end_time": "2020-07-03T06:12:58.863047Z",
     "start_time": "2020-07-03T06:12:58.860047Z"
    }
   },
   "outputs": [],
   "source": [
    "# data = data.loc[data['地市']=='武汉']"
   ]
  },
  {
   "cell_type": "code",
   "execution_count": null,
   "metadata": {
    "ExecuteTime": {
     "end_time": "2020-07-03T06:12:58.930556Z",
     "start_time": "2020-07-03T06:12:58.865548Z"
    }
   },
   "outputs": [],
   "source": [
    "data['cmcc'] = 1- data['移动弱覆盖采样点'] / data['移动总采样点']\n",
    "data['un'] = 1- data['联通弱覆盖采样点'] / data['联通总采样点']\n",
    "data['te'] = 1- data['电信弱覆盖采样点'] / data['电信总采样点']"
   ]
  },
  {
   "cell_type": "code",
   "execution_count": null,
   "metadata": {
    "ExecuteTime": {
     "end_time": "2020-07-03T06:12:58.992064Z",
     "start_time": "2020-07-03T06:12:58.932056Z"
    }
   },
   "outputs": [],
   "source": [
    "data_row = data.loc[data['移动总采样点']>0].shape[0]"
   ]
  },
  {
   "cell_type": "code",
   "execution_count": null,
   "metadata": {
    "ExecuteTime": {
     "end_time": "2020-07-03T06:12:59.000065Z",
     "start_time": "2020-07-03T06:12:58.994564Z"
    }
   },
   "outputs": [],
   "source": [
    "cmcc_fgl = 1- data['移动弱覆盖采样点'].sum() / data['移动总采样点'].sum()"
   ]
  },
  {
   "cell_type": "code",
   "execution_count": null,
   "metadata": {
    "ExecuteTime": {
     "end_time": "2020-07-03T06:12:59.032569Z",
     "start_time": "2020-07-03T06:12:59.004565Z"
    }
   },
   "outputs": [],
   "source": [
    "data_atu = data.loc[data['是否核心城区']=='是']"
   ]
  },
  {
   "cell_type": "code",
   "execution_count": null,
   "metadata": {
    "ExecuteTime": {
     "end_time": "2020-07-03T06:12:59.039070Z",
     "start_time": "2020-07-03T06:12:59.034569Z"
    }
   },
   "outputs": [],
   "source": [
    "cmcc_atu_fgl = 1- data_atu['移动弱覆盖采样点'].sum() / data_atu['移动总采样点'].sum()"
   ]
  },
  {
   "cell_type": "code",
   "execution_count": null,
   "metadata": {
    "ExecuteTime": {
     "end_time": "2020-07-03T06:12:59.071574Z",
     "start_time": "2020-07-03T06:12:59.041570Z"
    }
   },
   "outputs": [],
   "source": [
    "data_weak = data[(data['cmcc'] <0.9)&(data['移动弱覆盖采样点']>0)].agg({'CGI':'count'})[0]"
   ]
  },
  {
   "cell_type": "code",
   "execution_count": null,
   "metadata": {
    "ExecuteTime": {
     "end_time": "2020-07-03T06:12:59.232594Z",
     "start_time": "2020-07-03T06:12:59.073574Z"
    }
   },
   "outputs": [],
   "source": [
    "data.loc[data['联通总采样点']>1000,'un_valid']='是'\n",
    "data.loc[data['电信总采样点']>1000,'te_valid']='是'"
   ]
  },
  {
   "cell_type": "code",
   "execution_count": null,
   "metadata": {
    "ExecuteTime": {
     "end_time": "2020-07-03T06:12:59.240095Z",
     "start_time": "2020-07-03T06:12:59.234094Z"
    }
   },
   "outputs": [],
   "source": [
    "def hd(data,cmcc='',jingdui='',name='un_hd',jd_valid=''): #黑点打标\n",
    "    \n",
    "    data[jingdui]=pd.to_numeric(data[jingdui])\n",
    "    data[cmcc]=pd.to_numeric(data[cmcc])\n",
    "    data.loc[(((data[cmcc]<0.8)&(data[jingdui]>=0.8)) | ((data[cmcc]>=0.8)&(((data[jingdui])-(data[cmcc]))>0.05)))&\n",
    "             (data[jd_valid]=='是'),name]='黑点'\n",
    "    return data"
   ]
  },
  {
   "cell_type": "code",
   "execution_count": null,
   "metadata": {
    "ExecuteTime": {
     "end_time": "2020-07-03T06:12:59.527632Z",
     "start_time": "2020-07-03T06:12:59.241595Z"
    }
   },
   "outputs": [],
   "source": [
    "data=hd(data,'cmcc','te','te_hd','te_valid')\n",
    "data=hd(data,'cmcc','un','un_hd','un_valid')"
   ]
  },
  {
   "cell_type": "code",
   "execution_count": null,
   "metadata": {
    "ExecuteTime": {
     "end_time": "2020-07-03T06:12:59.532132Z",
     "start_time": "2020-07-03T06:12:59.529632Z"
    }
   },
   "outputs": [],
   "source": [
    "# un_hd = data.loc[data['un_hd']=='黑点'].agg({'CGI':'count'})[0]\n",
    "# un_valid = data.loc[(data['un_valid']=='是')].agg({'CGI':'count'})[0]\n",
    "# un_hd_v = un_hd / data_row"
   ]
  },
  {
   "cell_type": "code",
   "execution_count": null,
   "metadata": {
    "ExecuteTime": {
     "end_time": "2020-07-03T06:12:59.539133Z",
     "start_time": "2020-07-03T06:12:59.534132Z"
    }
   },
   "outputs": [],
   "source": [
    "# te_hd = data.loc[data['te_hd']=='黑点'].agg({'CGI':'count'})[0]\n",
    "# te_valid = data.loc[(data['te_valid']=='是')].agg({'CGI':'count'})[0]\n",
    "# te_hd_v = te_hd / data_row"
   ]
  },
  {
   "cell_type": "code",
   "execution_count": null,
   "metadata": {
    "ExecuteTime": {
     "end_time": "2020-07-03T06:12:59.636645Z",
     "start_time": "2020-07-03T06:12:59.542133Z"
    }
   },
   "outputs": [],
   "source": [
    "data.loc[(data['te_hd']=='黑点')].agg({'CGI':'count'})[0]"
   ]
  },
  {
   "cell_type": "code",
   "execution_count": null,
   "metadata": {
    "ExecuteTime": {
     "end_time": "2020-07-03T06:12:59.854673Z",
     "start_time": "2020-07-03T06:12:59.638146Z"
    }
   },
   "outputs": [],
   "source": [
    "data.loc[(data['te_hd'] =='黑点')|(data['un_hd'] =='黑点'),'hd']='是'\n",
    "hd_use = data.loc[data['hd']=='是'].agg({'CGI':'count'})[0]\n",
    "problem_cell = data.loc[(data['cmcc'] <0.9)|(data['hd'] =='是')].agg({'CGI':'count'})[0]\n",
    "print('黑点共计{}个，小区共计{}个，劣于竞对小区占比{:.2%},总的问题小区为{}个。'.format(\n",
    "    hd_use,data_row,hd_use/data_row,problem_cell))"
   ]
  },
  {
   "cell_type": "code",
   "execution_count": null,
   "metadata": {
    "ExecuteTime": {
     "end_time": "2020-07-03T06:12:59.859174Z",
     "start_time": "2020-07-03T06:12:59.856673Z"
    }
   },
   "outputs": [],
   "source": [
    "# if un_hd>te_hd:\n",
    "#     hd_use = un_hd\n",
    "#     hd_valid_use = un_valid\n",
    "#     hd_v_use = un_hd_v\n",
    "#     problem_cell = data.loc[(data['cmcc'] <0.9)&(data['un_hd'] =='黑点')].agg({'CGI':'count'})[0]\n",
    "#     print('劣于竞对小区占比是联通，黑点（联通）{}个，有效小区{}个，劣于竞对小区占比{:.2%},总的问题小区为{}个。'.format(\n",
    "#         hd_use,hd_valid_use,hd_v_use,problem_cell))\n",
    "# else:\n",
    "#     hd_use = te_hd\n",
    "#     hd_valid_use = te_valid\n",
    "#     hd_v_use = te_hd_v\n",
    "#     problem_cell = data.loc[(data['cmcc'] <0.9)&(data['te_hd'] =='黑点')].agg({'CGI':'count'})[0]\n",
    "#     print('劣于竞对小区占比是电信，黑点（电信）{}个，有效小区{}个，劣于竞对小区占比{:.2%},总的问题小区为{}个。'.format(\n",
    "#         hd_use,hd_valid_use,hd_v_use,problem_cell))"
   ]
  },
  {
   "cell_type": "code",
   "execution_count": null,
   "metadata": {
    "ExecuteTime": {
     "end_time": "2020-07-03T06:12:59.869175Z",
     "start_time": "2020-07-03T06:12:59.860674Z"
    }
   },
   "outputs": [],
   "source": [
    "def cmcc_srtong(data,cmcc='',un='',te='',name='cmcc_strong'): #黑点打标\n",
    "    data[te]=pd.to_numeric(data[te])\n",
    "    data[un]=pd.to_numeric(data[un])\n",
    "    data[cmcc]=pd.to_numeric(data[cmcc])\n",
    "    data.loc[(((data[cmcc]>=0.8)&((data[un]<0.8)&(data[te]<0.8))) |\n",
    "             ((data[cmcc]>=0.8)&(((((data[cmcc])-(data[un]))>=0.05))&((((data[cmcc])-(data[te]))>=0.05)))))\n",
    "             &((data['un_valid']=='是')&(data['te_valid']=='是')),name]='强'\n",
    "    return data"
   ]
  },
  {
   "cell_type": "code",
   "execution_count": null,
   "metadata": {
    "ExecuteTime": {
     "end_time": "2020-07-03T06:12:59.988690Z",
     "start_time": "2020-07-03T06:12:59.871175Z"
    }
   },
   "outputs": [],
   "source": [
    "data=cmcc_srtong(data,'cmcc','te','un')"
   ]
  },
  {
   "cell_type": "code",
   "execution_count": null,
   "metadata": {
    "ExecuteTime": {
     "end_time": "2020-07-03T06:13:00.258724Z",
     "start_time": "2020-07-03T06:12:59.990190Z"
    }
   },
   "outputs": [],
   "source": [
    "cmcc_srtong_son = data.loc[(data['cmcc_strong']=='强')&((data['un_valid']=='是')&(data['te_valid']=='是'))].agg({'CGI':'count'})[0]\n",
    "cmcc_srtong_fa = data.loc[((data['un_valid']=='是')&(data['te_valid']=='是'))].agg({'CGI':'count'})[0]\n",
    "cmcc_srtong_v = cmcc_srtong_son/cmcc_srtong_fa"
   ]
  },
  {
   "cell_type": "code",
   "execution_count": null,
   "metadata": {
    "ExecuteTime": {
     "end_time": "2020-07-03T06:13:00.322232Z",
     "start_time": "2020-07-03T06:13:00.260225Z"
    }
   },
   "outputs": [],
   "source": [
    "weak_count = data.loc[((data['cmcc'] <0.9)|((data['te_hd']=='黑点')|(data['te_hd']=='黑点')))].agg({'CGI':'count'})[0]"
   ]
  },
  {
   "cell_type": "code",
   "execution_count": null,
   "metadata": {
    "ExecuteTime": {
     "end_time": "2020-07-03T06:13:00.331234Z",
     "start_time": "2020-07-03T06:13:00.327233Z"
    }
   },
   "outputs": [],
   "source": [
    "dict_data = {'MR软采小区数': data_row,\n",
    "             '采集率': '',\n",
    "             '全网MR覆盖率': cmcc_fgl,\n",
    "            '核心城区MR覆盖率': cmcc_atu_fgl,\n",
    "            'MR弱覆盖小区数': data_weak,\n",
    "            'MR弱覆盖小区占比': data_weak/data_row,\n",
    "            'MR劣于竞对小区数': hd_use,\n",
    "            'MR劣于竞对小区占比': '',\n",
    "            'MR强于竞对小区数': cmcc_srtong_son,\n",
    "            'MR强于竞对小区占比': cmcc_srtong_v,\n",
    "            'MR问题小区数': problem_cell,\n",
    "            'MR问题小区占比': problem_cell/data_row}"
   ]
  },
  {
   "cell_type": "code",
   "execution_count": null,
   "metadata": {
    "ExecuteTime": {
     "end_time": "2020-07-03T06:13:00.338235Z",
     "start_time": "2020-07-03T06:13:00.334234Z"
    }
   },
   "outputs": [],
   "source": [
    "result = pd.DataFrame.from_dict(dict_data, orient='index', columns=['values'])"
   ]
  },
  {
   "cell_type": "code",
   "execution_count": null,
   "metadata": {
    "ExecuteTime": {
     "end_time": "2020-07-03T06:13:05.139344Z",
     "start_time": "2020-07-03T06:13:00.340235Z"
    }
   },
   "outputs": [],
   "source": [
    "data.to_csv('c:/Users/Administrator/desktop/aaa.csv',encoding='gbk')"
   ]
  },
  {
   "cell_type": "code",
   "execution_count": null,
   "metadata": {
    "ExecuteTime": {
     "end_time": "2020-07-03T06:13:05.160847Z",
     "start_time": "2020-07-03T06:13:05.141344Z"
    }
   },
   "outputs": [],
   "source": [
    "result.to_clipboard()"
   ]
  },
  {
   "cell_type": "code",
   "execution_count": null,
   "metadata": {
    "ExecuteTime": {
     "end_time": "2020-07-03T06:13:05.172848Z",
     "start_time": "2020-07-03T06:13:05.162847Z"
    }
   },
   "outputs": [],
   "source": [
    "result"
   ]
  },
  {
   "cell_type": "code",
   "execution_count": null,
   "metadata": {},
   "outputs": [],
   "source": []
  },
  {
   "cell_type": "code",
   "execution_count": null,
   "metadata": {},
   "outputs": [],
   "source": []
  },
  {
   "cell_type": "code",
   "execution_count": null,
   "metadata": {},
   "outputs": [],
   "source": []
  },
  {
   "cell_type": "code",
   "execution_count": null,
   "metadata": {},
   "outputs": [],
   "source": []
  },
  {
   "cell_type": "code",
   "execution_count": null,
   "metadata": {},
   "outputs": [],
   "source": []
  }
 ],
 "metadata": {
  "kernelspec": {
   "display_name": "Python 3",
   "language": "python",
   "name": "python3"
  },
  "language_info": {
   "codemirror_mode": {
    "name": "ipython",
    "version": 3
   },
   "file_extension": ".py",
   "mimetype": "text/x-python",
   "name": "python",
   "nbconvert_exporter": "python",
   "pygments_lexer": "ipython3",
   "version": "3.7.4"
  },
  "toc": {
   "base_numbering": 1,
   "nav_menu": {},
   "number_sections": true,
   "sideBar": true,
   "skip_h1_title": false,
   "title_cell": "Table of Contents",
   "title_sidebar": "Contents",
   "toc_cell": false,
   "toc_position": {},
   "toc_section_display": true,
   "toc_window_display": false
  },
  "varInspector": {
   "cols": {
    "lenName": 16,
    "lenType": 16,
    "lenVar": 40
   },
   "kernels_config": {
    "python": {
     "delete_cmd_postfix": "",
     "delete_cmd_prefix": "del ",
     "library": "var_list.py",
     "varRefreshCmd": "print(var_dic_list())"
    },
    "r": {
     "delete_cmd_postfix": ") ",
     "delete_cmd_prefix": "rm(",
     "library": "var_list.r",
     "varRefreshCmd": "cat(var_dic_list()) "
    }
   },
   "position": {
    "height": "458px",
    "left": "1088px",
    "right": "20px",
    "top": "93px",
    "width": "502px"
   },
   "types_to_exclude": [
    "module",
    "function",
    "builtin_function_or_method",
    "instance",
    "_Feature"
   ],
   "window_display": false
  }
 },
 "nbformat": 4,
 "nbformat_minor": 2
}
