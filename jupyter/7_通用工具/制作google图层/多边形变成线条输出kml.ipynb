{
 "cells": [
  {
   "cell_type": "code",
   "execution_count": 1,
   "metadata": {
    "ExecuteTime": {
     "end_time": "2020-07-14T16:20:52.937226Z",
     "start_time": "2020-07-14T16:20:51.554550Z"
    }
   },
   "outputs": [],
   "source": [
    "import pandas as pd\n",
    "import geopandas as gpd\n",
    "import mytools\n",
    "import math,simplekml,os"
   ]
  },
  {
   "cell_type": "markdown",
   "metadata": {},
   "source": [
    "# ---------------制作线条图层-----------------"
   ]
  },
  {
   "cell_type": "markdown",
   "metadata": {},
   "source": [
    "## 导入和导出设置 "
   ]
  },
  {
   "cell_type": "code",
   "execution_count": 2,
   "metadata": {
    "ExecuteTime": {
     "end_time": "2020-07-14T16:20:52.942727Z",
     "start_time": "2020-07-14T16:20:52.938726Z"
    }
   },
   "outputs": [],
   "source": [
    "out_file = 'G:/1-规划/图层/全省区域规划图层20200110/'"
   ]
  },
  {
   "cell_type": "code",
   "execution_count": 3,
   "metadata": {
    "ExecuteTime": {
     "end_time": "2020-07-14T16:20:53.246265Z",
     "start_time": "2020-07-14T16:20:52.945727Z"
    }
   },
   "outputs": [],
   "source": [
    "data = gpd.read_file('G:/1-规划/图层/全省区域规划图层20200110/全省区域规划图层20200110.TAB',encoding='gbk')"
   ]
  },
  {
   "cell_type": "code",
   "execution_count": 4,
   "metadata": {
    "ExecuteTime": {
     "end_time": "2020-07-14T16:20:53.254266Z",
     "start_time": "2020-07-14T16:20:53.248765Z"
    }
   },
   "outputs": [],
   "source": [
    "data['区域类型'] = data['区域类型'].replace({'3A景区':'景区','4A景区':'景区','5A景区':'景区'})"
   ]
  },
  {
   "cell_type": "code",
   "execution_count": 5,
   "metadata": {
    "ExecuteTime": {
     "end_time": "2020-07-14T16:20:53.261767Z",
     "start_time": "2020-07-14T16:20:53.256766Z"
    }
   },
   "outputs": [],
   "source": [
    "use_columns = ['地市名称', '县市名称', '区域名称', '区域类型', '覆盖面积', 'geometry']"
   ]
  },
  {
   "cell_type": "code",
   "execution_count": 6,
   "metadata": {
    "ExecuteTime": {
     "end_time": "2020-07-14T16:20:53.270268Z",
     "start_time": "2020-07-14T16:20:53.264767Z"
    }
   },
   "outputs": [],
   "source": [
    "data_use = data[use_columns]"
   ]
  },
  {
   "cell_type": "markdown",
   "metadata": {},
   "source": [
    "## 设置变量"
   ]
  },
  {
   "cell_type": "code",
   "execution_count": 7,
   "metadata": {
    "ExecuteTime": {
     "end_time": "2020-07-14T16:20:53.294771Z",
     "start_time": "2020-07-14T16:20:53.272768Z"
    }
   },
   "outputs": [
    {
     "data": {
      "text/html": [
       "<div>\n",
       "<style scoped>\n",
       "    .dataframe tbody tr th:only-of-type {\n",
       "        vertical-align: middle;\n",
       "    }\n",
       "\n",
       "    .dataframe tbody tr th {\n",
       "        vertical-align: top;\n",
       "    }\n",
       "\n",
       "    .dataframe thead th {\n",
       "        text-align: right;\n",
       "    }\n",
       "</style>\n",
       "<table border=\"1\" class=\"dataframe\">\n",
       "  <thead>\n",
       "    <tr style=\"text-align: right;\">\n",
       "      <th></th>\n",
       "      <th>地市名称</th>\n",
       "      <th>县市名称</th>\n",
       "      <th>区域名称</th>\n",
       "      <th>覆盖面积</th>\n",
       "      <th>geometry</th>\n",
       "    </tr>\n",
       "    <tr>\n",
       "      <th>区域类型</th>\n",
       "      <th></th>\n",
       "      <th></th>\n",
       "      <th></th>\n",
       "      <th></th>\n",
       "      <th></th>\n",
       "    </tr>\n",
       "  </thead>\n",
       "  <tbody>\n",
       "    <tr>\n",
       "      <td>一般城区</td>\n",
       "      <td>25</td>\n",
       "      <td>25</td>\n",
       "      <td>25</td>\n",
       "      <td>25</td>\n",
       "      <td>25</td>\n",
       "    </tr>\n",
       "    <tr>\n",
       "      <td>主城区</td>\n",
       "      <td>16</td>\n",
       "      <td>16</td>\n",
       "      <td>16</td>\n",
       "      <td>16</td>\n",
       "      <td>16</td>\n",
       "    </tr>\n",
       "    <tr>\n",
       "      <td>乡镇</td>\n",
       "      <td>1193</td>\n",
       "      <td>1193</td>\n",
       "      <td>1193</td>\n",
       "      <td>1193</td>\n",
       "      <td>1193</td>\n",
       "    </tr>\n",
       "    <tr>\n",
       "      <td>县城</td>\n",
       "      <td>72</td>\n",
       "      <td>72</td>\n",
       "      <td>72</td>\n",
       "      <td>72</td>\n",
       "      <td>72</td>\n",
       "    </tr>\n",
       "    <tr>\n",
       "      <td>景区</td>\n",
       "      <td>186</td>\n",
       "      <td>186</td>\n",
       "      <td>186</td>\n",
       "      <td>186</td>\n",
       "      <td>186</td>\n",
       "    </tr>\n",
       "    <tr>\n",
       "      <td>热点</td>\n",
       "      <td>85</td>\n",
       "      <td>85</td>\n",
       "      <td>85</td>\n",
       "      <td>85</td>\n",
       "      <td>85</td>\n",
       "    </tr>\n",
       "  </tbody>\n",
       "</table>\n",
       "</div>"
      ],
      "text/plain": [
       "      地市名称  县市名称  区域名称  覆盖面积  geometry\n",
       "区域类型                                  \n",
       "一般城区    25    25    25    25        25\n",
       "主城区     16    16    16    16        16\n",
       "乡镇    1193  1193  1193  1193      1193\n",
       "县城      72    72    72    72        72\n",
       "景区     186   186   186   186       186\n",
       "热点      85    85    85    85        85"
      ]
     },
     "execution_count": 7,
     "metadata": {},
     "output_type": "execute_result"
    }
   ],
   "source": [
    "data_use.groupby('区域类型').count()"
   ]
  },
  {
   "cell_type": "code",
   "execution_count": 8,
   "metadata": {
    "ExecuteTime": {
     "end_time": "2020-07-14T16:20:53.300772Z",
     "start_time": "2020-07-14T16:20:53.297772Z"
    }
   },
   "outputs": [],
   "source": [
    "#- 变量 - 设置经纬度和参与循环的字段\n",
    "lon,lat,use_id = ['lon','lat','区域名称']"
   ]
  },
  {
   "cell_type": "code",
   "execution_count": 9,
   "metadata": {
    "ExecuteTime": {
     "end_time": "2020-07-14T16:20:53.308773Z",
     "start_time": "2020-07-14T16:20:53.304773Z"
    }
   },
   "outputs": [],
   "source": [
    "#- 颜色 - 按照字符设置颜色\n",
    "colour_data = '区域类型'\n",
    "colour_dic = {'主城区':'red','一般城区':'orange','县城':'yellow','乡镇':'blue','景区':'green','热点':'white'}"
   ]
  },
  {
   "cell_type": "code",
   "execution_count": 10,
   "metadata": {
    "ExecuteTime": {
     "end_time": "2020-07-14T16:20:53.313774Z",
     "start_time": "2020-07-14T16:20:53.311273Z"
    }
   },
   "outputs": [],
   "source": [
    "#- 标注 -添加标注列\n",
    "de_col = use_columns\n",
    "de_col.remove('geometry')"
   ]
  },
  {
   "cell_type": "code",
   "execution_count": 11,
   "metadata": {
    "ExecuteTime": {
     "end_time": "2020-07-14T16:20:53.319774Z",
     "start_time": "2020-07-14T16:20:53.316774Z"
    }
   },
   "outputs": [],
   "source": [
    "#- 视野 - 在1400*900的分辨率下  view = 70米对应：125公里（差不多能看到武汉主城区）  700对应1200公里（差不多能看到湖北省）\n",
    "view = 50000"
   ]
  },
  {
   "cell_type": "markdown",
   "metadata": {},
   "source": [
    "## 数据整理"
   ]
  },
  {
   "cell_type": "code",
   "execution_count": 12,
   "metadata": {
    "ExecuteTime": {
     "end_time": "2020-07-14T16:20:53.339777Z",
     "start_time": "2020-07-14T16:20:53.322275Z"
    }
   },
   "outputs": [
    {
     "data": {
      "text/html": [
       "<div>\n",
       "<style scoped>\n",
       "    .dataframe tbody tr th:only-of-type {\n",
       "        vertical-align: middle;\n",
       "    }\n",
       "\n",
       "    .dataframe tbody tr th {\n",
       "        vertical-align: top;\n",
       "    }\n",
       "\n",
       "    .dataframe thead th {\n",
       "        text-align: right;\n",
       "    }\n",
       "</style>\n",
       "<table border=\"1\" class=\"dataframe\">\n",
       "  <thead>\n",
       "    <tr style=\"text-align: right;\">\n",
       "      <th></th>\n",
       "      <th>地市名称</th>\n",
       "      <th>县市名称</th>\n",
       "      <th>区域名称</th>\n",
       "      <th>区域类型</th>\n",
       "      <th>覆盖面积</th>\n",
       "      <th>geometry</th>\n",
       "    </tr>\n",
       "  </thead>\n",
       "  <tbody>\n",
       "    <tr>\n",
       "      <td>0</td>\n",
       "      <td>孝感</td>\n",
       "      <td>安陆</td>\n",
       "      <td>接官乡</td>\n",
       "      <td>乡镇</td>\n",
       "      <td>1.02963</td>\n",
       "      <td>POLYGON ((113.75599 31.43954, 113.75366 31.438...</td>\n",
       "    </tr>\n",
       "  </tbody>\n",
       "</table>\n",
       "</div>"
      ],
      "text/plain": [
       "  地市名称 县市名称 区域名称 区域类型     覆盖面积  \\\n",
       "0   孝感   安陆  接官乡   乡镇  1.02963   \n",
       "\n",
       "                                            geometry  \n",
       "0  POLYGON ((113.75599 31.43954, 113.75366 31.438...  "
      ]
     },
     "execution_count": 12,
     "metadata": {},
     "output_type": "execute_result"
    }
   ],
   "source": [
    "data_use.head(1)"
   ]
  },
  {
   "cell_type": "code",
   "execution_count": 13,
   "metadata": {
    "ExecuteTime": {
     "end_time": "2020-07-14T16:20:53.398784Z",
     "start_time": "2020-07-14T16:20:53.341777Z"
    }
   },
   "outputs": [],
   "source": [
    "#添加标注列\n",
    "data_use['description']=''\n",
    "for inde_1, name_1 in enumerate(de_col):\n",
    "    data_use['linshi']=de_col[inde_1]+' : '+data_use[de_col[inde_1]].astype('str')+'\\n'\n",
    "    data_use['description'] = data_use['description']+data_use['linshi']\n",
    "    data_use.drop(columns='linshi')"
   ]
  },
  {
   "cell_type": "code",
   "execution_count": 14,
   "metadata": {
    "ExecuteTime": {
     "end_time": "2020-07-14T16:20:53.930852Z",
     "start_time": "2020-07-14T16:20:53.402285Z"
    }
   },
   "outputs": [],
   "source": [
    "#多边形的质心\n",
    "data_use[['lon','lat']] = data_use.apply(lambda x:pd.Series(x['geometry'].centroid.coords[:][0]),axis=1)#"
   ]
  },
  {
   "cell_type": "code",
   "execution_count": 15,
   "metadata": {
    "ExecuteTime": {
     "end_time": "2020-07-14T16:20:53.955355Z",
     "start_time": "2020-07-14T16:20:53.932352Z"
    }
   },
   "outputs": [],
   "source": [
    "data_sectors= data_use.copy()\n",
    "#添加lod的polygon\n",
    "data_sectors['lod_dis']= view\n",
    "data_sectors['lon1'] = data_sectors[lon] + data_sectors['lod_dis']*np.sin(45* np.pi/180)*180/( np.pi * 6371229 * np.cos(data_sectors[lat] * np.pi/180))\n",
    "data_sectors['lat1'] = data_sectors[lat] + data_sectors['lod_dis']*np.cos(45* np.pi/180) / ( np.pi * 6371229 / 180)\n",
    "data_sectors['lon2'] = data_sectors[lon] + data_sectors['lod_dis']*np.sin(225* np.pi/180)*180/( np.pi * 6371229 * np.cos(data_sectors[lat] * np.pi/180))\n",
    "data_sectors['lat2'] = data_sectors[lat] + data_sectors['lod_dis']*np.cos(225* np.pi/180) / ( np.pi * 6371229 / 180)\n",
    "data_sectors['list_data']=[([lon_1, lat_1,lon_2, lat_2]) \n",
    " for lon_1, lat_1,lon_2, lat_2 in zip(data_sectors['lon1'],data_sectors['lat1'],data_sectors['lon2'],data_sectors['lat2'])]"
   ]
  },
  {
   "cell_type": "code",
   "execution_count": 16,
   "metadata": {
    "ExecuteTime": {
     "end_time": "2020-07-14T16:20:53.960356Z",
     "start_time": "2020-07-14T16:20:53.957355Z"
    }
   },
   "outputs": [],
   "source": [
    "# df = data_sectors.copy()\n",
    "# #添加颜色列-数字\n",
    "# df = data_sectors.copy()\n",
    "# df['colour']=1\n",
    "# df['colour'] = pd.cut(df['colour'],bins=[-0.1, 0.7, 0.936, 1.1],labels =['red', 'yellow', 'green'])\n",
    "# df['colour'] = df['colour'].astype('object')\n",
    "# # df.loc[df[rsrp_count]<100,'colour']='white'"
   ]
  },
  {
   "cell_type": "code",
   "execution_count": 17,
   "metadata": {
    "ExecuteTime": {
     "end_time": "2020-07-14T16:20:53.984859Z",
     "start_time": "2020-07-14T16:20:53.962356Z"
    }
   },
   "outputs": [],
   "source": [
    "df = data_sectors.copy()\n",
    "#添加颜色列-文字\n",
    "df['colour']='white'\n",
    "for name_col in colour_dic:\n",
    "    df.loc[df[colour_data]==name_col,'colour'] =colour_dic[name_col]"
   ]
  },
  {
   "cell_type": "code",
   "execution_count": 18,
   "metadata": {
    "ExecuteTime": {
     "end_time": "2020-07-14T16:20:53.991860Z",
     "start_time": "2020-07-14T16:20:53.986359Z"
    }
   },
   "outputs": [],
   "source": [
    "#最终使用的列\n",
    "df_use = df.reindex(columns=[use_id,colour_data, 'list_data','colour','description','geometry'])   "
   ]
  },
  {
   "cell_type": "markdown",
   "metadata": {},
   "source": [
    "## 生成图层"
   ]
  },
  {
   "cell_type": "code",
   "execution_count": 19,
   "metadata": {
    "ExecuteTime": {
     "end_time": "2020-07-14T16:20:54.005361Z",
     "start_time": "2020-07-14T16:20:53.993860Z"
    }
   },
   "outputs": [],
   "source": [
    "def make_kml(data_t,name='红色栅格',cc='ff0000ff',xiankuan=0,namea='grid_id',list_data = 'list_data',description='description',minlodpixels=1):\n",
    "    print(data_t.shape,cc,xiankuan,namea,list_data,description,minlodpixels)\n",
    "    style = simplekml.Style()\n",
    "    style.linestyle.color = simplekml.Color.changealphaint(220, cc)  # 最终线条上色\n",
    "    style.linestyle.width = xiankuan\n",
    "#     style.polystyle.color = simplekml.Color.changealphaint(135, cc )  # 最终形状上色\n",
    "    lod1 = simplekml.Lod(minlodpixels=minlodpixels, maxlodpixels=-1,minfadeextent=None, maxfadeextent=None)\n",
    "    grid_red = kml.newfolder(name=name)\n",
    "    for grid,list_data ,description_str,geo in zip(data_t[namea],data_t[list_data],data_t[description],data_t['geometry']):\n",
    "#         pol_r = grid_red.newpolygon(name=grid,outerboundaryis=list_data[0])#栅格使用\n",
    "        pol_r = grid_red.newlinestring(name=grid,coords=list(geo.exterior.coords))\n",
    "        pol_r.description = description_str\n",
    "        pol_r.altitudemode = simplekml.AltitudeMode.clamptoground\n",
    "        lon_dd,lat_dd,lon1_dd,lat1_dd = list_data\n",
    "        latlonaltbox = simplekml.LatLonAltBox(east =lon_dd ,north=lat_dd ,south=lat1_dd ,west=lon1_dd,\n",
    "                                              minaltitude=None, maxaltitude=None, altitudemode=None)\n",
    "        pol_r.region.latlonaltbox = latlonaltbox\n",
    "        pol_r.region.lod = lod1\n",
    "        pol_r.style=style"
   ]
  },
  {
   "cell_type": "code",
   "execution_count": 20,
   "metadata": {
    "ExecuteTime": {
     "end_time": "2020-07-14T16:20:54.041366Z",
     "start_time": "2020-07-14T16:20:54.007862Z"
    }
   },
   "outputs": [],
   "source": [
    "df_use_p = df_use.explode()"
   ]
  },
  {
   "cell_type": "code",
   "execution_count": 21,
   "metadata": {
    "ExecuteTime": {
     "end_time": "2020-07-14T16:20:54.049367Z",
     "start_time": "2020-07-14T16:20:54.043366Z"
    }
   },
   "outputs": [],
   "source": [
    "df_use_p = df_use_p.reset_index(drop=True)"
   ]
  },
  {
   "cell_type": "code",
   "execution_count": null,
   "metadata": {},
   "outputs": [],
   "source": [
    "colour_dic = {'主城区':'red','一般城区':'orange','县城':'yellow','乡镇':'blue','景区':'green','热点':'white'}"
   ]
  },
  {
   "cell_type": "code",
   "execution_count": 27,
   "metadata": {
    "ExecuteTime": {
     "end_time": "2020-07-14T16:25:07.495551Z",
     "start_time": "2020-07-14T16:25:05.572306Z"
    }
   },
   "outputs": [
    {
     "name": "stdout",
     "output_type": "stream",
     "text": [
      "(1205, 6) ffff0000 2 区域名称 list_data description 50\n",
      "(194, 6) ff008000 2 区域名称 list_data description 50\n",
      "(57, 6) ff00a5ff 2 区域名称 list_data description 50\n",
      "(16, 6) ff0000ff 2 区域名称 list_data description 50\n",
      "(85, 6) ffffffff 2 区域名称 list_data description 50\n",
      "(79, 6) ff00ffff 2 区域名称 list_data description 50\n",
      "生成图层成功存放在G:/1-规划/图层/全省区域规划图层20200110/\n"
     ]
    }
   ],
   "source": [
    "kml = simplekml.Kml()\n",
    "for name_c,data_t in df_use_p.groupby('colour'):#red:ff0000ff,green:ff008000,yellow:ff00ffff,white:ffffffff,bule:ffff0000\n",
    "    if 'red' ==name_c:\n",
    "        make_kml(data_t,name='主城区{}个'.format(data_t.shape[0]),cc='ff0000ff',namea=use_id,minlodpixels=50,xiankuan=2)\n",
    "    elif 'blue' == name_c:\n",
    "        make_kml(data_t,name='乡镇{}个'.format(data_t.shape[0]),cc='ffff0000',namea=use_id,minlodpixels=50,xiankuan=2)\n",
    "    elif 'yellow' == name_c:\n",
    "        make_kml(data_t,name='县城{}个'.format(data_t.shape[0]),cc='ff00ffff',namea=use_id,minlodpixels=50,xiankuan=2)\n",
    "    elif 'white' == name_c:\n",
    "        make_kml(data_t,name='热点{}个'.format(data_t.shape[0]),cc='ffffffff',namea=use_id,minlodpixels=50,xiankuan=2)\n",
    "    elif 'green'  == name_c:\n",
    "        make_kml(data_t,name='景区{}个'.format(data_t.shape[0]),cc='ff008000',namea=use_id,minlodpixels=50,xiankuan=2)\n",
    "    elif 'orange'  == name_c:\n",
    "        make_kml(data_t,name='一般城区{}个'.format(data_t.shape[0]),cc='ff00a5ff',namea=use_id,minlodpixels=50,xiankuan=2)\n",
    "kml.savekmz('{}输出线条格式.kml'.format(out_file), False)\n",
    "print('生成图层成功存放在{}'.format(out_file))"
   ]
  },
  {
   "cell_type": "code",
   "execution_count": null,
   "metadata": {},
   "outputs": [],
   "source": []
  }
 ],
 "metadata": {
  "kernelspec": {
   "display_name": "Python 3",
   "language": "python",
   "name": "python3"
  },
  "language_info": {
   "codemirror_mode": {
    "name": "ipython",
    "version": 3
   },
   "file_extension": ".py",
   "mimetype": "text/x-python",
   "name": "python",
   "nbconvert_exporter": "python",
   "pygments_lexer": "ipython3",
   "version": "3.7.4"
  },
  "toc": {
   "base_numbering": 1,
   "nav_menu": {},
   "number_sections": true,
   "sideBar": true,
   "skip_h1_title": false,
   "title_cell": "Table of Contents",
   "title_sidebar": "Contents",
   "toc_cell": false,
   "toc_position": {},
   "toc_section_display": true,
   "toc_window_display": false
  },
  "varInspector": {
   "cols": {
    "lenName": 16,
    "lenType": 16,
    "lenVar": 40
   },
   "kernels_config": {
    "python": {
     "delete_cmd_postfix": "",
     "delete_cmd_prefix": "del ",
     "library": "var_list.py",
     "varRefreshCmd": "print(var_dic_list())"
    },
    "r": {
     "delete_cmd_postfix": ") ",
     "delete_cmd_prefix": "rm(",
     "library": "var_list.r",
     "varRefreshCmd": "cat(var_dic_list()) "
    }
   },
   "types_to_exclude": [
    "module",
    "function",
    "builtin_function_or_method",
    "instance",
    "_Feature"
   ],
   "window_display": false
  }
 },
 "nbformat": 4,
 "nbformat_minor": 2
}
