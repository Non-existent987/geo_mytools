{
 "cells": [
  {
   "cell_type": "code",
   "execution_count": 1,
   "metadata": {
    "ExecuteTime": {
     "end_time": "2020-07-14T15:37:31.959444Z",
     "start_time": "2020-07-14T15:37:30.128211Z"
    }
   },
   "outputs": [],
   "source": [
    "import math,simplekml,os\n",
    "import pandas as pd\n",
    "import geopandas as gpd\n",
    "import numpy as np\n",
    "import mytools"
   ]
  },
  {
   "cell_type": "markdown",
   "metadata": {},
   "source": [
    "# 1-导入数据"
   ]
  },
  {
   "cell_type": "code",
   "execution_count": 2,
   "metadata": {
    "ExecuteTime": {
     "end_time": "2020-07-14T15:37:31.978446Z",
     "start_time": "2020-07-14T15:37:31.975946Z"
    }
   },
   "outputs": [],
   "source": [
    "#输出位置\n",
    "out_file = 'G:/1-规划/评估/覆盖空洞/20200712第四版本/4-相关图层输出/2小区覆盖/'"
   ]
  },
  {
   "cell_type": "code",
   "execution_count": 3,
   "metadata": {
    "ExecuteTime": {
     "end_time": "2020-07-14T15:37:34.068711Z",
     "start_time": "2020-07-14T15:37:31.993948Z"
    }
   },
   "outputs": [
    {
     "name": "stderr",
     "output_type": "stream",
     "text": [
      "C:\\ProgramData\\Anaconda3\\lib\\site-packages\\IPython\\core\\interactiveshell.py:3058: DtypeWarning: Columns (9,10) have mixed types. Specify dtype option on import or set low_memory=False.\n",
      "  interactivity=interactivity, compiler=compiler, result=result)\n"
     ]
    }
   ],
   "source": [
    "data = pd.read_csv('G:/1-规划/评估/覆盖空洞/20200712第四版本/2-程序数据出-过程/1-修正半径后使用的数据/1_修正半径_2周边建筑修正.csv',encoding='gbk')"
   ]
  },
  {
   "cell_type": "code",
   "execution_count": 4,
   "metadata": {
    "ExecuteTime": {
     "end_time": "2020-07-14T15:37:34.461261Z",
     "start_time": "2020-07-14T15:37:34.428257Z"
    }
   },
   "outputs": [
    {
     "data": {
      "text/html": [
       "<div>\n",
       "<style scoped>\n",
       "    .dataframe tbody tr th:only-of-type {\n",
       "        vertical-align: middle;\n",
       "    }\n",
       "\n",
       "    .dataframe tbody tr th {\n",
       "        vertical-align: top;\n",
       "    }\n",
       "\n",
       "    .dataframe thead th {\n",
       "        text-align: right;\n",
       "    }\n",
       "</style>\n",
       "<table border=\"1\" class=\"dataframe\">\n",
       "  <thead>\n",
       "    <tr style=\"text-align: right;\">\n",
       "      <th></th>\n",
       "      <th>Unnamed: 0</th>\n",
       "      <th>小区CGI(*)</th>\n",
       "      <th>小区中文名</th>\n",
       "      <th>所属地区</th>\n",
       "      <th>RRU经度</th>\n",
       "      <th>RRU纬度</th>\n",
       "      <th>天线挂高</th>\n",
       "      <th>方位角</th>\n",
       "      <th>工作频段</th>\n",
       "      <th>归属区县</th>\n",
       "      <th>...</th>\n",
       "      <th>区域类型</th>\n",
       "      <th>distance</th>\n",
       "      <th>覆盖模型距离</th>\n",
       "      <th>30米覆盖模型距离</th>\n",
       "      <th>使用覆盖半径</th>\n",
       "      <th>distance_use</th>\n",
       "      <th>distance_yb</th>\n",
       "      <th>h_use</th>\n",
       "      <th>高度建筑比</th>\n",
       "      <th>distance_use_3</th>\n",
       "    </tr>\n",
       "  </thead>\n",
       "  <tbody>\n",
       "    <tr>\n",
       "      <td>0</td>\n",
       "      <td>0</td>\n",
       "      <td>460-00-52246-2</td>\n",
       "      <td>公安群力-ELH-2</td>\n",
       "      <td>荆州</td>\n",
       "      <td>112.14735</td>\n",
       "      <td>30.12405</td>\n",
       "      <td>42.0</td>\n",
       "      <td>157.0</td>\n",
       "      <td>1800</td>\n",
       "      <td>公安县</td>\n",
       "      <td>...</td>\n",
       "      <td>农村</td>\n",
       "      <td>1000.0</td>\n",
       "      <td>1597.297478</td>\n",
       "      <td>1382.063443</td>\n",
       "      <td>1155.733831</td>\n",
       "      <td>1155.733831</td>\n",
       "      <td>500.0</td>\n",
       "      <td>NaN</td>\n",
       "      <td>NaN</td>\n",
       "      <td>1155.733831</td>\n",
       "    </tr>\n",
       "  </tbody>\n",
       "</table>\n",
       "<p>1 rows × 21 columns</p>\n",
       "</div>"
      ],
      "text/plain": [
       "   Unnamed: 0        小区CGI(*)       小区中文名 所属地区      RRU经度     RRU纬度  天线挂高  \\\n",
       "0           0  460-00-52246-2  公安群力-ELH-2   荆州  112.14735  30.12405  42.0   \n",
       "\n",
       "     方位角  工作频段 归属区县  ... 区域类型 distance       覆盖模型距离    30米覆盖模型距离       使用覆盖半径  \\\n",
       "0  157.0  1800  公安县  ...   农村   1000.0  1597.297478  1382.063443  1155.733831   \n",
       "\n",
       "   distance_use  distance_yb  h_use  高度建筑比  distance_use_3  \n",
       "0   1155.733831        500.0    NaN    NaN     1155.733831  \n",
       "\n",
       "[1 rows x 21 columns]"
      ]
     },
     "execution_count": 4,
     "metadata": {},
     "output_type": "execute_result"
    }
   ],
   "source": [
    "data.head(1)"
   ]
  },
  {
   "cell_type": "markdown",
   "metadata": {},
   "source": [
    "# 参数设置"
   ]
  },
  {
   "cell_type": "code",
   "execution_count": 5,
   "metadata": {
    "ExecuteTime": {
     "end_time": "2020-07-14T15:37:34.842810Z",
     "start_time": "2020-07-14T15:37:34.810306Z"
    }
   },
   "outputs": [],
   "source": [
    "data_use = data[['小区CGI(*)', '小区中文名', 'RRU经度', 'RRU纬度', '天线挂高', '方位角',\n",
    "        '归属区县','所属地区', '区域类型', 'distance', 'h_use', 'distance_use_3']]\n",
    "#- 标注 -添加标注列\n",
    "use_columns = ['CGI', 'name', 'lon', 'lat', '基站高度', '方位角',\n",
    "        '归属区县','所属地区', '区域类型', '标准覆盖半径', '建筑物高度', '修正后覆盖半径']\n",
    "data_use.columns = use_columns"
   ]
  },
  {
   "cell_type": "code",
   "execution_count": 6,
   "metadata": {
    "ExecuteTime": {
     "end_time": "2020-07-14T15:37:35.248861Z",
     "start_time": "2020-07-14T15:37:35.245361Z"
    }
   },
   "outputs": [],
   "source": [
    "#- 变量 - 设置经纬度和参与循环的字段\n",
    "lon,lat,azimuth,radius,city,region ,use_id= ['lon', 'lat',  '方位角', '修正后覆盖半径','所属地区','归属区县','name']"
   ]
  },
  {
   "cell_type": "code",
   "execution_count": 7,
   "metadata": {
    "ExecuteTime": {
     "end_time": "2020-07-14T15:37:35.646412Z",
     "start_time": "2020-07-14T15:37:35.638911Z"
    }
   },
   "outputs": [
    {
     "name": "stderr",
     "output_type": "stream",
     "text": [
      "C:\\ProgramData\\Anaconda3\\lib\\site-packages\\ipykernel_launcher.py:2: SettingWithCopyWarning: \n",
      "A value is trying to be set on a copy of a slice from a DataFrame.\n",
      "Try using .loc[row_indexer,col_indexer] = value instead\n",
      "\n",
      "See the caveats in the documentation: http://pandas.pydata.org/pandas-docs/stable/user_guide/indexing.html#returning-a-view-versus-a-copy\n",
      "  \n"
     ]
    }
   ],
   "source": [
    "#- 颜色 - 只要一个颜色\n",
    "data_use['colour']='white'"
   ]
  },
  {
   "cell_type": "code",
   "execution_count": 8,
   "metadata": {
    "ExecuteTime": {
     "end_time": "2020-07-14T15:37:36.036961Z",
     "start_time": "2020-07-14T15:37:36.034461Z"
    }
   },
   "outputs": [],
   "source": [
    "# #- 颜色 - 按照字符设置颜色\n",
    "# colour_data = '空洞级别'\n",
    "# colour_dic = {'大':'red','中':'yellow','小':'blue','微':'white','other':'white'}"
   ]
  },
  {
   "cell_type": "code",
   "execution_count": 9,
   "metadata": {
    "ExecuteTime": {
     "end_time": "2020-07-14T15:37:36.422010Z",
     "start_time": "2020-07-14T15:37:36.419510Z"
    }
   },
   "outputs": [],
   "source": [
    "#- 视野 - 在1400*900的分辨率下  view = 70米对应：125公里（差不多能看到武汉主城区）  700对应1200公里（差不多能看到湖北省） 40：65公里\n",
    "view = 700"
   ]
  },
  {
   "cell_type": "markdown",
   "metadata": {},
   "source": [
    "# 2-数据整理-将所需的数据添加到列"
   ]
  },
  {
   "cell_type": "markdown",
   "metadata": {},
   "source": [
    "### 功能模块化"
   ]
  },
  {
   "cell_type": "code",
   "execution_count": 10,
   "metadata": {
    "ExecuteTime": {
     "end_time": "2020-07-14T15:37:41.564163Z",
     "start_time": "2020-07-14T15:37:36.804059Z"
    },
    "scrolled": false
   },
   "outputs": [
    {
     "name": "stderr",
     "output_type": "stream",
     "text": [
      "C:\\ProgramData\\Anaconda3\\lib\\site-packages\\ipykernel_launcher.py:3: SettingWithCopyWarning: \n",
      "A value is trying to be set on a copy of a slice from a DataFrame.\n",
      "Try using .loc[row_indexer,col_indexer] = value instead\n",
      "\n",
      "See the caveats in the documentation: http://pandas.pydata.org/pandas-docs/stable/user_guide/indexing.html#returning-a-view-versus-a-copy\n",
      "  This is separate from the ipykernel package so we can avoid doing imports until\n",
      "C:\\ProgramData\\Anaconda3\\lib\\site-packages\\ipykernel_launcher.py:5: SettingWithCopyWarning: \n",
      "A value is trying to be set on a copy of a slice from a DataFrame.\n",
      "Try using .loc[row_indexer,col_indexer] = value instead\n",
      "\n",
      "See the caveats in the documentation: http://pandas.pydata.org/pandas-docs/stable/user_guide/indexing.html#returning-a-view-versus-a-copy\n",
      "  \"\"\"\n",
      "C:\\ProgramData\\Anaconda3\\lib\\site-packages\\ipykernel_launcher.py:6: SettingWithCopyWarning: \n",
      "A value is trying to be set on a copy of a slice from a DataFrame.\n",
      "Try using .loc[row_indexer,col_indexer] = value instead\n",
      "\n",
      "See the caveats in the documentation: http://pandas.pydata.org/pandas-docs/stable/user_guide/indexing.html#returning-a-view-versus-a-copy\n",
      "  \n"
     ]
    }
   ],
   "source": [
    "#添加标注列\n",
    "de_col = use_columns\n",
    "data_use['description']=''\n",
    "for inde_1, name_1 in enumerate(use_columns):\n",
    "    data_use['linshi']=de_col[inde_1]+' : '+data_use[de_col[inde_1]].astype('str')+'\\n'\n",
    "    data_use['description'] = data_use['description']+data_use['linshi']\n",
    "    data_use.drop(columns='linshi')"
   ]
  },
  {
   "cell_type": "code",
   "execution_count": 11,
   "metadata": {
    "ExecuteTime": {
     "end_time": "2020-07-14T15:44:03.671685Z",
     "start_time": "2020-07-14T15:37:41.964214Z"
    },
    "scrolled": true
   },
   "outputs": [],
   "source": [
    "# 添加扇形的列\n",
    "data_sectors = mytools.gisn.add_sectors_df(data_use,\n",
    "    coords=[lon,lat,'d_height',azimuth,radius],\n",
    "    has_z=False,\n",
    "    sec_col='geometry',\n",
    "    shape_dict={'beam': 120, 'per_degree': 10})"
   ]
  },
  {
   "cell_type": "code",
   "execution_count": 12,
   "metadata": {
    "ExecuteTime": {
     "end_time": "2020-07-14T15:44:11.469675Z",
     "start_time": "2020-07-14T15:44:10.869599Z"
    }
   },
   "outputs": [],
   "source": [
    "#添加lod的polygon\n",
    "data_sectors['lod_dis']= view\n",
    "data_sectors['lon1'] = data_sectors[lon] + data_sectors['lod_dis']*np.sin(45* np.pi/180)*180/( np.pi * 6371229 * np.cos(data_sectors[lat] * np.pi/180))\n",
    "data_sectors['lat1'] = data_sectors[lat] + data_sectors['lod_dis']*np.cos(45* np.pi/180) / ( np.pi * 6371229 / 180)\n",
    "data_sectors['lon2'] = data_sectors[lon] + data_sectors['lod_dis']*np.sin(225* np.pi/180)*180/( np.pi * 6371229 * np.cos(data_sectors[lat] * np.pi/180))\n",
    "data_sectors['lat2'] = data_sectors[lat] + data_sectors['lod_dis']*np.cos(225* np.pi/180) / ( np.pi * 6371229 / 180)\n",
    "data_sectors['list_data']=[([lon_1, lat_1,lon_2, lat_2]) \n",
    " for lon_1, lat_1,lon_2, lat_2 in zip(data_sectors['lon1'],data_sectors['lat1'],data_sectors['lon2'],data_sectors['lat2'])]"
   ]
  },
  {
   "cell_type": "code",
   "execution_count": 13,
   "metadata": {
    "ExecuteTime": {
     "end_time": "2020-07-14T15:44:20.546328Z",
     "start_time": "2020-07-14T15:44:20.543327Z"
    }
   },
   "outputs": [],
   "source": [
    "# #添加颜色列\n",
    "# df = data_sectors.copy()\n",
    "# df['colour']=1\n",
    "# df['colour'] = pd.cut(df['colour'],bins=[-0.1, 0.7, 0.936, 1.1],labels =['red', 'yellow', 'green'])\n",
    "# df['colour'] = df['colour'].astype('object')\n",
    "# # df.loc[df[rsrp_count]<100,'colour']='white'"
   ]
  },
  {
   "cell_type": "code",
   "execution_count": 14,
   "metadata": {
    "ExecuteTime": {
     "end_time": "2020-07-14T15:44:30.758124Z",
     "start_time": "2020-07-14T15:44:30.455086Z"
    }
   },
   "outputs": [],
   "source": [
    "#最终使用的列\n",
    "df_use = data_sectors.reindex(columns=[city,region,use_id, 'list_data','colour','description','geometry'])   "
   ]
  },
  {
   "cell_type": "code",
   "execution_count": 15,
   "metadata": {
    "ExecuteTime": {
     "end_time": "2020-07-14T15:45:00.381386Z",
     "start_time": "2020-07-14T15:44:44.799907Z"
    }
   },
   "outputs": [],
   "source": [
    "#导出数据\n",
    "df_use.to_pickle('{}图层制作google使用.data'.format(out_file))"
   ]
  },
  {
   "cell_type": "markdown",
   "metadata": {},
   "source": [
    "# 生成图层"
   ]
  },
  {
   "cell_type": "code",
   "execution_count": 16,
   "metadata": {
    "ExecuteTime": {
     "end_time": "2020-07-14T15:45:13.883100Z",
     "start_time": "2020-07-14T15:45:13.872599Z"
    }
   },
   "outputs": [],
   "source": [
    "def make_kml(data_t,name='红色栅格',cc='ff0000ff',xiankuan=0,namea='grid_id',list_data = 'list_data',description='description',minlodpixels=1):\n",
    "    style = simplekml.Style()\n",
    "    #style.linestyle.color = simplekml.Color.changealphaint(150, cc)  # 最终线条上色\n",
    "    style.polystyle.outline = xiankuan\n",
    "    style.polystyle.color = simplekml.Color.changealphaint(125, cc )  # 最终形状上色\n",
    "    lod1 = simplekml.Lod(minlodpixels=1, maxlodpixels=-1,minfadeextent=None, maxfadeextent=None)\n",
    "    grid_red = kml.newfolder(name=name)\n",
    "    for grid,list_data ,description_str,geo in zip(data_t[namea],data_t[list_data],data_t[description],data_t['geometry']):\n",
    "#         pol_r = grid_red.newpolygon(name=grid,outerboundaryis=list_data[0])#栅格使用\n",
    "        pol_r = grid_red.newpolygon(name=grid,outerboundaryis=list(geo.exterior.coords))\n",
    "        pol_r.description = description_str\n",
    "        pol_r.altitudemode = simplekml.AltitudeMode.clamptoground\n",
    "        lon_dd,lat_dd,lon1_dd,lat1_dd = list_data\n",
    "        latlonaltbox = simplekml.LatLonAltBox(east =lon_dd ,north=lat_dd ,south=lat1_dd ,west=lon1_dd,\n",
    "                                              minaltitude=None, maxaltitude=None, altitudemode=None)\n",
    "        pol_r.region.latlonaltbox = latlonaltbox\n",
    "        pol_r.region.lod = lod1\n",
    "        pol_r.style=style"
   ]
  },
  {
   "cell_type": "code",
   "execution_count": 17,
   "metadata": {
    "ExecuteTime": {
     "end_time": "2020-07-14T15:47:29.142776Z",
     "start_time": "2020-07-14T15:45:24.541954Z"
    },
    "scrolled": false
   },
   "outputs": [
    {
     "name": "stdout",
     "output_type": "stream",
     "text": [
      "生成图层成功存放在G:/1-规划/评估/覆盖空洞/20200712第四版本/4-相关图层输出/2小区覆盖/宏站覆盖图层_十堰.kmz\n",
      "生成图层成功存放在G:/1-规划/评估/覆盖空洞/20200712第四版本/4-相关图层输出/2小区覆盖/宏站覆盖图层_咸宁.kmz\n",
      "生成图层成功存放在G:/1-规划/评估/覆盖空洞/20200712第四版本/4-相关图层输出/2小区覆盖/宏站覆盖图层_天门.kmz\n",
      "生成图层成功存放在G:/1-规划/评估/覆盖空洞/20200712第四版本/4-相关图层输出/2小区覆盖/宏站覆盖图层_孝感.kmz\n",
      "生成图层成功存放在G:/1-规划/评估/覆盖空洞/20200712第四版本/4-相关图层输出/2小区覆盖/宏站覆盖图层_宜昌.kmz\n",
      "生成图层成功存放在G:/1-规划/评估/覆盖空洞/20200712第四版本/4-相关图层输出/2小区覆盖/宏站覆盖图层_恩施.kmz\n",
      "生成图层成功存放在G:/1-规划/评估/覆盖空洞/20200712第四版本/4-相关图层输出/2小区覆盖/宏站覆盖图层_武汉.kmz\n",
      "生成图层成功存放在G:/1-规划/评估/覆盖空洞/20200712第四版本/4-相关图层输出/2小区覆盖/宏站覆盖图层_江汉.kmz\n",
      "生成图层成功存放在G:/1-规划/评估/覆盖空洞/20200712第四版本/4-相关图层输出/2小区覆盖/宏站覆盖图层_潜江.kmz\n",
      "生成图层成功存放在G:/1-规划/评估/覆盖空洞/20200712第四版本/4-相关图层输出/2小区覆盖/宏站覆盖图层_荆州.kmz\n",
      "生成图层成功存放在G:/1-规划/评估/覆盖空洞/20200712第四版本/4-相关图层输出/2小区覆盖/宏站覆盖图层_荆门.kmz\n",
      "生成图层成功存放在G:/1-规划/评估/覆盖空洞/20200712第四版本/4-相关图层输出/2小区覆盖/宏站覆盖图层_襄阳.kmz\n",
      "生成图层成功存放在G:/1-规划/评估/覆盖空洞/20200712第四版本/4-相关图层输出/2小区覆盖/宏站覆盖图层_鄂州.kmz\n",
      "生成图层成功存放在G:/1-规划/评估/覆盖空洞/20200712第四版本/4-相关图层输出/2小区覆盖/宏站覆盖图层_随州.kmz\n",
      "生成图层成功存放在G:/1-规划/评估/覆盖空洞/20200712第四版本/4-相关图层输出/2小区覆盖/宏站覆盖图层_黄冈.kmz\n",
      "生成图层成功存放在G:/1-规划/评估/覆盖空洞/20200712第四版本/4-相关图层输出/2小区覆盖/宏站覆盖图层_黄石.kmz\n"
     ]
    }
   ],
   "source": [
    "f = mytools.othern.file_name_paths(out_file)\n",
    "for name_f in f:\n",
    "#     name_region = name_f.split('.')[0].split('\\\\')[1]\n",
    "    grid_t = pd.read_pickle(name_f)\n",
    "    grid_groupby = grid_t.groupby([city])\n",
    "    for name_region,data_region in grid_groupby:\n",
    "        kml = simplekml.Kml()\n",
    "#         if not os.path.exists('G:/1-规划/评估/覆盖空洞/2020年6月/2-程序输出/修正覆盖半径/各个地市覆盖图层/{}'.format(name_region)):\n",
    "#             os.makedirs('G:/1-规划/评估/覆盖空洞/2020年6月/2-程序输出/修正覆盖半径/各个地市覆盖图层/{}'.format(name_region))\n",
    "        file = '{}宏站覆盖图层_{}.kmz'.format(out_file,name_region)\n",
    "        for name_c,data_t in data_region.groupby('colour'):\n",
    "            if 'red' ==name_c:\n",
    "                make_kml(data_t,name='红色{}个'.format(data_t.shape[0]),cc='ff0000ff',namea=use_id)\n",
    "            elif 'green' == name_c:\n",
    "                make_kml(data_t,name='绿色{}个'.format(data_t.shape[0]),cc='ffe6d8ad',namea=use_id)#正常是ff008000\n",
    "            elif 'yellow' == name_c:\n",
    "                make_kml(data_t,name='黄色{}个'.format(data_t.shape[0]),cc='ff00ffff',namea=use_id)\n",
    "            elif 'white' == name_c:\n",
    "                make_kml(data_t,name='白色{}个'.format(data_t.shape[0]),cc='ffffffff',namea=use_id)\n",
    "        kml.save(file) if 'kml' in file else kml.savekmz(file, False)\n",
    "        print('生成图层成功存放在{}'.format(file))"
   ]
  },
  {
   "cell_type": "code",
   "execution_count": 18,
   "metadata": {
    "ExecuteTime": {
     "end_time": "2020-07-14T15:47:45.874401Z",
     "start_time": "2020-07-14T15:47:43.692624Z"
    }
   },
   "outputs": [],
   "source": [
    "mytools.sound()"
   ]
  },
  {
   "cell_type": "code",
   "execution_count": null,
   "metadata": {},
   "outputs": [],
   "source": []
  }
 ],
 "metadata": {
  "kernelspec": {
   "display_name": "Python 3",
   "language": "python",
   "name": "python3"
  },
  "language_info": {
   "codemirror_mode": {
    "name": "ipython",
    "version": 3
   },
   "file_extension": ".py",
   "mimetype": "text/x-python",
   "name": "python",
   "nbconvert_exporter": "python",
   "pygments_lexer": "ipython3",
   "version": "3.7.4"
  },
  "toc": {
   "base_numbering": 1,
   "nav_menu": {},
   "number_sections": true,
   "sideBar": true,
   "skip_h1_title": false,
   "title_cell": "Table of Contents",
   "title_sidebar": "Contents",
   "toc_cell": false,
   "toc_position": {},
   "toc_section_display": true,
   "toc_window_display": false
  },
  "varInspector": {
   "cols": {
    "lenName": 16,
    "lenType": 16,
    "lenVar": 40
   },
   "kernels_config": {
    "python": {
     "delete_cmd_postfix": "",
     "delete_cmd_prefix": "del ",
     "library": "var_list.py",
     "varRefreshCmd": "print(var_dic_list())"
    },
    "r": {
     "delete_cmd_postfix": ") ",
     "delete_cmd_prefix": "rm(",
     "library": "var_list.r",
     "varRefreshCmd": "cat(var_dic_list()) "
    }
   },
   "types_to_exclude": [
    "module",
    "function",
    "builtin_function_or_method",
    "instance",
    "_Feature"
   ],
   "window_display": false
  }
 },
 "nbformat": 4,
 "nbformat_minor": 2
}
