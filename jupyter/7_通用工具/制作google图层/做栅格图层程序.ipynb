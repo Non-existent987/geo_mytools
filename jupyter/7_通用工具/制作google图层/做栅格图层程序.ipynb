{
 "cells": [
  {
   "cell_type": "code",
   "execution_count": 1,
   "metadata": {
    "ExecuteTime": {
     "end_time": "2020-07-14T17:20:08.635242Z",
     "start_time": "2020-07-14T17:20:06.624987Z"
    }
   },
   "outputs": [],
   "source": [
    "import math,simplekml,os\n",
    "import pandas as pd\n",
    "import numpy as np\n",
    "import mytools"
   ]
  },
  {
   "cell_type": "markdown",
   "metadata": {},
   "source": [
    "# 导入数据"
   ]
  },
  {
   "cell_type": "code",
   "execution_count": 17,
   "metadata": {
    "ExecuteTime": {
     "end_time": "2020-07-14T17:21:42.560169Z",
     "start_time": "2020-07-14T17:21:42.478659Z"
    }
   },
   "outputs": [],
   "source": [
    "grid = pd.read_pickle('G:/1-规划/评估/覆盖空洞/20200712第四版本/4-相关图层输出/5栅格图层/空洞匹配到的严重弱覆盖25808个栅格.data')"
   ]
  },
  {
   "cell_type": "code",
   "execution_count": 18,
   "metadata": {
    "ExecuteTime": {
     "end_time": "2020-07-14T17:21:43.197250Z",
     "start_time": "2020-07-14T17:21:43.184748Z"
    }
   },
   "outputs": [
    {
     "data": {
      "text/html": [
       "<div>\n",
       "<style scoped>\n",
       "    .dataframe tbody tr th:only-of-type {\n",
       "        vertical-align: middle;\n",
       "    }\n",
       "\n",
       "    .dataframe tbody tr th {\n",
       "        vertical-align: top;\n",
       "    }\n",
       "\n",
       "    .dataframe thead th {\n",
       "        text-align: right;\n",
       "    }\n",
       "</style>\n",
       "<table border=\"1\" class=\"dataframe\">\n",
       "  <thead>\n",
       "    <tr style=\"text-align: right;\">\n",
       "      <th></th>\n",
       "      <th>a.day</th>\n",
       "      <th>a.region_name</th>\n",
       "      <th>a.grid_id</th>\n",
       "      <th>lon</th>\n",
       "      <th>lat</th>\n",
       "      <th>a.rsrp_sample_count</th>\n",
       "      <th>a.rsrp_weak</th>\n",
       "      <th>a.un_maxrsrp_sample_count</th>\n",
       "      <th>a.un_maxrsrp_weak_l2</th>\n",
       "      <th>a.te_maxrsrp_sample_count</th>\n",
       "      <th>a.te_maxrsrp_weak_l2</th>\n",
       "      <th>fgl</th>\n",
       "      <th>栅格类型</th>\n",
       "    </tr>\n",
       "  </thead>\n",
       "  <tbody>\n",
       "    <tr>\n",
       "      <td>101</td>\n",
       "      <td>20200615</td>\n",
       "      <td>十堰</td>\n",
       "      <td>49SDS-803-130-100</td>\n",
       "      <td>110.790462</td>\n",
       "      <td>32.654904</td>\n",
       "      <td>227525</td>\n",
       "      <td>76242</td>\n",
       "      <td>3730</td>\n",
       "      <td>226</td>\n",
       "      <td>0</td>\n",
       "      <td>0</td>\n",
       "      <td>0.664907</td>\n",
       "      <td>严重弱覆盖栅格</td>\n",
       "    </tr>\n",
       "  </tbody>\n",
       "</table>\n",
       "</div>"
      ],
      "text/plain": [
       "        a.day a.region_name          a.grid_id         lon        lat  \\\n",
       "101  20200615            十堰  49SDS-803-130-100  110.790462  32.654904   \n",
       "\n",
       "     a.rsrp_sample_count  a.rsrp_weak  a.un_maxrsrp_sample_count  \\\n",
       "101               227525        76242                       3730   \n",
       "\n",
       "     a.un_maxrsrp_weak_l2  a.te_maxrsrp_sample_count  a.te_maxrsrp_weak_l2  \\\n",
       "101                   226                          0                     0   \n",
       "\n",
       "          fgl     栅格类型  \n",
       "101  0.664907  严重弱覆盖栅格  "
      ]
     },
     "execution_count": 18,
     "metadata": {},
     "output_type": "execute_result"
    }
   ],
   "source": [
    "grid.head(1)"
   ]
  },
  {
   "cell_type": "code",
   "execution_count": 19,
   "metadata": {
    "ExecuteTime": {
     "end_time": "2020-07-14T17:21:44.124368Z",
     "start_time": "2020-07-14T17:21:44.096364Z"
    }
   },
   "outputs": [],
   "source": [
    "grid.loc[grid['a.rsrp_sample_count']>=100,'有效栅格']='是'\n",
    "grid.loc[grid['fgl']<0.7,'严重弱覆盖栅格']='是'\n",
    "grid.loc[(grid['fgl']<0.936)&(grid['fgl']>=0.7),'弱覆盖栅格']='是'"
   ]
  },
  {
   "cell_type": "code",
   "execution_count": 20,
   "metadata": {
    "ExecuteTime": {
     "end_time": "2020-07-14T17:21:47.352778Z",
     "start_time": "2020-07-14T17:21:47.144751Z"
    }
   },
   "outputs": [],
   "source": [
    "tu = mytools.gisn.maps('地市区县')"
   ]
  },
  {
   "cell_type": "code",
   "execution_count": 21,
   "metadata": {
    "ExecuteTime": {
     "end_time": "2020-07-14T17:21:50.389663Z",
     "start_time": "2020-07-14T17:21:47.986358Z"
    }
   },
   "outputs": [],
   "source": [
    "grid_use = mytools.gisn.points_coverage_merge(grid,'lon','lat',coverage=tu,df_merge_coverage_columns=['地市','区县'])"
   ]
  },
  {
   "cell_type": "code",
   "execution_count": 22,
   "metadata": {
    "ExecuteTime": {
     "end_time": "2020-07-14T17:21:50.983739Z",
     "start_time": "2020-07-14T17:21:50.979238Z"
    }
   },
   "outputs": [
    {
     "data": {
      "text/plain": [
       "Index(['a.day', 'a.region_name', 'a.grid_id', 'lon', 'lat',\n",
       "       'a.rsrp_sample_count', 'a.rsrp_weak', 'a.un_maxrsrp_sample_count',\n",
       "       'a.un_maxrsrp_weak_l2', 'a.te_maxrsrp_sample_count',\n",
       "       'a.te_maxrsrp_weak_l2', 'fgl', '栅格类型', '有效栅格', '严重弱覆盖栅格', '弱覆盖栅格', '地市',\n",
       "       '区县'],\n",
       "      dtype='object')"
      ]
     },
     "execution_count": 22,
     "metadata": {},
     "output_type": "execute_result"
    }
   ],
   "source": [
    "grid_use.columns"
   ]
  },
  {
   "cell_type": "markdown",
   "metadata": {},
   "source": [
    "# 参数设置"
   ]
  },
  {
   "cell_type": "code",
   "execution_count": 23,
   "metadata": {
    "ExecuteTime": {
     "end_time": "2020-07-14T17:21:51.550811Z",
     "start_time": "2020-07-14T17:21:51.546310Z"
    }
   },
   "outputs": [],
   "source": [
    "lon,lat,rsrp_count,fgl,grid_id,city,qx,grid_yx,grid_r,grid_yr,rsrp_weak = [\n",
    "    'lon','lat','a.rsrp_sample_count','fgl','a.grid_id','地市','区县','有效栅格','弱覆盖栅格','严重弱覆盖栅格','a.rsrp_weak']"
   ]
  },
  {
   "cell_type": "markdown",
   "metadata": {},
   "source": [
    "# 整理数据"
   ]
  },
  {
   "cell_type": "code",
   "execution_count": 24,
   "metadata": {
    "ExecuteTime": {
     "end_time": "2020-07-14T17:21:52.128384Z",
     "start_time": "2020-07-14T17:21:52.111382Z"
    }
   },
   "outputs": [],
   "source": [
    "def df_to_kml_zb(df,lon='lon',lat='lat',distance=70,id_use='a.grid_id',fgl='fgl',rsrp_count='a.rsrp_sample_count',\n",
    "                 city = '城市',qx='区县',\n",
    "                 de_col = ['a.grid_id','a.rsrp_sample_count','a.rsrp_weak','有效栅格','fgl','弱覆盖栅格','严重弱覆盖栅格']):\n",
    "    df['colour'] = pd.cut(df[fgl],bins=[-0.1, 0.7, 0.936, 1.1],labels =['red', 'yellow', 'green'] )\n",
    "    df['colour'] = df['colour'].astype('object')\n",
    "    df.loc[df[rsrp_count]<100,'colour']='white'\n",
    "    df['description']=''\n",
    "    for inde_1, name_1 in enumerate(de_col):\n",
    "        df['linshi']=de_col[inde_1]+' : '+df[de_col[inde_1]].astype('str')+'\\n'\n",
    "        df['description'] = df['description']+df['linshi']\n",
    "    df = df.reindex(columns=[city,qx,id_use, 'list_data','colour','description',lon,lat])    \n",
    "    print('颜色和标注完成')\n",
    "    df['distance']=distance\n",
    "    df['lon1'] = df[lon] + df['distance']*np.sin(45* np.pi/180)*180/( np.pi * 6371229 * np.cos(df[lat] * np.pi/180))\n",
    "    df['lat1'] = df[lat] + df['distance']*np.cos(45* np.pi/180) / ( np.pi * 6371229 / 180)\n",
    "    df['lon2'] = df[lon] + df['distance']*np.sin(225* np.pi/180)*180/( np.pi * 6371229 * np.cos(df[lat] * np.pi/180))\n",
    "    df['lat2'] = df[lat] + df['distance']*np.cos(225* np.pi/180) / ( np.pi * 6371229 / 180)\n",
    "    df['list_data']=[([(lon_2, lat_2), (lon_2, lat_1), (lon_1, lat_1),(lon_1, lat_2),(lon_2, lat_2)],[lon_1, lat_1,lon_2, lat_2]) \n",
    "     for lon_1, lat_1,lon_2, lat_2 in zip(df['lon1'],df['lat1'],df['lon2'],df['lat2'])]\n",
    "    print('生成栅格方块完成')\n",
    "    df = df.reindex(columns=[city,qx,id_use, 'list_data','colour','description'])    \n",
    "    return df"
   ]
  },
  {
   "cell_type": "code",
   "execution_count": 25,
   "metadata": {
    "ExecuteTime": {
     "end_time": "2020-07-14T17:21:53.037000Z",
     "start_time": "2020-07-14T17:21:52.680954Z"
    },
    "scrolled": true
   },
   "outputs": [
    {
     "name": "stdout",
     "output_type": "stream",
     "text": [
      "颜色和标注完成\n",
      "生成栅格方块完成\n"
     ]
    }
   ],
   "source": [
    "grid2 = df_to_kml_zb(grid_use,lon=lon,lat=lat,distance=70,id_use=grid_id,fgl=fgl,rsrp_count=rsrp_count,city = city,\n",
    "                qx=qx,de_col = [grid_id,rsrp_count,rsrp_weak,grid_yx,fgl,grid_r,grid_yr])"
   ]
  },
  {
   "cell_type": "markdown",
   "metadata": {},
   "source": [
    "# 切割数据导出数据"
   ]
  },
  {
   "cell_type": "code",
   "execution_count": 26,
   "metadata": {
    "ExecuteTime": {
     "end_time": "2020-07-14T17:22:12.765005Z",
     "start_time": "2020-07-14T17:22:12.649990Z"
    }
   },
   "outputs": [],
   "source": [
    "#单个文件\n",
    "grid2.to_pickle('G:/1-规划/评估/覆盖空洞/20200712第四版本/4-相关图层输出/5栅格图层/严重弱覆盖/严重弱覆盖栅格.data')\n",
    "# #多个文件\n",
    "# for name_g,data_g in grid2.groupby([city]):\n",
    "#     data_g.to_pickle('G:/1-规划/评估/覆盖空洞/20200708第三版本/3-输出结果/图层/匹配栅格图层/空洞匹配到的栅格/空洞匹配到的栅格{}.data'.format(name_g))"
   ]
  },
  {
   "cell_type": "code",
   "execution_count": 12,
   "metadata": {
    "ExecuteTime": {
     "end_time": "2020-07-14T17:20:13.638878Z",
     "start_time": "2020-07-14T17:20:13.622375Z"
    }
   },
   "outputs": [],
   "source": [
    "del grid2"
   ]
  },
  {
   "cell_type": "markdown",
   "metadata": {},
   "source": [
    "# 制作图层"
   ]
  },
  {
   "cell_type": "code",
   "execution_count": 27,
   "metadata": {
    "ExecuteTime": {
     "end_time": "2020-07-14T17:22:15.946409Z",
     "start_time": "2020-07-14T17:22:15.937407Z"
    }
   },
   "outputs": [],
   "source": [
    "def make_kml(data_t,name='红色栅格',cc='ff0000ff',xiankuan=0,namea='a.grid_id',list_data = 'list_data',description='description'):\n",
    "    style = simplekml.Style()\n",
    "    #style.linestyle.color = simplekml.Color.changealphaint(150, cc)  # 最终线条上色\n",
    "    style.polystyle.outline = xiankuan\n",
    "    style.polystyle.color = simplekml.Color.changealphaint(125, cc )  # 最终形状上色\n",
    "    lod1 = simplekml.Lod(minlodpixels=3, maxlodpixels=-1,minfadeextent=None, maxfadeextent=None)\n",
    "    grid_red = kml.newfolder(name=name)\n",
    "    for grid,list_data ,description_str in zip(data_t[namea],data_t[list_data],data_t[description]):\n",
    "        pol_r = grid_red.newpolygon(name=grid,outerboundaryis=list_data[0])\n",
    "        pol_r.description = description_str\n",
    "        pol_r.altitudemode = simplekml.AltitudeMode.clamptoground\n",
    "        lon_dd,lat_dd,lon1_dd,lat1_dd = list_data[1]\n",
    "        latlonaltbox = simplekml.LatLonAltBox(east =lon_dd ,north=lat_dd ,south=lat1_dd ,west=lon1_dd,\n",
    "                                              minaltitude=None, maxaltitude=None, altitudemode=None)\n",
    "        pol_r.region.latlonaltbox = latlonaltbox\n",
    "        pol_r.region.lod = lod1\n",
    "        pol_r.style=style"
   ]
  },
  {
   "cell_type": "code",
   "execution_count": 28,
   "metadata": {
    "ExecuteTime": {
     "end_time": "2020-07-14T17:22:22.872788Z",
     "start_time": "2020-07-14T17:22:22.869788Z"
    }
   },
   "outputs": [],
   "source": [
    "f = mytools.othern.file_name_paths('G:/1-规划/评估/覆盖空洞/20200712第四版本/4-相关图层输出/5栅格图层/严重弱覆盖/')"
   ]
  },
  {
   "cell_type": "code",
   "execution_count": 29,
   "metadata": {
    "ExecuteTime": {
     "end_time": "2020-07-14T17:22:34.088212Z",
     "start_time": "2020-07-14T17:22:27.948433Z"
    },
    "scrolled": false
   },
   "outputs": [
    {
     "name": "stdout",
     "output_type": "stream",
     "text": [
      "生成图层成功-十堰\n",
      "生成图层成功-咸宁\n",
      "生成图层成功-天门\n",
      "生成图层成功-孝感\n",
      "生成图层成功-宜昌\n",
      "生成图层成功-恩施\n",
      "生成图层成功-武汉\n",
      "生成图层成功-江汉\n",
      "生成图层成功-潜江\n",
      "生成图层成功-荆州\n",
      "生成图层成功-荆门\n",
      "生成图层成功-襄阳\n",
      "生成图层成功-鄂州\n",
      "生成图层成功-随州\n",
      "生成图层成功-黄冈\n",
      "生成图层成功-黄石\n"
     ]
    }
   ],
   "source": [
    "for name_f in f:\n",
    "    name_region = name_f.split('.')[0].split('/')[-1]\n",
    "    grid_t = pd.read_pickle(name_f)\n",
    "    grid_groupby = grid_t.groupby([city])\n",
    "    for name_qx,data_region in grid_groupby:\n",
    "        kml = simplekml.Kml()\n",
    "#         if not os.path.exists('G:/1-规划/评估/软采评估/2020年1季度/输出个地市的小区和栅格图层/栅格图层/{}'.format(name_region)):\n",
    "#             os.makedirs('G:/1-规划/评估/软采评估/2020年1季度/输出个地市的小区和栅格图层/栅格图层/{}'.format(name_region))\n",
    "#         file = 'G:/1-规划/评估/软采评估/2020年1季度/输出个地市的小区和栅格图层/栅格图层/{}/栅格图层_{}_{}.kmz'.format(name_region,name_region,name_qx)\n",
    "        file='G:/1-规划/评估/覆盖空洞/20200712第四版本/4-相关图层输出/5栅格图层/严重弱覆盖/{}.kmz'.format(name_qx)\n",
    "        for name_c,data_t in data_region.groupby('colour'):\n",
    "            if 'red' ==name_c:\n",
    "                make_kml(data_t,name='红色栅格{}个'.format(data_t.shape[0]),cc='ff0000ff')\n",
    "            elif 'green' == name_c:\n",
    "                make_kml(data_t,name='绿色栅格{}个'.format(data_t.shape[0]),cc='ff008000')\n",
    "            elif 'yellow' == name_c:\n",
    "                make_kml(data_t,name='黄色栅格{}个'.format(data_t.shape[0]),cc='ff00ffff')\n",
    "            elif 'white' == name_c:\n",
    "                make_kml(data_t,name='白色栅格{}个'.format(data_t.shape[0]),cc='ffffffff')\n",
    "        kml.save(file) if 'kml' in file else kml.savekmz(file, False)\n",
    "        print('生成图层成功-{}'.format(name_qx))"
   ]
  },
  {
   "cell_type": "code",
   "execution_count": null,
   "metadata": {},
   "outputs": [],
   "source": []
  }
 ],
 "metadata": {
  "kernelspec": {
   "display_name": "Python 3",
   "language": "python",
   "name": "python3"
  },
  "language_info": {
   "codemirror_mode": {
    "name": "ipython",
    "version": 3
   },
   "file_extension": ".py",
   "mimetype": "text/x-python",
   "name": "python",
   "nbconvert_exporter": "python",
   "pygments_lexer": "ipython3",
   "version": "3.7.4"
  },
  "toc": {
   "base_numbering": 1,
   "nav_menu": {},
   "number_sections": true,
   "sideBar": true,
   "skip_h1_title": false,
   "title_cell": "Table of Contents",
   "title_sidebar": "Contents",
   "toc_cell": false,
   "toc_position": {},
   "toc_section_display": true,
   "toc_window_display": false
  },
  "varInspector": {
   "cols": {
    "lenName": 16,
    "lenType": 16,
    "lenVar": 40
   },
   "kernels_config": {
    "python": {
     "delete_cmd_postfix": "",
     "delete_cmd_prefix": "del ",
     "library": "var_list.py",
     "varRefreshCmd": "print(var_dic_list())"
    },
    "r": {
     "delete_cmd_postfix": ") ",
     "delete_cmd_prefix": "rm(",
     "library": "var_list.r",
     "varRefreshCmd": "cat(var_dic_list()) "
    }
   },
   "types_to_exclude": [
    "module",
    "function",
    "builtin_function_or_method",
    "instance",
    "_Feature"
   ],
   "window_display": false
  }
 },
 "nbformat": 4,
 "nbformat_minor": 2
}
