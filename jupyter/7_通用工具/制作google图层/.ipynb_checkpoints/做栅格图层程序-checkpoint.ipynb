{
 "cells": [
  {
   "cell_type": "code",
   "execution_count": null,
   "metadata": {
    "ExecuteTime": {
     "end_time": "2020-07-10T02:08:34.612520Z",
     "start_time": "2020-07-10T02:08:34.609020Z"
    }
   },
   "outputs": [],
   "source": [
    "import math,simplekml,os\n",
    "import pandas as pd\n",
    "import numpy as np\n",
    "import mytools"
   ]
  },
  {
   "cell_type": "markdown",
   "metadata": {},
   "source": [
    "# 导入数据"
   ]
  },
  {
   "cell_type": "code",
   "execution_count": null,
   "metadata": {
    "ExecuteTime": {
     "end_time": "2020-07-10T02:08:34.634523Z",
     "start_time": "2020-07-10T02:08:34.614021Z"
    }
   },
   "outputs": [],
   "source": [
    "grid = pd.read_pickle('G:/1-规划/评估/覆盖空洞/20200708第三版本/3-输出结果/图层/匹配栅格图层/空洞匹配到的弱覆盖栅格.data')"
   ]
  },
  {
   "cell_type": "code",
   "execution_count": null,
   "metadata": {
    "ExecuteTime": {
     "end_time": "2020-07-10T02:08:34.676529Z",
     "start_time": "2020-07-10T02:08:34.636523Z"
    }
   },
   "outputs": [],
   "source": [
    "grid.loc[grid['a.rsrp_sample_count']>=100,'有效栅格']='是'\n",
    "grid.loc[grid['fgl']<0.7,'严重弱覆盖栅格']='是'\n",
    "grid.loc[(grid['fgl']<0.936)&(grid['fgl']>=0.7),'弱覆盖栅格']='是'"
   ]
  },
  {
   "cell_type": "code",
   "execution_count": null,
   "metadata": {
    "ExecuteTime": {
     "end_time": "2020-07-10T02:08:34.787043Z",
     "start_time": "2020-07-10T02:08:34.679029Z"
    }
   },
   "outputs": [],
   "source": [
    "tu = mytools.gisn.maps('地市区县')"
   ]
  },
  {
   "cell_type": "code",
   "execution_count": null,
   "metadata": {
    "ExecuteTime": {
     "end_time": "2020-07-10T02:08:38.260484Z",
     "start_time": "2020-07-10T02:08:34.788543Z"
    }
   },
   "outputs": [],
   "source": [
    "grid_use = mytools.gisn.points_coverage_merge(grid,'lon','lat',coverage=tu,df_merge_coverage_columns=['地市','区县'])"
   ]
  },
  {
   "cell_type": "code",
   "execution_count": null,
   "metadata": {
    "ExecuteTime": {
     "end_time": "2020-07-10T02:08:38.267985Z",
     "start_time": "2020-07-10T02:08:38.261984Z"
    }
   },
   "outputs": [],
   "source": [
    "grid_use.columns"
   ]
  },
  {
   "cell_type": "markdown",
   "metadata": {},
   "source": [
    "# 参数设置"
   ]
  },
  {
   "cell_type": "code",
   "execution_count": null,
   "metadata": {
    "ExecuteTime": {
     "end_time": "2020-07-10T02:08:38.277486Z",
     "start_time": "2020-07-10T02:08:38.272485Z"
    }
   },
   "outputs": [],
   "source": [
    "lon,lat,rsrp_count,fgl,grid_id,city,qx,grid_yx,grid_r,grid_yr,rsrp_weak = [\n",
    "    'lon','lat','a.rsrp_sample_count','fgl','a.grid_id','地市','区县','有效栅格','弱覆盖栅格','严重弱覆盖栅格','a.rsrp_weak']"
   ]
  },
  {
   "cell_type": "markdown",
   "metadata": {},
   "source": [
    "# 整理数据"
   ]
  },
  {
   "cell_type": "code",
   "execution_count": null,
   "metadata": {
    "ExecuteTime": {
     "end_time": "2020-07-10T02:08:38.312490Z",
     "start_time": "2020-07-10T02:08:38.281986Z"
    }
   },
   "outputs": [],
   "source": [
    "def df_to_kml_zb(df,lon='lon',lat='lat',distance=70,id_use='a.grid_id',fgl='fgl',rsrp_count='a.rsrp_sample_count',\n",
    "                 city = '城市',qx='区县',\n",
    "                 de_col = ['a.grid_id','a.rsrp_sample_count','a.rsrp_weak','有效栅格','fgl','弱覆盖栅格','严重弱覆盖栅格']):\n",
    "    df['colour'] = pd.cut(df[fgl],bins=[-0.1, 0.7, 0.936, 1.1],labels =['red', 'yellow', 'green'] )\n",
    "    df['colour'] = df['colour'].astype('object')\n",
    "    df.loc[df[rsrp_count]<100,'colour']='white'\n",
    "    df['description']=''\n",
    "    for inde_1, name_1 in enumerate(de_col):\n",
    "        df['linshi']=de_col[inde_1]+' : '+df[de_col[inde_1]].astype('str')+'\\n'\n",
    "        df['description'] = df['description']+df['linshi']\n",
    "    df = df.reindex(columns=[city,qx,id_use, 'list_data','colour','description',lon,lat])    \n",
    "    print('颜色和标注完成')\n",
    "    df['distance']=distance\n",
    "    df['lon1'] = df[lon] + df['distance']*np.sin(45* np.pi/180)*180/( np.pi * 6371229 * np.cos(df[lat] * np.pi/180))\n",
    "    df['lat1'] = df[lat] + df['distance']*np.cos(45* np.pi/180) / ( np.pi * 6371229 / 180)\n",
    "    df['lon2'] = df[lon] + df['distance']*np.sin(225* np.pi/180)*180/( np.pi * 6371229 * np.cos(df[lat] * np.pi/180))\n",
    "    df['lat2'] = df[lat] + df['distance']*np.cos(225* np.pi/180) / ( np.pi * 6371229 / 180)\n",
    "    df['list_data']=[([(lon_2, lat_2), (lon_2, lat_1), (lon_1, lat_1),(lon_1, lat_2),(lon_2, lat_2)],[lon_1, lat_1,lon_2, lat_2]) \n",
    "     for lon_1, lat_1,lon_2, lat_2 in zip(df['lon1'],df['lat1'],df['lon2'],df['lat2'])]\n",
    "    print('生成栅格方块完成')\n",
    "    df = df.reindex(columns=[city,qx,id_use, 'list_data','colour','description'])    \n",
    "    return df"
   ]
  },
  {
   "cell_type": "code",
   "execution_count": null,
   "metadata": {
    "ExecuteTime": {
     "end_time": "2020-07-10T02:08:38.868561Z",
     "start_time": "2020-07-10T02:08:38.314991Z"
    },
    "scrolled": true
   },
   "outputs": [],
   "source": [
    "grid2 = df_to_kml_zb(grid_use,lon=lon,lat=lat,distance=70,id_use=grid_id,fgl=fgl,rsrp_count=rsrp_count,city = city,\n",
    "                qx=qx,de_col = [grid_id,rsrp_count,rsrp_weak,grid_yx,fgl,grid_r,grid_yr])"
   ]
  },
  {
   "cell_type": "markdown",
   "metadata": {},
   "source": [
    "# 切割数据导出数据"
   ]
  },
  {
   "cell_type": "code",
   "execution_count": null,
   "metadata": {
    "ExecuteTime": {
     "end_time": "2020-07-10T02:08:39.025581Z",
     "start_time": "2020-07-10T02:08:38.871561Z"
    }
   },
   "outputs": [],
   "source": [
    "#单个文件\n",
    "grid2.to_pickle('G:/1-规划/评估/覆盖空洞/20200708第三版本/3-输出结果/图层/匹配栅格图层/空洞匹配到的栅格/匹配到的弱覆盖/弱覆盖栅格.data')\n",
    "# #多个文件\n",
    "# for name_g,data_g in grid2.groupby([city]):\n",
    "#     data_g.to_pickle('G:/1-规划/评估/覆盖空洞/20200708第三版本/3-输出结果/图层/匹配栅格图层/空洞匹配到的栅格/空洞匹配到的栅格{}.data'.format(name_g))"
   ]
  },
  {
   "cell_type": "code",
   "execution_count": null,
   "metadata": {
    "ExecuteTime": {
     "end_time": "2020-07-10T02:08:39.041583Z",
     "start_time": "2020-07-10T02:08:39.027081Z"
    }
   },
   "outputs": [],
   "source": [
    "del grid2"
   ]
  },
  {
   "cell_type": "markdown",
   "metadata": {},
   "source": [
    "# 制作图层"
   ]
  },
  {
   "cell_type": "code",
   "execution_count": null,
   "metadata": {
    "ExecuteTime": {
     "end_time": "2020-07-10T02:08:39.052584Z",
     "start_time": "2020-07-10T02:08:39.043583Z"
    }
   },
   "outputs": [],
   "source": [
    "def make_kml(data_t,name='红色栅格',cc='ff0000ff',xiankuan=0,namea='a.grid_id',list_data = 'list_data',description='description'):\n",
    "    style = simplekml.Style()\n",
    "    #style.linestyle.color = simplekml.Color.changealphaint(150, cc)  # 最终线条上色\n",
    "    style.polystyle.outline = xiankuan\n",
    "    style.polystyle.color = simplekml.Color.changealphaint(125, cc )  # 最终形状上色\n",
    "    lod1 = simplekml.Lod(minlodpixels=3, maxlodpixels=-1,minfadeextent=None, maxfadeextent=None)\n",
    "    grid_red = kml.newfolder(name=name)\n",
    "    for grid,list_data ,description_str in zip(data_t[namea],data_t[list_data],data_t[description]):\n",
    "        pol_r = grid_red.newpolygon(name=grid,outerboundaryis=list_data[0])\n",
    "        pol_r.description = description_str\n",
    "        pol_r.altitudemode = simplekml.AltitudeMode.clamptoground\n",
    "        lon_dd,lat_dd,lon1_dd,lat1_dd = list_data[1]\n",
    "        latlonaltbox = simplekml.LatLonAltBox(east =lon_dd ,north=lat_dd ,south=lat1_dd ,west=lon1_dd,\n",
    "                                              minaltitude=None, maxaltitude=None, altitudemode=None)\n",
    "        pol_r.region.latlonaltbox = latlonaltbox\n",
    "        pol_r.region.lod = lod1\n",
    "        pol_r.style=style"
   ]
  },
  {
   "cell_type": "code",
   "execution_count": null,
   "metadata": {
    "ExecuteTime": {
     "end_time": "2020-07-10T02:08:39.059585Z",
     "start_time": "2020-07-10T02:08:39.055585Z"
    }
   },
   "outputs": [],
   "source": [
    "f = mytools.othern.file_name_paths('G:/1-规划/评估/覆盖空洞/20200708第三版本/3-输出结果/图层/匹配栅格图层/空洞匹配到的栅格/匹配到的弱覆盖/')"
   ]
  },
  {
   "cell_type": "code",
   "execution_count": null,
   "metadata": {
    "ExecuteTime": {
     "end_time": "2020-07-10T02:08:47.696682Z",
     "start_time": "2020-07-10T02:08:39.062085Z"
    },
    "scrolled": false
   },
   "outputs": [],
   "source": [
    "for name_f in f:\n",
    "    name_region = name_f.split('.')[0].split('/')[-1]\n",
    "    grid_t = pd.read_pickle(name_f)\n",
    "    grid_groupby = grid_t.groupby([city])\n",
    "    for name_qx,data_region in grid_groupby:\n",
    "        kml = simplekml.Kml()\n",
    "#         if not os.path.exists('G:/1-规划/评估/软采评估/2020年1季度/输出个地市的小区和栅格图层/栅格图层/{}'.format(name_region)):\n",
    "#             os.makedirs('G:/1-规划/评估/软采评估/2020年1季度/输出个地市的小区和栅格图层/栅格图层/{}'.format(name_region))\n",
    "#         file = 'G:/1-规划/评估/软采评估/2020年1季度/输出个地市的小区和栅格图层/栅格图层/{}/栅格图层_{}_{}.kmz'.format(name_region,name_region,name_qx)\n",
    "        file='G:/1-规划/评估/覆盖空洞/20200708第三版本/3-输出结果/图层/匹配栅格图层/空洞匹配到的栅格/匹配到的弱覆盖/空洞匹配到的弱覆盖栅格{}.kmz'.format(name_qx)\n",
    "        for name_c,data_t in data_region.groupby('colour'):\n",
    "            if 'red' ==name_c:\n",
    "                make_kml(data_t,name='红色栅格{}个'.format(data_t.shape[0]),cc='ff0000ff')\n",
    "            elif 'green' == name_c:\n",
    "                make_kml(data_t,name='绿色栅格{}个'.format(data_t.shape[0]),cc='ff008000')\n",
    "            elif 'yellow' == name_c:\n",
    "                make_kml(data_t,name='黄色栅格{}个'.format(data_t.shape[0]),cc='ff00ffff')\n",
    "            elif 'white' == name_c:\n",
    "                make_kml(data_t,name='白色栅格{}个'.format(data_t.shape[0]),cc='ffffffff')\n",
    "        kml.save(file) if 'kml' in file else kml.savekmz(file, False)\n",
    "        print('生成图层成功-{}'.format(name_qx))"
   ]
  },
  {
   "cell_type": "code",
   "execution_count": null,
   "metadata": {},
   "outputs": [],
   "source": []
  }
 ],
 "metadata": {
  "kernelspec": {
   "display_name": "Python 3",
   "language": "python",
   "name": "python3"
  },
  "language_info": {
   "codemirror_mode": {
    "name": "ipython",
    "version": 3
   },
   "file_extension": ".py",
   "mimetype": "text/x-python",
   "name": "python",
   "nbconvert_exporter": "python",
   "pygments_lexer": "ipython3",
   "version": "3.7.4"
  },
  "toc": {
   "base_numbering": 1,
   "nav_menu": {},
   "number_sections": true,
   "sideBar": true,
   "skip_h1_title": false,
   "title_cell": "Table of Contents",
   "title_sidebar": "Contents",
   "toc_cell": false,
   "toc_position": {},
   "toc_section_display": true,
   "toc_window_display": false
  },
  "varInspector": {
   "cols": {
    "lenName": 16,
    "lenType": 16,
    "lenVar": 40
   },
   "kernels_config": {
    "python": {
     "delete_cmd_postfix": "",
     "delete_cmd_prefix": "del ",
     "library": "var_list.py",
     "varRefreshCmd": "print(var_dic_list())"
    },
    "r": {
     "delete_cmd_postfix": ") ",
     "delete_cmd_prefix": "rm(",
     "library": "var_list.r",
     "varRefreshCmd": "cat(var_dic_list()) "
    }
   },
   "types_to_exclude": [
    "module",
    "function",
    "builtin_function_or_method",
    "instance",
    "_Feature"
   ],
   "window_display": false
  }
 },
 "nbformat": 4,
 "nbformat_minor": 2
}
