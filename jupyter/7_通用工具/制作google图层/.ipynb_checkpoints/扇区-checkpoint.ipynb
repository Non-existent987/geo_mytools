{
 "cells": [
  {
   "cell_type": "code",
   "execution_count": null,
   "metadata": {
    "ExecuteTime": {
     "end_time": "2020-08-13T02:34:28.036609Z",
     "start_time": "2020-08-13T02:34:27.094489Z"
    }
   },
   "outputs": [],
   "source": [
    "import math,simplekml,os\n",
    "import pandas as pd\n",
    "import geopandas as gpd\n",
    "import numpy as np\n",
    "import mytools"
   ]
  },
  {
   "cell_type": "markdown",
   "metadata": {},
   "source": [
    "# 1-导入数据"
   ]
  },
  {
   "cell_type": "code",
   "execution_count": null,
   "metadata": {
    "ExecuteTime": {
     "end_time": "2020-08-13T02:34:40.246159Z",
     "start_time": "2020-08-13T02:34:40.242659Z"
    }
   },
   "outputs": [],
   "source": [
    "#输出位置\n",
    "out_file = 'G:/1-规划/评估/覆盖空洞/20200712第四版本/4-相关图层输出/2小区覆盖/'"
   ]
  },
  {
   "cell_type": "code",
   "execution_count": null,
   "metadata": {
    "ExecuteTime": {
     "end_time": "2020-08-13T02:34:43.217536Z",
     "start_time": "2020-08-13T02:34:42.419435Z"
    }
   },
   "outputs": [],
   "source": [
    "data = pd.read_csv('G:/1-规划/评估/覆盖空洞/20200712第四版本/2-程序数据出-过程/1-修正半径后使用的数据/1_修正半径_2周边建筑修正.csv',encoding='gbk')"
   ]
  },
  {
   "cell_type": "code",
   "execution_count": null,
   "metadata": {
    "ExecuteTime": {
     "end_time": "2020-08-13T02:39:08.517725Z",
     "start_time": "2020-08-13T02:39:08.490722Z"
    }
   },
   "outputs": [],
   "source": [
    "data.head(1)"
   ]
  },
  {
   "cell_type": "markdown",
   "metadata": {},
   "source": [
    "# 参数设置"
   ]
  },
  {
   "cell_type": "code",
   "execution_count": null,
   "metadata": {
    "ExecuteTime": {
     "end_time": "2020-08-13T02:39:10.586488Z",
     "start_time": "2020-08-13T02:39:10.577987Z"
    }
   },
   "outputs": [],
   "source": [
    "data_use = data[['小区CGI(*)', '小区中文名', 'RRU经度', 'RRU纬度', '天线挂高', '方位角',\n",
    "        '归属区县','所属地区', '区域类型', 'distance', 'h_use', 'distance_use_3']]\n",
    "#- 标注 -添加标注列\n",
    "use_columns = ['CGI', 'name', 'lon', 'lat', '基站高度', '方位角',\n",
    "        '归属区县','所属地区', '区域类型', '标准覆盖半径', '建筑物高度', '修正后覆盖半径']\n",
    "data_use.columns = use_columns"
   ]
  },
  {
   "cell_type": "code",
   "execution_count": null,
   "metadata": {
    "ExecuteTime": {
     "end_time": "2020-08-13T02:39:13.836901Z",
     "start_time": "2020-08-13T02:39:13.830900Z"
    }
   },
   "outputs": [],
   "source": [
    "#- 变量 - 设置经纬度和参与循环的字段\n",
    "lon,lat,azimuth,radius,city,region ,use_id= ['lon', 'lat',  '方位角', '修正后覆盖半径','所属地区','归属区县','name']"
   ]
  },
  {
   "cell_type": "code",
   "execution_count": null,
   "metadata": {
    "ExecuteTime": {
     "end_time": "2020-08-13T02:38:03.467965Z",
     "start_time": "2020-08-13T02:38:03.461964Z"
    }
   },
   "outputs": [],
   "source": [
    "#- 颜色 - 只要一个颜色\n",
    "data_use['colour']='white'"
   ]
  },
  {
   "cell_type": "code",
   "execution_count": null,
   "metadata": {
    "ExecuteTime": {
     "end_time": "2020-08-13T02:38:04.256565Z",
     "start_time": "2020-08-13T02:38:04.254065Z"
    }
   },
   "outputs": [],
   "source": [
    "# #- 颜色 - 按照字符设置颜色\n",
    "# colour_data = '空洞级别'\n",
    "# colour_dic = {'大':'red','中':'yellow','小':'blue','微':'white','other':'white'}"
   ]
  },
  {
   "cell_type": "code",
   "execution_count": null,
   "metadata": {
    "ExecuteTime": {
     "end_time": "2020-08-13T02:38:06.297324Z",
     "start_time": "2020-08-13T02:38:06.294824Z"
    }
   },
   "outputs": [],
   "source": [
    "#- 视野 - 在1400*900的分辨率下  view = 70米对应：125公里（差不多能看到武汉主城区）  700对应1200公里（差不多能看到湖北省） 40：65公里\n",
    "view = 700"
   ]
  },
  {
   "cell_type": "markdown",
   "metadata": {},
   "source": [
    "# 2-数据整理-将所需的数据添加到列"
   ]
  },
  {
   "cell_type": "markdown",
   "metadata": {},
   "source": [
    "### 功能模块化"
   ]
  },
  {
   "cell_type": "code",
   "execution_count": null,
   "metadata": {
    "ExecuteTime": {
     "end_time": "2020-08-13T02:38:31.690549Z",
     "start_time": "2020-08-13T02:38:31.541030Z"
    },
    "scrolled": false
   },
   "outputs": [],
   "source": [
    "#添加标注列\n",
    "de_col = use_columns\n",
    "data_use['description']=''\n",
    "for inde_1, name_1 in enumerate(use_columns):\n",
    "    data_use['linshi']=de_col[inde_1]+' : '+data_use[de_col[inde_1]].astype('str')+'\\n'\n",
    "    data_use['description'] = data_use['description']+data_use['linshi']\n",
    "    data_use.drop(columns='linshi')"
   ]
  },
  {
   "cell_type": "code",
   "execution_count": null,
   "metadata": {
    "ExecuteTime": {
     "end_time": "2020-08-13T02:38:38.663434Z",
     "start_time": "2020-08-13T02:38:38.581424Z"
    },
    "scrolled": true
   },
   "outputs": [],
   "source": [
    "# 添加扇形的列\n",
    "data_sectors = mytools.gisn.add_sectors_df(data_use,\n",
    "    coords=[lon,lat,'d_height',azimuth,radius],\n",
    "    has_z=False,\n",
    "    sec_col='geometry',\n",
    "    shape_dict={'beam': 120, 'per_degree': 10})"
   ]
  },
  {
   "cell_type": "code",
   "execution_count": null,
   "metadata": {
    "ExecuteTime": {
     "end_time": "2020-07-14T15:44:11.469675Z",
     "start_time": "2020-07-14T15:44:10.869599Z"
    }
   },
   "outputs": [],
   "source": [
    "#添加lod的polygon\n",
    "data_sectors['lod_dis']= view\n",
    "data_sectors['lon1'] = data_sectors[lon] + data_sectors['lod_dis']*np.sin(45* np.pi/180)*180/( np.pi * 6371229 * np.cos(data_sectors[lat] * np.pi/180))\n",
    "data_sectors['lat1'] = data_sectors[lat] + data_sectors['lod_dis']*np.cos(45* np.pi/180) / ( np.pi * 6371229 / 180)\n",
    "data_sectors['lon2'] = data_sectors[lon] + data_sectors['lod_dis']*np.sin(225* np.pi/180)*180/( np.pi * 6371229 * np.cos(data_sectors[lat] * np.pi/180))\n",
    "data_sectors['lat2'] = data_sectors[lat] + data_sectors['lod_dis']*np.cos(225* np.pi/180) / ( np.pi * 6371229 / 180)\n",
    "data_sectors['list_data']=[([lon_1, lat_1,lon_2, lat_2]) \n",
    " for lon_1, lat_1,lon_2, lat_2 in zip(data_sectors['lon1'],data_sectors['lat1'],data_sectors['lon2'],data_sectors['lat2'])]"
   ]
  },
  {
   "cell_type": "code",
   "execution_count": null,
   "metadata": {
    "ExecuteTime": {
     "end_time": "2020-07-14T15:44:20.546328Z",
     "start_time": "2020-07-14T15:44:20.543327Z"
    }
   },
   "outputs": [],
   "source": [
    "# #添加颜色列\n",
    "# df = data_sectors.copy()\n",
    "# df['colour']=1\n",
    "# df['colour'] = pd.cut(df['colour'],bins=[-0.1, 0.7, 0.936, 1.1],labels =['red', 'yellow', 'green'])\n",
    "# df['colour'] = df['colour'].astype('object')\n",
    "# # df.loc[df[rsrp_count]<100,'colour']='white'"
   ]
  },
  {
   "cell_type": "code",
   "execution_count": null,
   "metadata": {
    "ExecuteTime": {
     "end_time": "2020-07-14T15:44:30.758124Z",
     "start_time": "2020-07-14T15:44:30.455086Z"
    }
   },
   "outputs": [],
   "source": [
    "#最终使用的列\n",
    "df_use = data_sectors.reindex(columns=[city,region,use_id, 'list_data','colour','description','geometry'])   "
   ]
  },
  {
   "cell_type": "code",
   "execution_count": null,
   "metadata": {
    "ExecuteTime": {
     "end_time": "2020-07-14T15:45:00.381386Z",
     "start_time": "2020-07-14T15:44:44.799907Z"
    }
   },
   "outputs": [],
   "source": [
    "#导出数据\n",
    "df_use.to_pickle('{}图层制作google使用.data'.format(out_file))"
   ]
  },
  {
   "cell_type": "markdown",
   "metadata": {},
   "source": [
    "# 生成图层"
   ]
  },
  {
   "cell_type": "code",
   "execution_count": null,
   "metadata": {
    "ExecuteTime": {
     "end_time": "2020-07-14T15:45:13.883100Z",
     "start_time": "2020-07-14T15:45:13.872599Z"
    }
   },
   "outputs": [],
   "source": [
    "def make_kml(data_t,name='红色栅格',cc='ff0000ff',xiankuan=0,namea='grid_id',list_data = 'list_data',description='description',minlodpixels=1):\n",
    "    style = simplekml.Style()\n",
    "    #style.linestyle.color = simplekml.Color.changealphaint(150, cc)  # 最终线条上色\n",
    "    style.polystyle.outline = xiankuan\n",
    "    style.polystyle.color = simplekml.Color.changealphaint(125, cc )  # 最终形状上色\n",
    "    lod1 = simplekml.Lod(minlodpixels=1, maxlodpixels=-1,minfadeextent=None, maxfadeextent=None)\n",
    "    grid_red = kml.newfolder(name=name)\n",
    "    for grid,list_data ,description_str,geo in zip(data_t[namea],data_t[list_data],data_t[description],data_t['geometry']):\n",
    "#         pol_r = grid_red.newpolygon(name=grid,outerboundaryis=list_data[0])#栅格使用\n",
    "        pol_r = grid_red.newpolygon(name=grid,outerboundaryis=list(geo.exterior.coords))\n",
    "        pol_r.description = description_str\n",
    "        pol_r.altitudemode = simplekml.AltitudeMode.clamptoground\n",
    "        lon_dd,lat_dd,lon1_dd,lat1_dd = list_data\n",
    "        latlonaltbox = simplekml.LatLonAltBox(east =lon_dd ,north=lat_dd ,south=lat1_dd ,west=lon1_dd,\n",
    "                                              minaltitude=None, maxaltitude=None, altitudemode=None)\n",
    "        pol_r.region.latlonaltbox = latlonaltbox\n",
    "        pol_r.region.lod = lod1\n",
    "        pol_r.style=style"
   ]
  },
  {
   "cell_type": "code",
   "execution_count": null,
   "metadata": {
    "ExecuteTime": {
     "end_time": "2020-07-14T15:47:29.142776Z",
     "start_time": "2020-07-14T15:45:24.541954Z"
    },
    "scrolled": false
   },
   "outputs": [],
   "source": [
    "f = mytools.othern.file_name_paths(out_file)\n",
    "for name_f in f:\n",
    "#     name_region = name_f.split('.')[0].split('\\\\')[1]\n",
    "    grid_t = pd.read_pickle(name_f)\n",
    "    grid_groupby = grid_t.groupby([city])\n",
    "    for name_region,data_region in grid_groupby:\n",
    "        kml = simplekml.Kml()\n",
    "#         if not os.path.exists('G:/1-规划/评估/覆盖空洞/2020年6月/2-程序输出/修正覆盖半径/各个地市覆盖图层/{}'.format(name_region)):\n",
    "#             os.makedirs('G:/1-规划/评估/覆盖空洞/2020年6月/2-程序输出/修正覆盖半径/各个地市覆盖图层/{}'.format(name_region))\n",
    "        file = '{}宏站覆盖图层_{}.kmz'.format(out_file,name_region)\n",
    "        for name_c,data_t in data_region.groupby('colour'):\n",
    "            if 'red' ==name_c:\n",
    "                make_kml(data_t,name='红色{}个'.format(data_t.shape[0]),cc='ff0000ff',namea=use_id)\n",
    "            elif 'green' == name_c:\n",
    "                make_kml(data_t,name='绿色{}个'.format(data_t.shape[0]),cc='ffe6d8ad',namea=use_id)#正常是ff008000\n",
    "            elif 'yellow' == name_c:\n",
    "                make_kml(data_t,name='黄色{}个'.format(data_t.shape[0]),cc='ff00ffff',namea=use_id)\n",
    "            elif 'white' == name_c:\n",
    "                make_kml(data_t,name='白色{}个'.format(data_t.shape[0]),cc='ffffffff',namea=use_id)\n",
    "        kml.save(file) if 'kml' in file else kml.savekmz(file, False)\n",
    "        print('生成图层成功存放在{}'.format(file))"
   ]
  },
  {
   "cell_type": "code",
   "execution_count": null,
   "metadata": {
    "ExecuteTime": {
     "end_time": "2020-07-14T15:47:45.874401Z",
     "start_time": "2020-07-14T15:47:43.692624Z"
    }
   },
   "outputs": [],
   "source": [
    "mytools.sound()"
   ]
  },
  {
   "cell_type": "code",
   "execution_count": null,
   "metadata": {},
   "outputs": [],
   "source": []
  }
 ],
 "metadata": {
  "kernelspec": {
   "display_name": "Python 3",
   "language": "python",
   "name": "python3"
  },
  "language_info": {
   "codemirror_mode": {
    "name": "ipython",
    "version": 3
   },
   "file_extension": ".py",
   "mimetype": "text/x-python",
   "name": "python",
   "nbconvert_exporter": "python",
   "pygments_lexer": "ipython3",
   "version": "3.7.4"
  },
  "toc": {
   "base_numbering": 1,
   "nav_menu": {},
   "number_sections": true,
   "sideBar": true,
   "skip_h1_title": false,
   "title_cell": "Table of Contents",
   "title_sidebar": "Contents",
   "toc_cell": false,
   "toc_position": {},
   "toc_section_display": true,
   "toc_window_display": false
  },
  "varInspector": {
   "cols": {
    "lenName": 16,
    "lenType": 16,
    "lenVar": 40
   },
   "kernels_config": {
    "python": {
     "delete_cmd_postfix": "",
     "delete_cmd_prefix": "del ",
     "library": "var_list.py",
     "varRefreshCmd": "print(var_dic_list())"
    },
    "r": {
     "delete_cmd_postfix": ") ",
     "delete_cmd_prefix": "rm(",
     "library": "var_list.r",
     "varRefreshCmd": "cat(var_dic_list()) "
    }
   },
   "types_to_exclude": [
    "module",
    "function",
    "builtin_function_or_method",
    "instance",
    "_Feature"
   ],
   "window_display": false
  }
 },
 "nbformat": 4,
 "nbformat_minor": 2
}
