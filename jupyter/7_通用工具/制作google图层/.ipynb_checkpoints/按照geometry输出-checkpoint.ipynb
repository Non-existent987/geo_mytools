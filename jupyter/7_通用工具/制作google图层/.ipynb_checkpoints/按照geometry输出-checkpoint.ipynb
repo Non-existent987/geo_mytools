{
 "cells": [
  {
   "cell_type": "code",
   "execution_count": 1,
   "metadata": {
    "ExecuteTime": {
     "end_time": "2020-08-27T02:03:50.873935Z",
     "start_time": "2020-08-27T02:03:49.996823Z"
    }
   },
   "outputs": [],
   "source": [
    "import pandas as pd\n",
    "import geopandas as gpd\n",
    "import mytools\n",
    "import math,simplekml,osss"
   ]
  },
  {
   "cell_type": "markdown",
   "metadata": {},
   "source": [
    "# ----------------------------------空洞制作------------------------------------"
   ]
  },
  {
   "cell_type": "markdown",
   "metadata": {},
   "source": [
    "# 导入数据和导出目录"
   ]
  },
  {
   "cell_type": "code",
   "execution_count": null,
   "metadata": {
    "ExecuteTime": {
     "end_time": "2020-08-19T04:00:49.789348Z",
     "start_time": "2020-08-19T04:00:49.786347Z"
    }
   },
   "outputs": [],
   "source": [
    "out_file = 'e:/'"
   ]
  },
  {
   "cell_type": "code",
   "execution_count": null,
   "metadata": {
    "ExecuteTime": {
     "end_time": "2020-08-19T04:00:50.440431Z",
     "start_time": "2020-08-19T04:00:49.938867Z"
    }
   },
   "outputs": [],
   "source": [
    "use = pd.read_clipboard()"
   ]
  },
  {
   "cell_type": "code",
   "execution_count": null,
   "metadata": {
    "ExecuteTime": {
     "end_time": "2020-08-19T04:00:51.435557Z",
     "start_time": "2020-08-19T04:00:50.963497Z"
    }
   },
   "outputs": [],
   "source": [
    "data = pd.read_pickle('G:/1-规划/评估/覆盖空洞/20200712第四版本/3-拆分后的空洞/覆盖空19481个添加场景区分大中小微.data')"
   ]
  },
  {
   "cell_type": "code",
   "execution_count": null,
   "metadata": {
    "ExecuteTime": {
     "end_time": "2020-08-19T04:00:51.495565Z",
     "start_time": "2020-08-19T04:00:51.486063Z"
    }
   },
   "outputs": [],
   "source": [
    "use.shape"
   ]
  },
  {
   "cell_type": "code",
   "execution_count": null,
   "metadata": {
    "ExecuteTime": {
     "end_time": "2020-08-19T04:00:51.895115Z",
     "start_time": "2020-08-19T04:00:51.886614Z"
    }
   },
   "outputs": [],
   "source": [
    "use.head(1)"
   ]
  },
  {
   "cell_type": "code",
   "execution_count": null,
   "metadata": {
    "ExecuteTime": {
     "end_time": "2020-08-19T04:00:52.323170Z",
     "start_time": "2020-08-19T04:00:52.320669Z"
    }
   },
   "outputs": [],
   "source": [
    "# use = pd.read_clipboard()"
   ]
  },
  {
   "cell_type": "code",
   "execution_count": null,
   "metadata": {
    "ExecuteTime": {
     "end_time": "2020-08-19T04:00:52.790229Z",
     "start_time": "2020-08-19T04:00:52.786228Z"
    }
   },
   "outputs": [],
   "source": [
    "data.shape"
   ]
  },
  {
   "cell_type": "code",
   "execution_count": null,
   "metadata": {
    "ExecuteTime": {
     "end_time": "2020-08-19T04:00:53.451813Z",
     "start_time": "2020-08-19T04:00:53.433811Z"
    }
   },
   "outputs": [],
   "source": [
    "data.head(1)"
   ]
  },
  {
   "cell_type": "code",
   "execution_count": null,
   "metadata": {
    "ExecuteTime": {
     "end_time": "2020-08-19T04:00:54.524949Z",
     "start_time": "2020-08-19T04:00:54.490445Z"
    }
   },
   "outputs": [],
   "source": [
    "data_use = data.merge(use,left_on='id',right_on='行标签')"
   ]
  },
  {
   "cell_type": "code",
   "execution_count": null,
   "metadata": {
    "ExecuteTime": {
     "end_time": "2020-08-19T04:00:54.940002Z",
     "start_time": "2020-08-19T04:00:54.936001Z"
    }
   },
   "outputs": [],
   "source": [
    "data_use.shape"
   ]
  },
  {
   "cell_type": "code",
   "execution_count": null,
   "metadata": {
    "ExecuteTime": {
     "end_time": "2020-08-19T04:01:02.706988Z",
     "start_time": "2020-08-19T04:00:55.751605Z"
    }
   },
   "outputs": [],
   "source": [
    "data_use[['lon','lat']] = data_use.apply(lambda x:pd.Series(x['geometry'].centroid.coords[:][0]),axis=1)#"
   ]
  },
  {
   "cell_type": "code",
   "execution_count": null,
   "metadata": {
    "ExecuteTime": {
     "end_time": "2020-08-19T04:01:02.774997Z",
     "start_time": "2020-08-19T04:01:02.769496Z"
    }
   },
   "outputs": [],
   "source": [
    "data_use.columns"
   ]
  },
  {
   "cell_type": "code",
   "execution_count": null,
   "metadata": {
    "ExecuteTime": {
     "end_time": "2020-07-30T01:22:45.323483Z",
     "start_time": "2020-07-30T01:22:45.315982Z"
    }
   },
   "outputs": [],
   "source": [
    "use_columns=['id', 'geometry', '索引', '空洞标识', '空洞面积', '标准面积', '空洞面积/标准基站面积', '  场景',\n",
    "       '空洞级别', '地市', '区县', '空洞面积/标准基站面积*空洞权重', 'lon',\n",
    "       'lat']"
   ]
  },
  {
   "cell_type": "code",
   "execution_count": null,
   "metadata": {
    "ExecuteTime": {
     "end_time": "2020-08-19T04:01:05.917896Z",
     "start_time": "2020-08-19T04:01:05.914395Z"
    }
   },
   "outputs": [],
   "source": [
    "use_columns =['city', 'type', 'geometry', '面积', 'lon', 'lat', '区域类型', 'id', '制式',\n",
    "       'distance', '标准面积', '空洞面积比例', '空洞级别']"
   ]
  },
  {
   "cell_type": "code",
   "execution_count": null,
   "metadata": {
    "ExecuteTime": {
     "end_time": "2020-08-19T04:01:07.494096Z",
     "start_time": "2020-08-19T04:01:07.485595Z"
    }
   },
   "outputs": [],
   "source": [
    "data_use = data_use[use_columns]"
   ]
  },
  {
   "cell_type": "code",
   "execution_count": null,
   "metadata": {
    "ExecuteTime": {
     "end_time": "2020-08-19T04:01:08.429715Z",
     "start_time": "2020-08-19T04:01:08.425714Z"
    }
   },
   "outputs": [],
   "source": [
    "data_use.shape"
   ]
  },
  {
   "cell_type": "code",
   "execution_count": null,
   "metadata": {
    "ExecuteTime": {
     "end_time": "2020-08-19T04:02:16.406347Z",
     "start_time": "2020-08-19T04:02:15.767266Z"
    }
   },
   "outputs": [],
   "source": [
    "data_use.to_pickle('d:/aohaiying.data')"
   ]
  },
  {
   "cell_type": "code",
   "execution_count": null,
   "metadata": {
    "ExecuteTime": {
     "end_time": "2020-08-21T02:42:35.923820Z",
     "start_time": "2020-08-21T02:42:35.264236Z"
    }
   },
   "outputs": [],
   "source": [
    "# data_use = pd.read_pickle('d:/aohaiying.data')"
   ]
  },
  {
   "cell_type": "code",
   "execution_count": null,
   "metadata": {
    "ExecuteTime": {
     "end_time": "2020-08-21T02:43:14.011657Z",
     "start_time": "2020-08-21T02:43:13.729621Z"
    }
   },
   "outputs": [],
   "source": [
    "data_use.drop(columns='geometry').to_clipboard()"
   ]
  },
  {
   "cell_type": "markdown",
   "metadata": {},
   "source": [
    "# 设置变量"
   ]
  },
  {
   "cell_type": "code",
   "execution_count": null,
   "metadata": {
    "ExecuteTime": {
     "end_time": "2020-08-18T06:00:35.654555Z",
     "start_time": "2020-08-18T06:00:35.650554Z"
    }
   },
   "outputs": [],
   "source": [
    "#- 变量 - 设置经纬度和参与循环的字段\n",
    "lon,lat,use_id,city = ['lon','lat','id','city']"
   ]
  },
  {
   "cell_type": "code",
   "execution_count": null,
   "metadata": {
    "ExecuteTime": {
     "end_time": "2020-08-18T06:00:37.133242Z",
     "start_time": "2020-08-18T06:00:37.128742Z"
    }
   },
   "outputs": [],
   "source": [
    "#- 颜色 - 按照字符设置颜色\n",
    "colour_data = '空洞级别'\n",
    "colour_dic = {'大':'red','中':'yellow','小':'blue','微':'green','other':'white'}"
   ]
  },
  {
   "cell_type": "code",
   "execution_count": null,
   "metadata": {
    "ExecuteTime": {
     "end_time": "2020-08-18T06:00:37.796827Z",
     "start_time": "2020-08-18T06:00:37.793826Z"
    }
   },
   "outputs": [],
   "source": [
    "#- 标注 -添加标注列\n",
    "de_col = use_columns\n",
    "de_col.remove('geometry')"
   ]
  },
  {
   "cell_type": "code",
   "execution_count": null,
   "metadata": {
    "ExecuteTime": {
     "end_time": "2020-08-18T06:00:38.935971Z",
     "start_time": "2020-08-18T06:00:38.932971Z"
    }
   },
   "outputs": [],
   "source": [
    "#- 视野 - 在1400*900的分辨率下  view = 70米对应：125公里（差不多能看到武汉主城区）  700对应1200公里（差不多能看到湖北省）\n",
    "view = 50000"
   ]
  },
  {
   "cell_type": "markdown",
   "metadata": {},
   "source": [
    "# 整理数据"
   ]
  },
  {
   "cell_type": "code",
   "execution_count": null,
   "metadata": {
    "ExecuteTime": {
     "end_time": "2020-08-18T06:00:40.634187Z",
     "start_time": "2020-08-18T06:00:40.615184Z"
    }
   },
   "outputs": [],
   "source": [
    "data_use.head(1)"
   ]
  },
  {
   "cell_type": "code",
   "execution_count": null,
   "metadata": {
    "ExecuteTime": {
     "end_time": "2020-08-18T06:00:42.191385Z",
     "start_time": "2020-08-18T06:00:41.782833Z"
    }
   },
   "outputs": [],
   "source": [
    "#添加标注列\n",
    "data_use['description']=''\n",
    "for inde_1, name_1 in enumerate(de_col):\n",
    "    data_use['linshi']=de_col[inde_1]+' : '+data_use[de_col[inde_1]].astype('str')+'\\n'\n",
    "    data_use['description'] = data_use['description']+data_use['linshi']\n",
    "    data_use.drop(columns='linshi')"
   ]
  },
  {
   "cell_type": "code",
   "execution_count": null,
   "metadata": {
    "ExecuteTime": {
     "end_time": "2020-08-18T06:00:42.752456Z",
     "start_time": "2020-08-18T06:00:42.602937Z"
    }
   },
   "outputs": [],
   "source": [
    "data_sectors= data_use.copy()\n",
    "#添加lod的polygon\n",
    "data_sectors['lod_dis']= view\n",
    "data_sectors['lon1'] = data_sectors[lon] + data_sectors['lod_dis']*np.sin(45* np.pi/180)*180/( np.pi * 6371229 * np.cos(data_sectors[lat] * np.pi/180))\n",
    "data_sectors['lat1'] = data_sectors[lat] + data_sectors['lod_dis']*np.cos(45* np.pi/180) / ( np.pi * 6371229 / 180)\n",
    "data_sectors['lon2'] = data_sectors[lon] + data_sectors['lod_dis']*np.sin(225* np.pi/180)*180/( np.pi * 6371229 * np.cos(data_sectors[lat] * np.pi/180))\n",
    "data_sectors['lat2'] = data_sectors[lat] + data_sectors['lod_dis']*np.cos(225* np.pi/180) / ( np.pi * 6371229 / 180)\n",
    "data_sectors['list_data']=[([lon_1, lat_1,lon_2, lat_2]) \n",
    " for lon_1, lat_1,lon_2, lat_2 in zip(data_sectors['lon1'],data_sectors['lat1'],data_sectors['lon2'],data_sectors['lat2'])]"
   ]
  },
  {
   "cell_type": "code",
   "execution_count": null,
   "metadata": {
    "ExecuteTime": {
     "end_time": "2020-08-18T06:00:43.137505Z",
     "start_time": "2020-08-18T06:00:43.134004Z"
    }
   },
   "outputs": [],
   "source": [
    "# df = data_sectors.copy()\n",
    "# #添加颜色列-数字\n",
    "# df = data_sectors.copy()\n",
    "# df['colour']=1\n",
    "# df['colour'] = pd.cut(df['colour'],bins=[-0.1, 0.7, 0.936, 1.1],labels =['red', 'yellow', 'green'])\n",
    "# df['colour'] = df['colour'].astype('object')\n",
    "# # df.loc[df[rsrp_count]<100,'colour']='white'"
   ]
  },
  {
   "cell_type": "code",
   "execution_count": null,
   "metadata": {
    "ExecuteTime": {
     "end_time": "2020-08-18T06:00:44.038119Z",
     "start_time": "2020-08-18T06:00:43.988613Z"
    }
   },
   "outputs": [],
   "source": [
    "df = data_sectors.copy()\n",
    "#添加颜色列-文字\n",
    "df['colour']='white'\n",
    "for name_col in colour_dic:\n",
    "    df.loc[df[colour_data]==name_col,'colour'] =colour_dic[name_col]"
   ]
  },
  {
   "cell_type": "code",
   "execution_count": null,
   "metadata": {
    "ExecuteTime": {
     "end_time": "2020-08-18T06:00:44.695703Z",
     "start_time": "2020-08-18T06:00:44.687702Z"
    }
   },
   "outputs": [],
   "source": [
    "#最终使用的列\n",
    "df_use = df.reindex(columns=[city,use_id,colour_data, 'list_data','colour','description','geometry'])   "
   ]
  },
  {
   "cell_type": "markdown",
   "metadata": {},
   "source": [
    "# 生成图层"
   ]
  },
  {
   "cell_type": "code",
   "execution_count": null,
   "metadata": {
    "ExecuteTime": {
     "end_time": "2020-08-18T06:00:46.915484Z",
     "start_time": "2020-08-18T06:00:46.901983Z"
    }
   },
   "outputs": [],
   "source": [
    "def make_kml(data_t,name='红色栅格',cc='ff0000ff',xiankuan=0,namea='grid_id',list_data = 'list_data',description='description',minlodpixels=1):\n",
    "    print(data_t.shape,cc,xiankuan,namea,list_data,description,minlodpixels)\n",
    "    style = simplekml.Style()\n",
    "    style.linestyle.color = simplekml.Color.changealphaint(250, cc)  # 最终线条上色\n",
    "    style.polystyle.outline = xiankuan\n",
    "    style.polystyle.color = simplekml.Color.changealphaint(250, cc )  # 最终形状上色\n",
    "    lod1 = simplekml.Lod(minlodpixels=minlodpixels, maxlodpixels=-1,minfadeextent=None, maxfadeextent=None)\n",
    "    grid_red = kml.newfolder(name=name)\n",
    "    for grid,list_data ,description_str,geo in zip(data_t[namea],data_t[list_data],data_t[description],data_t['geometry']):\n",
    "#         pol_r = grid_red.newpolygon(name=grid,outerboundaryis=list_data[0])#栅格使用\n",
    "        pol_r = grid_red.newpolygon(name=grid,outerboundaryis=list(geo.exterior.coords),innerboundaryis=[po.coords for po in list(geo.interiors)])\n",
    "        pol_r.description = description_str\n",
    "        pol_r.altitudemode = simplekml.AltitudeMode.clamptoground\n",
    "        lon_dd,lat_dd,lon1_dd,lat1_dd = list_data\n",
    "        latlonaltbox = simplekml.LatLonAltBox(east =lon_dd ,north=lat_dd ,south=lat1_dd ,west=lon1_dd,\n",
    "                                              minaltitude=None, maxaltitude=None, altitudemode=None)\n",
    "        pol_r.region.latlonaltbox = latlonaltbox\n",
    "        pol_r.region.lod = lod1\n",
    "        pol_r.style=style"
   ]
  },
  {
   "cell_type": "code",
   "execution_count": null,
   "metadata": {
    "ExecuteTime": {
     "end_time": "2020-08-18T06:00:47.733588Z",
     "start_time": "2020-08-18T06:00:47.731088Z"
    }
   },
   "outputs": [],
   "source": [
    "#如果是多个文件就使用这个，一个文件不用\n",
    "# f = mytools.othern.file_name_paths('G:/1-规划/评估/覆盖空洞/2020年6月/2-程序输出/修正覆盖半径/各个地市覆盖图层/')"
   ]
  },
  {
   "cell_type": "code",
   "execution_count": null,
   "metadata": {
    "ExecuteTime": {
     "end_time": "2020-08-18T06:01:12.435225Z",
     "start_time": "2020-08-18T06:01:00.355691Z"
    }
   },
   "outputs": [],
   "source": [
    "# for name_f in f:#如果是多个文件就使用这个，一个文件不用\n",
    "#     grid_t = pd.read_pickle(name_f)\n",
    "#     grid_groupby = grid_t.groupby(['所属地区'])\n",
    "\n",
    "for name_region,data_region in df_use.groupby(colour_data):\n",
    "    kml = simplekml.Kml()\n",
    "#         if not os.path.exists('G:/1-规划/评估/覆盖空洞/2020年6月/2-程序输出/修正覆盖半径/各个地市覆盖图层/{}'.format(name_region)):\n",
    "#             os.makedirs('G:/1-规划/评估/覆盖空洞/2020年6月/2-程序输出/修正覆盖半径/各个地市覆盖图层/{}'.format(name_region))\n",
    "    file = '{}空洞_{}_{}.kmz'.format(out_file,name_region,data_region.shape[0])\n",
    "    print('{}开始'.format(file))\n",
    "    for name_c,data_t in data_region.groupby('colour'):#red:ff0000ff,green:ff008000,yellow:ff00ffff,white:ffffffff,bule:ffff0000\n",
    "        if 'red' ==name_c:\n",
    "            make_kml(data_t,name='红色{}个'.format(data_t.shape[0]),cc='ff0000ff',namea=use_id,minlodpixels=50,xiankuan=1)\n",
    "        elif 'blue' == name_c:\n",
    "            make_kml(data_t,name='蓝色{}个'.format(data_t.shape[0]),cc='ffff0000',namea=use_id,minlodpixels=50,xiankuan=1)\n",
    "        elif 'yellow' == name_c:\n",
    "            make_kml(data_t,name='黄色{}个'.format(data_t.shape[0]),cc='ff00ffff',namea=use_id,minlodpixels=50,xiankuan=1)\n",
    "        elif 'white' == name_c:\n",
    "            make_kml(data_t,name='白色{}个'.format(data_t.shape[0]),cc='ffffffff',namea=use_id,minlodpixels=50,xiankuan=1)\n",
    "        elif 'green'  == name_c:\n",
    "            make_kml(data_t,name='绿色{}个'.format(data_t.shape[0]),cc='ff008000',namea=use_id,minlodpixels=50,xiankuan=1)\n",
    "        kml.save(file) if 'kml' in file else kml.savekmz(file, False)\n",
    "    print('生成图层成功存放在{}'.format(file))"
   ]
  },
  {
   "cell_type": "code",
   "execution_count": null,
   "metadata": {
    "ExecuteTime": {
     "end_time": "2020-08-04T11:37:54.687225Z",
     "start_time": "2020-08-04T11:37:52.155404Z"
    }
   },
   "outputs": [],
   "source": [
    "mytools.sound()\n",
    "print('自爆')\n",
    "assert 0 "
   ]
  },
  {
   "cell_type": "code",
   "execution_count": null,
   "metadata": {
    "ExecuteTime": {
     "end_time": "2020-07-14T13:46:43.579207Z",
     "start_time": "2020-07-14T13:46:43.575706Z"
    }
   },
   "outputs": [],
   "source": []
  },
  {
   "cell_type": "markdown",
   "metadata": {},
   "source": [
    "# ----------------------------------修正后的扇区------------------------------------"
   ]
  },
  {
   "cell_type": "markdown",
   "metadata": {},
   "source": [
    "# 导入数据和导出目录"
   ]
  },
  {
   "cell_type": "code",
   "execution_count": null,
   "metadata": {
    "ExecuteTime": {
     "end_time": "2020-08-13T02:41:53.057119Z",
     "start_time": "2020-08-13T02:41:53.052118Z"
    }
   },
   "outputs": [],
   "source": [
    "out_file = 'G:/1-规划/评估/覆盖空洞/20200712第四版本/9-评估搬迁站点/20200812重构/1-全网小区半径修正后-更新了热点为乡镇/图层/'"
   ]
  },
  {
   "cell_type": "code",
   "execution_count": null,
   "metadata": {
    "ExecuteTime": {
     "end_time": "2020-08-13T02:41:59.318914Z",
     "start_time": "2020-08-13T02:41:53.730205Z"
    }
   },
   "outputs": [],
   "source": [
    "data = pd.read_pickle('G:/1-规划/评估/覆盖空洞/20200712第四版本/9-评估搬迁站点/20200812重构/1-全网小区半径修正后-更新了热点为乡镇/修正农村后的单小区覆盖.data')"
   ]
  },
  {
   "cell_type": "code",
   "execution_count": null,
   "metadata": {
    "ExecuteTime": {
     "end_time": "2020-08-13T02:42:31.825042Z",
     "start_time": "2020-08-13T02:42:31.664522Z"
    }
   },
   "outputs": [],
   "source": [
    "data = data.reset_index()"
   ]
  },
  {
   "cell_type": "code",
   "execution_count": null,
   "metadata": {
    "ExecuteTime": {
     "end_time": "2020-08-13T02:42:42.522400Z",
     "start_time": "2020-08-13T02:42:41.963329Z"
    }
   },
   "outputs": [],
   "source": [
    "data['type'] = data.type"
   ]
  },
  {
   "cell_type": "code",
   "execution_count": null,
   "metadata": {
    "ExecuteTime": {
     "end_time": "2020-08-13T02:46:46.398369Z",
     "start_time": "2020-08-13T02:44:31.223704Z"
    }
   },
   "outputs": [],
   "source": [
    "#多边形的质心\n",
    "data[['lon','lat']] = data.apply(lambda x:pd.Series(x['geometry'].centroid.coords[:][0]),axis=1)#\n",
    "#or\n",
    "# data.rename(columns={'RRU经度':'lon','RRU纬度':'lat'})"
   ]
  },
  {
   "cell_type": "code",
   "execution_count": null,
   "metadata": {
    "ExecuteTime": {
     "end_time": "2020-08-13T02:46:47.610523Z",
     "start_time": "2020-08-13T02:46:47.537513Z"
    }
   },
   "outputs": [],
   "source": [
    "data = data.loc[data['归属区县']=='东湖高新开发区']"
   ]
  },
  {
   "cell_type": "code",
   "execution_count": null,
   "metadata": {
    "ExecuteTime": {
     "end_time": "2020-08-13T02:46:47.672530Z",
     "start_time": "2020-08-13T02:46:47.662029Z"
    }
   },
   "outputs": [],
   "source": [
    "data = data.rename(columns={'所属地区':'city'})"
   ]
  },
  {
   "cell_type": "code",
   "execution_count": null,
   "metadata": {
    "ExecuteTime": {
     "end_time": "2020-08-13T02:49:04.640923Z",
     "start_time": "2020-08-13T02:49:04.631922Z"
    }
   },
   "outputs": [],
   "source": [
    "data_use = data[[ '小区CGI(*)', '小区中文名', 'city', 'RRU经度', 'RRU纬度', '天线挂高', '方位角',\n",
    "       '工作频段', '归属区县', '厂家名称', '区域类型', 'distance', '覆盖模型距离', '30米覆盖模型距离',\n",
    "       '使用覆盖半径', 'distance_use', 'distance_yb', 'h_use', '高度建筑比',\n",
    "       'distance_use_3', 'geometry', 'type', 'lon', 'lat']]"
   ]
  },
  {
   "cell_type": "markdown",
   "metadata": {},
   "source": [
    "# 设置变量"
   ]
  },
  {
   "cell_type": "code",
   "execution_count": null,
   "metadata": {
    "ExecuteTime": {
     "end_time": "2020-08-13T02:55:09.665275Z",
     "start_time": "2020-08-13T02:55:09.662275Z"
    }
   },
   "outputs": [],
   "source": [
    "#- 变量 - 设置经纬度和参与循环的字段\n",
    "lon,lat,use_id,city = ['lon','lat','city','city']"
   ]
  },
  {
   "cell_type": "code",
   "execution_count": null,
   "metadata": {
    "ExecuteTime": {
     "end_time": "2020-07-15T02:02:59.303314Z",
     "start_time": "2020-07-15T02:02:59.299314Z"
    }
   },
   "outputs": [],
   "source": [
    "# #- 颜色 - 按照字符设置颜色\n",
    "# colour_data = 'city'\n",
    "# colour_dic = {'大':'red','中':'yellow','小':'blue','微':'green','other':'white'}"
   ]
  },
  {
   "cell_type": "code",
   "execution_count": null,
   "metadata": {
    "ExecuteTime": {
     "end_time": "2020-08-13T02:50:39.066414Z",
     "start_time": "2020-08-13T02:50:39.057913Z"
    }
   },
   "outputs": [],
   "source": [
    "#- 标注 -添加标注列\n",
    "de_col = [ '小区CGI(*)', '小区中文名', 'city', 'RRU经度', 'RRU纬度', '天线挂高', '方位角',\n",
    "       '工作频段', '归属区县', '厂家名称', '区域类型', 'distance', '覆盖模型距离', '30米覆盖模型距离',\n",
    "       '使用覆盖半径', 'distance_use', 'distance_yb', 'h_use', '高度建筑比']"
   ]
  },
  {
   "cell_type": "code",
   "execution_count": null,
   "metadata": {
    "ExecuteTime": {
     "end_time": "2020-08-13T02:50:40.235562Z",
     "start_time": "2020-08-13T02:50:40.231562Z"
    }
   },
   "outputs": [],
   "source": [
    "#- 视野 - 在1400*900的分辨率下  view = 70米对应：125公里（差不多能看到武汉主城区）  700对应1200公里（差不多能看到湖北省）\n",
    "view = 50000"
   ]
  },
  {
   "cell_type": "markdown",
   "metadata": {},
   "source": [
    "# 整理数据"
   ]
  },
  {
   "cell_type": "code",
   "execution_count": null,
   "metadata": {
    "ExecuteTime": {
     "end_time": "2020-08-13T02:50:43.451471Z",
     "start_time": "2020-08-13T02:50:43.073923Z"
    }
   },
   "outputs": [],
   "source": [
    "#添加标注列\n",
    "data_use['description']=''\n",
    "for inde_1, name_1 in enumerate(de_col):\n",
    "    data_use['linshi']=de_col[inde_1]+' : '+data_use[de_col[inde_1]].astype('str')+'\\n'\n",
    "    data_use['description'] = data_use['description']+data_use['linshi']\n",
    "    data_use.drop(columns='linshi')"
   ]
  },
  {
   "cell_type": "code",
   "execution_count": null,
   "metadata": {
    "ExecuteTime": {
     "end_time": "2020-08-13T02:50:47.513486Z",
     "start_time": "2020-08-13T02:50:47.478482Z"
    }
   },
   "outputs": [],
   "source": [
    "data_sectors= data_use.copy()\n",
    "#添加lod的polygon\n",
    "data_sectors['lod_dis']= view\n",
    "data_sectors['lon1'] = data_sectors[lon] + data_sectors['lod_dis']*np.sin(45* np.pi/180)*180/( np.pi * 6371229 * np.cos(data_sectors[lat] * np.pi/180))\n",
    "data_sectors['lat1'] = data_sectors[lat] + data_sectors['lod_dis']*np.cos(45* np.pi/180) / ( np.pi * 6371229 / 180)\n",
    "data_sectors['lon2'] = data_sectors[lon] + data_sectors['lod_dis']*np.sin(225* np.pi/180)*180/( np.pi * 6371229 * np.cos(data_sectors[lat] * np.pi/180))\n",
    "data_sectors['lat2'] = data_sectors[lat] + data_sectors['lod_dis']*np.cos(225* np.pi/180) / ( np.pi * 6371229 / 180)\n",
    "data_sectors['list_data']=[([lon_1, lat_1,lon_2, lat_2]) \n",
    " for lon_1, lat_1,lon_2, lat_2 in zip(data_sectors['lon1'],data_sectors['lat1'],data_sectors['lon2'],data_sectors['lat2'])]"
   ]
  },
  {
   "cell_type": "code",
   "execution_count": null,
   "metadata": {
    "ExecuteTime": {
     "end_time": "2020-07-15T02:03:30.166233Z",
     "start_time": "2020-07-15T02:03:30.162733Z"
    }
   },
   "outputs": [],
   "source": [
    "# df = data_sectors.copy()\n",
    "# #添加颜色列-数字\n",
    "# df = data_sectors.copy()\n",
    "# df['colour']=1\n",
    "# df['colour'] = pd.cut(df['colour'],bins=[-0.1, 0.7, 0.936, 1.1],labels =['red', 'yellow', 'green'])\n",
    "# df['colour'] = df['colour'].astype('object')\n",
    "# # df.loc[df[rsrp_count]<100,'colour']='white'"
   ]
  },
  {
   "cell_type": "code",
   "execution_count": null,
   "metadata": {
    "ExecuteTime": {
     "end_time": "2020-08-13T02:51:05.792808Z",
     "start_time": "2020-08-13T02:51:05.775805Z"
    }
   },
   "outputs": [],
   "source": [
    "df = data_sectors.copy()\n",
    "#添加颜色列-文字\n",
    "df['colour']='white'\n",
    "# for name_col in colour_dic:\n",
    "#     df.loc[df[colour_data]==name_col,'colour'] =colour_dic[name_col]"
   ]
  },
  {
   "cell_type": "code",
   "execution_count": null,
   "metadata": {
    "ExecuteTime": {
     "end_time": "2020-08-13T02:51:21.069247Z",
     "start_time": "2020-08-13T02:51:21.055746Z"
    }
   },
   "outputs": [],
   "source": [
    "#最终使用的列\n",
    "df_use = df.reindex(columns=[city, 'list_data','colour','description','geometry'])   "
   ]
  },
  {
   "cell_type": "markdown",
   "metadata": {},
   "source": [
    "# 生成图层"
   ]
  },
  {
   "cell_type": "code",
   "execution_count": null,
   "metadata": {
    "ExecuteTime": {
     "end_time": "2020-08-13T02:51:23.354038Z",
     "start_time": "2020-08-13T02:51:23.341036Z"
    }
   },
   "outputs": [],
   "source": [
    "#完整的多边形\n",
    "def make_kml(data_t,name='红色栅格',cc='ff0000ff',xiankuan=0,namea='grid_id',list_data = 'list_data',description='description',minlodpixels=1):\n",
    "    print(data_t.shape,cc,xiankuan,namea,list_data,description,minlodpixels)\n",
    "    style = simplekml.Style()\n",
    "    style.linestyle.color = simplekml.Color.changealphaint(220, cc)  # 最终线条上色\n",
    "    style.polystyle.outline = xiankuan\n",
    "    style.polystyle.color = simplekml.Color.changealphaint(125, cc )  # 最终形状上色\n",
    "    lod1 = simplekml.Lod(minlodpixels=minlodpixels, maxlodpixels=-1,minfadeextent=None, maxfadeextent=None)\n",
    "    grid_red = kml.newfolder(name=name)\n",
    "    for grid,list_data ,description_str,geo in zip(data_t[namea],data_t[list_data],data_t[description],data_t['geometry']):\n",
    "#         pol_r = grid_red.newpolygon(name=grid,outerboundaryis=list_data[0])#栅格使用\n",
    "        pol_r = grid_red.newmultigeometry(name=grid)\n",
    "        pol_r.newpolygon(outerboundaryis=list(geo.exterior.coords),innerboundaryis=[po.coords for po in list(geo.interiors)])\n",
    "        pol_r.description = description_str\n",
    "        pol_r.altitudemode = simplekml.AltitudeMode.clamptoground\n",
    "        lon_dd,lat_dd,lon1_dd,lat1_dd = list_data\n",
    "        latlonaltbox = simplekml.LatLonAltBox(east =lon_dd ,north=lat_dd ,south=lat1_dd ,west=lon1_dd,\n",
    "                                              minaltitude=None, maxaltitude=None, altitudemode=None)\n",
    "        pol_r.region.latlonaltbox = latlonaltbox\n",
    "        pol_r.region.lod = lod1\n",
    "        pol_r.style=style"
   ]
  },
  {
   "cell_type": "code",
   "execution_count": null,
   "metadata": {
    "ExecuteTime": {
     "end_time": "2020-08-13T03:15:19.186865Z",
     "start_time": "2020-08-13T03:15:19.173364Z"
    }
   },
   "outputs": [],
   "source": [
    "#复杂的多边形\n",
    "def make_kml(data_t,name='红色栅格',cc='ff0000ff',xiankuan=0,namea='grid_id',list_data = 'list_data',description='description',minlodpixels=1):\n",
    "    print(data_t.shape,cc,xiankuan,namea,list_data,description,minlodpixels)\n",
    "    style = simplekml.Style()\n",
    "    style.linestyle.color = simplekml.Color.changealphaint(200, cc)  # 最终线条上色\n",
    "    style.polystyle.outline = xiankuan\n",
    "    style.polystyle.color = simplekml.Color.changealphaint(150, cc )  # 最终形状上色\n",
    "    lod1 = simplekml.Lod(minlodpixels=minlodpixels, maxlodpixels=-1,minfadeextent=None, maxfadeextent=None)\n",
    "    grid_red = kml.newfolder(name=name)\n",
    "    for grid,list_data ,description_str,geo in zip(data_t[namea],data_t[list_data],data_t[description],data_t['geometry']):\n",
    "#         pol_r = grid_red.newpolygon(name=grid,outerboundaryis=list_data[0])#栅格使用\n",
    "        if geo.type == 'MultiPolygon':\n",
    "            pol_r = grid_red.newmultigeometry(name=grid)\n",
    "            for geo_t in geo: # Generate longitude values\n",
    "                pol_r.newpolygon(name=grid,outerboundaryis=list(geo_t.exterior.coords),innerboundaryis=[po.coords for po in list(geo_t.interiors)])\n",
    "        else:\n",
    "            pol_r = grid_red.newpolygon(name=grid,outerboundaryis=list(geo.exterior.coords),innerboundaryis=[po.coords for po in list(geo.interiors)])\n",
    "        pol_r.description = description_str\n",
    "        pol_r.altitudemode = simplekml.AltitudeMode.clamptoground\n",
    "        lon_dd,lat_dd,lon1_dd,lat1_dd = list_data\n",
    "        latlonaltbox = simplekml.LatLonAltBox(east =lon_dd ,north=lat_dd ,south=lat1_dd ,west=lon1_dd,\n",
    "                                              minaltitude=None, maxaltitude=None, altitudemode=None)\n",
    "        pol_r.region.latlonaltbox = latlonaltbox\n",
    "        pol_r.region.lod = lod1\n",
    "        pol_r.style=style"
   ]
  },
  {
   "cell_type": "code",
   "execution_count": null,
   "metadata": {
    "ExecuteTime": {
     "end_time": "2020-08-13T03:15:25.061611Z",
     "start_time": "2020-08-13T03:15:19.534409Z"
    },
    "scrolled": false
   },
   "outputs": [],
   "source": [
    "for name_region,data_region in df_use.groupby(city):\n",
    "    kml = simplekml.Kml()\n",
    "    file = '{}覆盖区域_{}_{}.kmz'.format(out_file,name_region,data_region.shape[0])\n",
    "    for name_c,data_t in data_region.groupby('colour'):#red:ff0000ff,green:ff008000,yellow:ff00ffff,white:ffffffff,bule:ffff0000\n",
    "        if 'red' ==name_c:\n",
    "            make_kml(data_t,name='红色{}个'.format(data_t.shape[0]),cc='ff0000ff',namea=use_id,minlodpixels=50,xiankuan=1)\n",
    "        elif 'blue' == name_c:\n",
    "            make_kml(data_t,name='蓝色{}个'.format(data_t.shape[0]),cc='ffff0000',namea=use_id,minlodpixels=50,xiankuan=1)\n",
    "        elif 'yellow' == name_c:\n",
    "            make_kml(data_t,name='黄色{}个'.format(data_t.shape[0]),cc='ff00ffff',namea=use_id,minlodpixels=50,xiankuan=1)\n",
    "        elif 'white' == name_c:\n",
    "            make_kml(data_t,name='白色{}个'.format(data_t.shape[0]),cc='ffffffff',namea=use_id,minlodpixels=50,xiankuan=1)\n",
    "        elif 'green'  == name_c:\n",
    "            make_kml(data_t,name='绿色{}个'.format(data_t.shape[0]),cc='ff008000',namea=use_id,minlodpixels=50,xiankuan=1)\n",
    "        kml.save(file) if 'kml' in file else kml.savekmz(file, False)\n",
    "    print('生成图层成功存放在{}'.format(file))"
   ]
  },
  {
   "cell_type": "code",
   "execution_count": null,
   "metadata": {},
   "outputs": [],
   "source": [
    "mytools.sound()\n",
    "print('自爆')\n",
    "assert 0 "
   ]
  },
  {
   "cell_type": "markdown",
   "metadata": {},
   "source": [
    "# 做buffer生成kml"
   ]
  },
  {
   "cell_type": "code",
   "execution_count": 2,
   "metadata": {
    "ExecuteTime": {
     "end_time": "2020-08-27T02:04:01.898334Z",
     "start_time": "2020-08-27T02:04:01.890333Z"
    }
   },
   "outputs": [],
   "source": [
    "data = pd.read_clipboard()"
   ]
  },
  {
   "cell_type": "code",
   "execution_count": 3,
   "metadata": {
    "ExecuteTime": {
     "end_time": "2020-08-27T02:04:02.247379Z",
     "start_time": "2020-08-27T02:04:02.115862Z"
    },
    "scrolled": true
   },
   "outputs": [],
   "source": [
    "data_buffer = mytools.gisn.add_buffer(data,'lon','lat',100)"
   ]
  },
  {
   "cell_type": "markdown",
   "metadata": {},
   "source": [
    "# 设置"
   ]
  },
  {
   "cell_type": "code",
   "execution_count": 4,
   "metadata": {
    "ExecuteTime": {
     "end_time": "2020-08-27T02:04:03.554545Z",
     "start_time": "2020-08-27T02:04:03.510539Z"
    }
   },
   "outputs": [],
   "source": [
    "#导出目录\n",
    "otu_file = 'd:/res.kmz'\n",
    "#- 标注 -添加标注列\n",
    "de_col = list(data.columns)\n",
    "data_buffer['description']=''\n",
    "for inde_1, name_1 in enumerate(de_col):\n",
    "    data_buffer['linshi']=de_col[inde_1]+' : '+data[de_col[inde_1]].astype('str')+'\\n'\n",
    "    data_buffer['description'] = data_buffer['description']+data_buffer['linshi']\n",
    "    data_buffer.drop(columns='linshi')\n",
    "#固定变量\n",
    "xiankuan = 1"
   ]
  },
  {
   "cell_type": "code",
   "execution_count": 5,
   "metadata": {
    "ExecuteTime": {
     "end_time": "2020-08-27T02:04:03.956096Z",
     "start_time": "2020-08-27T02:04:03.949095Z"
    }
   },
   "outputs": [],
   "source": [
    "#最终使用的列\n",
    "data_use = data_buffer.reindex(columns=['id', 'colour','description','geometry'])   "
   ]
  },
  {
   "cell_type": "markdown",
   "metadata": {},
   "source": [
    "# 生成图层"
   ]
  },
  {
   "cell_type": "code",
   "execution_count": null,
   "metadata": {
    "ExecuteTime": {
     "end_time": "2020-08-27T02:09:44.894889Z",
     "start_time": "2020-08-27T02:09:44.855885Z"
    }
   },
   "outputs": [],
   "source": [
    "kml = simplekml.Kml()\n",
    "dic_use = {'红':'ff0000ff','蓝':'ffff0000','黄':'ff00ffff','白':'ffffffff','绿':'ff008000'}\n",
    "for colourname,data_t in data_buffer.groupby('colour'):\n",
    "    out_file_use = otu_file+'_'+colourname+'.kml'\n",
    "    style = simplekml.Style()\n",
    "    colour_str = dic_use[colourname]\n",
    "    style.linestyle.color = simplekml.Color.changealphaint(220, colour_str)  # 最终线条上色\n",
    "    style.polystyle.outline = xiankuan\n",
    "    style.polystyle.color = simplekml.Color.changealphaint(125, colour_str )  # 最终形状上色\n",
    "    grid_red = kml.newfolder(name=colourname)\n",
    "    for id_use,des_use,geo in zip(data_t['id'],data_t['description'],data_t['geometry']):\n",
    "        pol_r = grid_red.newmultigeometry(name=id_use)\n",
    "        pol_r.newpolygon(outerboundaryis=list(geo.exterior.coords),innerboundaryis=[po.coords for po in list(geo.interiors)])\n",
    "        pol_r.description = des_use\n",
    "        pol_r.altitudemode = simplekml.AltitudeMode.clamptoground\n",
    "        pol_r.style=style\n",
    "    print(colourname,'色，制作完成')\n",
    "#     kml.save(out_file_use) if 'kml' in out_file_use else kml.savekmz(out_file_use, False)\n",
    "kml.save(otu_file) if 'kml' in otu_file else kml.savekmz(otu_file, False)\n",
    "print('程序结束')"
   ]
  },
  {
   "cell_type": "code",
   "execution_count": null,
   "metadata": {},
   "outputs": [],
   "source": []
  },
  {
   "cell_type": "code",
   "execution_count": null,
   "metadata": {},
   "outputs": [],
   "source": [
    "\n",
    "style.linestyle.color = simplekml.Color.changealphaint(220, cc)  # 最终线条上色\n",
    "style.polystyle.outline = xiankuan\n",
    "style.polystyle.color = simplekml.Color.changealphaint(125, cc )  # 最终形状上色\n",
    "lod1 = simplekml.Lod(minlodpixels=minlodpixels, maxlodpixels=-1,minfadeextent=None, maxfadeextent=None)\n",
    "grid_red = kml.newfolder(name=name)\n",
    "for grid,list_data ,description_str,geo in zip(data_t[namea],data_t[list_data],data_t[description],data_t['geometry']):\n",
    "#         pol_r = grid_red.newpolygon(name=grid,outerboundaryis=list_data[0])#栅格使用\n",
    "    pol_r = grid_red.newmultigeometry(name=grid)\n",
    "    pol_r.newpolygon(outerboundaryis=list(geo.exterior.coords),innerboundaryis=[po.coords for po in list(geo.interiors)])\n",
    "    pol_r.description = description_str\n",
    "    pol_r.altitudemode = simplekml.AltitudeMode.clamptoground\n",
    "    lon_dd,lat_dd,lon1_dd,lat1_dd = list_data\n",
    "    latlonaltbox = simplekml.LatLonAltBox(east =lon_dd ,north=lat_dd ,south=lat1_dd ,west=lon1_dd,\n",
    "                                          minaltitude=None, maxaltitude=None, altitudemode=None)\n",
    "    pol_r.region.latlonaltbox = latlonaltbox\n",
    "    pol_r.region.lod = lod1\n",
    "    pol_r.style=style\n",
    "kml.save(file) if 'kml' in file else kml.savekmz(file, False)"
   ]
  },
  {
   "cell_type": "code",
   "execution_count": 11,
   "metadata": {
    "ExecuteTime": {
     "end_time": "2020-08-27T01:29:13.129094Z",
     "start_time": "2020-08-27T01:29:13.126094Z"
    }
   },
   "outputs": [],
   "source": []
  }
 ],
 "metadata": {
  "kernelspec": {
   "display_name": "Python 3",
   "language": "python",
   "name": "python3"
  },
  "language_info": {
   "codemirror_mode": {
    "name": "ipython",
    "version": 3
   },
   "file_extension": ".py",
   "mimetype": "text/x-python",
   "name": "python",
   "nbconvert_exporter": "python",
   "pygments_lexer": "ipython3",
   "version": "3.7.4"
  },
  "toc": {
   "base_numbering": 1,
   "nav_menu": {},
   "number_sections": true,
   "sideBar": true,
   "skip_h1_title": false,
   "title_cell": "Table of Contents",
   "title_sidebar": "Contents",
   "toc_cell": false,
   "toc_position": {},
   "toc_section_display": true,
   "toc_window_display": false
  },
  "varInspector": {
   "cols": {
    "lenName": 16,
    "lenType": 16,
    "lenVar": 40
   },
   "kernels_config": {
    "python": {
     "delete_cmd_postfix": "",
     "delete_cmd_prefix": "del ",
     "library": "var_list.py",
     "varRefreshCmd": "print(var_dic_list())"
    },
    "r": {
     "delete_cmd_postfix": ") ",
     "delete_cmd_prefix": "rm(",
     "library": "var_list.r",
     "varRefreshCmd": "cat(var_dic_list()) "
    }
   },
   "types_to_exclude": [
    "module",
    "function",
    "builtin_function_or_method",
    "instance",
    "_Feature"
   ],
   "window_display": false
  }
 },
 "nbformat": 4,
 "nbformat_minor": 2
}
