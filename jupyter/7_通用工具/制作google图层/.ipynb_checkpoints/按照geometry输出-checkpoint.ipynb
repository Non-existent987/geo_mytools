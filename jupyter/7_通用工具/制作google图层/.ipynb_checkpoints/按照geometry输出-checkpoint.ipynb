{
 "cells": [
  {
   "cell_type": "code",
   "execution_count": null,
   "metadata": {
    "ExecuteTime": {
     "end_time": "2020-07-29T09:04:31.363360Z",
     "start_time": "2020-07-29T09:04:30.115202Z"
    }
   },
   "outputs": [],
   "source": [
    "import pandas as pd\n",
    "import geopandas as gpd\n",
    "import mytools\n",
    "import math,simplekml,os"
   ]
  },
  {
   "cell_type": "markdown",
   "metadata": {},
   "source": [
    "# ----------------------------------空洞制作------------------------------------"
   ]
  },
  {
   "cell_type": "markdown",
   "metadata": {},
   "source": [
    "# 导入数据和导出目录"
   ]
  },
  {
   "cell_type": "code",
   "execution_count": null,
   "metadata": {
    "ExecuteTime": {
     "end_time": "2020-07-29T09:04:31.396365Z",
     "start_time": "2020-07-29T09:04:31.391364Z"
    }
   },
   "outputs": [],
   "source": [
    "out_file = 'e:/'"
   ]
  },
  {
   "cell_type": "code",
   "execution_count": null,
   "metadata": {
    "ExecuteTime": {
     "end_time": "2020-07-29T09:04:31.938433Z",
     "start_time": "2020-07-29T09:04:31.438370Z"
    }
   },
   "outputs": [],
   "source": [
    "use = pd.read_excel('d:/linshi/关键空洞详表-地市确认版20200728.xlsx')"
   ]
  },
  {
   "cell_type": "code",
   "execution_count": null,
   "metadata": {
    "ExecuteTime": {
     "end_time": "2020-07-29T09:04:32.296979Z",
     "start_time": "2020-07-29T09:04:32.005942Z"
    }
   },
   "outputs": [],
   "source": [
    "data = pd.read_pickle('G:/1-规划/评估/覆盖空洞/20200712第四版本/3-拆分后的空洞/覆盖空19481个添加场景区分大中小微.data')"
   ]
  },
  {
   "cell_type": "code",
   "execution_count": null,
   "metadata": {
    "ExecuteTime": {
     "end_time": "2020-07-29T09:05:39.182972Z",
     "start_time": "2020-07-29T09:05:39.173971Z"
    }
   },
   "outputs": [],
   "source": [
    "use.shape"
   ]
  },
  {
   "cell_type": "code",
   "execution_count": null,
   "metadata": {
    "ExecuteTime": {
     "end_time": "2020-07-28T08:42:13.292126Z",
     "start_time": "2020-07-28T08:42:13.278125Z"
    }
   },
   "outputs": [],
   "source": [
    "# use = pd.read_clipboard()"
   ]
  },
  {
   "cell_type": "code",
   "execution_count": null,
   "metadata": {
    "ExecuteTime": {
     "end_time": "2020-07-29T09:04:38.155723Z",
     "start_time": "2020-07-29T09:04:38.144221Z"
    }
   },
   "outputs": [],
   "source": [
    "data.shape"
   ]
  },
  {
   "cell_type": "code",
   "execution_count": null,
   "metadata": {
    "ExecuteTime": {
     "end_time": "2020-07-29T09:04:48.821077Z",
     "start_time": "2020-07-29T09:04:48.797074Z"
    }
   },
   "outputs": [],
   "source": [
    "data.head(1)"
   ]
  },
  {
   "cell_type": "code",
   "execution_count": null,
   "metadata": {
    "ExecuteTime": {
     "end_time": "2020-07-29T09:05:58.932980Z",
     "start_time": "2020-07-29T09:05:58.910977Z"
    }
   },
   "outputs": [],
   "source": [
    "data_use = data[['id','geometry']].merge(use,left_on='id',right_on='空洞标识')"
   ]
  },
  {
   "cell_type": "code",
   "execution_count": null,
   "metadata": {
    "ExecuteTime": {
     "end_time": "2020-07-29T09:05:59.292026Z",
     "start_time": "2020-07-29T09:05:59.285525Z"
    }
   },
   "outputs": [],
   "source": [
    "data_use.shape"
   ]
  },
  {
   "cell_type": "code",
   "execution_count": null,
   "metadata": {
    "ExecuteTime": {
     "end_time": "2020-07-29T09:05:59.893602Z",
     "start_time": "2020-07-29T09:05:59.880601Z"
    }
   },
   "outputs": [],
   "source": [
    "data_use.columns"
   ]
  },
  {
   "cell_type": "code",
   "execution_count": null,
   "metadata": {
    "ExecuteTime": {
     "end_time": "2020-07-29T09:09:00.612051Z",
     "start_time": "2020-07-29T09:09:00.033977Z"
    }
   },
   "outputs": [],
   "source": [
    "data_use[['lon','lat']] = data_use.apply(lambda x:pd.Series(x['geometry'].centroid.coords[:][0]),axis=1)#"
   ]
  },
  {
   "cell_type": "code",
   "execution_count": null,
   "metadata": {
    "ExecuteTime": {
     "end_time": "2020-07-29T09:10:23.426567Z",
     "start_time": "2020-07-29T09:10:23.422066Z"
    }
   },
   "outputs": [],
   "source": [
    "use_columns=['id', 'geometry', '索引', '空洞标识', '空洞面积', '标准面积', '空洞面积/标准基站面积', '  场景',\n",
    "       '空洞级别', '地市', '区县', '空洞面积/标准基站面积*空洞权重', '实施方案（规划补点方案后续组织测试衔接确认）']"
   ]
  },
  {
   "cell_type": "code",
   "execution_count": null,
   "metadata": {
    "ExecuteTime": {
     "end_time": "2020-07-28T08:42:56.217077Z",
     "start_time": "2020-07-28T08:42:56.212577Z"
    }
   },
   "outputs": [],
   "source": [
    "use_columns = ['geometry',   '地市', '面积', 'lon', 'lat', '区域类型', 'id', '制式','distance', '标准面积', '空洞面积比例', '空洞级别']"
   ]
  },
  {
   "cell_type": "code",
   "execution_count": null,
   "metadata": {
    "ExecuteTime": {
     "end_time": "2020-07-28T08:42:56.824154Z",
     "start_time": "2020-07-28T08:42:56.812153Z"
    }
   },
   "outputs": [],
   "source": [
    "data_use = data_use[use_columns]"
   ]
  },
  {
   "cell_type": "markdown",
   "metadata": {},
   "source": [
    "# 设置变量"
   ]
  },
  {
   "cell_type": "code",
   "execution_count": null,
   "metadata": {
    "ExecuteTime": {
     "end_time": "2020-07-29T09:09:58.485400Z",
     "start_time": "2020-07-29T09:09:58.481899Z"
    }
   },
   "outputs": [],
   "source": [
    "#- 变量 - 设置经纬度和参与循环的字段\n",
    "lon,lat,use_id,city = ['lon','lat','id','地市']"
   ]
  },
  {
   "cell_type": "code",
   "execution_count": null,
   "metadata": {
    "ExecuteTime": {
     "end_time": "2020-07-29T09:09:58.791438Z",
     "start_time": "2020-07-29T09:09:58.787438Z"
    }
   },
   "outputs": [],
   "source": [
    "#- 颜色 - 按照字符设置颜色\n",
    "colour_data = '空洞级别'\n",
    "colour_dic = {'大':'red','中':'yellow','小':'blue','微':'green','other':'white'}"
   ]
  },
  {
   "cell_type": "code",
   "execution_count": null,
   "metadata": {
    "ExecuteTime": {
     "end_time": "2020-07-29T09:10:26.734487Z",
     "start_time": "2020-07-29T09:10:26.730486Z"
    }
   },
   "outputs": [],
   "source": [
    "#- 标注 -添加标注列\n",
    "de_col = use_columns\n",
    "de_col.remove('geometry')"
   ]
  },
  {
   "cell_type": "code",
   "execution_count": null,
   "metadata": {
    "ExecuteTime": {
     "end_time": "2020-07-29T09:10:28.541716Z",
     "start_time": "2020-07-29T09:10:28.535715Z"
    }
   },
   "outputs": [],
   "source": [
    "#- 视野 - 在1400*900的分辨率下  view = 70米对应：125公里（差不多能看到武汉主城区）  700对应1200公里（差不多能看到湖北省）\n",
    "view = 50000"
   ]
  },
  {
   "cell_type": "markdown",
   "metadata": {},
   "source": [
    "# 整理数据"
   ]
  },
  {
   "cell_type": "code",
   "execution_count": null,
   "metadata": {
    "ExecuteTime": {
     "end_time": "2020-07-29T09:10:30.848509Z",
     "start_time": "2020-07-29T09:10:30.826506Z"
    }
   },
   "outputs": [],
   "source": [
    "data_use.head(1)"
   ]
  },
  {
   "cell_type": "code",
   "execution_count": null,
   "metadata": {
    "ExecuteTime": {
     "end_time": "2020-07-29T09:10:39.486106Z",
     "start_time": "2020-07-29T09:10:39.389594Z"
    }
   },
   "outputs": [],
   "source": [
    "#添加标注列\n",
    "data_use['description']=''\n",
    "for inde_1, name_1 in enumerate(de_col):\n",
    "    data_use['linshi']=de_col[inde_1]+' : '+data_use[de_col[inde_1]].astype('str')+'\\n'\n",
    "    data_use['description'] = data_use['description']+data_use['linshi']\n",
    "    data_use.drop(columns='linshi')"
   ]
  },
  {
   "cell_type": "code",
   "execution_count": null,
   "metadata": {
    "ExecuteTime": {
     "end_time": "2020-07-29T09:10:41.325840Z",
     "start_time": "2020-07-29T09:10:41.289835Z"
    }
   },
   "outputs": [],
   "source": [
    "data_sectors= data_use.copy()\n",
    "#添加lod的polygon\n",
    "data_sectors['lod_dis']= view\n",
    "data_sectors['lon1'] = data_sectors[lon] + data_sectors['lod_dis']*np.sin(45* np.pi/180)*180/( np.pi * 6371229 * np.cos(data_sectors[lat] * np.pi/180))\n",
    "data_sectors['lat1'] = data_sectors[lat] + data_sectors['lod_dis']*np.cos(45* np.pi/180) / ( np.pi * 6371229 / 180)\n",
    "data_sectors['lon2'] = data_sectors[lon] + data_sectors['lod_dis']*np.sin(225* np.pi/180)*180/( np.pi * 6371229 * np.cos(data_sectors[lat] * np.pi/180))\n",
    "data_sectors['lat2'] = data_sectors[lat] + data_sectors['lod_dis']*np.cos(225* np.pi/180) / ( np.pi * 6371229 / 180)\n",
    "data_sectors['list_data']=[([lon_1, lat_1,lon_2, lat_2]) \n",
    " for lon_1, lat_1,lon_2, lat_2 in zip(data_sectors['lon1'],data_sectors['lat1'],data_sectors['lon2'],data_sectors['lat2'])]"
   ]
  },
  {
   "cell_type": "code",
   "execution_count": null,
   "metadata": {
    "ExecuteTime": {
     "end_time": "2020-07-28T08:43:01.364231Z",
     "start_time": "2020-07-28T08:43:01.360730Z"
    }
   },
   "outputs": [],
   "source": [
    "# df = data_sectors.copy()\n",
    "# #添加颜色列-数字\n",
    "# df = data_sectors.copy()\n",
    "# df['colour']=1\n",
    "# df['colour'] = pd.cut(df['colour'],bins=[-0.1, 0.7, 0.936, 1.1],labels =['red', 'yellow', 'green'])\n",
    "# df['colour'] = df['colour'].astype('object')\n",
    "# # df.loc[df[rsrp_count]<100,'colour']='white'"
   ]
  },
  {
   "cell_type": "code",
   "execution_count": null,
   "metadata": {
    "ExecuteTime": {
     "end_time": "2020-07-29T09:10:44.456737Z",
     "start_time": "2020-07-29T09:10:44.427733Z"
    }
   },
   "outputs": [],
   "source": [
    "df = data_sectors.copy()\n",
    "#添加颜色列-文字\n",
    "df['colour']='white'\n",
    "for name_col in colour_dic:\n",
    "    df.loc[df[colour_data]==name_col,'colour'] =colour_dic[name_col]"
   ]
  },
  {
   "cell_type": "code",
   "execution_count": null,
   "metadata": {
    "ExecuteTime": {
     "end_time": "2020-07-29T09:10:46.190457Z",
     "start_time": "2020-07-29T09:10:46.181456Z"
    }
   },
   "outputs": [],
   "source": [
    "#最终使用的列\n",
    "df_use = df.reindex(columns=[city,use_id,colour_data, 'list_data','colour','description','geometry'])   "
   ]
  },
  {
   "cell_type": "markdown",
   "metadata": {},
   "source": [
    "# 生成图层"
   ]
  },
  {
   "cell_type": "code",
   "execution_count": null,
   "metadata": {
    "ExecuteTime": {
     "end_time": "2020-07-29T09:10:57.710420Z",
     "start_time": "2020-07-29T09:10:57.691918Z"
    }
   },
   "outputs": [],
   "source": [
    "def make_kml(data_t,name='红色栅格',cc='ff0000ff',xiankuan=0,namea='grid_id',list_data = 'list_data',description='description',minlodpixels=1):\n",
    "    print(data_t.shape,cc,xiankuan,namea,list_data,description,minlodpixels)\n",
    "    style = simplekml.Style()\n",
    "    style.linestyle.color = simplekml.Color.changealphaint(220, cc)  # 最终线条上色\n",
    "    style.polystyle.outline = xiankuan\n",
    "    style.polystyle.color = simplekml.Color.changealphaint(135, cc )  # 最终形状上色\n",
    "    lod1 = simplekml.Lod(minlodpixels=minlodpixels, maxlodpixels=-1,minfadeextent=None, maxfadeextent=None)\n",
    "    grid_red = kml.newfolder(name=name)\n",
    "    for grid,list_data ,description_str,geo in zip(data_t[namea],data_t[list_data],data_t[description],data_t['geometry']):\n",
    "#         pol_r = grid_red.newpolygon(name=grid,outerboundaryis=list_data[0])#栅格使用\n",
    "        pol_r = grid_red.newpolygon(name=grid,outerboundaryis=list(geo.exterior.coords),innerboundaryis=[po.coords for po in list(geo.interiors)])\n",
    "        pol_r.description = description_str\n",
    "        pol_r.altitudemode = simplekml.AltitudeMode.clamptoground\n",
    "        lon_dd,lat_dd,lon1_dd,lat1_dd = list_data\n",
    "        latlonaltbox = simplekml.LatLonAltBox(east =lon_dd ,north=lat_dd ,south=lat1_dd ,west=lon1_dd,\n",
    "                                              minaltitude=None, maxaltitude=None, altitudemode=None)\n",
    "        pol_r.region.latlonaltbox = latlonaltbox\n",
    "        pol_r.region.lod = lod1\n",
    "        pol_r.style=style"
   ]
  },
  {
   "cell_type": "code",
   "execution_count": null,
   "metadata": {
    "ExecuteTime": {
     "end_time": "2020-07-29T09:10:58.889570Z",
     "start_time": "2020-07-29T09:10:58.886069Z"
    }
   },
   "outputs": [],
   "source": [
    "#如果是多个文件就使用这个，一个文件不用\n",
    "# f = mytools.othern.file_name_paths('G:/1-规划/评估/覆盖空洞/2020年6月/2-程序输出/修正覆盖半径/各个地市覆盖图层/')"
   ]
  },
  {
   "cell_type": "code",
   "execution_count": null,
   "metadata": {
    "ExecuteTime": {
     "end_time": "2020-07-29T09:11:04.877330Z",
     "start_time": "2020-07-29T09:11:03.549662Z"
    }
   },
   "outputs": [],
   "source": [
    "# for name_f in f:#如果是多个文件就使用这个，一个文件不用\n",
    "#     grid_t = pd.read_pickle(name_f)\n",
    "#     grid_groupby = grid_t.groupby(['所属地区'])\n",
    "\n",
    "for name_region,data_region in df_use.groupby(colour_data):\n",
    "    kml = simplekml.Kml()\n",
    "#         if not os.path.exists('G:/1-规划/评估/覆盖空洞/2020年6月/2-程序输出/修正覆盖半径/各个地市覆盖图层/{}'.format(name_region)):\n",
    "#             os.makedirs('G:/1-规划/评估/覆盖空洞/2020年6月/2-程序输出/修正覆盖半径/各个地市覆盖图层/{}'.format(name_region))\n",
    "    file = '{}关键栅格的空洞_{}_{}.kmz'.format(out_file,name_region,data_region.shape[0])\n",
    "    print('{}开始'.format(file))\n",
    "    for name_c,data_t in data_region.groupby('colour'):#red:ff0000ff,green:ff008000,yellow:ff00ffff,white:ffffffff,bule:ffff0000\n",
    "        if 'red' ==name_c:\n",
    "            make_kml(data_t,name='红色{}个'.format(data_t.shape[0]),cc='ff0000ff',namea=use_id,minlodpixels=50,xiankuan=1)\n",
    "        elif 'blue' == name_c:\n",
    "            make_kml(data_t,name='蓝色{}个'.format(data_t.shape[0]),cc='ffff0000',namea=use_id,minlodpixels=50,xiankuan=1)\n",
    "        elif 'yellow' == name_c:\n",
    "            make_kml(data_t,name='黄色{}个'.format(data_t.shape[0]),cc='ff00ffff',namea=use_id,minlodpixels=50,xiankuan=1)\n",
    "        elif 'white' == name_c:\n",
    "            make_kml(data_t,name='白色{}个'.format(data_t.shape[0]),cc='ffffffff',namea=use_id,minlodpixels=50,xiankuan=1)\n",
    "        elif 'green'  == name_c:\n",
    "            make_kml(data_t,name='绿色{}个'.format(data_t.shape[0]),cc='ff008000',namea=use_id,minlodpixels=50,xiankuan=1)\n",
    "        kml.save(file) if 'kml' in file else kml.savekmz(file, False)\n",
    "    print('生成图层成功存放在{}'.format(file))"
   ]
  },
  {
   "cell_type": "code",
   "execution_count": null,
   "metadata": {
    "ExecuteTime": {
     "end_time": "2020-07-29T09:14:19.507045Z",
     "start_time": "2020-07-29T09:14:17.276262Z"
    }
   },
   "outputs": [],
   "source": [
    "mytools.sound()\n",
    "print('自爆')\n",
    "assert 0 "
   ]
  },
  {
   "cell_type": "code",
   "execution_count": null,
   "metadata": {
    "ExecuteTime": {
     "end_time": "2020-07-14T13:46:43.579207Z",
     "start_time": "2020-07-14T13:46:43.575706Z"
    }
   },
   "outputs": [],
   "source": []
  },
  {
   "cell_type": "markdown",
   "metadata": {},
   "source": [
    "# ----------------------------------其他制作------------------------------------"
   ]
  },
  {
   "cell_type": "markdown",
   "metadata": {},
   "source": [
    "# 导入数据和导出目录"
   ]
  },
  {
   "cell_type": "code",
   "execution_count": null,
   "metadata": {
    "ExecuteTime": {
     "end_time": "2020-07-15T02:22:24.665796Z",
     "start_time": "2020-07-15T02:22:24.662796Z"
    }
   },
   "outputs": [],
   "source": [
    "out_file = 'G:/1-规划/评估/覆盖空洞/20200712第四版本/2-程序数据出-过程/3-小区覆盖区域/'"
   ]
  },
  {
   "cell_type": "code",
   "execution_count": null,
   "metadata": {
    "ExecuteTime": {
     "end_time": "2020-07-15T02:22:29.829452Z",
     "start_time": "2020-07-15T02:22:29.785947Z"
    }
   },
   "outputs": [],
   "source": [
    "data = pd.read_pickle('G:/1-规划/评估/覆盖空洞/20200712第四版本/2-程序数据出-过程/3-小区覆盖区域/农村和非农村合并全网覆盖图层按照地市合并.data')"
   ]
  },
  {
   "cell_type": "code",
   "execution_count": null,
   "metadata": {
    "ExecuteTime": {
     "end_time": "2020-07-15T02:22:34.915598Z",
     "start_time": "2020-07-15T02:22:34.910597Z"
    }
   },
   "outputs": [],
   "source": [
    "data."
   ]
  },
  {
   "cell_type": "code",
   "execution_count": null,
   "metadata": {
    "ExecuteTime": {
     "end_time": "2020-07-15T02:07:09.117037Z",
     "start_time": "2020-07-15T02:07:09.112036Z"
    }
   },
   "outputs": [],
   "source": [
    "data = data.reset_index()"
   ]
  },
  {
   "cell_type": "code",
   "execution_count": null,
   "metadata": {
    "ExecuteTime": {
     "end_time": "2020-07-15T02:07:15.271818Z",
     "start_time": "2020-07-15T02:07:15.266317Z"
    }
   },
   "outputs": [],
   "source": [
    "data['type'] = data.type"
   ]
  },
  {
   "cell_type": "code",
   "execution_count": null,
   "metadata": {
    "ExecuteTime": {
     "end_time": "2020-07-15T02:07:21.440601Z",
     "start_time": "2020-07-15T02:07:21.403097Z"
    }
   },
   "outputs": [],
   "source": [
    "#多边形的质心\n",
    "data[['lon','lat']] = data.apply(lambda x:pd.Series(x['geometry'].centroid.coords[:][0]),axis=1)#"
   ]
  },
  {
   "cell_type": "code",
   "execution_count": null,
   "metadata": {
    "ExecuteTime": {
     "end_time": "2020-07-15T02:07:27.901422Z",
     "start_time": "2020-07-15T02:07:27.575880Z"
    }
   },
   "outputs": [],
   "source": [
    "data.head(1)"
   ]
  },
  {
   "cell_type": "code",
   "execution_count": null,
   "metadata": {
    "ExecuteTime": {
     "end_time": "2020-07-15T02:07:34.072205Z",
     "start_time": "2020-07-15T02:07:34.066705Z"
    }
   },
   "outputs": [],
   "source": [
    "data_use = data[['geometry', 'type', 'city', 'lon', 'lat']]"
   ]
  },
  {
   "cell_type": "markdown",
   "metadata": {},
   "source": [
    "# 设置变量"
   ]
  },
  {
   "cell_type": "code",
   "execution_count": null,
   "metadata": {
    "ExecuteTime": {
     "end_time": "2020-07-15T02:07:53.089620Z",
     "start_time": "2020-07-15T02:07:53.086620Z"
    }
   },
   "outputs": [],
   "source": [
    "#- 变量 - 设置经纬度和参与循环的字段\n",
    "lon,lat,use_id,city = ['lon','lat','city','city']"
   ]
  },
  {
   "cell_type": "code",
   "execution_count": null,
   "metadata": {
    "ExecuteTime": {
     "end_time": "2020-07-15T02:02:59.303314Z",
     "start_time": "2020-07-15T02:02:59.299314Z"
    }
   },
   "outputs": [],
   "source": [
    "#- 颜色 - 按照字符设置颜色\n",
    "colour_data = 'city'\n",
    "colour_dic = {'大':'red','中':'yellow','小':'blue','微':'green','other':'white'}"
   ]
  },
  {
   "cell_type": "code",
   "execution_count": null,
   "metadata": {
    "ExecuteTime": {
     "end_time": "2020-07-15T02:08:09.168662Z",
     "start_time": "2020-07-15T02:08:09.166162Z"
    }
   },
   "outputs": [],
   "source": [
    "#- 标注 -添加标注列\n",
    "de_col = ['lon','lat','city']"
   ]
  },
  {
   "cell_type": "code",
   "execution_count": null,
   "metadata": {
    "ExecuteTime": {
     "end_time": "2020-07-15T02:08:42.655914Z",
     "start_time": "2020-07-15T02:08:42.653414Z"
    }
   },
   "outputs": [],
   "source": [
    "#- 视野 - 在1400*900的分辨率下  view = 70米对应：125公里（差不多能看到武汉主城区）  700对应1200公里（差不多能看到湖北省）\n",
    "view = 50000"
   ]
  },
  {
   "cell_type": "markdown",
   "metadata": {},
   "source": [
    "# 整理数据"
   ]
  },
  {
   "cell_type": "code",
   "execution_count": null,
   "metadata": {
    "ExecuteTime": {
     "end_time": "2020-07-15T02:08:48.839200Z",
     "start_time": "2020-07-15T02:08:48.826198Z"
    }
   },
   "outputs": [],
   "source": [
    "#添加标注列\n",
    "data_use['description']=''\n",
    "for inde_1, name_1 in enumerate(de_col):\n",
    "    data_use['linshi']=de_col[inde_1]+' : '+data_use[de_col[inde_1]].astype('str')+'\\n'\n",
    "    data_use['description'] = data_use['description']+data_use['linshi']\n",
    "    data_use.drop(columns='linshi')"
   ]
  },
  {
   "cell_type": "code",
   "execution_count": null,
   "metadata": {
    "ExecuteTime": {
     "end_time": "2020-07-15T02:08:55.028986Z",
     "start_time": "2020-07-15T02:08:55.011483Z"
    }
   },
   "outputs": [],
   "source": [
    "data_sectors= data_use.copy()\n",
    "#添加lod的polygon\n",
    "data_sectors['lod_dis']= view\n",
    "data_sectors['lon1'] = data_sectors[lon] + data_sectors['lod_dis']*np.sin(45* np.pi/180)*180/( np.pi * 6371229 * np.cos(data_sectors[lat] * np.pi/180))\n",
    "data_sectors['lat1'] = data_sectors[lat] + data_sectors['lod_dis']*np.cos(45* np.pi/180) / ( np.pi * 6371229 / 180)\n",
    "data_sectors['lon2'] = data_sectors[lon] + data_sectors['lod_dis']*np.sin(225* np.pi/180)*180/( np.pi * 6371229 * np.cos(data_sectors[lat] * np.pi/180))\n",
    "data_sectors['lat2'] = data_sectors[lat] + data_sectors['lod_dis']*np.cos(225* np.pi/180) / ( np.pi * 6371229 / 180)\n",
    "data_sectors['list_data']=[([lon_1, lat_1,lon_2, lat_2]) \n",
    " for lon_1, lat_1,lon_2, lat_2 in zip(data_sectors['lon1'],data_sectors['lat1'],data_sectors['lon2'],data_sectors['lat2'])]"
   ]
  },
  {
   "cell_type": "code",
   "execution_count": null,
   "metadata": {
    "ExecuteTime": {
     "end_time": "2020-07-15T02:03:30.166233Z",
     "start_time": "2020-07-15T02:03:30.162733Z"
    }
   },
   "outputs": [],
   "source": [
    "# df = data_sectors.copy()\n",
    "# #添加颜色列-数字\n",
    "# df = data_sectors.copy()\n",
    "# df['colour']=1\n",
    "# df['colour'] = pd.cut(df['colour'],bins=[-0.1, 0.7, 0.936, 1.1],labels =['red', 'yellow', 'green'])\n",
    "# df['colour'] = df['colour'].astype('object')\n",
    "# # df.loc[df[rsrp_count]<100,'colour']='white'"
   ]
  },
  {
   "cell_type": "code",
   "execution_count": null,
   "metadata": {
    "ExecuteTime": {
     "end_time": "2020-07-15T02:09:01.181267Z",
     "start_time": "2020-07-15T02:09:01.175266Z"
    }
   },
   "outputs": [],
   "source": [
    "df = data_sectors.copy()\n",
    "#添加颜色列-文字\n",
    "df['colour']='white'\n",
    "# for name_col in colour_dic:\n",
    "#     df.loc[df[colour_data]==name_col,'colour'] =colour_dic[name_col]"
   ]
  },
  {
   "cell_type": "code",
   "execution_count": null,
   "metadata": {
    "ExecuteTime": {
     "end_time": "2020-07-15T02:09:07.317046Z",
     "start_time": "2020-07-15T02:09:07.312045Z"
    }
   },
   "outputs": [],
   "source": [
    "#最终使用的列\n",
    "df_use = df.reindex(columns=[city, 'list_data','colour','description','geometry'])   "
   ]
  },
  {
   "cell_type": "code",
   "execution_count": null,
   "metadata": {
    "ExecuteTime": {
     "end_time": "2020-07-15T02:18:10.690546Z",
     "start_time": "2020-07-15T02:18:10.671043Z"
    }
   },
   "outputs": [],
   "source": [
    "df_use = df_use.explode().reset_index(drop=True)"
   ]
  },
  {
   "cell_type": "code",
   "execution_count": null,
   "metadata": {
    "ExecuteTime": {
     "end_time": "2020-07-15T02:31:54.474153Z",
     "start_time": "2020-07-15T02:31:54.468652Z"
    }
   },
   "outputs": [],
   "source": [
    "df_use['type'] = df_use.type"
   ]
  },
  {
   "cell_type": "code",
   "execution_count": null,
   "metadata": {
    "ExecuteTime": {
     "end_time": "2020-07-15T02:33:07.976487Z",
     "start_time": "2020-07-15T02:33:07.971986Z"
    }
   },
   "outputs": [],
   "source": [
    "a = df_use.head(1)['geometry'][0]"
   ]
  },
  {
   "cell_type": "code",
   "execution_count": null,
   "metadata": {
    "ExecuteTime": {
     "end_time": "2020-07-15T02:34:01.197745Z",
     "start_time": "2020-07-15T02:34:01.193744Z"
    }
   },
   "outputs": [],
   "source": [
    "aa = data.reset_index()"
   ]
  },
  {
   "cell_type": "code",
   "execution_count": null,
   "metadata": {
    "ExecuteTime": {
     "end_time": "2020-07-15T02:34:24.849248Z",
     "start_time": "2020-07-15T02:34:24.845248Z"
    }
   },
   "outputs": [],
   "source": [
    "b = aa['geometry'][0]"
   ]
  },
  {
   "cell_type": "code",
   "execution_count": null,
   "metadata": {
    "ExecuteTime": {
     "end_time": "2020-07-15T02:36:53.382609Z",
     "start_time": "2020-07-15T02:36:53.373108Z"
    }
   },
   "outputs": [],
   "source": [
    "b.envelope()"
   ]
  },
  {
   "cell_type": "code",
   "execution_count": null,
   "metadata": {
    "ExecuteTime": {
     "end_time": "2020-07-15T02:35:09.136872Z",
     "start_time": "2020-07-15T02:35:09.132871Z"
    }
   },
   "outputs": [],
   "source": [
    "for po in b.e:\n",
    "    po.interiors ==True"
   ]
  },
  {
   "cell_type": "code",
   "execution_count": null,
   "metadata": {
    "ExecuteTime": {
     "end_time": "2020-07-15T02:33:26.848383Z",
     "start_time": "2020-07-15T02:33:26.843882Z"
    }
   },
   "outputs": [],
   "source": [
    "a.interiors ==True"
   ]
  },
  {
   "cell_type": "code",
   "execution_count": null,
   "metadata": {},
   "outputs": [],
   "source": []
  },
  {
   "cell_type": "markdown",
   "metadata": {},
   "source": [
    "# 生成图层"
   ]
  },
  {
   "cell_type": "code",
   "execution_count": null,
   "metadata": {
    "ExecuteTime": {
     "end_time": "2020-07-15T02:18:16.013722Z",
     "start_time": "2020-07-15T02:18:16.001720Z"
    }
   },
   "outputs": [],
   "source": [
    "def make_kml(data_t,name='红色栅格',cc='ff0000ff',xiankuan=0,namea='grid_id',list_data = 'list_data',description='description',minlodpixels=1):\n",
    "    print(data_t.shape,cc,xiankuan,namea,list_data,description,minlodpixels)\n",
    "    style = simplekml.Style()\n",
    "    style.linestyle.color = simplekml.Color.changealphaint(220, cc)  # 最终线条上色\n",
    "    style.polystyle.outline = xiankuan\n",
    "    style.polystyle.color = simplekml.Color.changealphaint(125, cc )  # 最终形状上色\n",
    "    lod1 = simplekml.Lod(minlodpixels=minlodpixels, maxlodpixels=-1,minfadeextent=None, maxfadeextent=None)\n",
    "    grid_red = kml.newfolder(name=name)\n",
    "    for grid,list_data ,description_str,geo in zip(data_t[namea],data_t[list_data],data_t[description],data_t['geometry']):\n",
    "#         pol_r = grid_red.newpolygon(name=grid,outerboundaryis=list_data[0])#栅格使用\n",
    "        pol_r = grid_red.newmultigeometry(name=grid)\n",
    "        pol_r.newpolygon(outerboundaryis=list(geo.exterior.coords),innerboundaryis=[po.coords for po in list(geo.interiors)])\n",
    "        pol_r.description = description_str\n",
    "        pol_r.altitudemode = simplekml.AltitudeMode.clamptoground\n",
    "        lon_dd,lat_dd,lon1_dd,lat1_dd = list_data\n",
    "        latlonaltbox = simplekml.LatLonAltBox(east =lon_dd ,north=lat_dd ,south=lat1_dd ,west=lon1_dd,\n",
    "                                              minaltitude=None, maxaltitude=None, altitudemode=None)\n",
    "        pol_r.region.latlonaltbox = latlonaltbox\n",
    "        pol_r.region.lod = lod1\n",
    "        pol_r.style=style"
   ]
  },
  {
   "cell_type": "code",
   "execution_count": null,
   "metadata": {
    "ExecuteTime": {
     "end_time": "2020-07-15T02:18:28.008745Z",
     "start_time": "2020-07-15T02:18:21.293392Z"
    }
   },
   "outputs": [],
   "source": [
    "for name_region,data_region in df_use.groupby(city):\n",
    "    kml = simplekml.Kml()\n",
    "    file = '{}覆盖区域_{}_{}.kmz'.format(out_file,name_region,data_region.shape[0])\n",
    "    for name_c,data_t in data_region.groupby('colour'):#red:ff0000ff,green:ff008000,yellow:ff00ffff,white:ffffffff,bule:ffff0000\n",
    "        if 'red' ==name_c:\n",
    "            make_kml(data_t,name='红色{}个'.format(data_t.shape[0]),cc='ff0000ff',namea=use_id,minlodpixels=50,xiankuan=1)\n",
    "        elif 'blue' == name_c:\n",
    "            make_kml(data_t,name='蓝色{}个'.format(data_t.shape[0]),cc='ffff0000',namea=use_id,minlodpixels=50,xiankuan=1)\n",
    "        elif 'yellow' == name_c:\n",
    "            make_kml(data_t,name='黄色{}个'.format(data_t.shape[0]),cc='ff00ffff',namea=use_id,minlodpixels=50,xiankuan=1)\n",
    "        elif 'white' == name_c:\n",
    "            make_kml(data_t,name='白色{}个'.format(data_t.shape[0]),cc='ffffffff',namea=use_id,minlodpixels=50,xiankuan=1)\n",
    "        elif 'green'  == name_c:\n",
    "            make_kml(data_t,name='绿色{}个'.format(data_t.shape[0]),cc='ff008000',namea=use_id,minlodpixels=50,xiankuan=1)\n",
    "        kml.save(file) if 'kml' in file else kml.savekmz(file, False)\n",
    "    print('生成图层成功存放在{}'.format(file))"
   ]
  },
  {
   "cell_type": "code",
   "execution_count": null,
   "metadata": {},
   "outputs": [],
   "source": []
  }
 ],
 "metadata": {
  "kernelspec": {
   "display_name": "Python 3",
   "language": "python",
   "name": "python3"
  },
  "language_info": {
   "codemirror_mode": {
    "name": "ipython",
    "version": 3
   },
   "file_extension": ".py",
   "mimetype": "text/x-python",
   "name": "python",
   "nbconvert_exporter": "python",
   "pygments_lexer": "ipython3",
   "version": "3.7.4"
  },
  "toc": {
   "base_numbering": 1,
   "nav_menu": {},
   "number_sections": true,
   "sideBar": true,
   "skip_h1_title": false,
   "title_cell": "Table of Contents",
   "title_sidebar": "Contents",
   "toc_cell": false,
   "toc_position": {},
   "toc_section_display": true,
   "toc_window_display": false
  },
  "varInspector": {
   "cols": {
    "lenName": 16,
    "lenType": 16,
    "lenVar": 40
   },
   "kernels_config": {
    "python": {
     "delete_cmd_postfix": "",
     "delete_cmd_prefix": "del ",
     "library": "var_list.py",
     "varRefreshCmd": "print(var_dic_list())"
    },
    "r": {
     "delete_cmd_postfix": ") ",
     "delete_cmd_prefix": "rm(",
     "library": "var_list.r",
     "varRefreshCmd": "cat(var_dic_list()) "
    }
   },
   "types_to_exclude": [
    "module",
    "function",
    "builtin_function_or_method",
    "instance",
    "_Feature"
   ],
   "window_display": false
  }
 },
 "nbformat": 4,
 "nbformat_minor": 2
}
