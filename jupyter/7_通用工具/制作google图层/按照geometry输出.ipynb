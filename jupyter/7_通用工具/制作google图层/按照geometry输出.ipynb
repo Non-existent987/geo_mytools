{
 "cells": [
  {
   "cell_type": "code",
   "execution_count": 1,
   "metadata": {
    "ExecuteTime": {
     "end_time": "2020-08-04T11:35:12.708157Z",
     "start_time": "2020-08-04T11:35:11.857049Z"
    }
   },
   "outputs": [],
   "source": [
    "import pandas as pd\n",
    "import geopandas as gpd\n",
    "import mytools\n",
    "import math,simplekml,os"
   ]
  },
  {
   "cell_type": "markdown",
   "metadata": {},
   "source": [
    "# ----------------------------------空洞制作------------------------------------"
   ]
  },
  {
   "cell_type": "markdown",
   "metadata": {},
   "source": [
    "# 导入数据和导出目录"
   ]
  },
  {
   "cell_type": "code",
   "execution_count": 2,
   "metadata": {
    "ExecuteTime": {
     "end_time": "2020-08-04T11:35:13.333236Z",
     "start_time": "2020-08-04T11:35:13.330736Z"
    }
   },
   "outputs": [],
   "source": [
    "out_file = 'e:/'"
   ]
  },
  {
   "cell_type": "code",
   "execution_count": 3,
   "metadata": {
    "ExecuteTime": {
     "end_time": "2020-07-30T01:22:24.333818Z",
     "start_time": "2020-07-30T01:22:23.772747Z"
    }
   },
   "outputs": [],
   "source": [
    "use = pd.read_excel('d:/linshi/关键空洞详表-地市确认版20200728.xlsx')"
   ]
  },
  {
   "cell_type": "code",
   "execution_count": 3,
   "metadata": {
    "ExecuteTime": {
     "end_time": "2020-08-04T11:35:17.523268Z",
     "start_time": "2020-08-04T11:35:16.767672Z"
    }
   },
   "outputs": [],
   "source": [
    "data = pd.read_pickle('G:/1-规划/评估/覆盖空洞/20200712第四版本/3-拆分后的空洞/覆盖空19481个添加场景区分大中小微.data')"
   ]
  },
  {
   "cell_type": "code",
   "execution_count": 5,
   "metadata": {
    "ExecuteTime": {
     "end_time": "2020-07-30T01:22:25.260936Z",
     "start_time": "2020-07-30T01:22:25.251434Z"
    }
   },
   "outputs": [
    {
     "data": {
      "text/plain": [
       "(778, 11)"
      ]
     },
     "execution_count": 5,
     "metadata": {},
     "output_type": "execute_result"
    }
   ],
   "source": [
    "use.shape"
   ]
  },
  {
   "cell_type": "code",
   "execution_count": 6,
   "metadata": {
    "ExecuteTime": {
     "end_time": "2020-07-30T01:22:25.682989Z",
     "start_time": "2020-07-30T01:22:25.680489Z"
    }
   },
   "outputs": [],
   "source": [
    "# use = pd.read_clipboard()"
   ]
  },
  {
   "cell_type": "code",
   "execution_count": 7,
   "metadata": {
    "ExecuteTime": {
     "end_time": "2020-07-30T01:22:26.106043Z",
     "start_time": "2020-07-30T01:22:26.101542Z"
    }
   },
   "outputs": [
    {
     "data": {
      "text/plain": [
       "(19481, 13)"
      ]
     },
     "execution_count": 7,
     "metadata": {},
     "output_type": "execute_result"
    }
   ],
   "source": [
    "data.shape"
   ]
  },
  {
   "cell_type": "code",
   "execution_count": 8,
   "metadata": {
    "ExecuteTime": {
     "end_time": "2020-07-30T01:22:26.555600Z",
     "start_time": "2020-07-30T01:22:26.535597Z"
    }
   },
   "outputs": [
    {
     "data": {
      "text/html": [
       "<div>\n",
       "<style scoped>\n",
       "    .dataframe tbody tr th:only-of-type {\n",
       "        vertical-align: middle;\n",
       "    }\n",
       "\n",
       "    .dataframe tbody tr th {\n",
       "        vertical-align: top;\n",
       "    }\n",
       "\n",
       "    .dataframe thead th {\n",
       "        text-align: right;\n",
       "    }\n",
       "</style>\n",
       "<table border=\"1\" class=\"dataframe\">\n",
       "  <thead>\n",
       "    <tr style=\"text-align: right;\">\n",
       "      <th></th>\n",
       "      <th>city</th>\n",
       "      <th>type</th>\n",
       "      <th>geometry</th>\n",
       "      <th>面积</th>\n",
       "      <th>lon</th>\n",
       "      <th>lat</th>\n",
       "      <th>区域类型</th>\n",
       "      <th>id</th>\n",
       "      <th>制式</th>\n",
       "      <th>distance</th>\n",
       "      <th>标准面积</th>\n",
       "      <th>空洞面积比例</th>\n",
       "      <th>空洞级别</th>\n",
       "    </tr>\n",
       "  </thead>\n",
       "  <tbody>\n",
       "    <tr>\n",
       "      <th>0</th>\n",
       "      <td>十堰</td>\n",
       "      <td>Polygon</td>\n",
       "      <td>POLYGON ((111.57467 32.59737, 111.57724 32.598...</td>\n",
       "      <td>118802.970802</td>\n",
       "      <td>111.577452</td>\n",
       "      <td>32.595834</td>\n",
       "      <td>农村</td>\n",
       "      <td>kd_1</td>\n",
       "      <td>FDD900</td>\n",
       "      <td>2200.0</td>\n",
       "      <td>1.520531e+07</td>\n",
       "      <td>0.007813</td>\n",
       "      <td>微</td>\n",
       "    </tr>\n",
       "  </tbody>\n",
       "</table>\n",
       "</div>"
      ],
      "text/plain": [
       "  city     type                                           geometry  \\\n",
       "0   十堰  Polygon  POLYGON ((111.57467 32.59737, 111.57724 32.598...   \n",
       "\n",
       "              面积         lon        lat 区域类型    id      制式  distance  \\\n",
       "0  118802.970802  111.577452  32.595834   农村  kd_1  FDD900    2200.0   \n",
       "\n",
       "           标准面积    空洞面积比例 空洞级别  \n",
       "0  1.520531e+07  0.007813    微  "
      ]
     },
     "execution_count": 8,
     "metadata": {},
     "output_type": "execute_result"
    }
   ],
   "source": [
    "data.head(1)"
   ]
  },
  {
   "cell_type": "code",
   "execution_count": 9,
   "metadata": {
    "ExecuteTime": {
     "end_time": "2020-07-30T01:22:27.001157Z",
     "start_time": "2020-07-30T01:22:26.984154Z"
    }
   },
   "outputs": [],
   "source": [
    "data_use = data[['id','geometry']].merge(use,left_on='id',right_on='空洞标识')"
   ]
  },
  {
   "cell_type": "code",
   "execution_count": 10,
   "metadata": {
    "ExecuteTime": {
     "end_time": "2020-07-30T01:22:27.603233Z",
     "start_time": "2020-07-30T01:22:27.598232Z"
    }
   },
   "outputs": [
    {
     "data": {
      "text/plain": [
       "(778, 13)"
      ]
     },
     "execution_count": 10,
     "metadata": {},
     "output_type": "execute_result"
    }
   ],
   "source": [
    "data_use.shape"
   ]
  },
  {
   "cell_type": "code",
   "execution_count": 11,
   "metadata": {
    "ExecuteTime": {
     "end_time": "2020-07-30T01:22:28.244314Z",
     "start_time": "2020-07-30T01:22:28.239314Z"
    }
   },
   "outputs": [
    {
     "data": {
      "text/plain": [
       "Index(['id', 'geometry', '索引', '空洞标识', '空洞面积', '标准面积', '空洞面积/标准基站面积', '  场景',\n",
       "       '空洞级别', '地市', '区县', '空洞面积/标准基站面积*空洞权重', '实施方案（规划补点方案后续组织测试衔接确认）'],\n",
       "      dtype='object')"
      ]
     },
     "execution_count": 11,
     "metadata": {},
     "output_type": "execute_result"
    }
   ],
   "source": [
    "data_use.columns"
   ]
  },
  {
   "cell_type": "code",
   "execution_count": 12,
   "metadata": {
    "ExecuteTime": {
     "end_time": "2020-07-30T01:22:29.118425Z",
     "start_time": "2020-07-30T01:22:28.852392Z"
    }
   },
   "outputs": [],
   "source": [
    "data_use[['lon','lat']] = data_use.apply(lambda x:pd.Series(x['geometry'].centroid.coords[:][0]),axis=1)#"
   ]
  },
  {
   "cell_type": "code",
   "execution_count": 4,
   "metadata": {
    "ExecuteTime": {
     "end_time": "2020-08-04T11:35:43.828608Z",
     "start_time": "2020-08-04T11:35:43.818607Z"
    }
   },
   "outputs": [
    {
     "data": {
      "text/plain": [
       "Index(['city', 'type', 'geometry', '面积', 'lon', 'lat', '区域类型', 'id', '制式',\n",
       "       'distance', '标准面积', '空洞面积比例', '空洞级别'],\n",
       "      dtype='object')"
      ]
     },
     "execution_count": 4,
     "metadata": {},
     "output_type": "execute_result"
    }
   ],
   "source": [
    "data.columns"
   ]
  },
  {
   "cell_type": "code",
   "execution_count": 14,
   "metadata": {
    "ExecuteTime": {
     "end_time": "2020-07-30T01:22:45.323483Z",
     "start_time": "2020-07-30T01:22:45.315982Z"
    }
   },
   "outputs": [],
   "source": [
    "use_columns=['id', 'geometry', '索引', '空洞标识', '空洞面积', '标准面积', '空洞面积/标准基站面积', '  场景',\n",
    "       '空洞级别', '地市', '区县', '空洞面积/标准基站面积*空洞权重', 'lon',\n",
    "       'lat']"
   ]
  },
  {
   "cell_type": "code",
   "execution_count": 5,
   "metadata": {
    "ExecuteTime": {
     "end_time": "2020-08-04T11:36:28.537286Z",
     "start_time": "2020-08-04T11:36:28.533785Z"
    }
   },
   "outputs": [],
   "source": [
    "use_columns =['city', 'type', 'geometry', '面积', 'lon', 'lat', '区域类型', 'id', '制式',\n",
    "       'distance', '标准面积', '空洞面积比例', '空洞级别']"
   ]
  },
  {
   "cell_type": "code",
   "execution_count": 6,
   "metadata": {
    "ExecuteTime": {
     "end_time": "2020-08-04T11:36:37.678447Z",
     "start_time": "2020-08-04T11:36:37.666945Z"
    }
   },
   "outputs": [],
   "source": [
    "data_use = data[use_columns]"
   ]
  },
  {
   "cell_type": "markdown",
   "metadata": {},
   "source": [
    "# 设置变量"
   ]
  },
  {
   "cell_type": "code",
   "execution_count": 7,
   "metadata": {
    "ExecuteTime": {
     "end_time": "2020-08-04T11:36:48.945377Z",
     "start_time": "2020-08-04T11:36:48.942377Z"
    }
   },
   "outputs": [],
   "source": [
    "#- 变量 - 设置经纬度和参与循环的字段\n",
    "lon,lat,use_id,city = ['lon','lat','id','city']"
   ]
  },
  {
   "cell_type": "code",
   "execution_count": 8,
   "metadata": {
    "ExecuteTime": {
     "end_time": "2020-08-04T11:36:50.973135Z",
     "start_time": "2020-08-04T11:36:50.969634Z"
    }
   },
   "outputs": [],
   "source": [
    "#- 颜色 - 按照字符设置颜色\n",
    "colour_data = '空洞级别'\n",
    "colour_dic = {'大':'red','中':'yellow','小':'blue','微':'green','other':'white'}"
   ]
  },
  {
   "cell_type": "code",
   "execution_count": 9,
   "metadata": {
    "ExecuteTime": {
     "end_time": "2020-08-04T11:36:52.757861Z",
     "start_time": "2020-08-04T11:36:52.754861Z"
    }
   },
   "outputs": [],
   "source": [
    "#- 标注 -添加标注列\n",
    "de_col = use_columns\n",
    "de_col.remove('geometry')"
   ]
  },
  {
   "cell_type": "code",
   "execution_count": 10,
   "metadata": {
    "ExecuteTime": {
     "end_time": "2020-08-04T11:36:54.307058Z",
     "start_time": "2020-08-04T11:36:54.304058Z"
    }
   },
   "outputs": [],
   "source": [
    "#- 视野 - 在1400*900的分辨率下  view = 70米对应：125公里（差不多能看到武汉主城区）  700对应1200公里（差不多能看到湖北省）\n",
    "view = 50000"
   ]
  },
  {
   "cell_type": "markdown",
   "metadata": {},
   "source": [
    "# 整理数据"
   ]
  },
  {
   "cell_type": "code",
   "execution_count": 11,
   "metadata": {
    "ExecuteTime": {
     "end_time": "2020-08-04T11:36:58.194052Z",
     "start_time": "2020-08-04T11:36:58.174049Z"
    }
   },
   "outputs": [
    {
     "data": {
      "text/html": [
       "<div>\n",
       "<style scoped>\n",
       "    .dataframe tbody tr th:only-of-type {\n",
       "        vertical-align: middle;\n",
       "    }\n",
       "\n",
       "    .dataframe tbody tr th {\n",
       "        vertical-align: top;\n",
       "    }\n",
       "\n",
       "    .dataframe thead th {\n",
       "        text-align: right;\n",
       "    }\n",
       "</style>\n",
       "<table border=\"1\" class=\"dataframe\">\n",
       "  <thead>\n",
       "    <tr style=\"text-align: right;\">\n",
       "      <th></th>\n",
       "      <th>city</th>\n",
       "      <th>type</th>\n",
       "      <th>geometry</th>\n",
       "      <th>面积</th>\n",
       "      <th>lon</th>\n",
       "      <th>lat</th>\n",
       "      <th>区域类型</th>\n",
       "      <th>id</th>\n",
       "      <th>制式</th>\n",
       "      <th>distance</th>\n",
       "      <th>标准面积</th>\n",
       "      <th>空洞面积比例</th>\n",
       "      <th>空洞级别</th>\n",
       "    </tr>\n",
       "  </thead>\n",
       "  <tbody>\n",
       "    <tr>\n",
       "      <th>0</th>\n",
       "      <td>十堰</td>\n",
       "      <td>Polygon</td>\n",
       "      <td>POLYGON ((111.57467 32.59737, 111.57724 32.598...</td>\n",
       "      <td>118802.970802</td>\n",
       "      <td>111.577452</td>\n",
       "      <td>32.595834</td>\n",
       "      <td>农村</td>\n",
       "      <td>kd_1</td>\n",
       "      <td>FDD900</td>\n",
       "      <td>2200.0</td>\n",
       "      <td>1.520531e+07</td>\n",
       "      <td>0.007813</td>\n",
       "      <td>微</td>\n",
       "    </tr>\n",
       "  </tbody>\n",
       "</table>\n",
       "</div>"
      ],
      "text/plain": [
       "  city     type                                           geometry  \\\n",
       "0   十堰  Polygon  POLYGON ((111.57467 32.59737, 111.57724 32.598...   \n",
       "\n",
       "              面积         lon        lat 区域类型    id      制式  distance  \\\n",
       "0  118802.970802  111.577452  32.595834   农村  kd_1  FDD900    2200.0   \n",
       "\n",
       "           标准面积    空洞面积比例 空洞级别  \n",
       "0  1.520531e+07  0.007813    微  "
      ]
     },
     "execution_count": 11,
     "metadata": {},
     "output_type": "execute_result"
    }
   ],
   "source": [
    "data_use.head(1)"
   ]
  },
  {
   "cell_type": "code",
   "execution_count": 12,
   "metadata": {
    "ExecuteTime": {
     "end_time": "2020-08-04T11:37:04.287325Z",
     "start_time": "2020-08-04T11:37:03.937281Z"
    }
   },
   "outputs": [],
   "source": [
    "#添加标注列\n",
    "data_use['description']=''\n",
    "for inde_1, name_1 in enumerate(de_col):\n",
    "    data_use['linshi']=de_col[inde_1]+' : '+data_use[de_col[inde_1]].astype('str')+'\\n'\n",
    "    data_use['description'] = data_use['description']+data_use['linshi']\n",
    "    data_use.drop(columns='linshi')"
   ]
  },
  {
   "cell_type": "code",
   "execution_count": 14,
   "metadata": {
    "ExecuteTime": {
     "end_time": "2020-08-04T11:37:18.367613Z",
     "start_time": "2020-08-04T11:37:18.240097Z"
    }
   },
   "outputs": [],
   "source": [
    "data_sectors= data_use.copy()\n",
    "#添加lod的polygon\n",
    "data_sectors['lod_dis']= view\n",
    "data_sectors['lon1'] = data_sectors[lon] + data_sectors['lod_dis']*np.sin(45* np.pi/180)*180/( np.pi * 6371229 * np.cos(data_sectors[lat] * np.pi/180))\n",
    "data_sectors['lat1'] = data_sectors[lat] + data_sectors['lod_dis']*np.cos(45* np.pi/180) / ( np.pi * 6371229 / 180)\n",
    "data_sectors['lon2'] = data_sectors[lon] + data_sectors['lod_dis']*np.sin(225* np.pi/180)*180/( np.pi * 6371229 * np.cos(data_sectors[lat] * np.pi/180))\n",
    "data_sectors['lat2'] = data_sectors[lat] + data_sectors['lod_dis']*np.cos(225* np.pi/180) / ( np.pi * 6371229 / 180)\n",
    "data_sectors['list_data']=[([lon_1, lat_1,lon_2, lat_2]) \n",
    " for lon_1, lat_1,lon_2, lat_2 in zip(data_sectors['lon1'],data_sectors['lat1'],data_sectors['lon2'],data_sectors['lat2'])]"
   ]
  },
  {
   "cell_type": "code",
   "execution_count": 15,
   "metadata": {
    "ExecuteTime": {
     "end_time": "2020-08-04T11:37:18.691655Z",
     "start_time": "2020-08-04T11:37:18.689154Z"
    }
   },
   "outputs": [],
   "source": [
    "# df = data_sectors.copy()\n",
    "# #添加颜色列-数字\n",
    "# df = data_sectors.copy()\n",
    "# df['colour']=1\n",
    "# df['colour'] = pd.cut(df['colour'],bins=[-0.1, 0.7, 0.936, 1.1],labels =['red', 'yellow', 'green'])\n",
    "# df['colour'] = df['colour'].astype('object')\n",
    "# # df.loc[df[rsrp_count]<100,'colour']='white'"
   ]
  },
  {
   "cell_type": "code",
   "execution_count": 16,
   "metadata": {
    "ExecuteTime": {
     "end_time": "2020-08-04T11:37:19.098206Z",
     "start_time": "2020-08-04T11:37:19.058701Z"
    }
   },
   "outputs": [],
   "source": [
    "df = data_sectors.copy()\n",
    "#添加颜色列-文字\n",
    "df['colour']='white'\n",
    "for name_col in colour_dic:\n",
    "    df.loc[df[colour_data]==name_col,'colour'] =colour_dic[name_col]"
   ]
  },
  {
   "cell_type": "code",
   "execution_count": 17,
   "metadata": {
    "ExecuteTime": {
     "end_time": "2020-08-04T11:37:21.101461Z",
     "start_time": "2020-08-04T11:37:21.094460Z"
    }
   },
   "outputs": [],
   "source": [
    "#最终使用的列\n",
    "df_use = df.reindex(columns=[city,use_id,colour_data, 'list_data','colour','description','geometry'])   "
   ]
  },
  {
   "cell_type": "markdown",
   "metadata": {},
   "source": [
    "# 生成图层"
   ]
  },
  {
   "cell_type": "code",
   "execution_count": 18,
   "metadata": {
    "ExecuteTime": {
     "end_time": "2020-08-04T11:37:39.581807Z",
     "start_time": "2020-08-04T11:37:39.570306Z"
    }
   },
   "outputs": [],
   "source": [
    "def make_kml(data_t,name='红色栅格',cc='ff0000ff',xiankuan=0,namea='grid_id',list_data = 'list_data',description='description',minlodpixels=1):\n",
    "    print(data_t.shape,cc,xiankuan,namea,list_data,description,minlodpixels)\n",
    "    style = simplekml.Style()\n",
    "    style.linestyle.color = simplekml.Color.changealphaint(250, cc)  # 最终线条上色\n",
    "    style.polystyle.outline = xiankuan\n",
    "    style.polystyle.color = simplekml.Color.changealphaint(250, cc )  # 最终形状上色\n",
    "    lod1 = simplekml.Lod(minlodpixels=minlodpixels, maxlodpixels=-1,minfadeextent=None, maxfadeextent=None)\n",
    "    grid_red = kml.newfolder(name=name)\n",
    "    for grid,list_data ,description_str,geo in zip(data_t[namea],data_t[list_data],data_t[description],data_t['geometry']):\n",
    "#         pol_r = grid_red.newpolygon(name=grid,outerboundaryis=list_data[0])#栅格使用\n",
    "        pol_r = grid_red.newpolygon(name=grid,outerboundaryis=list(geo.exterior.coords),innerboundaryis=[po.coords for po in list(geo.interiors)])\n",
    "        pol_r.description = description_str\n",
    "        pol_r.altitudemode = simplekml.AltitudeMode.clamptoground\n",
    "        lon_dd,lat_dd,lon1_dd,lat1_dd = list_data\n",
    "        latlonaltbox = simplekml.LatLonAltBox(east =lon_dd ,north=lat_dd ,south=lat1_dd ,west=lon1_dd,\n",
    "                                              minaltitude=None, maxaltitude=None, altitudemode=None)\n",
    "        pol_r.region.latlonaltbox = latlonaltbox\n",
    "        pol_r.region.lod = lod1\n",
    "        pol_r.style=style"
   ]
  },
  {
   "cell_type": "code",
   "execution_count": 19,
   "metadata": {
    "ExecuteTime": {
     "end_time": "2020-08-04T11:37:40.225889Z",
     "start_time": "2020-08-04T11:37:40.223389Z"
    }
   },
   "outputs": [],
   "source": [
    "#如果是多个文件就使用这个，一个文件不用\n",
    "# f = mytools.othern.file_name_paths('G:/1-规划/评估/覆盖空洞/2020年6月/2-程序输出/修正覆盖半径/各个地市覆盖图层/')"
   ]
  },
  {
   "cell_type": "code",
   "execution_count": 20,
   "metadata": {
    "ExecuteTime": {
     "end_time": "2020-08-04T11:37:51.627337Z",
     "start_time": "2020-08-04T11:37:41.059495Z"
    }
   },
   "outputs": [
    {
     "name": "stdout",
     "output_type": "stream",
     "text": [
      "e:/关键栅格的空洞_中_735.kmz开始\n",
      "(735, 7) ff00ffff 1 id list_data description 50\n",
      "生成图层成功存放在e:/关键栅格的空洞_中_735.kmz\n",
      "e:/关键栅格的空洞_大_554.kmz开始\n",
      "(554, 7) ff0000ff 1 id list_data description 50\n",
      "生成图层成功存放在e:/关键栅格的空洞_大_554.kmz\n",
      "e:/关键栅格的空洞_小_762.kmz开始\n",
      "(762, 7) ffff0000 1 id list_data description 50\n",
      "生成图层成功存放在e:/关键栅格的空洞_小_762.kmz\n",
      "e:/关键栅格的空洞_微_17430.kmz开始\n",
      "(17430, 7) ff008000 1 id list_data description 50\n",
      "生成图层成功存放在e:/关键栅格的空洞_微_17430.kmz\n"
     ]
    }
   ],
   "source": [
    "# for name_f in f:#如果是多个文件就使用这个，一个文件不用\n",
    "#     grid_t = pd.read_pickle(name_f)\n",
    "#     grid_groupby = grid_t.groupby(['所属地区'])\n",
    "\n",
    "for name_region,data_region in df_use.groupby(colour_data):\n",
    "    kml = simplekml.Kml()\n",
    "#         if not os.path.exists('G:/1-规划/评估/覆盖空洞/2020年6月/2-程序输出/修正覆盖半径/各个地市覆盖图层/{}'.format(name_region)):\n",
    "#             os.makedirs('G:/1-规划/评估/覆盖空洞/2020年6月/2-程序输出/修正覆盖半径/各个地市覆盖图层/{}'.format(name_region))\n",
    "    file = '{}关键栅格的空洞_{}_{}.kmz'.format(out_file,name_region,data_region.shape[0])\n",
    "    print('{}开始'.format(file))\n",
    "    for name_c,data_t in data_region.groupby('colour'):#red:ff0000ff,green:ff008000,yellow:ff00ffff,white:ffffffff,bule:ffff0000\n",
    "        if 'red' ==name_c:\n",
    "            make_kml(data_t,name='红色{}个'.format(data_t.shape[0]),cc='ff0000ff',namea=use_id,minlodpixels=50,xiankuan=1)\n",
    "        elif 'blue' == name_c:\n",
    "            make_kml(data_t,name='蓝色{}个'.format(data_t.shape[0]),cc='ffff0000',namea=use_id,minlodpixels=50,xiankuan=1)\n",
    "        elif 'yellow' == name_c:\n",
    "            make_kml(data_t,name='黄色{}个'.format(data_t.shape[0]),cc='ff00ffff',namea=use_id,minlodpixels=50,xiankuan=1)\n",
    "        elif 'white' == name_c:\n",
    "            make_kml(data_t,name='白色{}个'.format(data_t.shape[0]),cc='ffffffff',namea=use_id,minlodpixels=50,xiankuan=1)\n",
    "        elif 'green'  == name_c:\n",
    "            make_kml(data_t,name='绿色{}个'.format(data_t.shape[0]),cc='ff008000',namea=use_id,minlodpixels=50,xiankuan=1)\n",
    "        kml.save(file) if 'kml' in file else kml.savekmz(file, False)\n",
    "    print('生成图层成功存放在{}'.format(file))"
   ]
  },
  {
   "cell_type": "code",
   "execution_count": 21,
   "metadata": {
    "ExecuteTime": {
     "end_time": "2020-08-04T11:37:54.687225Z",
     "start_time": "2020-08-04T11:37:52.155404Z"
    }
   },
   "outputs": [
    {
     "name": "stdout",
     "output_type": "stream",
     "text": [
      "自爆\n"
     ]
    },
    {
     "ename": "AssertionError",
     "evalue": "",
     "output_type": "error",
     "traceback": [
      "\u001b[1;31m---------------------------------------------------------------------------\u001b[0m",
      "\u001b[1;31mAssertionError\u001b[0m                            Traceback (most recent call last)",
      "\u001b[1;32m<ipython-input-21-5289fd30c2ff>\u001b[0m in \u001b[0;36m<module>\u001b[1;34m\u001b[0m\n\u001b[0;32m      1\u001b[0m \u001b[0mmytools\u001b[0m\u001b[1;33m.\u001b[0m\u001b[0msound\u001b[0m\u001b[1;33m(\u001b[0m\u001b[1;33m)\u001b[0m\u001b[1;33m\u001b[0m\u001b[1;33m\u001b[0m\u001b[0m\n\u001b[0;32m      2\u001b[0m \u001b[0mprint\u001b[0m\u001b[1;33m(\u001b[0m\u001b[1;34m'自爆'\u001b[0m\u001b[1;33m)\u001b[0m\u001b[1;33m\u001b[0m\u001b[1;33m\u001b[0m\u001b[0m\n\u001b[1;32m----> 3\u001b[1;33m \u001b[1;32massert\u001b[0m \u001b[1;36m0\u001b[0m\u001b[1;33m\u001b[0m\u001b[1;33m\u001b[0m\u001b[0m\n\u001b[0m",
      "\u001b[1;31mAssertionError\u001b[0m: "
     ]
    }
   ],
   "source": [
    "mytools.sound()\n",
    "print('自爆')\n",
    "assert 0 "
   ]
  },
  {
   "cell_type": "code",
   "execution_count": null,
   "metadata": {
    "ExecuteTime": {
     "end_time": "2020-07-14T13:46:43.579207Z",
     "start_time": "2020-07-14T13:46:43.575706Z"
    }
   },
   "outputs": [],
   "source": []
  },
  {
   "cell_type": "markdown",
   "metadata": {},
   "source": [
    "# ----------------------------------其他制作------------------------------------"
   ]
  },
  {
   "cell_type": "markdown",
   "metadata": {},
   "source": [
    "# 导入数据和导出目录"
   ]
  },
  {
   "cell_type": "code",
   "execution_count": null,
   "metadata": {
    "ExecuteTime": {
     "end_time": "2020-07-15T02:22:24.665796Z",
     "start_time": "2020-07-15T02:22:24.662796Z"
    }
   },
   "outputs": [],
   "source": [
    "out_file = 'G:/1-规划/评估/覆盖空洞/20200712第四版本/2-程序数据出-过程/3-小区覆盖区域/'"
   ]
  },
  {
   "cell_type": "code",
   "execution_count": null,
   "metadata": {
    "ExecuteTime": {
     "end_time": "2020-07-15T02:22:29.829452Z",
     "start_time": "2020-07-15T02:22:29.785947Z"
    }
   },
   "outputs": [],
   "source": [
    "data = pd.read_pickle('G:/1-规划/评估/覆盖空洞/20200712第四版本/2-程序数据出-过程/3-小区覆盖区域/农村和非农村合并全网覆盖图层按照地市合并.data')"
   ]
  },
  {
   "cell_type": "code",
   "execution_count": null,
   "metadata": {
    "ExecuteTime": {
     "end_time": "2020-07-15T02:22:34.915598Z",
     "start_time": "2020-07-15T02:22:34.910597Z"
    }
   },
   "outputs": [],
   "source": [
    "data."
   ]
  },
  {
   "cell_type": "code",
   "execution_count": null,
   "metadata": {
    "ExecuteTime": {
     "end_time": "2020-07-15T02:07:09.117037Z",
     "start_time": "2020-07-15T02:07:09.112036Z"
    }
   },
   "outputs": [],
   "source": [
    "data = data.reset_index()"
   ]
  },
  {
   "cell_type": "code",
   "execution_count": null,
   "metadata": {
    "ExecuteTime": {
     "end_time": "2020-07-15T02:07:15.271818Z",
     "start_time": "2020-07-15T02:07:15.266317Z"
    }
   },
   "outputs": [],
   "source": [
    "data['type'] = data.type"
   ]
  },
  {
   "cell_type": "code",
   "execution_count": null,
   "metadata": {
    "ExecuteTime": {
     "end_time": "2020-07-15T02:07:21.440601Z",
     "start_time": "2020-07-15T02:07:21.403097Z"
    }
   },
   "outputs": [],
   "source": [
    "#多边形的质心\n",
    "data[['lon','lat']] = data.apply(lambda x:pd.Series(x['geometry'].centroid.coords[:][0]),axis=1)#"
   ]
  },
  {
   "cell_type": "code",
   "execution_count": null,
   "metadata": {
    "ExecuteTime": {
     "end_time": "2020-07-15T02:07:27.901422Z",
     "start_time": "2020-07-15T02:07:27.575880Z"
    }
   },
   "outputs": [],
   "source": [
    "data.head(1)"
   ]
  },
  {
   "cell_type": "code",
   "execution_count": null,
   "metadata": {
    "ExecuteTime": {
     "end_time": "2020-07-15T02:07:34.072205Z",
     "start_time": "2020-07-15T02:07:34.066705Z"
    }
   },
   "outputs": [],
   "source": [
    "data_use = data[['geometry', 'type', 'city', 'lon', 'lat']]"
   ]
  },
  {
   "cell_type": "markdown",
   "metadata": {},
   "source": [
    "# 设置变量"
   ]
  },
  {
   "cell_type": "code",
   "execution_count": null,
   "metadata": {
    "ExecuteTime": {
     "end_time": "2020-07-15T02:07:53.089620Z",
     "start_time": "2020-07-15T02:07:53.086620Z"
    }
   },
   "outputs": [],
   "source": [
    "#- 变量 - 设置经纬度和参与循环的字段\n",
    "lon,lat,use_id,city = ['lon','lat','city','city']"
   ]
  },
  {
   "cell_type": "code",
   "execution_count": null,
   "metadata": {
    "ExecuteTime": {
     "end_time": "2020-07-15T02:02:59.303314Z",
     "start_time": "2020-07-15T02:02:59.299314Z"
    }
   },
   "outputs": [],
   "source": [
    "#- 颜色 - 按照字符设置颜色\n",
    "colour_data = 'city'\n",
    "colour_dic = {'大':'red','中':'yellow','小':'blue','微':'green','other':'white'}"
   ]
  },
  {
   "cell_type": "code",
   "execution_count": null,
   "metadata": {
    "ExecuteTime": {
     "end_time": "2020-07-15T02:08:09.168662Z",
     "start_time": "2020-07-15T02:08:09.166162Z"
    }
   },
   "outputs": [],
   "source": [
    "#- 标注 -添加标注列\n",
    "de_col = ['lon','lat','city']"
   ]
  },
  {
   "cell_type": "code",
   "execution_count": null,
   "metadata": {
    "ExecuteTime": {
     "end_time": "2020-07-15T02:08:42.655914Z",
     "start_time": "2020-07-15T02:08:42.653414Z"
    }
   },
   "outputs": [],
   "source": [
    "#- 视野 - 在1400*900的分辨率下  view = 70米对应：125公里（差不多能看到武汉主城区）  700对应1200公里（差不多能看到湖北省）\n",
    "view = 50000"
   ]
  },
  {
   "cell_type": "markdown",
   "metadata": {},
   "source": [
    "# 整理数据"
   ]
  },
  {
   "cell_type": "code",
   "execution_count": null,
   "metadata": {
    "ExecuteTime": {
     "end_time": "2020-07-15T02:08:48.839200Z",
     "start_time": "2020-07-15T02:08:48.826198Z"
    }
   },
   "outputs": [],
   "source": [
    "#添加标注列\n",
    "data_use['description']=''\n",
    "for inde_1, name_1 in enumerate(de_col):\n",
    "    data_use['linshi']=de_col[inde_1]+' : '+data_use[de_col[inde_1]].astype('str')+'\\n'\n",
    "    data_use['description'] = data_use['description']+data_use['linshi']\n",
    "    data_use.drop(columns='linshi')"
   ]
  },
  {
   "cell_type": "code",
   "execution_count": null,
   "metadata": {
    "ExecuteTime": {
     "end_time": "2020-07-15T02:08:55.028986Z",
     "start_time": "2020-07-15T02:08:55.011483Z"
    }
   },
   "outputs": [],
   "source": [
    "data_sectors= data_use.copy()\n",
    "#添加lod的polygon\n",
    "data_sectors['lod_dis']= view\n",
    "data_sectors['lon1'] = data_sectors[lon] + data_sectors['lod_dis']*np.sin(45* np.pi/180)*180/( np.pi * 6371229 * np.cos(data_sectors[lat] * np.pi/180))\n",
    "data_sectors['lat1'] = data_sectors[lat] + data_sectors['lod_dis']*np.cos(45* np.pi/180) / ( np.pi * 6371229 / 180)\n",
    "data_sectors['lon2'] = data_sectors[lon] + data_sectors['lod_dis']*np.sin(225* np.pi/180)*180/( np.pi * 6371229 * np.cos(data_sectors[lat] * np.pi/180))\n",
    "data_sectors['lat2'] = data_sectors[lat] + data_sectors['lod_dis']*np.cos(225* np.pi/180) / ( np.pi * 6371229 / 180)\n",
    "data_sectors['list_data']=[([lon_1, lat_1,lon_2, lat_2]) \n",
    " for lon_1, lat_1,lon_2, lat_2 in zip(data_sectors['lon1'],data_sectors['lat1'],data_sectors['lon2'],data_sectors['lat2'])]"
   ]
  },
  {
   "cell_type": "code",
   "execution_count": null,
   "metadata": {
    "ExecuteTime": {
     "end_time": "2020-07-15T02:03:30.166233Z",
     "start_time": "2020-07-15T02:03:30.162733Z"
    }
   },
   "outputs": [],
   "source": [
    "# df = data_sectors.copy()\n",
    "# #添加颜色列-数字\n",
    "# df = data_sectors.copy()\n",
    "# df['colour']=1\n",
    "# df['colour'] = pd.cut(df['colour'],bins=[-0.1, 0.7, 0.936, 1.1],labels =['red', 'yellow', 'green'])\n",
    "# df['colour'] = df['colour'].astype('object')\n",
    "# # df.loc[df[rsrp_count]<100,'colour']='white'"
   ]
  },
  {
   "cell_type": "code",
   "execution_count": null,
   "metadata": {
    "ExecuteTime": {
     "end_time": "2020-07-15T02:09:01.181267Z",
     "start_time": "2020-07-15T02:09:01.175266Z"
    }
   },
   "outputs": [],
   "source": [
    "df = data_sectors.copy()\n",
    "#添加颜色列-文字\n",
    "df['colour']='white'\n",
    "# for name_col in colour_dic:\n",
    "#     df.loc[df[colour_data]==name_col,'colour'] =colour_dic[name_col]"
   ]
  },
  {
   "cell_type": "code",
   "execution_count": null,
   "metadata": {
    "ExecuteTime": {
     "end_time": "2020-07-15T02:09:07.317046Z",
     "start_time": "2020-07-15T02:09:07.312045Z"
    }
   },
   "outputs": [],
   "source": [
    "#最终使用的列\n",
    "df_use = df.reindex(columns=[city, 'list_data','colour','description','geometry'])   "
   ]
  },
  {
   "cell_type": "code",
   "execution_count": null,
   "metadata": {
    "ExecuteTime": {
     "end_time": "2020-07-15T02:18:10.690546Z",
     "start_time": "2020-07-15T02:18:10.671043Z"
    }
   },
   "outputs": [],
   "source": [
    "df_use = df_use.explode().reset_index(drop=True)"
   ]
  },
  {
   "cell_type": "code",
   "execution_count": null,
   "metadata": {
    "ExecuteTime": {
     "end_time": "2020-07-15T02:31:54.474153Z",
     "start_time": "2020-07-15T02:31:54.468652Z"
    }
   },
   "outputs": [],
   "source": [
    "df_use['type'] = df_use.type"
   ]
  },
  {
   "cell_type": "code",
   "execution_count": null,
   "metadata": {
    "ExecuteTime": {
     "end_time": "2020-07-15T02:33:07.976487Z",
     "start_time": "2020-07-15T02:33:07.971986Z"
    }
   },
   "outputs": [],
   "source": [
    "a = df_use.head(1)['geometry'][0]"
   ]
  },
  {
   "cell_type": "code",
   "execution_count": null,
   "metadata": {
    "ExecuteTime": {
     "end_time": "2020-07-15T02:34:01.197745Z",
     "start_time": "2020-07-15T02:34:01.193744Z"
    }
   },
   "outputs": [],
   "source": [
    "aa = data.reset_index()"
   ]
  },
  {
   "cell_type": "code",
   "execution_count": null,
   "metadata": {
    "ExecuteTime": {
     "end_time": "2020-07-15T02:34:24.849248Z",
     "start_time": "2020-07-15T02:34:24.845248Z"
    }
   },
   "outputs": [],
   "source": [
    "b = aa['geometry'][0]"
   ]
  },
  {
   "cell_type": "code",
   "execution_count": null,
   "metadata": {
    "ExecuteTime": {
     "end_time": "2020-07-15T02:36:53.382609Z",
     "start_time": "2020-07-15T02:36:53.373108Z"
    }
   },
   "outputs": [],
   "source": [
    "b.envelope()"
   ]
  },
  {
   "cell_type": "code",
   "execution_count": null,
   "metadata": {
    "ExecuteTime": {
     "end_time": "2020-07-15T02:35:09.136872Z",
     "start_time": "2020-07-15T02:35:09.132871Z"
    }
   },
   "outputs": [],
   "source": [
    "for po in b.e:\n",
    "    po.interiors ==True"
   ]
  },
  {
   "cell_type": "code",
   "execution_count": null,
   "metadata": {
    "ExecuteTime": {
     "end_time": "2020-07-15T02:33:26.848383Z",
     "start_time": "2020-07-15T02:33:26.843882Z"
    }
   },
   "outputs": [],
   "source": [
    "a.interiors ==True"
   ]
  },
  {
   "cell_type": "code",
   "execution_count": null,
   "metadata": {},
   "outputs": [],
   "source": []
  },
  {
   "cell_type": "markdown",
   "metadata": {},
   "source": [
    "# 生成图层"
   ]
  },
  {
   "cell_type": "code",
   "execution_count": null,
   "metadata": {
    "ExecuteTime": {
     "end_time": "2020-07-15T02:18:16.013722Z",
     "start_time": "2020-07-15T02:18:16.001720Z"
    }
   },
   "outputs": [],
   "source": [
    "def make_kml(data_t,name='红色栅格',cc='ff0000ff',xiankuan=0,namea='grid_id',list_data = 'list_data',description='description',minlodpixels=1):\n",
    "    print(data_t.shape,cc,xiankuan,namea,list_data,description,minlodpixels)\n",
    "    style = simplekml.Style()\n",
    "    style.linestyle.color = simplekml.Color.changealphaint(220, cc)  # 最终线条上色\n",
    "    style.polystyle.outline = xiankuan\n",
    "    style.polystyle.color = simplekml.Color.changealphaint(125, cc )  # 最终形状上色\n",
    "    lod1 = simplekml.Lod(minlodpixels=minlodpixels, maxlodpixels=-1,minfadeextent=None, maxfadeextent=None)\n",
    "    grid_red = kml.newfolder(name=name)\n",
    "    for grid,list_data ,description_str,geo in zip(data_t[namea],data_t[list_data],data_t[description],data_t['geometry']):\n",
    "#         pol_r = grid_red.newpolygon(name=grid,outerboundaryis=list_data[0])#栅格使用\n",
    "        pol_r = grid_red.newmultigeometry(name=grid)\n",
    "        pol_r.newpolygon(outerboundaryis=list(geo.exterior.coords),innerboundaryis=[po.coords for po in list(geo.interiors)])\n",
    "        pol_r.description = description_str\n",
    "        pol_r.altitudemode = simplekml.AltitudeMode.clamptoground\n",
    "        lon_dd,lat_dd,lon1_dd,lat1_dd = list_data\n",
    "        latlonaltbox = simplekml.LatLonAltBox(east =lon_dd ,north=lat_dd ,south=lat1_dd ,west=lon1_dd,\n",
    "                                              minaltitude=None, maxaltitude=None, altitudemode=None)\n",
    "        pol_r.region.latlonaltbox = latlonaltbox\n",
    "        pol_r.region.lod = lod1\n",
    "        pol_r.style=style"
   ]
  },
  {
   "cell_type": "code",
   "execution_count": null,
   "metadata": {
    "ExecuteTime": {
     "end_time": "2020-07-15T02:18:28.008745Z",
     "start_time": "2020-07-15T02:18:21.293392Z"
    }
   },
   "outputs": [],
   "source": [
    "for name_region,data_region in df_use.groupby(city):\n",
    "    kml = simplekml.Kml()\n",
    "    file = '{}覆盖区域_{}_{}.kmz'.format(out_file,name_region,data_region.shape[0])\n",
    "    for name_c,data_t in data_region.groupby('colour'):#red:ff0000ff,green:ff008000,yellow:ff00ffff,white:ffffffff,bule:ffff0000\n",
    "        if 'red' ==name_c:\n",
    "            make_kml(data_t,name='红色{}个'.format(data_t.shape[0]),cc='ff0000ff',namea=use_id,minlodpixels=50,xiankuan=1)\n",
    "        elif 'blue' == name_c:\n",
    "            make_kml(data_t,name='蓝色{}个'.format(data_t.shape[0]),cc='ffff0000',namea=use_id,minlodpixels=50,xiankuan=1)\n",
    "        elif 'yellow' == name_c:\n",
    "            make_kml(data_t,name='黄色{}个'.format(data_t.shape[0]),cc='ff00ffff',namea=use_id,minlodpixels=50,xiankuan=1)\n",
    "        elif 'white' == name_c:\n",
    "            make_kml(data_t,name='白色{}个'.format(data_t.shape[0]),cc='ffffffff',namea=use_id,minlodpixels=50,xiankuan=1)\n",
    "        elif 'green'  == name_c:\n",
    "            make_kml(data_t,name='绿色{}个'.format(data_t.shape[0]),cc='ff008000',namea=use_id,minlodpixels=50,xiankuan=1)\n",
    "        kml.save(file) if 'kml' in file else kml.savekmz(file, False)\n",
    "    print('生成图层成功存放在{}'.format(file))"
   ]
  },
  {
   "cell_type": "code",
   "execution_count": null,
   "metadata": {},
   "outputs": [],
   "source": []
  }
 ],
 "metadata": {
  "kernelspec": {
   "display_name": "Python 3",
   "language": "python",
   "name": "python3"
  },
  "language_info": {
   "codemirror_mode": {
    "name": "ipython",
    "version": 3
   },
   "file_extension": ".py",
   "mimetype": "text/x-python",
   "name": "python",
   "nbconvert_exporter": "python",
   "pygments_lexer": "ipython3",
   "version": "3.7.4"
  },
  "toc": {
   "base_numbering": 1,
   "nav_menu": {},
   "number_sections": true,
   "sideBar": true,
   "skip_h1_title": false,
   "title_cell": "Table of Contents",
   "title_sidebar": "Contents",
   "toc_cell": false,
   "toc_position": {},
   "toc_section_display": true,
   "toc_window_display": false
  },
  "varInspector": {
   "cols": {
    "lenName": 16,
    "lenType": 16,
    "lenVar": 40
   },
   "kernels_config": {
    "python": {
     "delete_cmd_postfix": "",
     "delete_cmd_prefix": "del ",
     "library": "var_list.py",
     "varRefreshCmd": "print(var_dic_list())"
    },
    "r": {
     "delete_cmd_postfix": ") ",
     "delete_cmd_prefix": "rm(",
     "library": "var_list.r",
     "varRefreshCmd": "cat(var_dic_list()) "
    }
   },
   "types_to_exclude": [
    "module",
    "function",
    "builtin_function_or_method",
    "instance",
    "_Feature"
   ],
   "window_display": false
  }
 },
 "nbformat": 4,
 "nbformat_minor": 2
}
