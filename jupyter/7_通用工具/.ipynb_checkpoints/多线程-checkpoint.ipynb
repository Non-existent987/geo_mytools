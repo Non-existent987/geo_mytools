{
 "cells": [
  {
   "cell_type": "code",
   "execution_count": null,
   "metadata": {
    "ExecuteTime": {
     "end_time": "2020-07-07T03:33:16.217582Z",
     "start_time": "2020-07-07T03:33:10.206319Z"
    }
   },
   "outputs": [],
   "source": [
    "# -*-coding:utf-8-*-\n",
    "from time import ctime, sleep\n",
    "import threading\n",
    "loops = [4, 2]\n",
    " \n",
    " \n",
    "def loop(nloop,nsec):\n",
    "    print('start loop', nloop, 'at :', ctime())\n",
    "    sleep(nsec)\n",
    "    print('done loop', nloop, 'at:', ctime())\n",
    " \n",
    " \n",
    "def main():\n",
    "    print('start at',ctime())\n",
    "    nloops = range(len(loops))\n",
    "    for i in nloops:\n",
    "        loop(i, loops[i])\n",
    " \n",
    "    print('DONE AT:', ctime())\n",
    "if __name__ == '__main__':\n",
    "    main()"
   ]
  },
  {
   "cell_type": "code",
   "execution_count": null,
   "metadata": {
    "ExecuteTime": {
     "end_time": "2020-07-07T03:34:23.430117Z",
     "start_time": "2020-07-07T03:34:23.373110Z"
    }
   },
   "outputs": [],
   "source": [
    "# -*-coding:utf-8-*-\n",
    "from time import ctime, sleep\n",
    "import threading\n",
    "loops = [4, 2]\n",
    " \n",
    " \n",
    "def loop(nloop,nsec):\n",
    "    print('start loop', nloop, 'at :', ctime())\n",
    "    sleep(nsec)\n",
    "    print('done loop', nloop, 'at:', ctime())\n",
    " \n",
    " \n",
    "def main():\n",
    "    print('start at',ctime())\n",
    "    threads = []\n",
    "    nloops = range(len(loops))\n",
    "    for i in nloops:\n",
    "        t = threading.Thread(target=loop,args=(i,loops[i]))\n",
    "        threads.append(t)\n",
    "    for i in nloops:   # start threads 此处并不会执行线程，而是将任务分发到每个线程，同步线程。等同步完成后再开始执行start方法\n",
    "        threads[i].start()\n",
    "    for i in nloops:   # jion()方法等待线程完成\n",
    "        threads[i].jion()\n",
    "    print('DONE AT:', ctime())\n",
    "if __name__ == '__main__':\n",
    "    main()"
   ]
  },
  {
   "cell_type": "code",
   "execution_count": null,
   "metadata": {
    "ExecuteTime": {
     "end_time": "2020-07-07T03:36:06.552212Z",
     "start_time": "2020-07-07T03:36:00.544949Z"
    }
   },
   "outputs": [],
   "source": [
    "import time\n",
    " \n",
    "def loop0():\n",
    "    print(\"start loop 0 at: %s\" % time.ctime())\n",
    "    time.sleep(4)\n",
    "    print(\"loop 0 done at: %s\" % time.ctime())\n",
    " \n",
    " \n",
    "def loop1():\n",
    "    print(\"start loop 1 at: %s\" % time.ctime())\n",
    "    time.sleep(2)\n",
    "    print(\"loop 1 done at: %s\" % time.ctime())\n",
    " \n",
    " \n",
    "def main():\n",
    "    print(\"starting at: %s\" % time.ctime())\n",
    "    loop0()\n",
    "    loop1()\n",
    "    print(\"all DONE at: %s\" % time.ctime())\n",
    " \n",
    " \n",
    "if __name__ == '__main__':\n",
    "    main()"
   ]
  },
  {
   "cell_type": "code",
   "execution_count": null,
   "metadata": {
    "ExecuteTime": {
     "end_time": "2020-07-07T03:41:15.842987Z",
     "start_time": "2020-07-07T03:41:11.815476Z"
    }
   },
   "outputs": [],
   "source": [
    "import threading\n",
    "import time\n",
    " \n",
    "loops = [4, 2]\n",
    " \n",
    "def xunhuan(nloop, nsec):\n",
    "    print(\"开始 loop %s at: %s\" % (nloop, time.ctime()))\n",
    "    time.sleep(nsec)\n",
    "    print(\"循环 %s done at: %s\" % (nloop, time.ctime()))\n",
    " \n",
    " \n",
    "def main():\n",
    "    print(\"开始中 at: %s\" % time.ctime())\n",
    "    threads = []\n",
    "    nloops = range(len(loops))\n",
    "    for i in range(0, 2):\n",
    "        t = threading.Thread(target=xunhuan, args=(i, loops[i]))\n",
    "        # print(type(i), i, type(loops[i]), loops[i])\n",
    "        # 这个位置可能容易晕，第一次传入args，i会=0，loops[i]会等于4，第二次循环，i=1，loops[i]=2\n",
    "        # （i=0，loops[i]=4，为什么是0和4，因为i本来就=0，loops[i]里面的i=0，loops列表的第一零个本来就等于4）\n",
    "        # 会传入到loop函数中\n",
    "        threads.append(t)  # 将每次循环的对象加入到列表\n",
    " \n",
    "    for i in nloops:\n",
    "        threads[i].start()  # 开启线程\n",
    " \n",
    "    for i in nloops:  # 等待\n",
    "        threads[i].join()  # 线程完成\n",
    "    print(\"所有 完成 at: %s\" % time.ctime())\n",
    " \n",
    " \n",
    "if __name__ == '__main__':\n",
    "    main()"
   ]
  },
  {
   "cell_type": "code",
   "execution_count": null,
   "metadata": {
    "ExecuteTime": {
     "end_time": "2020-07-07T03:45:12.237505Z",
     "start_time": "2020-07-07T03:45:12.169997Z"
    }
   },
   "outputs": [],
   "source": [
    "import operator\n",
    "import csv\n",
    "import time\n",
    "import threading\n",
    "from time import ctime\n",
    "\n",
    "def read_file(filpos,i):\n",
    "    with open(filpos+str(i)+\".csv\") as f:\n",
    "        reader=csv.reader(f)\n",
    "        for i in reader:\n",
    "            print(i)\n",
    "\n",
    "threads = []\n",
    "x=0\n",
    "for t in range(0,3):\n",
    "    t= threading.Thread(target=read_file,args=(\"D:/zhihu/\",x))\n",
    "    threads.append(t)\n",
    "    x+=1\n",
    "#join在里面时候只有第一个子进程结束才能打开第二个进程,if__name__ 调用时不可用\n",
    "if __name__==\"__main__\":\n",
    "    for thr in threads:\n",
    "        thr.start()\n",
    "    thr.join()\n",
    "    print(\"all over %s\"%ctime())"
   ]
  },
  {
   "cell_type": "code",
   "execution_count": null,
   "metadata": {
    "ExecuteTime": {
     "end_time": "2020-07-07T03:58:32.828668Z",
     "start_time": "2020-07-07T03:58:31.684022Z"
    }
   },
   "outputs": [],
   "source": [
    "import pandas as pd"
   ]
  },
  {
   "cell_type": "code",
   "execution_count": null,
   "metadata": {
    "ExecuteTime": {
     "end_time": "2020-07-07T03:58:39.019954Z",
     "start_time": "2020-07-07T03:58:39.002952Z"
    }
   },
   "outputs": [],
   "source": [
    "data = pd.read_clipboard()"
   ]
  },
  {
   "cell_type": "code",
   "execution_count": null,
   "metadata": {
    "ExecuteTime": {
     "end_time": "2020-07-07T03:58:44.501650Z",
     "start_time": "2020-07-07T03:58:44.481147Z"
    }
   },
   "outputs": [],
   "source": [
    "data"
   ]
  },
  {
   "cell_type": "code",
   "execution_count": null,
   "metadata": {
    "ExecuteTime": {
     "end_time": "2020-07-07T04:08:18.758571Z",
     "start_time": "2020-07-07T04:08:18.728067Z"
    }
   },
   "outputs": [],
   "source": [
    "# -*-coding:utf-8-*-\n",
    "import time\n",
    "from time import ctime, sleep\n",
    "import threading\n",
    "import collections\n",
    "class MyThread(threading.Thread):\n",
    "    def __init__(self, func, args, name=''):\n",
    "        threading.Thread.__init__(self)\n",
    "        self.name = name\n",
    "        self.func = func\n",
    "        self.args = args\n",
    "\n",
    " \n",
    "    def run(self):\n",
    "        self.result = self.func(*self.args)\n",
    " \n",
    "    def get_result(self):\n",
    "        try:\n",
    "            return self.result\n",
    "        except Exception:\n",
    "            return None\n",
    " \n",
    " \n",
    "def chuli(quxian,df):\n",
    "    print('开始1', ctime())\n",
    "    data['ss'] = 1\n",
    "    print('开始3', ctime())\n",
    "    return nloop\n",
    "def main():\n",
    "    aaa = pd.DataFrame()\n",
    "    print('开始2 at', ctime())\n",
    "    threads = []\n",
    "    nloops = list(data['区县'])\n",
    "    for name , data_t in data.groupby('区县'):\n",
    "        t = threading.Thread(target=chuli, args=(name, data_t))\n",
    "        threads.append(t)\n",
    "    for i in nloops:  # start threads 此处并不会执行线程，而是将任务分发到每个线程，同步线程。等同步完成后再开始执行start方法\n",
    "        threads[i].start()\n",
    "    for i in nloops:  # jion()方法等待线程完成\n",
    "        threads[i].join()\n",
    "        aaa.append(threads[i].get_result())\n",
    "        print(aaa)\n",
    "    print('开始4 AT:', ctime())\n",
    " \n",
    " \n",
    "if __name__ == '__main__':\n",
    "    main()\n"
   ]
  },
  {
   "cell_type": "code",
   "execution_count": null,
   "metadata": {
    "ExecuteTime": {
     "end_time": "2020-07-07T04:15:39.053482Z",
     "start_time": "2020-07-07T04:15:37.258754Z"
    }
   },
   "outputs": [],
   "source": [
    "import multiprocessing\n",
    "def spawn(num):\n",
    "  print(num)\n",
    "\n",
    "if __name__ == '__main__':\n",
    "  for i in range(25):\n",
    "    ## right here\n",
    "    p = multiprocessing.Process(target=spawn, args=(i,))\n",
    "    p.start()\n"
   ]
  },
  {
   "cell_type": "code",
   "execution_count": null,
   "metadata": {
    "ExecuteTime": {
     "start_time": "2020-07-07T04:18:35.384Z"
    }
   },
   "outputs": [],
   "source": [
    "from multiprocessing import Pool\n",
    "\n",
    "def f(x):\n",
    "    return x*x\n",
    "\n",
    "if __name__ == '__main__':\n",
    "    with Pool(5) as p:\n",
    "        print(p.map(f, [1, 2, 3]))"
   ]
  },
  {
   "cell_type": "code",
   "execution_count": null,
   "metadata": {},
   "outputs": [],
   "source": []
  }
 ],
 "metadata": {
  "kernelspec": {
   "display_name": "Python 3",
   "language": "python",
   "name": "python3"
  },
  "language_info": {
   "codemirror_mode": {
    "name": "ipython",
    "version": 3
   },
   "file_extension": ".py",
   "mimetype": "text/x-python",
   "name": "python",
   "nbconvert_exporter": "python",
   "pygments_lexer": "ipython3",
   "version": "3.7.4"
  },
  "toc": {
   "base_numbering": 1,
   "nav_menu": {},
   "number_sections": true,
   "sideBar": true,
   "skip_h1_title": false,
   "title_cell": "Table of Contents",
   "title_sidebar": "Contents",
   "toc_cell": false,
   "toc_position": {},
   "toc_section_display": true,
   "toc_window_display": false
  },
  "varInspector": {
   "cols": {
    "lenName": 16,
    "lenType": 16,
    "lenVar": 40
   },
   "kernels_config": {
    "python": {
     "delete_cmd_postfix": "",
     "delete_cmd_prefix": "del ",
     "library": "var_list.py",
     "varRefreshCmd": "print(var_dic_list())"
    },
    "r": {
     "delete_cmd_postfix": ") ",
     "delete_cmd_prefix": "rm(",
     "library": "var_list.r",
     "varRefreshCmd": "cat(var_dic_list()) "
    }
   },
   "types_to_exclude": [
    "module",
    "function",
    "builtin_function_or_method",
    "instance",
    "_Feature"
   ],
   "window_display": false
  }
 },
 "nbformat": 4,
 "nbformat_minor": 2
}
