{
 "cells": [
  {
   "cell_type": "code",
   "execution_count": 3,
   "metadata": {},
   "outputs": [],
   "source": [
    "import os\n",
    "import requests\n",
    "import pandas as pd\n",
    "import json\n",
    "import numpy as np\n",
    "import time\n",
    "import math"
   ]
  },
  {
   "cell_type": "code",
   "execution_count": 4,
   "metadata": {},
   "outputs": [
    {
     "name": "stdout",
     "output_type": "stream",
     "text": [
      "请输入兴趣点关键字（比如医院、美食、超市）：0\n"
     ]
    },
    {
     "ename": "NameError",
     "evalue": "name 'arr' is not defined",
     "output_type": "error",
     "traceback": [
      "\u001b[1;31m---------------------------------------------------------------------------\u001b[0m",
      "\u001b[1;31mNameError\u001b[0m                                 Traceback (most recent call last)",
      "\u001b[1;32m<ipython-input-4-e3df3a88b01e>\u001b[0m in \u001b[0;36m<module>\u001b[1;34m\u001b[0m\n\u001b[0;32m     14\u001b[0m \u001b[0mnum\u001b[0m \u001b[1;33m=\u001b[0m \u001b[1;36m0\u001b[0m\u001b[1;33m\u001b[0m\u001b[1;33m\u001b[0m\u001b[0m\n\u001b[0;32m     15\u001b[0m \u001b[1;31m# 逐页POI检索，注意API限制\u001b[0m\u001b[1;33m\u001b[0m\u001b[1;33m\u001b[0m\u001b[1;33m\u001b[0m\u001b[0m\n\u001b[1;32m---> 16\u001b[1;33m \u001b[1;32mfor\u001b[0m \u001b[0mi\u001b[0m \u001b[1;32min\u001b[0m \u001b[0mrange\u001b[0m\u001b[1;33m(\u001b[0m\u001b[1;36m0\u001b[0m\u001b[1;33m,\u001b[0m \u001b[0mlen\u001b[0m\u001b[1;33m(\u001b[0m\u001b[0marr\u001b[0m\u001b[1;33m)\u001b[0m\u001b[1;33m)\u001b[0m\u001b[1;33m:\u001b[0m\u001b[1;33m\u001b[0m\u001b[1;33m\u001b[0m\u001b[0m\n\u001b[0m\u001b[0;32m     17\u001b[0m     \u001b[1;31m# 当前行政区\u001b[0m\u001b[1;33m\u001b[0m\u001b[1;33m\u001b[0m\u001b[1;33m\u001b[0m\u001b[0m\n\u001b[0;32m     18\u001b[0m     \u001b[0mcity\u001b[0m \u001b[1;33m=\u001b[0m \u001b[0marr\u001b[0m\u001b[1;33m[\u001b[0m\u001b[0mi\u001b[0m\u001b[1;33m]\u001b[0m\u001b[1;33m\u001b[0m\u001b[1;33m\u001b[0m\u001b[0m\n",
      "\u001b[1;31mNameError\u001b[0m: name 'arr' is not defined"
     ]
    }
   ],
   "source": [
    "###############下面模块为核心模块，实现输入地理检索关键字，自动化抓取兴趣点地理信息功能############\n",
    "# 中心经纬度接口网址为\"https://restapi.amap.com/v3/place/text?keywords=美食或其他场景关键字&city=420202&output=JSON&offset=20&key=d5c989d607e93436384de956b87708a0&extensions=all&page=\"\n",
    "keywords = input(\"请输入兴趣点关键字（比如医院、美食、超市）：\")\n",
    "wangzhi1 = \"https://restapi.amap.com/v3/place/text?keywords=\" + keywords + \"&city=\"  # 不同场景需要更新场景标识，比如美食、商场、居民区\n",
    "wangzhi2 = \"&output=JSON&offset=20&key=d5c989d607e93436384de956b87708a0&extensions=all&page=\"\n",
    "# 检索AOI的URL\n",
    "# aoiUrl=\"https://ditu.amap.com/detail/get/detail?id=\" 老接口已经失效！！！！\n",
    "aoiUrl = \"https://www.amap.com/detail/get/detail?id=\"\n",
    "# 用于储存POI数据\n",
    "x = []\n",
    "# 用于储存AOI数据\n",
    "y = []\n",
    "# 计数\n",
    "num = 0\n",
    "# 逐页POI检索，注意API限制\n",
    "for i in range(0, len(arr)):\n",
    "    # 当前行政区\n",
    "    city = arr[i]\n",
    "    # 因为官方对API检索进行了45页限制，所以只要检索到45页即可\n",
    "    for page in range(1, 51):\n",
    "        # 若该下级行政区的POI数量达到了限制，则警告使用者，之后考虑进行POI类型切分\n",
    "        if page == 50:\n",
    "            print(\"警告！！POI检索可能受到限制！！\")\n",
    "        # 构造URL\n",
    "        thisUrl1 = wangzhi1 + city + wangzhi2 + str(page)\n",
    "        # 获取POI数据\n",
    "        data1 = requests.get(thisUrl1)\n",
    "        # 转为JSON格式\n",
    "        s = data1.json()\n",
    "        # 解析JSON\n",
    "        aa = s[\"pois\"]\n",
    "        # 若解析的JSON为空，即当前行政区的数据不够45页（即没有达到限制），返回\n",
    "        if len(aa) == 0:\n",
    "            break\n",
    "        # 对每条POI进行存储\n",
    "        for k in range(0, len(aa)):\n",
    "            s1 = aa[k][\"name\"]\n",
    "            s2 = aa[k][\"type\"]\n",
    "            s3 = aa[k][\"address\"]\n",
    "            s4 = aa[k][\"cityname\"]\n",
    "            s5 = aa[k][\"adname\"]\n",
    "            s6 = aa[k][\"location\"].split(\",\")\n",
    "            s7 = aa[k][\"id\"]\n",
    "            x.append([s1, s2, s3, s4, s5, float(s6[0]), float(s6[1]), s7])\n",
    "            num += 1\n",
    "            print(\"爬取了 \" + str(num) + \" 条POI数据\")\n",
    "c1 = pd.DataFrame(x)\n",
    "c1.rename(columns={0: \"name\", 1: \"type\", 2: \"address\", 3: \"cityname\", 4: \"adname\", 5: \"高德lon\", 6: \"高德lat\", 7: \"id\"},\n",
    "          inplace=True)\n"
   ]
  },
  {
   "cell_type": "code",
   "execution_count": null,
   "metadata": {},
   "outputs": [],
   "source": []
  }
 ],
 "metadata": {
  "kernelspec": {
   "display_name": "Python 3",
   "language": "python",
   "name": "python3"
  },
  "language_info": {
   "codemirror_mode": {
    "name": "ipython",
    "version": 3
   },
   "file_extension": ".py",
   "mimetype": "text/x-python",
   "name": "python",
   "nbconvert_exporter": "python",
   "pygments_lexer": "ipython3",
   "version": "3.7.4"
  }
 },
 "nbformat": 4,
 "nbformat_minor": 2
}
