{
 "cells": [
  {
   "cell_type": "code",
   "execution_count": 1,
   "metadata": {},
   "outputs": [],
   "source": [
    "%load_ext autoreload\n",
    "%autoreload 2"
   ]
  },
  {
   "cell_type": "code",
   "execution_count": 2,
   "metadata": {},
   "outputs": [],
   "source": [
    "import mytools\n",
    "import pandas as pd\n",
    "import geopandas as gpd"
   ]
  },
  {
   "cell_type": "markdown",
   "metadata": {},
   "source": [
    "# ---导入数据---"
   ]
  },
  {
   "cell_type": "code",
   "execution_count": 3,
   "metadata": {},
   "outputs": [],
   "source": [
    "path = 'G:/1-规划/1其他工作输出/20200221问题点输出解决方案/2-处理过程使用数据/'"
   ]
  },
  {
   "cell_type": "code",
   "execution_count": 4,
   "metadata": {},
   "outputs": [],
   "source": [
    "wenti = pd.read_csv('{}wenti-对比使用.csv'.format(path),encoding='gbk')\n",
    "weikaitong = pd.read_csv('{}规划未开通站点.csv'.format(path),encoding='gbk')\n",
    "xianwang =pd.read_csv('{}现网小区.csv'.format(path),encoding='gbk')"
   ]
  },
  {
   "cell_type": "markdown",
   "metadata": {},
   "source": [
    "# ---数据预处理---"
   ]
  },
  {
   "cell_type": "code",
   "execution_count": 5,
   "metadata": {},
   "outputs": [],
   "source": [
    "wenti_cahngjing = mytools.gisn.points_coverage_merge(wenti,'lon','lat',\n",
    "                                                        coverage='G:/1-规划/图层/全省区域规划图层20180510/全省区域规划图层20180510/全省区域规划图层20180510.TAB',\n",
    "                                                        df_merge_coverage_columns=['区域类型'],\n",
    "                                                        merge_only_right_mark='农村')"
   ]
  },
  {
   "cell_type": "code",
   "execution_count": 6,
   "metadata": {
    "scrolled": true
   },
   "outputs": [],
   "source": [
    "wenti_cahngjing.loc[wenti_cahngjing['区域类型']=='主城区','优化半径']=100\n",
    "wenti_cahngjing.loc[wenti_cahngjing['区域类型']=='一般城区','优化半径']=127\n",
    "wenti_cahngjing.loc[wenti_cahngjing['区域类型']=='县城','优化半径']=121\n",
    "wenti_cahngjing.loc[wenti_cahngjing['区域类型']=='乡镇','优化半径']=289\n",
    "wenti_cahngjing.loc[wenti_cahngjing['区域类型']=='农村','优化半径']=500"
   ]
  },
  {
   "cell_type": "code",
   "execution_count": 7,
   "metadata": {
    "scrolled": true
   },
   "outputs": [
    {
     "name": "stderr",
     "output_type": "stream",
     "text": [
      "C:\\ProgramData\\Anaconda3\\lib\\site-packages\\pyproj\\crs\\crs.py:55: FutureWarning: '+init=<authority>:<code>' syntax is deprecated. '<authority>:<code>' is the preferred initialization method. When making the change, be mindful of axis order changes: https://pyproj4.github.io/pyproj/stable/gotchas.html#axis-order-changes-in-proj-6\n",
      "  return _prepare_from_string(\" \".join(pjargs))\n",
      "C:\\ProgramData\\Anaconda3\\lib\\site-packages\\pyproj\\crs\\crs.py:55: FutureWarning: '+init=<authority>:<code>' syntax is deprecated. '<authority>:<code>' is the preferred initialization method. When making the change, be mindful of axis order changes: https://pyproj4.github.io/pyproj/stable/gotchas.html#axis-order-changes-in-proj-6\n",
      "  return _prepare_from_string(\" \".join(pjargs))\n"
     ]
    }
   ],
   "source": [
    "wenti_yh_buff = mytools.gisn.add_buffer_df(wenti_cahngjing,'lon','lat',buff_col='优化半径')"
   ]
  },
  {
   "cell_type": "code",
   "execution_count": 8,
   "metadata": {},
   "outputs": [],
   "source": [
    "xianwang_p = mytools.gisn.add_points(xianwang,'RRU经度','RRU纬度')"
   ]
  },
  {
   "cell_type": "code",
   "execution_count": 9,
   "metadata": {
    "scrolled": true
   },
   "outputs": [],
   "source": [
    "weikaitong_cahngjing = mytools.gisn.points_coverage_merge(weikaitong,'规划经度','规划纬度',\n",
    "                                                        coverage='G:/1-规划/图层/全省区域规划图层20180510/全省区域规划图层20180510/全省区域规划图层20180510.TAB',\n",
    "                                                        df_merge_coverage_columns=['区域类型'],\n",
    "                                                        merge_only_right_mark='农村')"
   ]
  },
  {
   "cell_type": "code",
   "execution_count": 10,
   "metadata": {},
   "outputs": [],
   "source": [
    "weikaitong_cahngjing1 = mytools.gisn.changjing_distance(weikaitong_cahngjing,'区域类型', '系统制式')"
   ]
  },
  {
   "cell_type": "code",
   "execution_count": 11,
   "metadata": {},
   "outputs": [
    {
     "name": "stderr",
     "output_type": "stream",
     "text": [
      "C:\\ProgramData\\Anaconda3\\lib\\site-packages\\pyproj\\crs\\crs.py:55: FutureWarning: '+init=<authority>:<code>' syntax is deprecated. '<authority>:<code>' is the preferred initialization method. When making the change, be mindful of axis order changes: https://pyproj4.github.io/pyproj/stable/gotchas.html#axis-order-changes-in-proj-6\n",
      "  return _prepare_from_string(\" \".join(pjargs))\n",
      "C:\\ProgramData\\Anaconda3\\lib\\site-packages\\pyproj\\crs\\crs.py:55: FutureWarning: '+init=<authority>:<code>' syntax is deprecated. '<authority>:<code>' is the preferred initialization method. When making the change, be mindful of axis order changes: https://pyproj4.github.io/pyproj/stable/gotchas.html#axis-order-changes-in-proj-6\n",
      "  return _prepare_from_string(\" \".join(pjargs))\n"
     ]
    }
   ],
   "source": [
    "weikaitong_cahngjing_buff = mytools.gisn.add_buffer_df(weikaitong_cahngjing1,'规划经度','规划纬度',buff_col='distance')"
   ]
  },
  {
   "cell_type": "code",
   "execution_count": 12,
   "metadata": {},
   "outputs": [],
   "source": [
    "wenti_cahngjing_p = mytools.gisn.add_points(wenti_cahngjing,'lon','lat')"
   ]
  },
  {
   "cell_type": "markdown",
   "metadata": {},
   "source": [
    "# ---生成优化方案---"
   ]
  },
  {
   "cell_type": "code",
   "execution_count": 13,
   "metadata": {},
   "outputs": [],
   "source": [
    "youhua_fangan_v1 = gpd.sjoin(wenti_yh_buff,xianwang_p)"
   ]
  },
  {
   "cell_type": "code",
   "execution_count": 14,
   "metadata": {},
   "outputs": [
    {
     "data": {
      "text/html": [
       "<div>\n",
       "<style scoped>\n",
       "    .dataframe tbody tr th:only-of-type {\n",
       "        vertical-align: middle;\n",
       "    }\n",
       "\n",
       "    .dataframe tbody tr th {\n",
       "        vertical-align: top;\n",
       "    }\n",
       "\n",
       "    .dataframe thead th {\n",
       "        text-align: right;\n",
       "    }\n",
       "</style>\n",
       "<table border=\"1\" class=\"dataframe\">\n",
       "  <thead>\n",
       "    <tr style=\"text-align: right;\">\n",
       "      <th></th>\n",
       "      <th>id</th>\n",
       "      <th>city</th>\n",
       "      <th>qx</th>\n",
       "      <th>lon</th>\n",
       "      <th>lat</th>\n",
       "      <th>六大场景</th>\n",
       "      <th>区域类型</th>\n",
       "      <th>优化半径</th>\n",
       "      <th>geometry</th>\n",
       "      <th>index_right</th>\n",
       "      <th>小区CGI(*)</th>\n",
       "      <th>小区中文名</th>\n",
       "      <th>RRU经度</th>\n",
       "      <th>RRU纬度</th>\n",
       "      <th>工作频段</th>\n",
       "    </tr>\n",
       "  </thead>\n",
       "  <tbody>\n",
       "    <tr>\n",
       "      <th>0</th>\n",
       "      <td>20200324-SWMR-ES-000101</td>\n",
       "      <td>恩施</td>\n",
       "      <td>建始县</td>\n",
       "      <td>109.735335</td>\n",
       "      <td>30.630336</td>\n",
       "      <td>居民区</td>\n",
       "      <td>农村</td>\n",
       "      <td>500.0</td>\n",
       "      <td>POLYGON ((109.74051 30.63063, 109.74052 30.630...</td>\n",
       "      <td>166707</td>\n",
       "      <td>460-00-582473-130</td>\n",
       "      <td>建始高坪国际教育-HLH-2</td>\n",
       "      <td>109.733711</td>\n",
       "      <td>30.629471</td>\n",
       "      <td>F</td>\n",
       "    </tr>\n",
       "  </tbody>\n",
       "</table>\n",
       "</div>"
      ],
      "text/plain": [
       "                        id city   qx         lon        lat 六大场景 区域类型   优化半径  \\\n",
       "0  20200324-SWMR-ES-000101   恩施  建始县  109.735335  30.630336  居民区   农村  500.0   \n",
       "\n",
       "                                            geometry  index_right  \\\n",
       "0  POLYGON ((109.74051 30.63063, 109.74052 30.630...       166707   \n",
       "\n",
       "            小区CGI(*)           小区中文名       RRU经度      RRU纬度 工作频段  \n",
       "0  460-00-582473-130  建始高坪国际教育-HLH-2  109.733711  30.629471    F  "
      ]
     },
     "execution_count": 14,
     "metadata": {},
     "output_type": "execute_result"
    }
   ],
   "source": [
    "youhua_fangan_v1.head(1)"
   ]
  },
  {
   "cell_type": "code",
   "execution_count": 15,
   "metadata": {},
   "outputs": [],
   "source": [
    "youhua_fangan_v12 = mytools.gisn.distancea_df(youhua_fangan_v1,'lon','lat','RRU经度','RRU纬度',columns_name='对应距离_优化')"
   ]
  },
  {
   "cell_type": "code",
   "execution_count": 16,
   "metadata": {},
   "outputs": [
    {
     "data": {
      "text/plain": [
       "Index(['id', 'city', 'qx', 'lon', 'lat', '六大场景', '区域类型', '优化半径', 'geometry',\n",
       "       'index_right', '小区CGI(*)', '小区中文名', 'RRU经度', 'RRU纬度', '工作频段',\n",
       "       '对应距离_优化'],\n",
       "      dtype='object')"
      ]
     },
     "execution_count": 16,
     "metadata": {},
     "output_type": "execute_result"
    }
   ],
   "source": [
    "youhua_fangan_v12.columns"
   ]
  },
  {
   "cell_type": "code",
   "execution_count": 17,
   "metadata": {},
   "outputs": [],
   "source": [
    "youhua_fangan_v13 = youhua_fangan_v12.sort_values('对应距离_优化')"
   ]
  },
  {
   "cell_type": "code",
   "execution_count": 18,
   "metadata": {},
   "outputs": [],
   "source": [
    "youhua_fangan_v13.loc[youhua_fangan_v13['工作频段']=='FDD900','zhishi_1']=1"
   ]
  },
  {
   "cell_type": "code",
   "execution_count": 19,
   "metadata": {},
   "outputs": [],
   "source": [
    "youhua_fangan_v13.loc[youhua_fangan_v13['工作频段']=='FDD1800','zhishi_1']=2"
   ]
  },
  {
   "cell_type": "code",
   "execution_count": 20,
   "metadata": {},
   "outputs": [],
   "source": [
    "youhua_fangan_v14 = youhua_fangan_v13.sort_values('zhishi_1')"
   ]
  },
  {
   "cell_type": "code",
   "execution_count": 21,
   "metadata": {},
   "outputs": [],
   "source": [
    "youhua_fangan_v15 = youhua_fangan_v14.drop_duplicates('id')"
   ]
  },
  {
   "cell_type": "code",
   "execution_count": 22,
   "metadata": {},
   "outputs": [],
   "source": [
    "youhua_fangan_v15.to_csv('{}优化方案-对比.csv'.format(path),encoding='gbk',index=False)"
   ]
  },
  {
   "cell_type": "markdown",
   "metadata": {},
   "source": [
    "# ---生成建设方案---"
   ]
  },
  {
   "cell_type": "code",
   "execution_count": 23,
   "metadata": {},
   "outputs": [],
   "source": [
    "jianshe_fangan_v1 = gpd.sjoin(wenti_cahngjing_p,weikaitong_cahngjing_buff)"
   ]
  },
  {
   "cell_type": "code",
   "execution_count": 24,
   "metadata": {},
   "outputs": [],
   "source": [
    "jianshe_fangan_v2 = mytools.gisn.distancea_df(jianshe_fangan_v1,'lon','lat','规划经度','规划纬度',columns_name='相对距离')"
   ]
  },
  {
   "cell_type": "code",
   "execution_count": 25,
   "metadata": {},
   "outputs": [],
   "source": [
    "jianshe_fangan_v3 = jianshe_fangan_v2.sort_values('相对距离').drop_duplicates('id')"
   ]
  },
  {
   "cell_type": "code",
   "execution_count": 26,
   "metadata": {},
   "outputs": [],
   "source": [
    "jianshe_fangan_v3.to_csv('{}建设方案-对比.csv'.format(path),encoding='gbk',index=False)"
   ]
  },
  {
   "cell_type": "markdown",
   "metadata": {},
   "source": [
    "# ---生成规划方案---"
   ]
  },
  {
   "cell_type": "code",
   "execution_count": 27,
   "metadata": {},
   "outputs": [],
   "source": [
    "you_jian = jianshe_fangan_v3[['id','city']].append(youhua_fangan_v15[['id','city']])"
   ]
  },
  {
   "cell_type": "code",
   "execution_count": 28,
   "metadata": {},
   "outputs": [],
   "source": [
    "aaa = wenti.merge(you_jian,how='outer',on='id',indicator=True)"
   ]
  },
  {
   "cell_type": "code",
   "execution_count": 29,
   "metadata": {},
   "outputs": [
    {
     "data": {
      "text/html": [
       "<div>\n",
       "<style scoped>\n",
       "    .dataframe tbody tr th:only-of-type {\n",
       "        vertical-align: middle;\n",
       "    }\n",
       "\n",
       "    .dataframe tbody tr th {\n",
       "        vertical-align: top;\n",
       "    }\n",
       "\n",
       "    .dataframe thead th {\n",
       "        text-align: right;\n",
       "    }\n",
       "</style>\n",
       "<table border=\"1\" class=\"dataframe\">\n",
       "  <thead>\n",
       "    <tr style=\"text-align: right;\">\n",
       "      <th></th>\n",
       "      <th>id</th>\n",
       "      <th>city_x</th>\n",
       "      <th>qx</th>\n",
       "      <th>lon</th>\n",
       "      <th>lat</th>\n",
       "      <th>六大场景</th>\n",
       "      <th>city_y</th>\n",
       "    </tr>\n",
       "    <tr>\n",
       "      <th>_merge</th>\n",
       "      <th></th>\n",
       "      <th></th>\n",
       "      <th></th>\n",
       "      <th></th>\n",
       "      <th></th>\n",
       "      <th></th>\n",
       "      <th></th>\n",
       "    </tr>\n",
       "  </thead>\n",
       "  <tbody>\n",
       "    <tr>\n",
       "      <th>left_only</th>\n",
       "      <td>529</td>\n",
       "      <td>529</td>\n",
       "      <td>524</td>\n",
       "      <td>529</td>\n",
       "      <td>529</td>\n",
       "      <td>529</td>\n",
       "      <td>0</td>\n",
       "    </tr>\n",
       "    <tr>\n",
       "      <th>right_only</th>\n",
       "      <td>0</td>\n",
       "      <td>0</td>\n",
       "      <td>0</td>\n",
       "      <td>0</td>\n",
       "      <td>0</td>\n",
       "      <td>0</td>\n",
       "      <td>0</td>\n",
       "    </tr>\n",
       "    <tr>\n",
       "      <th>both</th>\n",
       "      <td>6117</td>\n",
       "      <td>6117</td>\n",
       "      <td>6101</td>\n",
       "      <td>6117</td>\n",
       "      <td>6117</td>\n",
       "      <td>6117</td>\n",
       "      <td>6117</td>\n",
       "    </tr>\n",
       "  </tbody>\n",
       "</table>\n",
       "</div>"
      ],
      "text/plain": [
       "              id  city_x    qx   lon   lat  六大场景  city_y\n",
       "_merge                                                  \n",
       "left_only    529     529   524   529   529   529       0\n",
       "right_only     0       0     0     0     0     0       0\n",
       "both        6117    6117  6101  6117  6117  6117    6117"
      ]
     },
     "execution_count": 29,
     "metadata": {},
     "output_type": "execute_result"
    }
   ],
   "source": [
    "aaa.groupby('_merge').count()"
   ]
  },
  {
   "cell_type": "code",
   "execution_count": null,
   "metadata": {},
   "outputs": [],
   "source": []
  }
 ],
 "metadata": {
  "kernelspec": {
   "display_name": "Python 3",
   "language": "python",
   "name": "python3"
  },
  "language_info": {
   "codemirror_mode": {
    "name": "ipython",
    "version": 3
   },
   "file_extension": ".py",
   "mimetype": "text/x-python",
   "name": "python",
   "nbconvert_exporter": "python",
   "pygments_lexer": "ipython3",
   "version": "3.7.3"
  }
 },
 "nbformat": 4,
 "nbformat_minor": 2
}
