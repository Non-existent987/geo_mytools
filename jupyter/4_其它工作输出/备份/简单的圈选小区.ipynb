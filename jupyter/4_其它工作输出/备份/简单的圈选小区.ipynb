{
 "cells": [
  {
   "cell_type": "code",
   "execution_count": 1,
   "metadata": {},
   "outputs": [],
   "source": [
    "import mytools"
   ]
  },
  {
   "cell_type": "code",
   "execution_count": 2,
   "metadata": {},
   "outputs": [],
   "source": [
    "import pandas as pd"
   ]
  },
  {
   "cell_type": "code",
   "execution_count": 3,
   "metadata": {},
   "outputs": [],
   "source": [
    "import geopandas as gpd"
   ]
  },
  {
   "cell_type": "code",
   "execution_count": null,
   "metadata": {},
   "outputs": [],
   "source": [
    "gongcan = pd.read_csv('d:/lcell0303.csv',encoding='gbk')"
   ]
  },
  {
   "cell_type": "code",
   "execution_count": null,
   "metadata": {},
   "outputs": [],
   "source": [
    "data = pd.read_csv('d:/投诉质差待查.csv',encoding='gbk')"
   ]
  },
  {
   "cell_type": "code",
   "execution_count": null,
   "metadata": {},
   "outputs": [],
   "source": [
    "data.columns"
   ]
  },
  {
   "cell_type": "code",
   "execution_count": null,
   "metadata": {},
   "outputs": [],
   "source": [
    "gongcan.columns"
   ]
  },
  {
   "cell_type": "code",
   "execution_count": null,
   "metadata": {},
   "outputs": [],
   "source": [
    "data_v1 = data.merge(gongcan,how='left',left_on='小区CGI',right_on='小区CGI(*)')"
   ]
  },
  {
   "cell_type": "code",
   "execution_count": null,
   "metadata": {},
   "outputs": [],
   "source": [
    "data_v2 = data_v1[['地市', '小区中文名_x', '厂家', '小区CGI', 'RRU经度', 'RRU纬度']]"
   ]
  },
  {
   "cell_type": "code",
   "execution_count": null,
   "metadata": {},
   "outputs": [],
   "source": [
    "gongcan_use = gongcan[['小区CGI(*)', 'RRU经度', 'RRU纬度']]"
   ]
  },
  {
   "cell_type": "code",
   "execution_count": null,
   "metadata": {},
   "outputs": [],
   "source": [
    "gongcan_p = mytools.gisn.add_points(gongcan_use, 'RRU经度', 'RRU纬度')"
   ]
  },
  {
   "cell_type": "code",
   "execution_count": null,
   "metadata": {},
   "outputs": [],
   "source": [
    "data_buff = mytools.gisn.add_buffer(data_v2,'RRU经度','RRU纬度',1000)"
   ]
  },
  {
   "cell_type": "code",
   "execution_count": null,
   "metadata": {},
   "outputs": [],
   "source": [
    "res = gpd.sjoin(data_buff,gongcan_p)"
   ]
  },
  {
   "cell_type": "code",
   "execution_count": null,
   "metadata": {},
   "outputs": [],
   "source": [
    "res_v1 = res[['地市', '小区中文名_x', '厂家', '小区CGI', 'RRU经度_left', 'RRU纬度_left','小区CGI(*)']]"
   ]
  },
  {
   "cell_type": "code",
   "execution_count": null,
   "metadata": {},
   "outputs": [],
   "source": [
    "res_v1.groupby('小区CGI').count().shape"
   ]
  },
  {
   "cell_type": "code",
   "execution_count": null,
   "metadata": {},
   "outputs": [],
   "source": [
    "res_v1.to_csv('d:/res.csv',encoding='gbk',index=False)"
   ]
  },
  {
   "cell_type": "code",
   "execution_count": null,
   "metadata": {},
   "outputs": [],
   "source": []
  },
  {
   "cell_type": "code",
   "execution_count": null,
   "metadata": {},
   "outputs": [],
   "source": []
  },
  {
   "cell_type": "code",
   "execution_count": null,
   "metadata": {},
   "outputs": [],
   "source": []
  },
  {
   "cell_type": "markdown",
   "metadata": {},
   "source": [
    "# 张璇"
   ]
  },
  {
   "cell_type": "code",
   "execution_count": 4,
   "metadata": {},
   "outputs": [],
   "source": [
    "data = pd.read_csv('G:/1-规划/1其他工作输出/20200323庄璇6大场景poi/场景.csv',encoding = 'gbk')"
   ]
  },
  {
   "cell_type": "code",
   "execution_count": 7,
   "metadata": {},
   "outputs": [],
   "source": [
    "data_p = mytools.gisn.add_points(data,'经度','纬度')"
   ]
  },
  {
   "cell_type": "code",
   "execution_count": 5,
   "metadata": {},
   "outputs": [],
   "source": [
    "f = mytools.othern.file_name_paths(path='G:/1-规划/1其他工作输出/20200323庄璇6大场景poi/6大场景POI图层/',\n",
    "    find='tab',\n",
    "    case_sensitive=False)"
   ]
  },
  {
   "cell_type": "code",
   "execution_count": 16,
   "metadata": {},
   "outputs": [
    {
     "data": {
      "text/plain": [
       "['G:/1-规划/1其他工作输出/20200323庄璇6大场景poi/6大场景POI图层/6大场景POI图层\\\\医院.TAB',\n",
       " 'G:/1-规划/1其他工作输出/20200323庄璇6大场景poi/6大场景POI图层/6大场景POI图层\\\\商业综合体.TAB',\n",
       " 'G:/1-规划/1其他工作输出/20200323庄璇6大场景poi/6大场景POI图层/6大场景POI图层\\\\大型商圈.TAB',\n",
       " 'G:/1-规划/1其他工作输出/20200323庄璇6大场景poi/6大场景POI图层/6大场景POI图层\\\\居民区.TAB',\n",
       " 'G:/1-规划/1其他工作输出/20200323庄璇6大场景poi/6大场景POI图层/6大场景POI图层\\\\风景区.TAB',\n",
       " 'G:/1-规划/1其他工作输出/20200323庄璇6大场景poi/6大场景POI图层/6大场景POI图层\\\\高校.TAB']"
      ]
     },
     "execution_count": 16,
     "metadata": {},
     "output_type": "execute_result"
    }
   ],
   "source": [
    "f"
   ]
  },
  {
   "cell_type": "code",
   "execution_count": 14,
   "metadata": {},
   "outputs": [
    {
     "name": "stderr",
     "output_type": "stream",
     "text": [
      "C:\\ProgramData\\Anaconda3\\lib\\site-packages\\pyproj\\crs\\crs.py:55: FutureWarning: '+init=<authority>:<code>' syntax is deprecated. '<authority>:<code>' is the preferred initialization method. When making the change, be mindful of axis order changes: https://pyproj4.github.io/pyproj/stable/gotchas.html#axis-order-changes-in-proj-6\n",
      "  return _prepare_from_string(\" \".join(pjargs))\n",
      "C:\\ProgramData\\Anaconda3\\lib\\site-packages\\pyproj\\crs\\crs.py:55: FutureWarning: '+init=<authority>:<code>' syntax is deprecated. '<authority>:<code>' is the preferred initialization method. When making the change, be mindful of axis order changes: https://pyproj4.github.io/pyproj/stable/gotchas.html#axis-order-changes-in-proj-6\n",
      "  return _prepare_from_string(\" \".join(pjargs))\n",
      "C:\\ProgramData\\Anaconda3\\lib\\site-packages\\pyproj\\crs\\crs.py:55: FutureWarning: '+init=<authority>:<code>' syntax is deprecated. '<authority>:<code>' is the preferred initialization method. When making the change, be mindful of axis order changes: https://pyproj4.github.io/pyproj/stable/gotchas.html#axis-order-changes-in-proj-6\n",
      "  return _prepare_from_string(\" \".join(pjargs))\n",
      "C:\\ProgramData\\Anaconda3\\lib\\site-packages\\pyproj\\crs\\crs.py:55: FutureWarning: '+init=<authority>:<code>' syntax is deprecated. '<authority>:<code>' is the preferred initialization method. When making the change, be mindful of axis order changes: https://pyproj4.github.io/pyproj/stable/gotchas.html#axis-order-changes-in-proj-6\n",
      "  return _prepare_from_string(\" \".join(pjargs))\n",
      "C:\\ProgramData\\Anaconda3\\lib\\site-packages\\pyproj\\crs\\crs.py:55: FutureWarning: '+init=<authority>:<code>' syntax is deprecated. '<authority>:<code>' is the preferred initialization method. When making the change, be mindful of axis order changes: https://pyproj4.github.io/pyproj/stable/gotchas.html#axis-order-changes-in-proj-6\n",
      "  return _prepare_from_string(\" \".join(pjargs))\n",
      "C:\\ProgramData\\Anaconda3\\lib\\site-packages\\pyproj\\crs\\crs.py:55: FutureWarning: '+init=<authority>:<code>' syntax is deprecated. '<authority>:<code>' is the preferred initialization method. When making the change, be mindful of axis order changes: https://pyproj4.github.io/pyproj/stable/gotchas.html#axis-order-changes-in-proj-6\n",
      "  return _prepare_from_string(\" \".join(pjargs))\n"
     ]
    }
   ],
   "source": [
    "data_z = dict()\n",
    "for tu in f:\n",
    "    tu_use = gpd.read_file(tu,encoding='gbk')\n",
    "    tu_use2 = tu_use.to_crs({'init': 'epsg:4326'})\n",
    "    res_t = gpd.sjoin(data_p,tu_use2)\n",
    "    data_z[tu] = res_t"
   ]
  },
  {
   "cell_type": "code",
   "execution_count": 24,
   "metadata": {},
   "outputs": [],
   "source": [
    "data_z['G:/1-规划/1其他工作输出/20200323庄璇6大场景poi/6大场景POI图层/6大场景POI图层\\\\高校.TAB'].to_clipboard()"
   ]
  }
 ],
 "metadata": {
  "kernelspec": {
   "display_name": "Python 3",
   "language": "python",
   "name": "python3"
  },
  "language_info": {
   "codemirror_mode": {
    "name": "ipython",
    "version": 3
   },
   "file_extension": ".py",
   "mimetype": "text/x-python",
   "name": "python",
   "nbconvert_exporter": "python",
   "pygments_lexer": "ipython3",
   "version": "3.7.3"
  }
 },
 "nbformat": 4,
 "nbformat_minor": 2
}
