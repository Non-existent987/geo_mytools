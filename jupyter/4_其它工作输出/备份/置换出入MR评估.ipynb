{
 "cells": [
  {
   "cell_type": "code",
   "execution_count": 62,
   "metadata": {
    "ExecuteTime": {
     "end_time": "2020-07-14T04:02:33.355393Z",
     "start_time": "2020-07-14T04:02:33.088860Z"
    }
   },
   "outputs": [
    {
     "name": "stdout",
     "output_type": "stream",
     "text": [
      "The autoreload extension is already loaded. To reload it, use:\n",
      "  %reload_ext autoreload\n"
     ]
    }
   ],
   "source": [
    "%load_ext autoreload\n",
    "%autoreload 2"
   ]
  },
  {
   "cell_type": "code",
   "execution_count": 63,
   "metadata": {
    "ExecuteTime": {
     "end_time": "2020-07-14T04:02:43.698707Z",
     "start_time": "2020-07-14T04:02:43.438674Z"
    }
   },
   "outputs": [],
   "source": [
    "import pandas as pd\n",
    "import geopandas as gpd\n",
    "import mytools"
   ]
  },
  {
   "cell_type": "code",
   "execution_count": 7,
   "metadata": {
    "ExecuteTime": {
     "end_time": "2020-07-14T03:40:24.777185Z",
     "start_time": "2020-07-14T03:40:14.580891Z"
    }
   },
   "outputs": [
    {
     "name": "stderr",
     "output_type": "stream",
     "text": [
      "C:\\ProgramData\\Anaconda3\\lib\\site-packages\\IPython\\core\\interactiveshell.py:3058: DtypeWarning: Columns (12,14) have mixed types. Specify dtype option on import or set low_memory=False.\n",
      "  interactivity=interactivity, compiler=compiler, result=result)\n"
     ]
    }
   ],
   "source": [
    "gongcan = pd.read_csv(open('g:/1-规划/工参/工参数据/ltejizhan20200616.csv',encoding='gbk'))"
   ]
  },
  {
   "cell_type": "code",
   "execution_count": 8,
   "metadata": {
    "ExecuteTime": {
     "end_time": "2020-07-14T03:40:25.678300Z",
     "start_time": "2020-07-14T03:40:25.239744Z"
    }
   },
   "outputs": [],
   "source": [
    "gongcan_use = gongcan.loc[gongcan['RRU经度']>100]"
   ]
  },
  {
   "cell_type": "code",
   "execution_count": 9,
   "metadata": {
    "ExecuteTime": {
     "end_time": "2020-07-14T03:40:30.777947Z",
     "start_time": "2020-07-14T03:40:26.345385Z"
    }
   },
   "outputs": [],
   "source": [
    "gongcan_use_p = mytools.gisn.add_points(gongcan_use,'RRU经度','RRU纬度')"
   ]
  },
  {
   "cell_type": "code",
   "execution_count": 64,
   "metadata": {
    "ExecuteTime": {
     "end_time": "2020-07-14T04:02:53.966011Z",
     "start_time": "2020-07-14T04:02:53.678474Z"
    }
   },
   "outputs": [],
   "source": [
    "data = pd.read_clipboard()"
   ]
  },
  {
   "cell_type": "code",
   "execution_count": 65,
   "metadata": {
    "ExecuteTime": {
     "end_time": "2020-07-14T04:03:04.261318Z",
     "start_time": "2020-07-14T04:03:03.983783Z"
    }
   },
   "outputs": [
    {
     "data": {
      "text/html": [
       "<div>\n",
       "<style scoped>\n",
       "    .dataframe tbody tr th:only-of-type {\n",
       "        vertical-align: middle;\n",
       "    }\n",
       "\n",
       "    .dataframe tbody tr th {\n",
       "        vertical-align: top;\n",
       "    }\n",
       "\n",
       "    .dataframe thead th {\n",
       "        text-align: right;\n",
       "    }\n",
       "</style>\n",
       "<table border=\"1\" class=\"dataframe\">\n",
       "  <thead>\n",
       "    <tr style=\"text-align: right;\">\n",
       "      <th></th>\n",
       "      <th>规划站号</th>\n",
       "      <th>解决建议</th>\n",
       "      <th>置换入站点需求来源</th>\n",
       "      <th>经度</th>\n",
       "      <th>纬度</th>\n",
       "    </tr>\n",
       "  </thead>\n",
       "  <tbody>\n",
       "    <tr>\n",
       "      <td>0</td>\n",
       "      <td>xuhao1</td>\n",
       "      <td>置换到G_五峰傅家堰集中安置点-HFH（110.456337 30.295415）</td>\n",
       "      <td>分公司上报弱覆盖</td>\n",
       "      <td>110.456337</td>\n",
       "      <td>30.295415</td>\n",
       "    </tr>\n",
       "  </tbody>\n",
       "</table>\n",
       "</div>"
      ],
      "text/plain": [
       "     规划站号                                       解决建议 置换入站点需求来源          经度  \\\n",
       "0  xuhao1  置换到G_五峰傅家堰集中安置点-HFH（110.456337 30.295415）  分公司上报弱覆盖  110.456337   \n",
       "\n",
       "          纬度  \n",
       "0  30.295415  "
      ]
     },
     "execution_count": 65,
     "metadata": {},
     "output_type": "execute_result"
    }
   ],
   "source": [
    "data.head(1)"
   ]
  },
  {
   "cell_type": "code",
   "execution_count": 66,
   "metadata": {
    "ExecuteTime": {
     "end_time": "2020-07-14T04:03:15.141700Z",
     "start_time": "2020-07-14T04:03:14.449112Z"
    },
    "scrolled": true
   },
   "outputs": [],
   "source": [
    "data_use = mytools.gisn.points_coverage_merge(data,'经度','纬度')"
   ]
  },
  {
   "cell_type": "code",
   "execution_count": 67,
   "metadata": {
    "ExecuteTime": {
     "end_time": "2020-07-14T04:03:25.556522Z",
     "start_time": "2020-07-14T04:03:25.283487Z"
    }
   },
   "outputs": [],
   "source": [
    "# data_use.to_clipboard()"
   ]
  },
  {
   "cell_type": "code",
   "execution_count": 68,
   "metadata": {
    "ExecuteTime": {
     "end_time": "2020-07-14T04:03:35.877333Z",
     "start_time": "2020-07-14T04:03:35.607298Z"
    }
   },
   "outputs": [],
   "source": [
    "data_use['制式'] = 'FDD900'"
   ]
  },
  {
   "cell_type": "code",
   "execution_count": 69,
   "metadata": {
    "ExecuteTime": {
     "end_time": "2020-07-14T04:03:46.081628Z",
     "start_time": "2020-07-14T04:03:45.799593Z"
    }
   },
   "outputs": [],
   "source": [
    "#修改倍数"
   ]
  },
  {
   "cell_type": "code",
   "execution_count": 70,
   "metadata": {
    "ExecuteTime": {
     "end_time": "2020-07-14T04:03:56.334930Z",
     "start_time": "2020-07-14T04:03:56.059395Z"
    }
   },
   "outputs": [],
   "source": [
    "data_use_juli = mytools.gisn.changjing_distance(data_use,'区域类型','制式',beishu=1.8)"
   ]
  },
  {
   "cell_type": "code",
   "execution_count": 71,
   "metadata": {
    "ExecuteTime": {
     "end_time": "2020-07-14T04:04:06.679744Z",
     "start_time": "2020-07-14T04:04:06.402709Z"
    }
   },
   "outputs": [],
   "source": [
    "# data_use_juli['distance']=650"
   ]
  },
  {
   "cell_type": "code",
   "execution_count": 72,
   "metadata": {
    "ExecuteTime": {
     "end_time": "2020-07-14T04:04:16.916544Z",
     "start_time": "2020-07-14T04:04:16.636508Z"
    }
   },
   "outputs": [
    {
     "data": {
      "text/html": [
       "<div>\n",
       "<style scoped>\n",
       "    .dataframe tbody tr th:only-of-type {\n",
       "        vertical-align: middle;\n",
       "    }\n",
       "\n",
       "    .dataframe tbody tr th {\n",
       "        vertical-align: top;\n",
       "    }\n",
       "\n",
       "    .dataframe thead th {\n",
       "        text-align: right;\n",
       "    }\n",
       "</style>\n",
       "<table border=\"1\" class=\"dataframe\">\n",
       "  <thead>\n",
       "    <tr style=\"text-align: right;\">\n",
       "      <th></th>\n",
       "      <th>规划站号</th>\n",
       "      <th>解决建议</th>\n",
       "      <th>置换入站点需求来源</th>\n",
       "      <th>经度</th>\n",
       "      <th>纬度</th>\n",
       "      <th>区域类型</th>\n",
       "      <th>制式</th>\n",
       "      <th>distance</th>\n",
       "    </tr>\n",
       "  </thead>\n",
       "  <tbody>\n",
       "    <tr>\n",
       "      <td>0</td>\n",
       "      <td>xuhao1</td>\n",
       "      <td>置换到G_五峰傅家堰集中安置点-HFH（110.456337 30.295415）</td>\n",
       "      <td>分公司上报弱覆盖</td>\n",
       "      <td>110.456337</td>\n",
       "      <td>30.295415</td>\n",
       "      <td>农村</td>\n",
       "      <td>FDD900</td>\n",
       "      <td>3960.0</td>\n",
       "    </tr>\n",
       "  </tbody>\n",
       "</table>\n",
       "</div>"
      ],
      "text/plain": [
       "     规划站号                                       解决建议 置换入站点需求来源          经度  \\\n",
       "0  xuhao1  置换到G_五峰傅家堰集中安置点-HFH（110.456337 30.295415）  分公司上报弱覆盖  110.456337   \n",
       "\n",
       "          纬度 区域类型      制式  distance  \n",
       "0  30.295415   农村  FDD900    3960.0  "
      ]
     },
     "execution_count": 72,
     "metadata": {},
     "output_type": "execute_result"
    }
   ],
   "source": [
    "data_use_juli.head(1)"
   ]
  },
  {
   "cell_type": "code",
   "execution_count": 73,
   "metadata": {
    "ExecuteTime": {
     "end_time": "2020-07-14T04:04:27.272859Z",
     "start_time": "2020-07-14T04:04:26.904812Z"
    }
   },
   "outputs": [],
   "source": [
    "data_buffer = mytools.gisn.add_buffer_df(data_use_juli,'经度','纬度','distance')"
   ]
  },
  {
   "cell_type": "code",
   "execution_count": null,
   "metadata": {},
   "outputs": [],
   "source": []
  },
  {
   "cell_type": "code",
   "execution_count": 74,
   "metadata": {
    "ExecuteTime": {
     "end_time": "2020-07-14T04:04:38.333764Z",
     "start_time": "2020-07-14T04:04:37.304633Z"
    }
   },
   "outputs": [],
   "source": [
    "data_sjoin = gpd.sjoin(data_buffer,gongcan_use_p)"
   ]
  },
  {
   "cell_type": "code",
   "execution_count": 75,
   "metadata": {
    "ExecuteTime": {
     "end_time": "2020-07-14T04:04:48.647073Z",
     "start_time": "2020-07-14T04:04:48.361537Z"
    }
   },
   "outputs": [
    {
     "data": {
      "text/plain": [
       "(6, 70)"
      ]
     },
     "execution_count": 75,
     "metadata": {},
     "output_type": "execute_result"
    }
   ],
   "source": [
    "data_sjoin.groupby('规划站号').count().shape"
   ]
  },
  {
   "cell_type": "code",
   "execution_count": 76,
   "metadata": {
    "ExecuteTime": {
     "end_time": "2020-07-14T04:04:58.923878Z",
     "start_time": "2020-07-14T04:04:58.652344Z"
    }
   },
   "outputs": [],
   "source": [
    "data_res = data_sjoin[['规划站号', '小区CGI(*)','区域类型']]"
   ]
  },
  {
   "cell_type": "code",
   "execution_count": 77,
   "metadata": {
    "ExecuteTime": {
     "end_time": "2020-07-14T04:05:44.314142Z",
     "start_time": "2020-07-14T04:05:08.894644Z"
    }
   },
   "outputs": [],
   "source": [
    "ruancai_cel = pd.read_excel('G:/1-规划/MRO/1、原始数据/摸底测试相关/2020年/5月/汇总双套数据5月.xlsx',encoding='gbk')"
   ]
  },
  {
   "cell_type": "code",
   "execution_count": 78,
   "metadata": {
    "ExecuteTime": {
     "end_time": "2020-07-14T04:05:54.728465Z",
     "start_time": "2020-07-14T04:05:54.446429Z"
    }
   },
   "outputs": [
    {
     "data": {
      "text/plain": [
       "Index(['CGI', '城市', 'Cell Name', '总采样点数', '低于-110采样点数', 'MR覆盖率'], dtype='object')"
      ]
     },
     "execution_count": 78,
     "metadata": {},
     "output_type": "execute_result"
    }
   ],
   "source": [
    "ruancai_cel.columns"
   ]
  },
  {
   "cell_type": "code",
   "execution_count": 79,
   "metadata": {
    "ExecuteTime": {
     "end_time": "2020-07-14T04:06:04.915258Z",
     "start_time": "2020-07-14T04:06:04.640223Z"
    }
   },
   "outputs": [],
   "source": [
    "ruancai_cel['fgl'] = 1- ruancai_cel['低于-110采样点数']/ruancai_cel['总采样点数']"
   ]
  },
  {
   "cell_type": "code",
   "execution_count": 80,
   "metadata": {
    "ExecuteTime": {
     "end_time": "2020-07-14T04:06:15.183062Z",
     "start_time": "2020-07-14T04:06:14.886024Z"
    }
   },
   "outputs": [],
   "source": [
    "ruancai_cel.loc[ruancai_cel['fgl']<0.9,'弱覆盖小区']=1"
   ]
  },
  {
   "cell_type": "code",
   "execution_count": 81,
   "metadata": {
    "ExecuteTime": {
     "end_time": "2020-07-14T04:06:25.454866Z",
     "start_time": "2020-07-14T04:06:25.068317Z"
    }
   },
   "outputs": [],
   "source": [
    "data_res_v2 = data_res.merge(ruancai_cel,how='left',left_on='小区CGI(*)',right_on='CGI')"
   ]
  },
  {
   "cell_type": "code",
   "execution_count": 82,
   "metadata": {
    "ExecuteTime": {
     "end_time": "2020-07-14T04:06:36.938324Z",
     "start_time": "2020-07-14T04:06:35.426132Z"
    }
   },
   "outputs": [],
   "source": [
    "liuliang = pd.read_csv('G:/1-规划/流量/20200518LIULIANG.CSV',encoding='gbk')"
   ]
  },
  {
   "cell_type": "code",
   "execution_count": 83,
   "metadata": {
    "ExecuteTime": {
     "end_time": "2020-07-14T04:06:47.210129Z",
     "start_time": "2020-07-14T04:06:46.927093Z"
    }
   },
   "outputs": [],
   "source": [
    "liuliang_use = liuliang[[ 'CGI', '空口上行业务字节数','空口下行业务字节数']]"
   ]
  },
  {
   "cell_type": "code",
   "execution_count": 84,
   "metadata": {
    "ExecuteTime": {
     "end_time": "2020-07-14T04:06:57.409424Z",
     "start_time": "2020-07-14T04:06:57.135889Z"
    },
    "scrolled": true
   },
   "outputs": [
    {
     "name": "stderr",
     "output_type": "stream",
     "text": [
      "C:\\ProgramData\\Anaconda3\\lib\\site-packages\\ipykernel_launcher.py:1: SettingWithCopyWarning: \n",
      "A value is trying to be set on a copy of a slice from a DataFrame.\n",
      "Try using .loc[row_indexer,col_indexer] = value instead\n",
      "\n",
      "See the caveats in the documentation: http://pandas.pydata.org/pandas-docs/stable/user_guide/indexing.html#returning-a-view-versus-a-copy\n",
      "  \"\"\"Entry point for launching an IPython kernel.\n"
     ]
    }
   ],
   "source": [
    "liuliang_use['流量总'] = liuliang_use['空口上行业务字节数'] +liuliang_use['空口下行业务字节数'] "
   ]
  },
  {
   "cell_type": "code",
   "execution_count": 85,
   "metadata": {
    "ExecuteTime": {
     "end_time": "2020-07-14T04:07:07.646724Z",
     "start_time": "2020-07-14T04:07:07.348686Z"
    }
   },
   "outputs": [],
   "source": [
    "liuliang_use_2 =  liuliang_use[[ 'CGI', '流量总']]"
   ]
  },
  {
   "cell_type": "code",
   "execution_count": 86,
   "metadata": {
    "ExecuteTime": {
     "end_time": "2020-07-14T04:07:18.064547Z",
     "start_time": "2020-07-14T04:07:17.651494Z"
    }
   },
   "outputs": [],
   "source": [
    "data_res_v3 = data_res_v2.merge(liuliang_use_2,how='left',left_on='小区CGI(*)',right_on='CGI')"
   ]
  },
  {
   "cell_type": "code",
   "execution_count": 87,
   "metadata": {
    "ExecuteTime": {
     "end_time": "2020-07-14T04:07:28.353853Z",
     "start_time": "2020-07-14T04:07:28.063317Z"
    }
   },
   "outputs": [
    {
     "data": {
      "text/html": [
       "<div>\n",
       "<style scoped>\n",
       "    .dataframe tbody tr th:only-of-type {\n",
       "        vertical-align: middle;\n",
       "    }\n",
       "\n",
       "    .dataframe tbody tr th {\n",
       "        vertical-align: top;\n",
       "    }\n",
       "\n",
       "    .dataframe thead th {\n",
       "        text-align: right;\n",
       "    }\n",
       "</style>\n",
       "<table border=\"1\" class=\"dataframe\">\n",
       "  <thead>\n",
       "    <tr style=\"text-align: right;\">\n",
       "      <th></th>\n",
       "      <th>规划站号</th>\n",
       "      <th>小区CGI(*)</th>\n",
       "      <th>区域类型</th>\n",
       "      <th>CGI_x</th>\n",
       "      <th>城市</th>\n",
       "      <th>Cell Name</th>\n",
       "      <th>总采样点数</th>\n",
       "      <th>低于-110采样点数</th>\n",
       "      <th>MR覆盖率</th>\n",
       "      <th>fgl</th>\n",
       "      <th>弱覆盖小区</th>\n",
       "      <th>CGI_y</th>\n",
       "      <th>流量总</th>\n",
       "    </tr>\n",
       "  </thead>\n",
       "  <tbody>\n",
       "    <tr>\n",
       "      <td>0</td>\n",
       "      <td>xuhao1</td>\n",
       "      <td>460-00-121458-65</td>\n",
       "      <td>农村</td>\n",
       "      <td>460-00-121458-65</td>\n",
       "      <td>宜昌</td>\n",
       "      <td>五峰火山-HFH-2</td>\n",
       "      <td>0.0</td>\n",
       "      <td>0.0</td>\n",
       "      <td>NaN</td>\n",
       "      <td>NaN</td>\n",
       "      <td>NaN</td>\n",
       "      <td>460-00-121458-65</td>\n",
       "      <td>4742.308173</td>\n",
       "    </tr>\n",
       "  </tbody>\n",
       "</table>\n",
       "</div>"
      ],
      "text/plain": [
       "     规划站号          小区CGI(*) 区域类型             CGI_x  城市   Cell Name  总采样点数  \\\n",
       "0  xuhao1  460-00-121458-65   农村  460-00-121458-65  宜昌  五峰火山-HFH-2    0.0   \n",
       "\n",
       "   低于-110采样点数  MR覆盖率  fgl  弱覆盖小区             CGI_y          流量总  \n",
       "0         0.0    NaN  NaN    NaN  460-00-121458-65  4742.308173  "
      ]
     },
     "execution_count": 87,
     "metadata": {},
     "output_type": "execute_result"
    }
   ],
   "source": [
    "data_res_v3.head(1)"
   ]
  },
  {
   "cell_type": "code",
   "execution_count": 88,
   "metadata": {
    "ExecuteTime": {
     "end_time": "2020-07-14T04:07:38.544147Z",
     "start_time": "2020-07-14T04:07:38.272113Z"
    }
   },
   "outputs": [],
   "source": [
    "data_res_v3.loc[data_res_v3['总采样点数'].notna(),'有采样点小区数']=1"
   ]
  },
  {
   "cell_type": "code",
   "execution_count": 89,
   "metadata": {
    "ExecuteTime": {
     "end_time": "2020-07-14T04:07:48.772446Z",
     "start_time": "2020-07-14T04:07:48.477409Z"
    }
   },
   "outputs": [],
   "source": [
    "data_res_v4 = data_res_v3.groupby('规划站号').agg(\n",
    "    {'总采样点数':'sum','低于-110采样点数':'sum','小区CGI(*)':'count','有采样点小区数':'sum',\n",
    "     '弱覆盖小区':'count','流量总':'sum'}).reset_index()"
   ]
  },
  {
   "cell_type": "code",
   "execution_count": 90,
   "metadata": {
    "ExecuteTime": {
     "end_time": "2020-07-14T04:07:58.929736Z",
     "start_time": "2020-07-14T04:07:58.655201Z"
    }
   },
   "outputs": [],
   "source": [
    "data_res_v5 = data_res_v4.merge(data_use[['规划站号','区域类型']],how='left',on='规划站号')"
   ]
  },
  {
   "cell_type": "code",
   "execution_count": 93,
   "metadata": {
    "ExecuteTime": {
     "end_time": "2020-07-14T04:08:53.636183Z",
     "start_time": "2020-07-14T04:08:53.362148Z"
    }
   },
   "outputs": [],
   "source": [
    "data_res_v5.to_clipboard()"
   ]
  },
  {
   "cell_type": "code",
   "execution_count": null,
   "metadata": {},
   "outputs": [],
   "source": []
  },
  {
   "cell_type": "code",
   "execution_count": 92,
   "metadata": {
    "ExecuteTime": {
     "end_time": "2020-07-14T04:08:19.428339Z",
     "start_time": "2020-07-14T04:08:19.138302Z"
    }
   },
   "outputs": [],
   "source": [
    "data_res_v3.to_clipboard()"
   ]
  },
  {
   "cell_type": "code",
   "execution_count": 103,
   "metadata": {
    "ExecuteTime": {
     "end_time": "2020-07-14T04:12:12.976496Z",
     "start_time": "2020-07-14T04:12:12.698961Z"
    }
   },
   "outputs": [
    {
     "data": {
      "text/html": [
       "<div>\n",
       "<style scoped>\n",
       "    .dataframe tbody tr th:only-of-type {\n",
       "        vertical-align: middle;\n",
       "    }\n",
       "\n",
       "    .dataframe tbody tr th {\n",
       "        vertical-align: top;\n",
       "    }\n",
       "\n",
       "    .dataframe thead th {\n",
       "        text-align: right;\n",
       "    }\n",
       "</style>\n",
       "<table border=\"1\" class=\"dataframe\">\n",
       "  <thead>\n",
       "    <tr style=\"text-align: right;\">\n",
       "      <th></th>\n",
       "      <th>规划站号</th>\n",
       "      <th>小区CGI(*)</th>\n",
       "      <th>区域类型</th>\n",
       "    </tr>\n",
       "  </thead>\n",
       "  <tbody>\n",
       "  </tbody>\n",
       "</table>\n",
       "</div>"
      ],
      "text/plain": [
       "Empty DataFrame\n",
       "Columns: [规划站号, 小区CGI(*), 区域类型]\n",
       "Index: []"
      ]
     },
     "execution_count": 103,
     "metadata": {},
     "output_type": "execute_result"
    }
   ],
   "source": [
    "data_res[data_res['规划站号']=='xuhao2']"
   ]
  },
  {
   "cell_type": "code",
   "execution_count": 105,
   "metadata": {
    "ExecuteTime": {
     "end_time": "2020-07-14T04:12:39.365847Z",
     "start_time": "2020-07-14T04:12:39.084311Z"
    }
   },
   "outputs": [
    {
     "data": {
      "text/html": [
       "<div>\n",
       "<style scoped>\n",
       "    .dataframe tbody tr th:only-of-type {\n",
       "        vertical-align: middle;\n",
       "    }\n",
       "\n",
       "    .dataframe tbody tr th {\n",
       "        vertical-align: top;\n",
       "    }\n",
       "\n",
       "    .dataframe thead th {\n",
       "        text-align: right;\n",
       "    }\n",
       "</style>\n",
       "<table border=\"1\" class=\"dataframe\">\n",
       "  <thead>\n",
       "    <tr style=\"text-align: right;\">\n",
       "      <th></th>\n",
       "      <th>规划站号</th>\n",
       "      <th>解决建议</th>\n",
       "      <th>置换入站点需求来源</th>\n",
       "      <th>经度</th>\n",
       "      <th>纬度</th>\n",
       "      <th>区域类型</th>\n",
       "      <th>制式</th>\n",
       "      <th>distance</th>\n",
       "      <th>geometry</th>\n",
       "    </tr>\n",
       "  </thead>\n",
       "  <tbody>\n",
       "    <tr>\n",
       "      <td>0</td>\n",
       "      <td>xuhao1</td>\n",
       "      <td>置换到G_五峰傅家堰集中安置点-HFH（110.456337 30.295415）</td>\n",
       "      <td>分公司上报弱覆盖</td>\n",
       "      <td>110.456337</td>\n",
       "      <td>30.295415</td>\n",
       "      <td>农村</td>\n",
       "      <td>FDD900</td>\n",
       "      <td>3960.0</td>\n",
       "      <td>POLYGON ((110.49725 30.29746, 110.49728 30.293...</td>\n",
       "    </tr>\n",
       "    <tr>\n",
       "      <td>1</td>\n",
       "      <td>xuhao2</td>\n",
       "      <td>置换到G_枝江三宁乙二醇空分区-HFH（111.609662 30.393528）</td>\n",
       "      <td>省网优投诉</td>\n",
       "      <td>111.609662</td>\n",
       "      <td>30.393528</td>\n",
       "      <td>县城</td>\n",
       "      <td>FDD900</td>\n",
       "      <td>720.0</td>\n",
       "      <td>POLYGON ((111.61712 30.39384, 111.61712 30.393...</td>\n",
       "    </tr>\n",
       "    <tr>\n",
       "      <td>2</td>\n",
       "      <td>xuhao3</td>\n",
       "      <td>置换到G_枝江三宁乙二醇综合楼-HFH（111.607482 30.400893）</td>\n",
       "      <td>省网优投诉</td>\n",
       "      <td>111.607482</td>\n",
       "      <td>30.400893</td>\n",
       "      <td>县城</td>\n",
       "      <td>FDD900</td>\n",
       "      <td>720.0</td>\n",
       "      <td>POLYGON ((111.61494 30.40120, 111.61494 30.400...</td>\n",
       "    </tr>\n",
       "    <tr>\n",
       "      <td>3</td>\n",
       "      <td>xuhao4</td>\n",
       "      <td>置换到G_夷陵新妇幼-HFH(111.338348 30.756324)</td>\n",
       "      <td>分公司上报弱覆盖</td>\n",
       "      <td>111.338348</td>\n",
       "      <td>30.756324</td>\n",
       "      <td>主城区</td>\n",
       "      <td>FDD900</td>\n",
       "      <td>540.0</td>\n",
       "      <td>POLYGON ((111.34396 30.75657, 111.34396 30.756...</td>\n",
       "    </tr>\n",
       "    <tr>\n",
       "      <td>4</td>\n",
       "      <td>xuhao5</td>\n",
       "      <td>置换到S_夷陵新妇幼-HFH(111.338348 30.756324)</td>\n",
       "      <td>分公司上报弱覆盖</td>\n",
       "      <td>111.338348</td>\n",
       "      <td>30.756324</td>\n",
       "      <td>主城区</td>\n",
       "      <td>FDD900</td>\n",
       "      <td>540.0</td>\n",
       "      <td>POLYGON ((111.34396 30.75657, 111.34396 30.756...</td>\n",
       "    </tr>\n",
       "    <tr>\n",
       "      <td>5</td>\n",
       "      <td>xuhao6</td>\n",
       "      <td>置换到S_开发区环球港-HFH（111.324007 30.679548）</td>\n",
       "      <td>分公司上报弱覆盖</td>\n",
       "      <td>111.324007</td>\n",
       "      <td>30.679548</td>\n",
       "      <td>主城区</td>\n",
       "      <td>FDD900</td>\n",
       "      <td>540.0</td>\n",
       "      <td>POLYGON ((111.32962 30.67979, 111.32962 30.679...</td>\n",
       "    </tr>\n",
       "    <tr>\n",
       "      <td>6</td>\n",
       "      <td>xuhao7</td>\n",
       "      <td>置换到S_开发区三峡果蔬</td>\n",
       "      <td>省网优投诉</td>\n",
       "      <td>111.338540</td>\n",
       "      <td>30.697280</td>\n",
       "      <td>一般城区</td>\n",
       "      <td>FDD900</td>\n",
       "      <td>774.0</td>\n",
       "      <td>POLYGON ((111.34658 30.69763, 111.34658 30.696...</td>\n",
       "    </tr>\n",
       "  </tbody>\n",
       "</table>\n",
       "</div>"
      ],
      "text/plain": [
       "     规划站号                                       解决建议 置换入站点需求来源          经度  \\\n",
       "0  xuhao1  置换到G_五峰傅家堰集中安置点-HFH（110.456337 30.295415）  分公司上报弱覆盖  110.456337   \n",
       "1  xuhao2  置换到G_枝江三宁乙二醇空分区-HFH（111.609662 30.393528）     省网优投诉  111.609662   \n",
       "2  xuhao3  置换到G_枝江三宁乙二醇综合楼-HFH（111.607482 30.400893）     省网优投诉  111.607482   \n",
       "3  xuhao4       置换到G_夷陵新妇幼-HFH(111.338348 30.756324)  分公司上报弱覆盖  111.338348   \n",
       "4  xuhao5       置换到S_夷陵新妇幼-HFH(111.338348 30.756324)  分公司上报弱覆盖  111.338348   \n",
       "5  xuhao6      置换到S_开发区环球港-HFH（111.324007 30.679548）  分公司上报弱覆盖  111.324007   \n",
       "6  xuhao7                               置换到S_开发区三峡果蔬     省网优投诉  111.338540   \n",
       "\n",
       "          纬度  区域类型      制式  distance  \\\n",
       "0  30.295415    农村  FDD900    3960.0   \n",
       "1  30.393528    县城  FDD900     720.0   \n",
       "2  30.400893    县城  FDD900     720.0   \n",
       "3  30.756324   主城区  FDD900     540.0   \n",
       "4  30.756324   主城区  FDD900     540.0   \n",
       "5  30.679548   主城区  FDD900     540.0   \n",
       "6  30.697280  一般城区  FDD900     774.0   \n",
       "\n",
       "                                            geometry  \n",
       "0  POLYGON ((110.49725 30.29746, 110.49728 30.293...  \n",
       "1  POLYGON ((111.61712 30.39384, 111.61712 30.393...  \n",
       "2  POLYGON ((111.61494 30.40120, 111.61494 30.400...  \n",
       "3  POLYGON ((111.34396 30.75657, 111.34396 30.756...  \n",
       "4  POLYGON ((111.34396 30.75657, 111.34396 30.756...  \n",
       "5  POLYGON ((111.32962 30.67979, 111.32962 30.679...  \n",
       "6  POLYGON ((111.34658 30.69763, 111.34658 30.696...  "
      ]
     },
     "execution_count": 105,
     "metadata": {},
     "output_type": "execute_result"
    }
   ],
   "source": [
    "data_buffer"
   ]
  },
  {
   "cell_type": "code",
   "execution_count": null,
   "metadata": {},
   "outputs": [],
   "source": []
  },
  {
   "cell_type": "code",
   "execution_count": null,
   "metadata": {},
   "outputs": [],
   "source": []
  },
  {
   "cell_type": "code",
   "execution_count": null,
   "metadata": {},
   "outputs": [],
   "source": []
  }
 ],
 "metadata": {
  "kernelspec": {
   "display_name": "Python 3",
   "language": "python",
   "name": "python3"
  },
  "language_info": {
   "codemirror_mode": {
    "name": "ipython",
    "version": 3
   },
   "file_extension": ".py",
   "mimetype": "text/x-python",
   "name": "python",
   "nbconvert_exporter": "python",
   "pygments_lexer": "ipython3",
   "version": "3.7.4"
  },
  "toc": {
   "base_numbering": 1,
   "nav_menu": {},
   "number_sections": true,
   "sideBar": true,
   "skip_h1_title": false,
   "title_cell": "Table of Contents",
   "title_sidebar": "Contents",
   "toc_cell": false,
   "toc_position": {},
   "toc_section_display": true,
   "toc_window_display": false
  },
  "varInspector": {
   "cols": {
    "lenName": 16,
    "lenType": 16,
    "lenVar": 40
   },
   "kernels_config": {
    "python": {
     "delete_cmd_postfix": "",
     "delete_cmd_prefix": "del ",
     "library": "var_list.py",
     "varRefreshCmd": "print(var_dic_list())"
    },
    "r": {
     "delete_cmd_postfix": ") ",
     "delete_cmd_prefix": "rm(",
     "library": "var_list.r",
     "varRefreshCmd": "cat(var_dic_list()) "
    }
   },
   "types_to_exclude": [
    "module",
    "function",
    "builtin_function_or_method",
    "instance",
    "_Feature"
   ],
   "window_display": false
  }
 },
 "nbformat": 4,
 "nbformat_minor": 2
}
