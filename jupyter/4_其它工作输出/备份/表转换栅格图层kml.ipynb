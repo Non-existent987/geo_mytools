{
 "cells": [
  {
   "cell_type": "code",
   "execution_count": 1,
   "metadata": {},
   "outputs": [],
   "source": [
    "%load_ext autoreload\n",
    "%autoreload 2"
   ]
  },
  {
   "cell_type": "code",
   "execution_count": 2,
   "metadata": {},
   "outputs": [],
   "source": [
    "import pandas as pd\n",
    "import geopandas as gpd\n",
    "import mytools"
   ]
  },
  {
   "cell_type": "code",
   "execution_count": 3,
   "metadata": {},
   "outputs": [],
   "source": [
    "data = pd.read_csv('G:/1-规划/1其他工作输出/20200513襄阳的FDD90图层/zmxy.csv',encoding='gbk',header=None)"
   ]
  },
  {
   "cell_type": "code",
   "execution_count": 4,
   "metadata": {},
   "outputs": [],
   "source": [
    "data.replace('[\\']','', regex=True,inplace=True)\n",
    "# data.columns = map(lambda x: x.replace('\\'',''),data.columns.to_list())\n",
    "data.columns=['日期','名称','grid','lon','lat','电平','总点','弱点']"
   ]
  },
  {
   "cell_type": "code",
   "execution_count": 5,
   "metadata": {},
   "outputs": [],
   "source": [
    "data['总点'] = pd.to_numeric(data['总点'])\n",
    "data['弱点'] = pd.to_numeric(data['弱点'])\n",
    "data['fgl'] = 1-data['弱点']/data['总点']"
   ]
  },
  {
   "cell_type": "code",
   "execution_count": 6,
   "metadata": {},
   "outputs": [],
   "source": [
    "mytools.gisn.df_to_kml(data,\n",
    "    file='d:/扇区图层.kml',\n",
    "    name='grid',\n",
    "    lon='lon',\n",
    "    lat='lat',\n",
    "    fgl='fgl',\n",
    "    red=0.7,\n",
    "    green=0.936,\n",
    "    tm='ff00ffff',\n",
    "    toumingdu=125)"
   ]
  },
  {
   "cell_type": "code",
   "execution_count": null,
   "metadata": {},
   "outputs": [],
   "source": []
  },
  {
   "cell_type": "code",
   "execution_count": null,
   "metadata": {},
   "outputs": [],
   "source": []
  },
  {
   "cell_type": "code",
   "execution_count": null,
   "metadata": {},
   "outputs": [],
   "source": []
  }
 ],
 "metadata": {
  "kernelspec": {
   "display_name": "Python 3",
   "language": "python",
   "name": "python3"
  },
  "language_info": {
   "codemirror_mode": {
    "name": "ipython",
    "version": 3
   },
   "file_extension": ".py",
   "mimetype": "text/x-python",
   "name": "python",
   "nbconvert_exporter": "python",
   "pygments_lexer": "ipython3",
   "version": "3.7.3"
  }
 },
 "nbformat": 4,
 "nbformat_minor": 2
}
