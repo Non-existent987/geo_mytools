{
 "cells": [
  {
   "cell_type": "code",
   "execution_count": null,
   "metadata": {},
   "outputs": [],
   "source": [
    "import mytools\n",
    "import pandas as pd"
   ]
  },
  {
   "cell_type": "code",
   "execution_count": null,
   "metadata": {},
   "outputs": [],
   "source": [
    "data_zcq = pd.read_clipboard()"
   ]
  },
  {
   "cell_type": "code",
   "execution_count": null,
   "metadata": {},
   "outputs": [],
   "source": []
  },
  {
   "cell_type": "code",
   "execution_count": null,
   "metadata": {},
   "outputs": [],
   "source": [
    "data_zcq = pd.read_excel('e:/站间距.xlsx',encoding='gbk',sheet_name='主城区')\n",
    "data_ybcq = pd.read_excel('e:/站间距.xlsx',encoding='gbk',sheet_name='一般城区')\n",
    "data_xc = pd.read_excel('e:/站间距.xlsx',encoding='gbk',sheet_name='县城')"
   ]
  },
  {
   "cell_type": "code",
   "execution_count": null,
   "metadata": {},
   "outputs": [],
   "source": [
    "data_zcq_res=mytools.gisn.nearest_site_one(\n",
    "    data_zcq,\n",
    "    id_name_column='id',\n",
    "    lon='经度',\n",
    "    lat='纬度',\n",
    "    num_min_results=3,\n",
    "    Including_itself=False,\n",
    ")\n",
    "data_zcq_res.to_clipboard()"
   ]
  },
  {
   "cell_type": "code",
   "execution_count": null,
   "metadata": {},
   "outputs": [],
   "source": [
    "data_ybcq_res=mytools.gisn.nearest_site_one(data_ybcq,\n",
    "    id_name_column='id',\n",
    "    lon='经度',\n",
    "    lat='纬度',\n",
    "    num_min_results=3,\n",
    "    Including_itself=False)\n",
    "data_ybcq_res.to_clipboard()"
   ]
  },
  {
   "cell_type": "code",
   "execution_count": null,
   "metadata": {},
   "outputs": [],
   "source": [
    "data_xc_res=mytools.gisn.nearest_site_one(data_xc,\n",
    "    id_name_column='衔接站名',\n",
    "    lon='经度',\n",
    "    lat='纬度',\n",
    "    num_min_results=3,\n",
    "    Including_itself=False)\n",
    "data_xc_res.to_clipboard()"
   ]
  },
  {
   "cell_type": "code",
   "execution_count": null,
   "metadata": {},
   "outputs": [],
   "source": [
    "data_xc_res['zong'] = 'zong'"
   ]
  },
  {
   "cell_type": "code",
   "execution_count": null,
   "metadata": {},
   "outputs": [],
   "source": [
    "data_xc_res.groupby('zong').agg({'mean':'mean'})"
   ]
  }
 ],
 "metadata": {
  "kernelspec": {
   "display_name": "Python 3",
   "language": "python",
   "name": "python3"
  },
  "language_info": {
   "codemirror_mode": {
    "name": "ipython",
    "version": 3
   },
   "file_extension": ".py",
   "mimetype": "text/x-python",
   "name": "python",
   "nbconvert_exporter": "python",
   "pygments_lexer": "ipython3",
   "version": "3.7.3"
  }
 },
 "nbformat": 4,
 "nbformat_minor": 2
}
