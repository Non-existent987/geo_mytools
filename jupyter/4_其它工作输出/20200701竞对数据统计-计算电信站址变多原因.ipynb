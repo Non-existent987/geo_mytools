{
 "cells": [
  {
   "cell_type": "code",
   "execution_count": 1,
   "metadata": {
    "ExecuteTime": {
     "end_time": "2020-07-03T12:34:18.304867Z",
     "start_time": "2020-07-03T12:34:17.359747Z"
    }
   },
   "outputs": [],
   "source": [
    "import pandas as pd  "
   ]
  },
  {
   "cell_type": "code",
   "execution_count": 2,
   "metadata": {
    "ExecuteTime": {
     "end_time": "2020-07-03T12:34:18.709419Z",
     "start_time": "2020-07-03T12:34:18.321869Z"
    }
   },
   "outputs": [],
   "source": [
    "import mytools"
   ]
  },
  {
   "cell_type": "code",
   "execution_count": 17,
   "metadata": {
    "ExecuteTime": {
     "end_time": "2020-07-03T13:42:44.580798Z",
     "start_time": "2020-07-03T13:42:44.470284Z"
    }
   },
   "outputs": [],
   "source": [
    "un_20 = pd.read_csv(r'G:\\1-规划\\评估\\竞对站点评估\\20200617\\1-基础数据\\2-联通数据\\联通-汇总-使用.csv',encoding='gbk')"
   ]
  },
  {
   "cell_type": "code",
   "execution_count": 4,
   "metadata": {
    "ExecuteTime": {
     "end_time": "2020-07-03T12:34:38.570941Z",
     "start_time": "2020-07-03T12:34:30.754448Z"
    }
   },
   "outputs": [],
   "source": [
    "te_20 = pd.read_excel(r'G:\\1-规划\\评估\\竞对站点评估\\20200617\\1-基础数据\\3-电信数据\\电信汇总-整理了基站名称-选取宏站按照经纬度去重.xlsx',encoding='gbk')"
   ]
  },
  {
   "cell_type": "code",
   "execution_count": 18,
   "metadata": {
    "ExecuteTime": {
     "end_time": "2020-07-03T13:42:46.701567Z",
     "start_time": "2020-07-03T13:42:46.672564Z"
    }
   },
   "outputs": [
    {
     "data": {
      "text/html": [
       "<div>\n",
       "<style scoped>\n",
       "    .dataframe tbody tr th:only-of-type {\n",
       "        vertical-align: middle;\n",
       "    }\n",
       "\n",
       "    .dataframe tbody tr th {\n",
       "        vertical-align: top;\n",
       "    }\n",
       "\n",
       "    .dataframe thead th {\n",
       "        text-align: right;\n",
       "    }\n",
       "</style>\n",
       "<table border=\"1\" class=\"dataframe\">\n",
       "  <thead>\n",
       "    <tr style=\"text-align: right;\">\n",
       "      <th></th>\n",
       "      <th>eNodeB ID</th>\n",
       "      <th>基站名称</th>\n",
       "      <th>站型（宏站/室分/微站）</th>\n",
       "      <th>频段</th>\n",
       "      <th>频点</th>\n",
       "      <th>经度</th>\n",
       "      <th>纬度</th>\n",
       "      <th>区域(区县）</th>\n",
       "      <th>是否独立站址</th>\n",
       "      <th>厂家</th>\n",
       "      <th>高中低</th>\n",
       "    </tr>\n",
       "  </thead>\n",
       "  <tbody>\n",
       "    <tr>\n",
       "      <td>0</td>\n",
       "      <td>998802</td>\n",
       "      <td>LF-黄州赤壁村</td>\n",
       "      <td>宏站</td>\n",
       "      <td>L1800</td>\n",
       "      <td>1830</td>\n",
       "      <td>114.856477</td>\n",
       "      <td>30.458255</td>\n",
       "      <td>黄州区</td>\n",
       "      <td>NaN</td>\n",
       "      <td>中兴</td>\n",
       "      <td>中</td>\n",
       "    </tr>\n",
       "  </tbody>\n",
       "</table>\n",
       "</div>"
      ],
      "text/plain": [
       "   eNodeB ID      基站名称 站型（宏站/室分/微站）     频段    频点          经度         纬度  \\\n",
       "0     998802  LF-黄州赤壁村           宏站  L1800  1830  114.856477  30.458255   \n",
       "\n",
       "  区域(区县）  是否独立站址  厂家 高中低  \n",
       "0    黄州区     NaN  中兴   中  "
      ]
     },
     "execution_count": 18,
     "metadata": {},
     "output_type": "execute_result"
    }
   ],
   "source": [
    "un_20.head(1)"
   ]
  },
  {
   "cell_type": "code",
   "execution_count": 6,
   "metadata": {
    "ExecuteTime": {
     "end_time": "2020-07-03T12:34:38.762465Z",
     "start_time": "2020-07-03T12:34:38.744963Z"
    },
    "scrolled": true
   },
   "outputs": [
    {
     "data": {
      "text/html": [
       "<div>\n",
       "<style scoped>\n",
       "    .dataframe tbody tr th:only-of-type {\n",
       "        vertical-align: middle;\n",
       "    }\n",
       "\n",
       "    .dataframe tbody tr th {\n",
       "        vertical-align: top;\n",
       "    }\n",
       "\n",
       "    .dataframe thead th {\n",
       "        text-align: right;\n",
       "    }\n",
       "</style>\n",
       "<table border=\"1\" class=\"dataframe\">\n",
       "  <thead>\n",
       "    <tr style=\"text-align: right;\">\n",
       "      <th></th>\n",
       "      <th>基站名称</th>\n",
       "      <th>站型（宏站/室分/微站）</th>\n",
       "      <th>频段</th>\n",
       "      <th>频点</th>\n",
       "      <th>更正频点</th>\n",
       "      <th>lonlat</th>\n",
       "      <th>经度</th>\n",
       "      <th>纬度</th>\n",
       "      <th>区域(区县）</th>\n",
       "      <th>是否独立站址</th>\n",
       "      <th>厂家</th>\n",
       "      <th>高中低</th>\n",
       "    </tr>\n",
       "  </thead>\n",
       "  <tbody>\n",
       "    <tr>\n",
       "      <td>0</td>\n",
       "      <td>F咸宁咸安官埠镇BBU01_官埠四组</td>\n",
       "      <td>宏站</td>\n",
       "      <td>3</td>\n",
       "      <td>1870.0</td>\n",
       "      <td>1850</td>\n",
       "      <td>114.33125129.11211</td>\n",
       "      <td>114.331251</td>\n",
       "      <td>29.11211</td>\n",
       "      <td>咸安</td>\n",
       "      <td>是</td>\n",
       "      <td>中兴</td>\n",
       "      <td>中</td>\n",
       "    </tr>\n",
       "  </tbody>\n",
       "</table>\n",
       "</div>"
      ],
      "text/plain": [
       "                 基站名称 站型（宏站/室分/微站） 频段      频点    更正频点              lonlat  \\\n",
       "0  F咸宁咸安官埠镇BBU01_官埠四组           宏站  3  1870.0    1850  114.33125129.11211   \n",
       "\n",
       "           经度        纬度 区域(区县） 是否独立站址  厂家 高中低  \n",
       "0  114.331251  29.11211     咸安      是  中兴   中  "
      ]
     },
     "execution_count": 6,
     "metadata": {},
     "output_type": "execute_result"
    }
   ],
   "source": [
    "te_20.head(1)"
   ]
  },
  {
   "cell_type": "code",
   "execution_count": 7,
   "metadata": {
    "ExecuteTime": {
     "end_time": "2020-07-03T13:29:16.094133Z",
     "start_time": "2020-07-03T13:29:16.084632Z"
    }
   },
   "outputs": [
    {
     "data": {
      "text/plain": [
       "(37745, 10)"
      ]
     },
     "execution_count": 7,
     "metadata": {},
     "output_type": "execute_result"
    }
   ],
   "source": [
    "un_20.shape"
   ]
  },
  {
   "cell_type": "code",
   "execution_count": 8,
   "metadata": {
    "ExecuteTime": {
     "end_time": "2020-07-03T13:29:20.001130Z",
     "start_time": "2020-07-03T13:29:19.991128Z"
    }
   },
   "outputs": [
    {
     "data": {
      "text/plain": [
       "(36556, 12)"
      ]
     },
     "execution_count": 8,
     "metadata": {},
     "output_type": "execute_result"
    }
   ],
   "source": [
    "te_20.shape"
   ]
  },
  {
   "cell_type": "code",
   "execution_count": 10,
   "metadata": {
    "ExecuteTime": {
     "end_time": "2020-07-03T13:32:48.851650Z",
     "start_time": "2020-07-03T13:32:48.776141Z"
    }
   },
   "outputs": [],
   "source": [
    "tu = mytools.gisn.maps('地市区县')"
   ]
  },
  {
   "cell_type": "code",
   "execution_count": 11,
   "metadata": {
    "ExecuteTime": {
     "end_time": "2020-07-03T13:32:52.420603Z",
     "start_time": "2020-07-03T13:32:48.961664Z"
    }
   },
   "outputs": [],
   "source": [
    "te_20_use = mytools.gisn.points_coverage_merge(te_20,'经度','纬度',coverage=tu,df_merge_coverage_columns=['地市','区县'],merge_only_right_mark='')"
   ]
  },
  {
   "cell_type": "code",
   "execution_count": 19,
   "metadata": {
    "ExecuteTime": {
     "end_time": "2020-07-03T13:42:54.431049Z",
     "start_time": "2020-07-03T13:42:50.945106Z"
    }
   },
   "outputs": [],
   "source": [
    "un_20_use = mytools.gisn.points_coverage_merge(un_20,'经度','纬度',coverage=tu,df_merge_coverage_columns=['地市','区县'],merge_only_right_mark='')"
   ]
  },
  {
   "cell_type": "code",
   "execution_count": 14,
   "metadata": {
    "ExecuteTime": {
     "end_time": "2020-07-03T13:37:35.107500Z",
     "start_time": "2020-07-03T13:37:35.065995Z"
    }
   },
   "outputs": [],
   "source": [
    "te_20_use.groupby(['高中低','地市']).agg({'基站名称':'count'}).to_clipboard()"
   ]
  },
  {
   "cell_type": "code",
   "execution_count": 15,
   "metadata": {
    "ExecuteTime": {
     "end_time": "2020-07-03T13:38:39.482175Z",
     "start_time": "2020-07-03T13:38:39.439169Z"
    }
   },
   "outputs": [],
   "source": [
    "te_20_use.groupby(['地市']).agg({'基站名称':'count'}).to_clipboard()"
   ]
  },
  {
   "cell_type": "code",
   "execution_count": 20,
   "metadata": {
    "ExecuteTime": {
     "end_time": "2020-07-03T13:42:54.602571Z",
     "start_time": "2020-07-03T13:42:54.579068Z"
    }
   },
   "outputs": [],
   "source": [
    "un_20_use.groupby(['高中低','地市']).agg({'基站名称':'count'}).to_clipboard()"
   ]
  },
  {
   "cell_type": "code",
   "execution_count": 21,
   "metadata": {
    "ExecuteTime": {
     "end_time": "2020-07-03T13:43:17.835521Z",
     "start_time": "2020-07-03T13:43:17.790015Z"
    }
   },
   "outputs": [],
   "source": [
    "te_20_use.groupby(['地市']).agg({'基站名称':'count'}).to_clipboard()"
   ]
  }
 ],
 "metadata": {
  "kernelspec": {
   "display_name": "Python 3",
   "language": "python",
   "name": "python3"
  },
  "language_info": {
   "codemirror_mode": {
    "name": "ipython",
    "version": 3
   },
   "file_extension": ".py",
   "mimetype": "text/x-python",
   "name": "python",
   "nbconvert_exporter": "python",
   "pygments_lexer": "ipython3",
   "version": "3.7.4"
  },
  "toc": {
   "base_numbering": 1,
   "nav_menu": {},
   "number_sections": true,
   "sideBar": true,
   "skip_h1_title": false,
   "title_cell": "Table of Contents",
   "title_sidebar": "Contents",
   "toc_cell": false,
   "toc_position": {},
   "toc_section_display": true,
   "toc_window_display": false
  },
  "varInspector": {
   "cols": {
    "lenName": 16,
    "lenType": 16,
    "lenVar": 40
   },
   "kernels_config": {
    "python": {
     "delete_cmd_postfix": "",
     "delete_cmd_prefix": "del ",
     "library": "var_list.py",
     "varRefreshCmd": "print(var_dic_list())"
    },
    "r": {
     "delete_cmd_postfix": ") ",
     "delete_cmd_prefix": "rm(",
     "library": "var_list.r",
     "varRefreshCmd": "cat(var_dic_list()) "
    }
   },
   "types_to_exclude": [
    "module",
    "function",
    "builtin_function_or_method",
    "instance",
    "_Feature"
   ],
   "window_display": false
  }
 },
 "nbformat": 4,
 "nbformat_minor": 2
}
