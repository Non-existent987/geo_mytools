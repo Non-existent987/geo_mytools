{
 "cells": [
  {
   "cell_type": "code",
   "execution_count": null,
   "metadata": {
    "ExecuteTime": {
     "end_time": "2020-08-26T08:30:31.370245Z",
     "start_time": "2020-08-26T08:30:31.189722Z"
    }
   },
   "outputs": [],
   "source": [
    "%load_ext autoreload\n",
    "%autoreload 2shange"
   ]
  },
  {
   "cell_type": "code",
   "execution_count": null,
   "metadata": {
    "ExecuteTime": {
     "end_time": "2020-08-26T08:30:33.080462Z",
     "start_time": "2020-08-26T08:30:31.395748Z"
    }
   },
   "outputs": [],
   "source": [
    "# import osmnx as oximport pandas as pd\n",
    "import geopandas as gpd\n",
    "import mytools\n",
    "import math\n",
    "import numpy as np\n",
    "from shapely.ops import unary_union\n",
    "import pandas as pd"
   ]
  },
  {
   "cell_type": "code",
   "execution_count": null,
   "metadata": {
    "ExecuteTime": {
     "end_time": "2020-08-26T08:30:33.638033Z",
     "start_time": "2020-08-26T08:30:33.100965Z"
    }
   },
   "outputs": [],
   "source": [
    "from shapely.geometry import Polygon,Point,LineString,MultiPolygon\n",
    "import matplotlib.pyplot as plt\n",
    "from descartes import PolygonPatch\n",
    "import matplotlib.pyplot as plt\n",
    "import simplekml"
   ]
  },
  {
   "cell_type": "markdown",
   "metadata": {},
   "source": [
    "# 导入区域底图图层"
   ]
  },
  {
   "cell_type": "code",
   "execution_count": null,
   "metadata": {
    "ExecuteTime": {
     "end_time": "2020-08-26T08:30:33.762049Z",
     "start_time": "2020-08-26T08:30:33.659536Z"
    }
   },
   "outputs": [],
   "source": [
    "quxian = mytools.gisn.maps('湖北地市')"
   ]
  },
  {
   "cell_type": "code",
   "execution_count": null,
   "metadata": {
    "ExecuteTime": {
     "end_time": "2020-08-26T08:30:34.476139Z",
     "start_time": "2020-08-26T08:30:34.122595Z"
    }
   },
   "outputs": [],
   "source": [
    "quxian"
   ]
  },
  {
   "cell_type": "code",
   "execution_count": null,
   "metadata": {
    "ExecuteTime": {
     "end_time": "2020-08-26T08:30:34.839686Z",
     "start_time": "2020-08-26T08:30:34.834185Z"
    }
   },
   "outputs": [],
   "source": [
    "qingshan = quxian.loc[quxian['city']=='黄冈']"
   ]
  },
  {
   "cell_type": "code",
   "execution_count": null,
   "metadata": {
    "ExecuteTime": {
     "end_time": "2020-08-26T08:30:35.566778Z",
     "start_time": "2020-08-26T08:30:35.223234Z"
    }
   },
   "outputs": [],
   "source": [
    "qingshan.plot(figsize =(13,13),color= '#BFBFBF',edgecolor='#000000', lw=0.4)#,k = 4, cmap = plt.cm.Greens"
   ]
  },
  {
   "cell_type": "markdown",
   "metadata": {},
   "source": [
    "# 使用线条划分底图为栅格"
   ]
  },
  {
   "cell_type": "code",
   "execution_count": null,
   "metadata": {
    "ExecuteTime": {
     "end_time": "2020-08-26T08:31:34.236228Z",
     "start_time": "2020-08-26T08:30:35.941326Z"
    }
   },
   "outputs": [],
   "source": [
    "#转化坐标系\n",
    "qingshan = qingshan.to_crs({'init': 'epsg:32650'})\n",
    "#去除geometry\n",
    "geometry = qingshan['geometry'].iloc[0]\n",
    "if isinstance(geometry, Polygon):\n",
    "    geometry = MultiPolygon([geometry])\n",
    "#用线划分geometry生成Mutipolygon\n",
    "geometry_cut = mytools.gisn.quadrat_cut_geometry(geometry, quadrat_width=1000)\n",
    "#替换geometry\n",
    "qingshan['geometry'].iloc[0] = geometry_cut\n",
    "#拆分MultiPolygon\n",
    "qingshan_grid = qingshan.explode()\n",
    "#转回坐标系\n",
    "qingshan_grid = qingshan_grid.to_crs({'init': 'epsg:4326'})\n",
    "#保留部分列\n",
    "qingshan_res = qingshan_grid.reset_index()[['city','geometry']]\n",
    "#添加id编号\n",
    "qingshan_res['id'] = [ 'region_grid_{}'.format(str(name)) for name in qingshan_res.index+1]\n",
    "#导出tab格式数据\n",
    "# qingshan_res.to_file('d:/qingshan.TAB',driver=\"MapInfo File\",encoding='gbk')"
   ]
  },
  {
   "cell_type": "code",
   "execution_count": null,
   "metadata": {
    "ExecuteTime": {
     "end_time": "2020-08-26T08:31:42.997841Z",
     "start_time": "2020-08-26T08:31:37.015581Z"
    }
   },
   "outputs": [],
   "source": [
    "qingshan_res.plot(figsize =(13,13),color= '#BFBFBF',edgecolor='#000000', lw=0.4)"
   ]
  },
  {
   "cell_type": "code",
   "execution_count": null,
   "metadata": {
    "ExecuteTime": {
     "end_time": "2020-08-26T08:31:45.611173Z",
     "start_time": "2020-08-26T08:31:45.602171Z"
    }
   },
   "outputs": [],
   "source": [
    "qingshan_res.shape"
   ]
  },
  {
   "cell_type": "markdown",
   "metadata": {},
   "source": [
    "# 导入栅格数据"
   ]
  },
  {
   "cell_type": "code",
   "execution_count": null,
   "metadata": {
    "ExecuteTime": {
     "end_time": "2020-08-26T08:31:48.715067Z",
     "start_time": "2020-08-26T08:31:48.570048Z"
    }
   },
   "outputs": [],
   "source": [
    "f = mytools.othern.file_name_paths('G:/1-规划/评估/软采评估/2020年二季度/3-输出内容/栅格数据/黄冈/')"
   ]
  },
  {
   "cell_type": "code",
   "execution_count": null,
   "metadata": {
    "ExecuteTime": {
     "end_time": "2020-08-26T08:31:55.251897Z",
     "start_time": "2020-08-26T08:31:51.417410Z"
    }
   },
   "outputs": [],
   "source": [
    "wuhan_grid = pd.DataFrame()\n",
    "for name in f:\n",
    "    data_t = pd.read_csv(name,encoding='gbk')\n",
    "    wuhan_grid = wuhan_grid.append(data_t)"
   ]
  },
  {
   "cell_type": "code",
   "execution_count": null,
   "metadata": {
    "ExecuteTime": {
     "end_time": "2020-08-26T08:31:57.576692Z",
     "start_time": "2020-08-26T08:31:57.554689Z"
    }
   },
   "outputs": [],
   "source": [
    "wuhan_grid.head(1)"
   ]
  },
  {
   "cell_type": "code",
   "execution_count": null,
   "metadata": {
    "ExecuteTime": {
     "end_time": "2020-08-26T08:31:59.772471Z",
     "start_time": "2020-08-26T08:31:59.767970Z"
    }
   },
   "outputs": [],
   "source": [
    "# wuhan_grid['弱覆盖栅格数量']=np.nan\n",
    "# wuhan_grid.loc[(wuhan_grid['有效栅格']==1) & (wuhan_grid['fgl']<0.936),'弱覆盖栅格数量']=1\n",
    "\n",
    "# wuhan_grid['严重弱覆盖栅格数量']=np.nan\n",
    "# wuhan_grid.loc[(wuhan_grid['有效栅格']==1) & (wuhan_grid['fgl']<0.7),'严重弱覆盖栅格数量']=1\n",
    "\n",
    "# qingshan_grid_data = wuhan_grid.loc[wuhan_grid['区县']=='青山']"
   ]
  },
  {
   "cell_type": "code",
   "execution_count": null,
   "metadata": {
    "ExecuteTime": {
     "end_time": "2020-08-26T08:32:07.775487Z",
     "start_time": "2020-08-26T08:32:02.247785Z"
    }
   },
   "outputs": [],
   "source": [
    "qingshan_data_p = mytools.gisn.add_points(wuhan_grid,'lon','lat')"
   ]
  },
  {
   "cell_type": "markdown",
   "metadata": {},
   "source": [
    "# 区域栅格和软采栅格数据匹配"
   ]
  },
  {
   "cell_type": "code",
   "execution_count": null,
   "metadata": {
    "ExecuteTime": {
     "end_time": "2020-08-26T08:32:49.058229Z",
     "start_time": "2020-08-26T08:32:10.417322Z"
    }
   },
   "outputs": [],
   "source": [
    "res= gpd.sjoin(qingshan_res,qingshan_data_p)"
   ]
  },
  {
   "cell_type": "code",
   "execution_count": null,
   "metadata": {
    "ExecuteTime": {
     "end_time": "2020-08-26T08:32:52.791203Z",
     "start_time": "2020-08-26T08:32:52.783202Z"
    }
   },
   "outputs": [],
   "source": [
    "res.columns"
   ]
  },
  {
   "cell_type": "code",
   "execution_count": null,
   "metadata": {
    "ExecuteTime": {
     "end_time": "2020-08-26T08:32:56.624690Z",
     "start_time": "2020-08-26T08:32:56.439667Z"
    }
   },
   "outputs": [],
   "source": [
    "res_groupby = res.groupby('id').agg({'a.rsrp_sample_count':'sum','a.rsrp_weak':'sum','a.grid_id':'count','有效栅格':'count','弱覆盖栅格数量':'count','严重弱覆盖栅格数量':'count'})"
   ]
  },
  {
   "cell_type": "code",
   "execution_count": null,
   "metadata": {
    "ExecuteTime": {
     "end_time": "2020-08-26T08:33:00.383167Z",
     "start_time": "2020-08-26T08:33:00.375666Z"
    }
   },
   "outputs": [],
   "source": [
    "res_groupby = res_groupby.reset_index()"
   ]
  },
  {
   "cell_type": "code",
   "execution_count": null,
   "metadata": {
    "ExecuteTime": {
     "end_time": "2020-08-26T08:33:04.645709Z",
     "start_time": "2020-08-26T08:33:04.627206Z"
    }
   },
   "outputs": [],
   "source": [
    "res_groupby.head(1)"
   ]
  },
  {
   "cell_type": "code",
   "execution_count": null,
   "metadata": {
    "ExecuteTime": {
     "end_time": "2020-08-26T08:33:08.234664Z",
     "start_time": "2020-08-26T08:33:08.229164Z"
    }
   },
   "outputs": [],
   "source": [
    "res_groupby.shape"
   ]
  },
  {
   "cell_type": "markdown",
   "metadata": {},
   "source": [
    "# 区域栅格和投诉量匹配"
   ]
  },
  {
   "cell_type": "code",
   "execution_count": null,
   "metadata": {
    "ExecuteTime": {
     "end_time": "2020-08-26T08:33:12.439198Z",
     "start_time": "2020-08-26T08:33:12.434698Z"
    }
   },
   "outputs": [],
   "source": [
    "#导入投诉数据"
   ]
  },
  {
   "cell_type": "code",
   "execution_count": null,
   "metadata": {
    "ExecuteTime": {
     "end_time": "2020-08-26T08:34:29.577994Z",
     "start_time": "2020-08-26T08:33:16.203676Z"
    }
   },
   "outputs": [],
   "source": [
    "tousu = pd.ExcelFile('G:/1-规划/1其他工作输出/20200826黄石调研材料/1-所需基础数据/广义投诉CI表-0715(1).xlsx')"
   ]
  },
  {
   "cell_type": "code",
   "execution_count": null,
   "metadata": {
    "ExecuteTime": {
     "end_time": "2020-08-26T08:34:33.762525Z",
     "start_time": "2020-08-26T08:34:33.758024Z"
    }
   },
   "outputs": [],
   "source": [
    "tousu.sheet_names"
   ]
  },
  {
   "cell_type": "code",
   "execution_count": null,
   "metadata": {
    "ExecuteTime": {
     "end_time": "2020-08-26T08:34:42.807674Z",
     "start_time": "2020-08-26T08:34:38.114078Z"
    }
   },
   "outputs": [],
   "source": [
    "tousu_1_4 = tousu.parse()"
   ]
  },
  {
   "cell_type": "code",
   "execution_count": null,
   "metadata": {
    "ExecuteTime": {
     "end_time": "2020-08-26T08:34:47.193230Z",
     "start_time": "2020-08-26T08:34:47.165727Z"
    },
    "scrolled": true
   },
   "outputs": [],
   "source": [
    "tousu_1_4.head(1)"
   ]
  },
  {
   "cell_type": "code",
   "execution_count": null,
   "metadata": {
    "ExecuteTime": {
     "end_time": "2020-08-26T08:34:51.191238Z",
     "start_time": "2020-08-26T08:34:51.181737Z"
    }
   },
   "outputs": [],
   "source": [
    "tousu_1_4['经度'] = pd.to_numeric(tousu_1_4['经度'])"
   ]
  },
  {
   "cell_type": "code",
   "execution_count": null,
   "metadata": {
    "ExecuteTime": {
     "end_time": "2020-08-26T08:34:55.475782Z",
     "start_time": "2020-08-26T08:34:55.469781Z"
    }
   },
   "outputs": [],
   "source": [
    "tousu_1_4['纬度'] = pd.to_numeric(tousu_1_4['纬度'])"
   ]
  },
  {
   "cell_type": "code",
   "execution_count": null,
   "metadata": {
    "ExecuteTime": {
     "end_time": "2020-08-26T08:34:59.586804Z",
     "start_time": "2020-08-26T08:34:59.521796Z"
    }
   },
   "outputs": [],
   "source": [
    "tousu_1_4 = tousu_1_4.loc[(tousu_1_4['经度']>0) & (tousu_1_4['纬度']>0)]"
   ]
  },
  {
   "cell_type": "code",
   "execution_count": null,
   "metadata": {
    "ExecuteTime": {
     "end_time": "2020-08-26T08:35:03.831843Z",
     "start_time": "2020-08-26T08:35:03.783837Z"
    }
   },
   "outputs": [],
   "source": [
    "tousu_1_4['2020年投诉量'] = tousu_1_4['2020年4月投诉量']+tousu_1_4['2020年5月投诉量']+tousu_1_4['2020年6月投诉量']"
   ]
  },
  {
   "cell_type": "code",
   "execution_count": null,
   "metadata": {
    "ExecuteTime": {
     "end_time": "2020-08-26T08:35:09.979124Z",
     "start_time": "2020-08-26T08:35:08.133390Z"
    }
   },
   "outputs": [],
   "source": [
    "tousu_p = mytools.gisn.add_points(tousu_1_4,'经度','纬度')"
   ]
  },
  {
   "cell_type": "code",
   "execution_count": null,
   "metadata": {
    "ExecuteTime": {
     "end_time": "2020-08-26T08:35:27.804888Z",
     "start_time": "2020-08-26T08:35:14.291171Z"
    },
    "scrolled": true
   },
   "outputs": [],
   "source": [
    "res_tousu= gpd.sjoin(qingshan_res,tousu_p)"
   ]
  },
  {
   "cell_type": "code",
   "execution_count": null,
   "metadata": {
    "ExecuteTime": {
     "end_time": "2020-08-26T08:35:32.186444Z",
     "start_time": "2020-08-26T08:35:32.137938Z"
    }
   },
   "outputs": [],
   "source": [
    "tousu_groupby = res_tousu.groupby('id').agg({'2020年投诉量':'sum'})"
   ]
  },
  {
   "cell_type": "code",
   "execution_count": null,
   "metadata": {
    "ExecuteTime": {
     "end_time": "2020-08-26T08:35:36.900042Z",
     "start_time": "2020-08-26T08:35:36.895042Z"
    }
   },
   "outputs": [],
   "source": [
    "tousu_groupby = tousu_groupby.reset_index()"
   ]
  },
  {
   "cell_type": "code",
   "execution_count": null,
   "metadata": {
    "ExecuteTime": {
     "end_time": "2020-08-26T08:35:41.330605Z",
     "start_time": "2020-08-26T08:35:41.314103Z"
    }
   },
   "outputs": [],
   "source": [
    "qingshan_res2 = res_groupby.merge(tousu_groupby,how='left',on='id')"
   ]
  },
  {
   "cell_type": "markdown",
   "metadata": {},
   "source": [
    "# 结果放入区域栅格列中"
   ]
  },
  {
   "cell_type": "code",
   "execution_count": null,
   "metadata": {
    "ExecuteTime": {
     "end_time": "2020-08-26T08:35:46.668783Z",
     "start_time": "2020-08-26T08:35:46.641780Z"
    }
   },
   "outputs": [],
   "source": [
    "qingshan_res2.sort_values('2020年投诉量',ascending=False)"
   ]
  },
  {
   "cell_type": "code",
   "execution_count": null,
   "metadata": {
    "ExecuteTime": {
     "end_time": "2020-08-26T08:35:52.065968Z",
     "start_time": "2020-08-26T08:35:52.023963Z"
    }
   },
   "outputs": [],
   "source": [
    "qingshan_res3 = qingshan_res.merge(qingshan_res2,how='left',on='id')"
   ]
  },
  {
   "cell_type": "code",
   "execution_count": null,
   "metadata": {
    "ExecuteTime": {
     "end_time": "2020-08-26T08:35:56.800069Z",
     "start_time": "2020-08-26T08:35:56.773566Z"
    }
   },
   "outputs": [],
   "source": [
    "qingshan_res3.head(1)"
   ]
  },
  {
   "cell_type": "code",
   "execution_count": null,
   "metadata": {
    "ExecuteTime": {
     "end_time": "2020-08-26T08:36:10.479807Z",
     "start_time": "2020-08-26T08:36:01.925220Z"
    }
   },
   "outputs": [],
   "source": [
    "fig, ax = plt.subplots(figsize=(12, 12))\n",
    "ax = qingshan_res3.plot(ax=ax, column='a.rsrp_sample_count', cmap =plt.cm.Greens, edgecolor='#000000', lw=0.2)\n",
    "\n",
    "#关闭坐标轴\n",
    "# ax.axis('off')\n",
    "# plt.show()"
   ]
  },
  {
   "cell_type": "markdown",
   "metadata": {},
   "source": [
    "# 评分系统"
   ]
  },
  {
   "cell_type": "code",
   "execution_count": null,
   "metadata": {
    "ExecuteTime": {
     "end_time": "2020-08-26T08:36:15.333423Z",
     "start_time": "2020-08-26T08:36:15.286917Z"
    }
   },
   "outputs": [],
   "source": [
    "qingshan_res3.head(1)"
   ]
  },
  {
   "cell_type": "code",
   "execution_count": null,
   "metadata": {
    "ExecuteTime": {
     "end_time": "2020-08-26T08:36:20.190040Z",
     "start_time": "2020-08-26T08:36:20.178038Z"
    }
   },
   "outputs": [],
   "source": [
    "qingshan_res4 = qingshan_res3[['id','a.rsrp_sample_count','a.rsrp_weak','a.grid_id','有效栅格','弱覆盖栅格数量','严重弱覆盖栅格数量','2020年投诉量','geometry']]"
   ]
  },
  {
   "cell_type": "code",
   "execution_count": null,
   "metadata": {
    "ExecuteTime": {
     "end_time": "2020-08-26T08:36:24.944143Z",
     "start_time": "2020-08-26T08:36:24.940143Z"
    }
   },
   "outputs": [],
   "source": [
    "qingshan_res4.columns=['id', '总点', '弱点', '栅格数', '有效栅格', '弱覆盖栅格数量','严重弱覆盖栅格数量','投诉量','geometry']"
   ]
  },
  {
   "cell_type": "code",
   "execution_count": null,
   "metadata": {
    "ExecuteTime": {
     "end_time": "2020-08-26T08:36:29.714749Z",
     "start_time": "2020-08-26T08:36:29.486720Z"
    }
   },
   "outputs": [],
   "source": [
    "qingshan_res4['覆盖率'] = 1 - qingshan_res4['弱点']/qingshan_res4['总点']"
   ]
  },
  {
   "cell_type": "code",
   "execution_count": null,
   "metadata": {
    "ExecuteTime": {
     "end_time": "2020-08-26T08:36:34.212820Z",
     "start_time": "2020-08-26T08:36:34.207320Z"
    }
   },
   "outputs": [],
   "source": [
    "qingshan_res4['总点'].max()"
   ]
  },
  {
   "cell_type": "code",
   "execution_count": null,
   "metadata": {
    "ExecuteTime": {
     "end_time": "2020-08-26T08:36:39.467988Z",
     "start_time": "2020-08-26T08:36:39.451986Z"
    }
   },
   "outputs": [],
   "source": [
    "qingshan_res4['k1']=25 * (qingshan_res4['总点']-1000)/(qingshan_res4['总点'].max()-1000)\n",
    "qingshan_res4.loc[(qingshan_res4['总点']<1000),'k1']=0"
   ]
  },
  {
   "cell_type": "code",
   "execution_count": null,
   "metadata": {
    "ExecuteTime": {
     "end_time": "2020-08-26T08:36:44.670648Z",
     "start_time": "2020-08-26T08:36:44.660147Z"
    }
   },
   "outputs": [],
   "source": [
    "qingshan_res4['k2']=25 * (qingshan_res4['严重弱覆盖栅格数量'])/(qingshan_res4['严重弱覆盖栅格数量'].max())"
   ]
  },
  {
   "cell_type": "code",
   "execution_count": null,
   "metadata": {
    "ExecuteTime": {
     "end_time": "2020-08-26T08:36:49.155218Z",
     "start_time": "2020-08-26T08:36:49.131215Z"
    }
   },
   "outputs": [],
   "source": [
    "qingshan_res4['k3']=25 * (qingshan_res4['覆盖率']-0.7)/(0.936-0.7)\n",
    "qingshan_res4.loc[(qingshan_res4['覆盖率']<0.7),'k3']=0\n",
    "qingshan_res4.loc[(qingshan_res4['覆盖率']>=0.936),'k3']=25"
   ]
  },
  {
   "cell_type": "code",
   "execution_count": null,
   "metadata": {
    "ExecuteTime": {
     "end_time": "2020-08-26T08:36:54.021336Z",
     "start_time": "2020-08-26T08:36:54.012835Z"
    }
   },
   "outputs": [],
   "source": [
    "qingshan_res4['k4']=25 * (qingshan_res4['投诉量'])/(qingshan_res4['投诉量'].max())"
   ]
  },
  {
   "cell_type": "code",
   "execution_count": null,
   "metadata": {
    "ExecuteTime": {
     "end_time": "2020-08-26T08:36:58.483402Z",
     "start_time": "2020-08-26T08:36:58.473401Z"
    }
   },
   "outputs": [],
   "source": [
    "qingshan_res4['k']=qingshan_res4['k1']+qingshan_res4['k2']+qingshan_res4['k3']+qingshan_res4['k4']"
   ]
  },
  {
   "cell_type": "code",
   "execution_count": null,
   "metadata": {
    "ExecuteTime": {
     "end_time": "2020-08-26T08:37:03.109490Z",
     "start_time": "2020-08-26T08:37:03.086487Z"
    }
   },
   "outputs": [],
   "source": [
    "qingshan_res4 = qingshan_res4.sort_values('k',ascending=False)"
   ]
  },
  {
   "cell_type": "code",
   "execution_count": null,
   "metadata": {
    "ExecuteTime": {
     "end_time": "2020-08-26T08:37:14.198398Z",
     "start_time": "2020-08-26T08:37:07.800585Z"
    }
   },
   "outputs": [],
   "source": [
    "fig, ax = plt.subplots(figsize=(12, 12))\n",
    "ax = qingshan_res4.plot(ax=ax, column='k', cmap =plt.cm.Reds, edgecolor='#000000', lw=0.2)\n"
   ]
  },
  {
   "cell_type": "code",
   "execution_count": null,
   "metadata": {
    "ExecuteTime": {
     "end_time": "2020-08-26T08:37:18.994507Z",
     "start_time": "2020-08-26T08:37:18.682467Z"
    }
   },
   "outputs": [],
   "source": [
    "qingshan_res4['经纬度'] = qingshan_res4.centroid\n",
    "\n",
    "# qingshan_res4.to_clipboard()"
   ]
  },
  {
   "cell_type": "markdown",
   "metadata": {},
   "source": [
    "# 选取top"
   ]
  },
  {
   "cell_type": "code",
   "execution_count": null,
   "metadata": {
    "ExecuteTime": {
     "end_time": "2020-08-26T08:37:23.373563Z",
     "start_time": "2020-08-26T08:37:23.370062Z"
    }
   },
   "outputs": [],
   "source": [
    "# data = pd.read_clipboard()\n",
    "\n",
    "# qingshan_res5 = qingshan_res4.merge(data,how='right',on='id')"
   ]
  },
  {
   "cell_type": "code",
   "execution_count": null,
   "metadata": {
    "ExecuteTime": {
     "end_time": "2020-08-26T08:46:24.316254Z",
     "start_time": "2020-08-26T08:46:24.310253Z"
    }
   },
   "outputs": [],
   "source": [
    "qingshan_res5 = qingshan_res4.head(100)"
   ]
  },
  {
   "cell_type": "code",
   "execution_count": null,
   "metadata": {
    "ExecuteTime": {
     "end_time": "2020-08-26T08:46:29.601425Z",
     "start_time": "2020-08-26T08:46:29.597925Z"
    }
   },
   "outputs": [],
   "source": [
    "# qingshan_res5.to_clipboard()"
   ]
  },
  {
   "cell_type": "markdown",
   "metadata": {},
   "source": [
    "# 制作图层"
   ]
  },
  {
   "cell_type": "code",
   "execution_count": null,
   "metadata": {
    "ExecuteTime": {
     "end_time": "2020-08-26T08:46:34.545053Z",
     "start_time": "2020-08-26T08:46:34.538552Z"
    }
   },
   "outputs": [],
   "source": [
    "qingshan_res5 = qingshan_res5.reset_index(drop=True)"
   ]
  },
  {
   "cell_type": "code",
   "execution_count": null,
   "metadata": {
    "ExecuteTime": {
     "end_time": "2020-08-26T08:46:39.243149Z",
     "start_time": "2020-08-26T08:46:39.236649Z"
    }
   },
   "outputs": [],
   "source": [
    "qingshan_res5 = qingshan_res5.drop(columns='经纬度')"
   ]
  },
  {
   "cell_type": "code",
   "execution_count": null,
   "metadata": {
    "ExecuteTime": {
     "end_time": "2020-08-26T08:46:44.189777Z",
     "start_time": "2020-08-26T08:46:44.181776Z"
    }
   },
   "outputs": [],
   "source": [
    "qingshan_res5.columns = ['id', 'rsrp_count', 'rsrp_weak', 'grid_count', 'grid_100_count', 'grid_weak', 'grid_weak_Serious', 'complain',\n",
    "       'geometry', 'fgl', 'k1', 'k2', 'k3', 'k4', 'k']"
   ]
  },
  {
   "cell_type": "code",
   "execution_count": null,
   "metadata": {
    "ExecuteTime": {
     "end_time": "2020-08-26T08:46:48.966884Z",
     "start_time": "2020-08-26T08:46:48.860871Z"
    },
    "scrolled": true
   },
   "outputs": [],
   "source": [
    "#制作tab图层\n",
    "qingshan_res5.to_file('G:/1-规划/1其他工作输出/20200826黄石调研材料/2-输出/HG_top50.tab',driver=\"MapInfo File\",encoding='gbk')"
   ]
  },
  {
   "cell_type": "code",
   "execution_count": null,
   "metadata": {
    "ExecuteTime": {
     "end_time": "2020-08-26T08:46:54.010025Z",
     "start_time": "2020-08-26T08:46:54.002524Z"
    }
   },
   "outputs": [],
   "source": [
    "# qingshan_res5 = gpd.read_file('d:/qingshan.tab',encoding='gbk')"
   ]
  },
  {
   "cell_type": "code",
   "execution_count": null,
   "metadata": {
    "ExecuteTime": {
     "end_time": "2020-08-26T08:46:58.590606Z",
     "start_time": "2020-08-26T08:46:58.586106Z"
    }
   },
   "outputs": [],
   "source": [
    "# qingshan_res5"
   ]
  },
  {
   "cell_type": "code",
   "execution_count": null,
   "metadata": {
    "ExecuteTime": {
     "end_time": "2020-08-26T08:47:03.177689Z",
     "start_time": "2020-08-26T08:47:03.173188Z"
    }
   },
   "outputs": [],
   "source": [
    "#制作google图层"
   ]
  },
  {
   "cell_type": "code",
   "execution_count": null,
   "metadata": {
    "ExecuteTime": {
     "end_time": "2020-08-26T08:47:07.505738Z",
     "start_time": "2020-08-26T08:47:07.498737Z"
    }
   },
   "outputs": [],
   "source": [
    "qingshan_res6 = qingshan_res5.reset_index()"
   ]
  },
  {
   "cell_type": "code",
   "execution_count": null,
   "metadata": {
    "ExecuteTime": {
     "end_time": "2020-08-26T08:47:12.023812Z",
     "start_time": "2020-08-26T08:47:12.012311Z"
    }
   },
   "outputs": [],
   "source": [
    "qingshan_res6['lin'] = qingshan_res6.boundary"
   ]
  },
  {
   "cell_type": "code",
   "execution_count": null,
   "metadata": {
    "ExecuteTime": {
     "end_time": "2020-08-26T08:47:16.466376Z",
     "start_time": "2020-08-26T08:47:16.461876Z"
    }
   },
   "outputs": [],
   "source": [
    "kml = simplekml.Kml()"
   ]
  },
  {
   "cell_type": "code",
   "execution_count": null,
   "metadata": {
    "ExecuteTime": {
     "end_time": "2020-08-26T08:47:20.767422Z",
     "start_time": "2020-08-26T08:47:20.758421Z"
    }
   },
   "outputs": [],
   "source": [
    "def to_kml(x):\n",
    "    lin = kml.newlinestring(\n",
    "        name=x['id'],                   \n",
    "        description=x[[ 'id','rsrp_count','rsrp_weak','grid_count','grid_100_count','grid_weak','grid_weak_Serious','complain','fgl','k']].to_string(),\n",
    "        coords=list(x['lin'].coords))\n",
    "    lin.style.linestyle.color =simplekml.Color.changealphaint(245, 'ff00a5ff' )\n",
    "    lin.style.linestyle.width= 5"
   ]
  },
  {
   "cell_type": "code",
   "execution_count": null,
   "metadata": {
    "ExecuteTime": {
     "end_time": "2020-08-26T08:47:25.522026Z",
     "start_time": "2020-08-26T08:47:25.231489Z"
    }
   },
   "outputs": [],
   "source": [
    "qingshan_res6.apply(to_kml,axis=1)\n",
    "kml.save('G:/1-规划/1其他工作输出/20200826黄石调研材料/2-输出/HG_top50.kml')\n",
    "print('ok')"
   ]
  },
  {
   "cell_type": "code",
   "execution_count": null,
   "metadata": {},
   "outputs": [],
   "source": []
  },
  {
   "cell_type": "code",
   "execution_count": null,
   "metadata": {
    "ExecuteTime": {
     "end_time": "2020-08-26T07:37:48.305587Z",
     "start_time": "2020-08-26T07:37:48.142066Z"
    }
   },
   "outputs": [],
   "source": [
    "quxian1 = mytools.gisn.maps('地市区县')"
   ]
  },
  {
   "cell_type": "code",
   "execution_count": null,
   "metadata": {
    "ExecuteTime": {
     "end_time": "2020-08-26T07:37:49.211702Z",
     "start_time": "2020-08-26T07:37:49.205701Z"
    }
   },
   "outputs": [],
   "source": [
    "quxian1.columns"
   ]
  },
  {
   "cell_type": "code",
   "execution_count": null,
   "metadata": {
    "ExecuteTime": {
     "end_time": "2020-08-26T07:38:15.941096Z",
     "start_time": "2020-08-26T07:38:15.928095Z"
    }
   },
   "outputs": [],
   "source": [
    "quxian1['lin'] = quxian1.boundary"
   ]
  },
  {
   "cell_type": "code",
   "execution_count": null,
   "metadata": {
    "ExecuteTime": {
     "end_time": "2020-08-26T07:42:53.059786Z",
     "start_time": "2020-08-26T07:42:53.054785Z"
    }
   },
   "outputs": [],
   "source": [
    "def to_kml2(x):\n",
    "    lin = kml.newlinestring(\n",
    "        name=x['区县'],                   \n",
    "        description=x[[ '地市','区县']].to_string(),\n",
    "        coords=list(x['geometry'].exterior.coords))\n",
    "    lin.style.linestyle.color =simplekml.Color.changealphaint(245, 'ffffffff' )\n",
    "    lin.style.linestyle.width= 2"
   ]
  },
  {
   "cell_type": "code",
   "execution_count": null,
   "metadata": {
    "ExecuteTime": {
     "end_time": "2020-08-26T07:42:54.143423Z",
     "start_time": "2020-08-26T07:42:54.102418Z"
    }
   },
   "outputs": [],
   "source": [
    "quxian1.apply(to_kml2,axis=1)\n",
    "kml.save('G:/1-规划/图层/县城和地市归属图层pickle/地市区县.kml')\n",
    "print('ok')"
   ]
  },
  {
   "cell_type": "code",
   "execution_count": null,
   "metadata": {
    "ExecuteTime": {
     "end_time": "2020-08-26T09:28:26.419520Z",
     "start_time": "2020-08-26T09:28:16.707787Z"
    }
   },
   "outputs": [],
   "source": [
    "gongcan = pd.read_csv('g:/1-规划/工参/工参数据/ltejizhan20200807.csv',encoding='gbk')"
   ]
  },
  {
   "cell_type": "code",
   "execution_count": null,
   "metadata": {
    "ExecuteTime": {
     "end_time": "2020-08-26T09:28:31.474662Z",
     "start_time": "2020-08-26T09:28:31.462661Z"
    }
   },
   "outputs": [],
   "source": [
    "gongcan.columns"
   ]
  },
  {
   "cell_type": "code",
   "execution_count": null,
   "metadata": {
    "ExecuteTime": {
     "end_time": "2020-08-26T09:32:03.006523Z",
     "start_time": "2020-08-26T09:32:02.955517Z"
    }
   },
   "outputs": [],
   "source": [
    "a = set(gongcan['归属区县'])"
   ]
  },
  {
   "cell_type": "code",
   "execution_count": null,
   "metadata": {
    "ExecuteTime": {
     "end_time": "2020-08-26T09:35:37.558268Z",
     "start_time": "2020-08-26T09:35:37.548767Z"
    }
   },
   "outputs": [],
   "source": [
    "f=open(\"d:/k.txt\",\"w\")\n",
    "f.write(str(a))\n",
    "f.close()"
   ]
  },
  {
   "cell_type": "code",
   "execution_count": null,
   "metadata": {},
   "outputs": [],
   "source": [
    "mytools.gisn.points_coverage_merge()"
   ]
  },
  {
   "cell_type": "markdown",
   "metadata": {},
   "source": [
    "# top30匹配周边的7734、催开、故障、优化、高负荷、干扰"
   ]
  },
  {
   "cell_type": "code",
   "execution_count": null,
   "metadata": {},
   "outputs": [],
   "source": [
    "qingshan_res5.shape"
   ]
  },
  {
   "cell_type": "code",
   "execution_count": null,
   "metadata": {},
   "outputs": [],
   "source": [
    "#导入7734汇总的数据"
   ]
  },
  {
   "cell_type": "code",
   "execution_count": null,
   "metadata": {},
   "outputs": [],
   "source": [
    "data_7734 = pd.ExcelFile('G:/1-规划/1其他工作输出/20200603青山按照大栅格划分问题点/3-分析top解决方案/1基础数据/青山专属建设、优化、故障/汇总/建设、故障、优化汇总.xlsx')"
   ]
  },
  {
   "cell_type": "code",
   "execution_count": null,
   "metadata": {},
   "outputs": [],
   "source": [
    "data_7734.sheet_names"
   ]
  },
  {
   "cell_type": "code",
   "execution_count": null,
   "metadata": {},
   "outputs": [],
   "source": [
    "data_7734.sheet_names"
   ]
  },
  {
   "cell_type": "code",
   "execution_count": null,
   "metadata": {},
   "outputs": [],
   "source": [
    "data_7734_sum = data_7734.parse(sheet_name='汇总')"
   ]
  },
  {
   "cell_type": "code",
   "execution_count": null,
   "metadata": {},
   "outputs": [],
   "source": [
    "data_7734_sum.head(1)"
   ]
  },
  {
   "cell_type": "code",
   "execution_count": null,
   "metadata": {},
   "outputs": [],
   "source": [
    "data_7734_sum.loc[data_7734_sum['区县']=='青山区'].shape"
   ]
  },
  {
   "cell_type": "code",
   "execution_count": null,
   "metadata": {},
   "outputs": [],
   "source": [
    "p_7734 = mytools.gisn.add_points(data_7734_sum)"
   ]
  },
  {
   "cell_type": "code",
   "execution_count": null,
   "metadata": {},
   "outputs": [],
   "source": [
    "top30_7734_sjoin = gpd.sjoin(qingshan_res5,p_7734)"
   ]
  },
  {
   "cell_type": "code",
   "execution_count": null,
   "metadata": {},
   "outputs": [],
   "source": [
    "top30_7734_sjoin.columns"
   ]
  },
  {
   "cell_type": "code",
   "execution_count": null,
   "metadata": {},
   "outputs": [],
   "source": [
    "top30_7734_sjoin.drop_duplicates('id').shape"
   ]
  },
  {
   "cell_type": "code",
   "execution_count": null,
   "metadata": {},
   "outputs": [],
   "source": [
    "top30_7734_sjoin.drop_duplicates('唯一编号').shape"
   ]
  },
  {
   "cell_type": "code",
   "execution_count": null,
   "metadata": {},
   "outputs": [],
   "source": [
    "top30_7734_sjoin.drop_duplicates('唯一编号').shape[0]/data_7734_sum.loc[data_7734_sum['区县']=='青山区'].shape[0]"
   ]
  },
  {
   "cell_type": "code",
   "execution_count": null,
   "metadata": {
    "scrolled": true
   },
   "outputs": [],
   "source": [
    "top30_7734_sjoin.drop_duplicates('唯一编号').groupby('分类').count()"
   ]
  },
  {
   "cell_type": "markdown",
   "metadata": {},
   "source": [
    "# 匹配现网小区"
   ]
  },
  {
   "cell_type": "code",
   "execution_count": null,
   "metadata": {},
   "outputs": [],
   "source": [
    "gongcan= pd.read_csv('G:/1-规划/工参/工参数据/ltejizhan20200529.csv',encoding='gbk',usecols=['小区CGI(*)', 'RRU经度', 'RRU纬度','覆盖场景'])"
   ]
  },
  {
   "cell_type": "code",
   "execution_count": null,
   "metadata": {},
   "outputs": [],
   "source": [
    "gongcan.columns"
   ]
  },
  {
   "cell_type": "code",
   "execution_count": null,
   "metadata": {},
   "outputs": [],
   "source": [
    "changjing_shuoming = pd.read_csv('G:/1-规划/表格类保存/场景说明.csv',encoding='gbk')"
   ]
  },
  {
   "cell_type": "code",
   "execution_count": null,
   "metadata": {},
   "outputs": [],
   "source": [
    "changjing_shuoming.head(1)"
   ]
  },
  {
   "cell_type": "code",
   "execution_count": null,
   "metadata": {},
   "outputs": [],
   "source": [
    "gongcan_use = gongcan.merge(changjing_shuoming,how='left',left_on='覆盖场景',right_on='类型ID')"
   ]
  },
  {
   "cell_type": "code",
   "execution_count": null,
   "metadata": {},
   "outputs": [],
   "source": [
    "gogncan_p = mytools.gisn.points_coverage_merge(gongcan_use.loc[gongcan_use['RRU经度']>0],'RRU经度', 'RRU纬度')"
   ]
  },
  {
   "cell_type": "code",
   "execution_count": null,
   "metadata": {},
   "outputs": [],
   "source": [
    "gogncan_p2 = mytools.gisn.add_points(gogncan_p, 'RRU经度', 'RRU纬度')"
   ]
  },
  {
   "cell_type": "code",
   "execution_count": null,
   "metadata": {},
   "outputs": [],
   "source": [
    "gogncan_p2 = mytools.gisn.add_points(gogncan_p, 'RRU经度', 'RRU纬度')"
   ]
  },
  {
   "cell_type": "code",
   "execution_count": null,
   "metadata": {},
   "outputs": [],
   "source": [
    "top30_gongcan_sjoin = gpd.sjoin(qingshan_res5,gogncan_p2)"
   ]
  },
  {
   "cell_type": "code",
   "execution_count": null,
   "metadata": {},
   "outputs": [],
   "source": [
    "top30_gongcan_sjoin.columns"
   ]
  },
  {
   "cell_type": "code",
   "execution_count": null,
   "metadata": {},
   "outputs": [],
   "source": [
    "top30_gongcan_sjoin.head(1)"
   ]
  },
  {
   "cell_type": "code",
   "execution_count": null,
   "metadata": {},
   "outputs": [],
   "source": []
  },
  {
   "cell_type": "code",
   "execution_count": null,
   "metadata": {
    "scrolled": true
   },
   "outputs": [],
   "source": [
    "res_changjing = top30_gongcan_sjoin.drop_duplicates('小区CGI(*)').groupby([ '场景类型']).agg({'id':'count'})"
   ]
  },
  {
   "cell_type": "code",
   "execution_count": null,
   "metadata": {},
   "outputs": [],
   "source": [
    "res_changjing.to_clipboard()"
   ]
  },
  {
   "cell_type": "markdown",
   "metadata": {},
   "source": [
    "# 匹配软采负荷干扰"
   ]
  },
  {
   "cell_type": "code",
   "execution_count": null,
   "metadata": {},
   "outputs": [],
   "source": [
    "#软采小区处理"
   ]
  },
  {
   "cell_type": "code",
   "execution_count": null,
   "metadata": {},
   "outputs": [],
   "source": [
    "ruancai = pd.read_csv('G:/1-规划/1其他工作输出/20200603青山按照大栅格划分问题点/3-分析top解决方案/1基础数据/覆盖/汇总-按照采样点排序去重.csv',\n",
    "    encoding='gbk')"
   ]
  },
  {
   "cell_type": "code",
   "execution_count": null,
   "metadata": {},
   "outputs": [],
   "source": [
    "ruancai_use = ruancai[[ 'eutrancell_cgi', 'rsrp_sample_count', 'rsrp_weak', 'RRU经度', 'RRU纬度']]"
   ]
  },
  {
   "cell_type": "code",
   "execution_count": null,
   "metadata": {},
   "outputs": [],
   "source": [
    "top30_gongcan_sjoin.groupby([ '区域类型']).agg({'id':'count'})"
   ]
  },
  {
   "cell_type": "code",
   "execution_count": null,
   "metadata": {},
   "outputs": [],
   "source": [
    "ruancai_use['fgl'] = 1 - ruancai_use['rsrp_weak']/ruancai_use['rsrp_sample_count']"
   ]
  },
  {
   "cell_type": "code",
   "execution_count": null,
   "metadata": {},
   "outputs": [],
   "source": [
    "ruancai_use = ruancai_use.loc[ruancai_use['fgl']<0.9]"
   ]
  },
  {
   "cell_type": "code",
   "execution_count": null,
   "metadata": {},
   "outputs": [],
   "source": [
    "ruancai_p = mytools.gisn.add_points(ruancai_use, 'RRU经度', 'RRU纬度')"
   ]
  },
  {
   "cell_type": "code",
   "execution_count": null,
   "metadata": {},
   "outputs": [],
   "source": [
    "#干扰小区处理"
   ]
  },
  {
   "cell_type": "code",
   "execution_count": null,
   "metadata": {},
   "outputs": [],
   "source": [
    "ganrao = pd.read_csv('G:/1-规划/1其他工作输出/20200603青山按照大栅格划分问题点/3-分析top解决方案/1基础数据/干扰/干扰小区汇总.csv',\n",
    "    encoding='gbk')"
   ]
  },
  {
   "cell_type": "code",
   "execution_count": null,
   "metadata": {},
   "outputs": [],
   "source": [
    "ganrao_use = ganrao.merge(gongcan,how='left',left_on='小区ID',right_on='小区CGI(*)').drop_duplicates('小区ID')[['小区ID','RRU经度','RRU纬度']]"
   ]
  },
  {
   "cell_type": "code",
   "execution_count": null,
   "metadata": {},
   "outputs": [],
   "source": [
    "ganrao_p = mytools.gisn.add_points(ganrao_use,'RRU经度','RRU纬度')"
   ]
  },
  {
   "cell_type": "code",
   "execution_count": null,
   "metadata": {},
   "outputs": [],
   "source": [
    "ganrao.head(1)"
   ]
  },
  {
   "cell_type": "code",
   "execution_count": null,
   "metadata": {},
   "outputs": [],
   "source": [
    "#负荷小区处理"
   ]
  },
  {
   "cell_type": "code",
   "execution_count": null,
   "metadata": {},
   "outputs": [],
   "source": [
    "fuhe = pd.read_csv('G:/1-规划/1其他工作输出/20200603青山按照大栅格划分问题点/3-分析top解决方案/1基础数据/高负荷/高负荷汇总.csv',\n",
    "    encoding='gbk')"
   ]
  },
  {
   "cell_type": "code",
   "execution_count": null,
   "metadata": {},
   "outputs": [],
   "source": [
    "fuhe.head(1)"
   ]
  },
  {
   "cell_type": "code",
   "execution_count": null,
   "metadata": {},
   "outputs": [],
   "source": [
    "fuhe_use = fuhe.merge(gongcan,how='left',left_on='CGI',right_on='小区CGI(*)').drop_duplicates('CGI')[['CGI','RRU经度','RRU纬度']]"
   ]
  },
  {
   "cell_type": "code",
   "execution_count": null,
   "metadata": {},
   "outputs": [],
   "source": [
    "fuhe_p = mytools.gisn.add_points(fuhe_use,'RRU经度','RRU纬度')"
   ]
  },
  {
   "cell_type": "code",
   "execution_count": null,
   "metadata": {},
   "outputs": [],
   "source": [
    "#匹配到大栅格"
   ]
  },
  {
   "cell_type": "code",
   "execution_count": null,
   "metadata": {},
   "outputs": [],
   "source": [
    "rancai_top_sjoin = gpd.sjoin(qingshan_res5,ruancai_p)"
   ]
  },
  {
   "cell_type": "code",
   "execution_count": null,
   "metadata": {},
   "outputs": [],
   "source": [
    "ganrao_top_sjoin = gpd.sjoin(qingshan_res5,ganrao_p)"
   ]
  },
  {
   "cell_type": "code",
   "execution_count": null,
   "metadata": {},
   "outputs": [],
   "source": [
    "fuhe_top_sjoin = gpd.sjoin(qingshan_res5,fuhe_p)"
   ]
  },
  {
   "cell_type": "code",
   "execution_count": null,
   "metadata": {},
   "outputs": [],
   "source": [
    "#计算结果"
   ]
  },
  {
   "cell_type": "code",
   "execution_count": null,
   "metadata": {},
   "outputs": [],
   "source": [
    "#软采"
   ]
  },
  {
   "cell_type": "code",
   "execution_count": null,
   "metadata": {},
   "outputs": [],
   "source": [
    "rancai_top_sjoin.to_clipboard()"
   ]
  },
  {
   "cell_type": "code",
   "execution_count": null,
   "metadata": {},
   "outputs": [],
   "source": [
    "rancai_top_sjoin.drop_duplicates('eutrancell_cgi').shape"
   ]
  },
  {
   "cell_type": "code",
   "execution_count": null,
   "metadata": {},
   "outputs": [],
   "source": [
    "#干扰"
   ]
  },
  {
   "cell_type": "code",
   "execution_count": null,
   "metadata": {},
   "outputs": [],
   "source": [
    "ganrao_top_sjoin.to_clipboard()"
   ]
  },
  {
   "cell_type": "code",
   "execution_count": null,
   "metadata": {},
   "outputs": [],
   "source": [
    "ganrao_top_sjoin.drop_duplicates('小区ID').shape"
   ]
  },
  {
   "cell_type": "code",
   "execution_count": null,
   "metadata": {},
   "outputs": [],
   "source": [
    "#负荷"
   ]
  },
  {
   "cell_type": "code",
   "execution_count": null,
   "metadata": {},
   "outputs": [],
   "source": [
    "fuhe_top_sjoin.to_clipboard()"
   ]
  },
  {
   "cell_type": "code",
   "execution_count": null,
   "metadata": {},
   "outputs": [],
   "source": [
    "fuhe_top_sjoin.drop_duplicates('CGI').shape"
   ]
  },
  {
   "cell_type": "code",
   "execution_count": null,
   "metadata": {},
   "outputs": [],
   "source": [
    "#现网"
   ]
  },
  {
   "cell_type": "code",
   "execution_count": null,
   "metadata": {},
   "outputs": [],
   "source": [
    "top30_gongcan_sjoin.drop_duplicates('小区CGI(*)').shape"
   ]
  },
  {
   "cell_type": "code",
   "execution_count": null,
   "metadata": {},
   "outputs": [],
   "source": [
    "#写word用"
   ]
  },
  {
   "cell_type": "code",
   "execution_count": null,
   "metadata": {},
   "outputs": [],
   "source": [
    "id = 'region_grid_138'"
   ]
  },
  {
   "cell_type": "code",
   "execution_count": null,
   "metadata": {},
   "outputs": [],
   "source": [
    "qingshan_res5.columns"
   ]
  },
  {
   "cell_type": "code",
   "execution_count": null,
   "metadata": {},
   "outputs": [],
   "source": [
    "b=qingshan_res5.loc[qingshan_res5['id']==id][['总点','覆盖率','弱覆盖栅格数量','严重弱覆盖栅格数量','投诉量']].reset_index()"
   ]
  },
  {
   "cell_type": "code",
   "execution_count": null,
   "metadata": {},
   "outputs": [],
   "source": [
    "xq=str(top30_gongcan_sjoin.loc[top30_gongcan_sjoin['id']==id].agg({'小区CGI(*)':'count'})['小区CGI(*)'])"
   ]
  },
  {
   "cell_type": "code",
   "execution_count": null,
   "metadata": {},
   "outputs": [],
   "source": [
    "'该区域主要弱覆盖包括***以及周边楼宇。区域内共计{}个小区，整体采样点{}个相对较多，覆盖率为{}， \\\n",
    "区域内有{}个栅格覆盖率小于93.6%，{}个栅格覆盖率低于70%，20年投诉共计{}个。 \\\n",
    "'.format(xq,int(b['总点'][0]),str(b['覆盖率'][0]*100)[:5]+'%',int(b['弱覆盖栅格数量'][0]),int(b['严重弱覆盖栅格数量'][0]),int(b['投诉量'][0]))"
   ]
  },
  {
   "cell_type": "code",
   "execution_count": null,
   "metadata": {},
   "outputs": [],
   "source": [
    "'区域内'+xq+ \\\n",
    "'个现网小区中，有'+str(rancai_top_sjoin.loc[rancai_top_sjoin['id']==id].agg({'eutrancell_cgi':'count'})['eutrancell_cgi'])+ \\\n",
    "'个弱覆盖小区，'+str(ganrao_top_sjoin.loc[ganrao_top_sjoin['id']==id].agg({'小区ID':'count'})['小区ID'])+ \\\n",
    "'个为干扰小区，'+str(fuhe_top_sjoin.loc[fuhe_top_sjoin['id']==id].agg({'CGI':'count'})['CGI'])+'个为高负荷小区'#负荷"
   ]
  },
  {
   "cell_type": "code",
   "execution_count": null,
   "metadata": {},
   "outputs": [],
   "source": [
    "a=top30_7734_sjoin.loc[top30_7734_sjoin['id']==id].groupby('分类').agg({'唯一编号':'count'})"
   ]
  },
  {
   "cell_type": "code",
   "execution_count": null,
   "metadata": {},
   "outputs": [],
   "source": [
    "a"
   ]
  },
  {
   "cell_type": "code",
   "execution_count": null,
   "metadata": {},
   "outputs": [],
   "source": [
    "'区域内与7734工单重合{}单，其中可新建站点{}个，可优化小区{}个，可进行维护处理站点{}个。 \\\n",
    "可根据实际情况进行推动工单处理进度。改善区域的网络质量。'.format(a.sum()[0],a.loc['建设'][0],a.loc['优化'][0],a.loc['故障'][0])"
   ]
  },
  {
   "cell_type": "code",
   "execution_count": null,
   "metadata": {},
   "outputs": [],
   "source": []
  },
  {
   "cell_type": "code",
   "execution_count": null,
   "metadata": {},
   "outputs": [],
   "source": []
  },
  {
   "cell_type": "code",
   "execution_count": null,
   "metadata": {},
   "outputs": [],
   "source": []
  }
 ],
 "metadata": {
  "kernelspec": {
   "display_name": "Python 3",
   "language": "python",
   "name": "python3"
  },
  "language_info": {
   "codemirror_mode": {
    "name": "ipython",
    "version": 3
   },
   "file_extension": ".py",
   "mimetype": "text/x-python",
   "name": "python",
   "nbconvert_exporter": "python",
   "pygments_lexer": "ipython3",
   "version": "3.7.4"
  },
  "toc": {
   "base_numbering": 1,
   "nav_menu": {},
   "number_sections": true,
   "sideBar": true,
   "skip_h1_title": false,
   "title_cell": "Table of Contents",
   "title_sidebar": "Contents",
   "toc_cell": false,
   "toc_position": {},
   "toc_section_display": true,
   "toc_window_display": false
  },
  "varInspector": {
   "cols": {
    "lenName": 16,
    "lenType": 16,
    "lenVar": 40
   },
   "kernels_config": {
    "python": {
     "delete_cmd_postfix": "",
     "delete_cmd_prefix": "del ",
     "library": "var_list.py",
     "varRefreshCmd": "print(var_dic_list())"
    },
    "r": {
     "delete_cmd_postfix": ") ",
     "delete_cmd_prefix": "rm(",
     "library": "var_list.r",
     "varRefreshCmd": "cat(var_dic_list()) "
    }
   },
   "types_to_exclude": [
    "module",
    "function",
    "builtin_function_or_method",
    "instance",
    "_Feature"
   ],
   "window_display": false
  }
 },
 "nbformat": 4,
 "nbformat_minor": 2
}
