{
 "cells": [
  {
   "cell_type": "code",
   "execution_count": 1,
   "metadata": {},
   "outputs": [],
   "source": [
    "import pandas as pd\n",
    "import geopandas as gpd\n",
    "import mytools"
   ]
  },
  {
   "cell_type": "code",
   "execution_count": 2,
   "metadata": {},
   "outputs": [],
   "source": [
    "ruofugai_tu = gpd.read_file('G:/1-规划/1其他工作输出/20200522铁塔提供的73个站点补充覆盖/铁塔的弱覆盖区域图层tab/移动汇总.TAB',encoding='gbk')"
   ]
  },
  {
   "cell_type": "code",
   "execution_count": 3,
   "metadata": {},
   "outputs": [],
   "source": [
    "ruancai = pd.read_csv('G:/1-规划/MRO/1、原始数据/摸底测试相关/2020年/4月/软采/汇总-按照采样点排序去重.csv',encoding='gbk')"
   ]
  },
  {
   "cell_type": "code",
   "execution_count": 4,
   "metadata": {},
   "outputs": [],
   "source": [
    "grid = pd.read_pickle('G:/1-规划/评估/软采评估/2020年1季度/软采小区/使用摸底小区/存放数据/grid_add_yanzhong.data')"
   ]
  },
  {
   "cell_type": "code",
   "execution_count": 5,
   "metadata": {},
   "outputs": [
    {
     "data": {
      "text/plain": [
       "Index(['index', 'a.day', 'a.region_name', 'a.grid_id', 'lon', 'lat',\n",
       "       'a.rsrp_sample_count', 'a.rsrp_weak', 'a.un_maxrsrp_sample_count',\n",
       "       'a.un_maxrsrp_weak_l2', 'a.te_maxrsrp_sample_count',\n",
       "       'a.te_maxrsrp_weak_l2', '城市', 'NAME', '有效栅格', 'fgl', '弱覆盖栅格数量',\n",
       "       '严重弱覆盖栅格数量'],\n",
       "      dtype='object')"
      ]
     },
     "execution_count": 5,
     "metadata": {},
     "output_type": "execute_result"
    }
   ],
   "source": [
    "grid.columns"
   ]
  },
  {
   "cell_type": "code",
   "execution_count": 6,
   "metadata": {},
   "outputs": [],
   "source": [
    "grid_use = grid.loc[(grid['弱覆盖栅格数量']==1)|(grid['严重弱覆盖栅格数量']==1)]"
   ]
  },
  {
   "cell_type": "code",
   "execution_count": 7,
   "metadata": {},
   "outputs": [
    {
     "data": {
      "text/plain": [
       "(2357093, 18)"
      ]
     },
     "execution_count": 7,
     "metadata": {},
     "output_type": "execute_result"
    }
   ],
   "source": [
    "grid_use.shape"
   ]
  },
  {
   "cell_type": "code",
   "execution_count": 51,
   "metadata": {},
   "outputs": [],
   "source": [
    "grid_use = grid.drop_duplicates('a.grid_id')"
   ]
  },
  {
   "cell_type": "code",
   "execution_count": 52,
   "metadata": {},
   "outputs": [],
   "source": [
    "grid_p = mytools.gisn.add_points(grid_use,'lon','lat')"
   ]
  },
  {
   "cell_type": "code",
   "execution_count": 53,
   "metadata": {},
   "outputs": [],
   "source": [
    "res = gpd.sjoin(ruofugai_tu,grid_p)"
   ]
  },
  {
   "cell_type": "code",
   "execution_count": 11,
   "metadata": {},
   "outputs": [
    {
     "data": {
      "text/plain": [
       "Index(['day', 'eutrancell_name', 'eutrancell_cgi', 'rsrp_sample_count',\n",
       "       'scrsrpavg', 'rsrq_sum', 'rsrq_sample_count', 'scrsrqavg', 'rsrp_weak',\n",
       "       'rsrp_weak_rate', 'ulsinr_sum', 'ulsinr_sample_count', 'ulsinravg',\n",
       "       '小区CGI(*)', '所属地区', 'RRU经度', 'RRU纬度', '归属区县', '厂家名称', 'atu'],\n",
       "      dtype='object')"
      ]
     },
     "execution_count": 11,
     "metadata": {},
     "output_type": "execute_result"
    }
   ],
   "source": [
    "ruancai.columns"
   ]
  },
  {
   "cell_type": "code",
   "execution_count": 12,
   "metadata": {},
   "outputs": [],
   "source": [
    "ruancai_p = mytools.gisn.add_points(ruancai,'RRU经度','RRU纬度')"
   ]
  },
  {
   "cell_type": "code",
   "execution_count": 14,
   "metadata": {},
   "outputs": [],
   "source": [
    "ruofugai_tu['geometry_p'] = ruofugai_tu.centroid"
   ]
  },
  {
   "cell_type": "code",
   "execution_count": 15,
   "metadata": {},
   "outputs": [],
   "source": [
    "ruofugai_x = ruofugai_tu.set_geometry('geometry_p')"
   ]
  },
  {
   "cell_type": "code",
   "execution_count": 18,
   "metadata": {},
   "outputs": [],
   "source": [
    "changjing = gpd.read_file('G:/1-规划/图层/全省区域规划图层20200110/全省区域规划图层20200110.TAB',encoding='gbk')"
   ]
  },
  {
   "cell_type": "code",
   "execution_count": 31,
   "metadata": {},
   "outputs": [],
   "source": [
    "ruofugai_changjing = gpd.sjoin(ruofugai_x,changjing)"
   ]
  },
  {
   "cell_type": "code",
   "execution_count": 32,
   "metadata": {},
   "outputs": [],
   "source": [
    "ruofugai_changjing['zhishi']='FDD900'"
   ]
  },
  {
   "cell_type": "code",
   "execution_count": 33,
   "metadata": {},
   "outputs": [
    {
     "data": {
      "text/plain": [
       "Index(['地市', '问题区域编号', '面积', '月累计用户数', '弱覆盖栅格占比', '解决方案', '建设方式', '用户密度',\n",
       "       'geometry', 'geometry_p', 'index_right', '地市名称', '县市名称', '区域名称', '区域类型',\n",
       "       '覆盖面积', 'zhishi'],\n",
       "      dtype='object')"
      ]
     },
     "execution_count": 33,
     "metadata": {},
     "output_type": "execute_result"
    }
   ],
   "source": [
    "ruofugai_changjing.columns"
   ]
  },
  {
   "cell_type": "code",
   "execution_count": 34,
   "metadata": {},
   "outputs": [],
   "source": [
    "ruofugai_changjing.loc[ruofugai_changjing['区域类型'].isna(),'区域类型']='农村'"
   ]
  },
  {
   "cell_type": "code",
   "execution_count": 35,
   "metadata": {},
   "outputs": [],
   "source": [
    "ruofugai_changjing['区域类型'] =ruofugai_changjing['区域类型'].replace({'3A景区':'农村','4A景区':'农村','5A景区':'农村','景区':'农村','热点':'农村'})"
   ]
  },
  {
   "cell_type": "code",
   "execution_count": 36,
   "metadata": {},
   "outputs": [],
   "source": [
    "ruofugai_use = mytools.gisn.changjing_distance(ruofugai_changjing,'区域类型','zhishi')"
   ]
  },
  {
   "cell_type": "code",
   "execution_count": 37,
   "metadata": {},
   "outputs": [],
   "source": [
    "ruofugai_use = ruofugai_use.set_geometry('geometry')"
   ]
  },
  {
   "cell_type": "code",
   "execution_count": 40,
   "metadata": {},
   "outputs": [
    {
     "name": "stderr",
     "output_type": "stream",
     "text": [
      "C:\\ProgramData\\Anaconda3\\lib\\site-packages\\pyproj\\crs\\crs.py:53: FutureWarning: '+init=<authority>:<code>' syntax is deprecated. '<authority>:<code>' is the preferred initialization method. When making the change, be mindful of axis order changes: https://pyproj4.github.io/pyproj/stable/gotchas.html#axis-order-changes-in-proj-6\n",
      "  return _prepare_from_string(\" \".join(pjargs))\n",
      "C:\\ProgramData\\Anaconda3\\lib\\site-packages\\pyproj\\crs\\crs.py:53: FutureWarning: '+init=<authority>:<code>' syntax is deprecated. '<authority>:<code>' is the preferred initialization method. When making the change, be mindful of axis order changes: https://pyproj4.github.io/pyproj/stable/gotchas.html#axis-order-changes-in-proj-6\n",
      "  return _prepare_from_string(\" \".join(pjargs))\n"
     ]
    }
   ],
   "source": [
    "df=ruofugai_use.to_crs('+proj=utm +zone=50 +ellps=WGS84 +datum=WGS84 +units=m +no_defs')\n",
    "df['geometry']=df[['geometry','distance']].apply(lambda x:x[0].buffer(x[1]),axis=1)\n",
    "ruofugai_buffer=df.to_crs({'init': 'epsg:4326'})"
   ]
  },
  {
   "cell_type": "code",
   "execution_count": null,
   "metadata": {},
   "outputs": [],
   "source": []
  },
  {
   "cell_type": "code",
   "execution_count": 44,
   "metadata": {},
   "outputs": [],
   "source": [
    "ruofugai_buffer = ruofugai_buffer[['地市', '问题区域编号', '面积', '月累计用户数', '弱覆盖栅格占比', '解决方案', '建设方式', '用户密度',\n",
    "       'geometry', 'geometry_p',  '区域类型','zhishi', 'distance']]"
   ]
  },
  {
   "cell_type": "code",
   "execution_count": 45,
   "metadata": {},
   "outputs": [
    {
     "name": "stderr",
     "output_type": "stream",
     "text": [
      "C:\\ProgramData\\Anaconda3\\lib\\site-packages\\numpy\\lib\\function_base.py:2167: RuntimeWarning: invalid value encountered in ? (vectorized)\n",
      "  outputs = ufunc(*inputs)\n"
     ]
    }
   ],
   "source": [
    "res_buffer = gpd.sjoin(ruofugai_buffer,ruancai_p)"
   ]
  },
  {
   "cell_type": "code",
   "execution_count": 55,
   "metadata": {},
   "outputs": [],
   "source": [
    "res.to_clipboard()"
   ]
  },
  {
   "cell_type": "code",
   "execution_count": 50,
   "metadata": {},
   "outputs": [],
   "source": [
    "res_buffer.to_clipboard()"
   ]
  },
  {
   "cell_type": "code",
   "execution_count": null,
   "metadata": {},
   "outputs": [],
   "source": []
  }
 ],
 "metadata": {
  "kernelspec": {
   "display_name": "Python 3",
   "language": "python",
   "name": "python3"
  },
  "language_info": {
   "codemirror_mode": {
    "name": "ipython",
    "version": 3
   },
   "file_extension": ".py",
   "mimetype": "text/x-python",
   "name": "python",
   "nbconvert_exporter": "python",
   "pygments_lexer": "ipython3",
   "version": "3.7.3"
  }
 },
 "nbformat": 4,
 "nbformat_minor": 2
}
