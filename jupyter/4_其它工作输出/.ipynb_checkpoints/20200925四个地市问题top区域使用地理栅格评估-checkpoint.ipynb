{
 "cells": [
  {
   "cell_type": "code",
   "execution_count": null,
   "metadata": {
    "ExecuteTime": {
     "end_time": "2020-09-28T03:41:15.943807Z",
     "start_time": "2020-09-28T03:41:15.762784Z"
    }
   },
   "outputs": [],
   "source": [
    "%load_ext autoreload\n",
    "%autoreload 2shange"
   ]
  },
  {
   "cell_type": "code",
   "execution_count": null,
   "metadata": {
    "ExecuteTime": {
     "end_time": "2020-09-28T03:41:17.736035Z",
     "start_time": "2020-09-28T03:41:15.954309Z"
    }
   },
   "outputs": [],
   "source": [
    "# import osmnx as oximport pandas as pd\n",
    "import geopandas as gpd\n",
    "import mytools\n",
    "import math\n",
    "import numpy as np\n",
    "from shapely.ops import unary_union\n",
    "import pandas as pd"
   ]
  },
  {
   "cell_type": "code",
   "execution_count": null,
   "metadata": {
    "ExecuteTime": {
     "end_time": "2020-09-28T03:41:18.177091Z",
     "start_time": "2020-09-28T03:41:17.746036Z"
    }
   },
   "outputs": [],
   "source": [
    "from shapely.geometry import Polygon,Point,LineString,MultiPolygon\n",
    "import matplotlib.pyplot as plt\n",
    "from descartes import PolygonPatch\n",
    "import matplotlib.pyplot as plt\n",
    "import simplekml"
   ]
  },
  {
   "cell_type": "code",
   "execution_count": null,
   "metadata": {
    "ExecuteTime": {
     "end_time": "2020-09-27T01:28:50.267648Z",
     "start_time": "2020-09-27T01:28:45.907094Z"
    }
   },
   "outputs": [],
   "source": [
    "#导入竞对数据\n",
    "jingd = pd.read_csv('G:/1-规划/评估/软采评估/2020年9月/3-输出内容/各地市软采小区数据/软采小区-武汉.csv',encoding='gbk')\n",
    "gongcan = pd.read_csv('G:/1-规划/评估/软采评估/2020年9月/1-基础数据/基站数据库/ltejizhan20200903.csv',encoding='gbk',usecols=['小区CGI(*)','RRU经度', 'RRU纬度'])"
   ]
  },
  {
   "cell_type": "code",
   "execution_count": null,
   "metadata": {
    "ExecuteTime": {
     "end_time": "2020-09-27T01:29:11.212808Z",
     "start_time": "2020-09-27T01:28:50.298152Z"
    }
   },
   "outputs": [],
   "source": [
    "#导入投诉数据\n",
    "tousu = pd.ExcelFile('G:/1-规划/1其他工作输出/20200925四个区县进行top平估/基础数据/广义投诉CI表-0910_TO赵曼(1).xlsx')"
   ]
  },
  {
   "cell_type": "markdown",
   "metadata": {},
   "source": [
    "# 导入区域底图图层"
   ]
  },
  {
   "cell_type": "code",
   "execution_count": null,
   "metadata": {
    "ExecuteTime": {
     "end_time": "2020-09-27T07:11:01.955341Z",
     "start_time": "2020-09-27T07:11:01.829825Z"
    }
   },
   "outputs": [],
   "source": [
    "city = '区分公司名称'\n",
    "quadrat_width=1000\n",
    "city_name = '青山'"
   ]
  },
  {
   "cell_type": "code",
   "execution_count": null,
   "metadata": {
    "ExecuteTime": {
     "end_time": "2020-09-27T09:37:31.184931Z",
     "start_time": "2020-09-27T09:37:27.295438Z"
    }
   },
   "outputs": [],
   "source": [
    "#导入栅格数据\n",
    "f = mytools.othern.file_name_paths('G:/1-规划/评估/软采评估/2020年二季度/3-输出内容/栅格数据/武汉/')\n",
    "wuhan_grid = pd.DataFrame()\n",
    "for name in f:\n",
    "    if  city_name in ['青山','洪山','武昌','东新']:\n",
    "        data_t = pd.read_csv(name,encoding='gbk')\n",
    "        wuhan_grid = wuhan_grid.append(data_t)"
   ]
  },
  {
   "cell_type": "code",
   "execution_count": null,
   "metadata": {
    "ExecuteTime": {
     "end_time": "2020-09-27T07:11:04.336643Z",
     "start_time": "2020-09-27T07:11:04.047107Z"
    }
   },
   "outputs": [],
   "source": [
    "quxian = mytools.gisn.maps('武汉')\n",
    "quxian"
   ]
  },
  {
   "cell_type": "code",
   "execution_count": null,
   "metadata": {
    "ExecuteTime": {
     "end_time": "2020-09-27T07:11:04.877212Z",
     "start_time": "2020-09-27T07:11:04.870711Z"
    }
   },
   "outputs": [],
   "source": [
    "qingshan = quxian.loc[quxian[city]==city_name]"
   ]
  },
  {
   "cell_type": "code",
   "execution_count": null,
   "metadata": {
    "ExecuteTime": {
     "end_time": "2020-09-27T07:11:05.508292Z",
     "start_time": "2020-09-27T07:11:05.400279Z"
    }
   },
   "outputs": [],
   "source": [
    "qingshan = mytools.gisn.buffer(qingshan,0.001)"
   ]
  },
  {
   "cell_type": "code",
   "execution_count": null,
   "metadata": {
    "ExecuteTime": {
     "end_time": "2020-09-27T07:11:06.336897Z",
     "start_time": "2020-09-27T07:11:06.046861Z"
    }
   },
   "outputs": [],
   "source": [
    "qingshan.plot(figsize =(13,13),color= '#BFBFBF',edgecolor='#000000', lw=0.4)#,k = 4, cmap = plt.cm.Greens"
   ]
  },
  {
   "cell_type": "markdown",
   "metadata": {},
   "source": [
    "# 使用线条划分底图为栅格"
   ]
  },
  {
   "cell_type": "code",
   "execution_count": null,
   "metadata": {
    "ExecuteTime": {
     "end_time": "2020-09-27T07:11:07.298520Z",
     "start_time": "2020-09-27T07:11:06.888467Z"
    }
   },
   "outputs": [],
   "source": [
    "#转化坐标系\n",
    "qingshan = qingshan.to_crs({'init': 'epsg:32650'})\n",
    "#去除geometry\n",
    "geometry = qingshan['geometry'].iloc[0]\n",
    "if isinstance(geometry, Polygon):\n",
    "    geometry = MultiPolygon([geometry])\n",
    "#用线划分geometry生成Mutipolygon\n",
    "geometry_cut = mytools.gisn.quadrat_cut_geometry(geometry, quadrat_width=quadrat_width)\n",
    "#替换geometry\n",
    "qingshan['geometry'].iloc[0] = geometry_cut\n",
    "#拆分MultiPolygon\n",
    "qingshan_grid = qingshan.explode()\n",
    "#转回坐标系\n",
    "qingshan_grid = qingshan_grid.to_crs({'init': 'epsg:4326'})\n",
    "#保留部分列\n",
    "qingshan_res = qingshan_grid.reset_index()[[city,'geometry']]\n",
    "#添加id编号\n",
    "qingshan_res['id'] = [ 'region_grid_{}'.format(str(name)) for name in qingshan_res.index+1]\n",
    "#导出tab格式数据\n",
    "# qingshan_res.to_file('d:/qingshan.TAB',driver=\"MapInfo File\",encoding='gbk')"
   ]
  },
  {
   "cell_type": "code",
   "execution_count": null,
   "metadata": {
    "ExecuteTime": {
     "end_time": "2020-09-27T07:11:08.190633Z",
     "start_time": "2020-09-27T07:11:07.834588Z"
    }
   },
   "outputs": [],
   "source": [
    "qingshan_res.plot(figsize =(13,13),color= '#BFBFBF',edgecolor='#000000', lw=0.4)"
   ]
  },
  {
   "cell_type": "code",
   "execution_count": null,
   "metadata": {
    "ExecuteTime": {
     "end_time": "2020-09-27T07:11:08.739202Z",
     "start_time": "2020-09-27T07:11:08.734202Z"
    }
   },
   "outputs": [],
   "source": [
    "qingshan_res.shape"
   ]
  },
  {
   "cell_type": "markdown",
   "metadata": {},
   "source": [
    "# 导入栅格数据"
   ]
  },
  {
   "cell_type": "code",
   "execution_count": null,
   "metadata": {
    "ExecuteTime": {
     "end_time": "2020-09-27T07:11:09.337278Z",
     "start_time": "2020-09-27T07:11:09.319776Z"
    }
   },
   "outputs": [],
   "source": [
    "wuhan_grid.head(1)"
   ]
  },
  {
   "cell_type": "code",
   "execution_count": null,
   "metadata": {
    "ExecuteTime": {
     "end_time": "2020-09-27T07:11:09.883348Z",
     "start_time": "2020-09-27T07:11:09.880347Z"
    }
   },
   "outputs": [],
   "source": [
    "# wuhan_grid['弱覆盖栅格数量']=np.nan\n",
    "# wuhan_grid.loc[(wuhan_grid['有效栅格']==1) & (wuhan_grid['fgl']<0.936),'弱覆盖栅格数量']=1\n",
    "\n",
    "# wuhan_grid['严重弱覆盖栅格数量']=np.nan\n",
    "# wuhan_grid.loc[(wuhan_grid['有效栅格']==1) & (wuhan_grid['fgl']<0.7),'严重弱覆盖栅格数量']=1\n",
    "\n",
    "# qingshan_grid_data = wuhan_grid.loc[wuhan_grid['区县']=='青山']"
   ]
  },
  {
   "cell_type": "code",
   "execution_count": null,
   "metadata": {
    "ExecuteTime": {
     "end_time": "2020-09-27T09:37:53.838308Z",
     "start_time": "2020-09-27T09:37:47.749035Z"
    }
   },
   "outputs": [],
   "source": [
    "qingshan_data_p = mytools.gisn.add_points(wuhan_grid,'lon','lat')"
   ]
  },
  {
   "cell_type": "markdown",
   "metadata": {},
   "source": [
    "# 区域栅格和软采栅格数据匹配"
   ]
  },
  {
   "cell_type": "code",
   "execution_count": null,
   "metadata": {
    "ExecuteTime": {
     "end_time": "2020-09-27T07:11:12.846724Z",
     "start_time": "2020-09-27T07:11:11.191514Z"
    }
   },
   "outputs": [],
   "source": [
    "res= gpd.sjoin(qingshan_res,qingshan_data_p)"
   ]
  },
  {
   "cell_type": "code",
   "execution_count": null,
   "metadata": {
    "ExecuteTime": {
     "end_time": "2020-09-27T07:11:13.363790Z",
     "start_time": "2020-09-27T07:11:13.358789Z"
    }
   },
   "outputs": [],
   "source": [
    "res.columns"
   ]
  },
  {
   "cell_type": "code",
   "execution_count": null,
   "metadata": {
    "ExecuteTime": {
     "end_time": "2020-09-27T07:11:13.929862Z",
     "start_time": "2020-09-27T07:11:13.913860Z"
    }
   },
   "outputs": [],
   "source": [
    "res_groupby = res.groupby('id').agg({'a.rsrp_sample_count':'sum','a.rsrp_weak':'sum','a.grid_id':'count','有效栅格':'count','弱覆盖栅格数量':'count','严重弱覆盖栅格数量':'count'})"
   ]
  },
  {
   "cell_type": "code",
   "execution_count": null,
   "metadata": {
    "ExecuteTime": {
     "end_time": "2020-09-27T07:11:14.479431Z",
     "start_time": "2020-09-27T07:11:14.474931Z"
    }
   },
   "outputs": [],
   "source": [
    "res_groupby = res_groupby.reset_index()"
   ]
  },
  {
   "cell_type": "code",
   "execution_count": null,
   "metadata": {
    "ExecuteTime": {
     "end_time": "2020-09-27T07:11:15.010999Z",
     "start_time": "2020-09-27T07:11:15.001998Z"
    }
   },
   "outputs": [],
   "source": [
    "res_groupby.head(1)"
   ]
  },
  {
   "cell_type": "code",
   "execution_count": null,
   "metadata": {
    "ExecuteTime": {
     "end_time": "2020-09-27T07:11:15.518563Z",
     "start_time": "2020-09-27T07:11:15.514563Z"
    }
   },
   "outputs": [],
   "source": [
    "res_groupby.shape"
   ]
  },
  {
   "cell_type": "markdown",
   "metadata": {},
   "source": [
    "# 区域栅格和投诉量匹配"
   ]
  },
  {
   "cell_type": "code",
   "execution_count": null,
   "metadata": {
    "ExecuteTime": {
     "end_time": "2020-09-27T07:11:16.028628Z",
     "start_time": "2020-09-27T07:11:16.023127Z"
    }
   },
   "outputs": [],
   "source": [
    "tousu.sheet_names"
   ]
  },
  {
   "cell_type": "code",
   "execution_count": null,
   "metadata": {
    "ExecuteTime": {
     "end_time": "2020-09-27T07:11:17.666836Z",
     "start_time": "2020-09-27T07:11:16.528692Z"
    }
   },
   "outputs": [],
   "source": [
    "tousu_1_4 = tousu.parse()"
   ]
  },
  {
   "cell_type": "code",
   "execution_count": null,
   "metadata": {
    "ExecuteTime": {
     "end_time": "2020-09-27T07:11:18.199404Z",
     "start_time": "2020-09-27T07:11:18.194903Z"
    }
   },
   "outputs": [],
   "source": [
    "tousu_1_4.columns"
   ]
  },
  {
   "cell_type": "code",
   "execution_count": null,
   "metadata": {
    "ExecuteTime": {
     "end_time": "2020-09-27T07:11:18.741473Z",
     "start_time": "2020-09-27T07:11:18.727471Z"
    },
    "scrolled": true
   },
   "outputs": [],
   "source": [
    "tousu_1_4.head(1)"
   ]
  },
  {
   "cell_type": "code",
   "execution_count": null,
   "metadata": {
    "ExecuteTime": {
     "end_time": "2020-09-27T07:11:19.279541Z",
     "start_time": "2020-09-27T07:11:19.261539Z"
    }
   },
   "outputs": [],
   "source": [
    "tousu_1_4 = tousu_1_4.loc[(tousu_1_4['经度']>0) & (tousu_1_4['纬度']>0)]"
   ]
  },
  {
   "cell_type": "code",
   "execution_count": null,
   "metadata": {
    "ExecuteTime": {
     "end_time": "2020-09-27T07:11:19.794606Z",
     "start_time": "2020-09-27T07:11:19.789106Z"
    }
   },
   "outputs": [],
   "source": [
    "tousu_1_4['经度'] = pd.to_numeric(tousu_1_4['经度'])"
   ]
  },
  {
   "cell_type": "code",
   "execution_count": null,
   "metadata": {
    "ExecuteTime": {
     "end_time": "2020-09-27T07:11:20.304171Z",
     "start_time": "2020-09-27T07:11:20.298670Z"
    }
   },
   "outputs": [],
   "source": [
    "tousu_1_4['纬度'] = pd.to_numeric(tousu_1_4['纬度'])"
   ]
  },
  {
   "cell_type": "code",
   "execution_count": null,
   "metadata": {
    "ExecuteTime": {
     "end_time": "2020-09-27T07:11:20.824237Z",
     "start_time": "2020-09-27T07:11:20.813236Z"
    }
   },
   "outputs": [],
   "source": [
    "tousu_1_4['2020年投诉量'] = tousu_1_4['2020年6月投诉量']+tousu_1_4['2020年7月投诉量']+tousu_1_4['2020年8月投诉量']"
   ]
  },
  {
   "cell_type": "code",
   "execution_count": null,
   "metadata": {
    "ExecuteTime": {
     "end_time": "2020-09-27T07:11:25.119783Z",
     "start_time": "2020-09-27T07:11:21.338302Z"
    }
   },
   "outputs": [],
   "source": [
    "tousu_p = mytools.gisn.add_points(tousu_1_4,'经度','纬度')"
   ]
  },
  {
   "cell_type": "code",
   "execution_count": null,
   "metadata": {
    "ExecuteTime": {
     "end_time": "2020-09-27T07:11:34.309450Z",
     "start_time": "2020-09-27T07:11:25.738861Z"
    },
    "scrolled": true
   },
   "outputs": [],
   "source": [
    "res_tousu= gpd.sjoin(qingshan_res,tousu_p)"
   ]
  },
  {
   "cell_type": "code",
   "execution_count": null,
   "metadata": {
    "ExecuteTime": {
     "end_time": "2020-09-27T07:11:34.836016Z",
     "start_time": "2020-09-27T07:11:34.828015Z"
    }
   },
   "outputs": [],
   "source": [
    "tousu_groupby = res_tousu.groupby('id').agg({'2020年投诉量':'sum'})"
   ]
  },
  {
   "cell_type": "code",
   "execution_count": null,
   "metadata": {
    "ExecuteTime": {
     "end_time": "2020-09-27T07:11:35.359083Z",
     "start_time": "2020-09-27T07:11:35.355082Z"
    }
   },
   "outputs": [],
   "source": [
    "tousu_groupby = tousu_groupby.reset_index()"
   ]
  },
  {
   "cell_type": "code",
   "execution_count": null,
   "metadata": {
    "ExecuteTime": {
     "end_time": "2020-09-27T07:11:35.939657Z",
     "start_time": "2020-09-27T07:11:35.930155Z"
    }
   },
   "outputs": [],
   "source": [
    "qingshan_res2 = res_groupby.merge(tousu_groupby,how='left',on='id')"
   ]
  },
  {
   "cell_type": "markdown",
   "metadata": {},
   "source": [
    "加入竞对的数据"
   ]
  },
  {
   "cell_type": "code",
   "execution_count": null,
   "metadata": {
    "ExecuteTime": {
     "end_time": "2020-09-27T07:11:36.517730Z",
     "start_time": "2020-09-27T07:11:36.470724Z"
    }
   },
   "outputs": [],
   "source": [
    "gongcan_use = gongcan.loc[gongcan['RRU经度']>0]"
   ]
  },
  {
   "cell_type": "code",
   "execution_count": null,
   "metadata": {
    "ExecuteTime": {
     "end_time": "2020-09-27T07:11:37.262825Z",
     "start_time": "2020-09-27T07:11:37.043297Z"
    }
   },
   "outputs": [],
   "source": [
    "jingd_use = jingd.merge(gongcan_use,how='left',on='小区CGI(*)')"
   ]
  },
  {
   "cell_type": "code",
   "execution_count": null,
   "metadata": {
    "ExecuteTime": {
     "end_time": "2020-09-27T07:11:38.981543Z",
     "start_time": "2020-09-27T07:11:37.794892Z"
    }
   },
   "outputs": [],
   "source": [
    "jingd_p = mytools.gisn.add_points(jingd_use.loc[jingd_use['RRU经度']>0],'RRU经度','RRU纬度')"
   ]
  },
  {
   "cell_type": "code",
   "execution_count": null,
   "metadata": {
    "ExecuteTime": {
     "end_time": "2020-09-27T07:11:44.969303Z",
     "start_time": "2020-09-27T07:11:39.520111Z"
    }
   },
   "outputs": [],
   "source": [
    "res_tousu2= gpd.sjoin(qingshan_res,jingd_p)"
   ]
  },
  {
   "cell_type": "code",
   "execution_count": null,
   "metadata": {
    "ExecuteTime": {
     "end_time": "2020-09-27T07:11:45.501371Z",
     "start_time": "2020-09-27T07:11:45.492870Z"
    }
   },
   "outputs": [],
   "source": [
    "tousu_groupby2 = res_tousu2.groupby('id').agg({'hd':'sum'})"
   ]
  },
  {
   "cell_type": "code",
   "execution_count": null,
   "metadata": {
    "ExecuteTime": {
     "end_time": "2020-09-27T07:11:46.045440Z",
     "start_time": "2020-09-27T07:11:46.040939Z"
    }
   },
   "outputs": [],
   "source": [
    "tousu_groupby2 = tousu_groupby2.reset_index()"
   ]
  },
  {
   "cell_type": "code",
   "execution_count": null,
   "metadata": {
    "ExecuteTime": {
     "end_time": "2020-09-27T07:11:46.573507Z",
     "start_time": "2020-09-27T07:11:46.563006Z"
    }
   },
   "outputs": [],
   "source": [
    "qingshan_res2.head(1)"
   ]
  },
  {
   "cell_type": "code",
   "execution_count": null,
   "metadata": {
    "ExecuteTime": {
     "end_time": "2020-09-27T07:11:47.091073Z",
     "start_time": "2020-09-27T07:11:47.083072Z"
    }
   },
   "outputs": [],
   "source": [
    "tousu_groupby2.head(1)"
   ]
  },
  {
   "cell_type": "code",
   "execution_count": null,
   "metadata": {
    "ExecuteTime": {
     "end_time": "2020-09-27T07:11:47.610639Z",
     "start_time": "2020-09-27T07:11:47.603638Z"
    }
   },
   "outputs": [],
   "source": [
    "qingshan_res2 = qingshan_res2.merge(tousu_groupby2,how='left',on='id')"
   ]
  },
  {
   "cell_type": "code",
   "execution_count": null,
   "metadata": {},
   "outputs": [],
   "source": []
  },
  {
   "cell_type": "markdown",
   "metadata": {},
   "source": [
    "# 结果放入区域栅格列中"
   ]
  },
  {
   "cell_type": "code",
   "execution_count": null,
   "metadata": {
    "ExecuteTime": {
     "end_time": "2020-09-27T07:11:48.143706Z",
     "start_time": "2020-09-27T07:11:48.124204Z"
    }
   },
   "outputs": [],
   "source": [
    "qingshan_res2.sort_values('hd',ascending=False)"
   ]
  },
  {
   "cell_type": "code",
   "execution_count": null,
   "metadata": {
    "ExecuteTime": {
     "end_time": "2020-09-27T07:11:48.669773Z",
     "start_time": "2020-09-27T07:11:48.660772Z"
    }
   },
   "outputs": [],
   "source": [
    "qingshan_res3 = qingshan_res.merge(qingshan_res2,how='left',on='id')"
   ]
  },
  {
   "cell_type": "code",
   "execution_count": null,
   "metadata": {
    "ExecuteTime": {
     "end_time": "2020-09-27T07:11:49.203841Z",
     "start_time": "2020-09-27T07:11:49.187839Z"
    }
   },
   "outputs": [],
   "source": [
    "qingshan_res3.head(1)"
   ]
  },
  {
   "cell_type": "code",
   "execution_count": null,
   "metadata": {
    "ExecuteTime": {
     "end_time": "2020-09-27T07:11:50.103455Z",
     "start_time": "2020-09-27T07:11:49.770413Z"
    }
   },
   "outputs": [],
   "source": [
    "fig, ax = plt.subplots(figsize=(12, 12))\n",
    "ax = qingshan_res3.plot(ax=ax, column='a.rsrp_sample_count', cmap =plt.cm.Greens, edgecolor='#000000', lw=0.2)\n",
    "\n",
    "#关闭坐标轴\n",
    "# ax.axis('off')\n",
    "# plt.show()"
   ]
  },
  {
   "cell_type": "markdown",
   "metadata": {},
   "source": [
    "# 评分系统"
   ]
  },
  {
   "cell_type": "code",
   "execution_count": null,
   "metadata": {
    "ExecuteTime": {
     "end_time": "2020-09-27T07:11:50.654025Z",
     "start_time": "2020-09-27T07:11:50.637523Z"
    }
   },
   "outputs": [],
   "source": [
    "qingshan_res3.head(1)"
   ]
  },
  {
   "cell_type": "code",
   "execution_count": null,
   "metadata": {
    "ExecuteTime": {
     "end_time": "2020-09-27T07:11:51.211096Z",
     "start_time": "2020-09-27T07:11:51.205095Z"
    }
   },
   "outputs": [],
   "source": [
    "qingshan_res4 = qingshan_res3[['id','a.rsrp_sample_count','a.rsrp_weak','a.grid_id','有效栅格','弱覆盖栅格数量','严重弱覆盖栅格数量','2020年投诉量','hd','geometry']]"
   ]
  },
  {
   "cell_type": "code",
   "execution_count": null,
   "metadata": {
    "ExecuteTime": {
     "end_time": "2020-09-27T07:11:51.764666Z",
     "start_time": "2020-09-27T07:11:51.759665Z"
    }
   },
   "outputs": [],
   "source": [
    "qingshan_res4.columns=['id', '总点', '弱点', '栅格数', '有效栅格', '弱覆盖栅格数量','严重弱覆盖栅格数量','投诉量','黑点','geometry']"
   ]
  },
  {
   "cell_type": "code",
   "execution_count": null,
   "metadata": {
    "ExecuteTime": {
     "end_time": "2020-09-27T07:11:52.301734Z",
     "start_time": "2020-09-27T07:11:52.296734Z"
    }
   },
   "outputs": [],
   "source": [
    "qingshan_res4['覆盖率'] = 1 - qingshan_res4['弱点']/qingshan_res4['总点']"
   ]
  },
  {
   "cell_type": "code",
   "execution_count": null,
   "metadata": {
    "ExecuteTime": {
     "end_time": "2020-09-27T07:11:52.816800Z",
     "start_time": "2020-09-27T07:11:52.811799Z"
    }
   },
   "outputs": [],
   "source": [
    "qingshan_res4['总点'].max()"
   ]
  },
  {
   "cell_type": "code",
   "execution_count": null,
   "metadata": {
    "ExecuteTime": {
     "end_time": "2020-09-27T07:11:53.385372Z",
     "start_time": "2020-09-27T07:11:53.377371Z"
    }
   },
   "outputs": [],
   "source": [
    "qingshan_res4['k1']=20 * (qingshan_res4['弱点']-1000)/(qingshan_res4['弱点'].max()-1000)\n",
    "qingshan_res4.loc[(qingshan_res4['弱点']<1000),'k1']=0"
   ]
  },
  {
   "cell_type": "code",
   "execution_count": null,
   "metadata": {
    "ExecuteTime": {
     "end_time": "2020-09-27T07:11:53.976947Z",
     "start_time": "2020-09-27T07:11:53.968446Z"
    }
   },
   "outputs": [],
   "source": [
    "qingshan_res4['k2']=30 * (qingshan_res4['严重弱覆盖栅格数量'])/(qingshan_res4['严重弱覆盖栅格数量'].max())"
   ]
  },
  {
   "cell_type": "code",
   "execution_count": null,
   "metadata": {
    "ExecuteTime": {
     "end_time": "2020-09-27T07:11:54.572523Z",
     "start_time": "2020-09-27T07:11:54.561021Z"
    }
   },
   "outputs": [],
   "source": [
    "qingshan_res4['k3']=qingshan_res4['覆盖率'].apply(lambda x:(1-(max(min(x,0.936),0.7)-0.7)/(0.936-0.7))*20)\n",
    "qingshan_res4.loc[(qingshan_res4['覆盖率']<0.7),'k3']=20\n",
    "qingshan_res4.loc[(qingshan_res4['覆盖率']>=0.936),'k3']=0"
   ]
  },
  {
   "cell_type": "code",
   "execution_count": null,
   "metadata": {
    "ExecuteTime": {
     "end_time": "2020-09-27T07:11:55.111091Z",
     "start_time": "2020-09-27T07:11:55.105590Z"
    }
   },
   "outputs": [],
   "source": [
    "qingshan_res4['k4']=20 * (qingshan_res4['投诉量'])/(qingshan_res4['投诉量'].max())"
   ]
  },
  {
   "cell_type": "code",
   "execution_count": null,
   "metadata": {
    "ExecuteTime": {
     "end_time": "2020-09-27T07:11:55.643659Z",
     "start_time": "2020-09-27T07:11:55.638658Z"
    }
   },
   "outputs": [],
   "source": [
    "qingshan_res4['k5']=10 * (qingshan_res4['黑点'])/(qingshan_res4['黑点'].max())"
   ]
  },
  {
   "cell_type": "code",
   "execution_count": null,
   "metadata": {
    "ExecuteTime": {
     "end_time": "2020-09-27T07:11:56.214731Z",
     "start_time": "2020-09-27T07:11:56.207230Z"
    }
   },
   "outputs": [],
   "source": [
    "qingshan_res4['k']=qingshan_res4['k1']+qingshan_res4['k2']+qingshan_res4['k3']+qingshan_res4['k4']+qingshan_res4['k5']"
   ]
  },
  {
   "cell_type": "code",
   "execution_count": null,
   "metadata": {
    "ExecuteTime": {
     "end_time": "2020-09-27T07:11:56.769802Z",
     "start_time": "2020-09-27T07:11:56.763801Z"
    }
   },
   "outputs": [],
   "source": [
    "qingshan_res4 = qingshan_res4.sort_values('k',ascending=False)"
   ]
  },
  {
   "cell_type": "code",
   "execution_count": null,
   "metadata": {
    "ExecuteTime": {
     "end_time": "2020-09-27T07:11:57.695919Z",
     "start_time": "2020-09-27T07:11:57.339374Z"
    }
   },
   "outputs": [],
   "source": [
    "fig, ax = plt.subplots(figsize=(12, 12))\n",
    "ax = qingshan_res4.plot(ax=ax, column='k', cmap =plt.cm.Reds, edgecolor='#000000', lw=0.2)\n"
   ]
  },
  {
   "cell_type": "code",
   "execution_count": null,
   "metadata": {
    "ExecuteTime": {
     "end_time": "2020-09-27T07:11:58.248989Z",
     "start_time": "2020-09-27T07:11:58.239988Z"
    }
   },
   "outputs": [],
   "source": [
    "qingshan_res4['经纬度'] = qingshan_res4.centroid\n",
    "\n",
    "# qingshan_res4.to_clipboard()"
   ]
  },
  {
   "cell_type": "markdown",
   "metadata": {},
   "source": [
    "# 选取top"
   ]
  },
  {
   "cell_type": "code",
   "execution_count": null,
   "metadata": {
    "ExecuteTime": {
     "end_time": "2020-09-27T05:31:17.766446Z",
     "start_time": "2020-09-27T05:31:17.763445Z"
    }
   },
   "outputs": [],
   "source": [
    "# data = pd.read_clipboard()\n",
    "\n",
    "# qingshan_res5 = qingshan_res4.merge(data,how='right',on='id')"
   ]
  },
  {
   "cell_type": "code",
   "execution_count": null,
   "metadata": {
    "ExecuteTime": {
     "end_time": "2020-09-27T05:31:18.248507Z",
     "start_time": "2020-09-27T05:31:18.236505Z"
    }
   },
   "outputs": [],
   "source": [
    "qingshan_res4.info()"
   ]
  },
  {
   "cell_type": "code",
   "execution_count": null,
   "metadata": {
    "ExecuteTime": {
     "end_time": "2020-09-27T05:31:18.734068Z",
     "start_time": "2020-09-27T05:31:18.723567Z"
    }
   },
   "outputs": [],
   "source": [
    "shuchu_g = pd.read_csv('G:/1-规划/1其他工作输出/20200925四个区县进行top平估/需要输出图层的栅格.csv',encoding='gbk')\n",
    "zong_g = pd.read_csv('G:/1-规划/1其他工作输出/20200925四个区县进行top平估/四个区县的总得分.csv',encoding='gbk')"
   ]
  },
  {
   "cell_type": "code",
   "execution_count": null,
   "metadata": {
    "ExecuteTime": {
     "end_time": "2020-09-27T05:31:19.214629Z",
     "start_time": "2020-09-27T05:31:19.208629Z"
    }
   },
   "outputs": [],
   "source": [
    "qingshan_res4 = qingshan_res4.drop(columns='经纬度')"
   ]
  },
  {
   "cell_type": "code",
   "execution_count": null,
   "metadata": {
    "ExecuteTime": {
     "end_time": "2020-09-27T05:31:19.708192Z",
     "start_time": "2020-09-27T05:31:19.701191Z"
    }
   },
   "outputs": [],
   "source": [
    "qingshan_res4 = qingshan_res4.dropna(subset=['总点', '弱点'])"
   ]
  },
  {
   "cell_type": "code",
   "execution_count": null,
   "metadata": {
    "ExecuteTime": {
     "end_time": "2020-09-27T05:31:20.241260Z",
     "start_time": "2020-09-27T05:31:20.186753Z"
    }
   },
   "outputs": [],
   "source": [
    "qingshan_res4['总点弱点'] =qingshan_res4.apply(lambda x:str(int(x['总点']))+\"_\"+str(int(x['弱点'])),axis=1)"
   ]
  },
  {
   "cell_type": "code",
   "execution_count": null,
   "metadata": {
    "ExecuteTime": {
     "end_time": "2020-09-27T05:31:20.739323Z",
     "start_time": "2020-09-27T05:31:20.734322Z"
    }
   },
   "outputs": [],
   "source": [
    "qingshan_res4 = qingshan_res4.reset_index(drop=True)"
   ]
  },
  {
   "cell_type": "code",
   "execution_count": null,
   "metadata": {
    "ExecuteTime": {
     "end_time": "2020-09-27T05:31:21.210883Z",
     "start_time": "2020-09-27T05:31:21.205882Z"
    }
   },
   "outputs": [],
   "source": [
    "qingshan_res4.columns"
   ]
  },
  {
   "cell_type": "code",
   "execution_count": null,
   "metadata": {
    "ExecuteTime": {
     "end_time": "2020-09-27T05:31:21.686943Z",
     "start_time": "2020-09-27T05:31:21.680443Z"
    }
   },
   "outputs": [],
   "source": [
    "qingshan_res4_2 = qingshan_res4[['总点弱点','geometry']]"
   ]
  },
  {
   "cell_type": "code",
   "execution_count": null,
   "metadata": {
    "ExecuteTime": {
     "end_time": "2020-09-27T05:31:22.161004Z",
     "start_time": "2020-09-27T05:31:22.155503Z"
    }
   },
   "outputs": [],
   "source": [
    "zong_g.columns"
   ]
  },
  {
   "cell_type": "code",
   "execution_count": null,
   "metadata": {
    "ExecuteTime": {
     "end_time": "2020-09-27T05:31:22.639564Z",
     "start_time": "2020-09-27T05:31:22.635564Z"
    }
   },
   "outputs": [],
   "source": [
    "zong_g = zong_g.astype('object')"
   ]
  },
  {
   "cell_type": "code",
   "execution_count": null,
   "metadata": {
    "ExecuteTime": {
     "end_time": "2020-09-27T05:31:23.136127Z",
     "start_time": "2020-09-27T05:31:23.130627Z"
    }
   },
   "outputs": [],
   "source": [
    "qingshan_res4_2.columns=['count_sum','geometry']"
   ]
  },
  {
   "cell_type": "code",
   "execution_count": null,
   "metadata": {
    "ExecuteTime": {
     "end_time": "2020-09-27T05:31:23.622189Z",
     "start_time": "2020-09-27T05:31:23.617189Z"
    }
   },
   "outputs": [],
   "source": [
    "qingshan_res4_2['count_sum'] = qingshan_res4_2['count_sum'].astype('object')"
   ]
  },
  {
   "cell_type": "code",
   "execution_count": null,
   "metadata": {
    "ExecuteTime": {
     "end_time": "2020-09-27T05:31:24.133254Z",
     "start_time": "2020-09-27T05:31:24.103250Z"
    }
   },
   "outputs": [],
   "source": [
    "qingshan_res4_2.to_csv('G:/1-规划/1其他工作输出/20200925四个区县进行top平估/linshi2.csv',encoding='gbk',index=False)"
   ]
  },
  {
   "cell_type": "code",
   "execution_count": null,
   "metadata": {
    "ExecuteTime": {
     "end_time": "2020-09-28T03:41:29.172487Z",
     "start_time": "2020-09-28T03:41:29.073975Z"
    }
   },
   "outputs": [],
   "source": [
    "qingshan_res4_3 = pd.read_csv('G:/1-规划/1其他工作输出/20200925四个区县进行top平估/linshi3.csv',encoding='gbk')"
   ]
  },
  {
   "cell_type": "code",
   "execution_count": null,
   "metadata": {
    "ExecuteTime": {
     "end_time": "2020-09-28T03:41:29.424019Z",
     "start_time": "2020-09-28T03:41:29.417018Z"
    }
   },
   "outputs": [],
   "source": [
    "qingshan_res4 = mytools.gisn.read_geocsv(qingshan_res4_3)"
   ]
  },
  {
   "cell_type": "code",
   "execution_count": null,
   "metadata": {
    "ExecuteTime": {
     "end_time": "2020-09-28T03:41:30.147111Z",
     "start_time": "2020-09-28T03:41:30.139610Z"
    }
   },
   "outputs": [],
   "source": [
    "qingshan_res4.shape"
   ]
  },
  {
   "cell_type": "code",
   "execution_count": null,
   "metadata": {
    "ExecuteTime": {
     "end_time": "2020-09-28T03:44:53.688958Z",
     "start_time": "2020-09-28T03:44:53.670955Z"
    }
   },
   "outputs": [],
   "source": [
    "qingshan_res4[['lon','lat']] = qingshan_res4.apply(lambda x:pd.Series(x['geometry'].centroid.coords[:][0]),axis=1)#"
   ]
  },
  {
   "cell_type": "code",
   "execution_count": null,
   "metadata": {
    "ExecuteTime": {
     "end_time": "2020-09-28T03:45:02.292550Z",
     "start_time": "2020-09-28T03:45:02.260546Z"
    }
   },
   "outputs": [],
   "source": [
    "qingshan_res4.to_clipboard()"
   ]
  },
  {
   "cell_type": "code",
   "execution_count": null,
   "metadata": {},
   "outputs": [],
   "source": [
    "data_linshi = pd.read_csv('G:/1-规划/1其他工作输出/20200925四个区县进行top平估/linshi.csv',encoding='gbk')"
   ]
  },
  {
   "cell_type": "code",
   "execution_count": null,
   "metadata": {},
   "outputs": [],
   "source": [
    "qingshan_res4 = mytools.gisn.read_geocsv()"
   ]
  },
  {
   "cell_type": "code",
   "execution_count": null,
   "metadata": {
    "ExecuteTime": {
     "end_time": "2020-09-27T02:18:57.050961Z",
     "start_time": "2020-09-27T02:18:57.045960Z"
    }
   },
   "outputs": [],
   "source": [
    "# qingshan_res5 = qingshan_res4.head(5)"
   ]
  },
  {
   "cell_type": "code",
   "execution_count": null,
   "metadata": {
    "ExecuteTime": {
     "end_time": "2020-09-25T08:41:28.529234Z",
     "start_time": "2020-09-25T08:41:28.514232Z"
    }
   },
   "outputs": [],
   "source": [
    "qingshan_res5.to_csv(f'G:/1-规划/1其他工作输出/20200925四个区县进行top平估/{city_name}top5.csv',encoding='gbk',index=False)"
   ]
  },
  {
   "cell_type": "markdown",
   "metadata": {},
   "source": [
    "# 制作图层"
   ]
  },
  {
   "cell_type": "code",
   "execution_count": null,
   "metadata": {
    "ExecuteTime": {
     "end_time": "2020-09-27T05:36:30.214621Z",
     "start_time": "2020-09-27T05:36:30.211121Z"
    }
   },
   "outputs": [],
   "source": [
    "qingshan_res5 = qingshan_res4.copy()"
   ]
  },
  {
   "cell_type": "code",
   "execution_count": null,
   "metadata": {
    "ExecuteTime": {
     "end_time": "2020-09-27T05:36:32.643930Z",
     "start_time": "2020-09-27T05:36:32.638429Z"
    }
   },
   "outputs": [],
   "source": [
    "qingshan_res5 = qingshan_res5.reset_index(drop=True)"
   ]
  },
  {
   "cell_type": "code",
   "execution_count": null,
   "metadata": {
    "ExecuteTime": {
     "end_time": "2020-09-25T04:44:30.469270Z",
     "start_time": "2020-09-25T04:44:30.462769Z"
    }
   },
   "outputs": [],
   "source": [
    "# qingshan_res5 = qingshan_res5.drop(columns='经纬度')"
   ]
  },
  {
   "cell_type": "code",
   "execution_count": null,
   "metadata": {
    "ExecuteTime": {
     "end_time": "2020-09-27T05:36:39.498800Z",
     "start_time": "2020-09-27T05:36:39.493800Z"
    }
   },
   "outputs": [],
   "source": [
    "qingshan_res5.columns"
   ]
  },
  {
   "cell_type": "code",
   "execution_count": null,
   "metadata": {
    "ExecuteTime": {
     "end_time": "2020-09-27T05:37:30.214740Z",
     "start_time": "2020-09-27T05:37:30.210740Z"
    }
   },
   "outputs": [],
   "source": [
    "qingshan_res5.columns = ['count_sum', 'geometry','id', 'rsrp_count', 'rsrp_weak', 'grid_count', 'grid_100_count', 'grid_weak', 'grid_weak_Serious', 'complain','hd',\n",
    "       'fgl', 'k1', 'k2', 'k3', 'k4', 'k5', 'k']"
   ]
  },
  {
   "cell_type": "code",
   "execution_count": null,
   "metadata": {
    "ExecuteTime": {
     "end_time": "2020-09-25T04:44:30.517776Z",
     "start_time": "2020-09-25T04:44:30.488772Z"
    },
    "scrolled": true
   },
   "outputs": [],
   "source": [
    "#制作tab图层f\n",
    "qingshan_res5.to_file(f'G:/1-规划/1其他工作输出/20200925四个区县进行top平估/{city_name}top5.tab',driver=\"MapInfo File\",encoding='gbk')"
   ]
  },
  {
   "cell_type": "code",
   "execution_count": null,
   "metadata": {
    "ExecuteTime": {
     "end_time": "2020-09-25T04:44:30.525277Z",
     "start_time": "2020-09-25T04:44:30.521276Z"
    }
   },
   "outputs": [],
   "source": [
    "# qingshan_res5 = gpd.read_file('d:/qingshan.tab',encoding='gbk')"
   ]
  },
  {
   "cell_type": "code",
   "execution_count": null,
   "metadata": {
    "ExecuteTime": {
     "end_time": "2020-09-25T04:44:30.532778Z",
     "start_time": "2020-09-25T04:44:30.528777Z"
    }
   },
   "outputs": [],
   "source": [
    "# qingshan_res5"
   ]
  },
  {
   "cell_type": "code",
   "execution_count": null,
   "metadata": {
    "ExecuteTime": {
     "end_time": "2020-09-25T04:44:30.540779Z",
     "start_time": "2020-09-25T04:44:30.536278Z"
    }
   },
   "outputs": [],
   "source": [
    "#制作google图层"
   ]
  },
  {
   "cell_type": "code",
   "execution_count": null,
   "metadata": {
    "ExecuteTime": {
     "end_time": "2020-09-27T05:37:37.663186Z",
     "start_time": "2020-09-27T05:37:37.659186Z"
    }
   },
   "outputs": [],
   "source": [
    "qingshan_res6 = qingshan_res5.reset_index()"
   ]
  },
  {
   "cell_type": "code",
   "execution_count": null,
   "metadata": {
    "ExecuteTime": {
     "end_time": "2020-09-27T05:37:38.910345Z",
     "start_time": "2020-09-27T05:37:38.905844Z"
    }
   },
   "outputs": [],
   "source": [
    "qingshan_res6['lin'] = qingshan_res6.boundary"
   ]
  },
  {
   "cell_type": "code",
   "execution_count": null,
   "metadata": {
    "ExecuteTime": {
     "end_time": "2020-09-27T05:37:40.206509Z",
     "start_time": "2020-09-27T05:37:40.202009Z"
    }
   },
   "outputs": [],
   "source": [
    "kml = simplekml.Kml()"
   ]
  },
  {
   "cell_type": "code",
   "execution_count": null,
   "metadata": {
    "ExecuteTime": {
     "end_time": "2020-09-27T05:37:43.789464Z",
     "start_time": "2020-09-27T05:37:43.784464Z"
    }
   },
   "outputs": [],
   "source": [
    "def to_kml(x):\n",
    "    lin = kml.newlinestring(\n",
    "        name=x['id'],                   \n",
    "        description=x[[ 'id','rsrp_count','rsrp_weak','grid_count','grid_100_count','grid_weak','grid_weak_Serious','complain','fgl','k']].to_string(),\n",
    "        coords=list(x['lin'].coords))\n",
    "    lin.style.linestyle.color =simplekml.Color.changealphaint(245, 'ff00a5ff' )\n",
    "    lin.style.linestyle.width= 5"
   ]
  },
  {
   "cell_type": "code",
   "execution_count": null,
   "metadata": {
    "ExecuteTime": {
     "end_time": "2020-09-27T05:41:12.029907Z",
     "start_time": "2020-09-27T05:41:12.026407Z"
    }
   },
   "outputs": [],
   "source": [
    "city_name = '洪山'"
   ]
  },
  {
   "cell_type": "code",
   "execution_count": null,
   "metadata": {
    "ExecuteTime": {
     "end_time": "2020-09-27T05:41:12.636985Z",
     "start_time": "2020-09-27T05:41:12.631484Z"
    }
   },
   "outputs": [],
   "source": [
    "qingshan_res6_2 = qingshan_res6.loc[qingshan_res6['id'].str.contains(city_name)]"
   ]
  },
  {
   "cell_type": "code",
   "execution_count": null,
   "metadata": {
    "ExecuteTime": {
     "end_time": "2020-09-27T05:41:13.153050Z",
     "start_time": "2020-09-27T05:41:13.142049Z"
    }
   },
   "outputs": [],
   "source": [
    "kml = simplekml.Kml()\n",
    "qingshan_res6_2.apply(to_kml,axis=1)\n",
    "kml.save(f'G:/1-规划/1其他工作输出/20200925四个区县进行top平估/{city_name}top.kml')\n",
    "print('ok')"
   ]
  },
  {
   "cell_type": "code",
   "execution_count": null,
   "metadata": {
    "ExecuteTime": {
     "end_time": "2020-09-27T05:40:08.909392Z",
     "start_time": "2020-09-27T05:40:06.611100Z"
    }
   },
   "outputs": [],
   "source": [
    "mytools.dog()"
   ]
  },
  {
   "cell_type": "code",
   "execution_count": null,
   "metadata": {},
   "outputs": [],
   "source": []
  },
  {
   "cell_type": "code",
   "execution_count": null,
   "metadata": {},
   "outputs": [],
   "source": []
  },
  {
   "cell_type": "code",
   "execution_count": null,
   "metadata": {
    "ExecuteTime": {
     "end_time": "2020-09-25T08:50:41.805491Z",
     "start_time": "2020-09-25T08:50:41.798990Z"
    }
   },
   "outputs": [],
   "source": [
    "res_tousu2_r = res_tousu2[['区分公司名称',  'id',  '小区CGI(*)', '地市', '区县',\n",
    "       'rsrp_sample_count', 'rsrp_weak', '区域类型', 'a.un_maxrsrp_sample_count',\n",
    "       'a.un_maxrsrp_weak_l2', 'a.te_maxrsrp_sample_count',\n",
    "       'a.te_maxrsrp_weak_l2', 'fgl_cmcc', 'fgl_un', 'fgl_te',\n",
    "       'te_hd', 'un_hd', 'hd', 'RRU经度', 'RRU纬度']]"
   ]
  },
  {
   "cell_type": "code",
   "execution_count": null,
   "metadata": {
    "ExecuteTime": {
     "end_time": "2020-09-25T08:50:42.970139Z",
     "start_time": "2020-09-25T08:50:42.771614Z"
    }
   },
   "outputs": [],
   "source": [
    "res_tousu2_r.to_csv(f'G:/1-规划/1其他工作输出/20200925四个区县进行top平估/{city_name}top5_竞对.csv')"
   ]
  },
  {
   "cell_type": "code",
   "execution_count": null,
   "metadata": {
    "ExecuteTime": {
     "end_time": "2020-09-25T08:50:43.831248Z",
     "start_time": "2020-09-25T08:50:43.825248Z"
    }
   },
   "outputs": [],
   "source": [
    "res_tousu_r = res_tousu[['区分公司名称', 'eNodeB名称', '经度', '纬度',\n",
    "       'eNodeBid', '地市', '区县', '站点类型', '2020年6月投诉量', '2020年7月投诉量',\n",
    "       '2020年8月投诉量', '2020年投诉量']]"
   ]
  },
  {
   "cell_type": "code",
   "execution_count": null,
   "metadata": {
    "ExecuteTime": {
     "end_time": "2020-09-25T08:50:44.802372Z",
     "start_time": "2020-09-25T08:50:44.797871Z"
    }
   },
   "outputs": [],
   "source": [
    "res_tousu_r.columns = ['区分公司名称', 'eNodeB名称', '经度', '纬度', 'eNodeBid', '地市', '区县', '站点类型',\n",
    "       '2020年6月投诉量', '2020年7月投诉量', '2020年8月投诉量', '投诉量总计']"
   ]
  },
  {
   "cell_type": "code",
   "execution_count": null,
   "metadata": {
    "ExecuteTime": {
     "end_time": "2020-09-25T08:50:46.040029Z",
     "start_time": "2020-09-25T08:50:45.690484Z"
    }
   },
   "outputs": [],
   "source": [
    "res_tousu.to_csv(f'G:/1-规划/1其他工作输出/20200925四个区县进行top平估/{city_name}top5_投诉.csv')"
   ]
  },
  {
   "cell_type": "code",
   "execution_count": null,
   "metadata": {},
   "outputs": [],
   "source": []
  },
  {
   "cell_type": "code",
   "execution_count": null,
   "metadata": {},
   "outputs": [],
   "source": []
  },
  {
   "cell_type": "code",
   "execution_count": null,
   "metadata": {},
   "outputs": [],
   "source": []
  },
  {
   "cell_type": "code",
   "execution_count": null,
   "metadata": {},
   "outputs": [],
   "source": []
  },
  {
   "cell_type": "code",
   "execution_count": null,
   "metadata": {},
   "outputs": [],
   "source": []
  },
  {
   "cell_type": "code",
   "execution_count": null,
   "metadata": {},
   "outputs": [],
   "source": []
  },
  {
   "cell_type": "code",
   "execution_count": null,
   "metadata": {},
   "outputs": [],
   "source": []
  },
  {
   "cell_type": "code",
   "execution_count": null,
   "metadata": {},
   "outputs": [],
   "source": []
  },
  {
   "cell_type": "code",
   "execution_count": null,
   "metadata": {},
   "outputs": [],
   "source": []
  },
  {
   "cell_type": "code",
   "execution_count": null,
   "metadata": {},
   "outputs": [],
   "source": [
    "qingshan_res4"
   ]
  },
  {
   "cell_type": "code",
   "execution_count": null,
   "metadata": {
    "ExecuteTime": {
     "end_time": "2020-09-27T09:14:03.804217Z",
     "start_time": "2020-09-27T09:14:03.694203Z"
    }
   },
   "outputs": [],
   "source": [
    "res_tousu2= gpd.sjoin(qingshan_res4,jingd_p)"
   ]
  },
  {
   "cell_type": "code",
   "execution_count": null,
   "metadata": {
    "ExecuteTime": {
     "end_time": "2020-09-27T09:14:03.991241Z",
     "start_time": "2020-09-27T09:14:03.848722Z"
    }
   },
   "outputs": [],
   "source": [
    "res_tousu= gpd.sjoin(qingshan_res4,tousu_p)"
   ]
  },
  {
   "cell_type": "code",
   "execution_count": null,
   "metadata": {
    "ExecuteTime": {
     "end_time": "2020-09-27T09:38:28.751241Z",
     "start_time": "2020-09-27T09:37:57.878821Z"
    }
   },
   "outputs": [],
   "source": [
    "res_shange= gpd.sjoin(qingshan_res4,qingshan_data_p)"
   ]
  },
  {
   "cell_type": "code",
   "execution_count": null,
   "metadata": {
    "ExecuteTime": {
     "end_time": "2020-09-27T09:14:11.899745Z",
     "start_time": "2020-09-27T09:14:11.713721Z"
    }
   },
   "outputs": [],
   "source": [
    "res_tousu2.to_clipboard()"
   ]
  },
  {
   "cell_type": "code",
   "execution_count": null,
   "metadata": {
    "ExecuteTime": {
     "end_time": "2020-09-27T09:20:10.192242Z",
     "start_time": "2020-09-27T09:20:10.097230Z"
    }
   },
   "outputs": [],
   "source": [
    "res_tousu.to_clipboard()"
   ]
  },
  {
   "cell_type": "code",
   "execution_count": null,
   "metadata": {
    "ExecuteTime": {
     "end_time": "2020-09-27T09:38:29.745368Z",
     "start_time": "2020-09-27T09:38:29.556344Z"
    }
   },
   "outputs": [],
   "source": [
    "res_shange.to_clipboard()"
   ]
  },
  {
   "cell_type": "code",
   "execution_count": null,
   "metadata": {},
   "outputs": [],
   "source": []
  },
  {
   "cell_type": "code",
   "execution_count": null,
   "metadata": {},
   "outputs": [],
   "source": []
  },
  {
   "cell_type": "code",
   "execution_count": null,
   "metadata": {},
   "outputs": [],
   "source": []
  },
  {
   "cell_type": "code",
   "execution_count": null,
   "metadata": {},
   "outputs": [],
   "source": []
  },
  {
   "cell_type": "code",
   "execution_count": null,
   "metadata": {
    "ExecuteTime": {
     "end_time": "2020-08-26T07:37:48.305587Z",
     "start_time": "2020-08-26T07:37:48.142066Z"
    }
   },
   "outputs": [],
   "source": [
    "quxian1 = mytools.gisn.maps('地市区县')"
   ]
  },
  {
   "cell_type": "code",
   "execution_count": null,
   "metadata": {
    "ExecuteTime": {
     "end_time": "2020-08-26T07:37:49.211702Z",
     "start_time": "2020-08-26T07:37:49.205701Z"
    }
   },
   "outputs": [],
   "source": [
    "quxian1.columns"
   ]
  },
  {
   "cell_type": "code",
   "execution_count": null,
   "metadata": {
    "ExecuteTime": {
     "end_time": "2020-08-26T07:38:15.941096Z",
     "start_time": "2020-08-26T07:38:15.928095Z"
    }
   },
   "outputs": [],
   "source": [
    "quxian1['lin'] = quxian1.boundary"
   ]
  },
  {
   "cell_type": "code",
   "execution_count": null,
   "metadata": {
    "ExecuteTime": {
     "end_time": "2020-08-26T07:42:53.059786Z",
     "start_time": "2020-08-26T07:42:53.054785Z"
    }
   },
   "outputs": [],
   "source": [
    "def to_kml2(x):\n",
    "    lin = kml.newlinestring(\n",
    "        name=x['区县'],                   \n",
    "        description=x[[ '地市','区县']].to_string(),\n",
    "        coords=list(x['geometry'].exterior.coords))\n",
    "    lin.style.linestyle.color =simplekml.Color.changealphaint(245, 'ffffffff' )\n",
    "    lin.style.linestyle.width= 2"
   ]
  },
  {
   "cell_type": "code",
   "execution_count": null,
   "metadata": {
    "ExecuteTime": {
     "end_time": "2020-08-26T07:42:54.143423Z",
     "start_time": "2020-08-26T07:42:54.102418Z"
    }
   },
   "outputs": [],
   "source": [
    "quxian1.apply(to_kml2,axis=1)\n",
    "kml.save('G:/1-规划/图层/县城和地市归属图层pickle/地市区县.kml')\n",
    "print('ok')"
   ]
  },
  {
   "cell_type": "code",
   "execution_count": null,
   "metadata": {
    "ExecuteTime": {
     "end_time": "2020-08-26T09:28:26.419520Z",
     "start_time": "2020-08-26T09:28:16.707787Z"
    }
   },
   "outputs": [],
   "source": [
    "gongcan = pd.read_csv('g:/1-规划/工参/工参数据/ltejizhan20200807.csv',encoding='gbk')"
   ]
  },
  {
   "cell_type": "code",
   "execution_count": null,
   "metadata": {
    "ExecuteTime": {
     "end_time": "2020-08-26T09:28:31.474662Z",
     "start_time": "2020-08-26T09:28:31.462661Z"
    }
   },
   "outputs": [],
   "source": [
    "gongcan.columns"
   ]
  },
  {
   "cell_type": "code",
   "execution_count": null,
   "metadata": {
    "ExecuteTime": {
     "end_time": "2020-08-26T09:32:03.006523Z",
     "start_time": "2020-08-26T09:32:02.955517Z"
    }
   },
   "outputs": [],
   "source": [
    "a = set(gongcan['归属区县'])"
   ]
  },
  {
   "cell_type": "code",
   "execution_count": null,
   "metadata": {
    "ExecuteTime": {
     "end_time": "2020-08-26T09:35:37.558268Z",
     "start_time": "2020-08-26T09:35:37.548767Z"
    }
   },
   "outputs": [],
   "source": [
    "f=open(\"d:/k.txt\",\"w\")\n",
    "f.write(str(a))\n",
    "f.close()"
   ]
  },
  {
   "cell_type": "code",
   "execution_count": null,
   "metadata": {},
   "outputs": [],
   "source": [
    "mytools.gisn.points_coverage_merge()"
   ]
  },
  {
   "cell_type": "markdown",
   "metadata": {},
   "source": [
    "# top30匹配周边的7734、催开、故障、优化、高负荷、干扰"
   ]
  },
  {
   "cell_type": "code",
   "execution_count": null,
   "metadata": {},
   "outputs": [],
   "source": [
    "qingshan_res5.shape"
   ]
  },
  {
   "cell_type": "code",
   "execution_count": null,
   "metadata": {},
   "outputs": [],
   "source": [
    "#导入7734汇总的数据"
   ]
  },
  {
   "cell_type": "code",
   "execution_count": null,
   "metadata": {},
   "outputs": [],
   "source": [
    "data_7734 = pd.ExcelFile('G:/1-规划/1其他工作输出/20200603青山按照大栅格划分问题点/3-分析top解决方案/1基础数据/青山专属建设、优化、故障/汇总/建设、故障、优化汇总.xlsx')"
   ]
  },
  {
   "cell_type": "code",
   "execution_count": null,
   "metadata": {},
   "outputs": [],
   "source": [
    "data_7734.sheet_names"
   ]
  },
  {
   "cell_type": "code",
   "execution_count": null,
   "metadata": {},
   "outputs": [],
   "source": [
    "data_7734.sheet_names"
   ]
  },
  {
   "cell_type": "code",
   "execution_count": null,
   "metadata": {},
   "outputs": [],
   "source": [
    "data_7734_sum = data_7734.parse(sheet_name='汇总')"
   ]
  },
  {
   "cell_type": "code",
   "execution_count": null,
   "metadata": {},
   "outputs": [],
   "source": [
    "data_7734_sum.head(1)"
   ]
  },
  {
   "cell_type": "code",
   "execution_count": null,
   "metadata": {},
   "outputs": [],
   "source": [
    "data_7734_sum.loc[data_7734_sum['区县']=='青山区'].shape"
   ]
  },
  {
   "cell_type": "code",
   "execution_count": null,
   "metadata": {},
   "outputs": [],
   "source": [
    "p_7734 = mytools.gisn.add_points(data_7734_sum)"
   ]
  },
  {
   "cell_type": "code",
   "execution_count": null,
   "metadata": {},
   "outputs": [],
   "source": [
    "top30_7734_sjoin = gpd.sjoin(qingshan_res5,p_7734)"
   ]
  },
  {
   "cell_type": "code",
   "execution_count": null,
   "metadata": {},
   "outputs": [],
   "source": [
    "top30_7734_sjoin.columns"
   ]
  },
  {
   "cell_type": "code",
   "execution_count": null,
   "metadata": {},
   "outputs": [],
   "source": [
    "top30_7734_sjoin.drop_duplicates('id').shape"
   ]
  },
  {
   "cell_type": "code",
   "execution_count": null,
   "metadata": {},
   "outputs": [],
   "source": [
    "top30_7734_sjoin.drop_duplicates('唯一编号').shape"
   ]
  },
  {
   "cell_type": "code",
   "execution_count": null,
   "metadata": {},
   "outputs": [],
   "source": [
    "top30_7734_sjoin.drop_duplicates('唯一编号').shape[0]/data_7734_sum.loc[data_7734_sum['区县']=='青山区'].shape[0]"
   ]
  },
  {
   "cell_type": "code",
   "execution_count": null,
   "metadata": {
    "scrolled": true
   },
   "outputs": [],
   "source": [
    "top30_7734_sjoin.drop_duplicates('唯一编号').groupby('分类').count()"
   ]
  },
  {
   "cell_type": "markdown",
   "metadata": {},
   "source": [
    "# 匹配现网小区"
   ]
  },
  {
   "cell_type": "code",
   "execution_count": null,
   "metadata": {},
   "outputs": [],
   "source": [
    "gongcan= pd.read_csv('G:/1-规划/工参/工参数据/ltejizhan20200529.csv',encoding='gbk',usecols=['小区CGI(*)', 'RRU经度', 'RRU纬度','覆盖场景'])"
   ]
  },
  {
   "cell_type": "code",
   "execution_count": null,
   "metadata": {},
   "outputs": [],
   "source": [
    "gongcan.columns"
   ]
  },
  {
   "cell_type": "code",
   "execution_count": null,
   "metadata": {},
   "outputs": [],
   "source": [
    "changjing_shuoming = pd.read_csv('G:/1-规划/表格类保存/场景说明.csv',encoding='gbk')"
   ]
  },
  {
   "cell_type": "code",
   "execution_count": null,
   "metadata": {},
   "outputs": [],
   "source": [
    "changjing_shuoming.head(1)"
   ]
  },
  {
   "cell_type": "code",
   "execution_count": null,
   "metadata": {},
   "outputs": [],
   "source": [
    "gongcan_use = gongcan.merge(changjing_shuoming,how='left',left_on='覆盖场景',right_on='类型ID')"
   ]
  },
  {
   "cell_type": "code",
   "execution_count": null,
   "metadata": {},
   "outputs": [],
   "source": [
    "gogncan_p = mytools.gisn.points_coverage_merge(gongcan_use.loc[gongcan_use['RRU经度']>0],'RRU经度', 'RRU纬度')"
   ]
  },
  {
   "cell_type": "code",
   "execution_count": null,
   "metadata": {},
   "outputs": [],
   "source": [
    "gogncan_p2 = mytools.gisn.add_points(gogncan_p, 'RRU经度', 'RRU纬度')"
   ]
  },
  {
   "cell_type": "code",
   "execution_count": null,
   "metadata": {},
   "outputs": [],
   "source": [
    "gogncan_p2 = mytools.gisn.add_points(gogncan_p, 'RRU经度', 'RRU纬度')"
   ]
  },
  {
   "cell_type": "code",
   "execution_count": null,
   "metadata": {},
   "outputs": [],
   "source": [
    "top30_gongcan_sjoin = gpd.sjoin(qingshan_res5,gogncan_p2)"
   ]
  },
  {
   "cell_type": "code",
   "execution_count": null,
   "metadata": {},
   "outputs": [],
   "source": [
    "top30_gongcan_sjoin.columns"
   ]
  },
  {
   "cell_type": "code",
   "execution_count": null,
   "metadata": {},
   "outputs": [],
   "source": [
    "top30_gongcan_sjoin.head(1)"
   ]
  },
  {
   "cell_type": "code",
   "execution_count": null,
   "metadata": {},
   "outputs": [],
   "source": []
  },
  {
   "cell_type": "code",
   "execution_count": null,
   "metadata": {
    "scrolled": true
   },
   "outputs": [],
   "source": [
    "res_changjing = top30_gongcan_sjoin.drop_duplicates('小区CGI(*)').groupby([ '场景类型']).agg({'id':'count'})"
   ]
  },
  {
   "cell_type": "code",
   "execution_count": null,
   "metadata": {},
   "outputs": [],
   "source": [
    "res_changjing.to_clipboard()"
   ]
  },
  {
   "cell_type": "markdown",
   "metadata": {},
   "source": [
    "# 匹配软采负荷干扰"
   ]
  },
  {
   "cell_type": "code",
   "execution_count": null,
   "metadata": {},
   "outputs": [],
   "source": [
    "#软采小区处理"
   ]
  },
  {
   "cell_type": "code",
   "execution_count": null,
   "metadata": {},
   "outputs": [],
   "source": [
    "ruancai = pd.read_csv('G:/1-规划/1其他工作输出/20200603青山按照大栅格划分问题点/3-分析top解决方案/1基础数据/覆盖/汇总-按照采样点排序去重.csv',\n",
    "    encoding='gbk')"
   ]
  },
  {
   "cell_type": "code",
   "execution_count": null,
   "metadata": {},
   "outputs": [],
   "source": [
    "ruancai_use = ruancai[[ 'eutrancell_cgi', 'rsrp_sample_count', 'rsrp_weak', 'RRU经度', 'RRU纬度']]"
   ]
  },
  {
   "cell_type": "code",
   "execution_count": null,
   "metadata": {},
   "outputs": [],
   "source": [
    "top30_gongcan_sjoin.groupby([ '区域类型']).agg({'id':'count'})"
   ]
  },
  {
   "cell_type": "code",
   "execution_count": null,
   "metadata": {},
   "outputs": [],
   "source": [
    "ruancai_use['fgl'] = 1 - ruancai_use['rsrp_weak']/ruancai_use['rsrp_sample_count']"
   ]
  },
  {
   "cell_type": "code",
   "execution_count": null,
   "metadata": {},
   "outputs": [],
   "source": [
    "ruancai_use = ruancai_use.loc[ruancai_use['fgl']<0.9]"
   ]
  },
  {
   "cell_type": "code",
   "execution_count": null,
   "metadata": {},
   "outputs": [],
   "source": [
    "ruancai_p = mytools.gisn.add_points(ruancai_use, 'RRU经度', 'RRU纬度')"
   ]
  },
  {
   "cell_type": "code",
   "execution_count": null,
   "metadata": {},
   "outputs": [],
   "source": [
    "#干扰小区处理"
   ]
  },
  {
   "cell_type": "code",
   "execution_count": null,
   "metadata": {},
   "outputs": [],
   "source": [
    "ganrao = pd.read_csv('G:/1-规划/1其他工作输出/20200603青山按照大栅格划分问题点/3-分析top解决方案/1基础数据/干扰/干扰小区汇总.csv',\n",
    "    encoding='gbk')"
   ]
  },
  {
   "cell_type": "code",
   "execution_count": null,
   "metadata": {},
   "outputs": [],
   "source": [
    "ganrao_use = ganrao.merge(gongcan,how='left',left_on='小区ID',right_on='小区CGI(*)').drop_duplicates('小区ID')[['小区ID','RRU经度','RRU纬度']]"
   ]
  },
  {
   "cell_type": "code",
   "execution_count": null,
   "metadata": {},
   "outputs": [],
   "source": [
    "ganrao_p = mytools.gisn.add_points(ganrao_use,'RRU经度','RRU纬度')"
   ]
  },
  {
   "cell_type": "code",
   "execution_count": null,
   "metadata": {},
   "outputs": [],
   "source": [
    "ganrao.head(1)"
   ]
  },
  {
   "cell_type": "code",
   "execution_count": null,
   "metadata": {},
   "outputs": [],
   "source": [
    "#负荷小区处理"
   ]
  },
  {
   "cell_type": "code",
   "execution_count": null,
   "metadata": {},
   "outputs": [],
   "source": [
    "fuhe = pd.read_csv('G:/1-规划/1其他工作输出/20200603青山按照大栅格划分问题点/3-分析top解决方案/1基础数据/高负荷/高负荷汇总.csv',\n",
    "    encoding='gbk')"
   ]
  },
  {
   "cell_type": "code",
   "execution_count": null,
   "metadata": {},
   "outputs": [],
   "source": [
    "fuhe.head(1)"
   ]
  },
  {
   "cell_type": "code",
   "execution_count": null,
   "metadata": {},
   "outputs": [],
   "source": [
    "fuhe_use = fuhe.merge(gongcan,how='left',left_on='CGI',right_on='小区CGI(*)').drop_duplicates('CGI')[['CGI','RRU经度','RRU纬度']]"
   ]
  },
  {
   "cell_type": "code",
   "execution_count": null,
   "metadata": {},
   "outputs": [],
   "source": [
    "fuhe_p = mytools.gisn.add_points(fuhe_use,'RRU经度','RRU纬度')"
   ]
  },
  {
   "cell_type": "code",
   "execution_count": null,
   "metadata": {},
   "outputs": [],
   "source": [
    "#匹配到大栅格"
   ]
  },
  {
   "cell_type": "code",
   "execution_count": null,
   "metadata": {},
   "outputs": [],
   "source": [
    "rancai_top_sjoin = gpd.sjoin(qingshan_res5,ruancai_p)"
   ]
  },
  {
   "cell_type": "code",
   "execution_count": null,
   "metadata": {},
   "outputs": [],
   "source": [
    "ganrao_top_sjoin = gpd.sjoin(qingshan_res5,ganrao_p)"
   ]
  },
  {
   "cell_type": "code",
   "execution_count": null,
   "metadata": {},
   "outputs": [],
   "source": [
    "fuhe_top_sjoin = gpd.sjoin(qingshan_res5,fuhe_p)"
   ]
  },
  {
   "cell_type": "code",
   "execution_count": null,
   "metadata": {},
   "outputs": [],
   "source": [
    "#计算结果"
   ]
  },
  {
   "cell_type": "code",
   "execution_count": null,
   "metadata": {},
   "outputs": [],
   "source": [
    "#软采"
   ]
  },
  {
   "cell_type": "code",
   "execution_count": null,
   "metadata": {},
   "outputs": [],
   "source": [
    "rancai_top_sjoin.to_clipboard()"
   ]
  },
  {
   "cell_type": "code",
   "execution_count": null,
   "metadata": {},
   "outputs": [],
   "source": [
    "rancai_top_sjoin.drop_duplicates('eutrancell_cgi').shape"
   ]
  },
  {
   "cell_type": "code",
   "execution_count": null,
   "metadata": {},
   "outputs": [],
   "source": [
    "#干扰"
   ]
  },
  {
   "cell_type": "code",
   "execution_count": null,
   "metadata": {},
   "outputs": [],
   "source": [
    "ganrao_top_sjoin.to_clipboard()"
   ]
  },
  {
   "cell_type": "code",
   "execution_count": null,
   "metadata": {},
   "outputs": [],
   "source": [
    "ganrao_top_sjoin.drop_duplicates('小区ID').shape"
   ]
  },
  {
   "cell_type": "code",
   "execution_count": null,
   "metadata": {},
   "outputs": [],
   "source": [
    "#负荷"
   ]
  },
  {
   "cell_type": "code",
   "execution_count": null,
   "metadata": {},
   "outputs": [],
   "source": [
    "fuhe_top_sjoin.to_clipboard()"
   ]
  },
  {
   "cell_type": "code",
   "execution_count": null,
   "metadata": {},
   "outputs": [],
   "source": [
    "fuhe_top_sjoin.drop_duplicates('CGI').shape"
   ]
  },
  {
   "cell_type": "code",
   "execution_count": null,
   "metadata": {},
   "outputs": [],
   "source": [
    "#现网"
   ]
  },
  {
   "cell_type": "code",
   "execution_count": null,
   "metadata": {},
   "outputs": [],
   "source": [
    "top30_gongcan_sjoin.drop_duplicates('小区CGI(*)').shape"
   ]
  },
  {
   "cell_type": "code",
   "execution_count": null,
   "metadata": {},
   "outputs": [],
   "source": [
    "#写word用"
   ]
  },
  {
   "cell_type": "code",
   "execution_count": null,
   "metadata": {},
   "outputs": [],
   "source": [
    "id = 'region_grid_138'"
   ]
  },
  {
   "cell_type": "code",
   "execution_count": null,
   "metadata": {},
   "outputs": [],
   "source": [
    "qingshan_res5.columns"
   ]
  },
  {
   "cell_type": "code",
   "execution_count": null,
   "metadata": {},
   "outputs": [],
   "source": [
    "b=qingshan_res5.loc[qingshan_res5['id']==id][['总点','覆盖率','弱覆盖栅格数量','严重弱覆盖栅格数量','投诉量']].reset_index()"
   ]
  },
  {
   "cell_type": "code",
   "execution_count": null,
   "metadata": {},
   "outputs": [],
   "source": [
    "xq=str(top30_gongcan_sjoin.loc[top30_gongcan_sjoin['id']==id].agg({'小区CGI(*)':'count'})['小区CGI(*)'])"
   ]
  },
  {
   "cell_type": "code",
   "execution_count": null,
   "metadata": {},
   "outputs": [],
   "source": [
    "'该区域主要弱覆盖包括***以及周边楼宇。区域内共计{}个小区，整体采样点{}个相对较多，覆盖率为{}， \\\n",
    "区域内有{}个栅格覆盖率小于93.6%，{}个栅格覆盖率低于70%，20年投诉共计{}个。 \\\n",
    "'.format(xq,int(b['总点'][0]),str(b['覆盖率'][0]*100)[:5]+'%',int(b['弱覆盖栅格数量'][0]),int(b['严重弱覆盖栅格数量'][0]),int(b['投诉量'][0]))"
   ]
  },
  {
   "cell_type": "code",
   "execution_count": null,
   "metadata": {},
   "outputs": [],
   "source": [
    "'区域内'+xq+ \\\n",
    "'个现网小区中，有'+str(rancai_top_sjoin.loc[rancai_top_sjoin['id']==id].agg({'eutrancell_cgi':'count'})['eutrancell_cgi'])+ \\\n",
    "'个弱覆盖小区，'+str(ganrao_top_sjoin.loc[ganrao_top_sjoin['id']==id].agg({'小区ID':'count'})['小区ID'])+ \\\n",
    "'个为干扰小区，'+str(fuhe_top_sjoin.loc[fuhe_top_sjoin['id']==id].agg({'CGI':'count'})['CGI'])+'个为高负荷小区'#负荷"
   ]
  },
  {
   "cell_type": "code",
   "execution_count": null,
   "metadata": {},
   "outputs": [],
   "source": [
    "a=top30_7734_sjoin.loc[top30_7734_sjoin['id']==id].groupby('分类').agg({'唯一编号':'count'})"
   ]
  },
  {
   "cell_type": "code",
   "execution_count": null,
   "metadata": {},
   "outputs": [],
   "source": [
    "a"
   ]
  },
  {
   "cell_type": "code",
   "execution_count": null,
   "metadata": {},
   "outputs": [],
   "source": [
    "'区域内与7734工单重合{}单，其中可新建站点{}个，可优化小区{}个，可进行维护处理站点{}个。 \\\n",
    "可根据实际情况进行推动工单处理进度。改善区域的网络质量。'.format(a.sum()[0],a.loc['建设'][0],a.loc['优化'][0],a.loc['故障'][0])"
   ]
  },
  {
   "cell_type": "code",
   "execution_count": null,
   "metadata": {},
   "outputs": [],
   "source": []
  },
  {
   "cell_type": "code",
   "execution_count": null,
   "metadata": {},
   "outputs": [],
   "source": []
  },
  {
   "cell_type": "code",
   "execution_count": null,
   "metadata": {},
   "outputs": [],
   "source": []
  }
 ],
 "metadata": {
  "kernelspec": {
   "display_name": "Python 3",
   "language": "python",
   "name": "python3"
  },
  "language_info": {
   "codemirror_mode": {
    "name": "ipython",
    "version": 3
   },
   "file_extension": ".py",
   "mimetype": "text/x-python",
   "name": "python",
   "nbconvert_exporter": "python",
   "pygments_lexer": "ipython3",
   "version": "3.7.4"
  },
  "toc": {
   "base_numbering": 1,
   "nav_menu": {},
   "number_sections": true,
   "sideBar": true,
   "skip_h1_title": false,
   "title_cell": "Table of Contents",
   "title_sidebar": "Contents",
   "toc_cell": false,
   "toc_position": {},
   "toc_section_display": true,
   "toc_window_display": false
  },
  "varInspector": {
   "cols": {
    "lenName": 16,
    "lenType": 16,
    "lenVar": 40
   },
   "kernels_config": {
    "python": {
     "delete_cmd_postfix": "",
     "delete_cmd_prefix": "del ",
     "library": "var_list.py",
     "varRefreshCmd": "print(var_dic_list())"
    },
    "r": {
     "delete_cmd_postfix": ") ",
     "delete_cmd_prefix": "rm(",
     "library": "var_list.r",
     "varRefreshCmd": "cat(var_dic_list()) "
    }
   },
   "types_to_exclude": [
    "module",
    "function",
    "builtin_function_or_method",
    "instance",
    "_Feature"
   ],
   "window_display": false
  }
 },
 "nbformat": 4,
 "nbformat_minor": 2
}
