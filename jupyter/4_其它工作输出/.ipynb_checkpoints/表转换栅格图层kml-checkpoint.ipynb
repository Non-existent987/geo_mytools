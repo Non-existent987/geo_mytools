{
 "cells": [
  {
   "cell_type": "code",
   "execution_count": 26,
   "metadata": {},
   "outputs": [
    {
     "name": "stdout",
     "output_type": "stream",
     "text": [
      "The autoreload extension is already loaded. To reload it, use:\n",
      "  %reload_ext autoreload\n"
     ]
    }
   ],
   "source": [
    "%load_ext autoreload\n",
    "%autoreload 2"
   ]
  },
  {
   "cell_type": "code",
   "execution_count": 22,
   "metadata": {},
   "outputs": [],
   "source": [
    "import pandas as pd\n",
    "import geopandas as gpd\n",
    "import mytools"
   ]
  },
  {
   "cell_type": "code",
   "execution_count": 23,
   "metadata": {},
   "outputs": [],
   "source": [
    "data = pd.read_csv('G:/1-规划/1其他工作输出/20200513襄阳的FDD90图层/zmxy.csv',encoding='gbk',header=None)"
   ]
  },
  {
   "cell_type": "code",
   "execution_count": 24,
   "metadata": {},
   "outputs": [],
   "source": [
    "data.replace('[\\']','', regex=True,inplace=True)\n",
    "# data.columns = map(lambda x: x.replace('\\'',''),data.columns.to_list())\n",
    "data.columns=['日期','名称','grid','lon','lat','电平','总点','弱点']"
   ]
  },
  {
   "cell_type": "code",
   "execution_count": 25,
   "metadata": {},
   "outputs": [],
   "source": [
    "data['总点'] = pd.to_numeric(data['总点'])\n",
    "data['弱点'] = pd.to_numeric(data['弱点'])\n",
    "data['fgl'] = 1-data['弱点']/data['总点']"
   ]
  },
  {
   "cell_type": "code",
   "execution_count": 14,
   "metadata": {},
   "outputs": [],
   "source": [
    "mytools.gisn.dist"
   ]
  },
  {
   "cell_type": "code",
   "execution_count": 17,
   "metadata": {},
   "outputs": [],
   "source": [
    "def df_to_kml(data,file='d:/扇区图层.kml',name='grid',lon='lon',lat='lat',fgl='fgl',red=0.7,green=0.936,tm = 'ff00ffff',toumingdu=125):\n",
    "    def box_make(lon_n=114.198312,lat_n=30.630697,radius=70,lod=15000):\n",
    "        res = Geodesic.WGS84.Direct(lat_n, lon_n, 45, radius)\n",
    "        lon_1= res['lon2']\n",
    "        lat_1= res['lat2']\n",
    "        res1 = Geodesic.WGS84.Direct(lat_n, lon_n, 225, radius)\n",
    "        lon_2= res1['lon2']\n",
    "        lat_2= res1['lat2']\n",
    "        res_3 = Geodesic.WGS84.Direct(lat_n, lon_n, 45, lod)\n",
    "        lon_3= res_3['lon2']\n",
    "        lat_3= res_3['lat2']    \n",
    "        res_4 = Geodesic.WGS84.Direct(lat_n, lon_n, 225, lod)\n",
    "        lon_4= res_4['lon2']\n",
    "        lat_4= res_4['lat2']        \n",
    "        return ([(lon_2, lat_2), (lon_2, lat_1), (lon_1, lat_1),(lon_1, lat_2),(lon_2, lat_2)]),lon_3,lat_3,lon_4,lat_4\n",
    "    def run_kml(row,name='grid',lon='lon',lat='lat',fgl='fgl',red=0.7,green=0.936,tm = 'ff00ffff',toumingdu=125):\n",
    "        pol = kml.newpolygon(name=row[name])\n",
    "        polygon_id,lon_dd,lat_dd,lon1_dd,lat1_dd = box_make(lon_n=float(row[lon]),lat_n=float(row[lat]))\n",
    "\n",
    "        latlonaltbox = simplekml.LatLonAltBox(east =lon_dd ,north=lat_dd ,south=lat1_dd ,west=lon1_dd,\n",
    "                                          minaltitude=None, maxaltitude=None, altitudemode=None)\n",
    "        pol.region.latlonaltbox = latlonaltbox\n",
    "        pol.region.lod = lod1\n",
    "        pol.outerboundaryis =polygon_id #ast.literal_eval(polygon_id)\n",
    "        lie_ming=list(row.index)\n",
    "        for i in lie_ming: #^^^^^^可选去掉不加标注\n",
    "            pol.extendeddata.schemadata.newsimpledata(i,row[i])\n",
    "        pol.altitudemode = simplekml.AltitudeMode.clamptoground\n",
    "        if row[fgl]<red:\n",
    "            tm = 'ff0000ff'\n",
    "        elif row[fgl]>=green:\n",
    "            tm = 'ff008000'\n",
    "        else:\n",
    "            pass\n",
    "        pol.linestyle.color = simplekml.Color.changealphaint(toumingdu, tm ) # 最终线条上色\n",
    "        pol.polystyle.color = simplekml.Color.changealphaint(toumingdu, tm )\n",
    "    kml = simplekml.Kml()\n",
    "    lod1 = simplekml.Lod(minlodpixels=500, maxlodpixels=-1,minfadeextent=None, maxfadeextent=None)\n",
    "    data.apply(lambda row: run_kml(row,name=name,lon=lon,lat=lat,fgl=fgl,red=red,green=green,tm = tm,toumingdu=toumingdu), axis=1)\n",
    "    if 'kml' in file:\n",
    "        kml.save(file)\n",
    "    elif 'kmz' in file:\n",
    "        kml.savekmz(file, False)\n",
    "    else:\n",
    "        pass"
   ]
  },
  {
   "cell_type": "code",
   "execution_count": 18,
   "metadata": {},
   "outputs": [],
   "source": [
    "df_to_kml(data)"
   ]
  },
  {
   "cell_type": "code",
   "execution_count": null,
   "metadata": {},
   "outputs": [],
   "source": []
  },
  {
   "cell_type": "code",
   "execution_count": null,
   "metadata": {},
   "outputs": [],
   "source": []
  },
  {
   "cell_type": "code",
   "execution_count": null,
   "metadata": {},
   "outputs": [],
   "source": []
  }
 ],
 "metadata": {
  "kernelspec": {
   "display_name": "Python 3",
   "language": "python",
   "name": "python3"
  },
  "language_info": {
   "codemirror_mode": {
    "name": "ipython",
    "version": 3
   },
   "file_extension": ".py",
   "mimetype": "text/x-python",
   "name": "python",
   "nbconvert_exporter": "python",
   "pygments_lexer": "ipython3",
   "version": "3.7.3"
  }
 },
 "nbformat": 4,
 "nbformat_minor": 2
}
