{
 "cells": [
  {
   "cell_type": "code",
   "execution_count": 1,
   "metadata": {},
   "outputs": [],
   "source": [
    "%load_ext autoreload\n",
    "%autoreload 2"
   ]
  },
  {
   "cell_type": "code",
   "execution_count": 2,
   "metadata": {},
   "outputs": [],
   "source": [
    "import pandas as pd\n",
    "import geopandas as gpd\n",
    "import mytools"
   ]
  },
  {
   "cell_type": "code",
   "execution_count": 3,
   "metadata": {},
   "outputs": [
    {
     "name": "stderr",
     "output_type": "stream",
     "text": [
      "C:\\ProgramData\\Anaconda3\\lib\\site-packages\\IPython\\core\\interactiveshell.py:3049: DtypeWarning: Columns (12,14) have mixed types. Specify dtype option on import or set low_memory=False.\n",
      "  interactivity=interactivity, compiler=compiler, result=result)\n"
     ]
    }
   ],
   "source": [
    "gongcan = pd.read_csv(open('g:/1-规划/工参/工参数据/ltejizhan20200519.csv',encoding='gbk'))"
   ]
  },
  {
   "cell_type": "code",
   "execution_count": 4,
   "metadata": {},
   "outputs": [],
   "source": [
    "gongcan_use = gongcan.loc[gongcan['RRU经度']>100]"
   ]
  },
  {
   "cell_type": "code",
   "execution_count": 5,
   "metadata": {},
   "outputs": [],
   "source": [
    "gongcan_use_p = mytools.gisn.add_points(gongcan_use,'RRU经度','RRU纬度')"
   ]
  },
  {
   "cell_type": "code",
   "execution_count": 24,
   "metadata": {},
   "outputs": [],
   "source": [
    "data = pd.read_clipboard()"
   ]
  },
  {
   "cell_type": "code",
   "execution_count": 25,
   "metadata": {},
   "outputs": [
    {
     "data": {
      "text/html": [
       "<div>\n",
       "<style scoped>\n",
       "    .dataframe tbody tr th:only-of-type {\n",
       "        vertical-align: middle;\n",
       "    }\n",
       "\n",
       "    .dataframe tbody tr th {\n",
       "        vertical-align: top;\n",
       "    }\n",
       "\n",
       "    .dataframe thead th {\n",
       "        text-align: right;\n",
       "    }\n",
       "</style>\n",
       "<table border=\"1\" class=\"dataframe\">\n",
       "  <thead>\n",
       "    <tr style=\"text-align: right;\">\n",
       "      <th></th>\n",
       "      <th>序号</th>\n",
       "      <th>规划经度</th>\n",
       "      <th>规划纬度</th>\n",
       "    </tr>\n",
       "  </thead>\n",
       "  <tbody>\n",
       "    <tr>\n",
       "      <td>0</td>\n",
       "      <td>青菱乡42号</td>\n",
       "      <td>114.26707</td>\n",
       "      <td>30.46519</td>\n",
       "    </tr>\n",
       "  </tbody>\n",
       "</table>\n",
       "</div>"
      ],
      "text/plain": [
       "       序号       规划经度      规划纬度\n",
       "0  青菱乡42号  114.26707  30.46519"
      ]
     },
     "execution_count": 25,
     "metadata": {},
     "output_type": "execute_result"
    }
   ],
   "source": [
    "data.head(1)"
   ]
  },
  {
   "cell_type": "code",
   "execution_count": 26,
   "metadata": {
    "scrolled": true
   },
   "outputs": [],
   "source": [
    "data_use = mytools.gisn.points_coverage_merge(data,'规划经度','规划纬度')"
   ]
  },
  {
   "cell_type": "code",
   "execution_count": 27,
   "metadata": {},
   "outputs": [],
   "source": [
    "data_use.to_clipboard()"
   ]
  },
  {
   "cell_type": "code",
   "execution_count": 28,
   "metadata": {},
   "outputs": [],
   "source": [
    "data_use['制式'] = 'FDD900'"
   ]
  },
  {
   "cell_type": "code",
   "execution_count": 29,
   "metadata": {},
   "outputs": [],
   "source": [
    "#修改倍数"
   ]
  },
  {
   "cell_type": "code",
   "execution_count": 30,
   "metadata": {},
   "outputs": [],
   "source": [
    "data_use_juli = mytools.gisn.changjing_distance(data_use,'区域类型','制式',beishu=1)"
   ]
  },
  {
   "cell_type": "code",
   "execution_count": 31,
   "metadata": {},
   "outputs": [],
   "source": [
    "# data_use_juli['distance']=650"
   ]
  },
  {
   "cell_type": "code",
   "execution_count": 32,
   "metadata": {},
   "outputs": [
    {
     "name": "stderr",
     "output_type": "stream",
     "text": [
      "C:\\ProgramData\\Anaconda3\\lib\\site-packages\\pyproj\\crs\\crs.py:53: FutureWarning: '+init=<authority>:<code>' syntax is deprecated. '<authority>:<code>' is the preferred initialization method. When making the change, be mindful of axis order changes: https://pyproj4.github.io/pyproj/stable/gotchas.html#axis-order-changes-in-proj-6\n",
      "  return _prepare_from_string(\" \".join(pjargs))\n",
      "C:\\ProgramData\\Anaconda3\\lib\\site-packages\\pyproj\\crs\\crs.py:53: FutureWarning: '+init=<authority>:<code>' syntax is deprecated. '<authority>:<code>' is the preferred initialization method. When making the change, be mindful of axis order changes: https://pyproj4.github.io/pyproj/stable/gotchas.html#axis-order-changes-in-proj-6\n",
      "  return _prepare_from_string(\" \".join(pjargs))\n"
     ]
    }
   ],
   "source": [
    "data_buffer = mytools.gisn.add_buffer_df(data_use_juli,'规划经度','规划纬度','distance')"
   ]
  },
  {
   "cell_type": "code",
   "execution_count": 33,
   "metadata": {},
   "outputs": [],
   "source": [
    "data_sjoin = gpd.sjoin(data_buffer,gongcan_use_p)"
   ]
  },
  {
   "cell_type": "code",
   "execution_count": 34,
   "metadata": {},
   "outputs": [
    {
     "data": {
      "text/html": [
       "<div>\n",
       "<style scoped>\n",
       "    .dataframe tbody tr th:only-of-type {\n",
       "        vertical-align: middle;\n",
       "    }\n",
       "\n",
       "    .dataframe tbody tr th {\n",
       "        vertical-align: top;\n",
       "    }\n",
       "\n",
       "    .dataframe thead th {\n",
       "        text-align: right;\n",
       "    }\n",
       "</style>\n",
       "<table border=\"1\" class=\"dataframe\">\n",
       "  <thead>\n",
       "    <tr style=\"text-align: right;\">\n",
       "      <th></th>\n",
       "      <th>序号</th>\n",
       "      <th>规划经度</th>\n",
       "      <th>规划纬度</th>\n",
       "      <th>区域类型</th>\n",
       "      <th>制式</th>\n",
       "      <th>distance</th>\n",
       "      <th>geometry</th>\n",
       "      <th>index_right</th>\n",
       "      <th>小区CGI(*)</th>\n",
       "      <th>小区中文名</th>\n",
       "      <th>...</th>\n",
       "      <th>空口上下行业务字节数KByte</th>\n",
       "      <th>集中工参工单号</th>\n",
       "      <th>BBU串号</th>\n",
       "      <th>RRU串号</th>\n",
       "      <th>规划平台_站址编码</th>\n",
       "      <th>规划平台_站址名称</th>\n",
       "      <th>规划平台_覆盖方式</th>\n",
       "      <th>省内或省际边界</th>\n",
       "      <th>边界说明</th>\n",
       "      <th>统计分类</th>\n",
       "    </tr>\n",
       "  </thead>\n",
       "  <tbody>\n",
       "    <tr>\n",
       "      <td>0</td>\n",
       "      <td>青菱乡42号</td>\n",
       "      <td>114.26707</td>\n",
       "      <td>30.46519</td>\n",
       "      <td>一般城区</td>\n",
       "      <td>FDD900</td>\n",
       "      <td>430.0</td>\n",
       "      <td>POLYGON ((114.27154 30.46528, 114.27153 30.464...</td>\n",
       "      <td>212573</td>\n",
       "      <td>460-00-440774-14</td>\n",
       "      <td>D民大工商学院综合楼-ZLH-14_iSON</td>\n",
       "      <td>...</td>\n",
       "      <td>114.21</td>\n",
       "      <td>NaN</td>\n",
       "      <td>0101ffff360200081000044077411</td>\n",
       "      <td>219992942546</td>\n",
       "      <td>ljz_hz_39134</td>\n",
       "      <td>D民大工商学院综合楼-ZLH</td>\n",
       "      <td>宏站</td>\n",
       "      <td>NaN</td>\n",
       "      <td>NaN</td>\n",
       "      <td>数据完整</td>\n",
       "    </tr>\n",
       "  </tbody>\n",
       "</table>\n",
       "<p>1 rows × 69 columns</p>\n",
       "</div>"
      ],
      "text/plain": [
       "       序号       规划经度      规划纬度  区域类型      制式  distance  \\\n",
       "0  青菱乡42号  114.26707  30.46519  一般城区  FDD900     430.0   \n",
       "\n",
       "                                            geometry  index_right  \\\n",
       "0  POLYGON ((114.27154 30.46528, 114.27153 30.464...       212573   \n",
       "\n",
       "           小区CGI(*)                   小区中文名  ... 空口上下行业务字节数KByte 集中工参工单号  \\\n",
       "0  460-00-440774-14  D民大工商学院综合楼-ZLH-14_iSON  ...          114.21     NaN   \n",
       "\n",
       "                           BBU串号         RRU串号     规划平台_站址编码       规划平台_站址名称  \\\n",
       "0  0101ffff360200081000044077411  219992942546  ljz_hz_39134  D民大工商学院综合楼-ZLH   \n",
       "\n",
       "  规划平台_覆盖方式  省内或省际边界  边界说明  统计分类  \n",
       "0        宏站      NaN   NaN  数据完整  \n",
       "\n",
       "[1 rows x 69 columns]"
      ]
     },
     "execution_count": 34,
     "metadata": {},
     "output_type": "execute_result"
    }
   ],
   "source": [
    "data_sjoin.head(1)"
   ]
  },
  {
   "cell_type": "code",
   "execution_count": 35,
   "metadata": {},
   "outputs": [
    {
     "data": {
      "text/plain": [
       "(3, 68)"
      ]
     },
     "execution_count": 35,
     "metadata": {},
     "output_type": "execute_result"
    }
   ],
   "source": [
    "data_sjoin.groupby('序号').count().shape"
   ]
  },
  {
   "cell_type": "code",
   "execution_count": 36,
   "metadata": {},
   "outputs": [],
   "source": [
    "data_res = data_sjoin[['序号', '小区CGI(*)','区域类型']]"
   ]
  },
  {
   "cell_type": "code",
   "execution_count": 37,
   "metadata": {},
   "outputs": [],
   "source": [
    "ruancai_cel = pd.read_excel('G:/1-规划/MRO/1、原始数据/摸底测试相关/2020年/4月/汇总双套数据4月.xlsx',encoding='gbk')"
   ]
  },
  {
   "cell_type": "code",
   "execution_count": 38,
   "metadata": {},
   "outputs": [
    {
     "data": {
      "text/plain": [
       "Index(['小区CGI(*)', 'rsrp_count_cmcc', 'rsrp_weak_cmcc', '厂家名称', '小区中文名',\n",
       "       '所属地区', 'atu'],\n",
       "      dtype='object')"
      ]
     },
     "execution_count": 38,
     "metadata": {},
     "output_type": "execute_result"
    }
   ],
   "source": [
    "ruancai_cel.columns"
   ]
  },
  {
   "cell_type": "code",
   "execution_count": 39,
   "metadata": {},
   "outputs": [
    {
     "data": {
      "text/plain": [
       "Index(['小区CGI(*)', 'rsrp_count_cmcc', 'rsrp_weak_cmcc', '厂家名称', '小区中文名',\n",
       "       '所属地区', 'atu'],\n",
       "      dtype='object')"
      ]
     },
     "execution_count": 39,
     "metadata": {},
     "output_type": "execute_result"
    }
   ],
   "source": [
    "ruancai_cel.columns"
   ]
  },
  {
   "cell_type": "code",
   "execution_count": 40,
   "metadata": {},
   "outputs": [],
   "source": [
    "ruancai_cel['fgl'] = 1- ruancai_cel['rsrp_weak_cmcc']/ruancai_cel['rsrp_count_cmcc']"
   ]
  },
  {
   "cell_type": "code",
   "execution_count": 41,
   "metadata": {},
   "outputs": [],
   "source": [
    "ruancai_cel.loc[ruancai_cel['fgl']<0.9,'弱覆盖小区']=1"
   ]
  },
  {
   "cell_type": "code",
   "execution_count": 42,
   "metadata": {},
   "outputs": [],
   "source": [
    "data_res_v2 = data_res.merge(ruancai_cel,how='left',left_on='小区CGI(*)',right_on='小区CGI(*)')"
   ]
  },
  {
   "cell_type": "code",
   "execution_count": 43,
   "metadata": {},
   "outputs": [],
   "source": [
    "liuliang = pd.read_csv('G:/1-规划/流量/20200518LIULIANG.CSV',encoding='gbk')"
   ]
  },
  {
   "cell_type": "code",
   "execution_count": 44,
   "metadata": {},
   "outputs": [],
   "source": [
    "liuliang_use = liuliang[[ 'CGI', '空口上行业务字节数','空口下行业务字节数']]"
   ]
  },
  {
   "cell_type": "code",
   "execution_count": 45,
   "metadata": {
    "scrolled": true
   },
   "outputs": [
    {
     "name": "stderr",
     "output_type": "stream",
     "text": [
      "C:\\ProgramData\\Anaconda3\\lib\\site-packages\\ipykernel_launcher.py:1: SettingWithCopyWarning: \n",
      "A value is trying to be set on a copy of a slice from a DataFrame.\n",
      "Try using .loc[row_indexer,col_indexer] = value instead\n",
      "\n",
      "See the caveats in the documentation: http://pandas.pydata.org/pandas-docs/stable/user_guide/indexing.html#returning-a-view-versus-a-copy\n",
      "  \"\"\"Entry point for launching an IPython kernel.\n"
     ]
    }
   ],
   "source": [
    "liuliang_use['流量总'] = liuliang_use['空口上行业务字节数'] +liuliang_use['空口下行业务字节数'] "
   ]
  },
  {
   "cell_type": "code",
   "execution_count": 46,
   "metadata": {},
   "outputs": [],
   "source": [
    "liuliang_use_2 =  liuliang_use[[ 'CGI', '流量总']]"
   ]
  },
  {
   "cell_type": "code",
   "execution_count": 47,
   "metadata": {},
   "outputs": [],
   "source": [
    "data_res_v3 = data_res_v2.merge(liuliang_use_2,how='left',left_on='小区CGI(*)',right_on='CGI')"
   ]
  },
  {
   "cell_type": "code",
   "execution_count": 48,
   "metadata": {},
   "outputs": [],
   "source": [
    "data_res_v3.loc[data_res_v3['rsrp_count_cmcc'].notna(),'有采样点小区数']=1"
   ]
  },
  {
   "cell_type": "code",
   "execution_count": 171,
   "metadata": {},
   "outputs": [],
   "source": [
    "data_res_v4 = data_res_v3.groupby('序号').agg(\n",
    "    {'rsrp_count_cmcc':'sum','rsrp_weak_cmcc':'sum','小区CGI(*)':'count','有采样点小区数':'sum',\n",
    "     '弱覆盖小区':'count','流量总':'sum'}).reset_index()"
   ]
  },
  {
   "cell_type": "code",
   "execution_count": 172,
   "metadata": {},
   "outputs": [],
   "source": [
    "data_res_v5 = data_res_v4.merge(data_use[['序号','区域类型']],how='left',on='序号')"
   ]
  },
  {
   "cell_type": "code",
   "execution_count": 173,
   "metadata": {},
   "outputs": [],
   "source": [
    "data_res_v5.to_clipboard()"
   ]
  },
  {
   "cell_type": "code",
   "execution_count": null,
   "metadata": {},
   "outputs": [],
   "source": []
  },
  {
   "cell_type": "code",
   "execution_count": null,
   "metadata": {},
   "outputs": [],
   "source": []
  },
  {
   "cell_type": "code",
   "execution_count": null,
   "metadata": {},
   "outputs": [],
   "source": []
  },
  {
   "cell_type": "code",
   "execution_count": null,
   "metadata": {},
   "outputs": [],
   "source": []
  },
  {
   "cell_type": "code",
   "execution_count": null,
   "metadata": {},
   "outputs": [],
   "source": []
  },
  {
   "cell_type": "code",
   "execution_count": null,
   "metadata": {},
   "outputs": [],
   "source": []
  },
  {
   "cell_type": "code",
   "execution_count": null,
   "metadata": {},
   "outputs": [],
   "source": []
  }
 ],
 "metadata": {
  "kernelspec": {
   "display_name": "Python 3",
   "language": "python",
   "name": "python3"
  },
  "language_info": {
   "codemirror_mode": {
    "name": "ipython",
    "version": 3
   },
   "file_extension": ".py",
   "mimetype": "text/x-python",
   "name": "python",
   "nbconvert_exporter": "python",
   "pygments_lexer": "ipython3",
   "version": "3.7.3"
  }
 },
 "nbformat": 4,
 "nbformat_minor": 2
}
