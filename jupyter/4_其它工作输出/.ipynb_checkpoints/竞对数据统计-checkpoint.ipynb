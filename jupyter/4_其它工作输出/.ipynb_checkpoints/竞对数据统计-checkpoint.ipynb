{
 "cells": [
  {
   "cell_type": "code",
   "execution_count": 1,
   "metadata": {},
   "outputs": [],
   "source": [
    "import mytools\n",
    "import pandas as pd"
   ]
  },
  {
   "cell_type": "markdown",
   "metadata": {},
   "source": [
    "# 导入数据"
   ]
  },
  {
   "cell_type": "code",
   "execution_count": 2,
   "metadata": {},
   "outputs": [],
   "source": [
    "atu = pd.read_csv('G:/1-规划/图层/ATU测试区域/ATU圈出的小区.csv',encoding='gbk')"
   ]
  },
  {
   "cell_type": "code",
   "execution_count": 38,
   "metadata": {},
   "outputs": [],
   "source": [
    "data_te = pd.read_csv('G:/1-规划/MRO/2.日常mro/处理后mro/3个文件合并1.csv',encoding='gbk')\n",
    "data_un = pd.read_csv('G:/1-规划/MRO/2.日常mro/处理后mro/3个文件合并2.csv',encoding='gbk')"
   ]
  },
  {
   "cell_type": "code",
   "execution_count": 39,
   "metadata": {},
   "outputs": [],
   "source": [
    "data_te['全网'] = '全省'\n",
    "data_un['全网'] = '全省'"
   ]
  },
  {
   "cell_type": "code",
   "execution_count": 40,
   "metadata": {},
   "outputs": [],
   "source": [
    "data_te = data_te.loc[data_te['atu']==1]\n",
    "data_un = data_un.loc[data_un['atu']==1]"
   ]
  },
  {
   "cell_type": "code",
   "execution_count": null,
   "metadata": {},
   "outputs": [],
   "source": []
  },
  {
   "cell_type": "code",
   "execution_count": 41,
   "metadata": {},
   "outputs": [],
   "source": [
    "ruancai_cel = mytools.othern.pickle_read('G:/1-规划/MRO/1、原始数据/摸底测试相关/2019年/12月/mro/四季度评估使用/程序储存数据/ruancai_use.data')"
   ]
  },
  {
   "cell_type": "code",
   "execution_count": 42,
   "metadata": {},
   "outputs": [],
   "source": [
    "ruancai_cel1 = ruancai_cel.merge(atu,how='left',left_on = '小区CGI(*)',right_on = 'cgi')"
   ]
  },
  {
   "cell_type": "code",
   "execution_count": 44,
   "metadata": {},
   "outputs": [],
   "source": [
    "ruancai_cel = ruancai_cel1.loc[ruancai_cel1['atu']==1]"
   ]
  },
  {
   "cell_type": "markdown",
   "metadata": {},
   "source": [
    "# 处理数据"
   ]
  },
  {
   "cell_type": "code",
   "execution_count": 45,
   "metadata": {},
   "outputs": [],
   "source": [
    "data_te_use = data_te.groupby('所属地区').agg({'rsrp_count_chte':'sum','rsrp_weak_chte_113':'sum'})\n",
    "data_un_use = data_un.groupby('所属地区').agg({'rsrp_count_chun':'sum','rsrp_weak_chun_113':'sum'})"
   ]
  },
  {
   "cell_type": "code",
   "execution_count": 46,
   "metadata": {},
   "outputs": [],
   "source": [
    "data_te_wh = data_te.loc[data_te['所属地区']=='武汉']\n",
    "data_un_wh = data_un.loc[data_un['所属地区']=='武汉']"
   ]
  },
  {
   "cell_type": "code",
   "execution_count": 47,
   "metadata": {},
   "outputs": [],
   "source": [
    "data_te_wuhan_res = data_te_wh.groupby('厂家名称').agg({'rsrp_count_chte':'sum','rsrp_weak_chte_113':'sum'})\n",
    "data_un_wuhan_res = data_un_wh.groupby('厂家名称').agg({'rsrp_count_chun':'sum','rsrp_weak_chun_113':'sum'})"
   ]
  },
  {
   "cell_type": "code",
   "execution_count": 48,
   "metadata": {},
   "outputs": [],
   "source": [
    "data_te_wuhan_res1 = data_te_wuhan_res.loc[['中兴','华为']]\n",
    "data_un_wuhan_res1 = data_un_wuhan_res.loc[['中兴','华为']]"
   ]
  },
  {
   "cell_type": "code",
   "execution_count": 49,
   "metadata": {},
   "outputs": [],
   "source": [
    "data_te_qw = data_te.groupby('全网').agg({'rsrp_count_chte':'sum','rsrp_weak_chte_113':'sum'})\n",
    "data_un_qw = data_un.groupby('全网').agg({'rsrp_count_chun':'sum','rsrp_weak_chun_113':'sum'})"
   ]
  },
  {
   "cell_type": "code",
   "execution_count": 50,
   "metadata": {},
   "outputs": [],
   "source": [
    "data_te_changjia_res = data_te.groupby('厂家名称').agg({'rsrp_count_chte':'sum','rsrp_weak_chte_113':'sum'})\n",
    "data_un_changjia_res = data_un.groupby('厂家名称').agg({'rsrp_count_chun':'sum','rsrp_weak_chun_113':'sum'})"
   ]
  },
  {
   "cell_type": "markdown",
   "metadata": {},
   "source": [
    "# 复制"
   ]
  },
  {
   "cell_type": "code",
   "execution_count": 51,
   "metadata": {},
   "outputs": [],
   "source": [
    "data_te_changjia_res.to_clipboard()"
   ]
  },
  {
   "cell_type": "code",
   "execution_count": 55,
   "metadata": {},
   "outputs": [],
   "source": [
    "data_un_changjia_res.to_clipboard()"
   ]
  },
  {
   "cell_type": "code",
   "execution_count": 52,
   "metadata": {},
   "outputs": [],
   "source": [
    "data_te_qw.to_clipboard()"
   ]
  },
  {
   "cell_type": "code",
   "execution_count": 56,
   "metadata": {},
   "outputs": [],
   "source": [
    "data_un_qw.to_clipboard()"
   ]
  },
  {
   "cell_type": "code",
   "execution_count": 53,
   "metadata": {},
   "outputs": [],
   "source": [
    "data_te_wuhan_res1.to_clipboard()"
   ]
  },
  {
   "cell_type": "code",
   "execution_count": 57,
   "metadata": {},
   "outputs": [],
   "source": [
    "data_un_wuhan_res1.to_clipboard()"
   ]
  },
  {
   "cell_type": "code",
   "execution_count": 54,
   "metadata": {},
   "outputs": [],
   "source": [
    "data_te_use.to_clipboard()"
   ]
  },
  {
   "cell_type": "code",
   "execution_count": 58,
   "metadata": {},
   "outputs": [],
   "source": [
    "data_un_use.to_clipboard()"
   ]
  },
  {
   "cell_type": "markdown",
   "metadata": {},
   "source": [
    "# 移动复制"
   ]
  },
  {
   "cell_type": "code",
   "execution_count": 59,
   "metadata": {},
   "outputs": [
    {
     "data": {
      "text/plain": [
       "Index(['城市', 'NAME', 'rsrp_count', 'rsrp_weak', '区域类型',\n",
       "       'a.un_maxrsrp_sample_count', 'a.un_maxrsrp_weak_l2',\n",
       "       'a.te_maxrsrp_sample_count', 'a.te_maxrsrp_weak_l2', 'hd', '总问题小区',\n",
       "       '厂家名称', '小区CGI(*)', 'fgl', '弱覆盖小区', 'cgi', 'lon', 'lat', 'atu'],\n",
       "      dtype='object')"
      ]
     },
     "execution_count": 59,
     "metadata": {},
     "output_type": "execute_result"
    }
   ],
   "source": [
    "ruancai_cel.columns"
   ]
  },
  {
   "cell_type": "code",
   "execution_count": 71,
   "metadata": {},
   "outputs": [],
   "source": [
    "ruancai_quanwang = ruancai_cel.groupby('厂家名称').agg({'rsrp_count':'sum','rsrp_weak':'sum'})"
   ]
  },
  {
   "cell_type": "code",
   "execution_count": 72,
   "metadata": {},
   "outputs": [],
   "source": [
    "ruancai_quanwang.to_clipboard()"
   ]
  },
  {
   "cell_type": "code",
   "execution_count": 76,
   "metadata": {},
   "outputs": [],
   "source": [
    "ruancai_cel_wh_use = ruancai_cel.loc[ruancai_cel['城市']=='武汉']"
   ]
  },
  {
   "cell_type": "code",
   "execution_count": 77,
   "metadata": {},
   "outputs": [],
   "source": [
    "ruancai_cel_wh_use_res = ruancai_cel_wh_use.groupby('厂家名称').agg({'rsrp_count':'sum','rsrp_weak':'sum'})"
   ]
  },
  {
   "cell_type": "code",
   "execution_count": 78,
   "metadata": {},
   "outputs": [],
   "source": [
    "ruancai_cel_wh_use_res.to_clipboard()"
   ]
  },
  {
   "cell_type": "code",
   "execution_count": 73,
   "metadata": {},
   "outputs": [
    {
     "name": "stderr",
     "output_type": "stream",
     "text": [
      "C:\\ProgramData\\Anaconda3\\lib\\site-packages\\ipykernel_launcher.py:1: SettingWithCopyWarning: \n",
      "A value is trying to be set on a copy of a slice from a DataFrame.\n",
      "Try using .loc[row_indexer,col_indexer] = value instead\n",
      "\n",
      "See the caveats in the documentation: https://pandas.pydata.org/pandas-docs/stable/user_guide/indexing.html#returning-a-view-versus-a-copy\n",
      "  \"\"\"Entry point for launching an IPython kernel.\n"
     ]
    }
   ],
   "source": [
    "ruancai_cel['全网'] = '全省'"
   ]
  },
  {
   "cell_type": "code",
   "execution_count": 74,
   "metadata": {},
   "outputs": [],
   "source": [
    "ruancai_cel_qw = ruancai_cel.groupby('全网').agg({'rsrp_count':'sum','rsrp_weak':'sum'})"
   ]
  },
  {
   "cell_type": "code",
   "execution_count": 75,
   "metadata": {},
   "outputs": [],
   "source": [
    "ruancai_cel_qw.to_clipboard()"
   ]
  },
  {
   "cell_type": "code",
   "execution_count": null,
   "metadata": {},
   "outputs": [],
   "source": []
  }
 ],
 "metadata": {
  "kernelspec": {
   "display_name": "Python 3",
   "language": "python",
   "name": "python3"
  },
  "language_info": {
   "codemirror_mode": {
    "name": "ipython",
    "version": 3
   },
   "file_extension": ".py",
   "mimetype": "text/x-python",
   "name": "python",
   "nbconvert_exporter": "python",
   "pygments_lexer": "ipython3",
   "version": "3.7.3"
  }
 },
 "nbformat": 4,
 "nbformat_minor": 2
}
