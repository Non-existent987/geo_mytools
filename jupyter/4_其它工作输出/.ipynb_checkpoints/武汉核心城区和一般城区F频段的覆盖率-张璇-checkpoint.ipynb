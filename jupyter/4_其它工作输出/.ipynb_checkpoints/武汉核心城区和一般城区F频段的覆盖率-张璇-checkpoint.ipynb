{
 "cells": [
  {
   "cell_type": "code",
   "execution_count": 1,
   "metadata": {},
   "outputs": [],
   "source": [
    "import mytools\n",
    "import pandas as pd"
   ]
  },
  {
   "cell_type": "code",
   "execution_count": 37,
   "metadata": {},
   "outputs": [],
   "source": [
    "mrs = pd.read_csv('G:/1-规划/MR/MR基础数据/20200228.CSV',encoding='gbk')"
   ]
  },
  {
   "cell_type": "code",
   "execution_count": 4,
   "metadata": {},
   "outputs": [],
   "source": [
    "mro = mytools.othern.pickle_read('G:/1-规划/MRO/1、原始数据/摸底测试相关/2019年/12月/mro/四季度评估使用/程序储存数据/ruancai_use.data')"
   ]
  },
  {
   "cell_type": "code",
   "execution_count": 7,
   "metadata": {},
   "outputs": [
    {
     "name": "stderr",
     "output_type": "stream",
     "text": [
      "C:\\ProgramData\\Anaconda3\\lib\\site-packages\\IPython\\core\\interactiveshell.py:3049: DtypeWarning: Columns (12,14) have mixed types.Specify dtype option on import or set low_memory=False.\n",
      "  interactivity=interactivity, compiler=compiler, result=result)\n"
     ]
    }
   ],
   "source": [
    "gongcan = pd.read_csv('g:/1-规划/工参/工参数据/ltejizhan20200303.csv',encoding='gbk')"
   ]
  },
  {
   "cell_type": "code",
   "execution_count": 14,
   "metadata": {},
   "outputs": [],
   "source": [
    "gongcan_use = gongcan[['小区CGI(*)','RRU经度', 'RRU纬度' ,'归属区县', '厂家名称','工作频段']]"
   ]
  },
  {
   "cell_type": "code",
   "execution_count": 15,
   "metadata": {},
   "outputs": [],
   "source": [
    "mro_use = mro.merge(gongcan_use,how='left',on='小区CGI(*)')"
   ]
  },
  {
   "cell_type": "code",
   "execution_count": 20,
   "metadata": {},
   "outputs": [],
   "source": [
    "mro_use2 = mro_use.loc[(mro_use['城市']=='武汉')&(mro_use['工作频段']=='F')&(mro_use['区域类型'].isin(['主城区','一般城区']))]"
   ]
  },
  {
   "cell_type": "code",
   "execution_count": 48,
   "metadata": {},
   "outputs": [
    {
     "data": {
      "text/plain": [
       "Index(['城市', 'NAME', 'rsrp_count', 'rsrp_weak', '区域类型',\n",
       "       'a.un_maxrsrp_sample_count', 'a.un_maxrsrp_weak_l2',\n",
       "       'a.te_maxrsrp_sample_count', 'a.te_maxrsrp_weak_l2', 'hd', '总问题小区',\n",
       "       '厂家名称_x', '小区CGI(*)', 'fgl', '弱覆盖小区', 'RRU经度', 'RRU纬度', '归属区县',\n",
       "       '厂家名称_y', '工作频段', 'qw'],\n",
       "      dtype='object')"
      ]
     },
     "execution_count": 48,
     "metadata": {},
     "output_type": "execute_result"
    }
   ],
   "source": [
    "mro_use2.columns"
   ]
  },
  {
   "cell_type": "code",
   "execution_count": 24,
   "metadata": {},
   "outputs": [
    {
     "name": "stderr",
     "output_type": "stream",
     "text": [
      "C:\\ProgramData\\Anaconda3\\lib\\site-packages\\ipykernel_launcher.py:1: SettingWithCopyWarning: \n",
      "A value is trying to be set on a copy of a slice from a DataFrame.\n",
      "Try using .loc[row_indexer,col_indexer] = value instead\n",
      "\n",
      "See the caveats in the documentation: https://pandas.pydata.org/pandas-docs/stable/user_guide/indexing.html#returning-a-view-versus-a-copy\n",
      "  \"\"\"Entry point for launching an IPython kernel.\n"
     ]
    }
   ],
   "source": [
    "mro_use2['qw']='qw'"
   ]
  },
  {
   "cell_type": "code",
   "execution_count": 49,
   "metadata": {},
   "outputs": [],
   "source": [
    "mro_res = mro_use2.groupby('厂家名称_y').agg({'rsrp_count':'sum','rsrp_weak':'sum'})"
   ]
  },
  {
   "cell_type": "code",
   "execution_count": 56,
   "metadata": {},
   "outputs": [],
   "source": [
    "mro_res.to_clipboard()"
   ]
  },
  {
   "cell_type": "code",
   "execution_count": 38,
   "metadata": {},
   "outputs": [],
   "source": [
    "mrs_use = mrs.merge(gongcan_use,how='left',left_on='CGI',right_on='小区CGI(*)')"
   ]
  },
  {
   "cell_type": "code",
   "execution_count": 39,
   "metadata": {
    "scrolled": true
   },
   "outputs": [
    {
     "name": "stderr",
     "output_type": "stream",
     "text": [
      "C:\\ProgramData\\Anaconda3\\lib\\site-packages\\numpy\\lib\\function_base.py:2167: RuntimeWarning: invalid value encountered in ? (vectorized)\n",
      "  outputs = ufunc(*inputs)\n"
     ]
    }
   ],
   "source": [
    "mrs_use2 = mytools.gisn.points_coverage_merge(mrs_use,lon='RRU经度',lat='RRU纬度')"
   ]
  },
  {
   "cell_type": "code",
   "execution_count": 40,
   "metadata": {},
   "outputs": [
    {
     "data": {
      "text/plain": [
       "Index(['时间', '小区中文名', 'CGI', '地市', '区县', '厂家名称_x', '小区类别', '中心载频的信道号',\n",
       "       '参考信号接收功率采样点点数', '自_自-弱覆盖采样点110_Eutrancell', '工作频段_x',\n",
       "       '自_LTE小区总流量（Mbyte)_Eutrancell', '小区CGI(*)', 'RRU经度', 'RRU纬度', '归属区县',\n",
       "       '厂家名称_y', '工作频段_y', '区域类型'],\n",
       "      dtype='object')"
      ]
     },
     "execution_count": 40,
     "metadata": {},
     "output_type": "execute_result"
    }
   ],
   "source": [
    "mrs_use2.columns"
   ]
  },
  {
   "cell_type": "code",
   "execution_count": 41,
   "metadata": {},
   "outputs": [],
   "source": [
    "mrs_use3 = mrs_use2.loc[(mrs_use2['地市']=='武汉')&(mrs_use2['工作频段_y']=='F')&(mrs_use2['区域类型'].isin(['主城区','一般城区']))]"
   ]
  },
  {
   "cell_type": "code",
   "execution_count": 53,
   "metadata": {},
   "outputs": [
    {
     "data": {
      "text/plain": [
       "Index(['时间', '小区中文名', 'CGI', '地市', '区县', '厂家名称_x', '小区类别', '中心载频的信道号',\n",
       "       '参考信号接收功率采样点点数', '自_自-弱覆盖采样点110_Eutrancell', '工作频段_x',\n",
       "       '自_LTE小区总流量（Mbyte)_Eutrancell', '小区CGI(*)', 'RRU经度', 'RRU纬度', '归属区县',\n",
       "       '厂家名称_y', '工作频段_y', '区域类型', 'qw'],\n",
       "      dtype='object')"
      ]
     },
     "execution_count": 53,
     "metadata": {},
     "output_type": "execute_result"
    }
   ],
   "source": [
    "mrs_use3.columns"
   ]
  },
  {
   "cell_type": "code",
   "execution_count": 42,
   "metadata": {},
   "outputs": [
    {
     "name": "stderr",
     "output_type": "stream",
     "text": [
      "C:\\ProgramData\\Anaconda3\\lib\\site-packages\\ipykernel_launcher.py:1: SettingWithCopyWarning: \n",
      "A value is trying to be set on a copy of a slice from a DataFrame.\n",
      "Try using .loc[row_indexer,col_indexer] = value instead\n",
      "\n",
      "See the caveats in the documentation: https://pandas.pydata.org/pandas-docs/stable/user_guide/indexing.html#returning-a-view-versus-a-copy\n",
      "  \"\"\"Entry point for launching an IPython kernel.\n"
     ]
    }
   ],
   "source": [
    "mrs_use3['qw']='qw'"
   ]
  },
  {
   "cell_type": "code",
   "execution_count": 54,
   "metadata": {},
   "outputs": [],
   "source": [
    "mrs_res = mrs_use3.groupby('厂家名称_y').agg({'参考信号接收功率采样点点数':'sum','自_自-弱覆盖采样点110_Eutrancell':'sum'})"
   ]
  },
  {
   "cell_type": "code",
   "execution_count": 57,
   "metadata": {},
   "outputs": [],
   "source": [
    "mrs_res.to_clipboard()"
   ]
  },
  {
   "cell_type": "code",
   "execution_count": null,
   "metadata": {},
   "outputs": [],
   "source": []
  }
 ],
 "metadata": {
  "kernelspec": {
   "display_name": "Python 3",
   "language": "python",
   "name": "python3"
  },
  "language_info": {
   "codemirror_mode": {
    "name": "ipython",
    "version": 3
   },
   "file_extension": ".py",
   "mimetype": "text/x-python",
   "name": "python",
   "nbconvert_exporter": "python",
   "pygments_lexer": "ipython3",
   "version": "3.7.3"
  }
 },
 "nbformat": 4,
 "nbformat_minor": 2
}
