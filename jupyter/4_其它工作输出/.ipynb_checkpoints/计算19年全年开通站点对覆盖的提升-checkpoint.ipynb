{
 "cells": [
  {
   "cell_type": "code",
   "execution_count": 1,
   "metadata": {},
   "outputs": [],
   "source": [
    "import pandas as pd\n",
    "import geopandas as gpd\n",
    "import mytools"
   ]
  },
  {
   "cell_type": "markdown",
   "metadata": {},
   "source": [
    "# 导入数据 1、19年开通站点 2、年初摸底覆盖率 3、年尾摸底覆盖率"
   ]
  },
  {
   "cell_type": "code",
   "execution_count": 4,
   "metadata": {},
   "outputs": [],
   "source": [
    "zhanzhi = pd.ExcelFile('G:/1-规划/1其他工作输出/20200522开通站点对覆盖的提升计算19年/19年开通站点统计/19年开通站址表.xlsx')"
   ]
  },
  {
   "cell_type": "code",
   "execution_count": 5,
   "metadata": {},
   "outputs": [
    {
     "data": {
      "text/plain": [
       "['Sheet1']"
      ]
     },
     "execution_count": 5,
     "metadata": {},
     "output_type": "execute_result"
    }
   ],
   "source": [
    "zhanzhi.sheet_names"
   ]
  },
  {
   "cell_type": "code",
   "execution_count": 6,
   "metadata": {},
   "outputs": [],
   "source": [
    "data_zhanzhi = zhanzhi.parse(sheet_name=zhanzhi.sheet_names[0])"
   ]
  },
  {
   "cell_type": "code",
   "execution_count": 7,
   "metadata": {},
   "outputs": [
    {
     "data": {
      "text/html": [
       "<div>\n",
       "<style scoped>\n",
       "    .dataframe tbody tr th:only-of-type {\n",
       "        vertical-align: middle;\n",
       "    }\n",
       "\n",
       "    .dataframe tbody tr th {\n",
       "        vertical-align: top;\n",
       "    }\n",
       "\n",
       "    .dataframe thead th {\n",
       "        text-align: right;\n",
       "    }\n",
       "</style>\n",
       "<table border=\"1\" class=\"dataframe\">\n",
       "  <thead>\n",
       "    <tr style=\"text-align: right;\">\n",
       "      <th></th>\n",
       "      <th>cgi</th>\n",
       "      <th>rsrp_count</th>\n",
       "      <th>rsrp_weak</th>\n",
       "      <th>lon</th>\n",
       "      <th>lat</th>\n",
       "    </tr>\n",
       "  </thead>\n",
       "  <tbody>\n",
       "    <tr>\n",
       "      <td>0</td>\n",
       "      <td>460-00-447858-4</td>\n",
       "      <td>20785</td>\n",
       "      <td>47.0</td>\n",
       "      <td>29.83836</td>\n",
       "      <td>115.21231</td>\n",
       "    </tr>\n",
       "  </tbody>\n",
       "</table>\n",
       "</div>"
      ],
      "text/plain": [
       "               cgi  rsrp_count  rsrp_weak       lon        lat\n",
       "0  460-00-447858-4       20785       47.0  29.83836  115.21231"
      ]
     },
     "execution_count": 7,
     "metadata": {},
     "output_type": "execute_result"
    }
   ],
   "source": [
    "data_18 = pd.read_clipboard()\n",
    "data_18.head(1)"
   ]
  },
  {
   "cell_type": "code",
   "execution_count": 8,
   "metadata": {},
   "outputs": [
    {
     "data": {
      "text/html": [
       "<div>\n",
       "<style scoped>\n",
       "    .dataframe tbody tr th:only-of-type {\n",
       "        vertical-align: middle;\n",
       "    }\n",
       "\n",
       "    .dataframe tbody tr th {\n",
       "        vertical-align: top;\n",
       "    }\n",
       "\n",
       "    .dataframe thead th {\n",
       "        text-align: right;\n",
       "    }\n",
       "</style>\n",
       "<table border=\"1\" class=\"dataframe\">\n",
       "  <thead>\n",
       "    <tr style=\"text-align: right;\">\n",
       "      <th></th>\n",
       "      <th>cgi</th>\n",
       "      <th>总点</th>\n",
       "      <th>弱点</th>\n",
       "      <th>lon</th>\n",
       "      <th>lat</th>\n",
       "    </tr>\n",
       "  </thead>\n",
       "  <tbody>\n",
       "    <tr>\n",
       "      <td>0</td>\n",
       "      <td>460-00-447858-4</td>\n",
       "      <td>23534.0</td>\n",
       "      <td>24.0</td>\n",
       "      <td>29.83836</td>\n",
       "      <td>115.21231</td>\n",
       "    </tr>\n",
       "  </tbody>\n",
       "</table>\n",
       "</div>"
      ],
      "text/plain": [
       "               cgi       总点    弱点       lon        lat\n",
       "0  460-00-447858-4  23534.0  24.0  29.83836  115.21231"
      ]
     },
     "execution_count": 8,
     "metadata": {},
     "output_type": "execute_result"
    }
   ],
   "source": [
    "data_19 = pd.read_clipboard()\n",
    "data_19.head(1)"
   ]
  },
  {
   "cell_type": "code",
   "execution_count": 9,
   "metadata": {},
   "outputs": [],
   "source": [
    "data_zhanzhi_use = mytools.gisn.points_coverage_merge(data_zhanzhi,'lon','lat')"
   ]
  },
  {
   "cell_type": "code",
   "execution_count": 10,
   "metadata": {},
   "outputs": [
    {
     "data": {
      "text/html": [
       "<div>\n",
       "<style scoped>\n",
       "    .dataframe tbody tr th:only-of-type {\n",
       "        vertical-align: middle;\n",
       "    }\n",
       "\n",
       "    .dataframe tbody tr th {\n",
       "        vertical-align: top;\n",
       "    }\n",
       "\n",
       "    .dataframe thead th {\n",
       "        text-align: right;\n",
       "    }\n",
       "</style>\n",
       "<table border=\"1\" class=\"dataframe\">\n",
       "  <thead>\n",
       "    <tr style=\"text-align: right;\">\n",
       "      <th></th>\n",
       "      <th>规划站号</th>\n",
       "      <th>是否通过告警检测（单站验证、单站审核、工艺验收、后评估、环节九、十、十一、十二、已归档）</th>\n",
       "      <th>资管平台开通情况</th>\n",
       "      <th>工单编号</th>\n",
       "      <th>结束时间</th>\n",
       "      <th>lon</th>\n",
       "      <th>lat</th>\n",
       "      <th>结束时间.1</th>\n",
       "      <th>制式</th>\n",
       "      <th>区域类型</th>\n",
       "    </tr>\n",
       "  </thead>\n",
       "  <tbody>\n",
       "    <tr>\n",
       "      <td>0</td>\n",
       "      <td>JHF000362_G_H</td>\n",
       "      <td>通过告警检测</td>\n",
       "      <td>已归档</td>\n",
       "      <td>HB-190530-9617-00156</td>\n",
       "      <td>2019-06-18 08:49:03.0</td>\n",
       "      <td>30.37007</td>\n",
       "      <td>113.088142</td>\n",
       "      <td>2019-06-18</td>\n",
       "      <td>FDD900</td>\n",
       "      <td>农村</td>\n",
       "    </tr>\n",
       "  </tbody>\n",
       "</table>\n",
       "</div>"
      ],
      "text/plain": [
       "            规划站号 是否通过告警检测（单站验证、单站审核、工艺验收、后评估、环节九、十、十一、十二、已归档） 资管平台开通情况  \\\n",
       "0  JHF000362_G_H                                       通过告警检测      已归档   \n",
       "\n",
       "                   工单编号                   结束时间       lon         lat  \\\n",
       "0  HB-190530-9617-00156  2019-06-18 08:49:03.0  30.37007  113.088142   \n",
       "\n",
       "      结束时间.1      制式 区域类型  \n",
       "0 2019-06-18  FDD900   农村  "
      ]
     },
     "execution_count": 10,
     "metadata": {},
     "output_type": "execute_result"
    }
   ],
   "source": [
    "data_zhanzhi_use.head(1)"
   ]
  },
  {
   "cell_type": "code",
   "execution_count": 23,
   "metadata": {},
   "outputs": [],
   "source": [
    "data_zhanzhi_juli = mytools.gisn.changjing_distance(data_zhanzhi_use,'区域类型','制式')"
   ]
  },
  {
   "cell_type": "code",
   "execution_count": 24,
   "metadata": {},
   "outputs": [
    {
     "name": "stderr",
     "output_type": "stream",
     "text": [
      "C:\\ProgramData\\Anaconda3\\lib\\site-packages\\pyproj\\crs\\crs.py:53: FutureWarning: '+init=<authority>:<code>' syntax is deprecated. '<authority>:<code>' is the preferred initialization method. When making the change, be mindful of axis order changes: https://pyproj4.github.io/pyproj/stable/gotchas.html#axis-order-changes-in-proj-6\n",
      "  return _prepare_from_string(\" \".join(pjargs))\n",
      "C:\\ProgramData\\Anaconda3\\lib\\site-packages\\pyproj\\crs\\crs.py:53: FutureWarning: '+init=<authority>:<code>' syntax is deprecated. '<authority>:<code>' is the preferred initialization method. When making the change, be mindful of axis order changes: https://pyproj4.github.io/pyproj/stable/gotchas.html#axis-order-changes-in-proj-6\n",
      "  return _prepare_from_string(\" \".join(pjargs))\n"
     ]
    }
   ],
   "source": [
    "data_zhanzhi_buff = mytools.gisn.add_buffer_df(data_zhanzhi_juli,'lon','lat','distance')"
   ]
  },
  {
   "cell_type": "code",
   "execution_count": 25,
   "metadata": {},
   "outputs": [],
   "source": [
    "# data_18_p = mytools.gisn.add_points(data_18,'lon','lat')"
   ]
  },
  {
   "cell_type": "code",
   "execution_count": 26,
   "metadata": {},
   "outputs": [],
   "source": [
    "# data_19_p = mytools.gisn.add_points(data_19,'lon','lat')"
   ]
  },
  {
   "cell_type": "code",
   "execution_count": 27,
   "metadata": {},
   "outputs": [],
   "source": [
    "res18 = gpd.sjoin(data_zhanzhi_buff,data_18_p)"
   ]
  },
  {
   "cell_type": "code",
   "execution_count": 28,
   "metadata": {},
   "outputs": [],
   "source": [
    "res19 = gpd.sjoin(data_zhanzhi_buff,data_19_p)"
   ]
  },
  {
   "cell_type": "code",
   "execution_count": 29,
   "metadata": {},
   "outputs": [
    {
     "data": {
      "text/plain": [
       "Index(['规划站号', '是否通过告警检测（单站验证、单站审核、工艺验收、后评估、环节九、十、十一、十二、已归档）', '资管平台开通情况',\n",
       "       '工单编号', '结束时间', 'lon_left', 'lat_left', '结束时间.1', '制式', '区域类型',\n",
       "       'distance', 'geometry', 'index_right', 'cgi', 'rsrp_count', 'rsrp_weak',\n",
       "       'lon_right', 'lat_right'],\n",
       "      dtype='object')"
      ]
     },
     "execution_count": 29,
     "metadata": {},
     "output_type": "execute_result"
    }
   ],
   "source": [
    "res18.columns"
   ]
  },
  {
   "cell_type": "code",
   "execution_count": 30,
   "metadata": {},
   "outputs": [],
   "source": [
    "res18[['cgi']].drop_duplicates('cgi').to_clipboard()"
   ]
  },
  {
   "cell_type": "code",
   "execution_count": 31,
   "metadata": {},
   "outputs": [
    {
     "data": {
      "text/plain": [
       "Index(['规划站号', '是否通过告警检测（单站验证、单站审核、工艺验收、后评估、环节九、十、十一、十二、已归档）', '资管平台开通情况',\n",
       "       '工单编号', '结束时间', 'lon_left', 'lat_left', '结束时间.1', '制式', '区域类型',\n",
       "       'distance', 'geometry', 'index_right', 'cgi', '总点', '弱点', 'lon_right',\n",
       "       'lat_right'],\n",
       "      dtype='object')"
      ]
     },
     "execution_count": 31,
     "metadata": {},
     "output_type": "execute_result"
    }
   ],
   "source": [
    "res19.columns"
   ]
  },
  {
   "cell_type": "code",
   "execution_count": 32,
   "metadata": {},
   "outputs": [],
   "source": [
    "res19[['cgi']].drop_duplicates('cgi').to_clipboard()"
   ]
  }
 ],
 "metadata": {
  "kernelspec": {
   "display_name": "Python 3",
   "language": "python",
   "name": "python3"
  },
  "language_info": {
   "codemirror_mode": {
    "name": "ipython",
    "version": 3
   },
   "file_extension": ".py",
   "mimetype": "text/x-python",
   "name": "python",
   "nbconvert_exporter": "python",
   "pygments_lexer": "ipython3",
   "version": "3.7.3"
  }
 },
 "nbformat": 4,
 "nbformat_minor": 2
}
