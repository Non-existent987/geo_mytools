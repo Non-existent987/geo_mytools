{
 "cells": [
  {
   "cell_type": "code",
   "execution_count": null,
   "metadata": {},
   "outputs": [],
   "source": [
    "import pandas as pd\n",
    "import geopandas as gpd\n",
    "import mytools\n",
    "import numpy as np"
   ]
  },
  {
   "cell_type": "code",
   "execution_count": null,
   "metadata": {},
   "outputs": [],
   "source": [
    "data_4 = pd.read_excel('C:/Users/Administrator/Desktop/工参/工参/LTE小区.xlsx')"
   ]
  },
  {
   "cell_type": "code",
   "execution_count": null,
   "metadata": {},
   "outputs": [],
   "source": [
    "data_5 = pd.read_excel('C:/Users/Administrator/Desktop/工参/工参/NR小区.xlsx')"
   ]
  },
  {
   "cell_type": "code",
   "execution_count": null,
   "metadata": {},
   "outputs": [],
   "source": [
    "data_4_buffer = mytools.gisn.add_buffer(data_4,'经度','纬度',50)"
   ]
  },
  {
   "cell_type": "code",
   "execution_count": null,
   "metadata": {},
   "outputs": [],
   "source": [
    "data_5_p = mytools.gisn.add_points(data_5,'经度','纬度')"
   ]
  },
  {
   "cell_type": "code",
   "execution_count": null,
   "metadata": {},
   "outputs": [],
   "source": [
    "res = gpd.sjoin(data_4_buffer,data_5_p)"
   ]
  },
  {
   "cell_type": "code",
   "execution_count": null,
   "metadata": {
    "scrolled": false
   },
   "outputs": [],
   "source": [
    "data_res = pd.DataFrame()\n",
    "for name , data_t in res.groupby('CGI_left'):\n",
    "    data_t['方位角差异'] = np.abs(data_t['方位角_left']- data_t['方位角_right'])\n",
    "    data_t['方位角差异2'] = 360-np.abs(data_t['方位角_left']- data_t['方位角_right'])\n",
    "    df = data_t.loc[(data_t['方位角差异']<=55)|(data_t['方位角差异2']<=15)]\n",
    "    df_use = pd.DataFrame(df.groupby(by = 'CGI_left').apply(lambda g:g['CGI_right'].str.cat(sep='/'))).reset_index()\n",
    "    if df.shape[0] ==0:\n",
    "        df_use = df_use.append([{'CGI_left':name,'w':np.nan}], ignore_index=True)\n",
    "    else:\n",
    "        pass\n",
    "    df_use.columns=['4Gcgi','共覆盖cgi']\n",
    "    data_res = data_res.append(df_use)"
   ]
  },
  {
   "cell_type": "code",
   "execution_count": null,
   "metadata": {},
   "outputs": [],
   "source": [
    "data_4_rew = data_4.merge(data_res,how='left',left_on='CGI',right_on='4Gcgi')"
   ]
  }
 ],
 "metadata": {
  "kernelspec": {
   "display_name": "Python 3",
   "language": "python",
   "name": "python3"
  },
  "language_info": {
   "codemirror_mode": {
    "name": "ipython",
    "version": 3
   },
   "file_extension": ".py",
   "mimetype": "text/x-python",
   "name": "python",
   "nbconvert_exporter": "python",
   "pygments_lexer": "ipython3",
   "version": "3.7.4"
  }
 },
 "nbformat": 4,
 "nbformat_minor": 2
}
