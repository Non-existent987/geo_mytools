{
 "cells": [
  {
   "cell_type": "code",
   "execution_count": 7,
   "metadata": {},
   "outputs": [],
   "source": [
    "import mytools\n",
    "import pandas as pd"
   ]
  },
  {
   "cell_type": "markdown",
   "metadata": {},
   "source": [
    "# 模块1导入软采数据"
   ]
  },
  {
   "cell_type": "code",
   "execution_count": 35,
   "metadata": {},
   "outputs": [],
   "source": [
    "file_name = 'G:/1-规划/MRO/1、原始数据/摸底测试相关/2020年/5月/软采/1原始数据/5月软采按照采样点倒序去重.csv'"
   ]
  },
  {
   "cell_type": "code",
   "execution_count": 36,
   "metadata": {},
   "outputs": [],
   "source": [
    "ruancai_cel = pd.read_csv(open(file_name,encoding='gbk'))"
   ]
  },
  {
   "cell_type": "code",
   "execution_count": 37,
   "metadata": {},
   "outputs": [
    {
     "data": {
      "text/html": [
       "<div>\n",
       "<style scoped>\n",
       "    .dataframe tbody tr th:only-of-type {\n",
       "        vertical-align: middle;\n",
       "    }\n",
       "\n",
       "    .dataframe tbody tr th {\n",
       "        vertical-align: top;\n",
       "    }\n",
       "\n",
       "    .dataframe thead th {\n",
       "        text-align: right;\n",
       "    }\n",
       "</style>\n",
       "<table border=\"1\" class=\"dataframe\">\n",
       "  <thead>\n",
       "    <tr style=\"text-align: right;\">\n",
       "      <th></th>\n",
       "      <th>day</th>\n",
       "      <th>region_name</th>\n",
       "      <th>eutrancell_cgi</th>\n",
       "      <th>eutrancell_name</th>\n",
       "      <th>rsrp_sample_count</th>\n",
       "      <th>rsrp_weak</th>\n",
       "      <th>rsrp_sum</th>\n",
       "      <th>inter_maxrsrp_weak</th>\n",
       "      <th>un_maxrsrp_sum</th>\n",
       "      <th>un_maxrsrp_sample_count</th>\n",
       "      <th>un_maxrsrp_weak</th>\n",
       "      <th>te_maxrsrp_weak</th>\n",
       "      <th>te_maxrsrp_sample_count</th>\n",
       "      <th>te_maxrsrp_sum</th>\n",
       "      <th>te_maxrsrp_weak_l2</th>\n",
       "      <th>un_maxrsrp_weak_l2</th>\n",
       "    </tr>\n",
       "  </thead>\n",
       "  <tbody>\n",
       "    <tr>\n",
       "      <td>0</td>\n",
       "      <td>20200515</td>\n",
       "      <td>武汉</td>\n",
       "      <td>460-00-437996-2</td>\n",
       "      <td>南郊路杨林村美化塔-ZLH-2</td>\n",
       "      <td>4315585</td>\n",
       "      <td>133282</td>\n",
       "      <td>-413872129.0</td>\n",
       "      <td>0</td>\n",
       "      <td>NaN</td>\n",
       "      <td>0</td>\n",
       "      <td>0</td>\n",
       "      <td>0</td>\n",
       "      <td>0</td>\n",
       "      <td>NaN</td>\n",
       "      <td>0</td>\n",
       "      <td>0</td>\n",
       "    </tr>\n",
       "  </tbody>\n",
       "</table>\n",
       "</div>"
      ],
      "text/plain": [
       "        day region_name   eutrancell_cgi  eutrancell_name  rsrp_sample_count  \\\n",
       "0  20200515          武汉  460-00-437996-2  南郊路杨林村美化塔-ZLH-2            4315585   \n",
       "\n",
       "   rsrp_weak     rsrp_sum  inter_maxrsrp_weak  un_maxrsrp_sum  \\\n",
       "0     133282 -413872129.0                   0             NaN   \n",
       "\n",
       "   un_maxrsrp_sample_count  un_maxrsrp_weak  te_maxrsrp_weak  \\\n",
       "0                        0                0                0   \n",
       "\n",
       "   te_maxrsrp_sample_count  te_maxrsrp_sum  te_maxrsrp_weak_l2  \\\n",
       "0                        0             NaN                   0   \n",
       "\n",
       "   un_maxrsrp_weak_l2  \n",
       "0                   0  "
      ]
     },
     "execution_count": 37,
     "metadata": {},
     "output_type": "execute_result"
    }
   ],
   "source": [
    "ruancai_cel.head(1)"
   ]
  },
  {
   "cell_type": "code",
   "execution_count": 12,
   "metadata": {},
   "outputs": [],
   "source": [
    "# lie = ['day', 'city', 'eutrancell_cgi', 'eutrancell_name','rsrp_sample_count', \n",
    "#     'rsrp_weak', 'a.un_maxrsrp_sample_count', 'a.un_maxrsrp_weak_l2', 'a.te_maxrsrp_sample_count',\n",
    "#        'a.te_maxrsrp_weak_l2','hd','总问题小区']\n",
    "# ruancai_cel =ruancai_cel.reindex(columns=lie)\n",
    "# day,city,cgi,cell_name,rsrp_count,rsrp_weak,un_count,un_weak,te_count,te_weak ,hd,wt_z= lie\n",
    "# ruancai_cel_use  = ruancai_cel[[day,city,cgi,cell_name,rsrp_count,rsrp_weak,un_count,un_weak,te_count,te_weak,hd,wt_z]]"
   ]
  },
  {
   "cell_type": "markdown",
   "metadata": {},
   "source": [
    "# 匹配基站数据库"
   ]
  },
  {
   "cell_type": "code",
   "execution_count": 38,
   "metadata": {},
   "outputs": [],
   "source": [
    "gongcan = pd.read_csv(open('g:/1-规划/工参/工参数据/ltejizhan20200513.csv',encoding='gbk'),usecols=['小区CGI(*)','所属地区'])"
   ]
  },
  {
   "cell_type": "code",
   "execution_count": 39,
   "metadata": {},
   "outputs": [],
   "source": [
    "gongcan = gongcan.dropna(subset=['小区CGI(*)'])"
   ]
  },
  {
   "cell_type": "code",
   "execution_count": 40,
   "metadata": {},
   "outputs": [],
   "source": [
    "gongcan_cgi,gongcan_city=['小区CGI(*)','所属地区']"
   ]
  },
  {
   "cell_type": "code",
   "execution_count": 41,
   "metadata": {},
   "outputs": [],
   "source": [
    "gongcan_merge = gongcan.merge(ruancai_cel,how='left',left_on=gongcan_cgi,right_on='eutrancell_cgi')"
   ]
  },
  {
   "cell_type": "code",
   "execution_count": 43,
   "metadata": {},
   "outputs": [],
   "source": [
    "gongcan_merge.to_csv('G:/1-规划/MRO/1、原始数据/摸底测试相关/2020年/5月/软采/2匹配基站数据库后/5月软采处理后.csv',encoding='gbk',index=False)"
   ]
  },
  {
   "cell_type": "markdown",
   "metadata": {},
   "source": [
    "# 计算采集率"
   ]
  },
  {
   "cell_type": "code",
   "execution_count": 45,
   "metadata": {},
   "outputs": [],
   "source": [
    "res = gongcan_merge.groupby('所属地区').agg({gongcan_cgi:'count','eutrancell_cgi':'count','rsrp_sample_count':'sum','rsrp_weak':'sum'})"
   ]
  },
  {
   "cell_type": "code",
   "execution_count": 46,
   "metadata": {},
   "outputs": [],
   "source": [
    "res.to_clipboard()"
   ]
  },
  {
   "cell_type": "code",
   "execution_count": null,
   "metadata": {},
   "outputs": [],
   "source": []
  }
 ],
 "metadata": {
  "kernelspec": {
   "display_name": "Python 3",
   "language": "python",
   "name": "python3"
  },
  "language_info": {
   "codemirror_mode": {
    "name": "ipython",
    "version": 3
   },
   "file_extension": ".py",
   "mimetype": "text/x-python",
   "name": "python",
   "nbconvert_exporter": "python",
   "pygments_lexer": "ipython3",
   "version": "3.7.3"
  }
 },
 "nbformat": 4,
 "nbformat_minor": 2
}
