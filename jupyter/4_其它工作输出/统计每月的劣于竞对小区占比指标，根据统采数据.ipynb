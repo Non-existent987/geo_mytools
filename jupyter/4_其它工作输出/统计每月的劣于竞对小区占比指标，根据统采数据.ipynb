{
 "cells": [
  {
   "cell_type": "code",
   "execution_count": 2,
   "metadata": {
    "ExecuteTime": {
     "end_time": "2020-09-08T14:37:43.845750Z",
     "start_time": "2020-09-08T14:37:42.628595Z"
    }
   },
   "outputs": [],
   "source": [
    "import pandas as pd\n",
    "import mytools"
   ]
  },
  {
   "cell_type": "markdown",
   "metadata": {},
   "source": [
    "# 导入统采数据"
   ]
  },
  {
   "cell_type": "code",
   "execution_count": 3,
   "metadata": {
    "ExecuteTime": {
     "end_time": "2020-09-08T14:38:10.595147Z",
     "start_time": "2020-09-08T14:37:43.851751Z"
    }
   },
   "outputs": [],
   "source": [
    "#19年10月\n",
    "data_1910 = pd.read_sql('多天指标汇总-mro-19年10月汇总-本网替换后',con = mytools.othern.con())"
   ]
  },
  {
   "cell_type": "code",
   "execution_count": 4,
   "metadata": {
    "ExecuteTime": {
     "end_time": "2020-09-08T14:38:49.557094Z",
     "start_time": "2020-09-08T14:38:10.598647Z"
    }
   },
   "outputs": [],
   "source": [
    "data_1911 = pd.read_sql('多天指标汇总-mro-19年11月汇总-本网替换后',con = mytools.othern.con())"
   ]
  },
  {
   "cell_type": "code",
   "execution_count": 5,
   "metadata": {
    "ExecuteTime": {
     "end_time": "2020-09-08T14:39:33.260144Z",
     "start_time": "2020-09-08T14:38:49.561595Z"
    }
   },
   "outputs": [],
   "source": [
    "data_1912 = pd.read_sql('多天指标汇总-mro-19年12月汇总-本网替换后',con = mytools.othern.con())"
   ]
  },
  {
   "cell_type": "code",
   "execution_count": 32,
   "metadata": {
    "ExecuteTime": {
     "end_time": "2020-09-08T14:48:22.516851Z",
     "start_time": "2020-09-08T14:47:57.949731Z"
    }
   },
   "outputs": [],
   "source": [
    "f = mytools.othern.file_name_paths('G:/1-规划/MRO/生产分析会材料/','输出data.csv')\n",
    "data_dic = dict()\n",
    "for index , name in enumerate(f):\n",
    "    if str(index+1)+'月' in name:\n",
    "        data_dic[index+1] = pd.read_csv(name,encoding='gbk')"
   ]
  },
  {
   "cell_type": "code",
   "execution_count": 31,
   "metadata": {
    "ExecuteTime": {
     "end_time": "2020-09-08T14:47:06.319175Z",
     "start_time": "2020-09-08T14:47:06.314674Z"
    }
   },
   "outputs": [
    {
     "data": {
      "text/plain": [
       "['G:/1-规划/MRO/生产分析会材料/20年1月生产分析会材料\\\\基础数据\\\\输出data.csv',\n",
       " 'G:/1-规划/MRO/生产分析会材料/20年2月生产分析会材料\\\\基础数据汇总\\\\输出data.csv',\n",
       " 'G:/1-规划/MRO/生产分析会材料/20年3月生产分析会材料\\\\基础数据汇总\\\\输出data.csv',\n",
       " 'G:/1-规划/MRO/生产分析会材料/20年4月生产分析会材料\\\\基础数据汇总\\\\输出data.csv',\n",
       " 'G:/1-规划/MRO/生产分析会材料/20年5月生产分析会材料\\\\基础数据汇总\\\\输出data.csv',\n",
       " 'G:/1-规划/MRO/生产分析会材料/20年6月生产分析会材料\\\\基础数据汇总\\\\输出data.csv',\n",
       " 'G:/1-规划/MRO/生产分析会材料/20年7月生产分析会材料\\\\基础数据汇总\\\\输出data.csv',\n",
       " 'G:/1-规划/MRO/生产分析会材料/20年8月生产分析会材料\\\\基础数据汇总\\\\输出data.csv']"
      ]
     },
     "execution_count": 31,
     "metadata": {},
     "output_type": "execute_result"
    }
   ],
   "source": [
    "f"
   ]
  },
  {
   "cell_type": "code",
   "execution_count": 7,
   "metadata": {
    "ExecuteTime": {
     "end_time": "2020-09-08T14:39:59.196437Z",
     "start_time": "2020-09-08T14:39:59.181935Z"
    }
   },
   "outputs": [
    {
     "data": {
      "text/plain": [
       "dict_keys([1, 2, 3, 4, 5, 6, 7, 8])"
      ]
     },
     "execution_count": 7,
     "metadata": {},
     "output_type": "execute_result"
    }
   ],
   "source": [
    "data_dic.keys()"
   ]
  },
  {
   "cell_type": "code",
   "execution_count": 8,
   "metadata": {
    "ExecuteTime": {
     "end_time": "2020-09-08T14:40:03.222449Z",
     "start_time": "2020-09-08T14:39:59.202438Z"
    }
   },
   "outputs": [],
   "source": [
    "gaoxiao = pd.read_csv('c:/Users/Administrator/desktop/9月7日MRS小区指标/9月7日MRS小区指标.csv',encoding='gbk')"
   ]
  },
  {
   "cell_type": "code",
   "execution_count": 9,
   "metadata": {
    "ExecuteTime": {
     "end_time": "2020-09-08T14:40:03.298958Z",
     "start_time": "2020-09-08T14:40:03.226949Z"
    }
   },
   "outputs": [],
   "source": [
    "gaoxiao_use = gaoxiao.loc[gaoxiao['通报场景']=='高校'][['cgi','通报场景']]"
   ]
  },
  {
   "cell_type": "code",
   "execution_count": 10,
   "metadata": {
    "ExecuteTime": {
     "end_time": "2020-09-08T14:40:03.320461Z",
     "start_time": "2020-09-08T14:40:03.305959Z"
    }
   },
   "outputs": [
    {
     "data": {
      "text/plain": [
       "Index(['cgi', 'rq', '小区中文名', 'city', 'vander', 'gsqx', 'atu', 'hd_chun',\n",
       "       'hd_chte', 'ok_chun', 'ok_chte', 'fgl_cmcc', 'fgl_chun', 'fgl_chte',\n",
       "       'rsrp_count', 'rsrp_weak', 'un_maxrsrp_count', 'un_maxrsrp_weak113',\n",
       "       'te_maxrsrp_count', 'te_maxrsrp_weak113', 'un_maxrsrp_weak110',\n",
       "       'te_maxrsrp_weak110', '工程参数标识', '覆盖类型', '覆盖类别', '覆盖场景', '网络制式(TDD/FDD)',\n",
       "       '工作频段', '天线频段', 'enbid', 'eci', '覆盖类别2', '通报场景', 'rsrp_avg',\n",
       "       'rsrp_avg_chun', 'rsrp_avg_chte'],\n",
       "      dtype='object')"
      ]
     },
     "execution_count": 10,
     "metadata": {},
     "output_type": "execute_result"
    }
   ],
   "source": [
    "data_1910.columns"
   ]
  },
  {
   "cell_type": "code",
   "execution_count": 11,
   "metadata": {
    "ExecuteTime": {
     "end_time": "2020-09-08T14:40:04.984672Z",
     "start_time": "2020-09-08T14:40:03.329462Z"
    }
   },
   "outputs": [],
   "source": [
    "data_1910_use = data_1910.merge(gaoxiao_use , how='left',on='cgi')"
   ]
  },
  {
   "cell_type": "code",
   "execution_count": 12,
   "metadata": {
    "ExecuteTime": {
     "end_time": "2020-09-08T14:40:06.552871Z",
     "start_time": "2020-09-08T14:40:04.987673Z"
    }
   },
   "outputs": [],
   "source": [
    "data_1911_use = data_1911.merge(gaoxiao_use , how='left',on='cgi')"
   ]
  },
  {
   "cell_type": "code",
   "execution_count": 13,
   "metadata": {
    "ExecuteTime": {
     "end_time": "2020-09-08T14:40:08.290092Z",
     "start_time": "2020-09-08T14:40:06.556372Z"
    }
   },
   "outputs": [],
   "source": [
    "data_1912_use = data_1912.merge(gaoxiao_use , how='left',on='cgi')"
   ]
  },
  {
   "cell_type": "code",
   "execution_count": 33,
   "metadata": {
    "ExecuteTime": {
     "end_time": "2020-09-08T14:48:52.182118Z",
     "start_time": "2020-09-08T14:48:44.830684Z"
    }
   },
   "outputs": [
    {
     "name": "stdout",
     "output_type": "stream",
     "text": [
      "1\n",
      "2\n",
      "3\n",
      "4\n",
      "5\n",
      "6\n",
      "7\n",
      "8\n"
     ]
    }
   ],
   "source": [
    "for key,data_t in data_dic.items():\n",
    "    print(key)\n",
    "    data_dic[key] = data_t.merge(gaoxiao_use , how='left',left_on='小区CGI(*)',right_on='cgi')"
   ]
  },
  {
   "cell_type": "code",
   "execution_count": 15,
   "metadata": {
    "ExecuteTime": {
     "end_time": "2020-09-08T14:40:16.489133Z",
     "start_time": "2020-09-08T14:40:16.482632Z"
    }
   },
   "outputs": [
    {
     "data": {
      "text/plain": [
       "Index(['cgi', 'rq', '小区中文名', 'city', 'vander', 'gsqx', 'atu', 'hd_chun',\n",
       "       'hd_chte', 'ok_chun', 'ok_chte', 'fgl_cmcc', 'fgl_chun', 'fgl_chte',\n",
       "       'rsrp_count', 'rsrp_weak', 'un_maxrsrp_count', 'un_maxrsrp_weak113',\n",
       "       'te_maxrsrp_count', 'te_maxrsrp_weak113', 'un_maxrsrp_weak110',\n",
       "       'te_maxrsrp_weak110', '工程参数标识', '覆盖类型', '覆盖类别', '覆盖场景', '网络制式(TDD/FDD)',\n",
       "       '工作频段', '天线频段', 'enbid', 'eci', '覆盖类别2', '通报场景_x', 'rsrp_avg',\n",
       "       'rsrp_avg_chun', 'rsrp_avg_chte', '通报场景_y'],\n",
       "      dtype='object')"
      ]
     },
     "execution_count": 15,
     "metadata": {},
     "output_type": "execute_result"
    }
   ],
   "source": [
    "data_1910_use.columns"
   ]
  },
  {
   "cell_type": "code",
   "execution_count": 16,
   "metadata": {
    "ExecuteTime": {
     "end_time": "2020-09-08T14:40:17.093210Z",
     "start_time": "2020-09-08T14:40:16.496134Z"
    }
   },
   "outputs": [],
   "source": [
    "data_1910_gaoxiao = data_1910_use.loc[data_1910_use['通报场景_y']=='高校']"
   ]
  },
  {
   "cell_type": "code",
   "execution_count": 17,
   "metadata": {
    "ExecuteTime": {
     "end_time": "2020-09-08T14:40:17.810801Z",
     "start_time": "2020-09-08T14:40:17.096710Z"
    }
   },
   "outputs": [],
   "source": [
    "data_1911_gaoxiao = data_1911_use.loc[data_1911_use['通报场景_y']=='高校']"
   ]
  },
  {
   "cell_type": "code",
   "execution_count": 18,
   "metadata": {
    "ExecuteTime": {
     "end_time": "2020-09-08T14:40:18.553895Z",
     "start_time": "2020-09-08T14:40:17.813801Z"
    }
   },
   "outputs": [],
   "source": [
    "data_1912_gaoxiao = data_1912_use.loc[data_1912_use['通报场景_y']=='高校']"
   ]
  },
  {
   "cell_type": "code",
   "execution_count": 19,
   "metadata": {
    "ExecuteTime": {
     "end_time": "2020-09-08T14:40:18.604402Z",
     "start_time": "2020-09-08T14:40:18.556896Z"
    }
   },
   "outputs": [],
   "source": [
    "data_1910_un = data_1910_gaoxiao[(data_1910_gaoxiao['hd_chun']=='t')&(data_1910_gaoxiao['ok_chun']=='t')\n",
    "                 ].shape[0] / data_1910_gaoxiao[(data_1910_gaoxiao['ok_chun']=='t')].shape[0]\n",
    "data_1910_te = data_1910_gaoxiao[(data_1910_gaoxiao['hd_chte']=='t')&(data_1910_gaoxiao['ok_chte']=='t')\n",
    "                 ].shape[0] / data_1910_gaoxiao[(data_1910_gaoxiao['ok_chte']=='t')].shape[0]"
   ]
  },
  {
   "cell_type": "code",
   "execution_count": 20,
   "metadata": {
    "ExecuteTime": {
     "end_time": "2020-09-08T14:40:18.662409Z",
     "start_time": "2020-09-08T14:40:18.608902Z"
    }
   },
   "outputs": [],
   "source": [
    "data_1911_un = data_1911_gaoxiao[(data_1911_gaoxiao['hd_chun']=='t')&(data_1911_gaoxiao['ok_chun']=='t')\n",
    "                 ].shape[0] / data_1911_gaoxiao[(data_1911_gaoxiao['ok_chun']=='t')].shape[0]\n",
    "data_1911_te = data_1911_gaoxiao[(data_1911_gaoxiao['hd_chte']=='t')&(data_1911_gaoxiao['ok_chte']=='t')\n",
    "                 ].shape[0] / data_1911_gaoxiao[(data_1911_gaoxiao['ok_chte']=='t')].shape[0]"
   ]
  },
  {
   "cell_type": "code",
   "execution_count": 21,
   "metadata": {
    "ExecuteTime": {
     "end_time": "2020-09-08T14:40:18.727417Z",
     "start_time": "2020-09-08T14:40:18.664910Z"
    }
   },
   "outputs": [],
   "source": [
    "data_1912_un = data_1912_gaoxiao[(data_1912_gaoxiao['hd_chun']=='t')&(data_1912_gaoxiao['ok_chun']=='t')\n",
    "                 ].shape[0] / data_1912_gaoxiao[(data_1912_gaoxiao['ok_chun']=='t')].shape[0]\n",
    "data_1912_te = data_1912_gaoxiao[(data_1912_gaoxiao['hd_chte']=='t')&(data_1912_gaoxiao['ok_chte']=='t')\n",
    "                 ].shape[0] / data_1912_gaoxiao[(data_1912_gaoxiao['ok_chte']=='t')].shape[0]"
   ]
  },
  {
   "cell_type": "code",
   "execution_count": 34,
   "metadata": {
    "ExecuteTime": {
     "end_time": "2020-09-08T14:50:39.012684Z",
     "start_time": "2020-09-08T14:50:34.053554Z"
    }
   },
   "outputs": [],
   "source": [
    "for num in range(1,9):\n",
    "    data_t = data_dic[num]\n",
    "    data_t.loc[data_t['rsrp_count_chun']>=1000,'ok_un'] = 1\n",
    "    data_t.loc[data_t['rsrp_count_chte']>=1000,'ok_te'] = 1\n",
    "    un = data_t[(data_t['un_hd']==1)&(data_t['ok_un']==1)].shape[0] / data_t[(data_t['ok_un']==1)].shape[0]\n",
    "    te = data_t[(data_t['te_hd']==1)&(data_t['ok_te']==1)].shape[0] / data_t[(data_t['ok_te']==1)].shape[0]\n",
    "    data_dic[num] = [un,te]"
   ]
  },
  {
   "cell_type": "code",
   "execution_count": 25,
   "metadata": {
    "ExecuteTime": {
     "end_time": "2020-09-08T14:42:37.798077Z",
     "start_time": "2020-09-08T14:42:37.792576Z"
    }
   },
   "outputs": [
    {
     "data": {
      "text/plain": [
       "(0.0014940983116689078, 0.0021279425455512702)"
      ]
     },
     "execution_count": 25,
     "metadata": {},
     "output_type": "execute_result"
    }
   ],
   "source": [
    "data_1910_un,data_1910_te"
   ]
  },
  {
   "cell_type": "code",
   "execution_count": 26,
   "metadata": {
    "ExecuteTime": {
     "end_time": "2020-09-08T14:42:53.762104Z",
     "start_time": "2020-09-08T14:42:53.755103Z"
    }
   },
   "outputs": [
    {
     "data": {
      "text/plain": [
       "(0.002329192546583851, 0.0016346546791990192)"
      ]
     },
     "execution_count": 26,
     "metadata": {},
     "output_type": "execute_result"
    }
   ],
   "source": [
    "data_1911_un,data_1911_te"
   ]
  },
  {
   "cell_type": "code",
   "execution_count": 27,
   "metadata": {
    "ExecuteTime": {
     "end_time": "2020-09-08T14:43:09.057047Z",
     "start_time": "2020-09-08T14:43:09.045545Z"
    }
   },
   "outputs": [
    {
     "data": {
      "text/plain": [
       "(0.0009104704097116844, 0.0025892760815621964)"
      ]
     },
     "execution_count": 27,
     "metadata": {},
     "output_type": "execute_result"
    }
   ],
   "source": [
    "data_1912_un,data_1912_te"
   ]
  },
  {
   "cell_type": "code",
   "execution_count": 35,
   "metadata": {
    "ExecuteTime": {
     "end_time": "2020-09-08T14:52:44.929673Z",
     "start_time": "2020-09-08T14:52:44.925173Z"
    }
   },
   "outputs": [
    {
     "name": "stdout",
     "output_type": "stream",
     "text": [
      "[0.003105161775369572, 0.009862022624045754]\n",
      "[0.0065100882026226225, 0.01842474049515715]\n",
      "[0.0042370613526483865, 0.007844325634753999]\n",
      "[0.0032363385048020782, 0.004937433722163309]\n",
      "[0.0046981725852018735, 0.00939191267265558]\n",
      "[0.003914023854806042, 0.011305048447225713]\n",
      "[0.0034387238513707134, 0.007147606382978723]\n",
      "[0.000971288198195059, 0.0016569405256825782]\n"
     ]
    }
   ],
   "source": [
    "for nu in data_dic.values():\n",
    "    print(nu)"
   ]
  }
 ],
 "metadata": {
  "kernelspec": {
   "display_name": "Python 3",
   "language": "python",
   "name": "python3"
  },
  "language_info": {
   "codemirror_mode": {
    "name": "ipython",
    "version": 3
   },
   "file_extension": ".py",
   "mimetype": "text/x-python",
   "name": "python",
   "nbconvert_exporter": "python",
   "pygments_lexer": "ipython3",
   "version": "3.7.4"
  },
  "toc": {
   "base_numbering": 1,
   "nav_menu": {},
   "number_sections": true,
   "sideBar": true,
   "skip_h1_title": false,
   "title_cell": "Table of Contents",
   "title_sidebar": "Contents",
   "toc_cell": false,
   "toc_position": {},
   "toc_section_display": true,
   "toc_window_display": false
  },
  "varInspector": {
   "cols": {
    "lenName": 16,
    "lenType": 16,
    "lenVar": 40
   },
   "kernels_config": {
    "python": {
     "delete_cmd_postfix": "",
     "delete_cmd_prefix": "del ",
     "library": "var_list.py",
     "varRefreshCmd": "print(var_dic_list())"
    },
    "r": {
     "delete_cmd_postfix": ") ",
     "delete_cmd_prefix": "rm(",
     "library": "var_list.r",
     "varRefreshCmd": "cat(var_dic_list()) "
    }
   },
   "position": {
    "height": "555.724px",
    "left": "1088.53px",
    "right": "20px",
    "top": "107.977px",
    "width": "350px"
   },
   "types_to_exclude": [
    "module",
    "function",
    "builtin_function_or_method",
    "instance",
    "_Feature"
   ],
   "window_display": false
  }
 },
 "nbformat": 4,
 "nbformat_minor": 2
}
