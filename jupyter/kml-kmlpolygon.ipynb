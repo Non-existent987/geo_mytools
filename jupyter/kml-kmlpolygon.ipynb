{
 "cells": [
  {
   "cell_type": "code",
   "execution_count": 79,
   "metadata": {},
   "outputs": [],
   "source": [
    "import simplekml\n",
    "import pandas as pd\n",
    "from shapely.geometry import Polygon\n",
    "from geographiclib.geodesic import Geodesic\n",
    "from shapely.geometry import (LinearRing, LineString, MultiLineString,\n",
    "                              MultiPoint, MultiPolygon, Point, Polygon)"
   ]
  },
  {
   "cell_type": "code",
   "execution_count": 143,
   "metadata": {},
   "outputs": [],
   "source": [
    "data = pd.read_csv(open('kml/全网工参_荆门.csv',encoding = 'gbk'))"
   ]
  },
  {
   "cell_type": "code",
   "execution_count": 213,
   "metadata": {},
   "outputs": [],
   "source": [
    "a = 'RRU经度'"
   ]
  },
  {
   "cell_type": "code",
   "execution_count": 214,
   "metadata": {},
   "outputs": [
    {
     "data": {
      "text/html": [
       "<div>\n",
       "<style scoped>\n",
       "    .dataframe tbody tr th:only-of-type {\n",
       "        vertical-align: middle;\n",
       "    }\n",
       "\n",
       "    .dataframe tbody tr th {\n",
       "        vertical-align: top;\n",
       "    }\n",
       "\n",
       "    .dataframe thead th {\n",
       "        text-align: right;\n",
       "    }\n",
       "</style>\n",
       "<table border=\"1\" class=\"dataframe\">\n",
       "  <thead>\n",
       "    <tr style=\"text-align: right;\">\n",
       "      <th></th>\n",
       "      <th>所属地区</th>\n",
       "      <th>RRU经度</th>\n",
       "      <th>方位角</th>\n",
       "    </tr>\n",
       "  </thead>\n",
       "  <tbody>\n",
       "    <tr>\n",
       "      <th>0</th>\n",
       "      <td>荆门</td>\n",
       "      <td>113.474884</td>\n",
       "      <td>0.0</td>\n",
       "    </tr>\n",
       "    <tr>\n",
       "      <th>1</th>\n",
       "      <td>荆门</td>\n",
       "      <td>113.474884</td>\n",
       "      <td>120.0</td>\n",
       "    </tr>\n",
       "    <tr>\n",
       "      <th>2</th>\n",
       "      <td>荆门</td>\n",
       "      <td>113.474884</td>\n",
       "      <td>239.0</td>\n",
       "    </tr>\n",
       "    <tr>\n",
       "      <th>3</th>\n",
       "      <td>荆门</td>\n",
       "      <td>113.470440</td>\n",
       "      <td>242.0</td>\n",
       "    </tr>\n",
       "    <tr>\n",
       "      <th>4</th>\n",
       "      <td>荆门</td>\n",
       "      <td>113.470430</td>\n",
       "      <td>120.0</td>\n",
       "    </tr>\n",
       "    <tr>\n",
       "      <th>5</th>\n",
       "      <td>荆门</td>\n",
       "      <td>113.470430</td>\n",
       "      <td>358.0</td>\n",
       "    </tr>\n",
       "    <tr>\n",
       "      <th>6</th>\n",
       "      <td>荆门</td>\n",
       "      <td>113.468610</td>\n",
       "      <td>60.0</td>\n",
       "    </tr>\n",
       "    <tr>\n",
       "      <th>7</th>\n",
       "      <td>荆门</td>\n",
       "      <td>113.468610</td>\n",
       "      <td>180.0</td>\n",
       "    </tr>\n",
       "    <tr>\n",
       "      <th>8</th>\n",
       "      <td>荆门</td>\n",
       "      <td>113.468610</td>\n",
       "      <td>270.0</td>\n",
       "    </tr>\n",
       "    <tr>\n",
       "      <th>9</th>\n",
       "      <td>荆门</td>\n",
       "      <td>113.468571</td>\n",
       "      <td>0.0</td>\n",
       "    </tr>\n",
       "    <tr>\n",
       "      <th>10</th>\n",
       "      <td>荆门</td>\n",
       "      <td>113.468571</td>\n",
       "      <td>120.0</td>\n",
       "    </tr>\n",
       "    <tr>\n",
       "      <th>11</th>\n",
       "      <td>荆门</td>\n",
       "      <td>113.468571</td>\n",
       "      <td>240.0</td>\n",
       "    </tr>\n",
       "    <tr>\n",
       "      <th>12</th>\n",
       "      <td>荆门</td>\n",
       "      <td>113.460075</td>\n",
       "      <td>120.0</td>\n",
       "    </tr>\n",
       "    <tr>\n",
       "      <th>13</th>\n",
       "      <td>荆门</td>\n",
       "      <td>113.460070</td>\n",
       "      <td>240.0</td>\n",
       "    </tr>\n",
       "    <tr>\n",
       "      <th>14</th>\n",
       "      <td>荆门</td>\n",
       "      <td>113.460060</td>\n",
       "      <td>359.0</td>\n",
       "    </tr>\n",
       "    <tr>\n",
       "      <th>15</th>\n",
       "      <td>荆门</td>\n",
       "      <td>113.458119</td>\n",
       "      <td>0.0</td>\n",
       "    </tr>\n",
       "    <tr>\n",
       "      <th>16</th>\n",
       "      <td>荆门</td>\n",
       "      <td>113.458119</td>\n",
       "      <td>120.0</td>\n",
       "    </tr>\n",
       "    <tr>\n",
       "      <th>17</th>\n",
       "      <td>荆门</td>\n",
       "      <td>113.458119</td>\n",
       "      <td>240.0</td>\n",
       "    </tr>\n",
       "    <tr>\n",
       "      <th>18</th>\n",
       "      <td>荆门</td>\n",
       "      <td>113.458097</td>\n",
       "      <td>0.0</td>\n",
       "    </tr>\n",
       "    <tr>\n",
       "      <th>19</th>\n",
       "      <td>荆门</td>\n",
       "      <td>113.458097</td>\n",
       "      <td>120.0</td>\n",
       "    </tr>\n",
       "    <tr>\n",
       "      <th>20</th>\n",
       "      <td>荆门</td>\n",
       "      <td>113.458097</td>\n",
       "      <td>240.0</td>\n",
       "    </tr>\n",
       "    <tr>\n",
       "      <th>21</th>\n",
       "      <td>荆门</td>\n",
       "      <td>113.449910</td>\n",
       "      <td>0.8</td>\n",
       "    </tr>\n",
       "    <tr>\n",
       "      <th>22</th>\n",
       "      <td>荆门</td>\n",
       "      <td>113.449910</td>\n",
       "      <td>77.0</td>\n",
       "    </tr>\n",
       "    <tr>\n",
       "      <th>23</th>\n",
       "      <td>荆门</td>\n",
       "      <td>113.449910</td>\n",
       "      <td>260.4</td>\n",
       "    </tr>\n",
       "    <tr>\n",
       "      <th>24</th>\n",
       "      <td>荆门</td>\n",
       "      <td>113.449850</td>\n",
       "      <td>0.0</td>\n",
       "    </tr>\n",
       "    <tr>\n",
       "      <th>25</th>\n",
       "      <td>荆门</td>\n",
       "      <td>113.449850</td>\n",
       "      <td>120.0</td>\n",
       "    </tr>\n",
       "    <tr>\n",
       "      <th>26</th>\n",
       "      <td>荆门</td>\n",
       "      <td>113.449850</td>\n",
       "      <td>240.0</td>\n",
       "    </tr>\n",
       "    <tr>\n",
       "      <th>27</th>\n",
       "      <td>荆门</td>\n",
       "      <td>113.448436</td>\n",
       "      <td>0.0</td>\n",
       "    </tr>\n",
       "    <tr>\n",
       "      <th>28</th>\n",
       "      <td>荆门</td>\n",
       "      <td>113.448436</td>\n",
       "      <td>120.0</td>\n",
       "    </tr>\n",
       "    <tr>\n",
       "      <th>29</th>\n",
       "      <td>荆门</td>\n",
       "      <td>113.448436</td>\n",
       "      <td>240.0</td>\n",
       "    </tr>\n",
       "    <tr>\n",
       "      <th>...</th>\n",
       "      <td>...</td>\n",
       "      <td>...</td>\n",
       "      <td>...</td>\n",
       "    </tr>\n",
       "    <tr>\n",
       "      <th>15663</th>\n",
       "      <td>荆门</td>\n",
       "      <td>111.936660</td>\n",
       "      <td>240.0</td>\n",
       "    </tr>\n",
       "    <tr>\n",
       "      <th>15664</th>\n",
       "      <td>荆门</td>\n",
       "      <td>111.929446</td>\n",
       "      <td>10.0</td>\n",
       "    </tr>\n",
       "    <tr>\n",
       "      <th>15665</th>\n",
       "      <td>荆门</td>\n",
       "      <td>111.929446</td>\n",
       "      <td>150.0</td>\n",
       "    </tr>\n",
       "    <tr>\n",
       "      <th>15666</th>\n",
       "      <td>荆门</td>\n",
       "      <td>111.929446</td>\n",
       "      <td>270.0</td>\n",
       "    </tr>\n",
       "    <tr>\n",
       "      <th>15667</th>\n",
       "      <td>荆门</td>\n",
       "      <td>111.927462</td>\n",
       "      <td>0.0</td>\n",
       "    </tr>\n",
       "    <tr>\n",
       "      <th>15668</th>\n",
       "      <td>荆门</td>\n",
       "      <td>111.927462</td>\n",
       "      <td>120.0</td>\n",
       "    </tr>\n",
       "    <tr>\n",
       "      <th>15669</th>\n",
       "      <td>荆门</td>\n",
       "      <td>111.927462</td>\n",
       "      <td>240.0</td>\n",
       "    </tr>\n",
       "    <tr>\n",
       "      <th>15670</th>\n",
       "      <td>荆门</td>\n",
       "      <td>111.927430</td>\n",
       "      <td>11.0</td>\n",
       "    </tr>\n",
       "    <tr>\n",
       "      <th>15671</th>\n",
       "      <td>荆门</td>\n",
       "      <td>111.927430</td>\n",
       "      <td>161.0</td>\n",
       "    </tr>\n",
       "    <tr>\n",
       "      <th>15672</th>\n",
       "      <td>荆门</td>\n",
       "      <td>111.927430</td>\n",
       "      <td>263.0</td>\n",
       "    </tr>\n",
       "    <tr>\n",
       "      <th>15673</th>\n",
       "      <td>荆门</td>\n",
       "      <td>111.925330</td>\n",
       "      <td>169.0</td>\n",
       "    </tr>\n",
       "    <tr>\n",
       "      <th>15674</th>\n",
       "      <td>荆门</td>\n",
       "      <td>111.925330</td>\n",
       "      <td>261.0</td>\n",
       "    </tr>\n",
       "    <tr>\n",
       "      <th>15675</th>\n",
       "      <td>荆门</td>\n",
       "      <td>111.925323</td>\n",
       "      <td>70.0</td>\n",
       "    </tr>\n",
       "    <tr>\n",
       "      <th>15676</th>\n",
       "      <td>荆门</td>\n",
       "      <td>111.925323</td>\n",
       "      <td>160.0</td>\n",
       "    </tr>\n",
       "    <tr>\n",
       "      <th>15677</th>\n",
       "      <td>荆门</td>\n",
       "      <td>111.925323</td>\n",
       "      <td>270.0</td>\n",
       "    </tr>\n",
       "    <tr>\n",
       "      <th>15678</th>\n",
       "      <td>荆门</td>\n",
       "      <td>111.915070</td>\n",
       "      <td>0.0</td>\n",
       "    </tr>\n",
       "    <tr>\n",
       "      <th>15679</th>\n",
       "      <td>荆门</td>\n",
       "      <td>111.915070</td>\n",
       "      <td>124.0</td>\n",
       "    </tr>\n",
       "    <tr>\n",
       "      <th>15680</th>\n",
       "      <td>荆门</td>\n",
       "      <td>111.915070</td>\n",
       "      <td>238.0</td>\n",
       "    </tr>\n",
       "    <tr>\n",
       "      <th>15681</th>\n",
       "      <td>荆门</td>\n",
       "      <td>111.915010</td>\n",
       "      <td>0.0</td>\n",
       "    </tr>\n",
       "    <tr>\n",
       "      <th>15682</th>\n",
       "      <td>荆门</td>\n",
       "      <td>111.915010</td>\n",
       "      <td>190.0</td>\n",
       "    </tr>\n",
       "    <tr>\n",
       "      <th>15683</th>\n",
       "      <td>荆门</td>\n",
       "      <td>111.915010</td>\n",
       "      <td>270.0</td>\n",
       "    </tr>\n",
       "    <tr>\n",
       "      <th>15684</th>\n",
       "      <td>荆门</td>\n",
       "      <td>111.911804</td>\n",
       "      <td>120.0</td>\n",
       "    </tr>\n",
       "    <tr>\n",
       "      <th>15685</th>\n",
       "      <td>荆门</td>\n",
       "      <td>111.911804</td>\n",
       "      <td>239.0</td>\n",
       "    </tr>\n",
       "    <tr>\n",
       "      <th>15686</th>\n",
       "      <td>荆门</td>\n",
       "      <td>111.911804</td>\n",
       "      <td>359.0</td>\n",
       "    </tr>\n",
       "    <tr>\n",
       "      <th>15687</th>\n",
       "      <td>荆门</td>\n",
       "      <td>111.911750</td>\n",
       "      <td>144.5</td>\n",
       "    </tr>\n",
       "    <tr>\n",
       "      <th>15688</th>\n",
       "      <td>荆门</td>\n",
       "      <td>111.911750</td>\n",
       "      <td>240.0</td>\n",
       "    </tr>\n",
       "    <tr>\n",
       "      <th>15689</th>\n",
       "      <td>荆门</td>\n",
       "      <td>111.911750</td>\n",
       "      <td>356.9</td>\n",
       "    </tr>\n",
       "    <tr>\n",
       "      <th>15690</th>\n",
       "      <td>荆门</td>\n",
       "      <td>111.899380</td>\n",
       "      <td>164.0</td>\n",
       "    </tr>\n",
       "    <tr>\n",
       "      <th>15691</th>\n",
       "      <td>荆门</td>\n",
       "      <td>111.899380</td>\n",
       "      <td>265.0</td>\n",
       "    </tr>\n",
       "    <tr>\n",
       "      <th>15692</th>\n",
       "      <td>荆门</td>\n",
       "      <td>111.899380</td>\n",
       "      <td>343.0</td>\n",
       "    </tr>\n",
       "  </tbody>\n",
       "</table>\n",
       "<p>15693 rows × 3 columns</p>\n",
       "</div>"
      ],
      "text/plain": [
       "      所属地区       RRU经度    方位角\n",
       "0       荆门  113.474884    0.0\n",
       "1       荆门  113.474884  120.0\n",
       "2       荆门  113.474884  239.0\n",
       "3       荆门  113.470440  242.0\n",
       "4       荆门  113.470430  120.0\n",
       "5       荆门  113.470430  358.0\n",
       "6       荆门  113.468610   60.0\n",
       "7       荆门  113.468610  180.0\n",
       "8       荆门  113.468610  270.0\n",
       "9       荆门  113.468571    0.0\n",
       "10      荆门  113.468571  120.0\n",
       "11      荆门  113.468571  240.0\n",
       "12      荆门  113.460075  120.0\n",
       "13      荆门  113.460070  240.0\n",
       "14      荆门  113.460060  359.0\n",
       "15      荆门  113.458119    0.0\n",
       "16      荆门  113.458119  120.0\n",
       "17      荆门  113.458119  240.0\n",
       "18      荆门  113.458097    0.0\n",
       "19      荆门  113.458097  120.0\n",
       "20      荆门  113.458097  240.0\n",
       "21      荆门  113.449910    0.8\n",
       "22      荆门  113.449910   77.0\n",
       "23      荆门  113.449910  260.4\n",
       "24      荆门  113.449850    0.0\n",
       "25      荆门  113.449850  120.0\n",
       "26      荆门  113.449850  240.0\n",
       "27      荆门  113.448436    0.0\n",
       "28      荆门  113.448436  120.0\n",
       "29      荆门  113.448436  240.0\n",
       "...    ...         ...    ...\n",
       "15663   荆门  111.936660  240.0\n",
       "15664   荆门  111.929446   10.0\n",
       "15665   荆门  111.929446  150.0\n",
       "15666   荆门  111.929446  270.0\n",
       "15667   荆门  111.927462    0.0\n",
       "15668   荆门  111.927462  120.0\n",
       "15669   荆门  111.927462  240.0\n",
       "15670   荆门  111.927430   11.0\n",
       "15671   荆门  111.927430  161.0\n",
       "15672   荆门  111.927430  263.0\n",
       "15673   荆门  111.925330  169.0\n",
       "15674   荆门  111.925330  261.0\n",
       "15675   荆门  111.925323   70.0\n",
       "15676   荆门  111.925323  160.0\n",
       "15677   荆门  111.925323  270.0\n",
       "15678   荆门  111.915070    0.0\n",
       "15679   荆门  111.915070  124.0\n",
       "15680   荆门  111.915070  238.0\n",
       "15681   荆门  111.915010    0.0\n",
       "15682   荆门  111.915010  190.0\n",
       "15683   荆门  111.915010  270.0\n",
       "15684   荆门  111.911804  120.0\n",
       "15685   荆门  111.911804  239.0\n",
       "15686   荆门  111.911804  359.0\n",
       "15687   荆门  111.911750  144.5\n",
       "15688   荆门  111.911750  240.0\n",
       "15689   荆门  111.911750  356.9\n",
       "15690   荆门  111.899380  164.0\n",
       "15691   荆门  111.899380  265.0\n",
       "15692   荆门  111.899380  343.0\n",
       "\n",
       "[15693 rows x 3 columns]"
      ]
     },
     "execution_count": 214,
     "metadata": {},
     "output_type": "execute_result"
    }
   ],
   "source": [
    "data.filter(regex=\"[^小区中文名,^a,^RRU纬度]\")"
   ]
  },
  {
   "cell_type": "code",
   "execution_count": 211,
   "metadata": {},
   "outputs": [
    {
     "data": {
      "text/plain": [
       "Index(['小区中文名', '所属地区', 'RRU经度', 'RRU纬度', '方位角'], dtype='object')"
      ]
     },
     "execution_count": 211,
     "metadata": {},
     "output_type": "execute_result"
    }
   ],
   "source": [
    "data.columns"
   ]
  },
  {
   "cell_type": "code",
   "execution_count": 192,
   "metadata": {},
   "outputs": [],
   "source": [
    "data1 = data.iloc[:2,:2]"
   ]
  },
  {
   "cell_type": "code",
   "execution_count": 196,
   "metadata": {},
   "outputs": [],
   "source": [
    "aaa = list(data1.columns)"
   ]
  },
  {
   "cell_type": "code",
   "execution_count": 172,
   "metadata": {},
   "outputs": [
    {
     "data": {
      "text/plain": [
       "[(0    G_京山罗店小寨子村-ZFH-1\n",
       "  1    G_京山罗店小寨子村-ZFH-2\n",
       "  Name: 小区中文名, dtype: object,), (0    荆门\n",
       "  1    荆门\n",
       "  Name: 所属地区, dtype: object,)]"
      ]
     },
     "execution_count": 172,
     "metadata": {},
     "output_type": "execute_result"
    }
   ],
   "source": [
    "[x for x in zip(data1[y] for y in aaa )]"
   ]
  },
  {
   "cell_type": "code",
   "execution_count": 193,
   "metadata": {
    "scrolled": true
   },
   "outputs": [],
   "source": [
    "data1['ColumnA1'] = data1.apply(lambda x: ','.join(x.astype(str)),axis=1)"
   ]
  },
  {
   "cell_type": "code",
   "execution_count": 199,
   "metadata": {},
   "outputs": [],
   "source": [
    "b=data1['ColumnA1'][0]"
   ]
  },
  {
   "cell_type": "code",
   "execution_count": 210,
   "metadata": {},
   "outputs": [
    {
     "name": "stdout",
     "output_type": "stream",
     "text": [
      "小区中文名 - G_京山罗店小寨子村-ZFH-1\n",
      "所属地区 - 荆门\n"
     ]
    }
   ],
   "source": [
    "i = 0\n",
    "for x in b.split(','):\n",
    "    print(aaa[i],'-',x)\n",
    "    i=i+1"
   ]
  },
  {
   "cell_type": "code",
   "execution_count": 206,
   "metadata": {},
   "outputs": [
    {
     "data": {
      "text/plain": [
       "['小区中文名', '所属地区', 'ColumnA1']"
      ]
     },
     "execution_count": 206,
     "metadata": {},
     "output_type": "execute_result"
    }
   ],
   "source": [
    "aaa"
   ]
  },
  {
   "cell_type": "code",
   "execution_count": 207,
   "metadata": {},
   "outputs": [
    {
     "data": {
      "text/plain": [
       "'G_京山罗店小寨子村-ZFH-1,荆门'"
      ]
     },
     "execution_count": 207,
     "metadata": {},
     "output_type": "execute_result"
    }
   ],
   "source": [
    "b"
   ]
  },
  {
   "cell_type": "code",
   "execution_count": 208,
   "metadata": {},
   "outputs": [
    {
     "data": {
      "text/plain": [
       "['G_京山罗店小寨子村-ZFH-1', '荆门']"
      ]
     },
     "execution_count": 208,
     "metadata": {},
     "output_type": "execute_result"
    }
   ],
   "source": [
    "b.split(',')"
   ]
  },
  {
   "cell_type": "code",
   "execution_count": 195,
   "metadata": {},
   "outputs": [
    {
     "data": {
      "text/html": [
       "<div>\n",
       "<style scoped>\n",
       "    .dataframe tbody tr th:only-of-type {\n",
       "        vertical-align: middle;\n",
       "    }\n",
       "\n",
       "    .dataframe tbody tr th {\n",
       "        vertical-align: top;\n",
       "    }\n",
       "\n",
       "    .dataframe thead th {\n",
       "        text-align: right;\n",
       "    }\n",
       "</style>\n",
       "<table border=\"1\" class=\"dataframe\">\n",
       "  <thead>\n",
       "    <tr style=\"text-align: right;\">\n",
       "      <th></th>\n",
       "      <th>小区中文名</th>\n",
       "      <th>所属地区</th>\n",
       "      <th>ColumnA1</th>\n",
       "    </tr>\n",
       "  </thead>\n",
       "  <tbody>\n",
       "    <tr>\n",
       "      <th>0</th>\n",
       "      <td>G_京山罗店小寨子村-ZFH-1</td>\n",
       "      <td>荆门</td>\n",
       "      <td>G_京山罗店小寨子村-ZFH-1,荆门</td>\n",
       "    </tr>\n",
       "    <tr>\n",
       "      <th>1</th>\n",
       "      <td>G_京山罗店小寨子村-ZFH-2</td>\n",
       "      <td>荆门</td>\n",
       "      <td>G_京山罗店小寨子村-ZFH-2,荆门</td>\n",
       "    </tr>\n",
       "  </tbody>\n",
       "</table>\n",
       "</div>"
      ],
      "text/plain": [
       "              小区中文名 所属地区             ColumnA1\n",
       "0  G_京山罗店小寨子村-ZFH-1   荆门  G_京山罗店小寨子村-ZFH-1,荆门\n",
       "1  G_京山罗店小寨子村-ZFH-2   荆门  G_京山罗店小寨子村-ZFH-2,荆门"
      ]
     },
     "execution_count": 195,
     "metadata": {},
     "output_type": "execute_result"
    }
   ],
   "source": [
    "data1"
   ]
  },
  {
   "cell_type": "code",
   "execution_count": 182,
   "metadata": {},
   "outputs": [
    {
     "data": {
      "text/html": [
       "<div>\n",
       "<style scoped>\n",
       "    .dataframe tbody tr th:only-of-type {\n",
       "        vertical-align: middle;\n",
       "    }\n",
       "\n",
       "    .dataframe tbody tr th {\n",
       "        vertical-align: top;\n",
       "    }\n",
       "\n",
       "    .dataframe thead th {\n",
       "        text-align: right;\n",
       "    }\n",
       "</style>\n",
       "<table border=\"1\" class=\"dataframe\">\n",
       "  <thead>\n",
       "    <tr style=\"text-align: right;\">\n",
       "      <th></th>\n",
       "      <th>小区中文名</th>\n",
       "      <th>所属地区</th>\n",
       "      <th>ColumnA1</th>\n",
       "    </tr>\n",
       "  </thead>\n",
       "  <tbody>\n",
       "    <tr>\n",
       "      <th>0</th>\n",
       "      <td>G_京山罗店小寨子村-ZFH-1</td>\n",
       "      <td>荆门</td>\n",
       "      <td>G_京山罗店小寨子村-ZFH-1,荆门</td>\n",
       "    </tr>\n",
       "    <tr>\n",
       "      <th>1</th>\n",
       "      <td>G_京山罗店小寨子村-ZFH-2</td>\n",
       "      <td>荆门</td>\n",
       "      <td>G_京山罗店小寨子村-ZFH-2,荆门</td>\n",
       "    </tr>\n",
       "  </tbody>\n",
       "</table>\n",
       "</div>"
      ],
      "text/plain": [
       "              小区中文名 所属地区             ColumnA1\n",
       "0  G_京山罗店小寨子村-ZFH-1   荆门  G_京山罗店小寨子村-ZFH-1,荆门\n",
       "1  G_京山罗店小寨子村-ZFH-2   荆门  G_京山罗店小寨子村-ZFH-2,荆门"
      ]
     },
     "execution_count": 182,
     "metadata": {},
     "output_type": "execute_result"
    }
   ],
   "source": [
    "data1"
   ]
  },
  {
   "cell_type": "code",
   "execution_count": null,
   "metadata": {},
   "outputs": [],
   "source": []
  },
  {
   "cell_type": "code",
   "execution_count": null,
   "metadata": {},
   "outputs": [],
   "source": []
  },
  {
   "cell_type": "code",
   "execution_count": 86,
   "metadata": {},
   "outputs": [],
   "source": [
    "data1.loc[:,'RRU纬度']=pd.to_numeric(data1['RRU纬度'])"
   ]
  },
  {
   "cell_type": "code",
   "execution_count": 121,
   "metadata": {},
   "outputs": [],
   "source": [
    "a = list(data1.columns)"
   ]
  },
  {
   "cell_type": "code",
   "execution_count": 106,
   "metadata": {},
   "outputs": [],
   "source": [
    "a.append(0)"
   ]
  },
  {
   "cell_type": "code",
   "execution_count": 134,
   "metadata": {},
   "outputs": [
    {
     "data": {
      "text/plain": [
       "<generator object <genexpr> at 0x000000000AB63480>"
      ]
     },
     "execution_count": 134,
     "metadata": {},
     "output_type": "execute_result"
    }
   ],
   "source": [
    "(data1[x] for x in a)"
   ]
  },
  {
   "cell_type": "code",
   "execution_count": 136,
   "metadata": {
    "collapsed": true
   },
   "outputs": [
    {
     "ename": "ValueError",
     "evalue": "Length of values does not match length of index",
     "output_type": "error",
     "traceback": [
      "\u001b[1;31m---------------------------------------------------------------------------\u001b[0m",
      "\u001b[1;31mValueError\u001b[0m                                Traceback (most recent call last)",
      "\u001b[1;32m<ipython-input-136-fc11c0460462>\u001b[0m in \u001b[0;36m<module>\u001b[1;34m()\u001b[0m\n\u001b[1;32m----> 1\u001b[1;33m \u001b[0mdata1\u001b[0m\u001b[1;33m[\u001b[0m\u001b[1;34m'sss'\u001b[0m\u001b[1;33m]\u001b[0m\u001b[1;33m=\u001b[0m\u001b[1;33m[\u001b[0m\u001b[0mstr\u001b[0m\u001b[1;33m(\u001b[0m\u001b[0my\u001b[0m\u001b[1;33m)\u001b[0m \u001b[1;32mfor\u001b[0m \u001b[0my\u001b[0m \u001b[1;32min\u001b[0m \u001b[0mzip\u001b[0m\u001b[1;33m(\u001b[0m\u001b[1;33m[\u001b[0m\u001b[0mdata1\u001b[0m\u001b[1;33m[\u001b[0m\u001b[0mx\u001b[0m\u001b[1;33m]\u001b[0m \u001b[1;32mfor\u001b[0m \u001b[0mx\u001b[0m \u001b[1;32min\u001b[0m \u001b[0ma\u001b[0m\u001b[1;33m]\u001b[0m\u001b[1;33m)\u001b[0m\u001b[1;33m]\u001b[0m\u001b[1;33m\u001b[0m\u001b[1;33m\u001b[0m\u001b[0m\n\u001b[0m",
      "\u001b[1;32mC:\\ProgramData\\Anaconda3\\lib\\site-packages\\pandas\\core\\frame.py\u001b[0m in \u001b[0;36m__setitem__\u001b[1;34m(self, key, value)\u001b[0m\n\u001b[0;32m   3117\u001b[0m         \u001b[1;32melse\u001b[0m\u001b[1;33m:\u001b[0m\u001b[1;33m\u001b[0m\u001b[1;33m\u001b[0m\u001b[0m\n\u001b[0;32m   3118\u001b[0m             \u001b[1;31m# set column\u001b[0m\u001b[1;33m\u001b[0m\u001b[1;33m\u001b[0m\u001b[1;33m\u001b[0m\u001b[0m\n\u001b[1;32m-> 3119\u001b[1;33m             \u001b[0mself\u001b[0m\u001b[1;33m.\u001b[0m\u001b[0m_set_item\u001b[0m\u001b[1;33m(\u001b[0m\u001b[0mkey\u001b[0m\u001b[1;33m,\u001b[0m \u001b[0mvalue\u001b[0m\u001b[1;33m)\u001b[0m\u001b[1;33m\u001b[0m\u001b[1;33m\u001b[0m\u001b[0m\n\u001b[0m\u001b[0;32m   3120\u001b[0m \u001b[1;33m\u001b[0m\u001b[0m\n\u001b[0;32m   3121\u001b[0m     \u001b[1;32mdef\u001b[0m \u001b[0m_setitem_slice\u001b[0m\u001b[1;33m(\u001b[0m\u001b[0mself\u001b[0m\u001b[1;33m,\u001b[0m \u001b[0mkey\u001b[0m\u001b[1;33m,\u001b[0m \u001b[0mvalue\u001b[0m\u001b[1;33m)\u001b[0m\u001b[1;33m:\u001b[0m\u001b[1;33m\u001b[0m\u001b[1;33m\u001b[0m\u001b[0m\n",
      "\u001b[1;32mC:\\ProgramData\\Anaconda3\\lib\\site-packages\\pandas\\core\\frame.py\u001b[0m in \u001b[0;36m_set_item\u001b[1;34m(self, key, value)\u001b[0m\n\u001b[0;32m   3192\u001b[0m \u001b[1;33m\u001b[0m\u001b[0m\n\u001b[0;32m   3193\u001b[0m         \u001b[0mself\u001b[0m\u001b[1;33m.\u001b[0m\u001b[0m_ensure_valid_index\u001b[0m\u001b[1;33m(\u001b[0m\u001b[0mvalue\u001b[0m\u001b[1;33m)\u001b[0m\u001b[1;33m\u001b[0m\u001b[1;33m\u001b[0m\u001b[0m\n\u001b[1;32m-> 3194\u001b[1;33m         \u001b[0mvalue\u001b[0m \u001b[1;33m=\u001b[0m \u001b[0mself\u001b[0m\u001b[1;33m.\u001b[0m\u001b[0m_sanitize_column\u001b[0m\u001b[1;33m(\u001b[0m\u001b[0mkey\u001b[0m\u001b[1;33m,\u001b[0m \u001b[0mvalue\u001b[0m\u001b[1;33m)\u001b[0m\u001b[1;33m\u001b[0m\u001b[1;33m\u001b[0m\u001b[0m\n\u001b[0m\u001b[0;32m   3195\u001b[0m         \u001b[0mNDFrame\u001b[0m\u001b[1;33m.\u001b[0m\u001b[0m_set_item\u001b[0m\u001b[1;33m(\u001b[0m\u001b[0mself\u001b[0m\u001b[1;33m,\u001b[0m \u001b[0mkey\u001b[0m\u001b[1;33m,\u001b[0m \u001b[0mvalue\u001b[0m\u001b[1;33m)\u001b[0m\u001b[1;33m\u001b[0m\u001b[1;33m\u001b[0m\u001b[0m\n\u001b[0;32m   3196\u001b[0m \u001b[1;33m\u001b[0m\u001b[0m\n",
      "\u001b[1;32mC:\\ProgramData\\Anaconda3\\lib\\site-packages\\pandas\\core\\frame.py\u001b[0m in \u001b[0;36m_sanitize_column\u001b[1;34m(self, key, value, broadcast)\u001b[0m\n\u001b[0;32m   3389\u001b[0m \u001b[1;33m\u001b[0m\u001b[0m\n\u001b[0;32m   3390\u001b[0m             \u001b[1;31m# turn me into an ndarray\u001b[0m\u001b[1;33m\u001b[0m\u001b[1;33m\u001b[0m\u001b[1;33m\u001b[0m\u001b[0m\n\u001b[1;32m-> 3391\u001b[1;33m             \u001b[0mvalue\u001b[0m \u001b[1;33m=\u001b[0m \u001b[0m_sanitize_index\u001b[0m\u001b[1;33m(\u001b[0m\u001b[0mvalue\u001b[0m\u001b[1;33m,\u001b[0m \u001b[0mself\u001b[0m\u001b[1;33m.\u001b[0m\u001b[0mindex\u001b[0m\u001b[1;33m,\u001b[0m \u001b[0mcopy\u001b[0m\u001b[1;33m=\u001b[0m\u001b[1;32mFalse\u001b[0m\u001b[1;33m)\u001b[0m\u001b[1;33m\u001b[0m\u001b[1;33m\u001b[0m\u001b[0m\n\u001b[0m\u001b[0;32m   3392\u001b[0m             \u001b[1;32mif\u001b[0m \u001b[1;32mnot\u001b[0m \u001b[0misinstance\u001b[0m\u001b[1;33m(\u001b[0m\u001b[0mvalue\u001b[0m\u001b[1;33m,\u001b[0m \u001b[1;33m(\u001b[0m\u001b[0mnp\u001b[0m\u001b[1;33m.\u001b[0m\u001b[0mndarray\u001b[0m\u001b[1;33m,\u001b[0m \u001b[0mIndex\u001b[0m\u001b[1;33m)\u001b[0m\u001b[1;33m)\u001b[0m\u001b[1;33m:\u001b[0m\u001b[1;33m\u001b[0m\u001b[1;33m\u001b[0m\u001b[0m\n\u001b[0;32m   3393\u001b[0m                 \u001b[1;32mif\u001b[0m \u001b[0misinstance\u001b[0m\u001b[1;33m(\u001b[0m\u001b[0mvalue\u001b[0m\u001b[1;33m,\u001b[0m \u001b[0mlist\u001b[0m\u001b[1;33m)\u001b[0m \u001b[1;32mand\u001b[0m \u001b[0mlen\u001b[0m\u001b[1;33m(\u001b[0m\u001b[0mvalue\u001b[0m\u001b[1;33m)\u001b[0m \u001b[1;33m>\u001b[0m \u001b[1;36m0\u001b[0m\u001b[1;33m:\u001b[0m\u001b[1;33m\u001b[0m\u001b[1;33m\u001b[0m\u001b[0m\n",
      "\u001b[1;32mC:\\ProgramData\\Anaconda3\\lib\\site-packages\\pandas\\core\\series.py\u001b[0m in \u001b[0;36m_sanitize_index\u001b[1;34m(data, index, copy)\u001b[0m\n\u001b[0;32m   3999\u001b[0m \u001b[1;33m\u001b[0m\u001b[0m\n\u001b[0;32m   4000\u001b[0m     \u001b[1;32mif\u001b[0m \u001b[0mlen\u001b[0m\u001b[1;33m(\u001b[0m\u001b[0mdata\u001b[0m\u001b[1;33m)\u001b[0m \u001b[1;33m!=\u001b[0m \u001b[0mlen\u001b[0m\u001b[1;33m(\u001b[0m\u001b[0mindex\u001b[0m\u001b[1;33m)\u001b[0m\u001b[1;33m:\u001b[0m\u001b[1;33m\u001b[0m\u001b[1;33m\u001b[0m\u001b[0m\n\u001b[1;32m-> 4001\u001b[1;33m         \u001b[1;32mraise\u001b[0m \u001b[0mValueError\u001b[0m\u001b[1;33m(\u001b[0m\u001b[1;34m'Length of values does not match length of '\u001b[0m \u001b[1;34m'index'\u001b[0m\u001b[1;33m)\u001b[0m\u001b[1;33m\u001b[0m\u001b[1;33m\u001b[0m\u001b[0m\n\u001b[0m\u001b[0;32m   4002\u001b[0m \u001b[1;33m\u001b[0m\u001b[0m\n\u001b[0;32m   4003\u001b[0m     \u001b[1;32mif\u001b[0m \u001b[0misinstance\u001b[0m\u001b[1;33m(\u001b[0m\u001b[0mdata\u001b[0m\u001b[1;33m,\u001b[0m \u001b[0mABCIndexClass\u001b[0m\u001b[1;33m)\u001b[0m \u001b[1;32mand\u001b[0m \u001b[1;32mnot\u001b[0m \u001b[0mcopy\u001b[0m\u001b[1;33m:\u001b[0m\u001b[1;33m\u001b[0m\u001b[1;33m\u001b[0m\u001b[0m\n",
      "\u001b[1;31mValueError\u001b[0m: Length of values does not match length of index"
     ]
    }
   ],
   "source": [
    "data1['sss']=[str(y) for y in zip([data1[x] for x in a])]"
   ]
  },
  {
   "cell_type": "code",
   "execution_count": null,
   "metadata": {
    "scrolled": true
   },
   "outputs": [],
   "source": []
  },
  {
   "cell_type": "code",
   "execution_count": null,
   "metadata": {
    "scrolled": true
   },
   "outputs": [],
   "source": [
    "data1['标注']=[Point(y) for y in zip(data1['RRU经度'],data1['RRU纬度'])]"
   ]
  },
  {
   "cell_type": "code",
   "execution_count": null,
   "metadata": {
    "scrolled": true
   },
   "outputs": [],
   "source": [
    "data1['标注3'] =[str(y) for y in zip(data1[x] for x in a)]"
   ]
  },
  {
   "cell_type": "code",
   "execution_count": 124,
   "metadata": {},
   "outputs": [],
   "source": [
    "data1.to_clipboard()"
   ]
  },
  {
   "cell_type": "code",
   "execution_count": null,
   "metadata": {
    "scrolled": true
   },
   "outputs": [],
   "source": [
    "data1['标注3'] = '#'.join([y for y in zip(data1['RRU经度'] ,data1['RRU纬度'])])"
   ]
  },
  {
   "cell_type": "code",
   "execution_count": null,
   "metadata": {
    "scrolled": false
   },
   "outputs": [],
   "source": [
    "data1"
   ]
  },
  {
   "cell_type": "code",
   "execution_count": null,
   "metadata": {},
   "outputs": [],
   "source": []
  },
  {
   "cell_type": "code",
   "execution_count": null,
   "metadata": {
    "scrolled": true
   },
   "outputs": [],
   "source": [
    "data1['标注3'] = ['#'.join(str(y)) [x for y in zip([data1[x] for x in a])]"
   ]
  },
  {
   "cell_type": "code",
   "execution_count": null,
   "metadata": {
    "scrolled": true
   },
   "outputs": [],
   "source": [
    "data1['标注']=[Point(y) for y in zip(data1['RRU经度'],data1['RRU纬度'])]"
   ]
  },
  {
   "cell_type": "code",
   "execution_count": null,
   "metadata": {
    "scrolled": true
   },
   "outputs": [],
   "source": [
    "data1['标注']=[list(y) for y in zip([data1[x] for x in list(a)])]"
   ]
  },
  {
   "cell_type": "code",
   "execution_count": 71,
   "metadata": {},
   "outputs": [],
   "source": [
    "aa = zip([data1[x] for x in list(a)])"
   ]
  },
  {
   "cell_type": "code",
   "execution_count": 72,
   "metadata": {},
   "outputs": [
    {
     "ename": "TypeError",
     "evalue": "'zip' object is not subscriptable",
     "output_type": "error",
     "traceback": [
      "\u001b[1;31m---------------------------------------------------------------------------\u001b[0m",
      "\u001b[1;31mTypeError\u001b[0m                                 Traceback (most recent call last)",
      "\u001b[1;32m<ipython-input-72-04cafb779ff7>\u001b[0m in \u001b[0;36m<module>\u001b[1;34m()\u001b[0m\n\u001b[1;32m----> 1\u001b[1;33m \u001b[0maa\u001b[0m\u001b[1;33m[\u001b[0m\u001b[1;36m1\u001b[0m\u001b[1;33m]\u001b[0m\u001b[1;33m\u001b[0m\u001b[1;33m\u001b[0m\u001b[0m\n\u001b[0m",
      "\u001b[1;31mTypeError\u001b[0m: 'zip' object is not subscriptable"
     ]
    }
   ],
   "source": [
    "aa[1]"
   ]
  },
  {
   "cell_type": "code",
   "execution_count": null,
   "metadata": {},
   "outputs": [],
   "source": []
  },
  {
   "cell_type": "code",
   "execution_count": 53,
   "metadata": {},
   "outputs": [
    {
     "ename": "TypeError",
     "evalue": "'type' object is not subscriptable",
     "output_type": "error",
     "traceback": [
      "\u001b[1;31m---------------------------------------------------------------------------\u001b[0m",
      "\u001b[1;31mTypeError\u001b[0m                                 Traceback (most recent call last)",
      "\u001b[1;32m<ipython-input-53-8471ff501bbf>\u001b[0m in \u001b[0;36m<module>\u001b[1;34m()\u001b[0m\n\u001b[1;32m----> 1\u001b[1;33m \u001b[1;33m[\u001b[0m\u001b[0mdata1\u001b[0m\u001b[1;33m[\u001b[0m\u001b[0mx\u001b[0m\u001b[1;33m]\u001b[0m \u001b[1;32mfor\u001b[0m \u001b[0mx\u001b[0m \u001b[1;32min\u001b[0m \u001b[0mlist\u001b[0m\u001b[1;33m[\u001b[0m\u001b[0ma\u001b[0m\u001b[1;33m]\u001b[0m\u001b[1;33m]\u001b[0m\u001b[1;33m\u001b[0m\u001b[1;33m\u001b[0m\u001b[0m\n\u001b[0m",
      "\u001b[1;31mTypeError\u001b[0m: 'type' object is not subscriptable"
     ]
    }
   ],
   "source": [
    "[data1[x] for x in list[a]]"
   ]
  },
  {
   "cell_type": "code",
   "execution_count": null,
   "metadata": {},
   "outputs": [],
   "source": []
  },
  {
   "cell_type": "code",
   "execution_count": null,
   "metadata": {},
   "outputs": [],
   "source": []
  },
  {
   "cell_type": "code",
   "execution_count": 36,
   "metadata": {},
   "outputs": [],
   "source": [
    "data1=data1.astype(\"str\")"
   ]
  },
  {
   "cell_type": "code",
   "execution_count": 37,
   "metadata": {},
   "outputs": [
    {
     "data": {
      "text/plain": [
       "小区中文名    object\n",
       "所属地区     object\n",
       "RRU经度    object\n",
       "RRU纬度    object\n",
       "方位角      object\n",
       "dtype: object"
      ]
     },
     "execution_count": 37,
     "metadata": {},
     "output_type": "execute_result"
    }
   ],
   "source": [
    "data1.dtypes"
   ]
  },
  {
   "cell_type": "code",
   "execution_count": 3,
   "metadata": {
    "scrolled": true
   },
   "outputs": [],
   "source": [
    "data = data1.head(3300)"
   ]
  },
  {
   "cell_type": "code",
   "execution_count": 10,
   "metadata": {},
   "outputs": [],
   "source": [
    "lie_ming = list(data.index)"
   ]
  },
  {
   "cell_type": "code",
   "execution_count": 4,
   "metadata": {},
   "outputs": [],
   "source": [
    "import pandas as pd\n",
    "import numpy as np\n",
    "import re\n",
    "import simplekml\n",
    "from geographiclib.geodesic import Geodesic"
   ]
  },
  {
   "cell_type": "code",
   "execution_count": null,
   "metadata": {},
   "outputs": [],
   "source": [
    "range(len(data.index))"
   ]
  },
  {
   "cell_type": "code",
   "execution_count": null,
   "metadata": {},
   "outputs": [],
   "source": [
    "data.iloc[0,:]"
   ]
  },
  {
   "cell_type": "code",
   "execution_count": null,
   "metadata": {},
   "outputs": [],
   "source": [
    "%%time\n",
    "#第一种方法\n",
    "kml = simplekml.Kml()\n",
    "#-----------------------------------循环其他经纬度\n",
    "for i in range(len(data.index)):\n",
    "    row_v = data.iloc[i,:]\n",
    "    mingcheng,lon_p,lat_p = row_v[['小区中文名','RRU经度','RRU纬度']] # +++++++++++++++++++++++名称和经纬度必须\n",
    "    \n",
    "    #------------创建点\n",
    "    pnt = kml.newpoint(name=mingcheng )#\n",
    "    pnt.coords = [(lon_p, lat_p)] \n",
    "kml.save(\"botanicalgarden_1.kml\")"
   ]
  },
  {
   "cell_type": "code",
   "execution_count": null,
   "metadata": {},
   "outputs": [],
   "source": [
    "%%time\n",
    "#第二种方法\n",
    "def apply_kml_for(df):\n",
    "    df.apply(lambda row: guocheng(row),axis=1)\n",
    "    \n",
    "def guocheng(row):\n",
    "    mingcheng,lon_p,lat_p = row[['小区中文名','RRU经度','RRU纬度']] # +++++++++++++++++++++++名称和经纬度必须\n",
    "    #------------创建点\n",
    "    pnt = kml.newpoint(name=mingcheng )#\n",
    "    pnt.coords = [(lon_p, lat_p)] \n",
    "\n",
    "\n",
    "kml = simplekml.Kml()\n",
    "#-----------------------------------循环其他经纬度\n",
    "apply_kml_for(data)\n",
    "kml.save(\"botanicalgarden_2.kml\")"
   ]
  },
  {
   "cell_type": "code",
   "execution_count": 7,
   "metadata": {},
   "outputs": [
    {
     "name": "stdout",
     "output_type": "stream",
     "text": [
      "Wall time: 969 ms\n"
     ]
    }
   ],
   "source": [
    "%%time\n",
    "#第三种方法\n",
    "def guocheng1(name , lon_p,lat_p):\n",
    "    #------------创建点\n",
    "    pnt = kml.newpoint(name=name )#\n",
    "    pnt.coords = [(lon_p, lat_p)] \n",
    "\n",
    "kml = simplekml.Kml()\n",
    "for x in zip(data['小区中文名'], data['RRU经度'], data['RRU纬度']):\n",
    "    guocheng1(*x)\n",
    "kml.save(\"botanicalgarden_3.kml\")"
   ]
  },
  {
   "cell_type": "code",
   "execution_count": null,
   "metadata": {},
   "outputs": [],
   "source": []
  },
  {
   "cell_type": "code",
   "execution_count": null,
   "metadata": {},
   "outputs": [],
   "source": [
    "%%time\n",
    "#第二种方法\n",
    "def apply_kml_for(df):\n",
    "    df.apply(lambda row: guocheng(row),axis=1)\n",
    "    \n",
    "def guocheng(row):\n",
    "    mingcheng,lon_p,lat_p = row[['小区中文名','RRU经度','RRU纬度']] # +++++++++++++++++++++++名称和经纬度必须\n",
    "    #------------创建点\n",
    "    pnt = kml.newpoint(name=mingcheng )#\n",
    "    pnt.coords = [(lon_p, lat_p)] \n",
    "\n",
    "\n",
    "kml = simplekml.Kml()\n",
    "#-----------------------------------循环其他经纬度\n",
    "apply_kml_for(data)\n",
    "kml.save(\"botanicalgarden_2.kml\")"
   ]
  },
  {
   "cell_type": "code",
   "execution_count": null,
   "metadata": {},
   "outputs": [],
   "source": []
  },
  {
   "cell_type": "code",
   "execution_count": null,
   "metadata": {},
   "outputs": [],
   "source": []
  },
  {
   "cell_type": "code",
   "execution_count": null,
   "metadata": {},
   "outputs": [],
   "source": []
  },
  {
   "cell_type": "code",
   "execution_count": null,
   "metadata": {},
   "outputs": [],
   "source": []
  },
  {
   "cell_type": "code",
   "execution_count": null,
   "metadata": {},
   "outputs": [],
   "source": []
  },
  {
   "cell_type": "code",
   "execution_count": null,
   "metadata": {},
   "outputs": [],
   "source": []
  },
  {
   "cell_type": "code",
   "execution_count": null,
   "metadata": {},
   "outputs": [],
   "source": []
  },
  {
   "cell_type": "code",
   "execution_count": 15,
   "metadata": {},
   "outputs": [],
   "source": [
    "def apply_kml_for_biaozhu(row_table):\n",
    "    row_table.apply(lambda row: gongcheng_pol_biaozhu(row),axis=1)\n",
    "def gongcheng_pol_biaozhu(row):\n",
    "    df2 = row.filter(regex=\"[^geometry,^lon_n,^lat_n]\")\n",
    "    id_n_v, polygon1, lon_yuan, lat_yuan, fw_yuan = row[[id_n, 'geometry', lon_n, lat_n, fw_n]]\n",
    "    lon_dd, lat_dd, lon1_dd, lat1_dd = self.lod_lon_lat(lon=lon_yuan, lat=lat_yuan,azimuth=45, azimuth1=225, radius=int(shiye_n))\n",
    "    latlonaltbox = simplekml.LatLonAltBox(east=lon_dd, north=lat_dd, south=lat1_dd, west=lon1_dd,\n",
    "                                          minaltitude=None, maxaltitude=None, altitudemode=None)\n",
    "\n",
    "    pol = polf.newpolygon(name=id_n_v)  # ,description = biaozhu_r\n",
    "    pol.region.latlonaltbox = latlonaltbox\n",
    "    pol.region.lod = lod1\n",
    "    # polygon2=ast.literal_eval(polygon1)\n",
    "    pol.outerboundaryis = polygon1   # polygon_1 是一个扇区\n",
    "\n",
    "    # lieming = row_1[['小区中文名','空口上下行业务字节数KByte']]#^^^^^^标注可选择，不选则全部\n",
    "    lie_ming = list(df2.index)\n",
    "    for i in lie_ming:  # ^^^^^^可选去掉不加标注\n",
    "        pol.extendeddata.schemadata.newsimpledata(i, df2[i])\n",
    "    pol.extrude = 1  # 高度需添加\n",
    "    pol.altitudemode = simplekml.AltitudeMode.relativetoground  # 高度需添加\n",
    "    # pol.snippet.maxlines = 1 #名字下面的间隔\n",
    "    # pol.snippet.content = \"名字下面的文字\"\n",
    "    lon_b, lat_b = self.point_lon_lat(lon=lon_yuan, lat=lat_yuan, azimuth=fw_yuan, radius=int(banjing_n) * 0.7)\n",
    "    pnt = poif.newpoint(name=id_n_v)\n",
    "    pnt.region.latlonaltbox = latlonaltbox\n",
    "    pnt.region.lod = lod1\n",
    "    pnt.coords = [(lon_b, lat_b)]\n",
    "    pnt.style = style\n",
    "    pol.style = style\n",
    "apply_kml_for_biaozhu(row_table)"
   ]
  },
  {
   "cell_type": "code",
   "execution_count": null,
   "metadata": {
    "scrolled": true
   },
   "outputs": [],
   "source": [
    "\n",
    "\n",
    "\n",
    "\n",
    "\n"
   ]
  },
  {
   "cell_type": "code",
   "execution_count": 199,
   "metadata": {},
   "outputs": [],
   "source": [
    "b=data1['ColumnA1'][0]"
   ]
  },
  {
   "cell_type": "code",
   "execution_count": 210,
   "metadata": {},
   "outputs": [
    {
     "name": "stdout",
     "output_type": "stream",
     "text": [
      "小区中文名 - G_京山罗店小寨子村-ZFH-1\n",
      "所属地区 - 荆门\n"
     ]
    }
   ],
   "source": []
  },
  {
   "cell_type": "code",
   "execution_count": null,
   "metadata": {},
   "outputs": [],
   "source": []
  },
  {
   "cell_type": "code",
   "execution_count": 13,
   "metadata": {},
   "outputs": [],
   "source": [
    "import simplekml\n",
    "kml = simplekml.Kml()\n",
    "photo = kml.newphotooverlay(name='PhotoOverlay Test')\n",
    "photo.camera = simplekml.Camera(longitude=18.410858, latitude=-33.904446,altitude=50,\n",
    "altitudemode=simplekml.AltitudeMode.clamptoground)\n",
    "photo.point.coords = [(18.410858,-33.90444)]\n",
    "photo.style.iconstyle.icon.href = 'http://maps.google.com/mapfiles/kml/shapes/camera.png'\n",
    "photo.icon.href = 'http://simplekml.googlecode.com/hg/samples/resources/stadium.jpg'\n",
    "photo.viewvolume = simplekml.ViewVolume(-25,25,-15,15,1)\n",
    "kml.save(\"PhotoOverlay.kml\")\n"
   ]
  },
  {
   "cell_type": "code",
   "execution_count": null,
   "metadata": {},
   "outputs": [],
   "source": []
  },
  {
   "cell_type": "code",
   "execution_count": null,
   "metadata": {},
   "outputs": [],
   "source": []
  },
  {
   "cell_type": "code",
   "execution_count": null,
   "metadata": {},
   "outputs": [],
   "source": []
  },
  {
   "cell_type": "code",
   "execution_count": null,
   "metadata": {},
   "outputs": [],
   "source": []
  },
  {
   "cell_type": "code",
   "execution_count": null,
   "metadata": {},
   "outputs": [],
   "source": []
  },
  {
   "cell_type": "code",
   "execution_count": null,
   "metadata": {},
   "outputs": [],
   "source": []
  },
  {
   "cell_type": "code",
   "execution_count": null,
   "metadata": {},
   "outputs": [],
   "source": []
  },
  {
   "cell_type": "code",
   "execution_count": null,
   "metadata": {},
   "outputs": [],
   "source": []
  },
  {
   "cell_type": "code",
   "execution_count": null,
   "metadata": {},
   "outputs": [],
   "source": []
  },
  {
   "cell_type": "code",
   "execution_count": null,
   "metadata": {},
   "outputs": [],
   "source": []
  },
  {
   "cell_type": "code",
   "execution_count": null,
   "metadata": {},
   "outputs": [],
   "source": []
  },
  {
   "cell_type": "code",
   "execution_count": null,
   "metadata": {},
   "outputs": [],
   "source": []
  },
  {
   "cell_type": "code",
   "execution_count": null,
   "metadata": {},
   "outputs": [],
   "source": []
  },
  {
   "cell_type": "code",
   "execution_count": null,
   "metadata": {},
   "outputs": [],
   "source": []
  },
  {
   "cell_type": "code",
   "execution_count": null,
   "metadata": {},
   "outputs": [],
   "source": []
  },
  {
   "cell_type": "code",
   "execution_count": null,
   "metadata": {},
   "outputs": [],
   "source": []
  },
  {
   "cell_type": "code",
   "execution_count": null,
   "metadata": {},
   "outputs": [],
   "source": []
  },
  {
   "cell_type": "code",
   "execution_count": null,
   "metadata": {},
   "outputs": [],
   "source": []
  },
  {
   "cell_type": "code",
   "execution_count": null,
   "metadata": {},
   "outputs": [],
   "source": []
  },
  {
   "cell_type": "code",
   "execution_count": null,
   "metadata": {},
   "outputs": [],
   "source": []
  },
  {
   "cell_type": "code",
   "execution_count": null,
   "metadata": {},
   "outputs": [],
   "source": []
  },
  {
   "cell_type": "code",
   "execution_count": null,
   "metadata": {},
   "outputs": [],
   "source": [
    "def __draw_sector(\n",
    "                  lon=114.198312,\n",
    "                  lat=30.630697,\n",
    "                  height=5,\n",
    "                  azimuth=0,\n",
    "                  has_z=True,\n",
    "                  shape_dict={\n",
    "                      'radius': 100,\n",
    "                      'beam': 30,\n",
    "                      'per_degree': 10\n",
    "                  },\n",
    "                  **kwargs):\n",
    "    \"\"\"制作扇区形状，可以2d也可以3d  has_z就是3d\n",
    "\n",
    "    \"\"\"\n",
    "    radius, beam, per_degree = (shape_dict['radius'], shape_dict['beam'],\n",
    "                                shape_dict['per_degree'])\n",
    "    azimuth_list = list(\n",
    "        range(\n",
    "            int(azimuth - beam / 2),\n",
    "            int(azimuth + beam / 2) + 1, per_degree))\n",
    "\n",
    "    if has_z:\n",
    "        points = [(lon, lat, height)]\n",
    "        for azi in azimuth_list:\n",
    "            res = Geodesic.WGS84.Direct(lat, lon, azi, radius)\n",
    "            points.append((res['lon2'], res['lat2'], height))\n",
    "    else:\n",
    "        points = [(lon, lat)]\n",
    "        for azi in azimuth_list:\n",
    "            res = Geodesic.WGS84.Direct(lat, lon, azi, radius)\n",
    "            points.append((res['lon2'], res['lat2']))\n",
    "    points.append(points[0])\n",
    "    return list(points)\n",
    "\n",
    "def add_sectors(\n",
    "                df,\n",
    "                coords=['', '', '', ''],\n",
    "                has_z=True,\n",
    "                sec_col='geometry',\n",
    "                shape_dict={\n",
    "                    'radius': 100,\n",
    "                    'beam': 30,\n",
    "                    'per_degree': 10\n",
    "                },\n",
    "                **kwargs):\n",
    "    \"\"\"根据经纬度挂高方向角所在列，为df增加CRS和 geometry 列\n",
    "    shape_dict={\n",
    "                      'radius': 100,\n",
    "                      'beam': 30,\n",
    "                      'per_degree': 10\n",
    "                  },\n",
    "    Returns:\n",
    "        [type] -- [description]\n",
    "    \"\"\"\n",
    "    if coords == ['', '', '', '']:\n",
    "        coords = [lon, lat, height, azimuth]\n",
    "    lon, lat, *oth = coords\n",
    "    df = df.copy()\n",
    "    height = oth[0]\n",
    "    azimuth = oth[1]\n",
    "    if has_z:\n",
    "        df.loc[:, sec_col] = [\n",
    "            __draw_sector(*x, shape_dict=shape_dict, has_z=has_z)\n",
    "            for x in zip(df[lon], df[lat], df[height], df[azimuth])\n",
    "        ]\n",
    "    else:\n",
    "        df.loc[:, sec_col] = [\n",
    "            __draw_sector(*x, shape_dict=shape_dict, has_z=has_z)\n",
    "            for x in zip(df[lon], df[lat], df[azimuth])\n",
    "        ]\n",
    "    return df"
   ]
  },
  {
   "cell_type": "code",
   "execution_count": null,
   "metadata": {},
   "outputs": [],
   "source": [
    "data = pd.read_clipboard()"
   ]
  },
  {
   "cell_type": "code",
   "execution_count": null,
   "metadata": {
    "scrolled": true
   },
   "outputs": [],
   "source": [
    "data.columns"
   ]
  },
  {
   "cell_type": "code",
   "execution_count": null,
   "metadata": {
    "scrolled": true
   },
   "outputs": [],
   "source": [
    "data_v = add_sectors(data, coords=['经度', '纬度', '方位角', '方位角'], has_z=True)"
   ]
  },
  {
   "cell_type": "code",
   "execution_count": null,
   "metadata": {},
   "outputs": [],
   "source": [
    "kml = simplekml.Kml()\n",
    "import ast\n",
    "for i in range(len(data_v.index)):\n",
    "    row_1 = data_v.iloc[i,:]\n",
    "    id_n_v,polygon1,lon_yuan,lat_yuan ,fw_yuan= row_1[['cgi','geometry','经度','纬度','方位角']]\n",
    "    pol = kml.newpolygon(name=id_n_v)#,description = biaozhu_r\n",
    "    pol.outerboundaryis =list(polygon1)# polygon_1 是一个扇区\n",
    "    pol.extrude = 1  # 高度需添加\n",
    "    pol.altitudemode = simplekml.AltitudeMode.relativetoground  # 高度需添加\n",
    "kml.save(\"222_扇区图层.kml\")"
   ]
  },
  {
   "cell_type": "code",
   "execution_count": null,
   "metadata": {},
   "outputs": [],
   "source": []
  },
  {
   "cell_type": "code",
   "execution_count": null,
   "metadata": {},
   "outputs": [],
   "source": []
  },
  {
   "cell_type": "code",
   "execution_count": null,
   "metadata": {},
   "outputs": [],
   "source": []
  },
  {
   "cell_type": "code",
   "execution_count": null,
   "metadata": {},
   "outputs": [],
   "source": []
  },
  {
   "cell_type": "code",
   "execution_count": null,
   "metadata": {},
   "outputs": [],
   "source": [
    "#---------找Polygon中标注名称位置的函数\n",
    "def _point_lon_lat(lon=114.198312,lat=30.630697,azimuth=0,radius=50):\n",
    "    res = Geodesic.WGS84.Direct(lat, lon, azimuth, radius)\n",
    "    lon= res['lon2']\n",
    "    lat= res['lat2']\n",
    "    return lon,lat"
   ]
  },
  {
   "cell_type": "code",
   "execution_count": null,
   "metadata": {},
   "outputs": [],
   "source": [
    "import simplekml\n",
    "from shapely.geometry import *\n",
    "from geographiclib.geodesic import Geodesic\n",
    "import os\n",
    "import shapely\n",
    "import ast\n",
    "import functools\n",
    "import pandas as pd\n",
    "import numpy as np\n",
    "import geopandas as gpd"
   ]
  },
  {
   "cell_type": "code",
   "execution_count": null,
   "metadata": {},
   "outputs": [],
   "source": []
  },
  {
   "cell_type": "code",
   "execution_count": null,
   "metadata": {},
   "outputs": [],
   "source": []
  },
  {
   "cell_type": "code",
   "execution_count": null,
   "metadata": {},
   "outputs": [],
   "source": []
  },
  {
   "cell_type": "code",
   "execution_count": null,
   "metadata": {},
   "outputs": [],
   "source": []
  },
  {
   "cell_type": "code",
   "execution_count": null,
   "metadata": {},
   "outputs": [],
   "source": []
  },
  {
   "cell_type": "code",
   "execution_count": null,
   "metadata": {},
   "outputs": [],
   "source": []
  },
  {
   "cell_type": "code",
   "execution_count": null,
   "metadata": {},
   "outputs": [],
   "source": []
  },
  {
   "cell_type": "code",
   "execution_count": null,
   "metadata": {},
   "outputs": [],
   "source": []
  },
  {
   "cell_type": "code",
   "execution_count": null,
   "metadata": {},
   "outputs": [],
   "source": []
  },
  {
   "cell_type": "code",
   "execution_count": null,
   "metadata": {},
   "outputs": [],
   "source": []
  },
  {
   "cell_type": "code",
   "execution_count": null,
   "metadata": {
    "scrolled": false
   },
   "outputs": [],
   "source": [
    "row_table1 = sites[:]\n",
    "row_table = row_table1.copy()\n",
    "pd.set_option('display.max_columns', None)\n",
    "row_table.head(1)"
   ]
  },
  {
   "cell_type": "code",
   "execution_count": null,
   "metadata": {
    "scrolled": false
   },
   "outputs": [],
   "source": [
    "xiaoquming_b , jingdu_b , weidu_b , fangweijiao_b =('小区中文名','RRU经度','RRU纬度','方位角') #++++++++++++++++++++++主要列部分\n",
    "row_table[xiaoquming_b] = row_table[xiaoquming_b].str.replace('（','(').str.replace('）',')') \\\n",
    ".str.replace('，',',').str.replace('“','\"').str.replace('”','\"').str.replace('：',':') \\\n",
    ".str.replace('？','?').str.replace('、','.').replace(np.nan,'无')#++++++++++++++++++++++++++++++++++++++++数据过滤\n",
    "row_table.head(2)\n",
    "row_table = row_table['']\n"
   ]
  },
  {
   "cell_type": "code",
   "execution_count": null,
   "metadata": {
    "scrolled": true
   },
   "outputs": [],
   "source": [
    "%%time\n",
    "pols=[]\n",
    "point=[]\n",
    "lod = []\n",
    "for i in range(len(row_table.index)):\n",
    "    row = row_table.iloc[i,:]\n",
    "    row_zl = row[[jingdu_b , weidu_b , fangweijiao_b]] # +++++++++++++++++++++++做多边形使用列\n",
    "    lon,lat,azimuth = row_zl\n",
    "    x = __draw_sector(lon=lon,lat=lat,azimuth=azimuth)\n",
    "    lonlat1 = _point_lon_lat(lon=lon,lat=lat,azimuth=azimuth,radius=50)#^^^^^修改标注的距离\n",
    "    lod1 = _lod_lon_lat(lon=lon,lat=lat,radius=7000)#^^^^^修改视野范围\n",
    "    pols.append(x)\n",
    "    point.append(lonlat1)\n",
    "    lod.append(lod1)\n",
    "row_table['多边形'] =pols\n",
    "row_table['lonlat'] = point\n",
    "row_table['lod'] = lod\n",
    "row_table.iloc[:2,]"
   ]
  },
  {
   "cell_type": "code",
   "execution_count": null,
   "metadata": {},
   "outputs": [],
   "source": [
    "import simplekml\n",
    "kml = simplekml.Kml()\n",
    "\n",
    "dataa=pd.read_csv(open('D:/up/shuchu.csv'))\n"
   ]
  },
  {
   "cell_type": "code",
   "execution_count": null,
   "metadata": {
    "scrolled": false
   },
   "outputs": [],
   "source": [
    "row_table = dataa.copy()\n",
    "kml = simplekml.Kml()\n",
    "colour = 'ff00ffff'  #^^设置一个颜色\n",
    "colour_alpha = simplekml.Color.changealphaint(150, colour)#^^^^^将颜色添加透明度0-255\n",
    "style = simplekml.Style()\n",
    "style.iconstyle.icon.href = None  #不显示图标\n",
    "style.linestyle.color = colour_alpha# 最终线条上色    \n",
    "style.polystyle.color = colour_alpha# 最终形状上色\n",
    "style.labelstyle.scale = 0.8 #字体大小1是正常\n",
    "poif = kml.newfolder(name='名称')\n",
    "polf = kml.newfolder(name='扇区')\n",
    "lod1 = simplekml.Lod(minlodpixels=788, maxlodpixels=-1,minfadeextent=None, maxfadeextent=None)\n",
    "\n",
    "id_n = '小区CGI(*)'\n",
    "lon_n = 'RRU经度'\n",
    "lat_n = 'RRU纬度'\n",
    "shiye_n = 400\n",
    "fw_n = '方位角'\n",
    "banjing_n = 100\n",
    "\n",
    "for i in range(len(row_table.index)):\n",
    "    row_1 = row_table.iloc[i,:]\n",
    "    df2 = row_1.filter(regex=\"[^geometry,^lon_n,^lat_n]\")\n",
    "    id_n_v,polygon1,lon_yuan,lat_yuan ,fw_yuan= row_1[[id_n,'geometry',lon_n,lat_n,fw_n]]\n",
    "    lon_dd,lat_dd,lon1_dd,lat1_dd = _lod_lon_lat(lon=lon_yuan, lat=lat_yuan, radius=shiye_n)\n",
    "    latlonaltbox = simplekml.LatLonAltBox(east =lon_dd ,north=lat_dd ,south=lat1_dd ,west=lon1_dd,\n",
    "                                      minaltitude=None, maxaltitude=None, altitudemode=None)\n",
    "    \n",
    "    pol = polf.newpolygon(name=id_n_v)#,description = biaozhu_r\n",
    "    pol.region.latlonaltbox = latlonaltbox\n",
    "    pol.region.lod = lod1\n",
    "    pol.outerboundaryis =ast.literal_eval(polygon1)# polygon_1 是一个扇区\n",
    "\n",
    "    #lieming = row_1[['小区中文名','空口上下行业务字节数KByte']]#^^^^^^标注可选择，不选则全部\n",
    "    lie_ming=list(df2.index)\n",
    "    for i in lie_ming: #^^^^^^可选去掉不加标注\n",
    "        pol.extendeddata.schemadata.newsimpledata(i,df2[i])\n",
    "    pol.extrude = 1       #高度需添加\n",
    "    pol.altitudemode = simplekml.AltitudeMode.relativetoground#高度需添加\n",
    "    #pol.snippet.maxlines = 1 #名字下面的间隔\n",
    "    #pol.snippet.content = \"名字下面的文字\"\n",
    "    lon_b,lat_b=_point_lon_lat(lon=lon_yuan,lat=lat_yuan,azimuth=lat_yuan,radius=banjing_n*0.7)\n",
    "    pnt = poif.newpoint(name=id_n_v )\n",
    "    pnt.region.latlonaltbox = latlonaltbox\n",
    "    pnt.region.lod = lod1\n",
    "    pnt.coords = [(lon_b,lat_b)]\n",
    "    pnt.style = style\n",
    "    pol.style = style\n",
    "kml.save(\"222_扇区图层.kml\")\n",
    "print('ok1')"
   ]
  },
  {
   "cell_type": "code",
   "execution_count": null,
   "metadata": {},
   "outputs": [],
   "source": [
    "#---------找Polygon中标注名称位置的函数\n",
    "def _point_lon_lat(lon=114.198312,lat=30.630697,azimuth=0,radius=50):\n",
    "    res = Geodesic.WGS84.Direct(lat, lon, azimuth, radius)\n",
    "    lon= res['lon2']\n",
    "    lat= res['lat2']\n",
    "    return lon,lat\n",
    "#---------找lod的四个角\n",
    "def _lod_lon_lat(lon=114.198312,lat=30.630697,azimuth=45,azimuth1=225,radius=7000):#^^^^^^^设置视野\n",
    "    res = Geodesic.WGS84.Direct(lat, lon, azimuth, radius)\n",
    "    lon_1= res['lon2']\n",
    "    lat_1= res['lat2']\n",
    "    res1 = Geodesic.WGS84.Direct(lat, lon, azimuth1, radius)\n",
    "    lon_2= res1['lon2']\n",
    "    lat_2= res1['lat2']\n",
    "    return lon_1,lat_1,lon_2,lat_2\n",
    "#_lod_lon_lat()"
   ]
  },
  {
   "cell_type": "code",
   "execution_count": null,
   "metadata": {
    "scrolled": true
   },
   "outputs": [],
   "source": [
    "for i in range(len(row_table.index)):\n",
    "    row_1 = row_table.iloc[i,:]\n",
    "    df2 = row_1.filter(regex=\"[^geometry,^lonlat,^lod]\")\n",
    "    row_3 = row_1[[xiaoquming_b,'多边形','lod']]#+++++++++++++++++++++++++++++++++属性名称 + 做多边形的信息\n",
    "    xiaoqming,polygon1,lod = row_3\n",
    "    #-----------添加lod\n",
    "    lon,lat,lon1,lat1=row_1['lod']\n",
    "    latlonaltbox = simplekml.LatLonAltBox(east =lon ,north=lat ,south=lat1 ,west=lon1,\n",
    "                                          minaltitude=None, maxaltitude=None, altitudemode=None)\n",
    "#     lod = simplekml.Lod(minlodpixels=1000, maxlodpixels=-1,minfadeextent=None, maxfadeextent=None)\n",
    "#     rgn = simplekml.Region(latlonaltbox,lod)\n",
    "    #---------建立扇区\n",
    "    pol = polf.newpolygon(name=xiaoqming)#,description = biaozhu_r\n",
    "    pol.region.latlonaltbox = latlonaltbox\n",
    "    pol.region.lod = lod1\n",
    "    pol.outerboundaryis =list(polygon1.exterior.coords) # polygon_1 是一个扇区\n",
    "    #lieming = row_1[['小区中文名','空口上下行业务字节数KByte']]#^^^^^^标注可选择，不选则全部\n",
    "    lie_ming=list(df2.index)\n",
    "    for i in lie_ming: #^^^^^^可选去掉不加标注\n",
    "        pol.extendeddata.schemadata.newsimpledata(i,df2[i])\n",
    "    pol.extrude = 1       #高度需添加\n",
    "    pol.altitudemode = simplekml.AltitudeMode.relativetoground#高度需添加\n",
    "    #pol.snippet.maxlines = 1 #名字下面的间隔\n",
    "    #pol.snippet.content = \"名字下面的文字\"\n",
    "    pol.style = style\n",
    "    #------------标注名称\n",
    "    lon,lat=row_1['lonlat']\n",
    "    pnt = poif.newpoint(name=xiaoqming )\n",
    "    pnt.region.latlonaltbox = latlonaltbox\n",
    "    pnt.region.lod = lod1\n",
    "    pnt.coords = [(lon,lat)]\n",
    "    pnt.style = style\n",
    "\n",
    "kml.save(a.split(\".\")[0]+\"_扇区图层\"+\".kml\")\n",
    "print('ok1')"
   ]
  }
 ],
 "metadata": {
  "kernelspec": {
   "display_name": "Python 3",
   "language": "python",
   "name": "python3"
  },
  "language_info": {
   "codemirror_mode": {
    "name": "ipython",
    "version": 3
   },
   "file_extension": ".py",
   "mimetype": "text/x-python",
   "name": "python",
   "nbconvert_exporter": "python",
   "pygments_lexer": "ipython3",
   "version": "3.7.4"
  }
 },
 "nbformat": 4,
 "nbformat_minor": 2
}
