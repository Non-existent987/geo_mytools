{
 "cells": [
  {
   "cell_type": "code",
   "execution_count": 1,
   "metadata": {
    "ExecuteTime": {
     "end_time": "2020-09-03T09:51:54.739046Z",
     "start_time": "2020-09-03T09:51:54.566024Z"
    }
   },
   "outputs": [],
   "source": [
    "%load_ext autoreload\n",
    "%autoreload 2"
   ]
  },
  {
   "cell_type": "code",
   "execution_count": 2,
   "metadata": {
    "ExecuteTime": {
     "end_time": "2020-09-03T09:51:56.224235Z",
     "start_time": "2020-09-03T09:51:55.153599Z"
    }
   },
   "outputs": [],
   "source": [
    "import pandas as pd\n",
    "import mytools\n",
    "import re"
   ]
  },
  {
   "cell_type": "code",
   "execution_count": 3,
   "metadata": {
    "ExecuteTime": {
     "end_time": "2020-09-03T09:52:23.139153Z",
     "start_time": "2020-09-03T09:52:06.838583Z"
    }
   },
   "outputs": [],
   "source": [
    "data_excel = pd.ExcelFile('G:/1-规划/崔开通崔可研规划/2020年任务清单/20200903/2020年任务清单（场景+MR）0903.xlsx')"
   ]
  },
  {
   "cell_type": "code",
   "execution_count": 4,
   "metadata": {
    "ExecuteTime": {
     "end_time": "2020-09-03T09:52:25.177411Z",
     "start_time": "2020-09-03T09:52:23.409687Z"
    }
   },
   "outputs": [],
   "source": [
    "data = data_excel.parse(sheet_name=data_excel.sheet_names[0])"
   ]
  },
  {
   "cell_type": "code",
   "execution_count": 5,
   "metadata": {
    "ExecuteTime": {
     "end_time": "2020-09-03T09:52:25.849997Z",
     "start_time": "2020-09-03T09:52:25.529956Z"
    }
   },
   "outputs": [],
   "source": [
    "data['TDL规划站号（新）'] = data['TDL规划站号（新）'].fillna('无')"
   ]
  },
  {
   "cell_type": "code",
   "execution_count": 6,
   "metadata": {
    "ExecuteTime": {
     "end_time": "2020-09-03T09:52:26.542585Z",
     "start_time": "2020-09-03T09:52:26.198041Z"
    }
   },
   "outputs": [],
   "source": [
    "qingdan_yuan = data.loc[data['分类']=='2020年5月新任务清单']"
   ]
  },
  {
   "cell_type": "markdown",
   "metadata": {},
   "source": [
    "# -------全网进度--------\n",
    "## 优化进度"
   ]
  },
  {
   "cell_type": "code",
   "execution_count": 7,
   "metadata": {
    "ExecuteTime": {
     "end_time": "2020-09-03T09:52:27.238673Z",
     "start_time": "2020-09-03T09:52:26.914632Z"
    }
   },
   "outputs": [],
   "source": [
    "qingdan = qingdan_yuan.copy()"
   ]
  },
  {
   "cell_type": "code",
   "execution_count": 8,
   "metadata": {
    "ExecuteTime": {
     "end_time": "2020-09-03T09:52:28.003270Z",
     "start_time": "2020-09-03T09:52:27.642724Z"
    }
   },
   "outputs": [],
   "source": [
    "# 优化总点youhua_z，优化完成youhua_w，\n",
    "youhua_z = qingdan.loc[(qingdan['优化']=='优化')]['唯一编号'].count()\n",
    "youhua_p = qingdan.loc[(qingdan['优化']=='优化') & (qingdan['优化已派发']==1)]['唯一编号'].count()\n",
    "youhua_w = qingdan.loc[(qingdan['优化']=='优化') & (qingdan['优化已派发']==1)& (qingdan['优化完成']==1)]['唯一编号'].count()"
   ]
  },
  {
   "cell_type": "code",
   "execution_count": 9,
   "metadata": {
    "ExecuteTime": {
     "end_time": "2020-09-03T09:52:28.731863Z",
     "start_time": "2020-09-03T09:52:28.409322Z"
    }
   },
   "outputs": [],
   "source": [
    "#youhua已经df，优化完成df\n",
    "youhua_data_z = qingdan.loc[(qingdan['优化']=='优化') ]\n",
    "youhua_data_p = qingdan.loc[(qingdan['优化']=='优化') & (qingdan['优化已派发']==1)]\n",
    "youhua_data_w = qingdan.loc[(qingdan['优化']=='优化') & (qingdan['优化已派发']==1) & (qingdan['优化完成']==1)]"
   ]
  },
  {
   "cell_type": "code",
   "execution_count": 10,
   "metadata": {
    "ExecuteTime": {
     "end_time": "2020-09-03T09:52:29.508961Z",
     "start_time": "2020-09-03T09:52:29.191921Z"
    }
   },
   "outputs": [],
   "source": [
    "#地市的完成数量y_w，地市的派发总数量y_z\n",
    "y_z = youhua_data_z.groupby(by = '地市').agg({'唯一编号':'count'})\n",
    "y_w = youhua_data_w.groupby(by = '地市').agg({'唯一编号':'count'})\n",
    "y_p = youhua_data_p.groupby(by = '地市').agg({'唯一编号':'count'})"
   ]
  },
  {
   "cell_type": "code",
   "execution_count": 11,
   "metadata": {
    "ExecuteTime": {
     "end_time": "2020-09-03T09:52:30.305063Z",
     "start_time": "2020-09-03T09:52:29.959019Z"
    }
   },
   "outputs": [],
   "source": [
    "# 统计每个地市的派发和完成\n",
    "youhuajindu=pd.concat([y_z,y_p,y_w],axis = 1)\n",
    "youhuajindu.columns = ['总量','派发','完成量']\n",
    "youhuajindu['完成派发进度'] = youhuajindu['完成量']/youhuajindu['派发']\n",
    "youhuajindu['整体进度'] = youhuajindu['完成量']/youhuajindu['总量']"
   ]
  },
  {
   "cell_type": "code",
   "execution_count": 12,
   "metadata": {
    "ExecuteTime": {
     "end_time": "2020-09-03T09:52:31.073160Z",
     "start_time": "2020-09-03T09:52:30.756120Z"
    }
   },
   "outputs": [],
   "source": [
    "#按照格式输出\n",
    "youhua_wanchengdugao=list(youhuajindu.sort_values(by=\"完成派发进度\",ascending= False).head(3).index)  #排序 升序True 降序False by列"
   ]
  },
  {
   "cell_type": "code",
   "execution_count": 13,
   "metadata": {
    "ExecuteTime": {
     "end_time": "2020-09-03T09:52:31.864260Z",
     "start_time": "2020-09-03T09:52:31.527718Z"
    }
   },
   "outputs": [
    {
     "data": {
      "text/plain": [
       "'MR竞对优化工单总计4313单。已派发1451已完成947解决率0.6526533425223984随州、襄阳、荆州派发工单解决率相对较高'"
      ]
     },
     "execution_count": 13,
     "metadata": {},
     "output_type": "execute_result"
    }
   ],
   "source": [
    "'MR竞对优化工单总计'+str(youhua_z)+'单。已派发'+str(youhua_p)+'已完成'+str(youhua_w)+ '解决率'+str(youhua_w/youhua_p)+ \\\n",
    "str(youhua_wanchengdugao[0])+'、'+str(youhua_wanchengdugao[1])+'、'+str(youhua_wanchengdugao[2])+'派发工单解决率相对较高'"
   ]
  },
  {
   "cell_type": "code",
   "execution_count": 14,
   "metadata": {
    "ExecuteTime": {
     "end_time": "2020-09-03T09:52:32.653861Z",
     "start_time": "2020-09-03T09:52:32.327819Z"
    },
    "scrolled": false
   },
   "outputs": [
    {
     "data": {
      "text/html": [
       "<div>\n",
       "<style scoped>\n",
       "    .dataframe tbody tr th:only-of-type {\n",
       "        vertical-align: middle;\n",
       "    }\n",
       "\n",
       "    .dataframe tbody tr th {\n",
       "        vertical-align: top;\n",
       "    }\n",
       "\n",
       "    .dataframe thead th {\n",
       "        text-align: right;\n",
       "    }\n",
       "</style>\n",
       "<table border=\"1\" class=\"dataframe\">\n",
       "  <thead>\n",
       "    <tr style=\"text-align: right;\">\n",
       "      <th></th>\n",
       "      <th>总量</th>\n",
       "      <th>派发</th>\n",
       "      <th>完成量</th>\n",
       "      <th>完成派发进度</th>\n",
       "      <th>整体进度</th>\n",
       "    </tr>\n",
       "    <tr>\n",
       "      <th>地市</th>\n",
       "      <th></th>\n",
       "      <th></th>\n",
       "      <th></th>\n",
       "      <th></th>\n",
       "      <th></th>\n",
       "    </tr>\n",
       "  </thead>\n",
       "  <tbody>\n",
       "    <tr>\n",
       "      <th>随州</th>\n",
       "      <td>115</td>\n",
       "      <td>59</td>\n",
       "      <td>49</td>\n",
       "      <td>0.830508</td>\n",
       "      <td>0.426087</td>\n",
       "    </tr>\n",
       "    <tr>\n",
       "      <th>襄阳</th>\n",
       "      <td>217</td>\n",
       "      <td>83</td>\n",
       "      <td>67</td>\n",
       "      <td>0.807229</td>\n",
       "      <td>0.308756</td>\n",
       "    </tr>\n",
       "    <tr>\n",
       "      <th>荆州</th>\n",
       "      <td>197</td>\n",
       "      <td>129</td>\n",
       "      <td>103</td>\n",
       "      <td>0.798450</td>\n",
       "      <td>0.522843</td>\n",
       "    </tr>\n",
       "    <tr>\n",
       "      <th>恩施</th>\n",
       "      <td>633</td>\n",
       "      <td>177</td>\n",
       "      <td>125</td>\n",
       "      <td>0.706215</td>\n",
       "      <td>0.197472</td>\n",
       "    </tr>\n",
       "    <tr>\n",
       "      <th>孝感</th>\n",
       "      <td>302</td>\n",
       "      <td>101</td>\n",
       "      <td>70</td>\n",
       "      <td>0.693069</td>\n",
       "      <td>0.231788</td>\n",
       "    </tr>\n",
       "    <tr>\n",
       "      <th>武汉</th>\n",
       "      <td>1077</td>\n",
       "      <td>315</td>\n",
       "      <td>218</td>\n",
       "      <td>0.692063</td>\n",
       "      <td>0.202414</td>\n",
       "    </tr>\n",
       "    <tr>\n",
       "      <th>天门</th>\n",
       "      <td>42</td>\n",
       "      <td>42</td>\n",
       "      <td>29</td>\n",
       "      <td>0.690476</td>\n",
       "      <td>0.690476</td>\n",
       "    </tr>\n",
       "    <tr>\n",
       "      <th>荆门</th>\n",
       "      <td>165</td>\n",
       "      <td>66</td>\n",
       "      <td>44</td>\n",
       "      <td>0.666667</td>\n",
       "      <td>0.266667</td>\n",
       "    </tr>\n",
       "    <tr>\n",
       "      <th>潜江</th>\n",
       "      <td>34</td>\n",
       "      <td>28</td>\n",
       "      <td>18</td>\n",
       "      <td>0.642857</td>\n",
       "      <td>0.529412</td>\n",
       "    </tr>\n",
       "    <tr>\n",
       "      <th>江汉</th>\n",
       "      <td>61</td>\n",
       "      <td>39</td>\n",
       "      <td>25</td>\n",
       "      <td>0.641026</td>\n",
       "      <td>0.409836</td>\n",
       "    </tr>\n",
       "    <tr>\n",
       "      <th>黄冈</th>\n",
       "      <td>506</td>\n",
       "      <td>140</td>\n",
       "      <td>88</td>\n",
       "      <td>0.628571</td>\n",
       "      <td>0.173913</td>\n",
       "    </tr>\n",
       "    <tr>\n",
       "      <th>十堰</th>\n",
       "      <td>46</td>\n",
       "      <td>42</td>\n",
       "      <td>25</td>\n",
       "      <td>0.595238</td>\n",
       "      <td>0.543478</td>\n",
       "    </tr>\n",
       "    <tr>\n",
       "      <th>鄂州</th>\n",
       "      <td>51</td>\n",
       "      <td>34</td>\n",
       "      <td>17</td>\n",
       "      <td>0.500000</td>\n",
       "      <td>0.333333</td>\n",
       "    </tr>\n",
       "    <tr>\n",
       "      <th>咸宁</th>\n",
       "      <td>496</td>\n",
       "      <td>108</td>\n",
       "      <td>43</td>\n",
       "      <td>0.398148</td>\n",
       "      <td>0.086694</td>\n",
       "    </tr>\n",
       "    <tr>\n",
       "      <th>宜昌</th>\n",
       "      <td>220</td>\n",
       "      <td>56</td>\n",
       "      <td>19</td>\n",
       "      <td>0.339286</td>\n",
       "      <td>0.086364</td>\n",
       "    </tr>\n",
       "    <tr>\n",
       "      <th>黄石</th>\n",
       "      <td>151</td>\n",
       "      <td>32</td>\n",
       "      <td>7</td>\n",
       "      <td>0.218750</td>\n",
       "      <td>0.046358</td>\n",
       "    </tr>\n",
       "  </tbody>\n",
       "</table>\n",
       "</div>"
      ],
      "text/plain": [
       "      总量   派发  完成量    完成派发进度      整体进度\n",
       "地市                                    \n",
       "随州   115   59   49  0.830508  0.426087\n",
       "襄阳   217   83   67  0.807229  0.308756\n",
       "荆州   197  129  103  0.798450  0.522843\n",
       "恩施   633  177  125  0.706215  0.197472\n",
       "孝感   302  101   70  0.693069  0.231788\n",
       "武汉  1077  315  218  0.692063  0.202414\n",
       "天门    42   42   29  0.690476  0.690476\n",
       "荆门   165   66   44  0.666667  0.266667\n",
       "潜江    34   28   18  0.642857  0.529412\n",
       "江汉    61   39   25  0.641026  0.409836\n",
       "黄冈   506  140   88  0.628571  0.173913\n",
       "十堰    46   42   25  0.595238  0.543478\n",
       "鄂州    51   34   17  0.500000  0.333333\n",
       "咸宁   496  108   43  0.398148  0.086694\n",
       "宜昌   220   56   19  0.339286  0.086364\n",
       "黄石   151   32    7  0.218750  0.046358"
      ]
     },
     "execution_count": 14,
     "metadata": {},
     "output_type": "execute_result"
    }
   ],
   "source": [
    "youhuajindu.sort_values(by=\"完成派发进度\",ascending= False)"
   ]
  },
  {
   "cell_type": "markdown",
   "metadata": {},
   "source": [
    "# 催开进度"
   ]
  },
  {
   "cell_type": "code",
   "execution_count": 15,
   "metadata": {
    "ExecuteTime": {
     "end_time": "2020-09-03T09:52:33.438960Z",
     "start_time": "2020-09-03T09:52:33.119920Z"
    }
   },
   "outputs": [],
   "source": [
    "qingdan = qingdan_yuan.copy()"
   ]
  },
  {
   "cell_type": "code",
   "execution_count": 16,
   "metadata": {
    "ExecuteTime": {
     "end_time": "2020-09-03T09:52:34.225060Z",
     "start_time": "2020-09-03T09:52:33.891018Z"
    }
   },
   "outputs": [],
   "source": [
    "# cuikai的数量统计\n",
    "cuikai_zdanzi = qingdan.loc[(qingdan['催开']=='催开') ]['唯一编号'].count()\n",
    "cuikai_z = qingdan.loc[(qingdan['催开']=='催开') ].drop_duplicates(subset='TDL规划站号（新）') ['唯一编号'].count()\n",
    "cuikai_w = qingdan.loc[(\n",
    "    qingdan['催开']=='催开') & (qingdan['催开完成']==1) ].drop_duplicates(subset='TDL规划站号（新）') ['唯一编号'].count()"
   ]
  },
  {
   "cell_type": "code",
   "execution_count": 17,
   "metadata": {
    "ExecuteTime": {
     "end_time": "2020-09-03T09:52:35.010660Z",
     "start_time": "2020-09-03T09:52:34.681618Z"
    }
   },
   "outputs": [],
   "source": [
    "#催开总量和完成的df\n",
    "cuikai_quchong = qingdan.loc[(qingdan['催开']=='催开') ].drop_duplicates(subset='TDL规划站号（新）') \n",
    "cuikai_quchong_wancheng = qingdan.loc[(\n",
    "    qingdan['催开']=='催开') & (qingdan['催开完成']==1) ].drop_duplicates(subset='TDL规划站号（新）') "
   ]
  },
  {
   "cell_type": "code",
   "execution_count": 18,
   "metadata": {
    "ExecuteTime": {
     "end_time": "2020-09-03T09:52:35.814262Z",
     "start_time": "2020-09-03T09:52:35.495222Z"
    }
   },
   "outputs": [],
   "source": [
    "#个地市的进度\n",
    "cuikai_zongliang = cuikai_quchong.groupby(by = '地市').agg({'唯一编号':'count'})\n",
    "cuikai_wanchengliang = cuikai_quchong_wancheng.groupby(by = '地市').agg({'唯一编号':'count'})\n",
    "cuikaijindu=pd.concat([cuikai_zongliang,cuikai_wanchengliang],axis = 1)\n",
    "cuikaijindu.columns = ['总量','完成量']\n",
    "cuikaijindu['进度'] = cuikaijindu['完成量']/cuikaijindu['总量']"
   ]
  },
  {
   "cell_type": "code",
   "execution_count": 19,
   "metadata": {
    "ExecuteTime": {
     "end_time": "2020-09-03T09:52:36.627865Z",
     "start_time": "2020-09-03T09:52:36.300324Z"
    }
   },
   "outputs": [
    {
     "data": {
      "text/plain": [
       "'催开工单共2827单，涉及逻辑站点1760个，已开通站点867个(本月新增201个），催开完成率为49.26%。荆门地市整体解决进度较慢，主要为5月前完成-2020年湖北无线网4G主设备扩容工程第一批未开通占比较高，需加快站点建设进度。已催开工单整体MR覆盖率改善2.60pp，对全网劣于竞对小区占比指标改善5.26pp。'"
      ]
     },
     "execution_count": 19,
     "metadata": {},
     "output_type": "execute_result"
    }
   ],
   "source": [
    "cuikai_wanchengdudi=list(cuikaijindu.sort_values(by=\"进度\",ascending= True).head(1).index)  #排序 升序True 降序False by列\n",
    "a=cuikai_wanchengdudi[0]\n",
    "jindudi=cuikai_quchong.loc[(cuikai_quchong['地市']==a) & (cuikai_quchong['催开完成']!=1)\n",
    "                          ].groupby(by='工期核实').agg({'唯一编号':'count'}).sort_values(by=\"唯一编号\",ascending= False).head(1).index\n",
    "'催开工单共'+str(cuikai_zdanzi)+'单，涉及逻辑站\\\n",
    "点'+str(cuikai_z)+'个，已开通站点'+str(cuikai_w)+'个(本月新增201个），催开完成率\\\n",
    "为'+str(cuikai_w/cuikai_z*100)[:5]+'%'+'。'+cuikai_wanchengdudi[0]+'地市整体解决进度较慢，主要为'+jindudi[0]+'未开通占比较\\\n",
    "高，需加快站点建设进度。'+'已催开工单整体MR覆盖率改善2.60pp，对全网劣于竞对小区占比指标改善5.26pp。'"
   ]
  },
  {
   "cell_type": "code",
   "execution_count": 20,
   "metadata": {
    "ExecuteTime": {
     "end_time": "2020-09-03T09:52:37.473973Z",
     "start_time": "2020-09-03T09:52:37.139430Z"
    }
   },
   "outputs": [
    {
     "data": {
      "text/html": [
       "<div>\n",
       "<style scoped>\n",
       "    .dataframe tbody tr th:only-of-type {\n",
       "        vertical-align: middle;\n",
       "    }\n",
       "\n",
       "    .dataframe tbody tr th {\n",
       "        vertical-align: top;\n",
       "    }\n",
       "\n",
       "    .dataframe thead th {\n",
       "        text-align: right;\n",
       "    }\n",
       "</style>\n",
       "<table border=\"1\" class=\"dataframe\">\n",
       "  <thead>\n",
       "    <tr style=\"text-align: right;\">\n",
       "      <th></th>\n",
       "      <th>总量</th>\n",
       "      <th>完成量</th>\n",
       "      <th>进度</th>\n",
       "    </tr>\n",
       "    <tr>\n",
       "      <th>地市</th>\n",
       "      <th></th>\n",
       "      <th></th>\n",
       "      <th></th>\n",
       "    </tr>\n",
       "  </thead>\n",
       "  <tbody>\n",
       "    <tr>\n",
       "      <th>荆门</th>\n",
       "      <td>55</td>\n",
       "      <td>12</td>\n",
       "      <td>0.218182</td>\n",
       "    </tr>\n",
       "    <tr>\n",
       "      <th>天门</th>\n",
       "      <td>27</td>\n",
       "      <td>6</td>\n",
       "      <td>0.222222</td>\n",
       "    </tr>\n",
       "    <tr>\n",
       "      <th>潜江</th>\n",
       "      <td>8</td>\n",
       "      <td>2</td>\n",
       "      <td>0.250000</td>\n",
       "    </tr>\n",
       "    <tr>\n",
       "      <th>咸宁</th>\n",
       "      <td>170</td>\n",
       "      <td>48</td>\n",
       "      <td>0.282353</td>\n",
       "    </tr>\n",
       "    <tr>\n",
       "      <th>恩施</th>\n",
       "      <td>129</td>\n",
       "      <td>39</td>\n",
       "      <td>0.302326</td>\n",
       "    </tr>\n",
       "    <tr>\n",
       "      <th>鄂州</th>\n",
       "      <td>18</td>\n",
       "      <td>6</td>\n",
       "      <td>0.333333</td>\n",
       "    </tr>\n",
       "    <tr>\n",
       "      <th>黄石</th>\n",
       "      <td>97</td>\n",
       "      <td>36</td>\n",
       "      <td>0.371134</td>\n",
       "    </tr>\n",
       "    <tr>\n",
       "      <th>荆州</th>\n",
       "      <td>101</td>\n",
       "      <td>41</td>\n",
       "      <td>0.405941</td>\n",
       "    </tr>\n",
       "    <tr>\n",
       "      <th>随州</th>\n",
       "      <td>53</td>\n",
       "      <td>23</td>\n",
       "      <td>0.433962</td>\n",
       "    </tr>\n",
       "    <tr>\n",
       "      <th>黄冈</th>\n",
       "      <td>134</td>\n",
       "      <td>59</td>\n",
       "      <td>0.440299</td>\n",
       "    </tr>\n",
       "    <tr>\n",
       "      <th>孝感</th>\n",
       "      <td>108</td>\n",
       "      <td>59</td>\n",
       "      <td>0.546296</td>\n",
       "    </tr>\n",
       "    <tr>\n",
       "      <th>襄阳</th>\n",
       "      <td>93</td>\n",
       "      <td>52</td>\n",
       "      <td>0.559140</td>\n",
       "    </tr>\n",
       "    <tr>\n",
       "      <th>十堰</th>\n",
       "      <td>96</td>\n",
       "      <td>56</td>\n",
       "      <td>0.583333</td>\n",
       "    </tr>\n",
       "    <tr>\n",
       "      <th>武汉</th>\n",
       "      <td>545</td>\n",
       "      <td>326</td>\n",
       "      <td>0.598165</td>\n",
       "    </tr>\n",
       "    <tr>\n",
       "      <th>江汉</th>\n",
       "      <td>27</td>\n",
       "      <td>19</td>\n",
       "      <td>0.703704</td>\n",
       "    </tr>\n",
       "    <tr>\n",
       "      <th>宜昌</th>\n",
       "      <td>99</td>\n",
       "      <td>83</td>\n",
       "      <td>0.838384</td>\n",
       "    </tr>\n",
       "  </tbody>\n",
       "</table>\n",
       "</div>"
      ],
      "text/plain": [
       "     总量  完成量        进度\n",
       "地市                    \n",
       "荆门   55   12  0.218182\n",
       "天门   27    6  0.222222\n",
       "潜江    8    2  0.250000\n",
       "咸宁  170   48  0.282353\n",
       "恩施  129   39  0.302326\n",
       "鄂州   18    6  0.333333\n",
       "黄石   97   36  0.371134\n",
       "荆州  101   41  0.405941\n",
       "随州   53   23  0.433962\n",
       "黄冈  134   59  0.440299\n",
       "孝感  108   59  0.546296\n",
       "襄阳   93   52  0.559140\n",
       "十堰   96   56  0.583333\n",
       "武汉  545  326  0.598165\n",
       "江汉   27   19  0.703704\n",
       "宜昌   99   83  0.838384"
      ]
     },
     "execution_count": 20,
     "metadata": {},
     "output_type": "execute_result"
    }
   ],
   "source": [
    "cuikaijindu.sort_values(by=\"进度\",ascending= True)"
   ]
  },
  {
   "cell_type": "code",
   "execution_count": 21,
   "metadata": {
    "ExecuteTime": {
     "end_time": "2020-09-03T09:52:38.380088Z",
     "start_time": "2020-09-03T09:52:37.968036Z"
    }
   },
   "outputs": [],
   "source": [
    "cuikai_quchong.to_clipboard()"
   ]
  },
  {
   "cell_type": "markdown",
   "metadata": {},
   "source": [
    "# 可研进度"
   ]
  },
  {
   "cell_type": "code",
   "execution_count": 22,
   "metadata": {
    "ExecuteTime": {
     "end_time": "2020-09-03T09:52:39.202192Z",
     "start_time": "2020-09-03T09:52:38.882652Z"
    }
   },
   "outputs": [],
   "source": [
    "qingdan = qingdan_yuan.copy()"
   ]
  },
  {
   "cell_type": "code",
   "execution_count": 23,
   "metadata": {
    "ExecuteTime": {
     "end_time": "2020-09-03T09:52:40.037798Z",
     "start_time": "2020-09-03T09:52:39.698255Z"
    }
   },
   "outputs": [],
   "source": [
    "keyan_zdanzi = qingdan.loc[(qingdan['催可研']=='可研') ]['唯一编号'].count()\n",
    "keyan_z = qingdan.loc[(qingdan['催可研']=='可研') ].drop_duplicates(subset='TDL规划站号（新）') ['唯一编号'].count()\n",
    "keyan_w = qingdan.loc[(\n",
    "    qingdan['催可研']=='可研') & (qingdan['可研完成']==1) ].drop_duplicates(subset='TDL规划站号（新）') ['唯一编号'].count()"
   ]
  },
  {
   "cell_type": "code",
   "execution_count": 24,
   "metadata": {
    "ExecuteTime": {
     "end_time": "2020-09-03T09:52:40.856402Z",
     "start_time": "2020-09-03T09:52:40.535362Z"
    }
   },
   "outputs": [
    {
     "data": {
      "text/plain": [
       "'催可研工单共2029单，涉及1243个逻辑站点工期催研，目前累计784个站点已纳入工期，入研进度为63.07%。'"
      ]
     },
     "execution_count": 24,
     "metadata": {},
     "output_type": "execute_result"
    }
   ],
   "source": [
    "'催可研工单共'+str(keyan_zdanzi)+'单，涉及'+str(keyan_z)+'个逻辑站点工期催研，目前累\\\n",
    "计'+str(keyan_w)+'个站点已纳入工期，入研进度为'+str(keyan_w/keyan_z*100)[:5]+'%。'"
   ]
  },
  {
   "cell_type": "code",
   "execution_count": 25,
   "metadata": {
    "ExecuteTime": {
     "end_time": "2020-09-03T09:52:41.680007Z",
     "start_time": "2020-09-03T09:52:41.351465Z"
    }
   },
   "outputs": [],
   "source": [
    "#可研总量和完成的df\n",
    "keyan_quchong = qingdan.loc[(qingdan['催可研']=='可研') ].drop_duplicates(subset='TDL规划站号（新）') \n",
    "keyan_quchong_wancheng = qingdan.loc[(\n",
    "    qingdan['催可研']=='可研') & (qingdan['可研完成']==1) ].drop_duplicates(subset='TDL规划站号（新）') "
   ]
  },
  {
   "cell_type": "code",
   "execution_count": 26,
   "metadata": {
    "ExecuteTime": {
     "end_time": "2020-09-03T09:52:42.556118Z",
     "start_time": "2020-09-03T09:52:42.221576Z"
    }
   },
   "outputs": [],
   "source": [
    "#个地市的进度\n",
    "keyan_zongliang = keyan_quchong.groupby(by = '地市').agg({'唯一编号':'count'})\n",
    "keyan_wanchengliang = keyan_quchong_wancheng.groupby(by = '地市').agg({'唯一编号':'count'})\n",
    "keyanjindu=pd.concat([keyan_zongliang,keyan_wanchengliang],axis = 1)\n",
    "keyanjindu.columns = ['总量','完成量']\n",
    "keyanjindu['进度'] = keyanjindu['完成量']/keyanjindu['总量']"
   ]
  },
  {
   "cell_type": "code",
   "execution_count": 27,
   "metadata": {
    "ExecuteTime": {
     "end_time": "2020-09-03T09:52:43.418228Z",
     "start_time": "2020-09-03T09:52:43.100687Z"
    }
   },
   "outputs": [
    {
     "data": {
      "text/html": [
       "<div>\n",
       "<style scoped>\n",
       "    .dataframe tbody tr th:only-of-type {\n",
       "        vertical-align: middle;\n",
       "    }\n",
       "\n",
       "    .dataframe tbody tr th {\n",
       "        vertical-align: top;\n",
       "    }\n",
       "\n",
       "    .dataframe thead th {\n",
       "        text-align: right;\n",
       "    }\n",
       "</style>\n",
       "<table border=\"1\" class=\"dataframe\">\n",
       "  <thead>\n",
       "    <tr style=\"text-align: right;\">\n",
       "      <th></th>\n",
       "      <th>总量</th>\n",
       "      <th>完成量</th>\n",
       "      <th>进度</th>\n",
       "    </tr>\n",
       "    <tr>\n",
       "      <th>地市</th>\n",
       "      <th></th>\n",
       "      <th></th>\n",
       "      <th></th>\n",
       "    </tr>\n",
       "  </thead>\n",
       "  <tbody>\n",
       "    <tr>\n",
       "      <th>十堰</th>\n",
       "      <td>104</td>\n",
       "      <td>47</td>\n",
       "      <td>0.451923</td>\n",
       "    </tr>\n",
       "    <tr>\n",
       "      <th>咸宁</th>\n",
       "      <td>200</td>\n",
       "      <td>127</td>\n",
       "      <td>0.635000</td>\n",
       "    </tr>\n",
       "    <tr>\n",
       "      <th>天门</th>\n",
       "      <td>27</td>\n",
       "      <td>22</td>\n",
       "      <td>0.814815</td>\n",
       "    </tr>\n",
       "    <tr>\n",
       "      <th>孝感</th>\n",
       "      <td>85</td>\n",
       "      <td>55</td>\n",
       "      <td>0.647059</td>\n",
       "    </tr>\n",
       "    <tr>\n",
       "      <th>宜昌</th>\n",
       "      <td>75</td>\n",
       "      <td>14</td>\n",
       "      <td>0.186667</td>\n",
       "    </tr>\n",
       "    <tr>\n",
       "      <th>恩施</th>\n",
       "      <td>102</td>\n",
       "      <td>79</td>\n",
       "      <td>0.774510</td>\n",
       "    </tr>\n",
       "    <tr>\n",
       "      <th>武汉</th>\n",
       "      <td>111</td>\n",
       "      <td>101</td>\n",
       "      <td>0.909910</td>\n",
       "    </tr>\n",
       "    <tr>\n",
       "      <th>江汉</th>\n",
       "      <td>18</td>\n",
       "      <td>15</td>\n",
       "      <td>0.833333</td>\n",
       "    </tr>\n",
       "    <tr>\n",
       "      <th>潜江</th>\n",
       "      <td>6</td>\n",
       "      <td>3</td>\n",
       "      <td>0.500000</td>\n",
       "    </tr>\n",
       "    <tr>\n",
       "      <th>荆州</th>\n",
       "      <td>92</td>\n",
       "      <td>63</td>\n",
       "      <td>0.684783</td>\n",
       "    </tr>\n",
       "    <tr>\n",
       "      <th>荆门</th>\n",
       "      <td>51</td>\n",
       "      <td>40</td>\n",
       "      <td>0.784314</td>\n",
       "    </tr>\n",
       "    <tr>\n",
       "      <th>襄阳</th>\n",
       "      <td>55</td>\n",
       "      <td>42</td>\n",
       "      <td>0.763636</td>\n",
       "    </tr>\n",
       "    <tr>\n",
       "      <th>鄂州</th>\n",
       "      <td>22</td>\n",
       "      <td>12</td>\n",
       "      <td>0.545455</td>\n",
       "    </tr>\n",
       "    <tr>\n",
       "      <th>随州</th>\n",
       "      <td>34</td>\n",
       "      <td>28</td>\n",
       "      <td>0.823529</td>\n",
       "    </tr>\n",
       "    <tr>\n",
       "      <th>黄冈</th>\n",
       "      <td>167</td>\n",
       "      <td>64</td>\n",
       "      <td>0.383234</td>\n",
       "    </tr>\n",
       "    <tr>\n",
       "      <th>黄石</th>\n",
       "      <td>94</td>\n",
       "      <td>72</td>\n",
       "      <td>0.765957</td>\n",
       "    </tr>\n",
       "  </tbody>\n",
       "</table>\n",
       "</div>"
      ],
      "text/plain": [
       "     总量  完成量        进度\n",
       "地市                    \n",
       "十堰  104   47  0.451923\n",
       "咸宁  200  127  0.635000\n",
       "天门   27   22  0.814815\n",
       "孝感   85   55  0.647059\n",
       "宜昌   75   14  0.186667\n",
       "恩施  102   79  0.774510\n",
       "武汉  111  101  0.909910\n",
       "江汉   18   15  0.833333\n",
       "潜江    6    3  0.500000\n",
       "荆州   92   63  0.684783\n",
       "荆门   51   40  0.784314\n",
       "襄阳   55   42  0.763636\n",
       "鄂州   22   12  0.545455\n",
       "随州   34   28  0.823529\n",
       "黄冈  167   64  0.383234\n",
       "黄石   94   72  0.765957"
      ]
     },
     "execution_count": 27,
     "metadata": {},
     "output_type": "execute_result"
    }
   ],
   "source": [
    "keyanjindu"
   ]
  },
  {
   "cell_type": "markdown",
   "metadata": {},
   "source": [
    "# 规划进度"
   ]
  },
  {
   "cell_type": "code",
   "execution_count": 28,
   "metadata": {
    "ExecuteTime": {
     "end_time": "2020-09-03T09:52:44.283338Z",
     "start_time": "2020-09-03T09:52:43.964297Z"
    }
   },
   "outputs": [],
   "source": [
    "qingdan = qingdan_yuan.copy()"
   ]
  },
  {
   "cell_type": "code",
   "execution_count": 29,
   "metadata": {
    "ExecuteTime": {
     "end_time": "2020-09-03T09:52:45.153448Z",
     "start_time": "2020-09-03T09:52:44.826406Z"
    }
   },
   "outputs": [
    {
     "data": {
      "text/plain": [
       "'需规划解决工单共6492单，目前累计完成2604个问题工单规划衔接，规划完成比例40.11%。'"
      ]
     },
     "execution_count": 29,
     "metadata": {},
     "output_type": "execute_result"
    }
   ],
   "source": [
    "guihua_zdanzi = qingdan.loc[(qingdan['规划']=='规划') ]['唯一编号'].count()\n",
    "guihua_w = qingdan.loc[(qingdan['规划']=='规划') & (qingdan['规划完成']==1) ]['唯一编号'].count()\n",
    "'需规划解决工单共'+str(guihua_zdanzi)+'单，目前累计完成'+str(guihua_w)+'个问题工单规划衔接，规\\\n",
    "划完成比例'+str(guihua_w/guihua_zdanzi*100)[:5]+'%。'"
   ]
  },
  {
   "cell_type": "code",
   "execution_count": 30,
   "metadata": {
    "ExecuteTime": {
     "end_time": "2020-09-03T09:52:46.018558Z",
     "start_time": "2020-09-03T09:52:45.693017Z"
    }
   },
   "outputs": [],
   "source": [
    "#规划总量和完成的df\n",
    "guihua_quchong = qingdan.loc[(qingdan['规划']=='规划') ]\n",
    "guihua_quchong_wancheng = qingdan.loc[(qingdan['规划']=='规划') & (qingdan['规划完成']==1) ]"
   ]
  },
  {
   "cell_type": "code",
   "execution_count": 31,
   "metadata": {
    "ExecuteTime": {
     "end_time": "2020-09-03T09:52:46.920172Z",
     "start_time": "2020-09-03T09:52:46.602632Z"
    }
   },
   "outputs": [],
   "source": [
    "#个地市的进度\n",
    "guihua_zongliang = guihua_quchong.groupby(by = '地市').agg({'唯一编号':'count'})\n",
    "guihua_wanchengliang = guihua_quchong_wancheng.groupby(by = '地市').agg({'唯一编号':'count'})\n",
    "guihuajindu=pd.concat([guihua_zongliang,guihua_wanchengliang],axis = 1)\n",
    "guihuajindu.columns = ['总量','完成量']\n",
    "guihuajindu['进度'] = guihuajindu['完成量']/guihuajindu['总量']"
   ]
  },
  {
   "cell_type": "markdown",
   "metadata": {},
   "source": [
    "# ---------周进度----------"
   ]
  },
  {
   "cell_type": "code",
   "execution_count": 36,
   "metadata": {
    "ExecuteTime": {
     "end_time": "2020-09-03T09:53:07.257755Z",
     "start_time": "2020-09-03T09:53:06.942215Z"
    }
   },
   "outputs": [],
   "source": [
    "line = '''\n",
    "1.针对2020年的MR竞对覆盖提升清单，总任务量共计12009个。\n",
    " 规（小区）/优（小区）/研（站点）/建（站点）分别为6492/ 4313/ 1245/1716,\n",
    " 本周新增分别为0/7/0/11，累计已完成2510（38.66%）/ 944（21.89%）/ 763（61.29%）/ 838（48.83%）。\n",
    " '''"
   ]
  },
  {
   "cell_type": "code",
   "execution_count": 37,
   "metadata": {
    "ExecuteTime": {
     "end_time": "2020-09-03T09:53:12.178380Z",
     "start_time": "2020-09-03T09:53:11.856839Z"
    }
   },
   "outputs": [],
   "source": [
    "keyanjindu.columns = ['总量',  '完成量', '可研进度']\n",
    "keyanjindu1=keyanjindu[['可研进度']]\n",
    "cuikaijindu.columns = ['总量',  '完成量', '催开进度']\n",
    "cuikaijindu1=cuikaijindu[['催开进度']]\n",
    "youhuajindu.columns = ['总量', '派发量', '完成量','完成派发进度', '优化进度']\n",
    "youhuajindu1=youhuajindu[['优化进度']]\n",
    "guihuajindu.columns = ['总量', '完成量', '规划进度']\n",
    "guihuajindu1=guihuajindu[['规划进度']]\n",
    "data_z = pd.concat([youhuajindu1,cuikaijindu1,keyanjindu1,guihuajindu1],axis=1)"
   ]
  },
  {
   "cell_type": "code",
   "execution_count": 38,
   "metadata": {
    "ExecuteTime": {
     "end_time": "2020-09-03T09:53:13.088995Z",
     "start_time": "2020-09-03T09:53:12.774955Z"
    }
   },
   "outputs": [],
   "source": [
    "pattern = re.compile(r'.*累计已完成(\\d*).*/ (\\d*).*/ (\\d*).*/ (\\d*).*')                    # 用于匹配至少一个数字\n",
    "m = pattern.search(line) \n",
    "g_s = m.group(1)\n",
    "y_s = m.group(2)\n",
    "k_s = m.group(3)\n",
    "j_s = m.group(4)\n",
    "gui = guihua_w-int(g_s)\n",
    "you = youhua_w-int(y_s)\n",
    "yan = keyan_w-int(k_s)\n",
    "jian = cuikai_w-int(j_s)"
   ]
  },
  {
   "cell_type": "code",
   "execution_count": 39,
   "metadata": {
    "ExecuteTime": {
     "end_time": "2020-09-03T09:53:13.992110Z",
     "start_time": "2020-09-03T09:53:13.680070Z"
    }
   },
   "outputs": [
    {
     "data": {
      "text/plain": [
       "(94, 3, 21, 29)"
      ]
     },
     "execution_count": 39,
     "metadata": {},
     "output_type": "execute_result"
    }
   ],
   "source": [
    "gui,you,yan,jian"
   ]
  },
  {
   "cell_type": "code",
   "execution_count": 40,
   "metadata": {
    "ExecuteTime": {
     "end_time": "2020-09-03T09:53:16.743459Z",
     "start_time": "2020-09-03T09:53:16.422919Z"
    },
    "scrolled": true
   },
   "outputs": [
    {
     "name": "stdout",
     "output_type": "stream",
     "text": [
      "1.针对2020年的MR竞对覆盖提升清单，总任务量共计12009个。\n",
      " 规（小区）/优（小区）/研（站点）/建（站点）分别为6492/ 4313/ 1243/1760,\n",
      " 本周新增分别为94/3/21/29，累计已完成2604（40.11%）/ 947（21.96%）/ 784（63.07%）/ 867（49.26%）。\n"
     ]
    }
   ],
   "source": [
    "print('1.针对2020年的MR竞对覆盖提升清单，总任务量共计12009个。\\n \\\n",
    "规（小区）/优（小区）/研（站点）/建（站点）分别为{g}/ {y}/ {k}/{j},\\n \\\n",
    "本周新增分别为{gui}/{you}/{yan}/{jian}，累计已完成{g_w}（{gui_b}%）/ {y_w}（{you_b}%）/ {ky_w}（{yan_b}%）/ {c_w}（{jian_b}%）。'.format(\n",
    "    g_w=str(guihua_w),ky_w=str(keyan_w),c_w =str(cuikai_w),y_w = str(youhua_w) ,g=str(guihua_zdanzi),\n",
    "    y=str(youhua_z),k=str(keyan_z),j=str(cuikai_z),gui=gui  ,you= you ,yan= yan ,jian = jian ,\n",
    "    gui_b=round(guihua_w/guihua_zdanzi*100,2),\n",
    "    you_b=round(youhua_w/youhua_z*100,2),\n",
    "    yan_b=round(keyan_w/keyan_z*100,2),\n",
    "    jian_b=round(cuikai_w/cuikai_z*100,2)\n",
    "))"
   ]
  },
  {
   "cell_type": "markdown",
   "metadata": {},
   "source": [
    "# ------------武汉竞对及MR分析----------------\n",
    "### 优化"
   ]
  },
  {
   "cell_type": "code",
   "execution_count": null,
   "metadata": {
    "ExecuteTime": {
     "end_time": "2020-08-25T07:07:08.272020Z",
     "start_time": "2020-08-25T07:07:07.972482Z"
    }
   },
   "outputs": [],
   "source": [
    "qingdan_y = qingdan_yuan.copy()\n",
    "qingdan_y = qingdan_y.loc[qingdan_y['地市']=='武汉']\n",
    "qingdan = qingdan_y.loc[qingdan_y['地市']=='武汉']"
   ]
  },
  {
   "cell_type": "code",
   "execution_count": null,
   "metadata": {
    "ExecuteTime": {
     "end_time": "2020-08-25T07:07:09.172635Z",
     "start_time": "2020-08-25T07:07:08.870096Z"
    }
   },
   "outputs": [],
   "source": [
    "qingdan.columns"
   ]
  },
  {
   "cell_type": "code",
   "execution_count": null,
   "metadata": {
    "ExecuteTime": {
     "end_time": "2020-08-25T07:07:10.047246Z",
     "start_time": "2020-08-25T07:07:09.763710Z"
    }
   },
   "outputs": [],
   "source": [
    "youhua_z = qingdan.loc[(qingdan['优化']=='优化')]['唯一编号'].count()\n",
    "youhua_p = qingdan.loc[(qingdan['优化']=='优化') & (qingdan['优化已派发']==1)]['唯一编号'].count()\n",
    "youhua_w = qingdan.loc[(qingdan['优化']=='优化') & (qingdan['优化已派发']==1)& (qingdan['优化完成']==1)]['唯一编号'].count()"
   ]
  },
  {
   "cell_type": "code",
   "execution_count": null,
   "metadata": {
    "ExecuteTime": {
     "end_time": "2020-08-25T07:07:10.903855Z",
     "start_time": "2020-08-25T07:07:10.627820Z"
    }
   },
   "outputs": [],
   "source": [
    "youhua_w"
   ]
  },
  {
   "cell_type": "code",
   "execution_count": null,
   "metadata": {
    "ExecuteTime": {
     "end_time": "2020-08-25T07:07:11.766964Z",
     "start_time": "2020-08-25T07:07:11.478428Z"
    }
   },
   "outputs": [],
   "source": [
    "youhua_data_z = qingdan.loc[(qingdan['优化']=='优化') ]\n",
    "youhua_data_p = qingdan.loc[(qingdan['优化']=='优化') & (qingdan['优化已派发']==1)]\n",
    "youhua_data_w = qingdan.loc[(qingdan['优化']=='优化') & (qingdan['优化已派发']==1) & (qingdan['优化完成']==1)]"
   ]
  },
  {
   "cell_type": "code",
   "execution_count": null,
   "metadata": {
    "ExecuteTime": {
     "end_time": "2020-08-25T07:07:12.644076Z",
     "start_time": "2020-08-25T07:07:12.353539Z"
    }
   },
   "outputs": [],
   "source": [
    "youhua_data_p.shape"
   ]
  },
  {
   "cell_type": "code",
   "execution_count": null,
   "metadata": {
    "ExecuteTime": {
     "end_time": "2020-08-25T07:07:13.508185Z",
     "start_time": "2020-08-25T07:07:13.219649Z"
    }
   },
   "outputs": [],
   "source": [
    "y_w = youhua_data_w.groupby(by = '区县').agg({'唯一编号':'count'})\n",
    "y_p = youhua_data_p.groupby(by = '区县').agg({'唯一编号':'count'})\n",
    "y_z = youhua_data_z.groupby(by = '区县').agg({'唯一编号':'count'})\n",
    "youhuajindu=pd.concat([y_z,y_p,y_w],axis = 1)"
   ]
  },
  {
   "cell_type": "code",
   "execution_count": null,
   "metadata": {
    "ExecuteTime": {
     "end_time": "2020-08-25T07:07:14.400299Z",
     "start_time": "2020-08-25T07:07:14.091760Z"
    }
   },
   "outputs": [],
   "source": [
    "youhuajindu.columns = ['总量','派发量','完成量']\n",
    "youhuajindu['派发完成进度'] = youhuajindu['完成量']/youhuajindu['派发量']\n",
    "youhuajindu['进度'] = youhuajindu['完成量']/youhuajindu['总量']"
   ]
  },
  {
   "cell_type": "code",
   "execution_count": null,
   "metadata": {
    "ExecuteTime": {
     "end_time": "2020-08-25T07:07:15.459933Z",
     "start_time": "2020-08-25T07:07:15.100388Z"
    }
   },
   "outputs": [],
   "source": [
    "youhuajindu"
   ]
  },
  {
   "cell_type": "code",
   "execution_count": null,
   "metadata": {
    "ExecuteTime": {
     "end_time": "2020-08-25T07:07:16.422055Z",
     "start_time": "2020-08-25T07:07:16.142020Z"
    }
   },
   "outputs": [],
   "source": [
    "youhua_wanchengdugao=list(youhuajindu.sort_values(by=\"派发完成进度\",ascending= False).head(3).index)  #排序 升序True 降序False by列"
   ]
  },
  {
   "cell_type": "code",
   "execution_count": null,
   "metadata": {
    "ExecuteTime": {
     "end_time": "2020-08-25T07:07:17.442185Z",
     "start_time": "2020-08-25T07:07:17.103642Z"
    }
   },
   "outputs": [],
   "source": [
    "'MR竞对优化工单'+str(youhua_z)+'单。已派发'+str(youhua_p)+'已完成'+str(youhua_w)+'完成率为'+str(youhua_w/youhua_p*100)[:5]+'%'+str(\n",
    "    youhua_wanchengdugao[0])+'，'+str(youhua_wanchengdugao[1])+'，'+str(youhua_wanchengdugao[2])+'派发工单解决率相对较高'"
   ]
  },
  {
   "cell_type": "code",
   "execution_count": null,
   "metadata": {
    "ExecuteTime": {
     "end_time": "2020-08-25T07:07:18.321797Z",
     "start_time": "2020-08-25T07:07:18.030260Z"
    }
   },
   "outputs": [],
   "source": [
    "youhuajindu.to_clipboard()"
   ]
  },
  {
   "cell_type": "code",
   "execution_count": null,
   "metadata": {},
   "outputs": [],
   "source": []
  },
  {
   "cell_type": "markdown",
   "metadata": {},
   "source": [
    "# 催开"
   ]
  },
  {
   "cell_type": "code",
   "execution_count": null,
   "metadata": {
    "ExecuteTime": {
     "end_time": "2020-08-25T07:07:19.179906Z",
     "start_time": "2020-08-25T07:07:18.891369Z"
    }
   },
   "outputs": [],
   "source": [
    "qingdan_c = qingdan_yuan.copy()\n",
    "qingdan_c = qingdan_c.loc[qingdan_c['地市']=='武汉']\n",
    "qingdan = qingdan_c.copy()"
   ]
  },
  {
   "cell_type": "code",
   "execution_count": null,
   "metadata": {
    "ExecuteTime": {
     "end_time": "2020-08-25T07:07:20.198035Z",
     "start_time": "2020-08-25T07:07:19.900497Z"
    }
   },
   "outputs": [],
   "source": [
    "cuikai_zdanzi = qingdan.loc[(qingdan['催开']=='催开') ]['唯一编号'].count()\n",
    "cuikai_z = qingdan.loc[(qingdan['催开']=='催开') ].drop_duplicates(subset='TDL规划站号（新）') ['唯一编号'].count()\n",
    "cuikai_w = qingdan.loc[(qingdan['催开']=='催开') & (qingdan['催开完成']==1) ].drop_duplicates(\n",
    "    subset='TDL规划站号（新）') ['唯一编号'].count()"
   ]
  },
  {
   "cell_type": "code",
   "execution_count": null,
   "metadata": {
    "ExecuteTime": {
     "end_time": "2020-08-25T07:07:21.119652Z",
     "start_time": "2020-08-25T07:07:20.826615Z"
    }
   },
   "outputs": [],
   "source": [
    "cuikai_quchong = qingdan.loc[(qingdan['催开']=='催开') ].drop_duplicates(subset='TDL规划站号（新）') \n",
    "cuikai_quchong_wancheng = qingdan.loc[(qingdan['催开']=='催开') & (qingdan['催开完成']==1) ].drop_duplicates(\n",
    "    subset='TDL规划站号（新）') "
   ]
  },
  {
   "cell_type": "code",
   "execution_count": null,
   "metadata": {
    "ExecuteTime": {
     "end_time": "2020-08-25T07:07:21.991263Z",
     "start_time": "2020-08-25T07:07:21.708227Z"
    }
   },
   "outputs": [],
   "source": [
    "cuikai_zongliang = cuikai_quchong.groupby(by = '区县').agg({'唯一编号':'count'})\n",
    "cuikai_wanchengliang = cuikai_quchong_wancheng.groupby(by = '区县').agg({'唯一编号':'count'})"
   ]
  },
  {
   "cell_type": "code",
   "execution_count": null,
   "metadata": {
    "ExecuteTime": {
     "end_time": "2020-08-25T07:07:22.857373Z",
     "start_time": "2020-08-25T07:07:22.580837Z"
    }
   },
   "outputs": [],
   "source": [
    "cuikaijindu=pd.concat([cuikai_zongliang,cuikai_wanchengliang],axis = 1)\n",
    "cuikaijindu.columns = ['总量','完成量']\n",
    "cuikaijindu['进度'] = cuikaijindu['完成量']/cuikaijindu['总量']"
   ]
  },
  {
   "cell_type": "code",
   "execution_count": null,
   "metadata": {
    "ExecuteTime": {
     "end_time": "2020-08-25T07:07:23.776489Z",
     "start_time": "2020-08-25T07:07:23.490453Z"
    }
   },
   "outputs": [],
   "source": [
    "cuikai_wanchengdudi=list(cuikaijindu.sort_values(by=\"进度\",ascending= True).head(1).index)  #排序 升序True 降序False by列\n",
    "\n",
    "a=cuikai_wanchengdudi[0]\n",
    "\n",
    "jindudi=cuikai_quchong.loc[(cuikai_quchong['区县']==a) & (cuikai_quchong['催开完成']!=1)].groupby(by='工期核实').agg(\n",
    "    {'唯一编号':'count'}).sort_values(by=\"唯一编号\",ascending= False).head(1).index"
   ]
  },
  {
   "cell_type": "code",
   "execution_count": null,
   "metadata": {
    "ExecuteTime": {
     "end_time": "2020-08-25T07:07:24.654601Z",
     "start_time": "2020-08-25T07:07:24.362064Z"
    }
   },
   "outputs": [],
   "source": [
    "a"
   ]
  },
  {
   "cell_type": "code",
   "execution_count": null,
   "metadata": {
    "ExecuteTime": {
     "end_time": "2020-08-25T07:07:25.597721Z",
     "start_time": "2020-08-25T07:07:25.311684Z"
    }
   },
   "outputs": [],
   "source": [
    "'催开工单共'+str(cuikai_zdanzi)+'单，涉及逻辑站\\\n",
    "点'+str(cuikai_z)+'个，已开通站点'+str(cuikai_w)+'个(本月新增201个），催开完成率\\\n",
    "为'+str(cuikai_w/cuikai_z*100)[:5]+'%'+'。'+cuikai_wanchengdudi[0]+'地市整体解决进度较慢，主要为'+jindudi[0]+'未开通占比较\\\n",
    "高，需加快站点建设进度。'+'已催开工单整体MR覆盖率改善2.60pp，对全网劣于竞对小区占比指标改善5.26pp。'"
   ]
  },
  {
   "cell_type": "code",
   "execution_count": null,
   "metadata": {
    "ExecuteTime": {
     "end_time": "2020-08-25T07:07:26.531339Z",
     "start_time": "2020-08-25T07:07:26.237302Z"
    }
   },
   "outputs": [],
   "source": [
    "cuikaijindu"
   ]
  },
  {
   "cell_type": "code",
   "execution_count": null,
   "metadata": {
    "ExecuteTime": {
     "end_time": "2020-08-25T07:07:27.405450Z",
     "start_time": "2020-08-25T07:07:27.123914Z"
    }
   },
   "outputs": [],
   "source": [
    "cuikaijindu.to_clipboard()"
   ]
  },
  {
   "cell_type": "markdown",
   "metadata": {},
   "source": [
    "# 可研"
   ]
  },
  {
   "cell_type": "code",
   "execution_count": null,
   "metadata": {
    "ExecuteTime": {
     "end_time": "2020-08-05T08:50:35.742856Z",
     "start_time": "2020-08-05T08:50:35.175284Z"
    }
   },
   "outputs": [],
   "source": [
    "qingdan_k = qingdan_yuan.copy()\n",
    "qingdan_k = qingdan_k.loc[qingdan_k['地市']=='武汉']\n",
    "qingdan = qingdan_k.copy()"
   ]
  },
  {
   "cell_type": "code",
   "execution_count": null,
   "metadata": {
    "ExecuteTime": {
     "end_time": "2020-08-05T08:50:36.280424Z",
     "start_time": "2020-08-05T08:50:35.749856Z"
    }
   },
   "outputs": [],
   "source": [
    "keyan_zdanzi = qingdan.loc[(qingdan['催可研']=='可研') ]['唯一编号'].count()\n",
    "keyan_z = qingdan.loc[(qingdan['催可研']=='可研') ].drop_duplicates(subset='TDL规划站号（新）') ['唯一编号'].count()\n",
    "keyan_w = qingdan.loc[(qingdan['催可研']=='可研') & (qingdan['可研完成']==1) ].drop_duplicates(\n",
    "    subset='TDL规划站号（新）') ['唯一编号'].count()"
   ]
  },
  {
   "cell_type": "code",
   "execution_count": null,
   "metadata": {
    "ExecuteTime": {
     "end_time": "2020-08-05T08:50:36.799490Z",
     "start_time": "2020-08-05T08:50:36.284424Z"
    }
   },
   "outputs": [],
   "source": [
    "'催可研工单共'+str(keyan_zdanzi)+'单，涉及'+str(keyan_z)+'个逻辑站点工期催研，目前累\\\n",
    "计'+str(keyan_w)+'个站点已纳入工期，入研进度为'+str(keyan_w/keyan_z*100)[:5]+'%。'"
   ]
  },
  {
   "cell_type": "code",
   "execution_count": null,
   "metadata": {
    "ExecuteTime": {
     "end_time": "2020-08-05T08:50:37.338558Z",
     "start_time": "2020-08-05T08:50:36.802490Z"
    }
   },
   "outputs": [],
   "source": [
    "keyan_quchong = qingdan.loc[(qingdan['催可研']=='可研') ].drop_duplicates(subset='TDL规划站号（新）')\n",
    "keyan_quchong_w = qingdan.loc[(qingdan['催可研']=='可研') & (qingdan['可研完成']==1) ].drop_duplicates(subset='TDL规划站号（新）')"
   ]
  },
  {
   "cell_type": "code",
   "execution_count": null,
   "metadata": {
    "ExecuteTime": {
     "end_time": "2020-08-05T08:50:37.888128Z",
     "start_time": "2020-08-05T08:50:37.344059Z"
    }
   },
   "outputs": [],
   "source": [
    "k_z = keyan_quchong.groupby(by = '区县').agg({'唯一编号':'count'})\n",
    "k_w = keyan_quchong_w.groupby(by = '区县').agg({'唯一编号':'count'})\n",
    "keyanjindu=pd.concat([k_z,k_w],axis = 1)\n",
    "keyanjindu.columns = ['总量','完成量']\n",
    "keyanjindu['进度'] = keyanjindu['完成量']/keyanjindu['总量']"
   ]
  },
  {
   "cell_type": "code",
   "execution_count": null,
   "metadata": {
    "ExecuteTime": {
     "end_time": "2020-08-05T08:50:38.613220Z",
     "start_time": "2020-08-05T08:50:37.893129Z"
    }
   },
   "outputs": [],
   "source": [
    "keyanjindu.to_clipboard()"
   ]
  },
  {
   "cell_type": "markdown",
   "metadata": {},
   "source": [
    "# 规划 "
   ]
  },
  {
   "cell_type": "code",
   "execution_count": null,
   "metadata": {
    "ExecuteTime": {
     "end_time": "2020-08-05T08:50:39.294807Z",
     "start_time": "2020-08-05T08:50:38.617721Z"
    }
   },
   "outputs": [],
   "source": [
    "qingdan_g = qingdan_yuan.copy()\n",
    "qingdan_g = qingdan_g.loc[qingdan_g['地市']=='武汉']\n",
    "qingdan = qingdan_g.copy()\n",
    "\n",
    "guihua_zdanzi = qingdan.loc[(qingdan['规划']=='规划') ]['唯一编号'].count()\n",
    "guihua_w = qingdan.loc[(qingdan['规划']=='规划') & (qingdan['规划完成']==1) ]['唯一编号'].count()"
   ]
  },
  {
   "cell_type": "code",
   "execution_count": null,
   "metadata": {
    "ExecuteTime": {
     "end_time": "2020-08-05T08:50:39.927387Z",
     "start_time": "2020-08-05T08:50:39.299807Z"
    }
   },
   "outputs": [],
   "source": [
    "'需规划解决工单共'+str(guihua_zdanzi)+'单，目前累计完成'+str(guihua_w)+'个问题工单规划衔接，规\\\n",
    "划完成比例'+str(guihua_w/guihua_zdanzi*100)[:5]+'%。'"
   ]
  },
  {
   "cell_type": "code",
   "execution_count": null,
   "metadata": {
    "ExecuteTime": {
     "end_time": "2020-08-05T08:50:40.520962Z",
     "start_time": "2020-08-05T08:50:39.932388Z"
    }
   },
   "outputs": [],
   "source": [
    "guihua_qingdan = qingdan.loc[(qingdan['规划']=='规划') ]\n",
    "guihua_qingdan_w = qingdan.loc[(qingdan['规划']=='规划') & (qingdan['规划完成']==1)]\n",
    "g_z = guihua_qingdan.groupby(by = '区县').agg({'唯一编号':'count'})\n",
    "g_w = guihua_qingdan_w.groupby(by = '区县').agg({'唯一编号':'count'})\n",
    "guihuajindu=pd.concat([g_z,g_w],axis = 1)\n",
    "guihuajindu.columns = ['总量','完成量']\n",
    "guihuajindu['进度'] = guihuajindu['完成量']/guihuajindu['总量']"
   ]
  },
  {
   "cell_type": "code",
   "execution_count": null,
   "metadata": {
    "ExecuteTime": {
     "end_time": "2020-08-05T08:50:41.055030Z",
     "start_time": "2020-08-05T08:50:40.530964Z"
    }
   },
   "outputs": [],
   "source": [
    "guihuajindu.to_clipboard()"
   ]
  },
  {
   "cell_type": "code",
   "execution_count": null,
   "metadata": {},
   "outputs": [],
   "source": []
  },
  {
   "cell_type": "code",
   "execution_count": null,
   "metadata": {},
   "outputs": [],
   "source": []
  },
  {
   "cell_type": "code",
   "execution_count": null,
   "metadata": {},
   "outputs": [],
   "source": []
  }
 ],
 "metadata": {
  "kernelspec": {
   "display_name": "Python 3",
   "language": "python",
   "name": "python3"
  },
  "language_info": {
   "codemirror_mode": {
    "name": "ipython",
    "version": 3
   },
   "file_extension": ".py",
   "mimetype": "text/x-python",
   "name": "python",
   "nbconvert_exporter": "python",
   "pygments_lexer": "ipython3",
   "version": "3.7.4"
  },
  "toc": {
   "base_numbering": 1,
   "nav_menu": {},
   "number_sections": true,
   "sideBar": true,
   "skip_h1_title": false,
   "title_cell": "Table of Contents",
   "title_sidebar": "Contents",
   "toc_cell": false,
   "toc_position": {},
   "toc_section_display": true,
   "toc_window_display": false
  },
  "varInspector": {
   "cols": {
    "lenName": 16,
    "lenType": 16,
    "lenVar": 40
   },
   "kernels_config": {
    "python": {
     "delete_cmd_postfix": "",
     "delete_cmd_prefix": "del ",
     "library": "var_list.py",
     "varRefreshCmd": "print(var_dic_list())"
    },
    "r": {
     "delete_cmd_postfix": ") ",
     "delete_cmd_prefix": "rm(",
     "library": "var_list.r",
     "varRefreshCmd": "cat(var_dic_list()) "
    }
   },
   "types_to_exclude": [
    "module",
    "function",
    "builtin_function_or_method",
    "instance",
    "_Feature"
   ],
   "window_display": false
  }
 },
 "nbformat": 4,
 "nbformat_minor": 2
}
