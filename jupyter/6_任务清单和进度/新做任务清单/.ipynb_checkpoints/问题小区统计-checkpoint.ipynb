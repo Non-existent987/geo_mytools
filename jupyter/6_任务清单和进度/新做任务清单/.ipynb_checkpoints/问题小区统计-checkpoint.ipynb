{
 "cells": [
  {
   "cell_type": "code",
   "execution_count": 1,
   "metadata": {
    "ExecuteTime": {
     "end_time": "2020-08-19T12:44:25.261606Z",
     "start_time": "2020-08-19T12:44:24.371993Z"
    }
   },
   "outputs": [],
   "source": [
    "import pandas as pd\n",
    "import mytools\n",
    "import geopandas as gpd"
   ]
  },
  {
   "cell_type": "markdown",
   "metadata": {},
   "source": [
    "# 工参数据"
   ]
  },
  {
   "cell_type": "code",
   "execution_count": 81,
   "metadata": {
    "ExecuteTime": {
     "end_time": "2020-08-18T03:26:29.090390Z",
     "start_time": "2020-08-18T03:26:19.574182Z"
    }
   },
   "outputs": [
    {
     "name": "stderr",
     "output_type": "stream",
     "text": [
      "C:\\ProgramData\\Anaconda3\\lib\\site-packages\\IPython\\core\\interactiveshell.py:3058: DtypeWarning: Columns (12,14) have mixed types.Specify dtype option on import or set low_memory=False.\n",
      "  interactivity=interactivity, compiler=compiler, result=result)\n"
     ]
    }
   ],
   "source": [
    "data = pd.read_csv('g:/1-规划/工参/工参数据/ltejizhan20200715.csv',encoding='gbk')"
   ]
  },
  {
   "cell_type": "code",
   "execution_count": 82,
   "metadata": {
    "ExecuteTime": {
     "end_time": "2020-08-18T03:26:30.142024Z",
     "start_time": "2020-08-18T03:26:30.135523Z"
    }
   },
   "outputs": [
    {
     "data": {
      "text/plain": [
       "Index(['小区CGI(*)', '小区中文名', '网络制式(TDD/FDD)', 'TDL规划站号(新)', '所属地区', '工程参数标识',\n",
       "       '区县代码', '基站编码', '入网工程期', 'RRU经度', 'RRU纬度', '天线挂高', '入网时间', '2G共址站名',\n",
       "       'FDD900与1800是否共址', '站址归属单位', '覆盖类型', '覆盖类别', '覆盖场景', '覆盖场景细化', '二级覆盖场景',\n",
       "       '二级覆盖场景细化', '方位角', '机械下倾角', '电子下倾角', '是否电调天线', '电下倾天线类型', '天线厂家',\n",
       "       '工作频段', '设备型号', '设备类型(大类)', '分布式或一体化', '小区所属空间资源', '基站所属空间资源',\n",
       "       'eNodeB软件版本', '所属OMC', '归属区县', '厂家名称', '集中开站所在环节', '集中开站工单号', '开站流程类型',\n",
       "       '姿态仪测量', '姿态仪测量时间', '所属eNodeB名称', '采集经度', '采集纬度', 'RRU数量', 'TAC', 'PCI',\n",
       "       '中心载频的信道号', '频段指示', '空口上下行业务字节数KByte', '集中工参工单号', 'BBU串号', 'RRU串号',\n",
       "       '规划平台_站址编码', '规划平台_站址名称', '规划平台_覆盖方式', '省内或省际边界', '边界说明', '统计分类'],\n",
       "      dtype='object')"
      ]
     },
     "execution_count": 82,
     "metadata": {},
     "output_type": "execute_result"
    }
   ],
   "source": [
    "data.columns"
   ]
  },
  {
   "cell_type": "code",
   "execution_count": 83,
   "metadata": {
    "ExecuteTime": {
     "end_time": "2020-08-18T03:26:31.608710Z",
     "start_time": "2020-08-18T03:26:31.331675Z"
    }
   },
   "outputs": [],
   "source": [
    "data_use = data.loc[(data['RRU经度']>0)&(data['RRU纬度']>0)&(data['方位角']>-1)]"
   ]
  },
  {
   "cell_type": "code",
   "execution_count": 84,
   "metadata": {
    "ExecuteTime": {
     "end_time": "2020-08-18T03:26:34.377561Z",
     "start_time": "2020-08-18T03:26:32.850367Z"
    }
   },
   "outputs": [
    {
     "name": "stderr",
     "output_type": "stream",
     "text": [
      "C:\\ProgramData\\Anaconda3\\lib\\site-packages\\ipykernel_launcher.py:2: SettingWithCopyWarning: \n",
      "A value is trying to be set on a copy of a slice from a DataFrame.\n",
      "Try using .loc[row_indexer,col_indexer] = value instead\n",
      "\n",
      "See the caveats in the documentation: https://pandas.pydata.org/pandas-docs/stable/user_guide/indexing.html#returning-a-view-versus-a-copy\n",
      "  \n"
     ]
    }
   ],
   "source": [
    "#只要宏站\n",
    "data_use['小区中文名'] = data_use['小区中文名'].fillna('无')\n",
    "data_use = data_use.loc[~data_use['小区中文名'].str.contains('W-')]\n",
    "data_use = data_use.loc[~data_use['小区中文名'].str.contains('R')]\n",
    "data_use = data_use.loc[~data_use['小区中文名'].str.contains('M-')]"
   ]
  },
  {
   "cell_type": "code",
   "execution_count": 85,
   "metadata": {
    "ExecuteTime": {
     "end_time": "2020-08-18T03:26:36.039272Z",
     "start_time": "2020-08-18T03:26:35.935259Z"
    }
   },
   "outputs": [],
   "source": [
    "data_use = data_use[['小区CGI(*)', 'RRU经度', 'RRU纬度', '方位角', '工作频段']]"
   ]
  },
  {
   "cell_type": "code",
   "execution_count": 86,
   "metadata": {
    "ExecuteTime": {
     "end_time": "2020-08-18T03:27:08.179354Z",
     "start_time": "2020-08-18T03:26:37.043900Z"
    }
   },
   "outputs": [],
   "source": [
    "data_use = mytools.gisn.points_coverage_merge(data_use,'RRU经度','RRU纬度')"
   ]
  },
  {
   "cell_type": "code",
   "execution_count": 87,
   "metadata": {
    "ExecuteTime": {
     "end_time": "2020-08-18T03:27:09.356003Z",
     "start_time": "2020-08-18T03:27:09.350002Z"
    }
   },
   "outputs": [
    {
     "data": {
      "text/plain": [
       "Index(['小区CGI(*)', 'RRU经度', 'RRU纬度', '方位角', '工作频段', '区域类型'], dtype='object')"
      ]
     },
     "execution_count": 87,
     "metadata": {},
     "output_type": "execute_result"
    }
   ],
   "source": [
    "data_use.columns"
   ]
  },
  {
   "cell_type": "code",
   "execution_count": 88,
   "metadata": {
    "ExecuteTime": {
     "end_time": "2020-08-18T03:27:13.235496Z",
     "start_time": "2020-08-18T03:27:10.404136Z"
    }
   },
   "outputs": [],
   "source": [
    "data_use.to_csv('g:/1-规划/重做30619/20200814/1-基础数据/现网小区.csv',encoding='gbk',index=False)"
   ]
  },
  {
   "cell_type": "markdown",
   "metadata": {},
   "source": [
    "# 软采小区选择\n",
    " "
   ]
  },
  {
   "cell_type": "code",
   "execution_count": 89,
   "metadata": {
    "ExecuteTime": {
     "end_time": "2020-08-18T03:27:16.003347Z",
     "start_time": "2020-08-18T03:27:14.296130Z"
    }
   },
   "outputs": [],
   "source": [
    "ruacnai_6 = pd.read_csv('g:/1-规划/评估/软采评估/2020年二季度/3-输出内容/各地市软采小区数据/软采小区总数据.csv',encoding='gbk')"
   ]
  },
  {
   "cell_type": "code",
   "execution_count": 90,
   "metadata": {
    "ExecuteTime": {
     "end_time": "2020-08-18T03:27:18.670186Z",
     "start_time": "2020-08-18T03:27:17.014476Z"
    }
   },
   "outputs": [],
   "source": [
    "ruacnai_7 = pd.read_csv('g:/1-规划/评估/软采评估/2020年7月/3-输出内容/各地市软采小区数据/软采小区总数据.csv',encoding='gbk')"
   ]
  },
  {
   "cell_type": "code",
   "execution_count": 91,
   "metadata": {
    "ExecuteTime": {
     "end_time": "2020-08-18T03:27:19.797829Z",
     "start_time": "2020-08-18T03:27:19.791328Z"
    }
   },
   "outputs": [
    {
     "data": {
      "text/plain": [
       "Index(['小区CGI(*)', '地市', '区县', 'rsrp_sample_count', 'rsrp_weak', '区域类型',\n",
       "       'a.un_maxrsrp_sample_count', 'a.un_maxrsrp_weak_l2',\n",
       "       'a.te_maxrsrp_sample_count', 'a.te_maxrsrp_weak_l2', 'fgl', '弱覆盖小区',\n",
       "       'fgl_cmcc', 'fgl_un', 'fgl_te', 'te_hd', 'un_hd', 'hd', '问题小区数'],\n",
       "      dtype='object')"
      ]
     },
     "execution_count": 91,
     "metadata": {},
     "output_type": "execute_result"
    }
   ],
   "source": [
    "ruacnai_6.columns"
   ]
  },
  {
   "cell_type": "code",
   "execution_count": 92,
   "metadata": {
    "ExecuteTime": {
     "end_time": "2020-08-18T03:27:20.868965Z",
     "start_time": "2020-08-18T03:27:20.799456Z"
    }
   },
   "outputs": [],
   "source": [
    "ruacnai_6_use = ruacnai_6[(ruacnai_6['fgl_cmcc']<0.9)&(ruacnai_6['rsrp_sample_count']>=1000)]\n",
    "ruacnai_7_use = ruacnai_7[(ruacnai_7['fgl_cmcc']<0.9)&(ruacnai_7['rsrp_sample_count']>=1000)]"
   ]
  },
  {
   "cell_type": "code",
   "execution_count": 93,
   "metadata": {
    "ExecuteTime": {
     "end_time": "2020-08-18T03:27:22.091620Z",
     "start_time": "2020-08-18T03:27:21.867592Z"
    }
   },
   "outputs": [],
   "source": [
    "ruacnai_res = ruacnai_6_use.merge(ruacnai_7_use,on='小区CGI(*)')"
   ]
  },
  {
   "cell_type": "code",
   "execution_count": 94,
   "metadata": {
    "ExecuteTime": {
     "end_time": "2020-08-18T03:27:23.173258Z",
     "start_time": "2020-08-18T03:27:23.125752Z"
    }
   },
   "outputs": [],
   "source": [
    "ruacnai_res = ruacnai_res[['小区CGI(*)', 'rsrp_sample_count_x', 'rsrp_weak_x','fgl_cmcc_x']]"
   ]
  },
  {
   "cell_type": "code",
   "execution_count": 95,
   "metadata": {
    "ExecuteTime": {
     "end_time": "2020-08-18T03:27:24.321403Z",
     "start_time": "2020-08-18T03:27:24.096375Z"
    }
   },
   "outputs": [],
   "source": [
    "res = ruacnai_res.merge(data_use,how='left',on='小区CGI(*)')"
   ]
  },
  {
   "cell_type": "code",
   "execution_count": 96,
   "metadata": {
    "ExecuteTime": {
     "end_time": "2020-08-18T03:27:25.418043Z",
     "start_time": "2020-08-18T03:27:25.387039Z"
    }
   },
   "outputs": [],
   "source": [
    "res = res.loc[res['RRU经度'].notna()]"
   ]
  },
  {
   "cell_type": "code",
   "execution_count": 97,
   "metadata": {
    "ExecuteTime": {
     "end_time": "2020-08-18T03:27:27.183767Z",
     "start_time": "2020-08-18T03:27:26.358662Z"
    }
   },
   "outputs": [],
   "source": [
    "res.to_csv('g:/1-规划/重做30619/20200814/1-基础数据/问题小区.csv',encoding='gbk',index=False)"
   ]
  },
  {
   "cell_type": "code",
   "execution_count": 78,
   "metadata": {
    "ExecuteTime": {
     "end_time": "2020-08-18T03:24:35.138420Z",
     "start_time": "2020-08-18T03:24:35.049909Z"
    }
   },
   "outputs": [],
   "source": [
    "#输出已经改善的小区\n",
    "ruacnai_6_use2 = ruacnai_6[(ruacnai_6['fgl_cmcc']>0.9)&(ruacnai_6['rsrp_sample_count']>=1000)]\n",
    "ruacnai_7_use2 = ruacnai_7[(ruacnai_7['fgl_cmcc']>0.9)&(ruacnai_7['rsrp_sample_count']>=1000)]"
   ]
  },
  {
   "cell_type": "code",
   "execution_count": 79,
   "metadata": {
    "ExecuteTime": {
     "end_time": "2020-08-18T03:24:52.516127Z",
     "start_time": "2020-08-18T03:24:52.102074Z"
    }
   },
   "outputs": [],
   "source": [
    "ruacnai_res2 = ruacnai_6_use2.merge(ruacnai_7_use2,on='小区CGI(*)')"
   ]
  },
  {
   "cell_type": "code",
   "execution_count": 80,
   "metadata": {
    "ExecuteTime": {
     "end_time": "2020-08-18T03:25:03.520024Z",
     "start_time": "2020-08-18T03:25:03.427012Z"
    }
   },
   "outputs": [],
   "source": [
    "ruacnai_res2 = ruacnai_res2[['小区CGI(*)', 'rsrp_sample_count_x', 'rsrp_weak_x','fgl_cmcc_x']]"
   ]
  },
  {
   "cell_type": "code",
   "execution_count": 98,
   "metadata": {
    "ExecuteTime": {
     "end_time": "2020-08-18T03:27:28.480932Z",
     "start_time": "2020-08-18T03:27:28.163891Z"
    }
   },
   "outputs": [],
   "source": [
    "res2 = ruacnai_res2.merge(data_use,how='left',on='小区CGI(*)')"
   ]
  },
  {
   "cell_type": "code",
   "execution_count": 100,
   "metadata": {
    "ExecuteTime": {
     "end_time": "2020-08-18T03:27:39.163788Z",
     "start_time": "2020-08-18T03:27:39.120783Z"
    }
   },
   "outputs": [],
   "source": [
    "res2 = res2.loc[res2['RRU经度'].notna()]"
   ]
  },
  {
   "cell_type": "code",
   "execution_count": 101,
   "metadata": {
    "ExecuteTime": {
     "end_time": "2020-08-18T03:27:42.480209Z",
     "start_time": "2020-08-18T03:27:41.726614Z"
    }
   },
   "outputs": [],
   "source": [
    "res.to_csv('g:/1-规划/重做30619/20200814/1-基础数据/已经改善的问题小区.csv',encoding='gbk',index=False)"
   ]
  },
  {
   "cell_type": "markdown",
   "metadata": {},
   "source": [
    "# 老的任务清单更新与覆盖空的有关系的"
   ]
  },
  {
   "cell_type": "code",
   "execution_count": 33,
   "metadata": {
    "ExecuteTime": {
     "end_time": "2020-08-19T08:04:44.560228Z",
     "start_time": "2020-08-19T08:04:43.867140Z"
    }
   },
   "outputs": [],
   "source": [
    "#导入空洞数据\n",
    "kongd = pd.read_pickle('G:/1-规划/评估/覆盖空洞/20200712第四版本/3-拆分后的空洞/覆盖空19481个添加场景区分大中小微.data')"
   ]
  },
  {
   "cell_type": "code",
   "execution_count": 40,
   "metadata": {
    "ExecuteTime": {
     "end_time": "2020-08-19T08:07:08.823547Z",
     "start_time": "2020-08-19T08:06:36.541948Z"
    }
   },
   "outputs": [],
   "source": [
    "data = pd.read_excel('g:/1-规划/崔开通崔可研规划/2020年任务清单/20200813/2020年任务清单（场景+MR）0813v2.xlsx')"
   ]
  },
  {
   "cell_type": "code",
   "execution_count": 41,
   "metadata": {
    "ExecuteTime": {
     "end_time": "2020-08-19T08:07:09.370116Z",
     "start_time": "2020-08-19T08:07:09.346113Z"
    }
   },
   "outputs": [
    {
     "data": {
      "text/html": [
       "<div>\n",
       "<style scoped>\n",
       "    .dataframe tbody tr th:only-of-type {\n",
       "        vertical-align: middle;\n",
       "    }\n",
       "\n",
       "    .dataframe tbody tr th {\n",
       "        vertical-align: top;\n",
       "    }\n",
       "\n",
       "    .dataframe thead th {\n",
       "        text-align: right;\n",
       "    }\n",
       "</style>\n",
       "<table border=\"1\" class=\"dataframe\">\n",
       "  <thead>\n",
       "    <tr style=\"text-align: right;\">\n",
       "      <th></th>\n",
       "      <th>唯一编号</th>\n",
       "      <th>问题点或问题小区cgi</th>\n",
       "      <th>对应cgi</th>\n",
       "      <th>小区名</th>\n",
       "      <th>7734</th>\n",
       "      <th>所属网洞ID_</th>\n",
       "      <th>问题点中心经度</th>\n",
       "      <th>问题点中心纬度</th>\n",
       "      <th>是否计划内</th>\n",
       "      <th>分类</th>\n",
       "      <th>...</th>\n",
       "      <th>投诉</th>\n",
       "      <th>得分K1</th>\n",
       "      <th>得分K2</th>\n",
       "      <th>得分K3</th>\n",
       "      <th>总得分</th>\n",
       "      <th>是否与四轮十维清单重合</th>\n",
       "      <th>重合已规划</th>\n",
       "      <th>对应的四轮十维编号</th>\n",
       "      <th>四轮十维最新方案</th>\n",
       "      <th>小区CGI</th>\n",
       "    </tr>\n",
       "  </thead>\n",
       "  <tbody>\n",
       "    <tr>\n",
       "      <th>0</th>\n",
       "      <td>107174</td>\n",
       "      <td>460-00-440949-17</td>\n",
       "      <td>460-00-440949-17</td>\n",
       "      <td>江夏美院汽车站-ZLH-17</td>\n",
       "      <td>NaN</td>\n",
       "      <td>NaN</td>\n",
       "      <td>NaN</td>\n",
       "      <td>NaN</td>\n",
       "      <td>NaN</td>\n",
       "      <td>2020年5月新任务清单</td>\n",
       "      <td>...</td>\n",
       "      <td>NaN</td>\n",
       "      <td>NaN</td>\n",
       "      <td>NaN</td>\n",
       "      <td>NaN</td>\n",
       "      <td>NaN</td>\n",
       "      <td>NaN</td>\n",
       "      <td>NaN</td>\n",
       "      <td>NaN</td>\n",
       "      <td>NaN</td>\n",
       "      <td>NaN</td>\n",
       "    </tr>\n",
       "  </tbody>\n",
       "</table>\n",
       "<p>1 rows × 78 columns</p>\n",
       "</div>"
      ],
      "text/plain": [
       "     唯一编号       问题点或问题小区cgi             对应cgi             小区名  7734 所属网洞ID_  \\\n",
       "0  107174  460-00-440949-17  460-00-440949-17  江夏美院汽车站-ZLH-17   NaN     NaN   \n",
       "\n",
       "   问题点中心经度  问题点中心纬度 是否计划内            分类  ...  投诉 得分K1 得分K2 得分K3 总得分  \\\n",
       "0      NaN      NaN   NaN  2020年5月新任务清单  ... NaN  NaN  NaN  NaN NaN   \n",
       "\n",
       "  是否与四轮十维清单重合  重合已规划  对应的四轮十维编号  四轮十维最新方案  小区CGI  \n",
       "0         NaN    NaN        NaN       NaN    NaN  \n",
       "\n",
       "[1 rows x 78 columns]"
      ]
     },
     "execution_count": 41,
     "metadata": {},
     "output_type": "execute_result"
    }
   ],
   "source": [
    "data.head(1)"
   ]
  },
  {
   "cell_type": "code",
   "execution_count": 42,
   "metadata": {
    "ExecuteTime": {
     "end_time": "2020-08-19T08:07:09.883681Z",
     "start_time": "2020-08-19T08:07:09.864679Z"
    }
   },
   "outputs": [
    {
     "data": {
      "text/html": [
       "<div>\n",
       "<style scoped>\n",
       "    .dataframe tbody tr th:only-of-type {\n",
       "        vertical-align: middle;\n",
       "    }\n",
       "\n",
       "    .dataframe tbody tr th {\n",
       "        vertical-align: top;\n",
       "    }\n",
       "\n",
       "    .dataframe thead th {\n",
       "        text-align: right;\n",
       "    }\n",
       "</style>\n",
       "<table border=\"1\" class=\"dataframe\">\n",
       "  <thead>\n",
       "    <tr style=\"text-align: right;\">\n",
       "      <th></th>\n",
       "      <th>city</th>\n",
       "      <th>type</th>\n",
       "      <th>geometry</th>\n",
       "      <th>面积</th>\n",
       "      <th>lon</th>\n",
       "      <th>lat</th>\n",
       "      <th>区域类型</th>\n",
       "      <th>id</th>\n",
       "      <th>制式</th>\n",
       "      <th>distance</th>\n",
       "      <th>标准面积</th>\n",
       "      <th>空洞面积比例</th>\n",
       "      <th>空洞级别</th>\n",
       "    </tr>\n",
       "  </thead>\n",
       "  <tbody>\n",
       "    <tr>\n",
       "      <th>0</th>\n",
       "      <td>十堰</td>\n",
       "      <td>Polygon</td>\n",
       "      <td>POLYGON ((111.57467 32.59737, 111.57724 32.598...</td>\n",
       "      <td>118802.970802</td>\n",
       "      <td>111.577452</td>\n",
       "      <td>32.595834</td>\n",
       "      <td>农村</td>\n",
       "      <td>kd_1</td>\n",
       "      <td>FDD900</td>\n",
       "      <td>2200.0</td>\n",
       "      <td>1.520531e+07</td>\n",
       "      <td>0.007813</td>\n",
       "      <td>微</td>\n",
       "    </tr>\n",
       "  </tbody>\n",
       "</table>\n",
       "</div>"
      ],
      "text/plain": [
       "  city     type                                           geometry  \\\n",
       "0   十堰  Polygon  POLYGON ((111.57467 32.59737, 111.57724 32.598...   \n",
       "\n",
       "              面积         lon        lat 区域类型    id      制式  distance  \\\n",
       "0  118802.970802  111.577452  32.595834   农村  kd_1  FDD900    2200.0   \n",
       "\n",
       "           标准面积    空洞面积比例 空洞级别  \n",
       "0  1.520531e+07  0.007813    微  "
      ]
     },
     "execution_count": 42,
     "metadata": {},
     "output_type": "execute_result"
    }
   ],
   "source": [
    "kongd.head(1)"
   ]
  },
  {
   "cell_type": "code",
   "execution_count": 43,
   "metadata": {
    "ExecuteTime": {
     "end_time": "2020-08-19T08:07:10.373744Z",
     "start_time": "2020-08-19T08:07:10.366243Z"
    }
   },
   "outputs": [],
   "source": [
    "kongd_use = kongd.loc[kongd['空洞级别'].isin(['大','中','小'])]"
   ]
  },
  {
   "cell_type": "code",
   "execution_count": 44,
   "metadata": {
    "ExecuteTime": {
     "end_time": "2020-08-19T08:07:10.867806Z",
     "start_time": "2020-08-19T08:07:10.861806Z"
    }
   },
   "outputs": [
    {
     "data": {
      "text/plain": [
       "Index([            '唯一编号',      '问题点或问题小区cgi',            '对应cgi',\n",
       "                    '小区名',               7734,          '所属网洞ID_',\n",
       "                '问题点中心经度',          '问题点中心纬度',            '是否计划内',\n",
       "                     '分类',               '地市',               '区县',\n",
       "                     '厂家',             '是否黑点',               '场景',\n",
       "                  '小区名.1',               '总点',               '弱点',\n",
       "                    '覆盖率',            '联通覆盖率',            '改善后总点',\n",
       "                  '改善后弱点',           '改善后覆盖率',            '电信覆盖率',\n",
       "                    'lon',              'lat',             '天线挂高',\n",
       "                    '方位角',             '覆盖类型',             '工作频段',\n",
       "               '设备类型(大类)',             '区域类型',               '优化',\n",
       "              '已经改善的问题小区', '需要匹配解决方案优化或者开通站点',      '2个月内周边有新建站点',\n",
       "            '1个月内小区有优化流程',           '最终完成方案',      '规划-20200819',\n",
       "                     '规划',          '规划与空洞相交',              '催可研',\n",
       "                     '催开',            '方案-最新',       'TDL规划站号（新）',\n",
       "                   '规划站名',               '站型',             '工期核实',\n",
       "                   '优化完成',             '规划完成',             '可研完成',\n",
       "                   '催开完成',            '优化已派发',      'Unnamed: 53',\n",
       "                 '优化派发时间',            '派发处方案',             '优化有效',\n",
       "                 '优化派发批次',               '备注',           '优化3500',\n",
       "               '7734不能派发',        '平台已经有不能派发',         '最终是否能够派发',\n",
       "                 '是否有效数据',              '备注2',       '带共址的建设规划站号',\n",
       "                 '带共址的工期',               '流量',               '投诉',\n",
       "                   '得分K1',             '得分K2',             '得分K3',\n",
       "                    '总得分',      '是否与四轮十维清单重合',            '重合已规划',\n",
       "              '对应的四轮十维编号',         '四轮十维最新方案',            '小区CGI'],\n",
       "      dtype='object')"
      ]
     },
     "execution_count": 44,
     "metadata": {},
     "output_type": "execute_result"
    }
   ],
   "source": [
    "data.columns"
   ]
  },
  {
   "cell_type": "code",
   "execution_count": 45,
   "metadata": {
    "ExecuteTime": {
     "end_time": "2020-08-19T08:07:11.391373Z",
     "start_time": "2020-08-19T08:07:11.373871Z"
    }
   },
   "outputs": [],
   "source": [
    "data_use = data.loc[(data['规划-20200819']=='规划') & (data['分类']=='2020年5月新任务清单')]"
   ]
  },
  {
   "cell_type": "code",
   "execution_count": 46,
   "metadata": {
    "ExecuteTime": {
     "end_time": "2020-08-19T08:07:19.078849Z",
     "start_time": "2020-08-19T08:07:11.890436Z"
    }
   },
   "outputs": [
    {
     "name": "stderr",
     "output_type": "stream",
     "text": [
      "C:\\ProgramData\\Anaconda3\\lib\\site-packages\\IPython\\core\\interactiveshell.py:3058: DtypeWarning: Columns (12,14) have mixed types.Specify dtype option on import or set low_memory=False.\n",
      "  interactivity=interactivity, compiler=compiler, result=result)\n"
     ]
    }
   ],
   "source": [
    "#导入工参数据\n",
    "gongcan = pd.read_csv('g:/1-规划/工参/工参数据/ltejizhan20200715.csv',encoding='gbk')"
   ]
  },
  {
   "cell_type": "code",
   "execution_count": 47,
   "metadata": {
    "ExecuteTime": {
     "end_time": "2020-08-19T08:07:20.478527Z",
     "start_time": "2020-08-19T08:07:19.554410Z"
    }
   },
   "outputs": [],
   "source": [
    "gongcan.groupby('所属地区').count().to_clipboard()"
   ]
  },
  {
   "cell_type": "code",
   "execution_count": 48,
   "metadata": {
    "ExecuteTime": {
     "end_time": "2020-08-19T08:07:21.220621Z",
     "start_time": "2020-08-19T08:07:20.942586Z"
    }
   },
   "outputs": [],
   "source": [
    "gongcan_use = gongcan.loc[(gongcan['RRU经度']>0)&(gongcan['RRU纬度']>0)][['小区CGI(*)', 'RRU经度', 'RRU纬度','工作频段','方位角']]"
   ]
  },
  {
   "cell_type": "code",
   "execution_count": 49,
   "metadata": {
    "ExecuteTime": {
     "end_time": "2020-08-19T08:07:21.911709Z",
     "start_time": "2020-08-19T08:07:21.686180Z"
    }
   },
   "outputs": [],
   "source": [
    "#匹配到任务清单经纬度\n",
    "data_use = data_use.merge(gongcan_use,how='left',left_on='对应cgi',right_on='小区CGI(*)')\n",
    "\n",
    "data_use2= data_use.loc[(data_use['RRU经度']>0)&(data_use['RRU纬度']>0)]\n",
    "\n",
    "data_use2 = data_use2.rename(columns={'区域类型':'区域类型1'})\n",
    "\n",
    "data_changjing = mytools.gisn.points_coverage_merge(data_use2)\n",
    "\n",
    "data_jl = mytools.gisn.changjing_distance(data_changjing,'区域类型','工作频段_y',use_type='站间距')\n",
    "\n",
    "data_s = mytools.gisn.add_sectors_df(data_jl,coords=['RRU经度','RRU纬度', 'd_height', '方位角_y', 'distance'],\n",
    "    has_z=False,\n",
    "    sec_col='geometry',\n",
    "    shape_dict={'beam': 120, 'per_degree': 10})"
   ]
  },
  {
   "cell_type": "code",
   "execution_count": 55,
   "metadata": {
    "ExecuteTime": {
     "end_time": "2020-08-19T08:07:33.586191Z",
     "start_time": "2020-08-19T08:07:33.475677Z"
    }
   },
   "outputs": [],
   "source": [
    "data_p = mytools.gisn.add_points(data_use2,'RRU经度','RRU纬度')"
   ]
  },
  {
   "cell_type": "code",
   "execution_count": 56,
   "metadata": {
    "ExecuteTime": {
     "end_time": "2020-08-19T08:07:35.264404Z",
     "start_time": "2020-08-19T08:07:34.210771Z"
    }
   },
   "outputs": [],
   "source": [
    "#计算交集\n",
    "res = gpd.sjoin(kongd_use,data_s)"
   ]
  },
  {
   "cell_type": "code",
   "execution_count": 57,
   "metadata": {
    "ExecuteTime": {
     "end_time": "2020-08-19T08:07:35.922988Z",
     "start_time": "2020-08-19T08:07:35.919988Z"
    }
   },
   "outputs": [],
   "source": [
    "import geopandas as gpd"
   ]
  },
  {
   "cell_type": "code",
   "execution_count": 58,
   "metadata": {
    "ExecuteTime": {
     "end_time": "2020-08-19T08:07:36.599574Z",
     "start_time": "2020-08-19T08:07:36.584072Z"
    }
   },
   "outputs": [],
   "source": [
    "res[['小区CGI(*)']].to_clipboard()"
   ]
  },
  {
   "cell_type": "code",
   "execution_count": 32,
   "metadata": {
    "ExecuteTime": {
     "end_time": "2020-08-18T02:37:57.154121Z",
     "start_time": "2020-08-18T02:37:57.148120Z"
    }
   },
   "outputs": [
    {
     "data": {
      "text/plain": [
       "(6002, 75)"
      ]
     },
     "execution_count": 32,
     "metadata": {},
     "output_type": "execute_result"
    }
   ],
   "source": [
    "data_p.shape"
   ]
  },
  {
   "cell_type": "markdown",
   "metadata": {},
   "source": [
    "# 开通站点匹配完成的优化清单"
   ]
  },
  {
   "cell_type": "code",
   "execution_count": 3,
   "metadata": {
    "ExecuteTime": {
     "end_time": "2020-08-19T00:43:14.490416Z",
     "start_time": "2020-08-19T00:43:14.018856Z"
    }
   },
   "outputs": [],
   "source": [
    "#需要匹配的优化完成清单\n",
    "data_y = pd.read_clipboard()"
   ]
  },
  {
   "cell_type": "code",
   "execution_count": 4,
   "metadata": {
    "ExecuteTime": {
     "end_time": "2020-08-19T00:43:20.918232Z",
     "start_time": "2020-08-19T00:43:20.898730Z"
    },
    "scrolled": true
   },
   "outputs": [
    {
     "data": {
      "text/html": [
       "<div>\n",
       "<style scoped>\n",
       "    .dataframe tbody tr th:only-of-type {\n",
       "        vertical-align: middle;\n",
       "    }\n",
       "\n",
       "    .dataframe tbody tr th {\n",
       "        vertical-align: top;\n",
       "    }\n",
       "\n",
       "    .dataframe thead th {\n",
       "        text-align: right;\n",
       "    }\n",
       "</style>\n",
       "<table border=\"1\" class=\"dataframe\">\n",
       "  <thead>\n",
       "    <tr style=\"text-align: right;\">\n",
       "      <th></th>\n",
       "      <th>对应cgi</th>\n",
       "    </tr>\n",
       "  </thead>\n",
       "  <tbody>\n",
       "    <tr>\n",
       "      <th>0</th>\n",
       "      <td>460-00-705014-192</td>\n",
       "    </tr>\n",
       "  </tbody>\n",
       "</table>\n",
       "</div>"
      ],
      "text/plain": [
       "               对应cgi\n",
       "0  460-00-705014-192"
      ]
     },
     "execution_count": 4,
     "metadata": {},
     "output_type": "execute_result"
    }
   ],
   "source": [
    "data_y.head(1)"
   ]
  },
  {
   "cell_type": "code",
   "execution_count": 27,
   "metadata": {
    "ExecuteTime": {
     "end_time": "2020-08-19T06:51:10.656233Z",
     "start_time": "2020-08-19T06:51:03.204287Z"
    }
   },
   "outputs": [
    {
     "name": "stderr",
     "output_type": "stream",
     "text": [
      "C:\\ProgramData\\Anaconda3\\lib\\site-packages\\IPython\\core\\interactiveshell.py:3058: DtypeWarning: Columns (12,14) have mixed types.Specify dtype option on import or set low_memory=False.\n",
      "  interactivity=interactivity, compiler=compiler, result=result)\n"
     ]
    }
   ],
   "source": [
    "#导入工参数据\n",
    "gongcan = pd.read_csv('g:/1-规划/工参/工参数据/ltejizhan20200715.csv',encoding='gbk')\n",
    "gongcan_use = gongcan.loc[(gongcan['RRU经度']>0)&(gongcan['RRU纬度']>0)][['小区CGI(*)', 'RRU经度', 'RRU纬度','工作频段','方位角','所属地区']]"
   ]
  },
  {
   "cell_type": "code",
   "execution_count": 32,
   "metadata": {
    "ExecuteTime": {
     "end_time": "2020-08-19T06:52:26.839907Z",
     "start_time": "2020-08-19T06:52:24.440102Z"
    }
   },
   "outputs": [],
   "source": [
    "gongcan_use.to_clipboard()"
   ]
  },
  {
   "cell_type": "code",
   "execution_count": 9,
   "metadata": {
    "ExecuteTime": {
     "end_time": "2020-08-19T00:46:10.250735Z",
     "start_time": "2020-08-19T00:46:10.115218Z"
    }
   },
   "outputs": [],
   "source": [
    "#匹配到任务清单经纬度\n",
    "data_use = data_y.merge(gongcan_use,how='left',left_on='对应cgi',right_on='小区CGI(*)')"
   ]
  },
  {
   "cell_type": "code",
   "execution_count": 10,
   "metadata": {
    "ExecuteTime": {
     "end_time": "2020-08-19T00:46:28.418542Z",
     "start_time": "2020-08-19T00:46:28.411541Z"
    }
   },
   "outputs": [],
   "source": [
    "data_use2= data_use.loc[(data_use['RRU经度']>0)&(data_use['RRU纬度']>0)&(data_use['方位角']>-1)]"
   ]
  },
  {
   "cell_type": "code",
   "execution_count": 55,
   "metadata": {
    "ExecuteTime": {
     "end_time": "2020-08-18T02:52:01.277311Z",
     "start_time": "2020-08-18T02:52:01.264809Z"
    }
   },
   "outputs": [],
   "source": [
    "# data_use2 = data_use2.rename(columns={'区域类型':'区域类型1'})"
   ]
  },
  {
   "cell_type": "code",
   "execution_count": 11,
   "metadata": {
    "ExecuteTime": {
     "end_time": "2020-08-19T00:46:51.694998Z",
     "start_time": "2020-08-19T00:46:48.789629Z"
    },
    "scrolled": false
   },
   "outputs": [],
   "source": [
    "data_changjing = mytools.gisn.points_coverage_merge(data_use2)"
   ]
  },
  {
   "cell_type": "code",
   "execution_count": 12,
   "metadata": {
    "ExecuteTime": {
     "end_time": "2020-08-19T00:47:06.987940Z",
     "start_time": "2020-08-19T00:47:06.924431Z"
    }
   },
   "outputs": [],
   "source": [
    "data_jl = mytools.gisn.changjing_distance(data_changjing,'区域类型','工作频段')"
   ]
  },
  {
   "cell_type": "code",
   "execution_count": 14,
   "metadata": {
    "ExecuteTime": {
     "end_time": "2020-08-19T00:47:24.707690Z",
     "start_time": "2020-08-19T00:47:22.643428Z"
    }
   },
   "outputs": [],
   "source": [
    "data_s = mytools.gisn.add_sectors_df(data_jl,coords=['RRU经度','RRU纬度', 'd_height', '方位角', 'distance'],\n",
    "    has_z=False,\n",
    "    sec_col='geometry',\n",
    "    shape_dict={'beam': 120, 'per_degree': 10})"
   ]
  },
  {
   "cell_type": "markdown",
   "metadata": {},
   "source": [
    "导入开通数据"
   ]
  },
  {
   "cell_type": "code",
   "execution_count": 15,
   "metadata": {
    "ExecuteTime": {
     "end_time": "2020-08-19T02:03:20.549708Z",
     "start_time": "2020-08-19T02:03:20.364185Z"
    }
   },
   "outputs": [],
   "source": [
    "kaitong = pd.read_excel('G:/1-规划/重做30619/20200814/更新任务清单优化指标已经恢复的小区方案/2个月内开通的规划站点/2个月内催开通的站点.xlsx')"
   ]
  },
  {
   "cell_type": "code",
   "execution_count": 16,
   "metadata": {
    "ExecuteTime": {
     "end_time": "2020-08-19T02:03:24.994773Z",
     "start_time": "2020-08-19T02:03:24.986772Z"
    }
   },
   "outputs": [
    {
     "data": {
      "text/html": [
       "<div>\n",
       "<style scoped>\n",
       "    .dataframe tbody tr th:only-of-type {\n",
       "        vertical-align: middle;\n",
       "    }\n",
       "\n",
       "    .dataframe tbody tr th {\n",
       "        vertical-align: top;\n",
       "    }\n",
       "\n",
       "    .dataframe thead th {\n",
       "        text-align: right;\n",
       "    }\n",
       "</style>\n",
       "<table border=\"1\" class=\"dataframe\">\n",
       "  <thead>\n",
       "    <tr style=\"text-align: right;\">\n",
       "      <th></th>\n",
       "      <th>规划站号</th>\n",
       "      <th>lon</th>\n",
       "      <th>lat</th>\n",
       "    </tr>\n",
       "  </thead>\n",
       "  <tbody>\n",
       "    <tr>\n",
       "      <th>0</th>\n",
       "      <td>ESF320845_G_H_2</td>\n",
       "      <td>108.518608</td>\n",
       "      <td>29.791063</td>\n",
       "    </tr>\n",
       "  </tbody>\n",
       "</table>\n",
       "</div>"
      ],
      "text/plain": [
       "              规划站号         lon        lat\n",
       "0  ESF320845_G_H_2  108.518608  29.791063"
      ]
     },
     "execution_count": 16,
     "metadata": {},
     "output_type": "execute_result"
    }
   ],
   "source": [
    "kaitong.head(1)"
   ]
  },
  {
   "cell_type": "code",
   "execution_count": 17,
   "metadata": {
    "ExecuteTime": {
     "end_time": "2020-08-19T02:06:35.327442Z",
     "start_time": "2020-08-19T02:06:35.315440Z"
    }
   },
   "outputs": [],
   "source": [
    "kaitong.loc[kaitong['规划站号'].str.contains('_G_'),'制式']='FDD900'"
   ]
  },
  {
   "cell_type": "code",
   "execution_count": 18,
   "metadata": {
    "ExecuteTime": {
     "end_time": "2020-08-19T02:07:10.923462Z",
     "start_time": "2020-08-19T02:07:10.392394Z"
    }
   },
   "outputs": [],
   "source": [
    "kaitong_cj = mytools.gisn.points_coverage_merge(kaitong,'lon','lat')"
   ]
  },
  {
   "cell_type": "code",
   "execution_count": 19,
   "metadata": {
    "ExecuteTime": {
     "end_time": "2020-08-19T02:07:50.859533Z",
     "start_time": "2020-08-19T02:07:50.853532Z"
    }
   },
   "outputs": [],
   "source": [
    "kaitong_jl = mytools.gisn.changjing_distance(kaitong_cj,'区域类型','制式')"
   ]
  },
  {
   "cell_type": "code",
   "execution_count": 22,
   "metadata": {
    "ExecuteTime": {
     "end_time": "2020-08-19T02:08:45.447465Z",
     "start_time": "2020-08-19T02:08:44.966404Z"
    }
   },
   "outputs": [],
   "source": [
    "kaitong_buffer = mytools.gisn.add_buffer_df(kaitong_jl,'lon','lat','distance')"
   ]
  },
  {
   "cell_type": "code",
   "execution_count": 25,
   "metadata": {
    "ExecuteTime": {
     "end_time": "2020-08-19T02:10:16.743558Z",
     "start_time": "2020-08-19T02:10:16.434019Z"
    }
   },
   "outputs": [],
   "source": [
    "res = gpd.sjoin(data_s,kaitong_buffer)"
   ]
  },
  {
   "cell_type": "code",
   "execution_count": 34,
   "metadata": {
    "ExecuteTime": {
     "end_time": "2020-08-19T02:17:12.367836Z",
     "start_time": "2020-08-19T02:17:12.352334Z"
    }
   },
   "outputs": [],
   "source": [
    "res.drop(columns='geometry').to_clipboard()"
   ]
  },
  {
   "cell_type": "markdown",
   "metadata": {},
   "source": [
    "# 评估不同场景的重要性"
   ]
  },
  {
   "cell_type": "code",
   "execution_count": 4,
   "metadata": {
    "ExecuteTime": {
     "end_time": "2020-08-19T06:26:06.217694Z",
     "start_time": "2020-08-19T06:26:06.028170Z"
    }
   },
   "outputs": [],
   "source": [
    "data = pd.read_csv('G:/1-规划/重做30619/20200814/对优化的问题小区进行平分/可优化的28413个问题ID.csv',encoding='gbk')"
   ]
  },
  {
   "cell_type": "code",
   "execution_count": 2,
   "metadata": {
    "ExecuteTime": {
     "end_time": "2020-08-19T06:17:25.224036Z",
     "start_time": "2020-08-19T06:17:25.220535Z"
    }
   },
   "outputs": [],
   "source": [
    "f = mytools.othern.file_name_paths('G:/1-规划/重做30619/20200814/对优化的问题小区进行平分/6大场景POI图层/','tab')"
   ]
  },
  {
   "cell_type": "code",
   "execution_count": 6,
   "metadata": {
    "ExecuteTime": {
     "end_time": "2020-08-19T06:31:10.267303Z",
     "start_time": "2020-08-19T06:31:09.888255Z"
    }
   },
   "outputs": [],
   "source": [
    "data_p = mytools.gisn.add_points(data,'问题经度','问题纬度')"
   ]
  },
  {
   "cell_type": "code",
   "execution_count": 7,
   "metadata": {
    "ExecuteTime": {
     "end_time": "2020-08-19T06:33:32.209828Z",
     "start_time": "2020-08-19T06:33:21.594480Z"
    }
   },
   "outputs": [],
   "source": [
    "dic_my = dict()\n",
    "for name in f:\n",
    "    tu = gpd.read_file(name,encoding='gbk')\n",
    "    tu = tu.to_crs({\"init\": \"epsg:4326\"})\n",
    "    res_t = gpd.sjoin(data_p,tu)\n",
    "    dic_my[name.split('/')[-1].split('.')[0]] = res_t"
   ]
  },
  {
   "cell_type": "code",
   "execution_count": 8,
   "metadata": {
    "ExecuteTime": {
     "end_time": "2020-08-19T06:33:37.873047Z",
     "start_time": "2020-08-19T06:33:37.869046Z"
    }
   },
   "outputs": [
    {
     "data": {
      "text/plain": [
       "['G:/1-规划/重做30619/20200814/对优化的问题小区进行平分/6大场景POI图层/医院.TAB',\n",
       " 'G:/1-规划/重做30619/20200814/对优化的问题小区进行平分/6大场景POI图层/商业综合体.TAB',\n",
       " 'G:/1-规划/重做30619/20200814/对优化的问题小区进行平分/6大场景POI图层/大型商圈.TAB',\n",
       " 'G:/1-规划/重做30619/20200814/对优化的问题小区进行平分/6大场景POI图层/居民区.TAB',\n",
       " 'G:/1-规划/重做30619/20200814/对优化的问题小区进行平分/6大场景POI图层/风景区.TAB',\n",
       " 'G:/1-规划/重做30619/20200814/对优化的问题小区进行平分/6大场景POI图层/高校.TAB']"
      ]
     },
     "execution_count": 8,
     "metadata": {},
     "output_type": "execute_result"
    }
   ],
   "source": [
    "f"
   ]
  },
  {
   "cell_type": "code",
   "execution_count": null,
   "metadata": {},
   "outputs": [],
   "source": []
  },
  {
   "cell_type": "code",
   "execution_count": 20,
   "metadata": {
    "ExecuteTime": {
     "end_time": "2020-08-19T06:42:47.499340Z",
     "start_time": "2020-08-19T06:42:47.492839Z"
    }
   },
   "outputs": [
    {
     "data": {
      "text/plain": [
       "Index(['问题ID', '问题经度', '问题纬度', '问题方位角', '问题场景', '问题制式', 'distance', '现网ID',\n",
       "       '现网经度', '现网纬度', '现网制式', '问题和现网距离', '优化得分', '方案类型', 'geometry',\n",
       "       'index_right', '新编号', '医院老编号', '省份', '地市', '区县', '区域类型', '场景分类', '名称',\n",
       "       '地址', '面积', '中心经度', '中心纬度', '备注1', '备注2', '备注3'],\n",
       "      dtype='object')"
      ]
     },
     "execution_count": 20,
     "metadata": {},
     "output_type": "execute_result"
    }
   ],
   "source": [
    "dic_my['商业综合体'].columns"
   ]
  },
  {
   "cell_type": "code",
   "execution_count": 26,
   "metadata": {
    "ExecuteTime": {
     "end_time": "2020-08-19T06:46:14.320103Z",
     "start_time": "2020-08-19T06:46:14.304101Z"
    }
   },
   "outputs": [],
   "source": [
    "dic_my['高校'][['问题ID', '新编号']].to_clipboard()"
   ]
  },
  {
   "cell_type": "markdown",
   "metadata": {},
   "source": [
    "# 验证规划与空洞关联度的问题"
   ]
  },
  {
   "cell_type": "code",
   "execution_count": 59,
   "metadata": {
    "ExecuteTime": {
     "end_time": "2020-08-19T08:23:52.446991Z",
     "start_time": "2020-08-19T08:23:52.033938Z"
    }
   },
   "outputs": [],
   "source": [
    "#导入衔接的数据\n",
    "xianjie = pd.read_excel('G:/1-规划/重做30619/20200814/反向验证与规划衔接的吻合度/衔接结果400个.xlsx')\n",
    "#导入空洞图层\n",
    "kongd = pd.read_pickle('G:/1-规划/评估/覆盖空洞/20200712第四版本/3-拆分后的空洞/覆盖空19481个添加场景区分大中小微.data')"
   ]
  },
  {
   "cell_type": "code",
   "execution_count": 73,
   "metadata": {
    "ExecuteTime": {
     "end_time": "2020-08-19T08:33:12.684632Z",
     "start_time": "2020-08-19T08:33:12.678131Z"
    }
   },
   "outputs": [],
   "source": [
    "kongd_use = kongd.loc[kongd['空洞级别'].isin(['大','中','小'])]"
   ]
  },
  {
   "cell_type": "code",
   "execution_count": 63,
   "metadata": {
    "ExecuteTime": {
     "end_time": "2020-08-19T08:27:17.545035Z",
     "start_time": "2020-08-19T08:27:09.913566Z"
    }
   },
   "outputs": [
    {
     "name": "stderr",
     "output_type": "stream",
     "text": [
      "C:\\ProgramData\\Anaconda3\\lib\\site-packages\\IPython\\core\\interactiveshell.py:3058: DtypeWarning: Columns (12,14) have mixed types.Specify dtype option on import or set low_memory=False.\n",
      "  interactivity=interactivity, compiler=compiler, result=result)\n"
     ]
    }
   ],
   "source": [
    "#导入工参数据\n",
    "gongcan = pd.read_csv('g:/1-规划/工参/工参数据/ltejizhan20200715.csv',encoding='gbk')\n",
    "gongcan_use = gongcan.loc[(gongcan['RRU经度']>0)&(gongcan['RRU纬度']>0)][['小区CGI(*)','小区中文名', 'RRU经度', 'RRU纬度','工作频段','方位角','所属地区']]"
   ]
  },
  {
   "cell_type": "code",
   "execution_count": 64,
   "metadata": {
    "ExecuteTime": {
     "end_time": "2020-08-19T08:27:36.158399Z",
     "start_time": "2020-08-19T08:27:36.014380Z"
    }
   },
   "outputs": [],
   "source": [
    "#匹配与空洞是否有交集\n",
    "xianjie2 = xianjie.merge(gongcan_use,how='left',left_on='小区名',right_on='小区中文名')"
   ]
  },
  {
   "cell_type": "code",
   "execution_count": 68,
   "metadata": {
    "ExecuteTime": {
     "end_time": "2020-08-19T08:30:09.843914Z",
     "start_time": "2020-08-19T08:30:09.839414Z"
    }
   },
   "outputs": [],
   "source": [
    "xianjie2 = xianjie2.loc[xianjie2['RRU经度'].notna()]"
   ]
  },
  {
   "cell_type": "code",
   "execution_count": 78,
   "metadata": {
    "ExecuteTime": {
     "end_time": "2020-08-19T08:36:39.604908Z",
     "start_time": "2020-08-19T08:36:39.598907Z"
    }
   },
   "outputs": [
    {
     "data": {
      "text/plain": [
       "(351, 21)"
      ]
     },
     "execution_count": 78,
     "metadata": {},
     "output_type": "execute_result"
    }
   ],
   "source": [
    "xianjie2.shape"
   ]
  },
  {
   "cell_type": "code",
   "execution_count": 69,
   "metadata": {
    "ExecuteTime": {
     "end_time": "2020-08-19T08:30:13.160335Z",
     "start_time": "2020-08-19T08:30:12.687775Z"
    }
   },
   "outputs": [],
   "source": [
    "xianjie_cj = mytools.gisn.points_coverage_merge(xianjie2)"
   ]
  },
  {
   "cell_type": "code",
   "execution_count": 74,
   "metadata": {
    "ExecuteTime": {
     "end_time": "2020-08-19T08:33:37.512285Z",
     "start_time": "2020-08-19T08:33:37.506784Z"
    }
   },
   "outputs": [],
   "source": [
    "xianjie_jl = mytools.gisn.changjing_distance(xianjie_cj,'区域类型','工作频段','站间距')"
   ]
  },
  {
   "cell_type": "code",
   "execution_count": 75,
   "metadata": {
    "ExecuteTime": {
     "end_time": "2020-08-19T08:33:42.081865Z",
     "start_time": "2020-08-19T08:33:41.689815Z"
    }
   },
   "outputs": [],
   "source": [
    "xianjie_s = mytools.gisn.add_sectors_df(xianjie_jl,coords=['RRU经度','RRU纬度', 'd_height', '方位角', 'distance'],\n",
    "    has_z=False,\n",
    "    sec_col='geometry',\n",
    "    shape_dict={'beam': 120, 'per_degree': 10})"
   ]
  },
  {
   "cell_type": "code",
   "execution_count": 76,
   "metadata": {
    "ExecuteTime": {
     "end_time": "2020-08-19T08:33:46.275397Z",
     "start_time": "2020-08-19T08:33:45.994862Z"
    }
   },
   "outputs": [],
   "source": [
    "res = gpd.sjoin(xianjie_s,kongd_use)"
   ]
  },
  {
   "cell_type": "code",
   "execution_count": 77,
   "metadata": {
    "ExecuteTime": {
     "end_time": "2020-08-19T08:34:07.914145Z",
     "start_time": "2020-08-19T08:34:07.899143Z"
    }
   },
   "outputs": [],
   "source": [
    "res.drop(columns='geometry').to_clipboard()"
   ]
  },
  {
   "cell_type": "code",
   "execution_count": 79,
   "metadata": {
    "ExecuteTime": {
     "end_time": "2020-08-19T08:36:52.759078Z",
     "start_time": "2020-08-19T08:36:52.743076Z"
    }
   },
   "outputs": [],
   "source": [
    "xianjie2.to_clipboard()"
   ]
  },
  {
   "cell_type": "markdown",
   "metadata": {},
   "source": [
    "验证四轮十维的吻合度"
   ]
  },
  {
   "cell_type": "code",
   "execution_count": 80,
   "metadata": {
    "ExecuteTime": {
     "end_time": "2020-08-19T09:31:24.502037Z",
     "start_time": "2020-08-19T09:31:24.163494Z"
    }
   },
   "outputs": [],
   "source": [
    "#导入衔接的数据\n",
    "silun = pd.read_excel('G:/1-规划/重做30619/20200814/反向验证与规划衔接的吻合度/四轮十衔接结果.xlsx')"
   ]
  },
  {
   "cell_type": "code",
   "execution_count": 81,
   "metadata": {
    "ExecuteTime": {
     "end_time": "2020-08-19T09:31:57.703253Z",
     "start_time": "2020-08-19T09:31:57.698752Z"
    }
   },
   "outputs": [
    {
     "data": {
      "text/plain": [
       "Index(['问题点ID_', 'lon', 'lat', '制式', '地市', '四轮十维初步方案', '规划结果', '衔接结果', '衔接方案',\n",
       "       '规划站号/CGI', '规划站名', '经度', '纬度', '基站类型', '建设方式', '工期', '备注'],\n",
       "      dtype='object')"
      ]
     },
     "execution_count": 81,
     "metadata": {},
     "output_type": "execute_result"
    }
   ],
   "source": [
    "silun.columns"
   ]
  },
  {
   "cell_type": "code",
   "execution_count": 82,
   "metadata": {
    "ExecuteTime": {
     "end_time": "2020-08-19T09:32:29.576800Z",
     "start_time": "2020-08-19T09:32:28.987225Z"
    }
   },
   "outputs": [],
   "source": [
    "silun_cj = mytools.gisn.points_coverage_merge(silun,'lon','lat')"
   ]
  },
  {
   "cell_type": "code",
   "execution_count": 83,
   "metadata": {
    "ExecuteTime": {
     "end_time": "2020-08-19T09:33:08.055686Z",
     "start_time": "2020-08-19T09:33:08.049685Z"
    }
   },
   "outputs": [],
   "source": [
    "silun_jl = mytools.gisn.changjing_distance(silun_cj,'区域类型','制式','站间距')"
   ]
  },
  {
   "cell_type": "code",
   "execution_count": 85,
   "metadata": {
    "ExecuteTime": {
     "end_time": "2020-08-19T09:34:26.195609Z",
     "start_time": "2020-08-19T09:34:25.469516Z"
    }
   },
   "outputs": [],
   "source": [
    "silun_buffer = mytools.gisn.add_buffer_df(silun_jl,'lon','lat','distance')"
   ]
  },
  {
   "cell_type": "code",
   "execution_count": 86,
   "metadata": {
    "ExecuteTime": {
     "end_time": "2020-08-19T09:34:37.890094Z",
     "start_time": "2020-08-19T09:34:37.652063Z"
    }
   },
   "outputs": [],
   "source": [
    "res = gpd.sjoin(silun_buffer,kongd_use)"
   ]
  },
  {
   "cell_type": "code",
   "execution_count": 87,
   "metadata": {
    "ExecuteTime": {
     "end_time": "2020-08-19T09:34:43.270777Z",
     "start_time": "2020-08-19T09:34:43.232772Z"
    }
   },
   "outputs": [],
   "source": [
    "res.drop(columns='geometry').to_clipboard()"
   ]
  },
  {
   "cell_type": "markdown",
   "metadata": {},
   "source": [
    "# 使用新算法计算规划数据"
   ]
  },
  {
   "cell_type": "code",
   "execution_count": 2,
   "metadata": {
    "ExecuteTime": {
     "end_time": "2020-08-19T12:48:13.465084Z",
     "start_time": "2020-08-19T12:47:39.350752Z"
    }
   },
   "outputs": [],
   "source": [
    "#导入空洞图层\n",
    "kongd = pd.read_pickle('G:/1-规划/评估/覆盖空洞/20200712第四版本/3-拆分后的空洞/覆盖空19481个添加场景区分大中小微.data')\n",
    "kongd_use = kongd.loc[kongd['空洞级别'].isin(['大','中','小'])]\n",
    "#导入任务清单\n",
    "data = pd.read_excel('g:/1-规划/崔开通崔可研规划/2020年任务清单/20200813/2020年任务清单（场景+MR）0813v2.xlsx')\n",
    "data_use = data.loc[(data['规划-20200819']=='规划') & (data['分类']=='2020年5月新任务清单')]"
   ]
  },
  {
   "cell_type": "code",
   "execution_count": 3,
   "metadata": {
    "ExecuteTime": {
     "end_time": "2020-08-19T12:48:21.140059Z",
     "start_time": "2020-08-19T12:48:13.620604Z"
    }
   },
   "outputs": [
    {
     "name": "stderr",
     "output_type": "stream",
     "text": [
      "C:\\ProgramData\\Anaconda3\\lib\\site-packages\\IPython\\core\\interactiveshell.py:3058: DtypeWarning: Columns (12,14) have mixed types.Specify dtype option on import or set low_memory=False.\n",
      "  interactivity=interactivity, compiler=compiler, result=result)\n"
     ]
    }
   ],
   "source": [
    "#导入工参数据\n",
    "gongcan = pd.read_csv('g:/1-规划/工参/工参数据/ltejizhan20200715.csv',encoding='gbk')\n",
    "gongcan_use = gongcan.loc[(gongcan['RRU经度']>0)&(gongcan['RRU纬度']>0)][['小区CGI(*)',\n",
    "                                                                      '小区中文名', 'RRU经度', 'RRU纬度','工作频段','方位角','所属地区']]"
   ]
  },
  {
   "cell_type": "code",
   "execution_count": 4,
   "metadata": {
    "ExecuteTime": {
     "end_time": "2020-08-19T12:49:29.531744Z",
     "start_time": "2020-08-19T12:49:29.275711Z"
    }
   },
   "outputs": [],
   "source": [
    "#匹配到任务清单经纬度\n",
    "data_use = data_use.merge(gongcan_use,how='left',left_on='对应cgi',right_on='小区CGI(*)')"
   ]
  },
  {
   "cell_type": "code",
   "execution_count": 5,
   "metadata": {
    "ExecuteTime": {
     "end_time": "2020-08-19T12:49:38.933437Z",
     "start_time": "2020-08-19T12:49:38.912435Z"
    }
   },
   "outputs": [],
   "source": [
    "data_use2= data_use.loc[(data_use['RRU经度']>0)&(data_use['RRU纬度']>0)]"
   ]
  },
  {
   "cell_type": "code",
   "execution_count": 6,
   "metadata": {
    "ExecuteTime": {
     "end_time": "2020-08-19T12:49:46.938454Z",
     "start_time": "2020-08-19T12:49:46.923452Z"
    }
   },
   "outputs": [],
   "source": [
    "data_use2 = data_use2.rename(columns={'区域类型':'区域类型1'})"
   ]
  },
  {
   "cell_type": "code",
   "execution_count": 7,
   "metadata": {
    "ExecuteTime": {
     "end_time": "2020-08-19T12:50:13.711354Z",
     "start_time": "2020-08-19T12:50:12.476697Z"
    }
   },
   "outputs": [],
   "source": [
    "data_changjing = mytools.gisn.points_coverage_merge(data_use2)"
   ]
  },
  {
   "cell_type": "code",
   "execution_count": 8,
   "metadata": {
    "ExecuteTime": {
     "end_time": "2020-08-19T12:50:22.962528Z",
     "start_time": "2020-08-19T12:50:22.930524Z"
    }
   },
   "outputs": [],
   "source": [
    "data_jl = mytools.gisn.changjing_distance(data_changjing,'区域类型','工作频段_y',use_type='站间距')"
   ]
  },
  {
   "cell_type": "code",
   "execution_count": 10,
   "metadata": {
    "ExecuteTime": {
     "end_time": "2020-08-19T12:51:00.811335Z",
     "start_time": "2020-08-19T12:51:00.806834Z"
    }
   },
   "outputs": [],
   "source": [
    "data_jl['distance2'] = data_jl['distance']+data_jl['distance']"
   ]
  },
  {
   "cell_type": "code",
   "execution_count": 16,
   "metadata": {
    "ExecuteTime": {
     "end_time": "2020-08-19T12:57:02.234230Z",
     "start_time": "2020-08-19T12:56:55.634391Z"
    }
   },
   "outputs": [],
   "source": [
    "data_s = mytools.gisn.add_sectors_df(data_jl,coords=['RRU经度','RRU纬度', 'd_height', '方位角_y', 'distance'],\n",
    "    has_z=False,\n",
    "    sec_col='geometry',\n",
    "    shape_dict={'beam': 120, 'per_degree': 10})"
   ]
  },
  {
   "cell_type": "code",
   "execution_count": 17,
   "metadata": {
    "ExecuteTime": {
     "end_time": "2020-08-19T13:04:37.831583Z",
     "start_time": "2020-08-19T13:04:36.395901Z"
    }
   },
   "outputs": [],
   "source": [
    "data_s = mytools.gisn.add_area(data_s,'原面积_1倍')"
   ]
  },
  {
   "cell_type": "code",
   "execution_count": 18,
   "metadata": {
    "ExecuteTime": {
     "end_time": "2020-08-19T13:04:56.128907Z",
     "start_time": "2020-08-19T13:04:49.465060Z"
    }
   },
   "outputs": [],
   "source": [
    "data_s = mytools.gisn.add_sectors_df(data_s,coords=['RRU经度','RRU纬度', 'd_height', '方位角_y', 'distance2'],\n",
    "    has_z=False,\n",
    "    sec_col='geometry',\n",
    "    shape_dict={'beam': 120, 'per_degree': 10})"
   ]
  },
  {
   "cell_type": "code",
   "execution_count": 19,
   "metadata": {
    "ExecuteTime": {
     "end_time": "2020-08-19T13:04:56.636471Z",
     "start_time": "2020-08-19T13:04:56.631970Z"
    }
   },
   "outputs": [
    {
     "data": {
      "text/plain": [
       "(6002, 90)"
      ]
     },
     "execution_count": 19,
     "metadata": {},
     "output_type": "execute_result"
    }
   ],
   "source": [
    "data_s.shape"
   ]
  },
  {
   "cell_type": "code",
   "execution_count": 20,
   "metadata": {
    "ExecuteTime": {
     "end_time": "2020-08-19T13:04:57.943137Z",
     "start_time": "2020-08-19T13:04:57.937636Z"
    }
   },
   "outputs": [
    {
     "data": {
      "text/plain": [
       "Index([            '唯一编号',      '问题点或问题小区cgi',            '对应cgi',\n",
       "                    '小区名',               7734,          '所属网洞ID_',\n",
       "                '问题点中心经度',          '问题点中心纬度',            '是否计划内',\n",
       "                     '分类',               '地市',               '区县',\n",
       "                     '厂家',             '是否黑点',               '场景',\n",
       "                  '小区名.1',               '总点',               '弱点',\n",
       "                    '覆盖率',            '联通覆盖率',            '改善后总点',\n",
       "                  '改善后弱点',           '改善后覆盖率',            '电信覆盖率',\n",
       "                    'lon',              'lat',             '天线挂高',\n",
       "                  '方位角_x',             '覆盖类型',           '工作频段_x',\n",
       "               '设备类型(大类)',            '区域类型1',               '优化',\n",
       "              '已经改善的问题小区', '需要匹配解决方案优化或者开通站点',      '2个月内周边有新建站点',\n",
       "            '1个月内小区有优化流程',           '最终完成方案',      '规划-20200819',\n",
       "                     '规划',          '规划与空洞相交',              '催可研',\n",
       "                     '催开',            '方案-最新',       'TDL规划站号（新）',\n",
       "                   '规划站名',               '站型',             '工期核实',\n",
       "                   '优化完成',             '规划完成',             '可研完成',\n",
       "                   '催开完成',            '优化已派发',      'Unnamed: 53',\n",
       "                 '优化派发时间',            '派发处方案',             '优化有效',\n",
       "                 '优化派发批次',               '备注',           '优化3500',\n",
       "               '7734不能派发',        '平台已经有不能派发',         '最终是否能够派发',\n",
       "                 '是否有效数据',              '备注2',       '带共址的建设规划站号',\n",
       "                 '带共址的工期',               '流量',               '投诉',\n",
       "                   '得分K1',             '得分K2',             '得分K3',\n",
       "                    '总得分',      '是否与四轮十维清单重合',            '重合已规划',\n",
       "              '对应的四轮十维编号',         '四轮十维最新方案',            '小区CGI',\n",
       "               '小区CGI(*)',            '小区中文名',            'RRU经度',\n",
       "                  'RRU纬度',           '工作频段_y',            '方位角_y',\n",
       "                   '所属地区',             '区域类型',         'distance',\n",
       "              'distance2',         'geometry',           '原面积_1倍'],\n",
       "      dtype='object')"
      ]
     },
     "execution_count": 20,
     "metadata": {},
     "output_type": "execute_result"
    }
   ],
   "source": [
    "data_s.columns"
   ]
  },
  {
   "cell_type": "code",
   "execution_count": 21,
   "metadata": {
    "ExecuteTime": {
     "end_time": "2020-08-19T14:03:08.631398Z",
     "start_time": "2020-08-19T13:05:36.206996Z"
    }
   },
   "outputs": [],
   "source": [
    "data_z = gpd.GeoDataFrame()\n",
    "for name_t , data_t in data_s.groupby('唯一编号'):\n",
    "    res_t = gpd.overlay(data_t,kongd_use)\n",
    "    data_z = data_z.append(res_t)"
   ]
  },
  {
   "cell_type": "code",
   "execution_count": 36,
   "metadata": {
    "ExecuteTime": {
     "end_time": "2020-08-19T14:23:31.430674Z",
     "start_time": "2020-08-19T14:23:31.425673Z"
    }
   },
   "outputs": [],
   "source": [
    "data_z1= data_z[['唯一编号','原面积_1倍','geometry']]"
   ]
  },
  {
   "cell_type": "code",
   "execution_count": 37,
   "metadata": {
    "ExecuteTime": {
     "end_time": "2020-08-19T14:23:39.297173Z",
     "start_time": "2020-08-19T14:23:37.961503Z"
    }
   },
   "outputs": [],
   "source": [
    "data_z3= mytools.gisn.add_area(data_z1,'交集面积')"
   ]
  },
  {
   "cell_type": "code",
   "execution_count": 38,
   "metadata": {
    "ExecuteTime": {
     "end_time": "2020-08-19T14:23:40.674848Z",
     "start_time": "2020-08-19T14:23:40.562833Z"
    }
   },
   "outputs": [],
   "source": [
    "data_z3.to_pickle('G:/1-规划/重做30619/20200814/反向验证与规划衔接的吻合度/任务清单可规划清单.data')"
   ]
  },
  {
   "cell_type": "code",
   "execution_count": 39,
   "metadata": {
    "ExecuteTime": {
     "end_time": "2020-08-19T14:23:41.993015Z",
     "start_time": "2020-08-19T14:23:41.964011Z"
    }
   },
   "outputs": [],
   "source": [
    "data_z3.drop(columns='geometry').to_clipboard()"
   ]
  },
  {
   "cell_type": "code",
   "execution_count": 42,
   "metadata": {
    "ExecuteTime": {
     "end_time": "2020-08-19T14:24:05.693025Z",
     "start_time": "2020-08-19T14:24:05.668521Z"
    }
   },
   "outputs": [],
   "source": [
    "data_z3.drop(columns='geometry').to_csv('G:/1-规划/重做30619/20200814/反向验证与规划衔接的吻合度/任务清单可规划清单.csv',encoding='gbk')"
   ]
  },
  {
   "cell_type": "code",
   "execution_count": 41,
   "metadata": {
    "ExecuteTime": {
     "end_time": "2020-08-19T14:23:51.272193Z",
     "start_time": "2020-08-19T14:23:51.248190Z"
    }
   },
   "outputs": [
    {
     "data": {
      "text/html": [
       "<div>\n",
       "<style scoped>\n",
       "    .dataframe tbody tr th:only-of-type {\n",
       "        vertical-align: middle;\n",
       "    }\n",
       "\n",
       "    .dataframe tbody tr th {\n",
       "        vertical-align: top;\n",
       "    }\n",
       "\n",
       "    .dataframe thead th {\n",
       "        text-align: right;\n",
       "    }\n",
       "</style>\n",
       "<table border=\"1\" class=\"dataframe\">\n",
       "  <thead>\n",
       "    <tr style=\"text-align: right;\">\n",
       "      <th></th>\n",
       "      <th>唯一编号</th>\n",
       "      <th>原面积_1倍</th>\n",
       "      <th>geometry</th>\n",
       "      <th>交集面积</th>\n",
       "    </tr>\n",
       "  </thead>\n",
       "  <tbody>\n",
       "    <tr>\n",
       "      <th>0</th>\n",
       "      <td>100103</td>\n",
       "      <td>1.501080e+06</td>\n",
       "      <td>POLYGON ((114.58780 30.40977, 114.58756 30.412...</td>\n",
       "      <td>7.732262e+03</td>\n",
       "    </tr>\n",
       "    <tr>\n",
       "      <th>0</th>\n",
       "      <td>100108</td>\n",
       "      <td>3.752342e+05</td>\n",
       "      <td>POLYGON ((114.69462 30.54424, 114.69430 30.544...</td>\n",
       "      <td>2.543693e+05</td>\n",
       "    </tr>\n",
       "    <tr>\n",
       "      <th>0</th>\n",
       "      <td>100110</td>\n",
       "      <td>3.752304e+05</td>\n",
       "      <td>POLYGON ((114.69511 30.54093, 114.69510 30.540...</td>\n",
       "      <td>2.175346e+05</td>\n",
       "    </tr>\n",
       "    <tr>\n",
       "      <th>0</th>\n",
       "      <td>100111</td>\n",
       "      <td>3.752510e+05</td>\n",
       "      <td>POLYGON ((114.64900 30.56167, 114.65233 30.565...</td>\n",
       "      <td>5.370356e+05</td>\n",
       "    </tr>\n",
       "    <tr>\n",
       "      <th>0</th>\n",
       "      <td>100115</td>\n",
       "      <td>3.752493e+05</td>\n",
       "      <td>POLYGON ((114.65224 30.51589, 114.65128 30.516...</td>\n",
       "      <td>4.362979e+03</td>\n",
       "    </tr>\n",
       "    <tr>\n",
       "      <th>...</th>\n",
       "      <td>...</td>\n",
       "      <td>...</td>\n",
       "      <td>...</td>\n",
       "      <td>...</td>\n",
       "    </tr>\n",
       "    <tr>\n",
       "      <th>0</th>\n",
       "      <td>112044</td>\n",
       "      <td>2.363766e+06</td>\n",
       "      <td>POLYGON ((110.64263 31.12976, 110.64263 31.125...</td>\n",
       "      <td>1.219066e+05</td>\n",
       "    </tr>\n",
       "    <tr>\n",
       "      <th>0</th>\n",
       "      <td>112045</td>\n",
       "      <td>2.363737e+06</td>\n",
       "      <td>POLYGON ((110.62556 31.17025, 110.62690 31.171...</td>\n",
       "      <td>1.750870e+06</td>\n",
       "    </tr>\n",
       "    <tr>\n",
       "      <th>0</th>\n",
       "      <td>112049</td>\n",
       "      <td>1.144748e+07</td>\n",
       "      <td>POLYGON ((110.48300 30.90504, 110.48494 30.902...</td>\n",
       "      <td>1.445247e+06</td>\n",
       "    </tr>\n",
       "    <tr>\n",
       "      <th>1</th>\n",
       "      <td>112049</td>\n",
       "      <td>1.144748e+07</td>\n",
       "      <td>POLYGON ((110.43292 30.89000, 110.43425 30.893...</td>\n",
       "      <td>8.890353e+04</td>\n",
       "    </tr>\n",
       "    <tr>\n",
       "      <th>0</th>\n",
       "      <td>112056</td>\n",
       "      <td>1.511538e+06</td>\n",
       "      <td>POLYGON ((110.97434 30.87092, 110.97519 30.869...</td>\n",
       "      <td>9.521397e+03</td>\n",
       "    </tr>\n",
       "  </tbody>\n",
       "</table>\n",
       "<p>3153 rows × 4 columns</p>\n",
       "</div>"
      ],
      "text/plain": [
       "      唯一编号        原面积_1倍                                           geometry  \\\n",
       "0   100103  1.501080e+06  POLYGON ((114.58780 30.40977, 114.58756 30.412...   \n",
       "0   100108  3.752342e+05  POLYGON ((114.69462 30.54424, 114.69430 30.544...   \n",
       "0   100110  3.752304e+05  POLYGON ((114.69511 30.54093, 114.69510 30.540...   \n",
       "0   100111  3.752510e+05  POLYGON ((114.64900 30.56167, 114.65233 30.565...   \n",
       "0   100115  3.752493e+05  POLYGON ((114.65224 30.51589, 114.65128 30.516...   \n",
       "..     ...           ...                                                ...   \n",
       "0   112044  2.363766e+06  POLYGON ((110.64263 31.12976, 110.64263 31.125...   \n",
       "0   112045  2.363737e+06  POLYGON ((110.62556 31.17025, 110.62690 31.171...   \n",
       "0   112049  1.144748e+07  POLYGON ((110.48300 30.90504, 110.48494 30.902...   \n",
       "1   112049  1.144748e+07  POLYGON ((110.43292 30.89000, 110.43425 30.893...   \n",
       "0   112056  1.511538e+06  POLYGON ((110.97434 30.87092, 110.97519 30.869...   \n",
       "\n",
       "            交集面积  \n",
       "0   7.732262e+03  \n",
       "0   2.543693e+05  \n",
       "0   2.175346e+05  \n",
       "0   5.370356e+05  \n",
       "0   4.362979e+03  \n",
       "..           ...  \n",
       "0   1.219066e+05  \n",
       "0   1.750870e+06  \n",
       "0   1.445247e+06  \n",
       "1   8.890353e+04  \n",
       "0   9.521397e+03  \n",
       "\n",
       "[3153 rows x 4 columns]"
      ]
     },
     "execution_count": 41,
     "metadata": {},
     "output_type": "execute_result"
    }
   ],
   "source": [
    "data_z3"
   ]
  },
  {
   "cell_type": "code",
   "execution_count": null,
   "metadata": {},
   "outputs": [],
   "source": []
  }
 ],
 "metadata": {
  "kernelspec": {
   "display_name": "Python 3",
   "language": "python",
   "name": "python3"
  },
  "language_info": {
   "codemirror_mode": {
    "name": "ipython",
    "version": 3
   },
   "file_extension": ".py",
   "mimetype": "text/x-python",
   "name": "python",
   "nbconvert_exporter": "python",
   "pygments_lexer": "ipython3",
   "version": "3.7.4"
  },
  "toc": {
   "base_numbering": 1,
   "nav_menu": {},
   "number_sections": true,
   "sideBar": true,
   "skip_h1_title": false,
   "title_cell": "Table of Contents",
   "title_sidebar": "Contents",
   "toc_cell": false,
   "toc_position": {},
   "toc_section_display": true,
   "toc_window_display": false
  },
  "varInspector": {
   "cols": {
    "lenName": 16,
    "lenType": 16,
    "lenVar": 40
   },
   "kernels_config": {
    "python": {
     "delete_cmd_postfix": "",
     "delete_cmd_prefix": "del ",
     "library": "var_list.py",
     "varRefreshCmd": "print(var_dic_list())"
    },
    "r": {
     "delete_cmd_postfix": ") ",
     "delete_cmd_prefix": "rm(",
     "library": "var_list.r",
     "varRefreshCmd": "cat(var_dic_list()) "
    }
   },
   "types_to_exclude": [
    "module",
    "function",
    "builtin_function_or_method",
    "instance",
    "_Feature"
   ],
   "window_display": false
  }
 },
 "nbformat": 4,
 "nbformat_minor": 2
}
