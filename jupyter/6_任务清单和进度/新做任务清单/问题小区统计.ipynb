{
 "cells": [
  {
   "cell_type": "code",
   "execution_count": 1,
   "metadata": {
    "ExecuteTime": {
     "end_time": "2020-08-21T09:22:18.947777Z",
     "start_time": "2020-08-21T09:22:17.348074Z"
    }
   },
   "outputs": [],
   "source": [
    "import pandas as pd\n",
    "import mytools\n",
    "import geopandas as gpd"
   ]
  },
  {
   "cell_type": "markdown",
   "metadata": {},
   "source": [
    "# 工参数据"
   ]
  },
  {
   "cell_type": "code",
   "execution_count": null,
   "metadata": {
    "ExecuteTime": {
     "end_time": "2020-08-18T03:26:29.090390Z",
     "start_time": "2020-08-18T03:26:19.574182Z"
    }
   },
   "outputs": [],
   "source": [
    "data = pd.read_csv('g:/1-规划/工参/工参数据/ltejizhan20200715.csv',encoding='gbk')"
   ]
  },
  {
   "cell_type": "code",
   "execution_count": null,
   "metadata": {
    "ExecuteTime": {
     "end_time": "2020-08-18T03:26:30.142024Z",
     "start_time": "2020-08-18T03:26:30.135523Z"
    }
   },
   "outputs": [],
   "source": [
    "data.columns"
   ]
  },
  {
   "cell_type": "code",
   "execution_count": null,
   "metadata": {
    "ExecuteTime": {
     "end_time": "2020-08-18T03:26:31.608710Z",
     "start_time": "2020-08-18T03:26:31.331675Z"
    }
   },
   "outputs": [],
   "source": [
    "data_use = data.loc[(data['RRU经度']>0)&(data['RRU纬度']>0)&(data['方位角']>-1)]"
   ]
  },
  {
   "cell_type": "code",
   "execution_count": null,
   "metadata": {
    "ExecuteTime": {
     "end_time": "2020-08-18T03:26:34.377561Z",
     "start_time": "2020-08-18T03:26:32.850367Z"
    }
   },
   "outputs": [],
   "source": [
    "#只要宏站\n",
    "data_use['小区中文名'] = data_use['小区中文名'].fillna('无')\n",
    "data_use = data_use.loc[~data_use['小区中文名'].str.contains('W-')]\n",
    "data_use = data_use.loc[~data_use['小区中文名'].str.contains('R')]\n",
    "data_use = data_use.loc[~data_use['小区中文名'].str.contains('M-')]"
   ]
  },
  {
   "cell_type": "code",
   "execution_count": null,
   "metadata": {
    "ExecuteTime": {
     "end_time": "2020-08-18T03:26:36.039272Z",
     "start_time": "2020-08-18T03:26:35.935259Z"
    }
   },
   "outputs": [],
   "source": [
    "data_use = data_use[['小区CGI(*)', 'RRU经度', 'RRU纬度', '方位角', '工作频段']]"
   ]
  },
  {
   "cell_type": "code",
   "execution_count": null,
   "metadata": {
    "ExecuteTime": {
     "end_time": "2020-08-18T03:27:08.179354Z",
     "start_time": "2020-08-18T03:26:37.043900Z"
    }
   },
   "outputs": [],
   "source": [
    "data_use = mytools.gisn.points_coverage_merge(data_use,'RRU经度','RRU纬度')"
   ]
  },
  {
   "cell_type": "code",
   "execution_count": null,
   "metadata": {
    "ExecuteTime": {
     "end_time": "2020-08-18T03:27:09.356003Z",
     "start_time": "2020-08-18T03:27:09.350002Z"
    }
   },
   "outputs": [],
   "source": [
    "data_use.columns"
   ]
  },
  {
   "cell_type": "code",
   "execution_count": null,
   "metadata": {
    "ExecuteTime": {
     "end_time": "2020-08-18T03:27:13.235496Z",
     "start_time": "2020-08-18T03:27:10.404136Z"
    }
   },
   "outputs": [],
   "source": [
    "data_use.to_csv('g:/1-规划/重做30619/20200814/1-基础数据/现网小区.csv',encoding='gbk',index=False)"
   ]
  },
  {
   "cell_type": "markdown",
   "metadata": {},
   "source": [
    "# 软采小区选择\n",
    " "
   ]
  },
  {
   "cell_type": "code",
   "execution_count": null,
   "metadata": {
    "ExecuteTime": {
     "end_time": "2020-08-18T03:27:16.003347Z",
     "start_time": "2020-08-18T03:27:14.296130Z"
    }
   },
   "outputs": [],
   "source": [
    "ruacnai_6 = pd.read_csv('g:/1-规划/评估/软采评估/2020年二季度/3-输出内容/各地市软采小区数据/软采小区总数据.csv',encoding='gbk')"
   ]
  },
  {
   "cell_type": "code",
   "execution_count": null,
   "metadata": {
    "ExecuteTime": {
     "end_time": "2020-08-18T03:27:18.670186Z",
     "start_time": "2020-08-18T03:27:17.014476Z"
    }
   },
   "outputs": [],
   "source": [
    "ruacnai_7 = pd.read_csv('g:/1-规划/评估/软采评估/2020年7月/3-输出内容/各地市软采小区数据/软采小区总数据.csv',encoding='gbk')"
   ]
  },
  {
   "cell_type": "code",
   "execution_count": null,
   "metadata": {
    "ExecuteTime": {
     "end_time": "2020-08-18T03:27:19.797829Z",
     "start_time": "2020-08-18T03:27:19.791328Z"
    }
   },
   "outputs": [],
   "source": [
    "ruacnai_6.columns"
   ]
  },
  {
   "cell_type": "code",
   "execution_count": null,
   "metadata": {
    "ExecuteTime": {
     "end_time": "2020-08-18T03:27:20.868965Z",
     "start_time": "2020-08-18T03:27:20.799456Z"
    }
   },
   "outputs": [],
   "source": [
    "ruacnai_6_use = ruacnai_6[(ruacnai_6['fgl_cmcc']<0.9)&(ruacnai_6['rsrp_sample_count']>=1000)]\n",
    "ruacnai_7_use = ruacnai_7[(ruacnai_7['fgl_cmcc']<0.9)&(ruacnai_7['rsrp_sample_count']>=1000)]"
   ]
  },
  {
   "cell_type": "code",
   "execution_count": null,
   "metadata": {
    "ExecuteTime": {
     "end_time": "2020-08-18T03:27:22.091620Z",
     "start_time": "2020-08-18T03:27:21.867592Z"
    }
   },
   "outputs": [],
   "source": [
    "ruacnai_res = ruacnai_6_use.merge(ruacnai_7_use,on='小区CGI(*)')"
   ]
  },
  {
   "cell_type": "code",
   "execution_count": null,
   "metadata": {
    "ExecuteTime": {
     "end_time": "2020-08-18T03:27:23.173258Z",
     "start_time": "2020-08-18T03:27:23.125752Z"
    }
   },
   "outputs": [],
   "source": [
    "ruacnai_res = ruacnai_res[['小区CGI(*)', 'rsrp_sample_count_x', 'rsrp_weak_x','fgl_cmcc_x']]"
   ]
  },
  {
   "cell_type": "code",
   "execution_count": null,
   "metadata": {
    "ExecuteTime": {
     "end_time": "2020-08-18T03:27:24.321403Z",
     "start_time": "2020-08-18T03:27:24.096375Z"
    }
   },
   "outputs": [],
   "source": [
    "res = ruacnai_res.merge(data_use,how='left',on='小区CGI(*)')"
   ]
  },
  {
   "cell_type": "code",
   "execution_count": null,
   "metadata": {
    "ExecuteTime": {
     "end_time": "2020-08-18T03:27:25.418043Z",
     "start_time": "2020-08-18T03:27:25.387039Z"
    }
   },
   "outputs": [],
   "source": [
    "res = res.loc[res['RRU经度'].notna()]"
   ]
  },
  {
   "cell_type": "code",
   "execution_count": null,
   "metadata": {
    "ExecuteTime": {
     "end_time": "2020-08-18T03:27:27.183767Z",
     "start_time": "2020-08-18T03:27:26.358662Z"
    }
   },
   "outputs": [],
   "source": [
    "res.to_csv('g:/1-规划/重做30619/20200814/1-基础数据/问题小区.csv',encoding='gbk',index=False)"
   ]
  },
  {
   "cell_type": "code",
   "execution_count": null,
   "metadata": {
    "ExecuteTime": {
     "end_time": "2020-08-18T03:24:35.138420Z",
     "start_time": "2020-08-18T03:24:35.049909Z"
    }
   },
   "outputs": [],
   "source": [
    "#输出已经改善的小区\n",
    "ruacnai_6_use2 = ruacnai_6[(ruacnai_6['fgl_cmcc']>0.9)&(ruacnai_6['rsrp_sample_count']>=1000)]\n",
    "ruacnai_7_use2 = ruacnai_7[(ruacnai_7['fgl_cmcc']>0.9)&(ruacnai_7['rsrp_sample_count']>=1000)]"
   ]
  },
  {
   "cell_type": "code",
   "execution_count": null,
   "metadata": {
    "ExecuteTime": {
     "end_time": "2020-08-18T03:24:52.516127Z",
     "start_time": "2020-08-18T03:24:52.102074Z"
    }
   },
   "outputs": [],
   "source": [
    "ruacnai_res2 = ruacnai_6_use2.merge(ruacnai_7_use2,on='小区CGI(*)')"
   ]
  },
  {
   "cell_type": "code",
   "execution_count": null,
   "metadata": {
    "ExecuteTime": {
     "end_time": "2020-08-18T03:25:03.520024Z",
     "start_time": "2020-08-18T03:25:03.427012Z"
    }
   },
   "outputs": [],
   "source": [
    "ruacnai_res2 = ruacnai_res2[['小区CGI(*)', 'rsrp_sample_count_x', 'rsrp_weak_x','fgl_cmcc_x']]"
   ]
  },
  {
   "cell_type": "code",
   "execution_count": null,
   "metadata": {
    "ExecuteTime": {
     "end_time": "2020-08-18T03:27:28.480932Z",
     "start_time": "2020-08-18T03:27:28.163891Z"
    }
   },
   "outputs": [],
   "source": [
    "res2 = ruacnai_res2.merge(data_use,how='left',on='小区CGI(*)')"
   ]
  },
  {
   "cell_type": "code",
   "execution_count": null,
   "metadata": {
    "ExecuteTime": {
     "end_time": "2020-08-18T03:27:39.163788Z",
     "start_time": "2020-08-18T03:27:39.120783Z"
    }
   },
   "outputs": [],
   "source": [
    "res2 = res2.loc[res2['RRU经度'].notna()]"
   ]
  },
  {
   "cell_type": "code",
   "execution_count": null,
   "metadata": {
    "ExecuteTime": {
     "end_time": "2020-08-18T03:27:42.480209Z",
     "start_time": "2020-08-18T03:27:41.726614Z"
    }
   },
   "outputs": [],
   "source": [
    "res.to_csv('g:/1-规划/重做30619/20200814/1-基础数据/已经改善的问题小区.csv',encoding='gbk',index=False)"
   ]
  },
  {
   "cell_type": "markdown",
   "metadata": {},
   "source": [
    "# 老的任务清单更新与覆盖空的有关系的"
   ]
  },
  {
   "cell_type": "code",
   "execution_count": null,
   "metadata": {
    "ExecuteTime": {
     "end_time": "2020-08-19T08:04:44.560228Z",
     "start_time": "2020-08-19T08:04:43.867140Z"
    }
   },
   "outputs": [],
   "source": [
    "#导入空洞数据\n",
    "kongd = pd.read_pickle('G:/1-规划/评估/覆盖空洞/20200712第四版本/3-拆分后的空洞/覆盖空19481个添加场景区分大中小微.data')"
   ]
  },
  {
   "cell_type": "code",
   "execution_count": null,
   "metadata": {
    "ExecuteTime": {
     "end_time": "2020-08-19T08:07:08.823547Z",
     "start_time": "2020-08-19T08:06:36.541948Z"
    }
   },
   "outputs": [],
   "source": [
    "data = pd.read_excel('g:/1-规划/崔开通崔可研规划/2020年任务清单/20200813/2020年任务清单（场景+MR）0813v2.xlsx')"
   ]
  },
  {
   "cell_type": "code",
   "execution_count": null,
   "metadata": {
    "ExecuteTime": {
     "end_time": "2020-08-19T08:07:09.370116Z",
     "start_time": "2020-08-19T08:07:09.346113Z"
    }
   },
   "outputs": [],
   "source": [
    "data.head(1)"
   ]
  },
  {
   "cell_type": "code",
   "execution_count": null,
   "metadata": {
    "ExecuteTime": {
     "end_time": "2020-08-19T08:07:09.883681Z",
     "start_time": "2020-08-19T08:07:09.864679Z"
    }
   },
   "outputs": [],
   "source": [
    "kongd.head(1)"
   ]
  },
  {
   "cell_type": "code",
   "execution_count": null,
   "metadata": {
    "ExecuteTime": {
     "end_time": "2020-08-19T08:07:10.373744Z",
     "start_time": "2020-08-19T08:07:10.366243Z"
    }
   },
   "outputs": [],
   "source": [
    "kongd_use = kongd.loc[kongd['空洞级别'].isin(['大','中','小'])]"
   ]
  },
  {
   "cell_type": "code",
   "execution_count": null,
   "metadata": {
    "ExecuteTime": {
     "end_time": "2020-08-19T08:07:10.867806Z",
     "start_time": "2020-08-19T08:07:10.861806Z"
    }
   },
   "outputs": [],
   "source": [
    "data.columns"
   ]
  },
  {
   "cell_type": "code",
   "execution_count": null,
   "metadata": {
    "ExecuteTime": {
     "end_time": "2020-08-19T08:07:11.391373Z",
     "start_time": "2020-08-19T08:07:11.373871Z"
    }
   },
   "outputs": [],
   "source": [
    "data_use = data.loc[(data['规划-20200819']=='规划') & (data['分类']=='2020年5月新任务清单')]"
   ]
  },
  {
   "cell_type": "code",
   "execution_count": null,
   "metadata": {
    "ExecuteTime": {
     "end_time": "2020-08-19T08:07:19.078849Z",
     "start_time": "2020-08-19T08:07:11.890436Z"
    }
   },
   "outputs": [],
   "source": [
    "#导入工参数据\n",
    "gongcan = pd.read_csv('g:/1-规划/工参/工参数据/ltejizhan20200715.csv',encoding='gbk')"
   ]
  },
  {
   "cell_type": "code",
   "execution_count": null,
   "metadata": {
    "ExecuteTime": {
     "end_time": "2020-08-19T08:07:20.478527Z",
     "start_time": "2020-08-19T08:07:19.554410Z"
    }
   },
   "outputs": [],
   "source": [
    "gongcan.groupby('所属地区').count().to_clipboard()"
   ]
  },
  {
   "cell_type": "code",
   "execution_count": null,
   "metadata": {
    "ExecuteTime": {
     "end_time": "2020-08-19T08:07:21.220621Z",
     "start_time": "2020-08-19T08:07:20.942586Z"
    }
   },
   "outputs": [],
   "source": [
    "gongcan_use = gongcan.loc[(gongcan['RRU经度']>0)&(gongcan['RRU纬度']>0)][['小区CGI(*)', 'RRU经度', 'RRU纬度','工作频段','方位角']]"
   ]
  },
  {
   "cell_type": "code",
   "execution_count": null,
   "metadata": {
    "ExecuteTime": {
     "end_time": "2020-08-19T08:07:21.911709Z",
     "start_time": "2020-08-19T08:07:21.686180Z"
    }
   },
   "outputs": [],
   "source": [
    "#匹配到任务清单经纬度\n",
    "data_use = data_use.merge(gongcan_use,how='left',left_on='对应cgi',right_on='小区CGI(*)')\n",
    "\n",
    "data_use2= data_use.loc[(data_use['RRU经度']>0)&(data_use['RRU纬度']>0)]\n",
    "\n",
    "data_use2 = data_use2.rename(columns={'区域类型':'区域类型1'})\n",
    "\n",
    "data_changjing = mytools.gisn.points_coverage_merge(data_use2)\n",
    "\n",
    "data_jl = mytools.gisn.changjing_distance(data_changjing,'区域类型','工作频段_y',use_type='站间距')\n",
    "\n",
    "data_s = mytools.gisn.add_sectors_df(data_jl,coords=['RRU经度','RRU纬度', 'd_height', '方位角_y', 'distance'],\n",
    "    has_z=False,\n",
    "    sec_col='geometry',\n",
    "    shape_dict={'beam': 120, 'per_degree': 10})"
   ]
  },
  {
   "cell_type": "code",
   "execution_count": null,
   "metadata": {
    "ExecuteTime": {
     "end_time": "2020-08-19T08:07:33.586191Z",
     "start_time": "2020-08-19T08:07:33.475677Z"
    }
   },
   "outputs": [],
   "source": [
    "data_p = mytools.gisn.add_points(data_use2,'RRU经度','RRU纬度')"
   ]
  },
  {
   "cell_type": "code",
   "execution_count": null,
   "metadata": {
    "ExecuteTime": {
     "end_time": "2020-08-19T08:07:35.264404Z",
     "start_time": "2020-08-19T08:07:34.210771Z"
    }
   },
   "outputs": [],
   "source": [
    "#计算交集\n",
    "res = gpd.sjoin(kongd_use,data_s)"
   ]
  },
  {
   "cell_type": "code",
   "execution_count": null,
   "metadata": {
    "ExecuteTime": {
     "end_time": "2020-08-19T08:07:35.922988Z",
     "start_time": "2020-08-19T08:07:35.919988Z"
    }
   },
   "outputs": [],
   "source": [
    "import geopandas as gpd"
   ]
  },
  {
   "cell_type": "code",
   "execution_count": null,
   "metadata": {
    "ExecuteTime": {
     "end_time": "2020-08-19T08:07:36.599574Z",
     "start_time": "2020-08-19T08:07:36.584072Z"
    }
   },
   "outputs": [],
   "source": [
    "res[['小区CGI(*)']].to_clipboard()"
   ]
  },
  {
   "cell_type": "code",
   "execution_count": null,
   "metadata": {
    "ExecuteTime": {
     "end_time": "2020-08-18T02:37:57.154121Z",
     "start_time": "2020-08-18T02:37:57.148120Z"
    }
   },
   "outputs": [],
   "source": [
    "data_p.shape"
   ]
  },
  {
   "cell_type": "markdown",
   "metadata": {},
   "source": [
    "# 开通站点匹配完成的优化清单"
   ]
  },
  {
   "cell_type": "code",
   "execution_count": null,
   "metadata": {
    "ExecuteTime": {
     "end_time": "2020-08-19T00:43:14.490416Z",
     "start_time": "2020-08-19T00:43:14.018856Z"
    }
   },
   "outputs": [],
   "source": [
    "#需要匹配的优化完成清单\n",
    "data_y = pd.read_clipboard()"
   ]
  },
  {
   "cell_type": "code",
   "execution_count": null,
   "metadata": {
    "ExecuteTime": {
     "end_time": "2020-08-19T00:43:20.918232Z",
     "start_time": "2020-08-19T00:43:20.898730Z"
    },
    "scrolled": true
   },
   "outputs": [],
   "source": [
    "data_y.head(1)"
   ]
  },
  {
   "cell_type": "code",
   "execution_count": null,
   "metadata": {
    "ExecuteTime": {
     "end_time": "2020-08-19T06:51:10.656233Z",
     "start_time": "2020-08-19T06:51:03.204287Z"
    }
   },
   "outputs": [],
   "source": [
    "#导入工参数据\n",
    "gongcan = pd.read_csv('g:/1-规划/工参/工参数据/ltejizhan20200715.csv',encoding='gbk')\n",
    "gongcan_use = gongcan.loc[(gongcan['RRU经度']>0)&(gongcan['RRU纬度']>0)][['小区CGI(*)', 'RRU经度', 'RRU纬度','工作频段','方位角','所属地区']]"
   ]
  },
  {
   "cell_type": "code",
   "execution_count": null,
   "metadata": {
    "ExecuteTime": {
     "end_time": "2020-08-19T06:52:26.839907Z",
     "start_time": "2020-08-19T06:52:24.440102Z"
    }
   },
   "outputs": [],
   "source": [
    "gongcan_use.to_clipboard()"
   ]
  },
  {
   "cell_type": "code",
   "execution_count": null,
   "metadata": {
    "ExecuteTime": {
     "end_time": "2020-08-19T00:46:10.250735Z",
     "start_time": "2020-08-19T00:46:10.115218Z"
    }
   },
   "outputs": [],
   "source": [
    "#匹配到任务清单经纬度\n",
    "data_use = data_y.merge(gongcan_use,how='left',left_on='对应cgi',right_on='小区CGI(*)')"
   ]
  },
  {
   "cell_type": "code",
   "execution_count": null,
   "metadata": {
    "ExecuteTime": {
     "end_time": "2020-08-19T00:46:28.418542Z",
     "start_time": "2020-08-19T00:46:28.411541Z"
    }
   },
   "outputs": [],
   "source": [
    "data_use2= data_use.loc[(data_use['RRU经度']>0)&(data_use['RRU纬度']>0)&(data_use['方位角']>-1)]"
   ]
  },
  {
   "cell_type": "code",
   "execution_count": null,
   "metadata": {
    "ExecuteTime": {
     "end_time": "2020-08-18T02:52:01.277311Z",
     "start_time": "2020-08-18T02:52:01.264809Z"
    }
   },
   "outputs": [],
   "source": [
    "# data_use2 = data_use2.rename(columns={'区域类型':'区域类型1'})"
   ]
  },
  {
   "cell_type": "code",
   "execution_count": null,
   "metadata": {
    "ExecuteTime": {
     "end_time": "2020-08-19T00:46:51.694998Z",
     "start_time": "2020-08-19T00:46:48.789629Z"
    },
    "scrolled": false
   },
   "outputs": [],
   "source": [
    "data_changjing = mytools.gisn.points_coverage_merge(data_use2)"
   ]
  },
  {
   "cell_type": "code",
   "execution_count": null,
   "metadata": {
    "ExecuteTime": {
     "end_time": "2020-08-19T00:47:06.987940Z",
     "start_time": "2020-08-19T00:47:06.924431Z"
    }
   },
   "outputs": [],
   "source": [
    "data_jl = mytools.gisn.changjing_distance(data_changjing,'区域类型','工作频段')"
   ]
  },
  {
   "cell_type": "code",
   "execution_count": null,
   "metadata": {
    "ExecuteTime": {
     "end_time": "2020-08-19T00:47:24.707690Z",
     "start_time": "2020-08-19T00:47:22.643428Z"
    }
   },
   "outputs": [],
   "source": [
    "data_s = mytools.gisn.add_sectors_df(data_jl,coords=['RRU经度','RRU纬度', 'd_height', '方位角', 'distance'],\n",
    "    has_z=False,\n",
    "    sec_col='geometry',\n",
    "    shape_dict={'beam': 120, 'per_degree': 10})"
   ]
  },
  {
   "cell_type": "markdown",
   "metadata": {},
   "source": [
    "导入开通数据"
   ]
  },
  {
   "cell_type": "code",
   "execution_count": null,
   "metadata": {
    "ExecuteTime": {
     "end_time": "2020-08-19T02:03:20.549708Z",
     "start_time": "2020-08-19T02:03:20.364185Z"
    }
   },
   "outputs": [],
   "source": [
    "kaitong = pd.read_excel('G:/1-规划/重做30619/20200814/更新任务清单优化指标已经恢复的小区方案/2个月内开通的规划站点/2个月内催开通的站点.xlsx')"
   ]
  },
  {
   "cell_type": "code",
   "execution_count": null,
   "metadata": {
    "ExecuteTime": {
     "end_time": "2020-08-19T02:03:24.994773Z",
     "start_time": "2020-08-19T02:03:24.986772Z"
    }
   },
   "outputs": [],
   "source": [
    "kaitong.head(1)"
   ]
  },
  {
   "cell_type": "code",
   "execution_count": null,
   "metadata": {
    "ExecuteTime": {
     "end_time": "2020-08-19T02:06:35.327442Z",
     "start_time": "2020-08-19T02:06:35.315440Z"
    }
   },
   "outputs": [],
   "source": [
    "kaitong.loc[kaitong['规划站号'].str.contains('_G_'),'制式']='FDD900'"
   ]
  },
  {
   "cell_type": "code",
   "execution_count": null,
   "metadata": {
    "ExecuteTime": {
     "end_time": "2020-08-19T02:07:10.923462Z",
     "start_time": "2020-08-19T02:07:10.392394Z"
    }
   },
   "outputs": [],
   "source": [
    "kaitong_cj = mytools.gisn.points_coverage_merge(kaitong,'lon','lat')"
   ]
  },
  {
   "cell_type": "code",
   "execution_count": null,
   "metadata": {
    "ExecuteTime": {
     "end_time": "2020-08-19T02:07:50.859533Z",
     "start_time": "2020-08-19T02:07:50.853532Z"
    }
   },
   "outputs": [],
   "source": [
    "kaitong_jl = mytools.gisn.changjing_distance(kaitong_cj,'区域类型','制式')"
   ]
  },
  {
   "cell_type": "code",
   "execution_count": null,
   "metadata": {
    "ExecuteTime": {
     "end_time": "2020-08-19T02:08:45.447465Z",
     "start_time": "2020-08-19T02:08:44.966404Z"
    }
   },
   "outputs": [],
   "source": [
    "kaitong_buffer = mytools.gisn.add_buffer_df(kaitong_jl,'lon','lat','distance')"
   ]
  },
  {
   "cell_type": "code",
   "execution_count": null,
   "metadata": {
    "ExecuteTime": {
     "end_time": "2020-08-19T02:10:16.743558Z",
     "start_time": "2020-08-19T02:10:16.434019Z"
    }
   },
   "outputs": [],
   "source": [
    "res = gpd.sjoin(data_s,kaitong_buffer)"
   ]
  },
  {
   "cell_type": "code",
   "execution_count": null,
   "metadata": {
    "ExecuteTime": {
     "end_time": "2020-08-19T02:17:12.367836Z",
     "start_time": "2020-08-19T02:17:12.352334Z"
    }
   },
   "outputs": [],
   "source": [
    "res.drop(columns='geometry').to_clipboard()"
   ]
  },
  {
   "cell_type": "markdown",
   "metadata": {},
   "source": [
    "# 评估不同场景的重要性"
   ]
  },
  {
   "cell_type": "code",
   "execution_count": null,
   "metadata": {
    "ExecuteTime": {
     "end_time": "2020-08-19T06:26:06.217694Z",
     "start_time": "2020-08-19T06:26:06.028170Z"
    }
   },
   "outputs": [],
   "source": [
    "data = pd.read_csv('G:/1-规划/重做30619/20200814/对优化的问题小区进行平分/可优化的28413个问题ID.csv',encoding='gbk')"
   ]
  },
  {
   "cell_type": "code",
   "execution_count": null,
   "metadata": {
    "ExecuteTime": {
     "end_time": "2020-08-19T06:17:25.224036Z",
     "start_time": "2020-08-19T06:17:25.220535Z"
    }
   },
   "outputs": [],
   "source": [
    "f = mytools.othern.file_name_paths('G:/1-规划/重做30619/20200814/对优化的问题小区进行平分/6大场景POI图层/','tab')"
   ]
  },
  {
   "cell_type": "code",
   "execution_count": null,
   "metadata": {
    "ExecuteTime": {
     "end_time": "2020-08-19T06:31:10.267303Z",
     "start_time": "2020-08-19T06:31:09.888255Z"
    }
   },
   "outputs": [],
   "source": [
    "data_p = mytools.gisn.add_points(data,'问题经度','问题纬度')"
   ]
  },
  {
   "cell_type": "code",
   "execution_count": null,
   "metadata": {
    "ExecuteTime": {
     "end_time": "2020-08-19T06:33:32.209828Z",
     "start_time": "2020-08-19T06:33:21.594480Z"
    }
   },
   "outputs": [],
   "source": [
    "dic_my = dict()\n",
    "for name in f:\n",
    "    tu = gpd.read_file(name,encoding='gbk')\n",
    "    tu = tu.to_crs({\"init\": \"epsg:4326\"})\n",
    "    res_t = gpd.sjoin(data_p,tu)\n",
    "    dic_my[name.split('/')[-1].split('.')[0]] = res_t"
   ]
  },
  {
   "cell_type": "code",
   "execution_count": null,
   "metadata": {
    "ExecuteTime": {
     "end_time": "2020-08-19T06:33:37.873047Z",
     "start_time": "2020-08-19T06:33:37.869046Z"
    }
   },
   "outputs": [],
   "source": [
    "f"
   ]
  },
  {
   "cell_type": "code",
   "execution_count": null,
   "metadata": {},
   "outputs": [],
   "source": []
  },
  {
   "cell_type": "code",
   "execution_count": null,
   "metadata": {
    "ExecuteTime": {
     "end_time": "2020-08-19T06:42:47.499340Z",
     "start_time": "2020-08-19T06:42:47.492839Z"
    }
   },
   "outputs": [],
   "source": [
    "dic_my['商业综合体'].columns"
   ]
  },
  {
   "cell_type": "code",
   "execution_count": null,
   "metadata": {
    "ExecuteTime": {
     "end_time": "2020-08-19T06:46:14.320103Z",
     "start_time": "2020-08-19T06:46:14.304101Z"
    }
   },
   "outputs": [],
   "source": [
    "dic_my['高校'][['问题ID', '新编号']].to_clipboard()"
   ]
  },
  {
   "cell_type": "markdown",
   "metadata": {},
   "source": [
    "# 验证规划与空洞关联度的问题"
   ]
  },
  {
   "cell_type": "code",
   "execution_count": 8,
   "metadata": {
    "ExecuteTime": {
     "end_time": "2020-08-20T02:10:21.787765Z",
     "start_time": "2020-08-20T02:10:21.204191Z"
    }
   },
   "outputs": [],
   "source": [
    "#导入衔接的数据\n",
    "xianjie = pd.read_excel('G:/1-规划/重做30619/20200814/反向验证与规划衔接的吻合度/衔接结果400个.xlsx')\n",
    "#导入空洞图层\n",
    "kongd = pd.read_pickle('G:/1-规划/评估/覆盖空洞/20200712第四版本/3-拆分后的空洞/覆盖空19481个添加场景区分大中小微.data')"
   ]
  },
  {
   "cell_type": "code",
   "execution_count": 9,
   "metadata": {
    "ExecuteTime": {
     "end_time": "2020-08-20T02:10:22.624871Z",
     "start_time": "2020-08-20T02:10:22.607869Z"
    }
   },
   "outputs": [],
   "source": [
    "kongd_use = kongd.loc[kongd['空洞级别'].isin(['大','中','小'])]"
   ]
  },
  {
   "cell_type": "code",
   "execution_count": 10,
   "metadata": {
    "ExecuteTime": {
     "end_time": "2020-08-20T02:10:31.246966Z",
     "start_time": "2020-08-20T02:10:23.459977Z"
    }
   },
   "outputs": [
    {
     "name": "stderr",
     "output_type": "stream",
     "text": [
      "C:\\ProgramData\\Anaconda3\\lib\\site-packages\\IPython\\core\\interactiveshell.py:3058: DtypeWarning: Columns (12,14) have mixed types.Specify dtype option on import or set low_memory=False.\n",
      "  interactivity=interactivity, compiler=compiler, result=result)\n"
     ]
    }
   ],
   "source": [
    "#导入工参数据\n",
    "gongcan = pd.read_csv('g:/1-规划/工参/工参数据/ltejizhan20200715.csv',encoding='gbk')\n",
    "gongcan_use = gongcan.loc[(gongcan['RRU经度']>0)&(gongcan['RRU纬度']>0)][['小区CGI(*)','小区中文名', 'RRU经度', 'RRU纬度','工作频段','方位角','所属地区']]"
   ]
  },
  {
   "cell_type": "code",
   "execution_count": 13,
   "metadata": {
    "ExecuteTime": {
     "end_time": "2020-08-20T02:10:36.196595Z",
     "start_time": "2020-08-20T02:10:36.194094Z"
    }
   },
   "outputs": [],
   "source": [
    "# xianjie"
   ]
  },
  {
   "cell_type": "code",
   "execution_count": 14,
   "metadata": {
    "ExecuteTime": {
     "end_time": "2020-08-20T02:10:38.341367Z",
     "start_time": "2020-08-20T02:10:38.200349Z"
    }
   },
   "outputs": [],
   "source": [
    "#匹配与空洞是否有交集\n",
    "xianjie2 = xianjie.merge(gongcan_use,how='left',left_on='小区名',right_on='小区中文名')"
   ]
  },
  {
   "cell_type": "code",
   "execution_count": 15,
   "metadata": {
    "ExecuteTime": {
     "end_time": "2020-08-20T02:10:40.829183Z",
     "start_time": "2020-08-20T02:10:40.823182Z"
    }
   },
   "outputs": [],
   "source": [
    "xianjie2 = xianjie2.loc[xianjie2['RRU经度'].notna()]"
   ]
  },
  {
   "cell_type": "code",
   "execution_count": 16,
   "metadata": {
    "ExecuteTime": {
     "end_time": "2020-08-20T02:10:42.556902Z",
     "start_time": "2020-08-20T02:10:42.552902Z"
    }
   },
   "outputs": [
    {
     "data": {
      "text/plain": [
       "(351, 50)"
      ]
     },
     "execution_count": 16,
     "metadata": {},
     "output_type": "execute_result"
    }
   ],
   "source": [
    "xianjie2.shape"
   ]
  },
  {
   "cell_type": "code",
   "execution_count": 17,
   "metadata": {
    "ExecuteTime": {
     "end_time": "2020-08-20T02:10:47.691554Z",
     "start_time": "2020-08-20T02:10:47.210493Z"
    }
   },
   "outputs": [],
   "source": [
    "xianjie_cj = mytools.gisn.points_coverage_merge(xianjie2)"
   ]
  },
  {
   "cell_type": "code",
   "execution_count": 25,
   "metadata": {
    "ExecuteTime": {
     "end_time": "2020-08-20T02:14:57.441769Z",
     "start_time": "2020-08-20T02:14:57.435768Z"
    }
   },
   "outputs": [],
   "source": [
    "xianjie_jl = mytools.gisn.changjing_distance(xianjie_cj,'区域类型','工作频段','站间距')"
   ]
  },
  {
   "cell_type": "code",
   "execution_count": 26,
   "metadata": {
    "ExecuteTime": {
     "end_time": "2020-08-20T02:14:59.373514Z",
     "start_time": "2020-08-20T02:14:58.979964Z"
    }
   },
   "outputs": [],
   "source": [
    "xianjie_s = mytools.gisn.add_sectors_df(xianjie_jl,coords=['RRU经度','RRU纬度', 'd_height', '方位角', 'distance'],\n",
    "    has_z=False,\n",
    "    sec_col='geometry',\n",
    "    shape_dict={'beam': 120, 'per_degree': 10})"
   ]
  },
  {
   "cell_type": "code",
   "execution_count": 27,
   "metadata": {
    "ExecuteTime": {
     "end_time": "2020-08-20T02:15:00.475154Z",
     "start_time": "2020-08-20T02:15:00.470653Z"
    }
   },
   "outputs": [],
   "source": [
    "xianjie_s['distance2'] = xianjie_s['distance'] +xianjie_s['distance'] "
   ]
  },
  {
   "cell_type": "code",
   "execution_count": 28,
   "metadata": {
    "ExecuteTime": {
     "end_time": "2020-08-20T02:15:01.908336Z",
     "start_time": "2020-08-20T02:15:01.609298Z"
    }
   },
   "outputs": [],
   "source": [
    "xianjie_s = mytools.gisn.add_area(xianjie_s,'原来面积')"
   ]
  },
  {
   "cell_type": "code",
   "execution_count": 29,
   "metadata": {
    "ExecuteTime": {
     "end_time": "2020-08-20T02:15:03.424028Z",
     "start_time": "2020-08-20T02:15:03.018477Z"
    }
   },
   "outputs": [],
   "source": [
    "xianjie_s = mytools.gisn.add_sectors_df(xianjie_s,coords=['RRU经度','RRU纬度', 'd_height', '方位角', 'distance2'],\n",
    "    has_z=False,\n",
    "    sec_col='geometry',\n",
    "    shape_dict={'beam': 120, 'per_degree': 10})"
   ]
  },
  {
   "cell_type": "code",
   "execution_count": 30,
   "metadata": {
    "ExecuteTime": {
     "end_time": "2020-08-20T02:18:31.850495Z",
     "start_time": "2020-08-20T02:15:15.314038Z"
    }
   },
   "outputs": [],
   "source": [
    "data_z = gpd.GeoDataFrame()\n",
    "for name_t , data_t in xianjie_s.groupby('小区名'):\n",
    "    res_t = gpd.overlay(data_t,kongd_use)\n",
    "    data_z = data_z.append(res_t)"
   ]
  },
  {
   "cell_type": "code",
   "execution_count": 31,
   "metadata": {
    "ExecuteTime": {
     "end_time": "2020-08-20T02:18:33.320682Z",
     "start_time": "2020-08-20T02:18:33.065149Z"
    }
   },
   "outputs": [],
   "source": [
    "data_z2 = mytools.gisn.add_area(data_z,'交集面积') "
   ]
  },
  {
   "cell_type": "code",
   "execution_count": 34,
   "metadata": {
    "ExecuteTime": {
     "end_time": "2020-08-20T02:24:05.180823Z",
     "start_time": "2020-08-20T02:24:02.793519Z"
    }
   },
   "outputs": [],
   "source": [
    "mytools.sound()"
   ]
  },
  {
   "cell_type": "code",
   "execution_count": 38,
   "metadata": {
    "ExecuteTime": {
     "end_time": "2020-08-20T02:25:11.115695Z",
     "start_time": "2020-08-20T02:25:11.093192Z"
    }
   },
   "outputs": [],
   "source": [
    "data_z2.drop(columns='geometry').to_clipboard()"
   ]
  },
  {
   "cell_type": "code",
   "execution_count": 39,
   "metadata": {
    "ExecuteTime": {
     "end_time": "2020-08-20T02:26:19.113330Z",
     "start_time": "2020-08-20T02:26:19.057823Z"
    }
   },
   "outputs": [],
   "source": [
    "data_z2.to_csv('G:/1-规划/重做30619/20200814/反向验证与规划衔接的吻合度/使用扇区交集面积计算吻合度.csv',encoding='gbk')"
   ]
  },
  {
   "cell_type": "code",
   "execution_count": null,
   "metadata": {},
   "outputs": [],
   "source": []
  },
  {
   "cell_type": "code",
   "execution_count": null,
   "metadata": {},
   "outputs": [],
   "source": []
  },
  {
   "cell_type": "code",
   "execution_count": null,
   "metadata": {},
   "outputs": [],
   "source": []
  },
  {
   "cell_type": "code",
   "execution_count": null,
   "metadata": {
    "ExecuteTime": {
     "end_time": "2020-08-19T08:33:46.275397Z",
     "start_time": "2020-08-19T08:33:45.994862Z"
    }
   },
   "outputs": [],
   "source": [
    "res = gpd.sjoin(xianjie_s,kongd_use)"
   ]
  },
  {
   "cell_type": "code",
   "execution_count": null,
   "metadata": {
    "ExecuteTime": {
     "end_time": "2020-08-19T08:34:07.914145Z",
     "start_time": "2020-08-19T08:34:07.899143Z"
    }
   },
   "outputs": [],
   "source": [
    "res.drop(columns='geometry').to_clipboard()"
   ]
  },
  {
   "cell_type": "code",
   "execution_count": null,
   "metadata": {
    "ExecuteTime": {
     "end_time": "2020-08-19T08:36:52.759078Z",
     "start_time": "2020-08-19T08:36:52.743076Z"
    }
   },
   "outputs": [],
   "source": [
    "xianjie2.to_clipboard()"
   ]
  },
  {
   "cell_type": "markdown",
   "metadata": {},
   "source": [
    "验证四轮十维的吻合度"
   ]
  },
  {
   "cell_type": "code",
   "execution_count": null,
   "metadata": {
    "ExecuteTime": {
     "end_time": "2020-08-19T09:31:24.502037Z",
     "start_time": "2020-08-19T09:31:24.163494Z"
    }
   },
   "outputs": [],
   "source": [
    "#导入衔接的数据\n",
    "silun = pd.read_excel('G:/1-规划/重做30619/20200814/反向验证与规划衔接的吻合度/四轮十衔接结果.xlsx')"
   ]
  },
  {
   "cell_type": "code",
   "execution_count": null,
   "metadata": {
    "ExecuteTime": {
     "end_time": "2020-08-19T09:31:57.703253Z",
     "start_time": "2020-08-19T09:31:57.698752Z"
    }
   },
   "outputs": [],
   "source": [
    "silun.columns"
   ]
  },
  {
   "cell_type": "code",
   "execution_count": null,
   "metadata": {
    "ExecuteTime": {
     "end_time": "2020-08-19T09:32:29.576800Z",
     "start_time": "2020-08-19T09:32:28.987225Z"
    }
   },
   "outputs": [],
   "source": [
    "silun_cj = mytools.gisn.points_coverage_merge(silun,'lon','lat')"
   ]
  },
  {
   "cell_type": "code",
   "execution_count": null,
   "metadata": {
    "ExecuteTime": {
     "end_time": "2020-08-19T09:33:08.055686Z",
     "start_time": "2020-08-19T09:33:08.049685Z"
    }
   },
   "outputs": [],
   "source": [
    "silun_jl = mytools.gisn.changjing_distance(silun_cj,'区域类型','制式','站间距')"
   ]
  },
  {
   "cell_type": "code",
   "execution_count": null,
   "metadata": {
    "ExecuteTime": {
     "end_time": "2020-08-19T09:34:26.195609Z",
     "start_time": "2020-08-19T09:34:25.469516Z"
    }
   },
   "outputs": [],
   "source": [
    "silun_buffer = mytools.gisn.add_buffer_df(silun_jl,'lon','lat','distance')"
   ]
  },
  {
   "cell_type": "code",
   "execution_count": null,
   "metadata": {
    "ExecuteTime": {
     "end_time": "2020-08-19T09:34:37.890094Z",
     "start_time": "2020-08-19T09:34:37.652063Z"
    }
   },
   "outputs": [],
   "source": [
    "res = gpd.sjoin(silun_buffer,kongd_use)"
   ]
  },
  {
   "cell_type": "code",
   "execution_count": null,
   "metadata": {
    "ExecuteTime": {
     "end_time": "2020-08-19T09:34:43.270777Z",
     "start_time": "2020-08-19T09:34:43.232772Z"
    }
   },
   "outputs": [],
   "source": [
    "res.drop(columns='geometry').to_clipboard()"
   ]
  },
  {
   "cell_type": "markdown",
   "metadata": {},
   "source": [
    "# 使用新算法计算规划数据"
   ]
  },
  {
   "cell_type": "code",
   "execution_count": null,
   "metadata": {
    "ExecuteTime": {
     "end_time": "2020-08-19T12:48:13.465084Z",
     "start_time": "2020-08-19T12:47:39.350752Z"
    }
   },
   "outputs": [],
   "source": [
    "#导入空洞图层\n",
    "kongd = pd.read_pickle('G:/1-规划/评估/覆盖空洞/20200712第四版本/3-拆分后的空洞/覆盖空19481个添加场景区分大中小微.data')\n",
    "kongd_use = kongd.loc[kongd['空洞级别'].isin(['大','中','小'])]\n",
    "#导入任务清单\n",
    "data = pd.read_excel('g:/1-规划/崔开通崔可研规划/2020年任务清单/20200813/2020年任务清单（场景+MR）0813v2.xlsx')\n",
    "data_use = data.loc[(data['规划-20200819']=='规划') & (data['分类']=='2020年5月新任务清单')]"
   ]
  },
  {
   "cell_type": "code",
   "execution_count": null,
   "metadata": {
    "ExecuteTime": {
     "end_time": "2020-08-19T12:48:21.140059Z",
     "start_time": "2020-08-19T12:48:13.620604Z"
    }
   },
   "outputs": [],
   "source": [
    "#导入工参数据\n",
    "gongcan = pd.read_csv('g:/1-规划/工参/工参数据/ltejizhan20200715.csv',encoding='gbk')\n",
    "gongcan_use = gongcan.loc[(gongcan['RRU经度']>0)&(gongcan['RRU纬度']>0)][['小区CGI(*)',\n",
    "                                                                      '小区中文名', 'RRU经度', 'RRU纬度','工作频段','方位角','所属地区']]"
   ]
  },
  {
   "cell_type": "code",
   "execution_count": null,
   "metadata": {
    "ExecuteTime": {
     "end_time": "2020-08-19T12:49:29.531744Z",
     "start_time": "2020-08-19T12:49:29.275711Z"
    }
   },
   "outputs": [],
   "source": [
    "#匹配到任务清单经纬度\n",
    "data_use = data_use.merge(gongcan_use,how='left',left_on='对应cgi',right_on='小区CGI(*)')\n",
    "\n",
    "data_use2= data_use.loc[(data_use['RRU经度']>0)&(data_use['RRU纬度']>0)]"
   ]
  },
  {
   "cell_type": "code",
   "execution_count": null,
   "metadata": {
    "ExecuteTime": {
     "end_time": "2020-08-19T12:49:46.938454Z",
     "start_time": "2020-08-19T12:49:46.923452Z"
    }
   },
   "outputs": [],
   "source": [
    "data_use2 = data_use2.rename(columns={'区域类型':'区域类型1'})\n",
    "\n",
    "data_changjing = mytools.gisn.points_coverage_merge(data_use2)\n",
    "\n",
    "data_jl = mytools.gisn.changjing_distance(data_changjing,'区域类型','工作频段_y',use_type='站间距')"
   ]
  },
  {
   "cell_type": "code",
   "execution_count": null,
   "metadata": {
    "ExecuteTime": {
     "end_time": "2020-08-19T12:51:00.811335Z",
     "start_time": "2020-08-19T12:51:00.806834Z"
    }
   },
   "outputs": [],
   "source": [
    "data_jl['distance2'] = data_jl['distance']+data_jl['distance']"
   ]
  },
  {
   "cell_type": "code",
   "execution_count": null,
   "metadata": {
    "ExecuteTime": {
     "end_time": "2020-08-19T14:30:08.900146Z",
     "start_time": "2020-08-19T14:30:08.895645Z"
    }
   },
   "outputs": [],
   "source": [
    "data_jl.shape"
   ]
  },
  {
   "cell_type": "code",
   "execution_count": null,
   "metadata": {
    "ExecuteTime": {
     "end_time": "2020-08-19T12:57:02.234230Z",
     "start_time": "2020-08-19T12:56:55.634391Z"
    }
   },
   "outputs": [],
   "source": [
    "data_s = mytools.gisn.add_sectors_df(data_jl,coords=['RRU经度','RRU纬度', 'd_height', '方位角_y', 'distance'],\n",
    "    has_z=False,\n",
    "    sec_col='geometry',\n",
    "    shape_dict={'beam': 120, 'per_degree': 10})"
   ]
  },
  {
   "cell_type": "code",
   "execution_count": null,
   "metadata": {
    "ExecuteTime": {
     "end_time": "2020-08-19T13:04:37.831583Z",
     "start_time": "2020-08-19T13:04:36.395901Z"
    }
   },
   "outputs": [],
   "source": [
    "data_s = mytools.gisn.add_area(data_s,'原面积_1倍')"
   ]
  },
  {
   "cell_type": "code",
   "execution_count": null,
   "metadata": {
    "ExecuteTime": {
     "end_time": "2020-08-19T13:04:56.128907Z",
     "start_time": "2020-08-19T13:04:49.465060Z"
    }
   },
   "outputs": [],
   "source": [
    "data_s = mytools.gisn.add_sectors_df(data_s,coords=['RRU经度','RRU纬度', 'd_height', '方位角_y', 'distance2'],\n",
    "    has_z=False,\n",
    "    sec_col='geometry',\n",
    "    shape_dict={'beam': 120, 'per_degree': 10})"
   ]
  },
  {
   "cell_type": "code",
   "execution_count": null,
   "metadata": {
    "ExecuteTime": {
     "end_time": "2020-08-19T14:31:18.803023Z",
     "start_time": "2020-08-19T14:31:18.797522Z"
    }
   },
   "outputs": [],
   "source": [
    "len(set(data_s['唯一编号']))"
   ]
  },
  {
   "cell_type": "code",
   "execution_count": null,
   "metadata": {
    "ExecuteTime": {
     "end_time": "2020-08-19T13:04:57.943137Z",
     "start_time": "2020-08-19T13:04:57.937636Z"
    }
   },
   "outputs": [],
   "source": [
    "data_s.columns"
   ]
  },
  {
   "cell_type": "code",
   "execution_count": null,
   "metadata": {
    "ExecuteTime": {
     "end_time": "2020-08-19T14:03:08.631398Z",
     "start_time": "2020-08-19T13:05:36.206996Z"
    }
   },
   "outputs": [],
   "source": [
    "data_z = gpd.GeoDataFrame()\n",
    "for name_t , data_t in data_s.groupby('唯一编号'):\n",
    "    res_t = gpd.overlay(data_t,kongd_use)\n",
    "    data_z = data_z.append(res_t)"
   ]
  },
  {
   "cell_type": "code",
   "execution_count": null,
   "metadata": {
    "ExecuteTime": {
     "end_time": "2020-08-19T14:30:42.997476Z",
     "start_time": "2020-08-19T14:30:42.993475Z"
    }
   },
   "outputs": [],
   "source": [
    "data_z.shape"
   ]
  },
  {
   "cell_type": "code",
   "execution_count": null,
   "metadata": {
    "ExecuteTime": {
     "end_time": "2020-08-19T14:23:31.430674Z",
     "start_time": "2020-08-19T14:23:31.425673Z"
    }
   },
   "outputs": [],
   "source": [
    "data_z1= data_z[['唯一编号','原面积_1倍','geometry']]"
   ]
  },
  {
   "cell_type": "code",
   "execution_count": null,
   "metadata": {
    "ExecuteTime": {
     "end_time": "2020-08-19T14:23:39.297173Z",
     "start_time": "2020-08-19T14:23:37.961503Z"
    }
   },
   "outputs": [],
   "source": [
    "data_z3= mytools.gisn.add_area(data_z1,'交集面积')"
   ]
  },
  {
   "cell_type": "code",
   "execution_count": null,
   "metadata": {
    "ExecuteTime": {
     "end_time": "2020-08-19T14:23:40.674848Z",
     "start_time": "2020-08-19T14:23:40.562833Z"
    }
   },
   "outputs": [],
   "source": [
    "data_z3.to_pickle('G:/1-规划/重做30619/20200814/反向验证与规划衔接的吻合度/任务清单可规划清单.data')"
   ]
  },
  {
   "cell_type": "code",
   "execution_count": null,
   "metadata": {
    "ExecuteTime": {
     "end_time": "2020-08-19T14:23:41.993015Z",
     "start_time": "2020-08-19T14:23:41.964011Z"
    }
   },
   "outputs": [],
   "source": [
    "data_z3.drop(columns='geometry').to_clipboard()"
   ]
  },
  {
   "cell_type": "code",
   "execution_count": null,
   "metadata": {
    "ExecuteTime": {
     "end_time": "2020-08-19T14:24:05.693025Z",
     "start_time": "2020-08-19T14:24:05.668521Z"
    }
   },
   "outputs": [],
   "source": [
    "data_z3.drop(columns='geometry').to_csv('G:/1-规划/重做30619/20200814/反向验证与规划衔接的吻合度/任务清单可规划清单.csv',encoding='gbk')"
   ]
  },
  {
   "cell_type": "code",
   "execution_count": null,
   "metadata": {
    "ExecuteTime": {
     "end_time": "2020-08-19T14:23:51.272193Z",
     "start_time": "2020-08-19T14:23:51.248190Z"
    }
   },
   "outputs": [],
   "source": [
    "data_z3"
   ]
  },
  {
   "cell_type": "markdown",
   "metadata": {},
   "source": [
    "# 规划站点匹配方案为规划的问题小区"
   ]
  },
  {
   "cell_type": "code",
   "execution_count": 40,
   "metadata": {
    "ExecuteTime": {
     "end_time": "2020-08-20T02:52:05.577706Z",
     "start_time": "2020-08-20T02:51:27.044813Z"
    }
   },
   "outputs": [],
   "source": [
    "#导入任务清单\n",
    "data = pd.read_excel('g:/1-规划/崔开通崔可研规划/2020年任务清单/20200819/2020年任务清单（场景+MR）0819.xlsx')\n",
    "data_use = data.loc[(data['规划-20200819']=='规划') & (data['分类']=='2020年5月新任务清单')]"
   ]
  },
  {
   "cell_type": "code",
   "execution_count": 41,
   "metadata": {
    "ExecuteTime": {
     "end_time": "2020-08-20T02:52:15.039907Z",
     "start_time": "2020-08-20T02:52:07.051393Z"
    }
   },
   "outputs": [
    {
     "name": "stderr",
     "output_type": "stream",
     "text": [
      "C:\\ProgramData\\Anaconda3\\lib\\site-packages\\IPython\\core\\interactiveshell.py:3058: DtypeWarning: Columns (12,14) have mixed types.Specify dtype option on import or set low_memory=False.\n",
      "  interactivity=interactivity, compiler=compiler, result=result)\n"
     ]
    }
   ],
   "source": [
    "#导入工参数据\n",
    "gongcan = pd.read_csv('g:/1-规划/工参/工参数据/ltejizhan20200715.csv',encoding='gbk')\n",
    "gongcan_use = gongcan.loc[(gongcan['RRU经度']>0)&(gongcan['RRU纬度']>0)][['小区CGI(*)',\n",
    "                                                                      '小区中文名', 'RRU经度', 'RRU纬度','工作频段','方位角','所属地区']]"
   ]
  },
  {
   "cell_type": "code",
   "execution_count": 42,
   "metadata": {
    "ExecuteTime": {
     "end_time": "2020-08-20T02:53:35.539130Z",
     "start_time": "2020-08-20T02:53:35.280597Z"
    }
   },
   "outputs": [],
   "source": [
    "#匹配到任务清单经纬度\n",
    "data_use = data_use.merge(gongcan_use,how='left',left_on='对应cgi',right_on='小区CGI(*)')\n",
    "data_use2= data_use.loc[(data_use['RRU经度']>0)&(data_use['RRU纬度']>0)]"
   ]
  },
  {
   "cell_type": "code",
   "execution_count": 43,
   "metadata": {
    "ExecuteTime": {
     "end_time": "2020-08-20T02:54:00.745330Z",
     "start_time": "2020-08-20T02:53:59.498672Z"
    }
   },
   "outputs": [],
   "source": [
    "data_use2 = data_use2.rename(columns={'区域类型':'区域类型1'})\n",
    "data_changjing = mytools.gisn.points_coverage_merge(data_use2)\n",
    "data_jl = mytools.gisn.changjing_distance(data_changjing,'区域类型','工作频段_y',use_type='站间距')"
   ]
  },
  {
   "cell_type": "code",
   "execution_count": 44,
   "metadata": {
    "ExecuteTime": {
     "end_time": "2020-08-20T02:54:23.954778Z",
     "start_time": "2020-08-20T02:54:16.801869Z"
    }
   },
   "outputs": [],
   "source": [
    "data_s = mytools.gisn.add_sectors_df(data_jl,coords=['RRU经度','RRU纬度', 'd_height', '方位角_y', 'distance'],\n",
    "    has_z=False,\n",
    "    sec_col='geometry',\n",
    "    shape_dict={'beam': 120, 'per_degree': 10})"
   ]
  },
  {
   "cell_type": "code",
   "execution_count": 45,
   "metadata": {
    "ExecuteTime": {
     "end_time": "2020-08-20T02:54:33.147945Z",
     "start_time": "2020-08-20T02:54:33.144945Z"
    }
   },
   "outputs": [],
   "source": [
    "#导入规划数据"
   ]
  },
  {
   "cell_type": "code",
   "execution_count": 46,
   "metadata": {
    "ExecuteTime": {
     "end_time": "2020-08-20T02:55:08.101383Z",
     "start_time": "2020-08-20T02:55:03.386785Z"
    }
   },
   "outputs": [],
   "source": [
    "guihua = pd.read_excel('G:/1-规划/重做30619/20200814/1-基础数据/全省地市已可研待开通站点清单0804.xlsx')"
   ]
  },
  {
   "cell_type": "code",
   "execution_count": 47,
   "metadata": {
    "ExecuteTime": {
     "end_time": "2020-08-20T02:55:09.929616Z",
     "start_time": "2020-08-20T02:55:09.915614Z"
    }
   },
   "outputs": [
    {
     "data": {
      "text/html": [
       "<div>\n",
       "<style scoped>\n",
       "    .dataframe tbody tr th:only-of-type {\n",
       "        vertical-align: middle;\n",
       "    }\n",
       "\n",
       "    .dataframe tbody tr th {\n",
       "        vertical-align: top;\n",
       "    }\n",
       "\n",
       "    .dataframe thead th {\n",
       "        text-align: right;\n",
       "    }\n",
       "</style>\n",
       "<table border=\"1\" class=\"dataframe\">\n",
       "  <thead>\n",
       "    <tr style=\"text-align: right;\">\n",
       "      <th></th>\n",
       "      <th>地市</th>\n",
       "      <th>区县</th>\n",
       "      <th>逻辑规划站名</th>\n",
       "      <th>物理规划站名</th>\n",
       "      <th>规划站号</th>\n",
       "      <th>经度</th>\n",
       "      <th>纬度</th>\n",
       "      <th>工期</th>\n",
       "      <th>是否归档</th>\n",
       "      <th>制式</th>\n",
       "    </tr>\n",
       "  </thead>\n",
       "  <tbody>\n",
       "    <tr>\n",
       "      <th>0</th>\n",
       "      <td>鄂州</td>\n",
       "      <td>鄂州市</td>\n",
       "      <td>G_4号宿舍G-ZNH</td>\n",
       "      <td>G_4号宿舍G-ZNH</td>\n",
       "      <td>EZN002201_G_H</td>\n",
       "      <td>114.675583</td>\n",
       "      <td>30.528196</td>\n",
       "      <td>2020年4G扩容工程第三批</td>\n",
       "      <td>已可研待开通</td>\n",
       "      <td>FDD900</td>\n",
       "    </tr>\n",
       "  </tbody>\n",
       "</table>\n",
       "</div>"
      ],
      "text/plain": [
       "   地市   区县       逻辑规划站名       物理规划站名           规划站号          经度         纬度  \\\n",
       "0  鄂州  鄂州市  G_4号宿舍G-ZNH  G_4号宿舍G-ZNH  EZN002201_G_H  114.675583  30.528196   \n",
       "\n",
       "               工期    是否归档      制式  \n",
       "0  2020年4G扩容工程第三批  已可研待开通  FDD900  "
      ]
     },
     "execution_count": 47,
     "metadata": {},
     "output_type": "execute_result"
    }
   ],
   "source": [
    "guihua.head(1)"
   ]
  },
  {
   "cell_type": "code",
   "execution_count": 48,
   "metadata": {
    "ExecuteTime": {
     "end_time": "2020-08-20T02:55:42.323229Z",
     "start_time": "2020-08-20T02:55:42.065696Z"
    }
   },
   "outputs": [],
   "source": [
    "guihua_p = mytools.gisn.add_points(guihua,'经度','纬度')"
   ]
  },
  {
   "cell_type": "code",
   "execution_count": 49,
   "metadata": {
    "ExecuteTime": {
     "end_time": "2020-08-20T02:56:18.156279Z",
     "start_time": "2020-08-20T02:56:15.672964Z"
    }
   },
   "outputs": [],
   "source": [
    "res = gpd.sjoin(data_s,guihua_p)"
   ]
  },
  {
   "cell_type": "code",
   "execution_count": 51,
   "metadata": {
    "ExecuteTime": {
     "end_time": "2020-08-20T02:58:02.383514Z",
     "start_time": "2020-08-20T02:58:02.104979Z"
    }
   },
   "outputs": [],
   "source": [
    "res.drop(columns='geometry').to_csv('G:/1-规划/重做30619/20200814/规划站点匹配方案为规划的问题小区/规划站点匹配方案为规划的问题小区.csv',encoding='gbk')"
   ]
  },
  {
   "cell_type": "code",
   "execution_count": 52,
   "metadata": {
    "ExecuteTime": {
     "end_time": "2020-08-20T03:32:02.196038Z",
     "start_time": "2020-08-20T03:32:02.135030Z"
    }
   },
   "outputs": [
    {
     "data": {
      "text/html": [
       "<div>\n",
       "<style scoped>\n",
       "    .dataframe tbody tr th:only-of-type {\n",
       "        vertical-align: middle;\n",
       "    }\n",
       "\n",
       "    .dataframe tbody tr th {\n",
       "        vertical-align: top;\n",
       "    }\n",
       "\n",
       "    .dataframe thead th {\n",
       "        text-align: right;\n",
       "    }\n",
       "</style>\n",
       "<table border=\"1\" class=\"dataframe\">\n",
       "  <thead>\n",
       "    <tr style=\"text-align: right;\">\n",
       "      <th></th>\n",
       "      <th>所属地区</th>\n",
       "    </tr>\n",
       "    <tr>\n",
       "      <th>所属地区</th>\n",
       "      <th></th>\n",
       "    </tr>\n",
       "  </thead>\n",
       "  <tbody>\n",
       "    <tr>\n",
       "      <th>十堰</th>\n",
       "      <td>24141</td>\n",
       "    </tr>\n",
       "    <tr>\n",
       "      <th>咸宁</th>\n",
       "      <td>16202</td>\n",
       "    </tr>\n",
       "    <tr>\n",
       "      <th>天门</th>\n",
       "      <td>5058</td>\n",
       "    </tr>\n",
       "    <tr>\n",
       "      <th>孝感</th>\n",
       "      <td>22714</td>\n",
       "    </tr>\n",
       "    <tr>\n",
       "      <th>宜昌</th>\n",
       "      <td>30451</td>\n",
       "    </tr>\n",
       "    <tr>\n",
       "      <th>恩施</th>\n",
       "      <td>22252</td>\n",
       "    </tr>\n",
       "    <tr>\n",
       "      <th>武汉</th>\n",
       "      <td>89204</td>\n",
       "    </tr>\n",
       "    <tr>\n",
       "      <th>江汉</th>\n",
       "      <td>5868</td>\n",
       "    </tr>\n",
       "    <tr>\n",
       "      <th>潜江</th>\n",
       "      <td>4872</td>\n",
       "    </tr>\n",
       "    <tr>\n",
       "      <th>荆州</th>\n",
       "      <td>30045</td>\n",
       "    </tr>\n",
       "    <tr>\n",
       "      <th>荆门</th>\n",
       "      <td>16488</td>\n",
       "    </tr>\n",
       "    <tr>\n",
       "      <th>襄阳</th>\n",
       "      <td>32539</td>\n",
       "    </tr>\n",
       "    <tr>\n",
       "      <th>鄂州</th>\n",
       "      <td>7541</td>\n",
       "    </tr>\n",
       "    <tr>\n",
       "      <th>随州</th>\n",
       "      <td>14940</td>\n",
       "    </tr>\n",
       "    <tr>\n",
       "      <th>黄冈</th>\n",
       "      <td>28381</td>\n",
       "    </tr>\n",
       "    <tr>\n",
       "      <th>黄石</th>\n",
       "      <td>16124</td>\n",
       "    </tr>\n",
       "  </tbody>\n",
       "</table>\n",
       "</div>"
      ],
      "text/plain": [
       "       所属地区\n",
       "所属地区       \n",
       "十堰    24141\n",
       "咸宁    16202\n",
       "天门     5058\n",
       "孝感    22714\n",
       "宜昌    30451\n",
       "恩施    22252\n",
       "武汉    89204\n",
       "江汉     5868\n",
       "潜江     4872\n",
       "荆州    30045\n",
       "荆门    16488\n",
       "襄阳    32539\n",
       "鄂州     7541\n",
       "随州    14940\n",
       "黄冈    28381\n",
       "黄石    16124"
      ]
     },
     "execution_count": 52,
     "metadata": {},
     "output_type": "execute_result"
    }
   ],
   "source": [
    "gongcan.groupby('所属地区').agg({'所属地区':'count'})"
   ]
  },
  {
   "cell_type": "code",
   "execution_count": null,
   "metadata": {},
   "outputs": [],
   "source": []
  }
 ],
 "metadata": {
  "kernelspec": {
   "display_name": "Python 3",
   "language": "python",
   "name": "python3"
  },
  "language_info": {
   "codemirror_mode": {
    "name": "ipython",
    "version": 3
   },
   "file_extension": ".py",
   "mimetype": "text/x-python",
   "name": "python",
   "nbconvert_exporter": "python",
   "pygments_lexer": "ipython3",
   "version": "3.7.4"
  },
  "toc": {
   "base_numbering": 1,
   "nav_menu": {},
   "number_sections": true,
   "sideBar": true,
   "skip_h1_title": false,
   "title_cell": "Table of Contents",
   "title_sidebar": "Contents",
   "toc_cell": false,
   "toc_position": {},
   "toc_section_display": true,
   "toc_window_display": false
  },
  "varInspector": {
   "cols": {
    "lenName": 16,
    "lenType": 16,
    "lenVar": 40
   },
   "kernels_config": {
    "python": {
     "delete_cmd_postfix": "",
     "delete_cmd_prefix": "del ",
     "library": "var_list.py",
     "varRefreshCmd": "print(var_dic_list())"
    },
    "r": {
     "delete_cmd_postfix": ") ",
     "delete_cmd_prefix": "rm(",
     "library": "var_list.r",
     "varRefreshCmd": "cat(var_dic_list()) "
    }
   },
   "types_to_exclude": [
    "module",
    "function",
    "builtin_function_or_method",
    "instance",
    "_Feature"
   ],
   "window_display": false
  }
 },
 "nbformat": 4,
 "nbformat_minor": 2
}
