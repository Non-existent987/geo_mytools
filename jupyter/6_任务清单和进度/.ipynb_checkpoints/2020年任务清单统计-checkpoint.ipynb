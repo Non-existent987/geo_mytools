{
 "cells": [
  {
   "cell_type": "code",
   "execution_count": null,
   "metadata": {
    "ExecuteTime": {
     "end_time": "2020-08-27T12:16:13.868202Z",
     "start_time": "2020-08-27T12:16:13.534160Z"
    }
   },
   "outputs": [],
   "source": [
    "%load_ext autoreload\n",
    "%autoreload 2"
   ]
  },
  {
   "cell_type": "code",
   "execution_count": null,
   "metadata": {
    "ExecuteTime": {
     "end_time": "2020-08-27T12:16:15.517912Z",
     "start_time": "2020-08-27T12:16:15.181369Z"
    }
   },
   "outputs": [],
   "source": [
    "import pandas as pd\n",
    "import mytools\n",
    "import re"
   ]
  },
  {
   "cell_type": "code",
   "execution_count": null,
   "metadata": {
    "ExecuteTime": {
     "end_time": "2020-08-27T12:17:24.788708Z",
     "start_time": "2020-08-27T12:17:06.498886Z"
    }
   },
   "outputs": [],
   "source": [
    "data_excel = pd.ExcelFile('G:/1-规划/崔开通崔可研规划/2020年任务清单/20200827/2020年任务清单（场景+MR）0826YC.xlsx')"
   ]
  },
  {
   "cell_type": "code",
   "execution_count": null,
   "metadata": {
    "ExecuteTime": {
     "end_time": "2020-08-27T12:17:27.556059Z",
     "start_time": "2020-08-27T12:17:26.138879Z"
    }
   },
   "outputs": [],
   "source": [
    "data = data_excel.parse(sheet_name=data_excel.sheet_names[0])"
   ]
  },
  {
   "cell_type": "code",
   "execution_count": null,
   "metadata": {
    "ExecuteTime": {
     "end_time": "2020-08-27T12:17:29.390292Z",
     "start_time": "2020-08-27T12:17:29.048249Z"
    }
   },
   "outputs": [],
   "source": [
    "data['TDL规划站号（新）'] = data['TDL规划站号（新）'].fillna('无')"
   ]
  },
  {
   "cell_type": "code",
   "execution_count": null,
   "metadata": {
    "ExecuteTime": {
     "end_time": "2020-08-27T12:17:31.126513Z",
     "start_time": "2020-08-27T12:17:30.760466Z"
    }
   },
   "outputs": [],
   "source": [
    "qingdan_yuan = data.loc[data['分类']=='2020年5月新任务清单']"
   ]
  },
  {
   "cell_type": "markdown",
   "metadata": {},
   "source": [
    "# -------全网进度--------\n",
    "## 优化进度"
   ]
  },
  {
   "cell_type": "code",
   "execution_count": null,
   "metadata": {
    "ExecuteTime": {
     "end_time": "2020-08-27T12:17:32.879235Z",
     "start_time": "2020-08-27T12:17:32.508188Z"
    }
   },
   "outputs": [],
   "source": [
    "qingdan = qingdan_yuan.copy()"
   ]
  },
  {
   "cell_type": "code",
   "execution_count": null,
   "metadata": {
    "ExecuteTime": {
     "end_time": "2020-08-27T12:17:34.681964Z",
     "start_time": "2020-08-27T12:17:34.316418Z"
    }
   },
   "outputs": [],
   "source": [
    "# 优化总点youhua_z，优化完成youhua_w，\n",
    "youhua_z = qingdan.loc[(qingdan['优化']=='优化')]['唯一编号'].count()\n",
    "youhua_p = qingdan.loc[(qingdan['优化']=='优化') & (qingdan['优化已派发']==1)]['唯一编号'].count()\n",
    "youhua_w = qingdan.loc[(qingdan['优化']=='优化') & (qingdan['优化已派发']==1)& (qingdan['优化完成']==1)]['唯一编号'].count()"
   ]
  },
  {
   "cell_type": "code",
   "execution_count": null,
   "metadata": {
    "ExecuteTime": {
     "end_time": "2020-08-27T12:17:36.416185Z",
     "start_time": "2020-08-27T12:17:36.059139Z"
    }
   },
   "outputs": [],
   "source": [
    "#youhua已经df，优化完成df\n",
    "youhua_data_z = qingdan.loc[(qingdan['优化']=='优化') ]\n",
    "youhua_data_p = qingdan.loc[(qingdan['优化']=='优化') & (qingdan['优化已派发']==1)]\n",
    "youhua_data_w = qingdan.loc[(qingdan['优化']=='优化') & (qingdan['优化已派发']==1) & (qingdan['优化完成']==1)]"
   ]
  },
  {
   "cell_type": "code",
   "execution_count": null,
   "metadata": {
    "ExecuteTime": {
     "end_time": "2020-08-27T12:17:38.140904Z",
     "start_time": "2020-08-27T12:17:37.796360Z"
    }
   },
   "outputs": [],
   "source": [
    "#地市的完成数量y_w，地市的派发总数量y_z\n",
    "y_z = youhua_data_z.groupby(by = '地市').agg({'唯一编号':'count'})\n",
    "y_w = youhua_data_w.groupby(by = '地市').agg({'唯一编号':'count'})\n",
    "y_p = youhua_data_p.groupby(by = '地市').agg({'唯一编号':'count'})"
   ]
  },
  {
   "cell_type": "code",
   "execution_count": null,
   "metadata": {
    "ExecuteTime": {
     "end_time": "2020-08-27T12:17:39.881125Z",
     "start_time": "2020-08-27T12:17:39.542081Z"
    }
   },
   "outputs": [],
   "source": [
    "# 统计每个地市的派发和完成\n",
    "youhuajindu=pd.concat([y_z,y_p,y_w],axis = 1)\n",
    "youhuajindu.columns = ['总量','派发','完成量']\n",
    "youhuajindu['完成派发进度'] = youhuajindu['完成量']/youhuajindu['派发']\n",
    "youhuajindu['整体进度'] = youhuajindu['完成量']/youhuajindu['总量']"
   ]
  },
  {
   "cell_type": "code",
   "execution_count": null,
   "metadata": {
    "ExecuteTime": {
     "end_time": "2020-08-27T12:17:41.617345Z",
     "start_time": "2020-08-27T12:17:41.278802Z"
    }
   },
   "outputs": [],
   "source": [
    "#按照格式输出\n",
    "youhua_wanchengdugao=list(youhuajindu.sort_values(by=\"完成派发进度\",ascending= False).head(3).index)  #排序 升序True 降序False by列"
   ]
  },
  {
   "cell_type": "code",
   "execution_count": null,
   "metadata": {
    "ExecuteTime": {
     "end_time": "2020-08-27T12:17:43.302559Z",
     "start_time": "2020-08-27T12:17:42.959015Z"
    }
   },
   "outputs": [],
   "source": [
    "'MR竞对优化工单总计'+str(youhua_z)+'单。已派发'+str(youhua_p)+'已完成'+str(youhua_w)+ '解决率'+str(youhua_w/youhua_p)+ \\\n",
    "str(youhua_wanchengdugao[0])+'、'+str(youhua_wanchengdugao[1])+'、'+str(youhua_wanchengdugao[2])+'派发工单解决率相对较高'"
   ]
  },
  {
   "cell_type": "code",
   "execution_count": null,
   "metadata": {
    "ExecuteTime": {
     "end_time": "2020-08-27T12:17:45.047781Z",
     "start_time": "2020-08-27T12:17:44.709238Z"
    },
    "scrolled": false
   },
   "outputs": [],
   "source": [
    "youhuajindu.sort_values(by=\"完成派发进度\",ascending= False)"
   ]
  },
  {
   "cell_type": "markdown",
   "metadata": {},
   "source": [
    "# 催开进度"
   ]
  },
  {
   "cell_type": "code",
   "execution_count": null,
   "metadata": {
    "ExecuteTime": {
     "end_time": "2020-08-27T12:17:46.741496Z",
     "start_time": "2020-08-27T12:17:46.395952Z"
    }
   },
   "outputs": [],
   "source": [
    "qingdan = qingdan_yuan.copy()"
   ]
  },
  {
   "cell_type": "code",
   "execution_count": null,
   "metadata": {
    "ExecuteTime": {
     "end_time": "2020-08-27T12:17:48.454713Z",
     "start_time": "2020-08-27T12:17:48.087167Z"
    }
   },
   "outputs": [],
   "source": [
    "# cuikai的数量统计\n",
    "cuikai_zdanzi = qingdan.loc[(qingdan['催开']=='催开') ]['唯一编号'].count()\n",
    "cuikai_z = qingdan.loc[(qingdan['催开']=='催开') ].drop_duplicates(subset='TDL规划站号（新）') ['唯一编号'].count()\n",
    "cuikai_w = qingdan.loc[(\n",
    "    qingdan['催开']=='催开') & (qingdan['催开完成']==1) ].drop_duplicates(subset='TDL规划站号（新）') ['唯一编号'].count()"
   ]
  },
  {
   "cell_type": "code",
   "execution_count": null,
   "metadata": {
    "ExecuteTime": {
     "end_time": "2020-08-27T12:17:50.355955Z",
     "start_time": "2020-08-27T12:17:50.002410Z"
    }
   },
   "outputs": [],
   "source": [
    "#催开总量和完成的df\n",
    "cuikai_quchong = qingdan.loc[(qingdan['催开']=='催开') ].drop_duplicates(subset='TDL规划站号（新）') \n",
    "cuikai_quchong_wancheng = qingdan.loc[(\n",
    "    qingdan['催开']=='催开') & (qingdan['催开完成']==1) ].drop_duplicates(subset='TDL规划站号（新）') "
   ]
  },
  {
   "cell_type": "code",
   "execution_count": null,
   "metadata": {
    "ExecuteTime": {
     "end_time": "2020-08-27T12:17:52.131680Z",
     "start_time": "2020-08-27T12:17:51.778635Z"
    }
   },
   "outputs": [],
   "source": [
    "#个地市的进度\n",
    "cuikai_zongliang = cuikai_quchong.groupby(by = '地市').agg({'唯一编号':'count'})\n",
    "cuikai_wanchengliang = cuikai_quchong_wancheng.groupby(by = '地市').agg({'唯一编号':'count'})\n",
    "cuikaijindu=pd.concat([cuikai_zongliang,cuikai_wanchengliang],axis = 1)\n",
    "cuikaijindu.columns = ['总量','完成量']\n",
    "cuikaijindu['进度'] = cuikaijindu['完成量']/cuikaijindu['总量']"
   ]
  },
  {
   "cell_type": "code",
   "execution_count": null,
   "metadata": {
    "ExecuteTime": {
     "end_time": "2020-08-27T12:17:53.850898Z",
     "start_time": "2020-08-27T12:17:53.499354Z"
    }
   },
   "outputs": [],
   "source": [
    "cuikai_wanchengdudi=list(cuikaijindu.sort_values(by=\"进度\",ascending= True).head(1).index)  #排序 升序True 降序False by列\n",
    "a=cuikai_wanchengdudi[0]\n",
    "jindudi=cuikai_quchong.loc[(cuikai_quchong['地市']==a) & (cuikai_quchong['催开完成']!=1)\n",
    "                          ].groupby(by='工期核实').agg({'唯一编号':'count'}).sort_values(by=\"唯一编号\",ascending= False).head(1).index\n",
    "'催开工单共'+str(cuikai_zdanzi)+'单，涉及逻辑站\\\n",
    "点'+str(cuikai_z)+'个，已开通站点'+str(cuikai_w)+'个(本月新增201个），催开完成率\\\n",
    "为'+str(cuikai_w/cuikai_z*100)[:5]+'%'+'。'+cuikai_wanchengdudi[0]+'地市整体解决进度较慢，主要为'+jindudi[0]+'未开通占比较\\\n",
    "高，需加快站点建设进度。'+'已催开工单整体MR覆盖率改善2.60pp，对全网劣于竞对小区占比指标改善5.26pp。'"
   ]
  },
  {
   "cell_type": "code",
   "execution_count": null,
   "metadata": {
    "ExecuteTime": {
     "end_time": "2020-08-27T12:17:55.622123Z",
     "start_time": "2020-08-27T12:17:55.274079Z"
    }
   },
   "outputs": [],
   "source": [
    "cuikaijindu.sort_values(by=\"进度\",ascending= True)"
   ]
  },
  {
   "cell_type": "code",
   "execution_count": null,
   "metadata": {
    "ExecuteTime": {
     "end_time": "2020-08-27T12:17:57.428853Z",
     "start_time": "2020-08-27T12:17:56.975795Z"
    }
   },
   "outputs": [],
   "source": [
    "cuikai_quchong.to_clipboard()"
   ]
  },
  {
   "cell_type": "markdown",
   "metadata": {},
   "source": [
    "# 可研进度"
   ]
  },
  {
   "cell_type": "code",
   "execution_count": null,
   "metadata": {
    "ExecuteTime": {
     "end_time": "2020-08-27T12:17:59.111066Z",
     "start_time": "2020-08-27T12:17:58.772523Z"
    }
   },
   "outputs": [],
   "source": [
    "qingdan = qingdan_yuan.copy()"
   ]
  },
  {
   "cell_type": "code",
   "execution_count": null,
   "metadata": {
    "ExecuteTime": {
     "end_time": "2020-08-27T12:18:00.943799Z",
     "start_time": "2020-08-27T12:18:00.478740Z"
    }
   },
   "outputs": [],
   "source": [
    "keyan_zdanzi = qingdan.loc[(qingdan['催可研']=='可研') ]['唯一编号'].count()\n",
    "keyan_z = qingdan.loc[(qingdan['催可研']=='可研') ].drop_duplicates(subset='TDL规划站号（新）') ['唯一编号'].count()\n",
    "keyan_w = qingdan.loc[(\n",
    "    qingdan['催可研']=='可研') & (qingdan['可研完成']==1) ].drop_duplicates(subset='TDL规划站号（新）') ['唯一编号'].count()"
   ]
  },
  {
   "cell_type": "code",
   "execution_count": null,
   "metadata": {
    "ExecuteTime": {
     "end_time": "2020-08-27T12:18:03.016562Z",
     "start_time": "2020-08-27T12:18:02.603510Z"
    }
   },
   "outputs": [],
   "source": [
    "'催可研工单共'+str(keyan_zdanzi)+'单，涉及'+str(keyan_z)+'个逻辑站点工期催研，目前累\\\n",
    "计'+str(keyan_w)+'个站点已纳入工期，入研进度为'+str(keyan_w/keyan_z*100)[:5]+'%。'"
   ]
  },
  {
   "cell_type": "code",
   "execution_count": null,
   "metadata": {
    "ExecuteTime": {
     "end_time": "2020-08-27T12:18:05.025317Z",
     "start_time": "2020-08-27T12:18:04.612765Z"
    }
   },
   "outputs": [],
   "source": [
    "#可研总量和完成的df\n",
    "keyan_quchong = qingdan.loc[(qingdan['催可研']=='可研') ].drop_duplicates(subset='TDL规划站号（新）') \n",
    "keyan_quchong_wancheng = qingdan.loc[(\n",
    "    qingdan['催可研']=='可研') & (qingdan['可研完成']==1) ].drop_duplicates(subset='TDL规划站号（新）') "
   ]
  },
  {
   "cell_type": "code",
   "execution_count": null,
   "metadata": {
    "ExecuteTime": {
     "end_time": "2020-08-27T12:18:07.133585Z",
     "start_time": "2020-08-27T12:18:06.735535Z"
    }
   },
   "outputs": [],
   "source": [
    "#个地市的进度\n",
    "keyan_zongliang = keyan_quchong.groupby(by = '地市').agg({'唯一编号':'count'})\n",
    "keyan_wanchengliang = keyan_quchong_wancheng.groupby(by = '地市').agg({'唯一编号':'count'})\n",
    "keyanjindu=pd.concat([keyan_zongliang,keyan_wanchengliang],axis = 1)\n",
    "keyanjindu.columns = ['总量','完成量']\n",
    "keyanjindu['进度'] = keyanjindu['完成量']/keyanjindu['总量']"
   ]
  },
  {
   "cell_type": "code",
   "execution_count": null,
   "metadata": {
    "ExecuteTime": {
     "end_time": "2020-08-27T12:18:08.886308Z",
     "start_time": "2020-08-27T12:18:08.538764Z"
    }
   },
   "outputs": [],
   "source": [
    "keyanjindu"
   ]
  },
  {
   "cell_type": "markdown",
   "metadata": {},
   "source": [
    "# 规划进度"
   ]
  },
  {
   "cell_type": "code",
   "execution_count": null,
   "metadata": {
    "ExecuteTime": {
     "end_time": "2020-08-27T12:18:10.574022Z",
     "start_time": "2020-08-27T12:18:10.220977Z"
    }
   },
   "outputs": [],
   "source": [
    "qingdan = qingdan_yuan.copy()"
   ]
  },
  {
   "cell_type": "code",
   "execution_count": null,
   "metadata": {
    "ExecuteTime": {
     "end_time": "2020-08-27T12:18:12.312743Z",
     "start_time": "2020-08-27T12:18:11.960698Z"
    }
   },
   "outputs": [],
   "source": [
    "guihua_zdanzi = qingdan.loc[(qingdan['规划']=='规划') ]['唯一编号'].count()\n",
    "guihua_w = qingdan.loc[(qingdan['规划']=='规划') & (qingdan['规划完成']==1) ]['唯一编号'].count()\n",
    "'需规划解决工单共'+str(guihua_zdanzi)+'单，目前累计完成'+str(guihua_w)+'个问题工单规划衔接，规\\\n",
    "划完成比例'+str(guihua_w/guihua_zdanzi*100)[:5]+'%。'"
   ]
  },
  {
   "cell_type": "code",
   "execution_count": null,
   "metadata": {
    "ExecuteTime": {
     "end_time": "2020-08-27T12:18:14.070466Z",
     "start_time": "2020-08-27T12:18:13.706420Z"
    }
   },
   "outputs": [],
   "source": [
    "#规划总量和完成的df\n",
    "guihua_quchong = qingdan.loc[(qingdan['规划']=='规划') ]\n",
    "guihua_quchong_wancheng = qingdan.loc[(qingdan['规划']=='规划') & (qingdan['规划完成']==1) ]"
   ]
  },
  {
   "cell_type": "code",
   "execution_count": null,
   "metadata": {
    "ExecuteTime": {
     "end_time": "2020-08-27T12:18:15.747179Z",
     "start_time": "2020-08-27T12:18:15.401135Z"
    }
   },
   "outputs": [],
   "source": [
    "#个地市的进度\n",
    "guihua_zongliang = guihua_quchong.groupby(by = '地市').agg({'唯一编号':'count'})\n",
    "guihua_wanchengliang = guihua_quchong_wancheng.groupby(by = '地市').agg({'唯一编号':'count'})\n",
    "guihuajindu=pd.concat([guihua_zongliang,guihua_wanchengliang],axis = 1)\n",
    "guihuajindu.columns = ['总量','完成量']\n",
    "guihuajindu['进度'] = guihuajindu['完成量']/guihuajindu['总量']"
   ]
  },
  {
   "cell_type": "markdown",
   "metadata": {},
   "source": [
    "# ---------周进度----------"
   ]
  },
  {
   "cell_type": "code",
   "execution_count": null,
   "metadata": {
    "ExecuteTime": {
     "end_time": "2020-08-27T12:18:17.546907Z",
     "start_time": "2020-08-27T12:18:17.192362Z"
    }
   },
   "outputs": [],
   "source": [
    "line = '''\n",
    "1.针对2020年的MR竞对覆盖提升清单，总任务量共计12009个。\n",
    " 规（小区）/优（小区）/研（站点）/建（站点）分别为6492/ 4313/ 1243/1716,\n",
    " 本周新增分别为0/49/0/21，累计已完成2510（38.66%）/ 937（21.73%）/ 763（61.38%）/ 827（48.19%）。\n",
    " '''"
   ]
  },
  {
   "cell_type": "code",
   "execution_count": null,
   "metadata": {
    "ExecuteTime": {
     "end_time": "2020-08-27T12:18:19.318632Z",
     "start_time": "2020-08-27T12:18:18.892078Z"
    }
   },
   "outputs": [],
   "source": [
    "keyanjindu.columns = ['总量',  '完成量', '可研进度']\n",
    "keyanjindu1=keyanjindu[['可研进度']]\n",
    "cuikaijindu.columns = ['总量',  '完成量', '催开进度']\n",
    "cuikaijindu1=cuikaijindu[['催开进度']]\n",
    "youhuajindu.columns = ['总量', '派发量', '完成量','完成派发进度', '优化进度']\n",
    "youhuajindu1=youhuajindu[['优化进度']]\n",
    "guihuajindu.columns = ['总量', '完成量', '规划进度']\n",
    "guihuajindu1=guihuajindu[['规划进度']]\n",
    "data_z = pd.concat([youhuajindu1,cuikaijindu1,keyanjindu1,guihuajindu1],axis=1)"
   ]
  },
  {
   "cell_type": "code",
   "execution_count": null,
   "metadata": {
    "ExecuteTime": {
     "end_time": "2020-08-27T12:18:21.004346Z",
     "start_time": "2020-08-27T12:18:20.647801Z"
    }
   },
   "outputs": [],
   "source": [
    "pattern = re.compile(r'.*累计已完成(\\d*).*/ (\\d*).*/ (\\d*).*/ (\\d*).*')                    # 用于匹配至少一个数字\n",
    "m = pattern.search(line) \n",
    "g_s = m.group(1)\n",
    "y_s = m.group(2)\n",
    "k_s = m.group(3)\n",
    "j_s = m.group(4)\n",
    "gui = guihua_w-int(g_s)\n",
    "you = youhua_w-int(y_s)\n",
    "yan = keyan_w-int(k_s)\n",
    "jian = cuikai_w-int(j_s)"
   ]
  },
  {
   "cell_type": "code",
   "execution_count": null,
   "metadata": {
    "ExecuteTime": {
     "end_time": "2020-08-27T12:18:22.768070Z",
     "start_time": "2020-08-27T12:18:22.384022Z"
    }
   },
   "outputs": [],
   "source": [
    "gui,you,yan,jian"
   ]
  },
  {
   "cell_type": "code",
   "execution_count": null,
   "metadata": {
    "ExecuteTime": {
     "end_time": "2020-08-27T12:18:24.521293Z",
     "start_time": "2020-08-27T12:18:24.177249Z"
    },
    "scrolled": true
   },
   "outputs": [],
   "source": [
    "print('1.针对2020年的MR竞对覆盖提升清单，总任务量共计12009个。\\n \\\n",
    "规（小区）/优（小区）/研（站点）/建（站点）分别为{g}/ {y}/ {k}/{j},\\n \\\n",
    "本周新增分别为{gui}/{you}/{yan}/{jian}，累计已完成{g_w}（{gui_b}%）/ {y_w}（{you_b}%）/ {ky_w}（{yan_b}%）/ {c_w}（{jian_b}%）。'.format(\n",
    "    g_w=str(guihua_w),ky_w=str(keyan_w),c_w =str(cuikai_w),y_w = str(youhua_w) ,g=str(guihua_zdanzi),\n",
    "    y=str(youhua_z),k=str(keyan_z),j=str(cuikai_z),gui=gui  ,you= you ,yan= yan ,jian = jian ,\n",
    "    gui_b=round(guihua_w/guihua_zdanzi*100,2),\n",
    "    you_b=round(youhua_w/youhua_z*100,2),\n",
    "    yan_b=round(keyan_w/keyan_z*100,2),\n",
    "    jian_b=round(cuikai_w/cuikai_z*100,2)\n",
    "))"
   ]
  },
  {
   "cell_type": "markdown",
   "metadata": {},
   "source": [
    "# ------------武汉竞对及MR分析----------------\n",
    "### 优化"
   ]
  },
  {
   "cell_type": "code",
   "execution_count": null,
   "metadata": {
    "ExecuteTime": {
     "end_time": "2020-08-25T07:07:08.272020Z",
     "start_time": "2020-08-25T07:07:07.972482Z"
    }
   },
   "outputs": [],
   "source": [
    "qingdan_y = qingdan_yuan.copy()\n",
    "qingdan_y = qingdan_y.loc[qingdan_y['地市']=='武汉']\n",
    "qingdan = qingdan_y.loc[qingdan_y['地市']=='武汉']"
   ]
  },
  {
   "cell_type": "code",
   "execution_count": null,
   "metadata": {
    "ExecuteTime": {
     "end_time": "2020-08-25T07:07:09.172635Z",
     "start_time": "2020-08-25T07:07:08.870096Z"
    }
   },
   "outputs": [],
   "source": [
    "qingdan.columns"
   ]
  },
  {
   "cell_type": "code",
   "execution_count": null,
   "metadata": {
    "ExecuteTime": {
     "end_time": "2020-08-25T07:07:10.047246Z",
     "start_time": "2020-08-25T07:07:09.763710Z"
    }
   },
   "outputs": [],
   "source": [
    "youhua_z = qingdan.loc[(qingdan['优化']=='优化')]['唯一编号'].count()\n",
    "youhua_p = qingdan.loc[(qingdan['优化']=='优化') & (qingdan['优化已派发']==1)]['唯一编号'].count()\n",
    "youhua_w = qingdan.loc[(qingdan['优化']=='优化') & (qingdan['优化已派发']==1)& (qingdan['优化完成']==1)]['唯一编号'].count()"
   ]
  },
  {
   "cell_type": "code",
   "execution_count": null,
   "metadata": {
    "ExecuteTime": {
     "end_time": "2020-08-25T07:07:10.903855Z",
     "start_time": "2020-08-25T07:07:10.627820Z"
    }
   },
   "outputs": [],
   "source": [
    "youhua_w"
   ]
  },
  {
   "cell_type": "code",
   "execution_count": null,
   "metadata": {
    "ExecuteTime": {
     "end_time": "2020-08-25T07:07:11.766964Z",
     "start_time": "2020-08-25T07:07:11.478428Z"
    }
   },
   "outputs": [],
   "source": [
    "youhua_data_z = qingdan.loc[(qingdan['优化']=='优化') ]\n",
    "youhua_data_p = qingdan.loc[(qingdan['优化']=='优化') & (qingdan['优化已派发']==1)]\n",
    "youhua_data_w = qingdan.loc[(qingdan['优化']=='优化') & (qingdan['优化已派发']==1) & (qingdan['优化完成']==1)]"
   ]
  },
  {
   "cell_type": "code",
   "execution_count": null,
   "metadata": {
    "ExecuteTime": {
     "end_time": "2020-08-25T07:07:12.644076Z",
     "start_time": "2020-08-25T07:07:12.353539Z"
    }
   },
   "outputs": [],
   "source": [
    "youhua_data_p.shape"
   ]
  },
  {
   "cell_type": "code",
   "execution_count": null,
   "metadata": {
    "ExecuteTime": {
     "end_time": "2020-08-25T07:07:13.508185Z",
     "start_time": "2020-08-25T07:07:13.219649Z"
    }
   },
   "outputs": [],
   "source": [
    "y_w = youhua_data_w.groupby(by = '区县').agg({'唯一编号':'count'})\n",
    "y_p = youhua_data_p.groupby(by = '区县').agg({'唯一编号':'count'})\n",
    "y_z = youhua_data_z.groupby(by = '区县').agg({'唯一编号':'count'})\n",
    "youhuajindu=pd.concat([y_z,y_p,y_w],axis = 1)"
   ]
  },
  {
   "cell_type": "code",
   "execution_count": null,
   "metadata": {
    "ExecuteTime": {
     "end_time": "2020-08-25T07:07:14.400299Z",
     "start_time": "2020-08-25T07:07:14.091760Z"
    }
   },
   "outputs": [],
   "source": [
    "youhuajindu.columns = ['总量','派发量','完成量']\n",
    "youhuajindu['派发完成进度'] = youhuajindu['完成量']/youhuajindu['派发量']\n",
    "youhuajindu['进度'] = youhuajindu['完成量']/youhuajindu['总量']"
   ]
  },
  {
   "cell_type": "code",
   "execution_count": null,
   "metadata": {
    "ExecuteTime": {
     "end_time": "2020-08-25T07:07:15.459933Z",
     "start_time": "2020-08-25T07:07:15.100388Z"
    }
   },
   "outputs": [],
   "source": [
    "youhuajindu"
   ]
  },
  {
   "cell_type": "code",
   "execution_count": null,
   "metadata": {
    "ExecuteTime": {
     "end_time": "2020-08-25T07:07:16.422055Z",
     "start_time": "2020-08-25T07:07:16.142020Z"
    }
   },
   "outputs": [],
   "source": [
    "youhua_wanchengdugao=list(youhuajindu.sort_values(by=\"派发完成进度\",ascending= False).head(3).index)  #排序 升序True 降序False by列"
   ]
  },
  {
   "cell_type": "code",
   "execution_count": null,
   "metadata": {
    "ExecuteTime": {
     "end_time": "2020-08-25T07:07:17.442185Z",
     "start_time": "2020-08-25T07:07:17.103642Z"
    }
   },
   "outputs": [],
   "source": [
    "'MR竞对优化工单'+str(youhua_z)+'单。已派发'+str(youhua_p)+'已完成'+str(youhua_w)+'完成率为'+str(youhua_w/youhua_p*100)[:5]+'%'+str(\n",
    "    youhua_wanchengdugao[0])+'，'+str(youhua_wanchengdugao[1])+'，'+str(youhua_wanchengdugao[2])+'派发工单解决率相对较高'"
   ]
  },
  {
   "cell_type": "code",
   "execution_count": null,
   "metadata": {
    "ExecuteTime": {
     "end_time": "2020-08-25T07:07:18.321797Z",
     "start_time": "2020-08-25T07:07:18.030260Z"
    }
   },
   "outputs": [],
   "source": [
    "youhuajindu.to_clipboard()"
   ]
  },
  {
   "cell_type": "code",
   "execution_count": null,
   "metadata": {},
   "outputs": [],
   "source": []
  },
  {
   "cell_type": "markdown",
   "metadata": {},
   "source": [
    "# 催开"
   ]
  },
  {
   "cell_type": "code",
   "execution_count": null,
   "metadata": {
    "ExecuteTime": {
     "end_time": "2020-08-25T07:07:19.179906Z",
     "start_time": "2020-08-25T07:07:18.891369Z"
    }
   },
   "outputs": [],
   "source": [
    "qingdan_c = qingdan_yuan.copy()\n",
    "qingdan_c = qingdan_c.loc[qingdan_c['地市']=='武汉']\n",
    "qingdan = qingdan_c.copy()"
   ]
  },
  {
   "cell_type": "code",
   "execution_count": null,
   "metadata": {
    "ExecuteTime": {
     "end_time": "2020-08-25T07:07:20.198035Z",
     "start_time": "2020-08-25T07:07:19.900497Z"
    }
   },
   "outputs": [],
   "source": [
    "cuikai_zdanzi = qingdan.loc[(qingdan['催开']=='催开') ]['唯一编号'].count()\n",
    "cuikai_z = qingdan.loc[(qingdan['催开']=='催开') ].drop_duplicates(subset='TDL规划站号（新）') ['唯一编号'].count()\n",
    "cuikai_w = qingdan.loc[(qingdan['催开']=='催开') & (qingdan['催开完成']==1) ].drop_duplicates(\n",
    "    subset='TDL规划站号（新）') ['唯一编号'].count()"
   ]
  },
  {
   "cell_type": "code",
   "execution_count": null,
   "metadata": {
    "ExecuteTime": {
     "end_time": "2020-08-25T07:07:21.119652Z",
     "start_time": "2020-08-25T07:07:20.826615Z"
    }
   },
   "outputs": [],
   "source": [
    "cuikai_quchong = qingdan.loc[(qingdan['催开']=='催开') ].drop_duplicates(subset='TDL规划站号（新）') \n",
    "cuikai_quchong_wancheng = qingdan.loc[(qingdan['催开']=='催开') & (qingdan['催开完成']==1) ].drop_duplicates(\n",
    "    subset='TDL规划站号（新）') "
   ]
  },
  {
   "cell_type": "code",
   "execution_count": null,
   "metadata": {
    "ExecuteTime": {
     "end_time": "2020-08-25T07:07:21.991263Z",
     "start_time": "2020-08-25T07:07:21.708227Z"
    }
   },
   "outputs": [],
   "source": [
    "cuikai_zongliang = cuikai_quchong.groupby(by = '区县').agg({'唯一编号':'count'})\n",
    "cuikai_wanchengliang = cuikai_quchong_wancheng.groupby(by = '区县').agg({'唯一编号':'count'})"
   ]
  },
  {
   "cell_type": "code",
   "execution_count": null,
   "metadata": {
    "ExecuteTime": {
     "end_time": "2020-08-25T07:07:22.857373Z",
     "start_time": "2020-08-25T07:07:22.580837Z"
    }
   },
   "outputs": [],
   "source": [
    "cuikaijindu=pd.concat([cuikai_zongliang,cuikai_wanchengliang],axis = 1)\n",
    "cuikaijindu.columns = ['总量','完成量']\n",
    "cuikaijindu['进度'] = cuikaijindu['完成量']/cuikaijindu['总量']"
   ]
  },
  {
   "cell_type": "code",
   "execution_count": null,
   "metadata": {
    "ExecuteTime": {
     "end_time": "2020-08-25T07:07:23.776489Z",
     "start_time": "2020-08-25T07:07:23.490453Z"
    }
   },
   "outputs": [],
   "source": [
    "cuikai_wanchengdudi=list(cuikaijindu.sort_values(by=\"进度\",ascending= True).head(1).index)  #排序 升序True 降序False by列\n",
    "\n",
    "a=cuikai_wanchengdudi[0]\n",
    "\n",
    "jindudi=cuikai_quchong.loc[(cuikai_quchong['区县']==a) & (cuikai_quchong['催开完成']!=1)].groupby(by='工期核实').agg(\n",
    "    {'唯一编号':'count'}).sort_values(by=\"唯一编号\",ascending= False).head(1).index"
   ]
  },
  {
   "cell_type": "code",
   "execution_count": null,
   "metadata": {
    "ExecuteTime": {
     "end_time": "2020-08-25T07:07:24.654601Z",
     "start_time": "2020-08-25T07:07:24.362064Z"
    }
   },
   "outputs": [],
   "source": [
    "a"
   ]
  },
  {
   "cell_type": "code",
   "execution_count": null,
   "metadata": {
    "ExecuteTime": {
     "end_time": "2020-08-25T07:07:25.597721Z",
     "start_time": "2020-08-25T07:07:25.311684Z"
    }
   },
   "outputs": [],
   "source": [
    "'催开工单共'+str(cuikai_zdanzi)+'单，涉及逻辑站\\\n",
    "点'+str(cuikai_z)+'个，已开通站点'+str(cuikai_w)+'个(本月新增201个），催开完成率\\\n",
    "为'+str(cuikai_w/cuikai_z*100)[:5]+'%'+'。'+cuikai_wanchengdudi[0]+'地市整体解决进度较慢，主要为'+jindudi[0]+'未开通占比较\\\n",
    "高，需加快站点建设进度。'+'已催开工单整体MR覆盖率改善2.60pp，对全网劣于竞对小区占比指标改善5.26pp。'"
   ]
  },
  {
   "cell_type": "code",
   "execution_count": null,
   "metadata": {
    "ExecuteTime": {
     "end_time": "2020-08-25T07:07:26.531339Z",
     "start_time": "2020-08-25T07:07:26.237302Z"
    }
   },
   "outputs": [],
   "source": [
    "cuikaijindu"
   ]
  },
  {
   "cell_type": "code",
   "execution_count": null,
   "metadata": {
    "ExecuteTime": {
     "end_time": "2020-08-25T07:07:27.405450Z",
     "start_time": "2020-08-25T07:07:27.123914Z"
    }
   },
   "outputs": [],
   "source": [
    "cuikaijindu.to_clipboard()"
   ]
  },
  {
   "cell_type": "markdown",
   "metadata": {},
   "source": [
    "# 可研"
   ]
  },
  {
   "cell_type": "code",
   "execution_count": null,
   "metadata": {
    "ExecuteTime": {
     "end_time": "2020-08-05T08:50:35.742856Z",
     "start_time": "2020-08-05T08:50:35.175284Z"
    }
   },
   "outputs": [],
   "source": [
    "qingdan_k = qingdan_yuan.copy()\n",
    "qingdan_k = qingdan_k.loc[qingdan_k['地市']=='武汉']\n",
    "qingdan = qingdan_k.copy()"
   ]
  },
  {
   "cell_type": "code",
   "execution_count": null,
   "metadata": {
    "ExecuteTime": {
     "end_time": "2020-08-05T08:50:36.280424Z",
     "start_time": "2020-08-05T08:50:35.749856Z"
    }
   },
   "outputs": [],
   "source": [
    "keyan_zdanzi = qingdan.loc[(qingdan['催可研']=='可研') ]['唯一编号'].count()\n",
    "keyan_z = qingdan.loc[(qingdan['催可研']=='可研') ].drop_duplicates(subset='TDL规划站号（新）') ['唯一编号'].count()\n",
    "keyan_w = qingdan.loc[(qingdan['催可研']=='可研') & (qingdan['可研完成']==1) ].drop_duplicates(\n",
    "    subset='TDL规划站号（新）') ['唯一编号'].count()"
   ]
  },
  {
   "cell_type": "code",
   "execution_count": null,
   "metadata": {
    "ExecuteTime": {
     "end_time": "2020-08-05T08:50:36.799490Z",
     "start_time": "2020-08-05T08:50:36.284424Z"
    }
   },
   "outputs": [],
   "source": [
    "'催可研工单共'+str(keyan_zdanzi)+'单，涉及'+str(keyan_z)+'个逻辑站点工期催研，目前累\\\n",
    "计'+str(keyan_w)+'个站点已纳入工期，入研进度为'+str(keyan_w/keyan_z*100)[:5]+'%。'"
   ]
  },
  {
   "cell_type": "code",
   "execution_count": null,
   "metadata": {
    "ExecuteTime": {
     "end_time": "2020-08-05T08:50:37.338558Z",
     "start_time": "2020-08-05T08:50:36.802490Z"
    }
   },
   "outputs": [],
   "source": [
    "keyan_quchong = qingdan.loc[(qingdan['催可研']=='可研') ].drop_duplicates(subset='TDL规划站号（新）')\n",
    "keyan_quchong_w = qingdan.loc[(qingdan['催可研']=='可研') & (qingdan['可研完成']==1) ].drop_duplicates(subset='TDL规划站号（新）')"
   ]
  },
  {
   "cell_type": "code",
   "execution_count": null,
   "metadata": {
    "ExecuteTime": {
     "end_time": "2020-08-05T08:50:37.888128Z",
     "start_time": "2020-08-05T08:50:37.344059Z"
    }
   },
   "outputs": [],
   "source": [
    "k_z = keyan_quchong.groupby(by = '区县').agg({'唯一编号':'count'})\n",
    "k_w = keyan_quchong_w.groupby(by = '区县').agg({'唯一编号':'count'})\n",
    "keyanjindu=pd.concat([k_z,k_w],axis = 1)\n",
    "keyanjindu.columns = ['总量','完成量']\n",
    "keyanjindu['进度'] = keyanjindu['完成量']/keyanjindu['总量']"
   ]
  },
  {
   "cell_type": "code",
   "execution_count": null,
   "metadata": {
    "ExecuteTime": {
     "end_time": "2020-08-05T08:50:38.613220Z",
     "start_time": "2020-08-05T08:50:37.893129Z"
    }
   },
   "outputs": [],
   "source": [
    "keyanjindu.to_clipboard()"
   ]
  },
  {
   "cell_type": "markdown",
   "metadata": {},
   "source": [
    "# 规划 "
   ]
  },
  {
   "cell_type": "code",
   "execution_count": null,
   "metadata": {
    "ExecuteTime": {
     "end_time": "2020-08-05T08:50:39.294807Z",
     "start_time": "2020-08-05T08:50:38.617721Z"
    }
   },
   "outputs": [],
   "source": [
    "qingdan_g = qingdan_yuan.copy()\n",
    "qingdan_g = qingdan_g.loc[qingdan_g['地市']=='武汉']\n",
    "qingdan = qingdan_g.copy()\n",
    "\n",
    "guihua_zdanzi = qingdan.loc[(qingdan['规划']=='规划') ]['唯一编号'].count()\n",
    "guihua_w = qingdan.loc[(qingdan['规划']=='规划') & (qingdan['规划完成']==1) ]['唯一编号'].count()"
   ]
  },
  {
   "cell_type": "code",
   "execution_count": null,
   "metadata": {
    "ExecuteTime": {
     "end_time": "2020-08-05T08:50:39.927387Z",
     "start_time": "2020-08-05T08:50:39.299807Z"
    }
   },
   "outputs": [],
   "source": [
    "'需规划解决工单共'+str(guihua_zdanzi)+'单，目前累计完成'+str(guihua_w)+'个问题工单规划衔接，规\\\n",
    "划完成比例'+str(guihua_w/guihua_zdanzi*100)[:5]+'%。'"
   ]
  },
  {
   "cell_type": "code",
   "execution_count": null,
   "metadata": {
    "ExecuteTime": {
     "end_time": "2020-08-05T08:50:40.520962Z",
     "start_time": "2020-08-05T08:50:39.932388Z"
    }
   },
   "outputs": [],
   "source": [
    "guihua_qingdan = qingdan.loc[(qingdan['规划']=='规划') ]\n",
    "guihua_qingdan_w = qingdan.loc[(qingdan['规划']=='规划') & (qingdan['规划完成']==1)]\n",
    "g_z = guihua_qingdan.groupby(by = '区县').agg({'唯一编号':'count'})\n",
    "g_w = guihua_qingdan_w.groupby(by = '区县').agg({'唯一编号':'count'})\n",
    "guihuajindu=pd.concat([g_z,g_w],axis = 1)\n",
    "guihuajindu.columns = ['总量','完成量']\n",
    "guihuajindu['进度'] = guihuajindu['完成量']/guihuajindu['总量']"
   ]
  },
  {
   "cell_type": "code",
   "execution_count": null,
   "metadata": {
    "ExecuteTime": {
     "end_time": "2020-08-05T08:50:41.055030Z",
     "start_time": "2020-08-05T08:50:40.530964Z"
    }
   },
   "outputs": [],
   "source": [
    "guihuajindu.to_clipboard()"
   ]
  },
  {
   "cell_type": "code",
   "execution_count": null,
   "metadata": {},
   "outputs": [],
   "source": []
  },
  {
   "cell_type": "code",
   "execution_count": null,
   "metadata": {},
   "outputs": [],
   "source": []
  },
  {
   "cell_type": "code",
   "execution_count": null,
   "metadata": {},
   "outputs": [],
   "source": []
  }
 ],
 "metadata": {
  "kernelspec": {
   "display_name": "Python 3",
   "language": "python",
   "name": "python3"
  },
  "language_info": {
   "codemirror_mode": {
    "name": "ipython",
    "version": 3
   },
   "file_extension": ".py",
   "mimetype": "text/x-python",
   "name": "python",
   "nbconvert_exporter": "python",
   "pygments_lexer": "ipython3",
   "version": "3.7.4"
  },
  "toc": {
   "base_numbering": 1,
   "nav_menu": {},
   "number_sections": true,
   "sideBar": true,
   "skip_h1_title": false,
   "title_cell": "Table of Contents",
   "title_sidebar": "Contents",
   "toc_cell": false,
   "toc_position": {},
   "toc_section_display": true,
   "toc_window_display": false
  },
  "varInspector": {
   "cols": {
    "lenName": 16,
    "lenType": 16,
    "lenVar": 40
   },
   "kernels_config": {
    "python": {
     "delete_cmd_postfix": "",
     "delete_cmd_prefix": "del ",
     "library": "var_list.py",
     "varRefreshCmd": "print(var_dic_list())"
    },
    "r": {
     "delete_cmd_postfix": ") ",
     "delete_cmd_prefix": "rm(",
     "library": "var_list.r",
     "varRefreshCmd": "cat(var_dic_list()) "
    }
   },
   "types_to_exclude": [
    "module",
    "function",
    "builtin_function_or_method",
    "instance",
    "_Feature"
   ],
   "window_display": false
  }
 },
 "nbformat": 4,
 "nbformat_minor": 2
}
