{
 "cells": [
  {
   "cell_type": "code",
   "execution_count": 1,
   "metadata": {
    "ExecuteTime": {
     "end_time": "2020-09-27T08:29:06.098152Z",
     "start_time": "2020-09-27T08:29:05.950633Z"
    }
   },
   "outputs": [],
   "source": [
    "%load_ext autoreload\n",
    "%autoreload 2"
   ]
  },
  {
   "cell_type": "code",
   "execution_count": 2,
   "metadata": {
    "ExecuteTime": {
     "end_time": "2020-09-27T08:29:07.307805Z",
     "start_time": "2020-09-27T08:29:06.100152Z"
    }
   },
   "outputs": [],
   "source": [
    "import pandas as pd\n",
    "import mytools\n",
    "import re"
   ]
  },
  {
   "cell_type": "code",
   "execution_count": 3,
   "metadata": {
    "ExecuteTime": {
     "end_time": "2020-09-27T08:29:25.533620Z",
     "start_time": "2020-09-27T08:29:07.313806Z"
    }
   },
   "outputs": [],
   "source": [
    "data_excel = pd.ExcelFile('G:/1-规划/崔开通崔可研规划/2020年任务清单/20200924/2020年任务清单（场景+MR）0917YC-打标0924.xlsx')"
   ]
  },
  {
   "cell_type": "code",
   "execution_count": 4,
   "metadata": {
    "ExecuteTime": {
     "end_time": "2020-09-27T08:29:27.234836Z",
     "start_time": "2020-09-27T08:29:25.535620Z"
    }
   },
   "outputs": [],
   "source": [
    "data = data_excel.parse(sheet_name=data_excel.sheet_names[0])"
   ]
  },
  {
   "cell_type": "code",
   "execution_count": 5,
   "metadata": {
    "ExecuteTime": {
     "end_time": "2020-09-27T08:29:27.545375Z",
     "start_time": "2020-09-27T08:29:27.236336Z"
    }
   },
   "outputs": [],
   "source": [
    "data['TDL规划站号（新）'] = data['TDL规划站号（新）'].fillna('无')"
   ]
  },
  {
   "cell_type": "code",
   "execution_count": 6,
   "metadata": {
    "ExecuteTime": {
     "end_time": "2020-09-27T08:29:27.871917Z",
     "start_time": "2020-09-27T08:29:27.547375Z"
    }
   },
   "outputs": [],
   "source": [
    "qingdan_yuan = data.loc[data['分类']=='2020年5月新任务清单']"
   ]
  },
  {
   "cell_type": "markdown",
   "metadata": {},
   "source": [
    "# -------全网进度--------\n",
    "## 优化进度"
   ]
  },
  {
   "cell_type": "code",
   "execution_count": 7,
   "metadata": {
    "ExecuteTime": {
     "end_time": "2020-09-27T08:29:28.943053Z",
     "start_time": "2020-09-27T08:29:28.635013Z"
    }
   },
   "outputs": [],
   "source": [
    "qingdan = qingdan_yuan.copy()"
   ]
  },
  {
   "cell_type": "code",
   "execution_count": 8,
   "metadata": {
    "ExecuteTime": {
     "end_time": "2020-09-27T08:29:29.651143Z",
     "start_time": "2020-09-27T08:29:29.334102Z"
    }
   },
   "outputs": [],
   "source": [
    "# 优化总点youhua_z，优化完成youhua_w，\n",
    "youhua_z = qingdan.loc[(qingdan['优化']=='优化')]['唯一编号'].count()\n",
    "youhua_p = qingdan.loc[(qingdan['优化']=='优化') & (qingdan['优化已派发']==1)]['唯一编号'].count()\n",
    "youhua_w = qingdan.loc[(qingdan['优化']=='优化') & (qingdan['优化已派发']==1)& (qingdan['优化完成']==1)]['唯一编号'].count()"
   ]
  },
  {
   "cell_type": "code",
   "execution_count": 9,
   "metadata": {
    "ExecuteTime": {
     "end_time": "2020-09-27T08:29:30.343730Z",
     "start_time": "2020-09-27T08:29:30.027690Z"
    }
   },
   "outputs": [],
   "source": [
    "#youhua已经df，优化完成df\n",
    "youhua_data_z = qingdan.loc[(qingdan['优化']=='优化') ]\n",
    "youhua_data_p = qingdan.loc[(qingdan['优化']=='优化') & (qingdan['优化已派发']==1)]\n",
    "youhua_data_w = qingdan.loc[(qingdan['优化']=='优化') & (qingdan['优化已派发']==1) & (qingdan['优化完成']==1)]"
   ]
  },
  {
   "cell_type": "code",
   "execution_count": 10,
   "metadata": {
    "ExecuteTime": {
     "end_time": "2020-09-27T08:29:31.094826Z",
     "start_time": "2020-09-27T08:29:30.785787Z"
    }
   },
   "outputs": [],
   "source": [
    "#地市的完成数量y_w，地市的派发总数量y_z\n",
    "y_z = youhua_data_z.groupby(by = '地市').agg({'唯一编号':'count'})\n",
    "y_w = youhua_data_w.groupby(by = '地市').agg({'唯一编号':'count'})\n",
    "y_p = youhua_data_p.groupby(by = '地市').agg({'唯一编号':'count'})"
   ]
  },
  {
   "cell_type": "code",
   "execution_count": 11,
   "metadata": {
    "ExecuteTime": {
     "end_time": "2020-09-27T08:29:31.851422Z",
     "start_time": "2020-09-27T08:29:31.529881Z"
    }
   },
   "outputs": [],
   "source": [
    "# 统计每个地市的派发和完成\n",
    "youhuajindu=pd.concat([y_z,y_p,y_w],axis = 1)\n",
    "youhuajindu.columns = ['总量','派发','完成量']\n",
    "youhuajindu['完成派发进度'] = youhuajindu['完成量']/youhuajindu['派发']\n",
    "youhuajindu['整体进度'] = youhuajindu['完成量']/youhuajindu['总量']"
   ]
  },
  {
   "cell_type": "code",
   "execution_count": 12,
   "metadata": {
    "ExecuteTime": {
     "end_time": "2020-09-27T08:29:32.603517Z",
     "start_time": "2020-09-27T08:29:32.294978Z"
    }
   },
   "outputs": [],
   "source": [
    "#按照格式输出\n",
    "youhua_wanchengdugao=list(youhuajindu.sort_values(by=\"完成派发进度\",ascending= False).head(3).index)  #排序 升序True 降序False by列"
   ]
  },
  {
   "cell_type": "code",
   "execution_count": 13,
   "metadata": {
    "ExecuteTime": {
     "end_time": "2020-09-27T08:29:33.365614Z",
     "start_time": "2020-09-27T08:29:33.050574Z"
    }
   },
   "outputs": [
    {
     "data": {
      "text/plain": [
       "'MR竞对优化工单总计4313单。已派发1561已完成965解决率0.618193465727098荆州、随州、天门派发工单解决率相对较高'"
      ]
     },
     "execution_count": 13,
     "metadata": {},
     "output_type": "execute_result"
    }
   ],
   "source": [
    "'MR竞对优化工单总计'+str(youhua_z)+'单。已派发'+str(youhua_p)+'已完成'+str(youhua_w)+ '解决率'+str(youhua_w/youhua_p)+ \\\n",
    "str(youhua_wanchengdugao[0])+'、'+str(youhua_wanchengdugao[1])+'、'+str(youhua_wanchengdugao[2])+'派发工单解决率相对较高'"
   ]
  },
  {
   "cell_type": "code",
   "execution_count": 14,
   "metadata": {
    "ExecuteTime": {
     "end_time": "2020-09-27T08:29:34.142713Z",
     "start_time": "2020-09-27T08:29:33.822672Z"
    },
    "scrolled": false
   },
   "outputs": [
    {
     "data": {
      "text/html": [
       "<div>\n",
       "<style scoped>\n",
       "    .dataframe tbody tr th:only-of-type {\n",
       "        vertical-align: middle;\n",
       "    }\n",
       "\n",
       "    .dataframe tbody tr th {\n",
       "        vertical-align: top;\n",
       "    }\n",
       "\n",
       "    .dataframe thead th {\n",
       "        text-align: right;\n",
       "    }\n",
       "</style>\n",
       "<table border=\"1\" class=\"dataframe\">\n",
       "  <thead>\n",
       "    <tr style=\"text-align: right;\">\n",
       "      <th></th>\n",
       "      <th>总量</th>\n",
       "      <th>派发</th>\n",
       "      <th>完成量</th>\n",
       "      <th>完成派发进度</th>\n",
       "      <th>整体进度</th>\n",
       "    </tr>\n",
       "    <tr>\n",
       "      <th>地市</th>\n",
       "      <th></th>\n",
       "      <th></th>\n",
       "      <th></th>\n",
       "      <th></th>\n",
       "      <th></th>\n",
       "    </tr>\n",
       "  </thead>\n",
       "  <tbody>\n",
       "    <tr>\n",
       "      <th>荆州</th>\n",
       "      <td>197</td>\n",
       "      <td>133</td>\n",
       "      <td>104</td>\n",
       "      <td>0.781955</td>\n",
       "      <td>0.527919</td>\n",
       "    </tr>\n",
       "    <tr>\n",
       "      <th>随州</th>\n",
       "      <td>115</td>\n",
       "      <td>63</td>\n",
       "      <td>49</td>\n",
       "      <td>0.777778</td>\n",
       "      <td>0.426087</td>\n",
       "    </tr>\n",
       "    <tr>\n",
       "      <th>天门</th>\n",
       "      <td>42</td>\n",
       "      <td>42</td>\n",
       "      <td>32</td>\n",
       "      <td>0.761905</td>\n",
       "      <td>0.761905</td>\n",
       "    </tr>\n",
       "    <tr>\n",
       "      <th>襄阳</th>\n",
       "      <td>217</td>\n",
       "      <td>90</td>\n",
       "      <td>67</td>\n",
       "      <td>0.744444</td>\n",
       "      <td>0.308756</td>\n",
       "    </tr>\n",
       "    <tr>\n",
       "      <th>恩施</th>\n",
       "      <td>633</td>\n",
       "      <td>191</td>\n",
       "      <td>129</td>\n",
       "      <td>0.675393</td>\n",
       "      <td>0.203791</td>\n",
       "    </tr>\n",
       "    <tr>\n",
       "      <th>荆门</th>\n",
       "      <td>165</td>\n",
       "      <td>66</td>\n",
       "      <td>44</td>\n",
       "      <td>0.666667</td>\n",
       "      <td>0.266667</td>\n",
       "    </tr>\n",
       "    <tr>\n",
       "      <th>武汉</th>\n",
       "      <td>1077</td>\n",
       "      <td>331</td>\n",
       "      <td>218</td>\n",
       "      <td>0.658610</td>\n",
       "      <td>0.202414</td>\n",
       "    </tr>\n",
       "    <tr>\n",
       "      <th>潜江</th>\n",
       "      <td>34</td>\n",
       "      <td>28</td>\n",
       "      <td>18</td>\n",
       "      <td>0.642857</td>\n",
       "      <td>0.529412</td>\n",
       "    </tr>\n",
       "    <tr>\n",
       "      <th>孝感</th>\n",
       "      <td>302</td>\n",
       "      <td>114</td>\n",
       "      <td>70</td>\n",
       "      <td>0.614035</td>\n",
       "      <td>0.231788</td>\n",
       "    </tr>\n",
       "    <tr>\n",
       "      <th>江汉</th>\n",
       "      <td>61</td>\n",
       "      <td>41</td>\n",
       "      <td>25</td>\n",
       "      <td>0.609756</td>\n",
       "      <td>0.409836</td>\n",
       "    </tr>\n",
       "    <tr>\n",
       "      <th>十堰</th>\n",
       "      <td>46</td>\n",
       "      <td>42</td>\n",
       "      <td>25</td>\n",
       "      <td>0.595238</td>\n",
       "      <td>0.543478</td>\n",
       "    </tr>\n",
       "    <tr>\n",
       "      <th>黄冈</th>\n",
       "      <td>506</td>\n",
       "      <td>152</td>\n",
       "      <td>88</td>\n",
       "      <td>0.578947</td>\n",
       "      <td>0.173913</td>\n",
       "    </tr>\n",
       "    <tr>\n",
       "      <th>鄂州</th>\n",
       "      <td>51</td>\n",
       "      <td>35</td>\n",
       "      <td>17</td>\n",
       "      <td>0.485714</td>\n",
       "      <td>0.333333</td>\n",
       "    </tr>\n",
       "    <tr>\n",
       "      <th>咸宁</th>\n",
       "      <td>496</td>\n",
       "      <td>127</td>\n",
       "      <td>48</td>\n",
       "      <td>0.377953</td>\n",
       "      <td>0.096774</td>\n",
       "    </tr>\n",
       "    <tr>\n",
       "      <th>宜昌</th>\n",
       "      <td>220</td>\n",
       "      <td>67</td>\n",
       "      <td>24</td>\n",
       "      <td>0.358209</td>\n",
       "      <td>0.109091</td>\n",
       "    </tr>\n",
       "    <tr>\n",
       "      <th>黄石</th>\n",
       "      <td>151</td>\n",
       "      <td>39</td>\n",
       "      <td>7</td>\n",
       "      <td>0.179487</td>\n",
       "      <td>0.046358</td>\n",
       "    </tr>\n",
       "  </tbody>\n",
       "</table>\n",
       "</div>"
      ],
      "text/plain": [
       "      总量   派发  完成量    完成派发进度      整体进度\n",
       "地市                                    \n",
       "荆州   197  133  104  0.781955  0.527919\n",
       "随州   115   63   49  0.777778  0.426087\n",
       "天门    42   42   32  0.761905  0.761905\n",
       "襄阳   217   90   67  0.744444  0.308756\n",
       "恩施   633  191  129  0.675393  0.203791\n",
       "荆门   165   66   44  0.666667  0.266667\n",
       "武汉  1077  331  218  0.658610  0.202414\n",
       "潜江    34   28   18  0.642857  0.529412\n",
       "孝感   302  114   70  0.614035  0.231788\n",
       "江汉    61   41   25  0.609756  0.409836\n",
       "十堰    46   42   25  0.595238  0.543478\n",
       "黄冈   506  152   88  0.578947  0.173913\n",
       "鄂州    51   35   17  0.485714  0.333333\n",
       "咸宁   496  127   48  0.377953  0.096774\n",
       "宜昌   220   67   24  0.358209  0.109091\n",
       "黄石   151   39    7  0.179487  0.046358"
      ]
     },
     "execution_count": 14,
     "metadata": {},
     "output_type": "execute_result"
    }
   ],
   "source": [
    "youhuajindu.sort_values(by=\"完成派发进度\",ascending= False)"
   ]
  },
  {
   "cell_type": "markdown",
   "metadata": {},
   "source": [
    "# 催开进度"
   ]
  },
  {
   "cell_type": "code",
   "execution_count": 15,
   "metadata": {
    "ExecuteTime": {
     "end_time": "2020-09-27T08:29:34.906810Z",
     "start_time": "2020-09-27T08:29:34.589770Z"
    }
   },
   "outputs": [],
   "source": [
    "qingdan = qingdan_yuan.copy()"
   ]
  },
  {
   "cell_type": "code",
   "execution_count": 16,
   "metadata": {
    "ExecuteTime": {
     "end_time": "2020-09-27T08:29:35.674407Z",
     "start_time": "2020-09-27T08:29:35.348866Z"
    }
   },
   "outputs": [],
   "source": [
    "# cuikai的数量统计\n",
    "cuikai_zdanzi = qingdan.loc[(qingdan['催开']=='催开') ]['唯一编号'].count()\n",
    "cuikai_z = qingdan.loc[(qingdan['催开']=='催开') ].drop_duplicates(subset='TDL规划站号（新）') ['唯一编号'].count()\n",
    "cuikai_w = qingdan.loc[(\n",
    "    qingdan['催开']=='催开') & (qingdan['催开完成']==1) ].drop_duplicates(subset='TDL规划站号（新）') ['唯一编号'].count()"
   ]
  },
  {
   "cell_type": "code",
   "execution_count": 17,
   "metadata": {
    "ExecuteTime": {
     "end_time": "2020-09-27T08:29:36.435004Z",
     "start_time": "2020-09-27T08:29:36.115463Z"
    }
   },
   "outputs": [],
   "source": [
    "#催开总量和完成的df\n",
    "cuikai_quchong = qingdan.loc[(qingdan['催开']=='催开') ].drop_duplicates(subset='TDL规划站号（新）') \n",
    "cuikai_quchong_wancheng = qingdan.loc[(\n",
    "    qingdan['催开']=='催开') & (qingdan['催开完成']==1) ].drop_duplicates(subset='TDL规划站号（新）') "
   ]
  },
  {
   "cell_type": "code",
   "execution_count": 18,
   "metadata": {
    "ExecuteTime": {
     "end_time": "2020-09-27T08:29:37.235106Z",
     "start_time": "2020-09-27T08:29:36.923566Z"
    }
   },
   "outputs": [],
   "source": [
    "#个地市的进度\n",
    "cuikai_zongliang = cuikai_quchong.groupby(by = '地市').agg({'唯一编号':'count'})\n",
    "cuikai_wanchengliang = cuikai_quchong_wancheng.groupby(by = '地市').agg({'唯一编号':'count'})\n",
    "cuikaijindu=pd.concat([cuikai_zongliang,cuikai_wanchengliang],axis = 1)\n",
    "cuikaijindu.columns = ['总量','完成量']\n",
    "cuikaijindu['进度'] = cuikaijindu['完成量']/cuikaijindu['总量']"
   ]
  },
  {
   "cell_type": "code",
   "execution_count": 19,
   "metadata": {
    "ExecuteTime": {
     "end_time": "2020-09-27T08:29:38.027206Z",
     "start_time": "2020-09-27T08:29:37.714166Z"
    }
   },
   "outputs": [
    {
     "data": {
      "text/plain": [
       "'催开工单共2827单，涉及逻辑站点1760个，已开通站点1047个(本月新增201个），催开完成率为59.48%。天门地市整体解决进度较慢，主要为5月前完成-农村未开通占比较高，需加快站点建设进度。已催开工单整体MR覆盖率改善2.60pp，对全网劣于竞对小区占比指标改善5.26pp。'"
      ]
     },
     "execution_count": 19,
     "metadata": {},
     "output_type": "execute_result"
    }
   ],
   "source": [
    "cuikai_wanchengdudi=list(cuikaijindu.sort_values(by=\"进度\",ascending= True).head(1).index)  #排序 升序True 降序False by列\n",
    "a=cuikai_wanchengdudi[0]\n",
    "jindudi=cuikai_quchong.loc[(cuikai_quchong['地市']==a) & (cuikai_quchong['催开完成']!=1)\n",
    "                          ].groupby(by='工期核实').agg({'唯一编号':'count'}).sort_values(by=\"唯一编号\",ascending= False).head(1).index\n",
    "'催开工单共'+str(cuikai_zdanzi)+'单，涉及逻辑站\\\n",
    "点'+str(cuikai_z)+'个，已开通站点'+str(cuikai_w)+'个(本月新增201个），催开完成率\\\n",
    "为'+str(cuikai_w/cuikai_z*100)[:5]+'%'+'。'+cuikai_wanchengdudi[0]+'地市整体解决进度较慢，主要为'+jindudi[0]+'未开通占比较\\\n",
    "高，需加快站点建设进度。'+'已催开工单整体MR覆盖率改善2.60pp，对全网劣于竞对小区占比指标改善5.26pp。'"
   ]
  },
  {
   "cell_type": "code",
   "execution_count": 20,
   "metadata": {
    "ExecuteTime": {
     "end_time": "2020-09-27T08:29:38.837809Z",
     "start_time": "2020-09-27T08:29:38.522769Z"
    }
   },
   "outputs": [
    {
     "data": {
      "text/html": [
       "<div>\n",
       "<style scoped>\n",
       "    .dataframe tbody tr th:only-of-type {\n",
       "        vertical-align: middle;\n",
       "    }\n",
       "\n",
       "    .dataframe tbody tr th {\n",
       "        vertical-align: top;\n",
       "    }\n",
       "\n",
       "    .dataframe thead th {\n",
       "        text-align: right;\n",
       "    }\n",
       "</style>\n",
       "<table border=\"1\" class=\"dataframe\">\n",
       "  <thead>\n",
       "    <tr style=\"text-align: right;\">\n",
       "      <th></th>\n",
       "      <th>总量</th>\n",
       "      <th>完成量</th>\n",
       "      <th>进度</th>\n",
       "    </tr>\n",
       "    <tr>\n",
       "      <th>地市</th>\n",
       "      <th></th>\n",
       "      <th></th>\n",
       "      <th></th>\n",
       "    </tr>\n",
       "  </thead>\n",
       "  <tbody>\n",
       "    <tr>\n",
       "      <th>天门</th>\n",
       "      <td>27</td>\n",
       "      <td>6</td>\n",
       "      <td>0.222222</td>\n",
       "    </tr>\n",
       "    <tr>\n",
       "      <th>咸宁</th>\n",
       "      <td>169</td>\n",
       "      <td>51</td>\n",
       "      <td>0.301775</td>\n",
       "    </tr>\n",
       "    <tr>\n",
       "      <th>恩施</th>\n",
       "      <td>129</td>\n",
       "      <td>41</td>\n",
       "      <td>0.317829</td>\n",
       "    </tr>\n",
       "    <tr>\n",
       "      <th>潜江</th>\n",
       "      <td>8</td>\n",
       "      <td>3</td>\n",
       "      <td>0.375000</td>\n",
       "    </tr>\n",
       "    <tr>\n",
       "      <th>荆门</th>\n",
       "      <td>55</td>\n",
       "      <td>22</td>\n",
       "      <td>0.400000</td>\n",
       "    </tr>\n",
       "    <tr>\n",
       "      <th>鄂州</th>\n",
       "      <td>18</td>\n",
       "      <td>8</td>\n",
       "      <td>0.444444</td>\n",
       "    </tr>\n",
       "    <tr>\n",
       "      <th>黄石</th>\n",
       "      <td>97</td>\n",
       "      <td>45</td>\n",
       "      <td>0.463918</td>\n",
       "    </tr>\n",
       "    <tr>\n",
       "      <th>荆州</th>\n",
       "      <td>102</td>\n",
       "      <td>49</td>\n",
       "      <td>0.480392</td>\n",
       "    </tr>\n",
       "    <tr>\n",
       "      <th>黄冈</th>\n",
       "      <td>135</td>\n",
       "      <td>75</td>\n",
       "      <td>0.555556</td>\n",
       "    </tr>\n",
       "    <tr>\n",
       "      <th>孝感</th>\n",
       "      <td>108</td>\n",
       "      <td>68</td>\n",
       "      <td>0.629630</td>\n",
       "    </tr>\n",
       "    <tr>\n",
       "      <th>十堰</th>\n",
       "      <td>96</td>\n",
       "      <td>62</td>\n",
       "      <td>0.645833</td>\n",
       "    </tr>\n",
       "    <tr>\n",
       "      <th>襄阳</th>\n",
       "      <td>92</td>\n",
       "      <td>64</td>\n",
       "      <td>0.695652</td>\n",
       "    </tr>\n",
       "    <tr>\n",
       "      <th>武汉</th>\n",
       "      <td>545</td>\n",
       "      <td>397</td>\n",
       "      <td>0.728440</td>\n",
       "    </tr>\n",
       "    <tr>\n",
       "      <th>江汉</th>\n",
       "      <td>27</td>\n",
       "      <td>22</td>\n",
       "      <td>0.814815</td>\n",
       "    </tr>\n",
       "    <tr>\n",
       "      <th>随州</th>\n",
       "      <td>53</td>\n",
       "      <td>45</td>\n",
       "      <td>0.849057</td>\n",
       "    </tr>\n",
       "    <tr>\n",
       "      <th>宜昌</th>\n",
       "      <td>99</td>\n",
       "      <td>89</td>\n",
       "      <td>0.898990</td>\n",
       "    </tr>\n",
       "  </tbody>\n",
       "</table>\n",
       "</div>"
      ],
      "text/plain": [
       "     总量  完成量        进度\n",
       "地市                    \n",
       "天门   27    6  0.222222\n",
       "咸宁  169   51  0.301775\n",
       "恩施  129   41  0.317829\n",
       "潜江    8    3  0.375000\n",
       "荆门   55   22  0.400000\n",
       "鄂州   18    8  0.444444\n",
       "黄石   97   45  0.463918\n",
       "荆州  102   49  0.480392\n",
       "黄冈  135   75  0.555556\n",
       "孝感  108   68  0.629630\n",
       "十堰   96   62  0.645833\n",
       "襄阳   92   64  0.695652\n",
       "武汉  545  397  0.728440\n",
       "江汉   27   22  0.814815\n",
       "随州   53   45  0.849057\n",
       "宜昌   99   89  0.898990"
      ]
     },
     "execution_count": 20,
     "metadata": {},
     "output_type": "execute_result"
    }
   ],
   "source": [
    "cuikaijindu.sort_values(by=\"进度\",ascending= True)"
   ]
  },
  {
   "cell_type": "code",
   "execution_count": 21,
   "metadata": {
    "ExecuteTime": {
     "end_time": "2020-09-27T08:29:39.744424Z",
     "start_time": "2020-09-27T08:29:39.336372Z"
    }
   },
   "outputs": [],
   "source": [
    "cuikai_quchong.to_clipboard()"
   ]
  },
  {
   "cell_type": "markdown",
   "metadata": {},
   "source": [
    "# 可研进度"
   ]
  },
  {
   "cell_type": "code",
   "execution_count": 22,
   "metadata": {
    "ExecuteTime": {
     "end_time": "2020-09-27T08:29:40.574030Z",
     "start_time": "2020-09-27T08:29:40.262490Z"
    }
   },
   "outputs": [],
   "source": [
    "qingdan = qingdan_yuan.copy()"
   ]
  },
  {
   "cell_type": "code",
   "execution_count": 23,
   "metadata": {
    "ExecuteTime": {
     "end_time": "2020-09-27T08:29:41.387133Z",
     "start_time": "2020-09-27T08:29:41.062092Z"
    }
   },
   "outputs": [],
   "source": [
    "keyan_zdanzi = qingdan.loc[(qingdan['催可研']=='可研') ]['唯一编号'].count()\n",
    "keyan_z = qingdan.loc[(qingdan['催可研']=='可研') ].drop_duplicates(subset='TDL规划站号（新）') ['唯一编号'].count()\n",
    "keyan_w = qingdan.loc[(\n",
    "    qingdan['催可研']=='可研') & (qingdan['可研完成']==1) ].drop_duplicates(subset='TDL规划站号（新）') ['唯一编号'].count()"
   ]
  },
  {
   "cell_type": "code",
   "execution_count": 24,
   "metadata": {
    "ExecuteTime": {
     "end_time": "2020-09-27T08:29:42.181234Z",
     "start_time": "2020-09-27T08:29:41.872694Z"
    }
   },
   "outputs": [
    {
     "data": {
      "text/plain": [
       "'催可研工单共2081单，涉及1287个逻辑站点工期催研，目前累计785个站点已纳入工期，入研进度为60.99%。'"
      ]
     },
     "execution_count": 24,
     "metadata": {},
     "output_type": "execute_result"
    }
   ],
   "source": [
    "'催可研工单共'+str(keyan_zdanzi)+'单，涉及'+str(keyan_z)+'个逻辑站点工期催研，目前累\\\n",
    "计'+str(keyan_w)+'个站点已纳入工期，入研进度为'+str(keyan_w/keyan_z*100)[:5]+'%。'"
   ]
  },
  {
   "cell_type": "code",
   "execution_count": 25,
   "metadata": {
    "ExecuteTime": {
     "end_time": "2020-09-27T08:29:42.980835Z",
     "start_time": "2020-09-27T08:29:42.662795Z"
    }
   },
   "outputs": [],
   "source": [
    "#可研总量和完成的df\n",
    "keyan_quchong = qingdan.loc[(qingdan['催可研']=='可研') ].drop_duplicates(subset='TDL规划站号（新）') \n",
    "keyan_quchong_wancheng = qingdan.loc[(\n",
    "    qingdan['催可研']=='可研') & (qingdan['可研完成']==1) ].drop_duplicates(subset='TDL规划站号（新）') "
   ]
  },
  {
   "cell_type": "code",
   "execution_count": 26,
   "metadata": {
    "ExecuteTime": {
     "end_time": "2020-09-27T08:29:43.819942Z",
     "start_time": "2020-09-27T08:29:43.506902Z"
    }
   },
   "outputs": [],
   "source": [
    "#个地市的进度\n",
    "keyan_zongliang = keyan_quchong.groupby(by = '地市').agg({'唯一编号':'count'})\n",
    "keyan_wanchengliang = keyan_quchong_wancheng.groupby(by = '地市').agg({'唯一编号':'count'})\n",
    "keyanjindu=pd.concat([keyan_zongliang,keyan_wanchengliang],axis = 1)\n",
    "keyanjindu.columns = ['总量','完成量']\n",
    "keyanjindu['进度'] = keyanjindu['完成量']/keyanjindu['总量']"
   ]
  },
  {
   "cell_type": "code",
   "execution_count": 27,
   "metadata": {
    "ExecuteTime": {
     "end_time": "2020-09-27T08:29:44.681051Z",
     "start_time": "2020-09-27T08:29:44.368511Z"
    }
   },
   "outputs": [
    {
     "data": {
      "text/html": [
       "<div>\n",
       "<style scoped>\n",
       "    .dataframe tbody tr th:only-of-type {\n",
       "        vertical-align: middle;\n",
       "    }\n",
       "\n",
       "    .dataframe tbody tr th {\n",
       "        vertical-align: top;\n",
       "    }\n",
       "\n",
       "    .dataframe thead th {\n",
       "        text-align: right;\n",
       "    }\n",
       "</style>\n",
       "<table border=\"1\" class=\"dataframe\">\n",
       "  <thead>\n",
       "    <tr style=\"text-align: right;\">\n",
       "      <th></th>\n",
       "      <th>总量</th>\n",
       "      <th>完成量</th>\n",
       "      <th>进度</th>\n",
       "    </tr>\n",
       "    <tr>\n",
       "      <th>地市</th>\n",
       "      <th></th>\n",
       "      <th></th>\n",
       "      <th></th>\n",
       "    </tr>\n",
       "  </thead>\n",
       "  <tbody>\n",
       "    <tr>\n",
       "      <th>十堰</th>\n",
       "      <td>104</td>\n",
       "      <td>47</td>\n",
       "      <td>0.451923</td>\n",
       "    </tr>\n",
       "    <tr>\n",
       "      <th>咸宁</th>\n",
       "      <td>199</td>\n",
       "      <td>126</td>\n",
       "      <td>0.633166</td>\n",
       "    </tr>\n",
       "    <tr>\n",
       "      <th>天门</th>\n",
       "      <td>27</td>\n",
       "      <td>22</td>\n",
       "      <td>0.814815</td>\n",
       "    </tr>\n",
       "    <tr>\n",
       "      <th>孝感</th>\n",
       "      <td>89</td>\n",
       "      <td>55</td>\n",
       "      <td>0.617978</td>\n",
       "    </tr>\n",
       "    <tr>\n",
       "      <th>宜昌</th>\n",
       "      <td>80</td>\n",
       "      <td>14</td>\n",
       "      <td>0.175000</td>\n",
       "    </tr>\n",
       "    <tr>\n",
       "      <th>恩施</th>\n",
       "      <td>102</td>\n",
       "      <td>79</td>\n",
       "      <td>0.774510</td>\n",
       "    </tr>\n",
       "    <tr>\n",
       "      <th>武汉</th>\n",
       "      <td>111</td>\n",
       "      <td>101</td>\n",
       "      <td>0.909910</td>\n",
       "    </tr>\n",
       "    <tr>\n",
       "      <th>江汉</th>\n",
       "      <td>18</td>\n",
       "      <td>15</td>\n",
       "      <td>0.833333</td>\n",
       "    </tr>\n",
       "    <tr>\n",
       "      <th>潜江</th>\n",
       "      <td>6</td>\n",
       "      <td>3</td>\n",
       "      <td>0.500000</td>\n",
       "    </tr>\n",
       "    <tr>\n",
       "      <th>荆州</th>\n",
       "      <td>95</td>\n",
       "      <td>64</td>\n",
       "      <td>0.673684</td>\n",
       "    </tr>\n",
       "    <tr>\n",
       "      <th>荆门</th>\n",
       "      <td>60</td>\n",
       "      <td>40</td>\n",
       "      <td>0.666667</td>\n",
       "    </tr>\n",
       "    <tr>\n",
       "      <th>襄阳</th>\n",
       "      <td>61</td>\n",
       "      <td>43</td>\n",
       "      <td>0.704918</td>\n",
       "    </tr>\n",
       "    <tr>\n",
       "      <th>鄂州</th>\n",
       "      <td>25</td>\n",
       "      <td>12</td>\n",
       "      <td>0.480000</td>\n",
       "    </tr>\n",
       "    <tr>\n",
       "      <th>随州</th>\n",
       "      <td>34</td>\n",
       "      <td>28</td>\n",
       "      <td>0.823529</td>\n",
       "    </tr>\n",
       "    <tr>\n",
       "      <th>黄冈</th>\n",
       "      <td>181</td>\n",
       "      <td>64</td>\n",
       "      <td>0.353591</td>\n",
       "    </tr>\n",
       "    <tr>\n",
       "      <th>黄石</th>\n",
       "      <td>95</td>\n",
       "      <td>72</td>\n",
       "      <td>0.757895</td>\n",
       "    </tr>\n",
       "  </tbody>\n",
       "</table>\n",
       "</div>"
      ],
      "text/plain": [
       "     总量  完成量        进度\n",
       "地市                    \n",
       "十堰  104   47  0.451923\n",
       "咸宁  199  126  0.633166\n",
       "天门   27   22  0.814815\n",
       "孝感   89   55  0.617978\n",
       "宜昌   80   14  0.175000\n",
       "恩施  102   79  0.774510\n",
       "武汉  111  101  0.909910\n",
       "江汉   18   15  0.833333\n",
       "潜江    6    3  0.500000\n",
       "荆州   95   64  0.673684\n",
       "荆门   60   40  0.666667\n",
       "襄阳   61   43  0.704918\n",
       "鄂州   25   12  0.480000\n",
       "随州   34   28  0.823529\n",
       "黄冈  181   64  0.353591\n",
       "黄石   95   72  0.757895"
      ]
     },
     "execution_count": 27,
     "metadata": {},
     "output_type": "execute_result"
    }
   ],
   "source": [
    "keyanjindu"
   ]
  },
  {
   "cell_type": "markdown",
   "metadata": {},
   "source": [
    "# 规划进度"
   ]
  },
  {
   "cell_type": "code",
   "execution_count": 28,
   "metadata": {
    "ExecuteTime": {
     "end_time": "2020-09-27T08:29:45.529159Z",
     "start_time": "2020-09-27T08:29:45.213119Z"
    }
   },
   "outputs": [],
   "source": [
    "qingdan = qingdan_yuan.copy()"
   ]
  },
  {
   "cell_type": "code",
   "execution_count": 29,
   "metadata": {
    "ExecuteTime": {
     "end_time": "2020-09-27T08:29:46.377266Z",
     "start_time": "2020-09-27T08:29:46.058226Z"
    }
   },
   "outputs": [
    {
     "data": {
      "text/plain": [
       "'需规划解决工单共6492单，目前累计完成2660个问题工单规划衔接，规划完成比例40.97%。'"
      ]
     },
     "execution_count": 29,
     "metadata": {},
     "output_type": "execute_result"
    }
   ],
   "source": [
    "guihua_zdanzi = qingdan.loc[(qingdan['规划']=='规划') ]['唯一编号'].count()\n",
    "guihua_w = qingdan.loc[(qingdan['规划']=='规划') & (qingdan['规划完成']==1) ]['唯一编号'].count()\n",
    "'需规划解决工单共'+str(guihua_zdanzi)+'单，目前累计完成'+str(guihua_w)+'个问题工单规划衔接，规\\\n",
    "划完成比例'+str(guihua_w/guihua_zdanzi*100)[:5]+'%。'"
   ]
  },
  {
   "cell_type": "code",
   "execution_count": 30,
   "metadata": {
    "ExecuteTime": {
     "end_time": "2020-09-27T08:29:47.220874Z",
     "start_time": "2020-09-27T08:29:46.906334Z"
    }
   },
   "outputs": [],
   "source": [
    "#规划总量和完成的df\n",
    "guihua_quchong = qingdan.loc[(qingdan['规划']=='规划') ]\n",
    "guihua_quchong_wancheng = qingdan.loc[(qingdan['规划']=='规划') & (qingdan['规划完成']==1) ]"
   ]
  },
  {
   "cell_type": "code",
   "execution_count": 31,
   "metadata": {
    "ExecuteTime": {
     "end_time": "2020-09-27T08:29:48.099485Z",
     "start_time": "2020-09-27T08:29:47.790446Z"
    }
   },
   "outputs": [],
   "source": [
    "#个地市的进度\n",
    "guihua_zongliang = guihua_quchong.groupby(by = '地市').agg({'唯一编号':'count'})\n",
    "guihua_wanchengliang = guihua_quchong_wancheng.groupby(by = '地市').agg({'唯一编号':'count'})\n",
    "guihuajindu=pd.concat([guihua_zongliang,guihua_wanchengliang],axis = 1)\n",
    "guihuajindu.columns = ['总量','完成量']\n",
    "guihuajindu['进度'] = guihuajindu['完成量']/guihuajindu['总量']"
   ]
  },
  {
   "cell_type": "markdown",
   "metadata": {},
   "source": [
    "# ---------周进度----------"
   ]
  },
  {
   "cell_type": "code",
   "execution_count": 32,
   "metadata": {
    "ExecuteTime": {
     "end_time": "2020-09-27T08:29:48.990598Z",
     "start_time": "2020-09-27T08:29:48.668557Z"
    }
   },
   "outputs": [],
   "source": [
    "line = '''\n",
    "1.针对2020年的MR竞对覆盖提升清单，总任务量共计12009个。\n",
    " 规（小区）/优（小区）/研（站点）/建（站点）分别为6492/ 4313/ 1287/1760,\n",
    " 本周新增分别为0/3/0/146，累计已完成2604（40.11%）/ 957（22.19%）/ 784（60.92%）/ 1027（58.35%）。\n",
    " '''"
   ]
  },
  {
   "cell_type": "code",
   "execution_count": 33,
   "metadata": {
    "ExecuteTime": {
     "end_time": "2020-09-24T14:28:01.928554Z",
     "start_time": "2020-09-24T14:28:01.660020Z"
    }
   },
   "outputs": [],
   "source": [
    "keyanjindu.columns = ['总量',  '完成量', '可研进度']\n",
    "keyanjindu1=keyanjindu[['可研进度']]\n",
    "cuikaijindu.columns = ['总量',  '完成量', '催开进度']\n",
    "cuikaijindu1=cuikaijindu[['催开进度']]\n",
    "youhuajindu.columns = ['总量', '派发量', '完成量','完成派发进度', '优化进度']\n",
    "youhuajindu1=youhuajindu[['优化进度']]\n",
    "guihuajindu.columns = ['总量', '完成量', '规划进度']\n",
    "guihuajindu1=guihuajindu[['规划进度']]\n",
    "data_z = pd.concat([youhuajindu1,cuikaijindu1,keyanjindu1,guihuajindu1],axis=1)"
   ]
  },
  {
   "cell_type": "code",
   "execution_count": 34,
   "metadata": {
    "ExecuteTime": {
     "end_time": "2020-09-24T14:28:02.725655Z",
     "start_time": "2020-09-24T14:28:02.476624Z"
    }
   },
   "outputs": [],
   "source": [
    "pattern = re.compile(r'.*累计已完成(\\d*).*/ (\\d*).*/ (\\d*).*/ (\\d*).*')                    # 用于匹配至少一个数字\n",
    "m = pattern.search(line) \n",
    "g_s = m.group(1)\n",
    "y_s = m.group(2)\n",
    "k_s = m.group(3)\n",
    "j_s = m.group(4)\n",
    "gui = guihua_w-int(g_s)\n",
    "you = youhua_w-int(y_s)\n",
    "yan = keyan_w-int(k_s)\n",
    "jian = cuikai_w-int(j_s)"
   ]
  },
  {
   "cell_type": "code",
   "execution_count": 35,
   "metadata": {
    "ExecuteTime": {
     "end_time": "2020-09-24T14:28:03.506254Z",
     "start_time": "2020-09-24T14:28:03.258223Z"
    }
   },
   "outputs": [
    {
     "data": {
      "text/plain": [
       "(56, 8, 1, 20)"
      ]
     },
     "execution_count": 35,
     "metadata": {},
     "output_type": "execute_result"
    }
   ],
   "source": [
    "gui,you,yan,jian"
   ]
  },
  {
   "cell_type": "code",
   "execution_count": 36,
   "metadata": {
    "ExecuteTime": {
     "end_time": "2020-09-24T14:28:04.364863Z",
     "start_time": "2020-09-24T14:28:04.106831Z"
    },
    "scrolled": true
   },
   "outputs": [
    {
     "name": "stdout",
     "output_type": "stream",
     "text": [
      "1.针对2020年的MR竞对覆盖提升清单，总任务量共计12009个。\n",
      " 规（小区）/优（小区）/研（站点）/建（站点）分别为6492/ 4313/ 1287/1760,\n",
      " 本周新增分别为56/8/1/20，累计已完成2660（40.97%）/ 965（22.37%）/ 785（60.99%）/ 1047（59.49%）。\n"
     ]
    }
   ],
   "source": [
    "print('1.针对2020年的MR竞对覆盖提升清单，总任务量共计12009个。\\n \\\n",
    "规（小区）/优（小区）/研（站点）/建（站点）分别为{g}/ {y}/ {k}/{j},\\n \\\n",
    "本周新增分别为{gui}/{you}/{yan}/{jian}，累计已完成{g_w}（{gui_b}%）/ {y_w}（{you_b}%）/ {ky_w}（{yan_b}%）/ {c_w}（{jian_b}%）。'.format(\n",
    "    g_w=str(guihua_w),ky_w=str(keyan_w),c_w =str(cuikai_w),y_w = str(youhua_w) ,g=str(guihua_zdanzi),\n",
    "    y=str(youhua_z),k=str(keyan_z),j=str(cuikai_z),gui=gui  ,you= you ,yan= yan ,jian = jian ,\n",
    "    gui_b=round(guihua_w/guihua_zdanzi*100,2),\n",
    "    you_b=round(youhua_w/youhua_z*100,2),\n",
    "    yan_b=round(keyan_w/keyan_z*100,2),\n",
    "    jian_b=round(cuikai_w/cuikai_z*100,2)\n",
    "))"
   ]
  },
  {
   "cell_type": "markdown",
   "metadata": {},
   "source": [
    "# ------------武汉竞对及MR分析----------------\n",
    "### 优化"
   ]
  },
  {
   "cell_type": "code",
   "execution_count": 33,
   "metadata": {
    "ExecuteTime": {
     "end_time": "2020-09-27T08:36:54.568640Z",
     "start_time": "2020-09-27T08:36:54.218595Z"
    }
   },
   "outputs": [],
   "source": [
    "qingdan_y = qingdan_yuan.copy()\n",
    "qingdan_y = qingdan_y.loc[qingdan_y['地市']=='武汉']\n",
    "qingdan = qingdan_y.loc[qingdan_y['地市']=='武汉']"
   ]
  },
  {
   "cell_type": "code",
   "execution_count": 34,
   "metadata": {
    "ExecuteTime": {
     "end_time": "2020-09-27T08:36:55.553265Z",
     "start_time": "2020-09-27T08:36:55.211722Z"
    }
   },
   "outputs": [
    {
     "data": {
      "text/plain": [
       "Index([       '唯一编号', '问题点或问题小区cgi',       '对应cgi',         '小区名',\n",
       "                7734,     '所属网洞ID_',     '问题点中心经度',     '问题点中心纬度',\n",
       "             '是否计划内',          '分类',          '地市',          '区县',\n",
       "              '区县有效',          '厂家',        '联通黑点',        '电信黑点',\n",
       "              '是否黑点',          '场景', '9月增补场景-核心城区',   '9月增补场景-农村',\n",
       "       '9月增补场景-交通枢纽',        '覆盖类型',       '小区名.1',          '总点',\n",
       "                '弱点',         '覆盖率',       '联通覆盖率',       '改善后总点',\n",
       "             '改善后弱点',      '改善后覆盖率',       '电信覆盖率',         'lon',\n",
       "               'lat',        '天线挂高',         '方位角',      '覆盖类型.1',\n",
       "              '工作频段',    '设备类型(大类)',        '区域类型',          '优化',\n",
       "                '规划',         '催可研',          '催开',       '方案-最新',\n",
       "        'TDL规划站号（新）',        '规划站名',          '站型',        '工期核实',\n",
       "              '优化完成',        '规划完成',        '可研完成',        '催开完成',\n",
       "             '优化已派发',      '优化派发时间',       '派发处方案',        '优化有效',\n",
       "            '优化派发批次',          '备注',      '优化3500',    '7734不能派发',\n",
       "         '平台已经有不能派发',    '最终是否能够派发',      '是否有效数据',         '备注2',\n",
       "        '带共址的建设规划站号',      '带共址的工期',          '流量',          '投诉',\n",
       "              '得分K1',        '得分K2',        '得分K3',         '总得分',\n",
       "       '是否与四轮十维清单重合',       '重合已规划',   '对应的四轮十维编号',    '四轮十维最新方案',\n",
       "             '小区CGI',        '本次派发'],\n",
       "      dtype='object')"
      ]
     },
     "execution_count": 34,
     "metadata": {},
     "output_type": "execute_result"
    }
   ],
   "source": [
    "qingdan.columns"
   ]
  },
  {
   "cell_type": "code",
   "execution_count": 35,
   "metadata": {
    "ExecuteTime": {
     "end_time": "2020-09-27T08:36:56.490884Z",
     "start_time": "2020-09-27T08:36:56.174844Z"
    }
   },
   "outputs": [],
   "source": [
    "youhua_z = qingdan.loc[(qingdan['优化']=='优化')]['唯一编号'].count()\n",
    "youhua_p = qingdan.loc[(qingdan['优化']=='优化') & (qingdan['优化已派发']==1)]['唯一编号'].count()\n",
    "youhua_w = qingdan.loc[(qingdan['优化']=='优化') & (qingdan['优化已派发']==1)& (qingdan['优化完成']==1)]['唯一编号'].count()"
   ]
  },
  {
   "cell_type": "code",
   "execution_count": 36,
   "metadata": {
    "ExecuteTime": {
     "end_time": "2020-09-27T08:36:57.394499Z",
     "start_time": "2020-09-27T08:36:57.085960Z"
    }
   },
   "outputs": [
    {
     "data": {
      "text/plain": [
       "218"
      ]
     },
     "execution_count": 36,
     "metadata": {},
     "output_type": "execute_result"
    }
   ],
   "source": [
    "youhua_w"
   ]
  },
  {
   "cell_type": "code",
   "execution_count": 37,
   "metadata": {
    "ExecuteTime": {
     "end_time": "2020-09-27T08:36:58.313615Z",
     "start_time": "2020-09-27T08:36:57.998575Z"
    }
   },
   "outputs": [],
   "source": [
    "youhua_data_z = qingdan.loc[(qingdan['优化']=='优化') ]\n",
    "youhua_data_p = qingdan.loc[(qingdan['优化']=='优化') & (qingdan['优化已派发']==1)]\n",
    "youhua_data_w = qingdan.loc[(qingdan['优化']=='优化') & (qingdan['优化已派发']==1) & (qingdan['优化完成']==1)]"
   ]
  },
  {
   "cell_type": "code",
   "execution_count": 38,
   "metadata": {
    "ExecuteTime": {
     "end_time": "2020-09-27T08:36:59.218730Z",
     "start_time": "2020-09-27T08:36:58.908691Z"
    }
   },
   "outputs": [
    {
     "data": {
      "text/plain": [
       "(331, 78)"
      ]
     },
     "execution_count": 38,
     "metadata": {},
     "output_type": "execute_result"
    }
   ],
   "source": [
    "youhua_data_p.shape"
   ]
  },
  {
   "cell_type": "code",
   "execution_count": 39,
   "metadata": {
    "ExecuteTime": {
     "end_time": "2020-09-27T08:37:00.142348Z",
     "start_time": "2020-09-27T08:36:59.825807Z"
    }
   },
   "outputs": [],
   "source": [
    "y_w = youhua_data_w.groupby(by = '区县').agg({'唯一编号':'count'})\n",
    "y_p = youhua_data_p.groupby(by = '区县').agg({'唯一编号':'count'})\n",
    "y_z = youhua_data_z.groupby(by = '区县').agg({'唯一编号':'count'})\n",
    "youhuajindu=pd.concat([y_z,y_p,y_w],axis = 1)"
   ]
  },
  {
   "cell_type": "code",
   "execution_count": 40,
   "metadata": {
    "ExecuteTime": {
     "end_time": "2020-09-27T08:37:01.069465Z",
     "start_time": "2020-09-27T08:37:00.740424Z"
    }
   },
   "outputs": [],
   "source": [
    "youhuajindu.columns = ['总量','派发量','完成量']\n",
    "youhuajindu['派发完成进度'] = youhuajindu['完成量']/youhuajindu['派发量']\n",
    "youhuajindu['进度'] = youhuajindu['完成量']/youhuajindu['总量']"
   ]
  },
  {
   "cell_type": "code",
   "execution_count": 41,
   "metadata": {
    "ExecuteTime": {
     "end_time": "2020-09-27T08:37:01.966079Z",
     "start_time": "2020-09-27T08:37:01.656040Z"
    }
   },
   "outputs": [
    {
     "data": {
      "text/html": [
       "<div>\n",
       "<style scoped>\n",
       "    .dataframe tbody tr th:only-of-type {\n",
       "        vertical-align: middle;\n",
       "    }\n",
       "\n",
       "    .dataframe tbody tr th {\n",
       "        vertical-align: top;\n",
       "    }\n",
       "\n",
       "    .dataframe thead th {\n",
       "        text-align: right;\n",
       "    }\n",
       "</style>\n",
       "<table border=\"1\" class=\"dataframe\">\n",
       "  <thead>\n",
       "    <tr style=\"text-align: right;\">\n",
       "      <th></th>\n",
       "      <th>总量</th>\n",
       "      <th>派发量</th>\n",
       "      <th>完成量</th>\n",
       "      <th>派发完成进度</th>\n",
       "      <th>进度</th>\n",
       "    </tr>\n",
       "    <tr>\n",
       "      <th>区县</th>\n",
       "      <th></th>\n",
       "      <th></th>\n",
       "      <th></th>\n",
       "      <th></th>\n",
       "      <th></th>\n",
       "    </tr>\n",
       "  </thead>\n",
       "  <tbody>\n",
       "    <tr>\n",
       "      <th>东新</th>\n",
       "      <td>95</td>\n",
       "      <td>20</td>\n",
       "      <td>6</td>\n",
       "      <td>0.300000</td>\n",
       "      <td>0.063158</td>\n",
       "    </tr>\n",
       "    <tr>\n",
       "      <th>东西湖</th>\n",
       "      <td>48</td>\n",
       "      <td>30</td>\n",
       "      <td>25</td>\n",
       "      <td>0.833333</td>\n",
       "      <td>0.520833</td>\n",
       "    </tr>\n",
       "    <tr>\n",
       "      <th>新洲</th>\n",
       "      <td>154</td>\n",
       "      <td>17</td>\n",
       "      <td>14</td>\n",
       "      <td>0.823529</td>\n",
       "      <td>0.090909</td>\n",
       "    </tr>\n",
       "    <tr>\n",
       "      <th>武昌</th>\n",
       "      <td>35</td>\n",
       "      <td>13</td>\n",
       "      <td>8</td>\n",
       "      <td>0.615385</td>\n",
       "      <td>0.228571</td>\n",
       "    </tr>\n",
       "    <tr>\n",
       "      <th>汉阳</th>\n",
       "      <td>79</td>\n",
       "      <td>40</td>\n",
       "      <td>13</td>\n",
       "      <td>0.325000</td>\n",
       "      <td>0.164557</td>\n",
       "    </tr>\n",
       "    <tr>\n",
       "      <th>江夏</th>\n",
       "      <td>72</td>\n",
       "      <td>16</td>\n",
       "      <td>10</td>\n",
       "      <td>0.625000</td>\n",
       "      <td>0.138889</td>\n",
       "    </tr>\n",
       "    <tr>\n",
       "      <th>江岸</th>\n",
       "      <td>135</td>\n",
       "      <td>25</td>\n",
       "      <td>23</td>\n",
       "      <td>0.920000</td>\n",
       "      <td>0.170370</td>\n",
       "    </tr>\n",
       "    <tr>\n",
       "      <th>江汉</th>\n",
       "      <td>85</td>\n",
       "      <td>24</td>\n",
       "      <td>22</td>\n",
       "      <td>0.916667</td>\n",
       "      <td>0.258824</td>\n",
       "    </tr>\n",
       "    <tr>\n",
       "      <th>洪山</th>\n",
       "      <td>24</td>\n",
       "      <td>9</td>\n",
       "      <td>4</td>\n",
       "      <td>0.444444</td>\n",
       "      <td>0.166667</td>\n",
       "    </tr>\n",
       "    <tr>\n",
       "      <th>硚口</th>\n",
       "      <td>46</td>\n",
       "      <td>6</td>\n",
       "      <td>4</td>\n",
       "      <td>0.666667</td>\n",
       "      <td>0.086957</td>\n",
       "    </tr>\n",
       "    <tr>\n",
       "      <th>经开</th>\n",
       "      <td>72</td>\n",
       "      <td>29</td>\n",
       "      <td>21</td>\n",
       "      <td>0.724138</td>\n",
       "      <td>0.291667</td>\n",
       "    </tr>\n",
       "    <tr>\n",
       "      <th>蔡甸</th>\n",
       "      <td>47</td>\n",
       "      <td>30</td>\n",
       "      <td>18</td>\n",
       "      <td>0.600000</td>\n",
       "      <td>0.382979</td>\n",
       "    </tr>\n",
       "    <tr>\n",
       "      <th>青山</th>\n",
       "      <td>36</td>\n",
       "      <td>7</td>\n",
       "      <td>5</td>\n",
       "      <td>0.714286</td>\n",
       "      <td>0.138889</td>\n",
       "    </tr>\n",
       "    <tr>\n",
       "      <th>黄陂</th>\n",
       "      <td>149</td>\n",
       "      <td>65</td>\n",
       "      <td>45</td>\n",
       "      <td>0.692308</td>\n",
       "      <td>0.302013</td>\n",
       "    </tr>\n",
       "  </tbody>\n",
       "</table>\n",
       "</div>"
      ],
      "text/plain": [
       "      总量  派发量  完成量    派发完成进度        进度\n",
       "区县                                    \n",
       "东新    95   20    6  0.300000  0.063158\n",
       "东西湖   48   30   25  0.833333  0.520833\n",
       "新洲   154   17   14  0.823529  0.090909\n",
       "武昌    35   13    8  0.615385  0.228571\n",
       "汉阳    79   40   13  0.325000  0.164557\n",
       "江夏    72   16   10  0.625000  0.138889\n",
       "江岸   135   25   23  0.920000  0.170370\n",
       "江汉    85   24   22  0.916667  0.258824\n",
       "洪山    24    9    4  0.444444  0.166667\n",
       "硚口    46    6    4  0.666667  0.086957\n",
       "经开    72   29   21  0.724138  0.291667\n",
       "蔡甸    47   30   18  0.600000  0.382979\n",
       "青山    36    7    5  0.714286  0.138889\n",
       "黄陂   149   65   45  0.692308  0.302013"
      ]
     },
     "execution_count": 41,
     "metadata": {},
     "output_type": "execute_result"
    }
   ],
   "source": [
    "youhuajindu"
   ]
  },
  {
   "cell_type": "code",
   "execution_count": 42,
   "metadata": {
    "ExecuteTime": {
     "end_time": "2020-09-27T08:37:02.884196Z",
     "start_time": "2020-09-27T08:37:02.581157Z"
    }
   },
   "outputs": [],
   "source": [
    "youhua_wanchengdugao=list(youhuajindu.sort_values(by=\"派发完成进度\",ascending= False).head(3).index)  #排序 升序True 降序False by列"
   ]
  },
  {
   "cell_type": "code",
   "execution_count": 43,
   "metadata": {
    "ExecuteTime": {
     "end_time": "2020-09-27T08:37:03.767308Z",
     "start_time": "2020-09-27T08:37:03.463769Z"
    }
   },
   "outputs": [
    {
     "data": {
      "text/plain": [
       "'MR竞对优化工单1077单。已派发331已完成218完成率为65.86%江岸，江汉，东西湖派发工单解决率相对较高'"
      ]
     },
     "execution_count": 43,
     "metadata": {},
     "output_type": "execute_result"
    }
   ],
   "source": [
    "'MR竞对优化工单'+str(youhua_z)+'单。已派发'+str(youhua_p)+'已完成'+str(youhua_w)+'完成率为'+str(youhua_w/youhua_p*100)[:5]+'%'+str(\n",
    "    youhua_wanchengdugao[0])+'，'+str(youhua_wanchengdugao[1])+'，'+str(youhua_wanchengdugao[2])+'派发工单解决率相对较高'"
   ]
  },
  {
   "cell_type": "code",
   "execution_count": 44,
   "metadata": {
    "ExecuteTime": {
     "end_time": "2020-09-27T08:37:04.680424Z",
     "start_time": "2020-09-27T08:37:04.365884Z"
    }
   },
   "outputs": [],
   "source": [
    "youhuajindu.to_clipboard()"
   ]
  },
  {
   "cell_type": "code",
   "execution_count": null,
   "metadata": {},
   "outputs": [],
   "source": []
  },
  {
   "cell_type": "markdown",
   "metadata": {},
   "source": [
    "# 催开"
   ]
  },
  {
   "cell_type": "code",
   "execution_count": 45,
   "metadata": {
    "ExecuteTime": {
     "end_time": "2020-09-27T08:37:05.601041Z",
     "start_time": "2020-09-27T08:37:05.286501Z"
    }
   },
   "outputs": [],
   "source": [
    "qingdan_c = qingdan_yuan.copy()\n",
    "qingdan_c = qingdan_c.loc[qingdan_c['地市']=='武汉']\n",
    "qingdan = qingdan_c.copy()"
   ]
  },
  {
   "cell_type": "code",
   "execution_count": 46,
   "metadata": {
    "ExecuteTime": {
     "end_time": "2020-09-27T08:37:06.546161Z",
     "start_time": "2020-09-27T08:37:06.220119Z"
    }
   },
   "outputs": [],
   "source": [
    "cuikai_zdanzi = qingdan.loc[(qingdan['催开']=='催开') ]['唯一编号'].count()\n",
    "cuikai_z = qingdan.loc[(qingdan['催开']=='催开') ].drop_duplicates(subset='TDL规划站号（新）') ['唯一编号'].count()\n",
    "cuikai_w = qingdan.loc[(qingdan['催开']=='催开') & (qingdan['催开完成']==1) ].drop_duplicates(\n",
    "    subset='TDL规划站号（新）') ['唯一编号'].count()"
   ]
  },
  {
   "cell_type": "code",
   "execution_count": 47,
   "metadata": {
    "ExecuteTime": {
     "end_time": "2020-09-27T08:37:07.460277Z",
     "start_time": "2020-09-27T08:37:07.145237Z"
    }
   },
   "outputs": [],
   "source": [
    "cuikai_quchong = qingdan.loc[(qingdan['催开']=='催开') ].drop_duplicates(subset='TDL规划站号（新）') \n",
    "cuikai_quchong_wancheng = qingdan.loc[(qingdan['催开']=='催开') & (qingdan['催开完成']==1) ].drop_duplicates(\n",
    "    subset='TDL规划站号（新）') "
   ]
  },
  {
   "cell_type": "code",
   "execution_count": 48,
   "metadata": {
    "ExecuteTime": {
     "end_time": "2020-09-27T08:37:08.368892Z",
     "start_time": "2020-09-27T08:37:08.061853Z"
    }
   },
   "outputs": [],
   "source": [
    "cuikai_zongliang = cuikai_quchong.groupby(by = '区县').agg({'唯一编号':'count'})\n",
    "cuikai_wanchengliang = cuikai_quchong_wancheng.groupby(by = '区县').agg({'唯一编号':'count'})"
   ]
  },
  {
   "cell_type": "code",
   "execution_count": 49,
   "metadata": {
    "ExecuteTime": {
     "end_time": "2020-09-27T08:37:09.268506Z",
     "start_time": "2020-09-27T08:37:08.965468Z"
    }
   },
   "outputs": [],
   "source": [
    "cuikaijindu=pd.concat([cuikai_zongliang,cuikai_wanchengliang],axis = 1)\n",
    "cuikaijindu.columns = ['总量','完成量']\n",
    "cuikaijindu['进度'] = cuikaijindu['完成量']/cuikaijindu['总量']"
   ]
  },
  {
   "cell_type": "code",
   "execution_count": 50,
   "metadata": {
    "ExecuteTime": {
     "end_time": "2020-09-27T08:37:10.195124Z",
     "start_time": "2020-09-27T08:37:09.879584Z"
    }
   },
   "outputs": [],
   "source": [
    "cuikai_wanchengdudi=list(cuikaijindu.sort_values(by=\"进度\",ascending= True).head(1).index)  #排序 升序True 降序False by列\n",
    "\n",
    "a=cuikai_wanchengdudi[0]\n",
    "\n",
    "jindudi=cuikai_quchong.loc[(cuikai_quchong['区县']==a) & (cuikai_quchong['催开完成']!=1)].groupby(by='工期核实').agg(\n",
    "    {'唯一编号':'count'}).sort_values(by=\"唯一编号\",ascending= False).head(1).index"
   ]
  },
  {
   "cell_type": "code",
   "execution_count": 51,
   "metadata": {
    "ExecuteTime": {
     "end_time": "2020-09-27T08:37:11.112241Z",
     "start_time": "2020-09-27T08:37:10.807702Z"
    }
   },
   "outputs": [
    {
     "data": {
      "text/plain": [
       "'新洲'"
      ]
     },
     "execution_count": 51,
     "metadata": {},
     "output_type": "execute_result"
    }
   ],
   "source": [
    "a"
   ]
  },
  {
   "cell_type": "code",
   "execution_count": 52,
   "metadata": {
    "ExecuteTime": {
     "end_time": "2020-09-27T08:37:12.032357Z",
     "start_time": "2020-09-27T08:37:11.726319Z"
    }
   },
   "outputs": [
    {
     "data": {
      "text/plain": [
       "'催开工单共881单，涉及逻辑站点550个，已开通站点401个(本月新增201个），催开完成率为72.90%。新洲地市整体解决进度较慢，主要为5月前完成-2020年湖北无线网4G主设备扩容工程第一批未开通占比较高，需加快站点建设进度。已催开工单整体MR覆盖率改善2.60pp，对全网劣于竞对小区占比指标改善5.26pp。'"
      ]
     },
     "execution_count": 52,
     "metadata": {},
     "output_type": "execute_result"
    }
   ],
   "source": [
    "'催开工单共'+str(cuikai_zdanzi)+'单，涉及逻辑站\\\n",
    "点'+str(cuikai_z)+'个，已开通站点'+str(cuikai_w)+'个(本月新增201个），催开完成率\\\n",
    "为'+str(cuikai_w/cuikai_z*100)[:5]+'%'+'。'+cuikai_wanchengdudi[0]+'地市整体解决进度较慢，主要为'+jindudi[0]+'未开通占比较\\\n",
    "高，需加快站点建设进度。'+'已催开工单整体MR覆盖率改善2.60pp，对全网劣于竞对小区占比指标改善5.26pp。'"
   ]
  },
  {
   "cell_type": "code",
   "execution_count": 53,
   "metadata": {
    "ExecuteTime": {
     "end_time": "2020-09-27T08:37:12.937972Z",
     "start_time": "2020-09-27T08:37:12.629433Z"
    }
   },
   "outputs": [
    {
     "data": {
      "text/html": [
       "<div>\n",
       "<style scoped>\n",
       "    .dataframe tbody tr th:only-of-type {\n",
       "        vertical-align: middle;\n",
       "    }\n",
       "\n",
       "    .dataframe tbody tr th {\n",
       "        vertical-align: top;\n",
       "    }\n",
       "\n",
       "    .dataframe thead th {\n",
       "        text-align: right;\n",
       "    }\n",
       "</style>\n",
       "<table border=\"1\" class=\"dataframe\">\n",
       "  <thead>\n",
       "    <tr style=\"text-align: right;\">\n",
       "      <th></th>\n",
       "      <th>总量</th>\n",
       "      <th>完成量</th>\n",
       "      <th>进度</th>\n",
       "    </tr>\n",
       "    <tr>\n",
       "      <th>区县</th>\n",
       "      <th></th>\n",
       "      <th></th>\n",
       "      <th></th>\n",
       "    </tr>\n",
       "  </thead>\n",
       "  <tbody>\n",
       "    <tr>\n",
       "      <th>东新</th>\n",
       "      <td>86</td>\n",
       "      <td>62</td>\n",
       "      <td>0.720930</td>\n",
       "    </tr>\n",
       "    <tr>\n",
       "      <th>东西湖</th>\n",
       "      <td>19</td>\n",
       "      <td>15</td>\n",
       "      <td>0.789474</td>\n",
       "    </tr>\n",
       "    <tr>\n",
       "      <th>新洲</th>\n",
       "      <td>42</td>\n",
       "      <td>12</td>\n",
       "      <td>0.285714</td>\n",
       "    </tr>\n",
       "    <tr>\n",
       "      <th>武昌</th>\n",
       "      <td>19</td>\n",
       "      <td>16</td>\n",
       "      <td>0.842105</td>\n",
       "    </tr>\n",
       "    <tr>\n",
       "      <th>汉阳</th>\n",
       "      <td>39</td>\n",
       "      <td>34</td>\n",
       "      <td>0.871795</td>\n",
       "    </tr>\n",
       "    <tr>\n",
       "      <th>江夏</th>\n",
       "      <td>65</td>\n",
       "      <td>52</td>\n",
       "      <td>0.800000</td>\n",
       "    </tr>\n",
       "    <tr>\n",
       "      <th>江岸</th>\n",
       "      <td>45</td>\n",
       "      <td>42</td>\n",
       "      <td>0.933333</td>\n",
       "    </tr>\n",
       "    <tr>\n",
       "      <th>江汉</th>\n",
       "      <td>43</td>\n",
       "      <td>34</td>\n",
       "      <td>0.790698</td>\n",
       "    </tr>\n",
       "    <tr>\n",
       "      <th>洪山</th>\n",
       "      <td>20</td>\n",
       "      <td>16</td>\n",
       "      <td>0.800000</td>\n",
       "    </tr>\n",
       "    <tr>\n",
       "      <th>硚口</th>\n",
       "      <td>24</td>\n",
       "      <td>21</td>\n",
       "      <td>0.875000</td>\n",
       "    </tr>\n",
       "    <tr>\n",
       "      <th>经开</th>\n",
       "      <td>40</td>\n",
       "      <td>37</td>\n",
       "      <td>0.925000</td>\n",
       "    </tr>\n",
       "    <tr>\n",
       "      <th>蔡甸</th>\n",
       "      <td>15</td>\n",
       "      <td>11</td>\n",
       "      <td>0.733333</td>\n",
       "    </tr>\n",
       "    <tr>\n",
       "      <th>青山</th>\n",
       "      <td>41</td>\n",
       "      <td>26</td>\n",
       "      <td>0.634146</td>\n",
       "    </tr>\n",
       "    <tr>\n",
       "      <th>黄陂</th>\n",
       "      <td>52</td>\n",
       "      <td>23</td>\n",
       "      <td>0.442308</td>\n",
       "    </tr>\n",
       "  </tbody>\n",
       "</table>\n",
       "</div>"
      ],
      "text/plain": [
       "     总量  完成量        进度\n",
       "区县                    \n",
       "东新   86   62  0.720930\n",
       "东西湖  19   15  0.789474\n",
       "新洲   42   12  0.285714\n",
       "武昌   19   16  0.842105\n",
       "汉阳   39   34  0.871795\n",
       "江夏   65   52  0.800000\n",
       "江岸   45   42  0.933333\n",
       "江汉   43   34  0.790698\n",
       "洪山   20   16  0.800000\n",
       "硚口   24   21  0.875000\n",
       "经开   40   37  0.925000\n",
       "蔡甸   15   11  0.733333\n",
       "青山   41   26  0.634146\n",
       "黄陂   52   23  0.442308"
      ]
     },
     "execution_count": 53,
     "metadata": {},
     "output_type": "execute_result"
    }
   ],
   "source": [
    "cuikaijindu"
   ]
  },
  {
   "cell_type": "code",
   "execution_count": 54,
   "metadata": {
    "ExecuteTime": {
     "end_time": "2020-09-27T08:37:13.846088Z",
     "start_time": "2020-09-27T08:37:13.535548Z"
    }
   },
   "outputs": [],
   "source": [
    "cuikaijindu.to_clipboard()"
   ]
  },
  {
   "cell_type": "markdown",
   "metadata": {},
   "source": [
    "# 可研"
   ]
  },
  {
   "cell_type": "code",
   "execution_count": null,
   "metadata": {
    "ExecuteTime": {
     "end_time": "2020-09-10T12:12:23.249747Z",
     "start_time": "2020-09-10T12:12:23.006716Z"
    }
   },
   "outputs": [],
   "source": [
    "qingdan_k = qingdan_yuan.copy()\n",
    "qingdan_k = qingdan_k.loc[qingdan_k['地市']=='武汉']\n",
    "qingdan = qingdan_k.copy()"
   ]
  },
  {
   "cell_type": "code",
   "execution_count": null,
   "metadata": {
    "ExecuteTime": {
     "end_time": "2020-09-10T12:12:24.058350Z",
     "start_time": "2020-09-10T12:12:23.813819Z"
    }
   },
   "outputs": [],
   "source": [
    "keyan_zdanzi = qingdan.loc[(qingdan['催可研']=='可研') ]['唯一编号'].count()\n",
    "keyan_z = qingdan.loc[(qingdan['催可研']=='可研') ].drop_duplicates(subset='TDL规划站号（新）') ['唯一编号'].count()\n",
    "keyan_w = qingdan.loc[(qingdan['催可研']=='可研') & (qingdan['可研完成']==1) ].drop_duplicates(\n",
    "    subset='TDL规划站号（新）') ['唯一编号'].count()"
   ]
  },
  {
   "cell_type": "code",
   "execution_count": null,
   "metadata": {
    "ExecuteTime": {
     "end_time": "2020-09-10T12:12:24.890956Z",
     "start_time": "2020-09-10T12:12:24.653925Z"
    }
   },
   "outputs": [],
   "source": [
    "'催可研工单共'+str(keyan_zdanzi)+'单，涉及'+str(keyan_z)+'个逻辑站点工期催研，目前累\\\n",
    "计'+str(keyan_w)+'个站点已纳入工期，入研进度为'+str(keyan_w/keyan_z*100)[:5]+'%。'"
   ]
  },
  {
   "cell_type": "code",
   "execution_count": null,
   "metadata": {
    "ExecuteTime": {
     "end_time": "2020-09-10T12:12:25.710560Z",
     "start_time": "2020-09-10T12:12:25.460028Z"
    }
   },
   "outputs": [],
   "source": [
    "keyan_quchong = qingdan.loc[(qingdan['催可研']=='可研') ].drop_duplicates(subset='TDL规划站号（新）')\n",
    "keyan_quchong_w = qingdan.loc[(qingdan['催可研']=='可研') & (qingdan['可研完成']==1) ].drop_duplicates(subset='TDL规划站号（新）')"
   ]
  },
  {
   "cell_type": "code",
   "execution_count": null,
   "metadata": {
    "ExecuteTime": {
     "end_time": "2020-08-05T08:50:37.888128Z",
     "start_time": "2020-08-05T08:50:37.344059Z"
    }
   },
   "outputs": [],
   "source": [
    "k_z = keyan_quchong.groupby(by = '区县').agg({'唯一编号':'count'})\n",
    "k_w = keyan_quchong_w.groupby(by = '区县').agg({'唯一编号':'count'})\n",
    "keyanjindu=pd.concat([k_z,k_w],axis = 1)\n",
    "keyanjindu.columns = ['总量','完成量']\n",
    "keyanjindu['进度'] = keyanjindu['完成量']/keyanjindu['总量']"
   ]
  },
  {
   "cell_type": "code",
   "execution_count": null,
   "metadata": {
    "ExecuteTime": {
     "end_time": "2020-08-05T08:50:38.613220Z",
     "start_time": "2020-08-05T08:50:37.893129Z"
    }
   },
   "outputs": [],
   "source": [
    "keyanjindu.to_clipboard()"
   ]
  },
  {
   "cell_type": "markdown",
   "metadata": {},
   "source": [
    "# 规划 "
   ]
  },
  {
   "cell_type": "code",
   "execution_count": null,
   "metadata": {
    "ExecuteTime": {
     "end_time": "2020-08-05T08:50:39.294807Z",
     "start_time": "2020-08-05T08:50:38.617721Z"
    }
   },
   "outputs": [],
   "source": [
    "qingdan_g = qingdan_yuan.copy()\n",
    "qingdan_g = qingdan_g.loc[qingdan_g['地市']=='武汉']\n",
    "qingdan = qingdan_g.copy()\n",
    "\n",
    "guihua_zdanzi = qingdan.loc[(qingdan['规划']=='规划') ]['唯一编号'].count()\n",
    "guihua_w = qingdan.loc[(qingdan['规划']=='规划') & (qingdan['规划完成']==1) ]['唯一编号'].count()"
   ]
  },
  {
   "cell_type": "code",
   "execution_count": null,
   "metadata": {
    "ExecuteTime": {
     "end_time": "2020-08-05T08:50:39.927387Z",
     "start_time": "2020-08-05T08:50:39.299807Z"
    }
   },
   "outputs": [],
   "source": [
    "'需规划解决工单共'+str(guihua_zdanzi)+'单，目前累计完成'+str(guihua_w)+'个问题工单规划衔接，规\\\n",
    "划完成比例'+str(guihua_w/guihua_zdanzi*100)[:5]+'%。'"
   ]
  },
  {
   "cell_type": "code",
   "execution_count": null,
   "metadata": {
    "ExecuteTime": {
     "end_time": "2020-08-05T08:50:40.520962Z",
     "start_time": "2020-08-05T08:50:39.932388Z"
    }
   },
   "outputs": [],
   "source": [
    "guihua_qingdan = qingdan.loc[(qingdan['规划']=='规划') ]\n",
    "guihua_qingdan_w = qingdan.loc[(qingdan['规划']=='规划') & (qingdan['规划完成']==1)]\n",
    "g_z = guihua_qingdan.groupby(by = '区县').agg({'唯一编号':'count'})\n",
    "g_w = guihua_qingdan_w.groupby(by = '区县').agg({'唯一编号':'count'})\n",
    "guihuajindu=pd.concat([g_z,g_w],axis = 1)\n",
    "guihuajindu.columns = ['总量','完成量']\n",
    "guihuajindu['进度'] = guihuajindu['完成量']/guihuajindu['总量']"
   ]
  },
  {
   "cell_type": "code",
   "execution_count": null,
   "metadata": {
    "ExecuteTime": {
     "end_time": "2020-08-05T08:50:41.055030Z",
     "start_time": "2020-08-05T08:50:40.530964Z"
    }
   },
   "outputs": [],
   "source": [
    "guihuajindu.to_clipboard()"
   ]
  },
  {
   "cell_type": "code",
   "execution_count": null,
   "metadata": {},
   "outputs": [],
   "source": []
  },
  {
   "cell_type": "code",
   "execution_count": null,
   "metadata": {},
   "outputs": [],
   "source": []
  },
  {
   "cell_type": "code",
   "execution_count": null,
   "metadata": {},
   "outputs": [],
   "source": []
  }
 ],
 "metadata": {
  "kernelspec": {
   "display_name": "Python 3",
   "language": "python",
   "name": "python3"
  },
  "language_info": {
   "codemirror_mode": {
    "name": "ipython",
    "version": 3
   },
   "file_extension": ".py",
   "mimetype": "text/x-python",
   "name": "python",
   "nbconvert_exporter": "python",
   "pygments_lexer": "ipython3",
   "version": "3.7.4"
  },
  "toc": {
   "base_numbering": 1,
   "nav_menu": {},
   "number_sections": true,
   "sideBar": true,
   "skip_h1_title": false,
   "title_cell": "Table of Contents",
   "title_sidebar": "Contents",
   "toc_cell": false,
   "toc_position": {},
   "toc_section_display": true,
   "toc_window_display": false
  },
  "varInspector": {
   "cols": {
    "lenName": 16,
    "lenType": 16,
    "lenVar": 40
   },
   "kernels_config": {
    "python": {
     "delete_cmd_postfix": "",
     "delete_cmd_prefix": "del ",
     "library": "var_list.py",
     "varRefreshCmd": "print(var_dic_list())"
    },
    "r": {
     "delete_cmd_postfix": ") ",
     "delete_cmd_prefix": "rm(",
     "library": "var_list.r",
     "varRefreshCmd": "cat(var_dic_list()) "
    }
   },
   "types_to_exclude": [
    "module",
    "function",
    "builtin_function_or_method",
    "instance",
    "_Feature"
   ],
   "window_display": false
  }
 },
 "nbformat": 4,
 "nbformat_minor": 2
}
