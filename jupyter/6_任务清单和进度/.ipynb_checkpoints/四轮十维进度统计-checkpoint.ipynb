{
 "cells": [
  {
   "cell_type": "code",
   "execution_count": 1,
   "metadata": {
    "ExecuteTime": {
     "end_time": "2020-09-21T13:23:10.498901Z",
     "start_time": "2020-09-21T13:23:09.913827Z"
    }
   },
   "outputs": [],
   "source": [
    "import pandas as pd"
   ]
  },
  {
   "cell_type": "code",
   "execution_count": 47,
   "metadata": {
    "ExecuteTime": {
     "end_time": "2020-09-21T14:27:19.756695Z",
     "start_time": "2020-09-21T14:27:00.350731Z"
    }
   },
   "outputs": [],
   "source": [
    "renwu = pd.read_excel('G:/1-规划/崔开通崔可研规划/2020年任务清单/20200917/2020年任务清单（场景+MR）0917YC.xlsx')"
   ]
  },
  {
   "cell_type": "code",
   "execution_count": 3,
   "metadata": {
    "ExecuteTime": {
     "end_time": "2020-09-21T13:25:22.393650Z",
     "start_time": "2020-09-21T13:25:10.796677Z"
    }
   },
   "outputs": [],
   "source": [
    "slsw = pd.read_excel('G:/1-规划/崔开通崔可研规划/2020年任务清单/四轮十维/20200921/2万多小区的方案.xlsx',sheet_name='Sheet1')"
   ]
  },
  {
   "cell_type": "code",
   "execution_count": null,
   "metadata": {},
   "outputs": [],
   "source": [
    "y_slsw = slsw.loc[slsw['最终方案']=='优化']\n",
    "j_slsw = slsw.loc[slsw['最终方案']=='建设']"
   ]
  },
  {
   "cell_type": "code",
   "execution_count": 48,
   "metadata": {
    "ExecuteTime": {
     "end_time": "2020-09-21T14:27:20.126742Z",
     "start_time": "2020-09-21T14:27:20.096238Z"
    }
   },
   "outputs": [],
   "source": [
    "youhua_data = renwu.loc[renwu['优化']=='优化']\n",
    "jianshe_data = renwu.loc[renwu['催开']=='催开']"
   ]
  },
  {
   "cell_type": "code",
   "execution_count": null,
   "metadata": {
    "ExecuteTime": {
     "end_time": "2020-09-21T15:25:03.902086Z",
     "start_time": "2020-09-21T15:25:03.780570Z"
    }
   },
   "outputs": [],
   "source": [
    "data = youhua_data.copy()\n",
    "dataj = jianshe_data.copy()"
   ]
  },
  {
   "cell_type": "code",
   "execution_count": 153,
   "metadata": {
    "ExecuteTime": {
     "end_time": "2020-09-21T15:37:38.797945Z",
     "start_time": "2020-09-21T15:37:38.724436Z"
    }
   },
   "outputs": [],
   "source": [
    "def fc(cj='居民区'):\n",
    "    if cj in ['居民区','高校','风景区','医院']:\n",
    "        y_zong,y_wancheng = data.loc[data['场景']==cj].agg({'唯一编号':'count','优化完成':'count'})\n",
    "        j_zong,j_wancheng = dataj.loc[dataj['场景']==cj].drop_duplicates('TDL规划站号（新）').agg({'唯一编号':'count','优化完成':'count'})\n",
    "        y2_zong,y2_wancheng = y_slsw.loc[y_slsw['场景类型（高校/居民区/风景区/医院/交通枢纽）']==cj].agg({'小区CGI(*)':'count','最终完成':'count'})\n",
    "        j2_zong,j2_wancheng = j_slsw.loc[j_slsw['场景类型（高校/居民区/风景区/医院/交通枢纽）']==cj].drop_duplicates('规划站号').agg({'小区CGI(*)':'count','最终完成':'count'})\n",
    "        kd_zong,kd_wancheng = slsw.loc[(slsw['场景类型（高校/居民区/风景区/医院/交通枢纽）']==cj)&(slsw['最终方案']=='空洞')].agg({'小区CGI(*)':'count','最终完成':'count'})\n",
    "        d3_zong,d3_wancheng = slsw.loc[(slsw['场景类型（高校/居民区/风景区/医院/交通枢纽）']==cj)&(slsw['最终方案']=='反开3d')].agg({'小区CGI(*)':'count','最终完成':'count'})\n",
    "        lg_zong,lg_wancheng = slsw.loc[(slsw['场景类型（高校/居民区/风景区/医院/交通枢纽）']==cj)&(slsw['最终方案']=='零购')].agg({'小区CGI(*)':'count','最终完成':'count'})\n",
    "\n",
    "    elif cj =='城区':\n",
    "        y_zong,y_wancheng = data.loc[data['9月增补场景-核心城区']=='是'].agg({'唯一编号':'count','优化完成':'count'})\n",
    "        j_zong,j_wancheng = dataj.loc[dataj['9月增补场景-核心城区']=='是'].drop_duplicates('TDL规划站号（新）').agg({'唯一编号':'count','优化完成':'count'})\n",
    "        y2_zong,y2_wancheng = y_slsw.loc[y_slsw['城区/农村']==cj].agg({'小区CGI(*)':'count','最终完成':'count'})\n",
    "        j2_zong,j2_wancheng = j_slsw.loc[j_slsw['城区/农村']==cj].drop_duplicates('规划站号').agg({'小区CGI(*)':'count','最终完成':'count'})\n",
    "        kd_zong,kd_wancheng = slsw.loc[(slsw['城区/农村']==cj)&(slsw['最终方案']=='空洞')].agg({'小区CGI(*)':'count','最终完成':'count'})\n",
    "        d3_zong,d3_wancheng = slsw.loc[(slsw['城区/农村']==cj)&(slsw['最终方案']=='反开3d')].agg({'小区CGI(*)':'count','最终完成':'count'})\n",
    "        lg_zong,lg_wancheng = slsw.loc[(slsw['城区/农村']==cj)&(slsw['最终方案']=='零购')].agg({'小区CGI(*)':'count','最终完成':'count'})\n",
    "\n",
    "    elif cj == '农村':\n",
    "        y_zong,y_wancheng = data.loc[data['9月增补场景-农村']=='是'].agg({'唯一编号':'count','优化完成':'count'})\n",
    "        j_zong,j_wancheng = dataj.loc[dataj['9月增补场景-农村']=='是'].drop_duplicates('TDL规划站号（新）').agg({'唯一编号':'count','优化完成':'count'})\n",
    "        y2_zong,y2_wancheng = y_slsw.loc[y_slsw['城区/农村']==cj].agg({'小区CGI(*)':'count','最终完成':'count'})\n",
    "        j2_zong,j2_wancheng = j_slsw.loc[j_slsw['城区/农村']==cj].drop_duplicates('规划站号').agg({'小区CGI(*)':'count','最终完成':'count'})\n",
    "        kd_zong,kd_wancheng = slsw.loc[(slsw['城区/农村']==cj)&(slsw['最终方案']=='空洞')].agg({'小区CGI(*)':'count','最终完成':'count'})\n",
    "        d3_zong,d3_wancheng = slsw.loc[(slsw['城区/农村']==cj)&(slsw['最终方案']=='反开3d')].agg({'小区CGI(*)':'count','最终完成':'count'})\n",
    "        lg_zong,lg_wancheng = slsw.loc[(slsw['城区/农村']==cj)&(slsw['最终方案']=='零购')].agg({'小区CGI(*)':'count','最终完成':'count'})\n",
    "    elif cj == '交通枢纽':\n",
    "        y_zong,y_wancheng = data.loc[data['9月增补场景-交通枢纽']=='是'].agg({'唯一编号':'count','优化完成':'count'})\n",
    "        j_zong,j_wancheng = dataj.loc[dataj['9月增补场景-交通枢纽']=='是'].drop_duplicates('TDL规划站号（新）').agg({'唯一编号':'count','优化完成':'count'})\n",
    "        y2_zong,y2_wancheng = y_slsw.loc[y_slsw['场景类型（高校/居民区/风景区/医院/交通枢纽）']==cj].agg({'小区CGI(*)':'count','最终完成':'count'})\n",
    "        j2_zong,j2_wancheng = j_slsw.loc[j_slsw['场景类型（高校/居民区/风景区/医院/交通枢纽）']==cj].drop_duplicates('规划站号').agg({'小区CGI(*)':'count','最终完成':'count'})\n",
    "        kd_zong,kd_wancheng = slsw.loc[(slsw['场景类型（高校/居民区/风景区/医院/交通枢纽）']==cj)&(slsw['最终方案']=='空洞')].agg({'小区CGI(*)':'count','最终完成':'count'})\n",
    "        d3_zong,d3_wancheng = slsw.loc[(slsw['场景类型（高校/居民区/风景区/医院/交通枢纽）']==cj)&(slsw['最终方案']=='反开3d')].agg({'小区CGI(*)':'count','最终完成':'count'})\n",
    "        lg_zong,lg_wancheng = slsw.loc[(slsw['场景类型（高校/居民区/风景区/医院/交通枢纽）']==cj)&(slsw['最终方案']=='零购')].agg({'小区CGI(*)':'count','最终完成':'count'})\n",
    "    elif cj in ['宏站','室分']:\n",
    "        y_zong,y_wancheng = data.loc[data['覆盖类型']==cj].agg({'唯一编号':'count','优化完成':'count'})\n",
    "        j_zong,j_wancheng = dataj.loc[dataj['覆盖类型']==cj].drop_duplicates('TDL规划站号（新）').agg({'唯一编号':'count','优化完成':'count'})\n",
    "        y2_zong,y2_wancheng = y_slsw.loc[y_slsw['宏站/室分']==cj].agg({'小区CGI(*)':'count','最终完成':'count'})\n",
    "        j2_zong,j2_wancheng = j_slsw.loc[j_slsw['宏站/室分']==cj].drop_duplicates('规划站号').agg({'小区CGI(*)':'count','最终完成':'count'})\n",
    "        kd_zong,kd_wancheng = slsw.loc[(slsw['宏站/室分']==cj)&(slsw['最终方案']=='空洞')].agg({'小区CGI(*)':'count','最终完成':'count'})\n",
    "        d3_zong,d3_wancheng = slsw.loc[(slsw['宏站/室分']==cj)&(slsw['最终方案']=='反开3d')].agg({'小区CGI(*)':'count','最终完成':'count'})\n",
    "        lg_zong,lg_wancheng = slsw.loc[(slsw['宏站/室分']==cj)&(slsw['最终方案']=='零购')].agg({'小区CGI(*)':'count','最终完成':'count'})\n",
    "    elif cj =='4G覆盖率劣于竞对小区占比-电信(%)':\n",
    "        y_zong,y_wancheng = data.loc[data['电信黑点']==1].agg({'唯一编号':'count','优化完成':'count'})\n",
    "        j_zong,j_wancheng = dataj.loc[dataj['电信黑点']==1].drop_duplicates('TDL规划站号（新）').agg({'唯一编号':'count','优化完成':'count'})\n",
    "        y2_zong,y2_wancheng = y_slsw.loc[y_slsw['竞对黑点-电信']=='电信'].agg({'小区CGI(*)':'count','最终完成':'count'})\n",
    "        j2_zong,j2_wancheng = j_slsw.loc[j_slsw['竞对黑点-电信']=='电信'].drop_duplicates('规划站号').agg({'小区CGI(*)':'count','最终完成':'count'})\n",
    "        kd_zong,kd_wancheng = slsw.loc[(slsw['竞对黑点-电信']=='电信')&(slsw['最终方案']=='空洞')].agg({'小区CGI(*)':'count','最终完成':'count'})\n",
    "        d3_zong,d3_wancheng = slsw.loc[(slsw['竞对黑点-电信']=='电信')&(slsw['最终方案']=='反开3d')].agg({'小区CGI(*)':'count','最终完成':'count'})\n",
    "        lg_zong,lg_wancheng = slsw.loc[(slsw['竞对黑点-电信']=='电信')&(slsw['最终方案']=='零购')].agg({'小区CGI(*)':'count','最终完成':'count'})\n",
    "    elif cj =='4G覆盖率劣于竞对小区占比-联通(%)':\n",
    "        y_zong,y_wancheng = data.loc[data['联通黑点']==1].agg({'唯一编号':'count','优化完成':'count'})\n",
    "        j_zong,j_wancheng = dataj.loc[dataj['联通黑点']==1].drop_duplicates('TDL规划站号（新）').agg({'唯一编号':'count','优化完成':'count'})\n",
    "        y2_zong,y2_wancheng = y_slsw.loc[y_slsw['竞对黑点-联通']=='联通'].agg({'小区CGI(*)':'count','最终完成':'count'})\n",
    "        j2_zong,j2_wancheng = j_slsw.loc[j_slsw['竞对黑点-联通']=='联通'].drop_duplicates('规划站号').agg({'小区CGI(*)':'count','最终完成':'count'})\n",
    "        kd_zong,kd_wancheng = slsw.loc[(slsw['竞对黑点-联通']=='联通')&(slsw['最终方案']=='空洞')].agg({'小区CGI(*)':'count','最终完成':'count'})\n",
    "        d3_zong,d3_wancheng = slsw.loc[(slsw['竞对黑点-联通']=='联通')&(slsw['最终方案']=='反开3d')].agg({'小区CGI(*)':'count','最终完成':'count'})\n",
    "        lg_zong,lg_wancheng = slsw.loc[(slsw['竞对黑点-联通']=='联通')&(slsw['最终方案']=='零购')].agg({'小区CGI(*)':'count','最终完成':'count'})\n",
    "    elif cj =='高校覆盖劣于竞对小区占比-电信(%)':\n",
    "        y_zong,y_wancheng = data.loc[(data['电信黑点']==1)&(data['场景']=='高校')].agg({'唯一编号':'count','优化完成':'count'})\n",
    "        j_zong,j_wancheng = dataj.loc[(dataj['电信黑点']==1)&(dataj['场景']=='高校')].drop_duplicates('TDL规划站号（新）').agg({'唯一编号':'count','优化完成':'count'})\n",
    "        y2_zong,y2_wancheng = y_slsw.loc[(y_slsw['竞对黑点-电信']=='电信')&(y_slsw['场景类型（高校/居民区/风景区/医院/交通枢纽）']=='高校')].agg({'小区CGI(*)':'count','最终完成':'count'})\n",
    "        j2_zong,j2_wancheng = j_slsw.loc[(j_slsw['竞对黑点-电信']=='电信')&(y_slsw['场景类型（高校/居民区/风景区/医院/交通枢纽）']=='高校')].drop_duplicates('规划站号').agg({'小区CGI(*)':'count','最终完成':'count'})\n",
    "        kd_zong,kd_wancheng = slsw.loc[(slsw['竞对黑点-电信']=='电信')&(slsw['最终方案']=='空洞')].agg({'小区CGI(*)':'count','最终完成':'count'})\n",
    "        d3_zong,d3_wancheng = slsw.loc[(slsw['竞对黑点-电信']=='电信')&(slsw['最终方案']=='反开3d')].agg({'小区CGI(*)':'count','最终完成':'count'})\n",
    "        lg_zong,lg_wancheng = slsw.loc[(slsw['竞对黑点-电信']=='电信')&(slsw['最终方案']=='零购')].agg({'小区CGI(*)':'count','最终完成':'count'})\n",
    "    elif cj =='高校覆盖劣于竞对小区占比-联通(%)':\n",
    "        y_zong,y_wancheng = data.loc[(data['联通黑点']==1)&(data['场景']=='高校')].agg({'唯一编号':'count','优化完成':'count'})\n",
    "        j_zong,j_wancheng = dataj.loc[(dataj['联通黑点']==1)&(dataj['场景']=='高校')].drop_duplicates('TDL规划站号（新）').agg({'唯一编号':'count','优化完成':'count'})\n",
    "        y2_zong,y2_wancheng = y_slsw.loc[(y_slsw['竞对黑点-联通']=='联通')&(y_slsw['场景类型（高校/居民区/风景区/医院/交通枢纽）']=='高校')].agg({'小区CGI(*)':'count','最终完成':'count'})\n",
    "        j2_zong,j2_wancheng = j_slsw.loc[(j_slsw['竞对黑点-联通']=='联通')&(y_slsw['场景类型（高校/居民区/风景区/医院/交通枢纽）']=='高校')].drop_duplicates('规划站号').agg({'小区CGI(*)':'count','最终完成':'count'})\n",
    "        kd_zong,kd_wancheng = slsw.loc[(slsw['竞对黑点-联通']=='联通')&(slsw['最终方案']=='空洞')].agg({'小区CGI(*)':'count','最终完成':'count'})\n",
    "        d3_zong,d3_wancheng = slsw.loc[(slsw['竞对黑点-联通']=='联通')&(slsw['最终方案']=='反开3d')].agg({'小区CGI(*)':'count','最终完成':'count'})\n",
    "        lg_zong,lg_wancheng = slsw.loc[(slsw['竞对黑点-联通']=='联通')&(slsw['最终方案']=='零购')].agg({'小区CGI(*)':'count','最终完成':'count'})\n",
    "    return (y_wancheng,j_wancheng,y2_zong,y2_wancheng,j2_zong,j2_wancheng,kd_zong,kd_wancheng,d3_zong,d3_wancheng,lg_wancheng)"
   ]
  },
  {
   "cell_type": "code",
   "execution_count": 169,
   "metadata": {
    "ExecuteTime": {
     "end_time": "2020-09-21T15:42:57.187876Z",
     "start_time": "2020-09-21T15:42:56.671310Z"
    }
   },
   "outputs": [],
   "source": [
    "dic_my = dict()\n",
    "list_my  = ['宏站','室分','城区','农村','高校覆盖劣于竞对小区占比-电信(%)','高校覆盖劣于竞对小区占比-联通(%)','高校','居民区','风景区','医院',\n",
    "           '交通枢纽','4G覆盖率劣于竞对小区占比-电信(%)','4G覆盖率劣于竞对小区占比-联通(%)']\n",
    "for name in list_my:\n",
    "    y_wancheng,j_wancheng,y2_zong,y2_wancheng,j2_zong,j2_wancheng,kd_zong,kd_wancheng,d3_zong,d3_wanchenglg_zong,lg_wancheng = fc(name)\n",
    "    res = f' {name}进度=>优化:{y2_wancheng+y_wancheng}/{y_wancheng+y2_zong},剩余{(y_wancheng+y2_zong)-(y2_wancheng+y_wancheng)}单；\\n \\\n",
    "建设：{kd_wancheng+j2_wancheng}/{j_wancheng+j2_zong},剩余{(j_wancheng+j2_zong)-(j_wancheng+j2_wancheng)}单。 \\\n",
    "空洞：{kd_wancheng}/{kd_zong},剩余{kd_zong-kd_wancheng}\\n \\\n",
    "3D反开：{d3_wancheng}/{d3_zong},剩余{d3_zong-d3_wancheng}\\n \\\n",
    "零购：{lg_wancheng}/{lg_zong},剩余{lg_zong-lg_wancheng}'\n",
    "    dic_my[name] = res"
   ]
  },
  {
   "cell_type": "code",
   "execution_count": 171,
   "metadata": {
    "ExecuteTime": {
     "end_time": "2020-09-21T15:43:44.590895Z",
     "start_time": "2020-09-21T15:43:44.585894Z"
    }
   },
   "outputs": [],
   "source": [
    "res = pd.DataFrame.from_dict(dic_my,orient='index',columns=['进度']).reset_index()"
   ]
  },
  {
   "cell_type": "code",
   "execution_count": 172,
   "metadata": {
    "ExecuteTime": {
     "end_time": "2020-09-21T15:43:51.874320Z",
     "start_time": "2020-09-21T15:43:51.831314Z"
    }
   },
   "outputs": [],
   "source": [
    "res.to_clipboard()"
   ]
  },
  {
   "cell_type": "code",
   "execution_count": null,
   "metadata": {},
   "outputs": [],
   "source": []
  }
 ],
 "metadata": {
  "kernelspec": {
   "display_name": "Python 3",
   "language": "python",
   "name": "python3"
  },
  "language_info": {
   "codemirror_mode": {
    "name": "ipython",
    "version": 3
   },
   "file_extension": ".py",
   "mimetype": "text/x-python",
   "name": "python",
   "nbconvert_exporter": "python",
   "pygments_lexer": "ipython3",
   "version": "3.7.4"
  },
  "toc": {
   "base_numbering": 1,
   "nav_menu": {},
   "number_sections": true,
   "sideBar": true,
   "skip_h1_title": false,
   "title_cell": "Table of Contents",
   "title_sidebar": "Contents",
   "toc_cell": false,
   "toc_position": {},
   "toc_section_display": true,
   "toc_window_display": false
  },
  "varInspector": {
   "cols": {
    "lenName": 16,
    "lenType": 16,
    "lenVar": 40
   },
   "kernels_config": {
    "python": {
     "delete_cmd_postfix": "",
     "delete_cmd_prefix": "del ",
     "library": "var_list.py",
     "varRefreshCmd": "print(var_dic_list())"
    },
    "r": {
     "delete_cmd_postfix": ") ",
     "delete_cmd_prefix": "rm(",
     "library": "var_list.r",
     "varRefreshCmd": "cat(var_dic_list()) "
    }
   },
   "types_to_exclude": [
    "module",
    "function",
    "builtin_function_or_method",
    "instance",
    "_Feature"
   ],
   "window_display": false
  }
 },
 "nbformat": 4,
 "nbformat_minor": 2
}
