{
 "cells": [
  {
   "cell_type": "code",
   "execution_count": null,
   "metadata": {
    "ExecuteTime": {
     "end_time": "2020-09-27T13:23:15.182449Z",
     "start_time": "2020-09-27T13:23:14.471359Z"
    }
   },
   "outputs": [],
   "source": [
    "import numpy as np\n",
    "from matplotlib import pyplot as plt\n",
    "import pandas as pd\n",
    "from shapely.geometry import Polygon,Point,LineString,MultiPolygon\n",
    "from geographiclib.geodesic import Geodesic"
   ]
  },
  {
   "cell_type": "code",
   "execution_count": null,
   "metadata": {
    "ExecuteTime": {
     "end_time": "2020-09-27T13:23:15.462485Z",
     "start_time": "2020-09-27T13:23:15.374974Z"
    }
   },
   "outputs": [],
   "source": [
    "mx=pd.read_csv('c:/Users/Administrator/Desktop/天线/天线/F天线.txt',encoding='gbk',sep='\\t')"
   ]
  },
  {
   "cell_type": "code",
   "execution_count": null,
   "metadata": {
    "ExecuteTime": {
     "end_time": "2020-09-03T06:16:35.467507Z",
     "start_time": "2020-09-03T06:16:35.456006Z"
    }
   },
   "outputs": [],
   "source": [
    "def fc(x):\n",
    "    a = x['Pattern']\n",
    "    b = a.split(' ')\n",
    "    name_o=1\n",
    "    go='第一次开始'\n",
    "    use_list =[]\n",
    "    use_dict =dict()\n",
    "    st=0\n",
    "    id_use = -1\n",
    "    for nu,name in enumerate(b):\n",
    "        if name =='':\n",
    "            go='重新开始'\n",
    "            st = 0\n",
    "        if (str(name_o) =='0') and (str(name) == '360')and (go=='第一次开始'):\n",
    "            st=1\n",
    "        elif (str(name_o) =='0') and (str(name) == '360')and (go=='重新开始'):\n",
    "            st=1\n",
    "            id_use=-1\n",
    "        if st==1:\n",
    "            if nu%2==1:\n",
    "                use_list.append(str(id_use)+'_'+str(name))\n",
    "                id_use = id_use +1\n",
    "        name_o = name\n",
    "    return use_list"
   ]
  },
  {
   "cell_type": "code",
   "execution_count": null,
   "metadata": {
    "ExecuteTime": {
     "end_time": "2020-09-03T06:16:36.255107Z",
     "start_time": "2020-09-03T06:16:36.234604Z"
    }
   },
   "outputs": [],
   "source": [
    "mx['fw_list']=mx.apply(fc,axis=1)"
   ]
  },
  {
   "cell_type": "code",
   "execution_count": null,
   "metadata": {
    "ExecuteTime": {
     "end_time": "2020-09-03T06:16:38.531396Z",
     "start_time": "2020-09-03T06:16:38.525895Z"
    }
   },
   "outputs": [],
   "source": [
    "mx.shape"
   ]
  },
  {
   "cell_type": "code",
   "execution_count": null,
   "metadata": {
    "ExecuteTime": {
     "end_time": "2020-09-03T06:16:44.405642Z",
     "start_time": "2020-09-03T06:16:44.352635Z"
    }
   },
   "outputs": [],
   "source": [
    "num = 3\n",
    "name=mx.loc[num]['Name']\n",
    "\n",
    "linshi = pd.DataFrame(mx['fw_list'][num])[0].str.split('_',expand=True)\n",
    "linshi.columns=['角度','电平']\n",
    "linshi2 = linshi.T\n",
    "data_use = linshi.iloc[1:361]\n",
    "jiaodu = list(data_use['角度'])\n",
    "dianping = list(data_use['电平'])\n",
    "data_use_2 = linshi.iloc[362:]\n",
    "jiaodu_2 = list(data_use_2['角度'])\n",
    "dianping_2 = list(data_use_2['电平'])\n",
    "\n",
    "linshi.shape"
   ]
  },
  {
   "cell_type": "code",
   "execution_count": null,
   "metadata": {},
   "outputs": [],
   "source": []
  },
  {
   "cell_type": "code",
   "execution_count": null,
   "metadata": {
    "ExecuteTime": {
     "end_time": "2020-09-03T06:16:47.189996Z",
     "start_time": "2020-09-03T06:16:46.313884Z"
    }
   },
   "outputs": [],
   "source": [
    "fig=plt.figure(figsize=(10,13))\n",
    "ax=fig.add_subplot(111,polar=True) #设置一个坐标轴为极坐标体系\n",
    "ax.set_thetagrids(np.arange(0.0, 360.0, 10.0)) # 用于设置极坐标角度网格线显示\n",
    "ax.set_theta_zero_location('N') #设置极坐标0°位置\n",
    "ax.set_theta_direction(-1) # 用于设置极坐标的正方向，参数为-1时为顺时针方向；反之。\n",
    "\n",
    "y=np.array([float(i)*-1 for i in dianping]).astype(float) #提取英雄的信息\n",
    "x = np.linspace(0, 2*np.pi, 360, endpoint=False) #data1里有几个数据，就把整圆360°分成几份\n",
    "x1 = np.concatenate((x, [x[0]])) #将x的第一个值添加到原来的x组成第一个和最后一个元素一致的新列表，以实现x闭合\n",
    "y1 = np.concatenate((y, [y[0]])) #将y的第一个值添加到原来的y组成第一个和最后一个元素一致的新列表，以实现y闭合\n",
    "\n",
    "#绘制极坐标\n",
    "# ax.set_thetagrids(angles*180/np.pi, label, fontproperties=\"Microsoft Yahei\") #设置网格标签\n",
    "ax.plot(x1,y1,\"-\")\n",
    "\n",
    "# ax.set_rlim(y1.min(),0) #设置显示的极径范围\n",
    "# print(y1.min())\n",
    "ax.fill(x1,y1,facecolor='b', alpha=0.2) #填充颜色\n",
    "ax.set_rlabel_position(15)\n",
    "ax.set_title(name+'水平天线图',fontproperties=\"SimHei\",fontsize=16) #设置标题\n",
    "# ax.grid(True) #是否有网格\n",
    "plt.savefig(\"c:/Users/Administrator/Desktop/\"+name+'水平天线图.png')\n",
    "plt.show()"
   ]
  },
  {
   "cell_type": "code",
   "execution_count": null,
   "metadata": {},
   "outputs": [],
   "source": []
  },
  {
   "cell_type": "code",
   "execution_count": null,
   "metadata": {
    "ExecuteTime": {
     "end_time": "2020-08-31T05:29:15.000099Z",
     "start_time": "2020-08-31T05:29:13.914462Z"
    }
   },
   "outputs": [],
   "source": [
    "fig=plt.figure(figsize=(10,13))\n",
    "ax=fig.add_subplot(111,polar=True) #设置一个坐标轴为极坐标体系\n",
    "ax.set_thetagrids(np.arange(0.0, 360.0, 10.0)) # 用于设置极坐标角度网格线显示\n",
    "ax.set_theta_zero_location('N') #设置极坐标0°位置\n",
    "ax.set_theta_direction(-1) # 用于设置极坐标的正方向，参数为-1时为顺时针方向；反之。\n",
    "\n",
    "y=np.array([float(i)*-1 for i in dianping_2]).astype(float) #提取英雄的信息\n",
    "x = np.linspace(0, 2*np.pi, 360, endpoint=False) #data1里有几个数据，就把整圆360°分成几份\n",
    "x1 = np.concatenate((x, [x[0]])) #将x的第一个值添加到原来的x组成第一个和最后一个元素一致的新列表，以实现x闭合\n",
    "y1 = np.concatenate((y, [y[0]])) #将y的第一个值添加到原来的y组成第一个和最后一个元素一致的新列表，以实现y闭合\n",
    "\n",
    "#绘制极坐标\n",
    "# ax.set_thetagrids(angles*180/np.pi, label, fontproperties=\"Microsoft Yahei\") #设置网格标签\n",
    "ax.plot(x1,y1,\"-\")\n",
    "\n",
    "# ax.set_rlim(y1.min(),0) #设置显示的极径范围\n",
    "# print(y1.min())\n",
    "ax.fill(x1,y1,facecolor='b', alpha=0.2) #填充颜色\n",
    "ax.set_rlabel_position(15)\n",
    "ax.set_title(name+'垂直天线图',fontproperties=\"SimHei\",fontsize=16) #设置标题\n",
    "plt.savefig(\"c:/Users/Administrator/Desktop/\"+name+'垂直天线图.png')\n",
    "plt.show()"
   ]
  },
  {
   "cell_type": "code",
   "execution_count": null,
   "metadata": {
    "ExecuteTime": {
     "end_time": "2020-08-31T05:29:15.500663Z",
     "start_time": "2020-08-31T05:29:15.494662Z"
    }
   },
   "outputs": [],
   "source": [
    "name"
   ]
  },
  {
   "cell_type": "code",
   "execution_count": null,
   "metadata": {},
   "outputs": [],
   "source": []
  },
  {
   "cell_type": "markdown",
   "metadata": {},
   "source": [
    "# 第二种格式"
   ]
  },
  {
   "cell_type": "code",
   "execution_count": null,
   "metadata": {
    "ExecuteTime": {
     "end_time": "2020-08-31T05:35:02.349207Z",
     "start_time": "2020-08-31T05:35:02.343706Z"
    }
   },
   "outputs": [],
   "source": [
    "name='2600'"
   ]
  },
  {
   "cell_type": "code",
   "execution_count": null,
   "metadata": {
    "ExecuteTime": {
     "end_time": "2020-09-03T06:23:26.388187Z",
     "start_time": "2020-09-03T06:23:26.379186Z"
    }
   },
   "outputs": [],
   "source": [
    "mx=pd.read_csv('c:/Users/Administrator/Desktop/天线/天线/Imacro FAD/MBFAD-65-15DE_2600_T0.TXT',encoding='gbk')"
   ]
  },
  {
   "cell_type": "code",
   "execution_count": null,
   "metadata": {
    "ExecuteTime": {
     "end_time": "2020-09-03T06:23:26.590713Z",
     "start_time": "2020-09-03T06:23:26.586713Z"
    }
   },
   "outputs": [],
   "source": [
    "mx.shape"
   ]
  },
  {
   "cell_type": "code",
   "execution_count": null,
   "metadata": {
    "ExecuteTime": {
     "end_time": "2020-09-03T06:23:26.773736Z",
     "start_time": "2020-09-03T06:23:26.768236Z"
    }
   },
   "outputs": [],
   "source": [
    "gs2 = mx['Gain'].str.split('\\t',expand=True)"
   ]
  },
  {
   "cell_type": "code",
   "execution_count": null,
   "metadata": {
    "ExecuteTime": {
     "end_time": "2020-09-03T06:23:26.942258Z",
     "start_time": "2020-09-03T06:23:26.939257Z"
    }
   },
   "outputs": [],
   "source": [
    "gs3 = gs2.iloc[10:,]"
   ]
  },
  {
   "cell_type": "code",
   "execution_count": null,
   "metadata": {
    "ExecuteTime": {
     "end_time": "2020-09-03T06:23:27.113279Z",
     "start_time": "2020-09-03T06:23:27.107779Z"
    }
   },
   "outputs": [],
   "source": [
    "dianping = list(gs3.iloc[0:360,][1])\n",
    "jiaodu = list(gs3.iloc[0:360,][0])\n",
    "dianping_2 = list(gs3.iloc[361:,][1])\n",
    "jiaodu_2 = list(gs3.iloc[361:,][0])"
   ]
  },
  {
   "cell_type": "code",
   "execution_count": null,
   "metadata": {
    "ExecuteTime": {
     "end_time": "2020-09-03T06:23:27.295303Z",
     "start_time": "2020-09-03T06:23:27.282301Z"
    }
   },
   "outputs": [],
   "source": [
    "gs3.to_clipboard()"
   ]
  },
  {
   "cell_type": "code",
   "execution_count": null,
   "metadata": {
    "ExecuteTime": {
     "end_time": "2020-09-03T06:23:27.470825Z",
     "start_time": "2020-09-03T06:23:27.466324Z"
    }
   },
   "outputs": [],
   "source": [
    "gs3.shape"
   ]
  },
  {
   "cell_type": "code",
   "execution_count": null,
   "metadata": {
    "ExecuteTime": {
     "end_time": "2020-09-03T06:23:28.437948Z",
     "start_time": "2020-09-03T06:23:27.705855Z"
    }
   },
   "outputs": [],
   "source": [
    "fig=plt.figure(figsize=(10,13))\n",
    "ax=fig.add_subplot(111,polar=True) #设置一个坐标轴为极坐标体系\n",
    "ax.set_thetagrids(np.arange(0.0, 360.0, 10.0)) # 用于设置极坐标角度网格线显示\n",
    "ax.set_theta_zero_location('N') #设置极坐标0°位置\n",
    "ax.set_theta_direction(-1) # 用于设置极坐标的正方向，参数为-1时为顺时针方向；反之。\n",
    "\n",
    "y=np.array([float(i)*-1 for i in dianping]).astype(float) #提取英雄的信息\n",
    "x = np.linspace(0, 2*np.pi, 360, endpoint=False) #data1里有几个数据，就把整圆360°分成几份\n",
    "x1 = np.concatenate((x, [x[0]])) #将x的第一个值添加到原来的x组成第一个和最后一个元素一致的新列表，以实现x闭合\n",
    "y1 = np.concatenate((y, [y[0]])) #将y的第一个值添加到原来的y组成第一个和最后一个元素一致的新列表，以实现y闭合\n",
    "\n",
    "#绘制极坐标\n",
    "# ax.set_thetagrids(angles*180/np.pi, label, fontproperties=\"Microsoft Yahei\") #设置网格标签\n",
    "ax.plot(x1,y1,\"-\")\n",
    "\n",
    "# ax.set_rlim(0,100) #设置显示的极径范围\n",
    "ax.fill(x1,y1,facecolor='b', alpha=0.2) #填充颜色\n",
    "ax.set_rlabel_position(15)\n",
    "ax.set_title(name+'水平天线图',fontproperties=\"SimHei\",fontsize=16) #设置标题\n",
    "plt.savefig(\"c:/Users/Administrator/Desktop/\"+name+'水平天线图.png')\n",
    "plt.show()"
   ]
  },
  {
   "cell_type": "code",
   "execution_count": null,
   "metadata": {
    "ExecuteTime": {
     "end_time": "2020-08-31T05:35:12.101446Z",
     "start_time": "2020-08-31T05:35:11.158826Z"
    }
   },
   "outputs": [],
   "source": [
    "fig=plt.figure(figsize=(10,13))\n",
    "ax=fig.add_subplot(111,polar=True) #设置一个坐标轴为极坐标体系\n",
    "ax.set_thetagrids(np.arange(0.0, 360.0, 10.0)) # 用于设置极坐标角度网格线显示\n",
    "ax.set_theta_zero_location('N') #设置极坐标0°位置\n",
    "ax.set_theta_direction(-1) # 用于设置极坐标的正方向，参数为-1时为顺时针方向；反之。\n",
    "\n",
    "y=np.array([float(i)*-1 for i in dianping_2]).astype(float) #提取英雄的信息\n",
    "x = np.linspace(0, 2*np.pi, 360, endpoint=False) #data1里有几个数据，就把整圆360°分成几份\n",
    "x1 = np.concatenate((x, [x[0]])) #将x的第一个值添加到原来的x组成第一个和最后一个元素一致的新列表，以实现x闭合\n",
    "y1 = np.concatenate((y, [y[0]])) #将y的第一个值添加到原来的y组成第一个和最后一个元素一致的新列表，以实现y闭合\n",
    "\n",
    "#绘制极坐标\n",
    "# ax.set_thetagrids(angles*180/np.pi, label, fontproperties=\"Microsoft Yahei\") #设置网格标签\n",
    "ax.plot(x1,y1,\"-\")\n",
    "\n",
    "# ax.set_rlim(0,-0) #设置显示的极径范围\n",
    "ax.fill(x1,y1,facecolor='b', alpha=0.2) #填充颜色\n",
    "ax.set_rlabel_position(15)\n",
    "ax.set_title(name+'垂直天线图',fontproperties=\"SimHei\",fontsize=16) #设置标题\n",
    "plt.savefig(\"c:/Users/Administrator/Desktop/\"+name+'垂直天线图.png')\n",
    "plt.show()"
   ]
  },
  {
   "cell_type": "code",
   "execution_count": null,
   "metadata": {
    "ExecuteTime": {
     "end_time": "2020-08-31T05:35:12.679019Z",
     "start_time": "2020-08-31T05:35:12.667517Z"
    }
   },
   "outputs": [],
   "source": [
    "name"
   ]
  },
  {
   "cell_type": "markdown",
   "metadata": {},
   "source": [
    "# 第三种方案"
   ]
  },
  {
   "cell_type": "code",
   "execution_count": null,
   "metadata": {
    "ExecuteTime": {
     "end_time": "2020-09-27T13:23:27.703039Z",
     "start_time": "2020-09-27T13:23:27.686037Z"
    }
   },
   "outputs": [],
   "source": [
    "name = '低增益-ODI2-065R15G18C_G_0下倾角-P3_935_HV'\n",
    "mx=pd.read_csv('c:/Users/Administrator/Desktop/天线/4+4低增益天线900M方向图测试文件/4+4低增益天线900M方向图测试文件/ODI2-065R15G18C_G_0下倾角/P3_935_HV.pla',encoding='gbk')"
   ]
  },
  {
   "cell_type": "code",
   "execution_count": null,
   "metadata": {
    "ExecuteTime": {
     "end_time": "2020-09-03T06:17:53.684939Z",
     "start_time": "2020-09-03T06:17:53.680939Z"
    }
   },
   "outputs": [],
   "source": [
    "mx.shape"
   ]
  },
  {
   "cell_type": "code",
   "execution_count": null,
   "metadata": {
    "ExecuteTime": {
     "end_time": "2020-09-03T06:17:53.868963Z",
     "start_time": "2020-09-03T06:17:53.864962Z"
    }
   },
   "outputs": [],
   "source": [
    "mx =mx.iloc[5:,]"
   ]
  },
  {
   "cell_type": "code",
   "execution_count": null,
   "metadata": {
    "ExecuteTime": {
     "end_time": "2020-09-03T06:17:54.091491Z",
     "start_time": "2020-09-03T06:17:54.050486Z"
    }
   },
   "outputs": [],
   "source": [
    "def trim(s):\n",
    "    import re\n",
    "    for x in s:\n",
    "        if x.startswith(' ') or x.endswith(' '):\n",
    "            return re.sub(r\"^(\\s+)|(\\s+)$\", \"\", x)\n",
    "    return s\n",
    "mx['xin'] = mx.apply(trim,axis=1)"
   ]
  },
  {
   "cell_type": "code",
   "execution_count": null,
   "metadata": {
    "ExecuteTime": {
     "end_time": "2020-09-03T06:17:54.251511Z",
     "start_time": "2020-09-03T06:17:54.231509Z"
    }
   },
   "outputs": [],
   "source": [
    "gs2 = mx['xin'].str.replace('\\s+','_').str.split('_',expand=True)\n",
    "gs3 = gs2.fillna('#')\n",
    "gs4 = gs3.loc[gs3[0].str.isdigit()]\n",
    "gs4 = gs4.reset_index(drop=True)"
   ]
  },
  {
   "cell_type": "code",
   "execution_count": null,
   "metadata": {
    "ExecuteTime": {
     "end_time": "2020-09-03T06:17:54.440535Z",
     "start_time": "2020-09-03T06:17:54.416532Z"
    }
   },
   "outputs": [],
   "source": [
    "gs4.iloc[0:360,].to_clipboard()"
   ]
  },
  {
   "cell_type": "code",
   "execution_count": null,
   "metadata": {
    "ExecuteTime": {
     "end_time": "2020-09-03T06:17:54.599556Z",
     "start_time": "2020-09-03T06:17:54.592055Z"
    }
   },
   "outputs": [],
   "source": [
    "dianping = list(gs4.iloc[0:360,][1])\n",
    "jiaodu = list(gs4.iloc[0:360,][0])\n",
    "dianping_2 = list(gs4.iloc[360:,][1])\n",
    "jiaodu_2 = list(gs4.iloc[360:,][0])\n",
    "gs4.shape"
   ]
  },
  {
   "cell_type": "code",
   "execution_count": null,
   "metadata": {
    "ExecuteTime": {
     "end_time": "2020-09-03T06:17:54.778578Z",
     "start_time": "2020-09-03T06:17:54.775578Z"
    }
   },
   "outputs": [],
   "source": [
    "mmin =gs4.iloc[0:360,][1]"
   ]
  },
  {
   "cell_type": "code",
   "execution_count": null,
   "metadata": {
    "ExecuteTime": {
     "end_time": "2020-09-03T06:17:54.940099Z",
     "start_time": "2020-09-03T06:17:54.937098Z"
    }
   },
   "outputs": [],
   "source": [
    "mmin = pd.to_numeric(mmin)"
   ]
  },
  {
   "cell_type": "code",
   "execution_count": null,
   "metadata": {
    "ExecuteTime": {
     "end_time": "2020-09-03T06:17:55.125622Z",
     "start_time": "2020-09-03T06:17:55.121622Z"
    }
   },
   "outputs": [],
   "source": [
    "mmin.min()"
   ]
  },
  {
   "cell_type": "code",
   "execution_count": null,
   "metadata": {
    "ExecuteTime": {
     "end_time": "2020-09-03T06:17:55.404658Z",
     "start_time": "2020-09-03T06:17:55.310146Z"
    }
   },
   "outputs": [],
   "source": [
    "mmin2 = 0-mmin"
   ]
  },
  {
   "cell_type": "code",
   "execution_count": null,
   "metadata": {
    "ExecuteTime": {
     "end_time": "2020-09-03T06:17:55.492169Z",
     "start_time": "2020-09-03T06:17:55.488168Z"
    }
   },
   "outputs": [],
   "source": [
    "mmin2.min()"
   ]
  },
  {
   "cell_type": "code",
   "execution_count": null,
   "metadata": {
    "ExecuteTime": {
     "end_time": "2020-09-03T06:17:56.430788Z",
     "start_time": "2020-09-03T06:17:55.679693Z"
    }
   },
   "outputs": [],
   "source": [
    "fig=plt.figure(figsize=(10,13))\n",
    "ax=fig.add_subplot(111,polar=True) #设置一个坐标轴为极坐标体系\n",
    "ax.set_thetagrids(np.arange(0.0, 360.0, 10.0)) # 用于设置极坐标角度网格线显示\n",
    "ax.set_theta_zero_location('N') #设置极坐标0°位置\n",
    "ax.set_theta_direction(-1) # 用于设置极坐标的正方向，参数为-1时为顺时针方向；反之。\n",
    "\n",
    "y=np.array([float(i)*-1-mmin2.min() for i in dianping]).astype(float) #提取英雄的信息\n",
    "x = np.linspace(0, 2*np.pi, 360, endpoint=False) #data1里有几个数据，就把整圆360°分成几份\n",
    "x1 = np.concatenate((x, [x[0]])) #将x的第一个值添加到原来的x组成第一个和最后一个元素一致的新列表，以实现x闭合\n",
    "y1 = np.concatenate((y, [y[0]])) #将y的第一个值添加到原来的y组成第一个和最后一个元素一致的新列表，以实现y闭合\n",
    "\n",
    "#绘制极坐标\n",
    "# ax.set_thetagrids(angles*180/np.pi, label, fontproperties=\"Microsoft Yahei\") #设置网格标签\n",
    "ax.plot(x1,y1,\"-\")\n",
    "\n",
    "# ax.set_rlim(0,100) #设置显示的极径范围\n",
    "ax.fill(x1,y1,facecolor='b', alpha=0.2) #填充颜色\n",
    "ax.set_rlabel_position(15)\n",
    "ax.set_title(name+'水平天线图',fontproperties=\"SimHei\",fontsize=16) #设置标题\n",
    "plt.savefig(\"c:/Users/Administrator/Desktop/\"+name+'水平天线图.png')\n",
    "plt.show()"
   ]
  },
  {
   "cell_type": "code",
   "execution_count": null,
   "metadata": {
    "ExecuteTime": {
     "end_time": "2020-08-31T12:08:54.484427Z",
     "start_time": "2020-08-31T12:08:53.617817Z"
    }
   },
   "outputs": [],
   "source": [
    "fig=plt.figure(figsize=(10,13))\n",
    "ax=fig.add_subplot(111,polar=True) #设置一个坐标轴为极坐标体系\n",
    "ax.set_thetagrids(np.arange(0.0, 360.0, 10.0)) # 用于设置极坐标角度网格线显示\n",
    "ax.set_theta_zero_location('N') #设置极坐标0°位置\n",
    "ax.set_theta_direction(-1) # 用于设置极坐标的正方向，参数为-1时为顺时针方向；反之。\n",
    "\n",
    "y=np.array([float(i)*-1 for i in dianping_2]).astype(float) #提取英雄的信息\n",
    "x = np.linspace(0, 2*np.pi, 360, endpoint=False) #data1里有几个数据，就把整圆360°分成几份\n",
    "x1 = np.concatenate((x, [x[0]])) #将x的第一个值添加到原来的x组成第一个和最后一个元素一致的新列表，以实现x闭合\n",
    "y1 = np.concatenate((y, [y[0]])) #将y的第一个值添加到原来的y组成第一个和最后一个元素一致的新列表，以实现y闭合\n",
    "\n",
    "#绘制极坐标\n",
    "# ax.set_thetagrids(angles*180/np.pi, label, fontproperties=\"Microsoft Yahei\") #设置网格标签\n",
    "ax.plot(x1,y1,\"-\")\n",
    "\n",
    "# ax.set_rlim(0,-0) #设置显示的极径范围\n",
    "ax.fill(x1,y1,facecolor='b', alpha=0.2) #填充颜色\n",
    "ax.set_rlabel_position(15)\n",
    "ax.set_title(name+'垂直天线图',fontproperties=\"SimHei\",fontsize=16) #设置标题\n",
    "plt.savefig(\"c:/Users/Administrator/Desktop/\"+name+'垂直天线图.png')\n",
    "plt.show()"
   ]
  },
  {
   "cell_type": "code",
   "execution_count": null,
   "metadata": {
    "ExecuteTime": {
     "end_time": "2020-08-31T12:08:54.654949Z",
     "start_time": "2020-08-31T12:08:54.650448Z"
    }
   },
   "outputs": [],
   "source": [
    "name"
   ]
  },
  {
   "cell_type": "code",
   "execution_count": null,
   "metadata": {},
   "outputs": [],
   "source": []
  },
  {
   "cell_type": "code",
   "execution_count": null,
   "metadata": {},
   "outputs": [],
   "source": []
  },
  {
   "cell_type": "code",
   "execution_count": null,
   "metadata": {
    "ExecuteTime": {
     "end_time": "2020-09-01T02:41:52.391077Z",
     "start_time": "2020-09-01T02:41:52.385076Z"
    }
   },
   "outputs": [],
   "source": [
    "xz = [y2*np.cos(x2) for x2,y2 in zip(x1,y1)]\n",
    "yz = [y2*np.sin(x2) for x2,y2 in zip(x1,y1)]"
   ]
  },
  {
   "cell_type": "code",
   "execution_count": null,
   "metadata": {
    "ExecuteTime": {
     "end_time": "2020-09-01T02:41:52.801129Z",
     "start_time": "2020-09-01T02:41:52.597603Z"
    }
   },
   "outputs": [],
   "source": [
    "fig=plt.figure(figsize=(10,13))\n",
    "ax=fig.add_subplot(111) #设置一个坐标轴为极坐标体系\n",
    "ax.plot(yz,xz,'o')\n",
    "ax.fill(yz,xz,facecolor='b', alpha=0.2) #填充颜色\n",
    "plt.show()"
   ]
  },
  {
   "cell_type": "markdown",
   "metadata": {},
   "source": [
    "# 度数变成经纬度"
   ]
  },
  {
   "cell_type": "code",
   "execution_count": null,
   "metadata": {
    "ExecuteTime": {
     "end_time": "2020-09-03T06:23:36.719999Z",
     "start_time": "2020-09-03T06:23:36.716999Z"
    }
   },
   "outputs": [],
   "source": [
    "jd_dp = gs3.iloc[0:360,]"
   ]
  },
  {
   "cell_type": "code",
   "execution_count": null,
   "metadata": {
    "ExecuteTime": {
     "end_time": "2020-09-03T06:23:37.105048Z",
     "start_time": "2020-09-03T06:23:37.102548Z"
    }
   },
   "outputs": [],
   "source": [
    "# jd_dp = data_use.copy()"
   ]
  },
  {
   "cell_type": "code",
   "execution_count": null,
   "metadata": {
    "ExecuteTime": {
     "end_time": "2020-09-03T06:23:37.324076Z",
     "start_time": "2020-09-03T06:23:37.321576Z"
    }
   },
   "outputs": [],
   "source": [
    "# jd_dp = gs4.iloc[0:360,]"
   ]
  },
  {
   "cell_type": "code",
   "execution_count": null,
   "metadata": {
    "ExecuteTime": {
     "end_time": "2020-09-03T06:23:37.518601Z",
     "start_time": "2020-09-03T06:23:37.515600Z"
    }
   },
   "outputs": [],
   "source": [
    "jd_dp.columns = ['角度','电平']"
   ]
  },
  {
   "cell_type": "code",
   "execution_count": null,
   "metadata": {
    "ExecuteTime": {
     "end_time": "2020-09-03T06:23:37.784134Z",
     "start_time": "2020-09-03T06:23:37.779134Z"
    }
   },
   "outputs": [],
   "source": [
    "jd_dp['电平'] = pd.to_numeric(jd_dp['电平'] )\n",
    "jd_dp['角度'] = pd.to_numeric(jd_dp['角度'] )"
   ]
  },
  {
   "cell_type": "code",
   "execution_count": null,
   "metadata": {
    "ExecuteTime": {
     "end_time": "2020-09-03T06:23:38.151681Z",
     "start_time": "2020-09-03T06:23:38.147681Z"
    }
   },
   "outputs": [],
   "source": [
    "jd_dp['电平'] = 0 - jd_dp['电平']"
   ]
  },
  {
   "cell_type": "code",
   "execution_count": null,
   "metadata": {
    "ExecuteTime": {
     "end_time": "2020-09-03T06:23:38.569734Z",
     "start_time": "2020-09-03T06:23:38.565234Z"
    }
   },
   "outputs": [],
   "source": [
    "jd_dp['电平'].max()"
   ]
  },
  {
   "cell_type": "code",
   "execution_count": null,
   "metadata": {
    "ExecuteTime": {
     "end_time": "2020-09-03T06:23:38.965284Z",
     "start_time": "2020-09-03T06:23:38.960784Z"
    }
   },
   "outputs": [],
   "source": [
    "jd_dp['电平'].min()"
   ]
  },
  {
   "cell_type": "code",
   "execution_count": null,
   "metadata": {
    "ExecuteTime": {
     "end_time": "2020-09-03T06:23:39.368336Z",
     "start_time": "2020-09-03T06:23:39.363835Z"
    }
   },
   "outputs": [],
   "source": [
    "jd_dp['电平'].max()+jd_dp['电平'].min()"
   ]
  },
  {
   "cell_type": "code",
   "execution_count": null,
   "metadata": {
    "ExecuteTime": {
     "end_time": "2020-09-03T06:23:39.923906Z",
     "start_time": "2020-09-03T06:23:39.918906Z"
    }
   },
   "outputs": [],
   "source": [
    "jd_dp['电平_正'] = jd_dp['电平']+abs(jd_dp['电平'].max()+jd_dp['电平'].min())"
   ]
  },
  {
   "cell_type": "code",
   "execution_count": null,
   "metadata": {
    "ExecuteTime": {
     "end_time": "2020-09-03T06:23:40.506980Z",
     "start_time": "2020-09-03T06:23:40.502980Z"
    }
   },
   "outputs": [],
   "source": [
    "jd_dp['电平_正'].max()"
   ]
  },
  {
   "cell_type": "code",
   "execution_count": null,
   "metadata": {
    "ExecuteTime": {
     "end_time": "2020-09-03T06:23:41.238073Z",
     "start_time": "2020-09-03T06:23:41.235573Z"
    }
   },
   "outputs": [],
   "source": [
    "import mytools"
   ]
  },
  {
   "cell_type": "code",
   "execution_count": null,
   "metadata": {
    "ExecuteTime": {
     "end_time": "2020-09-27T13:23:50.271905Z",
     "start_time": "2020-09-27T13:23:49.923861Z"
    }
   },
   "outputs": [],
   "source": [
    "import mytools"
   ]
  },
  {
   "cell_type": "code",
   "execution_count": null,
   "metadata": {
    "ExecuteTime": {
     "end_time": "2020-09-27T13:23:50.314911Z",
     "start_time": "2020-09-27T13:23:50.280906Z"
    }
   },
   "outputs": [],
   "source": [
    "mytools.othern.pickle_save(jd_dp,'d:/覆盖模型.data')"
   ]
  },
  {
   "cell_type": "code",
   "execution_count": null,
   "metadata": {
    "ExecuteTime": {
     "end_time": "2020-09-03T06:22:08.625313Z",
     "start_time": "2020-09-03T06:22:08.620312Z"
    }
   },
   "outputs": [],
   "source": [
    "jd_dp['距离'] = jd_dp['电平_正'].apply(lambda x: x/37.052 *1000)"
   ]
  },
  {
   "cell_type": "code",
   "execution_count": null,
   "metadata": {
    "ExecuteTime": {
     "end_time": "2020-09-03T06:22:10.731580Z",
     "start_time": "2020-09-03T06:22:10.719079Z"
    }
   },
   "outputs": [],
   "source": [
    "jd_dp.to_clipboard()"
   ]
  },
  {
   "cell_type": "code",
   "execution_count": null,
   "metadata": {
    "ExecuteTime": {
     "end_time": "2020-09-03T06:18:55.404277Z",
     "start_time": "2020-09-03T06:18:55.399776Z"
    }
   },
   "outputs": [],
   "source": [
    "jd_dp_use = jd_dp.loc[(jd_dp['角度']<=90) | (jd_dp['角度']>=270)]"
   ]
  },
  {
   "cell_type": "code",
   "execution_count": null,
   "metadata": {
    "ExecuteTime": {
     "end_time": "2020-09-02T03:31:28.876296Z",
     "start_time": "2020-09-02T03:31:28.873296Z"
    }
   },
   "outputs": [],
   "source": [
    "lon,lat=114.09603,30.297293\n",
    "fw = 0"
   ]
  },
  {
   "cell_type": "code",
   "execution_count": null,
   "metadata": {
    "ExecuteTime": {
     "end_time": "2020-09-02T03:31:29.459370Z",
     "start_time": "2020-09-02T03:31:29.455370Z"
    }
   },
   "outputs": [],
   "source": [
    "jd_dp_use['角度'] = pd.to_numeric(jd_dp_use['角度'] )"
   ]
  },
  {
   "cell_type": "code",
   "execution_count": null,
   "metadata": {
    "ExecuteTime": {
     "end_time": "2020-09-02T03:31:29.963434Z",
     "start_time": "2020-09-02T03:31:29.957433Z"
    },
    "scrolled": true
   },
   "outputs": [],
   "source": [
    "jd_dp_use['角度2'] = jd_dp_use['角度'].apply(lambda x: x-0+fw if x-0+fw<360 else x-0+fw-360 )"
   ]
  },
  {
   "cell_type": "code",
   "execution_count": null,
   "metadata": {
    "ExecuteTime": {
     "end_time": "2020-09-02T03:31:30.497002Z",
     "start_time": "2020-09-02T03:31:30.475999Z"
    }
   },
   "outputs": [],
   "source": [
    "points=[]\n",
    "dict_use = dict()\n",
    "for jiao , jl in zip(jd_dp_use['角度2'],jd_dp_use['距离']):\n",
    "    res = Geodesic.WGS84.Direct(lat, lon, jiao, jl)\n",
    "    if jiao%10==0:\n",
    "        dict_use[jiao]=res['lon2'], res['lat2']\n",
    "    points.append((res['lon2'], res['lat2']))\n",
    "points.append(points[0])"
   ]
  },
  {
   "cell_type": "code",
   "execution_count": null,
   "metadata": {
    "ExecuteTime": {
     "end_time": "2020-09-02T03:31:31.294603Z",
     "start_time": "2020-09-02T03:31:31.289603Z"
    }
   },
   "outputs": [],
   "source": [
    "Polygon(points)"
   ]
  },
  {
   "cell_type": "code",
   "execution_count": null,
   "metadata": {
    "ExecuteTime": {
     "end_time": "2020-09-02T03:31:32.042698Z",
     "start_time": "2020-09-02T03:31:32.039698Z"
    }
   },
   "outputs": [],
   "source": [
    "pol = Polygon(points)"
   ]
  },
  {
   "cell_type": "code",
   "execution_count": null,
   "metadata": {
    "ExecuteTime": {
     "end_time": "2020-09-02T03:32:32.446369Z",
     "start_time": "2020-09-02T03:32:32.442868Z"
    }
   },
   "outputs": [],
   "source": [
    "lins=[]\n",
    "for key,data_t in dict_use.items():\n",
    "    lon2,lat2=data_t\n",
    "    lins.append((lon,lat))\n",
    "    lins.append((lon2,lat2))"
   ]
  },
  {
   "cell_type": "code",
   "execution_count": null,
   "metadata": {
    "ExecuteTime": {
     "end_time": "2020-09-02T03:32:33.027942Z",
     "start_time": "2020-09-02T03:32:33.024442Z"
    }
   },
   "outputs": [],
   "source": [
    "lins = [LineString([(lon, lat), (data_t[0], data_t[1])]) for key,data_t in dict_use.items()]"
   ]
  },
  {
   "cell_type": "code",
   "execution_count": null,
   "metadata": {
    "ExecuteTime": {
     "end_time": "2020-09-02T03:32:33.993565Z",
     "start_time": "2020-09-02T03:32:33.990565Z"
    }
   },
   "outputs": [],
   "source": [
    "from shapely.ops import unary_union\n",
    "\n",
    "buffer_size = 0.00000000001\n",
    "lines_buffered = [line.buffer(buffer_size) for line in lins]\n",
    "quadrats = unary_union(lines_buffered)\n",
    "multipoly = pol.difference(quadrats)\n",
    "multipoly"
   ]
  },
  {
   "cell_type": "code",
   "execution_count": null,
   "metadata": {
    "ExecuteTime": {
     "end_time": "2020-09-01T04:46:07.079202Z",
     "start_time": "2020-09-01T04:46:07.074701Z"
    }
   },
   "outputs": [],
   "source": [
    "lin2 = unary_union(lin)"
   ]
  },
  {
   "cell_type": "code",
   "execution_count": null,
   "metadata": {
    "ExecuteTime": {
     "end_time": "2020-09-01T04:46:10.169094Z",
     "start_time": "2020-09-01T04:46:10.162593Z"
    }
   },
   "outputs": [],
   "source": [
    "pol.difference(lin2)"
   ]
  },
  {
   "cell_type": "code",
   "execution_count": null,
   "metadata": {
    "ExecuteTime": {
     "end_time": "2020-09-01T04:39:55.552524Z",
     "start_time": "2020-09-01T04:39:55.545023Z"
    }
   },
   "outputs": [],
   "source": [
    "pol.difference(lin)"
   ]
  },
  {
   "cell_type": "code",
   "execution_count": null,
   "metadata": {
    "ExecuteTime": {
     "end_time": "2020-08-31T08:42:52.985896Z",
     "start_time": "2020-08-31T08:42:52.975395Z"
    }
   },
   "outputs": [],
   "source": [
    "gs4"
   ]
  },
  {
   "cell_type": "markdown",
   "metadata": {},
   "source": [
    "# 一批小区生成天线方向图，kml格式"
   ]
  },
  {
   "cell_type": "code",
   "execution_count": null,
   "metadata": {
    "ExecuteTime": {
     "end_time": "2020-09-01T05:48:02.806039Z",
     "start_time": "2020-09-01T05:48:02.803039Z"
    }
   },
   "outputs": [],
   "source": [
    "import geopandas as gpd"
   ]
  },
  {
   "cell_type": "code",
   "execution_count": null,
   "metadata": {
    "ExecuteTime": {
     "end_time": "2020-09-01T05:45:39.427832Z",
     "start_time": "2020-09-01T05:45:17.741079Z"
    }
   },
   "outputs": [],
   "source": [
    "data = pd.read_excel('c:/Users/Administrator/Desktop/站点覆盖图制作.xlsx')"
   ]
  },
  {
   "cell_type": "code",
   "execution_count": null,
   "metadata": {
    "ExecuteTime": {
     "end_time": "2020-09-01T05:45:39.518344Z",
     "start_time": "2020-09-01T05:45:39.512843Z"
    }
   },
   "outputs": [],
   "source": [
    "moxing = mytools.othern.pickle_read('d:/覆盖模型.data')"
   ]
  },
  {
   "cell_type": "code",
   "execution_count": null,
   "metadata": {
    "ExecuteTime": {
     "end_time": "2020-09-01T05:46:48.198065Z",
     "start_time": "2020-09-01T05:46:48.187064Z"
    }
   },
   "outputs": [],
   "source": [
    "def jm(x):\n",
    "    jl = int(x['距离'])\n",
    "    lon = x['lon']\n",
    "    lat = x['lat']\n",
    "    fw = x['方位角']\n",
    "    jd_dp['距离'] = jd_dp['电平_正'].apply(lambda x: x/37.052 *jl)\n",
    "    jd_dp_use = jd_dp.loc[(jd_dp['角度']<=90) | (jd_dp['角度']>=270)]\n",
    "    jd_dp_use['角度'] = pd.to_numeric(jd_dp_use['角度'] )\n",
    "    jd_dp_use['角度2'] = jd_dp_use['角度'].apply(lambda x: x-0+fw if x-0+fw<360 else x-0+fw-360 )\n",
    "    points=[]\n",
    "    dict_use = dict()\n",
    "    for jiao , jl in zip(jd_dp_use['角度2'],jd_dp_use['距离']):\n",
    "        res = Geodesic.WGS84.Direct(lat, lon, jiao, jl)\n",
    "        if jiao%10==0:\n",
    "            dict_use[jiao]=res['lon2'], res['lat2']\n",
    "        points.append((res['lon2'], res['lat2']))\n",
    "    points.append(points[0])\n",
    "    return Polygon(points)"
   ]
  },
  {
   "cell_type": "code",
   "execution_count": null,
   "metadata": {
    "ExecuteTime": {
     "end_time": "2020-09-01T05:47:05.527766Z",
     "start_time": "2020-09-01T05:47:02.089329Z"
    }
   },
   "outputs": [],
   "source": [
    "data['geolin'] = data.apply(jm,axis=1)"
   ]
  },
  {
   "cell_type": "code",
   "execution_count": null,
   "metadata": {
    "ExecuteTime": {
     "end_time": "2020-09-01T05:48:05.086829Z",
     "start_time": "2020-09-01T05:48:05.078828Z"
    }
   },
   "outputs": [],
   "source": [
    "gdfdata = gpd.GeoDataFrame(data, crs={'init': 'epsg:4326'},geometry='geolin')"
   ]
  },
  {
   "cell_type": "code",
   "execution_count": null,
   "metadata": {
    "ExecuteTime": {
     "end_time": "2020-09-01T05:48:20.838829Z",
     "start_time": "2020-09-01T05:48:20.821827Z"
    }
   },
   "outputs": [],
   "source": [
    "gdfdata.to_pickle('d:/linshi2.data')"
   ]
  },
  {
   "cell_type": "code",
   "execution_count": null,
   "metadata": {},
   "outputs": [],
   "source": []
  }
 ],
 "metadata": {
  "kernelspec": {
   "display_name": "Python 3",
   "language": "python",
   "name": "python3"
  },
  "language_info": {
   "codemirror_mode": {
    "name": "ipython",
    "version": 3
   },
   "file_extension": ".py",
   "mimetype": "text/x-python",
   "name": "python",
   "nbconvert_exporter": "python",
   "pygments_lexer": "ipython3",
   "version": "3.7.4"
  },
  "toc": {
   "base_numbering": 1,
   "nav_menu": {},
   "number_sections": true,
   "sideBar": true,
   "skip_h1_title": false,
   "title_cell": "Table of Contents",
   "title_sidebar": "Contents",
   "toc_cell": false,
   "toc_position": {},
   "toc_section_display": true,
   "toc_window_display": false
  },
  "varInspector": {
   "cols": {
    "lenName": 16,
    "lenType": 16,
    "lenVar": 40
   },
   "kernels_config": {
    "python": {
     "delete_cmd_postfix": "",
     "delete_cmd_prefix": "del ",
     "library": "var_list.py",
     "varRefreshCmd": "print(var_dic_list())"
    },
    "r": {
     "delete_cmd_postfix": ") ",
     "delete_cmd_prefix": "rm(",
     "library": "var_list.r",
     "varRefreshCmd": "cat(var_dic_list()) "
    }
   },
   "types_to_exclude": [
    "module",
    "function",
    "builtin_function_or_method",
    "instance",
    "_Feature"
   ],
   "window_display": false
  }
 },
 "nbformat": 4,
 "nbformat_minor": 2
}
