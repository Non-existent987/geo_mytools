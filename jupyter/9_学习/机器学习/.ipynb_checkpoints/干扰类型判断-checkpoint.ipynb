{
 "cells": [
  {
   "cell_type": "code",
   "execution_count": null,
   "metadata": {
    "ExecuteTime": {
     "end_time": "2020-07-23T09:10:17.495777Z",
     "start_time": "2020-07-23T09:10:14.212360Z"
    }
   },
   "outputs": [],
   "source": [
    "import numpy as np\n",
    "import pandas as pd\n",
    "import matplotlib.pyplot as plt\n",
    "import warnings\n",
    "from sklearn import neighbors\n",
    "warnings.filterwarnings('ignore') \n",
    "#不发出警告"
   ]
  },
  {
   "cell_type": "code",
   "execution_count": null,
   "metadata": {
    "ExecuteTime": {
     "end_time": "2020-07-23T09:31:17.523280Z",
     "start_time": "2020-07-23T09:31:16.560158Z"
    }
   },
   "outputs": [],
   "source": [
    "data_use=pd.read_excel('e:/无标题.xlsx')"
   ]
  },
  {
   "cell_type": "code",
   "execution_count": null,
   "metadata": {
    "ExecuteTime": {
     "end_time": "2020-07-23T09:30:56.257580Z",
     "start_time": "2020-07-23T09:30:56.232577Z"
    }
   },
   "outputs": [],
   "source": [
    "data.head(1)"
   ]
  },
  {
   "cell_type": "code",
   "execution_count": null,
   "metadata": {
    "ExecuteTime": {
     "end_time": "2020-07-23T09:31:03.814040Z",
     "start_time": "2020-07-23T09:31:03.801538Z"
    },
    "scrolled": true
   },
   "outputs": [],
   "source": [
    "data = pd.DataFrame({'name':['北京遇上西雅图','喜欢你','疯狂动物城','战狼2','力王','敢死队'],\n",
    "                  'fight':[3,2,1,101,99,98],\n",
    "                  'kiss':[104,100,81,10,5,2],\n",
    "                  'type':['Romance','Romance','Romance','Action','Action','Action']})\n",
    "data"
   ]
  },
  {
   "cell_type": "code",
   "execution_count": null,
   "metadata": {
    "ExecuteTime": {
     "end_time": "2020-07-23T09:31:04.378611Z",
     "start_time": "2020-07-23T09:31:04.371110Z"
    }
   },
   "outputs": [],
   "source": [
    "knn = neighbors.KNeighborsClassifier()   # 取得knn分类器\n",
    "knn.fit(data[['fight','kiss']], data['type'])\n",
    "print('预测电影类型为:', knn.predict([[18, 90]]))\n",
    "# 加载数据，构建KNN分类模型\n",
    "# 预测未知数据"
   ]
  },
  {
   "cell_type": "code",
   "execution_count": null,
   "metadata": {
    "ExecuteTime": {
     "end_time": "2020-07-23T09:31:05.090202Z",
     "start_time": "2020-07-23T09:31:04.841170Z"
    }
   },
   "outputs": [],
   "source": [
    "plt.figure(figsize = (12,8))\n",
    "plt.scatter(data[data['type'] == 'Romance']['fight'],data[data['type'] == 'Romance']['kiss'],color = 'r',marker = 'o',label = 'Romance')\n",
    "plt.scatter(data[data['type'] == 'Action']['fight'],data[data['type'] == 'Action']['kiss'],color = 'g',marker = 'o',label = 'Action')\n",
    "plt.grid()\n",
    "plt.legend()\n",
    "plt.scatter(18,90,color = 'r',marker = 'x',label = 'Romance')\n",
    "plt.ylabel('kiss')\n",
    "plt.xlabel('fight')\n",
    "plt.text(18,90,'《你的名字》',color = 'r')"
   ]
  },
  {
   "cell_type": "code",
   "execution_count": null,
   "metadata": {
    "ExecuteTime": {
     "end_time": "2020-07-23T09:31:42.257921Z",
     "start_time": "2020-07-23T09:31:42.239919Z"
    }
   },
   "outputs": [],
   "source": [
    "data_A = data_use.copy()\n",
    "data_A.head(1)"
   ]
  },
  {
   "cell_type": "code",
   "execution_count": null,
   "metadata": {
    "ExecuteTime": {
     "end_time": "2020-07-23T09:32:14.598528Z",
     "start_time": "2020-07-23T09:32:14.591527Z"
    }
   },
   "outputs": [],
   "source": [
    "data_A = data_A.fillna({'NIL':-120})\n",
    "df_cols = data_A.columns[2:-2:5][:-1]\n",
    "df_cols"
   ]
  },
  {
   "cell_type": "code",
   "execution_count": null,
   "metadata": {
    "ExecuteTime": {
     "end_time": "2020-07-23T09:32:28.121745Z",
     "start_time": "2020-07-23T09:32:28.103743Z"
    }
   },
   "outputs": [],
   "source": [
    "data_A[data_A['小区名称'] == 'D_信韵百分百酒店-H5H-2611']"
   ]
  },
  {
   "cell_type": "code",
   "execution_count": null,
   "metadata": {
    "ExecuteTime": {
     "end_time": "2020-07-23T09:38:11.831391Z",
     "start_time": "2020-07-23T09:38:11.825890Z"
    }
   },
   "outputs": [],
   "source": [
    "data_B = data_use.drop(columns='干扰类型').copy()"
   ]
  },
  {
   "cell_type": "code",
   "execution_count": null,
   "metadata": {
    "ExecuteTime": {
     "end_time": "2020-07-23T09:42:04.085883Z",
     "start_time": "2020-07-23T09:42:04.069881Z"
    }
   },
   "outputs": [],
   "source": [
    "data_B.head(1)"
   ]
  },
  {
   "cell_type": "code",
   "execution_count": null,
   "metadata": {
    "ExecuteTime": {
     "end_time": "2020-07-23T09:38:14.627246Z",
     "start_time": "2020-07-23T09:38:14.610244Z"
    }
   },
   "outputs": [],
   "source": [
    "data_A.head(1)"
   ]
  },
  {
   "cell_type": "code",
   "execution_count": null,
   "metadata": {
    "ExecuteTime": {
     "end_time": "2020-07-23T09:38:16.270455Z",
     "start_time": "2020-07-23T09:38:16.176443Z"
    }
   },
   "outputs": [],
   "source": [
    "#KNN分类\n",
    "import sklearn\n",
    "import numpy as np\n",
    "from sklearn import neighbors\n",
    "from sklearn.preprocessing import LabelEncoder\n",
    "from sklearn.model_selection import cross_val_score\n",
    "knn=neighbors.KNeighborsClassifier(10,weights='distance',algorithm='auto')\n",
    "le=LabelEncoder()\n",
    "le.fit(data_A['干扰类型'])\n",
    "data_A['type']=le.transform(data_A['干扰类型'])\n",
    "y=le.transform(data_A['干扰类型'])\n",
    "features=df_cols\n",
    "print(features)\n",
    "x=data_A[features]\n",
    "data_A.dropna(inplace=True)\n",
    "#logistic中的scoring参数指定为accuracy\n",
    "scores=cross_val_score(knn,x,y,cv=20,scoring='accuracy')\n",
    "score=np.mean(scores)\n",
    "print(score)"
   ]
  },
  {
   "cell_type": "code",
   "execution_count": null,
   "metadata": {
    "ExecuteTime": {
     "end_time": "2020-07-23T09:38:18.329216Z",
     "start_time": "2020-07-23T09:38:18.325215Z"
    }
   },
   "outputs": [],
   "source": [
    "def KnnClassFire(colist):\n",
    "    knn.fit(x,y)\n",
    "    knn_type=knn.predict([colist])\n",
    "    knn_newtype=str(le.inverse_transform(knn_type))\n",
    "    return knn_newtype.replace(\"['\",\"\").replace(\"']\",\"\")"
   ]
  },
  {
   "cell_type": "code",
   "execution_count": null,
   "metadata": {},
   "outputs": [],
   "source": [
    "data_A.pivot_table()"
   ]
  },
  {
   "cell_type": "code",
   "execution_count": null,
   "metadata": {
    "ExecuteTime": {
     "end_time": "2020-07-23T09:38:18.876285Z",
     "start_time": "2020-07-23T09:38:18.805276Z"
    }
   },
   "outputs": [],
   "source": [
    "df_yc = data_B.columns[2:-2:5]\n",
    "data_A.loc[:,'预测类型'] = data_A.apply(lambda x: KnnClassFire(x[df_yc]),axis=1)"
   ]
  },
  {
   "cell_type": "code",
   "execution_count": null,
   "metadata": {
    "ExecuteTime": {
     "end_time": "2020-07-23T09:33:14.683658Z",
     "start_time": "2020-07-23T09:33:14.609648Z"
    }
   },
   "outputs": [],
   "source": [
    "data_A.to_excel(r\"e\\AAA.xlsx\",index=False,encoding='utf-8-sig')"
   ]
  },
  {
   "cell_type": "code",
   "execution_count": null,
   "metadata": {
    "ExecuteTime": {
     "end_time": "2020-07-23T09:11:25.507414Z",
     "start_time": "2020-07-23T09:11:25.495412Z"
    }
   },
   "outputs": [],
   "source": [
    "data_B.loc[:,'预测类型'] = data_B.apply(lambda x :KnnClassFire(x[df_yc]),axis=1)\n",
    "data_B.to_excel(r\"C:\\Users\\xWX783763\\Desktop\\脚本\\BBB.xlsx\",index=False,encoding='utf-8-sig')\n"
   ]
  },
  {
   "cell_type": "code",
   "execution_count": null,
   "metadata": {
    "ExecuteTime": {
     "end_time": "2020-07-23T09:11:25.654932Z",
     "start_time": "2020-07-23T09:11:25.639930Z"
    }
   },
   "outputs": [],
   "source": [
    "#Logistic回归归类\n",
    "import sklearn\n",
    "import numpy as np\n",
    "from sklearn import linear_model\n",
    "from sklearn.preprocessing import LabelEncoder\n",
    "from sklearn.model_selection import cross_val_score\n",
    "import numpy as np\n",
    "lm=linear_model.LogisticRegression()\n",
    "x=data_A[features]\n",
    "le=LabelEncoder()\n",
    "le.fit(data_A['干扰类型'])\n",
    "#用离散值转化标签值\n",
    "data_A['type']=le.transform(data_A['干扰类型'])\n",
    "y=le.transform(data_A['干扰类型'])\n",
    "#print(data_df['type'])\n",
    "model=lm.fit(x,y)\n",
    "#logistic中的scoring参数指定为accuracy\n",
    "scores=cross_val_score(lm,x,y,cv=20,scoring='accuracy')\n",
    "print(np.mean(scores))"
   ]
  },
  {
   "cell_type": "code",
   "execution_count": null,
   "metadata": {
    "ExecuteTime": {
     "end_time": "2020-07-23T09:11:25.920466Z",
     "start_time": "2020-07-23T09:11:25.790450Z"
    }
   },
   "outputs": [],
   "source": [
    "from sklearn.ensemble import RandomForestClassifier\n",
    "rf = RandomForestClassifier(oob_score=True, random_state=5)\n",
    "scores=cross_val_score(rf,x,y,cv=10,scoring='accuracy')\n",
    "score=np.mean(scores)\n",
    "print(score)"
   ]
  },
  {
   "cell_type": "code",
   "execution_count": null,
   "metadata": {
    "ExecuteTime": {
     "end_time": "2020-07-23T09:11:26.040981Z",
     "start_time": "2020-07-23T09:11:26.026980Z"
    }
   },
   "outputs": [],
   "source": [
    "from sklearn.tree import DecisionTreeClassifier\n",
    "clf = DecisionTreeClassifier(max_depth = 2,random_state = 0)\n",
    "scores=cross_val_score(clf,x,y,cv=10,scoring='accuracy')\n",
    "score=np.mean(scores)\n",
    "print(score)"
   ]
  },
  {
   "cell_type": "code",
   "execution_count": null,
   "metadata": {},
   "outputs": [],
   "source": []
  },
  {
   "cell_type": "code",
   "execution_count": null,
   "metadata": {},
   "outputs": [],
   "source": []
  },
  {
   "cell_type": "code",
   "execution_count": null,
   "metadata": {},
   "outputs": [],
   "source": []
  },
  {
   "cell_type": "code",
   "execution_count": null,
   "metadata": {
    "ExecuteTime": {
     "end_time": "2020-07-23T14:35:34.077068Z",
     "start_time": "2020-07-23T14:35:32.320845Z"
    }
   },
   "outputs": [],
   "source": [
    "data = pd.read_csv('E:/CDD_ERICLTE_FDDNB_OptionalFeatureLicense_200717_1440_00000000/CDD_ERICLTE_FDDNB_OptionalFeatureLicense_200717_1440_00000000.csv',encoding='gbk')"
   ]
  },
  {
   "cell_type": "code",
   "execution_count": null,
   "metadata": {
    "ExecuteTime": {
     "end_time": "2020-07-23T14:35:35.790786Z",
     "start_time": "2020-07-23T14:35:35.773784Z"
    }
   },
   "outputs": [],
   "source": [
    "data.head(1)"
   ]
  },
  {
   "cell_type": "code",
   "execution_count": null,
   "metadata": {
    "ExecuteTime": {
     "end_time": "2020-07-23T14:36:04.454426Z",
     "start_time": "2020-07-23T14:36:04.449925Z"
    }
   },
   "outputs": [],
   "source": [
    "data.columns"
   ]
  },
  {
   "cell_type": "code",
   "execution_count": null,
   "metadata": {
    "ExecuteTime": {
     "end_time": "2020-07-23T14:45:33.118137Z",
     "start_time": "2020-07-23T14:45:32.991621Z"
    }
   },
   "outputs": [],
   "source": [
    "data.groupby(['Licensing','OptionalFeatureLicense']).agg({'SubNetwork':'count'})"
   ]
  },
  {
   "cell_type": "code",
   "execution_count": null,
   "metadata": {
    "ExecuteTime": {
     "end_time": "2020-07-23T14:38:28.349698Z",
     "start_time": "2020-07-23T14:38:28.271188Z"
    }
   },
   "outputs": [],
   "source": [
    "data.groupby('serviceState').agg({'SubNetwork':'count','DATE':'count'}).T"
   ]
  },
  {
   "cell_type": "code",
   "execution_count": null,
   "metadata": {},
   "outputs": [],
   "source": []
  }
 ],
 "metadata": {
  "kernelspec": {
   "display_name": "Python 3",
   "language": "python",
   "name": "python3"
  },
  "language_info": {
   "codemirror_mode": {
    "name": "ipython",
    "version": 3
   },
   "file_extension": ".py",
   "mimetype": "text/x-python",
   "name": "python",
   "nbconvert_exporter": "python",
   "pygments_lexer": "ipython3",
   "version": "3.7.4"
  },
  "toc": {
   "base_numbering": 1,
   "nav_menu": {},
   "number_sections": true,
   "sideBar": true,
   "skip_h1_title": false,
   "title_cell": "Table of Contents",
   "title_sidebar": "Contents",
   "toc_cell": false,
   "toc_position": {},
   "toc_section_display": true,
   "toc_window_display": false
  },
  "varInspector": {
   "cols": {
    "lenName": 16,
    "lenType": 16,
    "lenVar": 40
   },
   "kernels_config": {
    "python": {
     "delete_cmd_postfix": "",
     "delete_cmd_prefix": "del ",
     "library": "var_list.py",
     "varRefreshCmd": "print(var_dic_list())"
    },
    "r": {
     "delete_cmd_postfix": ") ",
     "delete_cmd_prefix": "rm(",
     "library": "var_list.r",
     "varRefreshCmd": "cat(var_dic_list()) "
    }
   },
   "types_to_exclude": [
    "module",
    "function",
    "builtin_function_or_method",
    "instance",
    "_Feature"
   ],
   "window_display": false
  }
 },
 "nbformat": 4,
 "nbformat_minor": 2
}
