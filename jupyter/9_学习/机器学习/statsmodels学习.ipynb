{
 "cells": [
  {
   "cell_type": "code",
   "execution_count": 2,
   "metadata": {},
   "outputs": [],
   "source": [
    "#上帝导入了 NumPy（大家都叫它囊派？我叫它囊辟）\n",
    "import numpy as np\n",
    "#便有了时间。"
   ]
  },
  {
   "cell_type": "code",
   "execution_count": 3,
   "metadata": {},
   "outputs": [],
   "source": [
    "#上帝导入了 matplotlib，\n",
    "import matplotlib.pyplot as plt\n",
    "#便有了空间。"
   ]
  },
  {
   "cell_type": "code",
   "execution_count": 4,
   "metadata": {},
   "outputs": [],
   "source": [
    "#上帝导入了 Statsmodels，\n",
    "import statsmodels.api as sm\n",
    "#世界开始了。"
   ]
  },
  {
   "cell_type": "code",
   "execution_count": 6,
   "metadata": {},
   "outputs": [
    {
     "name": "stdout",
     "output_type": "stream",
     "text": [
      "p = 8.2084 + 0.1795x\n"
     ]
    }
   ],
   "source": [
    "#线性拟合：y=a+bx\n",
    "import numpy as np\n",
    "x_array = np.array([13,15,16,21,22,23,25,29,30,31,36,40,42,55,60,62,64,70,72,100,130])#x_array,y_array是我们要拟合的数据\n",
    "y_array = np.array([11,10,11,12,12,13,13,12,14,16,17,13,14,22,14,21,21,24,17,23,34])\n",
    "m = len(x_array) #方程个数\n",
    " \n",
    "sum_x = np.sum(x_array)\n",
    "sum_y = np.sum(y_array)\n",
    "sum_xy = np.sum(x_array * y_array)\n",
    "sum_xx = np.sum(x_array **2 )\n",
    "a=(sum_y*sum_xx-sum_x*sum_xy)/(m*sum_xx-(sum_x)**2)\n",
    "b=(m*sum_xy-sum_x*sum_y)/(m*sum_xx-(sum_x)**2)\n",
    "print(\"p = {:.4f} + {:.4f}x\".format(a,b))"
   ]
  },
  {
   "cell_type": "code",
   "execution_count": 8,
   "metadata": {},
   "outputs": [
    {
     "data": {
      "text/plain": [
       "(956, 344)"
      ]
     },
     "execution_count": 8,
     "metadata": {},
     "output_type": "execute_result"
    }
   ],
   "source": [
    "sum_x,sum_y"
   ]
  },
  {
   "cell_type": "code",
   "execution_count": 10,
   "metadata": {},
   "outputs": [
    {
     "data": {
      "text/plain": [
       "(18913, 61640)"
      ]
     },
     "execution_count": 10,
     "metadata": {},
     "output_type": "execute_result"
    }
   ],
   "source": [
    "sum_xy,sum_xx"
   ]
  },
  {
   "cell_type": "code",
   "execution_count": 14,
   "metadata": {},
   "outputs": [
    {
     "data": {
      "text/plain": [
       "8.208407795975864"
      ]
     },
     "execution_count": 14,
     "metadata": {},
     "output_type": "execute_result"
    }
   ],
   "source": [
    "a"
   ]
  },
  {
   "cell_type": "code",
   "execution_count": 15,
   "metadata": {},
   "outputs": [],
   "source": [
    "a=(344*61640-956*18913)/(21*61640-(956)**2)"
   ]
  },
  {
   "cell_type": "code",
   "execution_count": 16,
   "metadata": {},
   "outputs": [
    {
     "data": {
      "text/plain": [
       "8.208407795975864"
      ]
     },
     "execution_count": 16,
     "metadata": {},
     "output_type": "execute_result"
    }
   ],
   "source": [
    "a"
   ]
  },
  {
   "cell_type": "code",
   "execution_count": 5,
   "metadata": {},
   "outputs": [
    {
     "data": {
      "text/plain": [
       "'OLS:ordinary least square:最小二乘法'"
      ]
     },
     "execution_count": 5,
     "metadata": {},
     "output_type": "execute_result"
    }
   ],
   "source": [
    "'''OLS:ordinary least square:最小二乘法'''"
   ]
  }
 ],
 "metadata": {
  "kernelspec": {
   "display_name": "Python 3",
   "language": "python",
   "name": "python3"
  },
  "language_info": {
   "codemirror_mode": {
    "name": "ipython",
    "version": 3
   },
   "file_extension": ".py",
   "mimetype": "text/x-python",
   "name": "python",
   "nbconvert_exporter": "python",
   "pygments_lexer": "ipython3",
   "version": "3.7.4"
  }
 },
 "nbformat": 4,
 "nbformat_minor": 2
}
