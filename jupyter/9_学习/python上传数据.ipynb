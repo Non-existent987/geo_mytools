{
 "cells": [
  {
   "cell_type": "code",
   "execution_count": 31,
   "metadata": {
    "ExecuteTime": {
     "end_time": "2020-07-22T11:35:43.724046Z",
     "start_time": "2020-07-22T11:35:43.719045Z"
    }
   },
   "outputs": [],
   "source": [
    "import requests,paramiko"
   ]
  },
  {
   "cell_type": "code",
   "execution_count": 24,
   "metadata": {
    "ExecuteTime": {
     "end_time": "2020-07-22T11:19:13.547810Z",
     "start_time": "2020-07-22T11:19:13.544809Z"
    }
   },
   "outputs": [],
   "source": [
    "import mytools,os"
   ]
  },
  {
   "cell_type": "code",
   "execution_count": 32,
   "metadata": {
    "ExecuteTime": {
     "end_time": "2020-07-22T11:36:45.490389Z",
     "start_time": "2020-07-22T11:36:45.487389Z"
    }
   },
   "outputs": [],
   "source": [
    "ip = \"121.41.2.208\"#服务器ip\n",
    "port = 22#端口号\n",
    "username = \"root\"#用户名\n",
    "password = \"Helong123\"#密码"
   ]
  },
  {
   "cell_type": "code",
   "execution_count": 33,
   "metadata": {
    "ExecuteTime": {
     "end_time": "2020-07-22T11:36:46.012456Z",
     "start_time": "2020-07-22T11:36:46.007955Z"
    }
   },
   "outputs": [],
   "source": [
    "def uploadfiletoserver(local,remote):#上传文件到服务器.local是要上传文件的本地路径；remote是上传到服务器的路径\n",
    "    ssh = paramiko.SSHClient()\n",
    "    ssh.set_missing_host_key_policy(paramiko.AutoAddPolicy())\n",
    "    ssh.connect(ip, port, username, password)\n",
    " \n",
    "    sftp = ssh.open_sftp()\n",
    "    sftp.put(local, remote)"
   ]
  },
  {
   "cell_type": "code",
   "execution_count": null,
   "metadata": {
    "ExecuteTime": {
     "end_time": "2020-07-22T11:45:31.037125Z",
     "start_time": "2020-07-22T11:45:30.375041Z"
    },
    "scrolled": true
   },
   "outputs": [],
   "source": [
    "ssh = paramiko.SSHClient()\n",
    "ssh.set_missing_host_key_policy(paramiko.AutoAddPolicy())\n",
    "ssh.connect(ip, port, username, password)\n",
    "\n",
    "sftp = ssh.open_sftp()\n",
    "sftp.put('/helong/aaa.txt', 'D:/ddd.txt')"
   ]
  },
  {
   "cell_type": "code",
   "execution_count": 41,
   "metadata": {
    "ExecuteTime": {
     "end_time": "2020-07-22T11:47:22.599292Z",
     "start_time": "2020-07-22T11:47:22.322257Z"
    }
   },
   "outputs": [],
   "source": [
    "transport = paramiko.Transport((\"121.41.2.208\", 22))    # 获取Transport实例\n",
    "transport.connect(username=\"root\", password=\"Helong123\")    # 建立连接"
   ]
  },
  {
   "cell_type": "code",
   "execution_count": 43,
   "metadata": {
    "ExecuteTime": {
     "end_time": "2020-07-22T11:48:34.689446Z",
     "start_time": "2020-07-22T11:48:34.477419Z"
    }
   },
   "outputs": [
    {
     "data": {
      "text/plain": [
       "<SFTPAttributes: [ size=27 uid=0 gid=0 mode=0o100644 atime=1595418522 mtime=1595418522 ]>"
      ]
     },
     "execution_count": 43,
     "metadata": {},
     "output_type": "execute_result"
    }
   ],
   "source": [
    "# 创建sftp对象，SFTPClient是定义怎么传输文件、怎么交互文件\n",
    "sftp = paramiko.SFTPClient.from_transport(transport)\n",
    "# 将本地 api.py 上传至服务器 /www/test.py。文件上传并重命名为test.py\n",
    "sftp.put(\"d:/ddd.xlsx\", \"/helong/覆盖空19481个添加场景区分大中小微.xlsx\")"
   ]
  },
  {
   "cell_type": "code",
   "execution_count": 44,
   "metadata": {
    "ExecuteTime": {
     "end_time": "2020-07-22T11:53:20.574249Z",
     "start_time": "2020-07-22T11:53:08.551722Z"
    }
   },
   "outputs": [],
   "source": [
    "# 将服务器 /www/test.py 下载到本地 aaa.py。文件下载并重命名为aaa.py\n",
    "sftp.get(\"/helong/覆盖空19481个添加场景区分大中小微.xlsx\", \"d:/gggggggggggg.xlsx\")\n",
    " \n",
    "# 关闭连接\n",
    "transport.close()"
   ]
  },
  {
   "cell_type": "code",
   "execution_count": null,
   "metadata": {},
   "outputs": [],
   "source": [
    "uploadfiletoserver"
   ]
  },
  {
   "cell_type": "code",
   "execution_count": null,
   "metadata": {},
   "outputs": [],
   "source": [
    "ssh_scp_put(ip='121.41.2.208',port=22,user='root',password='Helong123',local_file ='/helong' ,remote_file='d:/ddd.txt')"
   ]
  },
  {
   "cell_type": "code",
   "execution_count": null,
   "metadata": {},
   "outputs": [],
   "source": []
  },
  {
   "cell_type": "code",
   "execution_count": 17,
   "metadata": {
    "ExecuteTime": {
     "end_time": "2020-07-22T10:42:27.943733Z",
     "start_time": "2020-07-22T10:42:27.903728Z"
    }
   },
   "outputs": [],
   "source": [
    "mytools.othern.pip('paramiko')"
   ]
  },
  {
   "cell_type": "code",
   "execution_count": 7,
   "metadata": {
    "ExecuteTime": {
     "end_time": "2020-07-22T10:00:00.082696Z",
     "start_time": "2020-07-22T10:00:00.079196Z"
    }
   },
   "outputs": [],
   "source": [
    "def send_str_server():\n",
    "    payload = {'key1': 'value1', 'key2': 'value2'}\n",
    "    r = requests.post(\"http://httpbin.org/post\", data=payload)"
   ]
  },
  {
   "cell_type": "code",
   "execution_count": 8,
   "metadata": {
    "ExecuteTime": {
     "end_time": "2020-07-22T10:00:00.271720Z",
     "start_time": "2020-07-22T10:00:00.267220Z"
    }
   },
   "outputs": [
    {
     "data": {
      "text/plain": [
       "<function __main__.send_str_server()>"
      ]
     },
     "execution_count": 8,
     "metadata": {},
     "output_type": "execute_result"
    }
   ],
   "source": [
    "send_str_server"
   ]
  },
  {
   "cell_type": "code",
   "execution_count": 19,
   "metadata": {
    "ExecuteTime": {
     "end_time": "2020-07-22T10:42:46.110540Z",
     "start_time": "2020-07-22T10:42:46.105040Z"
    }
   },
   "outputs": [],
   "source": [
    "def ssh_scp_put(ip, port, user, password, local_file, remote_file):\n",
    "    \"\"\"\n",
    "    \n",
    "    :param ip: 服务器ip地址\n",
    "    :param port: 端口(22)\n",
    "    :param user: 用户名\n",
    "    :param password: 用户密码\n",
    "    :param local_file: 本地文件地址\n",
    "    :param remote_file: 要上传的文件地址（例：/test.txt）\n",
    "    :return: \n",
    "    \"\"\"\n",
    "    ssh = paramiko.SSHClient()\n",
    "    ssh.set_missing_host_key_policy(paramiko.AutoAddPolicy())\n",
    "    ssh.connect(ip, port, user, password)\n",
    " \n",
    "    sftp = ssh.open_sftp()\n",
    "    sftp.put(local_file, remote_file)"
   ]
  },
  {
   "cell_type": "code",
   "execution_count": 29,
   "metadata": {
    "ExecuteTime": {
     "end_time": "2020-07-22T11:34:20.409966Z",
     "start_time": "2020-07-22T11:34:20.399465Z"
    }
   },
   "outputs": [
    {
     "ename": "NameError",
     "evalue": "name 'request' is not defined",
     "output_type": "error",
     "traceback": [
      "\u001b[1;31m---------------------------------------------------------------------------\u001b[0m",
      "\u001b[1;31mNameError\u001b[0m                                 Traceback (most recent call last)",
      "\u001b[1;32m<ipython-input-29-1c125dbf950e>\u001b[0m in \u001b[0;36m<module>\u001b[1;34m\u001b[0m\n\u001b[1;32m----> 1\u001b[1;33m \u001b[0mfile\u001b[0m \u001b[1;33m=\u001b[0m \u001b[0mrequest\u001b[0m\u001b[1;33m.\u001b[0m\u001b[0mFILES\u001b[0m\u001b[1;33m.\u001b[0m\u001b[0mget\u001b[0m\u001b[1;33m(\u001b[0m\u001b[1;34m\"file\"\u001b[0m\u001b[1;33m)\u001b[0m\u001b[1;33m\u001b[0m\u001b[1;33m\u001b[0m\u001b[0m\n\u001b[0m",
      "\u001b[1;31mNameError\u001b[0m: name 'request' is not defined"
     ]
    }
   ],
   "source": [
    "file = request.FILES.get(\"file\")"
   ]
  },
  {
   "cell_type": "code",
   "execution_count": 28,
   "metadata": {
    "ExecuteTime": {
     "end_time": "2020-07-22T11:33:30.780664Z",
     "start_time": "2020-07-22T11:33:30.769663Z"
    }
   },
   "outputs": [
    {
     "ename": "NameError",
     "evalue": "name 'file' is not defined",
     "output_type": "error",
     "traceback": [
      "\u001b[1;31m---------------------------------------------------------------------------\u001b[0m",
      "\u001b[1;31mNameError\u001b[0m                                 Traceback (most recent call last)",
      "\u001b[1;32m<ipython-input-28-d9f3ae510c8a>\u001b[0m in \u001b[0;36m<module>\u001b[1;34m\u001b[0m\n\u001b[1;32m----> 1\u001b[1;33m \u001b[0mos\u001b[0m\u001b[1;33m.\u001b[0m\u001b[0mpath\u001b[0m\u001b[1;33m.\u001b[0m\u001b[0mjoin\u001b[0m\u001b[1;33m(\u001b[0m\u001b[1;34m'helong'\u001b[0m\u001b[1;33m,\u001b[0m \u001b[1;34m'begin\\\\static'\u001b[0m\u001b[1;33m,\u001b[0m \u001b[1;34m'file'\u001b[0m\u001b[1;33m,\u001b[0m \u001b[0mfile\u001b[0m\u001b[1;33m.\u001b[0m\u001b[0mname\u001b[0m\u001b[1;33m)\u001b[0m\u001b[1;33m\u001b[0m\u001b[1;33m\u001b[0m\u001b[0m\n\u001b[0m",
      "\u001b[1;31mNameError\u001b[0m: name 'file' is not defined"
     ]
    }
   ],
   "source": [
    "os.path.join('helong', 'begin\\\\static', 'file', file.name)"
   ]
  },
  {
   "cell_type": "code",
   "execution_count": null,
   "metadata": {
    "ExecuteTime": {
     "end_time": "2020-07-22T11:22:54.426858Z",
     "start_time": "2020-07-22T11:22:53.772275Z"
    }
   },
   "outputs": [],
   "source": [
    "ssh_scp_put(ip='121.41.2.208',port=22,user='root',password='Helong123',local_file ='/helong' ,remote_file='d:/ddd.txt')"
   ]
  },
  {
   "cell_type": "code",
   "execution_count": 47,
   "metadata": {
    "ExecuteTime": {
     "end_time": "2020-07-22T12:46:02.250231Z",
     "start_time": "2020-07-22T12:46:02.217227Z"
    }
   },
   "outputs": [],
   "source": [
    "import socket \n",
    "\n",
    "s = socket.socket(socket.AF_INET, socket.SOCK_STREAM) \n",
    "host =\"121.41.2.208\" \n",
    "port =22 \n",
    "s.connect((host,port)) \n"
   ]
  },
  {
   "cell_type": "code",
   "execution_count": 49,
   "metadata": {
    "ExecuteTime": {
     "end_time": "2020-07-22T13:08:06.302864Z",
     "start_time": "2020-07-22T13:08:06.299864Z"
    }
   },
   "outputs": [],
   "source": [
    "ip ='121.41.2.208'"
   ]
  },
  {
   "cell_type": "code",
   "execution_count": 48,
   "metadata": {
    "ExecuteTime": {
     "end_time": "2020-07-22T12:46:11.573415Z",
     "start_time": "2020-07-22T12:46:08.416014Z"
    }
   },
   "outputs": [
    {
     "name": "stdout",
     "output_type": "stream",
     "text": [
      "Enter messagenihao\n",
      "SSH-2.0-OpenSSH_7.4\n",
      "\n"
     ]
    }
   ],
   "source": [
    "r=input('Enter message') \n",
    "s.send(r.encode()) \n",
    "data = '' \n",
    "data = s.recv(1024).decode() \n",
    "print (data) \n",
    "s.close() "
   ]
  },
  {
   "cell_type": "code",
   "execution_count": 52,
   "metadata": {
    "ExecuteTime": {
     "end_time": "2020-07-22T13:24:30.910893Z",
     "start_time": "2020-07-22T13:24:30.877389Z"
    }
   },
   "outputs": [],
   "source": [
    "mytools.othern.pip('model')"
   ]
  },
  {
   "cell_type": "code",
   "execution_count": 50,
   "metadata": {
    "ExecuteTime": {
     "end_time": "2020-07-22T13:08:28.914235Z",
     "start_time": "2020-07-22T13:08:28.909735Z"
    }
   },
   "outputs": [],
   "source": [
    "#消息发送端--客户端\n",
    " \n",
    "import socket\n",
    "#创建一个socket，用函数socket()；\n",
    "client_send = socket.socket(type=socket.SOCK_DGRAM)\n",
    "# 设置对方的IP地址和端口等属性;\n",
    "ip_port = (ip,22)\n",
    "#发送数据，用函数sendto()\n",
    "msg = 'nihao000'\n",
    "client_send.sendto(bytes(msg,encoding=\"utf-8\"),ip_port)\n",
    "#关闭网络连接；\n",
    "client_send.close()"
   ]
  },
  {
   "cell_type": "code",
   "execution_count": null,
   "metadata": {},
   "outputs": [],
   "source": []
  }
 ],
 "metadata": {
  "kernelspec": {
   "display_name": "Python 3",
   "language": "python",
   "name": "python3"
  },
  "language_info": {
   "codemirror_mode": {
    "name": "ipython",
    "version": 3
   },
   "file_extension": ".py",
   "mimetype": "text/x-python",
   "name": "python",
   "nbconvert_exporter": "python",
   "pygments_lexer": "ipython3",
   "version": "3.7.4"
  },
  "toc": {
   "base_numbering": 1,
   "nav_menu": {},
   "number_sections": true,
   "sideBar": true,
   "skip_h1_title": false,
   "title_cell": "Table of Contents",
   "title_sidebar": "Contents",
   "toc_cell": false,
   "toc_position": {},
   "toc_section_display": true,
   "toc_window_display": false
  },
  "varInspector": {
   "cols": {
    "lenName": 16,
    "lenType": 16,
    "lenVar": 40
   },
   "kernels_config": {
    "python": {
     "delete_cmd_postfix": "",
     "delete_cmd_prefix": "del ",
     "library": "var_list.py",
     "varRefreshCmd": "print(var_dic_list())"
    },
    "r": {
     "delete_cmd_postfix": ") ",
     "delete_cmd_prefix": "rm(",
     "library": "var_list.r",
     "varRefreshCmd": "cat(var_dic_list()) "
    }
   },
   "types_to_exclude": [
    "module",
    "function",
    "builtin_function_or_method",
    "instance",
    "_Feature"
   ],
   "window_display": false
  }
 },
 "nbformat": 4,
 "nbformat_minor": 2
}
