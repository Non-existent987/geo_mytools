{
 "cells": [
  {
   "cell_type": "code",
   "execution_count": 1,
   "metadata": {
    "ExecuteTime": {
     "end_time": "2020-09-23T01:56:49.582055Z",
     "start_time": "2020-09-23T01:56:49.100993Z"
    }
   },
   "outputs": [],
   "source": [
    "from PIL import Image\n",
    "import numpy as np\n",
    "import matplotlib.pyplot as plt\n",
    "from functools import reduce\n",
    "from collections import Counter"
   ]
  },
  {
   "cell_type": "code",
   "execution_count": 2,
   "metadata": {
    "ExecuteTime": {
     "end_time": "2020-09-23T01:56:49.733074Z",
     "start_time": "2020-09-23T01:56:49.592556Z"
    }
   },
   "outputs": [],
   "source": [
    "i  = Image.open('images/numbers/y0.5.png')"
   ]
  },
  {
   "cell_type": "code",
   "execution_count": 3,
   "metadata": {
    "ExecuteTime": {
     "end_time": "2020-09-23T01:56:50.470667Z",
     "start_time": "2020-09-23T01:56:50.466667Z"
    }
   },
   "outputs": [],
   "source": [
    "iar = np.asanyarray(i)"
   ]
  },
  {
   "cell_type": "code",
   "execution_count": 4,
   "metadata": {
    "ExecuteTime": {
     "end_time": "2020-09-23T01:56:51.292772Z",
     "start_time": "2020-09-23T01:56:51.085245Z"
    },
    "scrolled": true
   },
   "outputs": [
    {
     "data": {
      "text/plain": [
       "<matplotlib.image.AxesImage at 0x3e75e48>"
      ]
     },
     "execution_count": 4,
     "metadata": {},
     "output_type": "execute_result"
    },
    {
     "data": {
      "image/png": "[encoded data removed]",
      "text/plain": [
       "<Figure size 432x288 with 1 Axes>"
      ]
     },
     "metadata": {
      "needs_background": "light"
     },
     "output_type": "display_data"
    }
   ],
   "source": [
    "plt.imshow(iar)"
   ]
  },
  {
   "cell_type": "code",
   "execution_count": 5,
   "metadata": {
    "ExecuteTime": {
     "end_time": "2020-09-23T01:56:52.092373Z",
     "start_time": "2020-09-23T01:56:52.088373Z"
    }
   },
   "outputs": [],
   "source": [
    "from PIL import Image\n",
    "import numpy as np\n",
    "import matplotlib.pyplot as plt\n",
    "import time"
   ]
  },
  {
   "cell_type": "code",
   "execution_count": 14,
   "metadata": {
    "ExecuteTime": {
     "end_time": "2020-09-23T03:17:34.461276Z",
     "start_time": "2020-09-23T03:17:34.455275Z"
    }
   },
   "outputs": [],
   "source": [
    "def creatExamples():\n",
    "    numberArrayExamples = open('numArEx.txt','a')\n",
    "    numbersWeHave = range(0,10)\n",
    "    versionsWeHanve = range(1,10)\n",
    "    for eachNum in numbersWeHave:\n",
    "        for eachVer in versionsWeHanve:\n",
    "    #             print(str(eachNum)+'.'+str(eachVer))\n",
    "            imgFilePath = 'images/numbers/' + str(eachNum)+'.'+str(eachVer)+'.png'\n",
    "            ei = Image.open(imgFilePath)\n",
    "            eiar = np.array(ei)\n",
    "            eiar1 = str(eiar.tolist())\n",
    "            lineToWrite = str(eachNum)+'::'+eiar1+'\\n'\n",
    "            numberArrayExamples.write(lineToWrite)"
   ]
  },
  {
   "cell_type": "code",
   "execution_count": 7,
   "metadata": {
    "ExecuteTime": {
     "end_time": "2020-09-23T01:56:53.001989Z",
     "start_time": "2020-09-23T01:56:52.991988Z"
    }
   },
   "outputs": [],
   "source": [
    "def threshold(imageArray):\n",
    "    blanceAr = []\n",
    "    newAr = imageArray\n",
    "    for eachRow in imageArray:\n",
    "        for eachPix in eachRow:\n",
    "            avgNum = reduce(lambda x,y: x+y , eachPix[:3])/len(eachPix[:3])\n",
    "            blanceAr.append(avgNum)\n",
    "    balance = reduce(lambda x,y: x+y , blanceAr)/len(blanceAr)\n",
    "    for eachRow in newAr:\n",
    "        for eachPix in eachRow:\n",
    "            if reduce(lambda x,y: x+y , eachPix[:3])/len(eachPix[:3]) > balance:\n",
    "                eachPix[0] = 255\n",
    "                eachPix[1] = 255\n",
    "                eachPix[2] = 255\n",
    "                eachPix[3] = 255\n",
    "            else:\n",
    "                eachPix[0] = 0\n",
    "                eachPix[1] = 0\n",
    "                eachPix[2] = 0\n",
    "                eachPix[3] = 255\n",
    "    return newAr"
   ]
  },
  {
   "cell_type": "code",
   "execution_count": 8,
   "metadata": {
    "ExecuteTime": {
     "end_time": "2020-09-23T01:56:53.503052Z",
     "start_time": "2020-09-23T01:56:53.489051Z"
    }
   },
   "outputs": [],
   "source": [
    "def whatNumIsThis(filePath):\n",
    "    matchedAr = []\n",
    "    loadExamps = open('numArEx.txt','r').read()\n",
    "    loadExamps = loadExamps.split('\\n')\n",
    "    i = Image.open(filePath)\n",
    "    iar = np.array(i)\n",
    "    iar1 = iar.tolist()\n",
    "    inQuestion = str(iar1)\n",
    "    for eachExample in loadExamps:\n",
    "        if len(eachExample) > 3:\n",
    "            splitEx = eachExample.split('::')\n",
    "            currentNum = splitEx[0]\n",
    "            currentAr = splitEx[1]\n",
    "            eachPixEx = currentAr.split('],')\n",
    "            eachPixInQ = inQuestion.split('],')\n",
    "            x=0\n",
    "            while x < len(eachPixEx):\n",
    "                if eachPixEx[x] == eachPixInQ[x]:\n",
    "                    matchedAr.append(int(currentNum))\n",
    "                x += 1\n",
    "#     print(matchedAr)\n",
    "    x = Counter(matchedAr)\n",
    "    print(x)  \n",
    "    \n",
    "    graphx = []\n",
    "    graphy = []\n",
    "    for eachThing in x:\n",
    "        print(eachThing)\n",
    "        graphx.append(eachThing)\n",
    "        graphy.append(x[eachThing])\n",
    "    fig = plt.figure()\n",
    "    ax1 = plt.subplot2grid((4,4),(0,0),rowspan=1,colspan=4)\n",
    "    ax2 = plt.subplot2grid((4,4),(1,0),rowspan=3,colspan=4)\n",
    "    ax1.imshow(iar)\n",
    "    ax2.bar(graphx,graphy,align='center')\n",
    "#     plt.ylim(400)\n",
    "#     xloc = plt.MaxNLocator(12)\n",
    "#     ax2.xaxis.set_major_locator(xloc)\n",
    "    plt.show()"
   ]
  },
  {
   "cell_type": "code",
   "execution_count": 9,
   "metadata": {
    "ExecuteTime": {
     "end_time": "2020-09-23T01:56:54.994742Z",
     "start_time": "2020-09-23T01:56:54.643697Z"
    }
   },
   "outputs": [
    {
     "name": "stdout",
     "output_type": "stream",
     "text": [
      "Counter({3: 441, 8: 409, 5: 385, 7: 384, 0: 383, 6: 382, 2: 347, 4: 335, 1: 325, 9: 131})\n",
      "0\n",
      "1\n",
      "2\n",
      "3\n",
      "4\n",
      "5\n",
      "6\n",
      "7\n",
      "8\n",
      "9\n"
     ]
    },
    {
     "data": {
      "image/png": "[encoded data removed]",
      "text/plain": [
       "<Figure size 432x288 with 2 Axes>"
      ]
     },
     "metadata": {
      "needs_background": "light"
     },
     "output_type": "display_data"
    }
   ],
   "source": [
    "whatNumIsThis('images/test.png')"
   ]
  },
  {
   "cell_type": "code",
   "execution_count": 10,
   "metadata": {
    "ExecuteTime": {
     "end_time": "2020-09-23T01:57:02.107145Z",
     "start_time": "2020-09-23T01:57:01.852113Z"
    }
   },
   "outputs": [
    {
     "name": "stderr",
     "output_type": "stream",
     "text": [
      "C:\\ProgramData\\Anaconda3\\lib\\site-packages\\ipykernel_launcher.py:6: RuntimeWarning: overflow encountered in ubyte_scalars\n",
      "  \n",
      "C:\\ProgramData\\Anaconda3\\lib\\site-packages\\ipykernel_launcher.py:11: RuntimeWarning: overflow encountered in ubyte_scalars\n",
      "  # This is added back by InteractiveShellApp.init_path()\n"
     ]
    }
   ],
   "source": [
    "i = Image.open('images/numbers/0.6.png')\n",
    "iar = threshold(np.array(i))\n",
    "i2 = Image.open('images/sentdex.png')\n",
    "iar2 = threshold(np.array(i2))\n",
    "i3 = Image.open('images/numbers/y0.3.png')\n",
    "iar3 = threshold(np.array(i3))\n",
    "i4 = Image.open('images/numbers/y0.4.png')\n",
    "iar4 = threshold(np.array(i4))"
   ]
  },
  {
   "cell_type": "code",
   "execution_count": 11,
   "metadata": {
    "ExecuteTime": {
     "end_time": "2020-09-23T01:57:03.062266Z",
     "start_time": "2020-09-23T01:57:02.632212Z"
    }
   },
   "outputs": [
    {
     "data": {
      "image/png": "[encoded data removed]",
      "text/plain": [
       "<Figure size 432x288 with 4 Axes>"
      ]
     },
     "metadata": {
      "needs_background": "light"
     },
     "output_type": "display_data"
    }
   ],
   "source": [
    "fig = plt.figure()\n",
    "\n",
    "ax1 = plt.subplot2grid((8,6),(0,0),rowspan=4,colspan=3)\n",
    "ax2 = plt.subplot2grid((8,6),(4,0),rowspan=4,colspan=3)\n",
    "ax3 = plt.subplot2grid((8,6),(0,3),rowspan=4,colspan=3)\n",
    "ax4 = plt.subplot2grid((8,6),(4,3),rowspan=4,colspan=3)\n",
    "\n",
    "ax1.imshow(iar)\n",
    "ax2.imshow(iar2)\n",
    "ax3.imshow(iar3)\n",
    "ax4.imshow(iar4)\n",
    "plt.show()"
   ]
  },
  {
   "cell_type": "code",
   "execution_count": 12,
   "metadata": {
    "ExecuteTime": {
     "end_time": "2020-09-23T02:25:51.805789Z",
     "start_time": "2020-09-23T02:25:51.800788Z"
    }
   },
   "outputs": [
    {
     "data": {
      "text/plain": [
       "15"
      ]
     },
     "execution_count": 12,
     "metadata": {},
     "output_type": "execute_result"
    }
   ],
   "source": [
    "reduce(lambda x, y: x+y, [1,2,3,4,5])"
   ]
  },
  {
   "cell_type": "code",
   "execution_count": null,
   "metadata": {},
   "outputs": [],
   "source": []
  },
  {
   "cell_type": "code",
   "execution_count": null,
   "metadata": {},
   "outputs": [],
   "source": []
  }
 ],
 "metadata": {
  "kernelspec": {
   "display_name": "Python 3",
   "language": "python",
   "name": "python3"
  },
  "language_info": {
   "codemirror_mode": {
    "name": "ipython",
    "version": 3
   },
   "file_extension": ".py",
   "mimetype": "text/x-python",
   "name": "python",
   "nbconvert_exporter": "python",
   "pygments_lexer": "ipython3",
   "version": "3.7.4"
  },
  "toc": {
   "base_numbering": 1,
   "nav_menu": {},
   "number_sections": true,
   "sideBar": true,
   "skip_h1_title": false,
   "title_cell": "Table of Contents",
   "title_sidebar": "Contents",
   "toc_cell": false,
   "toc_position": {},
   "toc_section_display": true,
   "toc_window_display": false
  },
  "varInspector": {
   "cols": {
    "lenName": 16,
    "lenType": 16,
    "lenVar": 40
   },
   "kernels_config": {
    "python": {
     "delete_cmd_postfix": "",
     "delete_cmd_prefix": "del ",
     "library": "var_list.py",
     "varRefreshCmd": "print(var_dic_list())"
    },
    "r": {
     "delete_cmd_postfix": ") ",
     "delete_cmd_prefix": "rm(",
     "library": "var_list.r",
     "varRefreshCmd": "cat(var_dic_list()) "
    }
   },
   "types_to_exclude": [
    "module",
    "function",
    "builtin_function_or_method",
    "instance",
    "_Feature"
   ],
   "window_display": false
  }
 },
 "nbformat": 4,
 "nbformat_minor": 2
}
