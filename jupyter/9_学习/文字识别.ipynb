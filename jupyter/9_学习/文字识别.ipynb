{
 "cells": [
  {
   "cell_type": "code",
   "execution_count": 2,
   "id": "24ebf734-8ecf-4d67-acc7-2d4f083c2796",
   "metadata": {},
   "outputs": [],
   "source": [
    "from shapely.geometry import Polygon,MultiPolygon\n",
    "from freetype import *\n",
    "import mytools\n",
    "import geopandas as gpd"
   ]
  },
  {
   "cell_type": "code",
   "execution_count": 3,
   "id": "d80a60d9-7235-4794-b39c-4fc021647e48",
   "metadata": {},
   "outputs": [
    {
     "name": "stdout",
     "output_type": "stream",
     "text": [
      "文字由3个多边形组成，一共有36顶点，每个里面由几个顶点组成 [21, 28, 35]\n"
     ]
    }
   ],
   "source": [
    "text = '公'\n",
    "face = Face('c:/Windows/Fonts/msyh.ttc')\n",
    "flags = FT_LOAD_DEFAULT | FT_LOAD_NO_BITMAP\n",
    "face.set_char_size( 32*64  )\n",
    "face.load_char(text, flags )\n",
    "slot = face.glyph\n",
    "outline = slot.outline\n",
    "point_list = outline.points\n",
    "polygon_list = []\n",
    "i = 0\n",
    "for x in outline.contours[:]:\n",
    "    polygon_list.append(Polygon(point_list[i:x+1]))\n",
    "    i = x + 1\n",
    "print(f'文字由{outline.n_contours}个多边形组成，一共有{outline.n_points}顶点，每个里面由几个顶点组成',outline.contours)"
   ]
  },
  {
   "cell_type": "code",
   "execution_count": 4,
   "id": "b4892cba-2290-4418-a584-24ed02723184",
   "metadata": {},
   "outputs": [
    {
     "name": "stdout",
     "output_type": "stream",
     "text": [
      "0\n",
      "0\n",
      "1\n",
      "1\n",
      "2\n"
     ]
    }
   ],
   "source": [
    "pol_list = []\n",
    "len_num = len(polygon_list)\n",
    "range_lise = iter(range(len_num))\n",
    "for x in range_lise:\n",
    "    print(x)\n",
    "    if (x == i) | (x == len_num-1):\n",
    "        pol_list.append(polygon_list[x])\n",
    "        continue\n",
    "    if polygon_list[x].contains(polygon_list[x+1]):\n",
    "        polygon_list[x] = polygon_list[x].difference(polygon_list[x+1])\n",
    "        print(f'第{x+1}个多变形包含了,第{x+2}个多边形,删除第{x+2}个.')\n",
    "        i = x + 1\n",
    "    else:\n",
    "        pol_list.append(polygon_list[x])\n",
    "    print(x)"
   ]
  },
  {
   "cell_type": "code",
   "execution_count": 5,
   "id": "3a07e676-c343-4971-9632-21dbc0d8774b",
   "metadata": {},
   "outputs": [
    {
     "data": {
      "image/svg+xml": [
       "<svg xmlns=\"http://www.w3.org/2000/svg\" xmlns:xlink=\"http://www.w3.org/1999/xlink\" width=\"300\" height=\"300\" viewBox=\"-56.0 -336.0 2160.0 2080.0\" preserveAspectRatio=\"xMinYMin meet\"><g transform=\"matrix(1,0,0,-1,0,1408.0)\"><g><path fill-rule=\"evenodd\" fill=\"#66cc99\" stroke=\"#555555\" stroke-width=\"14.4\" opacity=\"0.6\" d=\"M 1326.0,512.0 L 1614.0,145.0 L 1812.0,-156.0 L 1660.0,-256.0 L 1604.0,-183.0 L 1541.0,-105.0 L 881.0,-137.0 L 468.0,-170.0 L 392.0,-175.0 L 284.0,-192.0 L 196.0,-38.0 L 286.0,-1.0 L 362.0,75.0 L 596.0,353.0 L 870.0,896.0 L 1042.0,818.0 L 794.0,380.0 L 512.0,0.0 L 925.0,13.0 L 1447.0,37.0 L 1333.0,223.0 L 1196.0,430.0 L 1326.0,512.0 z\" /><path fill-rule=\"evenodd\" fill=\"#66cc99\" stroke=\"#555555\" stroke-width=\"14.4\" opacity=\"0.6\" d=\"M 1154.0,1606.0 L 1302.0,1664.0 L 1496.0,1107.0 L 2024.0,780.0 L 1970.0,730.0 L 1900.0,640.0 L 1348.0,1036.0 L 1154.0,1606.0 z\" /><path fill-rule=\"evenodd\" fill=\"#66cc99\" stroke=\"#555555\" stroke-width=\"14.4\" opacity=\"0.6\" d=\"M 24.0,768.0 L 470.0,1148.0 L 690.0,1664.0 L 848.0,1598.0 L 578.0,1013.0 L 152.0,640.0 L 100.0,706.0 L 24.0,768.0 z\" /></g></g></svg>"
      ],
      "text/plain": [
       "<shapely.geometry.multipolygon.MultiPolygon at 0x2264643e4f0>"
      ]
     },
     "execution_count": 5,
     "metadata": {},
     "output_type": "execute_result"
    }
   ],
   "source": [
    "MultiPolygon(polygon_list)"
   ]
  },
  {
   "cell_type": "code",
   "execution_count": 6,
   "id": "6106ea23-ed5c-449c-b870-e0acd270dc21",
   "metadata": {},
   "outputs": [
    {
     "data": {
      "image/svg+xml": [
       "<svg xmlns=\"http://www.w3.org/2000/svg\" xmlns:xlink=\"http://www.w3.org/1999/xlink\" width=\"300\" height=\"300\" viewBox=\"-56.0 -336.0 2160.0 2080.0\" preserveAspectRatio=\"xMinYMin meet\"><g transform=\"matrix(1,0,0,-1,0,1408.0)\"><g><path fill-rule=\"evenodd\" fill=\"#66cc99\" stroke=\"#555555\" stroke-width=\"14.4\" opacity=\"0.6\" d=\"M 1326.0,512.0 L 1614.0,145.0 L 1812.0,-156.0 L 1660.0,-256.0 L 1604.0,-183.0 L 1541.0,-105.0 L 881.0,-137.0 L 468.0,-170.0 L 392.0,-175.0 L 284.0,-192.0 L 196.0,-38.0 L 286.0,-1.0 L 362.0,75.0 L 596.0,353.0 L 870.0,896.0 L 1042.0,818.0 L 794.0,380.0 L 512.0,0.0 L 925.0,13.0 L 1447.0,37.0 L 1333.0,223.0 L 1196.0,430.0 L 1326.0,512.0 z\" /><path fill-rule=\"evenodd\" fill=\"#66cc99\" stroke=\"#555555\" stroke-width=\"14.4\" opacity=\"0.6\" d=\"M 1154.0,1606.0 L 1302.0,1664.0 L 1496.0,1107.0 L 2024.0,780.0 L 1970.0,730.0 L 1900.0,640.0 L 1348.0,1036.0 L 1154.0,1606.0 z\" /><path fill-rule=\"evenodd\" fill=\"#66cc99\" stroke=\"#555555\" stroke-width=\"14.4\" opacity=\"0.6\" d=\"M 24.0,768.0 L 470.0,1148.0 L 690.0,1664.0 L 848.0,1598.0 L 578.0,1013.0 L 152.0,640.0 L 100.0,706.0 L 24.0,768.0 z\" /></g></g></svg>"
      ],
      "text/plain": [
       "<shapely.geometry.multipolygon.MultiPolygon at 0x22646421ee0>"
      ]
     },
     "execution_count": 6,
     "metadata": {},
     "output_type": "execute_result"
    }
   ],
   "source": [
    "MultiPolygon(pol_list)"
   ]
  },
  {
   "cell_type": "code",
   "execution_count": 7,
   "id": "8d4e8917-56e9-427b-9bd9-e8de2ad4aa17",
   "metadata": {},
   "outputs": [],
   "source": [
    "#导出数据\n",
    "res_gdf = gpd.GeoDataFrame(pol_list).rename(columns={0:'geometry'})\n",
    "res_gdf = gpd.GeoDataFrame(res_gdf,crs=\"epsg:4326\",geometry='geometry')\n",
    "res_gdf.to_file('d:/yyy.shp',encoding='gbk')    "
   ]
  },
  {
   "cell_type": "code",
   "execution_count": null,
   "id": "9912154e-5620-453d-8658-37135f444d5e",
   "metadata": {},
   "outputs": [],
   "source": []
  },
  {
   "cell_type": "code",
   "execution_count": null,
   "id": "bbb2a472-6d27-44fc-8478-0d69a1a73153",
   "metadata": {},
   "outputs": [],
   "source": []
  },
  {
   "cell_type": "code",
   "execution_count": null,
   "id": "5d44deb9-b855-4580-a4b6-b289bc23b729",
   "metadata": {},
   "outputs": [],
   "source": []
  },
  {
   "cell_type": "code",
   "execution_count": null,
   "id": "f30b7e82-21ce-4d8b-8984-2f92a4b7a566",
   "metadata": {},
   "outputs": [],
   "source": []
  },
  {
   "cell_type": "code",
   "execution_count": null,
   "id": "c443dcd4-9d5a-4d66-bd07-cc560b919176",
   "metadata": {},
   "outputs": [],
   "source": []
  },
  {
   "cell_type": "code",
   "execution_count": 264,
   "id": "711a738c-55e7-43e7-a2c8-354e53093138",
   "metadata": {},
   "outputs": [],
   "source": [
    "a = [1,2,3,4,5,88]"
   ]
  },
  {
   "cell_type": "code",
   "execution_count": 266,
   "id": "e6cf2fe8-c295-4421-8b63-8e32518f5c2e",
   "metadata": {},
   "outputs": [
    {
     "data": {
      "text/plain": [
       "88"
      ]
     },
     "execution_count": 266,
     "metadata": {},
     "output_type": "execute_result"
    }
   ],
   "source": [
    "a.pop(5)"
   ]
  },
  {
   "cell_type": "code",
   "execution_count": 267,
   "id": "99ebebdc-3c19-4cb4-8da1-a5a0662fe7dd",
   "metadata": {},
   "outputs": [
    {
     "data": {
      "text/plain": [
       "[1, 2, 3, 4, 5]"
      ]
     },
     "execution_count": 267,
     "metadata": {},
     "output_type": "execute_result"
    }
   ],
   "source": [
    "a"
   ]
  },
  {
   "cell_type": "code",
   "execution_count": 237,
   "id": "9ed141dc-2680-4837-b40b-e10900de135b",
   "metadata": {},
   "outputs": [
    {
     "name": "stdout",
     "output_type": "stream",
     "text": [
      "0\n",
      "2\n",
      "4\n",
      "6\n",
      "8\n"
     ]
    }
   ],
   "source": []
  },
  {
   "cell_type": "code",
   "execution_count": 206,
   "id": "02044a21-c382-480b-a589-44ad22a63bf6",
   "metadata": {},
   "outputs": [
    {
     "data": {
      "image/svg+xml": [
       "<svg xmlns=\"http://www.w3.org/2000/svg\" xmlns:xlink=\"http://www.w3.org/1999/xlink\" width=\"300\" height=\"300\" viewBox=\"734.48 490.48 581.04 543.04\" preserveAspectRatio=\"xMinYMin meet\"><g transform=\"matrix(1,0,0,-1,0,1524.0)\"><path fill-rule=\"evenodd\" fill=\"#66cc99\" stroke=\"#555555\" stroke-width=\"3.8735999999999997\" opacity=\"0.6\" d=\"M 1294.0,1012.0 L 756.0,1012.0 L 756.0,512.0 L 1294.0,512.0 L 1294.0,1012.0 z\" /></g></svg>"
      ],
      "text/plain": [
       "<shapely.geometry.polygon.Polygon at 0x167565f8370>"
      ]
     },
     "execution_count": 206,
     "metadata": {},
     "output_type": "execute_result"
    }
   ],
   "source": [
    "polygon_list[x+1]"
   ]
  },
  {
   "cell_type": "code",
   "execution_count": 196,
   "id": "40c50898-7daf-4990-b645-7e126914a613",
   "metadata": {},
   "outputs": [
    {
     "data": {
      "image/svg+xml": [
       "<svg xmlns=\"http://www.w3.org/2000/svg\" xmlns:xlink=\"http://www.w3.org/1999/xlink\" width=\"300\" height=\"300\" viewBox=\"564.16 220.16 921.68 967.68\" preserveAspectRatio=\"xMinYMin meet\"><g transform=\"matrix(1,0,0,-1,0,1408.0)\"><path fill-rule=\"evenodd\" fill=\"#66cc99\" stroke=\"#555555\" stroke-width=\"6.4512\" opacity=\"0.6\" d=\"M 600.0,1152.0 L 1450.0,1152.0 L 1450.0,256.0 L 1294.0,256.0 L 1294.0,372.0 L 756.0,372.0 L 756.0,256.0 L 600.0,256.0 L 600.0,1152.0 z M 1294.0,1012.0 L 756.0,1012.0 L 756.0,512.0 L 1294.0,512.0 L 1294.0,1012.0 z\" /></g></svg>"
      ],
      "text/plain": [
       "<shapely.geometry.polygon.Polygon at 0x167564de1f0>"
      ]
     },
     "execution_count": 196,
     "metadata": {},
     "output_type": "execute_result"
    }
   ],
   "source": [
    "polygon_list[x]"
   ]
  },
  {
   "cell_type": "code",
   "execution_count": 197,
   "id": "af437247-40b1-43f0-a3f3-b52ba98e50db",
   "metadata": {},
   "outputs": [
    {
     "data": {
      "image/svg+xml": [
       "<svg xmlns=\"http://www.w3.org/2000/svg\" xmlns:xlink=\"http://www.w3.org/1999/xlink\" width=\"300\" height=\"300\" viewBox=\"77.76 -330.24 1896.48 2004.48\" preserveAspectRatio=\"xMinYMin meet\"><g transform=\"matrix(1,0,0,-1,0,1344.0)\"><g><path fill-rule=\"evenodd\" fill=\"#ff3333\" stroke=\"#555555\" stroke-width=\"13.3632\" opacity=\"0.6\" d=\"M 152.0,1600.0 L 1900.0,1600.0 L 1900.0,-256.0 L 1732.0,-256.0 L 1732.0,-144.0 L 320.0,-144.0 L 320.0,-256.0 L 152.0,-256.0 L 152.0,1600.0 z M 1732.0,1452.0 L 320.0,1452.0 L 320.0,0.0 L 1732.0,0.0 L 1732.0,1452.0 z\" /><path fill-rule=\"evenodd\" fill=\"#ff3333\" stroke=\"#555555\" stroke-width=\"13.3632\" opacity=\"0.6\" d=\"M 1732.0,1452.0 L 1732.0,0.0 L 320.0,0.0 L 320.0,1452.0 L 1732.0,1452.0 z M 600.0,1152.0 L 600.0,256.0 L 756.0,256.0 L 756.0,372.0 L 1294.0,372.0 L 1294.0,256.0 L 1450.0,256.0 L 1450.0,1152.0 L 600.0,1152.0 z\" /><path fill-rule=\"evenodd\" fill=\"#ff3333\" stroke=\"#555555\" stroke-width=\"13.3632\" opacity=\"0.6\" d=\"M 600.0,1152.0 L 1450.0,1152.0 L 1450.0,256.0 L 1294.0,256.0 L 1294.0,372.0 L 756.0,372.0 L 756.0,256.0 L 600.0,256.0 L 600.0,1152.0 z M 1294.0,1012.0 L 756.0,1012.0 L 756.0,512.0 L 1294.0,512.0 L 1294.0,1012.0 z\" /><path fill-rule=\"evenodd\" fill=\"#ff3333\" stroke=\"#555555\" stroke-width=\"13.3632\" opacity=\"0.6\" d=\"M 1294.0,1012.0 L 756.0,1012.0 L 756.0,512.0 L 1294.0,512.0 L 1294.0,1012.0 z\" /></g></g></svg>"
      ],
      "text/plain": [
       "<shapely.geometry.multipolygon.MultiPolygon at 0x167560c0dc0>"
      ]
     },
     "execution_count": 197,
     "metadata": {},
     "output_type": "execute_result"
    }
   ],
   "source": [
    "MultiPolygon(polygon_list)"
   ]
  },
  {
   "cell_type": "code",
   "execution_count": 198,
   "id": "d16568f3-b7c5-472a-a121-b3a8e95da7cd",
   "metadata": {},
   "outputs": [
    {
     "ename": "TypeError",
     "evalue": "map() must have at least two arguments.",
     "output_type": "error",
     "traceback": [
      "\u001b[1;31m---------------------------------------------------------------------------\u001b[0m",
      "\u001b[1;31mTypeError\u001b[0m                                 Traceback (most recent call last)",
      "\u001b[1;32m<ipython-input-198-149d4f3f46d6>\u001b[0m in \u001b[0;36m<module>\u001b[1;34m\u001b[0m\n\u001b[1;32m----> 1\u001b[1;33m \u001b[0mlin_one_lise\u001b[0m \u001b[1;33m=\u001b[0m \u001b[0mlist\u001b[0m\u001b[1;33m(\u001b[0m\u001b[0mmap\u001b[0m\u001b[1;33m(\u001b[0m\u001b[0mzip\u001b[0m\u001b[1;33m(\u001b[0m\u001b[0mpolygon_list\u001b[0m\u001b[1;33m[\u001b[0m\u001b[1;33m:\u001b[0m\u001b[1;33m-\u001b[0m\u001b[1;36m1\u001b[0m\u001b[1;33m]\u001b[0m\u001b[1;33m,\u001b[0m \u001b[0mpolygon_list\u001b[0m\u001b[1;33m[\u001b[0m\u001b[1;36m1\u001b[0m\u001b[1;33m:\u001b[0m\u001b[1;33m]\u001b[0m\u001b[1;33m)\u001b[0m\u001b[1;33m)\u001b[0m\u001b[1;33m)\u001b[0m\u001b[1;33m\u001b[0m\u001b[1;33m\u001b[0m\u001b[0m\n\u001b[0m",
      "\u001b[1;31mTypeError\u001b[0m: map() must have at least two arguments."
     ]
    }
   ],
   "source": [
    "lin_one_lise = list(map(zip(polygon_list[:-1], polygon_list[1:])))"
   ]
  },
  {
   "cell_type": "code",
   "execution_count": null,
   "id": "8869e9e3-81a9-4e6f-b9f5-d016242966e0",
   "metadata": {},
   "outputs": [],
   "source": [
    "polygon_list[]"
   ]
  },
  {
   "cell_type": "code",
   "execution_count": 146,
   "id": "a90d2902-eedc-4af1-ba12-26969139eed5",
   "metadata": {},
   "outputs": [
    {
     "name": "stdout",
     "output_type": "stream",
     "text": [
      "3\n"
     ]
    }
   ],
   "source": [
    "from rtree.index import Index\n",
    "\n",
    "# create an rtree for efficient spatial queries\n",
    "rtree = Index((i, p.bounds, None) for i, p in enumerate(polygon_list))\n",
    "donuts = []\n",
    "\n",
    "for i, this_poly in enumerate(polygon_list):\n",
    "    # loop over indices of approximately intersecting polygons\n",
    "    for j in rtree.intersection(this_poly.bounds):\n",
    "        # ignore the intersection of this polygon with itself\n",
    "        if i == j:\n",
    "            continue\n",
    "        other_poly = polygon_list[j]\n",
    "        # ensure the polygon fully contains our match\n",
    "        if this_poly.contains(other_poly):\n",
    "            donut = this_poly.difference(other_poly)\n",
    "            donuts.append(donut)\n",
    "            break  # quit searching\n",
    "\n",
    "print(len(donuts))"
   ]
  },
  {
   "cell_type": "code",
   "execution_count": 148,
   "id": "5f966b1b-ec19-47cf-bb1a-806d939fbd9e",
   "metadata": {},
   "outputs": [
    {
     "data": {
      "image/svg+xml": [
       "<svg xmlns=\"http://www.w3.org/2000/svg\" xmlns:xlink=\"http://www.w3.org/1999/xlink\" width=\"300\" height=\"300\" viewBox=\"77.76 -330.24 1896.48 2004.48\" preserveAspectRatio=\"xMinYMin meet\"><g transform=\"matrix(1,0,0,-1,0,1344.0)\"><g><path fill-rule=\"evenodd\" fill=\"#ff3333\" stroke=\"#555555\" stroke-width=\"13.3632\" opacity=\"0.6\" d=\"M 152.0,1600.0 L 1900.0,1600.0 L 1900.0,-256.0 L 1732.0,-256.0 L 1732.0,-144.0 L 320.0,-144.0 L 320.0,-256.0 L 152.0,-256.0 L 152.0,1600.0 z M 600.0,1152.0 L 600.0,256.0 L 756.0,256.0 L 756.0,372.0 L 1294.0,372.0 L 1294.0,256.0 L 1450.0,256.0 L 1450.0,1152.0 L 600.0,1152.0 z\" /><path fill-rule=\"evenodd\" fill=\"#ff3333\" stroke=\"#555555\" stroke-width=\"13.3632\" opacity=\"0.6\" d=\"M 1732.0,1452.0 L 1732.0,0.0 L 320.0,0.0 L 320.0,1452.0 L 1732.0,1452.0 z M 600.0,1152.0 L 600.0,256.0 L 756.0,256.0 L 756.0,372.0 L 1294.0,372.0 L 1294.0,256.0 L 1450.0,256.0 L 1450.0,1152.0 L 600.0,1152.0 z\" /><path fill-rule=\"evenodd\" fill=\"#ff3333\" stroke=\"#555555\" stroke-width=\"13.3632\" opacity=\"0.6\" d=\"M 600.0,1152.0 L 1450.0,1152.0 L 1450.0,256.0 L 1294.0,256.0 L 1294.0,372.0 L 756.0,372.0 L 756.0,256.0 L 600.0,256.0 L 600.0,1152.0 z M 1294.0,1012.0 L 756.0,1012.0 L 756.0,512.0 L 1294.0,512.0 L 1294.0,1012.0 z\" /></g></g></svg>"
      ],
      "text/plain": [
       "<shapely.geometry.multipolygon.MultiPolygon at 0x167551a0880>"
      ]
     },
     "execution_count": 148,
     "metadata": {},
     "output_type": "execute_result"
    }
   ],
   "source": [
    "MultiPolygon(donuts)"
   ]
  },
  {
   "cell_type": "code",
   "execution_count": null,
   "id": "0b190e20-cbe1-4956-bc22-6e37be4bba7f",
   "metadata": {},
   "outputs": [],
   "source": []
  },
  {
   "cell_type": "code",
   "execution_count": 138,
   "id": "7d05981b-ab7f-4007-b4aa-1f07c92c700c",
   "metadata": {},
   "outputs": [
    {
     "data": {
      "text/plain": [
       "1"
      ]
     },
     "execution_count": 138,
     "metadata": {},
     "output_type": "execute_result"
    }
   ],
   "source": [
    "outline.get_outside_border()"
   ]
  },
  {
   "cell_type": "code",
   "execution_count": 139,
   "id": "2edaf387-88c7-482e-9d05-b8f19784d242",
   "metadata": {},
   "outputs": [
    {
     "data": {
      "text/plain": [
       "<freetype.Outline at 0x16756492790>"
      ]
     },
     "execution_count": 139,
     "metadata": {},
     "output_type": "execute_result"
    }
   ],
   "source": [
    "outline"
   ]
  },
  {
   "cell_type": "code",
   "execution_count": 140,
   "id": "719ba282-7d57-46b5-b832-56695768b186",
   "metadata": {},
   "outputs": [
    {
     "data": {
      "image/svg+xml": [
       "<svg xmlns=\"http://www.w3.org/2000/svg\" xmlns:xlink=\"http://www.w3.org/1999/xlink\" width=\"300\" height=\"300\" viewBox=\"77.76 -330.24 1896.48 2004.48\" preserveAspectRatio=\"xMinYMin meet\"><g transform=\"matrix(1,0,0,-1,0,1344.0)\"><path fill-rule=\"evenodd\" fill=\"#ff3333\" stroke=\"#555555\" stroke-width=\"13.3632\" opacity=\"0.6\" d=\"M 152.0,1600.0 L 1900.0,1600.0 L 1900.0,-256.0 L 1732.0,-256.0 L 1732.0,-144.0 L 320.0,-144.0 L 320.0,-256.0 L 152.0,-256.0 L 1732.0,1452.0 L 320.0,1452.0 L 320.0,0.0 L 1732.0,0.0 L 600.0,1152.0 L 1450.0,1152.0 L 1450.0,256.0 L 1294.0,256.0 L 1294.0,372.0 L 756.0,372.0 L 756.0,256.0 L 600.0,256.0 L 1294.0,1012.0 L 756.0,1012.0 L 756.0,512.0 L 1294.0,512.0 L 152.0,1600.0 z\" /></g></svg>"
      ],
      "text/plain": [
       "<shapely.geometry.polygon.Polygon at 0x16756498280>"
      ]
     },
     "execution_count": 140,
     "metadata": {},
     "output_type": "execute_result"
    }
   ],
   "source": [
    "Polygon(point_list)"
   ]
  },
  {
   "cell_type": "code",
   "execution_count": 103,
   "id": "bb094da4-068e-4d25-8286-779951e27aa8",
   "metadata": {},
   "outputs": [
    {
     "data": {
      "text/plain": [
       "[[(228, 1600),\n",
       "  (1816, 1600),\n",
       "  (1816, -192),\n",
       "  (1644, -192),\n",
       "  (1644, -22),\n",
       "  (400, -22),\n",
       "  (400, -192),\n",
       "  (228, -192)],\n",
       " [(1644, 128), (1644, 1450), (400, 1450), (400, 128)]]"
      ]
     },
     "execution_count": 103,
     "metadata": {},
     "output_type": "execute_result"
    }
   ],
   "source": []
  },
  {
   "cell_type": "code",
   "execution_count": 113,
   "id": "d9043b55-408e-4992-b603-68f639060fdf",
   "metadata": {},
   "outputs": [
    {
     "data": {
      "image/svg+xml": [
       "<svg xmlns=\"http://www.w3.org/2000/svg\" xmlns:xlink=\"http://www.w3.org/1999/xlink\" width=\"300\" height=\"300\" viewBox=\"156.32 -263.68 1731.3600000000001 1935.3600000000001\" preserveAspectRatio=\"xMinYMin meet\"><g transform=\"matrix(1,0,0,-1,0,1408.0)\"><path fill-rule=\"evenodd\" fill=\"#ff3333\" stroke=\"#555555\" stroke-width=\"12.9024\" opacity=\"0.6\" d=\"M 228.0,1600.0 L 1816.0,1600.0 L 1816.0,-192.0 L 1644.0,-192.0 L 1644.0,-22.0 L 400.0,-22.0 L 400.0,-192.0 L 228.0,-192.0 L 228.0,1600.0 z M 228.0,1600.0 L 1816.0,1600.0 L 1816.0,-192.0 L 1644.0,-192.0 L 400.0,128.0 L 228.0,1600.0 z\" /></g></svg>"
      ],
      "text/plain": [
       "<shapely.geometry.polygon.Polygon at 0x167558e1e20>"
      ]
     },
     "execution_count": 113,
     "metadata": {},
     "output_type": "execute_result"
    }
   ],
   "source": [
    "Polygon(shell = [(228, 1600),(1816, 1600),(1816, -192),(1644, -192),(1644, -22),(400, -22),(400, -192),(228, -192)],\n",
    "          holes = [[(228, 1600),(1816, 1600),(1816, -192),(1644, -192), (400, 128)]])"
   ]
  },
  {
   "cell_type": "code",
   "execution_count": 52,
   "id": "2220f150-5ceb-4516-b40b-cfae9a9c8941",
   "metadata": {},
   "outputs": [
    {
     "data": {
      "text/plain": [
       "[7, 11]"
      ]
     },
     "execution_count": 52,
     "metadata": {},
     "output_type": "execute_result"
    }
   ],
   "source": [
    "outline.contours[:]"
   ]
  },
  {
   "cell_type": "code",
   "execution_count": 66,
   "id": "9c1f9007-e439-4824-925c-7a94e6f647a6",
   "metadata": {},
   "outputs": [
    {
     "data": {
      "text/plain": [
       "['_FT_Outline',\n",
       " '__class__',\n",
       " '__delattr__',\n",
       " '__dict__',\n",
       " '__dir__',\n",
       " '__doc__',\n",
       " '__eq__',\n",
       " '__format__',\n",
       " '__ge__',\n",
       " '__getattribute__',\n",
       " '__gt__',\n",
       " '__hash__',\n",
       " '__init__',\n",
       " '__init_subclass__',\n",
       " '__le__',\n",
       " '__lt__',\n",
       " '__module__',\n",
       " '__ne__',\n",
       " '__new__',\n",
       " '__reduce__',\n",
       " '__reduce_ex__',\n",
       " '__repr__',\n",
       " '__setattr__',\n",
       " '__sizeof__',\n",
       " '__str__',\n",
       " '__subclasshook__',\n",
       " '__weakref__',\n",
       " '_get_contours',\n",
       " '_get_points',\n",
       " '_get_tags',\n",
       " '_od_conic_to_builder',\n",
       " '_od_conic_to_noop',\n",
       " '_od_cubic_to_builder',\n",
       " '_od_cubic_to_noop',\n",
       " '_od_line_to_builder',\n",
       " '_od_line_to_noop',\n",
       " '_od_move_to_builder',\n",
       " '_od_move_to_noop',\n",
       " 'contours',\n",
       " 'decompose',\n",
       " 'flags',\n",
       " 'get_bbox',\n",
       " 'get_cbox',\n",
       " 'get_inside_border',\n",
       " 'get_outside_border',\n",
       " 'n_contours',\n",
       " 'n_points',\n",
       " 'points',\n",
       " 'tags']"
      ]
     },
     "execution_count": 66,
     "metadata": {},
     "output_type": "execute_result"
    }
   ],
   "source": [
    "dir(outline)"
   ]
  },
  {
   "cell_type": "code",
   "execution_count": 71,
   "id": "f1008866-36a5-4972-bd60-53976c84214a",
   "metadata": {},
   "outputs": [
    {
     "data": {
      "text/plain": [
       "0"
      ]
     },
     "execution_count": 71,
     "metadata": {},
     "output_type": "execute_result"
    }
   ],
   "source": [
    "outline.flags"
   ]
  },
  {
   "cell_type": "code",
   "execution_count": 63,
   "id": "cf95b0bf-95a3-4117-ae1f-52a2383782c3",
   "metadata": {},
   "outputs": [
    {
     "ename": "SyntaxError",
     "evalue": "invalid syntax (<ipython-input-63-300b08ed5286>, line 1)",
     "output_type": "error",
     "traceback": [
      "\u001b[1;36m  File \u001b[1;32m\"<ipython-input-63-300b08ed5286>\"\u001b[1;36m, line \u001b[1;32m1\u001b[0m\n\u001b[1;33m    outline2.\u001b[0m\n\u001b[1;37m             ^\u001b[0m\n\u001b[1;31mSyntaxError\u001b[0m\u001b[1;31m:\u001b[0m invalid syntax\n"
     ]
    }
   ],
   "source": [
    "outline2."
   ]
  },
  {
   "cell_type": "code",
   "execution_count": null,
   "id": "4b6bd537-286e-4547-b597-aabb734229d9",
   "metadata": {},
   "outputs": [],
   "source": [
    "dir(outline)"
   ]
  },
  {
   "cell_type": "code",
   "execution_count": null,
   "id": "91384316-856e-41fc-8a12-d544dbeedb4b",
   "metadata": {},
   "outputs": [],
   "source": [
    "point_list"
   ]
  },
  {
   "cell_type": "code",
   "execution_count": 51,
   "id": "f99047df-2f54-4adf-8522-162f8f520fc8",
   "metadata": {},
   "outputs": [
    {
     "data": {
      "image/svg+xml": [
       "<svg xmlns=\"http://www.w3.org/2000/svg\" xmlns:xlink=\"http://www.w3.org/1999/xlink\" width=\"300\" height=\"300\" viewBox=\"156.32 -263.68 1731.3600000000001 1935.3600000000001\" preserveAspectRatio=\"xMinYMin meet\"><g transform=\"matrix(1,0,0,-1,0,1408.0)\"><g><path fill-rule=\"evenodd\" fill=\"#ff3333\" stroke=\"#555555\" stroke-width=\"12.9024\" opacity=\"0.6\" d=\"M 228.0,1600.0 L 1816.0,1600.0 L 1816.0,-192.0 L 1644.0,-192.0 L 1644.0,-22.0 L 400.0,-22.0 L 400.0,-192.0 L 228.0,-192.0 L 228.0,1600.0 z\" /><path fill-rule=\"evenodd\" fill=\"#ff3333\" stroke=\"#555555\" stroke-width=\"12.9024\" opacity=\"0.6\" d=\"M 1644.0,128.0 L 1644.0,1450.0 L 400.0,1450.0 L 400.0,128.0 L 1644.0,128.0 z\" /></g></g></svg>"
      ],
      "text/plain": [
       "<shapely.geometry.multipolygon.MultiPolygon at 0x1675566b2e0>"
      ]
     },
     "execution_count": 51,
     "metadata": {},
     "output_type": "execute_result"
    }
   ],
   "source": [
    "MultiPolygon(polygon_list)"
   ]
  },
  {
   "cell_type": "code",
   "execution_count": 54,
   "id": "65aa4001-8aa7-4ec4-a522-916ab1e978e2",
   "metadata": {},
   "outputs": [
    {
     "data": {
      "image/svg+xml": [
       "<svg xmlns=\"http://www.w3.org/2000/svg\" xmlns:xlink=\"http://www.w3.org/1999/xlink\" width=\"300\" height=\"300\" viewBox=\"156.32 -263.68 1731.3600000000001 1935.3600000000001\" preserveAspectRatio=\"xMinYMin meet\"><g transform=\"matrix(1,0,0,-1,0,1408.0)\"><path fill-rule=\"evenodd\" fill=\"#66cc99\" stroke=\"#555555\" stroke-width=\"12.9024\" opacity=\"0.6\" d=\"M 228.0,1600.0 L 1816.0,1600.0 L 1816.0,-192.0 L 1644.0,-192.0 L 1644.0,-22.0 L 400.0,-22.0 L 400.0,-192.0 L 228.0,-192.0 L 228.0,1600.0 z\" /></g></svg>"
      ],
      "text/plain": [
       "<shapely.geometry.polygon.Polygon at 0x167560577f0>"
      ]
     },
     "execution_count": 54,
     "metadata": {},
     "output_type": "execute_result"
    }
   ],
   "source": [
    "Polygon(point_list[:8])"
   ]
  },
  {
   "cell_type": "code",
   "execution_count": null,
   "id": "82af2057-8cdf-49bc-8357-953246f48478",
   "metadata": {},
   "outputs": [],
   "source": [
    "#导出数据\n",
    "res_gdf = gpd.GeoDataFrame([Polygon(outline.points)]).rename(columns={0:'geometry'})\n",
    "res_gdf = gpd.GeoDataFrame(res_gdf,crs=\"epsg:4326\",geometry='geometry')\n",
    "res_gdf.to_file('d:/yyy.shp',encoding='gbk')"
   ]
  },
  {
   "cell_type": "code",
   "execution_count": null,
   "id": "e53b466f-6e8e-4169-96c6-b373d1ebdccb",
   "metadata": {},
   "outputs": [],
   "source": [
    "import freetype\n",
    " \n",
    "face = freetype.Face(\"c:/Windows/Fonts/msyh.ttc\")#微软雅黑\n",
    "face.set_char_size( 48*64 )\n",
    "face.load_char('交')\n",
    "bitmap = face.glyph.bitmap\n",
    "bitmap.buffer"
   ]
  },
  {
   "cell_type": "code",
   "execution_count": null,
   "id": "c457974b-6e06-41fb-aeca-59fc4ab431c7",
   "metadata": {},
   "outputs": [],
   "source": [
    "a = bitmap.points"
   ]
  },
  {
   "cell_type": "code",
   "execution_count": null,
   "id": "8a38727c-9716-4bc2-b8f8-35daf6846daa",
   "metadata": {},
   "outputs": [],
   "source": [
    "0x10000 * 2"
   ]
  },
  {
   "cell_type": "code",
   "execution_count": null,
   "id": "ecd0a54b-a3fc-4536-9140-e231f67ee295",
   "metadata": {},
   "outputs": [],
   "source": [
    "print(bitmap.)"
   ]
  },
  {
   "cell_type": "code",
   "execution_count": null,
   "id": "a344ab44-55cd-40f0-a81a-0aad3d146d3b",
   "metadata": {},
   "outputs": [],
   "source": [
    "from freetype import *\n",
    "\n",
    "if __name__ == '__main__':\n",
    "    import numpy\n",
    "    import matplotlib.pyplot as plt\n",
    "\n",
    "    face = Face('c:/Windows/Fonts/msyhl.ttc')\n",
    "    face.set_char_size( 4*48*64 )\n",
    "    flags = FT_LOAD_DEFAULT | FT_LOAD_NO_BITMAP\n",
    "    face.load_char('交', flags )\n",
    "    slot = face.glyph\n",
    "    glyph = slot.get_glyph()\n",
    "    stroker = Stroker( )\n",
    "    stroker.set(64, FT_STROKER_LINECAP_ROUND, FT_STROKER_LINEJOIN_ROUND, 0 )\n",
    "    glyph.stroke( stroker , True )\n",
    "    blyph = glyph.to_bitmap(FT_RENDER_MODE_NORMAL, Vector(0,0), True )\n",
    "    bitmap = blyph.bitmap\n",
    "    width, rows, pitch = bitmap.width, bitmap.rows, bitmap.pitch\n",
    "    top, left = blyph.top, blyph.left\n",
    "    data = []\n",
    "    for i in range(rows):\n",
    "        data.extend(bitmap.buffer[i*pitch:i*pitch+width])\n",
    "    Z = numpy.array(data,dtype=numpy.ubyte).reshape(rows, width)\n",
    "    plt.figure(figsize=(6,8))\n",
    "    plt.imshow(Z, interpolation='nearest', cmap=plt.cm.gray_r, origin='lower')\n",
    "    plt.show()"
   ]
  },
  {
   "cell_type": "code",
   "execution_count": null,
   "id": "34a8e772-45bb-40c8-be1f-a7488e21936d",
   "metadata": {},
   "outputs": [],
   "source": [
    "  \n",
    "#!/usr/bin/env python\n",
    "# -*- coding: utf-8 -*-\n",
    "# -----------------------------------------------------------------------------\n",
    "#\n",
    "#  FreeType high-level python API - Copyright 2011-2015 Nicolas P. Rougier\n",
    "#  Distributed under the terms of the new BSD license.\n",
    "#\n",
    "# -----------------------------------------------------------------------------\n",
    "import numpy\n",
    "import os, sys\n",
    "from freetype import *\n",
    "\n",
    "\n",
    "class ColorMap:\n",
    "    ''' A colormap is used to map scalar values to colors. It is build by\n",
    "        adding couples of (value,color) where value must be between 0 and 1.\n",
    "        The 'scale' method allows to specify the range of the colormap and\n",
    "        the 'color' method then returns a color for any value. '''\n",
    "\n",
    "    def __init__ (self, colors):\n",
    "        self.colors = colors\n",
    "        self.min    = 0\n",
    "        self.max    = 1\n",
    "\n",
    "    def scale (self, min, max):\n",
    "        self.min, self.max = min,max\n",
    "\n",
    "    def color (self, value):\n",
    "        ''' Return the color corresponding to value. '''\n",
    "        if not len(self.colors):\n",
    "            return (0,0,0)\n",
    "        elif len(self.colors) == 1:\n",
    "            return self.colors[0][1]\n",
    "        elif value < self.min:\n",
    "            return self.colors[0][1]\n",
    "        elif value > self.max:\n",
    "            return self.colors[-1][1]\n",
    "        value = (value-self.min)/(self.max-self.min)\n",
    "        sup_color = self.colors[0]\n",
    "        inf_color = self.colors[-1]\n",
    "        for i in range (len(self.colors)-1):\n",
    "            if value < self.colors[i+1][0]:\n",
    "                inf_color = self.colors[i]\n",
    "                sup_color = self.colors[i+1]\n",
    "                break\n",
    "        r = (value-inf_color[0]) / (sup_color[0] - inf_color[0])\n",
    "        if r < 0: r = -r\n",
    "        color = [sup_color[1][0]*r + inf_color[1][0]*(1-r),\n",
    "                 sup_color[1][1]*r + inf_color[1][1]*(1-r),\n",
    "                 sup_color[1][2]*r + inf_color[1][2]*(1-r)]\n",
    "        return color\n",
    "\n",
    "# Some colormaps\n",
    "CM_IceAndFire = ColorMap([(0.00, (0.0, 0.0, 1.0)),\n",
    "                         (0.25, (0.0, 0.5, 1.0)),\n",
    "                         (0.50, (1.0, 1.0, 1.0)),\n",
    "                         (0.75, (1.0, 1.0, 0.0)),\n",
    "                         (1.00, (1.0, 0.0, 0.0))])\n",
    "CM_Ice = ColorMap([(0.00, (0.0, 0.0, 1.0)),\n",
    "                   (0.50, (0.5, 0.5, 1.0)),\n",
    "                   (1.00, (1.0, 1.0, 1.0))])\n",
    "CM_Fire = ColorMap([(0.00, (1.0, 1.0, 1.0)),\n",
    "                    (0.50, (1.0, 1.0, 0.0)),\n",
    "                    (1.00, (1.0, 0.0, 0.0))])\n",
    "CM_Hot = ColorMap([(0.00, (0.0, 0.0, 0.0)),\n",
    "                   (0.33, (1.0, 0.0, 0.0)),\n",
    "                   (0.66, (1.0, 1.0, 0.0)),\n",
    "                   (1.00, (1.0, 1.0, 1.0))])\n",
    "CM_Grey = ColorMap([(0.00, (0.0, 0.0, 0.0)),\n",
    "                    (1.00, (1.0, 1.0, 1.0))])\n",
    "\n",
    "\n",
    "\n",
    "def imshow (Z, vmin=None, vmax=None, cmap=CM_Hot, show_cmap=False):\n",
    "    ''' Show a 2D numpy array using terminal colors '''\n",
    "\n",
    "    if len(Z.shape) != 2:\n",
    "        print (\"Cannot display non 2D array\")\n",
    "        return\n",
    "\n",
    "    vmin = vmin or Z.min()\n",
    "    vmax = vmax or Z.max()\n",
    "    cmap.scale (vmin, vmax)\n",
    "\n",
    "    # Build initialization string that setup terminal colors\n",
    "    init = ''\n",
    "    for i in range(240):\n",
    "        v = cmap.min + (i/240.0)* (cmap.max - cmap.min)\n",
    "        r,g,b = cmap.color (v)\n",
    "        init += \"\\x1b]4;%d;rgb:%02x/%02x/%02x\\x1b\\\\\" % (16+i, int(r*255),int(g*255),int(b*255))\n",
    "\n",
    "    # Build array data string\n",
    "    data = ''\n",
    "    for i in range(Z.shape[0]):\n",
    "        for j in range(Z.shape[1]):\n",
    "            c = 16 + int( ((Z[Z.shape[0]-i-1,j]-cmap.min) / (cmap.max-cmap.min))*239)\n",
    "            if (c < 16):\n",
    "                c=16\n",
    "            elif (c > 255):\n",
    "                c=255\n",
    "            data += \"\\x1b[48;5;%dm  \" % c\n",
    "            u = cmap.max - (i/float(Z.shape[0]-1)) * ((cmap.max-cmap.min))\n",
    "        if show_cmap:\n",
    "            data += \"\\x1b[0m  \"\n",
    "            data += \"\\x1b[48;5;%dm  \" % (16 + (1-i/float(Z.shape[0]))*239)\n",
    "            data += \"\\x1b[0m %+.2f\" % u\n",
    "        data += \"\\x1b[0m\\n\"\n",
    "    print (init+data[:-1]+'\\x1b[0m')\n",
    "\n",
    "\n",
    "if __name__ == '__main__':\n",
    "    face = Face('c:/Windows/Fonts/msyh.ttc')\n",
    "    face.set_char_size( 32*64 )\n",
    "    face.load_glyph(face.get_char_index('S'))\n",
    "    slot = face.glyph\n",
    "    bitmap = slot.bitmap\n",
    "    data, rows, width = bitmap.buffer, bitmap.rows, bitmap.width\n",
    "    Z = numpy.array(data,dtype=float).reshape(rows,width)\n",
    "    Z = Z[::-1,:]\n",
    "    imshow (Z, cmap=CM_Grey)\n"
   ]
  },
  {
   "cell_type": "code",
   "execution_count": null,
   "id": "2823e6f2-991e-41d6-a354-5bcead6a3e48",
   "metadata": {},
   "outputs": [],
   "source": []
  },
  {
   "cell_type": "code",
   "execution_count": null,
   "id": "7abe9110-1a8e-4b09-84c6-d5346c7d1cb2",
   "metadata": {},
   "outputs": [],
   "source": []
  },
  {
   "cell_type": "code",
   "execution_count": null,
   "id": "1e258180-55e1-401a-aa3b-9c191427270a",
   "metadata": {},
   "outputs": [],
   "source": []
  },
  {
   "cell_type": "code",
   "execution_count": null,
   "id": "852e0262-10e9-4a7e-90a3-9a6ab4e2cb26",
   "metadata": {},
   "outputs": [],
   "source": [
    "import freetype\n",
    "face = freetype.Face(\"C:/Windows/Fonts/VINERITC.TTF\")\n",
    "face.set_char_size( 48*64 )\n",
    "face.load_char(text)\n",
    "bitmap = face.glyph.outline"
   ]
  },
  {
   "cell_type": "code",
   "execution_count": null,
   "id": "552e7686-5d02-4704-8d52-e1423f6ab4ad",
   "metadata": {},
   "outputs": [],
   "source": [
    "Polygon(bitmap.points)"
   ]
  },
  {
   "cell_type": "code",
   "execution_count": null,
   "id": "b658ad4e-260d-48d3-81c3-4c7156343dd7",
   "metadata": {},
   "outputs": [],
   "source": []
  },
  {
   "cell_type": "code",
   "execution_count": null,
   "id": "2e0bd052-ad6f-45d0-8594-e8fa66740034",
   "metadata": {},
   "outputs": [],
   "source": []
  },
  {
   "cell_type": "code",
   "execution_count": null,
   "id": "9b4d2b20-89d7-463b-9a23-32c8fbe11835",
   "metadata": {},
   "outputs": [],
   "source": []
  },
  {
   "cell_type": "code",
   "execution_count": null,
   "id": "597ea4a2-3450-426f-88ca-9842b5c13459",
   "metadata": {},
   "outputs": [],
   "source": []
  },
  {
   "cell_type": "code",
   "execution_count": null,
   "id": "4b40eb98-8771-4814-afa2-84bf5796b389",
   "metadata": {},
   "outputs": [],
   "source": []
  },
  {
   "cell_type": "code",
   "execution_count": null,
   "id": "051f169e-d8b8-4470-bf50-552a523e0f36",
   "metadata": {},
   "outputs": [],
   "source": [
    "from ttfquery import describe\n",
    "from ttfquery import glyphquery\n",
    "import ttfquery.glyph as glyph\n",
    "char = \"a\"\n",
    "font_url =r\"C:\\Windows\\Fonts\\arial.ttf\"\n",
    "font = describe.openFont(font_url)\n",
    "g = glyph.Glyph(char) # or g = glyph.Glyph(glyphquery.glyphName(font, char))"
   ]
  },
  {
   "cell_type": "code",
   "execution_count": null,
   "id": "15998978-5b69-43f2-a8a6-6805197d5243",
   "metadata": {},
   "outputs": [],
   "source": [
    "contours = g.calculateContours(font) "
   ]
  },
  {
   "cell_type": "code",
   "execution_count": null,
   "id": "0e7a0c68-a7ef-459c-a131-978d99fe4230",
   "metadata": {},
   "outputs": [],
   "source": []
  },
  {
   "cell_type": "code",
   "execution_count": null,
   "id": "dbe339d2-00bd-403f-8093-fcbf3ca272cc",
   "metadata": {},
   "outputs": [],
   "source": [
    "from ttfquery import describe, glyphquery, glyph\n",
    "f = describe.openFont(r\"C:\\Windows\\Fonts\\arial.ttf\")\n",
    "n = glyphquery.glyphName(f, 'D')\n",
    "g = glyph.Glyph(n)\n",
    "c = g.calculateContours(f)\n",
    "o = glyph.decomposeOutline(c[1])"
   ]
  },
  {
   "cell_type": "code",
   "execution_count": null,
   "id": "98edd7a2-7e09-4b52-bda9-ce116c61d6db",
   "metadata": {},
   "outputs": [],
   "source": [
    "from shapely.geometry import Polygon,Point,LineString,MultiPolygon, MultiPoint\n",
    "from freetype import *\n",
    "face = Face(r'C:\\Windows\\Fonts\\arial.ttf')\n",
    "flags = FT_LOAD_DEFAULT | FT_LOAD_NO_BITMAP\n",
    "face.set_char_size( 32*64  )\n",
    "face.load_char('k', flags )\n",
    "slot = face.glyph\n",
    "outline = slot.outline\n",
    "Polygon(outline.points)"
   ]
  },
  {
   "cell_type": "code",
   "execution_count": null,
   "id": "8e056069-8c01-4731-bf07-3ff6aa5f3e0f",
   "metadata": {},
   "outputs": [],
   "source": []
  },
  {
   "cell_type": "code",
   "execution_count": null,
   "id": "4372575b-eb19-4983-8aa1-669aa8b9a3de",
   "metadata": {},
   "outputs": [],
   "source": []
  },
  {
   "cell_type": "code",
   "execution_count": null,
   "id": "0a0766c5-3c5b-4db1-a69a-1caea4b115e7",
   "metadata": {},
   "outputs": [],
   "source": [
    "import freetype\n",
    "face = freetype.Face(r'C:\\Windows\\Fonts\\arial.ttf')\n",
    "face.set_char_size( 48*64 )\n",
    "face.load_char('S')\n",
    "bitmap = face.glyph.bitmap\n",
    "print (bitmap.buffer)"
   ]
  },
  {
   "cell_type": "code",
   "execution_count": null,
   "id": "6aef29fc-d158-4169-a523-81ca149bc4fc",
   "metadata": {},
   "outputs": [],
   "source": []
  }
 ],
 "metadata": {
  "kernelspec": {
   "display_name": "Python 3",
   "language": "python",
   "name": "python3"
  },
  "language_info": {
   "codemirror_mode": {
    "name": "ipython",
    "version": 3
   },
   "file_extension": ".py",
   "mimetype": "text/x-python",
   "name": "python",
   "nbconvert_exporter": "python",
   "pygments_lexer": "ipython3",
   "version": "3.9.5"
  }
 },
 "nbformat": 4,
 "nbformat_minor": 5
}
