{
 "cells": [
  {
   "cell_type": "code",
   "execution_count": 1,
   "metadata": {},
   "outputs": [],
   "source": [
    "import mytools"
   ]
  },
  {
   "cell_type": "code",
   "execution_count": 2,
   "metadata": {},
   "outputs": [],
   "source": [
    "import pandas as pd"
   ]
  },
  {
   "cell_type": "code",
   "execution_count": 3,
   "metadata": {},
   "outputs": [],
   "source": [
    "import geopandas as gpd"
   ]
  },
  {
   "cell_type": "code",
   "execution_count": 5,
   "metadata": {},
   "outputs": [],
   "source": [
    "zhan = pd.read_clipboard()"
   ]
  },
  {
   "cell_type": "code",
   "execution_count": 21,
   "metadata": {},
   "outputs": [],
   "source": [
    "data = pd.read_clipboard()"
   ]
  },
  {
   "cell_type": "code",
   "execution_count": 22,
   "metadata": {},
   "outputs": [
    {
     "data": {
      "text/html": [
       "<div>\n",
       "<style scoped>\n",
       "    .dataframe tbody tr th:only-of-type {\n",
       "        vertical-align: middle;\n",
       "    }\n",
       "\n",
       "    .dataframe tbody tr th {\n",
       "        vertical-align: top;\n",
       "    }\n",
       "\n",
       "    .dataframe thead th {\n",
       "        text-align: right;\n",
       "    }\n",
       "</style>\n",
       "<table border=\"1\" class=\"dataframe\">\n",
       "  <thead>\n",
       "    <tr style=\"text-align: right;\">\n",
       "      <th></th>\n",
       "      <th>规划站名</th>\n",
       "      <th>地市</th>\n",
       "      <th>区县</th>\n",
       "      <th>主设备工期</th>\n",
       "      <th>衔接经度</th>\n",
       "      <th>衔接纬度</th>\n",
       "    </tr>\n",
       "  </thead>\n",
       "  <tbody>\n",
       "    <tr>\n",
       "      <th>0</th>\n",
       "      <td>D_蔡甸国家电网-H5H</td>\n",
       "      <td>武汉</td>\n",
       "      <td>经开</td>\n",
       "      <td>5G二期主设备（3888）</td>\n",
       "      <td>114.14635</td>\n",
       "      <td>30.49461</td>\n",
       "    </tr>\n",
       "  </tbody>\n",
       "</table>\n",
       "</div>"
      ],
      "text/plain": [
       "           规划站名  地市  区县          主设备工期       衔接经度      衔接纬度\n",
       "0  D_蔡甸国家电网-H5H  武汉  经开  5G二期主设备（3888）  114.14635  30.49461"
      ]
     },
     "execution_count": 22,
     "metadata": {},
     "output_type": "execute_result"
    }
   ],
   "source": [
    "zhan.head(1)"
   ]
  },
  {
   "cell_type": "code",
   "execution_count": 23,
   "metadata": {},
   "outputs": [
    {
     "data": {
      "text/html": [
       "<div>\n",
       "<style scoped>\n",
       "    .dataframe tbody tr th:only-of-type {\n",
       "        vertical-align: middle;\n",
       "    }\n",
       "\n",
       "    .dataframe tbody tr th {\n",
       "        vertical-align: top;\n",
       "    }\n",
       "\n",
       "    .dataframe thead th {\n",
       "        text-align: right;\n",
       "    }\n",
       "</style>\n",
       "<table border=\"1\" class=\"dataframe\">\n",
       "  <thead>\n",
       "    <tr style=\"text-align: right;\">\n",
       "      <th></th>\n",
       "      <th>id</th>\n",
       "      <th>场景名称</th>\n",
       "      <th>是否已规划5G室分</th>\n",
       "      <th>经度</th>\n",
       "      <th>纬度</th>\n",
       "    </tr>\n",
       "  </thead>\n",
       "  <tbody>\n",
       "    <tr>\n",
       "      <th>0</th>\n",
       "      <td>rr-1</td>\n",
       "      <td>蔡甸中心营业厅</td>\n",
       "      <td>是</td>\n",
       "      <td>114.03335</td>\n",
       "      <td>30.575471</td>\n",
       "    </tr>\n",
       "  </tbody>\n",
       "</table>\n",
       "</div>"
      ],
      "text/plain": [
       "     id     场景名称 是否已规划5G室分         经度         纬度\n",
       "0  rr-1  蔡甸中心营业厅         是  114.03335  30.575471"
      ]
     },
     "execution_count": 23,
     "metadata": {},
     "output_type": "execute_result"
    }
   ],
   "source": [
    "data.head(1)"
   ]
  },
  {
   "cell_type": "code",
   "execution_count": 24,
   "metadata": {
    "scrolled": false
   },
   "outputs": [],
   "source": [
    "\n",
    "def min_one(data_x,data_y,lon_x='经度',lat_x='纬度',lon_y='经度y',lat_y='纬度y'):\n",
    "    '''\n",
    "    求距离A数据(df格式)中每一条数据最近的一个数据（来自B数据）\n",
    "    其中两组数据的经纬度不要一样\n",
    "    示例：res = min_one(data,zhan,'经度','纬度','衔接经度','衔接纬度')\n",
    "    \n",
    "    data_x:需要计算距离的A数据（df格式）\n",
    "    data_y:计算距离所需要使用的B数据（df格式）\n",
    "    lon_x：lat_x：data_x表中的经纬度列名\n",
    "    lon_y：lat_y：data_y表中的经纬度列名\n",
    "    '''\n",
    "    #生成点gdf\n",
    "    data_x_p = mytools.gisn.add_points(data_x,lon_x,lat_x)\n",
    "    data_y_p = mytools.gisn.add_points(data_y,lon_y,lat_y)\n",
    "    \n",
    "    #匹配距离最近的数据\n",
    "    data_y_p_index = data_y_p.sindex\n",
    "    data_x_p['minimum_index'] = data_x_p['geometry'].apply(lambda x: list(data_y_p_index.nearest(x.bounds,num_results=1))[0])\n",
    "    res = data_x_p.merge(data_y_p,how='left',left_on='minimum_index',right_index = True)\n",
    "    \n",
    "    #添加距离\n",
    "    res1 = mytools.gisn.distancea_df(res,lon_x,lat_x,lon_y,lat_y)\n",
    "    return res1"
   ]
  },
  {
   "cell_type": "code",
   "execution_count": 25,
   "metadata": {},
   "outputs": [],
   "source": [
    "res = min_one(data,zhan,'经度','纬度','衔接经度','衔接纬度')"
   ]
  },
  {
   "cell_type": "code",
   "execution_count": 26,
   "metadata": {},
   "outputs": [],
   "source": [
    "res.to_clipboard()"
   ]
  },
  {
   "cell_type": "code",
   "execution_count": null,
   "metadata": {},
   "outputs": [],
   "source": []
  }
 ],
 "metadata": {
  "kernelspec": {
   "display_name": "Python 3",
   "language": "python",
   "name": "python3"
  },
  "language_info": {
   "codemirror_mode": {
    "name": "ipython",
    "version": 3
   },
   "file_extension": ".py",
   "mimetype": "text/x-python",
   "name": "python",
   "nbconvert_exporter": "python",
   "pygments_lexer": "ipython3",
   "version": "3.7.3"
  }
 },
 "nbformat": 4,
 "nbformat_minor": 2
}
