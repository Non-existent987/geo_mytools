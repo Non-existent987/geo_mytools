{
 "cells": [
  {
   "cell_type": "code",
   "execution_count": 1,
   "metadata": {
    "ExecuteTime": {
     "end_time": "2020-09-08T01:20:33.657647Z",
     "start_time": "2020-09-08T01:20:33.432118Z"
    }
   },
   "outputs": [],
   "source": [
    "import requests"
   ]
  },
  {
   "cell_type": "code",
   "execution_count": 2,
   "metadata": {
    "ExecuteTime": {
     "end_time": "2020-09-08T01:20:50.122737Z",
     "start_time": "2020-09-08T01:20:50.046728Z"
    }
   },
   "outputs": [
    {
     "name": "stdout",
     "output_type": "stream",
     "text": [
      "得到反解数据 {'status': 2, 'message': 'Parameter Invalid', 'results': []}\n"
     ]
    }
   ],
   "source": [
    "url ='http://api.map.baidu.com/place/v2/search?q=沃尔玛®ion=武汉&output=json&ak=5KaIctL2v9C558WdIFOgN5Q19lXOFjKn'\n",
    "response = requests.get(url)\n",
    "answer = response.json()\n",
    "print('得到反解数据', answer)"
   ]
  },
  {
   "cell_type": "code",
   "execution_count": 9,
   "metadata": {},
   "outputs": [
    {
     "data": {
      "text/plain": [
       "<Response [200]>"
      ]
     },
     "execution_count": 9,
     "metadata": {},
     "output_type": "execute_result"
    }
   ],
   "source": []
  },
  {
   "cell_type": "code",
   "execution_count": 3,
   "metadata": {
    "ExecuteTime": {
     "end_time": "2020-09-08T01:20:53.595678Z",
     "start_time": "2020-09-08T01:20:53.547172Z"
    }
   },
   "outputs": [
    {
     "name": "stdout",
     "output_type": "stream",
     "text": [
      "得到反解数据 {'status': 240, 'message': 'APP 服务被禁用'}\n"
     ]
    }
   ],
   "source": [
    "url ='http://api.map.baidu.com/geocoder/v2/?address=中国常州\"+name+\"&output=json&ak=5KaIctL2v9C558WdIFOgN5Q19lXOFjKn'\n",
    "response = requests.get(url)\n",
    "answer = response.json()\n",
    "print('得到反解数据', answer)"
   ]
  },
  {
   "cell_type": "code",
   "execution_count": null,
   "metadata": {},
   "outputs": [],
   "source": []
  },
  {
   "cell_type": "code",
   "execution_count": null,
   "metadata": {},
   "outputs": [],
   "source": []
  },
  {
   "cell_type": "code",
   "execution_count": 4,
   "metadata": {
    "ExecuteTime": {
     "end_time": "2020-09-08T01:20:56.172506Z",
     "start_time": "2020-09-08T01:20:56.117499Z"
    }
   },
   "outputs": [
    {
     "name": "stdout",
     "output_type": "stream",
     "text": [
      "得到反解数据 {'status': 'OK', 'result': {'location': {'lng': 86.866991, 'lat': 40.858796}, 'formatted_address': '新疆维吾尔自治区巴音郭楞蒙古自治州尉犁县', 'business': '', 'addressComponent': {'city': '巴音郭楞蒙古自治州', 'direction': '', 'distance': '', 'district': '尉犁县', 'province': '新疆维吾尔自治区', 'street': '', 'street_number': ''}, 'cityCode': 86}}\n"
     ]
    }
   ],
   "source": [
    "address = '40.8587960,86.866991'\n",
    "url = 'http://api.map.baidu.com/geocoder?output=json&key=f247cdb592eb43ebac6ccd27f796e2d2&location=' + str(address)\n",
    "response = requests.get(url)\n",
    "answer = response.json()\n",
    "print('得到反解数据', answer)"
   ]
  },
  {
   "cell_type": "code",
   "execution_count": 6,
   "metadata": {},
   "outputs": [
    {
     "data": {
      "text/plain": [
       "{'status': 'OK',\n",
       " 'result': {'location': {'lng': 86.866991, 'lat': 40.858796},\n",
       "  'formatted_address': '新疆维吾尔自治区巴音郭楞蒙古自治州尉犁县',\n",
       "  'business': '',\n",
       "  'addressComponent': {'city': '巴音郭楞蒙古自治州',\n",
       "   'direction': '',\n",
       "   'distance': '',\n",
       "   'district': '尉犁县',\n",
       "   'province': '新疆维吾尔自治区',\n",
       "   'street': '',\n",
       "   'street_number': ''},\n",
       "  'cityCode': 86}}"
      ]
     },
     "execution_count": 6,
     "metadata": {},
     "output_type": "execute_result"
    }
   ],
   "source": [
    "answer"
   ]
  },
  {
   "cell_type": "code",
   "execution_count": null,
   "metadata": {},
   "outputs": [],
   "source": []
  },
  {
   "cell_type": "code",
   "execution_count": 5,
   "metadata": {
    "ExecuteTime": {
     "end_time": "2020-09-08T01:20:59.590940Z",
     "start_time": "2020-09-08T01:20:59.527432Z"
    }
   },
   "outputs": [
    {
     "name": "stdout",
     "output_type": "stream",
     "text": [
      "得到反解数据 {'status': 'OK', 'result': {'location': {'lng': 86.866991, 'lat': 40.858796}, 'formatted_address': '新疆维吾尔自治区巴音郭楞蒙古自治州尉犁县', 'business': '', 'addressComponent': {'city': '巴音郭楞蒙古自治州', 'direction': '', 'distance': '', 'district': '尉犁县', 'province': '新疆维吾尔自治区', 'street': '', 'street_number': ''}, 'cityCode': 86}}\n",
      "86.866991|40.858796|新疆维吾尔自治区巴音郭楞蒙古自治州尉犁县||巴音郭楞蒙古自治州|巴音郭楞蒙古自治州||尉犁县|新疆维吾尔自治区|||86\n"
     ]
    }
   ],
   "source": [
    "address = '40.8587960,86.866991'\n",
    "url = 'http://api.map.baidu.com/geocoder?output=json&key=5KaIctL2v9C558WdIFOgN5Q19lXOFjKn&location=' + str(address)\n",
    "response = requests.get(url)\n",
    "answer = response.json()\n",
    "print('得到反解数据', answer)\n",
    "lng = answer['result']['location']['lng']\n",
    "lat = answer['result']['location']['lat']\n",
    "formatted_address = answer['result']['formatted_address']\n",
    "business = answer['result']['business']\n",
    "city = answer['result']['addressComponent']['city']\n",
    "direction = answer['result']['addressComponent']['city']\n",
    "distance = answer['result']['addressComponent']['direction']\n",
    "district = answer['result']['addressComponent']['district']\n",
    "province = answer['result']['addressComponent']['province']\n",
    "street = answer['result']['addressComponent']['street']\n",
    "street_number = answer['result']['addressComponent']['street_number']\n",
    "cityCode = answer['result']['cityCode']\n",
    "s = str(lng) + '|' + str(lat)+ '|'  + str(formatted_address) + '|' + str(business) + '|'+ str(city) + '|'+ str(direction) + '|'+ str(distance) + '|'+ str(district) + '|'+ str(province) + '|'+ str(street) + '|'+ str(street_number) + '|'+ str(cityCode)\n",
    "print(s)\n"
   ]
  },
  {
   "cell_type": "code",
   "execution_count": null,
   "metadata": {},
   "outputs": [],
   "source": []
  },
  {
   "cell_type": "code",
   "execution_count": 6,
   "metadata": {
    "ExecuteTime": {
     "end_time": "2020-09-08T01:21:04.015002Z",
     "start_time": "2020-09-08T01:21:03.944993Z"
    }
   },
   "outputs": [
    {
     "name": "stdout",
     "output_type": "stream",
     "text": [
      "116.413384 39.910925\n"
     ]
    }
   ],
   "source": [
    "address = '北京市'\n",
    "url= 'http://api.map.baidu.com/geocoder?output=json&key=5KaIctL2v9C558WdIFOgN5Q19lXOFjKn&address='+str(address)\n",
    "\n",
    "\n",
    "response = requests.get(url)\n",
    "answer = response.json()\n",
    "lon = float(answer['result']['location']['lng'])\n",
    "lat = float(answer['result']['location']['lat'])\n",
    "print(lon,lat)"
   ]
  },
  {
   "cell_type": "code",
   "execution_count": 10,
   "metadata": {
    "ExecuteTime": {
     "end_time": "2020-09-08T01:34:41.530813Z",
     "start_time": "2020-09-08T01:34:41.045751Z"
    }
   },
   "outputs": [
    {
     "ename": "KeyError",
     "evalue": "'address'",
     "output_type": "error",
     "traceback": [
      "\u001b[1;31m---------------------------------------------------------------------------\u001b[0m",
      "\u001b[1;31mKeyError\u001b[0m                                  Traceback (most recent call last)",
      "\u001b[1;32m<ipython-input-10-466a940693a7>\u001b[0m in \u001b[0;36m<module>\u001b[1;34m\u001b[0m\n\u001b[0;32m     19\u001b[0m         \u001b[0mprint\u001b[0m\u001b[1;33m(\u001b[0m\u001b[1;34m'地址：'\u001b[0m\u001b[1;33m+\u001b[0m\u001b[0maddress\u001b[0m\u001b[1;33m)\u001b[0m\u001b[1;33m\u001b[0m\u001b[1;33m\u001b[0m\u001b[0m\n\u001b[0;32m     20\u001b[0m         \u001b[0mprint\u001b[0m\u001b[1;33m(\u001b[0m\u001b[1;34m'电话：'\u001b[0m\u001b[1;33m+\u001b[0m\u001b[0mtelephone\u001b[0m\u001b[1;33m)\u001b[0m\u001b[1;33m\u001b[0m\u001b[1;33m\u001b[0m\u001b[0m\n\u001b[1;32m---> 21\u001b[1;33m \u001b[0mbaidu_search\u001b[0m\u001b[1;33m(\u001b[0m\u001b[1;34m'开封'\u001b[0m\u001b[1;33m,\u001b[0m\u001b[1;34m'百脉'\u001b[0m\u001b[1;33m)\u001b[0m\u001b[1;33m\u001b[0m\u001b[1;33m\u001b[0m\u001b[0m\n\u001b[0m",
      "\u001b[1;32m<ipython-input-10-466a940693a7>\u001b[0m in \u001b[0;36mbaidu_search\u001b[1;34m(query, region)\u001b[0m\n\u001b[0;32m     13\u001b[0m         \u001b[0mlng\u001b[0m \u001b[1;33m=\u001b[0m \u001b[0mfloat\u001b[0m\u001b[1;33m(\u001b[0m\u001b[0mlocation\u001b[0m\u001b[1;33m[\u001b[0m\u001b[1;34m'lng'\u001b[0m\u001b[1;33m]\u001b[0m\u001b[1;33m)\u001b[0m\u001b[1;33m\u001b[0m\u001b[1;33m\u001b[0m\u001b[0m\n\u001b[0;32m     14\u001b[0m         \u001b[0mlat\u001b[0m \u001b[1;33m=\u001b[0m \u001b[0mfloat\u001b[0m\u001b[1;33m(\u001b[0m\u001b[0mlocation\u001b[0m\u001b[1;33m[\u001b[0m\u001b[1;34m'lat'\u001b[0m\u001b[1;33m]\u001b[0m\u001b[1;33m)\u001b[0m\u001b[1;33m\u001b[0m\u001b[1;33m\u001b[0m\u001b[0m\n\u001b[1;32m---> 15\u001b[1;33m         \u001b[0maddress\u001b[0m \u001b[1;33m=\u001b[0m \u001b[0madr\u001b[0m\u001b[1;33m[\u001b[0m\u001b[1;34m'address'\u001b[0m\u001b[1;33m]\u001b[0m\u001b[1;33m\u001b[0m\u001b[1;33m\u001b[0m\u001b[0m\n\u001b[0m\u001b[0;32m     16\u001b[0m         \u001b[0mtelephone\u001b[0m \u001b[1;33m=\u001b[0m \u001b[0madr\u001b[0m\u001b[1;33m[\u001b[0m\u001b[1;34m'telephone'\u001b[0m\u001b[1;33m]\u001b[0m\u001b[1;33m\u001b[0m\u001b[1;33m\u001b[0m\u001b[0m\n\u001b[0;32m     17\u001b[0m         \u001b[0mprint\u001b[0m\u001b[1;33m(\u001b[0m\u001b[1;34m'名称：'\u001b[0m\u001b[1;33m+\u001b[0m\u001b[0mname\u001b[0m\u001b[1;33m)\u001b[0m\u001b[1;33m\u001b[0m\u001b[1;33m\u001b[0m\u001b[0m\n",
      "\u001b[1;31mKeyError\u001b[0m: 'address'"
     ]
    }
   ],
   "source": [
    "#百度地图API搜索\n",
    "def baidu_search(query, region):\n",
    "    url = 'http://api.map.baidu.com/place/v2/search?'\n",
    "    output = 'json'\n",
    "    ak = '5KaIctL2v9C558WdIFOgN5Q19lXOFjKn'\n",
    "    uri = url + 'query=' + query + '&region='+region+'&output=' + output + '&ak=' + ak\n",
    "    r = requests.get(uri)\n",
    "    response_dict = r.json()\n",
    "    results = response_dict[\"results\"]\n",
    "    for adr in results:\n",
    "        name = adr['name']\n",
    "        location= adr['location']\n",
    "        lng = float(location['lng'])\n",
    "        lat = float(location['lat'])\n",
    "        address = adr['address']\n",
    "        telephone = adr['telephone']\n",
    "        print('名称：'+name)\n",
    "        print('坐标：%f,%f' %(lat,lng))\n",
    "        print('地址：'+address)\n",
    "        print('电话：'+telephone)\n",
    "baidu_search('开封','百脉')"
   ]
  },
  {
   "cell_type": "code",
   "execution_count": 25,
   "metadata": {},
   "outputs": [],
   "source": [
    "query='沃尔玛'\n",
    "region='武汉'"
   ]
  },
  {
   "cell_type": "code",
   "execution_count": 26,
   "metadata": {},
   "outputs": [
    {
     "ename": "KeyError",
     "evalue": "'results'",
     "output_type": "error",
     "traceback": [
      "\u001b[1;31m---------------------------------------------------------------------------\u001b[0m",
      "\u001b[1;31mKeyError\u001b[0m                                  Traceback (most recent call last)",
      "\u001b[1;32m<ipython-input-26-da2bd35567dd>\u001b[0m in \u001b[0;36m<module>\u001b[1;34m\u001b[0m\n\u001b[0;32m      5\u001b[0m \u001b[0mr\u001b[0m \u001b[1;33m=\u001b[0m \u001b[0mrequests\u001b[0m\u001b[1;33m.\u001b[0m\u001b[0mget\u001b[0m\u001b[1;33m(\u001b[0m\u001b[0muri\u001b[0m\u001b[1;33m)\u001b[0m\u001b[1;33m\u001b[0m\u001b[1;33m\u001b[0m\u001b[0m\n\u001b[0;32m      6\u001b[0m \u001b[0mresponse_dict\u001b[0m \u001b[1;33m=\u001b[0m \u001b[0mr\u001b[0m\u001b[1;33m.\u001b[0m\u001b[0mjson\u001b[0m\u001b[1;33m(\u001b[0m\u001b[1;33m)\u001b[0m\u001b[1;33m\u001b[0m\u001b[1;33m\u001b[0m\u001b[0m\n\u001b[1;32m----> 7\u001b[1;33m \u001b[0mresults\u001b[0m \u001b[1;33m=\u001b[0m \u001b[0mresponse_dict\u001b[0m\u001b[1;33m[\u001b[0m\u001b[1;34m\"results\"\u001b[0m\u001b[1;33m]\u001b[0m\u001b[1;33m\u001b[0m\u001b[1;33m\u001b[0m\u001b[0m\n\u001b[0m\u001b[0;32m      8\u001b[0m \u001b[1;32mfor\u001b[0m \u001b[0madr\u001b[0m \u001b[1;32min\u001b[0m \u001b[0mresults\u001b[0m\u001b[1;33m:\u001b[0m\u001b[1;33m\u001b[0m\u001b[1;33m\u001b[0m\u001b[0m\n\u001b[0;32m      9\u001b[0m     \u001b[0mname\u001b[0m \u001b[1;33m=\u001b[0m \u001b[0madr\u001b[0m\u001b[1;33m[\u001b[0m\u001b[1;34m'name'\u001b[0m\u001b[1;33m]\u001b[0m\u001b[1;33m\u001b[0m\u001b[1;33m\u001b[0m\u001b[0m\n",
      "\u001b[1;31mKeyError\u001b[0m: 'results'"
     ]
    }
   ],
   "source": [
    "http://api.map.baidu.com/place/v2/search?query=麦德龙&tag=超市&region=武汉&output=json&ak=5KaIctL2v9C558WdIFOgN5Q19lXOFjKn\n",
    "\n",
    "url = 'http://api.map.baidu.com/place/v2/search?'\n",
    "output = 'json'\n",
    "ak = '5KaIctL2v9C558WdIFOgN5Q19lXOFjKn'\n",
    "uri = url + 'query=' + query + '&region='+region+'&output=' + output + '&ak=' + ak\n",
    "r = requests.get(uri)\n",
    "response_dict = r.json()\n",
    "results = response_dict[\"results\"]\n",
    "for adr in results:\n",
    "    name = adr['name']\n",
    "    location= adr['location']\n",
    "    lng = float(location['lng'])\n",
    "    lat = float(location['lat'])\n",
    "    address = adr['address']\n",
    "    telephone = adr['telephone']\n",
    "    print('名称：'+name)\n",
    "    print('坐标：%f,%f' %(lat,lng))\n",
    "    print('地址：'+address)\n",
    "    print('电话：'+telephone)"
   ]
  },
  {
   "cell_type": "code",
   "execution_count": 27,
   "metadata": {},
   "outputs": [
    {
     "data": {
      "text/plain": [
       "{'status': 220, 'message': 'APP Referer校验失败'}"
      ]
     },
     "execution_count": 27,
     "metadata": {},
     "output_type": "execute_result"
    }
   ],
   "source": [
    "response_dict"
   ]
  },
  {
   "cell_type": "code",
   "execution_count": 11,
   "metadata": {
    "ExecuteTime": {
     "end_time": "2020-09-08T01:34:53.113784Z",
     "start_time": "2020-09-08T01:34:52.929760Z"
    }
   },
   "outputs": [
    {
     "data": {
      "text/plain": [
       "{'status': 0, 'message': 'ok', 'total': 0, 'results': []}"
      ]
     },
     "execution_count": 11,
     "metadata": {},
     "output_type": "execute_result"
    }
   ],
   "source": [
    "import requests\n",
    "import json\n",
    "\n",
    "def getjson(loc='开封',name='百脉'):\n",
    "    headers = {'User-Agent' : 'Mozilla/5.0 (Windows; U; Windows NT 6.1; en-US; rv:1.9.1.6) Gecko/20091201 Firefox/3.5.6'} \n",
    "    pa = {\n",
    "        'q': name, \n",
    "        'region': loc,\n",
    "        'scope': '2',\n",
    "        'city_limit':'true',\n",
    "        'page_size': 20,\n",
    "        'page_num': 0, \n",
    "        'output': 'json',\n",
    "        'ak': '5KaIctL2v9C558WdIFOgN5Q19lXOFjKn'\n",
    "    }\n",
    "    r = requests.get(\"http://api.map.baidu.com/place/v2/search\", params=pa, headers= headers)\n",
    "    decodejson = json.loads(r.text)\n",
    "    return decodejson\n",
    "getjson('开封','百脉')"
   ]
  },
  {
   "cell_type": "code",
   "execution_count": 12,
   "metadata": {
    "ExecuteTime": {
     "end_time": "2020-09-08T01:34:57.114292Z",
     "start_time": "2020-09-08T01:34:56.816754Z"
    }
   },
   "outputs": [
    {
     "data": {
      "text/plain": [
       "{'status': 0,\n",
       " 'message': 'ok',\n",
       " 'total': 16,\n",
       " 'results': [{'name': '沃尔玛购物广场(武汉南湖花园店)',\n",
       "   'location': {'lat': 30.511769, 'lng': 114.331392},\n",
       "   'address': '武汉市武昌区丁字桥南路南湖城市广场第2-3层',\n",
       "   'province': '湖北省',\n",
       "   'city': '武汉市',\n",
       "   'area': '武昌区',\n",
       "   'street_id': '319e9bbd6776a398cf04efaa',\n",
       "   'telephone': '(027)88100338,(027)88100354',\n",
       "   'detail': 1,\n",
       "   'uid': '319e9bbd6776a398cf04efaa',\n",
       "   'detail_info': {'tag': '购物;超市',\n",
       "    'navi_location': {'lng': 114.33186016382, 'lat': 30.512191753281},\n",
       "    'indoor_floor': 'F2',\n",
       "    'type': 'shopping',\n",
       "    'detail_url': 'http://api.map.baidu.com/place/detail?uid=319e9bbd6776a398cf04efaa&output=html&source=placeapi_v2',\n",
       "    'price': '113.0',\n",
       "    'overall_rating': '4.3',\n",
       "    'comment_num': '50',\n",
       "    'children': []}},\n",
       "  {'name': '沃尔玛购物广场(武汉光谷店)',\n",
       "   'location': {'lat': 30.4841, 'lng': 114.417325},\n",
       "   'address': '湖北省武汉市洪山区关山大道475号光谷天地2-3层',\n",
       "   'province': '湖北省',\n",
       "   'city': '武汉市',\n",
       "   'area': '洪山区',\n",
       "   'street_id': 'b24d7acaf17fdd3dcd04efe1',\n",
       "   'telephone': '(027)86643496',\n",
       "   'detail': 1,\n",
       "   'uid': 'b24d7acaf17fdd3dcd04efe1',\n",
       "   'detail_info': {'tag': '购物;超市',\n",
       "    'navi_location': {'lng': 114.4180102745, 'lat': 30.484595387372},\n",
       "    'indoor_floor': 'F3',\n",
       "    'type': 'shopping',\n",
       "    'detail_url': 'http://api.map.baidu.com/place/detail?uid=b24d7acaf17fdd3dcd04efe1&output=html&source=placeapi_v2',\n",
       "    'price': '111.0',\n",
       "    'overall_rating': '4.3',\n",
       "    'comment_num': '50',\n",
       "    'children': []}},\n",
       "  {'name': '沃尔玛购物广场(海林广场店)',\n",
       "   'location': {'lat': 30.628359, 'lng': 114.150969},\n",
       "   'address': '武汉市东西湖区东吴大道1160号海林阳光城2-3层',\n",
       "   'province': '湖北省',\n",
       "   'city': '武汉市',\n",
       "   'area': '东西湖区',\n",
       "   'street_id': '7ba990b9859b5b60c61e51af',\n",
       "   'telephone': '(027)83220710',\n",
       "   'detail': 1,\n",
       "   'uid': 'f9b7cfe9d682ad13cafa5fc1',\n",
       "   'detail_info': {'tag': '购物;超市',\n",
       "    'navi_location': {'lng': 114.15207883441, 'lat': 30.628715192899},\n",
       "    'indoor_floor': 'F3',\n",
       "    'type': 'shopping',\n",
       "    'detail_url': 'http://api.map.baidu.com/place/detail?uid=f9b7cfe9d682ad13cafa5fc1&output=html&source=placeapi_v2',\n",
       "    'overall_rating': '4.1',\n",
       "    'comment_num': '34',\n",
       "    'children': []}},\n",
       "  {'name': '沃尔玛购物广场(万达广场店)',\n",
       "   'location': {'lat': 30.616041, 'lng': 114.275175},\n",
       "   'address': '武汉市江汉区新华西路菱角湖万达广场地下第一层',\n",
       "   'province': '湖北省',\n",
       "   'city': '武汉市',\n",
       "   'area': '江汉区',\n",
       "   'street_id': 'e85e252736ace14a95f08c0a',\n",
       "   'telephone': '(027)85690700',\n",
       "   'detail': 1,\n",
       "   'uid': 'e85e252736ace14a95f08c0a',\n",
       "   'detail_info': {'tag': '购物;超市',\n",
       "    'navi_location': {'lng': 114.27733712013, 'lat': 30.616568839434},\n",
       "    'indoor_floor': 'B1',\n",
       "    'type': 'shopping',\n",
       "    'detail_url': 'http://api.map.baidu.com/place/detail?uid=e85e252736ace14a95f08c0a&output=html&source=placeapi_v2',\n",
       "    'price': '106.0',\n",
       "    'overall_rating': '4.1',\n",
       "    'comment_num': '50',\n",
       "    'children': []}},\n",
       "  {'name': '沃尔玛购物广场(杨家湾分店)',\n",
       "   'location': {'lat': 30.512862, 'lng': 114.385761},\n",
       "   'address': '武汉市洪山区卓刀泉路276号',\n",
       "   'province': '湖北省',\n",
       "   'city': '武汉市',\n",
       "   'area': '洪山区',\n",
       "   'street_id': '6a8b1c9a19c273afb13c8154',\n",
       "   'telephone': '(027)87560112',\n",
       "   'detail': 1,\n",
       "   'uid': '6a8b1c9a19c273afb13c8154',\n",
       "   'detail_info': {'tag': '购物;超市',\n",
       "    'navi_location': {'lng': 114.38593757791, 'lat': 30.512012805066},\n",
       "    'type': 'shopping',\n",
       "    'detail_url': 'http://api.map.baidu.com/place/detail?uid=6a8b1c9a19c273afb13c8154&output=html&source=placeapi_v2',\n",
       "    'overall_rating': '4.5',\n",
       "    'comment_num': '50',\n",
       "    'children': []}},\n",
       "  {'name': '沃尔玛购物广场(江夏店)',\n",
       "   'location': {'lat': 30.373332, 'lng': 114.331938},\n",
       "   'address': '武汉市江夏区谭鑫培路19号',\n",
       "   'province': '湖北省',\n",
       "   'city': '武汉市',\n",
       "   'area': '江夏区',\n",
       "   'telephone': '(027)87968012',\n",
       "   'detail': 1,\n",
       "   'uid': '968c55b1adca33c1d13ce347',\n",
       "   'detail_info': {'tag': '购物;超市',\n",
       "    'navi_location': {'lng': 114.33194629106, 'lat': 30.373679497505},\n",
       "    'type': 'shopping',\n",
       "    'detail_url': 'http://api.map.baidu.com/place/detail?uid=968c55b1adca33c1d13ce347&output=html&source=placeapi_v2',\n",
       "    'overall_rating': '4.4',\n",
       "    'comment_num': '29',\n",
       "    'children': []}},\n",
       "  {'name': '沃尔玛购物广场(徐东大街店)',\n",
       "   'location': {'lat': 30.594681, 'lng': 114.349621},\n",
       "   'address': '武汉市武昌区徐东大街18号销品茂B1层',\n",
       "   'province': '湖北省',\n",
       "   'city': '武汉市',\n",
       "   'area': '武昌区',\n",
       "   'street_id': '083a55fab0c3ea60246e9830',\n",
       "   'telephone': '(027)68898651',\n",
       "   'detail': 1,\n",
       "   'uid': '083a55fab0c3ea60246e9830',\n",
       "   'detail_info': {'tag': '购物;超市',\n",
       "    'navi_location': {'lng': 114.35104694185, 'lat': 30.59529779028},\n",
       "    'indoor_floor': 'B1',\n",
       "    'type': 'shopping',\n",
       "    'detail_url': 'http://api.map.baidu.com/place/detail?uid=083a55fab0c3ea60246e9830&output=html&source=placeapi_v2',\n",
       "    'price': '111.0',\n",
       "    'overall_rating': '4.0',\n",
       "    'comment_num': '50',\n",
       "    'children': []}},\n",
       "  {'name': '沃尔玛购物广场(武汉中山大道店)',\n",
       "   'location': {'lat': 30.582798, 'lng': 114.297575},\n",
       "   'address': '湖北省武汉市江汉区民生路176号悦荟广场B座2-3层',\n",
       "   'province': '湖北省',\n",
       "   'city': '武汉市',\n",
       "   'area': '江汉区',\n",
       "   'street_id': '6ed3083ac83210ae2b3a9f30',\n",
       "   'telephone': '(027)82759896,(027)82759899',\n",
       "   'detail': 1,\n",
       "   'uid': '6ed3083ac83210ae2b3a9f30',\n",
       "   'detail_info': {'tag': '购物;超市',\n",
       "    'navi_location': {'lng': 114.29804158083, 'lat': 30.582323739051},\n",
       "    'indoor_floor': 'F3',\n",
       "    'type': 'shopping',\n",
       "    'detail_url': 'http://api.map.baidu.com/place/detail?uid=6ed3083ac83210ae2b3a9f30&output=html&source=placeapi_v2',\n",
       "    'price': '61.0',\n",
       "    'overall_rating': '4.2',\n",
       "    'comment_num': '50',\n",
       "    'children': []}},\n",
       "  {'name': '沃尔玛购物广场(马鹦路店)',\n",
       "   'location': {'lat': 30.543623, 'lng': 114.261784},\n",
       "   'address': '湖北省武汉市汉阳区马鹦路117号江腾广场A座二层',\n",
       "   'province': '湖北省',\n",
       "   'city': '武汉市',\n",
       "   'area': '汉阳区',\n",
       "   'telephone': '(027)84688133,(027)84688136',\n",
       "   'detail': 1,\n",
       "   'uid': '99c3d38ef50e42747bf7960a',\n",
       "   'detail_info': {'tag': '购物;超市',\n",
       "    'navi_location': {'lng': 114.2614268854, 'lat': 30.542961908541},\n",
       "    'type': 'shopping',\n",
       "    'detail_url': 'http://api.map.baidu.com/place/detail?uid=99c3d38ef50e42747bf7960a&output=html&source=placeapi_v2',\n",
       "    'overall_rating': '4.4',\n",
       "    'comment_num': '39',\n",
       "    'children': []}},\n",
       "  {'name': '沃尔玛购物广场(汉西店)',\n",
       "   'location': {'lat': 30.590606, 'lng': 114.229705},\n",
       "   'address': '武汉市硚口区解放大道201号南国西汇城市广场2-3层',\n",
       "   'province': '湖北省',\n",
       "   'city': '武汉市',\n",
       "   'area': '硚口区',\n",
       "   'street_id': '20126c3f3c07f6c1077ce8b0',\n",
       "   'telephone': '(027)83988808',\n",
       "   'detail': 1,\n",
       "   'uid': '20126c3f3c07f6c1077ce8b0',\n",
       "   'detail_info': {'tag': '购物;超市',\n",
       "    'navi_location': {'lng': 114.22940748168, 'lat': 30.590940537824},\n",
       "    'indoor_floor': 'F2',\n",
       "    'type': 'shopping',\n",
       "    'detail_url': 'http://api.map.baidu.com/place/detail?uid=20126c3f3c07f6c1077ce8b0&output=html&source=placeapi_v2',\n",
       "    'overall_rating': '4.1',\n",
       "    'comment_num': '50',\n",
       "    'children': []}},\n",
       "  {'name': '沃尔玛购物广场(武汉钟家村店)',\n",
       "   'location': {'lat': 30.55515, 'lng': 114.274021},\n",
       "   'address': '武汉市汉阳区汉阳大道137号汉商银座购物中心B1层',\n",
       "   'province': '湖北省',\n",
       "   'city': '武汉市',\n",
       "   'area': '汉阳区',\n",
       "   'street_id': '799413ae747679b06cc02c54',\n",
       "   'telephone': '(027)84598980,(027)84598913,(027)84598966',\n",
       "   'detail': 1,\n",
       "   'uid': '799413ae747679b06cc02c54',\n",
       "   'detail_info': {'tag': '购物;超市',\n",
       "    'navi_location': {'lng': 114.27494683248, 'lat': 30.555056108681},\n",
       "    'indoor_floor': 'B1',\n",
       "    'type': 'shopping',\n",
       "    'detail_url': 'http://api.map.baidu.com/place/detail?uid=799413ae747679b06cc02c54&output=html&source=placeapi_v2',\n",
       "    'price': '30.0',\n",
       "    'overall_rating': '4.2',\n",
       "    'comment_num': '50',\n",
       "    'children': []}},\n",
       "  {'name': '沃尔玛购物广场(武汉印象城店)',\n",
       "   'location': {'lat': 30.638228, 'lng': 114.396406},\n",
       "   'address': '武汉市青山区和平大道1278号印象城B1层',\n",
       "   'province': '湖北省',\n",
       "   'city': '武汉市',\n",
       "   'area': '青山区',\n",
       "   'detail': 1,\n",
       "   'uid': '964c0c1bdbd906c37369d3a8',\n",
       "   'detail_info': {'tag': '购物;超市',\n",
       "    'indoor_floor': 'F1',\n",
       "    'type': 'shopping',\n",
       "    'detail_url': 'http://api.map.baidu.com/place/detail?uid=964c0c1bdbd906c37369d3a8&output=html&source=placeapi_v2',\n",
       "    'overall_rating': '4.3',\n",
       "    'comment_num': '50',\n",
       "    'children': []}},\n",
       "  {'name': '沃尔玛购物广场(武汉王家湾店)',\n",
       "   'location': {'lat': 30.565075, 'lng': 114.213523},\n",
       "   'address': '湖北省武汉市汉阳区龙阳大道特6号武汉摩尔城负1层',\n",
       "   'province': '湖北省',\n",
       "   'city': '武汉市',\n",
       "   'area': '汉阳区',\n",
       "   'street_id': '2c0bd6c54359ddb343ab9a30',\n",
       "   'telephone': '(027)84459818',\n",
       "   'detail': 1,\n",
       "   'uid': '2c0bd6c54359ddb343ab9a30',\n",
       "   'detail_info': {'tag': '购物;超市',\n",
       "    'navi_location': {'lng': 114.21273391364, 'lat': 30.564663445311},\n",
       "    'indoor_floor': 'B1',\n",
       "    'type': 'shopping',\n",
       "    'detail_url': 'http://api.map.baidu.com/place/detail?uid=2c0bd6c54359ddb343ab9a30&output=html&source=placeapi_v2',\n",
       "    'price': '80.0',\n",
       "    'overall_rating': '4.2',\n",
       "    'comment_num': '50',\n",
       "    'children': []}},\n",
       "  {'name': '沃尔玛购物广场(沌口店)',\n",
       "   'location': {'lat': 30.512955, 'lng': 114.180772},\n",
       "   'address': '武汉市蔡甸区沌口经济技术开发区东风大道111号万达广场负一层',\n",
       "   'province': '湖北省',\n",
       "   'city': '武汉市',\n",
       "   'area': '蔡甸区',\n",
       "   'street_id': 'aa8ebd6a145f645b6849f3f9',\n",
       "   'telephone': '(027)84599800',\n",
       "   'detail': 1,\n",
       "   'uid': 'aa8ebd6a145f645b6849f3f9',\n",
       "   'detail_info': {'tag': '购物;超市',\n",
       "    'navi_location': {'lng': 114.18054518382, 'lat': 30.513819638111},\n",
       "    'indoor_floor': 'B1',\n",
       "    'type': 'shopping',\n",
       "    'detail_url': 'http://api.map.baidu.com/place/detail?uid=aa8ebd6a145f645b6849f3f9&output=html&source=placeapi_v2',\n",
       "    'price': '228.0',\n",
       "    'overall_rating': '3.9',\n",
       "    'comment_num': '50',\n",
       "    'children': []}},\n",
       "  {'name': '沃尔玛购物广场(武汉和平大道店)',\n",
       "   'location': {'lat': 30.623059, 'lng': 114.367374},\n",
       "   'address': '武汉市青山区和平大道809号奥山世纪广场B1',\n",
       "   'province': '湖北省',\n",
       "   'city': '武汉市',\n",
       "   'area': '青山区',\n",
       "   'street_id': 'cde9e2c7bc4bccade81e9709',\n",
       "   'telephone': '(027)86681123,(027)86681196',\n",
       "   'detail': 1,\n",
       "   'uid': 'cde9e2c7bc4bccade81e9709',\n",
       "   'detail_info': {'tag': '购物;超市',\n",
       "    'navi_location': {'lng': 114.36825314847, 'lat': 30.622672297062},\n",
       "    'indoor_floor': 'B1',\n",
       "    'type': 'shopping',\n",
       "    'detail_url': 'http://api.map.baidu.com/place/detail?uid=cde9e2c7bc4bccade81e9709&output=html&source=placeapi_v2',\n",
       "    'price': '81.0',\n",
       "    'overall_rating': '4.5',\n",
       "    'comment_num': '50',\n",
       "    'children': []}},\n",
       "  {'name': '沃尔玛购物广场(武汉黄陂广场店)',\n",
       "   'location': {'lat': 30.886643, 'lng': 114.380851},\n",
       "   'address': '武汉市黄陂区黄陂大道387号黄陂购物中心2-3层',\n",
       "   'province': '湖北省',\n",
       "   'city': '武汉市',\n",
       "   'area': '黄陂区',\n",
       "   'street_id': '13657409b7b9a90c81288a7c',\n",
       "   'telephone': '(027)61106011,(027)61106012',\n",
       "   'detail': 1,\n",
       "   'uid': '13657409b7b9a90c81288a7c',\n",
       "   'detail_info': {'tag': '购物;超市',\n",
       "    'navi_location': {'lng': 114.38151612897, 'lat': 30.886840076955},\n",
       "    'indoor_floor': 'F3',\n",
       "    'type': 'shopping',\n",
       "    'detail_url': 'http://api.map.baidu.com/place/detail?uid=13657409b7b9a90c81288a7c&output=html&source=placeapi_v2',\n",
       "    'price': '214.0',\n",
       "    'overall_rating': '4.0',\n",
       "    'comment_num': '35',\n",
       "    'children': []}}]}"
      ]
     },
     "execution_count": 12,
     "metadata": {},
     "output_type": "execute_result"
    }
   ],
   "source": [
    "getjson('武汉市','沃尔玛')"
   ]
  },
  {
   "cell_type": "code",
   "execution_count": null,
   "metadata": {},
   "outputs": [],
   "source": []
  }
 ],
 "metadata": {
  "kernelspec": {
   "display_name": "Python 3",
   "language": "python",
   "name": "python3"
  },
  "language_info": {
   "codemirror_mode": {
    "name": "ipython",
    "version": 3
   },
   "file_extension": ".py",
   "mimetype": "text/x-python",
   "name": "python",
   "nbconvert_exporter": "python",
   "pygments_lexer": "ipython3",
   "version": "3.7.4"
  },
  "toc": {
   "base_numbering": 1,
   "nav_menu": {},
   "number_sections": true,
   "sideBar": true,
   "skip_h1_title": false,
   "title_cell": "Table of Contents",
   "title_sidebar": "Contents",
   "toc_cell": false,
   "toc_position": {},
   "toc_section_display": true,
   "toc_window_display": false
  },
  "varInspector": {
   "cols": {
    "lenName": 16,
    "lenType": 16,
    "lenVar": 40
   },
   "kernels_config": {
    "python": {
     "delete_cmd_postfix": "",
     "delete_cmd_prefix": "del ",
     "library": "var_list.py",
     "varRefreshCmd": "print(var_dic_list())"
    },
    "r": {
     "delete_cmd_postfix": ") ",
     "delete_cmd_prefix": "rm(",
     "library": "var_list.r",
     "varRefreshCmd": "cat(var_dic_list()) "
    }
   },
   "types_to_exclude": [
    "module",
    "function",
    "builtin_function_or_method",
    "instance",
    "_Feature"
   ],
   "window_display": false
  }
 },
 "nbformat": 4,
 "nbformat_minor": 2
}
