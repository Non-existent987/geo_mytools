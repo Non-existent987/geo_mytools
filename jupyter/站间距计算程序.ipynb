{
 "cells": [
  {
   "cell_type": "markdown",
   "metadata": {},
   "source": [
    "# Rtree学习"
   ]
  },
  {
   "cell_type": "code",
   "execution_count": 1,
   "metadata": {},
   "outputs": [],
   "source": [
    "import pickle, rtree"
   ]
  },
  {
   "cell_type": "code",
   "execution_count": 2,
   "metadata": {},
   "outputs": [],
   "source": [
    "from rtree import index"
   ]
  },
  {
   "cell_type": "code",
   "execution_count": 3,
   "metadata": {},
   "outputs": [],
   "source": [
    "idx = index.Index()"
   ]
  },
  {
   "cell_type": "code",
   "execution_count": 4,
   "metadata": {},
   "outputs": [],
   "source": [
    "from shapely.geometry import Polygon"
   ]
  },
  {
   "cell_type": "code",
   "execution_count": 5,
   "metadata": {},
   "outputs": [
    {
     "data": {
      "image/svg+xml": [
       "<svg xmlns=\"http://www.w3.org/2000/svg\" xmlns:xlink=\"http://www.w3.org/1999/xlink\" width=\"100.0\" height=\"100.0\" viewBox=\"114.00728032 28.87212232 6.412032359999998 3.797201359999999\" preserveAspectRatio=\"xMinYMin meet\"><g transform=\"matrix(1,0,0,-1,0,61.54144599999999)\"><path fill-rule=\"evenodd\" fill=\"#66cc99\" stroke=\"#555555\" stroke-width=\"0.12824064719999995\" opacity=\"0.6\" d=\"M 114.244763,29.109605 L 117.134619,29.109605 L 120.18183,31.782197 L 117.134619,32.431841 L 114.244763,32.431841 L 114.244763,29.109605 z\" /></g></svg>"
      ],
      "text/plain": [
       "<shapely.geometry.polygon.Polygon at 0x66fb080>"
      ]
     },
     "execution_count": 5,
     "metadata": {},
     "output_type": "execute_result"
    }
   ],
   "source": [
    "a=Polygon(((114.244763,29.109605),(117.134619,29.109605),(120.181830,31.782197),(117.134619,32.431841),(114.244763,32.431841),(114.244763,29.109605)))\n",
    "a"
   ]
  },
  {
   "cell_type": "code",
   "execution_count": 6,
   "metadata": {},
   "outputs": [
    {
     "data": {
      "text/plain": [
       "(114.244763, 29.109605, 120.18183, 32.431841)"
      ]
     },
     "execution_count": 6,
     "metadata": {},
     "output_type": "execute_result"
    }
   ],
   "source": [
    "#多边形的边框，正方形\n",
    "a.bounds"
   ]
  },
  {
   "cell_type": "code",
   "execution_count": 7,
   "metadata": {},
   "outputs": [
    {
     "data": {
      "text/plain": [
       "(114.244463, 29.103605, 121.1183, 33.4322841)"
      ]
     },
     "execution_count": 7,
     "metadata": {},
     "output_type": "execute_result"
    }
   ],
   "source": [
    "b = (114.244463, 29.103605, 121.1183, 33.4322841)\n",
    "b"
   ]
  },
  {
   "cell_type": "code",
   "execution_count": 10,
   "metadata": {},
   "outputs": [],
   "source": [
    "#在idx中插入一个索引0他的二维方框是a.bounds ,又插入了一个索引1，他的二维位置如下\n",
    "idx.insert(1,a.bounds)\n",
    "idx.insert(2,(114.244463, 29.103605, 114.244463, 29.103605))#"
   ]
  },
  {
   "cell_type": "code",
   "execution_count": 25,
   "metadata": {},
   "outputs": [
    {
     "data": {
      "text/plain": [
       "[114.244463, 29.103605, 120.18183, 32.431841]"
      ]
     },
     "execution_count": 25,
     "metadata": {},
     "output_type": "execute_result"
    }
   ],
   "source": [
    "#idx所有的边框，正方形\n",
    "idx.bounds"
   ]
  },
  {
   "cell_type": "code",
   "execution_count": 26,
   "metadata": {},
   "outputs": [
    {
     "data": {
      "text/plain": [
       "[1]"
      ]
     },
     "execution_count": 26,
     "metadata": {},
     "output_type": "execute_result"
    }
   ],
   "source": [
    "# nearest(二维代码，返回最近的数量= 1 )\n",
    "list(idx.nearest((1.0000001, 1.0000001, 2.0, 2.0), 1))"
   ]
  },
  {
   "cell_type": "code",
   "execution_count": null,
   "metadata": {},
   "outputs": [],
   "source": [
    "#obj 是一个\n",
    "idx.insert(id = 4, coordinates = a.bounds, obj=42)"
   ]
  },
  {
   "cell_type": "code",
   "execution_count": null,
   "metadata": {},
   "outputs": [],
   "source": [
    "list(idx.intersection((114.244463, 29.103205, 121.1183, 33.4322841)))"
   ]
  },
  {
   "cell_type": "code",
   "execution_count": null,
   "metadata": {},
   "outputs": [],
   "source": [
    "for x in idx.intersection((114.244463, 29.103205, 121.1183, 33.4322841)):\n",
    "    print(x)"
   ]
  },
  {
   "cell_type": "code",
   "execution_count": null,
   "metadata": {},
   "outputs": [],
   "source": [
    "for x in idx.intersection((114.244463, 29.103205, 121.1183, 33.4322841),objects=True):\n",
    "    print(x.object)"
   ]
  },
  {
   "cell_type": "code",
   "execution_count": null,
   "metadata": {},
   "outputs": [],
   "source": [
    "[n.object for n in idx.intersection(a.bounds, objects=True)]"
   ]
  },
  {
   "cell_type": "code",
   "execution_count": null,
   "metadata": {},
   "outputs": [],
   "source": [
    "#将Rtree索引序列化到文件\n",
    "file_idx = index.Rtree('rtree')\n",
    "file_idx.insert(1, a.bounds)\n",
    "file_idx.insert(2, b)\n",
    "[print(n) for n in file_idx.intersection(a.bounds)]"
   ]
  },
  {
   "cell_type": "code",
   "execution_count": null,
   "metadata": {},
   "outputs": [],
   "source": [
    "from rtree import index\n",
    "import pandas as pd\n",
    "\n",
    "data = pd.read_csv('c:/Users/Administrator/Desktop/rtree/AllData.csv',encoding = 'gbk')\n",
    "def generator_function(somedata):\n",
    "    for i, obj in somedata.iterrows():\n",
    "        print(i)\n",
    "        yield (i, (obj.xmin, obj.ymin, obj.xmax, obj.ymax), obj)\n",
    "r = index.Index(generator_function(data))"
   ]
  },
  {
   "cell_type": "code",
   "execution_count": null,
   "metadata": {},
   "outputs": [],
   "source": [
    "r."
   ]
  },
  {
   "cell_type": "code",
   "execution_count": null,
   "metadata": {},
   "outputs": [],
   "source": [
    "r.properties"
   ]
  },
  {
   "cell_type": "code",
   "execution_count": null,
   "metadata": {},
   "outputs": [],
   "source": [
    "r.leaves()"
   ]
  },
  {
   "cell_type": "code",
   "execution_count": null,
   "metadata": {},
   "outputs": [],
   "source": [
    "def generator_function(somedata):\n",
    "    for i, obj in somedata.iterrows():\n",
    "        yield (i)"
   ]
  },
  {
   "cell_type": "code",
   "execution_count": null,
   "metadata": {},
   "outputs": [],
   "source": [
    "def generator_function(data):\n",
    "    for i, obj in data.iterrows():\n",
    "    yield (i,obj)"
   ]
  },
  {
   "cell_type": "code",
   "execution_count": null,
   "metadata": {},
   "outputs": [],
   "source": [
    "a = generator_function(data) "
   ]
  },
  {
   "cell_type": "code",
   "execution_count": null,
   "metadata": {},
   "outputs": [],
   "source": [
    "for x in a:\n",
    "    print(x)"
   ]
  },
  {
   "cell_type": "code",
   "execution_count": null,
   "metadata": {},
   "outputs": [],
   "source": [
    "# gpd.jsoin中用的rtree代码\n",
    "right_df_bounds = right_df.geometry.apply(lambda x: x.bounds)\n",
    "stream = ((i, b, None) for i, b in enumerate(right_df_bounds))\n",
    "tree_idx = rtree.index.Index(stream)\n",
    "\n",
    "idxmatch = (left_df.geometry.apply(lambda x: x.bounds)\n",
    "            .apply(lambda x: list(tree_idx.intersection(x))))\n",
    "idxmatch = idxmatch[idxmatch.apply(len) > 0]"
   ]
  },
  {
   "cell_type": "code",
   "execution_count": null,
   "metadata": {},
   "outputs": [],
   "source": [
    "#一个例子，rtree python\n",
    "\n",
    "spatial_index = gdf.sindex #创建了Rtree的空间索引，是一个正方块\n",
    "possible_matches_index = list(spatial_index.intersection(polygon.bounds))#将这个索引与多变形相交\n",
    "possible_matches = gdf.iloc[possible_matches_index] # 相交的部分取出来\n",
    "precise_matches = possible_matches[possible_matches.intersects(polygon)] #用实际区域相交"
   ]
  },
  {
   "cell_type": "code",
   "execution_count": null,
   "metadata": {},
   "outputs": [],
   "source": [
    "a = data_zhan_buff.sindex"
   ]
  },
  {
   "cell_type": "code",
   "execution_count": null,
   "metadata": {},
   "outputs": [],
   "source": []
  },
  {
   "cell_type": "code",
   "execution_count": 30,
   "metadata": {},
   "outputs": [],
   "source": [
    "import pandas as pd\n",
    "import geopandas as gpd\n",
    "import numpy as np\n",
    "import app.mydef as md\n",
    "mt=md.MyTools()\n",
    "con = mt.con()\n",
    "import app.netools as ant\n",
    "nt = ant.NetTools()\n",
    "from rtree import index"
   ]
  },
  {
   "cell_type": "code",
   "execution_count": null,
   "metadata": {},
   "outputs": [],
   "source": []
  },
  {
   "cell_type": "code",
   "execution_count": null,
   "metadata": {},
   "outputs": [],
   "source": []
  },
  {
   "cell_type": "markdown",
   "metadata": {},
   "source": [
    "## 最近站点统计-Rtree"
   ]
  },
  {
   "cell_type": "code",
   "execution_count": 485,
   "metadata": {},
   "outputs": [
    {
     "name": "stdout",
     "output_type": "stream",
     "text": [
      "The autoreload extension is already loaded. To reload it, use:\n",
      "  %reload_ext autoreload\n"
     ]
    }
   ],
   "source": [
    "%load_ext autoreload\n",
    "%autoreload 2"
   ]
  },
  {
   "cell_type": "code",
   "execution_count": 486,
   "metadata": {},
   "outputs": [],
   "source": [
    "import pandas as pd\n",
    "import geopandas as gpd\n",
    "import numpy as np\n",
    "import app.mydef as md\n",
    "mt=md.MyTools()\n",
    "con = mt.con()\n",
    "import app.netools as ant\n",
    "nt = ant.NetTools()\n",
    "from rtree import index\n",
    "from shapely.geometry import Point"
   ]
  },
  {
   "cell_type": "code",
   "execution_count": 456,
   "metadata": {
    "scrolled": true
   },
   "outputs": [
    {
     "name": "stderr",
     "output_type": "stream",
     "text": [
      "C:\\ProgramData\\Anaconda3\\lib\\site-packages\\IPython\\core\\interactiveshell.py:2714: DtypeWarning: Columns (18) have mixed types. Specify dtype option on import or set low_memory=False.\n",
      "  interactivity=interactivity, compiler=compiler, result=result)\n"
     ]
    }
   ],
   "source": [
    "#导入数据\n",
    "data_zhan = pd.read_csv(open('./站间距计算/武汉小区.csv'))\n",
    "data_zhan = data_zhan.loc[data_zhan['类别'] == '宏站']"
   ]
  },
  {
   "cell_type": "code",
   "execution_count": 487,
   "metadata": {},
   "outputs": [
    {
     "name": "stderr",
     "output_type": "stream",
     "text": [
      "C:\\ProgramData\\Anaconda3\\lib\\site-packages\\IPython\\core\\interactiveshell.py:2714: DtypeWarning: Columns (15,17,22,24) have mixed types. Specify dtype option on import or set low_memory=False.\n",
      "  interactivity=interactivity, compiler=compiler, result=result)\n"
     ]
    }
   ],
   "source": [
    "gongcan=pd.read_csv(open('g:/1-规划/工参/工参数据/ltejizhan20191209.csv',encoding = 'gbk'))"
   ]
  },
  {
   "cell_type": "code",
   "execution_count": 488,
   "metadata": {},
   "outputs": [
    {
     "data": {
      "text/plain": [
       "Index(['小区CGI(*)', '小区中文名', '网络制式(TDD/FDD)', 'TDL规划站号(新)', '所属地区', '工程参数标识',\n",
       "       '区县代码', '基站编码', 'VIP基站', '入网工程期', 'ATU网格', 'RRU经度', 'RRU纬度', '天线挂高',\n",
       "       '地面海拔', '入网时间', '2G共址站名', '与FDD1800共址的FDD900站名', '站址归属单位', '覆盖类型',\n",
       "       '覆盖类别', '覆盖场景', '覆盖场景细化', '二级覆盖场景', '二级覆盖场景细化', '场景名称', 'VOLTE场景',\n",
       "       '方位角', '机械下倾角', '电子下倾角', '是否电调天线', '电下倾天线类型', '天线厂家', ' 工作频段', '设备型号',\n",
       "       '设备类型(大类)', '分布式或一体化', '小区所属空间资源', '基站所属空间资源', 'eNodeB软件版本', '所属OMC',\n",
       "       '归属区县', '厂家名称', '物理站名', '集中开站所在环节', '集中开站工单号', '姿态仪测量', '姿态仪测量时间',\n",
       "       '所属eNodeB名称', '采集经度', '采集纬度', 'RRU数量', 'TAC', 'PCI', '中心载频的信道号', '频段指示',\n",
       "       '空口上下行业务字节数KByte', '统计分类', '集中工参工单号', '开站流程类型'],\n",
       "      dtype='object')"
      ]
     },
     "execution_count": 488,
     "metadata": {},
     "output_type": "execute_result"
    }
   ],
   "source": [
    "gongcan.columns"
   ]
  },
  {
   "cell_type": "code",
   "execution_count": 489,
   "metadata": {},
   "outputs": [],
   "source": [
    "#数据整理\n",
    "gongcan1 = gongcan.loc[(gongcan['RRU经度']>60)&(gongcan['RRU纬度']<60)]\n",
    "data_zhan1=gongcan1[['小区中文名', 'RRU经度', 'RRU纬度']]"
   ]
  },
  {
   "cell_type": "code",
   "execution_count": 490,
   "metadata": {},
   "outputs": [
    {
     "data": {
      "text/plain": [
       "Index(['小区中文名', 'RRU经度', 'RRU纬度'], dtype='object')"
      ]
     },
     "execution_count": 490,
     "metadata": {},
     "output_type": "execute_result"
    }
   ],
   "source": [
    "data_zhan1.columns"
   ]
  },
  {
   "cell_type": "code",
   "execution_count": 496,
   "metadata": {},
   "outputs": [
    {
     "data": {
      "text/html": [
       "<div>\n",
       "<style scoped>\n",
       "    .dataframe tbody tr th:only-of-type {\n",
       "        vertical-align: middle;\n",
       "    }\n",
       "\n",
       "    .dataframe tbody tr th {\n",
       "        vertical-align: top;\n",
       "    }\n",
       "\n",
       "    .dataframe thead th {\n",
       "        text-align: right;\n",
       "    }\n",
       "</style>\n",
       "<table border=\"1\" class=\"dataframe\">\n",
       "  <thead>\n",
       "    <tr style=\"text-align: right;\">\n",
       "      <th></th>\n",
       "      <th>level_0</th>\n",
       "      <th>index</th>\n",
       "      <th>小区中文名</th>\n",
       "      <th>RRU经度</th>\n",
       "      <th>RRU纬度</th>\n",
       "      <th>minimum_index_1</th>\n",
       "      <th>minimum_index_2</th>\n",
       "      <th>distance_1</th>\n",
       "      <th>distance_2</th>\n",
       "      <th>sum</th>\n",
       "    </tr>\n",
       "  </thead>\n",
       "  <tbody>\n",
       "    <tr>\n",
       "      <th>0</th>\n",
       "      <td>0</td>\n",
       "      <td>0</td>\n",
       "      <td>公安群力-ELH-2</td>\n",
       "      <td>112.147350</td>\n",
       "      <td>30.124050</td>\n",
       "      <td>93</td>\n",
       "      <td>97</td>\n",
       "      <td>8719.062830</td>\n",
       "      <td>8719.062830</td>\n",
       "      <td>17438.125660</td>\n",
       "    </tr>\n",
       "    <tr>\n",
       "      <th>1</th>\n",
       "      <td>1</td>\n",
       "      <td>1</td>\n",
       "      <td>公安铜桥-ELH-1</td>\n",
       "      <td>112.011190</td>\n",
       "      <td>29.883020</td>\n",
       "      <td>3</td>\n",
       "      <td>4</td>\n",
       "      <td>3155.456593</td>\n",
       "      <td>3155.456593</td>\n",
       "      <td>6310.913187</td>\n",
       "    </tr>\n",
       "    <tr>\n",
       "      <th>2</th>\n",
       "      <td>2</td>\n",
       "      <td>2</td>\n",
       "      <td>公安响档口-ELH-1</td>\n",
       "      <td>112.043460</td>\n",
       "      <td>30.065790</td>\n",
       "      <td>0</td>\n",
       "      <td>95</td>\n",
       "      <td>11910.619467</td>\n",
       "      <td>16737.859157</td>\n",
       "      <td>28648.478624</td>\n",
       "    </tr>\n",
       "    <tr>\n",
       "      <th>3</th>\n",
       "      <td>3</td>\n",
       "      <td>3</td>\n",
       "      <td>公安欣荣-ELH-1</td>\n",
       "      <td>111.995620</td>\n",
       "      <td>29.858060</td>\n",
       "      <td>4</td>\n",
       "      <td>1</td>\n",
       "      <td>0.000000</td>\n",
       "      <td>3155.456593</td>\n",
       "      <td>3155.456593</td>\n",
       "    </tr>\n",
       "    <tr>\n",
       "      <th>4</th>\n",
       "      <td>4</td>\n",
       "      <td>4</td>\n",
       "      <td>公安欣荣-ELH-2</td>\n",
       "      <td>111.995620</td>\n",
       "      <td>29.858060</td>\n",
       "      <td>4</td>\n",
       "      <td>1</td>\n",
       "      <td>0.000000</td>\n",
       "      <td>3155.456593</td>\n",
       "      <td>3155.456593</td>\n",
       "    </tr>\n",
       "    <tr>\n",
       "      <th>...</th>\n",
       "      <td>...</td>\n",
       "      <td>...</td>\n",
       "      <td>...</td>\n",
       "      <td>...</td>\n",
       "      <td>...</td>\n",
       "      <td>...</td>\n",
       "      <td>...</td>\n",
       "      <td>...</td>\n",
       "      <td>...</td>\n",
       "      <td>...</td>\n",
       "    </tr>\n",
       "    <tr>\n",
       "      <th>95</th>\n",
       "      <td>95</td>\n",
       "      <td>95</td>\n",
       "      <td>荆州改口-ELH-2</td>\n",
       "      <td>112.021460</td>\n",
       "      <td>30.215110</td>\n",
       "      <td>98</td>\n",
       "      <td>2</td>\n",
       "      <td>0.000000</td>\n",
       "      <td>16737.859157</td>\n",
       "      <td>16737.859157</td>\n",
       "    </tr>\n",
       "    <tr>\n",
       "      <th>96</th>\n",
       "      <td>96</td>\n",
       "      <td>96</td>\n",
       "      <td>孝昌八里-ZFH-3</td>\n",
       "      <td>114.020431</td>\n",
       "      <td>31.416355</td>\n",
       "      <td>82</td>\n",
       "      <td>19</td>\n",
       "      <td>0.000000</td>\n",
       "      <td>34458.085253</td>\n",
       "      <td>34458.085253</td>\n",
       "    </tr>\n",
       "    <tr>\n",
       "      <th>97</th>\n",
       "      <td>97</td>\n",
       "      <td>97</td>\n",
       "      <td>公安青华寺-ELH-2</td>\n",
       "      <td>112.176810</td>\n",
       "      <td>30.198210</td>\n",
       "      <td>97</td>\n",
       "      <td>0</td>\n",
       "      <td>0.000000</td>\n",
       "      <td>8719.062830</td>\n",
       "      <td>8719.062830</td>\n",
       "    </tr>\n",
       "    <tr>\n",
       "      <th>98</th>\n",
       "      <td>98</td>\n",
       "      <td>98</td>\n",
       "      <td>荆州改口-ELH-1</td>\n",
       "      <td>112.021460</td>\n",
       "      <td>30.215110</td>\n",
       "      <td>98</td>\n",
       "      <td>2</td>\n",
       "      <td>0.000000</td>\n",
       "      <td>16737.859157</td>\n",
       "      <td>16737.859157</td>\n",
       "    </tr>\n",
       "    <tr>\n",
       "      <th>99</th>\n",
       "      <td>99</td>\n",
       "      <td>99</td>\n",
       "      <td>随县小林汉东村-HLH-2</td>\n",
       "      <td>113.722420</td>\n",
       "      <td>32.293343</td>\n",
       "      <td>73</td>\n",
       "      <td>19</td>\n",
       "      <td>38483.270950</td>\n",
       "      <td>69703.998752</td>\n",
       "      <td>108187.269702</td>\n",
       "    </tr>\n",
       "  </tbody>\n",
       "</table>\n",
       "<p>100 rows × 10 columns</p>\n",
       "</div>"
      ],
      "text/plain": [
       "    level_0  index          小区中文名       RRU经度      RRU纬度  minimum_index_1  \\\n",
       "0         0      0     公安群力-ELH-2  112.147350  30.124050               93   \n",
       "1         1      1     公安铜桥-ELH-1  112.011190  29.883020                3   \n",
       "2         2      2    公安响档口-ELH-1  112.043460  30.065790                0   \n",
       "3         3      3     公安欣荣-ELH-1  111.995620  29.858060                4   \n",
       "4         4      4     公安欣荣-ELH-2  111.995620  29.858060                4   \n",
       "..      ...    ...            ...         ...        ...              ...   \n",
       "95       95     95     荆州改口-ELH-2  112.021460  30.215110               98   \n",
       "96       96     96     孝昌八里-ZFH-3  114.020431  31.416355               82   \n",
       "97       97     97    公安青华寺-ELH-2  112.176810  30.198210               97   \n",
       "98       98     98     荆州改口-ELH-1  112.021460  30.215110               98   \n",
       "99       99     99  随县小林汉东村-HLH-2  113.722420  32.293343               73   \n",
       "\n",
       "    minimum_index_2    distance_1    distance_2            sum  \n",
       "0                97   8719.062830   8719.062830   17438.125660  \n",
       "1                 4   3155.456593   3155.456593    6310.913187  \n",
       "2                95  11910.619467  16737.859157   28648.478624  \n",
       "3                 1      0.000000   3155.456593    3155.456593  \n",
       "4                 1      0.000000   3155.456593    3155.456593  \n",
       "..              ...           ...           ...            ...  \n",
       "95                2      0.000000  16737.859157   16737.859157  \n",
       "96               19      0.000000  34458.085253   34458.085253  \n",
       "97                0      0.000000   8719.062830    8719.062830  \n",
       "98                2      0.000000  16737.859157   16737.859157  \n",
       "99               19  38483.270950  69703.998752  108187.269702  \n",
       "\n",
       "[100 rows x 10 columns]"
      ]
     },
     "execution_count": 496,
     "metadata": {},
     "output_type": "execute_result"
    }
   ],
   "source": [
    "mt.nearest_site(data_zhan1.head(100),id_name_column='小区中文名',lon='RRU经度',lat='RRU纬度',num_min_results = 2,Including_itself = False)"
   ]
  },
  {
   "cell_type": "code",
   "execution_count": null,
   "metadata": {},
   "outputs": [],
   "source": []
  },
  {
   "cell_type": "code",
   "execution_count": null,
   "metadata": {},
   "outputs": [],
   "source": []
  },
  {
   "cell_type": "code",
   "execution_count": 422,
   "metadata": {},
   "outputs": [],
   "source": [
    "b='sdf'"
   ]
  },
  {
   "cell_type": "raw",
   "metadata": {},
   "source": [
    "a=0.23"
   ]
  },
  {
   "cell_type": "code",
   "execution_count": 420,
   "metadata": {},
   "outputs": [
    {
     "data": {
      "text/plain": [
       "float"
      ]
     },
     "execution_count": 420,
     "metadata": {},
     "output_type": "execute_result"
    }
   ],
   "source": [
    "type(a)"
   ]
  },
  {
   "cell_type": "code",
   "execution_count": 423,
   "metadata": {},
   "outputs": [
    {
     "name": "stdout",
     "output_type": "stream",
     "text": [
      "111\n"
     ]
    }
   ],
   "source": [
    "if isinstance(a,float) | isinstance(b,str):\n",
    "    print(111)"
   ]
  },
  {
   "cell_type": "code",
   "execution_count": null,
   "metadata": {},
   "outputs": [],
   "source": []
  },
  {
   "cell_type": "code",
   "execution_count": null,
   "metadata": {},
   "outputs": [],
   "source": []
  },
  {
   "cell_type": "code",
   "execution_count": 182,
   "metadata": {},
   "outputs": [],
   "source": [
    "ceshi = pd.DataFrame({'a':[1,2,3,4,3,2,2],'b':[1,2,3,5,3,2,2],'c':[1,2,11,4,3,2,2]})"
   ]
  },
  {
   "cell_type": "code",
   "execution_count": 184,
   "metadata": {},
   "outputs": [],
   "source": [
    "ceshi['sum'] = ceshi.sum(axis=1)"
   ]
  },
  {
   "cell_type": "code",
   "execution_count": 185,
   "metadata": {},
   "outputs": [
    {
     "data": {
      "text/html": [
       "<div>\n",
       "<style scoped>\n",
       "    .dataframe tbody tr th:only-of-type {\n",
       "        vertical-align: middle;\n",
       "    }\n",
       "\n",
       "    .dataframe tbody tr th {\n",
       "        vertical-align: top;\n",
       "    }\n",
       "\n",
       "    .dataframe thead th {\n",
       "        text-align: right;\n",
       "    }\n",
       "</style>\n",
       "<table border=\"1\" class=\"dataframe\">\n",
       "  <thead>\n",
       "    <tr style=\"text-align: right;\">\n",
       "      <th></th>\n",
       "      <th>a</th>\n",
       "      <th>b</th>\n",
       "      <th>c</th>\n",
       "      <th>sum</th>\n",
       "    </tr>\n",
       "  </thead>\n",
       "  <tbody>\n",
       "    <tr>\n",
       "      <th>0</th>\n",
       "      <td>1</td>\n",
       "      <td>1</td>\n",
       "      <td>1</td>\n",
       "      <td>3</td>\n",
       "    </tr>\n",
       "    <tr>\n",
       "      <th>1</th>\n",
       "      <td>2</td>\n",
       "      <td>2</td>\n",
       "      <td>2</td>\n",
       "      <td>6</td>\n",
       "    </tr>\n",
       "    <tr>\n",
       "      <th>2</th>\n",
       "      <td>3</td>\n",
       "      <td>3</td>\n",
       "      <td>11</td>\n",
       "      <td>17</td>\n",
       "    </tr>\n",
       "    <tr>\n",
       "      <th>3</th>\n",
       "      <td>4</td>\n",
       "      <td>5</td>\n",
       "      <td>4</td>\n",
       "      <td>13</td>\n",
       "    </tr>\n",
       "    <tr>\n",
       "      <th>4</th>\n",
       "      <td>3</td>\n",
       "      <td>3</td>\n",
       "      <td>3</td>\n",
       "      <td>9</td>\n",
       "    </tr>\n",
       "    <tr>\n",
       "      <th>5</th>\n",
       "      <td>2</td>\n",
       "      <td>2</td>\n",
       "      <td>2</td>\n",
       "      <td>6</td>\n",
       "    </tr>\n",
       "    <tr>\n",
       "      <th>6</th>\n",
       "      <td>2</td>\n",
       "      <td>2</td>\n",
       "      <td>2</td>\n",
       "      <td>6</td>\n",
       "    </tr>\n",
       "  </tbody>\n",
       "</table>\n",
       "</div>"
      ],
      "text/plain": [
       "   a  b   c  sum\n",
       "0  1  1   1    3\n",
       "1  2  2   2    6\n",
       "2  3  3  11   17\n",
       "3  4  5   4   13\n",
       "4  3  3   3    9\n",
       "5  2  2   2    6\n",
       "6  2  2   2    6"
      ]
     },
     "execution_count": 185,
     "metadata": {},
     "output_type": "execute_result"
    }
   ],
   "source": [
    "ceshi"
   ]
  },
  {
   "cell_type": "code",
   "execution_count": null,
   "metadata": {},
   "outputs": [],
   "source": []
  },
  {
   "cell_type": "code",
   "execution_count": 180,
   "metadata": {},
   "outputs": [
    {
     "data": {
      "text/plain": [
       "Index(['index', '小区CGI(*)', 'RRU经度', 'RRU纬度', 'geometry', 'minimum_range_1',\n",
       "       'minimum_range_2', 'minimum_range_3'],\n",
       "      dtype='object')"
      ]
     },
     "execution_count": 180,
     "metadata": {},
     "output_type": "execute_result"
    }
   ],
   "source": [
    "data_zhan_pot_minimum3.columns"
   ]
  },
  {
   "cell_type": "code",
   "execution_count": null,
   "metadata": {},
   "outputs": [],
   "source": []
  },
  {
   "cell_type": "code",
   "execution_count": null,
   "metadata": {},
   "outputs": [],
   "source": [
    "    data_zhan_pot['perigee_point_index'] = data_zhan_pot['geometry'].apply(lambda x: list(data_sindex.nearest(x.bounds,num_results=2))[1])\n",
    "res = data_zhan_pot.merge(data_zhan_pot,how = 'left',left_on = 'perigee_point_index',right_on='index',suffixes=('','_y'))\n",
    "res1 = mt.distancea_df(res,lon,lat,lon+'_y',lat+'_y')\n",
    "res2 = res1.drop(['geometry','geometry_y','index_y','perigee_point_index_y'],axis=1)"
   ]
  },
  {
   "cell_type": "code",
   "execution_count": null,
   "metadata": {},
   "outputs": [],
   "source": []
  },
  {
   "cell_type": "code",
   "execution_count": 146,
   "metadata": {},
   "outputs": [],
   "source": [
    "res = minimum_range_rtree(data_zhan1,lon='RRU经度',lat='RRU纬度',num_results = 1,Including_itself = False)"
   ]
  },
  {
   "cell_type": "code",
   "execution_count": 147,
   "metadata": {},
   "outputs": [
    {
     "data": {
      "text/html": [
       "<div>\n",
       "<style scoped>\n",
       "    .dataframe tbody tr th:only-of-type {\n",
       "        vertical-align: middle;\n",
       "    }\n",
       "\n",
       "    .dataframe tbody tr th {\n",
       "        vertical-align: top;\n",
       "    }\n",
       "\n",
       "    .dataframe thead th {\n",
       "        text-align: right;\n",
       "    }\n",
       "</style>\n",
       "<table border=\"1\" class=\"dataframe\">\n",
       "  <thead>\n",
       "    <tr style=\"text-align: right;\">\n",
       "      <th></th>\n",
       "      <th>index</th>\n",
       "      <th>小区CGI(*)</th>\n",
       "      <th>RRU经度</th>\n",
       "      <th>RRU纬度</th>\n",
       "      <th>perigee_point_index</th>\n",
       "      <th>小区CGI(*)_y</th>\n",
       "      <th>RRU经度_y</th>\n",
       "      <th>RRU纬度_y</th>\n",
       "      <th>距离</th>\n",
       "    </tr>\n",
       "  </thead>\n",
       "  <tbody>\n",
       "    <tr>\n",
       "      <th>0</th>\n",
       "      <td>0</td>\n",
       "      <td>460-00-434392-2</td>\n",
       "      <td>113.947060</td>\n",
       "      <td>30.674430</td>\n",
       "      <td>0</td>\n",
       "      <td>460-00-434392-2</td>\n",
       "      <td>113.947060</td>\n",
       "      <td>30.674430</td>\n",
       "      <td>0.000000</td>\n",
       "    </tr>\n",
       "    <tr>\n",
       "      <th>1</th>\n",
       "      <td>1</td>\n",
       "      <td>460-00-434392-1</td>\n",
       "      <td>113.947060</td>\n",
       "      <td>30.674430</td>\n",
       "      <td>0</td>\n",
       "      <td>460-00-434392-2</td>\n",
       "      <td>113.947060</td>\n",
       "      <td>30.674430</td>\n",
       "      <td>0.000000</td>\n",
       "    </tr>\n",
       "    <tr>\n",
       "      <th>2</th>\n",
       "      <td>2</td>\n",
       "      <td>460-00-434392-3</td>\n",
       "      <td>113.947060</td>\n",
       "      <td>30.674430</td>\n",
       "      <td>0</td>\n",
       "      <td>460-00-434392-2</td>\n",
       "      <td>113.947060</td>\n",
       "      <td>30.674430</td>\n",
       "      <td>0.000000</td>\n",
       "    </tr>\n",
       "    <tr>\n",
       "      <th>3</th>\n",
       "      <td>3</td>\n",
       "      <td>460-00-169121-64</td>\n",
       "      <td>113.947205</td>\n",
       "      <td>30.674368</td>\n",
       "      <td>4</td>\n",
       "      <td>460-00-169121-66</td>\n",
       "      <td>113.947160</td>\n",
       "      <td>30.674341</td>\n",
       "      <td>5.247377</td>\n",
       "    </tr>\n",
       "    <tr>\n",
       "      <th>4</th>\n",
       "      <td>4</td>\n",
       "      <td>460-00-169121-66</td>\n",
       "      <td>113.947160</td>\n",
       "      <td>30.674341</td>\n",
       "      <td>3</td>\n",
       "      <td>460-00-169121-64</td>\n",
       "      <td>113.947205</td>\n",
       "      <td>30.674368</td>\n",
       "      <td>5.247377</td>\n",
       "    </tr>\n",
       "    <tr>\n",
       "      <th>...</th>\n",
       "      <td>...</td>\n",
       "      <td>...</td>\n",
       "      <td>...</td>\n",
       "      <td>...</td>\n",
       "      <td>...</td>\n",
       "      <td>...</td>\n",
       "      <td>...</td>\n",
       "      <td>...</td>\n",
       "      <td>...</td>\n",
       "    </tr>\n",
       "    <tr>\n",
       "      <th>58981</th>\n",
       "      <td>58981</td>\n",
       "      <td>460-00-307944-129</td>\n",
       "      <td>114.657740</td>\n",
       "      <td>30.584570</td>\n",
       "      <td>58981</td>\n",
       "      <td>460-00-307944-129</td>\n",
       "      <td>114.657740</td>\n",
       "      <td>30.584570</td>\n",
       "      <td>0.000000</td>\n",
       "    </tr>\n",
       "    <tr>\n",
       "      <th>58982</th>\n",
       "      <td>58982</td>\n",
       "      <td>460-00-307944-132</td>\n",
       "      <td>114.657740</td>\n",
       "      <td>30.584570</td>\n",
       "      <td>58981</td>\n",
       "      <td>460-00-307944-129</td>\n",
       "      <td>114.657740</td>\n",
       "      <td>30.584570</td>\n",
       "      <td>0.000000</td>\n",
       "    </tr>\n",
       "    <tr>\n",
       "      <th>58983</th>\n",
       "      <td>58983</td>\n",
       "      <td>460-00-717407-66</td>\n",
       "      <td>114.406006</td>\n",
       "      <td>30.491940</td>\n",
       "      <td>6854</td>\n",
       "      <td>460-00-440445-5</td>\n",
       "      <td>114.405960</td>\n",
       "      <td>30.491940</td>\n",
       "      <td>4.407570</td>\n",
       "    </tr>\n",
       "    <tr>\n",
       "      <th>58984</th>\n",
       "      <td>58984</td>\n",
       "      <td>460-00-717407-65</td>\n",
       "      <td>114.406020</td>\n",
       "      <td>30.491890</td>\n",
       "      <td>58985</td>\n",
       "      <td>460-00-717407-64</td>\n",
       "      <td>114.406020</td>\n",
       "      <td>30.491888</td>\n",
       "      <td>0.222390</td>\n",
       "    </tr>\n",
       "    <tr>\n",
       "      <th>58985</th>\n",
       "      <td>58985</td>\n",
       "      <td>460-00-717407-64</td>\n",
       "      <td>114.406020</td>\n",
       "      <td>30.491888</td>\n",
       "      <td>58984</td>\n",
       "      <td>460-00-717407-65</td>\n",
       "      <td>114.406020</td>\n",
       "      <td>30.491890</td>\n",
       "      <td>0.222390</td>\n",
       "    </tr>\n",
       "  </tbody>\n",
       "</table>\n",
       "<p>58986 rows × 9 columns</p>\n",
       "</div>"
      ],
      "text/plain": [
       "       index           小区CGI(*)       RRU经度      RRU纬度  perigee_point_index  \\\n",
       "0          0    460-00-434392-2  113.947060  30.674430                    0   \n",
       "1          1    460-00-434392-1  113.947060  30.674430                    0   \n",
       "2          2    460-00-434392-3  113.947060  30.674430                    0   \n",
       "3          3   460-00-169121-64  113.947205  30.674368                    4   \n",
       "4          4   460-00-169121-66  113.947160  30.674341                    3   \n",
       "...      ...                ...         ...        ...                  ...   \n",
       "58981  58981  460-00-307944-129  114.657740  30.584570                58981   \n",
       "58982  58982  460-00-307944-132  114.657740  30.584570                58981   \n",
       "58983  58983   460-00-717407-66  114.406006  30.491940                 6854   \n",
       "58984  58984   460-00-717407-65  114.406020  30.491890                58985   \n",
       "58985  58985   460-00-717407-64  114.406020  30.491888                58984   \n",
       "\n",
       "              小区CGI(*)_y     RRU经度_y    RRU纬度_y        距离  \n",
       "0        460-00-434392-2  113.947060  30.674430  0.000000  \n",
       "1        460-00-434392-2  113.947060  30.674430  0.000000  \n",
       "2        460-00-434392-2  113.947060  30.674430  0.000000  \n",
       "3       460-00-169121-66  113.947160  30.674341  5.247377  \n",
       "4       460-00-169121-64  113.947205  30.674368  5.247377  \n",
       "...                  ...         ...        ...       ...  \n",
       "58981  460-00-307944-129  114.657740  30.584570  0.000000  \n",
       "58982  460-00-307944-129  114.657740  30.584570  0.000000  \n",
       "58983    460-00-440445-5  114.405960  30.491940  4.407570  \n",
       "58984   460-00-717407-64  114.406020  30.491888  0.222390  \n",
       "58985   460-00-717407-65  114.406020  30.491890  0.222390  \n",
       "\n",
       "[58986 rows x 9 columns]"
      ]
     },
     "execution_count": 147,
     "metadata": {},
     "output_type": "execute_result"
    }
   ],
   "source": [
    "res"
   ]
  },
  {
   "cell_type": "code",
   "execution_count": null,
   "metadata": {},
   "outputs": [],
   "source": []
  },
  {
   "cell_type": "code",
   "execution_count": null,
   "metadata": {},
   "outputs": [],
   "source": []
  },
  {
   "cell_type": "code",
   "execution_count": 46,
   "metadata": {},
   "outputs": [
    {
     "data": {
      "text/plain": [
       "Index(['小区CGI(*)', 'RRU经度', 'RRU纬度', 'geometry', '最近的序号1'], dtype='object')"
      ]
     },
     "execution_count": 46,
     "metadata": {},
     "output_type": "execute_result"
    }
   ],
   "source": [
    "data_zhan_pot.columns"
   ]
  },
  {
   "cell_type": "code",
   "execution_count": 80,
   "metadata": {},
   "outputs": [],
   "source": [
    "a =data_sindex.nearest(data_zhan_pot['geometry'][111].bounds,num_results=2,objects=True)"
   ]
  },
  {
   "cell_type": "code",
   "execution_count": 94,
   "metadata": {},
   "outputs": [],
   "source": [
    "series_data = pd.Series(data_zhan_pot['geometry'].apply(lambda x: list(data_sindex.nearest(x.bounds,num_results=2))[1]),name = 'nihao')"
   ]
  },
  {
   "cell_type": "code",
   "execution_count": 98,
   "metadata": {},
   "outputs": [],
   "source": [
    "jiaoji = data_zhan_pot.merge(series_data, left_index = True ,right_on = 'nihao')"
   ]
  },
  {
   "cell_type": "code",
   "execution_count": 101,
   "metadata": {},
   "outputs": [
    {
     "data": {
      "text/html": [
       "<div>\n",
       "<style scoped>\n",
       "    .dataframe tbody tr th:only-of-type {\n",
       "        vertical-align: middle;\n",
       "    }\n",
       "\n",
       "    .dataframe tbody tr th {\n",
       "        vertical-align: top;\n",
       "    }\n",
       "\n",
       "    .dataframe thead th {\n",
       "        text-align: right;\n",
       "    }\n",
       "</style>\n",
       "<table border=\"1\" class=\"dataframe\">\n",
       "  <thead>\n",
       "    <tr style=\"text-align: right;\">\n",
       "      <th></th>\n",
       "      <th>小区CGI(*)</th>\n",
       "      <th>RRU经度</th>\n",
       "      <th>RRU纬度</th>\n",
       "      <th>geometry</th>\n",
       "      <th>最近的序号1</th>\n",
       "      <th>nihao</th>\n",
       "    </tr>\n",
       "  </thead>\n",
       "  <tbody>\n",
       "    <tr>\n",
       "      <th>58978</th>\n",
       "      <td>460-00-192815-64</td>\n",
       "      <td>114.65770</td>\n",
       "      <td>30.584581</td>\n",
       "      <td>POINT (114.65770 30.58458)</td>\n",
       "      <td>58978</td>\n",
       "      <td>58978</td>\n",
       "    </tr>\n",
       "    <tr>\n",
       "      <th>58981</th>\n",
       "      <td>460-00-307944-129</td>\n",
       "      <td>114.65774</td>\n",
       "      <td>30.584570</td>\n",
       "      <td>POINT (114.65774 30.58457)</td>\n",
       "      <td>58981</td>\n",
       "      <td>58981</td>\n",
       "    </tr>\n",
       "    <tr>\n",
       "      <th>58982</th>\n",
       "      <td>460-00-307944-129</td>\n",
       "      <td>114.65774</td>\n",
       "      <td>30.584570</td>\n",
       "      <td>POINT (114.65774 30.58457)</td>\n",
       "      <td>58981</td>\n",
       "      <td>58981</td>\n",
       "    </tr>\n",
       "    <tr>\n",
       "      <th>58979</th>\n",
       "      <td>460-00-307944-132</td>\n",
       "      <td>114.65774</td>\n",
       "      <td>30.584570</td>\n",
       "      <td>POINT (114.65774 30.58457)</td>\n",
       "      <td>58981</td>\n",
       "      <td>58982</td>\n",
       "    </tr>\n",
       "  </tbody>\n",
       "</table>\n",
       "</div>"
      ],
      "text/plain": [
       "                小区CGI(*)      RRU经度      RRU纬度                    geometry  \\\n",
       "58978   460-00-192815-64  114.65770  30.584581  POINT (114.65770 30.58458)   \n",
       "58981  460-00-307944-129  114.65774  30.584570  POINT (114.65774 30.58457)   \n",
       "58982  460-00-307944-129  114.65774  30.584570  POINT (114.65774 30.58457)   \n",
       "58979  460-00-307944-132  114.65774  30.584570  POINT (114.65774 30.58457)   \n",
       "\n",
       "       最近的序号1  nihao  \n",
       "58978   58978  58978  \n",
       "58981   58981  58981  \n",
       "58982   58981  58981  \n",
       "58979   58981  58982  "
      ]
     },
     "execution_count": 101,
     "metadata": {},
     "output_type": "execute_result"
    }
   ],
   "source": [
    "jiaoji[58980:58984]"
   ]
  },
  {
   "cell_type": "code",
   "execution_count": 89,
   "metadata": {},
   "outputs": [
    {
     "data": {
      "text/plain": [
       "False"
      ]
     },
     "execution_count": 89,
     "metadata": {},
     "output_type": "execute_result"
    }
   ],
   "source": [
    "x.owned"
   ]
  },
  {
   "cell_type": "code",
   "execution_count": 44,
   "metadata": {},
   "outputs": [
    {
     "data": {
      "text/plain": [
       "0            0\n",
       "1            0\n",
       "2            0\n",
       "3            4\n",
       "4            3\n",
       "         ...  \n",
       "58981    58981\n",
       "58982    58981\n",
       "58983     6854\n",
       "58984    58985\n",
       "58985    58984\n",
       "Name: 最近的序号1, Length: 58986, dtype: int64"
      ]
     },
     "execution_count": 44,
     "metadata": {},
     "output_type": "execute_result"
    }
   ],
   "source": [
    "data_zhan_pot['最近的序号1']"
   ]
  },
  {
   "cell_type": "code",
   "execution_count": null,
   "metadata": {},
   "outputs": [],
   "source": []
  },
  {
   "cell_type": "markdown",
   "metadata": {},
   "source": [
    "## 最近三个站点计算站间距"
   ]
  },
  {
   "cell_type": "code",
   "execution_count": 3,
   "metadata": {
    "scrolled": true
   },
   "outputs": [
    {
     "name": "stderr",
     "output_type": "stream",
     "text": [
      "C:\\ProgramData\\Anaconda3\\lib\\site-packages\\IPython\\core\\interactiveshell.py:2714: DtypeWarning: Columns (18) have mixed types. Specify dtype option on import or set low_memory=False.\n",
      "  interactivity=interactivity, compiler=compiler, result=result)\n"
     ]
    }
   ],
   "source": [
    "#导入数据\n",
    "data_zhan = pd.read_csv(open('./站间距计算/武汉小区.csv'))\n",
    "data_zhan = data_zhan.loc[data_zhan['类别'] == '宏站']"
   ]
  },
  {
   "cell_type": "code",
   "execution_count": 4,
   "metadata": {},
   "outputs": [],
   "source": [
    "#选择关键列---必填\n",
    "id = '小区CGI(*)'\n",
    "lon = 'RRU经度'\n",
    "lat = 'RRU纬度'\n",
    "pi = 500"
   ]
  },
  {
   "cell_type": "code",
   "execution_count": 5,
   "metadata": {},
   "outputs": [],
   "source": [
    "#数据整理\n",
    "data_zhan1 = data_zhan.loc[(data_zhan[lon]>0)&(data_zhan[lat]<60)]\n",
    "data_zhan1=data_zhan1[[id, lon, lat]]\n",
    "data_zhan_buff = nt.add_buffer(data_zhan1 , coords=[lon, lat,'',''],buff_m=5000)\n",
    "data_zhan_pot = nt.add_points(data_zhan1 , coords=[lon, lat,'',''])"
   ]
  },
  {
   "cell_type": "code",
   "execution_count": null,
   "metadata": {
    "scrolled": true
   },
   "outputs": [],
   "source": [
    "#数据处理\n",
    "nu = data_zhan_buff.shape\n",
    "xhcs=nu[0]//pi\n",
    "ys = nu[0]%pi\n",
    "xh_cishu=list(range(xhcs))\n",
    "data_append = pd.DataFrame()\n",
    "#循环进行\n",
    "for i in xh_cishu:\n",
    "    #批量sjoin\n",
    "    x = i*pi\n",
    "    y = x +pi\n",
    "    data_zhan_t = data_zhan_buff.iloc[x:y,]\n",
    "    data_jg_t = gpd.sjoin(data_zhan_t,data_zhan_pot)\n",
    "    #去掉poi\n",
    "    ss = data_jg_t.filter(regex=\"[^geometry,^lon_n,^lat_n]\")\n",
    "    #处理成结果格式\n",
    "    lon1, lat1, lon2, lat2 = map(np.radians, \n",
    "                             [ss[lon+'_left'], ss[lat+'_left'], ss[lon+'_right'], ss[lat+'_right']])\n",
    "    a = np.sin((lat2 - lat1)/2)**2 + np.cos(lat1)*np.cos(lat2)*np.sin((lon2 - lon1)/2)**2\n",
    "    ss['距离'] = 2*np.arcsin(np.sqrt(a))*6371*1000\n",
    "    ss1= ss.loc[ss['距离']>50]\n",
    "    ss2=ss1.sort_values(by = '距离' ,ascending=False)\n",
    "    ss3=ss2.groupby(by = id+'_left').apply(lambda x:x.sort_values(by=\"距离\").head(3))#分组后保留最大的某个列的一行，排序，降序\n",
    "    ss3.reset_index(drop=True,inplace = True)\n",
    "    res = ss3.groupby(by = id+'_left').agg({'距离':'mean'})\n",
    "    \n",
    "    \n",
    "    data_append = data_append.append(res)\n",
    "\n",
    "    print('数据总计行列数',nu,'目前执行到',x,y,'本次圈到：',data_jg_t.shape,'有效',res.shape,'结果累计量：',data_append.shape)"
   ]
  },
  {
   "cell_type": "code",
   "execution_count": null,
   "metadata": {
    "scrolled": true
   },
   "outputs": [],
   "source": [
    "#余数部分进行\n",
    "data_zhan_t=data_zhan_buff.iloc[(xh_cishu[-1]+1)*pi:(xh_cishu[-1]+1)*pi+ys,]\n",
    "data_jg_t = gpd.sjoin(data_zhan_t,data_zhan_pot)\n",
    "\n",
    "#去掉poi\n",
    "ss = data_jg_t.filter(regex=\"[^geometry,^lon_n,^lat_n]\")\n",
    "#处理成结果格式\n",
    "lon1, lat1, lon2, lat2 = map(np.radians, \n",
    "                         [ss[lon+'_left'], ss[lat+'_left'], ss[lon+'_right'], ss[lat+'_right']])\n",
    "a = np.sin((lat2 - lat1)/2)**2 + np.cos(lat1)*np.cos(lat2)*np.sin((lon2 - lon1)/2)**2\n",
    "ss['距离'] = 2*np.arcsin(np.sqrt(a))*6371*1000\n",
    "ss1= ss.loc[ss['距离']>50]\n",
    "ss2=ss1.sort_values(by = '距离' ,ascending=False)\n",
    "ss3=ss2.groupby(by = id+'_left').apply(lambda x:x.sort_values(by=\"距离\").head(3))#分组后保留最大的某个列的一行，排序，降序\n",
    "ss3.reset_index(drop=True,inplace = True)\n",
    "res = ss3.groupby(by = id+'_left').agg({'距离':'mean'})\n",
    "\n",
    "data_append = data_append.append(res)\n",
    "print((xh_cishu[-1]+1)*pi,(xh_cishu[-1]+1)*pi+ys,'完成','总计：',data_append.shape)"
   ]
  },
  {
   "cell_type": "code",
   "execution_count": null,
   "metadata": {},
   "outputs": [],
   "source": [
    "#将结果更新到原表新增的列中\n",
    "data_zhan.set_index(id,inplace = True)\n",
    "data_zhan['平均站间距']=\"\"\n",
    "data_zhan['平均站间距'].update(data_append['距离'])"
   ]
  },
  {
   "cell_type": "code",
   "execution_count": null,
   "metadata": {},
   "outputs": [],
   "source": [
    "#导出\n",
    "data_zhan.to_csv('./站间距计算/武汉小区-站间距结果.csv' ,encoding = 'gbk')"
   ]
  },
  {
   "cell_type": "code",
   "execution_count": null,
   "metadata": {},
   "outputs": [],
   "source": []
  }
 ],
 "metadata": {
  "kernelspec": {
   "display_name": "Python 3",
   "language": "python",
   "name": "python3"
  },
  "language_info": {
   "codemirror_mode": {
    "name": "ipython",
    "version": 3
   },
   "file_extension": ".py",
   "mimetype": "text/x-python",
   "name": "python",
   "nbconvert_exporter": "python",
   "pygments_lexer": "ipython3",
   "version": "3.7.4"
  }
 },
 "nbformat": 4,
 "nbformat_minor": 2
}
