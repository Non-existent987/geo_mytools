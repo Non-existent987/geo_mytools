{
 "cells": [
  {
   "cell_type": "code",
   "execution_count": null,
   "metadata": {},
   "outputs": [],
   "source": []
  },
  {
   "cell_type": "code",
   "execution_count": 61,
   "metadata": {},
   "outputs": [
    {
     "name": "stdout",
     "output_type": "stream",
     "text": [
      "输入备注:sdf sdfsdfd  adsrwe\n",
      "Zip command is:\n",
      "c:&&cd C:\\Users\\Administrator&&zip -r E:\\Backup\\20191111165343.zip C:\\My C:\\Code\n",
      "Running:\n",
      "Successful backup to E:\\Backup\\20191111\\173419_sdf_sdfsdfd__adsrwe.zip\n"
     ]
    }
   ],
   "source": [
    "import os\n",
    "import time\n",
    "source = ['C:\\\\My', 'C:\\\\Code'] #备份文件夹\n",
    "target_dir = 'E:\\\\Backup' #存放位置\n",
    "\n",
    "shijian = time.strftime('%Y%m%d')\n",
    "beizhu = input('输入备注:')\n",
    "target = target_dir + os.sep + shijian + os.sep + time.strftime('%H%M%S') + '_'+beizhu.replace(' ', '_')+'.zip' #存放名称\n",
    "\n",
    "path_os = target_dir+os.sep+shijian\n",
    "if not os.path.exists(path_os):  #如果目录不存在就创建\n",
    "    os.mkdir(path_os)\n",
    "\n",
    "zip_command = 'zip -r {0} {1}'.format(target,' '.join(source)) #zip命令 字符串\n",
    "print('Zip command is:')\n",
    "print(cmd_ok)\n",
    "print('Running:')\n",
    "if os.system(zip_command) == 0:  #执行zip命令，并判断  0是成功 1是不成功\n",
    "    print('Successful backup to', target)\n",
    "else:\n",
    "    print('Backup FAILED')"
   ]
  },
  {
   "cell_type": "code",
   "execution_count": 54,
   "metadata": {},
   "outputs": [
    {
     "data": {
      "text/plain": [
       "'\\\\'"
      ]
     },
     "execution_count": 54,
     "metadata": {},
     "output_type": "execute_result"
    }
   ],
   "source": [
    "os.sep"
   ]
  },
  {
   "cell_type": "code",
   "execution_count": 53,
   "metadata": {},
   "outputs": [
    {
     "data": {
      "text/plain": [
       "'20191111'"
      ]
     },
     "execution_count": 53,
     "metadata": {},
     "output_type": "execute_result"
    }
   ],
   "source": [
    "time.strftime('%Y%m%d')"
   ]
  },
  {
   "cell_type": "code",
   "execution_count": null,
   "metadata": {},
   "outputs": [],
   "source": []
  },
  {
   "cell_type": "code",
   "execution_count": null,
   "metadata": {},
   "outputs": [],
   "source": []
  },
  {
   "cell_type": "code",
   "execution_count": 6,
   "metadata": {},
   "outputs": [
    {
     "data": {
      "text/plain": [
       "'E:\\\\Backup\\\\20191111165539.zip'"
      ]
     },
     "execution_count": 6,
     "metadata": {},
     "output_type": "execute_result"
    }
   ],
   "source": [
    "target"
   ]
  },
  {
   "cell_type": "code",
   "execution_count": null,
   "metadata": {},
   "outputs": [],
   "source": []
  },
  {
   "cell_type": "code",
   "execution_count": null,
   "metadata": {},
   "outputs": [],
   "source": []
  },
  {
   "cell_type": "code",
   "execution_count": 46,
   "metadata": {},
   "outputs": [],
   "source": [
    "import os\n",
    "import time\n",
    "beifenwenjian = 'E:/Backup'\n",
    "cunfangwenjian = 'E:/oookkkk'\n",
    "if not os.path.exists(cunfangwenjian):\n",
    "    os.mkdir(cunfangwenjian)\n",
    "mingling = 'zip -r {0} {1}'.format(cunfangwenjian+'/rr.zip',' '+beifenwenjian)\n",
    "if os.system(mingling) == 0:\n",
    "    print(\"成功\")\n",
    "else:\n",
    "    print('no')"
   ]
  },
  {
   "cell_type": "code",
   "execution_count": null,
   "metadata": {},
   "outputs": [],
   "source": []
  },
  {
   "cell_type": "code",
   "execution_count": null,
   "metadata": {},
   "outputs": [],
   "source": [
    "{0} {1}'.format(target,' '.join(source))"
   ]
  },
  {
   "cell_type": "code",
   "execution_count": null,
   "metadata": {},
   "outputs": [],
   "source": []
  },
  {
   "cell_type": "code",
   "execution_count": null,
   "metadata": {},
   "outputs": [],
   "source": [
    "#类"
   ]
  },
  {
   "cell_type": "code",
   "execution_count": 16,
   "metadata": {},
   "outputs": [],
   "source": [
    "class myclass():\n",
    "    bianliang = 0\n",
    "    def __init__(self):\n",
    "        print('bianliang is :')\n",
    "    def chengxu_1(self):\n",
    "        print('chengxu_1')\n",
    "    def chengxu_3(self):\n",
    "        print('chengxu_1')\n",
    "\n",
    "    @classmethod\n",
    "    def chengxu_2(self):\n",
    "        print('chengxu_2')"
   ]
  },
  {
   "cell_type": "code",
   "execution_count": 17,
   "metadata": {},
   "outputs": [
    {
     "data": {
      "text/plain": [
       "0"
      ]
     },
     "execution_count": 17,
     "metadata": {},
     "output_type": "execute_result"
    }
   ],
   "source": [
    "myclass.bianliang"
   ]
  },
  {
   "cell_type": "code",
   "execution_count": 18,
   "metadata": {},
   "outputs": [
    {
     "ename": "TypeError",
     "evalue": "chengxu_3() missing 1 required positional argument: 'self'",
     "output_type": "error",
     "traceback": [
      "\u001b[1;31m---------------------------------------------------------------------------\u001b[0m",
      "\u001b[1;31mTypeError\u001b[0m                                 Traceback (most recent call last)",
      "\u001b[1;32m<ipython-input-18-04fd77689e5c>\u001b[0m in \u001b[0;36m<module>\u001b[1;34m()\u001b[0m\n\u001b[1;32m----> 1\u001b[1;33m \u001b[0mmyclass\u001b[0m\u001b[1;33m.\u001b[0m\u001b[0mchengxu_3\u001b[0m\u001b[1;33m(\u001b[0m\u001b[1;33m)\u001b[0m\u001b[1;33m\u001b[0m\u001b[1;33m\u001b[0m\u001b[0m\n\u001b[0m",
      "\u001b[1;31mTypeError\u001b[0m: chengxu_3() missing 1 required positional argument: 'self'"
     ]
    }
   ],
   "source": [
    "myclass.chengxu_3()"
   ]
  },
  {
   "cell_type": "code",
   "execution_count": 19,
   "metadata": {},
   "outputs": [
    {
     "name": "stdout",
     "output_type": "stream",
     "text": [
      "chengxu_1\n"
     ]
    }
   ],
   "source": [
    "myclass.chengxu_1('sdf')"
   ]
  },
  {
   "cell_type": "code",
   "execution_count": 20,
   "metadata": {},
   "outputs": [
    {
     "name": "stdout",
     "output_type": "stream",
     "text": [
      "chengxu_2\n"
     ]
    }
   ],
   "source": [
    "myclass.chengxu_2()"
   ]
  },
  {
   "cell_type": "code",
   "execution_count": null,
   "metadata": {},
   "outputs": [],
   "source": []
  },
  {
   "cell_type": "code",
   "execution_count": null,
   "metadata": {},
   "outputs": [],
   "source": []
  },
  {
   "cell_type": "code",
   "execution_count": null,
   "metadata": {},
   "outputs": [],
   "source": []
  },
  {
   "cell_type": "code",
   "execution_count": null,
   "metadata": {},
   "outputs": [],
   "source": []
  }
 ],
 "metadata": {
  "kernelspec": {
   "display_name": "Python 3",
   "language": "python",
   "name": "python3"
  },
  "language_info": {
   "codemirror_mode": {
    "name": "ipython",
    "version": 3
   },
   "file_extension": ".py",
   "mimetype": "text/x-python",
   "name": "python",
   "nbconvert_exporter": "python",
   "pygments_lexer": "ipython3",
   "version": "3.7.3"
  }
 },
 "nbformat": 4,
 "nbformat_minor": 2
}
