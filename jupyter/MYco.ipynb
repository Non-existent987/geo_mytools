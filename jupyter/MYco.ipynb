{
 "cells": [
  {
   "cell_type": "code",
   "execution_count": 1,
   "metadata": {},
   "outputs": [],
   "source": [
    "%load_ext autoreload\n",
    "%autoreload 2"
   ]
  },
  {
   "cell_type": "code",
   "execution_count": 2,
   "metadata": {},
   "outputs": [
    {
     "name": "stdout",
     "output_type": "stream",
     "text": [
      "(/Users/dongtao/myPythonPakage/app/band_dict.csv)文件不存在!\n",
      "请核准路径及文件名!\n",
      "(/Users/dongtao/myPythonPakage/app/hubei_id_resources.csv)文件不存在!\n",
      "请核准路径及文件名!\n"
     ]
    }
   ],
   "source": [
    "import time\n",
    "import geopandas as gpd\n",
    "import imp\n",
    "import app.main as m\n",
    "import app.mydef as md\n",
    "import numpy as np\n",
    "imp.reload(md)\n",
    "mt=md.MyTools()\n",
    "con = mt.con()\n",
    "import pandas as pd\n",
    "import app.netools as ant\n",
    "nt = ant.NetTools()\n",
    "# from io import BytesIO as StringIO\n",
    "# import   StringIO ,   cStringIO ,   sys\n",
    "import pyproj\n",
    "from shapely.geometry import *\n",
    "from geographiclib.geodesic import Geodesic\n",
    "import os\n",
    "import ast"
   ]
  },
  {
   "cell_type": "code",
   "execution_count": null,
   "metadata": {},
   "outputs": [],
   "source": []
  }
 ],
 "metadata": {
  "kernelspec": {
   "display_name": "Python 3",
   "language": "python",
   "name": "python3"
  },
  "language_info": {
   "codemirror_mode": {
    "name": "ipython",
    "version": 3
   },
   "file_extension": ".py",
   "mimetype": "text/x-python",
   "name": "python",
   "nbconvert_exporter": "python",
   "pygments_lexer": "ipython3",
   "version": "3.7.3"
  }
 },
 "nbformat": 4,
 "nbformat_minor": 2
}
