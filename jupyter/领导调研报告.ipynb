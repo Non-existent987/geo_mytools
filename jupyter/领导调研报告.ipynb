{
 "cells": [
  {
   "cell_type": "code",
   "execution_count": 1,
   "metadata": {},
   "outputs": [],
   "source": [
    "import pandas as pd\n",
    "import geopandas as gpd"
   ]
  },
  {
   "cell_type": "code",
   "execution_count": 2,
   "metadata": {},
   "outputs": [],
   "source": [
    "import app.mydef as md\n",
    "mt = md.MyTools()\n",
    "import app.netools as ns\n",
    "nt = ns.NetTools()"
   ]
  },
  {
   "cell_type": "code",
   "execution_count": 3,
   "metadata": {},
   "outputs": [
    {
     "name": "stderr",
     "output_type": "stream",
     "text": [
      "C:\\ProgramData\\Anaconda3\\lib\\site-packages\\IPython\\core\\interactiveshell.py:2714: DtypeWarning: Columns (1) have mixed types. Specify dtype option on import or set low_memory=False.\n",
      "  interactivity=interactivity, compiler=compiler, result=result)\n"
     ]
    }
   ],
   "source": [
    "data = pd.read_csv(open('G:/1-规划/评估/软采评估/2019第三季度/使用数据/汇总-添评估使用-备份-华为使用邮件数据-tdd-不要大唐.csv',encoding = 'gbk'))"
   ]
  },
  {
   "cell_type": "code",
   "execution_count": 4,
   "metadata": {},
   "outputs": [],
   "source": [
    "jiangan = data.loc[data['区县']=='蔡甸区']"
   ]
  },
  {
   "cell_type": "code",
   "execution_count": 5,
   "metadata": {},
   "outputs": [],
   "source": [
    "jiangan1 = jiangan[['eutrancell_cgi', '移动覆盖率', 'rsrp_sample_count',\n",
    "       'rsrp_weak', '区县', 'lon', 'lat', '弱覆盖', '有效小区', 'hd', '总问题小区', 'atu',\n",
    "       '厂家名称', '全网', '制式', '对应栅格区县', '对应栅格地']]"
   ]
  },
  {
   "cell_type": "code",
   "execution_count": 6,
   "metadata": {},
   "outputs": [
    {
     "name": "stderr",
     "output_type": "stream",
     "text": [
      "C:\\ProgramData\\Anaconda3\\lib\\site-packages\\ipykernel_launcher.py:1: SettingWithCopyWarning: \n",
      "A value is trying to be set on a copy of a slice from a DataFrame.\n",
      "Try using .loc[row_indexer,col_indexer] = value instead\n",
      "\n",
      "See the caveats in the documentation: http://pandas.pydata.org/pandas-docs/stable/indexing.html#indexing-view-versus-copy\n",
      "  \"\"\"Entry point for launching an IPython kernel.\n"
     ]
    }
   ],
   "source": [
    "jiangan1['移动覆盖率'] =1 - jiangan1['rsrp_weak']/jiangan1['rsrp_sample_count']"
   ]
  },
  {
   "cell_type": "code",
   "execution_count": 7,
   "metadata": {},
   "outputs": [],
   "source": [
    "xiaoyu8 = jiangan1.loc[jiangan1['移动覆盖率']<0.8]"
   ]
  },
  {
   "cell_type": "code",
   "execution_count": 8,
   "metadata": {},
   "outputs": [
    {
     "data": {
      "text/plain": [
       "Index(['eutrancell_cgi', '移动覆盖率', 'rsrp_sample_count', 'rsrp_weak', '区县',\n",
       "       'lon', 'lat', '弱覆盖', '有效小区', 'hd', '总问题小区', 'atu', '厂家名称', '全网', '制式',\n",
       "       '对应栅格区县', '对应栅格地'],\n",
       "      dtype='object')"
      ]
     },
     "execution_count": 8,
     "metadata": {},
     "output_type": "execute_result"
    }
   ],
   "source": [
    "xiaoyu8.columns"
   ]
  },
  {
   "cell_type": "code",
   "execution_count": 9,
   "metadata": {},
   "outputs": [],
   "source": [
    "xiaoyu8_p = nt.add_points(xiaoyu8,coords=['lon', 'lat', '', ''])"
   ]
  },
  {
   "cell_type": "code",
   "execution_count": 10,
   "metadata": {},
   "outputs": [],
   "source": [
    "xiaoyu8_p.to_csv('jiangan.csv',encoding = 'gbk')"
   ]
  },
  {
   "cell_type": "code",
   "execution_count": 44,
   "metadata": {},
   "outputs": [],
   "source": [
    "import fiona"
   ]
  },
  {
   "cell_type": "code",
   "execution_count": 45,
   "metadata": {},
   "outputs": [
    {
     "data": {
      "text/plain": [
       "'C:\\\\ProgramData\\\\Anaconda3\\\\lib\\\\site-packages\\\\fiona\\\\__init__.py'"
      ]
     },
     "execution_count": 45,
     "metadata": {},
     "output_type": "execute_result"
    }
   ],
   "source": [
    "fiona.__file__"
   ]
  },
  {
   "cell_type": "code",
   "execution_count": null,
   "metadata": {},
   "outputs": [],
   "source": []
  },
  {
   "cell_type": "code",
   "execution_count": 41,
   "metadata": {},
   "outputs": [
    {
     "name": "stdout",
     "output_type": "stream",
     "text": [
      "Help on function to_file in module geopandas.geodataframe:\n",
      "\n",
      "to_file(self, filename, driver='ESRI Shapefile', schema=None, **kwargs)\n",
      "    Write the ``GeoDataFrame`` to a file.\n",
      "    \n",
      "    By default, an ESRI shapefile is written, but any OGR data source\n",
      "    supported by Fiona can be written. A dictionary of supported OGR\n",
      "    providers is available via:\n",
      "    \n",
      "    >>> import fiona\n",
      "    >>> fiona.supported_drivers\n",
      "    \n",
      "    Parameters\n",
      "    ----------\n",
      "    filename : string\n",
      "        File path or file handle to write to.\n",
      "    driver : string, default: 'ESRI Shapefile'\n",
      "        The OGR format driver used to write the vector file.\n",
      "    schema : dict, default: None\n",
      "        If specified, the schema dictionary is passed to Fiona to\n",
      "        better control how the file is written.\n",
      "    \n",
      "    Notes\n",
      "    -----\n",
      "    The extra keyword arguments ``**kwargs`` are passed to fiona.open and\n",
      "    can be used to write to multi-layer data, store data within archives\n",
      "    (zip files), etc.\n",
      "\n"
     ]
    }
   ],
   "source": [
    "help(gpd.GeoDataFrame.to_file)"
   ]
  },
  {
   "cell_type": "code",
   "execution_count": null,
   "metadata": {},
   "outputs": [],
   "source": []
  }
 ],
 "metadata": {
  "kernelspec": {
   "display_name": "Python 3",
   "language": "python",
   "name": "python3"
  },
  "language_info": {
   "codemirror_mode": {
    "name": "ipython",
    "version": 3
   },
   "file_extension": ".py",
   "mimetype": "text/x-python",
   "name": "python",
   "nbconvert_exporter": "python",
   "pygments_lexer": "ipython3",
   "version": "3.7.4"
  }
 },
 "nbformat": 4,
 "nbformat_minor": 2
}
