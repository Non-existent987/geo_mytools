{
 "cells": [
  {
   "cell_type": "code",
   "execution_count": 1,
   "metadata": {},
   "outputs": [],
   "source": [
    "import pandas as pd\n",
    "import pymysql \n",
    "import app.mydef as md\n",
    "mt=md.MyTools()\n",
    "con = mt.con()"
   ]
  },
  {
   "cell_type": "code",
   "execution_count": 2,
   "metadata": {},
   "outputs": [],
   "source": [
    "path_1=mt.file_name_paths(path = 'd:/uup/')"
   ]
  },
  {
   "cell_type": "code",
   "execution_count": 59,
   "metadata": {},
   "outputs": [],
   "source": [
    "def md_to_sql(a):\n",
    "    try:\n",
    "        data_s = pd.read_csv(a,sep='\t')\n",
    "    except:\n",
    "        data_s = pd.read_csv(a)\n",
    "    data_s['rq']=a.split('/')[-1].split('grid.')[0]\n",
    "    data_s.to_sql(name='hhh2',con = con ,index = False,if_exists='append')"
   ]
  },
  {
   "cell_type": "code",
   "execution_count": 6,
   "metadata": {},
   "outputs": [
    {
     "name": "stdout",
     "output_type": "stream",
     "text": [
      "-----------------------------------------------\n",
      "d:/uup/0701grid.csv 使用的是 空 分割\n",
      "  导入的行列： (270692, 26)   总计的行列： (1917329, 27)\n",
      "-----------------------------------------------\n",
      "d:/uup/0702grid.csv 使用的是 空 分割\n",
      "  导入的行列： (343518, 26)   总计的行列： (1917329, 27)\n",
      "-----------------------------------------------\n",
      "d:/uup/0703grid.csv 使用的是 空 分割\n",
      "  导入的行列： (336384, 26)   总计的行列： (1917329, 27)\n",
      "-----------------------------------------------\n",
      "d:/uup/0704grid.csv 使用的是 空 分割\n",
      "  导入的行列： (353144, 26)   总计的行列： (1917329, 27)\n",
      "-----------------------------------------------\n",
      "d:/uup/0705grid.csv 使用的是 空 分割\n",
      "  导入的行列： (300026, 26)   总计的行列： (1917329, 27)\n",
      "-----------------------------------------------\n",
      "d:/uup/0706grid.csv 使用的是 空 分割\n",
      "  导入的行列： (313565, 26)   总计的行列： (1917329, 27)\n"
     ]
    }
   ],
   "source": [
    "for i in path_1:\n",
    "    print('-----------------------------------------------')\n",
    "    try:\n",
    "        data_s = pd.read_csv(i,sep='\t')\n",
    "        print(i,'使用的是 空 分割')\n",
    "    except:\n",
    "        try:\n",
    "            try:\n",
    "                data_s = pd.read_csv(open(i,encoding = 'gbk'))\n",
    "                print('使用的是默认分割-gbk')\n",
    "            except:\n",
    "                data_s = pd.read_csv(i)\n",
    "                print('使用的是默认分割-无')\n",
    "        except:\n",
    "            print(i,'导入失败')\n",
    "    data_s.to_csv(i.split('/')[-1].split('grid.')[0]+'.csv',encoding = 'gbk',index=False)\n",
    "    \n",
    "    print( '  导入的行列：',data_s.shape,'  总计的行列：',data_a.shape)"
   ]
  },
  {
   "cell_type": "code",
   "execution_count": 4,
   "metadata": {
    "scrolled": true
   },
   "outputs": [
    {
     "name": "stdout",
     "output_type": "stream",
     "text": [
      "-----------------------------------------------\n",
      "d:/uup/0701grid.csv 使用的是 空 分割\n",
      "  导入的行列： (270692, 27)   总计的行列： (270692, 27)\n",
      "-----------------------------------------------\n",
      "d:/uup/0702grid.csv 使用的是 空 分割\n",
      "  导入的行列： (343518, 27)   总计的行列： (614210, 27)\n",
      "-----------------------------------------------\n",
      "d:/uup/0703grid.csv 使用的是 空 分割\n",
      "  导入的行列： (336384, 27)   总计的行列： (950594, 27)\n",
      "-----------------------------------------------\n",
      "d:/uup/0704grid.csv 使用的是 空 分割\n",
      "  导入的行列： (353144, 27)   总计的行列： (1303738, 27)\n",
      "-----------------------------------------------\n",
      "d:/uup/0705grid.csv 使用的是 空 分割\n",
      "  导入的行列： (300026, 27)   总计的行列： (1603764, 27)\n",
      "-----------------------------------------------\n",
      "d:/uup/0706grid.csv 使用的是 空 分割\n",
      "  导入的行列： (313565, 27)   总计的行列： (1917329, 27)\n"
     ]
    }
   ],
   "source": [
    "data_a = pd.DataFrame()\n",
    "for i in path_1:\n",
    "    print('-----------------------------------------------')\n",
    "    try:\n",
    "        data_s = pd.read_csv(i,sep='\t')\n",
    "        print(i,'使用的是 空 分割')\n",
    "    except:\n",
    "        try:\n",
    "            try:\n",
    "                data_s = pd.read_csv(open(i,encoding = 'gbk'))\n",
    "                print('使用的是默认分割-gbk')\n",
    "            except:\n",
    "                data_s = pd.read_csv(i)\n",
    "                print('使用的是默认分割-无')\n",
    "        except:\n",
    "            print(i,'导入失败')\n",
    "    data_s['rq']=i.split('/')[-1].split('grid.')[0]\n",
    "    data_a = data_a.append(data_s)\n",
    "    print( '  导入的行列：',data_s.shape,'  总计的行列：',data_a.shape)"
   ]
  },
  {
   "cell_type": "markdown",
   "metadata": {},
   "source": [
    "# 栅格合并求和"
   ]
  },
  {
   "cell_type": "code",
   "execution_count": 17,
   "metadata": {},
   "outputs": [
    {
     "data": {
      "text/plain": [
       "Index(['a.region_name', 'a.grid_id', 'a.grid_leftbottom_longitude',\n",
       "       'a.grid_leftbottom_latitude', 'a.grid_lefttop_longitude',\n",
       "       'a.grid_lefttop_latitude', 'a.grid_righttop_longitude',\n",
       "       'a.grid_righttop_latitude', 'a.grid_rightbottom_longitude',\n",
       "       'a.grid_rightbottom_latitude', 'b.ul_data', 'b.dl_data',\n",
       "       'a.rsrp_sample_count', 'a.rsrp_weak', 'a.scrsrp_95', 'a.scrsrp_110_95',\n",
       "       'a.scrsrp_110', 'a.inter_maxrsrp_weak', 'a.un_maxrsrp_sum',\n",
       "       'a.un_maxrsrp_sample_count', 'a.un_maxrsrp_weak', 'a.te_maxrsrp_weak',\n",
       "       'a.te_maxrsrp_sample_count', 'a.te_maxrsrp_sum', 'a.te_maxrsrp_weak_l2',\n",
       "       'a.un_maxrsrp_weak_l2', 'rq'],\n",
       "      dtype='object')"
      ]
     },
     "execution_count": 17,
     "metadata": {},
     "output_type": "execute_result"
    }
   ],
   "source": [
    "data_a.columns"
   ]
  },
  {
   "cell_type": "code",
   "execution_count": 13,
   "metadata": {},
   "outputs": [],
   "source": [
    "data_a1 = data_a[['a.grid_id', 'b.ul_data', 'b.dl_data',\n",
    "       'a.rsrp_sample_count', 'a.rsrp_weak', 'a.scrsrp_95', 'a.scrsrp_110_95',\n",
    "       'a.scrsrp_110', 'a.inter_maxrsrp_weak', 'a.un_maxrsrp_sum',\n",
    "       'a.un_maxrsrp_sample_count', 'a.un_maxrsrp_weak', 'a.te_maxrsrp_weak',\n",
    "       'a.te_maxrsrp_sample_count', 'a.te_maxrsrp_sum', 'a.te_maxrsrp_weak_l2',\n",
    "       'a.un_maxrsrp_weak_l2']]"
   ]
  },
  {
   "cell_type": "code",
   "execution_count": 16,
   "metadata": {},
   "outputs": [],
   "source": [
    "data2=data_a1.groupby(by = 'a.grid_id').sum()"
   ]
  },
  {
   "cell_type": "code",
   "execution_count": 20,
   "metadata": {},
   "outputs": [],
   "source": [
    "data3 = data_a[['a.region_name','a.grid_id', 'a.grid_leftbottom_longitude',\n",
    "       'a.grid_leftbottom_latitude', 'a.grid_lefttop_longitude',\n",
    "       'a.grid_lefttop_latitude', 'a.grid_righttop_longitude',\n",
    "       'a.grid_righttop_latitude', 'a.grid_rightbottom_longitude',\n",
    "       'a.grid_rightbottom_latitude']]"
   ]
  },
  {
   "cell_type": "code",
   "execution_count": 22,
   "metadata": {},
   "outputs": [],
   "source": [
    "data4=data3.drop_duplicates(subset='a.grid_id',keep='first',inplace=False) #按name 去重"
   ]
  },
  {
   "cell_type": "code",
   "execution_count": 24,
   "metadata": {},
   "outputs": [],
   "source": [
    "data5=data2.merge(data4,how='left',on = 'a.grid_id')"
   ]
  },
  {
   "cell_type": "code",
   "execution_count": 26,
   "metadata": {},
   "outputs": [],
   "source": [
    "data6 = data5[['a.region_name', 'a.grid_id', 'a.grid_leftbottom_longitude',\n",
    "       'a.grid_leftbottom_latitude', 'a.grid_lefttop_longitude',\n",
    "       'a.grid_lefttop_latitude', 'a.grid_righttop_longitude',\n",
    "       'a.grid_righttop_latitude', 'a.grid_rightbottom_longitude',\n",
    "       'a.grid_rightbottom_latitude', 'b.ul_data', 'b.dl_data',\n",
    "       'a.rsrp_sample_count', 'a.rsrp_weak', 'a.scrsrp_95', 'a.scrsrp_110_95',\n",
    "       'a.scrsrp_110', 'a.inter_maxrsrp_weak', 'a.un_maxrsrp_sum',\n",
    "       'a.un_maxrsrp_sample_count', 'a.un_maxrsrp_weak', 'a.te_maxrsrp_weak',\n",
    "       'a.te_maxrsrp_sample_count', 'a.te_maxrsrp_sum', 'a.te_maxrsrp_weak_l2',\n",
    "       'a.un_maxrsrp_weak_l2']]"
   ]
  },
  {
   "cell_type": "code",
   "execution_count": 28,
   "metadata": {},
   "outputs": [],
   "source": [
    "data6.to_csv('grid_1-6.csv',encoding = 'gbk')"
   ]
  },
  {
   "cell_type": "code",
   "execution_count": 29,
   "metadata": {},
   "outputs": [
    {
     "data": {
      "text/html": [
       "<div>\n",
       "<style scoped>\n",
       "    .dataframe tbody tr th:only-of-type {\n",
       "        vertical-align: middle;\n",
       "    }\n",
       "\n",
       "    .dataframe tbody tr th {\n",
       "        vertical-align: top;\n",
       "    }\n",
       "\n",
       "    .dataframe thead th {\n",
       "        text-align: right;\n",
       "    }\n",
       "</style>\n",
       "<table border=\"1\" class=\"dataframe\">\n",
       "  <thead>\n",
       "    <tr style=\"text-align: right;\">\n",
       "      <th></th>\n",
       "      <th>a.region_name</th>\n",
       "      <th>a.grid_id</th>\n",
       "      <th>a.grid_leftbottom_longitude</th>\n",
       "      <th>a.grid_leftbottom_latitude</th>\n",
       "      <th>a.grid_lefttop_longitude</th>\n",
       "      <th>a.grid_lefttop_latitude</th>\n",
       "      <th>a.grid_righttop_longitude</th>\n",
       "      <th>a.grid_righttop_latitude</th>\n",
       "      <th>a.grid_rightbottom_longitude</th>\n",
       "      <th>a.grid_rightbottom_latitude</th>\n",
       "      <th>...</th>\n",
       "      <th>a.scrsrp_110</th>\n",
       "      <th>a.inter_maxrsrp_weak</th>\n",
       "      <th>a.un_maxrsrp_sum</th>\n",
       "      <th>a.un_maxrsrp_sample_count</th>\n",
       "      <th>a.un_maxrsrp_weak</th>\n",
       "      <th>a.te_maxrsrp_weak</th>\n",
       "      <th>a.te_maxrsrp_sample_count</th>\n",
       "      <th>a.te_maxrsrp_sum</th>\n",
       "      <th>a.te_maxrsrp_weak_l2</th>\n",
       "      <th>a.un_maxrsrp_weak_l2</th>\n",
       "    </tr>\n",
       "  </thead>\n",
       "  <tbody>\n",
       "    <tr>\n",
       "      <th>0</th>\n",
       "      <td>潜江</td>\n",
       "      <td>49RFP-843-635-100</td>\n",
       "      <td>112.918239</td>\n",
       "      <td>30.389433</td>\n",
       "      <td>112.918256</td>\n",
       "      <td>30.390335</td>\n",
       "      <td>112.919297</td>\n",
       "      <td>30.390319</td>\n",
       "      <td>112.919279</td>\n",
       "      <td>30.389417</td>\n",
       "      <td>...</td>\n",
       "      <td>55</td>\n",
       "      <td>0</td>\n",
       "      <td>0.0</td>\n",
       "      <td>0</td>\n",
       "      <td>0</td>\n",
       "      <td>0</td>\n",
       "      <td>0</td>\n",
       "      <td>0.0</td>\n",
       "      <td>0</td>\n",
       "      <td>0</td>\n",
       "    </tr>\n",
       "    <tr>\n",
       "      <th>1</th>\n",
       "      <td>潜江</td>\n",
       "      <td>49RFP-843-636-100</td>\n",
       "      <td>112.918256</td>\n",
       "      <td>30.390335</td>\n",
       "      <td>112.918274</td>\n",
       "      <td>30.391237</td>\n",
       "      <td>112.919314</td>\n",
       "      <td>30.391221</td>\n",
       "      <td>112.919297</td>\n",
       "      <td>30.390319</td>\n",
       "      <td>...</td>\n",
       "      <td>9372</td>\n",
       "      <td>0</td>\n",
       "      <td>0.0</td>\n",
       "      <td>0</td>\n",
       "      <td>0</td>\n",
       "      <td>0</td>\n",
       "      <td>0</td>\n",
       "      <td>0.0</td>\n",
       "      <td>0</td>\n",
       "      <td>0</td>\n",
       "    </tr>\n",
       "    <tr>\n",
       "      <th>2</th>\n",
       "      <td>潜江</td>\n",
       "      <td>49RFP-843-637-100</td>\n",
       "      <td>112.918274</td>\n",
       "      <td>30.391237</td>\n",
       "      <td>112.918292</td>\n",
       "      <td>30.392138</td>\n",
       "      <td>112.919332</td>\n",
       "      <td>30.392123</td>\n",
       "      <td>112.919314</td>\n",
       "      <td>30.391221</td>\n",
       "      <td>...</td>\n",
       "      <td>786</td>\n",
       "      <td>0</td>\n",
       "      <td>0.0</td>\n",
       "      <td>0</td>\n",
       "      <td>0</td>\n",
       "      <td>0</td>\n",
       "      <td>0</td>\n",
       "      <td>0.0</td>\n",
       "      <td>0</td>\n",
       "      <td>0</td>\n",
       "    </tr>\n",
       "    <tr>\n",
       "      <th>3</th>\n",
       "      <td>潜江</td>\n",
       "      <td>49RFP-843-638-100</td>\n",
       "      <td>112.918292</td>\n",
       "      <td>30.392138</td>\n",
       "      <td>112.918309</td>\n",
       "      <td>30.393040</td>\n",
       "      <td>112.919350</td>\n",
       "      <td>30.393025</td>\n",
       "      <td>112.919332</td>\n",
       "      <td>30.392123</td>\n",
       "      <td>...</td>\n",
       "      <td>802</td>\n",
       "      <td>0</td>\n",
       "      <td>0.0</td>\n",
       "      <td>0</td>\n",
       "      <td>0</td>\n",
       "      <td>0</td>\n",
       "      <td>0</td>\n",
       "      <td>0.0</td>\n",
       "      <td>0</td>\n",
       "      <td>0</td>\n",
       "    </tr>\n",
       "    <tr>\n",
       "      <th>4</th>\n",
       "      <td>潜江</td>\n",
       "      <td>49RFP-844-632-100</td>\n",
       "      <td>112.919226</td>\n",
       "      <td>30.386712</td>\n",
       "      <td>112.919244</td>\n",
       "      <td>30.387614</td>\n",
       "      <td>112.920284</td>\n",
       "      <td>30.387598</td>\n",
       "      <td>112.920267</td>\n",
       "      <td>30.386696</td>\n",
       "      <td>...</td>\n",
       "      <td>1521</td>\n",
       "      <td>0</td>\n",
       "      <td>0.0</td>\n",
       "      <td>0</td>\n",
       "      <td>0</td>\n",
       "      <td>0</td>\n",
       "      <td>0</td>\n",
       "      <td>0.0</td>\n",
       "      <td>0</td>\n",
       "      <td>0</td>\n",
       "    </tr>\n",
       "  </tbody>\n",
       "</table>\n",
       "<p>5 rows × 26 columns</p>\n",
       "</div>"
      ],
      "text/plain": [
       "  a.region_name          a.grid_id  a.grid_leftbottom_longitude  \\\n",
       "0            潜江  49RFP-843-635-100                   112.918239   \n",
       "1            潜江  49RFP-843-636-100                   112.918256   \n",
       "2            潜江  49RFP-843-637-100                   112.918274   \n",
       "3            潜江  49RFP-843-638-100                   112.918292   \n",
       "4            潜江  49RFP-844-632-100                   112.919226   \n",
       "\n",
       "   a.grid_leftbottom_latitude  a.grid_lefttop_longitude  \\\n",
       "0                   30.389433                112.918256   \n",
       "1                   30.390335                112.918274   \n",
       "2                   30.391237                112.918292   \n",
       "3                   30.392138                112.918309   \n",
       "4                   30.386712                112.919244   \n",
       "\n",
       "   a.grid_lefttop_latitude  a.grid_righttop_longitude  \\\n",
       "0                30.390335                 112.919297   \n",
       "1                30.391237                 112.919314   \n",
       "2                30.392138                 112.919332   \n",
       "3                30.393040                 112.919350   \n",
       "4                30.387614                 112.920284   \n",
       "\n",
       "   a.grid_righttop_latitude  a.grid_rightbottom_longitude  \\\n",
       "0                 30.390319                    112.919279   \n",
       "1                 30.391221                    112.919297   \n",
       "2                 30.392123                    112.919314   \n",
       "3                 30.393025                    112.919332   \n",
       "4                 30.387598                    112.920267   \n",
       "\n",
       "   a.grid_rightbottom_latitude          ...           a.scrsrp_110  \\\n",
       "0                    30.389417          ...                     55   \n",
       "1                    30.390319          ...                   9372   \n",
       "2                    30.391221          ...                    786   \n",
       "3                    30.392123          ...                    802   \n",
       "4                    30.386696          ...                   1521   \n",
       "\n",
       "   a.inter_maxrsrp_weak  a.un_maxrsrp_sum  a.un_maxrsrp_sample_count  \\\n",
       "0                     0               0.0                          0   \n",
       "1                     0               0.0                          0   \n",
       "2                     0               0.0                          0   \n",
       "3                     0               0.0                          0   \n",
       "4                     0               0.0                          0   \n",
       "\n",
       "   a.un_maxrsrp_weak  a.te_maxrsrp_weak  a.te_maxrsrp_sample_count  \\\n",
       "0                  0                  0                          0   \n",
       "1                  0                  0                          0   \n",
       "2                  0                  0                          0   \n",
       "3                  0                  0                          0   \n",
       "4                  0                  0                          0   \n",
       "\n",
       "   a.te_maxrsrp_sum  a.te_maxrsrp_weak_l2  a.un_maxrsrp_weak_l2  \n",
       "0               0.0                     0                     0  \n",
       "1               0.0                     0                     0  \n",
       "2               0.0                     0                     0  \n",
       "3               0.0                     0                     0  \n",
       "4               0.0                     0                     0  \n",
       "\n",
       "[5 rows x 26 columns]"
      ]
     },
     "execution_count": 29,
     "metadata": {},
     "output_type": "execute_result"
    }
   ],
   "source": [
    "data6.head()"
   ]
  },
  {
   "cell_type": "markdown",
   "metadata": {},
   "source": [
    "# ----结束"
   ]
  },
  {
   "cell_type": "code",
   "execution_count": 7,
   "metadata": {},
   "outputs": [],
   "source": [
    "# data_r_grid_7y16=pd.read_sql_table('2019年7月软采栅格数据1-6带日期',con )"
   ]
  },
  {
   "cell_type": "code",
   "execution_count": 96,
   "metadata": {},
   "outputs": [],
   "source": [
    "#去重求最大值\n",
    "data_r_grid_z=data_a.sort_values(by=\"a.rsrp_sample_count\",ascending= False)  #排序 倒序\n",
    "data_r_grid_res=data_r_grid_z.drop_duplicates(subset='a.grid_id',keep='first',inplace=False) #按name 去重"
   ]
  },
  {
   "cell_type": "code",
   "execution_count": null,
   "metadata": {
    "scrolled": true
   },
   "outputs": [],
   "source": [
    "data_r_grid_res.columns"
   ]
  },
  {
   "cell_type": "code",
   "execution_count": null,
   "metadata": {
    "scrolled": true
   },
   "outputs": [],
   "source": [
    "data_r_grid_res['a.grid_leftbottom_longitude']=pd.to_numeric(data_r_grid_res['a.grid_leftbottom_longitude'])\n",
    "data_r_grid_res['a.grid_righttop_longitude']=pd.to_numeric(data_r_grid_res['a.grid_righttop_longitude'])\n",
    "data_r_grid_res['a.grid_leftbottom_latitude']=pd.to_numeric(data_r_grid_res['a.grid_leftbottom_latitude'])\n",
    "data_r_grid_res['a.grid_righttop_latitude']=pd.to_numeric(data_r_grid_res['a.grid_righttop_latitude'])\n",
    "data_r_grid_res['lon']=(data_r_grid_res['a.grid_leftbottom_longitude']+data_r_grid_res['a.grid_righttop_longitude'])/2\n",
    "data_r_grid_res['lat']=(data_r_grid_res['a.grid_leftbottom_latitude']+data_r_grid_res['a.grid_righttop_latitude'])/2"
   ]
  },
  {
   "cell_type": "code",
   "execution_count": 100,
   "metadata": {},
   "outputs": [],
   "source": [
    "data_r_grid_res.to_csv('g:/mypy/grid8.csv',encoding = 'gbk',index= False)"
   ]
  },
  {
   "cell_type": "code",
   "execution_count": 101,
   "metadata": {},
   "outputs": [],
   "source": [
    "data_r_grid_res.to_sql(name='grid8',con=con ,index= False)"
   ]
  }
 ],
 "metadata": {
  "kernelspec": {
   "display_name": "Python 3",
   "language": "python",
   "name": "python3"
  },
  "language_info": {
   "codemirror_mode": {
    "name": "ipython",
    "version": 3
   },
   "file_extension": ".py",
   "mimetype": "text/x-python",
   "name": "python",
   "nbconvert_exporter": "python",
   "pygments_lexer": "ipython3",
   "version": "3.7.3"
  }
 },
 "nbformat": 4,
 "nbformat_minor": 2
}
