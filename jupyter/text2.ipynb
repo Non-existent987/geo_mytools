{
 "cells": [
  {
   "cell_type": "code",
   "execution_count": 1,
   "metadata": {},
   "outputs": [],
   "source": [
    "%load_ext autoreload\n",
    "%autoreload 2"
   ]
  },
  {
   "cell_type": "code",
   "execution_count": 2,
   "metadata": {},
   "outputs": [],
   "source": [
    "import pandas as pd\n",
    "import geopandas as gpd\n",
    "import geopandas\n",
    "from shapely.geometry import (LinearRing, LineString, MultiLineString,\n",
    "                              MultiPoint, MultiPolygon, Point, Polygon)\n",
    "import io\n",
    "# from io import StringIO\n",
    "# from sqlalchemy import create_engine\n",
    "from geographiclib.geodesic import Geodesic\n",
    "import sqlalchemy\n",
    "import numpy as np\n",
    "# import app.main as m\n",
    "from app import *\n",
    "from shapely.geometry import (LinearRing, LineString, MultiLineString,\n",
    "                              MultiPoint, MultiPolygon, Point, Polygon)\n",
    "from __dis import *"
   ]
  },
  {
   "cell_type": "markdown",
   "metadata": {},
   "source": [
    "# 临时"
   ]
  },
  {
   "cell_type": "code",
   "execution_count": 11,
   "metadata": {},
   "outputs": [],
   "source": [
    "data = pd.read_clipboard()"
   ]
  },
  {
   "cell_type": "code",
   "execution_count": 12,
   "metadata": {},
   "outputs": [],
   "source": [
    "data_use = data.groupby(by='地市').head(15)"
   ]
  },
  {
   "cell_type": "code",
   "execution_count": 13,
   "metadata": {},
   "outputs": [],
   "source": [
    "data_use.to_clipboard()"
   ]
  },
  {
   "cell_type": "markdown",
   "metadata": {},
   "source": [
    "# 周边mr和流量"
   ]
  },
  {
   "cell_type": "code",
   "execution_count": 51,
   "metadata": {},
   "outputs": [],
   "source": [
    "data = pd.read_csv('d:/linshi2.csv',encoding = 'gbk')"
   ]
  },
  {
   "cell_type": "code",
   "execution_count": 52,
   "metadata": {},
   "outputs": [],
   "source": [
    "coverage_scene = gpd.read_file('g:/1-规划/图层/全省区域规划图层20180510/全省区域规划图层20180510/全省区域规划图层20180510.TAB',encoding = 'gbk')"
   ]
  },
  {
   "cell_type": "code",
   "execution_count": 53,
   "metadata": {},
   "outputs": [
    {
     "data": {
      "text/plain": [
       "Index(['站点名称', 'TDL规划站号（逻辑）', '规划经度', '规划纬度', '类型', '制式'], dtype='object')"
      ]
     },
     "execution_count": 53,
     "metadata": {},
     "output_type": "execute_result"
    }
   ],
   "source": [
    "data.columns"
   ]
  },
  {
   "cell_type": "code",
   "execution_count": 54,
   "metadata": {},
   "outputs": [],
   "source": [
    "data_p = tools_geo.add_points(data,lon='规划经度',lat='规划纬度')"
   ]
  },
  {
   "cell_type": "code",
   "execution_count": 55,
   "metadata": {},
   "outputs": [],
   "source": [
    "data_p_cj = gpd.sjoin(coverage_scene,data_p,how='right')"
   ]
  },
  {
   "cell_type": "code",
   "execution_count": 56,
   "metadata": {},
   "outputs": [],
   "source": [
    "data_p_cj = data_p_cj[[ '站点名称', 'TDL规划站号（逻辑）', '规划经度', '规划纬度', '类型', '制式','区域类型']]"
   ]
  },
  {
   "cell_type": "code",
   "execution_count": 57,
   "metadata": {},
   "outputs": [],
   "source": [
    "res1 = data_p_cj.copy()\n",
    "res1.loc[res1['区域类型'].isna(),'区域类型']='农村'\n",
    "res1['区域类型'] = res1['区域类型'].replace('3A景区', '乡镇')\n",
    "res1['区域类型'] = res1['区域类型'].replace('4A景区', '乡镇')\n",
    "res1['区域类型'] = res1['区域类型'].replace('5A景区', '乡镇')\n",
    "res1['区域类型'] = res1['区域类型'].replace('景区', '乡镇')\n",
    "res1['区域类型'] = res1['区域类型'].replace('热点', '乡镇')"
   ]
  },
  {
   "cell_type": "code",
   "execution_count": 58,
   "metadata": {},
   "outputs": [],
   "source": [
    "res_use = tools_geo.changjing_distance(res1, '区域类型', '制式', beishu=3)"
   ]
  },
  {
   "cell_type": "code",
   "execution_count": 59,
   "metadata": {},
   "outputs": [
    {
     "name": "stderr",
     "output_type": "stream",
     "text": [
      "C:\\ProgramData\\Anaconda3\\lib\\site-packages\\pyproj\\crs.py:77: FutureWarning: '+init=<authority>:<code>' syntax is deprecated. '<authority>:<code>' is the preferred initialization method.\n",
      "  return _prepare_from_string(\" \".join(pjargs))\n",
      "C:\\ProgramData\\Anaconda3\\lib\\site-packages\\pyproj\\crs.py:77: FutureWarning: '+init=<authority>:<code>' syntax is deprecated. '<authority>:<code>' is the preferred initialization method.\n",
      "  return _prepare_from_string(\" \".join(pjargs))\n"
     ]
    }
   ],
   "source": [
    "res_use_buff = tools_geo.add_buffer_df(res_use, lon='规划经度', lat='规划纬度', buff_col='distance')"
   ]
  },
  {
   "cell_type": "code",
   "execution_count": 60,
   "metadata": {},
   "outputs": [
    {
     "name": "stderr",
     "output_type": "stream",
     "text": [
      "C:\\ProgramData\\Anaconda3\\lib\\site-packages\\IPython\\core\\interactiveshell.py:2714: DtypeWarning: Columns (15,17,22,24) have mixed types. Specify dtype option on import or set low_memory=False.\n",
      "  interactivity=interactivity, compiler=compiler, result=result)\n"
     ]
    }
   ],
   "source": [
    "gongcan = pd.read_csv(open('g:/1-规划/工参/工参数据/ltejizhan20191218.csv',encoding = 'gbk'))"
   ]
  },
  {
   "cell_type": "code",
   "execution_count": 61,
   "metadata": {},
   "outputs": [],
   "source": [
    "gongcan_use = gongcan.loc[(gongcan['RRU经度']>60) & (gongcan['RRU纬度']<50)]"
   ]
  },
  {
   "cell_type": "code",
   "execution_count": 62,
   "metadata": {},
   "outputs": [],
   "source": [
    "gongcan_use_p = tools_geo.add_points(gongcan_use,lon='RRU经度',lat='RRU纬度')"
   ]
  },
  {
   "cell_type": "code",
   "execution_count": 63,
   "metadata": {},
   "outputs": [],
   "source": [
    "res = gpd.sjoin(res_use_buff,gongcan_use_p)"
   ]
  },
  {
   "cell_type": "code",
   "execution_count": 64,
   "metadata": {},
   "outputs": [],
   "source": [
    "res1= res[['站点名称', 'TDL规划站号（逻辑）', '规划经度', '规划纬度', '类型', '制式', '区域类型', 'distance','小区CGI(*)']]"
   ]
  },
  {
   "cell_type": "code",
   "execution_count": 65,
   "metadata": {},
   "outputs": [],
   "source": [
    "res1.to_csv('linshi442.csv',encoding='gbk')"
   ]
  },
  {
   "cell_type": "code",
   "execution_count": null,
   "metadata": {},
   "outputs": [],
   "source": []
  },
  {
   "cell_type": "markdown",
   "metadata": {},
   "source": [
    "# 移动站点统计"
   ]
  },
  {
   "cell_type": "code",
   "execution_count": 17,
   "metadata": {},
   "outputs": [],
   "source": [
    "data = pd.read_csv(open('g:/1-规划/评估/竞对站点评估/2019年11月/1-基础数据/移动/输出数据/汇总/移动汇总.csv',encoding = 'gbk'))"
   ]
  },
  {
   "cell_type": "code",
   "execution_count": null,
   "metadata": {
    "scrolled": true
   },
   "outputs": [],
   "source": [
    "data_3 = tools_geo.nearest_site(data, id_name_column='小区中文名', lon='CellLongitude', lat='CellLatitude', num_min_results=3)"
   ]
  },
  {
   "cell_type": "code",
   "execution_count": 15,
   "metadata": {},
   "outputs": [],
   "source": [
    "coverage_scene = gpd.read_file('g:/1-规划/图层/全省区域规划图层20180510/全省区域规划图层20180510/全省区域规划图层20180510.TAB',encoding = 'gbk')"
   ]
  },
  {
   "cell_type": "code",
   "execution_count": 18,
   "metadata": {},
   "outputs": [],
   "source": [
    "data_3_p = tools_geo.add_points(data_3,lon='CellLongitude', lat='CellLatitude')"
   ]
  },
  {
   "cell_type": "code",
   "execution_count": 51,
   "metadata": {},
   "outputs": [],
   "source": [
    "res = gpd.sjoin(coverage_scene,data_3_p,how='right')"
   ]
  },
  {
   "cell_type": "code",
   "execution_count": null,
   "metadata": {
    "scrolled": true
   },
   "outputs": [],
   "source": [
    "res.head(10)"
   ]
  },
  {
   "cell_type": "code",
   "execution_count": 52,
   "metadata": {},
   "outputs": [],
   "source": [
    "res1 = res.copy()"
   ]
  },
  {
   "cell_type": "code",
   "execution_count": 53,
   "metadata": {},
   "outputs": [],
   "source": [
    "res1.loc[res1['频段_900M']=='900M','频段_900M']='FDD900'\n",
    "res1.loc[res1['区域类型'].isna(),'区域类型']='农村'\n",
    "\n",
    "res1['区域类型'] = res1['区域类型'].replace('3A景区', '乡镇')\n",
    "res1['区域类型'] = res1['区域类型'].replace('4A景区', '乡镇')\n",
    "res1['区域类型'] = res1['区域类型'].replace('5A景区', '乡镇')\n",
    "res1['区域类型'] = res1['区域类型'].replace('景区', '乡镇')\n",
    "res1['区域类型'] = res1['区域类型'].replace('热点', '乡镇')"
   ]
  },
  {
   "cell_type": "code",
   "execution_count": 37,
   "metadata": {},
   "outputs": [],
   "source": [
    "res1['区域类型'] = res1['区域类型'].map({'3A景区': '乡镇', '4A景区': '乡镇','5A景区':'乡镇'})"
   ]
  },
  {
   "cell_type": "code",
   "execution_count": 57,
   "metadata": {},
   "outputs": [],
   "source": [
    "res_use = tools_geo.changjing_distance(res1, '区域类型', '频段_900M', beishu=1)"
   ]
  },
  {
   "cell_type": "code",
   "execution_count": 59,
   "metadata": {},
   "outputs": [],
   "source": [
    "res_use.to_csv('res_linshi.csv',encoding='gbk')"
   ]
  },
  {
   "cell_type": "markdown",
   "metadata": {},
   "source": [
    "# 周边针对的小区"
   ]
  },
  {
   "cell_type": "code",
   "execution_count": 65,
   "metadata": {},
   "outputs": [],
   "source": [
    "data.groupby(by = 'eutrancell_cgi').sum().to_clipboard()"
   ]
  },
  {
   "cell_type": "code",
   "execution_count": 178,
   "metadata": {},
   "outputs": [
    {
     "name": "stderr",
     "output_type": "stream",
     "text": [
      "C:\\ProgramData\\Anaconda3\\lib\\site-packages\\IPython\\core\\interactiveshell.py:2714: DtypeWarning: Columns (15,17,22,24) have mixed types. Specify dtype option on import or set low_memory=False.\n",
      "  interactivity=interactivity, compiler=compiler, result=result)\n"
     ]
    }
   ],
   "source": [
    "data = pd.read_csv(open('g:/1-规划/工参/工参数据/ltejizhan20191209.csv',encoding = 'gbk'))"
   ]
  },
  {
   "cell_type": "code",
   "execution_count": 179,
   "metadata": {},
   "outputs": [],
   "source": [
    "tianmen = data.loc[(data['RRU经度']>50) & (data['RRU纬度']<50) & (data['所属地区']=='武汉') & (data['归属区县']=='江汉区') & (data['方位角']>-1)]\n",
    "tianmen=tianmen[['小区CGI(*)', 'RRU经度', 'RRU纬度','方位角']]\n",
    "tianmen.columns = ['id','lon','lat','fw']"
   ]
  },
  {
   "cell_type": "code",
   "execution_count": 180,
   "metadata": {},
   "outputs": [],
   "source": [
    "tianmen_p = app.tools.add_points(tianmen)\n",
    "tianmen_p_d = tianmen_p.reset_index(drop=True).reset_index()\n",
    "tianmen_p_dic = tianmen_p_d[['id','lon','lat','fw']]\n",
    "dic_lonlat = tianmen_p_dic.set_index('id').T.to_dict('list')\n",
    "tianmen_index = tianmen_p_d.sindex"
   ]
  },
  {
   "cell_type": "code",
   "execution_count": 181,
   "metadata": {},
   "outputs": [],
   "source": [
    "cgi = '460-00-442620-7'\n",
    "juli = 500\n",
    "jiaodu_jiange = 30\n",
    "duida = 30"
   ]
  },
  {
   "cell_type": "code",
   "execution_count": 182,
   "metadata": {
    "scrolled": true
   },
   "outputs": [
    {
     "name": "stderr",
     "output_type": "stream",
     "text": [
      "C:\\ProgramData\\Anaconda3\\lib\\site-packages\\pyproj\\crs.py:77: FutureWarning: '+init=<authority>:<code>' syntax is deprecated. '<authority>:<code>' is the preferred initialization method.\n",
      "  return _prepare_from_string(\" \".join(pjargs))\n",
      "C:\\ProgramData\\Anaconda3\\lib\\site-packages\\pyproj\\crs.py:77: FutureWarning: '+init=<authority>:<code>' syntax is deprecated. '<authority>:<code>' is the preferred initialization method.\n",
      "  return _prepare_from_string(\" \".join(pjargs))\n"
     ]
    }
   ],
   "source": [
    "tianmen_buff = tianmen_p.copy()\n",
    "tianmen_buff = tianmen_buff.to_crs({'init': 'epsg:32650'})\n",
    "tianmen_buff['geometry'] = tianmen_buff.buffer(juli)\n",
    "tianmen_buff = tianmen_buff.to_crs({'init': 'epsg:4326'})"
   ]
  },
  {
   "cell_type": "code",
   "execution_count": 183,
   "metadata": {},
   "outputs": [],
   "source": [
    "data_t = tianmen_buff.bounds\n",
    "tianmen_buff_use = pd.concat([tianmen_buff,data_t],axis=1)\n",
    "tianmen_buff_use_reindex = tianmen_buff_use.reset_index(drop=True)\n",
    "tianmen_buff_use_reindex = tianmen_buff_use_reindex[['id','minx','miny','maxx','maxy']]\n",
    "dic_use = tianmen_buff_use_reindex.set_index('id').T.to_dict('list')"
   ]
  },
  {
   "cell_type": "code",
   "execution_count": 184,
   "metadata": {},
   "outputs": [],
   "source": [
    "data_true=list(tianmen_index.intersection(dic_use[cgi]))"
   ]
  },
  {
   "cell_type": "code",
   "execution_count": 185,
   "metadata": {},
   "outputs": [],
   "source": [
    "lon,lat,fw = dic_lonlat[cgi]"
   ]
  },
  {
   "cell_type": "code",
   "execution_count": 186,
   "metadata": {},
   "outputs": [],
   "source": [
    "res_data=tianmen.iloc[data_true]"
   ]
  },
  {
   "cell_type": "code",
   "execution_count": 187,
   "metadata": {},
   "outputs": [
    {
     "name": "stderr",
     "output_type": "stream",
     "text": [
      "C:\\ProgramData\\Anaconda3\\lib\\site-packages\\ipykernel_launcher.py:1: SettingWithCopyWarning: \n",
      "A value is trying to be set on a copy of a slice from a DataFrame.\n",
      "Try using .loc[row_indexer,col_indexer] = value instead\n",
      "\n",
      "See the caveats in the documentation: http://pandas.pydata.org/pandas-docs/stable/user_guide/indexing.html#returning-a-view-versus-a-copy\n",
      "  \"\"\"Entry point for launching an IPython kernel.\n",
      "C:\\ProgramData\\Anaconda3\\lib\\site-packages\\ipykernel_launcher.py:2: SettingWithCopyWarning: \n",
      "A value is trying to be set on a copy of a slice from a DataFrame.\n",
      "Try using .loc[row_indexer,col_indexer] = value instead\n",
      "\n",
      "See the caveats in the documentation: http://pandas.pydata.org/pandas-docs/stable/user_guide/indexing.html#returning-a-view-versus-a-copy\n",
      "  \n",
      "C:\\ProgramData\\Anaconda3\\lib\\site-packages\\ipykernel_launcher.py:3: SettingWithCopyWarning: \n",
      "A value is trying to be set on a copy of a slice from a DataFrame.\n",
      "Try using .loc[row_indexer,col_indexer] = value instead\n",
      "\n",
      "See the caveats in the documentation: http://pandas.pydata.org/pandas-docs/stable/user_guide/indexing.html#returning-a-view-versus-a-copy\n",
      "  This is separate from the ipykernel package so we can avoid doing imports until\n"
     ]
    }
   ],
   "source": [
    "res_data['原经度']=lon\n",
    "res_data['原纬度']=lat\n",
    "res_data['原方位角']=fw"
   ]
  },
  {
   "cell_type": "code",
   "execution_count": 188,
   "metadata": {},
   "outputs": [
    {
     "name": "stderr",
     "output_type": "stream",
     "text": [
      "C:\\ProgramData\\Anaconda3\\lib\\site-packages\\app\\mydef.py:267: SettingWithCopyWarning: \n",
      "A value is trying to be set on a copy of a slice from a DataFrame.\n",
      "Try using .loc[row_indexer,col_indexer] = value instead\n",
      "\n",
      "See the caveats in the documentation: http://pandas.pydata.org/pandas-docs/stable/user_guide/indexing.html#returning-a-view-versus-a-copy\n",
      "  df['distance'] = 2*np.arcsin(np.sqrt(a))*6371*1000\n"
     ]
    }
   ],
   "source": [
    "res_data = app.tools.distance_df(res_data, '原经度', '原纬度', 'lon', 'lat')"
   ]
  },
  {
   "cell_type": "code",
   "execution_count": 189,
   "metadata": {
    "scrolled": true
   },
   "outputs": [
    {
     "name": "stderr",
     "output_type": "stream",
     "text": [
      "C:\\ProgramData\\Anaconda3\\lib\\site-packages\\ipykernel_launcher.py:1: SettingWithCopyWarning: \n",
      "A value is trying to be set on a copy of a slice from a DataFrame.\n",
      "Try using .loc[row_indexer,col_indexer] = value instead\n",
      "\n",
      "See the caveats in the documentation: http://pandas.pydata.org/pandas-docs/stable/user_guide/indexing.html#returning-a-view-versus-a-copy\n",
      "  \"\"\"Entry point for launching an IPython kernel.\n",
      "C:\\ProgramData\\Anaconda3\\lib\\site-packages\\ipykernel_launcher.py:2: SettingWithCopyWarning: \n",
      "A value is trying to be set on a copy of a slice from a DataFrame.\n",
      "Try using .loc[row_indexer,col_indexer] = value instead\n",
      "\n",
      "See the caveats in the documentation: http://pandas.pydata.org/pandas-docs/stable/user_guide/indexing.html#returning-a-view-versus-a-copy\n",
      "  \n",
      "C:\\ProgramData\\Anaconda3\\lib\\site-packages\\ipykernel_launcher.py:3: SettingWithCopyWarning: \n",
      "A value is trying to be set on a copy of a slice from a DataFrame.\n",
      "Try using .loc[row_indexer,col_indexer] = value instead\n",
      "\n",
      "See the caveats in the documentation: http://pandas.pydata.org/pandas-docs/stable/user_guide/indexing.html#returning-a-view-versus-a-copy\n",
      "  This is separate from the ipykernel package so we can avoid doing imports until\n",
      "C:\\ProgramData\\Anaconda3\\lib\\site-packages\\ipykernel_launcher.py:4: SettingWithCopyWarning: \n",
      "A value is trying to be set on a copy of a slice from a DataFrame.\n",
      "Try using .loc[row_indexer,col_indexer] = value instead\n",
      "\n",
      "See the caveats in the documentation: http://pandas.pydata.org/pandas-docs/stable/user_guide/indexing.html#returning-a-view-versus-a-copy\n",
      "  after removing the cwd from sys.path.\n"
     ]
    }
   ],
   "source": [
    "res_data['原经度'] = pd.to_numeric(res_data['原经度'] )\n",
    "res_data['原纬度'] = pd.to_numeric(res_data['原纬度'] )\n",
    "res_data['lon'] = pd.to_numeric(res_data['lon'] )\n",
    "res_data['lat'] = pd.to_numeric(res_data['lat'] )"
   ]
  },
  {
   "cell_type": "code",
   "execution_count": 190,
   "metadata": {},
   "outputs": [
    {
     "name": "stderr",
     "output_type": "stream",
     "text": [
      "C:\\ProgramData\\Anaconda3\\lib\\site-packages\\ipykernel_launcher.py:1: SettingWithCopyWarning: \n",
      "A value is trying to be set on a copy of a slice from a DataFrame.\n",
      "Try using .loc[row_indexer,col_indexer] = value instead\n",
      "\n",
      "See the caveats in the documentation: http://pandas.pydata.org/pandas-docs/stable/user_guide/indexing.html#returning-a-view-versus-a-copy\n",
      "  \"\"\"Entry point for launching an IPython kernel.\n"
     ]
    }
   ],
   "source": [
    "res_data['相对方位角'] =[get_fw(lon_y,lat_y,lon,lat) for lon_y,lat_y,lon,lat in zip(res_data['原经度'], res_data['原纬度'], res_data['lon'], res_data['lat'])]"
   ]
  },
  {
   "cell_type": "code",
   "execution_count": 191,
   "metadata": {},
   "outputs": [],
   "source": [
    "def jiaodu(x):\n",
    "    x_res = x+180\n",
    "    if x_res >360:\n",
    "        x_res=abs(360-x_res)\n",
    "    return x_res"
   ]
  },
  {
   "cell_type": "code",
   "execution_count": 192,
   "metadata": {
    "scrolled": true
   },
   "outputs": [
    {
     "name": "stderr",
     "output_type": "stream",
     "text": [
      "C:\\ProgramData\\Anaconda3\\lib\\site-packages\\ipykernel_launcher.py:1: SettingWithCopyWarning: \n",
      "A value is trying to be set on a copy of a slice from a DataFrame.\n",
      "Try using .loc[row_indexer,col_indexer] = value instead\n",
      "\n",
      "See the caveats in the documentation: http://pandas.pydata.org/pandas-docs/stable/user_guide/indexing.html#returning-a-view-versus-a-copy\n",
      "  \"\"\"Entry point for launching an IPython kernel.\n"
     ]
    }
   ],
   "source": [
    "res_data['相对方位角+180'] = res_data['相对方位角'].apply(jiaodu)"
   ]
  },
  {
   "cell_type": "code",
   "execution_count": 193,
   "metadata": {},
   "outputs": [
    {
     "name": "stderr",
     "output_type": "stream",
     "text": [
      "C:\\ProgramData\\Anaconda3\\lib\\site-packages\\ipykernel_launcher.py:1: SettingWithCopyWarning: \n",
      "A value is trying to be set on a copy of a slice from a DataFrame.\n",
      "Try using .loc[row_indexer,col_indexer] = value instead\n",
      "\n",
      "See the caveats in the documentation: http://pandas.pydata.org/pandas-docs/stable/user_guide/indexing.html#returning-a-view-versus-a-copy\n",
      "  \"\"\"Entry point for launching an IPython kernel.\n"
     ]
    }
   ],
   "source": [
    "res_data['duida'] = duida"
   ]
  },
  {
   "cell_type": "code",
   "execution_count": null,
   "metadata": {
    "scrolled": false
   },
   "outputs": [],
   "source": [
    "res_data['方位角夹角_原'] = [jiaojiao(fw_y,fw_2,duida_x) for fw_y,fw_2,duida_x in zip(res_data['原方位角'], res_data['相对方位角'], res_data['duida'])]"
   ]
  },
  {
   "cell_type": "code",
   "execution_count": null,
   "metadata": {
    "scrolled": false
   },
   "outputs": [],
   "source": [
    "def jiaojiao(f1,f2,f3):        \n",
    "    if (abs(f1-f2)<(f3/2))\n",
    "    (360-abs(f1-f2))<(f3/2):\n",
    "        res = 1\n",
    "    else:\n",
    "        res = 0\n",
    "    return res"
   ]
  },
  {
   "cell_type": "code",
   "execution_count": null,
   "metadata": {},
   "outputs": [],
   "source": [
    "def fangwei_jiajiao():\n",
    "    if abs(res_data['相对方位角']-res_data['原方位角'])>abs(res_data['相对方位角']-res_data['原方位角']):\n",
    "        res = abs(res_data['相对方位角']-res_data['原方位角'])\n",
    "    else:\n",
    "        res = abs(res_data['相对方位角']-res_data['原方位角'])\n",
    "    return res"
   ]
  },
  {
   "cell_type": "code",
   "execution_count": 38,
   "metadata": {},
   "outputs": [],
   "source": [
    "data = pd.DataFrame({'shuju':[1,1,1,12,5,5,12,12,12,12,9]} )"
   ]
  },
  {
   "cell_type": "code",
   "execution_count": 48,
   "metadata": {
    "scrolled": true
   },
   "outputs": [
    {
     "data": {
      "text/plain": [
       "12"
      ]
     },
     "execution_count": 48,
     "metadata": {},
     "output_type": "execute_result"
    }
   ],
   "source": [
    "data['shuju'][6]"
   ]
  },
  {
   "cell_type": "code",
   "execution_count": null,
   "metadata": {
    "scrolled": true
   },
   "outputs": [],
   "source": [
    "data = data.copy()\n",
    "data_columns='shuju'\n",
    "biaoji_column = '标记'\n",
    "go = 2\n",
    "num = 0.15\n",
    "z = data[data_columns][go]\n",
    "for x,y in  data.iloc[go:].iterrows():\n",
    "    bizhi = abs((y[data_columns]-z)/z)\n",
    "    if bizhi > num:\n",
    "        data.loc[x,biaoji_column]='标记'\n",
    "        z = data[data_columns][x+1]\n"
   ]
  },
  {
   "cell_type": "markdown",
   "metadata": {},
   "source": [
    "# 结束"
   ]
  },
  {
   "cell_type": "markdown",
   "metadata": {},
   "source": [
    "# 移动平均站间距"
   ]
  },
  {
   "cell_type": "code",
   "execution_count": null,
   "metadata": {},
   "outputs": [],
   "source": [
    "data = pd.read_csv(open('g:/1-规划/评估/竞对站点评估/2019年11月/1-基础数据/移动/汇总.csv',encoding = 'gbk'))"
   ]
  },
  {
   "cell_type": "code",
   "execution_count": null,
   "metadata": {},
   "outputs": [],
   "source": [
    "data.columns"
   ]
  },
  {
   "cell_type": "code",
   "execution_count": null,
   "metadata": {},
   "outputs": [],
   "source": [
    "res =mt.nearest_site(data, id_name_column='小区中文名', lon='CellLongitude', lat='CellLatitude')"
   ]
  },
  {
   "cell_type": "code",
   "execution_count": null,
   "metadata": {},
   "outputs": [],
   "source": [
    "res_p = mt.add_points(res,lon='CellLongitude',lat='CellLatitude')"
   ]
  },
  {
   "cell_type": "code",
   "execution_count": null,
   "metadata": {},
   "outputs": [],
   "source": [
    "res_res = gpd.sjoin(coverage_scene,res_p)"
   ]
  },
  {
   "cell_type": "code",
   "execution_count": null,
   "metadata": {},
   "outputs": [],
   "source": [
    "res_res.columns"
   ]
  },
  {
   "cell_type": "code",
   "execution_count": null,
   "metadata": {},
   "outputs": [],
   "source": [
    "res_res1 = res_res[[ '区域类型', 'index_right',\n",
    "       'level_0', 'index', '小区中文名', '网络制式(TDD/FDD)', 'CellLongitude',\n",
    "       'CellLatitude', '覆盖类型', '厂家名称', 'Indoor', 'FDD900', 'FDD1800', 'F', 'D',\n",
    "       'E', 'A', 'minimum_index_1', 'minimum_index_2', 'minimum_index_3',\n",
    "       'distance_1', 'distance_2', 'distance_3', 'sum']]"
   ]
  },
  {
   "cell_type": "code",
   "execution_count": null,
   "metadata": {},
   "outputs": [],
   "source": [
    "res_res1.to_clipboard()"
   ]
  },
  {
   "cell_type": "code",
   "execution_count": null,
   "metadata": {},
   "outputs": [],
   "source": [
    "dianxin_h.info()"
   ]
  },
  {
   "cell_type": "code",
   "execution_count": null,
   "metadata": {},
   "outputs": [],
   "source": [
    "gongcan = pd.read_csv(open('g:/1-规划/工参/工参数据/ltejizhan20191205.csv',encoding = 'gbk'))"
   ]
  },
  {
   "cell_type": "code",
   "execution_count": null,
   "metadata": {},
   "outputs": [],
   "source": [
    "data = pd.read_csv('d:/linshi/yechang1.csv',encoding = 'gbk')"
   ]
  },
  {
   "cell_type": "code",
   "execution_count": null,
   "metadata": {},
   "outputs": [],
   "source": [
    "gongcan['小区中文名'] = gongcan['小区中文名'].fillna('无')"
   ]
  },
  {
   "cell_type": "code",
   "execution_count": null,
   "metadata": {},
   "outputs": [],
   "source": [
    "gongcan_hz = gongcan.loc[~gongcan['小区中文名'].str.contains('W-')]"
   ]
  },
  {
   "cell_type": "code",
   "execution_count": null,
   "metadata": {},
   "outputs": [],
   "source": [
    "gongcan_use = gongcan_hz.loc[(gongcan_hz['RRU经度']>60) & (gongcan_hz['RRU纬度']<50)]"
   ]
  },
  {
   "cell_type": "code",
   "execution_count": null,
   "metadata": {},
   "outputs": [],
   "source": [
    "gongcan_use.shape"
   ]
  },
  {
   "cell_type": "code",
   "execution_count": null,
   "metadata": {},
   "outputs": [],
   "source": [
    "gongcan_p = nt.add_points(gongcan_use,coords=['RRU经度','RRU纬度','',''])"
   ]
  },
  {
   "cell_type": "code",
   "execution_count": null,
   "metadata": {},
   "outputs": [],
   "source": [
    "coverage_scene = gpd.read_file('g:/1-规划/图层/全省区域规划图层20180510/全省区域规划图层20180510/全省区域规划图层20180510.TAB',encoding = 'gbk')"
   ]
  },
  {
   "cell_type": "code",
   "execution_count": null,
   "metadata": {},
   "outputs": [],
   "source": [
    "data.columns"
   ]
  },
  {
   "cell_type": "code",
   "execution_count": null,
   "metadata": {},
   "outputs": [],
   "source": [
    "point_data = nt.add_points(data,coords = ['规划经度','规划纬度','',''])"
   ]
  },
  {
   "cell_type": "code",
   "execution_count": null,
   "metadata": {},
   "outputs": [],
   "source": [
    "sjoin_data_scene = gpd.sjoin(coverage_scene,point_data)"
   ]
  },
  {
   "cell_type": "code",
   "execution_count": null,
   "metadata": {},
   "outputs": [],
   "source": [
    "data_merge = data.merge(sjoin_data_scene,how='left',on='规划物理站名',suffixes=('','_y'))"
   ]
  },
  {
   "cell_type": "code",
   "execution_count": null,
   "metadata": {},
   "outputs": [],
   "source": [
    "data.columns"
   ]
  },
  {
   "cell_type": "code",
   "execution_count": null,
   "metadata": {},
   "outputs": [],
   "source": [
    "data_merge = data_merge.drop([ '地市名称', '县市名称',\n",
    "       '区域名称', '覆盖面积', 'geometry', 'index_right', '地市_y', '规划站号_y',\n",
    "       '规划经度_y', '规划纬度_y', '基站类型_y', '可研工期_y'],axis=1)"
   ]
  },
  {
   "cell_type": "code",
   "execution_count": null,
   "metadata": {},
   "outputs": [],
   "source": [
    "sjoin_data_scene = data_merge.copy()"
   ]
  },
  {
   "cell_type": "code",
   "execution_count": null,
   "metadata": {},
   "outputs": [],
   "source": [
    "sjoin_data_scene['规划站号'].fillna('无',inplace = True)"
   ]
  },
  {
   "cell_type": "code",
   "execution_count": null,
   "metadata": {},
   "outputs": [],
   "source": [
    "sjoin_data_scene.loc[sjoin_data_scene['规划站号'].str.contains('_G_'),'制式'] = 'FDD900'"
   ]
  },
  {
   "cell_type": "code",
   "execution_count": null,
   "metadata": {},
   "outputs": [],
   "source": [
    "sjoin_data_scene_use = sjoin_data_scene[['地市', '规划站号', '规划物理站名', '规划经度', '规划纬度', '基站类型', '可研工期','制式','区域类型']]"
   ]
  },
  {
   "cell_type": "code",
   "execution_count": null,
   "metadata": {},
   "outputs": [],
   "source": [
    "sjoin_data_scene_use.loc[sjoin_data_scene_use['区域类型'].isin(['4A景区','5A景区','热点']),'区域类型'] ='农村'"
   ]
  },
  {
   "cell_type": "code",
   "execution_count": null,
   "metadata": {
    "scrolled": true
   },
   "outputs": [],
   "source": [
    "sjoin_data_scene_use.groupby(by = '区域类型').count()"
   ]
  },
  {
   "cell_type": "code",
   "execution_count": null,
   "metadata": {},
   "outputs": [],
   "source": [
    "sjoin_data_scene_use.loc[sjoin_data_scene_use['区域类型'].isna(),'区域类型']='农村'"
   ]
  },
  {
   "cell_type": "code",
   "execution_count": null,
   "metadata": {},
   "outputs": [],
   "source": [
    "sjoin_data_scene_use = mt.changjing_distance(sjoin_data_scene_use, '区域类型', '制式', beishu=4)"
   ]
  },
  {
   "cell_type": "code",
   "execution_count": null,
   "metadata": {},
   "outputs": [],
   "source": [
    "point_sjoin_data_scene_use = nt.add_buffer_df(sjoin_data_scene_use, lon='规划经度', lat='规划纬度', buff_col='distance')"
   ]
  },
  {
   "cell_type": "code",
   "execution_count": null,
   "metadata": {},
   "outputs": [],
   "source": [
    "res_data = gpd.sjoin(point_sjoin_data_scene_use,gongcan_p)"
   ]
  },
  {
   "cell_type": "code",
   "execution_count": null,
   "metadata": {},
   "outputs": [],
   "source": [
    "res_data = res_data[['规划物理站名',  '小区CGI(*)']]"
   ]
  },
  {
   "cell_type": "code",
   "execution_count": null,
   "metadata": {},
   "outputs": [],
   "source": [
    "res_data.to_clipboard()"
   ]
  },
  {
   "cell_type": "markdown",
   "metadata": {},
   "source": [
    "# 竞对站点数量统计"
   ]
  },
  {
   "cell_type": "code",
   "execution_count": null,
   "metadata": {},
   "outputs": [],
   "source": [
    "dianxin = pd.read_excel('g:/1-规划/评估/竞对站点评估/2019年11月/2-处理过程/电信整理汇总.xlsx',encoding = 'gbk',sheet_name='Sheet1')\n",
    "liantong = pd.read_excel('g:/1-规划/评估/竞对站点评估/2019年11月/2-处理过程/联通汇总.xlsx',encoding = 'gbk',sheet_name='Sheet1')\n",
    "\n",
    "dianxin_h = dianxin.loc[dianxin['室内外']=='室外']\n",
    "liantong_h = liantong.loc[liantong['室内外']=='室外']\n",
    "\n",
    "hubei = gpd.read_file('g:/1-规划/图层/湖北省地市-边界-边界/全省地市边界.TAB',encoding = 'gbk')\n",
    "hubei = hubei.to_crs({'init':'epsg:4326'})\n",
    "\n",
    "dianxin_h = dianxin_h.astype(str)\n",
    "\n",
    "dianxin_h.info()\n",
    "\n",
    "dianxin_h['经度'] = dianxin_h['经度'].str.strip()\n",
    "dianxin_h['纬度'] = dianxin_h['纬度'].str.strip()\n",
    "dianxin_h['纬度'] = dianxin_h['纬度'].str.replace('?','')\n",
    "dianxin_h['经度'] = pd.to_numeric(dianxin_h['经度'])\n",
    "dianxin_h['纬度'] = pd.to_numeric(dianxin_h['纬度'])\n",
    "\n",
    "dianxin['经度'] = dianxin['经度'].str.strip()\n",
    "dianxin['纬度'] = dianxin['纬度'].str.strip()\n",
    "# liantong['经度'] = liantong['经度'].str.strip()\n",
    "# liantong['纬度'] = liantong['纬度'].str.strip()\n",
    "\n",
    "dianxin_use = dianxin_h.loc[(dianxin_h['经度']>60) & (dianxin_h['纬度']<60)]\n",
    "liantong_use = liantong_h.loc[(liantong_h['经度']>60 & (liantong_h['纬度']<60))]\n",
    "\n",
    "dianxin_p = mt.add_points(dianxin_use ,lon='经度',lat='纬度')\n",
    "liantong_p = mt.add_points(liantong_use , lon='经度',lat='纬度')\n",
    "\n",
    "dianxin_res = gpd.sjoin(hubei,dianxin_p)\n",
    "liantong_res = gpd.sjoin(hubei,liantong_p)\n",
    "\n",
    "dianxin_res.drop(['geometry','index_right'],axis=1,inplace = True)\n",
    "liantong_res.drop(['geometry','index_right'],axis=1,inplace = True)\n",
    "\n",
    "dianxin_res['kkk'] = dianxin_res['kkk'].str.replace('市','')\n",
    "liantong_res['kkk'] = liantong_res['kkk'].str.replace('市','')\n",
    "\n",
    "dianxin_res_groupby = dianxin_res.groupby(by = '900-1800-2400')\n",
    "liantong_res_groupby = liantong_res.groupby(by = '900-1800-2400')\n",
    "\n",
    "dishi = dianxin_res.groupby(by = 'kkk').agg({'地市':'count'})\n",
    "dishi.columns = ['电信小区']\n",
    "liantong_linshi_1=liantong_res.groupby(by = 'kkk').agg({'地市':'count'})\n",
    "liantong_linshi_1.columns = ['联通小区']\n",
    "dishi['联通小区']=0\n",
    "dishi['联通小区'].update(liantong_linshi_1['联通小区'])\n",
    "\n",
    "dianxin_res_qc1 = dianxin_res.drop_duplicates('基站名')\n",
    "dianxin_linshi_2 = dianxin_res_qc1.groupby(by = ['kkk']).agg({'kkk':'count'})\n",
    "dianxin_linshi_2.columns = ['电信总站址']\n",
    "dishi['电信总站址'] = 0\n",
    "dishi['电信总站址'].update(dianxin_linshi_2['电信总站址'])\n",
    "\n",
    "liantong__res_qc1 = liantong_res.drop_duplicates('基站名')\n",
    "liantong_linshi_2 = liantong__res_qc1.groupby(by = ['kkk']).agg({'kkk':'count'})\n",
    "liantong_linshi_2.columns = ['联通总站址']\n",
    "dishi['联通总站址'] = 0\n",
    "dishi['联通总站址'].update(liantong_linshi_2['联通总站址'])\n",
    "\n",
    "for name,dianxin_t in dianxin_res_groupby:\n",
    "    dianxin_res_qc = dianxin_t.drop_duplicates('基站名')\n",
    "    dianxin_linshi_2 = dianxin_res_qc.groupby(by = ['kkk']).agg({'kkk':'count'})\n",
    "    dianxin_linshi_2.columns = [name+'电信总站址']\n",
    "    dishi[name+'电信总站址'] = 0\n",
    "    dishi[name+'电信总站址'].update(dianxin_linshi_2[name+'电信总站址'])\n",
    "\n",
    "for name,liantong_t in liantong_res_groupby:\n",
    "    liantong_res_qc = liantong_t.drop_duplicates('基站名')\n",
    "    liantong_linshi_2 = liantong_res_qc.groupby(by = ['kkk']).agg({'kkk':'count'})\n",
    "    liantong_linshi_2.columns = [name+'联通总站址']\n",
    "    dishi[name+'联通总站址'] = 0\n",
    "    dishi[name+'联通总站址'].update(liantong_linshi_2[name+'联通总站址'])\n",
    "\n",
    "a= dishi.sum()\n",
    "a.name = '总计'\n",
    "dishi =dishi.append(a)\n",
    "\n",
    "dishi.to_clipboard()"
   ]
  },
  {
   "cell_type": "markdown",
   "metadata": {},
   "source": [
    "# 结束"
   ]
  },
  {
   "cell_type": "markdown",
   "metadata": {},
   "source": [
    "# 张璇统计区域内小区"
   ]
  },
  {
   "cell_type": "code",
   "execution_count": null,
   "metadata": {},
   "outputs": [],
   "source": [
    "f = mt.file_name_paths(path = 'C:/Users/Administrator/Desktop/zhangxuan/')"
   ]
  },
  {
   "cell_type": "code",
   "execution_count": null,
   "metadata": {},
   "outputs": [],
   "source": [
    "data_total = pd.DataFrame()\n",
    "for name in f:\n",
    "    g_data = gpd.read_file(name)\n",
    "    g_data['geometry'] = g_data['geometry'].apply(lambda x: Polygon(x.coords[:]))\n",
    "    res = gpd.sjoin(g_data,gongcan_p)\n",
    "    res1 = res[[ 'Name','小区中文名', '小区CGI(*)','RRU经度', 'RRU纬度', '方位角','天线挂高', '机械下倾角', '电子下倾角']]\n",
    "    res1['场景'] = name.split('.')[0].split('/')[-1]\n",
    "    data_total = data_total.append(res1)\n",
    "    print(name,res1.shape)"
   ]
  },
  {
   "cell_type": "code",
   "execution_count": null,
   "metadata": {},
   "outputs": [],
   "source": [
    "data_total.to_csv('zhangxuan.csv',encoding = 'gbk')"
   ]
  },
  {
   "cell_type": "code",
   "execution_count": null,
   "metadata": {},
   "outputs": [],
   "source": []
  },
  {
   "cell_type": "code",
   "execution_count": null,
   "metadata": {},
   "outputs": [],
   "source": [
    "g_data.plot()"
   ]
  },
  {
   "cell_type": "code",
   "execution_count": null,
   "metadata": {},
   "outputs": [],
   "source": [
    "g_data"
   ]
  },
  {
   "cell_type": "code",
   "execution_count": null,
   "metadata": {},
   "outputs": [],
   "source": []
  },
  {
   "cell_type": "code",
   "execution_count": null,
   "metadata": {},
   "outputs": [],
   "source": [
    "print(type(g_data['geometry'][0]))"
   ]
  },
  {
   "cell_type": "code",
   "execution_count": null,
   "metadata": {},
   "outputs": [],
   "source": [
    "print(g_data['geometry'][0])"
   ]
  },
  {
   "cell_type": "code",
   "execution_count": null,
   "metadata": {},
   "outputs": [],
   "source": [
    "Polygon(a)"
   ]
  },
  {
   "cell_type": "markdown",
   "metadata": {},
   "source": [
    "# 经纬度列表转成图层"
   ]
  },
  {
   "cell_type": "code",
   "execution_count": null,
   "metadata": {},
   "outputs": [],
   "source": [
    "data = pd.read_csv(open('D:/UP/副本湖北2469高价值居民区0724.csv',encoding='gbk'))"
   ]
  },
  {
   "cell_type": "code",
   "execution_count": null,
   "metadata": {},
   "outputs": [],
   "source": [
    "def str_to_Polygoen(a):\n",
    "    list=[[float(b) for b in x.split(',')] for x in a.split(';')]\n",
    "    return Polygon(list)"
   ]
  },
  {
   "cell_type": "code",
   "execution_count": null,
   "metadata": {},
   "outputs": [],
   "source": [
    "data['geometry']=data['wgs_shape'].apply(lambda x:str_to_Polygoen(x))"
   ]
  },
  {
   "cell_type": "code",
   "execution_count": null,
   "metadata": {},
   "outputs": [],
   "source": [
    "gdata=gpd.GeoDataFrame(data,crs={'init': 'epsg:4326'},geometry='geometry')"
   ]
  },
  {
   "cell_type": "code",
   "execution_count": null,
   "metadata": {},
   "outputs": [],
   "source": [
    "gdata.columns = ['id2', 'id', 'province', 'city', 'name', 'adcode', 'district',\n",
    "       'address', 'longtitude', 'latitude', 'type', 'typecode', 'classify',\n",
    "       'area', 'wgs_long', 'wgs_lat', 'wgs_shape', 'keywords', 'create_time',\n",
    "       'beizhu', '集团判定无覆盖居民区', 'geometry']"
   ]
  },
  {
   "cell_type": "code",
   "execution_count": null,
   "metadata": {},
   "outputs": [],
   "source": [
    "gdata.shape"
   ]
  },
  {
   "cell_type": "code",
   "execution_count": null,
   "metadata": {},
   "outputs": [],
   "source": [
    "m.to_file(gdata,outfile='shangjun.geojson')"
   ]
  },
  {
   "cell_type": "code",
   "execution_count": null,
   "metadata": {},
   "outputs": [],
   "source": [
    "plt.plot(x)"
   ]
  },
  {
   "cell_type": "code",
   "execution_count": null,
   "metadata": {
    "scrolled": true
   },
   "outputs": [],
   "source": [
    "gdata.plot(1)"
   ]
  },
  {
   "cell_type": "markdown",
   "metadata": {},
   "source": [
    "# ^^^结束"
   ]
  }
 ],
 "metadata": {
  "kernelspec": {
   "display_name": "Python 3",
   "language": "python",
   "name": "python3"
  },
  "language_info": {
   "codemirror_mode": {
    "name": "ipython",
    "version": 3
   },
   "file_extension": ".py",
   "mimetype": "text/x-python",
   "name": "python",
   "nbconvert_exporter": "python",
   "pygments_lexer": "ipython3",
   "version": "3.7.3"
  }
 },
 "nbformat": 4,
 "nbformat_minor": 2
}
