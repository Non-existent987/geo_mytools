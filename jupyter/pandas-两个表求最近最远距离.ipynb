{
 "cells": [
  {
   "cell_type": "code",
   "execution_count": 44,
   "metadata": {},
   "outputs": [],
   "source": [
    "zuijin_name = 'g:/1-规划/1其他工作输出/20191205更新任务清单-规划转优化给cig/最近的站点.csv'"
   ]
  },
  {
   "cell_type": "code",
   "execution_count": 45,
   "metadata": {},
   "outputs": [],
   "source": [
    "zuijin = pd.read_csv(open(zuijin_name,encoding = 'gbk'))"
   ]
  },
  {
   "cell_type": "code",
   "execution_count": 46,
   "metadata": {},
   "outputs": [
    {
     "data": {
      "text/plain": [
       "Index(['小区CGI(*)', 'RRU经度', 'RRU纬度', '方位角'], dtype='object')"
      ]
     },
     "execution_count": 46,
     "metadata": {},
     "output_type": "execute_result"
    }
   ],
   "source": [
    "zuijin.columns"
   ]
  },
  {
   "cell_type": "code",
   "execution_count": 47,
   "metadata": {},
   "outputs": [],
   "source": [
    "zuijin_shan = mt.add_sectors(zuijin, coords=['RRU经度', 'RRU纬度', '', '方位角'], has_z=False, sec_col='geometry', shape_dict={'radius': 2200, 'beam': 120, 'per_degree': 10})"
   ]
  },
  {
   "cell_type": "code",
   "execution_count": 48,
   "metadata": {},
   "outputs": [],
   "source": [
    "xxx_p = nt.add_points(data_zhan_x , coords=[lon_x, lat_x,'',''])"
   ]
  },
  {
   "cell_type": "code",
   "execution_count": 50,
   "metadata": {},
   "outputs": [],
   "source": [
    "res = gpd.sjoin(zuijin_shan,xxx_p)"
   ]
  },
  {
   "cell_type": "code",
   "execution_count": 53,
   "metadata": {},
   "outputs": [],
   "source": [
    "res.to_clipboard()"
   ]
  },
  {
   "cell_type": "code",
   "execution_count": null,
   "metadata": {},
   "outputs": [],
   "source": []
  },
  {
   "cell_type": "markdown",
   "metadata": {},
   "source": [
    "# 计算最近的站点距离-19年10月"
   ]
  },
  {
   "cell_type": "code",
   "execution_count": 17,
   "metadata": {},
   "outputs": [],
   "source": [
    "import pandas as pd\n",
    "import geopandas as gpd\n",
    "import numpy as np\n",
    "import app.mydef as md\n",
    "mt=md.MyTools()\n",
    "con = mt.con()\n",
    "import app.netools as ant\n",
    "nt = ant.NetTools()"
   ]
  },
  {
   "cell_type": "code",
   "execution_count": 18,
   "metadata": {},
   "outputs": [],
   "source": [
    "#导入的目录\n",
    "x_enter_name = 'g:/1-规划/1其他工作输出/20191205更新任务清单-规划转优化给cig/问题点.csv'\n",
    "y_enter_name = 'g:/1-规划/1其他工作输出/20191205更新任务清单-规划转优化给cig/现网lte小区.csv'\n",
    "#导出的目录\n",
    "data_out_name = 'g:/1-规划/1其他工作输出/20191205更新任务清单-规划转优化给cig/结果.csv'"
   ]
  },
  {
   "cell_type": "code",
   "execution_count": 19,
   "metadata": {},
   "outputs": [],
   "source": [
    "data_zhan_x = pd.read_csv(open(x_enter_name,encoding = 'gbk'))\n",
    "data_zhan_y = pd.read_csv(open(y_enter_name,encoding = 'gbk'))"
   ]
  },
  {
   "cell_type": "code",
   "execution_count": 20,
   "metadata": {},
   "outputs": [
    {
     "data": {
      "text/plain": [
       "(Index(['问题点或问题小区cgi', '问题点中心经度', '问题点中心纬度'], dtype='object'),\n",
       " Index(['小区CGI(*)', '小区中文名', 'RRU经度', 'RRU纬度', '方位角'], dtype='object'))"
      ]
     },
     "execution_count": 20,
     "metadata": {},
     "output_type": "execute_result"
    }
   ],
   "source": [
    "data_zhan_x.columns,data_zhan_y.columns"
   ]
  },
  {
   "cell_type": "code",
   "execution_count": 21,
   "metadata": {
    "scrolled": true
   },
   "outputs": [],
   "source": [
    "# data_zhan_x = data_zhan_x[['问题点中心经度', 'grid', 'center']]\n",
    "# data_zhan_x.columns = ['grid_center_lon_lat', 'lon_x', 'lat_x']"
   ]
  },
  {
   "cell_type": "code",
   "execution_count": 22,
   "metadata": {},
   "outputs": [],
   "source": [
    "#选择关键列---必填-变量\n",
    "id_x = '问题点或问题小区cgi'\n",
    "lon_x = '问题点中心经度'\n",
    "lat_x = '问题点中心纬度'\n",
    "fanwei = 5000 #单位米，范围\n",
    "\n",
    "id_y =  '小区CGI(*)'\n",
    "lon_y = 'RRU经度'\n",
    "lat_y = 'RRU纬度'\n",
    "pi = 500 #循环过程中每次处理数据量"
   ]
  },
  {
   "cell_type": "code",
   "execution_count": 23,
   "metadata": {},
   "outputs": [],
   "source": [
    "#制作图层\n",
    "data_zhan_buff = nt.add_buffer(data_zhan_x , coords=[lon_x, lat_x,'',''],buff_m=fanwei)\n",
    "data_zhan_pot = nt.add_points(data_zhan_y , coords=[lon_y, lat_y,'',''])"
   ]
  },
  {
   "cell_type": "code",
   "execution_count": 32,
   "metadata": {
    "scrolled": true
   },
   "outputs": [
    {
     "name": "stdout",
     "output_type": "stream",
     "text": [
      "数据总计行列数 (609, 4) 目前执行到 0 500 本次圈到： (1189495, 10) 有效 (500, 10) 结果累计量： (500, 10)\n"
     ]
    }
   ],
   "source": [
    "#数据处理-寻找最近的站点\n",
    "nu = data_zhan_buff.shape\n",
    "xhcs=nu[0]//pi\n",
    "ys = nu[0]%pi\n",
    "xh_cishu=list(range(xhcs))\n",
    "data_append = pd.DataFrame()\n",
    "#循环进行-整数部分处理\n",
    "for i in xh_cishu:\n",
    "    #批量sjoin\n",
    "    x = i*pi\n",
    "    y = x +pi\n",
    "    data_zhan_t = data_zhan_buff.iloc[x:y,]\n",
    "    data_jg_t = gpd.sjoin(data_zhan_t,data_zhan_pot)\n",
    "    \n",
    "    #去掉poi\n",
    "    ss = data_jg_t.filter(regex=\"[^geometry,^lon_n,^lat_n]\")\n",
    "    #处理成结果格式\n",
    "    lon1, lat1, lon2, lat2 = map(np.radians, \n",
    "                             [ss[lon_x], ss[lat_x], ss[lon_y], ss[lat_y]])\n",
    "    a = np.sin((lat2 - lat1)/2)**2 + np.cos(lat1)*np.cos(lat2)*np.sin((lon2 - lon1)/2)**2\n",
    "    ss['距离'] = 2*np.arcsin(np.sqrt(a))*6371*1000\n",
    "    ss1= ss.loc[ss['距离']>-1]\n",
    "    ss2=ss1.sort_values(by = '距离' ,ascending=True)\n",
    "    ss3 = ss2.drop_duplicates(id_x)\n",
    "    data_append = data_append.append(ss3)\n",
    "\n",
    "    print('数据总计行列数',nu,'目前执行到',x,y,'本次圈到：',data_jg_t.shape,'有效',ss3.shape,'结果累计量：',data_append.shape)"
   ]
  },
  {
   "cell_type": "code",
   "execution_count": 33,
   "metadata": {},
   "outputs": [
    {
     "name": "stdout",
     "output_type": "stream",
     "text": [
      "500 609 完成 总计： (609, 10)\n"
     ]
    }
   ],
   "source": [
    "#余数部分进行\n",
    "data_zhan_t=data_zhan_buff.iloc[(xh_cishu[-1]+1)*pi:(xh_cishu[-1]+1)*pi+ys,]\n",
    "data_jg_t = gpd.sjoin(data_zhan_t,data_zhan_pot)\n",
    "\n",
    "#去掉poi\n",
    "ss = data_jg_t.filter(regex=\"[^geometry,^lon_n,^lat_n]\")\n",
    "#处理成结果格式\n",
    "lon1, lat1, lon2, lat2 = map(np.radians, \n",
    "                         [ss[lon_x], ss[lat_x], ss[lon_y], ss[lat_y]])\n",
    "a = np.sin((lat2 - lat1)/2)**2 + np.cos(lat1)*np.cos(lat2)*np.sin((lon2 - lon1)/2)**2\n",
    "ss['距离'] = 2*np.arcsin(np.sqrt(a))*6371*1000\n",
    "ss1= ss.loc[ss['距离']>-1]\n",
    "ss2=ss1.sort_values(by = '距离' ,ascending=True)\n",
    "ss3 = ss2.drop_duplicates(id_x)\n",
    "data_append = data_append.append(ss3)\n",
    "print((xh_cishu[-1]+1)*pi,(xh_cishu[-1]+1)*pi+ys,'完成','总计：',data_append.shape)"
   ]
  },
  {
   "cell_type": "code",
   "execution_count": 31,
   "metadata": {},
   "outputs": [
    {
     "data": {
      "text/plain": [
       "(109, 10)"
      ]
     },
     "execution_count": 31,
     "metadata": {},
     "output_type": "execute_result"
    }
   ],
   "source": [
    "ss3.shape"
   ]
  },
  {
   "cell_type": "code",
   "execution_count": 26,
   "metadata": {},
   "outputs": [],
   "source": [
    "#将结果更新到原表新增的列中\n",
    "# data_append_re = data_append.reset_index()\n",
    "data_zhan_x_res = data_zhan_x.reset_index()"
   ]
  },
  {
   "cell_type": "code",
   "execution_count": 27,
   "metadata": {},
   "outputs": [],
   "source": [
    "data_res_ok = pd.merge(data_zhan_x_res,data_append,how='left',on=id_x)"
   ]
  },
  {
   "cell_type": "code",
   "execution_count": 28,
   "metadata": {},
   "outputs": [],
   "source": [
    "data_res_ok.sort_values('index',inplace = True)\n",
    "data_res_ok_drop = data_res_ok.drop_duplicates('index')"
   ]
  },
  {
   "cell_type": "code",
   "execution_count": 29,
   "metadata": {},
   "outputs": [],
   "source": [
    "#导出\n",
    "data_res_ok_drop.to_csv(data_out_name ,encoding = 'gbk',index=False)"
   ]
  },
  {
   "cell_type": "code",
   "execution_count": 30,
   "metadata": {},
   "outputs": [
    {
     "data": {
      "text/plain": [
       "((609, 4), (609, 13))"
      ]
     },
     "execution_count": 30,
     "metadata": {},
     "output_type": "execute_result"
    }
   ],
   "source": [
    "data_zhan_buff.shape,data_res_ok_drop.shape"
   ]
  },
  {
   "cell_type": "markdown",
   "metadata": {},
   "source": [
    "# 结束"
   ]
  },
  {
   "cell_type": "code",
   "execution_count": null,
   "metadata": {},
   "outputs": [],
   "source": []
  },
  {
   "cell_type": "code",
   "execution_count": null,
   "metadata": {},
   "outputs": [],
   "source": []
  },
  {
   "cell_type": "code",
   "execution_count": null,
   "metadata": {},
   "outputs": [],
   "source": []
  },
  {
   "cell_type": "code",
   "execution_count": 1,
   "metadata": {},
   "outputs": [
    {
     "name": "stdout",
     "output_type": "stream",
     "text": [
      "0.0 2921.723252391541\n"
     ]
    }
   ],
   "source": [
    "from __dis import *\n",
    "b=get_distance(114.225436, 31.552066, 114.245436,  31.572066)\n",
    "a=get_fw(114.225436, 31.552066, 114.225436, 31.552066)\n",
    "print(a,b)"
   ]
  },
  {
   "cell_type": "code",
   "execution_count": null,
   "metadata": {},
   "outputs": [],
   "source": [
    "import pandas as pd\n",
    "from __dis import *\n",
    "data_a_y = pd.read_excel('A.xlsx',sheet_name = 'Sheet1')\n",
    "data_b_y = pd.read_excel('A.xlsx',sheet_name = 'Sheet2')\n",
    "data_a_y.iloc[1:3,:3]"
   ]
  },
  {
   "cell_type": "code",
   "execution_count": null,
   "metadata": {},
   "outputs": [],
   "source": [
    "data_b_y.iloc[:1]"
   ]
  },
  {
   "cell_type": "code",
   "execution_count": null,
   "metadata": {},
   "outputs": [],
   "source": [
    "#------------------------计算最近距离小区----------\n",
    "data_a = data_a_y.copy()\n",
    "data_b = data_b_y.copy()\n",
    "out_cgi_bok=[]\n",
    "out_lon_bok=[]\n",
    "out_lat_bok=[]\n",
    "out_juli=[]\n",
    "for x in range(len(data_a.index)):\n",
    "    cgi_a,lon_a,lat_a=data_a.iloc[x,:3]\n",
    "    juli = 10000000\n",
    "    for x in range(len(data_b.index)):\n",
    "        cgi_b,lon_b,lat_b=data_b.iloc[x,:]\n",
    "        julia=get_distance(lon_a,lat_a,lon_b,lat_b)\n",
    "#         if julia < juli and julia>50:   #不计算50米内的小区\n",
    "        if julia < juli:    \n",
    "            juli = julia\n",
    "            cgi_bok = cgi_b\n",
    "            lon_bok = lon_b\n",
    "            lat_bok = lat_b\n",
    "    out_cgi_bok.append(cgi_bok)\n",
    "    out_lon_bok.append(lon_bok)\n",
    "    out_lat_bok.append(lat_bok)\n",
    "    out_juli.append(juli)\n",
    "data_a['cig_b'] = out_cgi_bok\n",
    "data_a['lon_b'] = out_lon_bok\n",
    "data_a['lat_b'] = out_lat_bok\n",
    "data_a['juli_b'] = out_juli\n",
    "data_a.to_excel('A-最近距离.xlsx',sheet_name = '最近距离',index = False)"
   ]
  },
  {
   "cell_type": "code",
   "execution_count": null,
   "metadata": {},
   "outputs": [],
   "source": [
    "#------------------------计算最远距离小区-------\n",
    "data_a = data_a_y.copy()\n",
    "data_b = data_b_y.copy()\n",
    "out_cgi_bok=[]\n",
    "out_lon_bok=[]\n",
    "out_lat_bok=[]\n",
    "out_juli=[]\n",
    "for x in range(len(data_a.index)):\n",
    "    cgi_a,lon_a,lat_a=data_a.iloc[x,:]\n",
    "    juli = 0\n",
    "    for x in range(len(data_b.index)):\n",
    "        cgi_b,lon_b,lat_b=data_b.iloc[x,:]\n",
    "        julia=get_distance(lon_a,lat_a,lon_b,lat_b)\n",
    "        if julia > juli:\n",
    "            juli = julia\n",
    "            cgi_bok = cgi_b\n",
    "            lon_bok = lon_b\n",
    "            lat_bok = lat_b\n",
    "    out_cgi_bok.append(cgi_bok)\n",
    "    out_lon_bok.append(lon_bok)\n",
    "    out_lat_bok.append(lat_bok)\n",
    "    out_juli.append(juli)\n",
    "data_a['cig_b'] = out_cgi_bok\n",
    "data_a['lon_b'] = out_lon_bok\n",
    "data_a['lat_b'] = out_lat_bok\n",
    "data_a['juli_b'] = out_juli\n",
    "data_a.to_excel('最远距离.xlsx',index = False)"
   ]
  },
  {
   "cell_type": "code",
   "execution_count": null,
   "metadata": {},
   "outputs": [],
   "source": []
  },
  {
   "cell_type": "markdown",
   "metadata": {},
   "source": [
    "# 计算最近的小区&朝向点位置"
   ]
  },
  {
   "cell_type": "code",
   "execution_count": 17,
   "metadata": {},
   "outputs": [],
   "source": [
    "import pandas as pd\n",
    "import geopandas as gpd\n",
    "import numpy as np\n",
    "import app.mydef as md\n",
    "mt=md.MyTools()\n",
    "con = mt.con()\n",
    "import app.netools as ant\n",
    "nt = ant.NetTools()"
   ]
  },
  {
   "cell_type": "code",
   "execution_count": 18,
   "metadata": {},
   "outputs": [],
   "source": [
    "#导入的目录\n",
    "x_enter_name = 'g:/1-规划/1其他工作输出/20191205更新任务清单-规划转优化给cig/问题点.csv'\n",
    "y_enter_name = 'g:/1-规划/1其他工作输出/20191205更新任务清单-规划转优化给cig/现网lte小区.csv'\n",
    "#导出的目录\n",
    "data_out_name = 'g:/1-规划/1其他工作输出/20191205更新任务清单-规划转优化给cig/结果.csv'"
   ]
  },
  {
   "cell_type": "code",
   "execution_count": 19,
   "metadata": {},
   "outputs": [],
   "source": [
    "data_zhan_x = pd.read_csv(open(x_enter_name,encoding = 'gbk'))\n",
    "data_zhan_y = pd.read_csv(open(y_enter_name,encoding = 'gbk'))"
   ]
  },
  {
   "cell_type": "code",
   "execution_count": 20,
   "metadata": {},
   "outputs": [
    {
     "data": {
      "text/plain": [
       "(Index(['问题点或问题小区cgi', '问题点中心经度', '问题点中心纬度'], dtype='object'),\n",
       " Index(['小区CGI(*)', '小区中文名', 'RRU经度', 'RRU纬度', '方位角'], dtype='object'))"
      ]
     },
     "execution_count": 20,
     "metadata": {},
     "output_type": "execute_result"
    }
   ],
   "source": [
    "data_zhan_x.columns,data_zhan_y.columns"
   ]
  },
  {
   "cell_type": "code",
   "execution_count": 21,
   "metadata": {
    "scrolled": true
   },
   "outputs": [],
   "source": [
    "# data_zhan_x = data_zhan_x[['问题点中心经度', 'grid', 'center']]\n",
    "# data_zhan_x.columns = ['grid_center_lon_lat', 'lon_x', 'lat_x']"
   ]
  },
  {
   "cell_type": "code",
   "execution_count": 22,
   "metadata": {},
   "outputs": [],
   "source": [
    "#选择关键列---必填-变量\n",
    "id_x = '问题点或问题小区cgi'\n",
    "lon_x = '问题点中心经度'\n",
    "lat_x = '问题点中心纬度'\n",
    "fanwei = 5000 #单位米，范围\n",
    "\n",
    "id_y =  '小区CGI(*)'\n",
    "lon_y = 'RRU经度'\n",
    "lat_y = 'RRU纬度'\n",
    "pi = 500 #循环过程中每次处理数据量"
   ]
  },
  {
   "cell_type": "code",
   "execution_count": 23,
   "metadata": {},
   "outputs": [],
   "source": [
    "#制作图层\n",
    "data_zhan_buff = nt.add_buffer(data_zhan_x , coords=[lon_x, lat_x,'',''],buff_m=fanwei)\n",
    "data_zhan_pot = nt.add_points(data_zhan_y , coords=[lon_y, lat_y,'',''])"
   ]
  },
  {
   "cell_type": "code",
   "execution_count": 32,
   "metadata": {
    "scrolled": true
   },
   "outputs": [
    {
     "name": "stdout",
     "output_type": "stream",
     "text": [
      "数据总计行列数 (609, 4) 目前执行到 0 500 本次圈到： (1189495, 10) 有效 (500, 10) 结果累计量： (500, 10)\n"
     ]
    }
   ],
   "source": [
    "#数据处理-寻找最近的站点\n",
    "nu = data_zhan_buff.shape\n",
    "xhcs=nu[0]//pi\n",
    "ys = nu[0]%pi\n",
    "xh_cishu=list(range(xhcs))\n",
    "data_append = pd.DataFrame()\n",
    "#循环进行-整数部分处理\n",
    "for i in xh_cishu:\n",
    "    #批量sjoin\n",
    "    x = i*pi\n",
    "    y = x +pi\n",
    "    data_zhan_t = data_zhan_buff.iloc[x:y,]\n",
    "    data_jg_t = gpd.sjoin(data_zhan_t,data_zhan_pot)\n",
    "    \n",
    "    #去掉poi\n",
    "    ss = data_jg_t.filter(regex=\"[^geometry,^lon_n,^lat_n]\")\n",
    "    #处理成结果格式\n",
    "    lon1, lat1, lon2, lat2 = map(np.radians, \n",
    "                             [ss[lon_x], ss[lat_x], ss[lon_y], ss[lat_y]])\n",
    "    a = np.sin((lat2 - lat1)/2)**2 + np.cos(lat1)*np.cos(lat2)*np.sin((lon2 - lon1)/2)**2\n",
    "    ss['距离'] = 2*np.arcsin(np.sqrt(a))*6371*1000\n",
    "    ss1= ss.loc[ss['距离']>-1]\n",
    "    ss2=ss1.sort_values(by = '距离' ,ascending=True)\n",
    "    \n",
    "    ss3 = ss2.drop_duplicates(id_x)\n",
    "    data_append = data_append.append(ss3)\n",
    "\n",
    "    print('数据总计行列数',nu,'目前执行到',x,y,'本次圈到：',data_jg_t.shape,'有效',ss3.shape,'结果累计量：',data_append.shape)"
   ]
  },
  {
   "cell_type": "code",
   "execution_count": 38,
   "metadata": {},
   "outputs": [
    {
     "data": {
      "text/plain": [
       "Index(['问题点或问题小区cgi', '问题点中心经度', '问题点中心纬度', 'index_right', '小区CGI(*)', '小区中文名',\n",
       "       'RRU经度', 'RRU纬度', '方位角', '距离'],\n",
       "      dtype='object')"
      ]
     },
     "execution_count": 38,
     "metadata": {},
     "output_type": "execute_result"
    }
   ],
   "source": [
    "ss2.columns"
   ]
  },
  {
   "cell_type": "code",
   "execution_count": 37,
   "metadata": {},
   "outputs": [],
   "source": [
    "groupby_x = ss2.groupby(by = id_x)"
   ]
  },
  {
   "cell_type": "code",
   "execution_count": null,
   "metadata": {},
   "outputs": [],
   "source": [
    "for name ,data_t in groupby_x:\n",
    "    data_t"
   ]
  },
  {
   "cell_type": "code",
   "execution_count": null,
   "metadata": {},
   "outputs": [],
   "source": []
  },
  {
   "cell_type": "code",
   "execution_count": null,
   "metadata": {},
   "outputs": [],
   "source": []
  },
  {
   "cell_type": "code",
   "execution_count": 33,
   "metadata": {},
   "outputs": [
    {
     "name": "stdout",
     "output_type": "stream",
     "text": [
      "500 609 完成 总计： (609, 10)\n"
     ]
    }
   ],
   "source": [
    "#余数部分进行\n",
    "data_zhan_t=data_zhan_buff.iloc[(xh_cishu[-1]+1)*pi:(xh_cishu[-1]+1)*pi+ys,]\n",
    "data_jg_t = gpd.sjoin(data_zhan_t,data_zhan_pot)\n",
    "\n",
    "#去掉poi\n",
    "ss = data_jg_t.filter(regex=\"[^geometry,^lon_n,^lat_n]\")\n",
    "#处理成结果格式\n",
    "lon1, lat1, lon2, lat2 = map(np.radians, \n",
    "                         [ss[lon_x], ss[lat_x], ss[lon_y], ss[lat_y]])\n",
    "a = np.sin((lat2 - lat1)/2)**2 + np.cos(lat1)*np.cos(lat2)*np.sin((lon2 - lon1)/2)**2\n",
    "ss['距离'] = 2*np.arcsin(np.sqrt(a))*6371*1000\n",
    "ss1= ss.loc[ss['距离']>-1]\n",
    "ss2=ss1.sort_values(by = '距离' ,ascending=True)\n",
    "ss3 = ss2.drop_duplicates(id_x)\n",
    "data_append = data_append.append(ss3)\n",
    "print((xh_cishu[-1]+1)*pi,(xh_cishu[-1]+1)*pi+ys,'完成','总计：',data_append.shape)"
   ]
  },
  {
   "cell_type": "code",
   "execution_count": 31,
   "metadata": {},
   "outputs": [
    {
     "data": {
      "text/plain": [
       "(109, 10)"
      ]
     },
     "execution_count": 31,
     "metadata": {},
     "output_type": "execute_result"
    }
   ],
   "source": [
    "ss3.shape"
   ]
  },
  {
   "cell_type": "code",
   "execution_count": 26,
   "metadata": {},
   "outputs": [],
   "source": [
    "#将结果更新到原表新增的列中\n",
    "# data_append_re = data_append.reset_index()\n",
    "data_zhan_x_res = data_zhan_x.reset_index()"
   ]
  },
  {
   "cell_type": "code",
   "execution_count": 27,
   "metadata": {},
   "outputs": [],
   "source": [
    "data_res_ok = pd.merge(data_zhan_x_res,data_append,how='left',on=id_x)"
   ]
  },
  {
   "cell_type": "code",
   "execution_count": 28,
   "metadata": {},
   "outputs": [],
   "source": [
    "data_res_ok.sort_values('index',inplace = True)\n",
    "data_res_ok_drop = data_res_ok.drop_duplicates('index')"
   ]
  },
  {
   "cell_type": "code",
   "execution_count": 29,
   "metadata": {},
   "outputs": [],
   "source": [
    "#导出\n",
    "data_res_ok_drop.to_csv(data_out_name ,encoding = 'gbk',index=False)"
   ]
  },
  {
   "cell_type": "code",
   "execution_count": 30,
   "metadata": {},
   "outputs": [
    {
     "data": {
      "text/plain": [
       "((609, 4), (609, 13))"
      ]
     },
     "execution_count": 30,
     "metadata": {},
     "output_type": "execute_result"
    }
   ],
   "source": [
    "data_zhan_buff.shape,data_res_ok_drop.shape"
   ]
  },
  {
   "cell_type": "markdown",
   "metadata": {},
   "source": [
    "# 结束"
   ]
  }
 ],
 "metadata": {
  "kernelspec": {
   "display_name": "Python 3",
   "language": "python",
   "name": "python3"
  },
  "language_info": {
   "codemirror_mode": {
    "name": "ipython",
    "version": 3
   },
   "file_extension": ".py",
   "mimetype": "text/x-python",
   "name": "python",
   "nbconvert_exporter": "python",
   "pygments_lexer": "ipython3",
   "version": "3.7.3"
  }
 },
 "nbformat": 4,
 "nbformat_minor": 2
}
