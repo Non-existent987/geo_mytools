{
 "cells": [
  {
   "cell_type": "code",
   "execution_count": 6,
   "metadata": {},
   "outputs": [],
   "source": [
    "#导入数据库驱动\n",
    "import sqlite3\n",
    "import pandas as pd"
   ]
  },
  {
   "cell_type": "code",
   "execution_count": 7,
   "metadata": {},
   "outputs": [],
   "source": [
    "conn = sqlite3.connect(\"test1.db\")"
   ]
  },
  {
   "cell_type": "code",
   "execution_count": 9,
   "metadata": {},
   "outputs": [],
   "source": [
    "data = pd.read_csv('./7734.csv',encoding = 'gbk')"
   ]
  },
  {
   "cell_type": "code",
   "execution_count": 10,
   "metadata": {},
   "outputs": [],
   "source": [
    "data.to_sql('y7734',con = conn)"
   ]
  },
  {
   "cell_type": "code",
   "execution_count": 54,
   "metadata": {},
   "outputs": [],
   "source": [
    "query = \"SELECT * FROM y7734 where `RRU经度`> 114 ;\""
   ]
  },
  {
   "cell_type": "code",
   "execution_count": 55,
   "metadata": {},
   "outputs": [],
   "source": [
    "df = pd.read_sql_query(query,conn)"
   ]
  },
  {
   "cell_type": "code",
   "execution_count": null,
   "metadata": {
    "scrolled": true
   },
   "outputs": [],
   "source": []
  },
  {
   "cell_type": "code",
   "execution_count": null,
   "metadata": {},
   "outputs": [],
   "source": []
  },
  {
   "cell_type": "code",
   "execution_count": null,
   "metadata": {},
   "outputs": [],
   "source": [
    "#连接到数据库\n",
    "#数据库文件是“test.db”\n",
    "#如果数据库不存在的话，将会自动创建一个 数据库\n",
    "conn = sqlite3.connect(\"test.db\")"
   ]
  },
  {
   "cell_type": "code",
   "execution_count": null,
   "metadata": {
    "scrolled": true
   },
   "outputs": [],
   "source": [
    "#创建一个游标 curson\n",
    "cursor = conn.cursor()\n",
    "\n",
    "#执行一条语句,创建 user表\n",
    "# sql = \"create table login (id varchar(20) primary key, name varchar(30), password varchar(30))\"\n",
    "# cursor.execute(sql)\n",
    "\n",
    "\n",
    "#插入一条记录\n",
    "#sql = \"insert into login (name, password) values (\\'love\\', \\'520520')\"\n",
    "#cursor.execute(sql)\n",
    "\n",
    "\n",
    "#查询一条记录：\n",
    "# sql = \"select * from login\"\n",
    "# cursor.execute(sql)\n",
    "# sql = \"select * from login where id=?\"\n",
    "# cursor.execute(sql, (\"2\",))\n",
    "\n",
    "\n",
    "#获取查询结果：\n",
    "# values = cursor.fetchall()\n",
    "#\n",
    "# print(values)\n",
    "\n",
    "\n",
    "# 通过rowcount获得插入的行数:\n",
    "#cursor.rowcount()\n",
    "\n",
    "#关闭游标：\n",
    "cursor.close()\n",
    "\n",
    "#提交事物\n",
    "conn.commit()\n",
    "\n",
    "#关闭连接\n",
    "conn.close()"
   ]
  },
  {
   "cell_type": "code",
   "execution_count": null,
   "metadata": {},
   "outputs": [],
   "source": []
  },
  {
   "cell_type": "code",
   "execution_count": null,
   "metadata": {},
   "outputs": [],
   "source": []
  },
  {
   "cell_type": "code",
   "execution_count": null,
   "metadata": {},
   "outputs": [],
   "source": [
    "    def db_begin(self):\n",
    "        if not os.path.exists(r\"E:\\KPI监控\"):\n",
    "            os.makedirs(r\"E:\\KPI监控\")\n",
    "            db_path = r\"E:\\KPI监控\\lte.db\"\n",
    "        button = QtWidgets.QMessageBox.question(self, '警告！', '确认初始化吗？',\n",
    "                                                QtWidgets.QMessageBox.Yes | QtWidgets.QMessageBox.No,\n",
    "                                                QtWidgets.QMessageBox.No)\n",
    "        if button == QtWidgets.QMessageBox.Yes:\n",
    "            try:\n",
    "                os.remove(r\"E:\\KPI监控\\lte.db\")\n",
    "                db_path = r\"E:\\KPI监控\\lte.db\"\n",
    "            except:\n",
    "                db_path = r\"E:\\KPI监控\\lte.db\"\n",
    "            conn = sqlite3.connect(db_path)\n",
    "            cursor = conn.cursor()\n",
    "            create_kpi1 = (\"\"\"CREATE TABLE if not exists `KPI1`(`id` text NOT NULL,`日期` date  NOT NULL,\n",
    " `时间` varchar(10) NOT NULL,`周期` int(10) NOT NULL,`网元名称` varchar(100) DEFAULT NULL,`本地小区标识` int(10) DEFAULT NULL,\n",
    "`小区名称` varchar(100) DEFAULT NULL,`站号` int(20) NOT NULL,`小区标识` int(20) NOT NULL,`RRC连接建立完成次数 (无)` float DEFAULT NULL,\n",
    "`RRC连接请求次数（包括重发） (无)` float DEFAULT NULL,`E-RAB建立成功总次数 (无)` float DEFAULT NULL,\n",
    "`E-RAB建立尝试总次数 (无)` float DEFAULT NULL,`QCI为1的业务E-RAB建立成功次数 (无)` float DEFAULT NULL,\n",
    "`QCI为1的业务E-RAB建立尝试次数 (无)` float DEFAULT NULL,`QCI为2的业务E-RAB建立成功次数 (无)` float DEFAULT NULL,\n",
    "`QCI为2的业务E-RAB建立尝试次数 (无)` float DEFAULT NULL,`QCI为5的业务E-RAB建立成功次数 (无)` float DEFAULT NULL,\n",
    "`eNodeB发起的S1 RESET导致的UE Context释放次数 (无)` float DEFAULT NULL,`UE Context异常释放次数 (无)` float DEFAULT NULL,\n",
    "`eNodeB等待初始上下文建立请求超时触发的UE Context释放次数 (无)` float DEFAULT NULL,`UE Context建立成功总次数 (无)` float DEFAULT NULL,\n",
    "`小区遗留UE Context个数 (无)` float DEFAULT NULL,`eNodeB触发的E-RAB异常释放总次数 (无)` float DEFAULT NULL,\n",
    "`小区切换出E-RAB异常释放总次数 (无)` float DEFAULT NULL,`遗留E-RAB总个数 (无)` float DEFAULT NULL,\n",
    "`小区切换入E-RAB成功建立总次数 (无)` float DEFAULT NULL,`eNodeB发起的S1 RESET导致的QCI为1的E-RAB异常释放次数 (无)` float DEFAULT NULL,\n",
    "`eNodeB触发的QCI为1的业务E-RAB异常释放次数 (无)` float DEFAULT NULL,`切换出QCI为1的E-RAB异常释放次数 (无)` float DEFAULT NULL,\n",
    "`QCI为1的业务初始E-RAB建立成功次数 (无)` float DEFAULT NULL,`QCI为1的切换入E-RAB成功建立次数 (无)` float DEFAULT NULL,\n",
    "`QCI为1的遗留E-RAB个数 (无)` float DEFAULT NULL,`eNodeB间同频切换出成功次数 (无)` float DEFAULT NULL,\n",
    "`eNodeB间异频切换出成功次数 (无)` float DEFAULT NULL,`eNodeB内同频切换出成功次数 (无)` float DEFAULT NULL,\n",
    "`eNodeB内异频切换出成功次数 (无)` float DEFAULT NULL,`通过重建回源小区的eNodeB间同频切换出执行成功次数 (无)` float DEFAULT NULL,\n",
    "`通过重建回源小区的eNodeB间异频切换出执行成功次数 (无)` float DEFAULT NULL,`通过重建回源小区的eNodeB内同频切换出执行成功次数 (无)` float DEFAULT NULL,\n",
    "`通过重建回源小区的eNodeB内异频切换出执行成功次数 (无)` float DEFAULT NULL,`eNodeB间同频切换出尝试次数 (无)` float DEFAULT NULL,\n",
    "`eNodeB间异频切换出尝试次数 (无)` float DEFAULT NULL,`eNodeB内同频切换出尝试次数 (无)` float DEFAULT NULL,\n",
    "`eNodeB内异频切换出尝试次数 (无)` float DEFAULT NULL,`eNodeB间语音业务同频切换出成功次数 (无)` float DEFAULT NULL,\n",
    "`eNodeB间语音业务异频切换出成功次数 (无)` float DEFAULT NULL,`eNodeB内语音业务同频切换出成功次数 (无)` float DEFAULT NULL,\n",
    "`eNodeB内语音业务异频切换出成功次数 (无)` float DEFAULT NULL,`小区通过重建回源小区的eNodeB间语音业务同频切换出执行成功次数 (无)` float DEFAULT NULL,\n",
    "`小区通过重建回源小区的eNodeB间语音业务异频切换出执行成功次数 (无)` float DEFAULT NULL,`小区通过重建回源小区的eNodeB内语音业务同频切换出执行成功次数 (无)` float DEFAULT NULL,\n",
    "`小区通过重建回源小区的eNodeB内语音业务异频切换出执行成功次数 (无)` float DEFAULT NULL,`eNodeB间语音业务同频切换出尝试次数 (无)` float DEFAULT NULL,\n",
    "`eNodeB间语音业务异频切换出尝试次数 (无)` float DEFAULT NULL,`eNodeB内语音业务同频切换出执行次数 (无)` float DEFAULT NULL,\n",
    "`eNodeB内语音业务异频切换出执行次数 (无)` float DEFAULT NULL,`eNodeB成功响应的Idle态CSFB的次数 (无)` float DEFAULT NULL,\n",
    "`eNodeB收到的Idle态CSFB触发次数 (无)` float DEFAULT NULL,`eNodeB成功响应CSFB的次数 (无)` float DEFAULT NULL,`eNodeB收到的CSFB触发次数 (无)` float DEFAULT NULL,\n",
    "`E-UTRAN向GERAN系统切换切出成功次数 (无)` float DEFAULT NULL,`E-UTRAN向GERAN系统切换切出尝试次数 (无)` float DEFAULT NULL,\n",
    "`上行PUSCH的Physical Resource Block被使用的平均个数 (无)` float DEFAULT NULL,`PUSCH可用PRB平均个数 (无)` float DEFAULT NULL,\n",
    "`下行Physical Resource Block被使用的平均个数 (无)` float DEFAULT NULL,`下行可用的PRB个数 (无)` float DEFAULT NULL,\n",
    "`公共DCI所占用的PDCCH CCE的个数 (无)` float DEFAULT NULL,`统计周期内上行DCI所使用的PDCCH CCE个数 (无)` float DEFAULT NULL,\n",
    "`统计周期内下行DCI所使用的PDCCH CCE个数 (无)` float DEFAULT NULL,`统计周期内可用的PDCCH CCE的个数 (无)` float DEFAULT NULL,\n",
    "`小区内的最大用户数 (无)` float DEFAULT NULL,`小区内有业务数据待发送的最大用户数 (无)` float DEFAULT NULL,\n",
    "`平均激活用户数 (无)` float DEFAULT NULL,PRIMARY KEY (\"ID\"));\"\"\")\n",
    "            cursor.execute(create_kpi1)\n",
    "            create_kpi2 = (\"\"\"CREATE TABLE if not exists `KPI2`(`id` text NOT NULL,\n",
    "`日期` date NOT NULL,`时间` varchar(10) NOT NULL,`周期` int(10) NOT NULL,`网元名称` varchar(100) DEFAULT NULL,\n",
    "`本地小区标识` int(10) DEFAULT NULL,`小区名称` varchar(100) DEFAULT NULL,`站号` int(20) NOT NULL,\n",
    "`小区标识` int(20) NOT NULL,`小区PDCP层所接收到的上行数据的总吞吐量 (比特)` float DEFAULT NULL,\n",
    "`小区PDCP层所发送的下行数据的总吞吐量 (比特)` float DEFAULT NULL,`QCI为1的业务PDCP上行总吞吐量 (比特)`float DEFAULT NULL,\n",
    "`QCI为1的业务PDCP下行总吞吐量 (比特)`float DEFAULT NULL,`QCI为5的业务PDCP上行总吞吐量 (比特)`float DEFAULT NULL,\n",
    "`QCI为5的业务PDCP下行总吞吐量 (比特)`float DEFAULT NULL,`QCI为1的DRB的个数 (无)`float DEFAULT NULL,\n",
    "`QCI为2的DRB的个数 (无)`float DEFAULT NULL,`上行激活的QCI为1的用户个数 (无)`float DEFAULT NULL,\n",
    "`下行激活的QCI为1的用户个数 (无)`float DEFAULT NULL,`上行激活的QCI为1的最大用户个数 (无)`float DEFAULT NULL,\n",
    "`下行激活的QCI为1的最大用户个数 (无)`float DEFAULT NULL,`系统上行每个PRB上检测到的干扰噪声的平均值 (毫瓦分贝)`float DEFAULT NULL,\n",
    "`因为PUCCH资源分配失败而导致RRC连接建立失败的次数 (无)`float DEFAULT NULL,`因为SRS资源分配失败而导致RRC连接建立失败的次数 (无)`float DEFAULT NULL,\n",
    "`用户数规格受限导致的RRC连接建立失败次数 (无)`float DEFAULT NULL,`MME过载导致的发送RRC Connection Reject消息次数 (无)`float DEFAULT NULL,\n",
    "`资源分配失败而导致RRC连接建立失败次数 (无)`float DEFAULT NULL,PRIMARY KEY (\"ID\"));\"\"\")\n",
    "            cursor.execute(create_kpi2)\n",
    "            create_cj = (\n",
    "                \"\"\"CREATE TABLE if not exists `KPIcj`(`站号` INTEGER NOT NULL,`CI` INTEGER NOT NULL,`场景名称` varchar(50) NOT NULL);\"\"\")\n",
    "            cursor.execute(create_cj)\n",
    "            cursor.close()\n",
    "            conn.close()\n",
    "            QtWidgets.QMessageBox.information(self.pushButton_checkpi, \"DONE!\", \"已完成初始化！\")\n"
   ]
  }
 ],
 "metadata": {
  "kernelspec": {
   "display_name": "Python 3",
   "language": "python",
   "name": "python3"
  },
  "language_info": {
   "codemirror_mode": {
    "name": "ipython",
    "version": 3
   },
   "file_extension": ".py",
   "mimetype": "text/x-python",
   "name": "python",
   "nbconvert_exporter": "python",
   "pygments_lexer": "ipython3",
   "version": "3.7.3"
  }
 },
 "nbformat": 4,
 "nbformat_minor": 2
}
