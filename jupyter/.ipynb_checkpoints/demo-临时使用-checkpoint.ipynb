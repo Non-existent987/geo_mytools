{
 "cells": [
  {
   "cell_type": "code",
   "execution_count": null,
   "metadata": {
    "ExecuteTime": {
     "end_time": "2020-08-11T14:46:23.780887Z",
     "start_time": "2020-08-11T14:46:23.777386Z"
    }
   },
   "outputs": [],
   "source": [
    "import mytools\n",
    "import pandas as pd\n",
    "import geopandas as gpd\n",
    "import matplotlib"
   ]
  },
  {
   "cell_type": "code",
   "execution_count": null,
   "metadata": {
    "ExecuteTime": {
     "end_time": "2020-08-11T14:46:48.748557Z",
     "start_time": "2020-08-11T14:46:48.745557Z"
    }
   },
   "outputs": [],
   "source": [
    "import matplotlib.pyplot as plt"
   ]
  },
  {
   "cell_type": "code",
   "execution_count": null,
   "metadata": {
    "ExecuteTime": {
     "end_time": "2020-08-11T14:42:39.854952Z",
     "start_time": "2020-08-11T14:42:39.824948Z"
    }
   },
   "outputs": [],
   "source": [
    "data = pd.read_csv('C:/Users/Administrator/Desktop/NB.csv',encoding='gbk')"
   ]
  },
  {
   "cell_type": "code",
   "execution_count": null,
   "metadata": {
    "ExecuteTime": {
     "end_time": "2020-08-11T14:43:39.756558Z",
     "start_time": "2020-08-11T14:43:39.746057Z"
    }
   },
   "outputs": [],
   "source": [
    "data.head()"
   ]
  },
  {
   "cell_type": "code",
   "execution_count": null,
   "metadata": {},
   "outputs": [],
   "source": []
  },
  {
   "cell_type": "code",
   "execution_count": null,
   "metadata": {
    "ExecuteTime": {
     "end_time": "2020-08-11T14:54:37.030521Z",
     "start_time": "2020-08-11T14:54:36.674476Z"
    }
   },
   "outputs": [],
   "source": [
    "plt.scatter(data['经度'],data['纬度'], label = 'scatter',c='y') #画散点图"
   ]
  },
  {
   "cell_type": "code",
   "execution_count": null,
   "metadata": {
    "ExecuteTime": {
     "end_time": "2020-08-11T14:47:19.486960Z",
     "start_time": "2020-08-11T14:47:19.164420Z"
    }
   },
   "outputs": [],
   "source": [
    "plt.plot(data['经度'],data['纬度'])"
   ]
  },
  {
   "cell_type": "code",
   "execution_count": null,
   "metadata": {
    "ExecuteTime": {
     "end_time": "2020-08-11T14:46:35.391361Z",
     "start_time": "2020-08-11T14:46:35.380360Z"
    }
   },
   "outputs": [],
   "source": [
    "matplotlib.plot()"
   ]
  },
  {
   "cell_type": "code",
   "execution_count": null,
   "metadata": {
    "ExecuteTime": {
     "end_time": "2020-08-11T14:45:35.222721Z",
     "start_time": "2020-08-11T14:45:35.196217Z"
    }
   },
   "outputs": [],
   "source": [
    "data.plot(data['经度'],data['纬度'])"
   ]
  },
  {
   "cell_type": "code",
   "execution_count": null,
   "metadata": {},
   "outputs": [],
   "source": []
  },
  {
   "cell_type": "code",
   "execution_count": null,
   "metadata": {},
   "outputs": [],
   "source": []
  },
  {
   "cell_type": "code",
   "execution_count": null,
   "metadata": {},
   "outputs": [],
   "source": []
  },
  {
   "cell_type": "code",
   "execution_count": null,
   "metadata": {},
   "outputs": [],
   "source": []
  },
  {
   "cell_type": "code",
   "execution_count": null,
   "metadata": {
    "ExecuteTime": {
     "end_time": "2020-07-30T11:51:54.652477Z",
     "start_time": "2020-07-30T11:51:54.104908Z"
    }
   },
   "outputs": [],
   "source": [
    "tu = mytools.gisn.maps()"
   ]
  },
  {
   "cell_type": "code",
   "execution_count": null,
   "metadata": {
    "ExecuteTime": {
     "end_time": "2020-07-30T11:52:43.168138Z",
     "start_time": "2020-07-30T11:52:42.815593Z"
    }
   },
   "outputs": [],
   "source": [
    "tu_area = mytools.gisn.add_area(tu)"
   ]
  },
  {
   "cell_type": "code",
   "execution_count": null,
   "metadata": {
    "ExecuteTime": {
     "end_time": "2020-07-30T11:53:00.930394Z",
     "start_time": "2020-07-30T11:53:00.924893Z"
    }
   },
   "outputs": [],
   "source": [
    "tu_area['面积'].sum()"
   ]
  },
  {
   "cell_type": "code",
   "execution_count": null,
   "metadata": {
    "ExecuteTime": {
     "end_time": "2020-07-22T01:15:04.381750Z",
     "start_time": "2020-07-22T01:15:04.343745Z"
    }
   },
   "outputs": [],
   "source": [
    "data = pd.read_clipboard()"
   ]
  },
  {
   "cell_type": "code",
   "execution_count": null,
   "metadata": {
    "ExecuteTime": {
     "end_time": "2020-07-22T01:19:29.911968Z",
     "start_time": "2020-07-22T01:19:29.907968Z"
    }
   },
   "outputs": [],
   "source": [
    "data.shape"
   ]
  },
  {
   "cell_type": "code",
   "execution_count": null,
   "metadata": {
    "ExecuteTime": {
     "end_time": "2020-07-22T01:15:07.827188Z",
     "start_time": "2020-07-22T01:15:07.811686Z"
    }
   },
   "outputs": [],
   "source": [
    "data.head(1)"
   ]
  },
  {
   "cell_type": "code",
   "execution_count": null,
   "metadata": {
    "ExecuteTime": {
     "end_time": "2020-07-22T01:37:06.765671Z",
     "start_time": "2020-07-22T01:37:06.002075Z"
    }
   },
   "outputs": [],
   "source": [
    "duiying = pd.DataFrame(data.groupby('id_1').apply(lambda x: x['id_2'].str.cat(sep=','))).reset_index().rename(columns={0:'id_2'})"
   ]
  },
  {
   "cell_type": "code",
   "execution_count": null,
   "metadata": {
    "ExecuteTime": {
     "end_time": "2020-07-22T01:37:30.684209Z",
     "start_time": "2020-07-22T01:37:30.638703Z"
    }
   },
   "outputs": [],
   "source": [
    "duiying.to_clipboard()"
   ]
  },
  {
   "cell_type": "code",
   "execution_count": null,
   "metadata": {
    "ExecuteTime": {
     "end_time": "2020-07-22T01:36:02.666032Z",
     "start_time": "2020-07-22T01:36:02.652530Z"
    }
   },
   "outputs": [],
   "source": [
    "duiying.rename(columns={'0':'id_2'})"
   ]
  },
  {
   "cell_type": "code",
   "execution_count": null,
   "metadata": {},
   "outputs": [],
   "source": [
    "d"
   ]
  },
  {
   "cell_type": "code",
   "execution_count": null,
   "metadata": {},
   "outputs": [],
   "source": []
  },
  {
   "cell_type": "code",
   "execution_count": null,
   "metadata": {},
   "outputs": [],
   "source": []
  },
  {
   "cell_type": "code",
   "execution_count": null,
   "metadata": {},
   "outputs": [],
   "source": []
  },
  {
   "cell_type": "code",
   "execution_count": null,
   "metadata": {
    "ExecuteTime": {
     "end_time": "2020-07-18T03:43:58.298003Z",
     "start_time": "2020-07-18T03:43:37.514364Z"
    }
   },
   "outputs": [],
   "source": [
    "gsm= pd.read_excel('G:/1-规划/1其他工作输出/20200718恩施汛情GSM退网/1-原始数据/使用/恩施GSM数据.xlsx',encoding='gbk')"
   ]
  },
  {
   "cell_type": "code",
   "execution_count": null,
   "metadata": {
    "ExecuteTime": {
     "end_time": "2020-07-18T03:44:01.772444Z",
     "start_time": "2020-07-18T03:44:00.633300Z"
    }
   },
   "outputs": [],
   "source": [
    "gsm_changjing = mytools.gisn.points_coverage_merge(gsm,'经度','纬度')"
   ]
  },
  {
   "cell_type": "code",
   "execution_count": null,
   "metadata": {
    "ExecuteTime": {
     "end_time": "2020-07-18T03:44:04.191752Z",
     "start_time": "2020-07-18T03:44:04.186751Z"
    }
   },
   "outputs": [],
   "source": [
    "gsm_changjing['制式'] = 'FDD900'"
   ]
  },
  {
   "cell_type": "code",
   "execution_count": null,
   "metadata": {
    "ExecuteTime": {
     "end_time": "2020-07-18T03:44:06.533049Z",
     "start_time": "2020-07-18T03:44:06.512046Z"
    }
   },
   "outputs": [],
   "source": [
    "gsm_jl = mytools.gisn.changjing_distance(gsm_changjing,'区域类型','制式')"
   ]
  },
  {
   "cell_type": "code",
   "execution_count": null,
   "metadata": {
    "ExecuteTime": {
     "end_time": "2020-07-18T03:44:08.846343Z",
     "start_time": "2020-07-18T03:44:08.839842Z"
    }
   },
   "outputs": [],
   "source": [
    "gsm_jl['distance2'] = gsm_jl['distance']/2"
   ]
  },
  {
   "cell_type": "code",
   "execution_count": null,
   "metadata": {
    "ExecuteTime": {
     "end_time": "2020-07-18T04:27:52.167962Z",
     "start_time": "2020-07-18T04:27:51.469373Z"
    }
   },
   "outputs": [],
   "source": [
    "gsm_jl_p = mytools.gisn.add_points(gsm_jl,'经度','纬度')"
   ]
  },
  {
   "cell_type": "code",
   "execution_count": null,
   "metadata": {
    "ExecuteTime": {
     "end_time": "2020-07-18T04:24:54.013839Z",
     "start_time": "2020-07-18T04:24:54.007839Z"
    }
   },
   "outputs": [],
   "source": [
    "gsm_jl_use['distance2'] = pd.to_numeric(gsm_jl_use['distance2'])"
   ]
  },
  {
   "cell_type": "code",
   "execution_count": null,
   "metadata": {
    "ExecuteTime": {
     "end_time": "2020-07-18T04:37:49.799852Z",
     "start_time": "2020-07-18T04:37:47.193521Z"
    },
    "scrolled": true
   },
   "outputs": [],
   "source": [
    "gsm_buffe = mytools.gisn.buffer_df(gsm_jl_p ,'distance2')"
   ]
  },
  {
   "cell_type": "code",
   "execution_count": null,
   "metadata": {
    "ExecuteTime": {
     "end_time": "2020-07-18T04:42:18.375457Z",
     "start_time": "2020-07-18T04:42:17.662366Z"
    }
   },
   "outputs": [],
   "source": [
    "lte = pd.read_excel('G:/1-规划/1其他工作输出/20200718恩施汛情GSM退网/1-原始数据/使用/2-2g站点周边4g站点情况/移动lte站址.xlsx')"
   ]
  },
  {
   "cell_type": "code",
   "execution_count": null,
   "metadata": {
    "ExecuteTime": {
     "end_time": "2020-07-18T04:44:28.444973Z",
     "start_time": "2020-07-18T04:44:28.386966Z"
    }
   },
   "outputs": [],
   "source": [
    "lte_p = mytools.gisn.add_points(lte,'CellLongitude','CellLatitude')"
   ]
  },
  {
   "cell_type": "code",
   "execution_count": null,
   "metadata": {
    "ExecuteTime": {
     "end_time": "2020-07-18T04:45:32.175566Z",
     "start_time": "2020-07-18T04:45:30.497853Z"
    }
   },
   "outputs": [],
   "source": [
    "res = gpd.sjoin(gsm_buffe,lte_p)"
   ]
  },
  {
   "cell_type": "code",
   "execution_count": null,
   "metadata": {
    "ExecuteTime": {
     "end_time": "2020-07-18T05:23:10.787373Z",
     "start_time": "2020-07-18T05:23:10.781373Z"
    }
   },
   "outputs": [],
   "source": [
    "shifen = pd.read_clipboard()"
   ]
  },
  {
   "cell_type": "code",
   "execution_count": null,
   "metadata": {},
   "outputs": [],
   "source": [
    "lte_data = pd.read_clipboard()"
   ]
  },
  {
   "cell_type": "code",
   "execution_count": null,
   "metadata": {
    "ExecuteTime": {
     "end_time": "2020-07-18T06:31:06.055367Z",
     "start_time": "2020-07-18T06:31:06.052366Z"
    }
   },
   "outputs": [],
   "source": [
    "shifen['juli'] = 100"
   ]
  },
  {
   "cell_type": "code",
   "execution_count": null,
   "metadata": {
    "ExecuteTime": {
     "end_time": "2020-07-18T06:31:09.073250Z",
     "start_time": "2020-07-18T06:31:08.887726Z"
    }
   },
   "outputs": [],
   "source": [
    "shifen_buffer  = mytools.gisn.add_buffer_df(shifen,'经度','纬度','juli')"
   ]
  },
  {
   "cell_type": "code",
   "execution_count": null,
   "metadata": {
    "ExecuteTime": {
     "end_time": "2020-07-18T06:31:11.886607Z",
     "start_time": "2020-07-18T06:31:11.857603Z"
    }
   },
   "outputs": [],
   "source": [
    "lte_p  = mytools.gisn.add_points(lte_data,'RRU经度','RRU纬度')"
   ]
  },
  {
   "cell_type": "code",
   "execution_count": null,
   "metadata": {
    "ExecuteTime": {
     "end_time": "2020-07-18T06:31:14.881987Z",
     "start_time": "2020-07-18T06:31:14.708465Z"
    }
   },
   "outputs": [],
   "source": [
    "res = gpd.sjoin(shifen_buffer,lte_p)"
   ]
  },
  {
   "cell_type": "code",
   "execution_count": null,
   "metadata": {
    "ExecuteTime": {
     "end_time": "2020-07-18T07:50:34.980943Z",
     "start_time": "2020-07-18T07:50:34.854927Z"
    }
   },
   "outputs": [],
   "source": [
    "res.drop_duplicates('基站名称').to_clipboard()"
   ]
  },
  {
   "cell_type": "code",
   "execution_count": null,
   "metadata": {},
   "outputs": [],
   "source": []
  },
  {
   "cell_type": "code",
   "execution_count": null,
   "metadata": {
    "ExecuteTime": {
     "end_time": "2020-07-18T07:59:00.304111Z",
     "start_time": "2020-07-18T07:59:00.226601Z"
    }
   },
   "outputs": [],
   "source": [
    "ltechangjing = pd.read_clipboard()"
   ]
  },
  {
   "cell_type": "code",
   "execution_count": null,
   "metadata": {
    "ExecuteTime": {
     "end_time": "2020-07-18T07:59:21.136757Z",
     "start_time": "2020-07-18T07:59:17.568303Z"
    }
   },
   "outputs": [],
   "source": [
    "lte_changjing = mytools.gisn.points_coverage_merge(ltechangjing,'RRU经度','RRU纬度')"
   ]
  },
  {
   "cell_type": "code",
   "execution_count": null,
   "metadata": {
    "ExecuteTime": {
     "end_time": "2020-07-18T07:59:50.619500Z",
     "start_time": "2020-07-18T07:59:50.442978Z"
    }
   },
   "outputs": [],
   "source": [
    "lte_changjing.to_clipboard()"
   ]
  },
  {
   "cell_type": "code",
   "execution_count": null,
   "metadata": {},
   "outputs": [],
   "source": []
  },
  {
   "cell_type": "code",
   "execution_count": null,
   "metadata": {},
   "outputs": [],
   "source": []
  },
  {
   "cell_type": "code",
   "execution_count": null,
   "metadata": {
    "ExecuteTime": {
     "end_time": "2020-07-18T07:55:27.288562Z",
     "start_time": "2020-07-18T07:55:27.223553Z"
    }
   },
   "outputs": [],
   "source": [
    "gsm_changjing = pd.read_clipboard()"
   ]
  },
  {
   "cell_type": "code",
   "execution_count": null,
   "metadata": {
    "ExecuteTime": {
     "end_time": "2020-07-18T07:56:11.002613Z",
     "start_time": "2020-07-18T07:56:08.537300Z"
    }
   },
   "outputs": [],
   "source": [
    "gsm_changjing = mytools.gisn.points_coverage_merge(gsm_changjing,'经度','纬度')"
   ]
  },
  {
   "cell_type": "code",
   "execution_count": null,
   "metadata": {
    "ExecuteTime": {
     "end_time": "2020-07-18T07:56:44.213330Z",
     "start_time": "2020-07-18T07:56:44.145321Z"
    }
   },
   "outputs": [],
   "source": [
    "gsm_changjing.to_clipboard()"
   ]
  },
  {
   "cell_type": "code",
   "execution_count": null,
   "metadata": {},
   "outputs": [],
   "source": []
  },
  {
   "cell_type": "code",
   "execution_count": null,
   "metadata": {},
   "outputs": [],
   "source": []
  },
  {
   "cell_type": "code",
   "execution_count": null,
   "metadata": {},
   "outputs": [],
   "source": []
  },
  {
   "cell_type": "code",
   "execution_count": null,
   "metadata": {},
   "outputs": [],
   "source": []
  },
  {
   "cell_type": "code",
   "execution_count": null,
   "metadata": {
    "ExecuteTime": {
     "end_time": "2020-07-18T06:41:37.031490Z",
     "start_time": "2020-07-18T06:41:37.011988Z"
    }
   },
   "outputs": [],
   "source": [
    "gsm_atu = pd.read_clipboard()"
   ]
  },
  {
   "cell_type": "code",
   "execution_count": null,
   "metadata": {
    "ExecuteTime": {
     "end_time": "2020-07-18T06:42:07.859905Z",
     "start_time": "2020-07-18T06:42:07.607873Z"
    }
   },
   "outputs": [],
   "source": [
    "lte_atu = pd.read_clipboard()"
   ]
  },
  {
   "cell_type": "code",
   "execution_count": null,
   "metadata": {
    "ExecuteTime": {
     "end_time": "2020-07-18T06:50:48.154474Z",
     "start_time": "2020-07-18T06:50:47.751923Z"
    }
   },
   "outputs": [],
   "source": [
    "lte_atu['enodeb'] = lte_atu['cgi'].str.split('-',expand=True)[2]"
   ]
  },
  {
   "cell_type": "code",
   "execution_count": null,
   "metadata": {
    "ExecuteTime": {
     "end_time": "2020-07-18T06:39:07.147458Z",
     "start_time": "2020-07-18T06:38:55.029919Z"
    }
   },
   "outputs": [],
   "source": [
    "volte = pd.read_csv('G:/1-规划/1其他工作输出/20200718恩施汛情GSM退网/1-原始数据/话务量/话务量/VOLTE.CSV',encoding='gbk')"
   ]
  },
  {
   "cell_type": "code",
   "execution_count": null,
   "metadata": {
    "ExecuteTime": {
     "end_time": "2020-07-18T06:46:30.564764Z",
     "start_time": "2020-07-18T06:46:30.384742Z"
    }
   },
   "outputs": [],
   "source": [
    "volte['Enodeb标识符'] = volte['Enodeb标识符'].fillna('460-00-无')\n",
    "\n",
    "volte['enodeb'] = volte['Enodeb标识符'].str.split('-',expand=True)[2]"
   ]
  },
  {
   "cell_type": "code",
   "execution_count": null,
   "metadata": {
    "ExecuteTime": {
     "end_time": "2020-07-18T06:39:40.762726Z",
     "start_time": "2020-07-18T06:39:37.890861Z"
    }
   },
   "outputs": [],
   "source": [
    "gsm_liuliang = pd.read_csv('G:/1-规划/1其他工作输出/20200718恩施汛情GSM退网/1-原始数据/话务量/话务量/GSMHUAWULIANG.CSV',encoding='gbk')"
   ]
  },
  {
   "cell_type": "code",
   "execution_count": null,
   "metadata": {
    "ExecuteTime": {
     "end_time": "2020-07-18T06:40:10.799040Z",
     "start_time": "2020-07-18T06:40:10.793540Z"
    }
   },
   "outputs": [],
   "source": [
    "gsm_liuliang.columns"
   ]
  },
  {
   "cell_type": "code",
   "execution_count": null,
   "metadata": {
    "ExecuteTime": {
     "end_time": "2020-07-18T06:53:33.387956Z",
     "start_time": "2020-07-18T06:53:08.517298Z"
    }
   },
   "outputs": [],
   "source": [
    "lte_resuls = volte.merge(lte_atu,how='left',on='enodeb')"
   ]
  },
  {
   "cell_type": "code",
   "execution_count": null,
   "metadata": {
    "ExecuteTime": {
     "end_time": "2020-07-18T06:53:54.632654Z",
     "start_time": "2020-07-18T06:53:54.619152Z"
    }
   },
   "outputs": [],
   "source": [
    "gsm_atu.columns"
   ]
  },
  {
   "cell_type": "code",
   "execution_count": null,
   "metadata": {
    "ExecuteTime": {
     "end_time": "2020-07-18T06:54:40.871525Z",
     "start_time": "2020-07-18T06:54:38.177183Z"
    }
   },
   "outputs": [],
   "source": [
    "gsm_resuls = gsm_liuliang.merge(gsm_atu,how='left',on='CGI')"
   ]
  },
  {
   "cell_type": "code",
   "execution_count": null,
   "metadata": {
    "ExecuteTime": {
     "end_time": "2020-07-18T06:56:14.983476Z",
     "start_time": "2020-07-18T06:56:14.978976Z"
    }
   },
   "outputs": [],
   "source": [
    "gsm_resuls.columns"
   ]
  },
  {
   "cell_type": "code",
   "execution_count": null,
   "metadata": {},
   "outputs": [],
   "source": []
  },
  {
   "cell_type": "code",
   "execution_count": null,
   "metadata": {
    "ExecuteTime": {
     "end_time": "2020-07-18T08:44:01.147575Z",
     "start_time": "2020-07-18T08:44:01.125072Z"
    }
   },
   "outputs": [],
   "source": [
    "gsm_changjing = pd.read_clipboard()"
   ]
  },
  {
   "cell_type": "code",
   "execution_count": null,
   "metadata": {
    "ExecuteTime": {
     "end_time": "2020-07-18T08:44:27.671443Z",
     "start_time": "2020-07-18T08:44:27.666442Z"
    }
   },
   "outputs": [],
   "source": [
    "gsm_changjing.columns"
   ]
  },
  {
   "cell_type": "code",
   "execution_count": null,
   "metadata": {
    "ExecuteTime": {
     "end_time": "2020-07-18T08:44:37.292164Z",
     "start_time": "2020-07-18T08:44:37.234157Z"
    }
   },
   "outputs": [],
   "source": [
    "gsm_resuls_res = gsm_resuls.merge(gsm_changjing,how='left',on='CGI')"
   ]
  },
  {
   "cell_type": "code",
   "execution_count": null,
   "metadata": {
    "ExecuteTime": {
     "end_time": "2020-07-18T08:47:40.226394Z",
     "start_time": "2020-07-18T08:47:40.187389Z"
    }
   },
   "outputs": [],
   "source": [
    "gsm_resuls2 = gsm_resuls_res[(gsm_resuls_res['场景'] == '主城区')|(gsm_resuls_res['场景'] == '一般城区')]"
   ]
  },
  {
   "cell_type": "code",
   "execution_count": null,
   "metadata": {},
   "outputs": [],
   "source": []
  },
  {
   "cell_type": "code",
   "execution_count": null,
   "metadata": {
    "ExecuteTime": {
     "end_time": "2020-07-18T08:48:30.472775Z",
     "start_time": "2020-07-18T08:48:30.464774Z"
    }
   },
   "outputs": [],
   "source": [
    "gsm_resuls_res.agg({'小区总话务量':'sum'})"
   ]
  },
  {
   "cell_type": "code",
   "execution_count": null,
   "metadata": {
    "ExecuteTime": {
     "end_time": "2020-07-18T08:48:32.998095Z",
     "start_time": "2020-07-18T08:48:32.990094Z"
    }
   },
   "outputs": [],
   "source": [
    "gsm_resuls2.agg({'小区总话务量':'sum'})"
   ]
  },
  {
   "cell_type": "code",
   "execution_count": null,
   "metadata": {
    "ExecuteTime": {
     "end_time": "2020-07-18T07:00:37.958370Z",
     "start_time": "2020-07-18T07:00:37.946368Z"
    }
   },
   "outputs": [],
   "source": [
    "gsm_resuls.groupby('atu').agg({'小区总话务量':'sum'})"
   ]
  },
  {
   "cell_type": "code",
   "execution_count": null,
   "metadata": {
    "ExecuteTime": {
     "end_time": "2020-07-18T08:55:53.120984Z",
     "start_time": "2020-07-18T08:55:53.066477Z"
    }
   },
   "outputs": [],
   "source": [
    "lte_changjing = pd.read_clipboard()"
   ]
  },
  {
   "cell_type": "code",
   "execution_count": null,
   "metadata": {
    "ExecuteTime": {
     "end_time": "2020-07-18T08:57:28.959154Z",
     "start_time": "2020-07-18T08:57:28.950653Z"
    }
   },
   "outputs": [],
   "source": [
    "lte_changjing.head(1)"
   ]
  },
  {
   "cell_type": "code",
   "execution_count": null,
   "metadata": {
    "ExecuteTime": {
     "end_time": "2020-07-18T08:55:58.191128Z",
     "start_time": "2020-07-18T08:55:58.086114Z"
    }
   },
   "outputs": [],
   "source": [
    "lte_changjing['小区CGI(*)'] = lte_changjing['小区CGI(*)'].fillna('460-00-无')\n",
    "\n",
    "lte_changjing['enodeb'] = lte_changjing['小区CGI(*)'].str.split('-',expand=True)[2]"
   ]
  },
  {
   "cell_type": "code",
   "execution_count": null,
   "metadata": {
    "ExecuteTime": {
     "end_time": "2020-07-18T08:59:03.286632Z",
     "start_time": "2020-07-18T08:59:03.241626Z"
    }
   },
   "outputs": [],
   "source": [
    "lte_resuls['enodeb'] =  lte_resuls['enodeb'].replace('460-00-','')"
   ]
  },
  {
   "cell_type": "code",
   "execution_count": null,
   "metadata": {
    "ExecuteTime": {
     "end_time": "2020-07-18T08:59:23.949756Z",
     "start_time": "2020-07-18T08:59:23.320676Z"
    }
   },
   "outputs": [],
   "source": [
    "lte_resuls2 = lte_resuls.merge(lte_changjing,how='left',on='enodeb')"
   ]
  },
  {
   "cell_type": "code",
   "execution_count": null,
   "metadata": {
    "ExecuteTime": {
     "end_time": "2020-07-18T08:59:39.110181Z",
     "start_time": "2020-07-18T08:59:38.523106Z"
    }
   },
   "outputs": [],
   "source": [
    "lte_resuls3 = lte_resuls2[(lte_resuls2['场景'] == '主城区')|(lte_resuls2['场景'] == '一般城区')]"
   ]
  },
  {
   "cell_type": "code",
   "execution_count": null,
   "metadata": {
    "ExecuteTime": {
     "end_time": "2020-07-18T07:02:15.774291Z",
     "start_time": "2020-07-18T07:02:15.017195Z"
    }
   },
   "outputs": [],
   "source": [
    "lte_resuls = lte_resuls[lte_resuls['地市'] == '恩施']"
   ]
  },
  {
   "cell_type": "code",
   "execution_count": null,
   "metadata": {
    "ExecuteTime": {
     "end_time": "2020-07-18T09:01:52.107569Z",
     "start_time": "2020-07-18T09:01:52.094068Z"
    }
   },
   "outputs": [],
   "source": [
    "lte_resuls3.agg({'VoLTE语音话务量':'sum'})"
   ]
  },
  {
   "cell_type": "code",
   "execution_count": null,
   "metadata": {
    "ExecuteTime": {
     "end_time": "2020-07-18T09:01:54.626889Z",
     "start_time": "2020-07-18T09:01:54.611387Z"
    }
   },
   "outputs": [],
   "source": [
    "lte_resuls2.agg({'VoLTE语音话务量':'sum'})"
   ]
  },
  {
   "cell_type": "code",
   "execution_count": null,
   "metadata": {},
   "outputs": [],
   "source": []
  },
  {
   "cell_type": "code",
   "execution_count": null,
   "metadata": {
    "ExecuteTime": {
     "end_time": "2020-07-18T09:01:32.791617Z",
     "start_time": "2020-07-18T09:01:32.783115Z"
    }
   },
   "outputs": [],
   "source": [
    "lte_resuls.shape"
   ]
  },
  {
   "cell_type": "code",
   "execution_count": null,
   "metadata": {},
   "outputs": [],
   "source": []
  },
  {
   "cell_type": "code",
   "execution_count": null,
   "metadata": {
    "ExecuteTime": {
     "end_time": "2020-07-18T05:55:45.276062Z",
     "start_time": "2020-07-18T05:55:45.214054Z"
    }
   },
   "outputs": [],
   "source": [
    "data = pd.read_clipboard()"
   ]
  },
  {
   "cell_type": "code",
   "execution_count": null,
   "metadata": {
    "ExecuteTime": {
     "end_time": "2020-07-18T05:57:14.389378Z",
     "start_time": "2020-07-18T05:57:12.174597Z"
    }
   },
   "outputs": [],
   "source": [
    "data_atu = mytools.gisn.points_coverage_merge(data,'经度','纬度',atu,['atu'])"
   ]
  },
  {
   "cell_type": "code",
   "execution_count": null,
   "metadata": {
    "ExecuteTime": {
     "end_time": "2020-07-18T05:57:23.181994Z",
     "start_time": "2020-07-18T05:57:23.031475Z"
    }
   },
   "outputs": [],
   "source": [
    "data_atu.to_clipboard()"
   ]
  },
  {
   "cell_type": "code",
   "execution_count": null,
   "metadata": {},
   "outputs": [],
   "source": []
  },
  {
   "cell_type": "code",
   "execution_count": null,
   "metadata": {
    "ExecuteTime": {
     "end_time": "2020-07-18T05:57:07.302478Z",
     "start_time": "2020-07-18T05:57:07.298477Z"
    }
   },
   "outputs": [],
   "source": [
    "atu['atu'] = 1"
   ]
  },
  {
   "cell_type": "code",
   "execution_count": null,
   "metadata": {
    "ExecuteTime": {
     "end_time": "2020-07-18T02:53:40.774826Z",
     "start_time": "2020-07-18T02:53:38.576547Z"
    }
   },
   "outputs": [],
   "source": [
    "atu = gpd.read_file('G:/1-规划/图层/ATU测试区域/ATU网格总.TAB',encoding='gbk')"
   ]
  },
  {
   "cell_type": "code",
   "execution_count": null,
   "metadata": {
    "ExecuteTime": {
     "end_time": "2020-07-18T02:55:57.213652Z",
     "start_time": "2020-07-18T02:55:55.921988Z"
    }
   },
   "outputs": [],
   "source": [
    "gsm_p = mytools.gisn.add_points(gsm,'经度','纬度')"
   ]
  },
  {
   "cell_type": "code",
   "execution_count": null,
   "metadata": {
    "ExecuteTime": {
     "end_time": "2020-07-18T02:56:33.415749Z",
     "start_time": "2020-07-18T02:56:26.048313Z"
    }
   },
   "outputs": [],
   "source": [
    "res  = gpd.sjoin(atu,gsm_p)"
   ]
  },
  {
   "cell_type": "code",
   "execution_count": null,
   "metadata": {
    "ExecuteTime": {
     "end_time": "2020-07-18T02:56:43.837572Z",
     "start_time": "2020-07-18T02:56:35.624029Z"
    }
   },
   "outputs": [],
   "source": [
    "res.to_clipboard()"
   ]
  },
  {
   "cell_type": "code",
   "execution_count": null,
   "metadata": {
    "ExecuteTime": {
     "end_time": "2020-07-16T07:41:10.315823Z",
     "start_time": "2020-07-16T07:41:06.575848Z"
    }
   },
   "outputs": [],
   "source": [
    "kd = pd.read_excel('G:/1-规划/评估/覆盖空洞/20200712第四版本/3-拆分后的空洞/覆盖空19481个添加场景区分大中小微.xlsx')"
   ]
  },
  {
   "cell_type": "code",
   "execution_count": null,
   "metadata": {
    "ExecuteTime": {
     "end_time": "2020-07-16T07:42:08.544217Z",
     "start_time": "2020-07-16T07:42:08.540217Z"
    }
   },
   "outputs": [],
   "source": [
    "kd.columns"
   ]
  },
  {
   "cell_type": "code",
   "execution_count": null,
   "metadata": {
    "ExecuteTime": {
     "end_time": "2020-07-16T07:41:39.722557Z",
     "start_time": "2020-07-16T07:41:39.512031Z"
    }
   },
   "outputs": [],
   "source": [
    "tu = mytools.gisn.maps('地市区县')"
   ]
  },
  {
   "cell_type": "code",
   "execution_count": null,
   "metadata": {
    "ExecuteTime": {
     "end_time": "2020-07-16T07:42:52.145754Z",
     "start_time": "2020-07-16T07:42:50.086992Z"
    }
   },
   "outputs": [],
   "source": [
    "res = mytools.gisn.points_coverage_merge(kd,'lon','lat',coverage=tu,df_merge_coverage_columns=['区县'],merge_only_right_mark='无')"
   ]
  },
  {
   "cell_type": "code",
   "execution_count": null,
   "metadata": {
    "ExecuteTime": {
     "end_time": "2020-07-16T07:43:04.999386Z",
     "start_time": "2020-07-16T07:43:04.722351Z"
    }
   },
   "outputs": [],
   "source": [
    "res.to_clipboard()"
   ]
  },
  {
   "cell_type": "code",
   "execution_count": null,
   "metadata": {
    "ExecuteTime": {
     "end_time": "2020-07-15T04:54:05.916508Z",
     "start_time": "2020-07-15T04:54:05.856501Z"
    }
   },
   "outputs": [],
   "source": [
    "tu = gpd.read_file('C:/Users/Administrator/Desktop/叶畅/县级行政界线.TAB',encoding='gbk')"
   ]
  },
  {
   "cell_type": "code",
   "execution_count": null,
   "metadata": {
    "ExecuteTime": {
     "end_time": "2020-07-21T09:56:49.578599Z",
     "start_time": "2020-07-21T09:56:41.852617Z"
    }
   },
   "outputs": [],
   "source": [
    "gongcan = pd.read_csv('g:/1-规划/工参/工参数据/ltejizhan20200715.csv',encoding='gbk')"
   ]
  },
  {
   "cell_type": "code",
   "execution_count": null,
   "metadata": {
    "ExecuteTime": {
     "end_time": "2020-07-21T09:57:03.396853Z",
     "start_time": "2020-07-21T09:57:02.421729Z"
    }
   },
   "outputs": [],
   "source": [
    "gongcan.groupby('归属区县').count()"
   ]
  },
  {
   "cell_type": "code",
   "execution_count": null,
   "metadata": {},
   "outputs": [],
   "source": []
  },
  {
   "cell_type": "code",
   "execution_count": null,
   "metadata": {
    "ExecuteTime": {
     "end_time": "2020-07-16T05:20:00.162750Z",
     "start_time": "2020-07-16T05:20:00.152749Z"
    }
   },
   "outputs": [],
   "source": [
    "gongcan.columns"
   ]
  },
  {
   "cell_type": "code",
   "execution_count": null,
   "metadata": {
    "ExecuteTime": {
     "end_time": "2020-07-16T05:20:47.592273Z",
     "start_time": "2020-07-16T05:20:46.882683Z"
    }
   },
   "outputs": [],
   "source": [
    "gongcan[['小区CGI(*)', '所属地区','厂家名称']].to_clipboard(index=False)"
   ]
  },
  {
   "cell_type": "code",
   "execution_count": null,
   "metadata": {
    "ExecuteTime": {
     "end_time": "2020-07-15T08:24:39.102719Z",
     "start_time": "2020-07-15T08:24:38.695168Z"
    }
   },
   "outputs": [],
   "source": [
    "gongcan = data.copy()\n",
    "gongcan = gongcan.loc[(gongcan['RRU经度']>108)&\n",
    "            (gongcan['RRU经度']<117)&\n",
    "            (gongcan['RRU纬度']>28)&\n",
    "            (gongcan['RRU纬度']<34)&\n",
    "           (gongcan['方位角'].notnull())]"
   ]
  },
  {
   "cell_type": "code",
   "execution_count": null,
   "metadata": {
    "ExecuteTime": {
     "end_time": "2020-07-15T08:25:36.070953Z",
     "start_time": "2020-07-15T08:25:36.043950Z"
    }
   },
   "outputs": [],
   "source": [
    "gongcan_use = gongcan[['小区CGI(*)', '小区中文名', '网络制式(TDD/FDD)', 'TDL规划站号(新)', 'RRU经度', 'RRU纬度']]"
   ]
  },
  {
   "cell_type": "code",
   "execution_count": null,
   "metadata": {
    "ExecuteTime": {
     "end_time": "2020-07-15T08:26:25.665751Z",
     "start_time": "2020-07-15T08:25:50.834828Z"
    }
   },
   "outputs": [],
   "source": [
    "res = mytools.gisn.points_coverage_merge(gongcan_use,'RRU经度','RRU纬度',coverage=tu,\n",
    "    df_merge_coverage_columns=['NAME'],\n",
    "    merge_only_right_mark='无')"
   ]
  },
  {
   "cell_type": "code",
   "execution_count": null,
   "metadata": {},
   "outputs": [],
   "source": []
  },
  {
   "cell_type": "code",
   "execution_count": null,
   "metadata": {
    "ExecuteTime": {
     "end_time": "2020-07-15T08:26:26.131810Z",
     "start_time": "2020-07-15T08:26:26.121309Z"
    }
   },
   "outputs": [],
   "source": [
    "res.head(1)"
   ]
  },
  {
   "cell_type": "code",
   "execution_count": null,
   "metadata": {
    "ExecuteTime": {
     "end_time": "2020-07-15T08:27:03.705582Z",
     "start_time": "2020-07-15T08:27:01.201764Z"
    }
   },
   "outputs": [],
   "source": [
    "res.to_csv('c:/Users/Administrator/Desktop/叶畅/res_region.csv',encoding='gbk',index=False)"
   ]
  },
  {
   "cell_type": "code",
   "execution_count": null,
   "metadata": {
    "ExecuteTime": {
     "end_time": "2020-07-15T08:26:29.094687Z",
     "start_time": "2020-07-15T08:26:26.561365Z"
    }
   },
   "outputs": [],
   "source": [
    "mytools.sound()"
   ]
  },
  {
   "cell_type": "code",
   "execution_count": null,
   "metadata": {
    "ExecuteTime": {
     "end_time": "2020-07-14T08:52:09.777919Z",
     "start_time": "2020-07-14T08:52:09.698409Z"
    }
   },
   "outputs": [],
   "source": [
    "tu = mytools.gisn.maps()"
   ]
  },
  {
   "cell_type": "code",
   "execution_count": null,
   "metadata": {
    "ExecuteTime": {
     "end_time": "2020-07-14T08:52:36.962371Z",
     "start_time": "2020-07-14T08:52:36.539817Z"
    }
   },
   "outputs": [],
   "source": [
    "tu_area = mytools.gisn.add_area(tu)"
   ]
  },
  {
   "cell_type": "code",
   "execution_count": null,
   "metadata": {
    "ExecuteTime": {
     "end_time": "2020-07-14T08:52:42.879622Z",
     "start_time": "2020-07-14T08:52:42.822115Z"
    }
   },
   "outputs": [],
   "source": [
    "tu_area.head(1)"
   ]
  },
  {
   "cell_type": "code",
   "execution_count": null,
   "metadata": {
    "ExecuteTime": {
     "end_time": "2020-07-14T08:53:23.195742Z",
     "start_time": "2020-07-14T08:53:23.191241Z"
    }
   },
   "outputs": [],
   "source": [
    "tu_area_use = tu_area[['city','面积']]"
   ]
  },
  {
   "cell_type": "code",
   "execution_count": null,
   "metadata": {
    "ExecuteTime": {
     "end_time": "2020-07-14T08:53:30.112120Z",
     "start_time": "2020-07-14T08:53:30.080616Z"
    }
   },
   "outputs": [],
   "source": [
    "tu_area_use.to_clipboard()"
   ]
  },
  {
   "cell_type": "code",
   "execution_count": null,
   "metadata": {
    "ExecuteTime": {
     "end_time": "2020-07-13T10:55:58.924290Z",
     "start_time": "2020-07-13T10:55:58.921789Z"
    }
   },
   "outputs": [],
   "source": [
    "import winsound\n",
    "# import www_rc"
   ]
  },
  {
   "cell_type": "code",
   "execution_count": null,
   "metadata": {},
   "outputs": [],
   "source": []
  },
  {
   "cell_type": "code",
   "execution_count": null,
   "metadata": {},
   "outputs": [],
   "source": []
  },
  {
   "cell_type": "code",
   "execution_count": null,
   "metadata": {
    "ExecuteTime": {
     "end_time": "2020-07-13T10:56:02.529248Z",
     "start_time": "2020-07-13T10:56:01.307092Z"
    }
   },
   "outputs": [],
   "source": [
    "winsound.PlaySound('dog.wav', winsound.SND_FILENAME)"
   ]
  },
  {
   "cell_type": "code",
   "execution_count": null,
   "metadata": {},
   "outputs": [],
   "source": []
  },
  {
   "cell_type": "code",
   "execution_count": null,
   "metadata": {
    "ExecuteTime": {
     "end_time": "2020-07-10T05:46:21.504805Z",
     "start_time": "2020-07-10T05:45:39.368954Z"
    }
   },
   "outputs": [],
   "source": [
    "city = gpd.read_file('G:/1-规划/图层/HB_场景/剔除水系和湖泊后的湖北/剔除水系和湖泊后的湖北.shp',encoding='gbk')"
   ]
  },
  {
   "cell_type": "code",
   "execution_count": null,
   "metadata": {
    "ExecuteTime": {
     "end_time": "2020-07-10T05:51:35.969737Z",
     "start_time": "2020-07-10T05:51:35.964736Z"
    }
   },
   "outputs": [],
   "source": [
    "city.crs"
   ]
  },
  {
   "cell_type": "code",
   "execution_count": null,
   "metadata": {
    "ExecuteTime": {
     "end_time": "2020-07-10T05:46:48.105683Z",
     "start_time": "2020-07-10T05:46:43.528102Z"
    }
   },
   "outputs": [],
   "source": [
    "city.head(1)"
   ]
  },
  {
   "cell_type": "code",
   "execution_count": null,
   "metadata": {
    "ExecuteTime": {
     "end_time": "2020-07-10T05:46:59.447623Z",
     "start_time": "2020-07-10T05:46:59.441122Z"
    }
   },
   "outputs": [],
   "source": [
    "city.shape"
   ]
  },
  {
   "cell_type": "code",
   "execution_count": null,
   "metadata": {
    "ExecuteTime": {
     "end_time": "2020-07-10T05:51:24.851325Z",
     "start_time": "2020-07-10T05:51:24.777316Z"
    }
   },
   "outputs": [],
   "source": [
    "tu = mytools.gisn.maps('地市区县')"
   ]
  },
  {
   "cell_type": "code",
   "execution_count": null,
   "metadata": {
    "ExecuteTime": {
     "end_time": "2020-07-10T05:55:09.217816Z",
     "start_time": "2020-07-10T05:52:03.626249Z"
    }
   },
   "outputs": [],
   "source": [
    "city_sjoin = gpd.sjoin(city,tu)"
   ]
  },
  {
   "cell_type": "code",
   "execution_count": null,
   "metadata": {
    "ExecuteTime": {
     "end_time": "2020-07-10T06:12:00.254701Z",
     "start_time": "2020-07-10T06:11:47.708608Z"
    }
   },
   "outputs": [],
   "source": [
    "aa = city.within(tu)"
   ]
  },
  {
   "cell_type": "code",
   "execution_count": null,
   "metadata": {
    "ExecuteTime": {
     "end_time": "2020-07-10T07:07:46.854166Z",
     "start_time": "2020-07-10T07:07:46.846665Z"
    }
   },
   "outputs": [],
   "source": [
    "aa.count()"
   ]
  },
  {
   "cell_type": "code",
   "execution_count": null,
   "metadata": {
    "ExecuteTime": {
     "end_time": "2020-07-10T07:19:39.403148Z",
     "start_time": "2020-07-10T07:19:39.397647Z"
    }
   },
   "outputs": [],
   "source": [
    "aa"
   ]
  },
  {
   "cell_type": "code",
   "execution_count": null,
   "metadata": {},
   "outputs": [],
   "source": []
  },
  {
   "cell_type": "code",
   "execution_count": null,
   "metadata": {
    "ExecuteTime": {
     "end_time": "2020-07-10T05:55:41.703441Z",
     "start_time": "2020-07-10T05:55:41.679938Z"
    }
   },
   "outputs": [],
   "source": [
    "city_sjoin.shape"
   ]
  },
  {
   "cell_type": "code",
   "execution_count": null,
   "metadata": {
    "ExecuteTime": {
     "end_time": "2020-07-10T05:56:21.716522Z",
     "start_time": "2020-07-10T05:56:15.981794Z"
    }
   },
   "outputs": [],
   "source": [
    "city_sjoin.head(1)"
   ]
  },
  {
   "cell_type": "code",
   "execution_count": null,
   "metadata": {
    "ExecuteTime": {
     "end_time": "2020-07-10T05:56:58.395680Z",
     "start_time": "2020-07-10T05:56:58.368176Z"
    }
   },
   "outputs": [],
   "source": [
    "city_sjoin['type_leixing']= city_sjoin.type"
   ]
  },
  {
   "cell_type": "code",
   "execution_count": null,
   "metadata": {
    "ExecuteTime": {
     "end_time": "2020-07-10T05:57:58.565821Z",
     "start_time": "2020-07-10T05:57:58.560320Z"
    }
   },
   "outputs": [],
   "source": [
    "city_sjoin.columns"
   ]
  },
  {
   "cell_type": "code",
   "execution_count": null,
   "metadata": {
    "ExecuteTime": {
     "end_time": "2020-07-10T05:59:11.047024Z",
     "start_time": "2020-07-10T05:59:10.860001Z"
    }
   },
   "outputs": [],
   "source": [
    "city_sjoin[['id', 'index_right', '地市', '区县', 'type_leixing']].to_clipboard()"
   ]
  },
  {
   "cell_type": "code",
   "execution_count": null,
   "metadata": {},
   "outputs": [],
   "source": []
  },
  {
   "cell_type": "code",
   "execution_count": null,
   "metadata": {
    "ExecuteTime": {
     "end_time": "2020-07-10T02:36:23.166900Z",
     "start_time": "2020-07-10T02:36:13.263642Z"
    }
   },
   "outputs": [],
   "source": [
    "hupo = gpd.read_file('g:/1-规划/图层/HB_场景/湖泊、水库.tab',encoding='gbk')"
   ]
  },
  {
   "cell_type": "code",
   "execution_count": null,
   "metadata": {
    "ExecuteTime": {
     "end_time": "2020-07-10T02:36:23.216906Z",
     "start_time": "2020-07-10T02:36:23.206405Z"
    }
   },
   "outputs": [],
   "source": [
    "hupo.shape"
   ]
  },
  {
   "cell_type": "code",
   "execution_count": null,
   "metadata": {
    "ExecuteTime": {
     "end_time": "2020-07-10T02:36:26.697848Z",
     "start_time": "2020-07-10T02:36:26.680846Z"
    }
   },
   "outputs": [],
   "source": [
    "hupo.head(1)"
   ]
  },
  {
   "cell_type": "code",
   "execution_count": null,
   "metadata": {
    "ExecuteTime": {
     "end_time": "2020-07-10T02:37:01.019207Z",
     "start_time": "2020-07-10T02:37:01.010205Z"
    }
   },
   "outputs": [],
   "source": [
    "hupo['tyep_2'] = hupo.type"
   ]
  },
  {
   "cell_type": "code",
   "execution_count": null,
   "metadata": {
    "ExecuteTime": {
     "end_time": "2020-07-10T02:37:29.175282Z",
     "start_time": "2020-07-10T02:37:29.160280Z"
    }
   },
   "outputs": [],
   "source": [
    "hupo.groupby('tyep_2').count()"
   ]
  },
  {
   "cell_type": "code",
   "execution_count": null,
   "metadata": {
    "ExecuteTime": {
     "end_time": "2020-07-10T02:38:32.793360Z",
     "start_time": "2020-07-10T02:38:27.265658Z"
    }
   },
   "outputs": [],
   "source": [
    "hupo['geometry'] = hupo.buffer(0.00000001)"
   ]
  },
  {
   "cell_type": "code",
   "execution_count": null,
   "metadata": {
    "ExecuteTime": {
     "end_time": "2020-07-10T02:39:16.479908Z",
     "start_time": "2020-07-10T02:39:16.445403Z"
    }
   },
   "outputs": [],
   "source": [
    "hupo_use = hupo.loc[hupo['tyep_2']=='Polygon'].append(hupo.loc[hupo['tyep_2']=='MultiPolygon'].explode())"
   ]
  },
  {
   "cell_type": "code",
   "execution_count": null,
   "metadata": {
    "ExecuteTime": {
     "end_time": "2020-07-10T02:39:58.341724Z",
     "start_time": "2020-07-10T02:39:58.334223Z"
    }
   },
   "outputs": [],
   "source": [
    "hupo_use['tyep_2'] = hupo_use.type"
   ]
  },
  {
   "cell_type": "code",
   "execution_count": null,
   "metadata": {
    "ExecuteTime": {
     "end_time": "2020-07-10T02:41:54.257943Z",
     "start_time": "2020-07-10T02:41:19.108980Z"
    }
   },
   "outputs": [],
   "source": [
    "hupo_use.to_file('G:/1-规划/图层/HB_场景/湖泊/湖泊水库.shp',encoding='utf-8')"
   ]
  },
  {
   "cell_type": "code",
   "execution_count": null,
   "metadata": {
    "ExecuteTime": {
     "end_time": "2020-07-10T02:41:12.090589Z",
     "start_time": "2020-07-10T02:41:12.049083Z"
    }
   },
   "outputs": [],
   "source": [
    "hupo_use.head()"
   ]
  },
  {
   "cell_type": "code",
   "execution_count": null,
   "metadata": {},
   "outputs": [],
   "source": []
  },
  {
   "cell_type": "code",
   "execution_count": null,
   "metadata": {
    "ExecuteTime": {
     "end_time": "2020-07-09T16:38:16.876920Z",
     "start_time": "2020-07-09T16:37:44.617823Z"
    }
   },
   "outputs": [],
   "source": [
    "cf = gpd.read_file('c:/Users/Administrator/Desktop/cf.shp',encoding='utf-8')\n",
    "cf2 = gpd.read_file('c:/Users/Administrator/Desktop/cf2.shp',encoding='utf-8')"
   ]
  },
  {
   "cell_type": "code",
   "execution_count": null,
   "metadata": {
    "ExecuteTime": {
     "end_time": "2020-07-09T16:41:49.355401Z",
     "start_time": "2020-07-09T16:41:49.350901Z"
    }
   },
   "outputs": [],
   "source": [
    "tu = cf.append(cf2)"
   ]
  },
  {
   "cell_type": "code",
   "execution_count": null,
   "metadata": {
    "ExecuteTime": {
     "end_time": "2020-07-09T18:00:54.831500Z",
     "start_time": "2020-07-09T17:14:31.072508Z"
    }
   },
   "outputs": [],
   "source": [
    "tu2 = tu.buffer(0.00000001)"
   ]
  },
  {
   "cell_type": "code",
   "execution_count": null,
   "metadata": {
    "ExecuteTime": {
     "end_time": "2020-07-09T18:16:13.105106Z",
     "start_time": "2020-07-09T18:03:40.660058Z"
    }
   },
   "outputs": [],
   "source": [
    "tu2.to_file('c:/Users/Administrator/Desktop/timianzhuangshuixihou2.shp',encoding='utf-8')"
   ]
  },
  {
   "cell_type": "code",
   "execution_count": null,
   "metadata": {},
   "outputs": [],
   "source": []
  },
  {
   "cell_type": "code",
   "execution_count": null,
   "metadata": {},
   "outputs": [],
   "source": []
  },
  {
   "cell_type": "code",
   "execution_count": null,
   "metadata": {
    "ExecuteTime": {
     "end_time": "2020-07-09T16:21:32.737910Z",
     "start_time": "2020-07-09T16:21:32.730409Z"
    }
   },
   "outputs": [],
   "source": [
    "lou['geometry'] = lou.buffer(0.00000001)"
   ]
  },
  {
   "cell_type": "code",
   "execution_count": null,
   "metadata": {
    "ExecuteTime": {
     "end_time": "2020-07-09T16:21:34.421124Z",
     "start_time": "2020-07-09T16:21:34.380119Z"
    }
   },
   "outputs": [],
   "source": [
    "lou"
   ]
  },
  {
   "cell_type": "code",
   "execution_count": null,
   "metadata": {
    "ExecuteTime": {
     "end_time": "2020-07-09T16:21:56.526931Z",
     "start_time": "2020-07-09T16:21:56.428919Z"
    }
   },
   "outputs": [],
   "source": [
    "lou.explode().to_file('c:/Users/Administrator/Desktop/lou2.shp',encoding='utf-8')"
   ]
  },
  {
   "cell_type": "code",
   "execution_count": null,
   "metadata": {},
   "outputs": [],
   "source": []
  },
  {
   "cell_type": "code",
   "execution_count": null,
   "metadata": {},
   "outputs": [],
   "source": []
  },
  {
   "cell_type": "code",
   "execution_count": null,
   "metadata": {
    "ExecuteTime": {
     "end_time": "2020-07-09T16:08:35.059658Z",
     "start_time": "2020-07-09T09:26:05.567062Z"
    },
    "scrolled": true
   },
   "outputs": [],
   "source": [
    "res = gpd.overlay(lou,shuixi1_use_area_use,how='difference')"
   ]
  },
  {
   "cell_type": "code",
   "execution_count": null,
   "metadata": {
    "ExecuteTime": {
     "end_time": "2020-07-09T16:08:35.092662Z",
     "start_time": "2020-07-09T09:27:41.003Z"
    }
   },
   "outputs": [],
   "source": [
    "res.plot(figsize=[11,11])"
   ]
  },
  {
   "cell_type": "code",
   "execution_count": null,
   "metadata": {
    "ExecuteTime": {
     "end_time": "2020-07-09T09:24:41.129840Z",
     "start_time": "2020-07-09T09:24:40.853804Z"
    }
   },
   "outputs": [],
   "source": [
    "lou.plot(figsize=[11,11])"
   ]
  },
  {
   "cell_type": "code",
   "execution_count": null,
   "metadata": {},
   "outputs": [],
   "source": []
  },
  {
   "cell_type": "code",
   "execution_count": null,
   "metadata": {},
   "outputs": [],
   "source": []
  },
  {
   "cell_type": "code",
   "execution_count": null,
   "metadata": {},
   "outputs": [],
   "source": []
  },
  {
   "cell_type": "code",
   "execution_count": null,
   "metadata": {
    "ExecuteTime": {
     "end_time": "2020-07-09T09:26:03.690823Z",
     "start_time": "2020-07-09T09:25:48.521897Z"
    }
   },
   "outputs": [],
   "source": [
    "shuixi1_use_area_use = pd.read_pickle('G:/1-规划/评估/覆盖空洞/20200708第三版本/2-程序输出/2-计算空洞/水系图层_去水系准备.data')"
   ]
  },
  {
   "cell_type": "code",
   "execution_count": null,
   "metadata": {
    "ExecuteTime": {
     "end_time": "2020-07-09T00:53:29.762070Z",
     "start_time": "2020-07-09T00:53:29.718565Z"
    }
   },
   "outputs": [],
   "source": [
    "shuixi1_use_area_use = shuixi1_use_area_use[[ 'ID', 'SHAPE_Area', 'geometry', 'type']]"
   ]
  },
  {
   "cell_type": "code",
   "execution_count": null,
   "metadata": {
    "ExecuteTime": {
     "end_time": "2020-07-09T01:02:16.207921Z",
     "start_time": "2020-07-09T00:53:39.865353Z"
    }
   },
   "outputs": [],
   "source": [
    "shuixi1_use_area_use.to_file('d:/面状水系_zb.shp',encoding='utf-8')"
   ]
  },
  {
   "cell_type": "code",
   "execution_count": null,
   "metadata": {},
   "outputs": [],
   "source": []
  },
  {
   "cell_type": "code",
   "execution_count": null,
   "metadata": {},
   "outputs": [],
   "source": []
  },
  {
   "cell_type": "code",
   "execution_count": null,
   "metadata": {},
   "outputs": [],
   "source": []
  },
  {
   "cell_type": "code",
   "execution_count": null,
   "metadata": {
    "ExecuteTime": {
     "end_time": "2020-07-09T05:39:41.524607Z",
     "start_time": "2020-07-09T05:39:41.498104Z"
    }
   },
   "outputs": [],
   "source": [
    "tu_xian1_r=tu_xian1.dissolve('地市')"
   ]
  },
  {
   "cell_type": "code",
   "execution_count": null,
   "metadata": {
    "ExecuteTime": {
     "end_time": "2020-07-09T05:39:43.973918Z",
     "start_time": "2020-07-09T05:39:43.948915Z"
    }
   },
   "outputs": [],
   "source": [
    "tu_xian1_r"
   ]
  },
  {
   "cell_type": "code",
   "execution_count": null,
   "metadata": {},
   "outputs": [],
   "source": []
  },
  {
   "cell_type": "code",
   "execution_count": null,
   "metadata": {
    "ExecuteTime": {
     "end_time": "2020-07-08T16:32:31.461151Z",
     "start_time": "2020-07-08T16:32:31.430647Z"
    }
   },
   "outputs": [],
   "source": [
    "tu.iloc[1:2,]"
   ]
  },
  {
   "cell_type": "code",
   "execution_count": null,
   "metadata": {
    "ExecuteTime": {
     "end_time": "2020-07-08T16:44:51.595136Z",
     "start_time": "2020-07-08T16:44:51.525627Z"
    }
   },
   "outputs": [],
   "source": [
    "tu"
   ]
  },
  {
   "cell_type": "code",
   "execution_count": null,
   "metadata": {
    "ExecuteTime": {
     "end_time": "2020-07-08T16:46:01.818553Z",
     "start_time": "2020-07-08T16:46:01.815053Z"
    }
   },
   "outputs": [],
   "source": [
    "aa = []"
   ]
  },
  {
   "cell_type": "code",
   "execution_count": null,
   "metadata": {
    "ExecuteTime": {
     "end_time": "2020-07-08T16:46:09.339508Z",
     "start_time": "2020-07-08T16:46:09.333508Z"
    }
   },
   "outputs": [],
   "source": [
    "aa.append(11)"
   ]
  },
  {
   "cell_type": "code",
   "execution_count": null,
   "metadata": {},
   "outputs": [],
   "source": []
  },
  {
   "cell_type": "code",
   "execution_count": null,
   "metadata": {
    "ExecuteTime": {
     "end_time": "2020-07-08T16:46:19.514800Z",
     "start_time": "2020-07-08T16:46:19.483796Z"
    },
    "scrolled": false
   },
   "outputs": [],
   "source": [
    "geo_list = []\n",
    "id_list = []\n",
    "for id_t,data in zip(tu['区县'],tu['geometry']):\n",
    "    id_list.append(id_t)\n",
    "    geo_list.append(data)\n",
    "    \n",
    "    pd.DataFrame({'id':id_list,'geometry':geo_list})"
   ]
  },
  {
   "cell_type": "code",
   "execution_count": null,
   "metadata": {
    "ExecuteTime": {
     "end_time": "2020-07-08T16:37:15.419709Z",
     "start_time": "2020-07-08T16:37:15.411708Z"
    }
   },
   "outputs": [],
   "source": [
    "data"
   ]
  },
  {
   "cell_type": "code",
   "execution_count": null,
   "metadata": {
    "ExecuteTime": {
     "end_time": "2020-07-08T16:40:47.181099Z",
     "start_time": "2020-07-08T16:40:47.174599Z"
    }
   },
   "outputs": [],
   "source": [
    "aa = tu.loc[tu['区县']=='安陆市','geometry'][0]"
   ]
  },
  {
   "cell_type": "code",
   "execution_count": null,
   "metadata": {},
   "outputs": [],
   "source": []
  },
  {
   "cell_type": "code",
   "execution_count": null,
   "metadata": {},
   "outputs": [],
   "source": []
  },
  {
   "cell_type": "code",
   "execution_count": null,
   "metadata": {},
   "outputs": [],
   "source": []
  },
  {
   "cell_type": "code",
   "execution_count": null,
   "metadata": {},
   "outputs": [],
   "source": []
  },
  {
   "cell_type": "code",
   "execution_count": null,
   "metadata": {},
   "outputs": [],
   "source": []
  },
  {
   "cell_type": "code",
   "execution_count": null,
   "metadata": {
    "ExecuteTime": {
     "end_time": "2020-07-08T16:54:58.221668Z",
     "start_time": "2020-07-08T16:54:58.214167Z"
    }
   },
   "outputs": [],
   "source": [
    "tu['geometry'].isna()"
   ]
  },
  {
   "cell_type": "code",
   "execution_count": null,
   "metadata": {
    "ExecuteTime": {
     "end_time": "2020-07-08T16:59:40.733042Z",
     "start_time": "2020-07-08T16:59:40.729042Z"
    }
   },
   "outputs": [],
   "source": [
    "tu2 = tu.reset_index(drop=True)"
   ]
  },
  {
   "cell_type": "code",
   "execution_count": null,
   "metadata": {
    "ExecuteTime": {
     "end_time": "2020-07-08T17:00:00.286025Z",
     "start_time": "2020-07-08T17:00:00.279524Z"
    }
   },
   "outputs": [],
   "source": [
    "tu2['地市'].isna()"
   ]
  },
  {
   "cell_type": "code",
   "execution_count": null,
   "metadata": {
    "ExecuteTime": {
     "end_time": "2020-07-08T16:59:52.624552Z",
     "start_time": "2020-07-08T16:59:52.585547Z"
    }
   },
   "outputs": [],
   "source": [
    "tu2.loc[tu2['地市'].isna()]"
   ]
  },
  {
   "cell_type": "code",
   "execution_count": null,
   "metadata": {
    "ExecuteTime": {
     "end_time": "2020-07-08T16:58:23.438227Z",
     "start_time": "2020-07-08T16:58:23.383220Z"
    }
   },
   "outputs": [],
   "source": [
    "tu.loc[tu['地市'].isna()]"
   ]
  },
  {
   "cell_type": "code",
   "execution_count": null,
   "metadata": {
    "ExecuteTime": {
     "end_time": "2020-07-08T16:55:40.401024Z",
     "start_time": "2020-07-08T16:55:40.356018Z"
    }
   },
   "outputs": [],
   "source": [
    "tu.loc[(tu['geometry'].is_empty)|(tu['geometry'].isna())]"
   ]
  },
  {
   "cell_type": "code",
   "execution_count": null,
   "metadata": {
    "ExecuteTime": {
     "end_time": "2020-07-08T16:53:28.026715Z",
     "start_time": "2020-07-08T16:53:27.917701Z"
    }
   },
   "outputs": [],
   "source": [
    "tu[~(tu.is_empty | tu.isna())]"
   ]
  },
  {
   "cell_type": "code",
   "execution_count": null,
   "metadata": {
    "ExecuteTime": {
     "end_time": "2020-07-08T16:52:24.444141Z",
     "start_time": "2020-07-08T16:52:24.339127Z"
    }
   },
   "outputs": [],
   "source": [
    "tu['geometry'].difference(data)"
   ]
  },
  {
   "cell_type": "code",
   "execution_count": null,
   "metadata": {
    "ExecuteTime": {
     "end_time": "2020-07-08T16:51:48.826118Z",
     "start_time": "2020-07-08T16:51:48.693101Z"
    },
    "scrolled": true
   },
   "outputs": [],
   "source": []
  },
  {
   "cell_type": "code",
   "execution_count": null,
   "metadata": {},
   "outputs": [],
   "source": []
  },
  {
   "cell_type": "code",
   "execution_count": null,
   "metadata": {
    "ExecuteTime": {
     "end_time": "2020-07-08T16:38:10.396690Z",
     "start_time": "2020-07-08T16:38:10.380688Z"
    }
   },
   "outputs": [],
   "source": [
    "gpd.overlay(tu,data,how='difference')"
   ]
  },
  {
   "cell_type": "code",
   "execution_count": null,
   "metadata": {},
   "outputs": [],
   "source": []
  },
  {
   "cell_type": "code",
   "execution_count": null,
   "metadata": {},
   "outputs": [],
   "source": []
  },
  {
   "cell_type": "code",
   "execution_count": null,
   "metadata": {
    "ExecuteTime": {
     "end_time": "2020-07-08T15:12:34.283987Z",
     "start_time": "2020-07-08T15:12:34.198976Z"
    }
   },
   "outputs": [],
   "source": [
    "world = geopandas.read_file(geopandas.datasets.get_path('naturalearth_lowres'))\n"
   ]
  },
  {
   "cell_type": "code",
   "execution_count": null,
   "metadata": {
    "ExecuteTime": {
     "end_time": "2020-07-08T15:12:43.627673Z",
     "start_time": "2020-07-08T15:12:43.614672Z"
    }
   },
   "outputs": [],
   "source": [
    "world = world[['continent', 'geometry']]"
   ]
  },
  {
   "cell_type": "code",
   "execution_count": null,
   "metadata": {
    "ExecuteTime": {
     "end_time": "2020-07-08T15:13:13.217431Z",
     "start_time": "2020-07-08T15:13:13.191928Z"
    }
   },
   "outputs": [],
   "source": [
    "world"
   ]
  },
  {
   "cell_type": "code",
   "execution_count": null,
   "metadata": {
    "ExecuteTime": {
     "end_time": "2020-07-08T15:26:29.532050Z",
     "start_time": "2020-07-08T15:26:29.522549Z"
    }
   },
   "outputs": [],
   "source": [
    "s = geopandas.GeoSeries([Polygon([(0, 0), (1, 1), (0, 1)]), None, Polygon([])])"
   ]
  },
  {
   "cell_type": "code",
   "execution_count": null,
   "metadata": {
    "ExecuteTime": {
     "end_time": "2020-07-08T15:26:49.060530Z",
     "start_time": "2020-07-08T15:26:49.054529Z"
    }
   },
   "outputs": [],
   "source": [
    "s.is_empty"
   ]
  },
  {
   "cell_type": "code",
   "execution_count": null,
   "metadata": {
    "ExecuteTime": {
     "end_time": "2020-07-08T15:30:00.966899Z",
     "start_time": "2020-07-08T15:30:00.952897Z"
    }
   },
   "outputs": [],
   "source": [
    "s"
   ]
  },
  {
   "cell_type": "code",
   "execution_count": null,
   "metadata": {},
   "outputs": [],
   "source": []
  },
  {
   "cell_type": "code",
   "execution_count": null,
   "metadata": {
    "ExecuteTime": {
     "end_time": "2020-07-08T15:13:08.875879Z",
     "start_time": "2020-07-08T15:13:08.633349Z"
    }
   },
   "outputs": [],
   "source": [
    "continents = world.dissolve(by='continent')"
   ]
  },
  {
   "cell_type": "code",
   "execution_count": null,
   "metadata": {
    "ExecuteTime": {
     "end_time": "2020-07-08T15:13:17.935030Z",
     "start_time": "2020-07-08T15:13:17.888024Z"
    }
   },
   "outputs": [],
   "source": [
    "s.is_empty | s.isna() #@\n",
    "s[~(s.is_empty | s.isna())]"
   ]
  },
  {
   "cell_type": "code",
   "execution_count": null,
   "metadata": {
    "ExecuteTime": {
     "end_time": "2020-07-08T15:46:25.374403Z",
     "start_time": "2020-07-08T15:46:25.367402Z"
    }
   },
   "outputs": [],
   "source": [
    "s.geom_almost_equals"
   ]
  },
  {
   "cell_type": "code",
   "execution_count": null,
   "metadata": {
    "ExecuteTime": {
     "end_time": "2020-07-08T14:15:20.872999Z",
     "start_time": "2020-07-08T14:15:20.719480Z"
    }
   },
   "outputs": [],
   "source": [
    "tu = mytools.gisn.maps('地市区县')"
   ]
  },
  {
   "cell_type": "code",
   "execution_count": null,
   "metadata": {
    "ExecuteTime": {
     "end_time": "2020-07-08T14:34:50.074469Z",
     "start_time": "2020-07-08T14:34:50.071468Z"
    }
   },
   "outputs": [],
   "source": [
    "import geopandas"
   ]
  },
  {
   "cell_type": "code",
   "execution_count": null,
   "metadata": {
    "ExecuteTime": {
     "end_time": "2020-07-08T14:35:41.331478Z",
     "start_time": "2020-07-08T14:35:41.327977Z"
    }
   },
   "outputs": [],
   "source": [
    "from shapely.geometry import Polygon"
   ]
  },
  {
   "cell_type": "code",
   "execution_count": null,
   "metadata": {
    "ExecuteTime": {
     "end_time": "2020-07-08T14:35:43.117704Z",
     "start_time": "2020-07-08T14:35:43.103203Z"
    }
   },
   "outputs": [],
   "source": [
    "polys1 = geopandas.GeoSeries([Polygon([(0,0), (2,0), (2,2), (0,2)]),Polygon([(2,2), (4,2), (4,4), (2,4)])])"
   ]
  },
  {
   "cell_type": "code",
   "execution_count": null,
   "metadata": {
    "ExecuteTime": {
     "end_time": "2020-07-08T14:35:58.549164Z",
     "start_time": "2020-07-08T14:35:58.542163Z"
    }
   },
   "outputs": [],
   "source": [
    "polys2 = geopandas.GeoSeries([Polygon([(1,1), (3,1), (3,3), (1,3)]),Polygon([(3,3), (5,3), (5,5), (3,5)])])"
   ]
  },
  {
   "cell_type": "code",
   "execution_count": null,
   "metadata": {
    "ExecuteTime": {
     "end_time": "2020-07-08T14:36:06.420663Z",
     "start_time": "2020-07-08T14:36:06.415163Z"
    }
   },
   "outputs": [],
   "source": [
    "df1 = geopandas.GeoDataFrame({'geometry': polys1, 'df1':[1,2]})"
   ]
  },
  {
   "cell_type": "code",
   "execution_count": null,
   "metadata": {
    "ExecuteTime": {
     "end_time": "2020-07-08T14:36:15.045259Z",
     "start_time": "2020-07-08T14:36:15.039758Z"
    }
   },
   "outputs": [],
   "source": [
    "df2 = geopandas.GeoDataFrame({'geometry': polys2, 'df2':[1,2]})"
   ]
  },
  {
   "cell_type": "code",
   "execution_count": null,
   "metadata": {
    "ExecuteTime": {
     "end_time": "2020-07-08T14:37:24.162535Z",
     "start_time": "2020-07-08T14:37:23.925505Z"
    }
   },
   "outputs": [],
   "source": [
    "df2.plot(ax=df1.plot(color='red'), color='green', alpha=0.5)"
   ]
  },
  {
   "cell_type": "code",
   "execution_count": null,
   "metadata": {
    "ExecuteTime": {
     "end_time": "2020-07-08T14:48:01.762000Z",
     "start_time": "2020-07-08T14:48:01.729996Z"
    }
   },
   "outputs": [],
   "source": [
    "aaa = geopandas.overlay(df1, df2, how='symmetric_difference')"
   ]
  },
  {
   "cell_type": "code",
   "execution_count": null,
   "metadata": {
    "ExecuteTime": {
     "end_time": "2020-07-08T14:48:03.445214Z",
     "start_time": "2020-07-08T14:48:03.230187Z"
    }
   },
   "outputs": [],
   "source": [
    "aaa.plot(figsize=[11,11])"
   ]
  },
  {
   "cell_type": "code",
   "execution_count": null,
   "metadata": {},
   "outputs": [],
   "source": []
  },
  {
   "cell_type": "code",
   "execution_count": null,
   "metadata": {
    "ExecuteTime": {
     "end_time": "2020-07-08T14:45:27.258881Z",
     "start_time": "2020-07-08T14:45:27.237378Z"
    }
   },
   "outputs": [],
   "source": [
    "aaa.to_file('d:/aaaa.shp',encoding='utf-8')"
   ]
  },
  {
   "cell_type": "code",
   "execution_count": null,
   "metadata": {
    "ExecuteTime": {
     "end_time": "2020-07-08T14:17:24.448691Z",
     "start_time": "2020-07-08T14:17:17.538814Z"
    }
   },
   "outputs": [],
   "source": [
    "gongcan_s=pd.read_pickle('G:/1-规划/评估/覆盖空洞/20200708第三版本/2-程序输出/2-计算空洞/2-修正后覆盖半径的扇区图层.data')"
   ]
  },
  {
   "cell_type": "code",
   "execution_count": null,
   "metadata": {
    "ExecuteTime": {
     "end_time": "2020-07-08T14:18:55.240220Z",
     "start_time": "2020-07-08T14:17:26.337931Z"
    }
   },
   "outputs": [],
   "source": [
    "gongcan_s.plot(figsize=[11,11])"
   ]
  },
  {
   "cell_type": "code",
   "execution_count": null,
   "metadata": {},
   "outputs": [],
   "source": []
  },
  {
   "cell_type": "code",
   "execution_count": null,
   "metadata": {
    "ExecuteTime": {
     "end_time": "2020-07-18T09:05:30.827843Z",
     "start_time": "2020-07-18T09:05:30.395788Z"
    }
   },
   "outputs": [],
   "source": [
    "ganrao = pd.read_clipboard()"
   ]
  },
  {
   "cell_type": "code",
   "execution_count": null,
   "metadata": {
    "ExecuteTime": {
     "end_time": "2020-07-18T09:06:07.601513Z",
     "start_time": "2020-07-18T09:05:53.918275Z"
    }
   },
   "outputs": [],
   "source": [
    "res = mytools.gisn.points_coverage_merge(ganrao,'经度','纬度')"
   ]
  },
  {
   "cell_type": "code",
   "execution_count": null,
   "metadata": {
    "ExecuteTime": {
     "end_time": "2020-07-18T09:06:11.049451Z",
     "start_time": "2020-07-18T09:06:10.127834Z"
    }
   },
   "outputs": [],
   "source": [
    "res.to_clipboard()"
   ]
  },
  {
   "cell_type": "code",
   "execution_count": null,
   "metadata": {
    "ExecuteTime": {
     "end_time": "2020-07-18T10:01:36.555236Z",
     "start_time": "2020-07-18T10:01:36.374213Z"
    }
   },
   "outputs": [],
   "source": [
    "quxian = gpd.read_file('G:/1-规划/图层/县城和地市归属图层pickle/县界.shp',encoding='utf-8')"
   ]
  },
  {
   "cell_type": "code",
   "execution_count": null,
   "metadata": {
    "ExecuteTime": {
     "end_time": "2020-07-18T10:02:30.976647Z",
     "start_time": "2020-07-18T10:02:30.794124Z"
    }
   },
   "outputs": [],
   "source": [
    "quxian.loc[quxian['地市']==\"恩施\"]"
   ]
  },
  {
   "cell_type": "code",
   "execution_count": null,
   "metadata": {
    "ExecuteTime": {
     "end_time": "2020-07-18T10:12:02.314198Z",
     "start_time": "2020-07-18T10:12:02.278693Z"
    }
   },
   "outputs": [],
   "source": [
    "data = pd.read_clipboard()"
   ]
  },
  {
   "cell_type": "code",
   "execution_count": null,
   "metadata": {
    "ExecuteTime": {
     "end_time": "2020-07-18T10:12:05.592114Z",
     "start_time": "2020-07-18T10:12:04.809515Z"
    }
   },
   "outputs": [],
   "source": [
    "res = mytools.gisn.points_coverage_merge(data,'经度','纬度',quxian,['地市','区县'])"
   ]
  },
  {
   "cell_type": "code",
   "execution_count": null,
   "metadata": {
    "ExecuteTime": {
     "end_time": "2020-07-18T10:18:26.160940Z",
     "start_time": "2020-07-18T10:18:25.916909Z"
    }
   },
   "outputs": [],
   "source": [
    "res['quxian'] = res.apply(lambda x:x['所属区县'] if x['所属区县'] is not np.nan else x['区县'],axis=1)"
   ]
  },
  {
   "cell_type": "code",
   "execution_count": null,
   "metadata": {
    "ExecuteTime": {
     "end_time": "2020-07-18T10:18:28.724766Z",
     "start_time": "2020-07-18T10:18:28.633254Z"
    }
   },
   "outputs": [],
   "source": [
    "res.to_clipboard()"
   ]
  },
  {
   "cell_type": "code",
   "execution_count": null,
   "metadata": {},
   "outputs": [],
   "source": []
  },
  {
   "cell_type": "code",
   "execution_count": null,
   "metadata": {
    "ExecuteTime": {
     "end_time": "2020-07-18T10:21:30.964407Z",
     "start_time": "2020-07-18T10:21:30.890898Z"
    }
   },
   "outputs": [],
   "source": [
    "data_lte = pd.read_clipboard()"
   ]
  },
  {
   "cell_type": "code",
   "execution_count": null,
   "metadata": {
    "ExecuteTime": {
     "end_time": "2020-07-18T10:21:57.769311Z",
     "start_time": "2020-07-18T10:21:55.753055Z"
    }
   },
   "outputs": [],
   "source": [
    "res_lte = mytools.gisn.points_coverage_merge(data_lte,'经度','纬度',quxian,['地市','区县'])"
   ]
  },
  {
   "cell_type": "code",
   "execution_count": null,
   "metadata": {
    "ExecuteTime": {
     "end_time": "2020-07-18T10:22:24.060649Z",
     "start_time": "2020-07-18T10:22:23.428069Z"
    }
   },
   "outputs": [],
   "source": [
    "res_lte['quxian'] = res_lte.apply(lambda x:x['归属区县'] if x['归属区县'] is not np.nan else x['区县'],axis=1)"
   ]
  },
  {
   "cell_type": "code",
   "execution_count": null,
   "metadata": {
    "ExecuteTime": {
     "end_time": "2020-07-18T10:22:30.444960Z",
     "start_time": "2020-07-18T10:22:30.274939Z"
    }
   },
   "outputs": [],
   "source": [
    "res_lte.to_clipboard()"
   ]
  },
  {
   "cell_type": "code",
   "execution_count": null,
   "metadata": {},
   "outputs": [],
   "source": []
  },
  {
   "cell_type": "code",
   "execution_count": null,
   "metadata": {},
   "outputs": [],
   "source": []
  },
  {
   "cell_type": "code",
   "execution_count": null,
   "metadata": {
    "ExecuteTime": {
     "end_time": "2020-07-18T10:26:29.470813Z",
     "start_time": "2020-07-18T10:26:28.984751Z"
    }
   },
   "outputs": [],
   "source": [
    "data_lte_ganr = pd.read_clipboard()"
   ]
  },
  {
   "cell_type": "code",
   "execution_count": null,
   "metadata": {
    "ExecuteTime": {
     "end_time": "2020-07-18T10:26:53.508865Z",
     "start_time": "2020-07-18T10:26:39.470582Z"
    }
   },
   "outputs": [],
   "source": [
    "res_lte_ganrao = mytools.gisn.points_coverage_merge(data_lte_ganr,'经度','纬度',quxian,['地市','区县'])"
   ]
  },
  {
   "cell_type": "code",
   "execution_count": null,
   "metadata": {
    "ExecuteTime": {
     "end_time": "2020-07-18T10:27:00.210716Z",
     "start_time": "2020-07-18T10:26:55.970678Z"
    }
   },
   "outputs": [],
   "source": [
    "res_lte_ganrao['quxian'] = res_lte_ganrao.apply(lambda x:x['归属区县'] if x['归属区县'] is not np.nan else x['区县'],axis=1)"
   ]
  },
  {
   "cell_type": "code",
   "execution_count": null,
   "metadata": {
    "ExecuteTime": {
     "end_time": "2020-07-18T10:27:03.648653Z",
     "start_time": "2020-07-18T10:27:02.714034Z"
    }
   },
   "outputs": [],
   "source": [
    "res_lte_ganrao.to_clipboard()"
   ]
  },
  {
   "cell_type": "code",
   "execution_count": null,
   "metadata": {},
   "outputs": [],
   "source": []
  },
  {
   "cell_type": "code",
   "execution_count": null,
   "metadata": {
    "ExecuteTime": {
     "end_time": "2020-07-18T10:29:41.879245Z",
     "start_time": "2020-07-18T10:29:41.834740Z"
    }
   },
   "outputs": [],
   "source": [
    "data_lte_z = pd.read_clipboard()"
   ]
  },
  {
   "cell_type": "code",
   "execution_count": null,
   "metadata": {
    "ExecuteTime": {
     "end_time": "2020-07-18T10:29:56.069547Z",
     "start_time": "2020-07-18T10:29:55.031916Z"
    }
   },
   "outputs": [],
   "source": [
    "res_lte_z = mytools.gisn.points_coverage_merge(data_lte_z,'经度','纬度',quxian,['地市','区县'])"
   ]
  },
  {
   "cell_type": "code",
   "execution_count": null,
   "metadata": {
    "ExecuteTime": {
     "end_time": "2020-07-18T10:30:07.797537Z",
     "start_time": "2020-07-18T10:30:07.482497Z"
    }
   },
   "outputs": [],
   "source": [
    "res_lte_z['quxian'] = res_lte_z.apply(lambda x:x['归属区县'] if x['归属区县'] is not np.nan else x['区县'],axis=1)"
   ]
  },
  {
   "cell_type": "code",
   "execution_count": null,
   "metadata": {
    "ExecuteTime": {
     "end_time": "2020-07-18T10:30:11.363489Z",
     "start_time": "2020-07-18T10:30:11.266977Z"
    }
   },
   "outputs": [],
   "source": [
    "res_lte_z.to_clipboard()"
   ]
  },
  {
   "cell_type": "code",
   "execution_count": null,
   "metadata": {},
   "outputs": [],
   "source": []
  },
  {
   "cell_type": "code",
   "execution_count": null,
   "metadata": {},
   "outputs": [],
   "source": []
  },
  {
   "cell_type": "code",
   "execution_count": null,
   "metadata": {
    "ExecuteTime": {
     "end_time": "2020-07-18T10:40:41.245974Z",
     "start_time": "2020-07-18T10:40:32.593376Z"
    }
   },
   "outputs": [],
   "source": [
    "gongcan = pd.read_csv('g:/1-规划/工参/工参数据/ltejizhan20200616.csv',encoding='gbk')"
   ]
  },
  {
   "cell_type": "code",
   "execution_count": null,
   "metadata": {
    "ExecuteTime": {
     "end_time": "2020-07-18T10:40:41.912559Z",
     "start_time": "2020-07-18T10:40:41.901057Z"
    }
   },
   "outputs": [],
   "source": [
    "gongcan.columns"
   ]
  },
  {
   "cell_type": "code",
   "execution_count": null,
   "metadata": {
    "ExecuteTime": {
     "end_time": "2020-07-18T10:40:42.606647Z",
     "start_time": "2020-07-18T10:40:42.588645Z"
    }
   },
   "outputs": [],
   "source": [
    "gongcan_use = gongcan[['小区中文名','归属区县','RRU经度','RRU纬度']]"
   ]
  },
  {
   "cell_type": "code",
   "execution_count": null,
   "metadata": {
    "ExecuteTime": {
     "end_time": "2020-07-18T10:35:16.765771Z",
     "start_time": "2020-07-18T10:35:16.739267Z"
    }
   },
   "outputs": [],
   "source": [
    "gongcan_use_yx = gongcan_use[gongcan_use['RRU经度']>0]"
   ]
  },
  {
   "cell_type": "code",
   "execution_count": null,
   "metadata": {},
   "outputs": [],
   "source": [
    "gongcan_use_yx"
   ]
  },
  {
   "cell_type": "code",
   "execution_count": null,
   "metadata": {
    "ExecuteTime": {
     "end_time": "2020-07-18T10:36:58.308665Z",
     "start_time": "2020-07-18T10:36:22.878666Z"
    }
   },
   "outputs": [],
   "source": [
    "gongcan_use_yx = mytools.gisn.points_coverage_merge(gongcan_use_yx,'RRU经度','RRU纬度',quxian,['地市','区县'])"
   ]
  },
  {
   "cell_type": "code",
   "execution_count": null,
   "metadata": {
    "ExecuteTime": {
     "end_time": "2020-07-18T10:37:11.110290Z",
     "start_time": "2020-07-18T10:37:01.043512Z"
    }
   },
   "outputs": [],
   "source": [
    "gongcan_use_yx['quxian'] = gongcan_use_yx.apply(lambda x:x['归属区县'] if x['归属区县'] is not np.nan else x['区县'],axis=1)"
   ]
  },
  {
   "cell_type": "code",
   "execution_count": null,
   "metadata": {
    "ExecuteTime": {
     "end_time": "2020-07-18T10:37:16.239942Z",
     "start_time": "2020-07-18T10:37:13.857139Z"
    }
   },
   "outputs": [],
   "source": [
    "gongcan_use_yx.to_clipboard()"
   ]
  },
  {
   "cell_type": "code",
   "execution_count": null,
   "metadata": {
    "ExecuteTime": {
     "end_time": "2020-07-18T10:40:17.940515Z",
     "start_time": "2020-07-18T10:40:16.654852Z"
    }
   },
   "outputs": [],
   "source": [
    "import pandas as pd"
   ]
  },
  {
   "cell_type": "code",
   "execution_count": null,
   "metadata": {
    "ExecuteTime": {
     "end_time": "2020-07-18T10:40:21.873014Z",
     "start_time": "2020-07-18T10:40:20.859386Z"
    }
   },
   "outputs": [],
   "source": [
    "import mytools"
   ]
  },
  {
   "cell_type": "code",
   "execution_count": null,
   "metadata": {
    "ExecuteTime": {
     "end_time": "2020-07-18T10:40:24.899399Z",
     "start_time": "2020-07-18T10:40:24.882896Z"
    }
   },
   "outputs": [],
   "source": [
    "data = pd.read_clipboard()"
   ]
  },
  {
   "cell_type": "code",
   "execution_count": null,
   "metadata": {
    "ExecuteTime": {
     "end_time": "2020-07-18T10:41:27.603861Z",
     "start_time": "2020-07-18T10:41:27.414837Z"
    }
   },
   "outputs": [],
   "source": [
    "data.merge(gongcan_use,how='left',on='小区中文名')"
   ]
  },
  {
   "cell_type": "code",
   "execution_count": null,
   "metadata": {
    "ExecuteTime": {
     "end_time": "2020-07-18T13:00:57.528206Z",
     "start_time": "2020-07-18T13:00:57.518705Z"
    }
   },
   "outputs": [],
   "source": [
    "data['CellLongitude'].to_numpy()"
   ]
  }
 ],
 "metadata": {
  "kernelspec": {
   "display_name": "Python 3",
   "language": "python",
   "name": "python3"
  },
  "language_info": {
   "codemirror_mode": {
    "name": "ipython",
    "version": 3
   },
   "file_extension": ".py",
   "mimetype": "text/x-python",
   "name": "python",
   "nbconvert_exporter": "python",
   "pygments_lexer": "ipython3",
   "version": "3.7.4"
  },
  "toc": {
   "base_numbering": 1,
   "nav_menu": {},
   "number_sections": true,
   "sideBar": true,
   "skip_h1_title": false,
   "title_cell": "Table of Contents",
   "title_sidebar": "Contents",
   "toc_cell": false,
   "toc_position": {},
   "toc_section_display": true,
   "toc_window_display": false
  },
  "varInspector": {
   "cols": {
    "lenName": 16,
    "lenType": 16,
    "lenVar": 40
   },
   "kernels_config": {
    "python": {
     "delete_cmd_postfix": "",
     "delete_cmd_prefix": "del ",
     "library": "var_list.py",
     "varRefreshCmd": "print(var_dic_list())"
    },
    "r": {
     "delete_cmd_postfix": ") ",
     "delete_cmd_prefix": "rm(",
     "library": "var_list.r",
     "varRefreshCmd": "cat(var_dic_list()) "
    }
   },
   "position": {
    "height": "144px",
    "left": "1183px",
    "right": "20px",
    "top": "157px",
    "width": "350px"
   },
   "types_to_exclude": [
    "module",
    "function",
    "builtin_function_or_method",
    "instance",
    "_Feature"
   ],
   "window_display": false
  }
 },
 "nbformat": 4,
 "nbformat_minor": 2
}
