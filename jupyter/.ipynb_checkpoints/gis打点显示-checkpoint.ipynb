{
 "cells": [
  {
   "cell_type": "code",
   "execution_count": null,
   "metadata": {},
   "outputs": [],
   "source": [
    "import pandas as pd\n",
    "import app.netools as ne\n",
    "import folium"
   ]
  },
  {
   "cell_type": "code",
   "execution_count": null,
   "metadata": {},
   "outputs": [],
   "source": [
    "nt = ne.NetTools()"
   ]
  },
  {
   "cell_type": "code",
   "execution_count": null,
   "metadata": {},
   "outputs": [],
   "source": [
    "data = pd.read_clipboard()"
   ]
  },
  {
   "cell_type": "code",
   "execution_count": null,
   "metadata": {},
   "outputs": [],
   "source": [
    "data.columns"
   ]
  },
  {
   "cell_type": "code",
   "execution_count": null,
   "metadata": {},
   "outputs": [],
   "source": [
    "data1 = data.loc[(data['移动覆盖率']<0.7)&(data['移动弱点']>10000)]"
   ]
  },
  {
   "cell_type": "code",
   "execution_count": null,
   "metadata": {},
   "outputs": [],
   "source": [
    "tu_data = nt.add_buffer(data1,coords=['经度','纬度','',''],buff_m=80)"
   ]
  },
  {
   "cell_type": "code",
   "execution_count": null,
   "metadata": {},
   "outputs": [],
   "source": [
    "# tu_data=tu_data[['eutrancell_cgi','geometry']]"
   ]
  },
  {
   "cell_type": "code",
   "execution_count": null,
   "metadata": {},
   "outputs": [],
   "source": [
    "js_data = tu_data.to_json()"
   ]
  },
  {
   "cell_type": "code",
   "execution_count": null,
   "metadata": {},
   "outputs": [],
   "source": [
    "js_data"
   ]
  },
  {
   "cell_type": "code",
   "execution_count": null,
   "metadata": {
    "scrolled": false
   },
   "outputs": [],
   "source": [
    "m = folium.Map([33.196770,109.494640], zoom_start=10, \n",
    "               tiles='http://webrd02.is.autonavi.com/appmaptile?lang=zh_cn&size=1&scale=1&style=7&x={x}&y={y}&z={z}',\n",
    "               attr='desdf')\n",
    "folium.Choropleth(\n",
    "    geo_data=js_data,\n",
    "#     name='地市',\n",
    "#     data=data,\n",
    "#     columns=['CGI', '方位角'],\n",
    "#     key_on='feature.properties.CGI',\n",
    "#     threshold_scale=[0, 100,  255,360],\n",
    "    fill_color='Reds',#Reds ， RdYlGn\n",
    "    fill_opacity=0.7,\n",
    "    line_opacity=0.2,\n",
    "#     legend_name='方位角'\n",
    ").add_to(m)\n",
    "folium.LayerControl().add_to(m)\n",
    "m"
   ]
  },
  {
   "cell_type": "code",
   "execution_count": null,
   "metadata": {},
   "outputs": [],
   "source": [
    "import os\n",
    "\n",
    "import pandas as pd\n",
    "\n",
    "from mapboxgl.utils import create_color_stops, df_to_geojson\n",
    "from mapboxgl.viz import CircleViz\n",
    "\n",
    "\n",
    "# Load data from sample csv\n",
    "# data_url = 'https://raw.githubusercontent.com/mapbox/mapboxgl-jupyter/master/examples/data/points.csv'\n",
    "\n",
    "# df = pd.read_csv(data_url)\n",
    "\n",
    "df = pd.read_csv('github_csv.csv')\n",
    "\n",
    "# Must be a public token, starting with `pk`\n",
    "token = os.getenv('MAPBOX_ACCESS_TOKEN')\n",
    "\n",
    "# Create a geojson file export from a Pandas dataframe\n",
    "df_to_geojson(df, filename='points.geojson',\n",
    "              properties=['Avg Medicare Payments', 'Avg Covered Charges', 'date'],\n",
    "              lat='lat', lon='lon', precision=3)\n",
    "\n",
    "# Generate data breaks and color stops from colorBrewer\n",
    "color_breaks = [0,10,100,1000,10000]\n",
    "color_stops = create_color_stops(color_breaks, colors='YlGnBu')\n",
    "\n",
    "# Create the viz from the dataframe\n",
    "viz = CircleViz('points.geojson',\n",
    "                access_token=token,\n",
    "                height='400px',\n",
    "                color_property = \"Avg Medicare Payments\",\n",
    "                color_stops = color_stops,\n",
    "                center = (-95, 40),\n",
    "                zoom = 3,\n",
    "                below_layer = 'waterway-label'\n",
    "              )\n",
    "viz.show()"
   ]
  },
  {
   "cell_type": "code",
   "execution_count": null,
   "metadata": {},
   "outputs": [],
   "source": []
  },
  {
   "cell_type": "code",
   "execution_count": null,
   "metadata": {},
   "outputs": [],
   "source": []
  },
  {
   "cell_type": "code",
   "execution_count": null,
   "metadata": {},
   "outputs": [],
   "source": []
  }
 ],
 "metadata": {
  "kernelspec": {
   "display_name": "Python 3",
   "language": "python",
   "name": "python3"
  },
  "language_info": {
   "codemirror_mode": {
    "name": "ipython",
    "version": 3
   },
   "file_extension": ".py",
   "mimetype": "text/x-python",
   "name": "python",
   "nbconvert_exporter": "python",
   "pygments_lexer": "ipython3",
   "version": "3.7.4"
  },
  "toc": {
   "base_numbering": 1,
   "nav_menu": {},
   "number_sections": true,
   "sideBar": true,
   "skip_h1_title": false,
   "title_cell": "Table of Contents",
   "title_sidebar": "Contents",
   "toc_cell": false,
   "toc_position": {},
   "toc_section_display": true,
   "toc_window_display": false
  },
  "varInspector": {
   "cols": {
    "lenName": 16,
    "lenType": 16,
    "lenVar": 40
   },
   "kernels_config": {
    "python": {
     "delete_cmd_postfix": "",
     "delete_cmd_prefix": "del ",
     "library": "var_list.py",
     "varRefreshCmd": "print(var_dic_list())"
    },
    "r": {
     "delete_cmd_postfix": ") ",
     "delete_cmd_prefix": "rm(",
     "library": "var_list.r",
     "varRefreshCmd": "cat(var_dic_list()) "
    }
   },
   "types_to_exclude": [
    "module",
    "function",
    "builtin_function_or_method",
    "instance",
    "_Feature"
   ],
   "window_display": false
  }
 },
 "nbformat": 4,
 "nbformat_minor": 2
}
