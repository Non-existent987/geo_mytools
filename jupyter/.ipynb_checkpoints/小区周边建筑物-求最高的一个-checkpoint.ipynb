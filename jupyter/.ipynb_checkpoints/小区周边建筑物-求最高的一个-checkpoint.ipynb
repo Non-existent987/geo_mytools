{
 "cells": [
  {
   "cell_type": "code",
   "execution_count": null,
   "metadata": {
    "ExecuteTime": {
     "end_time": "2020-08-06T03:07:46.532589Z",
     "start_time": "2020-08-06T03:07:46.290058Z"
    }
   },
   "outputs": [],
   "source": [
    "%load_ext autoreload\n",
    "%autoreload 2"
   ]
  },
  {
   "cell_type": "code",
   "execution_count": null,
   "metadata": {
    "ExecuteTime": {
     "end_time": "2020-08-06T03:07:48.165796Z",
     "start_time": "2020-08-06T03:07:46.972144Z"
    }
   },
   "outputs": [],
   "source": [
    "import pandas as pd\n",
    "import mytools\n",
    "import geopandas as gpd"
   ]
  },
  {
   "cell_type": "code",
   "execution_count": null,
   "metadata": {
    "ExecuteTime": {
     "end_time": "2020-08-05T06:51:07.305580Z",
     "start_time": "2020-08-05T06:51:06.736507Z"
    }
   },
   "outputs": [],
   "source": [
    "data = pd.read_excel('d:/zhangx/200米内建筑物最高为多少米.xlsx')"
   ]
  },
  {
   "cell_type": "code",
   "execution_count": null,
   "metadata": {
    "ExecuteTime": {
     "end_time": "2020-08-06T03:07:49.100415Z",
     "start_time": "2020-08-06T03:07:48.777874Z"
    }
   },
   "outputs": [],
   "source": [
    "data = pd.read_clipboard()"
   ]
  },
  {
   "cell_type": "code",
   "execution_count": null,
   "metadata": {
    "ExecuteTime": {
     "end_time": "2020-08-06T03:07:50.075539Z",
     "start_time": "2020-08-06T03:07:49.765999Z"
    }
   },
   "outputs": [],
   "source": [
    "data.columns"
   ]
  },
  {
   "cell_type": "code",
   "execution_count": null,
   "metadata": {
    "ExecuteTime": {
     "end_time": "2020-08-06T03:07:56.092303Z",
     "start_time": "2020-08-06T03:07:55.069173Z"
    }
   },
   "outputs": [],
   "source": [
    "data_buffer = mytools.gisn.add_buffer(data,'经度','纬度',200)"
   ]
  },
  {
   "cell_type": "code",
   "execution_count": null,
   "metadata": {
    "ExecuteTime": {
     "end_time": "2020-08-06T03:08:01.927043Z",
     "start_time": "2020-08-06T03:07:59.471232Z"
    }
   },
   "outputs": [],
   "source": [
    "f = mytools.othern.file_name_paths('G:/1-规划/图层/湖北建筑/湖北建筑/湖北建筑/',find='tab')"
   ]
  },
  {
   "cell_type": "code",
   "execution_count": null,
   "metadata": {
    "ExecuteTime": {
     "end_time": "2020-08-06T03:21:28.252934Z",
     "start_time": "2020-08-06T03:08:04.125823Z"
    }
   },
   "outputs": [],
   "source": [
    "data_add = pd.DataFrame()\n",
    "for name in f:\n",
    "    gdf = gpd.read_file(name,encoding='gbk')\n",
    "    gdf_use = gdf[[ '建筑物高度', 'geometry']]\n",
    "    gdf_use = gdf_use.to_crs({\"init\": \"epsg:4326\"})\n",
    "    data_tu_res = gpd.sjoin(data_buffer,gdf_use)\n",
    "    data_add = data_add.append(data_tu_res)\n",
    "    print(name,'-------ok----------')"
   ]
  },
  {
   "cell_type": "code",
   "execution_count": null,
   "metadata": {
    "ExecuteTime": {
     "end_time": "2020-08-06T03:21:34.246695Z",
     "start_time": "2020-08-06T03:21:29.616607Z"
    }
   },
   "outputs": [],
   "source": [
    "mytools.sound()"
   ]
  },
  {
   "cell_type": "code",
   "execution_count": null,
   "metadata": {
    "ExecuteTime": {
     "end_time": "2020-08-06T03:21:35.942410Z",
     "start_time": "2020-08-06T03:21:35.596366Z"
    }
   },
   "outputs": [],
   "source": [
    "data_add.groupby('物理站名').agg({'建筑物高度':'max'}).to_clipboard()"
   ]
  },
  {
   "cell_type": "code",
   "execution_count": null,
   "metadata": {},
   "outputs": [],
   "source": []
  },
  {
   "cell_type": "code",
   "execution_count": null,
   "metadata": {
    "scrolled": true
   },
   "outputs": [],
   "source": [
    "data_add = pd.DataFrame()\n",
    "for name in f:\n",
    "    t_tu = gpd.read_file(name)\n",
    "    t_tu_1 = t_tu.to_crs({\"init\": \"epsg:4326\"})\n",
    "    data_tu_res = gpd.sjoin(data_jian_res,t_tu_1)\n",
    "    data_tu_res_res = data_tu_res[['小区CGI(*)', '方位角', 'juli', '单位名称', '建筑物高度']]\n",
    "    data_tu_res_res['平均值'] = data_tu_res_res['建筑物高度']\n",
    "    data_group = data_tu_res_res.groupby(by = '小区CGI(*)').agg({'建筑物高度':'max','平均值':'mean'})\n",
    "    data_group.reset_index(inplace = True)\n",
    "    data_add = data_add.append(data_group)\n",
    "    print(name,t_tu_1.shape,data_tu_res.shape,data_add.shape)"
   ]
  },
  {
   "cell_type": "code",
   "execution_count": null,
   "metadata": {
    "ExecuteTime": {
     "end_time": "2020-08-05T06:47:50.971648Z",
     "start_time": "2020-08-05T06:47:50.936144Z"
    }
   },
   "outputs": [],
   "source": [
    "gdf.head(1)"
   ]
  },
  {
   "cell_type": "code",
   "execution_count": null,
   "metadata": {},
   "outputs": [],
   "source": [
    "data_add_res = data_add.groupby(by = '小区CGI(*)').agg({'建筑物高度':'max','平均值':'mean'})"
   ]
  },
  {
   "cell_type": "code",
   "execution_count": null,
   "metadata": {},
   "outputs": [],
   "source": [
    "data_add_res.columns"
   ]
  },
  {
   "cell_type": "code",
   "execution_count": null,
   "metadata": {},
   "outputs": [],
   "source": [
    "data_add_res.reset_index(inplace = True)"
   ]
  },
  {
   "cell_type": "code",
   "execution_count": null,
   "metadata": {},
   "outputs": [],
   "source": [
    "data_add_res.reset_index(inplace = True)"
   ]
  },
  {
   "cell_type": "code",
   "execution_count": null,
   "metadata": {},
   "outputs": [],
   "source": [
    "data_add_res_merge = data_add_res.merge(data_jian,how = 'left',on ='小区CGI(*)')"
   ]
  },
  {
   "cell_type": "code",
   "execution_count": null,
   "metadata": {},
   "outputs": [],
   "source": [
    "data_add_res_merge.columns"
   ]
  },
  {
   "cell_type": "code",
   "execution_count": null,
   "metadata": {},
   "outputs": [],
   "source": [
    "data_add_res_merge_drop = data_add_res_merge.drop_duplicates('index')"
   ]
  },
  {
   "cell_type": "code",
   "execution_count": null,
   "metadata": {},
   "outputs": [],
   "source": [
    "data_add_res_merge_drop_res  = data_add_res_merge_drop[[ '小区CGI(*)', '小区中文名', '网络制式(TDD/FDD)', '所属地区',z\n",
    "       'ATU网格', 'RRU经度', 'RRU纬度', '天线挂高', '覆盖类别', '方位角', '机械下倾角', '电子下倾角',\n",
    "       '归属区县', '厂家名称', 'juli', '建筑物高度', '平均值']]"
   ]
  },
  {
   "cell_type": "code",
   "execution_count": null,
   "metadata": {},
   "outputs": [],
   "source": [
    "data_add_res_merge_drop_res.columns = ['小区CGI(*)', '小区中文名', '网络制式(TDD/FDD)', '所属地区', 'ATU网格', 'RRU经度', 'RRU纬度',\n",
    "       '天线挂高', '覆盖类别', '方位角', '机械下倾角', '电子下倾角', '归属区县', '厂家名称', 'juli',\n",
    "       '建筑物高度-max', '建筑物高度-mean']"
   ]
  },
  {
   "cell_type": "code",
   "execution_count": null,
   "metadata": {},
   "outputs": [],
   "source": [
    "data_add_res_merge_drop_res.to_csv('res_gao.csv',encoding = 'gbk',index =False)"
   ]
  },
  {
   "cell_type": "markdown",
   "metadata": {},
   "source": [
    "# 站点周边计算"
   ]
  },
  {
   "cell_type": "code",
   "execution_count": null,
   "metadata": {},
   "outputs": [],
   "source": [
    "#数据导入"
   ]
  },
  {
   "cell_type": "code",
   "execution_count": null,
   "metadata": {},
   "outputs": [],
   "source": [
    "name = 'G:/1-规划/1其他工作输出/20191113张璇小区周边楼宇高度/第三批计算.xlsx'"
   ]
  },
  {
   "cell_type": "code",
   "execution_count": null,
   "metadata": {},
   "outputs": [],
   "source": [
    "gongcan = pd.read_excel(name,encoding = 'gbk')"
   ]
  },
  {
   "cell_type": "code",
   "execution_count": null,
   "metadata": {},
   "outputs": [],
   "source": [
    "#如果没有场景需要进行位置匹配场景\n",
    "id = 'id'\n",
    "lon = '需求经度'\n",
    "lat = '需求纬度'\n",
    "\n",
    "#如果没有场景需要进行位置匹配场景\n",
    "a = list(gongcan.columns)\n",
    "a.append('区域类型')\n",
    "gongcan.reset_index(inplace = True)\n",
    "gongcan_pipeichangjing = nt.add_points(gongcan,coords=[lon,lat,'',''])\n",
    "#导入场景图层\n",
    "changjing_tu = gpd.read_file('g:/1-规划/图层/全省区域规划图层20180510/全省区域规划图层20180510/全省区域规划图层20180510.TAB')\n",
    "gongcan_pipeichangjing_res = gpd.sjoin(changjing_tu,gongcan_pipeichangjing)\n",
    "gongcan_pipeichangjing_res = gongcan_pipeichangjing_res[['index',id,'区域类型']]\n",
    "gongcan_pipeichangjing_res_gongcan = gongcan.merge(gongcan_pipeichangjing_res,how='left',on = id,suffixes=('', '_y'))\n",
    "gongcan_pipeichangjing_res_gongcan_drop = gongcan_pipeichangjing_res_gongcan.drop_duplicates('index')\n",
    "gongcan_pipeichangjing_res_gongcan_drop_res = gongcan_pipeichangjing_res_gongcan_drop[a]\n",
    "gongcan = gongcan_pipeichangjing_res_gongcan_drop_res.copy()\n",
    "\n",
    "gongcan['区域类型'] = gongcan['区域类型'].fillna(5)\n",
    "\n",
    "gongcan.loc[gongcan['区域类型'] == '主城区','区域类型'] = 0\n",
    "gongcan.loc[gongcan['区域类型'] == '一般城区','区域类型'] = 1\n",
    "gongcan.loc[gongcan['区域类型'] == '县城','区域类型'] = 3\n",
    "gongcan.loc[gongcan['区域类型'] == '乡镇','区域类型'] = 4\n",
    "gongcan.loc[gongcan['区域类型'] == '3A景区','区域类型'] = 3\n",
    "gongcan.loc[gongcan['区域类型'] == '4A景区','区域类型'] = 3\n",
    "gongcan.loc[gongcan['区域类型'] == '5A景区','区域类型'] = 3\n",
    "gongcan.loc[gongcan['区域类型'] == '热点','区域类型'] = 4\n",
    "\n",
    "gongcan.groupby(by = '区域类型').count()"
   ]
  },
  {
   "cell_type": "code",
   "execution_count": null,
   "metadata": {},
   "outputs": [],
   "source": [
    "id = 'id'\n",
    "lon = '需求经度'\n",
    "lat = '需求纬度'\n",
    "changjing = '区域类型'\n",
    "zhishi = '制式'\n",
    "\n",
    "gongcan = gongcan[[id,lon,lat,changjing,zhishi]]\n",
    "\n",
    "gongcan[changjing] = gongcan[changjing].fillna(3)\n",
    "\n",
    "gongcan[zhishi] = gongcan[zhishi].fillna('TDD')\n",
    "\n",
    "gongcan_1=gongcan.loc[(gongcan[lon]<130)&(gongcan[lat]<40)&(gongcan[lat]>20)]"
   ]
  },
  {
   "cell_type": "code",
   "execution_count": null,
   "metadata": {},
   "outputs": [],
   "source": [
    "def juli(df,changjing,pinduan):\n",
    "    F900 = {0:'300',1:'430',2:'430',3:'430',4:'1200',5:'2200'}\n",
    "    TDD = {0:'250',1:'400',2:'400',3:'350',4:'800',5:'1000'}\n",
    "    df['juli']= [F900[cj] if pd == 'FDD900' else TDD[cj]for cj , pd in zip(df[changjing],df[pinduan])]\n",
    "    return df"
   ]
  },
  {
   "cell_type": "code",
   "execution_count": null,
   "metadata": {
    "scrolled": true
   },
   "outputs": [],
   "source": [
    "data = juli(gongcan_1,changjing,zhishi)\n",
    "\n",
    "data['juli'] = pd.to_numeric(data['juli'])\n",
    "\n",
    "data_jian_res = nt.add_buffer_df(data, lon=lon, lat=lat, buff_col='juli')\n",
    "\n",
    "#建筑导入\n",
    "\n",
    "f_y = mt.file_name_paths(path=r'G:\\1-规划\\图层\\湖北建筑\\湖北建筑\\湖北建筑')\n",
    "\n",
    "f = mt.str_inlist(f_y,str='.tab')\n",
    "# f = mt.str_inlist(f_y,str='.tab')"
   ]
  },
  {
   "cell_type": "code",
   "execution_count": null,
   "metadata": {
    "scrolled": true
   },
   "outputs": [],
   "source": [
    "data_add = pd.DataFrame()\n",
    "for name in f:\n",
    "    t_tu = gpd.read_file(name)\n",
    "    t_tu_1 = t_tu.to_crs({\"init\": \"epsg:4326\"})\n",
    "    data_tu_res = gpd.sjoin(data_jian_res,t_tu_1)\n",
    "    data_tu_res_res = data_tu_res[[id, 'juli', '单位名称', '建筑物高度']]\n",
    "    data_tu_res_res['平均值'] = data_tu_res_res['建筑物高度']\n",
    "    data_group = data_tu_res_res.groupby(by =id).agg({'建筑物高度':'max','平均值':'mean'})\n",
    "    data_group.reset_index(inplace = True)\n",
    "    data_add = data_add.append(data_group)\n",
    "    print(name,t_tu_1.shape,data_tu_res.shape,data_add.shape)"
   ]
  },
  {
   "cell_type": "code",
   "execution_count": null,
   "metadata": {},
   "outputs": [],
   "source": [
    "data_add_res = data_add.groupby(by = id).agg({'建筑物高度':'max','平均值':'mean'})\n",
    "\n",
    "data_add_res.columns\n",
    "\n",
    "data_add_res.reset_index(inplace = True)\n",
    "\n",
    "data_add_res.reset_index(inplace = True)\n",
    "\n",
    "data_add_res_merge = gongcan.merge(data_add_res,how = 'left',on =id)\n",
    "\n",
    "data_add_res_merge.columns\n",
    "\n",
    "data_add_res_merge_drop = data_add_res_merge.drop_duplicates('index')\n",
    "\n",
    "data_add_res_merge_drop.columns\n",
    "\n",
    "data_add_res_merge_drop.to_csv('第四批.csv',encoding = 'gbk',index =False)"
   ]
  },
  {
   "cell_type": "code",
   "execution_count": null,
   "metadata": {},
   "outputs": [],
   "source": []
  }
 ],
 "metadata": {
  "kernelspec": {
   "display_name": "Python 3",
   "language": "python",
   "name": "python3"
  },
  "language_info": {
   "codemirror_mode": {
    "name": "ipython",
    "version": 3
   },
   "file_extension": ".py",
   "mimetype": "text/x-python",
   "name": "python",
   "nbconvert_exporter": "python",
   "pygments_lexer": "ipython3",
   "version": "3.7.4"
  },
  "toc": {
   "base_numbering": 1,
   "nav_menu": {},
   "number_sections": true,
   "sideBar": true,
   "skip_h1_title": false,
   "title_cell": "Table of Contents",
   "title_sidebar": "Contents",
   "toc_cell": false,
   "toc_position": {},
   "toc_section_display": true,
   "toc_window_display": false
  },
  "varInspector": {
   "cols": {
    "lenName": 16,
    "lenType": 16,
    "lenVar": 40
   },
   "kernels_config": {
    "python": {
     "delete_cmd_postfix": "",
     "delete_cmd_prefix": "del ",
     "library": "var_list.py",
     "varRefreshCmd": "print(var_dic_list())"
    },
    "r": {
     "delete_cmd_postfix": ") ",
     "delete_cmd_prefix": "rm(",
     "library": "var_list.r",
     "varRefreshCmd": "cat(var_dic_list()) "
    }
   },
   "types_to_exclude": [
    "module",
    "function",
    "builtin_function_or_method",
    "instance",
    "_Feature"
   ],
   "window_display": false
  }
 },
 "nbformat": 4,
 "nbformat_minor": 2
}
