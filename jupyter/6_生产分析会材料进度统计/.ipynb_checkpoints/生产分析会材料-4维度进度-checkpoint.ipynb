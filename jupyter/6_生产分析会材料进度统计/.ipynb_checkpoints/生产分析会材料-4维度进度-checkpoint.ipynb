{
 "cells": [
  {
   "cell_type": "code",
   "execution_count": 1,
   "metadata": {},
   "outputs": [],
   "source": [
    "%load_ext autoreload\n",
    "%autoreload 2"
   ]
  },
  {
   "cell_type": "code",
   "execution_count": 2,
   "metadata": {},
   "outputs": [],
   "source": [
    "import pandas as pd \n",
    "from tqdm import tqdm\n",
    "import geopandas as gpd\n",
    "import mytools"
   ]
  },
  {
   "cell_type": "markdown",
   "metadata": {},
   "source": [
    "# mrs数据汇总"
   ]
  },
  {
   "cell_type": "code",
   "execution_count": null,
   "metadata": {},
   "outputs": [],
   "source": [
    "#导入atu图层"
   ]
  },
  {
   "cell_type": "markdown",
   "metadata": {},
   "source": [
    "### 1-导入数据 "
   ]
  },
  {
   "cell_type": "code",
   "execution_count": null,
   "metadata": {},
   "outputs": [],
   "source": [
    "#导入mrs数据到data\n",
    "f = tools_other.file_name_paths(path='D:/up/mrs/')\n",
    "data = pd.DataFrame()\n",
    "tqdm_f=tqdm(f)\n",
    "for name in tqdm_f:\n",
    "    data_n = pd.read_csv(name,encoding = 'gbk')\n",
    "    data_n = data_n[['时间', '小区中文名', 'CGI', '地市', '区县', '厂家名称', '小区类别',\n",
    "       '自_弱覆盖采样点占比_Eutrancell', '参考信号接收功率采样点点数', '自_自-弱覆盖采样点110_Eutrancell','工作频段']]\n",
    "    data = data.append(data_n)\n",
    "    tqdm_f.set_description(\"进度\")"
   ]
  },
  {
   "cell_type": "code",
   "execution_count": null,
   "metadata": {},
   "outputs": [],
   "source": [
    "#按照小区cig进行汇总\n",
    "data_sum = data.groupby(by = 'CGI').sum()\n",
    "#去除小区cgi为一列\n",
    "data_sum.reset_index(inplace = True)"
   ]
  },
  {
   "cell_type": "code",
   "execution_count": null,
   "metadata": {},
   "outputs": [],
   "source": [
    "#导入竞对数据到jingdui\n",
    "jingdui = pd.read_sql_table('多天指标汇总-mro-19年12月汇总-竞对',con = tools_other.con())"
   ]
  },
  {
   "cell_type": "code",
   "execution_count": null,
   "metadata": {},
   "outputs": [],
   "source": [
    "#导入工参数据到工参\n",
    "gongcan = pd.read_csv(open('g:/1-规划/工参/工参数据/ltejizhan20191120.csv',encoding = 'gbk'))\n",
    "gongcan_cig = gongcan.set_index('小区CGI(*)')"
   ]
  },
  {
   "cell_type": "code",
   "execution_count": null,
   "metadata": {},
   "outputs": [],
   "source": [
    "#导入atu图层\n",
    "atu = gpd.read_file('g:/1-规划/图层/ATU测试区域（201604）/ATU测试区域/ATU网格总.TAB')\n",
    "\n",
    "#地理查询是atu的小区数\n",
    "data_t = gpd.sjoin(atu,tools_gis.add_points(gongcan,'RRU经度', 'RRU纬度'))\n",
    "#新增atu列\n",
    "data_t = data_t[['小区CGI(*)','所属地区']]\n",
    "data_t['atu']='是'\n",
    "data_t = data_t.set_index('小区CGI(*)')"
   ]
  },
  {
   "cell_type": "code",
   "execution_count": null,
   "metadata": {},
   "outputs": [],
   "source": [
    "data_t.drop_duplicates().shape"
   ]
  },
  {
   "cell_type": "markdown",
   "metadata": {},
   "source": [
    "### 2-数据处理"
   ]
  },
  {
   "cell_type": "code",
   "execution_count": null,
   "metadata": {},
   "outputs": [],
   "source": [
    "#查看数据的完整性\n",
    "data_sum.shape,gongcan.shape,jingdui.shape"
   ]
  },
  {
   "cell_type": "code",
   "execution_count": null,
   "metadata": {
    "scrolled": true
   },
   "outputs": [],
   "source": [
    "#数据融合\n",
    "res =jingdui.merge(data_sum,how = 'outer',left_on = 'cgi',right_on = 'CGI' , indicator = True)\n",
    "# #查勘比例\n",
    "# res['tongji'] = res['_merge']\n",
    "# res.groupby(by = '_merge').agg({'tongji':'count'})\n",
    "#只保留mrs的小区\n",
    "res_g = res.loc[res['_merge']!='left_only']\n",
    "res_g['cgi'] = res_g['CGI']"
   ]
  },
  {
   "cell_type": "code",
   "execution_count": null,
   "metadata": {
    "scrolled": false
   },
   "outputs": [],
   "source": [
    "#将mrs的覆盖率传递给融合数据\n",
    "res_g['rsrp_count'] = res_g['参考信号接收功率采样点点数']\n",
    "res_g['rsrp_weak'] = res_g['自_自-弱覆盖采样点110_Eutrancell']\n",
    "#只保留和多天指标汇总数据格式一样的列\n",
    "res_g = res_g[jingdui.columns]"
   ]
  },
  {
   "cell_type": "code",
   "execution_count": null,
   "metadata": {},
   "outputs": [],
   "source": [
    "mrs_jingdui = res_g.set_index('cgi')\n",
    "#使用gongcan更新数据\n",
    "mrs_jingdui['rq'] = 201911\n",
    "mrs_jingdui['atu'] = ''\n",
    "mrs_jingdui['小区中文名'].update(gongcan_cig['小区中文名'])\n",
    "mrs_jingdui['city'].update(gongcan_cig['所属地区'])\n",
    "mrs_jingdui['vander'].update(gongcan_cig['厂家名称'])\n",
    "mrs_jingdui['gsqx'].update(gongcan_cig['归属区县'])\n",
    "mrs_jingdui['网络制式(TDD/FDD)'].update(gongcan_cig['网络制式(TDD/FDD)'])\n",
    "mrs_jingdui['atu'].update(data_t['atu'])"
   ]
  },
  {
   "cell_type": "code",
   "execution_count": null,
   "metadata": {},
   "outputs": [],
   "source": [
    "mro_10_reindex = mrs_jingdui.copy()\n",
    "\n",
    "#更新竞对黑点数据-数据统一\n",
    "mro_10_reindex['hd_chun'] = 'f'\n",
    "mro_10_reindex['hd_chte'] = 'f'\n",
    "mro_10_reindex['ok_chun'] = 'f'\n",
    "mro_10_reindex['ok_chte'] = 'f'\n",
    "#数据格式处理\n",
    "mro_10_reindex['rsrp_count'] = pd.to_numeric(mro_10_reindex['rsrp_count'])\n",
    "mro_10_reindex['rsrp_weak'] = pd.to_numeric(mro_10_reindex['rsrp_weak'])\n",
    "mro_10_reindex['un_maxrsrp_count'] = pd.to_numeric(mro_10_reindex['un_maxrsrp_count'])\n",
    "mro_10_reindex['un_maxrsrp_weak113'] = pd.to_numeric(mro_10_reindex['un_maxrsrp_weak113'])\n",
    "mro_10_reindex['te_maxrsrp_count'] = pd.to_numeric(mro_10_reindex['te_maxrsrp_count'])\n",
    "mro_10_reindex['te_maxrsrp_weak113'] = pd.to_numeric(mro_10_reindex['te_maxrsrp_weak113'])\n",
    "#覆盖率更新\n",
    "mro_10_reindex['fgl_cmcc'] = 1 - mro_10_reindex['rsrp_weak'] / mro_10_reindex['rsrp_count']\n",
    "mro_10_reindex['fgl_chun'] = 1 - mro_10_reindex['un_maxrsrp_weak113'] / mro_10_reindex['un_maxrsrp_count']\n",
    "mro_10_reindex['fgl_chte'] = 1 - mro_10_reindex['te_maxrsrp_weak113'] / mro_10_reindex['te_maxrsrp_count']"
   ]
  },
  {
   "cell_type": "code",
   "execution_count": null,
   "metadata": {
    "scrolled": true
   },
   "outputs": [],
   "source": [
    "#竞对更新\n",
    "mro_10_reindex.loc[((1-mro_10_reindex['rsrp_weak']/mro_10_reindex['rsrp_count']<0.8)\n",
    "                  &(1-mro_10_reindex['un_maxrsrp_weak113']/mro_10_reindex['un_maxrsrp_count']>0.8))\n",
    "            |\n",
    "              ((1-mro_10_reindex['rsrp_weak']/mro_10_reindex['rsrp_count']>0.8)\n",
    "                  &(((1-mro_10_reindex['un_maxrsrp_weak113']/mro_10_reindex['un_maxrsrp_count'])\n",
    "                      -(1-mro_10_reindex['rsrp_weak']/mro_10_reindex['rsrp_count']))>0.05))\n",
    "                   ,'hd_chun'\n",
    "             ]='t'\n",
    "\n",
    "mro_10_reindex.loc[((1-mro_10_reindex['rsrp_weak']/mro_10_reindex['rsrp_count']<0.8)\n",
    "                  &(1-mro_10_reindex['te_maxrsrp_weak113']/mro_10_reindex['te_maxrsrp_count']>0.8))\n",
    "            |\n",
    "              ((1-mro_10_reindex['rsrp_weak']/mro_10_reindex['rsrp_count']>0.8)\n",
    "                  &(((1-mro_10_reindex['te_maxrsrp_weak113']/mro_10_reindex['te_maxrsrp_count'])-\n",
    "                     (1-mro_10_reindex['rsrp_weak']/mro_10_reindex['rsrp_count']))>0.05))\n",
    "                   ,'hd_chte'\n",
    "             ]='t'\n",
    "#竞对更新\n",
    "mro_10_reindex.loc[mro_10_reindex['un_maxrsrp_count']>=1000,'ok_chun']='t'\n",
    "mro_10_reindex.loc[mro_10_reindex['te_maxrsrp_count']>=1000,'ok_chte']='t'\n",
    "mro_10_reindex_res = mro_10_reindex.reset_index()\n",
    "mro_10_reindex_res1 = mro_10_reindex_res[jingdui.columns]"
   ]
  },
  {
   "cell_type": "markdown",
   "metadata": {},
   "source": [
    "### 3-数据导出"
   ]
  },
  {
   "cell_type": "code",
   "execution_count": null,
   "metadata": {},
   "outputs": [],
   "source": [
    "#导出到csv\n",
    "mro_10_reindex_res1.to_csv('G:/1-规划/MRO/1、原始数据/19年12月原始数据/临时-mro12月.csv',encoding = 'gbk',index = False)"
   ]
  },
  {
   "cell_type": "code",
   "execution_count": null,
   "metadata": {},
   "outputs": [],
   "source": [
    "from sqlalchemy.types import Integer,NVARCHAR,Float\n",
    "def mapping_df_types(df):\n",
    "    dtypedict = {}\n",
    "    for i, j in zip(df.columns, df.dtypes):\n",
    "        if \"object\" in str(j):\n",
    "            dtypedict.update({i: NVARCHAR(length=255)})\n",
    "        if \"float\" in str(j):\n",
    "            dtypedict.update({i: Float(precision=2, asdecimal=True)})\n",
    "        if \"int\" in str(j):\n",
    "            dtypedict.update({i: Integer()})\n",
    "    return dtypedict"
   ]
  },
  {
   "cell_type": "code",
   "execution_count": null,
   "metadata": {},
   "outputs": [],
   "source": [
    "dtypedict = mapping_df_types(mro_10_reindex_res1)\n",
    "#导出到sql\n",
    "mro_10_reindex_res1.to_sql(name='多天指标汇总-mro-19年12月汇总-本网替换后', con=tools_other.con(),  index=False, dtype=dtypedict)"
   ]
  },
  {
   "cell_type": "markdown",
   "metadata": {},
   "source": [
    "### FDD地市覆盖率统计 "
   ]
  },
  {
   "cell_type": "code",
   "execution_count": null,
   "metadata": {},
   "outputs": [],
   "source": [
    "#读取mrs采集数据\n",
    "data = pd.read_csv('mrs_19_6day.csv',encoding = 'gbk')"
   ]
  },
  {
   "cell_type": "code",
   "execution_count": null,
   "metadata": {},
   "outputs": [],
   "source": [
    "data.columns"
   ]
  },
  {
   "cell_type": "code",
   "execution_count": null,
   "metadata": {},
   "outputs": [],
   "source": [
    "data_fdd = data.loc[data['小区类别']=='TDD']"
   ]
  },
  {
   "cell_type": "code",
   "execution_count": null,
   "metadata": {},
   "outputs": [],
   "source": [
    "data_fdd.groupby(by = '地市').agg({'参考信号接收功率采样点点数':'sum','自_自-弱覆盖采样点110_Eutrancell':'sum'}).to_clipboard()"
   ]
  },
  {
   "cell_type": "code",
   "execution_count": null,
   "metadata": {},
   "outputs": [],
   "source": []
  },
  {
   "cell_type": "markdown",
   "metadata": {},
   "source": [
    "# 四维度进度"
   ]
  },
  {
   "cell_type": "code",
   "execution_count": 3,
   "metadata": {},
   "outputs": [],
   "source": [
    "qingdan_yuan1 = pd.read_excel('G:/1-规划/崔开通崔可研规划/2020年任务清单/20200330/副本任务清单-建设类20200330-使用.xlsx')"
   ]
  },
  {
   "cell_type": "code",
   "execution_count": 4,
   "metadata": {},
   "outputs": [],
   "source": [
    "qingdan_yuan1['TDL规划站号（新）'] = qingdan_yuan1['TDL规划站号（新）'].fillna('无')"
   ]
  },
  {
   "cell_type": "code",
   "execution_count": 5,
   "metadata": {},
   "outputs": [],
   "source": [
    "# qingdan_yuan = qingdan_yuan1.loc[qingdan_yuan1['分类']!='新单子-暂不使用']\n",
    "qingdan_yuan = qingdan_yuan1.loc[qingdan_yuan1['是否有效数据']=='是']"
   ]
  },
  {
   "cell_type": "markdown",
   "metadata": {},
   "source": [
    "## 优化统计"
   ]
  },
  {
   "cell_type": "code",
   "execution_count": 6,
   "metadata": {},
   "outputs": [],
   "source": [
    "qingdan = qingdan_yuan1.copy()"
   ]
  },
  {
   "cell_type": "code",
   "execution_count": 7,
   "metadata": {},
   "outputs": [],
   "source": [
    "youhua_z = qingdan.loc[(qingdan['优化']=='优化') & (qingdan['优化已派发']==1)]['唯一编号'].count()"
   ]
  },
  {
   "cell_type": "code",
   "execution_count": 8,
   "metadata": {},
   "outputs": [],
   "source": [
    "youhua_w = qingdan.loc[(qingdan['优化']=='优化') & (qingdan['优化已派发']==1)\n",
    "                      & (qingdan['优化完成']==1)]['唯一编号'].count()"
   ]
  },
  {
   "cell_type": "code",
   "execution_count": 9,
   "metadata": {},
   "outputs": [],
   "source": [
    "youhua = qingdan.loc[(qingdan['优化']=='优化') & (qingdan['优化已派发']==1)]"
   ]
  },
  {
   "cell_type": "code",
   "execution_count": 10,
   "metadata": {},
   "outputs": [],
   "source": [
    "youhuawancheng = qingdan.loc[(qingdan['优化']=='优化') & (qingdan['优化已派发']==1) & (qingdan['优化完成']==1)]"
   ]
  },
  {
   "cell_type": "code",
   "execution_count": 11,
   "metadata": {
    "scrolled": true
   },
   "outputs": [],
   "source": [
    "y_w=youhuawancheng.groupby(by = '地市').agg({'唯一编号':'count'})"
   ]
  },
  {
   "cell_type": "code",
   "execution_count": 12,
   "metadata": {},
   "outputs": [],
   "source": [
    "y_z = youhua.groupby(by = '地市').agg({'唯一编号':'count'})"
   ]
  },
  {
   "cell_type": "code",
   "execution_count": 13,
   "metadata": {},
   "outputs": [],
   "source": [
    "youhuajindu=pd.concat([y_z,y_w],axis = 1)"
   ]
  },
  {
   "cell_type": "code",
   "execution_count": 14,
   "metadata": {},
   "outputs": [],
   "source": [
    "youhuajindu.columns = ['总量','完成量']"
   ]
  },
  {
   "cell_type": "code",
   "execution_count": 15,
   "metadata": {},
   "outputs": [],
   "source": [
    "youhuajindu['进度'] = youhuajindu['完成量']/youhuajindu['总量']"
   ]
  },
  {
   "cell_type": "code",
   "execution_count": 16,
   "metadata": {},
   "outputs": [],
   "source": [
    "youhua_wanchengdugao=list(youhuajindu.sort_values(by=\"进度\",ascending= False).head(3).index)  #排序 升序True 降序False by列"
   ]
  },
  {
   "cell_type": "code",
   "execution_count": 17,
   "metadata": {},
   "outputs": [
    {
     "data": {
      "text/plain": [
       "'MR竞对优化工单目前累计派单14253单。除328正在处理中，已处理工单覆盖率改善11352单（本月新增解决181单），派发工单解决率79.64%。未解决原因主要是优化无法解决需重点优先开通站点。优化完成工单MR覆盖率改善1.56pp，对全网劣于竞对小区占比指标改善3.17pp。宜昌，恩施，黄冈派发工单解决率相对较高'"
      ]
     },
     "execution_count": 17,
     "metadata": {},
     "output_type": "execute_result"
    }
   ],
   "source": [
    "'MR竞对优化工单目前累计派单'+str(youhua_z)+'单。除328正在处理中，已处理工单覆盖率改善'+str(youhua_w)+'单（本月新增解决181单），派发工单解决\\\n",
    "率'+str(youhua_w/youhua_z*100)[:5]+'%'+'。未解决原因主要是优化无法解决需重点优先开通站点。优化完成工单MR覆盖率改善1.56pp，对全网劣于\\\n",
    "竞对小区占比指标改善3.17pp。'+str(youhua_wanchengdugao[0])+'，'+str(youhua_wanchengdugao[1])+'，'+str(youhua_wanchengdugao[2])+'派发工单解决率相对较高'"
   ]
  },
  {
   "cell_type": "code",
   "execution_count": 18,
   "metadata": {},
   "outputs": [
    {
     "data": {
      "text/html": [
       "<div>\n",
       "<style scoped>\n",
       "    .dataframe tbody tr th:only-of-type {\n",
       "        vertical-align: middle;\n",
       "    }\n",
       "\n",
       "    .dataframe tbody tr th {\n",
       "        vertical-align: top;\n",
       "    }\n",
       "\n",
       "    .dataframe thead th {\n",
       "        text-align: right;\n",
       "    }\n",
       "</style>\n",
       "<table border=\"1\" class=\"dataframe\">\n",
       "  <thead>\n",
       "    <tr style=\"text-align: right;\">\n",
       "      <th></th>\n",
       "      <th>总量</th>\n",
       "      <th>完成量</th>\n",
       "      <th>进度</th>\n",
       "    </tr>\n",
       "    <tr>\n",
       "      <th>地市</th>\n",
       "      <th></th>\n",
       "      <th></th>\n",
       "      <th></th>\n",
       "    </tr>\n",
       "  </thead>\n",
       "  <tbody>\n",
       "    <tr>\n",
       "      <th>宜昌</th>\n",
       "      <td>1391</td>\n",
       "      <td>1208</td>\n",
       "      <td>0.868440</td>\n",
       "    </tr>\n",
       "    <tr>\n",
       "      <th>恩施</th>\n",
       "      <td>1407</td>\n",
       "      <td>1205</td>\n",
       "      <td>0.856432</td>\n",
       "    </tr>\n",
       "    <tr>\n",
       "      <th>黄冈</th>\n",
       "      <td>1365</td>\n",
       "      <td>1146</td>\n",
       "      <td>0.839560</td>\n",
       "    </tr>\n",
       "    <tr>\n",
       "      <th>鄂州</th>\n",
       "      <td>396</td>\n",
       "      <td>330</td>\n",
       "      <td>0.833333</td>\n",
       "    </tr>\n",
       "    <tr>\n",
       "      <th>孝感</th>\n",
       "      <td>866</td>\n",
       "      <td>715</td>\n",
       "      <td>0.825635</td>\n",
       "    </tr>\n",
       "    <tr>\n",
       "      <th>潜江</th>\n",
       "      <td>226</td>\n",
       "      <td>183</td>\n",
       "      <td>0.809735</td>\n",
       "    </tr>\n",
       "    <tr>\n",
       "      <th>江汉</th>\n",
       "      <td>342</td>\n",
       "      <td>273</td>\n",
       "      <td>0.798246</td>\n",
       "    </tr>\n",
       "    <tr>\n",
       "      <th>黄石</th>\n",
       "      <td>527</td>\n",
       "      <td>418</td>\n",
       "      <td>0.793169</td>\n",
       "    </tr>\n",
       "    <tr>\n",
       "      <th>随州</th>\n",
       "      <td>648</td>\n",
       "      <td>508</td>\n",
       "      <td>0.783951</td>\n",
       "    </tr>\n",
       "    <tr>\n",
       "      <th>襄阳</th>\n",
       "      <td>964</td>\n",
       "      <td>754</td>\n",
       "      <td>0.782158</td>\n",
       "    </tr>\n",
       "    <tr>\n",
       "      <th>荆门</th>\n",
       "      <td>674</td>\n",
       "      <td>525</td>\n",
       "      <td>0.778932</td>\n",
       "    </tr>\n",
       "    <tr>\n",
       "      <th>武汉</th>\n",
       "      <td>3541</td>\n",
       "      <td>2703</td>\n",
       "      <td>0.763344</td>\n",
       "    </tr>\n",
       "    <tr>\n",
       "      <th>荆州</th>\n",
       "      <td>538</td>\n",
       "      <td>407</td>\n",
       "      <td>0.756506</td>\n",
       "    </tr>\n",
       "    <tr>\n",
       "      <th>天门</th>\n",
       "      <td>335</td>\n",
       "      <td>251</td>\n",
       "      <td>0.749254</td>\n",
       "    </tr>\n",
       "    <tr>\n",
       "      <th>咸宁</th>\n",
       "      <td>635</td>\n",
       "      <td>448</td>\n",
       "      <td>0.705512</td>\n",
       "    </tr>\n",
       "    <tr>\n",
       "      <th>十堰</th>\n",
       "      <td>396</td>\n",
       "      <td>276</td>\n",
       "      <td>0.696970</td>\n",
       "    </tr>\n",
       "  </tbody>\n",
       "</table>\n",
       "</div>"
      ],
      "text/plain": [
       "      总量   完成量        进度\n",
       "地市                      \n",
       "宜昌  1391  1208  0.868440\n",
       "恩施  1407  1205  0.856432\n",
       "黄冈  1365  1146  0.839560\n",
       "鄂州   396   330  0.833333\n",
       "孝感   866   715  0.825635\n",
       "潜江   226   183  0.809735\n",
       "江汉   342   273  0.798246\n",
       "黄石   527   418  0.793169\n",
       "随州   648   508  0.783951\n",
       "襄阳   964   754  0.782158\n",
       "荆门   674   525  0.778932\n",
       "武汉  3541  2703  0.763344\n",
       "荆州   538   407  0.756506\n",
       "天门   335   251  0.749254\n",
       "咸宁   635   448  0.705512\n",
       "十堰   396   276  0.696970"
      ]
     },
     "execution_count": 18,
     "metadata": {},
     "output_type": "execute_result"
    }
   ],
   "source": [
    "youhuajindu.sort_values(by=\"进度\",ascending= False)"
   ]
  },
  {
   "cell_type": "markdown",
   "metadata": {},
   "source": [
    "## 催开进度"
   ]
  },
  {
   "cell_type": "code",
   "execution_count": null,
   "metadata": {},
   "outputs": [],
   "source": [
    "qingdan = qingdan_yuan.copy()"
   ]
  },
  {
   "cell_type": "code",
   "execution_count": null,
   "metadata": {},
   "outputs": [],
   "source": [
    "cuikai_zdanzi = qingdan.loc[(qingdan['催开']=='催开') ]['唯一编号'].count()"
   ]
  },
  {
   "cell_type": "code",
   "execution_count": null,
   "metadata": {},
   "outputs": [],
   "source": [
    "cuikai_z = qingdan.loc[(qingdan['催开']=='催开') ].drop_duplicates(subset='TDL规划站号（新）') ['唯一编号'].count()"
   ]
  },
  {
   "cell_type": "code",
   "execution_count": null,
   "metadata": {},
   "outputs": [],
   "source": [
    "cuikai_w = qingdan.loc[(qingdan['催开']=='催开') & (qingdan['催开完成']==1) ].drop_duplicates(subset='TDL规划站号（新）') ['唯一编号'].count()"
   ]
  },
  {
   "cell_type": "code",
   "execution_count": null,
   "metadata": {},
   "outputs": [],
   "source": [
    "cuikai_quchong = qingdan.loc[(qingdan['催开']=='催开') ].drop_duplicates(subset='TDL规划站号（新）') "
   ]
  },
  {
   "cell_type": "code",
   "execution_count": null,
   "metadata": {},
   "outputs": [],
   "source": [
    "cuikai_quchong_wancheng = qingdan.loc[(qingdan['催开']=='催开') & (qingdan['催开完成']==1) ].drop_duplicates(subset='TDL规划站号（新）') "
   ]
  },
  {
   "cell_type": "code",
   "execution_count": null,
   "metadata": {},
   "outputs": [],
   "source": [
    "cuikai_zongliang = cuikai_quchong.groupby(by = '地市').agg({'唯一编号':'count'})"
   ]
  },
  {
   "cell_type": "code",
   "execution_count": null,
   "metadata": {},
   "outputs": [],
   "source": [
    "cuikai_wanchengliang = cuikai_quchong_wancheng.groupby(by = '地市').agg({'唯一编号':'count'})"
   ]
  },
  {
   "cell_type": "code",
   "execution_count": null,
   "metadata": {},
   "outputs": [],
   "source": [
    "cuikaijindu=pd.concat([cuikai_zongliang,cuikai_wanchengliang],axis = 1)"
   ]
  },
  {
   "cell_type": "code",
   "execution_count": null,
   "metadata": {},
   "outputs": [],
   "source": [
    "cuikaijindu.columns = ['总量','完成量']"
   ]
  },
  {
   "cell_type": "code",
   "execution_count": null,
   "metadata": {},
   "outputs": [],
   "source": [
    "cuikaijindu['进度'] = cuikaijindu['完成量']/cuikaijindu['总量']"
   ]
  },
  {
   "cell_type": "code",
   "execution_count": null,
   "metadata": {},
   "outputs": [],
   "source": [
    "cuikai_wanchengdudi=list(cuikaijindu.sort_values(by=\"进度\",ascending= True).head(1).index)  #排序 升序True 降序False by列"
   ]
  },
  {
   "cell_type": "code",
   "execution_count": null,
   "metadata": {},
   "outputs": [],
   "source": [
    "a=cuikai_wanchengdudi[0]"
   ]
  },
  {
   "cell_type": "code",
   "execution_count": null,
   "metadata": {},
   "outputs": [],
   "source": [
    "jindudi=cuikai_quchong.loc[(cuikai_quchong['地市']==a) & (cuikai_quchong['催开完成']!=1)].groupby(by='工期核实').agg({'唯一编号':'count'}).sort_values(by=\"唯一编号\",ascending= False).head(1).index"
   ]
  },
  {
   "cell_type": "code",
   "execution_count": null,
   "metadata": {},
   "outputs": [],
   "source": [
    "'催开工单共'+str(cuikai_zdanzi)+'单，涉及逻辑站\\\n",
    "点'+str(cuikai_z)+'个，已开通站点'+str(cuikai_w)+'个(本月新增201个），催开完成率\\\n",
    "为'+str(cuikai_w/cuikai_z*100)[:5]+'%'+'。'+cuikai_wanchengdudi[0]+'地市整体解决进度较慢，主要为'+jindudi[0]+'未开通占比较\\\n",
    "高，需加快站点建设进度。'+'已催开工单整体MR覆盖率改善2.60pp，对全网劣于竞对小区占比指标改善5.26pp。'"
   ]
  },
  {
   "cell_type": "code",
   "execution_count": null,
   "metadata": {},
   "outputs": [],
   "source": [
    "cuikaijindu.sort_values(by=\"进度\",ascending= True)"
   ]
  },
  {
   "cell_type": "markdown",
   "metadata": {},
   "source": [
    "## 可研统计"
   ]
  },
  {
   "cell_type": "code",
   "execution_count": null,
   "metadata": {},
   "outputs": [],
   "source": [
    "qingdan = qingdan_yuan.copy()"
   ]
  },
  {
   "cell_type": "code",
   "execution_count": null,
   "metadata": {},
   "outputs": [],
   "source": [
    "keyan_zdanzi = qingdan.loc[(qingdan['催可研']=='可研') ]['唯一编号'].count()"
   ]
  },
  {
   "cell_type": "code",
   "execution_count": null,
   "metadata": {},
   "outputs": [],
   "source": [
    "keyan_z = qingdan.loc[(qingdan['催可研']=='可研') ].drop_duplicates(subset='TDL规划站号（新）') ['唯一编号'].count()"
   ]
  },
  {
   "cell_type": "code",
   "execution_count": null,
   "metadata": {},
   "outputs": [],
   "source": [
    "keyan_w = qingdan.loc[(qingdan['催可研']=='可研') & (qingdan['可研完成']==1) ].drop_duplicates(subset='TDL规划站号（新）') ['唯一编号'].count()"
   ]
  },
  {
   "cell_type": "code",
   "execution_count": null,
   "metadata": {},
   "outputs": [],
   "source": [
    "'催可研工单共'+str(keyan_zdanzi)+'单，涉及'+str(keyan_z)+'个逻辑站点工期催研，目前累\\\n",
    "计'+str(keyan_w)+'个站点已纳入工期，入研进度为'+str(keyan_w/keyan_z*100)[:5]+'%。'"
   ]
  },
  {
   "cell_type": "markdown",
   "metadata": {},
   "source": [
    "## 规划进度"
   ]
  },
  {
   "cell_type": "code",
   "execution_count": null,
   "metadata": {},
   "outputs": [],
   "source": [
    "qingdan = qingdan_yuan.copy()"
   ]
  },
  {
   "cell_type": "code",
   "execution_count": null,
   "metadata": {},
   "outputs": [],
   "source": [
    "guihua_zdanzi = qingdan.loc[(qingdan['规划']=='规划') ]['唯一编号'].count()"
   ]
  },
  {
   "cell_type": "code",
   "execution_count": null,
   "metadata": {},
   "outputs": [],
   "source": [
    "guihua_w = qingdan.loc[(qingdan['规划']=='规划') & (qingdan['规划完成']==1) ]['唯一编号'].count()"
   ]
  },
  {
   "cell_type": "code",
   "execution_count": null,
   "metadata": {},
   "outputs": [],
   "source": [
    "'需规划解决工单共'+str(guihua_zdanzi)+'单，目前累计完成'+str(guihua_w)+'个问题工单规划衔接，规\\\n",
    "划完成比例'+str(guihua_w/guihua_zdanzi*100)[:5]+'%。'"
   ]
  },
  {
   "cell_type": "markdown",
   "metadata": {},
   "source": [
    "# ------武汉竞对及MR分析"
   ]
  },
  {
   "cell_type": "markdown",
   "metadata": {},
   "source": [
    "### 优化"
   ]
  },
  {
   "cell_type": "code",
   "execution_count": null,
   "metadata": {},
   "outputs": [],
   "source": [
    "qingdan_y = qingdan_yuan1.copy()"
   ]
  },
  {
   "cell_type": "code",
   "execution_count": null,
   "metadata": {},
   "outputs": [],
   "source": [
    "qingdan_y = qingdan_y.loc[qingdan_y['地市']=='武汉']"
   ]
  },
  {
   "cell_type": "code",
   "execution_count": null,
   "metadata": {},
   "outputs": [],
   "source": [
    "qingdan = qingdan_y.copy()"
   ]
  },
  {
   "cell_type": "code",
   "execution_count": null,
   "metadata": {},
   "outputs": [],
   "source": [
    "youhua_z = qingdan.loc[(qingdan['优化']=='优化') & (qingdan['优化已派发']==1)]['唯一编号'].count()"
   ]
  },
  {
   "cell_type": "code",
   "execution_count": null,
   "metadata": {},
   "outputs": [],
   "source": [
    "youhua_w = qingdan.loc[(qingdan['优化']=='优化') & (qingdan['优化已派发']==1)\n",
    "                      & (qingdan['优化完成']==1)]['唯一编号'].count()"
   ]
  },
  {
   "cell_type": "code",
   "execution_count": null,
   "metadata": {},
   "outputs": [],
   "source": [
    "youhua = qingdan.loc[(qingdan['优化']=='优化') & (qingdan['优化已派发']==1)]"
   ]
  },
  {
   "cell_type": "code",
   "execution_count": null,
   "metadata": {},
   "outputs": [],
   "source": [
    "youhuawancheng = qingdan.loc[(qingdan['优化']=='优化') & (qingdan['优化已派发']==1) & (qingdan['优化完成']==1)]"
   ]
  },
  {
   "cell_type": "code",
   "execution_count": null,
   "metadata": {
    "scrolled": true
   },
   "outputs": [],
   "source": [
    "y_w=youhuawancheng.groupby(by = '区县').agg({'唯一编号':'count'})"
   ]
  },
  {
   "cell_type": "code",
   "execution_count": null,
   "metadata": {},
   "outputs": [],
   "source": [
    "y_z = youhua.groupby(by = '区县').agg({'唯一编号':'count'})"
   ]
  },
  {
   "cell_type": "code",
   "execution_count": null,
   "metadata": {},
   "outputs": [],
   "source": [
    "youhuajindu=pd.concat([y_z,y_w],axis = 1)"
   ]
  },
  {
   "cell_type": "code",
   "execution_count": null,
   "metadata": {},
   "outputs": [],
   "source": [
    "youhuajindu.columns = ['总量','完成量']"
   ]
  },
  {
   "cell_type": "code",
   "execution_count": null,
   "metadata": {},
   "outputs": [],
   "source": [
    "youhuajindu['进度'] = youhuajindu['完成量']/youhuajindu['总量']"
   ]
  },
  {
   "cell_type": "code",
   "execution_count": null,
   "metadata": {},
   "outputs": [],
   "source": [
    "youhua_wanchengdugao=list(youhuajindu.sort_values(by=\"进度\",ascending= False).head(3).index)  #排序 升序True 降序False by列"
   ]
  },
  {
   "cell_type": "code",
   "execution_count": null,
   "metadata": {},
   "outputs": [],
   "source": [
    "'MR竞对优化工单目前累计派单'+str(youhua_z)+'单。除328正在处理中，已处理工单覆盖率改善'+str(youhua_w)+'单（本月新增解决181单），派发工单解决\\\n",
    "率'+str(youhua_w/youhua_z*100)[:5]+'%'+'。未解决原因主要是优化无法解决需重点优先开通站点。优化完成工单MR覆盖率改善1.56pp，对全网劣于\\\n",
    "竞对小区占比指标改善3.17pp。'+str(youhua_wanchengdugao[0])+'，'+str(youhua_wanchengdugao[1])+'，'+str(youhua_wanchengdugao[2])+'派发工单解决率相对较高'"
   ]
  },
  {
   "cell_type": "code",
   "execution_count": null,
   "metadata": {},
   "outputs": [],
   "source": [
    "youhuajindu.to_clipboard()"
   ]
  },
  {
   "cell_type": "markdown",
   "metadata": {},
   "source": [
    "### 催开"
   ]
  },
  {
   "cell_type": "code",
   "execution_count": null,
   "metadata": {},
   "outputs": [],
   "source": [
    "qingdan_c = qingdan_yuan.copy()"
   ]
  },
  {
   "cell_type": "code",
   "execution_count": null,
   "metadata": {},
   "outputs": [],
   "source": [
    "qingdan_c = qingdan_c.loc[qingdan_c['地市']=='武汉']"
   ]
  },
  {
   "cell_type": "code",
   "execution_count": null,
   "metadata": {},
   "outputs": [],
   "source": [
    "qingdan = qingdan_c.copy()"
   ]
  },
  {
   "cell_type": "code",
   "execution_count": null,
   "metadata": {},
   "outputs": [],
   "source": [
    "cuikai_zdanzi = qingdan.loc[(qingdan['催开']=='催开') ]['唯一编号'].count()"
   ]
  },
  {
   "cell_type": "code",
   "execution_count": null,
   "metadata": {},
   "outputs": [],
   "source": [
    "cuikai_z = qingdan.loc[(qingdan['催开']=='催开') ].drop_duplicates(subset='TDL规划站号（新）') ['唯一编号'].count()"
   ]
  },
  {
   "cell_type": "code",
   "execution_count": null,
   "metadata": {},
   "outputs": [],
   "source": [
    "cuikai_w = qingdan.loc[(qingdan['催开']=='催开') & (qingdan['催开完成']==1) ].drop_duplicates(subset='TDL规划站号（新）') ['唯一编号'].count()"
   ]
  },
  {
   "cell_type": "code",
   "execution_count": null,
   "metadata": {},
   "outputs": [],
   "source": [
    "cuikai_quchong = qingdan.loc[(qingdan['催开']=='催开') ].drop_duplicates(subset='TDL规划站号（新）') "
   ]
  },
  {
   "cell_type": "code",
   "execution_count": null,
   "metadata": {},
   "outputs": [],
   "source": [
    "cuikai_quchong_wancheng = qingdan.loc[(qingdan['催开']=='催开') & (qingdan['催开完成']==1) ].drop_duplicates(subset='TDL规划站号（新）') "
   ]
  },
  {
   "cell_type": "code",
   "execution_count": null,
   "metadata": {},
   "outputs": [],
   "source": [
    "cuikai_zongliang = cuikai_quchong.groupby(by = '区县').agg({'唯一编号':'count'})"
   ]
  },
  {
   "cell_type": "code",
   "execution_count": null,
   "metadata": {},
   "outputs": [],
   "source": [
    "cuikai_wanchengliang = cuikai_quchong_wancheng.groupby(by = '区县').agg({'唯一编号':'count'})"
   ]
  },
  {
   "cell_type": "code",
   "execution_count": null,
   "metadata": {},
   "outputs": [],
   "source": [
    "cuikaijindu=pd.concat([cuikai_zongliang,cuikai_wanchengliang],axis = 1)"
   ]
  },
  {
   "cell_type": "code",
   "execution_count": null,
   "metadata": {},
   "outputs": [],
   "source": [
    "cuikaijindu.columns = ['总量','完成量']"
   ]
  },
  {
   "cell_type": "code",
   "execution_count": null,
   "metadata": {},
   "outputs": [],
   "source": [
    "cuikaijindu['进度'] = cuikaijindu['完成量']/cuikaijindu['总量']"
   ]
  },
  {
   "cell_type": "code",
   "execution_count": null,
   "metadata": {},
   "outputs": [],
   "source": [
    "cuikai_wanchengdudi=list(cuikaijindu.sort_values(by=\"进度\",ascending= True).head(1).index)  #排序 升序True 降序False by列"
   ]
  },
  {
   "cell_type": "code",
   "execution_count": null,
   "metadata": {},
   "outputs": [],
   "source": [
    "a=cuikai_wanchengdudi[0]"
   ]
  },
  {
   "cell_type": "code",
   "execution_count": null,
   "metadata": {},
   "outputs": [],
   "source": [
    "jindudi=cuikai_quchong.loc[(cuikai_quchong['区县']==a) & (cuikai_quchong['催开完成']!=1)].groupby(by='工期核实').agg({'唯一编号':'count'}).sort_values(by=\"唯一编号\",ascending= False).head(1).index"
   ]
  },
  {
   "cell_type": "code",
   "execution_count": null,
   "metadata": {},
   "outputs": [],
   "source": [
    "'催开工单共'+str(cuikai_zdanzi)+'单，涉及逻辑站\\\n",
    "点'+str(cuikai_z)+'个，已开通站点'+str(cuikai_w)+'个(本月新增201个），催开完成率\\\n",
    "为'+str(cuikai_w/cuikai_z*100)[:5]+'%'+'。'+cuikai_wanchengdudi[0]+'地市整体解决进度较慢，主要为'+jindudi[0]+'未开通占比较\\\n",
    "高，需加快站点建设进度。'+'已催开工单整体MR覆盖率改善2.60pp，对全网劣于竞对小区占比指标改善5.26pp。'"
   ]
  },
  {
   "cell_type": "code",
   "execution_count": null,
   "metadata": {},
   "outputs": [],
   "source": [
    "cuikaijindu"
   ]
  },
  {
   "cell_type": "code",
   "execution_count": null,
   "metadata": {},
   "outputs": [],
   "source": [
    "cuikaijindu.to_clipboard()"
   ]
  },
  {
   "cell_type": "markdown",
   "metadata": {},
   "source": [
    "### 可研"
   ]
  },
  {
   "cell_type": "code",
   "execution_count": null,
   "metadata": {},
   "outputs": [],
   "source": [
    "qingdan_k = qingdan_yuan.copy()"
   ]
  },
  {
   "cell_type": "code",
   "execution_count": null,
   "metadata": {},
   "outputs": [],
   "source": [
    "qingdan_k = qingdan_k.loc[qingdan_k['地市']=='武汉']"
   ]
  },
  {
   "cell_type": "code",
   "execution_count": null,
   "metadata": {},
   "outputs": [],
   "source": [
    "qingdan = qingdan_k.copy()"
   ]
  },
  {
   "cell_type": "code",
   "execution_count": null,
   "metadata": {},
   "outputs": [],
   "source": [
    "keyan_zdanzi = qingdan.loc[(qingdan['催可研']=='可研') ]['唯一编号'].count()"
   ]
  },
  {
   "cell_type": "code",
   "execution_count": null,
   "metadata": {},
   "outputs": [],
   "source": [
    "keyan_z = qingdan.loc[(qingdan['催可研']=='可研') ].drop_duplicates(subset='TDL规划站号（新）') ['唯一编号'].count()"
   ]
  },
  {
   "cell_type": "code",
   "execution_count": null,
   "metadata": {},
   "outputs": [],
   "source": [
    "keyan_w = qingdan.loc[(qingdan['催可研']=='可研') & (qingdan['可研完成']==1) ].drop_duplicates(subset='TDL规划站号（新）') ['唯一编号'].count()"
   ]
  },
  {
   "cell_type": "code",
   "execution_count": null,
   "metadata": {},
   "outputs": [],
   "source": [
    "'催可研工单共'+str(keyan_zdanzi)+'单，涉及'+str(keyan_z)+'个逻辑站点工期催研，目前累\\\n",
    "计'+str(keyan_w)+'个站点已纳入工期，入研进度为'+str(keyan_w/keyan_z*100)[:5]+'%。'"
   ]
  },
  {
   "cell_type": "code",
   "execution_count": null,
   "metadata": {},
   "outputs": [],
   "source": [
    "keyan_quchong = qingdan.loc[(qingdan['催可研']=='可研') ].drop_duplicates(subset='TDL规划站号（新）')"
   ]
  },
  {
   "cell_type": "code",
   "execution_count": null,
   "metadata": {},
   "outputs": [],
   "source": [
    "keyan_quchong_w = qingdan.loc[(qingdan['催可研']=='可研') & (qingdan['可研完成']==1) ].drop_duplicates(subset='TDL规划站号（新）')"
   ]
  },
  {
   "cell_type": "code",
   "execution_count": null,
   "metadata": {},
   "outputs": [],
   "source": [
    "k_z = keyan_quchong.groupby(by = '区县').agg({'唯一编号':'count'})"
   ]
  },
  {
   "cell_type": "code",
   "execution_count": null,
   "metadata": {},
   "outputs": [],
   "source": [
    "k_w = keyan_quchong_w.groupby(by = '区县').agg({'唯一编号':'count'})"
   ]
  },
  {
   "cell_type": "code",
   "execution_count": null,
   "metadata": {},
   "outputs": [],
   "source": [
    "keyanjindu=pd.concat([k_z,k_w],axis = 1)"
   ]
  },
  {
   "cell_type": "code",
   "execution_count": null,
   "metadata": {},
   "outputs": [],
   "source": [
    "keyanjindu.columns = ['总量','完成量']"
   ]
  },
  {
   "cell_type": "code",
   "execution_count": null,
   "metadata": {},
   "outputs": [],
   "source": [
    "keyanjindu['进度'] = keyanjindu['完成量']/keyanjindu['总量']"
   ]
  },
  {
   "cell_type": "code",
   "execution_count": null,
   "metadata": {},
   "outputs": [],
   "source": [
    "keyanjindu.to_clipboard()"
   ]
  },
  {
   "cell_type": "markdown",
   "metadata": {},
   "source": [
    "### 规划 "
   ]
  },
  {
   "cell_type": "code",
   "execution_count": null,
   "metadata": {},
   "outputs": [],
   "source": [
    "qingdan_g = qingdan_yuan.copy()"
   ]
  },
  {
   "cell_type": "code",
   "execution_count": null,
   "metadata": {},
   "outputs": [],
   "source": [
    "qingdan_g = qingdan_g.loc[qingdan_g['地市']=='武汉']"
   ]
  },
  {
   "cell_type": "code",
   "execution_count": null,
   "metadata": {},
   "outputs": [],
   "source": [
    "qingdan = qingdan_g.copy()"
   ]
  },
  {
   "cell_type": "code",
   "execution_count": null,
   "metadata": {},
   "outputs": [],
   "source": [
    "guihua_zdanzi = qingdan.loc[(qingdan['规划']=='规划') ]['唯一编号'].count()"
   ]
  },
  {
   "cell_type": "code",
   "execution_count": null,
   "metadata": {},
   "outputs": [],
   "source": [
    "guihua_w = qingdan.loc[(qingdan['规划']=='规划') & (qingdan['规划完成']==1) ]['唯一编号'].count()"
   ]
  },
  {
   "cell_type": "code",
   "execution_count": null,
   "metadata": {},
   "outputs": [],
   "source": [
    "'需规划解决工单共'+str(guihua_zdanzi)+'单，目前累计完成'+str(guihua_w)+'个问题工单规划衔接，规\\\n",
    "划完成比例'+str(guihua_w/guihua_zdanzi*100)[:5]+'%。'"
   ]
  },
  {
   "cell_type": "code",
   "execution_count": null,
   "metadata": {},
   "outputs": [],
   "source": []
  },
  {
   "cell_type": "code",
   "execution_count": null,
   "metadata": {},
   "outputs": [],
   "source": [
    "guihua_qingdan = qingdan.loc[(qingdan['规划']=='规划') ]"
   ]
  },
  {
   "cell_type": "code",
   "execution_count": null,
   "metadata": {},
   "outputs": [],
   "source": [
    "guihua_qingdan_w = qingdan.loc[(qingdan['规划']=='规划') & (qingdan['规划完成']==1)]"
   ]
  },
  {
   "cell_type": "code",
   "execution_count": null,
   "metadata": {},
   "outputs": [],
   "source": [
    "g_z = guihua_qingdan.groupby(by = '区县').agg({'唯一编号':'count'})"
   ]
  },
  {
   "cell_type": "code",
   "execution_count": null,
   "metadata": {},
   "outputs": [],
   "source": [
    "g_w = guihua_qingdan_w.groupby(by = '区县').agg({'唯一编号':'count'})"
   ]
  },
  {
   "cell_type": "code",
   "execution_count": null,
   "metadata": {},
   "outputs": [],
   "source": [
    "guihuajindu=pd.concat([g_z,g_w],axis = 1)"
   ]
  },
  {
   "cell_type": "code",
   "execution_count": null,
   "metadata": {},
   "outputs": [],
   "source": [
    "guihuajindu.columns = ['总量','完成量']"
   ]
  },
  {
   "cell_type": "code",
   "execution_count": null,
   "metadata": {},
   "outputs": [],
   "source": [
    "guihuajindu['进度'] = guihuajindu['完成量']/guihuajindu['总量']"
   ]
  },
  {
   "cell_type": "code",
   "execution_count": null,
   "metadata": {},
   "outputs": [],
   "source": [
    "guihuajindu.to_clipboard()"
   ]
  },
  {
   "cell_type": "code",
   "execution_count": null,
   "metadata": {},
   "outputs": [],
   "source": []
  }
 ],
 "metadata": {
  "kernelspec": {
   "display_name": "Python 3",
   "language": "python",
   "name": "python3"
  },
  "language_info": {
   "codemirror_mode": {
    "name": "ipython",
    "version": 3
   },
   "file_extension": ".py",
   "mimetype": "text/x-python",
   "name": "python",
   "nbconvert_exporter": "python",
   "pygments_lexer": "ipython3",
   "version": "3.7.3"
  }
 },
 "nbformat": 4,
 "nbformat_minor": 2
}
