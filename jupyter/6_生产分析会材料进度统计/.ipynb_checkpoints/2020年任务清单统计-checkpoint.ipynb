{
 "cells": [
  {
   "cell_type": "code",
   "execution_count": null,
   "metadata": {
    "ExecuteTime": {
     "end_time": "2020-08-06T10:24:32.887873Z",
     "start_time": "2020-08-06T10:24:32.703850Z"
    }
   },
   "outputs": [],
   "source": [
    "%load_ext autoreload\n",
    "%autoreload 2"
   ]
  },
  {
   "cell_type": "code",
   "execution_count": null,
   "metadata": {
    "ExecuteTime": {
     "end_time": "2020-08-06T10:24:35.007642Z",
     "start_time": "2020-08-06T10:24:33.938006Z"
    }
   },
   "outputs": [],
   "source": [
    "import pandas as pd\n",
    "import mytools\n",
    "import re"
   ]
  },
  {
   "cell_type": "code",
   "execution_count": null,
   "metadata": {
    "ExecuteTime": {
     "end_time": "2020-08-06T10:24:50.831652Z",
     "start_time": "2020-08-06T10:24:35.009643Z"
    }
   },
   "outputs": [],
   "source": [
    "data_excel = pd.ExcelFile('G:/1-规划/崔开通崔可研规划/2020年任务清单/20200806/2020年任务清单（场景+MR）0806.xlsx')"
   ]
  },
  {
   "cell_type": "code",
   "execution_count": null,
   "metadata": {
    "ExecuteTime": {
     "end_time": "2020-08-06T10:24:52.577873Z",
     "start_time": "2020-08-06T10:24:50.833152Z"
    }
   },
   "outputs": [],
   "source": [
    "data = data_excel.parse(sheet_name=data_excel.sheet_names[0])"
   ]
  },
  {
   "cell_type": "code",
   "execution_count": null,
   "metadata": {
    "ExecuteTime": {
     "end_time": "2020-08-06T10:24:52.899914Z",
     "start_time": "2020-08-06T10:24:52.579874Z"
    }
   },
   "outputs": [],
   "source": [
    "data['TDL规划站号（新）'] = data['TDL规划站号（新）'].fillna('无')"
   ]
  },
  {
   "cell_type": "code",
   "execution_count": null,
   "metadata": {
    "ExecuteTime": {
     "end_time": "2020-08-06T10:24:53.251959Z",
     "start_time": "2020-08-06T10:24:52.901915Z"
    }
   },
   "outputs": [],
   "source": [
    "qingdan_yuan = data.loc[data['分类']=='2020年5月新任务清单']"
   ]
  },
  {
   "cell_type": "markdown",
   "metadata": {},
   "source": [
    "# -------全网进度--------\n",
    "## 优化进度"
   ]
  },
  {
   "cell_type": "code",
   "execution_count": null,
   "metadata": {
    "ExecuteTime": {
     "end_time": "2020-08-06T10:24:55.850789Z",
     "start_time": "2020-08-06T10:24:55.527748Z"
    }
   },
   "outputs": [],
   "source": [
    "qingdan = qingdan_yuan.copy()"
   ]
  },
  {
   "cell_type": "code",
   "execution_count": null,
   "metadata": {
    "ExecuteTime": {
     "end_time": "2020-08-06T10:24:56.186332Z",
     "start_time": "2020-08-06T10:24:55.852789Z"
    }
   },
   "outputs": [],
   "source": [
    "# 优化总点youhua_z，优化完成youhua_w，\n",
    "youhua_z = qingdan.loc[(qingdan['优化']=='优化')]['唯一编号'].count()\n",
    "youhua_p = qingdan.loc[(qingdan['优化']=='优化') & (qingdan['优化已派发']==1)]['唯一编号'].count()\n",
    "youhua_w = qingdan.loc[(qingdan['优化']=='优化') & (qingdan['优化已派发']==1)& (qingdan['优化完成']==1)]['唯一编号'].count()"
   ]
  },
  {
   "cell_type": "code",
   "execution_count": null,
   "metadata": {
    "ExecuteTime": {
     "end_time": "2020-08-06T10:24:56.528375Z",
     "start_time": "2020-08-06T10:24:56.187832Z"
    }
   },
   "outputs": [],
   "source": [
    "#youhua已经df，优化完成df\n",
    "youhua_data_z = qingdan.loc[(qingdan['优化']=='优化') ]\n",
    "youhua_data_p = qingdan.loc[(qingdan['优化']=='优化') & (qingdan['优化已派发']==1)]\n",
    "youhua_data_w = qingdan.loc[(qingdan['优化']=='优化') & (qingdan['优化已派发']==1) & (qingdan['优化完成']==1)]"
   ]
  },
  {
   "cell_type": "code",
   "execution_count": null,
   "metadata": {
    "ExecuteTime": {
     "end_time": "2020-08-06T10:24:56.854416Z",
     "start_time": "2020-08-06T10:24:56.530375Z"
    }
   },
   "outputs": [],
   "source": [
    "#地市的完成数量y_w，地市的派发总数量y_z\n",
    "y_z = youhua_data_z.groupby(by = '地市').agg({'唯一编号':'count'})\n",
    "y_w = youhua_data_w.groupby(by = '地市').agg({'唯一编号':'count'})\n",
    "y_p = youhua_data_p.groupby(by = '地市').agg({'唯一编号':'count'})"
   ]
  },
  {
   "cell_type": "code",
   "execution_count": null,
   "metadata": {
    "ExecuteTime": {
     "end_time": "2020-08-06T10:24:57.201961Z",
     "start_time": "2020-08-06T10:24:56.859417Z"
    }
   },
   "outputs": [],
   "source": [
    "# 统计每个地市的派发和完成\n",
    "youhuajindu=pd.concat([y_z,y_p,y_w],axis = 1)\n",
    "youhuajindu.columns = ['总量','派发','完成量']\n",
    "youhuajindu['完成派发进度'] = youhuajindu['完成量']/youhuajindu['派发']\n",
    "youhuajindu['整体进度'] = youhuajindu['完成量']/youhuajindu['总量']"
   ]
  },
  {
   "cell_type": "code",
   "execution_count": null,
   "metadata": {
    "ExecuteTime": {
     "end_time": "2020-08-06T10:24:57.544504Z",
     "start_time": "2020-08-06T10:24:57.205461Z"
    }
   },
   "outputs": [],
   "source": [
    "youhuajindu"
   ]
  },
  {
   "cell_type": "code",
   "execution_count": null,
   "metadata": {
    "ExecuteTime": {
     "end_time": "2020-08-06T10:24:57.884047Z",
     "start_time": "2020-08-06T10:24:57.546004Z"
    }
   },
   "outputs": [],
   "source": [
    "#按照格式输出\n",
    "youhua_wanchengdugao=list(youhuajindu.sort_values(by=\"完成派发进度\",ascending= False).head(3).index)  #排序 升序True 降序False by列"
   ]
  },
  {
   "cell_type": "code",
   "execution_count": null,
   "metadata": {
    "ExecuteTime": {
     "end_time": "2020-08-06T10:24:58.221590Z",
     "start_time": "2020-08-06T10:24:57.886548Z"
    }
   },
   "outputs": [],
   "source": [
    "'MR竞对优化工单总计'+str(youhua_z)+'单。已派发'+str(youhua_p)+'已完成'+str(youhua_w)+ '解决率'+str(youhua_w/youhua_p)+ \\\n",
    "str(youhua_wanchengdugao[0])+'、'+str(youhua_wanchengdugao[1])+'、'+str(youhua_wanchengdugao[2])+'派发工单解决率相对较高'"
   ]
  },
  {
   "cell_type": "code",
   "execution_count": null,
   "metadata": {
    "ExecuteTime": {
     "end_time": "2020-08-06T10:24:58.620641Z",
     "start_time": "2020-08-06T10:24:58.223590Z"
    },
    "scrolled": false
   },
   "outputs": [],
   "source": [
    "youhuajindu.sort_values(by=\"完成派发进度\",ascending= False)"
   ]
  },
  {
   "cell_type": "markdown",
   "metadata": {},
   "source": [
    "# 催开进度"
   ]
  },
  {
   "cell_type": "code",
   "execution_count": null,
   "metadata": {
    "ExecuteTime": {
     "end_time": "2020-08-06T10:24:59.025192Z",
     "start_time": "2020-08-06T10:24:58.625641Z"
    }
   },
   "outputs": [],
   "source": [
    "qingdan = qingdan_yuan.copy()"
   ]
  },
  {
   "cell_type": "code",
   "execution_count": null,
   "metadata": {
    "ExecuteTime": {
     "end_time": "2020-08-06T10:24:59.390739Z",
     "start_time": "2020-08-06T10:24:59.026692Z"
    }
   },
   "outputs": [],
   "source": [
    "# cuikai的数量统计\n",
    "cuikai_zdanzi = qingdan.loc[(qingdan['催开']=='催开') ]['唯一编号'].count()\n",
    "cuikai_z = qingdan.loc[(qingdan['催开']=='催开') ].drop_duplicates(subset='TDL规划站号（新）') ['唯一编号'].count()\n",
    "cuikai_w = qingdan.loc[(\n",
    "    qingdan['催开']=='催开') & (qingdan['催开完成']==1) ].drop_duplicates(subset='TDL规划站号（新）') ['唯一编号'].count()"
   ]
  },
  {
   "cell_type": "code",
   "execution_count": null,
   "metadata": {
    "ExecuteTime": {
     "end_time": "2020-08-06T10:24:59.725281Z",
     "start_time": "2020-08-06T10:24:59.393239Z"
    }
   },
   "outputs": [],
   "source": [
    "#催开总量和完成的df\n",
    "cuikai_quchong = qingdan.loc[(qingdan['催开']=='催开') ].drop_duplicates(subset='TDL规划站号（新）') \n",
    "cuikai_quchong_wancheng = qingdan.loc[(\n",
    "    qingdan['催开']=='催开') & (qingdan['催开完成']==1) ].drop_duplicates(subset='TDL规划站号（新）') "
   ]
  },
  {
   "cell_type": "code",
   "execution_count": null,
   "metadata": {
    "ExecuteTime": {
     "end_time": "2020-08-06T10:25:00.052323Z",
     "start_time": "2020-08-06T10:24:59.726781Z"
    }
   },
   "outputs": [],
   "source": [
    "#个地市的进度\n",
    "cuikai_zongliang = cuikai_quchong.groupby(by = '地市').agg({'唯一编号':'count'})\n",
    "cuikai_wanchengliang = cuikai_quchong_wancheng.groupby(by = '地市').agg({'唯一编号':'count'})\n",
    "cuikaijindu=pd.concat([cuikai_zongliang,cuikai_wanchengliang],axis = 1)\n",
    "cuikaijindu.columns = ['总量','完成量']\n",
    "cuikaijindu['进度'] = cuikaijindu['完成量']/cuikaijindu['总量']"
   ]
  },
  {
   "cell_type": "code",
   "execution_count": null,
   "metadata": {
    "ExecuteTime": {
     "end_time": "2020-08-06T10:25:00.385365Z",
     "start_time": "2020-08-06T10:25:00.054323Z"
    }
   },
   "outputs": [],
   "source": [
    "cuikai_wanchengdudi=list(cuikaijindu.sort_values(by=\"进度\",ascending= True).head(1).index)  #排序 升序True 降序False by列\n",
    "a=cuikai_wanchengdudi[0]\n",
    "jindudi=cuikai_quchong.loc[(cuikai_quchong['地市']==a) & (cuikai_quchong['催开完成']!=1)\n",
    "                          ].groupby(by='工期核实').agg({'唯一编号':'count'}).sort_values(by=\"唯一编号\",ascending= False).head(1).index\n",
    "'催开工单共'+str(cuikai_zdanzi)+'单，涉及逻辑站\\\n",
    "点'+str(cuikai_z)+'个，已开通站点'+str(cuikai_w)+'个(本月新增201个），催开完成率\\\n",
    "为'+str(cuikai_w/cuikai_z*100)[:5]+'%'+'。'+cuikai_wanchengdudi[0]+'地市整体解决进度较慢，主要为'+jindudi[0]+'未开通占比较\\\n",
    "高，需加快站点建设进度。'+'已催开工单整体MR覆盖率改善2.60pp，对全网劣于竞对小区占比指标改善5.26pp。'"
   ]
  },
  {
   "cell_type": "code",
   "execution_count": null,
   "metadata": {
    "ExecuteTime": {
     "end_time": "2020-08-06T10:25:56.424981Z",
     "start_time": "2020-08-06T10:25:56.095939Z"
    }
   },
   "outputs": [],
   "source": [
    "cuikaijindu.sort_values(by=\"进度\",ascending= True)"
   ]
  },
  {
   "cell_type": "code",
   "execution_count": null,
   "metadata": {
    "ExecuteTime": {
     "end_time": "2020-08-06T10:25:59.958430Z",
     "start_time": "2020-08-06T10:25:59.545377Z"
    }
   },
   "outputs": [],
   "source": [
    "cuikai_quchong.to_clipboard()"
   ]
  },
  {
   "cell_type": "markdown",
   "metadata": {},
   "source": [
    "# 可研进度"
   ]
  },
  {
   "cell_type": "code",
   "execution_count": null,
   "metadata": {
    "ExecuteTime": {
     "end_time": "2020-08-06T10:26:00.287971Z",
     "start_time": "2020-08-06T10:25:59.960930Z"
    }
   },
   "outputs": [],
   "source": [
    "qingdan = qingdan_yuan.copy()"
   ]
  },
  {
   "cell_type": "code",
   "execution_count": null,
   "metadata": {
    "ExecuteTime": {
     "end_time": "2020-08-06T10:26:00.633015Z",
     "start_time": "2020-08-06T10:26:00.289472Z"
    }
   },
   "outputs": [],
   "source": [
    "keyan_zdanzi = qingdan.loc[(qingdan['催可研']=='可研') ]['唯一编号'].count()\n",
    "keyan_z = qingdan.loc[(qingdan['催可研']=='可研') ].drop_duplicates(subset='TDL规划站号（新）') ['唯一编号'].count()\n",
    "keyan_w = qingdan.loc[(\n",
    "    qingdan['催可研']=='可研') & (qingdan['可研完成']==1) ].drop_duplicates(subset='TDL规划站号（新）') ['唯一编号'].count()"
   ]
  },
  {
   "cell_type": "code",
   "execution_count": null,
   "metadata": {
    "ExecuteTime": {
     "end_time": "2020-08-06T10:26:00.973058Z",
     "start_time": "2020-08-06T10:26:00.635016Z"
    }
   },
   "outputs": [],
   "source": [
    "'催可研工单共'+str(keyan_zdanzi)+'单，涉及'+str(keyan_z)+'个逻辑站点工期催研，目前累\\\n",
    "计'+str(keyan_w)+'个站点已纳入工期，入研进度为'+str(keyan_w/keyan_z*100)[:5]+'%。'"
   ]
  },
  {
   "cell_type": "code",
   "execution_count": null,
   "metadata": {
    "ExecuteTime": {
     "end_time": "2020-08-06T10:26:01.348106Z",
     "start_time": "2020-08-06T10:26:00.974559Z"
    }
   },
   "outputs": [],
   "source": [
    "#可研总量和完成的df\n",
    "keyan_quchong = qingdan.loc[(qingdan['催可研']=='可研') ].drop_duplicates(subset='TDL规划站号（新）') \n",
    "keyan_quchong_wancheng = qingdan.loc[(\n",
    "    qingdan['催可研']=='可研') & (qingdan['可研完成']==1) ].drop_duplicates(subset='TDL规划站号（新）') "
   ]
  },
  {
   "cell_type": "code",
   "execution_count": null,
   "metadata": {
    "ExecuteTime": {
     "end_time": "2020-08-06T10:26:01.702151Z",
     "start_time": "2020-08-06T10:26:01.353107Z"
    }
   },
   "outputs": [],
   "source": [
    "#个地市的进度\n",
    "keyan_zongliang = keyan_quchong.groupby(by = '地市').agg({'唯一编号':'count'})\n",
    "keyan_wanchengliang = keyan_quchong_wancheng.groupby(by = '地市').agg({'唯一编号':'count'})\n",
    "keyanjindu=pd.concat([keyan_zongliang,keyan_wanchengliang],axis = 1)\n",
    "keyanjindu.columns = ['总量','完成量']\n",
    "keyanjindu['进度'] = keyanjindu['完成量']/keyanjindu['总量']"
   ]
  },
  {
   "cell_type": "code",
   "execution_count": null,
   "metadata": {
    "ExecuteTime": {
     "end_time": "2020-08-06T10:26:02.055696Z",
     "start_time": "2020-08-06T10:26:01.703651Z"
    }
   },
   "outputs": [],
   "source": [
    "keyanjindu"
   ]
  },
  {
   "cell_type": "markdown",
   "metadata": {},
   "source": [
    "# 规划进度"
   ]
  },
  {
   "cell_type": "code",
   "execution_count": null,
   "metadata": {
    "ExecuteTime": {
     "end_time": "2020-08-06T10:26:02.437244Z",
     "start_time": "2020-08-06T10:26:02.059196Z"
    }
   },
   "outputs": [],
   "source": [
    "qingdan = qingdan_yuan.copy()"
   ]
  },
  {
   "cell_type": "code",
   "execution_count": null,
   "metadata": {
    "ExecuteTime": {
     "end_time": "2020-08-06T10:26:02.800791Z",
     "start_time": "2020-08-06T10:26:02.441245Z"
    }
   },
   "outputs": [],
   "source": [
    "guihua_zdanzi = qingdan.loc[(qingdan['规划']=='规划') ]['唯一编号'].count()\n",
    "guihua_w = qingdan.loc[(qingdan['规划']=='规划') & (qingdan['规划完成']==1) ]['唯一编号'].count()\n",
    "'需规划解决工单共'+str(guihua_zdanzi)+'单，目前累计完成'+str(guihua_w)+'个问题工单规划衔接，规\\\n",
    "划完成比例'+str(guihua_w/guihua_zdanzi*100)[:5]+'%。'"
   ]
  },
  {
   "cell_type": "code",
   "execution_count": null,
   "metadata": {
    "ExecuteTime": {
     "end_time": "2020-08-06T10:26:03.140834Z",
     "start_time": "2020-08-06T10:26:02.802791Z"
    }
   },
   "outputs": [],
   "source": [
    "#规划总量和完成的df\n",
    "guihua_quchong = qingdan.loc[(qingdan['规划']=='规划') ]\n",
    "guihua_quchong_wancheng = qingdan.loc[(qingdan['规划']=='规划') & (qingdan['规划完成']==1) ]"
   ]
  },
  {
   "cell_type": "code",
   "execution_count": null,
   "metadata": {
    "ExecuteTime": {
     "end_time": "2020-08-06T10:26:03.469375Z",
     "start_time": "2020-08-06T10:26:03.142834Z"
    }
   },
   "outputs": [],
   "source": [
    "#个地市的进度\n",
    "guihua_zongliang = guihua_quchong.groupby(by = '地市').agg({'唯一编号':'count'})\n",
    "guihua_wanchengliang = guihua_quchong_wancheng.groupby(by = '地市').agg({'唯一编号':'count'})\n",
    "guihuajindu=pd.concat([guihua_zongliang,guihua_wanchengliang],axis = 1)\n",
    "guihuajindu.columns = ['总量','完成量']\n",
    "guihuajindu['进度'] = guihuajindu['完成量']/guihuajindu['总量']"
   ]
  },
  {
   "cell_type": "markdown",
   "metadata": {},
   "source": [
    "# ---------周进度----------"
   ]
  },
  {
   "cell_type": "code",
   "execution_count": null,
   "metadata": {
    "ExecuteTime": {
     "end_time": "2020-08-06T10:26:44.287559Z",
     "start_time": "2020-08-06T10:26:43.964018Z"
    }
   },
   "outputs": [],
   "source": [
    "line = '''\n",
    "1.针对2020年的MR竞对覆盖提升清单，总任务量共计12009个。\n",
    " 规（小区）/优（小区）/研（站点）/建（站点）分别为6492/ 4313/ 1216/1707,\n",
    " 本周新增分别为0/0/1/12，累计已完成2171（33.44%）/ 866（20.08%）/ 761（62.58%）/ 789（46.22%）。\n",
    " '''"
   ]
  },
  {
   "cell_type": "code",
   "execution_count": null,
   "metadata": {
    "ExecuteTime": {
     "end_time": "2020-08-06T10:26:44.615100Z",
     "start_time": "2020-08-06T10:26:44.289059Z"
    }
   },
   "outputs": [],
   "source": [
    "keyanjindu.columns = ['总量',  '完成量', '可研进度']\n",
    "keyanjindu1=keyanjindu[['可研进度']]\n",
    "cuikaijindu.columns = ['总量',  '完成量', '催开进度']\n",
    "cuikaijindu1=cuikaijindu[['催开进度']]\n",
    "youhuajindu.columns = ['总量', '派发量', '完成量','完成派发进度', '优化进度']\n",
    "youhuajindu1=youhuajindu[['优化进度']]\n",
    "guihuajindu.columns = ['总量', '完成量', '规划进度']\n",
    "guihuajindu1=guihuajindu[['规划进度']]\n",
    "data_z = pd.concat([youhuajindu1,cuikaijindu1,keyanjindu1,guihuajindu1],axis=1)"
   ]
  },
  {
   "cell_type": "code",
   "execution_count": null,
   "metadata": {
    "ExecuteTime": {
     "end_time": "2020-08-06T10:26:44.942142Z",
     "start_time": "2020-08-06T10:26:44.616601Z"
    }
   },
   "outputs": [],
   "source": [
    "pattern = re.compile(r'.*累计已完成(\\d*).*/ (\\d*).*/ (\\d*).*/ (\\d*).*')                    # 用于匹配至少一个数字\n",
    "m = pattern.search(line) \n",
    "g_s = m.group(1)\n",
    "y_s = m.group(2)\n",
    "k_s = m.group(3)\n",
    "j_s = m.group(4)\n",
    "gui = guihua_w-int(g_s)\n",
    "you = youhua_w-int(y_s)\n",
    "yan = keyan_w-int(k_s)\n",
    "jian = cuikai_w-int(j_s)"
   ]
  },
  {
   "cell_type": "code",
   "execution_count": null,
   "metadata": {
    "ExecuteTime": {
     "end_time": "2020-08-06T10:26:45.269183Z",
     "start_time": "2020-08-06T10:26:44.943642Z"
    }
   },
   "outputs": [],
   "source": [
    "gui,you,yan,jian"
   ]
  },
  {
   "cell_type": "code",
   "execution_count": null,
   "metadata": {
    "ExecuteTime": {
     "end_time": "2020-08-06T10:26:45.599225Z",
     "start_time": "2020-08-06T10:26:45.271684Z"
    },
    "scrolled": true
   },
   "outputs": [],
   "source": [
    "print('1.针对2020年的MR竞对覆盖提升清单，总任务量共计12009个。\\n \\\n",
    "规（小区）/优（小区）/研（站点）/建（站点）分别为{g}/ {y}/ {k}/{j},\\n \\\n",
    "本周新增分别为{gui}/{you}/{yan}/{jian}，累计已完成{g_w}（{gui_b}%）/ {y_w}（{you_b}%）/ {ky_w}（{yan_b}%）/ {c_w}（{jian_b}%）。'.format(\n",
    "    g_w=str(guihua_w),ky_w=str(keyan_w),c_w =str(cuikai_w),y_w = str(youhua_w) ,g=str(guihua_zdanzi),\n",
    "    y=str(youhua_z),k=str(keyan_z),j=str(cuikai_z),gui=gui  ,you= you ,yan= yan ,jian = jian ,\n",
    "    gui_b=round(guihua_w/guihua_zdanzi*100,2),\n",
    "    you_b=round(youhua_w/youhua_z*100,2),\n",
    "    yan_b=round(keyan_w/keyan_z*100,2),\n",
    "    jian_b=round(cuikai_w/cuikai_z*100,2)\n",
    "))"
   ]
  },
  {
   "cell_type": "markdown",
   "metadata": {},
   "source": [
    "# ------------武汉竞对及MR分析----------------\n",
    "### 优化"
   ]
  },
  {
   "cell_type": "code",
   "execution_count": null,
   "metadata": {
    "ExecuteTime": {
     "end_time": "2020-08-05T08:50:23.183761Z",
     "start_time": "2020-08-05T08:50:22.664195Z"
    }
   },
   "outputs": [],
   "source": [
    "qingdan_y = qingdan_yuan.copy()\n",
    "qingdan_y = qingdan_y.loc[qingdan_y['地市']=='武汉']\n",
    "qingdan = qingdan_y.loc[qingdan_y['地市']=='武汉']"
   ]
  },
  {
   "cell_type": "code",
   "execution_count": null,
   "metadata": {
    "ExecuteTime": {
     "end_time": "2020-08-05T08:50:23.672823Z",
     "start_time": "2020-08-05T08:50:23.188761Z"
    }
   },
   "outputs": [],
   "source": [
    "qingdan.columns"
   ]
  },
  {
   "cell_type": "code",
   "execution_count": null,
   "metadata": {
    "ExecuteTime": {
     "end_time": "2020-08-05T08:50:24.201890Z",
     "start_time": "2020-08-05T08:50:23.674823Z"
    }
   },
   "outputs": [],
   "source": [
    "youhua_z = qingdan.loc[(qingdan['优化']=='优化')]['唯一编号'].count()\n",
    "youhua_p = qingdan.loc[(qingdan['优化']=='优化') & (qingdan['优化已派发']==1)]['唯一编号'].count()\n",
    "youhua_w = qingdan.loc[(qingdan['优化']=='优化') & (qingdan['优化已派发']==1)& (qingdan['优化完成']==1)]['唯一编号'].count()"
   ]
  },
  {
   "cell_type": "code",
   "execution_count": null,
   "metadata": {
    "ExecuteTime": {
     "end_time": "2020-08-05T08:50:24.745459Z",
     "start_time": "2020-08-05T08:50:24.204390Z"
    }
   },
   "outputs": [],
   "source": [
    "youhua_w"
   ]
  },
  {
   "cell_type": "code",
   "execution_count": null,
   "metadata": {
    "ExecuteTime": {
     "end_time": "2020-08-05T08:50:25.193516Z",
     "start_time": "2020-08-05T08:50:24.748960Z"
    }
   },
   "outputs": [],
   "source": [
    "youhua_data_z = qingdan.loc[(qingdan['优化']=='优化') ]\n",
    "youhua_data_p = qingdan.loc[(qingdan['优化']=='优化') & (qingdan['优化已派发']==1)]\n",
    "youhua_data_w = qingdan.loc[(qingdan['优化']=='优化') & (qingdan['优化已派发']==1) & (qingdan['优化完成']==1)]"
   ]
  },
  {
   "cell_type": "code",
   "execution_count": null,
   "metadata": {
    "ExecuteTime": {
     "end_time": "2020-08-05T08:50:25.706081Z",
     "start_time": "2020-08-05T08:50:25.200017Z"
    }
   },
   "outputs": [],
   "source": [
    "youhua_data_p.shape"
   ]
  },
  {
   "cell_type": "code",
   "execution_count": null,
   "metadata": {
    "ExecuteTime": {
     "end_time": "2020-08-05T08:50:26.159139Z",
     "start_time": "2020-08-05T08:50:25.709582Z"
    }
   },
   "outputs": [],
   "source": [
    "y_w = youhua_data_w.groupby(by = '区县').agg({'唯一编号':'count'})\n",
    "y_p = youhua_data_p.groupby(by = '区县').agg({'唯一编号':'count'})\n",
    "y_z = youhua_data_z.groupby(by = '区县').agg({'唯一编号':'count'})\n",
    "youhuajindu=pd.concat([y_z,y_p,y_w],axis = 1)"
   ]
  },
  {
   "cell_type": "code",
   "execution_count": null,
   "metadata": {
    "ExecuteTime": {
     "end_time": "2020-08-05T08:50:26.598194Z",
     "start_time": "2020-08-05T08:50:26.161639Z"
    }
   },
   "outputs": [],
   "source": [
    "youhuajindu.columns = ['总量','派发量','完成量']\n",
    "youhuajindu['派发完成进度'] = youhuajindu['完成量']/youhuajindu['派发量']\n",
    "youhuajindu['进度'] = youhuajindu['完成量']/youhuajindu['总量']"
   ]
  },
  {
   "cell_type": "code",
   "execution_count": null,
   "metadata": {
    "ExecuteTime": {
     "end_time": "2020-08-05T08:50:27.080756Z",
     "start_time": "2020-08-05T08:50:26.600195Z"
    }
   },
   "outputs": [],
   "source": [
    "youhuajindu"
   ]
  },
  {
   "cell_type": "code",
   "execution_count": null,
   "metadata": {
    "ExecuteTime": {
     "end_time": "2020-08-05T08:50:27.565317Z",
     "start_time": "2020-08-05T08:50:27.083756Z"
    }
   },
   "outputs": [],
   "source": [
    "youhua_wanchengdugao=list(youhuajindu.sort_values(by=\"派发完成进度\",ascending= False).head(3).index)  #排序 升序True 降序False by列"
   ]
  },
  {
   "cell_type": "code",
   "execution_count": null,
   "metadata": {
    "ExecuteTime": {
     "end_time": "2020-08-05T08:50:28.055879Z",
     "start_time": "2020-08-05T08:50:27.567818Z"
    }
   },
   "outputs": [],
   "source": [
    "'MR竞对优化工单'+str(youhua_z)+'单。已派发'+str(youhua_p)+'已完成'+str(youhua_w)+'完成率为'+str(youhua_w/youhua_p*100)[:5]+'%'+str(\n",
    "    youhua_wanchengdugao[0])+'，'+str(youhua_wanchengdugao[1])+'，'+str(youhua_wanchengdugao[2])+'派发工单解决率相对较高'"
   ]
  },
  {
   "cell_type": "code",
   "execution_count": null,
   "metadata": {
    "ExecuteTime": {
     "end_time": "2020-08-05T08:50:28.625952Z",
     "start_time": "2020-08-05T08:50:28.064381Z"
    }
   },
   "outputs": [],
   "source": [
    "youhuajindu.to_clipboard()"
   ]
  },
  {
   "cell_type": "code",
   "execution_count": null,
   "metadata": {},
   "outputs": [],
   "source": []
  },
  {
   "cell_type": "markdown",
   "metadata": {},
   "source": [
    "# 催开"
   ]
  },
  {
   "cell_type": "code",
   "execution_count": null,
   "metadata": {
    "ExecuteTime": {
     "end_time": "2020-08-05T08:50:29.214527Z",
     "start_time": "2020-08-05T08:50:28.629452Z"
    }
   },
   "outputs": [],
   "source": [
    "qingdan_c = qingdan_yuan.copy()\n",
    "qingdan_c = qingdan_c.loc[qingdan_c['地市']=='武汉']\n",
    "qingdan = qingdan_c.copy()"
   ]
  },
  {
   "cell_type": "code",
   "execution_count": null,
   "metadata": {
    "ExecuteTime": {
     "end_time": "2020-08-05T08:50:29.862109Z",
     "start_time": "2020-08-05T08:50:29.217527Z"
    }
   },
   "outputs": [],
   "source": [
    "cuikai_zdanzi = qingdan.loc[(qingdan['催开']=='催开') ]['唯一编号'].count()\n",
    "cuikai_z = qingdan.loc[(qingdan['催开']=='催开') ].drop_duplicates(subset='TDL规划站号（新）') ['唯一编号'].count()\n",
    "cuikai_w = qingdan.loc[(qingdan['催开']=='催开') & (qingdan['催开完成']==1) ].drop_duplicates(\n",
    "    subset='TDL规划站号（新）') ['唯一编号'].count()"
   ]
  },
  {
   "cell_type": "code",
   "execution_count": null,
   "metadata": {
    "ExecuteTime": {
     "end_time": "2020-08-05T08:50:30.602203Z",
     "start_time": "2020-08-05T08:50:29.866609Z"
    }
   },
   "outputs": [],
   "source": [
    "cuikai_quchong = qingdan.loc[(qingdan['催开']=='催开') ].drop_duplicates(subset='TDL规划站号（新）') \n",
    "cuikai_quchong_wancheng = qingdan.loc[(qingdan['催开']=='催开') & (qingdan['催开完成']==1) ].drop_duplicates(\n",
    "    subset='TDL规划站号（新）') "
   ]
  },
  {
   "cell_type": "code",
   "execution_count": null,
   "metadata": {
    "ExecuteTime": {
     "end_time": "2020-08-05T08:50:31.346297Z",
     "start_time": "2020-08-05T08:50:30.606203Z"
    }
   },
   "outputs": [],
   "source": [
    "cuikai_zongliang = cuikai_quchong.groupby(by = '区县').agg({'唯一编号':'count'})\n",
    "cuikai_wanchengliang = cuikai_quchong_wancheng.groupby(by = '区县').agg({'唯一编号':'count'})"
   ]
  },
  {
   "cell_type": "code",
   "execution_count": null,
   "metadata": {
    "ExecuteTime": {
     "end_time": "2020-08-05T08:50:31.957875Z",
     "start_time": "2020-08-05T08:50:31.350798Z"
    }
   },
   "outputs": [],
   "source": [
    "cuikaijindu=pd.concat([cuikai_zongliang,cuikai_wanchengliang],axis = 1)\n",
    "cuikaijindu.columns = ['总量','完成量']\n",
    "cuikaijindu['进度'] = cuikaijindu['完成量']/cuikaijindu['总量']"
   ]
  },
  {
   "cell_type": "code",
   "execution_count": null,
   "metadata": {
    "ExecuteTime": {
     "end_time": "2020-08-05T08:50:32.593956Z",
     "start_time": "2020-08-05T08:50:31.964376Z"
    }
   },
   "outputs": [],
   "source": [
    "cuikai_wanchengdudi=list(cuikaijindu.sort_values(by=\"进度\",ascending= True).head(1).index)  #排序 升序True 降序False by列\n",
    "\n",
    "a=cuikai_wanchengdudi[0]\n",
    "\n",
    "jindudi=cuikai_quchong.loc[(cuikai_quchong['区县']==a) & (cuikai_quchong['催开完成']!=1)].groupby(by='工期核实').agg(\n",
    "    {'唯一编号':'count'}).sort_values(by=\"唯一编号\",ascending= False).head(1).index"
   ]
  },
  {
   "cell_type": "code",
   "execution_count": null,
   "metadata": {
    "ExecuteTime": {
     "end_time": "2020-08-05T08:50:33.150026Z",
     "start_time": "2020-08-05T08:50:32.598456Z"
    }
   },
   "outputs": [],
   "source": [
    "a"
   ]
  },
  {
   "cell_type": "code",
   "execution_count": null,
   "metadata": {
    "ExecuteTime": {
     "end_time": "2020-08-05T08:50:33.793608Z",
     "start_time": "2020-08-05T08:50:33.160028Z"
    }
   },
   "outputs": [],
   "source": [
    "'催开工单共'+str(cuikai_zdanzi)+'单，涉及逻辑站\\\n",
    "点'+str(cuikai_z)+'个，已开通站点'+str(cuikai_w)+'个(本月新增201个），催开完成率\\\n",
    "为'+str(cuikai_w/cuikai_z*100)[:5]+'%'+'。'+cuikai_wanchengdudi[0]+'地市整体解决进度较慢，主要为'+jindudi[0]+'未开通占比较\\\n",
    "高，需加快站点建设进度。'+'已催开工单整体MR覆盖率改善2.60pp，对全网劣于竞对小区占比指标改善5.26pp。'"
   ]
  },
  {
   "cell_type": "code",
   "execution_count": null,
   "metadata": {
    "ExecuteTime": {
     "end_time": "2020-08-05T08:50:34.534202Z",
     "start_time": "2020-08-05T08:50:33.798109Z"
    }
   },
   "outputs": [],
   "source": [
    "cuikaijindu"
   ]
  },
  {
   "cell_type": "code",
   "execution_count": null,
   "metadata": {
    "ExecuteTime": {
     "end_time": "2020-08-05T08:50:35.171783Z",
     "start_time": "2020-08-05T08:50:34.538203Z"
    }
   },
   "outputs": [],
   "source": [
    "cuikaijindu.to_clipboard()"
   ]
  },
  {
   "cell_type": "markdown",
   "metadata": {},
   "source": [
    "# 可研"
   ]
  },
  {
   "cell_type": "code",
   "execution_count": null,
   "metadata": {
    "ExecuteTime": {
     "end_time": "2020-08-05T08:50:35.742856Z",
     "start_time": "2020-08-05T08:50:35.175284Z"
    }
   },
   "outputs": [],
   "source": [
    "qingdan_k = qingdan_yuan.copy()\n",
    "qingdan_k = qingdan_k.loc[qingdan_k['地市']=='武汉']\n",
    "qingdan = qingdan_k.copy()"
   ]
  },
  {
   "cell_type": "code",
   "execution_count": null,
   "metadata": {
    "ExecuteTime": {
     "end_time": "2020-08-05T08:50:36.280424Z",
     "start_time": "2020-08-05T08:50:35.749856Z"
    }
   },
   "outputs": [],
   "source": [
    "keyan_zdanzi = qingdan.loc[(qingdan['催可研']=='可研') ]['唯一编号'].count()\n",
    "keyan_z = qingdan.loc[(qingdan['催可研']=='可研') ].drop_duplicates(subset='TDL规划站号（新）') ['唯一编号'].count()\n",
    "keyan_w = qingdan.loc[(qingdan['催可研']=='可研') & (qingdan['可研完成']==1) ].drop_duplicates(\n",
    "    subset='TDL规划站号（新）') ['唯一编号'].count()"
   ]
  },
  {
   "cell_type": "code",
   "execution_count": null,
   "metadata": {
    "ExecuteTime": {
     "end_time": "2020-08-05T08:50:36.799490Z",
     "start_time": "2020-08-05T08:50:36.284424Z"
    }
   },
   "outputs": [],
   "source": [
    "'催可研工单共'+str(keyan_zdanzi)+'单，涉及'+str(keyan_z)+'个逻辑站点工期催研，目前累\\\n",
    "计'+str(keyan_w)+'个站点已纳入工期，入研进度为'+str(keyan_w/keyan_z*100)[:5]+'%。'"
   ]
  },
  {
   "cell_type": "code",
   "execution_count": null,
   "metadata": {
    "ExecuteTime": {
     "end_time": "2020-08-05T08:50:37.338558Z",
     "start_time": "2020-08-05T08:50:36.802490Z"
    }
   },
   "outputs": [],
   "source": [
    "keyan_quchong = qingdan.loc[(qingdan['催可研']=='可研') ].drop_duplicates(subset='TDL规划站号（新）')\n",
    "keyan_quchong_w = qingdan.loc[(qingdan['催可研']=='可研') & (qingdan['可研完成']==1) ].drop_duplicates(subset='TDL规划站号（新）')"
   ]
  },
  {
   "cell_type": "code",
   "execution_count": null,
   "metadata": {
    "ExecuteTime": {
     "end_time": "2020-08-05T08:50:37.888128Z",
     "start_time": "2020-08-05T08:50:37.344059Z"
    }
   },
   "outputs": [],
   "source": [
    "k_z = keyan_quchong.groupby(by = '区县').agg({'唯一编号':'count'})\n",
    "k_w = keyan_quchong_w.groupby(by = '区县').agg({'唯一编号':'count'})\n",
    "keyanjindu=pd.concat([k_z,k_w],axis = 1)\n",
    "keyanjindu.columns = ['总量','完成量']\n",
    "keyanjindu['进度'] = keyanjindu['完成量']/keyanjindu['总量']"
   ]
  },
  {
   "cell_type": "code",
   "execution_count": null,
   "metadata": {
    "ExecuteTime": {
     "end_time": "2020-08-05T08:50:38.613220Z",
     "start_time": "2020-08-05T08:50:37.893129Z"
    }
   },
   "outputs": [],
   "source": [
    "keyanjindu.to_clipboard()"
   ]
  },
  {
   "cell_type": "markdown",
   "metadata": {},
   "source": [
    "# 规划 "
   ]
  },
  {
   "cell_type": "code",
   "execution_count": null,
   "metadata": {
    "ExecuteTime": {
     "end_time": "2020-08-05T08:50:39.294807Z",
     "start_time": "2020-08-05T08:50:38.617721Z"
    }
   },
   "outputs": [],
   "source": [
    "qingdan_g = qingdan_yuan.copy()\n",
    "qingdan_g = qingdan_g.loc[qingdan_g['地市']=='武汉']\n",
    "qingdan = qingdan_g.copy()\n",
    "\n",
    "guihua_zdanzi = qingdan.loc[(qingdan['规划']=='规划') ]['唯一编号'].count()\n",
    "guihua_w = qingdan.loc[(qingdan['规划']=='规划') & (qingdan['规划完成']==1) ]['唯一编号'].count()"
   ]
  },
  {
   "cell_type": "code",
   "execution_count": null,
   "metadata": {
    "ExecuteTime": {
     "end_time": "2020-08-05T08:50:39.927387Z",
     "start_time": "2020-08-05T08:50:39.299807Z"
    }
   },
   "outputs": [],
   "source": [
    "'需规划解决工单共'+str(guihua_zdanzi)+'单，目前累计完成'+str(guihua_w)+'个问题工单规划衔接，规\\\n",
    "划完成比例'+str(guihua_w/guihua_zdanzi*100)[:5]+'%。'"
   ]
  },
  {
   "cell_type": "code",
   "execution_count": null,
   "metadata": {
    "ExecuteTime": {
     "end_time": "2020-08-05T08:50:40.520962Z",
     "start_time": "2020-08-05T08:50:39.932388Z"
    }
   },
   "outputs": [],
   "source": [
    "guihua_qingdan = qingdan.loc[(qingdan['规划']=='规划') ]\n",
    "guihua_qingdan_w = qingdan.loc[(qingdan['规划']=='规划') & (qingdan['规划完成']==1)]\n",
    "g_z = guihua_qingdan.groupby(by = '区县').agg({'唯一编号':'count'})\n",
    "g_w = guihua_qingdan_w.groupby(by = '区县').agg({'唯一编号':'count'})\n",
    "guihuajindu=pd.concat([g_z,g_w],axis = 1)\n",
    "guihuajindu.columns = ['总量','完成量']\n",
    "guihuajindu['进度'] = guihuajindu['完成量']/guihuajindu['总量']"
   ]
  },
  {
   "cell_type": "code",
   "execution_count": null,
   "metadata": {
    "ExecuteTime": {
     "end_time": "2020-08-05T08:50:41.055030Z",
     "start_time": "2020-08-05T08:50:40.530964Z"
    }
   },
   "outputs": [],
   "source": [
    "guihuajindu.to_clipboard()"
   ]
  },
  {
   "cell_type": "code",
   "execution_count": null,
   "metadata": {},
   "outputs": [],
   "source": []
  },
  {
   "cell_type": "code",
   "execution_count": null,
   "metadata": {},
   "outputs": [],
   "source": []
  },
  {
   "cell_type": "code",
   "execution_count": null,
   "metadata": {},
   "outputs": [],
   "source": []
  }
 ],
 "metadata": {
  "kernelspec": {
   "display_name": "Python 3",
   "language": "python",
   "name": "python3"
  },
  "language_info": {
   "codemirror_mode": {
    "name": "ipython",
    "version": 3
   },
   "file_extension": ".py",
   "mimetype": "text/x-python",
   "name": "python",
   "nbconvert_exporter": "python",
   "pygments_lexer": "ipython3",
   "version": "3.7.4"
  },
  "toc": {
   "base_numbering": 1,
   "nav_menu": {},
   "number_sections": true,
   "sideBar": true,
   "skip_h1_title": false,
   "title_cell": "Table of Contents",
   "title_sidebar": "Contents",
   "toc_cell": false,
   "toc_position": {},
   "toc_section_display": true,
   "toc_window_display": false
  },
  "varInspector": {
   "cols": {
    "lenName": 16,
    "lenType": 16,
    "lenVar": 40
   },
   "kernels_config": {
    "python": {
     "delete_cmd_postfix": "",
     "delete_cmd_prefix": "del ",
     "library": "var_list.py",
     "varRefreshCmd": "print(var_dic_list())"
    },
    "r": {
     "delete_cmd_postfix": ") ",
     "delete_cmd_prefix": "rm(",
     "library": "var_list.r",
     "varRefreshCmd": "cat(var_dic_list()) "
    }
   },
   "types_to_exclude": [
    "module",
    "function",
    "builtin_function_or_method",
    "instance",
    "_Feature"
   ],
   "window_display": false
  }
 },
 "nbformat": 4,
 "nbformat_minor": 2
}
