{
 "cells": [
  {
   "cell_type": "code",
   "execution_count": 1,
   "metadata": {},
   "outputs": [],
   "source": [
    "%load_ext autoreload\n",
    "%autoreload 2"
   ]
  },
  {
   "cell_type": "code",
   "execution_count": 2,
   "metadata": {},
   "outputs": [],
   "source": [
    "import pandas as pd \n",
    "from tqdm import tqdm\n",
    "import geopandas as gpd\n",
    "import mytools"
   ]
  },
  {
   "cell_type": "markdown",
   "metadata": {},
   "source": [
    "# mrs数据汇总"
   ]
  },
  {
   "cell_type": "code",
   "execution_count": null,
   "metadata": {},
   "outputs": [],
   "source": [
    "#导入atu图层"
   ]
  },
  {
   "cell_type": "markdown",
   "metadata": {},
   "source": [
    "### 1-导入数据 "
   ]
  },
  {
   "cell_type": "code",
   "execution_count": null,
   "metadata": {},
   "outputs": [],
   "source": [
    "#导入mrs数据到data\n",
    "f = tools_other.file_name_paths(path='D:/up/mrs/')\n",
    "data = pd.DataFrame()\n",
    "tqdm_f=tqdm(f)\n",
    "for name in tqdm_f:\n",
    "    data_n = pd.read_csv(name,encoding = 'gbk')\n",
    "    data_n = data_n[['时间', '小区中文名', 'CGI', '地市', '区县', '厂家名称', '小区类别',\n",
    "       '自_弱覆盖采样点占比_Eutrancell', '参考信号接收功率采样点点数', '自_自-弱覆盖采样点110_Eutrancell','工作频段']]\n",
    "    data = data.append(data_n)\n",
    "    tqdm_f.set_description(\"进度\")"
   ]
  },
  {
   "cell_type": "code",
   "execution_count": null,
   "metadata": {},
   "outputs": [],
   "source": [
    "#按照小区cig进行汇总\n",
    "data_sum = data.groupby(by = 'CGI').sum()\n",
    "#去除小区cgi为一列\n",
    "data_sum.reset_index(inplace = True)"
   ]
  },
  {
   "cell_type": "code",
   "execution_count": null,
   "metadata": {},
   "outputs": [],
   "source": [
    "#导入竞对数据到jingdui\n",
    "jingdui = pd.read_sql_table('多天指标汇总-mro-19年12月汇总-竞对',con = tools_other.con())"
   ]
  },
  {
   "cell_type": "code",
   "execution_count": null,
   "metadata": {},
   "outputs": [],
   "source": [
    "#导入工参数据到工参\n",
    "gongcan = pd.read_csv(open('g:/1-规划/工参/工参数据/ltejizhan20191120.csv',encoding = 'gbk'))\n",
    "gongcan_cig = gongcan.set_index('小区CGI(*)')"
   ]
  },
  {
   "cell_type": "code",
   "execution_count": null,
   "metadata": {},
   "outputs": [],
   "source": [
    "#导入atu图层\n",
    "atu = gpd.read_file('g:/1-规划/图层/ATU测试区域（201604）/ATU测试区域/ATU网格总.TAB')\n",
    "\n",
    "#地理查询是atu的小区数\n",
    "data_t = gpd.sjoin(atu,tools_gis.add_points(gongcan,'RRU经度', 'RRU纬度'))\n",
    "#新增atu列\n",
    "data_t = data_t[['小区CGI(*)','所属地区']]\n",
    "data_t['atu']='是'\n",
    "data_t = data_t.set_index('小区CGI(*)')"
   ]
  },
  {
   "cell_type": "code",
   "execution_count": null,
   "metadata": {},
   "outputs": [],
   "source": [
    "data_t.drop_duplicates().shape"
   ]
  },
  {
   "cell_type": "markdown",
   "metadata": {},
   "source": [
    "### 2-数据处理"
   ]
  },
  {
   "cell_type": "code",
   "execution_count": null,
   "metadata": {},
   "outputs": [],
   "source": [
    "#查看数据的完整性\n",
    "data_sum.shape,gongcan.shape,jingdui.shape"
   ]
  },
  {
   "cell_type": "code",
   "execution_count": null,
   "metadata": {
    "scrolled": true
   },
   "outputs": [],
   "source": [
    "#数据融合\n",
    "res =jingdui.merge(data_sum,how = 'outer',left_on = 'cgi',right_on = 'CGI' , indicator = True)\n",
    "# #查勘比例\n",
    "# res['tongji'] = res['_merge']\n",
    "# res.groupby(by = '_merge').agg({'tongji':'count'})\n",
    "#只保留mrs的小区\n",
    "res_g = res.loc[res['_merge']!='left_only']\n",
    "res_g['cgi'] = res_g['CGI']"
   ]
  },
  {
   "cell_type": "code",
   "execution_count": null,
   "metadata": {
    "scrolled": false
   },
   "outputs": [],
   "source": [
    "#将mrs的覆盖率传递给融合数据\n",
    "res_g['rsrp_count'] = res_g['参考信号接收功率采样点点数']\n",
    "res_g['rsrp_weak'] = res_g['自_自-弱覆盖采样点110_Eutrancell']\n",
    "#只保留和多天指标汇总数据格式一样的列\n",
    "res_g = res_g[jingdui.columns]"
   ]
  },
  {
   "cell_type": "code",
   "execution_count": null,
   "metadata": {},
   "outputs": [],
   "source": [
    "mrs_jingdui = res_g.set_index('cgi')\n",
    "#使用gongcan更新数据\n",
    "mrs_jingdui['rq'] = 201911\n",
    "mrs_jingdui['atu'] = ''\n",
    "mrs_jingdui['小区中文名'].update(gongcan_cig['小区中文名'])\n",
    "mrs_jingdui['city'].update(gongcan_cig['所属地区'])\n",
    "mrs_jingdui['vander'].update(gongcan_cig['厂家名称'])\n",
    "mrs_jingdui['gsqx'].update(gongcan_cig['归属区县'])\n",
    "mrs_jingdui['网络制式(TDD/FDD)'].update(gongcan_cig['网络制式(TDD/FDD)'])\n",
    "mrs_jingdui['atu'].update(data_t['atu'])"
   ]
  },
  {
   "cell_type": "code",
   "execution_count": null,
   "metadata": {},
   "outputs": [],
   "source": [
    "mro_10_reindex = mrs_jingdui.copy()\n",
    "\n",
    "#更新竞对黑点数据-数据统一\n",
    "mro_10_reindex['hd_chun'] = 'f'\n",
    "mro_10_reindex['hd_chte'] = 'f'\n",
    "mro_10_reindex['ok_chun'] = 'f'\n",
    "mro_10_reindex['ok_chte'] = 'f'\n",
    "#数据格式处理\n",
    "mro_10_reindex['rsrp_count'] = pd.to_numeric(mro_10_reindex['rsrp_count'])\n",
    "mro_10_reindex['rsrp_weak'] = pd.to_numeric(mro_10_reindex['rsrp_weak'])\n",
    "mro_10_reindex['un_maxrsrp_count'] = pd.to_numeric(mro_10_reindex['un_maxrsrp_count'])\n",
    "mro_10_reindex['un_maxrsrp_weak113'] = pd.to_numeric(mro_10_reindex['un_maxrsrp_weak113'])\n",
    "mro_10_reindex['te_maxrsrp_count'] = pd.to_numeric(mro_10_reindex['te_maxrsrp_count'])\n",
    "mro_10_reindex['te_maxrsrp_weak113'] = pd.to_numeric(mro_10_reindex['te_maxrsrp_weak113'])\n",
    "#覆盖率更新\n",
    "mro_10_reindex['fgl_cmcc'] = 1 - mro_10_reindex['rsrp_weak'] / mro_10_reindex['rsrp_count']\n",
    "mro_10_reindex['fgl_chun'] = 1 - mro_10_reindex['un_maxrsrp_weak113'] / mro_10_reindex['un_maxrsrp_count']\n",
    "mro_10_reindex['fgl_chte'] = 1 - mro_10_reindex['te_maxrsrp_weak113'] / mro_10_reindex['te_maxrsrp_count']"
   ]
  },
  {
   "cell_type": "code",
   "execution_count": null,
   "metadata": {
    "scrolled": true
   },
   "outputs": [],
   "source": [
    "#竞对更新\n",
    "mro_10_reindex.loc[((1-mro_10_reindex['rsrp_weak']/mro_10_reindex['rsrp_count']<0.8)\n",
    "                  &(1-mro_10_reindex['un_maxrsrp_weak113']/mro_10_reindex['un_maxrsrp_count']>0.8))\n",
    "            |\n",
    "              ((1-mro_10_reindex['rsrp_weak']/mro_10_reindex['rsrp_count']>0.8)\n",
    "                  &(((1-mro_10_reindex['un_maxrsrp_weak113']/mro_10_reindex['un_maxrsrp_count'])\n",
    "                      -(1-mro_10_reindex['rsrp_weak']/mro_10_reindex['rsrp_count']))>0.05))\n",
    "                   ,'hd_chun'\n",
    "             ]='t'\n",
    "\n",
    "mro_10_reindex.loc[((1-mro_10_reindex['rsrp_weak']/mro_10_reindex['rsrp_count']<0.8)\n",
    "                  &(1-mro_10_reindex['te_maxrsrp_weak113']/mro_10_reindex['te_maxrsrp_count']>0.8))\n",
    "            |\n",
    "              ((1-mro_10_reindex['rsrp_weak']/mro_10_reindex['rsrp_count']>0.8)\n",
    "                  &(((1-mro_10_reindex['te_maxrsrp_weak113']/mro_10_reindex['te_maxrsrp_count'])-\n",
    "                     (1-mro_10_reindex['rsrp_weak']/mro_10_reindex['rsrp_count']))>0.05))\n",
    "                   ,'hd_chte'\n",
    "             ]='t'\n",
    "#竞对更新\n",
    "mro_10_reindex.loc[mro_10_reindex['un_maxrsrp_count']>=1000,'ok_chun']='t'\n",
    "mro_10_reindex.loc[mro_10_reindex['te_maxrsrp_count']>=1000,'ok_chte']='t'\n",
    "mro_10_reindex_res = mro_10_reindex.reset_index()\n",
    "mro_10_reindex_res1 = mro_10_reindex_res[jingdui.columns]"
   ]
  },
  {
   "cell_type": "markdown",
   "metadata": {},
   "source": [
    "### 3-数据导出"
   ]
  },
  {
   "cell_type": "code",
   "execution_count": 179,
   "metadata": {},
   "outputs": [
    {
     "ename": "NameError",
     "evalue": "name 'mro_10_reindex_res1' is not defined",
     "output_type": "error",
     "traceback": [
      "\u001b[1;31m---------------------------------------------------------------------------\u001b[0m",
      "\u001b[1;31mNameError\u001b[0m                                 Traceback (most recent call last)",
      "\u001b[1;32m<ipython-input-179-396e0f55542e>\u001b[0m in \u001b[0;36m<module>\u001b[1;34m\u001b[0m\n\u001b[0;32m      1\u001b[0m \u001b[1;31m#导出到csv\u001b[0m\u001b[1;33m\u001b[0m\u001b[1;33m\u001b[0m\u001b[1;33m\u001b[0m\u001b[0m\n\u001b[1;32m----> 2\u001b[1;33m \u001b[0mmro_10_reindex_res1\u001b[0m\u001b[1;33m.\u001b[0m\u001b[0mto_csv\u001b[0m\u001b[1;33m(\u001b[0m\u001b[1;34m'G:/1-规划/MRO/1、原始数据/19年12月原始数据/临时-mro12月.csv'\u001b[0m\u001b[1;33m,\u001b[0m\u001b[0mencoding\u001b[0m \u001b[1;33m=\u001b[0m \u001b[1;34m'gbk'\u001b[0m\u001b[1;33m,\u001b[0m\u001b[0mindex\u001b[0m \u001b[1;33m=\u001b[0m \u001b[1;32mFalse\u001b[0m\u001b[1;33m)\u001b[0m\u001b[1;33m\u001b[0m\u001b[1;33m\u001b[0m\u001b[0m\n\u001b[0m",
      "\u001b[1;31mNameError\u001b[0m: name 'mro_10_reindex_res1' is not defined"
     ]
    }
   ],
   "source": [
    "#导出到csv\n",
    "mro_10_reindex_res1.to_csv('G:/1-规划/MRO/1、原始数据/19年12月原始数据/临时-mro12月.csv',encoding = 'gbk',index = False)"
   ]
  },
  {
   "cell_type": "code",
   "execution_count": null,
   "metadata": {},
   "outputs": [],
   "source": [
    "from sqlalchemy.types import Integer,NVARCHAR,Float\n",
    "def mapping_df_types(df):\n",
    "    dtypedict = {}\n",
    "    for i, j in zip(df.columns, df.dtypes):\n",
    "        if \"object\" in str(j):\n",
    "            dtypedict.update({i: NVARCHAR(length=255)})\n",
    "        if \"float\" in str(j):\n",
    "            dtypedict.update({i: Float(precision=2, asdecimal=True)})\n",
    "        if \"int\" in str(j):\n",
    "            dtypedict.update({i: Integer()})\n",
    "    return dtypedict"
   ]
  },
  {
   "cell_type": "code",
   "execution_count": null,
   "metadata": {},
   "outputs": [],
   "source": [
    "dtypedict = mapping_df_types(mro_10_reindex_res1)\n",
    "#导出到sql\n",
    "mro_10_reindex_res1.to_sql(name='多天指标汇总-mro-19年12月汇总-本网替换后', con=tools_other.con(),  index=False, dtype=dtypedict)"
   ]
  },
  {
   "cell_type": "markdown",
   "metadata": {},
   "source": [
    "### FDD地市覆盖率统计 "
   ]
  },
  {
   "cell_type": "code",
   "execution_count": null,
   "metadata": {},
   "outputs": [],
   "source": [
    "#读取mrs采集数据\n",
    "data = pd.read_csv('mrs_19_6day.csv',encoding = 'gbk')"
   ]
  },
  {
   "cell_type": "code",
   "execution_count": null,
   "metadata": {},
   "outputs": [],
   "source": [
    "data.columns"
   ]
  },
  {
   "cell_type": "code",
   "execution_count": null,
   "metadata": {},
   "outputs": [],
   "source": [
    "data_fdd = data.loc[data['小区类别']=='TDD']"
   ]
  },
  {
   "cell_type": "code",
   "execution_count": null,
   "metadata": {},
   "outputs": [],
   "source": [
    "data_fdd.groupby(by = '地市').agg({'参考信号接收功率采样点点数':'sum','自_自-弱覆盖采样点110_Eutrancell':'sum'}).to_clipboard()"
   ]
  },
  {
   "cell_type": "code",
   "execution_count": null,
   "metadata": {},
   "outputs": [],
   "source": []
  },
  {
   "cell_type": "markdown",
   "metadata": {},
   "source": [
    "# 四维度进度"
   ]
  },
  {
   "cell_type": "code",
   "execution_count": 3,
   "metadata": {},
   "outputs": [],
   "source": [
    "qingdan_yuan1 = pd.read_excel('G:/1-规划/崔开通崔可研规划/2020年任务清单/20200422/副本任务清单-建设类20200422-输出不含李轲.xlsx')"
   ]
  },
  {
   "cell_type": "code",
   "execution_count": 4,
   "metadata": {},
   "outputs": [],
   "source": [
    "qingdan_yuan1['TDL规划站号（新）'] = qingdan_yuan1['TDL规划站号（新）'].fillna('无')"
   ]
  },
  {
   "cell_type": "code",
   "execution_count": 5,
   "metadata": {},
   "outputs": [],
   "source": [
    "# qingdan_yuan = qingdan_yuan1.loc[qingdan_yuan1['分类']!='新单子-暂不使用']\n",
    "qingdan_yuan = qingdan_yuan1.loc[qingdan_yuan1['是否有效数据']=='是']"
   ]
  },
  {
   "cell_type": "markdown",
   "metadata": {},
   "source": [
    "## 优化统计"
   ]
  },
  {
   "cell_type": "code",
   "execution_count": 6,
   "metadata": {},
   "outputs": [],
   "source": [
    "qingdan = qingdan_yuan1.copy()"
   ]
  },
  {
   "cell_type": "code",
   "execution_count": 7,
   "metadata": {},
   "outputs": [],
   "source": [
    "youhua_z = qingdan.loc[(qingdan['优化']=='优化') & (qingdan['优化已派发']==1)]['唯一编号'].count()"
   ]
  },
  {
   "cell_type": "code",
   "execution_count": 8,
   "metadata": {},
   "outputs": [],
   "source": [
    "youhua_w = qingdan.loc[(qingdan['优化']=='优化') & (qingdan['优化已派发']==1)\n",
    "                      & (qingdan['优化完成']==1)]['唯一编号'].count()"
   ]
  },
  {
   "cell_type": "code",
   "execution_count": 9,
   "metadata": {},
   "outputs": [],
   "source": [
    "youhua = qingdan.loc[(qingdan['优化']=='优化') & (qingdan['优化已派发']==1)]"
   ]
  },
  {
   "cell_type": "code",
   "execution_count": 10,
   "metadata": {},
   "outputs": [],
   "source": [
    "youhuawancheng = qingdan.loc[(qingdan['优化']=='优化') & (qingdan['优化已派发']==1) & (qingdan['优化完成']==1)]"
   ]
  },
  {
   "cell_type": "code",
   "execution_count": 11,
   "metadata": {
    "scrolled": true
   },
   "outputs": [],
   "source": [
    "y_w=youhuawancheng.groupby(by = '地市').agg({'唯一编号':'count'})"
   ]
  },
  {
   "cell_type": "code",
   "execution_count": 12,
   "metadata": {},
   "outputs": [],
   "source": [
    "y_z = youhua.groupby(by = '地市').agg({'唯一编号':'count'})"
   ]
  },
  {
   "cell_type": "code",
   "execution_count": 13,
   "metadata": {},
   "outputs": [],
   "source": [
    "youhuajindu=pd.concat([y_z,y_w],axis = 1)"
   ]
  },
  {
   "cell_type": "code",
   "execution_count": 14,
   "metadata": {},
   "outputs": [],
   "source": [
    "youhuajindu.columns = ['总量','完成量']"
   ]
  },
  {
   "cell_type": "code",
   "execution_count": 15,
   "metadata": {},
   "outputs": [],
   "source": [
    "youhuajindu['进度'] = youhuajindu['完成量']/youhuajindu['总量']"
   ]
  },
  {
   "cell_type": "code",
   "execution_count": 16,
   "metadata": {},
   "outputs": [],
   "source": [
    "youhua_wanchengdugao=list(youhuajindu.sort_values(by=\"进度\",ascending= False).head(3).index)  #排序 升序True 降序False by列"
   ]
  },
  {
   "cell_type": "code",
   "execution_count": 17,
   "metadata": {},
   "outputs": [
    {
     "data": {
      "text/plain": [
       "'MR竞对优化工单目前累计派单14269单。除328正在处理中，已处理工单覆盖率改善11380单（本月新增解决181单），派发工单解决率79.75%。未解决原因主要是优化无法解决需重点优先开通站点。优化完成工单MR覆盖率改善1.56pp，对全网劣于竞对小区占比指标改善3.17pp。宜昌，恩施，黄冈派发工单解决率相对较高'"
      ]
     },
     "execution_count": 17,
     "metadata": {},
     "output_type": "execute_result"
    }
   ],
   "source": [
    "'MR竞对优化工单目前累计派单'+str(youhua_z)+'单。除328正在处理中，已处理工单覆盖率改善'+str(youhua_w)+'单（本月新增解决181单），派发工单解决\\\n",
    "率'+str(youhua_w/youhua_z*100)[:5]+'%'+'。未解决原因主要是优化无法解决需重点优先开通站点。优化完成工单MR覆盖率改善1.56pp，对全网劣于\\\n",
    "竞对小区占比指标改善3.17pp。'+str(youhua_wanchengdugao[0])+'，'+str(youhua_wanchengdugao[1])+'，'+str(youhua_wanchengdugao[2])+'派发工单解决率相对较高'"
   ]
  },
  {
   "cell_type": "code",
   "execution_count": 18,
   "metadata": {},
   "outputs": [
    {
     "data": {
      "text/html": [
       "<div>\n",
       "<style scoped>\n",
       "    .dataframe tbody tr th:only-of-type {\n",
       "        vertical-align: middle;\n",
       "    }\n",
       "\n",
       "    .dataframe tbody tr th {\n",
       "        vertical-align: top;\n",
       "    }\n",
       "\n",
       "    .dataframe thead th {\n",
       "        text-align: right;\n",
       "    }\n",
       "</style>\n",
       "<table border=\"1\" class=\"dataframe\">\n",
       "  <thead>\n",
       "    <tr style=\"text-align: right;\">\n",
       "      <th></th>\n",
       "      <th>总量</th>\n",
       "      <th>完成量</th>\n",
       "      <th>进度</th>\n",
       "    </tr>\n",
       "    <tr>\n",
       "      <th>地市</th>\n",
       "      <th></th>\n",
       "      <th></th>\n",
       "      <th></th>\n",
       "    </tr>\n",
       "  </thead>\n",
       "  <tbody>\n",
       "    <tr>\n",
       "      <td>宜昌</td>\n",
       "      <td>1391</td>\n",
       "      <td>1208</td>\n",
       "      <td>0.868440</td>\n",
       "    </tr>\n",
       "    <tr>\n",
       "      <td>恩施</td>\n",
       "      <td>1407</td>\n",
       "      <td>1205</td>\n",
       "      <td>0.856432</td>\n",
       "    </tr>\n",
       "    <tr>\n",
       "      <td>黄冈</td>\n",
       "      <td>1381</td>\n",
       "      <td>1164</td>\n",
       "      <td>0.842867</td>\n",
       "    </tr>\n",
       "    <tr>\n",
       "      <td>孝感</td>\n",
       "      <td>866</td>\n",
       "      <td>724</td>\n",
       "      <td>0.836028</td>\n",
       "    </tr>\n",
       "    <tr>\n",
       "      <td>鄂州</td>\n",
       "      <td>396</td>\n",
       "      <td>330</td>\n",
       "      <td>0.833333</td>\n",
       "    </tr>\n",
       "    <tr>\n",
       "      <td>潜江</td>\n",
       "      <td>226</td>\n",
       "      <td>183</td>\n",
       "      <td>0.809735</td>\n",
       "    </tr>\n",
       "    <tr>\n",
       "      <td>江汉</td>\n",
       "      <td>342</td>\n",
       "      <td>273</td>\n",
       "      <td>0.798246</td>\n",
       "    </tr>\n",
       "    <tr>\n",
       "      <td>黄石</td>\n",
       "      <td>527</td>\n",
       "      <td>418</td>\n",
       "      <td>0.793169</td>\n",
       "    </tr>\n",
       "    <tr>\n",
       "      <td>随州</td>\n",
       "      <td>648</td>\n",
       "      <td>508</td>\n",
       "      <td>0.783951</td>\n",
       "    </tr>\n",
       "    <tr>\n",
       "      <td>襄阳</td>\n",
       "      <td>964</td>\n",
       "      <td>754</td>\n",
       "      <td>0.782158</td>\n",
       "    </tr>\n",
       "    <tr>\n",
       "      <td>荆门</td>\n",
       "      <td>674</td>\n",
       "      <td>525</td>\n",
       "      <td>0.778932</td>\n",
       "    </tr>\n",
       "    <tr>\n",
       "      <td>武汉</td>\n",
       "      <td>3541</td>\n",
       "      <td>2704</td>\n",
       "      <td>0.763626</td>\n",
       "    </tr>\n",
       "    <tr>\n",
       "      <td>荆州</td>\n",
       "      <td>538</td>\n",
       "      <td>407</td>\n",
       "      <td>0.756506</td>\n",
       "    </tr>\n",
       "    <tr>\n",
       "      <td>天门</td>\n",
       "      <td>335</td>\n",
       "      <td>251</td>\n",
       "      <td>0.749254</td>\n",
       "    </tr>\n",
       "    <tr>\n",
       "      <td>咸宁</td>\n",
       "      <td>635</td>\n",
       "      <td>448</td>\n",
       "      <td>0.705512</td>\n",
       "    </tr>\n",
       "    <tr>\n",
       "      <td>十堰</td>\n",
       "      <td>396</td>\n",
       "      <td>276</td>\n",
       "      <td>0.696970</td>\n",
       "    </tr>\n",
       "  </tbody>\n",
       "</table>\n",
       "</div>"
      ],
      "text/plain": [
       "      总量   完成量        进度\n",
       "地市                      \n",
       "宜昌  1391  1208  0.868440\n",
       "恩施  1407  1205  0.856432\n",
       "黄冈  1381  1164  0.842867\n",
       "孝感   866   724  0.836028\n",
       "鄂州   396   330  0.833333\n",
       "潜江   226   183  0.809735\n",
       "江汉   342   273  0.798246\n",
       "黄石   527   418  0.793169\n",
       "随州   648   508  0.783951\n",
       "襄阳   964   754  0.782158\n",
       "荆门   674   525  0.778932\n",
       "武汉  3541  2704  0.763626\n",
       "荆州   538   407  0.756506\n",
       "天门   335   251  0.749254\n",
       "咸宁   635   448  0.705512\n",
       "十堰   396   276  0.696970"
      ]
     },
     "execution_count": 18,
     "metadata": {},
     "output_type": "execute_result"
    }
   ],
   "source": [
    "youhuajindu.sort_values(by=\"进度\",ascending= False)"
   ]
  },
  {
   "cell_type": "markdown",
   "metadata": {},
   "source": [
    "## 催开进度"
   ]
  },
  {
   "cell_type": "code",
   "execution_count": 19,
   "metadata": {},
   "outputs": [
    {
     "data": {
      "text/plain": [
       "Index(['唯一编号', '问题点或问题小区cgi', '对应cgi', '所属网洞ID_', '问题点中心经度', '问题点中心纬度',\n",
       "       '是否计划内', '分类', '地市', '区县', '厂家', '是否黑点', '场景_农村', '场景_通报场景', '场景_室内外',\n",
       "       '美食', '景区', '乡镇', '核心城区', '场景', '优化', '规划', '催可研', '催开', '方案-最新',\n",
       "       'TDL规划站号（新）', '规划站名', '逻辑站号', '站型', '工期核实', '优化已派发', '优化派发时间', '派发处方案',\n",
       "       '优化完成', '规划完成', '可研完成', '催开完成', '备注', '是否有效数据'],\n",
       "      dtype='object')"
      ]
     },
     "execution_count": 19,
     "metadata": {},
     "output_type": "execute_result"
    }
   ],
   "source": [
    "qingdan.columns"
   ]
  },
  {
   "cell_type": "code",
   "execution_count": 20,
   "metadata": {},
   "outputs": [],
   "source": [
    "qingdan = qingdan_yuan.copy()"
   ]
  },
  {
   "cell_type": "code",
   "execution_count": 21,
   "metadata": {},
   "outputs": [],
   "source": [
    "cuikai_zdanzi = qingdan.loc[(qingdan['方案-最新']=='催开') ]['唯一编号'].count()"
   ]
  },
  {
   "cell_type": "code",
   "execution_count": 22,
   "metadata": {},
   "outputs": [],
   "source": [
    "cuikai_z = qingdan.loc[(qingdan['方案-最新']=='催开') ].drop_duplicates(subset='TDL规划站号（新）') ['唯一编号'].count()"
   ]
  },
  {
   "cell_type": "code",
   "execution_count": 23,
   "metadata": {},
   "outputs": [],
   "source": [
    "cuikai_w = qingdan.loc[(qingdan['方案-最新']=='催开') & (qingdan['催开完成']==1) ].drop_duplicates(subset='TDL规划站号（新）') ['唯一编号'].count()"
   ]
  },
  {
   "cell_type": "code",
   "execution_count": 24,
   "metadata": {},
   "outputs": [],
   "source": [
    "cuikai_quchong = qingdan.loc[(qingdan['方案-最新']=='催开') ].drop_duplicates(subset='TDL规划站号（新）') "
   ]
  },
  {
   "cell_type": "code",
   "execution_count": 25,
   "metadata": {},
   "outputs": [],
   "source": [
    "cuikai_quchong_wancheng = qingdan.loc[(qingdan['方案-最新']=='催开') & (qingdan['催开完成']==1) ].drop_duplicates(subset='TDL规划站号（新）') "
   ]
  },
  {
   "cell_type": "code",
   "execution_count": 26,
   "metadata": {},
   "outputs": [],
   "source": [
    "cuikai_zongliang = cuikai_quchong.groupby(by = '地市').agg({'唯一编号':'count'})"
   ]
  },
  {
   "cell_type": "code",
   "execution_count": 27,
   "metadata": {},
   "outputs": [],
   "source": [
    "cuikai_wanchengliang = cuikai_quchong_wancheng.groupby(by = '地市').agg({'唯一编号':'count'})"
   ]
  },
  {
   "cell_type": "code",
   "execution_count": 28,
   "metadata": {},
   "outputs": [],
   "source": [
    "cuikaijindu=pd.concat([cuikai_zongliang,cuikai_wanchengliang],axis = 1)"
   ]
  },
  {
   "cell_type": "code",
   "execution_count": 29,
   "metadata": {},
   "outputs": [],
   "source": [
    "cuikaijindu.columns = ['总量','完成量']"
   ]
  },
  {
   "cell_type": "code",
   "execution_count": 30,
   "metadata": {},
   "outputs": [],
   "source": [
    "cuikaijindu['进度'] = cuikaijindu['完成量']/cuikaijindu['总量']"
   ]
  },
  {
   "cell_type": "code",
   "execution_count": 31,
   "metadata": {},
   "outputs": [],
   "source": [
    "cuikai_wanchengdudi=list(cuikaijindu.sort_values(by=\"进度\",ascending= True).head(1).index)  #排序 升序True 降序False by列"
   ]
  },
  {
   "cell_type": "code",
   "execution_count": 32,
   "metadata": {},
   "outputs": [],
   "source": [
    "a=cuikai_wanchengdudi[0]"
   ]
  },
  {
   "cell_type": "code",
   "execution_count": 33,
   "metadata": {},
   "outputs": [],
   "source": [
    "jindudi=cuikai_quchong.loc[(cuikai_quchong['地市']==a) & (cuikai_quchong['催开完成']!=1)].groupby(by='工期核实').agg({'唯一编号':'count'}).sort_values(by=\"唯一编号\",ascending= False).head(1).index"
   ]
  },
  {
   "cell_type": "code",
   "execution_count": 34,
   "metadata": {},
   "outputs": [
    {
     "data": {
      "text/plain": [
       "'催开工单共26820单，涉及逻辑站点15018个，已开通站点13303个(本月新增201个），催开完成率为88.58%。十堰地市整体解决进度较慢，主要为农村4G覆盖一期工程第一批未开通占比较高，需加快站点建设进度。已催开工单整体MR覆盖率改善2.60pp，对全网劣于竞对小区占比指标改善5.26pp。'"
      ]
     },
     "execution_count": 34,
     "metadata": {},
     "output_type": "execute_result"
    }
   ],
   "source": [
    "'催开工单共'+str(cuikai_zdanzi)+'单，涉及逻辑站\\\n",
    "点'+str(cuikai_z)+'个，已开通站点'+str(cuikai_w)+'个(本月新增201个），催开完成率\\\n",
    "为'+str(cuikai_w/cuikai_z*100)[:5]+'%'+'。'+cuikai_wanchengdudi[0]+'地市整体解决进度较慢，主要为'+jindudi[0]+'未开通占比较\\\n",
    "高，需加快站点建设进度。'+'已催开工单整体MR覆盖率改善2.60pp，对全网劣于竞对小区占比指标改善5.26pp。'"
   ]
  },
  {
   "cell_type": "code",
   "execution_count": 35,
   "metadata": {},
   "outputs": [
    {
     "data": {
      "text/html": [
       "<div>\n",
       "<style scoped>\n",
       "    .dataframe tbody tr th:only-of-type {\n",
       "        vertical-align: middle;\n",
       "    }\n",
       "\n",
       "    .dataframe tbody tr th {\n",
       "        vertical-align: top;\n",
       "    }\n",
       "\n",
       "    .dataframe thead th {\n",
       "        text-align: right;\n",
       "    }\n",
       "</style>\n",
       "<table border=\"1\" class=\"dataframe\">\n",
       "  <thead>\n",
       "    <tr style=\"text-align: right;\">\n",
       "      <th></th>\n",
       "      <th>总量</th>\n",
       "      <th>完成量</th>\n",
       "      <th>进度</th>\n",
       "    </tr>\n",
       "    <tr>\n",
       "      <th>地市</th>\n",
       "      <th></th>\n",
       "      <th></th>\n",
       "      <th></th>\n",
       "    </tr>\n",
       "  </thead>\n",
       "  <tbody>\n",
       "    <tr>\n",
       "      <td>十堰</td>\n",
       "      <td>694</td>\n",
       "      <td>480</td>\n",
       "      <td>0.691643</td>\n",
       "    </tr>\n",
       "    <tr>\n",
       "      <td>武汉</td>\n",
       "      <td>4810</td>\n",
       "      <td>3618</td>\n",
       "      <td>0.752183</td>\n",
       "    </tr>\n",
       "    <tr>\n",
       "      <td>鄂州</td>\n",
       "      <td>150</td>\n",
       "      <td>134</td>\n",
       "      <td>0.893333</td>\n",
       "    </tr>\n",
       "    <tr>\n",
       "      <td>天门</td>\n",
       "      <td>208</td>\n",
       "      <td>186</td>\n",
       "      <td>0.894231</td>\n",
       "    </tr>\n",
       "    <tr>\n",
       "      <td>荆州</td>\n",
       "      <td>403</td>\n",
       "      <td>369</td>\n",
       "      <td>0.915633</td>\n",
       "    </tr>\n",
       "    <tr>\n",
       "      <td>黄石</td>\n",
       "      <td>408</td>\n",
       "      <td>380</td>\n",
       "      <td>0.931373</td>\n",
       "    </tr>\n",
       "    <tr>\n",
       "      <td>襄阳</td>\n",
       "      <td>901</td>\n",
       "      <td>854</td>\n",
       "      <td>0.947836</td>\n",
       "    </tr>\n",
       "    <tr>\n",
       "      <td>孝感</td>\n",
       "      <td>719</td>\n",
       "      <td>693</td>\n",
       "      <td>0.963839</td>\n",
       "    </tr>\n",
       "    <tr>\n",
       "      <td>潜江</td>\n",
       "      <td>209</td>\n",
       "      <td>203</td>\n",
       "      <td>0.971292</td>\n",
       "    </tr>\n",
       "    <tr>\n",
       "      <td>江汉</td>\n",
       "      <td>282</td>\n",
       "      <td>274</td>\n",
       "      <td>0.971631</td>\n",
       "    </tr>\n",
       "    <tr>\n",
       "      <td>宜昌</td>\n",
       "      <td>1664</td>\n",
       "      <td>1620</td>\n",
       "      <td>0.973558</td>\n",
       "    </tr>\n",
       "    <tr>\n",
       "      <td>荆门</td>\n",
       "      <td>599</td>\n",
       "      <td>584</td>\n",
       "      <td>0.974958</td>\n",
       "    </tr>\n",
       "    <tr>\n",
       "      <td>咸宁</td>\n",
       "      <td>350</td>\n",
       "      <td>342</td>\n",
       "      <td>0.977143</td>\n",
       "    </tr>\n",
       "    <tr>\n",
       "      <td>黄冈</td>\n",
       "      <td>1365</td>\n",
       "      <td>1338</td>\n",
       "      <td>0.980220</td>\n",
       "    </tr>\n",
       "    <tr>\n",
       "      <td>恩施</td>\n",
       "      <td>1575</td>\n",
       "      <td>1549</td>\n",
       "      <td>0.983492</td>\n",
       "    </tr>\n",
       "    <tr>\n",
       "      <td>随州</td>\n",
       "      <td>681</td>\n",
       "      <td>679</td>\n",
       "      <td>0.997063</td>\n",
       "    </tr>\n",
       "  </tbody>\n",
       "</table>\n",
       "</div>"
      ],
      "text/plain": [
       "      总量   完成量        进度\n",
       "地市                      \n",
       "十堰   694   480  0.691643\n",
       "武汉  4810  3618  0.752183\n",
       "鄂州   150   134  0.893333\n",
       "天门   208   186  0.894231\n",
       "荆州   403   369  0.915633\n",
       "黄石   408   380  0.931373\n",
       "襄阳   901   854  0.947836\n",
       "孝感   719   693  0.963839\n",
       "潜江   209   203  0.971292\n",
       "江汉   282   274  0.971631\n",
       "宜昌  1664  1620  0.973558\n",
       "荆门   599   584  0.974958\n",
       "咸宁   350   342  0.977143\n",
       "黄冈  1365  1338  0.980220\n",
       "恩施  1575  1549  0.983492\n",
       "随州   681   679  0.997063"
      ]
     },
     "execution_count": 35,
     "metadata": {},
     "output_type": "execute_result"
    }
   ],
   "source": [
    "cuikaijindu.sort_values(by=\"进度\",ascending= True)"
   ]
  },
  {
   "cell_type": "markdown",
   "metadata": {},
   "source": [
    "## 可研统计"
   ]
  },
  {
   "cell_type": "code",
   "execution_count": 36,
   "metadata": {},
   "outputs": [],
   "source": [
    "qingdan = qingdan_yuan.copy()"
   ]
  },
  {
   "cell_type": "code",
   "execution_count": 37,
   "metadata": {},
   "outputs": [],
   "source": [
    "keyan_zdanzi = qingdan.loc[(qingdan['催可研']=='可研') ]['唯一编号'].count()"
   ]
  },
  {
   "cell_type": "code",
   "execution_count": 38,
   "metadata": {},
   "outputs": [],
   "source": [
    "keyan_z = qingdan.loc[(qingdan['催可研']=='可研') ].drop_duplicates(subset='TDL规划站号（新）') ['唯一编号'].count()"
   ]
  },
  {
   "cell_type": "code",
   "execution_count": 39,
   "metadata": {},
   "outputs": [],
   "source": [
    "keyan_w = qingdan.loc[(qingdan['催可研']=='可研') & (qingdan['可研完成']==1) ].drop_duplicates(subset='TDL规划站号（新）') ['唯一编号'].count()"
   ]
  },
  {
   "cell_type": "code",
   "execution_count": 40,
   "metadata": {},
   "outputs": [
    {
     "data": {
      "text/plain": [
       "'催可研工单共26423单，涉及14878个逻辑站点工期催研，目前累计14793个站点已纳入工期，入研进度为99.42%。'"
      ]
     },
     "execution_count": 40,
     "metadata": {},
     "output_type": "execute_result"
    }
   ],
   "source": [
    "'催可研工单共'+str(keyan_zdanzi)+'单，涉及'+str(keyan_z)+'个逻辑站点工期催研，目前累\\\n",
    "计'+str(keyan_w)+'个站点已纳入工期，入研进度为'+str(keyan_w/keyan_z*100)[:5]+'%。'"
   ]
  },
  {
   "cell_type": "markdown",
   "metadata": {},
   "source": [
    "## 规划进度"
   ]
  },
  {
   "cell_type": "code",
   "execution_count": 41,
   "metadata": {},
   "outputs": [],
   "source": [
    "qingdan = qingdan_yuan.copy()"
   ]
  },
  {
   "cell_type": "code",
   "execution_count": 42,
   "metadata": {},
   "outputs": [],
   "source": [
    "guihua_zdanzi = qingdan.loc[(qingdan['规划']=='规划') ]['唯一编号'].count()"
   ]
  },
  {
   "cell_type": "code",
   "execution_count": 43,
   "metadata": {},
   "outputs": [],
   "source": [
    "guihua_w = qingdan.loc[(qingdan['规划']=='规划') & (qingdan['规划完成']==1) ]['唯一编号'].count()"
   ]
  },
  {
   "cell_type": "code",
   "execution_count": 44,
   "metadata": {},
   "outputs": [
    {
     "data": {
      "text/plain": [
       "'需规划解决工单共6081单，目前累计完成6070个问题工单规划衔接，规划完成比例99.81%。'"
      ]
     },
     "execution_count": 44,
     "metadata": {},
     "output_type": "execute_result"
    }
   ],
   "source": [
    "'需规划解决工单共'+str(guihua_zdanzi)+'单，目前累计完成'+str(guihua_w)+'个问题工单规划衔接，规\\\n",
    "划完成比例'+str(guihua_w/guihua_zdanzi*100)[:5]+'%。'"
   ]
  },
  {
   "cell_type": "markdown",
   "metadata": {},
   "source": [
    "# ------武汉竞对及MR分析"
   ]
  },
  {
   "cell_type": "markdown",
   "metadata": {},
   "source": [
    "### 优化"
   ]
  },
  {
   "cell_type": "code",
   "execution_count": 45,
   "metadata": {},
   "outputs": [],
   "source": [
    "qingdan_y = qingdan_yuan1.copy()"
   ]
  },
  {
   "cell_type": "code",
   "execution_count": 46,
   "metadata": {},
   "outputs": [],
   "source": [
    "qingdan_y = qingdan_y.loc[qingdan_y['地市']=='武汉']"
   ]
  },
  {
   "cell_type": "code",
   "execution_count": 47,
   "metadata": {},
   "outputs": [],
   "source": [
    "qingdan = qingdan_y.copy()"
   ]
  },
  {
   "cell_type": "code",
   "execution_count": 48,
   "metadata": {},
   "outputs": [],
   "source": [
    "youhua_z = qingdan.loc[(qingdan['优化']=='优化') & (qingdan['优化已派发']==1)]['唯一编号'].count()"
   ]
  },
  {
   "cell_type": "code",
   "execution_count": 49,
   "metadata": {},
   "outputs": [],
   "source": [
    "youhua_w = qingdan.loc[(qingdan['优化']=='优化') & (qingdan['优化已派发']==1)\n",
    "                      & (qingdan['优化完成']==1)]['唯一编号'].count()"
   ]
  },
  {
   "cell_type": "code",
   "execution_count": 50,
   "metadata": {},
   "outputs": [],
   "source": [
    "youhua = qingdan.loc[(qingdan['优化']=='优化') & (qingdan['优化已派发']==1)]"
   ]
  },
  {
   "cell_type": "code",
   "execution_count": 51,
   "metadata": {},
   "outputs": [],
   "source": [
    "youhuawancheng = qingdan.loc[(qingdan['优化']=='优化') & (qingdan['优化已派发']==1) & (qingdan['优化完成']==1)]"
   ]
  },
  {
   "cell_type": "code",
   "execution_count": 52,
   "metadata": {
    "scrolled": true
   },
   "outputs": [],
   "source": [
    "y_w=youhuawancheng.groupby(by = '区县').agg({'唯一编号':'count'})"
   ]
  },
  {
   "cell_type": "code",
   "execution_count": 53,
   "metadata": {},
   "outputs": [],
   "source": [
    "y_z = youhua.groupby(by = '区县').agg({'唯一编号':'count'})"
   ]
  },
  {
   "cell_type": "code",
   "execution_count": 54,
   "metadata": {},
   "outputs": [],
   "source": [
    "youhuajindu=pd.concat([y_z,y_w],axis = 1)"
   ]
  },
  {
   "cell_type": "code",
   "execution_count": 55,
   "metadata": {},
   "outputs": [],
   "source": [
    "youhuajindu.columns = ['总量','完成量']"
   ]
  },
  {
   "cell_type": "code",
   "execution_count": 56,
   "metadata": {},
   "outputs": [],
   "source": [
    "youhuajindu['进度'] = youhuajindu['完成量']/youhuajindu['总量']"
   ]
  },
  {
   "cell_type": "code",
   "execution_count": 57,
   "metadata": {},
   "outputs": [],
   "source": [
    "youhua_wanchengdugao=list(youhuajindu.sort_values(by=\"进度\",ascending= False).head(3).index)  #排序 升序True 降序False by列"
   ]
  },
  {
   "cell_type": "code",
   "execution_count": 58,
   "metadata": {},
   "outputs": [
    {
     "data": {
      "text/plain": [
       "'MR竞对优化工单目前累计派单3541单。除328正在处理中，已处理工单覆盖率改善2704单（本月新增解决181单），派发工单解决率76.36%。未解决原因主要是优化无法解决需重点优先开通站点。优化完成工单MR覆盖率改善1.56pp，对全网劣于竞对小区占比指标改善3.17pp。汉阳区，江汉区，洪山区派发工单解决率相对较高'"
      ]
     },
     "execution_count": 58,
     "metadata": {},
     "output_type": "execute_result"
    }
   ],
   "source": [
    "'MR竞对优化工单目前累计派单'+str(youhua_z)+'单。除328正在处理中，已处理工单覆盖率改善'+str(youhua_w)+'单（本月新增解决181单），派发工单解决\\\n",
    "率'+str(youhua_w/youhua_z*100)[:5]+'%'+'。未解决原因主要是优化无法解决需重点优先开通站点。优化完成工单MR覆盖率改善1.56pp，对全网劣于\\\n",
    "竞对小区占比指标改善3.17pp。'+str(youhua_wanchengdugao[0])+'，'+str(youhua_wanchengdugao[1])+'，'+str(youhua_wanchengdugao[2])+'派发工单解决率相对较高'"
   ]
  },
  {
   "cell_type": "code",
   "execution_count": 127,
   "metadata": {},
   "outputs": [],
   "source": [
    "youhuajindu.to_clipboard()"
   ]
  },
  {
   "cell_type": "markdown",
   "metadata": {},
   "source": [
    "### 催开"
   ]
  },
  {
   "cell_type": "code",
   "execution_count": 79,
   "metadata": {},
   "outputs": [],
   "source": [
    "qingdan_c = qingdan_yuan.copy()"
   ]
  },
  {
   "cell_type": "code",
   "execution_count": 80,
   "metadata": {},
   "outputs": [],
   "source": [
    "qingdan_c = qingdan_c.loc[qingdan_c['地市']=='武汉']"
   ]
  },
  {
   "cell_type": "code",
   "execution_count": 81,
   "metadata": {},
   "outputs": [],
   "source": [
    "qingdan = qingdan_c.copy()"
   ]
  },
  {
   "cell_type": "code",
   "execution_count": 82,
   "metadata": {},
   "outputs": [],
   "source": [
    "cuikai_zdanzi = qingdan.loc[(qingdan['方案-最新']=='催开') ]['唯一编号'].count()"
   ]
  },
  {
   "cell_type": "code",
   "execution_count": 83,
   "metadata": {},
   "outputs": [],
   "source": [
    "cuikai_z = qingdan.loc[(qingdan['方案-最新']=='催开') ].drop_duplicates(subset='TDL规划站号（新）') ['唯一编号'].count()"
   ]
  },
  {
   "cell_type": "code",
   "execution_count": 84,
   "metadata": {},
   "outputs": [],
   "source": [
    "cuikai_w = qingdan.loc[(qingdan['方案-最新']=='催开') & (qingdan['催开完成']==1) ].drop_duplicates(subset='TDL规划站号（新）') ['唯一编号'].count()"
   ]
  },
  {
   "cell_type": "code",
   "execution_count": 85,
   "metadata": {},
   "outputs": [],
   "source": [
    "cuikai_quchong = qingdan.loc[(qingdan['方案-最新']=='催开') ].drop_duplicates(subset='TDL规划站号（新）') "
   ]
  },
  {
   "cell_type": "code",
   "execution_count": 86,
   "metadata": {},
   "outputs": [],
   "source": [
    "cuikai_quchong_wancheng = qingdan.loc[(qingdan['方案-最新']=='催开') & (qingdan['催开完成']==1) ].drop_duplicates(subset='TDL规划站号（新）') "
   ]
  },
  {
   "cell_type": "code",
   "execution_count": 87,
   "metadata": {},
   "outputs": [],
   "source": [
    "cuikai_zongliang = cuikai_quchong.groupby(by = '区县').agg({'唯一编号':'count'})"
   ]
  },
  {
   "cell_type": "code",
   "execution_count": 88,
   "metadata": {},
   "outputs": [],
   "source": [
    "cuikai_wanchengliang = cuikai_quchong_wancheng.groupby(by = '区县').agg({'唯一编号':'count'})"
   ]
  },
  {
   "cell_type": "code",
   "execution_count": 89,
   "metadata": {},
   "outputs": [],
   "source": [
    "cuikaijindu=pd.concat([cuikai_zongliang,cuikai_wanchengliang],axis = 1)"
   ]
  },
  {
   "cell_type": "code",
   "execution_count": 90,
   "metadata": {},
   "outputs": [],
   "source": [
    "cuikaijindu.columns = ['总量','完成量']"
   ]
  },
  {
   "cell_type": "code",
   "execution_count": 91,
   "metadata": {},
   "outputs": [],
   "source": [
    "cuikaijindu['进度'] = cuikaijindu['完成量']/cuikaijindu['总量']"
   ]
  },
  {
   "cell_type": "code",
   "execution_count": 92,
   "metadata": {},
   "outputs": [],
   "source": [
    "cuikai_wanchengdudi=list(cuikaijindu.sort_values(by=\"进度\",ascending= True).head(1).index)  #排序 升序True 降序False by列"
   ]
  },
  {
   "cell_type": "code",
   "execution_count": 93,
   "metadata": {},
   "outputs": [],
   "source": [
    "a=cuikai_wanchengdudi[0]"
   ]
  },
  {
   "cell_type": "code",
   "execution_count": 94,
   "metadata": {},
   "outputs": [],
   "source": [
    "jindudi=cuikai_quchong.loc[(cuikai_quchong['区县']==a) & (cuikai_quchong['催开完成']!=1)].groupby(by='工期核实').agg({'唯一编号':'count'}).sort_values(by=\"唯一编号\",ascending= False).head(1).index"
   ]
  },
  {
   "cell_type": "code",
   "execution_count": 95,
   "metadata": {},
   "outputs": [
    {
     "data": {
      "text/plain": [
       "'催开工单共10371单，涉及逻辑站点4818个，已开通站点3626个(本月新增201个），催开完成率为75.25%。东湖高新开发区地市整体解决进度较慢，主要为4G六期第二批未开通占比较高，需加快站点建设进度。已催开工单整体MR覆盖率改善2.60pp，对全网劣于竞对小区占比指标改善5.26pp。'"
      ]
     },
     "execution_count": 95,
     "metadata": {},
     "output_type": "execute_result"
    }
   ],
   "source": [
    "'催开工单共'+str(cuikai_zdanzi)+'单，涉及逻辑站\\\n",
    "点'+str(cuikai_z)+'个，已开通站点'+str(cuikai_w)+'个(本月新增201个），催开完成率\\\n",
    "为'+str(cuikai_w/cuikai_z*100)[:5]+'%'+'。'+cuikai_wanchengdudi[0]+'地市整体解决进度较慢，主要为'+jindudi[0]+'未开通占比较\\\n",
    "高，需加快站点建设进度。'+'已催开工单整体MR覆盖率改善2.60pp，对全网劣于竞对小区占比指标改善5.26pp。'"
   ]
  },
  {
   "cell_type": "code",
   "execution_count": 96,
   "metadata": {},
   "outputs": [
    {
     "data": {
      "text/html": [
       "<div>\n",
       "<style scoped>\n",
       "    .dataframe tbody tr th:only-of-type {\n",
       "        vertical-align: middle;\n",
       "    }\n",
       "\n",
       "    .dataframe tbody tr th {\n",
       "        vertical-align: top;\n",
       "    }\n",
       "\n",
       "    .dataframe thead th {\n",
       "        text-align: right;\n",
       "    }\n",
       "</style>\n",
       "<table border=\"1\" class=\"dataframe\">\n",
       "  <thead>\n",
       "    <tr style=\"text-align: right;\">\n",
       "      <th></th>\n",
       "      <th>总量</th>\n",
       "      <th>完成量</th>\n",
       "      <th>进度</th>\n",
       "    </tr>\n",
       "    <tr>\n",
       "      <th>区县</th>\n",
       "      <th></th>\n",
       "      <th></th>\n",
       "      <th></th>\n",
       "    </tr>\n",
       "  </thead>\n",
       "  <tbody>\n",
       "    <tr>\n",
       "      <td>东湖高新开发区</td>\n",
       "      <td>705</td>\n",
       "      <td>406</td>\n",
       "      <td>0.575887</td>\n",
       "    </tr>\n",
       "    <tr>\n",
       "      <td>东西湖区</td>\n",
       "      <td>338</td>\n",
       "      <td>285</td>\n",
       "      <td>0.843195</td>\n",
       "    </tr>\n",
       "    <tr>\n",
       "      <td>新洲县</td>\n",
       "      <td>288</td>\n",
       "      <td>267</td>\n",
       "      <td>0.927083</td>\n",
       "    </tr>\n",
       "    <tr>\n",
       "      <td>武昌区</td>\n",
       "      <td>319</td>\n",
       "      <td>201</td>\n",
       "      <td>0.630094</td>\n",
       "    </tr>\n",
       "    <tr>\n",
       "      <td>武汉市</td>\n",
       "      <td>57</td>\n",
       "      <td>50</td>\n",
       "      <td>0.877193</td>\n",
       "    </tr>\n",
       "    <tr>\n",
       "      <td>汉阳区</td>\n",
       "      <td>221</td>\n",
       "      <td>160</td>\n",
       "      <td>0.723982</td>\n",
       "    </tr>\n",
       "    <tr>\n",
       "      <td>江夏区</td>\n",
       "      <td>430</td>\n",
       "      <td>340</td>\n",
       "      <td>0.790698</td>\n",
       "    </tr>\n",
       "    <tr>\n",
       "      <td>江岸区</td>\n",
       "      <td>264</td>\n",
       "      <td>198</td>\n",
       "      <td>0.750000</td>\n",
       "    </tr>\n",
       "    <tr>\n",
       "      <td>江汉区</td>\n",
       "      <td>226</td>\n",
       "      <td>138</td>\n",
       "      <td>0.610619</td>\n",
       "    </tr>\n",
       "    <tr>\n",
       "      <td>洪山区</td>\n",
       "      <td>331</td>\n",
       "      <td>217</td>\n",
       "      <td>0.655589</td>\n",
       "    </tr>\n",
       "    <tr>\n",
       "      <td>硚口区</td>\n",
       "      <td>171</td>\n",
       "      <td>128</td>\n",
       "      <td>0.748538</td>\n",
       "    </tr>\n",
       "    <tr>\n",
       "      <td>经开区</td>\n",
       "      <td>286</td>\n",
       "      <td>240</td>\n",
       "      <td>0.839161</td>\n",
       "    </tr>\n",
       "    <tr>\n",
       "      <td>蔡甸区</td>\n",
       "      <td>265</td>\n",
       "      <td>243</td>\n",
       "      <td>0.916981</td>\n",
       "    </tr>\n",
       "    <tr>\n",
       "      <td>青山区</td>\n",
       "      <td>418</td>\n",
       "      <td>318</td>\n",
       "      <td>0.760766</td>\n",
       "    </tr>\n",
       "    <tr>\n",
       "      <td>黄陂县</td>\n",
       "      <td>499</td>\n",
       "      <td>435</td>\n",
       "      <td>0.871743</td>\n",
       "    </tr>\n",
       "  </tbody>\n",
       "</table>\n",
       "</div>"
      ],
      "text/plain": [
       "          总量  完成量        进度\n",
       "区县                         \n",
       "东湖高新开发区  705  406  0.575887\n",
       "东西湖区     338  285  0.843195\n",
       "新洲县      288  267  0.927083\n",
       "武昌区      319  201  0.630094\n",
       "武汉市       57   50  0.877193\n",
       "汉阳区      221  160  0.723982\n",
       "江夏区      430  340  0.790698\n",
       "江岸区      264  198  0.750000\n",
       "江汉区      226  138  0.610619\n",
       "洪山区      331  217  0.655589\n",
       "硚口区      171  128  0.748538\n",
       "经开区      286  240  0.839161\n",
       "蔡甸区      265  243  0.916981\n",
       "青山区      418  318  0.760766\n",
       "黄陂县      499  435  0.871743"
      ]
     },
     "execution_count": 96,
     "metadata": {},
     "output_type": "execute_result"
    }
   ],
   "source": [
    "cuikaijindu"
   ]
  },
  {
   "cell_type": "code",
   "execution_count": 128,
   "metadata": {},
   "outputs": [],
   "source": [
    "cuikaijindu.to_clipboard()"
   ]
  },
  {
   "cell_type": "markdown",
   "metadata": {},
   "source": [
    "### 可研"
   ]
  },
  {
   "cell_type": "code",
   "execution_count": 98,
   "metadata": {},
   "outputs": [],
   "source": [
    "qingdan_k = qingdan_yuan.copy()"
   ]
  },
  {
   "cell_type": "code",
   "execution_count": 99,
   "metadata": {},
   "outputs": [],
   "source": [
    "qingdan_k = qingdan_k.loc[qingdan_k['地市']=='武汉']"
   ]
  },
  {
   "cell_type": "code",
   "execution_count": 100,
   "metadata": {},
   "outputs": [],
   "source": [
    "qingdan = qingdan_k.copy()"
   ]
  },
  {
   "cell_type": "code",
   "execution_count": 101,
   "metadata": {},
   "outputs": [],
   "source": [
    "keyan_zdanzi = qingdan.loc[(qingdan['催可研']=='可研') ]['唯一编号'].count()"
   ]
  },
  {
   "cell_type": "code",
   "execution_count": 102,
   "metadata": {},
   "outputs": [],
   "source": [
    "keyan_z = qingdan.loc[(qingdan['催可研']=='可研') ].drop_duplicates(subset='TDL规划站号（新）') ['唯一编号'].count()"
   ]
  },
  {
   "cell_type": "code",
   "execution_count": 103,
   "metadata": {},
   "outputs": [],
   "source": [
    "keyan_w = qingdan.loc[(qingdan['催可研']=='可研') & (qingdan['可研完成']==1) ].drop_duplicates(subset='TDL规划站号（新）') ['唯一编号'].count()"
   ]
  },
  {
   "cell_type": "code",
   "execution_count": 104,
   "metadata": {},
   "outputs": [
    {
     "data": {
      "text/plain": [
       "'催可研工单共9891单，涉及4623个逻辑站点工期催研，目前累计4611个站点已纳入工期，入研进度为99.74%。'"
      ]
     },
     "execution_count": 104,
     "metadata": {},
     "output_type": "execute_result"
    }
   ],
   "source": [
    "'催可研工单共'+str(keyan_zdanzi)+'单，涉及'+str(keyan_z)+'个逻辑站点工期催研，目前累\\\n",
    "计'+str(keyan_w)+'个站点已纳入工期，入研进度为'+str(keyan_w/keyan_z*100)[:5]+'%。'"
   ]
  },
  {
   "cell_type": "code",
   "execution_count": 105,
   "metadata": {},
   "outputs": [],
   "source": [
    "keyan_quchong = qingdan.loc[(qingdan['催可研']=='可研') ].drop_duplicates(subset='TDL规划站号（新）')"
   ]
  },
  {
   "cell_type": "code",
   "execution_count": 106,
   "metadata": {},
   "outputs": [],
   "source": [
    "keyan_quchong_w = qingdan.loc[(qingdan['催可研']=='可研') & (qingdan['可研完成']==1) ].drop_duplicates(subset='TDL规划站号（新）')"
   ]
  },
  {
   "cell_type": "code",
   "execution_count": 107,
   "metadata": {},
   "outputs": [],
   "source": [
    "k_z = keyan_quchong.groupby(by = '区县').agg({'唯一编号':'count'})"
   ]
  },
  {
   "cell_type": "code",
   "execution_count": 108,
   "metadata": {},
   "outputs": [],
   "source": [
    "k_w = keyan_quchong_w.groupby(by = '区县').agg({'唯一编号':'count'})"
   ]
  },
  {
   "cell_type": "code",
   "execution_count": 109,
   "metadata": {},
   "outputs": [],
   "source": [
    "keyanjindu=pd.concat([k_z,k_w],axis = 1)"
   ]
  },
  {
   "cell_type": "code",
   "execution_count": 110,
   "metadata": {},
   "outputs": [],
   "source": [
    "keyanjindu.columns = ['总量','完成量']"
   ]
  },
  {
   "cell_type": "code",
   "execution_count": 111,
   "metadata": {},
   "outputs": [],
   "source": [
    "keyanjindu['进度'] = keyanjindu['完成量']/keyanjindu['总量']"
   ]
  },
  {
   "cell_type": "code",
   "execution_count": 129,
   "metadata": {},
   "outputs": [],
   "source": [
    "keyanjindu.to_clipboard()"
   ]
  },
  {
   "cell_type": "markdown",
   "metadata": {},
   "source": [
    "### 规划 "
   ]
  },
  {
   "cell_type": "code",
   "execution_count": 113,
   "metadata": {},
   "outputs": [],
   "source": [
    "qingdan_g = qingdan_yuan.copy()"
   ]
  },
  {
   "cell_type": "code",
   "execution_count": 114,
   "metadata": {},
   "outputs": [],
   "source": [
    "qingdan_g = qingdan_g.loc[qingdan_g['地市']=='武汉']"
   ]
  },
  {
   "cell_type": "code",
   "execution_count": 115,
   "metadata": {},
   "outputs": [],
   "source": [
    "qingdan = qingdan_g.copy()"
   ]
  },
  {
   "cell_type": "code",
   "execution_count": 116,
   "metadata": {},
   "outputs": [],
   "source": [
    "guihua_zdanzi = qingdan.loc[(qingdan['规划']=='规划') ]['唯一编号'].count()"
   ]
  },
  {
   "cell_type": "code",
   "execution_count": 117,
   "metadata": {},
   "outputs": [],
   "source": [
    "guihua_w = qingdan.loc[(qingdan['规划']=='规划') & (qingdan['规划完成']==1) ]['唯一编号'].count()"
   ]
  },
  {
   "cell_type": "code",
   "execution_count": 118,
   "metadata": {},
   "outputs": [
    {
     "data": {
      "text/plain": [
       "'需规划解决工单共2124单，目前累计完成2124个问题工单规划衔接，规划完成比例100.0%。'"
      ]
     },
     "execution_count": 118,
     "metadata": {},
     "output_type": "execute_result"
    }
   ],
   "source": [
    "'需规划解决工单共'+str(guihua_zdanzi)+'单，目前累计完成'+str(guihua_w)+'个问题工单规划衔接，规\\\n",
    "划完成比例'+str(guihua_w/guihua_zdanzi*100)[:5]+'%。'"
   ]
  },
  {
   "cell_type": "code",
   "execution_count": null,
   "metadata": {},
   "outputs": [],
   "source": []
  },
  {
   "cell_type": "code",
   "execution_count": 119,
   "metadata": {},
   "outputs": [],
   "source": [
    "guihua_qingdan = qingdan.loc[(qingdan['规划']=='规划') ]"
   ]
  },
  {
   "cell_type": "code",
   "execution_count": 120,
   "metadata": {},
   "outputs": [],
   "source": [
    "guihua_qingdan_w = qingdan.loc[(qingdan['规划']=='规划') & (qingdan['规划完成']==1)]"
   ]
  },
  {
   "cell_type": "code",
   "execution_count": 121,
   "metadata": {},
   "outputs": [],
   "source": [
    "g_z = guihua_qingdan.groupby(by = '区县').agg({'唯一编号':'count'})"
   ]
  },
  {
   "cell_type": "code",
   "execution_count": 122,
   "metadata": {},
   "outputs": [],
   "source": [
    "g_w = guihua_qingdan_w.groupby(by = '区县').agg({'唯一编号':'count'})"
   ]
  },
  {
   "cell_type": "code",
   "execution_count": 123,
   "metadata": {},
   "outputs": [],
   "source": [
    "guihuajindu=pd.concat([g_z,g_w],axis = 1)"
   ]
  },
  {
   "cell_type": "code",
   "execution_count": 124,
   "metadata": {},
   "outputs": [],
   "source": [
    "guihuajindu.columns = ['总量','完成量']"
   ]
  },
  {
   "cell_type": "code",
   "execution_count": 125,
   "metadata": {},
   "outputs": [],
   "source": [
    "guihuajindu['进度'] = guihuajindu['完成量']/guihuajindu['总量']"
   ]
  },
  {
   "cell_type": "code",
   "execution_count": 130,
   "metadata": {},
   "outputs": [],
   "source": [
    "guihuajindu.to_clipboard()"
   ]
  },
  {
   "cell_type": "code",
   "execution_count": null,
   "metadata": {},
   "outputs": [],
   "source": []
  },
  {
   "cell_type": "code",
   "execution_count": null,
   "metadata": {},
   "outputs": [],
   "source": []
  }
 ],
 "metadata": {
  "kernelspec": {
   "display_name": "Python 3",
   "language": "python",
   "name": "python3"
  },
  "language_info": {
   "codemirror_mode": {
    "name": "ipython",
    "version": 3
   },
   "file_extension": ".py",
   "mimetype": "text/x-python",
   "name": "python",
   "nbconvert_exporter": "python",
   "pygments_lexer": "ipython3",
   "version": "3.7.3"
  }
 },
 "nbformat": 4,
 "nbformat_minor": 2
}
