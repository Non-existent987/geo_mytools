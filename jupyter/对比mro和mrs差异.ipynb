{
 "cells": [
  {
   "cell_type": "code",
   "execution_count": 108,
   "metadata": {},
   "outputs": [],
   "source": [
    "import pandas as pd\n",
    "import app"
   ]
  },
  {
   "cell_type": "code",
   "execution_count": 120,
   "metadata": {},
   "outputs": [],
   "source": [
    "res['dishi']=res_city"
   ]
  },
  {
   "cell_type": "code",
   "execution_count": 148,
   "metadata": {},
   "outputs": [],
   "source": [
    "def go(mrs_data,mro_data,list_t=['city','changjia','zhishi']):#mrs处理——1\n",
    "    mrs_data_t = mrs_data[[ '小区中文名', 'CGI', '地市', '区县', '厂家名称',  '参考信号接收功率采样点点数', '自_自-弱覆盖采样点110_Eutrancell','小区类别','rq']]\n",
    "    mrs_data_t.columns = [ 'cell', 'cgi', 'city', 'qx', 'changjia',  'rsrp_sum', 'rsrp_weak','zhishi','rq']\n",
    "    #mro处理——1\n",
    "    mro_data_t = mro_data[[ '小区中文名', 'cgi','city', 'gsqx', 'vander','rsrp_count', 'rsrp_weak','网络制式(TDD/FDD)','rq']]\n",
    "    mro_data_t.columns = [ 'cell', 'cgi', 'city', 'qx', 'changjia',  'rsrp_sum', 'rsrp_weak','zhishi','rq']\n",
    "\n",
    "    #city处理——2\n",
    "    resx = dict()\n",
    "    for x in list_t:\n",
    "        data_z = pd.DataFrame()\n",
    "        for data,data_data_t in mrs_data_t.groupby(by='rq'):\n",
    "            mrs_data_tv2 = mrs_data_t.loc[mrs_data_t['rq']==data]\n",
    "            mro_data_tv2 = mro_data_t.loc[mro_data_t['rq']==data]\n",
    "            #数据匹配\n",
    "            res_datav2 = mrs_data_tv2.merge(mro_data_tv2,how='left',on='cgi',indicator=True,suffixes=('', '_y'))\n",
    "            res_data_v2 = res_datav2.loc[res_datav2['_merge']=='left_only']\n",
    "            res_data_v2.to_csv('G:/1-规划/1其他工作输出/20191216对比mro和mrs数据差异/{riqi}.csv'.format(riqi=data),encoding='gbk',index=False)\n",
    "            \n",
    "            res = mrs_data_tv2.groupby(by=x).agg({'cgi':'count'})\n",
    "            res.columns=['mrs'+data]\n",
    "            res_only_mrs = res_data_v2.groupby(by=x).agg({'cgi':'count'})\n",
    "            res_only_mrs.columns=['only_mrs'+data]\n",
    "            res_city = res.merge(res_only_mrs,left_index=True,right_index=True)\n",
    "            a =res_city[['mrs'+data,'only_mrs'+data]].sum()\n",
    "            a.name='总计'\n",
    "            res_city = res_city.append(a)\n",
    "            data_z = pd.concat([data_z,res_city],axis=1)\n",
    "        resx[x]=data_z\n",
    "    return resx"
   ]
  },
  {
   "cell_type": "code",
   "execution_count": 127,
   "metadata": {},
   "outputs": [],
   "source": [
    "data_13 = pd.read_csv(open('G:/1-规划/1其他工作输出/20191216对比mro和mrs数据差异/基础数据/mrs/1213.CSV',encoding='gbk'))\n",
    "data_14 = pd.read_csv(open('G:/1-规划/1其他工作输出/20191216对比mro和mrs数据差异/基础数据/mrs/1214.CSV',encoding='gbk'))\n",
    "data_15 = pd.read_csv(open('G:/1-规划/1其他工作输出/20191216对比mro和mrs数据差异/基础数据/mrs/1215.CSV',encoding='gbk'))\n",
    "data_13['rq']='r13'\n",
    "data_14['rq']='r14'\n",
    "data_15['rq']='r15'\n",
    "mrs_use = pd.concat([data_13,data_14,data_15])"
   ]
  },
  {
   "cell_type": "code",
   "execution_count": 8,
   "metadata": {},
   "outputs": [],
   "source": [
    "data = pd.concat([data_13,data_14,data_15])"
   ]
  },
  {
   "cell_type": "code",
   "execution_count": 128,
   "metadata": {},
   "outputs": [],
   "source": [
    "# con = app.tools.con()\n",
    "# mro_13 = pd.read_sql_table('多天指标汇总',con=con)\n",
    "# mro_13.to_csv('G:/1-规划/1其他工作输出/20191216对比mro和mrs数据差异/基础数据/mro/mro_13.csv',encoding='gbk',index=False)\n",
    "mro_13 = pd.read_csv(open('G:/1-规划/1其他工作输出/20191216对比mro和mrs数据差异/基础数据/mro/mro_13.csv',encoding='gbk'))\n",
    "\n",
    "# mro_14 = pd.read_sql_table('多天指标汇总',con=con)\n",
    "# mro_14.to_csv('G:/1-规划/1其他工作输出/20191216对比mro和mrs数据差异/基础数据/mro/mro_14.csv',encoding='gbk',index=False)\n",
    "mro_14 = pd.read_csv(open('G:/1-规划/1其他工作输出/20191216对比mro和mrs数据差异/基础数据/mro/mro_14.csv',encoding='gbk'))\n",
    "\n",
    "# mro_15 = pd.read_sql_table('多天指标汇总',con=con)\n",
    "# mro_15.to_csv('G:/1-规划/1其他工作输出/20191216对比mro和mrs数据差异/基础数据/mro/mro_15.csv',encoding='gbk',index=False)\n",
    "mro_15 = pd.read_csv(open('G:/1-规划/1其他工作输出/20191216对比mro和mrs数据差异/基础数据/mro/mro_15.csv',encoding='gbk'))\n",
    "mro_13['rq']='r13'\n",
    "mro_14['rq']='r14'\n",
    "mro_15['rq']='r15'\n",
    "mro_use = pd.concat([mro_13,mro_14,mro_15])"
   ]
  },
  {
   "cell_type": "code",
   "execution_count": 150,
   "metadata": {},
   "outputs": [],
   "source": [
    "res = go(mrs_use,mro_use,list_t=['city','changjia','zhishi'])"
   ]
  },
  {
   "cell_type": "code",
   "execution_count": 147,
   "metadata": {},
   "outputs": [],
   "source": [
    "res['zhishi'].to_clipboard()"
   ]
  },
  {
   "cell_type": "code",
   "execution_count": null,
   "metadata": {},
   "outputs": [],
   "source": []
  }
 ],
 "metadata": {
  "kernelspec": {
   "display_name": "Python 3",
   "language": "python",
   "name": "python3"
  },
  "language_info": {
   "codemirror_mode": {
    "name": "ipython",
    "version": 3
   },
   "file_extension": ".py",
   "mimetype": "text/x-python",
   "name": "python",
   "nbconvert_exporter": "python",
   "pygments_lexer": "ipython3",
   "version": "3.7.3"
  }
 },
 "nbformat": 4,
 "nbformat_minor": 2
}
