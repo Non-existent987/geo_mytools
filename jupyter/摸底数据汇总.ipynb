{
 "cells": [
  {
   "cell_type": "code",
   "execution_count": 5,
   "metadata": {},
   "outputs": [],
   "source": [
    "import pandas as pd\n",
    "import app.mydef as md\n",
    "\n",
    "mt = md.MyTools()"
   ]
  },
  {
   "cell_type": "code",
   "execution_count": 2,
   "metadata": {},
   "outputs": [
    {
     "name": "stderr",
     "output_type": "stream",
     "text": [
      "C:\\ProgramData\\Anaconda3\\lib\\site-packages\\IPython\\core\\interactiveshell.py:2714: DtypeWarning: Columns (15,17,22,24) have mixed types. Specify dtype option on import or set low_memory=False.\n",
      "  interactivity=interactivity, compiler=compiler, result=result)\n"
     ]
    }
   ],
   "source": [
    "gongcan = pd.read_csv(open('g:/1-规划/工参/工参数据/ltejizhan20191029.csv',encoding = 'gbk'))"
   ]
  },
  {
   "cell_type": "code",
   "execution_count": 3,
   "metadata": {},
   "outputs": [],
   "source": [
    "gongcan = gongcan.fillna('无')"
   ]
  },
  {
   "cell_type": "code",
   "execution_count": 11,
   "metadata": {},
   "outputs": [],
   "source": [
    "f=mt.file_name_paths(path = 'g:/1-规划/MRO/摸底测试相关/2019年/10月/华为中兴提供-汇总使用/')"
   ]
  },
  {
   "cell_type": "code",
   "execution_count": 12,
   "metadata": {
    "scrolled": true
   },
   "outputs": [
    {
     "data": {
      "text/plain": [
       "['g:/1-规划/MRO/摸底测试相关/2019年/10月/华为中兴提供-汇总使用/中兴\\\\天门10月MR.xlsx',\n",
       " 'g:/1-规划/MRO/摸底测试相关/2019年/10月/华为中兴提供-汇总使用/中兴\\\\孝感9月MR.xlsx',\n",
       " 'g:/1-规划/MRO/摸底测试相关/2019年/10月/华为中兴提供-汇总使用/中兴\\\\武汉9月MR指标.xlsx',\n",
       " 'g:/1-规划/MRO/摸底测试相关/2019年/10月/华为中兴提供-汇总使用/中兴\\\\江汉10月MR.xlsx',\n",
       " 'g:/1-规划/MRO/摸底测试相关/2019年/10月/华为中兴提供-汇总使用/中兴\\\\潜江10月MR.xlsx',\n",
       " 'g:/1-规划/MRO/摸底测试相关/2019年/10月/华为中兴提供-汇总使用/中兴\\\\第三轮MR摸底数据-天门.xlsx',\n",
       " 'g:/1-规划/MRO/摸底测试相关/2019年/10月/华为中兴提供-汇总使用/中兴\\\\第三轮MR摸底数据-武汉.xlsx',\n",
       " 'g:/1-规划/MRO/摸底测试相关/2019年/10月/华为中兴提供-汇总使用/中兴\\\\第三轮MR摸底数据-江汉.xlsx',\n",
       " 'g:/1-规划/MRO/摸底测试相关/2019年/10月/华为中兴提供-汇总使用/中兴\\\\第三轮MR摸底数据-潜江.xlsx',\n",
       " 'g:/1-规划/MRO/摸底测试相关/2019年/10月/华为中兴提供-汇总使用/中兴\\\\第三轮MR摸底数据-鄂州.xlsx',\n",
       " 'g:/1-规划/MRO/摸底测试相关/2019年/10月/华为中兴提供-汇总使用/中兴\\\\鄂州10月MR.xlsx',\n",
       " 'g:/1-规划/MRO/摸底测试相关/2019年/10月/华为中兴提供-汇总使用/中兴\\\\黄冈10月MR.xlsx',\n",
       " 'g:/1-规划/MRO/摸底测试相关/2019年/10月/华为中兴提供-汇总使用/中兴\\\\黄石9月MR.xlsx',\n",
       " 'g:/1-规划/MRO/摸底测试相关/2019年/10月/华为中兴提供-汇总使用/华为爱立信\\\\eutrancelltdd_upperall20191018.csv',\n",
       " 'g:/1-规划/MRO/摸底测试相关/2019年/10月/华为中兴提供-汇总使用/华为爱立信\\\\eutrancelltdd_upperall20191019.csv',\n",
       " 'g:/1-规划/MRO/摸底测试相关/2019年/10月/华为中兴提供-汇总使用/诺基亚\\\\诺基亚大唐-软采数据.xlsx']"
      ]
     },
     "execution_count": 12,
     "metadata": {},
     "output_type": "execute_result"
    }
   ],
   "source": [
    "f"
   ]
  },
  {
   "cell_type": "code",
   "execution_count": null,
   "metadata": {},
   "outputs": [],
   "source": []
  },
  {
   "cell_type": "code",
   "execution_count": 16,
   "metadata": {},
   "outputs": [],
   "source": [
    "zte_tianmen= pd.read_excel('g:/1-规划/MRO/摸底测试相关/2019年/10月/华为中兴提供-汇总使用/中兴\\\\天门10月MR.xlsx')"
   ]
  },
  {
   "cell_type": "code",
   "execution_count": 17,
   "metadata": {},
   "outputs": [],
   "source": [
    "zte_xiaogan= pd.read_excel('g:/1-规划/MRO/摸底测试相关/2019年/10月/华为中兴提供-汇总使用/中兴\\\\孝感9月MR.xlsx')"
   ]
  },
  {
   "cell_type": "code",
   "execution_count": 18,
   "metadata": {},
   "outputs": [],
   "source": [
    "zte_wuhan= pd.read_excel('g:/1-规划/MRO/摸底测试相关/2019年/10月/华为中兴提供-汇总使用/中兴\\\\武汉9月MR指标.xlsx')"
   ]
  },
  {
   "cell_type": "code",
   "execution_count": 21,
   "metadata": {},
   "outputs": [],
   "source": [
    "zte_jianghan= pd.read_excel('g:/1-规划/MRO/摸底测试相关/2019年/10月/华为中兴提供-汇总使用/中兴/江汉10月MR.xlsx')"
   ]
  },
  {
   "cell_type": "code",
   "execution_count": 22,
   "metadata": {},
   "outputs": [],
   "source": [
    "zte_qianjiang= pd.read_excel('g:/1-规划/MRO/摸底测试相关/2019年/10月/华为中兴提供-汇总使用/中兴\\\\潜江10月MR.xlsx')"
   ]
  },
  {
   "cell_type": "code",
   "execution_count": 23,
   "metadata": {},
   "outputs": [],
   "source": [
    "zte_tianmen_x= pd.read_excel('g:/1-规划/MRO/摸底测试相关/2019年/10月/华为中兴提供-汇总使用/中兴\\\\第三轮MR摸底数据-天门.xlsx')"
   ]
  },
  {
   "cell_type": "code",
   "execution_count": 24,
   "metadata": {},
   "outputs": [],
   "source": [
    "zte_wuhan_x= pd.read_excel('g:/1-规划/MRO/摸底测试相关/2019年/10月/华为中兴提供-汇总使用/中兴\\\\第三轮MR摸底数据-武汉.xlsx')"
   ]
  },
  {
   "cell_type": "code",
   "execution_count": 25,
   "metadata": {},
   "outputs": [],
   "source": [
    "zte_jianghan_x= pd.read_excel('g:/1-规划/MRO/摸底测试相关/2019年/10月/华为中兴提供-汇总使用/中兴\\\\第三轮MR摸底数据-江汉.xlsx')"
   ]
  },
  {
   "cell_type": "code",
   "execution_count": 26,
   "metadata": {},
   "outputs": [],
   "source": [
    "zte_qianjiang_x= pd.read_excel('g:/1-规划/MRO/摸底测试相关/2019年/10月/华为中兴提供-汇总使用/中兴\\\\第三轮MR摸底数据-潜江.xlsx')"
   ]
  },
  {
   "cell_type": "code",
   "execution_count": 27,
   "metadata": {},
   "outputs": [],
   "source": [
    "zte_ezhou_x= pd.read_excel('g:/1-规划/MRO/摸底测试相关/2019年/10月/华为中兴提供-汇总使用/中兴\\\\第三轮MR摸底数据-鄂州.xlsx')"
   ]
  },
  {
   "cell_type": "code",
   "execution_count": 28,
   "metadata": {},
   "outputs": [],
   "source": [
    "zte_ezhou= pd.read_excel('g:/1-规划/MRO/摸底测试相关/2019年/10月/华为中兴提供-汇总使用/中兴\\\\鄂州10月MR.xlsx')"
   ]
  },
  {
   "cell_type": "code",
   "execution_count": 29,
   "metadata": {},
   "outputs": [],
   "source": [
    "zte_huanggang= pd.read_excel('g:/1-规划/MRO/摸底测试相关/2019年/10月/华为中兴提供-汇总使用/中兴\\\\黄冈10月MR.xlsx')"
   ]
  },
  {
   "cell_type": "code",
   "execution_count": 30,
   "metadata": {},
   "outputs": [],
   "source": [
    "zte_huangshi= pd.read_excel('g:/1-规划/MRO/摸底测试相关/2019年/10月/华为中兴提供-汇总使用/中兴\\\\黄石9月MR.xlsx')"
   ]
  },
  {
   "cell_type": "code",
   "execution_count": 31,
   "metadata": {},
   "outputs": [],
   "source": [
    "hua_nuo_datang= pd.read_excel('g:/1-规划/MRO/摸底测试相关/2019年/10月/华为中兴提供-汇总使用/诺基亚\\\\诺基亚大唐-软采数据.xlsx')"
   ]
  },
  {
   "cell_type": "code",
   "execution_count": 32,
   "metadata": {},
   "outputs": [],
   "source": [
    "hua_aili_1= pd.read_csv(open('g:/1-规划/MRO/摸底测试相关/2019年/10月/华为中兴提供-汇总使用/华为爱立信\\\\eutrancelltdd_upperall20191018.csv',encoding = 'gbk'))"
   ]
  },
  {
   "cell_type": "code",
   "execution_count": 42,
   "metadata": {},
   "outputs": [
    {
     "data": {
      "text/plain": [
       "'zte_tianmen (3097, 8)'"
      ]
     },
     "metadata": {},
     "output_type": "display_data"
    },
    {
     "data": {
      "text/plain": [
       "'zte_xiaogan (12966, 7)'"
      ]
     },
     "metadata": {},
     "output_type": "display_data"
    },
    {
     "data": {
      "text/plain": [
       "'zte_wuhan (23689, 7)'"
      ]
     },
     "metadata": {},
     "output_type": "display_data"
    },
    {
     "data": {
      "text/plain": [
       "'zte_jianghan (3499, 8)'"
      ]
     },
     "metadata": {},
     "output_type": "display_data"
    },
    {
     "data": {
      "text/plain": [
       "'zte_qianjiang (3050, 8)'"
      ]
     },
     "metadata": {},
     "output_type": "display_data"
    },
    {
     "data": {
      "text/plain": [
       "'zte_tianmen_x (3096, 8)'"
      ]
     },
     "metadata": {},
     "output_type": "display_data"
    },
    {
     "data": {
      "text/plain": [
       "'zte_wuhan_x (23645, 8)'"
      ]
     },
     "metadata": {},
     "output_type": "display_data"
    },
    {
     "data": {
      "text/plain": [
       "'zte_jianghan_x (3496, 8)'"
      ]
     },
     "metadata": {},
     "output_type": "display_data"
    },
    {
     "data": {
      "text/plain": [
       "'zte_qianjiang_x (3048, 8)'"
      ]
     },
     "metadata": {},
     "output_type": "display_data"
    },
    {
     "data": {
      "text/plain": [
       "'zte_ezhou_x (4799, 8)'"
      ]
     },
     "metadata": {},
     "output_type": "display_data"
    },
    {
     "data": {
      "text/plain": [
       "'zte_huanggang (16514, 7)'"
      ]
     },
     "metadata": {},
     "output_type": "display_data"
    },
    {
     "data": {
      "text/plain": [
       "'zte_huangshi (9708, 7)'"
      ]
     },
     "metadata": {},
     "output_type": "display_data"
    },
    {
     "data": {
      "text/plain": [
       "'hua_nuo_datang (7471, 5)'"
      ]
     },
     "metadata": {},
     "output_type": "display_data"
    },
    {
     "data": {
      "text/plain": [
       "'hua_aili_1 (208483, 31)'"
      ]
     },
     "metadata": {},
     "output_type": "display_data"
    }
   ],
   "source": [
    "display('zte_tianmen '+ str(zte_tianmen.shape),\n",
    "        'zte_xiaogan '+ str(zte_xiaogan.shape),\n",
    "       'zte_wuhan '+ str(zte_wuhan.shape),\n",
    "       'zte_jianghan '+ str(zte_jianghan.shape),\n",
    "       'zte_qianjiang '+ str(zte_qianjiang.shape),\n",
    "       'zte_tianmen_x '+ str(zte_tianmen_x.shape),\n",
    "       'zte_wuhan_x '+ str(zte_wuhan_x.shape),\n",
    "       'zte_jianghan_x '+ str(zte_jianghan_x.shape),\n",
    "       'zte_qianjiang_x '+ str(zte_qianjiang_x.shape),\n",
    "       'zte_ezhou_x '+ str(zte_ezhou_x.shape),\n",
    "       'zte_huanggang '+ str(zte_huanggang.shape),\n",
    "       'zte_huangshi '+ str(zte_huangshi.shape),\n",
    "       'hua_nuo_datang '+ str(hua_nuo_datang.shape),\n",
    "       'hua_aili_1 '+ str(hua_aili_1.shape))"
   ]
  },
  {
   "cell_type": "code",
   "execution_count": 252,
   "metadata": {},
   "outputs": [],
   "source": [
    "data_zte_z = pd.DataFrame()"
   ]
  },
  {
   "cell_type": "code",
   "execution_count": 253,
   "metadata": {
    "scrolled": true
   },
   "outputs": [],
   "source": [
    "data_zte_z = data_zte_z.append(data_zte_xiaogan)"
   ]
  },
  {
   "cell_type": "code",
   "execution_count": 254,
   "metadata": {},
   "outputs": [
    {
     "data": {
      "text/plain": [
       "(12966, 7)"
      ]
     },
     "execution_count": 254,
     "metadata": {},
     "output_type": "execute_result"
    }
   ],
   "source": [
    "data_zte_z.shape"
   ]
  },
  {
   "cell_type": "code",
   "execution_count": 255,
   "metadata": {
    "scrolled": true
   },
   "outputs": [],
   "source": [
    "data_zte_z = data_zte_z.append(data_zte_wuhan)"
   ]
  },
  {
   "cell_type": "code",
   "execution_count": 256,
   "metadata": {},
   "outputs": [
    {
     "data": {
      "text/plain": [
       "(36655, 7)"
      ]
     },
     "execution_count": 256,
     "metadata": {},
     "output_type": "execute_result"
    }
   ],
   "source": [
    "data_zte_z.shape"
   ]
  },
  {
   "cell_type": "code",
   "execution_count": 257,
   "metadata": {},
   "outputs": [],
   "source": [
    "data_zte_z = data_zte_z.append(data_zte_huangshi)"
   ]
  },
  {
   "cell_type": "code",
   "execution_count": 258,
   "metadata": {},
   "outputs": [
    {
     "data": {
      "text/plain": [
       "(46363, 7)"
      ]
     },
     "execution_count": 258,
     "metadata": {},
     "output_type": "execute_result"
    }
   ],
   "source": [
    "data_zte_z.shape"
   ]
  },
  {
   "cell_type": "code",
   "execution_count": 259,
   "metadata": {},
   "outputs": [
    {
     "data": {
      "text/plain": [
       "Index(['日期', 'eNodeB ID', 'Cell ID', 'Cell Name', '低于-110采样点数', '总采样点数',\n",
       "       'MR覆盖率'],\n",
       "      dtype='object')"
      ]
     },
     "execution_count": 259,
     "metadata": {},
     "output_type": "execute_result"
    }
   ],
   "source": [
    "data_zte_z.columns"
   ]
  },
  {
   "cell_type": "code",
   "execution_count": 260,
   "metadata": {},
   "outputs": [],
   "source": [
    "data_zte_z_x=data_zte_z.sort_values('总采样点数',ascending=False)"
   ]
  },
  {
   "cell_type": "code",
   "execution_count": 261,
   "metadata": {},
   "outputs": [],
   "source": [
    "data_zte_z_x.drop_duplicates('Cell Name',inplace = True)"
   ]
  },
  {
   "cell_type": "code",
   "execution_count": 262,
   "metadata": {},
   "outputs": [],
   "source": [
    "gongcan_xiaoqu_name=gongcan.drop_duplicates('小区中文名')"
   ]
  },
  {
   "cell_type": "code",
   "execution_count": 263,
   "metadata": {},
   "outputs": [],
   "source": [
    "gongcan_xiaoqu_name = gongcan_xiaoqu_name.set_index('小区中文名')"
   ]
  },
  {
   "cell_type": "code",
   "execution_count": 264,
   "metadata": {},
   "outputs": [],
   "source": [
    "data_zte_z_xiaoqu_name = data_zte_z_x.set_index('Cell Name')"
   ]
  },
  {
   "cell_type": "code",
   "execution_count": 265,
   "metadata": {},
   "outputs": [],
   "source": [
    "data_zte_z_xiaoqu_name['cgi'] = \"\""
   ]
  },
  {
   "cell_type": "code",
   "execution_count": 266,
   "metadata": {},
   "outputs": [
    {
     "data": {
      "text/plain": [
       "Index(['日期', 'eNodeB ID', 'Cell ID', '低于-110采样点数', '总采样点数', 'MR覆盖率', 'cgi'], dtype='object')"
      ]
     },
     "execution_count": 266,
     "metadata": {},
     "output_type": "execute_result"
    }
   ],
   "source": [
    "data_zte_z_xiaoqu_name.columns"
   ]
  },
  {
   "cell_type": "code",
   "execution_count": 267,
   "metadata": {},
   "outputs": [],
   "source": [
    "gongcan_xiaoqu_name.columns = ['cgi', '网络制式(TDD/FDD)', 'TDL规划站号(新)', '所属地区', '工程参数标识', '区县代码',\n",
    "       '基站编码', 'VIP基站', '入网工程期', 'ATU网格', 'RRU经度', 'RRU纬度', '天线挂高', '地面海拔',\n",
    "       '入网时间', '2G共址站名', '与FDD1800共址的FDD900站名', '站址归属单位', '覆盖类型', '覆盖类别',\n",
    "       '覆盖场景', '覆盖场景细化', '二级覆盖场景', '二级覆盖场景细化', '场景名称', 'VOLTE场景', '方位角',\n",
    "       '机械下倾角', '电子下倾角', '是否电调天线', '电下倾天线类型', '天线厂家', ' 工作频段', '设备型号',\n",
    "       '设备类型(大类)', '分布式或一体化', '小区所属空间资源', '基站所属空间资源', 'eNodeB软件版本', '所属OMC',\n",
    "       '归属区县', '厂家名称', '物理站名', '集中开站所在环节', '集中开站工单号', '姿态仪测量', '姿态仪测量时间',\n",
    "       '所属eNodeB名称', '采集经度', '采集纬度', 'RRU数量', 'TAC', 'PCI', '中心载频的信道号', '频段指示',\n",
    "       '空口上下行业务字节数KByte', '统计分类', '集中工参工单号', '开站流程类型']"
   ]
  },
  {
   "cell_type": "code",
   "execution_count": 268,
   "metadata": {
    "scrolled": false
   },
   "outputs": [],
   "source": [
    "data_zte_z_xiaoqu_name['cgi'].update(gongcan_xiaoqu_name['cgi'])"
   ]
  },
  {
   "cell_type": "code",
   "execution_count": 269,
   "metadata": {},
   "outputs": [],
   "source": [
    "data_zte_z_xiaoqu_name.to_csv('中兴摸底.csv',encoding = 'gbk')"
   ]
  },
  {
   "cell_type": "code",
   "execution_count": 270,
   "metadata": {},
   "outputs": [],
   "source": [
    "data_zte_huawei.to_csv('华为摸底.csv',encoding = 'gbk')"
   ]
  },
  {
   "cell_type": "code",
   "execution_count": 271,
   "metadata": {},
   "outputs": [],
   "source": [
    "data_zte_z_xiaoqu_name = pd.read_csv(open('中兴摸底.csv',encoding = 'gbk'))"
   ]
  },
  {
   "cell_type": "code",
   "execution_count": 272,
   "metadata": {},
   "outputs": [],
   "source": [
    "data_zte_huawei = pd.read_csv(open('华为摸底.csv',encoding = 'gbk'))"
   ]
  },
  {
   "cell_type": "code",
   "execution_count": 273,
   "metadata": {},
   "outputs": [
    {
     "data": {
      "text/html": [
       "<div>\n",
       "<style scoped>\n",
       "    .dataframe tbody tr th:only-of-type {\n",
       "        vertical-align: middle;\n",
       "    }\n",
       "\n",
       "    .dataframe tbody tr th {\n",
       "        vertical-align: top;\n",
       "    }\n",
       "\n",
       "    .dataframe thead th {\n",
       "        text-align: right;\n",
       "    }\n",
       "</style>\n",
       "<table border=\"1\" class=\"dataframe\">\n",
       "  <thead>\n",
       "    <tr style=\"text-align: right;\">\n",
       "      <th></th>\n",
       "      <th>Cell Name</th>\n",
       "      <th>日期</th>\n",
       "      <th>eNodeB ID</th>\n",
       "      <th>Cell ID</th>\n",
       "      <th>低于-110采样点数</th>\n",
       "      <th>总采样点数</th>\n",
       "      <th>MR覆盖率</th>\n",
       "      <th>cgi</th>\n",
       "    </tr>\n",
       "  </thead>\n",
       "  <tbody>\n",
       "    <tr>\n",
       "      <th>0</th>\n",
       "      <td>D建五公司-ZLH-4</td>\n",
       "      <td>43734</td>\n",
       "      <td>440891</td>\n",
       "      <td>4</td>\n",
       "      <td>216948</td>\n",
       "      <td>4902650</td>\n",
       "      <td>0.955749</td>\n",
       "      <td>460-00-440891-4</td>\n",
       "    </tr>\n",
       "  </tbody>\n",
       "</table>\n",
       "</div>"
      ],
      "text/plain": [
       "     Cell Name     日期  eNodeB ID  Cell ID  低于-110采样点数    总采样点数     MR覆盖率  \\\n",
       "0  D建五公司-ZLH-4  43734     440891        4      216948  4902650  0.955749   \n",
       "\n",
       "               cgi  \n",
       "0  460-00-440891-4  "
      ]
     },
     "execution_count": 273,
     "metadata": {},
     "output_type": "execute_result"
    }
   ],
   "source": [
    "data_zte_z_xiaoqu_name.head(1)"
   ]
  },
  {
   "cell_type": "code",
   "execution_count": 274,
   "metadata": {
    "scrolled": true
   },
   "outputs": [
    {
     "data": {
      "text/html": [
       "<div>\n",
       "<style scoped>\n",
       "    .dataframe tbody tr th:only-of-type {\n",
       "        vertical-align: middle;\n",
       "    }\n",
       "\n",
       "    .dataframe tbody tr th {\n",
       "        vertical-align: top;\n",
       "    }\n",
       "\n",
       "    .dataframe thead th {\n",
       "        text-align: right;\n",
       "    }\n",
       "</style>\n",
       "<table border=\"1\" class=\"dataframe\">\n",
       "  <thead>\n",
       "    <tr style=\"text-align: right;\">\n",
       "      <th></th>\n",
       "      <th>Unnamed: 0</th>\n",
       "      <th>地市</th>\n",
       "      <th>归属区县</th>\n",
       "      <th>CGI</th>\n",
       "      <th>Enodeb中文名称</th>\n",
       "      <th>总采样点数</th>\n",
       "      <th>RSRP&gt;=-110</th>\n",
       "      <th>覆盖率</th>\n",
       "    </tr>\n",
       "  </thead>\n",
       "  <tbody>\n",
       "    <tr>\n",
       "      <th>0</th>\n",
       "      <td>0</td>\n",
       "      <td>鄂州</td>\n",
       "      <td>鄂州市</td>\n",
       "      <td>460-00-49635-2</td>\n",
       "      <td>武九铁路鄂州熊笃湾-HLR</td>\n",
       "      <td>52012.0</td>\n",
       "      <td>44669</td>\n",
       "      <td>85.88%</td>\n",
       "    </tr>\n",
       "  </tbody>\n",
       "</table>\n",
       "</div>"
      ],
      "text/plain": [
       "   Unnamed: 0  地市 归属区县             CGI     Enodeb中文名称    总采样点数  RSRP>=-110  \\\n",
       "0           0  鄂州  鄂州市  460-00-49635-2  武九铁路鄂州熊笃湾-HLR  52012.0       44669   \n",
       "\n",
       "      覆盖率  \n",
       "0  85.88%  "
      ]
     },
     "execution_count": 274,
     "metadata": {},
     "output_type": "execute_result"
    }
   ],
   "source": [
    "data_zte_huawei.head(1)"
   ]
  },
  {
   "cell_type": "code",
   "execution_count": 275,
   "metadata": {},
   "outputs": [],
   "source": [
    "data_zte_huawei['弱采样点']=data_zte_huawei['总采样点数']-data_zte_huawei['RSRP>=-110']"
   ]
  },
  {
   "cell_type": "code",
   "execution_count": 276,
   "metadata": {},
   "outputs": [],
   "source": [
    "data_zte_huawei.columns =['Unnamed: 0', '地市', '归属区县', 'cgi', 'Enodeb中文名称', '总采样点数', 'RSRP>=-110',\n",
    "       '覆盖率', '弱采样点']"
   ]
  },
  {
   "cell_type": "code",
   "execution_count": 277,
   "metadata": {},
   "outputs": [],
   "source": [
    "data_zte_huawei = data_zte_huawei[[ 'cgi', '总采样点数', '弱采样点','覆盖率' ]]"
   ]
  },
  {
   "cell_type": "code",
   "execution_count": 278,
   "metadata": {},
   "outputs": [],
   "source": [
    "data_zte_z_xiaoqu_name.columns=['Cell Name', '日期', 'eNodeB ID', 'Cell ID', '弱采样点', '总采样点数',\n",
    "       '覆盖率', 'cgi']"
   ]
  },
  {
   "cell_type": "code",
   "execution_count": 279,
   "metadata": {},
   "outputs": [],
   "source": [
    "data_zte_z_xiaoqu_name=data_zte_z_xiaoqu_name[['cgi', '总采样点数', '弱采样点','覆盖率' ]]"
   ]
  },
  {
   "cell_type": "code",
   "execution_count": 300,
   "metadata": {},
   "outputs": [],
   "source": [
    "modi_zongji = pd.concat([data_zte_huawei,data_zte_z_xiaoqu_name])"
   ]
  },
  {
   "cell_type": "code",
   "execution_count": 301,
   "metadata": {},
   "outputs": [],
   "source": [
    "modi_zongji.to_csv('摸底数据-总.csv',encoding = 'gbk',index = False)"
   ]
  },
  {
   "cell_type": "code",
   "execution_count": 302,
   "metadata": {},
   "outputs": [
    {
     "name": "stderr",
     "output_type": "stream",
     "text": [
      "C:\\ProgramData\\Anaconda3\\lib\\site-packages\\IPython\\core\\interactiveshell.py:2714: DtypeWarning: Columns (3) have mixed types. Specify dtype option on import or set low_memory=False.\n",
      "  interactivity=interactivity, compiler=compiler, result=result)\n"
     ]
    }
   ],
   "source": [
    "modi_zongji = pd.read_csv(open('摸底数据-总.csv',encoding = 'gbk'))"
   ]
  },
  {
   "cell_type": "code",
   "execution_count": 303,
   "metadata": {
    "scrolled": true
   },
   "outputs": [
    {
     "data": {
      "text/plain": [
       "cgi       object\n",
       "总采样点数    float64\n",
       "弱采样点     float64\n",
       "覆盖率       object\n",
       "dtype: object"
      ]
     },
     "execution_count": 303,
     "metadata": {},
     "output_type": "execute_result"
    }
   ],
   "source": [
    "modi_zongji.dtypes"
   ]
  },
  {
   "cell_type": "code",
   "execution_count": 304,
   "metadata": {},
   "outputs": [
    {
     "data": {
      "text/plain": [
       "Index(['小区CGI(*)', '小区中文名', '网络制式(TDD/FDD)', 'TDL规划站号(新)', '所属地区', '工程参数标识',\n",
       "       '区县代码', '基站编码', 'VIP基站', '入网工程期', 'ATU网格', 'RRU经度', 'RRU纬度', '天线挂高',\n",
       "       '地面海拔', '入网时间', '2G共址站名', '与FDD1800共址的FDD900站名', '站址归属单位', '覆盖类型',\n",
       "       '覆盖类别', '覆盖场景', '覆盖场景细化', '二级覆盖场景', '二级覆盖场景细化', '场景名称', 'VOLTE场景',\n",
       "       '方位角', '机械下倾角', '电子下倾角', '是否电调天线', '电下倾天线类型', '天线厂家', ' 工作频段', '设备型号',\n",
       "       '设备类型(大类)', '分布式或一体化', '小区所属空间资源', '基站所属空间资源', 'eNodeB软件版本', '所属OMC',\n",
       "       '归属区县', '厂家名称', '物理站名', '集中开站所在环节', '集中开站工单号', '姿态仪测量', '姿态仪测量时间',\n",
       "       '所属eNodeB名称', '采集经度', '采集纬度', 'RRU数量', 'TAC', 'PCI', '中心载频的信道号', '频段指示',\n",
       "       '空口上下行业务字节数KByte', '统计分类', '集中工参工单号', '开站流程类型'],\n",
       "      dtype='object')"
      ]
     },
     "execution_count": 304,
     "metadata": {},
     "output_type": "execute_result"
    }
   ],
   "source": [
    "gongcan.columns"
   ]
  },
  {
   "cell_type": "code",
   "execution_count": 305,
   "metadata": {},
   "outputs": [],
   "source": [
    "modi_zongji['所属地区']=\"\"\n",
    "modi_zongji['厂家名称']=\"\"\n",
    "modi_zongji['atu']=\"\""
   ]
  },
  {
   "cell_type": "code",
   "execution_count": 306,
   "metadata": {},
   "outputs": [],
   "source": [
    "modi_zongji_cgi = modi_zongji.set_index('cgi',inplace=True)"
   ]
  },
  {
   "cell_type": "code",
   "execution_count": 307,
   "metadata": {},
   "outputs": [],
   "source": [
    "gongcan_cgi = gongcan.set_index('小区CGI(*)')"
   ]
  },
  {
   "cell_type": "code",
   "execution_count": 308,
   "metadata": {},
   "outputs": [],
   "source": [
    "modi_zongji['所属地区'].update(gongcan_cgi['所属地区'])\n",
    "modi_zongji['厂家名称'].update(gongcan_cgi['厂家名称'])"
   ]
  },
  {
   "cell_type": "code",
   "execution_count": 309,
   "metadata": {},
   "outputs": [],
   "source": [
    "modi_zongji.reset_index(inplace=True)"
   ]
  },
  {
   "cell_type": "code",
   "execution_count": 310,
   "metadata": {},
   "outputs": [
    {
     "data": {
      "text/plain": [
       "(152944, 7)"
      ]
     },
     "execution_count": 310,
     "metadata": {},
     "output_type": "execute_result"
    }
   ],
   "source": [
    "#摸底数据总计-添加地市和厂家\n",
    "modi_zongji.shape"
   ]
  },
  {
   "cell_type": "code",
   "execution_count": 311,
   "metadata": {},
   "outputs": [],
   "source": [
    "modi_zongji.to_csv('G:/1-规划/MRO/摸底测试相关/2019年/10月/华为中兴提供/摸底数据汇总.csv',encoding = 'gbk',index=False)"
   ]
  },
  {
   "cell_type": "code",
   "execution_count": 312,
   "metadata": {
    "scrolled": true
   },
   "outputs": [
    {
     "name": "stderr",
     "output_type": "stream",
     "text": [
      "C:\\ProgramData\\Anaconda3\\lib\\site-packages\\IPython\\core\\interactiveshell.py:2714: DtypeWarning: Columns (3) have mixed types. Specify dtype option on import or set low_memory=False.\n",
      "  interactivity=interactivity, compiler=compiler, result=result)\n"
     ]
    }
   ],
   "source": [
    "modi_zongji = pd.read_csv(open('G:/1-规划/MRO/摸底测试相关/2019年/10月/华为中兴提供/摸底数据汇总.csv',encoding = 'gbk'))"
   ]
  },
  {
   "cell_type": "code",
   "execution_count": 313,
   "metadata": {},
   "outputs": [
    {
     "data": {
      "text/plain": [
       "(152944, 7)"
      ]
     },
     "execution_count": 313,
     "metadata": {},
     "output_type": "execute_result"
    }
   ],
   "source": [
    "modi_zongji.shape"
   ]
  },
  {
   "cell_type": "code",
   "execution_count": 314,
   "metadata": {
    "scrolled": false
   },
   "outputs": [
    {
     "data": {
      "text/html": [
       "<div>\n",
       "<style scoped>\n",
       "    .dataframe tbody tr th:only-of-type {\n",
       "        vertical-align: middle;\n",
       "    }\n",
       "\n",
       "    .dataframe tbody tr th {\n",
       "        vertical-align: top;\n",
       "    }\n",
       "\n",
       "    .dataframe thead th {\n",
       "        text-align: right;\n",
       "    }\n",
       "</style>\n",
       "<table border=\"1\" class=\"dataframe\">\n",
       "  <thead>\n",
       "    <tr style=\"text-align: right;\">\n",
       "      <th></th>\n",
       "      <th>cgi</th>\n",
       "      <th>总采样点数</th>\n",
       "      <th>弱采样点</th>\n",
       "      <th>覆盖率</th>\n",
       "      <th>所属地区</th>\n",
       "      <th>厂家名称</th>\n",
       "      <th>atu</th>\n",
       "    </tr>\n",
       "  </thead>\n",
       "  <tbody>\n",
       "    <tr>\n",
       "      <th>0</th>\n",
       "      <td>460-00-49635-2</td>\n",
       "      <td>52012.0</td>\n",
       "      <td>7343.0</td>\n",
       "      <td>85.88%</td>\n",
       "      <td>鄂州</td>\n",
       "      <td>华为</td>\n",
       "      <td>NaN</td>\n",
       "    </tr>\n",
       "  </tbody>\n",
       "</table>\n",
       "</div>"
      ],
      "text/plain": [
       "              cgi    总采样点数    弱采样点     覆盖率 所属地区 厂家名称  atu\n",
       "0  460-00-49635-2  52012.0  7343.0  85.88%   鄂州   华为  NaN"
      ]
     },
     "execution_count": 314,
     "metadata": {},
     "output_type": "execute_result"
    }
   ],
   "source": [
    "modi_zongji.head(1)"
   ]
  },
  {
   "cell_type": "code",
   "execution_count": 315,
   "metadata": {},
   "outputs": [],
   "source": [
    "def aggfunc(df):\n",
    "    count1 = df['cgi'].count()\n",
    "    sum1 = df['总采样点数'].sum()\n",
    "    sum2 = df['弱采样点'].sum()\n",
    "    ser = pd.Series([count1,sum1, sum2, 1-sum2/sum1])\n",
    "    return ser"
   ]
  },
  {
   "cell_type": "code",
   "execution_count": 316,
   "metadata": {
    "scrolled": true
   },
   "outputs": [
    {
     "name": "stderr",
     "output_type": "stream",
     "text": [
      "C:\\ProgramData\\Anaconda3\\lib\\site-packages\\ipykernel_launcher.py:5: RuntimeWarning: invalid value encountered in double_scalars\n",
      "  \"\"\"\n"
     ]
    }
   ],
   "source": [
    "aa =modi_zongji.groupby(by = '厂家名称').apply(aggfunc)"
   ]
  },
  {
   "cell_type": "code",
   "execution_count": 317,
   "metadata": {},
   "outputs": [],
   "source": [
    "aa.reset_index(inplace = True)"
   ]
  },
  {
   "cell_type": "code",
   "execution_count": null,
   "metadata": {},
   "outputs": [],
   "source": []
  },
  {
   "cell_type": "code",
   "execution_count": 318,
   "metadata": {},
   "outputs": [],
   "source": [
    "aa.columns = ['厂家名称','小区数', '总采样点数', '弱采样点', 'fgl']"
   ]
  },
  {
   "cell_type": "code",
   "execution_count": null,
   "metadata": {
    "scrolled": true
   },
   "outputs": [],
   "source": [
    "aa.loc[aa['所属地区']=='武汉'].to_clipboard()"
   ]
  },
  {
   "cell_type": "code",
   "execution_count": null,
   "metadata": {},
   "outputs": [],
   "source": [
    "aa.to_clipboard()"
   ]
  },
  {
   "cell_type": "code",
   "execution_count": 320,
   "metadata": {},
   "outputs": [
    {
     "data": {
      "text/html": [
       "<div>\n",
       "<style scoped>\n",
       "    .dataframe tbody tr th:only-of-type {\n",
       "        vertical-align: middle;\n",
       "    }\n",
       "\n",
       "    .dataframe tbody tr th {\n",
       "        vertical-align: top;\n",
       "    }\n",
       "\n",
       "    .dataframe thead th {\n",
       "        text-align: right;\n",
       "    }\n",
       "</style>\n",
       "<table border=\"1\" class=\"dataframe\">\n",
       "  <thead>\n",
       "    <tr style=\"text-align: right;\">\n",
       "      <th></th>\n",
       "      <th>厂家名称</th>\n",
       "      <th>小区数</th>\n",
       "      <th>总采样点数</th>\n",
       "      <th>弱采样点</th>\n",
       "      <th>fgl</th>\n",
       "    </tr>\n",
       "  </thead>\n",
       "  <tbody>\n",
       "    <tr>\n",
       "      <th>0</th>\n",
       "      <td>中兴</td>\n",
       "      <td>45011.0</td>\n",
       "      <td>8.668669e+09</td>\n",
       "      <td>313236039.0</td>\n",
       "      <td>0.963866</td>\n",
       "    </tr>\n",
       "    <tr>\n",
       "      <th>1</th>\n",
       "      <td>华为</td>\n",
       "      <td>106305.0</td>\n",
       "      <td>3.317747e+09</td>\n",
       "      <td>137955980.0</td>\n",
       "      <td>0.958419</td>\n",
       "    </tr>\n",
       "    <tr>\n",
       "      <th>2</th>\n",
       "      <td>无</td>\n",
       "      <td>9.0</td>\n",
       "      <td>0.000000e+00</td>\n",
       "      <td>0.0</td>\n",
       "      <td>NaN</td>\n",
       "    </tr>\n",
       "  </tbody>\n",
       "</table>\n",
       "</div>"
      ],
      "text/plain": [
       "  厂家名称       小区数         总采样点数         弱采样点       fgl\n",
       "0   中兴   45011.0  8.668669e+09  313236039.0  0.963866\n",
       "1   华为  106305.0  3.317747e+09  137955980.0  0.958419\n",
       "2    无       9.0  0.000000e+00          0.0       NaN"
      ]
     },
     "execution_count": 320,
     "metadata": {},
     "output_type": "execute_result"
    }
   ],
   "source": [
    "aa"
   ]
  },
  {
   "cell_type": "code",
   "execution_count": null,
   "metadata": {},
   "outputs": [],
   "source": []
  },
  {
   "cell_type": "code",
   "execution_count": null,
   "metadata": {},
   "outputs": [],
   "source": []
  }
 ],
 "metadata": {
  "kernelspec": {
   "display_name": "Python 3",
   "language": "python",
   "name": "python3"
  },
  "language_info": {
   "codemirror_mode": {
    "name": "ipython",
    "version": 3
   },
   "file_extension": ".py",
   "mimetype": "text/x-python",
   "name": "python",
   "nbconvert_exporter": "python",
   "pygments_lexer": "ipython3",
   "version": "3.7.3"
  }
 },
 "nbformat": 4,
 "nbformat_minor": 2
}
