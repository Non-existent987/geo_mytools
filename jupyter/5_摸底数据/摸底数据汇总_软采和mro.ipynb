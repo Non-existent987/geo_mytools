{
 "cells": [
  {
   "cell_type": "code",
   "execution_count": null,
   "metadata": {},
   "outputs": [],
   "source": [
    "import mytools\n",
    "import pandas as pd\n",
    "import geopandas as gpd"
   ]
  },
  {
   "cell_type": "code",
   "execution_count": null,
   "metadata": {},
   "outputs": [],
   "source": [
    "gongcan_path='G:/1-规划/工参/工参数据/ltejizhan20200212.csv'\n",
    "gongcan=pd.read_csv(open(gongcan_path,encoding='gbk'))\n",
    "gongcan_use = gongcan[['小区CGI(*)', '小区中文名', '网络制式(TDD/FDD)', '所属地区',  'RRU经度', 'RRU纬度',\n",
    "                       '覆盖类别', '归属区县', '厂家名称']]\n",
    "\n",
    "atu=gpd.read_file('G:/1-规划/图层/ATU测试区域/ATU网格总.TAB',encoding='gbk')\n",
    "\n",
    "atu['atu']=1\n",
    "\n",
    "gongcan_use_p = mytools.gisn.add_points(gongcan_use,'RRU经度', 'RRU纬度')\n",
    "\n",
    "res = gpd.sjoin(gongcan_use_p,atu)\n",
    "\n",
    "res1= res[['小区CGI(*)', 'RRU经度', 'RRU纬度', 'atu']]\n",
    "\n",
    "res1.to_csv('G:/1-规划/图层/ATU测试区域/ATU圈出的小区.csv',encoding='gbk')"
   ]
  },
  {
   "cell_type": "code",
   "execution_count": null,
   "metadata": {},
   "outputs": [],
   "source": [
    "gongcan_use_2 = mytools.gisn.points_coverage_merge(gongcan_use, 'RRU经度', 'RRU纬度',coverage=atu,\n",
    "                                   df_merge_coverage_columns=['atu'],\n",
    "                                  merge_only_right_mark='0')"
   ]
  },
  {
   "cell_type": "code",
   "execution_count": null,
   "metadata": {},
   "outputs": [],
   "source": [
    "gongcan_use_2"
   ]
  },
  {
   "cell_type": "code",
   "execution_count": null,
   "metadata": {},
   "outputs": [],
   "source": []
  },
  {
   "cell_type": "code",
   "execution_count": null,
   "metadata": {},
   "outputs": [],
   "source": []
  },
  {
   "cell_type": "code",
   "execution_count": null,
   "metadata": {},
   "outputs": [],
   "source": [
    "f = mytools.othern.file_name_paths('G:/1-规划/MRO/1、原始数据/摸底测试相关/2019年/12月/软采/轮询的小区/')"
   ]
  },
  {
   "cell_type": "code",
   "execution_count": null,
   "metadata": {
    "scrolled": true
   },
   "outputs": [],
   "source": [
    "data = pd.DataFrame()\n",
    "for name in f:\n",
    "    data_t = pd.read_csv(open(name,encoding='utf-8'),sep='\\t')\n",
    "    data = data.append(data_t)"
   ]
  },
  {
   "cell_type": "code",
   "execution_count": null,
   "metadata": {
    "scrolled": false
   },
   "outputs": [],
   "source": [
    "data.columns"
   ]
  },
  {
   "cell_type": "code",
   "execution_count": null,
   "metadata": {},
   "outputs": [],
   "source": [
    "#最新的小区"
   ]
  },
  {
   "cell_type": "code",
   "execution_count": null,
   "metadata": {},
   "outputs": [],
   "source": [
    "data_new = data[['day','eutrancell_cgi', 'rsrp_sample_count', 'rsrp_weak']].sort_values(\n",
    "    'day',ascending=False).drop_duplicates('eutrancell_cgi').reset_index(drop=True)"
   ]
  },
  {
   "cell_type": "code",
   "execution_count": null,
   "metadata": {},
   "outputs": [],
   "source": [
    "data_new.to_clipboard()"
   ]
  },
  {
   "cell_type": "code",
   "execution_count": null,
   "metadata": {},
   "outputs": [],
   "source": [
    "#求累计的"
   ]
  },
  {
   "cell_type": "code",
   "execution_count": null,
   "metadata": {},
   "outputs": [],
   "source": [
    "data_sum = data[['eutrancell_cgi', 'rsrp_sample_count', 'rsrp_weak']].groupby('eutrancell_cgi').sum()"
   ]
  },
  {
   "cell_type": "code",
   "execution_count": null,
   "metadata": {},
   "outputs": [],
   "source": [
    "data_sum.to_clipboard()"
   ]
  },
  {
   "cell_type": "code",
   "execution_count": null,
   "metadata": {},
   "outputs": [],
   "source": [
    "#求采样点最多的"
   ]
  },
  {
   "cell_type": "code",
   "execution_count": null,
   "metadata": {},
   "outputs": [],
   "source": [
    "data_use = data.sort_values('rsrp_sample_count',ascending=False).drop_duplicates('eutrancell_cgi').reset_index(drop=True)"
   ]
  },
  {
   "cell_type": "code",
   "execution_count": null,
   "metadata": {},
   "outputs": [],
   "source": [
    "data_use_v2 = data_use[['day', 'region_name', 'eutrancell_cgi', 'eutrancell_name','rsrp_sample_count', 'rsrp_weak']]"
   ]
  },
  {
   "cell_type": "code",
   "execution_count": null,
   "metadata": {},
   "outputs": [],
   "source": [
    "data_use_v2.to_clipboard()"
   ]
  },
  {
   "cell_type": "code",
   "execution_count": null,
   "metadata": {},
   "outputs": [],
   "source": []
  },
  {
   "cell_type": "code",
   "execution_count": null,
   "metadata": {},
   "outputs": [],
   "source": [
    "#最新的小区"
   ]
  },
  {
   "cell_type": "code",
   "execution_count": null,
   "metadata": {},
   "outputs": [],
   "source": [
    "data_new = data[['day','eutrancell_cgi', 'rsrp_sample_count', 'rsrp_weak']]"
   ]
  },
  {
   "cell_type": "code",
   "execution_count": null,
   "metadata": {},
   "outputs": [],
   "source": [
    "data_new['fgl']=1-data_new['rsrp_weak']/data_new['rsrp_sample_count']"
   ]
  },
  {
   "cell_type": "code",
   "execution_count": null,
   "metadata": {},
   "outputs": [],
   "source": [
    "data_new_use = data_new.loc[data_new['fgl']<0.9]"
   ]
  },
  {
   "cell_type": "code",
   "execution_count": null,
   "metadata": {},
   "outputs": [],
   "source": [
    "res = data_new_use.sort_values('day',ascending=False).drop_duplicates('eutrancell_cgi').reset_index(drop=True)"
   ]
  },
  {
   "cell_type": "code",
   "execution_count": null,
   "metadata": {},
   "outputs": [],
   "source": [
    "res.to_clipboard()"
   ]
  },
  {
   "cell_type": "code",
   "execution_count": null,
   "metadata": {},
   "outputs": [],
   "source": []
  }
 ],
 "metadata": {
  "kernelspec": {
   "display_name": "Python 3",
   "language": "python",
   "name": "python3"
  },
  "language_info": {
   "codemirror_mode": {
    "name": "ipython",
    "version": 3
   },
   "file_extension": ".py",
   "mimetype": "text/x-python",
   "name": "python",
   "nbconvert_exporter": "python",
   "pygments_lexer": "ipython3",
   "version": "3.7.3"
  }
 },
 "nbformat": 4,
 "nbformat_minor": 2
}
