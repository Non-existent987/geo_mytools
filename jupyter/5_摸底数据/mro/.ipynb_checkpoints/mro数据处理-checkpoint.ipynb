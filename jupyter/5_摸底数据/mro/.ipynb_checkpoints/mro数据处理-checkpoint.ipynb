{
 "cells": [
  {
   "cell_type": "code",
   "execution_count": 55,
   "metadata": {},
   "outputs": [],
   "source": [
    "import pandas as pd\n",
    "import mytools\n",
    "import numpy as np"
   ]
  },
  {
   "cell_type": "markdown",
   "metadata": {},
   "source": [
    "# --------------监控mro数据采集情况--------------"
   ]
  },
  {
   "cell_type": "markdown",
   "metadata": {},
   "source": [
    "### 导入基站数据库 "
   ]
  },
  {
   "cell_type": "code",
   "execution_count": 56,
   "metadata": {},
   "outputs": [],
   "source": [
    "gongcan_path='G:/1-规划/工参/工参数据/ltejizhan20200116.csv'"
   ]
  },
  {
   "cell_type": "code",
   "execution_count": 57,
   "metadata": {},
   "outputs": [],
   "source": [
    "gongcan=pd.read_csv(open(gongcan_path,encoding='gbk'))"
   ]
  },
  {
   "cell_type": "code",
   "execution_count": 58,
   "metadata": {},
   "outputs": [],
   "source": [
    "gongcan_use = gongcan[['小区CGI(*)', '小区中文名', '网络制式(TDD/FDD)', '所属地区',  'ATU网格', 'RRU经度', 'RRU纬度',\n",
    "                       '覆盖类别', ' 工作频段','归属区县', '厂家名称']]"
   ]
  },
  {
   "cell_type": "markdown",
   "metadata": {},
   "source": [
    "### 导入mro数据并处理 "
   ]
  },
  {
   "cell_type": "code",
   "execution_count": 59,
   "metadata": {},
   "outputs": [],
   "source": [
    "f = mytools.othern.file_name_paths('G:/1-规划/MRO/2.日常mro/需监控的mro文件')"
   ]
  },
  {
   "cell_type": "code",
   "execution_count": 60,
   "metadata": {},
   "outputs": [],
   "source": [
    "day,enodeb,eci,rsrp_count,rsrp_weak,un_count,un_weak,te_count,te_weak=['starttime', 'enbid', 'eci', 'rsrp_count_cmcc', 'rsrp_weak_cmcc',\n",
    "                     'rsrp_count_chun', 'rsrp_weak_chun_113', 'rsrp_count_chte', 'rsrp_weak_chte_113']\n",
    "cgi,city=['cgi','city']"
   ]
  },
  {
   "cell_type": "code",
   "execution_count": null,
   "metadata": {
    "scrolled": false
   },
   "outputs": [],
   "source": [
    "mro_changjia = pd.DataFrame()\n",
    "mro_city = pd.DataFrame()\n",
    "for name in f:\n",
    "    #数据整理\n",
    "    data_t = pd.read_csv(open(name,encoding='utf-8'))\n",
    "    data_t_use = data_t[[day,enodeb,eci,rsrp_count,rsrp_weak,un_count,un_weak,te_count,te_weak]]\n",
    "    data_t_use[cgi]=data_t_use[eci].apply(lambda x:'460-00-{enodeb}-{id}'.format(enodeb=int(x/256),id=x%256))\n",
    "    day_use=data_t_use[day][0]\n",
    "    data_t_use_merge=gongcan.merge(data_t_use,how='left',left_on='小区CGI(*)',right_on=cgi,indicator=True)\n",
    "    #结果计算\n",
    "    res_changjia=data_t_use_merge.groupby(['厂家名称']).agg({'小区CGI(*)':'count',cgi:'count'})\n",
    "    res_city=data_t_use_merge.groupby(['所属地区']).agg({'小区CGI(*)':'count',cgi:'count'})\n",
    "    \n",
    "    res_changjia.columns = ['小区总计','采集小区']\n",
    "    res_city.columns = ['小区总计','采集小区']\n",
    "    \n",
    "    res_changjia['采集率']=res_changjia['采集小区']/res_changjia['小区总计']\n",
    "    res_city['采集率']=res_city['采集小区']/res_city['小区总计']\n",
    "    \n",
    "    res_changjia=mytools.othern.df_sort(res_changjia,columns=['采集率'],sort_columns='采集率',ascending=False).reset_index()\n",
    "    res_city=mytools.othern.df_sort(res_city,columns=['采集率'],sort_columns='采集率',ascending=False).reset_index()\n",
    "    \n",
    "    res_changjia['day']=str(day_use)\n",
    "    res_city['day']=str(day_use)\n",
    "    \n",
    "    \n",
    "    res_changjia = res_changjia[['day','厂家名称', '小区总计', '采集小区', '采集率']]\n",
    "    res_city = res_city[[ 'day','所属地区', '小区总计', '采集小区', '采集率']]\n",
    "    \n",
    "    mro_changjia = mro_changjia.append(res_changjia)\n",
    "    mro_city = mro_city.append(res_city)\n",
    "    print(data_t[day][0],data_t.shape)"
   ]
  },
  {
   "cell_type": "code",
   "execution_count": 64,
   "metadata": {},
   "outputs": [],
   "source": [
    "with pd.ExcelWriter('G:/1-规划/MRO/2.日常mro/跟踪表.xlsx') as writer:\n",
    "    mro_changjia.to_excel(writer,encoding='gbk',index=False,sheet_name='厂家监控')\n",
    "    mro_city.to_excel(writer,encoding='gbk',index=False,sheet_name='地市监控')\n",
    "writer.save()"
   ]
  }
 ],
 "metadata": {
  "kernelspec": {
   "display_name": "Python 3",
   "language": "python",
   "name": "python3"
  },
  "language_info": {
   "codemirror_mode": {
    "name": "ipython",
    "version": 3
   },
   "file_extension": ".py",
   "mimetype": "text/x-python",
   "name": "python",
   "nbconvert_exporter": "python",
   "pygments_lexer": "ipython3",
   "version": "3.7.4"
  }
 },
 "nbformat": 4,
 "nbformat_minor": 2
}
