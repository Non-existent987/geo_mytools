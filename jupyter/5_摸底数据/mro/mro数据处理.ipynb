{
 "cells": [
  {
   "cell_type": "markdown",
   "metadata": {},
   "source": [
    "# 中兴数据汇总剔重"
   ]
  },
  {
   "cell_type": "code",
   "execution_count": 11,
   "metadata": {},
   "outputs": [],
   "source": [
    "f=mytools.othern.file_name_paths('G:/1-规划/MRO/1、原始数据/摸底测试相关/摸底数据至2020年12月/2019年/中兴/')"
   ]
  },
  {
   "cell_type": "code",
   "execution_count": null,
   "metadata": {},
   "outputs": [],
   "source": [
    "data_z = pd.DataFrame()\n",
    "for name in f:\n",
    "    data_t = pd.read_excel(name,encoding='gbk')\n",
    "    data_t_use =  data_t[['地市', '时间', 'eNodeB ID', 'Cell ID', 'Cell Name', '低于-110采样点数', '总采样点数', 'MR覆盖率']]\n",
    "    data_z = data_z.append(data_t_use)\n",
    "    print(data_t.shape,data_z.shape)\n",
    "\n",
    "data_z_use = data_z.drop_duplicates('Cell Name')\n",
    "data_z_use.to_csv('G:/1-规划/MRO/1、原始数据/摸底测试相关/摸底数据至2020年12月/2019年/中兴/汇总/中兴汇总剔重.csv',encoding='gbk')"
   ]
  },
  {
   "cell_type": "markdown",
   "metadata": {},
   "source": [
    "# 软采数据汇总，按照日期排序后剔重"
   ]
  },
  {
   "cell_type": "code",
   "execution_count": 20,
   "metadata": {},
   "outputs": [],
   "source": [
    "f=mytools.othern.file_name_paths('G:/1-规划/MRO/1、原始数据/摸底测试相关/软采数据19年6月-2020年1月/基础数据/')"
   ]
  },
  {
   "cell_type": "code",
   "execution_count": 21,
   "metadata": {},
   "outputs": [
    {
     "name": "stdout",
     "output_type": "stream",
     "text": [
      "共计48个文件目前执G:/1-规划/MRO/1、原始数据/摸底测试相关/软采数据19年6月-2020年1月/基础数据/01010102cgi.csv (55131, 16) (55131, 16)\n",
      "共计48个文件目前执G:/1-规划/MRO/1、原始数据/摸底测试相关/软采数据19年6月-2020年1月/基础数据/01020105cgi.csv (283371, 16) (338502, 16)\n",
      "共计48个文件目前执G:/1-规划/MRO/1、原始数据/摸底测试相关/软采数据19年6月-2020年1月/基础数据/01060107cgi.csv (138848, 16) (477350, 16)\n",
      "共计48个文件目前执G:/1-规划/MRO/1、原始数据/摸底测试相关/软采数据19年6月-2020年1月/基础数据/01080109cgi.csv (132825, 16) (610175, 16)\n",
      "共计48个文件目前执G:/1-规划/MRO/1、原始数据/摸底测试相关/软采数据19年6月-2020年1月/基础数据/01100115cgi.csv (324694, 16) (934869, 16)\n"
     ]
    },
    {
     "name": "stderr",
     "output_type": "stream",
     "text": [
      "C:\\ProgramData\\Anaconda3\\lib\\site-packages\\pandas\\core\\frame.py:7123: FutureWarning: Sorting because non-concatenation axis is not aligned. A future version\n",
      "of pandas will change to not sort by default.\n",
      "\n",
      "To accept the future behavior, pass 'sort=False'.\n",
      "\n",
      "To retain the current behavior and silence the warning, pass 'sort=True'.\n",
      "\n",
      "  sort=sort,\n"
     ]
    },
    {
     "name": "stdout",
     "output_type": "stream",
     "text": [
      "共计48个文件目前执G:/1-规划/MRO/1、原始数据/摸底测试相关/软采数据19年6月-2020年1月/基础数据/0602cgi.csv (15499, 14) (950368, 16)\n",
      "共计48个文件目前执G:/1-规划/MRO/1、原始数据/摸底测试相关/软采数据19年6月-2020年1月/基础数据/0603cgi.csv (20582, 14) (970950, 16)\n",
      "共计48个文件目前执G:/1-规划/MRO/1、原始数据/摸底测试相关/软采数据19年6月-2020年1月/基础数据/0606cgi.csv (26605, 14) (997555, 16)\n",
      "共计48个文件目前执G:/1-规划/MRO/1、原始数据/摸底测试相关/软采数据19年6月-2020年1月/基础数据/0706cgi.csv (60826, 14) (1058381, 16)\n",
      "共计48个文件目前执G:/1-规划/MRO/1、原始数据/摸底测试相关/软采数据19年6月-2020年1月/基础数据/07070714cgi.csv (278922, 16) (1337303, 16)\n",
      "共计48个文件目前执G:/1-规划/MRO/1、原始数据/摸底测试相关/软采数据19年6月-2020年1月/基础数据/07150720cgi.csv (75187, 16) (1412490, 16)\n",
      "共计48个文件目前执G:/1-规划/MRO/1、原始数据/摸底测试相关/软采数据19年6月-2020年1月/基础数据/0722cgi.csv (55764, 15) (1468254, 16)\n",
      "共计48个文件目前执G:/1-规划/MRO/1、原始数据/摸底测试相关/软采数据19年6月-2020年1月/基础数据/07290804cgi.csv (101390, 16) (1569644, 16)\n",
      "共计48个文件目前执G:/1-规划/MRO/1、原始数据/摸底测试相关/软采数据19年6月-2020年1月/基础数据/08050807cgi.csv (77441, 16) (1647085, 16)\n",
      "共计48个文件目前执G:/1-规划/MRO/1、原始数据/摸底测试相关/软采数据19年6月-2020年1月/基础数据/0805cgi.csv (34555, 16) (1681640, 16)\n",
      "共计48个文件目前执G:/1-规划/MRO/1、原始数据/摸底测试相关/软采数据19年6月-2020年1月/基础数据/08100811cgi.csv (90088, 16) (1771728, 16)\n",
      "共计48个文件目前执G:/1-规划/MRO/1、原始数据/摸底测试相关/软采数据19年6月-2020年1月/基础数据/0812cgi.csv (25945, 16) (1797673, 16)\n",
      "共计48个文件目前执G:/1-规划/MRO/1、原始数据/摸底测试相关/软采数据19年6月-2020年1月/基础数据/08140818cgi.csv (102779, 16) (1900452, 16)\n",
      "共计48个文件目前执G:/1-规划/MRO/1、原始数据/摸底测试相关/软采数据19年6月-2020年1月/基础数据/0816cgi.csv (14048, 16) (1914500, 16)\n",
      "共计48个文件目前执G:/1-规划/MRO/1、原始数据/摸底测试相关/软采数据19年6月-2020年1月/基础数据/08190824cgi.csv (118830, 16) (2033330, 16)\n",
      "共计48个文件目前执G:/1-规划/MRO/1、原始数据/摸底测试相关/软采数据19年6月-2020年1月/基础数据/0823cgi.csv (23937, 16) (2057267, 16)\n",
      "共计48个文件目前执G:/1-规划/MRO/1、原始数据/摸底测试相关/软采数据19年6月-2020年1月/基础数据/08280831cgi.csv (112625, 16) (2169892, 16)\n",
      "共计48个文件目前执G:/1-规划/MRO/1、原始数据/摸底测试相关/软采数据19年6月-2020年1月/基础数据/09020904cgi.csv (82952, 16) (2252844, 16)\n",
      "共计48个文件目前执G:/1-规划/MRO/1、原始数据/摸底测试相关/软采数据19年6月-2020年1月/基础数据/09050908cgi.csv (113851, 16) (2366695, 16)\n",
      "共计48个文件目前执G:/1-规划/MRO/1、原始数据/摸底测试相关/软采数据19年6月-2020年1月/基础数据/09110915cgi.csv (73566, 16) (2440261, 16)\n",
      "共计48个文件目前执G:/1-规划/MRO/1、原始数据/摸底测试相关/软采数据19年6月-2020年1月/基础数据/0916cgi.csv (33829, 16) (2474090, 16)\n",
      "共计48个文件目前执G:/1-规划/MRO/1、原始数据/摸底测试相关/软采数据19年6月-2020年1月/基础数据/0918cgi.csv (221236, 16) (2695326, 16)\n",
      "共计48个文件目前执G:/1-规划/MRO/1、原始数据/摸底测试相关/软采数据19年6月-2020年1月/基础数据/0925cgi.csv (131687, 16) (2827013, 16)\n",
      "共计48个文件目前执G:/1-规划/MRO/1、原始数据/摸底测试相关/软采数据19年6月-2020年1月/基础数据/1008cgi.csv (113014, 16) (2940027, 16)\n",
      "共计48个文件目前执G:/1-规划/MRO/1、原始数据/摸底测试相关/软采数据19年6月-2020年1月/基础数据/1009cgi.csv (27996, 16) (2968023, 16)\n",
      "共计48个文件目前执G:/1-规划/MRO/1、原始数据/摸底测试相关/软采数据19年6月-2020年1月/基础数据/1013cgi.csv (60879, 16) (3028902, 16)\n",
      "共计48个文件目前执G:/1-规划/MRO/1、原始数据/摸底测试相关/软采数据19年6月-2020年1月/基础数据/1014cgi.csv (65962, 16) (3094864, 16)\n",
      "共计48个文件目前执G:/1-规划/MRO/1、原始数据/摸底测试相关/软采数据19年6月-2020年1月/基础数据/1029cgi.csv (64544, 16) (3159408, 16)\n",
      "共计48个文件目前执G:/1-规划/MRO/1、原始数据/摸底测试相关/软采数据19年6月-2020年1月/基础数据/110111041105cgi.csv (60640, 16) (3220048, 16)\n",
      "共计48个文件目前执G:/1-规划/MRO/1、原始数据/摸底测试相关/软采数据19年6月-2020年1月/基础数据/11061110cgi.csv (178983, 16) (3399031, 16)\n",
      "共计48个文件目前执G:/1-规划/MRO/1、原始数据/摸底测试相关/软采数据19年6月-2020年1月/基础数据/11111112cgi.csv (91563, 16) (3490594, 16)\n",
      "共计48个文件目前执G:/1-规划/MRO/1、原始数据/摸底测试相关/软采数据19年6月-2020年1月/基础数据/11131116cgi.csv (202850, 16) (3693444, 16)\n",
      "共计48个文件目前执G:/1-规划/MRO/1、原始数据/摸底测试相关/软采数据19年6月-2020年1月/基础数据/11171119cgi.csv (92391, 16) (3785835, 16)\n",
      "共计48个文件目前执G:/1-规划/MRO/1、原始数据/摸底测试相关/软采数据19年6月-2020年1月/基础数据/12011203cgi.csv (79580, 16) (3865415, 16)\n",
      "共计48个文件目前执G:/1-规划/MRO/1、原始数据/摸底测试相关/软采数据19年6月-2020年1月/基础数据/12011210cgi.csv (143688, 16) (4009103, 16)\n",
      "共计48个文件目前执G:/1-规划/MRO/1、原始数据/摸底测试相关/软采数据19年6月-2020年1月/基础数据/12041207cgi.csv (227348, 16) (4236451, 16)\n",
      "共计48个文件目前执G:/1-规划/MRO/1、原始数据/摸底测试相关/软采数据19年6月-2020年1月/基础数据/12081210cgi.csv (143688, 16) (4380139, 16)\n",
      "共计48个文件目前执G:/1-规划/MRO/1、原始数据/摸底测试相关/软采数据19年6月-2020年1月/基础数据/12111214cgi.csv (240905, 16) (4621044, 16)\n",
      "共计48个文件目前执G:/1-规划/MRO/1、原始数据/摸底测试相关/软采数据19年6月-2020年1月/基础数据/1215cgi.csv (41691, 16) (4662735, 16)\n",
      "共计48个文件目前执G:/1-规划/MRO/1、原始数据/摸底测试相关/软采数据19年6月-2020年1月/基础数据/12181220cgi.csv (185378, 16) (4848113, 16)\n",
      "共计48个文件目前执G:/1-规划/MRO/1、原始数据/摸底测试相关/软采数据19年6月-2020年1月/基础数据/12211223cgi.csv (40225, 16) (4888338, 16)\n",
      "共计48个文件目前执G:/1-规划/MRO/1、原始数据/摸底测试相关/软采数据19年6月-2020年1月/基础数据/12281229cgi.csv (13870, 16) (4902208, 16)\n",
      "共计48个文件目前执G:/1-规划/MRO/1、原始数据/摸底测试相关/软采数据19年6月-2020年1月/基础数据/1231cgi.csv (984, 16) (4903192, 16)\n"
     ]
    }
   ],
   "source": [
    "data_z = pd.DataFrame()\n",
    "for name in f:\n",
    "    try:\n",
    "        data_t = pd.read_csv(open(name,encoding='utf-8'),sep='\\t')\n",
    "    except:\n",
    "        data_t = pd.read_csv(open(name,encoding='gbk'))\n",
    "    data_z = data_z.append(data_t)\n",
    "    print('共计{sum}个文件目前执{name}'.format(sum=len(f),name=name),data_t.shape,data_z.shape)\n",
    "    \n",
    "data_z.to_csv('G:/1-规划/MRO/1、原始数据/摸底测试相关/软采数据19年6月-2020年1月/汇总/汇总.csv',encoding='gbk') \n",
    "data_z_qc = data_z.sort_values('day',ascending=False).drop_duplicates('eutrancell_cgi')\n",
    "data_z_qc.to_csv('G:/1-规划/MRO/1、原始数据/摸底测试相关/软采数据19年6月-2020年1月/汇总/汇总使用最新数据去重.csv',encoding='gbk')"
   ]
  },
  {
   "cell_type": "code",
   "execution_count": null,
   "metadata": {},
   "outputs": [],
   "source": []
  },
  {
   "cell_type": "markdown",
   "metadata": {},
   "source": [
    "# --------------监控mro数据采集情况--------------"
   ]
  },
  {
   "cell_type": "code",
   "execution_count": null,
   "metadata": {},
   "outputs": [],
   "source": [
    "import pandas as pd\n",
    "import mytools\n",
    "import numpy as np"
   ]
  },
  {
   "cell_type": "markdown",
   "metadata": {},
   "source": [
    "### 导入基站数据库 "
   ]
  },
  {
   "cell_type": "code",
   "execution_count": null,
   "metadata": {},
   "outputs": [],
   "source": [
    "gongcan_path='G:/1-规划/工参/工参数据/ltejizhan20200116.csv'"
   ]
  },
  {
   "cell_type": "code",
   "execution_count": null,
   "metadata": {},
   "outputs": [],
   "source": [
    "gongcan=pd.read_csv(open(gongcan_path,encoding='gbk'))"
   ]
  },
  {
   "cell_type": "code",
   "execution_count": null,
   "metadata": {},
   "outputs": [],
   "source": [
    "gongcan_use = gongcan[['小区CGI(*)', '小区中文名', '网络制式(TDD/FDD)', '所属地区',  'ATU网格', 'RRU经度', 'RRU纬度',\n",
    "                       '覆盖类别', ' 工作频段','归属区县', '厂家名称']]"
   ]
  },
  {
   "cell_type": "markdown",
   "metadata": {},
   "source": [
    "### 导入mro数据并处理 "
   ]
  },
  {
   "cell_type": "code",
   "execution_count": null,
   "metadata": {},
   "outputs": [],
   "source": [
    "f = mytools.othern.file_name_paths('G:/1-规划/MRO/2.日常mro/需监控的mro文件')"
   ]
  },
  {
   "cell_type": "code",
   "execution_count": null,
   "metadata": {},
   "outputs": [],
   "source": [
    "day,enodeb,eci,rsrp_count,rsrp_weak,un_count,un_weak,te_count,te_weak=['starttime', 'enbid', 'eci', 'rsrp_count_cmcc', 'rsrp_weak_cmcc',\n",
    "                     'rsrp_count_chun', 'rsrp_weak_chun_113', 'rsrp_count_chte', 'rsrp_weak_chte_113']\n",
    "cgi,city=['cgi','city']"
   ]
  },
  {
   "cell_type": "code",
   "execution_count": null,
   "metadata": {
    "scrolled": false
   },
   "outputs": [],
   "source": [
    "mro_changjia = pd.DataFrame()\n",
    "mro_city = pd.DataFrame()\n",
    "for name in f:\n",
    "    #数据整理\n",
    "    data_t = pd.read_csv(open(name,encoding='utf-8'))\n",
    "    data_t_use = data_t[[day,enodeb,eci,rsrp_count,rsrp_weak,un_count,un_weak,te_count,te_weak]]\n",
    "    data_t_use[cgi]=data_t_use[eci].apply(lambda x:'460-00-{enodeb}-{id}'.format(enodeb=int(x/256),id=x%256))\n",
    "    day_use=data_t_use[day][0]\n",
    "    data_t_use_merge=gongcan.merge(data_t_use,how='left',left_on='小区CGI(*)',right_on=cgi,indicator=True)\n",
    "    #结果计算\n",
    "    res_changjia=data_t_use_merge.groupby(['厂家名称']).agg({'小区CGI(*)':'count',cgi:'count'})\n",
    "    res_city=data_t_use_merge.groupby(['所属地区']).agg({'小区CGI(*)':'count',cgi:'count'})\n",
    "    \n",
    "    res_changjia.columns = ['小区总计','采集小区']\n",
    "    res_city.columns = ['小区总计','采集小区']\n",
    "    \n",
    "    res_changjia['采集率']=res_changjia['采集小区']/res_changjia['小区总计']\n",
    "    res_city['采集率']=res_city['采集小区']/res_city['小区总计']\n",
    "    \n",
    "    res_changjia=mytools.othern.df_sort(res_changjia,columns=['采集率'],sort_columns='采集率',ascending=False).reset_index()\n",
    "    res_city=mytools.othern.df_sort(res_city,columns=['采集率'],sort_columns='采集率',ascending=False).reset_index()\n",
    "    \n",
    "    res_changjia['day']=str(day_use)\n",
    "    res_city['day']=str(day_use)\n",
    "    \n",
    "    \n",
    "    res_changjia = res_changjia[['day','厂家名称', '小区总计', '采集小区', '采集率']]\n",
    "    res_city = res_city[[ 'day','所属地区', '小区总计', '采集小区', '采集率']]\n",
    "    \n",
    "    mro_changjia = mro_changjia.append(res_changjia)\n",
    "    mro_city = mro_city.append(res_city)\n",
    "    print(data_t[day][0],data_t.shape)"
   ]
  },
  {
   "cell_type": "code",
   "execution_count": null,
   "metadata": {},
   "outputs": [],
   "source": [
    "with pd.ExcelWriter('G:/1-规划/MRO/2.日常mro/跟踪表.xlsx') as writer:\n",
    "    mro_changjia.to_excel(writer,encoding='gbk',index=False,sheet_name='厂家监控')\n",
    "    mro_city.to_excel(writer,encoding='gbk',index=False,sheet_name='地市监控')\n",
    "writer.save()"
   ]
  },
  {
   "cell_type": "code",
   "execution_count": null,
   "metadata": {},
   "outputs": [],
   "source": []
  },
  {
   "cell_type": "code",
   "execution_count": null,
   "metadata": {},
   "outputs": [],
   "source": [
    "gongcan.sort_values"
   ]
  },
  {
   "cell_type": "code",
   "execution_count": null,
   "metadata": {},
   "outputs": [],
   "source": [
    "#!/usr/bin/env python\n",
    "# coding: utf-8\n",
    "import pandas as pd\n",
    "import mytools\n",
    "import numpy as np\n",
    "\n",
    "gongcan_path='G:/1-规划/工参/工参数据/ltejizhan20200116.csv'\n",
    "gongcan=pd.read_csv(open(gongcan_path,encoding='gbk'))\n",
    "gongcan_use = gongcan[['小区CGI(*)', '小区中文名', '网络制式(TDD/FDD)', '所属地区',  'ATU网格', 'RRU经度', 'RRU纬度',\n",
    "                       '覆盖类别', ' 工作频段','归属区县', '厂家名称']]\n",
    "f = mytools.othern.file_name_paths('G:/1-规划/MRO/2.日常mro/需监控的mro文件')\n",
    "\n",
    "day,enodeb,eci,rsrp_count,rsrp_weak,un_count,un_weak,te_count,te_weak=['starttime', 'enbid', 'eci', 'rsrp_count_cmcc', 'rsrp_weak_cmcc',\n",
    "                     'rsrp_count_chun', 'rsrp_weak_chun_113', 'rsrp_count_chte', 'rsrp_weak_chte_113']\n",
    "cgi,city=['cgi','city']\n",
    "\n",
    "mro_changjia = pd.DataFrame()\n",
    "mro_city = pd.DataFrame()\n",
    "for name in f:\n",
    "    #数据整理\n",
    "    data_t = pd.read_csv(open(name,encoding='utf-8'))\n",
    "    data_t_use = data_t[[day,enodeb,eci,rsrp_count,rsrp_weak,un_count,un_weak,te_count,te_weak]]\n",
    "    data_t_use[cgi]=data_t_use[eci].apply(lambda x:'460-00-{enodeb}-{id}'.format(enodeb=int(x/256),id=x%256))\n",
    "    day_use=data_t_use[day][0]\n",
    "    data_t_use_merge=gongcan.merge(data_t_use,how='left',left_on='小区CGI(*)',right_on=cgi,indicator=True)\n",
    "    #结果计算\n",
    "    res_changjia=data_t_use_merge.groupby(['厂家名称']).agg({'小区CGI(*)':'count',cgi:'count'})\n",
    "    res_city=data_t_use_merge.groupby(['所属地区']).agg({'小区CGI(*)':'count',cgi:'count'})\n",
    "    \n",
    "    res_changjia.columns = ['小区总计','采集小区']\n",
    "    res_city.columns = ['小区总计','采集小区']\n",
    "    \n",
    "    sum_changjia = res_changjia.sum()\n",
    "    sum_changjia.name='全网'\n",
    "    res_changjia.append(sum_changjia)\n",
    "    sum_city = res_city.sum()\n",
    "    sum_city.name = '全网'\n",
    "    res_city.append(sum_city)\n",
    "\n",
    "    res_changjia['采集率']=res_changjia['采集小区']/res_changjia['小区总计']\n",
    "    res_city['采集率']=res_city['采集小区']/res_city['小区总计']\n",
    "    \n",
    "\n",
    "\n",
    "    res_changjia=mytools.othern.df_sort(res_changjia,columns=['采集率'],sort_columns='采集率',ascending=False).reset_index()\n",
    "    res_city=mytools.othern.df_sort(res_city,columns=['采集率'],sort_columns='采集率',ascending=False).reset_index()\n",
    "    \n",
    "    res_changjia['day']=str(day_use)\n",
    "    res_city['day']=str(day_use)\n",
    "\n",
    "    res_changjia = res_changjia[['day','厂家名称', '小区总计', '采集小区', '采集率']]\n",
    "    res_city = res_city[[ 'day','所属地区', '小区总计', '采集小区', '采集率']]\n",
    "    \n",
    "    mro_changjia = mro_changjia.append(res_changjia)\n",
    "    mro_city = mro_city.append(res_city)\n",
    "    print(data_t[day][0],data_t.shape)\n",
    "\n",
    "gengzong_changjia = pd.read_excel('G:/1-规划/MRO/2.日常mro/跟踪表.xlsx',encoding='gbk',sheet_name='厂家监控')\n",
    "gengzong_city = pd.read_excel('G:/1-规划/MRO/2.日常mro/跟踪表.xlsx',encoding='gbk',sheet_name='地市监控')\n",
    "gengzong_changjia = gengzong_changjia.append(mro_changjia)\n",
    "gengzong_city = gengzong_city.append(mro_city)\n",
    "with pd.ExcelWriter('G:/1-规划/MRO/2.日常mro/跟踪表.xlsx') as writer:\n",
    "    gengzong_changjia.to_excel(writer,encoding='gbk',index=False,sheet_name='厂家监控')\n",
    "    gengzong_city.to_excel(writer,encoding='gbk',index=False,sheet_name='地市监控')\n",
    "writer.save()\n",
    "print('完成')"
   ]
  },
  {
   "cell_type": "code",
   "execution_count": null,
   "metadata": {},
   "outputs": [],
   "source": [
    "sum_changjia = res_changjia.sum()\n",
    "sum_changjia.name='全网'\n",
    "res_changjia.append(sum_changjia)"
   ]
  },
  {
   "cell_type": "code",
   "execution_count": null,
   "metadata": {},
   "outputs": [],
   "source": [
    "res_changjia"
   ]
  }
 ],
 "metadata": {
  "kernelspec": {
   "display_name": "Python 3",
   "language": "python",
   "name": "python3"
  },
  "language_info": {
   "codemirror_mode": {
    "name": "ipython",
    "version": 3
   },
   "file_extension": ".py",
   "mimetype": "text/x-python",
   "name": "python",
   "nbconvert_exporter": "python",
   "pygments_lexer": "ipython3",
   "version": "3.7.4"
  }
 },
 "nbformat": 4,
 "nbformat_minor": 2
}
