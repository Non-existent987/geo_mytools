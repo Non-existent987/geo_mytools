{
 "cells": [
  {
   "cell_type": "code",
   "execution_count": null,
   "metadata": {
    "scrolled": true
   },
   "outputs": [],
   "source": [
    "import os\n",
    "a=[x for x in os.listdir('d:\\\\up\\\\')]#获取所有文件和文件夹\n",
    "b=[x for x in os.listdir('d:\\\\up\\\\') if os.path.isfile(x) and os.path.splitext(x)[1]=='.py'] #获取文件py\n",
    "c=[x for x in os.listdir('d:\\\\up\\\\') if os.path.isdir(x)]#获取当前目录中的文件夹\n",
    "d=os.path.abspath('d:\\\\up\\\\')#获取当前路径\n",
    "print(a,'\\n',b,'\\n',c,'\\n',d)\n",
    "print(os.path.abspath('d:\\\\up\\\\'))#获取当前路径"
   ]
  }
 ],
 "metadata": {
  "kernelspec": {
   "display_name": "Python 3",
   "language": "python",
   "name": "python3"
  },
  "language_info": {
   "codemirror_mode": {
    "name": "ipython",
    "version": 3
   },
   "file_extension": ".py",
   "mimetype": "text/x-python",
   "name": "python",
   "nbconvert_exporter": "python",
   "pygments_lexer": "ipython3",
   "version": "3.7.3"
  }
 },
 "nbformat": 4,
 "nbformat_minor": 2
}
