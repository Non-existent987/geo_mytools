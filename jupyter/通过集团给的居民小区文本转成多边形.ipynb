{
 "cells": [
  {
   "cell_type": "code",
   "execution_count": 2,
   "metadata": {},
   "outputs": [],
   "source": [
    "import gdal\n",
    "# import finoa\n",
    "import mkl\n",
    "\n",
    "import geopandas\n"
   ]
  },
  {
   "cell_type": "code",
   "execution_count": 3,
   "metadata": {},
   "outputs": [
    {
     "ename": "ModuleNotFoundError",
     "evalue": "No module named 'plan'",
     "output_type": "error",
     "traceback": [
      "\u001b[1;31m---------------------------------------------------------------------------\u001b[0m",
      "\u001b[1;31mModuleNotFoundError\u001b[0m                       Traceback (most recent call last)",
      "\u001b[1;32m<ipython-input-3-86e9f5cc3609>\u001b[0m in \u001b[0;36m<module>\u001b[1;34m()\u001b[0m\n\u001b[0;32m      3\u001b[0m \u001b[1;31m# from plan import base\u001b[0m\u001b[1;33m\u001b[0m\u001b[1;33m\u001b[0m\u001b[0m\n\u001b[0;32m      4\u001b[0m \u001b[1;31m# from plan.base import hubei\u001b[0m\u001b[1;33m\u001b[0m\u001b[1;33m\u001b[0m\u001b[0m\n\u001b[1;32m----> 5\u001b[1;33m \u001b[1;32mfrom\u001b[0m \u001b[0mplan\u001b[0m \u001b[1;32mimport\u001b[0m \u001b[0mpredicting\u001b[0m\u001b[1;33m\u001b[0m\u001b[0m\n\u001b[0m\u001b[0;32m      6\u001b[0m \u001b[1;33m\u001b[0m\u001b[0m\n\u001b[0;32m      7\u001b[0m \u001b[1;32mimport\u001b[0m \u001b[0mimp\u001b[0m\u001b[1;33m\u001b[0m\u001b[0m\n",
      "\u001b[1;31mModuleNotFoundError\u001b[0m: No module named 'plan'"
     ]
    }
   ],
   "source": [
    "import sys\n",
    "sys.path.append('/Users/dongtao/myPythonPakage')\n",
    "# from plan import base\n",
    "# from plan.base import hubei\n",
    "from plan import predicting\n",
    "\n",
    "import imp\n",
    "imp.reload(base)\n",
    "\n",
    "%matplotlib inline\n",
    "import matplotlib.pyplot as plt\n",
    "plt.rcParams[\"font.sans-serif\"]=[\"SimHei\"]\n",
    "plt.rcParams['axes.unicode_minus']=False\n",
    "\n",
    "b=base\n",
    "# [(x,type(eval(f\"base.{x}\"))) for x in dir(b) if not x.startswith('__')]\n",
    "\n",
    "fl=b.ls()\n",
    "fl\n",
    "\n",
    "from shapely.geometry import *\n",
    "def make_polygon_from_str(x):\n",
    "    \"\"\"根据某一单元格的字符串形成多个多点，构成多边形\"\"\"\n",
    "    sl = x.split(';')\n",
    "    res = [[float(i) for i in (x.split(\",\"))] for x in sl]\n",
    "    res = Polygon(res)\n",
    "    return res\n",
    "\n",
    "def head_n_tail(input_list):\n",
    "    \"\"\"返回头尾相同的列表\"\"\"\n",
    "    if input_list[-1]==input_list[0]:\n",
    "        return input_list\n",
    "    else:\n",
    "        return input_list.append(l[0])\n",
    "\n",
    "\n",
    "import geopandas as gpd\n",
    "import pandas as pd\n",
    "\n",
    "hubei_wkt = b.read('./湖北省 (0114).xlsx')\n",
    "\n",
    "values={'wgs_shape':'缺失'}\n",
    "hubei_wkt=hubei_wkt.fillna(value=values)\n",
    "hubei_wkt=hubei_wkt[hubei_wkt['wgs_shape'] !='缺失']\n",
    "\n",
    "hubei_wkt['wgs_shape'] = hubei_wkt['wgs_shape'].apply(make_polygon_from_str)\n",
    "\n",
    "hubei_wkt=gpd.GeoDataFrame(hubei_wkt,crs=b.crs4326,geometry='wgs_shape')\n",
    "\n",
    "b.to_file(hubei_wkt,'out/湖北0114.tab',encoding='gbk')"
   ]
  },
  {
   "cell_type": "code",
   "execution_count": null,
   "metadata": {},
   "outputs": [],
   "source": [
    "import geopandas"
   ]
  },
  {
   "cell_type": "code",
   "execution_count": null,
   "metadata": {},
   "outputs": [],
   "source": [
    "import pandas as pd \n"
   ]
  },
  {
   "cell_type": "code",
   "execution_count": null,
   "metadata": {},
   "outputs": [],
   "source": [
    "ss=pd.read_clipboard()\n",
    "ss"
   ]
  },
  {
   "cell_type": "code",
   "execution_count": null,
   "metadata": {},
   "outputs": [],
   "source": [
    "from plan import Plan\n",
    "\n",
    "cron = Plan()\n",
    "\n",
    "cron.command('ls /tmp', every='1.day', at='12:00')\n",
    "cron.command('pwd', every='2.month')\n",
    "cron.command('date', every='weekend')\n",
    "\n",
    "if __name__ == \"__main__\":\n",
    "    cron.run()\n"
   ]
  },
  {
   "cell_type": "code",
   "execution_count": null,
   "metadata": {},
   "outputs": [],
   "source": [
    "def make_polygon_from_str(x):\n",
    "    \"\"\"根据某一单元格的字符串形成多个多点，构成多边形\"\"\"\n",
    "    sl = x.split(';')\n",
    "    res = [[float(i) for i in (x.split(\",\"))] for x in sl]\n",
    "    res = Polygon(res)\n",
    "    return res\n",
    "\n",
    "def head_n_tail(input_list):\n",
    "    \"\"\"返回头尾相同的列表\"\"\"\n",
    "    if input_list[-1]==input_list[0]:\n",
    "        return input_list\n",
    "    else:\n",
    "        return input_list.append(l[0])"
   ]
  },
  {
   "cell_type": "code",
   "execution_count": null,
   "metadata": {},
   "outputs": [],
   "source": [
    "tmp = ss['polygon'][0]\n",
    "tmp"
   ]
  },
  {
   "cell_type": "code",
   "execution_count": null,
   "metadata": {},
   "outputs": [],
   "source": [
    "from shapely.geometry import *"
   ]
  },
  {
   "cell_type": "code",
   "execution_count": null,
   "metadata": {},
   "outputs": [],
   "source": [
    "make_polygon_from_str(tmp)"
   ]
  },
  {
   "cell_type": "code",
   "execution_count": null,
   "metadata": {},
   "outputs": [],
   "source": [
    "from shapely.geometry import *"
   ]
  },
  {
   "cell_type": "code",
   "execution_count": null,
   "metadata": {},
   "outputs": [],
   "source": [
    "ss['polygon1'] = ss['polygon'].apply(make_polygon_from_str)"
   ]
  },
  {
   "cell_type": "code",
   "execution_count": null,
   "metadata": {},
   "outputs": [],
   "source": [
    "ss.to_csv('tmp.csv',encoding='gbk')"
   ]
  },
  {
   "cell_type": "code",
   "execution_count": null,
   "metadata": {},
   "outputs": [],
   "source": []
  }
 ],
 "metadata": {
  "kernelspec": {
   "display_name": "Python 3",
   "language": "python",
   "name": "python3"
  },
  "language_info": {
   "codemirror_mode": {
    "name": "ipython",
    "version": 3
   },
   "file_extension": ".py",
   "mimetype": "text/x-python",
   "name": "python",
   "nbconvert_exporter": "python",
   "pygments_lexer": "ipython3",
   "version": "3.7.0"
  }
 },
 "nbformat": 4,
 "nbformat_minor": 2
}
