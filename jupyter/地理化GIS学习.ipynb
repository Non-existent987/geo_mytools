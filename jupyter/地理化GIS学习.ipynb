{
 "cells": [
  {
   "cell_type": "code",
   "execution_count": 1,
   "metadata": {
    "scrolled": true
   },
   "outputs": [],
   "source": [
    "import turtle as t\n",
    "import app.mydef as md\n",
    "mt = md.MyTools()\n",
    "from PyQt5 import QtCore, QtGui, QtWidgets\n",
    "import sys, math\n",
    "import folium as f\n",
    "import pandas as pd\n",
    "import app.netools as ant\n",
    "nt = ant.NetTools()\n",
    "import os\n",
    "import folium\n",
    "import json\n",
    "import geopandas as gpd\n",
    "import app.main as ma\n",
    "import json"
   ]
  },
  {
   "cell_type": "code",
   "execution_count": 2,
   "metadata": {},
   "outputs": [],
   "source": [
    "data = pd.read_csv('shuju.csv',encoding = 'gbk')"
   ]
  },
  {
   "cell_type": "code",
   "execution_count": 3,
   "metadata": {},
   "outputs": [],
   "source": [
    "data_cgi=data[data['CGI']=='460-00-910076-131']"
   ]
  },
  {
   "cell_type": "code",
   "execution_count": 4,
   "metadata": {},
   "outputs": [
    {
     "data": {
      "text/plain": [
       "110.81426999999999"
      ]
     },
     "execution_count": 4,
     "metadata": {},
     "output_type": "execute_result"
    }
   ],
   "source": [
    "data.loc[data['CGI']=='460-00-910076-131','经度'].values[0]"
   ]
  },
  {
   "cell_type": "code",
   "execution_count": 5,
   "metadata": {},
   "outputs": [
    {
     "ename": "NameError",
     "evalue": "name 'jingdu' is not defined",
     "output_type": "error",
     "traceback": [
      "\u001b[1;31m---------------------------------------------------------------------------\u001b[0m",
      "\u001b[1;31mNameError\u001b[0m                                 Traceback (most recent call last)",
      "\u001b[1;32m<ipython-input-5-93f3cad0848c>\u001b[0m in \u001b[0;36m<module>\u001b[1;34m()\u001b[0m\n\u001b[1;32m----> 1\u001b[1;33m \u001b[0mjingdu\u001b[0m\u001b[1;33m.\u001b[0m\u001b[0mvalues\u001b[0m\u001b[1;33m[\u001b[0m\u001b[1;36m0\u001b[0m\u001b[1;33m]\u001b[0m\u001b[1;33m\u001b[0m\u001b[1;33m\u001b[0m\u001b[0m\n\u001b[0m",
      "\u001b[1;31mNameError\u001b[0m: name 'jingdu' is not defined"
     ]
    }
   ],
   "source": [
    "jingdu.values[0]"
   ]
  },
  {
   "cell_type": "code",
   "execution_count": null,
   "metadata": {},
   "outputs": [],
   "source": [
    "#---------数据过滤\n",
    "# data_test=data[data['CGI'].str.contains(\"455087\")]\n",
    "data['height'] = 10\n",
    "data_test = data.head(100)"
   ]
  },
  {
   "cell_type": "code",
   "execution_count": 6,
   "metadata": {},
   "outputs": [
    {
     "ename": "NameError",
     "evalue": "name 'data_test' is not defined",
     "output_type": "error",
     "traceback": [
      "\u001b[1;31m---------------------------------------------------------------------------\u001b[0m",
      "\u001b[1;31mNameError\u001b[0m                                 Traceback (most recent call last)",
      "\u001b[1;32m<ipython-input-6-0cc8d1c950e6>\u001b[0m in \u001b[0;36m<module>\u001b[1;34m()\u001b[0m\n\u001b[1;32m----> 1\u001b[1;33m \u001b[0mdata_test\u001b[0m\u001b[1;33m\u001b[0m\u001b[1;33m\u001b[0m\u001b[0m\n\u001b[0m",
      "\u001b[1;31mNameError\u001b[0m: name 'data_test' is not defined"
     ]
    }
   ],
   "source": [
    "data_test"
   ]
  },
  {
   "cell_type": "code",
   "execution_count": 7,
   "metadata": {},
   "outputs": [
    {
     "ename": "NameError",
     "evalue": "name 'data_test' is not defined",
     "output_type": "error",
     "traceback": [
      "\u001b[1;31m---------------------------------------------------------------------------\u001b[0m",
      "\u001b[1;31mNameError\u001b[0m                                 Traceback (most recent call last)",
      "\u001b[1;32m<ipython-input-7-b05e6d186001>\u001b[0m in \u001b[0;36m<module>\u001b[1;34m()\u001b[0m\n\u001b[0;32m      1\u001b[0m \u001b[1;31m#----------制作gis地图\u001b[0m\u001b[1;33m\u001b[0m\u001b[1;33m\u001b[0m\u001b[1;33m\u001b[0m\u001b[0m\n\u001b[1;32m----> 2\u001b[1;33m data_sector = nt.add_sectors(data_test,coords=['经度','纬度','height','方位角'],\n\u001b[0m\u001b[0;32m      3\u001b[0m                              shape_dict={'radius': 1000, 'beam': 30, 'per_degree': 10})\n",
      "\u001b[1;31mNameError\u001b[0m: name 'data_test' is not defined"
     ]
    }
   ],
   "source": [
    "#----------制作gis地图\n",
    "data_sector = nt.add_sectors(data_test,coords=['经度','纬度','height','方位角'],\n",
    "                             shape_dict={'radius': 1000, 'beam': 30, 'per_degree': 10})"
   ]
  },
  {
   "cell_type": "code",
   "execution_count": 8,
   "metadata": {},
   "outputs": [
    {
     "ename": "NameError",
     "evalue": "name 'data_sector' is not defined",
     "output_type": "error",
     "traceback": [
      "\u001b[1;31m---------------------------------------------------------------------------\u001b[0m",
      "\u001b[1;31mNameError\u001b[0m                                 Traceback (most recent call last)",
      "\u001b[1;32m<ipython-input-8-c023aa0f0796>\u001b[0m in \u001b[0;36m<module>\u001b[1;34m()\u001b[0m\n\u001b[0;32m      1\u001b[0m \u001b[1;31m#-----------生成json格式\u001b[0m\u001b[1;33m\u001b[0m\u001b[1;33m\u001b[0m\u001b[1;33m\u001b[0m\u001b[0m\n\u001b[1;32m----> 2\u001b[1;33m \u001b[0mstate_geo\u001b[0m\u001b[1;33m=\u001b[0m\u001b[0mdata_sector\u001b[0m\u001b[1;33m.\u001b[0m\u001b[0mto_json\u001b[0m\u001b[1;33m(\u001b[0m\u001b[1;33m)\u001b[0m\u001b[1;33m\u001b[0m\u001b[1;33m\u001b[0m\u001b[0m\n\u001b[0m",
      "\u001b[1;31mNameError\u001b[0m: name 'data_sector' is not defined"
     ]
    }
   ],
   "source": [
    "#-----------生成json格式\n",
    "state_geo=data_sector.to_json()"
   ]
  },
  {
   "cell_type": "code",
   "execution_count": 9,
   "metadata": {
    "scrolled": true
   },
   "outputs": [],
   "source": [
    "#----------数据标签，显示用\n",
    "a=data.columns"
   ]
  },
  {
   "cell_type": "code",
   "execution_count": 10,
   "metadata": {},
   "outputs": [
    {
     "data": {
      "text/html": [
       "<div>\n",
       "<style scoped>\n",
       "    .dataframe tbody tr th:only-of-type {\n",
       "        vertical-align: middle;\n",
       "    }\n",
       "\n",
       "    .dataframe tbody tr th {\n",
       "        vertical-align: top;\n",
       "    }\n",
       "\n",
       "    .dataframe thead th {\n",
       "        text-align: right;\n",
       "    }\n",
       "</style>\n",
       "<table border=\"1\" class=\"dataframe\">\n",
       "  <thead>\n",
       "    <tr style=\"text-align: right;\">\n",
       "      <th></th>\n",
       "      <th>CGI</th>\n",
       "      <th>厂家名称</th>\n",
       "      <th>小区中文名</th>\n",
       "      <th>经度</th>\n",
       "      <th>纬度</th>\n",
       "      <th>方位角</th>\n",
       "      <th>频点</th>\n",
       "      <th>有效RRC连接最大数</th>\n",
       "      <th>每RB平均噪声干扰</th>\n",
       "      <th>上行PRB平均利用率</th>\n",
       "      <th>下行PRB平均利用率</th>\n",
       "      <th>PDCCH信道CCE占用率</th>\n",
       "      <th>同覆盖ID</th>\n",
       "      <th>负载类型</th>\n",
       "    </tr>\n",
       "    <tr>\n",
       "      <th>地市</th>\n",
       "      <th></th>\n",
       "      <th></th>\n",
       "      <th></th>\n",
       "      <th></th>\n",
       "      <th></th>\n",
       "      <th></th>\n",
       "      <th></th>\n",
       "      <th></th>\n",
       "      <th></th>\n",
       "      <th></th>\n",
       "      <th></th>\n",
       "      <th></th>\n",
       "      <th></th>\n",
       "      <th></th>\n",
       "    </tr>\n",
       "  </thead>\n",
       "  <tbody>\n",
       "    <tr>\n",
       "      <th>襄阳</th>\n",
       "      <td>460-00-997374-3</td>\n",
       "      <td>华为</td>\n",
       "      <td>（D）谷城黄康火车站-HLH-6_ISON</td>\n",
       "      <td>113.099568</td>\n",
       "      <td>32.59576</td>\n",
       "      <td>360</td>\n",
       "      <td>40936</td>\n",
       "      <td>170.0</td>\n",
       "      <td>-99.406667</td>\n",
       "      <td>0.852467</td>\n",
       "      <td>0.981133</td>\n",
       "      <td>0.519968</td>\n",
       "      <td>襄阳_9996</td>\n",
       "      <td>高负荷</td>\n",
       "    </tr>\n",
       "  </tbody>\n",
       "</table>\n",
       "</div>"
      ],
      "text/plain": [
       "                CGI 厂家名称                  小区中文名          经度        纬度  方位角  \\\n",
       "地市                                                                           \n",
       "襄阳  460-00-997374-3   华为  （D）谷城黄康火车站-HLH-6_ISON  113.099568  32.59576  360   \n",
       "\n",
       "       频点  有效RRC连接最大数  每RB平均噪声干扰  上行PRB平均利用率  下行PRB平均利用率  PDCCH信道CCE占用率  \\\n",
       "地市                                                                        \n",
       "襄阳  40936       170.0 -99.406667    0.852467    0.981133       0.519968   \n",
       "\n",
       "      同覆盖ID 负载类型  \n",
       "地市                \n",
       "襄阳  襄阳_9996  高负荷  "
      ]
     },
     "execution_count": 10,
     "metadata": {},
     "output_type": "execute_result"
    }
   ],
   "source": [
    "data.groupby(by = '地市').max()"
   ]
  },
  {
   "cell_type": "code",
   "execution_count": null,
   "metadata": {},
   "outputs": [],
   "source": []
  },
  {
   "cell_type": "code",
   "execution_count": 12,
   "metadata": {
    "scrolled": false
   },
   "outputs": [
    {
     "ename": "NameError",
     "evalue": "name 'state_geo' is not defined",
     "output_type": "error",
     "traceback": [
      "\u001b[1;31m---------------------------------------------------------------------------\u001b[0m",
      "\u001b[1;31mNameError\u001b[0m                                 Traceback (most recent call last)",
      "\u001b[1;32m<ipython-input-12-f0f39b3b0593>\u001b[0m in \u001b[0;36m<module>\u001b[1;34m()\u001b[0m\n\u001b[0;32m      2\u001b[0m \u001b[0mm\u001b[0m \u001b[1;33m=\u001b[0m \u001b[0mfolium\u001b[0m\u001b[1;33m.\u001b[0m\u001b[0mMap\u001b[0m\u001b[1;33m(\u001b[0m\u001b[1;33m[\u001b[0m\u001b[1;36m31.7315\u001b[0m\u001b[1;33m,\u001b[0m\u001b[1;36m110.9391\u001b[0m\u001b[1;33m]\u001b[0m\u001b[1;33m,\u001b[0m \u001b[0mzoom_start\u001b[0m\u001b[1;33m=\u001b[0m\u001b[1;36m12\u001b[0m\u001b[1;33m,\u001b[0m \u001b[0mtiles\u001b[0m\u001b[1;33m=\u001b[0m\u001b[0mgaode\u001b[0m\u001b[1;33m,\u001b[0m\u001b[0mattr\u001b[0m\u001b[1;33m=\u001b[0m\u001b[1;34m'desdf'\u001b[0m\u001b[1;33m)\u001b[0m\u001b[1;33m\u001b[0m\u001b[1;33m\u001b[0m\u001b[0m\n\u001b[0;32m      3\u001b[0m c=folium.Choropleth(\n\u001b[1;32m----> 4\u001b[1;33m     \u001b[0mgeo_data\u001b[0m\u001b[1;33m=\u001b[0m\u001b[0mstate_geo\u001b[0m\u001b[1;33m,\u001b[0m\u001b[1;33m\u001b[0m\u001b[1;33m\u001b[0m\u001b[0m\n\u001b[0m\u001b[0;32m      5\u001b[0m     \u001b[0mname\u001b[0m\u001b[1;33m=\u001b[0m\u001b[1;34m'地市'\u001b[0m\u001b[1;33m,\u001b[0m\u001b[1;33m\u001b[0m\u001b[1;33m\u001b[0m\u001b[0m\n\u001b[0;32m      6\u001b[0m     \u001b[0mdata\u001b[0m\u001b[1;33m=\u001b[0m\u001b[0mdata\u001b[0m\u001b[1;33m,\u001b[0m\u001b[1;33m\u001b[0m\u001b[1;33m\u001b[0m\u001b[0m\n",
      "\u001b[1;31mNameError\u001b[0m: name 'state_geo' is not defined"
     ]
    }
   ],
   "source": [
    "gaode='http://webrd02.is.autonavi.com/appmaptile?lang=zh_cn&size=1&scale=1&style=7&x={x}&y={y}&z={z}'\n",
    "m = folium.Map([31.7315,110.9391], zoom_start=12, tiles=gaode,attr='desdf')\n",
    "c=folium.Choropleth(\n",
    "    geo_data=state_geo,\n",
    "    name='地市',\n",
    "    data=data,\n",
    "    columns=['CGI', '有效RRC连接最大数'],\n",
    "    key_on='feature.properties.CGI',\n",
    "    threshold_scale=[0, 10,  50,180],\n",
    "    fill_color='Reds',#Reds ， RdYlGn\n",
    "    fill_opacity=0.7,\n",
    "    line_opacity=0.2,\n",
    "    legend_name='图例',\n",
    "    highlight = True\n",
    "#     popup='方位角'\n",
    ").add_to(m)\n",
    "# folium.Tooltip()\n",
    "fg=folium.GeoJsonTooltip(list(a)[0:10],aliases=None, labels=True, localize=False, style=None, sticky=True).add_to(c.geojson)\n",
    "# folium.Tooltip('ttt', style=None, sticky=True,permanent = True ).add_to(c.geojson)#同样的显示\n",
    "# m.add_child(folium.LatLngPopup())#'''为地图对象添加点击显示经纬度的子功能'''\n",
    "# m.add_child(folium.ClickForMarker())#实现点击地图任意位置产生一个新的图标\n",
    "m.save('gis.html')\n",
    "m"
   ]
  },
  {
   "cell_type": "code",
   "execution_count": 13,
   "metadata": {},
   "outputs": [],
   "source": [
    "gaode='http://webrd02.is.autonavi.com/appmaptile?lang=zh_cn&size=1&scale=1&style=7&x={x}&y={y}&z={z}'\n",
    "m = folium.Map([31.7315,110.9391], zoom_start=12, tiles=gaode,attr='desdf')\n",
    "m.save('gg.html')"
   ]
  },
  {
   "cell_type": "code",
   "execution_count": null,
   "metadata": {},
   "outputs": [],
   "source": []
  },
  {
   "cell_type": "code",
   "execution_count": null,
   "metadata": {},
   "outputs": [],
   "source": []
  },
  {
   "cell_type": "code",
   "execution_count": 14,
   "metadata": {},
   "outputs": [],
   "source": [
    "style_function = lambda x: {'color': '#FF0000'}\n",
    "# def style_function(feature):\n",
    "#     return {'fillOpacity': 0.4,\n",
    "#         'weight': 2,\n",
    "#         'fillColor': '#FF0000',\n",
    "#             'color':'#FF0000'\n",
    "#            }"
   ]
  },
  {
   "cell_type": "code",
   "execution_count": 15,
   "metadata": {},
   "outputs": [
    {
     "name": "stderr",
     "output_type": "stream",
     "text": [
      "C:\\ProgramData\\Anaconda3\\lib\\site-packages\\folium\\folium.py:415: FutureWarning: The choropleth  method has been deprecated. Instead use the new Choropleth class, which has the same arguments. See the example notebook 'GeoJSON_and_choropleth' for how to do this.\n",
      "  FutureWarning\n"
     ]
    },
    {
     "ename": "TypeError",
     "evalue": "__init__() missing 1 required positional argument: 'geo_data'",
     "output_type": "error",
     "traceback": [
      "\u001b[1;31m---------------------------------------------------------------------------\u001b[0m",
      "\u001b[1;31mTypeError\u001b[0m                                 Traceback (most recent call last)",
      "\u001b[1;32m<ipython-input-15-41ff344619ba>\u001b[0m in \u001b[0;36m<module>\u001b[1;34m()\u001b[0m\n\u001b[0;32m      1\u001b[0m \u001b[0mm\u001b[0m \u001b[1;33m=\u001b[0m \u001b[0mfolium\u001b[0m\u001b[1;33m.\u001b[0m\u001b[0mMap\u001b[0m\u001b[1;33m(\u001b[0m\u001b[0mlocation\u001b[0m\u001b[1;33m=\u001b[0m\u001b[1;33m[\u001b[0m\u001b[1;36m40.66393072\u001b[0m\u001b[1;33m,\u001b[0m\u001b[1;33m-\u001b[0m\u001b[1;36m73.93827499\u001b[0m\u001b[1;33m]\u001b[0m\u001b[1;33m,\u001b[0m \u001b[0mzoom_start\u001b[0m\u001b[1;33m=\u001b[0m\u001b[1;36m13\u001b[0m\u001b[1;33m)\u001b[0m\u001b[1;33m\u001b[0m\u001b[1;33m\u001b[0m\u001b[0m\n\u001b[1;32m----> 2\u001b[1;33m \u001b[0mm\u001b[0m\u001b[1;33m.\u001b[0m\u001b[0mchoropleth\u001b[0m\u001b[1;33m(\u001b[0m\u001b[0mgeo_path\u001b[0m\u001b[1;33m=\u001b[0m\u001b[1;34m\"census_tracts_2010.geojson\"\u001b[0m\u001b[1;33m)\u001b[0m\u001b[1;33m\u001b[0m\u001b[1;33m\u001b[0m\u001b[0m\n\u001b[0m\u001b[0;32m      3\u001b[0m \u001b[0mm\u001b[0m\u001b[1;33m.\u001b[0m\u001b[0msave\u001b[0m\u001b[1;33m(\u001b[0m\u001b[0moutfile\u001b[0m\u001b[1;33m=\u001b[0m\u001b[1;34m'datamap.html'\u001b[0m\u001b[1;33m)\u001b[0m\u001b[1;33m\u001b[0m\u001b[1;33m\u001b[0m\u001b[0m\n",
      "\u001b[1;32mC:\\ProgramData\\Anaconda3\\lib\\site-packages\\folium\\folium.py\u001b[0m in \u001b[0;36mchoropleth\u001b[1;34m(self, *args, **kwargs)\u001b[0m\n\u001b[0;32m    416\u001b[0m         )\n\u001b[0;32m    417\u001b[0m         \u001b[1;32mfrom\u001b[0m \u001b[0mfolium\u001b[0m\u001b[1;33m.\u001b[0m\u001b[0mfeatures\u001b[0m \u001b[1;32mimport\u001b[0m \u001b[0mChoropleth\u001b[0m\u001b[1;33m\u001b[0m\u001b[1;33m\u001b[0m\u001b[0m\n\u001b[1;32m--> 418\u001b[1;33m         \u001b[0mself\u001b[0m\u001b[1;33m.\u001b[0m\u001b[0madd_child\u001b[0m\u001b[1;33m(\u001b[0m\u001b[0mChoropleth\u001b[0m\u001b[1;33m(\u001b[0m\u001b[1;33m*\u001b[0m\u001b[0margs\u001b[0m\u001b[1;33m,\u001b[0m \u001b[1;33m**\u001b[0m\u001b[0mkwargs\u001b[0m\u001b[1;33m)\u001b[0m\u001b[1;33m)\u001b[0m\u001b[1;33m\u001b[0m\u001b[1;33m\u001b[0m\u001b[0m\n\u001b[0m\u001b[0;32m    419\u001b[0m \u001b[1;33m\u001b[0m\u001b[0m\n\u001b[0;32m    420\u001b[0m     \u001b[1;32mdef\u001b[0m \u001b[0mkeep_in_front\u001b[0m\u001b[1;33m(\u001b[0m\u001b[0mself\u001b[0m\u001b[1;33m,\u001b[0m \u001b[1;33m*\u001b[0m\u001b[0margs\u001b[0m\u001b[1;33m)\u001b[0m\u001b[1;33m:\u001b[0m\u001b[1;33m\u001b[0m\u001b[1;33m\u001b[0m\u001b[0m\n",
      "\u001b[1;31mTypeError\u001b[0m: __init__() missing 1 required positional argument: 'geo_data'"
     ]
    }
   ],
   "source": [
    "m = folium.Map(location=[40.66393072,-73.93827499], zoom_start=13)\n",
    "m.choropleth(geo_path=\"census_tracts_2010.geojson\")\n",
    "m.save(outfile='datamap.html')"
   ]
  },
  {
   "cell_type": "code",
   "execution_count": 16,
   "metadata": {},
   "outputs": [
    {
     "ename": "SyntaxError",
     "evalue": "invalid syntax (<ipython-input-16-073357371c68>, line 6)",
     "output_type": "error",
     "traceback": [
      "\u001b[1;36m  File \u001b[1;32m\"<ipython-input-16-073357371c68>\"\u001b[1;36m, line \u001b[1;32m6\u001b[0m\n\u001b[1;33m    m.add_child(folium.GeoJson(data = open(\"enshi.geojson\"))) and then call m.save()\u001b[0m\n\u001b[1;37m                                                                          ^\u001b[0m\n\u001b[1;31mSyntaxError\u001b[0m\u001b[1;31m:\u001b[0m invalid syntax\n"
     ]
    }
   ],
   "source": [
    "m = folium.Map([32.008,112.074], zoom_start=15, \n",
    "               tiles='http://webrd02.is.autonavi.com/appmaptile?lang=zh_cn&size=1&scale=1&style=7&x={x}&y={y}&z={z}',\n",
    "               attr='desdf')\n",
    "# m.choropleth(geo_path=r'D:\\enshi.geojson')\n",
    "# m.choropleth(open('enshi.geojson))\n",
    "m.add_child(folium.GeoJson(data = open(\"enshi.geojson\"))) and then call m.save()\n",
    "m"
   ]
  },
  {
   "cell_type": "code",
   "execution_count": 17,
   "metadata": {
    "scrolled": false
   },
   "outputs": [
    {
     "ename": "NameError",
     "evalue": "name 'text_js' is not defined",
     "output_type": "error",
     "traceback": [
      "\u001b[1;31m---------------------------------------------------------------------------\u001b[0m",
      "\u001b[1;31mNameError\u001b[0m                                 Traceback (most recent call last)",
      "\u001b[1;32m<ipython-input-17-d34829e69d48>\u001b[0m in \u001b[0;36m<module>\u001b[1;34m()\u001b[0m\n\u001b[0;32m      4\u001b[0m                \u001b[0mtiles\u001b[0m\u001b[1;33m=\u001b[0m\u001b[1;34m'http://webrd02.is.autonavi.com/appmaptile?lang=zh_cn&size=1&scale=1&style=7&x={x}&y={y}&z={z}'\u001b[0m\u001b[1;33m,\u001b[0m\u001b[1;33m\u001b[0m\u001b[1;33m\u001b[0m\u001b[0m\n\u001b[0;32m      5\u001b[0m                attr='desdf')\n\u001b[1;32m----> 6\u001b[1;33m \u001b[0mfolium\u001b[0m\u001b[1;33m.\u001b[0m\u001b[0mGeoJson\u001b[0m\u001b[1;33m(\u001b[0m\u001b[0mdata\u001b[0m \u001b[1;33m=\u001b[0m \u001b[0mtext_js\u001b[0m\u001b[1;33m,\u001b[0m\u001b[0mstyle_function\u001b[0m\u001b[1;33m=\u001b[0m\u001b[0mstyle_function\u001b[0m\u001b[1;33m,\u001b[0m\u001b[0mname\u001b[0m\u001b[1;33m=\u001b[0m\u001b[1;34m'sdf'\u001b[0m\u001b[1;33m)\u001b[0m\u001b[1;33m.\u001b[0m\u001b[0madd_to\u001b[0m\u001b[1;33m(\u001b[0m\u001b[0mm\u001b[0m\u001b[1;33m)\u001b[0m\u001b[1;33m\u001b[0m\u001b[1;33m\u001b[0m\u001b[0m\n\u001b[0m\u001b[0;32m      7\u001b[0m \u001b[1;31m# folium.GeoJson(boros1).add_to(m)\u001b[0m\u001b[1;33m\u001b[0m\u001b[1;33m\u001b[0m\u001b[1;33m\u001b[0m\u001b[0m\n\u001b[0;32m      8\u001b[0m \u001b[0mm\u001b[0m\u001b[1;33m.\u001b[0m\u001b[0msave\u001b[0m\u001b[1;33m(\u001b[0m\u001b[1;34m'geopandas_0.html'\u001b[0m\u001b[1;33m)\u001b[0m\u001b[1;33m\u001b[0m\u001b[1;33m\u001b[0m\u001b[0m\n",
      "\u001b[1;31mNameError\u001b[0m: name 'text_js' is not defined"
     ]
    }
   ],
   "source": [
    "boros=r'D:\\enshi_bu.geojson'\n",
    "boros1=r'D:\\enshi.geojson'\n",
    "m = folium.Map([32.008,112.074], zoom_start=15, \n",
    "               tiles='http://webrd02.is.autonavi.com/appmaptile?lang=zh_cn&size=1&scale=1&style=7&x={x}&y={y}&z={z}',\n",
    "               attr='desdf')\n",
    "folium.GeoJson(data = text_js,style_function=style_function,name='sdf').add_to(m)\n",
    "# folium.GeoJson(boros1).add_to(m)\n",
    "m.save('geopandas_0.html')\n",
    "m"
   ]
  },
  {
   "cell_type": "code",
   "execution_count": 18,
   "metadata": {
    "scrolled": false
   },
   "outputs": [
    {
     "data": {
      "text/plain": [
       "<module 'app.main' from 'G:\\\\mypy\\\\app\\\\main.py'>"
      ]
     },
     "execution_count": 18,
     "metadata": {},
     "output_type": "execute_result"
    }
   ],
   "source": [
    "\n",
    "ma"
   ]
  },
  {
   "cell_type": "code",
   "execution_count": null,
   "metadata": {},
   "outputs": [],
   "source": []
  },
  {
   "cell_type": "code",
   "execution_count": 19,
   "metadata": {
    "scrolled": true
   },
   "outputs": [
    {
     "data": {
      "text/plain": [
       "[[47.27613260069404, 4.5196023472383375, -0.002465268141026433],\n",
       " [47.88161499075822, 5.161543026576684, 1.2990723450557846],\n",
       " [48.13520799418289, 3.3472947590208246, 1.6163702166620229],\n",
       " [49.77006997473514, 4.941722438829166, 2.0789979906929927],\n",
       " [47.2747639714475, 3.6398126869848806, 0.689794175603109],\n",
       " [48.55730014734627, 5.738778685811036, 0.1985992437810269],\n",
       " [49.293966744743436, 3.221699099198818, 1.8687465516561632],\n",
       " [47.269591658573475, 4.601195918761066, 2.2530232565578943],\n",
       " [48.881523683262, 5.489470060355994, 1.0690165537070193],\n",
       " [47.23741523515845, 4.690070341826669, -0.2152436461068219],\n",
       " [49.757887491283135, 3.957097353043414, -0.5422671737627462],\n",
       " [49.29721959828252, 3.2479142526372486, 0.9095816573210813],\n",
       " [48.75472842037783, 4.046945212681126, 1.0611582914720226],\n",
       " [46.92640612771587, 7.203344378621332, -1.1795890044159947],\n",
       " [47.114766714599845, 5.544476941507239, 0.2936758839385002],\n",
       " [48.84409857126356, 5.647873020579124, 0.3852033266087417],\n",
       " [48.57371144581243, 2.8613181224199824, 0.02210411142807478],\n",
       " [46.68415541000967, 3.9568334015243574, 1.2840600895702146],\n",
       " [50.12302965082103, 6.686231706492567, 1.3843753034657593],\n",
       " [49.50467921112423, 4.783481703301011, -1.0917945236291486],\n",
       " [47.3554802816069, 4.91429646328782, 0.46848432642262305],\n",
       " [48.61247699874191, 6.621727063216619, 0.10674501482884835],\n",
       " [47.68076652519812, 4.275757800743919, 2.365695104465718],\n",
       " [46.61447822342819, 3.7565874366052388, -0.16477726916161872],\n",
       " [47.34758027465833, 5.138696272230634, 0.6282562941824578],\n",
       " [49.039047699567796, 4.33912401091118, 1.299350961193212],\n",
       " [48.64870806298251, 5.907373622730955, 0.3254830931549364],\n",
       " [47.33210969790249, 4.417914248972939, -0.902697531419794],\n",
       " [47.980782418332225, 5.621463382814901, 0.39036373095520105],\n",
       " [49.02040621439936, 7.064838551995122, -0.12942464701636047],\n",
       " [47.57187890258795, 4.330720129564897, 1.0718603081624167],\n",
       " [47.7947884255791, 4.199702330300398, 1.7742586038799106],\n",
       " [47.615369504955275, 6.184119618935184, 1.5159477399125818],\n",
       " [48.53366629501323, 5.069516965655317, 1.602537269435294],\n",
       " [47.833478658824475, 4.23237088510782, 0.49400187768248793],\n",
       " [47.77014008924794, 2.5241122770245226, 1.605894815637292],\n",
       " [47.97349129278162, 4.105651971075882, 1.046335307760407],\n",
       " [46.70012609174025, 3.9383610086898297, 0.6606391730300165],\n",
       " [47.71970893299891, 4.619568615687875, 1.3783905955765026],\n",
       " [46.46793590817549, 6.368343430170871, 0.2318880137948559],\n",
       " [46.56204295264394, 3.3093859136434745, -0.0728467516097433],\n",
       " [49.00073217758459, 4.600691442561155, 1.7618873670112873],\n",
       " [50.2009416927837, 4.1968144793004365, 2.931866541238307],\n",
       " [46.92808405798761, 5.043605813045373, 1.4247417641089206],\n",
       " [48.54839956970269, 6.511093300173866, 1.2678005351533506],\n",
       " [47.44193861355408, 6.85499132244943, 3.5127345018741507],\n",
       " [48.43437464423665, 4.057074262883839, 2.643804069501825],\n",
       " [47.02618451797418, 4.549989898123908, 1.6548811766440616],\n",
       " [46.861378673263, 5.336343718217744, 1.9403579821667902],\n",
       " [49.86476129215528, 7.16924437913274, 1.8746425224701242],\n",
       " [48.38473102527876, 4.949830751531573, -0.3732440192815891],\n",
       " [48.02203912889394, 4.282958141569216, -0.06198893811864847],\n",
       " [47.961563092767975, 4.817280064075892, 0.41207695310278536],\n",
       " [48.00508214064129, 7.9021674538963405, 2.035974929052253],\n",
       " [47.46516866241477, 4.511384536061541, 0.018147650221527423],\n",
       " [48.682092689785236, 5.949814393384689, 0.2341101965063449],\n",
       " [47.04413419015439, 4.639998767007031, 1.7868672162206356],\n",
       " [45.853842078187725, 4.804662405512452, 0.4550263354887867],\n",
       " [47.793201285856156, 5.064030886241607, 0.9111053413869658],\n",
       " [47.27857085553276, 5.709517249625494, 1.7598548476447091],\n",
       " [48.963927105995, 4.471102266640307, 1.021772590852699],\n",
       " [49.60474731878916, 5.2527644960222855, 0.10230604360041795],\n",
       " [48.543625896440254, 4.885086793042106, 1.253495726450367],\n",
       " [47.4250101337148, 4.725120510586469, 2.428970985440768],\n",
       " [47.80989092202166, 5.896541551229772, 0.43368134668979086],\n",
       " [48.80545735950086, 6.37391178874805, 3.3786133756359726],\n",
       " [47.460716041205025, 6.08801867813559, 1.737813565884171],\n",
       " [46.30160874653914, 3.817212144732843, 1.8858589801351404],\n",
       " [48.750850242456096, 6.6123790822919, 0.937230828258316],\n",
       " [47.72138078555579, 4.090648689234226, 2.1435291540360444],\n",
       " [48.75119103614001, 6.7895668742684885, 1.9194184007718014],\n",
       " [48.03160376176223, 3.265308133668331, 0.12873551331783784],\n",
       " [48.19317354895491, 5.955113716123845, -0.31262112122063823],\n",
       " [46.89506100055016, 5.957879366569267, 1.1041490187703626],\n",
       " [48.14090732683802, 5.531909294743265, 2.5544256814356987],\n",
       " [48.016545617138256, 3.0539882513606624, 2.9282075665839793],\n",
       " [47.91222916983753, 4.505602707837163, 0.8966835229305659],\n",
       " [46.93975154187848, 4.435756703607304, 0.39806972362873994],\n",
       " [48.349036432065745, 3.8309029380829376, 0.815193987839472],\n",
       " [47.714080264515665, 4.626704809455006, 2.223911290511528],\n",
       " [48.72162134199905, 5.696010797202577, 0.6429515347733622],\n",
       " [47.062941957687144, 4.151676347718703, -0.4824249203092501],\n",
       " [49.13542496415399, 4.648566768506402, 0.8222250904388181],\n",
       " [48.046634935418815, 4.389726734280909, 2.2814496368726234],\n",
       " [47.56337068396496, 5.4638922816082625, -0.06866754844846268],\n",
       " [46.7685234480192, 4.772357239234166, -0.1262521310208966],\n",
       " [47.22267143444971, 3.9683401678822943, 1.8767268154506815],\n",
       " [48.7663861585032, 4.375240135804585, 3.0806119945869526],\n",
       " [48.37441086821287, 1.465167794919926, -0.22580597874896036],\n",
       " [48.15883857656685, 4.187137438612652, 1.9399964595368822],\n",
       " [46.69719314124286, 4.239810495988226, 0.44571205440536443],\n",
       " [47.615435676620365, 4.361398327179687, -0.07544334448396284],\n",
       " [50.312417576916914, 4.909171226994054, 1.0996101865579009],\n",
       " [47.42710138151241, 4.231556282703099, 1.0526666219795435],\n",
       " [47.98277000896475, 4.378001508456505, 0.7128729363951076],\n",
       " [48.08229546720257, 5.331834841072522, 1.820090499408701],\n",
       " [47.96183118960904, 2.8748451686736836, -0.33176763764395756],\n",
       " [46.700472266124486, 4.059081419364578, -0.5920876497346439],\n",
       " [48.31229931197127, 4.570620949567485, 0.28611998479538925],\n",
       " [49.80210558626148, 4.399173784343592, 1.2987462571146042]]"
      ]
     },
     "execution_count": 19,
     "metadata": {},
     "output_type": "execute_result"
    }
   ],
   "source": [
    "import folium\n",
    "import numpy as np\n",
    "from folium.plugins import HeatMap\n",
    "\n",
    "data = (np.random.normal(size=(100, 3)) *\n",
    "        np.array([[1, 1, 1]]) +\n",
    "        np.array([[48, 5, 1]])).tolist()\n",
    "data"
   ]
  },
  {
   "cell_type": "code",
   "execution_count": 20,
   "metadata": {},
   "outputs": [
    {
     "ename": "NameError",
     "evalue": "name 'data1' is not defined",
     "output_type": "error",
     "traceback": [
      "\u001b[1;31m---------------------------------------------------------------------------\u001b[0m",
      "\u001b[1;31mNameError\u001b[0m                                 Traceback (most recent call last)",
      "\u001b[1;32m<ipython-input-20-1032ddca7799>\u001b[0m in \u001b[0;36m<module>\u001b[1;34m()\u001b[0m\n\u001b[0;32m      1\u001b[0m \u001b[0mm\u001b[0m \u001b[1;33m=\u001b[0m \u001b[0mfolium\u001b[0m\u001b[1;33m.\u001b[0m\u001b[0mMap\u001b[0m\u001b[1;33m(\u001b[0m\u001b[1;33m[\u001b[0m\u001b[1;36m48.\u001b[0m\u001b[1;33m,\u001b[0m \u001b[1;36m5.\u001b[0m\u001b[1;33m]\u001b[0m\u001b[1;33m,\u001b[0m \u001b[0mtiles\u001b[0m\u001b[1;33m=\u001b[0m\u001b[1;34m'stamentoner'\u001b[0m\u001b[1;33m,\u001b[0m \u001b[0mzoom_start\u001b[0m\u001b[1;33m=\u001b[0m\u001b[1;36m6\u001b[0m\u001b[1;33m)\u001b[0m\u001b[1;33m\u001b[0m\u001b[1;33m\u001b[0m\u001b[0m\n\u001b[0;32m      2\u001b[0m \u001b[1;33m\u001b[0m\u001b[0m\n\u001b[1;32m----> 3\u001b[1;33m \u001b[0mHeatMap\u001b[0m\u001b[1;33m(\u001b[0m\u001b[0mdata1\u001b[0m\u001b[1;33m)\u001b[0m\u001b[1;33m.\u001b[0m\u001b[0madd_to\u001b[0m\u001b[1;33m(\u001b[0m\u001b[0mm\u001b[0m\u001b[1;33m)\u001b[0m\u001b[1;33m\u001b[0m\u001b[1;33m\u001b[0m\u001b[0m\n\u001b[0m\u001b[0;32m      4\u001b[0m \u001b[1;33m\u001b[0m\u001b[0m\n\u001b[0;32m      5\u001b[0m \u001b[0mm\u001b[0m\u001b[1;33m\u001b[0m\u001b[1;33m\u001b[0m\u001b[0m\n",
      "\u001b[1;31mNameError\u001b[0m: name 'data1' is not defined"
     ]
    }
   ],
   "source": [
    "m = folium.Map([48., 5.], tiles='stamentoner', zoom_start=6)\n",
    "\n",
    "HeatMap(data1).add_to(m)\n",
    "\n",
    "m"
   ]
  },
  {
   "cell_type": "code",
   "execution_count": null,
   "metadata": {},
   "outputs": [],
   "source": []
  },
  {
   "cell_type": "code",
   "execution_count": 21,
   "metadata": {},
   "outputs": [],
   "source": [
    "import numpy as np"
   ]
  },
  {
   "cell_type": "code",
   "execution_count": 22,
   "metadata": {},
   "outputs": [],
   "source": [
    "import numpy as np"
   ]
  },
  {
   "cell_type": "code",
   "execution_count": 23,
   "metadata": {},
   "outputs": [
    {
     "ename": "AttributeError",
     "evalue": "'list' object has no attribute 'shape'",
     "output_type": "error",
     "traceback": [
      "\u001b[1;31m---------------------------------------------------------------------------\u001b[0m",
      "\u001b[1;31mAttributeError\u001b[0m                            Traceback (most recent call last)",
      "\u001b[1;32m<ipython-input-23-ed8000b75028>\u001b[0m in \u001b[0;36m<module>\u001b[1;34m()\u001b[0m\n\u001b[0;32m     12\u001b[0m \u001b[1;31m# df = pd.read_csv(r\"D:\\data\\PM25-20180101.csv\")\u001b[0m\u001b[1;33m\u001b[0m\u001b[1;33m\u001b[0m\u001b[1;33m\u001b[0m\u001b[0m\n\u001b[0;32m     13\u001b[0m \u001b[1;31m# 获取数据个数\u001b[0m\u001b[1;33m\u001b[0m\u001b[1;33m\u001b[0m\u001b[1;33m\u001b[0m\u001b[0m\n\u001b[1;32m---> 14\u001b[1;33m \u001b[0mnum\u001b[0m \u001b[1;33m=\u001b[0m \u001b[0mdata\u001b[0m\u001b[1;33m.\u001b[0m\u001b[0mshape\u001b[0m\u001b[1;33m[\u001b[0m\u001b[1;36m0\u001b[0m\u001b[1;33m]\u001b[0m\u001b[1;33m\u001b[0m\u001b[1;33m\u001b[0m\u001b[0m\n\u001b[0m\u001b[0;32m     15\u001b[0m \u001b[1;31m# 获取纬度\u001b[0m\u001b[1;33m\u001b[0m\u001b[1;33m\u001b[0m\u001b[1;33m\u001b[0m\u001b[0m\n\u001b[0;32m     16\u001b[0m \u001b[0mlat\u001b[0m \u001b[1;33m=\u001b[0m \u001b[0mnp\u001b[0m\u001b[1;33m.\u001b[0m\u001b[0marray\u001b[0m\u001b[1;33m(\u001b[0m\u001b[0mdata\u001b[0m\u001b[1;33m[\u001b[0m\u001b[1;34m\"经度\"\u001b[0m\u001b[1;33m]\u001b[0m\u001b[1;33m[\u001b[0m\u001b[1;36m0\u001b[0m\u001b[1;33m:\u001b[0m\u001b[0mnum\u001b[0m\u001b[1;33m]\u001b[0m\u001b[1;33m)\u001b[0m\u001b[1;33m\u001b[0m\u001b[1;33m\u001b[0m\u001b[0m\n",
      "\u001b[1;31mAttributeError\u001b[0m: 'list' object has no attribute 'shape'"
     ]
    }
   ],
   "source": [
    "# # _*_ coding: utf-8 _*_\n",
    "# __author__ = 'xbr'\n",
    "# __date__ = '2019/1/9 15:47'\n",
    "import numpy as np\n",
    "import pandas as pd\n",
    "import folium\n",
    "import webbrowser\n",
    "from folium.plugins import HeatMap\n",
    " \n",
    " \n",
    "# 读取csv文件,以Dataframe形式保存\n",
    "# df = pd.read_csv(r\"D:\\data\\PM25-20180101.csv\")\n",
    "# 获取数据个数\n",
    "num = data.shape[0]\n",
    "# 获取纬度\n",
    "lat = np.array(data[\"经度\"][0:num])\n",
    "# 获取经度\n",
    "lon = np.array(data[\"纬度\"][0:num])\n",
    "# 获取PM2.5，转化为numpy浮点型\n",
    "pm25 = np.array(data[\"方位角\"][0:num], dtype=float)\n",
    "# 将数据制作成[lats, lons, weights]的形式\n",
    "data1 = [[lat[i], lon[i], pm25[i]] for i in range(num)]\n",
    "# 绘制Map，中心经纬度[32, 120],开始缩放程度是5倍\n",
    "map_osm = folium.Map(location=[32, 120], zoom_start=10)\n",
    "# 将热力图添加到前面建立的map里\n",
    "HeatMap(data1).add_to(map_osm)\n",
    " \n",
    "file_path = r\"D:\\AirQualityMap.html\"\n",
    "# 保存为html文件\n",
    "map_osm.save(file_path)\n",
    "# 默认浏览器打开\n",
    "webbrowser.open(file_path)\n"
   ]
  },
  {
   "cell_type": "code",
   "execution_count": 24,
   "metadata": {},
   "outputs": [
    {
     "ename": "NameError",
     "evalue": "name 'data1' is not defined",
     "output_type": "error",
     "traceback": [
      "\u001b[1;31m---------------------------------------------------------------------------\u001b[0m",
      "\u001b[1;31mNameError\u001b[0m                                 Traceback (most recent call last)",
      "\u001b[1;32m<ipython-input-24-6e25229a93f2>\u001b[0m in \u001b[0;36m<module>\u001b[1;34m()\u001b[0m\n\u001b[1;32m----> 1\u001b[1;33m \u001b[0mdata1\u001b[0m\u001b[1;33m\u001b[0m\u001b[1;33m\u001b[0m\u001b[0m\n\u001b[0m",
      "\u001b[1;31mNameError\u001b[0m: name 'data1' is not defined"
     ]
    }
   ],
   "source": [
    "data1"
   ]
  },
  {
   "cell_type": "code",
   "execution_count": null,
   "metadata": {},
   "outputs": [],
   "source": []
  },
  {
   "cell_type": "code",
   "execution_count": 25,
   "metadata": {},
   "outputs": [
    {
     "ename": "NameError",
     "evalue": "name 'each' is not defined",
     "output_type": "error",
     "traceback": [
      "\u001b[1;31m---------------------------------------------------------------------------\u001b[0m",
      "\u001b[1;31mNameError\u001b[0m                                 Traceback (most recent call last)",
      "\u001b[1;32m<ipython-input-25-29b6520e245c>\u001b[0m in \u001b[0;36m<module>\u001b[1;34m()\u001b[0m\n\u001b[1;32m----> 1\u001b[1;33m \u001b[0meach\u001b[0m\u001b[1;33m[\u001b[0m\u001b[1;36m1\u001b[0m\u001b[1;33m]\u001b[0m\u001b[1;33m\u001b[0m\u001b[1;33m\u001b[0m\u001b[0m\n\u001b[0m",
      "\u001b[1;31mNameError\u001b[0m: name 'each' is not defined"
     ]
    }
   ],
   "source": [
    "each[1]"
   ]
  },
  {
   "cell_type": "code",
   "execution_count": 26,
   "metadata": {},
   "outputs": [
    {
     "ename": "AttributeError",
     "evalue": "'list' object has no attribute 'iloc'",
     "output_type": "error",
     "traceback": [
      "\u001b[1;31m---------------------------------------------------------------------------\u001b[0m",
      "\u001b[1;31mAttributeError\u001b[0m                            Traceback (most recent call last)",
      "\u001b[1;32m<ipython-input-26-dd938d301044>\u001b[0m in \u001b[0;36m<module>\u001b[1;34m()\u001b[0m\n\u001b[0;32m     14\u001b[0m \u001b[1;31m# add a marker for every record in the filtered data, use a clustered view\u001b[0m\u001b[1;33m\u001b[0m\u001b[1;33m\u001b[0m\u001b[1;33m\u001b[0m\u001b[0m\n\u001b[0;32m     15\u001b[0m \u001b[1;32mfor\u001b[0m \u001b[0mi\u001b[0m \u001b[1;32min\u001b[0m \u001b[0mrange\u001b[0m\u001b[1;33m(\u001b[0m\u001b[1;36m0\u001b[0m\u001b[1;33m,\u001b[0m\u001b[0mlen\u001b[0m\u001b[1;33m(\u001b[0m\u001b[0mdata\u001b[0m\u001b[1;33m)\u001b[0m\u001b[1;33m)\u001b[0m\u001b[1;33m:\u001b[0m\u001b[1;33m\u001b[0m\u001b[1;33m\u001b[0m\u001b[0m\n\u001b[1;32m---> 16\u001b[1;33m     \u001b[0mfolium\u001b[0m\u001b[1;33m.\u001b[0m\u001b[0mMarker\u001b[0m\u001b[1;33m(\u001b[0m\u001b[1;33m[\u001b[0m\u001b[0mdata\u001b[0m\u001b[1;33m.\u001b[0m\u001b[0miloc\u001b[0m\u001b[1;33m[\u001b[0m\u001b[0mi\u001b[0m\u001b[1;33m]\u001b[0m\u001b[1;33m[\u001b[0m\u001b[1;34m'经度'\u001b[0m\u001b[1;33m]\u001b[0m\u001b[1;33m,\u001b[0m \u001b[0mdata\u001b[0m\u001b[1;33m.\u001b[0m\u001b[0miloc\u001b[0m\u001b[1;33m[\u001b[0m\u001b[0mi\u001b[0m\u001b[1;33m]\u001b[0m\u001b[1;33m[\u001b[0m\u001b[1;34m'纬度'\u001b[0m\u001b[1;33m]\u001b[0m\u001b[1;33m]\u001b[0m\u001b[1;33m,\u001b[0m \u001b[0mpopup\u001b[0m\u001b[1;33m=\u001b[0m\u001b[0mdata\u001b[0m\u001b[1;33m.\u001b[0m\u001b[0miloc\u001b[0m\u001b[1;33m[\u001b[0m\u001b[0mi\u001b[0m\u001b[1;33m]\u001b[0m\u001b[1;33m[\u001b[0m\u001b[1;34m'CGI'\u001b[0m\u001b[1;33m]\u001b[0m\u001b[1;33m)\u001b[0m\u001b[1;33m.\u001b[0m\u001b[0madd_to\u001b[0m\u001b[1;33m(\u001b[0m\u001b[0mm\u001b[0m\u001b[1;33m)\u001b[0m\u001b[1;33m\u001b[0m\u001b[1;33m\u001b[0m\u001b[0m\n\u001b[0m\u001b[0;32m     17\u001b[0m \u001b[1;33m\u001b[0m\u001b[0m\n\u001b[0;32m     18\u001b[0m \u001b[1;31m# for each in crimedata[0:MAX_RECORDS].iterrows():\u001b[0m\u001b[1;33m\u001b[0m\u001b[1;33m\u001b[0m\u001b[1;33m\u001b[0m\u001b[0m\n",
      "\u001b[1;31mAttributeError\u001b[0m: 'list' object has no attribute 'iloc'"
     ]
    }
   ],
   "source": [
    "import folium\n",
    "import pandas as pd\n",
    "\n",
    "SF_COORDINATES = (37.76, -122.45)\n",
    "crimedata = data.copy()\n",
    "# crimedata = pd.read_csv('SFPD_Incidents_-_Current_Year__2015_.csv')\n",
    "\n",
    "# for speed purposes\n",
    "MAX_RECORDS = 1000\n",
    " \n",
    "# create empty map zoomed in on San Francisco\n",
    "m = folium.Map(location=SF_COORDINATES, zoom_start=12)\n",
    "\n",
    "# add a marker for every record in the filtered data, use a clustered view\n",
    "for i in range(0,len(data)):\n",
    "    folium.Marker([data.iloc[i]['经度'], data.iloc[i]['纬度']], popup=data.iloc[i]['CGI']).add_to(m)\n",
    "\n",
    "# for each in crimedata[0:MAX_RECORDS].iterrows():\n",
    "#     map.simple_marker(\n",
    "#         location = [each[1]['纬度'],each[1]['经度']], \n",
    "#         clustered_marker = True)\n",
    " \n",
    "display(map)"
   ]
  },
  {
   "cell_type": "code",
   "execution_count": null,
   "metadata": {},
   "outputs": [],
   "source": []
  },
  {
   "cell_type": "code",
   "execution_count": null,
   "metadata": {},
   "outputs": [],
   "source": []
  },
  {
   "cell_type": "code",
   "execution_count": 27,
   "metadata": {},
   "outputs": [],
   "source": [
    "# import libraries\n",
    "import folium\n",
    "import pandas as pd\n",
    "\n",
    "# Make a data frame with dots to show on the map\n",
    "data = pd.DataFrame({\n",
    "'lat':[-58, 2, 145, 30.32, -4.03, -73.57, 36.82, -38.5],\n",
    "'lon':[-34, 49, -38, 59.93, 5.33, 45.52, -1.29, -12.97],\n",
    "'name':['Buenos Aires', 'Paris', 'melbourne', 'St Petersbourg', 'Abidjan', 'Montreal', 'Nairobi', 'Salvador']\n",
    "})"
   ]
  },
  {
   "cell_type": "code",
   "execution_count": 28,
   "metadata": {},
   "outputs": [
    {
     "data": {
      "text/html": [
       "<div>\n",
       "<style scoped>\n",
       "    .dataframe tbody tr th:only-of-type {\n",
       "        vertical-align: middle;\n",
       "    }\n",
       "\n",
       "    .dataframe tbody tr th {\n",
       "        vertical-align: top;\n",
       "    }\n",
       "\n",
       "    .dataframe thead th {\n",
       "        text-align: right;\n",
       "    }\n",
       "</style>\n",
       "<table border=\"1\" class=\"dataframe\">\n",
       "  <thead>\n",
       "    <tr style=\"text-align: right;\">\n",
       "      <th></th>\n",
       "      <th>lat</th>\n",
       "      <th>lon</th>\n",
       "      <th>name</th>\n",
       "    </tr>\n",
       "  </thead>\n",
       "  <tbody>\n",
       "    <tr>\n",
       "      <th>0</th>\n",
       "      <td>-58.00</td>\n",
       "      <td>-34.00</td>\n",
       "      <td>Buenos Aires</td>\n",
       "    </tr>\n",
       "    <tr>\n",
       "      <th>1</th>\n",
       "      <td>2.00</td>\n",
       "      <td>49.00</td>\n",
       "      <td>Paris</td>\n",
       "    </tr>\n",
       "    <tr>\n",
       "      <th>2</th>\n",
       "      <td>145.00</td>\n",
       "      <td>-38.00</td>\n",
       "      <td>melbourne</td>\n",
       "    </tr>\n",
       "    <tr>\n",
       "      <th>3</th>\n",
       "      <td>30.32</td>\n",
       "      <td>59.93</td>\n",
       "      <td>St Petersbourg</td>\n",
       "    </tr>\n",
       "    <tr>\n",
       "      <th>4</th>\n",
       "      <td>-4.03</td>\n",
       "      <td>5.33</td>\n",
       "      <td>Abidjan</td>\n",
       "    </tr>\n",
       "    <tr>\n",
       "      <th>5</th>\n",
       "      <td>-73.57</td>\n",
       "      <td>45.52</td>\n",
       "      <td>Montreal</td>\n",
       "    </tr>\n",
       "    <tr>\n",
       "      <th>6</th>\n",
       "      <td>36.82</td>\n",
       "      <td>-1.29</td>\n",
       "      <td>Nairobi</td>\n",
       "    </tr>\n",
       "    <tr>\n",
       "      <th>7</th>\n",
       "      <td>-38.50</td>\n",
       "      <td>-12.97</td>\n",
       "      <td>Salvador</td>\n",
       "    </tr>\n",
       "  </tbody>\n",
       "</table>\n",
       "</div>"
      ],
      "text/plain": [
       "      lat    lon            name\n",
       "0  -58.00 -34.00    Buenos Aires\n",
       "1    2.00  49.00           Paris\n",
       "2  145.00 -38.00       melbourne\n",
       "3   30.32  59.93  St Petersbourg\n",
       "4   -4.03   5.33         Abidjan\n",
       "5  -73.57  45.52        Montreal\n",
       "6   36.82  -1.29         Nairobi\n",
       "7  -38.50 -12.97        Salvador"
      ]
     },
     "execution_count": 28,
     "metadata": {},
     "output_type": "execute_result"
    }
   ],
   "source": [
    "data"
   ]
  },
  {
   "cell_type": "code",
   "execution_count": 38,
   "metadata": {
    "scrolled": false
   },
   "outputs": [
    {
     "data": {
      "text/html": [
       "<div style=\"width:100%;\"><div style=\"position:relative;width:100%;height:0;padding-bottom:60%;\"><iframe src=\"data:text/html;charset=utf-8;base64,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\" style=\"position:absolute;width:100%;height:100%;left:0;top:0;border:none !important;\" allowfullscreen webkitallowfullscreen mozallowfullscreen></iframe></div></div>"
      ],
      "text/plain": [
       "<folium.folium.Map at 0xac31b70>"
      ]
     },
     "execution_count": 38,
     "metadata": {},
     "output_type": "execute_result"
    }
   ],
   "source": [
    "# Make an empty map\n",
    "m = folium.Map(location=[20, 0], tiles=\"Mapbox Bright\", zoom_start=2)\n",
    "\n",
    "# I can add marker one by one on the map\n",
    "for i in range(0,len(data)):\n",
    "    folium.Marker([data.iloc[i]['lon'], data.iloc[i]['lat']], popup=data.iloc[i]['name']).add_to(m)\n",
    "\n",
    "# Save it as html\n",
    "m"
   ]
  },
  {
   "cell_type": "code",
   "execution_count": null,
   "metadata": {},
   "outputs": [],
   "source": []
  },
  {
   "cell_type": "code",
   "execution_count": null,
   "metadata": {},
   "outputs": [],
   "source": []
  },
  {
   "cell_type": "code",
   "execution_count": 37,
   "metadata": {},
   "outputs": [
    {
     "data": {
      "text/html": [
       "<div style=\"width:100%;\"><div style=\"position:relative;width:100%;height:0;padding-bottom:60%;\"><iframe src=\"data:text/html;charset=utf-8;base64,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\" style=\"position:absolute;width:100%;height:100%;left:0;top:0;border:none !important;\" allowfullscreen webkitallowfullscreen mozallowfullscreen></iframe></div></div>"
      ],
      "text/plain": [
       "<folium.folium.Map at 0xacab898>"
      ]
     },
     "execution_count": 37,
     "metadata": {},
     "output_type": "execute_result"
    }
   ],
   "source": [
    "import  folium\n",
    "import  webbrowser\n",
    "m=folium.Map(location=[40.009867,116.485994],zoom_start=10) # 绘制地图，确定聚焦点\n",
    "\n",
    "folium.Marker([40.2,116.7],popup='<b>浮标上面的那个文字</b>').add_to(m)  # 定一个点，放到地图m上\n",
    "folium.Marker([40.22,116.72],popup='<b>浮标上面的那个文字</b>',icon=folium.Icon(color='red')).add_to(m)\n",
    "# 把浮标变成红色\n",
    "folium.Marker([40.24,116.74],popup='<b>浮标上面的那个文字</b>',icon=folium.Icon(color='green',icon='info-sign')).add_to(m)\n",
    "# 浮标改图样\n",
    "\n",
    "#标记一个空心的圈\n",
    "folium.Circle(\n",
    "    location=[40.2,117.7],\n",
    "    radius=10000,\n",
    "    color='crimson',\n",
    "    popup='popup',\n",
    "    fill=False\n",
    ").add_to(m)\n",
    "\n",
    "#标记一个实心圆\n",
    "folium.CircleMarker(\n",
    "    location=[39.2,117.7],\n",
    "    radius=100,\n",
    "    popup='popup',\n",
    "    color='#DC143C',#圈的颜色\n",
    "    fill=True,\n",
    "    fill_color='#6495ED' #填充颜色\n",
    ").add_to(m)\n",
    "m.save('f1.html')\n",
    "webbrowser.open('f1.html')\n",
    "m\n"
   ]
  },
  {
   "cell_type": "code",
   "execution_count": 31,
   "metadata": {
    "scrolled": true
   },
   "outputs": [
    {
     "ename": "FileNotFoundError",
     "evalue": "[Errno 2] No such file or directory: 'D:/Python/File/Cities2015.xlsx'",
     "output_type": "error",
     "traceback": [
      "\u001b[1;31m---------------------------------------------------------------------------\u001b[0m",
      "\u001b[1;31mFileNotFoundError\u001b[0m                         Traceback (most recent call last)",
      "\u001b[1;32m<ipython-input-31-9638a68c5b4b>\u001b[0m in \u001b[0;36m<module>\u001b[1;34m()\u001b[0m\n\u001b[0;32m      8\u001b[0m \u001b[1;33m\u001b[0m\u001b[0m\n\u001b[0;32m      9\u001b[0m \u001b[1;31m#数据导入：\u001b[0m\u001b[1;33m\u001b[0m\u001b[1;33m\u001b[0m\u001b[1;33m\u001b[0m\u001b[0m\n\u001b[1;32m---> 10\u001b[1;33m \u001b[0mfull\u001b[0m \u001b[1;33m=\u001b[0m \u001b[0mpd\u001b[0m\u001b[1;33m.\u001b[0m\u001b[0mread_excel\u001b[0m\u001b[1;33m(\u001b[0m\u001b[1;34m\"D:/Python/File/Cities2015.xlsx\"\u001b[0m\u001b[1;33m)\u001b[0m\u001b[1;33m\u001b[0m\u001b[1;33m\u001b[0m\u001b[0m\n\u001b[0m\u001b[0;32m     11\u001b[0m \u001b[0mfull\u001b[0m \u001b[1;33m=\u001b[0m \u001b[0mfull\u001b[0m\u001b[1;33m.\u001b[0m\u001b[0mdropna\u001b[0m\u001b[1;33m(\u001b[0m\u001b[1;33m)\u001b[0m\u001b[1;33m\u001b[0m\u001b[1;33m\u001b[0m\u001b[0m\n\u001b[0;32m     12\u001b[0m \u001b[1;33m\u001b[0m\u001b[0m\n",
      "\u001b[1;32mC:\\ProgramData\\Anaconda3\\lib\\site-packages\\pandas\\util\\_decorators.py\u001b[0m in \u001b[0;36mwrapper\u001b[1;34m(*args, **kwargs)\u001b[0m\n\u001b[0;32m    176\u001b[0m                 \u001b[1;32melse\u001b[0m\u001b[1;33m:\u001b[0m\u001b[1;33m\u001b[0m\u001b[1;33m\u001b[0m\u001b[0m\n\u001b[0;32m    177\u001b[0m                     \u001b[0mkwargs\u001b[0m\u001b[1;33m[\u001b[0m\u001b[0mnew_arg_name\u001b[0m\u001b[1;33m]\u001b[0m \u001b[1;33m=\u001b[0m \u001b[0mnew_arg_value\u001b[0m\u001b[1;33m\u001b[0m\u001b[1;33m\u001b[0m\u001b[0m\n\u001b[1;32m--> 178\u001b[1;33m             \u001b[1;32mreturn\u001b[0m \u001b[0mfunc\u001b[0m\u001b[1;33m(\u001b[0m\u001b[1;33m*\u001b[0m\u001b[0margs\u001b[0m\u001b[1;33m,\u001b[0m \u001b[1;33m**\u001b[0m\u001b[0mkwargs\u001b[0m\u001b[1;33m)\u001b[0m\u001b[1;33m\u001b[0m\u001b[1;33m\u001b[0m\u001b[0m\n\u001b[0m\u001b[0;32m    179\u001b[0m         \u001b[1;32mreturn\u001b[0m \u001b[0mwrapper\u001b[0m\u001b[1;33m\u001b[0m\u001b[1;33m\u001b[0m\u001b[0m\n\u001b[0;32m    180\u001b[0m     \u001b[1;32mreturn\u001b[0m \u001b[0m_deprecate_kwarg\u001b[0m\u001b[1;33m\u001b[0m\u001b[1;33m\u001b[0m\u001b[0m\n",
      "\u001b[1;32mC:\\ProgramData\\Anaconda3\\lib\\site-packages\\pandas\\util\\_decorators.py\u001b[0m in \u001b[0;36mwrapper\u001b[1;34m(*args, **kwargs)\u001b[0m\n\u001b[0;32m    176\u001b[0m                 \u001b[1;32melse\u001b[0m\u001b[1;33m:\u001b[0m\u001b[1;33m\u001b[0m\u001b[1;33m\u001b[0m\u001b[0m\n\u001b[0;32m    177\u001b[0m                     \u001b[0mkwargs\u001b[0m\u001b[1;33m[\u001b[0m\u001b[0mnew_arg_name\u001b[0m\u001b[1;33m]\u001b[0m \u001b[1;33m=\u001b[0m \u001b[0mnew_arg_value\u001b[0m\u001b[1;33m\u001b[0m\u001b[1;33m\u001b[0m\u001b[0m\n\u001b[1;32m--> 178\u001b[1;33m             \u001b[1;32mreturn\u001b[0m \u001b[0mfunc\u001b[0m\u001b[1;33m(\u001b[0m\u001b[1;33m*\u001b[0m\u001b[0margs\u001b[0m\u001b[1;33m,\u001b[0m \u001b[1;33m**\u001b[0m\u001b[0mkwargs\u001b[0m\u001b[1;33m)\u001b[0m\u001b[1;33m\u001b[0m\u001b[1;33m\u001b[0m\u001b[0m\n\u001b[0m\u001b[0;32m    179\u001b[0m         \u001b[1;32mreturn\u001b[0m \u001b[0mwrapper\u001b[0m\u001b[1;33m\u001b[0m\u001b[1;33m\u001b[0m\u001b[0m\n\u001b[0;32m    180\u001b[0m     \u001b[1;32mreturn\u001b[0m \u001b[0m_deprecate_kwarg\u001b[0m\u001b[1;33m\u001b[0m\u001b[1;33m\u001b[0m\u001b[0m\n",
      "\u001b[1;32mC:\\ProgramData\\Anaconda3\\lib\\site-packages\\pandas\\io\\excel.py\u001b[0m in \u001b[0;36mread_excel\u001b[1;34m(io, sheet_name, header, names, index_col, usecols, squeeze, dtype, engine, converters, true_values, false_values, skiprows, nrows, na_values, parse_dates, date_parser, thousands, comment, skipfooter, convert_float, **kwds)\u001b[0m\n\u001b[0;32m    305\u001b[0m \u001b[1;33m\u001b[0m\u001b[0m\n\u001b[0;32m    306\u001b[0m     \u001b[1;32mif\u001b[0m \u001b[1;32mnot\u001b[0m \u001b[0misinstance\u001b[0m\u001b[1;33m(\u001b[0m\u001b[0mio\u001b[0m\u001b[1;33m,\u001b[0m \u001b[0mExcelFile\u001b[0m\u001b[1;33m)\u001b[0m\u001b[1;33m:\u001b[0m\u001b[1;33m\u001b[0m\u001b[1;33m\u001b[0m\u001b[0m\n\u001b[1;32m--> 307\u001b[1;33m         \u001b[0mio\u001b[0m \u001b[1;33m=\u001b[0m \u001b[0mExcelFile\u001b[0m\u001b[1;33m(\u001b[0m\u001b[0mio\u001b[0m\u001b[1;33m,\u001b[0m \u001b[0mengine\u001b[0m\u001b[1;33m=\u001b[0m\u001b[0mengine\u001b[0m\u001b[1;33m)\u001b[0m\u001b[1;33m\u001b[0m\u001b[1;33m\u001b[0m\u001b[0m\n\u001b[0m\u001b[0;32m    308\u001b[0m \u001b[1;33m\u001b[0m\u001b[0m\n\u001b[0;32m    309\u001b[0m     return io.parse(\n",
      "\u001b[1;32mC:\\ProgramData\\Anaconda3\\lib\\site-packages\\pandas\\io\\excel.py\u001b[0m in \u001b[0;36m__init__\u001b[1;34m(self, io, **kwds)\u001b[0m\n\u001b[0;32m    392\u001b[0m             \u001b[0mself\u001b[0m\u001b[1;33m.\u001b[0m\u001b[0mbook\u001b[0m \u001b[1;33m=\u001b[0m \u001b[0mxlrd\u001b[0m\u001b[1;33m.\u001b[0m\u001b[0mopen_workbook\u001b[0m\u001b[1;33m(\u001b[0m\u001b[0mfile_contents\u001b[0m\u001b[1;33m=\u001b[0m\u001b[0mdata\u001b[0m\u001b[1;33m)\u001b[0m\u001b[1;33m\u001b[0m\u001b[1;33m\u001b[0m\u001b[0m\n\u001b[0;32m    393\u001b[0m         \u001b[1;32melif\u001b[0m \u001b[0misinstance\u001b[0m\u001b[1;33m(\u001b[0m\u001b[0mself\u001b[0m\u001b[1;33m.\u001b[0m\u001b[0m_io\u001b[0m\u001b[1;33m,\u001b[0m \u001b[0mcompat\u001b[0m\u001b[1;33m.\u001b[0m\u001b[0mstring_types\u001b[0m\u001b[1;33m)\u001b[0m\u001b[1;33m:\u001b[0m\u001b[1;33m\u001b[0m\u001b[1;33m\u001b[0m\u001b[0m\n\u001b[1;32m--> 394\u001b[1;33m             \u001b[0mself\u001b[0m\u001b[1;33m.\u001b[0m\u001b[0mbook\u001b[0m \u001b[1;33m=\u001b[0m \u001b[0mxlrd\u001b[0m\u001b[1;33m.\u001b[0m\u001b[0mopen_workbook\u001b[0m\u001b[1;33m(\u001b[0m\u001b[0mself\u001b[0m\u001b[1;33m.\u001b[0m\u001b[0m_io\u001b[0m\u001b[1;33m)\u001b[0m\u001b[1;33m\u001b[0m\u001b[1;33m\u001b[0m\u001b[0m\n\u001b[0m\u001b[0;32m    395\u001b[0m         \u001b[1;32melse\u001b[0m\u001b[1;33m:\u001b[0m\u001b[1;33m\u001b[0m\u001b[1;33m\u001b[0m\u001b[0m\n\u001b[0;32m    396\u001b[0m             raise ValueError('Must explicitly set engine if not passing in'\n",
      "\u001b[1;32mC:\\ProgramData\\Anaconda3\\lib\\site-packages\\xlrd\\__init__.py\u001b[0m in \u001b[0;36mopen_workbook\u001b[1;34m(filename, logfile, verbosity, use_mmap, file_contents, encoding_override, formatting_info, on_demand, ragged_rows)\u001b[0m\n\u001b[0;32m    109\u001b[0m     \u001b[1;32melse\u001b[0m\u001b[1;33m:\u001b[0m\u001b[1;33m\u001b[0m\u001b[1;33m\u001b[0m\u001b[0m\n\u001b[0;32m    110\u001b[0m         \u001b[0mfilename\u001b[0m \u001b[1;33m=\u001b[0m \u001b[0mos\u001b[0m\u001b[1;33m.\u001b[0m\u001b[0mpath\u001b[0m\u001b[1;33m.\u001b[0m\u001b[0mexpanduser\u001b[0m\u001b[1;33m(\u001b[0m\u001b[0mfilename\u001b[0m\u001b[1;33m)\u001b[0m\u001b[1;33m\u001b[0m\u001b[1;33m\u001b[0m\u001b[0m\n\u001b[1;32m--> 111\u001b[1;33m         \u001b[1;32mwith\u001b[0m \u001b[0mopen\u001b[0m\u001b[1;33m(\u001b[0m\u001b[0mfilename\u001b[0m\u001b[1;33m,\u001b[0m \u001b[1;34m\"rb\"\u001b[0m\u001b[1;33m)\u001b[0m \u001b[1;32mas\u001b[0m \u001b[0mf\u001b[0m\u001b[1;33m:\u001b[0m\u001b[1;33m\u001b[0m\u001b[1;33m\u001b[0m\u001b[0m\n\u001b[0m\u001b[0;32m    112\u001b[0m             \u001b[0mpeek\u001b[0m \u001b[1;33m=\u001b[0m \u001b[0mf\u001b[0m\u001b[1;33m.\u001b[0m\u001b[0mread\u001b[0m\u001b[1;33m(\u001b[0m\u001b[0mpeeksz\u001b[0m\u001b[1;33m)\u001b[0m\u001b[1;33m\u001b[0m\u001b[1;33m\u001b[0m\u001b[0m\n\u001b[0;32m    113\u001b[0m     \u001b[1;32mif\u001b[0m \u001b[0mpeek\u001b[0m \u001b[1;33m==\u001b[0m \u001b[1;34mb\"PK\\x03\\x04\"\u001b[0m\u001b[1;33m:\u001b[0m \u001b[1;31m# a ZIP file\u001b[0m\u001b[1;33m\u001b[0m\u001b[1;33m\u001b[0m\u001b[0m\n",
      "\u001b[1;31mFileNotFoundError\u001b[0m: [Errno 2] No such file or directory: 'D:/Python/File/Cities2015.xlsx'"
     ]
    }
   ],
   "source": [
    "import pandas as pd\n",
    "import numpy as np\n",
    "import os\n",
    "import folium\n",
    "from folium import plugins\n",
    "import webbrowser\n",
    "import geopandas as gp\n",
    "\n",
    "#数据导入：\n",
    "full = pd.read_excel(\"D:/Python/File/Cities2015.xlsx\")\n",
    "full = full.dropna()\n",
    "\n",
    "#创建地图对象：\n",
    "schools_map = folium.Map(location=[full['lat'].mean(), full['lon'].mean()], zoom_start=10)\n",
    "marker_cluster = plugins.MarkerCluster().add_to(schools_map) \n",
    "\n",
    "#标注数据点：\n",
    "for name,row in full.iterrows():\n",
    "     folium.Marker([row[\"lat\"], row[\"lon\"]], popup=\"{0}:{1}\".format(row[\"cities\"], row[\"GDP\"])).add_to(marker_cluster)     \n",
    "#逐行读取经纬度，数值，并且打点\n",
    "#folium.RegularPolygonMarker([row[\"lat\"], row[\"lon\"]], popup=\"{0}:{1}\".format(row[\"cities\"], row[\"GDP\"]),number_of_sides=10,radius=5).add_to(marker_cluster)\n",
    "\n",
    "schools_map.save('schools_map.html') #保存到本地\n",
    "webbrowser.open('schools_map.html')  #在浏览器中打开\n"
   ]
  },
  {
   "cell_type": "code",
   "execution_count": null,
   "metadata": {},
   "outputs": [],
   "source": [
    "mt.pip('folium')"
   ]
  },
  {
   "cell_type": "code",
   "execution_count": null,
   "metadata": {},
   "outputs": [],
   "source": [
    "width = 700\n",
    "height = 500\n",
    "def createPoly( n, r, s):\n",
    "    polygon = QtGui.QPolygonF()\n",
    "    w = 360/n                                                       # angle per step\n",
    "    for i in range(n):                                              # add the points of polygon\n",
    "        t = w*i + s\n",
    "        x = r*math.cos(math.radians(t))\n",
    "        y = r*math.sin(math.radians(t))\n",
    "        polygon.append(QtCore.QPointF(width/2 +x, height/2 + y))\n",
    "\n",
    "    return polygon"
   ]
  },
  {
   "cell_type": "code",
   "execution_count": null,
   "metadata": {},
   "outputs": [],
   "source": [
    "k=createPoly(8,150,0)"
   ]
  },
  {
   "cell_type": "code",
   "execution_count": 32,
   "metadata": {},
   "outputs": [
    {
     "ename": "NameError",
     "evalue": "name 'k' is not defined",
     "output_type": "error",
     "traceback": [
      "\u001b[1;31m---------------------------------------------------------------------------\u001b[0m",
      "\u001b[1;31mNameError\u001b[0m                                 Traceback (most recent call last)",
      "\u001b[1;32m<ipython-input-32-1dcb3f107d3e>\u001b[0m in \u001b[0;36m<module>\u001b[1;34m()\u001b[0m\n\u001b[1;32m----> 1\u001b[1;33m \u001b[1;33m[\u001b[0m\u001b[0mi\u001b[0m \u001b[1;32mfor\u001b[0m \u001b[0mi\u001b[0m \u001b[1;32min\u001b[0m \u001b[0mk\u001b[0m\u001b[1;33m]\u001b[0m\u001b[1;33m\u001b[0m\u001b[1;33m\u001b[0m\u001b[0m\n\u001b[0m",
      "\u001b[1;31mNameError\u001b[0m: name 'k' is not defined"
     ]
    }
   ],
   "source": [
    "[i for i in k]"
   ]
  },
  {
   "cell_type": "code",
   "execution_count": null,
   "metadata": {},
   "outputs": [],
   "source": []
  },
  {
   "cell_type": "code",
   "execution_count": 33,
   "metadata": {},
   "outputs": [],
   "source": [
    "mt.pip('shapefile')"
   ]
  },
  {
   "cell_type": "code",
   "execution_count": 21,
   "metadata": {},
   "outputs": [],
   "source": [
    "a=['a','b','c']"
   ]
  },
  {
   "cell_type": "code",
   "execution_count": 22,
   "metadata": {},
   "outputs": [
    {
     "data": {
      "text/plain": [
       "'c'"
      ]
     },
     "execution_count": 22,
     "metadata": {},
     "output_type": "execute_result"
    }
   ],
   "source": [
    "a[POP]"
   ]
  },
  {
   "cell_type": "code",
   "execution_count": 3,
   "metadata": {},
   "outputs": [],
   "source": [
    "NAME = 0\n",
    "POINTS = 1\n",
    "POP = 2\n",
    "\n",
    "# Create the state layer\n",
    "state = [\"COLORADO\", [[-109, 37], [-109, 41], [-102, 41], [-102, 37]], 5187582]\n",
    "\n",
    "# Cities layer list\n",
    "# city = [name, [point], population]\n",
    "cities = []\n",
    "# Add Denver\n",
    "cities.append([\"DENVER\", [-104.98, 39.74], 634265])\n",
    "# Add Boulder\n",
    "cities.append([\"BOULDER\", [-105.27, 40.02], 98889])\n",
    "# Add Durango\n",
    "cities.append([\"DURANGO\", [-107.88, 37.28], 17069])\n",
    "\n",
    "# MAP GRAPHICS RENDERING\n",
    "map_width = 800\n",
    "map_height = 500\n",
    "\n",
    "# State Bounding Box\n",
    "# Use Python min/max function to get bounding box\n",
    "minx = 180\n",
    "maxx = -180\n",
    "miny = 90\n",
    "maxy = -90\n",
    "for x, y in state[POINTS]:\n",
    "    if x < minx:\n",
    "        minx = x\n",
    "    elif x > maxx:\n",
    "        maxx = x\n",
    "    if y < miny:\n",
    "        miny = y\n",
    "    elif y > maxy:\n",
    "        maxy = y\n",
    "\n",
    "        \n",
    "# Get earth distance on each axis\n",
    "dist_x = maxx - minx\n",
    "dist_y = maxy - miny\n",
    "\n",
    "# Scaling ratio each axis\n",
    "# to map points from world to screen\n",
    "x_ratio = map_width / dist_x\n",
    "y_ratio = map_height / dist_y\n",
    "\n",
    "\n",
    "def convert(point):\n",
    "    \"\"\"Convert lat/lon to screen coordinates\"\"\"\n",
    "    lon = point[0]\n",
    "    lat = point[1]\n",
    "    x = map_width - ((maxx - lon) * x_ratio)\n",
    "    y = map_height - ((maxy - lat) * y_ratio)\n",
    "    # Python turtle graphics start in the middle of the screen\n",
    "    # so we must offset the points so they are centered\n",
    "    x = x - (map_width/2)\n",
    "    y = y - (map_height/2)\n",
    "    return [x, y]"
   ]
  },
  {
   "cell_type": "code",
   "execution_count": 20,
   "metadata": {},
   "outputs": [
    {
     "data": {
      "text/plain": [
       "['DURANGO', [-107.88, 37.28], 17069]"
      ]
     },
     "execution_count": 20,
     "metadata": {},
     "output_type": "execute_result"
    }
   ],
   "source": [
    "cities[POP]"
   ]
  },
  {
   "cell_type": "code",
   "execution_count": 17,
   "metadata": {},
   "outputs": [],
   "source": [
    "biggest_city = max(cities, key=lambda city: city[POP])"
   ]
  },
  {
   "cell_type": "code",
   "execution_count": 18,
   "metadata": {},
   "outputs": [
    {
     "data": {
      "text/plain": [
       "['DENVER', [-104.98, 39.74], 634265]"
      ]
     },
     "execution_count": 18,
     "metadata": {},
     "output_type": "execute_result"
    }
   ],
   "source": [
    "biggest_city"
   ]
  },
  {
   "cell_type": "code",
   "execution_count": 12,
   "metadata": {},
   "outputs": [],
   "source": [
    "import turtle as t"
   ]
  },
  {
   "cell_type": "code",
   "execution_count": 13,
   "metadata": {},
   "outputs": [],
   "source": [
    "t.up()\n",
    "t.down()\n",
    "t.goto(0,250)\n",
    "t.goto(200,250)\n",
    "t.goto(-200,250)\n",
    "t.goto(-200,-250)"
   ]
  },
  {
   "cell_type": "code",
   "execution_count": 16,
   "metadata": {},
   "outputs": [
    {
     "data": {
      "text/plain": [
       "'COLORADO'"
      ]
     },
     "execution_count": 16,
     "metadata": {},
     "output_type": "execute_result"
    }
   ],
   "source": [
    "state[NAME]"
   ]
  },
  {
   "cell_type": "code",
   "execution_count": 7,
   "metadata": {},
   "outputs": [],
   "source": [
    "# Draw the state\n",
    "t.up()\n",
    "first_pixel = None"
   ]
  },
  {
   "cell_type": "code",
   "execution_count": null,
   "metadata": {
    "scrolled": true
   },
   "outputs": [],
   "source": [
    "for point in state[POINTS]:\n",
    "    pixel = convert(point)\n",
    "    print(pixel)\n",
    "    print(point)\n",
    "    sdfdsf\n",
    "    if not first_pixel:\n",
    "        first_pixel = pixel\n",
    "    t.goto(pixel)\n",
    "    t.down()"
   ]
  },
  {
   "cell_type": "code",
   "execution_count": null,
   "metadata": {
    "scrolled": true
   },
   "outputs": [],
   "source": [
    "# Go back to the first point\n",
    "t.goto(first_pixel)\n",
    "# Label the state\n",
    "t.up()\n",
    "t.goto([0, 0])\n",
    "t.write(state[NAME], align=\"center\", font=(\"Arial\", 16, \"bold\"))\n",
    "t.done()"
   ]
  },
  {
   "cell_type": "code",
   "execution_count": 4,
   "metadata": {},
   "outputs": [
    {
     "data": {
      "text/plain": [
       "[400.0, -250.0]"
      ]
     },
     "execution_count": 4,
     "metadata": {},
     "output_type": "execute_result"
    }
   ],
   "source": [
    "pixel"
   ]
  },
  {
   "cell_type": "code",
   "execution_count": 4,
   "metadata": {},
   "outputs": [],
   "source": [
    "state = [[-109, 37], [-109, 41], [-102, 41], [-102, 37]]"
   ]
  },
  {
   "cell_type": "code",
   "execution_count": 16,
   "metadata": {},
   "outputs": [],
   "source": [
    "res=point_in_poly(-109, 37,state)"
   ]
  },
  {
   "cell_type": "code",
   "execution_count": 26,
   "metadata": {},
   "outputs": [],
   "source": [
    "x=-109\n",
    "y=37\n",
    "poly=[(-109, 37), (-109, 41), (-102, 41), (-102, 37),(-109, 37)]\n",
    "\n",
    "# 判断点是否是顶点\n",
    "if (x,y) in poly: \n",
    "    a = 1"
   ]
  },
  {
   "cell_type": "code",
   "execution_count": 27,
   "metadata": {},
   "outputs": [
    {
     "data": {
      "text/plain": [
       "range(0, 5)"
      ]
     },
     "execution_count": 27,
     "metadata": {},
     "output_type": "execute_result"
    }
   ],
   "source": [
    "range(len(poly))"
   ]
  },
  {
   "cell_type": "code",
   "execution_count": 21,
   "metadata": {},
   "outputs": [],
   "source": [
    "# 判断点是否在边框上\n",
    "for i in range(len(poly)):\n",
    "    p1 = None\n",
    "    p2 = None\n",
    "    if i==0:\n",
    "        p1 = poly[0]\n",
    "        p2 = poly[1]\n",
    "    else:\n",
    "        p1 = poly[i-1]\n",
    "        p2 = poly[i]\n",
    "    if p1[1] == p2[1] and p1[1] == y and x > min(p1[0],p2[0]) and x < max(p1[0], p2[0]):\n",
    "        a = 1\n",
    "    else:\n",
    "        a = 0"
   ]
  },
  {
   "cell_type": "code",
   "execution_count": 22,
   "metadata": {},
   "outputs": [
    {
     "data": {
      "text/plain": [
       "0"
      ]
     },
     "execution_count": 22,
     "metadata": {},
     "output_type": "execute_result"
    }
   ],
   "source": [
    "a"
   ]
  },
  {
   "cell_type": "code",
   "execution_count": 14,
   "metadata": {},
   "outputs": [],
   "source": [
    "def point_in_poly(x,y,poly):\n",
    "    # 判断点是否是顶点\n",
    "    if (x,y) in poly: \n",
    "        return True\n",
    "    # 判断点是否在边框上\n",
    "    for i in range(len(poly)):\n",
    "        p1 = None\n",
    "        p2 = None\n",
    "        if i==0:\n",
    "            p1 = poly[0]\n",
    "            p2 = poly[1]\n",
    "        else:\n",
    "            p1 = poly[i-1]\n",
    "            p2 = poly[i]\n",
    "        if p1[1] == p2[1] and p1[1] == y and x > min(p1[0],p2[0]) and x < max(p1[0], p2[0]):\n",
    "            return True\n",
    "        else:\n",
    "            return False"
   ]
  },
  {
   "cell_type": "code",
   "execution_count": 56,
   "metadata": {},
   "outputs": [],
   "source": [
    "myPolygon = [(-70.593016, -33.416032), (-70.589604, -33.415370),\n",
    "             (-70.589046, -33.417340), (-70.592351, -33.416032),\n",
    "             (-70.593016, -33.416032)]"
   ]
  },
  {
   "cell_type": "code",
   "execution_count": 59,
   "metadata": {},
   "outputs": [],
   "source": [
    "poly = myPolygon\n",
    "x= -70.592916\n",
    "y = -33.416032"
   ]
  },
  {
   "cell_type": "code",
   "execution_count": 60,
   "metadata": {},
   "outputs": [
    {
     "name": "stdout",
     "output_type": "stream",
     "text": [
      "(-70.593016, -33.416032) (-70.589604, -33.41537)\n",
      "False\n",
      "(-70.593016, -33.416032) (-70.589604, -33.41537)\n",
      "False\n",
      "(-70.589604, -33.41537) (-70.589046, -33.41734)\n",
      "False\n",
      "(-70.589046, -33.41734) (-70.592351, -33.416032)\n",
      "False\n",
      "(-70.592351, -33.416032) (-70.593016, -33.416032)\n",
      "true\n"
     ]
    }
   ],
   "source": [
    "for i in range(len(poly)):\n",
    "    p1 = None\n",
    "    p2 = None\n",
    "    if i == 0:\n",
    "        p1 = poly[0]\n",
    "        p2 = poly[1]\n",
    "        print(p1,p2)\n",
    "    else:\n",
    "        p1 = poly[i-1]\n",
    "        p2 = poly[i]\n",
    "        print(p1,p2)\n",
    "    if p1[1] == p2[1] and p1[1] == y and x > min(p1[0],\n",
    "       p2[0]) and x < max(p1[0], p2[0]):\n",
    "        print('true')\n",
    "    else:\n",
    "        print('False')"
   ]
  },
  {
   "cell_type": "code",
   "execution_count": 6,
   "metadata": {},
   "outputs": [
    {
     "ename": "ModuleNotFoundError",
     "evalue": "No module named 'mpl_toolkits.basemap'",
     "output_type": "error",
     "traceback": [
      "\u001b[1;31m---------------------------------------------------------------------------\u001b[0m",
      "\u001b[1;31mModuleNotFoundError\u001b[0m                       Traceback (most recent call last)",
      "\u001b[1;32m<ipython-input-6-4d3599ae5bd9>\u001b[0m in \u001b[0;36m<module>\u001b[1;34m()\u001b[0m\n\u001b[0;32m      1\u001b[0m \u001b[1;32mimport\u001b[0m \u001b[0mnumpy\u001b[0m \u001b[1;32mas\u001b[0m \u001b[0mnp\u001b[0m\u001b[1;33m\u001b[0m\u001b[1;33m\u001b[0m\u001b[0m\n\u001b[0;32m      2\u001b[0m \u001b[1;32mimport\u001b[0m \u001b[0mmatplotlib\u001b[0m\u001b[1;33m.\u001b[0m\u001b[0mpyplot\u001b[0m \u001b[1;32mas\u001b[0m \u001b[0mplt\u001b[0m\u001b[1;33m\u001b[0m\u001b[1;33m\u001b[0m\u001b[0m\n\u001b[1;32m----> 3\u001b[1;33m \u001b[1;32mfrom\u001b[0m \u001b[0mmpl_toolkits\u001b[0m\u001b[1;33m.\u001b[0m\u001b[0mbasemap\u001b[0m \u001b[1;32mimport\u001b[0m \u001b[0mBasemap\u001b[0m\u001b[1;33m\u001b[0m\u001b[1;33m\u001b[0m\u001b[0m\n\u001b[0m",
      "\u001b[1;31mModuleNotFoundError\u001b[0m: No module named 'mpl_toolkits.basemap'"
     ]
    }
   ],
   "source": [
    "import numpy as np\n",
    "import matplotlib.pyplot as plt\n",
    "from mpl_toolkits.basemap import Basemap"
   ]
  },
  {
   "cell_type": "code",
   "execution_count": 5,
   "metadata": {},
   "outputs": [],
   "source": [
    "mt.pip('basemap')"
   ]
  },
  {
   "cell_type": "code",
   "execution_count": 52,
   "metadata": {},
   "outputs": [
    {
     "data": {
      "text/plain": [
       "-70.592351"
      ]
     },
     "execution_count": 52,
     "metadata": {},
     "output_type": "execute_result"
    }
   ],
   "source": []
  }
 ],
 "metadata": {
  "kernelspec": {
   "display_name": "Python 3",
   "language": "python",
   "name": "python3"
  },
  "language_info": {
   "codemirror_mode": {
    "name": "ipython",
    "version": 3
   },
   "file_extension": ".py",
   "mimetype": "text/x-python",
   "name": "python",
   "nbconvert_exporter": "python",
   "pygments_lexer": "ipython3",
   "version": "3.7.3"
  }
 },
 "nbformat": 4,
 "nbformat_minor": 2
}
