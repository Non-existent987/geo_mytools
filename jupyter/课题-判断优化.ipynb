{
 "cells": [
  {
   "cell_type": "code",
   "execution_count": 170,
   "metadata": {},
   "outputs": [
    {
     "name": "stdout",
     "output_type": "stream",
     "text": [
      "The autoreload extension is already loaded. To reload it, use:\n",
      "  %reload_ext autoreload\n"
     ]
    }
   ],
   "source": [
    "%load_ext autoreload\n",
    "%autoreload 2"
   ]
  },
  {
   "cell_type": "code",
   "execution_count": 2,
   "metadata": {
    "scrolled": false
   },
   "outputs": [],
   "source": [
    "import pandas as pd\n",
    "import numpy as np\n",
    "# from geographiclib.geodesic import Geodesic\n",
    "from shapely.geometry import *\n",
    "# import simplekml\n",
    "import geopandas as gpd\n",
    "from app import main as m\n",
    "import app.main\n",
    "import app.netools as ne\n",
    "nt = ne.NetTools()\n",
    "import app.mydef as md\n",
    "mt = md.MyTools()"
   ]
  },
  {
   "cell_type": "markdown",
   "metadata": {},
   "source": [
    "# 判断小区是否可以优化解决mr问题"
   ]
  },
  {
   "cell_type": "code",
   "execution_count": 8,
   "metadata": {
    "scrolled": false
   },
   "outputs": [],
   "source": [
    "ditu_cell = pd.read_csv(open('/mypy/课题/优化/武汉基站数据库.csv',encoding = 'gbk'))"
   ]
  },
  {
   "cell_type": "code",
   "execution_count": 173,
   "metadata": {},
   "outputs": [],
   "source": [
    "ditu_cell=ditu_cell.loc[(ditu_cell['RRU经度']<130)&(ditu_cell['RRU纬度']<40)&(ditu_cell['RRU纬度']>20)]"
   ]
  },
  {
   "cell_type": "code",
   "execution_count": 174,
   "metadata": {},
   "outputs": [],
   "source": [
    "ditu_cell['小区中文名'] = ditu_cell['小区中文名'].fillna('无')"
   ]
  },
  {
   "cell_type": "code",
   "execution_count": 235,
   "metadata": {},
   "outputs": [],
   "source": [
    "ditu_cell=ditu_cell[ ~ditu_cell['小区中文名'].str.contains('r')]  #删除某列包含特殊字符，过滤删除，筛选剔除"
   ]
  },
  {
   "cell_type": "code",
   "execution_count": 176,
   "metadata": {},
   "outputs": [],
   "source": [
    "ditu_cell=ditu_cell[ ~ ditu_cell['小区中文名'].str.contains('m-')]  #删除某列包含特殊字符的行"
   ]
  },
  {
   "cell_type": "code",
   "execution_count": 177,
   "metadata": {},
   "outputs": [],
   "source": [
    "ditu_cell=ditu_cell[ ~ ditu_cell['小区中文名'].str.contains('w-')]  #删除某列包含特殊字符的行"
   ]
  },
  {
   "cell_type": "code",
   "execution_count": 178,
   "metadata": {},
   "outputs": [],
   "source": [
    "ditu_cell=ditu_cell.dropna(subset=['RRU经度','RRU纬度'])#"
   ]
  },
  {
   "cell_type": "code",
   "execution_count": 179,
   "metadata": {},
   "outputs": [
    {
     "data": {
      "text/plain": [
       "(2796, 9)"
      ]
     },
     "execution_count": 179,
     "metadata": {},
     "output_type": "execute_result"
    }
   ],
   "source": [
    "ditu_cell.shape"
   ]
  },
  {
   "cell_type": "code",
   "execution_count": 180,
   "metadata": {},
   "outputs": [],
   "source": [
    "wt_cell = pd.read_csv(open('/mypy/课题/优化/武汉问题小区.csv',encoding = 'gbk'))"
   ]
  },
  {
   "cell_type": "code",
   "execution_count": 181,
   "metadata": {},
   "outputs": [],
   "source": [
    "wt_cell['小区中文名'] = wt_cell['小区中文名'].fillna('无')"
   ]
  },
  {
   "cell_type": "code",
   "execution_count": 182,
   "metadata": {},
   "outputs": [
    {
     "data": {
      "text/plain": [
       "Index(['小区CGI(*)', '小区中文名', '网络制式(TDD/FDD)', 'TDL规划站号(新)', '所属地区', '工程参数标识',\n",
       "       '区县代码', '基站编码', 'VIP基站', '入网工程期', 'ATU网格', 'RRU经度', 'RRU纬度', '天线挂高',\n",
       "       '地面海拔', '入网时间', '2G共址站名', '与FDD1800共址的FDD900站名', '站址归属单位', '覆盖类型',\n",
       "       '覆盖类别', '覆盖场景', '场景名称', 'VOLTE场景', '方位角', '机械下倾角', '电子下倾角', '是否电调天线',\n",
       "       '电下倾天线类型', '天线厂家', '工作频段', '设备型号', '设备类型(大类)', '分布式或一体化', '小区所属空间资源',\n",
       "       '基站所属空间资源', 'eNodeB软件版本', '所属OMC', '归属区县', '厂家名称', '物理站名', '集中开站所在环节',\n",
       "       '集中开站工单号', '姿态仪测量', '姿态仪测量时间', '所属eNodeB名称', '采集经度', '采集纬度', 'RRU数量',\n",
       "       'TAC', 'PCI', '中心载频的信道号', '频段指示', '空口上下行业务字节数KByte', '统计分类'],\n",
       "      dtype='object')"
      ]
     },
     "execution_count": 182,
     "metadata": {},
     "output_type": "execute_result"
    }
   ],
   "source": [
    "wt_cell.columns"
   ]
  },
  {
   "cell_type": "code",
   "execution_count": 236,
   "metadata": {},
   "outputs": [],
   "source": [
    "wt_cell_x = wt_cell[['小区CGI(*)','小区中文名']]"
   ]
  },
  {
   "cell_type": "code",
   "execution_count": 184,
   "metadata": {},
   "outputs": [],
   "source": [
    "res=ditu_cell.merge(wt_cell_x,how='left', on='小区CGI(*)',suffixes=('', '_y'),indicator=True)"
   ]
  },
  {
   "cell_type": "code",
   "execution_count": 185,
   "metadata": {},
   "outputs": [],
   "source": [
    "ditu_cell = res.loc[res['_merge']=='both']"
   ]
  },
  {
   "cell_type": "code",
   "execution_count": 186,
   "metadata": {},
   "outputs": [
    {
     "data": {
      "text/plain": [
       "Index(['小区CGI(*)', '小区中文名', '网络制式(TDD/FDD)', 'RRU经度', 'RRU纬度', '天线挂高', '方位角',\n",
       "       '归属区县', '是否故障', '小区中文名_y', '_merge'],\n",
       "      dtype='object')"
      ]
     },
     "execution_count": 186,
     "metadata": {},
     "output_type": "execute_result"
    }
   ],
   "source": [
    "ditu_cell.columns"
   ]
  },
  {
   "cell_type": "code",
   "execution_count": 187,
   "metadata": {},
   "outputs": [],
   "source": [
    "def juli(df,changjing,pinduan):\n",
    "    \n",
    "    F900 = {0:'300',1:'430',2:'430',3:'430',4:'1200',5:'2200'}\n",
    "    TDD = {0:'250',1:'400',2:'400',3:'350',4:'800',5:'1000'}\n",
    "    \n",
    "    df['juli']= [F900[cj] if pd == 'FDD900' else TDD[cj] \n",
    "                 for cj , pd in zip(df[changjing],df[pinduan])]\n",
    "    return df"
   ]
  },
  {
   "cell_type": "code",
   "execution_count": 188,
   "metadata": {},
   "outputs": [],
   "source": [
    "wt_cell[\"覆盖类别\"]=wt_cell[\"覆盖类别\"].fillna(3)#na的用3填充"
   ]
  },
  {
   "cell_type": "code",
   "execution_count": 189,
   "metadata": {},
   "outputs": [],
   "source": [
    "wt_cell1 = juli(wt_cell,'覆盖类别','工作频段')"
   ]
  },
  {
   "cell_type": "code",
   "execution_count": 190,
   "metadata": {},
   "outputs": [
    {
     "data": {
      "text/plain": [
       "(1664, 56)"
      ]
     },
     "execution_count": 190,
     "metadata": {},
     "output_type": "execute_result"
    }
   ],
   "source": [
    "wt_cell1.shape"
   ]
  },
  {
   "cell_type": "code",
   "execution_count": 191,
   "metadata": {},
   "outputs": [],
   "source": [
    "wt_cell1=wt_cell.dropna(subset=['RRU经度','RRU纬度','方位角','juli'])#"
   ]
  },
  {
   "cell_type": "code",
   "execution_count": 192,
   "metadata": {},
   "outputs": [
    {
     "data": {
      "text/plain": [
       "(1661, 56)"
      ]
     },
     "execution_count": 192,
     "metadata": {},
     "output_type": "execute_result"
    }
   ],
   "source": [
    "wt_cell1.shape"
   ]
  },
  {
   "cell_type": "code",
   "execution_count": 193,
   "metadata": {},
   "outputs": [],
   "source": [
    "wt_cell1=wt_cell1.loc[wt_cell1['RRU经度']<117]"
   ]
  },
  {
   "cell_type": "code",
   "execution_count": 194,
   "metadata": {},
   "outputs": [
    {
     "data": {
      "text/plain": [
       "(1661, 56)"
      ]
     },
     "execution_count": 194,
     "metadata": {},
     "output_type": "execute_result"
    }
   ],
   "source": [
    "wt_cell1.shape"
   ]
  },
  {
   "cell_type": "code",
   "execution_count": 195,
   "metadata": {},
   "outputs": [],
   "source": [
    "wt_cell12 = wt_cell1.copy()"
   ]
  },
  {
   "cell_type": "code",
   "execution_count": 196,
   "metadata": {
    "scrolled": true
   },
   "outputs": [],
   "source": [
    "wt_cell12['RRU经度'] = pd.to_numeric(wt_cell12['RRU经度'])\n",
    "\n",
    "wt_cell12['RRU纬度'] = pd.to_numeric(wt_cell12['RRU纬度'])\n",
    "\n",
    "wt_cell12['方位角'] = pd.to_numeric(wt_cell12['方位角'])\n",
    "\n",
    "wt_cell12['juli'] = pd.to_numeric(wt_cell12['juli'])"
   ]
  },
  {
   "cell_type": "code",
   "execution_count": 197,
   "metadata": {},
   "outputs": [
    {
     "data": {
      "text/plain": [
       "0"
      ]
     },
     "execution_count": 197,
     "metadata": {},
     "output_type": "execute_result"
    }
   ],
   "source": [
    "wt_cell12[['RRU经度','RRU纬度','方位角','juli']].isnull().sum().sum()"
   ]
  },
  {
   "cell_type": "markdown",
   "metadata": {},
   "source": [
    "## 周边存在现网站点"
   ]
  },
  {
   "cell_type": "code",
   "execution_count": 198,
   "metadata": {},
   "outputs": [],
   "source": [
    "shanqu=nt.add_sectors_jl(wt_cell12, coords=['RRU经度', 'RRU纬度', 'd_height', '方位角', 'juli'], \n",
    "                         has_z=False,shape_dict={'beam': 120, 'per_degree': 10})"
   ]
  },
  {
   "cell_type": "code",
   "execution_count": 199,
   "metadata": {},
   "outputs": [],
   "source": [
    "dian_ditu = nt.add_points(ditu_cell,coords=['RRU经度', 'RRU纬度','',''])"
   ]
  },
  {
   "cell_type": "code",
   "execution_count": 200,
   "metadata": {},
   "outputs": [
    {
     "data": {
      "text/plain": [
       "(1661, 56)"
      ]
     },
     "execution_count": 200,
     "metadata": {},
     "output_type": "execute_result"
    }
   ],
   "source": [
    "wt_cell12.shape"
   ]
  },
  {
   "cell_type": "code",
   "execution_count": 201,
   "metadata": {},
   "outputs": [],
   "source": [
    "res_zong = gpd.sjoin(shanqu,dian_ditu)"
   ]
  },
  {
   "cell_type": "code",
   "execution_count": 202,
   "metadata": {},
   "outputs": [],
   "source": [
    "res_zong['优先级']= 0\n",
    "res_zong['方案类型']= '无'"
   ]
  },
  {
   "cell_type": "code",
   "execution_count": 203,
   "metadata": {},
   "outputs": [
    {
     "data": {
      "text/plain": [
       "(11884, 71)"
      ]
     },
     "execution_count": 203,
     "metadata": {},
     "output_type": "execute_result"
    }
   ],
   "source": [
    "res_zong.shape"
   ]
  },
  {
   "cell_type": "code",
   "execution_count": 204,
   "metadata": {
    "scrolled": false
   },
   "outputs": [],
   "source": [
    "res_zong_jl=mt.distancea_df(res_zong,'RRU经度_left','RRU纬度_left','RRU经度_right', 'RRU纬度_right')"
   ]
  },
  {
   "cell_type": "code",
   "execution_count": 205,
   "metadata": {},
   "outputs": [],
   "source": [
    "res_zong_jl = res_zong_jl.reset_index(drop = True)"
   ]
  },
  {
   "cell_type": "code",
   "execution_count": 206,
   "metadata": {},
   "outputs": [
    {
     "data": {
      "text/plain": [
       "(11884, 72)"
      ]
     },
     "execution_count": 206,
     "metadata": {},
     "output_type": "execute_result"
    }
   ],
   "source": [
    "res_zong_jl.shape"
   ]
  },
  {
   "cell_type": "code",
   "execution_count": 207,
   "metadata": {},
   "outputs": [],
   "source": [
    "#删除距离小于25米，现网站点网络制式不是FDD的小区。\n",
    "res_zong_j2 = res_zong_jl.drop(res_zong_jl[(res_zong_jl['距离'] < 25) \n",
    "                                           & (res_zong_jl['网络制式(TDD/FDD)_right'] !='FDD')].index) #多条件删除，符合条件的行"
   ]
  },
  {
   "cell_type": "code",
   "execution_count": 208,
   "metadata": {},
   "outputs": [
    {
     "data": {
      "text/plain": [
       "(9198, 72)"
      ]
     },
     "execution_count": 208,
     "metadata": {},
     "output_type": "execute_result"
    }
   ],
   "source": [
    "res_zong_j2.shape"
   ]
  },
  {
   "cell_type": "code",
   "execution_count": 209,
   "metadata": {},
   "outputs": [],
   "source": [
    "#删除距离小于25米，现网站点和问题小区网络制式都为FDD的小区\n",
    "res_zong_j3 = res_zong_j2.drop(res_zong_j2[(res_zong_j2['距离'] < 25) \n",
    "                                           & (res_zong_j2['网络制式(TDD/FDD)_right'] =='FDD')  \n",
    "                                           & (res_zong_j2['网络制式(TDD/FDD)_left'] =='FDD')].index) #多条件删除，符合条件的行"
   ]
  },
  {
   "cell_type": "code",
   "execution_count": 210,
   "metadata": {},
   "outputs": [
    {
     "data": {
      "text/plain": [
       "(7124, 72)"
      ]
     },
     "execution_count": 210,
     "metadata": {},
     "output_type": "execute_result"
    }
   ],
   "source": [
    "res_zong_j3.shape"
   ]
  },
  {
   "cell_type": "code",
   "execution_count": 211,
   "metadata": {},
   "outputs": [],
   "source": [
    "res_zong_j3.loc[res_zong_j3['网络制式(TDD/FDD)_right'].str.contains('FDD'),'优先级']= 2 #过滤条件并更新值"
   ]
  },
  {
   "cell_type": "code",
   "execution_count": 212,
   "metadata": {},
   "outputs": [],
   "source": [
    "res_zong_j3.loc[res_zong_j3['网络制式(TDD/FDD)_right'].str.contains('TDD'),'优先级']= 3 #过滤条件并更新值"
   ]
  },
  {
   "cell_type": "code",
   "execution_count": 213,
   "metadata": {},
   "outputs": [],
   "source": [
    "res_zong_j3.loc[res_zong_j3['天线挂高_right']<30,'优先级']= 4 #过滤条件并更新值"
   ]
  },
  {
   "cell_type": "code",
   "execution_count": 214,
   "metadata": {},
   "outputs": [],
   "source": [
    "res_zong_j3.loc[res_zong_j3['天线挂高_right']<25,'优先级']= 5 #过滤条件并更新值"
   ]
  },
  {
   "cell_type": "code",
   "execution_count": 215,
   "metadata": {},
   "outputs": [],
   "source": [
    "res_zong_j3.loc[res_zong_j3['天线挂高_left']<25,'优先级']= 6 #过滤条件并更新值"
   ]
  },
  {
   "cell_type": "code",
   "execution_count": 216,
   "metadata": {},
   "outputs": [],
   "source": [
    "res_zong_j3.loc[res_zong_j3['小区中文名_right'].str.contains('美化'),'优先级']= 7 #过滤条件并更新值"
   ]
  },
  {
   "cell_type": "code",
   "execution_count": 217,
   "metadata": {},
   "outputs": [],
   "source": [
    "res_zong_j3.loc[res_zong_j3['小区中文名_left'].str.contains('美化'),'优先级']= 8 #过滤条件并更新值"
   ]
  },
  {
   "cell_type": "code",
   "execution_count": 219,
   "metadata": {},
   "outputs": [],
   "source": [
    "res_zong_j3['优先级'] = res_zong_j3['优先级'].mask(res_zong_j3['优先级']<1,1)"
   ]
  },
  {
   "cell_type": "code",
   "execution_count": 220,
   "metadata": {},
   "outputs": [],
   "source": [
    "res_zong_j3 = res_zong_j3.sort_values(by=\"优先级\")#按照优先级排序默认升序"
   ]
  },
  {
   "cell_type": "code",
   "execution_count": 221,
   "metadata": {},
   "outputs": [
    {
     "data": {
      "text/plain": [
       "(7124, 72)"
      ]
     },
     "execution_count": 221,
     "metadata": {},
     "output_type": "execute_result"
    }
   ],
   "source": [
    "res_zong_j3.shape"
   ]
  },
  {
   "cell_type": "code",
   "execution_count": 222,
   "metadata": {},
   "outputs": [],
   "source": [
    "res_zong_youhua = res_zong_j3.drop_duplicates(subset='小区CGI(*)_left')#删除重复项"
   ]
  },
  {
   "cell_type": "code",
   "execution_count": 223,
   "metadata": {},
   "outputs": [
    {
     "data": {
      "text/plain": [
       "(815, 72)"
      ]
     },
     "execution_count": 223,
     "metadata": {},
     "output_type": "execute_result"
    }
   ],
   "source": [
    "res_zong_youhua.shape"
   ]
  },
  {
   "cell_type": "code",
   "execution_count": 224,
   "metadata": {},
   "outputs": [],
   "source": [
    "res_zong_youhua.to_csv('res.csv',encoding = 'gbk',index = False)"
   ]
  },
  {
   "cell_type": "markdown",
   "metadata": {},
   "source": [
    "## 有故障站"
   ]
  },
  {
   "cell_type": "code",
   "execution_count": 229,
   "metadata": {},
   "outputs": [],
   "source": [
    "res_zong_jl['是否故障'] = res_zong_jl['是否故障'].fillna('否')"
   ]
  },
  {
   "cell_type": "code",
   "execution_count": 230,
   "metadata": {},
   "outputs": [],
   "source": [
    "res_zong_jl.loc[(res_zong_jl['是否故障'].str.contains('是')),'方案类型'] = '周边小区故障'"
   ]
  },
  {
   "cell_type": "code",
   "execution_count": 231,
   "metadata": {
    "scrolled": true
   },
   "outputs": [],
   "source": [
    "res_zong_jl.loc[(res_zong_jl['统计分类'].str.contains('故障')),'方案类型'] = '问题小区故障'"
   ]
  },
  {
   "cell_type": "code",
   "execution_count": 232,
   "metadata": {
    "scrolled": true
   },
   "outputs": [],
   "source": [
    "res_zong_guzhang=res_zong_jl.loc[(res_zong_jl['方案类型']== '问题小区故障') | (res_zong_jl['方案类型']== '周边小区故障')]"
   ]
  },
  {
   "cell_type": "code",
   "execution_count": 233,
   "metadata": {},
   "outputs": [
    {
     "data": {
      "text/plain": [
       "(171, 72)"
      ]
     },
     "execution_count": 233,
     "metadata": {},
     "output_type": "execute_result"
    }
   ],
   "source": [
    "res_zong_guzhang.shape"
   ]
  },
  {
   "cell_type": "code",
   "execution_count": 234,
   "metadata": {},
   "outputs": [],
   "source": [
    "res_zong_guzhang.to_csv('res.csv',encoding = 'gbk',index = False)"
   ]
  },
  {
   "cell_type": "markdown",
   "metadata": {},
   "source": [
    "## 过高站点下倾角小"
   ]
  },
  {
   "cell_type": "code",
   "execution_count": null,
   "metadata": {},
   "outputs": [],
   "source": []
  },
  {
   "cell_type": "code",
   "execution_count": null,
   "metadata": {},
   "outputs": [],
   "source": []
  },
  {
   "cell_type": "markdown",
   "metadata": {},
   "source": [
    "## 过矮站点下倾角大 "
   ]
  },
  {
   "cell_type": "code",
   "execution_count": null,
   "metadata": {},
   "outputs": [],
   "source": []
  },
  {
   "cell_type": "code",
   "execution_count": null,
   "metadata": {},
   "outputs": [],
   "source": []
  },
  {
   "cell_type": "markdown",
   "metadata": {},
   "source": [
    "# ^^^结束"
   ]
  }
 ],
 "metadata": {
  "kernelspec": {
   "display_name": "Python 3",
   "language": "python",
   "name": "python3"
  },
  "language_info": {
   "codemirror_mode": {
    "name": "ipython",
    "version": 3
   },
   "file_extension": ".py",
   "mimetype": "text/x-python",
   "name": "python",
   "nbconvert_exporter": "python",
   "pygments_lexer": "ipython3",
   "version": "3.7.3"
  }
 },
 "nbformat": 4,
 "nbformat_minor": 2
}
