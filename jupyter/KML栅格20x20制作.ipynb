{
 "cells": [
  {
   "cell_type": "code",
   "execution_count": 1,
   "metadata": {},
   "outputs": [],
   "source": [
    "import pandas as pd\n",
    "import simplekml\n",
    "from geographiclib.geodesic import Geodesic"
   ]
  },
  {
   "cell_type": "markdown",
   "metadata": {},
   "source": [
    "# 第一种格式-弱覆盖"
   ]
  },
  {
   "cell_type": "code",
   "execution_count": 2,
   "metadata": {},
   "outputs": [],
   "source": [
    "kml = simplekml.Kml()\n",
    "#---------找lod的四个角\n",
    "def _lod_lon_lat(lon=114.198312,lat=30.630697,azimuth=45,azimuth1=225,radius=10):#^^^^^^^设置视野\n",
    "    res = Geodesic.WGS84.Direct(lat, lon, azimuth, radius)\n",
    "    lon_1= res['lon2']\n",
    "    lat_1= res['lat2']\n",
    "    res1 = Geodesic.WGS84.Direct(lat, lon, azimuth1, radius)\n",
    "    lon_2= res1['lon2']\n",
    "    lat_2= res1['lat2']\n",
    "    a=[(lon_1,lat_1),(lon_1,lat_2),(lon_2,lat_2),(lon_2,lat_1),(lon_1,lat_1)]\n",
    "    return a\n",
    "\n",
    "def kml_start(df):\n",
    "    row_table = df.copy()\n",
    "    lieming=row_table.columns\n",
    "    for i in range(len(row_table.index)):\n",
    "        #-----------变量赋值\n",
    "        row_1 = row_table.iloc[i, :]\n",
    "        id_n_v,  lon_yuan, lat_yuan ,tm = row_1[['eutrancell_name', '_c2', '_c3','tm']]\n",
    "        tu=_lod_lon_lat(lon=lon_yuan, lat=lat_yuan, azimuth=45, azimuth1=225, radius=11)\n",
    "        #----------开始制作图层\n",
    "        pol = kml.newpolygon()  # ,description = biaozhu_r\n",
    "        pol.name=id_n_v\n",
    "        pol.outerboundaryis = tu   # polygon_1 是一个扇区\n",
    "        pol.linestyle.color = simplekml.Color.changealphaint(245, tm ) # 最终线条上色\n",
    "#         pol.polystyle.color = simplekml.Color.changealphaint(245, tm )\n",
    "        for i in lieming: #^^^^^^可选去掉不加标注\n",
    "            pol.extendeddata.schemadata.newsimpledata(i,row_1[i])\n",
    "    #     pol.style.polystyle.color = '990000ff'  # Transparent red\n",
    "    "
   ]
  },
  {
   "cell_type": "code",
   "execution_count": null,
   "metadata": {},
   "outputs": [],
   "source": [
    "path='d:/up/zmall.csv'"
   ]
  },
  {
   "cell_type": "code",
   "execution_count": null,
   "metadata": {},
   "outputs": [],
   "source": [
    "path='d:/up/zmall.csv'\n",
    "\n",
    "data_jc = pd.read_csv(path,sep='\\t')\n",
    "data_jc.columns = ['eutrancell_name', 'grid_id_20', '_c2', '_c3', '_c4', '_c5']\n",
    "# data_jc = data_jc.loc[data_jc['_c5']>10]"
   ]
  },
  {
   "cell_type": "code",
   "execution_count": null,
   "metadata": {
    "scrolled": true
   },
   "outputs": [],
   "source": [
    "data_jc['eutrancell_name'] = data_jc['eutrancell_name'].str.replace('（','(').str.replace('）',')')\n",
    "data_g=data_jc.groupby(by = 'eutrancell_name')\n",
    "\n",
    "style = simplekml.Style()\n",
    "style.iconstyle.icon.href = None  # 不显示图标\n",
    "style.labelstyle.scale = 0.8  # 字体大小1是正常\n",
    "for name,data in data_g:\n",
    "    data_jc = data.copy()\n",
    "    sum_max=data_jc['_c5'].max()\n",
    "    sum_min=data_jc['_c5'].min()\n",
    "    sum_mean=data_jc['_c5'].mean()\n",
    "    data_jc1= data_jc.copy()\n",
    "    try:\n",
    "        data_jc1['tm'] = pd.cut(data_jc1['_c5'], bins=[0,sum_mean,(sum_mean+sum_max)/2,sum_max], labels=['ff008000','ff00ffff','ff0000ff'])\n",
    "    except:\n",
    "        data_jc1['tm'] = 'ff00ffff'\n",
    "    row_table = data_jc1.copy()\n",
    "    kml_start(row_table)\n",
    "kml.save(path.split('.')[0].split('/')[-1]+\".kml\")"
   ]
  },
  {
   "cell_type": "code",
   "execution_count": null,
   "metadata": {},
   "outputs": [],
   "source": [
    "data=data_jc.loc[data_jc['eutrancell_name']=='宇峰花园-ZLH-1']"
   ]
  },
  {
   "cell_type": "code",
   "execution_count": null,
   "metadata": {},
   "outputs": [],
   "source": [
    "data.to_clipboard()"
   ]
  },
  {
   "cell_type": "markdown",
   "metadata": {},
   "source": [
    "# 结束"
   ]
  },
  {
   "cell_type": "markdown",
   "metadata": {},
   "source": [
    "# 第二中格式-全量"
   ]
  },
  {
   "cell_type": "code",
   "execution_count": 2,
   "metadata": {},
   "outputs": [],
   "source": [
    "kml = simplekml.Kml()\n",
    "#---------找lod的四个角\n",
    "def _lod_lon_lat(lon=114.198312,lat=30.630697,azimuth=45,azimuth1=225,radius=10):#^^^^^^^设置视野\n",
    "    res = Geodesic.WGS84.Direct(lat, lon, azimuth, radius)\n",
    "    lon_1= res['lon2']\n",
    "    lat_1= res['lat2']\n",
    "    res1 = Geodesic.WGS84.Direct(lat, lon, azimuth1, radius)\n",
    "    lon_2= res1['lon2']\n",
    "    lat_2= res1['lat2']\n",
    "    a=[(lon_1,lat_1),(lon_1,lat_2),(lon_2,lat_2),(lon_2,lat_1),(lon_1,lat_1)]\n",
    "    return a\n",
    "\n",
    "def kml_start(df):\n",
    "    row_table = df.copy()\n",
    "    lieming=row_table.columns\n",
    "    for i in range(len(row_table.index)):\n",
    "        #-----------变量赋值\n",
    "        row_1 = row_table.iloc[i, :]\n",
    "        id_n_v,  lon_yuan, lat_yuan ,tm = row_1[['eutrancell_name', '_c2', '_c3','tm']]\n",
    "        tu=_lod_lon_lat(lon=lon_yuan, lat=lat_yuan, azimuth=45, azimuth1=225, radius=11)\n",
    "        #----------开始制作图层\n",
    "        pol = kml.newpolygon()  # ,description = biaozhu_r\n",
    "        pol.name=id_n_v\n",
    "        pol.outerboundaryis = tu   # polygon_1 是一个扇区\n",
    "        pol.linestyle.color = simplekml.Color.changealphaint(245, tm ) # 最终线条上色\n",
    "        pol.polystyle.color = simplekml.Color.changealphaint(245, tm )\n",
    "#         for i in lieming: #^^^^^^可选去掉不加标注\n",
    "#             pol.extendeddata.schemadata.newsimpledata(i,row_1[i])\n",
    "    #     pol.style.polystyle.color = '990000ff'  # Transparent red\n",
    "    "
   ]
  },
  {
   "cell_type": "code",
   "execution_count": 3,
   "metadata": {},
   "outputs": [],
   "source": [
    "path='d:/up/zmall.csv'"
   ]
  },
  {
   "cell_type": "code",
   "execution_count": 4,
   "metadata": {},
   "outputs": [],
   "source": [
    "path='d:/up/zmall.csv'\n",
    "\n",
    "data_jc = pd.read_csv(path,sep='\\t')\n",
    "data_jc.columns = ['eutrancell_name', 'grid_id_20', '_c2', '_c3', '_c4', '_c5']\n",
    "# data_jc = data_jc.loc[data_jc['_c5']>10]"
   ]
  },
  {
   "cell_type": "code",
   "execution_count": 6,
   "metadata": {},
   "outputs": [],
   "source": [
    "data_jc['eutrancell_name'] = data_jc['eutrancell_name'].str.replace('（','(').str.replace('）',')')\n",
    "data_g=data_jc.groupby(by = 'eutrancell_name')\n",
    "\n",
    "style = simplekml.Style()\n",
    "style.iconstyle.icon.href = None  # 不显示图标\n",
    "style.labelstyle.scale = 0.8  # 字体大小1是正常\n",
    "for name,data in data_g:\n",
    "    data_jc1 = data.copy()\n",
    "#     try:\n",
    "    data_jc1['tm'] = pd.cut(data_jc1['_c4'], bins=[-250,-110,-100,0], labels=['ff0000ff','ff00ffff','ff008000'])\n",
    "#     except:\n",
    "#         data_jc1['tm'] = 'ff008000'\n",
    "    row_table = data_jc1.copy()\n",
    "    kml_start(row_table)\n",
    "kml.save(path.split('.')[0].split('/')[-1]+\".kml\")"
   ]
  },
  {
   "cell_type": "code",
   "execution_count": null,
   "metadata": {},
   "outputs": [],
   "source": []
  }
 ],
 "metadata": {
  "kernelspec": {
   "display_name": "Python 3",
   "language": "python",
   "name": "python3"
  },
  "language_info": {
   "codemirror_mode": {
    "name": "ipython",
    "version": 3
   },
   "file_extension": ".py",
   "mimetype": "text/x-python",
   "name": "python",
   "nbconvert_exporter": "python",
   "pygments_lexer": "ipython3",
   "version": "3.7.3"
  }
 },
 "nbformat": 4,
 "nbformat_minor": 2
}
