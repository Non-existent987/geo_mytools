{
 "cells": [
  {
   "cell_type": "code",
   "execution_count": 1,
   "metadata": {},
   "outputs": [],
   "source": [
    "import pandas as pd \n",
    "import io"
   ]
  },
  {
   "cell_type": "code",
   "execution_count": 2,
   "metadata": {},
   "outputs": [],
   "source": [
    "qingdan_yuan = pd.read_excel('G:/1-规划/崔开通崔可研规划/2019年任务清单/20191205/副本任务清单-建设类20191204.xlsx')"
   ]
  },
  {
   "cell_type": "code",
   "execution_count": 3,
   "metadata": {},
   "outputs": [],
   "source": [
    "def go(changjing,biaoshi):\n",
    "    \n",
    "    qingdan =qingdan_yuan.copy()\n",
    "\n",
    "    qingdan['TDL规划站号（新）'] = qingdan['TDL规划站号（新）'].fillna('无')\n",
    "\n",
    "    qingdan.columns\n",
    "\n",
    "    youhua_z = qingdan.loc[(qingdan[changjing]==biaoshi) & (qingdan['优化']=='优化')]['唯一编号'].count()\n",
    "\n",
    "    youhua_w = qingdan.loc[(qingdan[changjing]==biaoshi) & (qingdan['优化']=='优化') & (qingdan['优化完成']==1)]['唯一编号'].count()\n",
    "\n",
    "    guihua_z = qingdan.loc[(qingdan[changjing]==biaoshi) & (qingdan['规划']=='规划')]['唯一编号'].count()\n",
    "\n",
    "    guihua_w = qingdan.loc[(qingdan[changjing]==biaoshi) & (qingdan['规划']=='规划') & (qingdan['规划完成']==1)]['唯一编号'].count()\n",
    "\n",
    "    cuikai_z = qingdan.loc[(qingdan[changjing]==biaoshi) & (qingdan['催开']=='催开')].drop_duplicates(subset='TDL规划站号（新）')['唯一编号'].count()\n",
    "\n",
    "    cuikai_w = qingdan.loc[(qingdan[changjing]==biaoshi) & (qingdan['催开']=='催开') \n",
    "                           & (qingdan['催开完成']==1)].drop_duplicates(subset='TDL规划站号（新）')['唯一编号'].count()\n",
    "\n",
    "    keyan_z = qingdan.loc[(qingdan[changjing]==biaoshi) & (qingdan['催可研']=='可研')].drop_duplicates(subset='TDL规划站号（新）')['唯一编号'].count()\n",
    "\n",
    "    keyan_w = qingdan.loc[(qingdan[changjing]==biaoshi) & (qingdan['催可研']=='可研') \n",
    "                           & (qingdan['可研完成']==1)].drop_duplicates(subset='TDL规划站号（新）')['唯一编号'].count()\n",
    "\n",
    "\n",
    "    qingdan_ck_fdd_900=qingdan[qingdan['TDL规划站号（新）'].str.contains('_G_')]\n",
    "\n",
    "    qingdan_ck_fdd_1800=qingdan[qingdan['TDL规划站号（新）'].str.contains('_S_')]\n",
    "\n",
    "    qingdan_ck_fdd = qingdan_ck_fdd_900.append(qingdan_ck_fdd_1800)\n",
    "\n",
    "    cuikai_fdd_z=qingdan_ck_fdd.loc[\n",
    "        (qingdan_ck_fdd[changjing]==biaoshi) & (qingdan_ck_fdd['催开']=='催开')].drop_duplicates(subset='TDL规划站号（新）') ['唯一编号'].count()\n",
    "\n",
    "    cuikai_fdd_w=qingdan_ck_fdd.loc[(qingdan_ck_fdd[changjing]==biaoshi) & (qingdan_ck_fdd['催开']=='催开')\n",
    "                                & (qingdan_ck_fdd['催开完成']==1)].drop_duplicates(subset='TDL规划站号（新）') ['唯一编号'].count()\n",
    "\n",
    "    keyan_fdd_z=qingdan_ck_fdd.loc[\n",
    "        (qingdan_ck_fdd[changjing]==biaoshi) & (qingdan_ck_fdd['催可研']=='可研')].drop_duplicates(subset='TDL规划站号（新）') ['唯一编号'].count()\n",
    "\n",
    "    keyan_fdd_w=qingdan_ck_fdd.loc[(qingdan_ck_fdd[changjing]==biaoshi) & (qingdan_ck_fdd['催可研']=='可研')\n",
    "                                & (qingdan_ck_fdd['可研完成']==1)].drop_duplicates(subset='TDL规划站号（新）') ['唯一编号'].count()\n",
    "\n",
    "    print('累计优化完成：',youhua_w,'，完成比例：',youhua_w,'/',youhua_z,\n",
    "\n",
    "         '；\\n累计FDD开通：',cuikai_fdd_w,'，TDD开通：',cuikai_w - cuikai_fdd_w,'，整体开通比例',cuikai_w,'/',cuikai_z,\n",
    "          \n",
    "        '；\\n累计规划进度：',guihua_w,'，规划完成比例：',guihua_w,'/',guihua_z,\n",
    "          \n",
    "        '；\\n累计FDD可研：',keyan_fdd_w,'，TDD可研：',keyan_w-keyan_fdd_w,'，可研进度',keyan_w,'/',keyan_z)"
   ]
  },
  {
   "cell_type": "code",
   "execution_count": 4,
   "metadata": {},
   "outputs": [
    {
     "name": "stdout",
     "output_type": "stream",
     "text": [
      "累计优化完成： 7909 ，完成比例： 7909 / 12873 ；\n",
      "累计FDD开通： 5011 ，TDD开通： 1041 ，整体开通比例 6052 / 6480 ；\n",
      "累计规划进度： 2891 ，规划完成比例： 2891 / 2891 ；\n",
      "累计FDD可研： 5341 ，TDD可研： 1139 ，可研进度 6480 / 7323\n"
     ]
    }
   ],
   "source": [
    "go('是否黑点',1)"
   ]
  },
  {
   "cell_type": "code",
   "execution_count": 28,
   "metadata": {},
   "outputs": [
    {
     "data": {
      "text/plain": [
       "'\\n有效1\\n1\\n是否黑点\\n1\\n场景_农村\\n农村\\n场景_通报场景\\n高校\\n景区\\n风景区\\n场景_通报场景\\n交通枢纽\\n场景_室内外\\n室外\\n'"
      ]
     },
     "execution_count": 28,
     "metadata": {},
     "output_type": "execute_result"
    }
   ],
   "source": [
    "'''\n",
    "有效1\n",
    "1\n",
    "是否黑点\n",
    "1\n",
    "场景_农村\n",
    "农村\n",
    "场景_通报场景\n",
    "高校\n",
    "景区\n",
    "风景区\n",
    "场景_通报场景\n",
    "交通枢纽\n",
    "场景_室内外\n",
    "室外\n",
    "'''"
   ]
  }
 ],
 "metadata": {
  "kernelspec": {
   "display_name": "Python 3",
   "language": "python",
   "name": "python3"
  },
  "language_info": {
   "codemirror_mode": {
    "name": "ipython",
    "version": 3
   },
   "file_extension": ".py",
   "mimetype": "text/x-python",
   "name": "python",
   "nbconvert_exporter": "python",
   "pygments_lexer": "ipython3",
   "version": "3.7.4"
  }
 },
 "nbformat": 4,
 "nbformat_minor": 2
}
