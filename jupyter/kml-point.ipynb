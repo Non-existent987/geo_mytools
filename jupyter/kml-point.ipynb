{
 "cells": [
  {
   "cell_type": "code",
   "execution_count": 415,
   "metadata": {},
   "outputs": [],
   "source": [
    "import pandas as pd\n",
    "import numpy as np\n",
    "import re\n",
    "import simplekml\n",
    "from geographiclib.geodesic import Geodesic"
   ]
  },
  {
   "cell_type": "code",
   "execution_count": 416,
   "metadata": {},
   "outputs": [],
   "source": [
    "#---------找lod的四个角\n",
    "def _lod_lon_lat(lon=114.198312,lat=30.630697,azimuth=45,azimuth1=225,radius=8000):#+++++++++++++设置视野\n",
    "    res = Geodesic.WGS84.Direct(lat, lon, azimuth, radius)\n",
    "    lon_1= res['lon2']\n",
    "    lat_1= res['lat2']\n",
    "    res1 = Geodesic.WGS84.Direct(lat, lon, azimuth1, radius)\n",
    "    lon_2= res1['lon2']\n",
    "    lat_2= res1['lat2']\n",
    "    return lon_1,lat_1,lon_2,lat_2\n",
    "#_lod_lon_lat()"
   ]
  },
  {
   "cell_type": "code",
   "execution_count": 417,
   "metadata": {},
   "outputs": [],
   "source": [
    "#-----------------------------------做一个样式\n",
    "def buzhou_2(tt = 'http://maps.google.com/mapfiles/kml/paddle/ltblu-blank.png'):\n",
    "    kml = simplekml.Kml()\n",
    "    style = simplekml.Style()\n",
    "    #style.labelstyle.color = simplekml.Color.red  # Make the text red\n",
    "    #style.labelstyle.scale = 2  # 标注字体大小\n",
    "    style.iconstyle.icon.href = tt#++++++++++++++++++++++选择图标\n",
    "    #http://maps.google.com/mapfiles/kml/pushpin/ylw-pushpin.png  --图钉  ylw黄色、blue蓝色、grn绿色、ltblu浅蓝色、red红色、wht白色\n",
    "    #http://maps.google.com/mapfiles/kml/paddle/ltblu-blank.png   --水滴园标 "
   ]
  },
  {
   "cell_type": "code",
   "execution_count": 418,
   "metadata": {},
   "outputs": [
    {
     "name": "stdout",
     "output_type": "stream",
     "text": [
      "使用的文件是 武汉规划.xlsx\n"
     ]
    },
    {
     "data": {
      "text/html": [
       "<div>\n",
       "<style scoped>\n",
       "    .dataframe tbody tr th:only-of-type {\n",
       "        vertical-align: middle;\n",
       "    }\n",
       "\n",
       "    .dataframe tbody tr th {\n",
       "        vertical-align: top;\n",
       "    }\n",
       "\n",
       "    .dataframe thead th {\n",
       "        text-align: right;\n",
       "    }\n",
       "</style>\n",
       "<table border=\"1\" class=\"dataframe\">\n",
       "  <thead>\n",
       "    <tr style=\"text-align: right;\">\n",
       "      <th></th>\n",
       "      <th>TDL规划站号</th>\n",
       "      <th>地市名称</th>\n",
       "      <th>TDL期次</th>\n",
       "      <th>规划经度</th>\n",
       "      <th>规划纬度</th>\n",
       "    </tr>\n",
       "  </thead>\n",
       "  <tbody>\n",
       "    <tr>\n",
       "      <th>0</th>\n",
       "      <td>WHL006738_F_H</td>\n",
       "      <td>武汉</td>\n",
       "      <td>4G二期</td>\n",
       "      <td>113.7104</td>\n",
       "      <td>30.40433</td>\n",
       "    </tr>\n",
       "  </tbody>\n",
       "</table>\n",
       "</div>"
      ],
      "text/plain": [
       "         TDL规划站号 地市名称 TDL期次      规划经度      规划纬度\n",
       "0  WHL006738_F_H   武汉  4G二期  113.7104  30.40433"
      ]
     },
     "execution_count": 418,
     "metadata": {},
     "output_type": "execute_result"
    }
   ],
   "source": [
    "#-----------------------------------导入文件\n",
    "excel_name = \"武汉规划\"#+++++++++++++++++++++++++++++导入文件信息\n",
    "try:\n",
    "    try:\n",
    "        row_table = pd.read_csv(excel_name+'.csv',encoding='gbk')\n",
    "        a = excel_name+'.csv'\n",
    "    except:\n",
    "        row_table = pd.read_excel(excel_name+'.xlsx',encoding='gbk')\n",
    "        a = excel_name+'.xlsx'\n",
    "except:\n",
    "    row_table = pd.read_excel(excel_name+'.xls',encoding='gbk')\n",
    "    a = excel_name+'.xls'\n",
    "else:\n",
    "    print('使用的文件是',a)\n",
    "\n",
    "lie=row_table.columns.values.tolist() \n",
    "lie.remove('规划经度')\n",
    "lie.remove('规划纬度')\n",
    "for i in lie:\n",
    "    row_table[i] = row_table[i].astype(str).str.replace('&', '')\n",
    "row_table[:1]\n",
    "\n"
   ]
  },
  {
   "cell_type": "code",
   "execution_count": 419,
   "metadata": {
    "scrolled": true
   },
   "outputs": [
    {
     "name": "stdout",
     "output_type": "stream",
     "text": [
      "ok\n"
     ]
    }
   ],
   "source": [
    "#-----------------------------------循环其他经纬度\n",
    "for i in range(len(row_table.index)):\n",
    "    row_v = row_table.iloc[i,:]\n",
    "    mingcheng,lon_p,lat_p = row_v[['TDL规划站号','规划经度','规划纬度']] # +++++++++++++++++++++++名称和经纬度必须\n",
    "    #-----------添加lod\n",
    "    lon11_d,lat11_d,lon12_d,lat12_d=_lod_lon_lat(lon_p,lat_p)\n",
    "    lod_p = simplekml.Lod(minlodpixels=200, maxlodpixels=-1,minfadeextent=None, maxfadeextent=None)\n",
    "    latlonaltbox_p = simplekml.LatLonAltBox(east =lon11_d ,north=lat11_d ,south=lat12_d ,west=lon12_d,\n",
    "                                          minaltitude=None, maxaltitude=None, altitudemode=None)\n",
    "    rgn_p = simplekml.Region(latlonaltbox_p,lod_p)\n",
    "    #------------创建点\n",
    "    pnt = kml.newpoint(name=mingcheng,region=rgn_p )#\n",
    "    pnt.coords = [(lon_p, lat_p)] \n",
    "    pnt.style = style\n",
    "    lie_ming=list(row_v.index)# 标注全部列\n",
    "    \n",
    "    for i in lie_ming:\n",
    "        pnt.extendeddata.schemadata.newsimpledata(i,row_v[i])\n",
    "kml.save(excel_name+\"_点图层\"+\".kml\")\n",
    "#kml.savekmz(excel_name+\"_点图层\"+\".kmz\")\n",
    "print('ok')"
   ]
  },
  {
   "cell_type": "code",
   "execution_count": null,
   "metadata": {},
   "outputs": [],
   "source": [
    "#-----------------------------------循环其他经纬度\n",
    "for i in range(len(row_table.index)):\n",
    "    row_v = row_table.iloc[i,:]\n",
    "    mingcheng,lon_p,lat_p = row_v[['TDL规划站号','规划经度','规划纬度']] # +++++++++++++++++++++++名称和经纬度必须\n",
    "    #-----------添加lod\n",
    "    lon11_d,lat11_d,lon12_d,lat12_d=_lod_lon_lat(lon_p,lat_p)\n",
    "    lod_p = simplekml.Lod(minlodpixels=200, maxlodpixels=-1,minfadeextent=None, maxfadeextent=None)\n",
    "    latlonaltbox_p = simplekml.LatLonAltBox(east =lon11_d ,north=lat11_d ,south=lat12_d ,west=lon12_d,\n",
    "                                          minaltitude=None, maxaltitude=None, altitudemode=None)\n",
    "    rgn_p = simplekml.Region(latlonaltbox_p,lod_p)\n",
    "    #------------创建点\n",
    "    pnt = kml.newpoint(name=mingcheng,region=rgn_p )#\n",
    "    pnt.coords = [(lon_p, lat_p)] \n",
    "    pnt.style = style\n",
    "    lie_ming=list(row_v.index)# 标注全部列\n",
    "    \n",
    "    for i in lie_ming:\n",
    "        pnt.extendeddata.schemadata.newsimpledata(i,row_v[i])\n",
    "kml.save(excel_name+\"_点图层\"+\".kml\")\n",
    "#kml.savekmz(excel_name+\"_点图层\"+\".kmz\")\n",
    "print('ok')"
   ]
  },
  {
   "cell_type": "code",
   "execution_count": 7,
   "metadata": {},
   "outputs": [],
   "source": [
    "import pykml as pk"
   ]
  },
  {
   "cell_type": "code",
   "execution_count": null,
   "metadata": {},
   "outputs": [],
   "source": []
  },
  {
   "cell_type": "code",
   "execution_count": null,
   "metadata": {},
   "outputs": [],
   "source": []
  }
 ],
 "metadata": {
  "kernelspec": {
   "display_name": "Python 3",
   "language": "python",
   "name": "python3"
  },
  "language_info": {
   "codemirror_mode": {
    "name": "ipython",
    "version": 3
   },
   "file_extension": ".py",
   "mimetype": "text/x-python",
   "name": "python",
   "nbconvert_exporter": "python",
   "pygments_lexer": "ipython3",
   "version": "3.7.3"
  }
 },
 "nbformat": 4,
 "nbformat_minor": 2
}
