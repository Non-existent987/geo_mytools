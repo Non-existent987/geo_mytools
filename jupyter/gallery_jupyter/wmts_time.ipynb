{
 "cells": [
  {
   "cell_type": "code",
   "execution_count": 1,
   "metadata": {},
   "outputs": [],
   "source": [
    "%matplotlib inline"
   ]
  },
  {
   "cell_type": "markdown",
   "metadata": {},
   "source": [
    "\n",
    "Web Map Tile Service time dimension demonstration\n",
    "-------------------------------------------------\n",
    "\n",
    "This example further demonstrates WMTS support within cartopy. Optional\n",
    "keyword arguments can be supplied to the OGC WMTS 'gettile' method. This\n",
    "allows for the specification of the 'time' dimension for a WMTS layer\n",
    "which supports it.\n",
    "\n",
    "The example shows satellite imagery retrieved from NASA's Global Imagery\n",
    "Browse Services for 5th Feb 2016. A true color MODIS image is shown on\n",
    "the left, with the MODIS false color 'snow RGB' shown on the right.\n",
    "\n",
    "\n"
   ]
  },
  {
   "cell_type": "code",
   "execution_count": 2,
   "metadata": {},
   "outputs": [
    {
     "ename": "ModuleNotFoundError",
     "evalue": "No module named 'owslib'",
     "output_type": "error",
     "traceback": [
      "\u001b[1;31m---------------------------------------------------------------------------\u001b[0m",
      "\u001b[1;31mModuleNotFoundError\u001b[0m                       Traceback (most recent call last)",
      "\u001b[1;32m<ipython-input-2-423158673c43>\u001b[0m in \u001b[0;36m<module>\u001b[1;34m()\u001b[0m\n\u001b[0;32m      1\u001b[0m \u001b[1;32mimport\u001b[0m \u001b[0mmatplotlib\u001b[0m\u001b[1;33m.\u001b[0m\u001b[0mpyplot\u001b[0m \u001b[1;32mas\u001b[0m \u001b[0mplt\u001b[0m\u001b[1;33m\u001b[0m\u001b[1;33m\u001b[0m\u001b[0m\n\u001b[0;32m      2\u001b[0m \u001b[1;32mimport\u001b[0m \u001b[0mmatplotlib\u001b[0m\u001b[1;33m.\u001b[0m\u001b[0mpatheffects\u001b[0m \u001b[1;32mas\u001b[0m \u001b[0mPathEffects\u001b[0m\u001b[1;33m\u001b[0m\u001b[1;33m\u001b[0m\u001b[0m\n\u001b[1;32m----> 3\u001b[1;33m \u001b[1;32mfrom\u001b[0m \u001b[0mowslib\u001b[0m\u001b[1;33m.\u001b[0m\u001b[0mwmts\u001b[0m \u001b[1;32mimport\u001b[0m \u001b[0mWebMapTileService\u001b[0m\u001b[1;33m\u001b[0m\u001b[1;33m\u001b[0m\u001b[0m\n\u001b[0m\u001b[0;32m      4\u001b[0m \u001b[1;33m\u001b[0m\u001b[0m\n\u001b[0;32m      5\u001b[0m \u001b[1;32mimport\u001b[0m \u001b[0mcartopy\u001b[0m\u001b[1;33m.\u001b[0m\u001b[0mcrs\u001b[0m \u001b[1;32mas\u001b[0m \u001b[0mccrs\u001b[0m\u001b[1;33m\u001b[0m\u001b[1;33m\u001b[0m\u001b[0m\n",
      "\u001b[1;31mModuleNotFoundError\u001b[0m: No module named 'owslib'"
     ]
    }
   ],
   "source": [
    "import matplotlib.pyplot as plt\n",
    "import matplotlib.patheffects as PathEffects\n",
    "from owslib.wmts import WebMapTileService\n",
    "\n",
    "import cartopy.crs as ccrs\n",
    "\n",
    "\n",
    "def main():\n",
    "    # URL of NASA GIBS\n",
    "    URL = 'http://gibs.earthdata.nasa.gov/wmts/epsg4326/best/wmts.cgi'\n",
    "    wmts = WebMapTileService(URL)\n",
    "\n",
    "    # Layers for MODIS true color and snow RGB\n",
    "    layers = ['MODIS_Terra_SurfaceReflectance_Bands143',\n",
    "              'MODIS_Terra_CorrectedReflectance_Bands367']\n",
    "\n",
    "    date_str = '2016-02-05'\n",
    "\n",
    "    # Plot setup\n",
    "    plot_CRS = ccrs.Mercator()\n",
    "    geodetic_CRS = ccrs.Geodetic()\n",
    "    x0, y0 = plot_CRS.transform_point(4.6, 43.1, geodetic_CRS)\n",
    "    x1, y1 = plot_CRS.transform_point(11.0, 47.4, geodetic_CRS)\n",
    "    ysize = 8\n",
    "    xsize = 2 * ysize * (x1 - x0) / (y1 - y0)\n",
    "    fig = plt.figure(figsize=(xsize, ysize), dpi=100)\n",
    "\n",
    "    for layer, offset in zip(layers, [0, 0.5]):\n",
    "        ax = fig.add_axes([offset, 0, 0.5, 1], projection=plot_CRS)\n",
    "        ax.set_xlim((x0, x1))\n",
    "        ax.set_ylim((y0, y1))\n",
    "        ax.add_wmts(wmts, layer, wmts_kwargs={'time': date_str})\n",
    "        txt = ax.text(4.7, 43.2, wmts[layer].title, fontsize=18, color='wheat',\n",
    "                      transform=geodetic_CRS)\n",
    "        txt.set_path_effects([PathEffects.withStroke(linewidth=5,\n",
    "                                                     foreground='black')])\n",
    "    plt.show()\n",
    "\n",
    "\n",
    "if __name__ == '__main__':\n",
    "    main()"
   ]
  }
 ],
 "metadata": {
  "kernelspec": {
   "display_name": "Python 3",
   "language": "python",
   "name": "python3"
  },
  "language_info": {
   "codemirror_mode": {
    "name": "ipython",
    "version": 3
   },
   "file_extension": ".py",
   "mimetype": "text/x-python",
   "name": "python",
   "nbconvert_exporter": "python",
   "pygments_lexer": "ipython3",
   "version": "3.7.3"
  }
 },
 "nbformat": 4,
 "nbformat_minor": 1
}
