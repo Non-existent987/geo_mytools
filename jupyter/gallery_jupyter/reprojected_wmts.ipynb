{
 "cells": [
  {
   "cell_type": "code",
   "execution_count": 1,
   "metadata": {},
   "outputs": [],
   "source": [
    "%matplotlib inline"
   ]
  },
  {
   "cell_type": "markdown",
   "metadata": {},
   "source": [
    "\n",
    "Displaying WMTS tiled map data on an arbitrary projection\n",
    "---------------------------------------------------------\n",
    "\n",
    "This example displays imagery from a web map tile service on two different\n",
    "projections, one of which is not provided by the service.\n",
    "\n",
    "This result can also be interactively panned and zoomed.\n",
    "\n",
    "The example WMTS layer is a single composite of data sampled over nine days\n",
    "in April 2012 and thirteen days in October 2012 showing the Earth at night.\n",
    "It does not vary over time.\n",
    "\n",
    "The imagery was collected by the Suomi National Polar-orbiting Partnership\n",
    "(Suomi NPP) weather satellite operated by the United States National Oceanic\n",
    "and Atmospheric Administration (NOAA).\n",
    "\n",
    "\n"
   ]
  },
  {
   "cell_type": "code",
   "execution_count": 2,
   "metadata": {},
   "outputs": [
    {
     "ename": "ImportError",
     "evalue": "OWSLib is required to use OGC web services.",
     "output_type": "error",
     "traceback": [
      "\u001b[1;31m---------------------------------------------------------------------------\u001b[0m",
      "\u001b[1;31mImportError\u001b[0m                               Traceback (most recent call last)",
      "\u001b[1;32m<ipython-input-2-5d8ba690b89f>\u001b[0m in \u001b[0;36m<module>\u001b[1;34m()\u001b[0m\n\u001b[0;32m     34\u001b[0m \u001b[1;33m\u001b[0m\u001b[0m\n\u001b[0;32m     35\u001b[0m \u001b[1;32mif\u001b[0m \u001b[0m__name__\u001b[0m \u001b[1;33m==\u001b[0m \u001b[1;34m'__main__'\u001b[0m\u001b[1;33m:\u001b[0m\u001b[1;33m\u001b[0m\u001b[1;33m\u001b[0m\u001b[0m\n\u001b[1;32m---> 36\u001b[1;33m     \u001b[0mplot_city_lights\u001b[0m\u001b[1;33m(\u001b[0m\u001b[1;33m)\u001b[0m\u001b[1;33m\u001b[0m\u001b[1;33m\u001b[0m\u001b[0m\n\u001b[0m",
      "\u001b[1;32m<ipython-input-2-5d8ba690b89f>\u001b[0m in \u001b[0;36mplot_city_lights\u001b[1;34m()\u001b[0m\n\u001b[0;32m     20\u001b[0m     \u001b[0max\u001b[0m\u001b[1;33m.\u001b[0m\u001b[0mgridlines\u001b[0m\u001b[1;33m(\u001b[0m\u001b[0mcolor\u001b[0m\u001b[1;33m=\u001b[0m\u001b[1;34m'lightgrey'\u001b[0m\u001b[1;33m,\u001b[0m \u001b[0mlinestyle\u001b[0m\u001b[1;33m=\u001b[0m\u001b[1;34m'-'\u001b[0m\u001b[1;33m)\u001b[0m\u001b[1;33m\u001b[0m\u001b[1;33m\u001b[0m\u001b[0m\n\u001b[0;32m     21\u001b[0m     \u001b[1;31m# Add WMTS imaging.\u001b[0m\u001b[1;33m\u001b[0m\u001b[1;33m\u001b[0m\u001b[1;33m\u001b[0m\u001b[0m\n\u001b[1;32m---> 22\u001b[1;33m     \u001b[0max\u001b[0m\u001b[1;33m.\u001b[0m\u001b[0madd_wmts\u001b[0m\u001b[1;33m(\u001b[0m\u001b[0mbase_uri\u001b[0m\u001b[1;33m,\u001b[0m \u001b[0mlayer_name\u001b[0m\u001b[1;33m=\u001b[0m\u001b[0mlayer_name\u001b[0m\u001b[1;33m)\u001b[0m\u001b[1;33m\u001b[0m\u001b[1;33m\u001b[0m\u001b[0m\n\u001b[0m\u001b[0;32m     23\u001b[0m \u001b[1;33m\u001b[0m\u001b[0m\n\u001b[0;32m     24\u001b[0m     \u001b[1;31m# Plot WMTS data on a rotated map, over the same nominal region.\u001b[0m\u001b[1;33m\u001b[0m\u001b[1;33m\u001b[0m\u001b[1;33m\u001b[0m\u001b[0m\n",
      "\u001b[1;32mC:\\ProgramData\\Anaconda3\\lib\\site-packages\\cartopy\\mpl\\geoaxes.py\u001b[0m in \u001b[0;36madd_wmts\u001b[1;34m(self, wmts, layer_name, wmts_kwargs, **kwargs)\u001b[0m\n\u001b[0;32m   1939\u001b[0m         \u001b[1;32mfrom\u001b[0m \u001b[0mcartopy\u001b[0m\u001b[1;33m.\u001b[0m\u001b[0mio\u001b[0m\u001b[1;33m.\u001b[0m\u001b[0mogc_clients\u001b[0m \u001b[1;32mimport\u001b[0m \u001b[0mWMTSRasterSource\u001b[0m\u001b[1;33m\u001b[0m\u001b[1;33m\u001b[0m\u001b[0m\n\u001b[0;32m   1940\u001b[0m         wmts = WMTSRasterSource(wmts, layer_name,\n\u001b[1;32m-> 1941\u001b[1;33m                                 gettile_extra_kwargs=wmts_kwargs)\n\u001b[0m\u001b[0;32m   1942\u001b[0m         \u001b[1;32mreturn\u001b[0m \u001b[0mself\u001b[0m\u001b[1;33m.\u001b[0m\u001b[0madd_raster\u001b[0m\u001b[1;33m(\u001b[0m\u001b[0mwmts\u001b[0m\u001b[1;33m,\u001b[0m \u001b[1;33m**\u001b[0m\u001b[0mkwargs\u001b[0m\u001b[1;33m)\u001b[0m\u001b[1;33m\u001b[0m\u001b[1;33m\u001b[0m\u001b[0m\n\u001b[0;32m   1943\u001b[0m \u001b[1;33m\u001b[0m\u001b[0m\n",
      "\u001b[1;32mC:\\ProgramData\\Anaconda3\\lib\\site-packages\\cartopy\\io\\ogc_clients.py\u001b[0m in \u001b[0;36m__init__\u001b[1;34m(self, wmts, layer_name, gettile_extra_kwargs)\u001b[0m\n\u001b[0;32m    373\u001b[0m         \"\"\"\n\u001b[0;32m    374\u001b[0m         \u001b[1;32mif\u001b[0m \u001b[0mWebMapService\u001b[0m \u001b[1;32mis\u001b[0m \u001b[1;32mNone\u001b[0m\u001b[1;33m:\u001b[0m\u001b[1;33m\u001b[0m\u001b[1;33m\u001b[0m\u001b[0m\n\u001b[1;32m--> 375\u001b[1;33m             \u001b[1;32mraise\u001b[0m \u001b[0mImportError\u001b[0m\u001b[1;33m(\u001b[0m\u001b[0m_OWSLIB_REQUIRED\u001b[0m\u001b[1;33m)\u001b[0m\u001b[1;33m\u001b[0m\u001b[1;33m\u001b[0m\u001b[0m\n\u001b[0m\u001b[0;32m    376\u001b[0m \u001b[1;33m\u001b[0m\u001b[0m\n\u001b[0;32m    377\u001b[0m         if not (hasattr(wmts, 'tilematrixsets') and\n",
      "\u001b[1;31mImportError\u001b[0m: OWSLib is required to use OGC web services."
     ]
    },
    {
     "name": "stderr",
     "output_type": "stream",
     "text": [
      "C:\\ProgramData\\Anaconda3\\lib\\site-packages\\cartopy\\io\\__init__.py:260: DownloadWarning: Downloading: http://naciscdn.org/naturalearth/50m/physical/ne_50m_coastline.zip\n",
      "  warnings.warn('Downloading: {}'.format(url), DownloadWarning)\n"
     ]
    },
    {
     "data": {
      "image/png": "[encoded data removed]",
      "text/plain": [
       "<Figure size 432x288 with 1 Axes>"
      ]
     },
     "metadata": {
      "needs_background": "light"
     },
     "output_type": "display_data"
    }
   ],
   "source": [
    "import matplotlib.pyplot as plt\n",
    "import cartopy.crs as ccrs\n",
    "\n",
    "\n",
    "def plot_city_lights():\n",
    "    # Define resource for the NASA night-time illumination data.\n",
    "    base_uri = 'http://map1c.vis.earthdata.nasa.gov/wmts-geo/wmts.cgi'\n",
    "    layer_name = 'VIIRS_CityLights_2012'\n",
    "\n",
    "    # Create a Cartopy crs for plain and rotated lat-lon projections.\n",
    "    plain_crs = ccrs.PlateCarree()\n",
    "    rotated_crs = ccrs.RotatedPole(pole_longitude=120.0, pole_latitude=45.0)\n",
    "\n",
    "    fig = plt.figure()\n",
    "\n",
    "    # Plot WMTS data in a specific region, over a plain lat-lon map.\n",
    "    ax = fig.add_subplot(1, 2, 1, projection=plain_crs)\n",
    "    ax.set_extent([-6, 3, 48, 58], crs=ccrs.PlateCarree())\n",
    "    ax.coastlines(resolution='50m', color='yellow')\n",
    "    ax.gridlines(color='lightgrey', linestyle='-')\n",
    "    # Add WMTS imaging.\n",
    "    ax.add_wmts(base_uri, layer_name=layer_name)\n",
    "\n",
    "    # Plot WMTS data on a rotated map, over the same nominal region.\n",
    "    ax = fig.add_subplot(1, 2, 2, projection=rotated_crs)\n",
    "    ax.set_extent([-6, 3, 48, 58], crs=ccrs.PlateCarree())\n",
    "    ax.coastlines(resolution='50m', color='yellow')\n",
    "    ax.gridlines(color='lightgrey', linestyle='-')\n",
    "    # Add WMTS imaging.\n",
    "    ax.add_wmts(base_uri, layer_name=layer_name)\n",
    "\n",
    "    plt.show()\n",
    "\n",
    "\n",
    "if __name__ == '__main__':\n",
    "    plot_city_lights()"
   ]
  }
 ],
 "metadata": {
  "kernelspec": {
   "display_name": "Python 3",
   "language": "python",
   "name": "python3"
  },
  "language_info": {
   "codemirror_mode": {
    "name": "ipython",
    "version": 3
   },
   "file_extension": ".py",
   "mimetype": "text/x-python",
   "name": "python",
   "nbconvert_exporter": "python",
   "pygments_lexer": "ipython3",
   "version": "3.7.3"
  }
 },
 "nbformat": 4,
 "nbformat_minor": 1
}
