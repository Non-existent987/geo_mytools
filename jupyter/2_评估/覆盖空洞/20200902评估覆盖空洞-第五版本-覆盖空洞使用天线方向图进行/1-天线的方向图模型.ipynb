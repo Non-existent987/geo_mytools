{
 "cells": [
  {
   "cell_type": "code",
   "execution_count": null,
   "metadata": {
    "ExecuteTime": {
     "end_time": "2020-09-10T14:18:19.287953Z",
     "start_time": "2020-09-10T14:18:17.086174Z"
    }
   },
   "outputs": [],
   "source": [
    "import pandas as pd\n",
    "import mytools,os\n",
    "from geographiclib.geodesic import Geodesic\n",
    "from shapely.geometry import Polygon,Point,LineString\n",
    "import geopandas as gpd\n",
    "from shapely.ops import unary_union"
   ]
  },
  {
   "cell_type": "markdown",
   "metadata": {},
   "source": [
    "# 第五版本覆盖空洞\n",
    "### 使用天线方向模型进行修正\n",
    "使用农村1500距离和1800距离为半径\n",
    "### 使用每十度一个扇形修正\n",
    "使用270-90度的方向图层为有效数据"
   ]
  },
  {
   "cell_type": "code",
   "execution_count": null,
   "metadata": {
    "ExecuteTime": {
     "end_time": "2020-09-10T14:18:23.769022Z",
     "start_time": "2020-09-10T14:18:19.297955Z"
    }
   },
   "outputs": [],
   "source": [
    "#导入工参数据\n",
    "gongcan = pd.read_csv(open('G:/1-规划/评估/覆盖空洞/20200712第四版本/1-基础数据/ltejizhan20200616&微站_合并.csv',encoding='gbk'),usecols=[\n",
    "    '小区CGI(*)','所属地区','小区中文名','RRU经度', 'RRU纬度','天线挂高','工作频段', '方位角','归属区县','厂家名称' ])\n",
    "#设置变量通用名\n",
    "print('设置变量通用名')\n",
    "id = '小区CGI(*)'\n",
    "lon = 'RRU经度'\n",
    "lat = 'RRU纬度'\n",
    "zhishi = '工作频段'\n",
    "fw = '方位角'\n",
    "\n",
    "gongcan = gongcan.loc[(gongcan['RRU经度']>108)&\n",
    "            (gongcan['RRU经度']<117)&\n",
    "            (gongcan['RRU纬度']>28)&\n",
    "            (gongcan['RRU纬度']<34)&\n",
    "           (gongcan['方位角'].notnull())]"
   ]
  },
  {
   "cell_type": "code",
   "execution_count": null,
   "metadata": {
    "ExecuteTime": {
     "end_time": "2020-09-10T14:18:24.292089Z",
     "start_time": "2020-09-10T14:18:23.790025Z"
    }
   },
   "outputs": [],
   "source": [
    "#只要宏站\n",
    "gongcan['小区中文名'] = gongcan['小区中文名'].fillna('无')\n",
    "gongcan = gongcan.loc[~gongcan['小区中文名'].str.contains('W-')]\n",
    "gongcan = gongcan.loc[~gongcan['小区中文名'].str.contains('R')]\n",
    "# gongcan = gongcan.loc[~gongcan['小区中文名'].str.contains('M-')]"
   ]
  },
  {
   "cell_type": "code",
   "execution_count": null,
   "metadata": {
    "ExecuteTime": {
     "end_time": "2020-09-10T14:18:24.546621Z",
     "start_time": "2020-09-10T14:18:24.308091Z"
    }
   },
   "outputs": [],
   "source": [
    "gongcan['小区中文名'] = gongcan['小区中文名'].fillna('无')\n",
    "gongcan.loc[gongcan['小区中文名'].str.contains('M-')].shape"
   ]
  },
  {
   "cell_type": "code",
   "execution_count": null,
   "metadata": {
    "ExecuteTime": {
     "end_time": "2020-09-10T14:18:52.854716Z",
     "start_time": "2020-09-10T14:18:24.590127Z"
    }
   },
   "outputs": [],
   "source": [
    "#打标场景\n",
    "gongcan = mytools.gisn.points_coverage_merge(gongcan,lon,lat)\n",
    "print('添加覆盖距离')\n",
    "gongcan_loc_juli = mytools.gisn.changjing_distance(gongcan,'区域类型',zhishi)"
   ]
  },
  {
   "cell_type": "code",
   "execution_count": null,
   "metadata": {
    "ExecuteTime": {
     "end_time": "2020-09-10T14:18:52.964730Z",
     "start_time": "2020-09-10T14:18:52.895221Z"
    }
   },
   "outputs": [],
   "source": [
    "gongcan_loc_juli.loc[(gongcan_loc_juli['区域类型']=='农村')&(gongcan_loc_juli['工作频段']=='FDD900'),'distance']=1800"
   ]
  },
  {
   "cell_type": "code",
   "execution_count": null,
   "metadata": {
    "ExecuteTime": {
     "end_time": "2020-09-10T14:18:53.010236Z",
     "start_time": "2020-09-10T14:18:52.992733Z"
    }
   },
   "outputs": [],
   "source": [
    "gongcan_loc_juli.head(1)"
   ]
  },
  {
   "cell_type": "code",
   "execution_count": null,
   "metadata": {
    "ExecuteTime": {
     "end_time": "2020-09-10T14:18:53.039739Z",
     "start_time": "2020-09-10T14:18:53.036239Z"
    }
   },
   "outputs": [],
   "source": [
    "gongcan_loc_juli.shape"
   ]
  },
  {
   "cell_type": "markdown",
   "metadata": {},
   "source": [
    "# 覆盖模型修正"
   ]
  },
  {
   "cell_type": "code",
   "execution_count": null,
   "metadata": {
    "ExecuteTime": {
     "end_time": "2020-09-10T14:18:53.367781Z",
     "start_time": "2020-09-10T14:18:53.068743Z"
    }
   },
   "outputs": [],
   "source": [
    "gongcan_loc_juli['工作频段'] = gongcan_loc_juli['工作频段'].apply(lambda x: 900 if x=='FDD900' else 1800)\n",
    "\n",
    "gd,band= map(np.log10, (gongcan_loc_juli['天线挂高'],gongcan_loc_juli['工作频段']))\n",
    "\n",
    "gongcan_loc_juli['覆盖模型距离'] = np.power(10,\n",
    "                                      (148 - (46.3+33.9*band-13.82*gd-(-3.81))- 3)/(44.9-6.55*gd))*1000\n",
    "\n",
    "gongcan_loc_juli['30米覆盖模型距离'] = np.power(10,\n",
    "                                      (148 - (46.3+33.9*band-13.82*np.log10(30)-(-3.81))- 3)/(44.9-6.55*np.log10(30)))*1000\n",
    "\n",
    "gongcan_loc_juli['使用覆盖半径'] = gongcan_loc_juli['覆盖模型距离'] /gongcan_loc_juli['30米覆盖模型距离']*gongcan_loc_juli['distance']"
   ]
  },
  {
   "cell_type": "code",
   "execution_count": null,
   "metadata": {
    "ExecuteTime": {
     "end_time": "2020-09-10T14:18:53.422288Z",
     "start_time": "2020-09-10T14:18:53.403285Z"
    }
   },
   "outputs": [],
   "source": [
    "def fuck(x):\n",
    "    if x['区域类型']=='主城区':\n",
    "        if x['工作频段']==900:\n",
    "            if x['使用覆盖半径']<200:\n",
    "                return 200\n",
    "            elif x['使用覆盖半径']>400:\n",
    "                return 400\n",
    "            else:\n",
    "                return x['distance']\n",
    "        else:\n",
    "            if x['使用覆盖半径']<150:\n",
    "                return 150\n",
    "            elif x['使用覆盖半径']>350:\n",
    "                return 350\n",
    "            else:\n",
    "                return x['distance']\n",
    "    elif  x['区域类型']=='县城':\n",
    "        if x['工作频段']==900:\n",
    "            if x['使用覆盖半径']<300:\n",
    "                return 300\n",
    "            elif x['使用覆盖半径']>430:\n",
    "                return 430\n",
    "            else:\n",
    "                return x['distance']\n",
    "        else:\n",
    "            if x['使用覆盖半径']<250:\n",
    "                return 250\n",
    "            elif x['使用覆盖半径']>400:\n",
    "                return 400\n",
    "            else:\n",
    "                return x['distance']\n",
    "    elif  x['区域类型']=='一般城区':\n",
    "        if x['工作频段']==900:\n",
    "            if x['使用覆盖半径']<400:\n",
    "                return 400\n",
    "            elif x['使用覆盖半径']>1200:\n",
    "                return 1200\n",
    "            else:\n",
    "                return x['distance']\n",
    "        else:\n",
    "            if x['使用覆盖半径']<350:\n",
    "                return 350\n",
    "            elif x['使用覆盖半径']>800:\n",
    "                return 800\n",
    "            else:\n",
    "                return x['distance']\n",
    "    elif  x['区域类型']=='乡镇':\n",
    "        if x['工作频段']==900:\n",
    "            if x['使用覆盖半径']<430:\n",
    "                return 430\n",
    "            elif x['使用覆盖半径']>2200:\n",
    "                return 2200\n",
    "            else:\n",
    "                return x['distance']\n",
    "        else:\n",
    "            if x['使用覆盖半径']<400:\n",
    "                return 400\n",
    "            elif x['使用覆盖半径']>1000:\n",
    "                return 1000\n",
    "            else:\n",
    "                return x['distance']\n",
    "    elif  x['区域类型']=='农村':\n",
    "        if x['工作频段']==900:\n",
    "            if x['使用覆盖半径']<1200:\n",
    "                return 1200\n",
    "            elif x['使用覆盖半径']>2500:\n",
    "                return 2500\n",
    "            else:\n",
    "                return x['distance']\n",
    "        else:\n",
    "            if x['使用覆盖半径']<800:\n",
    "                return 800\n",
    "            elif x['使用覆盖半径']>1500:\n",
    "                return 1500\n",
    "            else:\n",
    "                return x['distance']\n",
    "    else:\n",
    "        return 0"
   ]
  },
  {
   "cell_type": "code",
   "execution_count": null,
   "metadata": {
    "ExecuteTime": {
     "end_time": "2020-09-10T14:19:27.972675Z",
     "start_time": "2020-09-10T14:18:53.459293Z"
    }
   },
   "outputs": [],
   "source": [
    "gongcan_loc_juli['distance_use'] = gongcan_loc_juli.apply(fuck,axis=1)"
   ]
  },
  {
   "cell_type": "markdown",
   "metadata": {},
   "source": [
    "# 按照天线方向图模型画多边形"
   ]
  },
  {
   "cell_type": "code",
   "execution_count": null,
   "metadata": {
    "ExecuteTime": {
     "end_time": "2020-09-10T14:19:28.044184Z",
     "start_time": "2020-09-10T14:19:28.019181Z"
    }
   },
   "outputs": [],
   "source": [
    "gongcan_loc_juli['所属地区'] = gongcan_loc_juli['所属地区'].fillna('wu')"
   ]
  },
  {
   "cell_type": "code",
   "execution_count": null,
   "metadata": {
    "ExecuteTime": {
     "end_time": "2020-09-10T14:19:29.519872Z",
     "start_time": "2020-09-10T14:19:28.077689Z"
    }
   },
   "outputs": [],
   "source": [
    "gongcan_loc_juli.to_pickle('temp1.data')"
   ]
  },
  {
   "cell_type": "code",
   "execution_count": null,
   "metadata": {
    "ExecuteTime": {
     "end_time": "2020-09-10T14:19:29.558377Z",
     "start_time": "2020-09-10T14:19:29.553876Z"
    }
   },
   "outputs": [],
   "source": [
    "gongcan_loc_juli.shape"
   ]
  },
  {
   "cell_type": "code",
   "execution_count": null,
   "metadata": {
    "ExecuteTime": {
     "end_time": "2020-09-10T14:19:29.601882Z",
     "start_time": "2020-09-10T14:19:29.593381Z"
    }
   },
   "outputs": [],
   "source": [
    "%%writefile temp1.py\n",
    "from geographiclib.geodesic import Geodesic\n",
    "from shapely.geometry import Polygon,Point,LineString\n",
    "import pandas as pd\n",
    "import geopandas as gpd\n",
    "import mytools,os ,sys,time,multiprocessing\n",
    "from multiprocessing import Pool\n",
    "mx_900 = mytools.othern.pickle_read('G:/mypy/mycloud/jupyter/2_评估/覆盖空洞/20200902评估覆盖空洞-第五版本-覆盖空洞使用天线方向图进行/1-基础数据/44低增益900M0下倾P3_935覆盖模型.data')\n",
    "mx_f = mytools.othern.pickle_read('G:/mypy/mycloud/jupyter/2_评估/覆盖空洞/20200902评估覆盖空洞-第五版本-覆盖空洞使用天线方向图进行/1-基础数据/F频段模型fad天线.data')\n",
    "mx_d = mytools.othern.pickle_read('G:/mypy/mycloud/jupyter/2_评估/覆盖空洞/20200902评估覆盖空洞-第五版本-覆盖空洞使用天线方向图进行/1-基础数据/D频段模型fad天线.data')\n",
    "data_z = pd.read_pickle('temp1.data')\n",
    "#导入区县图层\n",
    "def jm_z(x,jd_dp,lon,lat):\n",
    "    jl = int(x['distance_use'])\n",
    "    lon = x[lon]\n",
    "    lat = x[lat]\n",
    "    fw = x['方位角']\n",
    "    jd_dp['distance_use'] = jd_dp['电平_正'].apply(lambda x: x/37.052 *jl)\n",
    "    jd_dp_use = jd_dp.loc[(jd_dp['角度']<=90) | (jd_dp['角度']>=270)]\n",
    "    jd_dp_use['角度'] = pd.to_numeric(jd_dp_use['角度'] )\n",
    "    jd_dp_use['角度2'] = jd_dp_use['角度'].apply(lambda x: x-0+fw if x-0+fw<360 else x-0+fw-360 )\n",
    "    points=[]\n",
    "    dict_use = dict()\n",
    "    for jiao , jl in zip(jd_dp_use['角度2'],jd_dp_use['distance_use']):\n",
    "        res = Geodesic.WGS84.Direct(lat, lon, jiao, jl)\n",
    "        if int(jiao)%10==0:\n",
    "            dict_use[jiao]=res['lon2'], res['lat2']\n",
    "        points.append((res['lon2'], res['lat2']))\n",
    "    points.append(points[0])\n",
    "    pol = Polygon(points)\n",
    "    return pol\n",
    "def fcgo(data_t):\n",
    "    data_t['geometry'] = data_t.apply(lambda x:jm_z(x,mx_900,'RRU经度','RRU纬度'),axis=1)\n",
    "\n",
    "    return data_t\n",
    "if __name__ == '__main__':\n",
    "    threads = []\n",
    "    with Pool(processes=6) as pool:         # start 4 worker processes\n",
    "        aa = pd.DataFrame()\n",
    "        for name , data_t in data_z.groupby('所属地区'):\n",
    "            print(name,'开始')\n",
    "            result = pool.apply_async(fcgo, (data_t,)) # evaluate \"f(10)\" asynchronously in a single process\n",
    "            threads.append(result)\n",
    "        pool.close()#防止将更多任务提交到池中。完成所有任务后，工作进程将退出。\n",
    "        # 调用join之前，先调用close函数，否则会出错。执行完close后不会有新的线程加入到pool,\n",
    "        # join函数等待所有子线程结束\n",
    "        pool.join()\n",
    "        for result_t in threads:\n",
    "            data_tp = result_t.get()\n",
    "            aa = aa.append(data_tp)\n",
    "            print(data_tp.shape,aa.shape)\n",
    "        print(aa.shape)\n",
    "        aa.to_pickle('res.pkl')"
   ]
  },
  {
   "cell_type": "code",
   "execution_count": null,
   "metadata": {
    "ExecuteTime": {
     "end_time": "2020-09-10T14:19:29.910921Z",
     "start_time": "2020-09-10T14:19:29.635886Z"
    }
   },
   "outputs": [],
   "source": [
    "mytools.sund()"
   ]
  },
  {
   "cell_type": "code",
   "execution_count": null,
   "metadata": {
    "ExecuteTime": {
     "start_time": "2020-09-10T06:42:56.676Z"
    }
   },
   "outputs": [],
   "source": [
    "# %run temp.py\n",
    "# if os.path.exists('temp.py'):  # 如果文件存在\n",
    "#     os.remove('temp.py') # 删除文件"
   ]
  },
  {
   "cell_type": "code",
   "execution_count": null,
   "metadata": {
    "ExecuteTime": {
     "end_time": "2020-09-10T15:09:55.196084Z",
     "start_time": "2020-09-10T15:09:46.141934Z"
    }
   },
   "outputs": [],
   "source": [
    "grid_changjing = pd.read_pickle('res.pkl')\n",
    "# if os.path.exists('res.pkl'):  # 如果文件存在\n",
    "#     os.remove('res.pkl') # 删除文件\n",
    "# if os.path.exists('temp1.data'):  # 如果文件存在\n",
    "#     os.remove('temp1.data') # 删除文件"
   ]
  },
  {
   "cell_type": "code",
   "execution_count": null,
   "metadata": {
    "ExecuteTime": {
     "end_time": "2020-09-10T15:09:55.365105Z",
     "start_time": "2020-09-10T15:09:55.251091Z"
    }
   },
   "outputs": [],
   "source": [
    "gongcan_loc_juli = grid_changjing.copy()"
   ]
  },
  {
   "cell_type": "code",
   "execution_count": null,
   "metadata": {
    "ExecuteTime": {
     "end_time": "2020-09-10T15:09:56.314726Z",
     "start_time": "2020-09-10T15:09:55.432114Z"
    }
   },
   "outputs": [],
   "source": [
    "gdfdata = gpd.GeoDataFrame(gongcan_loc_juli, crs={'init': 'epsg:4326'},geometry='geometry')\n",
    "gdfdata['type'] = gdfdata.type\n",
    "gdfdata.groupby('type').count()"
   ]
  },
  {
   "cell_type": "code",
   "execution_count": null,
   "metadata": {
    "ExecuteTime": {
     "end_time": "2020-09-10T15:09:56.621765Z",
     "start_time": "2020-09-10T15:09:56.618764Z"
    }
   },
   "outputs": [],
   "source": [
    "# gdfdata.to_csv('G:/mypy/mycloud/jupyter/2_评估/覆盖空洞/20200902评估覆盖空洞-第四版本-覆盖空洞使用天线方向图进行/2-输出数据/天线方向图模型hata修正_东新.csv',encoding='gbk')\n",
    "\n",
    "# gdfdata.to_pickle('G:/mypy/mycloud/jupyter/2_评估/覆盖空洞/20200902评估覆盖空洞-第四版本-覆盖空洞使用天线方向图进行/2-输出数据/天线方向图模型hata修正_东新.data')"
   ]
  },
  {
   "cell_type": "code",
   "execution_count": null,
   "metadata": {
    "ExecuteTime": {
     "end_time": "2020-09-10T15:10:24.573314Z",
     "start_time": "2020-09-10T15:09:56.923803Z"
    }
   },
   "outputs": [],
   "source": [
    "gdfdata.to_pickle('G:/1-规划/评估/覆盖空洞/20200907第五版/2-输出内容/xiaoqufugaimoxing.data')"
   ]
  },
  {
   "cell_type": "markdown",
   "metadata": {},
   "source": [
    "# 覆盖空洞计算"
   ]
  },
  {
   "cell_type": "code",
   "execution_count": null,
   "metadata": {
    "ExecuteTime": {
     "end_time": "2020-09-10T15:10:24.953362Z",
     "start_time": "2020-09-10T15:10:24.904856Z"
    }
   },
   "outputs": [],
   "source": [
    "gongcan_s = gdfdata.copy()"
   ]
  },
  {
   "cell_type": "code",
   "execution_count": null,
   "metadata": {
    "ExecuteTime": {
     "end_time": "2020-09-10T15:10:25.509433Z",
     "start_time": "2020-09-10T15:10:25.506933Z"
    }
   },
   "outputs": [],
   "source": [
    "# gongcan_s['归属区县'] = gongcan_s['归属区县'].fillna('wu')"
   ]
  },
  {
   "cell_type": "markdown",
   "metadata": {},
   "source": [
    "去掉农村覆盖到场景边界内的区域"
   ]
  },
  {
   "cell_type": "code",
   "execution_count": null,
   "metadata": {
    "ExecuteTime": {
     "end_time": "2020-09-10T15:10:44.150300Z",
     "start_time": "2020-09-10T15:10:26.071504Z"
    }
   },
   "outputs": [],
   "source": [
    "#---------------------------规划图层缩小50%的距离---------------------------\n",
    "\n",
    "guihua = gpd.read_file('G:/1-规划/图层/全省区域规划图层20200110/全省区域规划图层20200110.TAB',encoding='gbk')\n",
    "guihua['区域类型2'] = guihua['区域类型'].replace({'3A景区':'农村','4A景区':'农村','5A景区':'农村','景区':'农村','热点':'农村'})\n",
    "guihua_use = guihua.loc[guihua['区域类型2']!='农村']\n",
    "guihua_yiban = mytools.gisn.changjing_distance(guihua_use,'区域类型2','区域类型')\n",
    "guihua_yiban['distance2'] = 0-guihua_yiban['distance']/2\n",
    "guihua_res = mytools.gisn.buffer_df(guihua_yiban,'distance2')\n",
    "guihua_res.columns =['city', 'region', 'name', 'type', 'area', 'geometry', 'type2', 'distance','distance2']\n",
    "\n",
    "# guihua_res.to_file('G:/1-规划/评估/覆盖空洞/20200712第四版本/2-程序数据出-过程/2-规划图层缩小场景1800覆盖半径的一半距离/规划图层剔除农村1800场景一半.shp',encoding='utf-8')\n",
    "# guihua_res= gpd.read_file('G:/1-规划/评估/覆盖空洞/20200712第四版本/2-程序数据出-过程/2-规划图层缩小场景1800覆盖半径的一半距离/规划图层剔除农村1800场景一半.shp',encoding='utf-8')"
   ]
  },
  {
   "cell_type": "code",
   "execution_count": null,
   "metadata": {
    "ExecuteTime": {
     "end_time": "2020-09-10T15:10:44.757877Z",
     "start_time": "2020-09-10T15:10:44.745876Z"
    }
   },
   "outputs": [],
   "source": [
    "guihua_res = guihua_res.loc[~guihua_res.is_empty]"
   ]
  },
  {
   "cell_type": "code",
   "execution_count": null,
   "metadata": {
    "ExecuteTime": {
     "end_time": "2020-09-10T15:10:46.023538Z",
     "start_time": "2020-09-10T15:10:45.355453Z"
    }
   },
   "outputs": [],
   "source": [
    "guihua_res.plot(figsize=[11,11])"
   ]
  },
  {
   "cell_type": "code",
   "execution_count": null,
   "metadata": {
    "ExecuteTime": {
     "end_time": "2020-09-10T15:12:36.416056Z",
     "start_time": "2020-09-10T15:10:46.621114Z"
    }
   },
   "outputs": [],
   "source": [
    "#---------------------------农村覆盖区域---------------------------\n",
    "gongcan_s_nc = gongcan_s.loc[gongcan_s['区域类型']=='农村']\n",
    "gongcan_s_nc['所属地区'] = gongcan_s_nc['所属地区'].fillna('wu')\n",
    "\n",
    "#全网农村小区覆盖按照地市合并\n",
    "gongcan_s_nc_city = gongcan_s_nc.dissolve(by = '所属地区')"
   ]
  },
  {
   "cell_type": "code",
   "execution_count": null,
   "metadata": {
    "ExecuteTime": {
     "end_time": "2020-09-10T15:12:49.657738Z",
     "start_time": "2020-09-10T15:12:49.650237Z"
    }
   },
   "outputs": [],
   "source": [
    "#只是留下geo去除索引，索引是地市\n",
    "gongcan_s_nc_city_use = gongcan_s_nc_city[['geometry']].reset_index()\n",
    "\n",
    "gongcan_s_nc_city_use.columns=['city','geometry']"
   ]
  },
  {
   "cell_type": "code",
   "execution_count": null,
   "metadata": {
    "ExecuteTime": {
     "end_time": "2020-09-10T15:13:13.687289Z",
     "start_time": "2020-09-10T15:13:13.678788Z"
    }
   },
   "outputs": [],
   "source": [
    "guihua_res = guihua_res.dropna(subset=['geometry'])"
   ]
  },
  {
   "cell_type": "code",
   "execution_count": null,
   "metadata": {
    "ExecuteTime": {
     "end_time": "2020-09-10T15:29:23.862986Z",
     "start_time": "2020-09-10T15:13:36.598198Z"
    }
   },
   "outputs": [],
   "source": [
    "#在全网农村覆盖区域中去掉农村覆盖到其他区域的\n",
    "nongcun = gpd.overlay(gongcan_s_nc_city_use,guihua_res,how='difference')"
   ]
  },
  {
   "cell_type": "code",
   "execution_count": null,
   "metadata": {
    "ExecuteTime": {
     "end_time": "2020-09-10T15:31:00.992319Z",
     "start_time": "2020-09-10T15:29:55.753535Z"
    }
   },
   "outputs": [],
   "source": [
    "#农村区域按照地市合并\n",
    "nongcun_city = nongcun.dissolve(by = 'city')\n",
    "\n",
    "nongcun_city =nongcun_city.reset_index()\n",
    "# nongcun_city.to_pickle('G:/1-规划/评估/覆盖空洞/20200712第四版本/2-程序数据出-过程/3-小区覆盖区域/农村场景小区覆盖区域.data')\n",
    "\n",
    "# nongcun_city = pd.read_pickle('G:/1-规划/评估/覆盖空洞/20200712第四版本/2-程序数据出-过程/3-小区覆盖区域/农村场景小区覆盖区域.data')\n",
    "\n",
    "nongcun_city.plot(figsize=[11,11])"
   ]
  },
  {
   "cell_type": "code",
   "execution_count": null,
   "metadata": {
    "ExecuteTime": {
     "end_time": "2020-09-10T15:36:23.538278Z",
     "start_time": "2020-09-10T15:31:44.617859Z"
    }
   },
   "outputs": [],
   "source": [
    "# 1-按照区县合并覆盖区域\n",
    "gongcan_s_feinc = gongcan_s.loc[gongcan_s['区域类型']!='农村']\n",
    "\n",
    "#小区覆盖区域图层只保留两列\n",
    "gongcan_s_feinc = gongcan_s_feinc[['所属地区','geometry']]\n",
    "\n",
    "gongcan_s_feinc.columns = ['city','geometry']\n",
    "\n",
    "gongcan_s_z = gongcan_s_feinc.append(nongcun_city)\n",
    "\n",
    "#小区覆盖区域按照地市合并\n",
    "gongcan_s_z = gongcan_s_z.dissolve(by = 'city')\n",
    "\n",
    "# gongcan_s_z.to_pickle('G:/1-规划/评估/覆盖空洞/20200712第四版本/2-程序数据出-过程/3-小区覆盖区域/农村和非农村合并全网覆盖图层按照地市合并.data')\n",
    "\n",
    "# gongcan_s_z.to_file('G:/1-规划/评估/覆盖空洞/20200712第四版本/2-程序数据出-过程/3-小区覆盖区域/农村和非农村合并全网覆盖图层按照地市合并.shp',encoding='utf-8')\n",
    "\n",
    "mytools.sound()"
   ]
  },
  {
   "cell_type": "markdown",
   "metadata": {},
   "source": [
    "2-求出覆盖空洞原始"
   ]
  },
  {
   "cell_type": "code",
   "execution_count": null,
   "metadata": {
    "ExecuteTime": {
     "end_time": "2020-09-10T15:37:21.281610Z",
     "start_time": "2020-09-10T15:37:20.996574Z"
    }
   },
   "outputs": [],
   "source": [
    "tu = mytools.gisn.maps()"
   ]
  },
  {
   "cell_type": "code",
   "execution_count": null,
   "metadata": {
    "ExecuteTime": {
     "end_time": "2020-09-10T15:41:16.126432Z",
     "start_time": "2020-09-10T15:38:19.011441Z"
    }
   },
   "outputs": [],
   "source": [
    "city_tu_diff = gpd.overlay(tu,gongcan_s_z,how='difference')\n",
    "\n",
    "city_tu_diff.to_pickle('G:/1-规划/评估/覆盖空洞/20200907第五版/2-输出内容/原始空洞.data')\n",
    "\n",
    "city_tu_diff.to_file('G:/1-规划/评估/覆盖空洞/20200907第五版/2-输出内容/原始空洞.shp',encoding='utf-8')"
   ]
  },
  {
   "cell_type": "code",
   "execution_count": null,
   "metadata": {
    "ExecuteTime": {
     "end_time": "2020-09-10T15:42:36.493637Z",
     "start_time": "2020-09-10T15:42:30.826417Z"
    }
   },
   "outputs": [],
   "source": [
    "city_tu_diff.plot(figsize=(11,11),color='gray')"
   ]
  },
  {
   "cell_type": "code",
   "execution_count": null,
   "metadata": {
    "ExecuteTime": {
     "start_time": "2020-09-10T15:09:55.295Z"
    }
   },
   "outputs": [],
   "source": [
    "mytools.sound()"
   ]
  },
  {
   "cell_type": "markdown",
   "metadata": {},
   "source": [
    "# -------------剔除水系-------------"
   ]
  },
  {
   "cell_type": "code",
   "execution_count": null,
   "metadata": {
    "ExecuteTime": {
     "start_time": "2020-09-10T15:09:56.298Z"
    }
   },
   "outputs": [],
   "source": [
    "city_tu_diff.head(1)"
   ]
  },
  {
   "cell_type": "code",
   "execution_count": null,
   "metadata": {
    "ExecuteTime": {
     "end_time": "2020-09-10T07:09:03.884040Z",
     "start_time": "2020-09-10T07:09:03.664012Z"
    }
   },
   "outputs": [],
   "source": [
    "# city_tu_diff = pd.read_pickle('G:/1-规划/评估/覆盖空洞/20200907第五版/2-输出内容/原始空洞.data')"
   ]
  },
  {
   "cell_type": "code",
   "execution_count": null,
   "metadata": {
    "ExecuteTime": {
     "end_time": "2020-09-10T07:09:29.953850Z",
     "start_time": "2020-09-10T07:09:04.146Z"
    }
   },
   "outputs": [],
   "source": [
    "# hb_sx_city=pd.read_pickle('G:/1-规划/图层/水域/水域按照地市划分.data')"
   ]
  },
  {
   "cell_type": "code",
   "execution_count": null,
   "metadata": {
    "ExecuteTime": {
     "end_time": "2020-09-10T07:12:59.153415Z",
     "start_time": "2020-09-10T07:12:58.485330Z"
    }
   },
   "outputs": [],
   "source": [
    "hb_sx_city1 = pd.read_pickle('G:/1-规划/图层/水域/水域按照地市合并.data')"
   ]
  },
  {
   "cell_type": "code",
   "execution_count": null,
   "metadata": {
    "ExecuteTime": {
     "start_time": "2020-09-10T08:20:47.992Z"
    }
   },
   "outputs": [],
   "source": [
    "kongdong_t = gpd.overlay(city_tu_diff,hb_sx_city1,how='difference')"
   ]
  },
  {
   "cell_type": "code",
   "execution_count": null,
   "metadata": {
    "ExecuteTime": {
     "end_time": "2020-09-10T07:13:37.863331Z",
     "start_time": "2020-09-10T07:13:05.229Z"
    }
   },
   "outputs": [],
   "source": [
    "%%writefile temp2.py\n",
    "from geographiclib.geodesic import Geodesic\n",
    "from shapely.geometry import Polygon,Point,LineString\n",
    "import pandas as pd\n",
    "import geopandas as gpd\n",
    "import mytools,os ,sys,time,multiprocessing\n",
    "from multiprocessing import Pool\n",
    "hb_sx_city1 = pd.read_pickle('G:/1-规划/图层/水域/水域按照地市合并.data')\n",
    "city_tu_diff = pd.read_pickle('G:/1-规划/评估/覆盖空洞/20200907第五版/2-输出内容/原始空洞.data')\n",
    "citys = ['十堰','咸宁','天门','孝感', '宜昌','恩施','武汉', '江汉', '潜江', '荆州', '荆门', '襄阳', '鄂州', '随州', '黄冈', '黄石']\n",
    "\n",
    "def fcgo(city_tu_diff_t,hb_sx_city1_t):\n",
    "    kongdong_t = gpd.overlay(city_tu_diff_t,hb_sx_city1_t,how='difference')\n",
    "    return kongdong_t\n",
    "\n",
    "    return data_t\n",
    "if __name__ == '__main__':\n",
    "    threads = []\n",
    "    with Pool(processes=6) as pool:         # start 4 worker processes\n",
    "        aa = pd.DataFrame()\n",
    "        for name in citys:\n",
    "            city_tu_diff_t = city_tu_diff.loc[city_tu_diff['city']==name]\n",
    "            hb_sx_city1_t = hb_sx_city1.loc[hb_sx_city1['city']==name]\n",
    "            print(name,'开始')\n",
    "            result = pool.apply_async(fcgo, (city_tu_diff_t,hb_sx_city1_t,)) # evaluate \"f(10)\" asynchronously in a single process\n",
    "            threads.append(result)\n",
    "        pool.close()#防止将更多任务提交到池中。完成所有任务后，工作进程将退出。\n",
    "        # 调用join之前，先调用close函数，否则会出错。执行完close后不会有新的线程加入到pool,\n",
    "        # join函数等待所有子线程结束\n",
    "        pool.join()\n",
    "        for result_t in threads:\n",
    "            data_tp = result_t.get()\n",
    "            aa = aa.append(data_tp)\n",
    "            print(data_tp.shape,aa.shape)\n",
    "        print(aa.shape)\n",
    "        aa.to_pickle('空洞.pkl')"
   ]
  },
  {
   "cell_type": "code",
   "execution_count": null,
   "metadata": {
    "ExecuteTime": {
     "end_time": "2020-09-10T07:13:37.867831Z",
     "start_time": "2020-09-10T07:13:08.569Z"
    }
   },
   "outputs": [],
   "source": [
    "%run temp.py\n",
    "if os.path.exists('temp2.py'):  # 如果文件存在\n",
    "    os.remove('temp2.py') # 删除文件"
   ]
  },
  {
   "cell_type": "code",
   "execution_count": null,
   "metadata": {
    "ExecuteTime": {
     "end_time": "2020-09-10T07:39:43.103091Z",
     "start_time": "2020-09-10T07:39:39.647152Z"
    }
   },
   "outputs": [],
   "source": [
    "grid_changjing = pd.read_pickle('空洞.pkl')\n",
    "if os.path.exists('res.pkl'):  # 如果文件存在\n",
    "    os.remove('res.pkl') # 删除文件\n",
    "if os.path.exists('temp1.data'):  # 如果文件存在\n",
    "    os.remove('temp1.data') # 删除文件"
   ]
  },
  {
   "cell_type": "code",
   "execution_count": null,
   "metadata": {
    "ExecuteTime": {
     "start_time": "2020-09-10T08:22:20.362Z"
    }
   },
   "outputs": [],
   "source": [
    "kongdong_t.plot(figsize=(11,11),color='gray')"
   ]
  },
  {
   "cell_type": "code",
   "execution_count": null,
   "metadata": {
    "ExecuteTime": {
     "start_time": "2020-09-10T08:22:27.695Z"
    }
   },
   "outputs": [],
   "source": [
    "kongdong_t.columns"
   ]
  },
  {
   "cell_type": "code",
   "execution_count": null,
   "metadata": {
    "ExecuteTime": {
     "end_time": "2020-09-10T07:45:11.155748Z",
     "start_time": "2020-09-10T07:44:57.690538Z"
    }
   },
   "outputs": [],
   "source": [
    "grid_changjing.to_pickle('G:/1-规划/评估/覆盖空洞/20200907第五版/2-输出内容/剔除水系后的空洞.data')"
   ]
  },
  {
   "cell_type": "code",
   "execution_count": null,
   "metadata": {
    "ExecuteTime": {
     "end_time": "2020-09-10T07:57:55.059252Z",
     "start_time": "2020-09-10T07:51:34.128880Z"
    }
   },
   "outputs": [],
   "source": [
    "grid_changjing.to_file('G:/1-规划/评估/覆盖空洞/20200907第五版/2-输出内容/剔除水系后的空洞.shp',encoding='utf-8')"
   ]
  },
  {
   "cell_type": "code",
   "execution_count": null,
   "metadata": {
    "ExecuteTime": {
     "start_time": "2020-09-08T13:04:37.882Z"
    }
   },
   "outputs": [],
   "source": [
    "hb_sx_city1 = pd.read_pickle('G:/1-规划/图层/水域/水域按照地市合并.data')\n",
    "kongdong = gpd.overlay(city_tu_diff,hb_sx_city1,how='difference')\n",
    "mytools.sound()\n",
    "\n",
    "kongdong.to_pickle('G:/1-规划/评估/覆盖空洞/20200907第五版/2-输出内容/剔除水系后的空洞.data')\n",
    "# kongdong.to_file('G:/1-规划/评估/覆盖空洞/20200712第四版本/2-程序数据出-过程/6-剔除水系后空洞/剔除水系后的空洞.shp',encoding='utf-8')\n",
    "kongdong.plot(figsize=(11,11),color='coral')\n",
    "mytools.sound()"
   ]
  },
  {
   "cell_type": "code",
   "execution_count": null,
   "metadata": {
    "ExecuteTime": {
     "start_time": "2020-09-08T13:04:38.455Z"
    }
   },
   "outputs": [],
   "source": [
    "kongdong.to_pickle('G:/1-规划/评估/覆盖空洞/20200907第五版/2-输出内容/剔除水系后的空洞.data')"
   ]
  },
  {
   "cell_type": "markdown",
   "metadata": {},
   "source": [
    "# -------------空洞有效数据整理-------------"
   ]
  },
  {
   "cell_type": "markdown",
   "metadata": {},
   "source": [
    "# 1-拆分成多个空洞-打标场景 划分大中小微"
   ]
  },
  {
   "cell_type": "code",
   "execution_count": null,
   "metadata": {
    "ExecuteTime": {
     "start_time": "2020-09-08T13:04:44.356Z"
    }
   },
   "outputs": [],
   "source": [
    "# 1-拆分成多个空洞-打标场景 划分大中小微"
   ]
  },
  {
   "cell_type": "code",
   "execution_count": null,
   "metadata": {
    "ExecuteTime": {
     "start_time": "2020-09-08T13:04:44.570Z"
    }
   },
   "outputs": [],
   "source": [
    "kongdong.head(1)\n",
    "\n",
    "kongdong['type'] =  kongdong.type\n",
    "\n",
    "kongdong.groupby('type').count()\n",
    "\n",
    "kongd_use = kongdong.loc[kongdong['type']=='Polygon'].append(kongdong.loc[kongdong['type']=='MultiPolygon'].explode())\n",
    "\n",
    "kongd_use.shape\n",
    "\n",
    "kongd_mianji = mytools.gisn.add_area(kongd_use)\n",
    "\n",
    "kongd_mianji['type'] =  kongd_mianji.type\n",
    "\n",
    "kongd_mianji =kongd_mianji.reset_index(drop=True)\n",
    "\n",
    "# 打标场景\n",
    "\n",
    "kongd_mianji[['lon','lat']] = kongd_mianji.apply(lambda x:pd.Series(x['geometry'].centroid.coords[:][0]),axis=1)#\n",
    "\n",
    "result = mytools.gisn.points_coverage_merge(kongd_mianji,'lon','lat')\n",
    "\n",
    "result.shape\n",
    "\n",
    "#添加id编号\n",
    "result_id = result.reset_index(drop=True)\n",
    "result['id'] = [ 'kd_{}'.format(str(name)) for name in result_id.index+1]\n",
    "\n",
    "result['制式'] = 'FDD1800'\n",
    "result.loc[result['区域类型']=='农村','制式']='FDD900'\n",
    "\n",
    "result = mytools.gisn.changjing_distance(result,'区域类型','制式')\n",
    "\n",
    "result['标准面积'] = np.pi* result['distance']* result['distance']\n",
    "result['空洞面积比例'] = result['面积']/result['标准面积']\n",
    "\n",
    "def fuck_data(x):\n",
    "    if x['空洞面积比例']>=1:\n",
    "        return '大'\n",
    "    elif x['空洞面积比例']>=1/3:\n",
    "        return '中'\n",
    "    elif x['空洞面积比例']>=1/6:\n",
    "        return '小'\n",
    "    else:\n",
    "        return '微'\n",
    "\n",
    "result['空洞级别'] = result.apply(fuck_data,axis=1)\n",
    "\n",
    "result.head(1)\n",
    "\n",
    "result.to_pickle('G:/1-规划/评估/覆盖空洞/20200907第五版/2-输出内容/覆盖空添加场景区分大中小微.data')\n",
    "\n",
    "# result.reindex(columns=['id','city','面积','lon','lat', '区域类型','制式','distance','标准面积','空洞面积比例','空洞级别']).to_excel(\n",
    "#     'G:/1-规划/评估/覆盖空洞/20200712第四版本/3-拆分后的空洞/覆盖空19481个添加场景区分大中小微.xlsx',index=False)\n",
    "\n",
    "# result.columns = ['city', 'type', 'geometry', 'area', 'lon', 'lat', 'regiontype', 'id', 'frequency ',\n",
    "#        'distance', 'scene_area', 'kd_area_specific', 'kd_class']"
   ]
  },
  {
   "cell_type": "code",
   "execution_count": null,
   "metadata": {
    "ExecuteTime": {
     "start_time": "2020-09-08T13:04:45.631Z"
    }
   },
   "outputs": [],
   "source": [
    "result.columns = ['city', 'qx', 'geometry', 'type', 'area', 'lon', 'lat', 'qylx', 'id', 'zhishi',\n",
    "       'distance', 'bzarea', 'kongd_area_zhanbi', 'jibie']"
   ]
  },
  {
   "cell_type": "code",
   "execution_count": null,
   "metadata": {
    "ExecuteTime": {
     "start_time": "2020-09-08T13:04:46.268Z"
    }
   },
   "outputs": [],
   "source": [
    "result.to_file('G:/1-规划/评估/覆盖空洞/20200907第五版/2-输出内容/覆盖空添加场景区分大中小微.shp',encoding='utf-8')"
   ]
  },
  {
   "cell_type": "code",
   "execution_count": null,
   "metadata": {
    "ExecuteTime": {
     "start_time": "2020-09-08T13:04:49.302Z"
    }
   },
   "outputs": [],
   "source": [
    "result.head(1)"
   ]
  },
  {
   "cell_type": "code",
   "execution_count": null,
   "metadata": {
    "ExecuteTime": {
     "start_time": "2020-09-08T13:04:49.460Z"
    }
   },
   "outputs": [],
   "source": [
    "result.groupby('jibie').count()"
   ]
  },
  {
   "cell_type": "code",
   "execution_count": null,
   "metadata": {},
   "outputs": [],
   "source": []
  },
  {
   "cell_type": "code",
   "execution_count": null,
   "metadata": {},
   "outputs": [],
   "source": []
  },
  {
   "cell_type": "code",
   "execution_count": null,
   "metadata": {},
   "outputs": [],
   "source": []
  },
  {
   "cell_type": "code",
   "execution_count": null,
   "metadata": {},
   "outputs": [],
   "source": []
  },
  {
   "cell_type": "code",
   "execution_count": null,
   "metadata": {},
   "outputs": [],
   "source": []
  },
  {
   "cell_type": "code",
   "execution_count": null,
   "metadata": {
    "ExecuteTime": {
     "end_time": "2020-09-07T06:46:07.179538Z",
     "start_time": "2020-09-07T06:46:07.165536Z"
    }
   },
   "outputs": [],
   "source": [
    "data_fg = gdfdata.explode().reset_index()"
   ]
  },
  {
   "cell_type": "code",
   "execution_count": null,
   "metadata": {
    "ExecuteTime": {
     "end_time": "2020-09-07T03:56:53.007622Z",
     "start_time": "2020-09-07T03:56:53.003622Z"
    }
   },
   "outputs": [],
   "source": [
    "f = mytools.othern.file_name_paths('G:/1-规划/图层/湖北建筑/湖北建筑/湖北建筑/',find='荆州.tab')"
   ]
  },
  {
   "cell_type": "code",
   "execution_count": null,
   "metadata": {
    "ExecuteTime": {
     "end_time": "2020-09-07T04:00:10.874748Z",
     "start_time": "2020-09-07T04:00:10.870748Z"
    }
   },
   "outputs": [],
   "source": [
    "print(data_fg['geo'][0])"
   ]
  },
  {
   "cell_type": "code",
   "execution_count": null,
   "metadata": {
    "ExecuteTime": {
     "end_time": "2020-09-07T06:03:11.151924Z",
     "start_time": "2020-09-07T06:03:11.147924Z"
    }
   },
   "outputs": [],
   "source": [
    "a = Point(1, 1).buffer(1.5)\n",
    "b = Point(2, 1).buffer(1.5)\n",
    "c = Point(4, 2)"
   ]
  },
  {
   "cell_type": "code",
   "execution_count": null,
   "metadata": {},
   "outputs": [],
   "source": []
  },
  {
   "cell_type": "code",
   "execution_count": null,
   "metadata": {
    "ExecuteTime": {
     "end_time": "2020-09-07T06:03:11.909020Z",
     "start_time": "2020-09-07T06:03:11.904520Z"
    }
   },
   "outputs": [],
   "source": [
    "a.distance(c)"
   ]
  },
  {
   "cell_type": "code",
   "execution_count": null,
   "metadata": {
    "ExecuteTime": {
     "end_time": "2020-09-07T06:06:52.141486Z",
     "start_time": "2020-09-07T06:06:52.134485Z"
    }
   },
   "outputs": [],
   "source": [
    "Point(1, 3).distance(b)"
   ]
  },
  {
   "cell_type": "code",
   "execution_count": null,
   "metadata": {
    "ExecuteTime": {
     "end_time": "2020-09-07T06:10:38.597243Z",
     "start_time": "2020-09-07T06:10:38.593242Z"
    }
   },
   "outputs": [],
   "source": [
    "b = Polygon([(1, 0), (3, 0), (3, 3),(1, 0)])"
   ]
  },
  {
   "cell_type": "code",
   "execution_count": null,
   "metadata": {
    "ExecuteTime": {
     "end_time": "2020-09-07T06:10:57.252611Z",
     "start_time": "2020-09-07T06:10:57.249611Z"
    }
   },
   "outputs": [],
   "source": [
    "c = Point(0,0)"
   ]
  },
  {
   "cell_type": "code",
   "execution_count": null,
   "metadata": {
    "ExecuteTime": {
     "end_time": "2020-09-07T06:10:58.066215Z",
     "start_time": "2020-09-07T06:10:58.060714Z"
    }
   },
   "outputs": [],
   "source": [
    "b.distance(c)"
   ]
  },
  {
   "cell_type": "code",
   "execution_count": null,
   "metadata": {
    "ExecuteTime": {
     "end_time": "2020-09-07T06:22:00.737363Z",
     "start_time": "2020-09-07T06:22:00.724862Z"
    }
   },
   "outputs": [],
   "source": [
    "data = pd.read_clipboard()"
   ]
  },
  {
   "cell_type": "code",
   "execution_count": null,
   "metadata": {
    "ExecuteTime": {
     "end_time": "2020-09-07T06:33:06.588416Z",
     "start_time": "2020-09-07T06:33:06.580915Z"
    }
   },
   "outputs": [],
   "source": [
    "data['lon'] = np.abs(113.887821 - data['lon'])\n",
    "data['lat'] = np.abs(34.020434 - data['lat'])\n",
    "data['sum'] = data['lon']+data['lat']"
   ]
  },
  {
   "cell_type": "code",
   "execution_count": null,
   "metadata": {
    "ExecuteTime": {
     "end_time": "2020-09-07T06:33:33.888382Z",
     "start_time": "2020-09-07T06:33:33.872880Z"
    }
   },
   "outputs": [],
   "source": [
    "data.sort_values('sum')"
   ]
  },
  {
   "cell_type": "code",
   "execution_count": null,
   "metadata": {},
   "outputs": [],
   "source": []
  },
  {
   "cell_type": "code",
   "execution_count": null,
   "metadata": {},
   "outputs": [],
   "source": []
  },
  {
   "cell_type": "code",
   "execution_count": null,
   "metadata": {
    "ExecuteTime": {
     "end_time": "2020-09-07T04:53:10.186469Z",
     "start_time": "2020-09-07T04:53:10.175968Z"
    }
   },
   "outputs": [],
   "source": [
    "a.unary_union(b)"
   ]
  },
  {
   "cell_type": "code",
   "execution_count": null,
   "metadata": {
    "ExecuteTime": {
     "end_time": "2020-09-07T04:49:04.193732Z",
     "start_time": "2020-09-07T04:49:04.188732Z"
    }
   },
   "outputs": [],
   "source": [
    "b"
   ]
  },
  {
   "cell_type": "code",
   "execution_count": null,
   "metadata": {
    "ExecuteTime": {
     "end_time": "2020-09-07T04:45:41.042935Z",
     "start_time": "2020-09-07T04:45:41.037935Z"
    }
   },
   "outputs": [],
   "source": [
    "b = Polygon([(112.1473500278309,30.12404993354895), (112.1474500409121,30.12404993837585), (112.153296449951,30.11625041859126), (112.1523758624733,30.12916740380928), (112.1473500278309,30.12404993354895)])"
   ]
  },
  {
   "cell_type": "code",
   "execution_count": null,
   "metadata": {},
   "outputs": [],
   "source": []
  },
  {
   "cell_type": "code",
   "execution_count": null,
   "metadata": {
    "ExecuteTime": {
     "end_time": "2020-09-07T04:46:15.085758Z",
     "start_time": "2020-09-07T04:46:15.082758Z"
    }
   },
   "outputs": [],
   "source": [
    "a = data_fg['geo'][0]"
   ]
  },
  {
   "cell_type": "code",
   "execution_count": null,
   "metadata": {
    "ExecuteTime": {
     "end_time": "2020-09-07T04:46:25.684604Z",
     "start_time": "2020-09-07T04:46:25.679604Z"
    }
   },
   "outputs": [],
   "source": [
    "a.difference(b)"
   ]
  },
  {
   "cell_type": "code",
   "execution_count": null,
   "metadata": {},
   "outputs": [],
   "source": []
  },
  {
   "cell_type": "code",
   "execution_count": null,
   "metadata": {},
   "outputs": [],
   "source": []
  },
  {
   "cell_type": "code",
   "execution_count": null,
   "metadata": {
    "ExecuteTime": {
     "end_time": "2020-09-07T03:58:08.839752Z",
     "start_time": "2020-09-07T03:56:56.720594Z"
    }
   },
   "outputs": [],
   "source": [
    "sjoin_data = gpd.GeoDataFrame()\n",
    "for name in f:\n",
    "    tuceng_t = gpd.read_file(name,encoding = 'gbk')\n",
    "    tuceng_t = tuceng_t.to_crs({'init': 'epsg:4326'})\n",
    "    linshi_t = gpd.sjoin(data_fg,tuceng_t)\n",
    "    linshi_t = linshi_t[[ '小区CGI(*)','建筑物高度','SHAPE_Area']]\n",
    "    sjoin_data = sjoin_data.append(linshi_t)\n",
    "    print(name,'ok')"
   ]
  },
  {
   "cell_type": "code",
   "execution_count": null,
   "metadata": {},
   "outputs": [],
   "source": [
    "sjoin_data['volume'] = sjoin_data['建筑物高度'] * sjoin_data['SHAPE_Area']\n",
    "\n",
    "sjoin_data_volume_h = sjoin_data.groupby('小区CGI(*)').agg({'volume':'sum','SHAPE_Area':'sum'})\n",
    "\n",
    "sjoin_data_volume_h['h_use'] = sjoin_data_volume_h['volume'] / sjoin_data_volume_h['SHAPE_Area']\n",
    "\n",
    "sjoin_data_linshi = sjoin_data_volume_h.reset_index()\n",
    "\n",
    "gongcan_zhangao = gongcan_loc_juli.merge(sjoin_data_linshi[['小区CGI(*)','h_use']],how='left',on='小区CGI(*)')\n",
    "\n",
    "gongcan_zhangao['高度建筑比'] = (gongcan_zhangao['天线挂高']-gongcan_zhangao['h_use'])/gongcan_zhangao['天线挂高']"
   ]
  },
  {
   "cell_type": "code",
   "execution_count": null,
   "metadata": {},
   "outputs": [],
   "source": []
  },
  {
   "cell_type": "code",
   "execution_count": null,
   "metadata": {},
   "outputs": [],
   "source": []
  },
  {
   "cell_type": "code",
   "execution_count": null,
   "metadata": {},
   "outputs": [],
   "source": []
  },
  {
   "cell_type": "code",
   "execution_count": null,
   "metadata": {},
   "outputs": [],
   "source": []
  },
  {
   "cell_type": "code",
   "execution_count": null,
   "metadata": {},
   "outputs": [],
   "source": []
  },
  {
   "cell_type": "code",
   "execution_count": null,
   "metadata": {
    "ExecuteTime": {
     "end_time": "2020-09-03T06:59:29.538873Z",
     "start_time": "2020-09-03T06:59:29.521370Z"
    }
   },
   "outputs": [],
   "source": [
    "jd_dp.to_clipboard()"
   ]
  },
  {
   "cell_type": "code",
   "execution_count": null,
   "metadata": {},
   "outputs": [],
   "source": []
  },
  {
   "cell_type": "code",
   "execution_count": null,
   "metadata": {},
   "outputs": [],
   "source": []
  },
  {
   "cell_type": "code",
   "execution_count": null,
   "metadata": {
    "ExecuteTime": {
     "end_time": "2020-09-03T00:57:42.060373Z",
     "start_time": "2020-09-03T00:57:42.047871Z"
    }
   },
   "outputs": [],
   "source": [
    "def jm(x):\n",
    "    jl = int(x['距离'])\n",
    "    lon = x['lon']\n",
    "    lat = x['lat']\n",
    "    fw = x['方位角']\n",
    "    jd_dp['距离'] = jd_dp['电平_正'].apply(lambda x: x/37.052 *jl)\n",
    "    jd_dp_use = jd_dp.loc[(jd_dp['角度']<=90) | (jd_dp['角度']>=270)]\n",
    "    jd_dp_use['角度'] = pd.to_numeric(jd_dp_use['角度'] )\n",
    "    jd_dp_use['角度2'] = jd_dp_use['角度'].apply(lambda x: x-0+fw if x-0+fw<360 else x-0+fw-360 )\n",
    "    points=[]\n",
    "    dict_use = dict()\n",
    "    for jiao , jl in zip(jd_dp_use['角度2'],jd_dp_use['距离']):\n",
    "        res = Geodesic.WGS84.Direct(lat, lon, jiao, jl)\n",
    "        if int(jiao)%10==0:\n",
    "            dict_use[jiao]=res['lon2'], res['lat2']\n",
    "        points.append((res['lon2'], res['lat2']))\n",
    "    points.append(points[0])\n",
    "    pol = Polygon(points)\n",
    "    lins=[]\n",
    "    for key,data_t in dict_use.items():\n",
    "        lon2,lat2=data_t\n",
    "        lins.append((lon,lat))\n",
    "        lins.append((lon2,lat2))\n",
    "    lins = [LineString([(lon, lat), (data_t[0], data_t[1])]) for key,data_t in dict_use.items()]\n",
    "    buffer_size = 0.00000000001\n",
    "    lines_buffered = [line.buffer(buffer_size) for line in lins]\n",
    "    quadrats = unary_union(lines_buffered)\n",
    "    multipoly = pol.difference(quadrats)\n",
    "    return multipoly"
   ]
  },
  {
   "cell_type": "code",
   "execution_count": null,
   "metadata": {
    "ExecuteTime": {
     "end_time": "2020-09-07T03:44:08.571051Z",
     "start_time": "2020-09-07T03:44:08.557549Z"
    }
   },
   "outputs": [],
   "source": [
    "def jm(x,jd_dp,lon,lat):\n",
    "    jl = int(x['distance_use'])\n",
    "    lon = x[lon]\n",
    "    lat = x[lat]\n",
    "    fw = x['方位角']\n",
    "    jd_dp['distance_use'] = jd_dp['电平_正'].apply(lambda x: x/37.052 *jl)\n",
    "    jd_dp_use = jd_dp.loc[(jd_dp['角度']<=90) | (jd_dp['角度']>=270)]\n",
    "    jd_dp_use['角度'] = pd.to_numeric(jd_dp_use['角度'] )\n",
    "    jd_dp_use['角度2'] = jd_dp_use['角度'].apply(lambda x: x-0+fw if x-0+fw<360 else x-0+fw-360 )\n",
    "    points=[]\n",
    "    dict_use = dict()\n",
    "    for jiao , jl in zip(jd_dp_use['角度2'],jd_dp_use['distance_use']):\n",
    "        res = Geodesic.WGS84.Direct(lat, lon, jiao, jl)\n",
    "        if int(jiao)%10==0:\n",
    "            dict_use[jiao]=res['lon2'], res['lat2']\n",
    "        points.append((res['lon2'], res['lat2']))\n",
    "    points.append(points[0])\n",
    "    pol = Polygon(points)\n",
    "    lins=[]\n",
    "    for key,data_t in dict_use.items():\n",
    "        lon2,lat2=data_t\n",
    "        lins.append((lon,lat))\n",
    "        lins.append((lon2,lat2))\n",
    "    lins = [LineString([(lon, lat), (data_t[0], data_t[1])]) for key,data_t in dict_use.items()]\n",
    "    buffer_size = 0.00000000001\n",
    "    lines_buffered = [line.buffer(buffer_size) for line in lins]\n",
    "    quadrats = unary_union(lines_buffered)\n",
    "    multipoly = pol.difference(quadrats)\n",
    "    return multipoly"
   ]
  },
  {
   "cell_type": "code",
   "execution_count": null,
   "metadata": {
    "ExecuteTime": {
     "end_time": "2020-09-03T00:57:42.115880Z",
     "start_time": "2020-09-03T00:57:42.112880Z"
    }
   },
   "outputs": [],
   "source": [
    "# data = data.set_index('cgi')"
   ]
  },
  {
   "cell_type": "code",
   "execution_count": null,
   "metadata": {
    "ExecuteTime": {
     "end_time": "2020-09-03T00:57:48.633208Z",
     "start_time": "2020-09-03T00:57:42.169387Z"
    }
   },
   "outputs": [],
   "source": [
    "data['geolin'] = data.apply(jm,axis=1)"
   ]
  },
  {
   "cell_type": "code",
   "execution_count": null,
   "metadata": {
    "ExecuteTime": {
     "end_time": "2020-09-03T00:57:48.745722Z",
     "start_time": "2020-09-03T00:57:48.725719Z"
    }
   },
   "outputs": [],
   "source": [
    "gdfdata = gpd.GeoDataFrame(data, crs={'init': 'epsg:4326'},geometry='geolin')\n",
    "\n",
    "gdfdata['type'] = gdfdata.type\n",
    "\n",
    "gdfdata.groupby('type').count()"
   ]
  },
  {
   "cell_type": "code",
   "execution_count": null,
   "metadata": {
    "ExecuteTime": {
     "end_time": "2020-09-03T00:59:15.882287Z",
     "start_time": "2020-09-03T00:59:15.845282Z"
    }
   },
   "outputs": [],
   "source": [
    "data_fg = gdfdata.explode().reset_index(drop=1)"
   ]
  },
  {
   "cell_type": "code",
   "execution_count": null,
   "metadata": {
    "ExecuteTime": {
     "end_time": "2020-09-03T02:13:55.352607Z",
     "start_time": "2020-09-03T02:13:55.323604Z"
    }
   },
   "outputs": [],
   "source": [
    "gdfdata.loc[1:1,]"
   ]
  },
  {
   "cell_type": "code",
   "execution_count": null,
   "metadata": {
    "ExecuteTime": {
     "end_time": "2020-09-03T02:14:01.665909Z",
     "start_time": "2020-09-03T02:14:01.430379Z"
    }
   },
   "outputs": [],
   "source": [
    "\n",
    "gdfdata.loc[1:1,].plot(figsize =[12,12])"
   ]
  },
  {
   "cell_type": "code",
   "execution_count": null,
   "metadata": {
    "ExecuteTime": {
     "end_time": "2020-09-03T02:43:52.168774Z",
     "start_time": "2020-09-03T02:43:51.597201Z"
    }
   },
   "outputs": [],
   "source": [
    "data_fg.head(8).plot(figsize =[12,12])"
   ]
  },
  {
   "cell_type": "markdown",
   "metadata": {},
   "source": [
    "# 进行覆盖模型修正-按照hata覆盖模型和站高进行修正"
   ]
  },
  {
   "cell_type": "code",
   "execution_count": null,
   "metadata": {},
   "outputs": [],
   "source": []
  },
  {
   "cell_type": "code",
   "execution_count": null,
   "metadata": {},
   "outputs": [],
   "source": []
  },
  {
   "cell_type": "code",
   "execution_count": null,
   "metadata": {},
   "outputs": [],
   "source": []
  },
  {
   "cell_type": "code",
   "execution_count": null,
   "metadata": {
    "ExecuteTime": {
     "end_time": "2020-09-02T05:36:11.293218Z",
     "start_time": "2020-09-02T05:36:11.287218Z"
    },
    "scrolled": true
   },
   "outputs": [],
   "source": [
    "jd_dp['电平']"
   ]
  },
  {
   "cell_type": "code",
   "execution_count": null,
   "metadata": {
    "ExecuteTime": {
     "end_time": "2020-09-02T05:48:23.318674Z",
     "start_time": "2020-09-02T05:48:23.313173Z"
    }
   },
   "outputs": [],
   "source": [
    "jd_dp['距离_模型'] = np.power(10,(148-jd_dp['电平'] - (46.3+33.9*np.log10(1800)-13.82*np.log10(30)-(-3.81))- 3)/(44.9-6.55*30))*1000"
   ]
  },
  {
   "cell_type": "code",
   "execution_count": null,
   "metadata": {
    "ExecuteTime": {
     "end_time": "2020-09-02T05:57:15.892302Z",
     "start_time": "2020-09-02T05:57:15.882301Z"
    }
   },
   "outputs": [],
   "source": [
    "jd_dp.to_clipboard()"
   ]
  },
  {
   "cell_type": "code",
   "execution_count": null,
   "metadata": {
    "ExecuteTime": {
     "end_time": "2020-09-02T05:57:13.051941Z",
     "start_time": "2020-09-02T05:57:13.047941Z"
    }
   },
   "outputs": [],
   "source": [
    "jd_dp['距离'] = jd_dp['电平_正'].apply(lambda x: x/37.052 *927)"
   ]
  },
  {
   "cell_type": "code",
   "execution_count": null,
   "metadata": {},
   "outputs": [],
   "source": []
  }
 ],
 "metadata": {
  "kernelspec": {
   "display_name": "Python 3",
   "language": "python",
   "name": "python3"
  },
  "language_info": {
   "codemirror_mode": {
    "name": "ipython",
    "version": 3
   },
   "file_extension": ".py",
   "mimetype": "text/x-python",
   "name": "python",
   "nbconvert_exporter": "python",
   "pygments_lexer": "ipython3",
   "version": "3.7.4"
  },
  "toc": {
   "base_numbering": 1,
   "nav_menu": {},
   "number_sections": true,
   "sideBar": true,
   "skip_h1_title": false,
   "title_cell": "Table of Contents",
   "title_sidebar": "Contents",
   "toc_cell": false,
   "toc_position": {
    "height": "calc(100% - 180px)",
    "left": "10px",
    "top": "150px",
    "width": "290.895px"
   },
   "toc_section_display": true,
   "toc_window_display": true
  },
  "varInspector": {
   "cols": {
    "lenName": 16,
    "lenType": 16,
    "lenVar": 40
   },
   "kernels_config": {
    "python": {
     "delete_cmd_postfix": "",
     "delete_cmd_prefix": "del ",
     "library": "var_list.py",
     "varRefreshCmd": "print(var_dic_list())"
    },
    "r": {
     "delete_cmd_postfix": ") ",
     "delete_cmd_prefix": "rm(",
     "library": "var_list.r",
     "varRefreshCmd": "cat(var_dic_list()) "
    }
   },
   "position": {
    "height": "452.727px",
    "left": "1084.55px",
    "right": "20px",
    "top": "120px",
    "width": "350px"
   },
   "types_to_exclude": [
    "module",
    "function",
    "builtin_function_or_method",
    "instance",
    "_Feature"
   ],
   "window_display": false
  }
 },
 "nbformat": 4,
 "nbformat_minor": 2
}
