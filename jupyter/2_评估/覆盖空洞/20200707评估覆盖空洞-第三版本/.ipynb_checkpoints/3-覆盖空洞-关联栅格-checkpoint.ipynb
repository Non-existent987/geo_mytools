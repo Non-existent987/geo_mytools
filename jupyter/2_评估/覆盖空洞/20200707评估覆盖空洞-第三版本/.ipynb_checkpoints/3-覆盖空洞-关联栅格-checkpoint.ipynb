{
 "cells": [
  {
   "cell_type": "code",
   "execution_count": null,
   "metadata": {
    "ExecuteTime": {
     "end_time": "2020-07-09T17:23:59.904740Z",
     "start_time": "2020-07-09T17:23:56.921361Z"
    }
   },
   "outputs": [],
   "source": [
    "import pandas as pd\n",
    "import geopandas as gpd\n",
    "import mytools"
   ]
  },
  {
   "cell_type": "markdown",
   "metadata": {},
   "source": [
    "# 导入数据"
   ]
  },
  {
   "cell_type": "code",
   "execution_count": null,
   "metadata": {
    "ExecuteTime": {
     "end_time": "2020-07-09T17:24:01.495442Z",
     "start_time": "2020-07-09T17:23:59.908241Z"
    }
   },
   "outputs": [],
   "source": [
    "#导入空洞数据\n",
    "kongd = pd.read_pickle('G:/1-规划/评估/覆盖空洞/20200708第三版本/2-程序输出/3-拆分后的空洞/覆盖空22639个添加场景区分大中小微.data')"
   ]
  },
  {
   "cell_type": "code",
   "execution_count": null,
   "metadata": {
    "ExecuteTime": {
     "end_time": "2020-07-09T17:24:01.547449Z",
     "start_time": "2020-07-09T17:24:01.499943Z"
    }
   },
   "outputs": [],
   "source": [
    "kongd.head(1)"
   ]
  },
  {
   "cell_type": "code",
   "execution_count": null,
   "metadata": {
    "ExecuteTime": {
     "end_time": "2020-07-09T17:24:21.551489Z",
     "start_time": "2020-07-09T17:24:01.553449Z"
    }
   },
   "outputs": [],
   "source": [
    "#导入栅格数据\n",
    "grid = pd.read_csv('G:/1-规划/评估/软采评估/2020年6月/6月评估程序-模块化/1-基础数据/软采数据/栅格/6月栅格-按照采样点倒序去重.csv',encoding='gbk')"
   ]
  },
  {
   "cell_type": "code",
   "execution_count": null,
   "metadata": {
    "ExecuteTime": {
     "end_time": "2020-07-09T17:24:21.615497Z",
     "start_time": "2020-07-09T17:24:21.554489Z"
    }
   },
   "outputs": [],
   "source": [
    "grid.head(1)"
   ]
  },
  {
   "cell_type": "markdown",
   "metadata": {},
   "source": [
    "# 栅格生成点图"
   ]
  },
  {
   "cell_type": "code",
   "execution_count": null,
   "metadata": {
    "ExecuteTime": {
     "end_time": "2020-07-09T17:24:21.638500Z",
     "start_time": "2020-07-09T17:24:21.622498Z"
    }
   },
   "outputs": [],
   "source": [
    "dya,city,grid_id,leftbottom_lon,left_bottom_lat,righttop_lon,righttop_lat,rsrp_count,rsrp_weak,un_count,un_weak,te_count,te_weak=[\n",
    "    'a.day', 'a.region_name', 'a.grid_id', 'a.grid_leftbottom_longitude','a.grid_leftbottom_latitude', \n",
    "    'a.grid_righttop_longitude' ,'a.grid_righttop_latitude','a.rsrp_sample_count', 'a.rsrp_weak', \n",
    "    'a.un_maxrsrp_sample_count',  'a.un_maxrsrp_weak_l2', 'a.te_maxrsrp_sample_count','a.te_maxrsrp_weak_l2']\n",
    "lon,lat = ['lon','lat']"
   ]
  },
  {
   "cell_type": "code",
   "execution_count": null,
   "metadata": {
    "ExecuteTime": {
     "end_time": "2020-07-09T17:24:21.890532Z",
     "start_time": "2020-07-09T17:24:21.643001Z"
    }
   },
   "outputs": [],
   "source": [
    "data_t_use = grid[[dya,city,grid_id,leftbottom_lon,left_bottom_lat,righttop_lon,righttop_lat,rsrp_count,\n",
    "                   rsrp_weak,un_count,un_weak,te_count,te_weak]]"
   ]
  },
  {
   "cell_type": "code",
   "execution_count": null,
   "metadata": {
    "ExecuteTime": {
     "end_time": "2020-07-09T17:24:22.674632Z",
     "start_time": "2020-07-09T17:24:21.896033Z"
    }
   },
   "outputs": [],
   "source": [
    "#添加lon和lat\n",
    "data_t_use.loc[:,lon] = (data_t_use[leftbottom_lon]+data_t_use[righttop_lon])/2\n",
    "data_t_use.loc[:,lat] = (data_t_use[left_bottom_lat]+data_t_use[righttop_lat])/2\n",
    "data_t_use_v1 = data_t_use[[dya,city,grid_id,lon,lat,rsrp_count,rsrp_weak,un_count,un_weak,te_count,te_weak]]"
   ]
  },
  {
   "cell_type": "code",
   "execution_count": null,
   "metadata": {
    "ExecuteTime": {
     "end_time": "2020-07-09T17:24:22.729138Z",
     "start_time": "2020-07-09T17:24:22.678132Z"
    }
   },
   "outputs": [],
   "source": [
    "data_t_use_v1['fgl'] = 1 - data_t_use_v1[rsrp_weak] / data_t_use_v1[rsrp_count]"
   ]
  },
  {
   "cell_type": "code",
   "execution_count": null,
   "metadata": {
    "ExecuteTime": {
     "end_time": "2020-07-09T17:25:09.366561Z",
     "start_time": "2020-07-09T17:24:22.732639Z"
    }
   },
   "outputs": [],
   "source": [
    "grid_p = mytools.gisn.add_points(data_t_use_v1,lon,lat)"
   ]
  },
  {
   "cell_type": "markdown",
   "metadata": {},
   "source": [
    "# 空洞匹配栅格"
   ]
  },
  {
   "cell_type": "code",
   "execution_count": null,
   "metadata": {
    "ExecuteTime": {
     "end_time": "2020-07-09T17:29:33.728130Z",
     "start_time": "2020-07-09T17:25:09.369061Z"
    }
   },
   "outputs": [],
   "source": [
    "kongd_result = gpd.sjoin(kongd,grid_p)"
   ]
  },
  {
   "cell_type": "code",
   "execution_count": null,
   "metadata": {
    "ExecuteTime": {
     "end_time": "2020-07-09T17:29:33.763135Z",
     "start_time": "2020-07-09T17:29:33.741132Z"
    }
   },
   "outputs": [],
   "source": [
    "kongd_result['fgl'] = 1 - kongd_result[rsrp_weak] / kongd_result[rsrp_count]"
   ]
  },
  {
   "cell_type": "markdown",
   "metadata": {},
   "source": [
    "# 数据输出"
   ]
  },
  {
   "cell_type": "code",
   "execution_count": null,
   "metadata": {
    "ExecuteTime": {
     "end_time": "2020-07-09T17:29:35.120307Z",
     "start_time": "2020-07-09T17:29:33.774136Z"
    }
   },
   "outputs": [],
   "source": [
    "#导出匹配到栅格的空洞\n",
    "kongd_grid = kongd_result.drop_duplicates('id')[['id']]\n",
    "kongd_2 = kongd.merge(kongd_grid,how='inner',on='id')\n",
    "kongd_2.to_pickle('G:/1-规划/评估/覆盖空洞/20200708第三版本/3-输出结果/图层/匹配栅格图层/匹配到栅格的5572个空洞.data')"
   ]
  },
  {
   "cell_type": "code",
   "execution_count": null,
   "metadata": {
    "ExecuteTime": {
     "end_time": "2020-07-09T17:29:38.009674Z",
     "start_time": "2020-07-09T17:29:35.123307Z"
    }
   },
   "outputs": [],
   "source": [
    "#导出匹配到空洞的栅格\n",
    "grid_2 = kongd_result.drop_duplicates('a.grid_id')[[ 'a.grid_id']]\n",
    "grid_2_r = data_t_use_v1.merge(grid_2,how='inner',on='a.grid_id')\n",
    "grid_2_r.to_pickle('G:/1-规划/评估/覆盖空洞/20200708第三版本/3-输出结果/图层/匹配栅格图层/空洞匹配到的69138个栅格.data')"
   ]
  },
  {
   "cell_type": "code",
   "execution_count": null,
   "metadata": {
    "ExecuteTime": {
     "end_time": "2020-07-09T17:29:38.169694Z",
     "start_time": "2020-07-09T17:29:38.014175Z"
    },
    "scrolled": true
   },
   "outputs": [],
   "source": [
    "#导出匹配到空洞的栅格-弱覆盖\n",
    "grid_2_r.loc[grid_2_r['fgl']<0.7,'栅格类型'] ='严重弱覆盖栅格'\n",
    "grid_2_r.loc[grid_2_r['fgl']<0.7].to_pickle('G:/1-规划/评估/覆盖空洞/20200708第三版本/3-输出结果/图层/匹配栅格图层/空洞匹配到的严重弱覆盖个栅格.data')"
   ]
  },
  {
   "cell_type": "code",
   "execution_count": null,
   "metadata": {
    "ExecuteTime": {
     "end_time": "2020-07-09T17:29:38.250705Z",
     "start_time": "2020-07-09T17:29:38.174695Z"
    }
   },
   "outputs": [],
   "source": [
    "#导出匹配到空洞的栅格-严重弱覆盖\n",
    "grid_2_r.loc[(grid_2_r['fgl']>=0.7)&(grid_2_r['fgl']<0.936),'栅格类型'] ='弱覆盖栅格'\n",
    "grid_2_r.loc[(grid_2_r['fgl']>=0.7)&(grid_2_r['fgl']<0.936)].to_pickle('G:/1-规划/评估/覆盖空洞/20200708第三版本/3-输出结果/图层/匹配栅格图层/空洞匹配到的弱覆盖栅格.data')"
   ]
  },
  {
   "cell_type": "code",
   "execution_count": null,
   "metadata": {},
   "outputs": [],
   "source": []
  }
 ],
 "metadata": {
  "kernelspec": {
   "display_name": "Python 3",
   "language": "python",
   "name": "python3"
  },
  "language_info": {
   "codemirror_mode": {
    "name": "ipython",
    "version": 3
   },
   "file_extension": ".py",
   "mimetype": "text/x-python",
   "name": "python",
   "nbconvert_exporter": "python",
   "pygments_lexer": "ipython3",
   "version": "3.7.4"
  },
  "toc": {
   "base_numbering": 1,
   "nav_menu": {},
   "number_sections": true,
   "sideBar": true,
   "skip_h1_title": false,
   "title_cell": "Table of Contents",
   "title_sidebar": "Contents",
   "toc_cell": false,
   "toc_position": {},
   "toc_section_display": true,
   "toc_window_display": false
  },
  "varInspector": {
   "cols": {
    "lenName": 16,
    "lenType": 16,
    "lenVar": 40
   },
   "kernels_config": {
    "python": {
     "delete_cmd_postfix": "",
     "delete_cmd_prefix": "del ",
     "library": "var_list.py",
     "varRefreshCmd": "print(var_dic_list())"
    },
    "r": {
     "delete_cmd_postfix": ") ",
     "delete_cmd_prefix": "rm(",
     "library": "var_list.r",
     "varRefreshCmd": "cat(var_dic_list()) "
    }
   },
   "types_to_exclude": [
    "module",
    "function",
    "builtin_function_or_method",
    "instance",
    "_Feature"
   ],
   "window_display": false
  }
 },
 "nbformat": 4,
 "nbformat_minor": 2
}
