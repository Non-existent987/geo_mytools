{
 "cells": [
  {
   "cell_type": "code",
   "execution_count": null,
   "metadata": {
    "ExecuteTime": {
     "end_time": "2020-07-09T11:58:45.661746Z",
     "start_time": "2020-07-09T11:58:45.509227Z"
    }
   },
   "outputs": [],
   "source": [
    "%load_ext autoreload\n",
    "%autoreload 2"
   ]
  },
  {
   "cell_type": "code",
   "execution_count": null,
   "metadata": {
    "ExecuteTime": {
     "end_time": "2020-07-09T11:58:48.070552Z",
     "start_time": "2020-07-09T11:58:45.992788Z"
    }
   },
   "outputs": [],
   "source": [
    "import pandas as pd\n",
    "import time\n",
    "import geopandas as gpd\n",
    "from shapely.geometry import (LinearRing, LineString, MultiLineString,\n",
    "                              MultiPoint, MultiPolygon, Point, Polygon)\n",
    "from multiprocessing import Pool\n",
    "import os\n",
    "import re\n",
    "import matplotlib.pyplot as plt\n",
    "\n",
    "import mytools\n",
    "# import importlib\n",
    "# importlib.reload(mytools)"
   ]
  },
  {
   "cell_type": "markdown",
   "metadata": {},
   "source": [
    "# 一、计算覆盖空洞生成图层"
   ]
  },
  {
   "cell_type": "markdown",
   "metadata": {},
   "source": [
    "# 1、-----------------现网覆盖区域计算---------------------------"
   ]
  },
  {
   "cell_type": "markdown",
   "metadata": {},
   "source": [
    "### 20200707 导入计算覆盖半径的数据"
   ]
  },
  {
   "cell_type": "code",
   "execution_count": null,
   "metadata": {
    "ExecuteTime": {
     "end_time": "2020-07-08T13:38:25.788219Z",
     "start_time": "2020-07-08T13:38:23.293902Z"
    }
   },
   "outputs": [],
   "source": [
    "gongcan_loc_juli = pd.read_csv(open('G:/1-规划/评估/覆盖空洞/20200708第三版本/2-程序输出/1-修正半径-2覆盖模型和站高输出数据.csv',encoding='gbk'))"
   ]
  },
  {
   "cell_type": "code",
   "execution_count": null,
   "metadata": {
    "ExecuteTime": {
     "end_time": "2020-07-08T13:38:29.512692Z",
     "start_time": "2020-07-08T13:38:29.204153Z"
    }
   },
   "outputs": [],
   "source": [
    "gongcan_loc_juli.head(1)"
   ]
  },
  {
   "cell_type": "code",
   "execution_count": null,
   "metadata": {
    "ExecuteTime": {
     "end_time": "2020-07-08T13:38:34.683349Z",
     "start_time": "2020-07-08T13:38:34.393812Z"
    }
   },
   "outputs": [],
   "source": [
    "gongcan_loc_juli.columns"
   ]
  },
  {
   "cell_type": "code",
   "execution_count": null,
   "metadata": {
    "ExecuteTime": {
     "end_time": "2020-07-08T13:44:54.047522Z",
     "start_time": "2020-07-08T13:38:57.014684Z"
    }
   },
   "outputs": [],
   "source": [
    "#做扇区\n",
    "print('做扇区')\n",
    "gongcan_s = mytools.gisn.add_sectors_df(gongcan_loc_juli,coords=['RRU经度', 'RRU纬度', 'd_height', '方位角', 'distance_use_3'], has_z=False, sec_col='geometry', shape_dict={'beam': 120, 'per_degree': 10})"
   ]
  },
  {
   "cell_type": "code",
   "execution_count": null,
   "metadata": {
    "ExecuteTime": {
     "end_time": "2020-07-08T13:45:55.454319Z",
     "start_time": "2020-07-08T13:45:44.769963Z"
    }
   },
   "outputs": [],
   "source": [
    "gongcan_s.to_pickle('G:/1-规划/评估/覆盖空洞/20200708第三版本/2-程序输出/2-计算空洞/2-修正后覆盖半径的扇区图层.data')"
   ]
  },
  {
   "cell_type": "code",
   "execution_count": null,
   "metadata": {},
   "outputs": [],
   "source": [
    "gongcan_s=pd.read_pickle('G:/1-规划/评估/覆盖空洞/20200708第三版本/2-程序输出/2-计算空洞/2-修正后覆盖半径的扇区图层.data')"
   ]
  },
  {
   "cell_type": "code",
   "execution_count": null,
   "metadata": {
    "ExecuteTime": {
     "end_time": "2020-07-08T13:46:13.229576Z",
     "start_time": "2020-07-08T13:46:12.950541Z"
    }
   },
   "outputs": [],
   "source": [
    "gongcan_s.crs"
   ]
  },
  {
   "cell_type": "code",
   "execution_count": null,
   "metadata": {
    "scrolled": false
   },
   "outputs": [],
   "source": [
    "gongcan_s.plot(figsize=(11,11))"
   ]
  },
  {
   "cell_type": "markdown",
   "metadata": {},
   "source": [
    "# 2、-----------------求原始覆盖空洞---------------------------"
   ]
  },
  {
   "cell_type": "markdown",
   "metadata": {},
   "source": [
    "### 1-按照区县合并覆盖区域"
   ]
  },
  {
   "cell_type": "code",
   "execution_count": null,
   "metadata": {
    "ExecuteTime": {
     "end_time": "2020-07-08T13:46:21.215091Z",
     "start_time": "2020-07-08T13:46:20.912552Z"
    }
   },
   "outputs": [],
   "source": [
    "gongcan_s['归属区县'] = gongcan_s['归属区县'].fillna('wu')"
   ]
  },
  {
   "cell_type": "code",
   "execution_count": null,
   "metadata": {
    "ExecuteTime": {
     "end_time": "2020-07-08T13:46:24.173966Z",
     "start_time": "2020-07-08T13:46:23.874928Z"
    }
   },
   "outputs": [],
   "source": [
    "gongcan_s.columns"
   ]
  },
  {
   "cell_type": "code",
   "execution_count": null,
   "metadata": {
    "ExecuteTime": {
     "end_time": "2020-07-08T13:46:26.265232Z",
     "start_time": "2020-07-08T13:46:25.930689Z"
    }
   },
   "outputs": [],
   "source": [
    "gongcan_s = gongcan_s[[ '小区CGI(*)', '小区中文名', '所属地区', 'RRU经度', 'RRU纬度', '天线挂高',\n",
    "       '方位角', '工作频段', '归属区县', '厂家名称', '区域类型', 'distance', '覆盖模型距离',\n",
    "       '30米覆盖模型距离', '使用覆盖半径', 'distance_use', 'distance_yb', 'h_use', '高度建筑比',\n",
    "       'distance_use_3', 'geometry']]"
   ]
  },
  {
   "cell_type": "code",
   "execution_count": null,
   "metadata": {
    "ExecuteTime": {
     "end_time": "2020-07-08T13:48:18.203446Z",
     "start_time": "2020-07-08T13:47:15.568493Z"
    }
   },
   "outputs": [],
   "source": [
    "gongcan_city = gongcan_s.dissolve(by = '归属区县')"
   ]
  },
  {
   "cell_type": "code",
   "execution_count": null,
   "metadata": {
    "ExecuteTime": {
     "end_time": "2020-07-08T13:48:41.706431Z",
     "start_time": "2020-07-08T13:48:41.347385Z"
    }
   },
   "outputs": [],
   "source": [
    "gongcan_city.to_pickle('G:/1-规划/评估/覆盖空洞/20200708第三版本/2-程序输出/2-计算空洞/2-修正后覆盖半径的扇区图层_按照区县合并.data')"
   ]
  },
  {
   "cell_type": "code",
   "execution_count": null,
   "metadata": {
    "ExecuteTime": {
     "end_time": "2020-07-09T01:13:20.509776Z",
     "start_time": "2020-07-09T01:13:20.034216Z"
    }
   },
   "outputs": [],
   "source": [
    "gongcan_city = pd.read_pickle('G:/1-规划/评估/覆盖空洞/20200708第三版本/2-程序输出/2-计算空洞/2-修正后覆盖半径的扇区图层_按照区县合并.data')"
   ]
  },
  {
   "cell_type": "markdown",
   "metadata": {},
   "source": [
    "### 2-求出覆盖空洞原始"
   ]
  },
  {
   "cell_type": "code",
   "execution_count": null,
   "metadata": {
    "ExecuteTime": {
     "end_time": "2020-07-08T16:17:43.427385Z",
     "start_time": "2020-07-08T16:17:43.030835Z"
    }
   },
   "outputs": [],
   "source": [
    "tu = mytools.gisn.maps('地市区县')"
   ]
  },
  {
   "cell_type": "code",
   "execution_count": null,
   "metadata": {
    "ExecuteTime": {
     "end_time": "2020-07-08T13:52:57.082859Z",
     "start_time": "2020-07-08T13:52:32.338717Z"
    }
   },
   "outputs": [],
   "source": [
    "city_tu_diff = gpd.overlay(tu,gongcan_city,how='difference')"
   ]
  },
  {
   "cell_type": "code",
   "execution_count": null,
   "metadata": {
    "ExecuteTime": {
     "end_time": "2020-07-08T13:53:20.910385Z",
     "start_time": "2020-07-08T13:53:20.558840Z"
    }
   },
   "outputs": [],
   "source": [
    "city_tu_diff.to_pickle('G:/1-规划/评估/覆盖空洞/20200708第三版本/2-程序输出/2-计算空洞/2-覆盖空洞1-原始.data')"
   ]
  },
  {
   "cell_type": "code",
   "execution_count": null,
   "metadata": {
    "ExecuteTime": {
     "end_time": "2020-07-09T01:13:34.600065Z",
     "start_time": "2020-07-09T01:13:34.239520Z"
    }
   },
   "outputs": [],
   "source": [
    "city_tu_diff = pd.read_pickle('G:/1-规划/评估/覆盖空洞/20200708第三版本/2-程序输出/2-计算空洞/2-覆盖空洞1-原始.data')"
   ]
  },
  {
   "cell_type": "code",
   "execution_count": null,
   "metadata": {},
   "outputs": [],
   "source": [
    "tu_mianji.plot(figsize=(11,11),color='gray')"
   ]
  },
  {
   "cell_type": "code",
   "execution_count": null,
   "metadata": {},
   "outputs": [],
   "source": [
    "city_tu_diff.plot(figsize=(11,11),color='coral')"
   ]
  },
  {
   "cell_type": "code",
   "execution_count": null,
   "metadata": {},
   "outputs": [],
   "source": []
  },
  {
   "cell_type": "markdown",
   "metadata": {},
   "source": [
    "# 3、-------------剔除水系-------------"
   ]
  },
  {
   "cell_type": "markdown",
   "metadata": {},
   "source": [
    "### 1-图中去湖泊"
   ]
  },
  {
   "cell_type": "code",
   "execution_count": null,
   "metadata": {
    "ExecuteTime": {
     "end_time": "2020-07-09T01:14:04.545868Z",
     "start_time": "2020-07-09T01:13:55.844263Z"
    }
   },
   "outputs": [],
   "source": [
    "shuixi2_hb = gpd.read_file('G:/1-规划/图层/HB_场景/湖泊、水库.tab',encoding='gbk')"
   ]
  },
  {
   "cell_type": "code",
   "execution_count": null,
   "metadata": {
    "ExecuteTime": {
     "end_time": "2020-07-09T01:16:30.007839Z",
     "start_time": "2020-07-09T01:14:08.589882Z"
    }
   },
   "outputs": [],
   "source": [
    "shuixi2_hb['fenlei']='湖泊'\n",
    "shuixi2_hb = shuixi2_hb[[ 'geometry', 'fenlei']]\n",
    "kongd = city_tu_diff.copy()\n",
    "kongdong_new = gpd.overlay(kongd,shuixi2_hb,how='difference')"
   ]
  },
  {
   "cell_type": "code",
   "execution_count": null,
   "metadata": {},
   "outputs": [],
   "source": [
    "kongdong_new.to_pickle('G:/1-规划/评估/覆盖空洞/20200708第三版本/2-程序输出/2-计算空洞/2-覆盖空洞1-2去除湖泊.data')"
   ]
  },
  {
   "cell_type": "code",
   "execution_count": null,
   "metadata": {},
   "outputs": [],
   "source": [
    "kongdong_new = pd.read_pickle('G:/1-规划/评估/覆盖空洞/20200708第三版本/2-程序输出/2-计算空洞/2-覆盖空洞1-2去除湖泊.data')"
   ]
  },
  {
   "cell_type": "code",
   "execution_count": null,
   "metadata": {},
   "outputs": [],
   "source": [
    "shuixi2_hb.plot(figsize=(11,11),color='royalblue')"
   ]
  },
  {
   "cell_type": "code",
   "execution_count": null,
   "metadata": {},
   "outputs": [],
   "source": [
    "kongdong_new.head(1)"
   ]
  },
  {
   "cell_type": "markdown",
   "metadata": {},
   "source": [
    "### 2-图中去面状水系"
   ]
  },
  {
   "cell_type": "code",
   "execution_count": null,
   "metadata": {
    "ExecuteTime": {
     "end_time": "2020-07-08T14:00:04.554641Z",
     "start_time": "2020-07-08T13:59:17.933721Z"
    }
   },
   "outputs": [],
   "source": [
    "shuixi1 = gpd.read_file('G:/1-规划/图层/HB_场景/面状水系.tab',encoding='gbk')"
   ]
  },
  {
   "cell_type": "code",
   "execution_count": null,
   "metadata": {
    "ExecuteTime": {
     "end_time": "2020-07-08T14:06:26.382127Z",
     "start_time": "2020-07-08T14:06:26.048585Z"
    }
   },
   "outputs": [],
   "source": [
    "shuixi1['fenlei']='面状'"
   ]
  },
  {
   "cell_type": "code",
   "execution_count": null,
   "metadata": {
    "ExecuteTime": {
     "end_time": "2020-07-08T14:08:41.881834Z",
     "start_time": "2020-07-08T14:06:30.427141Z"
    }
   },
   "outputs": [],
   "source": [
    "shuixi1['type'] =  shuixi1.type\n",
    "shuixi1_use = shuixi1.loc[shuixi1['type']=='Polygon'].append(shuixi1.loc[shuixi1['type']=='MultiPolygon'].explode())\n",
    "shuixi1_use_area = mytools.gisn.add_area(shuixi1_use)\n",
    "shuixi1_use_area_use = shuixi1_use_area.loc[shuixi1_use_area['面积']>100]\n",
    "shuixi1_use_area_use = shuixi1_use_area_use.reset_index(drop=True)\n",
    "shuixi1_use_area_use['geometry'] = shuixi1_use_area_use.buffer(0.00000001)"
   ]
  },
  {
   "cell_type": "code",
   "execution_count": null,
   "metadata": {
    "ExecuteTime": {
     "end_time": "2020-07-08T14:09:36.540774Z",
     "start_time": "2020-07-08T14:08:56.831732Z"
    }
   },
   "outputs": [],
   "source": [
    "shuixi1_use_area_use.to_pickle('G:/1-规划/评估/覆盖空洞/20200708第三版本/2-程序输出/2-计算空洞/水系图层_去水系准备.data')"
   ]
  },
  {
   "cell_type": "code",
   "execution_count": null,
   "metadata": {
    "ExecuteTime": {
     "end_time": "2020-07-09T01:16:47.558568Z",
     "start_time": "2020-07-09T01:16:37.053734Z"
    }
   },
   "outputs": [],
   "source": [
    "shuixi1_use_area_use = pd.read_pickle('G:/1-规划/评估/覆盖空洞/20200708第三版本/2-程序输出/2-计算空洞/水系图层_去水系准备.data')"
   ]
  },
  {
   "cell_type": "code",
   "execution_count": null,
   "metadata": {
    "ExecuteTime": {
     "end_time": "2020-07-09T01:16:47.832603Z",
     "start_time": "2020-07-09T01:16:47.565069Z"
    }
   },
   "outputs": [],
   "source": [
    "def myYield(df):\n",
    "    y = 1000\n",
    "    x = 0\n",
    "    while x<=236973:\n",
    "        shuixi1_use_t = df.iloc[x:y,]\n",
    "        yield shuixi1_use_t\n",
    "        print('完成{cishu}。{cishu2}。。'.format(cishu=x,cishu2 = y))\n",
    "        x = y \n",
    "        y = y + 1000"
   ]
  },
  {
   "cell_type": "code",
   "execution_count": null,
   "metadata": {
    "ExecuteTime": {
     "end_time": "2020-07-09T01:17:16.486741Z",
     "start_time": "2020-07-09T01:17:16.194204Z"
    }
   },
   "outputs": [],
   "source": [
    "tu_new_t = kongdong_new.copy()"
   ]
  },
  {
   "cell_type": "code",
   "execution_count": null,
   "metadata": {
    "ExecuteTime": {
     "end_time": "2020-07-09T01:17:34.012967Z",
     "start_time": "2020-07-09T01:17:33.711429Z"
    }
   },
   "outputs": [],
   "source": [
    "shuixi1_use_area_use.shape"
   ]
  },
  {
   "cell_type": "code",
   "execution_count": null,
   "metadata": {
    "ExecuteTime": {
     "end_time": "2020-07-09T05:31:10.212179Z",
     "start_time": "2020-07-09T01:17:50.472057Z"
    },
    "scrolled": true
   },
   "outputs": [],
   "source": [
    "for data_t in myYield(shuixi1_use_area_use):\n",
    "    data_t = data_t.dissolve(by='fenlei')\n",
    "    tu_new_t = gpd.overlay(tu_new_t,data_t,how='difference')"
   ]
  },
  {
   "cell_type": "code",
   "execution_count": null,
   "metadata": {
    "ExecuteTime": {
     "end_time": "2020-07-09T05:32:29.515249Z",
     "start_time": "2020-07-09T05:32:27.236460Z"
    },
    "scrolled": false
   },
   "outputs": [],
   "source": [
    "tu_new_t.to_pickle('G:/1-规划/评估/覆盖空洞/20200708第三版本/2-程序输出/2-计算空洞/水系图层_-2去除湖泊水系完成.data')"
   ]
  },
  {
   "cell_type": "code",
   "execution_count": null,
   "metadata": {},
   "outputs": [],
   "source": [
    "tu_new_t.to_file('G:/1-规划/评估/覆盖空洞/20200708第三版本/2-程序输出/2-计算空洞/水系图层_-2去除湖泊水系完成.shp',encoding='utf-8')"
   ]
  },
  {
   "cell_type": "code",
   "execution_count": null,
   "metadata": {
    "ExecuteTime": {
     "end_time": "2020-07-09T11:58:53.852286Z",
     "start_time": "2020-07-09T11:58:52.880663Z"
    }
   },
   "outputs": [],
   "source": [
    "tu_new_t = pd.read_pickle('G:/1-规划/评估/覆盖空洞/20200708第三版本/2-程序输出/2-计算空洞/水系图层_-2去除湖泊水系完成.data')"
   ]
  },
  {
   "cell_type": "code",
   "execution_count": null,
   "metadata": {},
   "outputs": [],
   "source": [
    "tu_new_t.plot(figsize=(11,11),color='coral')"
   ]
  },
  {
   "cell_type": "markdown",
   "metadata": {},
   "source": [
    "# 4、-------------空洞有效数据整理-------------"
   ]
  },
  {
   "cell_type": "markdown",
   "metadata": {},
   "source": [
    "### 1-拆分成多个空洞"
   ]
  },
  {
   "cell_type": "code",
   "execution_count": null,
   "metadata": {
    "ExecuteTime": {
     "end_time": "2020-07-09T10:52:45.133323Z",
     "start_time": "2020-07-09T10:52:44.871289Z"
    }
   },
   "outputs": [],
   "source": [
    "tu_new_t['type'] =  tu_new_t.type"
   ]
  },
  {
   "cell_type": "code",
   "execution_count": null,
   "metadata": {
    "ExecuteTime": {
     "end_time": "2020-07-09T10:53:01.542406Z",
     "start_time": "2020-07-09T10:53:01.245369Z"
    }
   },
   "outputs": [],
   "source": [
    "tu_new_t.groupby('type').count()"
   ]
  },
  {
   "cell_type": "code",
   "execution_count": null,
   "metadata": {
    "ExecuteTime": {
     "end_time": "2020-07-09T10:53:18.280532Z",
     "start_time": "2020-07-09T10:53:17.823474Z"
    }
   },
   "outputs": [],
   "source": [
    "kongd_use = tu_new_t.loc[tu_new_t['type']=='Polygon'].append(tu_new_t.loc[tu_new_t['type']=='MultiPolygon'].explode())"
   ]
  },
  {
   "cell_type": "code",
   "execution_count": null,
   "metadata": {
    "ExecuteTime": {
     "end_time": "2020-07-09T10:53:54.584642Z",
     "start_time": "2020-07-09T10:53:35.399206Z"
    }
   },
   "outputs": [],
   "source": [
    "kongd_mianji = mytools.gisn.add_area(kongd_use)"
   ]
  },
  {
   "cell_type": "code",
   "execution_count": null,
   "metadata": {
    "ExecuteTime": {
     "end_time": "2020-07-09T10:54:14.881219Z",
     "start_time": "2020-07-09T10:54:14.557678Z"
    }
   },
   "outputs": [],
   "source": [
    "kongd_mianji.head(1)"
   ]
  },
  {
   "cell_type": "code",
   "execution_count": null,
   "metadata": {
    "ExecuteTime": {
     "end_time": "2020-07-09T10:54:36.383950Z",
     "start_time": "2020-07-09T10:54:36.090913Z"
    }
   },
   "outputs": [],
   "source": [
    "kongd_mianji.shape"
   ]
  },
  {
   "cell_type": "code",
   "execution_count": null,
   "metadata": {
    "ExecuteTime": {
     "end_time": "2020-07-09T05:45:41.303794Z",
     "start_time": "2020-07-09T05:45:40.929246Z"
    }
   },
   "outputs": [],
   "source": [
    "kongd_mianji.drop(columns='geometry').to_csv('G:/1-规划/评估/覆盖空洞/20200708第三版本/2-程序输出/3-拆分后的空洞/覆盖空22639个.csv',index=False,encoding='gbk')"
   ]
  },
  {
   "cell_type": "code",
   "execution_count": null,
   "metadata": {},
   "outputs": [],
   "source": [
    "# kongd_mianji.to_file('G:/1-规划/评估/覆盖空洞/2020年6月/2-程序输出/覆盖空洞1去除水系的原始空洞_修正半径后.shp',encoding='utf-8')"
   ]
  },
  {
   "cell_type": "code",
   "execution_count": null,
   "metadata": {},
   "outputs": [],
   "source": [
    "kongd_mianji.head(1)"
   ]
  },
  {
   "cell_type": "code",
   "execution_count": null,
   "metadata": {
    "scrolled": true
   },
   "outputs": [],
   "source": [
    "kongd_mianji.plot(figsize=(11,11))"
   ]
  },
  {
   "cell_type": "markdown",
   "metadata": {},
   "source": [
    "# 有效空洞匹配场景"
   ]
  },
  {
   "cell_type": "code",
   "execution_count": null,
   "metadata": {},
   "outputs": [],
   "source": [
    "# kongd_valid  = gpd.read_file('G:/1-规划/评估/覆盖空洞/2020年6月/2-程序输出/覆盖空洞3去除冗余有效空洞7143个_修正半径后.shp',encoding='utf-8')"
   ]
  },
  {
   "cell_type": "code",
   "execution_count": null,
   "metadata": {},
   "outputs": [],
   "source": [
    "# kongd_valid.shape"
   ]
  },
  {
   "cell_type": "code",
   "execution_count": null,
   "metadata": {
    "ExecuteTime": {
     "end_time": "2020-07-09T10:54:56.821545Z",
     "start_time": "2020-07-09T10:54:56.570013Z"
    }
   },
   "outputs": [],
   "source": [
    "kongd_mianji.crs"
   ]
  },
  {
   "cell_type": "code",
   "execution_count": null,
   "metadata": {
    "ExecuteTime": {
     "end_time": "2020-07-09T10:55:25.155143Z",
     "start_time": "2020-07-09T10:55:16.083491Z"
    }
   },
   "outputs": [],
   "source": [
    "kongd_mianji[['lon','lat']] = kongd_mianji.apply(lambda x:pd.Series(x['geometry'].centroid.coords[:][0]),axis=1)#"
   ]
  },
  {
   "cell_type": "code",
   "execution_count": null,
   "metadata": {
    "ExecuteTime": {
     "end_time": "2020-07-09T10:55:47.767014Z",
     "start_time": "2020-07-09T10:55:44.430591Z"
    }
   },
   "outputs": [],
   "source": [
    "result = mytools.gisn.points_coverage_merge(kongd_mianji,'lon','lat')"
   ]
  },
  {
   "cell_type": "code",
   "execution_count": null,
   "metadata": {
    "ExecuteTime": {
     "end_time": "2020-07-09T10:56:09.315251Z",
     "start_time": "2020-07-09T10:56:09.046716Z"
    }
   },
   "outputs": [],
   "source": [
    "result.shape"
   ]
  },
  {
   "cell_type": "code",
   "execution_count": null,
   "metadata": {
    "ExecuteTime": {
     "end_time": "2020-07-09T10:56:30.538946Z",
     "start_time": "2020-07-09T10:56:30.245408Z"
    }
   },
   "outputs": [],
   "source": [
    "#添加id编号\n",
    "result_id = result.reset_index(drop=True)\n",
    "result['id'] = [ 'kd_{}'.format(str(name)) for name in result_id.index+1]"
   ]
  },
  {
   "cell_type": "code",
   "execution_count": null,
   "metadata": {
    "ExecuteTime": {
     "end_time": "2020-07-09T10:56:54.441981Z",
     "start_time": "2020-07-09T10:56:54.161445Z"
    }
   },
   "outputs": [],
   "source": [
    "result['制式'] = 'FDD1800'\n",
    "result.loc[result['区域类型']=='农村','制式']='FDD900'"
   ]
  },
  {
   "cell_type": "code",
   "execution_count": null,
   "metadata": {
    "ExecuteTime": {
     "end_time": "2020-07-09T10:57:17.202371Z",
     "start_time": "2020-07-09T10:57:16.865828Z"
    }
   },
   "outputs": [],
   "source": [
    "result = mytools.gisn.changjing_distance(result,'区域类型','制式')"
   ]
  },
  {
   "cell_type": "code",
   "execution_count": null,
   "metadata": {
    "ExecuteTime": {
     "end_time": "2020-07-09T10:57:40.170288Z",
     "start_time": "2020-07-09T10:57:39.906254Z"
    }
   },
   "outputs": [],
   "source": [
    "import numpy as np"
   ]
  },
  {
   "cell_type": "code",
   "execution_count": null,
   "metadata": {
    "ExecuteTime": {
     "end_time": "2020-07-09T10:58:04.558885Z",
     "start_time": "2020-07-09T10:58:04.229843Z"
    }
   },
   "outputs": [],
   "source": [
    "result['标准面积'] = np.pi* result['distance']* result['distance']\n",
    "\n",
    "result['空洞面积比例'] = result['面积']/result['标准面积']"
   ]
  },
  {
   "cell_type": "code",
   "execution_count": null,
   "metadata": {
    "ExecuteTime": {
     "end_time": "2020-07-09T10:58:27.971858Z",
     "start_time": "2020-07-09T10:58:27.712825Z"
    }
   },
   "outputs": [],
   "source": [
    "def fuck_data(x):\n",
    "    if x['空洞面积比例']>=1:\n",
    "        return '大'\n",
    "    elif x['空洞面积比例']>=1/3:\n",
    "        return '中'\n",
    "    elif x['空洞面积比例']>=1/6:\n",
    "        return '小'\n",
    "    else:\n",
    "        return '微'"
   ]
  },
  {
   "cell_type": "code",
   "execution_count": null,
   "metadata": {
    "ExecuteTime": {
     "end_time": "2020-07-09T10:58:29.213015Z",
     "start_time": "2020-07-09T10:58:27.973858Z"
    }
   },
   "outputs": [],
   "source": [
    "result['空洞级别'] = result.apply(fuck_data,axis=1)"
   ]
  },
  {
   "cell_type": "code",
   "execution_count": null,
   "metadata": {
    "ExecuteTime": {
     "end_time": "2020-07-09T10:58:29.497051Z",
     "start_time": "2020-07-09T10:58:29.215516Z"
    }
   },
   "outputs": [],
   "source": [
    "result.head(1)"
   ]
  },
  {
   "cell_type": "code",
   "execution_count": null,
   "metadata": {
    "ExecuteTime": {
     "end_time": "2020-07-09T10:59:42.305797Z",
     "start_time": "2020-07-09T10:59:39.735471Z"
    }
   },
   "outputs": [],
   "source": [
    "result.to_pickle('G:/1-规划/评估/覆盖空洞/20200708第三版本/2-程序输出/3-拆分后的空洞/覆盖空22639个添加场景区分大中小微.data')"
   ]
  },
  {
   "cell_type": "code",
   "execution_count": null,
   "metadata": {
    "ExecuteTime": {
     "end_time": "2020-07-09T05:55:56.466909Z",
     "start_time": "2020-07-09T05:55:49.285497Z"
    }
   },
   "outputs": [],
   "source": [
    "result.reindex(columns=['id','地市','区县','面积','lon','lat', '区域类型','制式','distance','标准面积','空洞面积比例','空洞级别']).to_excel(\n",
    "    'G:/1-规划/评估/覆盖空洞/20200708第三版本/2-程序输出/3-拆分后的空洞/覆盖空22639个添加场景区分大中小微.xlsx',index=False)"
   ]
  }
 ],
 "metadata": {
  "kernelspec": {
   "display_name": "Python 3",
   "language": "python",
   "name": "python3"
  },
  "language_info": {
   "codemirror_mode": {
    "name": "ipython",
    "version": 3
   },
   "file_extension": ".py",
   "mimetype": "text/x-python",
   "name": "python",
   "nbconvert_exporter": "python",
   "pygments_lexer": "ipython3",
   "version": "3.7.4"
  },
  "toc": {
   "base_numbering": 1,
   "nav_menu": {},
   "number_sections": true,
   "sideBar": true,
   "skip_h1_title": false,
   "title_cell": "Table of Contents",
   "title_sidebar": "Contents",
   "toc_cell": false,
   "toc_position": {
    "height": "calc(100% - 180px)",
    "left": "10px",
    "top": "150px",
    "width": "320px"
   },
   "toc_section_display": true,
   "toc_window_display": true
  },
  "varInspector": {
   "cols": {
    "lenName": 16,
    "lenType": 16,
    "lenVar": 40
   },
   "kernels_config": {
    "python": {
     "delete_cmd_postfix": "",
     "delete_cmd_prefix": "del ",
     "library": "var_list.py",
     "varRefreshCmd": "print(var_dic_list())"
    },
    "r": {
     "delete_cmd_postfix": ") ",
     "delete_cmd_prefix": "rm(",
     "library": "var_list.r",
     "varRefreshCmd": "cat(var_dic_list()) "
    }
   },
   "position": {
    "height": "301px",
    "left": "1236px",
    "right": "20px",
    "top": "20px",
    "width": "350px"
   },
   "types_to_exclude": [
    "module",
    "function",
    "builtin_function_or_method",
    "instance",
    "_Feature"
   ],
   "window_display": false
  }
 },
 "nbformat": 4,
 "nbformat_minor": 2
}
