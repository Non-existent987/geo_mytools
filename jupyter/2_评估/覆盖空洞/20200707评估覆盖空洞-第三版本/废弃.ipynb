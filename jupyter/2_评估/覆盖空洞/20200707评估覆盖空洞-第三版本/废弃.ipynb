{
 "cells": [
  {
   "cell_type": "code",
   "execution_count": 2,
   "metadata": {
    "ExecuteTime": {
     "end_time": "2020-07-06T04:58:27.850771Z",
     "start_time": "2020-07-06T04:58:26.573609Z"
    }
   },
   "outputs": [],
   "source": [
    "import pandas as pd\n",
    "import geopandas as gpd\n",
    "import mytools"
   ]
  },
  {
   "cell_type": "markdown",
   "metadata": {},
   "source": [
    "# 导入数据"
   ]
  },
  {
   "cell_type": "code",
   "execution_count": 12,
   "metadata": {
    "ExecuteTime": {
     "end_time": "2020-07-06T05:07:36.290414Z",
     "start_time": "2020-07-06T05:07:35.521316Z"
    }
   },
   "outputs": [],
   "source": [
    "kongd = gpd.read_file('y:/1-规划/评估/覆盖空洞/2020年6月/2-程序输出/覆盖空洞5_修后_剔水_21706.shp',encoding='utf-8')"
   ]
  },
  {
   "cell_type": "code",
   "execution_count": 13,
   "metadata": {
    "ExecuteTime": {
     "end_time": "2020-07-06T05:07:39.348302Z",
     "start_time": "2020-07-06T05:07:39.322799Z"
    }
   },
   "outputs": [
    {
     "data": {
      "text/plain": [
       "(21706, 14)"
      ]
     },
     "execution_count": 13,
     "metadata": {},
     "output_type": "execute_result"
    }
   ],
   "source": [
    "kongd.shape"
   ]
  },
  {
   "cell_type": "code",
   "execution_count": 14,
   "metadata": {},
   "outputs": [
    {
     "data": {
      "text/html": [
       "<div>\n",
       "<style scoped>\n",
       "    .dataframe tbody tr th:only-of-type {\n",
       "        vertical-align: middle;\n",
       "    }\n",
       "\n",
       "    .dataframe tbody tr th {\n",
       "        vertical-align: top;\n",
       "    }\n",
       "\n",
       "    .dataframe thead th {\n",
       "        text-align: right;\n",
       "    }\n",
       "</style>\n",
       "<table border=\"1\" class=\"dataframe\">\n",
       "  <thead>\n",
       "    <tr style=\"text-align: right;\">\n",
       "      <th></th>\n",
       "      <th>type</th>\n",
       "      <th>county</th>\n",
       "      <th>city</th>\n",
       "      <th>area</th>\n",
       "      <th>lon</th>\n",
       "      <th>lat</th>\n",
       "      <th>scene</th>\n",
       "      <th>NAME</th>\n",
       "      <th>frequency</th>\n",
       "      <th>distance</th>\n",
       "      <th>stipulate_</th>\n",
       "      <th>proportion</th>\n",
       "      <th>level</th>\n",
       "      <th>geometry</th>\n",
       "    </tr>\n",
       "  </thead>\n",
       "  <tbody>\n",
       "    <tr>\n",
       "      <th>0</th>\n",
       "      <td>Polygon</td>\n",
       "      <td>铁山区</td>\n",
       "      <td>黄石</td>\n",
       "      <td>13154.723419</td>\n",
       "      <td>114.891256</td>\n",
       "      <td>30.230842</td>\n",
       "      <td>农村</td>\n",
       "      <td>kd_1</td>\n",
       "      <td>FDD900</td>\n",
       "      <td>2200.0</td>\n",
       "      <td>1.520531e+07</td>\n",
       "      <td>0.000865</td>\n",
       "      <td>微</td>\n",
       "      <td>POLYGON ((114.8918664433828 30.23042068756723,...</td>\n",
       "    </tr>\n",
       "  </tbody>\n",
       "</table>\n",
       "</div>"
      ],
      "text/plain": [
       "      type county city          area         lon        lat scene  NAME  \\\n",
       "0  Polygon    铁山区   黄石  13154.723419  114.891256  30.230842    农村  kd_1   \n",
       "\n",
       "  frequency  distance    stipulate_  proportion level  \\\n",
       "0    FDD900    2200.0  1.520531e+07    0.000865     微   \n",
       "\n",
       "                                            geometry  \n",
       "0  POLYGON ((114.8918664433828 30.23042068756723,...  "
      ]
     },
     "execution_count": 14,
     "metadata": {},
     "output_type": "execute_result"
    }
   ],
   "source": [
    "kongd.head(1)"
   ]
  },
  {
   "cell_type": "code",
   "execution_count": null,
   "metadata": {},
   "outputs": [],
   "source": [
    "grid = pd.read_csv(open('Y:/1-规划/评估/软采评估/2020年6月/6月评估程序-模块化/1-基础数据/软采数据/栅格/6月栅格-按照采样点倒序去重.csv',encoding='gbk'))"
   ]
  },
  {
   "cell_type": "code",
   "execution_count": null,
   "metadata": {},
   "outputs": [],
   "source": [
    "grid.shape"
   ]
  },
  {
   "cell_type": "code",
   "execution_count": 19,
   "metadata": {},
   "outputs": [
    {
     "data": {
      "text/plain": [
       "Index(['a.day', 'a.region_name', 'a.grid_id', 'a.grid_leftbottom_longitude',\n",
       "       'a.grid_leftbottom_latitude', 'a.grid_lefttop_longitude',\n",
       "       'a.grid_lefttop_latitude', 'a.grid_righttop_longitude',\n",
       "       'a.grid_righttop_latitude', 'a.grid_rightbottom_longitude',\n",
       "       'a.grid_rightbottom_latitude', 'b.ul_data', 'b.dl_data',\n",
       "       'a.rsrp_sample_count', 'a.rsrp_sum', 'a.rsrp_weak', 'a.scrsrp_95',\n",
       "       'a.scrsrp_110_95', 'a.scrsrp_110', 'a.inter_maxrsrp_weak',\n",
       "       'a.un_maxrsrp_sum', 'a.un_maxrsrp_sample_count', 'a.un_maxrsrp_weak',\n",
       "       'a.te_maxrsrp_weak', 'a.te_maxrsrp_sample_count', 'a.te_maxrsrp_sum',\n",
       "       'a.te_maxrsrp_weak_l2', 'a.un_maxrsrp_weak_l2'],\n",
       "      dtype='object')"
      ]
     },
     "execution_count": 19,
     "metadata": {},
     "output_type": "execute_result"
    }
   ],
   "source": [
    "grid.columns"
   ]
  },
  {
   "cell_type": "code",
   "execution_count": null,
   "metadata": {},
   "outputs": [],
   "source": [
    "grid"
   ]
  }
 ],
 "metadata": {
  "kernelspec": {
   "display_name": "Python 3",
   "language": "python",
   "name": "python3"
  },
  "language_info": {
   "codemirror_mode": {
    "name": "ipython",
    "version": 3
   },
   "file_extension": ".py",
   "mimetype": "text/x-python",
   "name": "python",
   "nbconvert_exporter": "python",
   "pygments_lexer": "ipython3",
   "version": "3.6.5"
  },
  "toc": {
   "base_numbering": 1,
   "nav_menu": {},
   "number_sections": true,
   "sideBar": true,
   "skip_h1_title": false,
   "title_cell": "Table of Contents",
   "title_sidebar": "Contents",
   "toc_cell": false,
   "toc_position": {},
   "toc_section_display": true,
   "toc_window_display": false
  },
  "varInspector": {
   "cols": {
    "lenName": 16,
    "lenType": 16,
    "lenVar": 40
   },
   "kernels_config": {
    "python": {
     "delete_cmd_postfix": "",
     "delete_cmd_prefix": "del ",
     "library": "var_list.py",
     "varRefreshCmd": "print(var_dic_list())"
    },
    "r": {
     "delete_cmd_postfix": ") ",
     "delete_cmd_prefix": "rm(",
     "library": "var_list.r",
     "varRefreshCmd": "cat(var_dic_list()) "
    }
   },
   "types_to_exclude": [
    "module",
    "function",
    "builtin_function_or_method",
    "instance",
    "_Feature"
   ],
   "window_display": false
  }
 },
 "nbformat": 4,
 "nbformat_minor": 2
}
