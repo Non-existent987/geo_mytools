{
 "cells": [
  {
   "cell_type": "code",
   "execution_count": null,
   "metadata": {
    "ExecuteTime": {
     "end_time": "2020-08-11T09:46:54.053021Z",
     "start_time": "2020-08-11T09:46:50.214034Z"
    }
   },
   "outputs": [],
   "source": [
    "import mytools\n",
    "import geopandas as gpd\n",
    "import pandas as pd\n",
    "import numpy as np\n",
    "from shapely.geometry import Polygon,Point,LineString,MultiPolygon"
   ]
  },
  {
   "cell_type": "markdown",
   "metadata": {},
   "source": [
    "# 小区和站点对应关系"
   ]
  },
  {
   "cell_type": "code",
   "execution_count": null,
   "metadata": {
    "ExecuteTime": {
     "end_time": "2020-08-11T09:47:04.659368Z",
     "start_time": "2020-08-11T09:47:04.652367Z"
    }
   },
   "outputs": [],
   "source": [
    "f = mytools.othern.file_name_paths('G:/1-规划/评估/覆盖空洞/20200712第四版本/9-评估搬迁站点/1-基础数据/空洞使用的小区信息/各地市计算/')"
   ]
  },
  {
   "cell_type": "code",
   "execution_count": null,
   "metadata": {
    "ExecuteTime": {
     "end_time": "2020-08-11T09:48:55.960501Z",
     "start_time": "2020-08-11T09:47:06.244569Z"
    }
   },
   "outputs": [],
   "source": [
    "data_z = pd.DataFrame()\n",
    "for name in f:\n",
    "    data_excel = pd.ExcelFile(name)\n",
    "    data_id = data_excel.parse('移动小区')\n",
    "    data_pz = data_excel.parse('移动物理站')\n",
    "    data_pz_use = data_pz[[ '小区中文名', 'FDD900_p', 'FDD1800_p', 'F_p', 'D_p', 'E_p', 'A_p']]\n",
    "    data_pz_use['站点对应小区'] = data_pz_use[[ 'FDD900_p', 'FDD1800_p', 'F_p', 'D_p', 'E_p', 'A_p']].apply(\n",
    "    lambda x: '/'.join([str(i) for i in list(x) if pd.notnull(i)]),axis=1)\n",
    "    data_res = data_pz_use.join(data_pz_use['站点对应小区'].str.split(\n",
    "        '/',expand=True).stack().reset_index(level=1,drop=True).rename('对应编号'))\n",
    "    data_id['id'] = data_id.index+2\n",
    "    data_id_use = data_id[['小区中文名', 'id']].rename(columns={'小区中文名':'小区名'})\n",
    "    data_res['对应编号'] = pd.to_numeric(data_res['对应编号'])\n",
    "    data_id_use['id'] = data_id_use['id'].astype('object')\n",
    "    data_res2 = data_res.merge(data_id_use,how='left',left_on='对应编号',right_on='id')\n",
    "    data_res2.columns = ['站点名称', 'FDD900_p', 'FDD1800_p', 'F_p', 'D_p', 'E_p', 'A_p', '站点对应小区',\n",
    "           '对应编号', '小区名', 'id']\n",
    "    data_res2.to_csv('G:/1-规划/评估/覆盖空洞/20200712第四版本/9-评估搬迁站点/2-输出数据/'+name.split('/')[-1].split('.')[0]+'.csv',encoding='gbk',index=False)\n",
    "    print(name,'输出成功')\n",
    "    data_z = data_z.append(data_res2)\n",
    "data_z.to_csv('G:/1-规划/评估/覆盖空洞/20200712第四版本/9-评估搬迁站点/2-输出数据/汇总.csv',encoding='gbk',index=False)\n",
    "print('输出完成')"
   ]
  },
  {
   "cell_type": "markdown",
   "metadata": {},
   "source": [
    "# 小区被覆盖比例计算"
   ]
  },
  {
   "cell_type": "code",
   "execution_count": null,
   "metadata": {
    "ExecuteTime": {
     "end_time": "2020-08-11T09:54:29.575865Z",
     "start_time": "2020-08-11T09:54:25.417837Z"
    }
   },
   "outputs": [],
   "source": [
    "gongcan_s = pd.read_pickle('G:/1-规划/评估/覆盖空洞/20200712第四版本/2-程序数据出-过程/1-修正半径后使用的数据/修正后覆盖半径的扇区图层_1原始.data')"
   ]
  },
  {
   "cell_type": "code",
   "execution_count": null,
   "metadata": {
    "ExecuteTime": {
     "end_time": "2020-08-11T09:54:37.504872Z",
     "start_time": "2020-08-11T09:54:30.093931Z"
    }
   },
   "outputs": [],
   "source": [
    "gongcan_s[[ '小区CGI(*)', '小区中文名', '所属地区', 'RRU经度', 'RRU纬度', '天线挂高',\n",
    "       '方位角', '工作频段', '归属区县', '厂家名称', '区域类型', 'distance', '覆盖模型距离',\n",
    "       '30米覆盖模型距离', '使用覆盖半径', 'distance_use', 'distance_yb', 'h_use', '高度建筑比',\n",
    "       'distance_use_3']].to_csv('G:/1-规划/评估/覆盖空洞/20200712第四版本/9-评估搬迁站点/1-基础数据/空洞使用的小区信息/kd_use_data.csv',encoding='gbk',index=False)"
   ]
  },
  {
   "cell_type": "code",
   "execution_count": null,
   "metadata": {
    "ExecuteTime": {
     "end_time": "2020-08-11T10:16:14.420559Z",
     "start_time": "2020-08-11T10:16:14.310545Z"
    }
   },
   "outputs": [],
   "source": [
    "gongcan_s = gongcan_s[[ '小区CGI(*)', '小区中文名', '所属地区', 'RRU经度', 'RRU纬度', '天线挂高',\n",
    "       '方位角', '工作频段', '归属区县', '厂家名称', '区域类型', 'distance', '覆盖模型距离',\n",
    "       '30米覆盖模型距离', '使用覆盖半径', 'distance_use', 'distance_yb', 'h_use', '高度建筑比',\n",
    "       'distance_use_3', 'geometry']]"
   ]
  },
  {
   "cell_type": "code",
   "execution_count": null,
   "metadata": {
    "ExecuteTime": {
     "end_time": "2020-08-11T14:19:58.894632Z",
     "start_time": "2020-08-11T14:19:58.884630Z"
    }
   },
   "outputs": [],
   "source": [
    "def fc(x):\n",
    "    lon = x['RRU经度']\n",
    "    lat = x['RRU纬度']\n",
    "    #筛选范围内的所有扇区\n",
    "    gongcan_s_temp = gongcan_s.loc[(gongcan_s['RRU经度']>(lon-0.05) )&(gongcan_s['RRU经度']<(lon+0.05) ) & \n",
    "                  (gongcan_s['RRU纬度']>(lat-0.05) )&(gongcan_s['RRU纬度']<(lat+0.05))]\n",
    "    #剔除掉共站址的扇区\n",
    "    b = data_z.loc[data_z['小区名']==x['小区中文名'],'站点名称']\n",
    "    if len(list(b.values)) == 0 :\n",
    "        geometry='无效数据'\n",
    "    else:\n",
    "        use_s = gongcan_s_temp.loc[~gongcan_s_temp['小区中文名'].isin(list(data_z.loc[data_z['站点名称']==b.values[0],'小区名'].values))]\n",
    "        if use_s.shape[0]<1:\n",
    "            geometry='孤站'\n",
    "        else:\n",
    "            use_s['省份'] = 'hb'\n",
    "            use_s1 = use_s.dissolve(by = '省份')\n",
    "            use_s1['geometry'] = use_s1.buffer(0.0000001)\n",
    "            geometry = x['geometry'].difference(use_s1['geometry'][0])\n",
    "            if geometry.area==0:\n",
    "                geometry=1\n",
    "    return geometry"
   ]
  },
  {
   "cell_type": "code",
   "execution_count": null,
   "metadata": {
    "ExecuteTime": {
     "end_time": "2020-08-11T23:47:22.012059Z",
     "start_time": "2020-08-11T14:20:00.623351Z"
    },
    "scrolled": true
   },
   "outputs": [],
   "source": [
    "gongcan_s['ji_geo'] = gongcan_s.apply(fc,axis=1)#gongcan_s.iloc[36160:36177,]"
   ]
  },
  {
   "cell_type": "code",
   "execution_count": null,
   "metadata": {
    "ExecuteTime": {
     "end_time": "2020-08-11T23:47:22.017059Z",
     "start_time": "2020-08-11T14:20:04.736Z"
    }
   },
   "outputs": [],
   "source": [
    "mytools.sound()"
   ]
  },
  {
   "cell_type": "code",
   "execution_count": null,
   "metadata": {},
   "outputs": [],
   "source": []
  },
  {
   "cell_type": "code",
   "execution_count": null,
   "metadata": {},
   "outputs": [],
   "source": []
  },
  {
   "cell_type": "code",
   "execution_count": null,
   "metadata": {},
   "outputs": [],
   "source": []
  },
  {
   "cell_type": "code",
   "execution_count": null,
   "metadata": {},
   "outputs": [],
   "source": []
  },
  {
   "cell_type": "code",
   "execution_count": null,
   "metadata": {
    "ExecuteTime": {
     "end_time": "2020-08-11T14:16:55.313320Z",
     "start_time": "2020-08-11T14:16:55.307319Z"
    }
   },
   "outputs": [],
   "source": [
    "x = gongcan_s.iloc[36169,]"
   ]
  },
  {
   "cell_type": "code",
   "execution_count": null,
   "metadata": {
    "ExecuteTime": {
     "end_time": "2020-08-11T14:16:55.946900Z",
     "start_time": "2020-08-11T14:16:55.891393Z"
    },
    "scrolled": true
   },
   "outputs": [],
   "source": [
    "lon = x['RRU经度']\n",
    "lat = x['RRU纬度']\n",
    "#筛选范围内的所有扇区\n",
    "gongcan_s_temp = gongcan_s.loc[(gongcan_s['RRU经度']>(lon-0.05) )&(gongcan_s['RRU经度']<(lon+0.05) ) & \n",
    "              (gongcan_s['RRU纬度']>(lat-0.05) )&(gongcan_s['RRU纬度']<(lat+0.05))]\n",
    "#剔除掉共站址的扇区\n",
    "b = data_z.loc[data_z['小区名']==x['小区中文名'],'站点名称']\n",
    "if len(list(b.values)) == 0 :\n",
    "    geometry='无效数据'\n",
    "else:\n",
    "    if use_s1.shape[0]<1:\n",
    "        geometry='孤站'\n",
    "    else:\n",
    "        use_s = gongcan_s_temp.loc[~gongcan_s_temp['小区中文名'].isin(list(data_z.loc[data_z['站点名称']==b.values[0],'小区名'].values))]\n",
    "        use_s['省份'] = 'hb'\n",
    "        use_s1 = use_s.dissolve(by = '省份')\n",
    "        use_s1['geometry'] = use_s1.buffer(0.0000001)\n",
    "        geometry = x['geometry'].difference(use_s1['geometry'][0])\n",
    "        if geometry.area==0:\n",
    "            geometry=1"
   ]
  },
  {
   "cell_type": "code",
   "execution_count": null,
   "metadata": {
    "ExecuteTime": {
     "end_time": "2020-08-11T14:12:52.706013Z",
     "start_time": "2020-08-11T14:12:52.628003Z"
    },
    "scrolled": true
   },
   "outputs": [],
   "source": [
    "x['geometry'].difference(use_s1['geometry'][0])"
   ]
  },
  {
   "cell_type": "code",
   "execution_count": null,
   "metadata": {
    "ExecuteTime": {
     "end_time": "2020-08-11T14:12:12.148863Z",
     "start_time": "2020-08-11T14:12:12.138861Z"
    }
   },
   "outputs": [],
   "source": [
    "x['geometry']"
   ]
  },
  {
   "cell_type": "code",
   "execution_count": null,
   "metadata": {
    "ExecuteTime": {
     "end_time": "2020-08-11T14:12:17.803581Z",
     "start_time": "2020-08-11T14:12:17.787579Z"
    }
   },
   "outputs": [],
   "source": [
    "x"
   ]
  },
  {
   "cell_type": "code",
   "execution_count": null,
   "metadata": {},
   "outputs": [],
   "source": []
  },
  {
   "cell_type": "code",
   "execution_count": null,
   "metadata": {},
   "outputs": [],
   "source": []
  },
  {
   "cell_type": "code",
   "execution_count": null,
   "metadata": {
    "ExecuteTime": {
     "end_time": "2020-08-11T08:33:22.170783Z",
     "start_time": "2020-08-11T08:33:22.146780Z"
    }
   },
   "outputs": [],
   "source": [
    "use_s = gongcan_s_temp.loc[~gongcan_s_temp['小区中文名'].isin(list(data_z.loc[data_z['站点名称']==b.values[0],'小区名'].values))]"
   ]
  },
  {
   "cell_type": "code",
   "execution_count": null,
   "metadata": {
    "ExecuteTime": {
     "end_time": "2020-08-11T08:33:50.035822Z",
     "start_time": "2020-08-11T08:33:49.991316Z"
    }
   },
   "outputs": [],
   "source": [
    "b = data_z.loc[data_z['小区名']==x['小区中文名'],'站点名称']"
   ]
  },
  {
   "cell_type": "code",
   "execution_count": null,
   "metadata": {
    "ExecuteTime": {
     "end_time": "2020-08-11T08:34:04.463654Z",
     "start_time": "2020-08-11T08:34:04.423149Z"
    }
   },
   "outputs": [],
   "source": [
    "data_z.loc[data_z['小区名']==x['小区中文名'],'站点名称']"
   ]
  },
  {
   "cell_type": "code",
   "execution_count": null,
   "metadata": {
    "ExecuteTime": {
     "end_time": "2020-08-11T08:33:37.626246Z",
     "start_time": "2020-08-11T08:33:37.602243Z"
    }
   },
   "outputs": [],
   "source": [
    "data_z.loc[data_z['站点名称']==b.values[0],'小区名']"
   ]
  },
  {
   "cell_type": "code",
   "execution_count": null,
   "metadata": {
    "ExecuteTime": {
     "end_time": "2020-08-11T08:33:11.632945Z",
     "start_time": "2020-08-11T08:33:11.625444Z"
    }
   },
   "outputs": [],
   "source": [
    "x"
   ]
  }
 ],
 "metadata": {
  "kernelspec": {
   "display_name": "Python 3",
   "language": "python",
   "name": "python3"
  },
  "language_info": {
   "codemirror_mode": {
    "name": "ipython",
    "version": 3
   },
   "file_extension": ".py",
   "mimetype": "text/x-python",
   "name": "python",
   "nbconvert_exporter": "python",
   "pygments_lexer": "ipython3",
   "version": "3.7.4"
  },
  "toc": {
   "base_numbering": 1,
   "nav_menu": {},
   "number_sections": true,
   "sideBar": true,
   "skip_h1_title": false,
   "title_cell": "Table of Contents",
   "title_sidebar": "Contents",
   "toc_cell": false,
   "toc_position": {},
   "toc_section_display": true,
   "toc_window_display": false
  },
  "varInspector": {
   "cols": {
    "lenName": 16,
    "lenType": 16,
    "lenVar": 40
   },
   "kernels_config": {
    "python": {
     "delete_cmd_postfix": "",
     "delete_cmd_prefix": "del ",
     "library": "var_list.py",
     "varRefreshCmd": "print(var_dic_list())"
    },
    "r": {
     "delete_cmd_postfix": ") ",
     "delete_cmd_prefix": "rm(",
     "library": "var_list.r",
     "varRefreshCmd": "cat(var_dic_list()) "
    }
   },
   "types_to_exclude": [
    "module",
    "function",
    "builtin_function_or_method",
    "instance",
    "_Feature"
   ],
   "window_display": false
  }
 },
 "nbformat": 4,
 "nbformat_minor": 2
}
