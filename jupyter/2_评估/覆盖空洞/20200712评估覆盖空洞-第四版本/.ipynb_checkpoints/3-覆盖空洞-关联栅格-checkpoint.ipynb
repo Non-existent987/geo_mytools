{
 "cells": [
  {
   "cell_type": "code",
   "execution_count": null,
   "metadata": {
    "ExecuteTime": {
     "end_time": "2020-07-14T16:29:51.082562Z",
     "start_time": "2020-07-14T16:29:49.818401Z"
    }
   },
   "outputs": [],
   "source": [
    "import pandas as pd\n",
    "import geopandas as gpd\n",
    "import mytools"
   ]
  },
  {
   "cell_type": "markdown",
   "metadata": {},
   "source": [
    "# 导入数据"
   ]
  },
  {
   "cell_type": "code",
   "execution_count": null,
   "metadata": {
    "ExecuteTime": {
     "end_time": "2020-07-14T16:30:21.113875Z",
     "start_time": "2020-07-14T16:30:20.644316Z"
    }
   },
   "outputs": [],
   "source": [
    "#导入空洞数据\n",
    "kongd = pd.read_pickle('G:/1-规划/评估/覆盖空洞/20200712第四版本/3-拆分后的空洞/覆盖空19481个添加场景区分大中小微.data')"
   ]
  },
  {
   "cell_type": "code",
   "execution_count": null,
   "metadata": {
    "ExecuteTime": {
     "end_time": "2020-07-14T16:30:21.439416Z",
     "start_time": "2020-07-14T16:30:21.416414Z"
    }
   },
   "outputs": [],
   "source": [
    "kongd.head(1)"
   ]
  },
  {
   "cell_type": "code",
   "execution_count": null,
   "metadata": {
    "ExecuteTime": {
     "end_time": "2020-07-14T16:30:43.850762Z",
     "start_time": "2020-07-14T16:30:30.599580Z"
    }
   },
   "outputs": [],
   "source": [
    "#导入栅格数据\n",
    "grid = pd.read_csv('G:/1-规划/评估/软采评估/2020年6月/6月评估程序-模块化/1-基础数据/软采数据/栅格/6月栅格-按照采样点倒序去重.csv',encoding='gbk')"
   ]
  },
  {
   "cell_type": "code",
   "execution_count": null,
   "metadata": {
    "ExecuteTime": {
     "end_time": "2020-07-14T16:30:44.520347Z",
     "start_time": "2020-07-14T16:30:44.500845Z"
    }
   },
   "outputs": [],
   "source": [
    "grid.head(1)"
   ]
  },
  {
   "cell_type": "markdown",
   "metadata": {},
   "source": [
    "# 栅格生成点图"
   ]
  },
  {
   "cell_type": "code",
   "execution_count": null,
   "metadata": {
    "ExecuteTime": {
     "end_time": "2020-07-14T16:31:13.181987Z",
     "start_time": "2020-07-14T16:31:13.177486Z"
    }
   },
   "outputs": [],
   "source": [
    "dya,city,grid_id,leftbottom_lon,left_bottom_lat,righttop_lon,righttop_lat,rsrp_count,rsrp_weak,un_count,un_weak,te_count,te_weak=[\n",
    "    'a.day', 'a.region_name', 'a.grid_id', 'a.grid_leftbottom_longitude','a.grid_leftbottom_latitude', \n",
    "    'a.grid_righttop_longitude' ,'a.grid_righttop_latitude','a.rsrp_sample_count', 'a.rsrp_weak', \n",
    "    'a.un_maxrsrp_sample_count',  'a.un_maxrsrp_weak_l2', 'a.te_maxrsrp_sample_count','a.te_maxrsrp_weak_l2']\n",
    "lon,lat = ['lon','lat']"
   ]
  },
  {
   "cell_type": "code",
   "execution_count": null,
   "metadata": {
    "ExecuteTime": {
     "end_time": "2020-07-14T16:31:13.953085Z",
     "start_time": "2020-07-14T16:31:13.807066Z"
    }
   },
   "outputs": [],
   "source": [
    "data_t_use = grid[[dya,city,grid_id,leftbottom_lon,left_bottom_lat,righttop_lon,righttop_lat,rsrp_count,\n",
    "                   rsrp_weak,un_count,un_weak,te_count,te_weak]]"
   ]
  },
  {
   "cell_type": "code",
   "execution_count": null,
   "metadata": {
    "ExecuteTime": {
     "end_time": "2020-07-14T16:31:15.043223Z",
     "start_time": "2020-07-14T16:31:14.584165Z"
    }
   },
   "outputs": [],
   "source": [
    "#添加lon和lat\n",
    "data_t_use.loc[:,lon] = (data_t_use[leftbottom_lon]+data_t_use[righttop_lon])/2\n",
    "data_t_use.loc[:,lat] = (data_t_use[left_bottom_lat]+data_t_use[righttop_lat])/2\n",
    "data_t_use_v1 = data_t_use[[dya,city,grid_id,lon,lat,rsrp_count,rsrp_weak,un_count,un_weak,te_count,te_weak]]"
   ]
  },
  {
   "cell_type": "code",
   "execution_count": null,
   "metadata": {
    "ExecuteTime": {
     "end_time": "2020-07-14T16:31:15.686805Z",
     "start_time": "2020-07-14T16:31:15.655301Z"
    }
   },
   "outputs": [],
   "source": [
    "data_t_use_v1['fgl'] = 1 - data_t_use_v1[rsrp_weak] / data_t_use_v1[rsrp_count]"
   ]
  },
  {
   "cell_type": "code",
   "execution_count": null,
   "metadata": {
    "ExecuteTime": {
     "end_time": "2020-07-14T16:31:46.021157Z",
     "start_time": "2020-07-14T16:31:16.411897Z"
    }
   },
   "outputs": [],
   "source": [
    "grid_p = mytools.gisn.add_points(data_t_use_v1,lon,lat)"
   ]
  },
  {
   "cell_type": "markdown",
   "metadata": {},
   "source": [
    "# 空洞匹配栅格"
   ]
  },
  {
   "cell_type": "code",
   "execution_count": null,
   "metadata": {
    "ExecuteTime": {
     "end_time": "2020-07-14T16:34:50.134536Z",
     "start_time": "2020-07-14T16:31:50.009663Z"
    }
   },
   "outputs": [],
   "source": [
    "kongd_result = gpd.sjoin(kongd,grid_p)"
   ]
  },
  {
   "cell_type": "code",
   "execution_count": null,
   "metadata": {
    "ExecuteTime": {
     "end_time": "2020-07-14T16:34:54.447584Z",
     "start_time": "2020-07-14T16:34:54.442583Z"
    }
   },
   "outputs": [],
   "source": [
    "kongd_result['fgl'] = 1 - kongd_result[rsrp_weak] / kongd_result[rsrp_count]"
   ]
  },
  {
   "cell_type": "markdown",
   "metadata": {},
   "source": [
    "# 数据输出"
   ]
  },
  {
   "cell_type": "code",
   "execution_count": null,
   "metadata": {
    "ExecuteTime": {
     "end_time": "2020-07-14T16:37:20.563138Z",
     "start_time": "2020-07-14T16:37:18.129329Z"
    }
   },
   "outputs": [],
   "source": [
    "#导出匹配到栅格的空洞\n",
    "kongd_grid = kongd_result.drop_duplicates('id')[['id']]\n",
    "kongd_2 = kongd.merge(kongd_grid,how='inner',on='id')\n",
    "kongd_2.to_pickle('G:/1-规划/评估/覆盖空洞/20200712第四版本/4-相关图层输出/5栅格图层/匹配到栅格的{}个空洞.data'.format(kongd_2.shape[0]))"
   ]
  },
  {
   "cell_type": "code",
   "execution_count": null,
   "metadata": {
    "ExecuteTime": {
     "end_time": "2020-07-14T16:37:26.648911Z",
     "start_time": "2020-07-14T16:37:24.821679Z"
    }
   },
   "outputs": [],
   "source": [
    "#导出匹配到空洞的栅格\n",
    "grid_2 = kongd_result.drop_duplicates('a.grid_id')[[ 'a.grid_id']]\n",
    "grid_2_r = data_t_use_v1.merge(grid_2,how='inner',on='a.grid_id')\n",
    "grid_2_r.to_pickle('G:/1-规划/评估/覆盖空洞/20200712第四版本/4-相关图层输出/5栅格图层/空洞匹配到的{}个栅格.data'.format(grid_2_r.shape[0]))"
   ]
  },
  {
   "cell_type": "code",
   "execution_count": null,
   "metadata": {
    "ExecuteTime": {
     "end_time": "2020-07-14T16:37:31.057971Z",
     "start_time": "2020-07-14T16:37:30.977961Z"
    },
    "scrolled": true
   },
   "outputs": [],
   "source": [
    "#导出匹配到空洞的栅格-弱覆盖\n",
    "grid_2_r.loc[grid_2_r['fgl']<0.7,'栅格类型'] ='严重弱覆盖栅格'\n",
    "kd_yzrfg = grid_2_r.loc[grid_2_r['fgl']<0.7]\n",
    "kd_yzrfg.to_pickle('G:/1-规划/评估/覆盖空洞/20200712第四版本/4-相关图层输出/5栅格图层/空洞匹配到的严重弱覆盖{}个栅格.data'.format(kd_yzrfg.shape[0]))"
   ]
  },
  {
   "cell_type": "code",
   "execution_count": null,
   "metadata": {
    "ExecuteTime": {
     "end_time": "2020-07-14T16:37:35.422025Z",
     "start_time": "2020-07-14T16:37:35.311011Z"
    }
   },
   "outputs": [],
   "source": [
    "#导出匹配到空洞的栅格-严重弱覆盖\n",
    "grid_2_r.loc[(grid_2_r['fgl']<0.936),'栅格类型'] ='弱覆盖栅格'\n",
    "kd_rfg = grid_2_r.loc[(grid_2_r['fgl']<0.936)]\n",
    "kd_rfg.to_pickle('G:/1-规划/评估/覆盖空洞/20200712第四版本/4-相关图层输出/5栅格图层/空洞匹配到的{}个弱覆盖栅格.data'.format(kd_rfg.shape[0]))"
   ]
  },
  {
   "cell_type": "code",
   "execution_count": null,
   "metadata": {
    "ExecuteTime": {
     "end_time": "2020-07-14T16:37:39.692568Z",
     "start_time": "2020-07-14T16:37:39.687567Z"
    }
   },
   "outputs": [],
   "source": [
    "print(grid_2_r.shape[0],kd_rfg.shape[0],kd_yzrfg.shape[0])"
   ]
  },
  {
   "cell_type": "code",
   "execution_count": null,
   "metadata": {},
   "outputs": [],
   "source": []
  }
 ],
 "metadata": {
  "kernelspec": {
   "display_name": "Python 3",
   "language": "python",
   "name": "python3"
  },
  "language_info": {
   "codemirror_mode": {
    "name": "ipython",
    "version": 3
   },
   "file_extension": ".py",
   "mimetype": "text/x-python",
   "name": "python",
   "nbconvert_exporter": "python",
   "pygments_lexer": "ipython3",
   "version": "3.7.4"
  },
  "toc": {
   "base_numbering": 1,
   "nav_menu": {},
   "number_sections": true,
   "sideBar": true,
   "skip_h1_title": false,
   "title_cell": "Table of Contents",
   "title_sidebar": "Contents",
   "toc_cell": false,
   "toc_position": {},
   "toc_section_display": true,
   "toc_window_display": false
  },
  "varInspector": {
   "cols": {
    "lenName": 16,
    "lenType": 16,
    "lenVar": 40
   },
   "kernels_config": {
    "python": {
     "delete_cmd_postfix": "",
     "delete_cmd_prefix": "del ",
     "library": "var_list.py",
     "varRefreshCmd": "print(var_dic_list())"
    },
    "r": {
     "delete_cmd_postfix": ") ",
     "delete_cmd_prefix": "rm(",
     "library": "var_list.r",
     "varRefreshCmd": "cat(var_dic_list()) "
    }
   },
   "types_to_exclude": [
    "module",
    "function",
    "builtin_function_or_method",
    "instance",
    "_Feature"
   ],
   "window_display": false
  }
 },
 "nbformat": 4,
 "nbformat_minor": 2
}
