{
 "cells": [
  {
   "cell_type": "code",
   "execution_count": null,
   "metadata": {
    "ExecuteTime": {
     "end_time": "2020-07-21T16:42:55.645696Z",
     "start_time": "2020-07-21T16:42:54.812590Z"
    }
   },
   "outputs": [],
   "source": [
    "import mytools\n",
    "import pandas as pd\n",
    "import geopandas as gpd"
   ]
  },
  {
   "cell_type": "markdown",
   "metadata": {},
   "source": [
    "# 导入规划站点，制作图层"
   ]
  },
  {
   "cell_type": "code",
   "execution_count": null,
   "metadata": {
    "ExecuteTime": {
     "end_time": "2020-07-21T16:43:00.865359Z",
     "start_time": "2020-07-21T16:42:55.647696Z"
    }
   },
   "outputs": [],
   "source": [
    "file = mytools.othern.get_file_one_tk()#'G:/1-规划/评估/覆盖空洞/20200712第四版本/1-基础数据/规划站点/汇总.xlsx'\n",
    "guihua = pd.read_excel(file,encoding='gbk')"
   ]
  },
  {
   "cell_type": "code",
   "execution_count": null,
   "metadata": {
    "ExecuteTime": {
     "end_time": "2020-07-21T16:43:08.368812Z",
     "start_time": "2020-07-21T16:43:00.867859Z"
    }
   },
   "outputs": [],
   "source": [
    "guihua_changjing = mytools.gisn.points_coverage_merge(guihua,'lon','lat')\n",
    "guihua_jl = mytools.gisn.changjing_distance(guihua_changjing,'区域类型','制式')\n",
    "guihua_s = mytools.gisn.add_buffer_df(guihua_jl,'lon','lat','distance')\n",
    "guihua_s = mytools.gisn.add_area(guihua_s,'规划站覆盖面积')"
   ]
  },
  {
   "cell_type": "markdown",
   "metadata": {},
   "source": [
    "# 导入空洞"
   ]
  },
  {
   "cell_type": "code",
   "execution_count": null,
   "metadata": {
    "ExecuteTime": {
     "end_time": "2020-07-21T16:43:08.681852Z",
     "start_time": "2020-07-21T16:43:08.371312Z"
    }
   },
   "outputs": [],
   "source": [
    "result = pd.read_pickle('G:/1-规划/评估/覆盖空洞/20200712第四版本/3-拆分后的空洞/覆盖空19481个添加场景区分大中小微.data')"
   ]
  },
  {
   "cell_type": "code",
   "execution_count": null,
   "metadata": {
    "ExecuteTime": {
     "end_time": "2020-07-21T16:43:19.537230Z",
     "start_time": "2020-07-21T16:43:08.683852Z"
    }
   },
   "outputs": [],
   "source": [
    "result_use = mytools.gisn.buffer(result,0.01)"
   ]
  },
  {
   "cell_type": "markdown",
   "metadata": {},
   "source": [
    "# 空洞匹配规划站点"
   ]
  },
  {
   "cell_type": "code",
   "execution_count": null,
   "metadata": {
    "ExecuteTime": {
     "end_time": "2020-07-21T16:43:27.982302Z",
     "start_time": "2020-07-21T16:43:19.539230Z"
    },
    "scrolled": true
   },
   "outputs": [],
   "source": [
    "result_guihua = gpd.overlay(result_use,guihua_s)"
   ]
  },
  {
   "cell_type": "code",
   "execution_count": null,
   "metadata": {
    "ExecuteTime": {
     "end_time": "2020-07-21T16:43:30.403110Z",
     "start_time": "2020-07-21T16:43:27.984303Z"
    }
   },
   "outputs": [],
   "source": [
    "result_guihua_area = mytools.gisn.add_area(result_guihua,'空洞匹配规划站点面积')"
   ]
  },
  {
   "cell_type": "code",
   "execution_count": null,
   "metadata": {
    "ExecuteTime": {
     "end_time": "2020-07-21T16:43:30.420612Z",
     "start_time": "2020-07-21T16:43:30.406110Z"
    }
   },
   "outputs": [],
   "source": [
    "result_guihua_area.shape"
   ]
  },
  {
   "cell_type": "code",
   "execution_count": null,
   "metadata": {
    "ExecuteTime": {
     "end_time": "2020-07-21T16:43:30.621137Z",
     "start_time": "2020-07-21T16:43:30.426113Z"
    }
   },
   "outputs": [],
   "source": [
    "result_guihua_area.drop(columns='geometry').to_csv(\n",
    "    'G:/1-规划/评估/覆盖空洞/20200712第四版本/7-关联规划站点/空洞匹配规划站点.csv',encoding='gbk')"
   ]
  },
  {
   "cell_type": "markdown",
   "metadata": {},
   "source": [
    "## 空洞匹配规划站点第二种方法"
   ]
  },
  {
   "cell_type": "code",
   "execution_count": null,
   "metadata": {
    "ExecuteTime": {
     "end_time": "2020-07-21T23:16:54.330428Z",
     "start_time": "2020-07-21T16:58:44.531189Z"
    }
   },
   "outputs": [],
   "source": [
    "result_z = gpd.GeoDataFrame()\n",
    "for name , data_t in result_use.groupby('id'):\n",
    "    t_res = gpd.overlay(data_t,guihua_s)\n",
    "    result_z = result_z.append(t_res)"
   ]
  },
  {
   "cell_type": "code",
   "execution_count": null,
   "metadata": {
    "ExecuteTime": {
     "end_time": "2020-07-21T23:17:05.573356Z",
     "start_time": "2020-07-21T23:17:03.121544Z"
    }
   },
   "outputs": [],
   "source": [
    "result_z = mytools.gisn.add_area(result_z,'单个空洞循环匹配规划站点面积')"
   ]
  },
  {
   "cell_type": "code",
   "execution_count": null,
   "metadata": {
    "ExecuteTime": {
     "end_time": "2020-07-21T23:17:14.516991Z",
     "start_time": "2020-07-21T23:17:14.315966Z"
    }
   },
   "outputs": [],
   "source": [
    "result_z.drop(columns='geometry').to_csv(\n",
    "    'G:/1-规划/评估/覆盖空洞/20200712第四版本/7-关联规划站点/单个空洞循环匹配规划站点.csv',encoding='gbk')"
   ]
  },
  {
   "cell_type": "code",
   "execution_count": null,
   "metadata": {
    "ExecuteTime": {
     "end_time": "2020-07-21T23:17:25.627402Z",
     "start_time": "2020-07-21T23:17:23.423622Z"
    }
   },
   "outputs": [],
   "source": [
    "mytools.sound()"
   ]
  },
  {
   "cell_type": "markdown",
   "metadata": {},
   "source": [
    "# 空洞与扇区求sjoin"
   ]
  },
  {
   "cell_type": "code",
   "execution_count": null,
   "metadata": {
    "ExecuteTime": {
     "end_time": "2020-07-21T23:17:38.097986Z",
     "start_time": "2020-07-21T23:17:34.376513Z"
    }
   },
   "outputs": [],
   "source": [
    "result_sjoin_guihua = gpd.sjoin(result_use,guihua_s)"
   ]
  },
  {
   "cell_type": "code",
   "execution_count": null,
   "metadata": {
    "ExecuteTime": {
     "end_time": "2020-07-21T23:17:47.642698Z",
     "start_time": "2020-07-21T23:17:47.509681Z"
    }
   },
   "outputs": [],
   "source": [
    "result_sjoin_guihua.drop(columns='geometry').to_csv(\n",
    "    'G:/1-规划/评估/覆盖空洞/20200712第四版本/7-关联规划站点/空洞与扇区求sjoin.csv',encoding='gbk')"
   ]
  },
  {
   "cell_type": "code",
   "execution_count": null,
   "metadata": {
    "ExecuteTime": {
     "end_time": "2020-07-21T23:17:59.315680Z",
     "start_time": "2020-07-21T23:17:57.123902Z"
    }
   },
   "outputs": [],
   "source": [
    "mytools.sound()"
   ]
  },
  {
   "cell_type": "markdown",
   "metadata": {},
   "source": [
    "# 规划站点匹配空洞"
   ]
  },
  {
   "cell_type": "code",
   "execution_count": null,
   "metadata": {
    "ExecuteTime": {
     "end_time": "2020-07-21T16:43:38.988200Z",
     "start_time": "2020-07-21T16:43:30.656142Z"
    }
   },
   "outputs": [],
   "source": [
    "guihua_result = gpd.overlay(guihua_s,result_use)"
   ]
  },
  {
   "cell_type": "code",
   "execution_count": null,
   "metadata": {
    "ExecuteTime": {
     "end_time": "2020-07-21T16:43:41.416008Z",
     "start_time": "2020-07-21T16:43:38.989700Z"
    }
   },
   "outputs": [],
   "source": [
    "guihua_result_area = mytools.gisn.add_area(guihua_result,'规划站点匹配空洞面积')"
   ]
  },
  {
   "cell_type": "code",
   "execution_count": null,
   "metadata": {
    "ExecuteTime": {
     "end_time": "2020-07-21T16:43:41.422509Z",
     "start_time": "2020-07-21T16:43:41.417508Z"
    }
   },
   "outputs": [],
   "source": [
    "guihua_result_area.shape"
   ]
  },
  {
   "cell_type": "code",
   "execution_count": null,
   "metadata": {
    "ExecuteTime": {
     "end_time": "2020-07-21T16:43:41.571028Z",
     "start_time": "2020-07-21T16:43:41.424509Z"
    }
   },
   "outputs": [],
   "source": [
    "guihua_result_area.drop(columns='geometry').to_csv(\n",
    "    'G:/1-规划/评估/覆盖空洞/20200712第四版本/7-关联规划站点/规划站点匹配空洞.csv',encoding='gbk')"
   ]
  },
  {
   "cell_type": "code",
   "execution_count": null,
   "metadata": {
    "ExecuteTime": {
     "end_time": "2020-07-21T16:43:41.603032Z",
     "start_time": "2020-07-21T16:43:41.572528Z"
    },
    "scrolled": true
   },
   "outputs": [],
   "source": [
    "guihua_result_area.head(1)"
   ]
  },
  {
   "cell_type": "markdown",
   "metadata": {},
   "source": [
    "# 空洞匹配合并后的规划站点"
   ]
  },
  {
   "cell_type": "code",
   "execution_count": null,
   "metadata": {
    "ExecuteTime": {
     "end_time": "2020-07-21T16:47:31.527229Z",
     "start_time": "2020-07-21T16:47:31.523228Z"
    }
   },
   "outputs": [],
   "source": [
    "guihua_s['hb'] = 'hb'"
   ]
  },
  {
   "cell_type": "code",
   "execution_count": null,
   "metadata": {
    "ExecuteTime": {
     "end_time": "2020-07-21T16:48:45.803160Z",
     "start_time": "2020-07-21T16:48:39.636877Z"
    }
   },
   "outputs": [],
   "source": [
    "guihua_use = guihua_s.dissolve('hb')"
   ]
  },
  {
   "cell_type": "code",
   "execution_count": null,
   "metadata": {
    "ExecuteTime": {
     "end_time": "2020-07-21T16:57:47.547953Z",
     "start_time": "2020-07-21T16:48:57.359628Z"
    }
   },
   "outputs": [],
   "source": [
    "result_guihua_he = gpd.overlay(result_use,guihua_use)"
   ]
  },
  {
   "cell_type": "code",
   "execution_count": null,
   "metadata": {
    "ExecuteTime": {
     "end_time": "2020-07-21T16:58:07.893537Z",
     "start_time": "2020-07-21T16:58:05.901784Z"
    }
   },
   "outputs": [],
   "source": [
    "result_guihua_he_area = mytools.gisn.add_area(result_guihua_he,'空洞匹配规划站点合并后面积')"
   ]
  },
  {
   "cell_type": "code",
   "execution_count": null,
   "metadata": {
    "ExecuteTime": {
     "end_time": "2020-07-21T16:58:16.277101Z",
     "start_time": "2020-07-21T16:58:16.273101Z"
    }
   },
   "outputs": [],
   "source": [
    "result_guihua_he_area.shape"
   ]
  },
  {
   "cell_type": "code",
   "execution_count": null,
   "metadata": {
    "ExecuteTime": {
     "end_time": "2020-07-21T16:58:24.722674Z",
     "start_time": "2020-07-21T16:58:24.628662Z"
    }
   },
   "outputs": [],
   "source": [
    "result_guihua_he_area.drop(columns='geometry').to_csv(\n",
    "    'G:/1-规划/评估/覆盖空洞/20200712第四版本/7-关联规划站点/空洞匹配规划站点合并后.csv',encoding='gbk')"
   ]
  },
  {
   "cell_type": "code",
   "execution_count": null,
   "metadata": {},
   "outputs": [],
   "source": []
  },
  {
   "cell_type": "markdown",
   "metadata": {},
   "source": [
    "## 空洞匹配规划站点第二种方法"
   ]
  },
  {
   "cell_type": "code",
   "execution_count": null,
   "metadata": {
    "ExecuteTime": {
     "end_time": "2020-07-22T02:55:30.835012Z",
     "start_time": "2020-07-22T01:08:06.619201Z"
    }
   },
   "outputs": [],
   "source": [
    "result_z_he = gpd.GeoDataFrame()\n",
    "for name , data_t in result_use.groupby('id'):\n",
    "    t_res = gpd.overlay(data_t,guihua_use)\n",
    "    result_z_he = result_z_he.append(t_res)"
   ]
  },
  {
   "cell_type": "code",
   "execution_count": null,
   "metadata": {
    "ExecuteTime": {
     "end_time": "2020-07-22T02:55:46.257471Z",
     "start_time": "2020-07-22T02:55:43.505121Z"
    }
   },
   "outputs": [],
   "source": [
    "result_z_he = mytools.gisn.add_area(result_z_he,'单个空洞循环匹配合并后规划站点面积')"
   ]
  },
  {
   "cell_type": "code",
   "execution_count": null,
   "metadata": {
    "ExecuteTime": {
     "end_time": "2020-07-22T02:55:58.733555Z",
     "start_time": "2020-07-22T02:55:58.615040Z"
    }
   },
   "outputs": [],
   "source": [
    "result_z_he.drop(columns='geometry').to_csv(\n",
    "    'G:/1-规划/评估/覆盖空洞/20200712第四版本/7-关联规划站点/单个空洞循环匹配合并后规划站点面积.csv',encoding='gbk')"
   ]
  },
  {
   "cell_type": "code",
   "execution_count": null,
   "metadata": {
    "ExecuteTime": {
     "end_time": "2020-07-22T02:56:14.811597Z",
     "start_time": "2020-07-22T02:56:12.636821Z"
    }
   },
   "outputs": [],
   "source": [
    "mytools.sound()"
   ]
  },
  {
   "cell_type": "code",
   "execution_count": null,
   "metadata": {},
   "outputs": [],
   "source": []
  }
 ],
 "metadata": {
  "kernelspec": {
   "display_name": "Python 3",
   "language": "python",
   "name": "python3"
  },
  "language_info": {
   "codemirror_mode": {
    "name": "ipython",
    "version": 3
   },
   "file_extension": ".py",
   "mimetype": "text/x-python",
   "name": "python",
   "nbconvert_exporter": "python",
   "pygments_lexer": "ipython3",
   "version": "3.7.4"
  },
  "toc": {
   "base_numbering": 1,
   "nav_menu": {},
   "number_sections": true,
   "sideBar": true,
   "skip_h1_title": false,
   "title_cell": "Table of Contents",
   "title_sidebar": "Contents",
   "toc_cell": false,
   "toc_position": {},
   "toc_section_display": true,
   "toc_window_display": false
  },
  "varInspector": {
   "cols": {
    "lenName": 16,
    "lenType": 16,
    "lenVar": 40
   },
   "kernels_config": {
    "python": {
     "delete_cmd_postfix": "",
     "delete_cmd_prefix": "del ",
     "library": "var_list.py",
     "varRefreshCmd": "print(var_dic_list())"
    },
    "r": {
     "delete_cmd_postfix": ") ",
     "delete_cmd_prefix": "rm(",
     "library": "var_list.r",
     "varRefreshCmd": "cat(var_dic_list()) "
    }
   },
   "types_to_exclude": [
    "module",
    "function",
    "builtin_function_or_method",
    "instance",
    "_Feature"
   ],
   "window_display": false
  }
 },
 "nbformat": 4,
 "nbformat_minor": 2
}
