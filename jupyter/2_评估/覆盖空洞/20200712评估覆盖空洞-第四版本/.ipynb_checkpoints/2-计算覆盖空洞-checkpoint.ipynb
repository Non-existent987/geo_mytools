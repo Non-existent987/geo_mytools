{
 "cells": [
  {
   "cell_type": "code",
   "execution_count": null,
   "metadata": {
    "ExecuteTime": {
     "end_time": "2020-08-12T12:20:24.985568Z",
     "start_time": "2020-08-12T12:20:24.774041Z"
    }
   },
   "outputs": [],
   "source": [
    "%load_ext autoreload\n",
    "%autoreload 2"
   ]
  },
  {
   "cell_type": "code",
   "execution_count": null,
   "metadata": {
    "ExecuteTime": {
     "end_time": "2020-08-12T12:20:27.450881Z",
     "start_time": "2020-08-12T12:20:25.392119Z"
    }
   },
   "outputs": [],
   "source": [
    "import pandas as pd\n",
    "import time\n",
    "import geopandas as gpd\n",
    "from shapely.geometry import (LinearRing, LineString, MultiLineString,\n",
    "                              MultiPoint, MultiPolygon, Point, Polygon)\n",
    "from multiprocessing import Pool\n",
    "import os\n",
    "import re\n",
    "import matplotlib.pyplot as plt\n",
    "import mytools\n",
    "import numpy as np"
   ]
  },
  {
   "cell_type": "markdown",
   "metadata": {},
   "source": [
    "# 一、计算覆盖空洞生成图层"
   ]
  },
  {
   "cell_type": "markdown",
   "metadata": {},
   "source": [
    "# 1、-----------------现网覆盖区域计算---------------------------"
   ]
  },
  {
   "cell_type": "markdown",
   "metadata": {},
   "source": [
    "### 20200707 导入计算覆盖半径的数据"
   ]
  },
  {
   "cell_type": "code",
   "execution_count": null,
   "metadata": {
    "ExecuteTime": {
     "end_time": "2020-07-14T14:27:43.946634Z",
     "start_time": "2020-07-14T14:27:41.110273Z"
    }
   },
   "outputs": [],
   "source": [
    "gongcan_loc_juli = pd.read_csv(open('G:/1-规划/评估/覆盖空洞/20200712第四版本/2-程序数据出-过程/1-修正半径后使用的数据/1_修正半径_2周边建筑修正.csv',encoding='gbk'))"
   ]
  },
  {
   "cell_type": "code",
   "execution_count": null,
   "metadata": {
    "ExecuteTime": {
     "end_time": "2020-07-14T14:27:49.740369Z",
     "start_time": "2020-07-14T14:27:49.324816Z"
    }
   },
   "outputs": [],
   "source": [
    "gongcan_loc_juli.head(1)"
   ]
  },
  {
   "cell_type": "code",
   "execution_count": null,
   "metadata": {
    "ExecuteTime": {
     "end_time": "2020-07-14T14:27:56.773262Z",
     "start_time": "2020-07-14T14:27:56.390714Z"
    }
   },
   "outputs": [],
   "source": [
    "gongcan_loc_juli.columns"
   ]
  },
  {
   "cell_type": "code",
   "execution_count": null,
   "metadata": {
    "ExecuteTime": {
     "end_time": "2020-07-14T14:34:18.027175Z",
     "start_time": "2020-07-14T14:28:02.019929Z"
    }
   },
   "outputs": [],
   "source": [
    "#做扇区\n",
    "print('做扇区')\n",
    "gongcan_s = mytools.gisn.add_sectors_df(gongcan_loc_juli,coords=['RRU经度', 'RRU纬度', 'd_height', '方位角', 'distance_use_3'], has_z=False, sec_col='geometry', shape_dict={'beam': 120, 'per_degree': 10})"
   ]
  },
  {
   "cell_type": "code",
   "execution_count": null,
   "metadata": {
    "ExecuteTime": {
     "end_time": "2020-07-14T14:34:25.242592Z",
     "start_time": "2020-07-14T14:34:24.696522Z"
    }
   },
   "outputs": [],
   "source": [
    "gongcan_s['归属区县'] = gongcan_s['归属区县'].fillna('wu')"
   ]
  },
  {
   "cell_type": "code",
   "execution_count": null,
   "metadata": {
    "ExecuteTime": {
     "end_time": "2020-07-14T14:34:51.952483Z",
     "start_time": "2020-07-14T14:34:41.484654Z"
    }
   },
   "outputs": [],
   "source": [
    "gongcan_s.to_pickle('G:/1-规划/评估/覆盖空洞/20200712第四版本/2-程序数据出-过程/1-修正半径后使用的数据/修正后覆盖半径的扇区图层_1原始.data')"
   ]
  },
  {
   "cell_type": "code",
   "execution_count": null,
   "metadata": {
    "ExecuteTime": {
     "end_time": "2020-07-15T03:46:13.480875Z",
     "start_time": "2020-07-15T03:46:06.869535Z"
    }
   },
   "outputs": [],
   "source": [
    "gongcan_s = pd.read_pickle('G:/1-规划/评估/覆盖空洞/20200712第四版本/2-程序数据出-过程/1-修正半径后使用的数据/修正后覆盖半径的扇区图层_1原始.data')"
   ]
  },
  {
   "cell_type": "code",
   "execution_count": null,
   "metadata": {
    "ExecuteTime": {
     "end_time": "2020-07-14T14:34:58.992377Z",
     "start_time": "2020-07-14T14:34:58.549821Z"
    }
   },
   "outputs": [],
   "source": [
    "gongcan_s.crs"
   ]
  },
  {
   "cell_type": "code",
   "execution_count": null,
   "metadata": {
    "ExecuteTime": {
     "end_time": "2020-07-14T14:36:22.418471Z",
     "start_time": "2020-07-14T14:35:05.599716Z"
    },
    "scrolled": false
   },
   "outputs": [],
   "source": [
    "gongcan_s.plot(figsize=(11,11))"
   ]
  },
  {
   "cell_type": "markdown",
   "metadata": {},
   "source": [
    "## 去掉农村覆盖到场景边界内的区域"
   ]
  },
  {
   "cell_type": "code",
   "execution_count": null,
   "metadata": {
    "ExecuteTime": {
     "end_time": "2020-07-15T03:41:19.319021Z",
     "start_time": "2020-07-15T03:41:19.009482Z"
    }
   },
   "outputs": [],
   "source": [
    "#---------------------------规划图层缩小50%的距离---------------------------"
   ]
  },
  {
   "cell_type": "code",
   "execution_count": null,
   "metadata": {
    "ExecuteTime": {
     "end_time": "2020-07-15T03:41:22.481423Z",
     "start_time": "2020-07-15T03:41:19.642562Z"
    }
   },
   "outputs": [],
   "source": [
    "guihua = gpd.read_file('G:/1-规划/图层/全省区域规划图层20200110/全省区域规划图层20200110.TAB',encoding='gbk')"
   ]
  },
  {
   "cell_type": "code",
   "execution_count": null,
   "metadata": {
    "ExecuteTime": {
     "end_time": "2020-07-15T03:41:23.131005Z",
     "start_time": "2020-07-15T03:41:22.821466Z"
    }
   },
   "outputs": [],
   "source": [
    "guihua['区域类型2'] = guihua['区域类型'].replace({'3A景区':'农村','4A景区':'农村','5A景区':'农村','景区':'农村','热点':'农村'})"
   ]
  },
  {
   "cell_type": "code",
   "execution_count": null,
   "metadata": {
    "ExecuteTime": {
     "end_time": "2020-07-15T03:41:23.770086Z",
     "start_time": "2020-07-15T03:41:23.459047Z"
    }
   },
   "outputs": [],
   "source": [
    "guihua_use = guihua.loc[guihua['区域类型2']!='农村']"
   ]
  },
  {
   "cell_type": "code",
   "execution_count": null,
   "metadata": {
    "ExecuteTime": {
     "end_time": "2020-07-15T03:41:24.440171Z",
     "start_time": "2020-07-15T03:41:24.108129Z"
    },
    "scrolled": true
   },
   "outputs": [],
   "source": [
    "guihua_yiban = mytools.gisn.changjing_distance(guihua_use,'区域类型2','区域类型')"
   ]
  },
  {
   "cell_type": "code",
   "execution_count": null,
   "metadata": {
    "ExecuteTime": {
     "end_time": "2020-07-15T03:41:27.830102Z",
     "start_time": "2020-07-15T03:41:27.515562Z"
    },
    "scrolled": true
   },
   "outputs": [],
   "source": [
    "guihua_yiban['distance2'] = 0-guihua_yiban['distance']/2"
   ]
  },
  {
   "cell_type": "code",
   "execution_count": null,
   "metadata": {
    "ExecuteTime": {
     "end_time": "2020-07-15T03:41:45.587357Z",
     "start_time": "2020-07-15T03:41:28.187147Z"
    }
   },
   "outputs": [],
   "source": [
    "guihua_res = mytools.gisn.buffer_df(guihua_yiban,'distance2')"
   ]
  },
  {
   "cell_type": "code",
   "execution_count": null,
   "metadata": {
    "ExecuteTime": {
     "end_time": "2020-07-15T03:41:46.281945Z",
     "start_time": "2020-07-15T03:41:45.966405Z"
    }
   },
   "outputs": [],
   "source": [
    "guihua_res.columns =['city', 'region', 'name', 'type', 'area', 'geometry', 'type2', 'distance','distance2']"
   ]
  },
  {
   "cell_type": "code",
   "execution_count": null,
   "metadata": {
    "ExecuteTime": {
     "end_time": "2020-07-15T03:41:47.677622Z",
     "start_time": "2020-07-15T03:41:46.659993Z"
    }
   },
   "outputs": [],
   "source": [
    "guihua_res.to_file('G:/1-规划/评估/覆盖空洞/20200712第四版本/2-程序数据出-过程/2-规划图层缩小场景1800覆盖半径的一半距离/规划图层剔除农村1800场景一半.shp',encoding='utf-8')"
   ]
  },
  {
   "cell_type": "code",
   "execution_count": null,
   "metadata": {
    "ExecuteTime": {
     "end_time": "2020-07-14T16:46:44.754782Z",
     "start_time": "2020-07-14T16:46:44.188710Z"
    }
   },
   "outputs": [],
   "source": [
    "guihua_res= gpd.read_file('G:/1-规划/评估/覆盖空洞/20200712第四版本/2-程序数据出-过程/2-规划图层缩小场景1800覆盖半径的一半距离/规划图层剔除农村1800场景一半.shp',encoding='utf-8')"
   ]
  },
  {
   "cell_type": "code",
   "execution_count": null,
   "metadata": {
    "ExecuteTime": {
     "end_time": "2020-07-15T03:42:23.436163Z",
     "start_time": "2020-07-15T03:42:22.882593Z"
    },
    "scrolled": false
   },
   "outputs": [],
   "source": [
    "guihua_res.plot(figsize=[11,11])"
   ]
  },
  {
   "cell_type": "code",
   "execution_count": null,
   "metadata": {
    "ExecuteTime": {
     "end_time": "2020-07-14T14:37:59.503299Z",
     "start_time": "2020-07-14T14:37:59.059243Z"
    }
   },
   "outputs": [],
   "source": [
    "#---------------------------农村覆盖区域---------------------------"
   ]
  },
  {
   "cell_type": "code",
   "execution_count": null,
   "metadata": {
    "ExecuteTime": {
     "end_time": "2020-07-15T03:46:15.517633Z",
     "start_time": "2020-07-15T03:46:15.125584Z"
    }
   },
   "outputs": [],
   "source": [
    "gongcan_s_nc = gongcan_s.loc[gongcan_s['区域类型']=='农村']"
   ]
  },
  {
   "cell_type": "code",
   "execution_count": null,
   "metadata": {
    "ExecuteTime": {
     "end_time": "2020-07-15T03:46:19.288612Z",
     "start_time": "2020-07-15T03:46:18.969572Z"
    }
   },
   "outputs": [],
   "source": [
    "gongcan_s_nc['所属地区'] = gongcan_s_nc['所属地区'].fillna('wu')"
   ]
  },
  {
   "cell_type": "code",
   "execution_count": null,
   "metadata": {
    "ExecuteTime": {
     "end_time": "2020-07-15T03:47:17.641522Z",
     "start_time": "2020-07-15T03:46:22.454514Z"
    }
   },
   "outputs": [],
   "source": [
    "#全网农村小区覆盖按照地市合并\n",
    "gongcan_s_nc_city = gongcan_s_nc.dissolve(by = '所属地区')"
   ]
  },
  {
   "cell_type": "code",
   "execution_count": null,
   "metadata": {
    "ExecuteTime": {
     "end_time": "2020-07-15T03:47:20.920439Z",
     "start_time": "2020-07-15T03:47:20.603898Z"
    }
   },
   "outputs": [],
   "source": [
    "#只是留下geo去除索引，索引是地市\n",
    "gongcan_s_nc_city_use = gongcan_s_nc_city[['geometry']].reset_index()"
   ]
  },
  {
   "cell_type": "code",
   "execution_count": null,
   "metadata": {
    "ExecuteTime": {
     "end_time": "2020-07-15T03:47:25.221985Z",
     "start_time": "2020-07-15T03:47:24.881942Z"
    }
   },
   "outputs": [],
   "source": [
    "gongcan_s_nc_city_use.columns=['city','geometry']"
   ]
  },
  {
   "cell_type": "code",
   "execution_count": null,
   "metadata": {
    "ExecuteTime": {
     "end_time": "2020-07-15T03:49:52.608200Z",
     "start_time": "2020-07-15T03:47:28.948458Z"
    }
   },
   "outputs": [],
   "source": [
    "#在全网农村覆盖区域中去掉农村覆盖到其他区域的\n",
    "nongcun = gpd.overlay(gongcan_s_nc_city_use,guihua_res,how='difference')"
   ]
  },
  {
   "cell_type": "code",
   "execution_count": null,
   "metadata": {
    "ExecuteTime": {
     "end_time": "2020-07-15T03:50:09.436837Z",
     "start_time": "2020-07-15T03:49:57.201784Z"
    }
   },
   "outputs": [],
   "source": [
    "#农村区域按照地市合并\n",
    "nongcun_city = nongcun.dissolve(by = 'city')"
   ]
  },
  {
   "cell_type": "code",
   "execution_count": null,
   "metadata": {
    "ExecuteTime": {
     "end_time": "2020-07-15T03:50:15.318084Z",
     "start_time": "2020-07-15T03:50:14.953538Z"
    }
   },
   "outputs": [],
   "source": [
    "nongcun_city =nongcun_city.reset_index()\n",
    "nongcun_city.to_pickle('G:/1-规划/评估/覆盖空洞/20200712第四版本/2-程序数据出-过程/3-小区覆盖区域/农村场景小区覆盖区域.data')"
   ]
  },
  {
   "cell_type": "code",
   "execution_count": null,
   "metadata": {
    "ExecuteTime": {
     "end_time": "2020-07-14T16:48:08.744947Z",
     "start_time": "2020-07-14T16:48:08.304891Z"
    }
   },
   "outputs": [],
   "source": [
    "nongcun_city = pd.read_pickle('G:/1-规划/评估/覆盖空洞/20200712第四版本/2-程序数据出-过程/3-小区覆盖区域/农村场景小区覆盖区域.data')"
   ]
  },
  {
   "cell_type": "code",
   "execution_count": null,
   "metadata": {
    "ExecuteTime": {
     "end_time": "2020-07-15T03:50:22.326974Z",
     "start_time": "2020-07-15T03:50:20.844786Z"
    }
   },
   "outputs": [],
   "source": [
    "nongcun_city.plot(figsize=[11,11])"
   ]
  },
  {
   "cell_type": "markdown",
   "metadata": {},
   "source": [
    "# 2、-----------------求原始覆盖空洞---------------------------"
   ]
  },
  {
   "cell_type": "markdown",
   "metadata": {},
   "source": [
    "### 1-按照区县合并覆盖区域"
   ]
  },
  {
   "cell_type": "code",
   "execution_count": null,
   "metadata": {
    "ExecuteTime": {
     "end_time": "2020-07-15T03:52:29.942179Z",
     "start_time": "2020-07-15T03:52:29.521626Z"
    }
   },
   "outputs": [],
   "source": [
    "gongcan_s_feinc = gongcan_s.loc[gongcan_s['区域类型']!='农村']"
   ]
  },
  {
   "cell_type": "code",
   "execution_count": null,
   "metadata": {
    "ExecuteTime": {
     "end_time": "2020-07-15T03:52:36.617027Z",
     "start_time": "2020-07-15T03:52:36.270983Z"
    }
   },
   "outputs": [],
   "source": [
    "#小区覆盖区域图层只保留两列\n",
    "gongcan_s_feinc = gongcan_s_feinc[['所属地区','geometry']]"
   ]
  },
  {
   "cell_type": "code",
   "execution_count": null,
   "metadata": {
    "ExecuteTime": {
     "end_time": "2020-07-15T03:52:42.564782Z",
     "start_time": "2020-07-15T03:52:42.251242Z"
    }
   },
   "outputs": [],
   "source": [
    "gongcan_s_feinc.columns = ['city','geometry']"
   ]
  },
  {
   "cell_type": "code",
   "execution_count": null,
   "metadata": {
    "ExecuteTime": {
     "end_time": "2020-07-15T03:52:48.554543Z",
     "start_time": "2020-07-15T03:52:48.220500Z"
    }
   },
   "outputs": [],
   "source": [
    "gongcan_s_z = gongcan_s_feinc.append(nongcun_city)"
   ]
  },
  {
   "cell_type": "code",
   "execution_count": null,
   "metadata": {
    "ExecuteTime": {
     "end_time": "2020-07-15T03:54:43.125592Z",
     "start_time": "2020-07-15T03:52:58.561314Z"
    }
   },
   "outputs": [],
   "source": [
    "#小区覆盖区域按照地市合并\n",
    "gongcan_s_z = gongcan_s_z.dissolve(by = 'city')"
   ]
  },
  {
   "cell_type": "code",
   "execution_count": null,
   "metadata": {
    "ExecuteTime": {
     "end_time": "2020-07-15T03:54:50.724056Z",
     "start_time": "2020-07-15T03:54:50.333007Z"
    }
   },
   "outputs": [],
   "source": [
    "gongcan_s_z.to_pickle('G:/1-规划/评估/覆盖空洞/20200712第四版本/2-程序数据出-过程/3-小区覆盖区域/农村和非农村合并全网覆盖图层按照地市合并.data')"
   ]
  },
  {
   "cell_type": "code",
   "execution_count": null,
   "metadata": {
    "ExecuteTime": {
     "end_time": "2020-07-15T03:55:01.839968Z",
     "start_time": "2020-07-15T03:54:58.400531Z"
    }
   },
   "outputs": [],
   "source": [
    "gongcan_s_z.to_file('G:/1-规划/评估/覆盖空洞/20200712第四版本/2-程序数据出-过程/3-小区覆盖区域/农村和非农村合并全网覆盖图层按照地市合并.shp',encoding='utf-8')"
   ]
  },
  {
   "cell_type": "code",
   "execution_count": null,
   "metadata": {
    "ExecuteTime": {
     "end_time": "2020-07-15T03:55:11.392181Z",
     "start_time": "2020-07-15T03:55:08.850858Z"
    }
   },
   "outputs": [],
   "source": [
    "mytools.sound()"
   ]
  },
  {
   "cell_type": "markdown",
   "metadata": {},
   "source": [
    "### 2-求出覆盖空洞原始"
   ]
  },
  {
   "cell_type": "code",
   "execution_count": null,
   "metadata": {
    "ExecuteTime": {
     "end_time": "2020-07-15T03:55:18.891633Z",
     "start_time": "2020-07-15T03:55:18.405071Z"
    }
   },
   "outputs": [],
   "source": [
    "tu = mytools.gisn.maps()"
   ]
  },
  {
   "cell_type": "code",
   "execution_count": null,
   "metadata": {
    "ExecuteTime": {
     "end_time": "2020-07-15T03:57:15.883489Z",
     "start_time": "2020-07-15T03:55:25.969532Z"
    },
    "scrolled": true
   },
   "outputs": [],
   "source": [
    "city_tu_diff = gpd.overlay(tu,gongcan_s_z,how='difference')"
   ]
  },
  {
   "cell_type": "code",
   "execution_count": null,
   "metadata": {
    "ExecuteTime": {
     "end_time": "2020-07-15T03:57:24.818624Z",
     "start_time": "2020-07-15T03:57:24.430575Z"
    }
   },
   "outputs": [],
   "source": [
    "city_tu_diff.to_pickle('G:/1-规划/评估/覆盖空洞/20200712第四版本/2-程序数据出-过程/5-原始空洞/原始空洞.data')"
   ]
  },
  {
   "cell_type": "code",
   "execution_count": null,
   "metadata": {
    "ExecuteTime": {
     "end_time": "2020-07-15T03:57:37.128187Z",
     "start_time": "2020-07-15T03:57:33.297701Z"
    }
   },
   "outputs": [],
   "source": [
    "city_tu_diff.to_file('G:/1-规划/评估/覆盖空洞/20200712第四版本/4-相关图层输出/1原始空洞/原始空洞.shp',encoding='utf-8')"
   ]
  },
  {
   "cell_type": "code",
   "execution_count": null,
   "metadata": {
    "ExecuteTime": {
     "end_time": "2020-07-15T03:57:50.265855Z",
     "start_time": "2020-07-15T03:57:45.507251Z"
    }
   },
   "outputs": [],
   "source": [
    "city_tu_diff.plot(figsize=(11,11),color='gray')"
   ]
  },
  {
   "cell_type": "markdown",
   "metadata": {},
   "source": [
    "# 3、-------------剔除水系-------------"
   ]
  },
  {
   "cell_type": "markdown",
   "metadata": {},
   "source": [
    "### 1-图中去湖泊和水系"
   ]
  },
  {
   "cell_type": "code",
   "execution_count": null,
   "metadata": {
    "ExecuteTime": {
     "end_time": "2020-07-15T03:58:00.271126Z",
     "start_time": "2020-07-15T03:57:58.797439Z"
    },
    "scrolled": true
   },
   "outputs": [],
   "source": [
    "hb_sx_city=pd.read_pickle('G:/1-规划/图层/水域/水域按照地市划分.data')"
   ]
  },
  {
   "cell_type": "code",
   "execution_count": null,
   "metadata": {
    "ExecuteTime": {
     "end_time": "2020-07-15T03:59:50.696148Z",
     "start_time": "2020-07-15T03:59:50.345603Z"
    }
   },
   "outputs": [],
   "source": [
    "hb_sx_city.head(1)"
   ]
  },
  {
   "cell_type": "code",
   "execution_count": null,
   "metadata": {
    "ExecuteTime": {
     "end_time": "2020-07-15T04:33:13.066917Z",
     "start_time": "2020-07-15T04:00:04.697926Z"
    }
   },
   "outputs": [],
   "source": [
    "hb_sx_city1 = hb_sx_city.dissolve(by = 'city')"
   ]
  },
  {
   "cell_type": "code",
   "execution_count": null,
   "metadata": {
    "ExecuteTime": {
     "end_time": "2020-07-15T04:39:02.451783Z",
     "start_time": "2020-07-15T04:38:23.236303Z"
    }
   },
   "outputs": [],
   "source": [
    "hb_sx_city1"
   ]
  },
  {
   "cell_type": "code",
   "execution_count": null,
   "metadata": {
    "ExecuteTime": {
     "end_time": "2020-07-15T04:34:37.188599Z",
     "start_time": "2020-07-15T04:34:35.381869Z"
    }
   },
   "outputs": [],
   "source": [
    "hb_sx_city1.to_pickle('G:/1-规划/图层/水域/水域按照地市合并.data')"
   ]
  },
  {
   "cell_type": "code",
   "execution_count": null,
   "metadata": {
    "ExecuteTime": {
     "end_time": "2020-07-15T04:33:43.305757Z",
     "start_time": "2020-07-15T04:33:40.879449Z"
    }
   },
   "outputs": [],
   "source": [
    "mytools.sound()"
   ]
  },
  {
   "cell_type": "code",
   "execution_count": null,
   "metadata": {
    "ExecuteTime": {
     "end_time": "2020-07-15T05:56:51.973737Z",
     "start_time": "2020-07-15T04:39:32.560606Z"
    }
   },
   "outputs": [],
   "source": [
    "kongdong = gpd.overlay(city_tu_diff,hb_sx_city1,how='difference')"
   ]
  },
  {
   "cell_type": "code",
   "execution_count": null,
   "metadata": {
    "ExecuteTime": {
     "end_time": "2020-07-15T05:56:51.976737Z",
     "start_time": "2020-07-15T04:39:34.894Z"
    }
   },
   "outputs": [],
   "source": [
    "mytools.sound()"
   ]
  },
  {
   "cell_type": "code",
   "execution_count": null,
   "metadata": {
    "ExecuteTime": {
     "end_time": "2020-07-14T15:15:33.718548Z",
     "start_time": "2020-07-14T15:15:33.080967Z"
    }
   },
   "outputs": [],
   "source": [
    "kongdong.to_pickle('G:/1-规划/评估/覆盖空洞/20200712第四版本/2-程序数据出-过程/6-剔除水系后空洞/剔除水系后的空洞.data')"
   ]
  },
  {
   "cell_type": "code",
   "execution_count": null,
   "metadata": {
    "ExecuteTime": {
     "end_time": "2020-07-14T15:15:53.525563Z",
     "start_time": "2020-07-14T15:15:44.965977Z"
    }
   },
   "outputs": [],
   "source": [
    "kongdong.to_file('G:/1-规划/评估/覆盖空洞/20200712第四版本/2-程序数据出-过程/6-剔除水系后空洞/剔除水系后的空洞.shp',encoding='utf-8')"
   ]
  },
  {
   "cell_type": "code",
   "execution_count": null,
   "metadata": {
    "ExecuteTime": {
     "end_time": "2020-07-14T15:16:10.125171Z",
     "start_time": "2020-07-14T15:16:04.876005Z"
    }
   },
   "outputs": [],
   "source": [
    "kongdong.plot(figsize=(11,11),color='coral')"
   ]
  },
  {
   "cell_type": "code",
   "execution_count": null,
   "metadata": {
    "ExecuteTime": {
     "end_time": "2020-07-14T15:16:23.733899Z",
     "start_time": "2020-07-14T15:16:21.221580Z"
    }
   },
   "outputs": [],
   "source": [
    "mytools.sound()"
   ]
  },
  {
   "cell_type": "markdown",
   "metadata": {},
   "source": [
    "# 4、-------------空洞有效数据整理-------------"
   ]
  },
  {
   "cell_type": "markdown",
   "metadata": {},
   "source": [
    "### 1-拆分成多个空洞-打标场景 划分大中小微"
   ]
  },
  {
   "cell_type": "code",
   "execution_count": null,
   "metadata": {
    "ExecuteTime": {
     "end_time": "2020-07-14T15:16:36.510022Z",
     "start_time": "2020-07-14T15:16:35.651913Z"
    }
   },
   "outputs": [],
   "source": [
    "kongdong.head(1)"
   ]
  },
  {
   "cell_type": "code",
   "execution_count": null,
   "metadata": {
    "ExecuteTime": {
     "end_time": "2020-07-14T15:16:48.095993Z",
     "start_time": "2020-07-14T15:16:47.673439Z"
    }
   },
   "outputs": [],
   "source": [
    "kongdong['type'] =  kongdong.type"
   ]
  },
  {
   "cell_type": "code",
   "execution_count": null,
   "metadata": {
    "ExecuteTime": {
     "end_time": "2020-07-14T15:16:59.697466Z",
     "start_time": "2020-07-14T15:16:59.309917Z"
    }
   },
   "outputs": [],
   "source": [
    "kongdong.groupby('type').count()"
   ]
  },
  {
   "cell_type": "code",
   "execution_count": null,
   "metadata": {
    "ExecuteTime": {
     "end_time": "2020-07-14T15:17:11.445458Z",
     "start_time": "2020-07-14T15:17:10.889387Z"
    }
   },
   "outputs": [],
   "source": [
    "kongd_use = kongdong.loc[kongdong['type']=='Polygon'].append(kongdong.loc[kongdong['type']=='MultiPolygon'].explode())"
   ]
  },
  {
   "cell_type": "code",
   "execution_count": null,
   "metadata": {
    "ExecuteTime": {
     "end_time": "2020-07-14T15:17:22.969421Z",
     "start_time": "2020-07-14T15:17:22.573371Z"
    }
   },
   "outputs": [],
   "source": [
    "kongd_use.shape"
   ]
  },
  {
   "cell_type": "code",
   "execution_count": null,
   "metadata": {
    "ExecuteTime": {
     "end_time": "2020-07-14T15:17:41.665295Z",
     "start_time": "2020-07-14T15:17:34.340365Z"
    }
   },
   "outputs": [],
   "source": [
    "kongd_mianji = mytools.gisn.add_area(kongd_use)"
   ]
  },
  {
   "cell_type": "code",
   "execution_count": null,
   "metadata": {
    "ExecuteTime": {
     "end_time": "2020-07-14T15:17:53.708325Z",
     "start_time": "2020-07-14T15:17:53.254767Z"
    }
   },
   "outputs": [],
   "source": [
    "kongd_mianji['type'] =  kongd_mianji.type"
   ]
  },
  {
   "cell_type": "code",
   "execution_count": null,
   "metadata": {
    "ExecuteTime": {
     "end_time": "2020-07-14T15:18:05.958880Z",
     "start_time": "2020-07-14T15:18:05.552829Z"
    }
   },
   "outputs": [],
   "source": [
    "kongd_mianji =kongd_mianji.reset_index(drop=True)"
   ]
  },
  {
   "cell_type": "code",
   "execution_count": null,
   "metadata": {
    "ExecuteTime": {
     "end_time": "2020-07-14T15:18:18.237940Z",
     "start_time": "2020-07-14T15:18:17.847890Z"
    }
   },
   "outputs": [],
   "source": [
    "# 打标场景"
   ]
  },
  {
   "cell_type": "code",
   "execution_count": null,
   "metadata": {
    "ExecuteTime": {
     "end_time": "2020-07-14T15:18:36.573268Z",
     "start_time": "2020-07-14T15:18:29.728399Z"
    }
   },
   "outputs": [],
   "source": [
    "kongd_mianji[['lon','lat']] = kongd_mianji.apply(lambda x:pd.Series(x['geometry'].centroid.coords[:][0]),axis=1)#"
   ]
  },
  {
   "cell_type": "code",
   "execution_count": null,
   "metadata": {
    "ExecuteTime": {
     "end_time": "2020-07-14T15:18:50.682059Z",
     "start_time": "2020-07-14T15:18:48.047725Z"
    }
   },
   "outputs": [],
   "source": [
    "result = mytools.gisn.points_coverage_merge(kongd_mianji,'lon','lat')"
   ]
  },
  {
   "cell_type": "code",
   "execution_count": null,
   "metadata": {
    "ExecuteTime": {
     "end_time": "2020-07-14T15:19:02.462555Z",
     "start_time": "2020-07-14T15:19:02.063005Z"
    }
   },
   "outputs": [],
   "source": [
    "result.shape"
   ]
  },
  {
   "cell_type": "code",
   "execution_count": null,
   "metadata": {
    "ExecuteTime": {
     "end_time": "2020-07-14T15:19:14.950641Z",
     "start_time": "2020-07-14T15:19:14.514586Z"
    }
   },
   "outputs": [],
   "source": [
    "#添加id编号\n",
    "result_id = result.reset_index(drop=True)\n",
    "result['id'] = [ 'kd_{}'.format(str(name)) for name in result_id.index+1]"
   ]
  },
  {
   "cell_type": "code",
   "execution_count": null,
   "metadata": {
    "ExecuteTime": {
     "end_time": "2020-07-14T15:19:26.630624Z",
     "start_time": "2020-07-14T15:19:26.218572Z"
    }
   },
   "outputs": [],
   "source": [
    "result['制式'] = 'FDD1800'\n",
    "result.loc[result['区域类型']=='农村','制式']='FDD900'"
   ]
  },
  {
   "cell_type": "code",
   "execution_count": null,
   "metadata": {
    "ExecuteTime": {
     "end_time": "2020-07-14T15:19:38.317108Z",
     "start_time": "2020-07-14T15:19:37.896055Z"
    }
   },
   "outputs": [],
   "source": [
    "result = mytools.gisn.changjing_distance(result,'区域类型','制式')"
   ]
  },
  {
   "cell_type": "code",
   "execution_count": null,
   "metadata": {
    "ExecuteTime": {
     "end_time": "2020-07-14T15:19:50.060600Z",
     "start_time": "2020-07-14T15:19:49.667550Z"
    }
   },
   "outputs": [],
   "source": [
    "result['标准面积'] = np.pi* result['distance']* result['distance']\n",
    "result['空洞面积比例'] = result['面积']/result['标准面积']"
   ]
  },
  {
   "cell_type": "code",
   "execution_count": null,
   "metadata": {
    "ExecuteTime": {
     "end_time": "2020-07-14T15:20:01.739083Z",
     "start_time": "2020-07-14T15:20:01.340532Z"
    }
   },
   "outputs": [],
   "source": [
    "def fuck_data(x):\n",
    "    if x['空洞面积比例']>=1:\n",
    "        return '大'\n",
    "    elif x['空洞面积比例']>=1/3:\n",
    "        return '中'\n",
    "    elif x['空洞面积比例']>=1/6:\n",
    "        return '小'\n",
    "    else:\n",
    "        return '微'"
   ]
  },
  {
   "cell_type": "code",
   "execution_count": null,
   "metadata": {
    "ExecuteTime": {
     "end_time": "2020-07-14T15:20:14.152659Z",
     "start_time": "2020-07-14T15:20:13.071022Z"
    }
   },
   "outputs": [],
   "source": [
    "result['空洞级别'] = result.apply(fuck_data,axis=1)"
   ]
  },
  {
   "cell_type": "code",
   "execution_count": null,
   "metadata": {
    "ExecuteTime": {
     "end_time": "2020-07-14T15:20:25.851144Z",
     "start_time": "2020-07-14T15:20:25.454594Z"
    }
   },
   "outputs": [],
   "source": [
    "result.head(1)"
   ]
  },
  {
   "cell_type": "code",
   "execution_count": null,
   "metadata": {
    "ExecuteTime": {
     "end_time": "2020-07-14T15:44:02.412025Z",
     "start_time": "2020-07-14T15:44:01.213373Z"
    }
   },
   "outputs": [],
   "source": [
    "result.to_pickle('G:/1-规划/评估/覆盖空洞/20200712第四版本/3-拆分后的空洞/覆盖空19481个添加场景区分大中小微.data')"
   ]
  },
  {
   "cell_type": "code",
   "execution_count": null,
   "metadata": {
    "ExecuteTime": {
     "end_time": "2020-07-14T15:44:26.369567Z",
     "start_time": "2020-07-14T15:44:18.362050Z"
    }
   },
   "outputs": [],
   "source": [
    "result.reindex(columns=['id','city','面积','lon','lat', '区域类型','制式','distance','标准面积','空洞面积比例','空洞级别']).to_excel(\n",
    "    'G:/1-规划/评估/覆盖空洞/20200712第四版本/3-拆分后的空洞/覆盖空19481个添加场景区分大中小微.xlsx',index=False)"
   ]
  },
  {
   "cell_type": "code",
   "execution_count": null,
   "metadata": {
    "ExecuteTime": {
     "end_time": "2020-07-14T15:21:07.656453Z",
     "start_time": "2020-07-14T15:21:07.268404Z"
    }
   },
   "outputs": [],
   "source": [
    "result.columns = ['city', 'type', 'geometry', 'area', 'lon', 'lat', 'regiontype', 'id', 'frequency ',\n",
    "       'distance', 'scene_area', 'kd_area_specific', 'kd_class']"
   ]
  },
  {
   "cell_type": "code",
   "execution_count": null,
   "metadata": {
    "ExecuteTime": {
     "end_time": "2020-07-14T15:21:27.362955Z",
     "start_time": "2020-07-14T15:21:18.893380Z"
    }
   },
   "outputs": [],
   "source": [
    "result.to_file('G:/1-规划/评估/覆盖空洞/20200712第四版本/3-拆分后的空洞/覆盖空19481个添加场景区分大中小微.shp',encoding='utf-8')"
   ]
  },
  {
   "cell_type": "code",
   "execution_count": null,
   "metadata": {
    "ExecuteTime": {
     "end_time": "2020-07-14T15:22:21.370313Z",
     "start_time": "2020-07-14T15:22:20.949760Z"
    }
   },
   "outputs": [],
   "source": [
    "result.groupby('kd_class').count()"
   ]
  }
 ],
 "metadata": {
  "kernelspec": {
   "display_name": "Python 3",
   "language": "python",
   "name": "python3"
  },
  "language_info": {
   "codemirror_mode": {
    "name": "ipython",
    "version": 3
   },
   "file_extension": ".py",
   "mimetype": "text/x-python",
   "name": "python",
   "nbconvert_exporter": "python",
   "pygments_lexer": "ipython3",
   "version": "3.7.4"
  },
  "toc": {
   "base_numbering": 1,
   "nav_menu": {},
   "number_sections": true,
   "sideBar": true,
   "skip_h1_title": false,
   "title_cell": "Table of Contents",
   "title_sidebar": "Contents",
   "toc_cell": false,
   "toc_position": {
    "height": "calc(100% - 180px)",
    "left": "10px",
    "top": "150px",
    "width": "320px"
   },
   "toc_section_display": true,
   "toc_window_display": false
  },
  "varInspector": {
   "cols": {
    "lenName": 16,
    "lenType": 16,
    "lenVar": 40
   },
   "kernels_config": {
    "python": {
     "delete_cmd_postfix": "",
     "delete_cmd_prefix": "del ",
     "library": "var_list.py",
     "varRefreshCmd": "print(var_dic_list())"
    },
    "r": {
     "delete_cmd_postfix": ") ",
     "delete_cmd_prefix": "rm(",
     "library": "var_list.r",
     "varRefreshCmd": "cat(var_dic_list()) "
    }
   },
   "position": {
    "height": "301px",
    "left": "1236px",
    "right": "20px",
    "top": "20px",
    "width": "350px"
   },
   "types_to_exclude": [
    "module",
    "function",
    "builtin_function_or_method",
    "instance",
    "_Feature"
   ],
   "window_display": false
  }
 },
 "nbformat": 4,
 "nbformat_minor": 2
}
