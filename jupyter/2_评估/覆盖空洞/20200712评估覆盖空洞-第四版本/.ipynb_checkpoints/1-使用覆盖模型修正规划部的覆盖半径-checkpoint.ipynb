{
 "cells": [
  {
   "cell_type": "markdown",
   "metadata": {},
   "source": [
    "# -----------------------第四版本-----------------------\n",
    "###   使用两种算法进行修正标准覆盖半径\n",
    "###   1-站高-按照覆盖传播模型进行修正\n",
    "####   第一次修正后距离 = 实际站高覆盖距离/30米站高的覆盖距离*分场景和制式的标准覆盖距离\n",
    "###   2-周边楼宇高度-按照周边建筑高度修正\n",
    "####   覆盖区域建筑物平均高度=(∑（50%覆盖半径内建筑占地面积*建筑高度）)/(∑（50%覆盖半径内建筑占地面积）)\n",
    "####   高度差比值 = 高度差 / 基站高度 按照区间进行修正\n",
    "## 去掉室分和高铁，添加微站逻辑站点"
   ]
  },
  {
   "cell_type": "code",
   "execution_count": 1,
   "metadata": {
    "ExecuteTime": {
     "end_time": "2020-07-14T16:40:23.730898Z",
     "start_time": "2020-07-14T16:40:21.987676Z"
    }
   },
   "outputs": [],
   "source": [
    "import numpy as np\n",
    "import pandas as pd\n",
    "import mytools\n",
    "import geopandas as gpd"
   ]
  },
  {
   "cell_type": "code",
   "execution_count": 2,
   "metadata": {
    "ExecuteTime": {
     "end_time": "2020-07-14T16:40:31.515886Z",
     "start_time": "2020-07-14T16:40:27.048819Z"
    }
   },
   "outputs": [
    {
     "name": "stdout",
     "output_type": "stream",
     "text": [
      "设置变量通用名\n"
     ]
    }
   ],
   "source": [
    "#导入工参数据\n",
    "gongcan = pd.read_csv(open('G:/1-规划/评估/覆盖空洞/20200712第四版本/1-基础数据/ltejizhan20200616&微站_合并.csv',encoding='gbk'),usecols=[\n",
    "    '小区CGI(*)','所属地区','小区中文名','RRU经度', 'RRU纬度','天线挂高','工作频段', '方位角','归属区县','厂家名称' ])\n",
    "#设置变量通用名\n",
    "print('设置变量通用名')\n",
    "id = '小区CGI(*)'\n",
    "lon = 'RRU经度'\n",
    "lat = 'RRU纬度'\n",
    "zhishi = '工作频段'\n",
    "fw = '方位角'\n",
    "\n",
    "gongcan = gongcan.loc[(gongcan['RRU经度']>108)&\n",
    "            (gongcan['RRU经度']<117)&\n",
    "            (gongcan['RRU纬度']>28)&\n",
    "            (gongcan['RRU纬度']<34)&\n",
    "           (gongcan['方位角'].notnull())]"
   ]
  },
  {
   "cell_type": "code",
   "execution_count": 6,
   "metadata": {
    "ExecuteTime": {
     "end_time": "2020-07-14T16:41:51.149499Z",
     "start_time": "2020-07-14T16:41:50.659936Z"
    }
   },
   "outputs": [],
   "source": [
    "#只要宏站\n",
    "gongcan['小区中文名'] = gongcan['小区中文名'].fillna('无')\n",
    "gongcan = gongcan.loc[~gongcan['小区中文名'].str.contains('W-')]\n",
    "gongcan = gongcan.loc[~gongcan['小区中文名'].str.contains('R')]\n",
    "# gongcan = gongcan.loc[~gongcan['小区中文名'].str.contains('M-')]"
   ]
  },
  {
   "cell_type": "code",
   "execution_count": 12,
   "metadata": {
    "ExecuteTime": {
     "end_time": "2020-07-14T16:44:46.894815Z",
     "start_time": "2020-07-14T16:44:46.890815Z"
    }
   },
   "outputs": [
    {
     "data": {
      "text/plain": [
       "3797"
      ]
     },
     "execution_count": 12,
     "metadata": {},
     "output_type": "execute_result"
    }
   ],
   "source": [
    "3334+463"
   ]
  },
  {
   "cell_type": "code",
   "execution_count": 11,
   "metadata": {
    "ExecuteTime": {
     "end_time": "2020-07-14T16:44:38.573259Z",
     "start_time": "2020-07-14T16:44:38.568258Z"
    }
   },
   "outputs": [
    {
     "data": {
      "text/plain": [
       "463"
      ]
     },
     "execution_count": 11,
     "metadata": {},
     "output_type": "execute_result"
    }
   ],
   "source": [
    "369741+6265-40831-3313-3334-328065"
   ]
  },
  {
   "cell_type": "code",
   "execution_count": null,
   "metadata": {},
   "outputs": [],
   "source": []
  },
  {
   "cell_type": "code",
   "execution_count": 5,
   "metadata": {
    "ExecuteTime": {
     "end_time": "2020-07-14T16:41:35.521514Z",
     "start_time": "2020-07-14T16:41:35.244979Z"
    }
   },
   "outputs": [
    {
     "data": {
      "text/plain": [
       "(18098, 10)"
      ]
     },
     "execution_count": 5,
     "metadata": {},
     "output_type": "execute_result"
    }
   ],
   "source": [
    "gongcan['小区中文名'] = gongcan['小区中文名'].fillna('无')\n",
    "gongcan.loc[gongcan['小区中文名'].str.contains('M-')].shape"
   ]
  },
  {
   "cell_type": "code",
   "execution_count": null,
   "metadata": {
    "ExecuteTime": {
     "end_time": "2020-07-14T13:59:10.319030Z",
     "start_time": "2020-07-14T13:59:10.309529Z"
    }
   },
   "outputs": [],
   "source": [
    "gongcan.shape"
   ]
  },
  {
   "cell_type": "code",
   "execution_count": null,
   "metadata": {
    "ExecuteTime": {
     "end_time": "2020-07-14T13:59:39.789273Z",
     "start_time": "2020-07-14T13:59:10.365536Z"
    }
   },
   "outputs": [],
   "source": [
    "#打标场景\n",
    "gongcan = mytools.gisn.points_coverage_merge(gongcan,lon,lat)\n",
    "print('添加覆盖距离')\n",
    "gongcan_loc_juli = mytools.gisn.changjing_distance(gongcan,'区域类型',zhishi)"
   ]
  },
  {
   "cell_type": "code",
   "execution_count": null,
   "metadata": {
    "ExecuteTime": {
     "end_time": "2020-07-14T13:59:39.950293Z",
     "start_time": "2020-07-14T13:59:39.923290Z"
    }
   },
   "outputs": [],
   "source": [
    "gongcan_loc_juli.head(1)"
   ]
  },
  {
   "cell_type": "markdown",
   "metadata": {},
   "source": [
    "## 按照覆盖模型修复"
   ]
  },
  {
   "cell_type": "code",
   "execution_count": null,
   "metadata": {
    "ExecuteTime": {
     "end_time": "2020-07-14T13:59:40.268834Z",
     "start_time": "2020-07-14T13:59:40.107813Z"
    }
   },
   "outputs": [],
   "source": [
    "gongcan_loc_juli['工作频段'] = gongcan_loc_juli['工作频段'].apply(lambda x: 900 if x=='FDD900' else 1800)"
   ]
  },
  {
   "cell_type": "code",
   "execution_count": null,
   "metadata": {
    "ExecuteTime": {
     "end_time": "2020-07-14T13:59:40.369346Z",
     "start_time": "2020-07-14T13:59:40.350344Z"
    },
    "scrolled": false
   },
   "outputs": [],
   "source": [
    "gd,band= map(np.log10, (gongcan_loc_juli['天线挂高'],gongcan_loc_juli['工作频段']))"
   ]
  },
  {
   "cell_type": "code",
   "execution_count": null,
   "metadata": {
    "ExecuteTime": {
     "end_time": "2020-07-14T13:59:40.548869Z",
     "start_time": "2020-07-14T13:59:40.469859Z"
    }
   },
   "outputs": [],
   "source": [
    "gongcan_loc_juli['覆盖模型距离'] = np.power(10,\n",
    "                                      (148 - (46.3+33.9*band-13.82*gd-(-3.81))- 3)/(44.9-6.55*gd))*1000"
   ]
  },
  {
   "cell_type": "code",
   "execution_count": null,
   "metadata": {
    "ExecuteTime": {
     "end_time": "2020-07-14T13:59:40.659883Z",
     "start_time": "2020-07-14T13:59:40.639881Z"
    }
   },
   "outputs": [],
   "source": [
    "gongcan_loc_juli['30米覆盖模型距离'] = np.power(10,\n",
    "                                      (148 - (46.3+33.9*band-13.82*np.log10(30)-(-3.81))- 3)/(44.9-6.55*np.log10(30)))*1000"
   ]
  },
  {
   "cell_type": "code",
   "execution_count": null,
   "metadata": {
    "ExecuteTime": {
     "end_time": "2020-07-14T13:59:40.770897Z",
     "start_time": "2020-07-14T13:59:40.760896Z"
    }
   },
   "outputs": [],
   "source": [
    "gongcan_loc_juli['使用覆盖半径'] = gongcan_loc_juli['覆盖模型距离'] /gongcan_loc_juli['30米覆盖模型距离']*gongcan_loc_juli['distance']"
   ]
  },
  {
   "cell_type": "code",
   "execution_count": null,
   "metadata": {
    "ExecuteTime": {
     "end_time": "2020-07-14T13:59:40.888912Z",
     "start_time": "2020-07-14T13:59:40.871410Z"
    }
   },
   "outputs": [],
   "source": [
    "def fuck(x):\n",
    "    if x['区域类型']=='主城区':\n",
    "        if x['工作频段']==900:\n",
    "            if x['使用覆盖半径']<200:\n",
    "                return 200\n",
    "            elif x['使用覆盖半径']>400:\n",
    "                return 400\n",
    "            else:\n",
    "                return x['使用覆盖半径']\n",
    "        else:\n",
    "            if x['使用覆盖半径']<150:\n",
    "                return 150\n",
    "            elif x['使用覆盖半径']>350:\n",
    "                return 350\n",
    "            else:\n",
    "                return x['使用覆盖半径']\n",
    "    elif  x['区域类型']=='县城':\n",
    "        if x['工作频段']==900:\n",
    "            if x['使用覆盖半径']<300:\n",
    "                return 300\n",
    "            elif x['使用覆盖半径']>430:\n",
    "                return 430\n",
    "            else:\n",
    "                return x['使用覆盖半径']\n",
    "        else:\n",
    "            if x['使用覆盖半径']<250:\n",
    "                return 250\n",
    "            elif x['使用覆盖半径']>400:\n",
    "                return 400\n",
    "            else:\n",
    "                return x['使用覆盖半径']\n",
    "    elif  x['区域类型']=='一般城区':\n",
    "        if x['工作频段']==900:\n",
    "            if x['使用覆盖半径']<400:\n",
    "                return 400\n",
    "            elif x['使用覆盖半径']>1200:\n",
    "                return 1200\n",
    "            else:\n",
    "                return x['使用覆盖半径']\n",
    "        else:\n",
    "            if x['使用覆盖半径']<350:\n",
    "                return 350\n",
    "            elif x['使用覆盖半径']>800:\n",
    "                return 800\n",
    "            else:\n",
    "                return x['使用覆盖半径']\n",
    "    elif  x['区域类型']=='乡镇':\n",
    "        if x['工作频段']==900:\n",
    "            if x['使用覆盖半径']<430:\n",
    "                return 430\n",
    "            elif x['使用覆盖半径']>2200:\n",
    "                return 2200\n",
    "            else:\n",
    "                return x['使用覆盖半径']\n",
    "        else:\n",
    "            if x['使用覆盖半径']<400:\n",
    "                return 400\n",
    "            elif x['使用覆盖半径']>1000:\n",
    "                return 1000\n",
    "            else:\n",
    "                return x['使用覆盖半径']\n",
    "    elif  x['区域类型']=='农村':\n",
    "        if x['工作频段']==900:\n",
    "            if x['使用覆盖半径']<1200:\n",
    "                return 1200\n",
    "            elif x['使用覆盖半径']>2500:\n",
    "                return 2500\n",
    "            else:\n",
    "                return x['使用覆盖半径']\n",
    "        else:\n",
    "            if x['使用覆盖半径']<800:\n",
    "                return 800\n",
    "            elif x['使用覆盖半径']>1500:\n",
    "                return 1500\n",
    "            else:\n",
    "                return x['使用覆盖半径']\n",
    "    else:\n",
    "        return 0"
   ]
  },
  {
   "cell_type": "code",
   "execution_count": null,
   "metadata": {
    "ExecuteTime": {
     "end_time": "2020-07-14T14:00:08.762452Z",
     "start_time": "2020-07-14T13:59:40.984424Z"
    },
    "scrolled": true
   },
   "outputs": [],
   "source": [
    "gongcan_loc_juli['distance_use'] = gongcan_loc_juli.apply(fuck,axis=1)"
   ]
  },
  {
   "cell_type": "code",
   "execution_count": null,
   "metadata": {
    "ExecuteTime": {
     "end_time": "2020-07-14T14:00:16.568443Z",
     "start_time": "2020-07-14T14:00:08.874466Z"
    }
   },
   "outputs": [],
   "source": [
    "gongcan_loc_juli.to_csv('G:/1-规划/评估/覆盖空洞/20200712第四版本/2-程序数据出-过程/1-修正半径后使用的数据/1_修正半径_1覆盖模型修正.csv',encoding='gbk')"
   ]
  },
  {
   "cell_type": "markdown",
   "metadata": {},
   "source": [
    "## 按照周边建筑高度修复"
   ]
  },
  {
   "cell_type": "code",
   "execution_count": null,
   "metadata": {
    "ExecuteTime": {
     "end_time": "2020-07-14T14:00:16.692459Z",
     "start_time": "2020-07-14T14:00:16.674957Z"
    }
   },
   "outputs": [],
   "source": [
    "gongcan_loc_juli.head(1)"
   ]
  },
  {
   "cell_type": "code",
   "execution_count": null,
   "metadata": {
    "ExecuteTime": {
     "end_time": "2020-07-14T14:00:16.800473Z",
     "start_time": "2020-07-14T14:00:16.791971Z"
    }
   },
   "outputs": [],
   "source": [
    "gongcan_loc_juli['distance_yb'] = gongcan_loc_juli['distance']/2"
   ]
  },
  {
   "cell_type": "code",
   "execution_count": null,
   "metadata": {
    "ExecuteTime": {
     "end_time": "2020-07-14T14:07:04.197705Z",
     "start_time": "2020-07-14T14:00:16.917487Z"
    }
   },
   "outputs": [],
   "source": [
    "gongcan_sectors = mytools.gisn.add_sectors_df(gongcan_loc_juli,coords=['RRU经度', 'RRU纬度', 'd_height', '方位角', 'distance_yb'],\n",
    "    has_z=False,sec_col='geometry',shape_dict={'beam': 120, 'per_degree': 10})"
   ]
  },
  {
   "cell_type": "code",
   "execution_count": null,
   "metadata": {
    "ExecuteTime": {
     "end_time": "2020-07-14T14:07:10.121458Z",
     "start_time": "2020-07-14T14:07:07.957683Z"
    }
   },
   "outputs": [],
   "source": [
    "f = mytools.othern.file_name_paths('G:/1-规划/图层/湖北建筑/湖北建筑/湖北建筑/',find='tab')"
   ]
  },
  {
   "cell_type": "code",
   "execution_count": null,
   "metadata": {
    "ExecuteTime": {
     "end_time": "2020-07-14T14:24:29.837985Z",
     "start_time": "2020-07-14T14:07:13.766420Z"
    },
    "scrolled": true
   },
   "outputs": [],
   "source": [
    "sjoin_data = gpd.GeoDataFrame()\n",
    "for name in f:\n",
    "    tuceng_t = gpd.read_file(name,encoding = 'gbk')\n",
    "    tuceng_t = tuceng_t.to_crs({'init': 'epsg:4326'})\n",
    "    linshi_t = gpd.sjoin(gongcan_sectors,tuceng_t)\n",
    "    linshi_t = linshi_t[[ '小区CGI(*)','建筑物高度','SHAPE_Area']]\n",
    "    sjoin_data = sjoin_data.append(linshi_t)\n",
    "    print(name,'ok')"
   ]
  },
  {
   "cell_type": "code",
   "execution_count": null,
   "metadata": {
    "ExecuteTime": {
     "end_time": "2020-07-14T14:24:37.866504Z",
     "start_time": "2020-07-14T14:24:37.823999Z"
    }
   },
   "outputs": [],
   "source": [
    "sjoin_data['volume'] = sjoin_data['建筑物高度'] * sjoin_data['SHAPE_Area']"
   ]
  },
  {
   "cell_type": "code",
   "execution_count": null,
   "metadata": {
    "ExecuteTime": {
     "end_time": "2020-07-14T14:24:46.579611Z",
     "start_time": "2020-07-14T14:24:45.626990Z"
    }
   },
   "outputs": [],
   "source": [
    "sjoin_data_volume_h = sjoin_data.groupby('小区CGI(*)').agg({'volume':'sum','SHAPE_Area':'sum'})"
   ]
  },
  {
   "cell_type": "code",
   "execution_count": null,
   "metadata": {
    "ExecuteTime": {
     "end_time": "2020-07-14T14:24:54.394103Z",
     "start_time": "2020-07-14T14:24:54.384102Z"
    }
   },
   "outputs": [],
   "source": [
    "sjoin_data_volume_h['h_use'] = sjoin_data_volume_h['volume'] / sjoin_data_volume_h['SHAPE_Area']"
   ]
  },
  {
   "cell_type": "code",
   "execution_count": null,
   "metadata": {
    "ExecuteTime": {
     "end_time": "2020-07-14T14:25:02.591644Z",
     "start_time": "2020-07-14T14:25:02.578142Z"
    }
   },
   "outputs": [],
   "source": [
    "sjoin_data_linshi = sjoin_data_volume_h.reset_index()"
   ]
  },
  {
   "cell_type": "code",
   "execution_count": null,
   "metadata": {
    "ExecuteTime": {
     "end_time": "2020-07-14T14:25:11.117227Z",
     "start_time": "2020-07-14T14:25:10.497648Z"
    }
   },
   "outputs": [],
   "source": [
    "gongcan_zhangao = gongcan_loc_juli.merge(sjoin_data_linshi[['小区CGI(*)','h_use']],how='left',on='小区CGI(*)')"
   ]
  },
  {
   "cell_type": "code",
   "execution_count": null,
   "metadata": {
    "ExecuteTime": {
     "end_time": "2020-07-14T14:25:19.011229Z",
     "start_time": "2020-07-14T14:25:18.999728Z"
    }
   },
   "outputs": [],
   "source": [
    "gongcan_zhangao['高度建筑比'] = (gongcan_zhangao['天线挂高']-gongcan_zhangao['h_use'])/gongcan_zhangao['天线挂高']"
   ]
  },
  {
   "cell_type": "code",
   "execution_count": null,
   "metadata": {
    "ExecuteTime": {
     "end_time": "2020-07-14T14:25:26.973740Z",
     "start_time": "2020-07-14T14:25:26.966239Z"
    }
   },
   "outputs": [],
   "source": [
    "def fuck2(x):\n",
    "    if (pd.isna(x['distance_use'])) | (x['distance_use']==0 ):\n",
    "        return x['distance']\n",
    "    elif pd.isna(x['高度建筑比']):\n",
    "        return x['distance_use']\n",
    "    elif x['高度建筑比']>=0.4:\n",
    "        return x['distance_use']*1.1\n",
    "    elif x['高度建筑比']>=0.2 and x['高度建筑比']<0.4:\n",
    "        return x['distance_use']\n",
    "    elif x['高度建筑比']>=0 and x['高度建筑比']<0.2:\n",
    "        return x['distance_use']*0.8\n",
    "    elif x['高度建筑比']<0:\n",
    "        return x['distance_use']*0.5\n",
    "    else:\n",
    "        return x['distance_use']"
   ]
  },
  {
   "cell_type": "code",
   "execution_count": null,
   "metadata": {
    "ExecuteTime": {
     "end_time": "2020-07-14T14:25:54.549242Z",
     "start_time": "2020-07-14T14:25:35.074269Z"
    }
   },
   "outputs": [],
   "source": [
    "gongcan_zhangao['distance_use_3'] = gongcan_zhangao.apply(fuck2,axis=1)"
   ]
  },
  {
   "cell_type": "code",
   "execution_count": null,
   "metadata": {
    "ExecuteTime": {
     "end_time": "2020-07-14T14:26:02.680774Z",
     "start_time": "2020-07-14T14:26:02.635269Z"
    }
   },
   "outputs": [],
   "source": [
    "gongcan_zhangao.loc[gongcan_zhangao['distance_use_3'].isna()]"
   ]
  },
  {
   "cell_type": "code",
   "execution_count": null,
   "metadata": {
    "ExecuteTime": {
     "end_time": "2020-07-14T14:26:10.816307Z",
     "start_time": "2020-07-14T14:26:10.596280Z"
    }
   },
   "outputs": [],
   "source": [
    "gongcan_zhangao.loc[gongcan_zhangao['小区中文名'].str.contains('M-'),'distance_use_3']=50"
   ]
  },
  {
   "cell_type": "code",
   "execution_count": null,
   "metadata": {
    "ExecuteTime": {
     "end_time": "2020-07-14T14:26:29.171138Z",
     "start_time": "2020-07-14T14:26:18.706809Z"
    }
   },
   "outputs": [],
   "source": [
    "gongcan_zhangao.to_csv('G:/1-规划/评估/覆盖空洞/20200712第四版本/2-程序数据出-过程/1-修正半径后使用的数据/1_修正半径_2周边建筑修正.csv',encoding='gbk')"
   ]
  },
  {
   "cell_type": "code",
   "execution_count": null,
   "metadata": {
    "ExecuteTime": {
     "end_time": "2020-07-14T14:26:39.818990Z",
     "start_time": "2020-07-14T14:26:37.545702Z"
    }
   },
   "outputs": [],
   "source": [
    "mytools.sound()"
   ]
  }
 ],
 "metadata": {
  "kernelspec": {
   "display_name": "Python 3",
   "language": "python",
   "name": "python3"
  },
  "language_info": {
   "codemirror_mode": {
    "name": "ipython",
    "version": 3
   },
   "file_extension": ".py",
   "mimetype": "text/x-python",
   "name": "python",
   "nbconvert_exporter": "python",
   "pygments_lexer": "ipython3",
   "version": "3.7.4"
  },
  "toc": {
   "base_numbering": 1,
   "nav_menu": {},
   "number_sections": true,
   "sideBar": true,
   "skip_h1_title": false,
   "title_cell": "Table of Contents",
   "title_sidebar": "Contents",
   "toc_cell": false,
   "toc_position": {
    "height": "calc(100% - 180px)",
    "left": "10px",
    "top": "150px",
    "width": "320px"
   },
   "toc_section_display": true,
   "toc_window_display": true
  },
  "varInspector": {
   "cols": {
    "lenName": 16,
    "lenType": 16,
    "lenVar": 40
   },
   "kernels_config": {
    "python": {
     "delete_cmd_postfix": "",
     "delete_cmd_prefix": "del ",
     "library": "var_list.py",
     "varRefreshCmd": "print(var_dic_list())"
    },
    "r": {
     "delete_cmd_postfix": ") ",
     "delete_cmd_prefix": "rm(",
     "library": "var_list.r",
     "varRefreshCmd": "cat(var_dic_list()) "
    }
   },
   "position": {
    "height": "516px",
    "left": "700px",
    "right": "20px",
    "top": "181px",
    "width": "562px"
   },
   "types_to_exclude": [
    "module",
    "function",
    "builtin_function_or_method",
    "instance",
    "_Feature"
   ],
   "window_display": false
  }
 },
 "nbformat": 4,
 "nbformat_minor": 2
}
