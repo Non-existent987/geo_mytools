{
 "cells": [
  {
   "cell_type": "code",
   "execution_count": 2,
   "metadata": {
    "ExecuteTime": {
     "end_time": "2020-07-31T09:40:05.269668Z",
     "start_time": "2020-07-31T09:40:03.915996Z"
    }
   },
   "outputs": [],
   "source": [
    "import pandas as pd\n",
    "import geopandas as gpd\n",
    "import mytools"
   ]
  },
  {
   "cell_type": "markdown",
   "metadata": {},
   "source": [
    "# 导入数据"
   ]
  },
  {
   "cell_type": "code",
   "execution_count": null,
   "metadata": {
    "ExecuteTime": {
     "end_time": "2020-07-14T16:30:21.113875Z",
     "start_time": "2020-07-14T16:30:20.644316Z"
    }
   },
   "outputs": [],
   "source": [
    "#导入空洞数据\n",
    "kongd = pd.read_pickle('G:/1-规划/评估/覆盖空洞/20200712第四版本/3-拆分后的空洞/覆盖空19481个添加场景区分大中小微.data')"
   ]
  },
  {
   "cell_type": "code",
   "execution_count": null,
   "metadata": {
    "ExecuteTime": {
     "end_time": "2020-07-14T16:30:21.439416Z",
     "start_time": "2020-07-14T16:30:21.416414Z"
    }
   },
   "outputs": [],
   "source": [
    "kongd.head(1)"
   ]
  },
  {
   "cell_type": "code",
   "execution_count": null,
   "metadata": {
    "ExecuteTime": {
     "end_time": "2020-07-14T16:30:43.850762Z",
     "start_time": "2020-07-14T16:30:30.599580Z"
    }
   },
   "outputs": [],
   "source": [
    "#导入栅格数据\n",
    "grid = pd.read_csv('G:/1-规划/评估/软采评估/2020年6月/6月评估程序-模块化/1-基础数据/软采数据/栅格/6月栅格-按照采样点倒序去重.csv',encoding='gbk')"
   ]
  },
  {
   "cell_type": "code",
   "execution_count": null,
   "metadata": {
    "ExecuteTime": {
     "end_time": "2020-07-14T16:30:44.520347Z",
     "start_time": "2020-07-14T16:30:44.500845Z"
    }
   },
   "outputs": [],
   "source": [
    "grid.head(1)"
   ]
  },
  {
   "cell_type": "markdown",
   "metadata": {},
   "source": [
    "# 栅格生成点图"
   ]
  },
  {
   "cell_type": "code",
   "execution_count": null,
   "metadata": {
    "ExecuteTime": {
     "end_time": "2020-07-14T16:31:13.181987Z",
     "start_time": "2020-07-14T16:31:13.177486Z"
    }
   },
   "outputs": [],
   "source": [
    "dya,city,grid_id,leftbottom_lon,left_bottom_lat,righttop_lon,righttop_lat,rsrp_count,rsrp_weak,un_count,un_weak,te_count,te_weak=[\n",
    "    'a.day', 'a.region_name', 'a.grid_id', 'a.grid_leftbottom_longitude','a.grid_leftbottom_latitude', \n",
    "    'a.grid_righttop_longitude' ,'a.grid_righttop_latitude','a.rsrp_sample_count', 'a.rsrp_weak', \n",
    "    'a.un_maxrsrp_sample_count',  'a.un_maxrsrp_weak_l2', 'a.te_maxrsrp_sample_count','a.te_maxrsrp_weak_l2']\n",
    "lon,lat = ['lon','lat']"
   ]
  },
  {
   "cell_type": "code",
   "execution_count": null,
   "metadata": {
    "ExecuteTime": {
     "end_time": "2020-07-14T16:31:13.953085Z",
     "start_time": "2020-07-14T16:31:13.807066Z"
    }
   },
   "outputs": [],
   "source": [
    "data_t_use = grid[[dya,city,grid_id,leftbottom_lon,left_bottom_lat,righttop_lon,righttop_lat,rsrp_count,\n",
    "                   rsrp_weak,un_count,un_weak,te_count,te_weak]]"
   ]
  },
  {
   "cell_type": "code",
   "execution_count": null,
   "metadata": {
    "ExecuteTime": {
     "end_time": "2020-07-14T16:31:15.043223Z",
     "start_time": "2020-07-14T16:31:14.584165Z"
    }
   },
   "outputs": [],
   "source": [
    "#添加lon和lat\n",
    "data_t_use.loc[:,lon] = (data_t_use[leftbottom_lon]+data_t_use[righttop_lon])/2\n",
    "data_t_use.loc[:,lat] = (data_t_use[left_bottom_lat]+data_t_use[righttop_lat])/2\n",
    "data_t_use_v1 = data_t_use[[dya,city,grid_id,lon,lat,rsrp_count,rsrp_weak,un_count,un_weak,te_count,te_weak]]"
   ]
  },
  {
   "cell_type": "code",
   "execution_count": null,
   "metadata": {
    "ExecuteTime": {
     "end_time": "2020-07-14T16:31:15.686805Z",
     "start_time": "2020-07-14T16:31:15.655301Z"
    }
   },
   "outputs": [],
   "source": [
    "data_t_use_v1['fgl'] = 1 - data_t_use_v1[rsrp_weak] / data_t_use_v1[rsrp_count]"
   ]
  },
  {
   "cell_type": "code",
   "execution_count": null,
   "metadata": {
    "ExecuteTime": {
     "end_time": "2020-07-14T16:31:46.021157Z",
     "start_time": "2020-07-14T16:31:16.411897Z"
    }
   },
   "outputs": [],
   "source": [
    "grid_p = mytools.gisn.add_points(data_t_use_v1,lon,lat)"
   ]
  },
  {
   "cell_type": "markdown",
   "metadata": {},
   "source": [
    "# 空洞匹配栅格"
   ]
  },
  {
   "cell_type": "code",
   "execution_count": null,
   "metadata": {
    "ExecuteTime": {
     "end_time": "2020-07-14T16:34:50.134536Z",
     "start_time": "2020-07-14T16:31:50.009663Z"
    }
   },
   "outputs": [],
   "source": [
    "kongd_result = gpd.sjoin(kongd,grid_p)"
   ]
  },
  {
   "cell_type": "code",
   "execution_count": null,
   "metadata": {
    "ExecuteTime": {
     "end_time": "2020-07-14T16:34:54.447584Z",
     "start_time": "2020-07-14T16:34:54.442583Z"
    }
   },
   "outputs": [],
   "source": [
    "kongd_result['fgl'] = 1 - kongd_result[rsrp_weak] / kongd_result[rsrp_count]"
   ]
  },
  {
   "cell_type": "markdown",
   "metadata": {},
   "source": [
    "# 数据输出"
   ]
  },
  {
   "cell_type": "code",
   "execution_count": null,
   "metadata": {
    "ExecuteTime": {
     "end_time": "2020-07-14T16:37:20.563138Z",
     "start_time": "2020-07-14T16:37:18.129329Z"
    }
   },
   "outputs": [],
   "source": [
    "#导出匹配到栅格的空洞\n",
    "kongd_grid = kongd_result.drop_duplicates('id')[['id']]\n",
    "kongd_2 = kongd.merge(kongd_grid,how='inner',on='id')\n",
    "kongd_2.to_pickle('G:/1-规划/评估/覆盖空洞/20200712第四版本/4-相关图层输出/5栅格图层/匹配到栅格的{}个空洞.data'.format(kongd_2.shape[0]))"
   ]
  },
  {
   "cell_type": "code",
   "execution_count": null,
   "metadata": {
    "ExecuteTime": {
     "end_time": "2020-07-14T16:37:26.648911Z",
     "start_time": "2020-07-14T16:37:24.821679Z"
    }
   },
   "outputs": [],
   "source": [
    "#导出匹配到空洞的栅格\n",
    "grid_2 = kongd_result.drop_duplicates('a.grid_id')[[ 'a.grid_id']]\n",
    "grid_2_r = data_t_use_v1.merge(grid_2,how='inner',on='a.grid_id')\n",
    "grid_2_r.to_pickle('G:/1-规划/评估/覆盖空洞/20200712第四版本/4-相关图层输出/5栅格图层/空洞匹配到的{}个栅格.data'.format(grid_2_r.shape[0]))"
   ]
  },
  {
   "cell_type": "code",
   "execution_count": null,
   "metadata": {
    "ExecuteTime": {
     "end_time": "2020-07-14T16:37:31.057971Z",
     "start_time": "2020-07-14T16:37:30.977961Z"
    },
    "scrolled": true
   },
   "outputs": [],
   "source": [
    "#导出匹配到空洞的栅格-弱覆盖\n",
    "grid_2_r.loc[grid_2_r['fgl']<0.7,'栅格类型'] ='严重弱覆盖栅格'\n",
    "kd_yzrfg = grid_2_r.loc[grid_2_r['fgl']<0.7]\n",
    "kd_yzrfg.to_pickle('G:/1-规划/评估/覆盖空洞/20200712第四版本/4-相关图层输出/5栅格图层/空洞匹配到的严重弱覆盖{}个栅格.data'.format(kd_yzrfg.shape[0]))"
   ]
  },
  {
   "cell_type": "code",
   "execution_count": null,
   "metadata": {
    "ExecuteTime": {
     "end_time": "2020-07-14T16:37:35.422025Z",
     "start_time": "2020-07-14T16:37:35.311011Z"
    }
   },
   "outputs": [],
   "source": [
    "#导出匹配到空洞的栅格-严重弱覆盖\n",
    "grid_2_r.loc[(grid_2_r['fgl']<0.936),'栅格类型'] ='弱覆盖栅格'\n",
    "kd_rfg = grid_2_r.loc[(grid_2_r['fgl']<0.936)]\n",
    "kd_rfg.to_pickle('G:/1-规划/评估/覆盖空洞/20200712第四版本/4-相关图层输出/5栅格图层/空洞匹配到的{}个弱覆盖栅格.data'.format(kd_rfg.shape[0]))"
   ]
  },
  {
   "cell_type": "code",
   "execution_count": null,
   "metadata": {
    "ExecuteTime": {
     "end_time": "2020-07-14T16:37:39.692568Z",
     "start_time": "2020-07-14T16:37:39.687567Z"
    }
   },
   "outputs": [],
   "source": [
    "print(grid_2_r.shape[0],kd_rfg.shape[0],kd_yzrfg.shape[0])"
   ]
  },
  {
   "cell_type": "code",
   "execution_count": null,
   "metadata": {},
   "outputs": [],
   "source": []
  },
  {
   "cell_type": "code",
   "execution_count": null,
   "metadata": {},
   "outputs": [],
   "source": []
  },
  {
   "cell_type": "code",
   "execution_count": null,
   "metadata": {},
   "outputs": [],
   "source": []
  },
  {
   "cell_type": "code",
   "execution_count": null,
   "metadata": {},
   "outputs": [],
   "source": []
  },
  {
   "cell_type": "code",
   "execution_count": 3,
   "metadata": {
    "ExecuteTime": {
     "end_time": "2020-07-31T09:40:07.984012Z",
     "start_time": "2020-07-31T09:40:07.220916Z"
    }
   },
   "outputs": [],
   "source": [
    "kongd = pd.read_pickle('G:/1-规划/评估/覆盖空洞/20200712第四版本/3-拆分后的空洞/覆盖空19481个添加场景区分大中小微.data')"
   ]
  },
  {
   "cell_type": "code",
   "execution_count": 4,
   "metadata": {
    "ExecuteTime": {
     "end_time": "2020-07-31T09:40:21.267699Z",
     "start_time": "2020-07-31T09:40:21.058673Z"
    }
   },
   "outputs": [],
   "source": [
    "tu = mytools.gisn.maps()"
   ]
  },
  {
   "cell_type": "code",
   "execution_count": 5,
   "metadata": {
    "ExecuteTime": {
     "end_time": "2020-07-31T09:40:23.925037Z",
     "start_time": "2020-07-31T09:40:23.874530Z"
    }
   },
   "outputs": [
    {
     "data": {
      "text/html": [
       "<div>\n",
       "<style scoped>\n",
       "    .dataframe tbody tr th:only-of-type {\n",
       "        vertical-align: middle;\n",
       "    }\n",
       "\n",
       "    .dataframe tbody tr th {\n",
       "        vertical-align: top;\n",
       "    }\n",
       "\n",
       "    .dataframe thead th {\n",
       "        text-align: right;\n",
       "    }\n",
       "</style>\n",
       "<table border=\"1\" class=\"dataframe\">\n",
       "  <thead>\n",
       "    <tr style=\"text-align: right;\">\n",
       "      <th></th>\n",
       "      <th>city</th>\n",
       "      <th>type</th>\n",
       "      <th>geometry</th>\n",
       "    </tr>\n",
       "  </thead>\n",
       "  <tbody>\n",
       "    <tr>\n",
       "      <th>0</th>\n",
       "      <td>十堰</td>\n",
       "      <td>Polygon</td>\n",
       "      <td>POLYGON ((110.76119 31.83382, 110.76163 31.834...</td>\n",
       "    </tr>\n",
       "  </tbody>\n",
       "</table>\n",
       "</div>"
      ],
      "text/plain": [
       "  city     type                                           geometry\n",
       "0   十堰  Polygon  POLYGON ((110.76119 31.83382, 110.76163 31.834..."
      ]
     },
     "execution_count": 5,
     "metadata": {},
     "output_type": "execute_result"
    }
   ],
   "source": [
    "tu.head(1)"
   ]
  },
  {
   "cell_type": "code",
   "execution_count": 6,
   "metadata": {
    "ExecuteTime": {
     "end_time": "2020-07-31T09:40:44.682173Z",
     "start_time": "2020-07-31T09:40:44.321127Z"
    }
   },
   "outputs": [],
   "source": [
    "tu_area = mytools.gisn.add_area(tu)"
   ]
  },
  {
   "cell_type": "code",
   "execution_count": 8,
   "metadata": {
    "ExecuteTime": {
     "end_time": "2020-07-31T09:41:05.660836Z",
     "start_time": "2020-07-31T09:41:05.655336Z"
    }
   },
   "outputs": [
    {
     "data": {
      "text/plain": [
       "186881417014.07336"
      ]
     },
     "execution_count": 8,
     "metadata": {},
     "output_type": "execute_result"
    }
   ],
   "source": [
    "tu_area['面积'].sum()"
   ]
  },
  {
   "cell_type": "code",
   "execution_count": 9,
   "metadata": {
    "ExecuteTime": {
     "end_time": "2020-07-31T09:41:44.840812Z",
     "start_time": "2020-07-31T09:41:44.799806Z"
    }
   },
   "outputs": [
    {
     "data": {
      "text/html": [
       "<div>\n",
       "<style scoped>\n",
       "    .dataframe tbody tr th:only-of-type {\n",
       "        vertical-align: middle;\n",
       "    }\n",
       "\n",
       "    .dataframe tbody tr th {\n",
       "        vertical-align: top;\n",
       "    }\n",
       "\n",
       "    .dataframe thead th {\n",
       "        text-align: right;\n",
       "    }\n",
       "</style>\n",
       "<table border=\"1\" class=\"dataframe\">\n",
       "  <thead>\n",
       "    <tr style=\"text-align: right;\">\n",
       "      <th></th>\n",
       "      <th>city</th>\n",
       "      <th>type</th>\n",
       "      <th>geometry</th>\n",
       "      <th>面积</th>\n",
       "      <th>lon</th>\n",
       "      <th>lat</th>\n",
       "      <th>区域类型</th>\n",
       "      <th>id</th>\n",
       "      <th>制式</th>\n",
       "      <th>distance</th>\n",
       "      <th>标准面积</th>\n",
       "      <th>空洞面积比例</th>\n",
       "      <th>空洞级别</th>\n",
       "    </tr>\n",
       "  </thead>\n",
       "  <tbody>\n",
       "    <tr>\n",
       "      <th>0</th>\n",
       "      <td>十堰</td>\n",
       "      <td>Polygon</td>\n",
       "      <td>POLYGON ((111.57467 32.59737, 111.57724 32.598...</td>\n",
       "      <td>118802.970802</td>\n",
       "      <td>111.577452</td>\n",
       "      <td>32.595834</td>\n",
       "      <td>农村</td>\n",
       "      <td>kd_1</td>\n",
       "      <td>FDD900</td>\n",
       "      <td>2200.0</td>\n",
       "      <td>1.520531e+07</td>\n",
       "      <td>0.007813</td>\n",
       "      <td>微</td>\n",
       "    </tr>\n",
       "  </tbody>\n",
       "</table>\n",
       "</div>"
      ],
      "text/plain": [
       "  city     type                                           geometry  \\\n",
       "0   十堰  Polygon  POLYGON ((111.57467 32.59737, 111.57724 32.598...   \n",
       "\n",
       "              面积         lon        lat 区域类型    id      制式  distance  \\\n",
       "0  118802.970802  111.577452  32.595834   农村  kd_1  FDD900    2200.0   \n",
       "\n",
       "           标准面积    空洞面积比例 空洞级别  \n",
       "0  1.520531e+07  0.007813    微  "
      ]
     },
     "execution_count": 9,
     "metadata": {},
     "output_type": "execute_result"
    }
   ],
   "source": [
    "kongd.head(1)"
   ]
  },
  {
   "cell_type": "code",
   "execution_count": 10,
   "metadata": {
    "ExecuteTime": {
     "end_time": "2020-07-31T09:42:34.011056Z",
     "start_time": "2020-07-31T09:42:33.984552Z"
    }
   },
   "outputs": [
    {
     "data": {
      "text/html": [
       "<div>\n",
       "<style scoped>\n",
       "    .dataframe tbody tr th:only-of-type {\n",
       "        vertical-align: middle;\n",
       "    }\n",
       "\n",
       "    .dataframe tbody tr th {\n",
       "        vertical-align: top;\n",
       "    }\n",
       "\n",
       "    .dataframe thead th {\n",
       "        text-align: right;\n",
       "    }\n",
       "</style>\n",
       "<table border=\"1\" class=\"dataframe\">\n",
       "  <thead>\n",
       "    <tr style=\"text-align: right;\">\n",
       "      <th></th>\n",
       "      <th>面积</th>\n",
       "    </tr>\n",
       "    <tr>\n",
       "      <th>区域类型</th>\n",
       "      <th></th>\n",
       "    </tr>\n",
       "  </thead>\n",
       "  <tbody>\n",
       "    <tr>\n",
       "      <th>一般城区</th>\n",
       "      <td>2.541138e+08</td>\n",
       "    </tr>\n",
       "    <tr>\n",
       "      <th>主城区</th>\n",
       "      <td>7.564957e+07</td>\n",
       "    </tr>\n",
       "    <tr>\n",
       "      <th>乡镇</th>\n",
       "      <td>4.301427e+06</td>\n",
       "    </tr>\n",
       "    <tr>\n",
       "      <th>农村</th>\n",
       "      <td>2.855962e+10</td>\n",
       "    </tr>\n",
       "    <tr>\n",
       "      <th>县城</th>\n",
       "      <td>3.090842e+08</td>\n",
       "    </tr>\n",
       "  </tbody>\n",
       "</table>\n",
       "</div>"
      ],
      "text/plain": [
       "                面积\n",
       "区域类型              \n",
       "一般城区  2.541138e+08\n",
       "主城区   7.564957e+07\n",
       "乡镇    4.301427e+06\n",
       "农村    2.855962e+10\n",
       "县城    3.090842e+08"
      ]
     },
     "execution_count": 10,
     "metadata": {},
     "output_type": "execute_result"
    }
   ],
   "source": [
    "kongd.groupby('区域类型').agg({'面积':'sum'})"
   ]
  },
  {
   "cell_type": "code",
   "execution_count": null,
   "metadata": {},
   "outputs": [],
   "source": []
  },
  {
   "cell_type": "code",
   "execution_count": null,
   "metadata": {},
   "outputs": [],
   "source": []
  }
 ],
 "metadata": {
  "kernelspec": {
   "display_name": "Python 3",
   "language": "python",
   "name": "python3"
  },
  "language_info": {
   "codemirror_mode": {
    "name": "ipython",
    "version": 3
   },
   "file_extension": ".py",
   "mimetype": "text/x-python",
   "name": "python",
   "nbconvert_exporter": "python",
   "pygments_lexer": "ipython3",
   "version": "3.7.4"
  },
  "toc": {
   "base_numbering": 1,
   "nav_menu": {},
   "number_sections": true,
   "sideBar": true,
   "skip_h1_title": false,
   "title_cell": "Table of Contents",
   "title_sidebar": "Contents",
   "toc_cell": false,
   "toc_position": {},
   "toc_section_display": true,
   "toc_window_display": false
  },
  "varInspector": {
   "cols": {
    "lenName": 16,
    "lenType": 16,
    "lenVar": 40
   },
   "kernels_config": {
    "python": {
     "delete_cmd_postfix": "",
     "delete_cmd_prefix": "del ",
     "library": "var_list.py",
     "varRefreshCmd": "print(var_dic_list())"
    },
    "r": {
     "delete_cmd_postfix": ") ",
     "delete_cmd_prefix": "rm(",
     "library": "var_list.r",
     "varRefreshCmd": "cat(var_dic_list()) "
    }
   },
   "types_to_exclude": [
    "module",
    "function",
    "builtin_function_or_method",
    "instance",
    "_Feature"
   ],
   "window_display": false
  }
 },
 "nbformat": 4,
 "nbformat_minor": 2
}
