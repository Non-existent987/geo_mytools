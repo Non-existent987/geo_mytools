{
 "cells": [
  {
   "cell_type": "code",
   "execution_count": 1,
   "metadata": {
    "ExecuteTime": {
     "end_time": "2020-08-11T23:49:31.751533Z",
     "start_time": "2020-08-11T23:49:30.495374Z"
    }
   },
   "outputs": [],
   "source": [
    "import mytools\n",
    "import geopandas as gpd\n",
    "import pandas as pd\n",
    "import numpy as np\n",
    "from shapely.geometry import Polygon,Point,LineString,MultiPolygon"
   ]
  },
  {
   "cell_type": "markdown",
   "metadata": {},
   "source": [
    "# 小区和站点对应关系"
   ]
  },
  {
   "cell_type": "code",
   "execution_count": null,
   "metadata": {
    "ExecuteTime": {
     "end_time": "2020-08-11T09:47:04.659368Z",
     "start_time": "2020-08-11T09:47:04.652367Z"
    }
   },
   "outputs": [],
   "source": [
    "f = mytools.othern.file_name_paths('G:/1-规划/评估/覆盖空洞/20200712第四版本/9-评估搬迁站点/1-基础数据/空洞使用的小区信息/各地市计算/')"
   ]
  },
  {
   "cell_type": "code",
   "execution_count": null,
   "metadata": {
    "ExecuteTime": {
     "end_time": "2020-08-11T09:48:55.960501Z",
     "start_time": "2020-08-11T09:47:06.244569Z"
    }
   },
   "outputs": [],
   "source": [
    "data_z = pd.DataFrame()\n",
    "for name in f:\n",
    "    data_excel = pd.ExcelFile(name)\n",
    "    data_id = data_excel.parse('移动小区')\n",
    "    data_pz = data_excel.parse('移动物理站')\n",
    "    data_pz_use = data_pz[[ '小区中文名', 'FDD900_p', 'FDD1800_p', 'F_p', 'D_p', 'E_p', 'A_p']]\n",
    "    data_pz_use['站点对应小区'] = data_pz_use[[ 'FDD900_p', 'FDD1800_p', 'F_p', 'D_p', 'E_p', 'A_p']].apply(\n",
    "    lambda x: '/'.join([str(i) for i in list(x) if pd.notnull(i)]),axis=1)\n",
    "    data_res = data_pz_use.join(data_pz_use['站点对应小区'].str.split(\n",
    "        '/',expand=True).stack().reset_index(level=1,drop=True).rename('对应编号'))\n",
    "    data_id['id'] = data_id.index+2\n",
    "    data_id_use = data_id[['小区中文名', 'id']].rename(columns={'小区中文名':'小区名'})\n",
    "    data_res['对应编号'] = pd.to_numeric(data_res['对应编号'])\n",
    "    data_id_use['id'] = data_id_use['id'].astype('object')\n",
    "    data_res2 = data_res.merge(data_id_use,how='left',left_on='对应编号',right_on='id')\n",
    "    data_res2.columns = ['站点名称', 'FDD900_p', 'FDD1800_p', 'F_p', 'D_p', 'E_p', 'A_p', '站点对应小区',\n",
    "           '对应编号', '小区名', 'id']\n",
    "    data_res2.to_csv('G:/1-规划/评估/覆盖空洞/20200712第四版本/9-评估搬迁站点/2-输出数据/'+name.split('/')[-1].split('.')[0]+'.csv',encoding='gbk',index=False)\n",
    "    print(name,'输出成功')\n",
    "    data_z = data_z.append(data_res2)\n",
    "data_z.to_csv('G:/1-规划/评估/覆盖空洞/20200712第四版本/9-评估搬迁站点/2-输出数据/汇总.csv',encoding='gbk',index=False)\n",
    "print('输出完成')"
   ]
  },
  {
   "cell_type": "code",
   "execution_count": 3,
   "metadata": {
    "ExecuteTime": {
     "end_time": "2020-08-11T23:50:04.382677Z",
     "start_time": "2020-08-11T23:50:02.929993Z"
    }
   },
   "outputs": [
    {
     "name": "stderr",
     "output_type": "stream",
     "text": [
      "C:\\ProgramData\\Anaconda3\\lib\\site-packages\\IPython\\core\\interactiveshell.py:3058: DtypeWarning: Columns (1) have mixed types.Specify dtype option on import or set low_memory=False.\n",
      "  interactivity=interactivity, compiler=compiler, result=result)\n"
     ]
    }
   ],
   "source": [
    "data_z=pd.read_csv('G:/1-规划/评估/覆盖空洞/20200712第四版本/9-评估搬迁站点/2-输出数据/汇总.csv',encoding='gbk')"
   ]
  },
  {
   "cell_type": "markdown",
   "metadata": {},
   "source": [
    "# 小区单独覆盖区域计算"
   ]
  },
  {
   "cell_type": "code",
   "execution_count": 14,
   "metadata": {
    "ExecuteTime": {
     "end_time": "2020-08-12T00:05:13.844164Z",
     "start_time": "2020-08-12T00:05:09.882161Z"
    }
   },
   "outputs": [],
   "source": [
    "gongcan_s = pd.read_pickle('G:/1-规划/评估/覆盖空洞/20200712第四版本/2-程序数据出-过程/1-修正半径后使用的数据/修正后覆盖半径的扇区图层_1原始.data')"
   ]
  },
  {
   "cell_type": "code",
   "execution_count": 5,
   "metadata": {
    "ExecuteTime": {
     "end_time": "2020-08-11T23:51:34.803659Z",
     "start_time": "2020-08-11T23:51:27.612246Z"
    }
   },
   "outputs": [],
   "source": [
    "# gongcan_s[[ '小区CGI(*)', '小区中文名', '所属地区', 'RRU经度', 'RRU纬度', '天线挂高',\n",
    "#        '方位角', '工作频段', '归属区县', '厂家名称', '区域类型', 'distance', '覆盖模型距离',\n",
    "#        '30米覆盖模型距离', '使用覆盖半径', 'distance_use', 'distance_yb', 'h_use', '高度建筑比',\n",
    "#        'distance_use_3']].to_csv('G:/1-规划/评估/覆盖空洞/20200712第四版本/9-评估搬迁站点/1-基础数据/空洞使用的小区信息/kd_use_data.csv',encoding='gbk',index=False)"
   ]
  },
  {
   "cell_type": "code",
   "execution_count": 15,
   "metadata": {
    "ExecuteTime": {
     "end_time": "2020-08-12T00:05:16.882550Z",
     "start_time": "2020-08-12T00:05:16.794039Z"
    }
   },
   "outputs": [],
   "source": [
    "gongcan_s = gongcan_s[[ '小区CGI(*)', '小区中文名', '所属地区', 'RRU经度', 'RRU纬度', '天线挂高',\n",
    "       '方位角', '工作频段', '归属区县', '厂家名称', '区域类型', 'distance', '覆盖模型距离',\n",
    "       '30米覆盖模型距离', '使用覆盖半径', 'distance_use', 'distance_yb', 'h_use', '高度建筑比',\n",
    "       'distance_use_3', 'geometry']]"
   ]
  },
  {
   "cell_type": "code",
   "execution_count": 18,
   "metadata": {
    "ExecuteTime": {
     "end_time": "2020-08-12T00:05:35.192375Z",
     "start_time": "2020-08-12T00:05:34.555794Z"
    }
   },
   "outputs": [],
   "source": [
    "gongcan_s = gongcan_s.loc[gongcan_s['归属区县']=='东湖高新开发区']"
   ]
  },
  {
   "cell_type": "code",
   "execution_count": 19,
   "metadata": {
    "ExecuteTime": {
     "end_time": "2020-08-12T00:05:36.502541Z",
     "start_time": "2020-08-12T00:05:36.498041Z"
    }
   },
   "outputs": [
    {
     "data": {
      "text/plain": [
       "(9283, 21)"
      ]
     },
     "execution_count": 19,
     "metadata": {},
     "output_type": "execute_result"
    }
   ],
   "source": [
    "gongcan_s.shape"
   ]
  },
  {
   "cell_type": "code",
   "execution_count": 20,
   "metadata": {
    "ExecuteTime": {
     "end_time": "2020-08-12T00:05:41.758209Z",
     "start_time": "2020-08-12T00:05:41.748707Z"
    }
   },
   "outputs": [],
   "source": [
    "def fc(x):\n",
    "    lon = x['RRU经度']\n",
    "    lat = x['RRU纬度']\n",
    "    #筛选范围内的所有扇区\n",
    "    gongcan_s_temp = gongcan_s.loc[(gongcan_s['RRU经度']>(lon-0.05) )&(gongcan_s['RRU经度']<(lon+0.05) ) & \n",
    "                  (gongcan_s['RRU纬度']>(lat-0.05) )&(gongcan_s['RRU纬度']<(lat+0.05))]\n",
    "    #剔除掉共站址的扇区\n",
    "    b = data_z.loc[data_z['小区名']==x['小区中文名'],'站点名称']\n",
    "    if len(list(b.values)) == 0 :\n",
    "        geometry='无效数据'\n",
    "    else:\n",
    "        use_s = gongcan_s_temp.loc[~gongcan_s_temp['小区中文名'].isin(list(data_z.loc[data_z['站点名称']==b.values[0],'小区名'].values))]\n",
    "        if use_s.shape[0]<1:\n",
    "            geometry='孤站'\n",
    "        else:\n",
    "            use_s['省份'] = 'hb'\n",
    "            use_s1 = use_s.dissolve(by = '省份')\n",
    "            use_s1['geometry'] = use_s1.buffer(0.0000001)\n",
    "            geometry = x['geometry'].difference(use_s1['geometry'][0])\n",
    "            if geometry.area==0:\n",
    "                geometry=1\n",
    "    return geometry"
   ]
  },
  {
   "cell_type": "code",
   "execution_count": null,
   "metadata": {
    "ExecuteTime": {
     "end_time": "2020-08-12T02:00:32.218186Z",
     "start_time": "2020-08-12T00:05:41.936731Z"
    },
    "scrolled": false
   },
   "outputs": [],
   "source": [
    "gongcan_s['ji_geo'] = gongcan_s.apply(fc,axis=1)#gongcan_s.iloc[36160:36177,]"
   ]
  },
  {
   "cell_type": "code",
   "execution_count": 22,
   "metadata": {
    "ExecuteTime": {
     "end_time": "2020-08-12T02:00:34.796513Z",
     "start_time": "2020-08-12T02:00:32.298696Z"
    }
   },
   "outputs": [],
   "source": [
    "mytools.sound()"
   ]
  },
  {
   "cell_type": "markdown",
   "metadata": {},
   "source": [
    "# 面积计算"
   ]
  },
  {
   "cell_type": "code",
   "execution_count": 54,
   "metadata": {
    "ExecuteTime": {
     "end_time": "2020-08-12T02:14:38.303125Z",
     "start_time": "2020-08-12T02:14:35.792806Z"
    }
   },
   "outputs": [],
   "source": [
    "gongcan_s_area = mytools.gisn.add_area(gongcan_s,'自身面积')"
   ]
  },
  {
   "cell_type": "code",
   "execution_count": 55,
   "metadata": {
    "ExecuteTime": {
     "end_time": "2020-08-12T02:14:38.545156Z",
     "start_time": "2020-08-12T02:14:38.531654Z"
    }
   },
   "outputs": [],
   "source": [
    "gongcan_s_area_1 = gongcan_s_area.loc[~((gongcan_s_area['ji_geo']==1) | (gongcan_s_area['ji_geo']=='无效数据') | (gongcan_s_area['ji_geo']=='孤站')) ]"
   ]
  },
  {
   "cell_type": "code",
   "execution_count": 56,
   "metadata": {
    "ExecuteTime": {
     "end_time": "2020-08-12T02:14:38.765184Z",
     "start_time": "2020-08-12T02:14:38.748682Z"
    }
   },
   "outputs": [],
   "source": [
    "gongcan_s_area_2 = gongcan_s_area.loc[(gongcan_s_area['ji_geo']==1) | (gongcan_s_area['ji_geo']=='无效数据') | (gongcan_s_area['ji_geo']=='孤站') ]"
   ]
  },
  {
   "cell_type": "code",
   "execution_count": 57,
   "metadata": {
    "ExecuteTime": {
     "end_time": "2020-08-12T02:14:38.966709Z",
     "start_time": "2020-08-12T02:14:38.959208Z"
    }
   },
   "outputs": [
    {
     "name": "stderr",
     "output_type": "stream",
     "text": [
      "C:\\ProgramData\\Anaconda3\\lib\\site-packages\\ipykernel_launcher.py:1: SettingWithCopyWarning: \n",
      "A value is trying to be set on a copy of a slice from a DataFrame.\n",
      "Try using .loc[row_indexer,col_indexer] = value instead\n",
      "\n",
      "See the caveats in the documentation: https://pandas.pydata.org/pandas-docs/stable/user_guide/indexing.html#returning-a-view-versus-a-copy\n",
      "  \"\"\"Entry point for launching an IPython kernel.\n"
     ]
    }
   ],
   "source": [
    "gongcan_s_area_2['单独覆盖区域面积'] = gongcan_s_area_2['ji_geo']"
   ]
  },
  {
   "cell_type": "code",
   "execution_count": 58,
   "metadata": {
    "ExecuteTime": {
     "end_time": "2020-08-12T02:14:39.214241Z",
     "start_time": "2020-08-12T02:14:39.176736Z"
    }
   },
   "outputs": [],
   "source": [
    "gongcan_s_area_1 = gongcan_s_area_1.set_geometry('ji_geo')"
   ]
  },
  {
   "cell_type": "code",
   "execution_count": 59,
   "metadata": {
    "ExecuteTime": {
     "end_time": "2020-08-12T02:14:41.060975Z",
     "start_time": "2020-08-12T02:14:39.420767Z"
    }
   },
   "outputs": [],
   "source": [
    "gongcan_s_area_1 = mytools.gisn.add_area(gongcan_s_area_1,'单独覆盖区域面积')"
   ]
  },
  {
   "cell_type": "code",
   "execution_count": 60,
   "metadata": {
    "ExecuteTime": {
     "end_time": "2020-08-12T02:14:41.308507Z",
     "start_time": "2020-08-12T02:14:41.260501Z"
    }
   },
   "outputs": [],
   "source": [
    "res = gongcan_s_area_1.append(gongcan_s_area_2)"
   ]
  },
  {
   "cell_type": "code",
   "execution_count": 61,
   "metadata": {
    "ExecuteTime": {
     "end_time": "2020-08-12T02:14:46.833208Z",
     "start_time": "2020-08-12T02:14:46.529670Z"
    }
   },
   "outputs": [],
   "source": [
    "res.drop(columns=['geometry','ji_geo']).to_csv(\n",
    "    'G:/1-规划/评估/覆盖空洞/20200712第四版本/9-评估搬迁站点/3-输出结果/每个小区的单独覆盖面积.csv',encoding='gbk',index=False)"
   ]
  },
  {
   "cell_type": "markdown",
   "metadata": {},
   "source": [
    "# 其他计算"
   ]
  },
  {
   "cell_type": "code",
   "execution_count": 63,
   "metadata": {
    "ExecuteTime": {
     "end_time": "2020-08-12T04:49:46.244083Z",
     "start_time": "2020-08-12T04:49:45.486487Z"
    }
   },
   "outputs": [],
   "source": [
    "zm_xd = pd.read_excel(\n",
    "    'G:/1-规划/评估/覆盖空洞/20200712第四版本/9-评估搬迁站点/临时需求，将主城区一般城区与农村小区覆盖有交集的删掉/东新小区覆盖为0.xlsx',\n",
    "    encoding='gbk')"
   ]
  },
  {
   "cell_type": "code",
   "execution_count": 68,
   "metadata": {
    "ExecuteTime": {
     "end_time": "2020-08-12T04:51:36.552091Z",
     "start_time": "2020-08-12T04:51:36.547590Z"
    }
   },
   "outputs": [
    {
     "data": {
      "text/plain": [
       "(3067, 15)"
      ]
     },
     "execution_count": 68,
     "metadata": {},
     "output_type": "execute_result"
    }
   ],
   "source": [
    "zm_xd.shape"
   ]
  },
  {
   "cell_type": "code",
   "execution_count": 71,
   "metadata": {
    "ExecuteTime": {
     "end_time": "2020-08-12T04:53:15.420145Z",
     "start_time": "2020-08-12T04:53:15.396142Z"
    }
   },
   "outputs": [],
   "source": [
    "zm_xd_use = zm_xd.merge(gongcan_s[['小区CGI(*)','小区中文名','geometry']],how='left',on=['小区CGI(*)','小区中文名'])"
   ]
  },
  {
   "cell_type": "code",
   "execution_count": 76,
   "metadata": {
    "ExecuteTime": {
     "end_time": "2020-08-12T04:57:38.227518Z",
     "start_time": "2020-08-12T04:57:38.221517Z"
    }
   },
   "outputs": [],
   "source": [
    "gongcan_nc = gongcan_s.loc[gongcan_s['区域类型']=='农村']"
   ]
  },
  {
   "cell_type": "code",
   "execution_count": 80,
   "metadata": {
    "ExecuteTime": {
     "end_time": "2020-08-12T04:59:36.935592Z",
     "start_time": "2020-08-12T04:59:36.807075Z"
    }
   },
   "outputs": [],
   "source": [
    "gongcan_nc = gongcan_nc.dissolve(by='所属地区')"
   ]
  },
  {
   "cell_type": "code",
   "execution_count": 84,
   "metadata": {
    "ExecuteTime": {
     "end_time": "2020-08-12T05:01:53.479931Z",
     "start_time": "2020-08-12T05:01:53.475430Z"
    },
    "scrolled": true
   },
   "outputs": [],
   "source": [
    "zm_xd_use_gdf = gpd.GeoDataFrame(zm_xd_use,crs={\"init\": \"epsg:4326\"} ,geometry='geometry')"
   ]
  },
  {
   "cell_type": "code",
   "execution_count": 85,
   "metadata": {
    "ExecuteTime": {
     "end_time": "2020-08-12T05:02:00.028762Z",
     "start_time": "2020-08-12T05:01:59.184155Z"
    }
   },
   "outputs": [],
   "source": [
    "res = gpd.sjoin(zm_xd_use_gdf,gongcan_nc)"
   ]
  },
  {
   "cell_type": "code",
   "execution_count": 86,
   "metadata": {
    "ExecuteTime": {
     "end_time": "2020-08-12T05:02:38.508149Z",
     "start_time": "2020-08-12T05:02:38.421137Z"
    }
   },
   "outputs": [],
   "source": [
    "res.drop(columns='geometry').to_csv('G:/1-规划/评估/覆盖空洞/20200712第四版本/9-评估搬迁站点/临时需求，将主城区一般城区与农村小区覆盖有交集的删掉/res.csv',encoding='gbk')"
   ]
  },
  {
   "cell_type": "code",
   "execution_count": null,
   "metadata": {},
   "outputs": [],
   "source": []
  }
 ],
 "metadata": {
  "kernelspec": {
   "display_name": "Python 3",
   "language": "python",
   "name": "python3"
  },
  "language_info": {
   "codemirror_mode": {
    "name": "ipython",
    "version": 3
   },
   "file_extension": ".py",
   "mimetype": "text/x-python",
   "name": "python",
   "nbconvert_exporter": "python",
   "pygments_lexer": "ipython3",
   "version": "3.7.4"
  },
  "toc": {
   "base_numbering": 1,
   "nav_menu": {},
   "number_sections": true,
   "sideBar": true,
   "skip_h1_title": false,
   "title_cell": "Table of Contents",
   "title_sidebar": "Contents",
   "toc_cell": false,
   "toc_position": {},
   "toc_section_display": true,
   "toc_window_display": false
  },
  "varInspector": {
   "cols": {
    "lenName": 16,
    "lenType": 16,
    "lenVar": 40
   },
   "kernels_config": {
    "python": {
     "delete_cmd_postfix": "",
     "delete_cmd_prefix": "del ",
     "library": "var_list.py",
     "varRefreshCmd": "print(var_dic_list())"
    },
    "r": {
     "delete_cmd_postfix": ") ",
     "delete_cmd_prefix": "rm(",
     "library": "var_list.r",
     "varRefreshCmd": "cat(var_dic_list()) "
    }
   },
   "types_to_exclude": [
    "module",
    "function",
    "builtin_function_or_method",
    "instance",
    "_Feature"
   ],
   "window_display": false
  }
 },
 "nbformat": 4,
 "nbformat_minor": 2
}
