{
 "cells": [
  {
   "cell_type": "code",
   "execution_count": null,
   "metadata": {
    "ExecuteTime": {
     "end_time": "2020-07-22T05:15:11.521224Z",
     "start_time": "2020-07-22T05:15:10.656115Z"
    }
   },
   "outputs": [],
   "source": [
    "import mytools\n",
    "import pandas as pd\n",
    "import geopandas as gpd"
   ]
  },
  {
   "cell_type": "markdown",
   "metadata": {},
   "source": [
    "# ---------------------空洞匹配周边的数据-----------------------"
   ]
  },
  {
   "cell_type": "markdown",
   "metadata": {},
   "source": [
    "# 导入数据"
   ]
  },
  {
   "cell_type": "code",
   "execution_count": null,
   "metadata": {
    "ExecuteTime": {
     "end_time": "2020-07-21T08:03:43.380361Z",
     "start_time": "2020-07-21T08:03:42.144204Z"
    }
   },
   "outputs": [],
   "source": [
    "liuliang = pd.read_csv('G:/1-规划/评估/覆盖空洞/20200712第四版本/1-基础数据/流量/20200721LIULIANG.CSV',encoding='gbk')"
   ]
  },
  {
   "cell_type": "code",
   "execution_count": null,
   "metadata": {
    "ExecuteTime": {
     "end_time": "2020-07-21T08:03:43.411865Z",
     "start_time": "2020-07-21T08:03:43.382361Z"
    }
   },
   "outputs": [],
   "source": [
    "liuliang['总流量'] = liuliang['空口上行业务字节数']+liuliang['空口下行业务字节数']"
   ]
  },
  {
   "cell_type": "code",
   "execution_count": null,
   "metadata": {
    "ExecuteTime": {
     "end_time": "2020-07-21T08:03:44.837546Z",
     "start_time": "2020-07-21T08:03:43.413865Z"
    }
   },
   "outputs": [],
   "source": [
    "ruancai = pd.read_csv('G:/1-规划/评估/覆盖空洞/20200712第四版本/1-基础数据/软采数据/软采小区总数据.csv',encoding='gbk')"
   ]
  },
  {
   "cell_type": "code",
   "execution_count": null,
   "metadata": {
    "ExecuteTime": {
     "end_time": "2020-07-21T08:04:43.210458Z",
     "start_time": "2020-07-21T08:03:44.839546Z"
    }
   },
   "outputs": [],
   "source": [
    "tousu = pd.read_excel('G:/1-规划/评估/覆盖空洞/20200712第四版本/1-基础数据/广义投诉/广义投诉CI表-0715(1).xlsx',encoding='gbk')"
   ]
  },
  {
   "cell_type": "code",
   "execution_count": null,
   "metadata": {
    "ExecuteTime": {
     "end_time": "2020-07-21T08:04:43.228461Z",
     "start_time": "2020-07-21T08:04:43.213459Z"
    }
   },
   "outputs": [],
   "source": [
    "tousu['2020年总投诉量'] = tousu['2020年1月投诉量']+tousu['2020年2月投诉量']+tousu['2020年3月投诉量']+tousu['2020年4月投诉量']+tousu['2020年5月投诉量']+tousu['2020年6月投诉量']"
   ]
  },
  {
   "cell_type": "code",
   "execution_count": null,
   "metadata": {
    "ExecuteTime": {
     "end_time": "2020-07-21T08:04:44.547128Z",
     "start_time": "2020-07-21T08:04:43.233461Z"
    }
   },
   "outputs": [],
   "source": [
    "res1 = pd.read_csv('G:/1-规划/评估/覆盖空洞/20200712第四版本/6-关联小区/空洞10米buffer交接对应关系/空洞和小区对应关系.csv',encoding='gbk')"
   ]
  },
  {
   "cell_type": "code",
   "execution_count": null,
   "metadata": {
    "ExecuteTime": {
     "end_time": "2020-07-21T08:04:44.642640Z",
     "start_time": "2020-07-21T08:04:44.549128Z"
    }
   },
   "outputs": [],
   "source": [
    "res1 = res1.reset_index(drop=False).reset_index().drop(columns='level_0')"
   ]
  },
  {
   "cell_type": "code",
   "execution_count": null,
   "metadata": {
    "ExecuteTime": {
     "end_time": "2020-07-21T08:04:44.697147Z",
     "start_time": "2020-07-21T08:04:44.644640Z"
    }
   },
   "outputs": [],
   "source": [
    "res1 = res1.rename(columns={'index':'index_id'})"
   ]
  },
  {
   "cell_type": "code",
   "execution_count": null,
   "metadata": {
    "ExecuteTime": {
     "end_time": "2020-07-21T08:04:45.388735Z",
     "start_time": "2020-07-21T08:04:44.698647Z"
    }
   },
   "outputs": [],
   "source": [
    "res1['enodeb'] = res1['小区CGI(*)'].str.split('-',expand=True)[2]"
   ]
  },
  {
   "cell_type": "markdown",
   "metadata": {},
   "source": [
    "# 匹配数据"
   ]
  },
  {
   "cell_type": "code",
   "execution_count": null,
   "metadata": {
    "ExecuteTime": {
     "end_time": "2020-07-21T08:04:45.836792Z",
     "start_time": "2020-07-21T08:04:45.390735Z"
    }
   },
   "outputs": [],
   "source": [
    "res2 = res1.merge(liuliang[['CGI','总流量']],how='left',left_on='小区CGI(*)',right_on='CGI')"
   ]
  },
  {
   "cell_type": "code",
   "execution_count": null,
   "metadata": {
    "ExecuteTime": {
     "end_time": "2020-07-21T08:04:46.216340Z",
     "start_time": "2020-07-21T08:04:45.839292Z"
    }
   },
   "outputs": [],
   "source": [
    "res3 = res2.merge(ruancai[['小区CGI(*)', 'rsrp_sample_count', 'rsrp_weak','a.un_maxrsrp_sample_count', 'a.un_maxrsrp_weak_l2',\n",
    "       'a.te_maxrsrp_sample_count', 'a.te_maxrsrp_weak_l2', 'fgl', '弱覆盖小区',\n",
    "       'fgl_cmcc', 'fgl_un', 'fgl_te', 'te_hd', 'un_hd', 'hd', '问题小区数']],how='left',on='小区CGI(*)')"
   ]
  },
  {
   "cell_type": "code",
   "execution_count": null,
   "metadata": {
    "ExecuteTime": {
     "end_time": "2020-07-21T08:04:46.223341Z",
     "start_time": "2020-07-21T08:04:46.218340Z"
    }
   },
   "outputs": [],
   "source": [
    "tousu['eNodeBid'] = tousu['eNodeBid'].fillna(0)"
   ]
  },
  {
   "cell_type": "code",
   "execution_count": null,
   "metadata": {
    "ExecuteTime": {
     "end_time": "2020-07-21T08:04:46.234842Z",
     "start_time": "2020-07-21T08:04:46.225841Z"
    }
   },
   "outputs": [],
   "source": [
    "tousu['eNodeBid'] = tousu['eNodeBid'].astype(int)"
   ]
  },
  {
   "cell_type": "code",
   "execution_count": null,
   "metadata": {
    "ExecuteTime": {
     "end_time": "2020-07-21T08:04:46.327854Z",
     "start_time": "2020-07-21T08:04:46.236843Z"
    }
   },
   "outputs": [],
   "source": [
    "tousu['eNodeBid'] = tousu['eNodeBid'].astype(str)"
   ]
  },
  {
   "cell_type": "code",
   "execution_count": null,
   "metadata": {
    "ExecuteTime": {
     "end_time": "2020-07-21T08:04:46.386362Z",
     "start_time": "2020-07-21T08:04:46.330354Z"
    }
   },
   "outputs": [],
   "source": [
    "tousu_sue = tousu[['eNodeBid', '2020年1月投诉量', '2020年2月投诉量', '2020年3月投诉量', '2020年4月投诉量',\n",
    "       '2020年5月投诉量', '2020年6月投诉量','2020年总投诉量']]"
   ]
  },
  {
   "cell_type": "code",
   "execution_count": null,
   "metadata": {
    "ExecuteTime": {
     "end_time": "2020-07-21T08:04:46.420366Z",
     "start_time": "2020-07-21T08:04:46.388362Z"
    }
   },
   "outputs": [],
   "source": [
    "res3['enodeb'] = res3['enodeb'].astype(str)"
   ]
  },
  {
   "cell_type": "code",
   "execution_count": null,
   "metadata": {
    "ExecuteTime": {
     "end_time": "2020-07-21T08:04:46.597888Z",
     "start_time": "2020-07-21T08:04:46.422366Z"
    }
   },
   "outputs": [],
   "source": [
    "res4 = res3.merge(tousu_sue,how='left',left_on='enodeb',right_on='eNodeBid')"
   ]
  },
  {
   "cell_type": "code",
   "execution_count": null,
   "metadata": {
    "ExecuteTime": {
     "end_time": "2020-07-21T08:04:46.798914Z",
     "start_time": "2020-07-21T08:04:46.599389Z"
    }
   },
   "outputs": [],
   "source": [
    "res5 = res4.drop_duplicates('index_id')"
   ]
  },
  {
   "cell_type": "code",
   "execution_count": null,
   "metadata": {
    "ExecuteTime": {
     "end_time": "2020-07-21T08:04:55.664540Z",
     "start_time": "2020-07-21T08:04:46.800914Z"
    }
   },
   "outputs": [],
   "source": [
    "res5.to_csv('G:/1-规划/评估/覆盖空洞/20200712第四版本/6-关联小区/空洞10米buffer交接对应关系/空洞和小区对应关系_匹配数据后.csv',encoding='gbk',index=False)"
   ]
  },
  {
   "cell_type": "markdown",
   "metadata": {},
   "source": [
    "# 匹配周边大数据栅格的信息"
   ]
  },
  {
   "cell_type": "code",
   "execution_count": null,
   "metadata": {
    "ExecuteTime": {
     "end_time": "2020-07-22T05:15:39.497277Z",
     "start_time": "2020-07-22T05:15:38.824191Z"
    }
   },
   "outputs": [],
   "source": [
    "result = pd.read_pickle('G:/1-规划/评估/覆盖空洞/20200712第四版本/3-拆分后的空洞/覆盖空19481个添加场景区分大中小微.data')"
   ]
  },
  {
   "cell_type": "code",
   "execution_count": null,
   "metadata": {
    "ExecuteTime": {
     "end_time": "2020-07-22T05:17:48.658178Z",
     "start_time": "2020-07-22T05:17:43.884572Z"
    }
   },
   "outputs": [],
   "source": [
    "grid = pd.read_pickle('G:/1-规划/评估/软采评估/2020年6月/6月评估程序-模块化/2-程序处理后数据存放/软采栅格/整理后的栅格/grid添加其他数据后.data')"
   ]
  },
  {
   "cell_type": "code",
   "execution_count": null,
   "metadata": {
    "ExecuteTime": {
     "end_time": "2020-07-22T05:18:56.652813Z",
     "start_time": "2020-07-22T05:18:27.103060Z"
    }
   },
   "outputs": [],
   "source": [
    "grid_p = mytools.gisn.add_points(grid,'lon','lat')"
   ]
  },
  {
   "cell_type": "code",
   "execution_count": null,
   "metadata": {
    "ExecuteTime": {
     "end_time": "2020-07-22T05:22:03.856084Z",
     "start_time": "2020-07-22T05:19:00.791338Z"
    }
   },
   "outputs": [],
   "source": [
    "kongd_result = gpd.sjoin(result,grid_p)"
   ]
  },
  {
   "cell_type": "code",
   "execution_count": null,
   "metadata": {
    "ExecuteTime": {
     "end_time": "2020-07-22T05:23:19.090638Z",
     "start_time": "2020-07-22T05:23:16.880857Z"
    }
   },
   "outputs": [],
   "source": [
    "kongd_result.drop(columns='geometry').to_csv(\n",
    "    'G:/1-规划/评估/覆盖空洞/20200712第四版本/6-关联小区/空洞10米buffer交接对应关系/空洞和栅格数据匹配.csv',\n",
    "    encoding='gbk',index=False)"
   ]
  },
  {
   "cell_type": "code",
   "execution_count": null,
   "metadata": {
    "ExecuteTime": {
     "end_time": "2020-07-22T05:23:25.904503Z",
     "start_time": "2020-07-22T05:23:23.723726Z"
    }
   },
   "outputs": [],
   "source": [
    "mytools.sound()"
   ]
  },
  {
   "cell_type": "markdown",
   "metadata": {},
   "source": [
    "# 空洞匹配竞对站址情况"
   ]
  },
  {
   "cell_type": "code",
   "execution_count": null,
   "metadata": {},
   "outputs": [],
   "source": [
    "result = pd.read_pickle('G:/1-规划/评估/覆盖空洞/20200712第四版本/3-拆分后的空洞/覆盖空19481个添加场景区分大中小微.data')"
   ]
  },
  {
   "cell_type": "code",
   "execution_count": null,
   "metadata": {
    "ExecuteTime": {
     "end_time": "2020-07-22T05:24:49.282091Z",
     "start_time": "2020-07-22T05:24:49.107069Z"
    }
   },
   "outputs": [],
   "source": [
    "jd_un = pd.read_csv('G:/1-规划/评估/竞对站点评估/20200617/1-基础数据/2-联通数据/联通-汇总-使用.csv',encoding='gbk')"
   ]
  },
  {
   "cell_type": "code",
   "execution_count": null,
   "metadata": {
    "ExecuteTime": {
     "end_time": "2020-07-22T05:27:50.652622Z",
     "start_time": "2020-07-22T05:27:50.535607Z"
    }
   },
   "outputs": [],
   "source": [
    "jd_te = pd.read_csv('G:/1-规划/评估/竞对站点评估/20200617/1-基础数据/3-电信数据/赵曼汇总/电信站址数.csv',encoding='gbk') "
   ]
  },
  {
   "cell_type": "code",
   "execution_count": null,
   "metadata": {
    "ExecuteTime": {
     "end_time": "2020-07-22T05:31:49.566960Z",
     "start_time": "2020-07-22T05:31:49.561960Z"
    }
   },
   "outputs": [],
   "source": [
    "jd_un.shape"
   ]
  },
  {
   "cell_type": "code",
   "execution_count": null,
   "metadata": {
    "ExecuteTime": {
     "end_time": "2020-07-22T05:28:55.979417Z",
     "start_time": "2020-07-22T05:28:55.973917Z"
    }
   },
   "outputs": [],
   "source": [
    "jd_te.columns"
   ]
  },
  {
   "cell_type": "code",
   "execution_count": null,
   "metadata": {
    "ExecuteTime": {
     "end_time": "2020-07-22T05:32:53.661599Z",
     "start_time": "2020-07-22T05:32:53.199540Z"
    }
   },
   "outputs": [],
   "source": [
    "jd_un_p = mytools.gisn.add_points(jd_un,'经度','纬度')"
   ]
  },
  {
   "cell_type": "code",
   "execution_count": null,
   "metadata": {
    "ExecuteTime": {
     "end_time": "2020-07-22T05:33:35.390398Z",
     "start_time": "2020-07-22T05:33:34.935840Z"
    }
   },
   "outputs": [],
   "source": [
    "jd_te_p = mytools.gisn.add_points(jd_te,'经度','纬度')"
   ]
  },
  {
   "cell_type": "code",
   "execution_count": null,
   "metadata": {
    "ExecuteTime": {
     "end_time": "2020-07-22T05:33:42.571810Z",
     "start_time": "2020-07-22T05:33:40.259516Z"
    }
   },
   "outputs": [],
   "source": [
    "jd_un_p.plot(figsize=[11,11])"
   ]
  },
  {
   "cell_type": "code",
   "execution_count": null,
   "metadata": {
    "ExecuteTime": {
     "end_time": "2020-07-22T05:33:52.057014Z",
     "start_time": "2020-07-22T05:33:47.499936Z"
    }
   },
   "outputs": [],
   "source": [
    "kongd_un = gpd.sjoin(result,jd_un_p)"
   ]
  },
  {
   "cell_type": "code",
   "execution_count": null,
   "metadata": {
    "ExecuteTime": {
     "end_time": "2020-07-22T05:34:01.676736Z",
     "start_time": "2020-07-22T05:33:57.127158Z"
    }
   },
   "outputs": [],
   "source": [
    "kongd_te = gpd.sjoin(result,jd_te_p)"
   ]
  },
  {
   "cell_type": "code",
   "execution_count": null,
   "metadata": {
    "ExecuteTime": {
     "end_time": "2020-07-22T05:34:06.826390Z",
     "start_time": "2020-07-22T05:34:06.795886Z"
    }
   },
   "outputs": [],
   "source": [
    "kongd_un.drop(columns='geometry').to_csv(\n",
    "    'G:/1-规划/评估/覆盖空洞/20200712第四版本/6-关联小区/空洞10米buffer交接对应关系/空洞和联通数据匹配.csv',\n",
    "    encoding='gbk',index=False)"
   ]
  },
  {
   "cell_type": "code",
   "execution_count": null,
   "metadata": {
    "ExecuteTime": {
     "end_time": "2020-07-22T05:34:11.980044Z",
     "start_time": "2020-07-22T05:34:11.953541Z"
    }
   },
   "outputs": [],
   "source": [
    "kongd_te.drop(columns='geometry').to_csv(\n",
    "    'G:/1-规划/评估/覆盖空洞/20200712第四版本/6-关联小区/空洞10米buffer交接对应关系/空洞和电信数据匹配.csv',\n",
    "    encoding='gbk',index=False)"
   ]
  },
  {
   "cell_type": "markdown",
   "metadata": {},
   "source": [
    "# 匹配周边的资源池数据"
   ]
  },
  {
   "cell_type": "code",
   "execution_count": null,
   "metadata": {
    "ExecuteTime": {
     "end_time": "2020-07-22T06:59:46.726574Z",
     "start_time": "2020-07-22T06:59:46.441038Z"
    }
   },
   "outputs": [],
   "source": [
    "result = pd.read_pickle('G:/1-规划/评估/覆盖空洞/20200712第四版本/3-拆分后的空洞/覆盖空19481个添加场景区分大中小微.data')"
   ]
  },
  {
   "cell_type": "code",
   "execution_count": null,
   "metadata": {
    "ExecuteTime": {
     "end_time": "2020-07-22T06:59:51.891230Z",
     "start_time": "2020-07-22T06:59:51.875228Z"
    }
   },
   "outputs": [],
   "source": [
    "ziyuan = pd.read_csv('C:/Users/Administrator/Desktop/规划资源池.csv',encoding='gbk')"
   ]
  },
  {
   "cell_type": "code",
   "execution_count": null,
   "metadata": {
    "ExecuteTime": {
     "end_time": "2020-07-22T06:59:57.059386Z",
     "start_time": "2020-07-22T06:59:57.044885Z"
    }
   },
   "outputs": [],
   "source": [
    "ziyuan.head(1)"
   ]
  },
  {
   "cell_type": "code",
   "execution_count": null,
   "metadata": {
    "ExecuteTime": {
     "end_time": "2020-07-22T07:00:02.485575Z",
     "start_time": "2020-07-22T07:00:02.452571Z"
    }
   },
   "outputs": [],
   "source": [
    "ziyuan_p = mytools.gisn.add_points(ziyuan,'lon','lat')"
   ]
  },
  {
   "cell_type": "code",
   "execution_count": null,
   "metadata": {
    "ExecuteTime": {
     "end_time": "2020-07-22T07:00:10.230559Z",
     "start_time": "2020-07-22T07:00:07.933767Z"
    }
   },
   "outputs": [],
   "source": [
    "kongd_ziyuan = gpd.sjoin(result,ziyuan_p)"
   ]
  },
  {
   "cell_type": "code",
   "execution_count": null,
   "metadata": {
    "ExecuteTime": {
     "end_time": "2020-07-22T07:00:21.314466Z",
     "start_time": "2020-07-22T07:00:21.298964Z"
    }
   },
   "outputs": [],
   "source": [
    "kongd_ziyuan.drop(columns='geometry').to_csv(\n",
    "    'G:/1-规划/评估/覆盖空洞/20200712第四版本/6-关联小区/空洞10米buffer交接对应关系/空洞和资源池数据匹配.csv',\n",
    "    encoding='gbk',index=False)"
   ]
  },
  {
   "cell_type": "code",
   "execution_count": null,
   "metadata": {},
   "outputs": [],
   "source": [
    "s"
   ]
  }
 ],
 "metadata": {
  "kernelspec": {
   "display_name": "Python 3",
   "language": "python",
   "name": "python3"
  },
  "language_info": {
   "codemirror_mode": {
    "name": "ipython",
    "version": 3
   },
   "file_extension": ".py",
   "mimetype": "text/x-python",
   "name": "python",
   "nbconvert_exporter": "python",
   "pygments_lexer": "ipython3",
   "version": "3.7.4"
  },
  "toc": {
   "base_numbering": 1,
   "nav_menu": {},
   "number_sections": true,
   "sideBar": true,
   "skip_h1_title": false,
   "title_cell": "Table of Contents",
   "title_sidebar": "Contents",
   "toc_cell": false,
   "toc_position": {},
   "toc_section_display": true,
   "toc_window_display": false
  },
  "varInspector": {
   "cols": {
    "lenName": 16,
    "lenType": 16,
    "lenVar": 40
   },
   "kernels_config": {
    "python": {
     "delete_cmd_postfix": "",
     "delete_cmd_prefix": "del ",
     "library": "var_list.py",
     "varRefreshCmd": "print(var_dic_list())"
    },
    "r": {
     "delete_cmd_postfix": ") ",
     "delete_cmd_prefix": "rm(",
     "library": "var_list.r",
     "varRefreshCmd": "cat(var_dic_list()) "
    }
   },
   "types_to_exclude": [
    "module",
    "function",
    "builtin_function_or_method",
    "instance",
    "_Feature"
   ],
   "window_display": false
  }
 },
 "nbformat": 4,
 "nbformat_minor": 2
}
