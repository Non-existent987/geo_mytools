{
 "cells": [
  {
   "cell_type": "code",
   "execution_count": null,
   "metadata": {
    "ExecuteTime": {
     "end_time": "2020-08-12T09:40:07.952860Z",
     "start_time": "2020-08-12T09:40:07.094250Z"
    }
   },
   "outputs": [],
   "source": [
    "import mytools\n",
    "import geopandas as gpd\n",
    "import pandas as pd\n",
    "import numpy as np\n",
    "from shapely.geometry import Polygon,Point,LineString,MultiPolygon"
   ]
  },
  {
   "cell_type": "markdown",
   "metadata": {},
   "source": [
    "# 小区和站点对应关系"
   ]
  },
  {
   "cell_type": "code",
   "execution_count": null,
   "metadata": {
    "ExecuteTime": {
     "end_time": "2020-08-12T23:37:45.356739Z",
     "start_time": "2020-08-12T23:37:43.933059Z"
    }
   },
   "outputs": [],
   "source": [
    "data_z=pd.read_csv('G:/1-规划/评估/覆盖空洞/20200712第四版本/9-评估搬迁站点/2-输出数据/汇总.csv',encoding='gbk')"
   ]
  },
  {
   "cell_type": "markdown",
   "metadata": {},
   "source": [
    "# 全网小区覆盖区域计算\n",
    "### --更新热点场景乡镇"
   ]
  },
  {
   "cell_type": "code",
   "execution_count": null,
   "metadata": {
    "ExecuteTime": {
     "end_time": "2020-08-12T09:40:15.175777Z",
     "start_time": "2020-08-12T09:40:10.458178Z"
    }
   },
   "outputs": [],
   "source": [
    "#导入工参数据\n",
    "gongcan = pd.read_csv(open('G:/1-规划/评估/覆盖空洞/20200712第四版本/1-基础数据/ltejizhan20200616&微站_合并.csv',encoding='gbk'),usecols=[\n",
    "    '小区CGI(*)','所属地区','小区中文名','RRU经度', 'RRU纬度','天线挂高','工作频段', '方位角','归属区县','厂家名称' ])\n",
    "#设置变量通用名\n",
    "print('设置变量通用名')\n",
    "id = '小区CGI(*)'\n",
    "lon = 'RRU经度'\n",
    "lat = 'RRU纬度'\n",
    "zhishi = '工作频段'\n",
    "fw = '方位角'\n",
    "\n",
    "gongcan = gongcan.loc[(gongcan['RRU经度']>108)&\n",
    "            (gongcan['RRU经度']<117)&\n",
    "            (gongcan['RRU纬度']>28)&\n",
    "            (gongcan['RRU纬度']<34)&\n",
    "           (gongcan['方位角'].notnull())]"
   ]
  },
  {
   "cell_type": "code",
   "execution_count": null,
   "metadata": {
    "ExecuteTime": {
     "end_time": "2020-08-12T09:40:20.585964Z",
     "start_time": "2020-08-12T09:40:20.054896Z"
    }
   },
   "outputs": [],
   "source": [
    "#只要宏站\n",
    "gongcan['小区中文名'] = gongcan['小区中文名'].fillna('无')\n",
    "gongcan = gongcan.loc[~gongcan['小区中文名'].str.contains('W-')]\n",
    "gongcan = gongcan.loc[~gongcan['小区中文名'].str.contains('R')]\n",
    "# gongcan = gongcan.loc[~gongcan['小区中文名'].str.contains('M-')]"
   ]
  },
  {
   "cell_type": "code",
   "execution_count": null,
   "metadata": {
    "ExecuteTime": {
     "end_time": "2020-08-12T09:40:43.209337Z",
     "start_time": "2020-08-12T09:40:42.963305Z"
    }
   },
   "outputs": [],
   "source": [
    "gongcan['小区中文名'] = gongcan['小区中文名'].fillna('无')\n",
    "gongcan.loc[gongcan['小区中文名'].str.contains('M-')].shape"
   ]
  },
  {
   "cell_type": "code",
   "execution_count": null,
   "metadata": {
    "ExecuteTime": {
     "end_time": "2020-08-12T09:41:38.706884Z",
     "start_time": "2020-08-12T09:41:08.772583Z"
    }
   },
   "outputs": [],
   "source": [
    "#打标场景\n",
    "gongcan = mytools.gisn.points_coverage_merge(gongcan,lon,lat)\n",
    "print('添加覆盖距离')\n",
    "gongcan_loc_juli = mytools.gisn.changjing_distance(gongcan,'区域类型',zhishi)"
   ]
  },
  {
   "cell_type": "markdown",
   "metadata": {},
   "source": [
    "### 按照覆盖模型修复"
   ]
  },
  {
   "cell_type": "code",
   "execution_count": null,
   "metadata": {
    "ExecuteTime": {
     "end_time": "2020-08-12T09:42:02.010843Z",
     "start_time": "2020-08-12T09:42:01.653298Z"
    }
   },
   "outputs": [],
   "source": [
    "gongcan_loc_juli['工作频段'] = gongcan_loc_juli['工作频段'].apply(lambda x: 900 if x=='FDD900' else 1800)\n",
    "gd,band= map(np.log10, (gongcan_loc_juli['天线挂高'],gongcan_loc_juli['工作频段']))\n",
    "gongcan_loc_juli['覆盖模型距离'] = np.power(10,\n",
    "                                      (148 - (46.3+33.9*band-13.82*gd-(-3.81))- 3)/(44.9-6.55*gd))*1000\n",
    "gongcan_loc_juli['30米覆盖模型距离'] = np.power(10,\n",
    "                                      (148 - (46.3+33.9*band-13.82*np.log10(30)-(-3.81))- 3)/(44.9-6.55*np.log10(30)))*1000\n",
    "gongcan_loc_juli['使用覆盖半径'] = gongcan_loc_juli['覆盖模型距离'] /gongcan_loc_juli['30米覆盖模型距离']*gongcan_loc_juli['distance']"
   ]
  },
  {
   "cell_type": "code",
   "execution_count": null,
   "metadata": {
    "ExecuteTime": {
     "end_time": "2020-08-12T09:42:10.239388Z",
     "start_time": "2020-08-12T09:42:10.221886Z"
    }
   },
   "outputs": [],
   "source": [
    "def fuck(x):\n",
    "    if x['区域类型']=='主城区':\n",
    "        if x['工作频段']==900:\n",
    "            if x['使用覆盖半径']<200:\n",
    "                return 200\n",
    "            elif x['使用覆盖半径']>400:\n",
    "                return 400\n",
    "            else:\n",
    "                return x['使用覆盖半径']\n",
    "        else:\n",
    "            if x['使用覆盖半径']<150:\n",
    "                return 150\n",
    "            elif x['使用覆盖半径']>350:\n",
    "                return 350\n",
    "            else:\n",
    "                return x['使用覆盖半径']\n",
    "    elif  x['区域类型']=='县城':\n",
    "        if x['工作频段']==900:\n",
    "            if x['使用覆盖半径']<300:\n",
    "                return 300\n",
    "            elif x['使用覆盖半径']>430:\n",
    "                return 430\n",
    "            else:\n",
    "                return x['使用覆盖半径']\n",
    "        else:\n",
    "            if x['使用覆盖半径']<250:\n",
    "                return 250\n",
    "            elif x['使用覆盖半径']>400:\n",
    "                return 400\n",
    "            else:\n",
    "                return x['使用覆盖半径']\n",
    "    elif  x['区域类型']=='一般城区':\n",
    "        if x['工作频段']==900:\n",
    "            if x['使用覆盖半径']<400:\n",
    "                return 400\n",
    "            elif x['使用覆盖半径']>1200:\n",
    "                return 1200\n",
    "            else:\n",
    "                return x['使用覆盖半径']\n",
    "        else:\n",
    "            if x['使用覆盖半径']<350:\n",
    "                return 350\n",
    "            elif x['使用覆盖半径']>800:\n",
    "                return 800\n",
    "            else:\n",
    "                return x['使用覆盖半径']\n",
    "    elif  x['区域类型']=='乡镇':\n",
    "        if x['工作频段']==900:\n",
    "            if x['使用覆盖半径']<430:\n",
    "                return 430\n",
    "            elif x['使用覆盖半径']>2200:\n",
    "                return 2200\n",
    "            else:\n",
    "                return x['使用覆盖半径']\n",
    "        else:\n",
    "            if x['使用覆盖半径']<400:\n",
    "                return 400\n",
    "            elif x['使用覆盖半径']>1000:\n",
    "                return 1000\n",
    "            else:\n",
    "                return x['使用覆盖半径']\n",
    "    elif  x['区域类型']=='农村':\n",
    "        if x['工作频段']==900:\n",
    "            if x['使用覆盖半径']<1200:\n",
    "                return 1200\n",
    "            elif x['使用覆盖半径']>2500:\n",
    "                return 2500\n",
    "            else:\n",
    "                return x['使用覆盖半径']\n",
    "        else:\n",
    "            if x['使用覆盖半径']<800:\n",
    "                return 800\n",
    "            elif x['使用覆盖半径']>1500:\n",
    "                return 1500\n",
    "            else:\n",
    "                return x['使用覆盖半径']\n",
    "    else:\n",
    "        return 0"
   ]
  },
  {
   "cell_type": "code",
   "execution_count": null,
   "metadata": {
    "ExecuteTime": {
     "end_time": "2020-08-12T09:42:55.219100Z",
     "start_time": "2020-08-12T09:42:17.829352Z"
    }
   },
   "outputs": [],
   "source": [
    "gongcan_loc_juli['distance_use'] = gongcan_loc_juli.apply(fuck,axis=1)"
   ]
  },
  {
   "cell_type": "markdown",
   "metadata": {},
   "source": [
    "### 按照周边建筑高度修复 "
   ]
  },
  {
   "cell_type": "code",
   "execution_count": null,
   "metadata": {
    "ExecuteTime": {
     "end_time": "2020-08-12T10:06:17.963226Z",
     "start_time": "2020-08-12T09:43:18.984117Z"
    }
   },
   "outputs": [],
   "source": [
    "gongcan_loc_juli['distance_yb'] = gongcan_loc_juli['distance']/2\n",
    "gongcan_sectors = mytools.gisn.add_sectors_df(gongcan_loc_juli,coords=['RRU经度', 'RRU纬度', 'd_height', '方位角', 'distance_yb'],\n",
    "    has_z=False,sec_col='geometry',shape_dict={'beam': 120, 'per_degree': 10})\n",
    "f = mytools.othern.file_name_paths('G:/1-规划/图层/湖北建筑/湖北建筑/湖北建筑/',find='tab')\n",
    "sjoin_data = gpd.GeoDataFrame()\n",
    "for name in f:\n",
    "    tuceng_t = gpd.read_file(name,encoding = 'gbk')\n",
    "    tuceng_t = tuceng_t.to_crs({'init': 'epsg:4326'})\n",
    "    linshi_t = gpd.sjoin(gongcan_sectors,tuceng_t)\n",
    "    linshi_t = linshi_t[[ '小区CGI(*)','建筑物高度','SHAPE_Area']]\n",
    "    sjoin_data = sjoin_data.append(linshi_t)\n",
    "    print(name,'ok')"
   ]
  },
  {
   "cell_type": "code",
   "execution_count": null,
   "metadata": {
    "ExecuteTime": {
     "end_time": "2020-08-12T10:06:19.950478Z",
     "start_time": "2020-08-12T10:06:18.554801Z"
    }
   },
   "outputs": [],
   "source": [
    "sjoin_data['volume'] = sjoin_data['建筑物高度'] * sjoin_data['SHAPE_Area']\n",
    "sjoin_data_volume_h = sjoin_data.groupby('小区CGI(*)').agg({'volume':'sum','SHAPE_Area':'sum'})\n",
    "sjoin_data_volume_h['h_use'] = sjoin_data_volume_h['volume'] / sjoin_data_volume_h['SHAPE_Area']\n",
    "sjoin_data_linshi = sjoin_data_volume_h.reset_index()\n",
    "gongcan_zhangao = gongcan_loc_juli.merge(sjoin_data_linshi[['小区CGI(*)','h_use']],how='left',on='小区CGI(*)')\n",
    "gongcan_zhangao['高度建筑比'] = (gongcan_zhangao['天线挂高']-gongcan_zhangao['h_use'])/gongcan_zhangao['天线挂高']"
   ]
  },
  {
   "cell_type": "code",
   "execution_count": null,
   "metadata": {
    "ExecuteTime": {
     "end_time": "2020-08-12T10:06:20.566056Z",
     "start_time": "2020-08-12T10:06:20.559055Z"
    }
   },
   "outputs": [],
   "source": [
    "def fuck2(x):\n",
    "    if (pd.isna(x['distance_use'])) | (x['distance_use']==0 ):\n",
    "        return x['distance']\n",
    "    elif pd.isna(x['高度建筑比']):\n",
    "        return x['distance_use']\n",
    "    elif x['高度建筑比']>=0.4:\n",
    "        return x['distance_use']*1.1\n",
    "    elif x['高度建筑比']>=0.2 and x['高度建筑比']<0.4:\n",
    "        return x['distance_use']\n",
    "    elif x['高度建筑比']>=0 and x['高度建筑比']<0.2:\n",
    "        return x['distance_use']*0.8\n",
    "    elif x['高度建筑比']<0:\n",
    "        return x['distance_use']*0.5\n",
    "    else:\n",
    "        return x['distance_use']"
   ]
  },
  {
   "cell_type": "code",
   "execution_count": null,
   "metadata": {
    "ExecuteTime": {
     "end_time": "2020-08-12T10:21:16.196287Z",
     "start_time": "2020-08-12T10:20:38.364983Z"
    }
   },
   "outputs": [],
   "source": [
    "gongcan_zhangao['distance_use_3'] = gongcan_zhangao.apply(fuck2,axis=1)\n",
    "gongcan_zhangao.loc[gongcan_zhangao['distance_use_3'].isna()]\n",
    "gongcan_zhangao.loc[gongcan_zhangao['小区中文名'].str.contains('M-'),'distance_use_3']=50\n",
    "gongcan_zhangao.to_csv('G:/1-规划/评估/覆盖空洞/20200712第四版本/9-评估搬迁站点/20200812重构/1-全网小区半径修正后-更新了热点为乡镇/全网覆盖区域修正后.csv',encoding='gbk')\n",
    "mytools.sound()"
   ]
  },
  {
   "cell_type": "code",
   "execution_count": null,
   "metadata": {
    "ExecuteTime": {
     "end_time": "2020-08-12T10:33:42.231521Z",
     "start_time": "2020-08-12T10:27:19.696945Z"
    }
   },
   "outputs": [],
   "source": [
    "#做扇区\n",
    "print('做扇区')\n",
    "gongcan_s = mytools.gisn.add_sectors_df(gongcan_zhangao,coords=['RRU经度', 'RRU纬度', 'd_height', '方位角', 'distance_use_3'], has_z=False, sec_col='geometry', shape_dict={'beam': 120, 'per_degree': 10})"
   ]
  },
  {
   "cell_type": "code",
   "execution_count": null,
   "metadata": {
    "ExecuteTime": {
     "end_time": "2020-08-12T10:33:43.421172Z",
     "start_time": "2020-08-12T10:33:43.395169Z"
    }
   },
   "outputs": [],
   "source": [
    "gongcan_s['归属区县'] = gongcan_s['归属区县'].fillna('wu')"
   ]
  },
  {
   "cell_type": "code",
   "execution_count": null,
   "metadata": {
    "ExecuteTime": {
     "end_time": "2020-08-12T10:33:54.756111Z",
     "start_time": "2020-08-12T10:33:44.495809Z"
    }
   },
   "outputs": [],
   "source": [
    "gongcan_s.to_pickle(\n",
    "    'G:/1-规划/评估/覆盖空洞/20200712第四版本/9-评估搬迁站点/20200812重构/1-全网小区半径修正后-更新了热点为乡镇/全网覆盖区域修正后_扇区.data')"
   ]
  },
  {
   "cell_type": "markdown",
   "metadata": {},
   "source": [
    "# 去掉农村覆盖到场景边界内的区域"
   ]
  },
  {
   "cell_type": "code",
   "execution_count": null,
   "metadata": {
    "ExecuteTime": {
     "end_time": "2020-08-12T10:33:55.802744Z",
     "start_time": "2020-08-12T10:33:55.799744Z"
    }
   },
   "outputs": [],
   "source": [
    "#---------------------------规划图层缩小50%的距离---------------------------"
   ]
  },
  {
   "cell_type": "code",
   "execution_count": null,
   "metadata": {
    "ExecuteTime": {
     "end_time": "2020-08-12T10:33:57.071405Z",
     "start_time": "2020-08-12T10:33:56.820874Z"
    }
   },
   "outputs": [],
   "source": [
    "guihua = gpd.read_file('G:/1-规划/图层/全省区域规划图层20200110/全省区域规划图层20200110.TAB',encoding='gbk')"
   ]
  },
  {
   "cell_type": "code",
   "execution_count": null,
   "metadata": {
    "ExecuteTime": {
     "end_time": "2020-08-12T10:33:58.085034Z",
     "start_time": "2020-08-12T10:33:58.078033Z"
    }
   },
   "outputs": [],
   "source": [
    "guihua['区域类型2'] = guihua['区域类型'].replace({'3A景区':'农村','4A景区':'农村','5A景区':'农村','景区':'农村','热点':'乡镇'})"
   ]
  },
  {
   "cell_type": "code",
   "execution_count": null,
   "metadata": {
    "ExecuteTime": {
     "end_time": "2020-08-12T10:33:59.199676Z",
     "start_time": "2020-08-12T10:33:59.192175Z"
    }
   },
   "outputs": [],
   "source": [
    "guihua_use = guihua.loc[guihua['区域类型2']!='农村']"
   ]
  },
  {
   "cell_type": "code",
   "execution_count": null,
   "metadata": {
    "ExecuteTime": {
     "end_time": "2020-08-12T10:34:00.258310Z",
     "start_time": "2020-08-12T10:34:00.248809Z"
    }
   },
   "outputs": [],
   "source": [
    "guihua_yiban = mytools.gisn.changjing_distance(guihua_use,'区域类型2','区域类型')"
   ]
  },
  {
   "cell_type": "code",
   "execution_count": null,
   "metadata": {
    "ExecuteTime": {
     "end_time": "2020-08-12T10:34:01.339447Z",
     "start_time": "2020-08-12T10:34:01.331947Z"
    }
   },
   "outputs": [],
   "source": [
    "guihua_yiban['distance2'] = 0-guihua_yiban['distance']/2"
   ]
  },
  {
   "cell_type": "code",
   "execution_count": null,
   "metadata": {
    "ExecuteTime": {
     "end_time": "2020-08-12T10:34:21.565016Z",
     "start_time": "2020-08-12T10:34:02.390081Z"
    }
   },
   "outputs": [],
   "source": [
    "guihua_res = mytools.gisn.buffer_df(guihua_yiban,'distance2')"
   ]
  },
  {
   "cell_type": "code",
   "execution_count": null,
   "metadata": {
    "ExecuteTime": {
     "end_time": "2020-08-12T10:34:22.677657Z",
     "start_time": "2020-08-12T10:34:22.673657Z"
    }
   },
   "outputs": [],
   "source": [
    "guihua_res.columns =['city', 'region', 'name', 'type', 'area', 'geometry', 'type2', 'distance','distance2']"
   ]
  },
  {
   "cell_type": "code",
   "execution_count": null,
   "metadata": {
    "ExecuteTime": {
     "end_time": "2020-08-12T10:34:23.859807Z",
     "start_time": "2020-08-12T10:34:23.797799Z"
    }
   },
   "outputs": [],
   "source": [
    "guihua_res.to_pickle(\n",
    "    'G:/1-规划/评估/覆盖空洞/20200712第四版本/9-评估搬迁站点/20200812重构/1-全网小区半径修正后-更新了热点为乡镇/非农村场景缩小.data')"
   ]
  },
  {
   "cell_type": "code",
   "execution_count": null,
   "metadata": {},
   "outputs": [],
   "source": [
    "#---------------------------农村场景去掉非农村场景的部分---------------------------"
   ]
  },
  {
   "cell_type": "code",
   "execution_count": null,
   "metadata": {
    "ExecuteTime": {
     "end_time": "2020-08-12T10:34:35.672807Z",
     "start_time": "2020-08-12T10:34:35.564293Z"
    }
   },
   "outputs": [],
   "source": [
    "gongcan_s_nc = gongcan_s.loc[gongcan_s['区域类型']=='农村']"
   ]
  },
  {
   "cell_type": "code",
   "execution_count": null,
   "metadata": {
    "ExecuteTime": {
     "end_time": "2020-08-12T10:34:36.959471Z",
     "start_time": "2020-08-12T10:34:36.944469Z"
    }
   },
   "outputs": [],
   "source": [
    "gongcan_s_nc['所属地区'] = gongcan_s_nc['所属地区'].fillna('wu')"
   ]
  },
  {
   "cell_type": "code",
   "execution_count": null,
   "metadata": {
    "ExecuteTime": {
     "end_time": "2020-08-12T10:46:34.757619Z",
     "start_time": "2020-08-12T10:46:34.730116Z"
    }
   },
   "outputs": [],
   "source": [
    "gongcan_s_nc = gongcan_s_nc.reset_index(drop=True)"
   ]
  },
  {
   "cell_type": "code",
   "execution_count": null,
   "metadata": {
    "ExecuteTime": {
     "end_time": "2020-08-12T12:03:07.654843Z",
     "start_time": "2020-08-12T12:03:07.650343Z"
    }
   },
   "outputs": [],
   "source": [
    "guihua_res['省份']='hb'"
   ]
  },
  {
   "cell_type": "code",
   "execution_count": null,
   "metadata": {
    "ExecuteTime": {
     "end_time": "2020-08-12T12:03:10.146660Z",
     "start_time": "2020-08-12T12:03:08.972511Z"
    }
   },
   "outputs": [],
   "source": [
    "guihua_res_use = guihua_res.dissolve(by='省份')"
   ]
  },
  {
   "cell_type": "code",
   "execution_count": null,
   "metadata": {},
   "outputs": [],
   "source": [
    "guihua_res_use.shape[0]"
   ]
  },
  {
   "cell_type": "code",
   "execution_count": null,
   "metadata": {
    "ExecuteTime": {
     "end_time": "2020-08-12T17:24:28.311176Z",
     "start_time": "2020-08-12T12:03:15.392826Z"
    },
    "scrolled": true
   },
   "outputs": [],
   "source": [
    "gongcan_s_nc_z = gpd.GeoDataFrame()\n",
    "for nu in range(0,guihua_res_use.shape[0]-1):\n",
    "    temp_s = gongcan_s_nc.loc[gongcan_s_nc.index==nu]\n",
    "    temp_s1 = gpd.overlay(temp_s,guihua_res_use,how='difference')\n",
    "    gongcan_s_nc_z = gongcan_s_nc_z.append(temp_s1)\n",
    "    print(nu)"
   ]
  },
  {
   "cell_type": "code",
   "execution_count": null,
   "metadata": {
    "ExecuteTime": {
     "end_time": "2020-08-12T23:36:38.032690Z",
     "start_time": "2020-08-12T23:36:37.900173Z"
    }
   },
   "outputs": [],
   "source": [
    "gongcan_s_fnc = gongcan_s.loc[~(gongcan_s['区域类型']=='农村')]"
   ]
  },
  {
   "cell_type": "code",
   "execution_count": null,
   "metadata": {
    "ExecuteTime": {
     "end_time": "2020-08-12T23:36:40.805042Z",
     "start_time": "2020-08-12T23:36:40.625519Z"
    },
    "scrolled": true
   },
   "outputs": [],
   "source": [
    "gongcan_s_res = gongcan_s_nc_z.append(gongcan_s_fnc)"
   ]
  },
  {
   "cell_type": "code",
   "execution_count": null,
   "metadata": {
    "ExecuteTime": {
     "end_time": "2020-08-12T23:36:45.313615Z",
     "start_time": "2020-08-12T23:36:43.168842Z"
    }
   },
   "outputs": [],
   "source": [
    "mytools.sound()"
   ]
  },
  {
   "cell_type": "code",
   "execution_count": null,
   "metadata": {
    "ExecuteTime": {
     "end_time": "2020-08-12T23:37:00.453037Z",
     "start_time": "2020-08-12T23:36:50.135727Z"
    }
   },
   "outputs": [],
   "source": [
    "gongcan_s_res.to_pickle('G:/1-规划/评估/覆盖空洞/20200712第四版本/9-评估搬迁站点/20200812重构/1-全网小区半径修正后-更新了热点为乡镇/修正农村后的单小区覆盖.data')"
   ]
  },
  {
   "cell_type": "markdown",
   "metadata": {},
   "source": [
    "# 小区单独覆盖区域计算\n",
    "### --跟新农村到非农村场景的修正"
   ]
  },
  {
   "cell_type": "code",
   "execution_count": null,
   "metadata": {
    "ExecuteTime": {
     "end_time": "2020-08-12T23:37:16.401562Z",
     "start_time": "2020-08-12T23:37:12.193528Z"
    }
   },
   "outputs": [],
   "source": [
    "gongcan_s = pd.read_pickle('G:/1-规划/评估/覆盖空洞/20200712第四版本/9-评估搬迁站点/20200812重构/1-全网小区半径修正后-更新了热点为乡镇/修正农村后的单小区覆盖.data')"
   ]
  },
  {
   "cell_type": "code",
   "execution_count": null,
   "metadata": {
    "ExecuteTime": {
     "end_time": "2020-08-12T23:37:24.956149Z",
     "start_time": "2020-08-12T23:37:24.738621Z"
    }
   },
   "outputs": [],
   "source": [
    "gongcan_s = gongcan_s[['小区CGI(*)', '小区中文名', '所属地区', 'RRU经度', 'RRU纬度', '天线挂高', '方位角', '工作频段',\n",
    "       '归属区县', '厂家名称', '区域类型','geometry']]\n"
   ]
  },
  {
   "cell_type": "code",
   "execution_count": null,
   "metadata": {
    "ExecuteTime": {
     "end_time": "2020-08-12T23:37:27.921025Z",
     "start_time": "2020-08-12T23:37:27.229937Z"
    }
   },
   "outputs": [],
   "source": [
    "gongcan_s = gongcan_s.loc[gongcan_s['归属区县']=='东湖高新开发区']"
   ]
  },
  {
   "cell_type": "code",
   "execution_count": null,
   "metadata": {
    "ExecuteTime": {
     "end_time": "2020-08-12T23:37:29.901777Z",
     "start_time": "2020-08-12T23:37:29.895276Z"
    }
   },
   "outputs": [],
   "source": [
    "gongcan_s.shape"
   ]
  },
  {
   "cell_type": "code",
   "execution_count": null,
   "metadata": {
    "ExecuteTime": {
     "end_time": "2020-08-12T23:37:31.952537Z",
     "start_time": "2020-08-12T23:37:31.941536Z"
    }
   },
   "outputs": [],
   "source": [
    "def fc(x):\n",
    "    lon = x['RRU经度']\n",
    "    lat = x['RRU纬度']\n",
    "    #筛选范围内的所有扇区\n",
    "    gongcan_s_temp = gongcan_s.loc[(gongcan_s['RRU经度']>(lon-0.05) )&(gongcan_s['RRU经度']<(lon+0.05) ) & \n",
    "                  (gongcan_s['RRU纬度']>(lat-0.05) )&(gongcan_s['RRU纬度']<(lat+0.05))]\n",
    "    #剔除掉共站址的扇区\n",
    "    b = data_z.loc[data_z['小区名']==x['小区中文名'],'站点名称']\n",
    "    if len(list(b.values)) == 0 :\n",
    "        geometry='无效数据'\n",
    "    else:\n",
    "        use_s = gongcan_s_temp.loc[~gongcan_s_temp['小区中文名'].isin(list(data_z.loc[data_z['站点名称']==b.values[0],'小区名'].values))]\n",
    "        if use_s.shape[0]<1:\n",
    "            geometry='孤站'\n",
    "        else:\n",
    "            use_s['省份'] = 'hb'\n",
    "            use_s1 = use_s.dissolve(by = '省份')\n",
    "            use_s1['geometry'] = use_s1.buffer(0.0000001)\n",
    "            geometry = x['geometry'].difference(use_s1['geometry'][0])\n",
    "            if geometry.area==0:\n",
    "                geometry=1\n",
    "    return geometry"
   ]
  },
  {
   "cell_type": "code",
   "execution_count": null,
   "metadata": {
    "ExecuteTime": {
     "end_time": "2020-08-13T01:44:10.046373Z",
     "start_time": "2020-08-12T23:37:50.394879Z"
    },
    "scrolled": true
   },
   "outputs": [],
   "source": [
    "gongcan_s['ji_geo'] = gongcan_s.apply(fc,axis=1)#gongcan_s.iloc[36160:36177,]"
   ]
  },
  {
   "cell_type": "code",
   "execution_count": null,
   "metadata": {
    "ExecuteTime": {
     "end_time": "2020-08-13T01:44:14.488937Z",
     "start_time": "2020-08-13T01:44:12.340664Z"
    }
   },
   "outputs": [],
   "source": [
    "mytools.sound()"
   ]
  },
  {
   "cell_type": "markdown",
   "metadata": {},
   "source": [
    "# 面积计算"
   ]
  },
  {
   "cell_type": "code",
   "execution_count": null,
   "metadata": {
    "ExecuteTime": {
     "end_time": "2020-08-13T02:24:49.958702Z",
     "start_time": "2020-08-13T02:24:47.532394Z"
    }
   },
   "outputs": [],
   "source": [
    "gongcan_s_area = mytools.gisn.add_area(gongcan_s,'自身面积')"
   ]
  },
  {
   "cell_type": "code",
   "execution_count": null,
   "metadata": {
    "ExecuteTime": {
     "end_time": "2020-08-13T02:24:52.381010Z",
     "start_time": "2020-08-13T02:24:52.360007Z"
    }
   },
   "outputs": [],
   "source": [
    "gongcan_s_area_1 = gongcan_s_area.loc[~((gongcan_s_area['ji_geo']==1) | (gongcan_s_area['ji_geo']=='无效数据') | (gongcan_s_area['ji_geo']=='孤站')) ]"
   ]
  },
  {
   "cell_type": "code",
   "execution_count": null,
   "metadata": {
    "ExecuteTime": {
     "end_time": "2020-08-13T02:24:54.803817Z",
     "start_time": "2020-08-13T02:24:54.781314Z"
    }
   },
   "outputs": [],
   "source": [
    "gongcan_s_area_2 = gongcan_s_area.loc[(gongcan_s_area['ji_geo']==1) | (gongcan_s_area['ji_geo']=='无效数据') | (gongcan_s_area['ji_geo']=='孤站') ]"
   ]
  },
  {
   "cell_type": "code",
   "execution_count": null,
   "metadata": {
    "ExecuteTime": {
     "end_time": "2020-08-13T02:24:57.364142Z",
     "start_time": "2020-08-13T02:24:57.356141Z"
    }
   },
   "outputs": [],
   "source": [
    "gongcan_s_area_2['单独覆盖区域面积'] = gongcan_s_area_2['ji_geo']"
   ]
  },
  {
   "cell_type": "code",
   "execution_count": null,
   "metadata": {
    "ExecuteTime": {
     "end_time": "2020-08-13T02:25:00.026481Z",
     "start_time": "2020-08-13T02:24:59.988476Z"
    }
   },
   "outputs": [],
   "source": [
    "gongcan_s_area_1 = gongcan_s_area_1.set_geometry('ji_geo')"
   ]
  },
  {
   "cell_type": "code",
   "execution_count": null,
   "metadata": {
    "ExecuteTime": {
     "end_time": "2020-08-13T02:25:04.846093Z",
     "start_time": "2020-08-13T02:25:02.658815Z"
    }
   },
   "outputs": [],
   "source": [
    "gongcan_s_area_1 = mytools.gisn.add_area(gongcan_s_area_1,'单独覆盖区域面积')"
   ]
  },
  {
   "cell_type": "code",
   "execution_count": null,
   "metadata": {
    "ExecuteTime": {
     "end_time": "2020-08-13T02:25:07.270400Z",
     "start_time": "2020-08-13T02:25:07.253398Z"
    }
   },
   "outputs": [],
   "source": [
    "res = gongcan_s_area_1.append(gongcan_s_area_2)"
   ]
  },
  {
   "cell_type": "code",
   "execution_count": null,
   "metadata": {
    "ExecuteTime": {
     "end_time": "2020-08-13T02:25:35.187445Z",
     "start_time": "2020-08-13T02:25:35.054929Z"
    }
   },
   "outputs": [],
   "source": [
    "res.drop(columns=['geometry','ji_geo']).to_csv(\n",
    "    'G:/1-规划/评估/覆盖空洞/20200712第四版本/9-评估搬迁站点/20200812重构/1-全网小区半径修正后-更新了热点为乡镇/修正农村后的每个小区单独覆盖面积.csv',encoding='gbk',index=False)"
   ]
  },
  {
   "cell_type": "code",
   "execution_count": null,
   "metadata": {
    "ExecuteTime": {
     "end_time": "2020-08-13T02:33:24.873088Z",
     "start_time": "2020-08-13T02:33:24.352522Z"
    }
   },
   "outputs": [],
   "source": [
    "res.to_pickle('G:/1-规划/评估/覆盖空洞/20200712第四版本/9-评估搬迁站点/20200812重构/1-全网小区半径修正后-更新了热点为乡镇/修正农村后的每个小区单独覆盖面积.data')"
   ]
  },
  {
   "cell_type": "markdown",
   "metadata": {},
   "source": [
    "# 其他计算"
   ]
  },
  {
   "cell_type": "code",
   "execution_count": null,
   "metadata": {
    "ExecuteTime": {
     "end_time": "2020-08-12T04:49:46.244083Z",
     "start_time": "2020-08-12T04:49:45.486487Z"
    }
   },
   "outputs": [],
   "source": [
    "zm_xd = pd.read_excel(\n",
    "    'G:/1-规划/评估/覆盖空洞/20200712第四版本/9-评估搬迁站点/临时需求，将主城区一般城区与农村小区覆盖有交集的删掉/东新小区覆盖为0.xlsx',\n",
    "    encoding='gbk')"
   ]
  },
  {
   "cell_type": "code",
   "execution_count": null,
   "metadata": {
    "ExecuteTime": {
     "end_time": "2020-08-12T04:51:36.552091Z",
     "start_time": "2020-08-12T04:51:36.547590Z"
    }
   },
   "outputs": [],
   "source": [
    "zm_xd.shape"
   ]
  },
  {
   "cell_type": "code",
   "execution_count": null,
   "metadata": {
    "ExecuteTime": {
     "end_time": "2020-08-12T04:53:15.420145Z",
     "start_time": "2020-08-12T04:53:15.396142Z"
    }
   },
   "outputs": [],
   "source": [
    "zm_xd_use = zm_xd.merge(gongcan_s[['小区CGI(*)','小区中文名','geometry']],how='left',on=['小区CGI(*)','小区中文名'])"
   ]
  },
  {
   "cell_type": "code",
   "execution_count": null,
   "metadata": {
    "ExecuteTime": {
     "end_time": "2020-08-12T04:57:38.227518Z",
     "start_time": "2020-08-12T04:57:38.221517Z"
    }
   },
   "outputs": [],
   "source": [
    "gongcan_nc = gongcan_s.loc[gongcan_s['区域类型']=='农村']"
   ]
  },
  {
   "cell_type": "code",
   "execution_count": null,
   "metadata": {
    "ExecuteTime": {
     "end_time": "2020-08-12T04:59:36.935592Z",
     "start_time": "2020-08-12T04:59:36.807075Z"
    }
   },
   "outputs": [],
   "source": [
    "gongcan_nc = gongcan_nc.dissolve(by='所属地区')"
   ]
  },
  {
   "cell_type": "code",
   "execution_count": null,
   "metadata": {
    "ExecuteTime": {
     "end_time": "2020-08-12T05:01:53.479931Z",
     "start_time": "2020-08-12T05:01:53.475430Z"
    },
    "scrolled": true
   },
   "outputs": [],
   "source": [
    "zm_xd_use_gdf = gpd.GeoDataFrame(zm_xd_use,crs={\"init\": \"epsg:4326\"} ,geometry='geometry')"
   ]
  },
  {
   "cell_type": "code",
   "execution_count": null,
   "metadata": {
    "ExecuteTime": {
     "end_time": "2020-08-12T05:02:00.028762Z",
     "start_time": "2020-08-12T05:01:59.184155Z"
    }
   },
   "outputs": [],
   "source": [
    "res = gpd.sjoin(zm_xd_use_gdf,gongcan_nc)"
   ]
  },
  {
   "cell_type": "code",
   "execution_count": null,
   "metadata": {
    "ExecuteTime": {
     "end_time": "2020-08-12T05:02:38.508149Z",
     "start_time": "2020-08-12T05:02:38.421137Z"
    }
   },
   "outputs": [],
   "source": [
    "res.drop(columns='geometry').to_csv('G:/1-规划/评估/覆盖空洞/20200712第四版本/9-评估搬迁站点/临时需求，将主城区一般城区与农村小区覆盖有交集的删掉/res.csv',encoding='gbk')"
   ]
  },
  {
   "cell_type": "code",
   "execution_count": null,
   "metadata": {},
   "outputs": [],
   "source": []
  }
 ],
 "metadata": {
  "kernelspec": {
   "display_name": "Python 3",
   "language": "python",
   "name": "python3"
  },
  "language_info": {
   "codemirror_mode": {
    "name": "ipython",
    "version": 3
   },
   "file_extension": ".py",
   "mimetype": "text/x-python",
   "name": "python",
   "nbconvert_exporter": "python",
   "pygments_lexer": "ipython3",
   "version": "3.7.4"
  },
  "toc": {
   "base_numbering": 1,
   "nav_menu": {},
   "number_sections": true,
   "sideBar": true,
   "skip_h1_title": false,
   "title_cell": "Table of Contents",
   "title_sidebar": "Contents",
   "toc_cell": false,
   "toc_position": {},
   "toc_section_display": true,
   "toc_window_display": false
  },
  "varInspector": {
   "cols": {
    "lenName": 16,
    "lenType": 16,
    "lenVar": 40
   },
   "kernels_config": {
    "python": {
     "delete_cmd_postfix": "",
     "delete_cmd_prefix": "del ",
     "library": "var_list.py",
     "varRefreshCmd": "print(var_dic_list())"
    },
    "r": {
     "delete_cmd_postfix": ") ",
     "delete_cmd_prefix": "rm(",
     "library": "var_list.r",
     "varRefreshCmd": "cat(var_dic_list()) "
    }
   },
   "types_to_exclude": [
    "module",
    "function",
    "builtin_function_or_method",
    "instance",
    "_Feature"
   ],
   "window_display": false
  }
 },
 "nbformat": 4,
 "nbformat_minor": 2
}
