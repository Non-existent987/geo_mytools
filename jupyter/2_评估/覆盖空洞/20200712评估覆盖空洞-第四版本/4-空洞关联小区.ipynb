{
 "cells": [
  {
   "cell_type": "code",
   "execution_count": null,
   "metadata": {
    "ExecuteTime": {
     "end_time": "2020-07-21T14:37:06.595088Z",
     "start_time": "2020-07-21T14:37:05.416939Z"
    }
   },
   "outputs": [],
   "source": [
    "import geopandas as gpd\n",
    "import pandas as pd\n",
    "import mytools"
   ]
  },
  {
   "cell_type": "code",
   "execution_count": null,
   "metadata": {
    "ExecuteTime": {
     "end_time": "2020-07-21T14:37:07.415693Z",
     "start_time": "2020-07-21T14:37:06.608590Z"
    }
   },
   "outputs": [],
   "source": [
    "result = pd.read_pickle('G:/1-规划/评估/覆盖空洞/20200712第四版本/3-拆分后的空洞/覆盖空19481个添加场景区分大中小微.data')"
   ]
  },
  {
   "cell_type": "code",
   "execution_count": null,
   "metadata": {
    "ExecuteTime": {
     "end_time": "2020-07-21T14:37:12.836881Z",
     "start_time": "2020-07-21T14:37:07.483201Z"
    }
   },
   "outputs": [],
   "source": [
    "result.plot(figsize=[11,11])"
   ]
  },
  {
   "cell_type": "code",
   "execution_count": null,
   "metadata": {
    "ExecuteTime": {
     "end_time": "2020-07-21T14:37:17.432465Z",
     "start_time": "2020-07-21T14:37:12.942394Z"
    }
   },
   "outputs": [],
   "source": [
    "gongcan_s = pd.read_pickle('G:/1-规划/评估/覆盖空洞/20200712第四版本/2-程序数据出-过程/1-修正半径后使用的数据/修正后覆盖半径的扇区图层_1原始.data')"
   ]
  },
  {
   "cell_type": "code",
   "execution_count": null,
   "metadata": {
    "ExecuteTime": {
     "end_time": "2020-07-21T14:37:32.109828Z",
     "start_time": "2020-07-21T14:37:18.279572Z"
    }
   },
   "outputs": [],
   "source": [
    "result_buffer = mytools.gisn.buffer(result,10)"
   ]
  },
  {
   "cell_type": "code",
   "execution_count": null,
   "metadata": {
    "ExecuteTime": {
     "end_time": "2020-07-21T14:38:13.478082Z",
     "start_time": "2020-07-21T14:37:32.943934Z"
    }
   },
   "outputs": [],
   "source": [
    "res = gpd.sjoin(result_buffer,gongcan_s)"
   ]
  },
  {
   "cell_type": "code",
   "execution_count": null,
   "metadata": {
    "ExecuteTime": {
     "end_time": "2020-07-21T14:38:14.857257Z",
     "start_time": "2020-07-21T14:38:14.823252Z"
    }
   },
   "outputs": [],
   "source": [
    "res1 = res.reindex(columns=(['city', 'type',  '面积', 'lon', 'lat', '区域类型_left', 'id', '制式',\n",
    "       'distance_left', '标准面积', '空洞面积比例', '空洞级别',\n",
    "       '小区CGI(*)', '小区中文名', '所属地区', 'RRU经度', 'RRU纬度', '天线挂高', '方位角', '工作频段',\n",
    "       '归属区县', '厂家名称', '区域类型_right', 'distance_right', '覆盖模型距离', '30米覆盖模型距离',\n",
    "       '使用覆盖半径', 'distance_use', 'distance_yb', 'h_use', '高度建筑比',\n",
    "       'distance_use_3']))"
   ]
  },
  {
   "cell_type": "code",
   "execution_count": null,
   "metadata": {
    "ExecuteTime": {
     "end_time": "2020-07-21T14:38:21.666121Z",
     "start_time": "2020-07-21T14:38:16.660986Z"
    }
   },
   "outputs": [],
   "source": [
    "res1.to_csv('G:/1-规划/评估/覆盖空洞/20200712第四版本/6-关联小区/空洞10米buffer交接对应关系/空洞和小区对应关系.csv',encoding='gbk',index=False)"
   ]
  },
  {
   "cell_type": "code",
   "execution_count": null,
   "metadata": {
    "ExecuteTime": {
     "end_time": "2020-07-21T14:38:23.528358Z",
     "start_time": "2020-07-21T14:38:23.523857Z"
    }
   },
   "outputs": [],
   "source": [
    "res1.shape"
   ]
  },
  {
   "cell_type": "code",
   "execution_count": null,
   "metadata": {
    "ExecuteTime": {
     "end_time": "2020-07-21T14:39:51.844072Z",
     "start_time": "2020-07-21T14:39:51.826070Z"
    }
   },
   "outputs": [],
   "source": [
    "a = set(res1['id'])"
   ]
  },
  {
   "cell_type": "code",
   "execution_count": null,
   "metadata": {
    "ExecuteTime": {
     "end_time": "2020-07-21T14:40:11.261038Z",
     "start_time": "2020-07-21T14:40:11.257038Z"
    }
   },
   "outputs": [],
   "source": [
    "len(a)"
   ]
  },
  {
   "cell_type": "code",
   "execution_count": null,
   "metadata": {
    "ExecuteTime": {
     "end_time": "2020-07-21T14:38:25.412097Z",
     "start_time": "2020-07-21T14:38:25.407596Z"
    }
   },
   "outputs": [],
   "source": [
    "result_buffer.shape"
   ]
  }
 ],
 "metadata": {
  "kernelspec": {
   "display_name": "Python 3",
   "language": "python",
   "name": "python3"
  },
  "language_info": {
   "codemirror_mode": {
    "name": "ipython",
    "version": 3
   },
   "file_extension": ".py",
   "mimetype": "text/x-python",
   "name": "python",
   "nbconvert_exporter": "python",
   "pygments_lexer": "ipython3",
   "version": "3.7.4"
  },
  "toc": {
   "base_numbering": 1,
   "nav_menu": {},
   "number_sections": true,
   "sideBar": true,
   "skip_h1_title": false,
   "title_cell": "Table of Contents",
   "title_sidebar": "Contents",
   "toc_cell": false,
   "toc_position": {},
   "toc_section_display": true,
   "toc_window_display": false
  },
  "varInspector": {
   "cols": {
    "lenName": 16,
    "lenType": 16,
    "lenVar": 40
   },
   "kernels_config": {
    "python": {
     "delete_cmd_postfix": "",
     "delete_cmd_prefix": "del ",
     "library": "var_list.py",
     "varRefreshCmd": "print(var_dic_list())"
    },
    "r": {
     "delete_cmd_postfix": ") ",
     "delete_cmd_prefix": "rm(",
     "library": "var_list.r",
     "varRefreshCmd": "cat(var_dic_list()) "
    }
   },
   "types_to_exclude": [
    "module",
    "function",
    "builtin_function_or_method",
    "instance",
    "_Feature"
   ],
   "window_display": false
  }
 },
 "nbformat": 4,
 "nbformat_minor": 2
}
