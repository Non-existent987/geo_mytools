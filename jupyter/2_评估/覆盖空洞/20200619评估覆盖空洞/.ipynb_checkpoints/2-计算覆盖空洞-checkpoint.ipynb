{
 "cells": [
  {
   "cell_type": "code",
   "execution_count": null,
   "metadata": {
    "ExecuteTime": {
     "end_time": "2020-07-06T05:01:37.388839Z",
     "start_time": "2020-07-06T05:01:37.250321Z"
    }
   },
   "outputs": [],
   "source": [
    "%load_ext autoreload\n",
    "%autoreload 2"
   ]
  },
  {
   "cell_type": "code",
   "execution_count": null,
   "metadata": {
    "ExecuteTime": {
     "end_time": "2020-07-06T05:01:39.384092Z",
     "start_time": "2020-07-06T05:01:37.390339Z"
    }
   },
   "outputs": [],
   "source": [
    "import pandas as pd\n",
    "from tqdm import tqdm\n",
    "import time\n",
    "import geopandas as gpd\n",
    "from shapely.geometry import (LinearRing, LineString, MultiLineString,\n",
    "                              MultiPoint, MultiPolygon, Point, Polygon)\n",
    "from multiprocessing import Pool\n",
    "import os\n",
    "import re\n",
    "import matplotlib.pyplot as plt\n",
    "\n",
    "import mytools\n",
    "# import importlib\n",
    "# importlib.reload(mytools)"
   ]
  },
  {
   "cell_type": "markdown",
   "metadata": {},
   "source": [
    "# 一、计算覆盖空洞生成图层"
   ]
  },
  {
   "cell_type": "markdown",
   "metadata": {},
   "source": [
    "# 1、-----------------现网覆盖区域计算---------------------------"
   ]
  },
  {
   "cell_type": "markdown",
   "metadata": {},
   "source": [
    "### 20191107 工参数据图层"
   ]
  },
  {
   "cell_type": "code",
   "execution_count": null,
   "metadata": {},
   "outputs": [],
   "source": [
    "#导入工参数据\n",
    "gongcan = pd.read_csv('G:/1-规划/工参/工参数据/ltejizhan20200616.csv',\n",
    "                      usecols=['小区CGI(*)','所属地区','小区中文名','RRU经度', 'RRU纬度','天线挂高','工作频段', '方位角','归属区县' ],encoding='gbk')"
   ]
  },
  {
   "cell_type": "code",
   "execution_count": null,
   "metadata": {},
   "outputs": [],
   "source": [
    "#设置变量通用名\n",
    "print('设置变量通用名')\n",
    "id = '小区CGI(*)'\n",
    "lon = 'RRU经度'\n",
    "lat = 'RRU纬度'\n",
    "zhishi = '工作频段'\n",
    "fw = '方位角'"
   ]
  },
  {
   "cell_type": "code",
   "execution_count": null,
   "metadata": {},
   "outputs": [],
   "source": [
    "gongcan22 = gongcan[['小区CGI(*)','所属地区']]"
   ]
  },
  {
   "cell_type": "code",
   "execution_count": null,
   "metadata": {},
   "outputs": [],
   "source": [
    "gongcan22.columns = ['CGI','city']"
   ]
  },
  {
   "cell_type": "code",
   "execution_count": null,
   "metadata": {},
   "outputs": [],
   "source": [
    "# gongcan = gongcan.loc[(gongcan['RRU经度']>108)&\n",
    "#             (gongcan['RRU经度']<117)&\n",
    "#             (gongcan['RRU纬度']>28)&\n",
    "#             (gongcan['RRU纬度']<34)&\n",
    "#            (gongcan['方位角'].notnull())]\n",
    "\n",
    "# #只要宏站\n",
    "# gongcan['小区中文名'] = gongcan['小区中文名'].fillna('无')\n",
    "# gongcan = gongcan.loc[~gongcan['小区中文名'].str.contains('W-')]\n",
    "# gongcan = gongcan.loc[~gongcan['小区中文名'].str.contains('M-')]\n",
    "\n",
    "# #打标场景\n",
    "# gongcan = mytools.gisn.points_coverage_merge(gongcan,lon,lat)\n",
    "\n",
    "# print('添加覆盖距离')\n",
    "# gongcan_loc_juli = mytools.gisn.changjing_distance(gongcan,'区域类型',zhishi)\n",
    "# gongcan_loc_juli['distance2'] = gongcan_loc_juli['distance']+gongcan_loc_juli['distance']"
   ]
  },
  {
   "cell_type": "code",
   "execution_count": null,
   "metadata": {},
   "outputs": [],
   "source": [
    "gongcan_loc_juli = pd.read_csv('G:/1-规划/评估/覆盖空洞/2020年6月/2-程序输出/修正覆盖半径/修正覆盖半径后.csv',encoding='gbk')"
   ]
  },
  {
   "cell_type": "code",
   "execution_count": null,
   "metadata": {},
   "outputs": [],
   "source": [
    "gongcan_loc_juli.head(1)"
   ]
  },
  {
   "cell_type": "code",
   "execution_count": null,
   "metadata": {},
   "outputs": [],
   "source": [
    "#做扇区\n",
    "print('做扇区')\n",
    "gongcan_s = mytools.gisn.add_sectors_df(gongcan_loc_juli,coords=[lon, lat, 'd_height', fw, 'distance_use_3'], has_z=False, sec_col='geometry', shape_dict={'beam': 120, 'per_degree': 10})\n",
    "gongcan_s.to_pickle('G:/1-规划/评估/覆盖空洞/2020年6月/2-程序输出/全网覆盖区域_修正覆盖半径后.data')"
   ]
  },
  {
   "cell_type": "code",
   "execution_count": null,
   "metadata": {},
   "outputs": [],
   "source": [
    "gongcan_s=pd.read_pickle('G:/1-规划/评估/覆盖空洞/2020年6月/2-程序输出/全网覆盖区域_修正覆盖半径后.data')"
   ]
  },
  {
   "cell_type": "code",
   "execution_count": null,
   "metadata": {},
   "outputs": [],
   "source": [
    "# gongcan_s1 = gongcan_s[['小区CGI(*)', '小区中文名', '天线挂高', '方位角',\n",
    "#        '工作频段', '归属区县', '区域类型', 'distance', 'distance_use_3', 'geometry']]\n",
    "\n",
    "# gongcan_s1.columns = ['CGI', 'NAME', 'height', 'azimuth', 'frequency', 'county', 'scene', 'distance',\n",
    "#        'distance_use', 'geometry']\n",
    "\n",
    "# gongcan_s2 = gongcan_s1.merge(gongcan22,how='left',on='CGI')\n",
    "\n",
    "# gongcan_s3 = gongcan_s2.loc[gongcan_s2['city'] == '武汉']\n",
    "\n",
    "# gongcan_s3.to_file('G:/1-规划/评估/覆盖空洞/2020年6月/2-程序输出/全网覆盖区域_修正覆盖半径后_武汉.shp',encoding='utf-8')"
   ]
  },
  {
   "cell_type": "code",
   "execution_count": null,
   "metadata": {},
   "outputs": [],
   "source": [
    "gongcan_s = gpd.GeoDataFrame(gongcan_s,crs={'init': 'epsg:4326'},geometry='geometry')"
   ]
  },
  {
   "cell_type": "code",
   "execution_count": null,
   "metadata": {
    "scrolled": false
   },
   "outputs": [],
   "source": [
    "gongcan_s.plot(figsize=(11,11))"
   ]
  },
  {
   "cell_type": "markdown",
   "metadata": {},
   "source": [
    "# 2、-----------------求原始覆盖空洞---------------------------"
   ]
  },
  {
   "cell_type": "markdown",
   "metadata": {},
   "source": [
    "### 1-按照区县合并覆盖区域"
   ]
  },
  {
   "cell_type": "code",
   "execution_count": null,
   "metadata": {},
   "outputs": [],
   "source": [
    "gongcan_s['归属区县'] = gongcan_s['归属区县'].fillna('wu')\n",
    "gongcan_city = gongcan_s.dissolve(by = '归属区县')\n",
    "gongcan_city.to_pickle('G:/1-规划/评估/覆盖空洞/2020年6月/2-程序输出/全网覆盖区域_按照区县合并_修正半径后.data')"
   ]
  },
  {
   "cell_type": "code",
   "execution_count": null,
   "metadata": {},
   "outputs": [],
   "source": [
    "gongcan_city = pd.read_pickle('G:/1-规划/评估/覆盖空洞/2020年6月/2-程序输出/全网覆盖区域_按照区县合并.data')"
   ]
  },
  {
   "cell_type": "markdown",
   "metadata": {},
   "source": [
    "### 2-求出覆盖空洞原始"
   ]
  },
  {
   "cell_type": "code",
   "execution_count": null,
   "metadata": {
    "ExecuteTime": {
     "end_time": "2020-07-01T08:14:17.227696Z",
     "start_time": "2020-07-01T08:14:16.821144Z"
    }
   },
   "outputs": [],
   "source": [
    "tu = mytools.gisn.maps('地市区县')"
   ]
  },
  {
   "cell_type": "code",
   "execution_count": null,
   "metadata": {
    "ExecuteTime": {
     "end_time": "2020-07-01T08:14:38.961455Z",
     "start_time": "2020-07-01T08:14:38.355879Z"
    }
   },
   "outputs": [],
   "source": [
    "tu_mianji = mytools.gisn.add_area(tu)"
   ]
  },
  {
   "cell_type": "code",
   "execution_count": null,
   "metadata": {
    "ExecuteTime": {
     "end_time": "2020-07-01T08:18:16.891629Z",
     "start_time": "2020-07-01T08:18:16.620595Z"
    }
   },
   "outputs": [],
   "source": [
    "tu_mianji[tu_mianji['地市']=='武汉'].to_clipboard()"
   ]
  },
  {
   "cell_type": "code",
   "execution_count": null,
   "metadata": {},
   "outputs": [],
   "source": []
  },
  {
   "cell_type": "code",
   "execution_count": null,
   "metadata": {},
   "outputs": [],
   "source": [
    "tu = mytools.gisn.maps('地市区县')\n",
    "city_tu_diff = gpd.overlay(tu,gongcan_city,how='difference')\n",
    "city_tu_diff.to_pickle('G:/1-规划/评估/覆盖空洞/2020年6月/2-程序输出/覆盖空洞1-原始_修正半径后.data')"
   ]
  },
  {
   "cell_type": "code",
   "execution_count": null,
   "metadata": {},
   "outputs": [],
   "source": [
    "city_tu_diff = pd.read_pickle('G:/1-规划/评估/覆盖空洞/2020年6月/2-程序输出/覆盖空洞1-原始.data')"
   ]
  },
  {
   "cell_type": "code",
   "execution_count": null,
   "metadata": {},
   "outputs": [],
   "source": [
    "tu.plot(figsize=(11,11),color='gray')"
   ]
  },
  {
   "cell_type": "code",
   "execution_count": null,
   "metadata": {},
   "outputs": [],
   "source": [
    "city_tu_diff.plot(figsize=(11,11),color='coral')"
   ]
  },
  {
   "cell_type": "markdown",
   "metadata": {},
   "source": [
    "# 3、-------------剔除水系-------------"
   ]
  },
  {
   "cell_type": "markdown",
   "metadata": {},
   "source": [
    "### 1-图中去湖泊"
   ]
  },
  {
   "cell_type": "code",
   "execution_count": null,
   "metadata": {},
   "outputs": [],
   "source": [
    "shuiku = mytools.othern.file_name_paths(path='G:\\\\1-规划\\\\图层\\\\HB_场景\\\\',find='湖泊、水库.tab')\n",
    "shuixi2_hb = gpd.read_file(shuiku[0],encoding='gbk')\n",
    "shuixi2_hb['fenlei']='湖泊'\n",
    "shuixi2_hb = shuixi2_hb[[ 'geometry', 'fenlei']]\n",
    "kongd = city_tu_diff.copy()\n",
    "kongdong_new = gpd.overlay(kongd,shuixi2_hb,how='difference')\n",
    "kongdong_new.to_pickle('G:/1-规划/评估/覆盖空洞/2020年6月/2-程序输出/覆盖空洞2去除湖泊_修正半径后.data')"
   ]
  },
  {
   "cell_type": "code",
   "execution_count": null,
   "metadata": {},
   "outputs": [],
   "source": [
    "kongdong_new = pd.read_pickle('G:/1-规划/评估/覆盖空洞/2020年6月/2-程序输出/覆盖空洞2去除湖泊.data')"
   ]
  },
  {
   "cell_type": "code",
   "execution_count": null,
   "metadata": {},
   "outputs": [],
   "source": [
    "shuixi2_hb.plot(figsize=(11,11),color='royalblue')"
   ]
  },
  {
   "cell_type": "code",
   "execution_count": null,
   "metadata": {},
   "outputs": [],
   "source": [
    "shuixi1.plot(figsize=(11,11),color='darkturquoise')"
   ]
  },
  {
   "cell_type": "markdown",
   "metadata": {},
   "source": [
    "### 2-图中去面状水系"
   ]
  },
  {
   "cell_type": "code",
   "execution_count": null,
   "metadata": {},
   "outputs": [],
   "source": [
    "mianzhuangshuixi =mytools.othern.file_name_paths(path='G:/1-规划/图层/HB_场景/',find='面状水系.tab')\n",
    "shuixi1 = gpd.read_file(mianzhuangshuixi[0],encoding='gbk')"
   ]
  },
  {
   "cell_type": "code",
   "execution_count": null,
   "metadata": {},
   "outputs": [],
   "source": [
    "shuixi1['fenlei']='面状'"
   ]
  },
  {
   "cell_type": "code",
   "execution_count": null,
   "metadata": {},
   "outputs": [],
   "source": [
    "shuixi1['type'] =  shuixi1.type\n",
    "shuixi1_use = shuixi1.loc[shuixi1['type']=='Polygon'].append(shuixi1.loc[shuixi1['type']=='MultiPolygon'].explode())\n",
    "shuixi1_use_area = mytools.gisn.add_area(shuixi1_use)\n",
    "shuixi1_use_area_use = shuixi1_use_area.loc[shuixi1_use_area['面积']>100]\n",
    "shuixi1_use_area_use = shuixi1_use_area_use.reset_index(drop=True)\n",
    "shuixi1_use_area_use['geometry'] = shuixi1_use_area_use.buffer(0.00000001)"
   ]
  },
  {
   "cell_type": "code",
   "execution_count": null,
   "metadata": {},
   "outputs": [],
   "source": [
    "shuixi1_use_area_use.to_pickle('G:/1-规划/评估/覆盖空洞/2020年6月/2-程序输出/覆盖空洞2去除湖泊_预备去水系.data')"
   ]
  },
  {
   "cell_type": "code",
   "execution_count": null,
   "metadata": {},
   "outputs": [],
   "source": [
    "shuixi1_use_area_use = pd.read_pickle('G:/1-规划/评估/覆盖空洞/2020年6月/2-程序输出/覆盖空洞2去除湖泊_预备去水系.data')"
   ]
  },
  {
   "cell_type": "code",
   "execution_count": null,
   "metadata": {},
   "outputs": [],
   "source": [
    "def myYield(df):\n",
    "    y = 1000\n",
    "    x = 0\n",
    "    while x<236973:\n",
    "        shuixi1_use_t = df.iloc[x:y,]\n",
    "        yield shuixi1_use_t\n",
    "        print('完成{cishu}。{cishu2}。。'.format(cishu=x,cishu2 = y))\n",
    "        x = y \n",
    "        y = y + 1000"
   ]
  },
  {
   "cell_type": "code",
   "execution_count": null,
   "metadata": {},
   "outputs": [],
   "source": [
    "tu_new_t = kongdong_new.copy()"
   ]
  },
  {
   "cell_type": "code",
   "execution_count": null,
   "metadata": {
    "scrolled": true
   },
   "outputs": [],
   "source": [
    "for data_t in myYield(shuixi1_use_area_use):\n",
    "    data_t = data_t.dissolve(by='fenlei')\n",
    "    tu_new_t = gpd.overlay(tu_new_t,data_t,how='difference')"
   ]
  },
  {
   "cell_type": "code",
   "execution_count": null,
   "metadata": {
    "scrolled": false
   },
   "outputs": [],
   "source": [
    "tu_new_t.to_pickle('G:/1-规划/评估/覆盖空洞/2020年6月/2-程序输出/覆盖空洞2去除湖泊_去水系_修正半径后-完成.data')"
   ]
  },
  {
   "cell_type": "code",
   "execution_count": null,
   "metadata": {},
   "outputs": [],
   "source": [
    "tu_new_t.to_file('G:/1-规划/评估/覆盖空洞/2020年6月/2-程序输出/覆盖空洞2去除湖泊_去水系_修正半径后-完成.shp',encoding='utf-8')"
   ]
  },
  {
   "cell_type": "code",
   "execution_count": null,
   "metadata": {
    "ExecuteTime": {
     "end_time": "2020-07-06T05:01:44.691766Z",
     "start_time": "2020-07-06T05:01:43.512117Z"
    }
   },
   "outputs": [],
   "source": [
    "tu_new_t = pd.read_pickle('G:/1-规划/评估/覆盖空洞/2020年6月/2-程序输出/覆盖空洞2去除湖泊_去水系_修正半径后-完成.data')"
   ]
  },
  {
   "cell_type": "code",
   "execution_count": null,
   "metadata": {},
   "outputs": [],
   "source": [
    "tu_new_t.plot(figsize=(11,11),color='coral')"
   ]
  },
  {
   "cell_type": "markdown",
   "metadata": {},
   "source": [
    "# 4、-------------空洞有效数据整理-------------"
   ]
  },
  {
   "cell_type": "markdown",
   "metadata": {},
   "source": [
    "### 1-拆分成多个空洞"
   ]
  },
  {
   "cell_type": "code",
   "execution_count": null,
   "metadata": {
    "ExecuteTime": {
     "end_time": "2020-07-06T05:01:51.524634Z",
     "start_time": "2020-07-06T05:01:51.292105Z"
    }
   },
   "outputs": [],
   "source": [
    "tu_new_t['type'] =  tu_new_t.type"
   ]
  },
  {
   "cell_type": "code",
   "execution_count": null,
   "metadata": {
    "ExecuteTime": {
     "end_time": "2020-07-06T05:01:52.923812Z",
     "start_time": "2020-07-06T05:01:52.700783Z"
    }
   },
   "outputs": [],
   "source": [
    "tu_new_t.groupby('type').count()"
   ]
  },
  {
   "cell_type": "code",
   "execution_count": null,
   "metadata": {
    "ExecuteTime": {
     "end_time": "2020-07-06T05:01:54.512513Z",
     "start_time": "2020-07-06T05:01:54.154468Z"
    }
   },
   "outputs": [],
   "source": [
    "kongd_use = tu_new_t.loc[tu_new_t['type']=='Polygon'].append(tu_new_t.loc[tu_new_t['type']=='MultiPolygon'].explode())"
   ]
  },
  {
   "cell_type": "code",
   "execution_count": null,
   "metadata": {
    "ExecuteTime": {
     "end_time": "2020-07-06T05:02:11.436663Z",
     "start_time": "2020-07-06T05:01:55.817679Z"
    }
   },
   "outputs": [],
   "source": [
    "kongd_mianji = mytools.gisn.add_area(kongd_use)"
   ]
  },
  {
   "cell_type": "code",
   "execution_count": null,
   "metadata": {
    "ExecuteTime": {
     "end_time": "2020-07-06T05:02:13.057868Z",
     "start_time": "2020-07-06T05:02:12.843341Z"
    }
   },
   "outputs": [],
   "source": [
    "kongd_mianji.shape"
   ]
  },
  {
   "cell_type": "code",
   "execution_count": null,
   "metadata": {
    "ExecuteTime": {
     "end_time": "2020-07-06T05:02:14.692076Z",
     "start_time": "2020-07-06T05:02:14.469548Z"
    }
   },
   "outputs": [],
   "source": [
    "kongd_mianji.head(1)"
   ]
  },
  {
   "cell_type": "code",
   "execution_count": null,
   "metadata": {},
   "outputs": [],
   "source": [
    "kongd_mianji.drop(columns='geometry').to_csv('G:/1-规划/评估/覆盖空洞/2020年6月/2-程序输出/覆盖空洞1去除水系的原始空洞_修正半径后空洞21706.csv',index=False,encoding='gbk')"
   ]
  },
  {
   "cell_type": "code",
   "execution_count": null,
   "metadata": {},
   "outputs": [],
   "source": [
    "kongd_mianji.to_file('G:/1-规划/评估/覆盖空洞/2020年6月/2-程序输出/覆盖空洞1去除水系的原始空洞_修正半径后.shp',encoding='utf-8')"
   ]
  },
  {
   "cell_type": "code",
   "execution_count": null,
   "metadata": {},
   "outputs": [],
   "source": [
    "# 修改算法后这一步不要了\n",
    "\n",
    "\n",
    "# #最小覆盖半径是250 最极限站间距为覆盖的1.5倍，所以半径为125的园为最小的单位\n",
    "# kongd_use_youxiao = kongd_mianji.loc[kongd_mianji['面积']>70686]\n",
    "\n",
    "# #添加id编号\n",
    "# kongd_use_youxiao2 = kongd_use_youxiao.reset_index(drop=True)\n",
    "# kongd_use_youxiao2['id'] = [ 'kd_{}'.format(str(name)) for name in kongd_use_youxiao2.index+1]\n",
    "\n",
    "# # #边简易化\n",
    "# # kongd_use3 = kongd_use2.copy()\n",
    "# # kongd_use3['geometry'] = kongd_use3.simplify(tolerance=0.001)\n",
    "\n",
    "# kongd_use_youxiao2.shape\n",
    "\n",
    "# kongd_use_youxiao2.to_file('G:/1-规划/评估/覆盖空洞/2020年6月/2-程序输出/覆盖空洞3去除冗余有效空洞{}个_修正半径后.shp'.format(\n",
    "#     kongd_use_youxiao2.shape[0]),encoding='utf-8')\n",
    "\n",
    "# kongd_use_youxiao2 = gpd.read_file('G:/1-规划/评估/覆盖空洞/2020年6月/2-程序输出/覆盖空洞3去除冗余有效空洞9819个.shp',encoding='utf-8')\n",
    "\n",
    "# kongd_use_youxiao2.to_excel('G:/1-规划/评估/覆盖空洞/2020年6月/2-程序输出/覆盖空洞3去除冗余有效空洞7143个_修正半径后.xlsx')\n",
    "\n",
    "# kongd_use_youxiao2.columns = ['geometry', 'type', 'County', 'city', 'area', 'id']\n",
    "\n",
    "# kongd_use_youxiao2.to_file('G:/1-规划/评估/覆盖空洞/2020年6月/2-程序输出/覆盖空洞3去除冗余有效空洞7143个_修正半径后mapinfo.tab',\n",
    "#                            driver='MapInfo File',encoding='gbk')\n",
    "\n",
    "# kongd_use_youxiao2 =  gpd.read_file('G:/1-规划/评估/覆盖空洞/2020年6月/2-程序输出/覆盖空洞3去除冗余有效空洞7920个_修正半径后mapinfo.tab',encoding='utf-8')"
   ]
  },
  {
   "cell_type": "code",
   "execution_count": null,
   "metadata": {},
   "outputs": [],
   "source": [
    "kongd_mianji.head(1)"
   ]
  },
  {
   "cell_type": "code",
   "execution_count": null,
   "metadata": {
    "scrolled": true
   },
   "outputs": [],
   "source": [
    "kongd_mianji.plot(figsize=(11,11))"
   ]
  },
  {
   "cell_type": "markdown",
   "metadata": {},
   "source": [
    "# 有效空洞匹配场景"
   ]
  },
  {
   "cell_type": "code",
   "execution_count": null,
   "metadata": {},
   "outputs": [],
   "source": [
    "# kongd_valid  = gpd.read_file('G:/1-规划/评估/覆盖空洞/2020年6月/2-程序输出/覆盖空洞3去除冗余有效空洞7143个_修正半径后.shp',encoding='utf-8')"
   ]
  },
  {
   "cell_type": "code",
   "execution_count": null,
   "metadata": {},
   "outputs": [],
   "source": [
    "# kongd_valid.shape"
   ]
  },
  {
   "cell_type": "code",
   "execution_count": null,
   "metadata": {
    "ExecuteTime": {
     "end_time": "2020-07-06T05:03:03.592285Z",
     "start_time": "2020-07-06T05:03:03.362756Z"
    }
   },
   "outputs": [],
   "source": [
    "kongd_mianji.crs"
   ]
  },
  {
   "cell_type": "code",
   "execution_count": null,
   "metadata": {
    "ExecuteTime": {
     "end_time": "2020-07-06T05:03:17.577061Z",
     "start_time": "2020-07-06T05:03:10.327141Z"
    }
   },
   "outputs": [],
   "source": [
    "kongd_mianji[['lon','lat']] = kongd_mianji.apply(lambda x:pd.Series(x['geometry'].centroid.coords[:][0]),axis=1)#"
   ]
  },
  {
   "cell_type": "code",
   "execution_count": null,
   "metadata": {
    "ExecuteTime": {
     "end_time": "2020-07-06T05:03:23.825855Z",
     "start_time": "2020-07-06T05:03:19.006743Z"
    }
   },
   "outputs": [],
   "source": [
    "result = mytools.gisn.points_coverage_merge(kongd_mianji,'lon','lat')"
   ]
  },
  {
   "cell_type": "code",
   "execution_count": null,
   "metadata": {
    "ExecuteTime": {
     "end_time": "2020-07-06T05:03:25.588579Z",
     "start_time": "2020-07-06T05:03:25.372051Z"
    }
   },
   "outputs": [],
   "source": [
    "result.shape"
   ]
  },
  {
   "cell_type": "code",
   "execution_count": null,
   "metadata": {
    "ExecuteTime": {
     "end_time": "2020-07-06T05:03:27.493821Z",
     "start_time": "2020-07-06T05:03:27.261791Z"
    }
   },
   "outputs": [],
   "source": [
    "#添加id编号\n",
    "result_id = result.reset_index(drop=True)\n",
    "result['id'] = [ 'kd_{}'.format(str(name)) for name in result_id.index+1]"
   ]
  },
  {
   "cell_type": "code",
   "execution_count": null,
   "metadata": {
    "ExecuteTime": {
     "end_time": "2020-07-06T05:03:29.422065Z",
     "start_time": "2020-07-06T05:03:29.176534Z"
    }
   },
   "outputs": [],
   "source": [
    "result['制式'] = 'FDD1800'\n",
    "result.loc[result['区域类型']=='农村','制式']='FDD900'"
   ]
  },
  {
   "cell_type": "code",
   "execution_count": null,
   "metadata": {
    "ExecuteTime": {
     "end_time": "2020-07-06T05:03:31.404817Z",
     "start_time": "2020-07-06T05:03:31.106279Z"
    }
   },
   "outputs": [],
   "source": [
    "result = mytools.gisn.changjing_distance(result,'区域类型','制式')"
   ]
  },
  {
   "cell_type": "code",
   "execution_count": null,
   "metadata": {
    "ExecuteTime": {
     "end_time": "2020-07-06T05:03:33.425074Z",
     "start_time": "2020-07-06T05:03:33.203546Z"
    }
   },
   "outputs": [],
   "source": [
    "import numpy as np"
   ]
  },
  {
   "cell_type": "code",
   "execution_count": null,
   "metadata": {
    "ExecuteTime": {
     "end_time": "2020-07-06T05:03:35.432829Z",
     "start_time": "2020-07-06T05:03:35.116789Z"
    }
   },
   "outputs": [],
   "source": [
    "result['标准面积'] = np.pi* result['distance']* result['distance']\n",
    "\n",
    "result['空洞面积比例'] = result['面积']/result['标准面积']"
   ]
  },
  {
   "cell_type": "code",
   "execution_count": null,
   "metadata": {
    "ExecuteTime": {
     "end_time": "2020-07-06T05:03:37.396578Z",
     "start_time": "2020-07-06T05:03:37.149047Z"
    }
   },
   "outputs": [],
   "source": [
    "def fuck_data(x):\n",
    "    if x['空洞面积比例']>=1:\n",
    "        return '大'\n",
    "    elif x['空洞面积比例']>=1/3:\n",
    "        return '中'\n",
    "    elif x['空洞面积比例']>=1/6:\n",
    "        return '小'\n",
    "    else:\n",
    "        return '微'"
   ]
  },
  {
   "cell_type": "code",
   "execution_count": null,
   "metadata": {
    "ExecuteTime": {
     "end_time": "2020-07-06T05:03:40.109923Z",
     "start_time": "2020-07-06T05:03:39.117297Z"
    }
   },
   "outputs": [],
   "source": [
    "result['空洞级别'] = result.apply(fuck_data,axis=1)"
   ]
  },
  {
   "cell_type": "code",
   "execution_count": null,
   "metadata": {
    "ExecuteTime": {
     "end_time": "2020-07-06T05:03:43.947910Z",
     "start_time": "2020-07-06T05:03:43.578863Z"
    }
   },
   "outputs": [],
   "source": [
    "result"
   ]
  },
  {
   "cell_type": "code",
   "execution_count": null,
   "metadata": {},
   "outputs": [],
   "source": [
    "result.reindex(columns=['id','地市','区县','面积','lon','lat', '区域类型','制式','distance','标准面积','空洞面积比例','空洞级别']).to_excel(\n",
    "    'G:/1-规划/评估/覆盖空洞/2020年6月/2-程序输出/覆盖空洞3_修正半径后_剔除水系_场景空洞21706个.xlsx',index=False)"
   ]
  },
  {
   "cell_type": "code",
   "execution_count": null,
   "metadata": {},
   "outputs": [],
   "source": [
    "# result = pd.read_excel('G:/1-规划/评估/覆盖空洞/2020年6月/2-程序输出/覆盖空洞3_修正半径后_剔除水系_场景空洞21706个.xlsx')"
   ]
  },
  {
   "cell_type": "code",
   "execution_count": null,
   "metadata": {},
   "outputs": [],
   "source": [
    "result.groupby('空洞级别').count()"
   ]
  },
  {
   "cell_type": "code",
   "execution_count": null,
   "metadata": {
    "ExecuteTime": {
     "end_time": "2020-07-06T05:04:53.369225Z",
     "start_time": "2020-07-06T05:04:53.114193Z"
    }
   },
   "outputs": [],
   "source": [
    "result.columns = ['geometry', 'type', 'county', 'city', 'area', 'lon', 'lat', 'scene', 'NAME', 'frequency',\n",
    "       'distance', 'stipulate_area', 'proportion', 'level']"
   ]
  },
  {
   "cell_type": "code",
   "execution_count": null,
   "metadata": {},
   "outputs": [],
   "source": [
    "for name,data_t in result.groupby('level'):\n",
    "    print(name,data_t.shape)\n",
    "    data_t.to_file('G:/1-规划/评估/覆盖空洞/2020年6月/2-程序输出/覆盖空洞4_修后_剔水_{}.shp'.format(\n",
    "    name),encoding='utf-8')"
   ]
  },
  {
   "cell_type": "code",
   "execution_count": null,
   "metadata": {
    "ExecuteTime": {
     "end_time": "2020-07-06T05:06:49.744003Z",
     "start_time": "2020-07-06T05:06:47.570727Z"
    }
   },
   "outputs": [],
   "source": [
    "result.to_pickle('G:/1-规划/评估/覆盖空洞/2020年6月/2-程序输出/覆盖空洞5_修后_剔水_21706.data')"
   ]
  },
  {
   "cell_type": "markdown",
   "metadata": {},
   "source": [
    "# 匹配武汉规划点和空洞的拟合程度"
   ]
  },
  {
   "cell_type": "code",
   "execution_count": null,
   "metadata": {},
   "outputs": [],
   "source": [
    "#导入工参数据\n",
    "gongcan = pd.read_csv('G:/1-规划/工参/工参数据/ltejizhan20200616.csv',\n",
    "                      usecols=['小区CGI(*)','网络制式(TDD/FDD)','小区中文名','RRU经度', 'RRU纬度','天线挂高','工作频段', '方位角','厂家名称','归属区县' ],encoding='gbk')\n",
    "\n",
    "# gongcan = gongcan.loc[(gongcan['RRU经度']>108)&\n",
    "#             (gongcan['RRU经度']<117)&\n",
    "#             (gongcan['RRU纬度']>28)&\n",
    "#             (gongcan['RRU纬度']<34)]"
   ]
  },
  {
   "cell_type": "code",
   "execution_count": null,
   "metadata": {},
   "outputs": [],
   "source": [
    "gongcan.to_clipboard()"
   ]
  },
  {
   "cell_type": "code",
   "execution_count": null,
   "metadata": {},
   "outputs": [],
   "source": [
    "gongcan.to_csv('d:/gongcan202006016.csv',encoding='gbk')"
   ]
  },
  {
   "cell_type": "code",
   "execution_count": null,
   "metadata": {},
   "outputs": [],
   "source": []
  },
  {
   "cell_type": "code",
   "execution_count": null,
   "metadata": {},
   "outputs": [],
   "source": [
    "data=pd.read_clipboard()"
   ]
  },
  {
   "cell_type": "code",
   "execution_count": null,
   "metadata": {},
   "outputs": [],
   "source": [
    "data_p=mytools.gisn.add_points(data)"
   ]
  },
  {
   "cell_type": "code",
   "execution_count": null,
   "metadata": {},
   "outputs": [],
   "source": [
    "res=gpd.sjoin(kongd_use_youxiao2,data_p)"
   ]
  },
  {
   "cell_type": "code",
   "execution_count": null,
   "metadata": {},
   "outputs": [],
   "source": [
    "res.head(1)"
   ]
  },
  {
   "cell_type": "code",
   "execution_count": null,
   "metadata": {},
   "outputs": [],
   "source": [
    "res.drop_duplicates('id_right').drop(columns='geometry').to_clipboard()"
   ]
  },
  {
   "cell_type": "code",
   "execution_count": null,
   "metadata": {},
   "outputs": [],
   "source": [
    "data.shape"
   ]
  },
  {
   "cell_type": "code",
   "execution_count": null,
   "metadata": {},
   "outputs": [],
   "source": [
    "13/310"
   ]
  },
  {
   "cell_type": "code",
   "execution_count": null,
   "metadata": {},
   "outputs": [],
   "source": []
  },
  {
   "cell_type": "markdown",
   "metadata": {},
   "source": [
    "# 三角函数计算站点级别的空洞"
   ]
  },
  {
   "cell_type": "code",
   "execution_count": null,
   "metadata": {},
   "outputs": [],
   "source": [
    "duiying = pd.read_csv(open(\n",
    "    'G:/1-规划/评估/竞对站点评估/20200617/1-基础数据/1-移动数据/2-整理站址数据/1-使用谢总程序跑站点/4-输出/移动站址汇总.csv',\n",
    "    encoding='gbk'))"
   ]
  },
  {
   "cell_type": "code",
   "execution_count": null,
   "metadata": {},
   "outputs": [],
   "source": [
    "duiying.columns"
   ]
  },
  {
   "cell_type": "code",
   "execution_count": null,
   "metadata": {},
   "outputs": [],
   "source": [
    "duiying['优先级']='TDD'\n",
    "duiying.loc[duiying['E'].notna(),'优先级']=5\n",
    "duiying.loc[duiying['D'].notna(),'优先级']=4\n",
    "duiying.loc[duiying['F'].notna(),'优先级']=3\n",
    "duiying.loc[duiying['FDD1800'].notna(),'优先级']=2\n",
    "duiying.loc[duiying['FDD900'].notna(),'优先级']=1"
   ]
  },
  {
   "cell_type": "code",
   "execution_count": null,
   "metadata": {},
   "outputs": [],
   "source": [
    "duiying_sort = duiying.sort_values('优先级')"
   ]
  },
  {
   "cell_type": "markdown",
   "metadata": {},
   "source": [
    "# 站高和周边的建筑物比较"
   ]
  },
  {
   "cell_type": "code",
   "execution_count": null,
   "metadata": {},
   "outputs": [],
   "source": [
    "duiying = pd.read_csv(open(\n",
    "    'G:/1-规划/评估/竞对站点评估/20200617/1-基础数据/1-移动数据/2-整理站址数据/1-使用谢总程序跑站点/4-输出/移动站址汇总.csv',\n",
    "    encoding='gbk'))"
   ]
  },
  {
   "cell_type": "code",
   "execution_count": null,
   "metadata": {},
   "outputs": [],
   "source": [
    "duiying.loc[duiying['FDD900'].notna(),'FDD900']='FDD900'"
   ]
  },
  {
   "cell_type": "code",
   "execution_count": null,
   "metadata": {},
   "outputs": [],
   "source": [
    "duiying_changjing = mytools.gisn.points_coverage_merge(duiying,'CellLongitude','CellLatitude')"
   ]
  },
  {
   "cell_type": "code",
   "execution_count": null,
   "metadata": {},
   "outputs": [],
   "source": [
    "duiying_juli = mytools.gisn.changjing_distance(duiying_changjing,'区域类型','FDD900')"
   ]
  },
  {
   "cell_type": "code",
   "execution_count": null,
   "metadata": {},
   "outputs": [],
   "source": [
    "df_use_jianzhu_buff = mytools.gisn.add_buffer_df(duiying_juli,lon='CellLongitude',lat='CellLatitude',buff_col='distance')"
   ]
  },
  {
   "cell_type": "code",
   "execution_count": null,
   "metadata": {},
   "outputs": [],
   "source": [
    "f = mytools.othern.file_name_paths('G:/1-规划/图层/湖北建筑/湖北建筑/湖北建筑/',find='tab')"
   ]
  },
  {
   "cell_type": "code",
   "execution_count": null,
   "metadata": {},
   "outputs": [],
   "source": [
    "sjoin_data = gpd.GeoDataFrame()\n",
    "for name in f:\n",
    "    tuceng_t = gpd.read_file(name,encoding = 'gbk')\n",
    "    tuceng_t = tuceng_t.to_crs({'init': 'epsg:4326'})\n",
    "    linshi_t = gpd.sjoin(df_use_jianzhu_buff,tuceng_t)\n",
    "    linshi_t = linshi_t[[ '小区中文名','建筑物高度']]\n",
    "    sjoin_data = sjoin_data.append(linshi_t)"
   ]
  },
  {
   "cell_type": "code",
   "execution_count": null,
   "metadata": {},
   "outputs": [],
   "source": [
    "sjoin_data['建筑物高度2'] = sjoin_data['建筑物高度'] \n",
    "sjoin_data['建筑物高度3'] = sjoin_data['建筑物高度'] "
   ]
  },
  {
   "cell_type": "code",
   "execution_count": null,
   "metadata": {},
   "outputs": [],
   "source": [
    "sjoin_data_linshi = sjoin_data.groupby(by = '小区中文名').agg({'建筑物高度':'mean','建筑物高度2':'count','建筑物高度3':'max'})"
   ]
  },
  {
   "cell_type": "code",
   "execution_count": null,
   "metadata": {},
   "outputs": [],
   "source": [
    "sjoin_data_linshi = sjoin_data_linshi.reset_index()"
   ]
  },
  {
   "cell_type": "code",
   "execution_count": null,
   "metadata": {},
   "outputs": [],
   "source": [
    "df_use_ls6 = duiying.merge(sjoin_data_linshi,how='left',on='小区中文名')"
   ]
  },
  {
   "cell_type": "code",
   "execution_count": null,
   "metadata": {},
   "outputs": [],
   "source": [
    "gongcan = pd.read_csv('G:/1-规划/工参/工参数据/ltejizhan20200616.csv',\n",
    "                      usecols=['小区CGI(*)','小区中文名','RRU经度', 'RRU纬度','天线挂高','工作频段', '方位角','归属区县' ]\n",
    "                      ,encoding='gbk')"
   ]
  },
  {
   "cell_type": "code",
   "execution_count": null,
   "metadata": {},
   "outputs": [],
   "source": [
    "gongcan = gongcan.loc[(gongcan['RRU经度']>108)&\n",
    "            (gongcan['RRU经度']<117)&\n",
    "            (gongcan['RRU纬度']>28)&\n",
    "            (gongcan['RRU纬度']<34)&\n",
    "           (gongcan['天线挂高'].notnull())]"
   ]
  },
  {
   "cell_type": "code",
   "execution_count": null,
   "metadata": {},
   "outputs": [],
   "source": [
    "gongcan_use = gongcan[['小区中文名','天线挂高']]"
   ]
  },
  {
   "cell_type": "code",
   "execution_count": null,
   "metadata": {},
   "outputs": [],
   "source": [
    "df_use_ls6.drop_duplicates"
   ]
  },
  {
   "cell_type": "code",
   "execution_count": null,
   "metadata": {},
   "outputs": [],
   "source": [
    "kd_jz_gd = df_use_ls6.reset_index().merge(gongcan_use,on='小区中文名').drop_duplicates('index')"
   ]
  },
  {
   "cell_type": "code",
   "execution_count": null,
   "metadata": {},
   "outputs": [],
   "source": [
    "kd_jz_gd.to_csv('G:/1-规划/评估/覆盖空洞/2020年6月/2-程序输出/周边建筑高度/站址级别周边建筑高度输出表.csv',encoding='gbk',index=False)"
   ]
  },
  {
   "cell_type": "code",
   "execution_count": null,
   "metadata": {},
   "outputs": [],
   "source": []
  },
  {
   "cell_type": "code",
   "execution_count": null,
   "metadata": {},
   "outputs": [],
   "source": []
  },
  {
   "cell_type": "code",
   "execution_count": null,
   "metadata": {},
   "outputs": [],
   "source": []
  },
  {
   "cell_type": "code",
   "execution_count": null,
   "metadata": {},
   "outputs": [],
   "source": []
  },
  {
   "cell_type": "code",
   "execution_count": null,
   "metadata": {},
   "outputs": [],
   "source": [
    "# df_use_ls6.to_csv('G:/1-规划/评估/覆盖空洞/输出20191230重新统计站点后/结果表.csv',encoding='gbk',index=False)"
   ]
  },
  {
   "cell_type": "code",
   "execution_count": null,
   "metadata": {},
   "outputs": [],
   "source": [
    "# df_use_ls6.to_csv('G:/1-规划/评估/覆盖空洞/输出20191230重新统计站点后/结果表.csv',encoding='gbk',index=False)"
   ]
  },
  {
   "cell_type": "code",
   "execution_count": null,
   "metadata": {},
   "outputs": [],
   "source": []
  },
  {
   "cell_type": "markdown",
   "metadata": {},
   "source": [
    "# 20191226评估覆盖空洞"
   ]
  },
  {
   "cell_type": "markdown",
   "metadata": {},
   "source": [
    "## 找出全省覆盖空洞-->设置邮件及-->输出资源分配方案"
   ]
  },
  {
   "cell_type": "markdown",
   "metadata": {},
   "source": [
    "### 1、找出覆盖空洞 - 空洞的用之前算的1万多\n",
    "### 主要针对非空洞的进行计算，分为两个方面。1）由于站高原因导致的覆盖优先；2）由于周边建筑高度导致的覆盖优先"
   ]
  },
  {
   "cell_type": "code",
   "execution_count": null,
   "metadata": {},
   "outputs": [],
   "source": [
    "gongcan = pd.read_csv(open('g:/1-规划/工参/工参数据/ltejizhan20191107.csv',encoding = 'gbk'))"
   ]
  },
  {
   "cell_type": "code",
   "execution_count": null,
   "metadata": {},
   "outputs": [],
   "source": [
    "coverage_hole_cell = pd.read_csv(open('G:/1-规划/评估/覆盖空洞/3-跑出的空洞小区总表-各地市/有空洞的小区-小于0.5.csv',encoding='gbk')) "
   ]
  },
  {
   "cell_type": "code",
   "execution_count": null,
   "metadata": {},
   "outputs": [],
   "source": [
    "coverage_hole_cell.columns"
   ]
  },
  {
   "cell_type": "code",
   "execution_count": null,
   "metadata": {},
   "outputs": [],
   "source": [
    "data_use = gongcan.merge(coverage_hole_cell,how='outer',left_on='小区CGI(*)',right_on='cgi',indicator=True)"
   ]
  },
  {
   "cell_type": "code",
   "execution_count": null,
   "metadata": {},
   "outputs": [],
   "source": [
    "data_use_left = data_use.loc[data_use['_merge']=='left_only']"
   ]
  },
  {
   "cell_type": "code",
   "execution_count": null,
   "metadata": {},
   "outputs": [],
   "source": [
    "data_use_left = data_use_left[['小区CGI(*)_x','所属地区_x','归属区县', '厂家名称', ' 工作频段', '网络制式(TDD/FDD)',\n",
    "                               'RRU经度_x', 'RRU纬度_x', '天线挂高','方位角_x','机械下倾角', '电子下倾角']]"
   ]
  },
  {
   "cell_type": "code",
   "execution_count": null,
   "metadata": {},
   "outputs": [],
   "source": [
    "changjing = gpd.read_file('g:/1-规划/图层/全省区域规划图层20180510/全省区域规划图层20180510/全省区域规划图层20180510.TAB',encoding='gbk')"
   ]
  },
  {
   "cell_type": "code",
   "execution_count": null,
   "metadata": {},
   "outputs": [],
   "source": [
    "data_use_left = data_use_left.loc[(data_use_left['RRU经度_x']>0) & (data_use_left['RRU纬度_x']>0)& (data_use_left['方位角_x']>0)]"
   ]
  },
  {
   "cell_type": "code",
   "execution_count": null,
   "metadata": {},
   "outputs": [],
   "source": [
    "data_use_left_p = tools_gis.add_points(data_use_left,'RRU经度_x','RRU纬度_x')"
   ]
  },
  {
   "cell_type": "code",
   "execution_count": null,
   "metadata": {},
   "outputs": [],
   "source": [
    "res_lishi = gpd.sjoin(data_use_left_p,changjing,how='left')"
   ]
  },
  {
   "cell_type": "code",
   "execution_count": null,
   "metadata": {},
   "outputs": [],
   "source": [
    "res_lishi['区域类型'] = res_lishi['区域类型'].replace({'3A景区':'乡镇','4A景区':'乡镇','5A景区':'乡镇','景区':'乡镇','热点':'乡镇'})"
   ]
  },
  {
   "cell_type": "code",
   "execution_count": null,
   "metadata": {},
   "outputs": [],
   "source": [
    "res_lishi.loc[res_lishi['区域类型'].isna(),'区域类型']='农村'"
   ]
  },
  {
   "cell_type": "code",
   "execution_count": null,
   "metadata": {
    "scrolled": true
   },
   "outputs": [],
   "source": [
    "res_lishi.groupby('区域类型').count()"
   ]
  },
  {
   "cell_type": "code",
   "execution_count": null,
   "metadata": {},
   "outputs": [],
   "source": [
    "data_use_left_use1 = tools_gis.changjing_distance(res_lishi,changjing='区域类型',zhishi=' 工作频段')"
   ]
  },
  {
   "cell_type": "code",
   "execution_count": null,
   "metadata": {},
   "outputs": [],
   "source": [
    "f = file_name_paths(path='G:/1-规划/图层/湖北建筑/湖北建筑/湖北建筑/', find='.tab', case_sensitive=False)"
   ]
  },
  {
   "cell_type": "code",
   "execution_count": null,
   "metadata": {},
   "outputs": [],
   "source": [
    "data_use_left_use1 = data_use_left_use1.drop(columns='geometry')"
   ]
  },
  {
   "cell_type": "code",
   "execution_count": null,
   "metadata": {},
   "outputs": [],
   "source": [
    "data_use_left_use1_buff = tools_gis.add_sectors_df(data_use_left_use1,\n",
    "    coords=['RRU经度_x', 'RRU纬度_x', 'd_height', '方位角_x', 'distance'],\n",
    "    has_z=False,\n",
    "    sec_col='geometry',\n",
    "    shape_dict={'beam': 120, 'per_degree': 10})"
   ]
  },
  {
   "cell_type": "code",
   "execution_count": null,
   "metadata": {
    "scrolled": true
   },
   "outputs": [],
   "source": [
    "data_use_left_use1_buff = data_use_left_use1_buff.drop(columns='index_right')"
   ]
  },
  {
   "cell_type": "code",
   "execution_count": null,
   "metadata": {
    "scrolled": false
   },
   "outputs": [],
   "source": [
    "data_add = pd.DataFrame()\n",
    "for name in f:\n",
    "    t_tu = gpd.read_file(name)\n",
    "    t_tu_1 = t_tu.to_crs({\"init\": \"epsg:4326\"})\n",
    "    data_tu_res = gpd.sjoin(data_use_left_use1_buff,t_tu_1)\n",
    "    data_tu_res_res = data_tu_res[['小区CGI(*)_x', '方位角_x', 'distance', '单位名称', '建筑物高度']]\n",
    "    data_tu_res_res['平均值'] = data_tu_res_res['建筑物高度']\n",
    "    data_group = data_tu_res_res.groupby(by = '小区CGI(*)_x').agg({'建筑物高度':'max','平均值':'mean'})\n",
    "    data_group.reset_index(inplace = True)\n",
    "    data_add = data_add.append(data_group)\n",
    "    print(name,t_tu_1.shape,data_tu_res.shape,data_add.shape)"
   ]
  },
  {
   "cell_type": "code",
   "execution_count": null,
   "metadata": {},
   "outputs": [],
   "source": [
    "data_add.to_csv('G:/1-规划/评估/覆盖空洞/输出20191226/lte142168个侠欧青周边站高.csv',encoding='gbk',index=False)"
   ]
  },
  {
   "cell_type": "code",
   "execution_count": null,
   "metadata": {},
   "outputs": [],
   "source": [
    "hb_louyu = gpd.read_fail('g:/1-规划/图层/湖北建筑/湖北建筑/湖北建筑/')"
   ]
  },
  {
   "cell_type": "markdown",
   "metadata": {},
   "source": [
    "# 20191230使用站点进行评估"
   ]
  },
  {
   "cell_type": "markdown",
   "metadata": {},
   "source": [
    "## __小区和站点的对应关系 "
   ]
  },
  {
   "cell_type": "code",
   "execution_count": null,
   "metadata": {},
   "outputs": [],
   "source": [
    "f = tools_other.file_name_paths(path='G:/1-规划/评估/竞对站点评估/2019年11月/1-基础数据/移动/计算每个地市的宏/', find=None, case_sensitive=False)"
   ]
  },
  {
   "cell_type": "code",
   "execution_count": null,
   "metadata": {
    "scrolled": false
   },
   "outputs": [],
   "source": [
    "duiying = pd.DataFrame()\n",
    "for name in f:\n",
    "    data = pd.read_excel(name,sheet_name='移动物理站',encoding='gbk')\n",
    "    data_index = pd.read_excel(name,sheet_name='移动小区',encoding='gbk')\n",
    "    data['对应小区'] = (data['FDD900_2'].map(str) + '/' + data['FDD1800_2'].map(str) + '/' + data['F_2'].map(str)\n",
    "                          + '/' + data['D_2'].map(str) + '/'+ data['E_2'].map(str) + '/'+ data['A_2'].map(str) )\n",
    "    data1 = (data.drop('对应小区', axis=1).join(data['对应小区'].str.split('/', expand=True).stack().reset_index(level=1, drop=True).rename('合并')))#列转行，一列分隔符转多行\n",
    "    data2 = data1.loc[data1['合并']!='nan']\n",
    "    linshi = data2.reset_index(drop=True)\n",
    "    data3 = linshi.reset_index()\n",
    "    data_index1 = data_index[['序号','小区中文名']]\n",
    "    data_index1['序号'] = pd.to_numeric(data_index1['序号'])\n",
    "    data3['合并'] =pd.to_numeric(data3['合并'])\n",
    "    res_t = data3.merge(data_index1,how='left',left_on='合并',right_on='序号').sort_values('index').drop_duplicates('index')\n",
    "    duiying = duiying.append(res_t)"
   ]
  },
  {
   "cell_type": "code",
   "execution_count": null,
   "metadata": {},
   "outputs": [],
   "source": [
    "duiying.to_csv('G:/1-规划/评估/竞对站点评估/2019年11月/1-基础数据/移动/计算每个地市的宏/站点和小区对应关系.csv',encoding='gbk',index=False)"
   ]
  },
  {
   "cell_type": "code",
   "execution_count": null,
   "metadata": {},
   "outputs": [],
   "source": [
    "duiying = pd.read_csv(open('G:/1-规划/评估/竞对站点评估/2019年11月/1-基础数据/移动/计算每个地市的宏/站点和小区对应关系.csv',encoding='gbk'))"
   ]
  },
  {
   "cell_type": "code",
   "execution_count": null,
   "metadata": {},
   "outputs": [],
   "source": [
    "duiying.shape"
   ]
  },
  {
   "cell_type": "markdown",
   "metadata": {},
   "source": [
    "## __站点汇总"
   ]
  },
  {
   "cell_type": "code",
   "execution_count": null,
   "metadata": {},
   "outputs": [],
   "source": [
    "zhandian = pd.DataFrame()\n",
    "for name in f:\n",
    "    data = pd.read_excel(name,sheet_name='移动物理站',encoding='gbk')\n",
    "    zhandian = zhandian.append(data)"
   ]
  },
  {
   "cell_type": "code",
   "execution_count": null,
   "metadata": {},
   "outputs": [],
   "source": [
    "zhandian = zhandian.drop_duplicates('小区中文名')"
   ]
  },
  {
   "cell_type": "code",
   "execution_count": null,
   "metadata": {},
   "outputs": [],
   "source": [
    "# zhandian.to_csv('G:/1-规划/评估/竞对站点评估/2019年11月/1-基础数据/移动/计算每个地市的宏/站点汇总.csv',encoding='gbk',index=False)\n",
    "zhandian = pd.read_csv(open('G:/1-规划/评估/竞对站点评估/2019年11月/1-基础数据/移动/计算每个地市的宏/站点汇总.csv',encoding='gbk'))"
   ]
  },
  {
   "cell_type": "code",
   "execution_count": null,
   "metadata": {},
   "outputs": [],
   "source": [
    "zhandian.shape"
   ]
  },
  {
   "cell_type": "markdown",
   "metadata": {},
   "source": [
    "## __站点求最近三个站点"
   ]
  },
  {
   "cell_type": "code",
   "execution_count": null,
   "metadata": {},
   "outputs": [],
   "source": [
    "zhandian = pd.read_csv(open('G:/1-规划/评估/竞对站点评估/2019年11月/1-基础数据/移动/计算每个地市的宏/站点汇总.csv',encoding='gbk'))"
   ]
  },
  {
   "cell_type": "code",
   "execution_count": null,
   "metadata": {},
   "outputs": [],
   "source": [
    "zhandian.columns"
   ]
  },
  {
   "cell_type": "code",
   "execution_count": null,
   "metadata": {},
   "outputs": [],
   "source": [
    "zhanzhi_zuijin = tools_gis.nearest_site(zhandian,\n",
    "    id_name_column='小区中文名',\n",
    "    lon='CellLongitude',\n",
    "    lat='CellLatitude',\n",
    "    num_min_results=3,\n",
    "    Including_itself=False)"
   ]
  },
  {
   "cell_type": "markdown",
   "metadata": {},
   "source": [
    "## __站点匹配场景_地市_区县"
   ]
  },
  {
   "cell_type": "code",
   "execution_count": null,
   "metadata": {},
   "outputs": [],
   "source": [
    "guihua = gpd.read_file('G:/1-规划/图层/全省区域规划图层20180510/全省区域规划图层20180510/全省区域规划图层20180510.TAB')"
   ]
  },
  {
   "cell_type": "code",
   "execution_count": null,
   "metadata": {},
   "outputs": [],
   "source": [
    "zhanzhi_zuijin_p = tools_gis.add_points(zhanzhi_zuijin,'CellLongitude','CellLatitude')"
   ]
  },
  {
   "cell_type": "code",
   "execution_count": null,
   "metadata": {},
   "outputs": [],
   "source": [
    "zhanzhi_changjing = gpd.sjoin(guihua,zhanzhi_zuijin_p)"
   ]
  },
  {
   "cell_type": "code",
   "execution_count": null,
   "metadata": {},
   "outputs": [],
   "source": [
    "zhanzhi_changjing1 = zhanzhi_changjing[['小区中文名','区域类型']] "
   ]
  },
  {
   "cell_type": "code",
   "execution_count": null,
   "metadata": {},
   "outputs": [],
   "source": [
    "zhanzhi_zuijin_changjing = zhanzhi_zuijin.merge(zhanzhi_changjing1,how='left',left_on='小区中文名',right_on='小区中文名',indicator=True)"
   ]
  },
  {
   "cell_type": "code",
   "execution_count": null,
   "metadata": {},
   "outputs": [],
   "source": [
    "zhanzhi_zuijin_changjing.loc[zhanzhi_zuijin_changjing['_merge']=='left_only','区域类型']= '农村'"
   ]
  },
  {
   "cell_type": "code",
   "execution_count": null,
   "metadata": {},
   "outputs": [],
   "source": [
    "zhanzhi_zuijin_changjing1 = zhanzhi_zuijin_changjing[[ '小区中文名', '网络制式(TDD/FDD)', 'CellLongitude',\n",
    "       'CellLatitude','FDD900', 'FDD1800', 'F', 'D', 'E', 'A', 'minimum_index_1', 'minimum_index_2',\n",
    "       'minimum_index_3', 'distance_1', 'distance_2', 'distance_3', 'mean','区域类型']]"
   ]
  },
  {
   "cell_type": "code",
   "execution_count": null,
   "metadata": {},
   "outputs": [],
   "source": [
    "zhanzhi_zuijin_changjing2 = zhanzhi_zuijin_changjing1.reset_index(drop=True)\n",
    "zhanzhi_zuijin_changjing3 = zhanzhi_zuijin_changjing2.reset_index()"
   ]
  },
  {
   "cell_type": "code",
   "execution_count": null,
   "metadata": {},
   "outputs": [],
   "source": [
    "gongcan = pd.read_csv(open('g:/1-规划/工参/工参数据/ltejizhan20191212.csv',encoding='gbk'))"
   ]
  },
  {
   "cell_type": "code",
   "execution_count": null,
   "metadata": {},
   "outputs": [],
   "source": [
    "gongcan_use = gongcan[['小区中文名', '所属地区','归属区县', '厂家名称']]"
   ]
  },
  {
   "cell_type": "code",
   "execution_count": null,
   "metadata": {},
   "outputs": [],
   "source": [
    "zhanzhi_zuijin_changjing4 = zhanzhi_zuijin_changjing3.merge(gongcan_use,how='left',on='小区中文名')"
   ]
  },
  {
   "cell_type": "code",
   "execution_count": null,
   "metadata": {},
   "outputs": [],
   "source": [
    "zhanzhi_zuijin_changjing5 = zhanzhi_zuijin_changjing4.drop_duplicates('index')"
   ]
  },
  {
   "cell_type": "code",
   "execution_count": null,
   "metadata": {},
   "outputs": [],
   "source": []
  },
  {
   "cell_type": "markdown",
   "metadata": {},
   "source": [
    "## __站点制作扇弧形求覆盖空洞"
   ]
  },
  {
   "cell_type": "code",
   "execution_count": null,
   "metadata": {},
   "outputs": [],
   "source": [
    "hb_ditu = gpd.read_file('g:/1-规划/图层/湖北省地市-边界-边界/全省地市边界.TAB',encoding='gbk')"
   ]
  },
  {
   "cell_type": "code",
   "execution_count": null,
   "metadata": {},
   "outputs": [],
   "source": [
    "zhanzhi_zuijin_changjing5.loc[zhanzhi_zuijin_changjing5['FDD900']>0,'zhishi']='FDD900'\n",
    "\n",
    "zhanzhi_zuijin_changjing5['区域类型'] = zhanzhi_zuijin_changjing5['区域类型'].replace({'3A景区':'乡镇','4A景区':'乡镇','5A景区':'乡镇','景区':'乡镇','热点':'乡镇'})\n",
    "\n",
    "zhanzhi_zuijin_changjing6 = tools_gis.changjing_distance(zhanzhi_zuijin_changjing5, '区域类型', 'zhishi')\n",
    "zhanzhi_zuijin_changjing6.to_csv('G:/1-规划/评估/覆盖空洞/输出20191230重新统计站点后/计算后站址_间距_字段.csv',encoding='gbk',index=False)\n",
    "zhanzhi_zuijin_changjing6 = pd.read_csv(open('G:/1-规划/评估/覆盖空洞/输出20191230重新统计站点后/计算后站址_间距_字段.csv',encoding='gbk'))"
   ]
  },
  {
   "cell_type": "code",
   "execution_count": null,
   "metadata": {
    "scrolled": true
   },
   "outputs": [],
   "source": [
    "zhan_use = zhanzhi_zuijin_changjing5[['所属地区', '区域类型', '小区中文名','CellLongitude', 'CellLatitude','distance']]"
   ]
  },
  {
   "cell_type": "code",
   "execution_count": null,
   "metadata": {
    "scrolled": true
   },
   "outputs": [],
   "source": [
    "data_buff = tools_gis.add_buffer_df(zhan_use,\n",
    "    lon='CellLongitude',\n",
    "    lat='CellLatitude',\n",
    "    buff_col='distance')"
   ]
  },
  {
   "cell_type": "code",
   "execution_count": null,
   "metadata": {},
   "outputs": [],
   "source": [
    "data_city = data_buff.dissolve(by = '所属地区')\n",
    "hb_ditu_diff = gpd.overlay(hb_ditu,data_city,how='difference')"
   ]
  },
  {
   "cell_type": "code",
   "execution_count": null,
   "metadata": {},
   "outputs": [],
   "source": [
    "hb_ditu_diff.plot(figsize=[13,13])"
   ]
  },
  {
   "cell_type": "code",
   "execution_count": null,
   "metadata": {},
   "outputs": [],
   "source": [
    "# hb_ditu_diff.to_file('G:/1-规划/评估/覆盖空洞/输出20191230重新统计站点后/覆盖空洞图层/fugaikongd.she',encoding='utf-8')"
   ]
  },
  {
   "cell_type": "code",
   "execution_count": null,
   "metadata": {},
   "outputs": [],
   "source": [
    "hb_ditu_diff = gpd.read_file('G:/1-规划/评估/覆盖空洞/输出20191230重新统计站点后/覆盖空洞图层/fugaikongd.she',encoding='utf-8')"
   ]
  },
  {
   "cell_type": "code",
   "execution_count": null,
   "metadata": {},
   "outputs": [],
   "source": [
    "# zhan_use.to_csv('G:/1-规划/评估/覆盖空洞/输出20191230重新统计站点后/覆盖空洞图层/站址数据.csv',encoding='gbk',index=False)"
   ]
  },
  {
   "cell_type": "code",
   "execution_count": null,
   "metadata": {},
   "outputs": [],
   "source": [
    "zhan_use = pd.read_csv(open('G:/1-规划/评估/覆盖空洞/输出20191230重新统计站点后/覆盖空洞图层/站址数据.csv',encoding='gbk'))"
   ]
  },
  {
   "cell_type": "markdown",
   "metadata": {},
   "source": [
    "## __站点制作2倍扇弧形关联度"
   ]
  },
  {
   "cell_type": "code",
   "execution_count": null,
   "metadata": {},
   "outputs": [],
   "source": [
    "zhan_use = pd.read_csv(open('G:/1-规划/评估/覆盖空洞/输出20191230重新统计站点后/覆盖空洞图层/站址数据.csv',encoding='gbk'))\n",
    "zhan_use['distance_2倍'] = zhan_use['distance'] + zhan_use['distance']\n",
    "zhan_use['fw'] = 0\n",
    "zhan_use1=zhan_use.copy()\n",
    "data_buff_2b = gpd.GeoDataFrame()\n",
    "for city,data_t in zhan_use1.groupby('所属地区'):\n",
    "    data_buff_t = tools_gis.add_sectors_min_max(\n",
    "        data_t,coords=[ 'CellLongitude', 'CellLatitude', 'd_height', 'fw','distance', 'distance_2倍'],\n",
    "        has_z=False,sec_col='geometry',shape_dict={'beam': 360, 'per_degree': 10})\n",
    "    data_buff_t_mianji = tools_gis.add_area(data_buff_t,column='面积原')\n",
    "    data_buff_2b = data_buff_2b.append(data_buff_t_mianji)\n",
    "    print(city,'ok-------------')\n",
    "data_buff_2b.to_csv('G:/1-规划/评估/覆盖空洞/输出20191230重新统计站点后/扇弧形图层/ok.csv',encoding='gbk')"
   ]
  },
  {
   "cell_type": "code",
   "execution_count": null,
   "metadata": {},
   "outputs": [],
   "source": [
    "data = pd.read_csv(open('G:/1-规划/评估/覆盖空洞/输出20191230重新统计站点后/扇弧形图层/ok.csv',encoding = 'gbk'),nrows=10)"
   ]
  },
  {
   "cell_type": "markdown",
   "metadata": {},
   "source": [
    "#                 -------------------使用py文件跑"
   ]
  },
  {
   "cell_type": "markdown",
   "metadata": {},
   "source": [
    "## __站点覆盖能力最强的小区站高和下倾角"
   ]
  },
  {
   "cell_type": "code",
   "execution_count": null,
   "metadata": {},
   "outputs": [],
   "source": [
    "duiying = pd.read_csv(open('G:/1-规划/评估/竞对站点评估/20200617/1-基础数据/1-移动数据/2-整理站址数据/1-使用谢总程序跑站点/4-输出/移动站址汇总.csv',encoding='gbk'))"
   ]
  },
  {
   "cell_type": "code",
   "execution_count": null,
   "metadata": {},
   "outputs": [],
   "source": [
    "duiying.columns"
   ]
  },
  {
   "cell_type": "code",
   "execution_count": null,
   "metadata": {
    "scrolled": true
   },
   "outputs": [],
   "source": [
    "duiying_guanxi = duiying.reset_index(drop = True)"
   ]
  },
  {
   "cell_type": "code",
   "execution_count": null,
   "metadata": {
    "scrolled": true
   },
   "outputs": [],
   "source": [
    "# duiying_guanxi = duiying_linshi.drop(columns='index').reset_index()"
   ]
  },
  {
   "cell_type": "code",
   "execution_count": null,
   "metadata": {},
   "outputs": [],
   "source": [
    "gongcan = pd.read_csv(open('g:/1-规划/工参/工参数据/ltejizhan20200616.csv',encoding='gbk'))"
   ]
  },
  {
   "cell_type": "code",
   "execution_count": null,
   "metadata": {},
   "outputs": [],
   "source": [
    "gongcan.columns"
   ]
  },
  {
   "cell_type": "code",
   "execution_count": null,
   "metadata": {},
   "outputs": [],
   "source": [
    "gongcan_use = gongcan[['小区中文名', '天线挂高','机械下倾角', '电子下倾角','工作频段']]"
   ]
  },
  {
   "cell_type": "code",
   "execution_count": null,
   "metadata": {},
   "outputs": [],
   "source": [
    "duiying_guanxi.columns"
   ]
  },
  {
   "cell_type": "code",
   "execution_count": null,
   "metadata": {},
   "outputs": [],
   "source": [
    "duiying_guanxi_merge = duiying_guanxi.merge(gongcan_use,how='left',left_on='小区中文名_x',right_on='小区中文名')"
   ]
  },
  {
   "cell_type": "code",
   "execution_count": null,
   "metadata": {},
   "outputs": [],
   "source": [
    "duiying_use_1 = duiying_guanxi_merge.drop_duplicates('index')"
   ]
  },
  {
   "cell_type": "code",
   "execution_count": null,
   "metadata": {},
   "outputs": [],
   "source": [
    "duiying_use_1['覆盖能力'] = duiying_use_1[' 工作频段'].replace({'FDD900':1,'FDD1800':2,'F':3,'D':4,'E':5,'A':6})"
   ]
  },
  {
   "cell_type": "code",
   "execution_count": null,
   "metadata": {},
   "outputs": [],
   "source": [
    "duiying_use_sort = duiying_use_1.sort_values('覆盖能力')"
   ]
  },
  {
   "cell_type": "code",
   "execution_count": null,
   "metadata": {},
   "outputs": [],
   "source": [
    "max_fw_hide = duiying_use_sort.groupby(by='小区中文名_x').head(1)"
   ]
  },
  {
   "cell_type": "markdown",
   "metadata": {},
   "source": [
    "## __合并新算法站址，py跑出来的数据"
   ]
  },
  {
   "cell_type": "code",
   "execution_count": null,
   "metadata": {},
   "outputs": [],
   "source": [
    "f = tools_other.file_name_paths(path='G:/1-规划/评估/覆盖空洞/输出20191230重新统计站点后/空洞站址新算法结果分地市/', find=None, case_sensitive=False)"
   ]
  },
  {
   "cell_type": "code",
   "execution_count": null,
   "metadata": {},
   "outputs": [],
   "source": [
    "zhanzhi_mianji = pd.DataFrame()\n",
    "for name in f:\n",
    "    data_t = pd.read_csv(open(name,encoding='gbk'))\n",
    "    zhanzhi_mianji = zhanzhi_mianji.append(data_t)"
   ]
  },
  {
   "cell_type": "code",
   "execution_count": null,
   "metadata": {},
   "outputs": [],
   "source": [
    "zhanzhi_mianji.shape"
   ]
  },
  {
   "cell_type": "markdown",
   "metadata": {},
   "source": [
    "## __周边建筑高度"
   ]
  },
  {
   "cell_type": "code",
   "execution_count": null,
   "metadata": {},
   "outputs": [],
   "source": [
    "df_use_jianzhu = zhanzhi_zuijin_changjing6.copy()"
   ]
  },
  {
   "cell_type": "code",
   "execution_count": null,
   "metadata": {},
   "outputs": [],
   "source": [
    "df_use_jianzhu_buff = tools_gis.add_buffer_df(df_use_jianzhu,lon='CellLongitude',lat='CellLatitude',buff_col='distance')"
   ]
  },
  {
   "cell_type": "code",
   "execution_count": null,
   "metadata": {},
   "outputs": [],
   "source": [
    "f = tools_other.file_name_paths('G:/1-规划/图层/湖北建筑/湖北建筑/湖北建筑/',find='tab')"
   ]
  },
  {
   "cell_type": "code",
   "execution_count": null,
   "metadata": {},
   "outputs": [],
   "source": [
    "sjoin_data = gpd.GeoDataFrame()\n",
    "for name in f:\n",
    "    tuceng_t = gpd.read_file(name,encoding = 'gbk')\n",
    "    tuceng_t = tuceng_t.to_crs({'init': 'epsg:4326'})\n",
    "    linshi_t = gpd.sjoin(df_use_jianzhu_buff,tuceng_t)\n",
    "    linshi_t = linshi_t[[ '小区中文名','建筑物高度']]\n",
    "    sjoin_data = sjoin_data.append(linshi_t)"
   ]
  },
  {
   "cell_type": "markdown",
   "metadata": {},
   "source": [
    "# __清单整理-匹配以上数据"
   ]
  },
  {
   "cell_type": "code",
   "execution_count": null,
   "metadata": {},
   "outputs": [],
   "source": [
    "df_use = zhanzhi_zuijin_changjing6.copy()"
   ]
  },
  {
   "cell_type": "code",
   "execution_count": null,
   "metadata": {},
   "outputs": [],
   "source": [
    "df_use.columns"
   ]
  },
  {
   "cell_type": "code",
   "execution_count": null,
   "metadata": {},
   "outputs": [],
   "source": [
    "df_use['是否空洞'] = (df_use['distance']-df_use['mean'])>0"
   ]
  },
  {
   "cell_type": "code",
   "execution_count": null,
   "metadata": {},
   "outputs": [],
   "source": [
    "zhanzhi_mianji_linshi2 = zhanzhi_mianji[['小区中文名','空洞面积','面积原']]"
   ]
  },
  {
   "cell_type": "code",
   "execution_count": null,
   "metadata": {},
   "outputs": [],
   "source": [
    "df_use_ls2 = df_use.reset_index(drop=True)"
   ]
  },
  {
   "cell_type": "code",
   "execution_count": null,
   "metadata": {},
   "outputs": [],
   "source": [
    "df_use_ls3 = df_use_ls2.drop(columns='index').reset_index()"
   ]
  },
  {
   "cell_type": "code",
   "execution_count": null,
   "metadata": {},
   "outputs": [],
   "source": [
    "df_use_ls3.drop_duplicates"
   ]
  },
  {
   "cell_type": "code",
   "execution_count": null,
   "metadata": {},
   "outputs": [],
   "source": [
    "df_use_ls4 = df_use_ls3.merge(zhanzhi_mianji_linshi2,how='left',on='小区中文名').drop_duplicates('index')"
   ]
  },
  {
   "cell_type": "code",
   "execution_count": null,
   "metadata": {},
   "outputs": [],
   "source": [
    "df_use_ls4['是否覆盖空洞_用新算法_是否空洞'] = df_use_ls4['空洞面积']/df_use_ls4['面积原']>0.5"
   ]
  },
  {
   "cell_type": "code",
   "execution_count": null,
   "metadata": {},
   "outputs": [],
   "source": [
    "max_fw_hide_ls1 = max_fw_hide[['小区中文名','天线挂高','机械下倾角','电子下倾角',' 工作频段']]"
   ]
  },
  {
   "cell_type": "code",
   "execution_count": null,
   "metadata": {},
   "outputs": [],
   "source": [
    "df_use_ls5 = df_use_ls4.merge(max_fw_hide_ls1,how='left',on='小区中文名').drop_duplicates('index')"
   ]
  },
  {
   "cell_type": "code",
   "execution_count": null,
   "metadata": {},
   "outputs": [],
   "source": [
    "sjoin_data['建筑物高度2'] = sjoin_data['建筑物高度'] \n",
    "sjoin_data['建筑物高度3'] = sjoin_data['建筑物高度'] "
   ]
  },
  {
   "cell_type": "code",
   "execution_count": null,
   "metadata": {},
   "outputs": [],
   "source": [
    "sjoin_data_linshi = sjoin_data.groupby(by = '小区中文名').agg({'建筑物高度':'mean','建筑物高度2':'count','建筑物高度3':'max'})"
   ]
  },
  {
   "cell_type": "code",
   "execution_count": null,
   "metadata": {},
   "outputs": [],
   "source": [
    "df_use_ls6 = df_use_ls5.merge(sjoin_data_linshi,how='left',on='小区中文名').drop_duplicates('index')"
   ]
  },
  {
   "cell_type": "code",
   "execution_count": null,
   "metadata": {},
   "outputs": [],
   "source": [
    "df_use_ls6.to_csv('G:/1-规划/评估/覆盖空洞/输出20191230重新统计站点后/结果表.csv',encoding='gbk',index=False)"
   ]
  },
  {
   "cell_type": "markdown",
   "metadata": {},
   "source": [
    "# 小区周边的投诉情况"
   ]
  },
  {
   "cell_type": "code",
   "execution_count": null,
   "metadata": {},
   "outputs": [],
   "source": [
    "gongcan = pd.read_csv(open('g:/1-规划/工参/工参数据/ltejizhan20191212.csv',encoding='gbk'))"
   ]
  },
  {
   "cell_type": "code",
   "execution_count": null,
   "metadata": {},
   "outputs": [],
   "source": [
    "tousu = pd.read_csv(open('G:/1-规划/评估/覆盖空洞/输出20191230重新统计站点后/投诉表/广义投诉CI匹配表-截至12月11日更新TO赵曼.csv',encoding='gbk'))"
   ]
  },
  {
   "cell_type": "code",
   "execution_count": null,
   "metadata": {},
   "outputs": [],
   "source": [
    "gongcan_use_1 = gongcan.loc[(gongcan['RRU经度']>0) & (gongcan['RRU纬度']>0)]"
   ]
  },
  {
   "cell_type": "code",
   "execution_count": null,
   "metadata": {},
   "outputs": [],
   "source": [
    "gongan_p = tools_gis.add_points(gongcan_use_1,lon='RRU经度',lat='RRU纬度')"
   ]
  },
  {
   "cell_type": "code",
   "execution_count": null,
   "metadata": {},
   "outputs": [],
   "source": [
    "tousu.columns"
   ]
  },
  {
   "cell_type": "code",
   "execution_count": null,
   "metadata": {},
   "outputs": [],
   "source": [
    "tousu_buff = tools_gis.add_buffer(tousu,'经度','纬度')"
   ]
  },
  {
   "cell_type": "code",
   "execution_count": null,
   "metadata": {},
   "outputs": [],
   "source": [
    "tousu_buff['geometry'][0]"
   ]
  },
  {
   "cell_type": "code",
   "execution_count": null,
   "metadata": {},
   "outputs": [],
   "source": [
    "res = gpd.sjoin(tousu_buff,gongan_p)"
   ]
  },
  {
   "cell_type": "code",
   "execution_count": null,
   "metadata": {},
   "outputs": [],
   "source": [
    "res.columns"
   ]
  },
  {
   "cell_type": "code",
   "execution_count": null,
   "metadata": {},
   "outputs": [],
   "source": [
    "res_use = res[[ '2019年9月投诉量','2019年10月投诉量', '2019年11月投诉量','小区中文名']]"
   ]
  },
  {
   "cell_type": "code",
   "execution_count": null,
   "metadata": {},
   "outputs": [],
   "source": [
    "res_use"
   ]
  },
  {
   "cell_type": "code",
   "execution_count": null,
   "metadata": {},
   "outputs": [],
   "source": [
    "res_use1 = res_use.groupby(by='小区中文名').agg({'2019年9月投诉量':'sum','2019年10月投诉量':'sum','2019年11月投诉量':'sum'})"
   ]
  },
  {
   "cell_type": "code",
   "execution_count": null,
   "metadata": {},
   "outputs": [],
   "source": [
    "res_use1.to_csv('G:/1-规划/评估/覆盖空洞/输出20191230重新统计站点后/投诉表/res.csv',encoding='gbk')"
   ]
  },
  {
   "cell_type": "markdown",
   "metadata": {},
   "source": [
    "# 课题是用-覆盖空洞图层"
   ]
  },
  {
   "cell_type": "code",
   "execution_count": null,
   "metadata": {},
   "outputs": [],
   "source": [
    "gongcan = pd.read_csv(open('g:/1-规划/工参/工参数据/ltejizhan20191212.csv',encoding='gbk'))"
   ]
  },
  {
   "cell_type": "code",
   "execution_count": null,
   "metadata": {},
   "outputs": [],
   "source": [
    "gongcan_use_1 = gongcan.loc[(gongcan['RRU经度']>0) & (gongcan['RRU纬度']>0) & (gongcan['方位角']>-1)]"
   ]
  },
  {
   "cell_type": "code",
   "execution_count": null,
   "metadata": {},
   "outputs": [],
   "source": [
    "gongcan_use = gongcan_use_1.copy()\n",
    "gongcan_use['小区中文名'] = gongcan_use['小区中文名'].fillna('无')"
   ]
  },
  {
   "cell_type": "code",
   "execution_count": null,
   "metadata": {},
   "outputs": [],
   "source": [
    "gongcan_use = gongcan_use.loc[~gongcan_use['小区中文名'].str.contains('W-')]\n",
    "gongcan_use = gongcan_use.loc[~gongcan_use['小区中文名'].str.contains('M-')]"
   ]
  },
  {
   "cell_type": "code",
   "execution_count": null,
   "metadata": {},
   "outputs": [],
   "source": [
    "hb_dishi = mytools.gisn.maps('湖北')"
   ]
  },
  {
   "cell_type": "code",
   "execution_count": null,
   "metadata": {},
   "outputs": [],
   "source": [
    "gongcan_use_2 = mytools.gisn.points_coverage_merge(gongcan_use_1)"
   ]
  },
  {
   "cell_type": "code",
   "execution_count": null,
   "metadata": {},
   "outputs": [],
   "source": [
    "gongcan_use_3 = mytools.gisn.changjing_distance(gongcan_use_2,'区域类型',' 工作频段')"
   ]
  },
  {
   "cell_type": "code",
   "execution_count": null,
   "metadata": {},
   "outputs": [],
   "source": [
    "gongcan_sq = mytools.gisn.add_sectors_df( gongcan_use_3,\n",
    "    coords=['RRU经度', 'RRU纬度', 'd_height', '方位角', 'distance'],\n",
    "    has_z=False,\n",
    "    sec_col='geometry',\n",
    "    shape_dict={'beam': 120, 'per_degree': 10})"
   ]
  },
  {
   "cell_type": "code",
   "execution_count": null,
   "metadata": {},
   "outputs": [],
   "source": [
    "gongcan_sq.loc[gongcan_sq['所属地区'].isna(),['所属地区','方位角']]"
   ]
  },
  {
   "cell_type": "code",
   "execution_count": null,
   "metadata": {
    "scrolled": false
   },
   "outputs": [],
   "source": [
    "gongcan_sq_hebing = gongcan_sq.dissolve(by='所属地区')"
   ]
  },
  {
   "cell_type": "code",
   "execution_count": null,
   "metadata": {},
   "outputs": [],
   "source": [
    "fugaikongd = gpd.overlay(hb_dishi,gongcan_sq_hebing,how='difference')"
   ]
  },
  {
   "cell_type": "code",
   "execution_count": null,
   "metadata": {},
   "outputs": [],
   "source": []
  },
  {
   "cell_type": "code",
   "execution_count": null,
   "metadata": {},
   "outputs": [],
   "source": [
    "gongcan_use_2 = tools_gis.points_coverage_merge(gongcan_use_1)"
   ]
  },
  {
   "cell_type": "code",
   "execution_count": null,
   "metadata": {},
   "outputs": [],
   "source": [
    "gongcan_use_2"
   ]
  },
  {
   "cell_type": "markdown",
   "metadata": {},
   "source": [
    "# 水系剔除"
   ]
  },
  {
   "cell_type": "code",
   "execution_count": null,
   "metadata": {},
   "outputs": [],
   "source": [
    "mianzhuangshuixi = mytools.othern.file_name_paths(path='G:\\\\1-规划\\\\图层\\\\HB_场景\\\\',find='面状水系.tab')\n",
    "shuiku = mytools.othern.file_name_paths(path='G:\\\\1-规划\\\\图层\\\\HB_场景\\\\',find='湖泊、水库.tab')\n",
    "\n",
    "shuixi1 = gpd.read_file(mianzhuangshuixi[0],encoding='gbk')\n",
    "shuixi2 = gpd.read_file(shuiku[0],encoding='gbk')\n",
    "print('开始导入覆盖空洞')\n",
    "kongd = gpd.read_file('G:\\\\1-规划\\\\评估\\\\覆盖空洞\\\\输出20191230重新统计站点后\\\\覆盖空洞图层\\\\fugaikongd\\\\fugaikongd.shp',encoding='utf-8')\n",
    "print('导入覆盖空洞图层完成')\n",
    "\n",
    "shuixi1['fenlei']='面状'\n",
    "shuixi2['fenlei']='湖泊'\n",
    "\n",
    "kongdong_new = gpd.overlay(kongd,shuixi2,how='difference')\n",
    "\n",
    "shuixi1['type'] =  shuixi1.type\n",
    "\n",
    "shuixi1_use = shuixi1.loc[shuixi1['type']=='Polygon'].append(shuixi1.loc[shuixi1['type']=='MultiPolygon'].explode())\n",
    "\n",
    "shuixi1_use_area = mytools.gisn.add_area(shuixi1_use)\n",
    "\n",
    "shuixi1_use_area_use = shuixi1_use_area.loc[shuixi1_use_area['面积']>100]\n",
    "\n",
    "shuixi1_use_area_use = shuixi1_use_area_use.reset_index(drop=True)\n",
    "\n",
    "shuixi1_use_area_use['geometry'] = shuixi1_use_area_use.buffer(0.00000001)\n",
    "\n",
    "shuixi1_use_area_use.shape\n",
    "\n",
    "# data_t = shuixi1_use_area_use.dissolve(by='fenlei')\n",
    "# kongdong_new_t = gpd.overlay(kongdong_new,data_t,how='difference')\n",
    "\n",
    "def myYield(df):\n",
    "    y = 1000\n",
    "    x = 0\n",
    "    while x<236973:\n",
    "        shuixi1_use_t = df.iloc[x:y,]\n",
    "        yield shuixi1_use_t\n",
    "        print('完成{cishu}。{cishu2}。。'.format(cishu=x,cishu2 = y))\n",
    "        x = y \n",
    "        y = y + 1000\n",
    "\n",
    "kongdong_new_t = kongdong_new.copy()\n",
    "for data_t in myYield(shuixi1_use_area_use):\n",
    "    data_t = data_t.dissolve(by='fenlei')\n",
    "    kongdong_new_t = gpd.overlay(kongdong_new_t,data_t,how='difference')"
   ]
  },
  {
   "cell_type": "code",
   "execution_count": null,
   "metadata": {},
   "outputs": [],
   "source": [
    "kongdong_new_t_r = gpd.read_file('G:/1-规划/报告类/2019年课题2个/寻找有价值覆盖空洞方法/基础数据/跑出的空洞小区总表-各地市/',encoding='utf-8')"
   ]
  },
  {
   "cell_type": "markdown",
   "metadata": {},
   "source": [
    "# 竞对站点"
   ]
  },
  {
   "cell_type": "code",
   "execution_count": null,
   "metadata": {},
   "outputs": [],
   "source": [
    "te_sit = pd.read_csv(open('g:/1-规划/评估/竞对站点评估/2019年11月/2-处理过程/csv/电信汇总.csv',encoding='gbk'))\n",
    "un_sit = pd.read_csv(open('g:/1-规划/评估/竞对站点评估/2019年11月/2-处理过程/csv/联通汇总.csv',encoding='gbk'))"
   ]
  },
  {
   "cell_type": "code",
   "execution_count": null,
   "metadata": {},
   "outputs": [],
   "source": [
    "te_site_use = mytools.gisn.points_coverage_merge(te_sit,lon='经度',lat='纬度')\n",
    "un_site_use = mytools.gisn.points_coverage_merge(un_sit,lon='经度',lat='纬度')"
   ]
  },
  {
   "cell_type": "code",
   "execution_count": null,
   "metadata": {},
   "outputs": [],
   "source": [
    "te_site_use['900-1800-2400'] = te_site_use['900-1800-2400'].replace('900M','FDD900M')\n",
    "un_site_use['900-1800-2400'] = un_site_use['900-1800-2400'].replace('900M','FDD900M')"
   ]
  },
  {
   "cell_type": "code",
   "execution_count": null,
   "metadata": {},
   "outputs": [],
   "source": [
    "te_site_dis = mytools.gisn.changjing_distance(te_site_use,'区域类型','900-1800-2400')\n",
    "un_site_dis = mytools.gisn.changjing_distance(un_site_use,'区域类型','900-1800-2400')"
   ]
  },
  {
   "cell_type": "code",
   "execution_count": null,
   "metadata": {},
   "outputs": [],
   "source": [
    "te_site_buffer = mytools.gisn.add_buffer_df(te_site_dis,'经度','纬度','distance')\n",
    "un_site_buffer = mytools.gisn.add_buffer_df(un_site_dis,'经度','纬度','distance')"
   ]
  },
  {
   "cell_type": "code",
   "execution_count": null,
   "metadata": {},
   "outputs": [],
   "source": [
    "te_site_buffer.columns"
   ]
  },
  {
   "cell_type": "code",
   "execution_count": null,
   "metadata": {},
   "outputs": [],
   "source": [
    "te_site_buffer_dissolve = te_site_buffer.dissolve(by='地市')\n",
    "un_site_buffer_dissolve = un_site_buffer.dissolve(by='地市')"
   ]
  },
  {
   "cell_type": "code",
   "execution_count": null,
   "metadata": {},
   "outputs": [],
   "source": [
    "te_site_kongd = gpd.overlay(kongdong_new_t_r,te_site_buffer_dissolve)\n",
    "un_site_kongd = gpd.overlay(kongdong_new_t_r,un_site_buffer_dissolve)"
   ]
  },
  {
   "cell_type": "code",
   "execution_count": null,
   "metadata": {},
   "outputs": [],
   "source": [
    "te_kongd = te_site_kongd.explode()\n",
    "un_kongd = un_site_kongd.explode()"
   ]
  },
  {
   "cell_type": "code",
   "execution_count": null,
   "metadata": {},
   "outputs": [],
   "source": [
    "te_kongd_use = te_kongd[['geometry']]\n",
    "un_kongd_use = un_kongd[['geometry']]"
   ]
  },
  {
   "cell_type": "code",
   "execution_count": null,
   "metadata": {},
   "outputs": [],
   "source": [
    "te_kongd_use.to_file('e:/te',encoding=(\"utf-8\"))\n",
    "un_kongd_use.to_file('e:/un',encoding='utf-8')"
   ]
  },
  {
   "cell_type": "code",
   "execution_count": null,
   "metadata": {},
   "outputs": [],
   "source": [
    "te_kongd_use = gpd.read_file('G:/1-规划/报告类/2019年课题2个/寻找有价值覆盖空洞方法/基础数据/te_kongd/')\n",
    "un_kongd_use = gpd.read_file('G:/1-规划/报告类/2019年课题2个/寻找有价值覆盖空洞方法/基础数据/un_kongd/')"
   ]
  }
 ],
 "metadata": {
  "kernelspec": {
   "display_name": "Python 3",
   "language": "python",
   "name": "python3"
  },
  "language_info": {
   "codemirror_mode": {
    "name": "ipython",
    "version": 3
   },
   "file_extension": ".py",
   "mimetype": "text/x-python",
   "name": "python",
   "nbconvert_exporter": "python",
   "pygments_lexer": "ipython3",
   "version": "3.7.4"
  },
  "toc": {
   "base_numbering": 1,
   "nav_menu": {},
   "number_sections": true,
   "sideBar": true,
   "skip_h1_title": false,
   "title_cell": "Table of Contents",
   "title_sidebar": "Contents",
   "toc_cell": false,
   "toc_position": {
    "height": "calc(100% - 180px)",
    "left": "10px",
    "top": "150px",
    "width": "320px"
   },
   "toc_section_display": true,
   "toc_window_display": true
  },
  "varInspector": {
   "cols": {
    "lenName": 16,
    "lenType": 16,
    "lenVar": 40
   },
   "kernels_config": {
    "python": {
     "delete_cmd_postfix": "",
     "delete_cmd_prefix": "del ",
     "library": "var_list.py",
     "varRefreshCmd": "print(var_dic_list())"
    },
    "r": {
     "delete_cmd_postfix": ") ",
     "delete_cmd_prefix": "rm(",
     "library": "var_list.r",
     "varRefreshCmd": "cat(var_dic_list()) "
    }
   },
   "types_to_exclude": [
    "module",
    "function",
    "builtin_function_or_method",
    "instance",
    "_Feature"
   ],
   "window_display": false
  }
 },
 "nbformat": 4,
 "nbformat_minor": 2
}
