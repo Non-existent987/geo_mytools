{
 "cells": [
  {
   "cell_type": "code",
   "execution_count": 1,
   "metadata": {
    "ExecuteTime": {
     "end_time": "2020-07-07T07:58:36.920255Z",
     "start_time": "2020-07-07T07:58:36.718729Z"
    }
   },
   "outputs": [],
   "source": [
    "%load_ext autoreload\n",
    "%autoreload 2"
   ]
  },
  {
   "cell_type": "code",
   "execution_count": 2,
   "metadata": {
    "ExecuteTime": {
     "end_time": "2020-07-07T07:58:40.333688Z",
     "start_time": "2020-07-07T07:58:37.690353Z"
    }
   },
   "outputs": [],
   "source": [
    "import pandas as pd\n",
    "from tqdm import tqdm\n",
    "import time\n",
    "import geopandas as gpd\n",
    "from shapely.geometry import (LinearRing, LineString, MultiLineString,\n",
    "                              MultiPoint, MultiPolygon, Point, Polygon)\n",
    "from multiprocessing import Pool\n",
    "import os\n",
    "import re\n",
    "import matplotlib.pyplot as plt\n",
    "\n",
    "import mytools\n",
    "# import importlib\n",
    "# importlib.reload(mytools)"
   ]
  },
  {
   "cell_type": "markdown",
   "metadata": {},
   "source": [
    "# 一、计算覆盖空洞生成图层"
   ]
  },
  {
   "cell_type": "markdown",
   "metadata": {},
   "source": [
    "# 1、-----------------现网覆盖区域计算---------------------------"
   ]
  },
  {
   "cell_type": "markdown",
   "metadata": {},
   "source": [
    "### 20191107 工参数据图层"
   ]
  },
  {
   "cell_type": "code",
   "execution_count": null,
   "metadata": {},
   "outputs": [],
   "source": [
    "#导入工参数据\n",
    "gongcan = pd.read_csv('G:/1-规划/工参/工参数据/ltejizhan20200616.csv',\n",
    "                      usecols=['小区CGI(*)','所属地区','小区中文名','RRU经度', 'RRU纬度','天线挂高','工作频段', '方位角','归属区县' ],encoding='gbk')"
   ]
  },
  {
   "cell_type": "code",
   "execution_count": null,
   "metadata": {},
   "outputs": [],
   "source": [
    "#设置变量通用名\n",
    "print('设置变量通用名')\n",
    "id = '小区CGI(*)'\n",
    "lon = 'RRU经度'\n",
    "lat = 'RRU纬度'\n",
    "zhishi = '工作频段'\n",
    "fw = '方位角'"
   ]
  },
  {
   "cell_type": "code",
   "execution_count": null,
   "metadata": {},
   "outputs": [],
   "source": [
    "gongcan22 = gongcan[['小区CGI(*)','所属地区']]"
   ]
  },
  {
   "cell_type": "code",
   "execution_count": null,
   "metadata": {},
   "outputs": [],
   "source": [
    "gongcan22.columns = ['CGI','city']"
   ]
  },
  {
   "cell_type": "code",
   "execution_count": null,
   "metadata": {},
   "outputs": [],
   "source": [
    "# gongcan = gongcan.loc[(gongcan['RRU经度']>108)&\n",
    "#             (gongcan['RRU经度']<117)&\n",
    "#             (gongcan['RRU纬度']>28)&\n",
    "#             (gongcan['RRU纬度']<34)&\n",
    "#            (gongcan['方位角'].notnull())]\n",
    "\n",
    "# #只要宏站\n",
    "# gongcan['小区中文名'] = gongcan['小区中文名'].fillna('无')\n",
    "# gongcan = gongcan.loc[~gongcan['小区中文名'].str.contains('W-')]\n",
    "# gongcan = gongcan.loc[~gongcan['小区中文名'].str.contains('M-')]\n",
    "\n",
    "# #打标场景\n",
    "# gongcan = mytools.gisn.points_coverage_merge(gongcan,lon,lat)\n",
    "\n",
    "# print('添加覆盖距离')\n",
    "# gongcan_loc_juli = mytools.gisn.changjing_distance(gongcan,'区域类型',zhishi)\n",
    "# gongcan_loc_juli['distance2'] = gongcan_loc_juli['distance']+gongcan_loc_juli['distance']"
   ]
  },
  {
   "cell_type": "code",
   "execution_count": null,
   "metadata": {},
   "outputs": [],
   "source": [
    "gongcan_loc_juli = pd.read_csv('G:/1-规划/评估/覆盖空洞/2020年6月/2-程序输出/修正覆盖半径/修正覆盖半径后.csv',encoding='gbk')"
   ]
  },
  {
   "cell_type": "code",
   "execution_count": null,
   "metadata": {},
   "outputs": [],
   "source": [
    "gongcan_loc_juli.head(1)"
   ]
  },
  {
   "cell_type": "code",
   "execution_count": null,
   "metadata": {},
   "outputs": [],
   "source": [
    "#做扇区\n",
    "print('做扇区')\n",
    "gongcan_s = mytools.gisn.add_sectors_df(gongcan_loc_juli,coords=[lon, lat, 'd_height', fw, 'distance_use_3'], has_z=False, sec_col='geometry', shape_dict={'beam': 120, 'per_degree': 10})\n",
    "gongcan_s.to_pickle('G:/1-规划/评估/覆盖空洞/2020年6月/2-程序输出/全网覆盖区域_修正覆盖半径后.data')"
   ]
  },
  {
   "cell_type": "code",
   "execution_count": null,
   "metadata": {},
   "outputs": [],
   "source": [
    "gongcan_s=pd.read_pickle('G:/1-规划/评估/覆盖空洞/2020年6月/2-程序输出/全网覆盖区域_修正覆盖半径后.data')"
   ]
  },
  {
   "cell_type": "code",
   "execution_count": null,
   "metadata": {},
   "outputs": [],
   "source": [
    "# gongcan_s1 = gongcan_s[['小区CGI(*)', '小区中文名', '天线挂高', '方位角',\n",
    "#        '工作频段', '归属区县', '区域类型', 'distance', 'distance_use_3', 'geometry']]\n",
    "\n",
    "# gongcan_s1.columns = ['CGI', 'NAME', 'height', 'azimuth', 'frequency', 'county', 'scene', 'distance',\n",
    "#        'distance_use', 'geometry']\n",
    "\n",
    "# gongcan_s2 = gongcan_s1.merge(gongcan22,how='left',on='CGI')\n",
    "\n",
    "# gongcan_s3 = gongcan_s2.loc[gongcan_s2['city'] == '武汉']\n",
    "\n",
    "# gongcan_s3.to_file('G:/1-规划/评估/覆盖空洞/2020年6月/2-程序输出/全网覆盖区域_修正覆盖半径后_武汉.shp',encoding='utf-8')"
   ]
  },
  {
   "cell_type": "code",
   "execution_count": null,
   "metadata": {},
   "outputs": [],
   "source": [
    "gongcan_s = gpd.GeoDataFrame(gongcan_s,crs={'init': 'epsg:4326'},geometry='geometry')"
   ]
  },
  {
   "cell_type": "code",
   "execution_count": null,
   "metadata": {
    "scrolled": false
   },
   "outputs": [],
   "source": [
    "gongcan_s.plot(figsize=(11,11))"
   ]
  },
  {
   "cell_type": "markdown",
   "metadata": {},
   "source": [
    "# 2、-----------------求原始覆盖空洞---------------------------"
   ]
  },
  {
   "cell_type": "markdown",
   "metadata": {},
   "source": [
    "### 1-按照区县合并覆盖区域"
   ]
  },
  {
   "cell_type": "code",
   "execution_count": null,
   "metadata": {},
   "outputs": [],
   "source": [
    "gongcan_s['归属区县'] = gongcan_s['归属区县'].fillna('wu')\n",
    "gongcan_city = gongcan_s.dissolve(by = '归属区县')\n",
    "gongcan_city.to_pickle('G:/1-规划/评估/覆盖空洞/2020年6月/2-程序输出/全网覆盖区域_按照区县合并_修正半径后.data')"
   ]
  },
  {
   "cell_type": "code",
   "execution_count": null,
   "metadata": {},
   "outputs": [],
   "source": [
    "gongcan_city = pd.read_pickle('G:/1-规划/评估/覆盖空洞/2020年6月/2-程序输出/全网覆盖区域_按照区县合并.data')"
   ]
  },
  {
   "cell_type": "markdown",
   "metadata": {},
   "source": [
    "### 2-求出覆盖空洞原始"
   ]
  },
  {
   "cell_type": "code",
   "execution_count": null,
   "metadata": {
    "ExecuteTime": {
     "end_time": "2020-07-01T08:14:17.227696Z",
     "start_time": "2020-07-01T08:14:16.821144Z"
    }
   },
   "outputs": [],
   "source": [
    "tu = mytools.gisn.maps('地市区县')"
   ]
  },
  {
   "cell_type": "code",
   "execution_count": null,
   "metadata": {
    "ExecuteTime": {
     "end_time": "2020-07-01T08:14:38.961455Z",
     "start_time": "2020-07-01T08:14:38.355879Z"
    }
   },
   "outputs": [],
   "source": [
    "tu_mianji = mytools.gisn.add_area(tu)"
   ]
  },
  {
   "cell_type": "code",
   "execution_count": null,
   "metadata": {
    "ExecuteTime": {
     "end_time": "2020-07-01T08:18:16.891629Z",
     "start_time": "2020-07-01T08:18:16.620595Z"
    }
   },
   "outputs": [],
   "source": [
    "tu_mianji[tu_mianji['地市']=='武汉'].to_clipboard()"
   ]
  },
  {
   "cell_type": "code",
   "execution_count": null,
   "metadata": {},
   "outputs": [],
   "source": []
  },
  {
   "cell_type": "code",
   "execution_count": null,
   "metadata": {},
   "outputs": [],
   "source": [
    "tu = mytools.gisn.maps('地市区县')\n",
    "city_tu_diff = gpd.overlay(tu,gongcan_city,how='difference')\n",
    "city_tu_diff.to_pickle('G:/1-规划/评估/覆盖空洞/2020年6月/2-程序输出/覆盖空洞1-原始_修正半径后.data')"
   ]
  },
  {
   "cell_type": "code",
   "execution_count": null,
   "metadata": {},
   "outputs": [],
   "source": [
    "city_tu_diff = pd.read_pickle('G:/1-规划/评估/覆盖空洞/2020年6月/2-程序输出/覆盖空洞1-原始.data')"
   ]
  },
  {
   "cell_type": "code",
   "execution_count": null,
   "metadata": {},
   "outputs": [],
   "source": [
    "tu.plot(figsize=(11,11),color='gray')"
   ]
  },
  {
   "cell_type": "code",
   "execution_count": null,
   "metadata": {},
   "outputs": [],
   "source": [
    "city_tu_diff.plot(figsize=(11,11),color='coral')"
   ]
  },
  {
   "cell_type": "markdown",
   "metadata": {},
   "source": [
    "# 3、-------------剔除水系-------------"
   ]
  },
  {
   "cell_type": "markdown",
   "metadata": {},
   "source": [
    "### 1-图中去湖泊"
   ]
  },
  {
   "cell_type": "code",
   "execution_count": null,
   "metadata": {},
   "outputs": [],
   "source": [
    "shuiku = mytools.othern.file_name_paths(path='G:\\\\1-规划\\\\图层\\\\HB_场景\\\\',find='湖泊、水库.tab')\n",
    "shuixi2_hb = gpd.read_file(shuiku[0],encoding='gbk')\n",
    "shuixi2_hb['fenlei']='湖泊'\n",
    "shuixi2_hb = shuixi2_hb[[ 'geometry', 'fenlei']]\n",
    "kongd = city_tu_diff.copy()\n",
    "kongdong_new = gpd.overlay(kongd,shuixi2_hb,how='difference')\n",
    "kongdong_new.to_pickle('G:/1-规划/评估/覆盖空洞/2020年6月/2-程序输出/覆盖空洞2去除湖泊_修正半径后.data')"
   ]
  },
  {
   "cell_type": "code",
   "execution_count": null,
   "metadata": {
    "ExecuteTime": {
     "end_time": "2020-07-07T02:52:46.833090Z",
     "start_time": "2020-07-07T02:52:43.967726Z"
    }
   },
   "outputs": [],
   "source": [
    "kongdong_new = pd.read_pickle('G:/1-规划/评估/覆盖空洞/2020年6月/2-程序输出/覆盖空洞2去除湖泊.data')"
   ]
  },
  {
   "cell_type": "code",
   "execution_count": null,
   "metadata": {},
   "outputs": [],
   "source": [
    "shuixi2_hb.plot(figsize=(11,11),color='royalblue')"
   ]
  },
  {
   "cell_type": "code",
   "execution_count": null,
   "metadata": {},
   "outputs": [],
   "source": [
    "shuixi1.plot(figsize=(11,11),color='darkturquoise')"
   ]
  },
  {
   "cell_type": "markdown",
   "metadata": {},
   "source": [
    "### 2-图中去面状水系"
   ]
  },
  {
   "cell_type": "code",
   "execution_count": null,
   "metadata": {},
   "outputs": [],
   "source": [
    "mianzhuangshuixi =mytools.othern.file_name_paths(path='G:/1-规划/图层/HB_场景/',find='面状水系.tab')\n",
    "shuixi1 = gpd.read_file(mianzhuangshuixi[0],encoding='gbk')"
   ]
  },
  {
   "cell_type": "code",
   "execution_count": null,
   "metadata": {},
   "outputs": [],
   "source": [
    "shuixi1['fenlei']='面状'"
   ]
  },
  {
   "cell_type": "code",
   "execution_count": null,
   "metadata": {},
   "outputs": [],
   "source": [
    "shuixi1['type'] =  shuixi1.type\n",
    "shuixi1_use = shuixi1.loc[shuixi1['type']=='Polygon'].append(shuixi1.loc[shuixi1['type']=='MultiPolygon'].explode())\n",
    "shuixi1_use_area = mytools.gisn.add_area(shuixi1_use)\n",
    "shuixi1_use_area_use = shuixi1_use_area.loc[shuixi1_use_area['面积']>100]\n",
    "shuixi1_use_area_use = shuixi1_use_area_use.reset_index(drop=True)\n",
    "shuixi1_use_area_use['geometry'] = shuixi1_use_area_use.buffer(0.00000001)"
   ]
  },
  {
   "cell_type": "code",
   "execution_count": null,
   "metadata": {},
   "outputs": [],
   "source": [
    "shuixi1_use_area_use.to_pickle('G:/1-规划/评估/覆盖空洞/2020年6月/2-程序输出/覆盖空洞2去除湖泊_预备去水系.data')"
   ]
  },
  {
   "cell_type": "code",
   "execution_count": 3,
   "metadata": {
    "ExecuteTime": {
     "end_time": "2020-07-07T07:58:58.167953Z",
     "start_time": "2020-07-07T07:58:48.384211Z"
    }
   },
   "outputs": [],
   "source": [
    "shuixi1_use_area_use = pd.read_pickle('G:/1-规划/评估/覆盖空洞/2020年6月/2-程序输出/覆盖空洞2去除湖泊_预备去水系.data')"
   ]
  },
  {
   "cell_type": "code",
   "execution_count": 4,
   "metadata": {
    "ExecuteTime": {
     "end_time": "2020-07-07T07:59:03.250098Z",
     "start_time": "2020-07-07T07:59:02.900054Z"
    }
   },
   "outputs": [],
   "source": [
    "def myYield(df):\n",
    "    y = 1000\n",
    "    x = 0\n",
    "    while x<236973:\n",
    "        shuixi1_use_t = df.iloc[x:y,]\n",
    "        yield shuixi1_use_t\n",
    "        print('完成{cishu}。{cishu2}。。'.format(cishu=x,cishu2 = y))\n",
    "        x = y \n",
    "        y = y + 1000"
   ]
  },
  {
   "cell_type": "code",
   "execution_count": 5,
   "metadata": {
    "ExecuteTime": {
     "end_time": "2020-07-07T07:59:08.564773Z",
     "start_time": "2020-07-07T07:59:07.954696Z"
    }
   },
   "outputs": [],
   "source": [
    "kongdong_new = pd.read_pickle('G:/1-规划/评估/覆盖空洞/2020年6月/2-20200706程序输出/2-覆盖空洞-2去除湖泊.data')"
   ]
  },
  {
   "cell_type": "code",
   "execution_count": 6,
   "metadata": {
    "ExecuteTime": {
     "end_time": "2020-07-07T07:59:14.913579Z",
     "start_time": "2020-07-07T07:59:14.606540Z"
    }
   },
   "outputs": [],
   "source": [
    "tu_new_t = kongdong_new.copy()"
   ]
  },
  {
   "cell_type": "code",
   "execution_count": 7,
   "metadata": {
    "ExecuteTime": {
     "end_time": "2020-07-07T12:54:31.089748Z",
     "start_time": "2020-07-07T07:59:22.391029Z"
    },
    "scrolled": true
   },
   "outputs": [
    {
     "name": "stdout",
     "output_type": "stream",
     "text": [
      "完成0。1000。。\n",
      "完成1000。2000。。\n",
      "完成2000。3000。。\n",
      "完成3000。4000。。\n",
      "完成4000。5000。。\n",
      "完成5000。6000。。\n",
      "完成6000。7000。。\n",
      "完成7000。8000。。\n",
      "完成8000。9000。。\n",
      "完成9000。10000。。\n",
      "完成10000。11000。。\n",
      "完成11000。12000。。\n",
      "完成12000。13000。。\n",
      "完成13000。14000。。\n",
      "完成14000。15000。。\n",
      "完成15000。16000。。\n",
      "完成16000。17000。。\n",
      "完成17000。18000。。\n",
      "完成18000。19000。。\n",
      "完成19000。20000。。\n",
      "完成20000。21000。。\n",
      "完成21000。22000。。\n",
      "完成22000。23000。。\n",
      "完成23000。24000。。\n",
      "完成24000。25000。。\n",
      "完成25000。26000。。\n",
      "完成26000。27000。。\n",
      "完成27000。28000。。\n",
      "完成28000。29000。。\n",
      "完成29000。30000。。\n",
      "完成30000。31000。。\n",
      "完成31000。32000。。\n",
      "完成32000。33000。。\n",
      "完成33000。34000。。\n",
      "完成34000。35000。。\n",
      "完成35000。36000。。\n",
      "完成36000。37000。。\n",
      "完成37000。38000。。\n",
      "完成38000。39000。。\n",
      "完成39000。40000。。\n",
      "完成40000。41000。。\n",
      "完成41000。42000。。\n",
      "完成42000。43000。。\n",
      "完成43000。44000。。\n",
      "完成44000。45000。。\n",
      "完成45000。46000。。\n",
      "完成46000。47000。。\n",
      "完成47000。48000。。\n",
      "完成48000。49000。。\n",
      "完成49000。50000。。\n",
      "完成50000。51000。。\n",
      "完成51000。52000。。\n",
      "完成52000。53000。。\n",
      "完成53000。54000。。\n",
      "完成54000。55000。。\n",
      "完成55000。56000。。\n",
      "完成56000。57000。。\n",
      "完成57000。58000。。\n",
      "完成58000。59000。。\n",
      "完成59000。60000。。\n",
      "完成60000。61000。。\n",
      "完成61000。62000。。\n",
      "完成62000。63000。。\n",
      "完成63000。64000。。\n",
      "完成64000。65000。。\n",
      "完成65000。66000。。\n",
      "完成66000。67000。。\n",
      "完成67000。68000。。\n",
      "完成68000。69000。。\n",
      "完成69000。70000。。\n",
      "完成70000。71000。。\n",
      "完成71000。72000。。\n",
      "完成72000。73000。。\n",
      "完成73000。74000。。\n",
      "完成74000。75000。。\n",
      "完成75000。76000。。\n",
      "完成76000。77000。。\n",
      "完成77000。78000。。\n",
      "完成78000。79000。。\n",
      "完成79000。80000。。\n",
      "完成80000。81000。。\n",
      "完成81000。82000。。\n",
      "完成82000。83000。。\n",
      "完成83000。84000。。\n",
      "完成84000。85000。。\n",
      "完成85000。86000。。\n",
      "完成86000。87000。。\n",
      "完成87000。88000。。\n",
      "完成88000。89000。。\n",
      "完成89000。90000。。\n",
      "完成90000。91000。。\n",
      "完成91000。92000。。\n",
      "完成92000。93000。。\n",
      "完成93000。94000。。\n",
      "完成94000。95000。。\n",
      "完成95000。96000。。\n",
      "完成96000。97000。。\n",
      "完成97000。98000。。\n",
      "完成98000。99000。。\n",
      "完成99000。100000。。\n",
      "完成100000。101000。。\n",
      "完成101000。102000。。\n",
      "完成102000。103000。。\n",
      "完成103000。104000。。\n",
      "完成104000。105000。。\n",
      "完成105000。106000。。\n",
      "完成106000。107000。。\n",
      "完成107000。108000。。\n",
      "完成108000。109000。。\n",
      "完成109000。110000。。\n",
      "完成110000。111000。。\n",
      "完成111000。112000。。\n",
      "完成112000。113000。。\n",
      "完成113000。114000。。\n",
      "完成114000。115000。。\n",
      "完成115000。116000。。\n",
      "完成116000。117000。。\n",
      "完成117000。118000。。\n",
      "完成118000。119000。。\n",
      "完成119000。120000。。\n",
      "完成120000。121000。。\n",
      "完成121000。122000。。\n",
      "完成122000。123000。。\n",
      "完成123000。124000。。\n",
      "完成124000。125000。。\n",
      "完成125000。126000。。\n",
      "完成126000。127000。。\n",
      "完成127000。128000。。\n",
      "完成128000。129000。。\n",
      "完成129000。130000。。\n",
      "完成130000。131000。。\n",
      "完成131000。132000。。\n",
      "完成132000。133000。。\n",
      "完成133000。134000。。\n",
      "完成134000。135000。。\n",
      "完成135000。136000。。\n",
      "完成136000。137000。。\n",
      "完成137000。138000。。\n",
      "完成138000。139000。。\n",
      "完成139000。140000。。\n",
      "完成140000。141000。。\n",
      "完成141000。142000。。\n",
      "完成142000。143000。。\n",
      "完成143000。144000。。\n",
      "完成144000。145000。。\n",
      "完成145000。146000。。\n",
      "完成146000。147000。。\n",
      "完成147000。148000。。\n",
      "完成148000。149000。。\n",
      "完成149000。150000。。\n",
      "完成150000。151000。。\n",
      "完成151000。152000。。\n",
      "完成152000。153000。。\n",
      "完成153000。154000。。\n",
      "完成154000。155000。。\n",
      "完成155000。156000。。\n",
      "完成156000。157000。。\n",
      "完成157000。158000。。\n",
      "完成158000。159000。。\n",
      "完成159000。160000。。\n",
      "完成160000。161000。。\n",
      "完成161000。162000。。\n",
      "完成162000。163000。。\n",
      "完成163000。164000。。\n",
      "完成164000。165000。。\n",
      "完成165000。166000。。\n",
      "完成166000。167000。。\n",
      "完成167000。168000。。\n",
      "完成168000。169000。。\n",
      "完成169000。170000。。\n",
      "完成170000。171000。。\n",
      "完成171000。172000。。\n",
      "完成172000。173000。。\n",
      "完成173000。174000。。\n",
      "完成174000。175000。。\n",
      "完成175000。176000。。\n",
      "完成176000。177000。。\n",
      "完成177000。178000。。\n",
      "完成178000。179000。。\n",
      "完成179000。180000。。\n",
      "完成180000。181000。。\n",
      "完成181000。182000。。\n",
      "完成182000。183000。。\n",
      "完成183000。184000。。\n",
      "完成184000。185000。。\n",
      "完成185000。186000。。\n",
      "完成186000。187000。。\n",
      "完成187000。188000。。\n",
      "完成188000。189000。。\n",
      "完成189000。190000。。\n",
      "完成190000。191000。。\n",
      "完成191000。192000。。\n",
      "完成192000。193000。。\n",
      "完成193000。194000。。\n",
      "完成194000。195000。。\n",
      "完成195000。196000。。\n",
      "完成196000。197000。。\n",
      "完成197000。198000。。\n",
      "完成198000。199000。。\n",
      "完成199000。200000。。\n",
      "完成200000。201000。。\n",
      "完成201000。202000。。\n",
      "完成202000。203000。。\n",
      "完成203000。204000。。\n",
      "完成204000。205000。。\n",
      "完成205000。206000。。\n",
      "完成206000。207000。。\n",
      "完成207000。208000。。\n",
      "完成208000。209000。。\n",
      "完成209000。210000。。\n",
      "完成210000。211000。。\n",
      "完成211000。212000。。\n",
      "完成212000。213000。。\n",
      "完成213000。214000。。\n",
      "完成214000。215000。。\n",
      "完成215000。216000。。\n",
      "完成216000。217000。。\n",
      "完成217000。218000。。\n",
      "完成218000。219000。。\n",
      "完成219000。220000。。\n",
      "完成220000。221000。。\n",
      "完成221000。222000。。\n",
      "完成222000。223000。。\n",
      "完成223000。224000。。\n",
      "完成224000。225000。。\n",
      "完成225000。226000。。\n",
      "完成226000。227000。。\n",
      "完成227000。228000。。\n",
      "完成228000。229000。。\n",
      "完成229000。230000。。\n",
      "完成230000。231000。。\n",
      "完成231000。232000。。\n",
      "完成232000。233000。。\n",
      "完成233000。234000。。\n",
      "完成234000。235000。。\n",
      "完成235000。236000。。\n",
      "完成236000。237000。。\n"
     ]
    }
   ],
   "source": [
    "for data_t in myYield(shuixi1_use_area_use):\n",
    "    data_t = data_t.dissolve(by='fenlei')\n",
    "    tu_new_t = gpd.overlay(tu_new_t,data_t,how='difference')"
   ]
  },
  {
   "cell_type": "code",
   "execution_count": 8,
   "metadata": {
    "ExecuteTime": {
     "end_time": "2020-07-07T13:03:03.563324Z",
     "start_time": "2020-07-07T13:03:00.442428Z"
    },
    "scrolled": false
   },
   "outputs": [],
   "source": [
    "tu_new_t.to_pickle('G:/1-规划/评估/覆盖空洞/2020年6月/2-覆盖空洞-2去除湖泊去水系.data')"
   ]
  },
  {
   "cell_type": "code",
   "execution_count": 9,
   "metadata": {
    "ExecuteTime": {
     "end_time": "2020-07-07T13:07:15.658836Z",
     "start_time": "2020-07-07T13:06:16.189284Z"
    }
   },
   "outputs": [],
   "source": [
    "tu_new_t.to_file('G:/1-规划/评估/覆盖空洞/2020年6月/2-程序输出/2-覆盖空洞-2去除湖泊去水系.shp',encoding='utf-8')"
   ]
  },
  {
   "cell_type": "code",
   "execution_count": null,
   "metadata": {
    "ExecuteTime": {
     "end_time": "2020-07-06T13:28:06.606780Z",
     "start_time": "2020-07-06T13:28:05.173598Z"
    }
   },
   "outputs": [],
   "source": [
    "tu_new_t = pd.read_pickle('G:/1-规划/评估/覆盖空洞/2020年6月/2-程序输出/覆盖空洞2去除湖泊_去水系_修正半径后-完成.data')"
   ]
  },
  {
   "cell_type": "code",
   "execution_count": null,
   "metadata": {},
   "outputs": [],
   "source": [
    "tu_new_t.plot(figsize=(11,11),color='coral')"
   ]
  },
  {
   "cell_type": "markdown",
   "metadata": {},
   "source": [
    "# 4、-------------空洞有效数据整理-------------"
   ]
  },
  {
   "cell_type": "markdown",
   "metadata": {},
   "source": [
    "### 1-拆分成多个空洞"
   ]
  },
  {
   "cell_type": "code",
   "execution_count": 10,
   "metadata": {
    "ExecuteTime": {
     "end_time": "2020-07-07T13:07:47.256348Z",
     "start_time": "2020-07-07T13:07:46.744783Z"
    }
   },
   "outputs": [],
   "source": [
    "tu_new_t['type'] =  tu_new_t.type"
   ]
  },
  {
   "cell_type": "code",
   "execution_count": 11,
   "metadata": {
    "ExecuteTime": {
     "end_time": "2020-07-07T13:08:17.678712Z",
     "start_time": "2020-07-07T13:08:17.162646Z"
    }
   },
   "outputs": [
    {
     "data": {
      "text/html": [
       "<div>\n",
       "<style scoped>\n",
       "    .dataframe tbody tr th:only-of-type {\n",
       "        vertical-align: middle;\n",
       "    }\n",
       "\n",
       "    .dataframe tbody tr th {\n",
       "        vertical-align: top;\n",
       "    }\n",
       "\n",
       "    .dataframe thead th {\n",
       "        text-align: right;\n",
       "    }\n",
       "</style>\n",
       "<table border=\"1\" class=\"dataframe\">\n",
       "  <thead>\n",
       "    <tr style=\"text-align: right;\">\n",
       "      <th></th>\n",
       "      <th>地市</th>\n",
       "      <th>区县</th>\n",
       "      <th>geometry</th>\n",
       "    </tr>\n",
       "    <tr>\n",
       "      <th>type</th>\n",
       "      <th></th>\n",
       "      <th></th>\n",
       "      <th></th>\n",
       "    </tr>\n",
       "  </thead>\n",
       "  <tbody>\n",
       "    <tr>\n",
       "      <td>MultiPolygon</td>\n",
       "      <td>105</td>\n",
       "      <td>105</td>\n",
       "      <td>105</td>\n",
       "    </tr>\n",
       "    <tr>\n",
       "      <td>Polygon</td>\n",
       "      <td>1</td>\n",
       "      <td>1</td>\n",
       "      <td>1</td>\n",
       "    </tr>\n",
       "  </tbody>\n",
       "</table>\n",
       "</div>"
      ],
      "text/plain": [
       "               地市   区县  geometry\n",
       "type                            \n",
       "MultiPolygon  105  105       105\n",
       "Polygon         1    1         1"
      ]
     },
     "execution_count": 11,
     "metadata": {},
     "output_type": "execute_result"
    }
   ],
   "source": [
    "tu_new_t.groupby('type').count()"
   ]
  },
  {
   "cell_type": "code",
   "execution_count": 12,
   "metadata": {
    "ExecuteTime": {
     "end_time": "2020-07-07T13:08:50.360862Z",
     "start_time": "2020-07-07T13:08:49.520755Z"
    }
   },
   "outputs": [
    {
     "name": "stderr",
     "output_type": "stream",
     "text": [
      "C:\\ProgramData\\Anaconda3\\lib\\site-packages\\pandas\\core\\frame.py:7123: FutureWarning: Sorting because non-concatenation axis is not aligned. A future version\n",
      "of pandas will change to not sort by default.\n",
      "\n",
      "To accept the future behavior, pass 'sort=False'.\n",
      "\n",
      "To retain the current behavior and silence the warning, pass 'sort=True'.\n",
      "\n",
      "  sort=sort,\n"
     ]
    }
   ],
   "source": [
    "kongd_use = tu_new_t.loc[tu_new_t['type']=='Polygon'].append(tu_new_t.loc[tu_new_t['type']=='MultiPolygon'].explode())"
   ]
  },
  {
   "cell_type": "code",
   "execution_count": 13,
   "metadata": {
    "ExecuteTime": {
     "end_time": "2020-07-07T13:09:47.660138Z",
     "start_time": "2020-07-07T13:09:21.340296Z"
    }
   },
   "outputs": [],
   "source": [
    "kongd_mianji = mytools.gisn.add_area(kongd_use)"
   ]
  },
  {
   "cell_type": "code",
   "execution_count": 14,
   "metadata": {
    "ExecuteTime": {
     "end_time": "2020-07-07T13:10:28.036265Z",
     "start_time": "2020-07-07T13:10:26.998633Z"
    }
   },
   "outputs": [
    {
     "data": {
      "text/plain": [
       "(22502, 5)"
      ]
     },
     "execution_count": 14,
     "metadata": {},
     "output_type": "execute_result"
    }
   ],
   "source": [
    "kongd_mianji.shape"
   ]
  },
  {
   "cell_type": "code",
   "execution_count": 15,
   "metadata": {
    "ExecuteTime": {
     "end_time": "2020-07-07T13:11:05.836065Z",
     "start_time": "2020-07-07T13:11:04.979956Z"
    }
   },
   "outputs": [
    {
     "data": {
      "text/html": [
       "<div>\n",
       "<style scoped>\n",
       "    .dataframe tbody tr th:only-of-type {\n",
       "        vertical-align: middle;\n",
       "    }\n",
       "\n",
       "    .dataframe tbody tr th {\n",
       "        vertical-align: top;\n",
       "    }\n",
       "\n",
       "    .dataframe thead th {\n",
       "        text-align: right;\n",
       "    }\n",
       "</style>\n",
       "<table border=\"1\" class=\"dataframe\">\n",
       "  <thead>\n",
       "    <tr style=\"text-align: right;\">\n",
       "      <th></th>\n",
       "      <th>geometry</th>\n",
       "      <th>type</th>\n",
       "      <th>区县</th>\n",
       "      <th>地市</th>\n",
       "      <th>面积</th>\n",
       "    </tr>\n",
       "  </thead>\n",
       "  <tbody>\n",
       "    <tr>\n",
       "      <td>51</td>\n",
       "      <td>POLYGON ((114.89187 30.23042, 114.89085 30.229...</td>\n",
       "      <td>Polygon</td>\n",
       "      <td>铁山区</td>\n",
       "      <td>黄石</td>\n",
       "      <td>13154.723419</td>\n",
       "    </tr>\n",
       "  </tbody>\n",
       "</table>\n",
       "</div>"
      ],
      "text/plain": [
       "                                             geometry     type   区县  地市  \\\n",
       "51  POLYGON ((114.89187 30.23042, 114.89085 30.229...  Polygon  铁山区  黄石   \n",
       "\n",
       "              面积  \n",
       "51  13154.723419  "
      ]
     },
     "execution_count": 15,
     "metadata": {},
     "output_type": "execute_result"
    }
   ],
   "source": [
    "kongd_mianji.head(1)"
   ]
  },
  {
   "cell_type": "code",
   "execution_count": null,
   "metadata": {},
   "outputs": [],
   "source": [
    "kongd_mianji.drop(columns='geometry').to_csv('G:/1-规划/评估/覆盖空洞/2020年6月/2-程序输出/覆盖空洞1去除水系的原始空洞_修正半径后空洞21706.csv',index=False,encoding='gbk')"
   ]
  },
  {
   "cell_type": "code",
   "execution_count": null,
   "metadata": {},
   "outputs": [],
   "source": [
    "kongd_mianji.to_file('G:/1-规划/评估/覆盖空洞/2020年6月/2-程序输出/覆盖空洞1去除水系的原始空洞_修正半径后.shp',encoding='utf-8')"
   ]
  },
  {
   "cell_type": "code",
   "execution_count": null,
   "metadata": {},
   "outputs": [],
   "source": [
    "# 修改算法后这一步不要了\n",
    "\n",
    "\n",
    "# #最小覆盖半径是250 最极限站间距为覆盖的1.5倍，所以半径为125的园为最小的单位\n",
    "# kongd_use_youxiao = kongd_mianji.loc[kongd_mianji['面积']>70686]\n",
    "\n",
    "# #添加id编号\n",
    "# kongd_use_youxiao2 = kongd_use_youxiao.reset_index(drop=True)\n",
    "# kongd_use_youxiao2['id'] = [ 'kd_{}'.format(str(name)) for name in kongd_use_youxiao2.index+1]\n",
    "\n",
    "# # #边简易化\n",
    "# # kongd_use3 = kongd_use2.copy()\n",
    "# # kongd_use3['geometry'] = kongd_use3.simplify(tolerance=0.001)\n",
    "\n",
    "# kongd_use_youxiao2.shape\n",
    "\n",
    "# kongd_use_youxiao2.to_file('G:/1-规划/评估/覆盖空洞/2020年6月/2-程序输出/覆盖空洞3去除冗余有效空洞{}个_修正半径后.shp'.format(\n",
    "#     kongd_use_youxiao2.shape[0]),encoding='utf-8')\n",
    "\n",
    "# kongd_use_youxiao2 = gpd.read_file('G:/1-规划/评估/覆盖空洞/2020年6月/2-程序输出/覆盖空洞3去除冗余有效空洞9819个.shp',encoding='utf-8')\n",
    "\n",
    "# kongd_use_youxiao2.to_excel('G:/1-规划/评估/覆盖空洞/2020年6月/2-程序输出/覆盖空洞3去除冗余有效空洞7143个_修正半径后.xlsx')\n",
    "\n",
    "# kongd_use_youxiao2.columns = ['geometry', 'type', 'County', 'city', 'area', 'id']\n",
    "\n",
    "# kongd_use_youxiao2.to_file('G:/1-规划/评估/覆盖空洞/2020年6月/2-程序输出/覆盖空洞3去除冗余有效空洞7143个_修正半径后mapinfo.tab',\n",
    "#                            driver='MapInfo File',encoding='gbk')\n",
    "\n",
    "# kongd_use_youxiao2 =  gpd.read_file('G:/1-规划/评估/覆盖空洞/2020年6月/2-程序输出/覆盖空洞3去除冗余有效空洞7920个_修正半径后mapinfo.tab',encoding='utf-8')"
   ]
  },
  {
   "cell_type": "code",
   "execution_count": null,
   "metadata": {},
   "outputs": [],
   "source": [
    "kongd_mianji.head(1)"
   ]
  },
  {
   "cell_type": "code",
   "execution_count": null,
   "metadata": {
    "scrolled": true
   },
   "outputs": [],
   "source": [
    "kongd_mianji.plot(figsize=(11,11))"
   ]
  },
  {
   "cell_type": "markdown",
   "metadata": {},
   "source": [
    "# 有效空洞匹配场景"
   ]
  },
  {
   "cell_type": "code",
   "execution_count": null,
   "metadata": {},
   "outputs": [],
   "source": [
    "# kongd_valid  = gpd.read_file('G:/1-规划/评估/覆盖空洞/2020年6月/2-程序输出/覆盖空洞3去除冗余有效空洞7143个_修正半径后.shp',encoding='utf-8')"
   ]
  },
  {
   "cell_type": "code",
   "execution_count": null,
   "metadata": {},
   "outputs": [],
   "source": [
    "# kongd_valid.shape"
   ]
  },
  {
   "cell_type": "code",
   "execution_count": 16,
   "metadata": {
    "ExecuteTime": {
     "end_time": "2020-07-07T13:11:45.275073Z",
     "start_time": "2020-07-07T13:11:44.522977Z"
    }
   },
   "outputs": [
    {
     "data": {
      "text/plain": [
       "{'init': 'epsg:4326'}"
      ]
     },
     "execution_count": 16,
     "metadata": {},
     "output_type": "execute_result"
    }
   ],
   "source": [
    "kongd_mianji.crs"
   ]
  },
  {
   "cell_type": "code",
   "execution_count": 17,
   "metadata": {
    "ExecuteTime": {
     "end_time": "2020-07-07T13:12:41.253681Z",
     "start_time": "2020-07-07T13:12:24.886103Z"
    }
   },
   "outputs": [],
   "source": [
    "kongd_mianji[['lon','lat']] = kongd_mianji.apply(lambda x:pd.Series(x['geometry'].centroid.coords[:][0]),axis=1)#"
   ]
  },
  {
   "cell_type": "code",
   "execution_count": 18,
   "metadata": {
    "ExecuteTime": {
     "end_time": "2020-07-07T13:13:18.167369Z",
     "start_time": "2020-07-07T13:13:13.481774Z"
    }
   },
   "outputs": [],
   "source": [
    "result = mytools.gisn.points_coverage_merge(kongd_mianji,'lon','lat')"
   ]
  },
  {
   "cell_type": "code",
   "execution_count": 19,
   "metadata": {
    "ExecuteTime": {
     "end_time": "2020-07-07T13:13:50.728003Z",
     "start_time": "2020-07-07T13:13:50.277946Z"
    }
   },
   "outputs": [
    {
     "data": {
      "text/plain": [
       "(22502, 8)"
      ]
     },
     "execution_count": 19,
     "metadata": {},
     "output_type": "execute_result"
    }
   ],
   "source": [
    "result.shape"
   ]
  },
  {
   "cell_type": "code",
   "execution_count": 20,
   "metadata": {
    "ExecuteTime": {
     "end_time": "2020-07-07T13:14:24.704818Z",
     "start_time": "2020-07-07T13:14:24.202754Z"
    }
   },
   "outputs": [],
   "source": [
    "#添加id编号\n",
    "result_id = result.reset_index(drop=True)\n",
    "result['id'] = [ 'kd_{}'.format(str(name)) for name in result_id.index+1]"
   ]
  },
  {
   "cell_type": "code",
   "execution_count": 21,
   "metadata": {
    "ExecuteTime": {
     "end_time": "2020-07-07T13:15:03.407733Z",
     "start_time": "2020-07-07T13:15:02.858163Z"
    }
   },
   "outputs": [],
   "source": [
    "result['制式'] = 'FDD1800'\n",
    "result.loc[result['区域类型']=='农村','制式']='FDD900'"
   ]
  },
  {
   "cell_type": "code",
   "execution_count": 22,
   "metadata": {
    "ExecuteTime": {
     "end_time": "2020-07-07T13:15:42.007134Z",
     "start_time": "2020-07-07T13:15:41.461065Z"
    }
   },
   "outputs": [],
   "source": [
    "result = mytools.gisn.changjing_distance(result,'区域类型','制式')"
   ]
  },
  {
   "cell_type": "code",
   "execution_count": 23,
   "metadata": {
    "ExecuteTime": {
     "end_time": "2020-07-07T13:16:15.080834Z",
     "start_time": "2020-07-07T13:16:14.627276Z"
    }
   },
   "outputs": [],
   "source": [
    "import numpy as np"
   ]
  },
  {
   "cell_type": "code",
   "execution_count": 24,
   "metadata": {
    "ExecuteTime": {
     "end_time": "2020-07-07T13:16:50.515834Z",
     "start_time": "2020-07-07T13:16:49.914257Z"
    }
   },
   "outputs": [],
   "source": [
    "result['标准面积'] = np.pi* result['distance']* result['distance']\n",
    "\n",
    "result['空洞面积比例'] = result['面积']/result['标准面积']"
   ]
  },
  {
   "cell_type": "code",
   "execution_count": 25,
   "metadata": {
    "ExecuteTime": {
     "end_time": "2020-07-07T13:17:25.575286Z",
     "start_time": "2020-07-07T13:17:25.051719Z"
    }
   },
   "outputs": [],
   "source": [
    "def fuck_data(x):\n",
    "    if x['空洞面积比例']>=1:\n",
    "        return '大'\n",
    "    elif x['空洞面积比例']>=1/3:\n",
    "        return '中'\n",
    "    elif x['空洞面积比例']>=1/6:\n",
    "        return '小'\n",
    "    else:\n",
    "        return '微'"
   ]
  },
  {
   "cell_type": "code",
   "execution_count": 26,
   "metadata": {
    "ExecuteTime": {
     "end_time": "2020-07-07T13:18:06.021422Z",
     "start_time": "2020-07-07T13:18:04.331207Z"
    }
   },
   "outputs": [],
   "source": [
    "result['空洞级别'] = result.apply(fuck_data,axis=1)"
   ]
  },
  {
   "cell_type": "code",
   "execution_count": 27,
   "metadata": {
    "ExecuteTime": {
     "end_time": "2020-07-07T13:18:40.979361Z",
     "start_time": "2020-07-07T13:18:40.480797Z"
    }
   },
   "outputs": [
    {
     "data": {
      "text/plain": [
       "(22502, 14)"
      ]
     },
     "execution_count": 27,
     "metadata": {},
     "output_type": "execute_result"
    }
   ],
   "source": [
    "result.shape"
   ]
  },
  {
   "cell_type": "code",
   "execution_count": 28,
   "metadata": {
    "ExecuteTime": {
     "end_time": "2020-07-07T13:19:21.364489Z",
     "start_time": "2020-07-07T13:19:16.659392Z"
    }
   },
   "outputs": [],
   "source": [
    "result.to_pickle('G:/1-规划/评估/覆盖空洞/2020年6月/2-程序输出/3-覆盖空洞-级别-输出22502个.data')"
   ]
  },
  {
   "cell_type": "code",
   "execution_count": null,
   "metadata": {},
   "outputs": [],
   "source": [
    "result.reindex(columns=['id','地市','区县','面积','lon','lat', '区域类型','制式','distance','标准面积','空洞面积比例','空洞级别']).to_excel(\n",
    "    'G:/1-规划/评估/覆盖空洞/2020年6月/2-程序输出/覆盖空洞3_修正半径后_剔除水系_场景空洞21706个.xlsx',index=False)"
   ]
  },
  {
   "cell_type": "code",
   "execution_count": null,
   "metadata": {},
   "outputs": [],
   "source": [
    "# result = pd.read_excel('G:/1-规划/评估/覆盖空洞/2020年6月/2-程序输出/覆盖空洞3_修正半径后_剔除水系_场景空洞21706个.xlsx')"
   ]
  },
  {
   "cell_type": "code",
   "execution_count": 29,
   "metadata": {
    "ExecuteTime": {
     "end_time": "2020-07-08T01:14:37.286119Z",
     "start_time": "2020-07-08T01:14:36.744050Z"
    }
   },
   "outputs": [
    {
     "data": {
      "text/html": [
       "<div>\n",
       "<style scoped>\n",
       "    .dataframe tbody tr th:only-of-type {\n",
       "        vertical-align: middle;\n",
       "    }\n",
       "\n",
       "    .dataframe tbody tr th {\n",
       "        vertical-align: top;\n",
       "    }\n",
       "\n",
       "    .dataframe thead th {\n",
       "        text-align: right;\n",
       "    }\n",
       "</style>\n",
       "<table border=\"1\" class=\"dataframe\">\n",
       "  <thead>\n",
       "    <tr style=\"text-align: right;\">\n",
       "      <th></th>\n",
       "      <th>geometry</th>\n",
       "      <th>type</th>\n",
       "      <th>区县</th>\n",
       "      <th>地市</th>\n",
       "      <th>面积</th>\n",
       "      <th>lon</th>\n",
       "      <th>lat</th>\n",
       "      <th>区域类型</th>\n",
       "      <th>id</th>\n",
       "      <th>制式</th>\n",
       "      <th>distance</th>\n",
       "      <th>标准面积</th>\n",
       "      <th>空洞面积比例</th>\n",
       "    </tr>\n",
       "    <tr>\n",
       "      <th>空洞级别</th>\n",
       "      <th></th>\n",
       "      <th></th>\n",
       "      <th></th>\n",
       "      <th></th>\n",
       "      <th></th>\n",
       "      <th></th>\n",
       "      <th></th>\n",
       "      <th></th>\n",
       "      <th></th>\n",
       "      <th></th>\n",
       "      <th></th>\n",
       "      <th></th>\n",
       "      <th></th>\n",
       "    </tr>\n",
       "  </thead>\n",
       "  <tbody>\n",
       "    <tr>\n",
       "      <td>中</td>\n",
       "      <td>761</td>\n",
       "      <td>761</td>\n",
       "      <td>761</td>\n",
       "      <td>761</td>\n",
       "      <td>761</td>\n",
       "      <td>761</td>\n",
       "      <td>761</td>\n",
       "      <td>761</td>\n",
       "      <td>761</td>\n",
       "      <td>761</td>\n",
       "      <td>761</td>\n",
       "      <td>761</td>\n",
       "      <td>761</td>\n",
       "    </tr>\n",
       "    <tr>\n",
       "      <td>大</td>\n",
       "      <td>524</td>\n",
       "      <td>524</td>\n",
       "      <td>524</td>\n",
       "      <td>524</td>\n",
       "      <td>524</td>\n",
       "      <td>524</td>\n",
       "      <td>524</td>\n",
       "      <td>524</td>\n",
       "      <td>524</td>\n",
       "      <td>524</td>\n",
       "      <td>524</td>\n",
       "      <td>524</td>\n",
       "      <td>524</td>\n",
       "    </tr>\n",
       "    <tr>\n",
       "      <td>小</td>\n",
       "      <td>823</td>\n",
       "      <td>823</td>\n",
       "      <td>823</td>\n",
       "      <td>823</td>\n",
       "      <td>823</td>\n",
       "      <td>823</td>\n",
       "      <td>823</td>\n",
       "      <td>823</td>\n",
       "      <td>823</td>\n",
       "      <td>823</td>\n",
       "      <td>823</td>\n",
       "      <td>823</td>\n",
       "      <td>823</td>\n",
       "    </tr>\n",
       "    <tr>\n",
       "      <td>微</td>\n",
       "      <td>20394</td>\n",
       "      <td>20394</td>\n",
       "      <td>20394</td>\n",
       "      <td>20394</td>\n",
       "      <td>20394</td>\n",
       "      <td>20394</td>\n",
       "      <td>20394</td>\n",
       "      <td>20394</td>\n",
       "      <td>20394</td>\n",
       "      <td>20394</td>\n",
       "      <td>20394</td>\n",
       "      <td>20394</td>\n",
       "      <td>20394</td>\n",
       "    </tr>\n",
       "  </tbody>\n",
       "</table>\n",
       "</div>"
      ],
      "text/plain": [
       "      geometry   type     区县     地市     面积    lon    lat   区域类型     id     制式  \\\n",
       "空洞级别                                                                            \n",
       "中          761    761    761    761    761    761    761    761    761    761   \n",
       "大          524    524    524    524    524    524    524    524    524    524   \n",
       "小          823    823    823    823    823    823    823    823    823    823   \n",
       "微        20394  20394  20394  20394  20394  20394  20394  20394  20394  20394   \n",
       "\n",
       "      distance   标准面积  空洞面积比例  \n",
       "空洞级别                           \n",
       "中          761    761     761  \n",
       "大          524    524     524  \n",
       "小          823    823     823  \n",
       "微        20394  20394   20394  "
      ]
     },
     "execution_count": 29,
     "metadata": {},
     "output_type": "execute_result"
    }
   ],
   "source": [
    "result.groupby('空洞级别').count()"
   ]
  },
  {
   "cell_type": "code",
   "execution_count": null,
   "metadata": {},
   "outputs": [],
   "source": []
  },
  {
   "cell_type": "code",
   "execution_count": null,
   "metadata": {
    "ExecuteTime": {
     "end_time": "2020-07-06T13:29:34.798979Z",
     "start_time": "2020-07-06T13:29:34.488439Z"
    }
   },
   "outputs": [],
   "source": [
    "result.columns = ['geometry', 'type', 'county', 'city', 'area', 'lon', 'lat', 'scene', 'NAME', 'frequency',\n",
    "       'distance', 'stipulate_area', 'proportion', 'level']"
   ]
  },
  {
   "cell_type": "code",
   "execution_count": null,
   "metadata": {},
   "outputs": [],
   "source": [
    "for name,data_t in result.groupby('level'):\n",
    "    print(name,data_t.shape)\n",
    "    data_t.to_file('G:/1-规划/评估/覆盖空洞/2020年6月/2-程序输出/覆盖空洞4_修后_剔水_{}.shp'.format(\n",
    "    name),encoding='utf-8')"
   ]
  },
  {
   "cell_type": "code",
   "execution_count": null,
   "metadata": {
    "ExecuteTime": {
     "end_time": "2020-07-06T13:30:38.918121Z",
     "start_time": "2020-07-06T13:30:14.208983Z"
    }
   },
   "outputs": [],
   "source": [
    "result.to_file('G:/1-规划/评估/覆盖空洞/2020年6月/2-程序输出/覆盖空洞5_修后_剔水_21706.shp',encoding='utf-8')"
   ]
  },
  {
   "cell_type": "code",
   "execution_count": null,
   "metadata": {
    "ExecuteTime": {
     "end_time": "2020-07-06T05:06:49.744003Z",
     "start_time": "2020-07-06T05:06:47.570727Z"
    }
   },
   "outputs": [],
   "source": [
    "result.to_pickle('G:/1-规划/评估/覆盖空洞/2020年6月/2-程序输出/覆盖空洞5_修后_剔水_21706.data')"
   ]
  },
  {
   "cell_type": "markdown",
   "metadata": {},
   "source": [
    "# 匹配武汉规划点和空洞的拟合程度"
   ]
  },
  {
   "cell_type": "code",
   "execution_count": null,
   "metadata": {},
   "outputs": [],
   "source": [
    "#导入工参数据\n",
    "gongcan = pd.read_csv('G:/1-规划/工参/工参数据/ltejizhan20200616.csv',\n",
    "                      usecols=['小区CGI(*)','网络制式(TDD/FDD)','小区中文名','RRU经度', 'RRU纬度','天线挂高','工作频段', '方位角','厂家名称','归属区县' ],encoding='gbk')\n",
    "\n",
    "# gongcan = gongcan.loc[(gongcan['RRU经度']>108)&\n",
    "#             (gongcan['RRU经度']<117)&\n",
    "#             (gongcan['RRU纬度']>28)&\n",
    "#             (gongcan['RRU纬度']<34)]"
   ]
  },
  {
   "cell_type": "code",
   "execution_count": null,
   "metadata": {},
   "outputs": [],
   "source": [
    "gongcan.to_clipboard()"
   ]
  },
  {
   "cell_type": "code",
   "execution_count": null,
   "metadata": {},
   "outputs": [],
   "source": [
    "gongcan.to_csv('d:/gongcan202006016.csv',encoding='gbk')"
   ]
  },
  {
   "cell_type": "code",
   "execution_count": null,
   "metadata": {},
   "outputs": [],
   "source": []
  },
  {
   "cell_type": "code",
   "execution_count": null,
   "metadata": {},
   "outputs": [],
   "source": [
    "data=pd.read_clipboard()"
   ]
  },
  {
   "cell_type": "code",
   "execution_count": null,
   "metadata": {},
   "outputs": [],
   "source": [
    "data_p=mytools.gisn.add_points(data)"
   ]
  },
  {
   "cell_type": "code",
   "execution_count": null,
   "metadata": {},
   "outputs": [],
   "source": [
    "res=gpd.sjoin(kongd_use_youxiao2,data_p)"
   ]
  },
  {
   "cell_type": "code",
   "execution_count": null,
   "metadata": {},
   "outputs": [],
   "source": [
    "res.head(1)"
   ]
  },
  {
   "cell_type": "code",
   "execution_count": null,
   "metadata": {},
   "outputs": [],
   "source": [
    "res.drop_duplicates('id_right').drop(columns='geometry').to_clipboard()"
   ]
  },
  {
   "cell_type": "code",
   "execution_count": null,
   "metadata": {},
   "outputs": [],
   "source": [
    "data.shape"
   ]
  },
  {
   "cell_type": "code",
   "execution_count": null,
   "metadata": {},
   "outputs": [],
   "source": [
    "13/310"
   ]
  },
  {
   "cell_type": "code",
   "execution_count": null,
   "metadata": {},
   "outputs": [],
   "source": []
  },
  {
   "cell_type": "markdown",
   "metadata": {},
   "source": [
    "# 三角函数计算站点级别的空洞"
   ]
  },
  {
   "cell_type": "code",
   "execution_count": null,
   "metadata": {},
   "outputs": [],
   "source": [
    "duiying = pd.read_csv(open(\n",
    "    'G:/1-规划/评估/竞对站点评估/20200617/1-基础数据/1-移动数据/2-整理站址数据/1-使用谢总程序跑站点/4-输出/移动站址汇总.csv',\n",
    "    encoding='gbk'))"
   ]
  },
  {
   "cell_type": "code",
   "execution_count": null,
   "metadata": {},
   "outputs": [],
   "source": [
    "duiying.columns"
   ]
  },
  {
   "cell_type": "code",
   "execution_count": null,
   "metadata": {},
   "outputs": [],
   "source": [
    "duiying['优先级']='TDD'\n",
    "duiying.loc[duiying['E'].notna(),'优先级']=5\n",
    "duiying.loc[duiying['D'].notna(),'优先级']=4\n",
    "duiying.loc[duiying['F'].notna(),'优先级']=3\n",
    "duiying.loc[duiying['FDD1800'].notna(),'优先级']=2\n",
    "duiying.loc[duiying['FDD900'].notna(),'优先级']=1"
   ]
  },
  {
   "cell_type": "code",
   "execution_count": null,
   "metadata": {},
   "outputs": [],
   "source": [
    "duiying_sort = duiying.sort_values('优先级')"
   ]
  },
  {
   "cell_type": "markdown",
   "metadata": {},
   "source": [
    "# 站高和周边的建筑物比较"
   ]
  },
  {
   "cell_type": "code",
   "execution_count": null,
   "metadata": {},
   "outputs": [],
   "source": [
    "duiying = pd.read_csv(open(\n",
    "    'G:/1-规划/评估/竞对站点评估/20200617/1-基础数据/1-移动数据/2-整理站址数据/1-使用谢总程序跑站点/4-输出/移动站址汇总.csv',\n",
    "    encoding='gbk'))"
   ]
  },
  {
   "cell_type": "code",
   "execution_count": null,
   "metadata": {},
   "outputs": [],
   "source": [
    "duiying.loc[duiying['FDD900'].notna(),'FDD900']='FDD900'"
   ]
  },
  {
   "cell_type": "code",
   "execution_count": null,
   "metadata": {},
   "outputs": [],
   "source": [
    "duiying_changjing = mytools.gisn.points_coverage_merge(duiying,'CellLongitude','CellLatitude')"
   ]
  },
  {
   "cell_type": "code",
   "execution_count": null,
   "metadata": {},
   "outputs": [],
   "source": [
    "duiying_juli = mytools.gisn.changjing_distance(duiying_changjing,'区域类型','FDD900')"
   ]
  },
  {
   "cell_type": "code",
   "execution_count": null,
   "metadata": {},
   "outputs": [],
   "source": [
    "df_use_jianzhu_buff = mytools.gisn.add_buffer_df(duiying_juli,lon='CellLongitude',lat='CellLatitude',buff_col='distance')"
   ]
  },
  {
   "cell_type": "code",
   "execution_count": null,
   "metadata": {},
   "outputs": [],
   "source": [
    "f = mytools.othern.file_name_paths('G:/1-规划/图层/湖北建筑/湖北建筑/湖北建筑/',find='tab')"
   ]
  },
  {
   "cell_type": "code",
   "execution_count": null,
   "metadata": {},
   "outputs": [],
   "source": [
    "sjoin_data = gpd.GeoDataFrame()\n",
    "for name in f:\n",
    "    tuceng_t = gpd.read_file(name,encoding = 'gbk')\n",
    "    tuceng_t = tuceng_t.to_crs({'init': 'epsg:4326'})\n",
    "    linshi_t = gpd.sjoin(df_use_jianzhu_buff,tuceng_t)\n",
    "    linshi_t = linshi_t[[ '小区中文名','建筑物高度']]\n",
    "    sjoin_data = sjoin_data.append(linshi_t)"
   ]
  },
  {
   "cell_type": "code",
   "execution_count": null,
   "metadata": {},
   "outputs": [],
   "source": [
    "sjoin_data['建筑物高度2'] = sjoin_data['建筑物高度'] \n",
    "sjoin_data['建筑物高度3'] = sjoin_data['建筑物高度'] "
   ]
  },
  {
   "cell_type": "code",
   "execution_count": null,
   "metadata": {},
   "outputs": [],
   "source": [
    "sjoin_data_linshi = sjoin_data.groupby(by = '小区中文名').agg({'建筑物高度':'mean','建筑物高度2':'count','建筑物高度3':'max'})"
   ]
  },
  {
   "cell_type": "code",
   "execution_count": null,
   "metadata": {},
   "outputs": [],
   "source": [
    "sjoin_data_linshi = sjoin_data_linshi.reset_index()"
   ]
  },
  {
   "cell_type": "code",
   "execution_count": null,
   "metadata": {},
   "outputs": [],
   "source": [
    "df_use_ls6 = duiying.merge(sjoin_data_linshi,how='left',on='小区中文名')"
   ]
  },
  {
   "cell_type": "code",
   "execution_count": null,
   "metadata": {},
   "outputs": [],
   "source": [
    "gongcan = pd.read_csv('G:/1-规划/工参/工参数据/ltejizhan20200616.csv',\n",
    "                      usecols=['小区CGI(*)','小区中文名','RRU经度', 'RRU纬度','天线挂高','工作频段', '方位角','归属区县' ]\n",
    "                      ,encoding='gbk')"
   ]
  },
  {
   "cell_type": "code",
   "execution_count": null,
   "metadata": {},
   "outputs": [],
   "source": [
    "gongcan = gongcan.loc[(gongcan['RRU经度']>108)&\n",
    "            (gongcan['RRU经度']<117)&\n",
    "            (gongcan['RRU纬度']>28)&\n",
    "            (gongcan['RRU纬度']<34)&\n",
    "           (gongcan['天线挂高'].notnull())]"
   ]
  },
  {
   "cell_type": "code",
   "execution_count": null,
   "metadata": {},
   "outputs": [],
   "source": [
    "gongcan_use = gongcan[['小区中文名','天线挂高']]"
   ]
  },
  {
   "cell_type": "code",
   "execution_count": null,
   "metadata": {},
   "outputs": [],
   "source": [
    "df_use_ls6.drop_duplicates"
   ]
  },
  {
   "cell_type": "code",
   "execution_count": null,
   "metadata": {},
   "outputs": [],
   "source": [
    "kd_jz_gd = df_use_ls6.reset_index().merge(gongcan_use,on='小区中文名').drop_duplicates('index')"
   ]
  },
  {
   "cell_type": "code",
   "execution_count": null,
   "metadata": {},
   "outputs": [],
   "source": [
    "kd_jz_gd.to_csv('G:/1-规划/评估/覆盖空洞/2020年6月/2-程序输出/周边建筑高度/站址级别周边建筑高度输出表.csv',encoding='gbk',index=False)"
   ]
  },
  {
   "cell_type": "code",
   "execution_count": null,
   "metadata": {},
   "outputs": [],
   "source": []
  },
  {
   "cell_type": "code",
   "execution_count": null,
   "metadata": {},
   "outputs": [],
   "source": []
  },
  {
   "cell_type": "code",
   "execution_count": null,
   "metadata": {},
   "outputs": [],
   "source": []
  },
  {
   "cell_type": "code",
   "execution_count": null,
   "metadata": {},
   "outputs": [],
   "source": []
  },
  {
   "cell_type": "code",
   "execution_count": null,
   "metadata": {},
   "outputs": [],
   "source": [
    "# df_use_ls6.to_csv('G:/1-规划/评估/覆盖空洞/输出20191230重新统计站点后/结果表.csv',encoding='gbk',index=False)"
   ]
  },
  {
   "cell_type": "code",
   "execution_count": null,
   "metadata": {},
   "outputs": [],
   "source": [
    "# df_use_ls6.to_csv('G:/1-规划/评估/覆盖空洞/输出20191230重新统计站点后/结果表.csv',encoding='gbk',index=False)"
   ]
  },
  {
   "cell_type": "code",
   "execution_count": null,
   "metadata": {},
   "outputs": [],
   "source": []
  },
  {
   "cell_type": "markdown",
   "metadata": {},
   "source": [
    "# 20191226评估覆盖空洞"
   ]
  },
  {
   "cell_type": "markdown",
   "metadata": {},
   "source": [
    "## 找出全省覆盖空洞-->设置邮件及-->输出资源分配方案"
   ]
  },
  {
   "cell_type": "markdown",
   "metadata": {},
   "source": [
    "### 1、找出覆盖空洞 - 空洞的用之前算的1万多\n",
    "### 主要针对非空洞的进行计算，分为两个方面。1）由于站高原因导致的覆盖优先；2）由于周边建筑高度导致的覆盖优先"
   ]
  },
  {
   "cell_type": "code",
   "execution_count": null,
   "metadata": {},
   "outputs": [],
   "source": [
    "gongcan = pd.read_csv(open('g:/1-规划/工参/工参数据/ltejizhan20191107.csv',encoding = 'gbk'))"
   ]
  },
  {
   "cell_type": "code",
   "execution_count": null,
   "metadata": {},
   "outputs": [],
   "source": [
    "coverage_hole_cell = pd.read_csv(open('G:/1-规划/评估/覆盖空洞/3-跑出的空洞小区总表-各地市/有空洞的小区-小于0.5.csv',encoding='gbk')) "
   ]
  },
  {
   "cell_type": "code",
   "execution_count": null,
   "metadata": {},
   "outputs": [],
   "source": [
    "coverage_hole_cell.columns"
   ]
  },
  {
   "cell_type": "code",
   "execution_count": null,
   "metadata": {},
   "outputs": [],
   "source": [
    "data_use = gongcan.merge(coverage_hole_cell,how='outer',left_on='小区CGI(*)',right_on='cgi',indicator=True)"
   ]
  },
  {
   "cell_type": "code",
   "execution_count": null,
   "metadata": {},
   "outputs": [],
   "source": [
    "data_use_left = data_use.loc[data_use['_merge']=='left_only']"
   ]
  },
  {
   "cell_type": "code",
   "execution_count": null,
   "metadata": {},
   "outputs": [],
   "source": [
    "data_use_left = data_use_left[['小区CGI(*)_x','所属地区_x','归属区县', '厂家名称', ' 工作频段', '网络制式(TDD/FDD)',\n",
    "                               'RRU经度_x', 'RRU纬度_x', '天线挂高','方位角_x','机械下倾角', '电子下倾角']]"
   ]
  },
  {
   "cell_type": "code",
   "execution_count": null,
   "metadata": {},
   "outputs": [],
   "source": [
    "changjing = gpd.read_file('g:/1-规划/图层/全省区域规划图层20180510/全省区域规划图层20180510/全省区域规划图层20180510.TAB',encoding='gbk')"
   ]
  },
  {
   "cell_type": "code",
   "execution_count": null,
   "metadata": {},
   "outputs": [],
   "source": [
    "data_use_left = data_use_left.loc[(data_use_left['RRU经度_x']>0) & (data_use_left['RRU纬度_x']>0)& (data_use_left['方位角_x']>0)]"
   ]
  },
  {
   "cell_type": "code",
   "execution_count": null,
   "metadata": {},
   "outputs": [],
   "source": [
    "data_use_left_p = tools_gis.add_points(data_use_left,'RRU经度_x','RRU纬度_x')"
   ]
  },
  {
   "cell_type": "code",
   "execution_count": null,
   "metadata": {},
   "outputs": [],
   "source": [
    "res_lishi = gpd.sjoin(data_use_left_p,changjing,how='left')"
   ]
  },
  {
   "cell_type": "code",
   "execution_count": null,
   "metadata": {},
   "outputs": [],
   "source": [
    "res_lishi['区域类型'] = res_lishi['区域类型'].replace({'3A景区':'乡镇','4A景区':'乡镇','5A景区':'乡镇','景区':'乡镇','热点':'乡镇'})"
   ]
  },
  {
   "cell_type": "code",
   "execution_count": null,
   "metadata": {},
   "outputs": [],
   "source": [
    "res_lishi.loc[res_lishi['区域类型'].isna(),'区域类型']='农村'"
   ]
  },
  {
   "cell_type": "code",
   "execution_count": null,
   "metadata": {
    "scrolled": true
   },
   "outputs": [],
   "source": [
    "res_lishi.groupby('区域类型').count()"
   ]
  },
  {
   "cell_type": "code",
   "execution_count": null,
   "metadata": {},
   "outputs": [],
   "source": [
    "data_use_left_use1 = tools_gis.changjing_distance(res_lishi,changjing='区域类型',zhishi=' 工作频段')"
   ]
  },
  {
   "cell_type": "code",
   "execution_count": null,
   "metadata": {},
   "outputs": [],
   "source": [
    "f = file_name_paths(path='G:/1-规划/图层/湖北建筑/湖北建筑/湖北建筑/', find='.tab', case_sensitive=False)"
   ]
  },
  {
   "cell_type": "code",
   "execution_count": null,
   "metadata": {},
   "outputs": [],
   "source": [
    "data_use_left_use1 = data_use_left_use1.drop(columns='geometry')"
   ]
  },
  {
   "cell_type": "code",
   "execution_count": null,
   "metadata": {},
   "outputs": [],
   "source": [
    "data_use_left_use1_buff = tools_gis.add_sectors_df(data_use_left_use1,\n",
    "    coords=['RRU经度_x', 'RRU纬度_x', 'd_height', '方位角_x', 'distance'],\n",
    "    has_z=False,\n",
    "    sec_col='geometry',\n",
    "    shape_dict={'beam': 120, 'per_degree': 10})"
   ]
  },
  {
   "cell_type": "code",
   "execution_count": null,
   "metadata": {
    "scrolled": true
   },
   "outputs": [],
   "source": [
    "data_use_left_use1_buff = data_use_left_use1_buff.drop(columns='index_right')"
   ]
  },
  {
   "cell_type": "code",
   "execution_count": null,
   "metadata": {
    "scrolled": false
   },
   "outputs": [],
   "source": [
    "data_add = pd.DataFrame()\n",
    "for name in f:\n",
    "    t_tu = gpd.read_file(name)\n",
    "    t_tu_1 = t_tu.to_crs({\"init\": \"epsg:4326\"})\n",
    "    data_tu_res = gpd.sjoin(data_use_left_use1_buff,t_tu_1)\n",
    "    data_tu_res_res = data_tu_res[['小区CGI(*)_x', '方位角_x', 'distance', '单位名称', '建筑物高度']]\n",
    "    data_tu_res_res['平均值'] = data_tu_res_res['建筑物高度']\n",
    "    data_group = data_tu_res_res.groupby(by = '小区CGI(*)_x').agg({'建筑物高度':'max','平均值':'mean'})\n",
    "    data_group.reset_index(inplace = True)\n",
    "    data_add = data_add.append(data_group)\n",
    "    print(name,t_tu_1.shape,data_tu_res.shape,data_add.shape)"
   ]
  },
  {
   "cell_type": "code",
   "execution_count": null,
   "metadata": {},
   "outputs": [],
   "source": [
    "data_add.to_csv('G:/1-规划/评估/覆盖空洞/输出20191226/lte142168个侠欧青周边站高.csv',encoding='gbk',index=False)"
   ]
  },
  {
   "cell_type": "code",
   "execution_count": null,
   "metadata": {},
   "outputs": [],
   "source": [
    "hb_louyu = gpd.read_fail('g:/1-规划/图层/湖北建筑/湖北建筑/湖北建筑/')"
   ]
  },
  {
   "cell_type": "markdown",
   "metadata": {},
   "source": [
    "# 20191230使用站点进行评估"
   ]
  },
  {
   "cell_type": "markdown",
   "metadata": {},
   "source": [
    "## __小区和站点的对应关系 "
   ]
  },
  {
   "cell_type": "code",
   "execution_count": null,
   "metadata": {},
   "outputs": [],
   "source": [
    "f = tools_other.file_name_paths(path='G:/1-规划/评估/竞对站点评估/2019年11月/1-基础数据/移动/计算每个地市的宏/', find=None, case_sensitive=False)"
   ]
  },
  {
   "cell_type": "code",
   "execution_count": null,
   "metadata": {
    "scrolled": false
   },
   "outputs": [],
   "source": [
    "duiying = pd.DataFrame()\n",
    "for name in f:\n",
    "    data = pd.read_excel(name,sheet_name='移动物理站',encoding='gbk')\n",
    "    data_index = pd.read_excel(name,sheet_name='移动小区',encoding='gbk')\n",
    "    data['对应小区'] = (data['FDD900_2'].map(str) + '/' + data['FDD1800_2'].map(str) + '/' + data['F_2'].map(str)\n",
    "                          + '/' + data['D_2'].map(str) + '/'+ data['E_2'].map(str) + '/'+ data['A_2'].map(str) )\n",
    "    data1 = (data.drop('对应小区', axis=1).join(data['对应小区'].str.split('/', expand=True).stack().reset_index(level=1, drop=True).rename('合并')))#列转行，一列分隔符转多行\n",
    "    data2 = data1.loc[data1['合并']!='nan']\n",
    "    linshi = data2.reset_index(drop=True)\n",
    "    data3 = linshi.reset_index()\n",
    "    data_index1 = data_index[['序号','小区中文名']]\n",
    "    data_index1['序号'] = pd.to_numeric(data_index1['序号'])\n",
    "    data3['合并'] =pd.to_numeric(data3['合并'])\n",
    "    res_t = data3.merge(data_index1,how='left',left_on='合并',right_on='序号').sort_values('index').drop_duplicates('index')\n",
    "    duiying = duiying.append(res_t)"
   ]
  },
  {
   "cell_type": "code",
   "execution_count": null,
   "metadata": {},
   "outputs": [],
   "source": [
    "duiying.to_csv('G:/1-规划/评估/竞对站点评估/2019年11月/1-基础数据/移动/计算每个地市的宏/站点和小区对应关系.csv',encoding='gbk',index=False)"
   ]
  },
  {
   "cell_type": "code",
   "execution_count": null,
   "metadata": {},
   "outputs": [],
   "source": [
    "duiying = pd.read_csv(open('G:/1-规划/评估/竞对站点评估/2019年11月/1-基础数据/移动/计算每个地市的宏/站点和小区对应关系.csv',encoding='gbk'))"
   ]
  },
  {
   "cell_type": "code",
   "execution_count": null,
   "metadata": {},
   "outputs": [],
   "source": [
    "duiying.shape"
   ]
  },
  {
   "cell_type": "markdown",
   "metadata": {},
   "source": [
    "## __站点汇总"
   ]
  },
  {
   "cell_type": "code",
   "execution_count": null,
   "metadata": {},
   "outputs": [],
   "source": [
    "zhandian = pd.DataFrame()\n",
    "for name in f:\n",
    "    data = pd.read_excel(name,sheet_name='移动物理站',encoding='gbk')\n",
    "    zhandian = zhandian.append(data)"
   ]
  },
  {
   "cell_type": "code",
   "execution_count": null,
   "metadata": {},
   "outputs": [],
   "source": [
    "zhandian = zhandian.drop_duplicates('小区中文名')"
   ]
  },
  {
   "cell_type": "code",
   "execution_count": null,
   "metadata": {},
   "outputs": [],
   "source": [
    "# zhandian.to_csv('G:/1-规划/评估/竞对站点评估/2019年11月/1-基础数据/移动/计算每个地市的宏/站点汇总.csv',encoding='gbk',index=False)\n",
    "zhandian = pd.read_csv(open('G:/1-规划/评估/竞对站点评估/2019年11月/1-基础数据/移动/计算每个地市的宏/站点汇总.csv',encoding='gbk'))"
   ]
  },
  {
   "cell_type": "code",
   "execution_count": null,
   "metadata": {},
   "outputs": [],
   "source": [
    "zhandian.shape"
   ]
  },
  {
   "cell_type": "markdown",
   "metadata": {},
   "source": [
    "## __站点求最近三个站点"
   ]
  },
  {
   "cell_type": "code",
   "execution_count": null,
   "metadata": {},
   "outputs": [],
   "source": [
    "zhandian = pd.read_csv(open('G:/1-规划/评估/竞对站点评估/2019年11月/1-基础数据/移动/计算每个地市的宏/站点汇总.csv',encoding='gbk'))"
   ]
  },
  {
   "cell_type": "code",
   "execution_count": null,
   "metadata": {},
   "outputs": [],
   "source": [
    "zhandian.columns"
   ]
  },
  {
   "cell_type": "code",
   "execution_count": null,
   "metadata": {},
   "outputs": [],
   "source": [
    "zhanzhi_zuijin = tools_gis.nearest_site(zhandian,\n",
    "    id_name_column='小区中文名',\n",
    "    lon='CellLongitude',\n",
    "    lat='CellLatitude',\n",
    "    num_min_results=3,\n",
    "    Including_itself=False)"
   ]
  },
  {
   "cell_type": "markdown",
   "metadata": {},
   "source": [
    "## __站点匹配场景_地市_区县"
   ]
  },
  {
   "cell_type": "code",
   "execution_count": null,
   "metadata": {},
   "outputs": [],
   "source": [
    "guihua = gpd.read_file('G:/1-规划/图层/全省区域规划图层20180510/全省区域规划图层20180510/全省区域规划图层20180510.TAB')"
   ]
  },
  {
   "cell_type": "code",
   "execution_count": null,
   "metadata": {},
   "outputs": [],
   "source": [
    "zhanzhi_zuijin_p = tools_gis.add_points(zhanzhi_zuijin,'CellLongitude','CellLatitude')"
   ]
  },
  {
   "cell_type": "code",
   "execution_count": null,
   "metadata": {},
   "outputs": [],
   "source": [
    "zhanzhi_changjing = gpd.sjoin(guihua,zhanzhi_zuijin_p)"
   ]
  },
  {
   "cell_type": "code",
   "execution_count": null,
   "metadata": {},
   "outputs": [],
   "source": [
    "zhanzhi_changjing1 = zhanzhi_changjing[['小区中文名','区域类型']] "
   ]
  },
  {
   "cell_type": "code",
   "execution_count": null,
   "metadata": {},
   "outputs": [],
   "source": [
    "zhanzhi_zuijin_changjing = zhanzhi_zuijin.merge(zhanzhi_changjing1,how='left',left_on='小区中文名',right_on='小区中文名',indicator=True)"
   ]
  },
  {
   "cell_type": "code",
   "execution_count": null,
   "metadata": {},
   "outputs": [],
   "source": [
    "zhanzhi_zuijin_changjing.loc[zhanzhi_zuijin_changjing['_merge']=='left_only','区域类型']= '农村'"
   ]
  },
  {
   "cell_type": "code",
   "execution_count": null,
   "metadata": {},
   "outputs": [],
   "source": [
    "zhanzhi_zuijin_changjing1 = zhanzhi_zuijin_changjing[[ '小区中文名', '网络制式(TDD/FDD)', 'CellLongitude',\n",
    "       'CellLatitude','FDD900', 'FDD1800', 'F', 'D', 'E', 'A', 'minimum_index_1', 'minimum_index_2',\n",
    "       'minimum_index_3', 'distance_1', 'distance_2', 'distance_3', 'mean','区域类型']]"
   ]
  },
  {
   "cell_type": "code",
   "execution_count": null,
   "metadata": {},
   "outputs": [],
   "source": [
    "zhanzhi_zuijin_changjing2 = zhanzhi_zuijin_changjing1.reset_index(drop=True)\n",
    "zhanzhi_zuijin_changjing3 = zhanzhi_zuijin_changjing2.reset_index()"
   ]
  },
  {
   "cell_type": "code",
   "execution_count": null,
   "metadata": {},
   "outputs": [],
   "source": [
    "gongcan = pd.read_csv(open('g:/1-规划/工参/工参数据/ltejizhan20191212.csv',encoding='gbk'))"
   ]
  },
  {
   "cell_type": "code",
   "execution_count": null,
   "metadata": {},
   "outputs": [],
   "source": [
    "gongcan_use = gongcan[['小区中文名', '所属地区','归属区县', '厂家名称']]"
   ]
  },
  {
   "cell_type": "code",
   "execution_count": null,
   "metadata": {},
   "outputs": [],
   "source": [
    "zhanzhi_zuijin_changjing4 = zhanzhi_zuijin_changjing3.merge(gongcan_use,how='left',on='小区中文名')"
   ]
  },
  {
   "cell_type": "code",
   "execution_count": null,
   "metadata": {},
   "outputs": [],
   "source": [
    "zhanzhi_zuijin_changjing5 = zhanzhi_zuijin_changjing4.drop_duplicates('index')"
   ]
  },
  {
   "cell_type": "code",
   "execution_count": null,
   "metadata": {},
   "outputs": [],
   "source": []
  },
  {
   "cell_type": "markdown",
   "metadata": {},
   "source": [
    "## __站点制作扇弧形求覆盖空洞"
   ]
  },
  {
   "cell_type": "code",
   "execution_count": null,
   "metadata": {},
   "outputs": [],
   "source": [
    "hb_ditu = gpd.read_file('g:/1-规划/图层/湖北省地市-边界-边界/全省地市边界.TAB',encoding='gbk')"
   ]
  },
  {
   "cell_type": "code",
   "execution_count": null,
   "metadata": {},
   "outputs": [],
   "source": [
    "zhanzhi_zuijin_changjing5.loc[zhanzhi_zuijin_changjing5['FDD900']>0,'zhishi']='FDD900'\n",
    "\n",
    "zhanzhi_zuijin_changjing5['区域类型'] = zhanzhi_zuijin_changjing5['区域类型'].replace({'3A景区':'乡镇','4A景区':'乡镇','5A景区':'乡镇','景区':'乡镇','热点':'乡镇'})\n",
    "\n",
    "zhanzhi_zuijin_changjing6 = tools_gis.changjing_distance(zhanzhi_zuijin_changjing5, '区域类型', 'zhishi')\n",
    "zhanzhi_zuijin_changjing6.to_csv('G:/1-规划/评估/覆盖空洞/输出20191230重新统计站点后/计算后站址_间距_字段.csv',encoding='gbk',index=False)\n",
    "zhanzhi_zuijin_changjing6 = pd.read_csv(open('G:/1-规划/评估/覆盖空洞/输出20191230重新统计站点后/计算后站址_间距_字段.csv',encoding='gbk'))"
   ]
  },
  {
   "cell_type": "code",
   "execution_count": null,
   "metadata": {
    "scrolled": true
   },
   "outputs": [],
   "source": [
    "zhan_use = zhanzhi_zuijin_changjing5[['所属地区', '区域类型', '小区中文名','CellLongitude', 'CellLatitude','distance']]"
   ]
  },
  {
   "cell_type": "code",
   "execution_count": null,
   "metadata": {
    "scrolled": true
   },
   "outputs": [],
   "source": [
    "data_buff = tools_gis.add_buffer_df(zhan_use,\n",
    "    lon='CellLongitude',\n",
    "    lat='CellLatitude',\n",
    "    buff_col='distance')"
   ]
  },
  {
   "cell_type": "code",
   "execution_count": null,
   "metadata": {},
   "outputs": [],
   "source": [
    "data_city = data_buff.dissolve(by = '所属地区')\n",
    "hb_ditu_diff = gpd.overlay(hb_ditu,data_city,how='difference')"
   ]
  },
  {
   "cell_type": "code",
   "execution_count": null,
   "metadata": {},
   "outputs": [],
   "source": [
    "hb_ditu_diff.plot(figsize=[13,13])"
   ]
  },
  {
   "cell_type": "code",
   "execution_count": null,
   "metadata": {},
   "outputs": [],
   "source": [
    "# hb_ditu_diff.to_file('G:/1-规划/评估/覆盖空洞/输出20191230重新统计站点后/覆盖空洞图层/fugaikongd.she',encoding='utf-8')"
   ]
  },
  {
   "cell_type": "code",
   "execution_count": null,
   "metadata": {},
   "outputs": [],
   "source": [
    "hb_ditu_diff = gpd.read_file('G:/1-规划/评估/覆盖空洞/输出20191230重新统计站点后/覆盖空洞图层/fugaikongd.she',encoding='utf-8')"
   ]
  },
  {
   "cell_type": "code",
   "execution_count": null,
   "metadata": {},
   "outputs": [],
   "source": [
    "# zhan_use.to_csv('G:/1-规划/评估/覆盖空洞/输出20191230重新统计站点后/覆盖空洞图层/站址数据.csv',encoding='gbk',index=False)"
   ]
  },
  {
   "cell_type": "code",
   "execution_count": null,
   "metadata": {},
   "outputs": [],
   "source": [
    "zhan_use = pd.read_csv(open('G:/1-规划/评估/覆盖空洞/输出20191230重新统计站点后/覆盖空洞图层/站址数据.csv',encoding='gbk'))"
   ]
  },
  {
   "cell_type": "markdown",
   "metadata": {},
   "source": [
    "## __站点制作2倍扇弧形关联度"
   ]
  },
  {
   "cell_type": "code",
   "execution_count": null,
   "metadata": {},
   "outputs": [],
   "source": [
    "zhan_use = pd.read_csv(open('G:/1-规划/评估/覆盖空洞/输出20191230重新统计站点后/覆盖空洞图层/站址数据.csv',encoding='gbk'))\n",
    "zhan_use['distance_2倍'] = zhan_use['distance'] + zhan_use['distance']\n",
    "zhan_use['fw'] = 0\n",
    "zhan_use1=zhan_use.copy()\n",
    "data_buff_2b = gpd.GeoDataFrame()\n",
    "for city,data_t in zhan_use1.groupby('所属地区'):\n",
    "    data_buff_t = tools_gis.add_sectors_min_max(\n",
    "        data_t,coords=[ 'CellLongitude', 'CellLatitude', 'd_height', 'fw','distance', 'distance_2倍'],\n",
    "        has_z=False,sec_col='geometry',shape_dict={'beam': 360, 'per_degree': 10})\n",
    "    data_buff_t_mianji = tools_gis.add_area(data_buff_t,column='面积原')\n",
    "    data_buff_2b = data_buff_2b.append(data_buff_t_mianji)\n",
    "    print(city,'ok-------------')\n",
    "data_buff_2b.to_csv('G:/1-规划/评估/覆盖空洞/输出20191230重新统计站点后/扇弧形图层/ok.csv',encoding='gbk')"
   ]
  },
  {
   "cell_type": "code",
   "execution_count": null,
   "metadata": {},
   "outputs": [],
   "source": [
    "data = pd.read_csv(open('G:/1-规划/评估/覆盖空洞/输出20191230重新统计站点后/扇弧形图层/ok.csv',encoding = 'gbk'),nrows=10)"
   ]
  },
  {
   "cell_type": "markdown",
   "metadata": {},
   "source": [
    "#                 -------------------使用py文件跑"
   ]
  },
  {
   "cell_type": "markdown",
   "metadata": {},
   "source": [
    "## __站点覆盖能力最强的小区站高和下倾角"
   ]
  },
  {
   "cell_type": "code",
   "execution_count": null,
   "metadata": {},
   "outputs": [],
   "source": [
    "duiying = pd.read_csv(open('G:/1-规划/评估/竞对站点评估/20200617/1-基础数据/1-移动数据/2-整理站址数据/1-使用谢总程序跑站点/4-输出/移动站址汇总.csv',encoding='gbk'))"
   ]
  },
  {
   "cell_type": "code",
   "execution_count": null,
   "metadata": {},
   "outputs": [],
   "source": [
    "duiying.columns"
   ]
  },
  {
   "cell_type": "code",
   "execution_count": null,
   "metadata": {
    "scrolled": true
   },
   "outputs": [],
   "source": [
    "duiying_guanxi = duiying.reset_index(drop = True)"
   ]
  },
  {
   "cell_type": "code",
   "execution_count": null,
   "metadata": {
    "scrolled": true
   },
   "outputs": [],
   "source": [
    "# duiying_guanxi = duiying_linshi.drop(columns='index').reset_index()"
   ]
  },
  {
   "cell_type": "code",
   "execution_count": null,
   "metadata": {},
   "outputs": [],
   "source": [
    "gongcan = pd.read_csv(open('g:/1-规划/工参/工参数据/ltejizhan20200616.csv',encoding='gbk'))"
   ]
  },
  {
   "cell_type": "code",
   "execution_count": null,
   "metadata": {},
   "outputs": [],
   "source": [
    "gongcan.columns"
   ]
  },
  {
   "cell_type": "code",
   "execution_count": null,
   "metadata": {},
   "outputs": [],
   "source": [
    "gongcan_use = gongcan[['小区中文名', '天线挂高','机械下倾角', '电子下倾角','工作频段']]"
   ]
  },
  {
   "cell_type": "code",
   "execution_count": null,
   "metadata": {},
   "outputs": [],
   "source": [
    "duiying_guanxi.columns"
   ]
  },
  {
   "cell_type": "code",
   "execution_count": null,
   "metadata": {},
   "outputs": [],
   "source": [
    "duiying_guanxi_merge = duiying_guanxi.merge(gongcan_use,how='left',left_on='小区中文名_x',right_on='小区中文名')"
   ]
  },
  {
   "cell_type": "code",
   "execution_count": null,
   "metadata": {},
   "outputs": [],
   "source": [
    "duiying_use_1 = duiying_guanxi_merge.drop_duplicates('index')"
   ]
  },
  {
   "cell_type": "code",
   "execution_count": null,
   "metadata": {},
   "outputs": [],
   "source": [
    "duiying_use_1['覆盖能力'] = duiying_use_1[' 工作频段'].replace({'FDD900':1,'FDD1800':2,'F':3,'D':4,'E':5,'A':6})"
   ]
  },
  {
   "cell_type": "code",
   "execution_count": null,
   "metadata": {},
   "outputs": [],
   "source": [
    "duiying_use_sort = duiying_use_1.sort_values('覆盖能力')"
   ]
  },
  {
   "cell_type": "code",
   "execution_count": null,
   "metadata": {},
   "outputs": [],
   "source": [
    "max_fw_hide = duiying_use_sort.groupby(by='小区中文名_x').head(1)"
   ]
  },
  {
   "cell_type": "markdown",
   "metadata": {},
   "source": [
    "## __合并新算法站址，py跑出来的数据"
   ]
  },
  {
   "cell_type": "code",
   "execution_count": null,
   "metadata": {},
   "outputs": [],
   "source": [
    "f = tools_other.file_name_paths(path='G:/1-规划/评估/覆盖空洞/输出20191230重新统计站点后/空洞站址新算法结果分地市/', find=None, case_sensitive=False)"
   ]
  },
  {
   "cell_type": "code",
   "execution_count": null,
   "metadata": {},
   "outputs": [],
   "source": [
    "zhanzhi_mianji = pd.DataFrame()\n",
    "for name in f:\n",
    "    data_t = pd.read_csv(open(name,encoding='gbk'))\n",
    "    zhanzhi_mianji = zhanzhi_mianji.append(data_t)"
   ]
  },
  {
   "cell_type": "code",
   "execution_count": null,
   "metadata": {},
   "outputs": [],
   "source": [
    "zhanzhi_mianji.shape"
   ]
  },
  {
   "cell_type": "markdown",
   "metadata": {},
   "source": [
    "## __周边建筑高度"
   ]
  },
  {
   "cell_type": "code",
   "execution_count": null,
   "metadata": {},
   "outputs": [],
   "source": [
    "df_use_jianzhu = zhanzhi_zuijin_changjing6.copy()"
   ]
  },
  {
   "cell_type": "code",
   "execution_count": null,
   "metadata": {},
   "outputs": [],
   "source": [
    "df_use_jianzhu_buff = tools_gis.add_buffer_df(df_use_jianzhu,lon='CellLongitude',lat='CellLatitude',buff_col='distance')"
   ]
  },
  {
   "cell_type": "code",
   "execution_count": null,
   "metadata": {},
   "outputs": [],
   "source": [
    "f = tools_other.file_name_paths('G:/1-规划/图层/湖北建筑/湖北建筑/湖北建筑/',find='tab')"
   ]
  },
  {
   "cell_type": "code",
   "execution_count": null,
   "metadata": {},
   "outputs": [],
   "source": [
    "sjoin_data = gpd.GeoDataFrame()\n",
    "for name in f:\n",
    "    tuceng_t = gpd.read_file(name,encoding = 'gbk')\n",
    "    tuceng_t = tuceng_t.to_crs({'init': 'epsg:4326'})\n",
    "    linshi_t = gpd.sjoin(df_use_jianzhu_buff,tuceng_t)\n",
    "    linshi_t = linshi_t[[ '小区中文名','建筑物高度']]\n",
    "    sjoin_data = sjoin_data.append(linshi_t)"
   ]
  },
  {
   "cell_type": "markdown",
   "metadata": {},
   "source": [
    "# __清单整理-匹配以上数据"
   ]
  },
  {
   "cell_type": "code",
   "execution_count": null,
   "metadata": {},
   "outputs": [],
   "source": [
    "df_use = zhanzhi_zuijin_changjing6.copy()"
   ]
  },
  {
   "cell_type": "code",
   "execution_count": null,
   "metadata": {},
   "outputs": [],
   "source": [
    "df_use.columns"
   ]
  },
  {
   "cell_type": "code",
   "execution_count": null,
   "metadata": {},
   "outputs": [],
   "source": [
    "df_use['是否空洞'] = (df_use['distance']-df_use['mean'])>0"
   ]
  },
  {
   "cell_type": "code",
   "execution_count": null,
   "metadata": {},
   "outputs": [],
   "source": [
    "zhanzhi_mianji_linshi2 = zhanzhi_mianji[['小区中文名','空洞面积','面积原']]"
   ]
  },
  {
   "cell_type": "code",
   "execution_count": null,
   "metadata": {},
   "outputs": [],
   "source": [
    "df_use_ls2 = df_use.reset_index(drop=True)"
   ]
  },
  {
   "cell_type": "code",
   "execution_count": null,
   "metadata": {},
   "outputs": [],
   "source": [
    "df_use_ls3 = df_use_ls2.drop(columns='index').reset_index()"
   ]
  },
  {
   "cell_type": "code",
   "execution_count": null,
   "metadata": {},
   "outputs": [],
   "source": [
    "df_use_ls3.drop_duplicates"
   ]
  },
  {
   "cell_type": "code",
   "execution_count": null,
   "metadata": {},
   "outputs": [],
   "source": [
    "df_use_ls4 = df_use_ls3.merge(zhanzhi_mianji_linshi2,how='left',on='小区中文名').drop_duplicates('index')"
   ]
  },
  {
   "cell_type": "code",
   "execution_count": null,
   "metadata": {},
   "outputs": [],
   "source": [
    "df_use_ls4['是否覆盖空洞_用新算法_是否空洞'] = df_use_ls4['空洞面积']/df_use_ls4['面积原']>0.5"
   ]
  },
  {
   "cell_type": "code",
   "execution_count": null,
   "metadata": {},
   "outputs": [],
   "source": [
    "max_fw_hide_ls1 = max_fw_hide[['小区中文名','天线挂高','机械下倾角','电子下倾角',' 工作频段']]"
   ]
  },
  {
   "cell_type": "code",
   "execution_count": null,
   "metadata": {},
   "outputs": [],
   "source": [
    "df_use_ls5 = df_use_ls4.merge(max_fw_hide_ls1,how='left',on='小区中文名').drop_duplicates('index')"
   ]
  },
  {
   "cell_type": "code",
   "execution_count": null,
   "metadata": {},
   "outputs": [],
   "source": [
    "sjoin_data['建筑物高度2'] = sjoin_data['建筑物高度'] \n",
    "sjoin_data['建筑物高度3'] = sjoin_data['建筑物高度'] "
   ]
  },
  {
   "cell_type": "code",
   "execution_count": null,
   "metadata": {},
   "outputs": [],
   "source": [
    "sjoin_data_linshi = sjoin_data.groupby(by = '小区中文名').agg({'建筑物高度':'mean','建筑物高度2':'count','建筑物高度3':'max'})"
   ]
  },
  {
   "cell_type": "code",
   "execution_count": null,
   "metadata": {},
   "outputs": [],
   "source": [
    "df_use_ls6 = df_use_ls5.merge(sjoin_data_linshi,how='left',on='小区中文名').drop_duplicates('index')"
   ]
  },
  {
   "cell_type": "code",
   "execution_count": null,
   "metadata": {},
   "outputs": [],
   "source": [
    "df_use_ls6.to_csv('G:/1-规划/评估/覆盖空洞/输出20191230重新统计站点后/结果表.csv',encoding='gbk',index=False)"
   ]
  },
  {
   "cell_type": "markdown",
   "metadata": {},
   "source": [
    "# 小区周边的投诉情况"
   ]
  },
  {
   "cell_type": "code",
   "execution_count": null,
   "metadata": {},
   "outputs": [],
   "source": [
    "gongcan = pd.read_csv(open('g:/1-规划/工参/工参数据/ltejizhan20191212.csv',encoding='gbk'))"
   ]
  },
  {
   "cell_type": "code",
   "execution_count": null,
   "metadata": {},
   "outputs": [],
   "source": [
    "tousu = pd.read_csv(open('G:/1-规划/评估/覆盖空洞/输出20191230重新统计站点后/投诉表/广义投诉CI匹配表-截至12月11日更新TO赵曼.csv',encoding='gbk'))"
   ]
  },
  {
   "cell_type": "code",
   "execution_count": null,
   "metadata": {},
   "outputs": [],
   "source": [
    "gongcan_use_1 = gongcan.loc[(gongcan['RRU经度']>0) & (gongcan['RRU纬度']>0)]"
   ]
  },
  {
   "cell_type": "code",
   "execution_count": null,
   "metadata": {},
   "outputs": [],
   "source": [
    "gongan_p = tools_gis.add_points(gongcan_use_1,lon='RRU经度',lat='RRU纬度')"
   ]
  },
  {
   "cell_type": "code",
   "execution_count": null,
   "metadata": {},
   "outputs": [],
   "source": [
    "tousu.columns"
   ]
  },
  {
   "cell_type": "code",
   "execution_count": null,
   "metadata": {},
   "outputs": [],
   "source": [
    "tousu_buff = tools_gis.add_buffer(tousu,'经度','纬度')"
   ]
  },
  {
   "cell_type": "code",
   "execution_count": null,
   "metadata": {},
   "outputs": [],
   "source": [
    "tousu_buff['geometry'][0]"
   ]
  },
  {
   "cell_type": "code",
   "execution_count": null,
   "metadata": {},
   "outputs": [],
   "source": [
    "res = gpd.sjoin(tousu_buff,gongan_p)"
   ]
  },
  {
   "cell_type": "code",
   "execution_count": null,
   "metadata": {},
   "outputs": [],
   "source": [
    "res.columns"
   ]
  },
  {
   "cell_type": "code",
   "execution_count": null,
   "metadata": {},
   "outputs": [],
   "source": [
    "res_use = res[[ '2019年9月投诉量','2019年10月投诉量', '2019年11月投诉量','小区中文名']]"
   ]
  },
  {
   "cell_type": "code",
   "execution_count": null,
   "metadata": {},
   "outputs": [],
   "source": [
    "res_use"
   ]
  },
  {
   "cell_type": "code",
   "execution_count": null,
   "metadata": {},
   "outputs": [],
   "source": [
    "res_use1 = res_use.groupby(by='小区中文名').agg({'2019年9月投诉量':'sum','2019年10月投诉量':'sum','2019年11月投诉量':'sum'})"
   ]
  },
  {
   "cell_type": "code",
   "execution_count": null,
   "metadata": {},
   "outputs": [],
   "source": [
    "res_use1.to_csv('G:/1-规划/评估/覆盖空洞/输出20191230重新统计站点后/投诉表/res.csv',encoding='gbk')"
   ]
  },
  {
   "cell_type": "markdown",
   "metadata": {},
   "source": [
    "# 课题是用-覆盖空洞图层"
   ]
  },
  {
   "cell_type": "code",
   "execution_count": null,
   "metadata": {},
   "outputs": [],
   "source": [
    "gongcan = pd.read_csv(open('g:/1-规划/工参/工参数据/ltejizhan20191212.csv',encoding='gbk'))"
   ]
  },
  {
   "cell_type": "code",
   "execution_count": null,
   "metadata": {},
   "outputs": [],
   "source": [
    "gongcan_use_1 = gongcan.loc[(gongcan['RRU经度']>0) & (gongcan['RRU纬度']>0) & (gongcan['方位角']>-1)]"
   ]
  },
  {
   "cell_type": "code",
   "execution_count": null,
   "metadata": {},
   "outputs": [],
   "source": [
    "gongcan_use = gongcan_use_1.copy()\n",
    "gongcan_use['小区中文名'] = gongcan_use['小区中文名'].fillna('无')"
   ]
  },
  {
   "cell_type": "code",
   "execution_count": null,
   "metadata": {},
   "outputs": [],
   "source": [
    "gongcan_use = gongcan_use.loc[~gongcan_use['小区中文名'].str.contains('W-')]\n",
    "gongcan_use = gongcan_use.loc[~gongcan_use['小区中文名'].str.contains('M-')]"
   ]
  },
  {
   "cell_type": "code",
   "execution_count": null,
   "metadata": {},
   "outputs": [],
   "source": [
    "hb_dishi = mytools.gisn.maps('湖北')"
   ]
  },
  {
   "cell_type": "code",
   "execution_count": null,
   "metadata": {},
   "outputs": [],
   "source": [
    "gongcan_use_2 = mytools.gisn.points_coverage_merge(gongcan_use_1)"
   ]
  },
  {
   "cell_type": "code",
   "execution_count": null,
   "metadata": {},
   "outputs": [],
   "source": [
    "gongcan_use_3 = mytools.gisn.changjing_distance(gongcan_use_2,'区域类型',' 工作频段')"
   ]
  },
  {
   "cell_type": "code",
   "execution_count": null,
   "metadata": {},
   "outputs": [],
   "source": [
    "gongcan_sq = mytools.gisn.add_sectors_df( gongcan_use_3,\n",
    "    coords=['RRU经度', 'RRU纬度', 'd_height', '方位角', 'distance'],\n",
    "    has_z=False,\n",
    "    sec_col='geometry',\n",
    "    shape_dict={'beam': 120, 'per_degree': 10})"
   ]
  },
  {
   "cell_type": "code",
   "execution_count": null,
   "metadata": {},
   "outputs": [],
   "source": [
    "gongcan_sq.loc[gongcan_sq['所属地区'].isna(),['所属地区','方位角']]"
   ]
  },
  {
   "cell_type": "code",
   "execution_count": null,
   "metadata": {
    "scrolled": false
   },
   "outputs": [],
   "source": [
    "gongcan_sq_hebing = gongcan_sq.dissolve(by='所属地区')"
   ]
  },
  {
   "cell_type": "code",
   "execution_count": null,
   "metadata": {},
   "outputs": [],
   "source": [
    "fugaikongd = gpd.overlay(hb_dishi,gongcan_sq_hebing,how='difference')"
   ]
  },
  {
   "cell_type": "code",
   "execution_count": null,
   "metadata": {},
   "outputs": [],
   "source": []
  },
  {
   "cell_type": "code",
   "execution_count": null,
   "metadata": {},
   "outputs": [],
   "source": [
    "gongcan_use_2 = tools_gis.points_coverage_merge(gongcan_use_1)"
   ]
  },
  {
   "cell_type": "code",
   "execution_count": null,
   "metadata": {},
   "outputs": [],
   "source": [
    "gongcan_use_2"
   ]
  },
  {
   "cell_type": "markdown",
   "metadata": {},
   "source": [
    "# 水系剔除"
   ]
  },
  {
   "cell_type": "code",
   "execution_count": null,
   "metadata": {},
   "outputs": [],
   "source": [
    "mianzhuangshuixi = mytools.othern.file_name_paths(path='G:\\\\1-规划\\\\图层\\\\HB_场景\\\\',find='面状水系.tab')\n",
    "shuiku = mytools.othern.file_name_paths(path='G:\\\\1-规划\\\\图层\\\\HB_场景\\\\',find='湖泊、水库.tab')\n",
    "\n",
    "shuixi1 = gpd.read_file(mianzhuangshuixi[0],encoding='gbk')\n",
    "shuixi2 = gpd.read_file(shuiku[0],encoding='gbk')\n",
    "print('开始导入覆盖空洞')\n",
    "kongd = gpd.read_file('G:\\\\1-规划\\\\评估\\\\覆盖空洞\\\\输出20191230重新统计站点后\\\\覆盖空洞图层\\\\fugaikongd\\\\fugaikongd.shp',encoding='utf-8')\n",
    "print('导入覆盖空洞图层完成')\n",
    "\n",
    "shuixi1['fenlei']='面状'\n",
    "shuixi2['fenlei']='湖泊'\n",
    "\n",
    "kongdong_new = gpd.overlay(kongd,shuixi2,how='difference')\n",
    "\n",
    "shuixi1['type'] =  shuixi1.type\n",
    "\n",
    "shuixi1_use = shuixi1.loc[shuixi1['type']=='Polygon'].append(shuixi1.loc[shuixi1['type']=='MultiPolygon'].explode())\n",
    "\n",
    "shuixi1_use_area = mytools.gisn.add_area(shuixi1_use)\n",
    "\n",
    "shuixi1_use_area_use = shuixi1_use_area.loc[shuixi1_use_area['面积']>100]\n",
    "\n",
    "shuixi1_use_area_use = shuixi1_use_area_use.reset_index(drop=True)\n",
    "\n",
    "shuixi1_use_area_use['geometry'] = shuixi1_use_area_use.buffer(0.00000001)\n",
    "\n",
    "shuixi1_use_area_use.shape\n",
    "\n",
    "# data_t = shuixi1_use_area_use.dissolve(by='fenlei')\n",
    "# kongdong_new_t = gpd.overlay(kongdong_new,data_t,how='difference')\n",
    "\n",
    "def myYield(df):\n",
    "    y = 1000\n",
    "    x = 0\n",
    "    while x<236973:\n",
    "        shuixi1_use_t = df.iloc[x:y,]\n",
    "        yield shuixi1_use_t\n",
    "        print('完成{cishu}。{cishu2}。。'.format(cishu=x,cishu2 = y))\n",
    "        x = y \n",
    "        y = y + 1000\n",
    "\n",
    "kongdong_new_t = kongdong_new.copy()\n",
    "for data_t in myYield(shuixi1_use_area_use):\n",
    "    data_t = data_t.dissolve(by='fenlei')\n",
    "    kongdong_new_t = gpd.overlay(kongdong_new_t,data_t,how='difference')"
   ]
  },
  {
   "cell_type": "code",
   "execution_count": null,
   "metadata": {},
   "outputs": [],
   "source": [
    "kongdong_new_t_r = gpd.read_file('G:/1-规划/报告类/2019年课题2个/寻找有价值覆盖空洞方法/基础数据/跑出的空洞小区总表-各地市/',encoding='utf-8')"
   ]
  },
  {
   "cell_type": "markdown",
   "metadata": {},
   "source": [
    "# 竞对站点"
   ]
  },
  {
   "cell_type": "code",
   "execution_count": null,
   "metadata": {},
   "outputs": [],
   "source": [
    "te_sit = pd.read_csv(open('g:/1-规划/评估/竞对站点评估/2019年11月/2-处理过程/csv/电信汇总.csv',encoding='gbk'))\n",
    "un_sit = pd.read_csv(open('g:/1-规划/评估/竞对站点评估/2019年11月/2-处理过程/csv/联通汇总.csv',encoding='gbk'))"
   ]
  },
  {
   "cell_type": "code",
   "execution_count": null,
   "metadata": {},
   "outputs": [],
   "source": [
    "te_site_use = mytools.gisn.points_coverage_merge(te_sit,lon='经度',lat='纬度')\n",
    "un_site_use = mytools.gisn.points_coverage_merge(un_sit,lon='经度',lat='纬度')"
   ]
  },
  {
   "cell_type": "code",
   "execution_count": null,
   "metadata": {},
   "outputs": [],
   "source": [
    "te_site_use['900-1800-2400'] = te_site_use['900-1800-2400'].replace('900M','FDD900M')\n",
    "un_site_use['900-1800-2400'] = un_site_use['900-1800-2400'].replace('900M','FDD900M')"
   ]
  },
  {
   "cell_type": "code",
   "execution_count": null,
   "metadata": {},
   "outputs": [],
   "source": [
    "te_site_dis = mytools.gisn.changjing_distance(te_site_use,'区域类型','900-1800-2400')\n",
    "un_site_dis = mytools.gisn.changjing_distance(un_site_use,'区域类型','900-1800-2400')"
   ]
  },
  {
   "cell_type": "code",
   "execution_count": null,
   "metadata": {},
   "outputs": [],
   "source": [
    "te_site_buffer = mytools.gisn.add_buffer_df(te_site_dis,'经度','纬度','distance')\n",
    "un_site_buffer = mytools.gisn.add_buffer_df(un_site_dis,'经度','纬度','distance')"
   ]
  },
  {
   "cell_type": "code",
   "execution_count": null,
   "metadata": {},
   "outputs": [],
   "source": [
    "te_site_buffer.columns"
   ]
  },
  {
   "cell_type": "code",
   "execution_count": null,
   "metadata": {},
   "outputs": [],
   "source": [
    "te_site_buffer_dissolve = te_site_buffer.dissolve(by='地市')\n",
    "un_site_buffer_dissolve = un_site_buffer.dissolve(by='地市')"
   ]
  },
  {
   "cell_type": "code",
   "execution_count": null,
   "metadata": {},
   "outputs": [],
   "source": [
    "te_site_kongd = gpd.overlay(kongdong_new_t_r,te_site_buffer_dissolve)\n",
    "un_site_kongd = gpd.overlay(kongdong_new_t_r,un_site_buffer_dissolve)"
   ]
  },
  {
   "cell_type": "code",
   "execution_count": null,
   "metadata": {},
   "outputs": [],
   "source": [
    "te_kongd = te_site_kongd.explode()\n",
    "un_kongd = un_site_kongd.explode()"
   ]
  },
  {
   "cell_type": "code",
   "execution_count": null,
   "metadata": {},
   "outputs": [],
   "source": [
    "te_kongd_use = te_kongd[['geometry']]\n",
    "un_kongd_use = un_kongd[['geometry']]"
   ]
  },
  {
   "cell_type": "code",
   "execution_count": null,
   "metadata": {},
   "outputs": [],
   "source": [
    "te_kongd_use.to_file('e:/te',encoding=(\"utf-8\"))\n",
    "un_kongd_use.to_file('e:/un',encoding='utf-8')"
   ]
  },
  {
   "cell_type": "code",
   "execution_count": null,
   "metadata": {},
   "outputs": [],
   "source": [
    "te_kongd_use = gpd.read_file('G:/1-规划/报告类/2019年课题2个/寻找有价值覆盖空洞方法/基础数据/te_kongd/')\n",
    "un_kongd_use = gpd.read_file('G:/1-规划/报告类/2019年课题2个/寻找有价值覆盖空洞方法/基础数据/un_kongd/')"
   ]
  }
 ],
 "metadata": {
  "kernelspec": {
   "display_name": "Python 3",
   "language": "python",
   "name": "python3"
  },
  "language_info": {
   "codemirror_mode": {
    "name": "ipython",
    "version": 3
   },
   "file_extension": ".py",
   "mimetype": "text/x-python",
   "name": "python",
   "nbconvert_exporter": "python",
   "pygments_lexer": "ipython3",
   "version": "3.7.4"
  },
  "toc": {
   "base_numbering": 1,
   "nav_menu": {},
   "number_sections": true,
   "sideBar": true,
   "skip_h1_title": false,
   "title_cell": "Table of Contents",
   "title_sidebar": "Contents",
   "toc_cell": false,
   "toc_position": {
    "height": "calc(100% - 180px)",
    "left": "10px",
    "top": "150px",
    "width": "320px"
   },
   "toc_section_display": true,
   "toc_window_display": true
  },
  "varInspector": {
   "cols": {
    "lenName": 16,
    "lenType": 16,
    "lenVar": 40
   },
   "kernels_config": {
    "python": {
     "delete_cmd_postfix": "",
     "delete_cmd_prefix": "del ",
     "library": "var_list.py",
     "varRefreshCmd": "print(var_dic_list())"
    },
    "r": {
     "delete_cmd_postfix": ") ",
     "delete_cmd_prefix": "rm(",
     "library": "var_list.r",
     "varRefreshCmd": "cat(var_dic_list()) "
    }
   },
   "types_to_exclude": [
    "module",
    "function",
    "builtin_function_or_method",
    "instance",
    "_Feature"
   ],
   "window_display": false
  }
 },
 "nbformat": 4,
 "nbformat_minor": 2
}
