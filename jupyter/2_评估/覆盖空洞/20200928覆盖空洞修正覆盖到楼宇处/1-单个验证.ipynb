{
 "cells": [
  {
   "cell_type": "code",
   "execution_count": 142,
   "metadata": {
    "ExecuteTime": {
     "end_time": "2020-09-28T14:29:14.021696Z",
     "start_time": "2020-09-28T14:29:14.017696Z"
    }
   },
   "outputs": [],
   "source": [
    "import pandas as pd\n",
    "import mytools,os\n",
    "from geographiclib.geodesic import Geodesic\n",
    "from shapely.geometry import Polygon,Point,LineString,MultiPolygon,MultiLineString \n",
    "import geopandas as gpd\n",
    "from shapely.ops import unary_union"
   ]
  },
  {
   "cell_type": "markdown",
   "metadata": {},
   "source": [
    "###  导入工参数据"
   ]
  },
  {
   "cell_type": "code",
   "execution_count": 143,
   "metadata": {
    "ExecuteTime": {
     "end_time": "2020-09-28T14:29:19.591904Z",
     "start_time": "2020-09-28T14:29:15.155340Z"
    }
   },
   "outputs": [
    {
     "name": "stdout",
     "output_type": "stream",
     "text": [
      "设置变量通用名\n"
     ]
    }
   ],
   "source": [
    "#导入工参数据\n",
    "gongcan = pd.read_csv(open('G:/1-规划/评估/覆盖空洞/20200712第四版本/1-基础数据/ltejizhan20200616&微站_合并.csv',encoding='gbk'),usecols=[\n",
    "    '小区CGI(*)','所属地区','小区中文名','RRU经度', 'RRU纬度','天线挂高','工作频段', '方位角','归属区县','厂家名称' ])\n",
    "#设置变量通用名\n",
    "print('设置变量通用名')\n",
    "id = '小区CGI(*)'\n",
    "lon = 'RRU经度'\n",
    "lat = 'RRU纬度'\n",
    "zhishi = '工作频段'\n",
    "fw = '方位角'\n",
    "\n",
    "gongcan = gongcan.loc[(gongcan['RRU经度']>108)&\n",
    "            (gongcan['RRU经度']<117)&\n",
    "            (gongcan['RRU纬度']>28)&\n",
    "            (gongcan['RRU纬度']<34)&\n",
    "           (gongcan['方位角'].notnull())]"
   ]
  },
  {
   "cell_type": "code",
   "execution_count": 144,
   "metadata": {
    "ExecuteTime": {
     "end_time": "2020-09-28T14:29:21.136600Z",
     "start_time": "2020-09-28T14:29:20.594031Z"
    }
   },
   "outputs": [],
   "source": [
    "#只要宏站\n",
    "gongcan['小区中文名'] = gongcan['小区中文名'].fillna('无')\n",
    "gongcan = gongcan.loc[~gongcan['小区中文名'].str.contains('W-')]\n",
    "gongcan = gongcan.loc[~gongcan['小区中文名'].str.contains('R')]\n",
    "# gongcan = gongcan.loc[~gongcan['小区中文名'].str.contains('M-')]"
   ]
  },
  {
   "cell_type": "code",
   "execution_count": 145,
   "metadata": {
    "ExecuteTime": {
     "end_time": "2020-09-28T14:29:22.404261Z",
     "start_time": "2020-09-28T14:29:22.154729Z"
    }
   },
   "outputs": [
    {
     "data": {
      "text/plain": [
       "(18096, 10)"
      ]
     },
     "execution_count": 145,
     "metadata": {},
     "output_type": "execute_result"
    }
   ],
   "source": [
    "#替换无效中文名\n",
    "gongcan['小区中文名'] = gongcan['小区中文名'].fillna('无')\n",
    "#统计微站的数量\n",
    "gongcan.loc[gongcan['小区中文名'].str.contains('M-')].shape"
   ]
  },
  {
   "cell_type": "code",
   "execution_count": 146,
   "metadata": {
    "ExecuteTime": {
     "end_time": "2020-09-28T14:29:52.635600Z",
     "start_time": "2020-09-28T14:29:23.541905Z"
    }
   },
   "outputs": [],
   "source": [
    "#打标场景\n",
    "gongcan = mytools.gisn.points_coverage_merge(gongcan,lon,lat)\n",
    "#添加覆盖距离\n",
    "gongcan_loc_juli = mytools.gisn.changjing_distance(gongcan,'区域类型',zhishi)"
   ]
  },
  {
   "cell_type": "code",
   "execution_count": 147,
   "metadata": {
    "ExecuteTime": {
     "end_time": "2020-09-28T14:29:53.664730Z",
     "start_time": "2020-09-28T14:29:53.661730Z"
    }
   },
   "outputs": [],
   "source": [
    "# #修正农村的覆盖标准距离-可不用\n",
    "# gongcan_loc_juli.loc[(gongcan_loc_juli['区域类型']=='农村')&(gongcan_loc_juli['工作频段']=='FDD900'),'distance']=1800"
   ]
  },
  {
   "cell_type": "code",
   "execution_count": 148,
   "metadata": {
    "ExecuteTime": {
     "end_time": "2020-09-28T14:29:54.704862Z",
     "start_time": "2020-09-28T14:29:54.688860Z"
    }
   },
   "outputs": [
    {
     "data": {
      "text/html": [
       "<div>\n",
       "<style scoped>\n",
       "    .dataframe tbody tr th:only-of-type {\n",
       "        vertical-align: middle;\n",
       "    }\n",
       "\n",
       "    .dataframe tbody tr th {\n",
       "        vertical-align: top;\n",
       "    }\n",
       "\n",
       "    .dataframe thead th {\n",
       "        text-align: right;\n",
       "    }\n",
       "</style>\n",
       "<table border=\"1\" class=\"dataframe\">\n",
       "  <thead>\n",
       "    <tr style=\"text-align: right;\">\n",
       "      <th></th>\n",
       "      <th>小区CGI(*)</th>\n",
       "      <th>小区中文名</th>\n",
       "      <th>所属地区</th>\n",
       "      <th>RRU经度</th>\n",
       "      <th>RRU纬度</th>\n",
       "      <th>天线挂高</th>\n",
       "      <th>方位角</th>\n",
       "      <th>工作频段</th>\n",
       "      <th>归属区县</th>\n",
       "      <th>厂家名称</th>\n",
       "      <th>区域类型</th>\n",
       "      <th>distance</th>\n",
       "    </tr>\n",
       "  </thead>\n",
       "  <tbody>\n",
       "    <tr>\n",
       "      <th>0</th>\n",
       "      <td>460-00-52246-2</td>\n",
       "      <td>公安群力-ELH-2</td>\n",
       "      <td>荆州</td>\n",
       "      <td>112.14735</td>\n",
       "      <td>30.12405</td>\n",
       "      <td>42.0</td>\n",
       "      <td>157.0</td>\n",
       "      <td>F</td>\n",
       "      <td>公安县</td>\n",
       "      <td>爱立信</td>\n",
       "      <td>农村</td>\n",
       "      <td>1000.0</td>\n",
       "    </tr>\n",
       "  </tbody>\n",
       "</table>\n",
       "</div>"
      ],
      "text/plain": [
       "         小区CGI(*)       小区中文名 所属地区      RRU经度     RRU纬度  天线挂高    方位角 工作频段  \\\n",
       "0  460-00-52246-2  公安群力-ELH-2   荆州  112.14735  30.12405  42.0  157.0    F   \n",
       "\n",
       "  归属区县 厂家名称 区域类型  distance  \n",
       "0  公安县  爱立信   农村    1000.0  "
      ]
     },
     "execution_count": 148,
     "metadata": {},
     "output_type": "execute_result"
    }
   ],
   "source": [
    "gongcan_loc_juli.head(1)"
   ]
  },
  {
   "cell_type": "code",
   "execution_count": 149,
   "metadata": {
    "ExecuteTime": {
     "end_time": "2020-09-28T14:29:55.717491Z",
     "start_time": "2020-09-28T14:29:55.711990Z"
    }
   },
   "outputs": [
    {
     "data": {
      "text/plain": [
       "(328065, 12)"
      ]
     },
     "execution_count": 149,
     "metadata": {},
     "output_type": "execute_result"
    }
   ],
   "source": [
    "gongcan_loc_juli.shape"
   ]
  },
  {
   "cell_type": "markdown",
   "metadata": {},
   "source": [
    "### 覆盖模型修正"
   ]
  },
  {
   "cell_type": "code",
   "execution_count": 150,
   "metadata": {
    "ExecuteTime": {
     "end_time": "2020-09-28T14:30:02.991915Z",
     "start_time": "2020-09-28T14:30:02.773387Z"
    }
   },
   "outputs": [
    {
     "name": "stderr",
     "output_type": "stream",
     "text": [
      "C:\\ProgramData\\Anaconda3\\lib\\site-packages\\pandas\\core\\series.py:679: RuntimeWarning: divide by zero encountered in log10\n",
      "  result = getattr(ufunc, method)(*inputs, **kwargs)\n"
     ]
    }
   ],
   "source": [
    "# 将不同频段和挂高带入公式输出‘使用覆盖半径距离’\n",
    "gongcan_loc_juli['工作频段'] = gongcan_loc_juli['工作频段'].apply(lambda x: 900 if x=='FDD900' else 1800)\n",
    "gd,band= map(np.log10, (gongcan_loc_juli['天线挂高'],gongcan_loc_juli['工作频段']))\n",
    "gongcan_loc_juli['覆盖模型距离'] = np.power(10,\n",
    "                                      (148 - (46.3+33.9*band-13.82*gd-(-3.81))- 3)/(44.9-6.55*gd))*1000\n",
    "gongcan_loc_juli['30米覆盖模型距离'] = np.power(10,\n",
    "                                      (148 - (46.3+33.9*band-13.82*np.log10(30)-(-3.81))- 3)/(44.9-6.55*np.log10(30)))*1000\n",
    "gongcan_loc_juli['使用覆盖半径'] = gongcan_loc_juli['覆盖模型距离'] /gongcan_loc_juli['30米覆盖模型距离']*gongcan_loc_juli['distance']"
   ]
  },
  {
   "cell_type": "code",
   "execution_count": 151,
   "metadata": {
    "ExecuteTime": {
     "end_time": "2020-09-28T14:30:04.028546Z",
     "start_time": "2020-09-28T14:30:04.010044Z"
    }
   },
   "outputs": [],
   "source": [
    "#限定最大和最小范围\n",
    "def fc_ik(x):\n",
    "    if x['区域类型']=='主城区':\n",
    "        if x['工作频段']==900:\n",
    "            if x['使用覆盖半径']<200:\n",
    "                return 200\n",
    "            elif x['使用覆盖半径']>400:\n",
    "                return 400\n",
    "            else:\n",
    "                return x['distance']\n",
    "        else:\n",
    "            if x['使用覆盖半径']<150:\n",
    "                return 150\n",
    "            elif x['使用覆盖半径']>350:\n",
    "                return 350\n",
    "            else:\n",
    "                return x['distance']\n",
    "    elif  x['区域类型']=='县城':\n",
    "        if x['工作频段']==900:\n",
    "            if x['使用覆盖半径']<300:\n",
    "                return 300\n",
    "            elif x['使用覆盖半径']>430:\n",
    "                return 430\n",
    "            else:\n",
    "                return x['distance']\n",
    "        else:\n",
    "            if x['使用覆盖半径']<250:\n",
    "                return 250\n",
    "            elif x['使用覆盖半径']>400:\n",
    "                return 400\n",
    "            else:\n",
    "                return x['distance']\n",
    "    elif  x['区域类型']=='一般城区':\n",
    "        if x['工作频段']==900:\n",
    "            if x['使用覆盖半径']<400:\n",
    "                return 400\n",
    "            elif x['使用覆盖半径']>1200:\n",
    "                return 1200\n",
    "            else:\n",
    "                return x['distance']\n",
    "        else:\n",
    "            if x['使用覆盖半径']<350:\n",
    "                return 350\n",
    "            elif x['使用覆盖半径']>800:\n",
    "                return 800\n",
    "            else:\n",
    "                return x['distance']\n",
    "    elif  x['区域类型']=='乡镇':\n",
    "        if x['工作频段']==900:\n",
    "            if x['使用覆盖半径']<430:\n",
    "                return 430\n",
    "            elif x['使用覆盖半径']>2200:\n",
    "                return 2200\n",
    "            else:\n",
    "                return x['distance']\n",
    "        else:\n",
    "            if x['使用覆盖半径']<400:\n",
    "                return 400\n",
    "            elif x['使用覆盖半径']>1000:\n",
    "                return 1000\n",
    "            else:\n",
    "                return x['distance']\n",
    "    elif  x['区域类型']=='农村':\n",
    "        if x['工作频段']==900:\n",
    "            if x['使用覆盖半径']<1200:\n",
    "                return 1200\n",
    "            elif x['使用覆盖半径']>2500:\n",
    "                return 2500\n",
    "            else:\n",
    "                return x['distance']\n",
    "        else:\n",
    "            if x['使用覆盖半径']<800:\n",
    "                return 800\n",
    "            elif x['使用覆盖半径']>1500:\n",
    "                return 1500\n",
    "            else:\n",
    "                return x['distance']\n",
    "    else:\n",
    "        return 0"
   ]
  },
  {
   "cell_type": "code",
   "execution_count": 152,
   "metadata": {
    "ExecuteTime": {
     "end_time": "2020-09-28T14:30:41.811344Z",
     "start_time": "2020-09-28T14:30:05.061178Z"
    }
   },
   "outputs": [],
   "source": [
    "gongcan_loc_juli['distance_use'] = gongcan_loc_juli.apply(fc_ik,axis=1)"
   ]
  },
  {
   "cell_type": "code",
   "execution_count": 116,
   "metadata": {
    "ExecuteTime": {
     "end_time": "2020-09-28T14:23:20.139259Z",
     "start_time": "2020-09-28T14:23:20.128758Z"
    }
   },
   "outputs": [
    {
     "ename": "NameError",
     "evalue": "name 'gongcan_loc_juli' is not defined",
     "output_type": "error",
     "traceback": [
      "\u001b[1;31m---------------------------------------------------------------------------\u001b[0m",
      "\u001b[1;31mNameError\u001b[0m                                 Traceback (most recent call last)",
      "\u001b[1;32m<ipython-input-116-46d5440030f5>\u001b[0m in \u001b[0;36m<module>\u001b[1;34m\u001b[0m\n\u001b[1;32m----> 1\u001b[1;33m \u001b[0mgongcan_loc_juli\u001b[0m\u001b[1;33m[\u001b[0m\u001b[1;34m'geometry'\u001b[0m\u001b[1;33m]\u001b[0m\u001b[1;33m[\u001b[0m\u001b[1;36m0\u001b[0m\u001b[1;33m]\u001b[0m\u001b[1;33m\u001b[0m\u001b[1;33m\u001b[0m\u001b[0m\n\u001b[0m",
      "\u001b[1;31mNameError\u001b[0m: name 'gongcan_loc_juli' is not defined"
     ]
    }
   ],
   "source": [
    "gongcan_loc_juli['geometry'][0]"
   ]
  },
  {
   "cell_type": "code",
   "execution_count": 130,
   "metadata": {
    "ExecuteTime": {
     "end_time": "2020-09-28T14:26:16.685678Z",
     "start_time": "2020-09-28T14:26:16.649673Z"
    }
   },
   "outputs": [
    {
     "data": {
      "text/html": [
       "<div>\n",
       "<style scoped>\n",
       "    .dataframe tbody tr th:only-of-type {\n",
       "        vertical-align: middle;\n",
       "    }\n",
       "\n",
       "    .dataframe tbody tr th {\n",
       "        vertical-align: top;\n",
       "    }\n",
       "\n",
       "    .dataframe thead th {\n",
       "        text-align: right;\n",
       "    }\n",
       "</style>\n",
       "<table border=\"1\" class=\"dataframe\">\n",
       "  <thead>\n",
       "    <tr style=\"text-align: right;\">\n",
       "      <th></th>\n",
       "      <th>小区CGI(*)</th>\n",
       "      <th>小区中文名</th>\n",
       "      <th>所属地区</th>\n",
       "      <th>RRU经度</th>\n",
       "      <th>RRU纬度</th>\n",
       "      <th>天线挂高</th>\n",
       "      <th>方位角</th>\n",
       "      <th>工作频段</th>\n",
       "      <th>归属区县</th>\n",
       "      <th>厂家名称</th>\n",
       "      <th>区域类型</th>\n",
       "      <th>distance</th>\n",
       "      <th>覆盖模型距离</th>\n",
       "      <th>30米覆盖模型距离</th>\n",
       "      <th>使用覆盖半径</th>\n",
       "      <th>distance_use</th>\n",
       "    </tr>\n",
       "  </thead>\n",
       "  <tbody>\n",
       "    <tr>\n",
       "      <th>0</th>\n",
       "      <td>460-00-52246-2</td>\n",
       "      <td>公安群力-ELH-2</td>\n",
       "      <td>荆州</td>\n",
       "      <td>112.147350</td>\n",
       "      <td>30.124050</td>\n",
       "      <td>42.0</td>\n",
       "      <td>157.0</td>\n",
       "      <td>1800</td>\n",
       "      <td>公安县</td>\n",
       "      <td>爱立信</td>\n",
       "      <td>农村</td>\n",
       "      <td>1000.0</td>\n",
       "      <td>1597.297478</td>\n",
       "      <td>1382.063443</td>\n",
       "      <td>1155.733831</td>\n",
       "      <td>1000.0</td>\n",
       "    </tr>\n",
       "    <tr>\n",
       "      <th>1</th>\n",
       "      <td>460-00-52370-1</td>\n",
       "      <td>公安铜桥-ELH-1</td>\n",
       "      <td>荆州</td>\n",
       "      <td>112.011190</td>\n",
       "      <td>29.883020</td>\n",
       "      <td>38.0</td>\n",
       "      <td>50.0</td>\n",
       "      <td>1800</td>\n",
       "      <td>公安县</td>\n",
       "      <td>爱立信</td>\n",
       "      <td>农村</td>\n",
       "      <td>1000.0</td>\n",
       "      <td>1528.709323</td>\n",
       "      <td>1382.063443</td>\n",
       "      <td>1106.106475</td>\n",
       "      <td>1000.0</td>\n",
       "    </tr>\n",
       "    <tr>\n",
       "      <th>2</th>\n",
       "      <td>460-00-52372-1</td>\n",
       "      <td>公安响档口-ELH-1</td>\n",
       "      <td>荆州</td>\n",
       "      <td>112.043460</td>\n",
       "      <td>30.065790</td>\n",
       "      <td>43.0</td>\n",
       "      <td>33.0</td>\n",
       "      <td>1800</td>\n",
       "      <td>公安县</td>\n",
       "      <td>爱立信</td>\n",
       "      <td>农村</td>\n",
       "      <td>1000.0</td>\n",
       "      <td>1614.036174</td>\n",
       "      <td>1382.063443</td>\n",
       "      <td>1167.845211</td>\n",
       "      <td>1000.0</td>\n",
       "    </tr>\n",
       "    <tr>\n",
       "      <th>3</th>\n",
       "      <td>460-00-706678-192</td>\n",
       "      <td>枣阳奎园学府S-ZFH-1</td>\n",
       "      <td>襄阳</td>\n",
       "      <td>112.766540</td>\n",
       "      <td>32.145687</td>\n",
       "      <td>26.7</td>\n",
       "      <td>1.0</td>\n",
       "      <td>1800</td>\n",
       "      <td>枣阳市</td>\n",
       "      <td>中兴</td>\n",
       "      <td>县城</td>\n",
       "      <td>350.0</td>\n",
       "      <td>1316.881788</td>\n",
       "      <td>1382.063443</td>\n",
       "      <td>333.493103</td>\n",
       "      <td>350.0</td>\n",
       "    </tr>\n",
       "    <tr>\n",
       "      <th>4</th>\n",
       "      <td>460-00-52373-2</td>\n",
       "      <td>公安欣荣-ELH-2</td>\n",
       "      <td>荆州</td>\n",
       "      <td>111.995620</td>\n",
       "      <td>29.858060</td>\n",
       "      <td>38.0</td>\n",
       "      <td>231.0</td>\n",
       "      <td>1800</td>\n",
       "      <td>公安县</td>\n",
       "      <td>爱立信</td>\n",
       "      <td>农村</td>\n",
       "      <td>1000.0</td>\n",
       "      <td>1528.709323</td>\n",
       "      <td>1382.063443</td>\n",
       "      <td>1106.106475</td>\n",
       "      <td>1000.0</td>\n",
       "    </tr>\n",
       "    <tr>\n",
       "      <th>...</th>\n",
       "      <td>...</td>\n",
       "      <td>...</td>\n",
       "      <td>...</td>\n",
       "      <td>...</td>\n",
       "      <td>...</td>\n",
       "      <td>...</td>\n",
       "      <td>...</td>\n",
       "      <td>...</td>\n",
       "      <td>...</td>\n",
       "      <td>...</td>\n",
       "      <td>...</td>\n",
       "      <td>...</td>\n",
       "      <td>...</td>\n",
       "      <td>...</td>\n",
       "      <td>...</td>\n",
       "      <td>...</td>\n",
       "    </tr>\n",
       "    <tr>\n",
       "      <th>328126</th>\n",
       "      <td>D_锦绣人家-HLM6261</td>\n",
       "      <td>M-D_锦绣人家-HLM6261</td>\n",
       "      <td>武汉</td>\n",
       "      <td>114.246220</td>\n",
       "      <td>30.624830</td>\n",
       "      <td>4.0</td>\n",
       "      <td>340.0</td>\n",
       "      <td>1800</td>\n",
       "      <td>NaN</td>\n",
       "      <td>NaN</td>\n",
       "      <td>主城区</td>\n",
       "      <td>250.0</td>\n",
       "      <td>669.250824</td>\n",
       "      <td>1382.063443</td>\n",
       "      <td>121.060076</td>\n",
       "      <td>150.0</td>\n",
       "    </tr>\n",
       "    <tr>\n",
       "      <th>328127</th>\n",
       "      <td>D_樊城米公街华容地产-HLM6262</td>\n",
       "      <td>M-D_樊城米公街华容地产-HLM6262</td>\n",
       "      <td>襄阳</td>\n",
       "      <td>112.137600</td>\n",
       "      <td>32.033720</td>\n",
       "      <td>8.0</td>\n",
       "      <td>290.0</td>\n",
       "      <td>1800</td>\n",
       "      <td>NaN</td>\n",
       "      <td>NaN</td>\n",
       "      <td>主城区</td>\n",
       "      <td>250.0</td>\n",
       "      <td>838.459406</td>\n",
       "      <td>1382.063443</td>\n",
       "      <td>151.668039</td>\n",
       "      <td>250.0</td>\n",
       "    </tr>\n",
       "    <tr>\n",
       "      <th>328128</th>\n",
       "      <td>D_城区佛星酒楼(微站)-HLM6263</td>\n",
       "      <td>M-D_城区佛星酒楼(微站)-HLM6263</td>\n",
       "      <td>宜昌</td>\n",
       "      <td>111.309644</td>\n",
       "      <td>30.732898</td>\n",
       "      <td>4.0</td>\n",
       "      <td>25.0</td>\n",
       "      <td>1800</td>\n",
       "      <td>NaN</td>\n",
       "      <td>NaN</td>\n",
       "      <td>主城区</td>\n",
       "      <td>250.0</td>\n",
       "      <td>669.250824</td>\n",
       "      <td>1382.063443</td>\n",
       "      <td>121.060076</td>\n",
       "      <td>150.0</td>\n",
       "    </tr>\n",
       "    <tr>\n",
       "      <th>328129</th>\n",
       "      <td>D_汉宜路46号小区-HLM6264</td>\n",
       "      <td>M-D_汉宜路46号小区-HLM6264</td>\n",
       "      <td>武汉</td>\n",
       "      <td>114.229810</td>\n",
       "      <td>30.577370</td>\n",
       "      <td>4.0</td>\n",
       "      <td>180.0</td>\n",
       "      <td>1800</td>\n",
       "      <td>NaN</td>\n",
       "      <td>NaN</td>\n",
       "      <td>主城区</td>\n",
       "      <td>250.0</td>\n",
       "      <td>669.250824</td>\n",
       "      <td>1382.063443</td>\n",
       "      <td>121.060076</td>\n",
       "      <td>150.0</td>\n",
       "    </tr>\n",
       "    <tr>\n",
       "      <th>328130</th>\n",
       "      <td>D_樊城璞金公寓三层顶微站-HLM6265</td>\n",
       "      <td>M-D_樊城璞金公寓三层顶微站-HLM6265</td>\n",
       "      <td>襄阳</td>\n",
       "      <td>112.147850</td>\n",
       "      <td>32.053670</td>\n",
       "      <td>4.0</td>\n",
       "      <td>230.0</td>\n",
       "      <td>1800</td>\n",
       "      <td>NaN</td>\n",
       "      <td>NaN</td>\n",
       "      <td>主城区</td>\n",
       "      <td>250.0</td>\n",
       "      <td>669.250824</td>\n",
       "      <td>1382.063443</td>\n",
       "      <td>121.060076</td>\n",
       "      <td>150.0</td>\n",
       "    </tr>\n",
       "  </tbody>\n",
       "</table>\n",
       "<p>328065 rows × 16 columns</p>\n",
       "</div>"
      ],
      "text/plain": [
       "                     小区CGI(*)                    小区中文名 所属地区       RRU经度  \\\n",
       "0              460-00-52246-2               公安群力-ELH-2   荆州  112.147350   \n",
       "1              460-00-52370-1               公安铜桥-ELH-1   荆州  112.011190   \n",
       "2              460-00-52372-1              公安响档口-ELH-1   荆州  112.043460   \n",
       "3           460-00-706678-192            枣阳奎园学府S-ZFH-1   襄阳  112.766540   \n",
       "4              460-00-52373-2               公安欣荣-ELH-2   荆州  111.995620   \n",
       "...                       ...                      ...  ...         ...   \n",
       "328126         D_锦绣人家-HLM6261         M-D_锦绣人家-HLM6261   武汉  114.246220   \n",
       "328127    D_樊城米公街华容地产-HLM6262    M-D_樊城米公街华容地产-HLM6262   襄阳  112.137600   \n",
       "328128   D_城区佛星酒楼(微站)-HLM6263   M-D_城区佛星酒楼(微站)-HLM6263   宜昌  111.309644   \n",
       "328129     D_汉宜路46号小区-HLM6264     M-D_汉宜路46号小区-HLM6264   武汉  114.229810   \n",
       "328130  D_樊城璞金公寓三层顶微站-HLM6265  M-D_樊城璞金公寓三层顶微站-HLM6265   襄阳  112.147850   \n",
       "\n",
       "            RRU纬度  天线挂高    方位角  工作频段 归属区县 厂家名称 区域类型  distance       覆盖模型距离  \\\n",
       "0       30.124050  42.0  157.0  1800  公安县  爱立信   农村    1000.0  1597.297478   \n",
       "1       29.883020  38.0   50.0  1800  公安县  爱立信   农村    1000.0  1528.709323   \n",
       "2       30.065790  43.0   33.0  1800  公安县  爱立信   农村    1000.0  1614.036174   \n",
       "3       32.145687  26.7    1.0  1800  枣阳市   中兴   县城     350.0  1316.881788   \n",
       "4       29.858060  38.0  231.0  1800  公安县  爱立信   农村    1000.0  1528.709323   \n",
       "...           ...   ...    ...   ...  ...  ...  ...       ...          ...   \n",
       "328126  30.624830   4.0  340.0  1800  NaN  NaN  主城区     250.0   669.250824   \n",
       "328127  32.033720   8.0  290.0  1800  NaN  NaN  主城区     250.0   838.459406   \n",
       "328128  30.732898   4.0   25.0  1800  NaN  NaN  主城区     250.0   669.250824   \n",
       "328129  30.577370   4.0  180.0  1800  NaN  NaN  主城区     250.0   669.250824   \n",
       "328130  32.053670   4.0  230.0  1800  NaN  NaN  主城区     250.0   669.250824   \n",
       "\n",
       "          30米覆盖模型距离       使用覆盖半径  distance_use  \n",
       "0       1382.063443  1155.733831        1000.0  \n",
       "1       1382.063443  1106.106475        1000.0  \n",
       "2       1382.063443  1167.845211        1000.0  \n",
       "3       1382.063443   333.493103         350.0  \n",
       "4       1382.063443  1106.106475        1000.0  \n",
       "...             ...          ...           ...  \n",
       "328126  1382.063443   121.060076         150.0  \n",
       "328127  1382.063443   151.668039         250.0  \n",
       "328128  1382.063443   121.060076         150.0  \n",
       "328129  1382.063443   121.060076         150.0  \n",
       "328130  1382.063443   121.060076         150.0  \n",
       "\n",
       "[328065 rows x 16 columns]"
      ]
     },
     "execution_count": 130,
     "metadata": {},
     "output_type": "execute_result"
    }
   ],
   "source": [
    "gongcan_loc_juli"
   ]
  },
  {
   "cell_type": "code",
   "execution_count": 129,
   "metadata": {
    "ExecuteTime": {
     "end_time": "2020-09-28T14:26:01.941305Z",
     "start_time": "2020-09-28T14:26:01.884798Z"
    }
   },
   "outputs": [
    {
     "ename": "KeyError",
     "evalue": "'geometry'",
     "output_type": "error",
     "traceback": [
      "\u001b[1;31m---------------------------------------------------------------------------\u001b[0m",
      "\u001b[1;31mKeyError\u001b[0m                                  Traceback (most recent call last)",
      "\u001b[1;32mC:\\ProgramData\\Anaconda3\\lib\\site-packages\\pandas\\core\\indexes\\base.py\u001b[0m in \u001b[0;36mget_loc\u001b[1;34m(self, key, method, tolerance)\u001b[0m\n\u001b[0;32m   2645\u001b[0m             \u001b[1;32mtry\u001b[0m\u001b[1;33m:\u001b[0m\u001b[1;33m\u001b[0m\u001b[1;33m\u001b[0m\u001b[0m\n\u001b[1;32m-> 2646\u001b[1;33m                 \u001b[1;32mreturn\u001b[0m \u001b[0mself\u001b[0m\u001b[1;33m.\u001b[0m\u001b[0m_engine\u001b[0m\u001b[1;33m.\u001b[0m\u001b[0mget_loc\u001b[0m\u001b[1;33m(\u001b[0m\u001b[0mkey\u001b[0m\u001b[1;33m)\u001b[0m\u001b[1;33m\u001b[0m\u001b[1;33m\u001b[0m\u001b[0m\n\u001b[0m\u001b[0;32m   2647\u001b[0m             \u001b[1;32mexcept\u001b[0m \u001b[0mKeyError\u001b[0m\u001b[1;33m:\u001b[0m\u001b[1;33m\u001b[0m\u001b[1;33m\u001b[0m\u001b[0m\n",
      "\u001b[1;32mpandas\\_libs\\index.pyx\u001b[0m in \u001b[0;36mpandas._libs.index.IndexEngine.get_loc\u001b[1;34m()\u001b[0m\n",
      "\u001b[1;32mpandas\\_libs\\index.pyx\u001b[0m in \u001b[0;36mpandas._libs.index.IndexEngine.get_loc\u001b[1;34m()\u001b[0m\n",
      "\u001b[1;32mpandas\\_libs\\hashtable_class_helper.pxi\u001b[0m in \u001b[0;36mpandas._libs.hashtable.PyObjectHashTable.get_item\u001b[1;34m()\u001b[0m\n",
      "\u001b[1;32mpandas\\_libs\\hashtable_class_helper.pxi\u001b[0m in \u001b[0;36mpandas._libs.hashtable.PyObjectHashTable.get_item\u001b[1;34m()\u001b[0m\n",
      "\u001b[1;31mKeyError\u001b[0m: 'geometry'",
      "\nDuring handling of the above exception, another exception occurred:\n",
      "\u001b[1;31mKeyError\u001b[0m                                  Traceback (most recent call last)",
      "\u001b[1;32m<ipython-input-129-79f50913672f>\u001b[0m in \u001b[0;36m<module>\u001b[1;34m\u001b[0m\n\u001b[1;32m----> 1\u001b[1;33m \u001b[0mgongcan_loc_juli\u001b[0m\u001b[1;33m[\u001b[0m\u001b[1;34m'geometry'\u001b[0m\u001b[1;33m]\u001b[0m\u001b[1;33m\u001b[0m\u001b[1;33m\u001b[0m\u001b[0m\n\u001b[0m",
      "\u001b[1;32mC:\\ProgramData\\Anaconda3\\lib\\site-packages\\pandas\\core\\frame.py\u001b[0m in \u001b[0;36m__getitem__\u001b[1;34m(self, key)\u001b[0m\n\u001b[0;32m   2798\u001b[0m             \u001b[1;32mif\u001b[0m \u001b[0mself\u001b[0m\u001b[1;33m.\u001b[0m\u001b[0mcolumns\u001b[0m\u001b[1;33m.\u001b[0m\u001b[0mnlevels\u001b[0m \u001b[1;33m>\u001b[0m \u001b[1;36m1\u001b[0m\u001b[1;33m:\u001b[0m\u001b[1;33m\u001b[0m\u001b[1;33m\u001b[0m\u001b[0m\n\u001b[0;32m   2799\u001b[0m                 \u001b[1;32mreturn\u001b[0m \u001b[0mself\u001b[0m\u001b[1;33m.\u001b[0m\u001b[0m_getitem_multilevel\u001b[0m\u001b[1;33m(\u001b[0m\u001b[0mkey\u001b[0m\u001b[1;33m)\u001b[0m\u001b[1;33m\u001b[0m\u001b[1;33m\u001b[0m\u001b[0m\n\u001b[1;32m-> 2800\u001b[1;33m             \u001b[0mindexer\u001b[0m \u001b[1;33m=\u001b[0m \u001b[0mself\u001b[0m\u001b[1;33m.\u001b[0m\u001b[0mcolumns\u001b[0m\u001b[1;33m.\u001b[0m\u001b[0mget_loc\u001b[0m\u001b[1;33m(\u001b[0m\u001b[0mkey\u001b[0m\u001b[1;33m)\u001b[0m\u001b[1;33m\u001b[0m\u001b[1;33m\u001b[0m\u001b[0m\n\u001b[0m\u001b[0;32m   2801\u001b[0m             \u001b[1;32mif\u001b[0m \u001b[0mis_integer\u001b[0m\u001b[1;33m(\u001b[0m\u001b[0mindexer\u001b[0m\u001b[1;33m)\u001b[0m\u001b[1;33m:\u001b[0m\u001b[1;33m\u001b[0m\u001b[1;33m\u001b[0m\u001b[0m\n\u001b[0;32m   2802\u001b[0m                 \u001b[0mindexer\u001b[0m \u001b[1;33m=\u001b[0m \u001b[1;33m[\u001b[0m\u001b[0mindexer\u001b[0m\u001b[1;33m]\u001b[0m\u001b[1;33m\u001b[0m\u001b[1;33m\u001b[0m\u001b[0m\n",
      "\u001b[1;32mC:\\ProgramData\\Anaconda3\\lib\\site-packages\\pandas\\core\\indexes\\base.py\u001b[0m in \u001b[0;36mget_loc\u001b[1;34m(self, key, method, tolerance)\u001b[0m\n\u001b[0;32m   2646\u001b[0m                 \u001b[1;32mreturn\u001b[0m \u001b[0mself\u001b[0m\u001b[1;33m.\u001b[0m\u001b[0m_engine\u001b[0m\u001b[1;33m.\u001b[0m\u001b[0mget_loc\u001b[0m\u001b[1;33m(\u001b[0m\u001b[0mkey\u001b[0m\u001b[1;33m)\u001b[0m\u001b[1;33m\u001b[0m\u001b[1;33m\u001b[0m\u001b[0m\n\u001b[0;32m   2647\u001b[0m             \u001b[1;32mexcept\u001b[0m \u001b[0mKeyError\u001b[0m\u001b[1;33m:\u001b[0m\u001b[1;33m\u001b[0m\u001b[1;33m\u001b[0m\u001b[0m\n\u001b[1;32m-> 2648\u001b[1;33m                 \u001b[1;32mreturn\u001b[0m \u001b[0mself\u001b[0m\u001b[1;33m.\u001b[0m\u001b[0m_engine\u001b[0m\u001b[1;33m.\u001b[0m\u001b[0mget_loc\u001b[0m\u001b[1;33m(\u001b[0m\u001b[0mself\u001b[0m\u001b[1;33m.\u001b[0m\u001b[0m_maybe_cast_indexer\u001b[0m\u001b[1;33m(\u001b[0m\u001b[0mkey\u001b[0m\u001b[1;33m)\u001b[0m\u001b[1;33m)\u001b[0m\u001b[1;33m\u001b[0m\u001b[1;33m\u001b[0m\u001b[0m\n\u001b[0m\u001b[0;32m   2649\u001b[0m         \u001b[0mindexer\u001b[0m \u001b[1;33m=\u001b[0m \u001b[0mself\u001b[0m\u001b[1;33m.\u001b[0m\u001b[0mget_indexer\u001b[0m\u001b[1;33m(\u001b[0m\u001b[1;33m[\u001b[0m\u001b[0mkey\u001b[0m\u001b[1;33m]\u001b[0m\u001b[1;33m,\u001b[0m \u001b[0mmethod\u001b[0m\u001b[1;33m=\u001b[0m\u001b[0mmethod\u001b[0m\u001b[1;33m,\u001b[0m \u001b[0mtolerance\u001b[0m\u001b[1;33m=\u001b[0m\u001b[0mtolerance\u001b[0m\u001b[1;33m)\u001b[0m\u001b[1;33m\u001b[0m\u001b[1;33m\u001b[0m\u001b[0m\n\u001b[0;32m   2650\u001b[0m         \u001b[1;32mif\u001b[0m \u001b[0mindexer\u001b[0m\u001b[1;33m.\u001b[0m\u001b[0mndim\u001b[0m \u001b[1;33m>\u001b[0m \u001b[1;36m1\u001b[0m \u001b[1;32mor\u001b[0m \u001b[0mindexer\u001b[0m\u001b[1;33m.\u001b[0m\u001b[0msize\u001b[0m \u001b[1;33m>\u001b[0m \u001b[1;36m1\u001b[0m\u001b[1;33m:\u001b[0m\u001b[1;33m\u001b[0m\u001b[1;33m\u001b[0m\u001b[0m\n",
      "\u001b[1;32mpandas\\_libs\\index.pyx\u001b[0m in \u001b[0;36mpandas._libs.index.IndexEngine.get_loc\u001b[1;34m()\u001b[0m\n",
      "\u001b[1;32mpandas\\_libs\\index.pyx\u001b[0m in \u001b[0;36mpandas._libs.index.IndexEngine.get_loc\u001b[1;34m()\u001b[0m\n",
      "\u001b[1;32mpandas\\_libs\\hashtable_class_helper.pxi\u001b[0m in \u001b[0;36mpandas._libs.hashtable.PyObjectHashTable.get_item\u001b[1;34m()\u001b[0m\n",
      "\u001b[1;32mpandas\\_libs\\hashtable_class_helper.pxi\u001b[0m in \u001b[0;36mpandas._libs.hashtable.PyObjectHashTable.get_item\u001b[1;34m()\u001b[0m\n",
      "\u001b[1;31mKeyError\u001b[0m: 'geometry'"
     ]
    }
   ],
   "source": [
    "gongcan_loc_juli['geometry']"
   ]
  },
  {
   "cell_type": "code",
   "execution_count": 128,
   "metadata": {
    "ExecuteTime": {
     "end_time": "2020-09-28T14:25:51.349960Z",
     "start_time": "2020-09-28T14:25:51.295453Z"
    }
   },
   "outputs": [
    {
     "ename": "KeyError",
     "evalue": "'geometry'",
     "output_type": "error",
     "traceback": [
      "\u001b[1;31m---------------------------------------------------------------------------\u001b[0m",
      "\u001b[1;31mKeyError\u001b[0m                                  Traceback (most recent call last)",
      "\u001b[1;32mC:\\ProgramData\\Anaconda3\\lib\\site-packages\\pandas\\core\\indexes\\base.py\u001b[0m in \u001b[0;36mget_loc\u001b[1;34m(self, key, method, tolerance)\u001b[0m\n\u001b[0;32m   2645\u001b[0m             \u001b[1;32mtry\u001b[0m\u001b[1;33m:\u001b[0m\u001b[1;33m\u001b[0m\u001b[1;33m\u001b[0m\u001b[0m\n\u001b[1;32m-> 2646\u001b[1;33m                 \u001b[1;32mreturn\u001b[0m \u001b[0mself\u001b[0m\u001b[1;33m.\u001b[0m\u001b[0m_engine\u001b[0m\u001b[1;33m.\u001b[0m\u001b[0mget_loc\u001b[0m\u001b[1;33m(\u001b[0m\u001b[0mkey\u001b[0m\u001b[1;33m)\u001b[0m\u001b[1;33m\u001b[0m\u001b[1;33m\u001b[0m\u001b[0m\n\u001b[0m\u001b[0;32m   2647\u001b[0m             \u001b[1;32mexcept\u001b[0m \u001b[0mKeyError\u001b[0m\u001b[1;33m:\u001b[0m\u001b[1;33m\u001b[0m\u001b[1;33m\u001b[0m\u001b[0m\n",
      "\u001b[1;32mpandas\\_libs\\index.pyx\u001b[0m in \u001b[0;36mpandas._libs.index.IndexEngine.get_loc\u001b[1;34m()\u001b[0m\n",
      "\u001b[1;32mpandas\\_libs\\index.pyx\u001b[0m in \u001b[0;36mpandas._libs.index.IndexEngine.get_loc\u001b[1;34m()\u001b[0m\n",
      "\u001b[1;32mpandas\\_libs\\hashtable_class_helper.pxi\u001b[0m in \u001b[0;36mpandas._libs.hashtable.PyObjectHashTable.get_item\u001b[1;34m()\u001b[0m\n",
      "\u001b[1;32mpandas\\_libs\\hashtable_class_helper.pxi\u001b[0m in \u001b[0;36mpandas._libs.hashtable.PyObjectHashTable.get_item\u001b[1;34m()\u001b[0m\n",
      "\u001b[1;31mKeyError\u001b[0m: 'geometry'",
      "\nDuring handling of the above exception, another exception occurred:\n",
      "\u001b[1;31mKeyError\u001b[0m                                  Traceback (most recent call last)",
      "\u001b[1;32m<ipython-input-128-46d5440030f5>\u001b[0m in \u001b[0;36m<module>\u001b[1;34m\u001b[0m\n\u001b[1;32m----> 1\u001b[1;33m \u001b[0mgongcan_loc_juli\u001b[0m\u001b[1;33m[\u001b[0m\u001b[1;34m'geometry'\u001b[0m\u001b[1;33m]\u001b[0m\u001b[1;33m[\u001b[0m\u001b[1;36m0\u001b[0m\u001b[1;33m]\u001b[0m\u001b[1;33m\u001b[0m\u001b[1;33m\u001b[0m\u001b[0m\n\u001b[0m",
      "\u001b[1;32mC:\\ProgramData\\Anaconda3\\lib\\site-packages\\pandas\\core\\frame.py\u001b[0m in \u001b[0;36m__getitem__\u001b[1;34m(self, key)\u001b[0m\n\u001b[0;32m   2798\u001b[0m             \u001b[1;32mif\u001b[0m \u001b[0mself\u001b[0m\u001b[1;33m.\u001b[0m\u001b[0mcolumns\u001b[0m\u001b[1;33m.\u001b[0m\u001b[0mnlevels\u001b[0m \u001b[1;33m>\u001b[0m \u001b[1;36m1\u001b[0m\u001b[1;33m:\u001b[0m\u001b[1;33m\u001b[0m\u001b[1;33m\u001b[0m\u001b[0m\n\u001b[0;32m   2799\u001b[0m                 \u001b[1;32mreturn\u001b[0m \u001b[0mself\u001b[0m\u001b[1;33m.\u001b[0m\u001b[0m_getitem_multilevel\u001b[0m\u001b[1;33m(\u001b[0m\u001b[0mkey\u001b[0m\u001b[1;33m)\u001b[0m\u001b[1;33m\u001b[0m\u001b[1;33m\u001b[0m\u001b[0m\n\u001b[1;32m-> 2800\u001b[1;33m             \u001b[0mindexer\u001b[0m \u001b[1;33m=\u001b[0m \u001b[0mself\u001b[0m\u001b[1;33m.\u001b[0m\u001b[0mcolumns\u001b[0m\u001b[1;33m.\u001b[0m\u001b[0mget_loc\u001b[0m\u001b[1;33m(\u001b[0m\u001b[0mkey\u001b[0m\u001b[1;33m)\u001b[0m\u001b[1;33m\u001b[0m\u001b[1;33m\u001b[0m\u001b[0m\n\u001b[0m\u001b[0;32m   2801\u001b[0m             \u001b[1;32mif\u001b[0m \u001b[0mis_integer\u001b[0m\u001b[1;33m(\u001b[0m\u001b[0mindexer\u001b[0m\u001b[1;33m)\u001b[0m\u001b[1;33m:\u001b[0m\u001b[1;33m\u001b[0m\u001b[1;33m\u001b[0m\u001b[0m\n\u001b[0;32m   2802\u001b[0m                 \u001b[0mindexer\u001b[0m \u001b[1;33m=\u001b[0m \u001b[1;33m[\u001b[0m\u001b[0mindexer\u001b[0m\u001b[1;33m]\u001b[0m\u001b[1;33m\u001b[0m\u001b[1;33m\u001b[0m\u001b[0m\n",
      "\u001b[1;32mC:\\ProgramData\\Anaconda3\\lib\\site-packages\\pandas\\core\\indexes\\base.py\u001b[0m in \u001b[0;36mget_loc\u001b[1;34m(self, key, method, tolerance)\u001b[0m\n\u001b[0;32m   2646\u001b[0m                 \u001b[1;32mreturn\u001b[0m \u001b[0mself\u001b[0m\u001b[1;33m.\u001b[0m\u001b[0m_engine\u001b[0m\u001b[1;33m.\u001b[0m\u001b[0mget_loc\u001b[0m\u001b[1;33m(\u001b[0m\u001b[0mkey\u001b[0m\u001b[1;33m)\u001b[0m\u001b[1;33m\u001b[0m\u001b[1;33m\u001b[0m\u001b[0m\n\u001b[0;32m   2647\u001b[0m             \u001b[1;32mexcept\u001b[0m \u001b[0mKeyError\u001b[0m\u001b[1;33m:\u001b[0m\u001b[1;33m\u001b[0m\u001b[1;33m\u001b[0m\u001b[0m\n\u001b[1;32m-> 2648\u001b[1;33m                 \u001b[1;32mreturn\u001b[0m \u001b[0mself\u001b[0m\u001b[1;33m.\u001b[0m\u001b[0m_engine\u001b[0m\u001b[1;33m.\u001b[0m\u001b[0mget_loc\u001b[0m\u001b[1;33m(\u001b[0m\u001b[0mself\u001b[0m\u001b[1;33m.\u001b[0m\u001b[0m_maybe_cast_indexer\u001b[0m\u001b[1;33m(\u001b[0m\u001b[0mkey\u001b[0m\u001b[1;33m)\u001b[0m\u001b[1;33m)\u001b[0m\u001b[1;33m\u001b[0m\u001b[1;33m\u001b[0m\u001b[0m\n\u001b[0m\u001b[0;32m   2649\u001b[0m         \u001b[0mindexer\u001b[0m \u001b[1;33m=\u001b[0m \u001b[0mself\u001b[0m\u001b[1;33m.\u001b[0m\u001b[0mget_indexer\u001b[0m\u001b[1;33m(\u001b[0m\u001b[1;33m[\u001b[0m\u001b[0mkey\u001b[0m\u001b[1;33m]\u001b[0m\u001b[1;33m,\u001b[0m \u001b[0mmethod\u001b[0m\u001b[1;33m=\u001b[0m\u001b[0mmethod\u001b[0m\u001b[1;33m,\u001b[0m \u001b[0mtolerance\u001b[0m\u001b[1;33m=\u001b[0m\u001b[0mtolerance\u001b[0m\u001b[1;33m)\u001b[0m\u001b[1;33m\u001b[0m\u001b[1;33m\u001b[0m\u001b[0m\n\u001b[0;32m   2650\u001b[0m         \u001b[1;32mif\u001b[0m \u001b[0mindexer\u001b[0m\u001b[1;33m.\u001b[0m\u001b[0mndim\u001b[0m \u001b[1;33m>\u001b[0m \u001b[1;36m1\u001b[0m \u001b[1;32mor\u001b[0m \u001b[0mindexer\u001b[0m\u001b[1;33m.\u001b[0m\u001b[0msize\u001b[0m \u001b[1;33m>\u001b[0m \u001b[1;36m1\u001b[0m\u001b[1;33m:\u001b[0m\u001b[1;33m\u001b[0m\u001b[1;33m\u001b[0m\u001b[0m\n",
      "\u001b[1;32mpandas\\_libs\\index.pyx\u001b[0m in \u001b[0;36mpandas._libs.index.IndexEngine.get_loc\u001b[1;34m()\u001b[0m\n",
      "\u001b[1;32mpandas\\_libs\\index.pyx\u001b[0m in \u001b[0;36mpandas._libs.index.IndexEngine.get_loc\u001b[1;34m()\u001b[0m\n",
      "\u001b[1;32mpandas\\_libs\\hashtable_class_helper.pxi\u001b[0m in \u001b[0;36mpandas._libs.hashtable.PyObjectHashTable.get_item\u001b[1;34m()\u001b[0m\n",
      "\u001b[1;32mpandas\\_libs\\hashtable_class_helper.pxi\u001b[0m in \u001b[0;36mpandas._libs.hashtable.PyObjectHashTable.get_item\u001b[1;34m()\u001b[0m\n",
      "\u001b[1;31mKeyError\u001b[0m: 'geometry'"
     ]
    }
   ],
   "source": [
    "gongcan_loc_juli['geometry'][0]"
   ]
  },
  {
   "cell_type": "code",
   "execution_count": 153,
   "metadata": {
    "ExecuteTime": {
     "end_time": "2020-09-28T14:30:48.500194Z",
     "start_time": "2020-09-28T14:30:48.471190Z"
    }
   },
   "outputs": [
    {
     "data": {
      "text/html": [
       "<div>\n",
       "<style scoped>\n",
       "    .dataframe tbody tr th:only-of-type {\n",
       "        vertical-align: middle;\n",
       "    }\n",
       "\n",
       "    .dataframe tbody tr th {\n",
       "        vertical-align: top;\n",
       "    }\n",
       "\n",
       "    .dataframe thead th {\n",
       "        text-align: right;\n",
       "    }\n",
       "</style>\n",
       "<table border=\"1\" class=\"dataframe\">\n",
       "  <thead>\n",
       "    <tr style=\"text-align: right;\">\n",
       "      <th></th>\n",
       "      <th>小区CGI(*)</th>\n",
       "      <th>小区中文名</th>\n",
       "      <th>所属地区</th>\n",
       "      <th>RRU经度</th>\n",
       "      <th>RRU纬度</th>\n",
       "      <th>天线挂高</th>\n",
       "      <th>方位角</th>\n",
       "      <th>工作频段</th>\n",
       "      <th>归属区县</th>\n",
       "      <th>厂家名称</th>\n",
       "      <th>区域类型</th>\n",
       "      <th>distance</th>\n",
       "      <th>覆盖模型距离</th>\n",
       "      <th>30米覆盖模型距离</th>\n",
       "      <th>使用覆盖半径</th>\n",
       "      <th>distance_use</th>\n",
       "    </tr>\n",
       "  </thead>\n",
       "  <tbody>\n",
       "    <tr>\n",
       "      <th>0</th>\n",
       "      <td>460-00-52246-2</td>\n",
       "      <td>公安群力-ELH-2</td>\n",
       "      <td>荆州</td>\n",
       "      <td>112.147350</td>\n",
       "      <td>30.124050</td>\n",
       "      <td>42.0</td>\n",
       "      <td>157.0</td>\n",
       "      <td>1800</td>\n",
       "      <td>公安县</td>\n",
       "      <td>爱立信</td>\n",
       "      <td>农村</td>\n",
       "      <td>1000.0</td>\n",
       "      <td>1597.297478</td>\n",
       "      <td>1382.063443</td>\n",
       "      <td>1155.733831</td>\n",
       "      <td>1000.0</td>\n",
       "    </tr>\n",
       "    <tr>\n",
       "      <th>1</th>\n",
       "      <td>460-00-52370-1</td>\n",
       "      <td>公安铜桥-ELH-1</td>\n",
       "      <td>荆州</td>\n",
       "      <td>112.011190</td>\n",
       "      <td>29.883020</td>\n",
       "      <td>38.0</td>\n",
       "      <td>50.0</td>\n",
       "      <td>1800</td>\n",
       "      <td>公安县</td>\n",
       "      <td>爱立信</td>\n",
       "      <td>农村</td>\n",
       "      <td>1000.0</td>\n",
       "      <td>1528.709323</td>\n",
       "      <td>1382.063443</td>\n",
       "      <td>1106.106475</td>\n",
       "      <td>1000.0</td>\n",
       "    </tr>\n",
       "    <tr>\n",
       "      <th>2</th>\n",
       "      <td>460-00-52372-1</td>\n",
       "      <td>公安响档口-ELH-1</td>\n",
       "      <td>荆州</td>\n",
       "      <td>112.043460</td>\n",
       "      <td>30.065790</td>\n",
       "      <td>43.0</td>\n",
       "      <td>33.0</td>\n",
       "      <td>1800</td>\n",
       "      <td>公安县</td>\n",
       "      <td>爱立信</td>\n",
       "      <td>农村</td>\n",
       "      <td>1000.0</td>\n",
       "      <td>1614.036174</td>\n",
       "      <td>1382.063443</td>\n",
       "      <td>1167.845211</td>\n",
       "      <td>1000.0</td>\n",
       "    </tr>\n",
       "    <tr>\n",
       "      <th>3</th>\n",
       "      <td>460-00-706678-192</td>\n",
       "      <td>枣阳奎园学府S-ZFH-1</td>\n",
       "      <td>襄阳</td>\n",
       "      <td>112.766540</td>\n",
       "      <td>32.145687</td>\n",
       "      <td>26.7</td>\n",
       "      <td>1.0</td>\n",
       "      <td>1800</td>\n",
       "      <td>枣阳市</td>\n",
       "      <td>中兴</td>\n",
       "      <td>县城</td>\n",
       "      <td>350.0</td>\n",
       "      <td>1316.881788</td>\n",
       "      <td>1382.063443</td>\n",
       "      <td>333.493103</td>\n",
       "      <td>350.0</td>\n",
       "    </tr>\n",
       "    <tr>\n",
       "      <th>4</th>\n",
       "      <td>460-00-52373-2</td>\n",
       "      <td>公安欣荣-ELH-2</td>\n",
       "      <td>荆州</td>\n",
       "      <td>111.995620</td>\n",
       "      <td>29.858060</td>\n",
       "      <td>38.0</td>\n",
       "      <td>231.0</td>\n",
       "      <td>1800</td>\n",
       "      <td>公安县</td>\n",
       "      <td>爱立信</td>\n",
       "      <td>农村</td>\n",
       "      <td>1000.0</td>\n",
       "      <td>1528.709323</td>\n",
       "      <td>1382.063443</td>\n",
       "      <td>1106.106475</td>\n",
       "      <td>1000.0</td>\n",
       "    </tr>\n",
       "    <tr>\n",
       "      <th>...</th>\n",
       "      <td>...</td>\n",
       "      <td>...</td>\n",
       "      <td>...</td>\n",
       "      <td>...</td>\n",
       "      <td>...</td>\n",
       "      <td>...</td>\n",
       "      <td>...</td>\n",
       "      <td>...</td>\n",
       "      <td>...</td>\n",
       "      <td>...</td>\n",
       "      <td>...</td>\n",
       "      <td>...</td>\n",
       "      <td>...</td>\n",
       "      <td>...</td>\n",
       "      <td>...</td>\n",
       "      <td>...</td>\n",
       "    </tr>\n",
       "    <tr>\n",
       "      <th>328126</th>\n",
       "      <td>D_锦绣人家-HLM6261</td>\n",
       "      <td>M-D_锦绣人家-HLM6261</td>\n",
       "      <td>武汉</td>\n",
       "      <td>114.246220</td>\n",
       "      <td>30.624830</td>\n",
       "      <td>4.0</td>\n",
       "      <td>340.0</td>\n",
       "      <td>1800</td>\n",
       "      <td>NaN</td>\n",
       "      <td>NaN</td>\n",
       "      <td>主城区</td>\n",
       "      <td>250.0</td>\n",
       "      <td>669.250824</td>\n",
       "      <td>1382.063443</td>\n",
       "      <td>121.060076</td>\n",
       "      <td>150.0</td>\n",
       "    </tr>\n",
       "    <tr>\n",
       "      <th>328127</th>\n",
       "      <td>D_樊城米公街华容地产-HLM6262</td>\n",
       "      <td>M-D_樊城米公街华容地产-HLM6262</td>\n",
       "      <td>襄阳</td>\n",
       "      <td>112.137600</td>\n",
       "      <td>32.033720</td>\n",
       "      <td>8.0</td>\n",
       "      <td>290.0</td>\n",
       "      <td>1800</td>\n",
       "      <td>NaN</td>\n",
       "      <td>NaN</td>\n",
       "      <td>主城区</td>\n",
       "      <td>250.0</td>\n",
       "      <td>838.459406</td>\n",
       "      <td>1382.063443</td>\n",
       "      <td>151.668039</td>\n",
       "      <td>250.0</td>\n",
       "    </tr>\n",
       "    <tr>\n",
       "      <th>328128</th>\n",
       "      <td>D_城区佛星酒楼(微站)-HLM6263</td>\n",
       "      <td>M-D_城区佛星酒楼(微站)-HLM6263</td>\n",
       "      <td>宜昌</td>\n",
       "      <td>111.309644</td>\n",
       "      <td>30.732898</td>\n",
       "      <td>4.0</td>\n",
       "      <td>25.0</td>\n",
       "      <td>1800</td>\n",
       "      <td>NaN</td>\n",
       "      <td>NaN</td>\n",
       "      <td>主城区</td>\n",
       "      <td>250.0</td>\n",
       "      <td>669.250824</td>\n",
       "      <td>1382.063443</td>\n",
       "      <td>121.060076</td>\n",
       "      <td>150.0</td>\n",
       "    </tr>\n",
       "    <tr>\n",
       "      <th>328129</th>\n",
       "      <td>D_汉宜路46号小区-HLM6264</td>\n",
       "      <td>M-D_汉宜路46号小区-HLM6264</td>\n",
       "      <td>武汉</td>\n",
       "      <td>114.229810</td>\n",
       "      <td>30.577370</td>\n",
       "      <td>4.0</td>\n",
       "      <td>180.0</td>\n",
       "      <td>1800</td>\n",
       "      <td>NaN</td>\n",
       "      <td>NaN</td>\n",
       "      <td>主城区</td>\n",
       "      <td>250.0</td>\n",
       "      <td>669.250824</td>\n",
       "      <td>1382.063443</td>\n",
       "      <td>121.060076</td>\n",
       "      <td>150.0</td>\n",
       "    </tr>\n",
       "    <tr>\n",
       "      <th>328130</th>\n",
       "      <td>D_樊城璞金公寓三层顶微站-HLM6265</td>\n",
       "      <td>M-D_樊城璞金公寓三层顶微站-HLM6265</td>\n",
       "      <td>襄阳</td>\n",
       "      <td>112.147850</td>\n",
       "      <td>32.053670</td>\n",
       "      <td>4.0</td>\n",
       "      <td>230.0</td>\n",
       "      <td>1800</td>\n",
       "      <td>NaN</td>\n",
       "      <td>NaN</td>\n",
       "      <td>主城区</td>\n",
       "      <td>250.0</td>\n",
       "      <td>669.250824</td>\n",
       "      <td>1382.063443</td>\n",
       "      <td>121.060076</td>\n",
       "      <td>150.0</td>\n",
       "    </tr>\n",
       "  </tbody>\n",
       "</table>\n",
       "<p>328065 rows × 16 columns</p>\n",
       "</div>"
      ],
      "text/plain": [
       "                     小区CGI(*)                    小区中文名 所属地区       RRU经度  \\\n",
       "0              460-00-52246-2               公安群力-ELH-2   荆州  112.147350   \n",
       "1              460-00-52370-1               公安铜桥-ELH-1   荆州  112.011190   \n",
       "2              460-00-52372-1              公安响档口-ELH-1   荆州  112.043460   \n",
       "3           460-00-706678-192            枣阳奎园学府S-ZFH-1   襄阳  112.766540   \n",
       "4              460-00-52373-2               公安欣荣-ELH-2   荆州  111.995620   \n",
       "...                       ...                      ...  ...         ...   \n",
       "328126         D_锦绣人家-HLM6261         M-D_锦绣人家-HLM6261   武汉  114.246220   \n",
       "328127    D_樊城米公街华容地产-HLM6262    M-D_樊城米公街华容地产-HLM6262   襄阳  112.137600   \n",
       "328128   D_城区佛星酒楼(微站)-HLM6263   M-D_城区佛星酒楼(微站)-HLM6263   宜昌  111.309644   \n",
       "328129     D_汉宜路46号小区-HLM6264     M-D_汉宜路46号小区-HLM6264   武汉  114.229810   \n",
       "328130  D_樊城璞金公寓三层顶微站-HLM6265  M-D_樊城璞金公寓三层顶微站-HLM6265   襄阳  112.147850   \n",
       "\n",
       "            RRU纬度  天线挂高    方位角  工作频段 归属区县 厂家名称 区域类型  distance       覆盖模型距离  \\\n",
       "0       30.124050  42.0  157.0  1800  公安县  爱立信   农村    1000.0  1597.297478   \n",
       "1       29.883020  38.0   50.0  1800  公安县  爱立信   农村    1000.0  1528.709323   \n",
       "2       30.065790  43.0   33.0  1800  公安县  爱立信   农村    1000.0  1614.036174   \n",
       "3       32.145687  26.7    1.0  1800  枣阳市   中兴   县城     350.0  1316.881788   \n",
       "4       29.858060  38.0  231.0  1800  公安县  爱立信   农村    1000.0  1528.709323   \n",
       "...           ...   ...    ...   ...  ...  ...  ...       ...          ...   \n",
       "328126  30.624830   4.0  340.0  1800  NaN  NaN  主城区     250.0   669.250824   \n",
       "328127  32.033720   8.0  290.0  1800  NaN  NaN  主城区     250.0   838.459406   \n",
       "328128  30.732898   4.0   25.0  1800  NaN  NaN  主城区     250.0   669.250824   \n",
       "328129  30.577370   4.0  180.0  1800  NaN  NaN  主城区     250.0   669.250824   \n",
       "328130  32.053670   4.0  230.0  1800  NaN  NaN  主城区     250.0   669.250824   \n",
       "\n",
       "          30米覆盖模型距离       使用覆盖半径  distance_use  \n",
       "0       1382.063443  1155.733831        1000.0  \n",
       "1       1382.063443  1106.106475        1000.0  \n",
       "2       1382.063443  1167.845211        1000.0  \n",
       "3       1382.063443   333.493103         350.0  \n",
       "4       1382.063443  1106.106475        1000.0  \n",
       "...             ...          ...           ...  \n",
       "328126  1382.063443   121.060076         150.0  \n",
       "328127  1382.063443   151.668039         250.0  \n",
       "328128  1382.063443   121.060076         150.0  \n",
       "328129  1382.063443   121.060076         150.0  \n",
       "328130  1382.063443   121.060076         150.0  \n",
       "\n",
       "[328065 rows x 16 columns]"
      ]
     },
     "execution_count": 153,
     "metadata": {},
     "output_type": "execute_result"
    }
   ],
   "source": [
    "gongcan_loc_juli"
   ]
  },
  {
   "cell_type": "markdown",
   "metadata": {},
   "source": [
    "## 导入天线方向图模型进行建筑物修正 "
   ]
  },
  {
   "cell_type": "code",
   "execution_count": 154,
   "metadata": {
    "ExecuteTime": {
     "end_time": "2020-09-28T14:30:49.687844Z",
     "start_time": "2020-09-28T14:30:49.683844Z"
    }
   },
   "outputs": [],
   "source": [
    "mx_900 = mytools.othern.pickle_read('G:/mypy/mycloud/jupyter/2_评估/覆盖空洞/20200902评估覆盖空洞-第五版本-覆盖空洞使用天线方向图进行/1-基础数据/44低增益900M0下倾P3_935覆盖模型.data')"
   ]
  },
  {
   "cell_type": "code",
   "execution_count": 155,
   "metadata": {
    "ExecuteTime": {
     "end_time": "2020-09-28T14:30:51.534579Z",
     "start_time": "2020-09-28T14:30:51.524078Z"
    }
   },
   "outputs": [],
   "source": [
    "#生成天线图的--线条格式\n",
    "def jm_zl(x,jd_dp,lon,lat,fw,distance):\n",
    "    jl = int(x[distance])\n",
    "    lon = x[lon]\n",
    "    lat = x[lat]\n",
    "    fw = x[fw]\n",
    "    jd_dp['distance_use'] = jd_dp['电平_正'].apply(lambda x: x/37.052 *jl)\n",
    "    jd_dp_use = jd_dp.loc[(jd_dp['角度']<=90) | (jd_dp['角度']>=270)]\n",
    "    jd_dp_use['角度'] = pd.to_numeric(jd_dp_use['角度'] )\n",
    "    jd_dp_use['角度2'] = jd_dp_use['角度'].apply(lambda x: x-0+fw if x-0+fw<360 else x-0+fw-360 )\n",
    "    poy=[]\n",
    "    dict_use = dict()\n",
    "    a=0\n",
    "    for jiao1,jiao2 , jl in zip(jd_dp_use['角度'],jd_dp_use['角度2'],jd_dp_use['distance_use']):\n",
    "        res = Geodesic.WGS84.Direct(lat, lon, jiao2, jl)\n",
    "        points=[]\n",
    "        if int(jiao1)%10==0:\n",
    "#             print('可以',jiao1,jiao2)\n",
    "            points.append((lon, lat))\n",
    "            points.append((res['lon2'], res['lat2']))\n",
    "            poy.append(LineString(points))\n",
    "    res_m = MultiLineString(poy)\n",
    "    return res_m"
   ]
  },
  {
   "cell_type": "code",
   "execution_count": 156,
   "metadata": {
    "ExecuteTime": {
     "end_time": "2020-09-28T14:30:52.648720Z",
     "start_time": "2020-09-28T14:30:52.643220Z"
    }
   },
   "outputs": [
    {
     "data": {
      "text/plain": [
       "Index(['小区CGI(*)', '小区中文名', '所属地区', 'RRU经度', 'RRU纬度', '天线挂高', '方位角', '工作频段',\n",
       "       '归属区县', '厂家名称', '区域类型', 'distance', '覆盖模型距离', '30米覆盖模型距离', '使用覆盖半径',\n",
       "       'distance_use'],\n",
       "      dtype='object')"
      ]
     },
     "execution_count": 156,
     "metadata": {},
     "output_type": "execute_result"
    }
   ],
   "source": [
    "gongcan_loc_juli.columns "
   ]
  },
  {
   "cell_type": "code",
   "execution_count": 157,
   "metadata": {
    "ExecuteTime": {
     "end_time": "2020-09-28T14:30:53.760862Z",
     "start_time": "2020-09-28T14:30:53.710355Z"
    }
   },
   "outputs": [],
   "source": [
    "gongcan_loc_wuhan = gongcan_loc_juli.loc[gongcan_loc_juli['归属区县']=='东湖高新开发区']"
   ]
  },
  {
   "cell_type": "code",
   "execution_count": 158,
   "metadata": {
    "ExecuteTime": {
     "end_time": "2020-09-28T14:30:54.797993Z",
     "start_time": "2020-09-28T14:30:54.793493Z"
    }
   },
   "outputs": [
    {
     "data": {
      "text/plain": [
       "(9283, 16)"
      ]
     },
     "execution_count": 158,
     "metadata": {},
     "output_type": "execute_result"
    }
   ],
   "source": [
    "gongcan_loc_wuhan.shape"
   ]
  },
  {
   "cell_type": "code",
   "execution_count": 159,
   "metadata": {
    "ExecuteTime": {
     "end_time": "2020-09-28T14:34:09.555224Z",
     "start_time": "2020-09-28T14:31:03.648117Z"
    }
   },
   "outputs": [
    {
     "name": "stderr",
     "output_type": "stream",
     "text": [
      "C:\\ProgramData\\Anaconda3\\lib\\site-packages\\ipykernel_launcher.py:9: SettingWithCopyWarning: \n",
      "A value is trying to be set on a copy of a slice from a DataFrame.\n",
      "Try using .loc[row_indexer,col_indexer] = value instead\n",
      "\n",
      "See the caveats in the documentation: https://pandas.pydata.org/pandas-docs/stable/user_guide/indexing.html#returning-a-view-versus-a-copy\n",
      "  if __name__ == '__main__':\n",
      "C:\\ProgramData\\Anaconda3\\lib\\site-packages\\ipykernel_launcher.py:10: SettingWithCopyWarning: \n",
      "A value is trying to be set on a copy of a slice from a DataFrame.\n",
      "Try using .loc[row_indexer,col_indexer] = value instead\n",
      "\n",
      "See the caveats in the documentation: https://pandas.pydata.org/pandas-docs/stable/user_guide/indexing.html#returning-a-view-versus-a-copy\n",
      "  # Remove the CWD from sys.path while we load stuff.\n",
      "C:\\ProgramData\\Anaconda3\\lib\\site-packages\\ipykernel_launcher.py:1: SettingWithCopyWarning: \n",
      "A value is trying to be set on a copy of a slice from a DataFrame.\n",
      "Try using .loc[row_indexer,col_indexer] = value instead\n",
      "\n",
      "See the caveats in the documentation: https://pandas.pydata.org/pandas-docs/stable/user_guide/indexing.html#returning-a-view-versus-a-copy\n",
      "  \"\"\"Entry point for launching an IPython kernel.\n"
     ]
    }
   ],
   "source": [
    "gongcan_loc_wuhan['geometry'] = gongcan_loc_wuhan.apply(lambda x:jm_zl(x,mx_900,'RRU经度','RRU纬度','方位角','distance_use'),axis=1)"
   ]
  },
  {
   "cell_type": "code",
   "execution_count": 160,
   "metadata": {
    "ExecuteTime": {
     "end_time": "2020-09-28T14:34:12.881147Z",
     "start_time": "2020-09-28T14:34:10.730874Z"
    }
   },
   "outputs": [],
   "source": [
    "mytools.dog()"
   ]
  },
  {
   "cell_type": "code",
   "execution_count": 201,
   "metadata": {
    "ExecuteTime": {
     "end_time": "2020-09-28T14:45:13.092483Z",
     "start_time": "2020-09-28T14:45:12.207871Z"
    }
   },
   "outputs": [],
   "source": [
    "shanxing = gpd.GeoDataFrame(gongcan_loc_wuhan, crs={\"init\": \"epsg:4326\"}, geometry='geometry')"
   ]
  },
  {
   "cell_type": "code",
   "execution_count": null,
   "metadata": {},
   "outputs": [],
   "source": []
  },
  {
   "cell_type": "code",
   "execution_count": null,
   "metadata": {},
   "outputs": [],
   "source": []
  },
  {
   "cell_type": "code",
   "execution_count": null,
   "metadata": {},
   "outputs": [],
   "source": []
  },
  {
   "cell_type": "code",
   "execution_count": 187,
   "metadata": {
    "ExecuteTime": {
     "end_time": "2020-09-28T14:38:56.593674Z",
     "start_time": "2020-09-28T14:38:56.589173Z"
    }
   },
   "outputs": [],
   "source": [
    "a = gongcan_loc_wuhan.loc[gongcan_loc_wuhan.index==322315]"
   ]
  },
  {
   "cell_type": "code",
   "execution_count": 190,
   "metadata": {
    "ExecuteTime": {
     "end_time": "2020-09-28T14:39:46.994074Z",
     "start_time": "2020-09-28T14:39:46.990073Z"
    }
   },
   "outputs": [],
   "source": [
    "a = gpd.GeoDataFrame(a,geometry='geometry')"
   ]
  },
  {
   "cell_type": "code",
   "execution_count": null,
   "metadata": {},
   "outputs": [],
   "source": [
    "a['geometry'][322315]"
   ]
  },
  {
   "cell_type": "code",
   "execution_count": 196,
   "metadata": {
    "ExecuteTime": {
     "end_time": "2020-09-28T14:42:25.205164Z",
     "start_time": "2020-09-28T14:42:25.199163Z"
    }
   },
   "outputs": [
    {
     "data": {
      "image/svg+xml": [
       "<svg xmlns=\"http://www.w3.org/2000/svg\" xmlns:xlink=\"http://www.w3.org/1999/xlink\" width=\"100.0\" height=\"100.0\" viewBox=\"114.46260354529737 30.426743574340072 0.005627147754836415 0.004021691589983334\" preserveAspectRatio=\"xMinYMin meet\"><g transform=\"matrix(1,0,0,-1,0,60.85750884027013)\"><g><circle cx=\"114.46281195817718\" cy=\"30.428254835882143\" r=\"0.00016881443264509243\" stroke=\"#555555\" stroke-width=\"5.6271477548364145e-05\" fill=\"#66cc99\" opacity=\"0.6\" /><circle cx=\"114.46287011402158\" cy=\"30.428803208130258\" r=\"0.00016881443264509243\" stroke=\"#555555\" stroke-width=\"5.6271477548364145e-05\" fill=\"#66cc99\" opacity=\"0.6\" /><circle cx=\"114.46289859269909\" cy=\"30.427745997969218\" r=\"0.00016881443264509243\" stroke=\"#555555\" stroke-width=\"5.6271477548364145e-05\" fill=\"#66cc99\" opacity=\"0.6\" /><circle cx=\"114.46309275356586\" cy=\"30.4293512977914\" r=\"0.00016881443264509243\" stroke=\"#555555\" stroke-width=\"5.6271477548364145e-05\" fill=\"#66cc99\" opacity=\"0.6\" /><circle cx=\"114.4631555535702\" cy=\"30.42729738517925\" r=\"0.00016881443264509243\" stroke=\"#555555\" stroke-width=\"5.6271477548364145e-05\" fill=\"#66cc99\" opacity=\"0.6\" /><circle cx=\"114.46348679763379\" cy=\"30.42984761092917\" r=\"0.00016881443264509243\" stroke=\"#555555\" stroke-width=\"5.6271477548364145e-05\" fill=\"#66cc99\" opacity=\"0.6\" /><circle cx=\"114.4635892816425\" cy=\"30.42695198721988\" r=\"0.00016881443264509243\" stroke=\"#555555\" stroke-width=\"5.6271477548364145e-05\" fill=\"#66cc99\" opacity=\"0.6\" /><circle cx=\"114.46403442800752\" cy=\"30.43024134072155\" r=\"0.00016881443264509243\" stroke=\"#555555\" stroke-width=\"5.6271477548364145e-05\" fill=\"#66cc99\" opacity=\"0.6\" /><circle cx=\"114.46469659419701\" cy=\"30.430487541974973\" r=\"0.00016881443264509243\" stroke=\"#555555\" stroke-width=\"5.6271477548364145e-05\" fill=\"#66cc99\" opacity=\"0.6\" /><circle cx=\"114.46541599999999\" cy=\"30.426952000000004\" r=\"0.00016881443264509243\" stroke=\"#555555\" stroke-width=\"5.6271477548364145e-05\" fill=\"#66cc99\" opacity=\"0.6\" /><circle cx=\"114.46541599999999\" cy=\"30.43055685305025\" r=\"0.00016881443264509243\" stroke=\"#555555\" stroke-width=\"5.6271477548364145e-05\" fill=\"#66cc99\" opacity=\"0.6\" /><circle cx=\"114.46612722860718\" cy=\"30.430447356360297\" r=\"0.00016881443264509243\" stroke=\"#555555\" stroke-width=\"5.6271477548364145e-05\" fill=\"#66cc99\" opacity=\"0.6\" /><circle cx=\"114.46677263085581\" cy=\"30.430181961265006\" r=\"0.00016881443264509243\" stroke=\"#555555\" stroke-width=\"5.6271477548364145e-05\" fill=\"#66cc99\" opacity=\"0.6\" /><circle cx=\"114.46695358533994\" cy=\"30.426951990945387\" r=\"0.00016881443264509243\" stroke=\"#555555\" stroke-width=\"5.6271477548364145e-05\" fill=\"#66cc99\" opacity=\"0.6\" /><circle cx=\"114.46731238221709\" cy=\"30.429798351637206\" r=\"0.00016881443264509243\" stroke=\"#555555\" stroke-width=\"5.6271477548364145e-05\" fill=\"#66cc99\" opacity=\"0.6\" /><circle cx=\"114.46754696776993\" cy=\"30.427277602595066\" r=\"0.00016881443264509243\" stroke=\"#555555\" stroke-width=\"5.6271477548364145e-05\" fill=\"#66cc99\" opacity=\"0.6\" /><circle cx=\"114.46772318863408\" cy=\"30.429334714888025\" r=\"0.00016881443264509243\" stroke=\"#555555\" stroke-width=\"5.6271477548364145e-05\" fill=\"#66cc99\" opacity=\"0.6\" /><circle cx=\"114.46784365004764\" cy=\"30.427717689314075\" r=\"0.00016881443264509243\" stroke=\"#555555\" stroke-width=\"5.6271477548364145e-05\" fill=\"#66cc99\" opacity=\"0.6\" /><circle cx=\"114.46797766538931\" cy=\"30.428814681550797\" r=\"0.00016881443264509243\" stroke=\"#555555\" stroke-width=\"5.6271477548364145e-05\" fill=\"#66cc99\" opacity=\"0.6\" /><circle cx=\"114.46802228017239\" cy=\"30.428255955720118\" r=\"0.00016881443264509243\" stroke=\"#555555\" stroke-width=\"5.6271477548364145e-05\" fill=\"#66cc99\" opacity=\"0.6\" /></g></g></svg>"
      ],
      "text/plain": [
       "<shapely.geometry.multipoint.MultiPoint at 0x4a4bbb08>"
      ]
     },
     "execution_count": 196,
     "metadata": {},
     "output_type": "execute_result"
    }
   ],
   "source": [
    "b.boundary"
   ]
  },
  {
   "cell_type": "code",
   "execution_count": 195,
   "metadata": {
    "ExecuteTime": {
     "end_time": "2020-09-28T14:42:18.664333Z",
     "start_time": "2020-09-28T14:42:18.656832Z"
    }
   },
   "outputs": [
    {
     "data": {
      "image/svg+xml": [
       "<svg xmlns=\"http://www.w3.org/2000/svg\" xmlns:xlink=\"http://www.w3.org/1999/xlink\" width=\"100.0\" height=\"100.0\" viewBox=\"114.46260354529737 30.426743574340072 0.005627147754836415 0.004021691589983334\" preserveAspectRatio=\"xMinYMin meet\"><g transform=\"matrix(1,0,0,-1,0,60.85750884027013)\"><g><polyline fill=\"none\" stroke=\"#66cc99\" stroke-width=\"0.00011254295509672829\" points=\"114.46541599999999,30.426952000000004 114.46541599999999,30.43055685305025\" opacity=\"0.8\" /><polyline fill=\"none\" stroke=\"#66cc99\" stroke-width=\"0.00011254295509672829\" points=\"114.46541599999999,30.426952000000004 114.46612722860718,30.430447356360297\" opacity=\"0.8\" /><polyline fill=\"none\" stroke=\"#66cc99\" stroke-width=\"0.00011254295509672829\" points=\"114.46541599999999,30.426952000000004 114.46677263085581,30.430181961265006\" opacity=\"0.8\" /><polyline fill=\"none\" stroke=\"#66cc99\" stroke-width=\"0.00011254295509672829\" points=\"114.46541599999999,30.426952000000004 114.46731238221709,30.429798351637206\" opacity=\"0.8\" /><polyline fill=\"none\" stroke=\"#66cc99\" stroke-width=\"0.00011254295509672829\" points=\"114.46541599999999,30.426952000000004 114.46772318863408,30.429334714888025\" opacity=\"0.8\" /><polyline fill=\"none\" stroke=\"#66cc99\" stroke-width=\"0.00011254295509672829\" points=\"114.46541599999999,30.426952000000004 114.46797766538931,30.428814681550797\" opacity=\"0.8\" /><polyline fill=\"none\" stroke=\"#66cc99\" stroke-width=\"0.00011254295509672829\" points=\"114.46541599999999,30.426952000000004 114.46802228017239,30.428255955720118\" opacity=\"0.8\" /><polyline fill=\"none\" stroke=\"#66cc99\" stroke-width=\"0.00011254295509672829\" points=\"114.46541599999999,30.426952000000004 114.46784365004764,30.427717689314075\" opacity=\"0.8\" /><polyline fill=\"none\" stroke=\"#66cc99\" stroke-width=\"0.00011254295509672829\" points=\"114.46541599999999,30.426952000000004 114.46754696776993,30.427277602595066\" opacity=\"0.8\" /><polyline fill=\"none\" stroke=\"#66cc99\" stroke-width=\"0.00011254295509672829\" points=\"114.46541599999999,30.426952000000004 114.46695358533994,30.426951990945387\" opacity=\"0.8\" /><polyline fill=\"none\" stroke=\"#66cc99\" stroke-width=\"0.00011254295509672829\" points=\"114.46541599999999,30.426952000000004 114.4635892816425,30.42695198721988\" opacity=\"0.8\" /><polyline fill=\"none\" stroke=\"#66cc99\" stroke-width=\"0.00011254295509672829\" points=\"114.46541599999999,30.426952000000004 114.4631555535702,30.42729738517925\" opacity=\"0.8\" /><polyline fill=\"none\" stroke=\"#66cc99\" stroke-width=\"0.00011254295509672829\" points=\"114.46541599999999,30.426952000000004 114.46289859269909,30.427745997969218\" opacity=\"0.8\" /><polyline fill=\"none\" stroke=\"#66cc99\" stroke-width=\"0.00011254295509672829\" points=\"114.46541599999999,30.426952000000004 114.46281195817718,30.428254835882143\" opacity=\"0.8\" /><polyline fill=\"none\" stroke=\"#66cc99\" stroke-width=\"0.00011254295509672829\" points=\"114.46541599999999,30.426952000000004 114.46287011402158,30.428803208130258\" opacity=\"0.8\" /><polyline fill=\"none\" stroke=\"#66cc99\" stroke-width=\"0.00011254295509672829\" points=\"114.46541599999999,30.426952000000004 114.46309275356586,30.4293512977914\" opacity=\"0.8\" /><polyline fill=\"none\" stroke=\"#66cc99\" stroke-width=\"0.00011254295509672829\" points=\"114.46541599999999,30.426952000000004 114.46348679763379,30.42984761092917\" opacity=\"0.8\" /><polyline fill=\"none\" stroke=\"#66cc99\" stroke-width=\"0.00011254295509672829\" points=\"114.46541599999999,30.426952000000004 114.46403442800752,30.43024134072155\" opacity=\"0.8\" /><polyline fill=\"none\" stroke=\"#66cc99\" stroke-width=\"0.00011254295509672829\" points=\"114.46541599999999,30.426952000000004 114.46469659419701,30.430487541974973\" opacity=\"0.8\" /></g></g></svg>"
      ],
      "text/plain": [
       "<shapely.geometry.multilinestring.MultiLineString at 0x224ebac8>"
      ]
     },
     "execution_count": 195,
     "metadata": {},
     "output_type": "execute_result"
    }
   ],
   "source": [
    "b = a['geometry'][322315]\n",
    "b"
   ]
  },
  {
   "cell_type": "code",
   "execution_count": 191,
   "metadata": {
    "ExecuteTime": {
     "end_time": "2020-09-28T14:40:01.133369Z",
     "start_time": "2020-09-28T14:40:00.805327Z"
    }
   },
   "outputs": [
    {
     "data": {
      "text/plain": [
       "<matplotlib.axes._subplots.AxesSubplot at 0x29fc70c8>"
      ]
     },
     "execution_count": 191,
     "metadata": {},
     "output_type": "execute_result"
    },
    {
     "data": {
      "image/png": "[encoded data removed]",
      "text/plain": [
       "<Figure size 864x864 with 1 Axes>"
      ]
     },
     "metadata": {
      "needs_background": "light"
     },
     "output_type": "display_data"
    }
   ],
   "source": [
    "a.plot(figsize=[12,12])"
   ]
  },
  {
   "cell_type": "code",
   "execution_count": 207,
   "metadata": {
    "ExecuteTime": {
     "end_time": "2020-09-28T14:47:26.169382Z",
     "start_time": "2020-09-28T14:47:26.160380Z"
    }
   },
   "outputs": [
    {
     "data": {
      "image/svg+xml": [
       "<svg xmlns=\"http://www.w3.org/2000/svg\" xmlns:xlink=\"http://www.w3.org/1999/xlink\" width=\"100.0\" height=\"100.0\" viewBox=\"114.37156776132626 30.45405251623114 0.005628716321041338 0.004021792694814508\" preserveAspectRatio=\"xMinYMin meet\"><g transform=\"matrix(1,0,0,-1,0,60.912126825157095)\"><g><polyline fill=\"none\" stroke=\"#66cc99\" stroke-width=\"0.00011257432642082677\" points=\"114.374381,30.454261 114.374381,30.4578658379511\" opacity=\"0.8\" /><polyline fill=\"none\" stroke=\"#66cc99\" stroke-width=\"0.00011257432642082677\" points=\"114.374381,30.454261 114.37509242687935,30.457756341717683\" opacity=\"0.8\" /><polyline fill=\"none\" stroke=\"#66cc99\" stroke-width=\"0.00011257432642082677\" points=\"114.374381,30.454261 114.37573014269442,30.457472224269903\" opacity=\"0.8\" /><polyline fill=\"none\" stroke=\"#66cc99\" stroke-width=\"0.00011257432642082677\" points=\"114.374381,30.454261 114.37562456693165,30.45612698853494\" opacity=\"0.8\" /><polyline fill=\"none\" stroke=\"#66cc99\" stroke-width=\"0.00011257432642082677\" points=\"114.375738958486,30.4562986345666 114.37579924929852,30.456389101723673\" opacity=\"0.8\" /><polyline fill=\"none\" stroke=\"#66cc99\" stroke-width=\"0.00011257432642082677\" points=\"114.37585054688817,30.456466074431535 114.3758580736842,30.456477368487956\" opacity=\"0.8\" /><polyline fill=\"none\" stroke=\"#66cc99\" stroke-width=\"0.00011257432642082677\" points=\"114.37589037387667,30.456525835351535 114.37598840006869,30.456672924941813\" opacity=\"0.8\" /><polyline fill=\"none\" stroke=\"#66cc99\" stroke-width=\"0.00011257432642082677\" points=\"114.37610088404568,30.456841708628534 114.37616499746424,30.456937911656237\" opacity=\"0.8\" /><polyline fill=\"none\" stroke=\"#66cc99\" stroke-width=\"0.00011257432642082677\" points=\"114.374381,30.454261 114.37564791569085,30.455569018296384\" opacity=\"0.8\" /><polyline fill=\"none\" stroke=\"#66cc99\" stroke-width=\"0.00011257432642082677\" points=\"114.37586359169569,30.45579169148803 114.37597068038475,30.45590225446048\" opacity=\"0.8\" /><polyline fill=\"none\" stroke=\"#66cc99\" stroke-width=\"0.00011257432642082677\" points=\"114.37607176481552,30.456006618378208 114.37619121025865,30.456129938995492\" opacity=\"0.8\" /><polyline fill=\"none\" stroke=\"#66cc99\" stroke-width=\"0.00011257432642082677\" points=\"114.37635466037106,30.456298691927604 114.37649509912784,30.456443686945594\" opacity=\"0.8\" /><polyline fill=\"none\" stroke=\"#66cc99\" stroke-width=\"0.00011257432642082677\" points=\"114.37662245184633,30.456575171374332 114.3766888317901,30.45664370488576\" opacity=\"0.8\" /><polyline fill=\"none\" stroke=\"#66cc99\" stroke-width=\"0.00011257432642082677\" points=\"114.374381,30.454261 114.37560435504523,30.45515029501759\" opacity=\"0.8\" /><polyline fill=\"none\" stroke=\"#66cc99\" stroke-width=\"0.00011257432642082677\" points=\"114.37561137900364,30.455155400952485 114.37562968020289,30.455168704666217\" opacity=\"0.8\" /><polyline fill=\"none\" stroke=\"#66cc99\" stroke-width=\"0.00011257432642082677\" points=\"114.37572059624851,30.4552347943813 114.37581791259134,30.45530553667247\" opacity=\"0.8\" /><polyline fill=\"none\" stroke=\"#66cc99\" stroke-width=\"0.00011257432642082677\" points=\"114.37589481415625,30.45536143882352 114.37595290485541,30.45540366676832\" opacity=\"0.8\" /><polyline fill=\"none\" stroke=\"#66cc99\" stroke-width=\"0.00011257432642082677\" points=\"114.37605785135177,30.455479955656564 114.3761794808998,30.45556837197648\" opacity=\"0.8\" /><polyline fill=\"none\" stroke=\"#66cc99\" stroke-width=\"0.00011257432642082677\" points=\"114.37639813899838,30.455727321382366 114.37641453811023,30.45573924240931\" opacity=\"0.8\" /><polyline fill=\"none\" stroke=\"#66cc99\" stroke-width=\"0.00011257432642082677\" points=\"114.37641927757996,30.45574268767799 114.37655895022165,30.455844220086618\" opacity=\"0.8\" /><polyline fill=\"none\" stroke=\"#66cc99\" stroke-width=\"0.00011257432642082677\" points=\"114.37677902403735,30.45600419862152 114.37692109857275,30.456107477041755\" opacity=\"0.8\" /><polyline fill=\"none\" stroke=\"#66cc99\" stroke-width=\"0.00011257432642082677\" points=\"114.374381,30.454261 114.3750125247265,30.45457687061943\" opacity=\"0.8\" /><polyline fill=\"none\" stroke=\"#66cc99\" stroke-width=\"0.00011257432642082677\" points=\"114.3752247233396,30.454683006301135 114.3755799089337,30.454860659984217\" opacity=\"0.8\" /><polyline fill=\"none\" stroke=\"#66cc99\" stroke-width=\"0.00011257432642082677\" points=\"114.37568726861038,30.454914358226187 114.37593588236203,30.455038707719464\" opacity=\"0.8\" /><polyline fill=\"none\" stroke=\"#66cc99\" stroke-width=\"0.00011257432642082677\" points=\"114.37593644583495,30.455038989552516 114.37596282456143,30.455052183437605\" opacity=\"0.8\" /><polyline fill=\"none\" stroke=\"#66cc99\" stroke-width=\"0.00011257432642082677\" points=\"114.37634066118913,30.455241166520334 114.37646494690956,30.455303330685652\" opacity=\"0.8\" /><polyline fill=\"none\" stroke=\"#66cc99\" stroke-width=\"0.00011257432642082677\" points=\"114.37678617887617,30.455464001734647 114.37698800667245,30.455564950230173\" opacity=\"0.8\" /><polyline fill=\"none\" stroke=\"#66cc99\" stroke-width=\"0.00011257432642082677\" points=\"114.374381,30.454261 114.37530838446585,30.45455341755932\" opacity=\"0.8\" /><polyline fill=\"none\" stroke=\"#66cc99\" stroke-width=\"0.00011257432642082677\" points=\"114.37536167484687,30.45457022077711 114.37558301856325,30.45464001361028\" opacity=\"0.8\" /><polyline fill=\"none\" stroke=\"#66cc99\" stroke-width=\"0.00011257432642082677\" points=\"114.37647967371876,30.45492274177943 114.37680932674004,30.45502668608242\" opacity=\"0.8\" /><polyline fill=\"none\" stroke=\"#66cc99\" stroke-width=\"0.00011257432642082677\" points=\"114.374381,30.454261 114.37651256175354,30.454586601212338\" opacity=\"0.8\" /><polyline fill=\"none\" stroke=\"#66cc99\" stroke-width=\"0.00011257432642082677\" points=\"114.374381,30.454261 114.37591901391922,30.454260990935545\" opacity=\"0.8\" /><polyline fill=\"none\" stroke=\"#66cc99\" stroke-width=\"0.00011257432642082677\" points=\"114.374381,30.454261 114.37255377247166,30.454260987205995\" opacity=\"0.8\" /><polyline fill=\"none\" stroke=\"#66cc99\" stroke-width=\"0.00011257432642082677\" points=\"114.374381,30.454261 114.37211992349536,30.454606383711297\" opacity=\"0.8\" /><polyline fill=\"none\" stroke=\"#66cc99\" stroke-width=\"0.00011257432642082677\" points=\"114.374381,30.454261 114.37186289098663,30.455054994617136\" opacity=\"0.8\" /><polyline fill=\"none\" stroke=\"#66cc99\" stroke-width=\"0.00011257432642082677\" points=\"114.374381,30.454261 114.37177623230112,30.45556383039694\" opacity=\"0.8\" /><polyline fill=\"none\" stroke=\"#66cc99\" stroke-width=\"0.00011257432642082677\" points=\"114.374381,30.454261 114.37183440434093,30.456112200349413\" opacity=\"0.8\" /><polyline fill=\"none\" stroke=\"#66cc99\" stroke-width=\"0.00011257432642082677\" points=\"114.374381,30.454261 114.37205710593311,30.456660287719362\" opacity=\"0.8\" /><polyline fill=\"none\" stroke=\"#66cc99\" stroke-width=\"0.00011257432642082677\" points=\"114.374381,30.454261 114.37245125983489,30.457156598785264\" opacity=\"0.8\" /><polyline fill=\"none\" stroke=\"#66cc99\" stroke-width=\"0.00011257432642082677\" points=\"114.374381,30.454261 114.37299904286412,30.45755032693602\" opacity=\"0.8\" /><polyline fill=\"none\" stroke=\"#66cc99\" stroke-width=\"0.00011257432642082677\" points=\"114.374381,30.454261 114.37366139364495,30.457796527163982\" opacity=\"0.8\" /></g></g></svg>"
      ],
      "text/plain": [
       "<shapely.geometry.multilinestring.MultiLineString at 0x6e87e188>"
      ]
     },
     "execution_count": 207,
     "metadata": {},
     "output_type": "execute_result"
    }
   ],
   "source": [
    "res"
   ]
  },
  {
   "cell_type": "code",
   "execution_count": 209,
   "metadata": {
    "ExecuteTime": {
     "end_time": "2020-09-28T14:50:13.394616Z",
     "start_time": "2020-09-28T14:50:13.390116Z"
    }
   },
   "outputs": [
    {
     "data": {
      "image/svg+xml": [
       "<svg xmlns=\"http://www.w3.org/2000/svg\" xmlns:xlink=\"http://www.w3.org/1999/xlink\" width=\"100.0\" height=\"100.0\" viewBox=\"114.37158677912302 30.454071534027896 0.005115235808617058 0.003983757101302388\" preserveAspectRatio=\"xMinYMin meet\"><g transform=\"matrix(1,0,0,-1,0,60.912126825157095)\"><path fill-rule=\"evenodd\" fill=\"#66cc99\" stroke=\"#555555\" stroke-width=\"0.00010230471617234116\" opacity=\"0.6\" d=\"M 114.374381,30.4578658379511 L 114.37509242687935,30.457756341717683 L 114.37573014269442,30.457472224269903 L 114.37562456693165,30.45612698853494 L 114.37564791569085,30.455569018296384 L 114.37560435504523,30.45515029501759 L 114.3750125247265,30.45457687061943 L 114.37530838446585,30.45455341755932 L 114.37651256175354,30.454586601212338 L 114.37591901391922,30.454260990935545 L 114.37255377247166,30.454260987205995 L 114.37211992349536,30.454606383711297 L 114.37186289098663,30.455054994617136 L 114.37177623230112,30.45556383039694 L 114.37183440434093,30.456112200349413 L 114.37205710593311,30.456660287719362 L 114.37245125983489,30.457156598785264 L 114.37299904286412,30.45755032693602 L 114.37366139364495,30.457796527163982 L 114.374381,30.4578658379511 z\" /></g></svg>"
      ],
      "text/plain": [
       "<shapely.geometry.polygon.Polygon at 0x6e818f48>"
      ]
     },
     "execution_count": 209,
     "metadata": {},
     "output_type": "execute_result"
    }
   ],
   "source": [
    "Polygon(linshi_2)"
   ]
  },
  {
   "cell_type": "code",
   "execution_count": 210,
   "metadata": {
    "ExecuteTime": {
     "end_time": "2020-09-28T14:57:29.666516Z",
     "start_time": "2020-09-28T14:57:29.650014Z"
    }
   },
   "outputs": [
    {
     "data": {
      "image/svg+xml": [
       "<svg xmlns=\"http://www.w3.org/2000/svg\" xmlns:xlink=\"http://www.w3.org/1999/xlink\" width=\"100.0\" height=\"100.0\" viewBox=\"114.37488987073635 30.454430868123083 0.002429376720158416 0.0033073278850288546\" preserveAspectRatio=\"xMinYMin meet\"><g transform=\"matrix(1,0,0,-1,0,60.91216906413119)\"><g><path fill-rule=\"evenodd\" fill=\"#66cc99\" stroke=\"#555555\" stroke-width=\"6.614655770057709e-05\" opacity=\"0.6\" d=\"M 114.37719465094203,30.456578584539024 L 114.37719465191907,30.45657858449703 L 114.37719465288733,30.456578584359807 L 114.37719465383755,30.456578584128664 L 114.37719465476066,30.456578583805808 L 114.37719465564781,30.456578583394332 L 114.37719465649054,30.45657858289817 L 114.37719465728077,30.456578582322063 L 114.37719465801095,30.456578581671526 L 114.37719465867409,30.45657858095278 L 114.37719465926386,30.456578580172696 L 114.37719465977462,30.456578579338732 L 114.37719466020147,30.45657857845887 L 114.37719466054034,30.456578577541524 L 114.37719466078798,30.45657857659546 L 114.37719466094204,30.456578575629734 L 114.37719466100101,30.45657857465358 L 114.37719675383114,30.456395614068473 L 114.37719675379391,30.456395613084407 L 114.37719675366007,30.45639561210878 L 114.37719675343091,30.45639561115104 L 114.37719675310866,30.45639561022049 L 114.37719675269646,30.456395609326147 L 114.37719675219829,30.456395608476683 L 114.37719675161897,30.456395607680335 L 114.37719675096415,30.45639560694483 L 114.37719675024015,30.456395606277297 L 114.377196749454,30.456395605684214 L 114.37719674861333,30.45639560517133 L 114.3771967477263,30.456395604743616 L 114.3771967468015,30.456395604405223 L 114.3771967458479,30.456395604159432 L 114.37719674487474,30.456395604008627 L 114.37719674389147,30.45639560395427 L 114.37649567758001,30.456391420704172 L 114.37649567660263,30.456391420746193 L 114.37649567563402,30.456391420883516 L 114.37649567468347,30.456391421114827 L 114.37649567376008,30.456391421437907 L 114.37649567287266,30.45639142184967 L 114.37649567202973,30.456391422346172 L 114.37649567123934,30.456391422922664 L 114.37649567050907,30.456391423573628 L 114.37649566984591,30.456391424292832 L 114.37649566925619,30.45639142507339 L 114.37649566874555,30.456391425907842 L 114.3764956683189,30.456391426788194 L 114.37649566798031,30.45639142770602 L 114.37649566773302,30.45639142865254 L 114.3764956675794,30.456391429618694 L 114.37649566752093,30.456391430595232 L 114.37649367743415,30.456574393186322 L 114.37649367747191,30.45657439417002 L 114.3764936776062,30.456574395145235 L 114.37649367783574,30.45657439610252 L 114.37649367815828,30.456574397032604 L 114.3764936785707,30.456574397926463 L 114.37649367906901,30.456574398775444 L 114.37649367964839,30.456574399571313 L 114.37649368030321,30.456574400306362 L 114.37649368102713,30.456574400973466 L 114.37649368181313,30.456574401566158 L 114.37649368265359,30.456574402078697 L 114.37649368354039,30.456574402506117 L 114.3764936844649,30.456574402844275 L 114.37649368541818,30.456574403089892 L 114.376493686391,30.45657440324059 L 114.37649368737392,30.45657440329491 L 114.37719465094203,30.456578584539024 z\" /><path fill-rule=\"evenodd\" fill=\"#66cc99\" stroke=\"#555555\" stroke-width=\"6.614655770057709e-05\" opacity=\"0.6\" d=\"M 114.3771031301281,30.456291461320166 L 114.37710313110513,30.456291461278152 L 114.37710313207337,30.456291461140907 L 114.37710313302358,30.456291460909743 L 114.37710313394668,30.456291460586872 L 114.3771031348338,30.456291460175382 L 114.3771031356765,30.45629145967921 L 114.37710313646673,30.4562914591031 L 114.37710313719688,30.456291458452558 L 114.37710313786,30.45629145773381 L 114.37710313844975,30.456291456953725 L 114.37710313896049,30.456291456119764 L 114.37710313938733,30.45629145523991 L 114.37710313972619,30.456291454322567 L 114.37710313997381,30.456291453376515 L 114.37710314012786,30.4562914524108 L 114.37710314018683,30.456291451434655 L 114.37710523072404,30.456108580998382 L 114.37710523068681,30.456108580014305 L 114.37710523055296,30.456108579038663 L 114.37710523032378,30.45610857808092 L 114.37710523000152,30.456108577150356 L 114.37710522958929,30.456108576256007 L 114.3771052290911,30.45610857540654 L 114.37710522851177,30.45610857461019 L 114.37710522785692,30.456108573874687 L 114.3771052271329,30.45610857320716 L 114.37710522634674,30.45610857261408 L 114.37710522550606,30.456108572101208 L 114.377105224619,30.456108571673507 L 114.37710522369417,30.456108571335132 L 114.37710522274055,30.45610857108936 L 114.37710522176738,30.45610857093858 L 114.3771052207841,30.456108570884247 L 114.37648815891166,30.45610490501204 L 114.37648815793428,30.456104905054087 L 114.37648815696569,30.45610490519143 L 114.37648815601516,30.45610490542276 L 114.37648815509178,30.45610490574586 L 114.3764881542044,30.456104906157634 L 114.37648815336148,30.45610490665415 L 114.37648815257111,30.45610490723065 L 114.37648815184086,30.456104907881617 L 114.37648815117771,30.456104908600825 L 114.37648815058802,30.456104909381384 L 114.37648815007739,30.45610491021583 L 114.37648814965077,30.45610491109618 L 114.3764881493122,30.456104912014 L 114.37648814906491,30.45610491296051 L 114.3764881489113,30.45610491392665 L 114.37648814885284,30.45610491490318 L 114.37648616121626,30.456287787356 L 114.37648616125404,30.456287788339708 L 114.37648616138834,30.456287789314935 L 114.37648616161788,30.456287790272228 L 114.37648616194043,30.456287791202318 L 114.37648616235288,30.456287792096184 L 114.37648616285121,30.456287792945165 L 114.3764861634306,30.456287793741033 L 114.37648616408543,30.45628779447608 L 114.37648616480936,30.45628779514318 L 114.3764861655954,30.456287795735864 L 114.37648616643588,30.456287796248393 L 114.37648616732268,30.4562877966758 L 114.37648616824723,30.45628779701394 L 114.37648616920052,30.456287797259538 L 114.37648617017335,30.456287797410216 L 114.37648617115629,30.45628779746451 L 114.3771031301281,30.456291461320166 z\" /><path fill-rule=\"evenodd\" fill=\"#66cc99\" stroke=\"#555555\" stroke-width=\"6.614655770057709e-05\" opacity=\"0.6\" d=\"M 114.37707103623845,30.45600508257334 L 114.37707103722063,30.456005082527977 L 114.3770710381936,30.456005082386376 L 114.37707103914798,30.45600508214991 L 114.37707104007453,30.456005081820866 L 114.37707104096427,30.45600508140242 L 114.37707104180862,30.45600508089862 L 114.37707104259941,30.456005080314338 L 114.37707104332901,30.456005079655217 L 114.37707104399034,30.45600507892764 L 114.37707104457704,30.456005078138627 L 114.3770710450834,30.456005077295814 L 114.37707104550455,30.456005076407347 L 114.37707104583643,30.45600507548182 L 114.3770710460758,30.45600507452817 L 114.37707104622037,30.456005073555627 L 114.37707104626871,30.456005072573586 L 114.37707104945991,30.45584570065657 L 114.37707104941197,30.45584569967817 L 114.37707104926851,30.45584569870916 L 114.37707104903093,30.455845697758832 L 114.37707104870152,30.45584569683631 L 114.37707104828343,30.455845695950444 L 114.37707104778066,30.45584569510973 L 114.37707104719806,30.455845694322242 L 114.3770710465412,30.455845693595535 L 114.37707104581641,30.45584569293658 L 114.3770710450306,30.455845692351705 L 114.37707104419135,30.455845691846513 L 114.3770710433067,30.45584569142586 L 114.37707104238513,30.455845691093778 L 114.37707104143549,30.455845690853458 L 114.3770710404669,30.4558456907072 L 114.37707103948864,30.455845690656414 L 114.37649057207909,30.455844023724698 L 114.37649057109701,30.455844023770204 L 114.37649057012413,30.45584402391193 L 114.37649056916989,30.455844024148497 L 114.37649056824347,30.455844024477628 L 114.37649056735385,30.455844024896138 L 114.37649056650963,30.45584402539998 L 114.37649056571897,30.455844025984284 L 114.37649056498951,30.455844026643405 L 114.37649056432828,30.45584402737097 L 114.3764905637417,30.455844028159948 L 114.37649056323542,30.455844029002712 L 114.37649056281435,30.455844029891114 L 114.37649056248256,30.455844030816575 L 114.37649056224323,30.45584403177014 L 114.37649056209871,30.455844032742597 L 114.37649056205038,30.45584403372455 L 114.37649056032993,30.456003315441485 L 114.37649056037787,30.456003316419782 L 114.37649056052132,30.456003317388692 L 114.37649056075885,30.456003318338926 L 114.3764905610882,30.45600331926136 L 114.37649056150622,30.45600332014715 L 114.37649056200888,30.456003320987797 L 114.37649056259139,30.456003321775235 L 114.37649056324813,30.45600332250191 L 114.3764905639728,30.456003323160854 L 114.37649056475847,30.45600332374574 L 114.37649056559758,30.45600332425096 L 114.3764905664821,30.456003324671666 L 114.37649056740352,30.45600332500382 L 114.37649056835303,30.45600332524424 L 114.3764905693215,30.45600332539062 L 114.37649057029965,30.456003325441547 L 114.37707103623845,30.45600508257334 z\" /><path fill-rule=\"evenodd\" fill=\"#66cc99\" stroke=\"#555555\" stroke-width=\"6.614655770057709e-05\" opacity=\"0.6\" d=\"M 114.37614526548428,30.45472914811697 L 114.37614526544968,30.454729147134014 L 114.37614526531868,30.454729146159206 L 114.37614526509256,30.454729145201988 L 114.37614526477348,30.45472914427161 L 114.37614526436457,30.45472914337708 L 114.37614526386974,30.454729142527047 L 114.37614526329381,30.454729141729736 L 114.37614526264232,30.45472914099286 L 114.37614526192161,30.454729140323547 L 114.37614526113863,30.454729139728276 L 114.37614526030096,30.454729139212798 L 114.3761452594167,30.454729138782106 L 114.37614525849442,30.454729138440367 L 114.37614525754302,30.454729138190885 L 114.3761452565717,30.45472913803607 L 114.37614525558989,30.454729137977424 L 114.37605189704936,30.454728161185106 L 114.37590848760553,30.454726627921602 L 114.37590982032687,30.454630338107155 L 114.37590982029212,30.454630337124478 L 114.37590982016103,30.454630336149965 L 114.37590981993488,30.454630335193038 L 114.37590981961583,30.454630334262944 L 114.37590981920698,30.454630333368684 L 114.37590981871227,30.4546303325189 L 114.3759098181365,30.45463033172181 L 114.37590981748525,30.454630330985115 L 114.37590981676477,30.454630330315947 L 114.37590981598208,30.454630329720768 L 114.37590981514471,30.454630329205337 L 114.37590981426077,30.454630328774634 L 114.3759098133388,30.454630328432827 L 114.37590981238772,30.454630328183217 L 114.37590981141672,30.454630328028223 L 114.37590981043519,30.454630327969337 L 114.37558321445309,30.45462682132986 L 114.37558321347454,30.454626821367306 L 114.37558321250435,30.45462682150028 L 114.37558321155183,30.45462682172751 L 114.37558321062609,30.454626822046812 L 114.37558320973602,30.454626822455133 L 114.37558320889015,30.454626822948548 L 114.3755832080966,30.454626823522332 L 114.37558320736298,30.454626824170983 L 114.37558320669632,30.454626824888276 L 114.37558320610302,30.454626825667333 L 114.37558320558875,30.45462682650069 L 114.37558320515846,30.454626827380345 L 114.37558320481627,30.454626828297872 L 114.37558320456546,30.454626829244468 L 114.37558320440844,30.454626830211055 L 114.37558320434671,30.454626831188367 L 114.37557916840946,30.454913204503033 L 114.37557916844399,30.454913205485973 L 114.3755791685749,30.454913206460766 L 114.37557916880094,30.454913207417988 L 114.37557916911992,30.45491320834837 L 114.37557916952875,30.45491320924292 L 114.37557917002349,30.45491321009298 L 114.37557917059932,30.45491321089033 L 114.37557917125072,30.454913211627254 L 114.37557917197134,30.45491321229662 L 114.37557917275424,30.454913212891963 L 114.37557917359185,30.454913213407515 L 114.37557917447603,30.454913213838292 L 114.37557917539826,30.454913214180127 L 114.37557917634962,30.454913214429713 L 114.37557917732089,30.454913214584632 L 114.37557917830267,30.45491321464339 L 114.37693074204337,30.454927514029478 L 114.37693074302165,30.454927513991905 L 114.37693074399157,30.454927513858852 L 114.37693074494383,30.454927513631596 L 114.3769307458693,30.45492751331231 L 114.37693074675913,30.454927512904064 L 114.37693074760476,30.454927512410762 L 114.37693074839811,30.454927511837134 L 114.37693074913156,30.454927511188682 L 114.37693074979809,30.454927510471617 L 114.37693075039131,30.454927509692816 L 114.37693075090554,30.454927508859736 L 114.37693075133583,30.45492750798037 L 114.37693075167809,30.454927507063136 L 114.37693075192901,30.454927506116835 L 114.3769307520862,30.454927505150536 L 114.37693075214814,30.454927504173494 L 114.37693231098636,30.454818852312417 L 114.37693231095209,30.45481885132934 L 114.37693231082137,30.454818850354382 L 114.37693231059552,30.454818849396982 L 114.37693231027669,30.45481884846641 L 114.37693230986798,30.454818847571662 L 114.37693230937333,30.4548188467214 L 114.37693230879755,30.454818845923846 L 114.37693230814618,30.454818845186722 L 114.37693230742555,30.45481884451716 L 114.37693230664263,30.45481884392164 L 114.37693230580497,30.45481884340592 L 114.37693230492071,30.454818842974998 L 114.37693230399839,30.454818842633035 L 114.37693230304693,30.454818842383343 L 114.37693230207553,30.45481884222834 L 114.37693230109362,30.454818842169527 L 114.37614412609145,30.454810469705652 L 114.37614526548428,30.45472914811697 z\" /><path fill-rule=\"evenodd\" fill=\"#66cc99\" stroke=\"#555555\" stroke-width=\"6.614655770057709e-05\" opacity=\"0.6\" d=\"M 114.37683518546817,30.45546296472552 L 114.3768351864505,30.45546296465623 L 114.37683518742128,30.455462964490657 L 114.37683518837105,30.455462964230403 L 114.37683518929062,30.45546296387799 L 114.37683519017106,30.45546296343684 L 114.37683519100385,30.455462962911227 L 114.3768351917809,30.455462962306253 L 114.37683519249468,30.455462961627784 L 114.37683519313826,30.455462960882397 L 114.3768351937054,30.45546296007732 L 114.37683519419062,30.455462959220366 L 114.37683519458919,30.45546295831984 L 114.37683519489724,30.45546295738448 L 114.37683519511181,30.455462956423354 L 114.3768351952308,30.455462955445782 L 114.37683519525305,30.45546295446125 L 114.37683285915311,30.45537532954022 L 114.37683285907818,30.45537532855628 L 114.37683285890664,30.455375327584512 L 114.37683285864014,30.455375326634385 L 114.3768328582813,30.45537532571515 L 114.37683285783362,30.455375324835757 L 114.37683285730144,30.455375324004766 L 114.37683285668994,30.455375323230275 L 114.37683285600511,30.455375322519824 L 114.37683285525357,30.45537532188033 L 114.37683285444267,30.455375321318016 L 114.3768328535803,30.455375320838364 L 114.37683285267484,30.45537532044604 L 114.37683285173513,30.455375320144867 L 114.37683285077031,30.45537531993778 L 114.37683284978978,30.45537531982679 L 114.37683284880309,30.45537531981298 L 114.37676460280325,30.455377734377215 L 114.37676364728175,30.455359064974907 L 114.3768139790976,30.455356921445397 L 114.37681398007277,30.455356921355875 L 114.3768139810345,30.4553569211714 L 114.37681398197358,30.455356920893745 L 114.376813982881,30.455356920525574 L 114.37681398374806,30.45535692007041 L 114.37681398456645,30.455356919532623 L 114.37681398532831,30.45535691891737 L 114.37681398602633,30.45535691823055 L 114.37681398665384,30.45535691747875 L 114.3768139872048,30.455356916669178 L 114.37681398767394,30.4553569158096 L 114.37681398805674,30.455356914908254 L 114.37681398834957,30.45535691397379 L 114.37681398854957,30.455356913015166 L 114.37681398865487,30.455356912041577 L 114.37681398866442,30.455356911062356 L 114.3768114526205,30.455292281469646 L 114.37681145253454,30.455292280496355 L 114.376811452354,30.455292279536096 L 114.37681145208062,30.455292278598044 L 114.37681145171699,30.455292277691147 L 114.37681145126659,30.455292276824068 L 114.37681145073373,30.455292276005082 L 114.37681145012347,30.45529227524201 L 114.37681144944166,30.45529227454213 L 114.37681144869481,30.455292273912136 L 114.37681144789003,30.455292273358033 L 114.37681144703502,30.455292272885114 L 114.37681144613795,30.455292272497896 L 114.37681144520737,30.455292272200072 L 114.37681144425216,30.455292271994484 L 114.37681144328145,30.4552922718831 L 114.3768114423045,30.45529227186698 L 114.37663452240213,30.455298001792965 L 114.37663406995217,30.455287720493736 L 114.37663406986297,30.455287719530638 L 114.37663406968115,30.455287718580667 L 114.37663406940838,30.455287717652702 L 114.37663406904726,30.45528771675543 L 114.37663406860113,30.455287715897242 L 114.37663406807418,30.45528771508617 L 114.37663406747134,30.455287714329796 L 114.37663406679826,30.4552877136352 L 114.37663406606121,30.455287713008882 L 114.37663406526711,30.455287712456695 L 114.37663406442337,30.45528771198381 L 114.37663406353789,30.45528771159465 L 114.37663406261896,30.455287711292858 L 114.37663406167518,30.45528771108125 L 114.37663406071536,30.455287710961812 L 114.3766340597485,30.455287710935657 L 114.37654051684305,30.455289707150488 L 114.37654051584859,30.455289707221418 L 114.37654051486614,30.45528970739102 L 114.37654051390545,30.455289707657606 L 114.37654051297609,30.45528970801853 L 114.37654051208729,30.455289708470197 L 114.37654051124787,30.455289709008124 L 114.3765405104662,30.45528970962696 L 114.37654050975003,30.455289710320557 L 114.37654050910648,30.455289711082017 L 114.37654050854195,30.455289711903777 L 114.37654050806205,30.455289712777663 L 114.37654050767155,30.45528971369499 L 114.37654050737434,30.455289714646646 L 114.37654050717337,30.455289715623167 L 114.37654050707063,30.455289716614843 L 114.37654050706715,30.455289717611823 L 114.3765410345235,30.455301082459442 L 114.37646477687836,30.45530333570971 L 114.37646477588866,30.455303335788262 L 114.37646477491162,30.455303335964558 L 114.3764647739569,30.45530333623687 L 114.37646477303386,30.455303336602512 L 114.37646477215164,30.455303337057877 L 114.37646477131891,30.45530333759848 L 114.3764647705439,30.45530333821899 L 114.37646476983423,30.45530333891329 L 114.37646476919691,30.455303339674536 L 114.37646476863821,30.45530334049523 L 114.37646476816366,30.455303341367276 L 114.3764647677779,30.455303342282086 L 114.37646476748476,30.455303343230636 L 114.37646476728712,30.45530334420358 L 114.37646476718693,30.45530334519132 L 114.37646476718518,30.455303346184134 L 114.37647037558544,30.455420349837212 L 114.3764703756781,30.455420350797738 L 114.3764703758629,30.45542035174486 L 114.37647037613813,30.455420352669762 L 114.37647037650123,30.455420353563827 L 114.37647037694882,30.45542035441873 L 114.3764703774767,30.455420355226515 L 114.37647037808001,30.455420355979655 L 114.3764703787531,30.45542035667114 L 114.3764703794897,30.45542035729453 L 114.37647038028295,30.455420357844016 L 114.37647038112549,30.455420358314488 L 114.37647038200943,30.45542035870156 L 114.37647038292658,30.45542035900163 L 114.37647038386838,30.4554203592119 L 114.37647038482605,30.455420359330418 L 114.3764703857907,30.45542035935608 L 114.37648548055333,30.4554200321333 L 114.37648777586658,30.45547030636527 L 114.3764877759572,30.45547030732709 L 114.37648777614022,30.455470308275675 L 114.37648777641391,30.455470309202177 L 114.37648777677573,30.455470310097944 L 114.37648777722231,30.455470310954613 L 114.37648777774945,30.455470311764195 L 114.37648777835226,30.455470312519132 L 114.37648777902511,30.455470313212377 L 114.3764877797617,30.455470313837463 L 114.3764877805552,30.455470314388553 L 114.37648778139814,30.455470314860502 L 114.37648778228271,30.455470315248906 L 114.37648778320062,30.455470315550144 L 114.37648778414332,30.455470315761403 L 114.376487785102,30.45547031588071 L 114.37648778606773,30.45547031590695 L 114.37683518546817,30.45546296472552 z\" /><path fill-rule=\"evenodd\" fill=\"#66cc99\" stroke=\"#555555\" stroke-width=\"6.614655770057709e-05\" opacity=\"0.6\" d=\"M 114.37670893292851,30.45513166924739 L 114.37670893390795,30.45513166920709 L 114.37670893487874,30.455131669071093 L 114.37670893583154,30.4551316688407 L 114.37670893675721,30.455131668518124 L 114.37670893764685,30.455131668106468 L 114.37670893849192,30.455131667609685 L 114.37670893928428,30.45513166703255 L 114.37670894001633,30.45513166638061 L 114.37670894068103,30.455131665660126 L 114.376708941272,30.455131664878024 L 114.37670894178355,30.45513166404182 L 114.37670894221077,30.45513166315955 L 114.37670894254956,30.455131662239683 L 114.37670894279665,30.45513166129107 L 114.37670894294969,30.455131660322824 L 114.37670894300719,30.455131659344243 L 114.37670988065561,30.45503453977267 L 114.3767098806168,30.455034538790763 L 114.37670988048181,30.455034537817404 L 114.37670988025194,30.455034536861994 L 114.37670987992941,30.45503453593376 L 114.37670987951732,30.455034535041662 L 114.37670987901967,30.45503453419432 L 114.37670987844126,30.45503453339991 L 114.37670987778766,30.455034532666108 L 114.37670987706521,30.455034531999996 L 114.37670987628086,30.45503453140801 L 114.3767098754422,30.455034530895865 L 114.37670987455732,30.455034530468506 L 114.37670987363477,30.45503453013006 L 114.37670987268345,30.455034529883797 L 114.37670987171255,30.455034529732092 L 114.37670987073146,30.45503452967641 L 114.3766525286997,30.455034097409868 L 114.37665262969358,30.455018686338992 L 114.37665262965042,30.45501868534304 L 114.37665262950831,30.455018684356336 L 114.37665262926866,30.45501868338868 L 114.37665262893387,30.455018682449698 L 114.37665262850724,30.45501868154871 L 114.37665262799302,30.45501868069468 L 114.37665262739634,30.45501867989609 L 114.37665262672311,30.455018679160876 L 114.37665262598001,30.455018678496348 L 114.37665262517446,30.455018677909106 L 114.37665262431443,30.455018677404986 L 114.37665262340848,30.455018676989003 L 114.37665262246561,30.455018676665283 L 114.37665262149521,30.45501867643705 L 114.3766526205069,30.45501867630657 L 114.37665261951051,30.455018676275138 L 114.37646732001639,30.455022073271856 L 114.37646731905394,30.45502207333603 L 114.37646731810216,30.455022073492632 L 114.37646731716988,30.455022073740206 L 114.3764673162658,30.45502207407645 L 114.37646731539832,30.455022074498235 L 114.3764673145755,30.455022075001636 L 114.37646731380504,30.45502207558197 L 114.37646731309405,30.455022076233835 L 114.37646731244918,30.45502207695117 L 114.37646731187643,30.4550220777273 L 114.37646731138112,30.455022078554997 L 114.37646731096785,30.45502207942657 L 114.37646731064048,30.4550220803339 L 114.37646731040205,30.455022081268556 L 114.37646731025478,30.45502208222183 L 114.37646731020004,30.45502208318486 L 114.37646701869231,30.455056250662604 L 114.37641957647078,30.455055836997815 L 114.37641993577253,30.455023023808508 L 114.37641993573351,30.455023022809677 L 114.37641993559497,30.455023021819734 L 114.37641993535827,30.455023020848568 L 114.37641993502582,30.45502301990588 L 114.3764199346009,30.455023019001096 L 114.37641993408779,30.45502301814325 L 114.37641993349159,30.45502301734092 L 114.37641993281828,30.455023016602116 L 114.37641993207457,30.455023015934227 L 114.37641993126789,30.45502301534392 L 114.37641993040631,30.455023014837096 L 114.37641992949844,30.455023014418817 L 114.37641992855335,30.455023014093268 L 114.37641992758047,30.4550230138637 L 114.37641992658955,30.455023013732397 L 114.37641992559045,30.455023013700686 L 114.3762460839126,30.455026189961224 L 114.37624608295175,30.455026190025155 L 114.3762460820015,30.455026190181208 L 114.37624608107066,30.45502619042794 L 114.37624608016789,30.45502619076306 L 114.37624607930152,30.455026191183464 L 114.37624607847961,30.45502619168525 L 114.37624607770977,30.455026192263762 L 114.37624607699915,30.455026192913646 L 114.37624607635433,30.455026193628864 L 114.3762460757813,30.45502619440279 L 114.37624607528537,30.455026195228243 L 114.37624607487113,30.455026196097574 L 114.37624607454242,30.455026197002717 L 114.37624607430232,30.45502619793528 L 114.37624607415302,30.455026198886614 L 114.3762460740959,30.455026199847897 L 114.37624570265318,30.455059463804503 L 114.37619826043961,30.455059050059095 L 114.3761987020868,30.45502705030079 L 114.37619870205047,30.455027049300114 L 114.37619870191425,30.455027048308086 L 114.3761987016795,30.455027047334653 L 114.37619870134859,30.45502704638958 L 114.3761987009248,30.45502704548234 L 114.37619870041242,30.455027044622028 L 114.37619869981656,30.455027043817275 L 114.37619869914322,30.455027043076143 L 114.37619869839912,30.45502704240607 L 114.37619869759175,30.45502704181377 L 114.37619869672918,30.455027041305183 L 114.37619869582008,30.45502704088541 L 114.37619869487357,30.455027040558658 L 114.3761986938991,30.455027040328204 L 114.37619869290648,30.45502704019636 L 114.37619869190566,30.455027040164445 L 114.37601047655681,30.455030468026482 L 114.37601047559801,30.45503046809012 L 114.37601047464973,30.455030468245493 L 114.37601047372075,30.45503046849116 L 114.37601047281964,30.45503046882486 L 114.37601047195473,30.455030469243507 L 114.37601047113398,30.45503046974324 L 114.37601047036497,30.45503047031944 L 114.37601046965484,30.455030470966786 L 114.37601046901011,30.455030471679304 L 114.37601046843675,30.455030472450414 L 114.37601046794003,30.455030473273 L 114.37601046752458,30.455030474139456 L 114.3760104671942,30.45503047504179 L 114.37601046695195,30.455030475971668 L 114.37601046680008,30.455030476920506 L 114.37601046673997,30.45503047787954 L 114.37601034373306,30.455038943650315 L 114.37596299550485,30.45503853182566 L 114.37596299452622,30.455038531865114 L 114.37596299355614,30.455038532000113 L 114.37596299260393,30.45503853222936 L 114.37596299167872,30.45503853255066 L 114.37596299078936,30.455038532960927 L 114.37596298994441,30.455038533456225 L 114.37596298915196,30.455038534031807 L 114.37596298841962,30.45503853468215 L 114.3759629877544,30.455038535401012 L 114.37596298716271,30.455038536181505 L 114.37596298665021,30.455038537016133 L 114.37596298622181,30.455038537896893 L 114.37596298588161,30.455038538815337 L 114.37596298563291,30.455038539762658 L 114.37596298547807,30.45503854072976 L 114.37596298541857,30.455038541707374 L 114.37596184134122,30.455135566897265 L 114.37596184137797,30.455135567879637 L 114.37596184151099,30.455135568853652 L 114.375961841739,30.4551355698099 L 114.3759618420598,30.45513557073914 L 114.37596184247029,30.455135571632393 L 114.3759618429665,30.455135572481023 L 114.37596184354364,30.455135573276834 L 114.37596184419613,30.45513557401213 L 114.37596184491765,30.455135574679808 L 114.37596184570126,30.455135575273413 L 114.37596184653935,30.455135575787214 L 114.37596184742385,30.45513557621624 L 114.37596184834621,30.455135576556348 L 114.3759618492975,30.455135576804246 L 114.37596185026852,30.455135576957545 L 114.37596185124991,30.45513557701476 L 114.37601076022348,30.455136020248325 L 114.3760102848863,30.45517703870188 L 114.3760102849232,30.455177039683754 L 114.37601028505628,30.45517704065727 L 114.37601028528425,30.455177041613023 L 114.37601028560492,30.45517704254179 L 114.37601028601519,30.455177043434606 L 114.3760102865111,30.45517704428285 L 114.37601028708787,30.45517704507833 L 114.3760102877399,30.455177045813368 L 114.37601028846093,30.455177046480866 L 114.376010289244,30.455177047074383 L 114.37601029008151,30.455177047588187 L 114.37601029096543,30.455177048017315 L 114.37601029188717,30.45517704835763 L 114.37601029283788,30.455177048605844 L 114.37601029380833,30.45517704875956 L 114.37601029478921,30.45517704881729 L 114.376036096992,30.455177297598933 L 114.37603581991065,30.45521091421045 L 114.37599700635661,30.455210583954308 L 114.37599700537692,30.455210583994045 L 114.37599700440583,30.45521058412953 L 114.37599700345267,30.45521058435947 L 114.37599700252662,30.455210584681645 L 114.37599700163656,30.455210585092964 L 114.37599700079106,30.45521058558947 L 114.37599699999826,30.45521058616639 L 114.37599699926577,30.45521058681818 L 114.37599699860061,30.45521058753857 L 114.37599699800921,30.455210588320636 L 114.37599699749725,30.45521058915686 L 114.37599699706965,30.4552105900392 L 114.37599699673049,30.45521059095918 L 114.37599699648308,30.45521059190795 L 114.37599699632976,30.455210592876387 L 114.37599699627202,30.455210593855185 L 114.37599663199626,30.455247475668784 L 114.3759966320363,30.455247476666965 L 114.37599663217573,30.455247477656172 L 114.37599663241316,30.45524747862653 L 114.37599663274624,30.455247479568353 L 114.37599663317161,30.45524748047225 L 114.37599663368505,30.45524748132919 L 114.37599663428142,30.45524748213063 L 114.37599663495479,30.455247482868568 L 114.37599663569841,30.455247483535643 L 114.3759966365049,30.45524748412519 L 114.37599663736616,30.455247484631332 L 114.37599663827363,30.455247485049018 L 114.37599663921826,30.455247485374077 L 114.37599664019059,30.455247485603262 L 114.37599664118095,30.455247485734294 L 114.37599664217943,30.45524748576586 L 114.37667617999033,30.45523500341416 L 114.37667618095135,30.455235003350115 L 114.37667618190174,30.455235003193916 L 114.37667618283271,30.45523500294701 L 114.3766761837356,30.455235002611687 L 114.37667618460205,30.455235002191056 L 114.376676185424,30.455235001689022 L 114.37667618619386,30.455235001110243 L 114.37667618690446,30.455235000460085 L 114.37667618754922,30.45523499974458 L 114.37667618812215,30.45523499897037 L 114.37667618861795,30.45523499814463 L 114.376676189032,30.45523499727502 L 114.37667618936048,30.455234996369615 L 114.37667618960032,30.455234995436804 L 114.37667618974932,30.45523499448525 L 114.37667618980608,30.455234993523774 L 114.37667689155123,30.455169978106166 L 114.37667689151344,30.455169977122953 L 114.37667689137919,30.455169976148213 L 114.37667689114981,30.455169975191385 L 114.37667689082751,30.455169974261732 L 114.37667689041541,30.455169973368253 L 114.37667688991749,30.4551699725196 L 114.37667688933858,30.455169971723983 L 114.37667688868429,30.45516997098911 L 114.37667688796094,30.4551699703221 L 114.37667688717555,30.4551699697294 L 114.3766768863357,30.455169969216758 L 114.37667688544956,30.45516996878913 L 114.37667688452566,30.455169968450658 L 114.37667688357298,30.455169968204622 L 114.37667688260073,30.4551699680534 L 114.37667688161832,30.455169967998458 L 114.37665680233158,30.455169834456722 L 114.37665721205629,30.455131259884624 L 114.37670893292851,30.45513166924739 z\" /><path fill-rule=\"evenodd\" fill=\"#66cc99\" stroke=\"#555555\" stroke-width=\"6.614655770057709e-05\" opacity=\"0.6\" d=\"M 114.37646392937731,30.456752387660252 L 114.37646393035725,30.456752387604073 L 114.37646393132694,30.4567523874521 L 114.37646393227708,30.45675238720579 L 114.37646393319848,30.45675238686752 L 114.3764639340823,30.456752386440552 L 114.37646393491998,30.456752385928993 L 114.3764639357035,30.456752385337772 L 114.37646393642527,30.45675238467259 L 114.37646393707834,30.456752383939854 L 114.37646393765645,30.456752383146622 L 114.376463938154,30.456752382300536 L 114.37646393856622,30.456752381409746 L 114.3764639388891,30.456752380482836 L 114.37646393911957,30.456752379528737 L 114.3764639392554,30.45675237855664 L 114.37646393929526,30.45675237757591 L 114.37646323957804,30.45666974624327 L 114.37646323952173,30.456669745264747 L 114.37646323936988,30.456669744296438 L 114.37646323912396,30.456669743347646 L 114.37646323878636,30.456669742427483 L 114.37646323836029,30.456669741544793 L 114.37646323784985,30.45666974070805 L 114.37646323725996,30.4566697399253 L 114.37646323659625,30.45666973920406 L 114.37646323586515,30.456669738551255 L 114.37646323507363,30.456669737973158 L 114.37646323422933,30.456669737475327 L 114.37646323334035,30.45666973706254 L 114.37646323241523,30.456669736738764 L 114.37646323146285,30.45666973650711 L 114.37646323049238,30.4566697363698 L 114.37646322951312,30.45666973632816 L 114.3761586546909,30.456671724811137 L 114.37597278336597,30.456673035024487 L 114.37597278238455,30.456673035079717 L 114.3759727814133,30.456673035231038 L 114.37597278046158,30.456673035476978 L 114.37597277953861,30.45667303581517 L 114.37597277865332,30.456673036242346 L 114.37597277781424,30.456673036754374 L 114.37597277702947,30.456673037346306 L 114.37597277630663,30.45667303801243 L 114.37597277565266,30.4566730387463 L 114.3759727750739,30.45667303954083 L 114.37597277457596,30.456673040388342 L 114.37597277416361,30.45667304128065 L 114.37597277384087,30.45667304220913 L 114.37597277361084,30.45667304316481 L 114.37597277347577,30.456673044138455 L 114.37597277343691,30.45667304512066 L 114.37597357195854,30.456755858815505 L 114.375973572016,30.456755859793777 L 114.37597357216892,30.456755860761728 L 114.37597357241586,30.456755861710064 L 114.37597357275442,30.456755862629677 L 114.37597357318137,30.456755863511734 L 114.37597357369262,30.45675586434777 L 114.37597357428322,30.45675586512975 L 114.37597357494754,30.456755865850166 L 114.37597357567918,30.456755866502103 L 114.37597357647111,30.4567558670793 L 114.37597357731573,30.45675586757621 L 114.37597357820495,30.456755867988065 L 114.3759735791302,30.45675586831091 L 114.3759735800826,30.45675586854164 L 114.37597358105302,30.456755868678044 L 114.37597358203213,30.456755868718812 L 114.37601616140628,30.456755553406452 L 114.37601617473369,30.456797744227856 L 114.37599650397516,30.45679788923584 L 114.37599650299904,30.456797889290826 L 114.37599650203298,30.456797889440868 L 114.37599650108616,30.456797889684527 L 114.37599650016767,30.45679789001948 L 114.37599649928627,30.45679789044252 L 114.3759964984504,30.456797890949602 L 114.37599649766804,30.45679789153589 L 114.37599649694667,30.456797892195766 L 114.37599649629318,30.456797892922932 L 114.37599649571384,30.456797893710437 L 114.37599649521414,30.45679789455075 L 114.3759964947989,30.45679789543584 L 114.37599649447206,30.45679789635725 L 114.37599649423676,30.456797897306174 L 114.37599649409525,30.456797898273535 L 114.37599649404888,30.456797899250095 L 114.37599655824728,30.456842095352258 L 114.375996558297,30.45684209633382 L 114.37599655844285,30.45684209730576 L 114.37599655868338,30.45684209825869 L 114.3759965590163,30.456842099183405 L 114.37599655943839,30.456842100070975 L 114.37599655994556,30.456842100912823 L 114.37599656053293,30.456842101700822 L 114.37599656119481,30.456842102427355 L 114.37599656192481,30.456842103085407 L 114.37599656271588,30.456842103668624 L 114.37599656356039,30.456842104171365 L 114.37599656445016,30.456842104588784 L 114.37599656537662,30.45684210491684 L 114.3759965663308,30.45684210515237 L 114.37599656730349,30.456842105293095 L 114.3759965682853,30.456842105337657 L 114.37625666181694,30.45684111621122 L 114.37625666184942,30.456841116211045 L 114.37644253351652,30.456839805611164 L 114.37644253449285,30.456839805556466 L 114.37644253545918,30.456839805406673 L 114.37644253640624,30.45683980516322 L 114.376442537325,30.456839804828427 L 114.37644253820667,30.4568398044055 L 114.37644253904283,30.456839803898486 L 114.37644253982546,30.456839803312228 L 114.37644254054709,30.456839802652333 L 114.37644254120083,30.456839801925113 L 114.3764425417804,30.45683980113752 L 114.37644254228029,30.456839800297086 L 114.3764425426957,30.45683979941185 L 114.37644254302266,30.456839798490268 L 114.37644254325805,30.45683979754116 L 114.3764425433996,30.456839796573604 L 114.376442543446,30.456839795596842 L 114.37644247904592,30.45679559948312 L 114.37644247899597,30.45679559849943 L 114.37644247884951,30.45679559752542 L 114.37644247860793,30.45679559657055 L 114.37644247827359,30.456795595644074 L 114.37644247784972,30.456795594754986 L 114.37644247734045,30.456795593911906 L 114.3764424767507,30.45679559312302 L 114.37644247608621,30.456795592395974 L 114.37644247535343,30.456795591737823 L 114.37644247455944,30.456795591154957 L 114.37644247371198,30.456795590653027 L 114.37644247281924,30.4567955902369 L 114.37644247188989,30.45679558991062 L 114.37644247093296,30.456795589677345 L 114.37644246995771,30.456795589539343 L 114.37644246897362,30.45679558949795 L 114.37642269425343,30.456795732477325 L 114.37642249448082,30.45675272614393 L 114.37646392937731,30.456752387660252 z\" /><path fill-rule=\"evenodd\" fill=\"#66cc99\" stroke=\"#555555\" stroke-width=\"6.614655770057709e-05\" opacity=\"0.6\" d=\"M 114.37646145606746,30.457108692434783 L 114.3764614570474,30.457108692390136 L 114.37646145801824,30.45710869224969 L 114.37646145897067,30.457108692014796 L 114.37646145989548,30.457108691687722 L 114.3764614607838,30.457108691271607 L 114.37646146162709,30.457108690770458 L 114.37646146241721,30.4571086901891 L 114.37646146314657,30.457108689533122 L 114.37646146380816,30.45710868880884 L 114.37646146439559,30.457108688023226 L 114.37646146490322,30.457108687183837 L 114.37646146532617,30.457108686298746 L 114.37646146566037,30.457108685376475 L 114.3764614659026,30.457108684425897 L 114.37646146605053,30.457108683456163 L 114.37646146610273,30.457108682476598 L 114.37646181178381,30.45702589179589 L 114.37646181173967,30.457025890814585 L 114.37646181159946,30.457025889842345 L 114.37646181136454,30.457025888888555 L 114.37646181103716,30.457025887962413 L 114.37646181062051,30.45702588707286 L 114.3764618101186,30.45702588622847 L 114.37646180953625,30.457025885437407 L 114.37646180887911,30.45702588470729 L 114.37646180815351,30.45702588404517 L 114.37646180736644,30.457025883457433 L 114.3764618065255,30.45702588294975 L 114.37646180563881,30.457025882527024 L 114.37646180471494,30.45702588219333 L 114.37646180376277,30.45702588195189 L 114.37646180279151,30.45702588180503 L 114.37646180181054,30.457025881754173 L 114.37642048289928,30.457025771707702 L 114.37642028313483,30.456982765333095 L 114.37644015953488,30.456982714548055 L 114.37644016051574,30.456982714497315 L 114.3764401614869,30.456982714350595 L 114.37644016243898,30.456982714109316 L 114.3764401633628,30.4569827137758 L 114.37644016424944,30.456982713353273 L 114.37644016509036,30.4569827128458 L 114.37644016587744,30.456982712258284 L 114.37644016660309,30.456982711596385 L 114.37644016726031,30.456982710866498 L 114.37644016784276,30.456982710075657 L 114.37644016834481,30.456982709231493 L 114.37644016876163,30.456982708342153 L 114.3764401690892,30.45698270741621 L 114.37644016932435,30.456982706462597 L 114.37644016946481,30.456982705490518 L 114.37644016950925,30.456982704509347 L 114.37643999864426,30.456938596447657 L 114.37643999859279,30.456938595472344 L 114.37643999844641,30.456938594506706 L 114.37643999820655,30.45693859355995 L 114.37643999787547,30.45693859264111 L 114.37643999745633,30.45693859175895 L 114.37643999695314,30.456938590921883 L 114.37643999637069,30.456938590137895 L 114.37643999571453,30.456938589414463 L 114.37643999499095,30.45693858875849 L 114.37643999420682,30.456938588176232 L 114.37643999336963,30.456938587673246 L 114.37643999248736,30.456938587254324 L 114.37643999156845,30.456938586923467 L 114.37643999062163,30.45693858668383 L 114.37643998965595,30.456938586537696 L 114.37643998868063,30.456938586486462 L 114.37625406594613,30.456937911790927 L 114.37625406590985,30.45693791179086 L 114.3759941027648,30.45693791139794 L 114.37599410178373,30.456937911446182 L 114.37599410081212,30.45693791159044 L 114.37599409985935,30.456937911829325 L 114.37599409893461,30.45693791216053 L 114.37599409804683,30.456937912580862 L 114.37599409720457,30.456937913086268 L 114.37599409641595,30.456937913671865 L 114.3759940956886,30.456937914332006 L 114.37599409502951,30.45693791506032 L 114.37599409444506,30.456937915849785 L 114.37599409394088,30.456937916692777 L 114.37599409352184,30.45693791758117 L 114.37599409319198,30.456937918506387 L 114.37599409295447,30.456937919459502 L 114.37599409281162,30.45693792043132 L 114.3759940927648,30.456937921412464 L 114.37599415695726,30.456982117513704 L 114.37599415700663,30.456982118491727 L 114.37599415715142,30.456982119460235 L 114.37599415739025,30.456982120409936 L 114.37599415772083,30.456982121331723 L 114.37599415813997,30.456982122216754 L 114.37599415864368,30.45698212305655 L 114.3759941592271,30.45698212384305 L 114.37599415988466,30.456982124568714 L 114.37599416061003,30.456982125226585 L 114.37599416139628,30.456982125810352 L 114.37599416223586,30.45698212631442 L 114.37599416312071,30.456982126733948 L 114.37599416404235,30.45698212706492 L 114.37599416499195,30.45698212730416 L 114.37599416596039,30.45698212744937 L 114.3759941669384,30.456982127499163 L 114.37601393690505,30.45698216478548 L 114.37601395022392,30.457024355593358 L 114.37597138278316,30.45702422028044 L 114.37597138180269,30.457024220325494 L 114.37597138083134,30.457024220466447 L 114.37597137987851,30.457024220701946 L 114.37597137895334,30.45702422102972 L 114.37597137806476,30.457024221446613 L 114.37597137722133,30.457024221948608 L 114.37597137643118,30.457024222530865 L 114.37597137570191,30.457024223187783 L 114.37597137504056,30.457024223913027 L 114.37597137445348,30.457024224699612 L 114.37597137394636,30.45702422553996 L 114.37597137352405,30.457024226425975 L 114.37597137319064,30.457024227349123 L 114.37597137294932,30.45702422830051 L 114.37597137280245,30.45702422927097 L 114.37597137275142,30.457024230251157 L 114.37597113070949,30.4571070230005 L 114.37597113075475,30.457107023980676 L 114.37597113089588,30.457107024951696 L 114.37597113113148,30.45710702590421 L 114.3759711314593,30.45710702682905 L 114.37597113187617,30.457107027717313 L 114.3759711323781,30.45710702856044 L 114.37597113296023,30.457107029350322 L 114.37597113361697,30.457107030079346 L 114.37597113434201,30.4571070307405 L 114.37597113512835,30.45710703132741 L 114.37597113596841,30.457107031834436 L 114.37597113685413,30.457107032256687 L 114.37597113777697,30.457107032590105 L 114.37597113872805,30.457107032831473 L 114.3759711396982,30.457107032978474 L 114.37597114067808,30.457107033029686 L 114.37615696206358,30.45710761590879 L 114.37646145606746,30.457108692434783 z\" /><path fill-rule=\"evenodd\" fill=\"#66cc99\" stroke=\"#555555\" stroke-width=\"6.614655770057709e-05\" opacity=\"0.6\" d=\"M 114.37644950561102,30.456210846175708 L 114.37644950659087,30.45621084611947 L 114.37644950756051,30.456210845967444 L 114.37644950851056,30.4562108457211 L 114.3764495094319,30.45621084538281 L 114.37644951031561,30.45621084495583 L 114.37644951115323,30.45621084444428 L 114.37644951193667,30.456210843853082 L 114.37644951265837,30.456210843187932 L 114.3764495133114,30.456210842455235 L 114.37644951388945,30.456210841662056 L 114.37644951438698,30.456210840816027 L 114.37644951479916,30.456210839925305 L 114.37644951512205,30.456210838998466 L 114.37644951535252,30.456210838044438 L 114.37644951548836,30.456210837072412 L 114.37644951552825,30.456210836091753 L 114.37644881820829,30.45612811460897 L 114.37644881815197,30.45612811363005 L 114.37644881800004,30.456128112661357 L 114.37644881775398,30.456128111712196 L 114.37644881741613,30.4561281107917 L 114.37644881698976,30.456128109908715 L 114.37644881647898,30.456128109071727 L 114.37644881588866,30.45612810828879 L 114.37644881522452,30.45612810756743 L 114.37644881449292,30.45612810691458 L 114.3764488137009,30.45612810633652 L 114.37644881285607,30.456128105838804 L 114.37644881196657,30.456128105426224 L 114.37644881104093,30.45612810510274 L 114.37644881008805,30.45612810487146 L 114.37644880911711,30.456128104734614 L 114.37644880813744,30.45612810469352 L 114.37614423017611,30.45613027353108 L 114.37595836230595,30.456131493639116 L 114.37595836132421,30.456131493693903 L 114.37595836035258,30.45613149384484 L 114.37595835940049,30.45613149409047 L 114.3759583584771,30.45613149442842 L 114.37595835759139,30.456131494855413 L 114.37595835675188,30.456131495367334 L 114.3759583559667,30.456131495959223 L 114.37595835524345,30.45613149662536 L 114.37595835458913,30.456131497359312 L 114.37595835401004,30.456131498153972 L 114.37595835351179,30.456131499001664 L 114.37595835309921,30.456131499894187 L 114.37595835277627,30.45613150082292 L 114.37595835254609,30.456131501778874 L 114.37595835241092,30.456131502752815 L 114.37595835237205,30.45613150373532 L 114.3759591509127,30.456214317435442 L 114.37595915097016,30.456214318413714 L 114.37595915112308,30.456214319381665 L 114.37595915137003,30.45621432033 L 114.37595915170859,30.456214321249615 L 114.37595915213554,30.45621432213167 L 114.37595915264679,30.456214322967707 L 114.37595915323739,30.456214323749688 L 114.3759591539017,30.456214324470103 L 114.37595915463335,30.45621432512204 L 114.37595915542528,30.456214325699236 L 114.3759591562699,30.456214326196147 L 114.37595915715912,30.456214326608002 L 114.37595915808437,30.456214326930848 L 114.37595915903677,30.45621432716158 L 114.37595916000718,30.45621432729798 L 114.3759591609863,30.45621432733875 L 114.3760017401241,30.456214012017313 L 114.37600175346338,30.456256202797128 L 114.37598218932916,30.456256259802686 L 114.37598218835151,30.456256259853454 L 114.3759821873835,30.456256259999574 L 114.37598218643443,30.456256260239645 L 114.37598218551337,30.456256260571365 L 114.37598218462915,30.45625626099156 L 114.37598218379027,30.456256261496193 L 114.37598218300475,30.456256262080437 L 114.37598218228013,30.45625626273869 L 114.37598218162333,30.456256263464645 L 114.37598218104067,30.45625626425134 L 114.37598218053772,30.456256265091238 L 114.37598218011931,30.45625626597629 L 114.37598217978943,30.456256266898013 L 114.37598217955127,30.456256267847575 L 114.3759821794071,30.45625626881587 L 114.3759821793583,30.456256269793627 L 114.37598213951556,30.45630046380458 L 114.3759821395631,30.456300464787724 L 114.37598213970709,30.456300465761426 L 114.37598213994609,30.456300466716257 L 114.37598214027781,30.45630046764297 L 114.37598214069902,30.45630046853258 L 114.37598214120565,30.45630046937647 L 114.37598214179279,30.456300470166468 L 114.37598214245475,30.456300470894917 L 114.37598214318511,30.45630047155476 L 114.37598214397681,30.456300472139603 L 114.37598214482217,30.456300472643782 L 114.375982145713,30.456300473062413 L 114.37598214664067,30.45630047339144 L 114.37598214759619,30.45630047362767 L 114.3759821485703,30.456300473768824 L 114.37598214955358,30.456300473813524 L 114.37624224164183,30.45629948463172 L 114.37624224167432,30.456299484631547 L 114.37642811230977,30.45629817399204 L 114.3764281132861,30.45629817393734 L 114.37642811425242,30.456298173787548 L 114.37642811519949,30.456298173544095 L 114.37642811611825,30.4562981732093 L 114.37642811699993,30.456298172786376 L 114.37642811783607,30.45629817227936 L 114.3764281186187,30.456298171693103 L 114.37642811934035,30.456298171033207 L 114.37642811999407,30.45629817030599 L 114.37642812057365,30.456298169518394 L 114.37642812107353,30.45629816867796 L 114.37642812148894,30.45629816779272 L 114.3764281218159,30.456298166871143 L 114.3764281220513,30.456298165922036 L 114.37642812219285,30.456298164954475 L 114.37642812223925,30.456298163977714 L 114.376428057827,30.456253967861105 L 114.37642805777705,30.456253966877416 L 114.37642805763059,30.456253965903407 L 114.376428057389,30.456253964948537 L 114.37642805705467,30.45625396402206 L 114.3764280566308,30.456253963132973 L 114.37642805612153,30.456253962289896 L 114.37642805553178,30.456253961501005 L 114.37642805486729,30.45625396077396 L 114.3764280541345,30.456253960115813 L 114.37642805334052,30.456253959532948 L 114.37642805249304,30.456253959031017 L 114.37642805160031,30.45625395861489 L 114.37642805067097,30.45625395828861 L 114.37642804971404,30.456253958055335 L 114.37642804873879,30.456253957917333 L 114.3764280477547,30.45625395787594 L 114.376408273168,30.456254100859372 L 114.37640817497368,30.456211186761482 L 114.37644950561102,30.456210846175708 z\" /><path fill-rule=\"evenodd\" fill=\"#66cc99\" stroke=\"#555555\" stroke-width=\"6.614655770057709e-05\" opacity=\"0.6\" d=\"M 114.37597065644387,30.455847721736728 L 114.37597065546662,30.455847721789425 L 114.3759706544992,30.455847721937396 L 114.37597065355087,30.45584772217922 L 114.37597065263073,30.455847722512587 L 114.37597065174758,30.4558477229343 L 114.37597065090988,30.455847723440325 L 114.37597065012565,30.455847724025812 L 114.37597064940242,30.45584772468515 L 114.3759706487471,30.455847725412028 L 114.37597064816596,30.45584772619948 L 114.37597064766459,30.45584772703997 L 114.37597064724777,30.455847727925445 L 114.3759706469195,30.45584772884742 L 114.37597064668293,30.45584772979707 L 114.37597064654032,30.455847730765296 L 114.37597064649304,30.455847731742825 L 114.37597074556099,30.45600710564918 L 114.37597074561002,30.456007106631997 L 114.3759707457554,30.456007107605238 L 114.37597074599574,30.456007108559476 L 114.37597074632869,30.45600710948547 L 114.37597074675105,30.45600711037426 L 114.37597074725872,30.456007111217232 L 114.3759707478468,30.45600711200623 L 114.37597074850954,30.45600711273361 L 114.3759707492406,30.456007113392324 L 114.37597075003283,30.456007113976003 L 114.37597075087861,30.45600711447899 L 114.37597075176973,30.456007114896416 L 114.37597075269755,30.456007115224235 L 114.3759707536531,30.45600711545928 L 114.37597075462713,30.456007115599267 L 114.37597075561021,30.456007115642844 L 114.37643889238224,30.456004811022574 L 114.37643889335908,30.45600481096991 L 114.37643889432611,30.45600481082206 L 114.37643889527406,30.456004810580424 L 114.37643889619387,30.45600481024732 L 114.37643889707672,30.45600480982594 L 114.37643889791418,30.456004809320312 L 114.37643889869824,30.456004808735276 L 114.37643889942137,30.45600480807643 L 114.37643890007666,30.45600480735008 L 114.37643890065786,30.456004806563175 L 114.37643890115937,30.45600480572325 L 114.37643890157644,30.45600480483834 L 114.37643890190503,30.456004803916915 L 114.37643890214201,30.45600480296779 L 114.37643890228513,30.456004802000052 L 114.376438902333,30.45600480102296 L 114.37643890655458,30.455845429166068 L 114.37643890650615,30.45584542818282 L 114.37643890636129,30.4558454272091 L 114.37643890612138,30.455845426254342 L 114.37643890578875,30.455845425327798 L 114.37643890536664,30.45584542443845 L 114.37643890485911,30.455845423594916 L 114.37643890427113,30.45584542280537 L 114.37643890360835,30.455845422077466 L 114.37643890287721,30.455845421418253 L 114.3764389020848,30.455845420834127 L 114.37643890123879,30.455845420330743 L 114.3764389003474,30.455845419912983 L 114.37643889941923,30.455845419584893 L 114.3764388984633,30.455845419349654 L 114.3764388974889,30.455845419209542 L 114.37643889650542,30.45584541916592 L 114.37597065644387,30.455847721736728 z\" /><path fill-rule=\"evenodd\" fill=\"#66cc99\" stroke=\"#555555\" stroke-width=\"6.614655770057709e-05\" opacity=\"0.6\" d=\"M 114.37596385395778,30.455588909873164 L 114.3759638529757,30.45558890992115 L 114.37596385200308,30.45558891006535 L 114.37596385104932,30.45558891030437 L 114.37596385012364,30.455588910635903 L 114.37596384923499,30.45558891105674 L 114.37596384839198,30.455588911562813 L 114.37596384760273,30.45558891214923 L 114.3759638468749,30.455588912810324 L 114.3759638462155,30.4555889135397 L 114.3759638456309,30.455588914330306 L 114.3759638451268,30.4555889151745 L 114.37596384470802,30.45558891606412 L 114.37596384437866,30.455588916990564 L 114.37596384414185,30.45558891794488 L 114.37596384399991,30.455588918917837 L 114.37596384395421,30.45558891990003 L 114.37596407150703,30.45567361617788 L 114.37596407155762,30.455673617156023 L 114.37596407170366,30.455673618124525 L 114.37596407194376,30.455673619074094 L 114.37596407227558,30.455673619995622 L 114.37596407269596,30.45567362088027 L 114.37596407320088,30.455673621719544 L 114.37596407378548,30.4556736225054 L 114.37596407444416,30.4556736232303 L 114.37596407517059,30.455673623887282 L 114.3759640759578,30.45567362447005 L 114.37596407679824,30.455673624973013 L 114.37596407768386,30.45567362539134 L 114.37596407860616,30.455673625721026 L 114.37596407955628,30.455673625958905 L 114.37596408052512,30.455673626102694 L 114.37596408150338,30.455673626151015 L 114.37599145190575,30.455673636018435 L 114.37599170057551,30.455738109252927 L 114.37597943009978,30.455737952427835 L 114.37597942912781,30.455737952462716 L 114.37597942816382,30.45573795259185 L 114.37597942721693,30.45573795281402 L 114.37597942629611,30.455737953127123 L 114.37597942541007,30.4557379535282 L 114.37597942456718,30.455737954013454 L 114.3759794237754,30.455737954578296 L 114.37597942304225,30.45573795521738 L 114.37597942237464,30.455737955924665 L 114.37597942177891,30.45573795669346 L 114.37597942126068,30.45573795751649 L 114.37597942082485,30.45573795838597 L 114.37597942047555,30.45573795929368 L 114.37597942021607,30.455737960231026 L 114.37597942004889,30.455737961189143 L 114.37597941997556,30.455737962158974 L 114.37597805428221,30.455788894002318 L 114.37597805430515,30.455788894998204 L 114.37597805442705,30.455788895986863 L 114.37597805464671,30.455788896958495 L 114.37597805496193,30.45578889790345 L 114.37597805536963,30.45578889881235 L 114.37597805586572,30.455788899676183 L 114.37597805644529,30.45578890048637 L 114.37597805710259,30.455788901234882 L 114.3759780578311,30.45578890191428 L 114.3759780586236,30.455788902517824 L 114.3759780594722,30.45578890303953 L 114.37597806036851,30.455788903474218 L 114.37597806130361,30.455788903817577 L 114.37597806226823,30.455788904066196 L 114.3759780632528,30.45578890421761 L 114.37597806424756,30.455788904270314 L 114.37641799212003,30.455790271069716 L 114.3764179930856,30.455790271026004 L 114.37641799404244,30.455790270889278 L 114.37641799498161,30.45579027066081 L 114.37641799589434,30.455790270342742 L 114.37641799677209,30.455790269938042 L 114.37641799760668,30.45579026945049 L 114.3764179983903,30.45579026888464 L 114.37641799911563,30.455790268245785 L 114.37641799977588,30.455790267539886 L 114.37641800036492,30.45579026677354 L 114.37641800087721,30.455790265953908 L 114.37641800130798,30.45579026508865 L 114.37641800165319,30.45579026418584 L 114.37641800190966,30.45579026325392 L 114.37641800207493,30.455790262301598 L 114.3764180021475,30.455790261337764 L 114.37641936761212,30.455739329476454 L 114.37641936758976,30.45573932848857 L 114.37641936747002,30.45573932750771 L 114.37641936725406,30.455739326543462 L 114.37641936694398,30.455739325605233 L 114.37641936654283,30.455739324702186 L 114.3764193660545,30.45573932384314 L 114.37641936548378,30.455739323036482 L 114.37641936483624,30.45573932229009 L 114.37641936411819,30.455739321611247 L 114.37641936333665,30.455739321006586 L 114.37641936249926,30.455739320482007 L 114.37641936161418,30.45573932004264 L 114.37641936069005,30.455739319692764 L 114.3764193597359,30.455739319435803 L 114.37641935876107,30.455739319274265 L 114.37641935777503,30.455739319209727 L 114.37639782653766,30.45573897611367 L 114.37639964582854,30.45567111687647 L 114.37643555117519,30.455671208170173 L 114.37643555215033,30.455671208125004 L 114.37643555311642,30.455671207984974 L 114.37643555406424,30.455671207751415 L 114.3764355549848,30.455671207426555 L 114.37643555586928,30.455671207013488 L 114.37643555670927,30.455671206516147 L 114.37643555749676,30.45567120593928 L 114.37643555822426,30.455671205288375 L 114.37643555888484,30.45567120456964 L 114.37643555947218,30.455671203789922 L 114.3764355599807,30.45567120295665 L 114.37643556040555,30.45567120207777 L 114.37643556074269,30.455671201161653 L 114.3764355609889,30.45567120021703 L 114.37643556114183,30.455671199252897 L 114.37643556120003,30.455671198278452 L 114.37643647781759,30.45558652500826 L 114.37643647777952,30.455586524021488 L 114.37643647764429,30.455586523043284 L 114.37643647741325,30.455586522083184 L 114.37643647708865,30.455586521150554 L 114.37643647667363,30.45558652025449 L 114.37643647617227,30.455586519403724 L 114.37643647558943,30.455586518606555 L 114.37643647493081,30.455586517870763 L 114.37643647420285,30.455586517203514 L 114.37643647341261,30.45558651661132 L 114.37643647256782,30.455586516099956 L 114.3764364716767,30.455586515674405 L 114.37643647074796,30.455586515338823 L 114.37643646979066,30.455586515096478 L 114.37643646881412,30.455586514949733 L 114.37643646782786,30.45558651490002 L 114.37637526340583,30.455586455684514 L 114.37637517082668,30.455566621190638 L 114.37637517077367,30.45556662020801 L 114.37637517062434,30.45556661923535 L 114.37637517038013,30.455566618282074 L 114.37637517004342,30.455566617357416 L 114.37637516961745,30.455566616470332 L 114.37637516910635,30.455566615629408 L 114.3763751685151,30.45556661484279 L 114.37637516784937,30.455566614118094 L 114.37637516711564,30.455566613462338 L 114.37637516632103,30.455566612881874 L 114.37637516547319,30.45556661238232 L 114.37637516458037,30.455566611968514 L 114.37637516365119,30.455566611644468 L 114.37637516269467,30.455566611413314 L 114.37637516172006,30.45556661127729 L 114.3763751607368,30.455566611237717 L 114.37599111506478,30.45557006690342 L 114.37599111408674,30.455570066960213 L 114.37599111311896,30.455570067112433 L 114.37599111217072,30.45557006735862 L 114.37599111125111,30.455570067696414 L 114.37599111036897,30.45557006812257 L 114.37599110953278,30.455570068632994 L 114.37599110875053,30.455570069222798 L 114.37599110802975,30.45557006988631 L 114.37599110737735,30.45557007061717 L 114.3759911067996,30.455570071408356 L 114.37599110630204,30.455570072252282 L 114.37599110588944,30.455570073140844 L 114.37599110556577,30.455570074065513 L 114.37599110533415,30.455570075017416 L 114.37599110519676,30.455570075987417 L 114.37599110515497,30.455570076966207 L 114.37599122422733,30.455588919739213 L 114.37596385395778,30.455588909873164 z\" /><path fill-rule=\"evenodd\" fill=\"#66cc99\" stroke=\"#555555\" stroke-width=\"6.614655770057709e-05\" opacity=\"0.6\" d=\"M 114.3764339159995,30.45547202797063 L 114.3764339169931,30.45547202790006 L 114.37643391797472,30.455472027730995 L 114.37643391893468,30.45547202746511 L 114.37643391986342,30.455472027105042 L 114.37643392075172,30.455472026654366 L 114.37643392159079,30.45547202611755 L 114.37643392237229,30.455472025499922 L 114.37643392308847,30.455472024807612 L 114.37643392373221,30.455472024047488 L 114.37643392429715,30.455472023227088 L 114.37643392477766,30.45547202235456 L 114.37643392516898,30.455472021438553 L 114.37643392546723,30.45547202048816 L 114.37643392566945,30.45547201951281 L 114.37643392577364,30.455472018522183 L 114.37643392577876,30.455472017526102 L 114.37643021574172,30.455389055029144 L 114.37643021565071,30.455389054058287 L 114.37643021546559,30.45538905310091 L 114.3764302151881,30.45538905216611 L 114.37643021482087,30.455389051262788 L 114.37643021436742,30.45538905039952 L 114.37643021383204,30.455389049584525 L 114.37643021321983,30.455389048825545 L 114.3764302125366,30.455389048129803 L 114.37643021178887,30.455389047503907 L 114.37643021098374,30.455389046953815 L 114.37643021012886,30.455389046484754 L 114.37643020923235,30.455389046101185 L 114.37643020830275,30.455389045806758 L 114.37643020734889,30.455389045604264 L 114.37643020637985,30.45538904549564 L 114.37643020540483,30.45538904548191 L 114.37638415670341,30.455390643767597 L 114.37638357295438,30.45536197046532 L 114.37642743441877,30.45536041835294 L 114.37642743540671,30.455360418268793 L 114.37642743638146,30.455360418087224 L 114.37642743733345,30.455360417810017 L 114.3764274382533,30.455360417439895 L 114.37642743913197,30.455360416980504 L 114.37642743996084,30.455360416436356 L 114.37642744073175,30.455360415812798 L 114.3764274414371,30.455360415115962 L 114.37642744206998,30.4553604143527 L 114.37642744262418,30.455360413530517 L 114.37642744309422,30.455360412657495 L 114.37642744347549,30.455360411742213 L 114.37642744376426,30.455360410793674 L 114.37642744395767,30.4553604098212 L 114.37642744405383,30.455360408834355 L 114.37642744405179,30.455360407842836 L 114.37642394749194,30.455292782539154 L 114.37642394739608,30.455292781581655 L 114.37642394720861,30.455292780637805 L 114.37642394693131,30.45529277971634 L 114.37642394656672,30.4552927788258 L 114.37642394611821,30.455292777974424 L 114.37642394558995,30.4552927771701 L 114.37642394498683,30.455292776420272 L 114.37642394431442,30.455292775731888 L 114.37642394357898,30.45529277511132 L 114.37642394278728,30.455292774564317 L 114.37642394194668,30.455292774095938 L 114.37642394106494,30.455292773710525 L 114.37642394015025,30.45529277341165 L 114.37642393921107,30.45529277320207 L 114.37642393825608,30.455292773083738 L 114.37642393729415,30.455292773057742 L 114.37597122566117,30.455302333086323 L 114.37597122466556,30.45530233315717 L 114.37597122368196,30.45530233332692 L 114.37597122272018,30.455302333593878 L 114.37597122178981,30.455302333955384 L 114.37597122090013,30.45530233440784 L 114.37597122005995,30.455302334946733 L 114.3759712192777,30.455302335566696 L 114.37597121856115,30.455302336261553 L 114.37597121791744,30.45530233702438 L 114.37597121735298,30.45530233784758 L 114.3759712168734,30.45530233872295 L 114.37597121648346,30.455302339641772 L 114.37597121618707,30.455302340594887 L 114.37597121598716,30.4553023415728 L 114.37597121588574,30.45530234256577 L 114.37597121588382,30.455302343563904 L 114.37597335391786,30.45534685199006 L 114.37597335401209,30.455346852960695 L 114.37597335420041,30.455346853917533 L 114.37597335448105,30.45534685485148 L 114.37597335485131,30.45534685575365 L 114.37597335530769,30.455346856615467 L 114.37597335584584,30.45534685742873 L 114.37597335646065,30.45534685818571 L 114.37597335714628,30.455346858879206 L 114.37597335789619,30.45534685950262 L 114.37597335870325,30.455346860050028 L 114.3759733595598,30.455346860516222 L 114.37597336045768,30.455346860896768 L 114.37597336138836,30.455346861188048 L 114.37597336234298,30.455346861387287 L 114.37597336331248,30.4553468614926 L 114.37597336428762,30.455346861502978 L 114.37600430622798,30.455345680915162 L 114.3760060319309,30.45538610237358 L 114.37595216228335,30.455388174433736 L 114.37595216129951,30.45538817452039 L 114.375952160329,30.45538817470367 L 114.37595215938131,30.455388174981795 L 114.37595215846568,30.45538817535205 L 114.37595215759103,30.45538817581082 L 114.37595215676592,30.455388176353633 L 114.37595215599836,30.45538817697519 L 114.37595215529586,30.455388177669434 L 114.37595215466528,30.455388178429587 L 114.37595215411277,30.45538817924824 L 114.3759521536437,30.4553881801174 L 114.37595215326265,30.455388181028596 L 114.37595215297335,30.455388181972932 L 114.37595215277861,30.455388182941203 L 114.37595215268034,30.45538818392396 L 114.3759521526795,30.45538818491162 L 114.37595671441206,30.45548207796114 L 114.37595671450522,30.455482078920834 L 114.37595671469037,30.455482079867096 L 114.37595671496581,30.455482080791125 L 114.37595671532895,30.45548208168433 L 114.37595671577643,30.455482082538413 L 114.37595671630409,30.45548208334543 L 114.375956716907,30.455482084097877 L 114.3759567175796,30.45548208478876 L 114.37595671831559,30.455482085411653 L 114.37595671910816,30.45548208596077 L 114.37595671994993,30.455482086431005 L 114.37595672083307,30.45548208681798 L 114.37595672174938,30.455482087118106 L 114.37595672269033,30.455482087328587 L 114.37595672364718,30.45548208744747 L 114.37595672461103,30.455482087473648 L 114.3764339159995,30.45547202797063 z\" /><path fill-rule=\"evenodd\" fill=\"#66cc99\" stroke=\"#555555\" stroke-width=\"6.614655770057709e-05\" opacity=\"0.6\" d=\"M 114.37608758407039,30.457443181630172 L 114.3760875849566,30.457443181180423 L 114.37608758579377,30.457443180644933 L 114.37608758657368,30.457443180028992 L 114.37608758728858,30.457443179338682 L 114.37608758793144,30.457443178580824 L 114.3760875884959,30.457443177762897 L 114.3760875889764,30.457443176892983 L 114.37608758936818,30.457443175979673 L 114.37608758966736,30.45744317503199 L 114.37608758987102,30.457443174059286 L 114.3760875899771,30.457443173071173 L 114.3760875899846,30.457443172077408 L 114.37608758989343,30.457443171087807 L 114.37608758970447,30.457443170112143 L 114.37608758941961,30.457443169160054 L 114.37608758904166,30.45744316824094 L 114.37608758857434,30.457443167363877 L 114.37602590789105,30.457340097585593 L 114.37602590735494,30.457340096780808 L 114.37602590674362,30.457340096031565 L 114.3760259060628,30.457340095344872 L 114.37602590531883,30.45734009472715 L 114.37602590451866,30.457340094184172 L 114.3760259036698,30.45734009372102 L 114.37602590278017,30.457340093342015 L 114.3760259018581,30.457340093050714 L 114.3760259009122,30.457340092849833 L 114.37602589995132,30.457340092741255 L 114.37602589898444,30.45734009272599 L 114.37602589802061,30.457340092804184 L 114.37602589706884,30.457340092975105 L 114.37602589613803,30.457340093237153 L 114.37602589523688,30.45734009358788 L 114.37592780297034,30.457383843758475 L 114.37591484371036,30.457362575277983 L 114.37591484316859,30.45736257447847 L 114.37591484255222,30.457362573734947 L 114.375914841867,30.457362573054347 L 114.37591484111933,30.457362572443024 L 114.37591484031616,30.45736257190668 L 114.375914839465,30.45736257145031 L 114.37591483857379,30.45736257107818 L 114.37591483765084,30.45736257079375 L 114.37591483670475,30.457362570599688 L 114.37591483574435,30.457362570497793 L 114.37591483477861,30.457362570489018 L 114.37591483381652,30.457362570573444 L 114.37591483286707,30.457362570750288 L 114.3759148319391,30.457362571017896 L 114.37591483104127,30.45736257137377 L 114.37572512511986,30.45744858587223 L 114.37572512423593,30.457448586327278 L 114.37572512340155,30.45744858686784 L 114.37572512262498,30.45744858748858 L 114.37572512191387,30.457448588183368 L 114.37572512127528,30.45744858894533 L 114.3757251207155,30.457448589766933 L 114.37572512024006,30.45744859064006 L 114.37572511985367,30.457448591556084 L 114.37572511956014,30.457448592505944 L 114.37572511936239,30.457448593480255 L 114.37572511926236,30.45744859446939 L 114.37572511926103,30.457448595463568 L 114.37572511935842,30.457448596452963 L 114.37572511955358,30.4574485974278 L 114.37572511984457,30.457448598378438 L 114.37572512022852,30.45744859929549 L 114.37572512070163,30.45744860016988 L 114.37573747846473,30.457468952465717 L 114.37563938828154,30.457512701364408 L 114.37563938739439,30.457512701814256 L 114.3756393865563,30.457512702350012 L 114.3756393857756,30.457512702966376 L 114.37563938506,30.45751270365725 L 114.37563938441656,30.4575127044158 L 114.37563938385166,30.457512705234524 L 114.3756393833709,30.457512706105316 L 114.37563938297903,30.457512707019557 L 114.37563938267992,30.45751270796821 L 114.37563938247654,30.457512708941888 L 114.37563938237089,30.45751270993095 L 114.37563938236403,30.457512710925617 L 114.375639382456,30.457512711916042 L 114.37563938264593,30.457512712892434 L 114.37563938293192,30.457512713845126 L 114.37563938331114,30.457512714764693 L 114.37563938377983,30.457512715642036 L 114.37570117060847,30.457615697533058 L 114.37570117114518,30.457615698336834 L 114.37570117175699,30.457615699085046 L 114.37570117243816,30.4576156997707 L 114.37570117318235,30.457615700387393 L 114.37570117398259,30.457615700929363 L 114.37570117483142,30.45761570139155 L 114.3757011757209,30.457615701769633 L 114.37570117664272,30.457615702060085 L 114.37570117758828,30.45761570226019 L 114.37570117854874,30.457615702368077 L 114.37570117951513,30.45761570238274 L 114.37570118047843,30.457615702304043 L 114.37570118142962,30.45761570213272 L 114.37570118235983,30.45761570187037 L 114.37570118326038,30.457615701519448 L 114.37608758407039,30.457443181630172 z\" /><path fill-rule=\"evenodd\" fill=\"#66cc99\" stroke=\"#555555\" stroke-width=\"6.614655770057709e-05\" opacity=\"0.6\" d=\"M 114.37593333901849,30.45515448500104 L 114.37593333999527,30.455154484972944 L 114.37593334096464,30.455154484849647 L 114.37593334191735,30.455154484632327 L 114.37593334284429,30.45515448432306 L 114.37593334373663,30.455154483924797 L 114.37593334458585,30.45515448344134 L 114.3759333453838,30.45515448287731 L 114.37593334612292,30.45515448223809 L 114.3759333467961,30.455154481529785 L 114.37593334739695,30.455154480759155 L 114.37593334791971,30.455154479933565 L 114.3759333483594,30.45515447906089 L 114.37593334871181,30.45515447814947 L 114.37593334897358,30.455154477208005 L 114.37593334914222,30.455154476245486 L 114.37593334921611,30.455154475271105 L 114.37593645281416,30.455038729268946 L 114.37593645279199,30.455038728283668 L 114.37593645267296,30.455038727305357 L 114.37593645245819,30.455038726343513 L 114.3759364521498,30.455038725407483 L 114.37593645175077,30.455038724506352 L 114.37593645126498,30.455038723648872 L 114.37593645069714,30.45503872284338 L 114.37593645005278,30.45503872209769 L 114.37593644933814,30.45503872141905 L 114.37593644856017,30.45503872081405 L 114.37593644772642,30.455038720288563 L 114.375936446845,30.455038719847696 L 114.37593644592447,30.455038719495732 L 114.37593644497376,30.45503871923609 L 114.37593644400211,30.455038719071286 L 114.37593644301896,30.45503871900293 L 114.37586320047052,30.4550372449648 L 114.3758637368172,30.45501724286994 L 114.37586373679383,30.45501724186831 L 114.37586373667038,30.455017240874042 L 114.37586373644804,30.45501723989712 L 114.37586373612908,30.45501723894735 L 114.37586373571666,30.455017238034262 L 114.37586373521496,30.455017237167024 L 114.375863734629,30.455017236354344 L 114.37586373396465,30.455017235604377 L 114.37586373322858,30.45501723492465 L 114.37586373242821,30.45501723432199 L 114.37586373157154,30.45501723380244 L 114.37586373066719,30.455017233371226 L 114.37586372972422,30.455017233032667 L 114.37586372875211,30.455017232790162 L 114.3758637277606,30.455017232646153 L 114.37586372675968,30.455017232602078 L 114.37560934890905,30.455018787139284 L 114.37560934794966,30.455018787191303 L 114.37560934699968,30.455018787335156 L 114.3756093460679,30.455018787569514 L 114.37560934516291,30.45501878789221 L 114.37560934429307,30.45501878830027 L 114.37560934346641,30.455018788789925 L 114.37560934269054,30.455018789356654 L 114.37560934197265,30.455018789995226 L 114.37560934131936,30.455018790699743 L 114.37560934073669,30.455018791463708 L 114.37560934023003,30.45501879228006 L 114.37560933980406,30.455018793141274 L 114.3756093394627,30.45501879403939 L 114.3756093392091,30.455018794966122 L 114.37560933904562,30.455018795912913 L 114.37560933897375,30.455018796871023 L 114.37560874697067,30.45504087242674 L 114.37557639673474,30.455040221287806 L 114.37557639573713,30.455040221317542 L 114.37557639474744,30.455040221446573 L 114.37557639377556,30.455040221673617 L 114.37557639283114,30.45504022199641 L 114.3755763919236,30.455040222411732 L 114.37557639106198,30.455040222915454 L 114.37557639025486,30.45504022350255 L 114.37557638951029,30.45504022416718 L 114.37557638883568,30.45504022490272 L 114.37557638823775,30.45504022570184 L 114.37557638772245,30.455040226556587 L 114.37557638729491,30.45504022745844 L 114.37557638695942,30.455040228398417 L 114.37557638671929,30.455040229367157 L 114.37557638657691,30.45504023035501 L 114.37557638653372,30.455040231352132 L 114.3755769647233,30.455127369905327 L 114.37557696477622,30.45512737086852 L 114.37557696492169,30.455127371822137 L 114.37557696515837,30.4551273727573 L 114.37557696548407,30.455127373665302 L 114.37557696589573,30.4551273745377 L 114.37557696638953,30.455127375366377 L 114.37557696696089,30.455127376143615 L 114.37557696760447,30.455127376862187 L 114.37557696831429,30.455127377515407 L 114.37557696908375,30.455127378097192 L 114.3755769699057,30.455127378602132 L 114.37557697077246,30.455127379025527 L 114.375576971676,30.455127379363432 L 114.37557697260787,30.455127379612712 L 114.37557697355945,30.455127379771042 L 114.37557697452183,30.455127379836952 L 114.37560495446557,30.45512794301283 L 114.37560422225087,30.455155246834963 L 114.37560422227304,30.45515524782024 L 114.37560422239207,30.45515524879855 L 114.37560422260682,30.455155249760395 L 114.37560422291521,30.455155250696432 L 114.37560422331424,30.455155251597564 L 114.37560422380002,30.455155252455043 L 114.37560422436786,30.45515525326054 L 114.37560422501224,30.455155254006232 L 114.37560422572687,30.455155254684875 L 114.37560422650483,30.455155255289878 L 114.37560422733858,30.455155255815367 L 114.37560422822,30.455155256256234 L 114.37560422914054,30.4551552566082 L 114.37560423009124,30.455155256867847 L 114.3756042310629,30.455155257032654 L 114.37560423204604,30.455155257101016 L 114.37563002690405,30.455155776290923 L 114.37562925870049,30.45518442235628 L 114.37561210002877,30.455184076992794 L 114.37561209905199,30.45518407702089 L 114.37561209808263,30.45518407714418 L 114.37561209712992,30.455184077361498 L 114.37561209620297,30.45518407767076 L 114.37561209531063,30.455184078069024 L 114.37561209446142,30.455184078552474 L 114.37561209366345,30.455184079116503 L 114.37561209292434,30.455184079755718 L 114.37561209225115,30.455184080464022 L 114.37561209165031,30.45518408123465 L 114.37561209112754,30.45518408206024 L 114.37561209068785,30.45518408293291 L 114.37561209033544,30.45518408384433 L 114.37561209007366,30.45518408478579 L 114.37561208990502,30.45518408574831 L 114.37561208983112,30.455184086722692 L 114.37561071188969,30.455235469279508 L 114.37561071191305,30.455235470281217 L 114.37561071203653,30.45523547127556 L 114.3756107122589,30.455235472252557 L 114.37561071257792,30.455235473202396 L 114.3756107129904,30.455235474115543 L 114.37561071349216,30.45523547498283 L 114.37561071407822,30.455235475795547 L 114.37561071474266,30.455235476545536 L 114.37561071547883,30.45523547722527 L 114.37561071627931,30.45523547782792 L 114.3756107171361,30.455235478347436 L 114.37561071804056,30.455235478778608 L 114.37561071898364,30.455235479117103 L 114.37561071995584,30.455235479359523 L 114.37561072094745,30.455235479503433 L 114.37561072194846,30.45523547954739 L 114.37589810908712,30.45523368742747 L 114.37589811004642,30.455233687375337 L 114.3758981109963,30.455233687231388 L 114.375898111928,30.45523368699695 L 114.37589811283287,30.45523368667419 L 114.37589811370262,30.455233686266084 L 114.37589811452918,30.455233685776403 L 114.37589811530493,30.45523368520966 L 114.37589811602273,30.45523368457109 L 114.37589811667593,30.455233683866588 L 114.3758981172585,30.455233683102655 L 114.37589811776509,30.45523368228634 L 114.37589811819099,30.455233681425184 L 114.3758981185323,30.45523368052713 L 114.37589811878586,30.455233679600465 L 114.37589811894931,30.455233678653748 L 114.37589811902117,30.455233677695713 L 114.37589922608825,30.455192391351083 L 114.37589922606608,30.455192390365806 L 114.37589922594705,30.455192389387495 L 114.37589922573228,30.45519238842565 L 114.3758992254239,30.455192387489618 L 114.37589922502487,30.455192386588486 L 114.37589922453907,30.455192385731007 L 114.37589922397123,30.455192384925514 L 114.37589922332687,30.455192384179824 L 114.37589922261223,30.45519238350118 L 114.37589922183426,30.45519238289618 L 114.37589922100052,30.455192382370694 L 114.3758992201191,30.455192381929827 L 114.37589921919856,30.455192381577863 L 114.37589921824785,30.45519238131822 L 114.3758992172762,30.455192381153417 L 114.37589921629305,30.45519238108506 L 114.37587196468945,30.455191832630085 L 114.37587299871375,30.455153270625008 L 114.37593333901849,30.45515448500104 z\" /><path fill-rule=\"evenodd\" fill=\"#66cc99\" stroke=\"#555555\" stroke-width=\"6.614655770057709e-05\" opacity=\"0.6\" d=\"M 114.37590933526559,30.45567306552257 L 114.37590933624149,30.455673065477335 L 114.37590933720833,30.455673065337088 L 114.37590933815686,30.455673065103166 L 114.37590933907804,30.455673064777805 L 114.37590933996307,30.455673064364113 L 114.37590934080352,30.455673063866033 L 114.37590934159134,30.45567306328832 L 114.37590934231905,30.45567306263649 L 114.37590934297967,30.455673061916762 L 114.3759093435669,30.455673061136004 L 114.37590934407515,30.455673060301674 L 114.37590934449958,30.45567305942173 L 114.3759093448361,30.45567305850457 L 114.37590934508152,30.45567305755895 L 114.37590934523351,30.455673056593895 L 114.3759093452906,30.455673055618615 L 114.37591015831111,30.45558838028462 L 114.37591015827189,30.45558837929866 L 114.3759101581357,30.455588378321366 L 114.37591015790385,30.45558837736225 L 114.3759101575786,30.455588376430654 L 114.37591015716313,30.455588375535648 L 114.37591015666146,30.455588374685945 L 114.3759101560785,30.455588373889817 L 114.37591015541993,30.45558837315502 L 114.37591015469214,30.45558837248871 L 114.37591015390221,30.455588371897363 L 114.37591015305787,30.45558837138675 L 114.37591015216731,30.455588370961834 L 114.3759101512392,30.455588370626757 L 114.37591015028259,30.455588370384778 L 114.37591014930679,30.455588370238253 L 114.3759101483213,30.455588370188615 L 114.37584894396996,30.455588310725847 L 114.37584895549801,30.45556847838441 L 114.37584895545024,30.45556847740215 L 114.3758489553062,30.45556847642933 L 114.37584895506731,30.455568475475363 L 114.37584895473587,30.455568474549473 L 114.37584895431509,30.455568473660616 L 114.37584895380904,30.455568472817387 L 114.3758489532226,30.455568472027945 L 114.37584895256147,30.45556847129992 L 114.37584895183203,30.45556847064035 L 114.37584895104132,30.455568470055624 L 114.375848950197,30.455568469551388 L 114.37584894930724,30.455568469132526 L 114.37584894838064,30.45556846880308 L 114.37584894742615,30.455568468566245 L 114.37584894645303,30.455568468424303 L 114.37584894547066,30.455568468378637 L 114.37563196698422,30.455569061924134 L 114.37563196600195,30.455569061975194 L 114.37563196502946,30.455569062122503 L 114.37563196407613,30.45556906236464 L 114.37563196315122,30.455569062699254 L 114.37563196226365,30.455569063123118 L 114.375631961422,30.455569063632126 L 114.37563196063445,30.455569064221354 L 114.37563195990857,30.4555690648851 L 114.37563195925142,30.455569065616945 L 114.37563195866935,30.45556906640981 L 114.37563195816799,30.45556906725602 L 114.37563195775216,30.455569068147394 L 114.37563195742594,30.455569069075306 L 114.37563195719244,30.455569070030776 L 114.37563195705394,30.455569071004565 L 114.37563195701178,30.45556907198725 L 114.37563207601487,30.45558791474962 L 114.37557534842978,30.45558785507088 L 114.37557534745487,30.455587855117486 L 114.37557534648916,30.455587855258905 L 114.37557534554183,30.455587855493796 L 114.37557534462192,30.455587855819918 L 114.37557534373818,30.455587856234168 L 114.37557534289903,30.455587856732592 L 114.37557534211246,30.455587857310448 L 114.37557534138597,30.455587857962232 L 114.37557534072648,30.45558785868173 L 114.37557534014027,30.455587859462096 L 114.37557533963293,30.455587860295886 L 114.37557533920929,30.455587861175164 L 114.37557533887339,30.455587862091555 L 114.37557533862842,30.455587863036328 L 114.37557533847671,30.455587864000478 L 114.37557533841972,30.455587864974827 L 114.37557452510946,30.455672540289818 L 114.37557452514865,30.45567254127552 L 114.37557452528476,30.45567254225256 L 114.37557452551648,30.455672543211435 L 114.37557452584156,30.455672544142814 L 114.37557452625681,30.455672545037633 L 114.37557452675821,30.455672545887186 L 114.37557452734089,30.4556725466832 L 114.37557452799915,30.455672547417933 L 114.37557452872659,30.455672548084237 L 114.37557452951614,30.455672548675622 L 114.37557453036013,30.45567254918634 L 114.37557453125034,30.45567254961141 L 114.37557453217808,30.45567254994671 L 114.37557453313434,30.455672550188964 L 114.37557453410983,30.455672550335823 L 114.37557453509504,30.455672550385856 L 114.37563230338212,30.455672631007975 L 114.3756325518151,30.455737104239613 L 114.37562028134268,30.45573694738075 L 114.37562028037071,30.455736947415627 L 114.37562027940672,30.455736947544757 L 114.37562027845983,30.455736947766926 L 114.37562027753901,30.455736948080027 L 114.37562027665297,30.4557369484811 L 114.37562027581006,30.45573694896635 L 114.3756202750183,30.45573694953119 L 114.37562027428514,30.455736950170273 L 114.37562027361754,30.455736950877558 L 114.37562027302181,30.455736951646347 L 114.37562027250357,30.455736952469376 L 114.37562027206774,30.455736953338857 L 114.37562027171843,30.45573695424656 L 114.37562027145896,30.455736955183905 L 114.37562027129177,30.455736956142026 L 114.37562027121844,30.455736957111853 L 114.37561890533836,30.455787888940492 L 114.37561890536072,30.455787889928654 L 114.37561890548054,30.455787890909782 L 114.37561890569661,30.45578789187429 L 114.37561890600686,30.455787892812754 L 114.37561890640823,30.455787893716007 L 114.37561890689682,30.455787894575224 L 114.37561890746784,30.45578789538201 L 114.37561890811571,30.455787896128484 L 114.37561890883411,30.455787896807355 L 114.37561890961602,30.455787897411984 L 114.37561891045381,30.45578789793647 L 114.37561891133927,30.45578789837569 L 114.37561891226377,30.455787898725347 L 114.37561891321829,30.45578789898203 L 114.37561891419347,30.455787899143232 L 114.3756189151798,30.455787899207373 L 114.37589177545077,30.45579212831258 L 114.37589177642452,30.455792128280205 L 114.3758917773905,30.455792128153224 L 114.37589177833955,30.45579212793284 L 114.37589177926263,30.455792127621148 L 114.37589178015101,30.45579212722111 L 114.37589178099624,30.455792126736515 L 114.3758917817903,30.455792126171968 L 114.37589178252566,30.45579212553283 L 114.37589178319533,30.455792124825162 L 114.37589178379295,30.455792124055687 L 114.37589178431286,30.45579212323171 L 114.37589178475011,30.455792122361046 L 114.37589178510056,30.455792121451964 L 114.37589178536089,30.455792120513095 L 114.37589178552861,30.455792119553347 L 114.37589178560215,30.455792118581833 L 114.37589315134055,30.455741186742056 L 114.3758931513182,30.45574118575417 L 114.37589315119845,30.455741184773313 L 114.3758931509825,30.45574118380906 L 114.37589315067244,30.455741182870828 L 114.37589315027128,30.45574118196778 L 114.37589314978297,30.45574118110873 L 114.37589314921225,30.45574118030207 L 114.37589314856471,30.455741179555673 L 114.37589314784667,30.455741178876824 L 114.37589314706513,30.45574117827216 L 114.37589314622774,30.45574117774758 L 114.37589314534264,30.455741177308205 L 114.37589314441853,30.455741176958327 L 114.37589314346438,30.455741176701363 L 114.37589314248955,30.455741176539817 L 114.37589314150351,30.455741176475275 L 114.37587161027434,30.45574083329233 L 114.37587342993001,30.45567297408382 L 114.37590933526559,30.45567306552257 z\" /><path fill-rule=\"evenodd\" fill=\"#66cc99\" stroke=\"#555555\" stroke-width=\"6.614655770057709e-05\" opacity=\"0.6\" d=\"M 114.37589876147506,30.45621491563189 L 114.37589876245262,30.456214915603734 L 114.37589876342275,30.456214915480224 L 114.37589876437619,30.456214915262546 L 114.37589876530379,30.456214914952774 L 114.37589876619671,30.45621491455388 L 114.3758987670464,30.45621491406967 L 114.3758987678447,30.45621491350478 L 114.37589876858404,30.45621491286461 L 114.37589876925729,30.45621491215529 L 114.37589876985804,30.456214911383594 L 114.37589877038054,30.456214910556906 L 114.37589877081979,30.456214909683137 L 114.37589877117159,30.45621490877064 L 114.37589877143257,30.45621490782814 L 114.37589877160026,30.45621490686466 L 114.37589877167302,30.456214905889404 L 114.37590088667234,30.45613215082839 L 114.37590088664892,30.456132149843004 L 114.37590088652863,30.456132148864707 L 114.37590088631259,30.45613214790301 L 114.37590088600294,30.456132146967246 L 114.37590088560266,30.456132146066516 L 114.37590088511566,30.456132145209565 L 114.37590088454665,30.456132144404723 L 114.37590088390118,30.456132143659804 L 114.37590088318551,30.45613214298205 L 114.3759008824066,30.456132142378046 L 114.375900881572,30.456132141853654 L 114.37590088068983,30.456132141413974 L 114.37590087976866,30.45613214106328 L 114.37590087881745,30.45613214080497 L 114.37590087784542,30.45613214064156 L 114.37590087686203,30.45613214057464 L 114.37559640524427,30.456126463435712 L 114.37559640426767,30.456126463465242 L 114.37559640329863,30.456126463589932 L 114.37559640234636,30.456126463808594 L 114.37559640142,30.456126464119144 L 114.37559640052835,30.45612646451861 L 114.37559639967994,30.456126465003184 L 114.37559639888288,30.45612646556824 L 114.37559639814475,30.456126466208378 L 114.37559639747262,30.456126466917496 L 114.3755963968729,30.456126467688822 L 114.37559639635131,30.456126468514988 L 114.37559639591284,30.456126469388114 L 114.37559639556166,30.45612647029986 L 114.37559639530113,30.456126471241525 L 114.37559639513375,30.45612647220412 L 114.3755963950611,30.456126473178454 L 114.37559427980494,30.456209228219556 L 114.37559427982838,30.45620922920534 L 114.37559427994879,30.456209230184022 L 114.375594280165,30.45620923114609 L 114.3755942804749,30.456209232082188 L 114.3755942808755,30.45620923298321 L 114.37559428136288,30.4562092338404 L 114.37559428193232,30.45620923464542 L 114.37559428257828,30.45620923539045 L 114.37559428329446,30.456209236068236 L 114.37559428407391,30.456209236672194 L 114.37559428490907,30.45620923719645 L 114.37559428579179,30.456209237635903 L 114.3755942867135,30.45620923798629 L 114.37559428766524,30.456209238244192 L 114.37559428863774,30.45620923840711 L 114.37559428962157,30.456209238473456 L 114.37563694370117,30.45621000684589 L 114.37563550324624,30.45625207818394 L 114.3756158470353,30.456251682543492 L 114.37561584606146,30.45625168257136 L 114.37561584509496,30.456251682693853 L 114.37561584414496,30.456251682909816 L 114.37561584322049,30.456251683217197 L 114.3756158423303,30.45625168361308 L 114.37561584148287,30.456251684093704 L 114.37561584068622,30.45625168465451 L 114.37561583994794,30.456251685290177 L 114.37561583927501,30.456251685994665 L 114.37561583867382,30.45625168676129 L 114.3756158381501,30.456251687582782 L 114.37561583770878,30.45625168845134 L 114.37561583735409,30.456251689358712 L 114.37561583708937,30.4562516902963 L 114.37561583691713,30.456251691255193 L 114.37561583683903,30.456251692226296 L 114.3756144441377,30.456295859000324 L 114.37561444415532,30.456295859987335 L 114.37561444427018,30.4562958609678 L 114.37561444448114,30.456295861932162 L 114.37561444478617,30.456295862871027 L 114.37561444518228,30.456295863775242 L 114.3756144456656,30.456295864635994 L 114.37561444623144,30.4562958654449 L 114.37561444687428,30.456295866194075 L 114.37561444758785,30.456295866876218 L 114.3756144483652,30.45629586748468 L 114.37561444919875,30.456295868013537 L 114.37561445008039,30.456295868457627 L 114.37561445100152,30.456295868812628 L 114.37561445195317,30.45629586907508 L 114.37561445292604,30.456295869242425 L 114.37561445391069,30.45629586931303 L 114.37587426058218,30.456301639633708 L 114.37587426155591,30.45630163960788 L 114.3758742625225,30.456301639487442 L 114.3758742634728,30.456301639273534 L 114.37587426439777,30.456301638968185 L 114.37587426528864,30.456301638574292 L 114.37587426613698,30.456301638095596 L 114.3758742669347,30.456301637536633 L 114.37587426767426,30.45630163690271 L 114.37587426834864,30.456301636199843 L 114.37587426895143,30.4563016354347 L 114.37587426947694,30.456301634614537 L 114.37587426992015,30.456301633747138 L 114.37587427027685,30.456301632840738 L 114.37587427054369,30.45630163190393 L 114.37587427071813,30.456301630945603 L 114.37587427079849,30.456301629974856 L 114.37587576743626,30.45625746528542 L 114.37587576742095,30.45625746429845 L 114.37587576730843,30.456257463317794 L 114.37587576709976,30.45625746235301 L 114.375875766797,30.456257461413497 L 114.37587576640308,30.45625746050841 L 114.37587576592186,30.45625745964657 L 114.37587576535802,30.456257458836372 L 114.37587576471704,30.45625745808571 L 114.37587576400517,30.456257457401897 L 114.37587576322936,30.456257456791594 L 114.37587576239716,30.456257456260754 L 114.37587576151668,30.456257455814548 L 114.3758757605965,30.45625745545732 L 114.37587575964558,30.45625745519255 L 114.37587575867319,30.45625745502282 L 114.3758757576888,30.456257454949785 L 114.37585600004597,30.456256967156566 L 114.37585735816246,30.45621408234637 L 114.37589876147506,30.45621491563189 z\" /><path fill-rule=\"evenodd\" fill=\"#66cc99\" stroke=\"#555555\" stroke-width=\"6.614655770057709e-05\" opacity=\"0.6\" d=\"M 114.37589567217813,30.45537894009495 L 114.37589567315362,30.455378939996958 L 114.37589567411484,30.455378939803914 L 114.37589567505252,30.455378939517672 L 114.37589567595768,30.45537893914099 L 114.3758956768216,30.455378938677477 L 114.37589567763597,30.4553789381316 L 114.37589567839298,30.4553789375086 L 114.37589567908535,30.455378936814462 L 114.3758956797064,30.455378936055865 L 114.37589568025021,30.4553789352401 L 114.37589568071151,30.455378934375 L 114.37589568108588,30.45537893346889 L 114.37589568136973,30.455378932530472 L 114.37589568156031,30.45537893156877 L 114.3758956816558,30.455378930593028 L 114.37589568165531,30.455378929612625 L 114.37589196504807,30.455303994206506 L 114.37589196495404,30.455303993247608 L 114.37589196476816,30.455303992302206 L 114.37589196449215,30.455303991379083 L 114.3758919641286,30.455303990486808 L 114.37589196368086,30.45530398963366 L 114.37589196315308,30.455303988827563 L 114.37589196255018,30.455303988076 L 114.37589196187776,30.455303987385946 L 114.37589196114205,30.45530398676381 L 114.37589196034988,30.455303986215362 L 114.37589195950859,30.4553039857457 L 114.37589195862603,30.45530398535918 L 114.37589195771035,30.45530398505939 L 114.37589195677008,30.455303984849117 L 114.37589195581393,30.455303984730307 L 114.37589195485079,30.455303984704067 L 114.37559341225769,30.455310242328757 L 114.3755934112754,30.45531024239784 L 114.37559341030469,30.455310242563193 L 114.37559340935493,30.45531024282322 L 114.37559340843535,30.455310243175393 L 114.37559340755487,30.4553102436163 L 114.37559340672203,30.455310244141664 L 114.37559340594488,30.455310244746396 L 114.37559340523099,30.455310245424627 L 114.37559340458726,30.45531024616978 L 114.37559340401994,30.455310246974634 L 114.37559340353452,30.45531024783138 L 114.37559340313572,30.455310248731717 L 114.37559340282742,30.455310249666912 L 114.37559340261257,30.455310250627893 L 114.37559340249328,30.455310251605347 L 114.3755934024707,30.455310252589793 L 114.37559515615645,30.45537685068492 L 114.37559515623076,30.45537685166641 L 114.37559515640119,30.45537685263584 L 114.37559515666611,30.455376853583818 L 114.37559515702293,30.45537685450116 L 114.37559515746821,30.45537685537898 L 114.37559515799764,30.45537685620877 L 114.37559515860607,30.455376856982493 L 114.37559515928763,30.455376857692652 L 114.3755951600357,30.455376858332365 L 114.37559516084303,30.455376858895438 L 114.37559516170182,30.455376859376415 L 114.37559516260373,30.45537685977063 L 114.37559516354001,30.455376860074274 L 114.37559516450163,30.455376860284396 L 114.37559516547924,30.455376860398967 L 114.37559516646337,30.455376860416873 L 114.37563568840977,30.455375602094833 L 114.37563676806305,30.45541294403824 L 114.37559613224637,30.455414560762485 L 114.37559613127578,30.455414560848613 L 114.37559613031817,30.455414561028796 L 114.37559612938266,30.455414561301318 L 114.37559612847811,30.4554145616636 L 114.3755961276131,30.455414562112196 L 114.37559612679586,30.455414562642847 L 114.37559612603415,30.455414563250518 L 114.37559612533519,30.455414563929438 L 114.37559612470564,30.45541456467316 L 114.37559612415146,30.455414565474623 L 114.3755961236779,30.45541456632622 L 114.37559612328947,30.455414567219858 L 114.37559612298986,30.45541456814706 L 114.37559612278191,30.45541456909902 L 114.3755961226676,30.455414570066697 L 114.37559612264802,30.455414571040908 L 114.3755982734036,30.4554896553156 L 114.3755982734792,30.455489656289274 L 114.3755982736494,30.45548965725093 L 114.37559827391262,30.455489658191397 L 114.3755982742663,30.455489659101705 L 114.3755982747071,30.45548965997317 L 114.3755982752308,30.455489660797486 L 114.3755982758324,30.455489661566784 L 114.37559827650618,30.45548966227373 L 114.37559827724571,30.455489662911585 L 114.37559827804392,30.45548966347426 L 114.37559827889322,30.455489663956392 L 114.37559827978549,30.45548966435338 L 114.37559828071224,30.45548966466144 L 114.37559828166462,30.455489664877632 L 114.37559828263353,30.455489664999895 L 114.37559828360976,30.45548966502706 L 114.3758919314511,30.455483489289225 L 114.37589193244796,30.455483489218313 L 114.37589193343275,30.45548348904825 L 114.37589193439567,30.455483488780747 L 114.37589193532708,30.455483488418462 L 114.37589193621767,30.455483487965022 L 114.37589193705855,30.455483487424953 L 114.37589193784133,30.45548348680365 L 114.3758919385582,30.45548348610732 L 114.37589193920196,30.45548348534291 L 114.37589193976622,30.455483484518062 L 114.37589194024534,30.455483483641014 L 114.37589194063452,30.455483482720524 L 114.37589194092988,30.455483481765786 L 114.37589194112846,30.455483480786334 L 114.37589194122829,30.455483479791955 L 114.37589194122837,30.455483478792573 L 114.37588882510632,30.455421092369146 L 114.3758888250093,30.455421091392385 L 114.37588882481698,30.45542109042984 L 114.37588882453123,30.455421089490788 L 114.37588882415479,30.45542108858427 L 114.37588882369128,30.455421087719028 L 114.37588882314519,30.455421086903396 L 114.37588882252176,30.455421086145233 L 114.375888821827,30.45542108545184 L 114.37588882106762,30.4554210848299 L 114.3758888202509,30.455421084285405 L 114.37588881938477,30.455421083823605 L 114.3758888184775,30.455421083448943 L 114.3758888175379,30.45542108316503 L 114.37588881657499,30.455421082974606 L 114.37588881559803,30.455421082879504 L 114.37588881461646,30.455421082880637 L 114.37587089381984,30.45542198421201 L 114.37586909796973,30.455380298628047 L 114.37589567217813,30.45537894009495 z\" /><path fill-rule=\"evenodd\" fill=\"#66cc99\" stroke=\"#555555\" stroke-width=\"6.614655770057709e-05\" opacity=\"0.6\" d=\"M 114.37589171318707,30.456478128851312 L 114.3758917131662,30.456478127866582 L 114.37589171304855,30.45647812688868 L 114.37589171283526,30.456478125927095 L 114.37589171252841,30.456478124991158 L 114.37589171213098,30.456478124089948 L 114.37589171164682,30.456478123232205 L 114.37589171108063,30.456478122426255 L 114.3758917104379,30.45647812167991 L 114.37589170972485,30.45647812100042 L 114.37589170894843,30.45647812039437 L 114.37589170811616,30.456478119867636 L 114.3758917072361,30.456478119425338 L 114.37589170631679,30.45647811907176 L 114.37589170536717,30.456478118810338 L 114.37589170439642,30.456478118643602 L 114.375891703414,30.45647811857317 L 114.37585030251857,30.456477195158094 L 114.37585124704428,30.456434211856006 L 114.37587100722753,30.45643460955489 L 114.3758710082087,30.45643460952645 L 114.37587100918238,30.456434609401956 L 114.37587101013914,30.456434609182597 L 114.37587101106979,30.4564346088705 L 114.37587101196536,30.45643460846866 L 114.37587101281723,30.456434607980952 L 114.37587101361716,30.456434607412078 L 114.37587101435747,30.45643460676752 L 114.37587101503102,30.456434606053485 L 114.37587101563133,30.456434605276854 L 114.3758710161526,30.45643460444511 L 114.37587101658983,30.45643460356627 L 114.37587101693876,30.456434602648795 L 114.37587101719608,30.456434601701527 L 114.37587101735929,30.4564346007336 L 114.3758710174268,30.456434599754335 L 114.37587188975209,30.45639042250076 L 114.37587188972321,30.45639042151877 L 114.37587188959813,30.456390420544352 L 114.37587188937802,30.45639041958691 L 114.37587188906504,30.456390418655687 L 114.37587188866219,30.456390417759668 L 114.37587188817336,30.4563904169075 L 114.37587188760328,30.45639041610741 L 114.37587188695744,30.45639041536712 L 114.37587188624208,30.456390414693775 L 114.3758718854641,30.45639041409387 L 114.375871884631,30.456390413573203 L 114.37587188375083,30.45639041313679 L 114.3758718828321,30.45639041278885 L 114.37587188188365,30.456390412532734 L 114.37587188091466,30.45639041237092 L 114.37587187993446,30.456390412304966 L 114.3756120440173,30.456385723703686 L 114.37561204303896,30.456385723733945 L 114.37561204206824,30.456385723859707 L 114.37561204111448,30.456385724079766 L 114.3756120401868,30.456385724392018 L 114.3756120392941,30.456385724793464 L 114.37561203844491,30.456385725280263 L 114.37561203764739,30.456385725847753 L 114.37561203690916,30.456385726490495 L 114.37561203623731,30.456385727202328 L 114.37561203563827,30.456385727976432 L 114.37561203511778,30.456385728805397 L 114.37561203468083,30.456385729681273 L 114.3756120343316,30.456385730595674 L 114.37561203407344,30.456385731539836 L 114.37561203390882,30.456385732504714 L 114.37561203383932,30.456385733481063 L 114.3756110573435,30.456429908631673 L 114.3756110573703,30.45642990961676 L 114.37561105749393,30.456429910594423 L 114.37561105771317,30.456429911555173 L 114.37561105802591,30.456429912489675 L 114.37561105842912,30.456429913388863 L 114.37561105891886,30.456429914243998 L 114.3756110594904,30.456429915046776 L 114.37561106013817,30.456429915789403 L 114.3756110608559,30.456429916464668 L 114.3756110616366,30.456429917066014 L 114.3756110624727,30.456429917587595 L 114.37561106335608,30.456429918024355 L 114.37561106427815,30.456429918372045 L 114.37561106522996,30.45642991862729 L 114.37561106620228,30.456429918787617 L 114.37561106718566,30.456429918851462 L 114.37563072567008,30.45643022439231 L 114.37562990439254,30.45647248853311 L 114.37558725489781,30.456471539902022 L 114.37558725392044,30.456471539928092 L 114.3755872529503,30.45647154004948 L 114.37558725199663,30.456471540265028 L 114.37558725106858,30.456471540572675 L 114.37558725017502,30.456471540969478 L 114.37558724932447,30.45647154145165 L 114.37558724852506,30.456471542014572 L 114.37558724778445,30.45647154265287 L 114.37558724710972,30.45647154336044 L 114.37558724650731,30.456471544130522 L 114.37558724598298,30.45647154495575 L 114.37558724554174,30.456471545828236 L 114.37558724518782,30.456471546739643 L 114.37558724492459,30.456471547681254 L 114.37558724475456,30.45647154864407 L 114.37558724467938,30.45647154961889 L 114.37558492127812,30.456554300466184 L 114.37558492129902,30.45655430145135 L 114.37558492141679,30.456554302429677 L 114.37558492163026,30.456554303391663 L 114.37558492193739,30.45655430432797 L 114.37558492233518,30.456554305229503 L 114.37558492281975,30.456554306087508 L 114.37558492338643,30.456554306893658 L 114.37558492402968,30.456554307640122 L 114.37558492474328,30.456554308319653 L 114.3755849255203,30.456554308925654 L 114.37558492635318,30.456554309452237 L 114.37558492723386,30.456554309894294 L 114.37558492815376,30.45655431024753 L 114.37558492910395,30.456554310508512 L 114.37558493007523,30.45655431067471 L 114.37558493105814,30.45655431074451 L 114.37588937983038,30.456560889436023 L 114.37588938080734,30.456560889409364 L 114.37588938177703,30.456560889287466 L 114.37588938273018,30.456560889071497 L 114.37588938365771,30.456560888763512 L 114.37588938455075,30.45656088836646 L 114.37588938540075,30.456560887884134 L 114.37588938619962,30.45656088732113 L 114.3758893869397,30.45656088668284 L 114.37588938761395,30.456560885975353 L 114.37588938821592,30.456560885205427 L 114.37588938873986,30.456560884380416 L 114.37588938918077,30.4565608835082 L 114.37588938953442,30.456560882597113 L 114.37588938979745,30.456560881655854 L 114.37588938996734,30.456560880693413 L 114.37588939004247,30.456560879718985 L 114.37589171318707,30.456478128851312 z\" /><path fill-rule=\"evenodd\" fill=\"#66cc99\" stroke=\"#555555\" stroke-width=\"6.614655770057709e-05\" opacity=\"0.6\" d=\"M 114.37501326236942,30.45468327421745 L 114.375013262424,30.454683275193773 L 114.37501326257367,30.454683276160097 L 114.37501326281702,30.454683277107183 L 114.37501326315169,30.454683278025975 L 114.3750132635745,30.454683278907687 L 114.3750132640814,30.45468327974389 L 114.37501326466754,30.454683280526584 L 114.37501326532734,30.454683281248293 L 114.37501326605447,30.45468328190211 L 114.37501326684196,30.45468328248178 L 114.37501326768232,30.454683282981772 L 114.37501326856749,30.454683283397294 L 114.375013269489,30.45468328372438 L 114.37501327043807,30.454683283959895 L 114.37501327140559,30.454683284101595 L 114.37501327238233,30.454683284148118 L 114.37536235797623,30.45468282544895 L 114.37536235895935,30.454682825399207 L 114.37536235993281,30.454682825253048 L 114.3753623608872,30.454682825011886 L 114.37536236181323,30.454682824678063 L 114.37536236270196,30.454682824254807 L 114.37536236354478,30.454682823746225 L 114.37536236433351,30.454682823157242 L 114.37536236506051,30.454682822493567 L 114.37536236571874,30.454682821761626 L 114.37536236630181,30.454682820968518 L 114.37536236680408,30.454682820121928 L 114.37536236722069,30.454682819230054 L 114.3753623675476,30.454682818301546 L 114.37536236778162,30.454682817345393 L 114.3753623679205,30.454682816370862 L 114.3753623679629,30.4546828153874 L 114.37536157112633,30.45455337168689 L 114.37536157107247,30.454553370710208 L 114.37536157092346,30.45455336974346 L 114.37536157068071,30.454553368795896 L 114.37536157034654,30.45455336787658 L 114.37536156992415,30.454553366994315 L 114.37536156941758,30.454553366157533 L 114.37536156883169,30.45455336537425 L 114.37536156817207,30.45455336465195 L 114.37536156744504,30.454553363997555 L 114.37536156665755,30.454553363417318 L 114.37536156581714,30.454553362916798 L 114.37536156493185,30.454553362500775 L 114.37536156401015,30.45455336217324 L 114.37536156306086,30.454553361937318 L 114.37536156209306,30.45455336179527 L 114.37536156111602,30.454553361748456 L 114.37501237435099,30.454553728232906 L 114.37501237336721,30.454553728282452 L 114.37501237239307,30.454553728428547 L 114.37501237143805,30.45455372866977 L 114.37501237051139,30.45455372900378 L 114.37501236962207,30.45455372942734 L 114.37501236877874,30.454553729936336 L 114.37501236798958,30.454553730525834 L 114.37501236726226,30.45455373119011 L 114.37501236660381,30.454553731922722 L 114.37501236602063,30.45455373271656 L 114.37501236551837,30.45455373356392 L 114.37501236510192,30.45455373445658 L 114.37501236477533,30.454553735385886 L 114.37501236454173,30.454553736342813 L 114.37501236440342,30.45455373731808 L 114.37501236436172,30.454553738302224 L 114.37501326236942,30.45468327421745 z\" /></g></g></svg>"
      ],
      "text/plain": [
       "<shapely.geometry.multipolygon.MultiPolygon at 0x6e8527c8>"
      ]
     },
     "execution_count": 210,
     "metadata": {},
     "output_type": "execute_result"
    }
   ],
   "source": [
    "t_jianzhu"
   ]
  },
  {
   "cell_type": "code",
   "execution_count": null,
   "metadata": {},
   "outputs": [],
   "source": []
  },
  {
   "cell_type": "code",
   "execution_count": 208,
   "metadata": {
    "ExecuteTime": {
     "end_time": "2020-09-28T14:47:35.138520Z",
     "start_time": "2020-09-28T14:47:32.982747Z"
    }
   },
   "outputs": [],
   "source": [
    "mytools.dog()"
   ]
  },
  {
   "cell_type": "code",
   "execution_count": null,
   "metadata": {},
   "outputs": [],
   "source": []
  },
  {
   "cell_type": "markdown",
   "metadata": {},
   "source": [
    "### 导入建筑物 "
   ]
  },
  {
   "cell_type": "code",
   "execution_count": 197,
   "metadata": {
    "ExecuteTime": {
     "end_time": "2020-09-28T14:44:21.140886Z",
     "start_time": "2020-09-28T14:42:40.390092Z"
    }
   },
   "outputs": [],
   "source": [
    "#导入数据简单整理下格式\n",
    "wuhan_jianzhu = gpd.read_file('g:/1-规划/图层/湖北建筑/湖北建筑/湖北建筑/武汉.tab',encoding='gbk')\n",
    "wuhan_jianzhu_use = wuhan_jianzhu[['建筑物高度','geometry']].reset_index()\n",
    "wuhan_jianzhu_use = wuhan_jianzhu_use.to_crs({'init': 'epsg:4326'})"
   ]
  },
  {
   "cell_type": "code",
   "execution_count": 198,
   "metadata": {
    "ExecuteTime": {
     "end_time": "2020-09-28T14:44:27.000130Z",
     "start_time": "2020-09-28T14:44:26.994629Z"
    }
   },
   "outputs": [],
   "source": [
    "wuhan_jianzhu_use.columns = ['index_my', '建筑物高度', 'geometry']"
   ]
  },
  {
   "cell_type": "code",
   "execution_count": 199,
   "metadata": {
    "ExecuteTime": {
     "end_time": "2020-09-28T14:44:32.845372Z",
     "start_time": "2020-09-28T14:44:32.832871Z"
    }
   },
   "outputs": [],
   "source": [
    "wuhan_jianzhu_use['geo_jz'] =  wuhan_jianzhu_use['geometry']"
   ]
  },
  {
   "cell_type": "code",
   "execution_count": 202,
   "metadata": {
    "ExecuteTime": {
     "end_time": "2020-09-28T14:46:22.567805Z",
     "start_time": "2020-09-28T14:45:26.486184Z"
    }
   },
   "outputs": [],
   "source": [
    "#与小区覆盖区域求交集\n",
    "jz_sjoin = gpd.sjoin(shanxing,wuhan_jianzhu_use)"
   ]
  },
  {
   "cell_type": "code",
   "execution_count": 203,
   "metadata": {
    "ExecuteTime": {
     "end_time": "2020-09-28T14:46:29.281658Z",
     "start_time": "2020-09-28T14:46:29.183645Z"
    }
   },
   "outputs": [],
   "source": [
    "#匹配有交集的数据\n",
    "jz_sjoin_y = jz_sjoin[['小区CGI(*)','建筑物高度']].drop_duplicates('小区CGI(*)')\n",
    "shanxing_sjoin = shanxing.merge(jz_sjoin_y,how='left',on='小区CGI(*)',indicator=True)"
   ]
  },
  {
   "cell_type": "code",
   "execution_count": 204,
   "metadata": {
    "ExecuteTime": {
     "end_time": "2020-09-28T14:46:36.031015Z",
     "start_time": "2020-09-28T14:46:36.027514Z"
    }
   },
   "outputs": [],
   "source": [
    "# #与建筑有交集和与建筑无交集的数据\n",
    "# shanxing_both = shanxing_sjoin.loc[shanxing_sjoin['_merge']=='both']\n",
    "# shanxing_left_only = shanxing_sjoin.loc[shanxing_sjoin['_merge']=='left_only']"
   ]
  },
  {
   "cell_type": "code",
   "execution_count": 205,
   "metadata": {
    "ExecuteTime": {
     "end_time": "2020-09-28T14:46:43.010901Z",
     "start_time": "2020-09-28T14:46:42.965395Z"
    }
   },
   "outputs": [],
   "source": [
    "#过滤掉建筑高度低于基站-5米的\n",
    "jz_sjoin = jz_sjoin.loc[(jz_sjoin['建筑物高度']-jz_sjoin['天线挂高'])>=5]"
   ]
  },
  {
   "cell_type": "code",
   "execution_count": 206,
   "metadata": {
    "ExecuteTime": {
     "end_time": "2020-09-28T14:47:19.541040Z",
     "start_time": "2020-09-28T14:46:49.174184Z"
    },
    "scrolled": false
   },
   "outputs": [],
   "source": [
    "#有交集的部分求出遮挡后的扇形\n",
    "dict_sj = dict()\n",
    "for cgi,jianzhu in jz_sjoin.groupby('小区CGI(*)'):\n",
    "    lon=float(jianzhu.head(1)['RRU经度'].values)\n",
    "    lat=float(jianzhu.head(1)['RRU纬度'].values)\n",
    "    t_geo = list(jianzhu.head(1)['geometry'])\n",
    "    t_jianzhu = MultiPolygon([x for x in jianzhu['geo_jz']]).buffer(0.00000001)\n",
    "    res = t_geo[0].difference(t_jianzhu)\n",
    "    linshi_2 = []\n",
    "    for ll in res :\n",
    "        if (lon, lat) in [x for x in ll.coords[:]]:\n",
    "            linshi_2.append(ll.coords[-1])\n",
    "    dict_sj[cgi]=Polygon(linshi_2)"
   ]
  },
  {
   "cell_type": "code",
   "execution_count": null,
   "metadata": {
    "ExecuteTime": {
     "end_time": "2020-09-28T09:29:54.314603Z",
     "start_time": "2020-09-28T09:29:54.307602Z"
    },
    "scrolled": true
   },
   "outputs": [],
   "source": [
    "#转换成df\n",
    "df_16 = pd.DataFrame.from_dict(dict_sj,orient='index',columns=['jieguo']).reset_index()\n",
    "df_16.columns = ['小区CGI(*)', 'geo_xiuzeng']"
   ]
  },
  {
   "cell_type": "code",
   "execution_count": null,
   "metadata": {
    "ExecuteTime": {
     "end_time": "2020-09-28T09:31:27.624952Z",
     "start_time": "2020-09-28T09:31:27.600449Z"
    }
   },
   "outputs": [],
   "source": [
    "#修正好的\n",
    "shanxing_sjoin2 = shanxing_sjoin.merge(df_16,how='left',on='小区CGI(*)')"
   ]
  },
  {
   "cell_type": "code",
   "execution_count": null,
   "metadata": {
    "ExecuteTime": {
     "end_time": "2020-09-28T09:38:39.853838Z",
     "start_time": "2020-09-28T09:38:39.835336Z"
    }
   },
   "outputs": [],
   "source": [
    "#转换geometry\n",
    "shanxing_sjoin2_1 = gpd.GeoDataFrame(shanxing_sjoin2, geometry='geo_xiuzeng') "
   ]
  },
  {
   "cell_type": "code",
   "execution_count": null,
   "metadata": {
    "ExecuteTime": {
     "end_time": "2020-09-28T09:46:43.058697Z",
     "start_time": "2020-09-28T09:46:42.951184Z"
    }
   },
   "outputs": [],
   "source": [
    "#过滤出来有房子的\n",
    "shanxing_ok_fangzi = shanxing_sjoin2_1.loc[shanxing_sjoin2_1.is_ring==True]\n",
    "#过滤出来么有房子的\n",
    "shanxing_wu = shanxing_sjoin2_1.loc[shanxing_sjoin2_1.is_ring==False]"
   ]
  },
  {
   "cell_type": "code",
   "execution_count": null,
   "metadata": {
    "ExecuteTime": {
     "end_time": "2020-09-28T09:50:37.576477Z",
     "start_time": "2020-09-28T09:50:37.566476Z"
    }
   },
   "outputs": [],
   "source": [
    "#生成天线图的-多边形格式\n",
    "def jm_s(x,jd_dp,lon,lat):\n",
    "    jl = int(x['distance_use'])\n",
    "    lon = x[lon]\n",
    "    lat = x[lat]\n",
    "    fw = x['方位角']\n",
    "    jd_dp['distance_use'] = jd_dp['电平_正'].apply(lambda x: x/37.052 *jl)\n",
    "    jd_dp_use = jd_dp.loc[(jd_dp['角度']<=90) | (jd_dp['角度']>=270)]\n",
    "    jd_dp_use['角度'] = pd.to_numeric(jd_dp_use['角度'] )\n",
    "    jd_dp_use['角度2'] = jd_dp_use['角度'].apply(lambda x: x-0+fw if x-0+fw<360 else x-0+fw-360 )\n",
    "    points=[]\n",
    "    dict_use = dict()\n",
    "    for jiao , jl in zip(jd_dp_use['角度2'],jd_dp_use['distance_use']):\n",
    "        res = Geodesic.WGS84.Direct(lat, lon, jiao, jl)\n",
    "        if int(jiao)%10==0:\n",
    "            dict_use[jiao]=res['lon2'], res['lat2']\n",
    "        points.append((res['lon2'], res['lat2']))\n",
    "    points.append(points[0])\n",
    "    pol = Polygon(points)\n",
    "    return pol"
   ]
  },
  {
   "cell_type": "code",
   "execution_count": null,
   "metadata": {
    "ExecuteTime": {
     "end_time": "2020-09-28T09:52:15.247380Z",
     "start_time": "2020-09-28T09:50:38.820135Z"
    }
   },
   "outputs": [],
   "source": [
    "shanxing_wu['geo_xiuzeng'] = shanxing_wu.apply(lambda x:jm_s(x,mx_900,'RRU经度','RRU纬度'),axis=1)"
   ]
  },
  {
   "cell_type": "code",
   "execution_count": null,
   "metadata": {
    "ExecuteTime": {
     "end_time": "2020-09-28T09:52:48.877150Z",
     "start_time": "2020-09-28T09:52:48.871650Z"
    }
   },
   "outputs": [],
   "source": [
    "shanxing_wu = gpd.GeoDataFrame(shanxing_wu, geometry='geo_xiuzeng') \n",
    "#将两份数据合并\n",
    "mx_ok = shanxing_ok_fangzi.append(shanxing_wu)"
   ]
  },
  {
   "cell_type": "code",
   "execution_count": null,
   "metadata": {
    "ExecuteTime": {
     "end_time": "2020-09-28T09:54:29.270399Z",
     "start_time": "2020-09-28T09:54:29.265898Z"
    }
   },
   "outputs": [],
   "source": [
    "mx_ok.shape"
   ]
  },
  {
   "cell_type": "code",
   "execution_count": null,
   "metadata": {
    "ExecuteTime": {
     "end_time": "2020-09-28T10:11:07.296132Z",
     "start_time": "2020-09-28T10:11:06.435023Z"
    }
   },
   "outputs": [],
   "source": [
    "mx_ok.to_pickle('G:/1-规划/评估/覆盖空洞/20200928成功修正站高的影响/输出数据/shanxing.data')"
   ]
  },
  {
   "cell_type": "markdown",
   "metadata": {},
   "source": [
    "# 与地图匹配求出原始空洞"
   ]
  },
  {
   "cell_type": "code",
   "execution_count": null,
   "metadata": {
    "ExecuteTime": {
     "end_time": "2020-09-28T09:56:13.722663Z",
     "start_time": "2020-09-28T09:56:13.504135Z"
    }
   },
   "outputs": [],
   "source": [
    "tu= mytools.gisn.maps('武汉')\n",
    "tu = tu.loc[tu['区分公司名称']=='东新']"
   ]
  },
  {
   "cell_type": "code",
   "execution_count": null,
   "metadata": {
    "ExecuteTime": {
     "end_time": "2020-09-28T10:08:35.831398Z",
     "start_time": "2020-09-28T10:08:28.045410Z"
    }
   },
   "outputs": [],
   "source": [
    "mx_ok2 = mx_ok.dissolve(by='所属地区')"
   ]
  },
  {
   "cell_type": "code",
   "execution_count": null,
   "metadata": {
    "ExecuteTime": {
     "end_time": "2020-09-28T10:08:45.507627Z",
     "start_time": "2020-09-28T10:08:45.244094Z"
    }
   },
   "outputs": [],
   "source": [
    "kongd_2 = gpd.overlay(tu,mx_ok2,how='difference')"
   ]
  },
  {
   "cell_type": "code",
   "execution_count": null,
   "metadata": {
    "ExecuteTime": {
     "end_time": "2020-09-28T10:08:57.487648Z",
     "start_time": "2020-09-28T10:08:57.469146Z"
    }
   },
   "outputs": [],
   "source": [
    "kongd_2.explode().shape"
   ]
  },
  {
   "cell_type": "code",
   "execution_count": null,
   "metadata": {
    "ExecuteTime": {
     "end_time": "2020-09-28T10:10:49.038314Z",
     "start_time": "2020-09-28T10:10:48.600758Z"
    }
   },
   "outputs": [],
   "source": [
    "kongd_2.to_pickle('G:/1-规划/评估/覆盖空洞/20200928成功修正站高的影响/输出数据/kongd.data')"
   ]
  },
  {
   "cell_type": "markdown",
   "metadata": {},
   "source": [
    "### 达标场景划分大中小 "
   ]
  },
  {
   "cell_type": "code",
   "execution_count": null,
   "metadata": {
    "ExecuteTime": {
     "end_time": "2020-09-28T10:17:12.434499Z",
     "start_time": "2020-09-28T10:17:12.416496Z"
    }
   },
   "outputs": [],
   "source": [
    "kongd_dongxin = kongd_2.explode()"
   ]
  },
  {
   "cell_type": "code",
   "execution_count": null,
   "metadata": {
    "ExecuteTime": {
     "end_time": "2020-09-28T10:17:29.424156Z",
     "start_time": "2020-09-28T10:17:29.191627Z"
    }
   },
   "outputs": [],
   "source": [
    "kongd_dongxin[['lon','lat']] = kongd_dongxin.apply(lambda x:pd.Series(x['geometry'].centroid.coords[:][0]),axis=1)#"
   ]
  },
  {
   "cell_type": "code",
   "execution_count": null,
   "metadata": {
    "ExecuteTime": {
     "end_time": "2020-09-28T10:17:46.000761Z",
     "start_time": "2020-09-28T10:17:44.949128Z"
    }
   },
   "outputs": [],
   "source": [
    "result = mytools.gisn.points_coverage_merge(kongd_dongxin,'lon','lat')"
   ]
  },
  {
   "cell_type": "code",
   "execution_count": null,
   "metadata": {
    "ExecuteTime": {
     "end_time": "2020-09-28T10:17:56.861640Z",
     "start_time": "2020-09-28T10:17:56.855639Z"
    }
   },
   "outputs": [],
   "source": [
    "#添加id编号\n",
    "result_id = result.reset_index(drop=True)\n",
    "result['id'] = [ 'kd_{}'.format(str(name)) for name in result_id.index+1]\n",
    "result['制式'] = 'FDD1800'\n",
    "result.loc[result['区域类型']=='农村','制式']='FDD900'\n",
    "result = mytools.gisn.changjing_distance(result,'区域类型','制式')\n",
    "result = mytools.gisn.add_area(result,'面积')\n",
    "result['标准面积'] = np.pi* result['distance']* result['distance']\n",
    "result['空洞面积比例'] = result['面积']/result['标准面积']"
   ]
  },
  {
   "cell_type": "code",
   "execution_count": null,
   "metadata": {
    "ExecuteTime": {
     "end_time": "2020-09-28T10:19:51.175656Z",
     "start_time": "2020-09-28T10:19:51.171656Z"
    }
   },
   "outputs": [],
   "source": [
    "def fuck_data(x):\n",
    "    if x['空洞面积比例']>=1:\n",
    "        return '大'\n",
    "    elif x['空洞面积比例']>=1/3:\n",
    "        return '中'\n",
    "    elif x['空洞面积比例']>=1/6:\n",
    "        return '小'\n",
    "    else:\n",
    "        return '微'"
   ]
  },
  {
   "cell_type": "code",
   "execution_count": null,
   "metadata": {
    "ExecuteTime": {
     "end_time": "2020-09-28T10:19:53.267922Z",
     "start_time": "2020-09-28T10:19:53.171910Z"
    }
   },
   "outputs": [],
   "source": [
    "result['空洞级别'] = result.apply(fuck_data,axis=1)"
   ]
  },
  {
   "cell_type": "code",
   "execution_count": null,
   "metadata": {
    "ExecuteTime": {
     "end_time": "2020-09-28T10:20:21.680030Z",
     "start_time": "2020-09-28T10:20:21.654527Z"
    }
   },
   "outputs": [],
   "source": [
    "result.to_pickle('G:/1-规划/评估/覆盖空洞/20200928成功修正站高的影响/输出数据/kongd大中小.data')"
   ]
  },
  {
   "cell_type": "markdown",
   "metadata": {},
   "source": [
    "# 生成kml图层"
   ]
  },
  {
   "cell_type": "code",
   "execution_count": 4,
   "metadata": {
    "ExecuteTime": {
     "end_time": "2020-09-28T12:22:19.263245Z",
     "start_time": "2020-09-28T12:22:19.231241Z"
    }
   },
   "outputs": [],
   "source": [
    "import math,simplekml"
   ]
  },
  {
   "cell_type": "code",
   "execution_count": 5,
   "metadata": {
    "ExecuteTime": {
     "end_time": "2020-09-28T12:22:19.548781Z",
     "start_time": "2020-09-28T12:22:19.546281Z"
    }
   },
   "outputs": [],
   "source": [
    "out_file = 'G:/1-规划/评估/覆盖空洞/20200928成功修正站高的影响/输出数据/'"
   ]
  },
  {
   "cell_type": "markdown",
   "metadata": {},
   "source": [
    "## 制作空洞"
   ]
  },
  {
   "cell_type": "code",
   "execution_count": null,
   "metadata": {
    "ExecuteTime": {
     "end_time": "2020-09-28T10:21:36.630047Z",
     "start_time": "2020-09-28T10:21:36.625047Z"
    }
   },
   "outputs": [],
   "source": [
    "result.columns"
   ]
  },
  {
   "cell_type": "code",
   "execution_count": null,
   "metadata": {
    "ExecuteTime": {
     "end_time": "2020-09-28T10:21:48.023994Z",
     "start_time": "2020-09-28T10:21:48.020994Z"
    }
   },
   "outputs": [],
   "source": [
    "use_columns=list(result.columns)"
   ]
  },
  {
   "cell_type": "markdown",
   "metadata": {},
   "source": [
    "设置变量"
   ]
  },
  {
   "cell_type": "code",
   "execution_count": null,
   "metadata": {
    "ExecuteTime": {
     "end_time": "2020-09-28T10:22:47.552553Z",
     "start_time": "2020-09-28T10:22:47.549553Z"
    }
   },
   "outputs": [],
   "source": [
    "#- 变量 - 设置经纬度和参与循环的字段   \n",
    "lon,lat,use_id,city = ['lon', 'lat','id','区分公司名称']"
   ]
  },
  {
   "cell_type": "code",
   "execution_count": null,
   "metadata": {
    "ExecuteTime": {
     "end_time": "2020-09-28T10:22:49.558808Z",
     "start_time": "2020-09-28T10:22:49.555308Z"
    }
   },
   "outputs": [],
   "source": [
    "#- 颜色 - 按照字符设置颜色\n",
    "colour_data = '空洞级别'\n",
    "colour_dic = {'大':'red','中':'yellow','小':'blue','微':'green','other':'white'}"
   ]
  },
  {
   "cell_type": "code",
   "execution_count": null,
   "metadata": {
    "ExecuteTime": {
     "end_time": "2020-09-28T10:22:51.569563Z",
     "start_time": "2020-09-28T10:22:51.566063Z"
    }
   },
   "outputs": [],
   "source": [
    "#- 标注 -添加标注列\n",
    "de_col = use_columns\n",
    "de_col.remove('geometry')"
   ]
  },
  {
   "cell_type": "code",
   "execution_count": null,
   "metadata": {
    "ExecuteTime": {
     "end_time": "2020-09-28T10:22:53.682332Z",
     "start_time": "2020-09-28T10:22:53.679331Z"
    }
   },
   "outputs": [],
   "source": [
    "#- 视野 - 在1400*900的分辨率下  view = 70米对应：125公里（差不多能看到武汉主城区）  700对应1200公里（差不多能看到湖北省）\n",
    "view = 50000"
   ]
  },
  {
   "cell_type": "markdown",
   "metadata": {},
   "source": [
    "整理数据"
   ]
  },
  {
   "cell_type": "code",
   "execution_count": null,
   "metadata": {
    "ExecuteTime": {
     "end_time": "2020-09-28T10:24:54.399161Z",
     "start_time": "2020-09-28T10:24:54.347654Z"
    }
   },
   "outputs": [],
   "source": [
    "data_use = result.copy()\n",
    "#添加标注列\n",
    "data_use['description']=''\n",
    "for inde_1, name_1 in enumerate(de_col):\n",
    "    data_use['linshi']=de_col[inde_1]+' : '+data_use[de_col[inde_1]].astype('str')+'\\n'\n",
    "    data_use['description'] = data_use['description']+data_use['linshi']\n",
    "    data_use.drop(columns='linshi')"
   ]
  },
  {
   "cell_type": "code",
   "execution_count": null,
   "metadata": {
    "ExecuteTime": {
     "end_time": "2020-09-28T10:24:56.422418Z",
     "start_time": "2020-09-28T10:24:56.396914Z"
    }
   },
   "outputs": [],
   "source": [
    "data_sectors= data_use.copy()\n",
    "#添加lod的polygon\n",
    "data_sectors['lod_dis']= view\n",
    "data_sectors['lon1'] = data_sectors[lon] + data_sectors['lod_dis']*np.sin(45* np.pi/180)*180/( np.pi * 6371229 * np.cos(data_sectors[lat] * np.pi/180))\n",
    "data_sectors['lat1'] = data_sectors[lat] + data_sectors['lod_dis']*np.cos(45* np.pi/180) / ( np.pi * 6371229 / 180)\n",
    "data_sectors['lon2'] = data_sectors[lon] + data_sectors['lod_dis']*np.sin(225* np.pi/180)*180/( np.pi * 6371229 * np.cos(data_sectors[lat] * np.pi/180))\n",
    "data_sectors['lat2'] = data_sectors[lat] + data_sectors['lod_dis']*np.cos(225* np.pi/180) / ( np.pi * 6371229 / 180)\n",
    "data_sectors['list_data']=[([lon_1, lat_1,lon_2, lat_2]) \n",
    " for lon_1, lat_1,lon_2, lat_2 in zip(data_sectors['lon1'],data_sectors['lat1'],data_sectors['lon2'],data_sectors['lat2'])]"
   ]
  },
  {
   "cell_type": "code",
   "execution_count": null,
   "metadata": {
    "ExecuteTime": {
     "end_time": "2020-09-28T10:24:58.497181Z",
     "start_time": "2020-09-28T10:24:58.480179Z"
    }
   },
   "outputs": [],
   "source": [
    "df = data_sectors.copy()\n",
    "#添加颜色列-文字\n",
    "df['colour']='white'\n",
    "for name_col in colour_dic:\n",
    "    df.loc[df[colour_data]==name_col,'colour'] =colour_dic[name_col]"
   ]
  },
  {
   "cell_type": "code",
   "execution_count": null,
   "metadata": {
    "ExecuteTime": {
     "end_time": "2020-09-28T10:25:00.593947Z",
     "start_time": "2020-09-28T10:25:00.588447Z"
    }
   },
   "outputs": [],
   "source": [
    "#最终使用的列\n",
    "df_use = df.reindex(columns=[city,use_id,colour_data, 'list_data','colour','description','geometry'])   "
   ]
  },
  {
   "cell_type": "markdown",
   "metadata": {},
   "source": [
    "生成图层"
   ]
  },
  {
   "cell_type": "code",
   "execution_count": null,
   "metadata": {
    "ExecuteTime": {
     "end_time": "2020-09-28T10:26:12.539083Z",
     "start_time": "2020-09-28T10:26:12.527582Z"
    }
   },
   "outputs": [],
   "source": [
    "def make_kml(data_t,name='红色栅格',cc='ff0000ff',xiankuan=0,namea='grid_id',list_data = 'list_data',description='description',minlodpixels=1):\n",
    "    print(data_t.shape,cc,xiankuan,namea,list_data,description,minlodpixels)\n",
    "    style = simplekml.Style()\n",
    "    style.linestyle.color = simplekml.Color.changealphaint(250, cc)  # 最终线条上色\n",
    "    style.polystyle.outline = xiankuan\n",
    "    style.polystyle.color = simplekml.Color.changealphaint(250, cc )  # 最终形状上色\n",
    "    lod1 = simplekml.Lod(minlodpixels=minlodpixels, maxlodpixels=-1,minfadeextent=None, maxfadeextent=None)\n",
    "    grid_red = kml.newfolder(name=name)\n",
    "    for grid,list_data ,description_str,geo in zip(data_t[namea],data_t[list_data],data_t[description],data_t['geometry']):\n",
    "#         pol_r = grid_red.newpolygon(name=grid,outerboundaryis=list_data[0])#栅格使用\n",
    "        pol_r = grid_red.newpolygon(name=grid,outerboundaryis=list(geo.exterior.coords),innerboundaryis=[po.coords for po in list(geo.interiors)])\n",
    "        pol_r.description = description_str\n",
    "        pol_r.altitudemode = simplekml.AltitudeMode.clamptoground\n",
    "        lon_dd,lat_dd,lon1_dd,lat1_dd = list_data\n",
    "        latlonaltbox = simplekml.LatLonAltBox(east =lon_dd ,north=lat_dd ,south=lat1_dd ,west=lon1_dd,\n",
    "                                              minaltitude=None, maxaltitude=None, altitudemode=None)\n",
    "        pol_r.region.latlonaltbox = latlonaltbox\n",
    "        pol_r.region.lod = lod1\n",
    "        pol_r.style=style"
   ]
  },
  {
   "cell_type": "code",
   "execution_count": null,
   "metadata": {
    "ExecuteTime": {
     "end_time": "2020-09-28T10:26:43.096464Z",
     "start_time": "2020-09-28T10:26:40.531638Z"
    }
   },
   "outputs": [],
   "source": [
    "# for name_f in f:#如果是多个文件就使用这个，一个文件不用\n",
    "#     grid_t = pd.read_pickle(name_f)\n",
    "#     grid_groupby = grid_t.groupby(['所属地区'])\n",
    "for cquxian,data_quxian in df_use.groupby(city):\n",
    "    for name_region,data_region in data_quxian.groupby(colour_data):\n",
    "        kml = simplekml.Kml()\n",
    "    #         if not os.path.exists('G:/1-规划/评估/覆盖空洞/2020年6月/2-程序输出/修正覆盖半径/各个地市覆盖图层/{}'.format(name_region)):\n",
    "    #             os.makedirs('G:/1-规划/评估/覆盖空洞/2020年6月/2-程序输出/修正覆盖半径/各个地市覆盖图层/{}'.format(name_region))\n",
    "        file = '{}{}空洞_{}_{}.kmz'.format(out_file,cquxian,name_region,data_region.shape[0])\n",
    "        print('{}开始'.format(file))\n",
    "        for name_c,data_t in data_region.groupby('colour'):#red:ff0000ff,green:ff008000,yellow:ff00ffff,white:ffffffff,bule:ffff0000\n",
    "            if 'red' ==name_c:\n",
    "                make_kml(data_t,name='红色{}个'.format(data_t.shape[0]),cc='ff0000ff',namea=use_id,minlodpixels=50,xiankuan=1)\n",
    "            elif 'blue' == name_c:\n",
    "                make_kml(data_t,name='蓝色{}个'.format(data_t.shape[0]),cc='ffff0000',namea=use_id,minlodpixels=50,xiankuan=1)\n",
    "            elif 'yellow' == name_c:\n",
    "                make_kml(data_t,name='黄色{}个'.format(data_t.shape[0]),cc='ff00ffff',namea=use_id,minlodpixels=50,xiankuan=1)\n",
    "            elif 'white' == name_c:\n",
    "                make_kml(data_t,name='白色{}个'.format(data_t.shape[0]),cc='ffffffff',namea=use_id,minlodpixels=50,xiankuan=1)\n",
    "            elif 'green'  == name_c:\n",
    "                make_kml(data_t,name='绿色{}个'.format(data_t.shape[0]),cc='ff008000',namea=use_id,minlodpixels=50,xiankuan=1)\n",
    "            kml.save(file) if 'kml' in file else kml.savekmz(file, False)\n",
    "        print('生成图层成功存放在{}'.format(file))\n",
    "mytools.dog()"
   ]
  },
  {
   "cell_type": "markdown",
   "metadata": {},
   "source": [
    "## 制作多边形-天线方向图"
   ]
  },
  {
   "cell_type": "code",
   "execution_count": null,
   "metadata": {
    "ExecuteTime": {
     "end_time": "2020-09-28T10:50:30.776756Z",
     "start_time": "2020-09-28T10:50:30.769755Z"
    }
   },
   "outputs": [],
   "source": [
    "data_use = shanxing_ok_fangzi[['小区CGI(*)', '小区中文名', '所属地区', 'RRU经度', 'RRU纬度', '天线挂高', '方位角', '工作频段',\n",
    "       '归属区县', '厂家名称', '区域类型', 'distance', '覆盖模型距离', '30米覆盖模型距离', '使用覆盖半径',\n",
    "       'distance_use', '建筑物高度', '_merge', 'geo_xiuzeng']]"
   ]
  },
  {
   "cell_type": "code",
   "execution_count": null,
   "metadata": {
    "ExecuteTime": {
     "end_time": "2020-09-28T10:50:33.295576Z",
     "start_time": "2020-09-28T10:50:33.291075Z"
    }
   },
   "outputs": [],
   "source": [
    "data_use.columns = ['小区CGI(*)', '小区中文名', '所属地区', 'RRU经度', 'RRU纬度', '天线挂高', '方位角', '工作频段',\n",
    "       '归属区县', '厂家名称', '区域类型', 'distance', '覆盖模型距离', '30米覆盖模型距离', '使用覆盖半径',\n",
    "       'distance_use', '建筑物高度', '_merge', 'geometry']"
   ]
  },
  {
   "cell_type": "code",
   "execution_count": null,
   "metadata": {
    "ExecuteTime": {
     "end_time": "2020-09-28T10:50:35.709382Z",
     "start_time": "2020-09-28T10:50:35.703882Z"
    }
   },
   "outputs": [],
   "source": [
    "use_columns = list(data_use.columns)"
   ]
  },
  {
   "cell_type": "markdown",
   "metadata": {},
   "source": [
    "设置变量"
   ]
  },
  {
   "cell_type": "code",
   "execution_count": null,
   "metadata": {
    "ExecuteTime": {
     "end_time": "2020-09-28T10:50:38.017175Z",
     "start_time": "2020-09-28T10:50:38.012675Z"
    }
   },
   "outputs": [],
   "source": [
    "#- 变量 - 设置经纬度和参与循环的字段\n",
    "lon,lat,use_id,city = ['RRU经度','RRU纬度','小区中文名','归属区县']"
   ]
  },
  {
   "cell_type": "code",
   "execution_count": null,
   "metadata": {
    "ExecuteTime": {
     "end_time": "2020-09-28T10:50:40.463486Z",
     "start_time": "2020-09-28T10:50:40.459485Z"
    }
   },
   "outputs": [],
   "source": [
    "#- 标注 -添加标注列\n",
    "de_col = use_columns\n",
    "de_col.remove('geometry')"
   ]
  },
  {
   "cell_type": "code",
   "execution_count": null,
   "metadata": {
    "ExecuteTime": {
     "end_time": "2020-09-28T10:50:42.699270Z",
     "start_time": "2020-09-28T10:50:42.695769Z"
    }
   },
   "outputs": [],
   "source": [
    "#- 视野 - 在1400*900的分辨率下  view = 70米对应：125公里（差不多能看到武汉主城区）  700对应1200公里（差不多能看到湖北省）\n",
    "view = 50000"
   ]
  },
  {
   "cell_type": "markdown",
   "metadata": {},
   "source": [
    "整理数据"
   ]
  },
  {
   "cell_type": "code",
   "execution_count": null,
   "metadata": {
    "ExecuteTime": {
     "end_time": "2020-09-28T10:50:45.147081Z",
     "start_time": "2020-09-28T10:50:44.923552Z"
    }
   },
   "outputs": [],
   "source": [
    "#添加标注列\n",
    "data_use['description']=''\n",
    "for inde_1, name_1 in enumerate(de_col):\n",
    "    data_use['linshi']=de_col[inde_1]+' : '+data_use[de_col[inde_1]].astype('str')+'\\n'\n",
    "    data_use['description'] = data_use['description']+data_use['linshi']\n",
    "    data_use.drop(columns='linshi')"
   ]
  },
  {
   "cell_type": "code",
   "execution_count": null,
   "metadata": {
    "ExecuteTime": {
     "end_time": "2020-09-28T10:50:47.569388Z",
     "start_time": "2020-09-28T10:50:47.543885Z"
    }
   },
   "outputs": [],
   "source": [
    "data_sectors= data_use.copy()\n",
    "#添加lod的polygon\n",
    "data_sectors['lod_dis']= view\n",
    "data_sectors['lon1'] = data_sectors[lon] + data_sectors['lod_dis']*np.sin(45* np.pi/180)*180/( np.pi * 6371229 * np.cos(data_sectors[lat] * np.pi/180))\n",
    "data_sectors['lat1'] = data_sectors[lat] + data_sectors['lod_dis']*np.cos(45* np.pi/180) / ( np.pi * 6371229 / 180)\n",
    "data_sectors['lon2'] = data_sectors[lon] + data_sectors['lod_dis']*np.sin(225* np.pi/180)*180/( np.pi * 6371229 * np.cos(data_sectors[lat] * np.pi/180))\n",
    "data_sectors['lat2'] = data_sectors[lat] + data_sectors['lod_dis']*np.cos(225* np.pi/180) / ( np.pi * 6371229 / 180)\n",
    "data_sectors['list_data']=[([lon_1, lat_1,lon_2, lat_2]) \n",
    " for lon_1, lat_1,lon_2, lat_2 in zip(data_sectors['lon1'],data_sectors['lat1'],data_sectors['lon2'],data_sectors['lat2'])]"
   ]
  },
  {
   "cell_type": "code",
   "execution_count": null,
   "metadata": {
    "ExecuteTime": {
     "end_time": "2020-09-28T10:50:49.938189Z",
     "start_time": "2020-09-28T10:50:49.926688Z"
    }
   },
   "outputs": [],
   "source": [
    "df = data_sectors.copy()\n",
    "#添加颜色列-文字\n",
    "df['colour']='white'"
   ]
  },
  {
   "cell_type": "code",
   "execution_count": null,
   "metadata": {
    "ExecuteTime": {
     "end_time": "2020-09-28T10:50:52.530518Z",
     "start_time": "2020-09-28T10:50:52.525018Z"
    }
   },
   "outputs": [],
   "source": [
    "df.columns"
   ]
  },
  {
   "cell_type": "code",
   "execution_count": null,
   "metadata": {
    "ExecuteTime": {
     "end_time": "2020-09-28T10:50:54.881817Z",
     "start_time": "2020-09-28T10:50:54.868815Z"
    }
   },
   "outputs": [],
   "source": [
    "#最终使用的列\n",
    "df_use = df.reindex(columns=[city,use_id, 'list_data','colour','description','geometry'])   "
   ]
  },
  {
   "cell_type": "markdown",
   "metadata": {},
   "source": [
    "生成图层"
   ]
  },
  {
   "cell_type": "code",
   "execution_count": null,
   "metadata": {
    "ExecuteTime": {
     "end_time": "2020-09-28T10:50:57.203112Z",
     "start_time": "2020-09-28T10:50:57.191110Z"
    }
   },
   "outputs": [],
   "source": [
    "#完整的多边形\n",
    "def make_kml(data_t,name='红色栅格',cc='ff0000ff',xiankuan=0,namea='grid_id',list_data = 'list_data',description='description',minlodpixels=1):\n",
    "    print(data_t.shape,cc,xiankuan,namea,list_data,description,minlodpixels)\n",
    "    style = simplekml.Style()\n",
    "    style.linestyle.color = simplekml.Color.changealphaint(220, cc)  # 最终线条上色\n",
    "    style.polystyle.outline = xiankuan\n",
    "    style.polystyle.color = simplekml.Color.changealphaint(125, cc )  # 最终形状上色\n",
    "    lod1 = simplekml.Lod(minlodpixels=minlodpixels, maxlodpixels=-1,minfadeextent=None, maxfadeextent=None)\n",
    "    grid_red = kml.newfolder(name=name)\n",
    "    for grid,list_data ,description_str,geo in zip(data_t[namea],data_t[list_data],data_t[description],data_t['geometry']):\n",
    "#         pol_r = grid_red.newpolygon(name=grid,outerboundaryis=list_data[0])#栅格使用\n",
    "        pol_r = grid_red.newmultigeometry(name=grid)\n",
    "        pol_r.newpolygon(outerboundaryis=list(geo.exterior.coords),innerboundaryis=[po.coords for po in list(geo.interiors)])\n",
    "        pol_r.description = description_str\n",
    "        pol_r.altitudemode = simplekml.AltitudeMode.clamptoground\n",
    "        lon_dd,lat_dd,lon1_dd,lat1_dd = list_data\n",
    "        latlonaltbox = simplekml.LatLonAltBox(east =lon_dd ,north=lat_dd ,south=lat1_dd ,west=lon1_dd,\n",
    "                                              minaltitude=None, maxaltitude=None, altitudemode=None)\n",
    "        pol_r.region.latlonaltbox = latlonaltbox\n",
    "        pol_r.region.lod = lod1\n",
    "        pol_r.style=style"
   ]
  },
  {
   "cell_type": "code",
   "execution_count": null,
   "metadata": {
    "ExecuteTime": {
     "end_time": "2020-09-28T10:51:03.397898Z",
     "start_time": "2020-09-28T10:50:59.499903Z"
    }
   },
   "outputs": [],
   "source": [
    "for name_region,data_region in df_use.groupby(city):\n",
    "    kml = simplekml.Kml()\n",
    "    file = '{}覆盖区域_{}_{}.kmz'.format(out_file,name_region,data_region.shape[0])\n",
    "    for name_c,data_t in data_region.groupby('colour'):#red:ff0000ff,green:ff008000,yellow:ff00ffff,white:ffffffff,bule:ffff0000\n",
    "        if 'red' ==name_c:\n",
    "            make_kml(data_t,name='红色{}个'.format(data_t.shape[0]),cc='ff0000ff',namea=use_id,minlodpixels=50,xiankuan=1)\n",
    "        elif 'blue' == name_c:\n",
    "            make_kml(data_t,name='蓝色{}个'.format(data_t.shape[0]),cc='ffff0000',namea=use_id,minlodpixels=50,xiankuan=1)\n",
    "        elif 'yellow' == name_c:\n",
    "            make_kml(data_t,name='黄色{}个'.format(data_t.shape[0]),cc='ff00ffff',namea=use_id,minlodpixels=50,xiankuan=1)\n",
    "        elif 'white' == name_c:\n",
    "            make_kml(data_t,name='白色{}个'.format(data_t.shape[0]),cc='ffffffff',namea=use_id,minlodpixels=50,xiankuan=1)\n",
    "        elif 'green'  == name_c:\n",
    "            make_kml(data_t,name='绿色{}个'.format(data_t.shape[0]),cc='ff008000',namea=use_id,minlodpixels=50,xiankuan=1)\n",
    "        kml.save(file) if 'kml' in file else kml.savekmz(file, False)\n",
    "    print('生成图层成功存放在{}'.format(file))\n",
    "mytools.dog()"
   ]
  },
  {
   "cell_type": "markdown",
   "metadata": {},
   "source": [
    "# 建筑物做kml"
   ]
  },
  {
   "cell_type": "code",
   "execution_count": null,
   "metadata": {
    "ExecuteTime": {
     "end_time": "2020-09-28T12:21:37.300416Z",
     "start_time": "2020-09-28T12:21:36.380299Z"
    }
   },
   "outputs": [],
   "source": [
    "jz_sjoin.to_pickle('G:/1-规划/评估/覆盖空洞/20200928成功修正站高的影响/输出数据/高的建筑物.data')"
   ]
  },
  {
   "cell_type": "code",
   "execution_count": 75,
   "metadata": {
    "ExecuteTime": {
     "end_time": "2020-09-28T12:28:32.103090Z",
     "start_time": "2020-09-28T12:28:31.870560Z"
    }
   },
   "outputs": [],
   "source": [
    "jz_sjoin = pd.read_pickle('G:/1-规划/评估/覆盖空洞/20200928成功修正站高的影响/输出数据/高的建筑物.data')"
   ]
  },
  {
   "cell_type": "code",
   "execution_count": 76,
   "metadata": {
    "ExecuteTime": {
     "end_time": "2020-09-28T12:28:33.152723Z",
     "start_time": "2020-09-28T12:28:33.140221Z"
    }
   },
   "outputs": [],
   "source": [
    "jz_sjoin_tu = jz_sjoin[['index_my','建筑物高度','geo_jz']].drop_duplicates('index_my')"
   ]
  },
  {
   "cell_type": "code",
   "execution_count": 77,
   "metadata": {
    "ExecuteTime": {
     "end_time": "2020-09-28T12:28:34.150850Z",
     "start_time": "2020-09-28T12:28:34.147349Z"
    }
   },
   "outputs": [],
   "source": [
    "jz_sjoin_tu.columns = ['index_my', '建筑物高度', 'geometry']"
   ]
  },
  {
   "cell_type": "code",
   "execution_count": 78,
   "metadata": {
    "ExecuteTime": {
     "end_time": "2020-09-28T12:28:35.093969Z",
     "start_time": "2020-09-28T12:28:35.088969Z"
    }
   },
   "outputs": [],
   "source": [
    "wuhan_jianzhu_use_2 = gpd.GeoDataFrame(jz_sjoin_tu, crs={\"init\": \"epsg:4326\"}, geometry='geometry') "
   ]
  },
  {
   "cell_type": "code",
   "execution_count": 79,
   "metadata": {
    "ExecuteTime": {
     "end_time": "2020-09-28T12:28:36.041590Z",
     "start_time": "2020-09-28T12:28:36.036089Z"
    }
   },
   "outputs": [],
   "source": [
    "wuhan_jianzhu_use_2 = wuhan_jianzhu_use_2.reset_index(drop=True)"
   ]
  },
  {
   "cell_type": "code",
   "execution_count": 80,
   "metadata": {
    "ExecuteTime": {
     "end_time": "2020-09-28T12:28:36.980209Z",
     "start_time": "2020-09-28T12:28:36.974208Z"
    }
   },
   "outputs": [],
   "source": [
    "def polygon3d(x):\n",
    "    pol = x['geometry']\n",
    "    c = x['建筑物高度']\n",
    "    xy= list(pol.exterior.coords)\n",
    "    if not pol.has_z:\n",
    "        res =list(zip(*xy))\n",
    "        res.append([float(c)]*len(xy))\n",
    "        return Polygon(list(zip(*res)))\n",
    "    else:\n",
    "        res =list(zip(*xy))\n",
    "        res.pop()\n",
    "        res.append([float(height)]*len(xy))\n",
    "        return Polygon(list(zip(*res)))"
   ]
  },
  {
   "cell_type": "code",
   "execution_count": 81,
   "metadata": {
    "ExecuteTime": {
     "end_time": "2020-09-28T12:28:38.060346Z",
     "start_time": "2020-09-28T12:28:38.053845Z"
    }
   },
   "outputs": [],
   "source": [
    "def geo_geogao(x):\n",
    "    res = []\n",
    "    pol = x['geometry']\n",
    "    c = x['建筑物高度']\n",
    "    for x in pol.exterior.coords[:]:\n",
    "        a,b =x[:]\n",
    "        res_p = (a,b,c)\n",
    "        res.append(res_p)\n",
    "    return Polygon(res)"
   ]
  },
  {
   "cell_type": "code",
   "execution_count": 82,
   "metadata": {
    "ExecuteTime": {
     "end_time": "2020-09-28T12:28:39.135983Z",
     "start_time": "2020-09-28T12:28:39.040971Z"
    }
   },
   "outputs": [],
   "source": [
    "wuhan_jianzhu_use_3 = wuhan_jianzhu_use_2.explode()"
   ]
  },
  {
   "cell_type": "code",
   "execution_count": 83,
   "metadata": {
    "ExecuteTime": {
     "end_time": "2020-09-28T12:28:40.420146Z",
     "start_time": "2020-09-28T12:28:40.077102Z"
    }
   },
   "outputs": [],
   "source": [
    "wuhan_jianzhu_use_4 = wuhan_jianzhu_use_3.loc[wuhan_jianzhu_use_3.is_ring==True]"
   ]
  },
  {
   "cell_type": "code",
   "execution_count": 84,
   "metadata": {
    "ExecuteTime": {
     "end_time": "2020-09-28T12:28:41.848327Z",
     "start_time": "2020-09-28T12:28:41.324260Z"
    }
   },
   "outputs": [],
   "source": [
    "wuhan_jianzhu_use_4['geometry'] = wuhan_jianzhu_use_4.buffer(0.00000001)"
   ]
  },
  {
   "cell_type": "code",
   "execution_count": 85,
   "metadata": {
    "ExecuteTime": {
     "end_time": "2020-09-28T12:28:44.604677Z",
     "start_time": "2020-09-28T12:28:42.749441Z"
    }
   },
   "outputs": [],
   "source": [
    "wuhan_jianzhu_use_4['geometry'] = wuhan_jianzhu_use_4.apply(polygon3d ,axis=1)"
   ]
  },
  {
   "cell_type": "code",
   "execution_count": 86,
   "metadata": {
    "ExecuteTime": {
     "end_time": "2020-09-28T12:28:45.494790Z",
     "start_time": "2020-09-28T12:28:45.491790Z"
    }
   },
   "outputs": [],
   "source": [
    "# wuhan_jianzhu_use_4['geometry'] = wuhan_jianzhu_use_4.apply(geo_geogao ,axis=1)"
   ]
  },
  {
   "cell_type": "code",
   "execution_count": 87,
   "metadata": {
    "ExecuteTime": {
     "end_time": "2020-09-28T12:28:46.377402Z",
     "start_time": "2020-09-28T12:28:46.373902Z"
    }
   },
   "outputs": [],
   "source": [
    "wuhan_jianzhu_use_4.columns = ['index_my', 'hhh', 'geometry']"
   ]
  },
  {
   "cell_type": "code",
   "execution_count": 88,
   "metadata": {
    "ExecuteTime": {
     "end_time": "2020-09-28T12:28:47.301519Z",
     "start_time": "2020-09-28T12:28:47.293018Z"
    }
   },
   "outputs": [],
   "source": [
    "data_use = wuhan_jianzhu_use_4.copy()"
   ]
  },
  {
   "cell_type": "code",
   "execution_count": 89,
   "metadata": {
    "ExecuteTime": {
     "end_time": "2020-09-28T12:28:48.219136Z",
     "start_time": "2020-09-28T12:28:48.216136Z"
    }
   },
   "outputs": [],
   "source": [
    "use_columns = list(data_use.columns)"
   ]
  },
  {
   "cell_type": "code",
   "execution_count": 90,
   "metadata": {
    "ExecuteTime": {
     "end_time": "2020-09-28T12:28:49.212262Z",
     "start_time": "2020-09-28T12:28:49.206761Z"
    }
   },
   "outputs": [],
   "source": [
    "data_use['city'] = '东新楼宇'\n",
    "data_use['city2'] = '东新楼宇'"
   ]
  },
  {
   "cell_type": "code",
   "execution_count": 91,
   "metadata": {
    "ExecuteTime": {
     "end_time": "2020-09-28T12:28:52.935235Z",
     "start_time": "2020-09-28T12:28:50.120877Z"
    }
   },
   "outputs": [],
   "source": [
    "data_use[['lon','lat']] = data_use.apply(lambda x:pd.Series(x['geometry'].centroid.coords[:][0]),axis=1)#"
   ]
  },
  {
   "cell_type": "markdown",
   "metadata": {},
   "source": [
    "设置变量"
   ]
  },
  {
   "cell_type": "code",
   "execution_count": 643,
   "metadata": {
    "ExecuteTime": {
     "end_time": "2020-09-28T12:15:26.223796Z",
     "start_time": "2020-09-28T12:15:26.216795Z"
    }
   },
   "outputs": [
    {
     "data": {
      "text/plain": [
       "Index(['index_my', '建筑物高度', 'geometry'], dtype='object')"
      ]
     },
     "execution_count": 643,
     "metadata": {},
     "output_type": "execute_result"
    }
   ],
   "source": [
    "wuhan_jianzhu_use_4.columns"
   ]
  },
  {
   "cell_type": "code",
   "execution_count": 92,
   "metadata": {
    "ExecuteTime": {
     "end_time": "2020-09-28T12:28:53.989869Z",
     "start_time": "2020-09-28T12:28:53.982368Z"
    }
   },
   "outputs": [],
   "source": [
    "data_use = data_use.reset_index(drop=True)"
   ]
  },
  {
   "cell_type": "code",
   "execution_count": 104,
   "metadata": {
    "ExecuteTime": {
     "end_time": "2020-09-28T12:29:19.891658Z",
     "start_time": "2020-09-28T12:29:19.887657Z"
    }
   },
   "outputs": [],
   "source": [
    "#- 变量 - 设置经纬度和参与循环的字段\n",
    "lon,lat,use_id,city = ['lon','lat','city','city2']"
   ]
  },
  {
   "cell_type": "code",
   "execution_count": 105,
   "metadata": {
    "ExecuteTime": {
     "end_time": "2020-09-28T12:29:21.055806Z",
     "start_time": "2020-09-28T12:29:21.040804Z"
    }
   },
   "outputs": [
    {
     "ename": "ValueError",
     "evalue": "list.remove(x): x not in list",
     "output_type": "error",
     "traceback": [
      "\u001b[1;31m---------------------------------------------------------------------------\u001b[0m",
      "\u001b[1;31mValueError\u001b[0m                                Traceback (most recent call last)",
      "\u001b[1;32m<ipython-input-105-01cf9523126e>\u001b[0m in \u001b[0;36m<module>\u001b[1;34m\u001b[0m\n\u001b[0;32m      1\u001b[0m \u001b[1;31m#- 标注 -添加标注列\u001b[0m\u001b[1;33m\u001b[0m\u001b[1;33m\u001b[0m\u001b[1;33m\u001b[0m\u001b[0m\n\u001b[0;32m      2\u001b[0m \u001b[0mde_col\u001b[0m \u001b[1;33m=\u001b[0m \u001b[0muse_columns\u001b[0m\u001b[1;33m\u001b[0m\u001b[1;33m\u001b[0m\u001b[0m\n\u001b[1;32m----> 3\u001b[1;33m \u001b[0mde_col\u001b[0m\u001b[1;33m.\u001b[0m\u001b[0mremove\u001b[0m\u001b[1;33m(\u001b[0m\u001b[1;34m'geometry'\u001b[0m\u001b[1;33m)\u001b[0m\u001b[1;33m\u001b[0m\u001b[1;33m\u001b[0m\u001b[0m\n\u001b[0m",
      "\u001b[1;31mValueError\u001b[0m: list.remove(x): x not in list"
     ]
    }
   ],
   "source": [
    "#- 标注 -添加标注列\n",
    "de_col = use_columns\n",
    "de_col.remove('geometry')"
   ]
  },
  {
   "cell_type": "code",
   "execution_count": null,
   "metadata": {
    "ExecuteTime": {
     "end_time": "2020-09-28T12:29:21.070808Z",
     "start_time": "2020-09-28T12:29:20.262Z"
    }
   },
   "outputs": [],
   "source": [
    "#- 视野 - 在1400*900的分辨率下  view = 70米对应：125公里（差不多能看到武汉主城区）  700对应1200公里（差不多能看到湖北省）\n",
    "view = 50000"
   ]
  },
  {
   "cell_type": "markdown",
   "metadata": {},
   "source": [
    "整理数据"
   ]
  },
  {
   "cell_type": "code",
   "execution_count": null,
   "metadata": {
    "ExecuteTime": {
     "end_time": "2020-09-28T12:29:21.079809Z",
     "start_time": "2020-09-28T12:29:20.578Z"
    }
   },
   "outputs": [],
   "source": [
    "#添加标注列\n",
    "data_use['description']=''\n",
    "for inde_1, name_1 in enumerate(de_col):\n",
    "    data_use['linshi']=de_col[inde_1]+' : '+data_use[de_col[inde_1]].astype('str')+'\\n'\n",
    "    data_use['description'] = data_use['description']+data_use['linshi']\n",
    "    data_use.drop(columns='linshi')"
   ]
  },
  {
   "cell_type": "code",
   "execution_count": null,
   "metadata": {
    "ExecuteTime": {
     "end_time": "2020-09-28T12:29:21.089810Z",
     "start_time": "2020-09-28T12:29:20.727Z"
    }
   },
   "outputs": [],
   "source": [
    "data_sectors= data_use.copy()\n",
    "#添加lod的polygon\n",
    "data_sectors['lod_dis']= view\n",
    "data_sectors['lon1'] = data_sectors[lon] + data_sectors['lod_dis']*np.sin(45* np.pi/180)*180/( np.pi * 6371229 * np.cos(data_sectors[lat] * np.pi/180))\n",
    "data_sectors['lat1'] = data_sectors[lat] + data_sectors['lod_dis']*np.cos(45* np.pi/180) / ( np.pi * 6371229 / 180)\n",
    "data_sectors['lon2'] = data_sectors[lon] + data_sectors['lod_dis']*np.sin(225* np.pi/180)*180/( np.pi * 6371229 * np.cos(data_sectors[lat] * np.pi/180))\n",
    "data_sectors['lat2'] = data_sectors[lat] + data_sectors['lod_dis']*np.cos(225* np.pi/180) / ( np.pi * 6371229 / 180)\n",
    "data_sectors['list_data']=[([lon_1, lat_1,lon_2, lat_2]) \n",
    " for lon_1, lat_1,lon_2, lat_2 in zip(data_sectors['lon1'],data_sectors['lat1'],data_sectors['lon2'],data_sectors['lat2'])]"
   ]
  },
  {
   "cell_type": "code",
   "execution_count": null,
   "metadata": {
    "ExecuteTime": {
     "end_time": "2020-09-28T12:29:21.100811Z",
     "start_time": "2020-09-28T12:29:20.883Z"
    }
   },
   "outputs": [],
   "source": [
    "df = data_sectors.copy()\n",
    "#添加颜色列-文字\n",
    "df['colour']='white'"
   ]
  },
  {
   "cell_type": "code",
   "execution_count": null,
   "metadata": {
    "ExecuteTime": {
     "end_time": "2020-09-28T12:29:21.110313Z",
     "start_time": "2020-09-28T12:29:21.016Z"
    }
   },
   "outputs": [],
   "source": [
    "df.columns"
   ]
  },
  {
   "cell_type": "code",
   "execution_count": 106,
   "metadata": {
    "ExecuteTime": {
     "end_time": "2020-09-28T12:29:22.348970Z",
     "start_time": "2020-09-28T12:29:22.343469Z"
    }
   },
   "outputs": [],
   "source": [
    "#最终使用的列\n",
    "df_use = df.reindex(columns=[city,use_id, 'list_data','colour','description','geometry'])   "
   ]
  },
  {
   "cell_type": "code",
   "execution_count": 107,
   "metadata": {
    "ExecuteTime": {
     "end_time": "2020-09-28T12:29:22.388475Z",
     "start_time": "2020-09-28T12:29:22.352470Z"
    }
   },
   "outputs": [
    {
     "data": {
      "text/html": [
       "<div>\n",
       "<style scoped>\n",
       "    .dataframe tbody tr th:only-of-type {\n",
       "        vertical-align: middle;\n",
       "    }\n",
       "\n",
       "    .dataframe tbody tr th {\n",
       "        vertical-align: top;\n",
       "    }\n",
       "\n",
       "    .dataframe thead th {\n",
       "        text-align: right;\n",
       "    }\n",
       "</style>\n",
       "<table border=\"1\" class=\"dataframe\">\n",
       "  <thead>\n",
       "    <tr style=\"text-align: right;\">\n",
       "      <th></th>\n",
       "      <th>city2</th>\n",
       "      <th>city</th>\n",
       "      <th>list_data</th>\n",
       "      <th>colour</th>\n",
       "      <th>description</th>\n",
       "      <th>geometry</th>\n",
       "    </tr>\n",
       "  </thead>\n",
       "  <tbody>\n",
       "    <tr>\n",
       "      <th>0</th>\n",
       "      <td>东新楼宇</td>\n",
       "      <td>东新楼宇</td>\n",
       "      <td>[114.7928310954752, 30.736760931495905, 114.05...</td>\n",
       "      <td>white</td>\n",
       "      <td>index_my : 284423\\nhhh : 13.0\\n</td>\n",
       "      <td>POLYGON Z ((114.42362 30.41879 13.00000, 114.4...</td>\n",
       "    </tr>\n",
       "    <tr>\n",
       "      <th>1</th>\n",
       "      <td>东新楼宇</td>\n",
       "      <td>东新楼宇</td>\n",
       "      <td>[114.79245073966834, 30.737510279748257, 114.0...</td>\n",
       "      <td>white</td>\n",
       "      <td>index_my : 284428\\nhhh : 12.0\\n</td>\n",
       "      <td>POLYGON Z ((114.42363 30.41956 12.00000, 114.4...</td>\n",
       "    </tr>\n",
       "    <tr>\n",
       "      <th>2</th>\n",
       "      <td>东新楼宇</td>\n",
       "      <td>东新楼宇</td>\n",
       "      <td>[114.79425643967686, 30.735732409021047, 114.0...</td>\n",
       "      <td>white</td>\n",
       "      <td>index_my : 284417\\nhhh : 13.0\\n</td>\n",
       "      <td>POLYGON Z ((114.42573 30.41780 13.00000, 114.4...</td>\n",
       "    </tr>\n",
       "    <tr>\n",
       "      <th>3</th>\n",
       "      <td>东新楼宇</td>\n",
       "      <td>东新楼宇</td>\n",
       "      <td>[114.79362047498982, 30.736082544118013, 114.0...</td>\n",
       "      <td>white</td>\n",
       "      <td>index_my : 284421\\nhhh : 13.0\\n</td>\n",
       "      <td>POLYGON Z ((114.42440 30.41814 13.00000, 114.4...</td>\n",
       "    </tr>\n",
       "    <tr>\n",
       "      <th>4</th>\n",
       "      <td>东新楼宇</td>\n",
       "      <td>东新楼宇</td>\n",
       "      <td>[114.75991122311679, 30.82661944708117, 114.02...</td>\n",
       "      <td>white</td>\n",
       "      <td>index_my : 238269\\nhhh : 37.0\\n</td>\n",
       "      <td>POLYGON Z ((114.39159 30.50883 37.00000, 114.3...</td>\n",
       "    </tr>\n",
       "    <tr>\n",
       "      <th>...</th>\n",
       "      <td>...</td>\n",
       "      <td>...</td>\n",
       "      <td>...</td>\n",
       "      <td>...</td>\n",
       "      <td>...</td>\n",
       "      <td>...</td>\n",
       "    </tr>\n",
       "    <tr>\n",
       "      <th>7501</th>\n",
       "      <td>东新楼宇</td>\n",
       "      <td>东新楼宇</td>\n",
       "      <td>[114.74522985953578, 30.827079850888357, 114.0...</td>\n",
       "      <td>white</td>\n",
       "      <td>index_my : 237166\\nhhh : 10.0\\n</td>\n",
       "      <td>POLYGON Z ((114.37605 30.50922 10.00000, 114.3...</td>\n",
       "    </tr>\n",
       "    <tr>\n",
       "      <th>7502</th>\n",
       "      <td>东新楼宇</td>\n",
       "      <td>东新楼宇</td>\n",
       "      <td>[114.74540914993115, 30.827228582283812, 114.0...</td>\n",
       "      <td>white</td>\n",
       "      <td>index_my : 237086\\nhhh : 20.0\\n</td>\n",
       "      <td>POLYGON Z ((114.37606 30.50932 20.00000, 114.3...</td>\n",
       "    </tr>\n",
       "    <tr>\n",
       "      <th>7503</th>\n",
       "      <td>东新楼宇</td>\n",
       "      <td>东新楼宇</td>\n",
       "      <td>[114.74466623493794, 30.827290637738546, 114.0...</td>\n",
       "      <td>white</td>\n",
       "      <td>index_my : 236946\\nhhh : 23.0\\n</td>\n",
       "      <td>POLYGON Z ((114.37541 30.50929 23.00000, 114.3...</td>\n",
       "    </tr>\n",
       "    <tr>\n",
       "      <th>7504</th>\n",
       "      <td>东新楼宇</td>\n",
       "      <td>东新楼宇</td>\n",
       "      <td>[114.74481153292815, 30.825986585327126, 114.0...</td>\n",
       "      <td>white</td>\n",
       "      <td>index_my : 236951\\nhhh : 17.0\\n</td>\n",
       "      <td>POLYGON Z ((114.37553 30.50807 17.00000, 114.3...</td>\n",
       "    </tr>\n",
       "    <tr>\n",
       "      <th>7505</th>\n",
       "      <td>东新楼宇</td>\n",
       "      <td>东新楼宇</td>\n",
       "      <td>[114.74479166204134, 30.82625182798816, 114.00...</td>\n",
       "      <td>white</td>\n",
       "      <td>index_my : 236950\\nhhh : 17.0\\n</td>\n",
       "      <td>POLYGON Z ((114.37553 30.50834 17.00000, 114.3...</td>\n",
       "    </tr>\n",
       "  </tbody>\n",
       "</table>\n",
       "<p>7506 rows × 6 columns</p>\n",
       "</div>"
      ],
      "text/plain": [
       "     city2  city                                          list_data colour  \\\n",
       "0     东新楼宇  东新楼宇  [114.7928310954752, 30.736760931495905, 114.05...  white   \n",
       "1     东新楼宇  东新楼宇  [114.79245073966834, 30.737510279748257, 114.0...  white   \n",
       "2     东新楼宇  东新楼宇  [114.79425643967686, 30.735732409021047, 114.0...  white   \n",
       "3     东新楼宇  东新楼宇  [114.79362047498982, 30.736082544118013, 114.0...  white   \n",
       "4     东新楼宇  东新楼宇  [114.75991122311679, 30.82661944708117, 114.02...  white   \n",
       "...    ...   ...                                                ...    ...   \n",
       "7501  东新楼宇  东新楼宇  [114.74522985953578, 30.827079850888357, 114.0...  white   \n",
       "7502  东新楼宇  东新楼宇  [114.74540914993115, 30.827228582283812, 114.0...  white   \n",
       "7503  东新楼宇  东新楼宇  [114.74466623493794, 30.827290637738546, 114.0...  white   \n",
       "7504  东新楼宇  东新楼宇  [114.74481153292815, 30.825986585327126, 114.0...  white   \n",
       "7505  东新楼宇  东新楼宇  [114.74479166204134, 30.82625182798816, 114.00...  white   \n",
       "\n",
       "                          description  \\\n",
       "0     index_my : 284423\\nhhh : 13.0\\n   \n",
       "1     index_my : 284428\\nhhh : 12.0\\n   \n",
       "2     index_my : 284417\\nhhh : 13.0\\n   \n",
       "3     index_my : 284421\\nhhh : 13.0\\n   \n",
       "4     index_my : 238269\\nhhh : 37.0\\n   \n",
       "...                               ...   \n",
       "7501  index_my : 237166\\nhhh : 10.0\\n   \n",
       "7502  index_my : 237086\\nhhh : 20.0\\n   \n",
       "7503  index_my : 236946\\nhhh : 23.0\\n   \n",
       "7504  index_my : 236951\\nhhh : 17.0\\n   \n",
       "7505  index_my : 236950\\nhhh : 17.0\\n   \n",
       "\n",
       "                                               geometry  \n",
       "0     POLYGON Z ((114.42362 30.41879 13.00000, 114.4...  \n",
       "1     POLYGON Z ((114.42363 30.41956 12.00000, 114.4...  \n",
       "2     POLYGON Z ((114.42573 30.41780 13.00000, 114.4...  \n",
       "3     POLYGON Z ((114.42440 30.41814 13.00000, 114.4...  \n",
       "4     POLYGON Z ((114.39159 30.50883 37.00000, 114.3...  \n",
       "...                                                 ...  \n",
       "7501  POLYGON Z ((114.37605 30.50922 10.00000, 114.3...  \n",
       "7502  POLYGON Z ((114.37606 30.50932 20.00000, 114.3...  \n",
       "7503  POLYGON Z ((114.37541 30.50929 23.00000, 114.3...  \n",
       "7504  POLYGON Z ((114.37553 30.50807 17.00000, 114.3...  \n",
       "7505  POLYGON Z ((114.37553 30.50834 17.00000, 114.3...  \n",
       "\n",
       "[7506 rows x 6 columns]"
      ]
     },
     "execution_count": 107,
     "metadata": {},
     "output_type": "execute_result"
    }
   ],
   "source": [
    "df_use"
   ]
  },
  {
   "cell_type": "markdown",
   "metadata": {},
   "source": [
    "生成图层"
   ]
  },
  {
   "cell_type": "code",
   "execution_count": 114,
   "metadata": {
    "ExecuteTime": {
     "end_time": "2020-09-28T12:42:42.401564Z",
     "start_time": "2020-09-28T12:42:42.388562Z"
    }
   },
   "outputs": [],
   "source": [
    "#复杂的多边形\n",
    "def make_kml(data_t,name='红色栅格',cc='ff0000ff',xiankuan=0,namea='grid_id',list_data = 'list_data',description='description',minlodpixels=1):\n",
    "    print(data_t.shape,cc,xiankuan,namea,list_data,description,minlodpixels)\n",
    "    style = simplekml.Style()\n",
    "    style.linestyle.color = simplekml.Color.changealphaint(200, cc)  # 最终线条上色\n",
    "    style.polystyle.outline = xiankuan\n",
    "    style.polystyle.color = simplekml.Color.changealphaint(150, cc )  # 最终形状上色\n",
    "    lod1 = simplekml.Lod(minlodpixels=minlodpixels, maxlodpixels=-1,minfadeextent=None, maxfadeextent=None)\n",
    "    grid_red = kml.newfolder(name=name)\n",
    "    for grid,list_data ,description_str,geo in zip(data_t[namea],data_t[list_data],data_t[description],data_t['geometry']):\n",
    "#         print(grid,list_data ,description_str,geo)\n",
    "        if geo.type == 'MultiPolygon':\n",
    "            pol_r = grid_red.newmultigeometry(name=grid)\n",
    "            for geo_t in geo: # Generate longitude values\n",
    "                pol_r.newpolygon(name=grid,outerboundaryis=list(geo_t.exterior.coords),innerboundaryis=[po.coords for po in list(geo_t.interiors)])\n",
    "        else:\n",
    "            pol_r = grid_red.newpolygon(name=grid,outerboundaryis=list(geo.exterior.coords),innerboundaryis=[po.coords for po in list(geo.interiors)])\n",
    "        pol_r.description = description_str\n",
    "#         pol_r.altitudemode = simplekml.AltitudeMode.clamptoground\n",
    "        pol_r.altitudemode = simplekml.AltitudeMode.relativetoground\n",
    "        pol_r.extrude = 1\n",
    "        lon_dd,lat_dd,lon1_dd,lat1_dd = list_data\n",
    "        latlonaltbox = simplekml.LatLonAltBox(east =lon_dd ,north=lat_dd ,south=lat1_dd ,west=lon1_dd,\n",
    "                                              minaltitude=None, maxaltitude=None, altitudemode=None)\n",
    "        pol_r.region.latlonaltbox = latlonaltbox\n",
    "        pol_r.region.lod = lod1\n",
    "        pol_r.style=style"
   ]
  },
  {
   "cell_type": "code",
   "execution_count": 115,
   "metadata": {
    "ExecuteTime": {
     "end_time": "2020-09-28T12:42:52.295820Z",
     "start_time": "2020-09-28T12:42:43.431695Z"
    }
   },
   "outputs": [
    {
     "name": "stdout",
     "output_type": "stream",
     "text": [
      "白色\n",
      "(7506, 6) ff800080 1 city list_data description 50\n",
      "生成图层成功存放在G:/1-规划/评估/覆盖空洞/20200928成功修正站高的影响/输出数据/东新楼宇_7506.kmz\n"
     ]
    }
   ],
   "source": [
    "for name_region,data_region in df_use.groupby(city):\n",
    "    kml = simplekml.Kml()\n",
    "    file = '{}{}_{}.kmz'.format(out_file,name_region,data_region.shape[0])\n",
    "    for name_c,data_t in data_region.groupby('colour'):#red:ff0000ff,green:ff008000,yellow:ff00ffff,white:ffffffff,bule:ffff0000\n",
    "        if 'red' ==name_c:\n",
    "            make_kml(data_t,name='红色{}个'.format(data_t.shape[0]),cc='ff0000ff',namea=use_id,minlodpixels=50,xiankuan=1)\n",
    "        elif 'blue' == name_c:\n",
    "            make_kml(data_t,name='蓝色{}个'.format(data_t.shape[0]),cc='ffff0000',namea=use_id,minlodpixels=50,xiankuan=1)\n",
    "        elif 'yellow' == name_c:\n",
    "            make_kml(data_t,name='黄色{}个'.format(data_t.shape[0]),cc='ff00ffff',namea=use_id,minlodpixels=50,xiankuan=1)\n",
    "        elif 'white' == name_c:\n",
    "            print('白色')\n",
    "            make_kml(data_t,name='白色{}个'.format(data_t.shape[0]),cc='ff800080',namea=use_id,minlodpixels=50,xiankuan=1)#紫色ff800080,ffffffff\n",
    "        elif 'green'  == name_c:\n",
    "            make_kml(data_t,name='绿色{}个'.format(data_t.shape[0]),cc='ff008000',namea=use_id,minlodpixels=50,xiankuan=1)\n",
    "        kml.save(file) if 'kml' in file else kml.savekmz(file, False)\n",
    "    print('生成图层成功存放在{}'.format(file))\n",
    "mytools.dog()"
   ]
  },
  {
   "cell_type": "code",
   "execution_count": null,
   "metadata": {},
   "outputs": [],
   "source": []
  },
  {
   "cell_type": "code",
   "execution_count": 37,
   "metadata": {
    "ExecuteTime": {
     "end_time": "2020-09-28T12:25:39.359654Z",
     "start_time": "2020-09-28T12:25:39.355653Z"
    }
   },
   "outputs": [
    {
     "data": {
      "text/plain": [
       "'index_my : 284423\\nhhh : 13.0\\n'"
      ]
     },
     "execution_count": 37,
     "metadata": {},
     "output_type": "execute_result"
    }
   ],
   "source": [
    "df_use['description'][0]"
   ]
  },
  {
   "cell_type": "code",
   "execution_count": null,
   "metadata": {},
   "outputs": [],
   "source": []
  },
  {
   "cell_type": "code",
   "execution_count": null,
   "metadata": {},
   "outputs": [],
   "source": []
  },
  {
   "cell_type": "code",
   "execution_count": null,
   "metadata": {},
   "outputs": [],
   "source": []
  }
 ],
 "metadata": {
  "kernelspec": {
   "display_name": "Python 3",
   "language": "python",
   "name": "python3"
  },
  "language_info": {
   "codemirror_mode": {
    "name": "ipython",
    "version": 3
   },
   "file_extension": ".py",
   "mimetype": "text/x-python",
   "name": "python",
   "nbconvert_exporter": "python",
   "pygments_lexer": "ipython3",
   "version": "3.7.4"
  },
  "toc": {
   "base_numbering": 1,
   "nav_menu": {},
   "number_sections": true,
   "sideBar": true,
   "skip_h1_title": false,
   "title_cell": "Table of Contents",
   "title_sidebar": "Contents",
   "toc_cell": false,
   "toc_position": {
    "height": "calc(100% - 180px)",
    "left": "10px",
    "top": "150px",
    "width": "219px"
   },
   "toc_section_display": true,
   "toc_window_display": true
  },
  "varInspector": {
   "cols": {
    "lenName": 16,
    "lenType": 16,
    "lenVar": 40
   },
   "kernels_config": {
    "python": {
     "delete_cmd_postfix": "",
     "delete_cmd_prefix": "del ",
     "library": "var_list.py",
     "varRefreshCmd": "print(var_dic_list())"
    },
    "r": {
     "delete_cmd_postfix": ") ",
     "delete_cmd_prefix": "rm(",
     "library": "var_list.r",
     "varRefreshCmd": "cat(var_dic_list()) "
    }
   },
   "types_to_exclude": [
    "module",
    "function",
    "builtin_function_or_method",
    "instance",
    "_Feature"
   ],
   "window_display": false
  }
 },
 "nbformat": 4,
 "nbformat_minor": 2
}
