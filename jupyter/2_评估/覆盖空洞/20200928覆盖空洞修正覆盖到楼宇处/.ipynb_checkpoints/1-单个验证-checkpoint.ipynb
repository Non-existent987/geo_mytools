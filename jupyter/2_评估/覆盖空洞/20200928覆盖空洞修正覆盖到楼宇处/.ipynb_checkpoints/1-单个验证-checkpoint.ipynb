{
 "cells": [
  {
   "cell_type": "code",
   "execution_count": null,
   "metadata": {
    "ExecuteTime": {
     "end_time": "2020-09-28T05:39:15.081244Z",
     "start_time": "2020-09-28T05:39:13.301518Z"
    }
   },
   "outputs": [],
   "source": [
    "import pandas as pd\n",
    "import mytools,os\n",
    "from geographiclib.geodesic import Geodesic\n",
    "from shapely.geometry import Polygon,Point,LineString,MultiPolygon,MultiLineString \n",
    "import geopandas as gpd\n",
    "from shapely.ops import unary_union"
   ]
  },
  {
   "cell_type": "markdown",
   "metadata": {},
   "source": [
    "###  导入工参数据"
   ]
  },
  {
   "cell_type": "code",
   "execution_count": 2,
   "metadata": {
    "ExecuteTime": {
     "end_time": "2020-09-28T05:40:47.075426Z",
     "start_time": "2020-09-28T05:40:42.228810Z"
    }
   },
   "outputs": [
    {
     "name": "stdout",
     "output_type": "stream",
     "text": [
      "设置变量通用名\n"
     ]
    }
   ],
   "source": [
    "#导入工参数据\n",
    "gongcan = pd.read_csv(open('G:/1-规划/评估/覆盖空洞/20200712第四版本/1-基础数据/ltejizhan20200616&微站_合并.csv',encoding='gbk'),usecols=[\n",
    "    '小区CGI(*)','所属地区','小区中文名','RRU经度', 'RRU纬度','天线挂高','工作频段', '方位角','归属区县','厂家名称' ])\n",
    "#设置变量通用名\n",
    "print('设置变量通用名')\n",
    "id = '小区CGI(*)'\n",
    "lon = 'RRU经度'\n",
    "lat = 'RRU纬度'\n",
    "zhishi = '工作频段'\n",
    "fw = '方位角'\n",
    "\n",
    "gongcan = gongcan.loc[(gongcan['RRU经度']>108)&\n",
    "            (gongcan['RRU经度']<117)&\n",
    "            (gongcan['RRU纬度']>28)&\n",
    "            (gongcan['RRU纬度']<34)&\n",
    "           (gongcan['方位角'].notnull())]"
   ]
  },
  {
   "cell_type": "code",
   "execution_count": 3,
   "metadata": {
    "ExecuteTime": {
     "end_time": "2020-09-28T05:40:48.810146Z",
     "start_time": "2020-09-28T05:40:48.248575Z"
    }
   },
   "outputs": [],
   "source": [
    "#只要宏站\n",
    "gongcan['小区中文名'] = gongcan['小区中文名'].fillna('无')\n",
    "gongcan = gongcan.loc[~gongcan['小区中文名'].str.contains('W-')]\n",
    "gongcan = gongcan.loc[~gongcan['小区中文名'].str.contains('R')]\n",
    "# gongcan = gongcan.loc[~gongcan['小区中文名'].str.contains('M-')]"
   ]
  },
  {
   "cell_type": "code",
   "execution_count": 4,
   "metadata": {
    "ExecuteTime": {
     "end_time": "2020-09-28T05:41:00.225095Z",
     "start_time": "2020-09-28T05:40:59.954061Z"
    }
   },
   "outputs": [
    {
     "data": {
      "text/plain": [
       "(18096, 10)"
      ]
     },
     "execution_count": 4,
     "metadata": {},
     "output_type": "execute_result"
    }
   ],
   "source": [
    "#替换无效中文名\n",
    "gongcan['小区中文名'] = gongcan['小区中文名'].fillna('无')\n",
    "#统计微站的数量\n",
    "gongcan.loc[gongcan['小区中文名'].str.contains('M-')].shape"
   ]
  },
  {
   "cell_type": "code",
   "execution_count": 5,
   "metadata": {
    "ExecuteTime": {
     "end_time": "2020-09-28T05:42:54.169064Z",
     "start_time": "2020-09-28T05:42:21.982977Z"
    }
   },
   "outputs": [],
   "source": [
    "#打标场景\n",
    "gongcan = mytools.gisn.points_coverage_merge(gongcan,lon,lat)\n",
    "#添加覆盖距离\n",
    "gongcan_loc_juli = mytools.gisn.changjing_distance(gongcan,'区域类型',zhishi)"
   ]
  },
  {
   "cell_type": "code",
   "execution_count": null,
   "metadata": {},
   "outputs": [],
   "source": [
    "# #修正农村的覆盖标准距离-可不用\n",
    "# gongcan_loc_juli.loc[(gongcan_loc_juli['区域类型']=='农村')&(gongcan_loc_juli['工作频段']=='FDD900'),'distance']=1800"
   ]
  },
  {
   "cell_type": "code",
   "execution_count": 6,
   "metadata": {
    "ExecuteTime": {
     "end_time": "2020-09-28T05:42:54.219571Z",
     "start_time": "2020-09-28T05:42:54.201569Z"
    }
   },
   "outputs": [
    {
     "data": {
      "text/html": [
       "<div>\n",
       "<style scoped>\n",
       "    .dataframe tbody tr th:only-of-type {\n",
       "        vertical-align: middle;\n",
       "    }\n",
       "\n",
       "    .dataframe tbody tr th {\n",
       "        vertical-align: top;\n",
       "    }\n",
       "\n",
       "    .dataframe thead th {\n",
       "        text-align: right;\n",
       "    }\n",
       "</style>\n",
       "<table border=\"1\" class=\"dataframe\">\n",
       "  <thead>\n",
       "    <tr style=\"text-align: right;\">\n",
       "      <th></th>\n",
       "      <th>小区CGI(*)</th>\n",
       "      <th>小区中文名</th>\n",
       "      <th>所属地区</th>\n",
       "      <th>RRU经度</th>\n",
       "      <th>RRU纬度</th>\n",
       "      <th>天线挂高</th>\n",
       "      <th>方位角</th>\n",
       "      <th>工作频段</th>\n",
       "      <th>归属区县</th>\n",
       "      <th>厂家名称</th>\n",
       "      <th>区域类型</th>\n",
       "      <th>distance</th>\n",
       "    </tr>\n",
       "  </thead>\n",
       "  <tbody>\n",
       "    <tr>\n",
       "      <th>0</th>\n",
       "      <td>460-00-52246-2</td>\n",
       "      <td>公安群力-ELH-2</td>\n",
       "      <td>荆州</td>\n",
       "      <td>112.14735</td>\n",
       "      <td>30.12405</td>\n",
       "      <td>42.0</td>\n",
       "      <td>157.0</td>\n",
       "      <td>F</td>\n",
       "      <td>公安县</td>\n",
       "      <td>爱立信</td>\n",
       "      <td>农村</td>\n",
       "      <td>1000.0</td>\n",
       "    </tr>\n",
       "  </tbody>\n",
       "</table>\n",
       "</div>"
      ],
      "text/plain": [
       "         小区CGI(*)       小区中文名 所属地区      RRU经度     RRU纬度  天线挂高    方位角 工作频段  \\\n",
       "0  460-00-52246-2  公安群力-ELH-2   荆州  112.14735  30.12405  42.0  157.0    F   \n",
       "\n",
       "  归属区县 厂家名称 区域类型  distance  \n",
       "0  公安县  爱立信   农村    1000.0  "
      ]
     },
     "execution_count": 6,
     "metadata": {},
     "output_type": "execute_result"
    }
   ],
   "source": [
    "gongcan_loc_juli.head(1)"
   ]
  },
  {
   "cell_type": "code",
   "execution_count": 7,
   "metadata": {
    "ExecuteTime": {
     "end_time": "2020-09-28T05:42:54.261076Z",
     "start_time": "2020-09-28T05:42:54.253575Z"
    }
   },
   "outputs": [
    {
     "data": {
      "text/plain": [
       "(328065, 12)"
      ]
     },
     "execution_count": 7,
     "metadata": {},
     "output_type": "execute_result"
    }
   ],
   "source": [
    "gongcan_loc_juli.shape"
   ]
  },
  {
   "cell_type": "markdown",
   "metadata": {},
   "source": [
    "### 覆盖模型修正"
   ]
  },
  {
   "cell_type": "code",
   "execution_count": 8,
   "metadata": {
    "ExecuteTime": {
     "end_time": "2020-09-28T05:44:04.731025Z",
     "start_time": "2020-09-28T05:44:04.433987Z"
    }
   },
   "outputs": [
    {
     "name": "stderr",
     "output_type": "stream",
     "text": [
      "C:\\ProgramData\\Anaconda3\\lib\\site-packages\\pandas\\core\\series.py:679: RuntimeWarning: divide by zero encountered in log10\n",
      "  result = getattr(ufunc, method)(*inputs, **kwargs)\n"
     ]
    }
   ],
   "source": [
    "# 将不同频段和挂高带入公式输出‘使用覆盖半径距离’\n",
    "gongcan_loc_juli['工作频段'] = gongcan_loc_juli['工作频段'].apply(lambda x: 900 if x=='FDD900' else 1800)\n",
    "gd,band= map(np.log10, (gongcan_loc_juli['天线挂高'],gongcan_loc_juli['工作频段']))\n",
    "gongcan_loc_juli['覆盖模型距离'] = np.power(10,\n",
    "                                      (148 - (46.3+33.9*band-13.82*gd-(-3.81))- 3)/(44.9-6.55*gd))*1000\n",
    "gongcan_loc_juli['30米覆盖模型距离'] = np.power(10,\n",
    "                                      (148 - (46.3+33.9*band-13.82*np.log10(30)-(-3.81))- 3)/(44.9-6.55*np.log10(30)))*1000\n",
    "gongcan_loc_juli['使用覆盖半径'] = gongcan_loc_juli['覆盖模型距离'] /gongcan_loc_juli['30米覆盖模型距离']*gongcan_loc_juli['distance']"
   ]
  },
  {
   "cell_type": "code",
   "execution_count": 9,
   "metadata": {
    "ExecuteTime": {
     "end_time": "2020-09-28T05:44:44.492574Z",
     "start_time": "2020-09-28T05:44:44.465570Z"
    }
   },
   "outputs": [],
   "source": [
    "#限定最大和最小范围\n",
    "def fc_ik(x):\n",
    "    if x['区域类型']=='主城区':\n",
    "        if x['工作频段']==900:\n",
    "            if x['使用覆盖半径']<200:\n",
    "                return 200\n",
    "            elif x['使用覆盖半径']>400:\n",
    "                return 400\n",
    "            else:\n",
    "                return x['distance']\n",
    "        else:\n",
    "            if x['使用覆盖半径']<150:\n",
    "                return 150\n",
    "            elif x['使用覆盖半径']>350:\n",
    "                return 350\n",
    "            else:\n",
    "                return x['distance']\n",
    "    elif  x['区域类型']=='县城':\n",
    "        if x['工作频段']==900:\n",
    "            if x['使用覆盖半径']<300:\n",
    "                return 300\n",
    "            elif x['使用覆盖半径']>430:\n",
    "                return 430\n",
    "            else:\n",
    "                return x['distance']\n",
    "        else:\n",
    "            if x['使用覆盖半径']<250:\n",
    "                return 250\n",
    "            elif x['使用覆盖半径']>400:\n",
    "                return 400\n",
    "            else:\n",
    "                return x['distance']\n",
    "    elif  x['区域类型']=='一般城区':\n",
    "        if x['工作频段']==900:\n",
    "            if x['使用覆盖半径']<400:\n",
    "                return 400\n",
    "            elif x['使用覆盖半径']>1200:\n",
    "                return 1200\n",
    "            else:\n",
    "                return x['distance']\n",
    "        else:\n",
    "            if x['使用覆盖半径']<350:\n",
    "                return 350\n",
    "            elif x['使用覆盖半径']>800:\n",
    "                return 800\n",
    "            else:\n",
    "                return x['distance']\n",
    "    elif  x['区域类型']=='乡镇':\n",
    "        if x['工作频段']==900:\n",
    "            if x['使用覆盖半径']<430:\n",
    "                return 430\n",
    "            elif x['使用覆盖半径']>2200:\n",
    "                return 2200\n",
    "            else:\n",
    "                return x['distance']\n",
    "        else:\n",
    "            if x['使用覆盖半径']<400:\n",
    "                return 400\n",
    "            elif x['使用覆盖半径']>1000:\n",
    "                return 1000\n",
    "            else:\n",
    "                return x['distance']\n",
    "    elif  x['区域类型']=='农村':\n",
    "        if x['工作频段']==900:\n",
    "            if x['使用覆盖半径']<1200:\n",
    "                return 1200\n",
    "            elif x['使用覆盖半径']>2500:\n",
    "                return 2500\n",
    "            else:\n",
    "                return x['distance']\n",
    "        else:\n",
    "            if x['使用覆盖半径']<800:\n",
    "                return 800\n",
    "            elif x['使用覆盖半径']>1500:\n",
    "                return 1500\n",
    "            else:\n",
    "                return x['distance']\n",
    "    else:\n",
    "        return 0"
   ]
  },
  {
   "cell_type": "code",
   "execution_count": 10,
   "metadata": {
    "ExecuteTime": {
     "end_time": "2020-09-28T05:45:35.223016Z",
     "start_time": "2020-09-28T05:44:50.018775Z"
    }
   },
   "outputs": [],
   "source": [
    "gongcan_loc_juli['distance_use'] = gongcan_loc_juli.apply(fc_ik,axis=1)"
   ]
  },
  {
   "cell_type": "markdown",
   "metadata": {},
   "source": [
    "## 导入天线方向图模型进行建筑物修正 "
   ]
  },
  {
   "cell_type": "code",
   "execution_count": 11,
   "metadata": {
    "ExecuteTime": {
     "end_time": "2020-09-28T05:47:13.286468Z",
     "start_time": "2020-09-28T05:47:13.139950Z"
    }
   },
   "outputs": [],
   "source": [
    "mx_900 = mytools.othern.pickle_read('G:/mypy/mycloud/jupyter/2_评估/覆盖空洞/20200902评估覆盖空洞-第五版本-覆盖空洞使用天线方向图进行/1-基础数据/44低增益900M0下倾P3_935覆盖模型.data')"
   ]
  },
  {
   "cell_type": "code",
   "execution_count": 14,
   "metadata": {
    "ExecuteTime": {
     "end_time": "2020-09-28T05:48:01.722119Z",
     "start_time": "2020-09-28T05:48:01.710117Z"
    }
   },
   "outputs": [],
   "source": [
    "#生成天线图的--线条格式\n",
    "def jm_zl(x,jd_dp,lon,lat,fw,distance):\n",
    "    jl = int(x[distance])\n",
    "    lon = x[lon]\n",
    "    lat = x[lat]\n",
    "    fw = x[fw]\n",
    "    jd_dp['distance_use'] = jd_dp['电平_正'].apply(lambda x: x/37.052 *jl)\n",
    "    jd_dp_use = jd_dp.loc[(jd_dp['角度']<=90) | (jd_dp['角度']>=270)]\n",
    "    jd_dp_use['角度'] = pd.to_numeric(jd_dp_use['角度'] )\n",
    "    jd_dp_use['角度2'] = jd_dp_use['角度'].apply(lambda x: x-0+fw if x-0+fw<360 else x-0+fw-360 )\n",
    "    poy=[]\n",
    "    dict_use = dict()\n",
    "    a=0\n",
    "    for jiao1,jiao2 , jl in zip(jd_dp_use['角度'],jd_dp_use['角度2'],jd_dp_use['distance_use']):\n",
    "        res = Geodesic.WGS84.Direct(lat, lon, jiao2, jl)\n",
    "        points=[]\n",
    "        if int(jiao1)%10==0:\n",
    "#             print('可以',jiao1,jiao2)\n",
    "            points.append((lon, lat))\n",
    "            points.append((res['lon2'], res['lat2']))\n",
    "            poy.append(LineString(points))\n",
    "    res_m = MultiLineString(poy)\n",
    "    return res_m"
   ]
  },
  {
   "cell_type": "code",
   "execution_count": 17,
   "metadata": {
    "ExecuteTime": {
     "end_time": "2020-09-28T05:48:54.258290Z",
     "start_time": "2020-09-28T05:48:54.250289Z"
    }
   },
   "outputs": [
    {
     "data": {
      "text/plain": [
       "Index(['小区CGI(*)', '小区中文名', '所属地区', 'RRU经度', 'RRU纬度', '天线挂高', '方位角', '工作频段',\n",
       "       '归属区县', '厂家名称', '区域类型', 'distance', '覆盖模型距离', '30米覆盖模型距离', '使用覆盖半径',\n",
       "       'distance_use'],\n",
       "      dtype='object')"
      ]
     },
     "execution_count": 17,
     "metadata": {},
     "output_type": "execute_result"
    }
   ],
   "source": [
    "gongcan_loc_juli.columns "
   ]
  },
  {
   "cell_type": "code",
   "execution_count": 36,
   "metadata": {
    "ExecuteTime": {
     "end_time": "2020-09-28T06:01:12.660555Z",
     "start_time": "2020-09-28T06:01:12.626551Z"
    }
   },
   "outputs": [],
   "source": [
    "gongcan_loc_wuhan = gongcan_loc_juli.loc[gongcan_loc_juli['归属区县']=='东湖高新开发区']"
   ]
  },
  {
   "cell_type": "code",
   "execution_count": 37,
   "metadata": {
    "ExecuteTime": {
     "end_time": "2020-09-28T06:01:13.162619Z",
     "start_time": "2020-09-28T06:01:13.157618Z"
    }
   },
   "outputs": [
    {
     "data": {
      "text/plain": [
       "(9283, 16)"
      ]
     },
     "execution_count": 37,
     "metadata": {},
     "output_type": "execute_result"
    }
   ],
   "source": [
    "gongcan_loc_wuhan.shape"
   ]
  },
  {
   "cell_type": "code",
   "execution_count": 38,
   "metadata": {
    "ExecuteTime": {
     "end_time": "2020-09-28T06:04:24.126368Z",
     "start_time": "2020-09-28T06:01:14.148244Z"
    }
   },
   "outputs": [
    {
     "name": "stderr",
     "output_type": "stream",
     "text": [
      "C:\\ProgramData\\Anaconda3\\lib\\site-packages\\ipykernel_launcher.py:8: SettingWithCopyWarning: \n",
      "A value is trying to be set on a copy of a slice from a DataFrame.\n",
      "Try using .loc[row_indexer,col_indexer] = value instead\n",
      "\n",
      "See the caveats in the documentation: https://pandas.pydata.org/pandas-docs/stable/user_guide/indexing.html#returning-a-view-versus-a-copy\n",
      "  \n",
      "C:\\ProgramData\\Anaconda3\\lib\\site-packages\\ipykernel_launcher.py:9: SettingWithCopyWarning: \n",
      "A value is trying to be set on a copy of a slice from a DataFrame.\n",
      "Try using .loc[row_indexer,col_indexer] = value instead\n",
      "\n",
      "See the caveats in the documentation: https://pandas.pydata.org/pandas-docs/stable/user_guide/indexing.html#returning-a-view-versus-a-copy\n",
      "  if __name__ == '__main__':\n",
      "C:\\ProgramData\\Anaconda3\\lib\\site-packages\\ipykernel_launcher.py:1: SettingWithCopyWarning: \n",
      "A value is trying to be set on a copy of a slice from a DataFrame.\n",
      "Try using .loc[row_indexer,col_indexer] = value instead\n",
      "\n",
      "See the caveats in the documentation: https://pandas.pydata.org/pandas-docs/stable/user_guide/indexing.html#returning-a-view-versus-a-copy\n",
      "  \"\"\"Entry point for launching an IPython kernel.\n"
     ]
    }
   ],
   "source": [
    "gongcan_loc_wuhan['geometry'] = gongcan_loc_wuhan.apply(lambda x:jm_zl(x,mx_900,'RRU经度','RRU纬度','方位角','使用覆盖半径'),axis=1)"
   ]
  },
  {
   "cell_type": "code",
   "execution_count": 39,
   "metadata": {
    "ExecuteTime": {
     "end_time": "2020-09-28T06:04:26.384155Z",
     "start_time": "2020-09-28T06:04:24.195377Z"
    }
   },
   "outputs": [],
   "source": [
    "mytools.dog()"
   ]
  },
  {
   "cell_type": "code",
   "execution_count": 40,
   "metadata": {
    "ExecuteTime": {
     "end_time": "2020-09-28T06:32:55.506686Z",
     "start_time": "2020-09-28T06:32:54.612072Z"
    }
   },
   "outputs": [],
   "source": [
    "shanxing = gpd.GeoDataFrame(gongcan_loc_wuhan, crs={\"init\": \"epsg:4326\"}, geometry='geometry')"
   ]
  },
  {
   "cell_type": "markdown",
   "metadata": {},
   "source": [
    "### 导入建筑物 "
   ]
  },
  {
   "cell_type": "code",
   "execution_count": 88,
   "metadata": {
    "ExecuteTime": {
     "end_time": "2020-09-28T07:57:44.559413Z",
     "start_time": "2020-09-28T07:56:01.858872Z"
    }
   },
   "outputs": [],
   "source": [
    "#导入数据简单整理下格式\n",
    "wuhan_jianzhu = gpd.read_file('g:/1-规划/图层/湖北建筑/湖北建筑/湖北建筑/武汉.tab',encoding='gbk')\n",
    "wuhan_jianzhu_use = wuhan_jianzhu[['建筑物高度','geometry']].reset_index()\n",
    "wuhan_jianzhu_use = wuhan_jianzhu_use.to_crs({'init': 'epsg:4326'})"
   ]
  },
  {
   "cell_type": "code",
   "execution_count": 89,
   "metadata": {
    "ExecuteTime": {
     "end_time": "2020-09-28T07:57:45.919586Z",
     "start_time": "2020-09-28T07:57:45.915086Z"
    }
   },
   "outputs": [],
   "source": [
    "wuhan_jianzhu_use.columns = ['index_my', '建筑物高度', 'geometry']"
   ]
  },
  {
   "cell_type": "code",
   "execution_count": 90,
   "metadata": {
    "ExecuteTime": {
     "end_time": "2020-09-28T07:57:47.293761Z",
     "start_time": "2020-09-28T07:57:47.280259Z"
    }
   },
   "outputs": [],
   "source": [
    "wuhan_jianzhu_use['geo_jz'] =  wuhan_jianzhu_use['geometry']"
   ]
  },
  {
   "cell_type": "code",
   "execution_count": 91,
   "metadata": {
    "ExecuteTime": {
     "end_time": "2020-09-28T07:58:45.501652Z",
     "start_time": "2020-09-28T07:57:48.598426Z"
    }
   },
   "outputs": [],
   "source": [
    "#与小区覆盖区域求交集\n",
    "jz_sjoin = gpd.sjoin(shanxing,wuhan_jianzhu_use)"
   ]
  },
  {
   "cell_type": "code",
   "execution_count": 92,
   "metadata": {
    "ExecuteTime": {
     "end_time": "2020-09-28T07:58:52.914093Z",
     "start_time": "2020-09-28T07:58:52.835083Z"
    }
   },
   "outputs": [],
   "source": [
    "#匹配有交集的数据\n",
    "jz_sjoin_y = jz_sjoin[['小区CGI(*)','建筑物高度']].drop_duplicates('小区CGI(*)')\n",
    "shanxing_sjoin = shanxing.merge(jz_sjoin_y,how='left',on='小区CGI(*)',indicator=True)"
   ]
  },
  {
   "cell_type": "code",
   "execution_count": 93,
   "metadata": {
    "ExecuteTime": {
     "end_time": "2020-09-28T07:58:54.447288Z",
     "start_time": "2020-09-28T07:58:54.423285Z"
    }
   },
   "outputs": [],
   "source": [
    "# #与建筑有交集和与建筑无交集的数据\n",
    "# shanxing_both = shanxing_sjoin.loc[shanxing_sjoin['_merge']=='both']\n",
    "# shanxing_left_only = shanxing_sjoin.loc[shanxing_sjoin['_merge']=='left_only']"
   ]
  },
  {
   "cell_type": "code",
   "execution_count": 238,
   "metadata": {
    "ExecuteTime": {
     "end_time": "2020-09-28T09:27:31.783504Z",
     "start_time": "2020-09-28T09:27:31.751000Z"
    }
   },
   "outputs": [],
   "source": [
    "#过滤掉建筑高度低于基站-5米的\n",
    "jz_sjoin = jz_sjoin.loc[(jz_sjoin['建筑物高度']-jz_sjoin['天线挂高'])>=5]"
   ]
  },
  {
   "cell_type": "code",
   "execution_count": 240,
   "metadata": {
    "ExecuteTime": {
     "end_time": "2020-09-28T09:28:44.253707Z",
     "start_time": "2020-09-28T09:28:12.277146Z"
    },
    "scrolled": false
   },
   "outputs": [],
   "source": [
    "#有交集的部分求出遮挡后的扇形\n",
    "dict_sj = dict()\n",
    "for cgi,jianzhu in jz_sjoin.groupby('小区CGI(*)'):\n",
    "    lon=float(jianzhu.head(1)['RRU经度'].values)\n",
    "    lat=float(jianzhu.head(1)['RRU纬度'].values)\n",
    "    t_geo = list(jianzhu.head(1)['geometry'])\n",
    "    t_jianzhu = MultiPolygon([x for x in jianzhu['geo_jz']]).buffer(0.00000001)\n",
    "    res = t_geo[0].difference(t_jianzhu)\n",
    "    linshi_2 = []\n",
    "    for ll in res :\n",
    "        if (lon, lat) in [x for x in ll.coords[:]]:\n",
    "            linshi_2.append(ll.coords[-1])\n",
    "    dict_sj[cgi]=Polygon(linshi_2)"
   ]
  },
  {
   "cell_type": "code",
   "execution_count": 245,
   "metadata": {
    "ExecuteTime": {
     "end_time": "2020-09-28T09:29:54.314603Z",
     "start_time": "2020-09-28T09:29:54.307602Z"
    },
    "scrolled": true
   },
   "outputs": [],
   "source": [
    "#转换成df\n",
    "df_16 = pd.DataFrame.from_dict(dict_sj,orient='index',columns=['jieguo']).reset_index()\n",
    "df_16.columns = ['小区CGI(*)', 'geo_xiuzeng']"
   ]
  },
  {
   "cell_type": "code",
   "execution_count": 248,
   "metadata": {
    "ExecuteTime": {
     "end_time": "2020-09-28T09:31:27.624952Z",
     "start_time": "2020-09-28T09:31:27.600449Z"
    }
   },
   "outputs": [],
   "source": [
    "#修正好的\n",
    "shanxing_sjoin2 = shanxing_sjoin.merge(df_16,how='left',on='小区CGI(*)')"
   ]
  },
  {
   "cell_type": "code",
   "execution_count": 262,
   "metadata": {
    "ExecuteTime": {
     "end_time": "2020-09-28T09:38:39.853838Z",
     "start_time": "2020-09-28T09:38:39.835336Z"
    }
   },
   "outputs": [],
   "source": [
    "#转换geometry\n",
    "shanxing_sjoin2_1 = gpd.GeoDataFrame(shanxing_sjoin2, geometry='geo_xiuzeng') "
   ]
  },
  {
   "cell_type": "code",
   "execution_count": 275,
   "metadata": {
    "ExecuteTime": {
     "end_time": "2020-09-28T09:46:43.058697Z",
     "start_time": "2020-09-28T09:46:42.951184Z"
    }
   },
   "outputs": [],
   "source": [
    "#过滤出来有房子的\n",
    "shanxing_ok_fangzi = shanxing_sjoin2_1.loc[shanxing_sjoin2_1.is_ring==True]\n",
    "#过滤出来么有房子的\n",
    "shanxing_wu = shanxing_sjoin2_1.loc[shanxing_sjoin2_1.is_ring==False]"
   ]
  },
  {
   "cell_type": "code",
   "execution_count": 281,
   "metadata": {
    "ExecuteTime": {
     "end_time": "2020-09-28T09:50:37.576477Z",
     "start_time": "2020-09-28T09:50:37.566476Z"
    }
   },
   "outputs": [],
   "source": [
    "#生成天线图的-多边形格式\n",
    "def jm_s(x,jd_dp,lon,lat):\n",
    "    jl = int(x['distance_use'])\n",
    "    lon = x[lon]\n",
    "    lat = x[lat]\n",
    "    fw = x['方位角']\n",
    "    jd_dp['distance_use'] = jd_dp['电平_正'].apply(lambda x: x/37.052 *jl)\n",
    "    jd_dp_use = jd_dp.loc[(jd_dp['角度']<=90) | (jd_dp['角度']>=270)]\n",
    "    jd_dp_use['角度'] = pd.to_numeric(jd_dp_use['角度'] )\n",
    "    jd_dp_use['角度2'] = jd_dp_use['角度'].apply(lambda x: x-0+fw if x-0+fw<360 else x-0+fw-360 )\n",
    "    points=[]\n",
    "    dict_use = dict()\n",
    "    for jiao , jl in zip(jd_dp_use['角度2'],jd_dp_use['distance_use']):\n",
    "        res = Geodesic.WGS84.Direct(lat, lon, jiao, jl)\n",
    "        if int(jiao)%10==0:\n",
    "            dict_use[jiao]=res['lon2'], res['lat2']\n",
    "        points.append((res['lon2'], res['lat2']))\n",
    "    points.append(points[0])\n",
    "    pol = Polygon(points)\n",
    "    return pol"
   ]
  },
  {
   "cell_type": "code",
   "execution_count": 282,
   "metadata": {
    "ExecuteTime": {
     "end_time": "2020-09-28T09:52:15.247380Z",
     "start_time": "2020-09-28T09:50:38.820135Z"
    }
   },
   "outputs": [
    {
     "name": "stderr",
     "output_type": "stream",
     "text": [
      "C:\\ProgramData\\Anaconda3\\lib\\site-packages\\ipykernel_launcher.py:8: SettingWithCopyWarning: \n",
      "A value is trying to be set on a copy of a slice from a DataFrame.\n",
      "Try using .loc[row_indexer,col_indexer] = value instead\n",
      "\n",
      "See the caveats in the documentation: https://pandas.pydata.org/pandas-docs/stable/user_guide/indexing.html#returning-a-view-versus-a-copy\n",
      "  \n",
      "C:\\ProgramData\\Anaconda3\\lib\\site-packages\\ipykernel_launcher.py:9: SettingWithCopyWarning: \n",
      "A value is trying to be set on a copy of a slice from a DataFrame.\n",
      "Try using .loc[row_indexer,col_indexer] = value instead\n",
      "\n",
      "See the caveats in the documentation: https://pandas.pydata.org/pandas-docs/stable/user_guide/indexing.html#returning-a-view-versus-a-copy\n",
      "  if __name__ == '__main__':\n",
      "C:\\ProgramData\\Anaconda3\\lib\\site-packages\\ipykernel_launcher.py:1: SettingWithCopyWarning: \n",
      "A value is trying to be set on a copy of a slice from a DataFrame.\n",
      "Try using .loc[row_indexer,col_indexer] = value instead\n",
      "\n",
      "See the caveats in the documentation: https://pandas.pydata.org/pandas-docs/stable/user_guide/indexing.html#returning-a-view-versus-a-copy\n",
      "  \"\"\"Entry point for launching an IPython kernel.\n"
     ]
    }
   ],
   "source": [
    "shanxing_wu['geo_xiuzeng'] = shanxing_wu.apply(lambda x:jm_s(x,mx_900,'RRU经度','RRU纬度'),axis=1)"
   ]
  },
  {
   "cell_type": "code",
   "execution_count": 283,
   "metadata": {
    "ExecuteTime": {
     "end_time": "2020-09-28T09:52:48.877150Z",
     "start_time": "2020-09-28T09:52:48.871650Z"
    }
   },
   "outputs": [],
   "source": [
    "shanxing_wu = gpd.GeoDataFrame(shanxing_wu, geometry='geo_xiuzeng') \n",
    "#将两份数据合并\n",
    "mx_ok = shanxing_ok_fangzi.append(shanxing_wu)"
   ]
  },
  {
   "cell_type": "code",
   "execution_count": 286,
   "metadata": {
    "ExecuteTime": {
     "end_time": "2020-09-28T09:54:29.270399Z",
     "start_time": "2020-09-28T09:54:29.265898Z"
    }
   },
   "outputs": [
    {
     "data": {
      "text/plain": [
       "(9283, 20)"
      ]
     },
     "execution_count": 286,
     "metadata": {},
     "output_type": "execute_result"
    }
   ],
   "source": [
    "mx_ok.shape"
   ]
  },
  {
   "cell_type": "code",
   "execution_count": 308,
   "metadata": {
    "ExecuteTime": {
     "end_time": "2020-09-28T10:11:07.296132Z",
     "start_time": "2020-09-28T10:11:06.435023Z"
    }
   },
   "outputs": [],
   "source": [
    "mx_ok.to_pickle('G:/1-规划/评估/覆盖空洞/20200928成功修正站高的影响/输出数据/shanxing.data')"
   ]
  },
  {
   "cell_type": "markdown",
   "metadata": {},
   "source": [
    "# 与地图匹配求出原始空洞"
   ]
  },
  {
   "cell_type": "code",
   "execution_count": 288,
   "metadata": {
    "ExecuteTime": {
     "end_time": "2020-09-28T09:56:13.722663Z",
     "start_time": "2020-09-28T09:56:13.504135Z"
    }
   },
   "outputs": [],
   "source": [
    "tu= mytools.gisn.maps('武汉')\n",
    "tu = tu.loc[tu['区分公司名称']=='东新']"
   ]
  },
  {
   "cell_type": "code",
   "execution_count": 303,
   "metadata": {
    "ExecuteTime": {
     "end_time": "2020-09-28T10:08:35.831398Z",
     "start_time": "2020-09-28T10:08:28.045410Z"
    }
   },
   "outputs": [],
   "source": [
    "mx_ok2 = mx_ok.dissolve(by='所属地区')"
   ]
  },
  {
   "cell_type": "code",
   "execution_count": 304,
   "metadata": {
    "ExecuteTime": {
     "end_time": "2020-09-28T10:08:45.507627Z",
     "start_time": "2020-09-28T10:08:45.244094Z"
    }
   },
   "outputs": [],
   "source": [
    "kongd_2 = gpd.overlay(tu,mx_ok2,how='difference')"
   ]
  },
  {
   "cell_type": "code",
   "execution_count": 306,
   "metadata": {
    "ExecuteTime": {
     "end_time": "2020-09-28T10:08:57.487648Z",
     "start_time": "2020-09-28T10:08:57.469146Z"
    }
   },
   "outputs": [
    {
     "data": {
      "text/plain": [
       "(611, 4)"
      ]
     },
     "execution_count": 306,
     "metadata": {},
     "output_type": "execute_result"
    }
   ],
   "source": [
    "kongd_2.explode().shape"
   ]
  },
  {
   "cell_type": "code",
   "execution_count": 307,
   "metadata": {
    "ExecuteTime": {
     "end_time": "2020-09-28T10:10:49.038314Z",
     "start_time": "2020-09-28T10:10:48.600758Z"
    }
   },
   "outputs": [],
   "source": [
    "kongd_2.to_pickle('G:/1-规划/评估/覆盖空洞/20200928成功修正站高的影响/输出数据/kongd.data')"
   ]
  },
  {
   "cell_type": "markdown",
   "metadata": {},
   "source": [
    "### 达标场景划分大中小 "
   ]
  },
  {
   "cell_type": "code",
   "execution_count": 312,
   "metadata": {
    "ExecuteTime": {
     "end_time": "2020-09-28T10:17:12.434499Z",
     "start_time": "2020-09-28T10:17:12.416496Z"
    }
   },
   "outputs": [],
   "source": [
    "kongd_dongxin = kongd_2.explode()"
   ]
  },
  {
   "cell_type": "code",
   "execution_count": 314,
   "metadata": {
    "ExecuteTime": {
     "end_time": "2020-09-28T10:17:29.424156Z",
     "start_time": "2020-09-28T10:17:29.191627Z"
    }
   },
   "outputs": [],
   "source": [
    "kongd_dongxin[['lon','lat']] = kongd_dongxin.apply(lambda x:pd.Series(x['geometry'].centroid.coords[:][0]),axis=1)#"
   ]
  },
  {
   "cell_type": "code",
   "execution_count": 315,
   "metadata": {
    "ExecuteTime": {
     "end_time": "2020-09-28T10:17:46.000761Z",
     "start_time": "2020-09-28T10:17:44.949128Z"
    }
   },
   "outputs": [],
   "source": [
    "result = mytools.gisn.points_coverage_merge(kongd_dongxin,'lon','lat')"
   ]
  },
  {
   "cell_type": "code",
   "execution_count": 316,
   "metadata": {
    "ExecuteTime": {
     "end_time": "2020-09-28T10:17:56.861640Z",
     "start_time": "2020-09-28T10:17:56.855639Z"
    }
   },
   "outputs": [],
   "source": [
    "#添加id编号\n",
    "result_id = result.reset_index(drop=True)\n",
    "result['id'] = [ 'kd_{}'.format(str(name)) for name in result_id.index+1]\n",
    "result['制式'] = 'FDD1800'\n",
    "result.loc[result['区域类型']=='农村','制式']='FDD900'\n",
    "result = mytools.gisn.changjing_distance(result,'区域类型','制式')\n",
    "result = mytools.gisn.add_area(result,'面积')\n",
    "result['标准面积'] = np.pi* result['distance']* result['distance']\n",
    "result['空洞面积比例'] = result['面积']/result['标准面积']"
   ]
  },
  {
   "cell_type": "code",
   "execution_count": 325,
   "metadata": {
    "ExecuteTime": {
     "end_time": "2020-09-28T10:19:51.175656Z",
     "start_time": "2020-09-28T10:19:51.171656Z"
    }
   },
   "outputs": [],
   "source": [
    "def fuck_data(x):\n",
    "    if x['空洞面积比例']>=1:\n",
    "        return '大'\n",
    "    elif x['空洞面积比例']>=1/3:\n",
    "        return '中'\n",
    "    elif x['空洞面积比例']>=1/6:\n",
    "        return '小'\n",
    "    else:\n",
    "        return '微'"
   ]
  },
  {
   "cell_type": "code",
   "execution_count": 326,
   "metadata": {
    "ExecuteTime": {
     "end_time": "2020-09-28T10:19:53.267922Z",
     "start_time": "2020-09-28T10:19:53.171910Z"
    }
   },
   "outputs": [],
   "source": [
    "result['空洞级别'] = result.apply(fuck_data,axis=1)"
   ]
  },
  {
   "cell_type": "code",
   "execution_count": 328,
   "metadata": {
    "ExecuteTime": {
     "end_time": "2020-09-28T10:20:21.680030Z",
     "start_time": "2020-09-28T10:20:21.654527Z"
    }
   },
   "outputs": [],
   "source": [
    "result.to_pickle('G:/1-规划/评估/覆盖空洞/20200928成功修正站高的影响/输出数据/kongd大中小.data')"
   ]
  },
  {
   "cell_type": "markdown",
   "metadata": {},
   "source": [
    "# 生成kml图层"
   ]
  },
  {
   "cell_type": "code",
   "execution_count": 329,
   "metadata": {
    "ExecuteTime": {
     "end_time": "2020-09-28T10:20:44.910480Z",
     "start_time": "2020-09-28T10:20:44.906979Z"
    }
   },
   "outputs": [],
   "source": [
    "import math,simplekml"
   ]
  },
  {
   "cell_type": "code",
   "execution_count": 347,
   "metadata": {
    "ExecuteTime": {
     "end_time": "2020-09-28T10:26:37.087200Z",
     "start_time": "2020-09-28T10:26:37.084200Z"
    }
   },
   "outputs": [],
   "source": [
    "out_file = 'G:/1-规划/评估/覆盖空洞/20200928成功修正站高的影响/输出数据/'"
   ]
  },
  {
   "cell_type": "markdown",
   "metadata": {},
   "source": [
    "## 制作空洞"
   ]
  },
  {
   "cell_type": "code",
   "execution_count": 333,
   "metadata": {
    "ExecuteTime": {
     "end_time": "2020-09-28T10:21:36.630047Z",
     "start_time": "2020-09-28T10:21:36.625047Z"
    }
   },
   "outputs": [
    {
     "data": {
      "text/plain": [
       "Index(['地市名称', '区分公司名称', '区分公司面积', 'geometry', 'lon', 'lat', '区域类型', 'id',\n",
       "       '制式', 'distance', '标准面积', '面积', '空洞面积比例', '空洞级别'],\n",
       "      dtype='object')"
      ]
     },
     "execution_count": 333,
     "metadata": {},
     "output_type": "execute_result"
    }
   ],
   "source": [
    "result.columns"
   ]
  },
  {
   "cell_type": "code",
   "execution_count": 334,
   "metadata": {
    "ExecuteTime": {
     "end_time": "2020-09-28T10:21:48.023994Z",
     "start_time": "2020-09-28T10:21:48.020994Z"
    }
   },
   "outputs": [],
   "source": [
    "use_columns=list(result.columns)"
   ]
  },
  {
   "cell_type": "markdown",
   "metadata": {},
   "source": [
    "设置变量"
   ]
  },
  {
   "cell_type": "code",
   "execution_count": 335,
   "metadata": {
    "ExecuteTime": {
     "end_time": "2020-09-28T10:22:47.552553Z",
     "start_time": "2020-09-28T10:22:47.549553Z"
    }
   },
   "outputs": [],
   "source": [
    "#- 变量 - 设置经纬度和参与循环的字段   \n",
    "lon,lat,use_id,city = ['lon', 'lat','id','区分公司名称']"
   ]
  },
  {
   "cell_type": "code",
   "execution_count": 336,
   "metadata": {
    "ExecuteTime": {
     "end_time": "2020-09-28T10:22:49.558808Z",
     "start_time": "2020-09-28T10:22:49.555308Z"
    }
   },
   "outputs": [],
   "source": [
    "#- 颜色 - 按照字符设置颜色\n",
    "colour_data = '空洞级别'\n",
    "colour_dic = {'大':'red','中':'yellow','小':'blue','微':'green','other':'white'}"
   ]
  },
  {
   "cell_type": "code",
   "execution_count": 337,
   "metadata": {
    "ExecuteTime": {
     "end_time": "2020-09-28T10:22:51.569563Z",
     "start_time": "2020-09-28T10:22:51.566063Z"
    }
   },
   "outputs": [],
   "source": [
    "#- 标注 -添加标注列\n",
    "de_col = use_columns\n",
    "de_col.remove('geometry')"
   ]
  },
  {
   "cell_type": "code",
   "execution_count": 338,
   "metadata": {
    "ExecuteTime": {
     "end_time": "2020-09-28T10:22:53.682332Z",
     "start_time": "2020-09-28T10:22:53.679331Z"
    }
   },
   "outputs": [],
   "source": [
    "#- 视野 - 在1400*900的分辨率下  view = 70米对应：125公里（差不多能看到武汉主城区）  700对应1200公里（差不多能看到湖北省）\n",
    "view = 50000"
   ]
  },
  {
   "cell_type": "markdown",
   "metadata": {},
   "source": [
    "整理数据"
   ]
  },
  {
   "cell_type": "code",
   "execution_count": 341,
   "metadata": {
    "ExecuteTime": {
     "end_time": "2020-09-28T10:24:54.399161Z",
     "start_time": "2020-09-28T10:24:54.347654Z"
    }
   },
   "outputs": [],
   "source": [
    "data_use = result.copy()\n",
    "#添加标注列\n",
    "data_use['description']=''\n",
    "for inde_1, name_1 in enumerate(de_col):\n",
    "    data_use['linshi']=de_col[inde_1]+' : '+data_use[de_col[inde_1]].astype('str')+'\\n'\n",
    "    data_use['description'] = data_use['description']+data_use['linshi']\n",
    "    data_use.drop(columns='linshi')"
   ]
  },
  {
   "cell_type": "code",
   "execution_count": 342,
   "metadata": {
    "ExecuteTime": {
     "end_time": "2020-09-28T10:24:56.422418Z",
     "start_time": "2020-09-28T10:24:56.396914Z"
    }
   },
   "outputs": [],
   "source": [
    "data_sectors= data_use.copy()\n",
    "#添加lod的polygon\n",
    "data_sectors['lod_dis']= view\n",
    "data_sectors['lon1'] = data_sectors[lon] + data_sectors['lod_dis']*np.sin(45* np.pi/180)*180/( np.pi * 6371229 * np.cos(data_sectors[lat] * np.pi/180))\n",
    "data_sectors['lat1'] = data_sectors[lat] + data_sectors['lod_dis']*np.cos(45* np.pi/180) / ( np.pi * 6371229 / 180)\n",
    "data_sectors['lon2'] = data_sectors[lon] + data_sectors['lod_dis']*np.sin(225* np.pi/180)*180/( np.pi * 6371229 * np.cos(data_sectors[lat] * np.pi/180))\n",
    "data_sectors['lat2'] = data_sectors[lat] + data_sectors['lod_dis']*np.cos(225* np.pi/180) / ( np.pi * 6371229 / 180)\n",
    "data_sectors['list_data']=[([lon_1, lat_1,lon_2, lat_2]) \n",
    " for lon_1, lat_1,lon_2, lat_2 in zip(data_sectors['lon1'],data_sectors['lat1'],data_sectors['lon2'],data_sectors['lat2'])]"
   ]
  },
  {
   "cell_type": "code",
   "execution_count": 343,
   "metadata": {
    "ExecuteTime": {
     "end_time": "2020-09-28T10:24:58.497181Z",
     "start_time": "2020-09-28T10:24:58.480179Z"
    }
   },
   "outputs": [],
   "source": [
    "df = data_sectors.copy()\n",
    "#添加颜色列-文字\n",
    "df['colour']='white'\n",
    "for name_col in colour_dic:\n",
    "    df.loc[df[colour_data]==name_col,'colour'] =colour_dic[name_col]"
   ]
  },
  {
   "cell_type": "code",
   "execution_count": 344,
   "metadata": {
    "ExecuteTime": {
     "end_time": "2020-09-28T10:25:00.593947Z",
     "start_time": "2020-09-28T10:25:00.588447Z"
    }
   },
   "outputs": [],
   "source": [
    "#最终使用的列\n",
    "df_use = df.reindex(columns=[city,use_id,colour_data, 'list_data','colour','description','geometry'])   "
   ]
  },
  {
   "cell_type": "markdown",
   "metadata": {},
   "source": [
    "生成图层"
   ]
  },
  {
   "cell_type": "code",
   "execution_count": 345,
   "metadata": {
    "ExecuteTime": {
     "end_time": "2020-09-28T10:26:12.539083Z",
     "start_time": "2020-09-28T10:26:12.527582Z"
    }
   },
   "outputs": [],
   "source": [
    "def make_kml(data_t,name='红色栅格',cc='ff0000ff',xiankuan=0,namea='grid_id',list_data = 'list_data',description='description',minlodpixels=1):\n",
    "    print(data_t.shape,cc,xiankuan,namea,list_data,description,minlodpixels)\n",
    "    style = simplekml.Style()\n",
    "    style.linestyle.color = simplekml.Color.changealphaint(250, cc)  # 最终线条上色\n",
    "    style.polystyle.outline = xiankuan\n",
    "    style.polystyle.color = simplekml.Color.changealphaint(250, cc )  # 最终形状上色\n",
    "    lod1 = simplekml.Lod(minlodpixels=minlodpixels, maxlodpixels=-1,minfadeextent=None, maxfadeextent=None)\n",
    "    grid_red = kml.newfolder(name=name)\n",
    "    for grid,list_data ,description_str,geo in zip(data_t[namea],data_t[list_data],data_t[description],data_t['geometry']):\n",
    "#         pol_r = grid_red.newpolygon(name=grid,outerboundaryis=list_data[0])#栅格使用\n",
    "        pol_r = grid_red.newpolygon(name=grid,outerboundaryis=list(geo.exterior.coords),innerboundaryis=[po.coords for po in list(geo.interiors)])\n",
    "        pol_r.description = description_str\n",
    "        pol_r.altitudemode = simplekml.AltitudeMode.clamptoground\n",
    "        lon_dd,lat_dd,lon1_dd,lat1_dd = list_data\n",
    "        latlonaltbox = simplekml.LatLonAltBox(east =lon_dd ,north=lat_dd ,south=lat1_dd ,west=lon1_dd,\n",
    "                                              minaltitude=None, maxaltitude=None, altitudemode=None)\n",
    "        pol_r.region.latlonaltbox = latlonaltbox\n",
    "        pol_r.region.lod = lod1\n",
    "        pol_r.style=style"
   ]
  },
  {
   "cell_type": "code",
   "execution_count": 348,
   "metadata": {
    "ExecuteTime": {
     "end_time": "2020-09-28T10:26:43.096464Z",
     "start_time": "2020-09-28T10:26:40.531638Z"
    }
   },
   "outputs": [
    {
     "name": "stdout",
     "output_type": "stream",
     "text": [
      "G:/1-规划/评估/覆盖空洞/20200928成功修正站高的影响/输出数据/东新空洞_中_30.kmz开始\n",
      "(30, 7) ff00ffff 1 id list_data description 50\n",
      "生成图层成功存放在G:/1-规划/评估/覆盖空洞/20200928成功修正站高的影响/输出数据/东新空洞_中_30.kmz\n",
      "G:/1-规划/评估/覆盖空洞/20200928成功修正站高的影响/输出数据/东新空洞_大_10.kmz开始\n",
      "(10, 7) ff0000ff 1 id list_data description 50\n",
      "生成图层成功存放在G:/1-规划/评估/覆盖空洞/20200928成功修正站高的影响/输出数据/东新空洞_大_10.kmz\n",
      "G:/1-规划/评估/覆盖空洞/20200928成功修正站高的影响/输出数据/东新空洞_小_20.kmz开始\n",
      "(20, 7) ffff0000 1 id list_data description 50\n",
      "生成图层成功存放在G:/1-规划/评估/覆盖空洞/20200928成功修正站高的影响/输出数据/东新空洞_小_20.kmz\n",
      "G:/1-规划/评估/覆盖空洞/20200928成功修正站高的影响/输出数据/东新空洞_微_551.kmz开始\n",
      "(551, 7) ff008000 1 id list_data description 50\n",
      "生成图层成功存放在G:/1-规划/评估/覆盖空洞/20200928成功修正站高的影响/输出数据/东新空洞_微_551.kmz\n"
     ]
    }
   ],
   "source": [
    "# for name_f in f:#如果是多个文件就使用这个，一个文件不用\n",
    "#     grid_t = pd.read_pickle(name_f)\n",
    "#     grid_groupby = grid_t.groupby(['所属地区'])\n",
    "for cquxian,data_quxian in df_use.groupby(city):\n",
    "    for name_region,data_region in data_quxian.groupby(colour_data):\n",
    "        kml = simplekml.Kml()\n",
    "    #         if not os.path.exists('G:/1-规划/评估/覆盖空洞/2020年6月/2-程序输出/修正覆盖半径/各个地市覆盖图层/{}'.format(name_region)):\n",
    "    #             os.makedirs('G:/1-规划/评估/覆盖空洞/2020年6月/2-程序输出/修正覆盖半径/各个地市覆盖图层/{}'.format(name_region))\n",
    "        file = '{}{}空洞_{}_{}.kmz'.format(out_file,cquxian,name_region,data_region.shape[0])\n",
    "        print('{}开始'.format(file))\n",
    "        for name_c,data_t in data_region.groupby('colour'):#red:ff0000ff,green:ff008000,yellow:ff00ffff,white:ffffffff,bule:ffff0000\n",
    "            if 'red' ==name_c:\n",
    "                make_kml(data_t,name='红色{}个'.format(data_t.shape[0]),cc='ff0000ff',namea=use_id,minlodpixels=50,xiankuan=1)\n",
    "            elif 'blue' == name_c:\n",
    "                make_kml(data_t,name='蓝色{}个'.format(data_t.shape[0]),cc='ffff0000',namea=use_id,minlodpixels=50,xiankuan=1)\n",
    "            elif 'yellow' == name_c:\n",
    "                make_kml(data_t,name='黄色{}个'.format(data_t.shape[0]),cc='ff00ffff',namea=use_id,minlodpixels=50,xiankuan=1)\n",
    "            elif 'white' == name_c:\n",
    "                make_kml(data_t,name='白色{}个'.format(data_t.shape[0]),cc='ffffffff',namea=use_id,minlodpixels=50,xiankuan=1)\n",
    "            elif 'green'  == name_c:\n",
    "                make_kml(data_t,name='绿色{}个'.format(data_t.shape[0]),cc='ff008000',namea=use_id,minlodpixels=50,xiankuan=1)\n",
    "            kml.save(file) if 'kml' in file else kml.savekmz(file, False)\n",
    "        print('生成图层成功存放在{}'.format(file))\n",
    "mytools.dog()"
   ]
  },
  {
   "cell_type": "markdown",
   "metadata": {},
   "source": [
    "## 制作多边形-天线方向图"
   ]
  },
  {
   "cell_type": "code",
   "execution_count": 402,
   "metadata": {
    "ExecuteTime": {
     "end_time": "2020-09-28T10:45:47.429775Z",
     "start_time": "2020-09-28T10:45:47.420774Z"
    }
   },
   "outputs": [],
   "source": [
    "data_use = mx_ok[['小区CGI(*)', '小区中文名', '所属地区', 'RRU经度', 'RRU纬度', '天线挂高', '方位角', '工作频段',\n",
    "       '归属区县', '厂家名称', '区域类型', 'distance', '覆盖模型距离', '30米覆盖模型距离', '使用覆盖半径',\n",
    "       'distance_use', '建筑物高度', '_merge', 'geo_xiuzeng']]"
   ]
  },
  {
   "cell_type": "code",
   "execution_count": 404,
   "metadata": {
    "ExecuteTime": {
     "end_time": "2020-09-28T10:46:00.139389Z",
     "start_time": "2020-09-28T10:46:00.133889Z"
    }
   },
   "outputs": [],
   "source": [
    "data_use.columns = ['小区CGI(*)', '小区中文名', '所属地区', 'RRU经度', 'RRU纬度', '天线挂高', '方位角', '工作频段',\n",
    "       '归属区县', '厂家名称', '区域类型', 'distance', '覆盖模型距离', '30米覆盖模型距离', '使用覆盖半径',\n",
    "       'distance_use', '建筑物高度', '_merge', 'geometry']"
   ]
  },
  {
   "cell_type": "code",
   "execution_count": 405,
   "metadata": {
    "ExecuteTime": {
     "end_time": "2020-09-28T10:46:02.581699Z",
     "start_time": "2020-09-28T10:46:02.578199Z"
    }
   },
   "outputs": [],
   "source": [
    "use_columns = list(data_use.columns)"
   ]
  },
  {
   "cell_type": "markdown",
   "metadata": {},
   "source": [
    "设置变量"
   ]
  },
  {
   "cell_type": "code",
   "execution_count": 406,
   "metadata": {
    "ExecuteTime": {
     "end_time": "2020-09-28T10:46:04.782479Z",
     "start_time": "2020-09-28T10:46:04.778978Z"
    }
   },
   "outputs": [],
   "source": [
    "#- 变量 - 设置经纬度和参与循环的字段\n",
    "lon,lat,use_id,city = ['RRU经度','RRU纬度','小区中文名','归属区县']"
   ]
  },
  {
   "cell_type": "code",
   "execution_count": 409,
   "metadata": {
    "ExecuteTime": {
     "end_time": "2020-09-28T10:46:26.611751Z",
     "start_time": "2020-09-28T10:46:26.608751Z"
    }
   },
   "outputs": [],
   "source": [
    "#- 标注 -添加标注列\n",
    "de_col = use_columns\n",
    "de_col.remove('geometry')"
   ]
  },
  {
   "cell_type": "code",
   "execution_count": 410,
   "metadata": {
    "ExecuteTime": {
     "end_time": "2020-09-28T10:46:28.901542Z",
     "start_time": "2020-09-28T10:46:28.898541Z"
    }
   },
   "outputs": [],
   "source": [
    "#- 视野 - 在1400*900的分辨率下  view = 70米对应：125公里（差不多能看到武汉主城区）  700对应1200公里（差不多能看到湖北省）\n",
    "view = 50000"
   ]
  },
  {
   "cell_type": "markdown",
   "metadata": {},
   "source": [
    "整理数据"
   ]
  },
  {
   "cell_type": "code",
   "execution_count": 411,
   "metadata": {
    "ExecuteTime": {
     "end_time": "2020-09-28T10:46:31.399859Z",
     "start_time": "2020-09-28T10:46:31.111322Z"
    }
   },
   "outputs": [],
   "source": [
    "#添加标注列\n",
    "data_use['description']=''\n",
    "for inde_1, name_1 in enumerate(de_col):\n",
    "    data_use['linshi']=de_col[inde_1]+' : '+data_use[de_col[inde_1]].astype('str')+'\\n'\n",
    "    data_use['description'] = data_use['description']+data_use['linshi']\n",
    "    data_use.drop(columns='linshi')"
   ]
  },
  {
   "cell_type": "code",
   "execution_count": 412,
   "metadata": {
    "ExecuteTime": {
     "end_time": "2020-09-28T10:46:33.697651Z",
     "start_time": "2020-09-28T10:46:33.664146Z"
    }
   },
   "outputs": [],
   "source": [
    "data_sectors= data_use.copy()\n",
    "#添加lod的polygon\n",
    "data_sectors['lod_dis']= view\n",
    "data_sectors['lon1'] = data_sectors[lon] + data_sectors['lod_dis']*np.sin(45* np.pi/180)*180/( np.pi * 6371229 * np.cos(data_sectors[lat] * np.pi/180))\n",
    "data_sectors['lat1'] = data_sectors[lat] + data_sectors['lod_dis']*np.cos(45* np.pi/180) / ( np.pi * 6371229 / 180)\n",
    "data_sectors['lon2'] = data_sectors[lon] + data_sectors['lod_dis']*np.sin(225* np.pi/180)*180/( np.pi * 6371229 * np.cos(data_sectors[lat] * np.pi/180))\n",
    "data_sectors['lat2'] = data_sectors[lat] + data_sectors['lod_dis']*np.cos(225* np.pi/180) / ( np.pi * 6371229 / 180)\n",
    "data_sectors['list_data']=[([lon_1, lat_1,lon_2, lat_2]) \n",
    " for lon_1, lat_1,lon_2, lat_2 in zip(data_sectors['lon1'],data_sectors['lat1'],data_sectors['lon2'],data_sectors['lat2'])]"
   ]
  },
  {
   "cell_type": "code",
   "execution_count": 413,
   "metadata": {
    "ExecuteTime": {
     "end_time": "2020-09-28T10:46:35.948437Z",
     "start_time": "2020-09-28T10:46:35.935435Z"
    }
   },
   "outputs": [],
   "source": [
    "df = data_sectors.copy()\n",
    "#添加颜色列-文字\n",
    "df['colour']='white'"
   ]
  },
  {
   "cell_type": "code",
   "execution_count": 414,
   "metadata": {
    "ExecuteTime": {
     "end_time": "2020-09-28T10:46:38.186721Z",
     "start_time": "2020-09-28T10:46:38.178720Z"
    }
   },
   "outputs": [
    {
     "data": {
      "text/plain": [
       "Index(['小区CGI(*)', '小区中文名', '所属地区', 'RRU经度', 'RRU纬度', '天线挂高', '方位角', '工作频段',\n",
       "       '归属区县', '厂家名称', '区域类型', 'distance', '覆盖模型距离', '30米覆盖模型距离', '使用覆盖半径',\n",
       "       'distance_use', '建筑物高度', '_merge', 'geometry', 'description', 'linshi',\n",
       "       'lod_dis', 'lon1', 'lat1', 'lon2', 'lat2', 'list_data', 'colour'],\n",
       "      dtype='object')"
      ]
     },
     "execution_count": 414,
     "metadata": {},
     "output_type": "execute_result"
    }
   ],
   "source": [
    "df.columns"
   ]
  },
  {
   "cell_type": "code",
   "execution_count": 418,
   "metadata": {
    "ExecuteTime": {
     "end_time": "2020-09-28T10:47:26.643874Z",
     "start_time": "2020-09-28T10:47:26.635373Z"
    }
   },
   "outputs": [],
   "source": [
    "#最终使用的列\n",
    "df_use = df.reindex(columns=[city,use_id, 'list_data','colour','description','geometry'])   "
   ]
  },
  {
   "cell_type": "markdown",
   "metadata": {},
   "source": [
    "生成图层"
   ]
  },
  {
   "cell_type": "code",
   "execution_count": 419,
   "metadata": {
    "ExecuteTime": {
     "end_time": "2020-09-28T10:47:30.969423Z",
     "start_time": "2020-09-28T10:47:30.957922Z"
    }
   },
   "outputs": [],
   "source": [
    "#完整的多边形\n",
    "def make_kml(data_t,name='红色栅格',cc='ff0000ff',xiankuan=0,namea='grid_id',list_data = 'list_data',description='description',minlodpixels=1):\n",
    "    print(data_t.shape,cc,xiankuan,namea,list_data,description,minlodpixels)\n",
    "    style = simplekml.Style()\n",
    "    style.linestyle.color = simplekml.Color.changealphaint(220, cc)  # 最终线条上色\n",
    "    style.polystyle.outline = xiankuan\n",
    "    style.polystyle.color = simplekml.Color.changealphaint(125, cc )  # 最终形状上色\n",
    "    lod1 = simplekml.Lod(minlodpixels=minlodpixels, maxlodpixels=-1,minfadeextent=None, maxfadeextent=None)\n",
    "    grid_red = kml.newfolder(name=name)\n",
    "    for grid,list_data ,description_str,geo in zip(data_t[namea],data_t[list_data],data_t[description],data_t['geometry']):\n",
    "#         pol_r = grid_red.newpolygon(name=grid,outerboundaryis=list_data[0])#栅格使用\n",
    "        pol_r = grid_red.newmultigeometry(name=grid)\n",
    "        pol_r.newpolygon(outerboundaryis=list(geo.exterior.coords),innerboundaryis=[po.coords for po in list(geo.interiors)])\n",
    "        pol_r.description = description_str\n",
    "        pol_r.altitudemode = simplekml.AltitudeMode.clamptoground\n",
    "        lon_dd,lat_dd,lon1_dd,lat1_dd = list_data\n",
    "        latlonaltbox = simplekml.LatLonAltBox(east =lon_dd ,north=lat_dd ,south=lat1_dd ,west=lon1_dd,\n",
    "                                              minaltitude=None, maxaltitude=None, altitudemode=None)\n",
    "        pol_r.region.latlonaltbox = latlonaltbox\n",
    "        pol_r.region.lod = lod1\n",
    "        pol_r.style=style"
   ]
  },
  {
   "cell_type": "code",
   "execution_count": 420,
   "metadata": {
    "ExecuteTime": {
     "end_time": "2020-09-28T10:47:43.103964Z",
     "start_time": "2020-09-28T10:47:33.302720Z"
    }
   },
   "outputs": [
    {
     "name": "stdout",
     "output_type": "stream",
     "text": [
      "(9283, 6) ffffffff 1 小区中文名 list_data description 50\n",
      "生成图层成功存放在G:/1-规划/评估/覆盖空洞/20200928成功修正站高的影响/输出数据/覆盖区域_东湖高新开发区_9283.kmz\n"
     ]
    }
   ],
   "source": [
    "for name_region,data_region in df_use.groupby(city):\n",
    "    kml = simplekml.Kml()\n",
    "    file = '{}覆盖区域_{}_{}.kmz'.format(out_file,name_region,data_region.shape[0])\n",
    "    for name_c,data_t in data_region.groupby('colour'):#red:ff0000ff,green:ff008000,yellow:ff00ffff,white:ffffffff,bule:ffff0000\n",
    "        if 'red' ==name_c:\n",
    "            make_kml(data_t,name='红色{}个'.format(data_t.shape[0]),cc='ff0000ff',namea=use_id,minlodpixels=50,xiankuan=1)\n",
    "        elif 'blue' == name_c:\n",
    "            make_kml(data_t,name='蓝色{}个'.format(data_t.shape[0]),cc='ffff0000',namea=use_id,minlodpixels=50,xiankuan=1)\n",
    "        elif 'yellow' == name_c:\n",
    "            make_kml(data_t,name='黄色{}个'.format(data_t.shape[0]),cc='ff00ffff',namea=use_id,minlodpixels=50,xiankuan=1)\n",
    "        elif 'white' == name_c:\n",
    "            make_kml(data_t,name='白色{}个'.format(data_t.shape[0]),cc='ffffffff',namea=use_id,minlodpixels=50,xiankuan=1)\n",
    "        elif 'green'  == name_c:\n",
    "            make_kml(data_t,name='绿色{}个'.format(data_t.shape[0]),cc='ff008000',namea=use_id,minlodpixels=50,xiankuan=1)\n",
    "        kml.save(file) if 'kml' in file else kml.savekmz(file, False)\n",
    "    print('生成图层成功存放在{}'.format(file))\n",
    "mytools.dog()"
   ]
  },
  {
   "cell_type": "code",
   "execution_count": null,
   "metadata": {},
   "outputs": [],
   "source": []
  }
 ],
 "metadata": {
  "kernelspec": {
   "display_name": "Python 3",
   "language": "python",
   "name": "python3"
  },
  "language_info": {
   "codemirror_mode": {
    "name": "ipython",
    "version": 3
   },
   "file_extension": ".py",
   "mimetype": "text/x-python",
   "name": "python",
   "nbconvert_exporter": "python",
   "pygments_lexer": "ipython3",
   "version": "3.7.4"
  },
  "toc": {
   "base_numbering": 1,
   "nav_menu": {},
   "number_sections": true,
   "sideBar": true,
   "skip_h1_title": false,
   "title_cell": "Table of Contents",
   "title_sidebar": "Contents",
   "toc_cell": false,
   "toc_position": {
    "height": "calc(100% - 180px)",
    "left": "10px",
    "top": "150px",
    "width": "219px"
   },
   "toc_section_display": true,
   "toc_window_display": true
  },
  "varInspector": {
   "cols": {
    "lenName": 16,
    "lenType": 16,
    "lenVar": 40
   },
   "kernels_config": {
    "python": {
     "delete_cmd_postfix": "",
     "delete_cmd_prefix": "del ",
     "library": "var_list.py",
     "varRefreshCmd": "print(var_dic_list())"
    },
    "r": {
     "delete_cmd_postfix": ") ",
     "delete_cmd_prefix": "rm(",
     "library": "var_list.r",
     "varRefreshCmd": "cat(var_dic_list()) "
    }
   },
   "types_to_exclude": [
    "module",
    "function",
    "builtin_function_or_method",
    "instance",
    "_Feature"
   ],
   "window_display": false
  }
 },
 "nbformat": 4,
 "nbformat_minor": 2
}
