{
 "cells": [
  {
   "cell_type": "code",
   "execution_count": null,
   "metadata": {
    "ExecuteTime": {
     "end_time": "2020-09-08T10:35:06.714788Z",
     "start_time": "2020-09-08T10:35:05.896684Z"
    }
   },
   "outputs": [],
   "source": [
    "import pandas as pd\n",
    "import geopandas as gpd\n",
    "import mytools"
   ]
  },
  {
   "cell_type": "code",
   "execution_count": null,
   "metadata": {
    "ExecuteTime": {
     "end_time": "2020-09-08T07:36:10.631979Z",
     "start_time": "2020-09-08T07:36:10.151418Z"
    }
   },
   "outputs": [],
   "source": [
    "kongd =pd.read_pickle('G:/1-规划/评估/覆盖空洞/20200907第五版/2-输出内容/覆盖空添加场景区分大中小微.data')"
   ]
  },
  {
   "cell_type": "code",
   "execution_count": null,
   "metadata": {
    "ExecuteTime": {
     "end_time": "2020-09-08T08:17:36.487642Z",
     "start_time": "2020-09-08T08:16:59.655465Z"
    }
   },
   "outputs": [],
   "source": [
    "xianjie = pd.ExcelFile('G:/1-规划/重做30619/20200814/反向验证与规划衔接的吻合度/衔接结果400个.xlsx')"
   ]
  },
  {
   "cell_type": "code",
   "execution_count": null,
   "metadata": {
    "ExecuteTime": {
     "end_time": "2020-09-08T08:17:36.765178Z",
     "start_time": "2020-09-08T08:17:36.745675Z"
    }
   },
   "outputs": [],
   "source": [
    "xianjie_data = xianjie.parse('Sheet1')"
   ]
  },
  {
   "cell_type": "code",
   "execution_count": null,
   "metadata": {
    "ExecuteTime": {
     "end_time": "2020-09-08T08:17:41.325757Z",
     "start_time": "2020-09-08T08:17:41.320256Z"
    }
   },
   "outputs": [],
   "source": [
    "xianjie_data_use = xianjie_data[['小区名','lon','lat','工作频段','方位角']]"
   ]
  },
  {
   "cell_type": "code",
   "execution_count": null,
   "metadata": {
    "ExecuteTime": {
     "end_time": "2020-09-08T08:17:51.344529Z",
     "start_time": "2020-09-08T08:17:51.339528Z"
    }
   },
   "outputs": [],
   "source": [
    "xianjie_data_use = xianjie_data_use.loc[(xianjie_data_use['lon']>0)&(xianjie_data_use['方位角']>0)]"
   ]
  },
  {
   "cell_type": "code",
   "execution_count": null,
   "metadata": {
    "ExecuteTime": {
     "end_time": "2020-09-08T08:17:54.871977Z",
     "start_time": "2020-09-08T08:17:54.410418Z"
    }
   },
   "outputs": [],
   "source": [
    "xianjie_data_use_changjing = mytools.gisn.points_coverage_merge(xianjie_data_use,'lon','lat')"
   ]
  },
  {
   "cell_type": "code",
   "execution_count": null,
   "metadata": {
    "ExecuteTime": {
     "end_time": "2020-09-08T08:18:52.811334Z",
     "start_time": "2020-09-08T08:18:52.806334Z"
    }
   },
   "outputs": [],
   "source": [
    "xianjie_data_use_jl = mytools.gisn.changjing_distance(xianjie_data_use_changjing,'区域类型','工作频段','站间距')"
   ]
  },
  {
   "cell_type": "code",
   "execution_count": null,
   "metadata": {
    "ExecuteTime": {
     "end_time": "2020-09-08T08:18:54.012987Z",
     "start_time": "2020-09-08T08:18:53.686446Z"
    }
   },
   "outputs": [],
   "source": [
    "xianjie_s = mytools.gisn.add_sectors_df(xianjie_data_use_jl,\n",
    "    coords=['lon', 'lat', 'd_height', '方位角', 'distance'],\n",
    "    has_z=False,\n",
    "    sec_col='geometry',\n",
    "    shape_dict={'beam': 120, 'per_degree': 10})"
   ]
  },
  {
   "cell_type": "code",
   "execution_count": null,
   "metadata": {
    "ExecuteTime": {
     "end_time": "2020-09-08T08:43:23.636605Z",
     "start_time": "2020-09-08T08:43:23.615603Z"
    }
   },
   "outputs": [],
   "source": [
    "kongd.head(1)"
   ]
  },
  {
   "cell_type": "code",
   "execution_count": null,
   "metadata": {
    "ExecuteTime": {
     "end_time": "2020-09-08T08:43:31.601117Z",
     "start_time": "2020-09-08T08:43:31.321081Z"
    }
   },
   "outputs": [],
   "source": [
    "kongd_use = kongd.dissolve('地市')"
   ]
  },
  {
   "cell_type": "code",
   "execution_count": null,
   "metadata": {
    "ExecuteTime": {
     "end_time": "2020-09-08T08:44:17.657965Z",
     "start_time": "2020-09-08T08:44:17.620461Z"
    }
   },
   "outputs": [],
   "source": [
    "res = gpd.overlay(xianjie_s.iloc[1:13,],kongd_use)"
   ]
  },
  {
   "cell_type": "code",
   "execution_count": null,
   "metadata": {
    "ExecuteTime": {
     "end_time": "2020-09-08T08:47:15.232014Z",
     "start_time": "2020-09-08T08:47:14.980482Z"
    }
   },
   "outputs": [],
   "source": [
    "xianjie_s.plot()"
   ]
  },
  {
   "cell_type": "code",
   "execution_count": null,
   "metadata": {
    "ExecuteTime": {
     "end_time": "2020-09-08T08:43:45.094330Z",
     "start_time": "2020-09-08T08:43:45.088329Z"
    }
   },
   "outputs": [],
   "source": [
    "res['geometry'][0]"
   ]
  },
  {
   "cell_type": "code",
   "execution_count": null,
   "metadata": {},
   "outputs": [],
   "source": []
  }
 ],
 "metadata": {
  "kernelspec": {
   "display_name": "Python 3",
   "language": "python",
   "name": "python3"
  },
  "language_info": {
   "codemirror_mode": {
    "name": "ipython",
    "version": 3
   },
   "file_extension": ".py",
   "mimetype": "text/x-python",
   "name": "python",
   "nbconvert_exporter": "python",
   "pygments_lexer": "ipython3",
   "version": "3.7.4"
  },
  "toc": {
   "base_numbering": 1,
   "nav_menu": {},
   "number_sections": true,
   "sideBar": true,
   "skip_h1_title": false,
   "title_cell": "Table of Contents",
   "title_sidebar": "Contents",
   "toc_cell": false,
   "toc_position": {},
   "toc_section_display": true,
   "toc_window_display": false
  },
  "varInspector": {
   "cols": {
    "lenName": 16,
    "lenType": 16,
    "lenVar": 40
   },
   "kernels_config": {
    "python": {
     "delete_cmd_postfix": "",
     "delete_cmd_prefix": "del ",
     "library": "var_list.py",
     "varRefreshCmd": "print(var_dic_list())"
    },
    "r": {
     "delete_cmd_postfix": ") ",
     "delete_cmd_prefix": "rm(",
     "library": "var_list.r",
     "varRefreshCmd": "cat(var_dic_list()) "
    }
   },
   "types_to_exclude": [
    "module",
    "function",
    "builtin_function_or_method",
    "instance",
    "_Feature"
   ],
   "window_display": false
  }
 },
 "nbformat": 4,
 "nbformat_minor": 2
}
