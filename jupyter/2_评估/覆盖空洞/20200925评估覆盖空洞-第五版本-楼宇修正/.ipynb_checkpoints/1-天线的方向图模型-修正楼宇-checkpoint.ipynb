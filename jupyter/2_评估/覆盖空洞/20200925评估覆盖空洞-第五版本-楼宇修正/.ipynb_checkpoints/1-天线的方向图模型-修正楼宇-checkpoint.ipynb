{
 "cells": [
  {
   "cell_type": "code",
   "execution_count": 126,
   "metadata": {
    "ExecuteTime": {
     "end_time": "2020-09-27T14:42:09.802670Z",
     "start_time": "2020-09-27T14:42:09.798669Z"
    }
   },
   "outputs": [],
   "source": [
    "import pandas as pd\n",
    "import mytools,os\n",
    "from geographiclib.geodesic import Geodesic\n",
    "from shapely.geometry import Polygon,Point,LineString,MultiPolygon\n",
    "import geopandas as gpd\n",
    "from shapely.ops import unary_union"
   ]
  },
  {
   "cell_type": "markdown",
   "metadata": {},
   "source": [
    "# 第五版本覆盖空洞\n",
    "### 使用天线方向模型进行修正\n",
    "使用农村1500距离和1800距离为半径\n",
    "### 使用每十度一个扇形修正\n",
    "使用270-90度的方向图层为有效数据"
   ]
  },
  {
   "cell_type": "code",
   "execution_count": 2,
   "metadata": {
    "ExecuteTime": {
     "end_time": "2020-09-27T13:11:22.299425Z",
     "start_time": "2020-09-27T13:11:17.789852Z"
    }
   },
   "outputs": [
    {
     "name": "stdout",
     "output_type": "stream",
     "text": [
      "设置变量通用名\n"
     ]
    }
   ],
   "source": [
    "#导入工参数据\n",
    "gongcan = pd.read_csv(open('G:/1-规划/评估/覆盖空洞/20200712第四版本/1-基础数据/ltejizhan20200616&微站_合并.csv',encoding='gbk'),usecols=[\n",
    "    '小区CGI(*)','所属地区','小区中文名','RRU经度', 'RRU纬度','天线挂高','工作频段', '方位角','归属区县','厂家名称' ])\n",
    "#设置变量通用名\n",
    "print('设置变量通用名')\n",
    "id = '小区CGI(*)'\n",
    "lon = 'RRU经度'\n",
    "lat = 'RRU纬度'\n",
    "zhishi = '工作频段'\n",
    "fw = '方位角'\n",
    "\n",
    "gongcan = gongcan.loc[(gongcan['RRU经度']>108)&\n",
    "            (gongcan['RRU经度']<117)&\n",
    "            (gongcan['RRU纬度']>28)&\n",
    "            (gongcan['RRU纬度']<34)&\n",
    "           (gongcan['方位角'].notnull())]"
   ]
  },
  {
   "cell_type": "code",
   "execution_count": 3,
   "metadata": {
    "ExecuteTime": {
     "end_time": "2020-09-27T13:11:22.914503Z",
     "start_time": "2020-09-27T13:11:22.316427Z"
    }
   },
   "outputs": [],
   "source": [
    "#只要宏站\n",
    "gongcan['小区中文名'] = gongcan['小区中文名'].fillna('无')\n",
    "gongcan = gongcan.loc[~gongcan['小区中文名'].str.contains('W-')]\n",
    "gongcan = gongcan.loc[~gongcan['小区中文名'].str.contains('R')]\n",
    "# gongcan = gongcan.loc[~gongcan['小区中文名'].str.contains('M-')]"
   ]
  },
  {
   "cell_type": "code",
   "execution_count": 4,
   "metadata": {
    "ExecuteTime": {
     "end_time": "2020-09-27T13:11:23.177036Z",
     "start_time": "2020-09-27T13:11:22.931505Z"
    }
   },
   "outputs": [
    {
     "data": {
      "text/plain": [
       "(18096, 10)"
      ]
     },
     "execution_count": 4,
     "metadata": {},
     "output_type": "execute_result"
    }
   ],
   "source": [
    "gongcan['小区中文名'] = gongcan['小区中文名'].fillna('无')\n",
    "gongcan.loc[gongcan['小区中文名'].str.contains('M-')].shape"
   ]
  },
  {
   "cell_type": "code",
   "execution_count": 5,
   "metadata": {
    "ExecuteTime": {
     "end_time": "2020-09-27T13:11:51.671654Z",
     "start_time": "2020-09-27T13:11:23.195038Z"
    }
   },
   "outputs": [
    {
     "name": "stdout",
     "output_type": "stream",
     "text": [
      "添加覆盖距离\n"
     ]
    }
   ],
   "source": [
    "#打标场景\n",
    "gongcan = mytools.gisn.points_coverage_merge(gongcan,lon,lat)\n",
    "print('添加覆盖距离')\n",
    "gongcan_loc_juli = mytools.gisn.changjing_distance(gongcan,'区域类型',zhishi)"
   ]
  },
  {
   "cell_type": "code",
   "execution_count": 6,
   "metadata": {
    "ExecuteTime": {
     "end_time": "2020-09-27T13:11:51.771667Z",
     "start_time": "2020-09-27T13:11:51.705159Z"
    }
   },
   "outputs": [],
   "source": [
    "gongcan_loc_juli.loc[(gongcan_loc_juli['区域类型']=='农村')&(gongcan_loc_juli['工作频段']=='FDD900'),'distance']=1800"
   ]
  },
  {
   "cell_type": "code",
   "execution_count": 7,
   "metadata": {
    "ExecuteTime": {
     "end_time": "2020-09-27T13:11:51.815173Z",
     "start_time": "2020-09-27T13:11:51.799171Z"
    }
   },
   "outputs": [
    {
     "data": {
      "text/html": [
       "<div>\n",
       "<style scoped>\n",
       "    .dataframe tbody tr th:only-of-type {\n",
       "        vertical-align: middle;\n",
       "    }\n",
       "\n",
       "    .dataframe tbody tr th {\n",
       "        vertical-align: top;\n",
       "    }\n",
       "\n",
       "    .dataframe thead th {\n",
       "        text-align: right;\n",
       "    }\n",
       "</style>\n",
       "<table border=\"1\" class=\"dataframe\">\n",
       "  <thead>\n",
       "    <tr style=\"text-align: right;\">\n",
       "      <th></th>\n",
       "      <th>小区CGI(*)</th>\n",
       "      <th>小区中文名</th>\n",
       "      <th>所属地区</th>\n",
       "      <th>RRU经度</th>\n",
       "      <th>RRU纬度</th>\n",
       "      <th>天线挂高</th>\n",
       "      <th>方位角</th>\n",
       "      <th>工作频段</th>\n",
       "      <th>归属区县</th>\n",
       "      <th>厂家名称</th>\n",
       "      <th>区域类型</th>\n",
       "      <th>distance</th>\n",
       "    </tr>\n",
       "  </thead>\n",
       "  <tbody>\n",
       "    <tr>\n",
       "      <th>0</th>\n",
       "      <td>460-00-52246-2</td>\n",
       "      <td>公安群力-ELH-2</td>\n",
       "      <td>荆州</td>\n",
       "      <td>112.14735</td>\n",
       "      <td>30.12405</td>\n",
       "      <td>42.0</td>\n",
       "      <td>157.0</td>\n",
       "      <td>F</td>\n",
       "      <td>公安县</td>\n",
       "      <td>爱立信</td>\n",
       "      <td>农村</td>\n",
       "      <td>1000.0</td>\n",
       "    </tr>\n",
       "  </tbody>\n",
       "</table>\n",
       "</div>"
      ],
      "text/plain": [
       "         小区CGI(*)       小区中文名 所属地区      RRU经度     RRU纬度  天线挂高    方位角 工作频段  \\\n",
       "0  460-00-52246-2  公安群力-ELH-2   荆州  112.14735  30.12405  42.0  157.0    F   \n",
       "\n",
       "  归属区县 厂家名称 区域类型  distance  \n",
       "0  公安县  爱立信   农村    1000.0  "
      ]
     },
     "execution_count": 7,
     "metadata": {},
     "output_type": "execute_result"
    }
   ],
   "source": [
    "gongcan_loc_juli.head(1)"
   ]
  },
  {
   "cell_type": "code",
   "execution_count": 8,
   "metadata": {
    "ExecuteTime": {
     "end_time": "2020-09-27T13:11:51.846177Z",
     "start_time": "2020-09-27T13:11:51.842176Z"
    }
   },
   "outputs": [
    {
     "data": {
      "text/plain": [
       "(328065, 12)"
      ]
     },
     "execution_count": 8,
     "metadata": {},
     "output_type": "execute_result"
    }
   ],
   "source": [
    "gongcan_loc_juli.shape"
   ]
  },
  {
   "cell_type": "markdown",
   "metadata": {},
   "source": [
    "# 覆盖模型修正"
   ]
  },
  {
   "cell_type": "code",
   "execution_count": null,
   "metadata": {
    "ExecuteTime": {
     "end_time": "2020-09-25T06:56:24.338203Z",
     "start_time": "2020-09-25T06:56:24.061668Z"
    }
   },
   "outputs": [],
   "source": [
    "gongcan_loc_juli['工作频段'] = gongcan_loc_juli['工作频段'].apply(lambda x: 900 if x=='FDD900' else 1800)\n",
    "\n",
    "gd,band= map(np.log10, (gongcan_loc_juli['天线挂高'],gongcan_loc_juli['工作频段']))\n",
    "\n",
    "gongcan_loc_juli['覆盖模型距离'] = np.power(10,\n",
    "                                      (148 - (46.3+33.9*band-13.82*gd-(-3.81))- 3)/(44.9-6.55*gd))*1000\n",
    "\n",
    "gongcan_loc_juli['30米覆盖模型距离'] = np.power(10,\n",
    "                                      (148 - (46.3+33.9*band-13.82*np.log10(30)-(-3.81))- 3)/(44.9-6.55*np.log10(30)))*1000\n",
    "\n",
    "gongcan_loc_juli['使用覆盖半径'] = gongcan_loc_juli['覆盖模型距离'] /gongcan_loc_juli['30米覆盖模型距离']*gongcan_loc_juli['distance']"
   ]
  },
  {
   "cell_type": "code",
   "execution_count": null,
   "metadata": {
    "ExecuteTime": {
     "end_time": "2020-09-25T06:56:24.392710Z",
     "start_time": "2020-09-25T06:56:24.372708Z"
    }
   },
   "outputs": [],
   "source": [
    "def fuck(x):\n",
    "    if x['区域类型']=='主城区':\n",
    "        if x['工作频段']==900:\n",
    "            if x['使用覆盖半径']<200:\n",
    "                return 200\n",
    "            elif x['使用覆盖半径']>400:\n",
    "                return 400\n",
    "            else:\n",
    "                return x['distance']\n",
    "        else:\n",
    "            if x['使用覆盖半径']<150:\n",
    "                return 150\n",
    "            elif x['使用覆盖半径']>350:\n",
    "                return 350\n",
    "            else:\n",
    "                return x['distance']\n",
    "    elif  x['区域类型']=='县城':\n",
    "        if x['工作频段']==900:\n",
    "            if x['使用覆盖半径']<300:\n",
    "                return 300\n",
    "            elif x['使用覆盖半径']>430:\n",
    "                return 430\n",
    "            else:\n",
    "                return x['distance']\n",
    "        else:\n",
    "            if x['使用覆盖半径']<250:\n",
    "                return 250\n",
    "            elif x['使用覆盖半径']>400:\n",
    "                return 400\n",
    "            else:\n",
    "                return x['distance']\n",
    "    elif  x['区域类型']=='一般城区':\n",
    "        if x['工作频段']==900:\n",
    "            if x['使用覆盖半径']<400:\n",
    "                return 400\n",
    "            elif x['使用覆盖半径']>1200:\n",
    "                return 1200\n",
    "            else:\n",
    "                return x['distance']\n",
    "        else:\n",
    "            if x['使用覆盖半径']<350:\n",
    "                return 350\n",
    "            elif x['使用覆盖半径']>800:\n",
    "                return 800\n",
    "            else:\n",
    "                return x['distance']\n",
    "    elif  x['区域类型']=='乡镇':\n",
    "        if x['工作频段']==900:\n",
    "            if x['使用覆盖半径']<430:\n",
    "                return 430\n",
    "            elif x['使用覆盖半径']>2200:\n",
    "                return 2200\n",
    "            else:\n",
    "                return x['distance']\n",
    "        else:\n",
    "            if x['使用覆盖半径']<400:\n",
    "                return 400\n",
    "            elif x['使用覆盖半径']>1000:\n",
    "                return 1000\n",
    "            else:\n",
    "                return x['distance']\n",
    "    elif  x['区域类型']=='农村':\n",
    "        if x['工作频段']==900:\n",
    "            if x['使用覆盖半径']<1200:\n",
    "                return 1200\n",
    "            elif x['使用覆盖半径']>2500:\n",
    "                return 2500\n",
    "            else:\n",
    "                return x['distance']\n",
    "        else:\n",
    "            if x['使用覆盖半径']<800:\n",
    "                return 800\n",
    "            elif x['使用覆盖半径']>1500:\n",
    "                return 1500\n",
    "            else:\n",
    "                return x['distance']\n",
    "    else:\n",
    "        return 0"
   ]
  },
  {
   "cell_type": "code",
   "execution_count": null,
   "metadata": {
    "ExecuteTime": {
     "end_time": "2020-09-25T06:57:00.246763Z",
     "start_time": "2020-09-25T06:56:24.427215Z"
    }
   },
   "outputs": [],
   "source": [
    "gongcan_loc_juli['distance_use'] = gongcan_loc_juli.apply(fuck,axis=1)"
   ]
  },
  {
   "cell_type": "markdown",
   "metadata": {},
   "source": [
    "# 按照天线方向图模型画多边形"
   ]
  },
  {
   "cell_type": "code",
   "execution_count": null,
   "metadata": {
    "ExecuteTime": {
     "end_time": "2020-09-25T06:57:00.359778Z",
     "start_time": "2020-09-25T06:57:00.325273Z"
    }
   },
   "outputs": [],
   "source": [
    "gongcan_loc_juli['所属地区'] = gongcan_loc_juli['所属地区'].fillna('wu')"
   ]
  },
  {
   "cell_type": "code",
   "execution_count": null,
   "metadata": {
    "ExecuteTime": {
     "end_time": "2020-09-25T06:57:01.629939Z",
     "start_time": "2020-09-25T06:57:00.415785Z"
    }
   },
   "outputs": [],
   "source": [
    "gongcan_loc_juli.to_pickle('temp1.data')"
   ]
  },
  {
   "cell_type": "code",
   "execution_count": null,
   "metadata": {
    "ExecuteTime": {
     "end_time": "2020-09-25T06:57:01.672444Z",
     "start_time": "2020-09-25T06:57:01.667444Z"
    }
   },
   "outputs": [],
   "source": [
    "gongcan_loc_juli.shape"
   ]
  },
  {
   "cell_type": "code",
   "execution_count": null,
   "metadata": {
    "ExecuteTime": {
     "end_time": "2020-09-25T06:57:01.717450Z",
     "start_time": "2020-09-25T06:57:01.707449Z"
    }
   },
   "outputs": [],
   "source": [
    "%%writefile temp1.py\n",
    "from geographiclib.geodesic import Geodesic\n",
    "from shapely.geometry import Polygon,Point,LineString\n",
    "import pandas as pd\n",
    "import geopandas as gpd\n",
    "import mytools,os ,sys,time,multiprocessing\n",
    "from multiprocessing import Pool\n",
    "mx_900 = mytools.othern.pickle_read('G:/mypy/mycloud/jupyter/2_评估/覆盖空洞/20200902评估覆盖空洞-第五版本-覆盖空洞使用天线方向图进行/1-基础数据/44低增益900M0下倾P3_935覆盖模型.data')\n",
    "mx_f = mytools.othern.pickle_read('G:/mypy/mycloud/jupyter/2_评估/覆盖空洞/20200902评估覆盖空洞-第五版本-覆盖空洞使用天线方向图进行/1-基础数据/F频段模型fad天线.data')\n",
    "mx_d = mytools.othern.pickle_read('G:/mypy/mycloud/jupyter/2_评估/覆盖空洞/20200902评估覆盖空洞-第五版本-覆盖空洞使用天线方向图进行/1-基础数据/D频段模型fad天线.data')\n",
    "data_z = pd.read_pickle('temp1.data')\n",
    "#导入区县图层\n",
    "def jm_z(x,jd_dp,lon,lat):\n",
    "    jl = int(x['distance_use'])\n",
    "    lon = x[lon]\n",
    "    lat = x[lat]\n",
    "    fw = x['方位角']\n",
    "    jd_dp['distance_use'] = jd_dp['电平_正'].apply(lambda x: x/37.052 *jl)\n",
    "    jd_dp_use = jd_dp.loc[(jd_dp['角度']<=90) | (jd_dp['角度']>=270)]\n",
    "    jd_dp_use['角度'] = pd.to_numeric(jd_dp_use['角度'] )\n",
    "    jd_dp_use['角度2'] = jd_dp_use['角度'].apply(lambda x: x-0+fw if x-0+fw<360 else x-0+fw-360 )\n",
    "    points=[]\n",
    "    dict_use = dict()\n",
    "    for jiao , jl in zip(jd_dp_use['角度2'],jd_dp_use['distance_use']):\n",
    "        res = Geodesic.WGS84.Direct(lat, lon, jiao, jl)\n",
    "        if int(jiao)%10==0:\n",
    "            dict_use[jiao]=res['lon2'], res['lat2']\n",
    "        points.append((res['lon2'], res['lat2']))\n",
    "    points.append(points[0])\n",
    "    pol = Polygon(points)\n",
    "    return pol\n",
    "def fcgo(data_t):\n",
    "    data_t['geometry'] = data_t.apply(lambda x:jm_z(x,mx_900,'RRU经度','RRU纬度'),axis=1)\n",
    "\n",
    "    return data_t\n",
    "if __name__ == '__main__':\n",
    "    threads = []\n",
    "    with Pool(processes=6) as pool:         # start 4 worker processes\n",
    "        aa = pd.DataFrame()\n",
    "        for name , data_t in data_z.groupby('所属地区'):\n",
    "            print(name,'开始')\n",
    "            result = pool.apply_async(fcgo, (data_t,)) # evaluate \"f(10)\" asynchronously in a single process\n",
    "            threads.append(result)\n",
    "        pool.close()#防止将更多任务提交到池中。完成所有任务后，工作进程将退出。\n",
    "        # 调用join之前，先调用close函数，否则会出错。执行完close后不会有新的线程加入到pool,\n",
    "        # join函数等待所有子线程结束\n",
    "        pool.join()\n",
    "        for result_t in threads:\n",
    "            data_tp = result_t.get()\n",
    "            aa = aa.append(data_tp)\n",
    "            print(data_tp.shape,aa.shape)\n",
    "        print(aa.shape)\n",
    "        aa.to_pickle('res.pkl')"
   ]
  },
  {
   "cell_type": "code",
   "execution_count": null,
   "metadata": {
    "ExecuteTime": {
     "end_time": "2020-09-25T06:57:16.517829Z",
     "start_time": "2020-09-25T06:57:14.338053Z"
    },
    "scrolled": true
   },
   "outputs": [],
   "source": [
    "mytools.dog()"
   ]
  },
  {
   "cell_type": "code",
   "execution_count": null,
   "metadata": {
    "ExecuteTime": {
     "start_time": "2020-09-10T06:42:56.676Z"
    }
   },
   "outputs": [],
   "source": [
    "# %run temp.py\n",
    "# if os.path.exists('temp.py'):  # 如果文件存在\n",
    "#     os.remove('temp.py') # 删除文件"
   ]
  },
  {
   "cell_type": "code",
   "execution_count": 9,
   "metadata": {
    "ExecuteTime": {
     "end_time": "2020-09-27T13:12:04.350264Z",
     "start_time": "2020-09-27T13:11:51.875680Z"
    }
   },
   "outputs": [],
   "source": [
    "grid_changjing = pd.read_pickle('res.pkl')\n",
    "# if os.path.exists('res.pkl'):  # 如果文件存在\n",
    "#     os.remove('res.pkl') # 删除文件\n",
    "# if os.path.exists('temp1.data'):  # 如果文件存在\n",
    "#     os.remove('temp1.data') # 删除文件"
   ]
  },
  {
   "cell_type": "code",
   "execution_count": 10,
   "metadata": {
    "ExecuteTime": {
     "end_time": "2020-09-27T13:12:04.495283Z",
     "start_time": "2020-09-27T13:12:04.400271Z"
    }
   },
   "outputs": [],
   "source": [
    "gongcan_loc_juli = grid_changjing.copy()"
   ]
  },
  {
   "cell_type": "code",
   "execution_count": 11,
   "metadata": {
    "ExecuteTime": {
     "end_time": "2020-09-27T13:12:05.448404Z",
     "start_time": "2020-09-27T13:12:04.553290Z"
    }
   },
   "outputs": [
    {
     "data": {
      "text/html": [
       "<div>\n",
       "<style scoped>\n",
       "    .dataframe tbody tr th:only-of-type {\n",
       "        vertical-align: middle;\n",
       "    }\n",
       "\n",
       "    .dataframe tbody tr th {\n",
       "        vertical-align: top;\n",
       "    }\n",
       "\n",
       "    .dataframe thead th {\n",
       "        text-align: right;\n",
       "    }\n",
       "</style>\n",
       "<table border=\"1\" class=\"dataframe\">\n",
       "  <thead>\n",
       "    <tr style=\"text-align: right;\">\n",
       "      <th></th>\n",
       "      <th>小区CGI(*)</th>\n",
       "      <th>小区中文名</th>\n",
       "      <th>所属地区</th>\n",
       "      <th>RRU经度</th>\n",
       "      <th>RRU纬度</th>\n",
       "      <th>天线挂高</th>\n",
       "      <th>方位角</th>\n",
       "      <th>工作频段</th>\n",
       "      <th>归属区县</th>\n",
       "      <th>厂家名称</th>\n",
       "      <th>区域类型</th>\n",
       "      <th>distance</th>\n",
       "      <th>覆盖模型距离</th>\n",
       "      <th>30米覆盖模型距离</th>\n",
       "      <th>使用覆盖半径</th>\n",
       "      <th>distance_use</th>\n",
       "      <th>geometry</th>\n",
       "    </tr>\n",
       "    <tr>\n",
       "      <th>type</th>\n",
       "      <th></th>\n",
       "      <th></th>\n",
       "      <th></th>\n",
       "      <th></th>\n",
       "      <th></th>\n",
       "      <th></th>\n",
       "      <th></th>\n",
       "      <th></th>\n",
       "      <th></th>\n",
       "      <th></th>\n",
       "      <th></th>\n",
       "      <th></th>\n",
       "      <th></th>\n",
       "      <th></th>\n",
       "      <th></th>\n",
       "      <th></th>\n",
       "      <th></th>\n",
       "    </tr>\n",
       "  </thead>\n",
       "  <tbody>\n",
       "    <tr>\n",
       "      <th>Polygon</th>\n",
       "      <td>328065</td>\n",
       "      <td>328065</td>\n",
       "      <td>328065</td>\n",
       "      <td>328065</td>\n",
       "      <td>328065</td>\n",
       "      <td>327991</td>\n",
       "      <td>328065</td>\n",
       "      <td>328065</td>\n",
       "      <td>322085</td>\n",
       "      <td>322251</td>\n",
       "      <td>328065</td>\n",
       "      <td>328065</td>\n",
       "      <td>324507</td>\n",
       "      <td>328065</td>\n",
       "      <td>324507</td>\n",
       "      <td>328065</td>\n",
       "      <td>328065</td>\n",
       "    </tr>\n",
       "  </tbody>\n",
       "</table>\n",
       "</div>"
      ],
      "text/plain": [
       "         小区CGI(*)   小区中文名    所属地区   RRU经度   RRU纬度    天线挂高     方位角    工作频段  \\\n",
       "type                                                                        \n",
       "Polygon    328065  328065  328065  328065  328065  327991  328065  328065   \n",
       "\n",
       "           归属区县    厂家名称    区域类型  distance  覆盖模型距离  30米覆盖模型距离  使用覆盖半径  \\\n",
       "type                                                                   \n",
       "Polygon  322085  322251  328065    328065  324507     328065  324507   \n",
       "\n",
       "         distance_use  geometry  \n",
       "type                             \n",
       "Polygon        328065    328065  "
      ]
     },
     "execution_count": 11,
     "metadata": {},
     "output_type": "execute_result"
    }
   ],
   "source": [
    "gdfdata = gpd.GeoDataFrame(gongcan_loc_juli, crs={'init': 'epsg:4326'},geometry='geometry')\n",
    "gdfdata['type'] = gdfdata.type\n",
    "gdfdata.groupby('type').count()"
   ]
  },
  {
   "cell_type": "code",
   "execution_count": null,
   "metadata": {
    "ExecuteTime": {
     "end_time": "2020-09-25T06:58:48.040451Z",
     "start_time": "2020-09-25T06:58:48.037451Z"
    }
   },
   "outputs": [],
   "source": [
    "# gdfdata.to_csv('G:/mypy/mycloud/jupyter/2_评估/覆盖空洞/20200902评估覆盖空洞-第四版本-覆盖空洞使用天线方向图进行/2-输出数据/天线方向图模型hata修正_东新.csv',encoding='gbk')\n",
    "\n",
    "# gdfdata.to_pickle('G:/mypy/mycloud/jupyter/2_评估/覆盖空洞/20200902评估覆盖空洞-第四版本-覆盖空洞使用天线方向图进行/2-输出数据/天线方向图模型hata修正_东新.data')"
   ]
  },
  {
   "cell_type": "code",
   "execution_count": 263,
   "metadata": {
    "ExecuteTime": {
     "end_time": "2020-09-27T15:31:12.636862Z",
     "start_time": "2020-09-27T15:31:12.605858Z"
    }
   },
   "outputs": [],
   "source": [
    "use_data = gdfdata.loc[gdfdata['归属区县']=='洪山区']"
   ]
  },
  {
   "cell_type": "code",
   "execution_count": 266,
   "metadata": {
    "ExecuteTime": {
     "end_time": "2020-09-27T15:31:29.535508Z",
     "start_time": "2020-09-27T15:31:29.304479Z"
    }
   },
   "outputs": [
    {
     "data": {
      "text/plain": [
       "<matplotlib.axes._subplots.AxesSubplot at 0xeaa24908>"
      ]
     },
     "execution_count": 266,
     "metadata": {},
     "output_type": "execute_result"
    },
    {
     "data": {
      "image/png": "[encoded data removed]",
      "text/plain": [
       "<Figure size 864x864 with 1 Axes>"
      ]
     },
     "metadata": {
      "needs_background": "light"
     },
     "output_type": "display_data"
    }
   ],
   "source": [
    "use_data.head(12).plot(figsize=[12,12])"
   ]
  },
  {
   "cell_type": "code",
   "execution_count": 262,
   "metadata": {
    "ExecuteTime": {
     "end_time": "2020-09-27T15:31:04.969889Z",
     "start_time": "2020-09-27T15:31:04.948886Z"
    }
   },
   "outputs": [
    {
     "data": {
      "text/html": [
       "<div>\n",
       "<style scoped>\n",
       "    .dataframe tbody tr th:only-of-type {\n",
       "        vertical-align: middle;\n",
       "    }\n",
       "\n",
       "    .dataframe tbody tr th {\n",
       "        vertical-align: top;\n",
       "    }\n",
       "\n",
       "    .dataframe thead th {\n",
       "        text-align: right;\n",
       "    }\n",
       "</style>\n",
       "<table border=\"1\" class=\"dataframe\">\n",
       "  <thead>\n",
       "    <tr style=\"text-align: right;\">\n",
       "      <th></th>\n",
       "      <th>小区CGI(*)</th>\n",
       "      <th>小区中文名</th>\n",
       "      <th>所属地区</th>\n",
       "      <th>RRU经度</th>\n",
       "      <th>RRU纬度</th>\n",
       "      <th>天线挂高</th>\n",
       "      <th>方位角</th>\n",
       "      <th>工作频段</th>\n",
       "      <th>归属区县</th>\n",
       "      <th>厂家名称</th>\n",
       "      <th>区域类型</th>\n",
       "      <th>distance</th>\n",
       "      <th>覆盖模型距离</th>\n",
       "      <th>30米覆盖模型距离</th>\n",
       "      <th>使用覆盖半径</th>\n",
       "      <th>distance_use</th>\n",
       "      <th>geometry</th>\n",
       "      <th>type</th>\n",
       "    </tr>\n",
       "  </thead>\n",
       "  <tbody>\n",
       "    <tr>\n",
       "      <th>55</th>\n",
       "      <td>460-00-440659-6</td>\n",
       "      <td>D洪山区政府-ZL3D-6</td>\n",
       "      <td>武汉</td>\n",
       "      <td>114.33871</td>\n",
       "      <td>30.50173</td>\n",
       "      <td>25.0</td>\n",
       "      <td>240.0</td>\n",
       "      <td>1800</td>\n",
       "      <td>洪山区</td>\n",
       "      <td>中兴</td>\n",
       "      <td>主城区</td>\n",
       "      <td>250.0</td>\n",
       "      <td>1281.958553</td>\n",
       "      <td>1382.063443</td>\n",
       "      <td>231.892132</td>\n",
       "      <td>250.0</td>\n",
       "      <td>MULTIPOLYGON (((114.33871 30.50173, 114.33646 ...</td>\n",
       "      <td>Polygon</td>\n",
       "    </tr>\n",
       "  </tbody>\n",
       "</table>\n",
       "</div>"
      ],
      "text/plain": [
       "           小区CGI(*)          小区中文名 所属地区      RRU经度     RRU纬度  天线挂高    方位角  \\\n",
       "55  460-00-440659-6  D洪山区政府-ZL3D-6   武汉  114.33871  30.50173  25.0  240.0   \n",
       "\n",
       "    工作频段 归属区县 厂家名称 区域类型  distance       覆盖模型距离    30米覆盖模型距离      使用覆盖半径  \\\n",
       "55  1800  洪山区   中兴  主城区     250.0  1281.958553  1382.063443  231.892132   \n",
       "\n",
       "    distance_use                                           geometry     type  \n",
       "55         250.0  MULTIPOLYGON (((114.33871 30.50173, 114.33646 ...  Polygon  "
      ]
     },
     "execution_count": 262,
     "metadata": {},
     "output_type": "execute_result"
    }
   ],
   "source": [
    "use_data.head(1)"
   ]
  },
  {
   "cell_type": "code",
   "execution_count": 101,
   "metadata": {
    "ExecuteTime": {
     "end_time": "2020-09-27T14:05:02.676861Z",
     "start_time": "2020-09-27T14:05:02.673860Z"
    }
   },
   "outputs": [],
   "source": [
    "lon = 114.33871\n",
    "lat = 30.50173\n",
    "ji = 1000"
   ]
  },
  {
   "cell_type": "code",
   "execution_count": 97,
   "metadata": {
    "ExecuteTime": {
     "end_time": "2020-09-27T14:02:38.811592Z",
     "start_time": "2020-09-27T14:02:38.808592Z"
    }
   },
   "outputs": [],
   "source": [
    "x = 270"
   ]
  },
  {
   "cell_type": "code",
   "execution_count": 99,
   "metadata": {
    "ExecuteTime": {
     "end_time": "2020-09-27T14:03:29.526032Z",
     "start_time": "2020-09-27T14:03:29.518531Z"
    }
   },
   "outputs": [],
   "source": [
    "def fw_zl(fw=360):\n",
    "    if x < 90 :\n",
    "        jg = list(range(x%10,x+100,10))\n",
    "        jg2 = list(range(360-(90-x),360,10))\n",
    "        jg = jg2 + jg\n",
    "    elif x > 270:\n",
    "        jg = list(range(x-90,x+(360-x),10))\n",
    "        jg2= list(range((90-(360-x))%10,90-(360-x)+10,10))\n",
    "        jg = jg + jg2\n",
    "    else:\n",
    "        jg = list(range(x-90,x+100,10))\n",
    "    return jg"
   ]
  },
  {
   "cell_type": "code",
   "execution_count": 102,
   "metadata": {
    "ExecuteTime": {
     "end_time": "2020-09-27T14:05:14.107312Z",
     "start_time": "2020-09-27T14:05:14.100311Z"
    }
   },
   "outputs": [],
   "source": [
    "points=[]\n",
    "dict_use = dict()\n",
    "for jiao in [x for x in jg]:\n",
    "    res = Geodesic.WGS84.Direct(lat, lon, jiao, jl)\n",
    "    if jiao%10==0:\n",
    "        dict_use[jiao]=res['lon2'], res['lat2']\n",
    "    points.append((res['lon2'], res['lat2']))\n",
    "points.append(points[0])"
   ]
  },
  {
   "cell_type": "code",
   "execution_count": 105,
   "metadata": {
    "ExecuteTime": {
     "end_time": "2020-09-27T14:06:16.263205Z",
     "start_time": "2020-09-27T14:06:16.258704Z"
    }
   },
   "outputs": [
    {
     "data": {
      "image/svg+xml": [
       "<svg xmlns=\"http://www.w3.org/2000/svg\" xmlns:xlink=\"http://www.w3.org/1999/xlink\" width=\"100.0\" height=\"100.0\" viewBox=\"114.3359253519559 30.499294516045246 0.0029650542340675656 0.004870967128621118\" preserveAspectRatio=\"xMinYMin meet\"><g transform=\"matrix(1,0,0,-1,0,61.00345999921912)\"><path fill-rule=\"evenodd\" fill=\"#66cc99\" stroke=\"#555555\" stroke-width=\"9.741934257242236e-05\" opacity=\"0.6\" d=\"M 114.33871,30.499474922235194 L 114.3382577884216,30.499509181155073 L 114.33781931613623,30.499610917044485 L 114.3374079050872,30.4997770389106 L 114.33703605518603,30.500002499532098 L 114.3367150645818,30.50028044877926 L 114.3364546864115,30.500602441706313 L 114.33626283245594,30.50095869509832 L 114.33614533270553,30.50133838468379 L 114.33610575814585,30.501729973987548 L 114.33614531215692,30.502121564836507 L 114.33626279383718,30.502501258871195 L 114.33645463438054,30.502857519079804 L 114.33671500541438,30.50317952036863 L 114.33703599601861,30.503457478514232 L 114.33740785305626,30.503682947497502 L 114.33781927751744,30.50384907618022 L 114.33825776787297,30.50395081651884 L 114.33871,30.50398507698392 L 114.33871,30.499474922235194 z\" /></g></svg>"
      ],
      "text/plain": [
       "<shapely.geometry.polygon.Polygon at 0xdc95d948>"
      ]
     },
     "execution_count": 105,
     "metadata": {},
     "output_type": "execute_result"
    }
   ],
   "source": [
    "Polygon(points)"
   ]
  },
  {
   "cell_type": "code",
   "execution_count": 113,
   "metadata": {
    "ExecuteTime": {
     "end_time": "2020-09-27T14:22:25.656802Z",
     "start_time": "2020-09-27T14:22:25.651302Z"
    }
   },
   "outputs": [
    {
     "data": {
      "text/plain": [
       "{180: (114.33871, 30.499474922235194),\n",
       " 190: (114.3382577884216, 30.499509181155073),\n",
       " 200: (114.33781931613623, 30.499610917044485),\n",
       " 210: (114.3374079050872, 30.4997770389106),\n",
       " 220: (114.33703605518603, 30.500002499532098),\n",
       " 230: (114.3367150645818, 30.50028044877926),\n",
       " 240: (114.3364546864115, 30.500602441706313),\n",
       " 250: (114.33626283245594, 30.50095869509832),\n",
       " 260: (114.33614533270553, 30.50133838468379),\n",
       " 270: (114.33610575814585, 30.501729973987548),\n",
       " 280: (114.33614531215692, 30.502121564836507),\n",
       " 290: (114.33626279383718, 30.502501258871195),\n",
       " 300: (114.33645463438054, 30.502857519079804),\n",
       " 310: (114.33671500541438, 30.50317952036863),\n",
       " 320: (114.33703599601861, 30.503457478514232),\n",
       " 330: (114.33740785305626, 30.503682947497502),\n",
       " 340: (114.33781927751744, 30.50384907618022),\n",
       " 350: (114.33825776787297, 30.50395081651884),\n",
       " 360: (114.33871, 30.50398507698392)}"
      ]
     },
     "execution_count": 113,
     "metadata": {},
     "output_type": "execute_result"
    }
   ],
   "source": [
    "dict_use"
   ]
  },
  {
   "cell_type": "code",
   "execution_count": 32,
   "metadata": {
    "ExecuteTime": {
     "end_time": "2020-09-27T13:30:03.411788Z",
     "start_time": "2020-09-27T13:30:03.408787Z"
    }
   },
   "outputs": [],
   "source": [
    "pol = Polygon(points)"
   ]
  },
  {
   "cell_type": "code",
   "execution_count": 108,
   "metadata": {
    "ExecuteTime": {
     "end_time": "2020-09-27T14:21:24.128489Z",
     "start_time": "2020-09-27T14:21:24.124489Z"
    }
   },
   "outputs": [],
   "source": [
    "lins=[]\n",
    "for key,data_t in dict_use.items():\n",
    "    lon2,lat2=data_t\n",
    "    lins.append((lon,lat))\n",
    "    lins.append((lon2,lat2))"
   ]
  },
  {
   "cell_type": "code",
   "execution_count": 109,
   "metadata": {
    "ExecuteTime": {
     "end_time": "2020-09-27T14:21:24.597049Z",
     "start_time": "2020-09-27T14:21:24.593048Z"
    }
   },
   "outputs": [],
   "source": [
    "lins = [LineString([(lon, lat), (data_t[0], data_t[1])]) for key,data_t in dict_use.items()]"
   ]
  },
  {
   "cell_type": "code",
   "execution_count": 115,
   "metadata": {
    "ExecuteTime": {
     "end_time": "2020-09-27T14:24:54.975263Z",
     "start_time": "2020-09-27T14:24:54.299177Z"
    }
   },
   "outputs": [],
   "source": [
    "data_z = pd.read_pickle('temp1.data')"
   ]
  },
  {
   "cell_type": "code",
   "execution_count": 117,
   "metadata": {
    "ExecuteTime": {
     "end_time": "2020-09-27T14:25:17.303099Z",
     "start_time": "2020-09-27T14:25:17.195585Z"
    }
   },
   "outputs": [],
   "source": [
    "mx_900 = mytools.othern.pickle_read('G:/mypy/mycloud/jupyter/2_评估/覆盖空洞/20200902评估覆盖空洞-第五版本-覆盖空洞使用天线方向图进行/1-基础数据/44低增益900M0下倾P3_935覆盖模型.data')\n"
   ]
  },
  {
   "cell_type": "code",
   "execution_count": 118,
   "metadata": {
    "ExecuteTime": {
     "end_time": "2020-09-27T14:25:19.510879Z",
     "start_time": "2020-09-27T14:25:19.498877Z"
    }
   },
   "outputs": [
    {
     "data": {
      "text/html": [
       "<div>\n",
       "<style scoped>\n",
       "    .dataframe tbody tr th:only-of-type {\n",
       "        vertical-align: middle;\n",
       "    }\n",
       "\n",
       "    .dataframe tbody tr th {\n",
       "        vertical-align: top;\n",
       "    }\n",
       "\n",
       "    .dataframe thead th {\n",
       "        text-align: right;\n",
       "    }\n",
       "</style>\n",
       "<table border=\"1\" class=\"dataframe\">\n",
       "  <thead>\n",
       "    <tr style=\"text-align: right;\">\n",
       "      <th></th>\n",
       "      <th>角度</th>\n",
       "      <th>电平</th>\n",
       "      <th>电平_正</th>\n",
       "    </tr>\n",
       "  </thead>\n",
       "  <tbody>\n",
       "    <tr>\n",
       "      <th>0</th>\n",
       "      <td>0</td>\n",
       "      <td>-0.034002</td>\n",
       "      <td>37.017998</td>\n",
       "    </tr>\n",
       "    <tr>\n",
       "      <th>1</th>\n",
       "      <td>1</td>\n",
       "      <td>-0.060002</td>\n",
       "      <td>36.991998</td>\n",
       "    </tr>\n",
       "    <tr>\n",
       "      <th>2</th>\n",
       "      <td>2</td>\n",
       "      <td>-0.094139</td>\n",
       "      <td>36.957861</td>\n",
       "    </tr>\n",
       "    <tr>\n",
       "      <th>3</th>\n",
       "      <td>3</td>\n",
       "      <td>-0.134920</td>\n",
       "      <td>36.917080</td>\n",
       "    </tr>\n",
       "    <tr>\n",
       "      <th>4</th>\n",
       "      <td>4</td>\n",
       "      <td>-0.181400</td>\n",
       "      <td>36.870600</td>\n",
       "    </tr>\n",
       "    <tr>\n",
       "      <th>...</th>\n",
       "      <td>...</td>\n",
       "      <td>...</td>\n",
       "      <td>...</td>\n",
       "    </tr>\n",
       "    <tr>\n",
       "      <th>355</th>\n",
       "      <td>355</td>\n",
       "      <td>-0.014686</td>\n",
       "      <td>37.037314</td>\n",
       "    </tr>\n",
       "    <tr>\n",
       "      <th>356</th>\n",
       "      <td>356</td>\n",
       "      <td>-0.003541</td>\n",
       "      <td>37.048459</td>\n",
       "    </tr>\n",
       "    <tr>\n",
       "      <th>357</th>\n",
       "      <td>357</td>\n",
       "      <td>0.000000</td>\n",
       "      <td>37.052000</td>\n",
       "    </tr>\n",
       "    <tr>\n",
       "      <th>358</th>\n",
       "      <td>358</td>\n",
       "      <td>-0.003818</td>\n",
       "      <td>37.048182</td>\n",
       "    </tr>\n",
       "    <tr>\n",
       "      <th>359</th>\n",
       "      <td>359</td>\n",
       "      <td>-0.015188</td>\n",
       "      <td>37.036812</td>\n",
       "    </tr>\n",
       "  </tbody>\n",
       "</table>\n",
       "<p>360 rows × 3 columns</p>\n",
       "</div>"
      ],
      "text/plain": [
       "      角度        电平       电平_正\n",
       "0      0 -0.034002  37.017998\n",
       "1      1 -0.060002  36.991998\n",
       "2      2 -0.094139  36.957861\n",
       "3      3 -0.134920  36.917080\n",
       "4      4 -0.181400  36.870600\n",
       "..   ...       ...        ...\n",
       "355  355 -0.014686  37.037314\n",
       "356  356 -0.003541  37.048459\n",
       "357  357  0.000000  37.052000\n",
       "358  358 -0.003818  37.048182\n",
       "359  359 -0.015188  37.036812\n",
       "\n",
       "[360 rows x 3 columns]"
      ]
     },
     "execution_count": 118,
     "metadata": {},
     "output_type": "execute_result"
    }
   ],
   "source": [
    "mx_900"
   ]
  },
  {
   "cell_type": "code",
   "execution_count": 267,
   "metadata": {
    "ExecuteTime": {
     "end_time": "2020-09-27T15:31:51.697322Z",
     "start_time": "2020-09-27T15:31:51.679320Z"
    }
   },
   "outputs": [],
   "source": [
    "def jm_z(x,jd_dp,lon,lat,fw):\n",
    "    jl = int(x['distance_use'])\n",
    "    lon = x[lon]\n",
    "    lat = x[lat]\n",
    "    fw = x[fw]\n",
    "    jd_dp['distance_use'] = jd_dp['电平_正'].apply(lambda x: x/37.052 *jl)\n",
    "    jd_dp_use = jd_dp.loc[(jd_dp['角度']<=90) | (jd_dp['角度']>=270)]\n",
    "    jd_dp_use['角度'] = pd.to_numeric(jd_dp_use['角度'] )\n",
    "    jd_dp_use['角度2'] = jd_dp_use['角度'].apply(lambda x: x-0+fw if x-0+fw<360 else x-0+fw-360 )\n",
    "    poy=[]\n",
    "    dict_use = dict()\n",
    "    a=0\n",
    "    for jiao1,jiao2 , jl in zip(jd_dp_use['角度'],jd_dp_use['角度2'],jd_dp_use['distance_use']):\n",
    "        res = Geodesic.WGS84.Direct(lat, lon, jiao2, jl)\n",
    "        points=[]\n",
    "        if a==0:\n",
    "            jiao22=jiao2\n",
    "            lon_oo,lat_oo = (res['lon2'], res['lat2'])\n",
    "            lon_o,lat_o = (res['lon2'], res['lat2'])\n",
    "            a=1\n",
    "        elif jiao1==90:\n",
    "            lon_o,lat_o = (res['lon2'], res['lat2'])\n",
    "        elif jiao1==100:\n",
    "            print(jiao1,jiao2)\n",
    "            points.append((lon, lat))\n",
    "            points.append((lon_o,lat_o))\n",
    "            points.append((res['lon2'], res['lat2']))\n",
    "            points.append((lon, lat))\n",
    "            poy.append(Polygon(points))\n",
    "            lon_o,lat_o = (res['lon2'], res['lat2'])\n",
    "        elif jiao1==359:\n",
    "            points.append((lon, lat))\n",
    "            points.append((lon_o,lat_o))\n",
    "            points.append((lon_oo,lat_oo))\n",
    "            points.append((lon, lat))\n",
    "            poy.append(Polygon(points))\n",
    "        elif int(jiao2)%10==0:\n",
    "            print(jiao1,jiao2)\n",
    "            points.append((lon, lat))\n",
    "            points.append((lon_o,lat_o))\n",
    "            points.append((res['lon2'], res['lat2']))\n",
    "            points.append((lon, lat))\n",
    "            poy.append(Polygon(points))\n",
    "            lon_o,lat_o = (res['lon2'], res['lat2'])\n",
    "\n",
    "        jiao22=jiao2\n",
    "    \n",
    "    res_m = MultiPolygon(poy)\n",
    "    return res_m"
   ]
  },
  {
   "cell_type": "code",
   "execution_count": 268,
   "metadata": {
    "ExecuteTime": {
     "end_time": "2020-09-27T15:31:52.134378Z",
     "start_time": "2020-09-27T15:31:52.130377Z"
    }
   },
   "outputs": [],
   "source": [
    "use_data = use_data.head(12)"
   ]
  },
  {
   "cell_type": "code",
   "execution_count": 269,
   "metadata": {
    "ExecuteTime": {
     "end_time": "2020-09-27T15:31:54.557185Z",
     "start_time": "2020-09-27T15:31:54.552685Z"
    }
   },
   "outputs": [
    {
     "data": {
      "text/plain": [
       "(360, 4)"
      ]
     },
     "execution_count": 269,
     "metadata": {},
     "output_type": "execute_result"
    }
   ],
   "source": [
    "mx_900.shape"
   ]
  },
  {
   "cell_type": "code",
   "execution_count": 270,
   "metadata": {
    "ExecuteTime": {
     "end_time": "2020-09-27T15:31:55.980366Z",
     "start_time": "2020-09-27T15:31:55.681828Z"
    }
   },
   "outputs": [
    {
     "name": "stderr",
     "output_type": "stream",
     "text": [
      "C:\\ProgramData\\Anaconda3\\lib\\site-packages\\ipykernel_launcher.py:8: SettingWithCopyWarning: \n",
      "A value is trying to be set on a copy of a slice from a DataFrame.\n",
      "Try using .loc[row_indexer,col_indexer] = value instead\n",
      "\n",
      "See the caveats in the documentation: https://pandas.pydata.org/pandas-docs/stable/user_guide/indexing.html#returning-a-view-versus-a-copy\n",
      "  \n",
      "C:\\ProgramData\\Anaconda3\\lib\\site-packages\\ipykernel_launcher.py:9: SettingWithCopyWarning: \n",
      "A value is trying to be set on a copy of a slice from a DataFrame.\n",
      "Try using .loc[row_indexer,col_indexer] = value instead\n",
      "\n",
      "See the caveats in the documentation: https://pandas.pydata.org/pandas-docs/stable/user_guide/indexing.html#returning-a-view-versus-a-copy\n",
      "  if __name__ == '__main__':\n"
     ]
    },
    {
     "name": "stdout",
     "output_type": "stream",
     "text": [
      "10 250.0\n",
      "20 260.0\n",
      "30 270.0\n",
      "40 280.0\n",
      "50 290.0\n",
      "60 300.0\n",
      "70 310.0\n",
      "80 320.0\n",
      "270 150.0\n",
      "280 160.0\n",
      "290 170.0\n",
      "300 180.0\n",
      "310 190.0\n",
      "320 200.0\n",
      "330 210.0\n",
      "340 220.0\n",
      "350 230.0\n",
      "10 250.0\n",
      "20 260.0\n",
      "30 270.0\n",
      "40 280.0\n",
      "50 290.0\n",
      "60 300.0\n",
      "70 310.0\n",
      "80 320.0\n",
      "270 150.0\n",
      "280 160.0\n",
      "290 170.0\n",
      "300 180.0\n",
      "310 190.0\n",
      "320 200.0\n",
      "330 210.0\n",
      "340 220.0\n",
      "350 230.0\n",
      "9 250.0\n",
      "19 260.0\n",
      "29 270.0\n",
      "39 280.0\n",
      "49 290.0\n",
      "59 300.0\n",
      "69 310.0\n",
      "79 320.0\n",
      "89 330.0\n",
      "279 160.0\n",
      "289 170.0\n",
      "299 180.0\n",
      "309 190.0\n",
      "319 200.0\n",
      "329 210.0\n",
      "339 220.0\n",
      "349 230.0\n",
      "8 10.0\n",
      "18 20.0\n",
      "28 30.0\n",
      "38 40.0\n",
      "48 50.0\n",
      "58 60.0\n",
      "68 70.0\n",
      "78 80.0\n",
      "88 90.0\n",
      "278 280.0\n",
      "288 290.0\n",
      "298 300.0\n",
      "308 310.0\n",
      "318 320.0\n",
      "328 330.0\n",
      "338 340.0\n",
      "348 350.0\n",
      "358 0.0\n",
      "10 150.0\n",
      "20 160.0\n",
      "30 170.0\n",
      "40 180.0\n",
      "50 190.0\n",
      "60 200.0\n",
      "70 210.0\n",
      "80 220.0\n",
      "270 50.0\n",
      "280 60.0\n",
      "290 70.0\n",
      "300 80.0\n",
      "310 90.0\n",
      "320 100.0\n",
      "330 110.0\n",
      "340 120.0\n",
      "350 130.0\n",
      "10 270.0\n",
      "20 280.0\n",
      "30 290.0\n",
      "40 300.0\n",
      "50 310.0\n",
      "60 320.0\n",
      "70 330.0\n",
      "80 340.0\n",
      "270 170.0\n",
      "280 180.0\n",
      "290 190.0\n",
      "300 200.0\n",
      "310 210.0\n",
      "320 220.0\n",
      "330 230.0\n",
      "340 240.0\n",
      "350 250.0\n",
      "2 10.0\n",
      "12 20.0\n",
      "22 30.0\n",
      "32 40.0\n",
      "42 50.0\n",
      "52 60.0\n",
      "62 70.0\n",
      "72 80.0\n",
      "82 90.0\n",
      "272 280.0\n",
      "282 290.0\n",
      "292 300.0\n",
      "302 310.0\n",
      "312 320.0\n",
      "322 330.0\n",
      "332 340.0\n",
      "342 350.0\n",
      "352 0.0\n",
      "10 280.0\n",
      "20 290.0\n",
      "30 300.0\n",
      "40 310.0\n",
      "50 320.0\n",
      "60 330.0\n",
      "70 340.0\n",
      "80 350.0\n",
      "270 180.0\n",
      "280 190.0\n",
      "290 200.0\n",
      "300 210.0\n",
      "310 220.0\n",
      "320 230.0\n",
      "330 240.0\n",
      "340 250.0\n",
      "350 260.0\n",
      "10 10.0\n",
      "20 20.0\n",
      "30 30.0\n",
      "40 40.0\n",
      "50 50.0\n",
      "60 60.0\n",
      "70 70.0\n",
      "80 80.0\n",
      "270 270.0\n",
      "280 280.0\n",
      "290 290.0\n",
      "300 300.0\n",
      "310 310.0\n",
      "320 320.0\n",
      "330 330.0\n",
      "340 340.0\n",
      "350 350.0\n",
      "10 10.0\n",
      "20 20.0\n",
      "30 30.0\n",
      "40 40.0\n",
      "50 50.0\n",
      "60 60.0\n",
      "70 70.0\n",
      "80 80.0\n",
      "270 270.0\n",
      "280 280.0\n",
      "290 290.0\n",
      "300 300.0\n",
      "310 310.0\n",
      "320 320.0\n",
      "330 330.0\n",
      "340 340.0\n",
      "350 350.0\n",
      "10 10.0\n",
      "20 20.0\n",
      "30 30.0\n",
      "40 40.0\n",
      "50 50.0\n",
      "60 60.0\n",
      "70 70.0\n",
      "80 80.0\n",
      "270 270.0\n",
      "280 280.0\n",
      "290 290.0\n",
      "300 300.0\n",
      "310 310.0\n",
      "320 320.0\n",
      "330 330.0\n",
      "340 340.0\n",
      "350 350.0\n",
      "10 10.0\n",
      "20 20.0\n",
      "30 30.0\n",
      "40 40.0\n",
      "50 50.0\n",
      "60 60.0\n",
      "70 70.0\n",
      "80 80.0\n",
      "270 270.0\n",
      "280 280.0\n",
      "290 290.0\n",
      "300 300.0\n",
      "310 310.0\n",
      "320 320.0\n",
      "330 330.0\n",
      "340 340.0\n",
      "350 350.0\n"
     ]
    }
   ],
   "source": [
    "use_data['geometry'] = use_data.apply(lambda x:jm_z(x,mx_900,'RRU经度','RRU纬度','方位角'),axis=1)"
   ]
  },
  {
   "cell_type": "code",
   "execution_count": 276,
   "metadata": {
    "ExecuteTime": {
     "end_time": "2020-09-27T15:34:11.980136Z",
     "start_time": "2020-09-27T15:34:11.689599Z"
    }
   },
   "outputs": [
    {
     "data": {
      "text/plain": [
       "<matplotlib.axes._subplots.AxesSubplot at 0xeb3fb1c8>"
      ]
     },
     "execution_count": 276,
     "metadata": {},
     "output_type": "execute_result"
    },
    {
     "data": {
      "image/png": "[encoded data removed]",
      "text/plain": [
       "<Figure size 864x864 with 1 Axes>"
      ]
     },
     "metadata": {
      "needs_background": "light"
     },
     "output_type": "display_data"
    }
   ],
   "source": [
    "use_data.head(12).plot(figsize=[12,12])"
   ]
  },
  {
   "cell_type": "code",
   "execution_count": 272,
   "metadata": {
    "ExecuteTime": {
     "end_time": "2020-09-27T15:32:08.769990Z",
     "start_time": "2020-09-27T15:32:08.753988Z"
    }
   },
   "outputs": [],
   "source": [
    "use_data2 = use_data.explode()"
   ]
  },
  {
   "cell_type": "code",
   "execution_count": 277,
   "metadata": {
    "ExecuteTime": {
     "end_time": "2020-09-27T15:38:16.911238Z",
     "start_time": "2020-09-27T15:37:27.083411Z"
    }
   },
   "outputs": [],
   "source": [
    "#导入建筑物\n",
    "wuhan_jz = gpd.read_file('g:/1-规划/图层/湖北建筑/湖北建筑/湖北建筑/武汉.tab',encoding='gbk')"
   ]
  },
  {
   "cell_type": "code",
   "execution_count": 280,
   "metadata": {
    "ExecuteTime": {
     "end_time": "2020-09-27T15:39:39.945282Z",
     "start_time": "2020-09-27T15:39:39.938781Z"
    }
   },
   "outputs": [
    {
     "data": {
      "text/plain": [
       "{'init': 'epsg:4326'}"
      ]
     },
     "execution_count": 280,
     "metadata": {},
     "output_type": "execute_result"
    }
   ],
   "source": [
    "wuhan_jz.crs"
   ]
  },
  {
   "cell_type": "code",
   "execution_count": 279,
   "metadata": {
    "ExecuteTime": {
     "end_time": "2020-09-27T15:39:38.474095Z",
     "start_time": "2020-09-27T15:38:53.670906Z"
    }
   },
   "outputs": [],
   "source": [
    "wuhan_jz = wuhan_jz.to_crs({'init': 'epsg:4326'})"
   ]
  },
  {
   "cell_type": "code",
   "execution_count": 283,
   "metadata": {
    "ExecuteTime": {
     "end_time": "2020-09-27T15:46:11.782539Z",
     "start_time": "2020-09-27T15:46:11.739534Z"
    }
   },
   "outputs": [],
   "source": [
    "wuhan_jz = wuhan_jz[['OBJECTID','建筑物高度','geometry']]"
   ]
  },
  {
   "cell_type": "code",
   "execution_count": 285,
   "metadata": {
    "ExecuteTime": {
     "end_time": "2020-09-27T15:51:59.049637Z",
     "start_time": "2020-09-27T15:51:59.044636Z"
    }
   },
   "outputs": [
    {
     "data": {
      "text/plain": [
       "Index(['小区CGI(*)', '小区中文名', '所属地区', 'RRU经度', 'RRU纬度', '天线挂高', '方位角', '工作频段',\n",
       "       '归属区县', '厂家名称', '区域类型', 'distance', '覆盖模型距离', '30米覆盖模型距离', '使用覆盖半径',\n",
       "       'distance_use', 'type', 'geometry'],\n",
       "      dtype='object')"
      ]
     },
     "execution_count": 285,
     "metadata": {},
     "output_type": "execute_result"
    }
   ],
   "source": [
    "use_data2.columns"
   ]
  },
  {
   "cell_type": "code",
   "execution_count": 284,
   "metadata": {
    "ExecuteTime": {
     "end_time": "2020-09-27T15:46:55.347071Z",
     "start_time": "2020-09-27T15:46:12.709657Z"
    }
   },
   "outputs": [
    {
     "ename": "TypeError",
     "evalue": "Must pass list-like as `names`.",
     "output_type": "error",
     "traceback": [
      "\u001b[1;31m---------------------------------------------------------------------------\u001b[0m",
      "\u001b[1;31mTypeError\u001b[0m                                 Traceback (most recent call last)",
      "\u001b[1;32m<ipython-input-284-bf1b8db2c0f7>\u001b[0m in \u001b[0;36m<module>\u001b[1;34m\u001b[0m\n\u001b[1;32m----> 1\u001b[1;33m \u001b[0mres_sjoin\u001b[0m \u001b[1;33m=\u001b[0m \u001b[0mgpd\u001b[0m\u001b[1;33m.\u001b[0m\u001b[0msjoin\u001b[0m\u001b[1;33m(\u001b[0m\u001b[0muse_data2\u001b[0m\u001b[1;33m,\u001b[0m\u001b[0mwuhan_jz\u001b[0m\u001b[1;33m)\u001b[0m\u001b[1;33m\u001b[0m\u001b[1;33m\u001b[0m\u001b[0m\n\u001b[0m",
      "\u001b[1;32mC:\\ProgramData\\Anaconda3\\lib\\site-packages\\geopandas\\tools\\sjoin.py\u001b[0m in \u001b[0;36msjoin\u001b[1;34m(left_df, right_df, how, op, lsuffix, rsuffix)\u001b[0m\n\u001b[0;32m     91\u001b[0m     \u001b[1;31m# GH 352\u001b[0m\u001b[1;33m\u001b[0m\u001b[1;33m\u001b[0m\u001b[1;33m\u001b[0m\u001b[0m\n\u001b[0;32m     92\u001b[0m     \u001b[0mleft_df\u001b[0m \u001b[1;33m=\u001b[0m \u001b[0mleft_df\u001b[0m\u001b[1;33m.\u001b[0m\u001b[0mcopy\u001b[0m\u001b[1;33m(\u001b[0m\u001b[0mdeep\u001b[0m\u001b[1;33m=\u001b[0m\u001b[1;32mTrue\u001b[0m\u001b[1;33m)\u001b[0m\u001b[1;33m\u001b[0m\u001b[1;33m\u001b[0m\u001b[0m\n\u001b[1;32m---> 93\u001b[1;33m     \u001b[0mleft_df\u001b[0m\u001b[1;33m.\u001b[0m\u001b[0mindex\u001b[0m \u001b[1;33m=\u001b[0m \u001b[0mleft_df\u001b[0m\u001b[1;33m.\u001b[0m\u001b[0mindex\u001b[0m\u001b[1;33m.\u001b[0m\u001b[0mrename\u001b[0m\u001b[1;33m(\u001b[0m\u001b[0mindex_left\u001b[0m\u001b[1;33m)\u001b[0m\u001b[1;33m\u001b[0m\u001b[1;33m\u001b[0m\u001b[0m\n\u001b[0m\u001b[0;32m     94\u001b[0m     \u001b[0mleft_df\u001b[0m \u001b[1;33m=\u001b[0m \u001b[0mleft_df\u001b[0m\u001b[1;33m.\u001b[0m\u001b[0mreset_index\u001b[0m\u001b[1;33m(\u001b[0m\u001b[1;33m)\u001b[0m\u001b[1;33m\u001b[0m\u001b[1;33m\u001b[0m\u001b[0m\n\u001b[0;32m     95\u001b[0m     \u001b[0mright_df\u001b[0m \u001b[1;33m=\u001b[0m \u001b[0mright_df\u001b[0m\u001b[1;33m.\u001b[0m\u001b[0mcopy\u001b[0m\u001b[1;33m(\u001b[0m\u001b[0mdeep\u001b[0m\u001b[1;33m=\u001b[0m\u001b[1;32mTrue\u001b[0m\u001b[1;33m)\u001b[0m\u001b[1;33m\u001b[0m\u001b[1;33m\u001b[0m\u001b[0m\n",
      "\u001b[1;32mC:\\ProgramData\\Anaconda3\\lib\\site-packages\\pandas\\core\\indexes\\base.py\u001b[0m in \u001b[0;36mset_names\u001b[1;34m(self, names, level, inplace)\u001b[0m\n\u001b[0;32m   1312\u001b[0m \u001b[1;33m\u001b[0m\u001b[0m\n\u001b[0;32m   1313\u001b[0m         \u001b[1;32mif\u001b[0m \u001b[1;32mnot\u001b[0m \u001b[0mis_list_like\u001b[0m\u001b[1;33m(\u001b[0m\u001b[0mnames\u001b[0m\u001b[1;33m)\u001b[0m \u001b[1;32mand\u001b[0m \u001b[0mlevel\u001b[0m \u001b[1;32mis\u001b[0m \u001b[1;32mNone\u001b[0m \u001b[1;32mand\u001b[0m \u001b[0mself\u001b[0m\u001b[1;33m.\u001b[0m\u001b[0mnlevels\u001b[0m \u001b[1;33m>\u001b[0m \u001b[1;36m1\u001b[0m\u001b[1;33m:\u001b[0m\u001b[1;33m\u001b[0m\u001b[1;33m\u001b[0m\u001b[0m\n\u001b[1;32m-> 1314\u001b[1;33m             \u001b[1;32mraise\u001b[0m \u001b[0mTypeError\u001b[0m\u001b[1;33m(\u001b[0m\u001b[1;34m\"Must pass list-like as `names`.\"\u001b[0m\u001b[1;33m)\u001b[0m\u001b[1;33m\u001b[0m\u001b[1;33m\u001b[0m\u001b[0m\n\u001b[0m\u001b[0;32m   1315\u001b[0m \u001b[1;33m\u001b[0m\u001b[0m\n\u001b[0;32m   1316\u001b[0m         \u001b[1;32mif\u001b[0m \u001b[1;32mnot\u001b[0m \u001b[0mis_list_like\u001b[0m\u001b[1;33m(\u001b[0m\u001b[0mnames\u001b[0m\u001b[1;33m)\u001b[0m\u001b[1;33m:\u001b[0m\u001b[1;33m\u001b[0m\u001b[1;33m\u001b[0m\u001b[0m\n",
      "\u001b[1;31mTypeError\u001b[0m: Must pass list-like as `names`."
     ]
    }
   ],
   "source": [
    "res_sjoin = gpd.sjoin(use_data2,wuhan_jz)"
   ]
  },
  {
   "cell_type": "code",
   "execution_count": null,
   "metadata": {
    "ExecuteTime": {
     "end_time": "2020-09-27T15:40:33.713110Z",
     "start_time": "2020-09-27T15:40:09.635Z"
    }
   },
   "outputs": [],
   "source": [
    "wuhan_jz.head(2)"
   ]
  },
  {
   "cell_type": "code",
   "execution_count": null,
   "metadata": {},
   "outputs": [],
   "source": []
  },
  {
   "cell_type": "code",
   "execution_count": 275,
   "metadata": {
    "ExecuteTime": {
     "end_time": "2020-09-27T15:33:59.838594Z",
     "start_time": "2020-09-27T15:33:59.591563Z"
    },
    "scrolled": false
   },
   "outputs": [
    {
     "data": {
      "text/plain": [
       "<matplotlib.axes._subplots.AxesSubplot at 0xeb25c208>"
      ]
     },
     "execution_count": 275,
     "metadata": {},
     "output_type": "execute_result"
    },
    {
     "data": {
      "image/png": "[encoded data removed]",
      "text/plain": [
       "<Figure size 864x864 with 1 Axes>"
      ]
     },
     "metadata": {
      "needs_background": "light"
     },
     "output_type": "display_data"
    }
   ],
   "source": [
    "use_data2.tail(10).plot(figsize=[12,12])"
   ]
  },
  {
   "cell_type": "code",
   "execution_count": null,
   "metadata": {},
   "outputs": [],
   "source": []
  },
  {
   "cell_type": "code",
   "execution_count": null,
   "metadata": {},
   "outputs": [],
   "source": []
  },
  {
   "cell_type": "code",
   "execution_count": null,
   "metadata": {},
   "outputs": [],
   "source": []
  },
  {
   "cell_type": "code",
   "execution_count": 111,
   "metadata": {
    "ExecuteTime": {
     "end_time": "2020-09-27T14:21:36.375044Z",
     "start_time": "2020-09-27T14:21:35.901984Z"
    }
   },
   "outputs": [
    {
     "name": "stderr",
     "output_type": "stream",
     "text": [
      "TopologyException: Input geom 0 is invalid: Self-intersection at or near point 114.34136329486621 30.503117217858215 at 114.34136329486621 30.503117217858215\n"
     ]
    },
    {
     "ename": "TopologicalError",
     "evalue": "The operation 'GEOSDifference_r' could not be performed. Likely cause is invalidity of the geometry <shapely.geometry.polygon.Polygon object at 0x00000000DC874208>",
     "output_type": "error",
     "traceback": [
      "\u001b[1;31m---------------------------------------------------------------------------\u001b[0m",
      "\u001b[1;31mTopologicalError\u001b[0m                          Traceback (most recent call last)",
      "\u001b[1;32m<ipython-input-111-a8d88ca42593>\u001b[0m in \u001b[0;36m<module>\u001b[1;34m\u001b[0m\n\u001b[0;32m      4\u001b[0m \u001b[0mlines_buffered\u001b[0m \u001b[1;33m=\u001b[0m \u001b[1;33m[\u001b[0m\u001b[0mline\u001b[0m\u001b[1;33m.\u001b[0m\u001b[0mbuffer\u001b[0m\u001b[1;33m(\u001b[0m\u001b[0mbuffer_size\u001b[0m\u001b[1;33m)\u001b[0m \u001b[1;32mfor\u001b[0m \u001b[0mline\u001b[0m \u001b[1;32min\u001b[0m \u001b[0mlins\u001b[0m\u001b[1;33m]\u001b[0m\u001b[1;33m\u001b[0m\u001b[1;33m\u001b[0m\u001b[0m\n\u001b[0;32m      5\u001b[0m \u001b[0mquadrats\u001b[0m \u001b[1;33m=\u001b[0m \u001b[0munary_union\u001b[0m\u001b[1;33m(\u001b[0m\u001b[0mlines_buffered\u001b[0m\u001b[1;33m)\u001b[0m\u001b[1;33m\u001b[0m\u001b[1;33m\u001b[0m\u001b[0m\n\u001b[1;32m----> 6\u001b[1;33m \u001b[0mmultipoly\u001b[0m \u001b[1;33m=\u001b[0m \u001b[0mpol\u001b[0m\u001b[1;33m.\u001b[0m\u001b[0mdifference\u001b[0m\u001b[1;33m(\u001b[0m\u001b[0mquadrats\u001b[0m\u001b[1;33m)\u001b[0m\u001b[1;33m\u001b[0m\u001b[1;33m\u001b[0m\u001b[0m\n\u001b[0m\u001b[0;32m      7\u001b[0m \u001b[0mmultipoly\u001b[0m\u001b[1;33m\u001b[0m\u001b[1;33m\u001b[0m\u001b[0m\n",
      "\u001b[1;32mC:\\ProgramData\\Anaconda3\\lib\\site-packages\\shapely\\geometry\\base.py\u001b[0m in \u001b[0;36mdifference\u001b[1;34m(self, other)\u001b[0m\n\u001b[0;32m    614\u001b[0m     \u001b[1;32mdef\u001b[0m \u001b[0mdifference\u001b[0m\u001b[1;33m(\u001b[0m\u001b[0mself\u001b[0m\u001b[1;33m,\u001b[0m \u001b[0mother\u001b[0m\u001b[1;33m)\u001b[0m\u001b[1;33m:\u001b[0m\u001b[1;33m\u001b[0m\u001b[1;33m\u001b[0m\u001b[0m\n\u001b[0;32m    615\u001b[0m         \u001b[1;34m\"\"\"Returns the difference of the geometries\"\"\"\u001b[0m\u001b[1;33m\u001b[0m\u001b[1;33m\u001b[0m\u001b[0m\n\u001b[1;32m--> 616\u001b[1;33m         \u001b[1;32mreturn\u001b[0m \u001b[0mgeom_factory\u001b[0m\u001b[1;33m(\u001b[0m\u001b[0mself\u001b[0m\u001b[1;33m.\u001b[0m\u001b[0mimpl\u001b[0m\u001b[1;33m[\u001b[0m\u001b[1;34m'difference'\u001b[0m\u001b[1;33m]\u001b[0m\u001b[1;33m(\u001b[0m\u001b[0mself\u001b[0m\u001b[1;33m,\u001b[0m \u001b[0mother\u001b[0m\u001b[1;33m)\u001b[0m\u001b[1;33m)\u001b[0m\u001b[1;33m\u001b[0m\u001b[1;33m\u001b[0m\u001b[0m\n\u001b[0m\u001b[0;32m    617\u001b[0m \u001b[1;33m\u001b[0m\u001b[0m\n\u001b[0;32m    618\u001b[0m     \u001b[1;32mdef\u001b[0m \u001b[0mintersection\u001b[0m\u001b[1;33m(\u001b[0m\u001b[0mself\u001b[0m\u001b[1;33m,\u001b[0m \u001b[0mother\u001b[0m\u001b[1;33m)\u001b[0m\u001b[1;33m:\u001b[0m\u001b[1;33m\u001b[0m\u001b[1;33m\u001b[0m\u001b[0m\n",
      "\u001b[1;32mC:\\ProgramData\\Anaconda3\\lib\\site-packages\\shapely\\topology.py\u001b[0m in \u001b[0;36m__call__\u001b[1;34m(self, this, other, *args)\u001b[0m\n\u001b[0;32m     68\u001b[0m             err = TopologicalError(\n\u001b[0;32m     69\u001b[0m                     \"This operation could not be performed. Reason: unknown\")\n\u001b[1;32m---> 70\u001b[1;33m             \u001b[0mself\u001b[0m\u001b[1;33m.\u001b[0m\u001b[0m_check_topology\u001b[0m\u001b[1;33m(\u001b[0m\u001b[0merr\u001b[0m\u001b[1;33m,\u001b[0m \u001b[0mthis\u001b[0m\u001b[1;33m,\u001b[0m \u001b[0mother\u001b[0m\u001b[1;33m)\u001b[0m\u001b[1;33m\u001b[0m\u001b[1;33m\u001b[0m\u001b[0m\n\u001b[0m\u001b[0;32m     71\u001b[0m         \u001b[1;32mreturn\u001b[0m \u001b[0mproduct\u001b[0m\u001b[1;33m\u001b[0m\u001b[1;33m\u001b[0m\u001b[0m\n\u001b[0;32m     72\u001b[0m \u001b[1;33m\u001b[0m\u001b[0m\n",
      "\u001b[1;32mC:\\ProgramData\\Anaconda3\\lib\\site-packages\\shapely\\topology.py\u001b[0m in \u001b[0;36m_check_topology\u001b[1;34m(self, err, *geoms)\u001b[0m\n\u001b[0;32m     36\u001b[0m                     \u001b[1;34m\"The operation '%s' could not be performed. \"\u001b[0m\u001b[1;33m\u001b[0m\u001b[1;33m\u001b[0m\u001b[0m\n\u001b[0;32m     37\u001b[0m                     \"Likely cause is invalidity of the geometry %s\" % (\n\u001b[1;32m---> 38\u001b[1;33m                         self.fn.__name__, repr(geom)))\n\u001b[0m\u001b[0;32m     39\u001b[0m         \u001b[1;32mraise\u001b[0m \u001b[0merr\u001b[0m\u001b[1;33m\u001b[0m\u001b[1;33m\u001b[0m\u001b[0m\n\u001b[0;32m     40\u001b[0m \u001b[1;33m\u001b[0m\u001b[0m\n",
      "\u001b[1;31mTopologicalError\u001b[0m: The operation 'GEOSDifference_r' could not be performed. Likely cause is invalidity of the geometry <shapely.geometry.polygon.Polygon object at 0x00000000DC874208>"
     ]
    }
   ],
   "source": [
    "from shapely.ops import unary_union\n",
    "\n",
    "buffer_size = 0.00000000001\n",
    "lines_buffered = [line.buffer(buffer_size) for line in lins]\n",
    "quadrats = unary_union(lines_buffered)\n",
    "multipoly = pol.difference(quadrats)\n",
    "multipoly"
   ]
  },
  {
   "cell_type": "code",
   "execution_count": null,
   "metadata": {
    "ExecuteTime": {
     "end_time": "2020-09-25T06:59:29.293690Z",
     "start_time": "2020-09-25T06:58:59.733436Z"
    }
   },
   "outputs": [],
   "source": [
    "gdfdata.to_pickle('G:/1-规划/评估/覆盖空洞/20200907第五版/2-输出内容/xiaoqufugaimoxing.data')"
   ]
  },
  {
   "cell_type": "markdown",
   "metadata": {},
   "source": [
    "# 覆盖空洞计算"
   ]
  },
  {
   "cell_type": "code",
   "execution_count": null,
   "metadata": {
    "ExecuteTime": {
     "end_time": "2020-09-25T06:59:29.703242Z",
     "start_time": "2020-09-25T06:59:29.647235Z"
    }
   },
   "outputs": [],
   "source": [
    "gongcan_s = gdfdata.copy()"
   ]
  },
  {
   "cell_type": "code",
   "execution_count": null,
   "metadata": {
    "ExecuteTime": {
     "end_time": "2020-09-25T06:59:30.300818Z",
     "start_time": "2020-09-25T06:59:30.296817Z"
    }
   },
   "outputs": [],
   "source": [
    "# gongcan_s['归属区县'] = gongcan_s['归属区县'].fillna('wu')"
   ]
  },
  {
   "cell_type": "markdown",
   "metadata": {},
   "source": [
    "去掉农村覆盖到场景边界内的区域"
   ]
  },
  {
   "cell_type": "code",
   "execution_count": null,
   "metadata": {
    "ExecuteTime": {
     "end_time": "2020-09-25T06:59:49.485254Z",
     "start_time": "2020-09-25T06:59:30.887892Z"
    }
   },
   "outputs": [],
   "source": [
    "#---------------------------规划图层缩小50%的距离---------------------------\n",
    "\n",
    "guihua = gpd.read_file('G:/1-规划/图层/全省区域规划图层20200110/全省区域规划图层20200110.TAB',encoding='gbk')\n",
    "guihua['区域类型2'] = guihua['区域类型'].replace({'3A景区':'农村','4A景区':'农村','5A景区':'农村','景区':'农村','热点':'农村'})\n",
    "guihua_use = guihua.loc[guihua['区域类型2']!='农村']\n",
    "guihua_yiban = mytools.gisn.changjing_distance(guihua_use,'区域类型2','区域类型')\n",
    "guihua_yiban['distance2'] = 0-guihua_yiban['distance']/2\n",
    "guihua_res = mytools.gisn.buffer_df(guihua_yiban,'distance2')\n",
    "guihua_res.columns =['city', 'region', 'name', 'type', 'area', 'geometry', 'type2', 'distance','distance2']\n",
    "\n",
    "# guihua_res.to_file('G:/1-规划/评估/覆盖空洞/20200712第四版本/2-程序数据出-过程/2-规划图层缩小场景1800覆盖半径的一半距离/规划图层剔除农村1800场景一半.shp',encoding='utf-8')\n",
    "# guihua_res= gpd.read_file('G:/1-规划/评估/覆盖空洞/20200712第四版本/2-程序数据出-过程/2-规划图层缩小场景1800覆盖半径的一半距离/规划图层剔除农村1800场景一半.shp',encoding='utf-8')"
   ]
  },
  {
   "cell_type": "code",
   "execution_count": null,
   "metadata": {
    "ExecuteTime": {
     "end_time": "2020-09-25T06:59:50.142337Z",
     "start_time": "2020-09-25T06:59:50.127835Z"
    }
   },
   "outputs": [],
   "source": [
    "guihua_res = guihua_res.loc[~guihua_res.is_empty]"
   ]
  },
  {
   "cell_type": "code",
   "execution_count": null,
   "metadata": {
    "ExecuteTime": {
     "end_time": "2020-09-25T06:59:51.539515Z",
     "start_time": "2020-09-25T06:59:50.850927Z"
    }
   },
   "outputs": [],
   "source": [
    "guihua_res.plot(figsize=[11,11])"
   ]
  },
  {
   "cell_type": "code",
   "execution_count": null,
   "metadata": {
    "ExecuteTime": {
     "end_time": "2020-09-25T07:01:44.466354Z",
     "start_time": "2020-09-25T06:59:52.180096Z"
    }
   },
   "outputs": [],
   "source": [
    "#---------------------------农村覆盖区域---------------------------\n",
    "gongcan_s_nc = gongcan_s.loc[gongcan_s['区域类型']=='农村']\n",
    "gongcan_s_nc['所属地区'] = gongcan_s_nc['所属地区'].fillna('wu')\n",
    "\n",
    "#全网农村小区覆盖按照地市合并\n",
    "gongcan_s_nc_city = gongcan_s_nc.dissolve(by = '所属地区')"
   ]
  },
  {
   "cell_type": "code",
   "execution_count": null,
   "metadata": {
    "ExecuteTime": {
     "end_time": "2020-09-25T07:01:56.033823Z",
     "start_time": "2020-09-25T07:01:56.026822Z"
    }
   },
   "outputs": [],
   "source": [
    "#只是留下geo去除索引，索引是地市\n",
    "gongcan_s_nc_city_use = gongcan_s_nc_city[['geometry']].reset_index()\n",
    "\n",
    "gongcan_s_nc_city_use.columns=['city','geometry']"
   ]
  },
  {
   "cell_type": "code",
   "execution_count": null,
   "metadata": {
    "ExecuteTime": {
     "end_time": "2020-09-25T07:02:18.421166Z",
     "start_time": "2020-09-25T07:02:18.413665Z"
    }
   },
   "outputs": [],
   "source": [
    "guihua_res = guihua_res.dropna(subset=['geometry'])"
   ]
  },
  {
   "cell_type": "code",
   "execution_count": null,
   "metadata": {
    "ExecuteTime": {
     "end_time": "2020-09-25T07:17:07.957123Z",
     "start_time": "2020-09-25T07:02:41.018536Z"
    }
   },
   "outputs": [],
   "source": [
    "#在全网农村覆盖区域中去掉农村覆盖到其他区域的\n",
    "nongcun = gpd.overlay(gongcan_s_nc_city_use,guihua_res,how='difference')"
   ]
  },
  {
   "cell_type": "code",
   "execution_count": null,
   "metadata": {
    "ExecuteTime": {
     "end_time": "2020-09-25T07:18:47.863309Z",
     "start_time": "2020-09-25T07:17:42.319486Z"
    }
   },
   "outputs": [],
   "source": [
    "#农村区域按照地市合并\n",
    "nongcun_city = nongcun.dissolve(by = 'city')\n",
    "\n",
    "nongcun_city =nongcun_city.reset_index()\n",
    "# nongcun_city.to_pickle('G:/1-规划/评估/覆盖空洞/20200712第四版本/2-程序数据出-过程/3-小区覆盖区域/农村场景小区覆盖区域.data')\n",
    "\n",
    "# nongcun_city = pd.read_pickle('G:/1-规划/评估/覆盖空洞/20200712第四版本/2-程序数据出-过程/3-小区覆盖区域/农村场景小区覆盖区域.data')\n",
    "\n",
    "nongcun_city.plot(figsize=[11,11])"
   ]
  },
  {
   "cell_type": "code",
   "execution_count": null,
   "metadata": {
    "ExecuteTime": {
     "end_time": "2020-09-25T07:47:20.753319Z",
     "start_time": "2020-09-25T07:47:02.950558Z"
    }
   },
   "outputs": [],
   "source": [
    "# 1-按照区县合并覆盖区域\n",
    "gongcan_s_feinc = gongcan_s.loc[gongcan_s['区域类型']!='农村']\n",
    "\n",
    "#小区覆盖区域图层只保留两列\n",
    "gongcan_s_feinc = gongcan_s_feinc[['所属地区','geometry']]\n",
    "\n",
    "gongcan_s_feinc.columns = ['city','geometry']\n",
    "\n",
    "gongcan_s_z = gongcan_s_feinc.append(nongcun_city)\n",
    "\n",
    "#小区覆盖区域按照地市合并\n",
    "gongcan_s_z = gongcan_s_z.dissolve(by = 'city')\n",
    "\n",
    "# gongcan_s_z.to_pickle('G:/1-规划/评估/覆盖空洞/20200712第四版本/2-程序数据出-过程/3-小区覆盖区域/农村和非农村合并全网覆盖图层按照地市合并.data')\n",
    "\n",
    "# gongcan_s_z.to_file('G:/1-规划/评估/覆盖空洞/20200712第四版本/2-程序数据出-过程/3-小区覆盖区域/农村和非农村合并全网覆盖图层按照地市合并.shp',encoding='utf-8')\n",
    "\n",
    "mytools.dog()"
   ]
  },
  {
   "cell_type": "markdown",
   "metadata": {},
   "source": [
    "2-求出覆盖空洞原始"
   ]
  },
  {
   "cell_type": "code",
   "execution_count": null,
   "metadata": {
    "ExecuteTime": {
     "end_time": "2020-09-25T07:47:33.013376Z",
     "start_time": "2020-09-25T07:47:32.844354Z"
    }
   },
   "outputs": [],
   "source": [
    "tu = mytools.gisn.maps()"
   ]
  },
  {
   "cell_type": "code",
   "execution_count": null,
   "metadata": {
    "ExecuteTime": {
     "end_time": "2020-09-25T08:37:06.991023Z",
     "start_time": "2020-09-25T07:48:19.974839Z"
    }
   },
   "outputs": [],
   "source": [
    "city_tu_diff = gpd.overlay(tu,gongcan_s_z,how='difference')\n",
    "\n",
    "city_tu_diff.to_pickle('G:/1-规划/评估/覆盖空洞/20200907第五版/2-输出内容/原始空洞.data')\n",
    "\n",
    "city_tu_diff.to_file('G:/1-规划/评估/覆盖空洞/20200907第五版/2-输出内容/原始空洞.shp',encoding='utf-8')"
   ]
  },
  {
   "cell_type": "code",
   "execution_count": null,
   "metadata": {
    "ExecuteTime": {
     "end_time": "2020-09-25T08:37:06.996023Z",
     "start_time": "2020-09-25T07:47:33.304Z"
    }
   },
   "outputs": [],
   "source": [
    "city_tu_diff.plot(figsize=(11,11),color='gray')"
   ]
  },
  {
   "cell_type": "code",
   "execution_count": null,
   "metadata": {
    "ExecuteTime": {
     "end_time": "2020-09-25T08:37:06.998524Z",
     "start_time": "2020-09-25T07:47:33.879Z"
    }
   },
   "outputs": [],
   "source": [
    "mytools.dog()"
   ]
  },
  {
   "cell_type": "markdown",
   "metadata": {},
   "source": [
    "# -------------剔除水系-------------"
   ]
  },
  {
   "cell_type": "code",
   "execution_count": null,
   "metadata": {
    "ExecuteTime": {
     "start_time": "2020-09-10T15:09:56.298Z"
    }
   },
   "outputs": [],
   "source": [
    "city_tu_diff.head(1)"
   ]
  },
  {
   "cell_type": "code",
   "execution_count": null,
   "metadata": {
    "ExecuteTime": {
     "end_time": "2020-09-10T07:09:03.884040Z",
     "start_time": "2020-09-10T07:09:03.664012Z"
    }
   },
   "outputs": [],
   "source": [
    "# city_tu_diff = pd.read_pickle('G:/1-规划/评估/覆盖空洞/20200907第五版/2-输出内容/原始空洞.data')"
   ]
  },
  {
   "cell_type": "code",
   "execution_count": null,
   "metadata": {
    "ExecuteTime": {
     "end_time": "2020-09-10T07:09:29.953850Z",
     "start_time": "2020-09-10T07:09:04.146Z"
    }
   },
   "outputs": [],
   "source": [
    "# hb_sx_city=pd.read_pickle('G:/1-规划/图层/水域/水域按照地市划分.data')"
   ]
  },
  {
   "cell_type": "code",
   "execution_count": null,
   "metadata": {
    "ExecuteTime": {
     "end_time": "2020-09-10T07:12:59.153415Z",
     "start_time": "2020-09-10T07:12:58.485330Z"
    }
   },
   "outputs": [],
   "source": [
    "hb_sx_city1 = pd.read_pickle('G:/1-规划/图层/水域/水域按照地市合并.data')"
   ]
  },
  {
   "cell_type": "code",
   "execution_count": null,
   "metadata": {
    "ExecuteTime": {
     "start_time": "2020-09-10T08:20:47.992Z"
    }
   },
   "outputs": [],
   "source": [
    "kongdong_t = gpd.overlay(city_tu_diff,hb_sx_city1,how='difference')"
   ]
  },
  {
   "cell_type": "code",
   "execution_count": null,
   "metadata": {
    "ExecuteTime": {
     "end_time": "2020-09-10T07:13:37.863331Z",
     "start_time": "2020-09-10T07:13:05.229Z"
    }
   },
   "outputs": [],
   "source": [
    "%%writefile temp2.py\n",
    "from geographiclib.geodesic import Geodesic\n",
    "from shapely.geometry import Polygon,Point,LineString\n",
    "import pandas as pd\n",
    "import geopandas as gpd\n",
    "import mytools,os ,sys,time,multiprocessing\n",
    "from multiprocessing import Pool\n",
    "hb_sx_city1 = pd.read_pickle('G:/1-规划/图层/水域/水域按照地市合并.data')\n",
    "city_tu_diff = pd.read_pickle('G:/1-规划/评估/覆盖空洞/20200907第五版/2-输出内容/原始空洞.data')\n",
    "citys = ['十堰','咸宁','天门','孝感', '宜昌','恩施','武汉', '江汉', '潜江', '荆州', '荆门', '襄阳', '鄂州', '随州', '黄冈', '黄石']\n",
    "\n",
    "def fcgo(city_tu_diff_t,hb_sx_city1_t):\n",
    "    kongdong_t = gpd.overlay(city_tu_diff_t,hb_sx_city1_t,how='difference')\n",
    "    return kongdong_t\n",
    "\n",
    "    return data_t\n",
    "if __name__ == '__main__':\n",
    "    threads = []\n",
    "    with Pool(processes=6) as pool:         # start 4 worker processes\n",
    "        aa = pd.DataFrame()\n",
    "        for name in citys:\n",
    "            city_tu_diff_t = city_tu_diff.loc[city_tu_diff['city']==name]\n",
    "            hb_sx_city1_t = hb_sx_city1.loc[hb_sx_city1['city']==name]\n",
    "            print(name,'开始')\n",
    "            result = pool.apply_async(fcgo, (city_tu_diff_t,hb_sx_city1_t,)) # evaluate \"f(10)\" asynchronously in a single process\n",
    "            threads.append(result)\n",
    "        pool.close()#防止将更多任务提交到池中。完成所有任务后，工作进程将退出。\n",
    "        # 调用join之前，先调用close函数，否则会出错。执行完close后不会有新的线程加入到pool,\n",
    "        # join函数等待所有子线程结束\n",
    "        pool.join()\n",
    "        for result_t in threads:\n",
    "            data_tp = result_t.get()\n",
    "            aa = aa.append(data_tp)\n",
    "            print(data_tp.shape,aa.shape)\n",
    "        print(aa.shape)\n",
    "        aa.to_pickle('空洞.pkl')"
   ]
  },
  {
   "cell_type": "code",
   "execution_count": null,
   "metadata": {
    "ExecuteTime": {
     "end_time": "2020-09-10T07:13:37.867831Z",
     "start_time": "2020-09-10T07:13:08.569Z"
    }
   },
   "outputs": [],
   "source": [
    "%run temp.py\n",
    "if os.path.exists('temp2.py'):  # 如果文件存在\n",
    "    os.remove('temp2.py') # 删除文件"
   ]
  },
  {
   "cell_type": "code",
   "execution_count": null,
   "metadata": {
    "ExecuteTime": {
     "end_time": "2020-09-10T07:39:43.103091Z",
     "start_time": "2020-09-10T07:39:39.647152Z"
    }
   },
   "outputs": [],
   "source": [
    "grid_changjing = pd.read_pickle('空洞.pkl')\n",
    "if os.path.exists('res.pkl'):  # 如果文件存在\n",
    "    os.remove('res.pkl') # 删除文件\n",
    "if os.path.exists('temp1.data'):  # 如果文件存在\n",
    "    os.remove('temp1.data') # 删除文件"
   ]
  },
  {
   "cell_type": "code",
   "execution_count": null,
   "metadata": {
    "ExecuteTime": {
     "start_time": "2020-09-10T08:22:20.362Z"
    }
   },
   "outputs": [],
   "source": [
    "kongdong_t.plot(figsize=(11,11),color='gray')"
   ]
  },
  {
   "cell_type": "code",
   "execution_count": null,
   "metadata": {
    "ExecuteTime": {
     "start_time": "2020-09-10T08:22:27.695Z"
    }
   },
   "outputs": [],
   "source": [
    "kongdong_t.columns"
   ]
  },
  {
   "cell_type": "code",
   "execution_count": null,
   "metadata": {
    "ExecuteTime": {
     "end_time": "2020-09-10T07:45:11.155748Z",
     "start_time": "2020-09-10T07:44:57.690538Z"
    }
   },
   "outputs": [],
   "source": [
    "grid_changjing.to_pickle('G:/1-规划/评估/覆盖空洞/20200907第五版/2-输出内容/剔除水系后的空洞.data')"
   ]
  },
  {
   "cell_type": "code",
   "execution_count": null,
   "metadata": {
    "ExecuteTime": {
     "end_time": "2020-09-10T07:57:55.059252Z",
     "start_time": "2020-09-10T07:51:34.128880Z"
    }
   },
   "outputs": [],
   "source": [
    "grid_changjing.to_file('G:/1-规划/评估/覆盖空洞/20200907第五版/2-输出内容/剔除水系后的空洞.shp',encoding='utf-8')"
   ]
  },
  {
   "cell_type": "code",
   "execution_count": null,
   "metadata": {
    "ExecuteTime": {
     "start_time": "2020-09-08T13:04:37.882Z"
    }
   },
   "outputs": [],
   "source": [
    "hb_sx_city1 = pd.read_pickle('G:/1-规划/图层/水域/水域按照地市合并.data')\n",
    "kongdong = gpd.overlay(city_tu_diff,hb_sx_city1,how='difference')\n",
    "mytools.sound()\n",
    "\n",
    "kongdong.to_pickle('G:/1-规划/评估/覆盖空洞/20200907第五版/2-输出内容/剔除水系后的空洞.data')\n",
    "# kongdong.to_file('G:/1-规划/评估/覆盖空洞/20200712第四版本/2-程序数据出-过程/6-剔除水系后空洞/剔除水系后的空洞.shp',encoding='utf-8')\n",
    "kongdong.plot(figsize=(11,11),color='coral')\n",
    "mytools.sound()"
   ]
  },
  {
   "cell_type": "code",
   "execution_count": null,
   "metadata": {
    "ExecuteTime": {
     "start_time": "2020-09-08T13:04:38.455Z"
    }
   },
   "outputs": [],
   "source": [
    "kongdong.to_pickle('G:/1-规划/评估/覆盖空洞/20200907第五版/2-输出内容/剔除水系后的空洞.data')"
   ]
  },
  {
   "cell_type": "markdown",
   "metadata": {},
   "source": [
    "# -------------空洞有效数据整理-------------"
   ]
  },
  {
   "cell_type": "markdown",
   "metadata": {},
   "source": [
    "# 1-拆分成多个空洞-打标场景 划分大中小微"
   ]
  },
  {
   "cell_type": "code",
   "execution_count": null,
   "metadata": {
    "ExecuteTime": {
     "start_time": "2020-09-08T13:04:44.356Z"
    }
   },
   "outputs": [],
   "source": [
    "# 1-拆分成多个空洞-打标场景 划分大中小微"
   ]
  },
  {
   "cell_type": "code",
   "execution_count": null,
   "metadata": {
    "ExecuteTime": {
     "start_time": "2020-09-08T13:04:44.570Z"
    }
   },
   "outputs": [],
   "source": [
    "kongdong.head(1)\n",
    "\n",
    "kongdong['type'] =  kongdong.type\n",
    "\n",
    "kongdong.groupby('type').count()\n",
    "\n",
    "kongd_use = kongdong.loc[kongdong['type']=='Polygon'].append(kongdong.loc[kongdong['type']=='MultiPolygon'].explode())\n",
    "\n",
    "kongd_use.shape\n",
    "\n",
    "kongd_mianji = mytools.gisn.add_area(kongd_use)\n",
    "\n",
    "kongd_mianji['type'] =  kongd_mianji.type\n",
    "\n",
    "kongd_mianji =kongd_mianji.reset_index(drop=True)\n",
    "\n",
    "# 打标场景\n",
    "\n",
    "kongd_mianji[['lon','lat']] = kongd_mianji.apply(lambda x:pd.Series(x['geometry'].centroid.coords[:][0]),axis=1)#\n",
    "\n",
    "result = mytools.gisn.points_coverage_merge(kongd_mianji,'lon','lat')\n",
    "\n",
    "result.shape\n",
    "\n",
    "#添加id编号\n",
    "result_id = result.reset_index(drop=True)\n",
    "result['id'] = [ 'kd_{}'.format(str(name)) for name in result_id.index+1]\n",
    "\n",
    "result['制式'] = 'FDD1800'\n",
    "result.loc[result['区域类型']=='农村','制式']='FDD900'\n",
    "\n",
    "result = mytools.gisn.changjing_distance(result,'区域类型','制式')\n",
    "\n",
    "result['标准面积'] = np.pi* result['distance']* result['distance']\n",
    "result['空洞面积比例'] = result['面积']/result['标准面积']\n",
    "\n",
    "def fuck_data(x):\n",
    "    if x['空洞面积比例']>=1:\n",
    "        return '大'\n",
    "    elif x['空洞面积比例']>=1/3:\n",
    "        return '中'\n",
    "    elif x['空洞面积比例']>=1/6:\n",
    "        return '小'\n",
    "    else:\n",
    "        return '微'\n",
    "\n",
    "result['空洞级别'] = result.apply(fuck_data,axis=1)\n",
    "\n",
    "result.head(1)\n",
    "\n",
    "result.to_pickle('G:/1-规划/评估/覆盖空洞/20200907第五版/2-输出内容/覆盖空添加场景区分大中小微.data')\n",
    "\n",
    "# result.reindex(columns=['id','city','面积','lon','lat', '区域类型','制式','distance','标准面积','空洞面积比例','空洞级别']).to_excel(\n",
    "#     'G:/1-规划/评估/覆盖空洞/20200712第四版本/3-拆分后的空洞/覆盖空19481个添加场景区分大中小微.xlsx',index=False)\n",
    "\n",
    "# result.columns = ['city', 'type', 'geometry', 'area', 'lon', 'lat', 'regiontype', 'id', 'frequency ',\n",
    "#        'distance', 'scene_area', 'kd_area_specific', 'kd_class']"
   ]
  },
  {
   "cell_type": "code",
   "execution_count": null,
   "metadata": {
    "ExecuteTime": {
     "start_time": "2020-09-08T13:04:45.631Z"
    }
   },
   "outputs": [],
   "source": [
    "result.columns = ['city', 'qx', 'geometry', 'type', 'area', 'lon', 'lat', 'qylx', 'id', 'zhishi',\n",
    "       'distance', 'bzarea', 'kongd_area_zhanbi', 'jibie']"
   ]
  },
  {
   "cell_type": "code",
   "execution_count": null,
   "metadata": {
    "ExecuteTime": {
     "start_time": "2020-09-08T13:04:46.268Z"
    }
   },
   "outputs": [],
   "source": [
    "result.to_file('G:/1-规划/评估/覆盖空洞/20200907第五版/2-输出内容/覆盖空添加场景区分大中小微.shp',encoding='utf-8')"
   ]
  },
  {
   "cell_type": "code",
   "execution_count": null,
   "metadata": {
    "ExecuteTime": {
     "start_time": "2020-09-08T13:04:49.302Z"
    }
   },
   "outputs": [],
   "source": [
    "result.head(1)"
   ]
  },
  {
   "cell_type": "code",
   "execution_count": null,
   "metadata": {
    "ExecuteTime": {
     "start_time": "2020-09-08T13:04:49.460Z"
    }
   },
   "outputs": [],
   "source": [
    "result.groupby('jibie').count()"
   ]
  },
  {
   "cell_type": "code",
   "execution_count": null,
   "metadata": {},
   "outputs": [],
   "source": []
  },
  {
   "cell_type": "code",
   "execution_count": null,
   "metadata": {},
   "outputs": [],
   "source": []
  },
  {
   "cell_type": "code",
   "execution_count": null,
   "metadata": {},
   "outputs": [],
   "source": []
  },
  {
   "cell_type": "code",
   "execution_count": null,
   "metadata": {},
   "outputs": [],
   "source": []
  },
  {
   "cell_type": "code",
   "execution_count": null,
   "metadata": {},
   "outputs": [],
   "source": []
  },
  {
   "cell_type": "code",
   "execution_count": null,
   "metadata": {
    "ExecuteTime": {
     "end_time": "2020-09-07T06:46:07.179538Z",
     "start_time": "2020-09-07T06:46:07.165536Z"
    }
   },
   "outputs": [],
   "source": [
    "data_fg = gdfdata.explode().reset_index()"
   ]
  },
  {
   "cell_type": "code",
   "execution_count": null,
   "metadata": {
    "ExecuteTime": {
     "end_time": "2020-09-07T03:56:53.007622Z",
     "start_time": "2020-09-07T03:56:53.003622Z"
    }
   },
   "outputs": [],
   "source": [
    "f = mytools.othern.file_name_paths('G:/1-规划/图层/湖北建筑/湖北建筑/湖北建筑/',find='荆州.tab')"
   ]
  },
  {
   "cell_type": "code",
   "execution_count": null,
   "metadata": {
    "ExecuteTime": {
     "end_time": "2020-09-07T04:00:10.874748Z",
     "start_time": "2020-09-07T04:00:10.870748Z"
    }
   },
   "outputs": [],
   "source": [
    "print(data_fg['geo'][0])"
   ]
  },
  {
   "cell_type": "code",
   "execution_count": null,
   "metadata": {
    "ExecuteTime": {
     "end_time": "2020-09-07T06:03:11.151924Z",
     "start_time": "2020-09-07T06:03:11.147924Z"
    }
   },
   "outputs": [],
   "source": [
    "a = Point(1, 1).buffer(1.5)\n",
    "b = Point(2, 1).buffer(1.5)\n",
    "c = Point(4, 2)"
   ]
  },
  {
   "cell_type": "code",
   "execution_count": null,
   "metadata": {},
   "outputs": [],
   "source": []
  },
  {
   "cell_type": "code",
   "execution_count": null,
   "metadata": {
    "ExecuteTime": {
     "end_time": "2020-09-07T06:03:11.909020Z",
     "start_time": "2020-09-07T06:03:11.904520Z"
    }
   },
   "outputs": [],
   "source": [
    "a.distance(c)"
   ]
  },
  {
   "cell_type": "code",
   "execution_count": null,
   "metadata": {
    "ExecuteTime": {
     "end_time": "2020-09-07T06:06:52.141486Z",
     "start_time": "2020-09-07T06:06:52.134485Z"
    }
   },
   "outputs": [],
   "source": [
    "Point(1, 3).distance(b)"
   ]
  },
  {
   "cell_type": "code",
   "execution_count": null,
   "metadata": {
    "ExecuteTime": {
     "end_time": "2020-09-07T06:10:38.597243Z",
     "start_time": "2020-09-07T06:10:38.593242Z"
    }
   },
   "outputs": [],
   "source": [
    "b = Polygon([(1, 0), (3, 0), (3, 3),(1, 0)])"
   ]
  },
  {
   "cell_type": "code",
   "execution_count": null,
   "metadata": {
    "ExecuteTime": {
     "end_time": "2020-09-07T06:10:57.252611Z",
     "start_time": "2020-09-07T06:10:57.249611Z"
    }
   },
   "outputs": [],
   "source": [
    "c = Point(0,0)"
   ]
  },
  {
   "cell_type": "code",
   "execution_count": null,
   "metadata": {
    "ExecuteTime": {
     "end_time": "2020-09-07T06:10:58.066215Z",
     "start_time": "2020-09-07T06:10:58.060714Z"
    }
   },
   "outputs": [],
   "source": [
    "b.distance(c)"
   ]
  },
  {
   "cell_type": "code",
   "execution_count": null,
   "metadata": {
    "ExecuteTime": {
     "end_time": "2020-09-07T06:22:00.737363Z",
     "start_time": "2020-09-07T06:22:00.724862Z"
    }
   },
   "outputs": [],
   "source": [
    "data = pd.read_clipboard()"
   ]
  },
  {
   "cell_type": "code",
   "execution_count": null,
   "metadata": {
    "ExecuteTime": {
     "end_time": "2020-09-07T06:33:06.588416Z",
     "start_time": "2020-09-07T06:33:06.580915Z"
    }
   },
   "outputs": [],
   "source": [
    "data['lon'] = np.abs(113.887821 - data['lon'])\n",
    "data['lat'] = np.abs(34.020434 - data['lat'])\n",
    "data['sum'] = data['lon']+data['lat']"
   ]
  },
  {
   "cell_type": "code",
   "execution_count": null,
   "metadata": {
    "ExecuteTime": {
     "end_time": "2020-09-07T06:33:33.888382Z",
     "start_time": "2020-09-07T06:33:33.872880Z"
    }
   },
   "outputs": [],
   "source": [
    "data.sort_values('sum')"
   ]
  },
  {
   "cell_type": "code",
   "execution_count": null,
   "metadata": {},
   "outputs": [],
   "source": []
  },
  {
   "cell_type": "code",
   "execution_count": null,
   "metadata": {},
   "outputs": [],
   "source": []
  },
  {
   "cell_type": "code",
   "execution_count": null,
   "metadata": {
    "ExecuteTime": {
     "end_time": "2020-09-07T04:53:10.186469Z",
     "start_time": "2020-09-07T04:53:10.175968Z"
    }
   },
   "outputs": [],
   "source": [
    "a.unary_union(b)"
   ]
  },
  {
   "cell_type": "code",
   "execution_count": null,
   "metadata": {
    "ExecuteTime": {
     "end_time": "2020-09-07T04:49:04.193732Z",
     "start_time": "2020-09-07T04:49:04.188732Z"
    }
   },
   "outputs": [],
   "source": [
    "b"
   ]
  },
  {
   "cell_type": "code",
   "execution_count": null,
   "metadata": {
    "ExecuteTime": {
     "end_time": "2020-09-07T04:45:41.042935Z",
     "start_time": "2020-09-07T04:45:41.037935Z"
    }
   },
   "outputs": [],
   "source": [
    "b = Polygon([(112.1473500278309,30.12404993354895), (112.1474500409121,30.12404993837585), (112.153296449951,30.11625041859126), (112.1523758624733,30.12916740380928), (112.1473500278309,30.12404993354895)])"
   ]
  },
  {
   "cell_type": "code",
   "execution_count": null,
   "metadata": {},
   "outputs": [],
   "source": []
  },
  {
   "cell_type": "code",
   "execution_count": null,
   "metadata": {
    "ExecuteTime": {
     "end_time": "2020-09-07T04:46:15.085758Z",
     "start_time": "2020-09-07T04:46:15.082758Z"
    }
   },
   "outputs": [],
   "source": [
    "a = data_fg['geo'][0]"
   ]
  },
  {
   "cell_type": "code",
   "execution_count": null,
   "metadata": {
    "ExecuteTime": {
     "end_time": "2020-09-07T04:46:25.684604Z",
     "start_time": "2020-09-07T04:46:25.679604Z"
    }
   },
   "outputs": [],
   "source": [
    "a.difference(b)"
   ]
  },
  {
   "cell_type": "code",
   "execution_count": null,
   "metadata": {},
   "outputs": [],
   "source": []
  },
  {
   "cell_type": "code",
   "execution_count": null,
   "metadata": {},
   "outputs": [],
   "source": []
  },
  {
   "cell_type": "code",
   "execution_count": null,
   "metadata": {
    "ExecuteTime": {
     "end_time": "2020-09-07T03:58:08.839752Z",
     "start_time": "2020-09-07T03:56:56.720594Z"
    }
   },
   "outputs": [],
   "source": [
    "sjoin_data = gpd.GeoDataFrame()\n",
    "for name in f:\n",
    "    tuceng_t = gpd.read_file(name,encoding = 'gbk')\n",
    "    tuceng_t = tuceng_t.to_crs({'init': 'epsg:4326'})\n",
    "    linshi_t = gpd.sjoin(data_fg,tuceng_t)\n",
    "    linshi_t = linshi_t[[ '小区CGI(*)','建筑物高度','SHAPE_Area']]\n",
    "    sjoin_data = sjoin_data.append(linshi_t)\n",
    "    print(name,'ok')"
   ]
  },
  {
   "cell_type": "code",
   "execution_count": null,
   "metadata": {},
   "outputs": [],
   "source": [
    "sjoin_data['volume'] = sjoin_data['建筑物高度'] * sjoin_data['SHAPE_Area']\n",
    "\n",
    "sjoin_data_volume_h = sjoin_data.groupby('小区CGI(*)').agg({'volume':'sum','SHAPE_Area':'sum'})\n",
    "\n",
    "sjoin_data_volume_h['h_use'] = sjoin_data_volume_h['volume'] / sjoin_data_volume_h['SHAPE_Area']\n",
    "\n",
    "sjoin_data_linshi = sjoin_data_volume_h.reset_index()\n",
    "\n",
    "gongcan_zhangao = gongcan_loc_juli.merge(sjoin_data_linshi[['小区CGI(*)','h_use']],how='left',on='小区CGI(*)')\n",
    "\n",
    "gongcan_zhangao['高度建筑比'] = (gongcan_zhangao['天线挂高']-gongcan_zhangao['h_use'])/gongcan_zhangao['天线挂高']"
   ]
  },
  {
   "cell_type": "code",
   "execution_count": null,
   "metadata": {},
   "outputs": [],
   "source": []
  },
  {
   "cell_type": "code",
   "execution_count": null,
   "metadata": {},
   "outputs": [],
   "source": []
  },
  {
   "cell_type": "code",
   "execution_count": null,
   "metadata": {},
   "outputs": [],
   "source": []
  },
  {
   "cell_type": "code",
   "execution_count": null,
   "metadata": {},
   "outputs": [],
   "source": []
  },
  {
   "cell_type": "code",
   "execution_count": null,
   "metadata": {},
   "outputs": [],
   "source": []
  },
  {
   "cell_type": "code",
   "execution_count": null,
   "metadata": {
    "ExecuteTime": {
     "end_time": "2020-09-03T06:59:29.538873Z",
     "start_time": "2020-09-03T06:59:29.521370Z"
    }
   },
   "outputs": [],
   "source": [
    "jd_dp.to_clipboard()"
   ]
  },
  {
   "cell_type": "code",
   "execution_count": null,
   "metadata": {},
   "outputs": [],
   "source": []
  },
  {
   "cell_type": "code",
   "execution_count": null,
   "metadata": {},
   "outputs": [],
   "source": []
  },
  {
   "cell_type": "code",
   "execution_count": null,
   "metadata": {
    "ExecuteTime": {
     "end_time": "2020-09-03T00:57:42.060373Z",
     "start_time": "2020-09-03T00:57:42.047871Z"
    }
   },
   "outputs": [],
   "source": [
    "def jm(x):\n",
    "    jl = int(x['距离'])\n",
    "    lon = x['lon']\n",
    "    lat = x['lat']\n",
    "    fw = x['方位角']\n",
    "    jd_dp['距离'] = jd_dp['电平_正'].apply(lambda x: x/37.052 *jl)\n",
    "    jd_dp_use = jd_dp.loc[(jd_dp['角度']<=90) | (jd_dp['角度']>=270)]\n",
    "    jd_dp_use['角度'] = pd.to_numeric(jd_dp_use['角度'] )\n",
    "    jd_dp_use['角度2'] = jd_dp_use['角度'].apply(lambda x: x-0+fw if x-0+fw<360 else x-0+fw-360 )\n",
    "    points=[]\n",
    "    dict_use = dict()\n",
    "    for jiao , jl in zip(jd_dp_use['角度2'],jd_dp_use['距离']):\n",
    "        res = Geodesic.WGS84.Direct(lat, lon, jiao, jl)\n",
    "        if int(jiao)%10==0:\n",
    "            dict_use[jiao]=res['lon2'], res['lat2']\n",
    "        points.append((res['lon2'], res['lat2']))\n",
    "    points.append(points[0])\n",
    "    pol = Polygon(points)\n",
    "    lins=[]\n",
    "    for key,data_t in dict_use.items():\n",
    "        lon2,lat2=data_t\n",
    "        lins.append((lon,lat))\n",
    "        lins.append((lon2,lat2))\n",
    "    lins = [LineString([(lon, lat), (data_t[0], data_t[1])]) for key,data_t in dict_use.items()]\n",
    "    buffer_size = 0.00000000001\n",
    "    lines_buffered = [line.buffer(buffer_size) for line in lins]\n",
    "    quadrats = unary_union(lines_buffered)\n",
    "    multipoly = pol.difference(quadrats)\n",
    "    return multipoly"
   ]
  },
  {
   "cell_type": "code",
   "execution_count": null,
   "metadata": {
    "ExecuteTime": {
     "end_time": "2020-09-07T03:44:08.571051Z",
     "start_time": "2020-09-07T03:44:08.557549Z"
    }
   },
   "outputs": [],
   "source": [
    "def jm(x,jd_dp,lon,lat):\n",
    "    jl = int(x['distance_use'])\n",
    "    lon = x[lon]\n",
    "    lat = x[lat]\n",
    "    fw = x['方位角']\n",
    "    jd_dp['distance_use'] = jd_dp['电平_正'].apply(lambda x: x/37.052 *jl)\n",
    "    jd_dp_use = jd_dp.loc[(jd_dp['角度']<=90) | (jd_dp['角度']>=270)]\n",
    "    jd_dp_use['角度'] = pd.to_numeric(jd_dp_use['角度'] )\n",
    "    jd_dp_use['角度2'] = jd_dp_use['角度'].apply(lambda x: x-0+fw if x-0+fw<360 else x-0+fw-360 )\n",
    "    points=[]\n",
    "    dict_use = dict()\n",
    "    for jiao , jl in zip(jd_dp_use['角度2'],jd_dp_use['distance_use']):\n",
    "        res = Geodesic.WGS84.Direct(lat, lon, jiao, jl)\n",
    "        if int(jiao)%10==0:\n",
    "            dict_use[jiao]=res['lon2'], res['lat2']\n",
    "        points.append((res['lon2'], res['lat2']))\n",
    "    points.append(points[0])\n",
    "    pol = Polygon(points)\n",
    "    lins=[]\n",
    "    for key,data_t in dict_use.items():\n",
    "        lon2,lat2=data_t\n",
    "        lins.append((lon,lat))\n",
    "        lins.append((lon2,lat2))\n",
    "    lins = [LineString([(lon, lat), (data_t[0], data_t[1])]) for key,data_t in dict_use.items()]\n",
    "    buffer_size = 0.00000000001\n",
    "    lines_buffered = [line.buffer(buffer_size) for line in lins]\n",
    "    quadrats = unary_union(lines_buffered)\n",
    "    multipoly = pol.difference(quadrats)\n",
    "    return multipoly"
   ]
  },
  {
   "cell_type": "code",
   "execution_count": null,
   "metadata": {
    "ExecuteTime": {
     "end_time": "2020-09-03T00:57:42.115880Z",
     "start_time": "2020-09-03T00:57:42.112880Z"
    }
   },
   "outputs": [],
   "source": [
    "# data = data.set_index('cgi')"
   ]
  },
  {
   "cell_type": "code",
   "execution_count": null,
   "metadata": {
    "ExecuteTime": {
     "end_time": "2020-09-03T00:57:48.633208Z",
     "start_time": "2020-09-03T00:57:42.169387Z"
    }
   },
   "outputs": [],
   "source": [
    "data['geolin'] = data.apply(jm,axis=1)"
   ]
  },
  {
   "cell_type": "code",
   "execution_count": null,
   "metadata": {
    "ExecuteTime": {
     "end_time": "2020-09-03T00:57:48.745722Z",
     "start_time": "2020-09-03T00:57:48.725719Z"
    }
   },
   "outputs": [],
   "source": [
    "gdfdata = gpd.GeoDataFrame(data, crs={'init': 'epsg:4326'},geometry='geolin')\n",
    "\n",
    "gdfdata['type'] = gdfdata.type\n",
    "\n",
    "gdfdata.groupby('type').count()"
   ]
  },
  {
   "cell_type": "code",
   "execution_count": null,
   "metadata": {
    "ExecuteTime": {
     "end_time": "2020-09-03T00:59:15.882287Z",
     "start_time": "2020-09-03T00:59:15.845282Z"
    }
   },
   "outputs": [],
   "source": [
    "data_fg = gdfdata.explode().reset_index(drop=1)"
   ]
  },
  {
   "cell_type": "code",
   "execution_count": null,
   "metadata": {
    "ExecuteTime": {
     "end_time": "2020-09-03T02:13:55.352607Z",
     "start_time": "2020-09-03T02:13:55.323604Z"
    }
   },
   "outputs": [],
   "source": [
    "gdfdata.loc[1:1,]"
   ]
  },
  {
   "cell_type": "code",
   "execution_count": null,
   "metadata": {
    "ExecuteTime": {
     "end_time": "2020-09-03T02:14:01.665909Z",
     "start_time": "2020-09-03T02:14:01.430379Z"
    }
   },
   "outputs": [],
   "source": [
    "\n",
    "gdfdata.loc[1:1,].plot(figsize =[12,12])"
   ]
  },
  {
   "cell_type": "code",
   "execution_count": null,
   "metadata": {
    "ExecuteTime": {
     "end_time": "2020-09-03T02:43:52.168774Z",
     "start_time": "2020-09-03T02:43:51.597201Z"
    }
   },
   "outputs": [],
   "source": [
    "data_fg.head(8).plot(figsize =[12,12])"
   ]
  },
  {
   "cell_type": "markdown",
   "metadata": {},
   "source": [
    "# 进行覆盖模型修正-按照hata覆盖模型和站高进行修正"
   ]
  },
  {
   "cell_type": "code",
   "execution_count": null,
   "metadata": {},
   "outputs": [],
   "source": []
  },
  {
   "cell_type": "code",
   "execution_count": null,
   "metadata": {},
   "outputs": [],
   "source": []
  },
  {
   "cell_type": "code",
   "execution_count": null,
   "metadata": {},
   "outputs": [],
   "source": []
  },
  {
   "cell_type": "code",
   "execution_count": null,
   "metadata": {
    "ExecuteTime": {
     "end_time": "2020-09-02T05:36:11.293218Z",
     "start_time": "2020-09-02T05:36:11.287218Z"
    },
    "scrolled": true
   },
   "outputs": [],
   "source": [
    "jd_dp['电平']"
   ]
  },
  {
   "cell_type": "code",
   "execution_count": null,
   "metadata": {
    "ExecuteTime": {
     "end_time": "2020-09-02T05:48:23.318674Z",
     "start_time": "2020-09-02T05:48:23.313173Z"
    }
   },
   "outputs": [],
   "source": [
    "jd_dp['距离_模型'] = np.power(10,(148-jd_dp['电平'] - (46.3+33.9*np.log10(1800)-13.82*np.log10(30)-(-3.81))- 3)/(44.9-6.55*30))*1000"
   ]
  },
  {
   "cell_type": "code",
   "execution_count": null,
   "metadata": {
    "ExecuteTime": {
     "end_time": "2020-09-02T05:57:15.892302Z",
     "start_time": "2020-09-02T05:57:15.882301Z"
    }
   },
   "outputs": [],
   "source": [
    "jd_dp.to_clipboard()"
   ]
  },
  {
   "cell_type": "code",
   "execution_count": null,
   "metadata": {
    "ExecuteTime": {
     "end_time": "2020-09-02T05:57:13.051941Z",
     "start_time": "2020-09-02T05:57:13.047941Z"
    }
   },
   "outputs": [],
   "source": [
    "jd_dp['距离'] = jd_dp['电平_正'].apply(lambda x: x/37.052 *927)"
   ]
  },
  {
   "cell_type": "code",
   "execution_count": null,
   "metadata": {},
   "outputs": [],
   "source": []
  }
 ],
 "metadata": {
  "kernelspec": {
   "display_name": "Python 3",
   "language": "python",
   "name": "python3"
  },
  "language_info": {
   "codemirror_mode": {
    "name": "ipython",
    "version": 3
   },
   "file_extension": ".py",
   "mimetype": "text/x-python",
   "name": "python",
   "nbconvert_exporter": "python",
   "pygments_lexer": "ipython3",
   "version": "3.7.4"
  },
  "toc": {
   "base_numbering": 1,
   "nav_menu": {},
   "number_sections": true,
   "sideBar": true,
   "skip_h1_title": false,
   "title_cell": "Table of Contents",
   "title_sidebar": "Contents",
   "toc_cell": false,
   "toc_position": {
    "height": "calc(100% - 180px)",
    "left": "10px",
    "top": "150px",
    "width": "290.895px"
   },
   "toc_section_display": true,
   "toc_window_display": true
  },
  "varInspector": {
   "cols": {
    "lenName": 16,
    "lenType": 16,
    "lenVar": 40
   },
   "kernels_config": {
    "python": {
     "delete_cmd_postfix": "",
     "delete_cmd_prefix": "del ",
     "library": "var_list.py",
     "varRefreshCmd": "print(var_dic_list())"
    },
    "r": {
     "delete_cmd_postfix": ") ",
     "delete_cmd_prefix": "rm(",
     "library": "var_list.r",
     "varRefreshCmd": "cat(var_dic_list()) "
    }
   },
   "position": {
    "height": "452.727px",
    "left": "1084.55px",
    "right": "20px",
    "top": "120px",
    "width": "350px"
   },
   "types_to_exclude": [
    "module",
    "function",
    "builtin_function_or_method",
    "instance",
    "_Feature"
   ],
   "window_display": false
  }
 },
 "nbformat": 4,
 "nbformat_minor": 2
}
