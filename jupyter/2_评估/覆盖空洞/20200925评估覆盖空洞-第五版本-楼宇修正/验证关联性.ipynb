{
 "cells": [
  {
   "cell_type": "code",
   "execution_count": null,
   "metadata": {
    "ExecuteTime": {
     "end_time": "2020-09-16T03:19:14.447638Z",
     "start_time": "2020-09-16T03:19:11.117715Z"
    }
   },
   "outputs": [],
   "source": [
    "import pandas as pd\n",
    "import geopandas as gpd\n",
    "import mytools"
   ]
  },
  {
   "cell_type": "code",
   "execution_count": null,
   "metadata": {
    "ExecuteTime": {
     "end_time": "2020-09-16T03:19:15.879319Z",
     "start_time": "2020-09-16T03:19:14.455639Z"
    }
   },
   "outputs": [],
   "source": [
    "kongd =pd.read_pickle('G:/1-规划/评估/覆盖空洞/20200907第五版/2-输出内容/原始空洞.data')"
   ]
  },
  {
   "cell_type": "code",
   "execution_count": null,
   "metadata": {
    "ExecuteTime": {
     "end_time": "2020-09-16T03:20:14.019702Z",
     "start_time": "2020-09-16T03:19:32.579440Z"
    }
   },
   "outputs": [],
   "source": [
    "xianjie = pd.ExcelFile('G:/1-规划/重做30619/20200814/反向验证与规划衔接的吻合度/衔接结果400个.xlsx')"
   ]
  },
  {
   "cell_type": "code",
   "execution_count": null,
   "metadata": {
    "ExecuteTime": {
     "end_time": "2020-09-16T03:20:30.785831Z",
     "start_time": "2020-09-16T03:20:30.761328Z"
    }
   },
   "outputs": [],
   "source": [
    "xianjie_data = xianjie.parse('Sheet1')"
   ]
  },
  {
   "cell_type": "code",
   "execution_count": null,
   "metadata": {
    "ExecuteTime": {
     "end_time": "2020-09-16T03:20:47.521957Z",
     "start_time": "2020-09-16T03:20:47.516956Z"
    }
   },
   "outputs": [],
   "source": [
    "xianjie_data_use = xianjie_data[['小区名','lon','lat','工作频段','方位角']]"
   ]
  },
  {
   "cell_type": "code",
   "execution_count": null,
   "metadata": {
    "ExecuteTime": {
     "end_time": "2020-09-16T03:21:04.373596Z",
     "start_time": "2020-09-16T03:21:04.362095Z"
    }
   },
   "outputs": [],
   "source": [
    "xianjie_data_use = xianjie_data_use.loc[(xianjie_data_use['lon']>0)&(xianjie_data_use['方位角']>0)]"
   ]
  },
  {
   "cell_type": "code",
   "execution_count": null,
   "metadata": {
    "ExecuteTime": {
     "end_time": "2020-09-16T03:21:22.230864Z",
     "start_time": "2020-09-16T03:21:21.537776Z"
    }
   },
   "outputs": [],
   "source": [
    "xianjie_data_use_changjing = mytools.gisn.points_coverage_merge(xianjie_data_use,'lon','lat')"
   ]
  },
  {
   "cell_type": "code",
   "execution_count": null,
   "metadata": {
    "ExecuteTime": {
     "end_time": "2020-09-16T03:21:40.443677Z",
     "start_time": "2020-09-16T03:21:40.411673Z"
    }
   },
   "outputs": [],
   "source": [
    "xianjie_data_use_changjing.to_clipboard()"
   ]
  },
  {
   "cell_type": "code",
   "execution_count": null,
   "metadata": {
    "ExecuteTime": {
     "end_time": "2020-09-16T03:21:58.144424Z",
     "start_time": "2020-09-16T03:21:58.097418Z"
    }
   },
   "outputs": [],
   "source": [
    "xianjie_data_use_jl = mytools.gisn.changjing_distance(xianjie_data_use_changjing,'区域类型','工作频段','覆盖半径')"
   ]
  },
  {
   "cell_type": "code",
   "execution_count": null,
   "metadata": {
    "ExecuteTime": {
     "end_time": "2020-09-16T03:22:15.397615Z",
     "start_time": "2020-09-16T03:22:15.054072Z"
    }
   },
   "outputs": [],
   "source": [
    "xianjie_s = mytools.gisn.add_sectors_df(xianjie_data_use_jl,\n",
    "    coords=['lon', 'lat', 'd_height', '方位角', 'distance'],\n",
    "    has_z=False,\n",
    "    sec_col='geometry',\n",
    "    shape_dict={'beam': 120, 'per_degree': 10})"
   ]
  },
  {
   "cell_type": "code",
   "execution_count": null,
   "metadata": {
    "ExecuteTime": {
     "end_time": "2020-09-16T03:22:32.696812Z",
     "start_time": "2020-09-16T03:22:32.374271Z"
    }
   },
   "outputs": [],
   "source": [
    "xianjie_s = mytools.gisn.add_area(xianjie_s,'原面积')"
   ]
  },
  {
   "cell_type": "code",
   "execution_count": null,
   "metadata": {
    "ExecuteTime": {
     "end_time": "2020-09-16T03:22:49.586457Z",
     "start_time": "2020-09-16T03:22:49.579456Z"
    }
   },
   "outputs": [],
   "source": [
    "xianjie_data_use_jl = mytools.gisn.changjing_distance(xianjie_s,'区域类型','工作频段','站间距')"
   ]
  },
  {
   "cell_type": "code",
   "execution_count": null,
   "metadata": {
    "ExecuteTime": {
     "end_time": "2020-09-16T03:23:06.982166Z",
     "start_time": "2020-09-16T03:23:06.565113Z"
    }
   },
   "outputs": [],
   "source": [
    "xianjie_s = mytools.gisn.add_sectors_df(xianjie_data_use_jl,\n",
    "    coords=['lon', 'lat', 'd_height', '方位角', 'distance'],\n",
    "    has_z=False,\n",
    "    sec_col='geometry',\n",
    "    shape_dict={'beam': 120, 'per_degree': 10})"
   ]
  },
  {
   "cell_type": "code",
   "execution_count": null,
   "metadata": {
    "ExecuteTime": {
     "end_time": "2020-09-16T03:23:47.787347Z",
     "start_time": "2020-09-16T03:23:24.293364Z"
    }
   },
   "outputs": [],
   "source": [
    "res = gpd.overlay(xianjie_s,kongd)"
   ]
  },
  {
   "cell_type": "code",
   "execution_count": null,
   "metadata": {
    "ExecuteTime": {
     "end_time": "2020-09-16T03:24:05.525600Z",
     "start_time": "2020-09-16T03:24:05.224562Z"
    }
   },
   "outputs": [],
   "source": [
    "res1 = mytools.gisn.add_area(res,'交集面积')"
   ]
  },
  {
   "cell_type": "code",
   "execution_count": null,
   "metadata": {
    "ExecuteTime": {
     "end_time": "2020-09-10T15:47:12.247653Z",
     "start_time": "2020-09-10T15:47:12.234652Z"
    }
   },
   "outputs": [],
   "source": [
    "res2 = res1.groupby('小区名').agg({'原面积':'sum','交集面积':'sum'}).reset_index()"
   ]
  },
  {
   "cell_type": "code",
   "execution_count": null,
   "metadata": {
    "ExecuteTime": {
     "end_time": "2020-09-10T15:47:27.497090Z",
     "start_time": "2020-09-10T15:47:27.481088Z"
    }
   },
   "outputs": [],
   "source": [
    "res2.to_clipboard()"
   ]
  },
  {
   "cell_type": "code",
   "execution_count": null,
   "metadata": {
    "ExecuteTime": {
     "end_time": "2020-09-10T15:47:42.260464Z",
     "start_time": "2020-09-10T15:47:42.244962Z"
    }
   },
   "outputs": [],
   "source": [
    "res1[['小区名','原面积']].to_clipboard()"
   ]
  },
  {
   "cell_type": "code",
   "execution_count": null,
   "metadata": {
    "ExecuteTime": {
     "end_time": "2020-09-16T03:24:22.555262Z",
     "start_time": "2020-09-16T03:24:22.531259Z"
    }
   },
   "outputs": [],
   "source": [
    "res1.head(1)"
   ]
  },
  {
   "cell_type": "code",
   "execution_count": null,
   "metadata": {
    "ExecuteTime": {
     "end_time": "2020-09-16T03:41:30.591806Z",
     "start_time": "2020-09-16T03:41:30.585306Z"
    }
   },
   "outputs": [],
   "source": [
    "res1.columns"
   ]
  },
  {
   "cell_type": "code",
   "execution_count": null,
   "metadata": {
    "ExecuteTime": {
     "end_time": "2020-09-16T03:41:47.461449Z",
     "start_time": "2020-09-16T03:41:47.443946Z"
    }
   },
   "outputs": [],
   "source": [
    "res1[['小区名', 'lon', 'lat', '工作频段', '方位角', '区域类型', 'distance', '原面积', 'city',\n",
    "       'type',  '交集面积']].to_clipboard()"
   ]
  },
  {
   "cell_type": "code",
   "execution_count": null,
   "metadata": {},
   "outputs": [],
   "source": []
  }
 ],
 "metadata": {
  "kernelspec": {
   "display_name": "Python 3",
   "language": "python",
   "name": "python3"
  },
  "language_info": {
   "codemirror_mode": {
    "name": "ipython",
    "version": 3
   },
   "file_extension": ".py",
   "mimetype": "text/x-python",
   "name": "python",
   "nbconvert_exporter": "python",
   "pygments_lexer": "ipython3",
   "version": "3.7.4"
  },
  "toc": {
   "base_numbering": 1,
   "nav_menu": {},
   "number_sections": true,
   "sideBar": true,
   "skip_h1_title": false,
   "title_cell": "Table of Contents",
   "title_sidebar": "Contents",
   "toc_cell": false,
   "toc_position": {},
   "toc_section_display": true,
   "toc_window_display": false
  },
  "varInspector": {
   "cols": {
    "lenName": 16,
    "lenType": 16,
    "lenVar": 40
   },
   "kernels_config": {
    "python": {
     "delete_cmd_postfix": "",
     "delete_cmd_prefix": "del ",
     "library": "var_list.py",
     "varRefreshCmd": "print(var_dic_list())"
    },
    "r": {
     "delete_cmd_postfix": ") ",
     "delete_cmd_prefix": "rm(",
     "library": "var_list.r",
     "varRefreshCmd": "cat(var_dic_list()) "
    }
   },
   "types_to_exclude": [
    "module",
    "function",
    "builtin_function_or_method",
    "instance",
    "_Feature"
   ],
   "window_display": false
  }
 },
 "nbformat": 4,
 "nbformat_minor": 2
}
