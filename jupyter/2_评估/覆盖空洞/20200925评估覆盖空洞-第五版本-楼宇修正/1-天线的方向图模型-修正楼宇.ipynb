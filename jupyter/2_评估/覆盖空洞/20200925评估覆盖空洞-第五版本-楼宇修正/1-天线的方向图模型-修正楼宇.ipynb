{
 "cells": [
  {
   "cell_type": "code",
   "execution_count": null,
   "metadata": {
    "ExecuteTime": {
     "end_time": "2020-09-28T01:44:18.421695Z",
     "start_time": "2020-09-28T01:44:18.417195Z"
    }
   },
   "outputs": [],
   "source": [
    "import pandas as pd\n",
    "import mytools,os\n",
    "from geographiclib.geodesic import Geodesic\n",
    "from shapely.geometry import Polygon,Point,LineString,MultiPolygon,MultiLineString \n",
    "import geopandas as gpd\n",
    "from shapely.ops import unary_union"
   ]
  },
  {
   "cell_type": "markdown",
   "metadata": {},
   "source": [
    "# 第五版本覆盖空洞\n",
    "### 使用天线方向模型进行修正\n",
    "使用农村1500距离和1800距离为半径\n",
    "### 使用每十度一个扇形修正\n",
    "使用270-90度的方向图层为有效数据"
   ]
  },
  {
   "cell_type": "code",
   "execution_count": null,
   "metadata": {
    "ExecuteTime": {
     "end_time": "2020-09-27T13:11:22.299425Z",
     "start_time": "2020-09-27T13:11:17.789852Z"
    }
   },
   "outputs": [],
   "source": [
    "#导入工参数据\n",
    "gongcan = pd.read_csv(open('G:/1-规划/评估/覆盖空洞/20200712第四版本/1-基础数据/ltejizhan20200616&微站_合并.csv',encoding='gbk'),usecols=[\n",
    "    '小区CGI(*)','所属地区','小区中文名','RRU经度', 'RRU纬度','天线挂高','工作频段', '方位角','归属区县','厂家名称' ])\n",
    "#设置变量通用名\n",
    "print('设置变量通用名')\n",
    "id = '小区CGI(*)'\n",
    "lon = 'RRU经度'\n",
    "lat = 'RRU纬度'\n",
    "zhishi = '工作频段'\n",
    "fw = '方位角'\n",
    "\n",
    "gongcan = gongcan.loc[(gongcan['RRU经度']>108)&\n",
    "            (gongcan['RRU经度']<117)&\n",
    "            (gongcan['RRU纬度']>28)&\n",
    "            (gongcan['RRU纬度']<34)&\n",
    "           (gongcan['方位角'].notnull())]"
   ]
  },
  {
   "cell_type": "code",
   "execution_count": null,
   "metadata": {
    "ExecuteTime": {
     "end_time": "2020-09-27T13:11:22.914503Z",
     "start_time": "2020-09-27T13:11:22.316427Z"
    }
   },
   "outputs": [],
   "source": [
    "#只要宏站\n",
    "gongcan['小区中文名'] = gongcan['小区中文名'].fillna('无')\n",
    "gongcan = gongcan.loc[~gongcan['小区中文名'].str.contains('W-')]\n",
    "gongcan = gongcan.loc[~gongcan['小区中文名'].str.contains('R')]\n",
    "# gongcan = gongcan.loc[~gongcan['小区中文名'].str.contains('M-')]"
   ]
  },
  {
   "cell_type": "code",
   "execution_count": null,
   "metadata": {
    "ExecuteTime": {
     "end_time": "2020-09-27T13:11:23.177036Z",
     "start_time": "2020-09-27T13:11:22.931505Z"
    }
   },
   "outputs": [],
   "source": [
    "gongcan['小区中文名'] = gongcan['小区中文名'].fillna('无')\n",
    "gongcan.loc[gongcan['小区中文名'].str.contains('M-')].shape"
   ]
  },
  {
   "cell_type": "code",
   "execution_count": null,
   "metadata": {
    "ExecuteTime": {
     "end_time": "2020-09-27T13:11:51.671654Z",
     "start_time": "2020-09-27T13:11:23.195038Z"
    }
   },
   "outputs": [],
   "source": [
    "#打标场景\n",
    "gongcan = mytools.gisn.points_coverage_merge(gongcan,lon,lat)\n",
    "print('添加覆盖距离')\n",
    "gongcan_loc_juli = mytools.gisn.changjing_distance(gongcan,'区域类型',zhishi)"
   ]
  },
  {
   "cell_type": "code",
   "execution_count": null,
   "metadata": {
    "ExecuteTime": {
     "end_time": "2020-09-27T13:11:51.771667Z",
     "start_time": "2020-09-27T13:11:51.705159Z"
    }
   },
   "outputs": [],
   "source": [
    "gongcan_loc_juli.loc[(gongcan_loc_juli['区域类型']=='农村')&(gongcan_loc_juli['工作频段']=='FDD900'),'distance']=1800"
   ]
  },
  {
   "cell_type": "code",
   "execution_count": null,
   "metadata": {
    "ExecuteTime": {
     "end_time": "2020-09-27T13:11:51.815173Z",
     "start_time": "2020-09-27T13:11:51.799171Z"
    }
   },
   "outputs": [],
   "source": [
    "gongcan_loc_juli.head(1)"
   ]
  },
  {
   "cell_type": "code",
   "execution_count": null,
   "metadata": {
    "ExecuteTime": {
     "end_time": "2020-09-27T13:11:51.846177Z",
     "start_time": "2020-09-27T13:11:51.842176Z"
    }
   },
   "outputs": [],
   "source": [
    "gongcan_loc_juli.shape"
   ]
  },
  {
   "cell_type": "markdown",
   "metadata": {},
   "source": [
    "# 覆盖模型修正"
   ]
  },
  {
   "cell_type": "code",
   "execution_count": null,
   "metadata": {
    "ExecuteTime": {
     "end_time": "2020-09-25T06:56:24.338203Z",
     "start_time": "2020-09-25T06:56:24.061668Z"
    }
   },
   "outputs": [],
   "source": [
    "gongcan_loc_juli['工作频段'] = gongcan_loc_juli['工作频段'].apply(lambda x: 900 if x=='FDD900' else 1800)\n",
    "\n",
    "gd,band= map(np.log10, (gongcan_loc_juli['天线挂高'],gongcan_loc_juli['工作频段']))\n",
    "\n",
    "gongcan_loc_juli['覆盖模型距离'] = np.power(10,\n",
    "                                      (148 - (46.3+33.9*band-13.82*gd-(-3.81))- 3)/(44.9-6.55*gd))*1000\n",
    "\n",
    "gongcan_loc_juli['30米覆盖模型距离'] = np.power(10,\n",
    "                                      (148 - (46.3+33.9*band-13.82*np.log10(30)-(-3.81))- 3)/(44.9-6.55*np.log10(30)))*1000\n",
    "\n",
    "gongcan_loc_juli['使用覆盖半径'] = gongcan_loc_juli['覆盖模型距离'] /gongcan_loc_juli['30米覆盖模型距离']*gongcan_loc_juli['distance']"
   ]
  },
  {
   "cell_type": "code",
   "execution_count": null,
   "metadata": {
    "ExecuteTime": {
     "end_time": "2020-09-25T06:56:24.392710Z",
     "start_time": "2020-09-25T06:56:24.372708Z"
    }
   },
   "outputs": [],
   "source": [
    "def fuck(x):\n",
    "    if x['区域类型']=='主城区':\n",
    "        if x['工作频段']==900:\n",
    "            if x['使用覆盖半径']<200:\n",
    "                return 200\n",
    "            elif x['使用覆盖半径']>400:\n",
    "                return 400\n",
    "            else:\n",
    "                return x['distance']\n",
    "        else:\n",
    "            if x['使用覆盖半径']<150:\n",
    "                return 150\n",
    "            elif x['使用覆盖半径']>350:\n",
    "                return 350\n",
    "            else:\n",
    "                return x['distance']\n",
    "    elif  x['区域类型']=='县城':\n",
    "        if x['工作频段']==900:\n",
    "            if x['使用覆盖半径']<300:\n",
    "                return 300\n",
    "            elif x['使用覆盖半径']>430:\n",
    "                return 430\n",
    "            else:\n",
    "                return x['distance']\n",
    "        else:\n",
    "            if x['使用覆盖半径']<250:\n",
    "                return 250\n",
    "            elif x['使用覆盖半径']>400:\n",
    "                return 400\n",
    "            else:\n",
    "                return x['distance']\n",
    "    elif  x['区域类型']=='一般城区':\n",
    "        if x['工作频段']==900:\n",
    "            if x['使用覆盖半径']<400:\n",
    "                return 400\n",
    "            elif x['使用覆盖半径']>1200:\n",
    "                return 1200\n",
    "            else:\n",
    "                return x['distance']\n",
    "        else:\n",
    "            if x['使用覆盖半径']<350:\n",
    "                return 350\n",
    "            elif x['使用覆盖半径']>800:\n",
    "                return 800\n",
    "            else:\n",
    "                return x['distance']\n",
    "    elif  x['区域类型']=='乡镇':\n",
    "        if x['工作频段']==900:\n",
    "            if x['使用覆盖半径']<430:\n",
    "                return 430\n",
    "            elif x['使用覆盖半径']>2200:\n",
    "                return 2200\n",
    "            else:\n",
    "                return x['distance']\n",
    "        else:\n",
    "            if x['使用覆盖半径']<400:\n",
    "                return 400\n",
    "            elif x['使用覆盖半径']>1000:\n",
    "                return 1000\n",
    "            else:\n",
    "                return x['distance']\n",
    "    elif  x['区域类型']=='农村':\n",
    "        if x['工作频段']==900:\n",
    "            if x['使用覆盖半径']<1200:\n",
    "                return 1200\n",
    "            elif x['使用覆盖半径']>2500:\n",
    "                return 2500\n",
    "            else:\n",
    "                return x['distance']\n",
    "        else:\n",
    "            if x['使用覆盖半径']<800:\n",
    "                return 800\n",
    "            elif x['使用覆盖半径']>1500:\n",
    "                return 1500\n",
    "            else:\n",
    "                return x['distance']\n",
    "    else:\n",
    "        return 0"
   ]
  },
  {
   "cell_type": "code",
   "execution_count": null,
   "metadata": {
    "ExecuteTime": {
     "end_time": "2020-09-25T06:57:00.246763Z",
     "start_time": "2020-09-25T06:56:24.427215Z"
    }
   },
   "outputs": [],
   "source": [
    "gongcan_loc_juli['distance_use'] = gongcan_loc_juli.apply(fuck,axis=1)"
   ]
  },
  {
   "cell_type": "markdown",
   "metadata": {},
   "source": [
    "# 按照天线方向图模型画多边形"
   ]
  },
  {
   "cell_type": "code",
   "execution_count": null,
   "metadata": {
    "ExecuteTime": {
     "end_time": "2020-09-25T06:57:00.359778Z",
     "start_time": "2020-09-25T06:57:00.325273Z"
    }
   },
   "outputs": [],
   "source": [
    "gongcan_loc_juli['所属地区'] = gongcan_loc_juli['所属地区'].fillna('wu')"
   ]
  },
  {
   "cell_type": "code",
   "execution_count": null,
   "metadata": {
    "ExecuteTime": {
     "end_time": "2020-09-25T06:57:01.629939Z",
     "start_time": "2020-09-25T06:57:00.415785Z"
    }
   },
   "outputs": [],
   "source": [
    "gongcan_loc_juli.to_pickle('temp1.data')"
   ]
  },
  {
   "cell_type": "code",
   "execution_count": null,
   "metadata": {
    "ExecuteTime": {
     "end_time": "2020-09-25T06:57:01.672444Z",
     "start_time": "2020-09-25T06:57:01.667444Z"
    }
   },
   "outputs": [],
   "source": [
    "gongcan_loc_juli.shape"
   ]
  },
  {
   "cell_type": "code",
   "execution_count": null,
   "metadata": {
    "ExecuteTime": {
     "end_time": "2020-09-25T06:57:01.717450Z",
     "start_time": "2020-09-25T06:57:01.707449Z"
    }
   },
   "outputs": [],
   "source": [
    "%%writefile temp1.py\n",
    "from geographiclib.geodesic import Geodesic\n",
    "from shapely.geometry import Polygon,Point,LineString\n",
    "import pandas as pd\n",
    "import geopandas as gpd\n",
    "import mytools,os ,sys,time,multiprocessing\n",
    "from multiprocessing import Pool\n",
    "mx_900 = mytools.othern.pickle_read('G:/mypy/mycloud/jupyter/2_评估/覆盖空洞/20200902评估覆盖空洞-第五版本-覆盖空洞使用天线方向图进行/1-基础数据/44低增益900M0下倾P3_935覆盖模型.data')\n",
    "mx_f = mytools.othern.pickle_read('G:/mypy/mycloud/jupyter/2_评估/覆盖空洞/20200902评估覆盖空洞-第五版本-覆盖空洞使用天线方向图进行/1-基础数据/F频段模型fad天线.data')\n",
    "mx_d = mytools.othern.pickle_read('G:/mypy/mycloud/jupyter/2_评估/覆盖空洞/20200902评估覆盖空洞-第五版本-覆盖空洞使用天线方向图进行/1-基础数据/D频段模型fad天线.data')\n",
    "data_z = pd.read_pickle('temp1.data')\n",
    "#导入区县图层\n",
    "def jm_z(x,jd_dp,lon,lat):\n",
    "    jl = int(x['distance_use'])\n",
    "    lon = x[lon]\n",
    "    lat = x[lat]\n",
    "    fw = x['方位角']\n",
    "    jd_dp['distance_use'] = jd_dp['电平_正'].apply(lambda x: x/37.052 *jl)\n",
    "    jd_dp_use = jd_dp.loc[(jd_dp['角度']<=90) | (jd_dp['角度']>=270)]\n",
    "    jd_dp_use['角度'] = pd.to_numeric(jd_dp_use['角度'] )\n",
    "    jd_dp_use['角度2'] = jd_dp_use['角度'].apply(lambda x: x-0+fw if x-0+fw<360 else x-0+fw-360 )\n",
    "    points=[]\n",
    "    dict_use = dict()\n",
    "    for jiao , jl in zip(jd_dp_use['角度2'],jd_dp_use['distance_use']):\n",
    "        res = Geodesic.WGS84.Direct(lat, lon, jiao, jl)\n",
    "        if int(jiao)%10==0:\n",
    "            dict_use[jiao]=res['lon2'], res['lat2']\n",
    "        points.append((res['lon2'], res['lat2']))\n",
    "    points.append(points[0])\n",
    "    pol = Polygon(points)\n",
    "    return pol\n",
    "def fcgo(data_t):\n",
    "    data_t['geometry'] = data_t.apply(lambda x:jm_z(x,mx_900,'RRU经度','RRU纬度'),axis=1)\n",
    "\n",
    "    return data_t\n",
    "if __name__ == '__main__':\n",
    "    threads = []\n",
    "    with Pool(processes=6) as pool:         # start 4 worker processes\n",
    "        aa = pd.DataFrame()\n",
    "        for name , data_t in data_z.groupby('所属地区'):\n",
    "            print(name,'开始')\n",
    "            result = pool.apply_async(fcgo, (data_t,)) # evaluate \"f(10)\" asynchronously in a single process\n",
    "            threads.append(result)\n",
    "        pool.close()#防止将更多任务提交到池中。完成所有任务后，工作进程将退出。\n",
    "        # 调用join之前，先调用close函数，否则会出错。执行完close后不会有新的线程加入到pool,\n",
    "        # join函数等待所有子线程结束\n",
    "        pool.join()\n",
    "        for result_t in threads:\n",
    "            data_tp = result_t.get()\n",
    "            aa = aa.append(data_tp)\n",
    "            print(data_tp.shape,aa.shape)\n",
    "        print(aa.shape)\n",
    "        aa.to_pickle('res.pkl')"
   ]
  },
  {
   "cell_type": "code",
   "execution_count": null,
   "metadata": {
    "ExecuteTime": {
     "end_time": "2020-09-25T06:57:16.517829Z",
     "start_time": "2020-09-25T06:57:14.338053Z"
    },
    "scrolled": true
   },
   "outputs": [],
   "source": [
    "mytools.dog()"
   ]
  },
  {
   "cell_type": "code",
   "execution_count": null,
   "metadata": {
    "ExecuteTime": {
     "start_time": "2020-09-10T06:42:56.676Z"
    }
   },
   "outputs": [],
   "source": [
    "# %run temp.py\n",
    "# if os.path.exists('temp.py'):  # 如果文件存在\n",
    "#     os.remove('temp.py') # 删除文件"
   ]
  },
  {
   "cell_type": "code",
   "execution_count": null,
   "metadata": {
    "ExecuteTime": {
     "end_time": "2020-09-27T13:12:04.350264Z",
     "start_time": "2020-09-27T13:11:51.875680Z"
    }
   },
   "outputs": [],
   "source": [
    "grid_changjing = pd.read_pickle('res.pkl')\n",
    "# if os.path.exists('res.pkl'):  # 如果文件存在\n",
    "#     os.remove('res.pkl') # 删除文件\n",
    "# if os.path.exists('temp1.data'):  # 如果文件存在\n",
    "#     os.remove('temp1.data') # 删除文件"
   ]
  },
  {
   "cell_type": "code",
   "execution_count": null,
   "metadata": {
    "ExecuteTime": {
     "end_time": "2020-09-27T13:12:04.495283Z",
     "start_time": "2020-09-27T13:12:04.400271Z"
    }
   },
   "outputs": [],
   "source": [
    "gongcan_loc_juli = grid_changjing.copy()"
   ]
  },
  {
   "cell_type": "code",
   "execution_count": null,
   "metadata": {
    "ExecuteTime": {
     "end_time": "2020-09-27T13:12:05.448404Z",
     "start_time": "2020-09-27T13:12:04.553290Z"
    }
   },
   "outputs": [],
   "source": [
    "gdfdata = gpd.GeoDataFrame(gongcan_loc_juli, crs={'init': 'epsg:4326'},geometry='geometry')\n",
    "gdfdata['type'] = gdfdata.type\n",
    "gdfdata.groupby('type').count()"
   ]
  },
  {
   "cell_type": "code",
   "execution_count": null,
   "metadata": {
    "ExecuteTime": {
     "end_time": "2020-09-25T06:58:48.040451Z",
     "start_time": "2020-09-25T06:58:48.037451Z"
    }
   },
   "outputs": [],
   "source": [
    "# gdfdata.to_csv('G:/mypy/mycloud/jupyter/2_评估/覆盖空洞/20200902评估覆盖空洞-第四版本-覆盖空洞使用天线方向图进行/2-输出数据/天线方向图模型hata修正_东新.csv',encoding='gbk')\n",
    "\n",
    "# gdfdata.to_pickle('G:/mypy/mycloud/jupyter/2_评估/覆盖空洞/20200902评估覆盖空洞-第四版本-覆盖空洞使用天线方向图进行/2-输出数据/天线方向图模型hata修正_东新.data')"
   ]
  },
  {
   "cell_type": "code",
   "execution_count": null,
   "metadata": {
    "ExecuteTime": {
     "end_time": "2020-09-27T15:31:12.636862Z",
     "start_time": "2020-09-27T15:31:12.605858Z"
    }
   },
   "outputs": [],
   "source": [
    "use_data = gdfdata.loc[gdfdata['归属区县']=='洪山区']"
   ]
  },
  {
   "cell_type": "code",
   "execution_count": null,
   "metadata": {
    "ExecuteTime": {
     "end_time": "2020-09-27T15:31:29.535508Z",
     "start_time": "2020-09-27T15:31:29.304479Z"
    }
   },
   "outputs": [],
   "source": [
    "use_data.head(12).plot(figsize=[12,12])"
   ]
  },
  {
   "cell_type": "code",
   "execution_count": null,
   "metadata": {
    "ExecuteTime": {
     "end_time": "2020-09-27T15:31:04.969889Z",
     "start_time": "2020-09-27T15:31:04.948886Z"
    }
   },
   "outputs": [],
   "source": [
    "use_data.head(1)"
   ]
  },
  {
   "cell_type": "code",
   "execution_count": null,
   "metadata": {
    "ExecuteTime": {
     "end_time": "2020-09-27T14:05:02.676861Z",
     "start_time": "2020-09-27T14:05:02.673860Z"
    }
   },
   "outputs": [],
   "source": [
    "lon = 114.33871\n",
    "lat = 30.50173\n",
    "ji = 1000"
   ]
  },
  {
   "cell_type": "code",
   "execution_count": null,
   "metadata": {
    "ExecuteTime": {
     "end_time": "2020-09-27T14:02:38.811592Z",
     "start_time": "2020-09-27T14:02:38.808592Z"
    }
   },
   "outputs": [],
   "source": [
    "x = 270"
   ]
  },
  {
   "cell_type": "code",
   "execution_count": null,
   "metadata": {
    "ExecuteTime": {
     "end_time": "2020-09-27T14:03:29.526032Z",
     "start_time": "2020-09-27T14:03:29.518531Z"
    }
   },
   "outputs": [],
   "source": [
    "def fw_zl(fw=360):\n",
    "    if x < 90 :\n",
    "        jg = list(range(x%10,x+100,10))\n",
    "        jg2 = list(range(360-(90-x),360,10))\n",
    "        jg = jg2 + jg\n",
    "    elif x > 270:\n",
    "        jg = list(range(x-90,x+(360-x),10))\n",
    "        jg2= list(range((90-(360-x))%10,90-(360-x)+10,10))\n",
    "        jg = jg + jg2\n",
    "    else:\n",
    "        jg = list(range(x-90,x+100,10))\n",
    "    return jg"
   ]
  },
  {
   "cell_type": "code",
   "execution_count": null,
   "metadata": {
    "ExecuteTime": {
     "end_time": "2020-09-27T14:05:14.107312Z",
     "start_time": "2020-09-27T14:05:14.100311Z"
    }
   },
   "outputs": [],
   "source": [
    "points=[]\n",
    "dict_use = dict()\n",
    "for jiao in [x for x in jg]:\n",
    "    res = Geodesic.WGS84.Direct(lat, lon, jiao, jl)\n",
    "    if jiao%10==0:\n",
    "        dict_use[jiao]=res['lon2'], res['lat2']\n",
    "    points.append((res['lon2'], res['lat2']))\n",
    "points.append(points[0])"
   ]
  },
  {
   "cell_type": "code",
   "execution_count": null,
   "metadata": {
    "ExecuteTime": {
     "end_time": "2020-09-27T14:06:16.263205Z",
     "start_time": "2020-09-27T14:06:16.258704Z"
    }
   },
   "outputs": [],
   "source": [
    "Polygon(points)"
   ]
  },
  {
   "cell_type": "code",
   "execution_count": null,
   "metadata": {
    "ExecuteTime": {
     "end_time": "2020-09-27T14:22:25.656802Z",
     "start_time": "2020-09-27T14:22:25.651302Z"
    }
   },
   "outputs": [],
   "source": [
    "dict_use"
   ]
  },
  {
   "cell_type": "code",
   "execution_count": null,
   "metadata": {
    "ExecuteTime": {
     "end_time": "2020-09-27T13:30:03.411788Z",
     "start_time": "2020-09-27T13:30:03.408787Z"
    }
   },
   "outputs": [],
   "source": [
    "pol = Polygon(points)"
   ]
  },
  {
   "cell_type": "code",
   "execution_count": null,
   "metadata": {
    "ExecuteTime": {
     "end_time": "2020-09-27T14:21:24.128489Z",
     "start_time": "2020-09-27T14:21:24.124489Z"
    }
   },
   "outputs": [],
   "source": [
    "lins=[]\n",
    "for key,data_t in dict_use.items():\n",
    "    lon2,lat2=data_t\n",
    "    lins.append((lon,lat))\n",
    "    lins.append((lon2,lat2))"
   ]
  },
  {
   "cell_type": "code",
   "execution_count": null,
   "metadata": {
    "ExecuteTime": {
     "end_time": "2020-09-27T14:21:24.597049Z",
     "start_time": "2020-09-27T14:21:24.593048Z"
    }
   },
   "outputs": [],
   "source": [
    "lins = [LineString([(lon, lat), (data_t[0], data_t[1])]) for key,data_t in dict_use.items()]"
   ]
  },
  {
   "cell_type": "code",
   "execution_count": null,
   "metadata": {
    "ExecuteTime": {
     "end_time": "2020-09-27T14:24:54.975263Z",
     "start_time": "2020-09-27T14:24:54.299177Z"
    }
   },
   "outputs": [],
   "source": [
    "data_z = pd.read_pickle('temp1.data')"
   ]
  },
  {
   "cell_type": "code",
   "execution_count": null,
   "metadata": {
    "ExecuteTime": {
     "end_time": "2020-09-27T14:25:17.303099Z",
     "start_time": "2020-09-27T14:25:17.195585Z"
    }
   },
   "outputs": [],
   "source": [
    "mx_900 = mytools.othern.pickle_read('G:/mypy/mycloud/jupyter/2_评估/覆盖空洞/20200902评估覆盖空洞-第五版本-覆盖空洞使用天线方向图进行/1-基础数据/44低增益900M0下倾P3_935覆盖模型.data')\n"
   ]
  },
  {
   "cell_type": "code",
   "execution_count": null,
   "metadata": {
    "ExecuteTime": {
     "end_time": "2020-09-27T14:25:19.510879Z",
     "start_time": "2020-09-27T14:25:19.498877Z"
    }
   },
   "outputs": [],
   "source": [
    "mx_900"
   ]
  },
  {
   "cell_type": "code",
   "execution_count": null,
   "metadata": {
    "ExecuteTime": {
     "end_time": "2020-09-27T15:31:51.697322Z",
     "start_time": "2020-09-27T15:31:51.679320Z"
    }
   },
   "outputs": [],
   "source": [
    "r"
   ]
  },
  {
   "cell_type": "code",
   "execution_count": null,
   "metadata": {
    "ExecuteTime": {
     "end_time": "2020-09-27T15:31:52.134378Z",
     "start_time": "2020-09-27T15:31:52.130377Z"
    }
   },
   "outputs": [],
   "source": [
    "use_data = use_data.head(12)"
   ]
  },
  {
   "cell_type": "code",
   "execution_count": null,
   "metadata": {
    "ExecuteTime": {
     "end_time": "2020-09-27T15:31:54.557185Z",
     "start_time": "2020-09-27T15:31:54.552685Z"
    }
   },
   "outputs": [],
   "source": [
    "mx_900.shape"
   ]
  },
  {
   "cell_type": "code",
   "execution_count": null,
   "metadata": {
    "ExecuteTime": {
     "end_time": "2020-09-27T15:31:55.980366Z",
     "start_time": "2020-09-27T15:31:55.681828Z"
    }
   },
   "outputs": [],
   "source": [
    "use_data['geometry'] = use_data.apply(lambda x:jm_z(x,mx_900,'RRU经度','RRU纬度','方位角'),axis=1)"
   ]
  },
  {
   "cell_type": "code",
   "execution_count": null,
   "metadata": {
    "ExecuteTime": {
     "end_time": "2020-09-27T15:34:11.980136Z",
     "start_time": "2020-09-27T15:34:11.689599Z"
    }
   },
   "outputs": [],
   "source": [
    "use_data.head(12).plot(figsize=[12,12])"
   ]
  },
  {
   "cell_type": "code",
   "execution_count": null,
   "metadata": {
    "ExecuteTime": {
     "end_time": "2020-09-27T15:32:08.769990Z",
     "start_time": "2020-09-27T15:32:08.753988Z"
    }
   },
   "outputs": [],
   "source": [
    "use_data2 = use_data.explode()"
   ]
  },
  {
   "cell_type": "code",
   "execution_count": null,
   "metadata": {
    "ExecuteTime": {
     "end_time": "2020-09-27T15:38:16.911238Z",
     "start_time": "2020-09-27T15:37:27.083411Z"
    }
   },
   "outputs": [],
   "source": [
    "#导入建筑物\n",
    "wuhan_jz = gpd.read_file('g:/1-规划/图层/湖北建筑/湖北建筑/湖北建筑/武汉.tab',encoding='gbk')"
   ]
  },
  {
   "cell_type": "code",
   "execution_count": null,
   "metadata": {
    "ExecuteTime": {
     "end_time": "2020-09-27T15:39:39.945282Z",
     "start_time": "2020-09-27T15:39:39.938781Z"
    }
   },
   "outputs": [],
   "source": [
    "wuhan_jz.crs"
   ]
  },
  {
   "cell_type": "code",
   "execution_count": null,
   "metadata": {
    "ExecuteTime": {
     "end_time": "2020-09-27T15:39:38.474095Z",
     "start_time": "2020-09-27T15:38:53.670906Z"
    }
   },
   "outputs": [],
   "source": [
    "wuhan_jz = wuhan_jz.to_crs({'init': 'epsg:4326'})"
   ]
  },
  {
   "cell_type": "code",
   "execution_count": null,
   "metadata": {
    "ExecuteTime": {
     "end_time": "2020-09-27T15:46:11.782539Z",
     "start_time": "2020-09-27T15:46:11.739534Z"
    }
   },
   "outputs": [],
   "source": [
    "wuhan_jz = wuhan_jz[['OBJECTID','建筑物高度','geometry']]"
   ]
  },
  {
   "cell_type": "code",
   "execution_count": null,
   "metadata": {
    "ExecuteTime": {
     "end_time": "2020-09-27T15:54:31.500995Z",
     "start_time": "2020-09-27T15:54:31.496495Z"
    }
   },
   "outputs": [],
   "source": [
    "use_data2.columns = ['cgi', 'cellname', 'city', 'lon', 'lat', 'gaodu', 'fw', 'band',\n",
    "       'qux', 'vender', '区域类型', 'distance', '覆盖模型距离', '30米覆盖模型距离', '使用覆盖半径',\n",
    "       'distance_use', 'type_2', 'geometry']"
   ]
  },
  {
   "cell_type": "code",
   "execution_count": null,
   "metadata": {
    "ExecuteTime": {
     "end_time": "2020-09-27T15:57:01.719571Z",
     "start_time": "2020-09-27T15:57:01.714070Z"
    }
   },
   "outputs": [],
   "source": [
    "use_data3 = use_data2.reset_index()"
   ]
  },
  {
   "cell_type": "code",
   "execution_count": null,
   "metadata": {
    "ExecuteTime": {
     "end_time": "2020-09-27T15:57:07.376789Z",
     "start_time": "2020-09-27T15:57:07.094753Z"
    }
   },
   "outputs": [],
   "source": [
    "res_sjoin = gpd.sjoin(use_data3,wuhan_jz,how='inner')"
   ]
  },
  {
   "cell_type": "code",
   "execution_count": null,
   "metadata": {
    "ExecuteTime": {
     "end_time": "2020-09-27T15:58:14.140767Z",
     "start_time": "2020-09-27T15:58:14.134766Z"
    }
   },
   "outputs": [],
   "source": [
    "jianzhu = wuhan_jz.loc[wuhan_jz['OBJECTID']==398879]"
   ]
  },
  {
   "cell_type": "code",
   "execution_count": null,
   "metadata": {
    "ExecuteTime": {
     "end_time": "2020-09-27T15:59:44.604254Z",
     "start_time": "2020-09-27T15:59:44.600254Z"
    }
   },
   "outputs": [],
   "source": [
    "fugai =use_data3.head(1)"
   ]
  },
  {
   "cell_type": "code",
   "execution_count": null,
   "metadata": {
    "ExecuteTime": {
     "end_time": "2020-09-27T16:00:32.210800Z",
     "start_time": "2020-09-27T16:00:31.977270Z"
    },
    "scrolled": false
   },
   "outputs": [],
   "source": [
    "fugai.plot(figsize=[12,12])"
   ]
  },
  {
   "cell_type": "code",
   "execution_count": null,
   "metadata": {
    "ExecuteTime": {
     "end_time": "2020-09-27T16:00:32.878385Z",
     "start_time": "2020-09-27T16:00:32.652356Z"
    }
   },
   "outputs": [],
   "source": [
    "jianzhu.plot(figsize=[12,12])"
   ]
  },
  {
   "cell_type": "code",
   "execution_count": null,
   "metadata": {
    "ExecuteTime": {
     "end_time": "2020-09-27T16:25:11.713673Z",
     "start_time": "2020-09-27T16:25:11.690170Z"
    }
   },
   "outputs": [],
   "source": [
    "jiaoji = gpd.overlay(fugai,jianzhu)"
   ]
  },
  {
   "cell_type": "code",
   "execution_count": null,
   "metadata": {
    "ExecuteTime": {
     "end_time": "2020-09-27T16:36:55.075988Z",
     "start_time": "2020-09-27T16:36:55.072988Z"
    }
   },
   "outputs": [],
   "source": [
    "import numpy as np"
   ]
  },
  {
   "cell_type": "code",
   "execution_count": null,
   "metadata": {
    "ExecuteTime": {
     "end_time": "2020-09-27T16:37:39.532134Z",
     "start_time": "2020-09-27T16:37:39.528633Z"
    }
   },
   "outputs": [],
   "source": [
    "zhuan = (6371000*np.pi/180)"
   ]
  },
  {
   "cell_type": "code",
   "execution_count": null,
   "metadata": {
    "ExecuteTime": {
     "end_time": "2020-09-27T16:38:22.433081Z",
     "start_time": "2020-09-27T16:38:22.426581Z"
    }
   },
   "outputs": [],
   "source": [
    "Point(114.33871,30.50173).distance(jiaoji['geometry'][0])*zhuan"
   ]
  },
  {
   "cell_type": "raw",
   "metadata": {
    "ExecuteTime": {
     "end_time": "2020-09-27T16:46:09.343871Z",
     "start_time": "2020-09-27T16:46:09.292865Z"
    }
   },
   "source": [
    "fugai"
   ]
  },
  {
   "cell_type": "code",
   "execution_count": null,
   "metadata": {},
   "outputs": [],
   "source": [
    "jianzhu"
   ]
  },
  {
   "cell_type": "code",
   "execution_count": null,
   "metadata": {},
   "outputs": [],
   "source": []
  },
  {
   "cell_type": "code",
   "execution_count": null,
   "metadata": {
    "ExecuteTime": {
     "end_time": "2020-09-27T16:28:17.421755Z",
     "start_time": "2020-09-27T16:28:17.387750Z"
    }
   },
   "outputs": [],
   "source": [
    "import simplekml"
   ]
  },
  {
   "cell_type": "code",
   "execution_count": null,
   "metadata": {
    "ExecuteTime": {
     "end_time": "2020-09-27T16:29:18.589522Z",
     "start_time": "2020-09-27T16:29:18.586022Z"
    }
   },
   "outputs": [],
   "source": [
    "kml = simplekml.Kml()"
   ]
  },
  {
   "cell_type": "code",
   "execution_count": null,
   "metadata": {
    "ExecuteTime": {
     "end_time": "2020-09-27T16:32:08.932653Z",
     "start_time": "2020-09-27T16:32:08.929152Z"
    }
   },
   "outputs": [],
   "source": [
    "grid_red = kml.newpoint(name='a',coords=[(114.33871,30.50173)])"
   ]
  },
  {
   "cell_type": "code",
   "execution_count": null,
   "metadata": {
    "ExecuteTime": {
     "end_time": "2020-09-27T16:32:09.613239Z",
     "start_time": "2020-09-27T16:32:09.601738Z"
    }
   },
   "outputs": [],
   "source": [
    "kml.save('d:/a.kml') "
   ]
  },
  {
   "cell_type": "code",
   "execution_count": null,
   "metadata": {
    "ExecuteTime": {
     "end_time": "2020-09-27T16:34:00.011258Z",
     "start_time": "2020-09-27T16:34:00.005757Z"
    }
   },
   "outputs": [],
   "source": [
    "kml = simplekml.Kml()\n",
    "kml.newpolygon(name='grid',outerboundaryis=list(jiaoji['geometry'][0].exterior.coords))\n",
    "kml.save('d:/ppp.kml') "
   ]
  },
  {
   "cell_type": "code",
   "execution_count": null,
   "metadata": {
    "ExecuteTime": {
     "end_time": "2020-09-28T01:32:38.410805Z",
     "start_time": "2020-09-28T01:32:38.405805Z"
    }
   },
   "outputs": [],
   "source": [
    "lie = LineString(((114.33871,30.50173),(114.335979, 30.50040),(114.335070, 30.50240)))"
   ]
  },
  {
   "cell_type": "code",
   "execution_count": null,
   "metadata": {
    "ExecuteTime": {
     "end_time": "2020-09-28T01:32:39.417433Z",
     "start_time": "2020-09-28T01:32:39.412432Z"
    }
   },
   "outputs": [],
   "source": [
    "lie"
   ]
  },
  {
   "cell_type": "raw",
   "metadata": {
    "ExecuteTime": {
     "end_time": "2020-09-28T01:16:28.745173Z",
     "start_time": "2020-09-28T01:16:28.742173Z"
    }
   },
   "source": [
    "jiaji_use = jiaoji['geometry'][0]"
   ]
  },
  {
   "cell_type": "code",
   "execution_count": null,
   "metadata": {
    "ExecuteTime": {
     "end_time": "2020-09-28T01:32:40.311547Z",
     "start_time": "2020-09-28T01:32:40.306046Z"
    }
   },
   "outputs": [],
   "source": [
    "lie.union(jiaji_use)"
   ]
  },
  {
   "cell_type": "code",
   "execution_count": null,
   "metadata": {
    "ExecuteTime": {
     "end_time": "2020-09-28T01:32:41.210661Z",
     "start_time": "2020-09-28T01:32:41.207660Z"
    }
   },
   "outputs": [],
   "source": [
    "res = lie.difference(jiaji_use)"
   ]
  },
  {
   "cell_type": "code",
   "execution_count": null,
   "metadata": {
    "ExecuteTime": {
     "end_time": "2020-09-28T01:33:47.275050Z",
     "start_time": "2020-09-28T01:33:47.271049Z"
    }
   },
   "outputs": [],
   "source": [
    "for aa in res:\n",
    "    print(type(aa))"
   ]
  },
  {
   "cell_type": "code",
   "execution_count": null,
   "metadata": {
    "ExecuteTime": {
     "end_time": "2020-09-28T01:44:23.607354Z",
     "start_time": "2020-09-28T01:44:23.592852Z"
    }
   },
   "outputs": [],
   "source": [
    "def jm_zl(x,jd_dp,lon,lat,fw):\n",
    "    jl = int(x['distance_use'])\n",
    "    lon = x[lon]\n",
    "    lat = x[lat]\n",
    "    fw = x[fw]\n",
    "    jd_dp['distance_use'] = jd_dp['电平_正'].apply(lambda x: x/37.052 *jl)\n",
    "    jd_dp_use = jd_dp.loc[(jd_dp['角度']<=90) | (jd_dp['角度']>=270)]\n",
    "    jd_dp_use['角度'] = pd.to_numeric(jd_dp_use['角度'] )\n",
    "    jd_dp_use['角度2'] = jd_dp_use['角度'].apply(lambda x: x-0+fw if x-0+fw<360 else x-0+fw-360 )\n",
    "    poy=[]\n",
    "    dict_use = dict()\n",
    "    a=0\n",
    "    for jiao1,jiao2 , jl in zip(jd_dp_use['角度'],jd_dp_use['角度2'],jd_dp_use['distance_use']):\n",
    "        res = Geodesic.WGS84.Direct(lat, lon, jiao2, jl)\n",
    "        points=[]\n",
    "        if int(jiao1)%10==0:\n",
    "            print('可以',jiao1,jiao2)\n",
    "            points.append((lon, lat))\n",
    "            points.append((res['lon2'], res['lat2']))\n",
    "            poy.append(LineString(points))\n",
    "    res_m = MultiLineString(poy)\n",
    "    return res_m"
   ]
  },
  {
   "cell_type": "code",
   "execution_count": null,
   "metadata": {
    "ExecuteTime": {
     "end_time": "2020-09-28T01:44:24.630484Z",
     "start_time": "2020-09-28T01:44:24.625983Z"
    }
   },
   "outputs": [],
   "source": [
    "0%10"
   ]
  },
  {
   "cell_type": "code",
   "execution_count": null,
   "metadata": {
    "ExecuteTime": {
     "end_time": "2020-09-28T01:44:25.794632Z",
     "start_time": "2020-09-28T01:44:25.508095Z"
    }
   },
   "outputs": [],
   "source": [
    "use_data['geometry'] = use_data.apply(lambda x:jm_zl(x,mx_900,'RRU经度','RRU纬度','方位角'),axis=1)"
   ]
  },
  {
   "cell_type": "code",
   "execution_count": null,
   "metadata": {
    "ExecuteTime": {
     "end_time": "2020-09-28T05:34:34.052558Z",
     "start_time": "2020-09-28T05:34:34.031555Z"
    }
   },
   "outputs": [],
   "source": [
    "use_data.head(1)"
   ]
  },
  {
   "cell_type": "code",
   "execution_count": null,
   "metadata": {
    "ExecuteTime": {
     "end_time": "2020-09-28T05:19:36.809122Z",
     "start_time": "2020-09-28T05:19:36.530587Z"
    },
    "scrolled": false
   },
   "outputs": [],
   "source": [
    "use_data.head(1).plot(figsize=[12,12])"
   ]
  },
  {
   "cell_type": "code",
   "execution_count": null,
   "metadata": {
    "ExecuteTime": {
     "end_time": "2020-09-28T05:19:54.299343Z",
     "start_time": "2020-09-28T05:19:54.295343Z"
    }
   },
   "outputs": [],
   "source": [
    "sxingx = use_data['geometry'][55]"
   ]
  },
  {
   "cell_type": "code",
   "execution_count": null,
   "metadata": {
    "ExecuteTime": {
     "end_time": "2020-09-28T03:01:21.554259Z",
     "start_time": "2020-09-28T03:01:21.550758Z"
    }
   },
   "outputs": [],
   "source": [
    "res = sxingx.difference(jiaji_use)"
   ]
  },
  {
   "cell_type": "code",
   "execution_count": null,
   "metadata": {
    "ExecuteTime": {
     "end_time": "2020-09-28T03:08:53.790185Z",
     "start_time": "2020-09-28T03:08:53.784685Z"
    },
    "scrolled": true
   },
   "outputs": [],
   "source": [
    "res."
   ]
  },
  {
   "cell_type": "code",
   "execution_count": null,
   "metadata": {
    "ExecuteTime": {
     "end_time": "2020-09-28T05:06:46.144760Z",
     "start_time": "2020-09-28T05:06:46.133759Z"
    }
   },
   "outputs": [],
   "source": [
    "res.boundary"
   ]
  },
  {
   "cell_type": "code",
   "execution_count": null,
   "metadata": {
    "ExecuteTime": {
     "end_time": "2020-09-28T05:36:30.383330Z",
     "start_time": "2020-09-28T05:36:30.374829Z"
    },
    "scrolled": true
   },
   "outputs": [],
   "source": [
    "linshi_2 = []\n",
    "for ll in res :\n",
    "    print(ll.coords)\n",
    "    if (114.33871, 30.50173) in [x for x in ll.coords[:]]:\n",
    "        linshi_2.append(ll.coords[-1])\n"
   ]
  },
  {
   "cell_type": "code",
   "execution_count": null,
   "metadata": {
    "ExecuteTime": {
     "end_time": "2020-09-28T05:36:35.076426Z",
     "start_time": "2020-09-28T05:36:35.071425Z"
    }
   },
   "outputs": [],
   "source": [
    "Polygon(linshi_2)"
   ]
  },
  {
   "cell_type": "code",
   "execution_count": null,
   "metadata": {
    "ExecuteTime": {
     "end_time": "2020-09-27T14:21:36.375044Z",
     "start_time": "2020-09-27T14:21:35.901984Z"
    },
    "scrolled": true
   },
   "outputs": [],
   "source": [
    "from shapely.ops import unary_union\n",
    "\n",
    "buffer_size = 0.00000000001\n",
    "lines_buffered = [line.buffer(buffer_size) for line in lins]\n",
    "quadrats = unary_union(lines_buffered)\n",
    "multipoly = pol.difference(quadrats)\n",
    "multipoly"
   ]
  },
  {
   "cell_type": "code",
   "execution_count": null,
   "metadata": {
    "ExecuteTime": {
     "end_time": "2020-09-25T06:59:29.293690Z",
     "start_time": "2020-09-25T06:58:59.733436Z"
    }
   },
   "outputs": [],
   "source": [
    "gdfdata.to_pickle('G:/1-规划/评估/覆盖空洞/20200907第五版/2-输出内容/xiaoqufugaimoxing.data')"
   ]
  },
  {
   "cell_type": "markdown",
   "metadata": {},
   "source": [
    "# 覆盖空洞计算"
   ]
  },
  {
   "cell_type": "code",
   "execution_count": null,
   "metadata": {
    "ExecuteTime": {
     "end_time": "2020-09-25T06:59:29.703242Z",
     "start_time": "2020-09-25T06:59:29.647235Z"
    }
   },
   "outputs": [],
   "source": [
    "gongcan_s = gdfdata.copy()"
   ]
  },
  {
   "cell_type": "code",
   "execution_count": null,
   "metadata": {
    "ExecuteTime": {
     "end_time": "2020-09-25T06:59:30.300818Z",
     "start_time": "2020-09-25T06:59:30.296817Z"
    }
   },
   "outputs": [],
   "source": [
    "# gongcan_s['归属区县'] = gongcan_s['归属区县'].fillna('wu')"
   ]
  },
  {
   "cell_type": "markdown",
   "metadata": {},
   "source": [
    "去掉农村覆盖到场景边界内的区域"
   ]
  },
  {
   "cell_type": "code",
   "execution_count": null,
   "metadata": {
    "ExecuteTime": {
     "end_time": "2020-09-25T06:59:49.485254Z",
     "start_time": "2020-09-25T06:59:30.887892Z"
    }
   },
   "outputs": [],
   "source": [
    "#---------------------------规划图层缩小50%的距离---------------------------\n",
    "\n",
    "guihua = gpd.read_file('G:/1-规划/图层/全省区域规划图层20200110/全省区域规划图层20200110.TAB',encoding='gbk')\n",
    "guihua['区域类型2'] = guihua['区域类型'].replace({'3A景区':'农村','4A景区':'农村','5A景区':'农村','景区':'农村','热点':'农村'})\n",
    "guihua_use = guihua.loc[guihua['区域类型2']!='农村']\n",
    "guihua_yiban = mytools.gisn.changjing_distance(guihua_use,'区域类型2','区域类型')\n",
    "guihua_yiban['distance2'] = 0-guihua_yiban['distance']/2\n",
    "guihua_res = mytools.gisn.buffer_df(guihua_yiban,'distance2')\n",
    "guihua_res.columns =['city', 'region', 'name', 'type', 'area', 'geometry', 'type2', 'distance','distance2']\n",
    "\n",
    "# guihua_res.to_file('G:/1-规划/评估/覆盖空洞/20200712第四版本/2-程序数据出-过程/2-规划图层缩小场景1800覆盖半径的一半距离/规划图层剔除农村1800场景一半.shp',encoding='utf-8')\n",
    "# guihua_res= gpd.read_file('G:/1-规划/评估/覆盖空洞/20200712第四版本/2-程序数据出-过程/2-规划图层缩小场景1800覆盖半径的一半距离/规划图层剔除农村1800场景一半.shp',encoding='utf-8')"
   ]
  },
  {
   "cell_type": "code",
   "execution_count": null,
   "metadata": {
    "ExecuteTime": {
     "end_time": "2020-09-25T06:59:50.142337Z",
     "start_time": "2020-09-25T06:59:50.127835Z"
    }
   },
   "outputs": [],
   "source": [
    "guihua_res = guihua_res.loc[~guihua_res.is_empty]"
   ]
  },
  {
   "cell_type": "code",
   "execution_count": null,
   "metadata": {
    "ExecuteTime": {
     "end_time": "2020-09-25T06:59:51.539515Z",
     "start_time": "2020-09-25T06:59:50.850927Z"
    }
   },
   "outputs": [],
   "source": [
    "guihua_res.plot(figsize=[11,11])"
   ]
  },
  {
   "cell_type": "code",
   "execution_count": null,
   "metadata": {
    "ExecuteTime": {
     "end_time": "2020-09-25T07:01:44.466354Z",
     "start_time": "2020-09-25T06:59:52.180096Z"
    }
   },
   "outputs": [],
   "source": [
    "#---------------------------农村覆盖区域---------------------------\n",
    "gongcan_s_nc = gongcan_s.loc[gongcan_s['区域类型']=='农村']\n",
    "gongcan_s_nc['所属地区'] = gongcan_s_nc['所属地区'].fillna('wu')\n",
    "\n",
    "#全网农村小区覆盖按照地市合并\n",
    "gongcan_s_nc_city = gongcan_s_nc.dissolve(by = '所属地区')"
   ]
  },
  {
   "cell_type": "code",
   "execution_count": null,
   "metadata": {
    "ExecuteTime": {
     "end_time": "2020-09-25T07:01:56.033823Z",
     "start_time": "2020-09-25T07:01:56.026822Z"
    }
   },
   "outputs": [],
   "source": [
    "#只是留下geo去除索引，索引是地市\n",
    "gongcan_s_nc_city_use = gongcan_s_nc_city[['geometry']].reset_index()\n",
    "\n",
    "gongcan_s_nc_city_use.columns=['city','geometry']"
   ]
  },
  {
   "cell_type": "code",
   "execution_count": null,
   "metadata": {
    "ExecuteTime": {
     "end_time": "2020-09-25T07:02:18.421166Z",
     "start_time": "2020-09-25T07:02:18.413665Z"
    }
   },
   "outputs": [],
   "source": [
    "guihua_res = guihua_res.dropna(subset=['geometry'])"
   ]
  },
  {
   "cell_type": "code",
   "execution_count": null,
   "metadata": {
    "ExecuteTime": {
     "end_time": "2020-09-25T07:17:07.957123Z",
     "start_time": "2020-09-25T07:02:41.018536Z"
    }
   },
   "outputs": [],
   "source": [
    "#在全网农村覆盖区域中去掉农村覆盖到其他区域的\n",
    "nongcun = gpd.overlay(gongcan_s_nc_city_use,guihua_res,how='difference')"
   ]
  },
  {
   "cell_type": "code",
   "execution_count": null,
   "metadata": {
    "ExecuteTime": {
     "end_time": "2020-09-25T07:18:47.863309Z",
     "start_time": "2020-09-25T07:17:42.319486Z"
    }
   },
   "outputs": [],
   "source": [
    "#农村区域按照地市合并\n",
    "nongcun_city = nongcun.dissolve(by = 'city')\n",
    "\n",
    "nongcun_city =nongcun_city.reset_index()\n",
    "# nongcun_city.to_pickle('G:/1-规划/评估/覆盖空洞/20200712第四版本/2-程序数据出-过程/3-小区覆盖区域/农村场景小区覆盖区域.data')\n",
    "\n",
    "# nongcun_city = pd.read_pickle('G:/1-规划/评估/覆盖空洞/20200712第四版本/2-程序数据出-过程/3-小区覆盖区域/农村场景小区覆盖区域.data')\n",
    "\n",
    "nongcun_city.plot(figsize=[11,11])"
   ]
  },
  {
   "cell_type": "code",
   "execution_count": null,
   "metadata": {
    "ExecuteTime": {
     "end_time": "2020-09-25T07:47:20.753319Z",
     "start_time": "2020-09-25T07:47:02.950558Z"
    }
   },
   "outputs": [],
   "source": [
    "# 1-按照区县合并覆盖区域\n",
    "gongcan_s_feinc = gongcan_s.loc[gongcan_s['区域类型']!='农村']\n",
    "\n",
    "#小区覆盖区域图层只保留两列\n",
    "gongcan_s_feinc = gongcan_s_feinc[['所属地区','geometry']]\n",
    "\n",
    "gongcan_s_feinc.columns = ['city','geometry']\n",
    "\n",
    "gongcan_s_z = gongcan_s_feinc.append(nongcun_city)\n",
    "\n",
    "#小区覆盖区域按照地市合并\n",
    "gongcan_s_z = gongcan_s_z.dissolve(by = 'city')\n",
    "\n",
    "# gongcan_s_z.to_pickle('G:/1-规划/评估/覆盖空洞/20200712第四版本/2-程序数据出-过程/3-小区覆盖区域/农村和非农村合并全网覆盖图层按照地市合并.data')\n",
    "\n",
    "# gongcan_s_z.to_file('G:/1-规划/评估/覆盖空洞/20200712第四版本/2-程序数据出-过程/3-小区覆盖区域/农村和非农村合并全网覆盖图层按照地市合并.shp',encoding='utf-8')\n",
    "\n",
    "mytools.dog()"
   ]
  },
  {
   "cell_type": "markdown",
   "metadata": {},
   "source": [
    "2-求出覆盖空洞原始"
   ]
  },
  {
   "cell_type": "code",
   "execution_count": null,
   "metadata": {
    "ExecuteTime": {
     "end_time": "2020-09-25T07:47:33.013376Z",
     "start_time": "2020-09-25T07:47:32.844354Z"
    }
   },
   "outputs": [],
   "source": [
    "tu = mytools.gisn.maps()"
   ]
  },
  {
   "cell_type": "code",
   "execution_count": null,
   "metadata": {
    "ExecuteTime": {
     "end_time": "2020-09-25T08:37:06.991023Z",
     "start_time": "2020-09-25T07:48:19.974839Z"
    }
   },
   "outputs": [],
   "source": [
    "city_tu_diff = gpd.overlay(tu,gongcan_s_z,how='difference')\n",
    "\n",
    "city_tu_diff.to_pickle('G:/1-规划/评估/覆盖空洞/20200907第五版/2-输出内容/原始空洞.data')\n",
    "\n",
    "city_tu_diff.to_file('G:/1-规划/评估/覆盖空洞/20200907第五版/2-输出内容/原始空洞.shp',encoding='utf-8')"
   ]
  },
  {
   "cell_type": "code",
   "execution_count": null,
   "metadata": {
    "ExecuteTime": {
     "end_time": "2020-09-25T08:37:06.996023Z",
     "start_time": "2020-09-25T07:47:33.304Z"
    }
   },
   "outputs": [],
   "source": [
    "city_tu_diff.plot(figsize=(11,11),color='gray')"
   ]
  },
  {
   "cell_type": "code",
   "execution_count": null,
   "metadata": {
    "ExecuteTime": {
     "end_time": "2020-09-25T08:37:06.998524Z",
     "start_time": "2020-09-25T07:47:33.879Z"
    }
   },
   "outputs": [],
   "source": [
    "mytools.dog()"
   ]
  },
  {
   "cell_type": "markdown",
   "metadata": {},
   "source": [
    "# -------------剔除水系-------------"
   ]
  },
  {
   "cell_type": "code",
   "execution_count": null,
   "metadata": {
    "ExecuteTime": {
     "start_time": "2020-09-10T15:09:56.298Z"
    }
   },
   "outputs": [],
   "source": [
    "city_tu_diff.head(1)"
   ]
  },
  {
   "cell_type": "code",
   "execution_count": null,
   "metadata": {
    "ExecuteTime": {
     "end_time": "2020-09-10T07:09:03.884040Z",
     "start_time": "2020-09-10T07:09:03.664012Z"
    }
   },
   "outputs": [],
   "source": [
    "# city_tu_diff = pd.read_pickle('G:/1-规划/评估/覆盖空洞/20200907第五版/2-输出内容/原始空洞.data')"
   ]
  },
  {
   "cell_type": "code",
   "execution_count": null,
   "metadata": {
    "ExecuteTime": {
     "end_time": "2020-09-10T07:09:29.953850Z",
     "start_time": "2020-09-10T07:09:04.146Z"
    }
   },
   "outputs": [],
   "source": [
    "# hb_sx_city=pd.read_pickle('G:/1-规划/图层/水域/水域按照地市划分.data')"
   ]
  },
  {
   "cell_type": "code",
   "execution_count": null,
   "metadata": {
    "ExecuteTime": {
     "end_time": "2020-09-10T07:12:59.153415Z",
     "start_time": "2020-09-10T07:12:58.485330Z"
    }
   },
   "outputs": [],
   "source": [
    "hb_sx_city1 = pd.read_pickle('G:/1-规划/图层/水域/水域按照地市合并.data')"
   ]
  },
  {
   "cell_type": "code",
   "execution_count": null,
   "metadata": {
    "ExecuteTime": {
     "start_time": "2020-09-10T08:20:47.992Z"
    }
   },
   "outputs": [],
   "source": [
    "kongdong_t = gpd.overlay(city_tu_diff,hb_sx_city1,how='difference')"
   ]
  },
  {
   "cell_type": "code",
   "execution_count": null,
   "metadata": {
    "ExecuteTime": {
     "end_time": "2020-09-10T07:13:37.863331Z",
     "start_time": "2020-09-10T07:13:05.229Z"
    }
   },
   "outputs": [],
   "source": [
    "%%writefile temp2.py\n",
    "from geographiclib.geodesic import Geodesic\n",
    "from shapely.geometry import Polygon,Point,LineString\n",
    "import pandas as pd\n",
    "import geopandas as gpd\n",
    "import mytools,os ,sys,time,multiprocessing\n",
    "from multiprocessing import Pool\n",
    "hb_sx_city1 = pd.read_pickle('G:/1-规划/图层/水域/水域按照地市合并.data')\n",
    "city_tu_diff = pd.read_pickle('G:/1-规划/评估/覆盖空洞/20200907第五版/2-输出内容/原始空洞.data')\n",
    "citys = ['十堰','咸宁','天门','孝感', '宜昌','恩施','武汉', '江汉', '潜江', '荆州', '荆门', '襄阳', '鄂州', '随州', '黄冈', '黄石']\n",
    "\n",
    "def fcgo(city_tu_diff_t,hb_sx_city1_t):\n",
    "    kongdong_t = gpd.overlay(city_tu_diff_t,hb_sx_city1_t,how='difference')\n",
    "    return kongdong_t\n",
    "\n",
    "    return data_t\n",
    "if __name__ == '__main__':\n",
    "    threads = []\n",
    "    with Pool(processes=6) as pool:         # start 4 worker processes\n",
    "        aa = pd.DataFrame()\n",
    "        for name in citys:\n",
    "            city_tu_diff_t = city_tu_diff.loc[city_tu_diff['city']==name]\n",
    "            hb_sx_city1_t = hb_sx_city1.loc[hb_sx_city1['city']==name]\n",
    "            print(name,'开始')\n",
    "            result = pool.apply_async(fcgo, (city_tu_diff_t,hb_sx_city1_t,)) # evaluate \"f(10)\" asynchronously in a single process\n",
    "            threads.append(result)\n",
    "        pool.close()#防止将更多任务提交到池中。完成所有任务后，工作进程将退出。\n",
    "        # 调用join之前，先调用close函数，否则会出错。执行完close后不会有新的线程加入到pool,\n",
    "        # join函数等待所有子线程结束\n",
    "        pool.join()\n",
    "        for result_t in threads:\n",
    "            data_tp = result_t.get()\n",
    "            aa = aa.append(data_tp)\n",
    "            print(data_tp.shape,aa.shape)\n",
    "        print(aa.shape)\n",
    "        aa.to_pickle('空洞.pkl')"
   ]
  },
  {
   "cell_type": "code",
   "execution_count": null,
   "metadata": {
    "ExecuteTime": {
     "end_time": "2020-09-10T07:13:37.867831Z",
     "start_time": "2020-09-10T07:13:08.569Z"
    }
   },
   "outputs": [],
   "source": [
    "%run temp.py\n",
    "if os.path.exists('temp2.py'):  # 如果文件存在\n",
    "    os.remove('temp2.py') # 删除文件"
   ]
  },
  {
   "cell_type": "code",
   "execution_count": null,
   "metadata": {
    "ExecuteTime": {
     "end_time": "2020-09-10T07:39:43.103091Z",
     "start_time": "2020-09-10T07:39:39.647152Z"
    }
   },
   "outputs": [],
   "source": [
    "grid_changjing = pd.read_pickle('空洞.pkl')\n",
    "if os.path.exists('res.pkl'):  # 如果文件存在\n",
    "    os.remove('res.pkl') # 删除文件\n",
    "if os.path.exists('temp1.data'):  # 如果文件存在\n",
    "    os.remove('temp1.data') # 删除文件"
   ]
  },
  {
   "cell_type": "code",
   "execution_count": null,
   "metadata": {
    "ExecuteTime": {
     "start_time": "2020-09-10T08:22:20.362Z"
    }
   },
   "outputs": [],
   "source": [
    "kongdong_t.plot(figsize=(11,11),color='gray')"
   ]
  },
  {
   "cell_type": "code",
   "execution_count": null,
   "metadata": {
    "ExecuteTime": {
     "start_time": "2020-09-10T08:22:27.695Z"
    }
   },
   "outputs": [],
   "source": [
    "kongdong_t.columns"
   ]
  },
  {
   "cell_type": "code",
   "execution_count": null,
   "metadata": {
    "ExecuteTime": {
     "end_time": "2020-09-10T07:45:11.155748Z",
     "start_time": "2020-09-10T07:44:57.690538Z"
    }
   },
   "outputs": [],
   "source": [
    "grid_changjing.to_pickle('G:/1-规划/评估/覆盖空洞/20200907第五版/2-输出内容/剔除水系后的空洞.data')"
   ]
  },
  {
   "cell_type": "code",
   "execution_count": null,
   "metadata": {
    "ExecuteTime": {
     "end_time": "2020-09-10T07:57:55.059252Z",
     "start_time": "2020-09-10T07:51:34.128880Z"
    }
   },
   "outputs": [],
   "source": [
    "grid_changjing.to_file('G:/1-规划/评估/覆盖空洞/20200907第五版/2-输出内容/剔除水系后的空洞.shp',encoding='utf-8')"
   ]
  },
  {
   "cell_type": "code",
   "execution_count": null,
   "metadata": {
    "ExecuteTime": {
     "start_time": "2020-09-08T13:04:37.882Z"
    }
   },
   "outputs": [],
   "source": [
    "hb_sx_city1 = pd.read_pickle('G:/1-规划/图层/水域/水域按照地市合并.data')\n",
    "kongdong = gpd.overlay(city_tu_diff,hb_sx_city1,how='difference')\n",
    "mytools.sound()\n",
    "\n",
    "kongdong.to_pickle('G:/1-规划/评估/覆盖空洞/20200907第五版/2-输出内容/剔除水系后的空洞.data')\n",
    "# kongdong.to_file('G:/1-规划/评估/覆盖空洞/20200712第四版本/2-程序数据出-过程/6-剔除水系后空洞/剔除水系后的空洞.shp',encoding='utf-8')\n",
    "kongdong.plot(figsize=(11,11),color='coral')\n",
    "mytools.sound()"
   ]
  },
  {
   "cell_type": "code",
   "execution_count": null,
   "metadata": {
    "ExecuteTime": {
     "start_time": "2020-09-08T13:04:38.455Z"
    }
   },
   "outputs": [],
   "source": [
    "kongdong.to_pickle('G:/1-规划/评估/覆盖空洞/20200907第五版/2-输出内容/剔除水系后的空洞.data')"
   ]
  },
  {
   "cell_type": "markdown",
   "metadata": {},
   "source": [
    "# -------------空洞有效数据整理-------------"
   ]
  },
  {
   "cell_type": "markdown",
   "metadata": {},
   "source": [
    "# 1-拆分成多个空洞-打标场景 划分大中小微"
   ]
  },
  {
   "cell_type": "code",
   "execution_count": null,
   "metadata": {
    "ExecuteTime": {
     "start_time": "2020-09-08T13:04:44.356Z"
    }
   },
   "outputs": [],
   "source": [
    "# 1-拆分成多个空洞-打标场景 划分大中小微"
   ]
  },
  {
   "cell_type": "code",
   "execution_count": null,
   "metadata": {
    "ExecuteTime": {
     "start_time": "2020-09-08T13:04:44.570Z"
    }
   },
   "outputs": [],
   "source": [
    "kongdong.head(1)\n",
    "\n",
    "kongdong['type'] =  kongdong.type\n",
    "\n",
    "kongdong.groupby('type').count()\n",
    "\n",
    "kongd_use = kongdong.loc[kongdong['type']=='Polygon'].append(kongdong.loc[kongdong['type']=='MultiPolygon'].explode())\n",
    "\n",
    "kongd_use.shape\n",
    "\n",
    "kongd_mianji = mytools.gisn.add_area(kongd_use)\n",
    "\n",
    "kongd_mianji['type'] =  kongd_mianji.type\n",
    "\n",
    "kongd_mianji =kongd_mianji.reset_index(drop=True)\n",
    "\n",
    "# 打标场景\n",
    "\n",
    "kongd_mianji[['lon','lat']] = kongd_mianji.apply(lambda x:pd.Series(x['geometry'].centroid.coords[:][0]),axis=1)#\n",
    "\n",
    "result = mytools.gisn.points_coverage_merge(kongd_mianji,'lon','lat')\n",
    "\n",
    "result.shape\n",
    "\n",
    "#添加id编号\n",
    "result_id = result.reset_index(drop=True)\n",
    "result['id'] = [ 'kd_{}'.format(str(name)) for name in result_id.index+1]\n",
    "\n",
    "result['制式'] = 'FDD1800'\n",
    "result.loc[result['区域类型']=='农村','制式']='FDD900'\n",
    "\n",
    "result = mytools.gisn.changjing_distance(result,'区域类型','制式')\n",
    "\n",
    "result['标准面积'] = np.pi* result['distance']* result['distance']\n",
    "result['空洞面积比例'] = result['面积']/result['标准面积']\n",
    "\n",
    "def fuck_data(x):\n",
    "    if x['空洞面积比例']>=1:\n",
    "        return '大'\n",
    "    elif x['空洞面积比例']>=1/3:\n",
    "        return '中'\n",
    "    elif x['空洞面积比例']>=1/6:\n",
    "        return '小'\n",
    "    else:\n",
    "        return '微'\n",
    "\n",
    "result['空洞级别'] = result.apply(fuck_data,axis=1)\n",
    "\n",
    "result.head(1)\n",
    "\n",
    "result.to_pickle('G:/1-规划/评估/覆盖空洞/20200907第五版/2-输出内容/覆盖空添加场景区分大中小微.data')\n",
    "\n",
    "# result.reindex(columns=['id','city','面积','lon','lat', '区域类型','制式','distance','标准面积','空洞面积比例','空洞级别']).to_excel(\n",
    "#     'G:/1-规划/评估/覆盖空洞/20200712第四版本/3-拆分后的空洞/覆盖空19481个添加场景区分大中小微.xlsx',index=False)\n",
    "\n",
    "# result.columns = ['city', 'type', 'geometry', 'area', 'lon', 'lat', 'regiontype', 'id', 'frequency ',\n",
    "#        'distance', 'scene_area', 'kd_area_specific', 'kd_class']"
   ]
  },
  {
   "cell_type": "code",
   "execution_count": null,
   "metadata": {
    "ExecuteTime": {
     "start_time": "2020-09-08T13:04:45.631Z"
    }
   },
   "outputs": [],
   "source": [
    "result.columns = ['city', 'qx', 'geometry', 'type', 'area', 'lon', 'lat', 'qylx', 'id', 'zhishi',\n",
    "       'distance', 'bzarea', 'kongd_area_zhanbi', 'jibie']"
   ]
  },
  {
   "cell_type": "code",
   "execution_count": null,
   "metadata": {
    "ExecuteTime": {
     "start_time": "2020-09-08T13:04:46.268Z"
    }
   },
   "outputs": [],
   "source": [
    "result.to_file('G:/1-规划/评估/覆盖空洞/20200907第五版/2-输出内容/覆盖空添加场景区分大中小微.shp',encoding='utf-8')"
   ]
  },
  {
   "cell_type": "code",
   "execution_count": null,
   "metadata": {
    "ExecuteTime": {
     "start_time": "2020-09-08T13:04:49.302Z"
    }
   },
   "outputs": [],
   "source": [
    "result.head(1)"
   ]
  },
  {
   "cell_type": "code",
   "execution_count": null,
   "metadata": {
    "ExecuteTime": {
     "start_time": "2020-09-08T13:04:49.460Z"
    }
   },
   "outputs": [],
   "source": [
    "result.groupby('jibie').count()"
   ]
  },
  {
   "cell_type": "code",
   "execution_count": null,
   "metadata": {},
   "outputs": [],
   "source": []
  },
  {
   "cell_type": "code",
   "execution_count": null,
   "metadata": {},
   "outputs": [],
   "source": []
  },
  {
   "cell_type": "code",
   "execution_count": null,
   "metadata": {},
   "outputs": [],
   "source": []
  },
  {
   "cell_type": "code",
   "execution_count": null,
   "metadata": {},
   "outputs": [],
   "source": []
  },
  {
   "cell_type": "code",
   "execution_count": null,
   "metadata": {},
   "outputs": [],
   "source": []
  },
  {
   "cell_type": "code",
   "execution_count": null,
   "metadata": {
    "ExecuteTime": {
     "end_time": "2020-09-07T06:46:07.179538Z",
     "start_time": "2020-09-07T06:46:07.165536Z"
    }
   },
   "outputs": [],
   "source": [
    "data_fg = gdfdata.explode().reset_index()"
   ]
  },
  {
   "cell_type": "code",
   "execution_count": null,
   "metadata": {
    "ExecuteTime": {
     "end_time": "2020-09-07T03:56:53.007622Z",
     "start_time": "2020-09-07T03:56:53.003622Z"
    }
   },
   "outputs": [],
   "source": [
    "f = mytools.othern.file_name_paths('G:/1-规划/图层/湖北建筑/湖北建筑/湖北建筑/',find='荆州.tab')"
   ]
  },
  {
   "cell_type": "code",
   "execution_count": null,
   "metadata": {
    "ExecuteTime": {
     "end_time": "2020-09-07T04:00:10.874748Z",
     "start_time": "2020-09-07T04:00:10.870748Z"
    }
   },
   "outputs": [],
   "source": [
    "print(data_fg['geo'][0])"
   ]
  },
  {
   "cell_type": "code",
   "execution_count": null,
   "metadata": {
    "ExecuteTime": {
     "end_time": "2020-09-07T06:03:11.151924Z",
     "start_time": "2020-09-07T06:03:11.147924Z"
    }
   },
   "outputs": [],
   "source": [
    "a = Point(1, 1).buffer(1.5)\n",
    "b = Point(2, 1).buffer(1.5)\n",
    "c = Point(4, 2)"
   ]
  },
  {
   "cell_type": "code",
   "execution_count": null,
   "metadata": {},
   "outputs": [],
   "source": []
  },
  {
   "cell_type": "code",
   "execution_count": null,
   "metadata": {
    "ExecuteTime": {
     "end_time": "2020-09-07T06:03:11.909020Z",
     "start_time": "2020-09-07T06:03:11.904520Z"
    }
   },
   "outputs": [],
   "source": [
    "a.distance(c)"
   ]
  },
  {
   "cell_type": "code",
   "execution_count": null,
   "metadata": {
    "ExecuteTime": {
     "end_time": "2020-09-07T06:06:52.141486Z",
     "start_time": "2020-09-07T06:06:52.134485Z"
    }
   },
   "outputs": [],
   "source": [
    "Point(1, 3).distance(b)"
   ]
  },
  {
   "cell_type": "code",
   "execution_count": null,
   "metadata": {
    "ExecuteTime": {
     "end_time": "2020-09-07T06:10:38.597243Z",
     "start_time": "2020-09-07T06:10:38.593242Z"
    }
   },
   "outputs": [],
   "source": [
    "b = Polygon([(1, 0), (3, 0), (3, 3),(1, 0)])"
   ]
  },
  {
   "cell_type": "code",
   "execution_count": null,
   "metadata": {
    "ExecuteTime": {
     "end_time": "2020-09-07T06:10:57.252611Z",
     "start_time": "2020-09-07T06:10:57.249611Z"
    }
   },
   "outputs": [],
   "source": [
    "c = Point(0,0)"
   ]
  },
  {
   "cell_type": "code",
   "execution_count": null,
   "metadata": {
    "ExecuteTime": {
     "end_time": "2020-09-07T06:10:58.066215Z",
     "start_time": "2020-09-07T06:10:58.060714Z"
    }
   },
   "outputs": [],
   "source": [
    "b.distance(c)"
   ]
  },
  {
   "cell_type": "code",
   "execution_count": null,
   "metadata": {
    "ExecuteTime": {
     "end_time": "2020-09-07T06:22:00.737363Z",
     "start_time": "2020-09-07T06:22:00.724862Z"
    }
   },
   "outputs": [],
   "source": [
    "data = pd.read_clipboard()"
   ]
  },
  {
   "cell_type": "code",
   "execution_count": null,
   "metadata": {
    "ExecuteTime": {
     "end_time": "2020-09-07T06:33:06.588416Z",
     "start_time": "2020-09-07T06:33:06.580915Z"
    }
   },
   "outputs": [],
   "source": [
    "data['lon'] = np.abs(113.887821 - data['lon'])\n",
    "data['lat'] = np.abs(34.020434 - data['lat'])\n",
    "data['sum'] = data['lon']+data['lat']"
   ]
  },
  {
   "cell_type": "code",
   "execution_count": null,
   "metadata": {
    "ExecuteTime": {
     "end_time": "2020-09-07T06:33:33.888382Z",
     "start_time": "2020-09-07T06:33:33.872880Z"
    }
   },
   "outputs": [],
   "source": [
    "data.sort_values('sum')"
   ]
  },
  {
   "cell_type": "code",
   "execution_count": null,
   "metadata": {},
   "outputs": [],
   "source": []
  },
  {
   "cell_type": "code",
   "execution_count": null,
   "metadata": {},
   "outputs": [],
   "source": []
  },
  {
   "cell_type": "code",
   "execution_count": null,
   "metadata": {
    "ExecuteTime": {
     "end_time": "2020-09-07T04:53:10.186469Z",
     "start_time": "2020-09-07T04:53:10.175968Z"
    }
   },
   "outputs": [],
   "source": [
    "a.unary_union(b)"
   ]
  },
  {
   "cell_type": "code",
   "execution_count": null,
   "metadata": {
    "ExecuteTime": {
     "end_time": "2020-09-07T04:49:04.193732Z",
     "start_time": "2020-09-07T04:49:04.188732Z"
    }
   },
   "outputs": [],
   "source": [
    "b"
   ]
  },
  {
   "cell_type": "code",
   "execution_count": null,
   "metadata": {
    "ExecuteTime": {
     "end_time": "2020-09-07T04:45:41.042935Z",
     "start_time": "2020-09-07T04:45:41.037935Z"
    }
   },
   "outputs": [],
   "source": [
    "b = Polygon([(112.1473500278309,30.12404993354895), (112.1474500409121,30.12404993837585), (112.153296449951,30.11625041859126), (112.1523758624733,30.12916740380928), (112.1473500278309,30.12404993354895)])"
   ]
  },
  {
   "cell_type": "code",
   "execution_count": null,
   "metadata": {},
   "outputs": [],
   "source": []
  },
  {
   "cell_type": "code",
   "execution_count": null,
   "metadata": {
    "ExecuteTime": {
     "end_time": "2020-09-07T04:46:15.085758Z",
     "start_time": "2020-09-07T04:46:15.082758Z"
    }
   },
   "outputs": [],
   "source": [
    "a = data_fg['geo'][0]"
   ]
  },
  {
   "cell_type": "code",
   "execution_count": null,
   "metadata": {
    "ExecuteTime": {
     "end_time": "2020-09-07T04:46:25.684604Z",
     "start_time": "2020-09-07T04:46:25.679604Z"
    }
   },
   "outputs": [],
   "source": [
    "a.difference(b)"
   ]
  },
  {
   "cell_type": "code",
   "execution_count": null,
   "metadata": {},
   "outputs": [],
   "source": []
  },
  {
   "cell_type": "code",
   "execution_count": null,
   "metadata": {},
   "outputs": [],
   "source": []
  },
  {
   "cell_type": "code",
   "execution_count": null,
   "metadata": {
    "ExecuteTime": {
     "end_time": "2020-09-07T03:58:08.839752Z",
     "start_time": "2020-09-07T03:56:56.720594Z"
    }
   },
   "outputs": [],
   "source": [
    "sjoin_data = gpd.GeoDataFrame()\n",
    "for name in f:\n",
    "    tuceng_t = gpd.read_file(name,encoding = 'gbk')\n",
    "    tuceng_t = tuceng_t.to_crs({'init': 'epsg:4326'})\n",
    "    linshi_t = gpd.sjoin(data_fg,tuceng_t)\n",
    "    linshi_t = linshi_t[[ '小区CGI(*)','建筑物高度','SHAPE_Area']]\n",
    "    sjoin_data = sjoin_data.append(linshi_t)\n",
    "    print(name,'ok')"
   ]
  },
  {
   "cell_type": "code",
   "execution_count": null,
   "metadata": {},
   "outputs": [],
   "source": [
    "sjoin_data['volume'] = sjoin_data['建筑物高度'] * sjoin_data['SHAPE_Area']\n",
    "\n",
    "sjoin_data_volume_h = sjoin_data.groupby('小区CGI(*)').agg({'volume':'sum','SHAPE_Area':'sum'})\n",
    "\n",
    "sjoin_data_volume_h['h_use'] = sjoin_data_volume_h['volume'] / sjoin_data_volume_h['SHAPE_Area']\n",
    "\n",
    "sjoin_data_linshi = sjoin_data_volume_h.reset_index()\n",
    "\n",
    "gongcan_zhangao = gongcan_loc_juli.merge(sjoin_data_linshi[['小区CGI(*)','h_use']],how='left',on='小区CGI(*)')\n",
    "\n",
    "gongcan_zhangao['高度建筑比'] = (gongcan_zhangao['天线挂高']-gongcan_zhangao['h_use'])/gongcan_zhangao['天线挂高']"
   ]
  },
  {
   "cell_type": "code",
   "execution_count": null,
   "metadata": {},
   "outputs": [],
   "source": []
  },
  {
   "cell_type": "code",
   "execution_count": null,
   "metadata": {},
   "outputs": [],
   "source": []
  },
  {
   "cell_type": "code",
   "execution_count": null,
   "metadata": {},
   "outputs": [],
   "source": []
  },
  {
   "cell_type": "code",
   "execution_count": null,
   "metadata": {},
   "outputs": [],
   "source": []
  },
  {
   "cell_type": "code",
   "execution_count": null,
   "metadata": {},
   "outputs": [],
   "source": []
  },
  {
   "cell_type": "code",
   "execution_count": null,
   "metadata": {
    "ExecuteTime": {
     "end_time": "2020-09-03T06:59:29.538873Z",
     "start_time": "2020-09-03T06:59:29.521370Z"
    }
   },
   "outputs": [],
   "source": [
    "jd_dp.to_clipboard()"
   ]
  },
  {
   "cell_type": "code",
   "execution_count": null,
   "metadata": {},
   "outputs": [],
   "source": []
  },
  {
   "cell_type": "code",
   "execution_count": null,
   "metadata": {},
   "outputs": [],
   "source": []
  },
  {
   "cell_type": "code",
   "execution_count": null,
   "metadata": {
    "ExecuteTime": {
     "end_time": "2020-09-03T00:57:42.060373Z",
     "start_time": "2020-09-03T00:57:42.047871Z"
    }
   },
   "outputs": [],
   "source": [
    "def jm(x):\n",
    "    jl = int(x['距离'])\n",
    "    lon = x['lon']\n",
    "    lat = x['lat']\n",
    "    fw = x['方位角']\n",
    "    jd_dp['距离'] = jd_dp['电平_正'].apply(lambda x: x/37.052 *jl)\n",
    "    jd_dp_use = jd_dp.loc[(jd_dp['角度']<=90) | (jd_dp['角度']>=270)]\n",
    "    jd_dp_use['角度'] = pd.to_numeric(jd_dp_use['角度'] )\n",
    "    jd_dp_use['角度2'] = jd_dp_use['角度'].apply(lambda x: x-0+fw if x-0+fw<360 else x-0+fw-360 )\n",
    "    points=[]\n",
    "    dict_use = dict()\n",
    "    for jiao , jl in zip(jd_dp_use['角度2'],jd_dp_use['距离']):\n",
    "        res = Geodesic.WGS84.Direct(lat, lon, jiao, jl)\n",
    "        if int(jiao)%10==0:\n",
    "            dict_use[jiao]=res['lon2'], res['lat2']\n",
    "        points.append((res['lon2'], res['lat2']))\n",
    "    points.append(points[0])\n",
    "    pol = Polygon(points)\n",
    "    lins=[]\n",
    "    for key,data_t in dict_use.items():\n",
    "        lon2,lat2=data_t\n",
    "        lins.append((lon,lat))\n",
    "        lins.append((lon2,lat2))\n",
    "    lins = [LineString([(lon, lat), (data_t[0], data_t[1])]) for key,data_t in dict_use.items()]\n",
    "    buffer_size = 0.00000000001\n",
    "    lines_buffered = [line.buffer(buffer_size) for line in lins]\n",
    "    quadrats = unary_union(lines_buffered)\n",
    "    multipoly = pol.difference(quadrats)\n",
    "    return multipoly"
   ]
  },
  {
   "cell_type": "code",
   "execution_count": null,
   "metadata": {
    "ExecuteTime": {
     "end_time": "2020-09-07T03:44:08.571051Z",
     "start_time": "2020-09-07T03:44:08.557549Z"
    }
   },
   "outputs": [],
   "source": [
    "def jm(x,jd_dp,lon,lat):\n",
    "    jl = int(x['distance_use'])\n",
    "    lon = x[lon]\n",
    "    lat = x[lat]\n",
    "    fw = x['方位角']\n",
    "    jd_dp['distance_use'] = jd_dp['电平_正'].apply(lambda x: x/37.052 *jl)\n",
    "    jd_dp_use = jd_dp.loc[(jd_dp['角度']<=90) | (jd_dp['角度']>=270)]\n",
    "    jd_dp_use['角度'] = pd.to_numeric(jd_dp_use['角度'] )\n",
    "    jd_dp_use['角度2'] = jd_dp_use['角度'].apply(lambda x: x-0+fw if x-0+fw<360 else x-0+fw-360 )\n",
    "    points=[]\n",
    "    dict_use = dict()\n",
    "    for jiao , jl in zip(jd_dp_use['角度2'],jd_dp_use['distance_use']):\n",
    "        res = Geodesic.WGS84.Direct(lat, lon, jiao, jl)\n",
    "        if int(jiao)%10==0:\n",
    "            dict_use[jiao]=res['lon2'], res['lat2']\n",
    "        points.append((res['lon2'], res['lat2']))\n",
    "    points.append(points[0])\n",
    "    pol = Polygon(points)\n",
    "    lins=[]\n",
    "    for key,data_t in dict_use.items():\n",
    "        lon2,lat2=data_t\n",
    "        lins.append((lon,lat))\n",
    "        lins.append((lon2,lat2))\n",
    "    lins = [LineString([(lon, lat), (data_t[0], data_t[1])]) for key,data_t in dict_use.items()]\n",
    "    buffer_size = 0.00000000001\n",
    "    lines_buffered = [line.buffer(buffer_size) for line in lins]\n",
    "    quadrats = unary_union(lines_buffered)\n",
    "    multipoly = pol.difference(quadrats)\n",
    "    return multipoly"
   ]
  },
  {
   "cell_type": "code",
   "execution_count": null,
   "metadata": {
    "ExecuteTime": {
     "end_time": "2020-09-03T00:57:42.115880Z",
     "start_time": "2020-09-03T00:57:42.112880Z"
    }
   },
   "outputs": [],
   "source": [
    "# data = data.set_index('cgi')"
   ]
  },
  {
   "cell_type": "code",
   "execution_count": null,
   "metadata": {
    "ExecuteTime": {
     "end_time": "2020-09-03T00:57:48.633208Z",
     "start_time": "2020-09-03T00:57:42.169387Z"
    }
   },
   "outputs": [],
   "source": [
    "data['geolin'] = data.apply(jm,axis=1)"
   ]
  },
  {
   "cell_type": "code",
   "execution_count": null,
   "metadata": {
    "ExecuteTime": {
     "end_time": "2020-09-03T00:57:48.745722Z",
     "start_time": "2020-09-03T00:57:48.725719Z"
    }
   },
   "outputs": [],
   "source": [
    "gdfdata = gpd.GeoDataFrame(data, crs={'init': 'epsg:4326'},geometry='geolin')\n",
    "\n",
    "gdfdata['type'] = gdfdata.type\n",
    "\n",
    "gdfdata.groupby('type').count()"
   ]
  },
  {
   "cell_type": "code",
   "execution_count": null,
   "metadata": {
    "ExecuteTime": {
     "end_time": "2020-09-03T00:59:15.882287Z",
     "start_time": "2020-09-03T00:59:15.845282Z"
    }
   },
   "outputs": [],
   "source": [
    "data_fg = gdfdata.explode().reset_index(drop=1)"
   ]
  },
  {
   "cell_type": "code",
   "execution_count": null,
   "metadata": {
    "ExecuteTime": {
     "end_time": "2020-09-03T02:13:55.352607Z",
     "start_time": "2020-09-03T02:13:55.323604Z"
    }
   },
   "outputs": [],
   "source": [
    "gdfdata.loc[1:1,]"
   ]
  },
  {
   "cell_type": "code",
   "execution_count": null,
   "metadata": {
    "ExecuteTime": {
     "end_time": "2020-09-03T02:14:01.665909Z",
     "start_time": "2020-09-03T02:14:01.430379Z"
    }
   },
   "outputs": [],
   "source": [
    "\n",
    "gdfdata.loc[1:1,].plot(figsize =[12,12])"
   ]
  },
  {
   "cell_type": "code",
   "execution_count": null,
   "metadata": {
    "ExecuteTime": {
     "end_time": "2020-09-03T02:43:52.168774Z",
     "start_time": "2020-09-03T02:43:51.597201Z"
    }
   },
   "outputs": [],
   "source": [
    "data_fg.head(8).plot(figsize =[12,12])"
   ]
  },
  {
   "cell_type": "markdown",
   "metadata": {},
   "source": [
    "# 进行覆盖模型修正-按照hata覆盖模型和站高进行修正"
   ]
  },
  {
   "cell_type": "code",
   "execution_count": null,
   "metadata": {},
   "outputs": [],
   "source": []
  },
  {
   "cell_type": "code",
   "execution_count": null,
   "metadata": {},
   "outputs": [],
   "source": []
  },
  {
   "cell_type": "code",
   "execution_count": null,
   "metadata": {},
   "outputs": [],
   "source": []
  },
  {
   "cell_type": "code",
   "execution_count": null,
   "metadata": {
    "ExecuteTime": {
     "end_time": "2020-09-02T05:36:11.293218Z",
     "start_time": "2020-09-02T05:36:11.287218Z"
    },
    "scrolled": true
   },
   "outputs": [],
   "source": [
    "jd_dp['电平']"
   ]
  },
  {
   "cell_type": "code",
   "execution_count": null,
   "metadata": {
    "ExecuteTime": {
     "end_time": "2020-09-02T05:48:23.318674Z",
     "start_time": "2020-09-02T05:48:23.313173Z"
    }
   },
   "outputs": [],
   "source": [
    "jd_dp['距离_模型'] = np.power(10,(148-jd_dp['电平'] - (46.3+33.9*np.log10(1800)-13.82*np.log10(30)-(-3.81))- 3)/(44.9-6.55*30))*1000"
   ]
  },
  {
   "cell_type": "code",
   "execution_count": null,
   "metadata": {
    "ExecuteTime": {
     "end_time": "2020-09-02T05:57:15.892302Z",
     "start_time": "2020-09-02T05:57:15.882301Z"
    }
   },
   "outputs": [],
   "source": [
    "jd_dp.to_clipboard()"
   ]
  },
  {
   "cell_type": "code",
   "execution_count": null,
   "metadata": {
    "ExecuteTime": {
     "end_time": "2020-09-02T05:57:13.051941Z",
     "start_time": "2020-09-02T05:57:13.047941Z"
    }
   },
   "outputs": [],
   "source": [
    "jd_dp['距离'] = jd_dp['电平_正'].apply(lambda x: x/37.052 *927)"
   ]
  },
  {
   "cell_type": "code",
   "execution_count": null,
   "metadata": {},
   "outputs": [],
   "source": []
  }
 ],
 "metadata": {
  "kernelspec": {
   "display_name": "Python 3",
   "language": "python",
   "name": "python3"
  },
  "language_info": {
   "codemirror_mode": {
    "name": "ipython",
    "version": 3
   },
   "file_extension": ".py",
   "mimetype": "text/x-python",
   "name": "python",
   "nbconvert_exporter": "python",
   "pygments_lexer": "ipython3",
   "version": "3.7.4"
  },
  "toc": {
   "base_numbering": 1,
   "nav_menu": {},
   "number_sections": true,
   "sideBar": true,
   "skip_h1_title": false,
   "title_cell": "Table of Contents",
   "title_sidebar": "Contents",
   "toc_cell": false,
   "toc_position": {
    "height": "calc(100% - 180px)",
    "left": "10px",
    "top": "150px",
    "width": "290.895px"
   },
   "toc_section_display": true,
   "toc_window_display": true
  },
  "varInspector": {
   "cols": {
    "lenName": 16,
    "lenType": 16,
    "lenVar": 40
   },
   "kernels_config": {
    "python": {
     "delete_cmd_postfix": "",
     "delete_cmd_prefix": "del ",
     "library": "var_list.py",
     "varRefreshCmd": "print(var_dic_list())"
    },
    "r": {
     "delete_cmd_postfix": ") ",
     "delete_cmd_prefix": "rm(",
     "library": "var_list.r",
     "varRefreshCmd": "cat(var_dic_list()) "
    }
   },
   "position": {
    "height": "452.727px",
    "left": "1084.55px",
    "right": "20px",
    "top": "120px",
    "width": "350px"
   },
   "types_to_exclude": [
    "module",
    "function",
    "builtin_function_or_method",
    "instance",
    "_Feature"
   ],
   "window_display": false
  }
 },
 "nbformat": 4,
 "nbformat_minor": 2
}
