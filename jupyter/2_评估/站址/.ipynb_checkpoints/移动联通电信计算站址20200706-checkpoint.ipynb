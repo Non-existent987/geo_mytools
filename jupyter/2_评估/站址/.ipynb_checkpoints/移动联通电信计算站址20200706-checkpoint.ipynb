{
 "cells": [
  {
   "cell_type": "markdown",
   "metadata": {},
   "source": [
    "# 移动"
   ]
  },
  {
   "cell_type": "code",
   "execution_count": null,
   "metadata": {
    "ExecuteTime": {
     "end_time": "2020-07-06T03:44:12.290486Z",
     "start_time": "2020-07-06T03:44:11.061830Z"
    }
   },
   "outputs": [],
   "source": [
    "import pandas as pd\n",
    "import numpy as np\n",
    "import time\n",
    "import geopandas as gpd\n",
    "import mytools"
   ]
  },
  {
   "cell_type": "code",
   "execution_count": null,
   "metadata": {
    "ExecuteTime": {
     "end_time": "2020-07-06T03:44:12.566021Z",
     "start_time": "2020-07-06T03:44:12.303988Z"
    },
    "scrolled": true
   },
   "outputs": [],
   "source": [
    "sit_cmcc=pd.read_csv(open('G:/1-规划/评估/竞对站点评估/2019年11月/1-基础数据/移动/输出数据/汇总/移动汇总.csv',encoding='gbk'))"
   ]
  },
  {
   "cell_type": "code",
   "execution_count": null,
   "metadata": {
    "scrolled": true
   },
   "outputs": [],
   "source": [
    "gongcan = pd.read_csv(open('g:/1-规划/工参/工参数据/ltejizhan20191212.csv',encoding='gbk'))"
   ]
  },
  {
   "cell_type": "code",
   "execution_count": null,
   "metadata": {},
   "outputs": [],
   "source": [
    "sit_cmcc = sit_cmcc.merge(gongcan[[ '小区中文名', '所属地区']].drop_duplicates('小区中文名'),how='left',on='小区中文名')"
   ]
  },
  {
   "cell_type": "code",
   "execution_count": null,
   "metadata": {
    "scrolled": true
   },
   "outputs": [],
   "source": [
    "sit_cmcc.columns"
   ]
  },
  {
   "cell_type": "code",
   "execution_count": null,
   "metadata": {},
   "outputs": [],
   "source": [
    "res_table = gongcan.groupby(by='所属地区').agg({'小区中文名':'count'})\n",
    "res_table.rename(columns={'小区中文名':'小区总计'},inplace=True)\n",
    "\n",
    "res_table = res_table.merge(sit_cmcc.groupby(by='所属地区').agg({'小区中文名':'count'}),left_index=True,right_index=True)\n",
    "res_table.rename(columns={'小区中文名':'站址总计'},inplace=True)"
   ]
  },
  {
   "cell_type": "code",
   "execution_count": null,
   "metadata": {},
   "outputs": [],
   "source": [
    "list_pin = ['频段_900M','频段_1800M','频段_2100M']"
   ]
  },
  {
   "cell_type": "code",
   "execution_count": null,
   "metadata": {},
   "outputs": [],
   "source": [
    "for pin in list_pin:\n",
    "    sit_cmcc_use = sit_cmcc[sit_cmcc[pin]==pin.split('_')[1]]\n",
    "    res_table = res_table.merge(sit_cmcc_use.groupby(by='所属地区').agg({'小区中文名':'count'}),left_index=True,right_index=True)\n",
    "    res_table.rename(columns={'小区中文名':pin},inplace=True)"
   ]
  },
  {
   "cell_type": "code",
   "execution_count": null,
   "metadata": {},
   "outputs": [],
   "source": [
    "res_table"
   ]
  },
  {
   "cell_type": "code",
   "execution_count": null,
   "metadata": {},
   "outputs": [],
   "source": [
    "def table_sum(df):\n",
    "    sum_column = df.sum(axis=1)\n",
    "    sum_column.name='总计'\n",
    "    sum_row = df.sum()\n",
    "    sum_row.name='总计'\n",
    "    df = pd.concat([df,sum_column],axis=1)\n",
    "    df = df.append(sum_row)\n",
    "    return df"
   ]
  },
  {
   "cell_type": "code",
   "execution_count": null,
   "metadata": {},
   "outputs": [],
   "source": [
    "table_sum(res_table)"
   ]
  },
  {
   "cell_type": "markdown",
   "metadata": {},
   "source": [
    "# 联通电信"
   ]
  },
  {
   "cell_type": "code",
   "execution_count": null,
   "metadata": {
    "ExecuteTime": {
     "end_time": "2020-07-06T03:59:02.049972Z",
     "start_time": "2020-07-06T03:58:43.188076Z"
    }
   },
   "outputs": [],
   "source": [
    "dianxin = pd.read_excel('G:/1-规划/评估/竞对站点评估/20200617/1-基础数据/3-电信数据/电信汇总.xlsx',encoding = 'gbk')\n",
    "liantong = pd.read_csv('G:/1-规划/评估/竞对站点评估/20200617/1-基础数据/2-联通数据/联通-汇总-使用.csv',encoding = 'gbk')"
   ]
  },
  {
   "cell_type": "code",
   "execution_count": null,
   "metadata": {
    "ExecuteTime": {
     "end_time": "2020-07-06T03:59:05.848454Z",
     "start_time": "2020-07-06T03:59:05.843453Z"
    }
   },
   "outputs": [],
   "source": [
    "dianxin.columns"
   ]
  },
  {
   "cell_type": "code",
   "execution_count": null,
   "metadata": {
    "ExecuteTime": {
     "end_time": "2020-07-06T03:59:09.604431Z",
     "start_time": "2020-07-06T03:59:09.598930Z"
    }
   },
   "outputs": [],
   "source": [
    "liantong.columns"
   ]
  },
  {
   "cell_type": "code",
   "execution_count": null,
   "metadata": {
    "ExecuteTime": {
     "end_time": "2020-07-06T03:59:13.353907Z",
     "start_time": "2020-07-06T03:59:13.313902Z"
    }
   },
   "outputs": [],
   "source": [
    "dianxin_h = dianxin.loc[dianxin['站型（宏站/室分/微站）']=='宏站']\n",
    "liantong_h = liantong.loc[liantong['站型（宏站/室分/微站）']=='宏站']"
   ]
  },
  {
   "cell_type": "code",
   "execution_count": null,
   "metadata": {
    "ExecuteTime": {
     "end_time": "2020-07-06T03:59:17.133387Z",
     "start_time": "2020-07-06T03:59:17.040375Z"
    }
   },
   "outputs": [],
   "source": [
    "hubei = gpd.read_file('g:/1-规划/图层/湖北省地市-边界-边界/全省地市边界.TAB',encoding = 'gbk')\n",
    "hubei = hubei.to_crs({'init':'epsg:4326'})"
   ]
  },
  {
   "cell_type": "code",
   "execution_count": null,
   "metadata": {
    "ExecuteTime": {
     "end_time": "2020-07-06T03:59:21.471938Z",
     "start_time": "2020-07-06T03:59:20.882863Z"
    }
   },
   "outputs": [],
   "source": [
    "dianxin_h = dianxin_h.astype(str)\n",
    "\n",
    "dianxin_h.info()\n",
    "\n",
    "dianxin_h['经度'] = dianxin_h['经度'].str.strip()\n",
    "dianxin_h['纬度'] = dianxin_h['纬度'].str.strip()\n",
    "dianxin_h['纬度'] = dianxin_h['纬度'].str.replace('?','')\n",
    "dianxin_h['经度'] = pd.to_numeric(dianxin_h['经度'])\n",
    "dianxin_h['纬度'] = pd.to_numeric(dianxin_h['纬度'])\n",
    "\n",
    "# dianxin['经度'] = dianxin['经度'].str.strip()\n",
    "# dianxin['纬度'] = dianxin['纬度'].str.strip()\n",
    "# liantong['经度'] = liantong['经度'].str.strip()\n",
    "# liantong['纬度'] = liantong['纬度'].str.strip()"
   ]
  },
  {
   "cell_type": "code",
   "execution_count": null,
   "metadata": {
    "ExecuteTime": {
     "end_time": "2020-07-06T03:59:27.095152Z",
     "start_time": "2020-07-06T03:59:25.178409Z"
    }
   },
   "outputs": [],
   "source": [
    "dianxin_use = dianxin_h.loc[(dianxin_h['经度']>60) & (dianxin_h['纬度']<60)]\n",
    "liantong_use = liantong_h.loc[(liantong_h['经度']>60 & (liantong_h['纬度']<60))]\n",
    "\n",
    "dianxin_p = mytools.gisn.add_points(dianxin_use ,lon='经度',lat='纬度')\n",
    "liantong_p = mytools.gisn.add_points(liantong_use , lon='经度',lat='纬度')"
   ]
  },
  {
   "cell_type": "code",
   "execution_count": null,
   "metadata": {
    "ExecuteTime": {
     "end_time": "2020-07-06T03:59:41.101931Z",
     "start_time": "2020-07-06T03:59:30.826126Z"
    }
   },
   "outputs": [],
   "source": [
    "dianxin_res = gpd.sjoin(hubei,dianxin_p)\n",
    "liantong_res = gpd.sjoin(hubei,liantong_p)\n",
    "\n",
    "dianxin_res.drop(['geometry','index_right'],axis=1,inplace = True)\n",
    "liantong_res.drop(['geometry','index_right'],axis=1,inplace = True)"
   ]
  },
  {
   "cell_type": "code",
   "execution_count": null,
   "metadata": {
    "ExecuteTime": {
     "end_time": "2020-07-06T03:59:44.887411Z",
     "start_time": "2020-07-06T03:59:44.798900Z"
    }
   },
   "outputs": [],
   "source": [
    "dianxin_res['kkk'] = dianxin_res['kkk'].str.replace('市','')\n",
    "liantong_res['kkk'] = liantong_res['kkk'].str.replace('市','')\n",
    "\n",
    "dianxin_res_groupby = dianxin_res.groupby(by = '900-1800-2400')\n",
    "liantong_res_groupby = liantong_res.groupby(by = '900-1800-2400')"
   ]
  },
  {
   "cell_type": "code",
   "execution_count": null,
   "metadata": {
    "ExecuteTime": {
     "end_time": "2020-07-06T03:59:48.671892Z",
     "start_time": "2020-07-06T03:59:48.637387Z"
    }
   },
   "outputs": [],
   "source": [
    "dishi = dianxin_res.groupby(by = 'kkk').agg({'基站名称':'count'})\n",
    "dishi.columns = ['电信小区']\n",
    "liantong_linshi_1=liantong_res.groupby(by = 'kkk').agg({'基站名称':'count'})\n",
    "liantong_linshi_1.columns = ['联通小区']\n",
    "dishi['联通小区']=0\n",
    "dishi['联通小区'].update(liantong_linshi_1['联通小区'])"
   ]
  },
  {
   "cell_type": "code",
   "execution_count": null,
   "metadata": {
    "ExecuteTime": {
     "end_time": "2020-07-06T03:59:52.589889Z",
     "start_time": "2020-07-06T03:59:52.537383Z"
    }
   },
   "outputs": [],
   "source": [
    "dianxin_res_qc1 = dianxin_res.drop_duplicates('基站名称')\n",
    "dianxin_linshi_2 = dianxin_res_qc1.groupby(by = ['kkk']).agg({'kkk':'count'})\n",
    "dianxin_linshi_2.columns = ['电信总站址']\n",
    "dishi['电信总站址'] = 0\n",
    "dishi['电信总站址'].update(dianxin_linshi_2['电信总站址'])"
   ]
  },
  {
   "cell_type": "code",
   "execution_count": null,
   "metadata": {
    "ExecuteTime": {
     "end_time": "2020-07-06T03:59:56.339866Z",
     "start_time": "2020-07-06T03:59:56.331865Z"
    }
   },
   "outputs": [],
   "source": [
    "dianxin_linshi_2"
   ]
  },
  {
   "cell_type": "code",
   "execution_count": null,
   "metadata": {
    "ExecuteTime": {
     "end_time": "2020-07-06T04:00:00.041836Z",
     "start_time": "2020-07-06T04:00:00.012332Z"
    }
   },
   "outputs": [],
   "source": [
    "liantong__res_qc1 = liantong_res.drop_duplicates('基站名称')\n",
    "liantong_linshi_2 = liantong__res_qc1.groupby(by = ['kkk']).agg({'kkk':'count'})\n",
    "liantong_linshi_2.columns = ['联通总站址']\n",
    "dishi['联通总站址'] = 0\n",
    "dishi['联通总站址'].update(liantong_linshi_2['联通总站址'])"
   ]
  },
  {
   "cell_type": "code",
   "execution_count": null,
   "metadata": {
    "ExecuteTime": {
     "end_time": "2020-07-06T04:00:03.859320Z",
     "start_time": "2020-07-06T04:00:03.723303Z"
    }
   },
   "outputs": [],
   "source": [
    "for name,dianxin_t in dianxin_res_groupby:\n",
    "    dianxin_res_qc = dianxin_t.drop_duplicates('基站名称')\n",
    "    dianxin_linshi_2 = dianxin_res_qc.groupby(by = ['kkk']).agg({'kkk':'count'})\n",
    "    dianxin_linshi_2.columns = [name+'电信总站址']\n",
    "    dishi[name+'电信总站址'] = 0\n",
    "    dishi[name+'电信总站址'].update(dianxin_linshi_2[name+'电信总站址'])\n",
    "\n",
    "for name,liantong_t in liantong_res_groupby:\n",
    "    liantong_res_qc = liantong_t.drop_duplicates('基站名称')\n",
    "    liantong_linshi_2 = liantong_res_qc.groupby(by = ['kkk']).agg({'kkk':'count'})\n",
    "    liantong_linshi_2.columns = [name+'联通总站址']\n",
    "    dishi[name+'联通总站址'] = 0\n",
    "    dishi[name+'联通总站址'].update(liantong_linshi_2[name+'联通总站址'])"
   ]
  },
  {
   "cell_type": "code",
   "execution_count": null,
   "metadata": {
    "ExecuteTime": {
     "end_time": "2020-07-06T04:00:07.534787Z",
     "start_time": "2020-07-06T04:00:07.528286Z"
    }
   },
   "outputs": [],
   "source": [
    "a= dishi.sum()\n",
    "a.name = '总计'\n",
    "dishi =dishi.append(a)"
   ]
  },
  {
   "cell_type": "code",
   "execution_count": null,
   "metadata": {},
   "outputs": [],
   "source": [
    "dishi.to_clipboard()"
   ]
  },
  {
   "cell_type": "code",
   "execution_count": null,
   "metadata": {
    "ExecuteTime": {
     "end_time": "2020-07-06T05:47:46.988033Z",
     "start_time": "2020-07-06T05:47:46.979532Z"
    }
   },
   "outputs": [],
   "source": [
    "dishi.iloc[0:1,0:2]"
   ]
  },
  {
   "cell_type": "code",
   "execution_count": null,
   "metadata": {},
   "outputs": [],
   "source": []
  }
 ],
 "metadata": {
  "kernelspec": {
   "display_name": "Python 3",
   "language": "python",
   "name": "python3"
  },
  "language_info": {
   "codemirror_mode": {
    "name": "ipython",
    "version": 3
   },
   "file_extension": ".py",
   "mimetype": "text/x-python",
   "name": "python",
   "nbconvert_exporter": "python",
   "pygments_lexer": "ipython3",
   "version": "3.7.4"
  },
  "toc": {
   "base_numbering": 1,
   "nav_menu": {},
   "number_sections": true,
   "sideBar": true,
   "skip_h1_title": false,
   "title_cell": "Table of Contents",
   "title_sidebar": "Contents",
   "toc_cell": false,
   "toc_position": {},
   "toc_section_display": true,
   "toc_window_display": false
  },
  "varInspector": {
   "cols": {
    "lenName": 16,
    "lenType": 16,
    "lenVar": 40
   },
   "kernels_config": {
    "python": {
     "delete_cmd_postfix": "",
     "delete_cmd_prefix": "del ",
     "library": "var_list.py",
     "varRefreshCmd": "print(var_dic_list())"
    },
    "r": {
     "delete_cmd_postfix": ") ",
     "delete_cmd_prefix": "rm(",
     "library": "var_list.r",
     "varRefreshCmd": "cat(var_dic_list()) "
    }
   },
   "types_to_exclude": [
    "module",
    "function",
    "builtin_function_or_method",
    "instance",
    "_Feature"
   ],
   "window_display": false
  }
 },
 "nbformat": 4,
 "nbformat_minor": 2
}
