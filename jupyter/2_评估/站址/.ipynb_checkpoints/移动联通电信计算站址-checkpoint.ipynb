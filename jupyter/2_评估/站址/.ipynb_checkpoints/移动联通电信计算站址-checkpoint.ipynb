{
 "cells": [
  {
   "cell_type": "markdown",
   "metadata": {},
   "source": [
    "# 移动"
   ]
  },
  {
   "cell_type": "code",
   "execution_count": 21,
   "metadata": {},
   "outputs": [],
   "source": [
    "import pandas as pd\n",
    "import numpy as np\n",
    "import __dis\n",
    "import time\n",
    "import geopandas as gpd\n",
    "from app import *"
   ]
  },
  {
   "cell_type": "code",
   "execution_count": 2,
   "metadata": {
    "scrolled": true
   },
   "outputs": [],
   "source": [
    "sit_cmcc=pd.read_csv(open('G:/1-规划/评估/竞对站点评估/2019年11月/1-基础数据/移动/输出数据/汇总/移动汇总.csv',encoding='gbk'))"
   ]
  },
  {
   "cell_type": "code",
   "execution_count": 3,
   "metadata": {
    "scrolled": true
   },
   "outputs": [
    {
     "name": "stderr",
     "output_type": "stream",
     "text": [
      "C:\\ProgramData\\Anaconda3\\lib\\site-packages\\IPython\\core\\interactiveshell.py:2714: DtypeWarning: Columns (15,17,22,24) have mixed types. Specify dtype option on import or set low_memory=False.\n",
      "  interactivity=interactivity, compiler=compiler, result=result)\n"
     ]
    }
   ],
   "source": [
    "gongcan = pd.read_csv(open('g:/1-规划/工参/工参数据/ltejizhan20191212.csv',encoding='gbk'))"
   ]
  },
  {
   "cell_type": "code",
   "execution_count": 4,
   "metadata": {},
   "outputs": [],
   "source": [
    "sit_cmcc = sit_cmcc.merge(gongcan[[ '小区中文名', '所属地区']].drop_duplicates('小区中文名'),how='left',on='小区中文名')"
   ]
  },
  {
   "cell_type": "code",
   "execution_count": 5,
   "metadata": {
    "scrolled": true
   },
   "outputs": [
    {
     "data": {
      "text/plain": [
       "Index(['小区中文名', '网络制式(TDD/FDD)', 'CellLongitude', 'CellLatitude', '覆盖类型',\n",
       "       '区县归属', '移动业务域', '武汉行政域', '厂家名称', 'Indoor', 'FDD900', 'FDD1800', 'F',\n",
       "       'D', 'E', 'A', '频段_900M', '频段_1800M', '频段_2100M', '所属地区'],\n",
       "      dtype='object')"
      ]
     },
     "execution_count": 5,
     "metadata": {},
     "output_type": "execute_result"
    }
   ],
   "source": [
    "sit_cmcc.columns"
   ]
  },
  {
   "cell_type": "code",
   "execution_count": 6,
   "metadata": {},
   "outputs": [],
   "source": [
    "res_table = gongcan.groupby(by='所属地区').agg({'小区中文名':'count'})\n",
    "res_table.rename(columns={'小区中文名':'小区总计'},inplace=True)\n",
    "\n",
    "res_table = res_table.merge(sit_cmcc.groupby(by='所属地区').agg({'小区中文名':'count'}),left_index=True,right_index=True)\n",
    "res_table.rename(columns={'小区中文名':'站址总计'},inplace=True)"
   ]
  },
  {
   "cell_type": "code",
   "execution_count": 7,
   "metadata": {},
   "outputs": [],
   "source": [
    "list_pin = ['频段_900M','频段_1800M','频段_2100M']"
   ]
  },
  {
   "cell_type": "code",
   "execution_count": 8,
   "metadata": {},
   "outputs": [],
   "source": [
    "for pin in list_pin:\n",
    "    sit_cmcc_use = sit_cmcc[sit_cmcc[pin]==pin.split('_')[1]]\n",
    "    res_table = res_table.merge(sit_cmcc_use.groupby(by='所属地区').agg({'小区中文名':'count'}),left_index=True,right_index=True)\n",
    "    res_table.rename(columns={'小区中文名':pin},inplace=True)"
   ]
  },
  {
   "cell_type": "code",
   "execution_count": 9,
   "metadata": {},
   "outputs": [
    {
     "data": {
      "text/html": [
       "<div>\n",
       "<style scoped>\n",
       "    .dataframe tbody tr th:only-of-type {\n",
       "        vertical-align: middle;\n",
       "    }\n",
       "\n",
       "    .dataframe tbody tr th {\n",
       "        vertical-align: top;\n",
       "    }\n",
       "\n",
       "    .dataframe thead th {\n",
       "        text-align: right;\n",
       "    }\n",
       "</style>\n",
       "<table border=\"1\" class=\"dataframe\">\n",
       "  <thead>\n",
       "    <tr style=\"text-align: right;\">\n",
       "      <th></th>\n",
       "      <th>小区总计</th>\n",
       "      <th>站址总计</th>\n",
       "      <th>频段_900M</th>\n",
       "      <th>频段_1800M</th>\n",
       "      <th>频段_2100M</th>\n",
       "    </tr>\n",
       "    <tr>\n",
       "      <th>所属地区</th>\n",
       "      <th></th>\n",
       "      <th></th>\n",
       "      <th></th>\n",
       "      <th></th>\n",
       "      <th></th>\n",
       "    </tr>\n",
       "  </thead>\n",
       "  <tbody>\n",
       "    <tr>\n",
       "      <th>十堰</th>\n",
       "      <td>23619</td>\n",
       "      <td>4161</td>\n",
       "      <td>2561</td>\n",
       "      <td>3320</td>\n",
       "      <td>846</td>\n",
       "    </tr>\n",
       "    <tr>\n",
       "      <th>咸宁</th>\n",
       "      <td>16039</td>\n",
       "      <td>2759</td>\n",
       "      <td>1472</td>\n",
       "      <td>2289</td>\n",
       "      <td>541</td>\n",
       "    </tr>\n",
       "    <tr>\n",
       "      <th>天门</th>\n",
       "      <td>4903</td>\n",
       "      <td>893</td>\n",
       "      <td>413</td>\n",
       "      <td>795</td>\n",
       "      <td>158</td>\n",
       "    </tr>\n",
       "    <tr>\n",
       "      <th>孝感</th>\n",
       "      <td>21687</td>\n",
       "      <td>3363</td>\n",
       "      <td>1788</td>\n",
       "      <td>2959</td>\n",
       "      <td>611</td>\n",
       "    </tr>\n",
       "    <tr>\n",
       "      <th>宜昌</th>\n",
       "      <td>29658</td>\n",
       "      <td>5021</td>\n",
       "      <td>3040</td>\n",
       "      <td>4302</td>\n",
       "      <td>1027</td>\n",
       "    </tr>\n",
       "    <tr>\n",
       "      <th>恩施</th>\n",
       "      <td>21602</td>\n",
       "      <td>3985</td>\n",
       "      <td>2639</td>\n",
       "      <td>3086</td>\n",
       "      <td>634</td>\n",
       "    </tr>\n",
       "    <tr>\n",
       "      <th>武汉</th>\n",
       "      <td>85817</td>\n",
       "      <td>8278</td>\n",
       "      <td>5250</td>\n",
       "      <td>6811</td>\n",
       "      <td>4183</td>\n",
       "    </tr>\n",
       "    <tr>\n",
       "      <th>江汉</th>\n",
       "      <td>5526</td>\n",
       "      <td>927</td>\n",
       "      <td>410</td>\n",
       "      <td>824</td>\n",
       "      <td>217</td>\n",
       "    </tr>\n",
       "    <tr>\n",
       "      <th>潜江</th>\n",
       "      <td>4608</td>\n",
       "      <td>840</td>\n",
       "      <td>368</td>\n",
       "      <td>729</td>\n",
       "      <td>158</td>\n",
       "    </tr>\n",
       "    <tr>\n",
       "      <th>荆州</th>\n",
       "      <td>29357</td>\n",
       "      <td>4401</td>\n",
       "      <td>2424</td>\n",
       "      <td>3725</td>\n",
       "      <td>1100</td>\n",
       "    </tr>\n",
       "    <tr>\n",
       "      <th>荆门</th>\n",
       "      <td>16210</td>\n",
       "      <td>2943</td>\n",
       "      <td>1506</td>\n",
       "      <td>2639</td>\n",
       "      <td>493</td>\n",
       "    </tr>\n",
       "    <tr>\n",
       "      <th>襄阳</th>\n",
       "      <td>32049</td>\n",
       "      <td>5365</td>\n",
       "      <td>2963</td>\n",
       "      <td>4548</td>\n",
       "      <td>1177</td>\n",
       "    </tr>\n",
       "    <tr>\n",
       "      <th>鄂州</th>\n",
       "      <td>7420</td>\n",
       "      <td>1150</td>\n",
       "      <td>487</td>\n",
       "      <td>888</td>\n",
       "      <td>439</td>\n",
       "    </tr>\n",
       "    <tr>\n",
       "      <th>随州</th>\n",
       "      <td>14604</td>\n",
       "      <td>2927</td>\n",
       "      <td>1667</td>\n",
       "      <td>2164</td>\n",
       "      <td>414</td>\n",
       "    </tr>\n",
       "    <tr>\n",
       "      <th>黄冈</th>\n",
       "      <td>27151</td>\n",
       "      <td>5069</td>\n",
       "      <td>2802</td>\n",
       "      <td>4274</td>\n",
       "      <td>700</td>\n",
       "    </tr>\n",
       "    <tr>\n",
       "      <th>黄石</th>\n",
       "      <td>14884</td>\n",
       "      <td>2297</td>\n",
       "      <td>1259</td>\n",
       "      <td>1948</td>\n",
       "      <td>571</td>\n",
       "    </tr>\n",
       "  </tbody>\n",
       "</table>\n",
       "</div>"
      ],
      "text/plain": [
       "       小区总计  站址总计  频段_900M  频段_1800M  频段_2100M\n",
       "所属地区                                          \n",
       "十堰    23619  4161     2561      3320       846\n",
       "咸宁    16039  2759     1472      2289       541\n",
       "天门     4903   893      413       795       158\n",
       "孝感    21687  3363     1788      2959       611\n",
       "宜昌    29658  5021     3040      4302      1027\n",
       "恩施    21602  3985     2639      3086       634\n",
       "武汉    85817  8278     5250      6811      4183\n",
       "江汉     5526   927      410       824       217\n",
       "潜江     4608   840      368       729       158\n",
       "荆州    29357  4401     2424      3725      1100\n",
       "荆门    16210  2943     1506      2639       493\n",
       "襄阳    32049  5365     2963      4548      1177\n",
       "鄂州     7420  1150      487       888       439\n",
       "随州    14604  2927     1667      2164       414\n",
       "黄冈    27151  5069     2802      4274       700\n",
       "黄石    14884  2297     1259      1948       571"
      ]
     },
     "execution_count": 9,
     "metadata": {},
     "output_type": "execute_result"
    }
   ],
   "source": [
    "res_table"
   ]
  },
  {
   "cell_type": "code",
   "execution_count": 12,
   "metadata": {},
   "outputs": [],
   "source": [
    "def table_sum(df):\n",
    "    sum_column = df.sum(axis=1)\n",
    "    sum_column.name='总计'\n",
    "    sum_row = df.sum()\n",
    "    sum_row.name='总计'\n",
    "    df = pd.concat([df,sum_column],axis=1)\n",
    "    df = df.append(sum_row)\n",
    "    return df"
   ]
  },
  {
   "cell_type": "code",
   "execution_count": 13,
   "metadata": {},
   "outputs": [
    {
     "data": {
      "text/html": [
       "<div>\n",
       "<style scoped>\n",
       "    .dataframe tbody tr th:only-of-type {\n",
       "        vertical-align: middle;\n",
       "    }\n",
       "\n",
       "    .dataframe tbody tr th {\n",
       "        vertical-align: top;\n",
       "    }\n",
       "\n",
       "    .dataframe thead th {\n",
       "        text-align: right;\n",
       "    }\n",
       "</style>\n",
       "<table border=\"1\" class=\"dataframe\">\n",
       "  <thead>\n",
       "    <tr style=\"text-align: right;\">\n",
       "      <th></th>\n",
       "      <th>小区总计</th>\n",
       "      <th>站址总计</th>\n",
       "      <th>频段_900M</th>\n",
       "      <th>频段_1800M</th>\n",
       "      <th>频段_2100M</th>\n",
       "      <th>总计</th>\n",
       "    </tr>\n",
       "    <tr>\n",
       "      <th>所属地区</th>\n",
       "      <th></th>\n",
       "      <th></th>\n",
       "      <th></th>\n",
       "      <th></th>\n",
       "      <th></th>\n",
       "      <th></th>\n",
       "    </tr>\n",
       "  </thead>\n",
       "  <tbody>\n",
       "    <tr>\n",
       "      <th>十堰</th>\n",
       "      <td>23619.0</td>\n",
       "      <td>4161.0</td>\n",
       "      <td>2561.0</td>\n",
       "      <td>3320.0</td>\n",
       "      <td>846.0</td>\n",
       "      <td>34507.0</td>\n",
       "    </tr>\n",
       "    <tr>\n",
       "      <th>咸宁</th>\n",
       "      <td>16039.0</td>\n",
       "      <td>2759.0</td>\n",
       "      <td>1472.0</td>\n",
       "      <td>2289.0</td>\n",
       "      <td>541.0</td>\n",
       "      <td>23100.0</td>\n",
       "    </tr>\n",
       "    <tr>\n",
       "      <th>天门</th>\n",
       "      <td>4903.0</td>\n",
       "      <td>893.0</td>\n",
       "      <td>413.0</td>\n",
       "      <td>795.0</td>\n",
       "      <td>158.0</td>\n",
       "      <td>7162.0</td>\n",
       "    </tr>\n",
       "    <tr>\n",
       "      <th>孝感</th>\n",
       "      <td>21687.0</td>\n",
       "      <td>3363.0</td>\n",
       "      <td>1788.0</td>\n",
       "      <td>2959.0</td>\n",
       "      <td>611.0</td>\n",
       "      <td>30408.0</td>\n",
       "    </tr>\n",
       "    <tr>\n",
       "      <th>宜昌</th>\n",
       "      <td>29658.0</td>\n",
       "      <td>5021.0</td>\n",
       "      <td>3040.0</td>\n",
       "      <td>4302.0</td>\n",
       "      <td>1027.0</td>\n",
       "      <td>43048.0</td>\n",
       "    </tr>\n",
       "    <tr>\n",
       "      <th>恩施</th>\n",
       "      <td>21602.0</td>\n",
       "      <td>3985.0</td>\n",
       "      <td>2639.0</td>\n",
       "      <td>3086.0</td>\n",
       "      <td>634.0</td>\n",
       "      <td>31946.0</td>\n",
       "    </tr>\n",
       "    <tr>\n",
       "      <th>武汉</th>\n",
       "      <td>85817.0</td>\n",
       "      <td>8278.0</td>\n",
       "      <td>5250.0</td>\n",
       "      <td>6811.0</td>\n",
       "      <td>4183.0</td>\n",
       "      <td>110339.0</td>\n",
       "    </tr>\n",
       "    <tr>\n",
       "      <th>江汉</th>\n",
       "      <td>5526.0</td>\n",
       "      <td>927.0</td>\n",
       "      <td>410.0</td>\n",
       "      <td>824.0</td>\n",
       "      <td>217.0</td>\n",
       "      <td>7904.0</td>\n",
       "    </tr>\n",
       "    <tr>\n",
       "      <th>潜江</th>\n",
       "      <td>4608.0</td>\n",
       "      <td>840.0</td>\n",
       "      <td>368.0</td>\n",
       "      <td>729.0</td>\n",
       "      <td>158.0</td>\n",
       "      <td>6703.0</td>\n",
       "    </tr>\n",
       "    <tr>\n",
       "      <th>荆州</th>\n",
       "      <td>29357.0</td>\n",
       "      <td>4401.0</td>\n",
       "      <td>2424.0</td>\n",
       "      <td>3725.0</td>\n",
       "      <td>1100.0</td>\n",
       "      <td>41007.0</td>\n",
       "    </tr>\n",
       "    <tr>\n",
       "      <th>荆门</th>\n",
       "      <td>16210.0</td>\n",
       "      <td>2943.0</td>\n",
       "      <td>1506.0</td>\n",
       "      <td>2639.0</td>\n",
       "      <td>493.0</td>\n",
       "      <td>23791.0</td>\n",
       "    </tr>\n",
       "    <tr>\n",
       "      <th>襄阳</th>\n",
       "      <td>32049.0</td>\n",
       "      <td>5365.0</td>\n",
       "      <td>2963.0</td>\n",
       "      <td>4548.0</td>\n",
       "      <td>1177.0</td>\n",
       "      <td>46102.0</td>\n",
       "    </tr>\n",
       "    <tr>\n",
       "      <th>鄂州</th>\n",
       "      <td>7420.0</td>\n",
       "      <td>1150.0</td>\n",
       "      <td>487.0</td>\n",
       "      <td>888.0</td>\n",
       "      <td>439.0</td>\n",
       "      <td>10384.0</td>\n",
       "    </tr>\n",
       "    <tr>\n",
       "      <th>随州</th>\n",
       "      <td>14604.0</td>\n",
       "      <td>2927.0</td>\n",
       "      <td>1667.0</td>\n",
       "      <td>2164.0</td>\n",
       "      <td>414.0</td>\n",
       "      <td>21776.0</td>\n",
       "    </tr>\n",
       "    <tr>\n",
       "      <th>黄冈</th>\n",
       "      <td>27151.0</td>\n",
       "      <td>5069.0</td>\n",
       "      <td>2802.0</td>\n",
       "      <td>4274.0</td>\n",
       "      <td>700.0</td>\n",
       "      <td>39996.0</td>\n",
       "    </tr>\n",
       "    <tr>\n",
       "      <th>黄石</th>\n",
       "      <td>14884.0</td>\n",
       "      <td>2297.0</td>\n",
       "      <td>1259.0</td>\n",
       "      <td>1948.0</td>\n",
       "      <td>571.0</td>\n",
       "      <td>20959.0</td>\n",
       "    </tr>\n",
       "    <tr>\n",
       "      <th>总计</th>\n",
       "      <td>355134.0</td>\n",
       "      <td>54379.0</td>\n",
       "      <td>31049.0</td>\n",
       "      <td>45301.0</td>\n",
       "      <td>13269.0</td>\n",
       "      <td>NaN</td>\n",
       "    </tr>\n",
       "  </tbody>\n",
       "</table>\n",
       "</div>"
      ],
      "text/plain": [
       "          小区总计     站址总计  频段_900M  频段_1800M  频段_2100M        总计\n",
       "所属地区                                                          \n",
       "十堰     23619.0   4161.0   2561.0    3320.0     846.0   34507.0\n",
       "咸宁     16039.0   2759.0   1472.0    2289.0     541.0   23100.0\n",
       "天门      4903.0    893.0    413.0     795.0     158.0    7162.0\n",
       "孝感     21687.0   3363.0   1788.0    2959.0     611.0   30408.0\n",
       "宜昌     29658.0   5021.0   3040.0    4302.0    1027.0   43048.0\n",
       "恩施     21602.0   3985.0   2639.0    3086.0     634.0   31946.0\n",
       "武汉     85817.0   8278.0   5250.0    6811.0    4183.0  110339.0\n",
       "江汉      5526.0    927.0    410.0     824.0     217.0    7904.0\n",
       "潜江      4608.0    840.0    368.0     729.0     158.0    6703.0\n",
       "荆州     29357.0   4401.0   2424.0    3725.0    1100.0   41007.0\n",
       "荆门     16210.0   2943.0   1506.0    2639.0     493.0   23791.0\n",
       "襄阳     32049.0   5365.0   2963.0    4548.0    1177.0   46102.0\n",
       "鄂州      7420.0   1150.0    487.0     888.0     439.0   10384.0\n",
       "随州     14604.0   2927.0   1667.0    2164.0     414.0   21776.0\n",
       "黄冈     27151.0   5069.0   2802.0    4274.0     700.0   39996.0\n",
       "黄石     14884.0   2297.0   1259.0    1948.0     571.0   20959.0\n",
       "总计    355134.0  54379.0  31049.0   45301.0   13269.0       NaN"
      ]
     },
     "execution_count": 13,
     "metadata": {},
     "output_type": "execute_result"
    }
   ],
   "source": [
    "table_sum(res_table)"
   ]
  },
  {
   "cell_type": "markdown",
   "metadata": {},
   "source": [
    "# 联通电信"
   ]
  },
  {
   "cell_type": "code",
   "execution_count": 24,
   "metadata": {},
   "outputs": [],
   "source": [
    "dianxin = pd.read_excel('g:/1-规划/评估/竞对站点评估/2019年11月/2-处理过程/电信整理汇总.xlsx',encoding = 'gbk',sheet_name='Sheet1')\n",
    "liantong = pd.read_excel('g:/1-规划/评估/竞对站点评估/2019年11月/2-处理过程/联通汇总.xlsx',encoding = 'gbk',sheet_name='Sheet1')"
   ]
  },
  {
   "cell_type": "code",
   "execution_count": 25,
   "metadata": {},
   "outputs": [],
   "source": [
    "dianxin_h = dianxin.loc[dianxin['室内外']=='室外']\n",
    "liantong_h = liantong.loc[liantong['室内外']=='室外']"
   ]
  },
  {
   "cell_type": "code",
   "execution_count": 26,
   "metadata": {},
   "outputs": [
    {
     "name": "stderr",
     "output_type": "stream",
     "text": [
      "C:\\ProgramData\\Anaconda3\\lib\\site-packages\\pyproj\\crs.py:77: FutureWarning: '+init=<authority>:<code>' syntax is deprecated. '<authority>:<code>' is the preferred initialization method.\n",
      "  return _prepare_from_string(\" \".join(pjargs))\n"
     ]
    }
   ],
   "source": [
    "hubei = gpd.read_file('g:/1-规划/图层/湖北省地市-边界-边界/全省地市边界.TAB',encoding = 'gbk')\n",
    "hubei = hubei.to_crs({'init':'epsg:4326'})"
   ]
  },
  {
   "cell_type": "code",
   "execution_count": 27,
   "metadata": {},
   "outputs": [
    {
     "name": "stdout",
     "output_type": "stream",
     "text": [
      "<class 'pandas.core.frame.DataFrame'>\n",
      "Int64Index: 112030 entries, 0 to 129758\n",
      "Data columns (total 13 columns):\n",
      "地市               112030 non-null object\n",
      "小区名              112030 non-null object\n",
      "基站名              112030 non-null object\n",
      "经度               112030 non-null object\n",
      "纬度               112030 non-null object\n",
      "频点               112030 non-null object\n",
      "频率               112030 non-null object\n",
      "室内外              112030 non-null object\n",
      "带宽               112030 non-null object\n",
      "厂家               112030 non-null object\n",
      "900-1800-2400    112030 non-null object\n",
      "基站类型-室内外         112030 non-null object\n",
      "微站-宏站-室分         112030 non-null object\n",
      "dtypes: object(13)\n",
      "memory usage: 12.0+ MB\n"
     ]
    }
   ],
   "source": [
    "dianxin_h = dianxin_h.astype(str)\n",
    "\n",
    "dianxin_h.info()\n",
    "\n",
    "dianxin_h['经度'] = dianxin_h['经度'].str.strip()\n",
    "dianxin_h['纬度'] = dianxin_h['纬度'].str.strip()\n",
    "dianxin_h['纬度'] = dianxin_h['纬度'].str.replace('?','')\n",
    "dianxin_h['经度'] = pd.to_numeric(dianxin_h['经度'])\n",
    "dianxin_h['纬度'] = pd.to_numeric(dianxin_h['纬度'])\n",
    "\n",
    "dianxin['经度'] = dianxin['经度'].str.strip()\n",
    "dianxin['纬度'] = dianxin['纬度'].str.strip()\n",
    "# liantong['经度'] = liantong['经度'].str.strip()\n",
    "# liantong['纬度'] = liantong['纬度'].str.strip()"
   ]
  },
  {
   "cell_type": "code",
   "execution_count": 28,
   "metadata": {},
   "outputs": [],
   "source": [
    "dianxin_use = dianxin_h.loc[(dianxin_h['经度']>60) & (dianxin_h['纬度']<60)]\n",
    "liantong_use = liantong_h.loc[(liantong_h['经度']>60 & (liantong_h['纬度']<60))]\n",
    "\n",
    "dianxin_p = tools_geo.add_points(dianxin_use ,lon='经度',lat='纬度')\n",
    "liantong_p = tools_geo.add_points(liantong_use , lon='经度',lat='纬度')"
   ]
  },
  {
   "cell_type": "code",
   "execution_count": 29,
   "metadata": {},
   "outputs": [],
   "source": [
    "dianxin_res = gpd.sjoin(hubei,dianxin_p)\n",
    "liantong_res = gpd.sjoin(hubei,liantong_p)\n",
    "\n",
    "dianxin_res.drop(['geometry','index_right'],axis=1,inplace = True)\n",
    "liantong_res.drop(['geometry','index_right'],axis=1,inplace = True)"
   ]
  },
  {
   "cell_type": "code",
   "execution_count": 30,
   "metadata": {},
   "outputs": [],
   "source": [
    "dianxin_res['kkk'] = dianxin_res['kkk'].str.replace('市','')\n",
    "liantong_res['kkk'] = liantong_res['kkk'].str.replace('市','')\n",
    "\n",
    "dianxin_res_groupby = dianxin_res.groupby(by = '900-1800-2400')\n",
    "liantong_res_groupby = liantong_res.groupby(by = '900-1800-2400')"
   ]
  },
  {
   "cell_type": "code",
   "execution_count": 31,
   "metadata": {},
   "outputs": [],
   "source": [
    "dishi = dianxin_res.groupby(by = 'kkk').agg({'地市':'count'})\n",
    "dishi.columns = ['电信小区']\n",
    "liantong_linshi_1=liantong_res.groupby(by = 'kkk').agg({'地市':'count'})\n",
    "liantong_linshi_1.columns = ['联通小区']\n",
    "dishi['联通小区']=0\n",
    "dishi['联通小区'].update(liantong_linshi_1['联通小区'])"
   ]
  },
  {
   "cell_type": "code",
   "execution_count": 32,
   "metadata": {},
   "outputs": [],
   "source": [
    "dianxin_res_qc1 = dianxin_res.drop_duplicates('基站名')\n",
    "dianxin_linshi_2 = dianxin_res_qc1.groupby(by = ['kkk']).agg({'kkk':'count'})\n",
    "dianxin_linshi_2.columns = ['电信总站址']\n",
    "dishi['电信总站址'] = 0\n",
    "dishi['电信总站址'].update(dianxin_linshi_2['电信总站址'])"
   ]
  },
  {
   "cell_type": "code",
   "execution_count": 33,
   "metadata": {},
   "outputs": [],
   "source": [
    "liantong__res_qc1 = liantong_res.drop_duplicates('基站名')\n",
    "liantong_linshi_2 = liantong__res_qc1.groupby(by = ['kkk']).agg({'kkk':'count'})\n",
    "liantong_linshi_2.columns = ['联通总站址']\n",
    "dishi['联通总站址'] = 0\n",
    "dishi['联通总站址'].update(liantong_linshi_2['联通总站址'])"
   ]
  },
  {
   "cell_type": "code",
   "execution_count": 34,
   "metadata": {},
   "outputs": [],
   "source": [
    "for name,dianxin_t in dianxin_res_groupby:\n",
    "    dianxin_res_qc = dianxin_t.drop_duplicates('基站名')\n",
    "    dianxin_linshi_2 = dianxin_res_qc.groupby(by = ['kkk']).agg({'kkk':'count'})\n",
    "    dianxin_linshi_2.columns = [name+'电信总站址']\n",
    "    dishi[name+'电信总站址'] = 0\n",
    "    dishi[name+'电信总站址'].update(dianxin_linshi_2[name+'电信总站址'])\n",
    "\n",
    "for name,liantong_t in liantong_res_groupby:\n",
    "    liantong_res_qc = liantong_t.drop_duplicates('基站名')\n",
    "    liantong_linshi_2 = liantong_res_qc.groupby(by = ['kkk']).agg({'kkk':'count'})\n",
    "    liantong_linshi_2.columns = [name+'联通总站址']\n",
    "    dishi[name+'联通总站址'] = 0\n",
    "    dishi[name+'联通总站址'].update(liantong_linshi_2[name+'联通总站址'])"
   ]
  },
  {
   "cell_type": "code",
   "execution_count": 35,
   "metadata": {},
   "outputs": [],
   "source": [
    "a= dishi.sum()\n",
    "a.name = '总计'\n",
    "dishi =dishi.append(a)"
   ]
  },
  {
   "cell_type": "code",
   "execution_count": 37,
   "metadata": {},
   "outputs": [],
   "source": [
    "dishi.to_clipboard()"
   ]
  },
  {
   "cell_type": "code",
   "execution_count": null,
   "metadata": {},
   "outputs": [],
   "source": []
  }
 ],
 "metadata": {
  "kernelspec": {
   "display_name": "Python 3",
   "language": "python",
   "name": "python3"
  },
  "language_info": {
   "codemirror_mode": {
    "name": "ipython",
    "version": 3
   },
   "file_extension": ".py",
   "mimetype": "text/x-python",
   "name": "python",
   "nbconvert_exporter": "python",
   "pygments_lexer": "ipython3",
   "version": "3.7.4"
  },
  "toc": {
   "base_numbering": 1,
   "nav_menu": {},
   "number_sections": true,
   "sideBar": true,
   "skip_h1_title": false,
   "title_cell": "Table of Contents",
   "title_sidebar": "Contents",
   "toc_cell": false,
   "toc_position": {},
   "toc_section_display": true,
   "toc_window_display": false
  },
  "varInspector": {
   "cols": {
    "lenName": 16,
    "lenType": 16,
    "lenVar": 40
   },
   "kernels_config": {
    "python": {
     "delete_cmd_postfix": "",
     "delete_cmd_prefix": "del ",
     "library": "var_list.py",
     "varRefreshCmd": "print(var_dic_list())"
    },
    "r": {
     "delete_cmd_postfix": ") ",
     "delete_cmd_prefix": "rm(",
     "library": "var_list.r",
     "varRefreshCmd": "cat(var_dic_list()) "
    }
   },
   "types_to_exclude": [
    "module",
    "function",
    "builtin_function_or_method",
    "instance",
    "_Feature"
   ],
   "window_display": false
  }
 },
 "nbformat": 4,
 "nbformat_minor": 2
}
