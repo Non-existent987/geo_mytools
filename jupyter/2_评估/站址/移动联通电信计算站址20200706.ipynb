{
 "cells": [
  {
   "cell_type": "markdown",
   "metadata": {},
   "source": [
    "# 移动"
   ]
  },
  {
   "cell_type": "code",
   "execution_count": 1,
   "metadata": {
    "ExecuteTime": {
     "end_time": "2020-07-09T07:58:52.772081Z",
     "start_time": "2020-07-09T07:58:51.459914Z"
    }
   },
   "outputs": [],
   "source": [
    "import pandas as pd\n",
    "import numpy as np\n",
    "import time\n",
    "import geopandas as gpd\n",
    "import mytools"
   ]
  },
  {
   "cell_type": "code",
   "execution_count": null,
   "metadata": {
    "ExecuteTime": {
     "end_time": "2020-07-06T03:44:12.566021Z",
     "start_time": "2020-07-06T03:44:12.303988Z"
    },
    "scrolled": true
   },
   "outputs": [],
   "source": [
    "sit_cmcc=pd.read_csv(open('G:/1-规划/评估/竞对站点评估/2019年11月/1-基础数据/移动/输出数据/汇总/移动汇总.csv',encoding='gbk'))"
   ]
  },
  {
   "cell_type": "code",
   "execution_count": null,
   "metadata": {
    "scrolled": true
   },
   "outputs": [],
   "source": [
    "gongcan = pd.read_csv(open('g:/1-规划/工参/工参数据/ltejizhan20191212.csv',encoding='gbk'))"
   ]
  },
  {
   "cell_type": "code",
   "execution_count": null,
   "metadata": {},
   "outputs": [],
   "source": [
    "sit_cmcc = sit_cmcc.merge(gongcan[[ '小区中文名', '所属地区']].drop_duplicates('小区中文名'),how='left',on='小区中文名')"
   ]
  },
  {
   "cell_type": "code",
   "execution_count": null,
   "metadata": {
    "scrolled": true
   },
   "outputs": [],
   "source": [
    "sit_cmcc.columns"
   ]
  },
  {
   "cell_type": "code",
   "execution_count": null,
   "metadata": {},
   "outputs": [],
   "source": [
    "res_table = gongcan.groupby(by='所属地区').agg({'小区中文名':'count'})\n",
    "res_table.rename(columns={'小区中文名':'小区总计'},inplace=True)\n",
    "\n",
    "res_table = res_table.merge(sit_cmcc.groupby(by='所属地区').agg({'小区中文名':'count'}),left_index=True,right_index=True)\n",
    "res_table.rename(columns={'小区中文名':'站址总计'},inplace=True)"
   ]
  },
  {
   "cell_type": "code",
   "execution_count": null,
   "metadata": {},
   "outputs": [],
   "source": [
    "list_pin = ['频段_900M','频段_1800M','频段_2100M']"
   ]
  },
  {
   "cell_type": "code",
   "execution_count": null,
   "metadata": {},
   "outputs": [],
   "source": [
    "for pin in list_pin:\n",
    "    sit_cmcc_use = sit_cmcc[sit_cmcc[pin]==pin.split('_')[1]]\n",
    "    res_table = res_table.merge(sit_cmcc_use.groupby(by='所属地区').agg({'小区中文名':'count'}),left_index=True,right_index=True)\n",
    "    res_table.rename(columns={'小区中文名':pin},inplace=True)"
   ]
  },
  {
   "cell_type": "code",
   "execution_count": null,
   "metadata": {},
   "outputs": [],
   "source": [
    "res_table"
   ]
  },
  {
   "cell_type": "code",
   "execution_count": null,
   "metadata": {},
   "outputs": [],
   "source": [
    "def table_sum(df):\n",
    "    sum_column = df.sum(axis=1)\n",
    "    sum_column.name='总计'\n",
    "    sum_row = df.sum()\n",
    "    sum_row.name='总计'\n",
    "    df = pd.concat([df,sum_column],axis=1)\n",
    "    df = df.append(sum_row)\n",
    "    return df"
   ]
  },
  {
   "cell_type": "code",
   "execution_count": null,
   "metadata": {},
   "outputs": [],
   "source": [
    "table_sum(res_table)"
   ]
  },
  {
   "cell_type": "markdown",
   "metadata": {},
   "source": [
    "# 联通电信"
   ]
  },
  {
   "cell_type": "code",
   "execution_count": 2,
   "metadata": {
    "ExecuteTime": {
     "end_time": "2020-07-09T07:59:15.108417Z",
     "start_time": "2020-07-09T07:58:54.600313Z"
    }
   },
   "outputs": [],
   "source": [
    "dianxin = pd.read_excel('G:/1-规划/评估/竞对站点评估/20200617/1-基础数据/3-电信数据/电信汇总.xlsx',encoding = 'gbk')\n",
    "liantong = pd.read_csv('G:/1-规划/评估/竞对站点评估/20200617/1-基础数据/2-联通数据/联通-汇总-使用.csv',encoding = 'gbk')"
   ]
  },
  {
   "cell_type": "code",
   "execution_count": 3,
   "metadata": {
    "ExecuteTime": {
     "end_time": "2020-07-09T07:59:15.209430Z",
     "start_time": "2020-07-09T07:59:15.197429Z"
    }
   },
   "outputs": [
    {
     "data": {
      "text/plain": [
       "Index(['基站名称', '站型（宏站/室分/微站）', '频段', '频点', '  更正频点', '经度', '纬度', '区域(区县）',\n",
       "       '是否独立站址', '厂家', '900-1800-2400'],\n",
       "      dtype='object')"
      ]
     },
     "execution_count": 3,
     "metadata": {},
     "output_type": "execute_result"
    }
   ],
   "source": [
    "dianxin.columns"
   ]
  },
  {
   "cell_type": "code",
   "execution_count": 4,
   "metadata": {
    "ExecuteTime": {
     "end_time": "2020-07-09T07:59:15.300942Z",
     "start_time": "2020-07-09T07:59:15.296941Z"
    }
   },
   "outputs": [
    {
     "data": {
      "text/plain": [
       "Index(['eNodeB ID', '基站名称', '站型（宏站/室分/微站）', '频段', '频点', '经度', '纬度', '区域(区县）',\n",
       "       '是否独立站址', '厂家', '900-1800-2400'],\n",
       "      dtype='object')"
      ]
     },
     "execution_count": 4,
     "metadata": {},
     "output_type": "execute_result"
    }
   ],
   "source": [
    "liantong.columns"
   ]
  },
  {
   "cell_type": "code",
   "execution_count": 5,
   "metadata": {
    "ExecuteTime": {
     "end_time": "2020-07-09T07:59:15.414456Z",
     "start_time": "2020-07-09T07:59:15.380952Z"
    }
   },
   "outputs": [],
   "source": [
    "dianxin_h = dianxin.loc[dianxin['站型（宏站/室分/微站）']=='宏站']\n",
    "liantong_h = liantong.loc[liantong['站型（宏站/室分/微站）']=='宏站']"
   ]
  },
  {
   "cell_type": "code",
   "execution_count": 6,
   "metadata": {
    "ExecuteTime": {
     "end_time": "2020-07-09T07:59:15.552974Z",
     "start_time": "2020-07-09T07:59:15.548473Z"
    }
   },
   "outputs": [
    {
     "data": {
      "text/plain": [
       "(33011, 11)"
      ]
     },
     "execution_count": 6,
     "metadata": {},
     "output_type": "execute_result"
    }
   ],
   "source": [
    "liantong_h.shape"
   ]
  },
  {
   "cell_type": "code",
   "execution_count": 7,
   "metadata": {
    "ExecuteTime": {
     "end_time": "2020-07-09T07:59:15.799005Z",
     "start_time": "2020-07-09T07:59:15.693992Z"
    }
   },
   "outputs": [],
   "source": [
    "hubei = gpd.read_file('g:/1-规划/图层/湖北省地市-边界-边界/全省地市边界.TAB',encoding = 'gbk')\n",
    "hubei = hubei.to_crs({'init':'epsg:4326'})"
   ]
  },
  {
   "cell_type": "code",
   "execution_count": 8,
   "metadata": {
    "ExecuteTime": {
     "end_time": "2020-07-09T07:59:16.380079Z",
     "start_time": "2020-07-09T07:59:16.328572Z"
    }
   },
   "outputs": [],
   "source": [
    "hubei = mytools.gisn.maps('地市区县')"
   ]
  },
  {
   "cell_type": "code",
   "execution_count": 9,
   "metadata": {
    "ExecuteTime": {
     "end_time": "2020-07-09T07:59:17.195683Z",
     "start_time": "2020-07-09T07:59:16.598107Z"
    }
   },
   "outputs": [
    {
     "name": "stdout",
     "output_type": "stream",
     "text": [
      "<class 'pandas.core.frame.DataFrame'>\n",
      "Int64Index: 97222 entries, 0 to 114747\n",
      "Data columns (total 11 columns):\n",
      "基站名称             97222 non-null object\n",
      "站型（宏站/室分/微站）     97222 non-null object\n",
      "频段               97222 non-null object\n",
      "频点               97222 non-null object\n",
      "  更正频点           97222 non-null object\n",
      "经度               97222 non-null object\n",
      "纬度               97222 non-null object\n",
      "区域(区县）           97222 non-null object\n",
      "是否独立站址           97222 non-null object\n",
      "厂家               97222 non-null object\n",
      "900-1800-2400    97222 non-null object\n",
      "dtypes: object(11)\n",
      "memory usage: 8.9+ MB\n"
     ]
    }
   ],
   "source": [
    "dianxin_h = dianxin_h.astype(str)\n",
    "\n",
    "dianxin_h.info()\n",
    "\n",
    "dianxin_h['经度'] = dianxin_h['经度'].str.strip()\n",
    "dianxin_h['纬度'] = dianxin_h['纬度'].str.strip()\n",
    "dianxin_h['纬度'] = dianxin_h['纬度'].str.replace('?','')\n",
    "dianxin_h['经度'] = pd.to_numeric(dianxin_h['经度'])\n",
    "dianxin_h['纬度'] = pd.to_numeric(dianxin_h['纬度'])\n",
    "\n",
    "# dianxin['经度'] = dianxin['经度'].str.strip()\n",
    "# dianxin['纬度'] = dianxin['纬度'].str.strip()\n",
    "# liantong['经度'] = liantong['经度'].str.strip()\n",
    "# liantong['纬度'] = liantong['纬度'].str.strip()"
   ]
  },
  {
   "cell_type": "code",
   "execution_count": 10,
   "metadata": {
    "ExecuteTime": {
     "end_time": "2020-07-09T07:59:19.092423Z",
     "start_time": "2020-07-09T07:59:17.428712Z"
    }
   },
   "outputs": [],
   "source": [
    "dianxin_use = dianxin_h.loc[(dianxin_h['经度']>60) & (dianxin_h['纬度']<60)]\n",
    "liantong_use = liantong_h.loc[(liantong_h['经度']>60 & (liantong_h['纬度']<60))]\n",
    "\n",
    "dianxin_p = mytools.gisn.add_points(dianxin_use ,lon='经度',lat='纬度')\n",
    "liantong_p = mytools.gisn.add_points(liantong_use , lon='经度',lat='纬度')"
   ]
  },
  {
   "cell_type": "code",
   "execution_count": 11,
   "metadata": {
    "ExecuteTime": {
     "end_time": "2020-07-09T07:59:31.674521Z",
     "start_time": "2020-07-09T07:59:21.406717Z"
    }
   },
   "outputs": [],
   "source": [
    "dianxin_res = gpd.sjoin(hubei,dianxin_p)\n",
    "liantong_res = gpd.sjoin(hubei,liantong_p)\n",
    "\n",
    "dianxin_res.drop(['geometry','index_right'],axis=1,inplace = True)\n",
    "liantong_res.drop(['geometry','index_right'],axis=1,inplace = True)"
   ]
  },
  {
   "cell_type": "code",
   "execution_count": 12,
   "metadata": {
    "ExecuteTime": {
     "end_time": "2020-07-09T07:59:36.783670Z",
     "start_time": "2020-07-09T07:59:36.755166Z"
    }
   },
   "outputs": [
    {
     "data": {
      "text/plain": [
       "(32463, 13)"
      ]
     },
     "execution_count": 12,
     "metadata": {},
     "output_type": "execute_result"
    }
   ],
   "source": [
    "liantong_res.drop_duplicates('基站名称').shape"
   ]
  },
  {
   "cell_type": "code",
   "execution_count": 14,
   "metadata": {
    "ExecuteTime": {
     "end_time": "2020-07-09T07:59:59.747586Z",
     "start_time": "2020-07-09T07:59:59.680577Z"
    }
   },
   "outputs": [],
   "source": [
    "dianxin_res['地市'] = dianxin_res['地市'].str.replace('市','')\n",
    "liantong_res['地市'] = liantong_res['地市'].str.replace('市','')\n",
    "\n",
    "dianxin_res_groupby = dianxin_res.groupby(by = '900-1800-2400')\n",
    "liantong_res_groupby = liantong_res.groupby(by = '900-1800-2400')"
   ]
  },
  {
   "cell_type": "code",
   "execution_count": 16,
   "metadata": {
    "ExecuteTime": {
     "end_time": "2020-07-09T08:00:14.080906Z",
     "start_time": "2020-07-09T08:00:14.052402Z"
    }
   },
   "outputs": [],
   "source": [
    "dishi = dianxin_res.groupby(by = '地市').agg({'基站名称':'count'})\n",
    "dishi.columns = ['电信小区']\n",
    "liantong_linshi_1=liantong_res.groupby(by = '地市').agg({'基站名称':'count'})\n",
    "liantong_linshi_1.columns = ['联通小区']\n",
    "dishi['联通小区']=0\n",
    "dishi['联通小区'].update(liantong_linshi_1['联通小区'])"
   ]
  },
  {
   "cell_type": "code",
   "execution_count": 18,
   "metadata": {
    "ExecuteTime": {
     "end_time": "2020-07-09T08:00:25.715383Z",
     "start_time": "2020-07-09T08:00:25.669878Z"
    }
   },
   "outputs": [],
   "source": [
    "dianxin_res_qc1 = dianxin_res.drop_duplicates('基站名称')\n",
    "dianxin_linshi_2 = dianxin_res_qc1.groupby(by = ['地市']).agg({'地市':'count'})\n",
    "dianxin_linshi_2.columns = ['电信总站址']\n",
    "dishi['电信总站址'] = 0\n",
    "dishi['电信总站址'].update(dianxin_linshi_2['电信总站址'])"
   ]
  },
  {
   "cell_type": "code",
   "execution_count": 19,
   "metadata": {
    "ExecuteTime": {
     "end_time": "2020-07-09T08:00:31.788155Z",
     "start_time": "2020-07-09T08:00:31.761651Z"
    }
   },
   "outputs": [],
   "source": [
    "liantong__res_qc1 = liantong_res.drop_duplicates('基站名称')\n",
    "liantong_linshi_2 = liantong__res_qc1.groupby(by = ['地市']).agg({'地市':'count'})\n",
    "liantong_linshi_2.columns = ['联通总站址']\n",
    "dishi['联通总站址'] = 0\n",
    "dishi['联通总站址'].update(liantong_linshi_2['联通总站址'])"
   ]
  },
  {
   "cell_type": "code",
   "execution_count": 20,
   "metadata": {
    "ExecuteTime": {
     "end_time": "2020-07-09T08:00:36.931308Z",
     "start_time": "2020-07-09T08:00:36.919306Z"
    }
   },
   "outputs": [
    {
     "data": {
      "text/html": [
       "<div>\n",
       "<style scoped>\n",
       "    .dataframe tbody tr th:only-of-type {\n",
       "        vertical-align: middle;\n",
       "    }\n",
       "\n",
       "    .dataframe tbody tr th {\n",
       "        vertical-align: top;\n",
       "    }\n",
       "\n",
       "    .dataframe thead th {\n",
       "        text-align: right;\n",
       "    }\n",
       "</style>\n",
       "<table border=\"1\" class=\"dataframe\">\n",
       "  <thead>\n",
       "    <tr style=\"text-align: right;\">\n",
       "      <th></th>\n",
       "      <th>电信小区</th>\n",
       "      <th>联通小区</th>\n",
       "      <th>电信总站址</th>\n",
       "      <th>联通总站址</th>\n",
       "    </tr>\n",
       "    <tr>\n",
       "      <th>地市</th>\n",
       "      <th></th>\n",
       "      <th></th>\n",
       "      <th></th>\n",
       "      <th></th>\n",
       "    </tr>\n",
       "  </thead>\n",
       "  <tbody>\n",
       "    <tr>\n",
       "      <td>十堰</td>\n",
       "      <td>4377</td>\n",
       "      <td>2369</td>\n",
       "      <td>3001</td>\n",
       "      <td>2334</td>\n",
       "    </tr>\n",
       "    <tr>\n",
       "      <td>咸宁</td>\n",
       "      <td>6712</td>\n",
       "      <td>1408</td>\n",
       "      <td>2747</td>\n",
       "      <td>1405</td>\n",
       "    </tr>\n",
       "    <tr>\n",
       "      <td>天门</td>\n",
       "      <td>503</td>\n",
       "      <td>689</td>\n",
       "      <td>483</td>\n",
       "      <td>684</td>\n",
       "    </tr>\n",
       "    <tr>\n",
       "      <td>孝感</td>\n",
       "      <td>7686</td>\n",
       "      <td>2284</td>\n",
       "      <td>2168</td>\n",
       "      <td>2284</td>\n",
       "    </tr>\n",
       "    <tr>\n",
       "      <td>宜昌</td>\n",
       "      <td>3572</td>\n",
       "      <td>2575</td>\n",
       "      <td>3368</td>\n",
       "      <td>2548</td>\n",
       "    </tr>\n",
       "    <tr>\n",
       "      <td>恩施</td>\n",
       "      <td>3849</td>\n",
       "      <td>4200</td>\n",
       "      <td>3485</td>\n",
       "      <td>4197</td>\n",
       "    </tr>\n",
       "    <tr>\n",
       "      <td>武汉</td>\n",
       "      <td>24441</td>\n",
       "      <td>6744</td>\n",
       "      <td>6835</td>\n",
       "      <td>6331</td>\n",
       "    </tr>\n",
       "    <tr>\n",
       "      <td>江汉</td>\n",
       "      <td>1594</td>\n",
       "      <td>778</td>\n",
       "      <td>468</td>\n",
       "      <td>764</td>\n",
       "    </tr>\n",
       "    <tr>\n",
       "      <td>潜江</td>\n",
       "      <td>487</td>\n",
       "      <td>652</td>\n",
       "      <td>465</td>\n",
       "      <td>647</td>\n",
       "    </tr>\n",
       "    <tr>\n",
       "      <td>荆州</td>\n",
       "      <td>8954</td>\n",
       "      <td>2146</td>\n",
       "      <td>3217</td>\n",
       "      <td>2141</td>\n",
       "    </tr>\n",
       "    <tr>\n",
       "      <td>荆门</td>\n",
       "      <td>6537</td>\n",
       "      <td>1215</td>\n",
       "      <td>2183</td>\n",
       "      <td>1206</td>\n",
       "    </tr>\n",
       "    <tr>\n",
       "      <td>襄阳</td>\n",
       "      <td>4129</td>\n",
       "      <td>2450</td>\n",
       "      <td>3434</td>\n",
       "      <td>2450</td>\n",
       "    </tr>\n",
       "    <tr>\n",
       "      <td>鄂州</td>\n",
       "      <td>2659</td>\n",
       "      <td>663</td>\n",
       "      <td>848</td>\n",
       "      <td>657</td>\n",
       "    </tr>\n",
       "    <tr>\n",
       "      <td>随州</td>\n",
       "      <td>4191</td>\n",
       "      <td>1269</td>\n",
       "      <td>1305</td>\n",
       "      <td>1269</td>\n",
       "    </tr>\n",
       "    <tr>\n",
       "      <td>黄冈</td>\n",
       "      <td>11836</td>\n",
       "      <td>2494</td>\n",
       "      <td>4077</td>\n",
       "      <td>2491</td>\n",
       "    </tr>\n",
       "    <tr>\n",
       "      <td>黄石</td>\n",
       "      <td>5689</td>\n",
       "      <td>1056</td>\n",
       "      <td>1715</td>\n",
       "      <td>1055</td>\n",
       "    </tr>\n",
       "  </tbody>\n",
       "</table>\n",
       "</div>"
      ],
      "text/plain": [
       "     电信小区  联通小区  电信总站址  联通总站址\n",
       "地市                           \n",
       "十堰   4377  2369   3001   2334\n",
       "咸宁   6712  1408   2747   1405\n",
       "天门    503   689    483    684\n",
       "孝感   7686  2284   2168   2284\n",
       "宜昌   3572  2575   3368   2548\n",
       "恩施   3849  4200   3485   4197\n",
       "武汉  24441  6744   6835   6331\n",
       "江汉   1594   778    468    764\n",
       "潜江    487   652    465    647\n",
       "荆州   8954  2146   3217   2141\n",
       "荆门   6537  1215   2183   1206\n",
       "襄阳   4129  2450   3434   2450\n",
       "鄂州   2659   663    848    657\n",
       "随州   4191  1269   1305   1269\n",
       "黄冈  11836  2494   4077   2491\n",
       "黄石   5689  1056   1715   1055"
      ]
     },
     "execution_count": 20,
     "metadata": {},
     "output_type": "execute_result"
    }
   ],
   "source": [
    "dishi"
   ]
  },
  {
   "cell_type": "code",
   "execution_count": 21,
   "metadata": {
    "ExecuteTime": {
     "end_time": "2020-07-09T08:00:43.172600Z",
     "start_time": "2020-07-09T08:00:43.046084Z"
    }
   },
   "outputs": [],
   "source": [
    "for name,dianxin_t in dianxin_res_groupby:\n",
    "    dianxin_res_qc = dianxin_t.drop_duplicates('基站名称')\n",
    "    dianxin_linshi_2 = dianxin_res_qc.groupby(by = ['地市']).agg({'地市':'count'})\n",
    "    dianxin_linshi_2.columns = [name+'电信总站址']\n",
    "    dishi[name+'电信总站址'] = 0\n",
    "    dishi[name+'电信总站址'].update(dianxin_linshi_2[name+'电信总站址'])\n",
    "\n",
    "for name,liantong_t in liantong_res_groupby:\n",
    "    liantong_res_qc = liantong_t.drop_duplicates('基站名称')\n",
    "    liantong_linshi_2 = liantong_res_qc.groupby(by = ['地市']).agg({'地市':'count'})\n",
    "    liantong_linshi_2.columns = [name+'联通总站址']\n",
    "    dishi[name+'联通总站址'] = 0\n",
    "    dishi[name+'联通总站址'].update(liantong_linshi_2[name+'联通总站址'])"
   ]
  },
  {
   "cell_type": "code",
   "execution_count": null,
   "metadata": {
    "ExecuteTime": {
     "end_time": "2020-07-09T07:59:42.181855Z",
     "start_time": "2020-07-09T07:58:58.753Z"
    }
   },
   "outputs": [],
   "source": [
    "dishi"
   ]
  },
  {
   "cell_type": "code",
   "execution_count": 22,
   "metadata": {
    "ExecuteTime": {
     "end_time": "2020-07-09T08:00:48.603790Z",
     "start_time": "2020-07-09T08:00:48.596289Z"
    }
   },
   "outputs": [],
   "source": [
    "a= dishi.sum()\n",
    "a.name = '总计'\n",
    "dishi =dishi.append(a)"
   ]
  },
  {
   "cell_type": "code",
   "execution_count": null,
   "metadata": {
    "ExecuteTime": {
     "end_time": "2020-07-09T07:59:42.194357Z",
     "start_time": "2020-07-09T07:59:00.289Z"
    }
   },
   "outputs": [],
   "source": [
    "dishi"
   ]
  },
  {
   "cell_type": "code",
   "execution_count": 23,
   "metadata": {
    "ExecuteTime": {
     "end_time": "2020-07-09T08:00:54.049481Z",
     "start_time": "2020-07-09T08:00:54.010976Z"
    }
   },
   "outputs": [],
   "source": [
    "dishi.to_clipboard()"
   ]
  },
  {
   "cell_type": "code",
   "execution_count": null,
   "metadata": {
    "ExecuteTime": {
     "end_time": "2020-07-06T05:47:46.988033Z",
     "start_time": "2020-07-06T05:47:46.979532Z"
    }
   },
   "outputs": [],
   "source": [
    "dishi.iloc[0:1,0:2]"
   ]
  },
  {
   "cell_type": "code",
   "execution_count": null,
   "metadata": {},
   "outputs": [],
   "source": []
  }
 ],
 "metadata": {
  "kernelspec": {
   "display_name": "Python 3",
   "language": "python",
   "name": "python3"
  },
  "language_info": {
   "codemirror_mode": {
    "name": "ipython",
    "version": 3
   },
   "file_extension": ".py",
   "mimetype": "text/x-python",
   "name": "python",
   "nbconvert_exporter": "python",
   "pygments_lexer": "ipython3",
   "version": "3.7.4"
  },
  "toc": {
   "base_numbering": 1,
   "nav_menu": {},
   "number_sections": true,
   "sideBar": true,
   "skip_h1_title": false,
   "title_cell": "Table of Contents",
   "title_sidebar": "Contents",
   "toc_cell": false,
   "toc_position": {},
   "toc_section_display": true,
   "toc_window_display": false
  },
  "varInspector": {
   "cols": {
    "lenName": 16,
    "lenType": 16,
    "lenVar": 40
   },
   "kernels_config": {
    "python": {
     "delete_cmd_postfix": "",
     "delete_cmd_prefix": "del ",
     "library": "var_list.py",
     "varRefreshCmd": "print(var_dic_list())"
    },
    "r": {
     "delete_cmd_postfix": ") ",
     "delete_cmd_prefix": "rm(",
     "library": "var_list.r",
     "varRefreshCmd": "cat(var_dic_list()) "
    }
   },
   "types_to_exclude": [
    "module",
    "function",
    "builtin_function_or_method",
    "instance",
    "_Feature"
   ],
   "window_display": false
  }
 },
 "nbformat": 4,
 "nbformat_minor": 2
}
