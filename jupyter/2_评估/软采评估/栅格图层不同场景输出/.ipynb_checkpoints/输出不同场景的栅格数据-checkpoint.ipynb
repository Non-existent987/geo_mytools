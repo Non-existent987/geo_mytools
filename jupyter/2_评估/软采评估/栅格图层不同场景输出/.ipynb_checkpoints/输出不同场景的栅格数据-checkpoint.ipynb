{
 "cells": [
  {
   "cell_type": "code",
   "execution_count": 45,
   "metadata": {},
   "outputs": [
    {
     "name": "stdout",
     "output_type": "stream",
     "text": [
      "The autoreload extension is already loaded. To reload it, use:\n",
      "  %reload_ext autoreload\n"
     ]
    }
   ],
   "source": [
    "%load_ext autoreload\n",
    "%autoreload 2"
   ]
  },
  {
   "cell_type": "code",
   "execution_count": 64,
   "metadata": {},
   "outputs": [],
   "source": [
    "import geopandas as gpd\n",
    "import pandas as pd\n",
    "import mytools\n",
    "import importlib\n",
    "importlib.reload(mytools)\n",
    "from shapely.geometry import Polygon,Point\n",
    "from geographiclib.geodesic import Geodesic"
   ]
  },
  {
   "cell_type": "code",
   "execution_count": 47,
   "metadata": {},
   "outputs": [],
   "source": [
    "def ppp(changjing_polygon):\n",
    "    min_lon,min_lat,max_lon,max_lat=changjing_polygon\n",
    "    tu = Polygon([(min_lon,min_lat),(max_lon,min_lat),(max_lon,max_lat),(min_lon,max_lat),(min_lon,min_lat)])\n",
    "    return tu"
   ]
  },
  {
   "cell_type": "code",
   "execution_count": 48,
   "metadata": {},
   "outputs": [],
   "source": [
    "def __fwjuli(lonlat=['lon','lat'],juli = 70):\n",
    "    lon,lat = lonlat\n",
    "    list_lonlat = []\n",
    "    p_1=Geodesic.WGS84.Direct(lat, lon, 45, juli)\n",
    "    p_2=Geodesic.WGS84.Direct(lat, lon, 225, juli)\n",
    "    max_lon = p_1['lon2']\n",
    "    max_lat = p_1['lat2']\n",
    "    min_lon = p_2['lon2']\n",
    "    min_lat = p_2['lat2']\n",
    "    tu2 = [(min_lon,min_lat),(max_lon,min_lat),(max_lon,max_lat),(min_lon,max_lat),(min_lon,min_lat)]\n",
    "    tu = Polygon([(min_lon,min_lat),(max_lon,min_lat),(max_lon,max_lat),(min_lon,max_lat),(min_lon,min_lat)])\n",
    "    return tu\n"
   ]
  },
  {
   "cell_type": "code",
   "execution_count": 49,
   "metadata": {},
   "outputs": [],
   "source": [
    "coverage='G:/1-规划/图层/全省区域规划图层20180510/全省区域规划图层20180510/全省区域规划图层20180510.TAB'\n",
    "changjing = gpd.read_file(coverage,encoding = 'gbk')"
   ]
  },
  {
   "cell_type": "code",
   "execution_count": 50,
   "metadata": {},
   "outputs": [
    {
     "data": {
      "text/plain": [
       "Index(['地市名称', '县市名称', '区域名称', '区域类型', '覆盖面积', 'geometry'], dtype='object')"
      ]
     },
     "execution_count": 50,
     "metadata": {},
     "output_type": "execute_result"
    }
   ],
   "source": [
    "changjing.columns"
   ]
  },
  {
   "cell_type": "code",
   "execution_count": 51,
   "metadata": {},
   "outputs": [
    {
     "data": {
      "text/html": [
       "<div>\n",
       "<style scoped>\n",
       "    .dataframe tbody tr th:only-of-type {\n",
       "        vertical-align: middle;\n",
       "    }\n",
       "\n",
       "    .dataframe tbody tr th {\n",
       "        vertical-align: top;\n",
       "    }\n",
       "\n",
       "    .dataframe thead th {\n",
       "        text-align: right;\n",
       "    }\n",
       "</style>\n",
       "<table border=\"1\" class=\"dataframe\">\n",
       "  <thead>\n",
       "    <tr style=\"text-align: right;\">\n",
       "      <th></th>\n",
       "      <th>地市名称</th>\n",
       "      <th>县市名称</th>\n",
       "      <th>区域名称</th>\n",
       "      <th>覆盖面积</th>\n",
       "      <th>geometry</th>\n",
       "    </tr>\n",
       "    <tr>\n",
       "      <th>区域类型</th>\n",
       "      <th></th>\n",
       "      <th></th>\n",
       "      <th></th>\n",
       "      <th></th>\n",
       "      <th></th>\n",
       "    </tr>\n",
       "  </thead>\n",
       "  <tbody>\n",
       "    <tr>\n",
       "      <td>3A景区</td>\n",
       "      <td>91</td>\n",
       "      <td>91</td>\n",
       "      <td>91</td>\n",
       "      <td>91</td>\n",
       "      <td>91</td>\n",
       "    </tr>\n",
       "    <tr>\n",
       "      <td>4A景区</td>\n",
       "      <td>79</td>\n",
       "      <td>79</td>\n",
       "      <td>79</td>\n",
       "      <td>79</td>\n",
       "      <td>79</td>\n",
       "    </tr>\n",
       "    <tr>\n",
       "      <td>5A景区</td>\n",
       "      <td>10</td>\n",
       "      <td>10</td>\n",
       "      <td>10</td>\n",
       "      <td>10</td>\n",
       "      <td>10</td>\n",
       "    </tr>\n",
       "    <tr>\n",
       "      <td>一般城区</td>\n",
       "      <td>23</td>\n",
       "      <td>23</td>\n",
       "      <td>23</td>\n",
       "      <td>23</td>\n",
       "      <td>23</td>\n",
       "    </tr>\n",
       "    <tr>\n",
       "      <td>主城区</td>\n",
       "      <td>16</td>\n",
       "      <td>16</td>\n",
       "      <td>16</td>\n",
       "      <td>16</td>\n",
       "      <td>16</td>\n",
       "    </tr>\n",
       "    <tr>\n",
       "      <td>乡镇</td>\n",
       "      <td>1201</td>\n",
       "      <td>1201</td>\n",
       "      <td>1201</td>\n",
       "      <td>1201</td>\n",
       "      <td>1201</td>\n",
       "    </tr>\n",
       "    <tr>\n",
       "      <td>县城</td>\n",
       "      <td>73</td>\n",
       "      <td>73</td>\n",
       "      <td>73</td>\n",
       "      <td>73</td>\n",
       "      <td>73</td>\n",
       "    </tr>\n",
       "    <tr>\n",
       "      <td>景区</td>\n",
       "      <td>1</td>\n",
       "      <td>1</td>\n",
       "      <td>1</td>\n",
       "      <td>1</td>\n",
       "      <td>1</td>\n",
       "    </tr>\n",
       "    <tr>\n",
       "      <td>热点</td>\n",
       "      <td>84</td>\n",
       "      <td>84</td>\n",
       "      <td>84</td>\n",
       "      <td>84</td>\n",
       "      <td>84</td>\n",
       "    </tr>\n",
       "  </tbody>\n",
       "</table>\n",
       "</div>"
      ],
      "text/plain": [
       "      地市名称  县市名称  区域名称  覆盖面积  geometry\n",
       "区域类型                                  \n",
       "3A景区    91    91    91    91        91\n",
       "4A景区    79    79    79    79        79\n",
       "5A景区    10    10    10    10        10\n",
       "一般城区    23    23    23    23        23\n",
       "主城区     16    16    16    16        16\n",
       "乡镇    1201  1201  1201  1201      1201\n",
       "县城      73    73    73    73        73\n",
       "景区       1     1     1     1         1\n",
       "热点      84    84    84    84        84"
      ]
     },
     "execution_count": 51,
     "metadata": {},
     "output_type": "execute_result"
    }
   ],
   "source": [
    "changjing.groupby(by='区域类型').count()"
   ]
  },
  {
   "cell_type": "code",
   "execution_count": 95,
   "metadata": {},
   "outputs": [],
   "source": [
    "changjing_use = changjing.loc[(changjing['区域类型'].isin (['主城区','一般城区','县城'])) & (changjing['地市名称']=='武汉')]\n",
    "changjing_use = changjing_use.reset_index(drop=True)"
   ]
  },
  {
   "cell_type": "code",
   "execution_count": 53,
   "metadata": {},
   "outputs": [],
   "source": [
    "changjing_polygon = changjing_use.total_bounds\n",
    "changjing_polygon = ppp(changjing_polygon)"
   ]
  },
  {
   "cell_type": "code",
   "execution_count": 54,
   "metadata": {},
   "outputs": [],
   "source": [
    "f = mytools.othern.file_name_paths(path='G:/1-规划/图层/栅格/亿阳算法的全省100米栅格/',\n",
    "    find=None,\n",
    "    case_sensitive=False)"
   ]
  },
  {
   "cell_type": "code",
   "execution_count": 75,
   "metadata": {},
   "outputs": [],
   "source": [
    "data_res_ddd = data_res.copy()"
   ]
  },
  {
   "cell_type": "code",
   "execution_count": 79,
   "metadata": {},
   "outputs": [],
   "source": [
    "data_res_ddd = data_res_ddd.append(data_res)"
   ]
  },
  {
   "cell_type": "code",
   "execution_count": 80,
   "metadata": {},
   "outputs": [
    {
     "data": {
      "text/plain": [
       "(614745, 10)"
      ]
     },
     "execution_count": 80,
     "metadata": {},
     "output_type": "execute_result"
    }
   ],
   "source": [
    "data_res_ddd.shape"
   ]
  },
  {
   "cell_type": "code",
   "execution_count": 78,
   "metadata": {
    "scrolled": false
   },
   "outputs": [
    {
     "name": "stderr",
     "output_type": "stream",
     "text": [
      "IllegalArgumentException: Points of LinearRing do not form a closed linestring\n",
      "Shell is not a LinearRing\n"
     ]
    },
    {
     "name": "stdout",
     "output_type": "stream",
     "text": [
      "40 G:/1-规划/图层/栅格/亿阳算法的全省100米栅格/50RMT.csv 1 (0, 10)\n",
      "41 G:/1-规划/图层/栅格/亿阳算法的全省100米栅格/50RMU.csv 2 (73, 10)\n",
      "42 G:/1-规划/图层/栅格/亿阳算法的全省100米栅格/50RMV.csv 3 (73, 10)\n"
     ]
    }
   ],
   "source": [
    "names = list()\n",
    "data_res = gpd.GeoDataFrame()\n",
    "n = 1\n",
    "for name in f:\n",
    "    if n>39:\n",
    "        data_t = pd.read_csv(name,header=None,encoding='gbk')\n",
    "        data_t.columns = ['id','lat','lon']\n",
    "        data_t_p = mytools.gisn.add_points(data_t,'lon','lat')\n",
    "        data_t_p_polygon = data_t_p.total_bounds\n",
    "        data_t_p_polygon = ppp(data_t_p_polygon)\n",
    "        try:\n",
    "            a = data_t_p_polygon.intersection(changjing_polygon)\n",
    "        except:\n",
    "            pass\n",
    "        if a:\n",
    "            names.append(name)\n",
    "            data_sjoin = gpd.sjoin(data_t_p,changjing_use)\n",
    "            data_res = data_res.append(data_sjoin)\n",
    "        print(n,name,len(names),data_res.shape)\n",
    "    n = n+1"
   ]
  },
  {
   "cell_type": "code",
   "execution_count": 82,
   "metadata": {},
   "outputs": [],
   "source": [
    "data_res_ddd_use = data_res_ddd[['id', 'lat', 'lon', '区域类型']]"
   ]
  },
  {
   "cell_type": "code",
   "execution_count": 86,
   "metadata": {},
   "outputs": [],
   "source": [
    "data_res_ddd_use.columns = ['id', 'lat', 'lon', 'leixing']"
   ]
  },
  {
   "cell_type": "code",
   "execution_count": 87,
   "metadata": {},
   "outputs": [
    {
     "name": "stderr",
     "output_type": "stream",
     "text": [
      "C:\\ProgramData\\Anaconda3\\lib\\site-packages\\ipykernel_launcher.py:1: SettingWithCopyWarning: \n",
      "A value is trying to be set on a copy of a slice from a DataFrame.\n",
      "Try using .loc[row_indexer,col_indexer] = value instead\n",
      "\n",
      "See the caveats in the documentation: http://pandas.pydata.org/pandas-docs/stable/user_guide/indexing.html#returning-a-view-versus-a-copy\n",
      "  \"\"\"Entry point for launching an IPython kernel.\n"
     ]
    }
   ],
   "source": [
    "data_res_ddd_use['leixing']= data_res_ddd_use['leixing'].replace({'县城':'3','一般城区':'2','主城区':'1'})"
   ]
  },
  {
   "cell_type": "code",
   "execution_count": 88,
   "metadata": {},
   "outputs": [],
   "source": [
    "data_res_ddd_use.to_csv('d:/gogogo.csv')"
   ]
  },
  {
   "cell_type": "code",
   "execution_count": 89,
   "metadata": {},
   "outputs": [],
   "source": [
    "#生成100米的方框geopandas\n",
    "df = data_res_ddd_use.copy()\n",
    "df['geometry'] = [__fwjuli(x) for x in zip(df['lon'],df['lat'])]\n",
    "df = gpd.GeoDataFrame(df, crs={\"init\": \"epsg:4326\"}, geometry='geometry')"
   ]
  },
  {
   "cell_type": "code",
   "execution_count": 90,
   "metadata": {},
   "outputs": [],
   "source": [
    "df1 = df.reset_index(drop=True)"
   ]
  },
  {
   "cell_type": "code",
   "execution_count": 91,
   "metadata": {},
   "outputs": [],
   "source": [
    "df1.to_file('d:/aaooooo.shp',encoding = 'utf-8')"
   ]
  },
  {
   "cell_type": "code",
   "execution_count": 97,
   "metadata": {},
   "outputs": [],
   "source": [
    "res_ggd = gpd.sjoin(df1,changjing_use)"
   ]
  },
  {
   "cell_type": "code",
   "execution_count": 98,
   "metadata": {},
   "outputs": [
    {
     "data": {
      "text/plain": [
       "Index(['id', 'lat', 'lon', 'leixing', 'geometry', 'index_right', '地市名称',\n",
       "       '县市名称', '区域名称', '区域类型', '覆盖面积'],\n",
       "      dtype='object')"
      ]
     },
     "execution_count": 98,
     "metadata": {},
     "output_type": "execute_result"
    }
   ],
   "source": [
    "res_ggd.columns"
   ]
  },
  {
   "cell_type": "code",
   "execution_count": 99,
   "metadata": {},
   "outputs": [],
   "source": [
    "res_ggd2 = res_ggd[['id', 'lat', 'lon', 'leixing', 'geometry']]"
   ]
  },
  {
   "cell_type": "code",
   "execution_count": 100,
   "metadata": {},
   "outputs": [],
   "source": [
    "res_ggd2.to_file('d:/aaooooo.shp',encoding = 'utf-8')"
   ]
  },
  {
   "cell_type": "code",
   "execution_count": null,
   "metadata": {},
   "outputs": [],
   "source": []
  }
 ],
 "metadata": {
  "kernelspec": {
   "display_name": "Python 3",
   "language": "python",
   "name": "python3"
  },
  "language_info": {
   "codemirror_mode": {
    "name": "ipython",
    "version": 3
   },
   "file_extension": ".py",
   "mimetype": "text/x-python",
   "name": "python",
   "nbconvert_exporter": "python",
   "pygments_lexer": "ipython3",
   "version": "3.7.4"
  }
 },
 "nbformat": 4,
 "nbformat_minor": 2
}
