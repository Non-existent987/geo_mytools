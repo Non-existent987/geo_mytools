{
 "cells": [
  {
   "cell_type": "markdown",
   "metadata": {},
   "source": [
    "# -------------------软采小区各地市覆盖评估----------------------\n",
    "###   ：使用整理好的软采小区和栅格数据进行各地市的覆盖评估"
   ]
  },
  {
   "cell_type": "code",
   "execution_count": 1,
   "metadata": {
    "ExecuteTime": {
     "end_time": "2020-02-08T08:57:40.496243Z",
     "start_time": "2020-02-08T08:57:39.999215Z"
    }
   },
   "outputs": [],
   "source": [
    "%load_ext autoreload\n",
    "%autoreload 2"
   ]
  },
  {
   "cell_type": "code",
   "execution_count": 2,
   "metadata": {
    "ExecuteTime": {
     "end_time": "2020-02-08T08:57:41.590306Z",
     "start_time": "2020-02-08T08:57:41.129280Z"
    }
   },
   "outputs": [],
   "source": [
    "import pandas as pd\n",
    "import geopandas as gpd\n",
    "import mytools"
   ]
  },
  {
   "cell_type": "markdown",
   "metadata": {},
   "source": [
    "## ----------导入软采小区数据----------"
   ]
  },
  {
   "cell_type": "code",
   "execution_count": 3,
   "metadata": {
    "ExecuteTime": {
     "end_time": "2020-02-08T08:57:45.385514Z",
     "start_time": "2020-02-08T08:57:42.797373Z"
    }
   },
   "outputs": [],
   "source": [
    "ruancai_cel = pd.read_csv(open('H:/1-规划/评估/软采评估/2019第四季度/软采小区/moncgi.csv',encoding='utf-8'),sep='\\t')"
   ]
  },
  {
   "cell_type": "code",
   "execution_count": 4,
   "metadata": {
    "ExecuteTime": {
     "end_time": "2020-02-08T08:57:45.943546Z",
     "start_time": "2020-02-08T08:57:45.390514Z"
    }
   },
   "outputs": [],
   "source": [
    "day,city,cgi,cell_name,rsrp_count,rsrp_weak,un_count,un_weak,te_count,te_weak = [\n",
    "    'a.day', 'a.region_name', 'a.eutrancell_cgi', 'a.eutrancell_name','a.rsrp_sample_count', \n",
    "    'a.rsrp_weak', 'a.un_maxrsrp_sample_count', 'a.un_maxrsrp_weak_l2', 'a.te_maxrsrp_sample_count', 'a.te_maxrsrp_weak_l2']"
   ]
  },
  {
   "cell_type": "code",
   "execution_count": 5,
   "metadata": {
    "ExecuteTime": {
     "end_time": "2020-02-08T08:57:46.483575Z",
     "start_time": "2020-02-08T08:57:45.946546Z"
    }
   },
   "outputs": [],
   "source": [
    "ruancai_cel_use  = ruancai_cel[[day,city,cgi,cell_name,rsrp_count,rsrp_weak,un_count,un_weak,te_count,te_weak]]"
   ]
  },
  {
   "cell_type": "code",
   "execution_count": 6,
   "metadata": {
    "ExecuteTime": {
     "end_time": "2020-02-08T08:57:53.193945Z",
     "start_time": "2020-02-08T08:57:46.487575Z"
    }
   },
   "outputs": [],
   "source": [
    "gongcan = pd.read_csv(open('h:/1-规划/工参/工参数据/ltejizhan20200108.csv',encoding='gbk'),usecols=['小区CGI(*)','所属地区','归属区县','RRU经度','RRU纬度'])"
   ]
  },
  {
   "cell_type": "code",
   "execution_count": 7,
   "metadata": {
    "ExecuteTime": {
     "end_time": "2020-02-08T08:57:53.724973Z",
     "start_time": "2020-02-08T08:57:53.195945Z"
    }
   },
   "outputs": [],
   "source": [
    "gongcan_cgi,gongcan_city,gongcan_qx,gongcan_lon,gongcan_lat=['小区CGI(*)','所属地区','归属区县','RRU经度','RRU纬度']"
   ]
  },
  {
   "cell_type": "code",
   "execution_count": 8,
   "metadata": {
    "ExecuteTime": {
     "end_time": "2020-02-08T08:57:54.389009Z",
     "start_time": "2020-02-08T08:57:53.727973Z"
    }
   },
   "outputs": [],
   "source": [
    "ruancai_cel = ruancai_cel.reset_index(drop=True).reset_index()"
   ]
  },
  {
   "cell_type": "code",
   "execution_count": 9,
   "metadata": {
    "ExecuteTime": {
     "end_time": "2020-02-08T08:57:56.102105Z",
     "start_time": "2020-02-08T08:57:54.393009Z"
    }
   },
   "outputs": [],
   "source": [
    "ruancai_cel_addgongcan = ruancai_cel.merge(gongcan,how='left',left_on=cgi,right_on=gongcan_cgi).drop_duplicates('index').drop(columns='index')"
   ]
  },
  {
   "cell_type": "code",
   "execution_count": 10,
   "metadata": {
    "ExecuteTime": {
     "end_time": "2020-02-08T08:59:46.260294Z",
     "start_time": "2020-02-08T08:57:56.107105Z"
    }
   },
   "outputs": [
    {
     "name": "stderr",
     "output_type": "stream",
     "text": [
      "C:\\ProgramData\\Anaconda3\\lib\\site-packages\\numpy\\lib\\function_base.py:2167: RuntimeWarning: invalid value encountered in ? (vectorized)\n",
      "  outputs = ufunc(*inputs)\n"
     ]
    }
   ],
   "source": [
    "ruancai_cel_addgongcan_addchngjing = mytools.gisn.points_coverage_merge(ruancai_cel_addgongcan,\n",
    "    lon=gongcan_lon,\n",
    "    lat=gongcan_lat,\n",
    "    coverage='h:/1-规划/图层/全省区域规划图层20180510/全省区域规划图层20180510/全省区域规划图层20180510.TAB',\n",
    "    df_merge_coverage_columns=['区域类型'],\n",
    "    merge_only_right_mark='农村')"
   ]
  },
  {
   "cell_type": "code",
   "execution_count": 11,
   "metadata": {
    "ExecuteTime": {
     "end_time": "2020-02-08T09:00:41.386003Z",
     "start_time": "2020-02-08T08:59:46.263294Z"
    },
    "scrolled": true
   },
   "outputs": [
    {
     "name": "stderr",
     "output_type": "stream",
     "text": [
      "C:\\ProgramData\\Anaconda3\\lib\\site-packages\\numpy\\lib\\function_base.py:2167: RuntimeWarning: invalid value encountered in ? (vectorized)\n",
      "  outputs = ufunc(*inputs)\n"
     ]
    }
   ],
   "source": [
    "ruancai_cel_addgongcan_addchngjing_addqx = mytools.gisn.points_coverage_merge(ruancai_cel_addgongcan_addchngjing,\n",
    "    lon=gongcan_lon,\n",
    "    lat=gongcan_lat,\n",
    "    coverage='h:/1-规划/图层/全省县界/全省县界/县界.tab',\n",
    "    df_merge_coverage_columns=['NAME'],\n",
    "    merge_only_right_mark='无')"
   ]
  },
  {
   "cell_type": "code",
   "execution_count": 12,
   "metadata": {
    "ExecuteTime": {
     "end_time": "2020-02-08T09:01:17.434969Z",
     "start_time": "2020-02-08T09:00:41.389003Z"
    }
   },
   "outputs": [
    {
     "name": "stderr",
     "output_type": "stream",
     "text": [
      "C:\\ProgramData\\Anaconda3\\lib\\site-packages\\pyproj\\crs.py:77: FutureWarning: '+init=<authority>:<code>' syntax is deprecated. '<authority>:<code>' is the preferred initialization method.\n",
      "  return _prepare_from_string(\" \".join(pjargs))\n",
      "C:\\ProgramData\\Anaconda3\\lib\\site-packages\\numpy\\lib\\function_base.py:2167: RuntimeWarning: invalid value encountered in ? (vectorized)\n",
      "  outputs = ufunc(*inputs)\n"
     ]
    }
   ],
   "source": [
    "ruancai_cel_addgongcan_addchngjing_addqx_add_wuhanqx = mytools.gisn.points_coverage_merge(ruancai_cel_addgongcan_addchngjing_addqx,\n",
    "    lon=gongcan_lon,\n",
    "    lat=gongcan_lat,\n",
    "    coverage='h:/1-规划/图层/武汉分公司图层20190109/武汉市区分公司区域图层201804版/武汉市区分公司区域图层201804版/武汉市区分公司区域图层201804版.TAB',\n",
    "    df_merge_coverage_columns=['区分公司名称'],\n",
    "    merge_only_right_mark='无')"
   ]
  },
  {
   "cell_type": "code",
   "execution_count": 13,
   "metadata": {
    "ExecuteTime": {
     "end_time": "2020-02-08T09:02:11.907744Z",
     "start_time": "2020-02-08T09:01:17.437970Z"
    }
   },
   "outputs": [
    {
     "name": "stderr",
     "output_type": "stream",
     "text": [
      "C:\\ProgramData\\Anaconda3\\lib\\site-packages\\pyproj\\crs.py:77: FutureWarning: '+init=<authority>:<code>' syntax is deprecated. '<authority>:<code>' is the preferred initialization method.\n",
      "  return _prepare_from_string(\" \".join(pjargs))\n",
      "C:\\ProgramData\\Anaconda3\\lib\\site-packages\\numpy\\lib\\function_base.py:2167: RuntimeWarning: invalid value encountered in ? (vectorized)\n",
      "  outputs = ufunc(*inputs)\n"
     ]
    }
   ],
   "source": [
    "ruancai_cel_addcity = mytools.gisn.points_coverage_merge(ruancai_cel_addgongcan_addchngjing_addqx_add_wuhanqx,\n",
    "    lon=gongcan_lon,\n",
    "    lat=gongcan_lat,\n",
    "    coverage='h:/1-规划/图层/湖北省地市-边界-边界/全省地市边界.TAB',\n",
    "    df_merge_coverage_columns=['kkk'],\n",
    "    merge_only_right_mark='无')"
   ]
  },
  {
   "cell_type": "code",
   "execution_count": 14,
   "metadata": {
    "ExecuteTime": {
     "end_time": "2020-02-08T09:02:12.579580Z",
     "start_time": "2020-02-08T09:02:11.910744Z"
    }
   },
   "outputs": [],
   "source": [
    "ruancai_cel_addcity['kkk'] = ruancai_cel_addcity['kkk'].str.replace('市','')"
   ]
  },
  {
   "cell_type": "code",
   "execution_count": 15,
   "metadata": {
    "ExecuteTime": {
     "end_time": "2020-02-08T09:02:13.043606Z",
     "start_time": "2020-02-08T09:02:12.582580Z"
    }
   },
   "outputs": [],
   "source": [
    "ruancai_use = ruancai_cel_addcity[[gongcan_city,gongcan_qx,rsrp_count,rsrp_weak,'NAME','区分公司名称']]"
   ]
  },
  {
   "cell_type": "code",
   "execution_count": 16,
   "metadata": {
    "ExecuteTime": {
     "end_time": "2020-02-08T09:02:14.337275Z",
     "start_time": "2020-02-08T09:02:13.045607Z"
    }
   },
   "outputs": [
    {
     "name": "stderr",
     "output_type": "stream",
     "text": [
      "C:\\ProgramData\\Anaconda3\\lib\\site-packages\\ipykernel_launcher.py:1: SettingWithCopyWarning: \n",
      "A value is trying to be set on a copy of a slice from a DataFrame.\n",
      "Try using .loc[row_indexer,col_indexer] = value instead\n",
      "\n",
      "See the caveats in the documentation: http://pandas.pydata.org/pandas-docs/stable/indexing.html#indexing-view-versus-copy\n",
      "  \"\"\"Entry point for launching an IPython kernel.\n"
     ]
    }
   ],
   "source": [
    "ruancai_use['fgl'] = 1-ruancai_use[rsrp_weak]/ruancai_use[rsrp_count]"
   ]
  },
  {
   "cell_type": "code",
   "execution_count": 17,
   "metadata": {
    "ExecuteTime": {
     "end_time": "2020-02-08T09:02:15.472138Z",
     "start_time": "2020-02-08T09:02:14.340275Z"
    },
    "scrolled": true
   },
   "outputs": [
    {
     "name": "stderr",
     "output_type": "stream",
     "text": [
      "C:\\ProgramData\\Anaconda3\\lib\\site-packages\\pandas\\core\\indexing.py:362: SettingWithCopyWarning: \n",
      "A value is trying to be set on a copy of a slice from a DataFrame.\n",
      "Try using .loc[row_indexer,col_indexer] = value instead\n",
      "\n",
      "See the caveats in the documentation: http://pandas.pydata.org/pandas-docs/stable/indexing.html#indexing-view-versus-copy\n",
      "  self.obj[key] = _infer_fill_value(value)\n",
      "C:\\ProgramData\\Anaconda3\\lib\\site-packages\\pandas\\core\\indexing.py:543: SettingWithCopyWarning: \n",
      "A value is trying to be set on a copy of a slice from a DataFrame.\n",
      "Try using .loc[row_indexer,col_indexer] = value instead\n",
      "\n",
      "See the caveats in the documentation: http://pandas.pydata.org/pandas-docs/stable/indexing.html#indexing-view-versus-copy\n",
      "  self.obj[item] = s\n"
     ]
    }
   ],
   "source": [
    "ruancai_use.loc[ruancai_use['fgl']<0.9,'弱覆盖小区']=1"
   ]
  },
  {
   "cell_type": "markdown",
   "metadata": {},
   "source": [
    "### -----软采小区整理-全网指标-----"
   ]
  },
  {
   "cell_type": "code",
   "execution_count": 18,
   "metadata": {
    "ExecuteTime": {
     "end_time": "2020-02-08T09:02:15.938164Z",
     "start_time": "2020-02-08T09:02:15.479138Z"
    }
   },
   "outputs": [],
   "source": [
    "#覆盖率"
   ]
  },
  {
   "cell_type": "code",
   "execution_count": 19,
   "metadata": {
    "ExecuteTime": {
     "end_time": "2020-02-08T09:02:16.579998Z",
     "start_time": "2020-02-08T09:02:15.940164Z"
    }
   },
   "outputs": [],
   "source": [
    "ruancai_quanwang = ruancai_use.groupby(gongcan_city).agg({rsrp_count:'sum',rsrp_weak:'sum'})"
   ]
  },
  {
   "cell_type": "code",
   "execution_count": 20,
   "metadata": {
    "ExecuteTime": {
     "end_time": "2020-02-08T09:02:17.033024Z",
     "start_time": "2020-02-08T09:02:16.582999Z"
    }
   },
   "outputs": [],
   "source": [
    "a = ruancai_quanwang.sum()\n",
    "a.name='全网'\n",
    "ruancai_quanwang = ruancai_quanwang.append(a)"
   ]
  },
  {
   "cell_type": "code",
   "execution_count": 21,
   "metadata": {
    "ExecuteTime": {
     "end_time": "2020-02-08T09:02:17.489848Z",
     "start_time": "2020-02-08T09:02:17.035024Z"
    }
   },
   "outputs": [],
   "source": [
    "ruancai_quanwang['全网移动覆盖率'] = 1-ruancai_quanwang[rsrp_weak]/ruancai_quanwang[rsrp_count]"
   ]
  },
  {
   "cell_type": "code",
   "execution_count": 22,
   "metadata": {
    "ExecuteTime": {
     "end_time": "2020-02-08T09:02:17.953874Z",
     "start_time": "2020-02-08T09:02:17.491848Z"
    }
   },
   "outputs": [],
   "source": [
    "ruancai_quanwnag_use = mytools.othern.df_sort(ruancai_quanwang.reset_index(),\n",
    "    columns=['全网移动覆盖率'],\n",
    "    sort_columns='全网移动覆盖率',\n",
    "    ascending=False)"
   ]
  },
  {
   "cell_type": "code",
   "execution_count": 23,
   "metadata": {
    "ExecuteTime": {
     "end_time": "2020-02-08T09:02:18.410698Z",
     "start_time": "2020-02-08T09:02:17.955874Z"
    }
   },
   "outputs": [],
   "source": [
    "ruancai_quanwnag_use.columns = ['全网-指标', '移动总点', '移动弱点', '全网移动覆盖率']"
   ]
  },
  {
   "cell_type": "code",
   "execution_count": 25,
   "metadata": {
    "scrolled": true
   },
   "outputs": [],
   "source": [
    "mytools.othern.pickle_save(ruancai_quanwnag_use,'H:/1-规划/评估/软采评估/2019第四季度/软采小区/使用的临时数据/dict_qw_fgl.data')"
   ]
  },
  {
   "cell_type": "code",
   "execution_count": 27,
   "metadata": {
    "ExecuteTime": {
     "end_time": "2020-02-08T09:02:18.861724Z",
     "start_time": "2020-02-08T09:02:18.412698Z"
    }
   },
   "outputs": [],
   "source": [
    "#弱覆盖小区占比"
   ]
  },
  {
   "cell_type": "code",
   "execution_count": 28,
   "metadata": {
    "ExecuteTime": {
     "end_time": "2020-02-08T09:02:19.475556Z",
     "start_time": "2020-02-08T09:02:18.867724Z"
    }
   },
   "outputs": [],
   "source": [
    "ruancai_quanwang_zhanbi = ruancai_use.groupby(gongcan_city).agg({'所属地区':'count','弱覆盖小区':'sum'})"
   ]
  },
  {
   "cell_type": "code",
   "execution_count": 29,
   "metadata": {
    "ExecuteTime": {
     "end_time": "2020-02-08T09:02:20.007587Z",
     "start_time": "2020-02-08T09:02:19.480556Z"
    }
   },
   "outputs": [],
   "source": [
    "a = ruancai_quanwang_zhanbi.sum()\n",
    "a.name='全网'\n",
    "ruancai_quanwang_zhanbi = ruancai_quanwang_zhanbi.append(a)"
   ]
  },
  {
   "cell_type": "code",
   "execution_count": 30,
   "metadata": {
    "ExecuteTime": {
     "end_time": "2020-02-08T09:02:20.481010Z",
     "start_time": "2020-02-08T09:02:20.012587Z"
    },
    "scrolled": true
   },
   "outputs": [],
   "source": [
    "ruancai_quanwang_zhanbi['弱覆盖小区占比'] = ruancai_quanwang_zhanbi['弱覆盖小区']/ruancai_quanwang_zhanbi['所属地区']"
   ]
  },
  {
   "cell_type": "code",
   "execution_count": 31,
   "metadata": {
    "ExecuteTime": {
     "end_time": "2020-02-08T09:02:20.942037Z",
     "start_time": "2020-02-08T09:02:20.484010Z"
    }
   },
   "outputs": [],
   "source": [
    "ruancai_quanwang_zhanbi.columns = ['总小区数', '弱覆盖小区数', '弱覆盖小区占比']"
   ]
  },
  {
   "cell_type": "code",
   "execution_count": 32,
   "metadata": {
    "ExecuteTime": {
     "end_time": "2020-02-08T09:02:21.397063Z",
     "start_time": "2020-02-08T09:02:20.944037Z"
    }
   },
   "outputs": [],
   "source": [
    "ruancai_zhanbi = mytools.othern.df_sort(ruancai_quanwang_zhanbi.reset_index(),\n",
    "    columns=['弱覆盖小区占比'],\n",
    "    sort_columns='弱覆盖小区占比',\n",
    "    ascending=False)"
   ]
  },
  {
   "cell_type": "code",
   "execution_count": 33,
   "metadata": {},
   "outputs": [],
   "source": [
    "mytools.othern.pickle_save(ruancai_zhanbi,'H:/1-规划/评估/软采评估/2019第四季度/软采小区/使用的临时数据/dict_qw_zb.data')"
   ]
  },
  {
   "cell_type": "markdown",
   "metadata": {},
   "source": [
    "### -----软采小区整理-区县指标-----"
   ]
  },
  {
   "cell_type": "code",
   "execution_count": 34,
   "metadata": {
    "ExecuteTime": {
     "end_time": "2020-02-08T09:02:21.852886Z",
     "start_time": "2020-02-08T09:02:21.399063Z"
    }
   },
   "outputs": [],
   "source": [
    "citys = ['孝感','襄阳','咸宁','随州','十堰','荆州','荆门','黄石','鄂州','黄冈','恩施','宜昌','潜江','天门','江汉','武汉']"
   ]
  },
  {
   "cell_type": "code",
   "execution_count": 35,
   "metadata": {
    "ExecuteTime": {
     "end_time": "2020-02-08T09:02:22.314913Z",
     "start_time": "2020-02-08T09:02:21.854886Z"
    }
   },
   "outputs": [],
   "source": [
    "#覆盖率"
   ]
  },
  {
   "cell_type": "code",
   "execution_count": 36,
   "metadata": {
    "ExecuteTime": {
     "end_time": "2020-02-08T09:02:22.988748Z",
     "start_time": "2020-02-08T09:02:22.316913Z"
    }
   },
   "outputs": [],
   "source": [
    "ruancai_use_qx_fg = ruancai_use[[gongcan_city,gongcan_qx,rsrp_count,rsrp_weak]].groupby([gongcan_city,gongcan_qx]).agg({rsrp_count:'sum',rsrp_weak:'sum'})"
   ]
  },
  {
   "cell_type": "code",
   "execution_count": 37,
   "metadata": {
    "ExecuteTime": {
     "end_time": "2020-02-08T09:02:23.793592Z",
     "start_time": "2020-02-08T09:02:22.990749Z"
    }
   },
   "outputs": [],
   "source": [
    "qx_fg_res = dict()\n",
    "for city_t in citys:\n",
    "    ruancai_use_qx_t = ruancai_use_qx_fg.loc[city_t,]\n",
    "    a = ruancai_use_qx_t.sum()\n",
    "    a.name='总计'\n",
    "    ruancai_use_qx_t = ruancai_use_qx_t.append(a)\n",
    "    ruancai_use_qx_t[rsrp_weak] = pd.to_numeric(ruancai_use_qx_t[rsrp_weak],downcast='integer')\n",
    "    ruancai_use_qx_t[rsrp_count] = pd.to_numeric(ruancai_use_qx_t[rsrp_count],downcast='integer')\n",
    "\n",
    "    ruancai_use_qx_t['移动覆盖率'] = 1-ruancai_use_qx_t[rsrp_weak]/ruancai_use_qx_t[rsrp_count]\n",
    "    ruancai_use_qx_t.columns = ['移动总点', '移动弱点', '移动覆盖率']\n",
    "    ruancai_use_qx_t2 = mytools.othern.df_sort(ruancai_use_qx_t.reset_index(),\n",
    "        columns=['移动覆盖率'],\n",
    "        sort_columns='移动覆盖率',\n",
    "        ascending=False)\n",
    "    ruancai_use_qx_t2 = ruancai_use_qx_t2.loc[ruancai_use_qx_t2[gongcan_qx]!='武汉市']\n",
    "    qx_fg_res[city_t] = ruancai_use_qx_t2"
   ]
  },
  {
   "cell_type": "code",
   "execution_count": 42,
   "metadata": {},
   "outputs": [],
   "source": [
    "mytools.othern.pickle_save(qx_fg_res,'H:/1-规划/评估/软采评估/2019第四季度/软采小区/使用的临时数据/qx_fg_res.data')"
   ]
  },
  {
   "cell_type": "code",
   "execution_count": 38,
   "metadata": {
    "ExecuteTime": {
     "end_time": "2020-02-08T09:02:24.271619Z",
     "start_time": "2020-02-08T09:02:23.795592Z"
    }
   },
   "outputs": [],
   "source": [
    "#弱覆盖小区占比"
   ]
  },
  {
   "cell_type": "code",
   "execution_count": 39,
   "metadata": {
    "ExecuteTime": {
     "end_time": "2020-02-08T09:02:24.829449Z",
     "start_time": "2020-02-08T09:02:24.273619Z"
    }
   },
   "outputs": [],
   "source": [
    "ruancai_use_qx = ruancai_use[[gongcan_city,gongcan_qx,'弱覆盖小区']].groupby([gongcan_city,gongcan_qx]).agg({'所属地区':'count','弱覆盖小区':'sum'})"
   ]
  },
  {
   "cell_type": "code",
   "execution_count": 40,
   "metadata": {
    "ExecuteTime": {
     "end_time": "2020-02-08T09:02:25.514488Z",
     "start_time": "2020-02-08T09:02:24.832449Z"
    }
   },
   "outputs": [],
   "source": [
    "qx_res = dict()\n",
    "for city_t in citys:\n",
    "    ruancai_use_qx_t = ruancai_use_qx.loc[city_t,]\n",
    "    a = ruancai_use_qx_t.sum()\n",
    "    a.name='总计'\n",
    "    ruancai_use_qx_t = ruancai_use_qx_t.append(a)\n",
    "    ruancai_use_qx_t['所属地区'] = pd.to_numeric(ruancai_use_qx_t['所属地区'],downcast='integer')\n",
    "    ruancai_use_qx_t['弱覆盖小区'] = pd.to_numeric(ruancai_use_qx_t['弱覆盖小区'],downcast='integer')\n",
    "\n",
    "    ruancai_use_qx_t['弱覆盖小区占比'] = ruancai_use_qx_t['弱覆盖小区']/ruancai_use_qx_t['所属地区']\n",
    "    ruancai_use_qx_t.columns = ['总小区数', '弱覆盖小区数', '弱覆盖小区占比']\n",
    "    ruancai_use_qx_t2 = mytools.othern.df_sort(ruancai_use_qx_t.reset_index(),\n",
    "        columns=['弱覆盖小区占比'],\n",
    "        sort_columns='弱覆盖小区占比',\n",
    "        ascending=False)\n",
    "    qx_res[city_t] = ruancai_use_qx_t2"
   ]
  },
  {
   "cell_type": "code",
   "execution_count": 41,
   "metadata": {
    "ExecuteTime": {
     "end_time": "2020-02-08T09:02:25.982312Z",
     "start_time": "2020-02-08T09:02:25.517488Z"
    }
   },
   "outputs": [],
   "source": [
    "mytools.othern.pickle_save(qx_res,'H:/1-规划/评估/软采评估/2019第四季度/软采小区/使用的临时数据/dict_qx.data')"
   ]
  },
  {
   "cell_type": "markdown",
   "metadata": {},
   "source": [
    "# ----------导入栅格数据----------"
   ]
  },
  {
   "cell_type": "code",
   "execution_count": null,
   "metadata": {
    "ExecuteTime": {
     "end_time": "2020-02-08T09:02:31.102592Z",
     "start_time": "2020-02-08T09:02:30.569764Z"
    }
   },
   "outputs": [],
   "source": [
    "grid_changjing = pd.read_csv(open('h:/1-规划/评估/软采评估/2019第四季度/栅格/1千500万个栅格11和12月汇总_去重.csv',encoding='utf-8'),chunksize=100000)"
   ]
  },
  {
   "cell_type": "code",
   "execution_count": null,
   "metadata": {
    "ExecuteTime": {
     "end_time": "2020-02-08T09:02:31.557618Z",
     "start_time": "2020-02-08T09:02:31.105592Z"
    }
   },
   "outputs": [],
   "source": [
    "day,city,grid_id,lon,lat,rsrp_count,rsrp_weak,un_count,un_weak,te_count,te_weak,changjing = ['a.day', 'a.region_name', 'a.grid_id', 'lon', 'lat',\n",
    "       'a.rsrp_sample_count', 'a.rsrp_weak', 'a.un_maxrsrp_sum',\n",
    "       'a.un_maxrsrp_weak_l2', 'a.te_maxrsrp_sample_count',\n",
    "       'a.te_maxrsrp_weak_l2', '区域类型']"
   ]
  },
  {
   "cell_type": "code",
   "execution_count": null,
   "metadata": {
    "ExecuteTime": {
     "end_time": "2020-02-08T09:02:59.185931Z",
     "start_time": "2020-02-08T09:02:31.561618Z"
    }
   },
   "outputs": [],
   "source": [
    "data_z = pd.DataFrame()\n",
    "for data_t in grid_changjing:\n",
    "    data_t_use_v2 = mytools.gisn.points_coverage_merge(data_t,lon,lat,coverage='H:/1-规划/图层/湖北省地市-边界-边界/全省地市边界.TAB',\n",
    "                                                        df_merge_coverage_columns=['kkk'],\n",
    "                                                        merge_only_right_mark='无')\n",
    "    data_t_use_v3 = mytools.gisn.points_coverage_merge(data_t_use_v2,lon,lat,coverage='H:/1-规划/图层/武汉新-县城图层/县界.TAB',\n",
    "                                                        df_merge_coverage_columns=['NAME'],\n",
    "                                                        merge_only_right_mark='无')\n",
    "    data_z = data_z.append(data_t_use_v3)\n",
    "    print(data_t.shape,data_z.shape)"
   ]
  },
  {
   "cell_type": "code",
   "execution_count": null,
   "metadata": {
    "ExecuteTime": {
     "end_time": "2020-02-08T09:02:59.730759Z",
     "start_time": "2020-02-08T09:02:59.189931Z"
    }
   },
   "outputs": [],
   "source": [
    "data_z['kkk'] = data_z['kkk'].str.replace('市','')"
   ]
  },
  {
   "cell_type": "code",
   "execution_count": null,
   "metadata": {
    "ExecuteTime": {
     "end_time": "2020-02-08T09:03:00.718613Z",
     "start_time": "2020-02-08T09:03:00.189785Z"
    }
   },
   "outputs": [],
   "source": [
    "data_z = data_z.reset_index(drop=True).reset_index()"
   ]
  },
  {
   "cell_type": "code",
   "execution_count": null,
   "metadata": {
    "ExecuteTime": {
     "end_time": "2020-02-08T09:03:02.385506Z",
     "start_time": "2020-02-08T09:03:01.930480Z"
    }
   },
   "outputs": [],
   "source": [
    "quxian_city = pd.read_csv('H:/1-规划/评估/软采评估/2019第四季度/覆盖评估/县城和地市对应关系1.csv',encoding='gbk')"
   ]
  },
  {
   "cell_type": "code",
   "execution_count": null,
   "metadata": {
    "ExecuteTime": {
     "end_time": "2020-02-08T09:03:03.435363Z",
     "start_time": "2020-02-08T09:03:02.844329Z"
    }
   },
   "outputs": [],
   "source": [
    "data_z_use_v2 = data_z.merge(quxian_city,how='left',left_on='NAME',right_on='区县').drop_duplicates('index')"
   ]
  },
  {
   "cell_type": "code",
   "execution_count": null,
   "metadata": {},
   "outputs": [],
   "source": [
    "data_z_use_v2.loc[data_z_use_v2[rsrp_count]>100,'有效栅格']=1\n",
    "data_z_use_v2['fgl']=1-data_z_use_v2[rsrp_weak]/data_z_use_v2[rsrp_count]\n",
    "data_z_use_v2.loc[data_z_use_v2['fgl']<0.936,'弱覆盖栅格数量']=1\n",
    "data_z_use_v2.loc[data_z_use_v2['fgl']<0.7,'严重弱覆盖栅格数量']=1"
   ]
  },
  {
   "cell_type": "code",
   "execution_count": null,
   "metadata": {},
   "outputs": [],
   "source": [
    "data_groupby_city = data_z_use_v2.groupby('城市')"
   ]
  },
  {
   "cell_type": "code",
   "execution_count": null,
   "metadata": {
    "scrolled": true
   },
   "outputs": [],
   "source": [
    "grid_dict = dict()\n",
    "for name,data_t in data_groupby_city:\n",
    "    print(name)\n",
    "    data_res = data_t.groupby('NAME').agg({grid_id:'count','有效栅格':'sum','弱覆盖栅格数量':'sum','严重弱覆盖栅格数量':'sum'})\n",
    "    data_res_v2 = data_res.reset_index()\n",
    "    data_res_v2.columns=['2019年12月','总栅格','大于100采样点','弱覆盖栅格数量','严重弱覆盖栅格数量']\n",
    "    grid_dict[name] = data_res_v2"
   ]
  },
  {
   "cell_type": "code",
   "execution_count": null,
   "metadata": {},
   "outputs": [],
   "source": [
    "data_res = data_z_use_v2.groupby('城市').agg({grid_id:'count','有效栅格':'sum','弱覆盖栅格数量':'sum','严重弱覆盖栅格数量':'sum'})\n",
    "data_res_v2 = data_res.reset_index()\n",
    "data_res_v2.columns=['2019年12月','总栅格','大于100采样点','弱覆盖栅格数量','严重弱覆盖栅格数量']\n",
    "grid_dict['全网'] = data_res_v2"
   ]
  },
  {
   "cell_type": "code",
   "execution_count": null,
   "metadata": {},
   "outputs": [],
   "source": [
    "mytools.othern.pickle_save(grid_dict,'H:/1-规划/评估/软采评估/2019第四季度/栅格/保存数据/dict_grid.data')"
   ]
  },
  {
   "cell_type": "code",
   "execution_count": null,
   "metadata": {},
   "outputs": [],
   "source": []
  },
  {
   "cell_type": "code",
   "execution_count": null,
   "metadata": {},
   "outputs": [],
   "source": []
  },
  {
   "cell_type": "code",
   "execution_count": null,
   "metadata": {},
   "outputs": [],
   "source": []
  },
  {
   "cell_type": "code",
   "execution_count": null,
   "metadata": {},
   "outputs": [],
   "source": []
  },
  {
   "cell_type": "code",
   "execution_count": null,
   "metadata": {},
   "outputs": [],
   "source": []
  },
  {
   "cell_type": "code",
   "execution_count": null,
   "metadata": {},
   "outputs": [],
   "source": []
  },
  {
   "cell_type": "code",
   "execution_count": null,
   "metadata": {},
   "outputs": [],
   "source": []
  },
  {
   "cell_type": "code",
   "execution_count": null,
   "metadata": {},
   "outputs": [],
   "source": []
  },
  {
   "cell_type": "code",
   "execution_count": null,
   "metadata": {},
   "outputs": [],
   "source": []
  },
  {
   "cell_type": "code",
   "execution_count": null,
   "metadata": {},
   "outputs": [],
   "source": []
  },
  {
   "cell_type": "code",
   "execution_count": null,
   "metadata": {},
   "outputs": [],
   "source": []
  },
  {
   "cell_type": "code",
   "execution_count": null,
   "metadata": {},
   "outputs": [],
   "source": []
  },
  {
   "cell_type": "code",
   "execution_count": null,
   "metadata": {},
   "outputs": [],
   "source": []
  },
  {
   "cell_type": "code",
   "execution_count": null,
   "metadata": {},
   "outputs": [],
   "source": [
    "import pandas as pd\n",
    "from docx import Document\n",
    "from docx.shared import Pt\n",
    "from docx.enum.text import WD_ALIGN_PARAGRAPH\n",
    "from docx.oxml.ns import qn\n",
    "from docx.shared import Inches\n",
    "from docx.oxml.ns import qn\n",
    "from docx.shared import RGBColor\n",
    "from docx.shared import Cm\n",
    "from docx.enum.style import WD_STYLE_TYPE\n",
    "from docx.enum.table import WD_TABLE_ALIGNMENT,WD_ALIGN_VERTICAL\n",
    "from docx.oxml import parse_xml\n",
    "from docx.oxml.ns import nsdecls"
   ]
  },
  {
   "cell_type": "code",
   "execution_count": null,
   "metadata": {},
   "outputs": [],
   "source": [
    "dishi_name = '武汉'"
   ]
  },
  {
   "cell_type": "code",
   "execution_count": null,
   "metadata": {},
   "outputs": [],
   "source": [
    "#评估标准插入\n",
    "biaozhun = pd.read_csv(open('G:/1-规划/评估/软采评估/2019第三季度/使用数据/评估标准_插入.csv',encoding = 'gbk'))"
   ]
  },
  {
   "cell_type": "code",
   "execution_count": null,
   "metadata": {},
   "outputs": [],
   "source": [
    "#软采小区替换竞对后数据\n",
    "ruancai = pd.read_csv(open('G:/1-规划/评估/软采评估/2019第三季度/使用数据/汇总-添评估使用-备份-华为使用邮件数据-tdd-不要大唐.csv',encoding = 'gbk'))"
   ]
  },
  {
   "cell_type": "code",
   "execution_count": null,
   "metadata": {},
   "outputs": [],
   "source": [
    "#软采栅格\n",
    "data_merge_quchong = pd.read_csv(open('G:/1-规划/评估/软采评估/2019第三季度/使用数据/第三季度_栅格_添加场景_添加区县_添加弱覆盖1.csv',encoding = 'gbk'))"
   ]
  },
  {
   "cell_type": "code",
   "execution_count": null,
   "metadata": {},
   "outputs": [],
   "source": [
    "data_merge_quchong.shape"
   ]
  },
  {
   "cell_type": "code",
   "execution_count": null,
   "metadata": {},
   "outputs": [],
   "source": [
    "dishi =['十堰','荆门','武汉','襄阳','黄石','荆州','宜昌','鄂州','孝感','潜江','江汉','黄冈','天门','随州','恩施','咸宁']"
   ]
  },
  {
   "cell_type": "code",
   "execution_count": null,
   "metadata": {},
   "outputs": [],
   "source": [
    "document = Document()"
   ]
  },
  {
   "cell_type": "code",
   "execution_count": null,
   "metadata": {
    "scrolled": true
   },
   "outputs": [],
   "source": [
    "# d=Document()\n",
    "# styles=d.styles\n",
    "# for s in styles:\n",
    "#     if s.type==WD_STYLE_TYPE.TABLE:\n",
    "# #         print(s.name)\n",
    "# d.save('style.docx')           \n"
   ]
  },
  {
   "cell_type": "code",
   "execution_count": null,
   "metadata": {},
   "outputs": [],
   "source": [
    "def style_heading(wenzi = 'MR竞对覆盖评估体系',jibie = 1,size = 16,ziti = u'微软雅黑',yanse = RGBColor(0,0,0),duiqi = 'CENTER'):\n",
    "    biaoti = document.add_heading('',jibie)\n",
    "    if duiqi == 'CENTER':\n",
    "        biaoti.paragraph_format.alignment = WD_ALIGN_PARAGRAPH.CENTER\n",
    "    elif duiqi == 'LEFT':\n",
    "        biaoti.paragraph_format.alignment = WD_ALIGN_PARAGRAPH.LEFT\n",
    "    else:\n",
    "        biaoti.paragraph_format.alignment = WD_ALIGN_PARAGRAPH.RIGHT\n",
    "    tt=biaoti.add_run(wenzi)\n",
    "    tt.font.size = Pt(size)\n",
    "    tt.bold\n",
    "    tt.font.name=ziti\n",
    "    tt._element.rPr.rFonts.set(qn('w:eastAsia'), ziti) \n",
    "    tt.font.color.rgb = RGBColor(0,0,0)\n",
    "    paragraph_format = biaoti.paragraph_format\n",
    "    paragraph_format.line_spacing = 1.5 # 1.5倍行间距"
   ]
  },
  {
   "cell_type": "code",
   "execution_count": null,
   "metadata": {},
   "outputs": [],
   "source": [
    "def style_paragraph(wenzi = '文字描述',size = 10.5,bold = False ,ziti =u'宋体' ):\n",
    "    p = document.add_paragraph('')\n",
    "    run1 = p.add_run(wenzi)  # 使用add_run添加文字\n",
    "    run1.font.size = Pt(size) #字体大小设置，和word里面的字号相对应，小一\n",
    "    if bold:\n",
    "        run1.font.bold = True\n",
    "    run1.font.name=ziti\n",
    "    run1._element.rPr.rFonts.set(qn('w:eastAsia'), ziti) \n",
    "    paragraph_format = p.paragraph_format\n",
    "    paragraph_format.first_line_indent = Inches(0.25)\n",
    "    paragraph_format.line_spacing = 1.5 # 1.5倍行间距\n",
    "def style_paragraph_add(wenzi = '文字描述',size = 10.5,bold = False ,ziti =u'宋体' ):\n",
    "    run1 = p.add_run(wenzi)  # 使用add_run添加文字\n",
    "    run1.font.size = Pt(size) #字体大小设置，和word里面的字号相对应，小一\n",
    "    if bold:\n",
    "        run1.font.bold = True\n",
    "    run1.font.name=ziti\n",
    "    run1._element.rPr.rFonts.set(qn('w:eastAsia'), ziti) \n",
    "    paragraph_format = p.paragraph_format\n",
    "    paragraph_format.first_line_indent = Inches(0.25)\n",
    "    paragraph_format.line_spacing = 1.5 # 1.5倍行间距\n",
    "\n",
    "def style_paragraph_hongse_add(wenzi = '文字描述',size = 10.5,bold = False ,ziti =u'宋体' ):\n",
    "    run1 = p.add_run(wenzi)  # 使用add_run添加文字\n",
    "    run1.font.size = Pt(size) #字体大小设置，和word里面的字号相对应，小一\n",
    "    font_color = run1.font\n",
    "    font_color.color.rgb = RGBColor(255, 0 , 0)\n",
    "    if bold:\n",
    "        run1.font.bold = True\n",
    "    run1.font.name=ziti\n",
    "    run1._element.rPr.rFonts.set(qn('w:eastAsia'), ziti) \n",
    "    paragraph_format = p.paragraph_format\n",
    "    paragraph_format.first_line_indent = Inches(0.25)\n",
    "    paragraph_format.line_spacing = 1.5 # 1.5倍行间距\n",
    "    "
   ]
  },
  {
   "cell_type": "markdown",
   "metadata": {},
   "source": [
    "## 软采小区-分地市和分区县"
   ]
  },
  {
   "cell_type": "code",
   "execution_count": null,
   "metadata": {},
   "outputs": [],
   "source": []
  },
  {
   "cell_type": "code",
   "execution_count": null,
   "metadata": {},
   "outputs": [],
   "source": [
    "ruancai['全网']='全网'"
   ]
  },
  {
   "cell_type": "code",
   "execution_count": null,
   "metadata": {},
   "outputs": [],
   "source": [
    "ruancai.shape"
   ]
  },
  {
   "cell_type": "code",
   "execution_count": null,
   "metadata": {},
   "outputs": [],
   "source": [
    "ruancai.columns"
   ]
  },
  {
   "cell_type": "code",
   "execution_count": null,
   "metadata": {},
   "outputs": [],
   "source": [
    "def aggfunc(df):\n",
    "    sum1 = df['rsrp_sample_count'].sum()\n",
    "    sum2 = df['rsrp_weak'].sum()\n",
    "    ser = pd.Series([sum1, sum2, 1-sum2/sum1])\n",
    "    return ser"
   ]
  },
  {
   "cell_type": "code",
   "execution_count": null,
   "metadata": {},
   "outputs": [],
   "source": [
    "#各地市指标"
   ]
  },
  {
   "cell_type": "code",
   "execution_count": null,
   "metadata": {},
   "outputs": [],
   "source": [
    "data_fgl = ruancai.groupby(by='region_name').apply(aggfunc)\n",
    "data_fgl.reset_index(inplace=True)\n",
    "data_fgl.columns = ['全网-指标','移动总点','移动弱点','全网移动覆盖率']\n",
    "data_fgl.sort_values(by = '全网移动覆盖率',ascending = False,inplace = True)"
   ]
  },
  {
   "cell_type": "code",
   "execution_count": null,
   "metadata": {},
   "outputs": [],
   "source": [
    "#添加武汉中兴华为"
   ]
  },
  {
   "cell_type": "code",
   "execution_count": null,
   "metadata": {},
   "outputs": [],
   "source": [
    "data_fg_changjia = ruancai.loc[ruancai['region_name']=='武汉'].groupby(by='厂家名称').apply(aggfunc)\n",
    "data_fg_changjia.reset_index(inplace=True)\n",
    "data_fg_changjia.columns = ['全网-指标','移动总点','移动弱点','全网移动覆盖率']\n",
    "data_fg_changjia2 = data_fg_changjia.loc[(data_fg_changjia['全网-指标']=='中兴') | (data_fg_changjia['全网-指标']=='华为')]\n",
    "data_fg_changjia2.loc[data_fg_changjia2['全网-指标']=='中兴','全网-指标']='武汉中兴'\n",
    "data_fg_changjia2.loc[data_fg_changjia2['全网-指标']=='华为','全网-指标']='武汉华为'\n",
    "data_fgl = pd.concat([data_fgl,data_fg_changjia2])"
   ]
  },
  {
   "cell_type": "code",
   "execution_count": null,
   "metadata": {},
   "outputs": [],
   "source": [
    "#添加全网指标"
   ]
  },
  {
   "cell_type": "code",
   "execution_count": null,
   "metadata": {
    "scrolled": true
   },
   "outputs": [],
   "source": [
    "data_fg_quanwang = ruancai.groupby(by='全网').apply(aggfunc)\n",
    "data_fg_quanwang.reset_index(inplace=True)\n",
    "data_fg_quanwang.columns = ['全网-指标','移动总点','移动弱点','全网移动覆盖率']\n",
    "data_fgl = pd.concat([data_fgl,data_fg_quanwang])\n",
    "data_fgl['全网移动覆盖率'] = data_fgl['全网移动覆盖率'].apply(lambda x: format(x, '.2%'))    #Series.apply()让序列的值依次在lambda函数中执行； data['线损率']由小数转化为百分数\n",
    "data_fgl"
   ]
  },
  {
   "cell_type": "code",
   "execution_count": null,
   "metadata": {},
   "outputs": [],
   "source": [
    "dishi_fgl_qian3=list(data_fgl.iloc[0:3,0])"
   ]
  },
  {
   "cell_type": "code",
   "execution_count": null,
   "metadata": {},
   "outputs": [],
   "source": [
    "dishi_fgl_hou3=list(data_fgl.iloc[-6:-3,0])"
   ]
  },
  {
   "cell_type": "code",
   "execution_count": null,
   "metadata": {},
   "outputs": [],
   "source": [
    "dishi_fgl_hou3.reverse()"
   ]
  },
  {
   "cell_type": "code",
   "execution_count": null,
   "metadata": {},
   "outputs": [],
   "source": [
    "#各区县指标"
   ]
  },
  {
   "cell_type": "code",
   "execution_count": null,
   "metadata": {},
   "outputs": [],
   "source": [
    "data_fgl_qx = ruancai.loc[ruancai['region_name']=='武汉'].groupby(by='区县').apply(aggfunc)\n",
    "data_fgl_qx.reset_index(inplace=True)\n",
    "data_fgl_qx.columns = ['区域','移动总点','移动弱点','全网移动覆盖率']\n",
    "data_fgl_qx.sort_values(by = '全网移动覆盖率',ascending = False,inplace = True)\n",
    "data_fgl_qx['全网移动覆盖率'] = data_fgl_qx['全网移动覆盖率'].apply(lambda x: format(x, '.2%'))   "
   ]
  },
  {
   "cell_type": "code",
   "execution_count": null,
   "metadata": {
    "scrolled": true
   },
   "outputs": [],
   "source": [
    "# data_fgl_qx_ok = data_fgl_qx.loc[data_fgl_qx['武汉-指标'].isin(['武昌','洪山','青山','硚口','东新','江汉','江夏','东西湖','江岸','经开','蔡甸','汉阳','黄陂','新洲'])]"
   ]
  },
  {
   "cell_type": "code",
   "execution_count": null,
   "metadata": {},
   "outputs": [],
   "source": [
    "data_fgl_qx['区域'] = data_fgl_qx['区域'].str.replace('区','').str.replace('县','')\n",
    "data_fgl_qx.loc[data_fgl_qx['区域']=='东湖高新开发','区域']='东新'\n",
    "data_fgl_qx = data_fgl_qx.drop(data_fgl_qx.loc[data_fgl_qx['区域']=='武汉市','区域'].index)"
   ]
  },
  {
   "cell_type": "code",
   "execution_count": null,
   "metadata": {},
   "outputs": [],
   "source": [
    "#武汉指标"
   ]
  },
  {
   "cell_type": "code",
   "execution_count": null,
   "metadata": {},
   "outputs": [],
   "source": [
    "data_fgl_wuhan = data_fgl.loc[data_fgl['全网-指标']=='武汉']\n",
    "data_fgl_wuhan.columns = ['区域','移动总点','移动弱点','全网移动覆盖率']"
   ]
  },
  {
   "cell_type": "code",
   "execution_count": null,
   "metadata": {},
   "outputs": [],
   "source": [
    "#区县总计"
   ]
  },
  {
   "cell_type": "code",
   "execution_count": null,
   "metadata": {},
   "outputs": [],
   "source": [
    "data_fgl_qx_ok = pd.concat([data_fgl_qx,data_fgl_wuhan])"
   ]
  },
  {
   "cell_type": "code",
   "execution_count": null,
   "metadata": {
    "scrolled": true
   },
   "outputs": [],
   "source": [
    "data_fgl_qx_ok"
   ]
  },
  {
   "cell_type": "code",
   "execution_count": null,
   "metadata": {},
   "outputs": [],
   "source": [
    "quxian_fgl_qian3=list(data_fgl_qx_ok.iloc[0:3,0])"
   ]
  },
  {
   "cell_type": "code",
   "execution_count": null,
   "metadata": {},
   "outputs": [],
   "source": [
    "quxian_fgl_hou3=list(data_fgl_qx_ok.iloc[-4:-1,0])"
   ]
  },
  {
   "cell_type": "code",
   "execution_count": null,
   "metadata": {},
   "outputs": [],
   "source": [
    "quxian_fgl_hou3.reverse()"
   ]
  },
  {
   "cell_type": "code",
   "execution_count": null,
   "metadata": {},
   "outputs": [],
   "source": [
    "#添加word内容"
   ]
  },
  {
   "cell_type": "code",
   "execution_count": null,
   "metadata": {},
   "outputs": [],
   "source": [
    "style_heading()"
   ]
  },
  {
   "cell_type": "code",
   "execution_count": null,
   "metadata": {},
   "outputs": [],
   "source": [
    "style_heading(wenzi ='一、\t网络质量覆盖评估',jibie = 2,size = 14 , ziti=u'宋体',duiqi = 'LEFT')"
   ]
  },
  {
   "cell_type": "code",
   "execution_count": null,
   "metadata": {},
   "outputs": [],
   "source": [
    "style_paragraph(wenzi = '此用于评估全网网络质量情况，并通过整网、小区、大数据栅格三个维度进行评估分析。')"
   ]
  },
  {
   "cell_type": "code",
   "execution_count": null,
   "metadata": {},
   "outputs": [],
   "source": [
    "style_heading(wenzi ='1.整网粒度',jibie = 2,size = 12 , ziti=u'宋体',duiqi = 'LEFT')"
   ]
  },
  {
   "cell_type": "code",
   "execution_count": null,
   "metadata": {},
   "outputs": [],
   "source": [
    "p = document.add_paragraph('')\n",
    "style_paragraph_add(wenzi='全网MR覆盖率：',bold = True)\n",
    "style_paragraph_add(wenzi='全省分地市，武汉分区县整体MR覆盖率情况。')"
   ]
  },
  {
   "cell_type": "code",
   "execution_count": null,
   "metadata": {},
   "outputs": [],
   "source": [
    "':'.join(dishi_fgl_qian3)"
   ]
  },
  {
   "cell_type": "code",
   "execution_count": null,
   "metadata": {},
   "outputs": [],
   "source": [
    "p = document.add_paragraph('')\n",
    "style_paragraph_add(wenzi='指标定义：',bold = True)\n",
    "style_paragraph_add(wenzi='全网MR覆盖率=所有小区MR RSRP≥-110dbm的采样点总数/采样点总数')\n",
    "p = document.add_paragraph('')\n",
    "style_paragraph_add(wenzi='数据来源：',bold = True)\n",
    "style_paragraph_add(wenzi='本次小区级数据来源于双套系统摸底数据，十堰由于摸底存在问题，采用软采数据。')\n",
    "p = document.add_paragraph('')\n",
    "style_paragraph_add(wenzi='2019年第三季度软采数据评估情况：')\n",
    "p = document.add_paragraph('')\n",
    "style_paragraph_add(wenzi='全省分地市情况：')\n",
    "style_paragraph_add(wenzi='、'.join(dishi_fgl_qian3),bold = True)\n",
    "style_paragraph_add(wenzi='覆盖较好，')\n",
    "style_paragraph_add(wenzi='、'.join(dishi_fgl_hou3),bold = True)\n",
    "style_paragraph_add(wenzi='覆盖相对较差。')"
   ]
  },
  {
   "cell_type": "code",
   "execution_count": null,
   "metadata": {},
   "outputs": [],
   "source": [
    "#插入表格并赋值\n",
    "data = data_fgl.copy()\n",
    "document.styles['Table Grid'].font.name = u'微软雅黑'\n",
    "document.styles['Table Grid']._element.rPr.rFonts.set(qn('w:eastAsia'), u'微软雅黑')\n",
    "\n",
    "table = document.add_table(rows = data.shape[0]+1 , cols = data.shape[1],style = 'Table Grid')\n",
    "table.autofit=True\n",
    "table.rows[0].height=Cm(1)\n",
    "# 列名赋值\n",
    "hdr_cells = table.rows[0].cells\n",
    "for row in list(data.columns):\n",
    "    for num in range(0, data.shape[1]):\n",
    "        hdr_cells[num].text = u'' + list(data.columns)[num]\n",
    "        table.cell(0,num).paragraphs[0].paragraph_format.alignment=WD_ALIGN_PARAGRAPH.CENTER\n",
    "        table.cell(0,num).vertical_alignment = WD_ALIGN_VERTICAL.CENTER\n",
    "        shading_elm_2 = parse_xml(r'<w:shd {} w:fill=\"#BFBFBF\"/>'.format(nsdecls('w')))\n",
    "        table.cell(0,num)._tc.get_or_add_tcPr().append(shading_elm_2)\n",
    "    break\n",
    "# 内容赋值\n",
    "for row in range(1,data.shape[0]+1):\n",
    "    row_cells = table.rows[row].cells\n",
    "    for num in range(0, data.shape[1]):\n",
    "        row_cells[num].text = u'' + str(data.iloc[row-1,num])\n",
    "        table.cell(row,num).paragraphs[0].paragraph_format.alignment=WD_ALIGN_PARAGRAPH.CENTER\n",
    "        table.cell(row,num).vertical_alignment = WD_ALIGN_VERTICAL.CENTER"
   ]
  },
  {
   "cell_type": "code",
   "execution_count": null,
   "metadata": {},
   "outputs": [],
   "source": [
    "p = document.add_paragraph('')\n",
    "style_paragraph_add(wenzi='\\n武汉各区县中，')\n",
    "style_paragraph_add(wenzi='、'.join(quxian_fgl_qian3),bold = True)\n",
    "style_paragraph_add(wenzi='覆盖较好，')\n",
    "style_paragraph_add(wenzi='、'.join(quxian_fgl_hou3),bold = True)\n",
    "style_paragraph_add(wenzi='覆盖相对较差。')"
   ]
  },
  {
   "cell_type": "code",
   "execution_count": null,
   "metadata": {},
   "outputs": [],
   "source": [
    "#插入表格并赋值\n",
    "data = data_fgl_qx_ok.copy()\n",
    "table = document.add_table(rows = data.shape[0]+1 , cols = data.shape[1],style = 'Table Grid')\n",
    "table.autofit=True\n",
    "table.rows[0].height=Cm(1)\n",
    "# 列名赋值\n",
    "hdr_cells = table.rows[0].cells\n",
    "for row in list(data.columns):\n",
    "    for num in range(0, data.shape[1]):\n",
    "        hdr_cells[num].text = u'' + list(data.columns)[num]\n",
    "        table.cell(0,num).paragraphs[0].paragraph_format.alignment=WD_ALIGN_PARAGRAPH.CENTER\n",
    "        table.cell(0,num).vertical_alignment = WD_ALIGN_VERTICAL.CENTER\n",
    "        shading_elm_2 = parse_xml(r'<w:shd {} w:fill=\"#BFBFBF\"/>'.format(nsdecls('w')))\n",
    "        table.cell(0,num)._tc.get_or_add_tcPr().append(shading_elm_2)\n",
    "    break\n",
    "# 内容赋值\n",
    "for row in range(1,data.shape[0]+1):\n",
    "    row_cells = table.rows[row].cells\n",
    "    for num in range(0, data.shape[1]):\n",
    "        row_cells[num].text = u'' + str(data.iloc[row-1,num])\n",
    "        table.cell(row,num).paragraphs[0].paragraph_format.alignment=WD_ALIGN_PARAGRAPH.CENTER\n",
    "        table.cell(row,num).vertical_alignment = WD_ALIGN_VERTICAL.CENTER"
   ]
  },
  {
   "cell_type": "code",
   "execution_count": null,
   "metadata": {},
   "outputs": [],
   "source": [
    "#问题点统计---2.小区粒度"
   ]
  },
  {
   "cell_type": "code",
   "execution_count": null,
   "metadata": {},
   "outputs": [],
   "source": [
    "def aggfunc_wenti(df):\n",
    "    ruancai_count = df['eutrancell_cgi'].count()\n",
    "    heidian_count = df['hd'].sum()\n",
    "    ruofugai_count = df['弱覆盖'].sum()\n",
    "    wenti_count = df['总问题小区'].sum()\n",
    "    ser = pd.Series([ruancai_count, heidian_count,ruofugai_count, wenti_count,wenti_count/ruancai_count])\n",
    "    return ser"
   ]
  },
  {
   "cell_type": "code",
   "execution_count": null,
   "metadata": {},
   "outputs": [],
   "source": [
    "#地市问题点\n",
    "data_wenti = ruancai.groupby(by='region_name').apply(aggfunc_wenti)\n",
    "data_wenti.reset_index(inplace=True)\n",
    "data_wenti.columns = ['地市','总小区数','黑点小区数','弱覆盖小区数','问题小区数','问题小区占比']\n",
    "data_wenti.sort_values(by = '问题小区占比',ascending = True,inplace = True)"
   ]
  },
  {
   "cell_type": "code",
   "execution_count": null,
   "metadata": {},
   "outputs": [],
   "source": [
    "#添加武汉中兴华为"
   ]
  },
  {
   "cell_type": "code",
   "execution_count": null,
   "metadata": {
    "scrolled": true
   },
   "outputs": [],
   "source": [
    "data_wenti_changjia = ruancai.loc[ruancai['region_name']=='武汉'].groupby(by='厂家名称').apply(aggfunc_wenti)\n",
    "data_wenti_changjia.reset_index(inplace=True)\n",
    "data_wenti_changjia.columns = ['地市','总小区数','黑点小区数','弱覆盖小区数','问题小区数','问题小区占比']\n",
    "data_wenti_changjia2 = data_wenti_changjia.loc[(data_wenti_changjia['地市']=='中兴') | (data_wenti_changjia['地市']=='华为')]\n",
    "data_wenti_changjia2.loc[data_wenti_changjia2['地市']=='中兴','地市']='武汉中兴'\n",
    "data_wenti_changjia2.loc[data_wenti_changjia2['地市']=='华为','地市']='武汉华为'\n",
    "data_wenti = pd.concat([data_wenti,data_wenti_changjia2])"
   ]
  },
  {
   "cell_type": "code",
   "execution_count": null,
   "metadata": {},
   "outputs": [],
   "source": [
    "#添加全网指标"
   ]
  },
  {
   "cell_type": "code",
   "execution_count": null,
   "metadata": {
    "scrolled": true
   },
   "outputs": [],
   "source": [
    "data_wenti_quanwang = ruancai.groupby(by='全网').apply(aggfunc_wenti)\n",
    "data_wenti_quanwang.reset_index(inplace=True)\n",
    "data_wenti_quanwang.columns = ['地市','总小区数','黑点小区数','弱覆盖小区数','问题小区数','问题小区占比']\n",
    "data_wenti = pd.concat([data_wenti,data_wenti_quanwang])\n",
    "data_wenti['问题小区占比'] = data_wenti['问题小区占比'].apply(lambda x: format(x, '.2%'))    #Series.apply()让序列的值依次在lambda函数中执行； data['线损率']由小数转化为百分数\n",
    "data_wenti"
   ]
  },
  {
   "cell_type": "code",
   "execution_count": null,
   "metadata": {},
   "outputs": [],
   "source": [
    "dishi_wenti_qian3=list(data_wenti.iloc[0:3,0])"
   ]
  },
  {
   "cell_type": "code",
   "execution_count": null,
   "metadata": {},
   "outputs": [],
   "source": [
    "dishi_wenti_hou3 = list(data_wenti.iloc[-6:-3,0])"
   ]
  },
  {
   "cell_type": "code",
   "execution_count": null,
   "metadata": {},
   "outputs": [],
   "source": [
    "dishi_wenti_hou3.reverse()"
   ]
  },
  {
   "cell_type": "code",
   "execution_count": null,
   "metadata": {},
   "outputs": [],
   "source": [
    "#武汉问题点"
   ]
  },
  {
   "cell_type": "code",
   "execution_count": null,
   "metadata": {},
   "outputs": [],
   "source": [
    "data_wenti_qx = ruancai.loc[ruancai['region_name']=='武汉'].groupby(by='区县').apply(aggfunc_wenti)\n",
    "data_wenti_qx.reset_index(inplace=True)\n",
    "data_wenti_qx.columns = ['区县','总小区数','黑点小区数','弱覆盖小区数','问题小区数','问题小区占比']\n",
    "data_wenti_qx.sort_values(by = '问题小区占比',ascending = True,inplace = True)\n",
    "data_wenti_qx['问题小区占比'] = data_wenti_qx['问题小区占比'].apply(lambda x: format(x, '.2%'))   "
   ]
  },
  {
   "cell_type": "code",
   "execution_count": null,
   "metadata": {
    "scrolled": false
   },
   "outputs": [],
   "source": [
    "#data_wenti_qx_ok = data_wenti_qx.loc[data_wenti_qx['区县'].isin(['武昌','洪山','青山','硚口','东新','江汉','江夏','东西湖','江岸','经开','蔡甸','汉阳','黄陂','新洲'])]"
   ]
  },
  {
   "cell_type": "code",
   "execution_count": null,
   "metadata": {},
   "outputs": [],
   "source": [
    "#武汉指标"
   ]
  },
  {
   "cell_type": "code",
   "execution_count": null,
   "metadata": {},
   "outputs": [],
   "source": [
    "data_wenti_wuhan = data_wenti.loc[data_wenti['地市']=='武汉']\n",
    "data_wenti_wuhan.columns = ['区县','总小区数','黑点小区数','弱覆盖小区数','问题小区数','问题小区占比']"
   ]
  },
  {
   "cell_type": "code",
   "execution_count": null,
   "metadata": {},
   "outputs": [],
   "source": [
    "data_wenti_qx"
   ]
  },
  {
   "cell_type": "code",
   "execution_count": null,
   "metadata": {},
   "outputs": [],
   "source": [
    "data_wenti_qx['区县'] = data_wenti_qx['区县'].str.replace('区','').str.replace('县','')\n",
    "data_wenti_qx.loc[data_wenti_qx['区县']=='东湖高新开发','区县']='东新'\n",
    "data_wenti_qx = data_wenti_qx.drop(data_wenti_qx.loc[data_wenti_qx['区县']=='武汉市','区县'].index)"
   ]
  },
  {
   "cell_type": "code",
   "execution_count": null,
   "metadata": {},
   "outputs": [],
   "source": [
    "#区县总计"
   ]
  },
  {
   "cell_type": "code",
   "execution_count": null,
   "metadata": {},
   "outputs": [],
   "source": [
    "data_wenti_qx_ok = pd.concat([data_wenti_qx,data_wenti_wuhan])"
   ]
  },
  {
   "cell_type": "code",
   "execution_count": null,
   "metadata": {},
   "outputs": [],
   "source": [
    "data_wenti_qx_ok"
   ]
  },
  {
   "cell_type": "code",
   "execution_count": null,
   "metadata": {},
   "outputs": [],
   "source": [
    "quxian_wenti_qian3 = list(data_wenti_qx_ok.iloc[0:3,0])"
   ]
  },
  {
   "cell_type": "code",
   "execution_count": null,
   "metadata": {},
   "outputs": [],
   "source": [
    "quxian_wenti_hou3 = list(data_wenti_qx_ok.iloc[-4:-1,0])"
   ]
  },
  {
   "cell_type": "code",
   "execution_count": null,
   "metadata": {},
   "outputs": [],
   "source": [
    "quxian_wenti_hou3.reverse()"
   ]
  },
  {
   "cell_type": "code",
   "execution_count": null,
   "metadata": {},
   "outputs": [],
   "source": [
    "style_heading(wenzi ='2.小区粒度',jibie = 2,size = 12 , ziti=u'宋体',duiqi = 'LEFT')"
   ]
  },
  {
   "cell_type": "code",
   "execution_count": null,
   "metadata": {},
   "outputs": [],
   "source": [
    "p = document.add_paragraph('')\n",
    "style_paragraph_add(wenzi='MR覆盖问题小区占比：',bold = True)\n",
    "style_paragraph_add(wenzi='全省分地市，武汉分区县MR覆盖问题小区占比情况')"
   ]
  },
  {
   "cell_type": "code",
   "execution_count": null,
   "metadata": {},
   "outputs": [],
   "source": [
    "p = document.add_paragraph('')\n",
    "style_paragraph_add(wenzi='指标定义：',bold = True)\n",
    "style_paragraph_add(wenzi='MR覆盖问题小区占比=（小区级MR覆盖率<90%或MR竞对黑点有效小区）/总小区数')\n",
    "p = document.add_paragraph('')\n",
    "style_paragraph_add(wenzi='数据来源：',bold = True)\n",
    "style_paragraph_add(wenzi='本次小区级数据来源于双套系统摸底数据，十堰由于摸底存在问题，采用软采数据。')\n",
    "p = document.add_paragraph('')\n",
    "style_paragraph_add(wenzi='全省分地市情况：')\n",
    "style_paragraph_add(wenzi='、'.join(dishi_wenti_qian3),bold = True)\n",
    "style_paragraph_add(wenzi='覆盖较好，MR问题小区较少。')\n",
    "style_paragraph_add(wenzi='、'.join(dishi_wenti_hou3),bold = True)\n",
    "style_paragraph_add(wenzi='覆盖相对较差，MR问题小区较多。')"
   ]
  },
  {
   "cell_type": "code",
   "execution_count": null,
   "metadata": {},
   "outputs": [],
   "source": [
    "#插入表格并赋值\n",
    "data = data_wenti.copy()\n",
    "table = document.add_table(rows = data.shape[0]+1 , cols = data.shape[1],style = 'Table Grid')\n",
    "table.autofit=True\n",
    "table.rows[0].height=Cm(1)\n",
    "# 列名赋值\n",
    "hdr_cells = table.rows[0].cells\n",
    "for row in list(data.columns):\n",
    "    for num in range(0, data.shape[1]):\n",
    "        hdr_cells[num].text = u'' + list(data.columns)[num]\n",
    "        table.cell(0,num).paragraphs[0].paragraph_format.alignment=WD_ALIGN_PARAGRAPH.CENTER\n",
    "        table.cell(0,num).vertical_alignment = WD_ALIGN_VERTICAL.CENTER\n",
    "        shading_elm_2 = parse_xml(r'<w:shd {} w:fill=\"#BFBFBF\"/>'.format(nsdecls('w')))\n",
    "        table.cell(0,num)._tc.get_or_add_tcPr().append(shading_elm_2)\n",
    "    break\n",
    "# 内容赋值\n",
    "for row in range(1,data.shape[0]+1):\n",
    "    row_cells = table.rows[row].cells\n",
    "    for num in range(0, data.shape[1]):\n",
    "        row_cells[num].text = u'' + str(data.iloc[row-1,num])\n",
    "        table.cell(row,num).paragraphs[0].paragraph_format.alignment=WD_ALIGN_PARAGRAPH.CENTER\n",
    "        table.cell(row,num).vertical_alignment = WD_ALIGN_VERTICAL.CENTER"
   ]
  },
  {
   "cell_type": "code",
   "execution_count": null,
   "metadata": {},
   "outputs": [],
   "source": [
    "p = document.add_paragraph('')\n",
    "style_paragraph_add(wenzi='\\n武汉各区县中，')\n",
    "style_paragraph_add(wenzi='、'.join(quxian_wenti_qian3),bold = True)\n",
    "style_paragraph_add(wenzi='覆盖较好，MR问题小区较少。')\n",
    "style_paragraph_add(wenzi='、'.join(quxian_wenti_hou3),bold = True)\n",
    "style_paragraph_add(wenzi='覆盖相对较差，MR问题小区较多。')"
   ]
  },
  {
   "cell_type": "code",
   "execution_count": null,
   "metadata": {},
   "outputs": [],
   "source": [
    "#插入表格并赋值\n",
    "data = data_wenti_qx_ok.copy()\n",
    "table = document.add_table(rows = data.shape[0]+1 , cols = data.shape[1],style = 'Table Grid')\n",
    "table.autofit=True\n",
    "table.rows[0].height=Cm(1)\n",
    "# 列名赋值\n",
    "hdr_cells = table.rows[0].cells\n",
    "for row in list(data.columns):\n",
    "    for num in range(0, data.shape[1]):\n",
    "        hdr_cells[num].text = u'' + list(data.columns)[num]\n",
    "        table.cell(0,num).paragraphs[0].paragraph_format.alignment=WD_ALIGN_PARAGRAPH.CENTER\n",
    "        table.cell(0,num).vertical_alignment = WD_ALIGN_VERTICAL.CENTER\n",
    "        shading_elm_2 = parse_xml(r'<w:shd {} w:fill=\"#BFBFBF\"/>'.format(nsdecls('w')))\n",
    "        table.cell(0,num)._tc.get_or_add_tcPr().append(shading_elm_2)\n",
    "    break\n",
    "# 内容赋值\n",
    "for row in range(1,data.shape[0]+1):\n",
    "    row_cells = table.rows[row].cells\n",
    "    for num in range(0, data.shape[1]):\n",
    "        row_cells[num].text = u'' + str(data.iloc[row-1,num])\n",
    "        table.cell(row,num).paragraphs[0].paragraph_format.alignment=WD_ALIGN_PARAGRAPH.CENTER\n",
    "        table.cell(row,num).vertical_alignment = WD_ALIGN_VERTICAL.CENTER"
   ]
  },
  {
   "cell_type": "markdown",
   "metadata": {},
   "source": [
    "## 软采栅格-武汉区域分区县"
   ]
  },
  {
   "cell_type": "code",
   "execution_count": null,
   "metadata": {},
   "outputs": [],
   "source": [
    "#3.大数据栅格粒度"
   ]
  },
  {
   "cell_type": "code",
   "execution_count": null,
   "metadata": {},
   "outputs": [],
   "source": [
    "# data_merge_quchong = pd.read_csv(open('G:\\\\1-规划\\\\评估\\\\软采评估\\\\2019第三季度\\\\软采数据\\\\软采栅格\\\\第三季度_栅格_添加场景_添加区县_添加弱覆盖.csv',encoding = 'gbk'))"
   ]
  },
  {
   "cell_type": "code",
   "execution_count": null,
   "metadata": {},
   "outputs": [],
   "source": [
    "# data_merge_quchong['全网'] =\"全网\"\n",
    "# data_merge_quchong['fgl'] = 1-data_merge_quchong['a.rsrp_weak']/data_merge_quchong['a.rsrp_sample_count']\n",
    "# data_merge_quchong['大于100采样点'] = 0\n",
    "# data_merge_quchong.loc[data_merge_quchong['a.rsrp_sample_count']>100,'大于100采样点']=1\n",
    "# data_merge_quchong['弱覆盖栅格'] = 0\n",
    "# data_merge_quchong.loc[data_merge_quchong['fgl']<0.936,'弱覆盖栅格']=1\n",
    "# data_merge_quchong['严重弱覆盖栅格'] = 0\n",
    "# data_merge_quchong.loc[data_merge_quchong['fgl']<0.7,'严重弱覆盖栅格']=1"
   ]
  },
  {
   "cell_type": "code",
   "execution_count": null,
   "metadata": {},
   "outputs": [],
   "source": [
    "def aggfunc_grid(df):\n",
    "    grid_count = df['a.grid_id'].count()\n",
    "    grid_100_count = df['大于100采样点'].sum()\n",
    "    df1 = df.loc[df['大于100采样点']==1]\n",
    "    grid_fgl936_count = df1['弱覆盖栅格'].sum()\n",
    "    ser = pd.Series([grid_count, grid_100_count,grid_fgl936_count, grid_fgl936_count/grid_100_count])\n",
    "    return ser"
   ]
  },
  {
   "cell_type": "code",
   "execution_count": null,
   "metadata": {},
   "outputs": [],
   "source": [
    "data_merge_quchong.columns"
   ]
  },
  {
   "cell_type": "code",
   "execution_count": null,
   "metadata": {},
   "outputs": [],
   "source": [
    "#地市问题点"
   ]
  },
  {
   "cell_type": "code",
   "execution_count": null,
   "metadata": {},
   "outputs": [],
   "source": [
    "data_grid = data_merge_quchong.groupby(by='a.region_name').apply(aggfunc_grid)\n",
    "data_grid.reset_index(inplace=True)\n",
    "data_grid.columns = ['19年9月','总栅格','大于100采样点','弱覆盖栅格数量','大数据弱覆盖栅格占比']\n",
    "data_grid.sort_values(by = '大数据弱覆盖栅格占比',ascending = True,inplace = True)"
   ]
  },
  {
   "cell_type": "code",
   "execution_count": null,
   "metadata": {},
   "outputs": [],
   "source": [
    "#添加全网指标"
   ]
  },
  {
   "cell_type": "code",
   "execution_count": null,
   "metadata": {
    "scrolled": true
   },
   "outputs": [],
   "source": [
    "data_grid_quanwang = data_merge_quchong.groupby(by='全网').apply(aggfunc_grid)\n",
    "data_grid_quanwang.reset_index(inplace=True)\n",
    "data_grid_quanwang.columns = ['19年9月','总栅格','大于100采样点','弱覆盖栅格数量','大数据弱覆盖栅格占比']\n",
    "data_grid = pd.concat([data_grid,data_grid_quanwang])\n",
    "data_grid['大数据弱覆盖栅格占比'] = data_grid['大数据弱覆盖栅格占比'].apply(lambda x: format(x, '.2%'))    #Series.apply()让序列的值依次在lambda函数中执行； data['线损率']由小数转化为百分数\n",
    "data_grid"
   ]
  },
  {
   "cell_type": "code",
   "execution_count": null,
   "metadata": {},
   "outputs": [],
   "source": [
    "grid_zhanbi_qian3 = list(data_grid.iloc[0:3,0])"
   ]
  },
  {
   "cell_type": "code",
   "execution_count": null,
   "metadata": {},
   "outputs": [],
   "source": [
    "grid_zhanbi_hou3 = list(data_grid.iloc[-4:-1,0])"
   ]
  },
  {
   "cell_type": "code",
   "execution_count": null,
   "metadata": {},
   "outputs": [],
   "source": [
    "grid_zhanbi_hou3.reverse()"
   ]
  },
  {
   "cell_type": "code",
   "execution_count": null,
   "metadata": {},
   "outputs": [],
   "source": [
    "#区县问题点"
   ]
  },
  {
   "cell_type": "code",
   "execution_count": null,
   "metadata": {},
   "outputs": [],
   "source": [
    "data_grid_qx = data_merge_quchong.loc[data_merge_quchong['a.region_name']=='武汉'].groupby(by='区县').apply(aggfunc_grid)\n",
    "data_grid_qx.reset_index(inplace=True)\n",
    "data_grid_qx.columns = ['19年9月','总栅格','大于100采样点','弱覆盖栅格数量','大数据弱覆盖栅格占比']\n",
    "data_grid_qx.sort_values(by = '大数据弱覆盖栅格占比',ascending = True,inplace = True)\n",
    "data_grid_qx['大数据弱覆盖栅格占比'] = data_grid_qx['大数据弱覆盖栅格占比'].apply(lambda x: format(x, '.2%'))   \n",
    "data_grid_qx_ok = data_grid_qx.loc[data_grid_qx['19年9月'].isin(['武昌','洪山','青山','硚口','东新','江汉','江夏','东西湖','江岸','经开','蔡甸','汉阳','黄陂','新洲'])]"
   ]
  },
  {
   "cell_type": "code",
   "execution_count": null,
   "metadata": {},
   "outputs": [],
   "source": [
    "#武汉指标"
   ]
  },
  {
   "cell_type": "code",
   "execution_count": null,
   "metadata": {},
   "outputs": [],
   "source": [
    "data_grid_wuhan = data_grid.loc[data_grid['19年9月']=='武汉']\n",
    "data_grid_wuhan.columns = ['19年9月','总栅格','大于100采样点','弱覆盖栅格数量','大数据弱覆盖栅格占比']\n",
    "data_grid_qx_ok = pd.concat([data_grid_qx_ok,data_grid_wuhan])\n",
    "data_grid_qx_ok"
   ]
  },
  {
   "cell_type": "code",
   "execution_count": null,
   "metadata": {},
   "outputs": [],
   "source": [
    "grid_quxian_zhanbi_qian3 = list(data_grid_qx_ok.iloc[0:3,0])"
   ]
  },
  {
   "cell_type": "code",
   "execution_count": null,
   "metadata": {},
   "outputs": [],
   "source": [
    "grid_quxian_zhanbi_hou3 = list(data_grid_qx_ok.iloc[-4:-1,0])"
   ]
  },
  {
   "cell_type": "code",
   "execution_count": null,
   "metadata": {},
   "outputs": [],
   "source": [
    "grid_quxian_zhanbi_hou3.reverse()"
   ]
  },
  {
   "cell_type": "code",
   "execution_count": null,
   "metadata": {},
   "outputs": [],
   "source": []
  },
  {
   "cell_type": "code",
   "execution_count": null,
   "metadata": {},
   "outputs": [],
   "source": [
    "style_heading(wenzi ='3.大数据栅格粒度',jibie = 2,size = 12 , ziti=u'宋体',duiqi = 'LEFT')"
   ]
  },
  {
   "cell_type": "code",
   "execution_count": null,
   "metadata": {},
   "outputs": [],
   "source": [
    "p = document.add_paragraph('')\n",
    "style_paragraph_add(wenzi='1)大数据MR问题栅格占比:',bold = True)\n",
    "style_paragraph_add(wenzi='全省分地市，武汉分区县大数据问题栅格占比情况')\n",
    "p = document.add_paragraph('')\n",
    "style_paragraph_add(wenzi='指标定义：',bold = True)\n",
    "style_paragraph_add(wenzi='大数据MR问题栅格占比=大数据问题栅格数/总有效栅格数')\n",
    "p = document.add_paragraph('')\n",
    "style_paragraph_add(wenzi='大数据问题栅格：有效栅格MR覆盖率小于93.6%(此处门限定义为目标网设定全网达到96%的换算值)')\n",
    "p = document.add_paragraph('')\n",
    "style_paragraph_add(wenzi='总有效栅格数：栅格采样点数大于100')\n",
    "p = document.add_paragraph('')\n",
    "style_paragraph_add(wenzi='全省分地市情况：')\n",
    "style_paragraph_add(wenzi='、'.join(grid_zhanbi_qian3),bold = True)\n",
    "style_paragraph_add(wenzi='覆盖较好，MR弱覆盖栅格较少。')\n",
    "style_paragraph_add(wenzi='、'.join(grid_zhanbi_hou3),bold = True)\n",
    "style_paragraph_add(wenzi='覆盖相对较差，MR弱覆盖栅格较多。')\n",
    "p = document.add_paragraph('')\n",
    "style_paragraph_hongse_add(wenzi='注：大数据问题栅格标准是栅格覆盖率小于93.6%，故此处指标较高。')\n"
   ]
  },
  {
   "cell_type": "code",
   "execution_count": null,
   "metadata": {},
   "outputs": [],
   "source": [
    "#插入表格并赋值\n",
    "data = data_grid.copy()\n",
    "table = document.add_table(rows = data.shape[0]+1 , cols = data.shape[1],style = 'Table Grid')\n",
    "table.autofit=True\n",
    "table.rows[0].height=Cm(1)\n",
    "# 列名赋值\n",
    "hdr_cells = table.rows[0].cells\n",
    "for row in list(data.columns):\n",
    "    for num in range(0, data.shape[1]):\n",
    "        hdr_cells[num].text = u'' + list(data.columns)[num]\n",
    "        table.cell(0,num).paragraphs[0].paragraph_format.alignment=WD_ALIGN_PARAGRAPH.CENTER\n",
    "        table.cell(0,num).vertical_alignment = WD_ALIGN_VERTICAL.CENTER\n",
    "        shading_elm_2 = parse_xml(r'<w:shd {} w:fill=\"#BFBFBF\"/>'.format(nsdecls('w')))\n",
    "        table.cell(0,num)._tc.get_or_add_tcPr().append(shading_elm_2)\n",
    "    break\n",
    "# 内容赋值\n",
    "for row in range(1,data.shape[0]+1):\n",
    "    row_cells = table.rows[row].cells\n",
    "    for num in range(0, data.shape[1]):\n",
    "        row_cells[num].text = u'' + str(data.iloc[row-1,num])\n",
    "        table.cell(row,num).paragraphs[0].paragraph_format.alignment=WD_ALIGN_PARAGRAPH.CENTER\n",
    "        table.cell(row,num).vertical_alignment = WD_ALIGN_VERTICAL.CENTER"
   ]
  },
  {
   "cell_type": "code",
   "execution_count": null,
   "metadata": {},
   "outputs": [],
   "source": [
    "p = document.add_paragraph('')\n",
    "style_paragraph_add(wenzi='\\n武汉各区县中，')\n",
    "style_paragraph_add(wenzi='、'.join(grid_quxian_zhanbi_qian3),bold = True)\n",
    "style_paragraph_add(wenzi='覆盖较好，MR弱覆盖栅格较少。')\n",
    "style_paragraph_add(wenzi='、'.join(grid_quxian_zhanbi_hou3),bold = True)\n",
    "style_paragraph_add(wenzi='覆盖相对较差，MR弱覆盖栅格较多。')"
   ]
  },
  {
   "cell_type": "code",
   "execution_count": null,
   "metadata": {},
   "outputs": [],
   "source": [
    "#插入表格并赋值\n",
    "data = data_grid_qx_ok.copy()\n",
    "table = document.add_table(rows = data.shape[0]+1 , cols = data.shape[1],style = 'Table Grid')\n",
    "table.autofit=True\n",
    "table.rows[0].height=Cm(1)\n",
    "# 列名赋值\n",
    "hdr_cells = table.rows[0].cells\n",
    "for row in list(data.columns):\n",
    "    for num in range(0, data.shape[1]):\n",
    "        hdr_cells[num].text = u'' + list(data.columns)[num]\n",
    "        table.cell(0,num).paragraphs[0].paragraph_format.alignment=WD_ALIGN_PARAGRAPH.CENTER\n",
    "        table.cell(0,num).vertical_alignment = WD_ALIGN_VERTICAL.CENTER\n",
    "        shading_elm_2 = parse_xml(r'<w:shd {} w:fill=\"#BFBFBF\"/>'.format(nsdecls('w')))\n",
    "        table.cell(0,num)._tc.get_or_add_tcPr().append(shading_elm_2)\n",
    "    break\n",
    "# 内容赋值\n",
    "for row in range(1,data.shape[0]+1):\n",
    "    row_cells = table.rows[row].cells\n",
    "    for num in range(0, data.shape[1]):\n",
    "        row_cells[num].text = u'' + str(data.iloc[row-1,num])\n",
    "        table.cell(row,num).paragraphs[0].paragraph_format.alignment=WD_ALIGN_PARAGRAPH.CENTER\n",
    "        table.cell(row,num).vertical_alignment = WD_ALIGN_VERTICAL.CENTER"
   ]
  },
  {
   "cell_type": "markdown",
   "metadata": {},
   "source": [
    "### 严重弱覆盖栅格占比 "
   ]
  },
  {
   "cell_type": "code",
   "execution_count": null,
   "metadata": {},
   "outputs": [],
   "source": [
    "def aggfunc_grid_yanzhong(df):\n",
    "    grid_count = df['a.grid_id'].count()\n",
    "    grid_100_count = df['大于100采样点'].sum()\n",
    "    df1 = df.loc[df['大于100采样点']==1]\n",
    "    grid_fgl936_count = df1['严重弱覆盖栅格'].sum()\n",
    "    ser = pd.Series([grid_count, grid_100_count,grid_fgl936_count, grid_fgl936_count/grid_100_count])\n",
    "    return ser"
   ]
  },
  {
   "cell_type": "code",
   "execution_count": null,
   "metadata": {},
   "outputs": [],
   "source": [
    "#地市问题点"
   ]
  },
  {
   "cell_type": "code",
   "execution_count": null,
   "metadata": {},
   "outputs": [],
   "source": [
    "data_grid_yz = data_merge_quchong.groupby(by='a.region_name').apply(aggfunc_grid_yanzhong)\n",
    "data_grid_yz.reset_index(inplace=True)\n",
    "data_grid_yz.columns = ['19年9月','总栅格','大于100采样点','严重弱覆盖栅格数量','严重弱覆盖栅格占比']\n",
    "data_grid_yz.sort_values(by = '严重弱覆盖栅格占比',ascending = True,inplace = True)"
   ]
  },
  {
   "cell_type": "code",
   "execution_count": null,
   "metadata": {},
   "outputs": [],
   "source": [
    "#添加全网指标"
   ]
  },
  {
   "cell_type": "code",
   "execution_count": null,
   "metadata": {
    "scrolled": false
   },
   "outputs": [],
   "source": [
    "data_grid_quanwang_yz = data_merge_quchong.groupby(by='全网').apply(aggfunc_grid_yanzhong)\n",
    "data_grid_quanwang_yz.reset_index(inplace=True)\n",
    "data_grid_quanwang_yz.columns = ['19年9月','总栅格','大于100采样点','严重弱覆盖栅格数量','严重弱覆盖栅格占比']\n",
    "data_grid_yz = pd.concat([data_grid_yz,data_grid_quanwang_yz])\n",
    "data_grid_yz['严重弱覆盖栅格占比'] = data_grid_yz['严重弱覆盖栅格占比'].apply(lambda x: format(x, '.2%'))    #Series.apply()让序列的值依次在lambda函数中执行； data['线损率']由小数转化为百分数\n",
    "data_grid_yz"
   ]
  },
  {
   "cell_type": "code",
   "execution_count": null,
   "metadata": {},
   "outputs": [],
   "source": [
    "grid_yanzhong_qian3 = list(data_grid_yz.iloc[0:3,0])"
   ]
  },
  {
   "cell_type": "code",
   "execution_count": null,
   "metadata": {},
   "outputs": [],
   "source": [
    "grid_yanzhong_hou3 = list(data_grid_yz.iloc[-4:-1,0])"
   ]
  },
  {
   "cell_type": "code",
   "execution_count": null,
   "metadata": {},
   "outputs": [],
   "source": [
    "grid_yanzhong_hou3.reverse()"
   ]
  },
  {
   "cell_type": "code",
   "execution_count": null,
   "metadata": {},
   "outputs": [],
   "source": [
    "#区县问题点"
   ]
  },
  {
   "cell_type": "code",
   "execution_count": null,
   "metadata": {},
   "outputs": [],
   "source": [
    "data_grid_qx_yz = data_merge_quchong.loc[data_merge_quchong['a.region_name']=='武汉'].groupby(by='区县').apply(aggfunc_grid_yanzhong)\n",
    "data_grid_qx_yz.reset_index(inplace=True)\n",
    "data_grid_qx_yz.columns = ['19年9月','总栅格','大于100采样点','严重弱覆盖栅格数量','严重弱覆盖栅格占比']\n",
    "data_grid_qx_yz.sort_values(by = '严重弱覆盖栅格占比',ascending = True,inplace = True)\n",
    "data_grid_qx_yz['严重弱覆盖栅格占比'] = data_grid_qx_yz['严重弱覆盖栅格占比'].apply(lambda x: format(x, '.2%'))   \n",
    "data_grid_qx_yz_ok = data_grid_qx_yz.loc[data_grid_qx_yz['19年9月'].isin(['武昌','洪山','青山','硚口','东新','江汉','江夏','东西湖','江岸','经开','蔡甸','汉阳','黄陂','新洲'])]"
   ]
  },
  {
   "cell_type": "code",
   "execution_count": null,
   "metadata": {},
   "outputs": [],
   "source": [
    "#武汉指标"
   ]
  },
  {
   "cell_type": "code",
   "execution_count": null,
   "metadata": {
    "scrolled": true
   },
   "outputs": [],
   "source": [
    "data_grid_wuhan_yz = data_grid_yz.loc[data_grid_yz['19年9月']=='武汉']\n",
    "data_grid_wuhan_yz.columns = ['19年9月','总栅格','大于100采样点','严重弱覆盖栅格数量','严重弱覆盖栅格占比']\n",
    "data_grid_qx_yz_ok = pd.concat([data_grid_qx_yz_ok,data_grid_wuhan_yz])\n",
    "data_grid_qx_yz_ok"
   ]
  },
  {
   "cell_type": "code",
   "execution_count": null,
   "metadata": {},
   "outputs": [],
   "source": [
    "grid_yanzhong_quxian_qian3 = list(data_grid_qx_yz_ok.iloc[0:3,0])"
   ]
  },
  {
   "cell_type": "code",
   "execution_count": null,
   "metadata": {},
   "outputs": [],
   "source": [
    "grid_yanzhong_quxian_hou3 = list(data_grid_qx_yz_ok.iloc[-4:-1,0])"
   ]
  },
  {
   "cell_type": "code",
   "execution_count": null,
   "metadata": {},
   "outputs": [],
   "source": [
    "grid_yanzhong_quxian_hou3.reverse()"
   ]
  },
  {
   "cell_type": "code",
   "execution_count": null,
   "metadata": {},
   "outputs": [],
   "source": [
    "p = document.add_paragraph('')\n",
    "style_paragraph_add(wenzi='\\n2)严重弱覆盖栅格占比：',bold = True)\n",
    "style_paragraph_add(wenzi='全省分地市，武汉分区县大数据问题栅格占比情况')\n",
    "p = document.add_paragraph('')\n",
    "style_paragraph_add(wenzi='指标定义：',bold = True)\n",
    "style_paragraph_add(wenzi='大数据严重弱覆盖栅格占比=大数据严重问题栅格数/总有效栅格数大数据严重问题栅格：有效栅格MR覆盖率小于70%.')\n",
    "\n",
    "p = document.add_paragraph('')\n",
    "style_paragraph_add(wenzi='全省分地市情况：')\n",
    "style_paragraph_add(wenzi='、'.join(grid_yanzhong_qian3),bold = True)\n",
    "style_paragraph_add(wenzi='覆盖较好，MR弱覆盖栅格较少。')\n",
    "style_paragraph_add(wenzi='、'.join(grid_yanzhong_hou3),bold = True)\n",
    "style_paragraph_add(wenzi='覆盖相对较差，MR弱覆盖栅格较多。')"
   ]
  },
  {
   "cell_type": "code",
   "execution_count": null,
   "metadata": {},
   "outputs": [],
   "source": [
    "#插入表格并赋值\n",
    "data = data_grid_yz.copy()\n",
    "table = document.add_table(rows = data.shape[0]+1 , cols = data.shape[1],style = 'Table Grid')\n",
    "table.autofit=True\n",
    "table.rows[0].height=Cm(1)\n",
    "# 列名赋值\n",
    "hdr_cells = table.rows[0].cells\n",
    "for row in list(data.columns):\n",
    "    for num in range(0, data.shape[1]):\n",
    "        hdr_cells[num].text = u'' + list(data.columns)[num]\n",
    "        table.cell(0,num).paragraphs[0].paragraph_format.alignment=WD_ALIGN_PARAGRAPH.CENTER\n",
    "        table.cell(0,num).vertical_alignment = WD_ALIGN_VERTICAL.CENTER\n",
    "        shading_elm_2 = parse_xml(r'<w:shd {} w:fill=\"#BFBFBF\"/>'.format(nsdecls('w')))\n",
    "        table.cell(0,num)._tc.get_or_add_tcPr().append(shading_elm_2)\n",
    "    break\n",
    "# 内容赋值\n",
    "for row in range(1,data.shape[0]+1):\n",
    "    row_cells = table.rows[row].cells\n",
    "    for num in range(0, data.shape[1]):\n",
    "        row_cells[num].text = u'' + str(data.iloc[row-1,num])\n",
    "        table.cell(row,num).paragraphs[0].paragraph_format.alignment=WD_ALIGN_PARAGRAPH.CENTER\n",
    "        table.cell(row,num).vertical_alignment = WD_ALIGN_VERTICAL.CENTER"
   ]
  },
  {
   "cell_type": "code",
   "execution_count": null,
   "metadata": {},
   "outputs": [],
   "source": [
    "p = document.add_paragraph('')\n",
    "style_paragraph_add(wenzi='\\n武汉各区县中，')\n",
    "style_paragraph_add(wenzi='、'.join(grid_yanzhong_quxian_qian3),bold = True)\n",
    "style_paragraph_add(wenzi='覆盖较好，MR严重弱覆盖栅格较少。')\n",
    "style_paragraph_add(wenzi='、'.join(grid_yanzhong_quxian_hou3),bold = True)\n",
    "style_paragraph_add(wenzi='覆盖相对较差，MR严重弱覆盖栅格较多。')"
   ]
  },
  {
   "cell_type": "code",
   "execution_count": null,
   "metadata": {},
   "outputs": [],
   "source": [
    "#插入表格并赋值\n",
    "data = data_grid_qx_yz_ok.copy()\n",
    "table = document.add_table(rows = data.shape[0]+1 , cols = data.shape[1],style = 'Table Grid')\n",
    "table.autofit=True\n",
    "table.rows[0].height=Cm(1)\n",
    "# 列名赋值\n",
    "hdr_cells = table.rows[0].cells\n",
    "for row in list(data.columns):\n",
    "    for num in range(0, data.shape[1]):\n",
    "        hdr_cells[num].text = u'' + list(data.columns)[num]\n",
    "        table.cell(0,num).paragraphs[0].paragraph_format.alignment=WD_ALIGN_PARAGRAPH.CENTER\n",
    "        table.cell(0,num).vertical_alignment = WD_ALIGN_VERTICAL.CENTER\n",
    "        shading_elm_2 = parse_xml(r'<w:shd {} w:fill=\"#BFBFBF\"/>'.format(nsdecls('w')))\n",
    "        table.cell(0,num)._tc.get_or_add_tcPr().append(shading_elm_2)\n",
    "    break\n",
    "# 内容赋值\n",
    "for row in range(1,data.shape[0]+1):\n",
    "    row_cells = table.rows[row].cells\n",
    "    for num in range(0, data.shape[1]):\n",
    "        row_cells[num].text = u'' + str(data.iloc[row-1,num])\n",
    "        table.cell(row,num).paragraphs[0].paragraph_format.alignment=WD_ALIGN_PARAGRAPH.CENTER\n",
    "        table.cell(row,num).vertical_alignment = WD_ALIGN_VERTICAL.CENTER"
   ]
  },
  {
   "cell_type": "code",
   "execution_count": null,
   "metadata": {},
   "outputs": [],
   "source": [
    "#添加word内容=======================\n",
    "style_heading(wenzi ='二、\t整体评估',jibie = 2,size = 14 , ziti=u'宋体',duiqi = 'LEFT')\n",
    "style_paragraph(wenzi = '各指标项分值见分值列：地市指标按指标情况线性取值。')\n",
    "\n",
    "#插入表格并赋值\n",
    "data = biaozhun.copy()\n",
    "table = document.add_table(rows = data.shape[0]+1 , cols = data.shape[1],style = 'Table Grid')\n",
    "table.autofit=True\n",
    "table.rows[0].height=Cm(1)\n",
    "# 列名赋值\n",
    "hdr_cells = table.rows[0].cells\n",
    "for row in list(data.columns):\n",
    "    for num in range(0, data.shape[1]):\n",
    "        hdr_cells[num].text = u'' + list(data.columns)[num]\n",
    "        table.cell(0,num).paragraphs[0].paragraph_format.alignment=WD_ALIGN_PARAGRAPH.CENTER\n",
    "        table.cell(0,num).vertical_alignment = WD_ALIGN_VERTICAL.CENTER\n",
    "        shading_elm_2 = parse_xml(r'<w:shd {} w:fill=\"#BFBFBF\"/>'.format(nsdecls('w')))\n",
    "        table.cell(0,num)._tc.get_or_add_tcPr().append(shading_elm_2)\n",
    "    break\n",
    "# 内容赋值\n",
    "for row in range(1,data.shape[0]+1):\n",
    "    row_cells = table.rows[row].cells\n",
    "    for num in range(0, data.shape[1]):\n",
    "        row_cells[num].text = u'' + str(data.iloc[row-1,num])\n",
    "        table.cell(row,num).paragraphs[0].paragraph_format.alignment=WD_ALIGN_PARAGRAPH.CENTER\n",
    "        table.cell(row,num).vertical_alignment = WD_ALIGN_VERTICAL.CENTER\n",
    "#得分计算——地市\n",
    "list_dishi2 = ['孝感','襄阳','咸宁','随州','十堰','荆州','荆门','黄石','鄂州','黄冈','恩施','宜昌','潜江','天门','江汉','武汉','全网']\n",
    "pingfen_dishi = pd.DataFrame({'地市': list_dishi2})\n",
    "pingfen_dishi['全网MR覆盖率']=0\n",
    "pingfen_dishi['得分1']=0\n",
    "pingfen_dishi['问题小区占比']=0\n",
    "pingfen_dishi['得分2']=0\n",
    "pingfen_dishi['大数据MR问题栅格占比']=0\n",
    "pingfen_dishi['得分3']=0\n",
    "pingfen_dishi['严重弱覆盖栅格占比']=0\n",
    "pingfen_dishi['得分4']=0\n",
    "pingfen_dishi['总得分']=0\n",
    "\n",
    "pingfen_dishi.set_index('地市',inplace = True)\n",
    "data_fgl_index = data_fgl.set_index('全网-指标')\n",
    "data_wenti_index = data_wenti.set_index('地市')\n",
    "data_grid_index = data_grid.set_index('19年9月')\n",
    "data_grid_yz_index = data_grid_yz.set_index('19年9月')\n",
    "pingfen_dishi['全网MR覆盖率'].update(data_fgl_index['全网移动覆盖率'])\n",
    "pingfen_dishi['问题小区占比'].update(data_wenti_index['问题小区占比'])\n",
    "pingfen_dishi['大数据MR问题栅格占比'].update(data_grid_index['大数据弱覆盖栅格占比'])\n",
    "pingfen_dishi['严重弱覆盖栅格占比'].update(data_grid_yz_index['严重弱覆盖栅格占比'])\n",
    "pingfen_dishi['得分1'] = pd.to_numeric(pingfen_dishi['全网MR覆盖率'].str.replace('%',''))*20/100\n",
    "pingfen_dishi['得分2'] = 10-pd.to_numeric(pingfen_dishi['问题小区占比'].str.replace('%',''))*10/100\n",
    "pingfen_dishi['得分3'] = 10-pd.to_numeric(pingfen_dishi['大数据MR问题栅格占比'].str.replace('%',''))*10/100\n",
    "pingfen_dishi['得分4'] = 60-pd.to_numeric(pingfen_dishi['严重弱覆盖栅格占比'].str.replace('%',''))/100*60\n",
    "pingfen_dishi['总得分'] = pingfen_dishi['得分1']+pingfen_dishi['得分2']+pingfen_dishi['得分3']+pingfen_dishi['得分4']\n",
    "pingfen_dishi_1 = pingfen_dishi.round(decimals = 2)\n",
    "pingfen_dishi_1.sort_values('总得分',ascending=False,inplace = True)\n",
    "pingfen_dishi_1.reset_index(inplace = True)\n",
    "\n",
    "pingfen_dishi_res = pd.concat([pingfen_dishi_1.loc[pingfen_dishi_1['地市']!='全网'],pingfen_dishi_1.loc[pingfen_dishi_1['地市']=='全网']])\n",
    "pingfen_dishi_res.reset_index(drop=True,inplace = True)\n",
    "\n",
    "pingfen_dishi_res.shape\n",
    "if data_grid_qx_yz_ok.shape[0]>=7:\n",
    "    pingfen_dishi_qian3 = list(pingfen_dishi_res.iloc[0:3,0])\n",
    "    pingfen_dishi_hou3 = list(pingfen_dishi_res.iloc[-4:-1,0])\n",
    "    pingfen_dishi_hou3.reverse()\n",
    "elif pingfen_dishi_res.shape[0]>=5:\n",
    "    pingfen_dishi_qian3 = list(pingfen_dishi_res.iloc[0:2,0])\n",
    "    pingfen_dishi_hou3 = list(pingfen_dishi_res.iloc[-3:-1,0])\n",
    "    pingfen_dishi_hou3.reverse()\n",
    "else:\n",
    "    pingfen_dishi_qian3 = list(pingfen_dishi_res.iloc[0:1,0])\n",
    "    pingfen_dishi_hou3 = list(pingfen_dishi_res.iloc[-2:-1,0])\n",
    "    pingfen_dishi_hou3.reverse()\n",
    "wuhan_paiming = pingfen_dishi_res[pingfen_dishi_res['地市'].isin(['武汉'])].index[0]+1\n",
    "\n",
    "p = document.add_paragraph('')\n",
    "p = document.add_paragraph('')\n",
    "style_paragraph_add(wenzi='最后依据地市每项得分的总和得到地市总得分，排序情况如下：')\n",
    "style_paragraph_add(wenzi='、'.join(pingfen_dishi_qian3),bold = True)\n",
    "style_paragraph_add(wenzi='得分最高。')\n",
    "style_paragraph_add(wenzi='、'.join(pingfen_dishi_hou3),bold = True)\n",
    "style_paragraph_add(wenzi='得分最低。')\n",
    "style_paragraph_hongse_add(wenzi='武分排名'+str(wuhan_paiming)+'。')\n",
    "#插入表格并赋值\n",
    "data = pingfen_dishi_res.copy()\n",
    "table = document.add_table(rows = data.shape[0]+1 , cols = data.shape[1],style = 'Table Grid')\n",
    "table.autofit=True\n",
    "table.rows[0].height=Cm(1)\n",
    "# 列名赋值\n",
    "hdr_cells = table.rows[0].cells\n",
    "for row in list(data.columns):\n",
    "    for num in range(0, data.shape[1]):\n",
    "        hdr_cells[num].text = u'' + list(data.columns)[num]\n",
    "        table.cell(0,num).paragraphs[0].paragraph_format.alignment=WD_ALIGN_PARAGRAPH.CENTER\n",
    "        table.cell(0,num).vertical_alignment = WD_ALIGN_VERTICAL.CENTER\n",
    "        shading_elm_2 = parse_xml(r'<w:shd {} w:fill=\"#BFBFBF\"/>'.format(nsdecls('w')))\n",
    "        table.cell(0,num)._tc.get_or_add_tcPr().append(shading_elm_2)\n",
    "    break\n",
    "# 内容赋值\n",
    "for row in range(1,data.shape[0]+1):\n",
    "    row_cells = table.rows[row].cells\n",
    "    for num in range(0, data.shape[1]):\n",
    "        row_cells[num].text = u'' + str(data.iloc[row-1,num])\n",
    "        table.cell(row,num).paragraphs[0].paragraph_format.alignment=WD_ALIGN_PARAGRAPH.CENTER\n",
    "        table.cell(row,num).vertical_alignment = WD_ALIGN_VERTICAL.CENTER"
   ]
  },
  {
   "cell_type": "code",
   "execution_count": null,
   "metadata": {},
   "outputs": [],
   "source": [
    "#得分-区县\n",
    "pingfen_quxian = data_fgl_qx_ok[['区域','全网移动覆盖率']]\n",
    "pingfen_quxian = pingfen_quxian.reindex(columns=['区域','全网移动覆盖率','得分1','问题小区占比','得分2','大数据MR问题栅格占比','得分3','严重弱覆盖栅格占比','得分4','总得分'])\n",
    "pingfen_quxian1 = pingfen_quxian.set_index('区域')\n",
    "data_wenti_qx_ok_index = data_wenti_qx_ok.set_index('区县')\n",
    "data_grid_qx_ok_index = data_grid_qx_ok.set_index('19年9月')\n",
    "data_grid_qx_yz_ok_index = data_grid_qx_yz_ok.set_index('19年9月')\n",
    "pingfen_quxian1['问题小区占比'].update(data_wenti_qx_ok_index['问题小区占比'])\n",
    "pingfen_quxian1['大数据MR问题栅格占比'].update(data_grid_qx_ok_index['大数据弱覆盖栅格占比'])\n",
    "pingfen_quxian1['严重弱覆盖栅格占比'].update(data_grid_qx_yz_ok_index['严重弱覆盖栅格占比'])\n",
    "pingfen_quxian1['得分1'] = pd.to_numeric(pingfen_quxian1['全网移动覆盖率'].str.replace('%',''))*20/100\n",
    "pingfen_quxian1['得分2'] = 10-pd.to_numeric(pingfen_quxian1['问题小区占比'].str.replace('%',''))*10/100\n",
    "pingfen_quxian1['得分3'] = 10-pd.to_numeric(pingfen_quxian1['大数据MR问题栅格占比'].str.replace('%',''))*10/100\n",
    "pingfen_quxian1['得分4'] = 60-pd.to_numeric(pingfen_quxian1['严重弱覆盖栅格占比'].str.replace('%',''))/100*60\n",
    "pingfen_quxian1['总得分'] = pingfen_quxian1['得分1']+pingfen_quxian1['得分2']+pingfen_quxian1['得分3']+pingfen_quxian1['得分4']\n",
    "pingfen_quxian_1 = pingfen_quxian1.round(decimals = 2)\n",
    "pingfen_quxian_1.sort_values('总得分',ascending=False,inplace = True)\n",
    "pingfen_quxian_1.reset_index(inplace = True)\n",
    "\n",
    "pingfen_quxian_res = pd.concat([pingfen_quxian_1.loc[pingfen_quxian_1['区域']!=dishi_name],pingfen_quxian_1.loc[pingfen_quxian_1['区域']==dishi_name]])\n",
    "pingfen_quxian_res.reset_index(drop=True,inplace = True)\n",
    "\n",
    "if pingfen_quxian_res.shape[0]>=7:\n",
    "    pingfen_quxian_qian3 = list(pingfen_quxian_res.iloc[0:3,0])\n",
    "    pingfen_quxian_hou3 = list(pingfen_quxian_res.iloc[-4:-1,0])\n",
    "    pingfen_quxian_hou3.reverse()\n",
    "elif pingfen_quxian_res.shape[0]>=5:\n",
    "    pingfen_quxian_qian3 = list(pingfen_quxian_res.iloc[0:2,0])\n",
    "    pingfen_quxian_hou3 = list(pingfen_quxian_res.iloc[-3:-1,0])\n",
    "    pingfen_quxian_hou3.reverse()\n",
    "else:\n",
    "    pingfen_quxian_qian3 = list(pingfen_quxian_res.iloc[0:1,0])\n",
    "    pingfen_quxian_hou3 = list(pingfen_quxian_res.iloc[-2:-1,0])\n",
    "    pingfen_quxian_hou3.reverse()\n",
    "\n",
    "p = document.add_paragraph('')\n",
    "p = document.add_paragraph('')\n",
    "style_paragraph_add(wenzi='依据'+dishi_name+'区县的每项得分总和得到各区县的总得分，排序如下：')\n",
    "if pingfen_quxian_res.shape[0]<3:\n",
    "    pass\n",
    "else:\n",
    "    style_paragraph_add(wenzi='、'.join(pingfen_quxian_qian3),bold = True)\n",
    "    style_paragraph_add(wenzi='得分最高。')\n",
    "    style_paragraph_add(wenzi='、'.join(pingfen_quxian_hou3),bold = True)\n",
    "    style_paragraph_add(wenzi='得分最低。')\n",
    "#插入表格并赋值\n",
    "data = pingfen_quxian_res.copy()\n",
    "table = document.add_table(rows = data.shape[0]+1 , cols = data.shape[1],style = 'Table Grid')\n",
    "table.autofit=True\n",
    "table.rows[0].height=Cm(1)\n",
    "# 列名赋值\n",
    "hdr_cells = table.rows[0].cells\n",
    "for row in list(data.columns):\n",
    "    for num in range(0, data.shape[1]):\n",
    "        hdr_cells[num].text = u'' + list(data.columns)[num]\n",
    "        table.cell(0,num).paragraphs[0].paragraph_format.alignment=WD_ALIGN_PARAGRAPH.CENTER\n",
    "        table.cell(0,num).vertical_alignment = WD_ALIGN_VERTICAL.CENTER\n",
    "        shading_elm_2 = parse_xml(r'<w:shd {} w:fill=\"#BFBFBF\"/>'.format(nsdecls('w')))\n",
    "        table.cell(0,num)._tc.get_or_add_tcPr().append(shading_elm_2)\n",
    "    break\n",
    "# 内容赋值\n",
    "for row in range(1,data.shape[0]+1):\n",
    "    row_cells = table.rows[row].cells\n",
    "    for num in range(0, data.shape[1]):\n",
    "        row_cells[num].text = u'' + str(data.iloc[row-1,num])\n",
    "        table.cell(row,num).paragraphs[0].paragraph_format.alignment=WD_ALIGN_PARAGRAPH.CENTER\n",
    "        table.cell(row,num).vertical_alignment = WD_ALIGN_VERTICAL.CENTER"
   ]
  },
  {
   "cell_type": "code",
   "execution_count": null,
   "metadata": {},
   "outputs": [],
   "source": [
    "document.save('ceshi1.docx')  #保存文档"
   ]
  },
  {
   "cell_type": "code",
   "execution_count": null,
   "metadata": {},
   "outputs": [],
   "source": []
  },
  {
   "cell_type": "code",
   "execution_count": null,
   "metadata": {},
   "outputs": [],
   "source": []
  },
  {
   "cell_type": "code",
   "execution_count": null,
   "metadata": {},
   "outputs": [],
   "source": []
  },
  {
   "cell_type": "code",
   "execution_count": null,
   "metadata": {},
   "outputs": [],
   "source": []
  },
  {
   "cell_type": "code",
   "execution_count": null,
   "metadata": {},
   "outputs": [],
   "source": []
  },
  {
   "cell_type": "code",
   "execution_count": null,
   "metadata": {},
   "outputs": [],
   "source": []
  },
  {
   "cell_type": "code",
   "execution_count": null,
   "metadata": {},
   "outputs": [],
   "source": []
  },
  {
   "cell_type": "code",
   "execution_count": null,
   "metadata": {},
   "outputs": [],
   "source": []
  },
  {
   "cell_type": "code",
   "execution_count": null,
   "metadata": {},
   "outputs": [],
   "source": []
  }
 ],
 "metadata": {
  "kernelspec": {
   "display_name": "Python 3",
   "language": "python",
   "name": "python3"
  },
  "language_info": {
   "codemirror_mode": {
    "name": "ipython",
    "version": 3
   },
   "file_extension": ".py",
   "mimetype": "text/x-python",
   "name": "python",
   "nbconvert_exporter": "python",
   "pygments_lexer": "ipython3",
   "version": "3.7.4"
  },
  "toc": {
   "base_numbering": 1,
   "nav_menu": {},
   "number_sections": true,
   "sideBar": true,
   "skip_h1_title": false,
   "title_cell": "Table of Contents",
   "title_sidebar": "Contents",
   "toc_cell": false,
   "toc_position": {},
   "toc_section_display": true,
   "toc_window_display": false
  },
  "varInspector": {
   "cols": {
    "lenName": 16,
    "lenType": 16,
    "lenVar": 40
   },
   "kernels_config": {
    "python": {
     "delete_cmd_postfix": "",
     "delete_cmd_prefix": "del ",
     "library": "var_list.py",
     "varRefreshCmd": "print(var_dic_list())"
    },
    "r": {
     "delete_cmd_postfix": ") ",
     "delete_cmd_prefix": "rm(",
     "library": "var_list.r",
     "varRefreshCmd": "cat(var_dic_list()) "
    }
   },
   "types_to_exclude": [
    "module",
    "function",
    "builtin_function_or_method",
    "instance",
    "_Feature"
   ],
   "window_display": false
  }
 },
 "nbformat": 4,
 "nbformat_minor": 2
}
