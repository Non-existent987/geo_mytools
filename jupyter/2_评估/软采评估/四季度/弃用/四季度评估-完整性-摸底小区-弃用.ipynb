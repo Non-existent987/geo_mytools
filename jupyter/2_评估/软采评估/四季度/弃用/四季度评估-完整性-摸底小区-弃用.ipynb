{
 "cells": [
  {
   "cell_type": "markdown",
   "metadata": {},
   "source": [
    " # --------四季度摸底数据评估--------\n",
    " ## 使用12月摸底数据，商俊发出来的版本进行评估"
   ]
  },
  {
   "cell_type": "code",
   "execution_count": 1,
   "metadata": {},
   "outputs": [],
   "source": [
    "import mytools\n",
    "import pandas as pd\n",
    "import geopandas as gpd"
   ]
  },
  {
   "cell_type": "markdown",
   "metadata": {},
   "source": [
    "### ---导入摸底数据---"
   ]
  },
  {
   "cell_type": "code",
   "execution_count": 2,
   "metadata": {},
   "outputs": [],
   "source": [
    "data = pd.read_csv('h:/1-规划/评估/软采评估/2019第四季度/软采小区/使用摸底小区/12月4个厂家数据汇总.csv',encoding='gbk')"
   ]
  },
  {
   "cell_type": "code",
   "execution_count": 9,
   "metadata": {},
   "outputs": [],
   "source": [
    "day,city,cgi,cell_name,rsrp_count,rsrp_weak,un_count,un_weak,te_count,te_weak = [\n",
    "    '时间', 'a.region_name', 'CGI', 'a.eutrancell_name','总点', \n",
    "    '弱点', 'a.un_maxrsrp_sample_count', 'a.un_maxrsrp_weak_l2', 'a.te_maxrsrp_sample_count', 'a.te_maxrsrp_weak_l2']"
   ]
  },
  {
   "cell_type": "code",
   "execution_count": 24,
   "metadata": {},
   "outputs": [],
   "source": [
    "data[city]=''\n",
    "data[cell_name]=''\n",
    "data[un_count]=11111\n",
    "data[un_weak]=11111\n",
    "data[te_count]=11111\n",
    "data[te_weak]=11111"
   ]
  },
  {
   "cell_type": "code",
   "execution_count": 25,
   "metadata": {},
   "outputs": [],
   "source": [
    "ruancai_cel_use  = data[[day,city,cgi,cell_name,rsrp_count,rsrp_weak,un_count,un_weak,te_count,te_weak]]"
   ]
  },
  {
   "cell_type": "markdown",
   "metadata": {},
   "source": [
    "### ---导入工参数据---"
   ]
  },
  {
   "cell_type": "code",
   "execution_count": 5,
   "metadata": {},
   "outputs": [],
   "source": [
    "gongcan = pd.read_csv(open('h:/1-规划/工参/工参数据/ltejizhan20200108.csv',encoding='gbk'),usecols=['小区CGI(*)','所属地区'])"
   ]
  },
  {
   "cell_type": "code",
   "execution_count": 6,
   "metadata": {},
   "outputs": [],
   "source": [
    "gongcan_cgi,gongcan_city=['小区CGI(*)','所属地区']"
   ]
  },
  {
   "cell_type": "markdown",
   "metadata": {},
   "source": [
    "### ---处理数据---"
   ]
  },
  {
   "cell_type": "code",
   "execution_count": 26,
   "metadata": {},
   "outputs": [],
   "source": [
    "#定义结果的列\n",
    "gongcan_cgi_sum,cgi_sum,un_valid_sum,te_valid_sum,lv_cmcc,lv_un,lv_te=[\n",
    "    '现网小区数量', '软采数量', '联通有效小区', '电信有效小区','软采采集率_本网', '软采小区采集率_联通', '软采小区采集率_电信']"
   ]
  },
  {
   "cell_type": "code",
   "execution_count": 27,
   "metadata": {},
   "outputs": [],
   "source": [
    "gongcan_merge = gongcan.merge(ruancai_cel_use,how='left',left_on=gongcan_cgi,right_on=cgi)\n",
    "\n",
    "cmcc_data = gongcan_merge.groupby(gongcan_city).agg({gongcan_cgi:'count',cgi:'count'})\n",
    "un_data = gongcan_merge.loc[gongcan_merge[un_count]>1000].groupby(gongcan_city).agg({gongcan_cgi:'count'})\n",
    "te_data = gongcan_merge.loc[gongcan_merge[te_count]>1000].groupby(gongcan_city).agg({gongcan_cgi:'count'})\n",
    "\n",
    "jingdui_data = un_data.merge(te_data,left_index=True,right_index=True,suffixes=('_un','_te'))\n",
    "data_res = cmcc_data.merge(jingdui_data,left_index=True,right_index=True,suffixes=('_cmcc','_jd'))\n",
    "\n",
    "sum_data = data_res.sum()#添加一行总计\n",
    "sum_data.name='总计'\n",
    "data_res = data_res.append(sum_data)\n",
    "\n",
    "data_res[lv_cmcc] = data_res[cgi]/data_res[gongcan_cgi]\n",
    "data_res[lv_un] = data_res[gongcan_cgi+'_un']/data_res[cgi]\n",
    "data_res[lv_te] = data_res[gongcan_cgi+'_te']/data_res[cgi]\n",
    "\n",
    "data_res.columns = [gongcan_cgi_sum,cgi_sum,un_valid_sum,te_valid_sum,lv_cmcc,lv_un,lv_te]"
   ]
  },
  {
   "cell_type": "markdown",
   "metadata": {},
   "source": [
    "### ---生成结果---"
   ]
  },
  {
   "cell_type": "code",
   "execution_count": 29,
   "metadata": {},
   "outputs": [],
   "source": [
    "#定义结果的列\n",
    "gongcan_cgi_sum,cgi_sum,un_valid_sum,te_valid_sum,lv_cmcc,lv_un,lv_te=[\n",
    "    '现网小区数量', '软采数量', '联通有效小区', '电信有效小区','软采采集率_本网', '软采小区采集率_联通', '软采小区采集率_电信']\n",
    "\n",
    "def sort_data(df,cj='xxx'):\n",
    "    df_head = df.iloc[:-1]\n",
    "    df_head_sort = df_head.sort_values(cj,ascending=False)\n",
    "    df_head_foot = df_head_sort.append(df.iloc[-1])\n",
    "    for xx in [lv_cmcc,lv_un,lv_te]:\n",
    "        df_head_foot[xx] = df_head_foot[xx].apply(lambda x: format(x, '.2%'))#转成百分比\n",
    "    return df_head_foot\n",
    "\n",
    "cmcc_res = sort_data(data_res,lv_cmcc)[[gongcan_cgi_sum,cgi_sum,lv_cmcc]].reset_index()\n",
    "un_res = sort_data(data_res,lv_un)[[gongcan_cgi_sum,cgi_sum,un_valid_sum,lv_un]].reset_index()\n",
    "te_res = sort_data(data_res,lv_te)[[gongcan_cgi_sum,cgi_sum,te_valid_sum,lv_te]].reset_index()\n",
    "\n",
    "cmcc_res.to_csv('h:/1-规划/评估/软采评估/2019第四季度/完整性评估/基础文件储存/摸底小区/cmcc_res.csv',encoding='gbk',index=False)\n",
    "un_res.to_csv('h:/1-规划/评估/软采评估/2019第四季度/完整性评估/基础文件储存/摸底小区/un_res.csv',encoding='gbk',index=False)\n",
    "te_res.to_csv('h:/1-规划/评估/软采评估/2019第四季度/完整性评估/基础文件储存/摸底小区/te_res.csv',encoding='gbk',index=False)"
   ]
  },
  {
   "cell_type": "code",
   "execution_count": 30,
   "metadata": {},
   "outputs": [
    {
     "data": {
      "text/html": [
       "<div>\n",
       "<style scoped>\n",
       "    .dataframe tbody tr th:only-of-type {\n",
       "        vertical-align: middle;\n",
       "    }\n",
       "\n",
       "    .dataframe tbody tr th {\n",
       "        vertical-align: top;\n",
       "    }\n",
       "\n",
       "    .dataframe thead th {\n",
       "        text-align: right;\n",
       "    }\n",
       "</style>\n",
       "<table border=\"1\" class=\"dataframe\">\n",
       "  <thead>\n",
       "    <tr style=\"text-align: right;\">\n",
       "      <th></th>\n",
       "      <th>所属地区</th>\n",
       "      <th>现网小区数量</th>\n",
       "      <th>软采数量</th>\n",
       "      <th>软采采集率_本网</th>\n",
       "    </tr>\n",
       "  </thead>\n",
       "  <tbody>\n",
       "    <tr>\n",
       "      <th>0</th>\n",
       "      <td>随州</td>\n",
       "      <td>15128.0</td>\n",
       "      <td>14193.0</td>\n",
       "      <td>93.82%</td>\n",
       "    </tr>\n",
       "    <tr>\n",
       "      <th>1</th>\n",
       "      <td>襄阳</td>\n",
       "      <td>32999.0</td>\n",
       "      <td>29219.0</td>\n",
       "      <td>88.55%</td>\n",
       "    </tr>\n",
       "    <tr>\n",
       "      <th>2</th>\n",
       "      <td>潜江</td>\n",
       "      <td>4932.0</td>\n",
       "      <td>4300.0</td>\n",
       "      <td>87.19%</td>\n",
       "    </tr>\n",
       "    <tr>\n",
       "      <th>3</th>\n",
       "      <td>咸宁</td>\n",
       "      <td>16466.0</td>\n",
       "      <td>13701.0</td>\n",
       "      <td>83.21%</td>\n",
       "    </tr>\n",
       "    <tr>\n",
       "      <th>4</th>\n",
       "      <td>孝感</td>\n",
       "      <td>23296.0</td>\n",
       "      <td>19223.0</td>\n",
       "      <td>82.52%</td>\n",
       "    </tr>\n",
       "    <tr>\n",
       "      <th>5</th>\n",
       "      <td>天门</td>\n",
       "      <td>5385.0</td>\n",
       "      <td>4269.0</td>\n",
       "      <td>79.28%</td>\n",
       "    </tr>\n",
       "    <tr>\n",
       "      <th>6</th>\n",
       "      <td>宜昌</td>\n",
       "      <td>30986.0</td>\n",
       "      <td>24526.0</td>\n",
       "      <td>79.15%</td>\n",
       "    </tr>\n",
       "    <tr>\n",
       "      <th>7</th>\n",
       "      <td>鄂州</td>\n",
       "      <td>7645.0</td>\n",
       "      <td>5972.0</td>\n",
       "      <td>78.12%</td>\n",
       "    </tr>\n",
       "    <tr>\n",
       "      <th>8</th>\n",
       "      <td>江汉</td>\n",
       "      <td>5937.0</td>\n",
       "      <td>4602.0</td>\n",
       "      <td>77.51%</td>\n",
       "    </tr>\n",
       "    <tr>\n",
       "      <th>9</th>\n",
       "      <td>荆门</td>\n",
       "      <td>16683.0</td>\n",
       "      <td>12508.0</td>\n",
       "      <td>74.97%</td>\n",
       "    </tr>\n",
       "    <tr>\n",
       "      <th>10</th>\n",
       "      <td>恩施</td>\n",
       "      <td>22294.0</td>\n",
       "      <td>15687.0</td>\n",
       "      <td>70.36%</td>\n",
       "    </tr>\n",
       "    <tr>\n",
       "      <th>11</th>\n",
       "      <td>荆州</td>\n",
       "      <td>29818.0</td>\n",
       "      <td>20618.0</td>\n",
       "      <td>69.15%</td>\n",
       "    </tr>\n",
       "    <tr>\n",
       "      <th>12</th>\n",
       "      <td>黄石</td>\n",
       "      <td>15344.0</td>\n",
       "      <td>9727.0</td>\n",
       "      <td>63.39%</td>\n",
       "    </tr>\n",
       "    <tr>\n",
       "      <th>13</th>\n",
       "      <td>黄冈</td>\n",
       "      <td>28116.0</td>\n",
       "      <td>16542.0</td>\n",
       "      <td>58.83%</td>\n",
       "    </tr>\n",
       "    <tr>\n",
       "      <th>14</th>\n",
       "      <td>武汉</td>\n",
       "      <td>86787.0</td>\n",
       "      <td>47591.0</td>\n",
       "      <td>54.84%</td>\n",
       "    </tr>\n",
       "    <tr>\n",
       "      <th>15</th>\n",
       "      <td>十堰</td>\n",
       "      <td>24289.0</td>\n",
       "      <td>12446.0</td>\n",
       "      <td>51.24%</td>\n",
       "    </tr>\n",
       "    <tr>\n",
       "      <th>16</th>\n",
       "      <td>总计</td>\n",
       "      <td>366105.0</td>\n",
       "      <td>255124.0</td>\n",
       "      <td>69.69%</td>\n",
       "    </tr>\n",
       "  </tbody>\n",
       "</table>\n",
       "</div>"
      ],
      "text/plain": [
       "   所属地区    现网小区数量      软采数量 软采采集率_本网\n",
       "0    随州   15128.0   14193.0   93.82%\n",
       "1    襄阳   32999.0   29219.0   88.55%\n",
       "2    潜江    4932.0    4300.0   87.19%\n",
       "3    咸宁   16466.0   13701.0   83.21%\n",
       "4    孝感   23296.0   19223.0   82.52%\n",
       "5    天门    5385.0    4269.0   79.28%\n",
       "6    宜昌   30986.0   24526.0   79.15%\n",
       "7    鄂州    7645.0    5972.0   78.12%\n",
       "8    江汉    5937.0    4602.0   77.51%\n",
       "9    荆门   16683.0   12508.0   74.97%\n",
       "10   恩施   22294.0   15687.0   70.36%\n",
       "11   荆州   29818.0   20618.0   69.15%\n",
       "12   黄石   15344.0    9727.0   63.39%\n",
       "13   黄冈   28116.0   16542.0   58.83%\n",
       "14   武汉   86787.0   47591.0   54.84%\n",
       "15   十堰   24289.0   12446.0   51.24%\n",
       "16   总计  366105.0  255124.0   69.69%"
      ]
     },
     "execution_count": 30,
     "metadata": {},
     "output_type": "execute_result"
    }
   ],
   "source": [
    "cmcc_res"
   ]
  },
  {
   "cell_type": "code",
   "execution_count": null,
   "metadata": {},
   "outputs": [],
   "source": []
  }
 ],
 "metadata": {
  "kernelspec": {
   "display_name": "Python 3",
   "language": "python",
   "name": "python3"
  },
  "language_info": {
   "codemirror_mode": {
    "name": "ipython",
    "version": 3
   },
   "file_extension": ".py",
   "mimetype": "text/x-python",
   "name": "python",
   "nbconvert_exporter": "python",
   "pygments_lexer": "ipython3",
   "version": "3.7.4"
  },
  "toc": {
   "base_numbering": 1,
   "nav_menu": {},
   "number_sections": true,
   "sideBar": true,
   "skip_h1_title": false,
   "title_cell": "Table of Contents",
   "title_sidebar": "Contents",
   "toc_cell": false,
   "toc_position": {},
   "toc_section_display": true,
   "toc_window_display": false
  },
  "varInspector": {
   "cols": {
    "lenName": 16,
    "lenType": 16,
    "lenVar": 40
   },
   "kernels_config": {
    "python": {
     "delete_cmd_postfix": "",
     "delete_cmd_prefix": "del ",
     "library": "var_list.py",
     "varRefreshCmd": "print(var_dic_list())"
    },
    "r": {
     "delete_cmd_postfix": ") ",
     "delete_cmd_prefix": "rm(",
     "library": "var_list.r",
     "varRefreshCmd": "cat(var_dic_list()) "
    }
   },
   "types_to_exclude": [
    "module",
    "function",
    "builtin_function_or_method",
    "instance",
    "_Feature"
   ],
   "window_display": false
  }
 },
 "nbformat": 4,
 "nbformat_minor": 2
}
