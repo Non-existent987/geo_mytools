{
 "cells": [
  {
   "cell_type": "markdown",
   "metadata": {},
   "source": [
    "# -------------------软采小区各地市覆盖评估----------------------\n",
    "###   ：使用整理好的软采小区和栅格数据进行各地市的覆盖评估"
   ]
  },
  {
   "cell_type": "code",
   "execution_count": 1,
   "metadata": {
    "ExecuteTime": {
     "end_time": "2020-02-08T08:57:40.496243Z",
     "start_time": "2020-02-08T08:57:39.999215Z"
    }
   },
   "outputs": [],
   "source": [
    "%load_ext autoreload\n",
    "%autoreload 2"
   ]
  },
  {
   "cell_type": "code",
   "execution_count": 2,
   "metadata": {
    "ExecuteTime": {
     "end_time": "2020-02-08T08:57:41.590306Z",
     "start_time": "2020-02-08T08:57:41.129280Z"
    }
   },
   "outputs": [],
   "source": [
    "import pandas as pd\n",
    "import geopandas as gpd\n",
    "import mytools"
   ]
  },
  {
   "cell_type": "markdown",
   "metadata": {},
   "source": [
    "## ----------导入软采小区数据----------"
   ]
  },
  {
   "cell_type": "code",
   "execution_count": 3,
   "metadata": {},
   "outputs": [],
   "source": [
    "ruancai_cel = mytools.othern.pickle_read('G:/1-规划/评估/软采评估/2019第四季度/软采小区/使用摸底小区/存放数据/ruancai_jingdui.data')"
   ]
  },
  {
   "cell_type": "code",
   "execution_count": 4,
   "metadata": {},
   "outputs": [],
   "source": [
    "day,city,cgi,cell_name,rsrp_count,rsrp_weak,un_count,un_weak,te_count,te_weak ,hd,wt_z= [\n",
    "    'a.day', 'a.region_name', 'cgi', 'a.eutrancell_name','rsrp_count', \n",
    "    'rsrp_weak', 'a.un_maxrsrp_sample_count', 'a.un_maxrsrp_weak_l2', 'a.te_maxrsrp_sample_count', 'a.te_maxrsrp_weak_l2','hd','总问题小区']"
   ]
  },
  {
   "cell_type": "markdown",
   "metadata": {},
   "source": [
    "### ---匹配工参字段---"
   ]
  },
  {
   "cell_type": "code",
   "execution_count": 5,
   "metadata": {
    "ExecuteTime": {
     "end_time": "2020-02-08T08:57:53.193945Z",
     "start_time": "2020-02-08T08:57:46.487575Z"
    },
    "scrolled": true
   },
   "outputs": [],
   "source": [
    "gongcan = pd.read_csv(open('G:/1-规划/工参/工参数据/ltejizhan20200108.csv',encoding='gbk'),usecols=['小区CGI(*)','所属地区','归属区县','RRU经度','RRU纬度','厂家名称'])"
   ]
  },
  {
   "cell_type": "code",
   "execution_count": 6,
   "metadata": {
    "ExecuteTime": {
     "end_time": "2020-02-08T08:57:53.724973Z",
     "start_time": "2020-02-08T08:57:53.195945Z"
    }
   },
   "outputs": [],
   "source": [
    "gongcan_cgi,gongcan_city,gongcan_qx,gongcan_lon,gongcan_lat,changjia_m=['小区CGI(*)','所属地区','归属区县','RRU经度','RRU纬度','厂家名称']"
   ]
  },
  {
   "cell_type": "code",
   "execution_count": 7,
   "metadata": {},
   "outputs": [
    {
     "data": {
      "text/plain": [
       "Index(['小区CGI(*)', '所属地区', 'RRU经度', 'RRU纬度', '归属区县', '厂家名称'], dtype='object')"
      ]
     },
     "execution_count": 7,
     "metadata": {},
     "output_type": "execute_result"
    }
   ],
   "source": [
    "gongcan.columns"
   ]
  },
  {
   "cell_type": "code",
   "execution_count": 8,
   "metadata": {
    "ExecuteTime": {
     "end_time": "2020-02-08T08:57:54.389009Z",
     "start_time": "2020-02-08T08:57:53.727973Z"
    }
   },
   "outputs": [],
   "source": [
    "ruancai_cel = ruancai_cel.reset_index(drop=True).reset_index()"
   ]
  },
  {
   "cell_type": "code",
   "execution_count": 9,
   "metadata": {
    "ExecuteTime": {
     "end_time": "2020-02-08T08:57:56.102105Z",
     "start_time": "2020-02-08T08:57:54.393009Z"
    }
   },
   "outputs": [],
   "source": [
    "ruancai_cel_addgongcan = ruancai_cel.merge(gongcan,how='left',left_on=cgi,right_on=gongcan_cgi).drop_duplicates('index').drop(columns='index')"
   ]
  },
  {
   "cell_type": "code",
   "execution_count": 10,
   "metadata": {
    "ExecuteTime": {
     "end_time": "2020-02-08T08:59:46.260294Z",
     "start_time": "2020-02-08T08:57:56.107105Z"
    },
    "scrolled": true
   },
   "outputs": [
    {
     "name": "stderr",
     "output_type": "stream",
     "text": [
      "C:\\ProgramData\\Anaconda3\\lib\\site-packages\\numpy\\lib\\function_base.py:2167: RuntimeWarning: invalid value encountered in ? (vectorized)\n",
      "  outputs = ufunc(*inputs)\n"
     ]
    }
   ],
   "source": [
    "ruancai_cel_addgongcan_addchngjing = mytools.gisn.points_coverage_merge(ruancai_cel_addgongcan,\n",
    "    lon=gongcan_lon,\n",
    "    lat=gongcan_lat,\n",
    "    coverage='G:/1-规划/图层/全省区域规划图层20180510/全省区域规划图层20180510/全省区域规划图层20180510.TAB',\n",
    "    df_merge_coverage_columns=['区域类型'],\n",
    "    merge_only_right_mark='农村')"
   ]
  },
  {
   "cell_type": "code",
   "execution_count": 11,
   "metadata": {},
   "outputs": [],
   "source": [
    "quxian_xin = mytools.othern.pickle_read('G:/1-规划/图层/县城和地市归属图层pickle/县界.data')"
   ]
  },
  {
   "cell_type": "code",
   "execution_count": 12,
   "metadata": {},
   "outputs": [
    {
     "name": "stderr",
     "output_type": "stream",
     "text": [
      "C:\\ProgramData\\Anaconda3\\lib\\site-packages\\numpy\\lib\\function_base.py:2167: RuntimeWarning: invalid value encountered in ? (vectorized)\n",
      "  outputs = ufunc(*inputs)\n"
     ]
    }
   ],
   "source": [
    "ruancai_cel_qx = mytools.gisn.points_coverage_merge(ruancai_cel_addgongcan_addchngjing,\n",
    "                                                                        lon=gongcan_lon,\n",
    "                                                                        lat=gongcan_lat,\n",
    "                                                                        coverage=quxian_xin,\n",
    "                                                                        df_merge_coverage_columns=['城市','NAME'],\n",
    "                                                                        merge_only_right_mark='农村')"
   ]
  },
  {
   "cell_type": "code",
   "execution_count": 13,
   "metadata": {},
   "outputs": [],
   "source": [
    "ruancai_use1 = ruancai_cel_qx.loc[(ruancai_cel_qx['城市'].notna()) & (ruancai_cel_qx['NAME'].notna())]"
   ]
  },
  {
   "cell_type": "code",
   "execution_count": 14,
   "metadata": {
    "ExecuteTime": {
     "end_time": "2020-02-08T09:02:13.043606Z",
     "start_time": "2020-02-08T09:02:12.582580Z"
    }
   },
   "outputs": [],
   "source": [
    "ruancai_use = ruancai_use1[['城市','NAME',rsrp_count,rsrp_weak,'区域类型',un_count,un_weak,te_count,te_weak ,hd,wt_z,changjia_m,'小区CGI(*)']]"
   ]
  },
  {
   "cell_type": "code",
   "execution_count": 15,
   "metadata": {
    "ExecuteTime": {
     "end_time": "2020-02-08T09:02:14.337275Z",
     "start_time": "2020-02-08T09:02:13.045607Z"
    }
   },
   "outputs": [
    {
     "name": "stderr",
     "output_type": "stream",
     "text": [
      "C:\\ProgramData\\Anaconda3\\lib\\site-packages\\ipykernel_launcher.py:1: SettingWithCopyWarning: \n",
      "A value is trying to be set on a copy of a slice from a DataFrame.\n",
      "Try using .loc[row_indexer,col_indexer] = value instead\n",
      "\n",
      "See the caveats in the documentation: https://pandas.pydata.org/pandas-docs/stable/user_guide/indexing.html#returning-a-view-versus-a-copy\n",
      "  \"\"\"Entry point for launching an IPython kernel.\n"
     ]
    }
   ],
   "source": [
    "ruancai_use['fgl'] = 1-ruancai_use[rsrp_weak]/ruancai_use[rsrp_count]"
   ]
  },
  {
   "cell_type": "code",
   "execution_count": 16,
   "metadata": {
    "ExecuteTime": {
     "end_time": "2020-02-08T09:02:15.472138Z",
     "start_time": "2020-02-08T09:02:14.340275Z"
    },
    "scrolled": true
   },
   "outputs": [
    {
     "name": "stderr",
     "output_type": "stream",
     "text": [
      "C:\\ProgramData\\Anaconda3\\lib\\site-packages\\pandas\\core\\indexing.py:844: SettingWithCopyWarning: \n",
      "A value is trying to be set on a copy of a slice from a DataFrame.\n",
      "Try using .loc[row_indexer,col_indexer] = value instead\n",
      "\n",
      "See the caveats in the documentation: https://pandas.pydata.org/pandas-docs/stable/user_guide/indexing.html#returning-a-view-versus-a-copy\n",
      "  self.obj[key] = _infer_fill_value(value)\n",
      "C:\\ProgramData\\Anaconda3\\lib\\site-packages\\pandas\\core\\indexing.py:965: SettingWithCopyWarning: \n",
      "A value is trying to be set on a copy of a slice from a DataFrame.\n",
      "Try using .loc[row_indexer,col_indexer] = value instead\n",
      "\n",
      "See the caveats in the documentation: https://pandas.pydata.org/pandas-docs/stable/user_guide/indexing.html#returning-a-view-versus-a-copy\n",
      "  self.obj[item] = s\n"
     ]
    }
   ],
   "source": [
    "ruancai_use.loc[ruancai_use['fgl']<0.9,'弱覆盖小区']=1"
   ]
  },
  {
   "cell_type": "code",
   "execution_count": 17,
   "metadata": {},
   "outputs": [],
   "source": [
    "mytools.othern.pickle_save(ruancai_use,'G:/1-规划/MRO/1、原始数据/摸底测试相关/2019年/12月/mro/四季度评估使用/程序储存数据/ruancai_use.data')"
   ]
  },
  {
   "cell_type": "markdown",
   "metadata": {},
   "source": [
    "### -----软采小区整理-全网指标-----"
   ]
  },
  {
   "cell_type": "code",
   "execution_count": null,
   "metadata": {
    "ExecuteTime": {
     "end_time": "2020-02-08T09:02:15.938164Z",
     "start_time": "2020-02-08T09:02:15.479138Z"
    }
   },
   "outputs": [],
   "source": [
    "#覆盖率"
   ]
  },
  {
   "cell_type": "code",
   "execution_count": null,
   "metadata": {
    "ExecuteTime": {
     "end_time": "2020-02-08T09:02:16.579998Z",
     "start_time": "2020-02-08T09:02:15.940164Z"
    }
   },
   "outputs": [],
   "source": [
    "ruancai_quanwang = ruancai_use.groupby('城市').agg({rsrp_count:'sum',rsrp_weak:'sum'})"
   ]
  },
  {
   "cell_type": "code",
   "execution_count": null,
   "metadata": {
    "ExecuteTime": {
     "end_time": "2020-02-08T09:02:17.033024Z",
     "start_time": "2020-02-08T09:02:16.582999Z"
    }
   },
   "outputs": [],
   "source": [
    "a = ruancai_quanwang.sum()\n",
    "a.name='全网'\n",
    "ruancai_quanwang = ruancai_quanwang.append(a)"
   ]
  },
  {
   "cell_type": "code",
   "execution_count": null,
   "metadata": {
    "ExecuteTime": {
     "end_time": "2020-02-08T09:02:17.489848Z",
     "start_time": "2020-02-08T09:02:17.035024Z"
    }
   },
   "outputs": [],
   "source": [
    "ruancai_quanwang['全网移动覆盖率'] = 1-ruancai_quanwang[rsrp_weak]/ruancai_quanwang[rsrp_count]"
   ]
  },
  {
   "cell_type": "code",
   "execution_count": null,
   "metadata": {
    "ExecuteTime": {
     "end_time": "2020-02-08T09:02:17.953874Z",
     "start_time": "2020-02-08T09:02:17.491848Z"
    }
   },
   "outputs": [],
   "source": [
    "ruancai_quanwnag_use = mytools.othern.df_sort(ruancai_quanwang.reset_index(),\n",
    "    columns=['全网移动覆盖率'],\n",
    "    sort_columns='全网移动覆盖率',\n",
    "    ascending=False)"
   ]
  },
  {
   "cell_type": "code",
   "execution_count": null,
   "metadata": {
    "ExecuteTime": {
     "end_time": "2020-02-08T09:02:18.410698Z",
     "start_time": "2020-02-08T09:02:17.955874Z"
    }
   },
   "outputs": [],
   "source": [
    "ruancai_quanwnag_use.columns = ['全网-指标', '移动总点', '移动弱点', '全网移动覆盖率']"
   ]
  },
  {
   "cell_type": "code",
   "execution_count": null,
   "metadata": {},
   "outputs": [],
   "source": [
    "ruancai_quanwnag_use.to_clipboard()"
   ]
  },
  {
   "cell_type": "code",
   "execution_count": null,
   "metadata": {
    "scrolled": true
   },
   "outputs": [],
   "source": [
    "mytools.othern.pickle_save(ruancai_quanwnag_use,'G:/1-规划/MRO/1、原始数据/摸底测试相关/2019年/12月/mro/四季度评估使用/程序储存数据/dict_qw_fgl.data')"
   ]
  },
  {
   "cell_type": "code",
   "execution_count": null,
   "metadata": {
    "ExecuteTime": {
     "end_time": "2020-02-08T09:02:18.861724Z",
     "start_time": "2020-02-08T09:02:18.412698Z"
    }
   },
   "outputs": [],
   "source": [
    "#弱覆盖小区占比"
   ]
  },
  {
   "cell_type": "code",
   "execution_count": null,
   "metadata": {},
   "outputs": [],
   "source": [
    "ruancai_use['fgl_cmcc'] = 1- ruancai_use[rsrp_weak]/ruancai_use[rsrp_count]"
   ]
  },
  {
   "cell_type": "code",
   "execution_count": null,
   "metadata": {},
   "outputs": [],
   "source": [
    "ruancai_use[un_weak] = pd.to_numeric(ruancai_use[un_weak])\n",
    "ruancai_use[un_count] = pd.to_numeric(ruancai_use[un_count])\n",
    "ruancai_use[te_count] = pd.to_numeric(ruancai_use[te_count])\n",
    "ruancai_use[te_weak] = pd.to_numeric(ruancai_use[te_weak])"
   ]
  },
  {
   "cell_type": "code",
   "execution_count": null,
   "metadata": {},
   "outputs": [],
   "source": [
    "ruancai_use['fgl_un'] = 1- ruancai_use[un_weak]/ruancai_use[un_count]\n",
    "ruancai_use['fgl_te'] = 1- ruancai_use[te_weak]/ruancai_use[te_count]"
   ]
  },
  {
   "cell_type": "code",
   "execution_count": null,
   "metadata": {},
   "outputs": [],
   "source": [
    "#黑点打标\n",
    "def hd(data,cmcc='',jingdui=''):\n",
    "    data.loc[((data[cmcc]<0.8)&(data[jingdui]>0.8)) | (data[cmcc]>0.8)&(((data[jingdui])-(data[cmcc]))>0.05),'hd']=1\n",
    "    return data['hd']"
   ]
  },
  {
   "cell_type": "code",
   "execution_count": null,
   "metadata": {},
   "outputs": [],
   "source": [
    "ruancai_use['un_hd']=hd(ruancai_use,'fgl_cmcc','fgl_un')\n",
    "ruancai_use['te_hd']=hd(ruancai_use,'fgl_cmcc','fgl_te')"
   ]
  },
  {
   "cell_type": "code",
   "execution_count": null,
   "metadata": {},
   "outputs": [],
   "source": [
    "ruancai_use.loc[(ruancai_use['un_hd']==1) | (ruancai_use['te_hd']==1),'hd']=1"
   ]
  },
  {
   "cell_type": "code",
   "execution_count": null,
   "metadata": {
    "ExecuteTime": {
     "end_time": "2020-02-08T09:02:19.475556Z",
     "start_time": "2020-02-08T09:02:18.867724Z"
    }
   },
   "outputs": [],
   "source": [
    "cell_zb_qw = ruancai_use.groupby('城市').agg({'城市':'count','弱覆盖小区':'sum','hd':'sum'})"
   ]
  },
  {
   "cell_type": "code",
   "execution_count": null,
   "metadata": {},
   "outputs": [],
   "source": [
    "cell_zb_qw['问题小区数'] = cell_zb_qw['弱覆盖小区'] +cell_zb_qw['hd'] \n",
    "\n",
    "cell_zb_qw['问题小区数'] = pd.to_numeric(cell_zb_qw['问题小区数'],downcast='integer')\n",
    "cell_zb_qw['弱覆盖小区'] = pd.to_numeric(cell_zb_qw['弱覆盖小区'],downcast='integer')\n",
    "cell_zb_qw['hd'] = pd.to_numeric(cell_zb_qw['hd'],downcast='integer')"
   ]
  },
  {
   "cell_type": "code",
   "execution_count": null,
   "metadata": {
    "ExecuteTime": {
     "end_time": "2020-02-08T09:02:20.007587Z",
     "start_time": "2020-02-08T09:02:19.480556Z"
    }
   },
   "outputs": [],
   "source": [
    "a = cell_zb_qw.sum()\n",
    "a.name='全网'\n",
    "cell_zb_qw_v2 = cell_zb_qw.append(a)"
   ]
  },
  {
   "cell_type": "code",
   "execution_count": null,
   "metadata": {
    "ExecuteTime": {
     "end_time": "2020-02-08T09:02:20.481010Z",
     "start_time": "2020-02-08T09:02:20.012587Z"
    },
    "scrolled": true
   },
   "outputs": [],
   "source": [
    "cell_zb_qw_v2['问题小区占比'] = cell_zb_qw_v2['问题小区数']/cell_zb_qw_v2['城市']"
   ]
  },
  {
   "cell_type": "code",
   "execution_count": null,
   "metadata": {},
   "outputs": [],
   "source": [
    "cell_zb_qw_v2.columns"
   ]
  },
  {
   "cell_type": "code",
   "execution_count": null,
   "metadata": {
    "ExecuteTime": {
     "end_time": "2020-02-08T09:02:20.942037Z",
     "start_time": "2020-02-08T09:02:20.484010Z"
    }
   },
   "outputs": [],
   "source": [
    "cell_zb_qw_v2.columns = ['总小区数', '弱覆盖小区数', '黑点小区数','问题小区数','问题小区占比']"
   ]
  },
  {
   "cell_type": "code",
   "execution_count": null,
   "metadata": {
    "ExecuteTime": {
     "end_time": "2020-02-08T09:02:21.397063Z",
     "start_time": "2020-02-08T09:02:20.944037Z"
    }
   },
   "outputs": [],
   "source": [
    "ruancai_zhanbi = mytools.othern.df_sort(cell_zb_qw_v2.reset_index(),\n",
    "    columns=['问题小区占比'],\n",
    "    sort_columns='问题小区占比',ascending=True)"
   ]
  },
  {
   "cell_type": "code",
   "execution_count": null,
   "metadata": {},
   "outputs": [],
   "source": [
    "mytools.othern.pickle_save(ruancai_zhanbi,'G:/1-规划/MRO/1、原始数据/摸底测试相关/2019年/12月/mro/四季度评估使用/程序储存数据/dict_qw_zb.data')"
   ]
  },
  {
   "cell_type": "markdown",
   "metadata": {},
   "source": [
    "### -----软采小区整理-区县指标-----"
   ]
  },
  {
   "cell_type": "code",
   "execution_count": null,
   "metadata": {
    "ExecuteTime": {
     "end_time": "2020-02-08T09:02:21.852886Z",
     "start_time": "2020-02-08T09:02:21.399063Z"
    }
   },
   "outputs": [],
   "source": [
    "citys = ['孝感','襄阳','咸宁','随州','十堰','荆州','荆门','黄石','鄂州','黄冈','恩施','宜昌','潜江','天门','江汉','武汉']"
   ]
  },
  {
   "cell_type": "code",
   "execution_count": null,
   "metadata": {
    "ExecuteTime": {
     "end_time": "2020-02-08T09:02:22.314913Z",
     "start_time": "2020-02-08T09:02:21.854886Z"
    }
   },
   "outputs": [],
   "source": [
    "#覆盖率"
   ]
  },
  {
   "cell_type": "code",
   "execution_count": null,
   "metadata": {
    "ExecuteTime": {
     "end_time": "2020-02-08T09:02:22.988748Z",
     "start_time": "2020-02-08T09:02:22.316913Z"
    }
   },
   "outputs": [],
   "source": [
    "ruancai_use_qx_fg = ruancai_use[['城市','NAME',rsrp_count,rsrp_weak]].groupby(['城市','NAME']).agg({rsrp_count:'sum',rsrp_weak:'sum'})"
   ]
  },
  {
   "cell_type": "code",
   "execution_count": null,
   "metadata": {
    "ExecuteTime": {
     "end_time": "2020-02-08T09:02:23.793592Z",
     "start_time": "2020-02-08T09:02:22.990749Z"
    }
   },
   "outputs": [],
   "source": [
    "qx_fg_res = dict()\n",
    "for city_t in citys:\n",
    "    ruancai_use_qx_t = ruancai_use_qx_fg.loc[city_t,]\n",
    "    a = ruancai_use_qx_t.sum()\n",
    "    a.name='总计'\n",
    "    ruancai_use_qx_t = ruancai_use_qx_t.append(a)\n",
    "    ruancai_use_qx_t[rsrp_weak] = pd.to_numeric(ruancai_use_qx_t[rsrp_weak],downcast='integer')\n",
    "    ruancai_use_qx_t[rsrp_count] = pd.to_numeric(ruancai_use_qx_t[rsrp_count],downcast='integer')\n",
    "\n",
    "    ruancai_use_qx_t['移动覆盖率'] = 1-ruancai_use_qx_t[rsrp_weak]/ruancai_use_qx_t[rsrp_count]\n",
    "    ruancai_use_qx_t.columns = ['移动总点', '移动弱点', '移动覆盖率']\n",
    "    ruancai_use_qx_t2 = mytools.othern.df_sort(ruancai_use_qx_t.reset_index(),\n",
    "        columns=['移动覆盖率'],\n",
    "        sort_columns='移动覆盖率',\n",
    "        ascending=False)\n",
    "    \n",
    "    ruancai_use_qx_t2 = ruancai_use_qx_t2.loc[ruancai_use_qx_t2['NAME']!='武汉市']\n",
    "    ruancai_use_qx_t2.columns=['区域','移动总点', '移动弱点', '移动覆盖率']\n",
    "    qx_fg_res[city_t] = ruancai_use_qx_t2\n"
   ]
  },
  {
   "cell_type": "code",
   "execution_count": null,
   "metadata": {},
   "outputs": [],
   "source": [
    "mytools.othern.pickle_save(qx_fg_res,'G:/1-规划/MRO/1、原始数据/摸底测试相关/2019年/12月/mro/四季度评估使用/程序储存数据/qx_fg_res.data')"
   ]
  },
  {
   "cell_type": "code",
   "execution_count": null,
   "metadata": {
    "ExecuteTime": {
     "end_time": "2020-02-08T09:02:24.271619Z",
     "start_time": "2020-02-08T09:02:23.795592Z"
    }
   },
   "outputs": [],
   "source": [
    "#弱覆盖小区占比"
   ]
  },
  {
   "cell_type": "code",
   "execution_count": null,
   "metadata": {
    "ExecuteTime": {
     "end_time": "2020-02-08T09:02:24.829449Z",
     "start_time": "2020-02-08T09:02:24.273619Z"
    }
   },
   "outputs": [],
   "source": [
    "ruancai_use_qx = ruancai_use[['城市','NAME','弱覆盖小区','hd']].groupby(['城市','NAME']).agg({'城市':'count','弱覆盖小区':'sum','hd':'sum'})"
   ]
  },
  {
   "cell_type": "code",
   "execution_count": null,
   "metadata": {},
   "outputs": [],
   "source": [
    "ruancai_use_qx['问题小区数'] = ruancai_use_qx['弱覆盖小区'] +ruancai_use_qx['hd'] \n",
    "\n",
    "ruancai_use_qx['问题小区数'] = pd.to_numeric(ruancai_use_qx['问题小区数'],downcast='integer')\n",
    "ruancai_use_qx['弱覆盖小区'] = pd.to_numeric(ruancai_use_qx['弱覆盖小区'],downcast='integer')\n",
    "ruancai_use_qx['hd'] = pd.to_numeric(ruancai_use_qx['hd'],downcast='integer')"
   ]
  },
  {
   "cell_type": "code",
   "execution_count": null,
   "metadata": {},
   "outputs": [],
   "source": [
    "ruancai_use_qx_t"
   ]
  },
  {
   "cell_type": "code",
   "execution_count": null,
   "metadata": {
    "ExecuteTime": {
     "end_time": "2020-02-08T09:02:25.514488Z",
     "start_time": "2020-02-08T09:02:24.832449Z"
    }
   },
   "outputs": [],
   "source": [
    "qx_res = dict()\n",
    "for city_t in citys:\n",
    "    ruancai_use_qx_t = ruancai_use_qx.loc[city_t,]\n",
    "    a = ruancai_use_qx_t.sum()\n",
    "    a.name='总计'\n",
    "    ruancai_use_qx_t = ruancai_use_qx_t.append(a)\n",
    "    ruancai_use_qx_t['城市'] = pd.to_numeric(ruancai_use_qx_t['城市'],downcast='integer')\n",
    "    ruancai_use_qx_t['弱覆盖小区'] = pd.to_numeric(ruancai_use_qx_t['弱覆盖小区'],downcast='integer')\n",
    "\n",
    "    ruancai_use_qx_t['问题小区占比'] = ruancai_use_qx_t['问题小区数']/ruancai_use_qx_t['城市']\n",
    "    ruancai_use_qx_t.columns = ['总小区数', '弱覆盖小区数', '黑点小区数','问题小区数','问题小区占比']\n",
    "    ruancai_use_qx_t2 = mytools.othern.df_sort(ruancai_use_qx_t.reset_index(),\n",
    "        columns=['问题小区占比'],\n",
    "        sort_columns='问题小区占比',\n",
    "        ascending=True)\n",
    "    ruancai_use_qx_t2.columns=['区域','总小区数', '弱覆盖小区数', '黑点小区数','问题小区数','问题小区占比']\n",
    "    qx_res[city_t] = ruancai_use_qx_t2"
   ]
  },
  {
   "cell_type": "code",
   "execution_count": null,
   "metadata": {
    "ExecuteTime": {
     "end_time": "2020-02-08T09:02:25.982312Z",
     "start_time": "2020-02-08T09:02:25.517488Z"
    }
   },
   "outputs": [],
   "source": [
    "mytools.othern.pickle_save(qx_res,'G:/1-规划/MRO/1、原始数据/摸底测试相关/2019年/12月/mro/四季度评估使用/程序储存数据/dict_qx.data')"
   ]
  },
  {
   "cell_type": "markdown",
   "metadata": {},
   "source": [
    "# ----------导入栅格数据----------"
   ]
  },
  {
   "cell_type": "code",
   "execution_count": null,
   "metadata": {
    "ExecuteTime": {
     "end_time": "2020-02-08T09:02:31.102592Z",
     "start_time": "2020-02-08T09:02:30.569764Z"
    }
   },
   "outputs": [],
   "source": [
    "grid_changjing = pd.read_csv(open('g:/1-规划/评估/软采评估/2019第四季度/栅格/1千500万个栅格11和12月汇总_去重.csv',encoding='utf-8'),chunksize=100000)"
   ]
  },
  {
   "cell_type": "code",
   "execution_count": null,
   "metadata": {
    "ExecuteTime": {
     "end_time": "2020-02-08T09:02:31.557618Z",
     "start_time": "2020-02-08T09:02:31.105592Z"
    }
   },
   "outputs": [],
   "source": [
    "day,city,grid_id,lon,lat,rsrp_count,rsrp_weak,un_count,un_weak,te_count,te_weak,changjing = ['a.day', 'a.region_name', 'a.grid_id', 'lon', 'lat',\n",
    "       'a.rsrp_sample_count', 'a.rsrp_weak', 'a.un_maxrsrp_sum',\n",
    "       'a.un_maxrsrp_weak_l2', 'a.te_maxrsrp_sample_count',\n",
    "       'a.te_maxrsrp_weak_l2', '区域类型']"
   ]
  },
  {
   "cell_type": "code",
   "execution_count": null,
   "metadata": {},
   "outputs": [],
   "source": [
    "quxian_xin = mytools.othern.pickle_read('G:/1-规划/图层/县城和地市归属图层pickle/县界.data')"
   ]
  },
  {
   "cell_type": "code",
   "execution_count": null,
   "metadata": {
    "ExecuteTime": {
     "end_time": "2020-02-08T09:02:59.185931Z",
     "start_time": "2020-02-08T09:02:31.561618Z"
    }
   },
   "outputs": [],
   "source": [
    "data_z = pd.DataFrame()\n",
    "for data_t in grid_changjing:\n",
    "    data_t_use_v2 = mytools.gisn.points_coverage_merge(data_t,lon,lat,coverage=quxian_xin,\n",
    "                                                        df_merge_coverage_columns=['城市','NAME'],\n",
    "                                                        merge_only_right_mark='农村')\n",
    "    data_t_use_v2_1 = data_t_use_v2.loc[(data_t_use_v2['城市'].notna()) & (data_t_use_v2['NAME'].notna())]\n",
    "    data_z = data_z.append(data_t_use_v2_1)\n",
    "    print(data_t.shape,data_z.shape)"
   ]
  },
  {
   "cell_type": "code",
   "execution_count": null,
   "metadata": {
    "ExecuteTime": {
     "end_time": "2020-02-08T09:03:00.718613Z",
     "start_time": "2020-02-08T09:03:00.189785Z"
    }
   },
   "outputs": [],
   "source": [
    "data_z1 = data_z.reset_index(drop=True).reset_index()"
   ]
  },
  {
   "cell_type": "code",
   "execution_count": null,
   "metadata": {},
   "outputs": [],
   "source": [
    "data_z1.loc[data_z1[rsrp_count]>100,'有效栅格']=1\n",
    "data_z1['fgl']=1-data_z1[rsrp_weak]/data_z1[rsrp_count]\n",
    "data_z1.loc[(data_z1['fgl']<0.936)&(data_z1['有效栅格']==1),'弱覆盖栅格数量']=1\n",
    "data_z1.loc[(data_z1['fgl']<0.7) &(data_z1['有效栅格']==1),'严重弱覆盖栅格数量']=1"
   ]
  },
  {
   "cell_type": "code",
   "execution_count": null,
   "metadata": {},
   "outputs": [],
   "source": [
    "mytools.othern.pickle_save(data_z1,'g:/1-规划/评估/软采评估/2019第四季度/栅格/grid_add_yanzhong.data')"
   ]
  },
  {
   "cell_type": "code",
   "execution_count": null,
   "metadata": {},
   "outputs": [],
   "source": [
    "data_groupby_city = data_z1.groupby('城市')"
   ]
  },
  {
   "cell_type": "code",
   "execution_count": null,
   "metadata": {
    "scrolled": true
   },
   "outputs": [],
   "source": [
    "grid_dict = dict()\n",
    "for name,data_t in data_groupby_city:\n",
    "    print(name)\n",
    "    data_res = data_t.groupby('NAME').agg({grid_id:'count','有效栅格':'sum','弱覆盖栅格数量':'sum','严重弱覆盖栅格数量':'sum'})\n",
    "    data_res_v2 = data_res.reset_index()\n",
    "    data_res_v2.columns=['2019年12月','总栅格','大于100采样点','弱覆盖栅格数量','严重弱覆盖栅格数量']\n",
    "    grid_dict[name] = data_res_v2"
   ]
  },
  {
   "cell_type": "code",
   "execution_count": null,
   "metadata": {},
   "outputs": [],
   "source": [
    "data_res = data_z1.groupby('城市').agg({grid_id:'count','有效栅格':'sum','弱覆盖栅格数量':'sum','严重弱覆盖栅格数量':'sum'})\n",
    "data_res_v2 = data_res.reset_index()\n",
    "data_res_v2.columns=['2019年12月','总栅格','大于100采样点','弱覆盖栅格数量','严重弱覆盖栅格数量']\n",
    "grid_dict['全网'] = data_res_v2"
   ]
  },
  {
   "cell_type": "code",
   "execution_count": null,
   "metadata": {},
   "outputs": [],
   "source": [
    "mytools.othern.pickle_save(grid_dict,'g:/1-规划/评估/软采评估/2019第四季度/栅格/保存数据/dict_grid.data')"
   ]
  },
  {
   "cell_type": "code",
   "execution_count": null,
   "metadata": {},
   "outputs": [],
   "source": []
  }
 ],
 "metadata": {
  "kernelspec": {
   "display_name": "Python 3",
   "language": "python",
   "name": "python3"
  },
  "language_info": {
   "codemirror_mode": {
    "name": "ipython",
    "version": 3
   },
   "file_extension": ".py",
   "mimetype": "text/x-python",
   "name": "python",
   "nbconvert_exporter": "python",
   "pygments_lexer": "ipython3",
   "version": "3.7.3"
  },
  "toc": {
   "base_numbering": 1,
   "nav_menu": {},
   "number_sections": true,
   "sideBar": true,
   "skip_h1_title": false,
   "title_cell": "Table of Contents",
   "title_sidebar": "Contents",
   "toc_cell": false,
   "toc_position": {},
   "toc_section_display": true,
   "toc_window_display": false
  }
 },
 "nbformat": 4,
 "nbformat_minor": 2
}
