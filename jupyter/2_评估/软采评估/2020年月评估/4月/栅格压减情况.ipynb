{
 "cells": [
  {
   "cell_type": "code",
   "execution_count": 1,
   "metadata": {},
   "outputs": [],
   "source": [
    "import mytools\n",
    "import pandas as pd"
   ]
  },
  {
   "cell_type": "code",
   "execution_count": null,
   "metadata": {},
   "outputs": [],
   "source": [
    "grid_12yue = mytools.othern.pickle_read('g:/1-规划/评估/软采评估/2019第四季度/栅格/grid_add_yanzhong.data')"
   ]
  },
  {
   "cell_type": "code",
   "execution_count": null,
   "metadata": {
    "scrolled": true
   },
   "outputs": [],
   "source": [
    "grid_9yue = pd.read_csv('G:/1-规划/评估/软采评估/2019第三季度/软采数据/软采栅格/第三季度_栅格_添加场景_添加区县_添加弱覆盖1.csv',encoding='gbk')"
   ]
  },
  {
   "cell_type": "code",
   "execution_count": null,
   "metadata": {},
   "outputs": [],
   "source": [
    "grid_12yue_use = grid_12yue[['a.grid_id','严重弱覆盖栅格数量','城市', 'lon', 'lat']]"
   ]
  },
  {
   "cell_type": "code",
   "execution_count": null,
   "metadata": {},
   "outputs": [],
   "source": [
    "grid_9yue.columns"
   ]
  },
  {
   "cell_type": "code",
   "execution_count": null,
   "metadata": {},
   "outputs": [],
   "source": [
    "grid_12yue.columns"
   ]
  },
  {
   "cell_type": "code",
   "execution_count": null,
   "metadata": {
    "scrolled": true
   },
   "outputs": [],
   "source": [
    "grid_9yue_use = grid_9yue[['a.grid_id', '严重弱覆盖栅格', 'a.region_name','区县', '大于100采样点','a.rsrp_sample_count','a.rsrp_weak','lon', 'lat']]"
   ]
  },
  {
   "cell_type": "code",
   "execution_count": null,
   "metadata": {},
   "outputs": [],
   "source": [
    "grid_9yue_use_v2 = grid_9yue_use.loc[grid_9yue_use['严重弱覆盖栅格']==1]"
   ]
  },
  {
   "cell_type": "code",
   "execution_count": null,
   "metadata": {},
   "outputs": [],
   "source": [
    "res = grid_9yue_use_v2.merge(grid_12yue_use,how='inner',on='a.grid_id')"
   ]
  },
  {
   "cell_type": "code",
   "execution_count": null,
   "metadata": {},
   "outputs": [],
   "source": [
    "res_qx=res.groupby(['a.region_name','区县']).agg({'严重弱覆盖栅格':'sum','严重弱覆盖栅格数量':'sum'})"
   ]
  },
  {
   "cell_type": "code",
   "execution_count": null,
   "metadata": {},
   "outputs": [],
   "source": [
    "res_qx.to_csv('G:/1-规划/评估/软采评估/2019第四季度/压减情况/分区县.csv',encoding='gbk')"
   ]
  },
  {
   "cell_type": "code",
   "execution_count": null,
   "metadata": {},
   "outputs": [],
   "source": [
    "res_qw=res.groupby(['a.region_name']).agg({'严重弱覆盖栅格':'sum','严重弱覆盖栅格数量':'sum'})"
   ]
  },
  {
   "cell_type": "code",
   "execution_count": null,
   "metadata": {},
   "outputs": [],
   "source": [
    "res_qw.to_csv('G:/1-规划/评估/软采评估/2019第四季度/压减情况/分地市.csv',encoding='gbk')"
   ]
  },
  {
   "cell_type": "code",
   "execution_count": null,
   "metadata": {},
   "outputs": [],
   "source": [
    "res.to_csv('G:/1-规划/评估/软采评估/2019第四季度/压减情况/19年9-12压减总表.csv',encoding='gbk')"
   ]
  },
  {
   "cell_type": "code",
   "execution_count": 7,
   "metadata": {},
   "outputs": [],
   "source": [
    "data = pd.read_csv('G:/1-规划/评估/软采评估/2019第四季度/压减情况/19年9-12压减总表.csv',encoding='gbk')"
   ]
  },
  {
   "cell_type": "code",
   "execution_count": 8,
   "metadata": {},
   "outputs": [],
   "source": [
    "data1 = data.loc[data['大于100采样点']==1]"
   ]
  },
  {
   "cell_type": "code",
   "execution_count": 24,
   "metadata": {},
   "outputs": [],
   "source": [
    "qw = data1.groupby(['城市']).agg({'严重弱覆盖栅格':'sum','严重弱覆盖栅格数量':'sum'})"
   ]
  },
  {
   "cell_type": "code",
   "execution_count": 25,
   "metadata": {},
   "outputs": [],
   "source": [
    "qw.to_csv('G:/1-规划/评估/软采评估/2019第四季度/压减情况/分地市.csv',encoding='gbk')"
   ]
  },
  {
   "cell_type": "code",
   "execution_count": 26,
   "metadata": {},
   "outputs": [],
   "source": [
    "qx = data1.groupby(['城市','区县']).agg({'严重弱覆盖栅格':'sum','严重弱覆盖栅格数量':'sum'})"
   ]
  },
  {
   "cell_type": "code",
   "execution_count": 27,
   "metadata": {},
   "outputs": [],
   "source": [
    "qx.to_csv('G:/1-规划/评估/软采评估/2019第四季度/压减情况/分区县.csv',encoding='gbk')"
   ]
  },
  {
   "cell_type": "code",
   "execution_count": null,
   "metadata": {},
   "outputs": [],
   "source": []
  }
 ],
 "metadata": {
  "kernelspec": {
   "display_name": "Python 3",
   "language": "python",
   "name": "python3"
  },
  "language_info": {
   "codemirror_mode": {
    "name": "ipython",
    "version": 3
   },
   "file_extension": ".py",
   "mimetype": "text/x-python",
   "name": "python",
   "nbconvert_exporter": "python",
   "pygments_lexer": "ipython3",
   "version": "3.7.3"
  }
 },
 "nbformat": 4,
 "nbformat_minor": 2
}
