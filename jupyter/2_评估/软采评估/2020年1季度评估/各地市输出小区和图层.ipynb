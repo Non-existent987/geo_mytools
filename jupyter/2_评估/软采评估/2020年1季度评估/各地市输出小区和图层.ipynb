{
 "cells": [
  {
   "cell_type": "code",
   "execution_count": null,
   "metadata": {},
   "outputs": [],
   "source": [
    "import mytools,os\n",
    "import pandas as pd "
   ]
  },
  {
   "cell_type": "markdown",
   "metadata": {},
   "source": [
    "# 软采小区"
   ]
  },
  {
   "cell_type": "code",
   "execution_count": null,
   "metadata": {},
   "outputs": [],
   "source": [
    "ruancai = pd.read_pickle('G:/1-规划/评估/软采评估/2020年1季度/软采小区/使用摸底小区/存放数据/ruancai_use.data')"
   ]
  },
  {
   "cell_type": "code",
   "execution_count": null,
   "metadata": {},
   "outputs": [],
   "source": [
    "ruancai.columns = ['城市', '区县', '移动总点', '移动弱点', '区域类型',\n",
    "       '联通总点', '联通弱点',\n",
    "       '电信总点', '电信弱点', '问题小区-黑点', '总问题小区',\n",
    "       '厂家名称', '小区CGI', '覆盖率', '问题小区-弱覆盖小区', '移动覆盖率', '联通覆盖率', '电信覆盖率',\n",
    "       '联通黑点', '电信黑点']"
   ]
  },
  {
   "cell_type": "code",
   "execution_count": null,
   "metadata": {},
   "outputs": [],
   "source": [
    "ruancai_use = ruancai[[\n",
    "    '小区CGI','城市', '区县','厂家名称', '区域类型', '移动总点', '移动弱点', '联通总点', '联通弱点', '电信总点', '电信弱点',\n",
    "    '移动覆盖率','联通覆盖率', '电信覆盖率',\n",
    "    '问题小区-弱覆盖小区','问题小区-黑点']]"
   ]
  },
  {
   "cell_type": "code",
   "execution_count": null,
   "metadata": {},
   "outputs": [],
   "source": [
    "ruancai_groupby = ruancai_use.groupby('城市')"
   ]
  },
  {
   "cell_type": "code",
   "execution_count": null,
   "metadata": {},
   "outputs": [],
   "source": [
    "for name , data_t in ruancai_groupby:\n",
    "    if not os.path.exists('G:/1-规划/评估/软采评估/2020年1季度/输出个地市的小区和栅格图层/{}'.format(name[0])):\n",
    "        os.makedirs('G:/1-规划/评估/软采评估/2020年1季度/输出个地市的小区和栅格图层/{}'.format(name[0]))\n",
    "    data_t.to_csv('G:/1-规划/评估/软采评估/2020年1季度/输出个地市的小区和栅格图层/{}/{}小区列表.csv'.format(name,name),encoding='gbk',index=False)"
   ]
  },
  {
   "cell_type": "markdown",
   "metadata": {},
   "source": [
    "# 栅格数据"
   ]
  },
  {
   "cell_type": "code",
   "execution_count": null,
   "metadata": {},
   "outputs": [],
   "source": [
    "grid = pd.read_pickle('G:/1-规划/评估/软采评估/2020年1季度/1-数据存放/grid_add_yanzhong_qc.data')"
   ]
  },
  {
   "cell_type": "code",
   "execution_count": null,
   "metadata": {},
   "outputs": [],
   "source": [
    "grid.head(1)"
   ]
  },
  {
   "cell_type": "code",
   "execution_count": null,
   "metadata": {},
   "outputs": [],
   "source": [
    "grid.shape"
   ]
  },
  {
   "cell_type": "code",
   "execution_count": null,
   "metadata": {},
   "outputs": [],
   "source": [
    "grid_qingshan= grid.loc[grid['区县']=='青山']"
   ]
  },
  {
   "cell_type": "code",
   "execution_count": null,
   "metadata": {},
   "outputs": [],
   "source": [
    "grid_qingshan.shape"
   ]
  },
  {
   "cell_type": "code",
   "execution_count": null,
   "metadata": {},
   "outputs": [],
   "source": [
    "grid_groupby_city =grid_use.groupby(['城市'])"
   ]
  },
  {
   "cell_type": "code",
   "execution_count": null,
   "metadata": {},
   "outputs": [],
   "source": [
    "for name , data_t in grid_groupby_city:\n",
    "    data_t.to_csv('d:/小区a/{}.csv'.format(name),encoding='gbk',index=False)"
   ]
  },
  {
   "cell_type": "code",
   "execution_count": null,
   "metadata": {},
   "outputs": [],
   "source": []
  },
  {
   "cell_type": "code",
   "execution_count": null,
   "metadata": {},
   "outputs": [],
   "source": [
    "grid_groupby =grid_use.groupby(['城市','区县'])"
   ]
  },
  {
   "cell_type": "code",
   "execution_count": null,
   "metadata": {},
   "outputs": [],
   "source": [
    "a ='f'\n",
    "for name , data_t in grid_groupby:\n",
    "    print(name)\n",
    "    if name[1]=='黄陂' or (a=='t'):\n",
    "        a='t'\n",
    "        if not os.path.exists('G:/1-规划/评估/软采评估/2020年1季度/输出个地市的小区和栅格图层/{}'.format(name[0])):\n",
    "            os.makedirs('G:/1-规划/评估/软采评估/2020年1季度/输出个地市的小区和栅格图层/{}'.format(name[0]))\n",
    "        mytools.gisn.df_to_kml(data_t,\n",
    "                                file='G:/1-规划/评估/软采评估/2020年1季度/输出个地市的小区和栅格图层/{}/{}_栅格.kmz'.format(name[0],name[1]),\n",
    "                                name='grid_id',\n",
    "                                lon='lon',\n",
    "                                lat='lat',\n",
    "                                fgl='fgl',\n",
    "                                red=0.7,\n",
    "                                green=0.936,\n",
    "                                tm='ff00ffff',\n",
    "                                toumingdu=125)"
   ]
  }
 ],
 "metadata": {
  "kernelspec": {
   "display_name": "Python 3",
   "language": "python",
   "name": "python3"
  },
  "language_info": {
   "codemirror_mode": {
    "name": "ipython",
    "version": 3
   },
   "file_extension": ".py",
   "mimetype": "text/x-python",
   "name": "python",
   "nbconvert_exporter": "python",
   "pygments_lexer": "ipython3",
   "version": "3.7.3"
  }
 },
 "nbformat": 4,
 "nbformat_minor": 2
}
