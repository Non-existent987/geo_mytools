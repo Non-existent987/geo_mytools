{
 "cells": [
  {
   "cell_type": "code",
   "execution_count": 1,
   "metadata": {},
   "outputs": [],
   "source": [
    "import mytools\n",
    "import pandas as pd"
   ]
  },
  {
   "cell_type": "code",
   "execution_count": 2,
   "metadata": {},
   "outputs": [],
   "source": [
    "grid_12yue = mytools.othern.pickle_read('g:/1-规划/评估/软采评估/2019第四季度/栅格/grid_add_yanzhong.data')"
   ]
  },
  {
   "cell_type": "code",
   "execution_count": 5,
   "metadata": {
    "scrolled": true
   },
   "outputs": [],
   "source": [
    "grid_111yue = mytools.othern.pickle_read('G:/1-规划/评估/软采评估/2020年1季度/1-数据存放/grid_add_yanzhong.data')"
   ]
  },
  {
   "cell_type": "code",
   "execution_count": 6,
   "metadata": {},
   "outputs": [
    {
     "data": {
      "text/plain": [
       "Index(['index', 'a.day', 'a.region_name', 'a.grid_id', 'lon', 'lat',\n",
       "       'a.rsrp_sample_count', 'a.rsrp_weak', 'a.un_maxrsrp_sample_count',\n",
       "       'a.un_maxrsrp_weak_l2', 'a.te_maxrsrp_sample_count',\n",
       "       'a.te_maxrsrp_weak_l2', '区域类型', '城市', 'NAME', '有效栅格', 'fgl', '弱覆盖栅格数量',\n",
       "       '严重弱覆盖栅格数量'],\n",
       "      dtype='object')"
      ]
     },
     "execution_count": 6,
     "metadata": {},
     "output_type": "execute_result"
    }
   ],
   "source": [
    "grid_111yue.columns"
   ]
  },
  {
   "cell_type": "code",
   "execution_count": 7,
   "metadata": {},
   "outputs": [
    {
     "data": {
      "text/plain": [
       "(3651214, 19)"
      ]
     },
     "execution_count": 7,
     "metadata": {},
     "output_type": "execute_result"
    }
   ],
   "source": [
    "grid_111yue.shape"
   ]
  },
  {
   "cell_type": "code",
   "execution_count": 8,
   "metadata": {},
   "outputs": [],
   "source": [
    "yue12 = grid_12yue.loc[(grid_12yue['严重弱覆盖栅格数量']==1) & (grid_12yue['a.rsrp_sample_count']>100)][['a.grid_id','严重弱覆盖栅格数量','城市', 'lon', 'lat']].drop_duplicates('a.grid_id')"
   ]
  },
  {
   "cell_type": "code",
   "execution_count": 9,
   "metadata": {},
   "outputs": [],
   "source": [
    "yue1 = grid_111yue.loc[grid_111yue['a.rsrp_sample_count']>100][['a.grid_id','严重弱覆盖栅格数量','城市', 'lon', 'lat']].drop_duplicates('a.grid_id')"
   ]
  },
  {
   "cell_type": "code",
   "execution_count": 10,
   "metadata": {},
   "outputs": [],
   "source": [
    "res = yue12.merge(yue1,how='inner',on='a.grid_id')"
   ]
  },
  {
   "cell_type": "code",
   "execution_count": 11,
   "metadata": {},
   "outputs": [],
   "source": [
    "res_qx=res.groupby(['城市_x']).agg({'严重弱覆盖栅格数量_x':'count','严重弱覆盖栅格数量_y':'count'})"
   ]
  },
  {
   "cell_type": "code",
   "execution_count": 12,
   "metadata": {},
   "outputs": [
    {
     "data": {
      "text/html": [
       "<div>\n",
       "<style scoped>\n",
       "    .dataframe tbody tr th:only-of-type {\n",
       "        vertical-align: middle;\n",
       "    }\n",
       "\n",
       "    .dataframe tbody tr th {\n",
       "        vertical-align: top;\n",
       "    }\n",
       "\n",
       "    .dataframe thead th {\n",
       "        text-align: right;\n",
       "    }\n",
       "</style>\n",
       "<table border=\"1\" class=\"dataframe\">\n",
       "  <thead>\n",
       "    <tr style=\"text-align: right;\">\n",
       "      <th></th>\n",
       "      <th>严重弱覆盖栅格数量_x</th>\n",
       "      <th>严重弱覆盖栅格数量_y</th>\n",
       "    </tr>\n",
       "    <tr>\n",
       "      <th>城市_x</th>\n",
       "      <th></th>\n",
       "      <th></th>\n",
       "    </tr>\n",
       "  </thead>\n",
       "  <tbody>\n",
       "    <tr>\n",
       "      <td>十堰</td>\n",
       "      <td>1195</td>\n",
       "      <td>836</td>\n",
       "    </tr>\n",
       "    <tr>\n",
       "      <td>咸宁</td>\n",
       "      <td>2644</td>\n",
       "      <td>1168</td>\n",
       "    </tr>\n",
       "    <tr>\n",
       "      <td>天门</td>\n",
       "      <td>5406</td>\n",
       "      <td>2445</td>\n",
       "    </tr>\n",
       "    <tr>\n",
       "      <td>孝感</td>\n",
       "      <td>33813</td>\n",
       "      <td>21614</td>\n",
       "    </tr>\n",
       "    <tr>\n",
       "      <td>宜昌</td>\n",
       "      <td>3300</td>\n",
       "      <td>1094</td>\n",
       "    </tr>\n",
       "    <tr>\n",
       "      <td>恩施</td>\n",
       "      <td>1060</td>\n",
       "      <td>457</td>\n",
       "    </tr>\n",
       "    <tr>\n",
       "      <td>武汉</td>\n",
       "      <td>27159</td>\n",
       "      <td>10056</td>\n",
       "    </tr>\n",
       "    <tr>\n",
       "      <td>江汉</td>\n",
       "      <td>2068</td>\n",
       "      <td>734</td>\n",
       "    </tr>\n",
       "    <tr>\n",
       "      <td>潜江</td>\n",
       "      <td>2391</td>\n",
       "      <td>979</td>\n",
       "    </tr>\n",
       "    <tr>\n",
       "      <td>荆州</td>\n",
       "      <td>850</td>\n",
       "      <td>531</td>\n",
       "    </tr>\n",
       "    <tr>\n",
       "      <td>荆门</td>\n",
       "      <td>658</td>\n",
       "      <td>254</td>\n",
       "    </tr>\n",
       "    <tr>\n",
       "      <td>襄阳</td>\n",
       "      <td>1370</td>\n",
       "      <td>413</td>\n",
       "    </tr>\n",
       "    <tr>\n",
       "      <td>鄂州</td>\n",
       "      <td>3739</td>\n",
       "      <td>2291</td>\n",
       "    </tr>\n",
       "    <tr>\n",
       "      <td>随州</td>\n",
       "      <td>1783</td>\n",
       "      <td>790</td>\n",
       "    </tr>\n",
       "    <tr>\n",
       "      <td>黄冈</td>\n",
       "      <td>65534</td>\n",
       "      <td>38924</td>\n",
       "    </tr>\n",
       "    <tr>\n",
       "      <td>黄石</td>\n",
       "      <td>10758</td>\n",
       "      <td>5746</td>\n",
       "    </tr>\n",
       "  </tbody>\n",
       "</table>\n",
       "</div>"
      ],
      "text/plain": [
       "      严重弱覆盖栅格数量_x  严重弱覆盖栅格数量_y\n",
       "城市_x                          \n",
       "十堰           1195          836\n",
       "咸宁           2644         1168\n",
       "天门           5406         2445\n",
       "孝感          33813        21614\n",
       "宜昌           3300         1094\n",
       "恩施           1060          457\n",
       "武汉          27159        10056\n",
       "江汉           2068          734\n",
       "潜江           2391          979\n",
       "荆州            850          531\n",
       "荆门            658          254\n",
       "襄阳           1370          413\n",
       "鄂州           3739         2291\n",
       "随州           1783          790\n",
       "黄冈          65534        38924\n",
       "黄石          10758         5746"
      ]
     },
     "execution_count": 12,
     "metadata": {},
     "output_type": "execute_result"
    }
   ],
   "source": [
    "res_qx"
   ]
  },
  {
   "cell_type": "code",
   "execution_count": 13,
   "metadata": {},
   "outputs": [],
   "source": [
    "res_qx.to_clipboard()"
   ]
  },
  {
   "cell_type": "code",
   "execution_count": null,
   "metadata": {},
   "outputs": [],
   "source": []
  },
  {
   "cell_type": "code",
   "execution_count": null,
   "metadata": {},
   "outputs": [],
   "source": []
  },
  {
   "cell_type": "code",
   "execution_count": null,
   "metadata": {},
   "outputs": [],
   "source": []
  },
  {
   "cell_type": "code",
   "execution_count": null,
   "metadata": {},
   "outputs": [],
   "source": []
  },
  {
   "cell_type": "code",
   "execution_count": null,
   "metadata": {},
   "outputs": [],
   "source": []
  }
 ],
 "metadata": {
  "kernelspec": {
   "display_name": "Python 3",
   "language": "python",
   "name": "python3"
  },
  "language_info": {
   "codemirror_mode": {
    "name": "ipython",
    "version": 3
   },
   "file_extension": ".py",
   "mimetype": "text/x-python",
   "name": "python",
   "nbconvert_exporter": "python",
   "pygments_lexer": "ipython3",
   "version": "3.7.4"
  }
 },
 "nbformat": 4,
 "nbformat_minor": 2
}
