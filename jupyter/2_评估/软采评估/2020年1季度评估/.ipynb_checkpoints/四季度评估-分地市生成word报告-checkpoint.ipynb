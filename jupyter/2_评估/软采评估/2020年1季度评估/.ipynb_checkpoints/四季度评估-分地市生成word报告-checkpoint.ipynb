{
 "cells": [
  {
   "cell_type": "markdown",
   "metadata": {},
   "source": [
    "# ----生成软采各地市评估报告----\n",
    "## ----使用临时缓存的字典格式数据（小区 & 栅格），生成报告----"
   ]
  },
  {
   "cell_type": "markdown",
   "metadata": {},
   "source": [
    "#### 导入模块"
   ]
  },
  {
   "cell_type": "code",
   "execution_count": null,
   "metadata": {},
   "outputs": [],
   "source": [
    "import mytools\n",
    "import pandas as pd\n",
    "from docx import Document\n",
    "w = mytools.wordn"
   ]
  },
  {
   "cell_type": "markdown",
   "metadata": {},
   "source": [
    "#### 导入数据"
   ]
  },
  {
   "cell_type": "code",
   "execution_count": null,
   "metadata": {},
   "outputs": [],
   "source": [
    "dict_ell_qw_fgl = mytools.othern.pickle_read('G:/1-规划/MRO/1、原始数据/摸底测试相关/2019年/12月/mro/四季度评估使用/程序储存数据/dict_qw_fgl.data')\n",
    "dict_ell_qx_fgl = mytools.othern.pickle_read('G:/1-规划/MRO/1、原始数据/摸底测试相关/2019年/12月/mro/四季度评估使用/程序储存数据/qx_fg_res.data')\n",
    "dict_ell_qw_zb = mytools.othern.pickle_read('G:/1-规划/MRO/1、原始数据/摸底测试相关/2019年/12月/mro/四季度评估使用/程序储存数据/dict_qw_zb.data')\n",
    "dict_ell_qx_zb = mytools.othern.pickle_read('G:/1-规划/MRO/1、原始数据/摸底测试相关/2019年/12月/mro/四季度评估使用/程序储存数据/dict_qx.data')\n",
    "dict_grid = mytools.othern.pickle_read('G:/1-规划/评估/软采评估/2019第四季度/栅格/保存数据/dict_grid.data')"
   ]
  },
  {
   "cell_type": "code",
   "execution_count": null,
   "metadata": {},
   "outputs": [],
   "source": [
    "#评估标准插入\n",
    "biaozhun = pd.read_csv(open('G:/1-规划/评估/软采评估/2019第三季度/使用数据/评估标准_插入.csv',encoding = 'gbk'))"
   ]
  },
  {
   "cell_type": "markdown",
   "metadata": {},
   "source": [
    "#### 固定数据预处理"
   ]
  },
  {
   "cell_type": "code",
   "execution_count": null,
   "metadata": {},
   "outputs": [],
   "source": [
    "dict_ell_qw_fgl_qian3=list(dict_ell_qw_fgl.iloc[0:3,0])\n",
    "dict_ell_qw_fgl_hou3=list(dict_ell_qw_fgl.iloc[-4:-1,0])\n",
    "dict_ell_qw_fgl_hou3.reverse()"
   ]
  },
  {
   "cell_type": "code",
   "execution_count": null,
   "metadata": {},
   "outputs": [],
   "source": [
    "dict_ell_qw_zb_qian3=list(dict_ell_qw_zb.iloc[0:3,0])\n",
    "dict_ell_qw_zb_hou3=list(dict_ell_qw_zb.iloc[-4:-1,0])\n",
    "dict_ell_qw_zb_hou3.reverse()"
   ]
  },
  {
   "cell_type": "code",
   "execution_count": null,
   "metadata": {},
   "outputs": [],
   "source": [
    "grid_qw_rzb = dict_grid['全网'][['2019年12月','总栅格','大于100采样点','弱覆盖栅格数量']]\n",
    "grid_qw_use=grid_qw_rzb.set_index('2019年12月')\n",
    "a = grid_qw_use.sum()\n",
    "a.name='总计'\n",
    "grid_qw_use_ok = grid_qw_use.append(a).reset_index()\n",
    "grid_qw_use_ok['大数据弱覆盖栅格占比'] = grid_qw_use_ok['弱覆盖栅格数量'] /grid_qw_use_ok['大于100采样点'] \n",
    "grid_qw_use_ok2=mytools.othern.df_sort(grid_qw_use_ok,columns=['大数据弱覆盖栅格占比'],\n",
    "    sort_columns='大数据弱覆盖栅格占比',\n",
    "    ascending=True)\n",
    "\n",
    "grid_qw_use_ok2_qian3=list(grid_qw_use_ok2.iloc[0:3,0])\n",
    "grid_qw_use_ok2_hou3=list(grid_qw_use_ok2.iloc[-4:-1,0])\n",
    "grid_qw_use_ok2_hou3.reverse()\n",
    "\n",
    "grid_qw_yzzb = dict_grid['全网'][['2019年12月','总栅格','大于100采样点','严重弱覆盖栅格数量']]\n",
    "grid_qw_use_yz=grid_qw_yzzb.set_index('2019年12月')\n",
    "a = grid_qw_use_yz.sum()\n",
    "a.name='总计'\n",
    "grid_qw_use_yz_ok = grid_qw_use_yz.append(a).reset_index()\n",
    "grid_qw_use_yz_ok['严重弱覆盖栅格占比'] = grid_qw_use_yz_ok['严重弱覆盖栅格数量'] /grid_qw_use_yz_ok['大于100采样点'] \n",
    "grid_qw_use_yz_ok2=mytools.othern.df_sort(grid_qw_use_yz_ok,columns=['严重弱覆盖栅格占比'],\n",
    "    sort_columns='严重弱覆盖栅格占比',\n",
    "    ascending=True)\n",
    "\n",
    "grid_qw_use_yz_ok2_qian3=list(grid_qw_use_yz_ok2.iloc[0:3,0])\n",
    "grid_qw_use_yz_ok2_hou3=list(grid_qw_use_yz_ok2.iloc[-4:-1,0])\n",
    "grid_qw_use_yz_ok2_hou3.reverse()"
   ]
  },
  {
   "cell_type": "code",
   "execution_count": null,
   "metadata": {
    "scrolled": false
   },
   "outputs": [],
   "source": [
    "grid_qw_use=grid_qw_rzb.set_index('2019年12月')\n",
    "a = grid_qw_use.sum()\n",
    "a.name='总计'\n",
    "grid_qw_use_ok = grid_qw_use.append(a).reset_index()"
   ]
  },
  {
   "cell_type": "code",
   "execution_count": null,
   "metadata": {},
   "outputs": [],
   "source": [
    "grid_qw_use_ok['大数据弱覆盖栅格占比'] = grid_qw_use_ok['弱覆盖栅格数量'] /grid_qw_use_ok['大于100采样点'] "
   ]
  },
  {
   "cell_type": "code",
   "execution_count": null,
   "metadata": {},
   "outputs": [],
   "source": [
    "grid_qw_use_ok2=mytools.othern.df_sort(grid_qw_use_ok,columns=['大数据弱覆盖栅格占比'],\n",
    "    sort_columns='大数据弱覆盖栅格占比',\n",
    "    ascending=True)"
   ]
  },
  {
   "cell_type": "code",
   "execution_count": null,
   "metadata": {},
   "outputs": [],
   "source": [
    "grid_qw_use_ok2_qian3=list(grid_qw_use_ok2.iloc[0:3,0])\n",
    "grid_qw_use_ok2_hou3=list(grid_qw_use_ok2.iloc[-4:-1,0])\n",
    "grid_qw_use_ok2_hou3.reverse()"
   ]
  },
  {
   "cell_type": "markdown",
   "metadata": {},
   "source": [
    "#### 变量处理数据格式"
   ]
  },
  {
   "cell_type": "code",
   "execution_count": null,
   "metadata": {},
   "outputs": [],
   "source": [
    "dishi_name = '荆州'"
   ]
  },
  {
   "cell_type": "code",
   "execution_count": null,
   "metadata": {},
   "outputs": [],
   "source": [
    "data_fgl_qx_ok = dict_ell_qx_fgl[dishi_name]\n",
    "dict_ell_qx_ok = dict_ell_qx_zb[dishi_name]"
   ]
  },
  {
   "cell_type": "code",
   "execution_count": null,
   "metadata": {},
   "outputs": [],
   "source": [
    "def quanhou(data_fgl_qx_ok):\n",
    "    if data_fgl_qx_ok.shape[0]>=7:\n",
    "        quxian_fgl_qian3=list(data_fgl_qx_ok.iloc[0:3,0])\n",
    "        quxian_fgl_hou3=list(data_fgl_qx_ok.iloc[-4:-1,0])\n",
    "        quxian_fgl_hou3.reverse()\n",
    "    elif data_fgl_qx_ok.shape[0]>=5:\n",
    "        quxian_fgl_qian3=list(data_fgl_qx_ok.iloc[0:2,0])\n",
    "        quxian_fgl_hou3=list(data_fgl_qx_ok.iloc[-3:-1,0])\n",
    "        quxian_fgl_hou3.reverse()\n",
    "    else:\n",
    "        quxian_fgl_qian3=list(data_fgl_qx_ok.iloc[0:1,0])\n",
    "        quxian_fgl_hou3=list(data_fgl_qx_ok.iloc[-2:-1,0])\n",
    "        quxian_fgl_hou3.reverse()\n",
    "    return quxian_fgl_qian3,quxian_fgl_hou3"
   ]
  },
  {
   "cell_type": "code",
   "execution_count": null,
   "metadata": {},
   "outputs": [],
   "source": [
    "grid_qx_rzb = dict_grid[dishi_name]"
   ]
  },
  {
   "cell_type": "code",
   "execution_count": null,
   "metadata": {},
   "outputs": [],
   "source": [
    "grid_qx_rzb_i = grid_qx_rzb[['2019年12月','总栅格','大于100采样点','弱覆盖栅格数量']]\n",
    "\n",
    "grid_qx_use=grid_qx_rzb_i.set_index('2019年12月')\n",
    "a = grid_qx_use.sum()\n",
    "a.name='总计'\n",
    "grid_qx_use_ok = grid_qx_use.append(a).reset_index()\n",
    "\n",
    "grid_qx_use_ok['大数据弱覆盖栅格占比'] = grid_qx_use_ok['弱覆盖栅格数量'] /grid_qx_use_ok['大于100采样点'] \n",
    "\n",
    "grid_qx_use_ok2=mytools.othern.df_sort(grid_qx_use_ok,columns=['大数据弱覆盖栅格占比'],\n",
    "    sort_columns='大数据弱覆盖栅格占比',\n",
    "    ascending=True)"
   ]
  },
  {
   "cell_type": "code",
   "execution_count": null,
   "metadata": {},
   "outputs": [],
   "source": [
    "grid_qx_yz = dict_grid[dishi_name]"
   ]
  },
  {
   "cell_type": "code",
   "execution_count": null,
   "metadata": {},
   "outputs": [],
   "source": [
    "dict_ell_qw_zb_qian3=list(dict_ell_qw_zb.iloc[0:3,0])\n",
    "dict_ell_qw_zb_hou3=list(dict_ell_qw_zb.iloc[-4:-1,0])\n",
    "dict_ell_qw_zb_hou3.reverse()"
   ]
  },
  {
   "cell_type": "code",
   "execution_count": null,
   "metadata": {},
   "outputs": [],
   "source": [
    "grid_qx_yz_1 = grid_qx_yz[['2019年12月','总栅格','大于100采样点','严重弱覆盖栅格数量']]\n",
    "\n",
    "grid_qx_use_yz=grid_qx_yz_1.set_index('2019年12月')\n",
    "a = grid_qx_use_yz.sum()\n",
    "a.name='总计'\n",
    "grid_qx_use_yz_ok = grid_qx_use_yz.append(a).reset_index()\n",
    "\n",
    "grid_qx_use_yz_ok['严重弱覆盖栅格占比'] = grid_qx_use_yz_ok['严重弱覆盖栅格数量'] /grid_qx_use_yz_ok['大于100采样点'] \n",
    "\n",
    "grid_qx_use_yz_ok_ok2=mytools.othern.df_sort(grid_qx_use_yz_ok,columns=['严重弱覆盖栅格占比'],\n",
    "    sort_columns='严重弱覆盖栅格占比',\n",
    "    ascending=True)"
   ]
  },
  {
   "cell_type": "code",
   "execution_count": null,
   "metadata": {},
   "outputs": [],
   "source": [
    "#得分计算——地市\n",
    "list_dishi2 = ['孝感','襄阳','咸宁','随州','十堰','荆州','荆门','黄石','鄂州','黄冈','恩施','宜昌','潜江','天门','江汉','武汉','总计']\n",
    "pingfen_dishi = pd.DataFrame({'地市': list_dishi2})\n",
    "pingfen_dishi['全网MR覆盖率']=0\n",
    "pingfen_dishi['得分1']=0\n",
    "pingfen_dishi['问题小区占比']=0\n",
    "pingfen_dishi['得分2']=0\n",
    "pingfen_dishi['大数据MR问题栅格占比']=0\n",
    "pingfen_dishi['得分3']=0\n",
    "pingfen_dishi['严重弱覆盖栅格占比']=0\n",
    "pingfen_dishi['得分4']=0\n",
    "pingfen_dishi['总得分']=0\n",
    "\n",
    "pingfen_dishi.set_index('地市',inplace = True)\n",
    "data_fgl_index = dict_ell_qw_fgl.set_index('全网-指标')\n",
    "data_wenti_index = dict_ell_qw_zb.set_index('城市')\n",
    "data_grid_index = grid_qw_use_ok2.set_index('2019年12月')\n",
    "data_grid_yz_index = grid_qw_use_yz_ok2.set_index('2019年12月')\n",
    "\n",
    "\n",
    "pingfen_dishi['全网MR覆盖率'].update(data_fgl_index['全网移动覆盖率'])\n",
    "pingfen_dishi['问题小区占比'].update(data_wenti_index['问题小区占比'])\n",
    "pingfen_dishi['大数据MR问题栅格占比'].update(data_grid_index['大数据弱覆盖栅格占比'])\n",
    "pingfen_dishi['严重弱覆盖栅格占比'].update(data_grid_yz_index['严重弱覆盖栅格占比'])\n",
    "pingfen_dishi['得分1'] = pd.to_numeric(pingfen_dishi['全网MR覆盖率'].str.replace('%',''))*20/100\n",
    "pingfen_dishi['得分2'] = 10-pd.to_numeric(pingfen_dishi['问题小区占比'].str.replace('%',''))*10/100\n",
    "pingfen_dishi['得分3'] = 10-pd.to_numeric(pingfen_dishi['大数据MR问题栅格占比'].str.replace('%',''))*10/100\n",
    "pingfen_dishi['得分4'] = 60-pd.to_numeric(pingfen_dishi['严重弱覆盖栅格占比'].str.replace('%',''))/100*60\n",
    "pingfen_dishi['总得分'] = pingfen_dishi['得分1']+pingfen_dishi['得分2']+pingfen_dishi['得分3']+pingfen_dishi['得分4']\n",
    "pingfen_dishi_1 = pingfen_dishi.round(decimals = 2)\n",
    "pingfen_dishi_1.sort_values('总得分',ascending=False,inplace = True)\n",
    "pingfen_dishi_1.reset_index(inplace = True)\n",
    "\n",
    "pingfen_dishi_res = pd.concat([pingfen_dishi_1.loc[pingfen_dishi_1['地市']!='总计'],pingfen_dishi_1.loc[pingfen_dishi_1['地市']=='总计']])\n",
    "pingfen_dishi_res.reset_index(drop=True,inplace = True)\n",
    "pingfen_dishi_res = pingfen_dishi_res.loc[pingfen_dishi_res['地市']!='总计']"
   ]
  },
  {
   "cell_type": "code",
   "execution_count": null,
   "metadata": {},
   "outputs": [],
   "source": [
    "pingfen_dishi_res_qian3=list(pingfen_dishi_res.iloc[0:3,0])\n",
    "pingfen_dishi_res_hou3=list(pingfen_dishi_res.iloc[-4:-1,0])\n",
    "pingfen_dishi_res_hou3.reverse()"
   ]
  },
  {
   "cell_type": "code",
   "execution_count": null,
   "metadata": {
    "scrolled": true
   },
   "outputs": [],
   "source": [
    "#得分-区县\n",
    "pingfen_quxian = data_fgl_qx_ok[['区域','移动覆盖率']]\n",
    "pingfen_quxian = pingfen_quxian.reindex(columns=['区域','移动覆盖率','得分1','问题小区占比',\n",
    "                                                 '得分2','大数据MR问题栅格占比','得分3','严重弱覆盖栅格占比','得分4','总得分'])\n",
    "pingfen_quxian1 = pingfen_quxian.set_index('区域')\n",
    "data_wenti_qx_ok_index = dict_ell_qx_ok.set_index('区域')\n",
    "data_grid_qx_ok_index = grid_qx_use_ok2.set_index('2019年12月')\n",
    "data_grid_qx_yz_ok_index = grid_qx_use_yz_ok_ok2.set_index('2019年12月')\n",
    "\n",
    "pingfen_quxian1['问题小区占比'].update(data_wenti_qx_ok_index['问题小区占比'])\n",
    "pingfen_quxian1['大数据MR问题栅格占比'].update(data_grid_qx_ok_index['大数据弱覆盖栅格占比'])\n",
    "pingfen_quxian1['严重弱覆盖栅格占比'].update(data_grid_qx_yz_ok_index['严重弱覆盖栅格占比'])\n",
    "pingfen_quxian1['得分1'] = pd.to_numeric(pingfen_quxian1['移动覆盖率'].str.replace('%',''))*20/100\n",
    "pingfen_quxian1['得分2'] = 10-pd.to_numeric(pingfen_quxian1['问题小区占比'].str.replace('%',''))*10/100\n",
    "pingfen_quxian1['得分3'] = 10-pd.to_numeric(pingfen_quxian1['大数据MR问题栅格占比'].str.replace('%',''))*10/100\n",
    "pingfen_quxian1['得分4'] = 60-pd.to_numeric(pingfen_quxian1['严重弱覆盖栅格占比'].str.replace('%',''))/100*60\n",
    "pingfen_quxian1['总得分'] = pingfen_quxian1['得分1']+pingfen_quxian1['得分2']+pingfen_quxian1['得分3']+pingfen_quxian1['得分4']\n",
    "pingfen_quxian_1 = pingfen_quxian1.round(decimals = 2)\n",
    "pingfen_quxian_1.sort_values('总得分',ascending=False,inplace = True)\n",
    "pingfen_quxian_1.reset_index(inplace = True)\n",
    "\n",
    "pingfen_quxian_res = pd.concat([pingfen_quxian_1.loc[pingfen_quxian_1['区域']!=dishi_name],pingfen_quxian_1.loc[\n",
    "    pingfen_quxian_1['区域']==dishi_name]])\n",
    "pingfen_quxian_res.reset_index(drop=True,inplace = True)\n"
   ]
  },
  {
   "cell_type": "code",
   "execution_count": null,
   "metadata": {
    "scrolled": true
   },
   "outputs": [],
   "source": [
    "def quanhou(data_fgl_qx_ok):\n",
    "    if data_fgl_qx_ok.shape[0]>=7:\n",
    "        quxian_fgl_qian3=list(data_fgl_qx_ok.iloc[0:3,0])\n",
    "        quxian_fgl_hou3=list(data_fgl_qx_ok.iloc[-4:-1,0])\n",
    "        quxian_fgl_hou3.reverse()\n",
    "    elif data_fgl_qx_ok.shape[0]>=5:\n",
    "        quxian_fgl_qian3=list(data_fgl_qx_ok.iloc[0:2,0])\n",
    "        quxian_fgl_hou3=list(data_fgl_qx_ok.iloc[-3:-1,0])\n",
    "        quxian_fgl_hou3.reverse()\n",
    "    else:\n",
    "        quxian_fgl_qian3=list(data_fgl_qx_ok.iloc[0:1,0])\n",
    "        quxian_fgl_hou3=list(data_fgl_qx_ok.iloc[-2:-1,0])\n",
    "        quxian_fgl_hou3.reverse()\n",
    "    return quxian_fgl_qian3,quxian_fgl_hou3"
   ]
  },
  {
   "cell_type": "markdown",
   "metadata": {},
   "source": [
    "#### 生成报告"
   ]
  },
  {
   "cell_type": "code",
   "execution_count": null,
   "metadata": {},
   "outputs": [],
   "source": [
    "document = Document()"
   ]
  },
  {
   "cell_type": "code",
   "execution_count": null,
   "metadata": {},
   "outputs": [],
   "source": [
    "w.add_heading(document,'MR竞对覆盖评估体系',jibie=1,size=18,duiqi='c')\n",
    "w.add_heading(document,'一、网络质量覆盖评估',jibie=2,size=16)\n",
    "\n",
    "w.add_paragraph(document,'此用于评估全网网络质量情况，并通过整网、小区、大数据栅格三个维度进行评估分析。')\n",
    "w.add_heading(document,'1.整网粒度',jibie=3,size=14)\n",
    "p = document.add_paragraph('')\n",
    "w.add_text(p,'全网MR覆盖率：',bold=True)\n",
    "w.add_text(p,'全省分地市，地市分区县整体MR覆盖率情况。')\n",
    "p = document.add_paragraph('')\n",
    "w.add_text(p,'指标定义：',bold=True)\n",
    "w.add_text(p,'全网MR覆盖率=所有小区MR RSRP≥-110dbm的采样点总数/采样点总数')\n",
    "p = document.add_paragraph('')\n",
    "w.add_text(p,'数据来源：',bold=True)\n",
    "w.add_text(p,'本次小区级数据来源于双套系统摸底数据。')\n",
    "w.add_paragraph(document,'2019年第四季度软采数据评估情况：')\n",
    "p = document.add_paragraph('')\n",
    "w.add_text(p,'全省分地市情况：')\n",
    "w.add_text(p,'、'.join(dict_ell_qw_fgl_qian3),bold=True)\n",
    "w.add_text(p,'覆盖较好，')\n",
    "w.add_text(p,'、'.join(dict_ell_qw_fgl_hou3),bold=True)\n",
    "w.add_text(p,'覆盖相对较差。')\n",
    "w.add_df(document,dict_ell_qw_fgl,'m')\n",
    "p = document.add_paragraph('')\n",
    "\n",
    "p = document.add_paragraph('')\n",
    "if data_fgl_qx_ok.shape[0]<3:\n",
    "    w.add_text(p,dishi_name+'各区县指标如下：')\n",
    "else:\n",
    "    w.add_text(p,dishi_name+'各区县中')\n",
    "    fgl_qx_qian3 = quanhou(data_fgl_qx_ok)[0]\n",
    "    fgl_qx_hou3 = quanhou(data_fgl_qx_ok)[1]\n",
    "    w.add_text(p,'、'.join(fgl_qx_qian3),bold=True)\n",
    "    w.add_text(p,'覆盖较好，')\n",
    "    w.add_text(p,'、'.join(fgl_qx_hou3),bold=True)\n",
    "    w.add_text(p,'覆盖相对较差。')\n",
    "w.add_df(document,data_fgl_qx_ok,'m')\n",
    "p = document.add_paragraph('')"
   ]
  },
  {
   "cell_type": "code",
   "execution_count": null,
   "metadata": {},
   "outputs": [],
   "source": [
    "w.add_heading(document,'2.小区粒度',jibie=3,size=14)\n",
    "p = document.add_paragraph('')\n",
    "w.add_text(p,'MR覆盖问题小区占比：',bold=True)\n",
    "w.add_text(p,'全省分地市，地市分区县MR覆盖问题小区占比情况')\n",
    "p = document.add_paragraph('')\n",
    "w.add_text(p,'指标定义：',bold=True)\n",
    "w.add_text(p,'MR覆盖问题小区占比=（小区级MR覆盖率<90%或MR竞对黑点有效小区）/总小区数')\n",
    "p = document.add_paragraph('')\n",
    "w.add_text(p,'数据来源：',bold=True)\n",
    "w.add_text(p,'本次小区级数据来源于双套系统摸底数据。')\n",
    "\n",
    "p = document.add_paragraph('')\n",
    "w.add_text(p,'全省分地市情况：')\n",
    "w.add_text(p,'、'.join(dict_ell_qw_zb_qian3),bold=True)\n",
    "w.add_text(p,'覆盖较好，MR问题小区较少。')\n",
    "w.add_text(p,'、'.join(dict_ell_qw_zb_hou3),bold=True)\n",
    "w.add_text(p,'覆盖相对较差，MR问题小区较多。')\n",
    "w.add_df(document,dict_ell_qw_zb,'m')\n",
    "p = document.add_paragraph('')\n",
    "\n",
    "p = document.add_paragraph('')\n",
    "if dict_ell_qx_ok.shape[0]<3:\n",
    "    w.add_text(p,dishi_name+'各区县指标如下')\n",
    "else:\n",
    "    w.add_text(p,dishi_name+'各区县中')\n",
    "    cell_qx_qian3 = quanhou(dict_ell_qx_ok)[0]\n",
    "    cell_qx_hou3 = quanhou(dict_ell_qx_ok)[1]\n",
    "    w.add_text(p,'、'.join(cell_qx_qian3),bold=True)\n",
    "    w.add_text(p,'覆盖较好，MR问题小区较少。')\n",
    "    w.add_text(p,'、'.join(cell_qx_hou3),bold=True)\n",
    "    w.add_text(p,'覆盖相对较差，MR问题小区较多。')\n",
    "w.add_df(document,dict_ell_qx_ok,'m')\n",
    "p = document.add_paragraph('')"
   ]
  },
  {
   "cell_type": "code",
   "execution_count": null,
   "metadata": {},
   "outputs": [],
   "source": [
    "w.add_heading(document,'3.大数据栅格粒度',jibie=3,size=14)\n",
    "p = document.add_paragraph('')"
   ]
  },
  {
   "cell_type": "code",
   "execution_count": null,
   "metadata": {},
   "outputs": [],
   "source": [
    "w.add_text(p,'1)大数据MR问题栅格占比：',bold=True)\n",
    "w.add_text(p,'全省分地市，地市分区县大数据问题栅格占比情况')\n",
    "p = document.add_paragraph('')\n",
    "w.add_text(p,'指标定义：',bold=True)\n",
    "w.add_text(p,'大数据MR问题栅格占比=大数据问题栅格数/总有效栅格数')\n",
    "w.add_paragraph(document,'大数据问题栅格：有效栅格MR覆盖率小于93.6%(此处门限定义为目标网设定全网达到96%的换算值)')\n",
    "w.add_paragraph(document,'总有效栅格数：栅格采样点数大于100')\n",
    "p = document.add_paragraph('')\n",
    "w.add_text(p,'全省分地市情况：')\n",
    "w.add_text(p,'、'.join(grid_qw_use_ok2_qian3),bold=True)\n",
    "w.add_text(p,'覆盖较好，MR弱覆盖栅格较少。')\n",
    "w.add_text(p,'、'.join(grid_qw_use_ok2_hou3),bold=True)\n",
    "w.add_text(p,'覆盖相对较差，MR弱覆盖栅格较多。')\n",
    "p = document.add_paragraph('')\n",
    "w.add_text(p,'注：大数据问题栅格标准是栅格覆盖率小于93.6%，故此处指标较高。',size=10, color='r')\n",
    "\n",
    "w.add_df(document,grid_qw_use_ok2,'m')\n",
    "p = document.add_paragraph('')\n",
    "\n",
    "\n",
    "p = document.add_paragraph('')\n",
    "if grid_qx_use_ok2.shape[0]<3:\n",
    "    w.add_text(p,dishi_name+'各区县指标如下')\n",
    "else:\n",
    "    w.add_text(p,dishi_name+'各区县中')\n",
    "    grid_qx_use_ok2_qian3 = quanhou(grid_qx_use_ok2)[0]\n",
    "    grid_qx_use_ok2_hou3 = quanhou(grid_qx_use_ok2)[1]\n",
    "    w.add_text(p,'、'.join(grid_qx_use_ok2_qian3),bold=True)\n",
    "    w.add_text(p,'覆盖较好，MR问题小区较少。')\n",
    "    w.add_text(p,'、'.join(grid_qx_use_ok2_hou3),bold=True)\n",
    "    w.add_text(p,'覆盖相对较差，MR问题小区较多。')\n",
    "w.add_df(document,grid_qx_use_ok2,'m')\n",
    "p = document.add_paragraph('')"
   ]
  },
  {
   "cell_type": "code",
   "execution_count": null,
   "metadata": {},
   "outputs": [],
   "source": [
    "w.add_text(p,'2)严重弱覆盖栅格占比：',bold=True)\n",
    "w.add_text(p,'全省分地市，地市分区县大数据问题栅格占比情况')\n",
    "p = document.add_paragraph('')\n",
    "w.add_text(p,'指标定义：',bold=True)\n",
    "w.add_text(p,'大数据严重弱覆盖栅格占比=大数据严重问题栅格数/总有效栅格数大数据严重问题栅格：有效栅格MR覆盖率小于70%.')\n",
    "p = document.add_paragraph('')\n",
    "w.add_text(p,'全省分地市情况：')\n",
    "w.add_text(p,'、'.join(grid_qw_use_yz_ok2_qian3),bold=True)\n",
    "w.add_text(p,'覆盖较好，MR弱覆盖栅格较少。')\n",
    "w.add_text(p,'、'.join(grid_qw_use_yz_ok2_hou3),bold=True)\n",
    "w.add_text(p,'覆盖相对较差，MR弱覆盖栅格较多。')\n",
    "\n",
    "w.add_df(document,grid_qw_use_yz_ok2,'m')\n",
    "p = document.add_paragraph('')\n",
    "\n",
    "\n",
    "p = document.add_paragraph('')\n",
    "if grid_qx_use_yz_ok_ok2.shape[0]<3:\n",
    "    w.add_text(p,dishi_name+'各区县指标如下')\n",
    "else:\n",
    "    w.add_text(p,dishi_name+'各区县中')\n",
    "    grid_qx_use_yz_ok_ok2_qian3 = quanhou(grid_qx_use_yz_ok_ok2)[0]\n",
    "    grid_qx_use_yz_ok_ok2_hou3 = quanhou(grid_qx_use_yz_ok_ok2)[1]\n",
    "    w.add_text(p,'、'.join(grid_qx_use_yz_ok_ok2_qian3),bold=True)\n",
    "    w.add_text(p,'覆盖较好，MR问题小区较少。')\n",
    "    w.add_text(p,'、'.join(grid_qx_use_yz_ok_ok2_hou3),bold=True)\n",
    "    w.add_text(p,'覆盖相对较差，MR问题小区较多。')\n",
    "w.add_df(document,grid_qx_use_yz_ok_ok2,'m')\n",
    "p = document.add_paragraph('')"
   ]
  },
  {
   "cell_type": "code",
   "execution_count": null,
   "metadata": {},
   "outputs": [],
   "source": [
    "w.add_heading(document,'二、整体评估',jibie=2,size=16)\n",
    "w.add_paragraph(document,'各指标项分值见分值列：地市指标按指标情况线性取值。')\n",
    "w.add_df(document,biaozhun,'m')\n",
    "p = document.add_paragraph('')\n",
    "p = document.add_paragraph('')\n",
    "w.add_text(p,'最后依据地市每项得分的总和得到地市总得分，排序情况如下：')\n",
    "w.add_text(p,'全网MR覆盖率：',bold=True)\n",
    "w.add_text(p,'得分最高。')\n",
    "w.add_text(p,'全网MR覆盖率：',bold=True)\n",
    "w.add_text(p,'分最低。')\n",
    "wuhan_paiming = pingfen_dishi_res[pingfen_dishi_res['地市'].isin(['武汉'])].index[0]+1\n",
    "w.add_text(p,'武分排名'+str(wuhan_paiming)+'。')\n",
    "w.add_df(document,pingfen_dishi_res,'m')\n",
    "p = document.add_paragraph('')\n",
    "w.add_paragraph(document,'依据'+dishi_name+'区县的每项得分总和得到各区县的总得分，排序如下：')\n",
    "w.add_df(document,pingfen_quxian_res,'m')\n",
    "p = document.add_paragraph('')"
   ]
  },
  {
   "cell_type": "code",
   "execution_count": null,
   "metadata": {},
   "outputs": [],
   "source": [
    "w.add_df(document,pingfen_quxian_res,'m',lists=[((0, 0), (0, 5))])"
   ]
  },
  {
   "cell_type": "code",
   "execution_count": null,
   "metadata": {},
   "outputs": [],
   "source": [
    "document.save('G:/1-规划/评估/软采评估/2019第四季度/输出报告/四季度完整性评估报告.docx')\n",
    "print('ok')"
   ]
  },
  {
   "cell_type": "code",
   "execution_count": null,
   "metadata": {},
   "outputs": [],
   "source": [
    "data_a = pd.read_clipboard()"
   ]
  },
  {
   "cell_type": "code",
   "execution_count": null,
   "metadata": {},
   "outputs": [],
   "source": [
    "data = pd.concat([data_a,pingfen_quxian_res],)"
   ]
  },
  {
   "cell_type": "code",
   "execution_count": null,
   "metadata": {},
   "outputs": [],
   "source": [
    "data_a"
   ]
  }
 ],
 "metadata": {
  "kernelspec": {
   "display_name": "Python 3",
   "language": "python",
   "name": "python3"
  },
  "language_info": {
   "codemirror_mode": {
    "name": "ipython",
    "version": 3
   },
   "file_extension": ".py",
   "mimetype": "text/x-python",
   "name": "python",
   "nbconvert_exporter": "python",
   "pygments_lexer": "ipython3",
   "version": "3.7.3"
  }
 },
 "nbformat": 4,
 "nbformat_minor": 2
}
