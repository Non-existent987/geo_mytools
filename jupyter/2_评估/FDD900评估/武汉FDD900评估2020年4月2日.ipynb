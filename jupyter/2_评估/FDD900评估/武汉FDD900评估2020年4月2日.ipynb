{
 "cells": [
  {
   "cell_type": "code",
   "execution_count": 6,
   "metadata": {},
   "outputs": [],
   "source": [
    "import mytools\n",
    "import pandas as pd"
   ]
  },
  {
   "cell_type": "code",
   "execution_count": 7,
   "metadata": {},
   "outputs": [],
   "source": [
    "import geopandas as gpd"
   ]
  },
  {
   "cell_type": "markdown",
   "metadata": {},
   "source": [
    "# 软采小区"
   ]
  },
  {
   "cell_type": "code",
   "execution_count": 8,
   "metadata": {},
   "outputs": [],
   "source": [
    "ruancai = pd.read_csv('G:/1-规划/MRO/1、原始数据/摸底测试相关/2020年/3月/软采/allcgi03210330/allcgi03210330.csv',encoding='utf-8',sep='\\t')"
   ]
  },
  {
   "cell_type": "code",
   "execution_count": 9,
   "metadata": {},
   "outputs": [
    {
     "data": {
      "text/plain": [
       "Index(['day', 'eutrancell_name', 'eutrancell_cgi', 'rsrp_sample_count',\n",
       "       'scrsrpavg', 'rsrq_sum', 'rsrq_sample_count', 'scrsrqavg', 'rsrp_weak',\n",
       "       'rsrp_weak_rate', 'ulsinr_sum', 'ulsinr_sample_count', 'ulsinravg'],\n",
       "      dtype='object')"
      ]
     },
     "execution_count": 9,
     "metadata": {},
     "output_type": "execute_result"
    }
   ],
   "source": [
    "ruancai.columns"
   ]
  },
  {
   "cell_type": "code",
   "execution_count": 10,
   "metadata": {},
   "outputs": [
    {
     "data": {
      "text/plain": [
       "(924095, 13)"
      ]
     },
     "execution_count": 10,
     "metadata": {},
     "output_type": "execute_result"
    }
   ],
   "source": [
    "ruancai.shape"
   ]
  },
  {
   "cell_type": "code",
   "execution_count": 11,
   "metadata": {},
   "outputs": [],
   "source": [
    "ruancai_sum = ruancai.groupby('eutrancell_cgi').sum().reset_index()"
   ]
  },
  {
   "cell_type": "code",
   "execution_count": 12,
   "metadata": {},
   "outputs": [
    {
     "name": "stderr",
     "output_type": "stream",
     "text": [
      "C:\\ProgramData\\Anaconda3\\lib\\site-packages\\IPython\\core\\interactiveshell.py:3049: DtypeWarning: Columns (12,14) have mixed types. Specify dtype option on import or set low_memory=False.\n",
      "  interactivity=interactivity, compiler=compiler, result=result)\n"
     ]
    }
   ],
   "source": [
    "gongcan = pd.read_csv('G:/1-规划/工参/工参数据/ltejizhan20200317.csv',encoding='gbk')"
   ]
  },
  {
   "cell_type": "code",
   "execution_count": 13,
   "metadata": {},
   "outputs": [
    {
     "data": {
      "text/plain": [
       "Index(['小区CGI(*)', '小区中文名', '网络制式(TDD/FDD)', 'TDL规划站号(新)', '所属地区', '工程参数标识',\n",
       "       '区县代码', '基站编码', '入网工程期', 'RRU经度', 'RRU纬度', '天线挂高', '入网时间', '2G共址站名',\n",
       "       'FDD900与1800是否共址', '站址归属单位', '覆盖类型', '覆盖类别', '覆盖场景', '覆盖场景细化', '二级覆盖场景',\n",
       "       '二级覆盖场景细化', '方位角', '机械下倾角', '电子下倾角', '是否电调天线', '电下倾天线类型', '天线厂家',\n",
       "       '工作频段', '设备型号', '设备类型(大类)', '分布式或一体化', '小区所属空间资源', '基站所属空间资源',\n",
       "       'eNodeB软件版本', '所属OMC', '归属区县', '厂家名称', '集中开站所在环节', '集中开站工单号', '开站流程类型',\n",
       "       '姿态仪测量', '姿态仪测量时间', '所属eNodeB名称', '采集经度', '采集纬度', 'RRU数量', 'TAC', 'PCI',\n",
       "       '中心载频的信道号', '频段指示', '空口上下行业务字节数KByte', '集中工参工单号', 'BBU串号', 'RRU串号',\n",
       "       '规划平台_站址编码', '规划平台_站址名称', '规划平台_覆盖方式', '统计分类'],\n",
       "      dtype='object')"
      ]
     },
     "execution_count": 13,
     "metadata": {},
     "output_type": "execute_result"
    }
   ],
   "source": [
    "gongcan.columns"
   ]
  },
  {
   "cell_type": "code",
   "execution_count": 14,
   "metadata": {},
   "outputs": [],
   "source": [
    "gongcan_use = gongcan[['小区CGI(*)', '小区中文名', '网络制式(TDD/FDD)', '所属地区',  'RRU经度', 'RRU纬度', '覆盖类别', \n",
    "       '方位角', '机械下倾角', '电子下倾角','工作频段','归属区县', '厂家名称']]"
   ]
  },
  {
   "cell_type": "code",
   "execution_count": 15,
   "metadata": {},
   "outputs": [],
   "source": [
    "ruancai_use = gongcan.merge(ruancai_sum,how='left',left_on='小区CGI(*)',right_on='eutrancell_cgi')"
   ]
  },
  {
   "cell_type": "code",
   "execution_count": 16,
   "metadata": {},
   "outputs": [
    {
     "data": {
      "text/plain": [
       "Index(['小区CGI(*)', '小区中文名', '网络制式(TDD/FDD)', 'TDL规划站号(新)', '所属地区', '工程参数标识',\n",
       "       '区县代码', '基站编码', '入网工程期', 'RRU经度', 'RRU纬度', '天线挂高', '入网时间', '2G共址站名',\n",
       "       'FDD900与1800是否共址', '站址归属单位', '覆盖类型', '覆盖类别', '覆盖场景', '覆盖场景细化', '二级覆盖场景',\n",
       "       '二级覆盖场景细化', '方位角', '机械下倾角', '电子下倾角', '是否电调天线', '电下倾天线类型', '天线厂家',\n",
       "       '工作频段', '设备型号', '设备类型(大类)', '分布式或一体化', '小区所属空间资源', '基站所属空间资源',\n",
       "       'eNodeB软件版本', '所属OMC', '归属区县', '厂家名称', '集中开站所在环节', '集中开站工单号', '开站流程类型',\n",
       "       '姿态仪测量', '姿态仪测量时间', '所属eNodeB名称', '采集经度', '采集纬度', 'RRU数量', 'TAC', 'PCI',\n",
       "       '中心载频的信道号', '频段指示', '空口上下行业务字节数KByte', '集中工参工单号', 'BBU串号', 'RRU串号',\n",
       "       '规划平台_站址编码', '规划平台_站址名称', '规划平台_覆盖方式', '统计分类', 'eutrancell_cgi', 'day',\n",
       "       'rsrp_sample_count', 'scrsrpavg', 'rsrq_sum', 'rsrq_sample_count',\n",
       "       'scrsrqavg', 'rsrp_weak', 'rsrp_weak_rate', 'ulsinr_sum',\n",
       "       'ulsinr_sample_count', 'ulsinravg'],\n",
       "      dtype='object')"
      ]
     },
     "execution_count": 16,
     "metadata": {},
     "output_type": "execute_result"
    }
   ],
   "source": [
    "ruancai_use.columns"
   ]
  },
  {
   "cell_type": "code",
   "execution_count": 26,
   "metadata": {},
   "outputs": [],
   "source": [
    "ruancai_use1 = ruancai_use[(ruancai_use['所属地区']=='武汉')&(ruancai_use['工作频段']=='FDD900')]"
   ]
  },
  {
   "cell_type": "code",
   "execution_count": 27,
   "metadata": {},
   "outputs": [],
   "source": [
    "ruancai_res = ruancai_use1.groupby('归属区县').agg({'小区CGI(*)':'count','eutrancell_cgi':'count','rsrq_sample_count':'sum','rsrp_weak':'sum'})"
   ]
  },
  {
   "cell_type": "code",
   "execution_count": 28,
   "metadata": {
    "scrolled": true
   },
   "outputs": [
    {
     "data": {
      "text/html": [
       "<div>\n",
       "<style scoped>\n",
       "    .dataframe tbody tr th:only-of-type {\n",
       "        vertical-align: middle;\n",
       "    }\n",
       "\n",
       "    .dataframe tbody tr th {\n",
       "        vertical-align: top;\n",
       "    }\n",
       "\n",
       "    .dataframe thead th {\n",
       "        text-align: right;\n",
       "    }\n",
       "</style>\n",
       "<table border=\"1\" class=\"dataframe\">\n",
       "  <thead>\n",
       "    <tr style=\"text-align: right;\">\n",
       "      <th></th>\n",
       "      <th>小区CGI(*)</th>\n",
       "      <th>eutrancell_cgi</th>\n",
       "      <th>rsrq_sample_count</th>\n",
       "      <th>rsrp_weak</th>\n",
       "    </tr>\n",
       "    <tr>\n",
       "      <th>归属区县</th>\n",
       "      <th></th>\n",
       "      <th></th>\n",
       "      <th></th>\n",
       "      <th></th>\n",
       "    </tr>\n",
       "  </thead>\n",
       "  <tbody>\n",
       "    <tr>\n",
       "      <th>东湖高新开发区</th>\n",
       "      <td>1966</td>\n",
       "      <td>1780</td>\n",
       "      <td>5.244600e+08</td>\n",
       "      <td>32470762.0</td>\n",
       "    </tr>\n",
       "    <tr>\n",
       "      <th>东西湖区</th>\n",
       "      <td>1178</td>\n",
       "      <td>1126</td>\n",
       "      <td>3.650442e+08</td>\n",
       "      <td>17941319.0</td>\n",
       "    </tr>\n",
       "    <tr>\n",
       "      <th>新洲县</th>\n",
       "      <td>1153</td>\n",
       "      <td>1108</td>\n",
       "      <td>1.079078e+09</td>\n",
       "      <td>77914082.0</td>\n",
       "    </tr>\n",
       "    <tr>\n",
       "      <th>武昌区</th>\n",
       "      <td>847</td>\n",
       "      <td>721</td>\n",
       "      <td>2.273010e+08</td>\n",
       "      <td>12897885.0</td>\n",
       "    </tr>\n",
       "    <tr>\n",
       "      <th>武汉市</th>\n",
       "      <td>25</td>\n",
       "      <td>4</td>\n",
       "      <td>2.028670e+06</td>\n",
       "      <td>85201.0</td>\n",
       "    </tr>\n",
       "    <tr>\n",
       "      <th>汉阳区</th>\n",
       "      <td>819</td>\n",
       "      <td>785</td>\n",
       "      <td>2.277684e+08</td>\n",
       "      <td>7604657.0</td>\n",
       "    </tr>\n",
       "    <tr>\n",
       "      <th>江夏区</th>\n",
       "      <td>1590</td>\n",
       "      <td>1515</td>\n",
       "      <td>6.659757e+08</td>\n",
       "      <td>51413816.0</td>\n",
       "    </tr>\n",
       "    <tr>\n",
       "      <th>江岸区</th>\n",
       "      <td>899</td>\n",
       "      <td>850</td>\n",
       "      <td>2.234182e+08</td>\n",
       "      <td>9516720.0</td>\n",
       "    </tr>\n",
       "    <tr>\n",
       "      <th>江汉区</th>\n",
       "      <td>566</td>\n",
       "      <td>508</td>\n",
       "      <td>1.376752e+08</td>\n",
       "      <td>7415010.0</td>\n",
       "    </tr>\n",
       "    <tr>\n",
       "      <th>洪山区</th>\n",
       "      <td>893</td>\n",
       "      <td>825</td>\n",
       "      <td>2.382843e+08</td>\n",
       "      <td>9301067.0</td>\n",
       "    </tr>\n",
       "    <tr>\n",
       "      <th>硚口区</th>\n",
       "      <td>593</td>\n",
       "      <td>541</td>\n",
       "      <td>1.227307e+08</td>\n",
       "      <td>6834425.0</td>\n",
       "    </tr>\n",
       "    <tr>\n",
       "      <th>经开区</th>\n",
       "      <td>1162</td>\n",
       "      <td>1075</td>\n",
       "      <td>3.621040e+08</td>\n",
       "      <td>16345243.0</td>\n",
       "    </tr>\n",
       "    <tr>\n",
       "      <th>蔡甸区</th>\n",
       "      <td>1131</td>\n",
       "      <td>1098</td>\n",
       "      <td>3.894260e+08</td>\n",
       "      <td>20011849.0</td>\n",
       "    </tr>\n",
       "    <tr>\n",
       "      <th>青山区</th>\n",
       "      <td>1363</td>\n",
       "      <td>1263</td>\n",
       "      <td>4.072978e+08</td>\n",
       "      <td>17168244.0</td>\n",
       "    </tr>\n",
       "    <tr>\n",
       "      <th>黄陂县</th>\n",
       "      <td>1868</td>\n",
       "      <td>1731</td>\n",
       "      <td>1.524169e+09</td>\n",
       "      <td>133798497.0</td>\n",
       "    </tr>\n",
       "  </tbody>\n",
       "</table>\n",
       "</div>"
      ],
      "text/plain": [
       "         小区CGI(*)  eutrancell_cgi  rsrq_sample_count    rsrp_weak\n",
       "归属区县                                                             \n",
       "东湖高新开发区      1966            1780       5.244600e+08   32470762.0\n",
       "东西湖区         1178            1126       3.650442e+08   17941319.0\n",
       "新洲县          1153            1108       1.079078e+09   77914082.0\n",
       "武昌区           847             721       2.273010e+08   12897885.0\n",
       "武汉市            25               4       2.028670e+06      85201.0\n",
       "汉阳区           819             785       2.277684e+08    7604657.0\n",
       "江夏区          1590            1515       6.659757e+08   51413816.0\n",
       "江岸区           899             850       2.234182e+08    9516720.0\n",
       "江汉区           566             508       1.376752e+08    7415010.0\n",
       "洪山区           893             825       2.382843e+08    9301067.0\n",
       "硚口区           593             541       1.227307e+08    6834425.0\n",
       "经开区          1162            1075       3.621040e+08   16345243.0\n",
       "蔡甸区          1131            1098       3.894260e+08   20011849.0\n",
       "青山区          1363            1263       4.072978e+08   17168244.0\n",
       "黄陂县          1868            1731       1.524169e+09  133798497.0"
      ]
     },
     "execution_count": 28,
     "metadata": {},
     "output_type": "execute_result"
    }
   ],
   "source": [
    "ruancai_res"
   ]
  },
  {
   "cell_type": "code",
   "execution_count": 29,
   "metadata": {},
   "outputs": [],
   "source": [
    "jiangnan = gpd.read_file('G:/1-规划/图层/武汉分公司图层20190109/江南/江南.TAB',encoding='gbk')"
   ]
  },
  {
   "cell_type": "code",
   "execution_count": 31,
   "metadata": {
    "scrolled": true
   },
   "outputs": [
    {
     "name": "stderr",
     "output_type": "stream",
     "text": [
      "C:\\ProgramData\\Anaconda3\\lib\\site-packages\\pyproj\\crs\\crs.py:55: FutureWarning: '+init=<authority>:<code>' syntax is deprecated. '<authority>:<code>' is the preferred initialization method. When making the change, be mindful of axis order changes: https://pyproj4.github.io/pyproj/stable/gotchas.html#axis-order-changes-in-proj-6\n",
      "  return _prepare_from_string(\" \".join(pjargs))\n"
     ]
    }
   ],
   "source": [
    "jiangnan1 = jiangnan.to_crs({'init':'epsg:4326'})"
   ]
  },
  {
   "cell_type": "code",
   "execution_count": 36,
   "metadata": {},
   "outputs": [
    {
     "name": "stderr",
     "output_type": "stream",
     "text": [
      "C:\\ProgramData\\Anaconda3\\lib\\site-packages\\numpy\\lib\\function_base.py:2167: RuntimeWarning: invalid value encountered in ? (vectorized)\n",
      "  outputs = ufunc(*inputs)\n"
     ]
    }
   ],
   "source": [
    "jiangnan12 = mytools.gisn.points_coverage_merge(ruancai_use1,\n",
    "    lon='RRU经度',\n",
    "    lat='RRU纬度',\n",
    "    coverage=jiangnan1,\n",
    "    df_merge_coverage_columns=['区县划分'],\n",
    "    merge_only_right_mark='江北',)"
   ]
  },
  {
   "cell_type": "code",
   "execution_count": 37,
   "metadata": {},
   "outputs": [],
   "source": [
    "ruancai_res2 = jiangnan12.groupby('区县划分').agg({'小区CGI(*)':'count','eutrancell_cgi':'count','rsrq_sample_count':'sum','rsrp_weak':'sum'})"
   ]
  },
  {
   "cell_type": "code",
   "execution_count": 38,
   "metadata": {},
   "outputs": [
    {
     "data": {
      "text/html": [
       "<div>\n",
       "<style scoped>\n",
       "    .dataframe tbody tr th:only-of-type {\n",
       "        vertical-align: middle;\n",
       "    }\n",
       "\n",
       "    .dataframe tbody tr th {\n",
       "        vertical-align: top;\n",
       "    }\n",
       "\n",
       "    .dataframe thead th {\n",
       "        text-align: right;\n",
       "    }\n",
       "</style>\n",
       "<table border=\"1\" class=\"dataframe\">\n",
       "  <thead>\n",
       "    <tr style=\"text-align: right;\">\n",
       "      <th></th>\n",
       "      <th>小区CGI(*)</th>\n",
       "      <th>eutrancell_cgi</th>\n",
       "      <th>rsrq_sample_count</th>\n",
       "      <th>rsrp_weak</th>\n",
       "    </tr>\n",
       "    <tr>\n",
       "      <th>区县划分</th>\n",
       "      <th></th>\n",
       "      <th></th>\n",
       "      <th></th>\n",
       "      <th></th>\n",
       "    </tr>\n",
       "  </thead>\n",
       "  <tbody>\n",
       "    <tr>\n",
       "      <th>江北</th>\n",
       "      <td>9440</td>\n",
       "      <td>8874</td>\n",
       "      <td>4.447659e+09</td>\n",
       "      <td>298251639.0</td>\n",
       "    </tr>\n",
       "    <tr>\n",
       "      <th>江南</th>\n",
       "      <td>6613</td>\n",
       "      <td>6056</td>\n",
       "      <td>2.049102e+09</td>\n",
       "      <td>122467138.0</td>\n",
       "    </tr>\n",
       "  </tbody>\n",
       "</table>\n",
       "</div>"
      ],
      "text/plain": [
       "      小区CGI(*)  eutrancell_cgi  rsrq_sample_count    rsrp_weak\n",
       "区县划分                                                          \n",
       "江北        9440            8874       4.447659e+09  298251639.0\n",
       "江南        6613            6056       2.049102e+09  122467138.0"
      ]
     },
     "execution_count": 38,
     "metadata": {},
     "output_type": "execute_result"
    }
   ],
   "source": [
    "ruancai_res2"
   ]
  },
  {
   "cell_type": "code",
   "execution_count": 34,
   "metadata": {},
   "outputs": [
    {
     "data": {
      "text/html": [
       "<div>\n",
       "<style scoped>\n",
       "    .dataframe tbody tr th:only-of-type {\n",
       "        vertical-align: middle;\n",
       "    }\n",
       "\n",
       "    .dataframe tbody tr th {\n",
       "        vertical-align: top;\n",
       "    }\n",
       "\n",
       "    .dataframe thead th {\n",
       "        text-align: right;\n",
       "    }\n",
       "</style>\n",
       "<table border=\"1\" class=\"dataframe\">\n",
       "  <thead>\n",
       "    <tr style=\"text-align: right;\">\n",
       "      <th></th>\n",
       "      <th>区县划分</th>\n",
       "      <th>geometry</th>\n",
       "    </tr>\n",
       "  </thead>\n",
       "  <tbody>\n",
       "    <tr>\n",
       "      <th>0</th>\n",
       "      <td>江南</td>\n",
       "      <td>POLYGON ((114.04456 30.21839, 114.05145 30.220...</td>\n",
       "    </tr>\n",
       "  </tbody>\n",
       "</table>\n",
       "</div>"
      ],
      "text/plain": [
       "  区县划分                                           geometry\n",
       "0   江南  POLYGON ((114.04456 30.21839, 114.05145 30.220..."
      ]
     },
     "execution_count": 34,
     "metadata": {},
     "output_type": "execute_result"
    }
   ],
   "source": [
    "jiangnan1"
   ]
  },
  {
   "cell_type": "code",
   "execution_count": 78,
   "metadata": {},
   "outputs": [],
   "source": [
    "jiangnan12['fgl'] = 1- jiangnan12['rsrp_weak']/jiangnan12['rsrq_sample_count']"
   ]
  },
  {
   "cell_type": "code",
   "execution_count": 79,
   "metadata": {},
   "outputs": [],
   "source": [
    "jiangnan12.loc[jiangnan12['fgl']<0.9,'弱覆盖'] = 1"
   ]
  },
  {
   "cell_type": "code",
   "execution_count": 82,
   "metadata": {},
   "outputs": [],
   "source": [
    "ruancai_res3 = jiangnan12.groupby('归属区县').agg({'弱覆盖':'count'})"
   ]
  },
  {
   "cell_type": "code",
   "execution_count": 83,
   "metadata": {},
   "outputs": [
    {
     "data": {
      "text/html": [
       "<div>\n",
       "<style scoped>\n",
       "    .dataframe tbody tr th:only-of-type {\n",
       "        vertical-align: middle;\n",
       "    }\n",
       "\n",
       "    .dataframe tbody tr th {\n",
       "        vertical-align: top;\n",
       "    }\n",
       "\n",
       "    .dataframe thead th {\n",
       "        text-align: right;\n",
       "    }\n",
       "</style>\n",
       "<table border=\"1\" class=\"dataframe\">\n",
       "  <thead>\n",
       "    <tr style=\"text-align: right;\">\n",
       "      <th></th>\n",
       "      <th>弱覆盖</th>\n",
       "    </tr>\n",
       "    <tr>\n",
       "      <th>归属区县</th>\n",
       "      <th></th>\n",
       "    </tr>\n",
       "  </thead>\n",
       "  <tbody>\n",
       "    <tr>\n",
       "      <th>东湖高新开发区</th>\n",
       "      <td>336</td>\n",
       "    </tr>\n",
       "    <tr>\n",
       "      <th>东西湖区</th>\n",
       "      <td>182</td>\n",
       "    </tr>\n",
       "    <tr>\n",
       "      <th>新洲县</th>\n",
       "      <td>349</td>\n",
       "    </tr>\n",
       "    <tr>\n",
       "      <th>武昌区</th>\n",
       "      <td>113</td>\n",
       "    </tr>\n",
       "    <tr>\n",
       "      <th>武汉市</th>\n",
       "      <td>1</td>\n",
       "    </tr>\n",
       "    <tr>\n",
       "      <th>汉阳区</th>\n",
       "      <td>64</td>\n",
       "    </tr>\n",
       "    <tr>\n",
       "      <th>江夏区</th>\n",
       "      <td>444</td>\n",
       "    </tr>\n",
       "    <tr>\n",
       "      <th>江岸区</th>\n",
       "      <td>103</td>\n",
       "    </tr>\n",
       "    <tr>\n",
       "      <th>江汉区</th>\n",
       "      <td>78</td>\n",
       "    </tr>\n",
       "    <tr>\n",
       "      <th>洪山区</th>\n",
       "      <td>69</td>\n",
       "    </tr>\n",
       "    <tr>\n",
       "      <th>硚口区</th>\n",
       "      <td>93</td>\n",
       "    </tr>\n",
       "    <tr>\n",
       "      <th>经开区</th>\n",
       "      <td>173</td>\n",
       "    </tr>\n",
       "    <tr>\n",
       "      <th>蔡甸区</th>\n",
       "      <td>182</td>\n",
       "    </tr>\n",
       "    <tr>\n",
       "      <th>青山区</th>\n",
       "      <td>150</td>\n",
       "    </tr>\n",
       "    <tr>\n",
       "      <th>黄陂县</th>\n",
       "      <td>616</td>\n",
       "    </tr>\n",
       "  </tbody>\n",
       "</table>\n",
       "</div>"
      ],
      "text/plain": [
       "         弱覆盖\n",
       "归属区县        \n",
       "东湖高新开发区  336\n",
       "东西湖区     182\n",
       "新洲县      349\n",
       "武昌区      113\n",
       "武汉市        1\n",
       "汉阳区       64\n",
       "江夏区      444\n",
       "江岸区      103\n",
       "江汉区       78\n",
       "洪山区       69\n",
       "硚口区       93\n",
       "经开区      173\n",
       "蔡甸区      182\n",
       "青山区      150\n",
       "黄陂县      616"
      ]
     },
     "execution_count": 83,
     "metadata": {},
     "output_type": "execute_result"
    }
   ],
   "source": [
    "ruancai_res3"
   ]
  },
  {
   "cell_type": "code",
   "execution_count": 81,
   "metadata": {},
   "outputs": [
    {
     "data": {
      "text/html": [
       "<div>\n",
       "<style scoped>\n",
       "    .dataframe tbody tr th:only-of-type {\n",
       "        vertical-align: middle;\n",
       "    }\n",
       "\n",
       "    .dataframe tbody tr th {\n",
       "        vertical-align: top;\n",
       "    }\n",
       "\n",
       "    .dataframe thead th {\n",
       "        text-align: right;\n",
       "    }\n",
       "</style>\n",
       "<table border=\"1\" class=\"dataframe\">\n",
       "  <thead>\n",
       "    <tr style=\"text-align: right;\">\n",
       "      <th></th>\n",
       "      <th>弱覆盖</th>\n",
       "    </tr>\n",
       "    <tr>\n",
       "      <th>区县划分</th>\n",
       "      <th></th>\n",
       "    </tr>\n",
       "  </thead>\n",
       "  <tbody>\n",
       "    <tr>\n",
       "      <th>江北</th>\n",
       "      <td>1844</td>\n",
       "    </tr>\n",
       "    <tr>\n",
       "      <th>江南</th>\n",
       "      <td>1109</td>\n",
       "    </tr>\n",
       "  </tbody>\n",
       "</table>\n",
       "</div>"
      ],
      "text/plain": [
       "       弱覆盖\n",
       "区县划分      \n",
       "江北    1844\n",
       "江南    1109"
      ]
     },
     "execution_count": 81,
     "metadata": {},
     "output_type": "execute_result"
    }
   ],
   "source": [
    "ruancai_res3"
   ]
  },
  {
   "cell_type": "code",
   "execution_count": null,
   "metadata": {},
   "outputs": [],
   "source": []
  },
  {
   "cell_type": "code",
   "execution_count": null,
   "metadata": {},
   "outputs": [],
   "source": []
  },
  {
   "cell_type": "markdown",
   "metadata": {},
   "source": [
    "# 栅格数据"
   ]
  },
  {
   "cell_type": "code",
   "execution_count": 39,
   "metadata": {},
   "outputs": [],
   "source": [
    "grid = pd.read_csv('G:/1-规划/评估/FDD900评估/3-输出/20200402统计3月数据输出/数据/栅格/zm0329all/zm0329all.csv',encoding='utf-8',sep='\\t')"
   ]
  },
  {
   "cell_type": "code",
   "execution_count": 40,
   "metadata": {},
   "outputs": [
    {
     "data": {
      "text/plain": [
       "(1464178, 8)"
      ]
     },
     "execution_count": 40,
     "metadata": {},
     "output_type": "execute_result"
    }
   ],
   "source": [
    "grid.shape"
   ]
  },
  {
   "cell_type": "code",
   "execution_count": 41,
   "metadata": {},
   "outputs": [
    {
     "data": {
      "text/html": [
       "<div>\n",
       "<style scoped>\n",
       "    .dataframe tbody tr th:only-of-type {\n",
       "        vertical-align: middle;\n",
       "    }\n",
       "\n",
       "    .dataframe tbody tr th {\n",
       "        vertical-align: top;\n",
       "    }\n",
       "\n",
       "    .dataframe thead th {\n",
       "        text-align: right;\n",
       "    }\n",
       "</style>\n",
       "<table border=\"1\" class=\"dataframe\">\n",
       "  <thead>\n",
       "    <tr style=\"text-align: right;\">\n",
       "      <th></th>\n",
       "      <th>day</th>\n",
       "      <th>eutrancell_name</th>\n",
       "      <th>grid_id_100</th>\n",
       "      <th>_c3</th>\n",
       "      <th>_c4</th>\n",
       "      <th>_c5</th>\n",
       "      <th>_c6</th>\n",
       "      <th>_c7</th>\n",
       "    </tr>\n",
       "  </thead>\n",
       "  <tbody>\n",
       "    <tr>\n",
       "      <th>0</th>\n",
       "      <td>20200329</td>\n",
       "      <td>471大学生公寓-1</td>\n",
       "      <td>50RKU-559-852-100</td>\n",
       "      <td>114.455221</td>\n",
       "      <td>30.574903</td>\n",
       "      <td>-94.0</td>\n",
       "      <td>4</td>\n",
       "      <td>0</td>\n",
       "    </tr>\n",
       "  </tbody>\n",
       "</table>\n",
       "</div>"
      ],
      "text/plain": [
       "        day eutrancell_name        grid_id_100         _c3        _c4   _c5  \\\n",
       "0  20200329      471大学生公寓-1  50RKU-559-852-100  114.455221  30.574903 -94.0   \n",
       "\n",
       "   _c6  _c7  \n",
       "0    4    0  "
      ]
     },
     "execution_count": 41,
     "metadata": {},
     "output_type": "execute_result"
    }
   ],
   "source": [
    "grid.head(1)"
   ]
  },
  {
   "cell_type": "code",
   "execution_count": 42,
   "metadata": {},
   "outputs": [],
   "source": [
    "tu = gpd.read_file('G:/1-规划/图层/全省区域规划图层20200110/全省区域规划图层20200110.TAB',encoding='gbk')"
   ]
  },
  {
   "cell_type": "code",
   "execution_count": 43,
   "metadata": {},
   "outputs": [],
   "source": [
    "city_tu = gpd.read_file('G:/1-规划/图层/湖北省地市-边界-边界/全省地市边界.TAB',encoding='gbk')"
   ]
  },
  {
   "cell_type": "code",
   "execution_count": 44,
   "metadata": {},
   "outputs": [],
   "source": [
    "city_tu_wuhan = city_tu.loc[city_tu['kkk']=='武汉市']"
   ]
  },
  {
   "cell_type": "code",
   "execution_count": 45,
   "metadata": {},
   "outputs": [],
   "source": [
    "grid_points = mytools.gisn.add_points(grid,'_c3','_c4')"
   ]
  },
  {
   "cell_type": "code",
   "execution_count": 46,
   "metadata": {},
   "outputs": [
    {
     "name": "stderr",
     "output_type": "stream",
     "text": [
      "C:\\ProgramData\\Anaconda3\\lib\\site-packages\\pyproj\\crs\\crs.py:55: FutureWarning: '+init=<authority>:<code>' syntax is deprecated. '<authority>:<code>' is the preferred initialization method. When making the change, be mindful of axis order changes: https://pyproj4.github.io/pyproj/stable/gotchas.html#axis-order-changes-in-proj-6\n",
      "  return _prepare_from_string(\" \".join(pjargs))\n"
     ]
    }
   ],
   "source": [
    "city_tu_wuhan1 = city_tu_wuhan.to_crs({'init': 'epsg:4326'})"
   ]
  },
  {
   "cell_type": "code",
   "execution_count": 47,
   "metadata": {},
   "outputs": [],
   "source": [
    "grid_wuhan = gpd.sjoin(grid_points,city_tu_wuhan1)"
   ]
  },
  {
   "cell_type": "code",
   "execution_count": 48,
   "metadata": {},
   "outputs": [
    {
     "data": {
      "text/html": [
       "<div>\n",
       "<style scoped>\n",
       "    .dataframe tbody tr th:only-of-type {\n",
       "        vertical-align: middle;\n",
       "    }\n",
       "\n",
       "    .dataframe tbody tr th {\n",
       "        vertical-align: top;\n",
       "    }\n",
       "\n",
       "    .dataframe thead th {\n",
       "        text-align: right;\n",
       "    }\n",
       "</style>\n",
       "<table border=\"1\" class=\"dataframe\">\n",
       "  <thead>\n",
       "    <tr style=\"text-align: right;\">\n",
       "      <th></th>\n",
       "      <th>day</th>\n",
       "      <th>eutrancell_name</th>\n",
       "      <th>grid_id_100</th>\n",
       "      <th>_c3</th>\n",
       "      <th>_c4</th>\n",
       "      <th>_c5</th>\n",
       "      <th>_c6</th>\n",
       "      <th>_c7</th>\n",
       "      <th>geometry</th>\n",
       "      <th>index_right</th>\n",
       "      <th>kkk</th>\n",
       "      <th>mianji</th>\n",
       "    </tr>\n",
       "  </thead>\n",
       "  <tbody>\n",
       "    <tr>\n",
       "      <th>0</th>\n",
       "      <td>20200329</td>\n",
       "      <td>471大学生公寓-1</td>\n",
       "      <td>50RKU-559-852-100</td>\n",
       "      <td>114.455221</td>\n",
       "      <td>30.574903</td>\n",
       "      <td>-94.0</td>\n",
       "      <td>4</td>\n",
       "      <td>0</td>\n",
       "      <td>POINT (114.45522 30.57490)</td>\n",
       "      <td>3</td>\n",
       "      <td>武汉市</td>\n",
       "      <td>8580.82</td>\n",
       "    </tr>\n",
       "  </tbody>\n",
       "</table>\n",
       "</div>"
      ],
      "text/plain": [
       "        day eutrancell_name        grid_id_100         _c3        _c4   _c5  \\\n",
       "0  20200329      471大学生公寓-1  50RKU-559-852-100  114.455221  30.574903 -94.0   \n",
       "\n",
       "   _c6  _c7                    geometry  index_right  kkk   mianji  \n",
       "0    4    0  POINT (114.45522 30.57490)            3  武汉市  8580.82  "
      ]
     },
     "execution_count": 48,
     "metadata": {},
     "output_type": "execute_result"
    }
   ],
   "source": [
    "grid_wuhan.head(1)"
   ]
  },
  {
   "cell_type": "code",
   "execution_count": 50,
   "metadata": {},
   "outputs": [],
   "source": [
    "quxian = gpd.read_file('G:/1-规划/图层/武汉新-县城图层/县界.TAB',encoding='gbk')"
   ]
  },
  {
   "cell_type": "code",
   "execution_count": 55,
   "metadata": {},
   "outputs": [],
   "source": [
    "grid_wuhan = grid_wuhan.drop(columns='index_right')"
   ]
  },
  {
   "cell_type": "code",
   "execution_count": 56,
   "metadata": {},
   "outputs": [],
   "source": [
    "grid_wuhan1 = mytools.gisn.points_coverage_merge(grid_wuhan,\n",
    "    lon='_c3',\n",
    "    lat='_c4',\n",
    "    coverage=quxian,\n",
    "    df_merge_coverage_columns=['NAME'],\n",
    "    merge_only_right_mark='wu',)"
   ]
  },
  {
   "cell_type": "code",
   "execution_count": 60,
   "metadata": {},
   "outputs": [],
   "source": [
    "grid_wuhan2 = mytools.gisn.points_coverage_merge(grid_wuhan1,\n",
    "    lon='_c3',\n",
    "    lat='_c4',\n",
    "    coverage=tu)"
   ]
  },
  {
   "cell_type": "code",
   "execution_count": 61,
   "metadata": {},
   "outputs": [
    {
     "data": {
      "text/html": [
       "<div>\n",
       "<style scoped>\n",
       "    .dataframe tbody tr th:only-of-type {\n",
       "        vertical-align: middle;\n",
       "    }\n",
       "\n",
       "    .dataframe tbody tr th {\n",
       "        vertical-align: top;\n",
       "    }\n",
       "\n",
       "    .dataframe thead th {\n",
       "        text-align: right;\n",
       "    }\n",
       "</style>\n",
       "<table border=\"1\" class=\"dataframe\">\n",
       "  <thead>\n",
       "    <tr style=\"text-align: right;\">\n",
       "      <th></th>\n",
       "      <th>day</th>\n",
       "      <th>eutrancell_name</th>\n",
       "      <th>grid_id_100</th>\n",
       "      <th>_c3</th>\n",
       "      <th>_c4</th>\n",
       "      <th>_c5</th>\n",
       "      <th>_c6</th>\n",
       "      <th>_c7</th>\n",
       "      <th>geometry</th>\n",
       "      <th>kkk</th>\n",
       "      <th>mianji</th>\n",
       "      <th>NAME</th>\n",
       "      <th>区域类型</th>\n",
       "    </tr>\n",
       "  </thead>\n",
       "  <tbody>\n",
       "    <tr>\n",
       "      <th>0</th>\n",
       "      <td>20200329</td>\n",
       "      <td>471大学生公寓-1</td>\n",
       "      <td>50RKU-559-852-100</td>\n",
       "      <td>114.455221</td>\n",
       "      <td>30.574903</td>\n",
       "      <td>-94.0</td>\n",
       "      <td>4</td>\n",
       "      <td>0</td>\n",
       "      <td>POINT (114.45522 30.57490)</td>\n",
       "      <td>武汉市</td>\n",
       "      <td>8580.82</td>\n",
       "      <td>青山</td>\n",
       "      <td>农村</td>\n",
       "    </tr>\n",
       "  </tbody>\n",
       "</table>\n",
       "</div>"
      ],
      "text/plain": [
       "        day eutrancell_name        grid_id_100         _c3        _c4   _c5  \\\n",
       "0  20200329      471大学生公寓-1  50RKU-559-852-100  114.455221  30.574903 -94.0   \n",
       "\n",
       "   _c6  _c7                    geometry  kkk   mianji NAME 区域类型  \n",
       "0    4    0  POINT (114.45522 30.57490)  武汉市  8580.82   青山   农村  "
      ]
     },
     "execution_count": 61,
     "metadata": {},
     "output_type": "execute_result"
    }
   ],
   "source": [
    "grid_wuhan2.head(1)"
   ]
  },
  {
   "cell_type": "code",
   "execution_count": 62,
   "metadata": {},
   "outputs": [],
   "source": [
    "grid_use_wuhan = mytools.gisn.points_coverage_merge(grid_wuhan2,\n",
    "    lon='_c3',\n",
    "    lat='_c4',\n",
    "    coverage=jiangnan1,\n",
    "    df_merge_coverage_columns=['区县划分'],\n",
    "    merge_only_right_mark='江北',)"
   ]
  },
  {
   "cell_type": "code",
   "execution_count": 64,
   "metadata": {},
   "outputs": [
    {
     "data": {
      "text/html": [
       "<div>\n",
       "<style scoped>\n",
       "    .dataframe tbody tr th:only-of-type {\n",
       "        vertical-align: middle;\n",
       "    }\n",
       "\n",
       "    .dataframe tbody tr th {\n",
       "        vertical-align: top;\n",
       "    }\n",
       "\n",
       "    .dataframe thead th {\n",
       "        text-align: right;\n",
       "    }\n",
       "</style>\n",
       "<table border=\"1\" class=\"dataframe\">\n",
       "  <thead>\n",
       "    <tr style=\"text-align: right;\">\n",
       "      <th></th>\n",
       "      <th>day</th>\n",
       "      <th>eutrancell_name</th>\n",
       "      <th>grid_id_100</th>\n",
       "      <th>_c3</th>\n",
       "      <th>_c4</th>\n",
       "      <th>_c5</th>\n",
       "      <th>_c6</th>\n",
       "      <th>_c7</th>\n",
       "      <th>geometry</th>\n",
       "      <th>kkk</th>\n",
       "      <th>mianji</th>\n",
       "      <th>NAME</th>\n",
       "      <th>区域类型</th>\n",
       "      <th>区县划分</th>\n",
       "    </tr>\n",
       "  </thead>\n",
       "  <tbody>\n",
       "    <tr>\n",
       "      <th>0</th>\n",
       "      <td>20200329</td>\n",
       "      <td>471大学生公寓-1</td>\n",
       "      <td>50RKU-559-852-100</td>\n",
       "      <td>114.455221</td>\n",
       "      <td>30.574903</td>\n",
       "      <td>-94.0</td>\n",
       "      <td>4</td>\n",
       "      <td>0</td>\n",
       "      <td>POINT (114.45522 30.57490)</td>\n",
       "      <td>武汉市</td>\n",
       "      <td>8580.82</td>\n",
       "      <td>青山</td>\n",
       "      <td>农村</td>\n",
       "      <td>江南</td>\n",
       "    </tr>\n",
       "  </tbody>\n",
       "</table>\n",
       "</div>"
      ],
      "text/plain": [
       "        day eutrancell_name        grid_id_100         _c3        _c4   _c5  \\\n",
       "0  20200329      471大学生公寓-1  50RKU-559-852-100  114.455221  30.574903 -94.0   \n",
       "\n",
       "   _c6  _c7                    geometry  kkk   mianji NAME 区域类型 区县划分  \n",
       "0    4    0  POINT (114.45522 30.57490)  武汉市  8580.82   青山   农村   江南  "
      ]
     },
     "execution_count": 64,
     "metadata": {},
     "output_type": "execute_result"
    }
   ],
   "source": [
    "grid_use_wuhan.head(1)"
   ]
  },
  {
   "cell_type": "code",
   "execution_count": 69,
   "metadata": {},
   "outputs": [],
   "source": [
    "grid_use_wuhan = grid_use_wuhan.sort_values('_c6',ascending=False)"
   ]
  },
  {
   "cell_type": "code",
   "execution_count": 70,
   "metadata": {},
   "outputs": [],
   "source": [
    "grid_use_wuhan_1 = grid_use_wuhan.drop_duplicates('grid_id_100')"
   ]
  },
  {
   "cell_type": "code",
   "execution_count": 73,
   "metadata": {},
   "outputs": [],
   "source": [
    "res = grid_use_wuhan_1.groupby('区域类型').agg({'grid_id_100':'count'})"
   ]
  },
  {
   "cell_type": "code",
   "execution_count": 74,
   "metadata": {},
   "outputs": [
    {
     "data": {
      "text/html": [
       "<div>\n",
       "<style scoped>\n",
       "    .dataframe tbody tr th:only-of-type {\n",
       "        vertical-align: middle;\n",
       "    }\n",
       "\n",
       "    .dataframe tbody tr th {\n",
       "        vertical-align: top;\n",
       "    }\n",
       "\n",
       "    .dataframe thead th {\n",
       "        text-align: right;\n",
       "    }\n",
       "</style>\n",
       "<table border=\"1\" class=\"dataframe\">\n",
       "  <thead>\n",
       "    <tr style=\"text-align: right;\">\n",
       "      <th></th>\n",
       "      <th>grid_id_100</th>\n",
       "    </tr>\n",
       "    <tr>\n",
       "      <th>区域类型</th>\n",
       "      <th></th>\n",
       "    </tr>\n",
       "  </thead>\n",
       "  <tbody>\n",
       "    <tr>\n",
       "      <th>3A景区</th>\n",
       "      <td>243</td>\n",
       "    </tr>\n",
       "    <tr>\n",
       "      <th>4A景区</th>\n",
       "      <td>720</td>\n",
       "    </tr>\n",
       "    <tr>\n",
       "      <th>5A景区</th>\n",
       "      <td>574</td>\n",
       "    </tr>\n",
       "    <tr>\n",
       "      <th>一般城区</th>\n",
       "      <td>47794</td>\n",
       "    </tr>\n",
       "    <tr>\n",
       "      <th>主城区</th>\n",
       "      <td>26312</td>\n",
       "    </tr>\n",
       "    <tr>\n",
       "      <th>乡镇</th>\n",
       "      <td>7627</td>\n",
       "    </tr>\n",
       "    <tr>\n",
       "      <th>农村</th>\n",
       "      <td>309029</td>\n",
       "    </tr>\n",
       "    <tr>\n",
       "      <th>县城</th>\n",
       "      <td>8286</td>\n",
       "    </tr>\n",
       "    <tr>\n",
       "      <th>景区</th>\n",
       "      <td>246</td>\n",
       "    </tr>\n",
       "    <tr>\n",
       "      <th>热点</th>\n",
       "      <td>5347</td>\n",
       "    </tr>\n",
       "  </tbody>\n",
       "</table>\n",
       "</div>"
      ],
      "text/plain": [
       "      grid_id_100\n",
       "区域类型             \n",
       "3A景区          243\n",
       "4A景区          720\n",
       "5A景区          574\n",
       "一般城区        47794\n",
       "主城区         26312\n",
       "乡镇           7627\n",
       "农村         309029\n",
       "县城           8286\n",
       "景区            246\n",
       "热点           5347"
      ]
     },
     "execution_count": 74,
     "metadata": {},
     "output_type": "execute_result"
    }
   ],
   "source": [
    "res"
   ]
  },
  {
   "cell_type": "code",
   "execution_count": 75,
   "metadata": {},
   "outputs": [],
   "source": [
    "res1 = grid_use_wuhan_1.groupby('区县划分').agg({'grid_id_100':'count'})"
   ]
  },
  {
   "cell_type": "code",
   "execution_count": 76,
   "metadata": {},
   "outputs": [
    {
     "data": {
      "text/html": [
       "<div>\n",
       "<style scoped>\n",
       "    .dataframe tbody tr th:only-of-type {\n",
       "        vertical-align: middle;\n",
       "    }\n",
       "\n",
       "    .dataframe tbody tr th {\n",
       "        vertical-align: top;\n",
       "    }\n",
       "\n",
       "    .dataframe thead th {\n",
       "        text-align: right;\n",
       "    }\n",
       "</style>\n",
       "<table border=\"1\" class=\"dataframe\">\n",
       "  <thead>\n",
       "    <tr style=\"text-align: right;\">\n",
       "      <th></th>\n",
       "      <th>grid_id_100</th>\n",
       "    </tr>\n",
       "    <tr>\n",
       "      <th>区县划分</th>\n",
       "      <th></th>\n",
       "    </tr>\n",
       "  </thead>\n",
       "  <tbody>\n",
       "    <tr>\n",
       "      <th>江北</th>\n",
       "      <td>294547</td>\n",
       "    </tr>\n",
       "    <tr>\n",
       "      <th>江南</th>\n",
       "      <td>111631</td>\n",
       "    </tr>\n",
       "  </tbody>\n",
       "</table>\n",
       "</div>"
      ],
      "text/plain": [
       "      grid_id_100\n",
       "区县划分             \n",
       "江北         294547\n",
       "江南         111631"
      ]
     },
     "execution_count": 76,
     "metadata": {},
     "output_type": "execute_result"
    }
   ],
   "source": [
    "res1"
   ]
  },
  {
   "cell_type": "code",
   "execution_count": 85,
   "metadata": {},
   "outputs": [
    {
     "name": "stderr",
     "output_type": "stream",
     "text": [
      "C:\\ProgramData\\Anaconda3\\lib\\site-packages\\ipykernel_launcher.py:1: SettingWithCopyWarning: \n",
      "A value is trying to be set on a copy of a slice from a DataFrame.\n",
      "Try using .loc[row_indexer,col_indexer] = value instead\n",
      "\n",
      "See the caveats in the documentation: http://pandas.pydata.org/pandas-docs/stable/indexing.html#indexing-view-versus-copy\n",
      "  \"\"\"Entry point for launching an IPython kernel.\n"
     ]
    }
   ],
   "source": [
    "grid_use_wuhan_1['fgl'] = 1- grid_use_wuhan_1['_c7']/grid_use_wuhan_1['_c6']"
   ]
  },
  {
   "cell_type": "code",
   "execution_count": 87,
   "metadata": {},
   "outputs": [
    {
     "name": "stderr",
     "output_type": "stream",
     "text": [
      "C:\\ProgramData\\Anaconda3\\lib\\site-packages\\pandas\\core\\indexing.py:362: SettingWithCopyWarning: \n",
      "A value is trying to be set on a copy of a slice from a DataFrame.\n",
      "Try using .loc[row_indexer,col_indexer] = value instead\n",
      "\n",
      "See the caveats in the documentation: http://pandas.pydata.org/pandas-docs/stable/indexing.html#indexing-view-versus-copy\n",
      "  self.obj[key] = _infer_fill_value(value)\n",
      "C:\\ProgramData\\Anaconda3\\lib\\site-packages\\pandas\\core\\indexing.py:543: SettingWithCopyWarning: \n",
      "A value is trying to be set on a copy of a slice from a DataFrame.\n",
      "Try using .loc[row_indexer,col_indexer] = value instead\n",
      "\n",
      "See the caveats in the documentation: http://pandas.pydata.org/pandas-docs/stable/indexing.html#indexing-view-versus-copy\n",
      "  self.obj[item] = s\n"
     ]
    }
   ],
   "source": [
    "grid_use_wuhan_1.loc[grid_use_wuhan_1['fgl']<0.9,'弱覆盖'] = 1"
   ]
  },
  {
   "cell_type": "code",
   "execution_count": 92,
   "metadata": {},
   "outputs": [
    {
     "data": {
      "text/html": [
       "<div>\n",
       "<style scoped>\n",
       "    .dataframe tbody tr th:only-of-type {\n",
       "        vertical-align: middle;\n",
       "    }\n",
       "\n",
       "    .dataframe tbody tr th {\n",
       "        vertical-align: top;\n",
       "    }\n",
       "\n",
       "    .dataframe thead th {\n",
       "        text-align: right;\n",
       "    }\n",
       "</style>\n",
       "<table border=\"1\" class=\"dataframe\">\n",
       "  <thead>\n",
       "    <tr style=\"text-align: right;\">\n",
       "      <th></th>\n",
       "      <th>弱覆盖</th>\n",
       "    </tr>\n",
       "    <tr>\n",
       "      <th>区域类型</th>\n",
       "      <th></th>\n",
       "    </tr>\n",
       "  </thead>\n",
       "  <tbody>\n",
       "    <tr>\n",
       "      <th>3A景区</th>\n",
       "      <td>103</td>\n",
       "    </tr>\n",
       "    <tr>\n",
       "      <th>4A景区</th>\n",
       "      <td>223</td>\n",
       "    </tr>\n",
       "    <tr>\n",
       "      <th>5A景区</th>\n",
       "      <td>305</td>\n",
       "    </tr>\n",
       "    <tr>\n",
       "      <th>一般城区</th>\n",
       "      <td>7355</td>\n",
       "    </tr>\n",
       "    <tr>\n",
       "      <th>主城区</th>\n",
       "      <td>2883</td>\n",
       "    </tr>\n",
       "    <tr>\n",
       "      <th>乡镇</th>\n",
       "      <td>2386</td>\n",
       "    </tr>\n",
       "    <tr>\n",
       "      <th>农村</th>\n",
       "      <td>103857</td>\n",
       "    </tr>\n",
       "    <tr>\n",
       "      <th>县城</th>\n",
       "      <td>1523</td>\n",
       "    </tr>\n",
       "    <tr>\n",
       "      <th>景区</th>\n",
       "      <td>36</td>\n",
       "    </tr>\n",
       "    <tr>\n",
       "      <th>热点</th>\n",
       "      <td>1364</td>\n",
       "    </tr>\n",
       "  </tbody>\n",
       "</table>\n",
       "</div>"
      ],
      "text/plain": [
       "         弱覆盖\n",
       "区域类型        \n",
       "3A景区     103\n",
       "4A景区     223\n",
       "5A景区     305\n",
       "一般城区    7355\n",
       "主城区     2883\n",
       "乡镇      2386\n",
       "农村    103857\n",
       "县城      1523\n",
       "景区        36\n",
       "热点      1364"
      ]
     },
     "execution_count": 92,
     "metadata": {},
     "output_type": "execute_result"
    }
   ],
   "source": [
    "grid_use_wuhan_1.groupby('区域类型').agg({'弱覆盖':'count'})"
   ]
  },
  {
   "cell_type": "code",
   "execution_count": 89,
   "metadata": {},
   "outputs": [
    {
     "data": {
      "text/html": [
       "<div>\n",
       "<style scoped>\n",
       "    .dataframe tbody tr th:only-of-type {\n",
       "        vertical-align: middle;\n",
       "    }\n",
       "\n",
       "    .dataframe tbody tr th {\n",
       "        vertical-align: top;\n",
       "    }\n",
       "\n",
       "    .dataframe thead th {\n",
       "        text-align: right;\n",
       "    }\n",
       "</style>\n",
       "<table border=\"1\" class=\"dataframe\">\n",
       "  <thead>\n",
       "    <tr style=\"text-align: right;\">\n",
       "      <th></th>\n",
       "      <th>day</th>\n",
       "      <th>eutrancell_name</th>\n",
       "      <th>grid_id_100</th>\n",
       "      <th>_c3</th>\n",
       "      <th>_c4</th>\n",
       "      <th>_c5</th>\n",
       "      <th>_c6</th>\n",
       "      <th>_c7</th>\n",
       "      <th>geometry</th>\n",
       "      <th>kkk</th>\n",
       "      <th>mianji</th>\n",
       "      <th>NAME</th>\n",
       "      <th>区域类型</th>\n",
       "      <th>区县划分</th>\n",
       "      <th>fgl</th>\n",
       "      <th>弱覆盖</th>\n",
       "    </tr>\n",
       "  </thead>\n",
       "  <tbody>\n",
       "    <tr>\n",
       "      <th>664810</th>\n",
       "      <td>20200329</td>\n",
       "      <td>江夏通用工业园3-EFH-2</td>\n",
       "      <td>50RKU-285-644-100</td>\n",
       "      <td>114.175214</td>\n",
       "      <td>30.381537</td>\n",
       "      <td>-95.156084</td>\n",
       "      <td>65529</td>\n",
       "      <td>21</td>\n",
       "      <td>POINT (114.17521 30.38154)</td>\n",
       "      <td>武汉市</td>\n",
       "      <td>8580.82</td>\n",
       "      <td>江夏</td>\n",
       "      <td>一般城区</td>\n",
       "      <td>江南</td>\n",
       "      <td>0.99968</td>\n",
       "      <td>NaN</td>\n",
       "    </tr>\n",
       "  </tbody>\n",
       "</table>\n",
       "</div>"
      ],
      "text/plain": [
       "             day eutrancell_name        grid_id_100         _c3        _c4  \\\n",
       "664810  20200329  江夏通用工业园3-EFH-2  50RKU-285-644-100  114.175214  30.381537   \n",
       "\n",
       "              _c5    _c6  _c7                    geometry  kkk   mianji NAME  \\\n",
       "664810 -95.156084  65529   21  POINT (114.17521 30.38154)  武汉市  8580.82   江夏   \n",
       "\n",
       "        区域类型 区县划分      fgl  弱覆盖  \n",
       "664810  一般城区   江南  0.99968  NaN  "
      ]
     },
     "execution_count": 89,
     "metadata": {},
     "output_type": "execute_result"
    }
   ],
   "source": [
    "grid_use_wuhan_1.head(1)"
   ]
  },
  {
   "cell_type": "code",
   "execution_count": 95,
   "metadata": {},
   "outputs": [],
   "source": [
    "from shapely.geometry import Polygon\n",
    "from geographiclib.geodesic import Geodesic"
   ]
  },
  {
   "cell_type": "code",
   "execution_count": 96,
   "metadata": {},
   "outputs": [],
   "source": [
    "def __fwjuli(lonlat=['lon','lat'],juli = 70):\n",
    "    lon,lat = lonlat\n",
    "    list_lonlat = []\n",
    "    p_1=Geodesic.WGS84.Direct(lat, lon, 45, juli)\n",
    "    p_2=Geodesic.WGS84.Direct(lat, lon, 225, juli)\n",
    "    max_lon = p_1['lon2']\n",
    "    max_lat = p_1['lat2']\n",
    "    min_lon = p_2['lon2']\n",
    "    min_lat = p_2['lat2']\n",
    "    tu2 = [(min_lon,min_lat),(max_lon,min_lat),(max_lon,max_lat),(min_lon,max_lat),(min_lon,min_lat)]\n",
    "    tu = Polygon([(min_lon,min_lat),(max_lon,min_lat),(max_lon,max_lat),(min_lon,max_lat),(min_lon,min_lat)])\n",
    "    return tu"
   ]
  },
  {
   "cell_type": "code",
   "execution_count": 97,
   "metadata": {},
   "outputs": [],
   "source": [
    "#生成100米的方框geopandas\n",
    "df = grid_use_wuhan_1.copy()\n",
    "df['geometry'] = [__fwjuli(x) for x in zip(df['_c3'],df['_c4'])]\n",
    "df = gpd.GeoDataFrame(df, crs={\"init\": \"epsg:4326\"}, geometry='geometry')"
   ]
  },
  {
   "cell_type": "code",
   "execution_count": 98,
   "metadata": {},
   "outputs": [
    {
     "data": {
      "text/html": [
       "<div>\n",
       "<style scoped>\n",
       "    .dataframe tbody tr th:only-of-type {\n",
       "        vertical-align: middle;\n",
       "    }\n",
       "\n",
       "    .dataframe tbody tr th {\n",
       "        vertical-align: top;\n",
       "    }\n",
       "\n",
       "    .dataframe thead th {\n",
       "        text-align: right;\n",
       "    }\n",
       "</style>\n",
       "<table border=\"1\" class=\"dataframe\">\n",
       "  <thead>\n",
       "    <tr style=\"text-align: right;\">\n",
       "      <th></th>\n",
       "      <th>day</th>\n",
       "      <th>eutrancell_name</th>\n",
       "      <th>grid_id_100</th>\n",
       "      <th>_c3</th>\n",
       "      <th>_c4</th>\n",
       "      <th>_c5</th>\n",
       "      <th>_c6</th>\n",
       "      <th>_c7</th>\n",
       "      <th>geometry</th>\n",
       "      <th>kkk</th>\n",
       "      <th>mianji</th>\n",
       "      <th>NAME</th>\n",
       "      <th>区域类型</th>\n",
       "      <th>区县划分</th>\n",
       "      <th>fgl</th>\n",
       "      <th>弱覆盖</th>\n",
       "    </tr>\n",
       "  </thead>\n",
       "  <tbody>\n",
       "    <tr>\n",
       "      <th>664810</th>\n",
       "      <td>20200329</td>\n",
       "      <td>江夏通用工业园3-EFH-2</td>\n",
       "      <td>50RKU-285-644-100</td>\n",
       "      <td>114.175214</td>\n",
       "      <td>30.381537</td>\n",
       "      <td>-95.156084</td>\n",
       "      <td>65529</td>\n",
       "      <td>21</td>\n",
       "      <td>POLYGON ((114.17470 30.38109, 114.17573 30.381...</td>\n",
       "      <td>武汉市</td>\n",
       "      <td>8580.82</td>\n",
       "      <td>江夏</td>\n",
       "      <td>一般城区</td>\n",
       "      <td>江南</td>\n",
       "      <td>0.99968</td>\n",
       "      <td>NaN</td>\n",
       "    </tr>\n",
       "  </tbody>\n",
       "</table>\n",
       "</div>"
      ],
      "text/plain": [
       "             day eutrancell_name        grid_id_100         _c3        _c4  \\\n",
       "664810  20200329  江夏通用工业园3-EFH-2  50RKU-285-644-100  114.175214  30.381537   \n",
       "\n",
       "              _c5    _c6  _c7  \\\n",
       "664810 -95.156084  65529   21   \n",
       "\n",
       "                                                 geometry  kkk   mianji NAME  \\\n",
       "664810  POLYGON ((114.17470 30.38109, 114.17573 30.381...  武汉市  8580.82   江夏   \n",
       "\n",
       "        区域类型 区县划分      fgl  弱覆盖  \n",
       "664810  一般城区   江南  0.99968  NaN  "
      ]
     },
     "execution_count": 98,
     "metadata": {},
     "output_type": "execute_result"
    }
   ],
   "source": [
    "df.head(1)"
   ]
  },
  {
   "cell_type": "code",
   "execution_count": 104,
   "metadata": {},
   "outputs": [],
   "source": [
    "df[['grid_id_100','fgl','弱覆盖','geometry']].to_file('d:/栅格图层.tab',driver=\"MapInfo File\",encoding = 'utf-8')"
   ]
  },
  {
   "cell_type": "code",
   "execution_count": 107,
   "metadata": {},
   "outputs": [],
   "source": [
    "df[['grid_id_100','fgl','弱覆盖','geometry']].to_file('d:/栅格图层.geojson',driver=\"GeoJSON\",encoding = 'utf-8')"
   ]
  },
  {
   "cell_type": "code",
   "execution_count": null,
   "metadata": {},
   "outputs": [],
   "source": []
  },
  {
   "cell_type": "code",
   "execution_count": null,
   "metadata": {},
   "outputs": [],
   "source": []
  },
  {
   "cell_type": "code",
   "execution_count": null,
   "metadata": {},
   "outputs": [],
   "source": [
    "from shapely import wkt\n",
    "dfd['geometry'] = dfd['geometry'].apply(wkt.loads)\n",
    "dfd = gpd.GeoDataFrame(dfd, crs={\"init\": \"epsg:4326\"}, geometry='geometry')"
   ]
  },
  {
   "cell_type": "code",
   "execution_count": null,
   "metadata": {},
   "outputs": [],
   "source": []
  },
  {
   "cell_type": "code",
   "execution_count": null,
   "metadata": {},
   "outputs": [],
   "source": []
  },
  {
   "cell_type": "code",
   "execution_count": null,
   "metadata": {},
   "outputs": [],
   "source": []
  }
 ],
 "metadata": {
  "kernelspec": {
   "display_name": "Python 3",
   "language": "python",
   "name": "python3"
  },
  "language_info": {
   "codemirror_mode": {
    "name": "ipython",
    "version": 3
   },
   "file_extension": ".py",
   "mimetype": "text/x-python",
   "name": "python",
   "nbconvert_exporter": "python",
   "pygments_lexer": "ipython3",
   "version": "3.7.3"
  }
 },
 "nbformat": 4,
 "nbformat_minor": 2
}
