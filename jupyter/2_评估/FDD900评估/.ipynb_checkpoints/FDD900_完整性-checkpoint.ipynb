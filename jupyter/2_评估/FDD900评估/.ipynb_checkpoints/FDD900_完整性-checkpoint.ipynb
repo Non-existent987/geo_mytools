{
 "cells": [
  {
   "cell_type": "markdown",
   "metadata": {},
   "source": [
    "# -------------------软采小区完整性评估----------------------\n",
    "###   ：使用亿阳导出的软采小区列表与全网小区数据对比，计算软采采集率"
   ]
  },
  {
   "cell_type": "code",
   "execution_count": 24,
   "metadata": {},
   "outputs": [],
   "source": [
    "import pandas as pd\n",
    "import geopandas as gpd\n",
    "import mytools"
   ]
  },
  {
   "cell_type": "markdown",
   "metadata": {},
   "source": [
    "## 模块1、导入软采数据"
   ]
  },
  {
   "cell_type": "code",
   "execution_count": null,
   "metadata": {},
   "outputs": [],
   "source": [
    "ruancai_cel = pd.read_csv(open('G:/1-规划/评估/软采评估/2019第四季度/软采小区/moncgi.csv',encoding='utf-8'),sep='\\t')"
   ]
  },
  {
   "cell_type": "code",
   "execution_count": null,
   "metadata": {},
   "outputs": [],
   "source": [
    "day,city,cgi,cell_name,rsrp_count,rsrp_weak,un_count,un_weak,te_count,te_weak = [\n",
    "    'a.day', 'a.region_name', 'a.eutrancell_cgi', 'a.eutrancell_name','a.rsrp_sample_count', \n",
    "    'a.rsrp_weak', 'a.un_maxrsrp_sample_count', 'a.un_maxrsrp_weak_l2', 'a.te_maxrsrp_sample_count', 'a.te_maxrsrp_weak_l2']"
   ]
  },
  {
   "cell_type": "code",
   "execution_count": null,
   "metadata": {},
   "outputs": [],
   "source": [
    "ruancai_cel_use  = ruancai_cel[[day,city,cgi,cell_name,rsrp_count,rsrp_weak,un_count,un_weak,te_count,te_weak]]"
   ]
  },
  {
   "cell_type": "markdown",
   "metadata": {},
   "source": [
    "## 模块2、处理数据"
   ]
  },
  {
   "cell_type": "code",
   "execution_count": null,
   "metadata": {},
   "outputs": [],
   "source": [
    "gongcan = pd.read_csv(open('g:/1-规划/工参/工参数据/ltejizhan20200108.csv',encoding='gbk'),usecols=['小区CGI(*)','所属地区'])"
   ]
  },
  {
   "cell_type": "code",
   "execution_count": null,
   "metadata": {},
   "outputs": [],
   "source": [
    "gongcan_cgi,gongcan_city=['小区CGI(*)','所属地区']"
   ]
  },
  {
   "cell_type": "code",
   "execution_count": null,
   "metadata": {},
   "outputs": [],
   "source": [
    "#定义结果的列\n",
    "gongcan_cgi_sum,cgi_sum,un_valid_sum,te_valid_sum,lv_cmcc,lv_un,lv_te=[\n",
    "    '现网小区数量', '软采数量', '联通有效小区', '电信有效小区','软采采集率_本网', '软采小区采集率_联通', '软采小区采集率_电信']"
   ]
  },
  {
   "cell_type": "code",
   "execution_count": null,
   "metadata": {},
   "outputs": [],
   "source": [
    "gongcan_merge = gongcan.merge(ruancai_cel_use,how='left',left_on=gongcan_cgi,right_on=cgi)\n",
    "\n",
    "cmcc_data = gongcan_merge.groupby(gongcan_city).agg({gongcan_cgi:'count',cgi:'count'})\n",
    "un_data = gongcan_merge.loc[gongcan_merge[un_count]>1000].groupby(gongcan_city).agg({gongcan_cgi:'count'})\n",
    "te_data = gongcan_merge.loc[gongcan_merge[te_count]>1000].groupby(gongcan_city).agg({gongcan_cgi:'count'})\n",
    "\n",
    "jingdui_data = un_data.merge(te_data,left_index=True,right_index=True,suffixes=('_un','_te'))\n",
    "data_res = cmcc_data.merge(jingdui_data,left_index=True,right_index=True,suffixes=('_cmcc','_jd'))\n",
    "\n",
    "sum_data = data_res.sum()#添加一行总计\n",
    "sum_data.name='总计'\n",
    "data_res = data_res.append(sum_data)\n",
    "\n",
    "data_res[lv_cmcc] = data_res[cgi]/data_res[gongcan_cgi]\n",
    "data_res[lv_un] = data_res[gongcan_cgi+'_un']/data_res[cgi]\n",
    "data_res[lv_te] = data_res[gongcan_cgi+'_te']/data_res[cgi]\n",
    "\n",
    "data_res.columns = [gongcan_cgi_sum,cgi_sum,un_valid_sum,te_valid_sum,lv_cmcc,lv_un,lv_te]"
   ]
  },
  {
   "cell_type": "markdown",
   "metadata": {},
   "source": [
    "## 模块3、生成结果"
   ]
  },
  {
   "cell_type": "code",
   "execution_count": null,
   "metadata": {},
   "outputs": [],
   "source": [
    "#对应上面的变量，如果连续运行可以注释掉\n",
    "lv_cmcc,lv_un,lv_te = ['软采采集率_本网', '软采小区采集率_联通', '软采小区采集率_电信']"
   ]
  },
  {
   "cell_type": "code",
   "execution_count": null,
   "metadata": {},
   "outputs": [],
   "source": [
    "def sort_data(df,cj='xxx'):\n",
    "    df_head = df.iloc[:-1]\n",
    "    df_head_sort = df_head.sort_values(cj,ascending=False)\n",
    "    df_head_foot = df_head_sort.append(df.iloc[-1])\n",
    "    for xx in [lv_cmcc,lv_un,lv_te]:\n",
    "        df_head_foot[xx] = df_head_foot[xx].apply(lambda x: format(x, '.2%'))#转成百分比\n",
    "    return df_head_foot"
   ]
  },
  {
   "cell_type": "code",
   "execution_count": null,
   "metadata": {},
   "outputs": [],
   "source": [
    "cmcc_res = sort_data(data_res,lv_cmcc)[[gongcan_cgi_sum,cgi_sum,lv_cmcc]].reset_index()\n",
    "un_res = sort_data(data_res,lv_un)[[gongcan_cgi_sum,cgi_sum,lv_cmcc,lv_un]].reset_index()\n",
    "te_res = sort_data(data_res,lv_te)[[gongcan_cgi_sum,cgi_sum,lv_cmcc,lv_te]].reset_index()"
   ]
  },
  {
   "cell_type": "code",
   "execution_count": null,
   "metadata": {
    "scrolled": true
   },
   "outputs": [],
   "source": [
    "cmcc_res.to_csv('G:/1-规划/评估/软采评估/2019第四季度/完整性评估/基础文件储存/软采小区/cmcc_res.csv',encoding='gbk',index=False)\n",
    "un_res.to_csv('G:/1-规划/评估/软采评估/2019第四季度/完整性评估/基础文件储存/软采小区/un_res.csv',encoding='gbk',index=False)\n",
    "te_res.to_csv('G:/1-规划/评估/软采评估/2019第四季度/完整性评估/基础文件储存/软采小区/te_res.csv',encoding='gbk',index=False)"
   ]
  },
  {
   "cell_type": "markdown",
   "metadata": {},
   "source": [
    "# -------------------栅格数据完整性评估----------------------\n",
    "###   ：使用亿阳导出的栅格数据与理论的栅格数据进行对比，计算栅格采集率"
   ]
  },
  {
   "cell_type": "code",
   "execution_count": 1,
   "metadata": {},
   "outputs": [],
   "source": [
    "import pandas as pd\n",
    "import geopandas as gpd\n",
    "import mytools"
   ]
  },
  {
   "cell_type": "markdown",
   "metadata": {},
   "source": [
    "## 模块1、导入栅格数据并与处理"
   ]
  },
  {
   "cell_type": "code",
   "execution_count": 2,
   "metadata": {},
   "outputs": [],
   "source": [
    "path = 'G:/1-规划/评估/FDD900评估/3-输出/20191225第四版更新软采数据/栅格/'"
   ]
  },
  {
   "cell_type": "code",
   "execution_count": 3,
   "metadata": {},
   "outputs": [],
   "source": [
    "f = mytools.othern.file_name_paths(path)"
   ]
  },
  {
   "cell_type": "code",
   "execution_count": 4,
   "metadata": {},
   "outputs": [
    {
     "name": "stderr",
     "output_type": "stream",
     "text": [
      "C:\\ProgramData\\Anaconda3\\lib\\site-packages\\pandas\\core\\frame.py:7123: FutureWarning: Sorting because non-concatenation axis is not aligned. A future version\n",
      "of pandas will change to not sort by default.\n",
      "\n",
      "To accept the future behavior, pass 'sort=False'.\n",
      "\n",
      "To retain the current behavior and silence the warning, pass 'sort=True'.\n",
      "\n",
      "  sort=sort,\n"
     ]
    }
   ],
   "source": [
    "data = pd.DataFrame()\n",
    "for name in f:\n",
    "    data_tt = pd.read_csv(open(name,encoding='utf-8'),nrows=None,sep='\\t')\n",
    "    if '_c2' in list(data_tt.columns):\n",
    "        data_tt = data_tt.rename(columns={'_c6':'_c7','_c5':'_c6','_c4':'_c5','_c3':'_c4','_c2':'_c3'})\n",
    "    data = data.append(data_tt)"
   ]
  },
  {
   "cell_type": "code",
   "execution_count": 5,
   "metadata": {},
   "outputs": [],
   "source": [
    "lon,lat,grid_count,grid_weak,day,cell_name,grid=['_c3', '_c4', '_c6', '_c7', 'day', 'eutrancell_name','grid_id_100']"
   ]
  },
  {
   "cell_type": "code",
   "execution_count": 6,
   "metadata": {},
   "outputs": [],
   "source": [
    "data_use = data[[lon,lat,grid_count,grid_weak,day,cell_name,grid]]"
   ]
  },
  {
   "cell_type": "code",
   "execution_count": 7,
   "metadata": {},
   "outputs": [],
   "source": [
    "data_use_v2 = data_use.sort_values(grid_count,ascending=False).drop_duplicates(grid)"
   ]
  },
  {
   "cell_type": "markdown",
   "metadata": {},
   "source": [
    "## 模块2、整理栅格数据"
   ]
  },
  {
   "cell_type": "code",
   "execution_count": 8,
   "metadata": {},
   "outputs": [],
   "source": [
    "def add_changjing(data,number=100000):\n",
    "    data_t_use_v3 = pd.DataFrame()\n",
    "    for grind_t in mytools.othern.df_yield(data,number=number):\n",
    "        data_t_use_v2 = mytools.gisn.points_coverage_merge(grind_t,lon,lat)\n",
    "        data_t_use_v3 = data_t_use_v3.append(data_t_use_v2)\n",
    "    return data_t_use_v3"
   ]
  },
  {
   "cell_type": "code",
   "execution_count": 9,
   "metadata": {
    "scrolled": false
   },
   "outputs": [
    {
     "name": "stdout",
     "output_type": "stream",
     "text": [
      "共计361210行,完成0到100000行\n",
      "共计361210行,完成100000到200000行\n",
      "共计361210行,完成200000到300000行\n",
      "共计361210行,完成300000到400000行\n"
     ]
    }
   ],
   "source": [
    "grid_changjing = add_changjing(data_use_v2)"
   ]
  },
  {
   "cell_type": "markdown",
   "metadata": {},
   "source": [
    "## 模块3、输出结果数据"
   ]
  },
  {
   "cell_type": "code",
   "execution_count": 13,
   "metadata": {},
   "outputs": [],
   "source": [
    "wh_tu = mytools.gisn.maps('武汉')"
   ]
  },
  {
   "cell_type": "code",
   "execution_count": 17,
   "metadata": {},
   "outputs": [],
   "source": [
    "grid_changjing_city = mytools.gisn.points_coverage_merge(\n",
    "    grid_changjing,lon=lon,lat=lat,\n",
    "    coverage=wh_tu,\n",
    "    df_merge_coverage_columns=['区分公司名称'],\n",
    "    merge_only_right_mark='其它')"
   ]
  },
  {
   "cell_type": "code",
   "execution_count": 19,
   "metadata": {},
   "outputs": [],
   "source": [
    "city = '区分公司名称'"
   ]
  },
  {
   "cell_type": "code",
   "execution_count": 20,
   "metadata": {
    "scrolled": true
   },
   "outputs": [],
   "source": [
    "def data_res(grid_2):\n",
    "    grid_hb = grid_2.groupby(city).agg({grid:'count'}).reset_index()\n",
    "    res_dict = dict()\n",
    "    res_dict['全网'] = grid_hb\n",
    "    for name_changjing in list(set(grid_2['区域类型'])):\n",
    "        res_dict[name_changjing] = grid_2.loc[\n",
    "            grid_2['区域类型']==name_changjing].groupby(city).agg({grid:'count'}).reset_index()\n",
    "    return res_dict"
   ]
  },
  {
   "cell_type": "code",
   "execution_count": 21,
   "metadata": {
    "scrolled": true
   },
   "outputs": [],
   "source": [
    "res_dict = data_res(grid_changjing_city)"
   ]
  },
  {
   "cell_type": "code",
   "execution_count": null,
   "metadata": {
    "scrolled": false
   },
   "outputs": [],
   "source": [
    "res_dict['主城区']"
   ]
  },
  {
   "cell_type": "code",
   "execution_count": null,
   "metadata": {
    "scrolled": false
   },
   "outputs": [],
   "source": [
    "# for name in res_dict:\n",
    "#     res_dict[name].to_csv('{paths_g}{name_cj}.csv'.format(paths_g=grid_paths,name_cj=name),encoding='gbk',index=False)"
   ]
  },
  {
   "cell_type": "markdown",
   "metadata": {},
   "source": [
    "# -------------------生成word报告并导出----------------------\n",
    "###   ：使用以上软采小区评估结果、栅格评估结果输出规定的word报告"
   ]
  },
  {
   "cell_type": "code",
   "execution_count": null,
   "metadata": {},
   "outputs": [],
   "source": [
    "import "
   ]
  },
  {
   "cell_type": "markdown",
   "metadata": {},
   "source": [
    "## 模块1、导入软采和栅格的结果数据"
   ]
  },
  {
   "cell_type": "code",
   "execution_count": null,
   "metadata": {},
   "outputs": [],
   "source": []
  },
  {
   "cell_type": "code",
   "execution_count": null,
   "metadata": {},
   "outputs": [],
   "source": []
  },
  {
   "cell_type": "code",
   "execution_count": null,
   "metadata": {},
   "outputs": [],
   "source": []
  },
  {
   "cell_type": "markdown",
   "metadata": {},
   "source": [
    "# --------------------------------------------------------------------"
   ]
  },
  {
   "cell_type": "markdown",
   "metadata": {},
   "source": [
    "##  第三季度评估-软采小区"
   ]
  },
  {
   "cell_type": "code",
   "execution_count": null,
   "metadata": {},
   "outputs": [],
   "source": [
    "quxian = gpd.read_file('G:/1-规划/图层/武汉新-县城图层/县界.TAB')"
   ]
  },
  {
   "cell_type": "code",
   "execution_count": null,
   "metadata": {},
   "outputs": [],
   "source": [
    "gongcan = pd.read_csv(open('g:/1-规划/工参/工参数据/ltejizhan20191008.csv',encoding = 'gbk'))"
   ]
  },
  {
   "cell_type": "code",
   "execution_count": null,
   "metadata": {},
   "outputs": [],
   "source": [
    "quxian.head(1)"
   ]
  },
  {
   "cell_type": "code",
   "execution_count": null,
   "metadata": {},
   "outputs": [],
   "source": [
    "f = mt.file_name_paths(path=r'G:/1-规划/评估/软采评估/2019第三季度/软采数据/软采小区/原数据/')"
   ]
  },
  {
   "cell_type": "code",
   "execution_count": null,
   "metadata": {
    "scrolled": false
   },
   "outputs": [],
   "source": [
    "data_merge = pd.DataFrame() \n",
    "for name in f:\n",
    "    try:\n",
    "        data_t = pd.read_csv(open(name,encoding = 'utf8'),sep = '\\t')\n",
    "    except:\n",
    "        data_t = pd.read_csv(open(name))\n",
    "    data_merge = data_merge.append(data_t)\n",
    "    print('数据：'+name+'共计',data_t.shape,'数据累加后共计：',data_merge.shape)"
   ]
  },
  {
   "cell_type": "code",
   "execution_count": null,
   "metadata": {},
   "outputs": [],
   "source": [
    "data_merge.shape"
   ]
  },
  {
   "cell_type": "code",
   "execution_count": null,
   "metadata": {
    "scrolled": false
   },
   "outputs": [],
   "source": [
    "data_merge1 = data_merge.fillna(0)"
   ]
  },
  {
   "cell_type": "code",
   "execution_count": null,
   "metadata": {},
   "outputs": [],
   "source": [
    "data_merge1.sort_values(by=\"rsrp_sample_count\",ascending= False,inplace = True)"
   ]
  },
  {
   "cell_type": "code",
   "execution_count": null,
   "metadata": {},
   "outputs": [],
   "source": [
    "data_merge_quchong = data_merge1.drop_duplicates(subset='eutrancell_cgi',keep='first',inplace=False)"
   ]
  },
  {
   "cell_type": "code",
   "execution_count": null,
   "metadata": {},
   "outputs": [],
   "source": [
    "data_merge_quchong.to_sql('三季度软采小区级数据',con = con)"
   ]
  },
  {
   "cell_type": "code",
   "execution_count": null,
   "metadata": {},
   "outputs": [],
   "source": [
    "data_merge_quchong.to_csv('G:\\\\1-规划\\\\评估\\\\软采评估\\\\2019第三季度\\\\软采数据\\\\软采小区\\\\第三季度.csv',encoding = 'gbk',index=False)"
   ]
  },
  {
   "cell_type": "code",
   "execution_count": null,
   "metadata": {},
   "outputs": [],
   "source": [
    "data_ruancai = pd.read_csv(open('G:\\\\1-规划\\\\评估\\\\软采评估\\\\2019第三季度\\\\软采数据\\\\软采小区\\\\第三季度.csv',encoding = 'gbk'))"
   ]
  },
  {
   "cell_type": "markdown",
   "metadata": {},
   "source": [
    "#### 添加经纬度 "
   ]
  },
  {
   "cell_type": "code",
   "execution_count": null,
   "metadata": {},
   "outputs": [],
   "source": [
    "data_ruancai['lon'] = 0\n",
    "data_ruancai['lat'] = 0"
   ]
  },
  {
   "cell_type": "code",
   "execution_count": null,
   "metadata": {},
   "outputs": [],
   "source": [
    "data_ruancai_cgi = data_ruancai.set_index('eutrancell_cgi')"
   ]
  },
  {
   "cell_type": "code",
   "execution_count": null,
   "metadata": {},
   "outputs": [],
   "source": [
    "gongcan1 =  gongcan[['小区CGI(*)', 'RRU经度', 'RRU纬度']]"
   ]
  },
  {
   "cell_type": "code",
   "execution_count": null,
   "metadata": {},
   "outputs": [],
   "source": [
    "gongcan1.set_index('小区CGI(*)',inplace=True)"
   ]
  },
  {
   "cell_type": "code",
   "execution_count": null,
   "metadata": {},
   "outputs": [],
   "source": [
    "data_ruancai_cgi['lon'].update(gongcan1['RRU经度'])\n",
    "data_ruancai_cgi['lat'].update(gongcan1['RRU纬度'])"
   ]
  },
  {
   "cell_type": "markdown",
   "metadata": {},
   "source": [
    "#### 添加区县"
   ]
  },
  {
   "cell_type": "code",
   "execution_count": null,
   "metadata": {},
   "outputs": [],
   "source": [
    "data_x_pot = nt.add_points(data_ruancai_cgi,coords=['lon', 'lat', '', ''])"
   ]
  },
  {
   "cell_type": "code",
   "execution_count": null,
   "metadata": {},
   "outputs": [],
   "source": [
    "data_res = gpd.sjoin(quxian,data_x_pot)"
   ]
  },
  {
   "cell_type": "code",
   "execution_count": null,
   "metadata": {},
   "outputs": [],
   "source": [
    "data_res1 =  data_res[[  'day',\n",
    "       'eutrancell_name', 'index_right', 'inter_maxrsrp_weak', 'region_name',\n",
    "       'rsrp_sample_count', 'rsrp_sum', 'rsrp_weak', 'te_maxrsrp_sample_count',\n",
    "       'te_maxrsrp_sum', 'te_maxrsrp_weak', 'te_maxrsrp_weak_l2',\n",
    "       'un_maxrsrp_sample_count', 'un_maxrsrp_sum', 'un_maxrsrp_weak',\n",
    "       'un_maxrsrp_weak_l2', 'NAME', 'lon', 'lat']]"
   ]
  },
  {
   "cell_type": "code",
   "execution_count": null,
   "metadata": {},
   "outputs": [],
   "source": [
    "data_res1.columns=['day', 'eutrancell_name', 'eutrancell_cgi', 'inter_maxrsrp_weak',\n",
    "       'region_name', 'rsrp_sample_count', 'rsrp_sum', 'rsrp_weak',\n",
    "       'te_maxrsrp_sample_count', 'te_maxrsrp_sum', 'te_maxrsrp_weak',\n",
    "       'te_maxrsrp_weak_l2', 'un_maxrsrp_sample_count', 'un_maxrsrp_sum',\n",
    "       'un_maxrsrp_weak', 'un_maxrsrp_weak_l2', '区县', 'lon', 'lat']"
   ]
  },
  {
   "cell_type": "code",
   "execution_count": null,
   "metadata": {},
   "outputs": [],
   "source": [
    "data_res1.to_csv('G:\\\\1-规划\\\\评估\\\\软采评估\\\\2019第三季度\\\\软采数据\\\\软采小区\\\\第三季度添加区县.csv',encoding = 'gbk',index=False)"
   ]
  },
  {
   "cell_type": "code",
   "execution_count": null,
   "metadata": {},
   "outputs": [],
   "source": [
    "data_res1= pd.read_csv(open('G:\\\\1-规划\\\\评估\\\\软采评估\\\\2019第三季度\\\\软采数据\\\\软采小区\\\\第三季度添加区县.csv',encoding = 'gbk'))"
   ]
  },
  {
   "cell_type": "markdown",
   "metadata": {},
   "source": [
    "#### 添加hd、弱覆盖、总问题小区"
   ]
  },
  {
   "cell_type": "code",
   "execution_count": null,
   "metadata": {},
   "outputs": [],
   "source": [
    "data_res1['hd']=0"
   ]
  },
  {
   "cell_type": "code",
   "execution_count": null,
   "metadata": {},
   "outputs": [],
   "source": [
    "data_res1['有效小区']=0"
   ]
  },
  {
   "cell_type": "code",
   "execution_count": null,
   "metadata": {},
   "outputs": [],
   "source": [
    "data_res1['弱覆盖']=0"
   ]
  },
  {
   "cell_type": "code",
   "execution_count": null,
   "metadata": {
    "scrolled": false
   },
   "outputs": [],
   "source": [
    "data_res1['总问题小区']=0"
   ]
  },
  {
   "cell_type": "code",
   "execution_count": null,
   "metadata": {
    "scrolled": false
   },
   "outputs": [],
   "source": [
    "#黑点打标\n",
    "def hd(data,'','','')\n",
    "data_res1.loc[(((1-data_res1['rsrp_weak']/data_res1['rsrp_sample_count']<0.8)\n",
    "                  &(1-data_res1['un_maxrsrp_weak_l2']/data_res1['un_maxrsrp_sample_count']>0.8))\n",
    "            |\n",
    "                 ((1-data_res1['rsrp_weak']/data_res1['rsrp_sample_count']<0.8)\n",
    "                  &(1-data_res1['te_maxrsrp_weak_l2']/data_res1['te_maxrsrp_sample_count']>0.8)))\n",
    "            |\n",
    "              (((1-data_res1['rsrp_weak']/data_res1['rsrp_sample_count']>0.8)\n",
    "                  &(((1-data_res1['un_maxrsrp_weak_l2']/data_res1['un_maxrsrp_sample_count'])-(1-data_res1['rsrp_weak']/data_res1['rsrp_sample_count']))>0.05))\n",
    "            |\n",
    "              ((1-data_res1['rsrp_weak']/data_res1['rsrp_sample_count']>0.8)\n",
    "                  &(((1-data_res1['te_maxrsrp_weak_l2']/data_res1['te_maxrsrp_sample_count'])-(1-data_res1['rsrp_weak']/data_res1['rsrp_sample_count']))>0.05))\n",
    "              ),'hd'\n",
    "              \n",
    "             ]=1"
   ]
  },
  {
   "cell_type": "code",
   "execution_count": null,
   "metadata": {},
   "outputs": [],
   "source": [
    "#弱覆盖打标\n",
    "data_res1.loc[1-data_res1['rsrp_weak']/data_res1['rsrp_sample_count']<0.9,'弱覆盖']=1"
   ]
  },
  {
   "cell_type": "code",
   "execution_count": null,
   "metadata": {},
   "outputs": [],
   "source": [
    "#总问题点打标\n",
    "data_res1.loc[(data_res1['hd']==1)|(data_res1['弱覆盖']==1),'总问题小区']=1"
   ]
  },
  {
   "cell_type": "code",
   "execution_count": null,
   "metadata": {},
   "outputs": [],
   "source": [
    "#有效小区打标\n",
    "data_res1.loc[data_res1['rsrp_sample_count']>0,'有效小区']=1"
   ]
  },
  {
   "cell_type": "code",
   "execution_count": null,
   "metadata": {},
   "outputs": [],
   "source": [
    "data_res1.to_csv('G:\\\\1-规划\\\\评估\\\\软采评估\\\\2019第三季度\\\\软采数据\\\\软采小区\\\\第三季度添加区县_添加问题标识.csv',encoding = 'gbk',index=False)"
   ]
  },
  {
   "cell_type": "code",
   "execution_count": null,
   "metadata": {},
   "outputs": [],
   "source": [
    "data_res1= pd.read_csv(open('G:\\\\1-规划\\\\评估\\\\软采评估\\\\2019第三季度\\\\软采数据\\\\软采小区\\\\第三季度添加区县_添加问题标识.csv',encoding = 'gbk'))"
   ]
  },
  {
   "cell_type": "code",
   "execution_count": null,
   "metadata": {},
   "outputs": [],
   "source": [
    "def aggfunc(df):\n",
    "    sum1 = df['rsrp_sample_count'].sum()\n",
    "    sum2 = df['rsrp_weak'].sum()\n",
    "    ser = pd.Series([sum1, sum2, 1-sum2/sum1])\n",
    "    return ser"
   ]
  },
  {
   "cell_type": "code",
   "execution_count": null,
   "metadata": {},
   "outputs": [],
   "source": [
    "data_fgl = data_res1.groupby(by='region_name').apply(aggfunc)"
   ]
  },
  {
   "cell_type": "code",
   "execution_count": null,
   "metadata": {
    "scrolled": true
   },
   "outputs": [],
   "source": [
    "data_fgl.reset_index(inplace=True)"
   ]
  },
  {
   "cell_type": "code",
   "execution_count": null,
   "metadata": {},
   "outputs": [],
   "source": [
    "data_fgl.columns = ['区域','移动总点','移动弱点','全网移动覆盖率']"
   ]
  },
  {
   "cell_type": "code",
   "execution_count": null,
   "metadata": {},
   "outputs": [],
   "source": [
    "data_fgl.sort_values(by = '全网移动覆盖率',ascending = False,inplace = True)"
   ]
  },
  {
   "cell_type": "code",
   "execution_count": null,
   "metadata": {},
   "outputs": [],
   "source": [
    "data_fgl.to_clipboard()"
   ]
  },
  {
   "cell_type": "markdown",
   "metadata": {},
   "source": [
    "###  软采小区数据完整性评估"
   ]
  },
  {
   "cell_type": "markdown",
   "metadata": {},
   "source": [
    "#### 移动"
   ]
  },
  {
   "cell_type": "code",
   "execution_count": null,
   "metadata": {},
   "outputs": [],
   "source": [
    "data_res1.columns"
   ]
  },
  {
   "cell_type": "code",
   "execution_count": null,
   "metadata": {},
   "outputs": [],
   "source": [
    "pg = gongcan.groupby(by = '所属地区').agg({'小区CGI(*)':'count'})\n",
    "pg.columns =['总小区数']"
   ]
  },
  {
   "cell_type": "code",
   "execution_count": null,
   "metadata": {},
   "outputs": [],
   "source": [
    "data_1 = data_res1.groupby(by='region_name').agg({'eutrancell_cgi':'count'})\n",
    "data_1.columns =['软采小区数']"
   ]
  },
  {
   "cell_type": "code",
   "execution_count": null,
   "metadata": {},
   "outputs": [],
   "source": [
    "data_2 = data_res1.loc[data_res1['rsrp_sample_count']>0]"
   ]
  },
  {
   "cell_type": "code",
   "execution_count": null,
   "metadata": {},
   "outputs": [],
   "source": [
    "data_3 = data_2.groupby(by='region_name').agg({'eutrancell_cgi':'count'})\n",
    "data_3.columns =['有效软采小区数']"
   ]
  },
  {
   "cell_type": "code",
   "execution_count": null,
   "metadata": {},
   "outputs": [],
   "source": [
    "pg['软采小区数']=0\n",
    "pg['有效软采小区数']=0"
   ]
  },
  {
   "cell_type": "code",
   "execution_count": null,
   "metadata": {},
   "outputs": [],
   "source": [
    "pg.update(data_1)\n",
    "pg.update(data_3)"
   ]
  },
  {
   "cell_type": "code",
   "execution_count": null,
   "metadata": {},
   "outputs": [],
   "source": [
    "pg['软采采集率/本网']=pg['软采小区数']/pg['总小区数']\n",
    "pg['有效软采采集率/本网']=pg['有效软采小区数']/pg['总小区数']"
   ]
  },
  {
   "cell_type": "code",
   "execution_count": null,
   "metadata": {},
   "outputs": [],
   "source": [
    "pg.to_clipboard()"
   ]
  },
  {
   "cell_type": "markdown",
   "metadata": {},
   "source": [
    "#### 电信&联通"
   ]
  },
  {
   "cell_type": "code",
   "execution_count": null,
   "metadata": {},
   "outputs": [],
   "source": [
    "pg['电信有采样信息的小区数']=0\n",
    "pg['软采小区采集率-电信']=0"
   ]
  },
  {
   "cell_type": "code",
   "execution_count": null,
   "metadata": {},
   "outputs": [],
   "source": [
    "data_d = data_res1.loc[data_res1['te_maxrsrp_sample_count']>0]"
   ]
  },
  {
   "cell_type": "code",
   "execution_count": null,
   "metadata": {},
   "outputs": [],
   "source": [
    "data_d_count = data_d.groupby(by='region_name').agg({'eutrancell_cgi':'count'})\n",
    "data_d_count.columns =['电信有采样信息的小区数']"
   ]
  },
  {
   "cell_type": "code",
   "execution_count": null,
   "metadata": {},
   "outputs": [],
   "source": [
    "pg.update(data_d_count)"
   ]
  },
  {
   "cell_type": "code",
   "execution_count": null,
   "metadata": {},
   "outputs": [],
   "source": [
    "pg['软采小区采集率-电信']=pg['电信有采样信息的小区数']/pg['软采小区数']"
   ]
  },
  {
   "cell_type": "code",
   "execution_count": null,
   "metadata": {},
   "outputs": [],
   "source": [
    "pg['联通有采样信息的小区数']=0\n",
    "pg['软采小区采集率-联通']=0"
   ]
  },
  {
   "cell_type": "code",
   "execution_count": null,
   "metadata": {},
   "outputs": [],
   "source": [
    "data_un = data_res1.loc[data_res1['un_maxrsrp_sample_count']>0]"
   ]
  },
  {
   "cell_type": "code",
   "execution_count": null,
   "metadata": {},
   "outputs": [],
   "source": [
    "data_un_count = data_un.groupby(by='region_name').agg({'eutrancell_cgi':'count'})\n",
    "data_un_count.columns =['联通有采样信息的小区数']"
   ]
  },
  {
   "cell_type": "code",
   "execution_count": null,
   "metadata": {},
   "outputs": [],
   "source": [
    "pg.update(data_un_count)"
   ]
  },
  {
   "cell_type": "code",
   "execution_count": null,
   "metadata": {},
   "outputs": [],
   "source": [
    "pg['软采小区采集率-联通']=pg['联通有采样信息的小区数']/pg['软采小区数']"
   ]
  },
  {
   "cell_type": "code",
   "execution_count": null,
   "metadata": {},
   "outputs": [],
   "source": [
    "pg.to_clipboard()"
   ]
  },
  {
   "cell_type": "markdown",
   "metadata": {},
   "source": [
    "#### 替换电信联通数据"
   ]
  },
  {
   "cell_type": "code",
   "execution_count": null,
   "metadata": {
    "scrolled": false
   },
   "outputs": [],
   "source": [
    "jingdui = pd.read_sql_table(table_name = '多天指标汇总-mro-19年9月竞对4天试用月底',con = con )"
   ]
  },
  {
   "cell_type": "code",
   "execution_count": null,
   "metadata": {},
   "outputs": [],
   "source": [
    "data_res1= pd.read_csv(open('G:\\\\1-规划\\\\评估\\\\软采评估\\\\2019第三季度\\\\软采数据\\\\软采小区\\\\第三季度添加区县_添加问题标识.csv',encoding = 'gbk'))"
   ]
  },
  {
   "cell_type": "code",
   "execution_count": null,
   "metadata": {},
   "outputs": [],
   "source": [
    "jingdui.columns"
   ]
  },
  {
   "cell_type": "code",
   "execution_count": null,
   "metadata": {},
   "outputs": [],
   "source": [
    "jingdui_use = jingdui[[ 'cgi', 'atu', 'un_maxrsrp_count', 'un_maxrsrp_weak113','te_maxrsrp_count', 'te_maxrsrp_weak113']]"
   ]
  },
  {
   "cell_type": "code",
   "execution_count": null,
   "metadata": {},
   "outputs": [],
   "source": [
    "data_res1_jingdui=data_res1[[ 'eutrancell_name', 'eutrancell_cgi', \n",
    "                             'region_name', 'rsrp_sample_count', 'rsrp_weak',\n",
    "                             '区县', 'lon', 'lat', '弱覆盖','有效小区']]"
   ]
  },
  {
   "cell_type": "code",
   "execution_count": null,
   "metadata": {
    "scrolled": true
   },
   "outputs": [],
   "source": [
    "data_res1_jingdui['un_maxrsrp_count']=\"\"\n",
    "data_res1_jingdui['un_maxrsrp_weak113']=\"\"\n",
    "data_res1_jingdui['te_maxrsrp_count']=\"\"\n",
    "data_res1_jingdui['te_maxrsrp_weak113']=\"\"\n",
    "data_res1_jingdui['hd']=0\n",
    "data_res1_jingdui['总问题小区']=0\n",
    "data_res1_jingdui['atu']=\"\""
   ]
  },
  {
   "cell_type": "code",
   "execution_count": null,
   "metadata": {},
   "outputs": [],
   "source": [
    "data_res1_jingdui_cgi = data_res1_jingdui.set_index('eutrancell_cgi')"
   ]
  },
  {
   "cell_type": "code",
   "execution_count": null,
   "metadata": {},
   "outputs": [],
   "source": [
    "jingdui_use_cgi = jingdui_use.set_index('cgi')"
   ]
  },
  {
   "cell_type": "code",
   "execution_count": null,
   "metadata": {},
   "outputs": [],
   "source": [
    "data_res1_jingdui_cgi.update(jingdui_use_cgi)"
   ]
  },
  {
   "cell_type": "code",
   "execution_count": null,
   "metadata": {},
   "outputs": [],
   "source": [
    "data_res1_jingdui_cgi.columns"
   ]
  },
  {
   "cell_type": "code",
   "execution_count": null,
   "metadata": {},
   "outputs": [],
   "source": [
    "data_res1_jingdui_cgi['hd'] = pd.to_numeric(data_res1_jingdui_cgi['hd'])\n",
    "data_res1_jingdui_cgi['un_maxrsrp_count'] = pd.to_numeric(data_res1_jingdui_cgi['un_maxrsrp_count'])\n",
    "data_res1_jingdui_cgi['un_maxrsrp_weak113'] = pd.to_numeric(data_res1_jingdui_cgi['un_maxrsrp_weak113'])\n",
    "data_res1_jingdui_cgi['te_maxrsrp_count'] = pd.to_numeric(data_res1_jingdui_cgi['te_maxrsrp_count'])\n",
    "data_res1_jingdui_cgi['te_maxrsrp_weak113'] = pd.to_numeric(data_res1_jingdui_cgi['te_maxrsrp_weak113'])\n",
    "data_res1_jingdui_cgi['弱覆盖'] = pd.to_numeric(data_res1_jingdui_cgi['弱覆盖'])"
   ]
  },
  {
   "cell_type": "code",
   "execution_count": null,
   "metadata": {},
   "outputs": [],
   "source": [
    "data_res1_jingdui_cgi.dtypes"
   ]
  },
  {
   "cell_type": "code",
   "execution_count": null,
   "metadata": {},
   "outputs": [],
   "source": [
    "#黑点打标\n",
    "data_res1_jingdui_cgi.loc[(((1-data_res1_jingdui_cgi['rsrp_weak']/data_res1_jingdui_cgi['rsrp_sample_count']<0.8)\n",
    "                  &(1-data_res1_jingdui_cgi['un_maxrsrp_weak113']/data_res1_jingdui_cgi['un_maxrsrp_count']>0.8))\n",
    "            |\n",
    "                 ((1-data_res1_jingdui_cgi['rsrp_weak']/data_res1_jingdui_cgi['rsrp_sample_count']<0.8)\n",
    "                  &(1-data_res1_jingdui_cgi['te_maxrsrp_weak113']/data_res1_jingdui_cgi['te_maxrsrp_count']>0.8)))\n",
    "            |\n",
    "              (((1-data_res1_jingdui_cgi['rsrp_weak']/data_res1_jingdui_cgi['rsrp_sample_count']>0.8)\n",
    "                  &(((1-data_res1_jingdui_cgi['un_maxrsrp_weak113']/data_res1_jingdui_cgi['un_maxrsrp_count'])-(1-data_res1_jingdui_cgi['rsrp_weak']/data_res1_jingdui_cgi['rsrp_sample_count']))>0.05))\n",
    "            |\n",
    "              ((1-data_res1_jingdui_cgi['rsrp_weak']/data_res1_jingdui_cgi['rsrp_sample_count']>0.8)\n",
    "                  &(((1-data_res1_jingdui_cgi['te_maxrsrp_weak113']/data_res1_jingdui_cgi['te_maxrsrp_count'])-(1-data_res1_jingdui_cgi['rsrp_weak']/data_res1_jingdui_cgi['rsrp_sample_count']))>0.05))\n",
    "              ),'hd'\n",
    "             ]=1"
   ]
  },
  {
   "cell_type": "code",
   "execution_count": null,
   "metadata": {},
   "outputs": [],
   "source": [
    "#弱覆盖打标\n",
    "data_res1_jingdui_cgi.loc[1-data_res1_jingdui_cgi['rsrp_weak']/data_res1_jingdui_cgi['rsrp_sample_count']<0.9,'弱覆盖']=1"
   ]
  },
  {
   "cell_type": "code",
   "execution_count": null,
   "metadata": {},
   "outputs": [],
   "source": [
    "#总问题点打标\n",
    "data_res1_jingdui_cgi.loc[(data_res1_jingdui_cgi['hd']==1)|(data_res1_jingdui_cgi['弱覆盖']==1),'总问题小区']=1"
   ]
  },
  {
   "cell_type": "code",
   "execution_count": null,
   "metadata": {},
   "outputs": [],
   "source": [
    "#有效小区打标\n",
    "data_res1_jingdui_cgi.loc[data_res1_jingdui_cgi['rsrp_sample_count']>0,'有效小区']=1"
   ]
  },
  {
   "cell_type": "code",
   "execution_count": null,
   "metadata": {},
   "outputs": [],
   "source": [
    "data_res1_jingdui_cgi.reset_index(inplace=True)"
   ]
  },
  {
   "cell_type": "code",
   "execution_count": null,
   "metadata": {
    "scrolled": false
   },
   "outputs": [],
   "source": [
    "data_res1_jingdui_cgi.columns"
   ]
  },
  {
   "cell_type": "code",
   "execution_count": null,
   "metadata": {},
   "outputs": [],
   "source": [
    "gongcan.columns"
   ]
  },
  {
   "cell_type": "code",
   "execution_count": null,
   "metadata": {},
   "outputs": [],
   "source": [
    "data_res1_jingdui_cgi['厂家名称']=\"\""
   ]
  },
  {
   "cell_type": "code",
   "execution_count": null,
   "metadata": {},
   "outputs": [],
   "source": [
    "data_res1_jingdui_cgi2 = data_res1_jingdui_cgi.set_index('eutrancell_cgi')"
   ]
  },
  {
   "cell_type": "code",
   "execution_count": null,
   "metadata": {},
   "outputs": [],
   "source": [
    "gongcan2 = gongcan.set_index('小区CGI(*)')"
   ]
  },
  {
   "cell_type": "code",
   "execution_count": null,
   "metadata": {},
   "outputs": [],
   "source": [
    "data_res1_jingdui_cgi2['厂家名称'].update(gongcan2['厂家名称'])"
   ]
  },
  {
   "cell_type": "code",
   "execution_count": null,
   "metadata": {},
   "outputs": [],
   "source": [
    "data_res1_jingdui_cgi2"
   ]
  },
  {
   "cell_type": "code",
   "execution_count": null,
   "metadata": {},
   "outputs": [],
   "source": [
    "data_res1_jingdui_cgi2.to_csv('G:\\\\1-规划\\\\评估\\\\软采评估\\\\2019第三季度\\\\软采数据\\\\软采小区\\\\第三季度添加区县_添加问题标识_替换竞对后.csv',encoding = 'gbk')"
   ]
  },
  {
   "cell_type": "code",
   "execution_count": null,
   "metadata": {},
   "outputs": [],
   "source": [
    "data_res1_jingdui_cgi2.head(1)"
   ]
  },
  {
   "cell_type": "markdown",
   "metadata": {},
   "source": [
    "#### 更新后的电信联通评估"
   ]
  },
  {
   "cell_type": "code",
   "execution_count": null,
   "metadata": {},
   "outputs": [],
   "source": [
    "pg['电信有采样信息的小区数-th']=0\n",
    "pg['软采小区采集率-电信-th']=0"
   ]
  },
  {
   "cell_type": "code",
   "execution_count": null,
   "metadata": {},
   "outputs": [],
   "source": [
    "data_d_th = data_res1_jingdui_cgi.loc[data_res1_jingdui_cgi['te_maxrsrp_count']>0]"
   ]
  },
  {
   "cell_type": "code",
   "execution_count": null,
   "metadata": {},
   "outputs": [],
   "source": [
    "data_d_count_th = data_d_th.groupby(by='region_name').agg({'eutrancell_cgi':'count'})\n",
    "data_d_count_th.columns =['电信有采样信息的小区数-th']"
   ]
  },
  {
   "cell_type": "code",
   "execution_count": null,
   "metadata": {},
   "outputs": [],
   "source": [
    "pg.update(data_d_count_th)"
   ]
  },
  {
   "cell_type": "code",
   "execution_count": null,
   "metadata": {},
   "outputs": [],
   "source": [
    "pg['软采小区采集率-电信-th']=pg['电信有采样信息的小区数-th']/pg['软采小区数']"
   ]
  },
  {
   "cell_type": "code",
   "execution_count": null,
   "metadata": {},
   "outputs": [],
   "source": [
    "pg['联通有采样信息的小区数-th']=0\n",
    "pg['软采小区采集率-联通-th']=0"
   ]
  },
  {
   "cell_type": "code",
   "execution_count": null,
   "metadata": {},
   "outputs": [],
   "source": [
    "data_un_th = data_res1_jingdui_cgi.loc[data_res1_jingdui_cgi['un_maxrsrp_count']>0]"
   ]
  },
  {
   "cell_type": "code",
   "execution_count": null,
   "metadata": {},
   "outputs": [],
   "source": [
    "data_un_count_th = data_un_th.groupby(by='region_name').agg({'eutrancell_cgi':'count'})\n",
    "data_un_count_th.columns =['联通有采样信息的小区数-th']"
   ]
  },
  {
   "cell_type": "code",
   "execution_count": null,
   "metadata": {},
   "outputs": [],
   "source": [
    "pg.update(data_un_count_th)"
   ]
  },
  {
   "cell_type": "code",
   "execution_count": null,
   "metadata": {},
   "outputs": [],
   "source": [
    "pg['软采小区采集率-联通-th']=pg['联通有采样信息的小区数-th']/pg['软采小区数']"
   ]
  },
  {
   "cell_type": "code",
   "execution_count": null,
   "metadata": {},
   "outputs": [],
   "source": [
    "pg.to_clipboard()"
   ]
  },
  {
   "cell_type": "code",
   "execution_count": null,
   "metadata": {},
   "outputs": [],
   "source": []
  },
  {
   "cell_type": "markdown",
   "metadata": {},
   "source": [
    "##  第三季度评估-软采栅格"
   ]
  },
  {
   "cell_type": "code",
   "execution_count": null,
   "metadata": {},
   "outputs": [],
   "source": [
    "f = mt.file_name_paths(path=r'G:/1-规划/评估/软采评估/2019第三季度/软采数据/软采栅格/')"
   ]
  },
  {
   "cell_type": "code",
   "execution_count": null,
   "metadata": {
    "scrolled": true
   },
   "outputs": [],
   "source": [
    "zidian = dict()\n",
    "data_merge = pd.DataFrame() \n",
    "for name in f:\n",
    "    try:\n",
    "        data_t = pd.read_csv(open(name,encoding = 'utf8'),sep = '\\t')\n",
    "    except:\n",
    "        data_t = pd.read_csv(open(name))\n",
    "    print(data_t.shape,name)\n",
    "    zidian[name.split('/')[-1]]=list(data_t.columns)"
   ]
  },
  {
   "cell_type": "code",
   "execution_count": null,
   "metadata": {
    "scrolled": false
   },
   "outputs": [],
   "source": [
    "data_merge = pd.DataFrame() \n",
    "for name in f:\n",
    "    try:\n",
    "        data_t = pd.read_csv(open(name,encoding = 'utf8'),sep = '\\t')\n",
    "    except:\n",
    "        data_t = pd.read_csv(open(name))\n",
    "    data_merge = pd.concat([data_merge,data_t])\n",
    "    print('数据：'+name+'共计',data_t.shape,'数据累加后共计：',data_merge.shape)"
   ]
  },
  {
   "cell_type": "code",
   "execution_count": null,
   "metadata": {
    "scrolled": false
   },
   "outputs": [],
   "source": [
    "data_merge1 = data_merge.fillna(0)"
   ]
  },
  {
   "cell_type": "code",
   "execution_count": null,
   "metadata": {},
   "outputs": [],
   "source": [
    "data_merge1.sort_values(by=\"a.rsrp_sample_count\",ascending= False,inplace = True)"
   ]
  },
  {
   "cell_type": "code",
   "execution_count": null,
   "metadata": {},
   "outputs": [],
   "source": [
    "data_merge_quchong = data_merge1.drop_duplicates(subset='a.grid_id',keep='first',inplace=False)"
   ]
  },
  {
   "cell_type": "code",
   "execution_count": null,
   "metadata": {},
   "outputs": [],
   "source": [
    "data_merge_quchong.to_sql('三季度栅格汇总',con = con)"
   ]
  },
  {
   "cell_type": "code",
   "execution_count": null,
   "metadata": {},
   "outputs": [],
   "source": [
    "data_merge_quchong.shape"
   ]
  },
  {
   "cell_type": "code",
   "execution_count": null,
   "metadata": {},
   "outputs": [],
   "source": [
    "#修改过目录，使用是那个月全部栅格\n",
    "data_merge_quchong.to_csv('G:\\\\1-规划\\\\评估\\\\软采评估\\\\2019第三季度\\\\软采数据\\\\软采栅格\\\\第三季度_栅格_0930.csv',encoding = 'gbk',index=False)"
   ]
  },
  {
   "cell_type": "code",
   "execution_count": null,
   "metadata": {},
   "outputs": [],
   "source": [
    "data_merge_quchong = pd.read_csv(open('G:\\\\1-规划\\\\评估\\\\软采评估\\\\2019第三季度\\\\软采数据\\\\软采栅格\\\\第三季度_栅格_0930.csv',encoding = 'gbk'))"
   ]
  },
  {
   "cell_type": "code",
   "execution_count": null,
   "metadata": {},
   "outputs": [],
   "source": [
    "data_merge_quchong.columns"
   ]
  },
  {
   "cell_type": "code",
   "execution_count": null,
   "metadata": {},
   "outputs": [],
   "source": [
    "data_merge_quchong['lon']=(data_merge_quchong['a.grid_lefttop_longitude']+data_merge_quchong['a.grid_rightbottom_longitude'])/2\n",
    "data_merge_quchong['lat']=(data_merge_quchong['a.grid_lefttop_latitude']+data_merge_quchong['a.grid_rightbottom_latitude'])/2"
   ]
  },
  {
   "cell_type": "code",
   "execution_count": null,
   "metadata": {},
   "outputs": [],
   "source": [
    "data_grid_p = nt.add_points(data_merge_quchong,coords=['lon', 'lat', '', ''])"
   ]
  },
  {
   "cell_type": "markdown",
   "metadata": {},
   "source": [
    "## 添加场景"
   ]
  },
  {
   "cell_type": "code",
   "execution_count": null,
   "metadata": {},
   "outputs": [],
   "source": [
    "changjing = gpd.read_file('G:/1-规划/图层/全省区域规划图层20180510/全省区域规划图层20180510/全省区域规划图层20180510.TAB')"
   ]
  },
  {
   "cell_type": "code",
   "execution_count": null,
   "metadata": {},
   "outputs": [],
   "source": [
    "data_grid_sjoin = gpd.sjoin(changjing,data_grid_p)"
   ]
  },
  {
   "cell_type": "code",
   "execution_count": null,
   "metadata": {},
   "outputs": [],
   "source": [
    "data_merge_quchong['区域类型']=0"
   ]
  },
  {
   "cell_type": "code",
   "execution_count": null,
   "metadata": {},
   "outputs": [],
   "source": [
    "data_merge_quchong.set_index('a.grid_id',inplace = True)"
   ]
  },
  {
   "cell_type": "code",
   "execution_count": null,
   "metadata": {},
   "outputs": [],
   "source": [
    "data_grid_sjoin1 = data_grid_sjoin[[ '区域类型', 'a.grid_id']]\n",
    "data_grid_sjoin1.drop_duplicates('a.grid_id',inplace = True)\n",
    "data_grid_sjoin1.set_index('a.grid_id',inplace = True)"
   ]
  },
  {
   "cell_type": "code",
   "execution_count": null,
   "metadata": {},
   "outputs": [],
   "source": [
    "data_merge_quchong.update(data_grid_sjoin1)"
   ]
  },
  {
   "cell_type": "code",
   "execution_count": null,
   "metadata": {},
   "outputs": [],
   "source": [
    "data_merge_quchong.loc[data_merge_quchong['区域类型']==0,'区域类型']='农村'"
   ]
  },
  {
   "cell_type": "code",
   "execution_count": null,
   "metadata": {},
   "outputs": [],
   "source": [
    "data_merge_quchong.loc[data_merge_quchong['区域类型'].str.contains('景区'),'区域类型']='景区'"
   ]
  },
  {
   "cell_type": "code",
   "execution_count": null,
   "metadata": {},
   "outputs": [],
   "source": [
    "data_merge_quchong.reset_index(inplace = True)\n",
    "data_merge_quchong.to_csv('G:\\\\1-规划\\\\评估\\\\软采评估\\\\2019第三季度\\\\软采数据\\\\软采栅格\\\\第三季度_栅格_添加场景.csv',encoding = 'gbk',index=False)"
   ]
  },
  {
   "cell_type": "code",
   "execution_count": null,
   "metadata": {},
   "outputs": [],
   "source": [
    "data_merge_quchong = pd.read_csv(open('G:\\\\1-规划\\\\评估\\\\软采评估\\\\2019第三季度\\\\软采数据\\\\软采栅格\\\\第三季度_栅格_添加场景.csv',encoding = 'gbk'))"
   ]
  },
  {
   "cell_type": "markdown",
   "metadata": {},
   "source": [
    "# 添加区县"
   ]
  },
  {
   "cell_type": "code",
   "execution_count": null,
   "metadata": {},
   "outputs": [],
   "source": [
    "data_merge_quchong = pd.read_csv(open('G:\\\\1-规划\\\\评估\\\\软采评估\\\\2019第三季度\\\\软采数据\\\\软采栅格\\\\第三季度_栅格_添加场景.csv',encoding = 'gbk'))"
   ]
  },
  {
   "cell_type": "code",
   "execution_count": null,
   "metadata": {},
   "outputs": [],
   "source": [
    "quxian = gpd.read_file('G:/1-规划/图层/武汉新-县城图层/县界.TAB')"
   ]
  },
  {
   "cell_type": "code",
   "execution_count": null,
   "metadata": {},
   "outputs": [],
   "source": [
    "data_merge_quchong.columns"
   ]
  },
  {
   "cell_type": "code",
   "execution_count": null,
   "metadata": {},
   "outputs": [],
   "source": [
    "grid_qx = nt.add_points(data_merge_quchong,coords=['lon', 'lat', '', ''])"
   ]
  },
  {
   "cell_type": "code",
   "execution_count": null,
   "metadata": {},
   "outputs": [],
   "source": [
    "grid_res_qx = gpd.sjoin(quxian,grid_qx)"
   ]
  },
  {
   "cell_type": "code",
   "execution_count": null,
   "metadata": {},
   "outputs": [],
   "source": [
    "data_merge_quchong['区县']=\"\""
   ]
  },
  {
   "cell_type": "code",
   "execution_count": null,
   "metadata": {},
   "outputs": [],
   "source": [
    "data_merge_quchong2 = data_merge_quchong.set_index('a.grid_id')\n",
    "grid_res_qx1 = grid_res_qx[[ 'NAME','a.grid_id', '区域类型']]\n",
    "grid_res_qx1.columns=[ '区县','a.grid_id', '区域类型']\n",
    "grid_res_qx1.drop_duplicates(subset='a.grid_id',keep='first',inplace=True)\n",
    "grid_res_qx1 = grid_res_qx1.set_index('a.grid_id')"
   ]
  },
  {
   "cell_type": "code",
   "execution_count": null,
   "metadata": {},
   "outputs": [],
   "source": [
    "data_merge_quchong2['区县'].update(grid_res_qx1['区县'])"
   ]
  },
  {
   "cell_type": "code",
   "execution_count": null,
   "metadata": {},
   "outputs": [],
   "source": [
    "data_merge_quchong2.reset_index(inplace = True)\n",
    "data_merge_quchong2.to_csv('G:\\\\1-规划\\\\评估\\\\软采评估\\\\2019第三季度\\\\软采数据\\\\软采栅格\\\\第三季度_栅格_添加场景_添加区县.csv',encoding = 'gbk',index=False)"
   ]
  },
  {
   "cell_type": "code",
   "execution_count": null,
   "metadata": {},
   "outputs": [],
   "source": [
    "data_merge_quchong2 = pd.read_csv(open('G:\\\\1-规划\\\\评估\\\\软采评估\\\\2019第三季度\\\\软采数据\\\\软采栅格\\\\第三季度_栅格_添加场景_添加区县.csv',encoding = 'gbk'))"
   ]
  },
  {
   "cell_type": "code",
   "execution_count": null,
   "metadata": {},
   "outputs": [],
   "source": [
    "data_merge_quchong2.shape"
   ]
  },
  {
   "cell_type": "markdown",
   "metadata": {},
   "source": [
    "### 完整性评估 "
   ]
  },
  {
   "cell_type": "code",
   "execution_count": null,
   "metadata": {},
   "outputs": [],
   "source": [
    "#data_merge_quchong.reset_index(inplace = True)"
   ]
  },
  {
   "cell_type": "code",
   "execution_count": null,
   "metadata": {},
   "outputs": [],
   "source": [
    "data_merge_quchong.shape"
   ]
  },
  {
   "cell_type": "code",
   "execution_count": null,
   "metadata": {},
   "outputs": [],
   "source": [
    "data_merge_quchong.head(2)"
   ]
  },
  {
   "cell_type": "code",
   "execution_count": null,
   "metadata": {
    "scrolled": false
   },
   "outputs": [],
   "source": [
    "data_merge_quchong.columns"
   ]
  },
  {
   "cell_type": "code",
   "execution_count": null,
   "metadata": {},
   "outputs": [],
   "source": [
    "#总计"
   ]
  },
  {
   "cell_type": "code",
   "execution_count": null,
   "metadata": {
    "scrolled": true
   },
   "outputs": [],
   "source": [
    "sg = data_merge_quchong.groupby(by = 'a.region_name').agg({'a.grid_id':'count'})\n",
    "sg.columns =['栅格采集']\n",
    "sg['有效栅格采集']=0\n",
    "\n",
    "data_yx = data_merge_quchong.loc[data_merge_quchong['a.rsrp_sample_count']>100]\n",
    "\n",
    "data_yx_g = data_yx.groupby(by = 'a.region_name').agg({'a.grid_id':'count'})\n",
    "data_yx_g.columns =['有效栅格采集']\n",
    "\n",
    "sg.update(data_yx_g)"
   ]
  },
  {
   "cell_type": "code",
   "execution_count": null,
   "metadata": {},
   "outputs": [],
   "source": [
    "sg.to_clipboard()"
   ]
  },
  {
   "cell_type": "code",
   "execution_count": null,
   "metadata": {},
   "outputs": [],
   "source": []
  },
  {
   "cell_type": "code",
   "execution_count": null,
   "metadata": {},
   "outputs": [],
   "source": [
    "#分场景统计"
   ]
  },
  {
   "cell_type": "code",
   "execution_count": null,
   "metadata": {},
   "outputs": [],
   "source": [
    "def data_cj(df):\n",
    "    sg = df.groupby(by = 'a.region_name').agg({'a.day':'count'})\n",
    "    sg.columns =['栅格采集']\n",
    "    sg['有效栅格采集']=0\n",
    "    data_yx = df.loc[df['a.rsrp_sample_count']>100]\n",
    "    data_yx_g = data_yx.groupby(by = 'a.region_name').agg({'a.day':'count'})\n",
    "    data_yx_g.columns =['有效栅格采集']\n",
    "    sg.update(data_yx_g)\n",
    "    return sg"
   ]
  },
  {
   "cell_type": "code",
   "execution_count": null,
   "metadata": {},
   "outputs": [],
   "source": [
    "data_group = data_merge_quchong.groupby(by = '区域类型')"
   ]
  },
  {
   "cell_type": "code",
   "execution_count": null,
   "metadata": {},
   "outputs": [],
   "source": [
    "data_z =dict()\n",
    "for name,data in data_group:\n",
    "    jg = data_cj(data)\n",
    "    data_z[name]= jg"
   ]
  },
  {
   "cell_type": "code",
   "execution_count": null,
   "metadata": {},
   "outputs": [],
   "source": [
    "data_z.keys()"
   ]
  },
  {
   "cell_type": "code",
   "execution_count": null,
   "metadata": {},
   "outputs": [],
   "source": [
    "#统计"
   ]
  },
  {
   "cell_type": "code",
   "execution_count": null,
   "metadata": {},
   "outputs": [],
   "source": [
    "data_z['景区'].to_clipboard()"
   ]
  },
  {
   "cell_type": "code",
   "execution_count": null,
   "metadata": {},
   "outputs": [],
   "source": []
  },
  {
   "cell_type": "code",
   "execution_count": null,
   "metadata": {
    "scrolled": true
   },
   "outputs": [],
   "source": []
  },
  {
   "cell_type": "code",
   "execution_count": null,
   "metadata": {},
   "outputs": [],
   "source": []
  },
  {
   "cell_type": "code",
   "execution_count": null,
   "metadata": {},
   "outputs": [],
   "source": []
  },
  {
   "cell_type": "markdown",
   "metadata": {},
   "source": [
    "# 软采小区统计小区级覆盖率"
   ]
  },
  {
   "cell_type": "code",
   "execution_count": null,
   "metadata": {
    "scrolled": true
   },
   "outputs": [],
   "source": [
    "data_ruancai_22 = pd.read_csv(r'D:\\up\\0722cgi.csv',encoding = 'utf8',sep='\t')"
   ]
  },
  {
   "cell_type": "code",
   "execution_count": null,
   "metadata": {},
   "outputs": [],
   "source": [
    "data_ruancai_1517 = pd.read_csv(r'D:\\up\\07150720cgi.csv',sep='\t')"
   ]
  },
  {
   "cell_type": "code",
   "execution_count": null,
   "metadata": {},
   "outputs": [],
   "source": [
    "data_ruancai_22= data_ruancai_22[['day','region_name', 'eutrancell_cgi', 'eutrancell_name', 'rsrp_sample_count',\n",
    "       'rsrp_weak', 'rsrp_sum', 'inter_maxrsrp_weak', 'un_maxrsrp_sum',\n",
    "       'un_maxrsrp_sample_count', 'un_maxrsrp_weak', 'te_maxrsrp_weak',\n",
    "       'te_maxrsrp_sample_count', 'te_maxrsrp_sum', 'te_maxrsrp_weak_l2',\n",
    "       'un_maxrsrp_weak_l2']]"
   ]
  },
  {
   "cell_type": "code",
   "execution_count": null,
   "metadata": {},
   "outputs": [],
   "source": [
    "data_ruancai_22.head(1)"
   ]
  },
  {
   "cell_type": "code",
   "execution_count": null,
   "metadata": {},
   "outputs": [],
   "source": [
    "data_ruancai_1517.head(1)"
   ]
  },
  {
   "cell_type": "code",
   "execution_count": null,
   "metadata": {},
   "outputs": [],
   "source": [
    "data_ruancai_zong=pd.concat([data_ruancai_22,data_ruancai_1517])"
   ]
  },
  {
   "cell_type": "code",
   "execution_count": null,
   "metadata": {},
   "outputs": [],
   "source": [
    "data_ruancai_22.to_csv('ruancai_22hao.csv',encoding ='gbk')"
   ]
  },
  {
   "cell_type": "code",
   "execution_count": null,
   "metadata": {},
   "outputs": [],
   "source": [
    "data_ruancai_22.groupby(by = 'region_name').count()"
   ]
  },
  {
   "cell_type": "code",
   "execution_count": null,
   "metadata": {},
   "outputs": [],
   "source": [
    "data_ruancai_zong[data_ruancai_zong['eutrancell_cgi']=='460-00-168705-64' ] "
   ]
  },
  {
   "cell_type": "code",
   "execution_count": null,
   "metadata": {},
   "outputs": [],
   "source": [
    "data_ruancai_zong.loc[(data_ruancai_zong[\"eutrancell_cgi\"] =='460-00-989561-129' )]"
   ]
  },
  {
   "cell_type": "code",
   "execution_count": null,
   "metadata": {},
   "outputs": [],
   "source": []
  },
  {
   "cell_type": "code",
   "execution_count": null,
   "metadata": {},
   "outputs": [],
   "source": [
    "data_groupby=data_ruancai_zong.groupby(['eutrancell_cgi']).sum()"
   ]
  },
  {
   "cell_type": "code",
   "execution_count": null,
   "metadata": {},
   "outputs": [],
   "source": [
    "data_groupby.loc[(data_groupby.index =='460-00-989561-129' )]"
   ]
  },
  {
   "cell_type": "code",
   "execution_count": null,
   "metadata": {},
   "outputs": [],
   "source": []
  },
  {
   "cell_type": "markdown",
   "metadata": {},
   "source": [
    "# 结束"
   ]
  },
  {
   "cell_type": "code",
   "execution_count": null,
   "metadata": {},
   "outputs": [],
   "source": [
    "data_r_cell=pd.read_sql_table('2019年6月软采小区指标汇总-26-3&补采_系数计算后-去重',con )\n",
    "data_r_cell_7y16=pd.read_sql_table('2019年7月软采小区指标汇总1-6带日期',con )"
   ]
  },
  {
   "cell_type": "code",
   "execution_count": null,
   "metadata": {},
   "outputs": [],
   "source": [
    "display(data_r_cell.head(1),data_r_cell_7y16.head(1),data_r_cell.shape)"
   ]
  },
  {
   "cell_type": "code",
   "execution_count": null,
   "metadata": {},
   "outputs": [],
   "source": [
    "#去重求最大值\n",
    "data_r_cell_7y16['rsrp_sample_count']=pd.to_numeric(data_r_cell_7y16['rsrp_sample_count'])\n",
    "data_r_cell_7y16_max = data_r_cell_7y16.groupby(by = 'eutrancell_cgi').apply(lambda x\n",
    "                                                                             :x.nlargest(1,'rsrp_sample_count'))"
   ]
  },
  {
   "cell_type": "code",
   "execution_count": null,
   "metadata": {},
   "outputs": [],
   "source": [
    "#修改成主表的格式，准备追加到后面\n",
    "data_r_cell_7y16_max['新弱点']=''\n",
    "data_r_cell_7y16_max['new-un_maxrsrp_weak_l2']=''\n",
    "data_r_cell_7y16_max['new-te_maxrsrp_weak_l2']=''\n",
    "data_r_cell_7y16_max['区县']=''\n",
    "data_r_cell_7y16_max['wenti']=''\n",
    "data_r_cell_7y16_max['hd']=''\n",
    "data_r_cell_7y16_max['zhishi']=''\n",
    "data_r_cell_7y16_max['vander']=''\n",
    "data_r_cell_7y16_max['pinduan']=''\n",
    "data_r_cell_7y16_max['quxian2']=''\n",
    "\n",
    "data_r_cell_7y16_t= data_r_cell_7y16_max[['region_name', 'eutrancell_cgi', 'eutrancell_name', 'rsrp_sample_count',\n",
    "                             'rsrp_weak','新弱点','un_maxrsrp_sample_count',\n",
    "                             'un_maxrsrp_weak_l2','new-un_maxrsrp_weak_l2','te_maxrsrp_sample_count',\n",
    "                             'te_maxrsrp_weak_l2','new-te_maxrsrp_weak_l2','rq' ,'区县', 'wenti', 'hd',\n",
    "                             'zhishi', 'vander','pinduan', 'quxian2']]\n",
    "\n",
    "data_r_cell_7y16_t.columns = ['region_name', 'cgi', 'eutrancell_name', 'rsrp_count',\n",
    "       'rsrp_weak', '新弱点', 'un_maxrsrp_count', 'un_maxrsrp_weak_l2',\n",
    "       'new-un_maxrsrp_weak_l2', 'te_maxrsrp_count',\n",
    "       'te_maxrsrp_weak_l2', 'new-te_maxrsrp_weak_l2', '时间', '区县', 'wenti',\n",
    "       'hd', 'zhishi', 'vander', 'pinduan', 'quxian2']"
   ]
  },
  {
   "cell_type": "code",
   "execution_count": null,
   "metadata": {},
   "outputs": [],
   "source": [
    "#将新表追加到总表下面\n",
    "data_r_cell_z=pd.concat([data_r_cell,data_r_cell_7y16_t])\n",
    "#去重求最大值\n",
    "data_r_cell_z['rsrp_count'] = pd.to_numeric(data_r_cell_z['rsrp_count'])"
   ]
  },
  {
   "cell_type": "code",
   "execution_count": null,
   "metadata": {},
   "outputs": [],
   "source": [
    "data_r_cell_z.columns"
   ]
  },
  {
   "cell_type": "code",
   "execution_count": null,
   "metadata": {},
   "outputs": [],
   "source": [
    "data_r_cell_z1=data_r_cell_z.sort_values(by=\"rsrp_count\",ascending= False)  #排序 倒序"
   ]
  },
  {
   "cell_type": "code",
   "execution_count": null,
   "metadata": {},
   "outputs": [],
   "source": [
    "data_r_cell_z_res=data_r_cell_z1.drop_duplicates(subset='cgi',keep='first',inplace=False) #按name 去重"
   ]
  },
  {
   "cell_type": "code",
   "execution_count": null,
   "metadata": {},
   "outputs": [],
   "source": [
    "# data_r_cell_z_res = data_r_cell_z.groupby(by = 'cgi').apply(lambda x:x.nlargest(1,'rsrp_count'))"
   ]
  },
  {
   "cell_type": "code",
   "execution_count": null,
   "metadata": {},
   "outputs": [],
   "source": [
    "data_r_cell_z_res.shape"
   ]
  },
  {
   "cell_type": "code",
   "execution_count": null,
   "metadata": {},
   "outputs": [],
   "source": [
    "data_r_cell_z_res"
   ]
  },
  {
   "cell_type": "code",
   "execution_count": null,
   "metadata": {},
   "outputs": [],
   "source": [
    "# data_r_cell_z_res.to_sql('kkkkk',con,index=False)"
   ]
  },
  {
   "cell_type": "code",
   "execution_count": null,
   "metadata": {},
   "outputs": [],
   "source": [
    "#武汉区县图层\n",
    "tc_whqx = gpd.read_file('g:/1-规划/图层/武汉分公司图层20190109/武汉市区分公司区域图层201804版/武汉市区分公司区域图层201804版/武汉市区分公司区域图层201804版.TAB')"
   ]
  },
  {
   "cell_type": "code",
   "execution_count": null,
   "metadata": {},
   "outputs": [],
   "source": [
    "data_res=gpd.sjoin(tc_whqx,data_r_cell_z_res)"
   ]
  }
 ],
 "metadata": {
  "kernelspec": {
   "display_name": "Python 3",
   "language": "python",
   "name": "python3"
  },
  "language_info": {
   "codemirror_mode": {
    "name": "ipython",
    "version": 3
   },
   "file_extension": ".py",
   "mimetype": "text/x-python",
   "name": "python",
   "nbconvert_exporter": "python",
   "pygments_lexer": "ipython3",
   "version": "3.7.4"
  }
 },
 "nbformat": 4,
 "nbformat_minor": 2
}
