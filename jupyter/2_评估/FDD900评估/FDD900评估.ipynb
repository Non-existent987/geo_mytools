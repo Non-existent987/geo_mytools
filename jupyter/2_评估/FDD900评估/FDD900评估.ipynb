{
 "cells": [
  {
   "cell_type": "code",
   "execution_count": 4,
   "metadata": {},
   "outputs": [],
   "source": [
    "import pandas as pd\n",
    "import geopandas as gpd\n",
    "import mytools"
   ]
  },
  {
   "cell_type": "markdown",
   "metadata": {},
   "source": [
    "# 20*20栅格"
   ]
  },
  {
   "cell_type": "code",
   "execution_count": null,
   "metadata": {},
   "outputs": [],
   "source": [
    "data_fdd900 = pd.read_csv(open('g:/1-规划/评估/FDD900评估/1-数据/FDD900小区栅格数据/zm1029all.csv',encoding = 'utf8'),sep = '\\t',nrows=)"
   ]
  },
  {
   "cell_type": "code",
   "execution_count": null,
   "metadata": {},
   "outputs": [],
   "source": [
    "data_fdd900['fgl']=1-data_fdd900['_c6']/data_fdd900['_c5']"
   ]
  },
  {
   "cell_type": "code",
   "execution_count": null,
   "metadata": {},
   "outputs": [],
   "source": [
    "data_fdd900.loc[data_fdd900['fgl']<0.9,'弱覆盖']=1"
   ]
  },
  {
   "cell_type": "code",
   "execution_count": null,
   "metadata": {},
   "outputs": [],
   "source": [
    "data_fdd900['fenlei']='全网'"
   ]
  },
  {
   "cell_type": "code",
   "execution_count": null,
   "metadata": {},
   "outputs": [],
   "source": [
    "data_fdd900.agg({'弱覆盖':'sum','grid_id_20':'count'})"
   ]
  },
  {
   "cell_type": "code",
   "execution_count": null,
   "metadata": {},
   "outputs": [],
   "source": [
    "data_fdd900.to_csv('c:/Users/Administrator/Desktop/fdd900.csv',encoding = 'gbk')"
   ]
  },
  {
   "cell_type": "code",
   "execution_count": null,
   "metadata": {},
   "outputs": [],
   "source": [
    "5958/78249"
   ]
  },
  {
   "cell_type": "markdown",
   "metadata": {},
   "source": [
    "# 100*100栅格"
   ]
  },
  {
   "cell_type": "code",
   "execution_count": null,
   "metadata": {},
   "outputs": [],
   "source": [
    "data_fdd900_100 = pd.read_csv(open('g:/1-规划/评估/FDD900评估/1-数据/FDD900小区栅格数据/100x100/zm1029all/zm1029all.csv',encoding = 'utf8'),sep = '\\t')"
   ]
  },
  {
   "cell_type": "code",
   "execution_count": null,
   "metadata": {},
   "outputs": [],
   "source": [
    "data_fdd900_100.head()"
   ]
  },
  {
   "cell_type": "code",
   "execution_count": null,
   "metadata": {},
   "outputs": [],
   "source": [
    "data_fdd900_100.shape"
   ]
  },
  {
   "cell_type": "code",
   "execution_count": null,
   "metadata": {},
   "outputs": [],
   "source": [
    "data_fdd900_100 = data_fdd900_100.sort_values('grid_id_100')"
   ]
  },
  {
   "cell_type": "code",
   "execution_count": null,
   "metadata": {},
   "outputs": [],
   "source": [
    "data_fdd900_100_group = data_fdd900_100.groupby(['eutrancell_name','grid_id_100']).agg({'_c7':'mean','_c8':'sum','_c9':'sum'})\n",
    "data_fdd900_100_group.shape"
   ]
  },
  {
   "cell_type": "code",
   "execution_count": null,
   "metadata": {},
   "outputs": [],
   "source": [
    "data_fdd900_100_group.reset_index(inplace = True)\n",
    "data_fdd900_100_group.reset_index(inplace = True)"
   ]
  },
  {
   "cell_type": "code",
   "execution_count": null,
   "metadata": {},
   "outputs": [],
   "source": [
    "data_fdd900_100_group_merge = data_fdd900_100_group.merge(data_fdd900_100,how = 'left', on = 'grid_id_100',suffixes=('', '_y'))"
   ]
  },
  {
   "cell_type": "code",
   "execution_count": null,
   "metadata": {},
   "outputs": [],
   "source": [
    "data_fdd900_100_group_merge.head(1)"
   ]
  },
  {
   "cell_type": "code",
   "execution_count": null,
   "metadata": {},
   "outputs": [],
   "source": [
    "data_fdd900_100_group_merge_drop = data_fdd900_100_group_merge.drop_duplicates('index')"
   ]
  },
  {
   "cell_type": "code",
   "execution_count": null,
   "metadata": {},
   "outputs": [],
   "source": [
    "data_fdd900_100_group_merge_drop = data_fdd900_100_group_merge_drop[[ 'eutrancell_name', 'grid_id_100', '_c7', '_c8', '_c9','_c5', '_c6']]"
   ]
  },
  {
   "cell_type": "code",
   "execution_count": null,
   "metadata": {},
   "outputs": [],
   "source": [
    "data_fdd900_100_group_merge_drop.to_csv('g:/1-规划/评估/FDD900评估/1-数据/FDD900小区栅格数据/100x100/zm1029all/zm1029all_整理好.csv',encoding = 'gbk',index = False)"
   ]
  },
  {
   "cell_type": "code",
   "execution_count": null,
   "metadata": {},
   "outputs": [],
   "source": [
    "grid_fdd900 = pd.read_csv(open('g:/1-规划/评估/FDD900评估/1-数据/FDD900小区栅格数据/100x100/zm1029all/zm1029all_整理好.csv',encoding = 'gbk'))"
   ]
  },
  {
   "cell_type": "code",
   "execution_count": null,
   "metadata": {},
   "outputs": [],
   "source": [
    "grid_fdd900.columns"
   ]
  },
  {
   "cell_type": "code",
   "execution_count": null,
   "metadata": {},
   "outputs": [],
   "source": [
    "grid_fdd900.groupby(by = '区县').agg({'eutrancell_name':'count','弱覆盖小区':'count','总点':'sum','弱点':'sum'})"
   ]
  },
  {
   "cell_type": "markdown",
   "metadata": {},
   "source": [
    "# 软采小区12月16"
   ]
  },
  {
   "cell_type": "code",
   "execution_count": 56,
   "metadata": {},
   "outputs": [],
   "source": [
    "data_fdd900_1216 = pd.read_csv(open('g:/1-规划/评估/FDD900评估/3-输出/20191216第三版更新软采数据/12111214cgi.csv',encoding = 'utf8'),sep = '\\t')\n"
   ]
  },
  {
   "cell_type": "code",
   "execution_count": 57,
   "metadata": {},
   "outputs": [],
   "source": [
    "data_fdd900_202001_02 = pd.read_csv(open('g:/1-规划/评估/FDD900评估/3-输出/20191216第三版更新软采数据/01010102cgi.csv',encoding = 'utf8'),sep = '\\t')\n",
    "data_fdd900_1216 = data_fdd900_1216.append(data_fdd900_202001_02)"
   ]
  },
  {
   "cell_type": "code",
   "execution_count": 58,
   "metadata": {
    "scrolled": false
   },
   "outputs": [
    {
     "data": {
      "text/html": [
       "<div>\n",
       "<style scoped>\n",
       "    .dataframe tbody tr th:only-of-type {\n",
       "        vertical-align: middle;\n",
       "    }\n",
       "\n",
       "    .dataframe tbody tr th {\n",
       "        vertical-align: top;\n",
       "    }\n",
       "\n",
       "    .dataframe thead th {\n",
       "        text-align: right;\n",
       "    }\n",
       "</style>\n",
       "<table border=\"1\" class=\"dataframe\">\n",
       "  <thead>\n",
       "    <tr style=\"text-align: right;\">\n",
       "      <th></th>\n",
       "      <th>region_name</th>\n",
       "      <th>eutrancell_cgi</th>\n",
       "      <th>eutrancell_name</th>\n",
       "      <th>rsrp_sample_count</th>\n",
       "      <th>rsrp_weak</th>\n",
       "      <th>rsrp_sum</th>\n",
       "      <th>inter_maxrsrp_weak</th>\n",
       "      <th>un_maxrsrp_sum</th>\n",
       "      <th>un_maxrsrp_sample_count</th>\n",
       "      <th>un_maxrsrp_weak</th>\n",
       "      <th>te_maxrsrp_weak</th>\n",
       "      <th>te_maxrsrp_sample_count</th>\n",
       "      <th>te_maxrsrp_sum</th>\n",
       "      <th>te_maxrsrp_weak_l2</th>\n",
       "      <th>un_maxrsrp_weak_l2</th>\n",
       "    </tr>\n",
       "    <tr>\n",
       "      <th>day</th>\n",
       "      <th></th>\n",
       "      <th></th>\n",
       "      <th></th>\n",
       "      <th></th>\n",
       "      <th></th>\n",
       "      <th></th>\n",
       "      <th></th>\n",
       "      <th></th>\n",
       "      <th></th>\n",
       "      <th></th>\n",
       "      <th></th>\n",
       "      <th></th>\n",
       "      <th></th>\n",
       "      <th></th>\n",
       "      <th></th>\n",
       "    </tr>\n",
       "  </thead>\n",
       "  <tbody>\n",
       "    <tr>\n",
       "      <td>20191211</td>\n",
       "      <td>49749</td>\n",
       "      <td>49749</td>\n",
       "      <td>49749</td>\n",
       "      <td>49749</td>\n",
       "      <td>49749</td>\n",
       "      <td>49749</td>\n",
       "      <td>49749</td>\n",
       "      <td>44626</td>\n",
       "      <td>49749</td>\n",
       "      <td>49749</td>\n",
       "      <td>49749</td>\n",
       "      <td>49749</td>\n",
       "      <td>88</td>\n",
       "      <td>49749</td>\n",
       "      <td>49749</td>\n",
       "    </tr>\n",
       "    <tr>\n",
       "      <td>20191212</td>\n",
       "      <td>63810</td>\n",
       "      <td>63810</td>\n",
       "      <td>63810</td>\n",
       "      <td>63810</td>\n",
       "      <td>63810</td>\n",
       "      <td>63810</td>\n",
       "      <td>63810</td>\n",
       "      <td>53077</td>\n",
       "      <td>63810</td>\n",
       "      <td>63810</td>\n",
       "      <td>63810</td>\n",
       "      <td>63810</td>\n",
       "      <td>98</td>\n",
       "      <td>63810</td>\n",
       "      <td>63810</td>\n",
       "    </tr>\n",
       "    <tr>\n",
       "      <td>20191213</td>\n",
       "      <td>85678</td>\n",
       "      <td>85678</td>\n",
       "      <td>85674</td>\n",
       "      <td>85678</td>\n",
       "      <td>85678</td>\n",
       "      <td>85678</td>\n",
       "      <td>85678</td>\n",
       "      <td>74547</td>\n",
       "      <td>85678</td>\n",
       "      <td>85678</td>\n",
       "      <td>85678</td>\n",
       "      <td>85678</td>\n",
       "      <td>295</td>\n",
       "      <td>85678</td>\n",
       "      <td>85678</td>\n",
       "    </tr>\n",
       "    <tr>\n",
       "      <td>20191214</td>\n",
       "      <td>41668</td>\n",
       "      <td>41668</td>\n",
       "      <td>41664</td>\n",
       "      <td>41668</td>\n",
       "      <td>41668</td>\n",
       "      <td>41668</td>\n",
       "      <td>41668</td>\n",
       "      <td>35591</td>\n",
       "      <td>41668</td>\n",
       "      <td>41668</td>\n",
       "      <td>41668</td>\n",
       "      <td>41668</td>\n",
       "      <td>192</td>\n",
       "      <td>41668</td>\n",
       "      <td>41668</td>\n",
       "    </tr>\n",
       "    <tr>\n",
       "      <td>20200101</td>\n",
       "      <td>485</td>\n",
       "      <td>485</td>\n",
       "      <td>485</td>\n",
       "      <td>485</td>\n",
       "      <td>485</td>\n",
       "      <td>485</td>\n",
       "      <td>485</td>\n",
       "      <td>31</td>\n",
       "      <td>485</td>\n",
       "      <td>485</td>\n",
       "      <td>485</td>\n",
       "      <td>485</td>\n",
       "      <td>453</td>\n",
       "      <td>485</td>\n",
       "      <td>485</td>\n",
       "    </tr>\n",
       "    <tr>\n",
       "      <td>20200102</td>\n",
       "      <td>54646</td>\n",
       "      <td>54646</td>\n",
       "      <td>54646</td>\n",
       "      <td>54646</td>\n",
       "      <td>54646</td>\n",
       "      <td>54646</td>\n",
       "      <td>54646</td>\n",
       "      <td>107</td>\n",
       "      <td>54646</td>\n",
       "      <td>54646</td>\n",
       "      <td>54646</td>\n",
       "      <td>54646</td>\n",
       "      <td>46775</td>\n",
       "      <td>54646</td>\n",
       "      <td>54646</td>\n",
       "    </tr>\n",
       "  </tbody>\n",
       "</table>\n",
       "</div>"
      ],
      "text/plain": [
       "          region_name  eutrancell_cgi  eutrancell_name  rsrp_sample_count  \\\n",
       "day                                                                         \n",
       "20191211        49749           49749            49749              49749   \n",
       "20191212        63810           63810            63810              63810   \n",
       "20191213        85678           85678            85674              85678   \n",
       "20191214        41668           41668            41664              41668   \n",
       "20200101          485             485              485                485   \n",
       "20200102        54646           54646            54646              54646   \n",
       "\n",
       "          rsrp_weak  rsrp_sum  inter_maxrsrp_weak  un_maxrsrp_sum  \\\n",
       "day                                                                 \n",
       "20191211      49749     49749               49749           44626   \n",
       "20191212      63810     63810               63810           53077   \n",
       "20191213      85678     85678               85678           74547   \n",
       "20191214      41668     41668               41668           35591   \n",
       "20200101        485       485                 485              31   \n",
       "20200102      54646     54646               54646             107   \n",
       "\n",
       "          un_maxrsrp_sample_count  un_maxrsrp_weak  te_maxrsrp_weak  \\\n",
       "day                                                                   \n",
       "20191211                    49749            49749            49749   \n",
       "20191212                    63810            63810            63810   \n",
       "20191213                    85678            85678            85678   \n",
       "20191214                    41668            41668            41668   \n",
       "20200101                      485              485              485   \n",
       "20200102                    54646            54646            54646   \n",
       "\n",
       "          te_maxrsrp_sample_count  te_maxrsrp_sum  te_maxrsrp_weak_l2  \\\n",
       "day                                                                     \n",
       "20191211                    49749              88               49749   \n",
       "20191212                    63810              98               63810   \n",
       "20191213                    85678             295               85678   \n",
       "20191214                    41668             192               41668   \n",
       "20200101                      485             453                 485   \n",
       "20200102                    54646           46775               54646   \n",
       "\n",
       "          un_maxrsrp_weak_l2  \n",
       "day                           \n",
       "20191211               49749  \n",
       "20191212               63810  \n",
       "20191213               85678  \n",
       "20191214               41668  \n",
       "20200101                 485  \n",
       "20200102               54646  "
      ]
     },
     "execution_count": 58,
     "metadata": {},
     "output_type": "execute_result"
    }
   ],
   "source": [
    "data_fdd900_1216.groupby(by='day').count()"
   ]
  },
  {
   "cell_type": "code",
   "execution_count": 59,
   "metadata": {},
   "outputs": [
    {
     "data": {
      "text/plain": [
       "(296036, 16)"
      ]
     },
     "execution_count": 59,
     "metadata": {},
     "output_type": "execute_result"
    }
   ],
   "source": [
    "data_fdd900_1216.shape"
   ]
  },
  {
   "cell_type": "code",
   "execution_count": 60,
   "metadata": {},
   "outputs": [],
   "source": [
    "data_ok = data_fdd900_1216.groupby(by = 'eutrancell_cgi').agg({'rsrp_sample_count':'sum','rsrp_weak':'sum'})\n",
    "data_ok = data_ok.reset_index()"
   ]
  },
  {
   "cell_type": "code",
   "execution_count": 61,
   "metadata": {},
   "outputs": [],
   "source": [
    "gongcan = pd.read_csv(open('g:/1-规划/工参/工参数据/ltejizhan20191126.csv',encoding = 'gbk'))"
   ]
  },
  {
   "cell_type": "code",
   "execution_count": 62,
   "metadata": {},
   "outputs": [],
   "source": [
    "gongcan_FDD900 = gongcan.loc[(gongcan[' 工作频段' ]== 'FDD900')&(gongcan['所属地区' ]== '武汉')]"
   ]
  },
  {
   "cell_type": "code",
   "execution_count": 73,
   "metadata": {},
   "outputs": [],
   "source": [
    "gongcan_FDD900.to_clipboard()"
   ]
  },
  {
   "cell_type": "code",
   "execution_count": 63,
   "metadata": {},
   "outputs": [],
   "source": [
    "data_FDD900 = data_ok.merge(gongcan_FDD900,how = 'right',left_on = 'eutrancell_cgi',right_on = '小区CGI(*)',copy=True ,suffixes=('', '_y'),indicator=True)"
   ]
  },
  {
   "cell_type": "code",
   "execution_count": 64,
   "metadata": {},
   "outputs": [],
   "source": [
    "data_FDD900_ok = data_FDD900[['eutrancell_cgi','rsrp_sample_count', 'rsrp_weak',  '小区CGI(*)','所属地区', 'RRU经度', 'RRU纬度', '覆盖类别','方位角',  ' 工作频段', '归属区县', '厂家名称','_merge']]"
   ]
  },
  {
   "cell_type": "code",
   "execution_count": 65,
   "metadata": {
    "scrolled": true
   },
   "outputs": [
    {
     "name": "stderr",
     "output_type": "stream",
     "text": [
      "C:\\ProgramData\\Anaconda3\\lib\\site-packages\\ipykernel_launcher.py:1: SettingWithCopyWarning: \n",
      "A value is trying to be set on a copy of a slice from a DataFrame.\n",
      "Try using .loc[row_indexer,col_indexer] = value instead\n",
      "\n",
      "See the caveats in the documentation: http://pandas.pydata.org/pandas-docs/stable/user_guide/indexing.html#returning-a-view-versus-a-copy\n",
      "  \"\"\"Entry point for launching an IPython kernel.\n"
     ]
    }
   ],
   "source": [
    "data_FDD900_ok['fgl'] = 1 - data_FDD900_ok['rsrp_weak'] / data_FDD900_ok['rsrp_sample_count'] \n",
    "data_FDD900_ok.loc[data_FDD900_ok['fgl']<0.9,'弱覆盖小区'] = 1"
   ]
  },
  {
   "cell_type": "code",
   "execution_count": 66,
   "metadata": {},
   "outputs": [
    {
     "data": {
      "text/html": [
       "<div>\n",
       "<style scoped>\n",
       "    .dataframe tbody tr th:only-of-type {\n",
       "        vertical-align: middle;\n",
       "    }\n",
       "\n",
       "    .dataframe tbody tr th {\n",
       "        vertical-align: top;\n",
       "    }\n",
       "\n",
       "    .dataframe thead th {\n",
       "        text-align: right;\n",
       "    }\n",
       "</style>\n",
       "<table border=\"1\" class=\"dataframe\">\n",
       "  <thead>\n",
       "    <tr style=\"text-align: right;\">\n",
       "      <th></th>\n",
       "      <th>eutrancell_cgi</th>\n",
       "      <th>rsrp_sample_count</th>\n",
       "      <th>rsrp_weak</th>\n",
       "      <th>小区CGI(*)</th>\n",
       "      <th>所属地区</th>\n",
       "      <th>RRU经度</th>\n",
       "      <th>RRU纬度</th>\n",
       "      <th>覆盖类别</th>\n",
       "      <th>方位角</th>\n",
       "      <th>工作频段</th>\n",
       "      <th>厂家名称</th>\n",
       "      <th>_merge</th>\n",
       "      <th>fgl</th>\n",
       "      <th>弱覆盖小区</th>\n",
       "    </tr>\n",
       "    <tr>\n",
       "      <th>归属区县</th>\n",
       "      <th></th>\n",
       "      <th></th>\n",
       "      <th></th>\n",
       "      <th></th>\n",
       "      <th></th>\n",
       "      <th></th>\n",
       "      <th></th>\n",
       "      <th></th>\n",
       "      <th></th>\n",
       "      <th></th>\n",
       "      <th></th>\n",
       "      <th></th>\n",
       "      <th></th>\n",
       "      <th></th>\n",
       "    </tr>\n",
       "  </thead>\n",
       "  <tbody>\n",
       "    <tr>\n",
       "      <td>东湖高新开发区</td>\n",
       "      <td>1287</td>\n",
       "      <td>1287</td>\n",
       "      <td>1287</td>\n",
       "      <td>1724</td>\n",
       "      <td>1724</td>\n",
       "      <td>1712</td>\n",
       "      <td>1712</td>\n",
       "      <td>1724</td>\n",
       "      <td>1712</td>\n",
       "      <td>1724</td>\n",
       "      <td>1724</td>\n",
       "      <td>1724</td>\n",
       "      <td>1287</td>\n",
       "      <td>129</td>\n",
       "    </tr>\n",
       "    <tr>\n",
       "      <td>东西湖区</td>\n",
       "      <td>888</td>\n",
       "      <td>888</td>\n",
       "      <td>888</td>\n",
       "      <td>1100</td>\n",
       "      <td>1100</td>\n",
       "      <td>1097</td>\n",
       "      <td>1097</td>\n",
       "      <td>1100</td>\n",
       "      <td>1094</td>\n",
       "      <td>1100</td>\n",
       "      <td>1100</td>\n",
       "      <td>1100</td>\n",
       "      <td>888</td>\n",
       "      <td>105</td>\n",
       "    </tr>\n",
       "    <tr>\n",
       "      <td>新洲县</td>\n",
       "      <td>1008</td>\n",
       "      <td>1008</td>\n",
       "      <td>1008</td>\n",
       "      <td>1117</td>\n",
       "      <td>1117</td>\n",
       "      <td>1117</td>\n",
       "      <td>1117</td>\n",
       "      <td>1117</td>\n",
       "      <td>1117</td>\n",
       "      <td>1117</td>\n",
       "      <td>1117</td>\n",
       "      <td>1117</td>\n",
       "      <td>1008</td>\n",
       "      <td>247</td>\n",
       "    </tr>\n",
       "    <tr>\n",
       "      <td>武昌区</td>\n",
       "      <td>590</td>\n",
       "      <td>590</td>\n",
       "      <td>590</td>\n",
       "      <td>794</td>\n",
       "      <td>794</td>\n",
       "      <td>782</td>\n",
       "      <td>782</td>\n",
       "      <td>794</td>\n",
       "      <td>776</td>\n",
       "      <td>794</td>\n",
       "      <td>794</td>\n",
       "      <td>794</td>\n",
       "      <td>590</td>\n",
       "      <td>68</td>\n",
       "    </tr>\n",
       "    <tr>\n",
       "      <td>武汉市</td>\n",
       "      <td>0</td>\n",
       "      <td>0</td>\n",
       "      <td>0</td>\n",
       "      <td>8</td>\n",
       "      <td>8</td>\n",
       "      <td>5</td>\n",
       "      <td>5</td>\n",
       "      <td>5</td>\n",
       "      <td>5</td>\n",
       "      <td>8</td>\n",
       "      <td>8</td>\n",
       "      <td>8</td>\n",
       "      <td>0</td>\n",
       "      <td>0</td>\n",
       "    </tr>\n",
       "    <tr>\n",
       "      <td>汉阳区</td>\n",
       "      <td>640</td>\n",
       "      <td>640</td>\n",
       "      <td>640</td>\n",
       "      <td>756</td>\n",
       "      <td>756</td>\n",
       "      <td>750</td>\n",
       "      <td>750</td>\n",
       "      <td>756</td>\n",
       "      <td>750</td>\n",
       "      <td>756</td>\n",
       "      <td>756</td>\n",
       "      <td>756</td>\n",
       "      <td>640</td>\n",
       "      <td>56</td>\n",
       "    </tr>\n",
       "    <tr>\n",
       "      <td>江夏区</td>\n",
       "      <td>1148</td>\n",
       "      <td>1148</td>\n",
       "      <td>1148</td>\n",
       "      <td>1438</td>\n",
       "      <td>1438</td>\n",
       "      <td>1423</td>\n",
       "      <td>1423</td>\n",
       "      <td>1438</td>\n",
       "      <td>1416</td>\n",
       "      <td>1438</td>\n",
       "      <td>1438</td>\n",
       "      <td>1438</td>\n",
       "      <td>1148</td>\n",
       "      <td>271</td>\n",
       "    </tr>\n",
       "    <tr>\n",
       "      <td>江岸区</td>\n",
       "      <td>668</td>\n",
       "      <td>668</td>\n",
       "      <td>668</td>\n",
       "      <td>850</td>\n",
       "      <td>850</td>\n",
       "      <td>845</td>\n",
       "      <td>845</td>\n",
       "      <td>850</td>\n",
       "      <td>845</td>\n",
       "      <td>850</td>\n",
       "      <td>850</td>\n",
       "      <td>850</td>\n",
       "      <td>668</td>\n",
       "      <td>62</td>\n",
       "    </tr>\n",
       "    <tr>\n",
       "      <td>江汉区</td>\n",
       "      <td>422</td>\n",
       "      <td>422</td>\n",
       "      <td>422</td>\n",
       "      <td>507</td>\n",
       "      <td>507</td>\n",
       "      <td>504</td>\n",
       "      <td>504</td>\n",
       "      <td>507</td>\n",
       "      <td>504</td>\n",
       "      <td>507</td>\n",
       "      <td>507</td>\n",
       "      <td>507</td>\n",
       "      <td>422</td>\n",
       "      <td>26</td>\n",
       "    </tr>\n",
       "    <tr>\n",
       "      <td>洪山区</td>\n",
       "      <td>624</td>\n",
       "      <td>624</td>\n",
       "      <td>624</td>\n",
       "      <td>824</td>\n",
       "      <td>824</td>\n",
       "      <td>818</td>\n",
       "      <td>818</td>\n",
       "      <td>824</td>\n",
       "      <td>818</td>\n",
       "      <td>824</td>\n",
       "      <td>824</td>\n",
       "      <td>824</td>\n",
       "      <td>624</td>\n",
       "      <td>27</td>\n",
       "    </tr>\n",
       "    <tr>\n",
       "      <td>硚口区</td>\n",
       "      <td>449</td>\n",
       "      <td>449</td>\n",
       "      <td>449</td>\n",
       "      <td>549</td>\n",
       "      <td>549</td>\n",
       "      <td>546</td>\n",
       "      <td>546</td>\n",
       "      <td>549</td>\n",
       "      <td>546</td>\n",
       "      <td>549</td>\n",
       "      <td>549</td>\n",
       "      <td>549</td>\n",
       "      <td>449</td>\n",
       "      <td>29</td>\n",
       "    </tr>\n",
       "    <tr>\n",
       "      <td>经开区</td>\n",
       "      <td>729</td>\n",
       "      <td>729</td>\n",
       "      <td>729</td>\n",
       "      <td>1032</td>\n",
       "      <td>1032</td>\n",
       "      <td>1026</td>\n",
       "      <td>1026</td>\n",
       "      <td>1032</td>\n",
       "      <td>1026</td>\n",
       "      <td>1032</td>\n",
       "      <td>1032</td>\n",
       "      <td>1032</td>\n",
       "      <td>729</td>\n",
       "      <td>79</td>\n",
       "    </tr>\n",
       "    <tr>\n",
       "      <td>蔡甸区</td>\n",
       "      <td>914</td>\n",
       "      <td>914</td>\n",
       "      <td>914</td>\n",
       "      <td>1090</td>\n",
       "      <td>1090</td>\n",
       "      <td>1090</td>\n",
       "      <td>1090</td>\n",
       "      <td>1090</td>\n",
       "      <td>1090</td>\n",
       "      <td>1090</td>\n",
       "      <td>1090</td>\n",
       "      <td>1090</td>\n",
       "      <td>914</td>\n",
       "      <td>137</td>\n",
       "    </tr>\n",
       "    <tr>\n",
       "      <td>青山区</td>\n",
       "      <td>935</td>\n",
       "      <td>935</td>\n",
       "      <td>935</td>\n",
       "      <td>1271</td>\n",
       "      <td>1271</td>\n",
       "      <td>1268</td>\n",
       "      <td>1268</td>\n",
       "      <td>1271</td>\n",
       "      <td>1264</td>\n",
       "      <td>1271</td>\n",
       "      <td>1271</td>\n",
       "      <td>1271</td>\n",
       "      <td>935</td>\n",
       "      <td>100</td>\n",
       "    </tr>\n",
       "    <tr>\n",
       "      <td>黄陂县</td>\n",
       "      <td>1374</td>\n",
       "      <td>1374</td>\n",
       "      <td>1374</td>\n",
       "      <td>1775</td>\n",
       "      <td>1775</td>\n",
       "      <td>1754</td>\n",
       "      <td>1754</td>\n",
       "      <td>1775</td>\n",
       "      <td>1754</td>\n",
       "      <td>1775</td>\n",
       "      <td>1775</td>\n",
       "      <td>1775</td>\n",
       "      <td>1374</td>\n",
       "      <td>484</td>\n",
       "    </tr>\n",
       "  </tbody>\n",
       "</table>\n",
       "</div>"
      ],
      "text/plain": [
       "         eutrancell_cgi  rsrp_sample_count  rsrp_weak  小区CGI(*)  所属地区  RRU经度  \\\n",
       "归属区县                                                                           \n",
       "东湖高新开发区            1287               1287       1287      1724  1724   1712   \n",
       "东西湖区                888                888        888      1100  1100   1097   \n",
       "新洲县                1008               1008       1008      1117  1117   1117   \n",
       "武昌区                 590                590        590       794   794    782   \n",
       "武汉市                   0                  0          0         8     8      5   \n",
       "汉阳区                 640                640        640       756   756    750   \n",
       "江夏区                1148               1148       1148      1438  1438   1423   \n",
       "江岸区                 668                668        668       850   850    845   \n",
       "江汉区                 422                422        422       507   507    504   \n",
       "洪山区                 624                624        624       824   824    818   \n",
       "硚口区                 449                449        449       549   549    546   \n",
       "经开区                 729                729        729      1032  1032   1026   \n",
       "蔡甸区                 914                914        914      1090  1090   1090   \n",
       "青山区                 935                935        935      1271  1271   1268   \n",
       "黄陂县                1374               1374       1374      1775  1775   1754   \n",
       "\n",
       "         RRU纬度  覆盖类别   方位角   工作频段  厂家名称  _merge   fgl  弱覆盖小区  \n",
       "归属区县                                                          \n",
       "东湖高新开发区   1712  1724  1712   1724  1724    1724  1287    129  \n",
       "东西湖区      1097  1100  1094   1100  1100    1100   888    105  \n",
       "新洲县       1117  1117  1117   1117  1117    1117  1008    247  \n",
       "武昌区        782   794   776    794   794     794   590     68  \n",
       "武汉市          5     5     5      8     8       8     0      0  \n",
       "汉阳区        750   756   750    756   756     756   640     56  \n",
       "江夏区       1423  1438  1416   1438  1438    1438  1148    271  \n",
       "江岸区        845   850   845    850   850     850   668     62  \n",
       "江汉区        504   507   504    507   507     507   422     26  \n",
       "洪山区        818   824   818    824   824     824   624     27  \n",
       "硚口区        546   549   546    549   549     549   449     29  \n",
       "经开区       1026  1032  1026   1032  1032    1032   729     79  \n",
       "蔡甸区       1090  1090  1090   1090  1090    1090   914    137  \n",
       "青山区       1268  1271  1264   1271  1271    1271   935    100  \n",
       "黄陂县       1754  1775  1754   1775  1775    1775  1374    484  "
      ]
     },
     "execution_count": 66,
     "metadata": {},
     "output_type": "execute_result"
    }
   ],
   "source": [
    "data_FDD900_ok.groupby(by = '归属区县').count()"
   ]
  },
  {
   "cell_type": "code",
   "execution_count": 67,
   "metadata": {},
   "outputs": [],
   "source": [
    "tongji=data_FDD900_ok.groupby(by = ['所属地区','归属区县']).agg({'小区CGI(*)':'count','eutrancell_cgi':'count','弱覆盖小区':'count','rsrp_sample_count':'sum','rsrp_weak':'sum'})"
   ]
  },
  {
   "cell_type": "code",
   "execution_count": 70,
   "metadata": {},
   "outputs": [],
   "source": [
    "a =tongji[['小区CGI(*)','eutrancell_cgi','弱覆盖小区','rsrp_sample_count','rsrp_weak']].sum()\n",
    "a.name='总计'\n",
    "tongji = tongji.append(a)"
   ]
  },
  {
   "cell_type": "code",
   "execution_count": 71,
   "metadata": {
    "scrolled": true
   },
   "outputs": [
    {
     "data": {
      "text/html": [
       "<div>\n",
       "<style scoped>\n",
       "    .dataframe tbody tr th:only-of-type {\n",
       "        vertical-align: middle;\n",
       "    }\n",
       "\n",
       "    .dataframe tbody tr th {\n",
       "        vertical-align: top;\n",
       "    }\n",
       "\n",
       "    .dataframe thead th {\n",
       "        text-align: right;\n",
       "    }\n",
       "</style>\n",
       "<table border=\"1\" class=\"dataframe\">\n",
       "  <thead>\n",
       "    <tr style=\"text-align: right;\">\n",
       "      <th></th>\n",
       "      <th>小区CGI(*)</th>\n",
       "      <th>eutrancell_cgi</th>\n",
       "      <th>弱覆盖小区</th>\n",
       "      <th>rsrp_sample_count</th>\n",
       "      <th>rsrp_weak</th>\n",
       "    </tr>\n",
       "  </thead>\n",
       "  <tbody>\n",
       "    <tr>\n",
       "      <td>(武汉, 东湖高新开发区)</td>\n",
       "      <td>1724.0</td>\n",
       "      <td>1287.0</td>\n",
       "      <td>129.0</td>\n",
       "      <td>120148579.0</td>\n",
       "      <td>4413313.0</td>\n",
       "    </tr>\n",
       "    <tr>\n",
       "      <td>(武汉, 东西湖区)</td>\n",
       "      <td>1100.0</td>\n",
       "      <td>888.0</td>\n",
       "      <td>105.0</td>\n",
       "      <td>44151034.0</td>\n",
       "      <td>2036139.0</td>\n",
       "    </tr>\n",
       "    <tr>\n",
       "      <td>(武汉, 新洲县)</td>\n",
       "      <td>1117.0</td>\n",
       "      <td>1008.0</td>\n",
       "      <td>247.0</td>\n",
       "      <td>37332099.0</td>\n",
       "      <td>2703952.0</td>\n",
       "    </tr>\n",
       "    <tr>\n",
       "      <td>(武汉, 武昌区)</td>\n",
       "      <td>794.0</td>\n",
       "      <td>590.0</td>\n",
       "      <td>68.0</td>\n",
       "      <td>39770290.0</td>\n",
       "      <td>1613960.0</td>\n",
       "    </tr>\n",
       "    <tr>\n",
       "      <td>(武汉, 武汉市)</td>\n",
       "      <td>8.0</td>\n",
       "      <td>0.0</td>\n",
       "      <td>0.0</td>\n",
       "      <td>0.0</td>\n",
       "      <td>0.0</td>\n",
       "    </tr>\n",
       "    <tr>\n",
       "      <td>(武汉, 汉阳区)</td>\n",
       "      <td>756.0</td>\n",
       "      <td>640.0</td>\n",
       "      <td>56.0</td>\n",
       "      <td>28597499.0</td>\n",
       "      <td>951792.0</td>\n",
       "    </tr>\n",
       "    <tr>\n",
       "      <td>(武汉, 江夏区)</td>\n",
       "      <td>1438.0</td>\n",
       "      <td>1148.0</td>\n",
       "      <td>271.0</td>\n",
       "      <td>65986139.0</td>\n",
       "      <td>4022152.0</td>\n",
       "    </tr>\n",
       "    <tr>\n",
       "      <td>(武汉, 江岸区)</td>\n",
       "      <td>850.0</td>\n",
       "      <td>668.0</td>\n",
       "      <td>62.0</td>\n",
       "      <td>25622605.0</td>\n",
       "      <td>855156.0</td>\n",
       "    </tr>\n",
       "    <tr>\n",
       "      <td>(武汉, 江汉区)</td>\n",
       "      <td>507.0</td>\n",
       "      <td>422.0</td>\n",
       "      <td>26.0</td>\n",
       "      <td>24513945.0</td>\n",
       "      <td>816218.0</td>\n",
       "    </tr>\n",
       "    <tr>\n",
       "      <td>(武汉, 洪山区)</td>\n",
       "      <td>824.0</td>\n",
       "      <td>624.0</td>\n",
       "      <td>27.0</td>\n",
       "      <td>68185691.0</td>\n",
       "      <td>2018404.0</td>\n",
       "    </tr>\n",
       "    <tr>\n",
       "      <td>(武汉, 硚口区)</td>\n",
       "      <td>549.0</td>\n",
       "      <td>449.0</td>\n",
       "      <td>29.0</td>\n",
       "      <td>17357370.0</td>\n",
       "      <td>528950.0</td>\n",
       "    </tr>\n",
       "    <tr>\n",
       "      <td>(武汉, 经开区)</td>\n",
       "      <td>1032.0</td>\n",
       "      <td>729.0</td>\n",
       "      <td>79.0</td>\n",
       "      <td>30519824.0</td>\n",
       "      <td>1059473.0</td>\n",
       "    </tr>\n",
       "    <tr>\n",
       "      <td>(武汉, 蔡甸区)</td>\n",
       "      <td>1090.0</td>\n",
       "      <td>914.0</td>\n",
       "      <td>137.0</td>\n",
       "      <td>34995462.0</td>\n",
       "      <td>1717914.0</td>\n",
       "    </tr>\n",
       "    <tr>\n",
       "      <td>(武汉, 青山区)</td>\n",
       "      <td>1271.0</td>\n",
       "      <td>935.0</td>\n",
       "      <td>100.0</td>\n",
       "      <td>49469791.0</td>\n",
       "      <td>2019054.0</td>\n",
       "    </tr>\n",
       "    <tr>\n",
       "      <td>(武汉, 黄陂县)</td>\n",
       "      <td>1775.0</td>\n",
       "      <td>1374.0</td>\n",
       "      <td>484.0</td>\n",
       "      <td>57183640.0</td>\n",
       "      <td>4740161.0</td>\n",
       "    </tr>\n",
       "    <tr>\n",
       "      <td>总计</td>\n",
       "      <td>14835.0</td>\n",
       "      <td>11676.0</td>\n",
       "      <td>1820.0</td>\n",
       "      <td>643833968.0</td>\n",
       "      <td>29496638.0</td>\n",
       "    </tr>\n",
       "  </tbody>\n",
       "</table>\n",
       "</div>"
      ],
      "text/plain": [
       "               小区CGI(*)  eutrancell_cgi   弱覆盖小区  rsrp_sample_count   rsrp_weak\n",
       "(武汉, 东湖高新开发区)    1724.0          1287.0   129.0        120148579.0   4413313.0\n",
       "(武汉, 东西湖区)       1100.0           888.0   105.0         44151034.0   2036139.0\n",
       "(武汉, 新洲县)        1117.0          1008.0   247.0         37332099.0   2703952.0\n",
       "(武汉, 武昌区)         794.0           590.0    68.0         39770290.0   1613960.0\n",
       "(武汉, 武汉市)           8.0             0.0     0.0                0.0         0.0\n",
       "(武汉, 汉阳区)         756.0           640.0    56.0         28597499.0    951792.0\n",
       "(武汉, 江夏区)        1438.0          1148.0   271.0         65986139.0   4022152.0\n",
       "(武汉, 江岸区)         850.0           668.0    62.0         25622605.0    855156.0\n",
       "(武汉, 江汉区)         507.0           422.0    26.0         24513945.0    816218.0\n",
       "(武汉, 洪山区)         824.0           624.0    27.0         68185691.0   2018404.0\n",
       "(武汉, 硚口区)         549.0           449.0    29.0         17357370.0    528950.0\n",
       "(武汉, 经开区)        1032.0           729.0    79.0         30519824.0   1059473.0\n",
       "(武汉, 蔡甸区)        1090.0           914.0   137.0         34995462.0   1717914.0\n",
       "(武汉, 青山区)        1271.0           935.0   100.0         49469791.0   2019054.0\n",
       "(武汉, 黄陂县)        1775.0          1374.0   484.0         57183640.0   4740161.0\n",
       "总计              14835.0         11676.0  1820.0        643833968.0  29496638.0"
      ]
     },
     "execution_count": 71,
     "metadata": {},
     "output_type": "execute_result"
    }
   ],
   "source": [
    "tongji"
   ]
  },
  {
   "cell_type": "code",
   "execution_count": 69,
   "metadata": {},
   "outputs": [
    {
     "ename": "SyntaxError",
     "evalue": "invalid syntax (<ipython-input-69-3d2eacbf2aed>, line 1)",
     "output_type": "error",
     "traceback": [
      "\u001b[1;36m  File \u001b[1;32m\"<ipython-input-69-3d2eacbf2aed>\"\u001b[1;36m, line \u001b[1;32m1\u001b[0m\n\u001b[1;33m    14835.0 \t11664.0\u001b[0m\n\u001b[1;37m            \t      ^\u001b[0m\n\u001b[1;31mSyntaxError\u001b[0m\u001b[1;31m:\u001b[0m invalid syntax\n"
     ]
    }
   ],
   "source": [
    "14835.0 \t11664.0 \t11676"
   ]
  },
  {
   "cell_type": "code",
   "execution_count": 50,
   "metadata": {},
   "outputs": [],
   "source": [
    "data_FDD900_ok.to_csv('queshao.csv',encoding = 'gbk')"
   ]
  },
  {
   "cell_type": "code",
   "execution_count": 51,
   "metadata": {},
   "outputs": [],
   "source": []
  },
  {
   "cell_type": "code",
   "execution_count": 52,
   "metadata": {},
   "outputs": [
    {
     "data": {
      "text/plain": [
       "1.0"
      ]
     },
     "execution_count": 52,
     "metadata": {},
     "output_type": "execute_result"
    }
   ],
   "source": [
    "x"
   ]
  },
  {
   "cell_type": "code",
   "execution_count": 32,
   "metadata": {},
   "outputs": [
    {
     "data": {
      "text/plain": [
       "(14835, 60)"
      ]
     },
     "execution_count": 32,
     "metadata": {},
     "output_type": "execute_result"
    }
   ],
   "source": [
    "gongcan_FDD900.shape"
   ]
  },
  {
   "cell_type": "markdown",
   "metadata": {},
   "source": [
    "# 软采小区13-16"
   ]
  },
  {
   "cell_type": "code",
   "execution_count": null,
   "metadata": {},
   "outputs": [],
   "source": [
    "data_11_16 = pd.read_csv(open('G:/1-规划/7734/7734质检/20191120数据质检7734/数据/11131116cgi.csv',encoding = 'utf8'),sep = '\\t')\n",
    "data_11_19 = pd.read_csv(open('G:/1-规划/7734/7734质检/20191120数据质检7734/数据/11171119cgi.csv',encoding = 'utf8'),sep = '\\t')\n",
    "\n",
    "data = pd.concat([data_11_16,data_11_19])\n",
    "\n",
    "data_ok = data.loc[ (data['day'].isin([20191113,20191114,20191115,20191116]))]\n",
    "data_ok = data_ok.groupby(by = 'eutrancell_cgi').agg({'rsrp_sample_count':'sum','rsrp_weak':'sum'})\n",
    "data_ok = data_ok.reset_index()"
   ]
  },
  {
   "cell_type": "code",
   "execution_count": null,
   "metadata": {},
   "outputs": [],
   "source": [
    "gongcan = pd.read_csv(open('g:/1-规划/工参/工参数据/ltejizhan20191126.csv',encoding = 'gbk'))"
   ]
  },
  {
   "cell_type": "code",
   "execution_count": null,
   "metadata": {},
   "outputs": [],
   "source": [
    "gongcan_FDD900 = gongcan.loc[(gongcan[' 工作频段' ]== 'FDD900')&(gongcan['所属地区' ]== '武汉')]"
   ]
  },
  {
   "cell_type": "code",
   "execution_count": null,
   "metadata": {
    "scrolled": false
   },
   "outputs": [],
   "source": [
    "gongcan_FDD900.shape"
   ]
  },
  {
   "cell_type": "code",
   "execution_count": null,
   "metadata": {},
   "outputs": [],
   "source": [
    "gongcan.columns,data.columns"
   ]
  },
  {
   "cell_type": "code",
   "execution_count": null,
   "metadata": {},
   "outputs": [],
   "source": [
    "data_FDD900 = data_ok.merge(gongcan_FDD900,how = 'right',left_on = 'eutrancell_cgi',right_on = '小区CGI(*)',copy=True ,suffixes=('', '_y'),indicator=True)"
   ]
  },
  {
   "cell_type": "code",
   "execution_count": null,
   "metadata": {},
   "outputs": [],
   "source": [
    "data_FDD900.shape"
   ]
  },
  {
   "cell_type": "code",
   "execution_count": null,
   "metadata": {},
   "outputs": [],
   "source": [
    "data_FDD900.columns"
   ]
  },
  {
   "cell_type": "code",
   "execution_count": null,
   "metadata": {},
   "outputs": [],
   "source": [
    "data_FDD900_ok = data_FDD900[['eutrancell_cgi','rsrp_sample_count', 'rsrp_weak',  '小区CGI(*)','所属地区', 'RRU经度', 'RRU纬度', '覆盖类别','方位角',  ' 工作频段', '归属区县', '厂家名称','_merge']]"
   ]
  },
  {
   "cell_type": "code",
   "execution_count": null,
   "metadata": {
    "scrolled": true
   },
   "outputs": [],
   "source": [
    "data_FDD900_ok['fgl'] = 1 - data_FDD900_ok['rsrp_weak'] / data_FDD900_ok['rsrp_sample_count'] \n",
    "data_FDD900_ok.loc[data_FDD900_ok['fgl']<0.9,'弱覆盖小区'] = 1"
   ]
  },
  {
   "cell_type": "code",
   "execution_count": null,
   "metadata": {},
   "outputs": [],
   "source": [
    "data_FDD900_ok.groupby(by = '归属区县').count()"
   ]
  },
  {
   "cell_type": "code",
   "execution_count": null,
   "metadata": {
    "scrolled": false
   },
   "outputs": [],
   "source": [
    "data_FDD900_ok.groupby(by = ['所属地区','归属区县']).agg({'小区CGI(*)':'count','eutrancell_cgi':'count','弱覆盖小区':'count','rsrp_sample_count':'sum','rsrp_weak':'sum'})"
   ]
  },
  {
   "cell_type": "markdown",
   "metadata": {},
   "source": [
    "# 设计院700万个采样点-仿真"
   ]
  },
  {
   "cell_type": "code",
   "execution_count": null,
   "metadata": {},
   "outputs": [],
   "source": [
    "a =open('G:/1-规划/评估/FDD900评估/1-数据/武汉F900-1114_[LTE].txt')\n",
    "\n",
    "ines = a.readlines()[11:]\n",
    "\n",
    "data = pd.DataFrame({'name':ines})"
   ]
  },
  {
   "cell_type": "code",
   "execution_count": null,
   "metadata": {},
   "outputs": [],
   "source": [
    "data_name = data['name'].str.split('\\\\n',expand=True)\n",
    "\n",
    "data_name.columns = ['name2','meiyou']"
   ]
  },
  {
   "cell_type": "code",
   "execution_count": null,
   "metadata": {},
   "outputs": [],
   "source": [
    "data_name2 = data_name['name2'].str.split(';',expand=True)"
   ]
  },
  {
   "cell_type": "code",
   "execution_count": null,
   "metadata": {},
   "outputs": [],
   "source": [
    "data_name2.columns = ['lon','lat','cell','rsrp']"
   ]
  },
  {
   "cell_type": "code",
   "execution_count": null,
   "metadata": {},
   "outputs": [],
   "source": [
    "data_name2.to_csv('G:/1-规划/评估/FDD900评估/1-数据/700wan.csv',encoding = 'gbk',index = False)"
   ]
  },
  {
   "cell_type": "code",
   "execution_count": null,
   "metadata": {},
   "outputs": [],
   "source": [
    "data_name2 = pd.read_csv(open('G:/1-规划/评估/FDD900评估/1-数据/700wan.csv',encoding = 'gbk'))"
   ]
  },
  {
   "cell_type": "code",
   "execution_count": null,
   "metadata": {
    "scrolled": true
   },
   "outputs": [],
   "source": [
    "data_name2.swaplevel"
   ]
  },
  {
   "cell_type": "code",
   "execution_count": null,
   "metadata": {},
   "outputs": [],
   "source": [
    "data_p = nt.add_points(data_name2,coords=['lon', 'lat', '', ''])"
   ]
  },
  {
   "cell_type": "code",
   "execution_count": null,
   "metadata": {
    "scrolled": true
   },
   "outputs": [],
   "source": [
    "data_p.plot(figsize = [12,12])"
   ]
  },
  {
   "cell_type": "code",
   "execution_count": null,
   "metadata": {
    "scrolled": true
   },
   "outputs": [],
   "source": [
    "import matplotlib.pyplot as plt\n",
    "fig, ax = plt.subplots(figsize=(12,8))\n",
    " \n",
    "ax.set_aspect('equal')\n",
    "# 几何图形绘制\n",
    "wuhan_quxian.plot(ax=ax, color='white', edgecolor='black')\n",
    " \n",
    "# 地图点标注\n",
    "data_p.plot(ax=ax, marker='o', color='black', markersize=0.1)"
   ]
  },
  {
   "cell_type": "markdown",
   "metadata": {},
   "source": [
    "# 栅格分场景划分"
   ]
  },
  {
   "cell_type": "code",
   "execution_count": null,
   "metadata": {},
   "outputs": [],
   "source": [
    "def map_daoru():\n",
    "    #导入图层\n",
    "    map_programme= gpd.read_file('G:/1-规划/图层/全省区域规划图层20190424/全省区域规划图层20190424/全省区域规划图层20190424.TAB')\n",
    "    #筛选武汉图层\n",
    "    map_programme_wuhan = map_programme.loc[map_programme['地市名称'] == '武汉']\n",
    "    #计算武汉图层各场景的面积，面积单位为平方公里，每平方公里有100个100*100的栅格。\n",
    "    mianji = map_programme_wuhan.groupby(by = '区域类型').agg({'覆盖面积':'sum'})\n",
    "    return map_programme_wuhan,mianji"
   ]
  },
  {
   "cell_type": "code",
   "execution_count": null,
   "metadata": {
    "scrolled": true
   },
   "outputs": [],
   "source": [
    "#导入栅格数据，小区级别的对应栅格\n",
    "grid_cell = pd.read_csv(open('G:/1-规划/评估/FDD900评估/3-输出/20191216第三版更新软采数据/栅格/zm1214all/zm1214all.csv',encoding = 'utf8'),sep='\\t')\n",
    "#按照栅格名称去重24806去重后剩余18426\n",
    "grid_cell_sum = grid_cell.groupby(by = 'grid_id_100').sum()\n",
    "grid_cell_sum.reset_index(inplace = True)\n",
    "grid_cell_sum = grid_cell_sum[['_c5','_c6','grid_id_100']]\n",
    "\n",
    "grid_cell_qc = grid_cell.drop_duplicates('grid_id_100')\n",
    "grid_cell_qc.drop(['_c5','_c6'],axis=1,inplace = True)\n",
    "grid_cell_qc_1 = grid_cell_qc.merge(grid_cell_sum,how = 'left',on = 'grid_id_100')\n",
    "\n",
    "\n",
    "#制作栅格为图层\n",
    "grid_cell_p = app.tools.add_points(grid_cell_qc_1, lon='_c2', lat='_c3')"
   ]
  },
  {
   "cell_type": "code",
   "execution_count": null,
   "metadata": {},
   "outputs": [],
   "source": [
    "grid_cell_p.shape"
   ]
  },
  {
   "cell_type": "code",
   "execution_count": null,
   "metadata": {},
   "outputs": [],
   "source": [
    "#图层范围内的栅格共计7444\n",
    "map_programme , mianji =map_daoru()\n",
    "res = gpd.sjoin(grid_cell_p,map_programme)"
   ]
  },
  {
   "cell_type": "code",
   "execution_count": null,
   "metadata": {},
   "outputs": [],
   "source": [
    "#导入江南区域\n",
    "jiangnan = gpd.read_file('G:/1-规划/图层/武汉分公司图层20190109/江南/江南.TAB')\n",
    "jiangnan = jiangnan.to_crs({'init': 'epsg:4326'})"
   ]
  },
  {
   "cell_type": "code",
   "execution_count": null,
   "metadata": {},
   "outputs": [],
   "source": [
    "res.drop(['index_right'],axis=1,inplace = True)\n",
    "res1 = gpd.sjoin(jiangnan,res)\n",
    "zong_res = gpd.sjoin(jiangnan,grid_cell_p)\n",
    "res1 = res1[['区县划分','grid_id_100']]"
   ]
  },
  {
   "cell_type": "code",
   "execution_count": null,
   "metadata": {},
   "outputs": [],
   "source": [
    "print('武汉总数量',grid_cell_p.shape,'场景内总数量',res.shape,'江南总数量：',zong_res.shape,'江南场景内数量：',res1.shape)"
   ]
  },
  {
   "cell_type": "code",
   "execution_count": null,
   "metadata": {},
   "outputs": [],
   "source": [
    "res2 = res.merge(res1 , how ='left',on = 'grid_id_100')"
   ]
  },
  {
   "cell_type": "code",
   "execution_count": null,
   "metadata": {},
   "outputs": [],
   "source": [
    "res2.loc[res2['区县划分'].isna(),'区县划分']='江北'"
   ]
  },
  {
   "cell_type": "code",
   "execution_count": null,
   "metadata": {
    "scrolled": false
   },
   "outputs": [],
   "source": [
    "res2.groupby(by = ['区域类型']).agg({'地市名称':'count'})"
   ]
  },
  {
   "cell_type": "code",
   "execution_count": null,
   "metadata": {},
   "outputs": [],
   "source": [
    "#计算江南面积\n",
    "map_programme= gpd.read_file('G:/1-规划/图层/武汉分公司图层20190109/武汉市区分公司区域图层201804版/武汉市区分公司区域图层201804版/武汉市区分公司区域图层201804版.TAB')\n",
    "map_programme = map_programme.to_crs({'init': 'epsg:4326'})\n",
    "jiangnanmianji = gpd.overlay(jiangnan,map_programme)#(map_programme,jiangnan)#\n",
    "jiangnanmianji = app.tools.add_area(jiangnanmianji)\n",
    "jiangnanmianji.groupby(by = '区县划分').sum().to_clipboard()"
   ]
  },
  {
   "cell_type": "code",
   "execution_count": null,
   "metadata": {},
   "outputs": [],
   "source": [
    "#添加栅格理论数量\n",
    "mianji['count'] = mianji['覆盖面积']*100\n",
    "#统计实际的数量\n",
    "shiji_count = res.groupby(by = '区域类型').agg({'地市名称':'count'})\n",
    "#数据合并\n",
    "res_jieguo = pd.concat([mianji,shiji_count],axis=1,sort=True)"
   ]
  },
  {
   "cell_type": "code",
   "execution_count": null,
   "metadata": {},
   "outputs": [],
   "source": [
    "grid_cell_p['覆盖率']=1-grid_cell_p['_c6']/grid_cell_p['_c5']"
   ]
  },
  {
   "cell_type": "code",
   "execution_count": null,
   "metadata": {},
   "outputs": [],
   "source": [
    "#计算农村的弱覆盖数量\n",
    "grid_cell_p_j = grid_cell_p[['grid_id_100','_c5','_c6','覆盖率']]\n",
    "nc_res = grid_cell_p_j.merge(res , how = 'left',on = 'grid_id_100')"
   ]
  },
  {
   "cell_type": "code",
   "execution_count": null,
   "metadata": {},
   "outputs": [],
   "source": [
    "grid_cell_qc.head(1)"
   ]
  },
  {
   "cell_type": "code",
   "execution_count": null,
   "metadata": {},
   "outputs": [],
   "source": [
    "nc_res['覆盖率_x'] = 1-nc_res['_c6_x']/nc_res['_c5_x']\n",
    "nc_res_90 = nc_res.loc[nc_res['覆盖率_x']<0.9]\n",
    "jiangnan_r = zong_res.merge(nc_res_90,how = 'inner',on = 'grid_id_100')\n",
    "print('带农村数量的弱覆盖数：',nc_res_90.shape,'其中江南数量为',jiangnan_r.shape)\n",
    "nc_res_90.groupby(by = '区域类型').agg({'地市名称':'count'})"
   ]
  },
  {
   "cell_type": "code",
   "execution_count": null,
   "metadata": {},
   "outputs": [],
   "source": [
    "nc_res_90_tu = nc_res_90[['grid_id_100','_c5_x','_c6_x','覆盖率_x','区域类型']]\n",
    "nc_res_90_tu_1 = nc_res_90_tu.merge(grid_cell_qc,how = 'left',on = 'grid_id_100')\n",
    "print('弱覆盖小区数量为',nc_res_90_tu_1.shape[0])\n",
    "#输出为csv\n",
    "nc_res_90_tu_1.to_csv('g:/1-规划/评估/FDD900评估/3-输出/res_场景内小于90%的栅格.csv',encoding = 'gbk',index = False)\n",
    "#统计分场景的数量\n",
    "nc_res_90_tu_1.groupby(by = '区域类型').agg({'grid_id_100':'count'})"
   ]
  },
  {
   "cell_type": "code",
   "execution_count": 9,
   "metadata": {},
   "outputs": [],
   "source": [
    "from shapely.geometry import Polygon\n",
    "from geographiclib.geodesic import Geodesic"
   ]
  },
  {
   "cell_type": "code",
   "execution_count": null,
   "metadata": {},
   "outputs": [],
   "source": [
    "res_90.reset_index(drop=True,inplace = True)"
   ]
  },
  {
   "cell_type": "code",
   "execution_count": 7,
   "metadata": {},
   "outputs": [],
   "source": [
    "def __fwjuli(lonlat=['lon','lat'],juli = 70):\n",
    "    lon,lat = lonlat\n",
    "    list_lonlat = []\n",
    "    p_1=Geodesic.WGS84.Direct(lat, lon, 45, juli)\n",
    "    p_2=Geodesic.WGS84.Direct(lat, lon, 225, juli)\n",
    "    max_lon = p_1['lon2']\n",
    "    max_lat = p_1['lat2']\n",
    "    min_lon = p_2['lon2']\n",
    "    min_lat = p_2['lat2']\n",
    "    tu2 = [(min_lon,min_lat),(max_lon,min_lat),(max_lon,max_lat),(min_lon,max_lat),(min_lon,min_lat)]\n",
    "    tu = Polygon([(min_lon,min_lat),(max_lon,min_lat),(max_lon,max_lat),(min_lon,max_lat),(min_lon,min_lat)])\n",
    "    return tu"
   ]
  },
  {
   "cell_type": "code",
   "execution_count": 2,
   "metadata": {},
   "outputs": [],
   "source": [
    "import pandas as pd"
   ]
  },
  {
   "cell_type": "code",
   "execution_count": 3,
   "metadata": {},
   "outputs": [],
   "source": [
    "#导入栅格数据，小区级别的对应栅格\n",
    "grid_cell = pd.read_csv(open('G:/1-规划/评估/FDD900评估/3-输出/20191216第三版更新软采数据/栅格/zm1214all/zm1214all.csv',encoding = 'utf8'),sep='\\t')"
   ]
  },
  {
   "cell_type": "code",
   "execution_count": 5,
   "metadata": {},
   "outputs": [
    {
     "data": {
      "text/html": [
       "<div>\n",
       "<style scoped>\n",
       "    .dataframe tbody tr th:only-of-type {\n",
       "        vertical-align: middle;\n",
       "    }\n",
       "\n",
       "    .dataframe tbody tr th {\n",
       "        vertical-align: top;\n",
       "    }\n",
       "\n",
       "    .dataframe thead th {\n",
       "        text-align: right;\n",
       "    }\n",
       "</style>\n",
       "<table border=\"1\" class=\"dataframe\">\n",
       "  <thead>\n",
       "    <tr style=\"text-align: right;\">\n",
       "      <th></th>\n",
       "      <th>eutrancell_name</th>\n",
       "      <th>grid_id_100</th>\n",
       "      <th>_c2</th>\n",
       "      <th>_c3</th>\n",
       "      <th>_c4</th>\n",
       "      <th>_c5</th>\n",
       "      <th>_c6</th>\n",
       "    </tr>\n",
       "  </thead>\n",
       "  <tbody>\n",
       "    <tr>\n",
       "      <td>0</td>\n",
       "      <td>471大学生公寓-1</td>\n",
       "      <td>50RKU-546-852-100</td>\n",
       "      <td>114.441677</td>\n",
       "      <td>30.574637</td>\n",
       "      <td>-93.888889</td>\n",
       "      <td>9</td>\n",
       "      <td>0</td>\n",
       "    </tr>\n",
       "  </tbody>\n",
       "</table>\n",
       "</div>"
      ],
      "text/plain": [
       "  eutrancell_name        grid_id_100         _c2        _c3        _c4  _c5  \\\n",
       "0      471大学生公寓-1  50RKU-546-852-100  114.441677  30.574637 -93.888889    9   \n",
       "\n",
       "   _c6  \n",
       "0    0  "
      ]
     },
     "execution_count": 5,
     "metadata": {},
     "output_type": "execute_result"
    }
   ],
   "source": [
    "grid_cell.head(1)"
   ]
  },
  {
   "cell_type": "code",
   "execution_count": 5,
   "metadata": {},
   "outputs": [
    {
     "data": {
      "text/html": [
       "<div>\n",
       "<style scoped>\n",
       "    .dataframe tbody tr th:only-of-type {\n",
       "        vertical-align: middle;\n",
       "    }\n",
       "\n",
       "    .dataframe tbody tr th {\n",
       "        vertical-align: top;\n",
       "    }\n",
       "\n",
       "    .dataframe thead th {\n",
       "        text-align: right;\n",
       "    }\n",
       "</style>\n",
       "<table border=\"1\" class=\"dataframe\">\n",
       "  <thead>\n",
       "    <tr style=\"text-align: right;\">\n",
       "      <th></th>\n",
       "      <th>eutrancell_name</th>\n",
       "      <th>grid_id_100</th>\n",
       "      <th>_c2</th>\n",
       "      <th>_c3</th>\n",
       "      <th>_c4</th>\n",
       "      <th>_c5</th>\n",
       "      <th>_c6</th>\n",
       "    </tr>\n",
       "  </thead>\n",
       "  <tbody>\n",
       "    <tr>\n",
       "      <td>0</td>\n",
       "      <td>471大学生公寓-1</td>\n",
       "      <td>50RKU-546-852-100</td>\n",
       "      <td>114.441677</td>\n",
       "      <td>30.574637</td>\n",
       "      <td>-93.888889</td>\n",
       "      <td>9</td>\n",
       "      <td>0</td>\n",
       "    </tr>\n",
       "  </tbody>\n",
       "</table>\n",
       "</div>"
      ],
      "text/plain": [
       "  eutrancell_name        grid_id_100         _c2        _c3        _c4  _c5  \\\n",
       "0      471大学生公寓-1  50RKU-546-852-100  114.441677  30.574637 -93.888889    9   \n",
       "\n",
       "   _c6  \n",
       "0    0  "
      ]
     },
     "execution_count": 5,
     "metadata": {},
     "output_type": "execute_result"
    }
   ],
   "source": [
    "grid_cell.head(1)"
   ]
  },
  {
   "cell_type": "code",
   "execution_count": 10,
   "metadata": {},
   "outputs": [],
   "source": [
    "#生成100米的方框geopandas\n",
    "df = grid_cell.copy()\n",
    "df['geometry'] = [__fwjuli(x) for x in zip(df['_c2'],df['_c3'])]\n",
    "df = gpd.GeoDataFrame(df, crs={\"init\": \"epsg:4326\"}, geometry='geometry')"
   ]
  },
  {
   "cell_type": "code",
   "execution_count": null,
   "metadata": {
    "scrolled": false
   },
   "outputs": [],
   "source": [
    "from shapely import wkt\n",
    "dfd['geometry'] = dfd['geometry'].apply(wkt.loads)\n",
    "dfd = gpd.GeoDataFrame(dfd, crs={\"init\": \"epsg:4326\"}, geometry='geometry')"
   ]
  },
  {
   "cell_type": "code",
   "execution_count": null,
   "metadata": {},
   "outputs": [],
   "source": [
    "df1 = df[['grid_id_100', '总点_x', '弱点_x', '覆盖率_x', '区域类型',  '经度', '纬度', '区县', 'geometry']]"
   ]
  },
  {
   "cell_type": "code",
   "execution_count": null,
   "metadata": {
    "scrolled": false
   },
   "outputs": [],
   "source": [
    "#导出为geojson格式\n",
    "df.to_file('G:/1-规划/评估/FDD900评估/3-输出/20191216第三版更新软采数据/栅格/弱覆盖栅格图层.geojson',driver=\"GeoJSON\",encoding = 'utf8')"
   ]
  },
  {
   "cell_type": "code",
   "execution_count": null,
   "metadata": {},
   "outputs": [],
   "source": [
    "grid_cell_qc_1['fgl']=1-grid_cell_qc_1['_c6']/grid_cell_qc_1['_c5']\n",
    "#生成100米的方框geopandas\n",
    "df = grid_cell_qc_1.copy()\n",
    "df['geometry'] = [__fwjuli(x) for x in zip(df['_c2'],df['_c3'])]\n",
    "df = gpd.GeoDataFrame(df, crs={\"init\": \"epsg:4326\"}, geometry='geometry')"
   ]
  },
  {
   "cell_type": "code",
   "execution_count": 19,
   "metadata": {},
   "outputs": [],
   "source": [
    "df.head(12).to_file('d:/aa.tab',encoding = 'utf-8')"
   ]
  },
  {
   "cell_type": "code",
   "execution_count": 20,
   "metadata": {},
   "outputs": [],
   "source": [
    "df.to_file('d:/aa.shp',encoding = 'utf-8')"
   ]
  },
  {
   "cell_type": "code",
   "execution_count": null,
   "metadata": {},
   "outputs": [],
   "source": [
    "#导出为geojson格式\n",
    "df.to_file('G:/1-规划/评估/FDD900评估/3-输出/20191216第三版更新软采数据/栅格/栅格图层.tab',driver=\"MapIfo\",encoding = 'utf8')"
   ]
  },
  {
   "cell_type": "code",
   "execution_count": null,
   "metadata": {},
   "outputs": [],
   "source": [
    "grid_cell_qc_1.to_csv('G:/1-规划/评估/FDD900评估/3-输出/20191216第三版更新软采数据/栅格/栅格汇总数据.csv',encoding='gbk')"
   ]
  },
  {
   "cell_type": "markdown",
   "metadata": {},
   "source": [
    "# FDD900站点开通情况"
   ]
  },
  {
   "cell_type": "code",
   "execution_count": null,
   "metadata": {},
   "outputs": [],
   "source": [
    "# 统计FDD900站点开通情况使用\n",
    "# 1、使用郑丞提供的FDD900站点为规划站点\n",
    "# 2、使用基站数据库的FDD900站点为开通站点\n",
    "# 3、统计武汉整体开通率"
   ]
  },
  {
   "cell_type": "code",
   "execution_count": null,
   "metadata": {},
   "outputs": [],
   "source": [
    "#导入郑丞的FDD900规划表共计5972个FDD900规划站点\n",
    "guihua_fdd900 = pd.read_excel('g:/1-规划/评估/FDD900评估/1-数据/FDD900规划数据/武汉F900规划.xlsx',encoding = 'gbk')"
   ]
  },
  {
   "cell_type": "code",
   "execution_count": null,
   "metadata": {},
   "outputs": [],
   "source": [
    "#导工参\n",
    "gongcan = pd.read_csv(open('g:/1-规划/工参/工参数据/ltejizhan20191126.csv',encoding = 'gbk'))"
   ]
  },
  {
   "cell_type": "code",
   "execution_count": null,
   "metadata": {},
   "outputs": [],
   "source": [
    "guihua_fdd900.columns"
   ]
  },
  {
   "cell_type": "code",
   "execution_count": null,
   "metadata": {},
   "outputs": [],
   "source": [
    "gongcan.columns"
   ]
  },
  {
   "cell_type": "code",
   "execution_count": null,
   "metadata": {},
   "outputs": [],
   "source": [
    "#处理工参数据\n",
    "gongcan['enodeb'] = gongcan['小区CGI(*)'].str.split('-',expand=True)[2]\n",
    "gongcan_fdd900 = gongcan.loc[(gongcan[' 工作频段'] == 'FDD900') & (gongcan['所属地区'] == '武汉')]\n",
    "quchong = gongcan_fdd900.drop_duplicates('TDL规划站号(新)')\n",
    "quchong['kaitong']='是'\n",
    "quchong.shape"
   ]
  },
  {
   "cell_type": "code",
   "execution_count": null,
   "metadata": {},
   "outputs": [],
   "source": [
    "#统计结果\n",
    "guihua_fdd900_1 = guihua_fdd900[['地市', '区县', 'TDL规划站号（新）']]\n",
    "quchong_1 = quchong[['TDL规划站号(新)','kaitong']]\n",
    "quchong_1.columns = ['TDL规划站号（新）','kaitong']"
   ]
  },
  {
   "cell_type": "code",
   "execution_count": null,
   "metadata": {
    "scrolled": true
   },
   "outputs": [],
   "source": [
    "res_zhanbi = guihua_fdd900_1.merge(quchong_1,how = 'outer',on = 'TDL规划站号（新）',indicator = True)"
   ]
  },
  {
   "cell_type": "code",
   "execution_count": null,
   "metadata": {},
   "outputs": [],
   "source": [
    "res_zhanbi.agg({'kaitong':'count','TDL规划站号（新）':'count'})"
   ]
  },
  {
   "cell_type": "code",
   "execution_count": null,
   "metadata": {},
   "outputs": [],
   "source": [
    "res_zhanbi.columns"
   ]
  },
  {
   "cell_type": "code",
   "execution_count": null,
   "metadata": {},
   "outputs": [],
   "source": [
    "res_zhanbi.groupby(by = ['_merge','区县']).agg({'TDL规划站号（新）':'count','kaitong':'count'}).to_clipboard()"
   ]
  },
  {
   "cell_type": "code",
   "execution_count": null,
   "metadata": {},
   "outputs": [],
   "source": []
  },
  {
   "cell_type": "markdown",
   "metadata": {},
   "source": [
    "# 20191225第三版"
   ]
  },
  {
   "cell_type": "code",
   "execution_count": 1,
   "metadata": {},
   "outputs": [],
   "source": [
    "import pandas as pd"
   ]
  },
  {
   "cell_type": "code",
   "execution_count": 2,
   "metadata": {},
   "outputs": [],
   "source": [
    "data_1215 = pd.read_csv(open('g:/1-规划/评估/FDD900评估/3-输出/20191225第四版更新软采数据/软采小区/1215cgi.csv',encoding='utf8'),sep='\\t')\n",
    "data_1220 = pd.read_csv(open('g:/1-规划/评估/FDD900评估/3-输出/20191225第四版更新软采数据/软采小区/12181220cgi.csv',encoding='utf8'),sep='\\t')\n",
    "data_1223 = pd.read_csv(open('g:/1-规划/评估/FDD900评估/3-输出/20191225第四版更新软采数据/软采小区/12211223cgi.csv',encoding='utf8'),sep='\\t')\n",
    "data_0809 = pd.read_csv(open('g:/1-规划/评估/FDD900评估/3-输出/20191225第四版更新软采数据/软采小区/01080109cgi.csv',encoding='utf8'),sep='\\t')"
   ]
  },
  {
   "cell_type": "code",
   "execution_count": 3,
   "metadata": {},
   "outputs": [
    {
     "data": {
      "text/plain": [
       "(400119, 16)"
      ]
     },
     "execution_count": 3,
     "metadata": {},
     "output_type": "execute_result"
    }
   ],
   "source": [
    "daat = pd.concat([data_1215,data_1220,data_1223,data_0809])\n",
    "daat.shape"
   ]
  },
  {
   "cell_type": "code",
   "execution_count": 4,
   "metadata": {},
   "outputs": [
    {
     "name": "stderr",
     "output_type": "stream",
     "text": [
      "C:\\ProgramData\\Anaconda3\\lib\\site-packages\\IPython\\core\\interactiveshell.py:3058: DtypeWarning: Columns (15,17,22,24) have mixed types. Specify dtype option on import or set low_memory=False.\n",
      "  interactivity=interactivity, compiler=compiler, result=result)\n"
     ]
    }
   ],
   "source": [
    "gongcan = pd.read_csv(open('g:/1-规划/工参/工参数据/ltejizhan20200108.csv',encoding='gbk'))"
   ]
  },
  {
   "cell_type": "code",
   "execution_count": 22,
   "metadata": {},
   "outputs": [],
   "source": [
    "gongcan_use = gongcan.loc[(gongcan['所属地区']=='武汉') & (gongcan[' 工作频段']=='FDD900')]"
   ]
  },
  {
   "cell_type": "code",
   "execution_count": 14,
   "metadata": {
    "scrolled": true
   },
   "outputs": [],
   "source": [
    "daat = daat.reset_index(drop=True)\n",
    "daat = daat.reset_index()"
   ]
  },
  {
   "cell_type": "code",
   "execution_count": 30,
   "metadata": {},
   "outputs": [
    {
     "data": {
      "text/plain": [
       "(14990, 60)"
      ]
     },
     "execution_count": 30,
     "metadata": {},
     "output_type": "execute_result"
    }
   ],
   "source": [
    "gongcan_use.shape"
   ]
  },
  {
   "cell_type": "code",
   "execution_count": 33,
   "metadata": {
    "scrolled": true
   },
   "outputs": [
    {
     "data": {
      "text/html": [
       "<div>\n",
       "<style scoped>\n",
       "    .dataframe tbody tr th:only-of-type {\n",
       "        vertical-align: middle;\n",
       "    }\n",
       "\n",
       "    .dataframe tbody tr th {\n",
       "        vertical-align: top;\n",
       "    }\n",
       "\n",
       "    .dataframe thead th {\n",
       "        text-align: right;\n",
       "    }\n",
       "</style>\n",
       "<table border=\"1\" class=\"dataframe\">\n",
       "  <thead>\n",
       "    <tr style=\"text-align: right;\">\n",
       "      <th></th>\n",
       "      <th>小区CGI(*)</th>\n",
       "      <th>小区中文名</th>\n",
       "      <th>网络制式(TDD/FDD)</th>\n",
       "      <th>TDL规划站号(新)</th>\n",
       "      <th>所属地区</th>\n",
       "      <th>工程参数标识</th>\n",
       "      <th>区县代码</th>\n",
       "      <th>基站编码</th>\n",
       "      <th>VIP基站</th>\n",
       "      <th>入网工程期</th>\n",
       "      <th>...</th>\n",
       "      <th>rsrp_sum</th>\n",
       "      <th>inter_maxrsrp_weak</th>\n",
       "      <th>un_maxrsrp_sum</th>\n",
       "      <th>un_maxrsrp_sample_count</th>\n",
       "      <th>un_maxrsrp_weak</th>\n",
       "      <th>te_maxrsrp_weak</th>\n",
       "      <th>te_maxrsrp_sample_count</th>\n",
       "      <th>te_maxrsrp_sum</th>\n",
       "      <th>te_maxrsrp_weak_l2</th>\n",
       "      <th>un_maxrsrp_weak_l2</th>\n",
       "    </tr>\n",
       "    <tr>\n",
       "      <th>_merge</th>\n",
       "      <th></th>\n",
       "      <th></th>\n",
       "      <th></th>\n",
       "      <th></th>\n",
       "      <th></th>\n",
       "      <th></th>\n",
       "      <th></th>\n",
       "      <th></th>\n",
       "      <th></th>\n",
       "      <th></th>\n",
       "      <th></th>\n",
       "      <th></th>\n",
       "      <th></th>\n",
       "      <th></th>\n",
       "      <th></th>\n",
       "      <th></th>\n",
       "      <th></th>\n",
       "      <th></th>\n",
       "      <th></th>\n",
       "      <th></th>\n",
       "      <th></th>\n",
       "    </tr>\n",
       "  </thead>\n",
       "  <tbody>\n",
       "    <tr>\n",
       "      <td>left_only</td>\n",
       "      <td>2526</td>\n",
       "      <td>2523</td>\n",
       "      <td>2526</td>\n",
       "      <td>2440</td>\n",
       "      <td>2526</td>\n",
       "      <td>2526</td>\n",
       "      <td>2461</td>\n",
       "      <td>2445</td>\n",
       "      <td>2498</td>\n",
       "      <td>2465</td>\n",
       "      <td>...</td>\n",
       "      <td>0</td>\n",
       "      <td>0</td>\n",
       "      <td>0</td>\n",
       "      <td>0</td>\n",
       "      <td>0</td>\n",
       "      <td>0</td>\n",
       "      <td>0</td>\n",
       "      <td>0</td>\n",
       "      <td>0</td>\n",
       "      <td>0</td>\n",
       "    </tr>\n",
       "    <tr>\n",
       "      <td>right_only</td>\n",
       "      <td>0</td>\n",
       "      <td>0</td>\n",
       "      <td>0</td>\n",
       "      <td>0</td>\n",
       "      <td>0</td>\n",
       "      <td>0</td>\n",
       "      <td>0</td>\n",
       "      <td>0</td>\n",
       "      <td>0</td>\n",
       "      <td>0</td>\n",
       "      <td>...</td>\n",
       "      <td>338629</td>\n",
       "      <td>338629</td>\n",
       "      <td>41401</td>\n",
       "      <td>338629</td>\n",
       "      <td>338629</td>\n",
       "      <td>338629</td>\n",
       "      <td>338629</td>\n",
       "      <td>94277</td>\n",
       "      <td>338629</td>\n",
       "      <td>338629</td>\n",
       "    </tr>\n",
       "    <tr>\n",
       "      <td>both</td>\n",
       "      <td>61490</td>\n",
       "      <td>61490</td>\n",
       "      <td>61490</td>\n",
       "      <td>61472</td>\n",
       "      <td>61490</td>\n",
       "      <td>61490</td>\n",
       "      <td>61490</td>\n",
       "      <td>59549</td>\n",
       "      <td>61490</td>\n",
       "      <td>61490</td>\n",
       "      <td>...</td>\n",
       "      <td>61490</td>\n",
       "      <td>61490</td>\n",
       "      <td>1549</td>\n",
       "      <td>61490</td>\n",
       "      <td>61490</td>\n",
       "      <td>61490</td>\n",
       "      <td>61490</td>\n",
       "      <td>23085</td>\n",
       "      <td>61490</td>\n",
       "      <td>61490</td>\n",
       "    </tr>\n",
       "  </tbody>\n",
       "</table>\n",
       "<p>3 rows × 77 columns</p>\n",
       "</div>"
      ],
      "text/plain": [
       "            小区CGI(*)  小区中文名  网络制式(TDD/FDD)  TDL规划站号(新)   所属地区  工程参数标识   区县代码  \\\n",
       "_merge                                                                         \n",
       "left_only       2526   2523           2526        2440   2526    2526   2461   \n",
       "right_only         0      0              0           0      0       0      0   \n",
       "both           61490  61490          61490       61472  61490   61490  61490   \n",
       "\n",
       "             基站编码  VIP基站  入网工程期  ...  rsrp_sum  inter_maxrsrp_weak  \\\n",
       "_merge                           ...                                 \n",
       "left_only    2445   2498   2465  ...         0                   0   \n",
       "right_only      0      0      0  ...    338629              338629   \n",
       "both        59549  61490  61490  ...     61490               61490   \n",
       "\n",
       "            un_maxrsrp_sum  un_maxrsrp_sample_count  un_maxrsrp_weak  \\\n",
       "_merge                                                                 \n",
       "left_only                0                        0                0   \n",
       "right_only           41401                   338629           338629   \n",
       "both                  1549                    61490            61490   \n",
       "\n",
       "            te_maxrsrp_weak  te_maxrsrp_sample_count  te_maxrsrp_sum  \\\n",
       "_merge                                                                 \n",
       "left_only                 0                        0               0   \n",
       "right_only           338629                   338629           94277   \n",
       "both                  61490                    61490           23085   \n",
       "\n",
       "            te_maxrsrp_weak_l2  un_maxrsrp_weak_l2  \n",
       "_merge                                              \n",
       "left_only                    0                   0  \n",
       "right_only              338629              338629  \n",
       "both                     61490               61490  \n",
       "\n",
       "[3 rows x 77 columns]"
      ]
     },
     "execution_count": 33,
     "metadata": {},
     "output_type": "execute_result"
    }
   ],
   "source": [
    "gongcan_use.merge(daat,how='outer',left_on='小区CGI(*)',right_on='eutrancell_cgi',indicator=True).groupby('_merge').count()"
   ]
  },
  {
   "cell_type": "code",
   "execution_count": 34,
   "metadata": {},
   "outputs": [
    {
     "data": {
      "text/html": [
       "<div>\n",
       "<style scoped>\n",
       "    .dataframe tbody tr th:only-of-type {\n",
       "        vertical-align: middle;\n",
       "    }\n",
       "\n",
       "    .dataframe tbody tr th {\n",
       "        vertical-align: top;\n",
       "    }\n",
       "\n",
       "    .dataframe thead th {\n",
       "        text-align: right;\n",
       "    }\n",
       "</style>\n",
       "<table border=\"1\" class=\"dataframe\">\n",
       "  <thead>\n",
       "    <tr style=\"text-align: right;\">\n",
       "      <th></th>\n",
       "      <th>小区CGI(*)</th>\n",
       "      <th>小区中文名</th>\n",
       "      <th>网络制式(TDD/FDD)</th>\n",
       "      <th>TDL规划站号(新)</th>\n",
       "      <th>所属地区</th>\n",
       "      <th>工程参数标识</th>\n",
       "      <th>区县代码</th>\n",
       "      <th>基站编码</th>\n",
       "      <th>VIP基站</th>\n",
       "      <th>入网工程期</th>\n",
       "      <th>...</th>\n",
       "      <th>rsrp_sum</th>\n",
       "      <th>inter_maxrsrp_weak</th>\n",
       "      <th>un_maxrsrp_sum</th>\n",
       "      <th>un_maxrsrp_sample_count</th>\n",
       "      <th>un_maxrsrp_weak</th>\n",
       "      <th>te_maxrsrp_weak</th>\n",
       "      <th>te_maxrsrp_sample_count</th>\n",
       "      <th>te_maxrsrp_sum</th>\n",
       "      <th>te_maxrsrp_weak_l2</th>\n",
       "      <th>un_maxrsrp_weak_l2</th>\n",
       "    </tr>\n",
       "    <tr>\n",
       "      <th>_merge</th>\n",
       "      <th></th>\n",
       "      <th></th>\n",
       "      <th></th>\n",
       "      <th></th>\n",
       "      <th></th>\n",
       "      <th></th>\n",
       "      <th></th>\n",
       "      <th></th>\n",
       "      <th></th>\n",
       "      <th></th>\n",
       "      <th></th>\n",
       "      <th></th>\n",
       "      <th></th>\n",
       "      <th></th>\n",
       "      <th></th>\n",
       "      <th></th>\n",
       "      <th></th>\n",
       "      <th></th>\n",
       "      <th></th>\n",
       "      <th></th>\n",
       "      <th></th>\n",
       "    </tr>\n",
       "  </thead>\n",
       "  <tbody>\n",
       "    <tr>\n",
       "      <td>left_only</td>\n",
       "      <td>2526</td>\n",
       "      <td>2523</td>\n",
       "      <td>2526</td>\n",
       "      <td>2440</td>\n",
       "      <td>2526</td>\n",
       "      <td>2526</td>\n",
       "      <td>2461</td>\n",
       "      <td>2445</td>\n",
       "      <td>2498</td>\n",
       "      <td>2465</td>\n",
       "      <td>...</td>\n",
       "      <td>0</td>\n",
       "      <td>0</td>\n",
       "      <td>0</td>\n",
       "      <td>0</td>\n",
       "      <td>0</td>\n",
       "      <td>0</td>\n",
       "      <td>0</td>\n",
       "      <td>0</td>\n",
       "      <td>0</td>\n",
       "      <td>0</td>\n",
       "    </tr>\n",
       "    <tr>\n",
       "      <td>right_only</td>\n",
       "      <td>0</td>\n",
       "      <td>0</td>\n",
       "      <td>0</td>\n",
       "      <td>0</td>\n",
       "      <td>0</td>\n",
       "      <td>0</td>\n",
       "      <td>0</td>\n",
       "      <td>0</td>\n",
       "      <td>0</td>\n",
       "      <td>0</td>\n",
       "      <td>...</td>\n",
       "      <td>1</td>\n",
       "      <td>1</td>\n",
       "      <td>1</td>\n",
       "      <td>1</td>\n",
       "      <td>1</td>\n",
       "      <td>1</td>\n",
       "      <td>1</td>\n",
       "      <td>0</td>\n",
       "      <td>1</td>\n",
       "      <td>1</td>\n",
       "    </tr>\n",
       "    <tr>\n",
       "      <td>both</td>\n",
       "      <td>12464</td>\n",
       "      <td>12464</td>\n",
       "      <td>12464</td>\n",
       "      <td>12458</td>\n",
       "      <td>12464</td>\n",
       "      <td>12464</td>\n",
       "      <td>12464</td>\n",
       "      <td>12048</td>\n",
       "      <td>12464</td>\n",
       "      <td>12464</td>\n",
       "      <td>...</td>\n",
       "      <td>12464</td>\n",
       "      <td>12464</td>\n",
       "      <td>1505</td>\n",
       "      <td>12464</td>\n",
       "      <td>12464</td>\n",
       "      <td>12464</td>\n",
       "      <td>12464</td>\n",
       "      <td>840</td>\n",
       "      <td>12464</td>\n",
       "      <td>12464</td>\n",
       "    </tr>\n",
       "  </tbody>\n",
       "</table>\n",
       "<p>3 rows × 77 columns</p>\n",
       "</div>"
      ],
      "text/plain": [
       "            小区CGI(*)  小区中文名  网络制式(TDD/FDD)  TDL规划站号(新)   所属地区  工程参数标识   区县代码  \\\n",
       "_merge                                                                         \n",
       "left_only       2526   2523           2526        2440   2526    2526   2461   \n",
       "right_only         0      0              0           0      0       0      0   \n",
       "both           12464  12464          12464       12458  12464   12464  12464   \n",
       "\n",
       "             基站编码  VIP基站  入网工程期  ...  rsrp_sum  inter_maxrsrp_weak  \\\n",
       "_merge                           ...                                 \n",
       "left_only    2445   2498   2465  ...         0                   0   \n",
       "right_only      0      0      0  ...         1                   1   \n",
       "both        12048  12464  12464  ...     12464               12464   \n",
       "\n",
       "            un_maxrsrp_sum  un_maxrsrp_sample_count  un_maxrsrp_weak  \\\n",
       "_merge                                                                 \n",
       "left_only                0                        0                0   \n",
       "right_only               1                        1                1   \n",
       "both                  1505                    12464            12464   \n",
       "\n",
       "            te_maxrsrp_weak  te_maxrsrp_sample_count  te_maxrsrp_sum  \\\n",
       "_merge                                                                 \n",
       "left_only                 0                        0               0   \n",
       "right_only                1                        1               0   \n",
       "both                  12464                    12464             840   \n",
       "\n",
       "            te_maxrsrp_weak_l2  un_maxrsrp_weak_l2  \n",
       "_merge                                              \n",
       "left_only                    0                   0  \n",
       "right_only                   1                   1  \n",
       "both                     12464               12464  \n",
       "\n",
       "[3 rows x 77 columns]"
      ]
     },
     "execution_count": 34,
     "metadata": {},
     "output_type": "execute_result"
    }
   ],
   "source": [
    "gongcan_use.merge(daat,how='outer',left_on='小区CGI(*)',right_on='eutrancell_cgi',indicator=True).drop_duplicates('小区CGI(*)').groupby('_merge').count()"
   ]
  },
  {
   "cell_type": "code",
   "execution_count": 32,
   "metadata": {},
   "outputs": [],
   "source": [
    "bucai_data_paths = 'G:/1-规划/评估/FDD900评估/3-输出/20191225第四版更新软采数据/软采小区/'"
   ]
  },
  {
   "cell_type": "code",
   "execution_count": 11,
   "metadata": {},
   "outputs": [],
   "source": [
    "data_zong = pd.DataFrame()\n",
    "for name in mytools.othern.file_name_paths(bucai_data_paths):\n",
    "    data_t = pd.read_csv(open(name,encoding='utf8'),sep='\\t')\n",
    "    data_zong = data_zong.append(data_t)"
   ]
  },
  {
   "cell_type": "code",
   "execution_count": 16,
   "metadata": {},
   "outputs": [
    {
     "data": {
      "text/plain": [
       "day            27816\n",
       "grid_id_100    27816\n",
       "_c3            27816\n",
       "_c4            27816\n",
       "_c5            27816\n",
       "_c6            27816\n",
       "_c7            27816\n",
       "dtype: int64"
      ]
     },
     "execution_count": 16,
     "metadata": {},
     "output_type": "execute_result"
    }
   ],
   "source": [
    "data_t.groupby('eutrancell_name').count().sum()"
   ]
  },
  {
   "cell_type": "code",
   "execution_count": 19,
   "metadata": {},
   "outputs": [],
   "source": [
    "data_lose = pd.read_csv(open('g:/1-规划/评估/FDD900评估/3-输出/20191225第四版更新软采数据/缺失小区/缺失小区.csv',encoding='gbk'))"
   ]
  },
  {
   "cell_type": "code",
   "execution_count": 14,
   "metadata": {},
   "outputs": [],
   "source": [
    "data = pd.concat([data_1215,data_1220,data_1223])"
   ]
  },
  {
   "cell_type": "code",
   "execution_count": 15,
   "metadata": {},
   "outputs": [
    {
     "data": {
      "text/plain": [
       "(267294, 16)"
      ]
     },
     "execution_count": 15,
     "metadata": {},
     "output_type": "execute_result"
    }
   ],
   "source": [
    "data.shape"
   ]
  },
  {
   "cell_type": "code",
   "execution_count": 20,
   "metadata": {},
   "outputs": [],
   "source": [
    "data_in = data_lose.merge(data,left_on='小区CGI(*)',right_on='eutrancell_cgi')"
   ]
  },
  {
   "cell_type": "code",
   "execution_count": 22,
   "metadata": {},
   "outputs": [
    {
     "data": {
      "text/plain": [
       "(147, 25)"
      ]
     },
     "execution_count": 22,
     "metadata": {},
     "output_type": "execute_result"
    }
   ],
   "source": [
    "data_in.drop_duplicates('小区CGI(*)').shape"
   ]
  },
  {
   "cell_type": "code",
   "execution_count": 9,
   "metadata": {},
   "outputs": [
    {
     "data": {
      "text/html": [
       "<div>\n",
       "<style scoped>\n",
       "    .dataframe tbody tr th:only-of-type {\n",
       "        vertical-align: middle;\n",
       "    }\n",
       "\n",
       "    .dataframe tbody tr th {\n",
       "        vertical-align: top;\n",
       "    }\n",
       "\n",
       "    .dataframe thead th {\n",
       "        text-align: right;\n",
       "    }\n",
       "</style>\n",
       "<table border=\"1\" class=\"dataframe\">\n",
       "  <thead>\n",
       "    <tr style=\"text-align: right;\">\n",
       "      <th></th>\n",
       "      <th>region_name</th>\n",
       "      <th>eutrancell_cgi</th>\n",
       "      <th>eutrancell_name</th>\n",
       "      <th>rsrp_sample_count</th>\n",
       "      <th>rsrp_weak</th>\n",
       "      <th>rsrp_sum</th>\n",
       "      <th>inter_maxrsrp_weak</th>\n",
       "      <th>un_maxrsrp_sum</th>\n",
       "      <th>un_maxrsrp_sample_count</th>\n",
       "      <th>un_maxrsrp_weak</th>\n",
       "      <th>te_maxrsrp_weak</th>\n",
       "      <th>te_maxrsrp_sample_count</th>\n",
       "      <th>te_maxrsrp_sum</th>\n",
       "      <th>te_maxrsrp_weak_l2</th>\n",
       "      <th>un_maxrsrp_weak_l2</th>\n",
       "    </tr>\n",
       "    <tr>\n",
       "      <th>day</th>\n",
       "      <th></th>\n",
       "      <th></th>\n",
       "      <th></th>\n",
       "      <th></th>\n",
       "      <th></th>\n",
       "      <th></th>\n",
       "      <th></th>\n",
       "      <th></th>\n",
       "      <th></th>\n",
       "      <th></th>\n",
       "      <th></th>\n",
       "      <th></th>\n",
       "      <th></th>\n",
       "      <th></th>\n",
       "      <th></th>\n",
       "    </tr>\n",
       "  </thead>\n",
       "  <tbody>\n",
       "    <tr>\n",
       "      <th>20191215</th>\n",
       "      <td>41691</td>\n",
       "      <td>41691</td>\n",
       "      <td>41687</td>\n",
       "      <td>41691</td>\n",
       "      <td>41691</td>\n",
       "      <td>41691</td>\n",
       "      <td>41691</td>\n",
       "      <td>33816</td>\n",
       "      <td>41691</td>\n",
       "      <td>41691</td>\n",
       "      <td>41691</td>\n",
       "      <td>41691</td>\n",
       "      <td>185</td>\n",
       "      <td>41691</td>\n",
       "      <td>41691</td>\n",
       "    </tr>\n",
       "    <tr>\n",
       "      <th>20191218</th>\n",
       "      <td>50135</td>\n",
       "      <td>50135</td>\n",
       "      <td>50135</td>\n",
       "      <td>50135</td>\n",
       "      <td>50135</td>\n",
       "      <td>50135</td>\n",
       "      <td>50135</td>\n",
       "      <td>1548</td>\n",
       "      <td>50135</td>\n",
       "      <td>50135</td>\n",
       "      <td>50135</td>\n",
       "      <td>50135</td>\n",
       "      <td>285</td>\n",
       "      <td>50135</td>\n",
       "      <td>50135</td>\n",
       "    </tr>\n",
       "    <tr>\n",
       "      <th>20191219</th>\n",
       "      <td>65824</td>\n",
       "      <td>65824</td>\n",
       "      <td>65824</td>\n",
       "      <td>65824</td>\n",
       "      <td>65824</td>\n",
       "      <td>65824</td>\n",
       "      <td>65824</td>\n",
       "      <td>1761</td>\n",
       "      <td>65824</td>\n",
       "      <td>65824</td>\n",
       "      <td>65824</td>\n",
       "      <td>65824</td>\n",
       "      <td>133</td>\n",
       "      <td>65824</td>\n",
       "      <td>65824</td>\n",
       "    </tr>\n",
       "    <tr>\n",
       "      <th>20191220</th>\n",
       "      <td>69419</td>\n",
       "      <td>69419</td>\n",
       "      <td>69419</td>\n",
       "      <td>69419</td>\n",
       "      <td>69419</td>\n",
       "      <td>69419</td>\n",
       "      <td>69419</td>\n",
       "      <td>1507</td>\n",
       "      <td>69419</td>\n",
       "      <td>69419</td>\n",
       "      <td>69419</td>\n",
       "      <td>69419</td>\n",
       "      <td>242</td>\n",
       "      <td>69419</td>\n",
       "      <td>69419</td>\n",
       "    </tr>\n",
       "  </tbody>\n",
       "</table>\n",
       "</div>"
      ],
      "text/plain": [
       "          region_name  eutrancell_cgi  eutrancell_name  rsrp_sample_count  \\\n",
       "day                                                                         \n",
       "20191215        41691           41691            41687              41691   \n",
       "20191218        50135           50135            50135              50135   \n",
       "20191219        65824           65824            65824              65824   \n",
       "20191220        69419           69419            69419              69419   \n",
       "\n",
       "          rsrp_weak  rsrp_sum  inter_maxrsrp_weak  un_maxrsrp_sum  \\\n",
       "day                                                                 \n",
       "20191215      41691     41691               41691           33816   \n",
       "20191218      50135     50135               50135            1548   \n",
       "20191219      65824     65824               65824            1761   \n",
       "20191220      69419     69419               69419            1507   \n",
       "\n",
       "          un_maxrsrp_sample_count  un_maxrsrp_weak  te_maxrsrp_weak  \\\n",
       "day                                                                   \n",
       "20191215                    41691            41691            41691   \n",
       "20191218                    50135            50135            50135   \n",
       "20191219                    65824            65824            65824   \n",
       "20191220                    69419            69419            69419   \n",
       "\n",
       "          te_maxrsrp_sample_count  te_maxrsrp_sum  te_maxrsrp_weak_l2  \\\n",
       "day                                                                     \n",
       "20191215                    41691             185               41691   \n",
       "20191218                    50135             285               50135   \n",
       "20191219                    65824             133               65824   \n",
       "20191220                    69419             242               69419   \n",
       "\n",
       "          un_maxrsrp_weak_l2  \n",
       "day                           \n",
       "20191215               41691  \n",
       "20191218               50135  \n",
       "20191219               65824  \n",
       "20191220               69419  "
      ]
     },
     "execution_count": 9,
     "metadata": {},
     "output_type": "execute_result"
    }
   ],
   "source": [
    "data.groupby('day').count()"
   ]
  }
 ],
 "metadata": {
  "kernelspec": {
   "display_name": "Python 3",
   "language": "python",
   "name": "python3"
  },
  "language_info": {
   "codemirror_mode": {
    "name": "ipython",
    "version": 3
   },
   "file_extension": ".py",
   "mimetype": "text/x-python",
   "name": "python",
   "nbconvert_exporter": "python",
   "pygments_lexer": "ipython3",
   "version": "3.7.3"
  }
 },
 "nbformat": 4,
 "nbformat_minor": 2
}
