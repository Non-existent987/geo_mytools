{
 "cells": [
  {
   "cell_type": "code",
   "execution_count": 8,
   "metadata": {},
   "outputs": [],
   "source": [
    "def file_name_paths(path=r'D:/UP/jingdui/'):\n",
    "                path_collection=[]\n",
    "                for dirpath,dirnames,filenames in os.walk(path):\n",
    "                        for file in filenames:\n",
    "                                fullpath=os.path.join(dirpath,file)\n",
    "                                path_collection.append(fullpath)\n",
    "                return path_collection"
   ]
  },
  {
   "cell_type": "code",
   "execution_count": 9,
   "metadata": {
    "scrolled": false
   },
   "outputs": [
    {
     "ename": "NameError",
     "evalue": "name 'file_to_mysql' is not defined",
     "output_type": "error",
     "traceback": [
      "\u001b[1;31m---------------------------------------------------------------------------\u001b[0m",
      "\u001b[1;31mNameError\u001b[0m                                 Traceback (most recent call last)",
      "\u001b[1;32m<ipython-input-9-c17426e4080b>\u001b[0m in \u001b[0;36m<module>\u001b[1;34m()\u001b[0m\n\u001b[1;32m----> 1\u001b[1;33m \u001b[0mfile_to_mysql\u001b[0m\u001b[1;33m(\u001b[0m\u001b[0mpath\u001b[0m \u001b[1;33m=\u001b[0m \u001b[1;34mr'D:\\up\\jingdui'\u001b[0m\u001b[1;33m,\u001b[0m\u001b[0mtable_name\u001b[0m \u001b[1;33m=\u001b[0m \u001b[1;34m'mro_it '\u001b[0m\u001b[1;33m)\u001b[0m\u001b[1;33m\u001b[0m\u001b[1;33m\u001b[0m\u001b[0m\n\u001b[0m",
      "\u001b[1;31mNameError\u001b[0m: name 'file_to_mysql' is not defined"
     ]
    }
   ],
   "source": [
    "file_to_mysql(path = r'D:\\up\\jingdui',table_name = 'mro_it ')"
   ]
  },
  {
   "cell_type": "code",
   "execution_count": null,
   "metadata": {},
   "outputs": [],
   "source": [
    "def file_to_mysql(path = r'D:/uup/',table_name = 'mro_it ',sep = '\t',encoding = 'utf8'):\n",
    "    '''例子：file_to_mysql(r'D:/uup/','mro_it ')\n",
    "        默认使用分割负sep = '\t',编码方式encoding = 'utf8'\n",
    "        可选',' gbk\n",
    "    '''\n",
    "    files = file_name_paths(path=path)\n",
    "    tablename = table_name\n",
    "    tada_res = '-- ---------\\n'\n",
    "    for i in files:\n",
    "        e=i.replace( '\\\\','/')\n",
    "        data = r'''\n",
    "Load Data LOCAL InFile  \n",
    "'''+\"'\"+e+\"'\"+r'''\n",
    "Into Table mro.`'''+tablename+r'''` \n",
    "character set '''+encoding+r''' Fields Terminated By'''+\"'\"+sep+\"'\"+r''' -- 或者 \",\"\n",
    "optionally enclosed by '\"' \n",
    "Enclosed By '\"' \n",
    "Escaped By '\"' \n",
    "Lines Terminated By '\\n' \n",
    "IGNORE 1 LINES;'''\n",
    "        tada_res = tada_res+\n",
    "        print(data)"
   ]
  },
  {
   "cell_type": "code",
   "execution_count": null,
   "metadata": {},
   "outputs": [],
   "source": [
    "import pymysql\n",
    "import os,sys\n",
    "path=r'D:/uup/'\n",
    "import app.mydef  as md1\n",
    "\n",
    "def paths(path):\n",
    "        path_collection=[]\n",
    "        for dirpath,dirnames,filenames in os.walk(path):\n",
    "                for file in filenames:\n",
    "                        fullpath=os.path.join(dirpath,file)\n",
    "                        path_collection.append(fullpath)\n",
    "        return path_collection\n",
    "\n",
    "def LoadFile2(bbb):#+++++++++++++++++++++++++++++++++++++++++++++++++++++++++++++++++++   utf8 +++++++++++++++++++   '\t' ,\n",
    "    sql =r\"\"\"Load Data LOCAL InFile  '\"\"\"+bbb+r\"\"\"' Into Table mro.`mro_it` character set utf8 Fields Terminated By ',' optionally enclosed by '\"' Enclosed By '\"' Escaped By '\"' Lines Terminated By '\\n' IGNORE 1 LINES;\"\"\"\n",
    "    tt = sql\n",
    "    aa= \"\\n-- 文件\" + bbb +\"\\n\"\n",
    "    return aa+tt\n",
    "def xianshi():\n",
    "    '''mysql -u root -p --local-infile=1'''\n",
    "    nn=[]\n",
    "    kk=[]\n",
    "    kk=paths(path)\n",
    "    for ii in kk:\n",
    "            gg=LoadFile2(ii)\n",
    "            nn.append(gg)\n",
    "    for ss in nn:\n",
    "            print(ss+\"\\n\")\n",
    "    return nn\n",
    "\n",
    "from tkinter import *\n",
    "pp=xianshi()\n",
    "s=''.join(pp)\n",
    "root = Tk()\n",
    "e = Entry(width = 70)\n",
    "e.pack(padx = 60,pady = 60)\n",
    "e.delete(0,END)\n",
    "e.insert(0,s)\n",
    "mainloop()   "
   ]
  },
  {
   "cell_type": "code",
   "execution_count": null,
   "metadata": {},
   "outputs": [],
   "source": []
  }
 ],
 "metadata": {
  "kernelspec": {
   "display_name": "Python 3",
   "language": "python",
   "name": "python3"
  },
  "language_info": {
   "codemirror_mode": {
    "name": "ipython",
    "version": 3
   },
   "file_extension": ".py",
   "mimetype": "text/x-python",
   "name": "python",
   "nbconvert_exporter": "python",
   "pygments_lexer": "ipython3",
   "version": "3.7.3"
  }
 },
 "nbformat": 4,
 "nbformat_minor": 2
}
