{
 "cells": [
  {
   "cell_type": "code",
   "execution_count": 1,
   "metadata": {},
   "outputs": [],
   "source": [
    "import pandas as pd\n",
    "import geopandas as gpd\n",
    "import app.netools as ne\n",
    "nt = ne.NetTools()\n",
    "import app.mydef as my\n",
    "mt = my.MyTools()"
   ]
  },
  {
   "cell_type": "code",
   "execution_count": 2,
   "metadata": {},
   "outputs": [],
   "source": [
    "tu_quxian = gpd.read_file('g:/1-规划/图层/全省县界/全省县界/县界.tab',encoding = 'gbk')"
   ]
  },
  {
   "cell_type": "code",
   "execution_count": 3,
   "metadata": {},
   "outputs": [],
   "source": [
    "con = mt.con()"
   ]
  },
  {
   "cell_type": "code",
   "execution_count": 4,
   "metadata": {},
   "outputs": [],
   "source": [
    "grid_6 = pd.read_sql_table('2019年6月软采栅格数据-合并去重',con = con )"
   ]
  },
  {
   "cell_type": "code",
   "execution_count": 5,
   "metadata": {},
   "outputs": [],
   "source": [
    "grid_6['a.grid_leftbottom_longitude'] =pd.to_numeric(grid_6['a.grid_leftbottom_longitude'])\n",
    "grid_6['a.grid_righttop_longitude'] = pd.to_numeric(grid_6['a.grid_righttop_longitude'])\n",
    "grid_6['a.grid_leftbottom_latitude'] = pd.to_numeric(grid_6['a.grid_leftbottom_latitude'])\n",
    "grid_6['a.grid_righttop_latitude'] = pd.to_numeric(grid_6['a.grid_righttop_latitude'])\n",
    "\n",
    "grid_6['lon'] = (grid_6['a.grid_leftbottom_longitude']+grid_6['a.grid_righttop_longitude'])/2\n",
    "grid_6['lat'] = (grid_6['a.grid_leftbottom_latitude']+grid_6['a.grid_righttop_latitude'])/2"
   ]
  },
  {
   "cell_type": "code",
   "execution_count": 6,
   "metadata": {},
   "outputs": [],
   "source": [
    "gis_grid_6 = nt.add_points(grid_6,coords=['lon','lat','',''])"
   ]
  },
  {
   "cell_type": "code",
   "execution_count": 7,
   "metadata": {},
   "outputs": [],
   "source": [
    "res = gpd.sjoin(tu_quxian,gis_grid_6)"
   ]
  },
  {
   "cell_type": "code",
   "execution_count": 8,
   "metadata": {},
   "outputs": [],
   "source": [
    "res1 = res[[ 'NAME', 'a.grid_id']]\n",
    "res1.columns = [ 'NAME', 'a.grid_id1']"
   ]
  },
  {
   "cell_type": "code",
   "execution_count": 9,
   "metadata": {},
   "outputs": [],
   "source": [
    "res2 = res1.drop_duplicates(subset='a.grid_id1')"
   ]
  },
  {
   "cell_type": "code",
   "execution_count": 10,
   "metadata": {},
   "outputs": [],
   "source": [
    "grin_6_index=grid_6.reset_index()"
   ]
  },
  {
   "cell_type": "code",
   "execution_count": 11,
   "metadata": {
    "scrolled": true
   },
   "outputs": [],
   "source": [
    "res_grid_res=grin_6_index.merge(res2,how='left',left_on ='a.grid_id',right_on = 'a.grid_id1')"
   ]
  },
  {
   "cell_type": "code",
   "execution_count": 12,
   "metadata": {},
   "outputs": [
    {
     "data": {
      "text/html": [
       "<div>\n",
       "<style scoped>\n",
       "    .dataframe tbody tr th:only-of-type {\n",
       "        vertical-align: middle;\n",
       "    }\n",
       "\n",
       "    .dataframe tbody tr th {\n",
       "        vertical-align: top;\n",
       "    }\n",
       "\n",
       "    .dataframe thead th {\n",
       "        text-align: right;\n",
       "    }\n",
       "</style>\n",
       "<table border=\"1\" class=\"dataframe\">\n",
       "  <thead>\n",
       "    <tr style=\"text-align: right;\">\n",
       "      <th></th>\n",
       "      <th>index</th>\n",
       "      <th>a.region_name</th>\n",
       "      <th>a.grid_id</th>\n",
       "      <th>a.grid_leftbottom_longitude</th>\n",
       "      <th>a.grid_leftbottom_latitude</th>\n",
       "      <th>a.grid_lefttop_longitude</th>\n",
       "      <th>a.grid_lefttop_latitude</th>\n",
       "      <th>a.grid_righttop_longitude</th>\n",
       "      <th>a.grid_righttop_latitude</th>\n",
       "      <th>a.grid_rightbottom_longitude</th>\n",
       "      <th>...</th>\n",
       "      <th>a.un_maxrsrp_weak_l2</th>\n",
       "      <th>quxian</th>\n",
       "      <th>hd</th>\n",
       "      <th>yd</th>\n",
       "      <th>lt</th>\n",
       "      <th>dx</th>\n",
       "      <th>lon</th>\n",
       "      <th>lat</th>\n",
       "      <th>NAME</th>\n",
       "      <th>a.grid_id1</th>\n",
       "    </tr>\n",
       "  </thead>\n",
       "  <tbody>\n",
       "    <tr>\n",
       "      <th>0</th>\n",
       "      <td>0</td>\n",
       "      <td>恩施</td>\n",
       "      <td>49RBN-565-946-100</td>\n",
       "      <td>108.481824</td>\n",
       "      <td>29.757754</td>\n",
       "      <td>108.4818016</td>\n",
       "      <td>29.75865582</td>\n",
       "      <td>108.482835</td>\n",
       "      <td>29.758675</td>\n",
       "      <td>108.4828574</td>\n",
       "      <td>...</td>\n",
       "      <td>0\\r</td>\n",
       "      <td>None</td>\n",
       "      <td>None</td>\n",
       "      <td>0</td>\n",
       "      <td>None</td>\n",
       "      <td>None</td>\n",
       "      <td>108.48233</td>\n",
       "      <td>29.758215</td>\n",
       "      <td>利川市</td>\n",
       "      <td>49RBN-565-946-100</td>\n",
       "    </tr>\n",
       "  </tbody>\n",
       "</table>\n",
       "<p>1 rows × 33 columns</p>\n",
       "</div>"
      ],
      "text/plain": [
       "   index a.region_name          a.grid_id  a.grid_leftbottom_longitude  \\\n",
       "0      0            恩施  49RBN-565-946-100                   108.481824   \n",
       "\n",
       "   a.grid_leftbottom_latitude a.grid_lefttop_longitude  \\\n",
       "0                   29.757754              108.4818016   \n",
       "\n",
       "  a.grid_lefttop_latitude  a.grid_righttop_longitude  \\\n",
       "0             29.75865582                 108.482835   \n",
       "\n",
       "   a.grid_righttop_latitude a.grid_rightbottom_longitude        ...          \\\n",
       "0                 29.758675                  108.4828574        ...           \n",
       "\n",
       "  a.un_maxrsrp_weak_l2 quxian    hd yd    lt    dx        lon        lat NAME  \\\n",
       "0                  0\\r   None  None  0  None  None  108.48233  29.758215  利川市   \n",
       "\n",
       "          a.grid_id1  \n",
       "0  49RBN-565-946-100  \n",
       "\n",
       "[1 rows x 33 columns]"
      ]
     },
     "execution_count": 12,
     "metadata": {},
     "output_type": "execute_result"
    }
   ],
   "source": [
    "res_grid_res.head(1)"
   ]
  },
  {
   "cell_type": "code",
   "execution_count": 13,
   "metadata": {},
   "outputs": [],
   "source": [
    "res_res=res_grid_res.drop_duplicates(subset='index')"
   ]
  },
  {
   "cell_type": "code",
   "execution_count": 14,
   "metadata": {},
   "outputs": [],
   "source": [
    "res_res=res_res.reset_index(drop=True)"
   ]
  },
  {
   "cell_type": "code",
   "execution_count": 15,
   "metadata": {},
   "outputs": [
    {
     "data": {
      "text/plain": [
       "Index(['index', 'a.region_name', 'a.grid_id', 'a.grid_leftbottom_longitude',\n",
       "       'a.grid_leftbottom_latitude', 'a.grid_lefttop_longitude',\n",
       "       'a.grid_lefttop_latitude', 'a.grid_righttop_longitude',\n",
       "       'a.grid_righttop_latitude', 'a.grid_rightbottom_longitude',\n",
       "       'a.grid_rightbottom_latitude', 'b.ul_data', 'b.dl_data',\n",
       "       'a.rsrp_sample_count', 'a.rsrp_weak', 'a.inter_maxrsrp_weak',\n",
       "       'a.un_maxrsrp_sum', 'un_count', 'a.un_maxrsrp_weak',\n",
       "       'a.te_maxrsrp_weak', 'a.te_maxrsrp_sample_count', 'a.te_maxrsrp_sum',\n",
       "       'a.te_maxrsrp_weak_l2', 'a.un_maxrsrp_weak_l2', 'quxian', 'hd', 'yd',\n",
       "       'lt', 'dx', 'lon', 'lat', 'NAME', 'a.grid_id1'],\n",
       "      dtype='object')"
      ]
     },
     "execution_count": 15,
     "metadata": {},
     "output_type": "execute_result"
    }
   ],
   "source": [
    "res_res.columns"
   ]
  },
  {
   "cell_type": "code",
   "execution_count": 21,
   "metadata": {},
   "outputs": [],
   "source": [
    "res_res=res_res[[ 'a.region_name', 'a.grid_id', 'a.grid_leftbottom_longitude',\n",
    "       'a.grid_leftbottom_latitude', 'a.grid_lefttop_longitude',\n",
    "       'a.grid_lefttop_latitude', 'a.grid_righttop_longitude',\n",
    "       'a.grid_righttop_latitude', 'a.grid_rightbottom_longitude',\n",
    "       'a.grid_rightbottom_latitude', 'b.ul_data', 'b.dl_data',\n",
    "       'a.rsrp_sample_count', 'a.rsrp_weak', 'a.inter_maxrsrp_weak',\n",
    "       'a.un_maxrsrp_sum', 'un_count', 'a.un_maxrsrp_weak',\n",
    "       'a.te_maxrsrp_weak', 'a.te_maxrsrp_sample_count', 'a.te_maxrsrp_sum',\n",
    "       'a.te_maxrsrp_weak_l2', 'a.un_maxrsrp_weak_l2', 'hd', 'yd',\n",
    "       'lt', 'dx', 'lon', 'lat', 'NAME']]"
   ]
  },
  {
   "cell_type": "code",
   "execution_count": 19,
   "metadata": {},
   "outputs": [],
   "source": [
    "res_res.columns = ['a.region_name', 'a.grid_id', 'a.grid_leftbottom_longitude',\n",
    "       'a.grid_leftbottom_latitude', 'a.grid_lefttop_longitude',\n",
    "       'a.grid_lefttop_latitude', 'a.grid_righttop_longitude',\n",
    "       'a.grid_righttop_latitude', 'a.grid_rightbottom_longitude',\n",
    "       'a.grid_rightbottom_latitude', 'b.ul_data', 'b.dl_data',\n",
    "       'a.rsrp_sample_count', 'a.rsrp_weak', 'a.inter_maxrsrp_weak',\n",
    "       'a.un_maxrsrp_sum', 'un_count', 'a.un_maxrsrp_weak',\n",
    "       'a.te_maxrsrp_weak', 'a.te_maxrsrp_sample_count', 'a.te_maxrsrp_sum',\n",
    "       'a.te_maxrsrp_weak_l2', 'a.un_maxrsrp_weak_l2', 'hd', 'yd',\n",
    "       'lt', 'dx', 'lon', 'lat', '区县']"
   ]
  },
  {
   "cell_type": "code",
   "execution_count": 22,
   "metadata": {},
   "outputs": [
    {
     "name": "stderr",
     "output_type": "stream",
     "text": [
      "C:\\ProgramData\\Anaconda3\\lib\\site-packages\\ipykernel_launcher.py:1: SettingWithCopyWarning: \n",
      "A value is trying to be set on a copy of a slice from a DataFrame.\n",
      "Try using .loc[row_indexer,col_indexer] = value instead\n",
      "\n",
      "See the caveats in the documentation: http://pandas.pydata.org/pandas-docs/stable/indexing.html#indexing-view-versus-copy\n",
      "  \"\"\"Entry point for launching an IPython kernel.\n"
     ]
    }
   ],
   "source": [
    "res_res['a.un_maxrsrp_weak_l2']=res_res['a.un_maxrsrp_weak_l2'].str.replace('\\r','')"
   ]
  },
  {
   "cell_type": "code",
   "execution_count": 23,
   "metadata": {},
   "outputs": [],
   "source": [
    "res_res.to_sql('2019年6月软采栅格数据-合并去重1',con = con ,index=False)"
   ]
  },
  {
   "cell_type": "code",
   "execution_count": 80,
   "metadata": {},
   "outputs": [],
   "source": [
    "groupby_res=res_res.groupby(by ='a.region_name')"
   ]
  },
  {
   "cell_type": "code",
   "execution_count": 82,
   "metadata": {},
   "outputs": [],
   "source": [
    "for name,data in groupby_res:\n",
    "    data.to_csv(name+'.csv',encoding = 'gbk',index=False)"
   ]
  },
  {
   "cell_type": "code",
   "execution_count": 49,
   "metadata": {},
   "outputs": [
    {
     "data": {
      "text/plain": [
       "(2183926, 25)"
      ]
     },
     "execution_count": 49,
     "metadata": {},
     "output_type": "execute_result"
    }
   ],
   "source": [
    "grid_6.shape"
   ]
  },
  {
   "cell_type": "code",
   "execution_count": null,
   "metadata": {},
   "outputs": [],
   "source": []
  },
  {
   "cell_type": "code",
   "execution_count": null,
   "metadata": {},
   "outputs": [],
   "source": []
  }
 ],
 "metadata": {
  "kernelspec": {
   "display_name": "Python 3",
   "language": "python",
   "name": "python3"
  },
  "language_info": {
   "codemirror_mode": {
    "name": "ipython",
    "version": 3
   },
   "file_extension": ".py",
   "mimetype": "text/x-python",
   "name": "python",
   "nbconvert_exporter": "python",
   "pygments_lexer": "ipython3",
   "version": "3.7.3"
  }
 },
 "nbformat": 4,
 "nbformat_minor": 2
}
