{
 "cells": [
  {
   "cell_type": "code",
   "execution_count": 5,
   "metadata": {},
   "outputs": [],
   "source": [
    "import geopandas as gpd\n",
    "import pandas as pd\n",
    "import numpy as np\n",
    "import app.netools as net\n",
    "nt=net.NetTools()\n",
    "import matplotlib.pyplot as plt\n",
    "import app.mydef as md\n",
    "mt = md.MyTools()\n",
    "from shapely.geometry import *\n",
    "import app.main as m"
   ]
  },
  {
   "cell_type": "code",
   "execution_count": 4,
   "metadata": {},
   "outputs": [],
   "source": [
    "mt.pip('mapbox')"
   ]
  },
  {
   "cell_type": "code",
   "execution_count": 109,
   "metadata": {},
   "outputs": [],
   "source": [
    "wuhan_tu = gpd.read_file('g:/1-规划/图层/武汉分公司图层20190109/武汉市区分公司区域图层201804版/武汉市区分公司区域图层201804版/武汉市区分公司区域图层201804版.TAB')"
   ]
  },
  {
   "cell_type": "code",
   "execution_count": 110,
   "metadata": {},
   "outputs": [],
   "source": [
    "wuhan_tu = wuhan_tu.to_crs({'init': 'epsg:4326'}) "
   ]
  },
  {
   "cell_type": "code",
   "execution_count": 57,
   "metadata": {},
   "outputs": [],
   "source": [
    "data = pd.read_csv(open(r'G:/1-规划/图层/栅格/2019年8月/0805/0806grid.csv',encoding = 'gbk'))"
   ]
  },
  {
   "cell_type": "code",
   "execution_count": 58,
   "metadata": {},
   "outputs": [],
   "source": [
    "data['lon'] = (data['a.grid_leftbottom_longitude']+data['a.grid_righttop_longitude'])/2\n",
    "data['lat'] = (data['a.grid_leftbottom_latitude']+data['a.grid_righttop_latitude'])/2"
   ]
  },
  {
   "cell_type": "code",
   "execution_count": 59,
   "metadata": {},
   "outputs": [],
   "source": [
    "data_gis = nt.add_points(data,coords=['lon','lat','',''])"
   ]
  },
  {
   "cell_type": "code",
   "execution_count": 60,
   "metadata": {},
   "outputs": [],
   "source": [
    "data_7734 = pd.read_excel('G:/1-规划/1其他工作输出/20190807数据质检7734/7734经纬度.xlsx',encoding = 'gbk')"
   ]
  },
  {
   "cell_type": "code",
   "execution_count": 61,
   "metadata": {},
   "outputs": [],
   "source": [
    "data_7734_gis = nt.add_buffer_df(data_7734, lon='RRU经度', lat='RRU纬度', buff_col='距离')"
   ]
  },
  {
   "cell_type": "code",
   "execution_count": 104,
   "metadata": {},
   "outputs": [],
   "source": [
    "data_res = gpd.sjoin(data_7734_gis,data_gis)"
   ]
  },
  {
   "cell_type": "code",
   "execution_count": 105,
   "metadata": {},
   "outputs": [],
   "source": [
    "data_res1=data_res.drop_duplicates(subset='a.grid_id',keep='first',inplace=False)"
   ]
  },
  {
   "cell_type": "code",
   "execution_count": 107,
   "metadata": {
    "scrolled": false
   },
   "outputs": [],
   "source": [
    "data_res1.columns = ['cgi1', 'RRU经度1', 'RRU纬度1', '场景1', '距离1', 'geometry', 'index_right1',\n",
    "       'a.region_name', 'a.grid_id', 'a.grid_leftbottom_longitude',\n",
    "       'a.grid_leftbottom_latitude', 'a.grid_lefttop_longitude',\n",
    "       'a.grid_lefttop_latitude', 'a.grid_righttop_longitude',\n",
    "       'a.grid_righttop_latitude', 'a.grid_rightbottom_longitude',\n",
    "       'a.grid_rightbottom_latitude', 'b.ul_data', 'b.dl_data',\n",
    "       'a.rsrp_sample_count', 'a.rsrp_sum', 'a.rsrp_weak', 'a.scrsrp_95',\n",
    "       'a.scrsrp_110_95', 'a.scrsrp_110', 'a.inter_maxrsrp_weak',\n",
    "       'a.un_maxrsrp_sum', 'a.un_maxrsrp_sample_count', 'a.un_maxrsrp_weak',\n",
    "       'a.te_maxrsrp_weak', 'a.te_maxrsrp_sample_count', 'a.te_maxrsrp_sum',\n",
    "       'a.te_maxrsrp_weak_l2', 'a.un_maxrsrp_weak_l2', 'lon', 'lat']"
   ]
  },
  {
   "cell_type": "code",
   "execution_count": 111,
   "metadata": {},
   "outputs": [],
   "source": [
    "data_res2 = gpd.sjoin(wuhan_tu,data_res1)"
   ]
  },
  {
   "cell_type": "code",
   "execution_count": 113,
   "metadata": {},
   "outputs": [],
   "source": [
    "data_res3=data_res2.drop_duplicates(subset='a.grid_id',keep='first',inplace=False)"
   ]
  },
  {
   "cell_type": "code",
   "execution_count": 115,
   "metadata": {},
   "outputs": [
    {
     "name": "stderr",
     "output_type": "stream",
     "text": [
      "G:\\mypy\\app\\netools.py:589: SettingWithCopyWarning: \n",
      "A value is trying to be set on a copy of a slice from a DataFrame.\n",
      "Try using .loc[row_indexer,col_indexer] = value instead\n",
      "\n",
      "See the caveats in the documentation: http://pandas.pydata.org/pandas-docs/stable/indexing.html#indexing-view-versus-copy\n",
      "  df[geometry] = df[coords].apply(add_a_polygon_from_a_grid, axis=1)\n"
     ]
    }
   ],
   "source": [
    "data_res_grid=nt.add_pologons_from_grids(data_res3, \n",
    "                                         coords=['a.grid_leftbottom_longitude', 'a.grid_leftbottom_latitude', 'a.grid_lefttop_longitude', 'a.grid_lefttop_latitude', 'a.grid_righttop_longitude', 'a.grid_righttop_latitude', 'a.grid_rightbottom_longitude', 'a.grid_rightbottom_latitude']\n",
    "                                         , geometry='geometry'\n",
    "                                         , color_col='color'\n",
    "                                         , coverage_limits=(0.7, 0.9)\n",
    "                                         , colors=['ff0000ff', 'ff00ffff', 'ff008000']\n",
    "                                         , check_sample_counts=False, low_sample_counts=0, low_sample_counts_color='white')"
   ]
  },
  {
   "cell_type": "code",
   "execution_count": 116,
   "metadata": {},
   "outputs": [],
   "source": [
    "data_res_grid1 = data_res_grid.merge( data_res, how='inner',on='a.grid_id')"
   ]
  },
  {
   "cell_type": "code",
   "execution_count": 117,
   "metadata": {},
   "outputs": [],
   "source": [
    "data_res_grid2 = data_res_grid1[['a.region_name_x', 'a.grid_id', 'a.rsrp_sample_count_x',\n",
    "       'a.rsrp_weak_x', 'coverage', 'color', 'geometry_x','lon', 'lat']]"
   ]
  },
  {
   "cell_type": "code",
   "execution_count": 118,
   "metadata": {},
   "outputs": [],
   "source": [
    "data_res_grid2.columns = ['a.region_name', 'a.grid_id', 'a.rsrp_sample_count',\n",
    "       'a.rsrp_weak', 'coverage', 'color', 'geometry','lon', 'lat']"
   ]
  },
  {
   "cell_type": "code",
   "execution_count": 119,
   "metadata": {
    "scrolled": true
   },
   "outputs": [],
   "source": [
    "data_res_grid2 = data_res_grid2.set_geometry('geometry')"
   ]
  },
  {
   "cell_type": "code",
   "execution_count": null,
   "metadata": {},
   "outputs": [],
   "source": []
  },
  {
   "cell_type": "code",
   "execution_count": 120,
   "metadata": {},
   "outputs": [],
   "source": [
    "import simplekml\n",
    "import pandas as pd\n",
    "from shapely.geometry import Polygon\n",
    "from geographiclib.geodesic import Geodesic"
   ]
  },
  {
   "cell_type": "code",
   "execution_count": 121,
   "metadata": {},
   "outputs": [],
   "source": [
    "#---------找lod的四个角\n",
    "def _lod_lon_lat(lon=114.198312,lat=30.630697,azimuth=45,azimuth1=225,radius=7000):#^^^^^^^设置视野\n",
    "    res = Geodesic.WGS84.Direct(lat, lon, azimuth, radius)\n",
    "    lon_1= res['lon2']\n",
    "    lat_1= res['lat2']\n",
    "    res1 = Geodesic.WGS84.Direct(lat, lon, azimuth1, radius)\n",
    "    lon_2= res1['lon2']\n",
    "    lat_2= res1['lat2']\n",
    "    return lon_1,lat_1,lon_2,lat_2"
   ]
  },
  {
   "cell_type": "code",
   "execution_count": 122,
   "metadata": {},
   "outputs": [],
   "source": [
    "data_res_grid3 = data_res_grid2.drop_duplicates(subset='a.grid_id',keep='first',inplace=False)"
   ]
  },
  {
   "cell_type": "code",
   "execution_count": 123,
   "metadata": {},
   "outputs": [],
   "source": [
    "row_table = data_res_grid3.copy()"
   ]
  },
  {
   "cell_type": "code",
   "execution_count": 124,
   "metadata": {},
   "outputs": [],
   "source": [
    "id_n = 'a.grid_id'\n",
    "lon_n = 'lon'\n",
    "lat_n = 'lat'\n",
    "yanse = 'color'\n",
    "shiye_n = 7000"
   ]
  },
  {
   "cell_type": "code",
   "execution_count": 125,
   "metadata": {},
   "outputs": [],
   "source": [
    "kml = simplekml.Kml()\n",
    "lod1 = simplekml.Lod(minlodpixels=788, maxlodpixels=-1,minfadeextent=None, maxfadeextent=None)\n",
    "for i in range(len(row_table.index)):\n",
    "    row_1 = row_table.iloc[i,:]\n",
    "    id_n_v,polygon1,lon_yuan,lat_yuan,yanse_yuan = row_1[[id_n,'geometry',lon_n,lat_n,yanse]]\n",
    "    lon_dd,lat_dd,lon1_dd,lat1_dd = _lod_lon_lat(lon=lon_yuan, lat=lat_yuan, radius=shiye_n)\n",
    "    latlonaltbox = simplekml.LatLonAltBox(east =lon_dd ,north=lat_dd ,south=lat1_dd ,west=lon1_dd,\n",
    "                                      minaltitude=None, maxaltitude=None, altitudemode=None)\n",
    "    \n",
    "    pol = kml.newpolygon(name=id_n_v)#,description = biaozhu_r\n",
    "    pol.region.latlonaltbox = latlonaltbox\n",
    "    pol.region.lod = lod1\n",
    "    pol.outerboundaryis =polygon1.exterior.coords# polygon_1 是一个扇区\n",
    "    \n",
    "    colour = yanse_yuan  #^^设置一个颜色\n",
    "    colour_alpha = simplekml.Color.changealphaint(100, colour)#^^^^^将颜色添加透明度0-255\n",
    "    pol.linestyle.color = colour_alpha# 最终线条上色    \n",
    "    pol.polystyle.color = colour_alpha# 最终形状上色\n",
    "kml.save(\"222_扇区图层.kml\")"
   ]
  },
  {
   "cell_type": "code",
   "execution_count": 126,
   "metadata": {},
   "outputs": [
    {
     "name": "stdout",
     "output_type": "stream",
     "text": [
      "ok--------------------------\n",
      "-------\n",
      "\n",
      "-------\n",
      "\n",
      "-------\n",
      "\n",
      "-------\n",
      "\n",
      "-------\n",
      "\n",
      "-------\n",
      "\n"
     ]
    }
   ],
   "source": [
    "print('ok--------------------------\\n-------\\n\\n-------\\n\\n-------\\n\\n-------\\n\\n-------\\n\\n-------\\n')"
   ]
  },
  {
   "cell_type": "code",
   "execution_count": null,
   "metadata": {},
   "outputs": [],
   "source": []
  },
  {
   "cell_type": "code",
   "execution_count": null,
   "metadata": {},
   "outputs": [],
   "source": []
  },
  {
   "cell_type": "code",
   "execution_count": null,
   "metadata": {},
   "outputs": [],
   "source": []
  },
  {
   "cell_type": "code",
   "execution_count": null,
   "metadata": {},
   "outputs": [],
   "source": []
  }
 ],
 "metadata": {
  "kernelspec": {
   "display_name": "Python 3",
   "language": "python",
   "name": "python3"
  },
  "language_info": {
   "codemirror_mode": {
    "name": "ipython",
    "version": 3
   },
   "file_extension": ".py",
   "mimetype": "text/x-python",
   "name": "python",
   "nbconvert_exporter": "python",
   "pygments_lexer": "ipython3",
   "version": "3.7.4"
  }
 },
 "nbformat": 4,
 "nbformat_minor": 2
}
